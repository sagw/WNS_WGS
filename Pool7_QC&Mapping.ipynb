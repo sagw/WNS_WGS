{
 "cells": [
  {
   "cell_type": "code",
   "execution_count": 1,
   "metadata": {
    "collapsed": true
   },
   "outputs": [],
   "source": [
    "!mkdir /local/shared/pinsky_lab/sequencing/hiseq_2017_06_20_SEQ23/"
   ]
  },
  {
   "cell_type": "code",
   "execution_count": null,
   "metadata": {
    "collapsed": true
   },
   "outputs": [],
   "source": [
    "wget -r https://htseq.princeton.edu/tmp/8L2WOKNtxnwDO4k5N/ -P /local/shared/pinsky_lab/sequencing/hiseq_2017_06_20_SEQ23/ --no-check-certificate"
   ]
  },
  {
   "cell_type": "code",
   "execution_count": null,
   "metadata": {
    "collapsed": true
   },
   "outputs": [],
   "source": [
    "scp Pool7_Barcodes2.txt sarahgw@amphiprion.deenr.rutgers.edu:/local/home/sarahgw/WGS/Sequences/Pool7/"
   ]
  },
  {
   "cell_type": "code",
   "execution_count": null,
   "metadata": {
    "collapsed": true
   },
   "outputs": [],
   "source": [
    "mkdir $(awk '{print $1}' /local/home/sarahgw/WGS/Sequences/Pool7/Pool7_Barcodes.txt)"
   ]
  },
  {
   "cell_type": "code",
   "execution_count": 1,
   "metadata": {
    "collapsed": false
   },
   "outputs": [
    {
     "name": "stdout",
     "output_type": "stream",
     "text": [
      "NJ_E_13  NJ_E_16  NJ_E_20  NJ_U_18  VT_U_13  VT_U_17  VT_U_33  VT_U_39\r\n",
      "NJ_E_14  NJ_E_18  NJ_E_21  NJ_U_19  VT_U_14  VT_U_18  VT_U_37  VT_U_40\r\n",
      "NJ_E_15  NJ_E_19  NJ_U_17  VT_U_12  VT_U_15  VT_U_19  VT_U_38\r\n"
     ]
    }
   ],
   "source": [
    "!ls /local/home/sarahgw/WGS/Sequences/Pool7/"
   ]
  },
  {
   "cell_type": "code",
   "execution_count": 2,
   "metadata": {
    "collapsed": true
   },
   "outputs": [],
   "source": [
    "!rmdir /local/home/sarahgw/WGS/Sequences/Pool7/NJ_E_19"
   ]
  },
  {
   "cell_type": "code",
   "execution_count": 3,
   "metadata": {
    "collapsed": true
   },
   "outputs": [],
   "source": [
    "!rmdir /local/home/sarahgw/WGS/Sequences/Pool7/VT_U_13/"
   ]
  },
  {
   "cell_type": "code",
   "execution_count": 4,
   "metadata": {
    "collapsed": true
   },
   "outputs": [],
   "source": [
    "!rmdir /local/home/sarahgw/WGS/Sequences/Pool7/VT_U_18/"
   ]
  },
  {
   "cell_type": "code",
   "execution_count": 5,
   "metadata": {
    "collapsed": true
   },
   "outputs": [],
   "source": [
    "!rmdir /local/home/sarahgw/WGS/Sequences/Pool7/VT_U_38/"
   ]
  },
  {
   "cell_type": "code",
   "execution_count": 6,
   "metadata": {
    "collapsed": true
   },
   "outputs": [],
   "source": [
    "!rmdir /local/home/sarahgw/WGS/Sequences/Pool7/VT_U_39/"
   ]
  },
  {
   "cell_type": "code",
   "execution_count": null,
   "metadata": {
    "collapsed": true
   },
   "outputs": [],
   "source": [
    "for dir in $(ls); do cd $dir; cp /local/shared/pinsky_lab/sequencing/hiseq_2017_06_20_SEQ23/\"$dir\"_Demultiplexed-fastq-fileset-sample-Pool-7-from-flowcell-HM22LBCXY-on-2017-06-20_Read_1_passed_filter.fastq.gz /local/shared/pinsky_lab/sequencing/hiseq_2017_06_20_SEQ23/\"$dir\"_Demultiplexed-fastq-fileset-sample-Pool-7-from-flowcell-HM22LBCXY-on-2017-06-20_Read_4_passed_filter.fastq.gz  . ; cd ..; done"
   ]
  },
  {
   "cell_type": "code",
   "execution_count": null,
   "metadata": {
    "collapsed": true
   },
   "outputs": [],
   "source": [
    "gunzip */*.fastq.gz"
   ]
  },
  {
   "cell_type": "markdown",
   "metadata": {},
   "source": [
    "Run bioinfo pipeline"
   ]
  },
  {
   "cell_type": "code",
   "execution_count": null,
   "metadata": {
    "collapsed": true
   },
   "outputs": [],
   "source": [
    "~/Notebooks/WNS_WGS/Bioinfo_pipeline.sh "
   ]
  }
 ],
 "metadata": {
  "anaconda-cloud": {},
  "kernelspec": {
   "display_name": "Python [conda root]",
   "language": "python",
   "name": "conda-root-py"
  },
  "language_info": {
   "codemirror_mode": {
    "name": "ipython",
    "version": 2
   },
   "file_extension": ".py",
   "mimetype": "text/x-python",
   "name": "python",
   "nbconvert_exporter": "python",
   "pygments_lexer": "ipython2",
   "version": "2.7.12"
  }
 },
 "nbformat": 4,
 "nbformat_minor": 1
}
