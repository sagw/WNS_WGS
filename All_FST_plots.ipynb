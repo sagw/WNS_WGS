{
 "cells": [
  {
   "cell_type": "code",
   "execution_count": 1,
   "metadata": {
    "collapsed": false
   },
   "outputs": [
    {
     "name": "stderr",
     "output_type": "stream",
     "text": [
      "Loading required package: data.table\n",
      "Loading required package: ggplot2\n"
     ]
    }
   ],
   "source": [
    "require(data.table)\n",
    "require(ggplot2)\n",
    "setwd(\"~/WGS/SNPS/All_mylu/fst\")"
   ]
  },
  {
   "cell_type": "code",
   "execution_count": 2,
   "metadata": {
    "collapsed": false
   },
   "outputs": [],
   "source": [
    "NJ=read.table(\"NJ_EU_unfullnose.fst.sw\", header=TRUE, row.names=NULL)"
   ]
  },
  {
   "cell_type": "code",
   "execution_count": 3,
   "metadata": {
    "collapsed": true
   },
   "outputs": [],
   "source": [
    "#NJD=read.table(\"NJ_EUD_un.fst.sw\", header=TRUE, row.names=NULL)"
   ]
  },
  {
   "cell_type": "code",
   "execution_count": 3,
   "metadata": {
    "collapsed": true
   },
   "outputs": [],
   "source": [
    "NY=read.table(\"NY_EU_un.fst.sw\", header=TRUE, row.names=NULL)"
   ]
  },
  {
   "cell_type": "code",
   "execution_count": 4,
   "metadata": {
    "collapsed": false
   },
   "outputs": [],
   "source": [
    "VT=read.table(\"VT_EU_unfullnose.fst.sw\", header=TRUE, row.names=NULL)"
   ]
  },
  {
   "cell_type": "code",
   "execution_count": 5,
   "metadata": {
    "collapsed": true
   },
   "outputs": [],
   "source": [
    "#NJD$row.names=NULL\n",
    "NY$row.names=NULL\n",
    "NJ$row.names=NULL\n",
    "VT$row.names=NULL"
   ]
  },
  {
   "cell_type": "code",
   "execution_count": 6,
   "metadata": {
    "collapsed": false
   },
   "outputs": [],
   "source": [
    "colnames(NY)=c(\"Scaffold\",\"midPos\", \"Nsites\", \"FST\")\n",
    "colnames(NJ)=c(\"Scaffold\",\"midPos\", \"Nsites\", \"FST\")\n",
    "colnames(VT)=c(\"Scaffold\",\"midPos\", \"Nsites\", \"FST\")\n",
    "#colnames(NJD)=c(\"Scaffold\",\"midPos\", \"Nsites\", \"FST\")"
   ]
  },
  {
   "cell_type": "code",
   "execution_count": 7,
   "metadata": {
    "collapsed": true
   },
   "outputs": [],
   "source": [
    "#NJDfull=NJD[NJD$Nsites>=9999,]\n",
    "NJfull=NJ[NJ$Nsites>=9999,]\n",
    "NYfull=NY[NY$Nsites>=9999,]\n",
    "VTfull=VT[VT$Nsites>=9999,]"
   ]
  },
  {
   "cell_type": "code",
   "execution_count": 11,
   "metadata": {
    "collapsed": false
   },
   "outputs": [
    {
     "data": {
      "text/html": [
       "<table>\n",
       "<thead><tr><th></th><th scope=col>Scaffold</th><th scope=col>midPos</th><th scope=col>Nsites</th><th scope=col>FST</th></tr></thead>\n",
       "<tbody>\n",
       "\t<tr><th scope=row>591</th><td>AAPE02057108</td><td>47351       </td><td>10001       </td><td>0.013323    </td></tr>\n",
       "\t<tr><th scope=row>699</th><td>AAPE02057442</td><td>49472       </td><td>10001       </td><td>0.016827    </td></tr>\n",
       "\t<tr><th scope=row>824</th><td>AAPE02057661</td><td>47541       </td><td>10001       </td><td>0.014770    </td></tr>\n",
       "\t<tr><th scope=row>1161</th><td>AAPE02058357</td><td>40784       </td><td>10001       </td><td>0.014785    </td></tr>\n",
       "\t<tr><th scope=row>1395</th><td>AAPE02058873</td><td>15211       </td><td>10001       </td><td>0.015575    </td></tr>\n",
       "\t<tr><th scope=row>1475</th><td>AAPE02059009</td><td> 7159       </td><td> 9999       </td><td>0.014486    </td></tr>\n",
       "</tbody>\n",
       "</table>\n"
      ],
      "text/latex": [
       "\\begin{tabular}{r|llll}\n",
       "  & Scaffold & midPos & Nsites & FST\\\\\n",
       "\\hline\n",
       "\t591 & AAPE02057108 & 47351        & 10001        & 0.013323    \\\\\n",
       "\t699 & AAPE02057442 & 49472        & 10001        & 0.016827    \\\\\n",
       "\t824 & AAPE02057661 & 47541        & 10001        & 0.014770    \\\\\n",
       "\t1161 & AAPE02058357 & 40784        & 10001        & 0.014785    \\\\\n",
       "\t1395 & AAPE02058873 & 15211        & 10001        & 0.015575    \\\\\n",
       "\t1475 & AAPE02059009 &  7159        &  9999        & 0.014486    \\\\\n",
       "\\end{tabular}\n"
      ],
      "text/markdown": [
       "\n",
       "| <!--/--> | Scaffold | midPos | Nsites | FST | \n",
       "|---|---|---|---|---|---|\n",
       "| 591 | AAPE02057108 | 47351        | 10001        | 0.013323     | \n",
       "| 699 | AAPE02057442 | 49472        | 10001        | 0.016827     | \n",
       "| 824 | AAPE02057661 | 47541        | 10001        | 0.014770     | \n",
       "| 1161 | AAPE02058357 | 40784        | 10001        | 0.014785     | \n",
       "| 1395 | AAPE02058873 | 15211        | 10001        | 0.015575     | \n",
       "| 1475 | AAPE02059009 |  7159        |  9999        | 0.014486     | \n",
       "\n",
       "\n"
      ],
      "text/plain": [
       "     Scaffold     midPos Nsites FST     \n",
       "591  AAPE02057108 47351  10001  0.013323\n",
       "699  AAPE02057442 49472  10001  0.016827\n",
       "824  AAPE02057661 47541  10001  0.014770\n",
       "1161 AAPE02058357 40784  10001  0.014785\n",
       "1395 AAPE02058873 15211  10001  0.015575\n",
       "1475 AAPE02059009  7159   9999  0.014486"
      ]
     },
     "metadata": {},
     "output_type": "display_data"
    }
   ],
   "source": [
    "head(VTfull)"
   ]
  },
  {
   "cell_type": "markdown",
   "metadata": {},
   "source": [
    "Full Sliding window plots ordered by scaffold"
   ]
  },
  {
   "cell_type": "code",
   "execution_count": 17,
   "metadata": {
    "collapsed": false
   },
   "outputs": [],
   "source": [
    "plotNJ=ggplot(data=NJfull, aes(x=Scaffold, y=FST))+\n",
    "  geom_point(data=NJfull)+ theme_bw()+theme(axis.text.x=element_blank(), panel.grid.minor = element_blank(), panel.grid.major = element_blank())+ ggtitle(\"NJ\")+theme(plot.title = element_text(hjust = 0.5))"
   ]
  },
  {
   "cell_type": "code",
   "execution_count": 18,
   "metadata": {
    "collapsed": false
   },
   "outputs": [
    {
     "data": {},
     "metadata": {},
     "output_type": "display_data"
    },
    {
     "data": {
      "image/png": "[encoded data removed]",
      "text/plain": [
       "plot without title"
      ]
     },
     "metadata": {},
     "output_type": "display_data"
    }
   ],
   "source": [
    "plotNJ"
   ]
  },
  {
   "cell_type": "code",
   "execution_count": 20,
   "metadata": {
    "collapsed": true
   },
   "outputs": [],
   "source": [
    "plotNY=ggplot(data=NYfull, aes(x=Scaffold, y=FST))+\n",
    "  geom_point(data=NYfull)+ theme_bw()+theme(axis.text.x=element_blank(), panel.grid.minor = element_blank(), panel.grid.major = element_blank())+ ggtitle(\"NY\")+theme(plot.title = element_text(hjust = 0.5))"
   ]
  },
  {
   "cell_type": "code",
   "execution_count": 21,
   "metadata": {
    "collapsed": false
   },
   "outputs": [
    {
     "data": {},
     "metadata": {},
     "output_type": "display_data"
    },
    {
     "data": {
      "image/png": "[encoded data removed]",
      "text/plain": [
       "plot without title"
      ]
     },
     "metadata": {},
     "output_type": "display_data"
    }
   ],
   "source": [
    "plotNY"
   ]
  },
  {
   "cell_type": "code",
   "execution_count": 22,
   "metadata": {
    "collapsed": true
   },
   "outputs": [],
   "source": [
    "plotVT=ggplot(data=VTfull, aes(x=Scaffold, y=FST))+\n",
    "  geom_point(data=VTfull)+ theme_bw()+theme(axis.text.x=element_blank(), panel.grid.minor = element_blank(), panel.grid.major = element_blank())+ ggtitle(\"VT\")+theme(plot.title = element_text(hjust = 0.5))"
   ]
  },
  {
   "cell_type": "code",
   "execution_count": 23,
   "metadata": {
    "collapsed": false
   },
   "outputs": [
    {
     "data": {},
     "metadata": {},
     "output_type": "display_data"
    },
    {
     "data": {
      "image/png": "[encoded data removed]",
      "text/plain": [
       "plot without title"
      ]
     },
     "metadata": {},
     "output_type": "display_data"
    }
   ],
   "source": [
    "plotVT"
   ]
  },
  {
   "cell_type": "code",
   "execution_count": 24,
   "metadata": {
    "collapsed": false,
    "scrolled": false
   },
   "outputs": [
    {
     "ename": "ERROR",
     "evalue": "Error in eval(expr, envir, enclos): object 'NJDfull' not found\n",
     "output_type": "error",
     "traceback": [
      "Error in eval(expr, envir, enclos): object 'NJDfull' not found\nTraceback:\n"
     ]
    }
   ],
   "source": [
    "NJDhigh=NJDfull[NJDfull$FST>0.22,]\n",
    "print(NJDhigh)"
   ]
  },
  {
   "cell_type": "code",
   "execution_count": 8,
   "metadata": {
    "collapsed": true
   },
   "outputs": [],
   "source": [
    "SNPs=read.csv(\"../snps/Candidate_SNPs_NJNYVT.csv\")"
   ]
  },
  {
   "cell_type": "code",
   "execution_count": 14,
   "metadata": {
    "collapsed": false
   },
   "outputs": [
    {
     "data": {
      "text/html": [
       "<table>\n",
       "<thead><tr><th scope=col>X</th><th scope=col>Scaffold</th><th scope=col>Position</th><th scope=col>V1_NJ</th><th scope=col>Major_NJ</th><th scope=col>Minor_NJ</th><th scope=col>Maf_NJE</th><th scope=col>nInd_NJE</th><th scope=col>Maf_NJU</th><th scope=col>nInd_NJU</th><th scope=col>⋯</th><th scope=col>diff_NY</th><th scope=col>V1_VT</th><th scope=col>Major_VT</th><th scope=col>Minor_VT</th><th scope=col>Maf_VTE</th><th scope=col>nInd_VTE</th><th scope=col>Maf_VTU</th><th scope=col>nInd_VTU</th><th scope=col>absdiff_VT</th><th scope=col>diff_VT</th></tr></thead>\n",
       "<tbody>\n",
       "\t<tr><td> 1      </td><td>GL429793</td><td>3619488 </td><td>23553109</td><td>T       </td><td>G       </td><td>0.528162</td><td>15      </td><td>0.022021</td><td>13      </td><td>⋯       </td><td>0.519980</td><td>24024982</td><td>T       </td><td>G       </td><td>0.829730</td><td>12      </td><td>0.259297</td><td>15      </td><td>0.570433</td><td>0.570433</td></tr>\n",
       "\t<tr><td> 2      </td><td>GL429805</td><td>5255331 </td><td>27651836</td><td>T       </td><td>C       </td><td>0.504441</td><td>13      </td><td>0.000002</td><td>12      </td><td>⋯       </td><td>0.627868</td><td>28143270</td><td>T       </td><td>C       </td><td>0.680912</td><td>12      </td><td>0.065294</td><td>14      </td><td>0.615618</td><td>0.615618</td></tr>\n",
       "\t<tr><td> 3      </td><td>GL429830</td><td>4776068 </td><td>37532366</td><td>A       </td><td>G       </td><td>0.570499</td><td>14      </td><td>0.000001</td><td> 9      </td><td>⋯       </td><td>0.599434</td><td>38076385</td><td>A       </td><td>G       </td><td>0.704484</td><td>12      </td><td>0.100085</td><td> 9      </td><td>0.604399</td><td>0.604399</td></tr>\n",
       "\t<tr><td> 4      </td><td>GL429833</td><td>4827830 </td><td>38514504</td><td>A       </td><td>G       </td><td>0.527892</td><td>14      </td><td>0.000004</td><td>11      </td><td>⋯       </td><td>0.622024</td><td>39063519</td><td>A       </td><td>G       </td><td>0.648989</td><td>15      </td><td>0.113387</td><td>14      </td><td>0.535602</td><td>0.535602</td></tr>\n",
       "\t<tr><td> 5      </td><td>GL429835</td><td>4132453 </td><td>39057412</td><td>G       </td><td>A       </td><td>0.594808</td><td>14      </td><td>0.000002</td><td>11      </td><td>⋯       </td><td>0.504513</td><td>39609333</td><td>G       </td><td>A       </td><td>0.689984</td><td>11      </td><td>0.186496</td><td>12      </td><td>0.503488</td><td>0.503488</td></tr>\n",
       "\t<tr><td> 6      </td><td>GL429848</td><td>4054536 </td><td>42122468</td><td>T       </td><td>A       </td><td>0.584434</td><td>16      </td><td>0.000002</td><td> 7      </td><td>⋯       </td><td>0.638618</td><td>42682553</td><td>T       </td><td>A       </td><td>0.540499</td><td>14      </td><td>0.040327</td><td>12      </td><td>0.500172</td><td>0.500172</td></tr>\n",
       "\t<tr><td> 7      </td><td>GL429859</td><td>3284246 </td><td>45512039</td><td>C       </td><td>T       </td><td>0.521609</td><td>12      </td><td>0.000005</td><td>12      </td><td>⋯       </td><td>0.534436</td><td>46090713</td><td>C       </td><td>T       </td><td>0.700524</td><td>13      </td><td>0.187096</td><td>13      </td><td>0.513428</td><td>0.513428</td></tr>\n",
       "\t<tr><td> 8      </td><td>GL429941</td><td>1539533 </td><td>59279424</td><td>G       </td><td>A       </td><td>0.509509</td><td>14      </td><td>0.000002</td><td>13      </td><td>⋯       </td><td>0.537091</td><td>59920934</td><td>G       </td><td>A       </td><td>0.709405</td><td>15      </td><td>0.199098</td><td>15      </td><td>0.510307</td><td>0.510307</td></tr>\n",
       "\t<tr><td> 9      </td><td>GL430044</td><td> 240397 </td><td>70273733</td><td>C       </td><td>G       </td><td>0.621718</td><td>13      </td><td>0.000004</td><td>14      </td><td>⋯       </td><td>0.519343</td><td>70962476</td><td>C       </td><td>G       </td><td>0.626596</td><td>15      </td><td>0.049824</td><td>15      </td><td>0.576772</td><td>0.576772</td></tr>\n",
       "\t<tr><td>10      </td><td>GL430199</td><td> 598814 </td><td>77485214</td><td>G       </td><td>A       </td><td>0.514167</td><td>16      </td><td>0.000004</td><td>13      </td><td>⋯       </td><td>0.517220</td><td>78211573</td><td>G       </td><td>A       </td><td>0.654467</td><td>17      </td><td>0.048683</td><td>14      </td><td>0.605784</td><td>0.605784</td></tr>\n",
       "</tbody>\n",
       "</table>\n"
      ],
      "text/latex": [
       "\\begin{tabular}{r|llllllllllllllllllllllllllllll}\n",
       " X & Scaffold & Position & V1\\_NJ & Major\\_NJ & Minor\\_NJ & Maf\\_NJE & nInd\\_NJE & Maf\\_NJU & nInd\\_NJU & ⋯ & diff\\_NY & V1\\_VT & Major\\_VT & Minor\\_VT & Maf\\_VTE & nInd\\_VTE & Maf\\_VTU & nInd\\_VTU & absdiff\\_VT & diff\\_VT\\\\\n",
       "\\hline\n",
       "\t  1       & GL429793 & 3619488  & 23553109 & T        & G        & 0.528162 & 15       & 0.022021 & 13       & ⋯        & 0.519980 & 24024982 & T        & G        & 0.829730 & 12       & 0.259297 & 15       & 0.570433 & 0.570433\\\\\n",
       "\t  2       & GL429805 & 5255331  & 27651836 & T        & C        & 0.504441 & 13       & 0.000002 & 12       & ⋯        & 0.627868 & 28143270 & T        & C        & 0.680912 & 12       & 0.065294 & 14       & 0.615618 & 0.615618\\\\\n",
       "\t  3       & GL429830 & 4776068  & 37532366 & A        & G        & 0.570499 & 14       & 0.000001 &  9       & ⋯        & 0.599434 & 38076385 & A        & G        & 0.704484 & 12       & 0.100085 &  9       & 0.604399 & 0.604399\\\\\n",
       "\t  4       & GL429833 & 4827830  & 38514504 & A        & G        & 0.527892 & 14       & 0.000004 & 11       & ⋯        & 0.622024 & 39063519 & A        & G        & 0.648989 & 15       & 0.113387 & 14       & 0.535602 & 0.535602\\\\\n",
       "\t  5       & GL429835 & 4132453  & 39057412 & G        & A        & 0.594808 & 14       & 0.000002 & 11       & ⋯        & 0.504513 & 39609333 & G        & A        & 0.689984 & 11       & 0.186496 & 12       & 0.503488 & 0.503488\\\\\n",
       "\t  6       & GL429848 & 4054536  & 42122468 & T        & A        & 0.584434 & 16       & 0.000002 &  7       & ⋯        & 0.638618 & 42682553 & T        & A        & 0.540499 & 14       & 0.040327 & 12       & 0.500172 & 0.500172\\\\\n",
       "\t  7       & GL429859 & 3284246  & 45512039 & C        & T        & 0.521609 & 12       & 0.000005 & 12       & ⋯        & 0.534436 & 46090713 & C        & T        & 0.700524 & 13       & 0.187096 & 13       & 0.513428 & 0.513428\\\\\n",
       "\t  8       & GL429941 & 1539533  & 59279424 & G        & A        & 0.509509 & 14       & 0.000002 & 13       & ⋯        & 0.537091 & 59920934 & G        & A        & 0.709405 & 15       & 0.199098 & 15       & 0.510307 & 0.510307\\\\\n",
       "\t  9       & GL430044 &  240397  & 70273733 & C        & G        & 0.621718 & 13       & 0.000004 & 14       & ⋯        & 0.519343 & 70962476 & C        & G        & 0.626596 & 15       & 0.049824 & 15       & 0.576772 & 0.576772\\\\\n",
       "\t 10       & GL430199 &  598814  & 77485214 & G        & A        & 0.514167 & 16       & 0.000004 & 13       & ⋯        & 0.517220 & 78211573 & G        & A        & 0.654467 & 17       & 0.048683 & 14       & 0.605784 & 0.605784\\\\\n",
       "\\end{tabular}\n"
      ],
      "text/markdown": [
       "\n",
       "X | Scaffold | Position | V1_NJ | Major_NJ | Minor_NJ | Maf_NJE | nInd_NJE | Maf_NJU | nInd_NJU | ⋯ | diff_NY | V1_VT | Major_VT | Minor_VT | Maf_VTE | nInd_VTE | Maf_VTU | nInd_VTU | absdiff_VT | diff_VT | \n",
       "|---|---|---|---|---|---|---|---|---|---|\n",
       "|  1       | GL429793 | 3619488  | 23553109 | T        | G        | 0.528162 | 15       | 0.022021 | 13       | ⋯        | 0.519980 | 24024982 | T        | G        | 0.829730 | 12       | 0.259297 | 15       | 0.570433 | 0.570433 | \n",
       "|  2       | GL429805 | 5255331  | 27651836 | T        | C        | 0.504441 | 13       | 0.000002 | 12       | ⋯        | 0.627868 | 28143270 | T        | C        | 0.680912 | 12       | 0.065294 | 14       | 0.615618 | 0.615618 | \n",
       "|  3       | GL429830 | 4776068  | 37532366 | A        | G        | 0.570499 | 14       | 0.000001 |  9       | ⋯        | 0.599434 | 38076385 | A        | G        | 0.704484 | 12       | 0.100085 |  9       | 0.604399 | 0.604399 | \n",
       "|  4       | GL429833 | 4827830  | 38514504 | A        | G        | 0.527892 | 14       | 0.000004 | 11       | ⋯        | 0.622024 | 39063519 | A        | G        | 0.648989 | 15       | 0.113387 | 14       | 0.535602 | 0.535602 | \n",
       "|  5       | GL429835 | 4132453  | 39057412 | G        | A        | 0.594808 | 14       | 0.000002 | 11       | ⋯        | 0.504513 | 39609333 | G        | A        | 0.689984 | 11       | 0.186496 | 12       | 0.503488 | 0.503488 | \n",
       "|  6       | GL429848 | 4054536  | 42122468 | T        | A        | 0.584434 | 16       | 0.000002 |  7       | ⋯        | 0.638618 | 42682553 | T        | A        | 0.540499 | 14       | 0.040327 | 12       | 0.500172 | 0.500172 | \n",
       "|  7       | GL429859 | 3284246  | 45512039 | C        | T        | 0.521609 | 12       | 0.000005 | 12       | ⋯        | 0.534436 | 46090713 | C        | T        | 0.700524 | 13       | 0.187096 | 13       | 0.513428 | 0.513428 | \n",
       "|  8       | GL429941 | 1539533  | 59279424 | G        | A        | 0.509509 | 14       | 0.000002 | 13       | ⋯        | 0.537091 | 59920934 | G        | A        | 0.709405 | 15       | 0.199098 | 15       | 0.510307 | 0.510307 | \n",
       "|  9       | GL430044 |  240397  | 70273733 | C        | G        | 0.621718 | 13       | 0.000004 | 14       | ⋯        | 0.519343 | 70962476 | C        | G        | 0.626596 | 15       | 0.049824 | 15       | 0.576772 | 0.576772 | \n",
       "| 10       | GL430199 |  598814  | 77485214 | G        | A        | 0.514167 | 16       | 0.000004 | 13       | ⋯        | 0.517220 | 78211573 | G        | A        | 0.654467 | 17       | 0.048683 | 14       | 0.605784 | 0.605784 | \n",
       "\n",
       "\n"
      ],
      "text/plain": [
       "   X  Scaffold Position V1_NJ    Major_NJ Minor_NJ Maf_NJE  nInd_NJE Maf_NJU \n",
       "1   1 GL429793 3619488  23553109 T        G        0.528162 15       0.022021\n",
       "2   2 GL429805 5255331  27651836 T        C        0.504441 13       0.000002\n",
       "3   3 GL429830 4776068  37532366 A        G        0.570499 14       0.000001\n",
       "4   4 GL429833 4827830  38514504 A        G        0.527892 14       0.000004\n",
       "5   5 GL429835 4132453  39057412 G        A        0.594808 14       0.000002\n",
       "6   6 GL429848 4054536  42122468 T        A        0.584434 16       0.000002\n",
       "7   7 GL429859 3284246  45512039 C        T        0.521609 12       0.000005\n",
       "8   8 GL429941 1539533  59279424 G        A        0.509509 14       0.000002\n",
       "9   9 GL430044  240397  70273733 C        G        0.621718 13       0.000004\n",
       "10 10 GL430199  598814  77485214 G        A        0.514167 16       0.000004\n",
       "   nInd_NJU ⋯ diff_NY  V1_VT    Major_VT Minor_VT Maf_VTE  nInd_VTE Maf_VTU \n",
       "1  13       ⋯ 0.519980 24024982 T        G        0.829730 12       0.259297\n",
       "2  12       ⋯ 0.627868 28143270 T        C        0.680912 12       0.065294\n",
       "3   9       ⋯ 0.599434 38076385 A        G        0.704484 12       0.100085\n",
       "4  11       ⋯ 0.622024 39063519 A        G        0.648989 15       0.113387\n",
       "5  11       ⋯ 0.504513 39609333 G        A        0.689984 11       0.186496\n",
       "6   7       ⋯ 0.638618 42682553 T        A        0.540499 14       0.040327\n",
       "7  12       ⋯ 0.534436 46090713 C        T        0.700524 13       0.187096\n",
       "8  13       ⋯ 0.537091 59920934 G        A        0.709405 15       0.199098\n",
       "9  14       ⋯ 0.519343 70962476 C        G        0.626596 15       0.049824\n",
       "10 13       ⋯ 0.517220 78211573 G        A        0.654467 17       0.048683\n",
       "   nInd_VTU absdiff_VT diff_VT \n",
       "1  15       0.570433   0.570433\n",
       "2  14       0.615618   0.615618\n",
       "3   9       0.604399   0.604399\n",
       "4  14       0.535602   0.535602\n",
       "5  12       0.503488   0.503488\n",
       "6  12       0.500172   0.500172\n",
       "7  13       0.513428   0.513428\n",
       "8  15       0.510307   0.510307\n",
       "9  15       0.576772   0.576772\n",
       "10 14       0.605784   0.605784"
      ]
     },
     "metadata": {},
     "output_type": "display_data"
    }
   ],
   "source": [
    "SNPs"
   ]
  },
  {
   "cell_type": "code",
   "execution_count": 47,
   "metadata": {
    "collapsed": false,
    "scrolled": true
   },
   "outputs": [],
   "source": [
    "SNPnames=as.data.frame(cbind(as.character(SNPs$Scaffold), as.numeric(as.character(SNPs$Position))))"
   ]
  },
  {
   "cell_type": "code",
   "execution_count": 48,
   "metadata": {
    "collapsed": false
   },
   "outputs": [],
   "source": [
    "colnames(SNPnames)=c(\"Scaffold\", \"Position\")"
   ]
  },
  {
   "cell_type": "code",
   "execution_count": 61,
   "metadata": {
    "collapsed": false
   },
   "outputs": [],
   "source": [
    "SNPsNYScaf=merge(NY, SNPnames, by='Scaffold') \n",
    "SNPsNJScaf=merge(NJ, SNPnames, by='Scaffold') \n",
    "SNPsVTScaf=merge(VT, SNPnames, by='Scaffold') "
   ]
  },
  {
   "cell_type": "code",
   "execution_count": 62,
   "metadata": {
    "collapsed": false
   },
   "outputs": [],
   "source": [
    "SNPsNJScaf$Position=as.numeric(as.character(SNPsNJScaf$Position))\n",
    "SNPsNYScaf$Position=as.numeric(as.character(SNPsNYScaf$Position))\n",
    "SNPsVTScaf$Position=as.numeric(as.character(SNPsVTScaf$Position))"
   ]
  },
  {
   "cell_type": "code",
   "execution_count": 64,
   "metadata": {
    "collapsed": false,
    "scrolled": true
   },
   "outputs": [
    {
     "data": {
      "text/html": [
       "<table>\n",
       "<thead><tr><th scope=col>Scaffold</th><th scope=col>midPos</th><th scope=col>Nsites</th><th scope=col>FST</th><th scope=col>Position</th></tr></thead>\n",
       "<tbody>\n",
       "\t<tr><td>GL429793</td><td>2439643 </td><td>9703    </td><td>0.015826</td><td>3619488 </td></tr>\n",
       "\t<tr><td>GL429793</td><td>3753643 </td><td>9845    </td><td>0.014219</td><td>3619488 </td></tr>\n",
       "\t<tr><td>GL429793</td><td>3763643 </td><td>9141    </td><td>0.013395</td><td>3619488 </td></tr>\n",
       "\t<tr><td>GL429793</td><td>2443643 </td><td>9687    </td><td>0.014426</td><td>3619488 </td></tr>\n",
       "\t<tr><td>GL429793</td><td>3757643 </td><td>9696    </td><td>0.012795</td><td>3619488 </td></tr>\n",
       "\t<tr><td>GL429793</td><td>3759643 </td><td>9689    </td><td>0.012910</td><td>3619488 </td></tr>\n",
       "\t<tr><td>GL429793</td><td>3751643 </td><td>9608    </td><td>0.015431</td><td>3619488 </td></tr>\n",
       "\t<tr><td>GL429793</td><td>2429643 </td><td>9303    </td><td>0.010233</td><td>3619488 </td></tr>\n",
       "\t<tr><td>GL429793</td><td>2445643 </td><td>9819    </td><td>0.013682</td><td>3619488 </td></tr>\n",
       "\t<tr><td>GL429793</td><td>3755643 </td><td>9914    </td><td>0.013311</td><td>3619488 </td></tr>\n",
       "\t<tr><td>GL429793</td><td>3761643 </td><td>9456    </td><td>0.012972</td><td>3619488 </td></tr>\n",
       "\t<tr><td>GL429793</td><td>2441643 </td><td>9703    </td><td>0.014527</td><td>3619488 </td></tr>\n",
       "\t<tr><td>GL429793</td><td>2431643 </td><td>9303    </td><td>0.011549</td><td>3619488 </td></tr>\n",
       "\t<tr><td>GL429793</td><td>2517643 </td><td>9394    </td><td>0.013345</td><td>3619488 </td></tr>\n",
       "\t<tr><td>GL429793</td><td>2437643 </td><td>9688    </td><td>0.015810</td><td>3619488 </td></tr>\n",
       "\t<tr><td>GL429793</td><td>3749643 </td><td>9668    </td><td>0.016706</td><td>3619488 </td></tr>\n",
       "\t<tr><td>GL429793</td><td>2515643 </td><td>9564    </td><td>0.012764</td><td>3619488 </td></tr>\n",
       "\t<tr><td>GL429793</td><td>3801643 </td><td>9600    </td><td>0.016273</td><td>3619488 </td></tr>\n",
       "\t<tr><td>GL429793</td><td>3773643 </td><td>9707    </td><td>0.012756</td><td>3619488 </td></tr>\n",
       "\t<tr><td>GL429793</td><td>2435643 </td><td>9166    </td><td>0.013649</td><td>3619488 </td></tr>\n",
       "\t<tr><td>GL429793</td><td>3799643 </td><td>9585    </td><td>0.016316</td><td>3619488 </td></tr>\n",
       "\t<tr><td>GL429793</td><td>2491643 </td><td>9808    </td><td>0.012818</td><td>3619488 </td></tr>\n",
       "\t<tr><td>GL429793</td><td>2433643 </td><td>9298    </td><td>0.012387</td><td>3619488 </td></tr>\n",
       "\t<tr><td>GL429793</td><td>2447643 </td><td>9902    </td><td>0.011229</td><td>3619488 </td></tr>\n",
       "\t<tr><td>GL429793</td><td>2513643 </td><td>9726    </td><td>0.012930</td><td>3619488 </td></tr>\n",
       "\t<tr><td>GL429793</td><td>3765643 </td><td>8896    </td><td>0.013637</td><td>3619488 </td></tr>\n",
       "\t<tr><td>GL429793</td><td>2493643 </td><td>9949    </td><td>0.012715</td><td>3619488 </td></tr>\n",
       "\t<tr><td>GL429793</td><td>3771643 </td><td>9392    </td><td>0.012186</td><td>3619488 </td></tr>\n",
       "\t<tr><td>GL429793</td><td>3525643 </td><td>9911    </td><td>0.014056</td><td>3619488 </td></tr>\n",
       "\t<tr><td>GL429793</td><td>3747643 </td><td>9683    </td><td>0.017038</td><td>3619488 </td></tr>\n",
       "\t<tr><td>⋮</td><td>⋮</td><td>⋮</td><td>⋮</td><td>⋮</td></tr>\n",
       "\t<tr><td>GL430199</td><td>837266  </td><td>2573    </td><td>0.014098</td><td>598814  </td></tr>\n",
       "\t<tr><td>GL430199</td><td>111266  </td><td>9562    </td><td>0.014959</td><td>598814  </td></tr>\n",
       "\t<tr><td>GL430199</td><td>113266  </td><td>9769    </td><td>0.015158</td><td>598814  </td></tr>\n",
       "\t<tr><td>GL430199</td><td>115266  </td><td>9794    </td><td>0.015199</td><td>598814  </td></tr>\n",
       "\t<tr><td>GL430199</td><td>117266  </td><td>9693    </td><td>0.014988</td><td>598814  </td></tr>\n",
       "\t<tr><td>GL430199</td><td>119266  </td><td>9648    </td><td>0.015137</td><td>598814  </td></tr>\n",
       "\t<tr><td>GL430199</td><td>121266  </td><td>9799    </td><td>0.015448</td><td>598814  </td></tr>\n",
       "\t<tr><td>GL430199</td><td>123266  </td><td>9800    </td><td>0.014975</td><td>598814  </td></tr>\n",
       "\t<tr><td>GL430199</td><td>125266  </td><td>9752    </td><td>0.014217</td><td>598814  </td></tr>\n",
       "\t<tr><td>GL430199</td><td>127266  </td><td>9853    </td><td>0.013995</td><td>598814  </td></tr>\n",
       "\t<tr><td>GL430199</td><td>129266  </td><td>9898    </td><td>0.012994</td><td>598814  </td></tr>\n",
       "\t<tr><td>GL430199</td><td>131266  </td><td>9572    </td><td>0.012916</td><td>598814  </td></tr>\n",
       "\t<tr><td>GL430199</td><td>133266  </td><td>9572    </td><td>0.013188</td><td>598814  </td></tr>\n",
       "\t<tr><td>GL430199</td><td>135266  </td><td>9580    </td><td>0.013084</td><td>598814  </td></tr>\n",
       "\t<tr><td>GL430199</td><td>137266  </td><td>9580    </td><td>0.013509</td><td>598814  </td></tr>\n",
       "\t<tr><td>GL430199</td><td>139266  </td><td>9580    </td><td>0.013923</td><td>598814  </td></tr>\n",
       "\t<tr><td>GL430199</td><td>141266  </td><td>9898    </td><td>0.013213</td><td>598814  </td></tr>\n",
       "\t<tr><td>GL430199</td><td>143266  </td><td>9850    </td><td>0.014248</td><td>598814  </td></tr>\n",
       "\t<tr><td>GL430199</td><td>145266  </td><td>9945    </td><td>0.014813</td><td>598814  </td></tr>\n",
       "\t<tr><td>GL430199</td><td>147266  </td><td>9944    </td><td>0.014644</td><td>598814  </td></tr>\n",
       "\t<tr><td>GL430199</td><td>149266  </td><td>9911    </td><td>0.015046</td><td>598814  </td></tr>\n",
       "\t<tr><td>GL430199</td><td>151266  </td><td>9919    </td><td>0.015897</td><td>598814  </td></tr>\n",
       "\t<tr><td>GL430199</td><td>153266  </td><td>9751    </td><td>0.015323</td><td>598814  </td></tr>\n",
       "\t<tr><td>GL430199</td><td>155266  </td><td>7929    </td><td>0.015315</td><td>598814  </td></tr>\n",
       "\t<tr><td>GL430199</td><td>157266  </td><td>5930    </td><td>0.015887</td><td>598814  </td></tr>\n",
       "\t<tr><td>GL430199</td><td>159266  </td><td>4171    </td><td>0.015583</td><td>598814  </td></tr>\n",
       "\t<tr><td>GL430199</td><td>161266  </td><td>3159    </td><td>0.014905</td><td>598814  </td></tr>\n",
       "\t<tr><td>GL430199</td><td>163266  </td><td>3367    </td><td>0.014751</td><td>598814  </td></tr>\n",
       "\t<tr><td>GL430199</td><td>165266  </td><td>5114    </td><td>0.014828</td><td>598814  </td></tr>\n",
       "\t<tr><td>GL430199</td><td>167266  </td><td>7114    </td><td>0.014510</td><td>598814  </td></tr>\n",
       "</tbody>\n",
       "</table>\n"
      ],
      "text/latex": [
       "\\begin{tabular}{r|lllll}\n",
       " Scaffold & midPos & Nsites & FST & Position\\\\\n",
       "\\hline\n",
       "\t GL429793 & 2439643  & 9703     & 0.015826 & 3619488 \\\\\n",
       "\t GL429793 & 3753643  & 9845     & 0.014219 & 3619488 \\\\\n",
       "\t GL429793 & 3763643  & 9141     & 0.013395 & 3619488 \\\\\n",
       "\t GL429793 & 2443643  & 9687     & 0.014426 & 3619488 \\\\\n",
       "\t GL429793 & 3757643  & 9696     & 0.012795 & 3619488 \\\\\n",
       "\t GL429793 & 3759643  & 9689     & 0.012910 & 3619488 \\\\\n",
       "\t GL429793 & 3751643  & 9608     & 0.015431 & 3619488 \\\\\n",
       "\t GL429793 & 2429643  & 9303     & 0.010233 & 3619488 \\\\\n",
       "\t GL429793 & 2445643  & 9819     & 0.013682 & 3619488 \\\\\n",
       "\t GL429793 & 3755643  & 9914     & 0.013311 & 3619488 \\\\\n",
       "\t GL429793 & 3761643  & 9456     & 0.012972 & 3619488 \\\\\n",
       "\t GL429793 & 2441643  & 9703     & 0.014527 & 3619488 \\\\\n",
       "\t GL429793 & 2431643  & 9303     & 0.011549 & 3619488 \\\\\n",
       "\t GL429793 & 2517643  & 9394     & 0.013345 & 3619488 \\\\\n",
       "\t GL429793 & 2437643  & 9688     & 0.015810 & 3619488 \\\\\n",
       "\t GL429793 & 3749643  & 9668     & 0.016706 & 3619488 \\\\\n",
       "\t GL429793 & 2515643  & 9564     & 0.012764 & 3619488 \\\\\n",
       "\t GL429793 & 3801643  & 9600     & 0.016273 & 3619488 \\\\\n",
       "\t GL429793 & 3773643  & 9707     & 0.012756 & 3619488 \\\\\n",
       "\t GL429793 & 2435643  & 9166     & 0.013649 & 3619488 \\\\\n",
       "\t GL429793 & 3799643  & 9585     & 0.016316 & 3619488 \\\\\n",
       "\t GL429793 & 2491643  & 9808     & 0.012818 & 3619488 \\\\\n",
       "\t GL429793 & 2433643  & 9298     & 0.012387 & 3619488 \\\\\n",
       "\t GL429793 & 2447643  & 9902     & 0.011229 & 3619488 \\\\\n",
       "\t GL429793 & 2513643  & 9726     & 0.012930 & 3619488 \\\\\n",
       "\t GL429793 & 3765643  & 8896     & 0.013637 & 3619488 \\\\\n",
       "\t GL429793 & 2493643  & 9949     & 0.012715 & 3619488 \\\\\n",
       "\t GL429793 & 3771643  & 9392     & 0.012186 & 3619488 \\\\\n",
       "\t GL429793 & 3525643  & 9911     & 0.014056 & 3619488 \\\\\n",
       "\t GL429793 & 3747643  & 9683     & 0.017038 & 3619488 \\\\\n",
       "\t ⋮ & ⋮ & ⋮ & ⋮ & ⋮\\\\\n",
       "\t GL430199 & 837266   & 2573     & 0.014098 & 598814  \\\\\n",
       "\t GL430199 & 111266   & 9562     & 0.014959 & 598814  \\\\\n",
       "\t GL430199 & 113266   & 9769     & 0.015158 & 598814  \\\\\n",
       "\t GL430199 & 115266   & 9794     & 0.015199 & 598814  \\\\\n",
       "\t GL430199 & 117266   & 9693     & 0.014988 & 598814  \\\\\n",
       "\t GL430199 & 119266   & 9648     & 0.015137 & 598814  \\\\\n",
       "\t GL430199 & 121266   & 9799     & 0.015448 & 598814  \\\\\n",
       "\t GL430199 & 123266   & 9800     & 0.014975 & 598814  \\\\\n",
       "\t GL430199 & 125266   & 9752     & 0.014217 & 598814  \\\\\n",
       "\t GL430199 & 127266   & 9853     & 0.013995 & 598814  \\\\\n",
       "\t GL430199 & 129266   & 9898     & 0.012994 & 598814  \\\\\n",
       "\t GL430199 & 131266   & 9572     & 0.012916 & 598814  \\\\\n",
       "\t GL430199 & 133266   & 9572     & 0.013188 & 598814  \\\\\n",
       "\t GL430199 & 135266   & 9580     & 0.013084 & 598814  \\\\\n",
       "\t GL430199 & 137266   & 9580     & 0.013509 & 598814  \\\\\n",
       "\t GL430199 & 139266   & 9580     & 0.013923 & 598814  \\\\\n",
       "\t GL430199 & 141266   & 9898     & 0.013213 & 598814  \\\\\n",
       "\t GL430199 & 143266   & 9850     & 0.014248 & 598814  \\\\\n",
       "\t GL430199 & 145266   & 9945     & 0.014813 & 598814  \\\\\n",
       "\t GL430199 & 147266   & 9944     & 0.014644 & 598814  \\\\\n",
       "\t GL430199 & 149266   & 9911     & 0.015046 & 598814  \\\\\n",
       "\t GL430199 & 151266   & 9919     & 0.015897 & 598814  \\\\\n",
       "\t GL430199 & 153266   & 9751     & 0.015323 & 598814  \\\\\n",
       "\t GL430199 & 155266   & 7929     & 0.015315 & 598814  \\\\\n",
       "\t GL430199 & 157266   & 5930     & 0.015887 & 598814  \\\\\n",
       "\t GL430199 & 159266   & 4171     & 0.015583 & 598814  \\\\\n",
       "\t GL430199 & 161266   & 3159     & 0.014905 & 598814  \\\\\n",
       "\t GL430199 & 163266   & 3367     & 0.014751 & 598814  \\\\\n",
       "\t GL430199 & 165266   & 5114     & 0.014828 & 598814  \\\\\n",
       "\t GL430199 & 167266   & 7114     & 0.014510 & 598814  \\\\\n",
       "\\end{tabular}\n"
      ],
      "text/markdown": [
       "\n",
       "Scaffold | midPos | Nsites | FST | Position | \n",
       "|---|---|---|---|---|---|---|---|---|---|---|---|---|---|---|---|---|---|---|---|---|---|---|---|---|---|---|---|---|---|---|---|---|---|---|---|---|---|---|---|---|---|---|---|---|---|---|---|---|---|---|---|---|---|---|---|---|---|---|---|---|\n",
       "| GL429793 | 2439643  | 9703     | 0.015826 | 3619488  | \n",
       "| GL429793 | 3753643  | 9845     | 0.014219 | 3619488  | \n",
       "| GL429793 | 3763643  | 9141     | 0.013395 | 3619488  | \n",
       "| GL429793 | 2443643  | 9687     | 0.014426 | 3619488  | \n",
       "| GL429793 | 3757643  | 9696     | 0.012795 | 3619488  | \n",
       "| GL429793 | 3759643  | 9689     | 0.012910 | 3619488  | \n",
       "| GL429793 | 3751643  | 9608     | 0.015431 | 3619488  | \n",
       "| GL429793 | 2429643  | 9303     | 0.010233 | 3619488  | \n",
       "| GL429793 | 2445643  | 9819     | 0.013682 | 3619488  | \n",
       "| GL429793 | 3755643  | 9914     | 0.013311 | 3619488  | \n",
       "| GL429793 | 3761643  | 9456     | 0.012972 | 3619488  | \n",
       "| GL429793 | 2441643  | 9703     | 0.014527 | 3619488  | \n",
       "| GL429793 | 2431643  | 9303     | 0.011549 | 3619488  | \n",
       "| GL429793 | 2517643  | 9394     | 0.013345 | 3619488  | \n",
       "| GL429793 | 2437643  | 9688     | 0.015810 | 3619488  | \n",
       "| GL429793 | 3749643  | 9668     | 0.016706 | 3619488  | \n",
       "| GL429793 | 2515643  | 9564     | 0.012764 | 3619488  | \n",
       "| GL429793 | 3801643  | 9600     | 0.016273 | 3619488  | \n",
       "| GL429793 | 3773643  | 9707     | 0.012756 | 3619488  | \n",
       "| GL429793 | 2435643  | 9166     | 0.013649 | 3619488  | \n",
       "| GL429793 | 3799643  | 9585     | 0.016316 | 3619488  | \n",
       "| GL429793 | 2491643  | 9808     | 0.012818 | 3619488  | \n",
       "| GL429793 | 2433643  | 9298     | 0.012387 | 3619488  | \n",
       "| GL429793 | 2447643  | 9902     | 0.011229 | 3619488  | \n",
       "| GL429793 | 2513643  | 9726     | 0.012930 | 3619488  | \n",
       "| GL429793 | 3765643  | 8896     | 0.013637 | 3619488  | \n",
       "| GL429793 | 2493643  | 9949     | 0.012715 | 3619488  | \n",
       "| GL429793 | 3771643  | 9392     | 0.012186 | 3619488  | \n",
       "| GL429793 | 3525643  | 9911     | 0.014056 | 3619488  | \n",
       "| GL429793 | 3747643  | 9683     | 0.017038 | 3619488  | \n",
       "| ⋮ | ⋮ | ⋮ | ⋮ | ⋮ | \n",
       "| GL430199 | 837266   | 2573     | 0.014098 | 598814   | \n",
       "| GL430199 | 111266   | 9562     | 0.014959 | 598814   | \n",
       "| GL430199 | 113266   | 9769     | 0.015158 | 598814   | \n",
       "| GL430199 | 115266   | 9794     | 0.015199 | 598814   | \n",
       "| GL430199 | 117266   | 9693     | 0.014988 | 598814   | \n",
       "| GL430199 | 119266   | 9648     | 0.015137 | 598814   | \n",
       "| GL430199 | 121266   | 9799     | 0.015448 | 598814   | \n",
       "| GL430199 | 123266   | 9800     | 0.014975 | 598814   | \n",
       "| GL430199 | 125266   | 9752     | 0.014217 | 598814   | \n",
       "| GL430199 | 127266   | 9853     | 0.013995 | 598814   | \n",
       "| GL430199 | 129266   | 9898     | 0.012994 | 598814   | \n",
       "| GL430199 | 131266   | 9572     | 0.012916 | 598814   | \n",
       "| GL430199 | 133266   | 9572     | 0.013188 | 598814   | \n",
       "| GL430199 | 135266   | 9580     | 0.013084 | 598814   | \n",
       "| GL430199 | 137266   | 9580     | 0.013509 | 598814   | \n",
       "| GL430199 | 139266   | 9580     | 0.013923 | 598814   | \n",
       "| GL430199 | 141266   | 9898     | 0.013213 | 598814   | \n",
       "| GL430199 | 143266   | 9850     | 0.014248 | 598814   | \n",
       "| GL430199 | 145266   | 9945     | 0.014813 | 598814   | \n",
       "| GL430199 | 147266   | 9944     | 0.014644 | 598814   | \n",
       "| GL430199 | 149266   | 9911     | 0.015046 | 598814   | \n",
       "| GL430199 | 151266   | 9919     | 0.015897 | 598814   | \n",
       "| GL430199 | 153266   | 9751     | 0.015323 | 598814   | \n",
       "| GL430199 | 155266   | 7929     | 0.015315 | 598814   | \n",
       "| GL430199 | 157266   | 5930     | 0.015887 | 598814   | \n",
       "| GL430199 | 159266   | 4171     | 0.015583 | 598814   | \n",
       "| GL430199 | 161266   | 3159     | 0.014905 | 598814   | \n",
       "| GL430199 | 163266   | 3367     | 0.014751 | 598814   | \n",
       "| GL430199 | 165266   | 5114     | 0.014828 | 598814   | \n",
       "| GL430199 | 167266   | 7114     | 0.014510 | 598814   | \n",
       "\n",
       "\n"
      ],
      "text/plain": [
       "      Scaffold midPos  Nsites FST      Position\n",
       "1     GL429793 2439643 9703   0.015826 3619488 \n",
       "2     GL429793 3753643 9845   0.014219 3619488 \n",
       "3     GL429793 3763643 9141   0.013395 3619488 \n",
       "4     GL429793 2443643 9687   0.014426 3619488 \n",
       "5     GL429793 3757643 9696   0.012795 3619488 \n",
       "6     GL429793 3759643 9689   0.012910 3619488 \n",
       "7     GL429793 3751643 9608   0.015431 3619488 \n",
       "8     GL429793 2429643 9303   0.010233 3619488 \n",
       "9     GL429793 2445643 9819   0.013682 3619488 \n",
       "10    GL429793 3755643 9914   0.013311 3619488 \n",
       "11    GL429793 3761643 9456   0.012972 3619488 \n",
       "12    GL429793 2441643 9703   0.014527 3619488 \n",
       "13    GL429793 2431643 9303   0.011549 3619488 \n",
       "14    GL429793 2517643 9394   0.013345 3619488 \n",
       "15    GL429793 2437643 9688   0.015810 3619488 \n",
       "16    GL429793 3749643 9668   0.016706 3619488 \n",
       "17    GL429793 2515643 9564   0.012764 3619488 \n",
       "18    GL429793 3801643 9600   0.016273 3619488 \n",
       "19    GL429793 3773643 9707   0.012756 3619488 \n",
       "20    GL429793 2435643 9166   0.013649 3619488 \n",
       "21    GL429793 3799643 9585   0.016316 3619488 \n",
       "22    GL429793 2491643 9808   0.012818 3619488 \n",
       "23    GL429793 2433643 9298   0.012387 3619488 \n",
       "24    GL429793 2447643 9902   0.011229 3619488 \n",
       "25    GL429793 2513643 9726   0.012930 3619488 \n",
       "26    GL429793 3765643 8896   0.013637 3619488 \n",
       "27    GL429793 2493643 9949   0.012715 3619488 \n",
       "28    GL429793 3771643 9392   0.012186 3619488 \n",
       "29    GL429793 3525643 9911   0.014056 3619488 \n",
       "30    GL429793 3747643 9683   0.017038 3619488 \n",
       "⋮     ⋮        ⋮       ⋮      ⋮        ⋮       \n",
       "25761 GL430199 837266  2573   0.014098 598814  \n",
       "25762 GL430199 111266  9562   0.014959 598814  \n",
       "25763 GL430199 113266  9769   0.015158 598814  \n",
       "25764 GL430199 115266  9794   0.015199 598814  \n",
       "25765 GL430199 117266  9693   0.014988 598814  \n",
       "25766 GL430199 119266  9648   0.015137 598814  \n",
       "25767 GL430199 121266  9799   0.015448 598814  \n",
       "25768 GL430199 123266  9800   0.014975 598814  \n",
       "25769 GL430199 125266  9752   0.014217 598814  \n",
       "25770 GL430199 127266  9853   0.013995 598814  \n",
       "25771 GL430199 129266  9898   0.012994 598814  \n",
       "25772 GL430199 131266  9572   0.012916 598814  \n",
       "25773 GL430199 133266  9572   0.013188 598814  \n",
       "25774 GL430199 135266  9580   0.013084 598814  \n",
       "25775 GL430199 137266  9580   0.013509 598814  \n",
       "25776 GL430199 139266  9580   0.013923 598814  \n",
       "25777 GL430199 141266  9898   0.013213 598814  \n",
       "25778 GL430199 143266  9850   0.014248 598814  \n",
       "25779 GL430199 145266  9945   0.014813 598814  \n",
       "25780 GL430199 147266  9944   0.014644 598814  \n",
       "25781 GL430199 149266  9911   0.015046 598814  \n",
       "25782 GL430199 151266  9919   0.015897 598814  \n",
       "25783 GL430199 153266  9751   0.015323 598814  \n",
       "25784 GL430199 155266  7929   0.015315 598814  \n",
       "25785 GL430199 157266  5930   0.015887 598814  \n",
       "25786 GL430199 159266  4171   0.015583 598814  \n",
       "25787 GL430199 161266  3159   0.014905 598814  \n",
       "25788 GL430199 163266  3367   0.014751 598814  \n",
       "25789 GL430199 165266  5114   0.014828 598814  \n",
       "25790 GL430199 167266  7114   0.014510 598814  "
      ]
     },
     "metadata": {},
     "output_type": "display_data"
    }
   ],
   "source": [
    "SNPsVTScaf"
   ]
  },
  {
   "cell_type": "code",
   "execution_count": 65,
   "metadata": {
    "collapsed": false
   },
   "outputs": [],
   "source": [
    "SNPsNJFST=SNPsNJScaf[SNPsNJScaf$Position<SNPsNJScaf$midPos+5000& SNPsNJScaf$Position>SNPsNJScaf$midPos-5000,]\n",
    "SNPsNYFST=SNPsNYScaf[SNPsNYScaf$Position<SNPsNYScaf$midPos+5000& SNPsNYScaf$Position>SNPsNYScaf$midPos-5000,]\n",
    "SNPsVTFST=SNPsVTScaf[SNPsVTScaf$Position<SNPsVTScaf$midPos+5000& SNPsVTScaf$Position>SNPsVTScaf$midPos-5000,]"
   ]
  },
  {
   "cell_type": "code",
   "execution_count": 60,
   "metadata": {
    "collapsed": false,
    "scrolled": true
   },
   "outputs": [
    {
     "data": {
      "text/html": [
       "<table>\n",
       "<thead><tr><th></th><th scope=col>Scaffold</th><th scope=col>midPos</th><th scope=col>Nsites</th><th scope=col>FST</th><th scope=col>Position</th></tr></thead>\n",
       "<tbody>\n",
       "\t<tr><th scope=row>430</th><td>GL429793</td><td>3615922 </td><td>9789    </td><td>0.021659</td><td>3619488 </td></tr>\n",
       "\t<tr><th scope=row>431</th><td>GL429793</td><td>3617922 </td><td>9966    </td><td>0.021337</td><td>3619488 </td></tr>\n",
       "\t<tr><th scope=row>432</th><td>GL429793</td><td>3619922 </td><td>9920    </td><td>0.021355</td><td>3619488 </td></tr>\n",
       "\t<tr><th scope=row>433</th><td>GL429793</td><td>3621922 </td><td>9920    </td><td>0.019192</td><td>3619488 </td></tr>\n",
       "\t<tr><th scope=row>434</th><td>GL429793</td><td>3623922 </td><td>9918    </td><td>0.019129</td><td>3619488 </td></tr>\n",
       "\t<tr><th scope=row>8817</th><td>GL429805</td><td>5251312 </td><td>9339    </td><td>0.013515</td><td>5255331 </td></tr>\n",
       "\t<tr><th scope=row>8818</th><td>GL429805</td><td>5253312 </td><td>7339    </td><td>0.013431</td><td>5255331 </td></tr>\n",
       "\t<tr><th scope=row>8819</th><td>GL429805</td><td>5255312 </td><td>5339    </td><td>0.013769</td><td>5255331 </td></tr>\n",
       "\t<tr><th scope=row>9184</th><td>GL429805</td><td>5257312 </td><td>5203    </td><td>0.014798</td><td>5255331 </td></tr>\n",
       "\t<tr><th scope=row>9185</th><td>GL429805</td><td>5259312 </td><td>5194    </td><td>0.015481</td><td>5255331 </td></tr>\n",
       "\t<tr><th scope=row>12352</th><td>GL429830</td><td>4773062 </td><td>9782    </td><td>0.013468</td><td>4776068 </td></tr>\n",
       "\t<tr><th scope=row>12353</th><td>GL429830</td><td>4775062 </td><td>9173    </td><td>0.013179</td><td>4776068 </td></tr>\n",
       "\t<tr><th scope=row>12354</th><td>GL429830</td><td>4777062 </td><td>8972    </td><td>0.012331</td><td>4776068 </td></tr>\n",
       "\t<tr><th scope=row>12355</th><td>GL429830</td><td>4779062 </td><td>8644    </td><td>0.012849</td><td>4776068 </td></tr>\n",
       "\t<tr><th scope=row>12356</th><td>GL429830</td><td>4781062 </td><td>8355    </td><td>0.013223</td><td>4776068 </td></tr>\n",
       "\t<tr><th scope=row>15577</th><td>GL429833</td><td>4826395 </td><td>9904    </td><td>0.017342</td><td>4827830 </td></tr>\n",
       "\t<tr><th scope=row>15578</th><td>GL429833</td><td>4828395 </td><td>9906    </td><td>0.017647</td><td>4827830 </td></tr>\n",
       "\t<tr><th scope=row>15579</th><td>GL429833</td><td>4830395 </td><td>9906    </td><td>0.016447</td><td>4827830 </td></tr>\n",
       "\t<tr><th scope=row>15580</th><td>GL429833</td><td>4832395 </td><td>9926    </td><td>0.015508</td><td>4827830 </td></tr>\n",
       "\t<tr><th scope=row>15604</th><td>GL429833</td><td>4824395 </td><td>9947    </td><td>0.017887</td><td>4827830 </td></tr>\n",
       "\t<tr><th scope=row>18227</th><td>GL429835</td><td>4129001 </td><td>9788    </td><td>0.017085</td><td>4132453 </td></tr>\n",
       "\t<tr><th scope=row>18228</th><td>GL429835</td><td>4131001 </td><td>9062    </td><td>0.016751</td><td>4132453 </td></tr>\n",
       "\t<tr><th scope=row>18229</th><td>GL429835</td><td>4133001 </td><td>9240    </td><td>0.016546</td><td>4132453 </td></tr>\n",
       "\t<tr><th scope=row>18230</th><td>GL429835</td><td>4135001 </td><td>9239    </td><td>0.016298</td><td>4132453 </td></tr>\n",
       "\t<tr><th scope=row>18231</th><td>GL429835</td><td>4137001 </td><td>9239    </td><td>0.014914</td><td>4132453 </td></tr>\n",
       "\t<tr><th scope=row>20446</th><td>GL429848</td><td>4051001 </td><td>9622    </td><td>0.016060</td><td>4054536 </td></tr>\n",
       "\t<tr><th scope=row>20447</th><td>GL429848</td><td>4053001 </td><td>9622    </td><td>0.016685</td><td>4054536 </td></tr>\n",
       "\t<tr><th scope=row>20448</th><td>GL429848</td><td>4055001 </td><td>9719    </td><td>0.017549</td><td>4054536 </td></tr>\n",
       "\t<tr><th scope=row>20449</th><td>GL429848</td><td>4057001 </td><td>9824    </td><td>0.018691</td><td>4054536 </td></tr>\n",
       "\t<tr><th scope=row>20450</th><td>GL429848</td><td>4059001 </td><td>9869    </td><td>0.018817</td><td>4054536 </td></tr>\n",
       "\t<tr><th scope=row>22942</th><td>GL429859</td><td>3279770 </td><td>9623    </td><td>0.015947</td><td>3284246 </td></tr>\n",
       "\t<tr><th scope=row>22943</th><td>GL429859</td><td>3281770 </td><td>9977    </td><td>0.017403</td><td>3284246 </td></tr>\n",
       "\t<tr><th scope=row>22944</th><td>GL429859</td><td>3283770 </td><td>9153    </td><td>0.016773</td><td>3284246 </td></tr>\n",
       "\t<tr><th scope=row>22945</th><td>GL429859</td><td>3285770 </td><td>9153    </td><td>0.016880</td><td>3284246 </td></tr>\n",
       "\t<tr><th scope=row>22946</th><td>GL429859</td><td>3287770 </td><td>9053    </td><td>0.016571</td><td>3284246 </td></tr>\n",
       "\t<tr><th scope=row>23193</th><td>GL429941</td><td>1535501 </td><td>9748    </td><td>0.014346</td><td>1539533 </td></tr>\n",
       "\t<tr><th scope=row>23234</th><td>GL429941</td><td>1537501 </td><td>9885    </td><td>0.013876</td><td>1539533 </td></tr>\n",
       "\t<tr><th scope=row>23235</th><td>GL429941</td><td>1539501 </td><td>9941    </td><td>0.014126</td><td>1539533 </td></tr>\n",
       "\t<tr><th scope=row>23236</th><td>GL429941</td><td>1541501 </td><td>9941    </td><td>0.014012</td><td>1539533 </td></tr>\n",
       "\t<tr><th scope=row>23237</th><td>GL429941</td><td>1543501 </td><td>9933    </td><td>0.014154</td><td>1539533 </td></tr>\n",
       "\t<tr><th scope=row>24884</th><td>GL430044</td><td> 235764 </td><td>9880    </td><td>0.015276</td><td> 240397 </td></tr>\n",
       "\t<tr><th scope=row>24885</th><td>GL430044</td><td> 237764 </td><td>9817    </td><td>0.014384</td><td> 240397 </td></tr>\n",
       "\t<tr><th scope=row>24886</th><td>GL430044</td><td> 239764 </td><td>9817    </td><td>0.014528</td><td> 240397 </td></tr>\n",
       "\t<tr><th scope=row>24887</th><td>GL430044</td><td> 241764 </td><td>9838    </td><td>0.015001</td><td> 240397 </td></tr>\n",
       "\t<tr><th scope=row>24888</th><td>GL430044</td><td> 243764 </td><td>9938    </td><td>0.014690</td><td> 240397 </td></tr>\n",
       "\t<tr><th scope=row>25765</th><td>GL430199</td><td> 595596 </td><td>9388    </td><td>0.016387</td><td> 598814 </td></tr>\n",
       "\t<tr><th scope=row>25766</th><td>GL430199</td><td> 597596 </td><td>9621    </td><td>0.016219</td><td> 598814 </td></tr>\n",
       "\t<tr><th scope=row>25767</th><td>GL430199</td><td> 599596 </td><td>9621    </td><td>0.015673</td><td> 598814 </td></tr>\n",
       "\t<tr><th scope=row>25768</th><td>GL430199</td><td> 601596 </td><td>9523    </td><td>0.015874</td><td> 598814 </td></tr>\n",
       "\t<tr><th scope=row>25769</th><td>GL430199</td><td> 603596 </td><td>9592    </td><td>0.015924</td><td> 598814 </td></tr>\n",
       "</tbody>\n",
       "</table>\n"
      ],
      "text/latex": [
       "\\begin{tabular}{r|lllll}\n",
       "  & Scaffold & midPos & Nsites & FST & Position\\\\\n",
       "\\hline\n",
       "\t430 & GL429793 & 3615922  & 9789     & 0.021659 & 3619488 \\\\\n",
       "\t431 & GL429793 & 3617922  & 9966     & 0.021337 & 3619488 \\\\\n",
       "\t432 & GL429793 & 3619922  & 9920     & 0.021355 & 3619488 \\\\\n",
       "\t433 & GL429793 & 3621922  & 9920     & 0.019192 & 3619488 \\\\\n",
       "\t434 & GL429793 & 3623922  & 9918     & 0.019129 & 3619488 \\\\\n",
       "\t8817 & GL429805 & 5251312  & 9339     & 0.013515 & 5255331 \\\\\n",
       "\t8818 & GL429805 & 5253312  & 7339     & 0.013431 & 5255331 \\\\\n",
       "\t8819 & GL429805 & 5255312  & 5339     & 0.013769 & 5255331 \\\\\n",
       "\t9184 & GL429805 & 5257312  & 5203     & 0.014798 & 5255331 \\\\\n",
       "\t9185 & GL429805 & 5259312  & 5194     & 0.015481 & 5255331 \\\\\n",
       "\t12352 & GL429830 & 4773062  & 9782     & 0.013468 & 4776068 \\\\\n",
       "\t12353 & GL429830 & 4775062  & 9173     & 0.013179 & 4776068 \\\\\n",
       "\t12354 & GL429830 & 4777062  & 8972     & 0.012331 & 4776068 \\\\\n",
       "\t12355 & GL429830 & 4779062  & 8644     & 0.012849 & 4776068 \\\\\n",
       "\t12356 & GL429830 & 4781062  & 8355     & 0.013223 & 4776068 \\\\\n",
       "\t15577 & GL429833 & 4826395  & 9904     & 0.017342 & 4827830 \\\\\n",
       "\t15578 & GL429833 & 4828395  & 9906     & 0.017647 & 4827830 \\\\\n",
       "\t15579 & GL429833 & 4830395  & 9906     & 0.016447 & 4827830 \\\\\n",
       "\t15580 & GL429833 & 4832395  & 9926     & 0.015508 & 4827830 \\\\\n",
       "\t15604 & GL429833 & 4824395  & 9947     & 0.017887 & 4827830 \\\\\n",
       "\t18227 & GL429835 & 4129001  & 9788     & 0.017085 & 4132453 \\\\\n",
       "\t18228 & GL429835 & 4131001  & 9062     & 0.016751 & 4132453 \\\\\n",
       "\t18229 & GL429835 & 4133001  & 9240     & 0.016546 & 4132453 \\\\\n",
       "\t18230 & GL429835 & 4135001  & 9239     & 0.016298 & 4132453 \\\\\n",
       "\t18231 & GL429835 & 4137001  & 9239     & 0.014914 & 4132453 \\\\\n",
       "\t20446 & GL429848 & 4051001  & 9622     & 0.016060 & 4054536 \\\\\n",
       "\t20447 & GL429848 & 4053001  & 9622     & 0.016685 & 4054536 \\\\\n",
       "\t20448 & GL429848 & 4055001  & 9719     & 0.017549 & 4054536 \\\\\n",
       "\t20449 & GL429848 & 4057001  & 9824     & 0.018691 & 4054536 \\\\\n",
       "\t20450 & GL429848 & 4059001  & 9869     & 0.018817 & 4054536 \\\\\n",
       "\t22942 & GL429859 & 3279770  & 9623     & 0.015947 & 3284246 \\\\\n",
       "\t22943 & GL429859 & 3281770  & 9977     & 0.017403 & 3284246 \\\\\n",
       "\t22944 & GL429859 & 3283770  & 9153     & 0.016773 & 3284246 \\\\\n",
       "\t22945 & GL429859 & 3285770  & 9153     & 0.016880 & 3284246 \\\\\n",
       "\t22946 & GL429859 & 3287770  & 9053     & 0.016571 & 3284246 \\\\\n",
       "\t23193 & GL429941 & 1535501  & 9748     & 0.014346 & 1539533 \\\\\n",
       "\t23234 & GL429941 & 1537501  & 9885     & 0.013876 & 1539533 \\\\\n",
       "\t23235 & GL429941 & 1539501  & 9941     & 0.014126 & 1539533 \\\\\n",
       "\t23236 & GL429941 & 1541501  & 9941     & 0.014012 & 1539533 \\\\\n",
       "\t23237 & GL429941 & 1543501  & 9933     & 0.014154 & 1539533 \\\\\n",
       "\t24884 & GL430044 &  235764  & 9880     & 0.015276 &  240397 \\\\\n",
       "\t24885 & GL430044 &  237764  & 9817     & 0.014384 &  240397 \\\\\n",
       "\t24886 & GL430044 &  239764  & 9817     & 0.014528 &  240397 \\\\\n",
       "\t24887 & GL430044 &  241764  & 9838     & 0.015001 &  240397 \\\\\n",
       "\t24888 & GL430044 &  243764  & 9938     & 0.014690 &  240397 \\\\\n",
       "\t25765 & GL430199 &  595596  & 9388     & 0.016387 &  598814 \\\\\n",
       "\t25766 & GL430199 &  597596  & 9621     & 0.016219 &  598814 \\\\\n",
       "\t25767 & GL430199 &  599596  & 9621     & 0.015673 &  598814 \\\\\n",
       "\t25768 & GL430199 &  601596  & 9523     & 0.015874 &  598814 \\\\\n",
       "\t25769 & GL430199 &  603596  & 9592     & 0.015924 &  598814 \\\\\n",
       "\\end{tabular}\n"
      ],
      "text/markdown": [
       "\n",
       "| <!--/--> | Scaffold | midPos | Nsites | FST | Position | \n",
       "|---|---|---|---|---|---|---|---|---|---|---|---|---|---|---|---|---|---|---|---|---|---|---|---|---|---|---|---|---|---|---|---|---|---|---|---|---|---|---|---|---|---|---|---|---|---|---|---|---|---|\n",
       "| 430 | GL429793 | 3615922  | 9789     | 0.021659 | 3619488  | \n",
       "| 431 | GL429793 | 3617922  | 9966     | 0.021337 | 3619488  | \n",
       "| 432 | GL429793 | 3619922  | 9920     | 0.021355 | 3619488  | \n",
       "| 433 | GL429793 | 3621922  | 9920     | 0.019192 | 3619488  | \n",
       "| 434 | GL429793 | 3623922  | 9918     | 0.019129 | 3619488  | \n",
       "| 8817 | GL429805 | 5251312  | 9339     | 0.013515 | 5255331  | \n",
       "| 8818 | GL429805 | 5253312  | 7339     | 0.013431 | 5255331  | \n",
       "| 8819 | GL429805 | 5255312  | 5339     | 0.013769 | 5255331  | \n",
       "| 9184 | GL429805 | 5257312  | 5203     | 0.014798 | 5255331  | \n",
       "| 9185 | GL429805 | 5259312  | 5194     | 0.015481 | 5255331  | \n",
       "| 12352 | GL429830 | 4773062  | 9782     | 0.013468 | 4776068  | \n",
       "| 12353 | GL429830 | 4775062  | 9173     | 0.013179 | 4776068  | \n",
       "| 12354 | GL429830 | 4777062  | 8972     | 0.012331 | 4776068  | \n",
       "| 12355 | GL429830 | 4779062  | 8644     | 0.012849 | 4776068  | \n",
       "| 12356 | GL429830 | 4781062  | 8355     | 0.013223 | 4776068  | \n",
       "| 15577 | GL429833 | 4826395  | 9904     | 0.017342 | 4827830  | \n",
       "| 15578 | GL429833 | 4828395  | 9906     | 0.017647 | 4827830  | \n",
       "| 15579 | GL429833 | 4830395  | 9906     | 0.016447 | 4827830  | \n",
       "| 15580 | GL429833 | 4832395  | 9926     | 0.015508 | 4827830  | \n",
       "| 15604 | GL429833 | 4824395  | 9947     | 0.017887 | 4827830  | \n",
       "| 18227 | GL429835 | 4129001  | 9788     | 0.017085 | 4132453  | \n",
       "| 18228 | GL429835 | 4131001  | 9062     | 0.016751 | 4132453  | \n",
       "| 18229 | GL429835 | 4133001  | 9240     | 0.016546 | 4132453  | \n",
       "| 18230 | GL429835 | 4135001  | 9239     | 0.016298 | 4132453  | \n",
       "| 18231 | GL429835 | 4137001  | 9239     | 0.014914 | 4132453  | \n",
       "| 20446 | GL429848 | 4051001  | 9622     | 0.016060 | 4054536  | \n",
       "| 20447 | GL429848 | 4053001  | 9622     | 0.016685 | 4054536  | \n",
       "| 20448 | GL429848 | 4055001  | 9719     | 0.017549 | 4054536  | \n",
       "| 20449 | GL429848 | 4057001  | 9824     | 0.018691 | 4054536  | \n",
       "| 20450 | GL429848 | 4059001  | 9869     | 0.018817 | 4054536  | \n",
       "| 22942 | GL429859 | 3279770  | 9623     | 0.015947 | 3284246  | \n",
       "| 22943 | GL429859 | 3281770  | 9977     | 0.017403 | 3284246  | \n",
       "| 22944 | GL429859 | 3283770  | 9153     | 0.016773 | 3284246  | \n",
       "| 22945 | GL429859 | 3285770  | 9153     | 0.016880 | 3284246  | \n",
       "| 22946 | GL429859 | 3287770  | 9053     | 0.016571 | 3284246  | \n",
       "| 23193 | GL429941 | 1535501  | 9748     | 0.014346 | 1539533  | \n",
       "| 23234 | GL429941 | 1537501  | 9885     | 0.013876 | 1539533  | \n",
       "| 23235 | GL429941 | 1539501  | 9941     | 0.014126 | 1539533  | \n",
       "| 23236 | GL429941 | 1541501  | 9941     | 0.014012 | 1539533  | \n",
       "| 23237 | GL429941 | 1543501  | 9933     | 0.014154 | 1539533  | \n",
       "| 24884 | GL430044 |  235764  | 9880     | 0.015276 |  240397  | \n",
       "| 24885 | GL430044 |  237764  | 9817     | 0.014384 |  240397  | \n",
       "| 24886 | GL430044 |  239764  | 9817     | 0.014528 |  240397  | \n",
       "| 24887 | GL430044 |  241764  | 9838     | 0.015001 |  240397  | \n",
       "| 24888 | GL430044 |  243764  | 9938     | 0.014690 |  240397  | \n",
       "| 25765 | GL430199 |  595596  | 9388     | 0.016387 |  598814  | \n",
       "| 25766 | GL430199 |  597596  | 9621     | 0.016219 |  598814  | \n",
       "| 25767 | GL430199 |  599596  | 9621     | 0.015673 |  598814  | \n",
       "| 25768 | GL430199 |  601596  | 9523     | 0.015874 |  598814  | \n",
       "| 25769 | GL430199 |  603596  | 9592     | 0.015924 |  598814  | \n",
       "\n",
       "\n"
      ],
      "text/plain": [
       "      Scaffold midPos  Nsites FST      Position\n",
       "430   GL429793 3615922 9789   0.021659 3619488 \n",
       "431   GL429793 3617922 9966   0.021337 3619488 \n",
       "432   GL429793 3619922 9920   0.021355 3619488 \n",
       "433   GL429793 3621922 9920   0.019192 3619488 \n",
       "434   GL429793 3623922 9918   0.019129 3619488 \n",
       "8817  GL429805 5251312 9339   0.013515 5255331 \n",
       "8818  GL429805 5253312 7339   0.013431 5255331 \n",
       "8819  GL429805 5255312 5339   0.013769 5255331 \n",
       "9184  GL429805 5257312 5203   0.014798 5255331 \n",
       "9185  GL429805 5259312 5194   0.015481 5255331 \n",
       "12352 GL429830 4773062 9782   0.013468 4776068 \n",
       "12353 GL429830 4775062 9173   0.013179 4776068 \n",
       "12354 GL429830 4777062 8972   0.012331 4776068 \n",
       "12355 GL429830 4779062 8644   0.012849 4776068 \n",
       "12356 GL429830 4781062 8355   0.013223 4776068 \n",
       "15577 GL429833 4826395 9904   0.017342 4827830 \n",
       "15578 GL429833 4828395 9906   0.017647 4827830 \n",
       "15579 GL429833 4830395 9906   0.016447 4827830 \n",
       "15580 GL429833 4832395 9926   0.015508 4827830 \n",
       "15604 GL429833 4824395 9947   0.017887 4827830 \n",
       "18227 GL429835 4129001 9788   0.017085 4132453 \n",
       "18228 GL429835 4131001 9062   0.016751 4132453 \n",
       "18229 GL429835 4133001 9240   0.016546 4132453 \n",
       "18230 GL429835 4135001 9239   0.016298 4132453 \n",
       "18231 GL429835 4137001 9239   0.014914 4132453 \n",
       "20446 GL429848 4051001 9622   0.016060 4054536 \n",
       "20447 GL429848 4053001 9622   0.016685 4054536 \n",
       "20448 GL429848 4055001 9719   0.017549 4054536 \n",
       "20449 GL429848 4057001 9824   0.018691 4054536 \n",
       "20450 GL429848 4059001 9869   0.018817 4054536 \n",
       "22942 GL429859 3279770 9623   0.015947 3284246 \n",
       "22943 GL429859 3281770 9977   0.017403 3284246 \n",
       "22944 GL429859 3283770 9153   0.016773 3284246 \n",
       "22945 GL429859 3285770 9153   0.016880 3284246 \n",
       "22946 GL429859 3287770 9053   0.016571 3284246 \n",
       "23193 GL429941 1535501 9748   0.014346 1539533 \n",
       "23234 GL429941 1537501 9885   0.013876 1539533 \n",
       "23235 GL429941 1539501 9941   0.014126 1539533 \n",
       "23236 GL429941 1541501 9941   0.014012 1539533 \n",
       "23237 GL429941 1543501 9933   0.014154 1539533 \n",
       "24884 GL430044  235764 9880   0.015276  240397 \n",
       "24885 GL430044  237764 9817   0.014384  240397 \n",
       "24886 GL430044  239764 9817   0.014528  240397 \n",
       "24887 GL430044  241764 9838   0.015001  240397 \n",
       "24888 GL430044  243764 9938   0.014690  240397 \n",
       "25765 GL430199  595596 9388   0.016387  598814 \n",
       "25766 GL430199  597596 9621   0.016219  598814 \n",
       "25767 GL430199  599596 9621   0.015673  598814 \n",
       "25768 GL430199  601596 9523   0.015874  598814 \n",
       "25769 GL430199  603596 9592   0.015924  598814 "
      ]
     },
     "metadata": {},
     "output_type": "display_data"
    }
   ],
   "source": [
    "SNPsNJFST"
   ]
  },
  {
   "cell_type": "code",
   "execution_count": 66,
   "metadata": {
    "collapsed": false
   },
   "outputs": [
    {
     "data": {
      "text/html": [
       "<table>\n",
       "<thead><tr><th></th><th scope=col>Scaffold</th><th scope=col>midPos</th><th scope=col>Nsites</th><th scope=col>FST</th><th scope=col>Position</th></tr></thead>\n",
       "<tbody>\n",
       "\t<tr><th scope=row>18</th><td>GL429793</td><td>3622572 </td><td>9997    </td><td>0.017281</td><td>3619488 </td></tr>\n",
       "\t<tr><th scope=row>43</th><td>GL429793</td><td>3616572 </td><td>9956    </td><td>0.018328</td><td>3619488 </td></tr>\n",
       "\t<tr><th scope=row>44</th><td>GL429793</td><td>3618572 </td><td>9997    </td><td>0.017943</td><td>3619488 </td></tr>\n",
       "\t<tr><th scope=row>45</th><td>GL429793</td><td>3620572 </td><td>9997    </td><td>0.016291</td><td>3619488 </td></tr>\n",
       "\t<tr><th scope=row>85</th><td>GL429793</td><td>3614572 </td><td>9587    </td><td>0.017437</td><td>3619488 </td></tr>\n",
       "\t<tr><th scope=row>8956</th><td>GL429805</td><td>5251868 </td><td>8792    </td><td>0.014108</td><td>5255331 </td></tr>\n",
       "\t<tr><th scope=row>8957</th><td>GL429805</td><td>5253868 </td><td>6826    </td><td>0.014133</td><td>5255331 </td></tr>\n",
       "\t<tr><th scope=row>8958</th><td>GL429805</td><td>5255868 </td><td>5197    </td><td>0.013946</td><td>5255331 </td></tr>\n",
       "\t<tr><th scope=row>9080</th><td>GL429805</td><td>5257868 </td><td>5198    </td><td>0.013677</td><td>5255331 </td></tr>\n",
       "\t<tr><th scope=row>9081</th><td>GL429805</td><td>5259868 </td><td>5198    </td><td>0.015022</td><td>5255331 </td></tr>\n",
       "\t<tr><th scope=row>12363</th><td>GL429830</td><td>4773001 </td><td>9778    </td><td>0.016624</td><td>4776068 </td></tr>\n",
       "\t<tr><th scope=row>12364</th><td>GL429830</td><td>4775001 </td><td>9078    </td><td>0.016270</td><td>4776068 </td></tr>\n",
       "\t<tr><th scope=row>12365</th><td>GL429830</td><td>4777001 </td><td>9077    </td><td>0.015803</td><td>4776068 </td></tr>\n",
       "\t<tr><th scope=row>12366</th><td>GL429830</td><td>4779001 </td><td>8816    </td><td>0.017250</td><td>4776068 </td></tr>\n",
       "\t<tr><th scope=row>12367</th><td>GL429830</td><td>4781001 </td><td>8397    </td><td>0.017609</td><td>4776068 </td></tr>\n",
       "\t<tr><th scope=row>15505</th><td>GL429833</td><td>4823094 </td><td>9963    </td><td>0.018510</td><td>4827830 </td></tr>\n",
       "\t<tr><th scope=row>15508</th><td>GL429833</td><td>4829094 </td><td>9789    </td><td>0.020215</td><td>4827830 </td></tr>\n",
       "\t<tr><th scope=row>15509</th><td>GL429833</td><td>4831094 </td><td>9789    </td><td>0.020102</td><td>4827830 </td></tr>\n",
       "\t<tr><th scope=row>15614</th><td>GL429833</td><td>4825094 </td><td>9938    </td><td>0.019074</td><td>4827830 </td></tr>\n",
       "\t<tr><th scope=row>15615</th><td>GL429833</td><td>4827094 </td><td>9789    </td><td>0.020481</td><td>4827830 </td></tr>\n",
       "\t<tr><th scope=row>18234</th><td>GL429835</td><td>4129001 </td><td>9867    </td><td>0.016851</td><td>4132453 </td></tr>\n",
       "\t<tr><th scope=row>18235</th><td>GL429835</td><td>4131001 </td><td>9108    </td><td>0.017702</td><td>4132453 </td></tr>\n",
       "\t<tr><th scope=row>18236</th><td>GL429835</td><td>4133001 </td><td>9223    </td><td>0.018527</td><td>4132453 </td></tr>\n",
       "\t<tr><th scope=row>18237</th><td>GL429835</td><td>4135001 </td><td>9220    </td><td>0.018255</td><td>4132453 </td></tr>\n",
       "\t<tr><th scope=row>18238</th><td>GL429835</td><td>4137001 </td><td>9203    </td><td>0.018118</td><td>4132453 </td></tr>\n",
       "\t<tr><th scope=row>20330</th><td>GL429848</td><td>4051211 </td><td>8890    </td><td>0.019176</td><td>4054536 </td></tr>\n",
       "\t<tr><th scope=row>20331</th><td>GL429848</td><td>4053211 </td><td>8889    </td><td>0.019800</td><td>4054536 </td></tr>\n",
       "\t<tr><th scope=row>20332</th><td>GL429848</td><td>4055211 </td><td>9556    </td><td>0.019511</td><td>4054536 </td></tr>\n",
       "\t<tr><th scope=row>20333</th><td>GL429848</td><td>4057211 </td><td>9732    </td><td>0.020644</td><td>4054536 </td></tr>\n",
       "\t<tr><th scope=row>20334</th><td>GL429848</td><td>4059211 </td><td>9755    </td><td>0.022180</td><td>4054536 </td></tr>\n",
       "\t<tr><th scope=row>22953</th><td>GL429859</td><td>3279511 </td><td>9195    </td><td>0.018011</td><td>3284246 </td></tr>\n",
       "\t<tr><th scope=row>22954</th><td>GL429859</td><td>3281511 </td><td>9897    </td><td>0.018787</td><td>3284246 </td></tr>\n",
       "\t<tr><th scope=row>22955</th><td>GL429859</td><td>3283511 </td><td>9064    </td><td>0.018144</td><td>3284246 </td></tr>\n",
       "\t<tr><th scope=row>22956</th><td>GL429859</td><td>3285511 </td><td>9064    </td><td>0.020028</td><td>3284246 </td></tr>\n",
       "\t<tr><th scope=row>22957</th><td>GL429859</td><td>3287511 </td><td>9018    </td><td>0.018421</td><td>3284246 </td></tr>\n",
       "\t<tr><th scope=row>23919</th><td>GL429941</td><td>1536461 </td><td>9762    </td><td>0.017520</td><td>1539533 </td></tr>\n",
       "\t<tr><th scope=row>23920</th><td>GL429941</td><td>1538461 </td><td>9947    </td><td>0.017021</td><td>1539533 </td></tr>\n",
       "\t<tr><th scope=row>23921</th><td>GL429941</td><td>1540461 </td><td>9946    </td><td>0.017264</td><td>1539533 </td></tr>\n",
       "\t<tr><th scope=row>23922</th><td>GL429941</td><td>1542461 </td><td>9946    </td><td>0.017081</td><td>1539533 </td></tr>\n",
       "\t<tr><th scope=row>23923</th><td>GL429941</td><td>1544461 </td><td>9939    </td><td>0.017002</td><td>1539533 </td></tr>\n",
       "\t<tr><th scope=row>24724</th><td>GL430044</td><td> 235676 </td><td>9816    </td><td>0.017706</td><td> 240397 </td></tr>\n",
       "\t<tr><th scope=row>24725</th><td>GL430044</td><td> 237676 </td><td>9775    </td><td>0.018708</td><td> 240397 </td></tr>\n",
       "\t<tr><th scope=row>24726</th><td>GL430044</td><td> 239676 </td><td>9855    </td><td>0.019047</td><td> 240397 </td></tr>\n",
       "\t<tr><th scope=row>24727</th><td>GL430044</td><td> 241676 </td><td>9878    </td><td>0.019362</td><td> 240397 </td></tr>\n",
       "\t<tr><th scope=row>24728</th><td>GL430044</td><td> 243676 </td><td>9960    </td><td>0.019501</td><td> 240397 </td></tr>\n",
       "\t<tr><th scope=row>25608</th><td>GL430199</td><td> 595040 </td><td>9179    </td><td>0.016848</td><td> 598814 </td></tr>\n",
       "\t<tr><th scope=row>25609</th><td>GL430199</td><td> 597040 </td><td>9566    </td><td>0.016712</td><td> 598814 </td></tr>\n",
       "\t<tr><th scope=row>25610</th><td>GL430199</td><td> 599040 </td><td>9567    </td><td>0.016609</td><td> 598814 </td></tr>\n",
       "\t<tr><th scope=row>25611</th><td>GL430199</td><td> 601040 </td><td>9573    </td><td>0.016100</td><td> 598814 </td></tr>\n",
       "\t<tr><th scope=row>25612</th><td>GL430199</td><td> 603040 </td><td>9614    </td><td>0.016057</td><td> 598814 </td></tr>\n",
       "</tbody>\n",
       "</table>\n"
      ],
      "text/latex": [
       "\\begin{tabular}{r|lllll}\n",
       "  & Scaffold & midPos & Nsites & FST & Position\\\\\n",
       "\\hline\n",
       "\t18 & GL429793 & 3622572  & 9997     & 0.017281 & 3619488 \\\\\n",
       "\t43 & GL429793 & 3616572  & 9956     & 0.018328 & 3619488 \\\\\n",
       "\t44 & GL429793 & 3618572  & 9997     & 0.017943 & 3619488 \\\\\n",
       "\t45 & GL429793 & 3620572  & 9997     & 0.016291 & 3619488 \\\\\n",
       "\t85 & GL429793 & 3614572  & 9587     & 0.017437 & 3619488 \\\\\n",
       "\t8956 & GL429805 & 5251868  & 8792     & 0.014108 & 5255331 \\\\\n",
       "\t8957 & GL429805 & 5253868  & 6826     & 0.014133 & 5255331 \\\\\n",
       "\t8958 & GL429805 & 5255868  & 5197     & 0.013946 & 5255331 \\\\\n",
       "\t9080 & GL429805 & 5257868  & 5198     & 0.013677 & 5255331 \\\\\n",
       "\t9081 & GL429805 & 5259868  & 5198     & 0.015022 & 5255331 \\\\\n",
       "\t12363 & GL429830 & 4773001  & 9778     & 0.016624 & 4776068 \\\\\n",
       "\t12364 & GL429830 & 4775001  & 9078     & 0.016270 & 4776068 \\\\\n",
       "\t12365 & GL429830 & 4777001  & 9077     & 0.015803 & 4776068 \\\\\n",
       "\t12366 & GL429830 & 4779001  & 8816     & 0.017250 & 4776068 \\\\\n",
       "\t12367 & GL429830 & 4781001  & 8397     & 0.017609 & 4776068 \\\\\n",
       "\t15505 & GL429833 & 4823094  & 9963     & 0.018510 & 4827830 \\\\\n",
       "\t15508 & GL429833 & 4829094  & 9789     & 0.020215 & 4827830 \\\\\n",
       "\t15509 & GL429833 & 4831094  & 9789     & 0.020102 & 4827830 \\\\\n",
       "\t15614 & GL429833 & 4825094  & 9938     & 0.019074 & 4827830 \\\\\n",
       "\t15615 & GL429833 & 4827094  & 9789     & 0.020481 & 4827830 \\\\\n",
       "\t18234 & GL429835 & 4129001  & 9867     & 0.016851 & 4132453 \\\\\n",
       "\t18235 & GL429835 & 4131001  & 9108     & 0.017702 & 4132453 \\\\\n",
       "\t18236 & GL429835 & 4133001  & 9223     & 0.018527 & 4132453 \\\\\n",
       "\t18237 & GL429835 & 4135001  & 9220     & 0.018255 & 4132453 \\\\\n",
       "\t18238 & GL429835 & 4137001  & 9203     & 0.018118 & 4132453 \\\\\n",
       "\t20330 & GL429848 & 4051211  & 8890     & 0.019176 & 4054536 \\\\\n",
       "\t20331 & GL429848 & 4053211  & 8889     & 0.019800 & 4054536 \\\\\n",
       "\t20332 & GL429848 & 4055211  & 9556     & 0.019511 & 4054536 \\\\\n",
       "\t20333 & GL429848 & 4057211  & 9732     & 0.020644 & 4054536 \\\\\n",
       "\t20334 & GL429848 & 4059211  & 9755     & 0.022180 & 4054536 \\\\\n",
       "\t22953 & GL429859 & 3279511  & 9195     & 0.018011 & 3284246 \\\\\n",
       "\t22954 & GL429859 & 3281511  & 9897     & 0.018787 & 3284246 \\\\\n",
       "\t22955 & GL429859 & 3283511  & 9064     & 0.018144 & 3284246 \\\\\n",
       "\t22956 & GL429859 & 3285511  & 9064     & 0.020028 & 3284246 \\\\\n",
       "\t22957 & GL429859 & 3287511  & 9018     & 0.018421 & 3284246 \\\\\n",
       "\t23919 & GL429941 & 1536461  & 9762     & 0.017520 & 1539533 \\\\\n",
       "\t23920 & GL429941 & 1538461  & 9947     & 0.017021 & 1539533 \\\\\n",
       "\t23921 & GL429941 & 1540461  & 9946     & 0.017264 & 1539533 \\\\\n",
       "\t23922 & GL429941 & 1542461  & 9946     & 0.017081 & 1539533 \\\\\n",
       "\t23923 & GL429941 & 1544461  & 9939     & 0.017002 & 1539533 \\\\\n",
       "\t24724 & GL430044 &  235676  & 9816     & 0.017706 &  240397 \\\\\n",
       "\t24725 & GL430044 &  237676  & 9775     & 0.018708 &  240397 \\\\\n",
       "\t24726 & GL430044 &  239676  & 9855     & 0.019047 &  240397 \\\\\n",
       "\t24727 & GL430044 &  241676  & 9878     & 0.019362 &  240397 \\\\\n",
       "\t24728 & GL430044 &  243676  & 9960     & 0.019501 &  240397 \\\\\n",
       "\t25608 & GL430199 &  595040  & 9179     & 0.016848 &  598814 \\\\\n",
       "\t25609 & GL430199 &  597040  & 9566     & 0.016712 &  598814 \\\\\n",
       "\t25610 & GL430199 &  599040  & 9567     & 0.016609 &  598814 \\\\\n",
       "\t25611 & GL430199 &  601040  & 9573     & 0.016100 &  598814 \\\\\n",
       "\t25612 & GL430199 &  603040  & 9614     & 0.016057 &  598814 \\\\\n",
       "\\end{tabular}\n"
      ],
      "text/markdown": [
       "\n",
       "| <!--/--> | Scaffold | midPos | Nsites | FST | Position | \n",
       "|---|---|---|---|---|---|---|---|---|---|---|---|---|---|---|---|---|---|---|---|---|---|---|---|---|---|---|---|---|---|---|---|---|---|---|---|---|---|---|---|---|---|---|---|---|---|---|---|---|---|\n",
       "| 18 | GL429793 | 3622572  | 9997     | 0.017281 | 3619488  | \n",
       "| 43 | GL429793 | 3616572  | 9956     | 0.018328 | 3619488  | \n",
       "| 44 | GL429793 | 3618572  | 9997     | 0.017943 | 3619488  | \n",
       "| 45 | GL429793 | 3620572  | 9997     | 0.016291 | 3619488  | \n",
       "| 85 | GL429793 | 3614572  | 9587     | 0.017437 | 3619488  | \n",
       "| 8956 | GL429805 | 5251868  | 8792     | 0.014108 | 5255331  | \n",
       "| 8957 | GL429805 | 5253868  | 6826     | 0.014133 | 5255331  | \n",
       "| 8958 | GL429805 | 5255868  | 5197     | 0.013946 | 5255331  | \n",
       "| 9080 | GL429805 | 5257868  | 5198     | 0.013677 | 5255331  | \n",
       "| 9081 | GL429805 | 5259868  | 5198     | 0.015022 | 5255331  | \n",
       "| 12363 | GL429830 | 4773001  | 9778     | 0.016624 | 4776068  | \n",
       "| 12364 | GL429830 | 4775001  | 9078     | 0.016270 | 4776068  | \n",
       "| 12365 | GL429830 | 4777001  | 9077     | 0.015803 | 4776068  | \n",
       "| 12366 | GL429830 | 4779001  | 8816     | 0.017250 | 4776068  | \n",
       "| 12367 | GL429830 | 4781001  | 8397     | 0.017609 | 4776068  | \n",
       "| 15505 | GL429833 | 4823094  | 9963     | 0.018510 | 4827830  | \n",
       "| 15508 | GL429833 | 4829094  | 9789     | 0.020215 | 4827830  | \n",
       "| 15509 | GL429833 | 4831094  | 9789     | 0.020102 | 4827830  | \n",
       "| 15614 | GL429833 | 4825094  | 9938     | 0.019074 | 4827830  | \n",
       "| 15615 | GL429833 | 4827094  | 9789     | 0.020481 | 4827830  | \n",
       "| 18234 | GL429835 | 4129001  | 9867     | 0.016851 | 4132453  | \n",
       "| 18235 | GL429835 | 4131001  | 9108     | 0.017702 | 4132453  | \n",
       "| 18236 | GL429835 | 4133001  | 9223     | 0.018527 | 4132453  | \n",
       "| 18237 | GL429835 | 4135001  | 9220     | 0.018255 | 4132453  | \n",
       "| 18238 | GL429835 | 4137001  | 9203     | 0.018118 | 4132453  | \n",
       "| 20330 | GL429848 | 4051211  | 8890     | 0.019176 | 4054536  | \n",
       "| 20331 | GL429848 | 4053211  | 8889     | 0.019800 | 4054536  | \n",
       "| 20332 | GL429848 | 4055211  | 9556     | 0.019511 | 4054536  | \n",
       "| 20333 | GL429848 | 4057211  | 9732     | 0.020644 | 4054536  | \n",
       "| 20334 | GL429848 | 4059211  | 9755     | 0.022180 | 4054536  | \n",
       "| 22953 | GL429859 | 3279511  | 9195     | 0.018011 | 3284246  | \n",
       "| 22954 | GL429859 | 3281511  | 9897     | 0.018787 | 3284246  | \n",
       "| 22955 | GL429859 | 3283511  | 9064     | 0.018144 | 3284246  | \n",
       "| 22956 | GL429859 | 3285511  | 9064     | 0.020028 | 3284246  | \n",
       "| 22957 | GL429859 | 3287511  | 9018     | 0.018421 | 3284246  | \n",
       "| 23919 | GL429941 | 1536461  | 9762     | 0.017520 | 1539533  | \n",
       "| 23920 | GL429941 | 1538461  | 9947     | 0.017021 | 1539533  | \n",
       "| 23921 | GL429941 | 1540461  | 9946     | 0.017264 | 1539533  | \n",
       "| 23922 | GL429941 | 1542461  | 9946     | 0.017081 | 1539533  | \n",
       "| 23923 | GL429941 | 1544461  | 9939     | 0.017002 | 1539533  | \n",
       "| 24724 | GL430044 |  235676  | 9816     | 0.017706 |  240397  | \n",
       "| 24725 | GL430044 |  237676  | 9775     | 0.018708 |  240397  | \n",
       "| 24726 | GL430044 |  239676  | 9855     | 0.019047 |  240397  | \n",
       "| 24727 | GL430044 |  241676  | 9878     | 0.019362 |  240397  | \n",
       "| 24728 | GL430044 |  243676  | 9960     | 0.019501 |  240397  | \n",
       "| 25608 | GL430199 |  595040  | 9179     | 0.016848 |  598814  | \n",
       "| 25609 | GL430199 |  597040  | 9566     | 0.016712 |  598814  | \n",
       "| 25610 | GL430199 |  599040  | 9567     | 0.016609 |  598814  | \n",
       "| 25611 | GL430199 |  601040  | 9573     | 0.016100 |  598814  | \n",
       "| 25612 | GL430199 |  603040  | 9614     | 0.016057 |  598814  | \n",
       "\n",
       "\n"
      ],
      "text/plain": [
       "      Scaffold midPos  Nsites FST      Position\n",
       "18    GL429793 3622572 9997   0.017281 3619488 \n",
       "43    GL429793 3616572 9956   0.018328 3619488 \n",
       "44    GL429793 3618572 9997   0.017943 3619488 \n",
       "45    GL429793 3620572 9997   0.016291 3619488 \n",
       "85    GL429793 3614572 9587   0.017437 3619488 \n",
       "8956  GL429805 5251868 8792   0.014108 5255331 \n",
       "8957  GL429805 5253868 6826   0.014133 5255331 \n",
       "8958  GL429805 5255868 5197   0.013946 5255331 \n",
       "9080  GL429805 5257868 5198   0.013677 5255331 \n",
       "9081  GL429805 5259868 5198   0.015022 5255331 \n",
       "12363 GL429830 4773001 9778   0.016624 4776068 \n",
       "12364 GL429830 4775001 9078   0.016270 4776068 \n",
       "12365 GL429830 4777001 9077   0.015803 4776068 \n",
       "12366 GL429830 4779001 8816   0.017250 4776068 \n",
       "12367 GL429830 4781001 8397   0.017609 4776068 \n",
       "15505 GL429833 4823094 9963   0.018510 4827830 \n",
       "15508 GL429833 4829094 9789   0.020215 4827830 \n",
       "15509 GL429833 4831094 9789   0.020102 4827830 \n",
       "15614 GL429833 4825094 9938   0.019074 4827830 \n",
       "15615 GL429833 4827094 9789   0.020481 4827830 \n",
       "18234 GL429835 4129001 9867   0.016851 4132453 \n",
       "18235 GL429835 4131001 9108   0.017702 4132453 \n",
       "18236 GL429835 4133001 9223   0.018527 4132453 \n",
       "18237 GL429835 4135001 9220   0.018255 4132453 \n",
       "18238 GL429835 4137001 9203   0.018118 4132453 \n",
       "20330 GL429848 4051211 8890   0.019176 4054536 \n",
       "20331 GL429848 4053211 8889   0.019800 4054536 \n",
       "20332 GL429848 4055211 9556   0.019511 4054536 \n",
       "20333 GL429848 4057211 9732   0.020644 4054536 \n",
       "20334 GL429848 4059211 9755   0.022180 4054536 \n",
       "22953 GL429859 3279511 9195   0.018011 3284246 \n",
       "22954 GL429859 3281511 9897   0.018787 3284246 \n",
       "22955 GL429859 3283511 9064   0.018144 3284246 \n",
       "22956 GL429859 3285511 9064   0.020028 3284246 \n",
       "22957 GL429859 3287511 9018   0.018421 3284246 \n",
       "23919 GL429941 1536461 9762   0.017520 1539533 \n",
       "23920 GL429941 1538461 9947   0.017021 1539533 \n",
       "23921 GL429941 1540461 9946   0.017264 1539533 \n",
       "23922 GL429941 1542461 9946   0.017081 1539533 \n",
       "23923 GL429941 1544461 9939   0.017002 1539533 \n",
       "24724 GL430044  235676 9816   0.017706  240397 \n",
       "24725 GL430044  237676 9775   0.018708  240397 \n",
       "24726 GL430044  239676 9855   0.019047  240397 \n",
       "24727 GL430044  241676 9878   0.019362  240397 \n",
       "24728 GL430044  243676 9960   0.019501  240397 \n",
       "25608 GL430199  595040 9179   0.016848  598814 \n",
       "25609 GL430199  597040 9566   0.016712  598814 \n",
       "25610 GL430199  599040 9567   0.016609  598814 \n",
       "25611 GL430199  601040 9573   0.016100  598814 \n",
       "25612 GL430199  603040 9614   0.016057  598814 "
      ]
     },
     "metadata": {},
     "output_type": "display_data"
    }
   ],
   "source": [
    "SNPsNYFST"
   ]
  },
  {
   "cell_type": "code",
   "execution_count": 68,
   "metadata": {
    "collapsed": false
   },
   "outputs": [
    {
     "data": {
      "text/html": [
       "<table>\n",
       "<thead><tr><th></th><th scope=col>Scaffold</th><th scope=col>midPos</th><th scope=col>Nsites</th><th scope=col>FST</th><th scope=col>Position</th></tr></thead>\n",
       "<tbody>\n",
       "\t<tr><th scope=row>169</th><td>GL429793</td><td>3615643 </td><td> 9789   </td><td>0.013769</td><td>3619488 </td></tr>\n",
       "\t<tr><th scope=row>210</th><td>GL429793</td><td>3617643 </td><td>10001   </td><td>0.015076</td><td>3619488 </td></tr>\n",
       "\t<tr><th scope=row>211</th><td>GL429793</td><td>3619643 </td><td> 9985   </td><td>0.015233</td><td>3619488 </td></tr>\n",
       "\t<tr><th scope=row>212</th><td>GL429793</td><td>3621643 </td><td> 9985   </td><td>0.015524</td><td>3619488 </td></tr>\n",
       "\t<tr><th scope=row>213</th><td>GL429793</td><td>3623643 </td><td> 9985   </td><td>0.016225</td><td>3619488 </td></tr>\n",
       "\t<tr><th scope=row>8204</th><td>GL429805</td><td>5251001 </td><td> 9671   </td><td>0.015426</td><td>5255331 </td></tr>\n",
       "\t<tr><th scope=row>8935</th><td>GL429805</td><td>5253001 </td><td> 7676   </td><td>0.016284</td><td>5255331 </td></tr>\n",
       "\t<tr><th scope=row>8936</th><td>GL429805</td><td>5255001 </td><td> 5739   </td><td>0.017207</td><td>5255331 </td></tr>\n",
       "\t<tr><th scope=row>8937</th><td>GL429805</td><td>5257001 </td><td> 5269   </td><td>0.017644</td><td>5255331 </td></tr>\n",
       "\t<tr><th scope=row>8938</th><td>GL429805</td><td>5259001 </td><td> 5270   </td><td>0.016644</td><td>5255331 </td></tr>\n",
       "\t<tr><th scope=row>11874</th><td>GL429830</td><td>4773001 </td><td> 9727   </td><td>0.014623</td><td>4776068 </td></tr>\n",
       "\t<tr><th scope=row>11875</th><td>GL429830</td><td>4775001 </td><td> 9280   </td><td>0.013155</td><td>4776068 </td></tr>\n",
       "\t<tr><th scope=row>11876</th><td>GL429830</td><td>4777001 </td><td> 9270   </td><td>0.011665</td><td>4776068 </td></tr>\n",
       "\t<tr><th scope=row>11877</th><td>GL429830</td><td>4779001 </td><td> 9090   </td><td>0.012872</td><td>4776068 </td></tr>\n",
       "\t<tr><th scope=row>11878</th><td>GL429830</td><td>4781001 </td><td> 8591   </td><td>0.014937</td><td>4776068 </td></tr>\n",
       "\t<tr><th scope=row>15386</th><td>GL429833</td><td>4829252 </td><td> 9905   </td><td>0.021959</td><td>4827830 </td></tr>\n",
       "\t<tr><th scope=row>15387</th><td>GL429833</td><td>4831252 </td><td> 9905   </td><td>0.022607</td><td>4827830 </td></tr>\n",
       "\t<tr><th scope=row>15504</th><td>GL429833</td><td>4823252 </td><td> 9943   </td><td>0.019669</td><td>4827830 </td></tr>\n",
       "\t<tr><th scope=row>15505</th><td>GL429833</td><td>4825252 </td><td> 9939   </td><td>0.020862</td><td>4827830 </td></tr>\n",
       "\t<tr><th scope=row>15506</th><td>GL429833</td><td>4827252 </td><td> 9905   </td><td>0.021551</td><td>4827830 </td></tr>\n",
       "\t<tr><th scope=row>18233</th><td>GL429835</td><td>4129001 </td><td> 9827   </td><td>0.013572</td><td>4132453 </td></tr>\n",
       "\t<tr><th scope=row>18234</th><td>GL429835</td><td>4131001 </td><td> 9066   </td><td>0.015694</td><td>4132453 </td></tr>\n",
       "\t<tr><th scope=row>18235</th><td>GL429835</td><td>4133001 </td><td> 9208   </td><td>0.015501</td><td>4132453 </td></tr>\n",
       "\t<tr><th scope=row>18236</th><td>GL429835</td><td>4135001 </td><td> 9208   </td><td>0.016298</td><td>4132453 </td></tr>\n",
       "\t<tr><th scope=row>18237</th><td>GL429835</td><td>4137001 </td><td> 9187   </td><td>0.015673</td><td>4132453 </td></tr>\n",
       "\t<tr><th scope=row>20214</th><td>GL429848</td><td>4051002 </td><td> 9284   </td><td>0.021703</td><td>4054536 </td></tr>\n",
       "\t<tr><th scope=row>20215</th><td>GL429848</td><td>4053002 </td><td> 9224   </td><td>0.021524</td><td>4054536 </td></tr>\n",
       "\t<tr><th scope=row>20216</th><td>GL429848</td><td>4055002 </td><td> 9655   </td><td>0.021200</td><td>4054536 </td></tr>\n",
       "\t<tr><th scope=row>20217</th><td>GL429848</td><td>4057002 </td><td> 9781   </td><td>0.022972</td><td>4054536 </td></tr>\n",
       "\t<tr><th scope=row>20218</th><td>GL429848</td><td>4059002 </td><td> 9778   </td><td>0.016698</td><td>4054536 </td></tr>\n",
       "\t<tr><th scope=row>21745</th><td>GL429859</td><td>3281078 </td><td> 9939   </td><td>0.014411</td><td>3284246 </td></tr>\n",
       "\t<tr><th scope=row>22839</th><td>GL429859</td><td>3283078 </td><td> 9195   </td><td>0.014588</td><td>3284246 </td></tr>\n",
       "\t<tr><th scope=row>22840</th><td>GL429859</td><td>3285078 </td><td> 9117   </td><td>0.014322</td><td>3284246 </td></tr>\n",
       "\t<tr><th scope=row>22841</th><td>GL429859</td><td>3287078 </td><td> 9065   </td><td>0.014322</td><td>3284246 </td></tr>\n",
       "\t<tr><th scope=row>22842</th><td>GL429859</td><td>3289078 </td><td> 9043   </td><td>0.014298</td><td>3284246 </td></tr>\n",
       "\t<tr><th scope=row>23839</th><td>GL429941</td><td>1536305 </td><td> 9784   </td><td>0.013470</td><td>1539533 </td></tr>\n",
       "\t<tr><th scope=row>23840</th><td>GL429941</td><td>1538305 </td><td> 9944   </td><td>0.014929</td><td>1539533 </td></tr>\n",
       "\t<tr><th scope=row>23841</th><td>GL429941</td><td>1540305 </td><td> 9943   </td><td>0.016859</td><td>1539533 </td></tr>\n",
       "\t<tr><th scope=row>23842</th><td>GL429941</td><td>1542305 </td><td> 9943   </td><td>0.016259</td><td>1539533 </td></tr>\n",
       "\t<tr><th scope=row>23843</th><td>GL429941</td><td>1544305 </td><td> 9937   </td><td>0.016042</td><td>1539533 </td></tr>\n",
       "\t<tr><th scope=row>24696</th><td>GL430044</td><td> 239671 </td><td> 9924   </td><td>0.014520</td><td> 240397 </td></tr>\n",
       "\t<tr><th scope=row>24697</th><td>GL430044</td><td> 241671 </td><td> 9944   </td><td>0.013699</td><td> 240397 </td></tr>\n",
       "\t<tr><th scope=row>24698</th><td>GL430044</td><td> 243671 </td><td>10001   </td><td>0.014158</td><td> 240397 </td></tr>\n",
       "\t<tr><th scope=row>25058</th><td>GL430044</td><td> 235671 </td><td> 9773   </td><td>0.014575</td><td> 240397 </td></tr>\n",
       "\t<tr><th scope=row>25059</th><td>GL430044</td><td> 237671 </td><td> 9817   </td><td>0.015143</td><td> 240397 </td></tr>\n",
       "\t<tr><th scope=row>25640</th><td>GL430199</td><td> 595266 </td><td> 9162   </td><td>0.016116</td><td> 598814 </td></tr>\n",
       "\t<tr><th scope=row>25641</th><td>GL430199</td><td> 597266 </td><td> 9561   </td><td>0.015067</td><td> 598814 </td></tr>\n",
       "\t<tr><th scope=row>25642</th><td>GL430199</td><td> 599266 </td><td> 9561   </td><td>0.014497</td><td> 598814 </td></tr>\n",
       "\t<tr><th scope=row>25643</th><td>GL430199</td><td> 601266 </td><td> 9555   </td><td>0.015162</td><td> 598814 </td></tr>\n",
       "\t<tr><th scope=row>25644</th><td>GL430199</td><td> 603266 </td><td> 9649   </td><td>0.014431</td><td> 598814 </td></tr>\n",
       "</tbody>\n",
       "</table>\n"
      ],
      "text/latex": [
       "\\begin{tabular}{r|lllll}\n",
       "  & Scaffold & midPos & Nsites & FST & Position\\\\\n",
       "\\hline\n",
       "\t169 & GL429793 & 3615643  &  9789    & 0.013769 & 3619488 \\\\\n",
       "\t210 & GL429793 & 3617643  & 10001    & 0.015076 & 3619488 \\\\\n",
       "\t211 & GL429793 & 3619643  &  9985    & 0.015233 & 3619488 \\\\\n",
       "\t212 & GL429793 & 3621643  &  9985    & 0.015524 & 3619488 \\\\\n",
       "\t213 & GL429793 & 3623643  &  9985    & 0.016225 & 3619488 \\\\\n",
       "\t8204 & GL429805 & 5251001  &  9671    & 0.015426 & 5255331 \\\\\n",
       "\t8935 & GL429805 & 5253001  &  7676    & 0.016284 & 5255331 \\\\\n",
       "\t8936 & GL429805 & 5255001  &  5739    & 0.017207 & 5255331 \\\\\n",
       "\t8937 & GL429805 & 5257001  &  5269    & 0.017644 & 5255331 \\\\\n",
       "\t8938 & GL429805 & 5259001  &  5270    & 0.016644 & 5255331 \\\\\n",
       "\t11874 & GL429830 & 4773001  &  9727    & 0.014623 & 4776068 \\\\\n",
       "\t11875 & GL429830 & 4775001  &  9280    & 0.013155 & 4776068 \\\\\n",
       "\t11876 & GL429830 & 4777001  &  9270    & 0.011665 & 4776068 \\\\\n",
       "\t11877 & GL429830 & 4779001  &  9090    & 0.012872 & 4776068 \\\\\n",
       "\t11878 & GL429830 & 4781001  &  8591    & 0.014937 & 4776068 \\\\\n",
       "\t15386 & GL429833 & 4829252  &  9905    & 0.021959 & 4827830 \\\\\n",
       "\t15387 & GL429833 & 4831252  &  9905    & 0.022607 & 4827830 \\\\\n",
       "\t15504 & GL429833 & 4823252  &  9943    & 0.019669 & 4827830 \\\\\n",
       "\t15505 & GL429833 & 4825252  &  9939    & 0.020862 & 4827830 \\\\\n",
       "\t15506 & GL429833 & 4827252  &  9905    & 0.021551 & 4827830 \\\\\n",
       "\t18233 & GL429835 & 4129001  &  9827    & 0.013572 & 4132453 \\\\\n",
       "\t18234 & GL429835 & 4131001  &  9066    & 0.015694 & 4132453 \\\\\n",
       "\t18235 & GL429835 & 4133001  &  9208    & 0.015501 & 4132453 \\\\\n",
       "\t18236 & GL429835 & 4135001  &  9208    & 0.016298 & 4132453 \\\\\n",
       "\t18237 & GL429835 & 4137001  &  9187    & 0.015673 & 4132453 \\\\\n",
       "\t20214 & GL429848 & 4051002  &  9284    & 0.021703 & 4054536 \\\\\n",
       "\t20215 & GL429848 & 4053002  &  9224    & 0.021524 & 4054536 \\\\\n",
       "\t20216 & GL429848 & 4055002  &  9655    & 0.021200 & 4054536 \\\\\n",
       "\t20217 & GL429848 & 4057002  &  9781    & 0.022972 & 4054536 \\\\\n",
       "\t20218 & GL429848 & 4059002  &  9778    & 0.016698 & 4054536 \\\\\n",
       "\t21745 & GL429859 & 3281078  &  9939    & 0.014411 & 3284246 \\\\\n",
       "\t22839 & GL429859 & 3283078  &  9195    & 0.014588 & 3284246 \\\\\n",
       "\t22840 & GL429859 & 3285078  &  9117    & 0.014322 & 3284246 \\\\\n",
       "\t22841 & GL429859 & 3287078  &  9065    & 0.014322 & 3284246 \\\\\n",
       "\t22842 & GL429859 & 3289078  &  9043    & 0.014298 & 3284246 \\\\\n",
       "\t23839 & GL429941 & 1536305  &  9784    & 0.013470 & 1539533 \\\\\n",
       "\t23840 & GL429941 & 1538305  &  9944    & 0.014929 & 1539533 \\\\\n",
       "\t23841 & GL429941 & 1540305  &  9943    & 0.016859 & 1539533 \\\\\n",
       "\t23842 & GL429941 & 1542305  &  9943    & 0.016259 & 1539533 \\\\\n",
       "\t23843 & GL429941 & 1544305  &  9937    & 0.016042 & 1539533 \\\\\n",
       "\t24696 & GL430044 &  239671  &  9924    & 0.014520 &  240397 \\\\\n",
       "\t24697 & GL430044 &  241671  &  9944    & 0.013699 &  240397 \\\\\n",
       "\t24698 & GL430044 &  243671  & 10001    & 0.014158 &  240397 \\\\\n",
       "\t25058 & GL430044 &  235671  &  9773    & 0.014575 &  240397 \\\\\n",
       "\t25059 & GL430044 &  237671  &  9817    & 0.015143 &  240397 \\\\\n",
       "\t25640 & GL430199 &  595266  &  9162    & 0.016116 &  598814 \\\\\n",
       "\t25641 & GL430199 &  597266  &  9561    & 0.015067 &  598814 \\\\\n",
       "\t25642 & GL430199 &  599266  &  9561    & 0.014497 &  598814 \\\\\n",
       "\t25643 & GL430199 &  601266  &  9555    & 0.015162 &  598814 \\\\\n",
       "\t25644 & GL430199 &  603266  &  9649    & 0.014431 &  598814 \\\\\n",
       "\\end{tabular}\n"
      ],
      "text/markdown": [
       "\n",
       "| <!--/--> | Scaffold | midPos | Nsites | FST | Position | \n",
       "|---|---|---|---|---|---|---|---|---|---|---|---|---|---|---|---|---|---|---|---|---|---|---|---|---|---|---|---|---|---|---|---|---|---|---|---|---|---|---|---|---|---|---|---|---|---|---|---|---|---|\n",
       "| 169 | GL429793 | 3615643  |  9789    | 0.013769 | 3619488  | \n",
       "| 210 | GL429793 | 3617643  | 10001    | 0.015076 | 3619488  | \n",
       "| 211 | GL429793 | 3619643  |  9985    | 0.015233 | 3619488  | \n",
       "| 212 | GL429793 | 3621643  |  9985    | 0.015524 | 3619488  | \n",
       "| 213 | GL429793 | 3623643  |  9985    | 0.016225 | 3619488  | \n",
       "| 8204 | GL429805 | 5251001  |  9671    | 0.015426 | 5255331  | \n",
       "| 8935 | GL429805 | 5253001  |  7676    | 0.016284 | 5255331  | \n",
       "| 8936 | GL429805 | 5255001  |  5739    | 0.017207 | 5255331  | \n",
       "| 8937 | GL429805 | 5257001  |  5269    | 0.017644 | 5255331  | \n",
       "| 8938 | GL429805 | 5259001  |  5270    | 0.016644 | 5255331  | \n",
       "| 11874 | GL429830 | 4773001  |  9727    | 0.014623 | 4776068  | \n",
       "| 11875 | GL429830 | 4775001  |  9280    | 0.013155 | 4776068  | \n",
       "| 11876 | GL429830 | 4777001  |  9270    | 0.011665 | 4776068  | \n",
       "| 11877 | GL429830 | 4779001  |  9090    | 0.012872 | 4776068  | \n",
       "| 11878 | GL429830 | 4781001  |  8591    | 0.014937 | 4776068  | \n",
       "| 15386 | GL429833 | 4829252  |  9905    | 0.021959 | 4827830  | \n",
       "| 15387 | GL429833 | 4831252  |  9905    | 0.022607 | 4827830  | \n",
       "| 15504 | GL429833 | 4823252  |  9943    | 0.019669 | 4827830  | \n",
       "| 15505 | GL429833 | 4825252  |  9939    | 0.020862 | 4827830  | \n",
       "| 15506 | GL429833 | 4827252  |  9905    | 0.021551 | 4827830  | \n",
       "| 18233 | GL429835 | 4129001  |  9827    | 0.013572 | 4132453  | \n",
       "| 18234 | GL429835 | 4131001  |  9066    | 0.015694 | 4132453  | \n",
       "| 18235 | GL429835 | 4133001  |  9208    | 0.015501 | 4132453  | \n",
       "| 18236 | GL429835 | 4135001  |  9208    | 0.016298 | 4132453  | \n",
       "| 18237 | GL429835 | 4137001  |  9187    | 0.015673 | 4132453  | \n",
       "| 20214 | GL429848 | 4051002  |  9284    | 0.021703 | 4054536  | \n",
       "| 20215 | GL429848 | 4053002  |  9224    | 0.021524 | 4054536  | \n",
       "| 20216 | GL429848 | 4055002  |  9655    | 0.021200 | 4054536  | \n",
       "| 20217 | GL429848 | 4057002  |  9781    | 0.022972 | 4054536  | \n",
       "| 20218 | GL429848 | 4059002  |  9778    | 0.016698 | 4054536  | \n",
       "| 21745 | GL429859 | 3281078  |  9939    | 0.014411 | 3284246  | \n",
       "| 22839 | GL429859 | 3283078  |  9195    | 0.014588 | 3284246  | \n",
       "| 22840 | GL429859 | 3285078  |  9117    | 0.014322 | 3284246  | \n",
       "| 22841 | GL429859 | 3287078  |  9065    | 0.014322 | 3284246  | \n",
       "| 22842 | GL429859 | 3289078  |  9043    | 0.014298 | 3284246  | \n",
       "| 23839 | GL429941 | 1536305  |  9784    | 0.013470 | 1539533  | \n",
       "| 23840 | GL429941 | 1538305  |  9944    | 0.014929 | 1539533  | \n",
       "| 23841 | GL429941 | 1540305  |  9943    | 0.016859 | 1539533  | \n",
       "| 23842 | GL429941 | 1542305  |  9943    | 0.016259 | 1539533  | \n",
       "| 23843 | GL429941 | 1544305  |  9937    | 0.016042 | 1539533  | \n",
       "| 24696 | GL430044 |  239671  |  9924    | 0.014520 |  240397  | \n",
       "| 24697 | GL430044 |  241671  |  9944    | 0.013699 |  240397  | \n",
       "| 24698 | GL430044 |  243671  | 10001    | 0.014158 |  240397  | \n",
       "| 25058 | GL430044 |  235671  |  9773    | 0.014575 |  240397  | \n",
       "| 25059 | GL430044 |  237671  |  9817    | 0.015143 |  240397  | \n",
       "| 25640 | GL430199 |  595266  |  9162    | 0.016116 |  598814  | \n",
       "| 25641 | GL430199 |  597266  |  9561    | 0.015067 |  598814  | \n",
       "| 25642 | GL430199 |  599266  |  9561    | 0.014497 |  598814  | \n",
       "| 25643 | GL430199 |  601266  |  9555    | 0.015162 |  598814  | \n",
       "| 25644 | GL430199 |  603266  |  9649    | 0.014431 |  598814  | \n",
       "\n",
       "\n"
      ],
      "text/plain": [
       "      Scaffold midPos  Nsites FST      Position\n",
       "169   GL429793 3615643  9789  0.013769 3619488 \n",
       "210   GL429793 3617643 10001  0.015076 3619488 \n",
       "211   GL429793 3619643  9985  0.015233 3619488 \n",
       "212   GL429793 3621643  9985  0.015524 3619488 \n",
       "213   GL429793 3623643  9985  0.016225 3619488 \n",
       "8204  GL429805 5251001  9671  0.015426 5255331 \n",
       "8935  GL429805 5253001  7676  0.016284 5255331 \n",
       "8936  GL429805 5255001  5739  0.017207 5255331 \n",
       "8937  GL429805 5257001  5269  0.017644 5255331 \n",
       "8938  GL429805 5259001  5270  0.016644 5255331 \n",
       "11874 GL429830 4773001  9727  0.014623 4776068 \n",
       "11875 GL429830 4775001  9280  0.013155 4776068 \n",
       "11876 GL429830 4777001  9270  0.011665 4776068 \n",
       "11877 GL429830 4779001  9090  0.012872 4776068 \n",
       "11878 GL429830 4781001  8591  0.014937 4776068 \n",
       "15386 GL429833 4829252  9905  0.021959 4827830 \n",
       "15387 GL429833 4831252  9905  0.022607 4827830 \n",
       "15504 GL429833 4823252  9943  0.019669 4827830 \n",
       "15505 GL429833 4825252  9939  0.020862 4827830 \n",
       "15506 GL429833 4827252  9905  0.021551 4827830 \n",
       "18233 GL429835 4129001  9827  0.013572 4132453 \n",
       "18234 GL429835 4131001  9066  0.015694 4132453 \n",
       "18235 GL429835 4133001  9208  0.015501 4132453 \n",
       "18236 GL429835 4135001  9208  0.016298 4132453 \n",
       "18237 GL429835 4137001  9187  0.015673 4132453 \n",
       "20214 GL429848 4051002  9284  0.021703 4054536 \n",
       "20215 GL429848 4053002  9224  0.021524 4054536 \n",
       "20216 GL429848 4055002  9655  0.021200 4054536 \n",
       "20217 GL429848 4057002  9781  0.022972 4054536 \n",
       "20218 GL429848 4059002  9778  0.016698 4054536 \n",
       "21745 GL429859 3281078  9939  0.014411 3284246 \n",
       "22839 GL429859 3283078  9195  0.014588 3284246 \n",
       "22840 GL429859 3285078  9117  0.014322 3284246 \n",
       "22841 GL429859 3287078  9065  0.014322 3284246 \n",
       "22842 GL429859 3289078  9043  0.014298 3284246 \n",
       "23839 GL429941 1536305  9784  0.013470 1539533 \n",
       "23840 GL429941 1538305  9944  0.014929 1539533 \n",
       "23841 GL429941 1540305  9943  0.016859 1539533 \n",
       "23842 GL429941 1542305  9943  0.016259 1539533 \n",
       "23843 GL429941 1544305  9937  0.016042 1539533 \n",
       "24696 GL430044  239671  9924  0.014520  240397 \n",
       "24697 GL430044  241671  9944  0.013699  240397 \n",
       "24698 GL430044  243671 10001  0.014158  240397 \n",
       "25058 GL430044  235671  9773  0.014575  240397 \n",
       "25059 GL430044  237671  9817  0.015143  240397 \n",
       "25640 GL430199  595266  9162  0.016116  598814 \n",
       "25641 GL430199  597266  9561  0.015067  598814 \n",
       "25642 GL430199  599266  9561  0.014497  598814 \n",
       "25643 GL430199  601266  9555  0.015162  598814 \n",
       "25644 GL430199  603266  9649  0.014431  598814 "
      ]
     },
     "metadata": {},
     "output_type": "display_data"
    }
   ],
   "source": [
    "SNPsVTFST"
   ]
  },
  {
   "cell_type": "code",
   "execution_count": 25,
   "metadata": {
    "collapsed": false,
    "scrolled": true
   },
   "outputs": [
    {
     "name": "stdout",
     "output_type": "stream",
     "text": [
      "       Scaffold   midPos Nsites      FST\n",
      "45720  GL429767 63849001  10000 0.027995\n",
      "45721  GL429767 63851001  10000 0.030573\n",
      "45722  GL429767 63853001  10000 0.029686\n",
      "45723  GL429767 63855001  10000 0.028766\n",
      "122663 GL429773  6679567   9999 0.031676\n",
      "157893 GL429777  1458382  10001 0.029826\n",
      "299912 GL429799  7777056  10000 0.028777\n",
      "347763 GL429810  7810693  10001 0.027289\n",
      "350876 GL429811  6204691  10000 0.027686\n",
      "361183 GL429814  3655325  10001 0.032935\n",
      "361184 GL429814  3657325  10001 0.034736\n",
      "394544 GL429823  5424495  10000 0.029409\n",
      "394545 GL429823  5426495  10000 0.029129\n",
      "401161 GL429825  4865091  10001 0.036870\n",
      "401162 GL429825  4867091  10001 0.029508\n",
      "411972 GL429828  6385079  10000 0.028510\n",
      "411973 GL429828  6387079  10000 0.029028\n",
      "456132 GL429844  4733015  10001 0.027398\n",
      "548642 GL429887   431010  10001 0.027128\n",
      "570648 GL429899   153228  10001 0.027137\n",
      "617690 GL429927  1344091  10000 0.034503\n",
      "617691 GL429927  1346091  10000 0.034522\n",
      "617692 GL429927  1348091  10000 0.034054\n",
      "618807 GL429928   508825  10000 0.027620\n",
      "639337 GL429942   617006  10001 0.028639\n",
      "639338 GL429942   619006  10001 0.027946\n",
      "693612 GL429985  2215001  10000 0.027356\n"
     ]
    }
   ],
   "source": [
    "NJhigh=NJfull[NJfull$FST>.027,]\n",
    "print(NJhigh)"
   ]
  },
  {
   "cell_type": "code",
   "execution_count": 26,
   "metadata": {
    "collapsed": false,
    "scrolled": true
   },
   "outputs": [
    {
     "name": "stdout",
     "output_type": "stream",
     "text": [
      "           Scaffold   midPos Nsites      FST\n",
      "13574  AAPE02072785     9242  10001 0.032065\n",
      "13575  AAPE02072785    11242  10001 0.029623\n",
      "13576  AAPE02072785    13242  10001 0.029714\n",
      "33455      GL429767 39817001   9999 0.027222\n",
      "44121      GL429767 61183001  10001 0.027995\n",
      "44122      GL429767 61185001  10001 0.027971\n",
      "44123      GL429767 61187001  10001 0.028572\n",
      "94846      GL429770 25585001  10001 0.028074\n",
      "135843     GL429774 12939446  10000 0.025644\n",
      "135844     GL429774 12941446  10001 0.027772\n",
      "148377     GL429775 17795310  10001 0.025378\n",
      "257999     GL429791  6545062  10001 0.026304\n",
      "258000     GL429791  6547062  10001 0.025039\n",
      "284476     GL429796  6359046  10001 0.029356\n",
      "284477     GL429796  6361046  10001 0.026640\n",
      "289010     GL429797  5581415  10000 0.025548\n",
      "328660     GL429806  3013100  10001 0.027233\n",
      "328661     GL429806  3015100  10001 0.029625\n",
      "361803     GL429814  5435258  10001 0.025758\n",
      "361804     GL429814  5437258  10001 0.025125\n",
      "361805     GL429814  5439258  10001 0.025288\n",
      "426913     GL429833  5627094  10001 0.027661\n",
      "466909     GL429849  2235192  10000 0.025122\n",
      "478589     GL429854  1753001  10000 0.029555\n",
      "558088     GL429892  1365336  10001 0.026522\n",
      "558089     GL429892  1367336  10001 0.027882\n",
      "558090     GL429892  1369336  10001 0.028541\n",
      "558091     GL429892  1371336  10001 0.030961\n",
      "624370     GL429932   225332  10001 0.025278\n",
      "624371     GL429932   227332  10001 0.025544\n",
      "624372     GL429932   229332  10001 0.027180\n",
      "624373     GL429932   231332  10001 0.025083\n",
      "625555     GL429932  2595332  10001 0.025234\n",
      "629318     GL429935  1275001  10001 0.025502\n",
      "713281     GL430005  1033798  10001 0.025066\n",
      "802767     GL430129   467001  10000 0.027044\n",
      "802768     GL430129   469001  10000 0.027904\n"
     ]
    }
   ],
   "source": [
    "NYhigh=NYfull[NYfull$FST>.025,]\n",
    "print(NYhigh)"
   ]
  },
  {
   "cell_type": "code",
   "execution_count": 7,
   "metadata": {
    "collapsed": false,
    "scrolled": true
   },
   "outputs": [
    {
     "ename": "ERROR",
     "evalue": "Error in eval(expr, envir, enclos): object 'VTfull' not found\n",
     "output_type": "error",
     "traceback": [
      "Error in eval(expr, envir, enclos): object 'VTfull' not found\nTraceback:\n"
     ]
    }
   ],
   "source": [
    "VThigh=VTfull[VTfull$FST>.025,]\n",
    "print(VThigh)"
   ]
  },
  {
   "cell_type": "code",
   "execution_count": null,
   "metadata": {
    "collapsed": true
   },
   "outputs": [],
   "source": [
    "GL429793\t3619488\n",
    "GL429805\t5255331\n",
    "GL429830\t4776068\n",
    "GL429833\t4827830\n",
    "GL429835\t4132453\n",
    "GL429848\t4054536\n",
    "GL429859\t3284246\n",
    "GL429941\t1539533\n",
    "GL430044\t240397\n",
    "GL430199\t598814"
   ]
  }
 ],
 "metadata": {
  "anaconda-cloud": {},
  "kernelspec": {
   "display_name": "R",
   "language": "R",
   "name": "ir"
  },
  "language_info": {
   "codemirror_mode": "r",
   "file_extension": ".r",
   "mimetype": "text/x-r-source",
   "name": "R",
   "pygments_lexer": "r",
   "version": "3.3.2"
  }
 },
 "nbformat": 4,
 "nbformat_minor": 1
}
