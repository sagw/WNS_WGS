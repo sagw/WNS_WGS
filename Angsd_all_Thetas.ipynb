{
 "cells": [
  {
   "cell_type": "markdown",
   "metadata": {},
   "source": [
    "Using folded SAFs, because supposedly it doesn't matter and I have them\n",
    "\n",
    "on annotate\n",
    "\n",
    "First do a 1d folded sfs for each population"
   ]
  },
  {
   "cell_type": "code",
   "execution_count": null,
   "metadata": {
    "collapsed": true
   },
   "outputs": [],
   "source": [
    "for POP in NJ_E NJ_U NY_E NY_U VT_E VT_U; do echo $POP; ~/angsd/angsd/misc/realSFS -P 20 \"$POP\".saf.idx > \"$POP\".ml; done"
   ]
  },
  {
   "cell_type": "markdown",
   "metadata": {},
   "source": [
    "then, calculate thetas for each pop"
   ]
  },
  {
   "cell_type": "code",
   "execution_count": null,
   "metadata": {
    "collapsed": true
   },
   "outputs": [],
   "source": [
    "for POP in NJ_E NJ_U NY_E NY_U VT_E VT_U; do echo $POP; ~/angsd/angsd/angsd -bam ~/WGS/filelists/\"$POP\".filelist -out \"$POP\"_thet -doThetas 1 -doSaf 1 -pest ~/WGS/\"$POP\".ml -anc ~/WGS/Myotis_lucifugus.Myoluc2.0.dna_sm.toplevel.fa -GL 1 -fold 1; done  "
   ]
  },
  {
   "cell_type": "code",
   "execution_count": null,
   "metadata": {
    "collapsed": true
   },
   "outputs": [],
   "source": [
    "~/angsd/angsd/angsd -bam ~/WGS/filelists/NJ_U.filelist -out NJ_U_thet -doThetas 1 -doSaf 1 -pest ~/WGS/NJ_U.ml -anc ~/WGS/Myotis_lucifugus.Myoluc2.0.dna_sm.toplevel.fa -GL 1 -fold 1 &> /dev/null &  "
   ]
  },
  {
   "cell_type": "code",
   "execution_count": null,
   "metadata": {
    "collapsed": true
   },
   "outputs": [],
   "source": [
    "~/angsd/angsd/angsd -bam ~/WGS/filelists/NY_E.filelist -out NY_E_thet -doThetas 1 -doSaf 1 -pest ~/WGS/NY_E.ml -anc ~/WGS/Myotis_lucifugus.Myoluc2.0.dna_sm.toplevel.fa -GL 1 -fold 1 &> /dev/null &"
   ]
  },
  {
   "cell_type": "code",
   "execution_count": null,
   "metadata": {
    "collapsed": true
   },
   "outputs": [],
   "source": [
    "~/angsd/angsd/angsd -bam ~/WGS/filelists/NY_U.filelist -out NY_U_thet -doThetas 1 -doSaf 1 -pest ~/WGS/NY_U.ml -anc ~/WGS/Myotis_lucifugus.Myoluc2.0.dna_sm.toplevel.fa -GL 1 -fold 1 &> /dev/null &"
   ]
  },
  {
   "cell_type": "code",
   "execution_count": null,
   "metadata": {
    "collapsed": true
   },
   "outputs": [],
   "source": [
    "~/angsd/angsd/angsd -bam ~/WGS/filelists/VT_E.filelist -out VT_E_thet -doThetas 1 -doSaf 1 -pest ~/WGS/VT_E.ml -anc ~/WGS/Myotis_lucifugus.Myoluc2.0.dna_sm.toplevel.fa -GL 1 -fold 1 &> /dev/null &"
   ]
  },
  {
   "cell_type": "code",
   "execution_count": null,
   "metadata": {
    "collapsed": true
   },
   "outputs": [],
   "source": [
    "~/angsd/angsd/angsd -bam ~/WGS/filelists/VT_U.filelist -out VT_U_thet -doThetas 1 -doSaf 1 -pest ~/WGS/VT_U.ml -anc ~/WGS/Myotis_lucifugus.Myoluc2.0.dna_sm.toplevel.fa -GL 1 -fold 1 &> /dev/null &"
   ]
  }
 ],
 "metadata": {
  "anaconda-cloud": {},
  "kernelspec": {
   "display_name": "Python [default]",
   "language": "python",
   "name": "python2"
  },
  "language_info": {
   "codemirror_mode": {
    "name": "ipython",
    "version": 2
   },
   "file_extension": ".py",
   "mimetype": "text/x-python",
   "name": "python",
   "nbconvert_exporter": "python",
   "pygments_lexer": "ipython2",
   "version": "2.7.12"
  }
 },
 "nbformat": 4,
 "nbformat_minor": 1
}
