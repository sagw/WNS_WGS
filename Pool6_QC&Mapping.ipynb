{
 "cells": [
  {
   "cell_type": "code",
   "execution_count": 1,
   "metadata": {
    "collapsed": true
   },
   "outputs": [],
   "source": [
    "!mkdir /local/shared/pinsky_lab/sequencing/hiseq_2017_06_14_SEQ22/"
   ]
  },
  {
   "cell_type": "code",
   "execution_count": null,
   "metadata": {
    "collapsed": true
   },
   "outputs": [],
   "source": [
    "wget -r https://htseq.princeton.edu/tmp/cJ30KyZbQpRkVVaXO/ -P /local/shared/pinsky_lab/sequencing/hiseq_2017_06_14_SEQ22/ --no-check-certificate"
   ]
  },
  {
   "cell_type": "code",
   "execution_count": 1,
   "metadata": {
    "collapsed": true
   },
   "outputs": [],
   "source": [
    "!mkdir /local/home/sarahgw/WGS/Sequences/Pool6/"
   ]
  },
  {
   "cell_type": "code",
   "execution_count": null,
   "metadata": {
    "collapsed": true
   },
   "outputs": [],
   "source": [
    "scp Pool6_Barcodes.txt sarahgw@amphiprion.deenr.rutgers.edu:/local/home/sarahgw/WGS/Sequences/Pool6/"
   ]
  },
  {
   "cell_type": "code",
   "execution_count": null,
   "metadata": {
    "collapsed": true
   },
   "outputs": [],
   "source": [
    "mkdir $(awk '{print $1}' /local/home/sarahgw/WGS/Sequences/Pool6/Pool6_Barcodes.txt)"
   ]
  },
  {
   "cell_type": "code",
   "execution_count": 2,
   "metadata": {
    "collapsed": false
   },
   "outputs": [
    {
     "name": "stdout",
     "output_type": "stream",
     "text": [
      "NJ_E_05  NJ_E_10  NY_U_27  Pool6_Barcodes.txt  VT_E_21\tVT_U_20  VT_U_26\r\n",
      "NJ_E_06  NJ_E_11  NY_U_28  VT_E_18\t       VT_E_22\tVT_U_21\r\n",
      "NJ_E_07  NY_U_25  NY_U_29  VT_E_19\t       VT_E_23\tVT_U_22\r\n",
      "NJ_E_08  NY_U_26  NY_U_30  VT_E_20\t       VT_E_24\tVT_U_25\r\n"
     ]
    }
   ],
   "source": [
    "!ls /local/home/sarahgw/WGS/Sequences/Pool6/"
   ]
  },
  {
   "cell_type": "code",
   "execution_count": 4,
   "metadata": {
    "collapsed": false
   },
   "outputs": [],
   "source": [
    "!rmdir /local/home/sarahgw/WGS/Sequences/Pool6/NJ_E_11 /local/home/sarahgw/WGS/Sequences/Pool6/VT_E_23 /local/home/sarahgw/WGS/Sequences/Pool6/VT_U_21"
   ]
  },
  {
   "cell_type": "code",
   "execution_count": 5,
   "metadata": {
    "collapsed": false
   },
   "outputs": [
    {
     "name": "stdout",
     "output_type": "stream",
     "text": [
      "NJ_E_05  NJ_E_10  NY_U_28\t      VT_E_18  VT_E_22\tVT_U_25\r\n",
      "NJ_E_06  NY_U_25  NY_U_29\t      VT_E_19  VT_E_24\tVT_U_26\r\n",
      "NJ_E_07  NY_U_26  NY_U_30\t      VT_E_20  VT_U_20\r\n",
      "NJ_E_08  NY_U_27  Pool6_Barcodes.txt  VT_E_21  VT_U_22\r\n"
     ]
    }
   ],
   "source": [
    "!ls /local/home/sarahgw/WGS/Sequences/Pool6/"
   ]
  },
  {
   "cell_type": "code",
   "execution_count": 6,
   "metadata": {
    "collapsed": true
   },
   "outputs": [],
   "source": [
    "rm /local/home/sarahgw/WGS/Sequences/Pool6/Pool6_Barcodes.txt"
   ]
  },
  {
   "cell_type": "markdown",
   "metadata": {},
   "source": [
    "move files into directories"
   ]
  },
  {
   "cell_type": "code",
   "execution_count": null,
   "metadata": {
    "collapsed": true
   },
   "outputs": [],
   "source": [
    "for dir in $(ls); do cd $dir; cp /local/shared/pinsky_lab/sequencing/hiseq_2017_06_14_SEQ22/\"$dir\"_Demultiplexed-fastq-fileset-sample-Pool-6-from-flowcell-HM327BCXY-on-2017-06-07_Read_1_passed_filter.fastq.gz /local/shared/pinsky_lab/sequencing/hiseq_2017_06_14_SEQ22/\"$dir\"_Demultiplexed-fastq-fileset-sample-Pool-6-from-flowcell-HM327BCXY-on-2017-06-07_Read_4_passed_filter.fastq.gz  . ; cd ..; done"
   ]
  },
  {
   "cell_type": "markdown",
   "metadata": {},
   "source": [
    "Run bioinformatics"
   ]
  },
  {
   "cell_type": "code",
   "execution_count": null,
   "metadata": {
    "collapsed": true
   },
   "outputs": [],
   "source": [
    "~/Notebooks/WNS_WGS/Bioinfo_pipeline.sh "
   ]
  },
  {
   "cell_type": "code",
   "execution_count": 1,
   "metadata": {
    "collapsed": false
   },
   "outputs": [
    {
     "name": "stdout",
     "output_type": "stream",
     "text": [
      "18477565\r\n",
      "38334353\r\n",
      "49017272\r\n",
      "8083841\r\n",
      "17155455\r\n",
      "15667161\r\n",
      "15572640\r\n",
      "11903528\r\n",
      "5938826\r\n",
      "5639557\r\n",
      "8781465\r\n",
      "13566455\r\n",
      "14086624\r\n",
      "12512138\r\n",
      "4589460\r\n",
      "18786534\r\n",
      "8031030\r\n",
      "12273895\r\n",
      "8839475\r\n",
      "17312151\r\n",
      "10179970\r\n"
     ]
    }
   ],
   "source": [
    "!tail -n 21 /local/home/sarahgw/WGS/Sequences/Metrics/Pool5_reads"
   ]
  },
  {
   "cell_type": "code",
   "execution_count": null,
   "metadata": {
    "collapsed": true
   },
   "outputs": [],
   "source": [
    "rm */*passed_filter.fastq\n",
    "    rm */*FU1.fastq\n",
    "    rm */*FU2.fastq\n",
    "    rm */*trim_p.fastq\n",
    "    rm */*trim_up.fastq\n",
    "    \n",
    "    find . -name \"*.tagged.fastq\" -exec mv -i {} ../Pool6Contaminants/ \\;\n",
    "    for file in $(ls); do tar -zcvf \"$file\".tar.gz \"$file\" ; done\n",
    "    rm *.fastq\n",
    "    mkdir /Scratch/sarahgw/Pool4Contaminants/\n",
    "    mv *.gz /Scratch/sarahgw/Pool4Contaminants/"
   ]
  },
  {
   "cell_type": "code",
   "execution_count": null,
   "metadata": {
    "collapsed": true
   },
   "outputs": [],
   "source": []
  },
  {
   "cell_type": "markdown",
   "metadata": {},
   "source": [
    "Map reads, sort, remove duplicates"
   ]
  },
  {
   "cell_type": "code",
   "execution_count": null,
   "metadata": {
    "collapsed": true
   },
   "outputs": [],
   "source": [
    "for dir in $(ls); do cd $dir; /local/home/sarahgw/anaconda2/bin/bowtie2 --very-sensitive-local -p 12 -x /local/home/sarahgw/references/Myotis_Lucifugus2.0/MyoLuc_toplevel_index -1 $(pwd)/\"$dir\"_FU1_trim_p.tagged_pfilter.fastq -2 $(pwd)/\"$dir\"_FU2_trim_p.tagged_pfilter.fastq -U $(pwd)/\"$dir\"_FU1_trim_up.tagged_filter.fastq,$(pwd)/\"$dir\"_FU2_trim_up.tagged_filter.fastq -S $(pwd)/\"$dir\"_pairedplus_eg2.sam; cd ..; done"
   ]
  },
  {
   "cell_type": "code",
   "execution_count": null,
   "metadata": {
    "collapsed": true
   },
   "outputs": [],
   "source": [
    "for dir in $(ls); do cd $dir; java -jar /local/home/sarahgw/picard.jar SortSam \\\n",
    "      I=$(pwd)/\"$dir\"_pairedplus_eg2.sam \\\n",
    "      O=$(pwd)/\"$dir\"_pairedplus_eg2_sorted.bam \\\n",
    "      SORT_ORDER=coordinate; cd ..; done"
   ]
  },
  {
   "cell_type": "code",
   "execution_count": null,
   "metadata": {
    "collapsed": true
   },
   "outputs": [],
   "source": [
    "for dir in $(ls); do cd $dir; java -jar /local/home/sarahgw/picard.jar MarkDuplicates \\\n",
    "      I=$(pwd)/\"$dir\"_pairedplus_eg2_sorted.bam \\\n",
    "      O=$(pwd)/\"$dir\"_pairedplus_marked_dupes.bam \\\n",
    "      M=$(pwd)/\"$dir\"_pairedplus_marked_dup_metrics.txt \\\n",
    "      REMOVE_DUPLICATES=true \\\n",
    "      ASSUME_SORT_ORDER=coordinate; cd ..; done "
   ]
  },
  {
   "cell_type": "code",
   "execution_count": null,
   "metadata": {
    "collapsed": true
   },
   "outputs": [],
   "source": [
    "for dir in $(ls); do cd $dir; samtools view -b $(pwd)/\"$dir\"_pairedplus_marked_dupes.bam | genomeCoverageBed -ibam stdin -g /local/home/sarahgw/references/Myotis_Lucifugus2.0/Myoluc_genomeFile.txt>$(pwd)/\"$dir\"_Coverage.txt; cd ..; done"
   ]
  },
  {
   "cell_type": "code",
   "execution_count": null,
   "metadata": {
    "collapsed": true
   },
   "outputs": [],
   "source": [
    "for dir in $(ls); do cd $dir;  sed \"s/$/\\t\"$dir\"/\" \"$dir\"_Coverage.txt > \"$dir\"_Coverage_name.txt ; cd ..; done"
   ]
  }
 ],
 "metadata": {
  "anaconda-cloud": {},
  "kernelspec": {
   "display_name": "Python [conda root]",
   "language": "python",
   "name": "conda-root-py"
  },
  "language_info": {
   "codemirror_mode": {
    "name": "ipython",
    "version": 2
   },
   "file_extension": ".py",
   "mimetype": "text/x-python",
   "name": "python",
   "nbconvert_exporter": "python",
   "pygments_lexer": "ipython2",
   "version": "2.7.12"
  }
 },
 "nbformat": 4,
 "nbformat_minor": 1
}
