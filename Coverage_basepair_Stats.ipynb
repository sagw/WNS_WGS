{
 "cells": [
  {
   "cell_type": "code",
   "execution_count": 1,
   "metadata": {
    "collapsed": true
   },
   "outputs": [],
   "source": [
    "setwd (\"~/WGS/Sequences/\")"
   ]
  },
  {
   "cell_type": "code",
   "execution_count": 5,
   "metadata": {
    "collapsed": false
   },
   "outputs": [],
   "source": [
    "hist=read.csv(\"out2.txt\", header=FALSE)"
   ]
  },
  {
   "cell_type": "code",
   "execution_count": 6,
   "metadata": {
    "collapsed": false
   },
   "outputs": [
    {
     "data": {
      "text/html": [
       "<table>\n",
       "<thead><tr><th scope=col>V1</th><th scope=col>V2</th></tr></thead>\n",
       "<tbody>\n",
       "\t<tr><td>0        </td><td> 93816787</td></tr>\n",
       "\t<tr><td>1        </td><td> 25210310</td></tr>\n",
       "\t<tr><td>2        </td><td> 30399643</td></tr>\n",
       "\t<tr><td>3        </td><td> 37053746</td></tr>\n",
       "\t<tr><td>4        </td><td> 45254668</td></tr>\n",
       "\t<tr><td>5        </td><td> 55426515</td></tr>\n",
       "</tbody>\n",
       "</table>\n"
      ],
      "text/latex": [
       "\\begin{tabular}{r|ll}\n",
       " V1 & V2\\\\\n",
       "\\hline\n",
       "\t 0         &  93816787\\\\\n",
       "\t 1         &  25210310\\\\\n",
       "\t 2         &  30399643\\\\\n",
       "\t 3         &  37053746\\\\\n",
       "\t 4         &  45254668\\\\\n",
       "\t 5         &  55426515\\\\\n",
       "\\end{tabular}\n"
      ],
      "text/markdown": [
       "\n",
       "V1 | V2 | \n",
       "|---|---|---|---|---|---|\n",
       "| 0         |  93816787 | \n",
       "| 1         |  25210310 | \n",
       "| 2         |  30399643 | \n",
       "| 3         |  37053746 | \n",
       "| 4         |  45254668 | \n",
       "| 5         |  55426515 | \n",
       "\n",
       "\n"
      ],
      "text/plain": [
       "  V1 V2       \n",
       "1 0   93816787\n",
       "2 1   25210310\n",
       "3 2   30399643\n",
       "4 3   37053746\n",
       "5 4   45254668\n",
       "6 5   55426515"
      ]
     },
     "metadata": {},
     "output_type": "display_data"
    }
   ],
   "source": [
    "head(hist)"
   ]
  },
  {
   "cell_type": "code",
   "execution_count": 7,
   "metadata": {
    "collapsed": true
   },
   "outputs": [],
   "source": [
    "colnames(hist)=c(\"NumSamples\", \"NumBp\")"
   ]
  },
  {
   "cell_type": "code",
   "execution_count": 12,
   "metadata": {
    "collapsed": false
   },
   "outputs": [
    {
     "name": "stderr",
     "output_type": "stream",
     "text": [
      "Warning message in eval(expr, envir, enclos):\n",
      "“NAs introduced by coercion”"
     ]
    }
   ],
   "source": [
    "hist$NumBp=as.numeric(as.character(hist$NumBp))"
   ]
  },
  {
   "cell_type": "code",
   "execution_count": 52,
   "metadata": {
    "collapsed": false
   },
   "outputs": [
    {
     "data": {
      "text/html": [
       "<table>\n",
       "<thead><tr><th></th><th scope=col>NumSamples</th><th scope=col>NumBp</th></tr></thead>\n",
       "<tbody>\n",
       "\t<tr><th scope=row>18</th><td>17      </td><td>86394438</td></tr>\n",
       "\t<tr><th scope=row>19</th><td>18      </td><td>48765967</td></tr>\n",
       "\t<tr><th scope=row>20</th><td>19      </td><td>23074488</td></tr>\n",
       "\t<tr><th scope=row>21</th><td>20      </td><td> 9724870</td></tr>\n",
       "\t<tr><th scope=row>22</th><td>21      </td><td> 4549175</td></tr>\n",
       "\t<tr><th scope=row>23</th><td>22      </td><td>      NA</td></tr>\n",
       "</tbody>\n",
       "</table>\n"
      ],
      "text/latex": [
       "\\begin{tabular}{r|ll}\n",
       "  & NumSamples & NumBp\\\\\n",
       "\\hline\n",
       "\t18 & 17       & 86394438\\\\\n",
       "\t19 & 18       & 48765967\\\\\n",
       "\t20 & 19       & 23074488\\\\\n",
       "\t21 & 20       &  9724870\\\\\n",
       "\t22 & 21       &  4549175\\\\\n",
       "\t23 & 22       &       NA\\\\\n",
       "\\end{tabular}\n"
      ],
      "text/markdown": [
       "\n",
       "| <!--/--> | NumSamples | NumBp | \n",
       "|---|---|---|---|---|---|\n",
       "| 18 | 17       | 86394438 | \n",
       "| 19 | 18       | 48765967 | \n",
       "| 20 | 19       | 23074488 | \n",
       "| 21 | 20       |  9724870 | \n",
       "| 22 | 21       |  4549175 | \n",
       "| 23 | 22       |       NA | \n",
       "\n",
       "\n"
      ],
      "text/plain": [
       "   NumSamples NumBp   \n",
       "18 17         86394438\n",
       "19 18         48765967\n",
       "20 19         23074488\n",
       "21 20          9724870\n",
       "22 21          4549175\n",
       "23 22               NA"
      ]
     },
     "metadata": {},
     "output_type": "display_data"
    }
   ],
   "source": [
    "tail(hist)"
   ]
  },
  {
   "cell_type": "code",
   "execution_count": 26,
   "metadata": {
    "collapsed": true
   },
   "outputs": [],
   "source": [
    "hist=as.data.frame(hist)"
   ]
  },
  {
   "cell_type": "code",
   "execution_count": 22,
   "metadata": {
    "collapsed": false
   },
   "outputs": [
    {
     "name": "stderr",
     "output_type": "stream",
     "text": [
      "Loading required package: ggplot2\n"
     ]
    }
   ],
   "source": [
    "require(ggplot2)"
   ]
  },
  {
   "cell_type": "code",
   "execution_count": 48,
   "metadata": {
    "collapsed": false
   },
   "outputs": [],
   "source": [
    "plot=ggplot(data=hist, aes(x=NumSamples, y=NumBp))+\n",
    "geom_bar(data=hist, stat=\"identity\")+\n",
    "theme_bw()+ylab(\"Number of Basepairs\")+\n",
    "xlab(\"Number of Samples with >=1x coverage\")+\n",
    "scale_y_continuous(breaks=seq(0,2.0e+08,5000000))"
   ]
  },
  {
   "cell_type": "code",
   "execution_count": 49,
   "metadata": {
    "collapsed": false
   },
   "outputs": [
    {
     "name": "stderr",
     "output_type": "stream",
     "text": [
      "Warning message:\n",
      "“Removed 1 rows containing missing values (position_stack).”"
     ]
    },
    {
     "data": {},
     "metadata": {},
     "output_type": "display_data"
    },
    {
     "data": {
      "image/png": "[encoded data removed]",
      "text/plain": [
       "plot without title"
      ]
     },
     "metadata": {},
     "output_type": "display_data"
    }
   ],
   "source": [
    "plot"
   ]
  },
  {
   "cell_type": "code",
   "execution_count": null,
   "metadata": {
    "collapsed": true
   },
   "outputs": [],
   "source": [
    "plot=ggplot(data=RefSamp, aes(x=GCref, y=GCpercent))+\n",
    "  geom_point(data=RefSamp, stat=\"identity\", aes(color=Sample))+\n",
    "  theme_bw()+ylab(\"Percent GC Samples\")+\n",
    "xlab(\"Percent GC Reference\")+\n",
    "  theme(axis.text.x = NULL)"
   ]
  }
 ],
 "metadata": {
  "anaconda-cloud": {},
  "kernelspec": {
   "display_name": "R",
   "language": "R",
   "name": "ir"
  },
  "language_info": {
   "codemirror_mode": "r",
   "file_extension": ".r",
   "mimetype": "text/x-r-source",
   "name": "R",
   "pygments_lexer": "r",
   "version": "3.3.2"
  }
 },
 "nbformat": 4,
 "nbformat_minor": 1
}
