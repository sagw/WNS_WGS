{
 "cells": [
  {
   "cell_type": "code",
   "execution_count": 1,
   "metadata": {
    "collapsed": true
   },
   "outputs": [],
   "source": [
    "setwd (\"~/WGS/Sequences/hiseq_2016_12_07_complete/\"dir = )"
   ]
  },
  {
   "cell_type": "code",
   "execution_count": 2,
   "metadata": {
    "collapsed": true
   },
   "outputs": [],
   "source": [
    "NJE23=read.table(\"NJ_E_23/NJ_E_23_BaseCoverage_0name.txt\", header=FALSE)"
   ]
  },
  {
   "cell_type": "code",
   "execution_count": 6,
   "metadata": {
    "collapsed": true
   },
   "outputs": [],
   "source": [
    "NJE24=read.table(\"NJ_E_24/NJ_E_24_BaseCoverage_0name.txt\", header=FALSE)"
   ]
  },
  {
   "cell_type": "code",
   "execution_count": null,
   "metadata": {
    "collapsed": true
   },
   "outputs": [],
   "source": [
    "NJE25=read.table(\"NJ_E_25/NJ_E_25_BaseCoverage_0name.txt\", header=FALSE)"
   ]
  },
  {
   "cell_type": "code",
   "execution_count": 13,
   "metadata": {
    "collapsed": false
   },
   "outputs": [
    {
     "data": {
      "text/html": [
       "<table>\n",
       "<thead><tr><th scope=col>scaffold</th><th scope=col>bp</th><th scope=col>depth</th><th scope=col>sample</th></tr></thead>\n",
       "<tbody>\n",
       "\t<tr><td>GL429767</td><td>151     </td><td>0       </td><td>NJ_E_23 </td></tr>\n",
       "\t<tr><td>GL429767</td><td>152     </td><td>0       </td><td>NJ_E_23 </td></tr>\n",
       "\t<tr><td>GL429767</td><td>153     </td><td>0       </td><td>NJ_E_23 </td></tr>\n",
       "\t<tr><td>GL429767</td><td>154     </td><td>0       </td><td>NJ_E_23 </td></tr>\n",
       "\t<tr><td>GL429767</td><td>155     </td><td>0       </td><td>NJ_E_23 </td></tr>\n",
       "\t<tr><td>GL429767</td><td>156     </td><td>0       </td><td>NJ_E_23 </td></tr>\n",
       "</tbody>\n",
       "</table>\n"
      ],
      "text/latex": [
       "\\begin{tabular}{r|llll}\n",
       " scaffold & bp & depth & sample\\\\\n",
       "\\hline\n",
       "\t GL429767    & 151         & 0           & NJ\\_E\\_23\\\\\n",
       "\t GL429767    & 152         & 0           & NJ\\_E\\_23\\\\\n",
       "\t GL429767    & 153         & 0           & NJ\\_E\\_23\\\\\n",
       "\t GL429767    & 154         & 0           & NJ\\_E\\_23\\\\\n",
       "\t GL429767    & 155         & 0           & NJ\\_E\\_23\\\\\n",
       "\t GL429767    & 156         & 0           & NJ\\_E\\_23\\\\\n",
       "\\end{tabular}\n"
      ],
      "text/markdown": [
       "\n",
       "scaffold | bp | depth | sample | \n",
       "|---|---|---|---|---|---|\n",
       "| GL429767 | 151      | 0        | NJ_E_23  | \n",
       "| GL429767 | 152      | 0        | NJ_E_23  | \n",
       "| GL429767 | 153      | 0        | NJ_E_23  | \n",
       "| GL429767 | 154      | 0        | NJ_E_23  | \n",
       "| GL429767 | 155      | 0        | NJ_E_23  | \n",
       "| GL429767 | 156      | 0        | NJ_E_23  | \n",
       "\n",
       "\n"
      ],
      "text/plain": [
       "  scaffold bp  depth sample \n",
       "1 GL429767 151 0     NJ_E_23\n",
       "2 GL429767 152 0     NJ_E_23\n",
       "3 GL429767 153 0     NJ_E_23\n",
       "4 GL429767 154 0     NJ_E_23\n",
       "5 GL429767 155 0     NJ_E_23\n",
       "6 GL429767 156 0     NJ_E_23"
      ]
     },
     "metadata": {},
     "output_type": "display_data"
    }
   ],
   "source": [
    "head(NJE23)"
   ]
  },
  {
   "cell_type": "code",
   "execution_count": 7,
   "metadata": {
    "collapsed": false
   },
   "outputs": [
    {
     "data": {
      "text/html": [
       "<table>\n",
       "<thead><tr><th scope=col>V1</th><th scope=col>V2</th><th scope=col>V3</th><th scope=col>V4</th></tr></thead>\n",
       "<tbody>\n",
       "\t<tr><td>GL429767</td><td>119     </td><td>0       </td><td>NJ_E_24 </td></tr>\n",
       "\t<tr><td>GL429767</td><td>120     </td><td>0       </td><td>NJ_E_24 </td></tr>\n",
       "\t<tr><td>GL429767</td><td>121     </td><td>0       </td><td>NJ_E_24 </td></tr>\n",
       "\t<tr><td>GL429767</td><td>122     </td><td>0       </td><td>NJ_E_24 </td></tr>\n",
       "\t<tr><td>GL429767</td><td>123     </td><td>0       </td><td>NJ_E_24 </td></tr>\n",
       "\t<tr><td>GL429767</td><td>124     </td><td>0       </td><td>NJ_E_24 </td></tr>\n",
       "</tbody>\n",
       "</table>\n"
      ],
      "text/latex": [
       "\\begin{tabular}{r|llll}\n",
       " V1 & V2 & V3 & V4\\\\\n",
       "\\hline\n",
       "\t GL429767    & 119         & 0           & NJ\\_E\\_24\\\\\n",
       "\t GL429767    & 120         & 0           & NJ\\_E\\_24\\\\\n",
       "\t GL429767    & 121         & 0           & NJ\\_E\\_24\\\\\n",
       "\t GL429767    & 122         & 0           & NJ\\_E\\_24\\\\\n",
       "\t GL429767    & 123         & 0           & NJ\\_E\\_24\\\\\n",
       "\t GL429767    & 124         & 0           & NJ\\_E\\_24\\\\\n",
       "\\end{tabular}\n"
      ],
      "text/markdown": [
       "\n",
       "V1 | V2 | V3 | V4 | \n",
       "|---|---|---|---|---|---|\n",
       "| GL429767 | 119      | 0        | NJ_E_24  | \n",
       "| GL429767 | 120      | 0        | NJ_E_24  | \n",
       "| GL429767 | 121      | 0        | NJ_E_24  | \n",
       "| GL429767 | 122      | 0        | NJ_E_24  | \n",
       "| GL429767 | 123      | 0        | NJ_E_24  | \n",
       "| GL429767 | 124      | 0        | NJ_E_24  | \n",
       "\n",
       "\n"
      ],
      "text/plain": [
       "  V1       V2  V3 V4     \n",
       "1 GL429767 119 0  NJ_E_24\n",
       "2 GL429767 120 0  NJ_E_24\n",
       "3 GL429767 121 0  NJ_E_24\n",
       "4 GL429767 122 0  NJ_E_24\n",
       "5 GL429767 123 0  NJ_E_24\n",
       "6 GL429767 124 0  NJ_E_24"
      ]
     },
     "metadata": {},
     "output_type": "display_data"
    }
   ],
   "source": [
    "head(NJE24)"
   ]
  },
  {
   "cell_type": "code",
   "execution_count": 10,
   "metadata": {
    "collapsed": false
   },
   "outputs": [],
   "source": [
    "colnames(NJE23)=c(\"scaffold\", \"bp\", \"depth\", \"sample\")"
   ]
  },
  {
   "cell_type": "code",
   "execution_count": 11,
   "metadata": {
    "collapsed": true
   },
   "outputs": [],
   "source": [
    "colnames(NJE24)=c(\"scaffold\", \"bp\", \"depth\", \"sample\")"
   ]
  },
  {
   "cell_type": "code",
   "execution_count": 12,
   "metadata": {
    "collapsed": false
   },
   "outputs": [],
   "source": [
    "none=merge(NJE23, NJE24)"
   ]
  },
  {
   "cell_type": "code",
   "execution_count": null,
   "metadata": {
    "collapsed": true
   },
   "outputs": [],
   "source": [
    "head(none)"
   ]
  },
  {
   "cell_type": "code",
   "execution_count": null,
   "metadata": {
    "collapsed": true
   },
   "outputs": [],
   "source": [
    "nrow(none)"
   ]
  }
 ],
 "metadata": {
  "kernelspec": {
   "display_name": "R",
   "language": "R",
   "name": "ir"
  },
  "language_info": {
   "codemirror_mode": "r",
   "file_extension": ".r",
   "mimetype": "text/x-r-source",
   "name": "R",
   "pygments_lexer": "r",
   "version": "3.3.2"
  }
 },
 "nbformat": 4,
 "nbformat_minor": 1
}
