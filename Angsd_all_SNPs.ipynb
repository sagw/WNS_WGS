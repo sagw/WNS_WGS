{
 "cells": [
  {
   "cell_type": "markdown",
   "metadata": {},
   "source": [
    "Call snps and look for associations for each group."
   ]
  },
  {
   "cell_type": "markdown",
   "metadata": {},
   "source": [
    "SNP started on amphiprion at 4:24 PM 7/10/17 Finished at 12:32 AM on 7/11/17\n",
    "\n",
    "Wait, this is dumb, I just realized that the association test is calling snps and writing them to a file, so just do association for the others"
   ]
  },
  {
   "cell_type": "code",
   "execution_count": null,
   "metadata": {
    "collapsed": true
   },
   "outputs": [],
   "source": [
    "~/angsd/angsd -b /local/home/sarahgw/WGS/Sequences/filelists/NJ.filelist -GL 1 -doMajorMinor 1 -doMaf 1 -minQ 20 -minMapQ 30 -P 10 -SNP_pval 1e-6 -out /local/home/sarahgw/WGS/SNPS/All_mylu/NJ_SNP"
   ]
  },
  {
   "cell_type": "code",
   "execution_count": null,
   "metadata": {
    "collapsed": false,
    "scrolled": true
   },
   "outputs": [],
   "source": [
    "sed -e 's/NJ_E_.._pairedplus_marked_dupes.bam/1/g' -e 's/NJ_U_.._pairedplus_marked_dupes.bam/0/g' NJ.filelist > NJ_pheno.ybin"
   ]
  },
  {
   "cell_type": "code",
   "execution_count": 10,
   "metadata": {
    "collapsed": false,
    "scrolled": true
   },
   "outputs": [
    {
     "name": "stdout",
     "output_type": "stream",
     "text": [
      "1\r\n",
      "1\r\n",
      "1\r\n",
      "1\r\n",
      "1\r\n",
      "1\r\n",
      "1\r\n",
      "1\r\n",
      "1\r\n",
      "1\r\n",
      "1\r\n",
      "1\r\n",
      "1\r\n",
      "1\r\n",
      "1\r\n",
      "1\r\n",
      "1\r\n",
      "1\r\n",
      "1\r\n",
      "1\r\n",
      "1\r\n",
      "1\r\n",
      "0\r\n",
      "0\r\n",
      "0\r\n",
      "0\r\n",
      "0\r\n",
      "0\r\n",
      "0\r\n",
      "0\r\n",
      "0\r\n",
      "0\r\n",
      "0\r\n",
      "0\r\n",
      "0\r\n",
      "0\r\n",
      "0\r\n",
      "0\r\n",
      "0\r\n",
      "0\r\n",
      "0\r\n",
      "0\r\n",
      "0\r\n",
      "0\r\n"
     ]
    }
   ],
   "source": [
    "!awk {print} /local/home/sarahgw/WGS/Sequences/filelists/NJ_pheno.ybin"
   ]
  },
  {
   "cell_type": "code",
   "execution_count": 11,
   "metadata": {
    "collapsed": false
   },
   "outputs": [
    {
     "name": "stdout",
     "output_type": "stream",
     "text": [
      "44 /local/home/sarahgw/WGS/Sequences/filelists/NJ_pheno.ybin\r\n"
     ]
    }
   ],
   "source": [
    "!wc -l /local/home/sarahgw/WGS/Sequences/filelists/NJ_pheno.ybin"
   ]
  },
  {
   "cell_type": "code",
   "execution_count": null,
   "metadata": {
    "collapsed": true
   },
   "outputs": [],
   "source": [
    "/local/home/sarahgw/angsd/angsd -yBin /local/home/sarahgw/WGS/Sequences/filelists/NJ_pheno.ybin -doAsso 1 -GL 1 -out NJ_assoc -doMajorMinor 1 -doMaf 1 -minQ 20 -minMapQ 30 -SNP_pval 1e-6 -bam /local/home/sarahgw/WGS/Sequences/filelists/NJ.filelist -r 1: -P 15"
   ]
  },
  {
   "cell_type": "markdown",
   "metadata": {},
   "source": [
    "ok so if this is true:\n",
    "The likelihood ratio statistic. This statistic is chi square distributed with one degree of freedom\n",
    "Then that means p less than 0.05 is greater than 3.84\n",
    "\n",
    "Right, but you need to do a p adjustment to deal with false positives. Ok, so let's take it into R and calculate p value and correct. \n",
    "Wait, maybe this is already accounting for false positives, paper seems to indicate that, no mention of correcting? Oh, so for standard GWAS there is a set significance thresholde of 5 x 10 ^ -8"
   ]
  },
  {
   "cell_type": "code",
   "execution_count": 1,
   "metadata": {
    "collapsed": true
   },
   "outputs": [],
   "source": [
    "!gunzip /local/home/sarahgw/WGS/SNPS/All_mylu/NJ_assoc.lrt0.gz"
   ]
  },
  {
   "cell_type": "code",
   "execution_count": null,
   "metadata": {
    "collapsed": false
   },
   "outputs": [],
   "source": [
    "awk '$6>3.84' /local/home/sarahgw/WGS/SNPS/All_mylu/NJ_assoc.lrt0 > NJ_assoc_sig.txt"
   ]
  },
  {
   "cell_type": "code",
   "execution_count": null,
   "metadata": {
    "collapsed": true
   },
   "outputs": [],
   "source": []
  }
 ],
 "metadata": {
  "anaconda-cloud": {},
  "kernelspec": {
   "display_name": "Python [conda root]",
   "language": "python",
   "name": "conda-root-py"
  },
  "language_info": {
   "codemirror_mode": {
    "name": "ipython",
    "version": 2
   },
   "file_extension": ".py",
   "mimetype": "text/x-python",
   "name": "python",
   "nbconvert_exporter": "python",
   "pygments_lexer": "ipython2",
   "version": "2.7.12"
  }
 },
 "nbformat": 4,
 "nbformat_minor": 1
}
