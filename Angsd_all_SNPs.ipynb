{
 "cells": [
  {
   "cell_type": "markdown",
   "metadata": {},
   "source": [
    "I'm calling SNPs across all samples, so need to use list of all bamfiles"
   ]
  },
  {
   "cell_type": "markdown",
   "metadata": {},
   "source": [
    "In order to determine how to filter the sites, need to calculate read depth. \n",
    "\n",
    "Therkildsen and Palumbi: excluding sites with a total read depth <300 and >3028 (mean depth +2 standard deviations\n",
    "\n",
    "So need to calculate the mean total read depth (over all samples). \n",
    "\n",
    "Doing some other QC just to see"
   ]
  },
  {
   "cell_type": "code",
   "execution_count": null,
   "metadata": {
    "collapsed": true
   },
   "outputs": [],
   "source": [
    "~/angsd/angsd -P 15 -b /local/home/sarahgw/WGS/Sequences/filelists/All_Mylu.filelist -ref /local/home/sarahgw/references/Myotis_Lucifugus2.0/Myotis_lucifugus.Myoluc2.0.dna_sm.toplevel.fa -out /local/home/sarahgw/WGS/SNPS/All_mylu/All_mylu.qc -trim 0 -C 50 -baq 1 -minMapQ 20 -doQsDist 1 -doDepth 1 -doCounts 1 "
   ]
  },
  {
   "cell_type": "code",
   "execution_count": 8,
   "metadata": {
    "collapsed": false
   },
   "outputs": [
    {
     "name": "stdout",
     "output_type": "stream",
     "text": [
      "0\t34722506\t24494187\t18781257\t15505279\t13280089\t11733819\t10599736\t9692502\t9000465\t8435610\t7978920\t7583040\t7272834\t6995445\t6755575\t6560813\t6380016\t6230125\t6086109\t5963864\t5854799\t5753869\t5671724\t5591462\t5518181\t5460487\t5402144\t5353746\t5307400\t5281874\t5247629\t5226749\t5195715\t5178369\t5161880\t5140600\t5138194\t5131957\t5122806\t5123212\t5135911\t5137450\t5145039\t5150701\t5152173\t5168505\t5187396\t5199103\t5221822\t5250111\t5278970\t5297134\t5319020\t5350320\t5391335\t5429049\t5463923\t5503061\t5541364\t5584375\t5636101\t5678599\t5719778\t5770230\t5826837\t5878937\t5944000\t5992944\t6054056\t6118908\t6174548\t6236423\t6304204\t6376630\t6444535\t6524525\t6594344\t6674012\t6750969\t6843660\t6921796\t7004729\t7092571\t7175919\t7262555\t7355076\t7451900\t7547228\t7638831\t7725831\t7831129\t7928781\t8037637\t8137687\t8235763\t8347101\t8454697\t8556569\t8670231\t1168380830\t\r\n"
     ]
    }
   ],
   "source": [
    "!head /local/home/sarahgw/WGS/SNPS/All_mylu/All_mylu.qc.depthGlobal"
   ]
  },
  {
   "cell_type": "markdown",
   "metadata": {},
   "source": [
    "It binned anything over 100. so, that's good half of the sites have coverage over 100, but we don't know the upper limit. I'm just going to set upper limit to 10,360 since that would mean that each individual would have greater than 10x depth \n",
    "Not setting lower limit since I'm setting -nInd to half the total number, so should eliminate anything that has super low depth"
   ]
  },
  {
   "cell_type": "markdown",
   "metadata": {},
   "source": [
    "Redo SNP calling removing Myse samples:\n",
    "\n",
    "'NJ_U_04_pairedplus_marked_dupes.bam' \n",
    "\n",
    "'NJ_U_14_pairedplus_marked_dupes.bam'\n",
    "\n",
    "'VT_U_05_pairedplus_marked_dupes.bam' \n",
    "\n",
    "'VT_U_03_pairedplus_marked_dupes.bam' \n",
    "\n",
    "call SNPs with filters across all samples. only use sites that have information for at least half the individuals, I think this will be more helpful  \n",
    "\n",
    "\n",
    "add -dogeno 32 and -dopost to this command so you calculate posterior genotype probabilities at the same time.\n",
    "\n",
    "\n",
    "Trying multiple methods for allele frequency estimation just to compare these to the individual population allele freqs. "
   ]
  },
  {
   "cell_type": "code",
   "execution_count": null,
   "metadata": {
    "collapsed": true
   },
   "outputs": [],
   "source": [
    "~/angsd/angsd -b /local/home/sarahgw/WGS/Sequences/filelists/All_Mylu.filelist -dogeno 32 -dopost 1 -GL 1 -doMajorMinor 1 -doMaf 11 -doCounts 1 -minQ 20 -minMapQ 30 -P 20 -SNP_pval 1e-6 -minInd 68 -setMaxDepth 10360 -out /local/home/sarahgw/WGS/SNPS/All_mylu/All_mylu"
   ]
  },
  {
   "cell_type": "code",
   "execution_count": 1,
   "metadata": {
    "collapsed": false
   },
   "outputs": [
    {
     "name": "stdout",
     "output_type": "stream",
     "text": [
      "8255384 /local/home/sarahgw/WGS/SNPS/All_mylu/All_mylu.mafs.gz\r\n"
     ]
    }
   ],
   "source": [
    "!wc -l /local/home/sarahgw/WGS/SNPS/All_mylu/All_mylu.mafs.gz"
   ]
  },
  {
   "cell_type": "markdown",
   "metadata": {},
   "source": [
    "Now calculate minor allele frequencies for each population for SNPS, first make sites index file\n",
    "\n",
    "Include major and minor, so that these are consistent across populations, even if not accurate in a given (sub)population"
   ]
  },
  {
   "cell_type": "code",
   "execution_count": 2,
   "metadata": {
    "collapsed": true
   },
   "outputs": [],
   "source": [
    "!gunzip /local/home/sarahgw/WGS/SNPS/All_mylu/All_mylu.mafs.gz"
   ]
  },
  {
   "cell_type": "code",
   "execution_count": 6,
   "metadata": {
    "collapsed": false
   },
   "outputs": [],
   "source": [
    "!cut -f1-4 /local/home/sarahgw/WGS/SNPS/All_mylu/All_mylu.mafs > /local/home/sarahgw/WGS/SNPS/All_mylu/All_mylu_sites.txt"
   ]
  },
  {
   "cell_type": "code",
   "execution_count": 5,
   "metadata": {
    "collapsed": false
   },
   "outputs": [
    {
     "name": "stdout",
     "output_type": "stream",
     "text": [
      "92371964 /local/home/sarahgw/WGS/SNPS/All_mylu/All_mylu.mafs\r\n"
     ]
    }
   ],
   "source": [
    "!wc -l /local/home/sarahgw/WGS/SNPS/All_mylu/All_mylu.mafs"
   ]
  },
  {
   "cell_type": "markdown",
   "metadata": {},
   "source": [
    "So, we now have 92,371,964 SNPs!"
   ]
  },
  {
   "cell_type": "code",
   "execution_count": 7,
   "metadata": {
    "collapsed": true
   },
   "outputs": [],
   "source": [
    "!tail -n+2 /local/home/sarahgw/WGS/SNPS/All_mylu/All_mylu_sites.txt > /local/home/sarahgw/WGS/SNPS/All_mylu/All_mylu_sites1.txt"
   ]
  },
  {
   "cell_type": "code",
   "execution_count": null,
   "metadata": {
    "collapsed": false
   },
   "outputs": [],
   "source": [
    "~/angsd/angsd sites index All_mylu_sites1.txt"
   ]
  },
  {
   "cell_type": "code",
   "execution_count": null,
   "metadata": {
    "collapsed": true
   },
   "outputs": [],
   "source": [
    "for POP in NJ_U NY_U VT_U; do echo $POP; ~/angsd/angsd -b /local/home/sarahgw/WGS/Sequences/filelists/\"$POP\".filelist -GL 1 -doMajorMinor 3 -doMaf 11 -doCounts 1 -minQ 20 -minMapQ 30 -P 20 -setMaxDepth 10360 -sites /local/home/sarahgw/WGS/SNPS/All_mylu/All_mylu_sites1.txt -out /local/home/sarahgw/WGS/SNPS/All_mylu/\"$POP\"; echo \"mafs done amphiprion\" | mailx gw.sarah@gmail.com; done"
   ]
  },
  {
   "cell_type": "code",
   "execution_count": null,
   "metadata": {
    "collapsed": true
   },
   "outputs": [],
   "source": [
    "for POP in NJ_E NY_E VT_E; do echo $POP; ~/angsd/angsd -b /local/home/sarahgw/WGS/Sequences/filelists/\"$POP\".filelist -GL 1 -doMajorMinor 3 -doMaf 11 -doCounts 1 -minQ 20 -minMapQ 30 -P 20 -setMaxDepth 10360 -sites /local/home/sarahgw/WGS/SNPS/All_mylu/All_mylu_sites1.txt -out /local/home/sarahgw/WGS/SNPS/All_mylu/\"$POP\"; done"
   ]
  },
  {
   "cell_type": "markdown",
   "metadata": {
    "collapsed": true
   },
   "source": [
    "You need to:\n",
    "calculate changes in allele frequency--SNP with highest change??\n",
    "summarize differences in allele frequenceis between pops for mitochondrial and nuclear regions"
   ]
  },
  {
   "cell_type": "code",
   "execution_count": 5,
   "metadata": {
    "collapsed": true
   },
   "outputs": [],
   "source": [
    "!gunzip /local/home/sarahgw/WGS/SNPS/All_mylu/NJ_E.mafs.gz\n",
    "!gunzip /local/home/sarahgw/WGS/SNPS/All_mylu/NJ_U.mafs.gz"
   ]
  },
  {
   "cell_type": "code",
   "execution_count": 6,
   "metadata": {
    "collapsed": false
   },
   "outputs": [
    {
     "name": "stdout",
     "output_type": "stream",
     "text": [
      "chromo\tposition\tmajor\tminor\tknownEM\tunknownEM\tphat\tnInd\r\n",
      "GL429767\t38\tA\tG\t0.000000\t0.000004\t0.000000\t15\r\n",
      "GL429767\t53\tA\tG\t0.000000\t0.000004\t0.000000\t15\r\n",
      "GL429767\t54\tG\tT\t0.000000\t0.000004\t0.000000\t15\r\n",
      "GL429767\t78\tG\tA\t0.109899\t0.109719\t0.119721\t13\r\n",
      "GL429767\t83\tG\tT\t0.000000\t0.000004\t0.000000\t14\r\n",
      "GL429767\t89\tA\tG\t0.000000\t0.000003\t0.000000\t13\r\n",
      "GL429767\t92\tA\tT\t0.000000\t0.000002\t0.000000\t12\r\n",
      "GL429767\t104\tA\tT\t0.207668\t0.207671\t0.232022\t11\r\n",
      "GL429767\t108\tT\tG\t0.000000\t0.000002\t0.000000\t12\r\n"
     ]
    }
   ],
   "source": [
    "!head /local/home/sarahgw/WGS/SNPS/All_mylu/NJ_E.mafs"
   ]
  },
  {
   "cell_type": "code",
   "execution_count": 20,
   "metadata": {
    "collapsed": false
   },
   "outputs": [
    {
     "name": "stdout",
     "output_type": "stream",
     "text": [
      "109424282 /local/home/sarahgw/WGS/SNPS/All_mylu/NJ_E.mafs\r\n"
     ]
    }
   ],
   "source": [
    "!wc -l /local/home/sarahgw/WGS/SNPS/All_mylu/NJ_E.mafs"
   ]
  },
  {
   "cell_type": "code",
   "execution_count": 21,
   "metadata": {
    "collapsed": false
   },
   "outputs": [
    {
     "name": "stdout",
     "output_type": "stream",
     "text": [
      "109424270 /local/home/sarahgw/WGS/SNPS/All_mylu/NJ_U.mafs\r\n"
     ]
    }
   ],
   "source": [
    "!wc -l /local/home/sarahgw/WGS/SNPS/All_mylu/NJ_U.mafs"
   ]
  },
  {
   "cell_type": "code",
   "execution_count": 22,
   "metadata": {
    "collapsed": false
   },
   "outputs": [],
   "source": [
    "!paste /local/home/sarahgw/WGS/SNPS/All_mylu/NJ_E.mafs /local/home/sarahgw/WGS/SNPS/All_mylu/NJ_U.mafs | awk '{print $1\",\"$2\",\"$3\",\"$4\",\"$5\",\"$6\",\"$8\",\"$13\",\"$14\",\"$16}'>/local/home/sarahgw/WGS/SNPS/All_mylu/NJ_EU.mafs"
   ]
  },
  {
   "cell_type": "code",
   "execution_count": 41,
   "metadata": {
    "collapsed": true
   },
   "outputs": [],
   "source": [
    "!gunzip /local/home/sarahgw/WGS/SNPS/All_mylu/NY_E.mafs.gz\n",
    "!gunzip /local/home/sarahgw/WGS/SNPS/All_mylu/NY_U.mafs.gz"
   ]
  },
  {
   "cell_type": "code",
   "execution_count": 42,
   "metadata": {
    "collapsed": false
   },
   "outputs": [
    {
     "name": "stdout",
     "output_type": "stream",
     "text": [
      "109424282 /local/home/sarahgw/WGS/SNPS/All_mylu/NY_E.mafs\n",
      "109424282 /local/home/sarahgw/WGS/SNPS/All_mylu/NY_U.mafs\n"
     ]
    }
   ],
   "source": [
    "!wc -l /local/home/sarahgw/WGS/SNPS/All_mylu/NY_E.mafs\n",
    "!wc -l /local/home/sarahgw/WGS/SNPS/All_mylu/NY_U.mafs"
   ]
  },
  {
   "cell_type": "code",
   "execution_count": 43,
   "metadata": {
    "collapsed": true
   },
   "outputs": [],
   "source": [
    "!paste /local/home/sarahgw/WGS/SNPS/All_mylu/NY_E.mafs /local/home/sarahgw/WGS/SNPS/All_mylu/NY_U.mafs | awk '{print $1\",\"$2\",\"$3\",\"$4\",\"$5\",\"$6\",\"$8\",\"$13\",\"$14\",\"$16}'>/local/home/sarahgw/WGS/SNPS/All_mylu/NY_EU.mafs"
   ]
  },
  {
   "cell_type": "code",
   "execution_count": 44,
   "metadata": {
    "collapsed": true
   },
   "outputs": [],
   "source": [
    "!gunzip /local/home/sarahgw/WGS/SNPS/All_mylu/VT_E.mafs.gz\n",
    "!gunzip /local/home/sarahgw/WGS/SNPS/All_mylu/VT_U.mafs.gz"
   ]
  },
  {
   "cell_type": "code",
   "execution_count": 45,
   "metadata": {
    "collapsed": false
   },
   "outputs": [
    {
     "name": "stdout",
     "output_type": "stream",
     "text": [
      "109424282 /local/home/sarahgw/WGS/SNPS/All_mylu/VT_E.mafs\n",
      "109424282 /local/home/sarahgw/WGS/SNPS/All_mylu/VT_U.mafs\n"
     ]
    }
   ],
   "source": [
    "!wc -l /local/home/sarahgw/WGS/SNPS/All_mylu/VT_E.mafs\n",
    "!wc -l /local/home/sarahgw/WGS/SNPS/All_mylu/VT_U.mafs"
   ]
  },
  {
   "cell_type": "code",
   "execution_count": 1,
   "metadata": {
    "collapsed": true
   },
   "outputs": [],
   "source": [
    "!paste /local/home/sarahgw/WGS/SNPS/All_mylu/VT_E.mafs /local/home/sarahgw/WGS/SNPS/All_mylu/VT_U.mafs | awk '{print $1\",\"$2\",\"$3\",\"$4\",\"$5\",\"$6\",\"$8\",\"$13\",\"$14\",\"$16}'>/local/home/sarahgw/WGS/SNPS/All_mylu/VT_EU.mafs"
   ]
  },
  {
   "cell_type": "code",
   "execution_count": 38,
   "metadata": {
    "collapsed": false
   },
   "outputs": [],
   "source": [
    "f=open('/local/home/sarahgw/WGS/SNPS/All_mylu/NJ_EU.mafs', 'r')\n",
    "o=open('/local/home/sarahgw/WGS/SNPS/All_mylu/NJ_EU2.mafs', 'w')\n",
    "for line in f:\n",
    "    scount=line.count(',')\n",
    "    if scount==9:\n",
    "        o.write(line)\n",
    "    elif 0<=scount<9:\n",
    "        groups=line.split(',')\n",
    "        lineplus=','.join(groups[:2])+''.join([',']*(9-scount))+','+ ','.join(groups[2:])\n",
    "        o.write(lineplus)  \n",
    "o.close() "
   ]
  },
  {
   "cell_type": "code",
   "execution_count": 40,
   "metadata": {
    "collapsed": false,
    "scrolled": true
   },
   "outputs": [
    {
     "name": "stdout",
     "output_type": "stream",
     "text": [
      "AAPE02072767,3095,T,A,0.470258,0.470257,16,,,\r\n",
      "AAPE02072767,3098,C,T,0.000000,0.000002,16,,,\r\n",
      "AAPE02072780,302,G,A,0.000000,0.000001,16,,,\r\n",
      "AAPE02072780,365,G,C,0.000000,0.000002,14,,,\r\n",
      "AAPE02072780,367,A,C,0.048082,0.048083,14,,,\r\n",
      "AAPE02072780,368,C,T,0.000000,0.000002,14,,,\r\n",
      "AAPE02072780,369,T,C,0.000000,0.000004,14,,,\r\n",
      "AAPE02072780,370,T,A,0.066391,0.066390,14,,,\r\n",
      "AAPE02072780,372,T,C,0.000000,0.000003,14,,,\r\n",
      "AAPE02072780,374,C,A,0.000000,0.000001,14,,,\r\n"
     ]
    }
   ],
   "source": [
    "!tail /local/home/sarahgw/WGS/SNPS/All_mylu/NJ_EU2.mafs"
   ]
  },
  {
   "cell_type": "code",
   "execution_count": 10,
   "metadata": {
    "collapsed": false,
    "scrolled": false
   },
   "outputs": [
    {
     "name": "stdout",
     "output_type": "stream",
     "text": [
      "109424282 /local/home/sarahgw/WGS/SNPS/All_mylu/NJ_EU.mafs\r\n"
     ]
    }
   ],
   "source": [
    "!wc -l /local/home/sarahgw/WGS/SNPS/All_mylu/NJ_EU.mafs"
   ]
  },
  {
   "cell_type": "markdown",
   "metadata": {},
   "source": [
    "Calculate posterior genotype probabilities"
   ]
  },
  {
   "cell_type": "code",
   "execution_count": null,
   "metadata": {
    "collapsed": true
   },
   "outputs": [],
   "source": [
    "~/angsd/angsd -b /local/home/sarahgw/WGS/Sequences/filelists/All_Mylu.filelist -dogeno 32 -dopost 1 -gl 1 -domajorminor 1 -P 10 -domaf 1 -sites /local/home/sarahgw/WGS/SNPS/All_mylu/All_mylu_sites1.txt -out /local/home/sarahgw/WGS/SNPS/All_mylu_post"
   ]
  },
  {
   "cell_type": "markdown",
   "metadata": {},
   "source": [
    "Create VCF file"
   ]
  },
  {
   "cell_type": "code",
   "execution_count": null,
   "metadata": {
    "collapsed": true
   },
   "outputs": [],
   "source": [
    "~/angsd/angsd -b /local/home/sarahgw/WGS/Sequences/filelists/All_Mylu.filelist -dovcf 1 -gl 1 -dopost 1 -domajorminor 3 -domaf 1 -sites /local/home/sarahgw/WGS/SNPS/All_mylu/All_mylu_sites1.txt -out /local/home/sarahgw/WGS/SNPS/All_mylu_postv "
   ]
  },
  {
   "cell_type": "code",
   "execution_count": null,
   "metadata": {
    "collapsed": true
   },
   "outputs": [],
   "source": [
    "gunzip /local/home/sarahgw/WGS/SNPS/All_mylu_post.geno.gz"
   ]
  },
  {
   "cell_type": "code",
   "execution_count": null,
   "metadata": {
    "collapsed": true
   },
   "outputs": [],
   "source": [
    "~/ngsTools/ngsPopGen/ngsCovar -probfile /local/home/sarahgw/WGS/SNPS/All_mylu_post.geno -outfile /local/home/sarahgw/WGS/SNPS/All_mylu_post.geno -nind 136 -nsites 109424282 -call 0 -norm 0 &> /dev/null"
   ]
  },
  {
   "cell_type": "code",
   "execution_count": 8,
   "metadata": {
    "collapsed": false
   },
   "outputs": [
    {
     "name": "stdout",
     "output_type": "stream",
     "text": [
      "NJ_E_01_pairedplus_marked_dupes.bam\r\n",
      "NJ_E_02_pairedplus_marked_dupes.bam\r\n",
      "NJ_E_04_pairedplus_marked_dupes.bam\r\n",
      "NJ_E_23_pairedplus_marked_dupes.bam\r\n",
      "NJ_E_24_pairedplus_marked_dupes.bam\r\n",
      "NJ_E_25_pairedplus_marked_dupes.bam\r\n",
      "NJ_E_26_pairedplus_marked_dupes.bam\r\n",
      "NJ_E_28_pairedplus_marked_dupes.bam\r\n",
      "NJ_E_29_pairedplus_marked_dupes.bam\r\n",
      "NJ_E_30_pairedplus_marked_dupes.bam\r\n",
      "NJ_E_05_pairedplus_marked_dupes.bam\r\n",
      "NJ_E_06_pairedplus_marked_dupes.bam\r\n",
      "NJ_E_07_pairedplus_marked_dupes.bam\r\n",
      "NJ_E_08_pairedplus_marked_dupes.bam\r\n",
      "NJ_E_10_pairedplus_marked_dupes.bam\r\n",
      "NJ_E_22_pairedplus_marked_dupes.bam\r\n",
      "NJ_E_13_pairedplus_marked_dupes.bam\r\n",
      "NJ_E_14_pairedplus_marked_dupes.bam\r\n",
      "NJ_E_15_pairedplus_marked_dupes.bam\r\n",
      "NJ_E_16_pairedplus_marked_dupes.bam\r\n",
      "NJ_E_18_pairedplus_marked_dupes.bam\r\n",
      "NJ_E_21_pairedplus_marked_dupes.bam\r\n",
      "NJ_U_01_pairedplus_marked_dupes.bam\r\n",
      "NJ_U_02_pairedplus_marked_dupes.bam\r\n",
      "NJ_U_03_pairedplus_marked_dupes.bam\r\n",
      "NJ_U_04_pairedplus_marked_dupes.bam\r\n",
      "NJ_U_05_pairedplus_marked_dupes.bam\r\n",
      "NJ_U_06_pairedplus_marked_dupes.bam\r\n",
      "NJ_U_08_pairedplus_marked_dupes.bam\r\n",
      "NJ_U_09_pairedplus_marked_dupes.bam\r\n",
      "NJ_U_10_pairedplus_marked_dupes.bam\r\n",
      "NJ_U_11_pairedplus_marked_dupes.bam\r\n",
      "NJ_U_12_pairedplus_marked_dupes.bam\r\n",
      "NJ_U_14_pairedplus_marked_dupes.bam\r\n",
      "NJ_U_15_pairedplus_marked_dupes.bam\r\n",
      "NJ_U_16_pairedplus_marked_dupes.bam\r\n",
      "NJ_U_21_pairedplus_marked_dupes.bam\r\n",
      "NJ_U_22_pairedplus_marked_dupes.bam\r\n",
      "NJ_U_23_pairedplus_marked_dupes.bam\r\n",
      "NJ_U_25_pairedplus_marked_dupes.bam\r\n",
      "NJ_U_07_pairedplus_marked_dupes.bam\r\n",
      "NJ_U_17_pairedplus_marked_dupes.bam\r\n",
      "NJ_U_18_pairedplus_marked_dupes.bam\r\n",
      "NJ_U_19_pairedplus_marked_dupes.bam\r\n",
      "NY_E_15_pairedplus_marked_dupes.bam\r\n",
      "NY_E_16_pairedplus_marked_dupes.bam\r\n",
      "NY_E_17_pairedplus_marked_dupes.bam\r\n",
      "NY_E_18_pairedplus_marked_dupes.bam\r\n",
      "NY_E_27_pairedplus_marked_dupes.bam\r\n",
      "NY_E_28_pairedplus_marked_dupes.bam\r\n",
      "NY_E_29_pairedplus_marked_dupes.bam\r\n",
      "NY_E_30_pairedplus_marked_dupes.bam\r\n",
      "NY_E_19_pairedplus_marked_dupes.bam\r\n",
      "NY_E_21_pairedplus_marked_dupes.bam\r\n",
      "NY_E_22_pairedplus_marked_dupes.bam\r\n",
      "NY_E_23_pairedplus_marked_dupes.bam\r\n",
      "NY_E_25_pairedplus_marked_dupes.bam\r\n",
      "NY_E_03_pairedplus_marked_dupes.bam\r\n",
      "NY_E_04_pairedplus_marked_dupes.bam\r\n",
      "NY_E_05_pairedplus_marked_dupes.bam\r\n",
      "NY_E_06_pairedplus_marked_dupes.bam\r\n",
      "NY_E_07_pairedplus_marked_dupes.bam\r\n",
      "NY_E_08_pairedplus_marked_dupes.bam\r\n",
      "NY_E_09_pairedplus_marked_dupes.bam\r\n",
      "NY_E_10_pairedplus_marked_dupes.bam\r\n",
      "NY_U_10_pairedplus_marked_dupes.bam\r\n",
      "NY_U_11_pairedplus_marked_dupes.bam\r\n",
      "NY_U_12_pairedplus_marked_dupes.bam\r\n",
      "NY_U_14_pairedplus_marked_dupes.bam\r\n",
      "NY_U_15_pairedplus_marked_dupes.bam\r\n",
      "NY_U_16_pairedplus_marked_dupes.bam\r\n",
      "NY_U_18_pairedplus_marked_dupes.bam\r\n",
      "NY_U_19_pairedplus_marked_dupes.bam\r\n",
      "NY_U_21_pairedplus_marked_dupes.bam\r\n",
      "NY_U_23_pairedplus_marked_dupes.bam\r\n",
      "NY_U_25_pairedplus_marked_dupes.bam\r\n",
      "NY_U_26_pairedplus_marked_dupes.bam\r\n",
      "NY_U_27_pairedplus_marked_dupes.bam\r\n",
      "NY_U_28_pairedplus_marked_dupes.bam\r\n",
      "NY_U_30_pairedplus_marked_dupes.bam\r\n",
      "NY_U_01_pairedplus_marked_dupes.bam\r\n",
      "NY_U_02_pairedplus_marked_dupes.bam\r\n",
      "NY_U_03_pairedplus_marked_dupes.bam\r\n",
      "NY_U_04_pairedplus_marked_dupes.bam\r\n",
      "NY_U_05_pairedplus_marked_dupes.bam\r\n",
      "NY_U_06_pairedplus_marked_dupes.bam\r\n",
      "NY_U_07_pairedplus_marked_dupes.bam\r\n",
      "VT_E_10_pairedplus_marked_dupes.bam\r\n",
      "VT_E_11_pairedplus_marked_dupes.bam\r\n",
      "VT_E_12_pairedplus_marked_dupes.bam\r\n",
      "VT_E_13_pairedplus_marked_dupes.bam\r\n",
      "VT_E_14_pairedplus_marked_dupes.bam\r\n",
      "VT_E_15_pairedplus_marked_dupes.bam\r\n",
      "VT_E_16_pairedplus_marked_dupes.bam\r\n",
      "VT_E_17_pairedplus_marked_dupes.bam\r\n",
      "VT_E_26_pairedplus_marked_dupes.bam\r\n",
      "VT_E_28_pairedplus_marked_dupes.bam\r\n",
      "VT_E_29_pairedplus_marked_dupes.bam\r\n",
      "VT_E_30_pairedplus_marked_dupes.bam\r\n",
      "VT_E_01_pairedplus_marked_dupes.bam\r\n",
      "VT_E_25_pairedplus_marked_dupes.bam\r\n",
      "VT_E_18_pairedplus_marked_dupes.bam\r\n",
      "VT_E_19_pairedplus_marked_dupes.bam\r\n",
      "VT_E_21_pairedplus_marked_dupes.bam\r\n",
      "VT_E_22_pairedplus_marked_dupes.bam\r\n",
      "VT_E_24_pairedplus_marked_dupes.bam\r\n",
      "VT_E_02_pairedplus_marked_dupes.bam\r\n",
      "VT_E_03_pairedplus_marked_dupes.bam\r\n",
      "VT_E_04_pairedplus_marked_dupes.bam\r\n",
      "VT_E_05_pairedplus_marked_dupes.bam\r\n",
      "VT_E_06_pairedplus_marked_dupes.bam\r\n",
      "VT_E_07_pairedplus_marked_dupes.bam\r\n",
      "VT_E_08_pairedplus_marked_dupes.bam\r\n",
      "VT_E_09_pairedplus_marked_dupes.bam\r\n",
      "VT_U_05_pairedplus_marked_dupes.bam\r\n",
      "VT_U_09_pairedplus_marked_dupes.bam\r\n",
      "VT_U_10_pairedplus_marked_dupes.bam\r\n",
      "VT_U_11_pairedplus_marked_dupes.bam\r\n",
      "VT_U_01_pairedplus_marked_dupes.bam\r\n",
      "VT_U_02_pairedplus_marked_dupes.bam\r\n",
      "VT_U_03_pairedplus_marked_dupes.bam\r\n",
      "VT_U_27_pairedplus_marked_dupes.bam\r\n",
      "VT_U_29_pairedplus_marked_dupes.bam\r\n",
      "VT_U_31_pairedplus_marked_dupes.bam\r\n",
      "VT_U_20_pairedplus_marked_dupes.bam\r\n",
      "VT_U_22_pairedplus_marked_dupes.bam\r\n",
      "VT_U_25_pairedplus_marked_dupes.bam\r\n",
      "VT_U_26_pairedplus_marked_dupes.bam\r\n",
      "VT_U_12_pairedplus_marked_dupes.bam\r\n",
      "VT_U_14_pairedplus_marked_dupes.bam\r\n",
      "VT_U_15_pairedplus_marked_dupes.bam\r\n",
      "VT_U_17_pairedplus_marked_dupes.bam\r\n",
      "VT_U_19_pairedplus_marked_dupes.bam\r\n",
      "VT_U_33_pairedplus_marked_dupes.bam\r\n",
      "VT_U_37_pairedplus_marked_dupes.bam\r\n",
      "VT_U_40_pairedplus_marked_dupes.bam\r\n"
     ]
    }
   ],
   "source": [
    "!head -n 136 /local/home/sarahgw/WGS/Sequences/filelists/All_Mylu.filelist"
   ]
  },
  {
   "cell_type": "code",
   "execution_count": 9,
   "metadata": {
    "collapsed": false
   },
   "outputs": [],
   "source": [
    "!Rscript -e 'write.table(cbind(seq(1,136),rep(1,136),c(rep(\"NJ_E\",22),rep(\"NJ_U\",22),rep(\"NY_E\",21), rep(\"NY_U\",22), rep(\"VT_E\",27), rep(\"VT_U\",22))), row.names=F, sep=\"\\t\", col.names=c(\"FID\",\"IID\",\"CLUSTER\"), file=\"/local/home/sarahgw/WGS/SNPS/All_mylu/ALL_mylu.clst\", quote=F)'"
   ]
  },
  {
   "cell_type": "code",
   "execution_count": 11,
   "metadata": {
    "collapsed": false
   },
   "outputs": [
    {
     "name": "stdout",
     "output_type": "stream",
     "text": [
      "127\t1\tVT_U\r\n",
      "128\t1\tVT_U\r\n",
      "129\t1\tVT_U\r\n",
      "130\t1\tVT_U\r\n",
      "131\t1\tVT_U\r\n",
      "132\t1\tVT_U\r\n",
      "133\t1\tVT_U\r\n",
      "134\t1\tVT_U\r\n",
      "135\t1\tVT_U\r\n",
      "136\t1\tVT_U\r\n"
     ]
    }
   ],
   "source": [
    "!tail /local/home/sarahgw/WGS/SNPS/All_mylu/ALL_mylu.clst"
   ]
  },
  {
   "cell_type": "code",
   "execution_count": 16,
   "metadata": {
    "collapsed": false
   },
   "outputs": [
    {
     "name": "stdout",
     "output_type": "stream",
     "text": [
      "2.41 1.75 1.52 1.45 1.4 1.39 1.32 1.26 1.23 1.23 1.22 1.17 1.16 1.11 1.09 1.08 1.07 1.06 1.05 1.04 1.01 1.01 1 0.998 0.988 0.977 0.964 0.95 0.947 0.941 0.934 0.929 0.922 0.91 0.905 0.903 0.902 0.901 0.898 0.896 0.884 0.872 0.865 0.864 0.861 0.854 0.846 0.843 0.839 0.834 0.828 0.823 0.819 0.816 0.812 0.808 0.804 0.793 0.786 0.768 0.75 0.739 0.737 0.732 0.726 0.72 0.713 0.706 0.703 0.693 0.684 0.679 0.671 0.66 0.656 0.653 0.645 0.64 0.63 0.614 0.612 0.606 0.597 0.592 0.584 0.577 0.577 0.576 0.575 0.568 0.565 0.56 0.556 0.549 0.543 0.538 0.534 0.529 0.522 0.513 0.505 0.5 0.496 0.493 0.489 0.485 0.481 0.473 0.468 0.464 0.462 0.448 0.439 0.432 0.426 0.419 0.415 0.398 0.387 0.377 0.363 0.349 0.344 0.335 0.318 0.311 0.307 0.302 0.293 0.275 0.269 0.253 0.234 0.231 0.229 0.00259 \n",
      "Saving 7 x 7 in image\n"
     ]
    }
   ],
   "source": [
    "!Rscript /local/home/sarahgw/ngsTools/Scripts/plotPCA.R -i /local/home/sarahgw/WGS/SNPS/All_mylu/All_mylu_post.covar -c 1-2 -a /local/home/sarahgw/WGS/SNPS/All_mylu/ALL_mylu.clst -o /local/home/sarahgw/WGS/SNPS/All_mylu/ALL_mylu.pca.pdf"
   ]
  },
  {
   "cell_type": "code",
   "execution_count": 19,
   "metadata": {
    "collapsed": false
   },
   "outputs": [
    {
     "data": {
      "image/png": "[encoded data removed]",
      "text/plain": [
       "<wand.image.Image: becad87 'PDF' (503x503)>"
      ]
     },
     "execution_count": 19,
     "metadata": {},
     "output_type": "execute_result"
    }
   ],
   "source": [
    "from wand.image import Image as WImage\n",
    "img = WImage(filename='/local/home/sarahgw/WGS/SNPS/All_mylu/ALL_mylu.pca.pdf')\n",
    "img"
   ]
  },
  {
   "cell_type": "code",
   "execution_count": null,
   "metadata": {
    "collapsed": true
   },
   "outputs": [],
   "source": []
  },
  {
   "cell_type": "markdown",
   "metadata": {
    "collapsed": true
   },
   "source": [
    "separate mafs for mitochondrial"
   ]
  },
  {
   "cell_type": "code",
   "execution_count": null,
   "metadata": {
    "collapsed": true
   },
   "outputs": [],
   "source": [
    "zgrep 'AAPE02072785' NJ_E.mafs.gz > NJ_E_AAPE02072785.mafs"
   ]
  },
  {
   "cell_type": "code",
   "execution_count": null,
   "metadata": {
    "collapsed": true
   },
   "outputs": [],
   "source": [
    "zgrep 'AAPE02072785' NJ_U.mafs.gz > NJ_U_AAPE02072785.mafs"
   ]
  },
  {
   "cell_type": "markdown",
   "metadata": {},
   "source": [
    "look for associations for each group.\n",
    "Paper on method for determining associations: https://bmcbioinformatics.biomedcentral.com/articles/10.1186/1471-2105-12-231"
   ]
  },
  {
   "cell_type": "code",
   "execution_count": null,
   "metadata": {
    "collapsed": true
   },
   "outputs": [],
   "source": []
  },
  {
   "cell_type": "code",
   "execution_count": null,
   "metadata": {
    "collapsed": false,
    "scrolled": true
   },
   "outputs": [],
   "source": [
    "sed -e 's/NJ_E_.._pairedplus_marked_dupes.bam/1/g' -e 's/NJ_U_.._pairedplus_marked_dupes.bam/0/g' NJ.filelist > NJ_pheno.ybin"
   ]
  },
  {
   "cell_type": "code",
   "execution_count": null,
   "metadata": {
    "collapsed": true
   },
   "outputs": [],
   "source": [
    "sed -e 's/NY_E_.._pairedplus_marked_dupes.bam/1/g' -e 's/NY_U_.._pairedplus_marked_dupes.bam/0/g' NY.filelist > NY_pheno.ybin"
   ]
  },
  {
   "cell_type": "code",
   "execution_count": null,
   "metadata": {
    "collapsed": true
   },
   "outputs": [],
   "source": [
    "sed -e 's/VT_E_.._pairedplus_marked_dupes.bam/1/g' -e 's/VT_U_.._pairedplus_marked_dupes.bam/0/g' VT.filelist > VT_pheno.ybin"
   ]
  },
  {
   "cell_type": "code",
   "execution_count": null,
   "metadata": {
    "collapsed": false,
    "scrolled": true
   },
   "outputs": [],
   "source": [
    "!awk {print} /local/home/sarahgw/WGS/Sequences/filelists/VT_pheno.ybin"
   ]
  },
  {
   "cell_type": "code",
   "execution_count": null,
   "metadata": {
    "collapsed": false
   },
   "outputs": [],
   "source": [
    "!wc -l /local/home/sarahgw/WGS/Sequences/filelists/NJ_pheno.ybin"
   ]
  },
  {
   "cell_type": "code",
   "execution_count": null,
   "metadata": {
    "collapsed": true
   },
   "outputs": [],
   "source": [
    "/local/home/sarahgw/angsd/angsd -yBin /local/home/sarahgw/WGS/Sequences/filelists/NJ_pheno.ybin -doAsso 1 -GL 1 -out NJ_assoc -doMajorMinor 1 -doMaf 1 -minQ 20 -minMapQ 30 -SNP_pval 1e-6 -bam /local/home/sarahgw/WGS/Sequences/filelists/NJ.filelist -P 15"
   ]
  },
  {
   "cell_type": "code",
   "execution_count": null,
   "metadata": {
    "collapsed": true
   },
   "outputs": [],
   "source": [
    "/local/home/sarahgw/angsd/angsd -yBin /local/home/sarahgw/WGS/Sequences/filelists/NY_pheno.ybin -doAsso 1 -GL 1 -out NY_assoc -doMajorMinor 1 -doMaf 1 -minQ 20 -minMapQ 30 -SNP_pval 1e-6 -bam /local/home/sarahgw/WGS/Sequences/filelists/NY.filelist -P 15"
   ]
  },
  {
   "cell_type": "code",
   "execution_count": null,
   "metadata": {
    "collapsed": true
   },
   "outputs": [],
   "source": [
    "/local/home/sarahgw/angsd/angsd -yBin /local/home/sarahgw/WGS/Sequences/filelists/VT_pheno.ybin -doAsso 1 -GL 1 -out VT_assoc -doMajorMinor 1 -doMaf 1 -minQ 20 -minMapQ 30 -SNP_pval 1e-6 -bam /local/home/sarahgw/WGS/Sequences/filelists/VT.filelist -P 15; echo \"VT Assoc done amphiprion\" | mailx gw.sarah@gmail.com"
   ]
  },
  {
   "cell_type": "markdown",
   "metadata": {},
   "source": [
    "ok so if this is true:\n",
    "The likelihood ratio statistic. This statistic is chi square distributed with one degree of freedom\n",
    "Then that means p less than 0.05 is greater than 3.84\n",
    "\n",
    "Right, but you need to do a p adjustment to deal with false positives. Ok, so let's take it into R and calculate p value and correct. \n",
    "Wait, maybe this is already accounting for false positives, paper seems to indicate that, no mention of correcting? Oh, so for standard GWAS there is a set significance thresholde of 5 x 10 ^ -8"
   ]
  },
  {
   "cell_type": "code",
   "execution_count": null,
   "metadata": {
    "collapsed": true
   },
   "outputs": [],
   "source": [
    "!gunzip /local/home/sarahgw/WGS/SNPS/All_mylu/NJ_assoc.lrt0.gz\n",
    "!gunzip /local/home/sarahgw/WGS/SNPS/All_mylu/NJ_assoc.mafs.gz\n",
    "!gunzip /local/home/sarahgw/WGS/SNPS/All_mylu/NY_assoc.lrt0.gz\n",
    "!gunzip /local/home/sarahgw/WGS/SNPS/All_mylu/VT_assoc.lrt0.gz"
   ]
  },
  {
   "cell_type": "markdown",
   "metadata": {
    "collapsed": true
   },
   "source": [
    "Going to just try calculating sample allele frequency for snps for two populations, then I can maybe just look for highest changes in allele frequency like they did in tasmanian devil paper: https://www.nature.com/articles/ncomms12684#methods\n",
    "Fitst, need to make indexes from list of snps so that you can input them as -sites file."
   ]
  },
  {
   "cell_type": "code",
   "execution_count": null,
   "metadata": {
    "collapsed": true
   },
   "outputs": [],
   "source": [
    "/local/home/sarahgw/angsd/misc/realSFS print NJ_E.saf.idx NJ_U.saf.idx -r GL429767:6000000-6000100 > NJSaf_test"
   ]
  },
  {
   "cell_type": "code",
   "execution_count": null,
   "metadata": {
    "collapsed": false,
    "scrolled": true
   },
   "outputs": [],
   "source": [
    "!awk '{print NF; exit}' /local/home/sarahgw/WGS/SNPS/All_mylu/NJSaf_test "
   ]
  },
  {
   "cell_type": "markdown",
   "metadata": {},
   "source": [
    "Let's try doing doMaf-0 to see if that will give us allele frequencies? No, there is no output"
   ]
  },
  {
   "cell_type": "markdown",
   "metadata": {},
   "source": [
    "Okay, now let's calculate the posterior genotype probabilities In order to do that we first need to do sfs with E and U separately. Since I'm not doing the whole thing, need to take first line make new sfs file, remember folded sfs has half as many categories as unfolded sfs"
   ]
  },
  {
   "cell_type": "code",
   "execution_count": null,
   "metadata": {
    "collapsed": true
   },
   "outputs": [],
   "source": [
    "~/angsd/misc/realSFS -P 20 NJ_E.saf.idx -nsites 1000000000 > NJ_E_sub.ml"
   ]
  },
  {
   "cell_type": "code",
   "execution_count": null,
   "metadata": {
    "collapsed": true
   },
   "outputs": [],
   "source": [
    "~/angsd/misc/realSFS -P 20 NJ_U.saf.idx -nsites 1000000000 > NJ_U_sub.ml"
   ]
  },
  {
   "cell_type": "code",
   "execution_count": null,
   "metadata": {
    "collapsed": true
   },
   "outputs": [],
   "source": [
    "./angsd -dopost 3 -b list -gl 1 -domajorminor 1 -domaf 1 -pest angsdput.saf.idx.ml -dogeno 2 -r 1 -out angsdput2"
   ]
  },
  {
   "cell_type": "code",
   "execution_count": null,
   "metadata": {
    "collapsed": true
   },
   "outputs": [],
   "source": [
    "~/angsd/angsd -dopost 3 -fold 1 -anc /local/home/sarahgw/references/Myotis_Lucifugus2.0/Myotis_lucifugus.Myoluc2.0.dna_sm.toplevel.fa -P 10 -b /local/home/sarahgw/WGS/Sequences/filelists/NJ_U.filelist \n",
    "-gl 1 -domajorminor 1 -domaf 1 -pest /local/home/sarahgw/WGS/SNPS/All_mylu/NJ_U_sub1.ml -minMapQ 30 -minQ 20 -dogeno 2 -out NJ_U_posterior"
   ]
  },
  {
   "cell_type": "code",
   "execution_count": null,
   "metadata": {
    "collapsed": true
   },
   "outputs": [],
   "source": [
    "~/angsd/angsd -P 10 -b /local/home/sarahgw/WGS/Sequences/filelists/NJ_E.filelist -fold 1 -anc /local/home/sarahgw/references/Myotis_Lucifugus2.0/Myotis_lucifugus.Myoluc2.0.dna_sm.toplevel.fa -dopost -sfs NJ_U_sub.ml -gl 1 -minMapQ 30 -minQ 20 -doMajorMinor 1 -out NJ_E_posterior"
   ]
  }
 ],
 "metadata": {
  "anaconda-cloud": {},
  "kernelspec": {
   "display_name": "Python [conda root]",
   "language": "python",
   "name": "conda-root-py"
  },
  "language_info": {
   "codemirror_mode": {
    "name": "ipython",
    "version": 2
   },
   "file_extension": ".py",
   "mimetype": "text/x-python",
   "name": "python",
   "nbconvert_exporter": "python",
   "pygments_lexer": "ipython2",
   "version": "2.7.12"
  }
 },
 "nbformat": 4,
 "nbformat_minor": 1
}
