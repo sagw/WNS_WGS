{
 "cells": [
  {
   "cell_type": "markdown",
   "metadata": {},
   "source": [
    "Need to separate out myotis septentrionalis from lucifugus (and other species?)\n",
    "\n",
    "Filter bam files to just mitochondrial region ('AAPE02072785')\n"
   ]
  },
  {
   "cell_type": "code",
   "execution_count": null,
   "metadata": {
    "collapsed": true
   },
   "outputs": [],
   "source": [
    "for file in $(ls); do samtools index -b $file ; done"
   ]
  },
  {
   "cell_type": "code",
   "execution_count": null,
   "metadata": {
    "collapsed": true
   },
   "outputs": [],
   "source": [
    "for file in $(ls *.bam); do samtools view -b $file AAPE02072785 > mito_\"$file\"; done"
   ]
  },
  {
   "cell_type": "code",
   "execution_count": null,
   "metadata": {
    "collapsed": true
   },
   "outputs": [],
   "source": [
    "for file in $(ls mito_*); do samtools index -b $file ; done"
   ]
  },
  {
   "cell_type": "markdown",
   "metadata": {},
   "source": [
    "Import into IGV using the mitochondrial genome available here: https://www.ncbi.nlm.nih.gov/nuccore/NC_029849.1?report=fasta\n",
    "\n",
    "These are the PCA outliers:\n",
    "'NJ_U_04_pairedplus_marked_dupes.bam' \n",
    "'NJ_U_14_pairedplus_marked_dupes.bam' \n",
    "'VT_U_05_pairedplus_marked_dupes.bam' \n",
    "'VT_U_03_pairedplus_marked_dupes.bam' \n",
    "'VT_U_31_pairedplus_marked_dupes.bam'\n",
    "\n",
    "Pretty clear that they look different from both the reference and the other sequences, and all in the same way. VT_U_31 does not appear to be a different species, not sure why this is outlier. "
   ]
  },
  {
   "cell_type": "markdown",
   "metadata": {
    "collapsed": true
   },
   "source": [
    "convert mito bam files for candidate septentionalis to fasta using bedtools:"
   ]
  },
  {
   "cell_type": "code",
   "execution_count": null,
   "metadata": {
    "collapsed": true
   },
   "outputs": [],
   "source": [
    "bedtools bamtofastq  -i /local/home/sarahgw/WGS/Sequences/All_Mylu_bam/mito_NJ_U_04_pairedplus_marked_dupes.bam -fq /local/home/sarahgw/WGS/Sequences/All_Mylu_bam/mito_NJ_U_04.fastq"
   ]
  },
  {
   "cell_type": "code",
   "execution_count": 1,
   "metadata": {
    "collapsed": false
   },
   "outputs": [
    {
     "name": "stdout",
     "output_type": "stream",
     "text": [
      "Converted 8947 records\n"
     ]
    }
   ],
   "source": [
    "from Bio import SeqIO\n",
    "\n",
    "with open(\"/local/home/sarahgw/WGS/Sequences/All_Mylu_bam/mito_NJ_U_04.fastq\", \"rU\") as input_handle, open(\"/local/home/sarahgw/WGS/Sequences/All_Mylu_bam/mito_NJ_U_04.fasta\", \"w\") as output_handle:\n",
    "    sequences = SeqIO.parse(input_handle, \"fastq\")\n",
    "    count = SeqIO.write(sequences, output_handle, \"fasta\")\n",
    "\n",
    "print(\"Converted %i records\" % count)"
   ]
  },
  {
   "cell_type": "code",
   "execution_count": null,
   "metadata": {
    "collapsed": true
   },
   "outputs": [],
   "source": []
  },
  {
   "cell_type": "code",
   "execution_count": null,
   "metadata": {
    "collapsed": true
   },
   "outputs": [],
   "source": []
  }
 ],
 "metadata": {
  "anaconda-cloud": {},
  "kernelspec": {
   "display_name": "Python [conda root]",
   "language": "python",
   "name": "conda-root-py"
  },
  "language_info": {
   "codemirror_mode": {
    "name": "ipython",
    "version": 2
   },
   "file_extension": ".py",
   "mimetype": "text/x-python",
   "name": "python",
   "nbconvert_exporter": "python",
   "pygments_lexer": "ipython2",
   "version": "2.7.12"
  }
 },
 "nbformat": 4,
 "nbformat_minor": 1
}
