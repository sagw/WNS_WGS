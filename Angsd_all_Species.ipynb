{
 "cells": [
  {
   "cell_type": "markdown",
   "metadata": {},
   "source": [
    "Need to separate out myotis septentrionalis from lucifugus (and other species?)\n",
    "\n",
    "Filter bam files to just mitochondrial region ('AAPE02072785')\n"
   ]
  },
  {
   "cell_type": "code",
   "execution_count": null,
   "metadata": {
    "collapsed": true
   },
   "outputs": [],
   "source": [
    "for file in $(ls); do samtools index -b $file ; done"
   ]
  },
  {
   "cell_type": "code",
   "execution_count": null,
   "metadata": {
    "collapsed": true
   },
   "outputs": [],
   "source": [
    "for file in $(ls *.bam); do samtools view -b $file AAPE02072785 > mito_\"$file\"; done"
   ]
  },
  {
   "cell_type": "code",
   "execution_count": null,
   "metadata": {
    "collapsed": true
   },
   "outputs": [],
   "source": [
    "for file in $(ls mito_*); do samtools index -b $file ; done"
   ]
  },
  {
   "cell_type": "markdown",
   "metadata": {},
   "source": [
    "Import into IGV using the mitochondrial genome available here: https://www.ncbi.nlm.nih.gov/nuccore/NC_029849.1?report=fasta\n",
    "\n",
    "These are the PCA outliers:\n",
    "'NJ_U_04_pairedplus_marked_dupes.bam' \n",
    "'NJ_U_14_pairedplus_marked_dupes.bam' \n",
    "'VT_U_05_pairedplus_marked_dupes.bam' \n",
    "'VT_U_03_pairedplus_marked_dupes.bam' \n",
    "'VT_U_31_pairedplus_marked_dupes.bam'\n",
    "\n",
    "There are several places where the outliers from the PCA all have deletions. But is it because they are septentrionalis?\n",
    "There is no complete mito genome for septentrionalis"
   ]
  },
  {
   "cell_type": "code",
   "execution_count": null,
   "metadata": {
    "collapsed": true
   },
   "outputs": [],
   "source": []
  },
  {
   "cell_type": "code",
   "execution_count": null,
   "metadata": {
    "collapsed": true
   },
   "outputs": [],
   "source": []
  }
 ],
 "metadata": {
  "anaconda-cloud": {},
  "kernelspec": {
   "display_name": "Python [conda root]",
   "language": "python",
   "name": "conda-root-py"
  },
  "language_info": {
   "codemirror_mode": {
    "name": "ipython",
    "version": 2
   },
   "file_extension": ".py",
   "mimetype": "text/x-python",
   "name": "python",
   "nbconvert_exporter": "python",
   "pygments_lexer": "ipython2",
   "version": "2.7.12"
  }
 },
 "nbformat": 4,
 "nbformat_minor": 1
}
