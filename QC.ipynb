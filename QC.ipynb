{
 "cells": [
  {
   "cell_type": "code",
   "execution_count": 11,
   "metadata": {
    "collapsed": true,
    "scrolled": true
   },
   "outputs": [],
   "source": [
    "! mkdir /local/home/sarahgw/WGS/Sequences/hiseq_2016_12_07/NJ_U_01"
   ]
  },
  {
   "cell_type": "code",
   "execution_count": 12,
   "metadata": {
    "collapsed": false,
    "scrolled": true
   },
   "outputs": [],
   "source": [
    "! cp /local/shared/pinsky_lab/sequencing/hiseq_2016_12_07_SEQ18/xVUAm7hdX422fBBHl/N502-CTCTCTAT-X-N703-TTCTGCCT_Pinsky-24gDNA-for-316-cycles-H2L52BCXY_2_Read_*_passed_filter.fastq /local/home/sarahgw/WGS/Sequences/hiseq_2016_12_07/NJ_U_01"
   ]
  },
  {
   "cell_type": "code",
   "execution_count": 17,
   "metadata": {
    "collapsed": false,
    "scrolled": true
   },
   "outputs": [
    {
     "name": "stdout",
     "output_type": "stream",
     "text": [
      "N502-CTCTCTAT-X-N703-TTCTGCCT_Pinsky-24gDNA-for-316-cycles-H2L52BCXY_2_Read_1_passed_filter.fastq\r\n",
      "N502-CTCTCTAT-X-N703-TTCTGCCT_Pinsky-24gDNA-for-316-cycles-H2L52BCXY_2_Read_4_passed_filter.fastq\r\n"
     ]
    }
   ],
   "source": [
    "!ls /local/home/sarahgw/WGS/Sequences/hiseq_2016_12_07/NJ_U_01/"
   ]
  },
  {
   "cell_type": "code",
   "execution_count": 18,
   "metadata": {
    "collapsed": true,
    "scrolled": true
   },
   "outputs": [],
   "source": [
    "!rename '_Pinsky-24gDNA-for-316-cycles-H2L52BCXY_2_' '' /local/home/sarahgw/WGS/Sequences/hiseq_2016_12_07/NJ_U_01/*"
   ]
  },
  {
   "cell_type": "code",
   "execution_count": 19,
   "metadata": {
    "collapsed": false,
    "scrolled": true
   },
   "outputs": [
    {
     "name": "stdout",
     "output_type": "stream",
     "text": [
      "N502-CTCTCTAT-X-N703-TTCTGCCTRead_1_passed_filter.fastq\r\n",
      "N502-CTCTCTAT-X-N703-TTCTGCCTRead_4_passed_filter.fastq\r\n"
     ]
    }
   ],
   "source": [
    "!ls /local/home/sarahgw/WGS/Sequences/hiseq_2016_12_07/NJ_U_01/"
   ]
  },
  {
   "cell_type": "code",
   "execution_count": 20,
   "metadata": {
    "collapsed": true,
    "scrolled": true
   },
   "outputs": [],
   "source": [
    "!rename 'Read_1_passed_filter' '_Read1' /local/home/sarahgw/WGS/Sequences/hiseq_2016_12_07/NJ_U_01/*"
   ]
  },
  {
   "cell_type": "code",
   "execution_count": 21,
   "metadata": {
    "collapsed": true,
    "scrolled": true
   },
   "outputs": [],
   "source": [
    "!rename 'Read_4_passed_filter' '_Read2' /local/home/sarahgw/WGS/Sequences/hiseq_2016_12_07/NJ_U_01/*"
   ]
  },
  {
   "cell_type": "code",
   "execution_count": 22,
   "metadata": {
    "collapsed": false,
    "scrolled": true
   },
   "outputs": [
    {
     "name": "stdout",
     "output_type": "stream",
     "text": [
      "N502-CTCTCTAT-X-N703-TTCTGCCT_Read1.fastq\r\n",
      "N502-CTCTCTAT-X-N703-TTCTGCCT_Read2.fastq\r\n"
     ]
    }
   ],
   "source": [
    "!ls /local/home/sarahgw/WGS/Sequences/hiseq_2016_12_07/NJ_U_01/"
   ]
  },
  {
   "cell_type": "code",
   "execution_count": 24,
   "metadata": {
    "collapsed": true,
    "scrolled": true
   },
   "outputs": [],
   "source": [
    "! mkdir /local/home/sarahgw/WGS/Sequences/hiseq_2016_12_07_nomatch/"
   ]
  },
  {
   "cell_type": "code",
   "execution_count": 25,
   "metadata": {
    "collapsed": true,
    "scrolled": false
   },
   "outputs": [],
   "source": [
    "! mv /local/home/sarahgw/WGS/Sequences/hiseq_2016_12_07/index.html /local/home/sarahgw/WGS/Sequences/hiseq_2016_12_07_nomatch/"
   ]
  },
  {
   "cell_type": "code",
   "execution_count": 27,
   "metadata": {
    "collapsed": true,
    "scrolled": false
   },
   "outputs": [],
   "source": [
    "! mv /local/home/sarahgw/WGS/Sequences/hiseq_2016_12_07/unmatched_Read*.fastq /local/home/sarahgw/WGS/Sequences/hiseq_2016_12_07_nomatch/"
   ]
  },
  {
   "cell_type": "code",
   "execution_count": 44,
   "metadata": {
    "collapsed": false,
    "scrolled": false
   },
   "outputs": [],
   "source": [
    "!ls /local/home/sarahgw/WGS/Sequences/hiseq_2016_12_07/NJ_E_22/* > /local/home/sarahgw/WGS/Sequences/hiseq_2016_12_07/NJ_E_22/forFastUniq.txt"
   ]
  },
  {
   "cell_type": "code",
   "execution_count": 46,
   "metadata": {
    "collapsed": false,
    "scrolled": false
   },
   "outputs": [],
   "source": [
    "!/local/home/sarahgw/FastUniq/fastuniq -i /local/home/sarahgw/WGS/Sequences/hiseq_2016_12_07/NJ_E_22/forFastUniq.txt -t q -o /local/home/sarahgw/WGS/Sequences/hiseq_2016_12_07/NJ_E_22/NJ_E_22_FU1.fastq -p /local/home/sarahgw/WGS/Sequences/hiseq_2016_12_07/NJ_E_22/NJ_E_22_FU2.fastq"
   ]
  },
  {
   "cell_type": "code",
   "execution_count": 47,
   "metadata": {
    "collapsed": false,
    "scrolled": false
   },
   "outputs": [
    {
     "name": "stdout",
     "output_type": "stream",
     "text": [
      "forFastUniq.txt\t\t\t\t   NJ_E_22_FU1.fastq\r\n",
      "N517-GCGTAAGA-X-N701-TCGCCTTA_Read1.fastq  NJ_E_22_FU2.fastq\r\n",
      "N517-GCGTAAGA-X-N701-TCGCCTTA_Read2.fastq\r\n"
     ]
    }
   ],
   "source": [
    "! ls /local/home/sarahgw/WGS/Sequences/hiseq_2016_12_07/NJ_E_22/"
   ]
  },
  {
   "cell_type": "code",
   "execution_count": 52,
   "metadata": {
    "collapsed": false,
    "scrolled": false
   },
   "outputs": [
    {
     "name": "stdout",
     "output_type": "stream",
     "text": [
      "5455160 /local/home/sarahgw/WGS/Sequences/hiseq_2016_12_07/NJ_E_22/NJ_E_22_FU1.fastq\r\n"
     ]
    }
   ],
   "source": [
    "! wc -l /local/home/sarahgw/WGS/Sequences/hiseq_2016_12_07/NJ_E_22/NJ_E_22_FU1.fastq"
   ]
  },
  {
   "cell_type": "code",
   "execution_count": 50,
   "metadata": {
    "collapsed": false,
    "scrolled": false
   },
   "outputs": [
    {
     "name": "stdout",
     "output_type": "stream",
     "text": [
      "5464804 /local/home/sarahgw/WGS/Sequences/hiseq_2016_12_07/NJ_E_22/N517-GCGTAAGA-X-N701-TCGCCTTA_Read1.fastq\r\n"
     ]
    }
   ],
   "source": [
    "! wc -l /local/home/sarahgw/WGS/Sequences/hiseq_2016_12_07/NJ_E_22/N517-GCGTAAGA-X-N701-TCGCCTTA_Read1.fastq"
   ]
  },
  {
   "cell_type": "markdown",
   "metadata": {},
   "source": [
    "Well it seems to have removed some, need to not do these all individually... "
   ]
  },
  {
   "cell_type": "code",
   "execution_count": 95,
   "metadata": {
    "collapsed": false,
    "scrolled": false
   },
   "outputs": [
    {
     "name": "stdout",
     "output_type": "stream",
     "text": [
      "sh: ls \"./hiseq_2016_12_07/\" >> forFastUniq.txt: No such file or directory\r\n",
      "sh: ls \"./NJ_U_12\" >> forFastUniq.txt: No such file or directory\r\n",
      "sh: ls \"./NJ_E_30\" >> forFastUniq.txt: No such file or directory\r\n",
      "sh: ls \"./NJ_U_08\" >> forFastUniq.txt: No such file or directory\r\n",
      "sh: ls \"./NJ_E_25\" >> forFastUniq.txt: No such file or directory\r\n",
      "sh: ls \"./NJ_U_01\" >> forFastUniq.txt: No such file or directory\r\n",
      "sh: ls \"./NJ_E_27\" >> forFastUniq.txt: No such file or directory\r\n",
      "sh: ls \"./NJ_U_14\" >> forFastUniq.txt: No such file or directory\r\n",
      "sh: ls \"./NJ_E_29\" >> forFastUniq.txt: No such file or directory\r\n",
      "sh: ls \"./NJ_E_24\" >> forFastUniq.txt: No such file or directory\r\n",
      "sh: ls \"./NJ_U_16\" >> forFastUniq.txt: No such file or directory\r\n",
      "sh: ls \"./NJ_U_07\" >> forFastUniq.txt: No such file or directory\r\n",
      "sh: ls \"./NJ_E_23\" >> forFastUniq.txt: No such file or directory\r\n",
      "sh: ls \"./NJ_U_15\" >> forFastUniq.txt: No such file or directory\r\n",
      "sh: ls \"./NJ_U_09\" >> forFastUniq.txt: No such file or directory\r\n",
      "sh: ls \"./NJ_U_11\" >> forFastUniq.txt: No such file or directory\r\n",
      "sh: ls \"./NJ_U_10\" >> forFastUniq.txt: No such file or directory\r\n",
      "sh: ls \"./NJ_U_03\" >> forFastUniq.txt: No such file or directory\r\n",
      "sh: ls \"./NJ_U_06\" >> forFastUniq.txt: No such file or directory\r\n",
      "sh: ls \"./NJ_E_22\" >> forFastUniq.txt: No such file or directory\r\n",
      "sh: ls \"./NJ_U_02\" >> forFastUniq.txt: No such file or directory\r\n",
      "sh: ls \"./NJ_E_28\" >> forFastUniq.txt: No such file or directory\r\n",
      "sh: ls \"./NJ_U_04\" >> forFastUniq.txt: No such file or directory\r\n",
      "sh: ls \"./NJ_E_26\" >> forFastUniq.txt: No such file or directory\r\n",
      "sh: ls \"./NJ_U_05\" >> forFastUniq.txt: No such file or directory\r\n"
     ]
    }
   ],
   "source": [
    "!find /local/home/sarahgw/WGS/Sequences/hiseq_2016_12_07/ -type d -execdir sh 'ls \"{}\" >> forFastUniq.txt' \\;"
   ]
  },
  {
   "cell_type": "code",
   "execution_count": 93,
   "metadata": {
    "collapsed": false,
    "scrolled": false
   },
   "outputs": [
    {
     "name": "stdout",
     "output_type": "stream",
     "text": [
      "forFastUniq.txt  NJ_E_25  NJ_E_29  NJ_U_03  NJ_U_07  NJ_U_11  NJ_U_16\r\n",
      "NJ_E_22\t\t NJ_E_26  NJ_E_30  NJ_U_04  NJ_U_08  NJ_U_12\r\n",
      "NJ_E_23\t\t NJ_E_27  NJ_U_01  NJ_U_05  NJ_U_09  NJ_U_14\r\n",
      "NJ_E_24\t\t NJ_E_28  NJ_U_02  NJ_U_06  NJ_U_10  NJ_U_15\r\n"
     ]
    }
   ],
   "source": [
    "! ls /local/home/sarahgw/WGS/Sequences/hiseq_2016_12_07/"
   ]
  },
  {
   "cell_type": "code",
   "execution_count": 91,
   "metadata": {
    "collapsed": false,
    "scrolled": false
   },
   "outputs": [
    {
     "name": "stdout",
     "output_type": "stream",
     "text": [
      "N502-CTCTCTAT-X-N704-GCTCAGGA_Read1.fastq\n",
      "N502-CTCTCTAT-X-N704-GCTCAGGA_Read2.fastq\n",
      "\u001b[K\u001b[7m(END) \u001b[m\u001b[K"
     ]
    }
   ],
   "source": [
    "!less /local/home/sarahgw/WGS/Sequences/hiseq_2016_12_07/forFastUniq.txt"
   ]
  },
  {
   "cell_type": "markdown",
   "metadata": {
    "collapsed": false,
    "scrolled": false
   },
   "source": [
    "Use this to cd into each sub-directory (one per sample) in the directory and run fastuniq on the fastq files. Make sure you are in the directory and that there is nothing else in the directory other than sample subdirectories containing fastq files "
   ]
  },
  {
   "cell_type": "code",
   "execution_count": null,
   "metadata": {
    "collapsed": false,
    "scrolled": false
   },
   "outputs": [],
   "source": [
    "for dir in $(ls); do cd $dir; ls > /tmp/forFastUniq.txt; /local/home/sarahgw/FastUniq/fastuniq -i /tmp/forFastUniq.txt -t q -o $(pwd)/\"$dir\"_FU1.fastq -p $(pwd)/\"$dir\"_FU2.fastq; cd ..; done"
   ]
  },
  {
   "cell_type": "code",
   "execution_count": 101,
   "metadata": {
    "collapsed": false,
    "scrolled": true
   },
   "outputs": [
    {
     "name": "stdout",
     "output_type": "stream",
     "text": [
      "/local/home/sarahgw/WGS/Sequences/hiseq_2016_12_07/NJ_E_22:\r\n",
      "N517-GCGTAAGA-X-N701-TCGCCTTA_Read1.fastq  NJ_E_22_FU1.fastq\r\n",
      "N517-GCGTAAGA-X-N701-TCGCCTTA_Read2.fastq  NJ_E_22_FU2.fastq\r\n",
      "\r\n",
      "/local/home/sarahgw/WGS/Sequences/hiseq_2016_12_07/NJ_E_23:\r\n",
      "N502-CTCTCTAT-X-N701-TCGCCTTA_Read1.fastq  NJ_E_23_FU1.fastq\r\n",
      "N502-CTCTCTAT-X-N701-TCGCCTTA_Read2.fastq  NJ_E_23_FU2.fastq\r\n",
      "\r\n",
      "/local/home/sarahgw/WGS/Sequences/hiseq_2016_12_07/NJ_E_24:\r\n",
      "N503-TATCCTCT-X-N701-TCGCCTTA_Read1.fastq  NJ_E_24_FU1.fastq\r\n",
      "N503-TATCCTCT-X-N701-TCGCCTTA_Read2.fastq  NJ_E_24_FU2.fastq\r\n",
      "\r\n",
      "/local/home/sarahgw/WGS/Sequences/hiseq_2016_12_07/NJ_E_25:\r\n",
      "N504-AGAGTAGA-X-N701-TCGCCTTA_Read1.fastq  NJ_E_25_FU1.fastq\r\n",
      "N504-AGAGTAGA-X-N701-TCGCCTTA_Read2.fastq  NJ_E_25_FU2.fastq\r\n",
      "\r\n",
      "/local/home/sarahgw/WGS/Sequences/hiseq_2016_12_07/NJ_E_26:\r\n",
      "N517-GCGTAAGA-X-N702-CTAGTACG_Read1.fastq  NJ_E_26_FU1.fastq\r\n",
      "N517-GCGTAAGA-X-N702-CTAGTACG_Read2.fastq  NJ_E_26_FU2.fastq\r\n",
      "\r\n",
      "/local/home/sarahgw/WGS/Sequences/hiseq_2016_12_07/NJ_E_27:\r\n",
      "N502-CTCTCTATX-N702-CTAGTACG_Read1.fastq  NJ_E_27_FU1.fastq\r\n",
      "N502-CTCTCTATX-N702-CTAGTACG_Read2.fastq  NJ_E_27_FU2.fastq\r\n",
      "\r\n",
      "/local/home/sarahgw/WGS/Sequences/hiseq_2016_12_07/NJ_E_28:\r\n",
      "N503-TATCCTCTX-N702-CTAGTACG_Read1.fastq  NJ_E_28_FU1.fastq\r\n",
      "N503-TATCCTCTX-N702-CTAGTACG_Read2.fastq  NJ_E_28_FU2.fastq\r\n",
      "\r\n",
      "/local/home/sarahgw/WGS/Sequences/hiseq_2016_12_07/NJ_E_29:\r\n",
      "N504-AGAGTAGAX-N702-CTAGTACG_Read1.fastq  NJ_E_29_FU1.fastq\r\n",
      "N504-AGAGTAGAX-N702-CTAGTACG_Read2.fastq  NJ_E_29_FU2.fastq\r\n",
      "\r\n",
      "/local/home/sarahgw/WGS/Sequences/hiseq_2016_12_07/NJ_E_30:\r\n",
      "N517-GCGTAAGA-X-N703-TTCTGCCT_Read1.fastq  NJ_E_30_FU1.fastq\r\n",
      "N517-GCGTAAGA-X-N703-TTCTGCCT_Read2.fastq  NJ_E_30_FU2.fastq\r\n",
      "\r\n",
      "/local/home/sarahgw/WGS/Sequences/hiseq_2016_12_07/NJ_U_01:\r\n",
      "N502-CTCTCTAT-X-N703-TTCTGCCT_Read1.fastq  NJ_U_01_FU1.fastq\r\n",
      "N502-CTCTCTAT-X-N703-TTCTGCCT_Read2.fastq  NJ_U_01_FU2.fastq\r\n",
      "\r\n",
      "/local/home/sarahgw/WGS/Sequences/hiseq_2016_12_07/NJ_U_02:\r\n",
      "N503-TATCCTCT-X-N703-TTCTGCCT_Read1.fastq  NJ_U_02_FU1.fastq\r\n",
      "N503-TATCCTCT-X-N703-TTCTGCCT_Read2.fastq  NJ_U_02_FU2.fastq\r\n",
      "\r\n",
      "/local/home/sarahgw/WGS/Sequences/hiseq_2016_12_07/NJ_U_03:\r\n",
      "N504-AGAGTAGAX-N703-TTCTGCCT_Read1.fastq  NJ_U_03_FU1.fastq\r\n",
      "N504-AGAGTAGAX-N703-TTCTGCCT_Read2.fastq  NJ_U_03_FU2.fastq\r\n",
      "\r\n",
      "/local/home/sarahgw/WGS/Sequences/hiseq_2016_12_07/NJ_U_04:\r\n",
      "N517-GCGTAAGA-X-N704-GCTCAGGA_Read1.fastq  NJ_U_04_FU1.fastq\r\n",
      "N517-GCGTAAGA-X-N704-GCTCAGGA_Read2.fastq  NJ_U_04_FU2.fastq\r\n",
      "\r\n",
      "/local/home/sarahgw/WGS/Sequences/hiseq_2016_12_07/NJ_U_05:\r\n",
      "N502-CTCTCTAT-X-N704-GCTCAGGA_Read1.fastq  NJ_U_05_FU1.fastq\r\n",
      "N502-CTCTCTAT-X-N704-GCTCAGGA_Read2.fastq  NJ_U_05_FU2.fastq\r\n",
      "\r\n",
      "/local/home/sarahgw/WGS/Sequences/hiseq_2016_12_07/NJ_U_06:\r\n",
      "N503-TATCCTCT-X-N704-GCTCAGGA_Read1.fastq  NJ_U_06_FU1.fastq\r\n",
      "N503-TATCCTCT-X-N704-GCTCAGGA_Read2.fastq  NJ_U_06_FU2.fastq\r\n",
      "\r\n",
      "/local/home/sarahgw/WGS/Sequences/hiseq_2016_12_07/NJ_U_07:\r\n",
      "N504-AGAGTAGAX-N704-GCTCAGGA_Read1.fastq  NJ_U_07_FU1.fastq\r\n",
      "N504-AGAGTAGAX-N704-GCTCAGGA_Read2.fastq  NJ_U_07_FU2.fastq\r\n",
      "\r\n",
      "/local/home/sarahgw/WGS/Sequences/hiseq_2016_12_07/NJ_U_08:\r\n",
      "N517-GCGTAAGA-X-N705-AGGAGTCC_Read1.fastq  NJ_U_08_FU1.fastq\r\n",
      "N517-GCGTAAGA-X-N705-AGGAGTCC_Read2.fastq  NJ_U_08_FU2.fastq\r\n",
      "\r\n",
      "/local/home/sarahgw/WGS/Sequences/hiseq_2016_12_07/NJ_U_09:\r\n",
      "N502-CTCTCTAT-X-N705-AGGAGTCC_Read1.fastq  NJ_U_09_FU1.fastq\r\n",
      "N502-CTCTCTAT-X-N705-AGGAGTCC_Read2.fastq  NJ_U_09_FU2.fastq\r\n",
      "\r\n",
      "/local/home/sarahgw/WGS/Sequences/hiseq_2016_12_07/NJ_U_10:\r\n",
      "N503-TATCCTCT-X-N705-AGGAGTCC_Read1.fastq  NJ_U_10_FU1.fastq\r\n",
      "N503-TATCCTCT-X-N705-AGGAGTCC_Read2.fastq  NJ_U_10_FU2.fastq\r\n",
      "\r\n",
      "/local/home/sarahgw/WGS/Sequences/hiseq_2016_12_07/NJ_U_11:\r\n",
      "N504-AGAGTAGA-X-N705-AGGAGTCC_Read1.fastq  NJ_U_11_FU1.fastq\r\n",
      "N504-AGAGTAGA-X-N705-AGGAGTCC_Read2.fastq  NJ_U_11_FU2.fastq\r\n",
      "\r\n",
      "/local/home/sarahgw/WGS/Sequences/hiseq_2016_12_07/NJ_U_12:\r\n",
      "N517-GCGTAAGA-X-N706CATGCCTA_Read1.fastq  NJ_U_12_FU1.fastq\r\n",
      "N517-GCGTAAGA-X-N706CATGCCTA_Read2.fastq  NJ_U_12_FU2.fastq\r\n",
      "\r\n",
      "/local/home/sarahgw/WGS/Sequences/hiseq_2016_12_07/NJ_U_14:\r\n",
      "N502-CTCTCTAT-X-N706CATGCCTA_Read1.fastq  NJ_U_14_FU1.fastq\r\n",
      "N502-CTCTCTAT-X-N706CATGCCTA_Read2.fastq  NJ_U_14_FU2.fastq\r\n",
      "\r\n",
      "/local/home/sarahgw/WGS/Sequences/hiseq_2016_12_07/NJ_U_15:\r\n",
      "N503-TATCCTCT-X-N706CATGCCTA_Read1.fastq  NJ_U_15_FU1.fastq\r\n",
      "N503-TATCCTCT-X-N706CATGCCTA_Read2.fastq  NJ_U_15_FU2.fastq\r\n",
      "\r\n",
      "/local/home/sarahgw/WGS/Sequences/hiseq_2016_12_07/NJ_U_16:\r\n",
      "N504-AGAGTAGA-X-N706CATGCCTA_Read1.fastq  NJ_U_16_FU1.fastq\r\n",
      "N504-AGAGTAGA-X-N706CATGCCTA_Read2.fastq  NJ_U_16_FU2.fastq\r\n"
     ]
    }
   ],
   "source": [
    "!ls /local/home/sarahgw/WGS/Sequences/hiseq_2016_12_07/* -R"
   ]
  },
  {
   "cell_type": "code",
   "execution_count": null,
   "metadata": {
    "collapsed": false,
    "scrolled": false
   },
   "outputs": [
    {
     "name": "stdout",
     "output_type": "stream",
     "text": [
      "TrimmomaticPE: Started with arguments:\r\n",
      " -phred33 /local/home/sarahgw/WGS/Sequences/hiseq_2016_12_07/NJ_E_26/NJ_E_26_FU1.fastq /local/home/sarahgw/WGS/Sequences/hiseq_2016_12_07/NJ_E_26/NJ_E_26_FU2.fastq /local/home/sarahgw/WGS/Sequences/hiseq_2016_12_07/NJ_E_26/NJ_E_26_FU1_trim.fastq /local/home/sarahgw/WGS/Sequences/hiseq_2016_12_07/NJ_E_26/NJ_E_26_FU2_trim.fastq ILLUMINACLIP:NexteraPE-PE.fa:2:30:10 LEADING:3 TRAILING:3 SLIDINGWINDOW:4:15 MINLEN:36\r\n"
     ]
    }
   ],
   "source": [
    "!java -jar /local/home/sarahgw/Trimmomatic-0.36/trimmomatic-0.36.jar PE -phred33  /local/home/sarahgw/WGS/Sequences/hiseq_2016_12_07/NJ_E_26/NJ_E_26_FU1.fastq /local/home/sarahgw/WGS/Sequences/hiseq_2016_12_07/NJ_E_26/NJ_E_26_FU2.fastq /local/home/sarahgw/WGS/Sequences/hiseq_2016_12_07/NJ_E_26/NJ_E_26_FU1_trim.fastq /local/home/sarahgw/WGS/Sequences/hiseq_2016_12_07/NJ_E_26/NJ_E_26_FU2_trim.fastq ILLUMINACLIP:NexteraPE-PE.fa:2:30:10 LEADING:3 TRAILING:3 SLIDINGWINDOW:4:15 MINLEN:36"
   ]
  },
  {
   "cell_type": "code",
   "execution_count": 104,
   "metadata": {
    "collapsed": false,
    "scrolled": false
   },
   "outputs": [
    {
     "name": "stdout",
     "output_type": "stream",
     "text": [
      "@JLK5VL1:1018:H2L52BCXY:2:1203:1334:19959 1:N:0:\r\n",
      "AAAAAAAAGAGAGAACTAAACCACTTTTTTATACCACATACAAAAATAACTCAAAATGGATTAAAGACTTAGATATCAGACCTGAAACAATGAAACTCTAGAAGAAAACATAGGCAGTAAACTCTTTGACATTTCTTTAGTAATTTCTTT\r\n",
      "+\r\n",
      "DB@@DIII@CGH0DHIHHGHIHIIIIIIIIGHCHHHIHHHIIGG?GHHIFHHIHIIEHG?CGHIIIIIGHEHHIIIIIIIIEHHHHHHIHHHGIIECHHHICGHIIHIHIIIGCEHC1GEHH?010<<00GH<EHECGH0<FFFH///CC\r\n",
      "@JLK5VL1:1018:H2L52BCXY:2:2214:1600:29583 1:N:0:\r\n",
      "AAAAAAAAGAGCATTTGTGGGACGTTTTAATTCATTACTTTATTTTGAAAAAAAATTATTGTATACTTCGGGAAGCTTATGGTGAACATGCTTCATCTCAAGATACTTGTGAACACTAGTTTAAATGCTTTCAAAGTGATTATTTCA\r\n",
      "+\r\n",
      "CDDDDIIIIIIGIIIIIIIIIIIHEHGIIIIIIIIIIIIIIIIIHHIIIHHIIIIHIIIIIIHHHHIIIIFHIHIIGIHHIIIGHHIHEHIHIIIIIIIIIHHHHHHEHE?ECGHFHHHHIHHIIFEHHCEH@@GHFFH?@C0FGC@\r\n",
      "@JLK5VL1:1018:H2L52BCXY:2:1216:1381:95865 1:N:0:\r\n",
      "AAAAAAAATAGAGGGCAAGCATAGTTTGCCAGCTTTTTAAATTTATGGTCATGTAAAGACATTAAAAAGCAACTAACCAATCAAAACCAAAACCAAACCAAGAGCAAACTTCCCATCTACTATCACCATCGTTTTCTCAAAGGTAGA\r\n"
     ]
    }
   ],
   "source": [
    "! head /local/home/sarahgw/WGS/Sequences/hiseq_2016_12_07/NJ_E_26/NJ_E_26_FU2_trim.fastq"
   ]
  },
  {
   "cell_type": "code",
   "execution_count": 110,
   "metadata": {
    "collapsed": false,
    "scrolled": false
   },
   "outputs": [
    {
     "name": "stdout",
     "output_type": "stream",
     "text": [
      "@JLK5VL1:1018:H2L52BCXY:2:1203:1334:19959 1:N:0:\r\n",
      "AAAAAAAAGAGAGAACTAAACCACTTTTTTATACCACATACAAAAATAACTCAAAATGGATTAAAGACTTAGATATCAGACCTGAAACAATGAAACTCTAGAAGAAAACATAGGCAGTAAACTCTTTGACATTTCTTTAGTAATTTCTTT\r\n",
      "+\r\n",
      "DB@@DIII@CGH0DHIHHGHIHIIIIIIIIGHCHHHIHHHIIGG?GHHIFHHIHIIEHG?CGHIIIIIGHEHHIIIIIIIIEHHHHHHIHHHGIIECHHHICGHIIHIHIIIGCEHC1GEHH?010<<00GH<EHECGH0<FFFH///CC\r\n"
     ]
    }
   ],
   "source": [
    "! grep -e @JLK5VL1:1018:H2L52BCXY:2:1203:1334:19959 -A 3 /local/home/sarahgw/WGS/Sequences/hiseq_2016_12_07/NJ_E_26/NJ_E_26_FU1.fastq"
   ]
  },
  {
   "cell_type": "markdown",
   "metadata": {},
   "source": [
    "WEll, thats no good...its not trimming anything. "
   ]
  },
  {
   "cell_type": "code",
   "execution_count": 111,
   "metadata": {
    "collapsed": false,
    "scrolled": true
   },
   "outputs": [
    {
     "name": "stdout",
     "output_type": "stream",
     "text": [
      ">PrefixNX/1\n",
      "AGATGTGTATAAGAGACAG\n",
      ">PrefixNX/2\n",
      "AGATGTGTATAAGAGACAG\n",
      ">Trans1\n",
      "TCGTCGGCAGCGTCAGATGTGTATAAGAGACAG\n",
      ">Trans1_rc\n",
      "CTGTCTCTTATACACATCTGACGCTGCCGACGA\n",
      ">Trans2\n",
      "GTCTCGTGGGCTCGGAGATGTGTATAAGAGACAG\n",
      ">Trans2_rc\n",
      "CTGTCTCTTATACACATCTCCGAGCCCACGAGAC\n",
      "\u001b[K\u001b[7m(END) \u001b[m\u001b[K"
     ]
    }
   ],
   "source": [
    "! less /local/home/sarahgw/Trimmomatic-0.36/adapters/NexteraPE-PE.fa"
   ]
  },
  {
   "cell_type": "code",
   "execution_count": 1,
   "metadata": {
    "collapsed": false,
    "scrolled": true
   },
   "outputs": [
    {
     "name": "stdout",
     "output_type": "stream",
     "text": [
      "ACAGCGTCAGATGTGTATAAGAGACAGATAAAAGCCCATCAGACAGGGTCTAAAGTGTTCAATCTTTTTGACAGATAAGGGATATGAAGAGACCAGCACTCAGTATGGGCAAGTGTCCTACACAATTAAACTAGGAACTTCCTCTGTTGT\n",
      "+\n",
      "00DB@HHIIIIIIIIIIIIIIIIHIIIIIIIIIIIIIIIIIIIIIIIIIGIIIIHIIIIIIIIIIIIIIIIIIHIHIIHIIIIIIIIIIIIIIIIIIIIIICGHIIIIIIHIIIIIIHIIHIIIHHIHIIIIIEIIII0CHHHIIIHHIH\n",
      "@JLK5VL1:1018:H2L52BCXY:2:1202:11932:83225 1:N:0:\n",
      "--\n",
      "AGATGTGTATAAGAGACAGTCTCAGTTCCACCCGCTGTCCCAATGACACGTTCCACAACCTGCAGTTACCCTGTGCGTATTTTGTGTACTTGTGTCTCTCATTCTTCTCTGTGAGAATGTAAACACCAAGAGTGGCCTCTGTGTTATTTG\n",
      "+\n",
      "DDDDDIIIIIIIIIIIIIIIIIIIIIIIIIIIIIIIIIIIIIIIIIIIIIIIIIIIIIIIIIIIIIIIIIIIIIIIIIIIIIIIIIIIIIIIIIIIIIIIIFHIIIIIIIIIIHIIIIIIIIIIIIIIIIHIIIIIIIIIIIIIIIGHH0\n",
      "@JLK5VL1:1018:H2L52BCXY:2:1110:6112:72913 1:N:0:\n",
      "--\n",
      "AGCGTCAGATGTGTATAAGAGACAGATTTCTTACAGAGTTAAGCTTAAAAAATTGCACATCTAGTTTCTTTGTAATTACTGTTTTCTTTCAATGAGGCAGGTAACTTTGAATCTTTTGCCTGAATGGGATTCTTGATTGTTTTGTTGTTC\n",
      "+\n",
      "DDDDDIIIIIIIIIIIIIIIIHIIIIIIIIIIIIIIIIIIIIIIIIIIIIIIIIIIHIIIIIIIIHIIIIIIHIIIIIIIIIIIHIIIIIIIIIIIIIHHIFGHIIIIHHHIIIIIIIIIHIHIIIIIF?HHIIHIIIIIHIIIIIIII#\n",
      "@JLK5VL1:1018:H2L52BCXY:2:2216:18578:12337 1:N:0:\n",
      "AGCGTCAGATGTGTATAAGAGACAGGCATTGGAGCAAGGGTGCAAACCCAGGCCACCTGTCTCAGAGCCACACCTGCAGTTCCTACACTGGACCATTACTCCTTAAGTATGTTAGCTGTCTCTTATACACATCTCCGAGCCCACGAGACC\n",
      "+\n",
      "CDDDDIIIIIIIIIIIIIIIHIIIIIIIIIIHIIIIIIIIIIIIIIIIIIIIIIIIIIIIIIIIIIIIIIIIIIIIIIIIIIIIIIIIIHIHHHIIHHHIHDGHHIIIIIIIIFHIIIIIHIHIHIIIGIIIIHHHIHHIIHFIHICHHH\n",
      "@JLK5VL1:1018:H2L52BCXY:2:2105:14308:90435 1:N:0:\n",
      "AGCGTCAGATGTGTATAAGAGACAGGCCATGCACTGAAGCAATCAGGGAGGCTTGCTTGCTCCAGTGACGGCGAACTCCAACGTTCCCCGTCTGCCGCTGCCGGCCTCTCAGCTGCAACTCTAAGCAACTATGTACTATGTTGCAAATAA\n",
      "+\n",
      "DDDDDIIIIIIIIIIIIIIIIIIIIIIIIIIIIIIIIIIIIIIIIIIIIIIIIIIIIIIIIIIIIIIIIIIIIIIIIIIHIIIIIIIIIIIIIIHIIIIHIHEHIIIIIIIGHIIIHIIIIIIEHIIEF@HHHIIIHIHHHHHIFHIHII\n",
      "@JLK5VL1:1018:H2L52BCXY:2:2209:15913:76348 1:N:0:\n",
      "AGCGTCAGATGTGTATAAGAGACAGGCCATGTAATGTGAATGCTATTTAATGGTGTGTGATTTTGGTTTGCATTTCACAGGTTACTAATGAGCTGTCTCTTATACACATCTCCGAGCCCACGAGACCGTACTAGATCTCGTATGCCGTCT\n",
      "+\n",
      "DDDDDIIIIIIIIIIIIIIIIIIIIIIIIIHIIIIIIIIHIIIIIIGHIHIIIHHIHEHIHIIHIHHIIIIIIIIHHHIIIIIIIIIIIIHIHIIIIIIHHDEHHGHFHIHHIHIHIHIIIHHHIIIHIHHHFHI@?GCEHHHIGHDHI#\n",
      "@JLK5VL1:1018:H2L52BCXY:2:2215:17848:17518 1:N:0:\n",
      "AGCGTCAGATGTGTATAAGAGACAGGTGTAAACATTTAGAACCATGTTGCTAAAATTGTTATCTGTCTACTTTTTCCAAGACCTTCAAGATACCCAGTTCTGCCCAAGGATCAACTAGAACAAAGCTGTTCTGAGTGGCCATATCACTCA\n",
      "+\n",
      "DDDDDIIIIIIIIIIIIIIIIIIIIIIII1FHIIIIIIIIIIIIIIIIIIIIIIIIIIIIIIIIIIIIIIIIIIIIIIIIIIIIIIIIIIIIIIIIIIIIIIIHIIIIIIIIHIIHIIIIIIIIIGIHIIIIIIIIIIIIIIHHIIIIIA\n",
      "@JLK5VL1:1018:H2L52BCXY:2:1212:21087:90366 1:N:0:\n",
      "AGCGTCAGATGTGTATAAGAGACAGTCCCTACGCGGCTGCTCACACTGCCCACACCCCTGGTGTGCCCCTGGCCCAGTCTGTCCTCTGAGAGCGCCCAGGCAGATGGAGATGTCTGGACAGAACAGCAAACACACCGAAAGTTCAGGCCC\n",
      "+\n",
      "0D@DDIIIIIIIIIHIHHHIIHHIIIGEIFHIIGHGIHHIIIHICEHHFIIFHHIHHIIIIIIIHHHHHIIG?GHHFHIHFGHIIHIIFHHCHHCHHHHIIHFHF?EFC1GFHFHHEHHFGHEHHHIIFHHIHHH/<CCC<CE@GF?/CG\n",
      "@JLK5VL1:1018:H2L52BCXY:2:1209:5013:39478 1:N:0:\n",
      "AGCGTCAGATGTGTATAAGAGACAGTGTTTGATCCATCCATAACCCTGATTACTCAGCATTTGTGTACTTTTCTGCTTGTGTTTGTAAACTTGCACATTGGGGGAGAGAACTTTTTAAAGTTAGGGTTATCCAAAGTCAACTAAAGTAAT\n",
      "+\n",
      "DDDCDIIIIIIIIIIIIIIIIIIIHHIIHHIIIIIIIIIIIIIIHIIIIIIIIIIIIIHIIIIIIIIIIIIGHHIIIIIIIIIIIIIIIIIIIIIIIHIHIEHHDHHIHIHIIE?GH@HHHIHHGHIIIIHFHHIHHHIHIIIIHHHEH#\n",
      "@JLK5VL1:1018:H2L52BCXY:2:2103:4131:32936 1:N:0:\n",
      "AGCGTCAGATGTGTATAAGAGACAGTTCCCAGGCCCTGGGCCCGGGCCGAGCTCGCACCCCACGGGCCAGACCGCCCCTGCCGTCCAGTTCCAGCCCCAGCCCCGACCCCTCGGCCGCCGGGGACGGGGGGGGGGGTGGGACCGTCCGAA\n",
      "+\n",
      "000DD=EE<F?GFFHEE<G<F?C?F1F1C@?11CECGEHEFEDH<C<C/CHC?C<CE/<EC0/CHHHD<CF1C/<C/<<1<GHHIC01<DCGCHHI=G=C@EG@?CEH.<EE-CDGCHH###############################\n",
      "@JLK5VL1:1018:H2L52BCXY:2:2101:4806:63699 1:N:0:\n"
     ]
    }
   ],
   "source": [
    "! grep -e AGATGTGTATAAGAGACAG -A 3 -m 10 /local/home/sarahgw/WGS/Sequences/hiseq_2016_12_07/NJ_E_26/NJ_E_26_FU1.fastq"
   ]
  },
  {
   "cell_type": "code",
   "execution_count": 2,
   "metadata": {
    "collapsed": false,
    "scrolled": true
   },
   "outputs": [
    {
     "name": "stdout",
     "output_type": "stream",
     "text": [
      "AAAAAAAAAAAGACTGAAAAGTGCTCCTTCTAACTCTCTGCTACACAATCTCTATTGTTTGGCTTTTGTCATCAAATTTGCAGTCTGACTGCAGGCATAGAGGCATTATCTGTCTCTTATACACATCTCCGAGCCCACGAGACCGTACTA\r\n",
      "+\r\n",
      "DDDDDIIIIIIHIIIIIIIHIIIIIIIIIIIIIIIIIIIIIIIIIIIIIIIIIIIIIIIIIIIIIIIHIIIIIIIIIIIIIIIIIIHIIIIIIIIIIIIIIFGHIIHIIHIIIIIIHIHIIIIIIIGHIIIIIIHIHIIIHHHIIHCHHC\r\n",
      "@JLK5VL1:1018:H2L52BCXY:2:2111:18293:93523 1:N:0:\r\n",
      "AAAAAAAAAAAGCCCACGCACTCATCAGTTCTTACCCATTGTGTGACTCAGTAGGAGCTGCTCAGGGTGCTGTCTCTTATACACATCTCCGAGCCCACGAGACCGTACTAGATCTCGTATGCCGTCTTCTGCTTGAAAAAAAAAAAAAAA\r\n",
      "+\r\n",
      "DDDDDIIIIHD@HIIHH?E/<<FEEEFHHE@GH1DHFEHE1<<CCEEEGGHH@HH?CEGCECGEHHF1CCCF@@1<FCEC?<<CE@@<FFC/<FHGEEHC/0<<.<CC<<@F1<<<FH@F?HE.0<<////</<:CGEHI<HDCD><D##\r\n",
      "@JLK5VL1:1018:H2L52BCXY:2:2112:19115:67105 1:N:0:\r\n",
      "AAAAAAAAAAAGGCACATAGGGAATTATGTCAAATGTGTTTGTGTCCTTAGGCAAAGCTGTGGGAGTCCTGTCTCTTATACACATCTCCGAGCCCACGAGACCGTACTAGATCTCGTATGCCGTCTTCTGCTTGAAAAAAAAAAAAAAAA\r\n",
      "+\r\n",
      "DDDDDIIIIIIIIIIIGHHHIIHHHIIHIHIIIIIIHHHIIIIIHHHIIHHHFHIHIIIIHIIIEHEHHIHIIIHHIIIIIHHHIIEHHHHIIHH1CHHC=CGHHIIIIHF<D?GFHEECHIDGHGHG?@HHHHHHHCHCHCCCC#####\r\n",
      "@JLK5VL1:1018:H2L52BCXY:2:1206:14833:72596 1:N:0:\r\n",
      "AAAAAAAAAAAGGCCAGCACCACAAACCAAACTTATAAGGCTGTCTCTTATACACATCTCCGAGCCCACGAGACCGTACTAGATCTCGTATGCCGTCTTCTGCTTGAAAAAAAAAAAAAAAAACAATAGCATCACAGTCATACCCACTGA\r\n",
      "+\r\n",
      "DDDDDIIIIIIHHIIIIIIHIIHIIIIIIIIIIIHIHIHHHEHHIIIIIHHHHIIIHHHHIHIGIII@E?DHIHH?GHIHIEH1<DFEHHIIHHI@E1EE1<F@FHHIIGHIH??EED:E##############################\r\n",
      "@JLK5VL1:1018:H2L52BCXY:2:2101:2135:97979 1:N:0:\r\n",
      "AAAAAAAAAACAGCATACCACCGTCAGGAGTCATAGGTGCATTAACGCTCTTCCCACAGCGAACATAGTTTGTAATGTTTCCCATCTCACATTTAGGACTGTCTCTTATACACATCTCCGAGCCCACGAGACCGTACTAGATCTCGTATT\r\n",
      "+\r\n",
      "DDDDDIIIIIIIIHIIIIIIIIIIIIIIHIIIIIIIIIIIIIIIIIIIIIIIIIIIIIIIIIHIIIIIHIIIHIIIGHIIIIIIIIIIIIHIIIIHIGIHHHHHIHIIIIIIIGIHHHIHHIIIICHHIIHHIIIEHHHGH9CGHFHHH#\r\n",
      "@JLK5VL1:1018:H2L52BCXY:2:2108:11907:16419 1:N:0:\r\n",
      "AAAAAAAAAACCCAAAGGAAAAAAAAGGAGAAATCACCAGAAAAGCAGCCAAGTGAAACAAAGGCATGCAATATGTCAGACAAAGAATTCAGAATAAGGGCTGTCTCTTATACACATCTCCGAGCCCACGAGACCGTACTAGATCTCGTA\r\n",
      "+\r\n",
      "DDDDDIIIIIHHHIIHIIIIIIIGHHIIEFHIHIIHIHIIIIIIHIIHIIIIIHIIIHIIHHHHIIIGHIIHIIIIIIIIIIIIIIIIEHHFHIIIIIFHHEHHIIIICHIIIIIEHIIFH<CCHH/<EHCCEHHCHHIHH7DC/CG-D7\r\n",
      "@JLK5VL1:1018:H2L52BCXY:2:1107:4171:48010 1:N:0:\r\n",
      "--\r\n",
      "AAAAAAAAAACTATCCTGCACTCGGAATGAGACTAATCTGCGTGGCCAAAAAGGGACCTGTCTCTTATACACATCTCCGAGCCCACGAGACCGTACTAGATCTCGTATGCCGTCTTCTGCTTGAAAAAAACAATTATAAATATCTTCGAG\r\n",
      "+\r\n",
      "D@DABDHHDHIHHIGHIIHIHIIIHHI@FGHHHHHHH?GFHHIHHDHHHIHIEHICEEHHIHHHCG?GH?GHEEE@@G<?HHIIGHH?CCDH<CECEEFH1<DGE?GE?CHC<.D0FF??FHC<GGH#######################\r\n",
      "@JLK5VL1:1018:H2L52BCXY:2:2212:9249:96622 1:N:0:\r\n",
      "--\r\n",
      "AAAAAAAAAAGAAGGGCTCACTGATCTTCATTTATTGCAAATCTGGCTTTCCTGAATTAAGAAGAAAGATACTTAAAACTAAACCCCTGTCTCTTATACACATCTCCGAGCCCACGAGACCGTACTAGATCTCGTATGCCGTCTTCTGCT\r\n",
      "+\r\n",
      "DDDDCIIIIIIIIIIIIIIIIIIIIIIIIHIIIIIIIIIIIIIIIIIIIIIIIIIIIIIIIIIIIIIIIHIIIIIIIIIIIIIIHIIIIIIGIHIIIIHIHEEHHHIIIHIIIIIIIDHDHHHIHIIHI<CEFHHHH?FHGHI/EH@FE#\r\n",
      "@JLK5VL1:1018:H2L52BCXY:2:1212:16223:89138 1:N:0:\r\n",
      "AAAAAAAAAAGAATCTCTCTCAGAGTTGTTTTCCATTGAATTTCTTTCATTTTGAAAGCCTTTATATCTGTCTCTTATACACATCTCCGAGCCCACGAGACCGTACTAGAGATCGTATGCCGTTTTCTGCTTGAAACATTAGATTGAATC\r\n",
      "+\r\n",
      "@D@@@CCDDC@GF1<1<?CE@C11<DC1<<11<<CG@<FC<C@GEF@FHCEH@10<<DGHIIICFHHEH?G11<DG1CC111<??DG@/C//C@11/<<DE<ECGC11D111<<<<CF@11.001<1<1D####################\r\n",
      "@JLK5VL1:1018:H2L52BCXY:2:1214:17100:30154 1:N:0:\r\n",
      "AAAAAAAAAAGACAACTCATAGTCACAGACAACAGTGTGGTGATTACCAGAGGGAAAGGGGGCCGAGGGGATATAGAAGCTGTCTCTTATACACATCTCCGAGCCCACGAGACCGTACTAGATCTCGTATGCCGTCTTCTGCTTGAAAAA\r\n",
      "+\r\n",
      "@DDDDIDIIIHHGIIF@<FFHCFHHIIHH@HIHHIGHIGI<GHHHCCHIICEE=HHHEH0<CHIHHDHCDDHHHIIIIIHHCCHCG?EGEHC@GHHH@HHHHD?FCHIHHDHD??<CGE?C/CG/</DGHHIEH7,.:FHH?H...69FA\r\n",
      "@JLK5VL1:1018:H2L52BCXY:2:2102:6055:81268 1:N:0:\r\n"
     ]
    }
   ],
   "source": [
    "! grep -e CTGTCTCTTATACACATCTCCGAGCCCACGAGAC -A 3 -m 10 /local/home/sarahgw/WGS/Sequences/hiseq_2016_12_07/NJ_E_26/NJ_E_26_FU1.fastq"
   ]
  },
  {
   "cell_type": "code",
   "execution_count": null,
   "metadata": {
    "collapsed": true,
    "scrolled": false
   },
   "outputs": [],
   "source": [
    "for dir in $(ls); do cd $dir; ls > /tmp/forFastUniq.txt; /local/home/sarahgw/FastUniq/fastuniq -i /tmp/forFastUniq.txt -t q -o $(pwd)/\"$dir\"_FU1.fastq -p $(pwd)/\"$dir\"_FU2.fastq; cd ..; done"
   ]
  },
  {
   "cell_type": "code",
   "execution_count": 118,
   "metadata": {
    "collapsed": false,
    "scrolled": false
   },
   "outputs": [
    {
     "name": "stdout",
     "output_type": "stream",
     "text": [
      "TrimmomaticPE: Started with arguments:\n",
      " -phred33 /local/home/sarahgw/WGS/Sequences/hiseq_2016_12_07/NJ_E_26/NJ_E_26_FU1.fastq /local/home/sarahgw/WGS/Sequences/hiseq_2016_12_07/NJ_E_26/NJ_E_26_FU2.fastq /local/home/sarahgw/WGS/Sequences/hiseq_2016_12_07/NJ_E_26/NJ_E_26_FU1_trim_p.fastq /local/home/sarahgw/WGS/Sequences/hiseq_2016_12_07/NJ_E_26/NJ_E_26_FU1_trim_up.fastq /local/home/sarahgw/WGS/Sequences/hiseq_2016_12_07/NJ_E_26/NJ_E_26_FU2_trim_p.fastq /local/home/sarahgw/WGS/Sequences/hiseq_2016_12_07/NJ_E_26/NJ_E_26_FU2_trim_up.fastq ILLUMINACLIP:/local/home/sarahgw/Trimmomatic-0.36/adapters/NexteraPE-PE.fa:2:30:10 LEADING:3 TRAILING:3 SLIDINGWINDOW:4:15 MINLEN:36\n",
      "Using PrefixPair: 'AGATGTGTATAAGAGACAG' and 'AGATGTGTATAAGAGACAG'\n",
      "Using Long Clipping Sequence: 'GTCTCGTGGGCTCGGAGATGTGTATAAGAGACAG'\n",
      "Using Long Clipping Sequence: 'TCGTCGGCAGCGTCAGATGTGTATAAGAGACAG'\n",
      "Using Long Clipping Sequence: 'CTGTCTCTTATACACATCTGACGCTGCCGACGA'\n",
      "Using Long Clipping Sequence: 'CTGTCTCTTATACACATCTCCGAGCCCACGAGAC'\n",
      "ILLUMINACLIP: Using 1 prefix pairs, 4 forward/reverse sequences, 0 forward only sequences, 0 reverse only sequences\n",
      "^C"
     ]
    }
   ],
   "source": [
    "!java -jar /local/home/sarahgw/Trimmomatic-0.36/trimmomatic-0.36.jar PE -phred33  /local/home/sarahgw/WGS/Sequences/hiseq_2016_12_07/NJ_E_26/NJ_E_26_FU1.fastq /local/home/sarahgw/WGS/Sequences/hiseq_2016_12_07/NJ_E_26/NJ_E_26_FU2.fastq /local/home/sarahgw/WGS/Sequences/hiseq_2016_12_07/NJ_E_26/NJ_E_26_FU1_trim_p.fastq /local/home/sarahgw/WGS/Sequences/hiseq_2016_12_07/NJ_E_26/NJ_E_26_FU1_trim_up.fastq /local/home/sarahgw/WGS/Sequences/hiseq_2016_12_07/NJ_E_26/NJ_E_26_FU2_trim_p.fastq /local/home/sarahgw/WGS/Sequences/hiseq_2016_12_07/NJ_E_26/NJ_E_26_FU2_trim_up.fastq ILLUMINACLIP:/local/home/sarahgw/Trimmomatic-0.36/adapters/NexteraPE-PE.fa:2:30:10 LEADING:3 TRAILING:3 SLIDINGWINDOW:4:15 MINLEN:36"
   ]
  },
  {
   "cell_type": "code",
   "execution_count": 120,
   "metadata": {
    "collapsed": false,
    "scrolled": false
   },
   "outputs": [
    {
     "name": "stdout",
     "output_type": "stream",
     "text": [
      "@JLK5VL1:1018:H2L52BCXY:2:1203:1334:19959 1:N:0:\r\n",
      "AAAAAAAAGAGAGAACTAAACCACTTTTTTATACCACATACAAAAATAACTCAAAATGGATTAAAGACTTAGATATCAGACCTGAAACAATGAAACTCTAGAAGAAAACATAGGCAGTAAACTCTTTGACATTTCTTTAGTAATTTCTTT\r\n",
      "+\r\n",
      "DB@@DIII@CGH0DHIHHGHIHIIIIIIIIGHCHHHIHHHIIGG?GHHIFHHIHIIEHG?CGHIIIIIGHEHHIIIIIIIIEHHHHHHIHHHGIIECHHHICGHIIHIHIIIGCEHC1GEHH?010<<00GH<EHECGH0<FFFH///CC\r\n"
     ]
    }
   ],
   "source": [
    "! grep -e @JLK5VL1:1018:H2L52BCXY:2:1203:1334:19959 -A 3 /local/home/sarahgw/WGS/Sequences/hiseq_2016_12_07/NJ_E_26/NJ_E_26_FU1_trim_up.fastq"
   ]
  },
  {
   "cell_type": "code",
   "execution_count": 121,
   "metadata": {
    "collapsed": false,
    "scrolled": false
   },
   "outputs": [
    {
     "name": "stdout",
     "output_type": "stream",
     "text": [
      "4626697 /local/home/sarahgw/WGS/Sequences/hiseq_2016_12_07/NJ_E_26/NJ_E_26_FU1_trim_p.fastq\r\n"
     ]
    }
   ],
   "source": [
    "!wc -l /local/home/sarahgw/WGS/Sequences/hiseq_2016_12_07/NJ_E_26/NJ_E_26_FU1_trim_p.fastq"
   ]
  },
  {
   "cell_type": "code",
   "execution_count": 122,
   "metadata": {
    "collapsed": false,
    "scrolled": false
   },
   "outputs": [
    {
     "name": "stdout",
     "output_type": "stream",
     "text": [
      "3061337 /local/home/sarahgw/WGS/Sequences/hiseq_2016_12_07/NJ_E_26/NJ_E_26_FU1_trim_up.fastq\r\n"
     ]
    }
   ],
   "source": [
    "!wc -l /local/home/sarahgw/WGS/Sequences/hiseq_2016_12_07/NJ_E_26/NJ_E_26_FU1_trim_up.fastq"
   ]
  },
  {
   "cell_type": "code",
   "execution_count": 123,
   "metadata": {
    "collapsed": false,
    "scrolled": false
   },
   "outputs": [
    {
     "name": "stdout",
     "output_type": "stream",
     "text": [
      "4626817 /local/home/sarahgw/WGS/Sequences/hiseq_2016_12_07/NJ_E_26/NJ_E_26_FU2_trim_p.fastq\r\n"
     ]
    }
   ],
   "source": [
    "!wc -l /local/home/sarahgw/WGS/Sequences/hiseq_2016_12_07/NJ_E_26/NJ_E_26_FU2_trim_p.fastq"
   ]
  },
  {
   "cell_type": "code",
   "execution_count": 124,
   "metadata": {
    "collapsed": false,
    "scrolled": false
   },
   "outputs": [
    {
     "name": "stdout",
     "output_type": "stream",
     "text": [
      "2591 /local/home/sarahgw/WGS/Sequences/hiseq_2016_12_07/NJ_E_26/NJ_E_26_FU2_trim_up.fastq\r\n"
     ]
    }
   ],
   "source": [
    "!wc -l /local/home/sarahgw/WGS/Sequences/hiseq_2016_12_07/NJ_E_26/NJ_E_26_FU2_trim_up.fastq"
   ]
  },
  {
   "cell_type": "code",
   "execution_count": null,
   "metadata": {
    "collapsed": true,
    "scrolled": false
   },
   "outputs": [],
   "source": [
    "for dir in $(ls); do cd $dir; java -jar /local/home/sarahgw/Trimmomatic-0.36/trimmomatic-0.36.jar PE -phred33 $(pwd)/\"$dir\"_FU1.fastq $(pwd)/\"$dir\"_FU2.fastq $(pwd)/\"$dir\"_FU1_trim_p.fastq $(pwd)/\"$dir\"_FU1_trim_up.fastq $(pwd)/\"$dir\"_FU2_trim_p.fastq $(pwd)/\"$dir\"_FU2_trim_up.fastq ILLUMINACLIP:/local/home/sarahgw/Trimmomatic-0.36/adapters/NexteraPE-PE.fa:2:30:10 LEADING:3 TRAILING:3 SLIDINGWINDOW:4:15 MINLEN:36; cd ..; done"
   ]
  },
  {
   "cell_type": "markdown",
   "metadata": {},
   "source": [
    "TrimmomaticPE: Started with arguments:\n",
    " -phred33 /local/home/sarahgw/WGS/Sequences/hiseq_2016_12_07/NJ_U_14/NJ_U_14_FU1.fastq /local/home/sarahgw/WGS/Sequences/hiseq_2016_12_07/NJ_U_14/NJ_U_14_FU2.fastq /local/home/sarahgw/WGS/Sequences/hiseq_2016_12_07/NJ_U_14/NJ_U_14_FU1_trim_p.fastq /local/home/sarahgw/WGS/Sequences/hiseq_2016_12_07/NJ_U_14/NJ_U_14_FU1_trim_up.fastq /local/home/sarahgw/WGS/Sequences/hiseq_2016_12_07/NJ_U_14/NJ_U_14_FU2_trim_p.fastq /local/home/sarahgw/WGS/Sequences/hiseq_2016_12_07/NJ_U_14/NJ_U_14_FU2_trim_up.fastq ILLUMINACLIP:/local/home/sarahgw/Trimmomatic-0.36/adapters/NexteraPE-PE.fa:2:30:10 LEADING:3 TRAILING:3 SLIDINGWINDOW:4:15 MINLEN:36\n",
    "Using PrefixPair: 'AGATGTGTATAAGAGACAG' and 'AGATGTGTATAAGAGACAG'\n",
    "Using Long Clipping Sequence: 'GTCTCGTGGGCTCGGAGATGTGTATAAGAGACAG'\n",
    "Using Long Clipping Sequence: 'TCGTCGGCAGCGTCAGATGTGTATAAGAGACAG'\n",
    "Using Long Clipping Sequence: 'CTGTCTCTTATACACATCTGACGCTGCCGACGA'\n",
    "Using Long Clipping Sequence: 'CTGTCTCTTATACACATCTCCGAGCCCACGAGAC'\n",
    "ILLUMINACLIP: Using 1 prefix pairs, 4 forward/reverse sequences, 0 forward only sequences, 0 reverse only sequences\n",
    "Input Read Pairs: 4774516 Both Surviving: 3895390 (81.59%) Forward Only Surviving: 868732 (18.20%) Reverse Only Surviving: 2750 (0.06%) Dropped: 7644 (0.16%)\n",
    "TrimmomaticPE: Completed successfully\n",
    "TrimmomaticPE: Started with arguments:\n",
    " -phred33 /local/home/sarahgw/WGS/Sequences/hiseq_2016_12_07/NJ_U_15/NJ_U_15_FU1.fastq /local/home/sarahgw/WGS/Sequences/hiseq_2016_12_07/NJ_U_15/NJ_U_15_FU2.fastq /local/home/sarahgw/WGS/Sequences/hiseq_2016_12_07/NJ_U_15/NJ_U_15_FU1_trim_p.fastq /local/home/sarahgw/WGS/Sequences/hiseq_2016_12_07/NJ_U_15/NJ_U_15_FU1_trim_up.fastq /local/home/sarahgw/WGS/Sequences/hiseq_2016_12_07/NJ_U_15/NJ_U_15_FU2_trim_p.fastq /local/home/sarahgw/WGS/Sequences/hiseq_2016_12_07/NJ_U_15/NJ_U_15_FU2_trim_up.fastq ILLUMINACLIP:/local/home/sarahgw/Trimmomatic-0.36/adapters/NexteraPE-PE.fa:2:30:10 LEADING:3 TRAILING:3 SLIDINGWINDOW:4:15 MINLEN:36\n",
    "Using PrefixPair: 'AGATGTGTATAAGAGACAG' and 'AGATGTGTATAAGAGACAG'\n",
    "Using Long Clipping Sequence: 'GTCTCGTGGGCTCGGAGATGTGTATAAGAGACAG'\n",
    "Using Long Clipping Sequence: 'TCGTCGGCAGCGTCAGATGTGTATAAGAGACAG'\n",
    "Using Long Clipping Sequence: 'CTGTCTCTTATACACATCTGACGCTGCCGACGA'\n",
    "Using Long Clipping Sequence: 'CTGTCTCTTATACACATCTCCGAGCCCACGAGAC'\n",
    "ILLUMINACLIP: Using 1 prefix pairs, 4 forward/reverse sequences, 0 forward only sequences, 0 reverse only sequences\n",
    "Input Read Pairs: 5374294 Both Surviving: 4095585 (76.21%) Forward Only Surviving: 1266397 (23.56%) Reverse Only Surviving: 3091 (0.06%) Dropped: 9221 (0.17%)\n",
    "TrimmomaticPE: Completed successfully\n",
    "TrimmomaticPE: Started with arguments:\n",
    " -phred33 /local/home/sarahgw/WGS/Sequences/hiseq_2016_12_07/NJ_U_16/NJ_U_16_FU1.fastq /local/home/sarahgw/WGS/Sequences/hiseq_2016_12_07/NJ_U_16/NJ_U_16_FU2.fastq /local/home/sarahgw/WGS/Sequences/hiseq_2016_12_07/NJ_U_16/NJ_U_16_FU1_trim_p.fastq /local/home/sarahgw/WGS/Sequences/hiseq_2016_12_07/NJ_U_16/NJ_U_16_FU1_trim_up.fastq /local/home/sarahgw/WGS/Sequences/hiseq_2016_12_07/NJ_U_16/NJ_U_16_FU2_trim_p.fastq /local/home/sarahgw/WGS/Sequences/hiseq_2016_12_07/NJ_U_16/NJ_U_16_FU2_trim_up.fastq ILLUMINACLIP:/local/home/sarahgw/Trimmomatic-0.36/adapters/NexteraPE-PE.fa:2:30:10 LEADING:3 TRAILING:3 SLIDINGWINDOW:4:15 MINLEN:36\n",
    "Using PrefixPair: 'AGATGTGTATAAGAGACAG' and 'AGATGTGTATAAGAGACAG'\n",
    "Using Long Clipping Sequence: 'GTCTCGTGGGCTCGGAGATGTGTATAAGAGACAG'\n",
    "Using Long Clipping Sequence: 'TCGTCGGCAGCGTCAGATGTGTATAAGAGACAG'\n",
    "Using Long Clipping Sequence: 'CTGTCTCTTATACACATCTGACGCTGCCGACGA'\n",
    "Using Long Clipping Sequence: 'CTGTCTCTTATACACATCTCCGAGCCCACGAGAC'\n",
    "ILLUMINACLIP: Using 1 prefix pairs, 4 forward/reverse sequences, 0 forward only sequences, 0 reverse only sequences\n",
    "Input Read Pairs: 3201500 Both Surviving: 1862544 (58.18%) Forward Only Surviving: 1323765 (41.35%) Reverse Only Surviving: 1532 (0.05%) Dropped: 13659 (0.43%)\n",
    "TrimmomaticPE: Completed successfully"
   ]
  },
  {
   "cell_type": "markdown",
   "metadata": {
    "collapsed": true
   },
   "source": [
    "Download human  reference genomes and make index"
   ]
  },
  {
   "cell_type": "code",
   "execution_count": null,
   "metadata": {
    "collapsed": true,
    "scrolled": false
   },
   "outputs": [],
   "source": [
    "rsync -av rsync://ftp.ensembl.org/ensembl/pub/current_fasta/homo_sapiens ."
   ]
  },
  {
   "cell_type": "code",
   "execution_count": 2,
   "metadata": {
    "collapsed": false,
    "scrolled": true
   },
   "outputs": [
    {
     "name": "stdout",
     "output_type": "stream",
     "text": [
      "CHECKSUMS\r\n",
      "Homo_sapiens.GRCh38.dna.alt.fa.gz\r\n",
      "Homo_sapiens.GRCh38.dna.chromosome.10.fa.gz\r\n",
      "Homo_sapiens.GRCh38.dna.chromosome.11.fa.gz\r\n",
      "Homo_sapiens.GRCh38.dna.chromosome.12.fa.gz\r\n",
      "Homo_sapiens.GRCh38.dna.chromosome.13.fa.gz\r\n",
      "Homo_sapiens.GRCh38.dna.chromosome.14.fa.gz\r\n",
      "Homo_sapiens.GRCh38.dna.chromosome.15.fa.gz\r\n",
      "Homo_sapiens.GRCh38.dna.chromosome.16.fa.gz\r\n",
      "Homo_sapiens.GRCh38.dna.chromosome.17.fa.gz\r\n",
      "Homo_sapiens.GRCh38.dna.chromosome.18.fa.gz\r\n",
      "Homo_sapiens.GRCh38.dna.chromosome.19.fa.gz\r\n",
      "Homo_sapiens.GRCh38.dna.chromosome.1.fa.gz\r\n",
      "Homo_sapiens.GRCh38.dna.chromosome.20.fa.gz\r\n",
      "Homo_sapiens.GRCh38.dna.chromosome.21.fa.gz\r\n",
      "Homo_sapiens.GRCh38.dna.chromosome.22.fa.gz\r\n",
      "Homo_sapiens.GRCh38.dna.chromosome.2.fa.gz\r\n",
      "Homo_sapiens.GRCh38.dna.chromosome.3.fa.gz\r\n",
      "Homo_sapiens.GRCh38.dna.chromosome.4.fa.gz\r\n",
      "Homo_sapiens.GRCh38.dna.chromosome.5.fa.gz\r\n",
      "Homo_sapiens.GRCh38.dna.chromosome.6.fa.gz\r\n",
      "Homo_sapiens.GRCh38.dna.chromosome.7.fa.gz\r\n",
      "Homo_sapiens.GRCh38.dna.chromosome.8.fa.gz\r\n",
      "Homo_sapiens.GRCh38.dna.chromosome.9.fa.gz\r\n",
      "Homo_sapiens.GRCh38.dna.chromosome.MT.fa.gz\r\n",
      "Homo_sapiens.GRCh38.dna.chromosome.X.fa.gz\r\n",
      "Homo_sapiens.GRCh38.dna.chromosome.Y.fa.gz\r\n",
      "Homo_sapiens.GRCh38.dna.nonchromosomal.fa.gz\r\n",
      "Homo_sapiens.GRCh38.dna.primary_assembly.fa.gz\r\n",
      "Homo_sapiens.GRCh38.dna_rm.alt.fa.gz\r\n",
      "Homo_sapiens.GRCh38.dna_rm.chromosome.10.fa.gz\r\n",
      "Homo_sapiens.GRCh38.dna_rm.chromosome.11.fa.gz\r\n",
      "Homo_sapiens.GRCh38.dna_rm.chromosome.12.fa.gz\r\n",
      "Homo_sapiens.GRCh38.dna_rm.chromosome.13.fa.gz\r\n",
      "Homo_sapiens.GRCh38.dna_rm.chromosome.14.fa.gz\r\n",
      "Homo_sapiens.GRCh38.dna_rm.chromosome.15.fa.gz\r\n",
      "Homo_sapiens.GRCh38.dna_rm.chromosome.16.fa.gz\r\n",
      "Homo_sapiens.GRCh38.dna_rm.chromosome.17.fa.gz\r\n",
      "Homo_sapiens.GRCh38.dna_rm.chromosome.18.fa.gz\r\n",
      "Homo_sapiens.GRCh38.dna_rm.chromosome.19.fa.gz\r\n",
      "Homo_sapiens.GRCh38.dna_rm.chromosome.1.fa.gz\r\n",
      "Homo_sapiens.GRCh38.dna_rm.chromosome.20.fa.gz\r\n",
      "Homo_sapiens.GRCh38.dna_rm.chromosome.21.fa.gz\r\n",
      "Homo_sapiens.GRCh38.dna_rm.chromosome.22.fa.gz\r\n",
      "Homo_sapiens.GRCh38.dna_rm.chromosome.2.fa.gz\r\n",
      "Homo_sapiens.GRCh38.dna_rm.chromosome.3.fa.gz\r\n",
      "Homo_sapiens.GRCh38.dna_rm.chromosome.4.fa.gz\r\n",
      "Homo_sapiens.GRCh38.dna_rm.chromosome.5.fa.gz\r\n",
      "Homo_sapiens.GRCh38.dna_rm.chromosome.6.fa.gz\r\n",
      "Homo_sapiens.GRCh38.dna_rm.chromosome.7.fa.gz\r\n",
      "Homo_sapiens.GRCh38.dna_rm.chromosome.8.fa.gz\r\n",
      "Homo_sapiens.GRCh38.dna_rm.chromosome.9.fa.gz\r\n",
      "Homo_sapiens.GRCh38.dna_rm.chromosome.MT.fa.gz\r\n",
      "Homo_sapiens.GRCh38.dna_rm.chromosome.X.fa.gz\r\n",
      "Homo_sapiens.GRCh38.dna_rm.chromosome.Y.fa.gz\r\n",
      "Homo_sapiens.GRCh38.dna_rm.nonchromosomal.fa.gz\r\n",
      "Homo_sapiens.GRCh38.dna_rm.primary_assembly.fa.gz\r\n",
      "Homo_sapiens.GRCh38.dna_rm.toplevel.fa.gz\r\n",
      "Homo_sapiens.GRCh38.dna_sm.alt.fa.gz\r\n",
      "Homo_sapiens.GRCh38.dna_sm.chromosome.10.fa.gz\r\n",
      "Homo_sapiens.GRCh38.dna_sm.chromosome.11.fa.gz\r\n",
      "Homo_sapiens.GRCh38.dna_sm.chromosome.12.fa.gz\r\n",
      "Homo_sapiens.GRCh38.dna_sm.chromosome.13.fa.gz\r\n",
      "Homo_sapiens.GRCh38.dna_sm.chromosome.14.fa.gz\r\n",
      "Homo_sapiens.GRCh38.dna_sm.chromosome.15.fa.gz\r\n",
      "Homo_sapiens.GRCh38.dna_sm.chromosome.16.fa.gz\r\n",
      "Homo_sapiens.GRCh38.dna_sm.chromosome.17.fa.gz\r\n",
      "Homo_sapiens.GRCh38.dna_sm.chromosome.18.fa.gz\r\n",
      "Homo_sapiens.GRCh38.dna_sm.chromosome.19.fa.gz\r\n",
      "Homo_sapiens.GRCh38.dna_sm.chromosome.1.fa.gz\r\n",
      "Homo_sapiens.GRCh38.dna_sm.chromosome.20.fa.gz\r\n",
      "Homo_sapiens.GRCh38.dna_sm.chromosome.21.fa.gz\r\n",
      "Homo_sapiens.GRCh38.dna_sm.chromosome.22.fa.gz\r\n",
      "Homo_sapiens.GRCh38.dna_sm.chromosome.2.fa.gz\r\n",
      "Homo_sapiens.GRCh38.dna_sm.chromosome.3.fa.gz\r\n",
      "Homo_sapiens.GRCh38.dna_sm.chromosome.4.fa.gz\r\n",
      "Homo_sapiens.GRCh38.dna_sm.chromosome.5.fa.gz\r\n",
      "Homo_sapiens.GRCh38.dna_sm.chromosome.6.fa.gz\r\n",
      "Homo_sapiens.GRCh38.dna_sm.chromosome.7.fa.gz\r\n",
      "Homo_sapiens.GRCh38.dna_sm.chromosome.8.fa.gz\r\n",
      "Homo_sapiens.GRCh38.dna_sm.chromosome.9.fa.gz\r\n",
      "Homo_sapiens.GRCh38.dna_sm.chromosome.MT.fa.gz\r\n",
      "Homo_sapiens.GRCh38.dna_sm.chromosome.X.fa.gz\r\n",
      "Homo_sapiens.GRCh38.dna_sm.chromosome.Y.fa.gz\r\n",
      "Homo_sapiens.GRCh38.dna_sm.nonchromosomal.fa.gz\r\n",
      "Homo_sapiens.GRCh38.dna_sm.primary_assembly.fa.gz\r\n",
      "Homo_sapiens.GRCh38.dna.toplevel.fa.gz\r\n"
     ]
    }
   ],
   "source": [
    "! ls /local/home/sarahgw/references/homo_sapiens/homo_sapiens/dna/"
   ]
  },
  {
   "cell_type": "code",
   "execution_count": null,
   "metadata": {
    "collapsed": true
   },
   "outputs": [],
   "source": []
  },
  {
   "cell_type": "markdown",
   "metadata": {
    "collapsed": true,
    "scrolled": false
   },
   "source": [
    "I think we just need to use primary_assembly"
   ]
  },
  {
   "cell_type": "code",
   "execution_count": 3,
   "metadata": {
    "collapsed": true
   },
   "outputs": [],
   "source": [
    "! gunzip /local/home/sarahgw/references/homo_sapiens/homo_sapiens/dna/Homo_sapiens.GRCh38.dna.primary_assembly.fa.gz"
   ]
  },
  {
   "cell_type": "code",
   "execution_count": 4,
   "metadata": {
    "collapsed": false,
    "scrolled": true
   },
   "outputs": [
    {
     "name": "stdout",
     "output_type": "stream",
     "text": [
      "CHECKSUMS\r\n",
      "Homo_sapiens.GRCh38.dna.alt.fa.gz\r\n",
      "Homo_sapiens.GRCh38.dna.chromosome.10.fa.gz\r\n",
      "Homo_sapiens.GRCh38.dna.chromosome.11.fa.gz\r\n",
      "Homo_sapiens.GRCh38.dna.chromosome.12.fa.gz\r\n",
      "Homo_sapiens.GRCh38.dna.chromosome.13.fa.gz\r\n",
      "Homo_sapiens.GRCh38.dna.chromosome.14.fa.gz\r\n",
      "Homo_sapiens.GRCh38.dna.chromosome.15.fa.gz\r\n",
      "Homo_sapiens.GRCh38.dna.chromosome.16.fa.gz\r\n",
      "Homo_sapiens.GRCh38.dna.chromosome.17.fa.gz\r\n",
      "Homo_sapiens.GRCh38.dna.chromosome.18.fa.gz\r\n",
      "Homo_sapiens.GRCh38.dna.chromosome.19.fa.gz\r\n",
      "Homo_sapiens.GRCh38.dna.chromosome.1.fa.gz\r\n",
      "Homo_sapiens.GRCh38.dna.chromosome.20.fa.gz\r\n",
      "Homo_sapiens.GRCh38.dna.chromosome.21.fa.gz\r\n",
      "Homo_sapiens.GRCh38.dna.chromosome.22.fa.gz\r\n",
      "Homo_sapiens.GRCh38.dna.chromosome.2.fa.gz\r\n",
      "Homo_sapiens.GRCh38.dna.chromosome.3.fa.gz\r\n",
      "Homo_sapiens.GRCh38.dna.chromosome.4.fa.gz\r\n",
      "Homo_sapiens.GRCh38.dna.chromosome.5.fa.gz\r\n",
      "Homo_sapiens.GRCh38.dna.chromosome.6.fa.gz\r\n",
      "Homo_sapiens.GRCh38.dna.chromosome.7.fa.gz\r\n",
      "Homo_sapiens.GRCh38.dna.chromosome.8.fa.gz\r\n",
      "Homo_sapiens.GRCh38.dna.chromosome.9.fa.gz\r\n",
      "Homo_sapiens.GRCh38.dna.chromosome.MT.fa.gz\r\n",
      "Homo_sapiens.GRCh38.dna.chromosome.X.fa.gz\r\n",
      "Homo_sapiens.GRCh38.dna.chromosome.Y.fa.gz\r\n",
      "Homo_sapiens.GRCh38.dna.nonchromosomal.fa.gz\r\n",
      "Homo_sapiens.GRCh38.dna.primary_assembly.fa\r\n",
      "Homo_sapiens.GRCh38.dna_rm.alt.fa.gz\r\n",
      "Homo_sapiens.GRCh38.dna_rm.chromosome.10.fa.gz\r\n",
      "Homo_sapiens.GRCh38.dna_rm.chromosome.11.fa.gz\r\n",
      "Homo_sapiens.GRCh38.dna_rm.chromosome.12.fa.gz\r\n",
      "Homo_sapiens.GRCh38.dna_rm.chromosome.13.fa.gz\r\n",
      "Homo_sapiens.GRCh38.dna_rm.chromosome.14.fa.gz\r\n",
      "Homo_sapiens.GRCh38.dna_rm.chromosome.15.fa.gz\r\n",
      "Homo_sapiens.GRCh38.dna_rm.chromosome.16.fa.gz\r\n",
      "Homo_sapiens.GRCh38.dna_rm.chromosome.17.fa.gz\r\n",
      "Homo_sapiens.GRCh38.dna_rm.chromosome.18.fa.gz\r\n",
      "Homo_sapiens.GRCh38.dna_rm.chromosome.19.fa.gz\r\n",
      "Homo_sapiens.GRCh38.dna_rm.chromosome.1.fa.gz\r\n",
      "Homo_sapiens.GRCh38.dna_rm.chromosome.20.fa.gz\r\n",
      "Homo_sapiens.GRCh38.dna_rm.chromosome.21.fa.gz\r\n",
      "Homo_sapiens.GRCh38.dna_rm.chromosome.22.fa.gz\r\n",
      "Homo_sapiens.GRCh38.dna_rm.chromosome.2.fa.gz\r\n",
      "Homo_sapiens.GRCh38.dna_rm.chromosome.3.fa.gz\r\n",
      "Homo_sapiens.GRCh38.dna_rm.chromosome.4.fa.gz\r\n",
      "Homo_sapiens.GRCh38.dna_rm.chromosome.5.fa.gz\r\n",
      "Homo_sapiens.GRCh38.dna_rm.chromosome.6.fa.gz\r\n",
      "Homo_sapiens.GRCh38.dna_rm.chromosome.7.fa.gz\r\n",
      "Homo_sapiens.GRCh38.dna_rm.chromosome.8.fa.gz\r\n",
      "Homo_sapiens.GRCh38.dna_rm.chromosome.9.fa.gz\r\n",
      "Homo_sapiens.GRCh38.dna_rm.chromosome.MT.fa.gz\r\n",
      "Homo_sapiens.GRCh38.dna_rm.chromosome.X.fa.gz\r\n",
      "Homo_sapiens.GRCh38.dna_rm.chromosome.Y.fa.gz\r\n",
      "Homo_sapiens.GRCh38.dna_rm.nonchromosomal.fa.gz\r\n",
      "Homo_sapiens.GRCh38.dna_rm.primary_assembly.fa.gz\r\n",
      "Homo_sapiens.GRCh38.dna_rm.toplevel.fa.gz\r\n",
      "Homo_sapiens.GRCh38.dna_sm.alt.fa.gz\r\n",
      "Homo_sapiens.GRCh38.dna_sm.chromosome.10.fa.gz\r\n",
      "Homo_sapiens.GRCh38.dna_sm.chromosome.11.fa.gz\r\n",
      "Homo_sapiens.GRCh38.dna_sm.chromosome.12.fa.gz\r\n",
      "Homo_sapiens.GRCh38.dna_sm.chromosome.13.fa.gz\r\n",
      "Homo_sapiens.GRCh38.dna_sm.chromosome.14.fa.gz\r\n",
      "Homo_sapiens.GRCh38.dna_sm.chromosome.15.fa.gz\r\n",
      "Homo_sapiens.GRCh38.dna_sm.chromosome.16.fa.gz\r\n",
      "Homo_sapiens.GRCh38.dna_sm.chromosome.17.fa.gz\r\n",
      "Homo_sapiens.GRCh38.dna_sm.chromosome.18.fa.gz\r\n",
      "Homo_sapiens.GRCh38.dna_sm.chromosome.19.fa.gz\r\n",
      "Homo_sapiens.GRCh38.dna_sm.chromosome.1.fa.gz\r\n",
      "Homo_sapiens.GRCh38.dna_sm.chromosome.20.fa.gz\r\n",
      "Homo_sapiens.GRCh38.dna_sm.chromosome.21.fa.gz\r\n",
      "Homo_sapiens.GRCh38.dna_sm.chromosome.22.fa.gz\r\n",
      "Homo_sapiens.GRCh38.dna_sm.chromosome.2.fa.gz\r\n",
      "Homo_sapiens.GRCh38.dna_sm.chromosome.3.fa.gz\r\n",
      "Homo_sapiens.GRCh38.dna_sm.chromosome.4.fa.gz\r\n",
      "Homo_sapiens.GRCh38.dna_sm.chromosome.5.fa.gz\r\n",
      "Homo_sapiens.GRCh38.dna_sm.chromosome.6.fa.gz\r\n",
      "Homo_sapiens.GRCh38.dna_sm.chromosome.7.fa.gz\r\n",
      "Homo_sapiens.GRCh38.dna_sm.chromosome.8.fa.gz\r\n",
      "Homo_sapiens.GRCh38.dna_sm.chromosome.9.fa.gz\r\n",
      "Homo_sapiens.GRCh38.dna_sm.chromosome.MT.fa.gz\r\n",
      "Homo_sapiens.GRCh38.dna_sm.chromosome.X.fa.gz\r\n",
      "Homo_sapiens.GRCh38.dna_sm.chromosome.Y.fa.gz\r\n",
      "Homo_sapiens.GRCh38.dna_sm.nonchromosomal.fa.gz\r\n",
      "Homo_sapiens.GRCh38.dna_sm.primary_assembly.fa.gz\r\n",
      "Homo_sapiens.GRCh38.dna.toplevel.fa.gz\r\n"
     ]
    }
   ],
   "source": [
    "!ls /local/home/sarahgw/references/homo_sapiens/homo_sapiens/dna/"
   ]
  },
  {
   "cell_type": "code",
   "execution_count": null,
   "metadata": {
    "collapsed": false
   },
   "outputs": [],
   "source": [
    "! /local/home/sarahgw/anaconda2/bin/bowtie2-build -f /local/home/sarahgw/references/homo_sapiens/homo_sapiens/dna/Homo_sapiens.GRCh38.dna.primary_assembly.fa /local/home/sarahgw/references/homo_sapiens/homo_sapiens/dna/human_index"
   ]
  },
  {
   "cell_type": "markdown",
   "metadata": {},
   "source": [
    "(Using difference cover)\n",
    "  Sorting block time: 00:03:49\n",
    "Returning block of 354393332 for bucket 8\n",
    "Exited Ebwt loop\n",
    "fchr[A]: 0\n",
    "fchr[C]: 869653843\n",
    "fchr[G]: 1470243264\n",
    "fchr[T]: 2073417374\n",
    "fchr[$]: 2945849067\n",
    "Exiting Ebwt::buildToDisk()\n",
    "Returning from initFromVector\n",
    "Wrote 986172011 bytes to primary EBWT file: /local/home/sarahgw/references/homo_sapiens/homo_sapiens/dna/human_index.rev.1.bt2\n",
    "Wrote 736462272 bytes to secondary EBWT file: /local/home/sarahgw/references/homo_sapiens/homo_sapiens/dna/human_index.rev.2.bt2\n",
    "Re-opening _in1 and _in2 as input streams\n",
    "Returning from Ebwt constructor\n",
    "Headers:\n",
    "    len: 2945849067\n",
    "    bwtLen: 2945849068\n",
    "    sz: 736462267\n",
    "    bwtSz: 736462267\n",
    "    lineRate: 6\n",
    "    offRate: 4\n",
    "    offMask: 0xfffffff0\n",
    "    ftabChars: 10\n",
    "    eftabLen: 20\n",
    "    eftabSz: 80\n",
    "    ftabLen: 1048577\n",
    "    ftabSz: 4194308\n",
    "    offsLen: 184115567\n",
    "    offsSz: 736462268\n",
    "    lineSz: 64\n",
    "    sideSz: 64\n",
    "    sideBwtSz: 48\n",
    "    sideBwtLen: 192\n",
    "    numSides: 15342964\n",
    "    numLines: 15342964\n",
    "    ebwtTotLen: 981949696\n",
    "    ebwtTotSz: 981949696\n",
    "    color: 0\n",
    "    reverse: 1\n",
    "Total time for backward call to driver() for mirror index: 00:54:37"
   ]
  },
  {
   "cell_type": "markdown",
   "metadata": {},
   "source": [
    "Get myotis genome and make index"
   ]
  },
  {
   "cell_type": "code",
   "execution_count": null,
   "metadata": {
    "collapsed": false,
    "scrolled": false
   },
   "outputs": [],
   "source": [
    " wget -r 'ftp://ftp.ensembl.org/pub/release-87/fasta/myotis_lucifugus/dna/'"
   ]
  },
  {
   "cell_type": "code",
   "execution_count": 1,
   "metadata": {
    "collapsed": false
   },
   "outputs": [
    {
     "name": "stdout",
     "output_type": "stream",
     "text": [
      "CHECKSUMS\r\n",
      "Myotis_lucifugus.Myoluc2.0.dna.nonchromosomal.fa.gz\r\n",
      "Myotis_lucifugus.Myoluc2.0.dna_rm.nonchromosomal.fa.gz\r\n",
      "Myotis_lucifugus.Myoluc2.0.dna_rm.toplevel.fa.gz\r\n",
      "Myotis_lucifugus.Myoluc2.0.dna_sm.nonchromosomal.fa.gz\r\n",
      "Myotis_lucifugus.Myoluc2.0.dna_sm.toplevel.fa.gz\r\n",
      "Myotis_lucifugus.Myoluc2.0.dna.toplevel.fa.gz\r\n",
      "README\r\n"
     ]
    }
   ],
   "source": [
    "!ls /local/home/sarahgw/references/Myotis_Lucifugus2.0/ftp.ensembl.org/pub/release-87/fasta/myotis_lucifugus/dna/"
   ]
  },
  {
   "cell_type": "code",
   "execution_count": 2,
   "metadata": {
    "collapsed": true
   },
   "outputs": [],
   "source": [
    "!gunzip -r /local/home/sarahgw/references/Myotis_Lucifugus2.0/ftp.ensembl.org/pub/release-87/fasta/myotis_lucifugus/dna/"
   ]
  },
  {
   "cell_type": "code",
   "execution_count": null,
   "metadata": {
    "collapsed": false
   },
   "outputs": [],
   "source": [
    "!mv /local/home/sarahgw/references/Myotis_Lucifugus2.0/ftp.ensembl.org/pub/release-87/fasta/myotis_lucifugus/dna/* /local/home/sarahgw/references/Myotis_Lucifugus2.0/"
   ]
  },
  {
   "cell_type": "code",
   "execution_count": null,
   "metadata": {
    "collapsed": false
   },
   "outputs": [],
   "source": [
    "! /local/home/sarahgw/anaconda2/bin/bowtie2-build -f /local/home/sarahgw/references/Myotis_Lucifugus2.0/*.fa /local/home/sarahgw/references/Myotis_Lucifugus2.0/Myoluc"
   ]
  },
  {
   "cell_type": "markdown",
   "metadata": {},
   "source": [
    "  (Using difference cover)\n",
    "  Sorting block time: 00:01:36\n",
    "Returning block of 150698252 for bucket 8\n",
    "Exited Ebwt loop\n",
    "fchr[A]: 0\n",
    "fchr[C]: 565364222\n",
    "fchr[G]: 983203841\n",
    "fchr[T]: 1401125229\n",
    "fchr[$]: 1966419868\n",
    "Exiting Ebwt::buildToDisk()\n",
    "Returning from initFromVector\n",
    "Wrote 661394972 bytes to primary EBWT file: /local/home/sarahgw/references/Myotis_Lucifugus2.0/Myotis_lucifugus.Myoluc2.0.dna_rm.nonchromosomal.fa.rev.1.bt2\n",
    "Wrote 491604972 bytes to secondary EBWT file: /local/home/sarahgw/references/Myotis_Lucifugus2.0/Myotis_lucifugus.Myoluc2.0.dna_rm.nonchromosomal.fa.rev.2.bt2\n",
    "Re-opening _in1 and _in2 as input streams\n",
    "Returning from Ebwt constructor\n",
    "Headers:\n",
    "    len: 1966419868\n",
    "    bwtLen: 1966419869\n",
    "    sz: 491604967\n",
    "    bwtSz: 491604968\n",
    "    lineRate: 6\n",
    "    offRate: 4\n",
    "    offMask: 0xfffffff0\n",
    "    ftabChars: 10\n",
    "    eftabLen: 20\n",
    "    eftabSz: 80\n",
    "    ftabLen: 1048577\n",
    "    ftabSz: 4194308\n",
    "    offsLen: 122901242\n",
    "    offsSz: 491604968\n",
    "    lineSz: 64\n",
    "    sideSz: 64\n",
    "    sideBwtSz: 48\n",
    "    sideBwtLen: 192\n",
    "    numSides: 10241771\n",
    "    numLines: 10241771\n",
    "    ebwtTotLen: 655473344\n",
    "    ebwtTotSz: 655473344\n",
    "    color: 0\n",
    "    reverse: 1\n",
    "Total time for backward call to driver() for mirror index: 00:34:01"
   ]
  },
  {
   "cell_type": "markdown",
   "metadata": {},
   "source": [
    "Get bacterial sequences and make index"
   ]
  },
  {
   "cell_type": "code",
   "execution_count": null,
   "metadata": {
    "collapsed": true
   },
   "outputs": [],
   "source": [
    "curl 'ftp://ftp.ncbi.nlm.nih.gov/genomes/genbank/bacteria/assembly_summary.txt'>assembly_summary.txt"
   ]
  },
  {
   "cell_type": "code",
   "execution_count": null,
   "metadata": {
    "collapsed": true
   },
   "outputs": [],
   "source": [
    "awk -F \"\\t\" '$12==\"Complete Genome\" && $11==\"latest\"{print $20}' assembly_summary.txt > ftpdirpaths"
   ]
  },
  {
   "cell_type": "code",
   "execution_count": null,
   "metadata": {
    "collapsed": true
   },
   "outputs": [],
   "source": [
    "awk 'BEGIN{FS=OFS=\"/\";filesuffix=\"genomic.fna.gz\"}{ftpdir=$0;asm=$10;file=asm\"_\"filesuffix;print ftpdir,file}' ftpdirpaths > ftpfilepaths"
   ]
  },
  {
   "cell_type": "code",
   "execution_count": null,
   "metadata": {
    "collapsed": true
   },
   "outputs": [],
   "source": [
    "wget -i ftpfilepaths"
   ]
  },
  {
   "cell_type": "code",
   "execution_count": null,
   "metadata": {
    "collapsed": true
   },
   "outputs": [],
   "source": [
    "!gunzip *.fna.gz"
   ]
  },
  {
   "cell_type": "code",
   "execution_count": null,
   "metadata": {
    "collapsed": true
   },
   "outputs": [],
   "source": [
    "cat *.fna >> bacterial_reference.fna"
   ]
  },
  {
   "cell_type": "code",
   "execution_count": null,
   "metadata": {
    "collapsed": true
   },
   "outputs": [],
   "source": [
    "! /local/home/sarahgw/anaconda2/bin/bowtie2-build -f /local/home/sarahgw/references/bacteria/*.fna /local/home/sarahgw/references/bacteria/bacteria"
   ]
  },
  {
   "cell_type": "code",
   "execution_count": null,
   "metadata": {
    "collapsed": false
   },
   "outputs": [],
   "source": [
    "!/local/home/sarahgw/fastq_screen_v0.9.5/fastq_screen --aligner Bowtie2 /local/home/sarahgw/WGS/Sequences/hiseq_2016_12_07/NJ_E_22/NJ_E_22_FU1_trim_up.fastq /local/home/sarahgw/WGS/Sequences/hiseq_2016_12_07/NJ_E_22/NJ_E_22_FU2_trim_up.fastq"
   ]
  },
  {
   "cell_type": "code",
   "execution_count": 2,
   "metadata": {
    "collapsed": false
   },
   "outputs": [
    {
     "name": "stdout",
     "output_type": "stream",
     "text": [
      "#Fastq_screen version: 0.9.5    #Aligner: bowtie2       #Reads in subset: 100000\n",
      "Genome  #Reads_processed        #Unmapped       %Unmapped       #One_hit_one_gen \bome     %One_hit_one_genome     #Multiple_hits_one_genome       %Multiple_hits_o \bne_genome       #One_hit_multiple_genomes       %One_hit_multiple_genomes        \bMultiple_hits_multiple_genomes  %Multiple_hits_multiple_genomes\n",
      "Human   101761  94320   92.69   3317    3.26    4124    4.05    0       0.00     \b0       0.00\n",
      "\n",
      "%Hit_no_genomes: 92.69\n",
      "\u001b[K\u001b[7m(END) \u001b[m\u001b[K"
     ]
    }
   ],
   "source": [
    "!less /local/home/sarahgw/references/homo_sapiens/homo_sapiens/dna/NJ_E_22_FU1_trim_up_screen.txt"
   ]
  },
  {
   "cell_type": "code",
   "execution_count": 3,
   "metadata": {
    "collapsed": false
   },
   "outputs": [
    {
     "name": "stdout",
     "output_type": "stream",
     "text": [
      "#Fastq_screen version: 0.9.5    #Aligner: bowtie2       #Reads in subset: 100000\n",
      "Genome  #Reads_processed        #Unmapped       %Unmapped       #One_hit_one_gen \bome     %One_hit_one_genome     #Multiple_hits_one_genome       %Multiple_hits_o \bne_genome       #One_hit_multiple_genomes       %One_hit_multiple_genomes        \bMultiple_hits_multiple_genomes  %Multiple_hits_multiple_genomes\n",
      "Human   643     596     92.69   10      1.56    37      5.75    0       0.00     \b0       0.00\n",
      "\n",
      "%Hit_no_genomes: 92.69\n",
      "\u001b[K\u001b[7m(END) \u001b[m\u001b[K"
     ]
    }
   ],
   "source": [
    "!less /local/home/sarahgw/references/homo_sapiens/homo_sapiens/dna/NJ_E_22_FU2_trim_up_screen.txt"
   ]
  },
  {
   "cell_type": "markdown",
   "metadata": {
    "collapsed": true
   },
   "source": [
    "Get fungal genomes and make index"
   ]
  },
  {
   "cell_type": "code",
   "execution_count": null,
   "metadata": {
    "collapsed": true
   },
   "outputs": [],
   "source": [
    "curl 'ftp://ftp.ncbi.nlm.nih.gov/genomes/genbank/fungae/assembly_summary.txt'>> assembly_summary.txt"
   ]
  },
  {
   "cell_type": "code",
   "execution_count": null,
   "metadata": {
    "collapsed": true
   },
   "outputs": [],
   "source": [
    "awk -F \"\\t\" '$11==\"latest\"{print $20}' assembly_summary.txt > ftpdirpaths"
   ]
  },
  {
   "cell_type": "code",
   "execution_count": null,
   "metadata": {
    "collapsed": true
   },
   "outputs": [],
   "source": [
    "$12==\"Complete Genome\" && "
   ]
  },
  {
   "cell_type": "code",
   "execution_count": null,
   "metadata": {
    "collapsed": true
   },
   "outputs": [],
   "source": [
    "awk 'BEGIN{FS=OFS=\"/\";filesuffix=\"genomic.fna.gz\"}{ftpdir=$0;asm=$10;file=asm\"_\"filesuffix;print ftpdir,file}' ftpdirpaths > ftpfilepaths"
   ]
  },
  {
   "cell_type": "code",
   "execution_count": null,
   "metadata": {
    "collapsed": true
   },
   "outputs": [],
   "source": [
    "! /local/home/sarahgw/anaconda2/bin/bowtie2-build -f /local/home/sarahgw/references/fungi/fungi_refs.fna /local/home/sarahgw/references/fungi/fungi_index"
   ]
  }
 ],
 "metadata": {
  "anaconda-cloud": {},
  "kernelspec": {
   "display_name": "Python [default]",
   "language": "python",
   "name": "python2"
  },
  "language_info": {
   "codemirror_mode": {
    "name": "ipython",
    "version": 2
   },
   "file_extension": ".py",
   "mimetype": "text/x-python",
   "name": "python",
   "nbconvert_exporter": "python",
   "pygments_lexer": "ipython2",
   "version": "2.7.12"
  }
 },
 "nbformat": 4,
 "nbformat_minor": 1
}
