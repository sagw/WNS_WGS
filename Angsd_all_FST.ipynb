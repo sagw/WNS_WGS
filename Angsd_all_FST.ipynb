{
 "cells": [
  {
   "cell_type": "markdown",
   "metadata": {},
   "source": [
    "FST:\n",
    "\n",
    "1) Use angsd for calculating saf files for each population\n",
    "\n",
    "2) Use realSFS to calculate 2d sfs for each pair\n",
    "\n",
    "3) Use the above calculated 2dsfs as priors jointly with all safs from step1 to calculate fst binary files\n",
    "\n",
    "4) Use realSFS to extract the the fst values from the fst\n",
    "\n",
    "So, I need the bam files sorted into populations and make a bam file list for each pop. Move them over to annotate using this"
   ]
  },
  {
   "cell_type": "code",
   "execution_count": null,
   "metadata": {
    "collapsed": true
   },
   "outputs": [],
   "source": [
    " find . -name \"*_pairedplus_marked_dupes.bam\" -exec cp -i {} ../allBam/ \\; "
   ]
  },
  {
   "cell_type": "code",
   "execution_count": null,
   "metadata": {
    "collapsed": true
   },
   "outputs": [],
   "source": [
    "sed 's/$/_pairedplus_marked_dupes.bam/g' /local/home/sarahgw/WGS/Sequences/NJ_E/NJ_E_list>NJ_E_filelist"
   ]
  },
  {
   "cell_type": "code",
   "execution_count": null,
   "metadata": {
    "collapsed": true
   },
   "outputs": [],
   "source": [
    "xargs mv -t /local/home/sarahgw/WGS/Sequences/NJ_E/ < /local/home/sarahgw/WGS/Sequences/NJ_E/NJ_E_filelist"
   ]
  },
  {
   "cell_type": "code",
   "execution_count": null,
   "metadata": {
    "collapsed": true
   },
   "outputs": [],
   "source": [
    "xargs mv -t /local/home/sarahgw/WGS/Sequences/NJ_U/ < /local/home/sarahgw/WGS/Sequences/NJ_U/NJ_U_filelist"
   ]
  },
  {
   "cell_type": "code",
   "execution_count": null,
   "metadata": {
    "collapsed": true
   },
   "outputs": [],
   "source": [
    "xargs mv -t /local/home/sarahgw/WGS/Sequences/VT_U/ < /local/home/sarahgw/WGS/Sequences/VT_U/VT_U_filelist"
   ]
  },
  {
   "cell_type": "code",
   "execution_count": null,
   "metadata": {
    "collapsed": true
   },
   "outputs": [],
   "source": [
    "xargs mv -t /local/home/sarahgw/WGS/Sequences/NY_E/ < /local/home/sarahgw/WGS/Sequences/NY_E/NY_E.filelist"
   ]
  },
  {
   "cell_type": "code",
   "execution_count": null,
   "metadata": {
    "collapsed": true
   },
   "outputs": [],
   "source": [
    "xargs mv -t /local/home/sarahgw/WGS/Sequences/NY_U/ < /local/home/sarahgw/WGS/Sequences/NY_U/NY_U.filelist"
   ]
  },
  {
   "cell_type": "code",
   "execution_count": null,
   "metadata": {
    "collapsed": true
   },
   "outputs": [],
   "source": [
    "xargs mv -t /local/home/sarahgw/WGS/Sequences/VT_E/ < /local/home/sarahgw/WGS/Sequences/VT_E/VT_E.filelist"
   ]
  },
  {
   "cell_type": "markdown",
   "metadata": {},
   "source": [
    "Calculate SAF for each population"
   ]
  },
  {
   "cell_type": "code",
   "execution_count": null,
   "metadata": {
    "collapsed": true
   },
   "outputs": [],
   "source": [
    "~/angsd/angsd -P 10 -b NJ_E.filelist -fold 1 -anc /local/home/sarahgw/references/Myotis_Lucifugus2.0/Myotis_lucifugus.Myoluc2.0.dna_sm.toplevel.fa -GL 1 -dosaf 1 -minMapQ 30 -minQ 20 -out NJ_E"
   ]
  },
  {
   "cell_type": "code",
   "execution_count": null,
   "metadata": {
    "collapsed": true
   },
   "outputs": [],
   "source": [
    "~/angsd/angsd -P 10 -b NJ_U.filelist -fold 1 -anc /local/home/sarahgw/references/Myotis_Lucifugus2.0/Myotis_lucifugus.Myoluc2.0.dna_sm.toplevel.fa -GL 1 -dosaf 1 -minMapQ 30 -minQ 20 -out NJ_U"
   ]
  },
  {
   "cell_type": "code",
   "execution_count": null,
   "metadata": {
    "collapsed": true
   },
   "outputs": [],
   "source": [
    "~/angsd/angsd -P 10 -b VT_U.filelist -fold 1 -anc /local/home/sarahgw/references/Myotis_Lucifugus2.0/Myotis_lucifugus.Myoluc2.0.dna_sm.toplevel.fa -GL 1 -dosaf 1 -minMapQ 30 -minQ 20 -out VT_U"
   ]
  },
  {
   "cell_type": "code",
   "execution_count": null,
   "metadata": {
    "collapsed": true
   },
   "outputs": [],
   "source": [
    "~/angsd/angsd -P 10 -b NY_U.filelist -fold 1 -anc /local/home/sarahgw/references/Myotis_Lucifugus2.0/Myotis_lucifugus.Myoluc2.0.dna_sm.toplevel.fa -GL 1 -dosaf 1 -minMapQ 30 -minQ 20 -out NY_U"
   ]
  },
  {
   "cell_type": "code",
   "execution_count": null,
   "metadata": {
    "collapsed": true
   },
   "outputs": [],
   "source": [
    "~/angsd/angsd -P 10 -b NY_E.filelist -fold 1 -anc /local/home/sarahgw/references/Myotis_Lucifugus2.0/Myotis_lucifugus.Myoluc2.0.dna_sm.toplevel.fa -GL 1 -dosaf 1 -minMapQ 30 -minQ 20 -out NY_E"
   ]
  },
  {
   "cell_type": "code",
   "execution_count": null,
   "metadata": {
    "collapsed": true
   },
   "outputs": [],
   "source": [
    "~/angsd/angsd -P 10 -b VT_E.filelist -fold 1 -anc /local/home/sarahgw/references/Myotis_Lucifugus2.0/Myotis_lucifugus.Myoluc2.0.dna_sm.toplevel.fa -GL 1 -dosaf 1 -minMapQ 30 -minQ 20 -out VT_E"
   ]
  },
  {
   "cell_type": "markdown",
   "metadata": {},
   "source": [
    "run sfs for NJ samples"
   ]
  },
  {
   "cell_type": "code",
   "execution_count": null,
   "metadata": {
    "collapsed": true
   },
   "outputs": [],
   "source": [
    "~/angsd/misc/realSFS -P 15 -nsites 500000000 NJ_E.saf.idx NJ_U.saf.idx > NJ_EU"
   ]
  },
  {
   "cell_type": "markdown",
   "metadata": {},
   "source": [
    "on annotate:"
   ]
  },
  {
   "cell_type": "code",
   "execution_count": null,
   "metadata": {
    "collapsed": true
   },
   "outputs": [],
   "source": [
    "~/angsd/angsd/misc/realSFS -P 15 -nsites 500000000 NJ_E.saf.idx NJ_U.saf.idx > NJ_EU_sub"
   ]
  },
  {
   "cell_type": "code",
   "execution_count": null,
   "metadata": {
    "collapsed": true
   },
   "outputs": [],
   "source": [
    "~/angsd/angsd/misc/realSFS -P 15 NJ_E.saf.idx NJ_U.saf.idx > NJ_EU_full"
   ]
  },
  {
   "cell_type": "markdown",
   "metadata": {},
   "source": [
    "Started at 4:43 PM on 4/6/17 on annotate"
   ]
  },
  {
   "cell_type": "code",
   "execution_count": null,
   "metadata": {
    "collapsed": true
   },
   "outputs": [],
   "source": [
    "~/angsd/misc/realSFS -P 15 -nsites 500000000 NY_E.saf.idx NY_U.saf.idx > NY_EU"
   ]
  },
  {
   "cell_type": "markdown",
   "metadata": {},
   "source": [
    "Started at 11:30 AM 4/6/17 on amphiprion"
   ]
  },
  {
   "cell_type": "code",
   "execution_count": null,
   "metadata": {
    "collapsed": true
   },
   "outputs": [],
   "source": [
    "~/angsd/misc/realSFS -P 15 -nsites 500000000 VT_E.saf.idx VT_U.saf.idx > VT_EU"
   ]
  },
  {
   "cell_type": "markdown",
   "metadata": {},
   "source": [
    "Started at 11:52 AM 4/6/17 on amphiprion. Killed too much memory?"
   ]
  },
  {
   "cell_type": "markdown",
   "metadata": {},
   "source": [
    "Calculate fst"
   ]
  },
  {
   "cell_type": "code",
   "execution_count": null,
   "metadata": {
    "collapsed": true
   },
   "outputs": [],
   "source": [
    "~/angsd/misc/realSFS fst index NJ_E.saf.idx NJ_U.saf.idx -sfs NJ_EU.ml -fstout NJ_EU_fst"
   ]
  },
  {
   "cell_type": "markdown",
   "metadata": {},
   "source": [
    "        -> args: tole:0.000001 nthreads:4 maxiter:100 nsites:500000000 start:NJ_EU.ml chr:(null) start:-1 stop:-1 fname:NJ_U.saf.idx fstout:NJ_EU_fst oldout:0 seed:1499364243 bootstrap:0 whichFst:0\n",
    "        -> nSites: 500000000\n",
    "        -> Reading: NJ_EU.ml assuming counts (will normalize to probs internally)\n",
    "problem with size of dimension of prior 529 vs 2116"
   ]
  },
  {
   "cell_type": "markdown",
   "metadata": {},
   "source": [
    "Try subsetting the .ml file using head to one line and rerunning? "
   ]
  },
  {
   "cell_type": "code",
   "execution_count": null,
   "metadata": {
    "collapsed": true
   },
   "outputs": [],
   "source": [
    "~/angsd/misc/realSFS fst index NJ_E.saf.idx NJ_U.saf.idx -sfs NJ_EU.ml -fstout NJ_EU_fst -nsites 500000000"
   ]
  }
 ],
 "metadata": {
  "anaconda-cloud": {},
  "kernelspec": {
   "display_name": "Python [conda root]",
   "language": "python",
   "name": "conda-root-py"
  },
  "language_info": {
   "codemirror_mode": {
    "name": "ipython",
    "version": 2
   },
   "file_extension": ".py",
   "mimetype": "text/x-python",
   "name": "python",
   "nbconvert_exporter": "python",
   "pygments_lexer": "ipython2",
   "version": "2.7.12"
  }
 },
 "nbformat": 4,
 "nbformat_minor": 1
}
