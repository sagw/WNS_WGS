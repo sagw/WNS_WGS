{
 "cells": [
  {
   "cell_type": "markdown",
   "metadata": {},
   "source": [
    "FST:\n",
    "\n",
    "1) Use angsd for calculating saf files for each population\n",
    "\n",
    "2) Use realSFS to calculate 2d sfs for each pair\n",
    "\n",
    "3) Use the above calculated 2dsfs as priors jointly with all safs from step1 to calculate fst binary files\n",
    "\n",
    "4) Use realSFS to extract the the fst values from the fst\n",
    "\n",
    "So, I need the bam files sorted into populations and make a bam file list for each pop. Move them over to annotate using this"
   ]
  },
  {
   "cell_type": "code",
   "execution_count": null,
   "metadata": {
    "collapsed": true
   },
   "outputs": [],
   "source": [
    " find . -name \"*_pairedplus_marked_dupes.bam\" -exec cp -i {} ../allBam/ \\; "
   ]
  },
  {
   "cell_type": "code",
   "execution_count": null,
   "metadata": {
    "collapsed": true
   },
   "outputs": [],
   "source": [
    "sed 's/$/_pairedplus_marked_dupes.bam/g' /local/home/sarahgw/WGS/Sequences/NJ_E/NJ_E_list>NJ_E_filelist"
   ]
  },
  {
   "cell_type": "markdown",
   "metadata": {},
   "source": [
    "Calculate SAF for each population "
   ]
  },
  {
   "cell_type": "markdown",
   "metadata": {},
   "source": [
    "Given https://github.com/ANGSD/angsd/issues/65 I need to try this with an unfolded saf...is this just giving me random numbers?\n",
    "start bottom four at 1 PM on 7/13/17 finished Thu Jul 13 20:45:15 2017"
   ]
  },
  {
   "cell_type": "code",
   "execution_count": null,
   "metadata": {
    "collapsed": true
   },
   "outputs": [],
   "source": [
    "~/angsd/angsd -P 10 -b /local/home/sarahgw/WGS/Sequences/filelists/NJ_E.filelist -fold 2 -anc /local/home/sarahgw/references/Myotis_Lucifugus2.0/Myotis_lucifugus.Myoluc2.0.dna_sm.toplevel.fa -GL 1 -dosaf 1 -minMapQ 30 -minQ 20 -out NJ_E_un"
   ]
  },
  {
   "cell_type": "code",
   "execution_count": null,
   "metadata": {
    "collapsed": true
   },
   "outputs": [],
   "source": [
    "~/angsd/angsd -P 10 -b /local/home/sarahgw/WGS/Sequences/filelists/NJ_U.filelist -fold 2 -anc /local/home/sarahgw/references/Myotis_Lucifugus2.0/Myotis_lucifugus.Myoluc2.0.dna_sm.toplevel.fa -GL 1 -dosaf 1 -minMapQ 30 -minQ 20 -out NJ_U_un"
   ]
  },
  {
   "cell_type": "code",
   "execution_count": null,
   "metadata": {
    "collapsed": true
   },
   "outputs": [],
   "source": [
    "~/angsd/angsd -P 10 -b /local/home/sarahgw/WGS/Sequences/filelists/VT_U.filelist -fold 2 -anc /local/home/sarahgw/references/Myotis_Lucifugus2.0/Myotis_lucifugus.Myoluc2.0.dna_sm.toplevel.fa -GL 1 -dosaf 1 -minMapQ 30 -minQ 20 -out /local/home/sarahgw/WGS/SNPS/All_mylu/VT_U_un"
   ]
  },
  {
   "cell_type": "code",
   "execution_count": null,
   "metadata": {
    "collapsed": true
   },
   "outputs": [],
   "source": [
    "~/angsd/angsd -P 10 -b /local/home/sarahgw/WGS/Sequences/filelists/VT_E.filelist -fold 2 -anc /local/home/sarahgw/references/Myotis_Lucifugus2.0/Myotis_lucifugus.Myoluc2.0.dna_sm.toplevel.fa -GL 1 -dosaf 1 -minMapQ 30 -minQ 20 -out /local/home/sarahgw/WGS/SNPS/All_mylu/VT_E_un"
   ]
  },
  {
   "cell_type": "code",
   "execution_count": null,
   "metadata": {
    "collapsed": true
   },
   "outputs": [],
   "source": [
    "~/angsd/angsd -P 10 -b /local/home/sarahgw/WGS/Sequences/filelists/NY_E.filelist -fold 2 -anc /local/home/sarahgw/references/Myotis_Lucifugus2.0/Myotis_lucifugus.Myoluc2.0.dna_sm.toplevel.fa -GL 1 -dosaf 1 -minMapQ 30 -minQ 20 -out /local/home/sarahgw/WGS/SNPS/All_mylu/NY_E_un"
   ]
  },
  {
   "cell_type": "code",
   "execution_count": null,
   "metadata": {
    "collapsed": true
   },
   "outputs": [],
   "source": [
    "~/angsd/angsd -P 10 -b /local/home/sarahgw/WGS/Sequences/filelists/NY_U.filelist -fold 2 -anc /local/home/sarahgw/references/Myotis_Lucifugus2.0/Myotis_lucifugus.Myoluc2.0.dna_sm.toplevel.fa -GL 1 -dosaf 1 -minMapQ 30 -minQ 20 -out /local/home/sarahgw/WGS/SNPS/All_mylu/NY_U_un; echo \"SAF Done\" | mailx gw.sarah@gmail.com"
   ]
  },
  {
   "cell_type": "markdown",
   "metadata": {},
   "source": [
    "run sfs for each group on annotate"
   ]
  },
  {
   "cell_type": "markdown",
   "metadata": {},
   "source": [
    "Restart full at 12:15 PM 7/7/17 (nothing else running on annotate) finished Sat Jul  8 00:22:05 EDT 2017 so it took 12 hours\n",
    "Doing unfolded SFS 7/14/17 1 pm"
   ]
  },
  {
   "cell_type": "code",
   "execution_count": null,
   "metadata": {
    "collapsed": true
   },
   "outputs": [],
   "source": [
    "~/angsd/angsd/misc/realSFS -P 15 NJ_E_un.saf.idx NJ_U_un.saf.idx > NJ_EU_unfull"
   ]
  },
  {
   "cell_type": "markdown",
   "metadata": {},
   "source": [
    "on annotate started SFS 1 PM 7/10/17 finished Mon Jul 10 23:21:16 EDT 2017"
   ]
  },
  {
   "cell_type": "code",
   "execution_count": null,
   "metadata": {
    "collapsed": true
   },
   "outputs": [],
   "source": [
    "~/angsd/angsd/misc/realSFS -P 20 NY_E_un.saf.idx NY_U_un.saf.idx > NY_EU_unfull"
   ]
  },
  {
   "cell_type": "markdown",
   "metadata": {},
   "source": [
    "Started on annotate at 1:42 PM on 7/11/17"
   ]
  },
  {
   "cell_type": "code",
   "execution_count": null,
   "metadata": {
    "collapsed": true
   },
   "outputs": [],
   "source": [
    "~/angsd/angsd/misc/realSFS -P 15 VT_E_un.saf.idx VT_U_un.saf.idx > VT_EU_unfull.ml; echo \"VT SFS Done\" | mailx gw.sarah@gmail.com"
   ]
  },
  {
   "cell_type": "markdown",
   "metadata": {},
   "source": [
    "Do 3 way SFS for Exposed and unexposed populations"
   ]
  },
  {
   "cell_type": "code",
   "execution_count": null,
   "metadata": {
    "collapsed": true
   },
   "outputs": [],
   "source": [
    "~/angsd/angsd/misc/realSFS -P 15 NJ_U.saf.idx VT_U.saf.idx NY_U.saf.idx> NJVTNY_U.ml"
   ]
  },
  {
   "cell_type": "code",
   "execution_count": null,
   "metadata": {
    "collapsed": true
   },
   "outputs": [],
   "source": [
    "~/angsd/angsd/misc/realSFS -P 15 NJ_E.saf.idx VT_E.saf.idx NY_E.saf.idx> NJVTNY_E.ml"
   ]
  },
  {
   "cell_type": "markdown",
   "metadata": {},
   "source": [
    "Calculate fst for NJ"
   ]
  },
  {
   "cell_type": "markdown",
   "metadata": {},
   "source": [
    "Running on Annotate started 7/9/17 at 9 AM finished o/n that evening"
   ]
  },
  {
   "cell_type": "code",
   "execution_count": null,
   "metadata": {
    "collapsed": true
   },
   "outputs": [],
   "source": [
    "~/angsd/angsd/misc/realSFS fst index NJ_E.saf.idx NJ_U.saf.idx -sfs NJ_EU_full.ml -fstout NJ_EU_unfull"
   ]
  },
  {
   "cell_type": "code",
   "execution_count": null,
   "metadata": {
    "collapsed": true
   },
   "outputs": [],
   "source": [
    "~/angsd/angsd/misc/realSFS fst stats NJ_EU_full.fst.idx"
   ]
  },
  {
   "cell_type": "markdown",
   "metadata": {},
   "source": [
    "0.037613 0.053548"
   ]
  },
  {
   "cell_type": "markdown",
   "metadata": {},
   "source": [
    "unfolded: > FST.Unweight[nObs:1718436087]:0.037613 Fst.Weight:0.053548.. well then, I guess it doesnt make a difference if I unfold the sfs?"
   ]
  },
  {
   "cell_type": "code",
   "execution_count": null,
   "metadata": {
    "collapsed": true
   },
   "outputs": [],
   "source": [
    "~/angsd/angsd/misc/realSFS fst stats2 NJ_EU_unfull.fst.idx -win 10000 -step 2000 > NJ_unfull_sw"
   ]
  },
  {
   "cell_type": "code",
   "execution_count": null,
   "metadata": {
    "collapsed": false
   },
   "outputs": [],
   "source": [
    "awk '$5>0.10' /local/home/sarahgw/WGS/SNPS/All_mylu/NJ_sw "
   ]
  },
  {
   "cell_type": "markdown",
   "metadata": {},
   "source": [
    "Lets try getting FST values for every bp, then can look for SNPs that are FST outliers I don't know what this output means? call NSP first?"
   ]
  },
  {
   "cell_type": "code",
   "execution_count": null,
   "metadata": {
    "collapsed": true
   },
   "outputs": [],
   "source": [
    "~/angsd/angsd/misc/realSFS fst print NJ_EU_full.fst.idx> NJ_EU_full_fst"
   ]
  },
  {
   "cell_type": "code",
   "execution_count": null,
   "metadata": {
    "collapsed": true
   },
   "outputs": [],
   "source": [
    "awk '$4>0.40' /local/home/sarahgw/WGS/SNPS/All_mylu/NJ_EU_full.fst.gz"
   ]
  },
  {
   "cell_type": "markdown",
   "metadata": {},
   "source": [
    "Calculate FST for NY"
   ]
  },
  {
   "cell_type": "markdown",
   "metadata": {
    "collapsed": true
   },
   "source": [
    "Started at 1:15 PM on 7/11/17 on annotate"
   ]
  },
  {
   "cell_type": "code",
   "execution_count": null,
   "metadata": {
    "collapsed": true
   },
   "outputs": [],
   "source": [
    "~/angsd/angsd/misc/realSFS fst index NY_E_un.saf.idx NY_U_un.saf.idx -sfs NY_EU_unfull.ml -fstout NY_EU_unfull; echo \"NY FST Done\" | mailx gw.sarah@gmail.com"
   ]
  },
  {
   "cell_type": "code",
   "execution_count": null,
   "metadata": {
    "collapsed": true
   },
   "outputs": [],
   "source": [
    "~/angsd/misc/realSFS fst stats NY_EU_full.fst.idx "
   ]
  },
  {
   "cell_type": "markdown",
   "metadata": {},
   "source": [
    "-> FST.Unweight[nObs:1710526195]:0.030941 Fst.Weight:0.050585"
   ]
  },
  {
   "cell_type": "code",
   "execution_count": null,
   "metadata": {
    "collapsed": true
   },
   "outputs": [],
   "source": [
    "~/angsd/misc/realSFS fst stats2 NY_EU_unfull.fst.idx -win 10000 -step 2000 > NY_unfull_sw"
   ]
  },
  {
   "cell_type": "code",
   "execution_count": null,
   "metadata": {
    "collapsed": true
   },
   "outputs": [],
   "source": []
  },
  {
   "cell_type": "markdown",
   "metadata": {},
   "source": [
    "Calculate FST for VT"
   ]
  },
  {
   "cell_type": "code",
   "execution_count": null,
   "metadata": {
    "collapsed": true
   },
   "outputs": [],
   "source": [
    "~/angsd/angsd/misc/realSFS fst index VT_E.saf.idx VT_U.saf.idx -sfs VT_EU_full.ml -fstout VT_EU_full ; echo \"VT FST Done\"| mailx gw.sarah@gmail.com "
   ]
  },
  {
   "cell_type": "code",
   "execution_count": null,
   "metadata": {
    "collapsed": true
   },
   "outputs": [],
   "source": [
    "~/angsd/angsd/misc/realSFS fst stats VT_EU_full.fst.idx "
   ]
  },
  {
   "cell_type": "markdown",
   "metadata": {},
   "source": [
    "-> FST.Unweight[nObs:1734759399]:0.029444 Fst.Weight:0.045089"
   ]
  },
  {
   "cell_type": "code",
   "execution_count": null,
   "metadata": {
    "collapsed": true
   },
   "outputs": [],
   "source": [
    "~/angsd/misc/realSFS fst stats2 VT_EU_full.fst.idx -win 10000 -step 2000 > VT_full_sw"
   ]
  },
  {
   "cell_type": "code",
   "execution_count": null,
   "metadata": {
    "collapsed": true
   },
   "outputs": [],
   "source": [
    "awk '$5>0.10' /local/home/sarahgw/WGS/SNPS/All_mylu/VT_sw "
   ]
  },
  {
   "cell_type": "markdown",
   "metadata": {},
   "source": [
    "Get sequences for AAPE02072785"
   ]
  },
  {
   "cell_type": "code",
   "execution_count": null,
   "metadata": {
    "collapsed": true
   },
   "outputs": [],
   "source": [
    "grep 'AAPE02072785' -A 300 /local/home/sarahgw/references/Myotis_Lucifugus2.0/Myotis_lucifugus.Myoluc2.0.dna_sm.toplevel.fa | tr -d \"\\n\\r\" | cut -c 7000-15000 >/local/home/sarahgw/WGS/SNPS/All_mylu/AAPE02072785"
   ]
  }
 ],
 "metadata": {
  "anaconda-cloud": {},
  "kernelspec": {
   "display_name": "Python [conda root]",
   "language": "python",
   "name": "conda-root-py"
  },
  "language_info": {
   "codemirror_mode": {
    "name": "ipython",
    "version": 2
   },
   "file_extension": ".py",
   "mimetype": "text/x-python",
   "name": "python",
   "nbconvert_exporter": "python",
   "pygments_lexer": "ipython2",
   "version": "2.7.12"
  }
 },
 "nbformat": 4,
 "nbformat_minor": 1
}
