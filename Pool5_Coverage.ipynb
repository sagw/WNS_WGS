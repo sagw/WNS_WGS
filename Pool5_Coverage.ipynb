{
 "cells": [
  {
   "cell_type": "code",
   "execution_count": 1,
   "metadata": {
    "collapsed": true
   },
   "outputs": [],
   "source": [
    "setwd (\"~/WGS/Sequences/Metrics/\")"
   ]
  },
  {
   "cell_type": "code",
   "execution_count": 2,
   "metadata": {
    "collapsed": true
   },
   "outputs": [],
   "source": [
    "cov=read.table(\"Coverage_Pool5.txt\")"
   ]
  },
  {
   "cell_type": "code",
   "execution_count": 3,
   "metadata": {
    "collapsed": true
   },
   "outputs": [],
   "source": [
    "colnames(cov)=c(\"Scaffold\", \"depth\", \"NumBp\", \"BpTotal\", \"Percent\", \"Sample\")"
   ]
  },
  {
   "cell_type": "code",
   "execution_count": 4,
   "metadata": {
    "collapsed": true
   },
   "outputs": [],
   "source": [
    "cov$percentage=(as.numeric(as.character(cov$Percent)))*100"
   ]
  },
  {
   "cell_type": "code",
   "execution_count": 5,
   "metadata": {
    "collapsed": true
   },
   "outputs": [],
   "source": [
    "zero=cov[cov$depth==0,]"
   ]
  },
  {
   "cell_type": "code",
   "execution_count": 6,
   "metadata": {
    "collapsed": false
   },
   "outputs": [
    {
     "data": {
      "text/html": [
       "<table>\n",
       "<thead><tr><th></th><th scope=col>Scaffold</th><th scope=col>depth</th><th scope=col>NumBp</th><th scope=col>BpTotal</th><th scope=col>Percent</th><th scope=col>Sample</th><th scope=col>percentage</th></tr></thead>\n",
       "<tbody>\n",
       "\t<tr><th scope=row>1</th><td>GL429767</td><td>0       </td><td>41138947</td><td>64990205</td><td>0.633002</td><td>NJ_U_21 </td><td>63.3002 </td></tr>\n",
       "\t<tr><th scope=row>24</th><td>GL429768</td><td>0       </td><td>25250018</td><td>39494369</td><td>0.639332</td><td>NJ_U_21 </td><td>63.9332 </td></tr>\n",
       "\t<tr><th scope=row>87</th><td>GL429769</td><td>0       </td><td>21185448</td><td>32863254</td><td>0.644655</td><td>NJ_U_21 </td><td>64.4655 </td></tr>\n",
       "\t<tr><th scope=row>153</th><td>GL429770</td><td>0       </td><td>19709108</td><td>30916457</td><td>0.637496</td><td>NJ_U_21 </td><td>63.7496 </td></tr>\n",
       "\t<tr><th scope=row>225</th><td>GL429771</td><td>0       </td><td>15226605</td><td>22519077</td><td>0.676165</td><td>NJ_U_21 </td><td>67.6165 </td></tr>\n",
       "\t<tr><th scope=row>243</th><td>GL429772</td><td>0       </td><td>13480500</td><td>20945196</td><td>0.643608</td><td>NJ_U_21 </td><td>64.3608 </td></tr>\n",
       "</tbody>\n",
       "</table>\n"
      ],
      "text/latex": [
       "\\begin{tabular}{r|lllllll}\n",
       "  & Scaffold & depth & NumBp & BpTotal & Percent & Sample & percentage\\\\\n",
       "\\hline\n",
       "\t1 & GL429767    & 0           & 41138947    & 64990205    & 0.633002    & NJ\\_U\\_21 & 63.3002    \\\\\n",
       "\t24 & GL429768    & 0           & 25250018    & 39494369    & 0.639332    & NJ\\_U\\_21 & 63.9332    \\\\\n",
       "\t87 & GL429769    & 0           & 21185448    & 32863254    & 0.644655    & NJ\\_U\\_21 & 64.4655    \\\\\n",
       "\t153 & GL429770    & 0           & 19709108    & 30916457    & 0.637496    & NJ\\_U\\_21 & 63.7496    \\\\\n",
       "\t225 & GL429771    & 0           & 15226605    & 22519077    & 0.676165    & NJ\\_U\\_21 & 67.6165    \\\\\n",
       "\t243 & GL429772    & 0           & 13480500    & 20945196    & 0.643608    & NJ\\_U\\_21 & 64.3608    \\\\\n",
       "\\end{tabular}\n"
      ],
      "text/markdown": [
       "\n",
       "| <!--/--> | Scaffold | depth | NumBp | BpTotal | Percent | Sample | percentage | \n",
       "|---|---|---|---|---|---|\n",
       "| 1 | GL429767 | 0        | 41138947 | 64990205 | 0.633002 | NJ_U_21  | 63.3002  | \n",
       "| 24 | GL429768 | 0        | 25250018 | 39494369 | 0.639332 | NJ_U_21  | 63.9332  | \n",
       "| 87 | GL429769 | 0        | 21185448 | 32863254 | 0.644655 | NJ_U_21  | 64.4655  | \n",
       "| 153 | GL429770 | 0        | 19709108 | 30916457 | 0.637496 | NJ_U_21  | 63.7496  | \n",
       "| 225 | GL429771 | 0        | 15226605 | 22519077 | 0.676165 | NJ_U_21  | 67.6165  | \n",
       "| 243 | GL429772 | 0        | 13480500 | 20945196 | 0.643608 | NJ_U_21  | 64.3608  | \n",
       "\n",
       "\n"
      ],
      "text/plain": [
       "    Scaffold depth NumBp    BpTotal  Percent  Sample  percentage\n",
       "1   GL429767 0     41138947 64990205 0.633002 NJ_U_21 63.3002   \n",
       "24  GL429768 0     25250018 39494369 0.639332 NJ_U_21 63.9332   \n",
       "87  GL429769 0     21185448 32863254 0.644655 NJ_U_21 64.4655   \n",
       "153 GL429770 0     19709108 30916457 0.637496 NJ_U_21 63.7496   \n",
       "225 GL429771 0     15226605 22519077 0.676165 NJ_U_21 67.6165   \n",
       "243 GL429772 0     13480500 20945196 0.643608 NJ_U_21 64.3608   "
      ]
     },
     "metadata": {},
     "output_type": "display_data"
    }
   ],
   "source": [
    "head(zero)"
   ]
  },
  {
   "cell_type": "code",
   "execution_count": 7,
   "metadata": {
    "collapsed": true
   },
   "outputs": [],
   "source": [
    "zero$Percentage=NULL"
   ]
  },
  {
   "cell_type": "code",
   "execution_count": 8,
   "metadata": {
    "collapsed": true
   },
   "outputs": [],
   "source": [
    "zero$Percent=NULL"
   ]
  },
  {
   "cell_type": "code",
   "execution_count": 9,
   "metadata": {
    "collapsed": true
   },
   "outputs": [],
   "source": [
    "zero$depth=NULL"
   ]
  },
  {
   "cell_type": "code",
   "execution_count": 10,
   "metadata": {
    "collapsed": false
   },
   "outputs": [
    {
     "name": "stderr",
     "output_type": "stream",
     "text": [
      "Loading required package: plyr\n"
     ]
    }
   ],
   "source": [
    "require(plyr)"
   ]
  },
  {
   "cell_type": "code",
   "execution_count": 11,
   "metadata": {
    "collapsed": true
   },
   "outputs": [],
   "source": [
    "zero$NumBp=as.numeric(as.character(zero$NumBp))"
   ]
  },
  {
   "cell_type": "code",
   "execution_count": 12,
   "metadata": {
    "collapsed": true
   },
   "outputs": [],
   "source": [
    "zero$BpTotal=as.numeric(as.character(zero$BpTotal))"
   ]
  },
  {
   "cell_type": "code",
   "execution_count": 13,
   "metadata": {
    "collapsed": true
   },
   "outputs": [],
   "source": [
    "zerosum=ddply(zero, \"Sample\", numcolwise(sum))"
   ]
  },
  {
   "cell_type": "code",
   "execution_count": 14,
   "metadata": {
    "collapsed": true
   },
   "outputs": [],
   "source": [
    "zerosum$percentage=(1-(zerosum$NumBp/zerosum$BpTotal))*100"
   ]
  },
  {
   "cell_type": "code",
   "execution_count": 15,
   "metadata": {
    "collapsed": false
   },
   "outputs": [
    {
     "name": "stderr",
     "output_type": "stream",
     "text": [
      "Loading required package: ggplot2\n"
     ]
    }
   ],
   "source": [
    "require(ggplot2)"
   ]
  },
  {
   "cell_type": "code",
   "execution_count": 16,
   "metadata": {
    "collapsed": true
   },
   "outputs": [],
   "source": [
    "plot=ggplot(data=zerosum, aes(x=Sample, y=percentage))+\n",
    "  geom_bar(data=zerosum, stat=\"identity\")+\n",
    "  theme_bw()+ylab(\"Percent >= 1x coverage\")+\n",
    "  theme(axis.text.x = element_text(angle = 90, hjust = 1))"
   ]
  },
  {
   "cell_type": "code",
   "execution_count": 17,
   "metadata": {
    "collapsed": false
   },
   "outputs": [
    {
     "data": {},
     "metadata": {},
     "output_type": "display_data"
    },
    {
     "data": {
      "image/png": "[encoded data removed]",
      "text/plain": [
       "plot without title"
      ]
     },
     "metadata": {},
     "output_type": "display_data"
    }
   ],
   "source": [
    "plot"
   ]
  },
  {
   "cell_type": "code",
   "execution_count": null,
   "metadata": {
    "collapsed": true
   },
   "outputs": [],
   "source": []
  }
 ],
 "metadata": {
  "anaconda-cloud": {},
  "kernelspec": {
   "display_name": "R",
   "language": "R",
   "name": "ir"
  },
  "language_info": {
   "codemirror_mode": "r",
   "file_extension": ".r",
   "mimetype": "text/x-r-source",
   "name": "R",
   "pygments_lexer": "r",
   "version": "3.3.2"
  }
 },
 "nbformat": 4,
 "nbformat_minor": 1
}
