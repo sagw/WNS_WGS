{
 "cells": [
  {
   "cell_type": "code",
   "execution_count": 2,
   "metadata": {
    "collapsed": true
   },
   "outputs": [],
   "source": [
    "setwd (\"~/WGS/Sequences/hiseq_2016_12_07_complete/\")"
   ]
  },
  {
   "cell_type": "code",
   "execution_count": 3,
   "metadata": {
    "collapsed": true
   },
   "outputs": [],
   "source": [
    "NJE23=read.csv(\"NJ_E_26/NJ_E_26_GC_cut.csv\", header=TRUE)"
   ]
  },
  {
   "cell_type": "code",
   "execution_count": 4,
   "metadata": {
    "collapsed": true
   },
   "outputs": [],
   "source": [
    "colnames(NJE23)=c(\"Scaffold\", \"GC\")"
   ]
  },
  {
   "cell_type": "code",
   "execution_count": 5,
   "metadata": {
    "collapsed": true
   },
   "outputs": [],
   "source": [
    "NJE26mean=aggregate(GC ~ Scaffold, NJE23, mean)"
   ]
  },
  {
   "cell_type": "code",
   "execution_count": 6,
   "metadata": {
    "collapsed": true
   },
   "outputs": [],
   "source": [
    "NJE26mean$Sample=c(\"NJE26\")"
   ]
  },
  {
   "cell_type": "code",
   "execution_count": 7,
   "metadata": {
    "collapsed": false
   },
   "outputs": [
    {
     "data": {
      "text/html": [
       "<table>\n",
       "<thead><tr><th scope=col>Scaffold</th><th scope=col>GC</th><th scope=col>Sample</th></tr></thead>\n",
       "<tbody>\n",
       "\t<tr><td>AAPE02055386</td><td>0.5028860   </td><td>NJE26       </td></tr>\n",
       "\t<tr><td>AAPE02055720</td><td>0.4467439   </td><td>NJE26       </td></tr>\n",
       "\t<tr><td>AAPE02055947</td><td>0.4595196   </td><td>NJE26       </td></tr>\n",
       "\t<tr><td>AAPE02056334</td><td>0.5173558   </td><td>NJE26       </td></tr>\n",
       "\t<tr><td>AAPE02056387</td><td>0.4879015   </td><td>NJE26       </td></tr>\n",
       "\t<tr><td>AAPE02056710</td><td>0.4658752   </td><td>NJE26       </td></tr>\n",
       "</tbody>\n",
       "</table>\n"
      ],
      "text/latex": [
       "\\begin{tabular}{r|lll}\n",
       " Scaffold & GC & Sample\\\\\n",
       "\\hline\n",
       "\t AAPE02055386 & 0.5028860    & NJE26       \\\\\n",
       "\t AAPE02055720 & 0.4467439    & NJE26       \\\\\n",
       "\t AAPE02055947 & 0.4595196    & NJE26       \\\\\n",
       "\t AAPE02056334 & 0.5173558    & NJE26       \\\\\n",
       "\t AAPE02056387 & 0.4879015    & NJE26       \\\\\n",
       "\t AAPE02056710 & 0.4658752    & NJE26       \\\\\n",
       "\\end{tabular}\n"
      ],
      "text/markdown": [
       "\n",
       "Scaffold | GC | Sample | \n",
       "|---|---|---|---|---|---|\n",
       "| AAPE02055386 | 0.5028860    | NJE26        | \n",
       "| AAPE02055720 | 0.4467439    | NJE26        | \n",
       "| AAPE02055947 | 0.4595196    | NJE26        | \n",
       "| AAPE02056334 | 0.5173558    | NJE26        | \n",
       "| AAPE02056387 | 0.4879015    | NJE26        | \n",
       "| AAPE02056710 | 0.4658752    | NJE26        | \n",
       "\n",
       "\n"
      ],
      "text/plain": [
       "  Scaffold     GC        Sample\n",
       "1 AAPE02055386 0.5028860 NJE26 \n",
       "2 AAPE02055720 0.4467439 NJE26 \n",
       "3 AAPE02055947 0.4595196 NJE26 \n",
       "4 AAPE02056334 0.5173558 NJE26 \n",
       "5 AAPE02056387 0.4879015 NJE26 \n",
       "6 AAPE02056710 0.4658752 NJE26 "
      ]
     },
     "metadata": {},
     "output_type": "display_data"
    }
   ],
   "source": [
    "head(NJE26mean)"
   ]
  },
  {
   "cell_type": "code",
   "execution_count": null,
   "metadata": {
    "collapsed": true
   },
   "outputs": [],
   "source": []
  },
  {
   "cell_type": "code",
   "execution_count": 8,
   "metadata": {
    "collapsed": true
   },
   "outputs": [],
   "source": [
    "NJE22=read.csv(\"NJ_E_22/NJ_E_22_GC_cut.csv\", header=TRUE)"
   ]
  },
  {
   "cell_type": "code",
   "execution_count": 9,
   "metadata": {
    "collapsed": true
   },
   "outputs": [],
   "source": [
    "colnames(NJE22)=c(\"Scaffold\", \"GC\")"
   ]
  },
  {
   "cell_type": "code",
   "execution_count": 12,
   "metadata": {
    "collapsed": false
   },
   "outputs": [],
   "source": [
    "NJE22mean$Sample=c(\"NJE22\")"
   ]
  },
  {
   "cell_type": "code",
   "execution_count": 13,
   "metadata": {
    "collapsed": false
   },
   "outputs": [
    {
     "data": {
      "text/html": [
       "<table>\n",
       "<thead><tr><th scope=col>Scaffold</th><th scope=col>GC</th><th scope=col>Sample</th></tr></thead>\n",
       "<tbody>\n",
       "\t<tr><td>AAPE02055386</td><td>0.4779112   </td><td>NJE22       </td></tr>\n",
       "\t<tr><td>AAPE02055720</td><td>0.4435244   </td><td>NJE22       </td></tr>\n",
       "\t<tr><td>AAPE02055947</td><td>0.4575621   </td><td>NJE22       </td></tr>\n",
       "\t<tr><td>AAPE02056334</td><td>0.5015149   </td><td>NJE22       </td></tr>\n",
       "\t<tr><td>AAPE02056387</td><td>0.4720742   </td><td>NJE22       </td></tr>\n",
       "\t<tr><td>AAPE02056710</td><td>0.4532994   </td><td>NJE22       </td></tr>\n",
       "</tbody>\n",
       "</table>\n"
      ],
      "text/latex": [
       "\\begin{tabular}{r|lll}\n",
       " Scaffold & GC & Sample\\\\\n",
       "\\hline\n",
       "\t AAPE02055386 & 0.4779112    & NJE22       \\\\\n",
       "\t AAPE02055720 & 0.4435244    & NJE22       \\\\\n",
       "\t AAPE02055947 & 0.4575621    & NJE22       \\\\\n",
       "\t AAPE02056334 & 0.5015149    & NJE22       \\\\\n",
       "\t AAPE02056387 & 0.4720742    & NJE22       \\\\\n",
       "\t AAPE02056710 & 0.4532994    & NJE22       \\\\\n",
       "\\end{tabular}\n"
      ],
      "text/markdown": [
       "\n",
       "Scaffold | GC | Sample | \n",
       "|---|---|---|---|---|---|\n",
       "| AAPE02055386 | 0.4779112    | NJE22        | \n",
       "| AAPE02055720 | 0.4435244    | NJE22        | \n",
       "| AAPE02055947 | 0.4575621    | NJE22        | \n",
       "| AAPE02056334 | 0.5015149    | NJE22        | \n",
       "| AAPE02056387 | 0.4720742    | NJE22        | \n",
       "| AAPE02056710 | 0.4532994    | NJE22        | \n",
       "\n",
       "\n"
      ],
      "text/plain": [
       "  Scaffold     GC        Sample\n",
       "1 AAPE02055386 0.4779112 NJE22 \n",
       "2 AAPE02055720 0.4435244 NJE22 \n",
       "3 AAPE02055947 0.4575621 NJE22 \n",
       "4 AAPE02056334 0.5015149 NJE22 \n",
       "5 AAPE02056387 0.4720742 NJE22 \n",
       "6 AAPE02056710 0.4532994 NJE22 "
      ]
     },
     "metadata": {},
     "output_type": "display_data"
    }
   ],
   "source": [
    "head (NJE22mean)"
   ]
  },
  {
   "cell_type": "code",
   "execution_count": 11,
   "metadata": {
    "collapsed": true
   },
   "outputs": [],
   "source": [
    "NJE22mean=aggregate(GC ~ Scaffold, NJE22, mean)"
   ]
  },
  {
   "cell_type": "code",
   "execution_count": 14,
   "metadata": {
    "collapsed": true
   },
   "outputs": [],
   "source": [
    "NJE23a=read.csv(\"NJ_E_23/NJ_E_23_GC_cut.csv\", header=TRUE)"
   ]
  },
  {
   "cell_type": "code",
   "execution_count": 15,
   "metadata": {
    "collapsed": true
   },
   "outputs": [],
   "source": [
    "colnames(NJE23a)=c(\"Scaffold\", \"GC\")"
   ]
  },
  {
   "cell_type": "code",
   "execution_count": 17,
   "metadata": {
    "collapsed": true
   },
   "outputs": [],
   "source": [
    "NJE23mean$Sample=c(\"NJE23\")"
   ]
  },
  {
   "cell_type": "code",
   "execution_count": 18,
   "metadata": {
    "collapsed": false
   },
   "outputs": [
    {
     "data": {
      "text/html": [
       "<table>\n",
       "<thead><tr><th scope=col>Scaffold</th><th scope=col>GC</th><th scope=col>Sample</th></tr></thead>\n",
       "<tbody>\n",
       "\t<tr><td>AAPE02055386</td><td>0.4832075   </td><td>NJE23       </td></tr>\n",
       "\t<tr><td>AAPE02055720</td><td>0.4382195   </td><td>NJE23       </td></tr>\n",
       "\t<tr><td>AAPE02055947</td><td>0.4484638   </td><td>NJE23       </td></tr>\n",
       "\t<tr><td>AAPE02056334</td><td>0.5037487   </td><td>NJE23       </td></tr>\n",
       "\t<tr><td>AAPE02056387</td><td>0.4574347   </td><td>NJE23       </td></tr>\n",
       "\t<tr><td>AAPE02056710</td><td>0.4482856   </td><td>NJE23       </td></tr>\n",
       "</tbody>\n",
       "</table>\n"
      ],
      "text/latex": [
       "\\begin{tabular}{r|lll}\n",
       " Scaffold & GC & Sample\\\\\n",
       "\\hline\n",
       "\t AAPE02055386 & 0.4832075    & NJE23       \\\\\n",
       "\t AAPE02055720 & 0.4382195    & NJE23       \\\\\n",
       "\t AAPE02055947 & 0.4484638    & NJE23       \\\\\n",
       "\t AAPE02056334 & 0.5037487    & NJE23       \\\\\n",
       "\t AAPE02056387 & 0.4574347    & NJE23       \\\\\n",
       "\t AAPE02056710 & 0.4482856    & NJE23       \\\\\n",
       "\\end{tabular}\n"
      ],
      "text/markdown": [
       "\n",
       "Scaffold | GC | Sample | \n",
       "|---|---|---|---|---|---|\n",
       "| AAPE02055386 | 0.4832075    | NJE23        | \n",
       "| AAPE02055720 | 0.4382195    | NJE23        | \n",
       "| AAPE02055947 | 0.4484638    | NJE23        | \n",
       "| AAPE02056334 | 0.5037487    | NJE23        | \n",
       "| AAPE02056387 | 0.4574347    | NJE23        | \n",
       "| AAPE02056710 | 0.4482856    | NJE23        | \n",
       "\n",
       "\n"
      ],
      "text/plain": [
       "  Scaffold     GC        Sample\n",
       "1 AAPE02055386 0.4832075 NJE23 \n",
       "2 AAPE02055720 0.4382195 NJE23 \n",
       "3 AAPE02055947 0.4484638 NJE23 \n",
       "4 AAPE02056334 0.5037487 NJE23 \n",
       "5 AAPE02056387 0.4574347 NJE23 \n",
       "6 AAPE02056710 0.4482856 NJE23 "
      ]
     },
     "metadata": {},
     "output_type": "display_data"
    }
   ],
   "source": [
    "head(NJE23mean)"
   ]
  },
  {
   "cell_type": "code",
   "execution_count": 16,
   "metadata": {
    "collapsed": true
   },
   "outputs": [],
   "source": [
    "NJE23mean=aggregate(GC ~ Scaffold, NJE23a, mean)"
   ]
  },
  {
   "cell_type": "code",
   "execution_count": 19,
   "metadata": {
    "collapsed": true
   },
   "outputs": [],
   "source": [
    "NJE24=read.csv(\"NJ_E_24/NJ_E_24_GC_cut.csv\", header=TRUE)"
   ]
  },
  {
   "cell_type": "code",
   "execution_count": 20,
   "metadata": {
    "collapsed": true
   },
   "outputs": [],
   "source": [
    "colnames(NJE24)=c(\"Scaffold\", \"GC\")"
   ]
  },
  {
   "cell_type": "code",
   "execution_count": 22,
   "metadata": {
    "collapsed": true
   },
   "outputs": [],
   "source": [
    "NJE24mean$Sample=c(\"NJE24\")"
   ]
  },
  {
   "cell_type": "code",
   "execution_count": 23,
   "metadata": {
    "collapsed": false
   },
   "outputs": [
    {
     "data": {
      "text/html": [
       "<table>\n",
       "<thead><tr><th scope=col>Scaffold</th><th scope=col>GC</th><th scope=col>Sample</th></tr></thead>\n",
       "<tbody>\n",
       "\t<tr><td>AAPE02055386</td><td>0.4847721   </td><td>NJE24       </td></tr>\n",
       "\t<tr><td>AAPE02055720</td><td>0.4325426   </td><td>NJE24       </td></tr>\n",
       "\t<tr><td>AAPE02055947</td><td>0.4511450   </td><td>NJE24       </td></tr>\n",
       "\t<tr><td>AAPE02056334</td><td>0.4986304   </td><td>NJE24       </td></tr>\n",
       "\t<tr><td>AAPE02056387</td><td>0.4668024   </td><td>NJE24       </td></tr>\n",
       "\t<tr><td>AAPE02056710</td><td>0.4504290   </td><td>NJE24       </td></tr>\n",
       "</tbody>\n",
       "</table>\n"
      ],
      "text/latex": [
       "\\begin{tabular}{r|lll}\n",
       " Scaffold & GC & Sample\\\\\n",
       "\\hline\n",
       "\t AAPE02055386 & 0.4847721    & NJE24       \\\\\n",
       "\t AAPE02055720 & 0.4325426    & NJE24       \\\\\n",
       "\t AAPE02055947 & 0.4511450    & NJE24       \\\\\n",
       "\t AAPE02056334 & 0.4986304    & NJE24       \\\\\n",
       "\t AAPE02056387 & 0.4668024    & NJE24       \\\\\n",
       "\t AAPE02056710 & 0.4504290    & NJE24       \\\\\n",
       "\\end{tabular}\n"
      ],
      "text/markdown": [
       "\n",
       "Scaffold | GC | Sample | \n",
       "|---|---|---|---|---|---|\n",
       "| AAPE02055386 | 0.4847721    | NJE24        | \n",
       "| AAPE02055720 | 0.4325426    | NJE24        | \n",
       "| AAPE02055947 | 0.4511450    | NJE24        | \n",
       "| AAPE02056334 | 0.4986304    | NJE24        | \n",
       "| AAPE02056387 | 0.4668024    | NJE24        | \n",
       "| AAPE02056710 | 0.4504290    | NJE24        | \n",
       "\n",
       "\n"
      ],
      "text/plain": [
       "  Scaffold     GC        Sample\n",
       "1 AAPE02055386 0.4847721 NJE24 \n",
       "2 AAPE02055720 0.4325426 NJE24 \n",
       "3 AAPE02055947 0.4511450 NJE24 \n",
       "4 AAPE02056334 0.4986304 NJE24 \n",
       "5 AAPE02056387 0.4668024 NJE24 \n",
       "6 AAPE02056710 0.4504290 NJE24 "
      ]
     },
     "metadata": {},
     "output_type": "display_data"
    }
   ],
   "source": [
    "head(NJE24mean)"
   ]
  },
  {
   "cell_type": "code",
   "execution_count": 21,
   "metadata": {
    "collapsed": true
   },
   "outputs": [],
   "source": [
    "NJE24mean=aggregate(GC ~ Scaffold, NJE24, mean)"
   ]
  },
  {
   "cell_type": "code",
   "execution_count": 24,
   "metadata": {
    "collapsed": true
   },
   "outputs": [],
   "source": [
    "NJE25=read.csv(\"NJ_E_25/NJ_E_25_GC_cut.csv\", header=TRUE)"
   ]
  },
  {
   "cell_type": "code",
   "execution_count": 25,
   "metadata": {
    "collapsed": true
   },
   "outputs": [],
   "source": [
    "colnames(NJE25)=c(\"Scaffold\", \"GC\")"
   ]
  },
  {
   "cell_type": "code",
   "execution_count": 27,
   "metadata": {
    "collapsed": true
   },
   "outputs": [],
   "source": [
    "NJE25mean$Sample=c(\"NJE25\")"
   ]
  },
  {
   "cell_type": "code",
   "execution_count": 28,
   "metadata": {
    "collapsed": false
   },
   "outputs": [
    {
     "data": {
      "text/html": [
       "<table>\n",
       "<thead><tr><th scope=col>Scaffold</th><th scope=col>GC</th><th scope=col>Sample</th></tr></thead>\n",
       "<tbody>\n",
       "\t<tr><td>AAPE02055386</td><td>0.4973160   </td><td>NJE25       </td></tr>\n",
       "\t<tr><td>AAPE02055720</td><td>0.4379352   </td><td>NJE25       </td></tr>\n",
       "\t<tr><td>AAPE02055947</td><td>0.4532476   </td><td>NJE25       </td></tr>\n",
       "\t<tr><td>AAPE02056334</td><td>0.5005114   </td><td>NJE25       </td></tr>\n",
       "\t<tr><td>AAPE02056387</td><td>0.4688514   </td><td>NJE25       </td></tr>\n",
       "\t<tr><td>AAPE02056710</td><td>0.4541848   </td><td>NJE25       </td></tr>\n",
       "</tbody>\n",
       "</table>\n"
      ],
      "text/latex": [
       "\\begin{tabular}{r|lll}\n",
       " Scaffold & GC & Sample\\\\\n",
       "\\hline\n",
       "\t AAPE02055386 & 0.4973160    & NJE25       \\\\\n",
       "\t AAPE02055720 & 0.4379352    & NJE25       \\\\\n",
       "\t AAPE02055947 & 0.4532476    & NJE25       \\\\\n",
       "\t AAPE02056334 & 0.5005114    & NJE25       \\\\\n",
       "\t AAPE02056387 & 0.4688514    & NJE25       \\\\\n",
       "\t AAPE02056710 & 0.4541848    & NJE25       \\\\\n",
       "\\end{tabular}\n"
      ],
      "text/markdown": [
       "\n",
       "Scaffold | GC | Sample | \n",
       "|---|---|---|---|---|---|\n",
       "| AAPE02055386 | 0.4973160    | NJE25        | \n",
       "| AAPE02055720 | 0.4379352    | NJE25        | \n",
       "| AAPE02055947 | 0.4532476    | NJE25        | \n",
       "| AAPE02056334 | 0.5005114    | NJE25        | \n",
       "| AAPE02056387 | 0.4688514    | NJE25        | \n",
       "| AAPE02056710 | 0.4541848    | NJE25        | \n",
       "\n",
       "\n"
      ],
      "text/plain": [
       "  Scaffold     GC        Sample\n",
       "1 AAPE02055386 0.4973160 NJE25 \n",
       "2 AAPE02055720 0.4379352 NJE25 \n",
       "3 AAPE02055947 0.4532476 NJE25 \n",
       "4 AAPE02056334 0.5005114 NJE25 \n",
       "5 AAPE02056387 0.4688514 NJE25 \n",
       "6 AAPE02056710 0.4541848 NJE25 "
      ]
     },
     "metadata": {},
     "output_type": "display_data"
    }
   ],
   "source": [
    "head(NJE25mean)"
   ]
  },
  {
   "cell_type": "code",
   "execution_count": 26,
   "metadata": {
    "collapsed": true
   },
   "outputs": [],
   "source": [
    "NJE25mean=aggregate(GC ~ Scaffold, NJE25, mean)"
   ]
  },
  {
   "cell_type": "code",
   "execution_count": 32,
   "metadata": {
    "collapsed": true
   },
   "outputs": [],
   "source": [
    "NJE27=read.csv(\"NJ_E_27/NJ_E_27_GC_cut.csv\", header=TRUE)"
   ]
  },
  {
   "cell_type": "code",
   "execution_count": 33,
   "metadata": {
    "collapsed": true
   },
   "outputs": [],
   "source": [
    "colnames(NJE27)=c(\"Scaffold\", \"GC\")"
   ]
  },
  {
   "cell_type": "code",
   "execution_count": 36,
   "metadata": {
    "collapsed": false
   },
   "outputs": [],
   "source": [
    "NJE27mean$Sample=c(\"NJE27\")"
   ]
  },
  {
   "cell_type": "code",
   "execution_count": 37,
   "metadata": {
    "collapsed": false
   },
   "outputs": [
    {
     "data": {
      "text/html": [
       "<table>\n",
       "<thead><tr><th scope=col>Scaffold</th><th scope=col>GC</th><th scope=col>Sample</th></tr></thead>\n",
       "<tbody>\n",
       "\t<tr><td>AAPE02055386</td><td>0.5044795   </td><td>NJE27       </td></tr>\n",
       "\t<tr><td>AAPE02055720</td><td>0.4408444   </td><td>NJE27       </td></tr>\n",
       "\t<tr><td>AAPE02055947</td><td>0.4373965   </td><td>NJE27       </td></tr>\n",
       "\t<tr><td>AAPE02056334</td><td>0.5118555   </td><td>NJE27       </td></tr>\n",
       "\t<tr><td>AAPE02056387</td><td>0.4554445   </td><td>NJE27       </td></tr>\n",
       "\t<tr><td>AAPE02056710</td><td>0.4664955   </td><td>NJE27       </td></tr>\n",
       "</tbody>\n",
       "</table>\n"
      ],
      "text/latex": [
       "\\begin{tabular}{r|lll}\n",
       " Scaffold & GC & Sample\\\\\n",
       "\\hline\n",
       "\t AAPE02055386 & 0.5044795    & NJE27       \\\\\n",
       "\t AAPE02055720 & 0.4408444    & NJE27       \\\\\n",
       "\t AAPE02055947 & 0.4373965    & NJE27       \\\\\n",
       "\t AAPE02056334 & 0.5118555    & NJE27       \\\\\n",
       "\t AAPE02056387 & 0.4554445    & NJE27       \\\\\n",
       "\t AAPE02056710 & 0.4664955    & NJE27       \\\\\n",
       "\\end{tabular}\n"
      ],
      "text/markdown": [
       "\n",
       "Scaffold | GC | Sample | \n",
       "|---|---|---|---|---|---|\n",
       "| AAPE02055386 | 0.5044795    | NJE27        | \n",
       "| AAPE02055720 | 0.4408444    | NJE27        | \n",
       "| AAPE02055947 | 0.4373965    | NJE27        | \n",
       "| AAPE02056334 | 0.5118555    | NJE27        | \n",
       "| AAPE02056387 | 0.4554445    | NJE27        | \n",
       "| AAPE02056710 | 0.4664955    | NJE27        | \n",
       "\n",
       "\n"
      ],
      "text/plain": [
       "  Scaffold     GC        Sample\n",
       "1 AAPE02055386 0.5044795 NJE27 \n",
       "2 AAPE02055720 0.4408444 NJE27 \n",
       "3 AAPE02055947 0.4373965 NJE27 \n",
       "4 AAPE02056334 0.5118555 NJE27 \n",
       "5 AAPE02056387 0.4554445 NJE27 \n",
       "6 AAPE02056710 0.4664955 NJE27 "
      ]
     },
     "metadata": {},
     "output_type": "display_data"
    }
   ],
   "source": [
    "head(NJE27mean)"
   ]
  },
  {
   "cell_type": "code",
   "execution_count": 35,
   "metadata": {
    "collapsed": false
   },
   "outputs": [],
   "source": [
    "NJE27mean=aggregate(GC ~ Scaffold, NJE27, mean)"
   ]
  },
  {
   "cell_type": "code",
   "execution_count": 38,
   "metadata": {
    "collapsed": true
   },
   "outputs": [],
   "source": [
    "NJE28=read.csv(\"NJ_E_28/NJ_E_28_GC_cut.csv\", header=TRUE)"
   ]
  },
  {
   "cell_type": "code",
   "execution_count": 41,
   "metadata": {
    "collapsed": true
   },
   "outputs": [],
   "source": [
    "colnames(NJE28)=c(\"Scaffold\", \"GC\")"
   ]
  },
  {
   "cell_type": "code",
   "execution_count": 43,
   "metadata": {
    "collapsed": true
   },
   "outputs": [],
   "source": [
    "NJE28mean$Sample=c(\"NJE28\")"
   ]
  },
  {
   "cell_type": "code",
   "execution_count": 44,
   "metadata": {
    "collapsed": false
   },
   "outputs": [
    {
     "data": {
      "text/html": [
       "<table>\n",
       "<thead><tr><th scope=col>Scaffold</th><th scope=col>GC</th><th scope=col>Sample</th></tr></thead>\n",
       "<tbody>\n",
       "\t<tr><td>AAPE02055386</td><td>0.4773742   </td><td>NJE28       </td></tr>\n",
       "\t<tr><td>AAPE02055720</td><td>0.4290697   </td><td>NJE28       </td></tr>\n",
       "\t<tr><td>AAPE02055947</td><td>0.4500977   </td><td>NJE28       </td></tr>\n",
       "\t<tr><td>AAPE02056334</td><td>0.4972317   </td><td>NJE28       </td></tr>\n",
       "\t<tr><td>AAPE02056387</td><td>0.4561182   </td><td>NJE28       </td></tr>\n",
       "\t<tr><td>AAPE02056710</td><td>0.4467207   </td><td>NJE28       </td></tr>\n",
       "</tbody>\n",
       "</table>\n"
      ],
      "text/latex": [
       "\\begin{tabular}{r|lll}\n",
       " Scaffold & GC & Sample\\\\\n",
       "\\hline\n",
       "\t AAPE02055386 & 0.4773742    & NJE28       \\\\\n",
       "\t AAPE02055720 & 0.4290697    & NJE28       \\\\\n",
       "\t AAPE02055947 & 0.4500977    & NJE28       \\\\\n",
       "\t AAPE02056334 & 0.4972317    & NJE28       \\\\\n",
       "\t AAPE02056387 & 0.4561182    & NJE28       \\\\\n",
       "\t AAPE02056710 & 0.4467207    & NJE28       \\\\\n",
       "\\end{tabular}\n"
      ],
      "text/markdown": [
       "\n",
       "Scaffold | GC | Sample | \n",
       "|---|---|---|---|---|---|\n",
       "| AAPE02055386 | 0.4773742    | NJE28        | \n",
       "| AAPE02055720 | 0.4290697    | NJE28        | \n",
       "| AAPE02055947 | 0.4500977    | NJE28        | \n",
       "| AAPE02056334 | 0.4972317    | NJE28        | \n",
       "| AAPE02056387 | 0.4561182    | NJE28        | \n",
       "| AAPE02056710 | 0.4467207    | NJE28        | \n",
       "\n",
       "\n"
      ],
      "text/plain": [
       "  Scaffold     GC        Sample\n",
       "1 AAPE02055386 0.4773742 NJE28 \n",
       "2 AAPE02055720 0.4290697 NJE28 \n",
       "3 AAPE02055947 0.4500977 NJE28 \n",
       "4 AAPE02056334 0.4972317 NJE28 \n",
       "5 AAPE02056387 0.4561182 NJE28 \n",
       "6 AAPE02056710 0.4467207 NJE28 "
      ]
     },
     "metadata": {},
     "output_type": "display_data"
    }
   ],
   "source": [
    "head(NJE28mean)"
   ]
  },
  {
   "cell_type": "code",
   "execution_count": 42,
   "metadata": {
    "collapsed": false
   },
   "outputs": [],
   "source": [
    "NJE28mean=aggregate(GC ~ Scaffold, NJE28, mean)"
   ]
  },
  {
   "cell_type": "code",
   "execution_count": 45,
   "metadata": {
    "collapsed": true
   },
   "outputs": [],
   "source": [
    "NJE29=read.csv(\"NJ_E_29/NJ_E_29_GC_cut.csv\", header=TRUE)"
   ]
  },
  {
   "cell_type": "code",
   "execution_count": 46,
   "metadata": {
    "collapsed": true
   },
   "outputs": [],
   "source": [
    "colnames(NJE29)=c(\"Scaffold\", \"GC\")"
   ]
  },
  {
   "cell_type": "code",
   "execution_count": 48,
   "metadata": {
    "collapsed": true
   },
   "outputs": [],
   "source": [
    "NJE29mean$Sample=c(\"NJE29\")"
   ]
  },
  {
   "cell_type": "code",
   "execution_count": 49,
   "metadata": {
    "collapsed": false
   },
   "outputs": [
    {
     "data": {
      "text/html": [
       "<table>\n",
       "<thead><tr><th scope=col>Scaffold</th><th scope=col>GC</th><th scope=col>Sample</th></tr></thead>\n",
       "<tbody>\n",
       "\t<tr><td>AAPE02055386</td><td>0.4927280   </td><td>NJE29       </td></tr>\n",
       "\t<tr><td>AAPE02055720</td><td>0.4424985   </td><td>NJE29       </td></tr>\n",
       "\t<tr><td>AAPE02055947</td><td>0.4532041   </td><td>NJE29       </td></tr>\n",
       "\t<tr><td>AAPE02056334</td><td>0.4990074   </td><td>NJE29       </td></tr>\n",
       "\t<tr><td>AAPE02056387</td><td>0.4747860   </td><td>NJE29       </td></tr>\n",
       "\t<tr><td>AAPE02056710</td><td>0.4545542   </td><td>NJE29       </td></tr>\n",
       "</tbody>\n",
       "</table>\n"
      ],
      "text/latex": [
       "\\begin{tabular}{r|lll}\n",
       " Scaffold & GC & Sample\\\\\n",
       "\\hline\n",
       "\t AAPE02055386 & 0.4927280    & NJE29       \\\\\n",
       "\t AAPE02055720 & 0.4424985    & NJE29       \\\\\n",
       "\t AAPE02055947 & 0.4532041    & NJE29       \\\\\n",
       "\t AAPE02056334 & 0.4990074    & NJE29       \\\\\n",
       "\t AAPE02056387 & 0.4747860    & NJE29       \\\\\n",
       "\t AAPE02056710 & 0.4545542    & NJE29       \\\\\n",
       "\\end{tabular}\n"
      ],
      "text/markdown": [
       "\n",
       "Scaffold | GC | Sample | \n",
       "|---|---|---|---|---|---|\n",
       "| AAPE02055386 | 0.4927280    | NJE29        | \n",
       "| AAPE02055720 | 0.4424985    | NJE29        | \n",
       "| AAPE02055947 | 0.4532041    | NJE29        | \n",
       "| AAPE02056334 | 0.4990074    | NJE29        | \n",
       "| AAPE02056387 | 0.4747860    | NJE29        | \n",
       "| AAPE02056710 | 0.4545542    | NJE29        | \n",
       "\n",
       "\n"
      ],
      "text/plain": [
       "  Scaffold     GC        Sample\n",
       "1 AAPE02055386 0.4927280 NJE29 \n",
       "2 AAPE02055720 0.4424985 NJE29 \n",
       "3 AAPE02055947 0.4532041 NJE29 \n",
       "4 AAPE02056334 0.4990074 NJE29 \n",
       "5 AAPE02056387 0.4747860 NJE29 \n",
       "6 AAPE02056710 0.4545542 NJE29 "
      ]
     },
     "metadata": {},
     "output_type": "display_data"
    }
   ],
   "source": [
    "head(NJE29mean)"
   ]
  },
  {
   "cell_type": "code",
   "execution_count": 47,
   "metadata": {
    "collapsed": true
   },
   "outputs": [],
   "source": [
    "NJE29mean=aggregate(GC ~ Scaffold, NJE29, mean)"
   ]
  },
  {
   "cell_type": "code",
   "execution_count": 50,
   "metadata": {
    "collapsed": true
   },
   "outputs": [],
   "source": [
    "NJE30=read.csv(\"NJ_E_30/NJ_E_30_GC_cut.csv\", header=TRUE)"
   ]
  },
  {
   "cell_type": "code",
   "execution_count": 51,
   "metadata": {
    "collapsed": true
   },
   "outputs": [],
   "source": [
    "colnames(NJE30)=c(\"Scaffold\", \"GC\")"
   ]
  },
  {
   "cell_type": "code",
   "execution_count": 53,
   "metadata": {
    "collapsed": true
   },
   "outputs": [],
   "source": [
    "NJE30mean$Sample=c(\"NJE30\")"
   ]
  },
  {
   "cell_type": "code",
   "execution_count": 54,
   "metadata": {
    "collapsed": false
   },
   "outputs": [
    {
     "data": {
      "text/html": [
       "<table>\n",
       "<thead><tr><th scope=col>Scaffold</th><th scope=col>GC</th><th scope=col>Sample</th></tr></thead>\n",
       "<tbody>\n",
       "\t<tr><td>AAPE02055386</td><td>0.4874092   </td><td>NJE30       </td></tr>\n",
       "\t<tr><td>AAPE02055720</td><td>0.4395361   </td><td>NJE30       </td></tr>\n",
       "\t<tr><td>AAPE02055947</td><td>0.4543511   </td><td>NJE30       </td></tr>\n",
       "\t<tr><td>AAPE02056334</td><td>0.5005987   </td><td>NJE30       </td></tr>\n",
       "\t<tr><td>AAPE02056387</td><td>0.4744342   </td><td>NJE30       </td></tr>\n",
       "\t<tr><td>AAPE02056710</td><td>0.4526857   </td><td>NJE30       </td></tr>\n",
       "</tbody>\n",
       "</table>\n"
      ],
      "text/latex": [
       "\\begin{tabular}{r|lll}\n",
       " Scaffold & GC & Sample\\\\\n",
       "\\hline\n",
       "\t AAPE02055386 & 0.4874092    & NJE30       \\\\\n",
       "\t AAPE02055720 & 0.4395361    & NJE30       \\\\\n",
       "\t AAPE02055947 & 0.4543511    & NJE30       \\\\\n",
       "\t AAPE02056334 & 0.5005987    & NJE30       \\\\\n",
       "\t AAPE02056387 & 0.4744342    & NJE30       \\\\\n",
       "\t AAPE02056710 & 0.4526857    & NJE30       \\\\\n",
       "\\end{tabular}\n"
      ],
      "text/markdown": [
       "\n",
       "Scaffold | GC | Sample | \n",
       "|---|---|---|---|---|---|\n",
       "| AAPE02055386 | 0.4874092    | NJE30        | \n",
       "| AAPE02055720 | 0.4395361    | NJE30        | \n",
       "| AAPE02055947 | 0.4543511    | NJE30        | \n",
       "| AAPE02056334 | 0.5005987    | NJE30        | \n",
       "| AAPE02056387 | 0.4744342    | NJE30        | \n",
       "| AAPE02056710 | 0.4526857    | NJE30        | \n",
       "\n",
       "\n"
      ],
      "text/plain": [
       "  Scaffold     GC        Sample\n",
       "1 AAPE02055386 0.4874092 NJE30 \n",
       "2 AAPE02055720 0.4395361 NJE30 \n",
       "3 AAPE02055947 0.4543511 NJE30 \n",
       "4 AAPE02056334 0.5005987 NJE30 \n",
       "5 AAPE02056387 0.4744342 NJE30 \n",
       "6 AAPE02056710 0.4526857 NJE30 "
      ]
     },
     "metadata": {},
     "output_type": "display_data"
    }
   ],
   "source": [
    "head(NJE30mean)"
   ]
  },
  {
   "cell_type": "code",
   "execution_count": 52,
   "metadata": {
    "collapsed": true
   },
   "outputs": [],
   "source": [
    "NJE30mean=aggregate(GC ~ Scaffold, NJE30, mean)"
   ]
  },
  {
   "cell_type": "code",
   "execution_count": 55,
   "metadata": {
    "collapsed": false
   },
   "outputs": [],
   "source": [
    "NJU01=read.csv(\"NJ_U_01/NJ_U_01_GC_cut.csv\", header=TRUE)"
   ]
  },
  {
   "cell_type": "code",
   "execution_count": 56,
   "metadata": {
    "collapsed": true
   },
   "outputs": [],
   "source": [
    "colnames(NJU01)=c(\"Scaffold\", \"GC\")"
   ]
  },
  {
   "cell_type": "code",
   "execution_count": 59,
   "metadata": {
    "collapsed": false
   },
   "outputs": [],
   "source": [
    "NJU01mean$Sample=c(\"NJU01\")"
   ]
  },
  {
   "cell_type": "code",
   "execution_count": 60,
   "metadata": {
    "collapsed": false
   },
   "outputs": [
    {
     "data": {
      "text/html": [
       "<table>\n",
       "<thead><tr><th scope=col>Scaffold</th><th scope=col>GC</th><th scope=col>Sample</th></tr></thead>\n",
       "<tbody>\n",
       "\t<tr><td>AAPE02055386</td><td>0.4808934   </td><td>NJU01       </td></tr>\n",
       "\t<tr><td>AAPE02055720</td><td>0.4376366   </td><td>NJU01       </td></tr>\n",
       "\t<tr><td>AAPE02055947</td><td>0.4507308   </td><td>NJU01       </td></tr>\n",
       "\t<tr><td>AAPE02056334</td><td>0.5068441   </td><td>NJU01       </td></tr>\n",
       "\t<tr><td>AAPE02056387</td><td>0.4662973   </td><td>NJU01       </td></tr>\n",
       "\t<tr><td>AAPE02056710</td><td>0.4490952   </td><td>NJU01       </td></tr>\n",
       "</tbody>\n",
       "</table>\n"
      ],
      "text/latex": [
       "\\begin{tabular}{r|lll}\n",
       " Scaffold & GC & Sample\\\\\n",
       "\\hline\n",
       "\t AAPE02055386 & 0.4808934    & NJU01       \\\\\n",
       "\t AAPE02055720 & 0.4376366    & NJU01       \\\\\n",
       "\t AAPE02055947 & 0.4507308    & NJU01       \\\\\n",
       "\t AAPE02056334 & 0.5068441    & NJU01       \\\\\n",
       "\t AAPE02056387 & 0.4662973    & NJU01       \\\\\n",
       "\t AAPE02056710 & 0.4490952    & NJU01       \\\\\n",
       "\\end{tabular}\n"
      ],
      "text/markdown": [
       "\n",
       "Scaffold | GC | Sample | \n",
       "|---|---|---|---|---|---|\n",
       "| AAPE02055386 | 0.4808934    | NJU01        | \n",
       "| AAPE02055720 | 0.4376366    | NJU01        | \n",
       "| AAPE02055947 | 0.4507308    | NJU01        | \n",
       "| AAPE02056334 | 0.5068441    | NJU01        | \n",
       "| AAPE02056387 | 0.4662973    | NJU01        | \n",
       "| AAPE02056710 | 0.4490952    | NJU01        | \n",
       "\n",
       "\n"
      ],
      "text/plain": [
       "  Scaffold     GC        Sample\n",
       "1 AAPE02055386 0.4808934 NJU01 \n",
       "2 AAPE02055720 0.4376366 NJU01 \n",
       "3 AAPE02055947 0.4507308 NJU01 \n",
       "4 AAPE02056334 0.5068441 NJU01 \n",
       "5 AAPE02056387 0.4662973 NJU01 \n",
       "6 AAPE02056710 0.4490952 NJU01 "
      ]
     },
     "metadata": {},
     "output_type": "display_data"
    }
   ],
   "source": [
    "head(NJU01mean)"
   ]
  },
  {
   "cell_type": "code",
   "execution_count": 58,
   "metadata": {
    "collapsed": true
   },
   "outputs": [],
   "source": [
    "NJU01mean=aggregate(GC ~ Scaffold, NJU01, mean)"
   ]
  },
  {
   "cell_type": "code",
   "execution_count": 61,
   "metadata": {
    "collapsed": true
   },
   "outputs": [],
   "source": [
    "NJU02=read.csv(\"NJ_U_02/NJ_U_02_GC_cut.csv\", header=TRUE)"
   ]
  },
  {
   "cell_type": "code",
   "execution_count": 62,
   "metadata": {
    "collapsed": true
   },
   "outputs": [],
   "source": [
    "colnames(NJU02)=c(\"Scaffold\", \"GC\")"
   ]
  },
  {
   "cell_type": "code",
   "execution_count": 68,
   "metadata": {
    "collapsed": false
   },
   "outputs": [],
   "source": [
    "NJU02mean$Sample=c(\"NJU02\")"
   ]
  },
  {
   "cell_type": "code",
   "execution_count": 69,
   "metadata": {
    "collapsed": false
   },
   "outputs": [
    {
     "data": {
      "text/html": [
       "<table>\n",
       "<thead><tr><th scope=col>Scaffold</th><th scope=col>GC</th><th scope=col>Sample</th></tr></thead>\n",
       "<tbody>\n",
       "\t<tr><td>AAPE02055386</td><td>0.4935900   </td><td>NJU02       </td></tr>\n",
       "\t<tr><td>AAPE02055720</td><td>0.4409509   </td><td>NJU02       </td></tr>\n",
       "\t<tr><td>AAPE02055947</td><td>0.4592539   </td><td>NJU02       </td></tr>\n",
       "\t<tr><td>AAPE02056334</td><td>0.5093428   </td><td>NJU02       </td></tr>\n",
       "\t<tr><td>AAPE02056387</td><td>0.4802701   </td><td>NJU02       </td></tr>\n",
       "\t<tr><td>AAPE02056710</td><td>0.4652700   </td><td>NJU02       </td></tr>\n",
       "</tbody>\n",
       "</table>\n"
      ],
      "text/latex": [
       "\\begin{tabular}{r|lll}\n",
       " Scaffold & GC & Sample\\\\\n",
       "\\hline\n",
       "\t AAPE02055386 & 0.4935900    & NJU02       \\\\\n",
       "\t AAPE02055720 & 0.4409509    & NJU02       \\\\\n",
       "\t AAPE02055947 & 0.4592539    & NJU02       \\\\\n",
       "\t AAPE02056334 & 0.5093428    & NJU02       \\\\\n",
       "\t AAPE02056387 & 0.4802701    & NJU02       \\\\\n",
       "\t AAPE02056710 & 0.4652700    & NJU02       \\\\\n",
       "\\end{tabular}\n"
      ],
      "text/markdown": [
       "\n",
       "Scaffold | GC | Sample | \n",
       "|---|---|---|---|---|---|\n",
       "| AAPE02055386 | 0.4935900    | NJU02        | \n",
       "| AAPE02055720 | 0.4409509    | NJU02        | \n",
       "| AAPE02055947 | 0.4592539    | NJU02        | \n",
       "| AAPE02056334 | 0.5093428    | NJU02        | \n",
       "| AAPE02056387 | 0.4802701    | NJU02        | \n",
       "| AAPE02056710 | 0.4652700    | NJU02        | \n",
       "\n",
       "\n"
      ],
      "text/plain": [
       "  Scaffold     GC        Sample\n",
       "1 AAPE02055386 0.4935900 NJU02 \n",
       "2 AAPE02055720 0.4409509 NJU02 \n",
       "3 AAPE02055947 0.4592539 NJU02 \n",
       "4 AAPE02056334 0.5093428 NJU02 \n",
       "5 AAPE02056387 0.4802701 NJU02 \n",
       "6 AAPE02056710 0.4652700 NJU02 "
      ]
     },
     "metadata": {},
     "output_type": "display_data"
    }
   ],
   "source": [
    "head(NJU02mean)"
   ]
  },
  {
   "cell_type": "code",
   "execution_count": 64,
   "metadata": {
    "collapsed": true
   },
   "outputs": [],
   "source": [
    "NJU02mean=aggregate(GC ~ Scaffold, NJU02, mean)"
   ]
  },
  {
   "cell_type": "code",
   "execution_count": 70,
   "metadata": {
    "collapsed": true
   },
   "outputs": [],
   "source": [
    "NJU03=read.csv(\"NJ_U_03/NJ_U_03_GC_cut.csv\", header=TRUE)"
   ]
  },
  {
   "cell_type": "code",
   "execution_count": 71,
   "metadata": {
    "collapsed": true
   },
   "outputs": [],
   "source": [
    "colnames(NJU03)=c(\"Scaffold\", \"GC\")"
   ]
  },
  {
   "cell_type": "code",
   "execution_count": 73,
   "metadata": {
    "collapsed": true
   },
   "outputs": [],
   "source": [
    "NJU03mean$Sample=c(\"NJU03\")"
   ]
  },
  {
   "cell_type": "code",
   "execution_count": 74,
   "metadata": {
    "collapsed": false
   },
   "outputs": [
    {
     "data": {
      "text/html": [
       "<table>\n",
       "<thead><tr><th scope=col>Scaffold</th><th scope=col>GC</th><th scope=col>Sample</th></tr></thead>\n",
       "<tbody>\n",
       "\t<tr><td>AAPE02055386</td><td>0.4976759   </td><td>NJU03       </td></tr>\n",
       "\t<tr><td>AAPE02055720</td><td>0.4447386   </td><td>NJU03       </td></tr>\n",
       "\t<tr><td>AAPE02055947</td><td>0.4576436   </td><td>NJU03       </td></tr>\n",
       "\t<tr><td>AAPE02056334</td><td>0.5026793   </td><td>NJU03       </td></tr>\n",
       "\t<tr><td>AAPE02056387</td><td>0.4815459   </td><td>NJU03       </td></tr>\n",
       "\t<tr><td>AAPE02056710</td><td>0.4602658   </td><td>NJU03       </td></tr>\n",
       "</tbody>\n",
       "</table>\n"
      ],
      "text/latex": [
       "\\begin{tabular}{r|lll}\n",
       " Scaffold & GC & Sample\\\\\n",
       "\\hline\n",
       "\t AAPE02055386 & 0.4976759    & NJU03       \\\\\n",
       "\t AAPE02055720 & 0.4447386    & NJU03       \\\\\n",
       "\t AAPE02055947 & 0.4576436    & NJU03       \\\\\n",
       "\t AAPE02056334 & 0.5026793    & NJU03       \\\\\n",
       "\t AAPE02056387 & 0.4815459    & NJU03       \\\\\n",
       "\t AAPE02056710 & 0.4602658    & NJU03       \\\\\n",
       "\\end{tabular}\n"
      ],
      "text/markdown": [
       "\n",
       "Scaffold | GC | Sample | \n",
       "|---|---|---|---|---|---|\n",
       "| AAPE02055386 | 0.4976759    | NJU03        | \n",
       "| AAPE02055720 | 0.4447386    | NJU03        | \n",
       "| AAPE02055947 | 0.4576436    | NJU03        | \n",
       "| AAPE02056334 | 0.5026793    | NJU03        | \n",
       "| AAPE02056387 | 0.4815459    | NJU03        | \n",
       "| AAPE02056710 | 0.4602658    | NJU03        | \n",
       "\n",
       "\n"
      ],
      "text/plain": [
       "  Scaffold     GC        Sample\n",
       "1 AAPE02055386 0.4976759 NJU03 \n",
       "2 AAPE02055720 0.4447386 NJU03 \n",
       "3 AAPE02055947 0.4576436 NJU03 \n",
       "4 AAPE02056334 0.5026793 NJU03 \n",
       "5 AAPE02056387 0.4815459 NJU03 \n",
       "6 AAPE02056710 0.4602658 NJU03 "
      ]
     },
     "metadata": {},
     "output_type": "display_data"
    }
   ],
   "source": [
    "head(NJU03mean)"
   ]
  },
  {
   "cell_type": "code",
   "execution_count": 72,
   "metadata": {
    "collapsed": true
   },
   "outputs": [],
   "source": [
    "NJU03mean=aggregate(GC ~ Scaffold, NJU03, mean)"
   ]
  },
  {
   "cell_type": "code",
   "execution_count": 75,
   "metadata": {
    "collapsed": true
   },
   "outputs": [],
   "source": [
    "NJU04=read.csv(\"NJ_U_04/NJ_U_04_GC_cut.csv\", header=TRUE)"
   ]
  },
  {
   "cell_type": "code",
   "execution_count": 77,
   "metadata": {
    "collapsed": true
   },
   "outputs": [],
   "source": [
    "colnames(NJU04)=c(\"Scaffold\", \"GC\")"
   ]
  },
  {
   "cell_type": "code",
   "execution_count": 79,
   "metadata": {
    "collapsed": true
   },
   "outputs": [],
   "source": [
    "NJU04mean$Sample=c(\"NJU04\")"
   ]
  },
  {
   "cell_type": "code",
   "execution_count": 80,
   "metadata": {
    "collapsed": false
   },
   "outputs": [
    {
     "data": {
      "text/html": [
       "<table>\n",
       "<thead><tr><th scope=col>Scaffold</th><th scope=col>GC</th><th scope=col>Sample</th></tr></thead>\n",
       "<tbody>\n",
       "\t<tr><td>AAPE02055386</td><td>0.4916268   </td><td>NJU04       </td></tr>\n",
       "\t<tr><td>AAPE02055720</td><td>0.4507088   </td><td>NJU04       </td></tr>\n",
       "\t<tr><td>AAPE02055947</td><td>0.4308116   </td><td>NJU04       </td></tr>\n",
       "\t<tr><td>AAPE02056334</td><td>0.4899918   </td><td>NJU04       </td></tr>\n",
       "\t<tr><td>AAPE02056387</td><td>0.4456958   </td><td>NJU04       </td></tr>\n",
       "\t<tr><td>AAPE02056710</td><td>0.4723404   </td><td>NJU04       </td></tr>\n",
       "</tbody>\n",
       "</table>\n"
      ],
      "text/latex": [
       "\\begin{tabular}{r|lll}\n",
       " Scaffold & GC & Sample\\\\\n",
       "\\hline\n",
       "\t AAPE02055386 & 0.4916268    & NJU04       \\\\\n",
       "\t AAPE02055720 & 0.4507088    & NJU04       \\\\\n",
       "\t AAPE02055947 & 0.4308116    & NJU04       \\\\\n",
       "\t AAPE02056334 & 0.4899918    & NJU04       \\\\\n",
       "\t AAPE02056387 & 0.4456958    & NJU04       \\\\\n",
       "\t AAPE02056710 & 0.4723404    & NJU04       \\\\\n",
       "\\end{tabular}\n"
      ],
      "text/markdown": [
       "\n",
       "Scaffold | GC | Sample | \n",
       "|---|---|---|---|---|---|\n",
       "| AAPE02055386 | 0.4916268    | NJU04        | \n",
       "| AAPE02055720 | 0.4507088    | NJU04        | \n",
       "| AAPE02055947 | 0.4308116    | NJU04        | \n",
       "| AAPE02056334 | 0.4899918    | NJU04        | \n",
       "| AAPE02056387 | 0.4456958    | NJU04        | \n",
       "| AAPE02056710 | 0.4723404    | NJU04        | \n",
       "\n",
       "\n"
      ],
      "text/plain": [
       "  Scaffold     GC        Sample\n",
       "1 AAPE02055386 0.4916268 NJU04 \n",
       "2 AAPE02055720 0.4507088 NJU04 \n",
       "3 AAPE02055947 0.4308116 NJU04 \n",
       "4 AAPE02056334 0.4899918 NJU04 \n",
       "5 AAPE02056387 0.4456958 NJU04 \n",
       "6 AAPE02056710 0.4723404 NJU04 "
      ]
     },
     "metadata": {},
     "output_type": "display_data"
    }
   ],
   "source": [
    "head(NJU04mean)"
   ]
  },
  {
   "cell_type": "code",
   "execution_count": 78,
   "metadata": {
    "collapsed": false
   },
   "outputs": [],
   "source": [
    "NJU04mean=aggregate(GC ~ Scaffold, NJU04, mean)"
   ]
  },
  {
   "cell_type": "code",
   "execution_count": 81,
   "metadata": {
    "collapsed": true
   },
   "outputs": [],
   "source": [
    "NJU05=read.csv(\"NJ_U_05/NJ_U_05_GC_cut.csv\", header=TRUE)"
   ]
  },
  {
   "cell_type": "code",
   "execution_count": 82,
   "metadata": {
    "collapsed": true
   },
   "outputs": [],
   "source": [
    "colnames(NJU05)=c(\"Scaffold\", \"GC\")"
   ]
  },
  {
   "cell_type": "code",
   "execution_count": 86,
   "metadata": {
    "collapsed": true
   },
   "outputs": [],
   "source": [
    "NJU05mean$Sample=c(\"NJU05\")"
   ]
  },
  {
   "cell_type": "code",
   "execution_count": 87,
   "metadata": {
    "collapsed": false
   },
   "outputs": [
    {
     "data": {
      "text/html": [
       "<table>\n",
       "<thead><tr><th scope=col>Scaffold</th><th scope=col>GC</th><th scope=col>Sample</th></tr></thead>\n",
       "<tbody>\n",
       "\t<tr><td>AAPE02055386</td><td>0.4903392   </td><td>NJU05       </td></tr>\n",
       "\t<tr><td>AAPE02055720</td><td>0.4429008   </td><td>NJU05       </td></tr>\n",
       "\t<tr><td>AAPE02055947</td><td>0.4499150   </td><td>NJU05       </td></tr>\n",
       "\t<tr><td>AAPE02056334</td><td>0.5044213   </td><td>NJU05       </td></tr>\n",
       "\t<tr><td>AAPE02056387</td><td>0.4688860   </td><td>NJU05       </td></tr>\n",
       "\t<tr><td>AAPE02056710</td><td>0.4581182   </td><td>NJU05       </td></tr>\n",
       "</tbody>\n",
       "</table>\n"
      ],
      "text/latex": [
       "\\begin{tabular}{r|lll}\n",
       " Scaffold & GC & Sample\\\\\n",
       "\\hline\n",
       "\t AAPE02055386 & 0.4903392    & NJU05       \\\\\n",
       "\t AAPE02055720 & 0.4429008    & NJU05       \\\\\n",
       "\t AAPE02055947 & 0.4499150    & NJU05       \\\\\n",
       "\t AAPE02056334 & 0.5044213    & NJU05       \\\\\n",
       "\t AAPE02056387 & 0.4688860    & NJU05       \\\\\n",
       "\t AAPE02056710 & 0.4581182    & NJU05       \\\\\n",
       "\\end{tabular}\n"
      ],
      "text/markdown": [
       "\n",
       "Scaffold | GC | Sample | \n",
       "|---|---|---|---|---|---|\n",
       "| AAPE02055386 | 0.4903392    | NJU05        | \n",
       "| AAPE02055720 | 0.4429008    | NJU05        | \n",
       "| AAPE02055947 | 0.4499150    | NJU05        | \n",
       "| AAPE02056334 | 0.5044213    | NJU05        | \n",
       "| AAPE02056387 | 0.4688860    | NJU05        | \n",
       "| AAPE02056710 | 0.4581182    | NJU05        | \n",
       "\n",
       "\n"
      ],
      "text/plain": [
       "  Scaffold     GC        Sample\n",
       "1 AAPE02055386 0.4903392 NJU05 \n",
       "2 AAPE02055720 0.4429008 NJU05 \n",
       "3 AAPE02055947 0.4499150 NJU05 \n",
       "4 AAPE02056334 0.5044213 NJU05 \n",
       "5 AAPE02056387 0.4688860 NJU05 \n",
       "6 AAPE02056710 0.4581182 NJU05 "
      ]
     },
     "metadata": {},
     "output_type": "display_data"
    }
   ],
   "source": [
    "head(NJU05mean)"
   ]
  },
  {
   "cell_type": "code",
   "execution_count": 85,
   "metadata": {
    "collapsed": true
   },
   "outputs": [],
   "source": [
    "NJU05mean=aggregate(GC ~ Scaffold, NJU05, mean)"
   ]
  },
  {
   "cell_type": "code",
   "execution_count": 88,
   "metadata": {
    "collapsed": true
   },
   "outputs": [],
   "source": [
    "NJU06=read.csv(\"NJ_U_06/NJ_U_06_GC_cut.csv\", header=TRUE)"
   ]
  },
  {
   "cell_type": "code",
   "execution_count": 91,
   "metadata": {
    "collapsed": true
   },
   "outputs": [],
   "source": [
    "colnames(NJU06)=c(\"Scaffold\", \"GC\")"
   ]
  },
  {
   "cell_type": "code",
   "execution_count": 93,
   "metadata": {
    "collapsed": true
   },
   "outputs": [],
   "source": [
    "NJU06mean$Sample=c(\"NJU06\")"
   ]
  },
  {
   "cell_type": "code",
   "execution_count": 94,
   "metadata": {
    "collapsed": false
   },
   "outputs": [
    {
     "data": {
      "text/html": [
       "<table>\n",
       "<thead><tr><th scope=col>Scaffold</th><th scope=col>GC</th><th scope=col>Sample</th></tr></thead>\n",
       "<tbody>\n",
       "\t<tr><td>AAPE02055386</td><td>0.4851718   </td><td>NJU06       </td></tr>\n",
       "\t<tr><td>AAPE02055720</td><td>0.4420829   </td><td>NJU06       </td></tr>\n",
       "\t<tr><td>AAPE02055947</td><td>0.4530031   </td><td>NJU06       </td></tr>\n",
       "\t<tr><td>AAPE02056334</td><td>0.4930608   </td><td>NJU06       </td></tr>\n",
       "\t<tr><td>AAPE02056387</td><td>0.4685760   </td><td>NJU06       </td></tr>\n",
       "\t<tr><td>AAPE02056710</td><td>0.4475891   </td><td>NJU06       </td></tr>\n",
       "</tbody>\n",
       "</table>\n"
      ],
      "text/latex": [
       "\\begin{tabular}{r|lll}\n",
       " Scaffold & GC & Sample\\\\\n",
       "\\hline\n",
       "\t AAPE02055386 & 0.4851718    & NJU06       \\\\\n",
       "\t AAPE02055720 & 0.4420829    & NJU06       \\\\\n",
       "\t AAPE02055947 & 0.4530031    & NJU06       \\\\\n",
       "\t AAPE02056334 & 0.4930608    & NJU06       \\\\\n",
       "\t AAPE02056387 & 0.4685760    & NJU06       \\\\\n",
       "\t AAPE02056710 & 0.4475891    & NJU06       \\\\\n",
       "\\end{tabular}\n"
      ],
      "text/markdown": [
       "\n",
       "Scaffold | GC | Sample | \n",
       "|---|---|---|---|---|---|\n",
       "| AAPE02055386 | 0.4851718    | NJU06        | \n",
       "| AAPE02055720 | 0.4420829    | NJU06        | \n",
       "| AAPE02055947 | 0.4530031    | NJU06        | \n",
       "| AAPE02056334 | 0.4930608    | NJU06        | \n",
       "| AAPE02056387 | 0.4685760    | NJU06        | \n",
       "| AAPE02056710 | 0.4475891    | NJU06        | \n",
       "\n",
       "\n"
      ],
      "text/plain": [
       "  Scaffold     GC        Sample\n",
       "1 AAPE02055386 0.4851718 NJU06 \n",
       "2 AAPE02055720 0.4420829 NJU06 \n",
       "3 AAPE02055947 0.4530031 NJU06 \n",
       "4 AAPE02056334 0.4930608 NJU06 \n",
       "5 AAPE02056387 0.4685760 NJU06 \n",
       "6 AAPE02056710 0.4475891 NJU06 "
      ]
     },
     "metadata": {},
     "output_type": "display_data"
    }
   ],
   "source": [
    "head(NJU06mean)"
   ]
  },
  {
   "cell_type": "code",
   "execution_count": 92,
   "metadata": {
    "collapsed": true
   },
   "outputs": [],
   "source": [
    "NJU06mean=aggregate(GC ~ Scaffold, NJU06, mean)"
   ]
  },
  {
   "cell_type": "code",
   "execution_count": 95,
   "metadata": {
    "collapsed": true
   },
   "outputs": [],
   "source": [
    "NJU07=read.csv(\"NJ_U_07/NJ_U_07_GC_cut.csv\", header=TRUE)"
   ]
  },
  {
   "cell_type": "code",
   "execution_count": 96,
   "metadata": {
    "collapsed": true
   },
   "outputs": [],
   "source": [
    "colnames(NJU07)=c(\"Scaffold\", \"GC\")"
   ]
  },
  {
   "cell_type": "code",
   "execution_count": 98,
   "metadata": {
    "collapsed": true
   },
   "outputs": [],
   "source": [
    "NJU07mean$Sample=c(\"NJU07\")"
   ]
  },
  {
   "cell_type": "code",
   "execution_count": 99,
   "metadata": {
    "collapsed": false
   },
   "outputs": [
    {
     "data": {
      "text/html": [
       "<table>\n",
       "<thead><tr><th scope=col>Scaffold</th><th scope=col>GC</th><th scope=col>Sample</th></tr></thead>\n",
       "<tbody>\n",
       "\t<tr><td>AAPE02055386</td><td>0.4946251   </td><td>NJU07       </td></tr>\n",
       "\t<tr><td>AAPE02055720</td><td>0.4436437   </td><td>NJU07       </td></tr>\n",
       "\t<tr><td>AAPE02055947</td><td>0.4563941   </td><td>NJU07       </td></tr>\n",
       "\t<tr><td>AAPE02056334</td><td>0.5095068   </td><td>NJU07       </td></tr>\n",
       "\t<tr><td>AAPE02056387</td><td>0.4791521   </td><td>NJU07       </td></tr>\n",
       "\t<tr><td>AAPE02056710</td><td>0.4572074   </td><td>NJU07       </td></tr>\n",
       "</tbody>\n",
       "</table>\n"
      ],
      "text/latex": [
       "\\begin{tabular}{r|lll}\n",
       " Scaffold & GC & Sample\\\\\n",
       "\\hline\n",
       "\t AAPE02055386 & 0.4946251    & NJU07       \\\\\n",
       "\t AAPE02055720 & 0.4436437    & NJU07       \\\\\n",
       "\t AAPE02055947 & 0.4563941    & NJU07       \\\\\n",
       "\t AAPE02056334 & 0.5095068    & NJU07       \\\\\n",
       "\t AAPE02056387 & 0.4791521    & NJU07       \\\\\n",
       "\t AAPE02056710 & 0.4572074    & NJU07       \\\\\n",
       "\\end{tabular}\n"
      ],
      "text/markdown": [
       "\n",
       "Scaffold | GC | Sample | \n",
       "|---|---|---|---|---|---|\n",
       "| AAPE02055386 | 0.4946251    | NJU07        | \n",
       "| AAPE02055720 | 0.4436437    | NJU07        | \n",
       "| AAPE02055947 | 0.4563941    | NJU07        | \n",
       "| AAPE02056334 | 0.5095068    | NJU07        | \n",
       "| AAPE02056387 | 0.4791521    | NJU07        | \n",
       "| AAPE02056710 | 0.4572074    | NJU07        | \n",
       "\n",
       "\n"
      ],
      "text/plain": [
       "  Scaffold     GC        Sample\n",
       "1 AAPE02055386 0.4946251 NJU07 \n",
       "2 AAPE02055720 0.4436437 NJU07 \n",
       "3 AAPE02055947 0.4563941 NJU07 \n",
       "4 AAPE02056334 0.5095068 NJU07 \n",
       "5 AAPE02056387 0.4791521 NJU07 \n",
       "6 AAPE02056710 0.4572074 NJU07 "
      ]
     },
     "metadata": {},
     "output_type": "display_data"
    }
   ],
   "source": [
    "head(NJU07mean)"
   ]
  },
  {
   "cell_type": "code",
   "execution_count": 97,
   "metadata": {
    "collapsed": true
   },
   "outputs": [],
   "source": [
    "NJU07mean=aggregate(GC ~ Scaffold, NJU07, mean)"
   ]
  },
  {
   "cell_type": "code",
   "execution_count": 100,
   "metadata": {
    "collapsed": true
   },
   "outputs": [],
   "source": [
    "NJU08=read.csv(\"NJ_U_08/NJ_U_08_GC_cut.csv\", header=TRUE)"
   ]
  },
  {
   "cell_type": "code",
   "execution_count": 101,
   "metadata": {
    "collapsed": true
   },
   "outputs": [],
   "source": [
    "colnames(NJU08)=c(\"Scaffold\", \"GC\")"
   ]
  },
  {
   "cell_type": "code",
   "execution_count": 104,
   "metadata": {
    "collapsed": true
   },
   "outputs": [],
   "source": [
    "NJU08mean$Sample=c(\"NJU08\")"
   ]
  },
  {
   "cell_type": "code",
   "execution_count": 105,
   "metadata": {
    "collapsed": false
   },
   "outputs": [
    {
     "data": {
      "text/html": [
       "<table>\n",
       "<thead><tr><th scope=col>Scaffold</th><th scope=col>GC</th><th scope=col>Sample</th></tr></thead>\n",
       "<tbody>\n",
       "\t<tr><td>AAPE02055386</td><td>0.4902015   </td><td>NJU08       </td></tr>\n",
       "\t<tr><td>AAPE02055720</td><td>0.4447448   </td><td>NJU08       </td></tr>\n",
       "\t<tr><td>AAPE02055947</td><td>0.4619695   </td><td>NJU08       </td></tr>\n",
       "\t<tr><td>AAPE02056334</td><td>0.5067742   </td><td>NJU08       </td></tr>\n",
       "\t<tr><td>AAPE02056387</td><td>0.4805688   </td><td>NJU08       </td></tr>\n",
       "\t<tr><td>AAPE02056710</td><td>0.4611605   </td><td>NJU08       </td></tr>\n",
       "</tbody>\n",
       "</table>\n"
      ],
      "text/latex": [
       "\\begin{tabular}{r|lll}\n",
       " Scaffold & GC & Sample\\\\\n",
       "\\hline\n",
       "\t AAPE02055386 & 0.4902015    & NJU08       \\\\\n",
       "\t AAPE02055720 & 0.4447448    & NJU08       \\\\\n",
       "\t AAPE02055947 & 0.4619695    & NJU08       \\\\\n",
       "\t AAPE02056334 & 0.5067742    & NJU08       \\\\\n",
       "\t AAPE02056387 & 0.4805688    & NJU08       \\\\\n",
       "\t AAPE02056710 & 0.4611605    & NJU08       \\\\\n",
       "\\end{tabular}\n"
      ],
      "text/markdown": [
       "\n",
       "Scaffold | GC | Sample | \n",
       "|---|---|---|---|---|---|\n",
       "| AAPE02055386 | 0.4902015    | NJU08        | \n",
       "| AAPE02055720 | 0.4447448    | NJU08        | \n",
       "| AAPE02055947 | 0.4619695    | NJU08        | \n",
       "| AAPE02056334 | 0.5067742    | NJU08        | \n",
       "| AAPE02056387 | 0.4805688    | NJU08        | \n",
       "| AAPE02056710 | 0.4611605    | NJU08        | \n",
       "\n",
       "\n"
      ],
      "text/plain": [
       "  Scaffold     GC        Sample\n",
       "1 AAPE02055386 0.4902015 NJU08 \n",
       "2 AAPE02055720 0.4447448 NJU08 \n",
       "3 AAPE02055947 0.4619695 NJU08 \n",
       "4 AAPE02056334 0.5067742 NJU08 \n",
       "5 AAPE02056387 0.4805688 NJU08 \n",
       "6 AAPE02056710 0.4611605 NJU08 "
      ]
     },
     "metadata": {},
     "output_type": "display_data"
    }
   ],
   "source": [
    "head(NJU08mean)"
   ]
  },
  {
   "cell_type": "code",
   "execution_count": 103,
   "metadata": {
    "collapsed": true
   },
   "outputs": [],
   "source": [
    "NJU08mean=aggregate(GC ~ Scaffold, NJU08, mean)"
   ]
  },
  {
   "cell_type": "code",
   "execution_count": 106,
   "metadata": {
    "collapsed": true
   },
   "outputs": [],
   "source": [
    "NJU09=read.csv(\"NJ_U_09/NJ_U_09_GC_cut.csv\", header=TRUE)"
   ]
  },
  {
   "cell_type": "code",
   "execution_count": 107,
   "metadata": {
    "collapsed": true
   },
   "outputs": [],
   "source": [
    "colnames(NJU09)=c(\"Scaffold\", \"GC\")"
   ]
  },
  {
   "cell_type": "code",
   "execution_count": 109,
   "metadata": {
    "collapsed": true
   },
   "outputs": [],
   "source": [
    "NJU09mean$Sample=c(\"NJU09\")"
   ]
  },
  {
   "cell_type": "code",
   "execution_count": 110,
   "metadata": {
    "collapsed": false
   },
   "outputs": [
    {
     "data": {
      "text/html": [
       "<table>\n",
       "<thead><tr><th scope=col>Scaffold</th><th scope=col>GC</th><th scope=col>Sample</th></tr></thead>\n",
       "<tbody>\n",
       "\t<tr><td>AAPE02055386</td><td>0.4841630   </td><td>NJU09       </td></tr>\n",
       "\t<tr><td>AAPE02055720</td><td>0.4306191   </td><td>NJU09       </td></tr>\n",
       "\t<tr><td>AAPE02055947</td><td>0.4528317   </td><td>NJU09       </td></tr>\n",
       "\t<tr><td>AAPE02056334</td><td>0.4985472   </td><td>NJU09       </td></tr>\n",
       "\t<tr><td>AAPE02056387</td><td>0.4705497   </td><td>NJU09       </td></tr>\n",
       "\t<tr><td>AAPE02056710</td><td>0.4419863   </td><td>NJU09       </td></tr>\n",
       "</tbody>\n",
       "</table>\n"
      ],
      "text/latex": [
       "\\begin{tabular}{r|lll}\n",
       " Scaffold & GC & Sample\\\\\n",
       "\\hline\n",
       "\t AAPE02055386 & 0.4841630    & NJU09       \\\\\n",
       "\t AAPE02055720 & 0.4306191    & NJU09       \\\\\n",
       "\t AAPE02055947 & 0.4528317    & NJU09       \\\\\n",
       "\t AAPE02056334 & 0.4985472    & NJU09       \\\\\n",
       "\t AAPE02056387 & 0.4705497    & NJU09       \\\\\n",
       "\t AAPE02056710 & 0.4419863    & NJU09       \\\\\n",
       "\\end{tabular}\n"
      ],
      "text/markdown": [
       "\n",
       "Scaffold | GC | Sample | \n",
       "|---|---|---|---|---|---|\n",
       "| AAPE02055386 | 0.4841630    | NJU09        | \n",
       "| AAPE02055720 | 0.4306191    | NJU09        | \n",
       "| AAPE02055947 | 0.4528317    | NJU09        | \n",
       "| AAPE02056334 | 0.4985472    | NJU09        | \n",
       "| AAPE02056387 | 0.4705497    | NJU09        | \n",
       "| AAPE02056710 | 0.4419863    | NJU09        | \n",
       "\n",
       "\n"
      ],
      "text/plain": [
       "  Scaffold     GC        Sample\n",
       "1 AAPE02055386 0.4841630 NJU09 \n",
       "2 AAPE02055720 0.4306191 NJU09 \n",
       "3 AAPE02055947 0.4528317 NJU09 \n",
       "4 AAPE02056334 0.4985472 NJU09 \n",
       "5 AAPE02056387 0.4705497 NJU09 \n",
       "6 AAPE02056710 0.4419863 NJU09 "
      ]
     },
     "metadata": {},
     "output_type": "display_data"
    }
   ],
   "source": [
    "head(NJU09mean)"
   ]
  },
  {
   "cell_type": "code",
   "execution_count": 108,
   "metadata": {
    "collapsed": true
   },
   "outputs": [],
   "source": [
    "NJU09mean=aggregate(GC ~ Scaffold, NJU09, mean)"
   ]
  },
  {
   "cell_type": "code",
   "execution_count": 111,
   "metadata": {
    "collapsed": true
   },
   "outputs": [],
   "source": [
    "NJU10=read.csv(\"NJ_U_10/NJ_U_10_GC_cut.csv\", header=TRUE)"
   ]
  },
  {
   "cell_type": "code",
   "execution_count": 112,
   "metadata": {
    "collapsed": true
   },
   "outputs": [],
   "source": [
    "colnames(NJU10)=c(\"Scaffold\", \"GC\")"
   ]
  },
  {
   "cell_type": "code",
   "execution_count": 114,
   "metadata": {
    "collapsed": true
   },
   "outputs": [],
   "source": [
    "NJU10mean$Sample=c(\"NJU10\")"
   ]
  },
  {
   "cell_type": "code",
   "execution_count": 115,
   "metadata": {
    "collapsed": false
   },
   "outputs": [
    {
     "data": {
      "text/html": [
       "<table>\n",
       "<thead><tr><th scope=col>Scaffold</th><th scope=col>GC</th><th scope=col>Sample</th></tr></thead>\n",
       "<tbody>\n",
       "\t<tr><td>AAPE02055386</td><td>0.4987281   </td><td>NJU10       </td></tr>\n",
       "\t<tr><td>AAPE02055720</td><td>0.4478583   </td><td>NJU10       </td></tr>\n",
       "\t<tr><td>AAPE02055947</td><td>0.4591714   </td><td>NJU10       </td></tr>\n",
       "\t<tr><td>AAPE02056334</td><td>0.4962535   </td><td>NJU10       </td></tr>\n",
       "\t<tr><td>AAPE02056387</td><td>0.4739223   </td><td>NJU10       </td></tr>\n",
       "\t<tr><td>AAPE02056710</td><td>0.4623489   </td><td>NJU10       </td></tr>\n",
       "</tbody>\n",
       "</table>\n"
      ],
      "text/latex": [
       "\\begin{tabular}{r|lll}\n",
       " Scaffold & GC & Sample\\\\\n",
       "\\hline\n",
       "\t AAPE02055386 & 0.4987281    & NJU10       \\\\\n",
       "\t AAPE02055720 & 0.4478583    & NJU10       \\\\\n",
       "\t AAPE02055947 & 0.4591714    & NJU10       \\\\\n",
       "\t AAPE02056334 & 0.4962535    & NJU10       \\\\\n",
       "\t AAPE02056387 & 0.4739223    & NJU10       \\\\\n",
       "\t AAPE02056710 & 0.4623489    & NJU10       \\\\\n",
       "\\end{tabular}\n"
      ],
      "text/markdown": [
       "\n",
       "Scaffold | GC | Sample | \n",
       "|---|---|---|---|---|---|\n",
       "| AAPE02055386 | 0.4987281    | NJU10        | \n",
       "| AAPE02055720 | 0.4478583    | NJU10        | \n",
       "| AAPE02055947 | 0.4591714    | NJU10        | \n",
       "| AAPE02056334 | 0.4962535    | NJU10        | \n",
       "| AAPE02056387 | 0.4739223    | NJU10        | \n",
       "| AAPE02056710 | 0.4623489    | NJU10        | \n",
       "\n",
       "\n"
      ],
      "text/plain": [
       "  Scaffold     GC        Sample\n",
       "1 AAPE02055386 0.4987281 NJU10 \n",
       "2 AAPE02055720 0.4478583 NJU10 \n",
       "3 AAPE02055947 0.4591714 NJU10 \n",
       "4 AAPE02056334 0.4962535 NJU10 \n",
       "5 AAPE02056387 0.4739223 NJU10 \n",
       "6 AAPE02056710 0.4623489 NJU10 "
      ]
     },
     "metadata": {},
     "output_type": "display_data"
    }
   ],
   "source": [
    "head(NJU10mean)"
   ]
  },
  {
   "cell_type": "code",
   "execution_count": 113,
   "metadata": {
    "collapsed": true
   },
   "outputs": [],
   "source": [
    "NJU10mean=aggregate(GC ~ Scaffold, NJU10, mean)"
   ]
  },
  {
   "cell_type": "code",
   "execution_count": 116,
   "metadata": {
    "collapsed": true
   },
   "outputs": [],
   "source": [
    "NJU11=read.csv(\"NJ_U_11/NJ_U_11_GC_cut.csv\", header=TRUE)"
   ]
  },
  {
   "cell_type": "code",
   "execution_count": 117,
   "metadata": {
    "collapsed": true
   },
   "outputs": [],
   "source": [
    "colnames(NJU11)=c(\"Scaffold\", \"GC\")"
   ]
  },
  {
   "cell_type": "code",
   "execution_count": 119,
   "metadata": {
    "collapsed": true
   },
   "outputs": [],
   "source": [
    "NJU11mean$Sample=c(\"NJU11\")"
   ]
  },
  {
   "cell_type": "code",
   "execution_count": 120,
   "metadata": {
    "collapsed": false
   },
   "outputs": [
    {
     "data": {
      "text/html": [
       "<table>\n",
       "<thead><tr><th scope=col>Scaffold</th><th scope=col>GC</th><th scope=col>Sample</th></tr></thead>\n",
       "<tbody>\n",
       "\t<tr><td>AAPE02055386</td><td>0.4923738   </td><td>NJU11       </td></tr>\n",
       "\t<tr><td>AAPE02055720</td><td>0.4467114   </td><td>NJU11       </td></tr>\n",
       "\t<tr><td>AAPE02055947</td><td>0.4599985   </td><td>NJU11       </td></tr>\n",
       "\t<tr><td>AAPE02056334</td><td>0.5038043   </td><td>NJU11       </td></tr>\n",
       "\t<tr><td>AAPE02056387</td><td>0.4727978   </td><td>NJU11       </td></tr>\n",
       "\t<tr><td>AAPE02056710</td><td>0.4593194   </td><td>NJU11       </td></tr>\n",
       "</tbody>\n",
       "</table>\n"
      ],
      "text/latex": [
       "\\begin{tabular}{r|lll}\n",
       " Scaffold & GC & Sample\\\\\n",
       "\\hline\n",
       "\t AAPE02055386 & 0.4923738    & NJU11       \\\\\n",
       "\t AAPE02055720 & 0.4467114    & NJU11       \\\\\n",
       "\t AAPE02055947 & 0.4599985    & NJU11       \\\\\n",
       "\t AAPE02056334 & 0.5038043    & NJU11       \\\\\n",
       "\t AAPE02056387 & 0.4727978    & NJU11       \\\\\n",
       "\t AAPE02056710 & 0.4593194    & NJU11       \\\\\n",
       "\\end{tabular}\n"
      ],
      "text/markdown": [
       "\n",
       "Scaffold | GC | Sample | \n",
       "|---|---|---|---|---|---|\n",
       "| AAPE02055386 | 0.4923738    | NJU11        | \n",
       "| AAPE02055720 | 0.4467114    | NJU11        | \n",
       "| AAPE02055947 | 0.4599985    | NJU11        | \n",
       "| AAPE02056334 | 0.5038043    | NJU11        | \n",
       "| AAPE02056387 | 0.4727978    | NJU11        | \n",
       "| AAPE02056710 | 0.4593194    | NJU11        | \n",
       "\n",
       "\n"
      ],
      "text/plain": [
       "  Scaffold     GC        Sample\n",
       "1 AAPE02055386 0.4923738 NJU11 \n",
       "2 AAPE02055720 0.4467114 NJU11 \n",
       "3 AAPE02055947 0.4599985 NJU11 \n",
       "4 AAPE02056334 0.5038043 NJU11 \n",
       "5 AAPE02056387 0.4727978 NJU11 \n",
       "6 AAPE02056710 0.4593194 NJU11 "
      ]
     },
     "metadata": {},
     "output_type": "display_data"
    }
   ],
   "source": [
    "head(NJU11mean)"
   ]
  },
  {
   "cell_type": "code",
   "execution_count": 118,
   "metadata": {
    "collapsed": true
   },
   "outputs": [],
   "source": [
    "NJU11mean=aggregate(GC ~ Scaffold, NJU11, mean)"
   ]
  },
  {
   "cell_type": "code",
   "execution_count": 121,
   "metadata": {
    "collapsed": true
   },
   "outputs": [],
   "source": [
    "NJU12=read.csv(\"NJ_U_12/NJ_U_12_GC_cut.csv\", header=TRUE)"
   ]
  },
  {
   "cell_type": "code",
   "execution_count": 122,
   "metadata": {
    "collapsed": true
   },
   "outputs": [],
   "source": [
    "colnames(NJU12)=c(\"Scaffold\", \"GC\")"
   ]
  },
  {
   "cell_type": "code",
   "execution_count": 124,
   "metadata": {
    "collapsed": false
   },
   "outputs": [],
   "source": [
    "NJU12mean$Sample=c(\"NJU12\")"
   ]
  },
  {
   "cell_type": "code",
   "execution_count": 125,
   "metadata": {
    "collapsed": false
   },
   "outputs": [
    {
     "data": {
      "text/html": [
       "<table>\n",
       "<thead><tr><th scope=col>Scaffold</th><th scope=col>GC</th><th scope=col>Sample</th></tr></thead>\n",
       "<tbody>\n",
       "\t<tr><td>AAPE02055386</td><td>0.4960128   </td><td>NJU12       </td></tr>\n",
       "\t<tr><td>AAPE02055720</td><td>0.4466933   </td><td>NJU12       </td></tr>\n",
       "\t<tr><td>AAPE02055947</td><td>0.4524132   </td><td>NJU12       </td></tr>\n",
       "\t<tr><td>AAPE02056334</td><td>0.5001017   </td><td>NJU12       </td></tr>\n",
       "\t<tr><td>AAPE02056387</td><td>0.4825442   </td><td>NJU12       </td></tr>\n",
       "\t<tr><td>AAPE02056710</td><td>0.4619734   </td><td>NJU12       </td></tr>\n",
       "</tbody>\n",
       "</table>\n"
      ],
      "text/latex": [
       "\\begin{tabular}{r|lll}\n",
       " Scaffold & GC & Sample\\\\\n",
       "\\hline\n",
       "\t AAPE02055386 & 0.4960128    & NJU12       \\\\\n",
       "\t AAPE02055720 & 0.4466933    & NJU12       \\\\\n",
       "\t AAPE02055947 & 0.4524132    & NJU12       \\\\\n",
       "\t AAPE02056334 & 0.5001017    & NJU12       \\\\\n",
       "\t AAPE02056387 & 0.4825442    & NJU12       \\\\\n",
       "\t AAPE02056710 & 0.4619734    & NJU12       \\\\\n",
       "\\end{tabular}\n"
      ],
      "text/markdown": [
       "\n",
       "Scaffold | GC | Sample | \n",
       "|---|---|---|---|---|---|\n",
       "| AAPE02055386 | 0.4960128    | NJU12        | \n",
       "| AAPE02055720 | 0.4466933    | NJU12        | \n",
       "| AAPE02055947 | 0.4524132    | NJU12        | \n",
       "| AAPE02056334 | 0.5001017    | NJU12        | \n",
       "| AAPE02056387 | 0.4825442    | NJU12        | \n",
       "| AAPE02056710 | 0.4619734    | NJU12        | \n",
       "\n",
       "\n"
      ],
      "text/plain": [
       "  Scaffold     GC        Sample\n",
       "1 AAPE02055386 0.4960128 NJU12 \n",
       "2 AAPE02055720 0.4466933 NJU12 \n",
       "3 AAPE02055947 0.4524132 NJU12 \n",
       "4 AAPE02056334 0.5001017 NJU12 \n",
       "5 AAPE02056387 0.4825442 NJU12 \n",
       "6 AAPE02056710 0.4619734 NJU12 "
      ]
     },
     "metadata": {},
     "output_type": "display_data"
    }
   ],
   "source": [
    "head(NJU12mean)"
   ]
  },
  {
   "cell_type": "code",
   "execution_count": 123,
   "metadata": {
    "collapsed": true
   },
   "outputs": [],
   "source": [
    "NJU12mean=aggregate(GC ~ Scaffold, NJU12, mean)"
   ]
  },
  {
   "cell_type": "code",
   "execution_count": 126,
   "metadata": {
    "collapsed": true
   },
   "outputs": [],
   "source": [
    "NJU15=read.csv(\"NJ_U_15/NJ_U_15_GC_cut.csv\", header=TRUE)"
   ]
  },
  {
   "cell_type": "code",
   "execution_count": 127,
   "metadata": {
    "collapsed": true
   },
   "outputs": [],
   "source": [
    "colnames(NJU15)=c(\"Scaffold\", \"GC\")"
   ]
  },
  {
   "cell_type": "code",
   "execution_count": 129,
   "metadata": {
    "collapsed": true
   },
   "outputs": [],
   "source": [
    "NJU15mean$Sample=c(\"NJU15\")"
   ]
  },
  {
   "cell_type": "code",
   "execution_count": 130,
   "metadata": {
    "collapsed": false
   },
   "outputs": [
    {
     "data": {
      "text/html": [
       "<table>\n",
       "<thead><tr><th scope=col>Scaffold</th><th scope=col>GC</th><th scope=col>Sample</th></tr></thead>\n",
       "<tbody>\n",
       "\t<tr><td>AAPE02055386</td><td>0.4807557   </td><td>NJU15       </td></tr>\n",
       "\t<tr><td>AAPE02055720</td><td>0.4440074   </td><td>NJU15       </td></tr>\n",
       "\t<tr><td>AAPE02055947</td><td>0.4579149   </td><td>NJU15       </td></tr>\n",
       "\t<tr><td>AAPE02056334</td><td>0.4989529   </td><td>NJU15       </td></tr>\n",
       "\t<tr><td>AAPE02056387</td><td>0.4726365   </td><td>NJU15       </td></tr>\n",
       "\t<tr><td>AAPE02056710</td><td>0.4592775   </td><td>NJU15       </td></tr>\n",
       "</tbody>\n",
       "</table>\n"
      ],
      "text/latex": [
       "\\begin{tabular}{r|lll}\n",
       " Scaffold & GC & Sample\\\\\n",
       "\\hline\n",
       "\t AAPE02055386 & 0.4807557    & NJU15       \\\\\n",
       "\t AAPE02055720 & 0.4440074    & NJU15       \\\\\n",
       "\t AAPE02055947 & 0.4579149    & NJU15       \\\\\n",
       "\t AAPE02056334 & 0.4989529    & NJU15       \\\\\n",
       "\t AAPE02056387 & 0.4726365    & NJU15       \\\\\n",
       "\t AAPE02056710 & 0.4592775    & NJU15       \\\\\n",
       "\\end{tabular}\n"
      ],
      "text/markdown": [
       "\n",
       "Scaffold | GC | Sample | \n",
       "|---|---|---|---|---|---|\n",
       "| AAPE02055386 | 0.4807557    | NJU15        | \n",
       "| AAPE02055720 | 0.4440074    | NJU15        | \n",
       "| AAPE02055947 | 0.4579149    | NJU15        | \n",
       "| AAPE02056334 | 0.4989529    | NJU15        | \n",
       "| AAPE02056387 | 0.4726365    | NJU15        | \n",
       "| AAPE02056710 | 0.4592775    | NJU15        | \n",
       "\n",
       "\n"
      ],
      "text/plain": [
       "  Scaffold     GC        Sample\n",
       "1 AAPE02055386 0.4807557 NJU15 \n",
       "2 AAPE02055720 0.4440074 NJU15 \n",
       "3 AAPE02055947 0.4579149 NJU15 \n",
       "4 AAPE02056334 0.4989529 NJU15 \n",
       "5 AAPE02056387 0.4726365 NJU15 \n",
       "6 AAPE02056710 0.4592775 NJU15 "
      ]
     },
     "metadata": {},
     "output_type": "display_data"
    }
   ],
   "source": [
    "head(NJU15mean)"
   ]
  },
  {
   "cell_type": "code",
   "execution_count": 128,
   "metadata": {
    "collapsed": true
   },
   "outputs": [],
   "source": [
    "NJU15mean=aggregate(GC ~ Scaffold, NJU15, mean)"
   ]
  },
  {
   "cell_type": "code",
   "execution_count": 131,
   "metadata": {
    "collapsed": true
   },
   "outputs": [],
   "source": [
    "NJU16=read.csv(\"NJ_U_16/NJ_U_16_GC_cut.csv\", header=TRUE)"
   ]
  },
  {
   "cell_type": "code",
   "execution_count": 132,
   "metadata": {
    "collapsed": true
   },
   "outputs": [],
   "source": [
    "colnames(NJU16)=c(\"Scaffold\", \"GC\")"
   ]
  },
  {
   "cell_type": "code",
   "execution_count": 134,
   "metadata": {
    "collapsed": true
   },
   "outputs": [],
   "source": [
    "NJU16mean$Sample=c(\"NJU16\")"
   ]
  },
  {
   "cell_type": "code",
   "execution_count": 135,
   "metadata": {
    "collapsed": false
   },
   "outputs": [
    {
     "data": {
      "text/html": [
       "<table>\n",
       "<thead><tr><th scope=col>Scaffold</th><th scope=col>GC</th><th scope=col>Sample</th></tr></thead>\n",
       "<tbody>\n",
       "\t<tr><td>AAPE02055386</td><td>0.4910779   </td><td>NJU16       </td></tr>\n",
       "\t<tr><td>AAPE02055720</td><td>0.4484607   </td><td>NJU16       </td></tr>\n",
       "\t<tr><td>AAPE02055947</td><td>0.4587847   </td><td>NJU16       </td></tr>\n",
       "\t<tr><td>AAPE02056334</td><td>0.5132792   </td><td>NJU16       </td></tr>\n",
       "\t<tr><td>AAPE02056387</td><td>0.4823530   </td><td>NJU16       </td></tr>\n",
       "\t<tr><td>AAPE02056710</td><td>0.4612261   </td><td>NJU16       </td></tr>\n",
       "</tbody>\n",
       "</table>\n"
      ],
      "text/latex": [
       "\\begin{tabular}{r|lll}\n",
       " Scaffold & GC & Sample\\\\\n",
       "\\hline\n",
       "\t AAPE02055386 & 0.4910779    & NJU16       \\\\\n",
       "\t AAPE02055720 & 0.4484607    & NJU16       \\\\\n",
       "\t AAPE02055947 & 0.4587847    & NJU16       \\\\\n",
       "\t AAPE02056334 & 0.5132792    & NJU16       \\\\\n",
       "\t AAPE02056387 & 0.4823530    & NJU16       \\\\\n",
       "\t AAPE02056710 & 0.4612261    & NJU16       \\\\\n",
       "\\end{tabular}\n"
      ],
      "text/markdown": [
       "\n",
       "Scaffold | GC | Sample | \n",
       "|---|---|---|---|---|---|\n",
       "| AAPE02055386 | 0.4910779    | NJU16        | \n",
       "| AAPE02055720 | 0.4484607    | NJU16        | \n",
       "| AAPE02055947 | 0.4587847    | NJU16        | \n",
       "| AAPE02056334 | 0.5132792    | NJU16        | \n",
       "| AAPE02056387 | 0.4823530    | NJU16        | \n",
       "| AAPE02056710 | 0.4612261    | NJU16        | \n",
       "\n",
       "\n"
      ],
      "text/plain": [
       "  Scaffold     GC        Sample\n",
       "1 AAPE02055386 0.4910779 NJU16 \n",
       "2 AAPE02055720 0.4484607 NJU16 \n",
       "3 AAPE02055947 0.4587847 NJU16 \n",
       "4 AAPE02056334 0.5132792 NJU16 \n",
       "5 AAPE02056387 0.4823530 NJU16 \n",
       "6 AAPE02056710 0.4612261 NJU16 "
      ]
     },
     "metadata": {},
     "output_type": "display_data"
    }
   ],
   "source": [
    "head(NJU16mean)"
   ]
  },
  {
   "cell_type": "code",
   "execution_count": 133,
   "metadata": {
    "collapsed": true
   },
   "outputs": [],
   "source": [
    "NJU16mean=aggregate(GC ~ Scaffold, NJU16, mean)"
   ]
  },
  {
   "cell_type": "code",
   "execution_count": 5,
   "metadata": {
    "collapsed": true
   },
   "outputs": [],
   "source": [
    "NJE26mean=aggregate(GC ~ Scaffold, NJE23, mean)"
   ]
  },
  {
   "cell_type": "code",
   "execution_count": 136,
   "metadata": {
    "collapsed": false
   },
   "outputs": [
    {
     "data": {
      "text/html": [
       "<table>\n",
       "<thead><tr><th scope=col>Scaffold</th><th scope=col>GC</th><th scope=col>Sample</th></tr></thead>\n",
       "<tbody>\n",
       "\t<tr><td>AAPE02055386</td><td>0.5028860   </td><td>NJE26       </td></tr>\n",
       "\t<tr><td>AAPE02055720</td><td>0.4467439   </td><td>NJE26       </td></tr>\n",
       "\t<tr><td>AAPE02055947</td><td>0.4595196   </td><td>NJE26       </td></tr>\n",
       "\t<tr><td>AAPE02056334</td><td>0.5173558   </td><td>NJE26       </td></tr>\n",
       "\t<tr><td>AAPE02056387</td><td>0.4879015   </td><td>NJE26       </td></tr>\n",
       "\t<tr><td>AAPE02056710</td><td>0.4658752   </td><td>NJE26       </td></tr>\n",
       "</tbody>\n",
       "</table>\n"
      ],
      "text/latex": [
       "\\begin{tabular}{r|lll}\n",
       " Scaffold & GC & Sample\\\\\n",
       "\\hline\n",
       "\t AAPE02055386 & 0.5028860    & NJE26       \\\\\n",
       "\t AAPE02055720 & 0.4467439    & NJE26       \\\\\n",
       "\t AAPE02055947 & 0.4595196    & NJE26       \\\\\n",
       "\t AAPE02056334 & 0.5173558    & NJE26       \\\\\n",
       "\t AAPE02056387 & 0.4879015    & NJE26       \\\\\n",
       "\t AAPE02056710 & 0.4658752    & NJE26       \\\\\n",
       "\\end{tabular}\n"
      ],
      "text/markdown": [
       "\n",
       "Scaffold | GC | Sample | \n",
       "|---|---|---|---|---|---|\n",
       "| AAPE02055386 | 0.5028860    | NJE26        | \n",
       "| AAPE02055720 | 0.4467439    | NJE26        | \n",
       "| AAPE02055947 | 0.4595196    | NJE26        | \n",
       "| AAPE02056334 | 0.5173558    | NJE26        | \n",
       "| AAPE02056387 | 0.4879015    | NJE26        | \n",
       "| AAPE02056710 | 0.4658752    | NJE26        | \n",
       "\n",
       "\n"
      ],
      "text/plain": [
       "  Scaffold     GC        Sample\n",
       "1 AAPE02055386 0.5028860 NJE26 \n",
       "2 AAPE02055720 0.4467439 NJE26 \n",
       "3 AAPE02055947 0.4595196 NJE26 \n",
       "4 AAPE02056334 0.5173558 NJE26 \n",
       "5 AAPE02056387 0.4879015 NJE26 \n",
       "6 AAPE02056710 0.4658752 NJE26 "
      ]
     },
     "metadata": {},
     "output_type": "display_data"
    }
   ],
   "source": [
    "head(NJE26mean)"
   ]
  },
  {
   "cell_type": "code",
   "execution_count": 137,
   "metadata": {
    "collapsed": false
   },
   "outputs": [],
   "source": [
    "MeanE1=rbind(NJE22mean, NJE23mean, NJE24mean, NJE25mean, NJE26mean, NJE27mean, NJE28mean)"
   ]
  },
  {
   "cell_type": "code",
   "execution_count": 138,
   "metadata": {
    "collapsed": false
   },
   "outputs": [],
   "source": [
    "MeanE2=rbind(NJE29mean, NJE30mean)"
   ]
  },
  {
   "cell_type": "code",
   "execution_count": 139,
   "metadata": {
    "collapsed": true
   },
   "outputs": [],
   "source": [
    "MeanU1=rbind(NJU01mean, NJU02mean, NJU03mean, NJU04mean, NJU05mean, NJU06mean, NJU07mean, NJU08mean)"
   ]
  },
  {
   "cell_type": "code",
   "execution_count": 140,
   "metadata": {
    "collapsed": true
   },
   "outputs": [],
   "source": [
    "MeanU2=rbind(NJU09mean, NJU10mean, NJU11mean, NJU12mean)"
   ]
  },
  {
   "cell_type": "code",
   "execution_count": 141,
   "metadata": {
    "collapsed": true
   },
   "outputs": [],
   "source": [
    "MeanU3=rbind(NJU15mean, NJU16mean)"
   ]
  },
  {
   "cell_type": "code",
   "execution_count": 142,
   "metadata": {
    "collapsed": false
   },
   "outputs": [],
   "source": [
    "MeanAll=rbind(MeanE1, MeanE2, MeanU1, MeanU2, MeanU3)"
   ]
  },
  {
   "cell_type": "code",
   "execution_count": 234,
   "metadata": {
    "collapsed": false
   },
   "outputs": [],
   "source": [
    "high=MeanAll[MeanAll$GC>0.8,]"
   ]
  },
  {
   "cell_type": "code",
   "execution_count": 235,
   "metadata": {
    "collapsed": false
   },
   "outputs": [
    {
     "data": {
      "text/html": [
       "<table>\n",
       "<thead><tr><th></th><th scope=col>Scaffold</th><th scope=col>GC</th><th scope=col>Sample</th></tr></thead>\n",
       "<tbody>\n",
       "\t<tr><th scope=row>63702</th><td>AAPE02070099</td><td>0.916667    </td><td>NJE27       </td></tr>\n",
       "\t<tr><th scope=row>251598</th><td>AAPE02072057</td><td>0.809524    </td><td>NJU15       </td></tr>\n",
       "</tbody>\n",
       "</table>\n"
      ],
      "text/latex": [
       "\\begin{tabular}{r|lll}\n",
       "  & Scaffold & GC & Sample\\\\\n",
       "\\hline\n",
       "\t63702 & AAPE02070099 & 0.916667     & NJE27       \\\\\n",
       "\t251598 & AAPE02072057 & 0.809524     & NJU15       \\\\\n",
       "\\end{tabular}\n"
      ],
      "text/markdown": [
       "\n",
       "| <!--/--> | Scaffold | GC | Sample | \n",
       "|---|---|\n",
       "| 63702 | AAPE02070099 | 0.916667     | NJE27        | \n",
       "| 251598 | AAPE02072057 | 0.809524     | NJU15        | \n",
       "\n",
       "\n"
      ],
      "text/plain": [
       "       Scaffold     GC       Sample\n",
       "63702  AAPE02070099 0.916667 NJE27 \n",
       "251598 AAPE02072057 0.809524 NJU15 "
      ]
     },
     "metadata": {},
     "output_type": "display_data"
    }
   ],
   "source": [
    "high"
   ]
  },
  {
   "cell_type": "code",
   "execution_count": 143,
   "metadata": {
    "collapsed": true
   },
   "outputs": [],
   "source": [
    "MeanAll$GCpercent=MeanAll$GC*100"
   ]
  },
  {
   "cell_type": "code",
   "execution_count": 144,
   "metadata": {
    "collapsed": false
   },
   "outputs": [
    {
     "data": {
      "text/html": [
       "<table>\n",
       "<thead><tr><th scope=col>Scaffold</th><th scope=col>GC</th><th scope=col>Sample</th><th scope=col>GCpercent</th></tr></thead>\n",
       "<tbody>\n",
       "\t<tr><td>AAPE02055386</td><td>0.4779112   </td><td>NJE22       </td><td>47.79112    </td></tr>\n",
       "\t<tr><td>AAPE02055720</td><td>0.4435244   </td><td>NJE22       </td><td>44.35244    </td></tr>\n",
       "\t<tr><td>AAPE02055947</td><td>0.4575621   </td><td>NJE22       </td><td>45.75621    </td></tr>\n",
       "\t<tr><td>AAPE02056334</td><td>0.5015149   </td><td>NJE22       </td><td>50.15149    </td></tr>\n",
       "\t<tr><td>AAPE02056387</td><td>0.4720742   </td><td>NJE22       </td><td>47.20742    </td></tr>\n",
       "\t<tr><td>AAPE02056710</td><td>0.4532994   </td><td>NJE22       </td><td>45.32994    </td></tr>\n",
       "</tbody>\n",
       "</table>\n"
      ],
      "text/latex": [
       "\\begin{tabular}{r|llll}\n",
       " Scaffold & GC & Sample & GCpercent\\\\\n",
       "\\hline\n",
       "\t AAPE02055386 & 0.4779112    & NJE22        & 47.79112    \\\\\n",
       "\t AAPE02055720 & 0.4435244    & NJE22        & 44.35244    \\\\\n",
       "\t AAPE02055947 & 0.4575621    & NJE22        & 45.75621    \\\\\n",
       "\t AAPE02056334 & 0.5015149    & NJE22        & 50.15149    \\\\\n",
       "\t AAPE02056387 & 0.4720742    & NJE22        & 47.20742    \\\\\n",
       "\t AAPE02056710 & 0.4532994    & NJE22        & 45.32994    \\\\\n",
       "\\end{tabular}\n"
      ],
      "text/markdown": [
       "\n",
       "Scaffold | GC | Sample | GCpercent | \n",
       "|---|---|---|---|---|---|\n",
       "| AAPE02055386 | 0.4779112    | NJE22        | 47.79112     | \n",
       "| AAPE02055720 | 0.4435244    | NJE22        | 44.35244     | \n",
       "| AAPE02055947 | 0.4575621    | NJE22        | 45.75621     | \n",
       "| AAPE02056334 | 0.5015149    | NJE22        | 50.15149     | \n",
       "| AAPE02056387 | 0.4720742    | NJE22        | 47.20742     | \n",
       "| AAPE02056710 | 0.4532994    | NJE22        | 45.32994     | \n",
       "\n",
       "\n"
      ],
      "text/plain": [
       "  Scaffold     GC        Sample GCpercent\n",
       "1 AAPE02055386 0.4779112 NJE22  47.79112 \n",
       "2 AAPE02055720 0.4435244 NJE22  44.35244 \n",
       "3 AAPE02055947 0.4575621 NJE22  45.75621 \n",
       "4 AAPE02056334 0.5015149 NJE22  50.15149 \n",
       "5 AAPE02056387 0.4720742 NJE22  47.20742 \n",
       "6 AAPE02056710 0.4532994 NJE22  45.32994 "
      ]
     },
     "metadata": {},
     "output_type": "display_data"
    }
   ],
   "source": [
    "head(MeanAll)"
   ]
  },
  {
   "cell_type": "code",
   "execution_count": 145,
   "metadata": {
    "collapsed": false
   },
   "outputs": [
    {
     "name": "stderr",
     "output_type": "stream",
     "text": [
      "Loading required package: plyr\n"
     ]
    }
   ],
   "source": [
    "require(plyr)"
   ]
  },
  {
   "cell_type": "code",
   "execution_count": 146,
   "metadata": {
    "collapsed": false
   },
   "outputs": [],
   "source": [
    "MeanAllorder=ddply(MeanAll, c(\"Scaffold\"), summarise,mean = mean(GCpercent))"
   ]
  },
  {
   "cell_type": "code",
   "execution_count": 147,
   "metadata": {
    "collapsed": true
   },
   "outputs": [],
   "source": [
    "MeanAllorder=MeanAllorder[order(MeanAllorder$mean),] "
   ]
  },
  {
   "cell_type": "code",
   "execution_count": 148,
   "metadata": {
    "collapsed": false
   },
   "outputs": [
    {
     "data": {
      "text/html": [
       "<table>\n",
       "<thead><tr><th></th><th scope=col>Scaffold</th><th scope=col>mean</th></tr></thead>\n",
       "<tbody>\n",
       "\t<tr><th scope=row>3123</th><td>AAPE02067166</td><td>30.55480    </td></tr>\n",
       "\t<tr><th scope=row>8095</th><td>AAPE02072769</td><td>30.84390    </td></tr>\n",
       "\t<tr><th scope=row>11358</th><td>GL433018    </td><td>31.13825    </td></tr>\n",
       "\t<tr><th scope=row>6701</th><td>AAPE02071203</td><td>31.21688    </td></tr>\n",
       "\t<tr><th scope=row>11503</th><td>GL433170    </td><td>31.24566    </td></tr>\n",
       "\t<tr><th scope=row>4188</th><td>AAPE02068391</td><td>31.28696    </td></tr>\n",
       "</tbody>\n",
       "</table>\n"
      ],
      "text/latex": [
       "\\begin{tabular}{r|ll}\n",
       "  & Scaffold & mean\\\\\n",
       "\\hline\n",
       "\t3123 & AAPE02067166 & 30.55480    \\\\\n",
       "\t8095 & AAPE02072769 & 30.84390    \\\\\n",
       "\t11358 & GL433018     & 31.13825    \\\\\n",
       "\t6701 & AAPE02071203 & 31.21688    \\\\\n",
       "\t11503 & GL433170     & 31.24566    \\\\\n",
       "\t4188 & AAPE02068391 & 31.28696    \\\\\n",
       "\\end{tabular}\n"
      ],
      "text/markdown": [
       "\n",
       "| <!--/--> | Scaffold | mean | \n",
       "|---|---|---|---|---|---|\n",
       "| 3123 | AAPE02067166 | 30.55480     | \n",
       "| 8095 | AAPE02072769 | 30.84390     | \n",
       "| 11358 | GL433018     | 31.13825     | \n",
       "| 6701 | AAPE02071203 | 31.21688     | \n",
       "| 11503 | GL433170     | 31.24566     | \n",
       "| 4188 | AAPE02068391 | 31.28696     | \n",
       "\n",
       "\n"
      ],
      "text/plain": [
       "      Scaffold     mean    \n",
       "3123  AAPE02067166 30.55480\n",
       "8095  AAPE02072769 30.84390\n",
       "11358 GL433018     31.13825\n",
       "6701  AAPE02071203 31.21688\n",
       "11503 GL433170     31.24566\n",
       "4188  AAPE02068391 31.28696"
      ]
     },
     "metadata": {},
     "output_type": "display_data"
    }
   ],
   "source": [
    "head (MeanAllorder)"
   ]
  },
  {
   "cell_type": "code",
   "execution_count": 149,
   "metadata": {
    "collapsed": true
   },
   "outputs": [],
   "source": [
    "MeanAll=MeanAll[order(match(MeanAll$Scaffold, MeanAllorder$Scaffold)),] "
   ]
  },
  {
   "cell_type": "code",
   "execution_count": 150,
   "metadata": {
    "collapsed": false
   },
   "outputs": [
    {
     "data": {
      "text/html": [
       "<table>\n",
       "<thead><tr><th></th><th scope=col>Scaffold</th><th scope=col>GC</th><th scope=col>Sample</th><th scope=col>GCpercent</th></tr></thead>\n",
       "<tbody>\n",
       "\t<tr><th scope=row>3123</th><td>AAPE02067166</td><td>0.3042782   </td><td>NJE22       </td><td>30.42782    </td></tr>\n",
       "\t<tr><th scope=row>14637</th><td>AAPE02067166</td><td>0.3015042   </td><td>NJE23       </td><td>30.15042    </td></tr>\n",
       "\t<tr><th scope=row>26287</th><td>AAPE02067166</td><td>0.3003283   </td><td>NJE24       </td><td>30.03283    </td></tr>\n",
       "\t<tr><th scope=row>37938</th><td>AAPE02067166</td><td>0.3054674   </td><td>NJE25       </td><td>30.54674    </td></tr>\n",
       "\t<tr><th scope=row>49586</th><td>AAPE02067166</td><td>0.3055630   </td><td>NJE26       </td><td>30.55630    </td></tr>\n",
       "\t<tr><th scope=row>61202</th><td>AAPE02067166</td><td>0.3106855   </td><td>NJE27       </td><td>31.06855    </td></tr>\n",
       "</tbody>\n",
       "</table>\n"
      ],
      "text/latex": [
       "\\begin{tabular}{r|llll}\n",
       "  & Scaffold & GC & Sample & GCpercent\\\\\n",
       "\\hline\n",
       "\t3123 & AAPE02067166 & 0.3042782    & NJE22        & 30.42782    \\\\\n",
       "\t14637 & AAPE02067166 & 0.3015042    & NJE23        & 30.15042    \\\\\n",
       "\t26287 & AAPE02067166 & 0.3003283    & NJE24        & 30.03283    \\\\\n",
       "\t37938 & AAPE02067166 & 0.3054674    & NJE25        & 30.54674    \\\\\n",
       "\t49586 & AAPE02067166 & 0.3055630    & NJE26        & 30.55630    \\\\\n",
       "\t61202 & AAPE02067166 & 0.3106855    & NJE27        & 31.06855    \\\\\n",
       "\\end{tabular}\n"
      ],
      "text/markdown": [
       "\n",
       "| <!--/--> | Scaffold | GC | Sample | GCpercent | \n",
       "|---|---|---|---|---|---|\n",
       "| 3123 | AAPE02067166 | 0.3042782    | NJE22        | 30.42782     | \n",
       "| 14637 | AAPE02067166 | 0.3015042    | NJE23        | 30.15042     | \n",
       "| 26287 | AAPE02067166 | 0.3003283    | NJE24        | 30.03283     | \n",
       "| 37938 | AAPE02067166 | 0.3054674    | NJE25        | 30.54674     | \n",
       "| 49586 | AAPE02067166 | 0.3055630    | NJE26        | 30.55630     | \n",
       "| 61202 | AAPE02067166 | 0.3106855    | NJE27        | 31.06855     | \n",
       "\n",
       "\n"
      ],
      "text/plain": [
       "      Scaffold     GC        Sample GCpercent\n",
       "3123  AAPE02067166 0.3042782 NJE22  30.42782 \n",
       "14637 AAPE02067166 0.3015042 NJE23  30.15042 \n",
       "26287 AAPE02067166 0.3003283 NJE24  30.03283 \n",
       "37938 AAPE02067166 0.3054674 NJE25  30.54674 \n",
       "49586 AAPE02067166 0.3055630 NJE26  30.55630 \n",
       "61202 AAPE02067166 0.3106855 NJE27  31.06855 "
      ]
     },
     "metadata": {},
     "output_type": "display_data"
    }
   ],
   "source": [
    "head(MeanAll)"
   ]
  },
  {
   "cell_type": "code",
   "execution_count": 151,
   "metadata": {
    "collapsed": true
   },
   "outputs": [],
   "source": [
    "MeanAll$Scaffold=factor(MeanAll$Scaffold, levels=unique(as.character(MeanAll$Scaffold)))"
   ]
  },
  {
   "cell_type": "code",
   "execution_count": 152,
   "metadata": {
    "collapsed": true
   },
   "outputs": [],
   "source": [
    "write.csv (MeanAll, file=(\"~/WGS/Sequences/GC_percent_All.csv\"))"
   ]
  },
  {
   "cell_type": "code",
   "execution_count": 270,
   "metadata": {
    "collapsed": false
   },
   "outputs": [],
   "source": [
    "require(ggplot2)"
   ]
  },
  {
   "cell_type": "code",
   "execution_count": 271,
   "metadata": {
    "collapsed": true
   },
   "outputs": [],
   "source": [
    "plot=ggplot(data=MeanAll, aes(x=Scaffold, y=GCpercent))+\n",
    "  geom_point(data=MeanAll, stat=\"identity\", aes(color=Sample))+\n",
    "  theme_bw()+ylab(\"Percent GC\")+\n",
    "xlab(\"Scaffold\")+\n",
    "  theme(axis.text.x = NULL)"
   ]
  },
  {
   "cell_type": "code",
   "execution_count": 272,
   "metadata": {
    "collapsed": false
   },
   "outputs": [
    {
     "data": {},
     "metadata": {},
     "output_type": "display_data"
    },
    {
     "data": {
      "image/png": "[encoded data removed]",
      "text/plain": [
       "plot without title"
      ]
     },
     "metadata": {},
     "output_type": "display_data"
    }
   ],
   "source": [
    "plot"
   ]
  },
  {
   "cell_type": "code",
   "execution_count": null,
   "metadata": {
    "collapsed": true
   },
   "outputs": [],
   "source": []
  }
 ],
 "metadata": {
  "anaconda-cloud": {},
  "kernelspec": {
   "display_name": "R",
   "language": "R",
   "name": "ir"
  },
  "language_info": {
   "codemirror_mode": "r",
   "file_extension": ".r",
   "mimetype": "text/x-r-source",
   "name": "R",
   "pygments_lexer": "r",
   "version": "3.3.2"
  }
 },
 "nbformat": 4,
 "nbformat_minor": 1
}
