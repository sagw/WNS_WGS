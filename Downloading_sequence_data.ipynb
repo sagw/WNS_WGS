{
 "cells": [
  {
   "cell_type": "markdown",
   "metadata": {
    "collapsed": true
   },
   "source": [
    "to start notebook, ssh to server, and type jupyter notebook --no-browser --port=8889 \n",
    "Then make ssh tunnel from local host to server ssh -N -f -L localhost:8889:localhost:8889 sarahgw@amphiprion.deenr.rutgers.edu\n",
    "then in browser go to localhost:8888"
   ]
  },
  {
   "cell_type": "code",
   "execution_count": 1,
   "metadata": {
    "collapsed": false,
    "scrolled": false
   },
   "outputs": [],
   "source": [
    "!mkdir /local/shared/pinsky_lab/sequencing/hiseq_2016_12_07_SEQ18"
   ]
  },
  {
   "cell_type": "code",
   "execution_count": null,
   "metadata": {
    "collapsed": true,
    "scrolled": false
   },
   "outputs": [],
   "source": [
    "wget -r https://htseq.princeton.edu/tmp/xVUAm7hdX422fBBHl/ -P /local/shared/pinsky_lab/sequencing/hiseq_2016_12_07_SEQ18"
   ]
  },
  {
   "cell_type": "code",
   "execution_count": 4,
   "metadata": {
    "collapsed": false,
    "scrolled": false
   },
   "outputs": [
    {
     "name": "stdout",
     "output_type": "stream",
     "text": [
      "xVUAm7hdX422fBBHl\r\n"
     ]
    }
   ],
   "source": [
    "!ls /local/shared/pinsky_lab/sequencing/hiseq_2016_12_07_SEQ18/"
   ]
  },
  {
   "cell_type": "code",
   "execution_count": 5,
   "metadata": {
    "collapsed": false,
    "scrolled": false
   },
   "outputs": [
    {
     "name": "stdout",
     "output_type": "stream",
     "text": [
      "index.html\r\n",
      "N502-CTCTCTAT-X-N701-TCGCCTTA_Pinsky-24gDNA-for-316-cycles-H2L52BCXY_2_Read_1_passed_filter.fastq.gz\r\n",
      "N502-CTCTCTAT-X-N701-TCGCCTTA_Pinsky-24gDNA-for-316-cycles-H2L52BCXY_2_Read_4_passed_filter.fastq.gz\r\n",
      "N502-CTCTCTATX-N702-CTAGTACG_Pinsky-24gDNA-for-316-cycles-H2L52BCXY_2_Read_1_passed_filter.fastq.gz\r\n",
      "N502-CTCTCTATX-N702-CTAGTACG_Pinsky-24gDNA-for-316-cycles-H2L52BCXY_2_Read_4_passed_filter.fastq.gz\r\n",
      "N502-CTCTCTAT-X-N703-TTCTGCCT_Pinsky-24gDNA-for-316-cycles-H2L52BCXY_2_Read_1_passed_filter.fastq.gz\r\n",
      "N502-CTCTCTAT-X-N703-TTCTGCCT_Pinsky-24gDNA-for-316-cycles-H2L52BCXY_2_Read_4_passed_filter.fastq.gz\r\n",
      "N502-CTCTCTAT-X-N704-GCTCAGGA_Pinsky-24gDNA-for-316-cycles-H2L52BCXY_2_Read_1_passed_filter.fastq.gz\r\n",
      "N502-CTCTCTAT-X-N704-GCTCAGGA_Pinsky-24gDNA-for-316-cycles-H2L52BCXY_2_Read_4_passed_filter.fastq.gz\r\n",
      "N502-CTCTCTAT-X-N705-AGGAGTCC_Pinsky-24gDNA-for-316-cycles-H2L52BCXY_2_Read_1_passed_filter.fastq.gz\r\n",
      "N502-CTCTCTAT-X-N705-AGGAGTCC_Pinsky-24gDNA-for-316-cycles-H2L52BCXY_2_Read_4_passed_filter.fastq.gz\r\n",
      "N502-CTCTCTAT-X-N706CATGCCTA_Pinsky-24gDNA-for-316-cycles-H2L52BCXY_2_Read_1_passed_filter.fastq.gz\r\n",
      "N502-CTCTCTAT-X-N706CATGCCTA_Pinsky-24gDNA-for-316-cycles-H2L52BCXY_2_Read_4_passed_filter.fastq.gz\r\n",
      "N503-TATCCTCT-X-N701-TCGCCTTA_Pinsky-24gDNA-for-316-cycles-H2L52BCXY_2_Read_1_passed_filter.fastq.gz\r\n",
      "N503-TATCCTCT-X-N701-TCGCCTTA_Pinsky-24gDNA-for-316-cycles-H2L52BCXY_2_Read_4_passed_filter.fastq.gz\r\n",
      "N503-TATCCTCTX-N702-CTAGTACG_Pinsky-24gDNA-for-316-cycles-H2L52BCXY_2_Read_1_passed_filter.fastq.gz\r\n",
      "N503-TATCCTCTX-N702-CTAGTACG_Pinsky-24gDNA-for-316-cycles-H2L52BCXY_2_Read_4_passed_filter.fastq.gz\r\n",
      "N503-TATCCTCT-X-N703-TTCTGCCT_Pinsky-24gDNA-for-316-cycles-H2L52BCXY_2_Read_1_passed_filter.fastq.gz\r\n",
      "N503-TATCCTCT-X-N703-TTCTGCCT_Pinsky-24gDNA-for-316-cycles-H2L52BCXY_2_Read_4_passed_filter.fastq.gz\r\n",
      "N503-TATCCTCT-X-N704-GCTCAGGA_Pinsky-24gDNA-for-316-cycles-H2L52BCXY_2_Read_1_passed_filter.fastq.gz\r\n",
      "N503-TATCCTCT-X-N704-GCTCAGGA_Pinsky-24gDNA-for-316-cycles-H2L52BCXY_2_Read_4_passed_filter.fastq.gz\r\n",
      "N503-TATCCTCT-X-N705-AGGAGTCC_Pinsky-24gDNA-for-316-cycles-H2L52BCXY_2_Read_1_passed_filter.fastq.gz\r\n",
      "N503-TATCCTCT-X-N705-AGGAGTCC_Pinsky-24gDNA-for-316-cycles-H2L52BCXY_2_Read_4_passed_filter.fastq.gz\r\n",
      "N503-TATCCTCT-X-N706CATGCCTA_Pinsky-24gDNA-for-316-cycles-H2L52BCXY_2_Read_1_passed_filter.fastq.gz\r\n",
      "N503-TATCCTCT-X-N706CATGCCTA_Pinsky-24gDNA-for-316-cycles-H2L52BCXY_2_Read_4_passed_filter.fastq.gz\r\n",
      "N504-AGAGTAGA-X-N701-TCGCCTTA_Pinsky-24gDNA-for-316-cycles-H2L52BCXY_2_Read_1_passed_filter.fastq.gz\r\n",
      "N504-AGAGTAGA-X-N701-TCGCCTTA_Pinsky-24gDNA-for-316-cycles-H2L52BCXY_2_Read_4_passed_filter.fastq.gz\r\n",
      "N504-AGAGTAGAX-N702-CTAGTACG_Pinsky-24gDNA-for-316-cycles-H2L52BCXY_2_Read_1_passed_filter.fastq.gz\r\n",
      "N504-AGAGTAGAX-N702-CTAGTACG_Pinsky-24gDNA-for-316-cycles-H2L52BCXY_2_Read_4_passed_filter.fastq.gz\r\n",
      "N504-AGAGTAGAX-N703-TTCTGCCT_Pinsky-24gDNA-for-316-cycles-H2L52BCXY_2_Read_1_passed_filter.fastq.gz\r\n",
      "N504-AGAGTAGAX-N703-TTCTGCCT_Pinsky-24gDNA-for-316-cycles-H2L52BCXY_2_Read_4_passed_filter.fastq.gz\r\n",
      "N504-AGAGTAGAX-N704-GCTCAGGA_Pinsky-24gDNA-for-316-cycles-H2L52BCXY_2_Read_1_passed_filter.fastq.gz\r\n",
      "N504-AGAGTAGAX-N704-GCTCAGGA_Pinsky-24gDNA-for-316-cycles-H2L52BCXY_2_Read_4_passed_filter.fastq.gz\r\n",
      "N504-AGAGTAGA-X-N705-AGGAGTCC_Pinsky-24gDNA-for-316-cycles-H2L52BCXY_2_Read_1_passed_filter.fastq.gz\r\n",
      "N504-AGAGTAGA-X-N705-AGGAGTCC_Pinsky-24gDNA-for-316-cycles-H2L52BCXY_2_Read_4_passed_filter.fastq.gz\r\n",
      "N504-AGAGTAGA-X-N706CATGCCTA_Pinsky-24gDNA-for-316-cycles-H2L52BCXY_2_Read_1_passed_filter.fastq.gz\r\n",
      "N504-AGAGTAGA-X-N706CATGCCTA_Pinsky-24gDNA-for-316-cycles-H2L52BCXY_2_Read_4_passed_filter.fastq.gz\r\n",
      "N517-GCGTAAGA-X-N701-TCGCCTTA_Pinsky-24gDNA-for-316-cycles-H2L52BCXY_2_Read_1_passed_filter.fastq.gz\r\n",
      "N517-GCGTAAGA-X-N701-TCGCCTTA_Pinsky-24gDNA-for-316-cycles-H2L52BCXY_2_Read_4_passed_filter.fastq.gz\r\n",
      "N517-GCGTAAGA-X-N702-CTAGTACG_Pinsky-24gDNA-for-316-cycles-H2L52BCXY_2_Read_1_passed_filter.fastq.gz\r\n",
      "N517-GCGTAAGA-X-N702-CTAGTACG_Pinsky-24gDNA-for-316-cycles-H2L52BCXY_2_Read_4_passed_filter.fastq.gz\r\n",
      "N517-GCGTAAGA-X-N703-TTCTGCCT_Pinsky-24gDNA-for-316-cycles-H2L52BCXY_2_Read_1_passed_filter.fastq.gz\r\n",
      "N517-GCGTAAGA-X-N703-TTCTGCCT_Pinsky-24gDNA-for-316-cycles-H2L52BCXY_2_Read_4_passed_filter.fastq.gz\r\n",
      "N517-GCGTAAGA-X-N704-GCTCAGGA_Pinsky-24gDNA-for-316-cycles-H2L52BCXY_2_Read_1_passed_filter.fastq.gz\r\n",
      "N517-GCGTAAGA-X-N704-GCTCAGGA_Pinsky-24gDNA-for-316-cycles-H2L52BCXY_2_Read_4_passed_filter.fastq.gz\r\n",
      "N517-GCGTAAGA-X-N705-AGGAGTCC_Pinsky-24gDNA-for-316-cycles-H2L52BCXY_2_Read_1_passed_filter.fastq.gz\r\n",
      "N517-GCGTAAGA-X-N705-AGGAGTCC_Pinsky-24gDNA-for-316-cycles-H2L52BCXY_2_Read_4_passed_filter.fastq.gz\r\n",
      "N517-GCGTAAGA-X-N706CATGCCTA_Pinsky-24gDNA-for-316-cycles-H2L52BCXY_2_Read_1_passed_filter.fastq.gz\r\n",
      "N517-GCGTAAGA-X-N706CATGCCTA_Pinsky-24gDNA-for-316-cycles-H2L52BCXY_2_Read_4_passed_filter.fastq.gz\r\n",
      "unmatched_Pinsky-24gDNA-for-316-cycles-H2L52BCXY_2_Read_1_passed_filter.fastq.gz\r\n",
      "unmatched_Pinsky-24gDNA-for-316-cycles-H2L52BCXY_2_Read_4_passed_filter.fastq.gz\r\n"
     ]
    }
   ],
   "source": [
    "!ls /local/shared/pinsky_lab/sequencing/hiseq_2016_12_07_SEQ18/xVUAm7hdX422fBBHl"
   ]
  },
  {
   "cell_type": "code",
   "execution_count": 8,
   "metadata": {
    "collapsed": false,
    "scrolled": false
   },
   "outputs": [],
   "source": [
    "!gunzip -r /local/shared/pinsky_lab/sequencing/hiseq_2016_12_07_SEQ18/xVUAm7hdX422fBBHl"
   ]
  },
  {
   "cell_type": "code",
   "execution_count": 9,
   "metadata": {
    "collapsed": false,
    "scrolled": false
   },
   "outputs": [
    {
     "name": "stdout",
     "output_type": "stream",
     "text": [
      "index.html\r\n",
      "N502-CTCTCTAT-X-N701-TCGCCTTA_Pinsky-24gDNA-for-316-cycles-H2L52BCXY_2_Read_1_passed_filter.fastq\r\n",
      "N502-CTCTCTAT-X-N701-TCGCCTTA_Pinsky-24gDNA-for-316-cycles-H2L52BCXY_2_Read_4_passed_filter.fastq\r\n",
      "N502-CTCTCTATX-N702-CTAGTACG_Pinsky-24gDNA-for-316-cycles-H2L52BCXY_2_Read_1_passed_filter.fastq\r\n",
      "N502-CTCTCTATX-N702-CTAGTACG_Pinsky-24gDNA-for-316-cycles-H2L52BCXY_2_Read_4_passed_filter.fastq\r\n",
      "N502-CTCTCTAT-X-N703-TTCTGCCT_Pinsky-24gDNA-for-316-cycles-H2L52BCXY_2_Read_1_passed_filter.fastq\r\n",
      "N502-CTCTCTAT-X-N703-TTCTGCCT_Pinsky-24gDNA-for-316-cycles-H2L52BCXY_2_Read_4_passed_filter.fastq\r\n",
      "N502-CTCTCTAT-X-N704-GCTCAGGA_Pinsky-24gDNA-for-316-cycles-H2L52BCXY_2_Read_1_passed_filter.fastq\r\n",
      "N502-CTCTCTAT-X-N704-GCTCAGGA_Pinsky-24gDNA-for-316-cycles-H2L52BCXY_2_Read_4_passed_filter.fastq\r\n",
      "N502-CTCTCTAT-X-N705-AGGAGTCC_Pinsky-24gDNA-for-316-cycles-H2L52BCXY_2_Read_1_passed_filter.fastq\r\n",
      "N502-CTCTCTAT-X-N705-AGGAGTCC_Pinsky-24gDNA-for-316-cycles-H2L52BCXY_2_Read_4_passed_filter.fastq\r\n",
      "N502-CTCTCTAT-X-N706CATGCCTA_Pinsky-24gDNA-for-316-cycles-H2L52BCXY_2_Read_1_passed_filter.fastq\r\n",
      "N502-CTCTCTAT-X-N706CATGCCTA_Pinsky-24gDNA-for-316-cycles-H2L52BCXY_2_Read_4_passed_filter.fastq\r\n",
      "N503-TATCCTCT-X-N701-TCGCCTTA_Pinsky-24gDNA-for-316-cycles-H2L52BCXY_2_Read_1_passed_filter.fastq\r\n",
      "N503-TATCCTCT-X-N701-TCGCCTTA_Pinsky-24gDNA-for-316-cycles-H2L52BCXY_2_Read_4_passed_filter.fastq\r\n",
      "N503-TATCCTCTX-N702-CTAGTACG_Pinsky-24gDNA-for-316-cycles-H2L52BCXY_2_Read_1_passed_filter.fastq\r\n",
      "N503-TATCCTCTX-N702-CTAGTACG_Pinsky-24gDNA-for-316-cycles-H2L52BCXY_2_Read_4_passed_filter.fastq\r\n",
      "N503-TATCCTCT-X-N703-TTCTGCCT_Pinsky-24gDNA-for-316-cycles-H2L52BCXY_2_Read_1_passed_filter.fastq\r\n",
      "N503-TATCCTCT-X-N703-TTCTGCCT_Pinsky-24gDNA-for-316-cycles-H2L52BCXY_2_Read_4_passed_filter.fastq\r\n",
      "N503-TATCCTCT-X-N704-GCTCAGGA_Pinsky-24gDNA-for-316-cycles-H2L52BCXY_2_Read_1_passed_filter.fastq\r\n",
      "N503-TATCCTCT-X-N704-GCTCAGGA_Pinsky-24gDNA-for-316-cycles-H2L52BCXY_2_Read_4_passed_filter.fastq\r\n",
      "N503-TATCCTCT-X-N705-AGGAGTCC_Pinsky-24gDNA-for-316-cycles-H2L52BCXY_2_Read_1_passed_filter.fastq\r\n",
      "N503-TATCCTCT-X-N705-AGGAGTCC_Pinsky-24gDNA-for-316-cycles-H2L52BCXY_2_Read_4_passed_filter.fastq\r\n",
      "N503-TATCCTCT-X-N706CATGCCTA_Pinsky-24gDNA-for-316-cycles-H2L52BCXY_2_Read_1_passed_filter.fastq\r\n",
      "N503-TATCCTCT-X-N706CATGCCTA_Pinsky-24gDNA-for-316-cycles-H2L52BCXY_2_Read_4_passed_filter.fastq\r\n",
      "N504-AGAGTAGA-X-N701-TCGCCTTA_Pinsky-24gDNA-for-316-cycles-H2L52BCXY_2_Read_1_passed_filter.fastq\r\n",
      "N504-AGAGTAGA-X-N701-TCGCCTTA_Pinsky-24gDNA-for-316-cycles-H2L52BCXY_2_Read_4_passed_filter.fastq\r\n",
      "N504-AGAGTAGAX-N702-CTAGTACG_Pinsky-24gDNA-for-316-cycles-H2L52BCXY_2_Read_1_passed_filter.fastq\r\n",
      "N504-AGAGTAGAX-N702-CTAGTACG_Pinsky-24gDNA-for-316-cycles-H2L52BCXY_2_Read_4_passed_filter.fastq\r\n",
      "N504-AGAGTAGAX-N703-TTCTGCCT_Pinsky-24gDNA-for-316-cycles-H2L52BCXY_2_Read_1_passed_filter.fastq\r\n",
      "N504-AGAGTAGAX-N703-TTCTGCCT_Pinsky-24gDNA-for-316-cycles-H2L52BCXY_2_Read_4_passed_filter.fastq\r\n",
      "N504-AGAGTAGAX-N704-GCTCAGGA_Pinsky-24gDNA-for-316-cycles-H2L52BCXY_2_Read_1_passed_filter.fastq\r\n",
      "N504-AGAGTAGAX-N704-GCTCAGGA_Pinsky-24gDNA-for-316-cycles-H2L52BCXY_2_Read_4_passed_filter.fastq\r\n",
      "N504-AGAGTAGA-X-N705-AGGAGTCC_Pinsky-24gDNA-for-316-cycles-H2L52BCXY_2_Read_1_passed_filter.fastq\r\n",
      "N504-AGAGTAGA-X-N705-AGGAGTCC_Pinsky-24gDNA-for-316-cycles-H2L52BCXY_2_Read_4_passed_filter.fastq\r\n",
      "N504-AGAGTAGA-X-N706CATGCCTA_Pinsky-24gDNA-for-316-cycles-H2L52BCXY_2_Read_1_passed_filter.fastq\r\n",
      "N504-AGAGTAGA-X-N706CATGCCTA_Pinsky-24gDNA-for-316-cycles-H2L52BCXY_2_Read_4_passed_filter.fastq\r\n",
      "N517-GCGTAAGA-X-N701-TCGCCTTA_Pinsky-24gDNA-for-316-cycles-H2L52BCXY_2_Read_1_passed_filter.fastq\r\n",
      "N517-GCGTAAGA-X-N701-TCGCCTTA_Pinsky-24gDNA-for-316-cycles-H2L52BCXY_2_Read_4_passed_filter.fastq\r\n",
      "N517-GCGTAAGA-X-N702-CTAGTACG_Pinsky-24gDNA-for-316-cycles-H2L52BCXY_2_Read_1_passed_filter.fastq\r\n",
      "N517-GCGTAAGA-X-N702-CTAGTACG_Pinsky-24gDNA-for-316-cycles-H2L52BCXY_2_Read_4_passed_filter.fastq\r\n",
      "N517-GCGTAAGA-X-N703-TTCTGCCT_Pinsky-24gDNA-for-316-cycles-H2L52BCXY_2_Read_1_passed_filter.fastq\r\n",
      "N517-GCGTAAGA-X-N703-TTCTGCCT_Pinsky-24gDNA-for-316-cycles-H2L52BCXY_2_Read_4_passed_filter.fastq\r\n",
      "N517-GCGTAAGA-X-N704-GCTCAGGA_Pinsky-24gDNA-for-316-cycles-H2L52BCXY_2_Read_1_passed_filter.fastq\r\n",
      "N517-GCGTAAGA-X-N704-GCTCAGGA_Pinsky-24gDNA-for-316-cycles-H2L52BCXY_2_Read_4_passed_filter.fastq\r\n",
      "N517-GCGTAAGA-X-N705-AGGAGTCC_Pinsky-24gDNA-for-316-cycles-H2L52BCXY_2_Read_1_passed_filter.fastq\r\n",
      "N517-GCGTAAGA-X-N705-AGGAGTCC_Pinsky-24gDNA-for-316-cycles-H2L52BCXY_2_Read_4_passed_filter.fastq\r\n",
      "N517-GCGTAAGA-X-N706CATGCCTA_Pinsky-24gDNA-for-316-cycles-H2L52BCXY_2_Read_1_passed_filter.fastq\r\n",
      "N517-GCGTAAGA-X-N706CATGCCTA_Pinsky-24gDNA-for-316-cycles-H2L52BCXY_2_Read_4_passed_filter.fastq\r\n",
      "unmatched_Pinsky-24gDNA-for-316-cycles-H2L52BCXY_2_Read_1_passed_filter.fastq\r\n",
      "unmatched_Pinsky-24gDNA-for-316-cycles-H2L52BCXY_2_Read_4_passed_filter.fastq\r\n"
     ]
    }
   ],
   "source": [
    "!ls /local/shared/pinsky_lab/sequencing/hiseq_2016_12_07_SEQ18/xVUAm7hdX422fBBHl/"
   ]
  },
  {
   "cell_type": "code",
   "execution_count": 13,
   "metadata": {
    "collapsed": false,
    "scrolled": false
   },
   "outputs": [
    {
     "name": "stdout",
     "output_type": "stream",
     "text": [
      "@JLK5VL1:1018:H2L52BCXY:2:1101:1474:2215 1:N:0:\r\n",
      "TTCCAGAACATTTCCTACCAAGTCCCCTAATACTGTCTTGGTGGATACATGGCCTGTTTCCTAAGATGTCATTGAAGACAGCTTGATTCGTCATTGTGCAGGCATGTAGCAAGAACTGCCAGTTTCAAAACTGGGCTAGAGGGCTCCTCA\r\n",
      "+\r\n",
      "DDDDDIIIIIIIIIIIIIIIIIIIIIIIHIIIIIIIIIIIIIIIIIIIIIIIIIIIIHIIIIIIIIIIIIIIIIIIIIIIIIIEFHIIIHHIIIIHIHIIICEHHIIIGHEHIIIIHHIIIIIHIIIIIIIIIIGHIIIIHIHHEEHHI#\r\n",
      "@JLK5VL1:1018:H2L52BCXY:2:1101:1595:2124 1:N:0:\r\n",
      "NTCTTGGGTCATGGTCATGACATAAAATATATTTCCCACTGTAGATCAAGGTCAAATAAACTGATGAACAAAATAGAAACACAGACATAGACTGTCTCTTATACACATCTCCGAGCCCACGAGACTAAGGCGAATCTCGTATGCCGTCTT\r\n",
      "+\r\n",
      "#<DDDIIHHIIIIIIIIIIIIIIIIIIIIIHIIIIIIIIIIIIIIIIIHIIIHHIIIIIIIIIIHHIIIIIIIIIIIHIIIIIIGHHIIIIIIIIIIIIIIDHHHHHIIHHIIHIHIHEHIIIIIIIIHHHDHID/CFHHHI?EHIGCH@\r\n",
      "@JLK5VL1:1018:H2L52BCXY:2:1101:1626:2158 1:N:0:\r\n",
      "NTATCTTTCAATCTTCTTTGGGCATTTAAAATCTTTTTCTGTTATCTAGAAGAAAATTGAATTAAAAAGGAGCCTGTCTTTCTATGTTGCCCTTTCTCTGTAGATGACTTTGACTTACTTTTATAGAGATTGTTATTCCCCCTCTTTCTA\r\n"
     ]
    }
   ],
   "source": [
    "!head /local/shared/pinsky_lab/sequencing/hiseq_2016_12_07_SEQ18/xVUAm7hdX422fBBHl/N502-CTCTCTAT-X-N701-TCGCCTTA_Pinsky-24gDNA-for-316-cycles-H2L52BCXY_2_Read_1_passed_filter.fastq"
   ]
  },
  {
   "cell_type": "code",
   "execution_count": 11,
   "metadata": {
    "collapsed": false,
    "scrolled": false
   },
   "outputs": [
    {
     "name": "stdout",
     "output_type": "stream",
     "text": [
      "29878004 /local/shared/pinsky_lab/sequencing/hiseq_2016_12_07_SEQ18/xVUAm7hdX422fBBHl/N502-CTCTCTAT-X-N701-TCGCCTTA_Pinsky-24gDNA-for-316-cycles-H2L52BCXY_2_Read_1_passed_filter.fastq\r\n"
     ]
    }
   ],
   "source": [
    "!wc -l /local/shared/pinsky_lab/sequencing/hiseq_2016_12_07_SEQ18/xVUAm7hdX422fBBHl/N502-CTCTCTAT-X-N701-TCGCCTTA_Pinsky-24gDNA-for-316-cycles-H2L52BCXY_2_Read_1_passed_filter.fastq"
   ]
  },
  {
   "cell_type": "code",
   "execution_count": 15,
   "metadata": {
    "collapsed": false,
    "scrolled": true
   },
   "outputs": [
    {
     "name": "stdout",
     "output_type": "stream",
     "text": [
      "/local/shared/pinsky_lab/sequencing/hiseq_2016_12_07_SEQ18/xVUAm7hdX422fBBHl/N504-AGAGTAGA-X-N705-AGGAGTCC_Pinsky-24gDNA-for-316-cycles-H2L52BCXY_2_Read_1_passed_filter.fastq:4651024\n",
      "/local/shared/pinsky_lab/sequencing/hiseq_2016_12_07_SEQ18/xVUAm7hdX422fBBHl/N517-GCGTAAGA-X-N706CATGCCTA_Pinsky-24gDNA-for-316-cycles-H2L52BCXY_2_Read_1_passed_filter.fastq:8130954\n",
      "/local/shared/pinsky_lab/sequencing/hiseq_2016_12_07_SEQ18/xVUAm7hdX422fBBHl/N504-AGAGTAGAX-N702-CTAGTACG_Pinsky-24gDNA-for-316-cycles-H2L52BCXY_2_Read_4_passed_filter.fastq:4750186\n",
      "/local/shared/pinsky_lab/sequencing/hiseq_2016_12_07_SEQ18/xVUAm7hdX422fBBHl/N504-AGAGTAGAX-N703-TTCTGCCT_Pinsky-24gDNA-for-316-cycles-H2L52BCXY_2_Read_1_passed_filter.fastq:13046868\n",
      "/local/shared/pinsky_lab/sequencing/hiseq_2016_12_07_SEQ18/xVUAm7hdX422fBBHl/N503-TATCCTCT-X-N706CATGCCTA_Pinsky-24gDNA-for-316-cycles-H2L52BCXY_2_Read_4_passed_filter.fastq:8720037\n",
      "/local/shared/pinsky_lab/sequencing/hiseq_2016_12_07_SEQ18/xVUAm7hdX422fBBHl/N502-CTCTCTAT-X-N701-TCGCCTTA_Pinsky-24gDNA-for-316-cycles-H2L52BCXY_2_Read_1_passed_filter.fastq:10748560\n",
      "/local/shared/pinsky_lab/sequencing/hiseq_2016_12_07_SEQ18/xVUAm7hdX422fBBHl/N503-TATCCTCT-X-N701-TCGCCTTA_Pinsky-24gDNA-for-316-cycles-H2L52BCXY_2_Read_4_passed_filter.fastq:11012644\n",
      "/local/shared/pinsky_lab/sequencing/hiseq_2016_12_07_SEQ18/xVUAm7hdX422fBBHl/N504-AGAGTAGAX-N703-TTCTGCCT_Pinsky-24gDNA-for-316-cycles-H2L52BCXY_2_Read_4_passed_filter.fastq:15073948\n",
      "/local/shared/pinsky_lab/sequencing/hiseq_2016_12_07_SEQ18/xVUAm7hdX422fBBHl/N503-TATCCTCT-X-N704-GCTCAGGA_Pinsky-24gDNA-for-316-cycles-H2L52BCXY_2_Read_4_passed_filter.fastq:6398166\n",
      "/local/shared/pinsky_lab/sequencing/hiseq_2016_12_07_SEQ18/xVUAm7hdX422fBBHl/N502-CTCTCTAT-X-N705-AGGAGTCC_Pinsky-24gDNA-for-316-cycles-H2L52BCXY_2_Read_4_passed_filter.fastq:6298951\n",
      "/local/shared/pinsky_lab/sequencing/hiseq_2016_12_07_SEQ18/xVUAm7hdX422fBBHl/N504-AGAGTAGA-X-N701-TCGCCTTA_Pinsky-24gDNA-for-316-cycles-H2L52BCXY_2_Read_4_passed_filter.fastq:6570913\n",
      "/local/shared/pinsky_lab/sequencing/hiseq_2016_12_07_SEQ18/xVUAm7hdX422fBBHl/N517-GCGTAAGA-X-N703-TTCTGCCT_Pinsky-24gDNA-for-316-cycles-H2L52BCXY_2_Read_4_passed_filter.fastq:10614634\n",
      "/local/shared/pinsky_lab/sequencing/hiseq_2016_12_07_SEQ18/xVUAm7hdX422fBBHl/N517-GCGTAAGA-X-N703-TTCTGCCT_Pinsky-24gDNA-for-316-cycles-H2L52BCXY_2_Read_1_passed_filter.fastq:9304414\n",
      "/local/shared/pinsky_lab/sequencing/hiseq_2016_12_07_SEQ18/xVUAm7hdX422fBBHl/N502-CTCTCTAT-X-N704-GCTCAGGA_Pinsky-24gDNA-for-316-cycles-H2L52BCXY_2_Read_4_passed_filter.fastq:7908353\n",
      "/local/shared/pinsky_lab/sequencing/hiseq_2016_12_07_SEQ18/xVUAm7hdX422fBBHl/N502-CTCTCTATX-N702-CTAGTACG_Pinsky-24gDNA-for-316-cycles-H2L52BCXY_2_Read_1_passed_filter.fastq:1200420\n",
      "/local/shared/pinsky_lab/sequencing/hiseq_2016_12_07_SEQ18/xVUAm7hdX422fBBHl/N502-CTCTCTAT-X-N703-TTCTGCCT_Pinsky-24gDNA-for-316-cycles-H2L52BCXY_2_Read_4_passed_filter.fastq:6829984\n",
      "/local/shared/pinsky_lab/sequencing/hiseq_2016_12_07_SEQ18/xVUAm7hdX422fBBHl/N503-TATCCTCT-X-N704-GCTCAGGA_Pinsky-24gDNA-for-316-cycles-H2L52BCXY_2_Read_1_passed_filter.fastq:5645877\n",
      "/local/shared/pinsky_lab/sequencing/hiseq_2016_12_07_SEQ18/xVUAm7hdX422fBBHl/N504-AGAGTAGAX-N704-GCTCAGGA_Pinsky-24gDNA-for-316-cycles-H2L52BCXY_2_Read_4_passed_filter.fastq:6787621\n",
      "/local/shared/pinsky_lab/sequencing/hiseq_2016_12_07_SEQ18/xVUAm7hdX422fBBHl/N504-AGAGTAGAX-N704-GCTCAGGA_Pinsky-24gDNA-for-316-cycles-H2L52BCXY_2_Read_1_passed_filter.fastq:5967939\n",
      "/local/shared/pinsky_lab/sequencing/hiseq_2016_12_07_SEQ18/xVUAm7hdX422fBBHl/N517-GCGTAAGA-X-N704-GCTCAGGA_Pinsky-24gDNA-for-316-cycles-H2L52BCXY_2_Read_4_passed_filter.fastq:5524306\n",
      "/local/shared/pinsky_lab/sequencing/hiseq_2016_12_07_SEQ18/xVUAm7hdX422fBBHl/N503-TATCCTCTX-N702-CTAGTACG_Pinsky-24gDNA-for-316-cycles-H2L52BCXY_2_Read_1_passed_filter.fastq:4315766\n",
      "/local/shared/pinsky_lab/sequencing/hiseq_2016_12_07_SEQ18/xVUAm7hdX422fBBHl/N504-AGAGTAGA-X-N706CATGCCTA_Pinsky-24gDNA-for-316-cycles-H2L52BCXY_2_Read_4_passed_filter.fastq:5393495\n",
      "/local/shared/pinsky_lab/sequencing/hiseq_2016_12_07_SEQ18/xVUAm7hdX422fBBHl/N517-GCGTAAGA-X-N704-GCTCAGGA_Pinsky-24gDNA-for-316-cycles-H2L52BCXY_2_Read_1_passed_filter.fastq:4837689\n",
      "/local/shared/pinsky_lab/sequencing/hiseq_2016_12_07_SEQ18/xVUAm7hdX422fBBHl/N502-CTCTCTAT-X-N706CATGCCTA_Pinsky-24gDNA-for-316-cycles-H2L52BCXY_2_Read_4_passed_filter.fastq:7793050\n",
      "/local/shared/pinsky_lab/sequencing/hiseq_2016_12_07_SEQ18/xVUAm7hdX422fBBHl/N517-GCGTAAGA-X-N702-CTAGTACG_Pinsky-24gDNA-for-316-cycles-H2L52BCXY_2_Read_1_passed_filter.fastq:14068786\n",
      "/local/shared/pinsky_lab/sequencing/hiseq_2016_12_07_SEQ18/xVUAm7hdX422fBBHl/N503-TATCCTCT-X-N703-TTCTGCCT_Pinsky-24gDNA-for-316-cycles-H2L52BCXY_2_Read_1_passed_filter.fastq:11060263\n",
      "/local/shared/pinsky_lab/sequencing/hiseq_2016_12_07_SEQ18/xVUAm7hdX422fBBHl/N504-AGAGTAGA-X-N706CATGCCTA_Pinsky-24gDNA-for-316-cycles-H2L52BCXY_2_Read_1_passed_filter.fastq:4817231\n",
      "/local/shared/pinsky_lab/sequencing/hiseq_2016_12_07_SEQ18/xVUAm7hdX422fBBHl/N503-TATCCTCT-X-N705-AGGAGTCC_Pinsky-24gDNA-for-316-cycles-H2L52BCXY_2_Read_1_passed_filter.fastq:6857600\n",
      "/local/shared/pinsky_lab/sequencing/hiseq_2016_12_07_SEQ18/xVUAm7hdX422fBBHl/N502-CTCTCTAT-X-N701-TCGCCTTA_Pinsky-24gDNA-for-316-cycles-H2L52BCXY_2_Read_4_passed_filter.fastq:11998213\n",
      "/local/shared/pinsky_lab/sequencing/hiseq_2016_12_07_SEQ18/xVUAm7hdX422fBBHl/N517-GCGTAAGA-X-N701-TCGCCTTA_Pinsky-24gDNA-for-316-cycles-H2L52BCXY_2_Read_1_passed_filter.fastq:1989242\n",
      "/local/shared/pinsky_lab/sequencing/hiseq_2016_12_07_SEQ18/xVUAm7hdX422fBBHl/N502-CTCTCTAT-X-N703-TTCTGCCT_Pinsky-24gDNA-for-316-cycles-H2L52BCXY_2_Read_1_passed_filter.fastq:5871675\n",
      "/local/shared/pinsky_lab/sequencing/hiseq_2016_12_07_SEQ18/xVUAm7hdX422fBBHl/N504-AGAGTAGA-X-N701-TCGCCTTA_Pinsky-24gDNA-for-316-cycles-H2L52BCXY_2_Read_1_passed_filter.fastq:5733007\n",
      "/local/shared/pinsky_lab/sequencing/hiseq_2016_12_07_SEQ18/xVUAm7hdX422fBBHl/N517-GCGTAAGA-X-N706CATGCCTA_Pinsky-24gDNA-for-316-cycles-H2L52BCXY_2_Read_4_passed_filter.fastq:9239365\n",
      "/local/shared/pinsky_lab/sequencing/hiseq_2016_12_07_SEQ18/xVUAm7hdX422fBBHl/N504-AGAGTAGAX-N702-CTAGTACG_Pinsky-24gDNA-for-316-cycles-H2L52BCXY_2_Read_1_passed_filter.fastq:4137022\n",
      "/local/shared/pinsky_lab/sequencing/hiseq_2016_12_07_SEQ18/xVUAm7hdX422fBBHl/N517-GCGTAAGA-X-N701-TCGCCTTA_Pinsky-24gDNA-for-316-cycles-H2L52BCXY_2_Read_4_passed_filter.fastq:2223761\n",
      "/local/shared/pinsky_lab/sequencing/hiseq_2016_12_07_SEQ18/xVUAm7hdX422fBBHl/N504-AGAGTAGA-X-N705-AGGAGTCC_Pinsky-24gDNA-for-316-cycles-H2L52BCXY_2_Read_4_passed_filter.fastq:5281302\n",
      "/local/shared/pinsky_lab/sequencing/hiseq_2016_12_07_SEQ18/xVUAm7hdX422fBBHl/N517-GCGTAAGA-X-N705-AGGAGTCC_Pinsky-24gDNA-for-316-cycles-H2L52BCXY_2_Read_4_passed_filter.fastq:8014143\n",
      "/local/shared/pinsky_lab/sequencing/hiseq_2016_12_07_SEQ18/xVUAm7hdX422fBBHl/N517-GCGTAAGA-X-N702-CTAGTACG_Pinsky-24gDNA-for-316-cycles-H2L52BCXY_2_Read_4_passed_filter.fastq:15743484\n",
      "/local/shared/pinsky_lab/sequencing/hiseq_2016_12_07_SEQ18/xVUAm7hdX422fBBHl/N517-GCGTAAGA-X-N705-AGGAGTCC_Pinsky-24gDNA-for-316-cycles-H2L52BCXY_2_Read_1_passed_filter.fastq:7118272\n",
      "/local/shared/pinsky_lab/sequencing/hiseq_2016_12_07_SEQ18/xVUAm7hdX422fBBHl/N502-CTCTCTAT-X-N705-AGGAGTCC_Pinsky-24gDNA-for-316-cycles-H2L52BCXY_2_Read_1_passed_filter.fastq:5544119\n",
      "/local/shared/pinsky_lab/sequencing/hiseq_2016_12_07_SEQ18/xVUAm7hdX422fBBHl/N502-CTCTCTAT-X-N706CATGCCTA_Pinsky-24gDNA-for-316-cycles-H2L52BCXY_2_Read_1_passed_filter.fastq:6901044\n",
      "/local/shared/pinsky_lab/sequencing/hiseq_2016_12_07_SEQ18/xVUAm7hdX422fBBHl/N502-CTCTCTAT-X-N704-GCTCAGGA_Pinsky-24gDNA-for-316-cycles-H2L52BCXY_2_Read_1_passed_filter.fastq:6976894\n",
      "/local/shared/pinsky_lab/sequencing/hiseq_2016_12_07_SEQ18/xVUAm7hdX422fBBHl/N503-TATCCTCT-X-N701-TCGCCTTA_Pinsky-24gDNA-for-316-cycles-H2L52BCXY_2_Read_1_passed_filter.fastq:9846632\n",
      "/local/shared/pinsky_lab/sequencing/hiseq_2016_12_07_SEQ18/xVUAm7hdX422fBBHl/N503-TATCCTCT-X-N706CATGCCTA_Pinsky-24gDNA-for-316-cycles-H2L52BCXY_2_Read_1_passed_filter.fastq:7793620\n",
      "/local/shared/pinsky_lab/sequencing/hiseq_2016_12_07_SEQ18/xVUAm7hdX422fBBHl/unmatched_Pinsky-24gDNA-for-316-cycles-H2L52BCXY_2_Read_4_passed_filter.fastq:6998460\n",
      "/local/shared/pinsky_lab/sequencing/hiseq_2016_12_07_SEQ18/xVUAm7hdX422fBBHl/N502-CTCTCTATX-N702-CTAGTACG_Pinsky-24gDNA-for-316-cycles-H2L52BCXY_2_Read_4_passed_filter.fastq:1379795\n",
      "/local/shared/pinsky_lab/sequencing/hiseq_2016_12_07_SEQ18/xVUAm7hdX422fBBHl/unmatched_Pinsky-24gDNA-for-316-cycles-H2L52BCXY_2_Read_1_passed_filter.fastq:7286303\n",
      "/local/shared/pinsky_lab/sequencing/hiseq_2016_12_07_SEQ18/xVUAm7hdX422fBBHl/index.html:0\n",
      "/local/shared/pinsky_lab/sequencing/hiseq_2016_12_07_SEQ18/xVUAm7hdX422fBBHl/N503-TATCCTCT-X-N703-TTCTGCCT_Pinsky-24gDNA-for-316-cycles-H2L52BCXY_2_Read_4_passed_filter.fastq:12592913\n",
      "/local/shared/pinsky_lab/sequencing/hiseq_2016_12_07_SEQ18/xVUAm7hdX422fBBHl/N503-TATCCTCTX-N702-CTAGTACG_Pinsky-24gDNA-for-316-cycles-H2L52BCXY_2_Read_4_passed_filter.fastq:4926967\n",
      "/local/shared/pinsky_lab/sequencing/hiseq_2016_12_07_SEQ18/xVUAm7hdX422fBBHl/N503-TATCCTCT-X-N705-AGGAGTCC_Pinsky-24gDNA-for-316-cycles-H2L52BCXY_2_Read_4_passed_filter.fastq:7665919\n"
     ]
    }
   ],
   "source": [
    "!grep -c @ -r /local/shared/pinsky_lab/sequencing/hiseq_2016_12_07_SEQ18/xVUAm7hdX422fBBHl/"
   ]
  },
  {
   "cell_type": "code",
   "execution_count": 17,
   "metadata": {
    "collapsed": false,
    "scrolled": false
   },
   "outputs": [],
   "source": [
    "! mkdir ~/WGS"
   ]
  },
  {
   "cell_type": "code",
   "execution_count": 18,
   "metadata": {
    "collapsed": true,
    "scrolled": false
   },
   "outputs": [],
   "source": [
    "! mkdir /local/home/sarahgw/WGS/Sequences"
   ]
  },
  {
   "cell_type": "code",
   "execution_count": 19,
   "metadata": {
    "collapsed": true,
    "scrolled": false
   },
   "outputs": [],
   "source": [
    "! mkdir /local/home/sarahgw/WGS/Sequences/hiseq_2016_12_07/"
   ]
  },
  {
   "cell_type": "code",
   "execution_count": 20,
   "metadata": {
    "collapsed": true,
    "scrolled": false
   },
   "outputs": [],
   "source": [
    "! cp -r /local/shared/pinsky_lab/sequencing/hiseq_2016_12_07_SEQ18/xVUAm7hdX422fBBHl/* /local/home/sarahgw/WGS/Sequences/hiseq_2016_12_07/"
   ]
  },
  {
   "cell_type": "code",
   "execution_count": 21,
   "metadata": {
    "collapsed": false,
    "scrolled": true
   },
   "outputs": [
    {
     "name": "stdout",
     "output_type": "stream",
     "text": [
      "index.html\r\n",
      "N502-CTCTCTAT-X-N701-TCGCCTTA_Pinsky-24gDNA-for-316-cycles-H2L52BCXY_2_Read_1_passed_filter.fastq\r\n",
      "N502-CTCTCTAT-X-N701-TCGCCTTA_Pinsky-24gDNA-for-316-cycles-H2L52BCXY_2_Read_4_passed_filter.fastq\r\n",
      "N502-CTCTCTATX-N702-CTAGTACG_Pinsky-24gDNA-for-316-cycles-H2L52BCXY_2_Read_1_passed_filter.fastq\r\n",
      "N502-CTCTCTATX-N702-CTAGTACG_Pinsky-24gDNA-for-316-cycles-H2L52BCXY_2_Read_4_passed_filter.fastq\r\n",
      "N502-CTCTCTAT-X-N703-TTCTGCCT_Pinsky-24gDNA-for-316-cycles-H2L52BCXY_2_Read_1_passed_filter.fastq\r\n",
      "N502-CTCTCTAT-X-N703-TTCTGCCT_Pinsky-24gDNA-for-316-cycles-H2L52BCXY_2_Read_4_passed_filter.fastq\r\n",
      "N502-CTCTCTAT-X-N704-GCTCAGGA_Pinsky-24gDNA-for-316-cycles-H2L52BCXY_2_Read_1_passed_filter.fastq\r\n",
      "N502-CTCTCTAT-X-N704-GCTCAGGA_Pinsky-24gDNA-for-316-cycles-H2L52BCXY_2_Read_4_passed_filter.fastq\r\n",
      "N502-CTCTCTAT-X-N705-AGGAGTCC_Pinsky-24gDNA-for-316-cycles-H2L52BCXY_2_Read_1_passed_filter.fastq\r\n",
      "N502-CTCTCTAT-X-N705-AGGAGTCC_Pinsky-24gDNA-for-316-cycles-H2L52BCXY_2_Read_4_passed_filter.fastq\r\n",
      "N502-CTCTCTAT-X-N706CATGCCTA_Pinsky-24gDNA-for-316-cycles-H2L52BCXY_2_Read_1_passed_filter.fastq\r\n",
      "N502-CTCTCTAT-X-N706CATGCCTA_Pinsky-24gDNA-for-316-cycles-H2L52BCXY_2_Read_4_passed_filter.fastq\r\n",
      "N503-TATCCTCT-X-N701-TCGCCTTA_Pinsky-24gDNA-for-316-cycles-H2L52BCXY_2_Read_1_passed_filter.fastq\r\n",
      "N503-TATCCTCT-X-N701-TCGCCTTA_Pinsky-24gDNA-for-316-cycles-H2L52BCXY_2_Read_4_passed_filter.fastq\r\n",
      "N503-TATCCTCTX-N702-CTAGTACG_Pinsky-24gDNA-for-316-cycles-H2L52BCXY_2_Read_1_passed_filter.fastq\r\n",
      "N503-TATCCTCTX-N702-CTAGTACG_Pinsky-24gDNA-for-316-cycles-H2L52BCXY_2_Read_4_passed_filter.fastq\r\n",
      "N503-TATCCTCT-X-N703-TTCTGCCT_Pinsky-24gDNA-for-316-cycles-H2L52BCXY_2_Read_1_passed_filter.fastq\r\n",
      "N503-TATCCTCT-X-N703-TTCTGCCT_Pinsky-24gDNA-for-316-cycles-H2L52BCXY_2_Read_4_passed_filter.fastq\r\n",
      "N503-TATCCTCT-X-N704-GCTCAGGA_Pinsky-24gDNA-for-316-cycles-H2L52BCXY_2_Read_1_passed_filter.fastq\r\n",
      "N503-TATCCTCT-X-N704-GCTCAGGA_Pinsky-24gDNA-for-316-cycles-H2L52BCXY_2_Read_4_passed_filter.fastq\r\n",
      "N503-TATCCTCT-X-N705-AGGAGTCC_Pinsky-24gDNA-for-316-cycles-H2L52BCXY_2_Read_1_passed_filter.fastq\r\n",
      "N503-TATCCTCT-X-N705-AGGAGTCC_Pinsky-24gDNA-for-316-cycles-H2L52BCXY_2_Read_4_passed_filter.fastq\r\n",
      "N503-TATCCTCT-X-N706CATGCCTA_Pinsky-24gDNA-for-316-cycles-H2L52BCXY_2_Read_1_passed_filter.fastq\r\n",
      "N503-TATCCTCT-X-N706CATGCCTA_Pinsky-24gDNA-for-316-cycles-H2L52BCXY_2_Read_4_passed_filter.fastq\r\n",
      "N504-AGAGTAGA-X-N701-TCGCCTTA_Pinsky-24gDNA-for-316-cycles-H2L52BCXY_2_Read_1_passed_filter.fastq\r\n",
      "N504-AGAGTAGA-X-N701-TCGCCTTA_Pinsky-24gDNA-for-316-cycles-H2L52BCXY_2_Read_4_passed_filter.fastq\r\n",
      "N504-AGAGTAGAX-N702-CTAGTACG_Pinsky-24gDNA-for-316-cycles-H2L52BCXY_2_Read_1_passed_filter.fastq\r\n",
      "N504-AGAGTAGAX-N702-CTAGTACG_Pinsky-24gDNA-for-316-cycles-H2L52BCXY_2_Read_4_passed_filter.fastq\r\n",
      "N504-AGAGTAGAX-N703-TTCTGCCT_Pinsky-24gDNA-for-316-cycles-H2L52BCXY_2_Read_1_passed_filter.fastq\r\n",
      "N504-AGAGTAGAX-N703-TTCTGCCT_Pinsky-24gDNA-for-316-cycles-H2L52BCXY_2_Read_4_passed_filter.fastq\r\n",
      "N504-AGAGTAGAX-N704-GCTCAGGA_Pinsky-24gDNA-for-316-cycles-H2L52BCXY_2_Read_1_passed_filter.fastq\r\n",
      "N504-AGAGTAGAX-N704-GCTCAGGA_Pinsky-24gDNA-for-316-cycles-H2L52BCXY_2_Read_4_passed_filter.fastq\r\n",
      "N504-AGAGTAGA-X-N705-AGGAGTCC_Pinsky-24gDNA-for-316-cycles-H2L52BCXY_2_Read_1_passed_filter.fastq\r\n",
      "N504-AGAGTAGA-X-N705-AGGAGTCC_Pinsky-24gDNA-for-316-cycles-H2L52BCXY_2_Read_4_passed_filter.fastq\r\n",
      "N504-AGAGTAGA-X-N706CATGCCTA_Pinsky-24gDNA-for-316-cycles-H2L52BCXY_2_Read_1_passed_filter.fastq\r\n",
      "N504-AGAGTAGA-X-N706CATGCCTA_Pinsky-24gDNA-for-316-cycles-H2L52BCXY_2_Read_4_passed_filter.fastq\r\n",
      "N517-GCGTAAGA-X-N701-TCGCCTTA_Pinsky-24gDNA-for-316-cycles-H2L52BCXY_2_Read_1_passed_filter.fastq\r\n",
      "N517-GCGTAAGA-X-N701-TCGCCTTA_Pinsky-24gDNA-for-316-cycles-H2L52BCXY_2_Read_4_passed_filter.fastq\r\n",
      "N517-GCGTAAGA-X-N702-CTAGTACG_Pinsky-24gDNA-for-316-cycles-H2L52BCXY_2_Read_1_passed_filter.fastq\r\n",
      "N517-GCGTAAGA-X-N702-CTAGTACG_Pinsky-24gDNA-for-316-cycles-H2L52BCXY_2_Read_4_passed_filter.fastq\r\n",
      "N517-GCGTAAGA-X-N703-TTCTGCCT_Pinsky-24gDNA-for-316-cycles-H2L52BCXY_2_Read_1_passed_filter.fastq\r\n",
      "N517-GCGTAAGA-X-N703-TTCTGCCT_Pinsky-24gDNA-for-316-cycles-H2L52BCXY_2_Read_4_passed_filter.fastq\r\n",
      "N517-GCGTAAGA-X-N704-GCTCAGGA_Pinsky-24gDNA-for-316-cycles-H2L52BCXY_2_Read_1_passed_filter.fastq\r\n",
      "N517-GCGTAAGA-X-N704-GCTCAGGA_Pinsky-24gDNA-for-316-cycles-H2L52BCXY_2_Read_4_passed_filter.fastq\r\n",
      "N517-GCGTAAGA-X-N705-AGGAGTCC_Pinsky-24gDNA-for-316-cycles-H2L52BCXY_2_Read_1_passed_filter.fastq\r\n",
      "N517-GCGTAAGA-X-N705-AGGAGTCC_Pinsky-24gDNA-for-316-cycles-H2L52BCXY_2_Read_4_passed_filter.fastq\r\n",
      "N517-GCGTAAGA-X-N706CATGCCTA_Pinsky-24gDNA-for-316-cycles-H2L52BCXY_2_Read_1_passed_filter.fastq\r\n",
      "N517-GCGTAAGA-X-N706CATGCCTA_Pinsky-24gDNA-for-316-cycles-H2L52BCXY_2_Read_4_passed_filter.fastq\r\n",
      "unmatched_Pinsky-24gDNA-for-316-cycles-H2L52BCXY_2_Read_1_passed_filter.fastq\r\n",
      "unmatched_Pinsky-24gDNA-for-316-cycles-H2L52BCXY_2_Read_4_passed_filter.fastq\r\n"
     ]
    }
   ],
   "source": [
    "!ls /local/home/sarahgw/WGS/Sequences/hiseq_2016_12_07/"
   ]
  },
  {
   "cell_type": "code",
   "execution_count": 31,
   "metadata": {
    "collapsed": false,
    "scrolled": false
   },
   "outputs": [],
   "source": [
    "!rename '_Pinsky-24gDNA-for-316-cycles-H2L52BCXY_2_' '' /local/home/sarahgw/WGS/Sequences/hiseq_2016_12_07/*"
   ]
  },
  {
   "cell_type": "code",
   "execution_count": 33,
   "metadata": {
    "collapsed": true,
    "scrolled": false
   },
   "outputs": [],
   "source": [
    "!rename 'Read_1_passed_filter' '_Read1' /local/home/sarahgw/WGS/Sequences/hiseq_2016_12_07/*"
   ]
  },
  {
   "cell_type": "code",
   "execution_count": 35,
   "metadata": {
    "collapsed": true,
    "scrolled": false
   },
   "outputs": [],
   "source": [
    "!rename 'Read_4_passed_filter' '_Read2' /local/home/sarahgw/WGS/Sequences/hiseq_2016_12_07/*"
   ]
  },
  {
   "cell_type": "code",
   "execution_count": 36,
   "metadata": {
    "collapsed": false,
    "scrolled": true
   },
   "outputs": [
    {
     "name": "stdout",
     "output_type": "stream",
     "text": [
      "index.html\r\n",
      "N502-CTCTCTAT-X-N701-TCGCCTTA_Read1.fastq\r\n",
      "N502-CTCTCTAT-X-N701-TCGCCTTA_Read2.fastq\r\n",
      "N502-CTCTCTATX-N702-CTAGTACG_Read1.fastq\r\n",
      "N502-CTCTCTATX-N702-CTAGTACG_Read2.fastq\r\n",
      "N502-CTCTCTAT-X-N703-TTCTGCCT_Read1.fastq\r\n",
      "N502-CTCTCTAT-X-N703-TTCTGCCT_Read2.fastq\r\n",
      "N502-CTCTCTAT-X-N704-GCTCAGGA_Read1.fastq\r\n",
      "N502-CTCTCTAT-X-N704-GCTCAGGA_Read2.fastq\r\n",
      "N502-CTCTCTAT-X-N705-AGGAGTCC_Read1.fastq\r\n",
      "N502-CTCTCTAT-X-N705-AGGAGTCC_Read2.fastq\r\n",
      "N502-CTCTCTAT-X-N706CATGCCTA_Read1.fastq\r\n",
      "N502-CTCTCTAT-X-N706CATGCCTA_Read2.fastq\r\n",
      "N503-TATCCTCT-X-N701-TCGCCTTA_Read1.fastq\r\n",
      "N503-TATCCTCT-X-N701-TCGCCTTA_Read2.fastq\r\n",
      "N503-TATCCTCTX-N702-CTAGTACG_Read1.fastq\r\n",
      "N503-TATCCTCTX-N702-CTAGTACG_Read2.fastq\r\n",
      "N503-TATCCTCT-X-N703-TTCTGCCT_Read1.fastq\r\n",
      "N503-TATCCTCT-X-N703-TTCTGCCT_Read2.fastq\r\n",
      "N503-TATCCTCT-X-N704-GCTCAGGA_Read1.fastq\r\n",
      "N503-TATCCTCT-X-N704-GCTCAGGA_Read2.fastq\r\n",
      "N503-TATCCTCT-X-N705-AGGAGTCC_Read1.fastq\r\n",
      "N503-TATCCTCT-X-N705-AGGAGTCC_Read2.fastq\r\n",
      "N503-TATCCTCT-X-N706CATGCCTA_Read1.fastq\r\n",
      "N503-TATCCTCT-X-N706CATGCCTA_Read2.fastq\r\n",
      "N504-AGAGTAGA-X-N701-TCGCCTTA_Read1.fastq\r\n",
      "N504-AGAGTAGA-X-N701-TCGCCTTA_Read2.fastq\r\n",
      "N504-AGAGTAGAX-N702-CTAGTACG_Read1.fastq\r\n",
      "N504-AGAGTAGAX-N702-CTAGTACG_Read2.fastq\r\n",
      "N504-AGAGTAGAX-N703-TTCTGCCT_Read1.fastq\r\n",
      "N504-AGAGTAGAX-N703-TTCTGCCT_Read2.fastq\r\n",
      "N504-AGAGTAGAX-N704-GCTCAGGA_Read1.fastq\r\n",
      "N504-AGAGTAGAX-N704-GCTCAGGA_Read2.fastq\r\n",
      "N504-AGAGTAGA-X-N705-AGGAGTCC_Read1.fastq\r\n",
      "N504-AGAGTAGA-X-N705-AGGAGTCC_Read2.fastq\r\n",
      "N504-AGAGTAGA-X-N706CATGCCTA_Read1.fastq\r\n",
      "N504-AGAGTAGA-X-N706CATGCCTA_Read2.fastq\r\n",
      "N517-GCGTAAGA-X-N701-TCGCCTTA_Read1.fastq\r\n",
      "N517-GCGTAAGA-X-N701-TCGCCTTA_Read2.fastq\r\n",
      "N517-GCGTAAGA-X-N702-CTAGTACG_Read1.fastq\r\n",
      "N517-GCGTAAGA-X-N702-CTAGTACG_Read2.fastq\r\n",
      "N517-GCGTAAGA-X-N703-TTCTGCCT_Read1.fastq\r\n",
      "N517-GCGTAAGA-X-N703-TTCTGCCT_Read2.fastq\r\n",
      "N517-GCGTAAGA-X-N704-GCTCAGGA_Read1.fastq\r\n",
      "N517-GCGTAAGA-X-N704-GCTCAGGA_Read2.fastq\r\n",
      "N517-GCGTAAGA-X-N705-AGGAGTCC_Read1.fastq\r\n",
      "N517-GCGTAAGA-X-N705-AGGAGTCC_Read2.fastq\r\n",
      "N517-GCGTAAGA-X-N706CATGCCTA_Read1.fastq\r\n",
      "N517-GCGTAAGA-X-N706CATGCCTA_Read2.fastq\r\n",
      "NJ_E_23\r\n",
      "unmatched_Read1.fastq\r\n",
      "unmatched_Read2.fastq\r\n"
     ]
    }
   ],
   "source": [
    "!ls /local/home/sarahgw/WGS/Sequences/hiseq_2016_12_07/"
   ]
  },
  {
   "cell_type": "markdown",
   "metadata": {},
   "source": [
    "There's obviously a better way to do this, but I've already wasted an hour figuring it out and im impatient right now. Figure it out later for when you have all of the samples!"
   ]
  },
  {
   "cell_type": "code",
   "execution_count": 22,
   "metadata": {
    "collapsed": true,
    "scrolled": false
   },
   "outputs": [],
   "source": [
    "! mkdir /local/home/sarahgw/WGS/Sequences/hiseq_2016_12_07/NJ_E_23"
   ]
  },
  {
   "cell_type": "code",
   "execution_count": 37,
   "metadata": {
    "collapsed": true,
    "scrolled": false
   },
   "outputs": [],
   "source": [
    "!mv /local/home/sarahgw/WGS/Sequences/hiseq_2016_12_07/N502-CTCTCTAT-X-N701-TCGCCTTA_Read1.fastq /local/home/sarahgw/WGS/Sequences/hiseq_2016_12_07/NJ_E_23"
   ]
  },
  {
   "cell_type": "code",
   "execution_count": 39,
   "metadata": {
    "collapsed": true,
    "scrolled": false
   },
   "outputs": [],
   "source": [
    "!mv /local/home/sarahgw/WGS/Sequences/hiseq_2016_12_07/N502-CTCTCTAT-X-N701-TCGCCTTA_Read2.fastq /local/home/sarahgw/WGS/Sequences/hiseq_2016_12_07/NJ_E_23"
   ]
  },
  {
   "cell_type": "code",
   "execution_count": 40,
   "metadata": {
    "collapsed": false,
    "scrolled": false
   },
   "outputs": [
    {
     "name": "stdout",
     "output_type": "stream",
     "text": [
      "N502-CTCTCTAT-X-N701-TCGCCTTA_Read1.fastq\r\n",
      "N502-CTCTCTAT-X-N701-TCGCCTTA_Read2.fastq\r\n"
     ]
    }
   ],
   "source": [
    "!ls /local/home/sarahgw/WGS/Sequences/hiseq_2016_12_07/NJ_E_23/"
   ]
  },
  {
   "cell_type": "code",
   "execution_count": 1,
   "metadata": {
    "collapsed": true,
    "scrolled": false
   },
   "outputs": [],
   "source": [
    "! mkdir /local/home/sarahgw/WGS/Sequences/hiseq_2016_12_07/NJ_E_27"
   ]
  },
  {
   "cell_type": "code",
   "execution_count": 2,
   "metadata": {
    "collapsed": true,
    "scrolled": false
   },
   "outputs": [],
   "source": [
    "!mv /local/home/sarahgw/WGS/Sequences/hiseq_2016_12_07/N502-CTCTCTATX-N702-CTAGTACG_Read1.fastq /local/home/sarahgw/WGS/Sequences/hiseq_2016_12_07/NJ_E_27"
   ]
  },
  {
   "cell_type": "code",
   "execution_count": 3,
   "metadata": {
    "collapsed": true,
    "scrolled": false
   },
   "outputs": [],
   "source": [
    "!mv /local/home/sarahgw/WGS/Sequences/hiseq_2016_12_07/N502-CTCTCTATX-N702-CTAGTACG_Read2.fastq /local/home/sarahgw/WGS/Sequences/hiseq_2016_12_07/NJ_E_27"
   ]
  },
  {
   "cell_type": "code",
   "execution_count": 4,
   "metadata": {
    "collapsed": false,
    "scrolled": false
   },
   "outputs": [
    {
     "name": "stdout",
     "output_type": "stream",
     "text": [
      "N502-CTCTCTATX-N702-CTAGTACG_Read1.fastq\r\n",
      "N502-CTCTCTATX-N702-CTAGTACG_Read2.fastq\r\n"
     ]
    }
   ],
   "source": [
    "!ls /local/home/sarahgw/WGS/Sequences/hiseq_2016_12_07/NJ_E_27"
   ]
  },
  {
   "cell_type": "code",
   "execution_count": 2,
   "metadata": {
    "collapsed": false,
    "scrolled": false
   },
   "outputs": [
    {
     "name": "stdout",
     "output_type": "stream",
     "text": [
      "mkdir: cannot create directory `/local/home/sarahgw/WGS/Sequences/hiseq_2016_12_07/NJ_U_01/': File exists\r\n"
     ]
    }
   ],
   "source": [
    "! mkdir /local/home/sarahgw/WGS/Sequences/hiseq_2016_12_07/NJ_U_01/"
   ]
  },
  {
   "cell_type": "code",
   "execution_count": null,
   "metadata": {
    "collapsed": false,
    "scrolled": false
   },
   "outputs": [],
   "source": [
    "!mv /local/home/sarahgw/WGS/Sequences/hiseq_2016_12_07/N502-CTCTCTAT-X-N703-TTCTGCCT_Read1.fastq /local/home/sarahgw/WGS/Sequences/hiseq_2016_12_07/NJ_U_01"
   ]
  },
  {
   "cell_type": "code",
   "execution_count": 7,
   "metadata": {
    "collapsed": true,
    "scrolled": false
   },
   "outputs": [],
   "source": [
    "!mv /local/home/sarahgw/WGS/Sequences/hiseq_2016_12_07/N502-CTCTCTAT-X-N703-TTCTGCCT_Read2.fastq /local/home/sarahgw/WGS/Sequences/hiseq_2016_12_07/NJ_U_01"
   ]
  },
  {
   "cell_type": "code",
   "execution_count": 10,
   "metadata": {
    "collapsed": true,
    "scrolled": false
   },
   "outputs": [],
   "source": [
    "! mkdir /local/home/sarahgw/WGS/Sequences/hiseq_2016_12_07/NJ_U_05"
   ]
  },
  {
   "cell_type": "code",
   "execution_count": 13,
   "metadata": {
    "collapsed": false,
    "scrolled": false
   },
   "outputs": [],
   "source": [
    "!mv /local/home/sarahgw/WGS/Sequences/hiseq_2016_12_07/N502-CTCTCTAT-X-N704-GCTCAGGA_Read*.fastq /local/home/sarahgw/WGS/Sequences/hiseq_2016_12_07/NJ_U_05"
   ]
  },
  {
   "cell_type": "code",
   "execution_count": 14,
   "metadata": {
    "collapsed": false,
    "scrolled": false
   },
   "outputs": [
    {
     "name": "stdout",
     "output_type": "stream",
     "text": [
      "N502-CTCTCTAT-X-N704-GCTCAGGA_Read1.fastq\r\n",
      "N502-CTCTCTAT-X-N704-GCTCAGGA_Read2.fastq\r\n"
     ]
    }
   ],
   "source": [
    "!ls /local/home/sarahgw/WGS/Sequences/hiseq_2016_12_07/NJ_U_05/"
   ]
  },
  {
   "cell_type": "code",
   "execution_count": 16,
   "metadata": {
    "collapsed": true,
    "scrolled": false
   },
   "outputs": [],
   "source": [
    "! mkdir /local/home/sarahgw/WGS/Sequences/hiseq_2016_12_07/NJ_U_09"
   ]
  },
  {
   "cell_type": "code",
   "execution_count": 17,
   "metadata": {
    "collapsed": true,
    "scrolled": false
   },
   "outputs": [],
   "source": [
    "!mv /local/home/sarahgw/WGS/Sequences/hiseq_2016_12_07/N502-CTCTCTAT-X-N705-AGGAGTCC_Read*.fastq /local/home/sarahgw/WGS/Sequences/hiseq_2016_12_07/NJ_U_09"
   ]
  },
  {
   "cell_type": "code",
   "execution_count": 18,
   "metadata": {
    "collapsed": true,
    "scrolled": false
   },
   "outputs": [],
   "source": [
    "! mkdir /local/home/sarahgw/WGS/Sequences/hiseq_2016_12_07/NJ_U_14"
   ]
  },
  {
   "cell_type": "code",
   "execution_count": 19,
   "metadata": {
    "collapsed": true,
    "scrolled": false
   },
   "outputs": [],
   "source": [
    "!mv /local/home/sarahgw/WGS/Sequences/hiseq_2016_12_07/N502-CTCTCTAT-X-N706CATGCCTA_Read*.fastq /local/home/sarahgw/WGS/Sequences/hiseq_2016_12_07/NJ_U_14"
   ]
  },
  {
   "cell_type": "code",
   "execution_count": 20,
   "metadata": {
    "collapsed": true,
    "scrolled": false
   },
   "outputs": [],
   "source": [
    "! mkdir /local/home/sarahgw/WGS/Sequences/hiseq_2016_12_07/NJ_E_24"
   ]
  },
  {
   "cell_type": "code",
   "execution_count": 21,
   "metadata": {
    "collapsed": true,
    "scrolled": false
   },
   "outputs": [],
   "source": [
    "!mv /local/home/sarahgw/WGS/Sequences/hiseq_2016_12_07/N503-TATCCTCT-X-N701-TCGCCTTA_Read*.fastq /local/home/sarahgw/WGS/Sequences/hiseq_2016_12_07/NJ_E_24/"
   ]
  },
  {
   "cell_type": "code",
   "execution_count": 22,
   "metadata": {
    "collapsed": true,
    "scrolled": false
   },
   "outputs": [],
   "source": [
    "! mkdir /local/home/sarahgw/WGS/Sequences/hiseq_2016_12_07/NJ_E_28"
   ]
  },
  {
   "cell_type": "code",
   "execution_count": null,
   "metadata": {
    "collapsed": false,
    "scrolled": false
   },
   "outputs": [],
   "source": [
    "!mv /local/home/sarahgw/WGS/Sequences/hiseq_2016_12_07/N503-TATCCTCTX-N702-CTAGTACG_Read*.fastq /local/home/sarahgw/WGS/Sequences/hiseq_2016_12_07/NJ_E_28/"
   ]
  },
  {
   "cell_type": "code",
   "execution_count": 25,
   "metadata": {
    "collapsed": true
   },
   "outputs": [],
   "source": [
    "! mkdir /local/home/sarahgw/WGS/Sequences/hiseq_2016_12_07/NJ_U_02"
   ]
  },
  {
   "cell_type": "code",
   "execution_count": 26,
   "metadata": {
    "collapsed": true,
    "scrolled": false
   },
   "outputs": [],
   "source": [
    "!mv /local/home/sarahgw/WGS/Sequences/hiseq_2016_12_07/N503-TATCCTCT-X-N703-TTCTGCCT_Read*.fastq /local/home/sarahgw/WGS/Sequences/hiseq_2016_12_07/NJ_U_02/"
   ]
  },
  {
   "cell_type": "code",
   "execution_count": 27,
   "metadata": {
    "collapsed": true
   },
   "outputs": [],
   "source": [
    "! mkdir /local/home/sarahgw/WGS/Sequences/hiseq_2016_12_07/NJ_U_06"
   ]
  },
  {
   "cell_type": "code",
   "execution_count": 28,
   "metadata": {
    "collapsed": true
   },
   "outputs": [],
   "source": [
    "!mv /local/home/sarahgw/WGS/Sequences/hiseq_2016_12_07/N503-TATCCTCT-X-N704-GCTCAGGA_Read*.fastq /local/home/sarahgw/WGS/Sequences/hiseq_2016_12_07/NJ_U_06/"
   ]
  },
  {
   "cell_type": "code",
   "execution_count": 29,
   "metadata": {
    "collapsed": true
   },
   "outputs": [],
   "source": [
    "! mkdir /local/home/sarahgw/WGS/Sequences/hiseq_2016_12_07/NJ_U_10"
   ]
  },
  {
   "cell_type": "code",
   "execution_count": 30,
   "metadata": {
    "collapsed": true
   },
   "outputs": [],
   "source": [
    "!mv /local/home/sarahgw/WGS/Sequences/hiseq_2016_12_07/N503-TATCCTCT-X-N705-AGGAGTCC_Read*.fastq /local/home/sarahgw/WGS/Sequences/hiseq_2016_12_07/NJ_U_10/"
   ]
  },
  {
   "cell_type": "code",
   "execution_count": 31,
   "metadata": {
    "collapsed": true
   },
   "outputs": [],
   "source": [
    "! mkdir /local/home/sarahgw/WGS/Sequences/hiseq_2016_12_07/NJ_U_15"
   ]
  },
  {
   "cell_type": "code",
   "execution_count": 32,
   "metadata": {
    "collapsed": true
   },
   "outputs": [],
   "source": [
    "!mv /local/home/sarahgw/WGS/Sequences/hiseq_2016_12_07/N503-TATCCTCT-X-N706CATGCCTA_Read*.fastq /local/home/sarahgw/WGS/Sequences/hiseq_2016_12_07/NJ_U_15/"
   ]
  },
  {
   "cell_type": "code",
   "execution_count": 33,
   "metadata": {
    "collapsed": true
   },
   "outputs": [],
   "source": [
    "! mkdir /local/home/sarahgw/WGS/Sequences/hiseq_2016_12_07/NJ_E_25"
   ]
  },
  {
   "cell_type": "code",
   "execution_count": 36,
   "metadata": {
    "collapsed": false
   },
   "outputs": [],
   "source": [
    "!mv /local/home/sarahgw/WGS/Sequences/hiseq_2016_12_07/NJ_U_15/N504-AGAGTAGA-X-N701-TCGCCTTA_Read*.fastq /local/home/sarahgw/WGS/Sequences/hiseq_2016_12_07/NJ_E_25/"
   ]
  },
  {
   "cell_type": "code",
   "execution_count": 37,
   "metadata": {
    "collapsed": true
   },
   "outputs": [],
   "source": [
    "! mkdir /local/home/sarahgw/WGS/Sequences/hiseq_2016_12_07/NJ_E_29"
   ]
  },
  {
   "cell_type": "code",
   "execution_count": 38,
   "metadata": {
    "collapsed": true
   },
   "outputs": [],
   "source": [
    "!mv /local/home/sarahgw/WGS/Sequences/hiseq_2016_12_07/N504-AGAGTAGAX-N702-CTAGTACG_Read*.fastq /local/home/sarahgw/WGS/Sequences/hiseq_2016_12_07/NJ_E_29/"
   ]
  },
  {
   "cell_type": "code",
   "execution_count": 39,
   "metadata": {
    "collapsed": true
   },
   "outputs": [],
   "source": [
    "! mkdir /local/home/sarahgw/WGS/Sequences/hiseq_2016_12_07/NJ_U_03"
   ]
  },
  {
   "cell_type": "code",
   "execution_count": 40,
   "metadata": {
    "collapsed": true
   },
   "outputs": [],
   "source": [
    "!mv /local/home/sarahgw/WGS/Sequences/hiseq_2016_12_07/N504-AGAGTAGAX-N703-TTCTGCCT_Read*.fastq /local/home/sarahgw/WGS/Sequences/hiseq_2016_12_07/NJ_U_03"
   ]
  },
  {
   "cell_type": "code",
   "execution_count": 41,
   "metadata": {
    "collapsed": true
   },
   "outputs": [],
   "source": [
    "! mkdir /local/home/sarahgw/WGS/Sequences/hiseq_2016_12_07/NJ_U_07"
   ]
  },
  {
   "cell_type": "code",
   "execution_count": 42,
   "metadata": {
    "collapsed": true
   },
   "outputs": [],
   "source": [
    "!mv /local/home/sarahgw/WGS/Sequences/hiseq_2016_12_07/N504-AGAGTAGAX-N704-GCTCAGGA_Read*.fastq /local/home/sarahgw/WGS/Sequences/hiseq_2016_12_07/NJ_U_07"
   ]
  },
  {
   "cell_type": "code",
   "execution_count": 43,
   "metadata": {
    "collapsed": true
   },
   "outputs": [],
   "source": [
    "! mkdir /local/home/sarahgw/WGS/Sequences/hiseq_2016_12_07/NJ_U_11"
   ]
  },
  {
   "cell_type": "code",
   "execution_count": 44,
   "metadata": {
    "collapsed": true
   },
   "outputs": [],
   "source": [
    "!mv /local/home/sarahgw/WGS/Sequences/hiseq_2016_12_07/N504-AGAGTAGA-X-N705-AGGAGTCC_Read*.fastq /local/home/sarahgw/WGS/Sequences/hiseq_2016_12_07/NJ_U_11"
   ]
  },
  {
   "cell_type": "code",
   "execution_count": 45,
   "metadata": {
    "collapsed": true
   },
   "outputs": [],
   "source": [
    "! mkdir /local/home/sarahgw/WGS/Sequences/hiseq_2016_12_07/NJ_U_16"
   ]
  },
  {
   "cell_type": "code",
   "execution_count": 46,
   "metadata": {
    "collapsed": true
   },
   "outputs": [],
   "source": [
    "!mv /local/home/sarahgw/WGS/Sequences/hiseq_2016_12_07/N504-AGAGTAGA-X-N706CATGCCTA_Read*.fastq /local/home/sarahgw/WGS/Sequences/hiseq_2016_12_07/NJ_U_16"
   ]
  },
  {
   "cell_type": "code",
   "execution_count": 47,
   "metadata": {
    "collapsed": true
   },
   "outputs": [],
   "source": [
    "! mkdir /local/home/sarahgw/WGS/Sequences/hiseq_2016_12_07/NJ_E_22"
   ]
  },
  {
   "cell_type": "code",
   "execution_count": 48,
   "metadata": {
    "collapsed": true
   },
   "outputs": [],
   "source": [
    "!mv /local/home/sarahgw/WGS/Sequences/hiseq_2016_12_07/N517-GCGTAAGA-X-N701-TCGCCTTA_Read*.fastq /local/home/sarahgw/WGS/Sequences/hiseq_2016_12_07/NJ_E_22"
   ]
  },
  {
   "cell_type": "code",
   "execution_count": 49,
   "metadata": {
    "collapsed": true
   },
   "outputs": [],
   "source": [
    "! mkdir /local/home/sarahgw/WGS/Sequences/hiseq_2016_12_07/NJ_E_26"
   ]
  },
  {
   "cell_type": "code",
   "execution_count": 50,
   "metadata": {
    "collapsed": true
   },
   "outputs": [],
   "source": [
    "!mv /local/home/sarahgw/WGS/Sequences/hiseq_2016_12_07/N517-GCGTAAGA-X-N702-CTAGTACG_Read*.fastq /local/home/sarahgw/WGS/Sequences/hiseq_2016_12_07/NJ_E_26"
   ]
  },
  {
   "cell_type": "code",
   "execution_count": 51,
   "metadata": {
    "collapsed": true
   },
   "outputs": [],
   "source": [
    "! mkdir /local/home/sarahgw/WGS/Sequences/hiseq_2016_12_07/NJ_E_30"
   ]
  },
  {
   "cell_type": "code",
   "execution_count": 52,
   "metadata": {
    "collapsed": true
   },
   "outputs": [],
   "source": [
    "!mv /local/home/sarahgw/WGS/Sequences/hiseq_2016_12_07/N517-GCGTAAGA-X-N703-TTCTGCCT_Read*.fastq /local/home/sarahgw/WGS/Sequences/hiseq_2016_12_07/NJ_E_30"
   ]
  },
  {
   "cell_type": "code",
   "execution_count": 53,
   "metadata": {
    "collapsed": true
   },
   "outputs": [],
   "source": [
    "! mkdir /local/home/sarahgw/WGS/Sequences/hiseq_2016_12_07/NJ_U_04"
   ]
  },
  {
   "cell_type": "code",
   "execution_count": 54,
   "metadata": {
    "collapsed": true
   },
   "outputs": [],
   "source": [
    "!mv /local/home/sarahgw/WGS/Sequences/hiseq_2016_12_07/N517-GCGTAAGA-X-N704-GCTCAGGA_Read*.fastq /local/home/sarahgw/WGS/Sequences/hiseq_2016_12_07/NJ_U_04"
   ]
  },
  {
   "cell_type": "code",
   "execution_count": 55,
   "metadata": {
    "collapsed": true
   },
   "outputs": [],
   "source": [
    "! mkdir /local/home/sarahgw/WGS/Sequences/hiseq_2016_12_07/NJ_U_08"
   ]
  },
  {
   "cell_type": "code",
   "execution_count": 56,
   "metadata": {
    "collapsed": true
   },
   "outputs": [],
   "source": [
    "!mv /local/home/sarahgw/WGS/Sequences/hiseq_2016_12_07/N517-GCGTAAGA-X-N705-AGGAGTCC_Read*.fastq /local/home/sarahgw/WGS/Sequences/hiseq_2016_12_07/NJ_U_08"
   ]
  },
  {
   "cell_type": "code",
   "execution_count": 57,
   "metadata": {
    "collapsed": true
   },
   "outputs": [],
   "source": [
    "! mkdir /local/home/sarahgw/WGS/Sequences/hiseq_2016_12_07/NJ_U_12"
   ]
  },
  {
   "cell_type": "code",
   "execution_count": 59,
   "metadata": {
    "collapsed": false
   },
   "outputs": [],
   "source": [
    "!mv /local/home/sarahgw/WGS/Sequences/hiseq_2016_12_07/N517-GCGTAAGA-X-N706CATGCCTA_Read*.fastq /local/home/sarahgw/WGS/Sequences/hiseq_2016_12_07/NJ_U_12"
   ]
  },
  {
   "cell_type": "code",
   "execution_count": 60,
   "metadata": {
    "collapsed": false
   },
   "outputs": [
    {
     "name": "stdout",
     "output_type": "stream",
     "text": [
      "index.html  NJ_E_25  NJ_E_29  NJ_U_03  NJ_U_07\tNJ_U_11  NJ_U_16\r\n",
      "NJ_E_22     NJ_E_26  NJ_E_30  NJ_U_04  NJ_U_08\tNJ_U_12  unmatched_Read1.fastq\r\n",
      "NJ_E_23     NJ_E_27  NJ_U_01  NJ_U_05  NJ_U_09\tNJ_U_14  unmatched_Read2.fastq\r\n",
      "NJ_E_24     NJ_E_28  NJ_U_02  NJ_U_06  NJ_U_10\tNJ_U_15\r\n"
     ]
    }
   ],
   "source": [
    "!ls /local/home/sarahgw/WGS/Sequences/hiseq_2016_12_07/"
   ]
  },
  {
   "cell_type": "code",
   "execution_count": 62,
   "metadata": {
    "collapsed": false,
    "scrolled": true
   },
   "outputs": [
    {
     "name": "stdout",
     "output_type": "stream",
     "text": [
      "/local/home/sarahgw/WGS/Sequences/hiseq_2016_12_07/:\r\n",
      "index.html  NJ_E_25  NJ_E_29  NJ_U_03  NJ_U_07\tNJ_U_11  NJ_U_16\r\n",
      "NJ_E_22     NJ_E_26  NJ_E_30  NJ_U_04  NJ_U_08\tNJ_U_12  unmatched_Read1.fastq\r\n",
      "NJ_E_23     NJ_E_27  NJ_U_01  NJ_U_05  NJ_U_09\tNJ_U_14  unmatched_Read2.fastq\r\n",
      "NJ_E_24     NJ_E_28  NJ_U_02  NJ_U_06  NJ_U_10\tNJ_U_15\r\n",
      "\r\n",
      "/local/home/sarahgw/WGS/Sequences/hiseq_2016_12_07/NJ_E_22:\r\n",
      "N517-GCGTAAGA-X-N701-TCGCCTTA_Read1.fastq\r\n",
      "N517-GCGTAAGA-X-N701-TCGCCTTA_Read2.fastq\r\n",
      "\r\n",
      "/local/home/sarahgw/WGS/Sequences/hiseq_2016_12_07/NJ_E_23:\r\n",
      "N502-CTCTCTAT-X-N701-TCGCCTTA_Read1.fastq\r\n",
      "N502-CTCTCTAT-X-N701-TCGCCTTA_Read2.fastq\r\n",
      "\r\n",
      "/local/home/sarahgw/WGS/Sequences/hiseq_2016_12_07/NJ_E_24:\r\n",
      "N503-TATCCTCT-X-N701-TCGCCTTA_Read1.fastq\r\n",
      "N503-TATCCTCT-X-N701-TCGCCTTA_Read2.fastq\r\n",
      "\r\n",
      "/local/home/sarahgw/WGS/Sequences/hiseq_2016_12_07/NJ_E_25:\r\n",
      "N504-AGAGTAGA-X-N701-TCGCCTTA_Read1.fastq\r\n",
      "N504-AGAGTAGA-X-N701-TCGCCTTA_Read2.fastq\r\n",
      "\r\n",
      "/local/home/sarahgw/WGS/Sequences/hiseq_2016_12_07/NJ_E_26:\r\n",
      "N517-GCGTAAGA-X-N702-CTAGTACG_Read1.fastq\r\n",
      "N517-GCGTAAGA-X-N702-CTAGTACG_Read2.fastq\r\n",
      "\r\n",
      "/local/home/sarahgw/WGS/Sequences/hiseq_2016_12_07/NJ_E_27:\r\n",
      "N502-CTCTCTATX-N702-CTAGTACG_Read1.fastq\r\n",
      "N502-CTCTCTATX-N702-CTAGTACG_Read2.fastq\r\n",
      "\r\n",
      "/local/home/sarahgw/WGS/Sequences/hiseq_2016_12_07/NJ_E_28:\r\n",
      "N503-TATCCTCTX-N702-CTAGTACG_Read1.fastq\r\n",
      "N503-TATCCTCTX-N702-CTAGTACG_Read2.fastq\r\n",
      "\r\n",
      "/local/home/sarahgw/WGS/Sequences/hiseq_2016_12_07/NJ_E_29:\r\n",
      "N504-AGAGTAGAX-N702-CTAGTACG_Read1.fastq\r\n",
      "N504-AGAGTAGAX-N702-CTAGTACG_Read2.fastq\r\n",
      "\r\n",
      "/local/home/sarahgw/WGS/Sequences/hiseq_2016_12_07/NJ_E_30:\r\n",
      "N517-GCGTAAGA-X-N703-TTCTGCCT_Read1.fastq\r\n",
      "N517-GCGTAAGA-X-N703-TTCTGCCT_Read2.fastq\r\n",
      "\r\n",
      "/local/home/sarahgw/WGS/Sequences/hiseq_2016_12_07/NJ_U_02:\r\n",
      "N503-TATCCTCT-X-N703-TTCTGCCT_Read1.fastq\r\n",
      "N503-TATCCTCT-X-N703-TTCTGCCT_Read2.fastq\r\n",
      "\r\n",
      "/local/home/sarahgw/WGS/Sequences/hiseq_2016_12_07/NJ_U_03:\r\n",
      "N504-AGAGTAGAX-N703-TTCTGCCT_Read1.fastq\r\n",
      "N504-AGAGTAGAX-N703-TTCTGCCT_Read2.fastq\r\n",
      "\r\n",
      "/local/home/sarahgw/WGS/Sequences/hiseq_2016_12_07/NJ_U_04:\r\n",
      "N517-GCGTAAGA-X-N704-GCTCAGGA_Read1.fastq\r\n",
      "N517-GCGTAAGA-X-N704-GCTCAGGA_Read2.fastq\r\n",
      "\r\n",
      "/local/home/sarahgw/WGS/Sequences/hiseq_2016_12_07/NJ_U_05:\r\n",
      "N502-CTCTCTAT-X-N704-GCTCAGGA_Read1.fastq\r\n",
      "N502-CTCTCTAT-X-N704-GCTCAGGA_Read2.fastq\r\n",
      "\r\n",
      "/local/home/sarahgw/WGS/Sequences/hiseq_2016_12_07/NJ_U_06:\r\n",
      "N503-TATCCTCT-X-N704-GCTCAGGA_Read1.fastq\r\n",
      "N503-TATCCTCT-X-N704-GCTCAGGA_Read2.fastq\r\n",
      "\r\n",
      "/local/home/sarahgw/WGS/Sequences/hiseq_2016_12_07/NJ_U_07:\r\n",
      "N504-AGAGTAGAX-N704-GCTCAGGA_Read1.fastq\r\n",
      "N504-AGAGTAGAX-N704-GCTCAGGA_Read2.fastq\r\n",
      "\r\n",
      "/local/home/sarahgw/WGS/Sequences/hiseq_2016_12_07/NJ_U_08:\r\n",
      "N517-GCGTAAGA-X-N705-AGGAGTCC_Read1.fastq\r\n",
      "N517-GCGTAAGA-X-N705-AGGAGTCC_Read2.fastq\r\n",
      "\r\n",
      "/local/home/sarahgw/WGS/Sequences/hiseq_2016_12_07/NJ_U_09:\r\n",
      "N502-CTCTCTAT-X-N705-AGGAGTCC_Read1.fastq\r\n",
      "N502-CTCTCTAT-X-N705-AGGAGTCC_Read2.fastq\r\n",
      "\r\n",
      "/local/home/sarahgw/WGS/Sequences/hiseq_2016_12_07/NJ_U_10:\r\n",
      "N503-TATCCTCT-X-N705-AGGAGTCC_Read1.fastq\r\n",
      "N503-TATCCTCT-X-N705-AGGAGTCC_Read2.fastq\r\n",
      "\r\n",
      "/local/home/sarahgw/WGS/Sequences/hiseq_2016_12_07/NJ_U_11:\r\n",
      "N504-AGAGTAGA-X-N705-AGGAGTCC_Read1.fastq\r\n",
      "N504-AGAGTAGA-X-N705-AGGAGTCC_Read2.fastq\r\n",
      "\r\n",
      "/local/home/sarahgw/WGS/Sequences/hiseq_2016_12_07/NJ_U_12:\r\n",
      "N517-GCGTAAGA-X-N706CATGCCTA_Read1.fastq\r\n",
      "N517-GCGTAAGA-X-N706CATGCCTA_Read2.fastq\r\n",
      "\r\n",
      "/local/home/sarahgw/WGS/Sequences/hiseq_2016_12_07/NJ_U_14:\r\n",
      "N502-CTCTCTAT-X-N706CATGCCTA_Read1.fastq\r\n",
      "N502-CTCTCTAT-X-N706CATGCCTA_Read2.fastq\r\n",
      "\r\n",
      "/local/home/sarahgw/WGS/Sequences/hiseq_2016_12_07/NJ_U_15:\r\n",
      "N503-TATCCTCT-X-N706CATGCCTA_Read1.fastq\r\n",
      "N503-TATCCTCT-X-N706CATGCCTA_Read2.fastq\r\n",
      "\r\n",
      "/local/home/sarahgw/WGS/Sequences/hiseq_2016_12_07/NJ_U_16:\r\n",
      "N504-AGAGTAGA-X-N706CATGCCTA_Read1.fastq\r\n",
      "N504-AGAGTAGA-X-N706CATGCCTA_Read2.fastq\r\n"
     ]
    }
   ],
   "source": [
    "!ls -R /local/home/sarahgw/WGS/Sequences/hiseq_2016_12_07/"
   ]
  },
  {
   "cell_type": "code",
   "execution_count": null,
   "metadata": {
    "collapsed": true
   },
   "outputs": [],
   "source": []
  }
 ],
 "metadata": {
  "anaconda-cloud": {},
  "kernelspec": {
   "display_name": "Python [default]",
   "language": "python",
   "name": "python2"
  },
  "language_info": {
   "codemirror_mode": {
    "name": "ipython",
    "version": 2
   },
   "file_extension": ".py",
   "mimetype": "text/x-python",
   "name": "python",
   "nbconvert_exporter": "python",
   "pygments_lexer": "ipython2",
   "version": "2.7.12"
  }
 },
 "nbformat": 4,
 "nbformat_minor": 1
}
