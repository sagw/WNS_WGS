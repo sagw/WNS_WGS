{
 "cells": [
  {
   "cell_type": "markdown",
   "metadata": {
    "collapsed": true
   },
   "source": [
    "to start notebook, ssh to server, and type jupyter notebook --no-browser --port=8889 \n",
    "Then make ssh tunnel from local host to server ssh -N -f -L localhost:8889:localhost:8889 sarahgw@amphiprion.deenr.rutgers.edu\n",
    "then in browser go to localhost:8888"
   ]
  },
  {
   "cell_type": "code",
   "execution_count": 1,
   "metadata": {
    "collapsed": false,
    "scrolled": false
   },
   "outputs": [],
   "source": [
    "!mkdir /local/shared/pinsky_lab/sequencing/hiseq_2016_12_07_SEQ18"
   ]
  },
  {
   "cell_type": "code",
   "execution_count": null,
   "metadata": {
    "collapsed": true,
    "scrolled": false
   },
   "outputs": [],
   "source": [
    "!wget -r https://htseq.princeton.edu/tmp/xVUAm7hdX422fBBHl/ -P /local/shared/pinsky_lab/sequencing/hiseq_2016_12_07_SEQ18"
   ]
  },
  {
   "cell_type": "code",
   "execution_count": null,
   "metadata": {
    "collapsed": true
   },
   "outputs": [],
   "source": [
    "wget -r https://htseq.princeton.edu/tmp/34BL9VgAV0mlypg2k/ -P /local/shared/pinsky_lab/sequencing/hiseq_2016_12_07_SEQ18"
   ]
  },
  {
   "cell_type": "code",
   "execution_count": 1,
   "metadata": {
    "collapsed": false,
    "scrolled": false
   },
   "outputs": [
    {
     "name": "stdout",
     "output_type": "stream",
     "text": [
      "htseq.princeton.edu  xVUAm7hdX422fBBHl\r\n"
     ]
    }
   ],
   "source": [
    "!ls /local/shared/pinsky_lab/sequencing/hiseq_2016_12_07_SEQ18/"
   ]
  },
  {
   "cell_type": "code",
   "execution_count": 5,
   "metadata": {
    "collapsed": false,
    "scrolled": true
   },
   "outputs": [
    {
     "name": "stdout",
     "output_type": "stream",
     "text": [
      "index.html\r\n",
      "N502-CTCTCTAT-X-N701-TCGCCTTA_Pinsky-24gDNA-for-316-cycles-H2L52BCXY_2_Read_1_passed_filter.fastq.gz\r\n",
      "N502-CTCTCTAT-X-N701-TCGCCTTA_Pinsky-24gDNA-for-316-cycles-H2L52BCXY_2_Read_4_passed_filter.fastq.gz\r\n",
      "N502-CTCTCTATX-N702-CTAGTACG_Pinsky-24gDNA-for-316-cycles-H2L52BCXY_2_Read_1_passed_filter.fastq.gz\r\n",
      "N502-CTCTCTATX-N702-CTAGTACG_Pinsky-24gDNA-for-316-cycles-H2L52BCXY_2_Read_4_passed_filter.fastq.gz\r\n",
      "N502-CTCTCTAT-X-N703-TTCTGCCT_Pinsky-24gDNA-for-316-cycles-H2L52BCXY_2_Read_1_passed_filter.fastq.gz\r\n",
      "N502-CTCTCTAT-X-N703-TTCTGCCT_Pinsky-24gDNA-for-316-cycles-H2L52BCXY_2_Read_4_passed_filter.fastq.gz\r\n",
      "N502-CTCTCTAT-X-N704-GCTCAGGA_Pinsky-24gDNA-for-316-cycles-H2L52BCXY_2_Read_1_passed_filter.fastq.gz\r\n",
      "N502-CTCTCTAT-X-N704-GCTCAGGA_Pinsky-24gDNA-for-316-cycles-H2L52BCXY_2_Read_4_passed_filter.fastq.gz\r\n",
      "N502-CTCTCTAT-X-N705-AGGAGTCC_Pinsky-24gDNA-for-316-cycles-H2L52BCXY_2_Read_1_passed_filter.fastq.gz\r\n",
      "N502-CTCTCTAT-X-N705-AGGAGTCC_Pinsky-24gDNA-for-316-cycles-H2L52BCXY_2_Read_4_passed_filter.fastq.gz\r\n",
      "N502-CTCTCTAT-X-N706CATGCCTA_Pinsky-24gDNA-for-316-cycles-H2L52BCXY_2_Read_1_passed_filter.fastq.gz\r\n",
      "N502-CTCTCTAT-X-N706CATGCCTA_Pinsky-24gDNA-for-316-cycles-H2L52BCXY_2_Read_4_passed_filter.fastq.gz\r\n",
      "N503-TATCCTCT-X-N701-TCGCCTTA_Pinsky-24gDNA-for-316-cycles-H2L52BCXY_2_Read_1_passed_filter.fastq.gz\r\n",
      "N503-TATCCTCT-X-N701-TCGCCTTA_Pinsky-24gDNA-for-316-cycles-H2L52BCXY_2_Read_4_passed_filter.fastq.gz\r\n",
      "N503-TATCCTCTX-N702-CTAGTACG_Pinsky-24gDNA-for-316-cycles-H2L52BCXY_2_Read_1_passed_filter.fastq.gz\r\n",
      "N503-TATCCTCTX-N702-CTAGTACG_Pinsky-24gDNA-for-316-cycles-H2L52BCXY_2_Read_4_passed_filter.fastq.gz\r\n",
      "N503-TATCCTCT-X-N703-TTCTGCCT_Pinsky-24gDNA-for-316-cycles-H2L52BCXY_2_Read_1_passed_filter.fastq.gz\r\n",
      "N503-TATCCTCT-X-N703-TTCTGCCT_Pinsky-24gDNA-for-316-cycles-H2L52BCXY_2_Read_4_passed_filter.fastq.gz\r\n",
      "N503-TATCCTCT-X-N704-GCTCAGGA_Pinsky-24gDNA-for-316-cycles-H2L52BCXY_2_Read_1_passed_filter.fastq.gz\r\n",
      "N503-TATCCTCT-X-N704-GCTCAGGA_Pinsky-24gDNA-for-316-cycles-H2L52BCXY_2_Read_4_passed_filter.fastq.gz\r\n",
      "N503-TATCCTCT-X-N705-AGGAGTCC_Pinsky-24gDNA-for-316-cycles-H2L52BCXY_2_Read_1_passed_filter.fastq.gz\r\n",
      "N503-TATCCTCT-X-N705-AGGAGTCC_Pinsky-24gDNA-for-316-cycles-H2L52BCXY_2_Read_4_passed_filter.fastq.gz\r\n",
      "N503-TATCCTCT-X-N706CATGCCTA_Pinsky-24gDNA-for-316-cycles-H2L52BCXY_2_Read_1_passed_filter.fastq.gz\r\n",
      "N503-TATCCTCT-X-N706CATGCCTA_Pinsky-24gDNA-for-316-cycles-H2L52BCXY_2_Read_4_passed_filter.fastq.gz\r\n",
      "N504-AGAGTAGA-X-N701-TCGCCTTA_Pinsky-24gDNA-for-316-cycles-H2L52BCXY_2_Read_1_passed_filter.fastq.gz\r\n",
      "N504-AGAGTAGA-X-N701-TCGCCTTA_Pinsky-24gDNA-for-316-cycles-H2L52BCXY_2_Read_4_passed_filter.fastq.gz\r\n",
      "N504-AGAGTAGAX-N702-CTAGTACG_Pinsky-24gDNA-for-316-cycles-H2L52BCXY_2_Read_1_passed_filter.fastq.gz\r\n",
      "N504-AGAGTAGAX-N702-CTAGTACG_Pinsky-24gDNA-for-316-cycles-H2L52BCXY_2_Read_4_passed_filter.fastq.gz\r\n",
      "N504-AGAGTAGAX-N703-TTCTGCCT_Pinsky-24gDNA-for-316-cycles-H2L52BCXY_2_Read_1_passed_filter.fastq.gz\r\n",
      "N504-AGAGTAGAX-N703-TTCTGCCT_Pinsky-24gDNA-for-316-cycles-H2L52BCXY_2_Read_4_passed_filter.fastq.gz\r\n",
      "N504-AGAGTAGAX-N704-GCTCAGGA_Pinsky-24gDNA-for-316-cycles-H2L52BCXY_2_Read_1_passed_filter.fastq.gz\r\n",
      "N504-AGAGTAGAX-N704-GCTCAGGA_Pinsky-24gDNA-for-316-cycles-H2L52BCXY_2_Read_4_passed_filter.fastq.gz\r\n",
      "N504-AGAGTAGA-X-N705-AGGAGTCC_Pinsky-24gDNA-for-316-cycles-H2L52BCXY_2_Read_1_passed_filter.fastq.gz\r\n",
      "N504-AGAGTAGA-X-N705-AGGAGTCC_Pinsky-24gDNA-for-316-cycles-H2L52BCXY_2_Read_4_passed_filter.fastq.gz\r\n",
      "N504-AGAGTAGA-X-N706CATGCCTA_Pinsky-24gDNA-for-316-cycles-H2L52BCXY_2_Read_1_passed_filter.fastq.gz\r\n",
      "N504-AGAGTAGA-X-N706CATGCCTA_Pinsky-24gDNA-for-316-cycles-H2L52BCXY_2_Read_4_passed_filter.fastq.gz\r\n",
      "N517-GCGTAAGA-X-N701-TCGCCTTA_Pinsky-24gDNA-for-316-cycles-H2L52BCXY_2_Read_1_passed_filter.fastq.gz\r\n",
      "N517-GCGTAAGA-X-N701-TCGCCTTA_Pinsky-24gDNA-for-316-cycles-H2L52BCXY_2_Read_4_passed_filter.fastq.gz\r\n",
      "N517-GCGTAAGA-X-N702-CTAGTACG_Pinsky-24gDNA-for-316-cycles-H2L52BCXY_2_Read_1_passed_filter.fastq.gz\r\n",
      "N517-GCGTAAGA-X-N702-CTAGTACG_Pinsky-24gDNA-for-316-cycles-H2L52BCXY_2_Read_4_passed_filter.fastq.gz\r\n",
      "N517-GCGTAAGA-X-N703-TTCTGCCT_Pinsky-24gDNA-for-316-cycles-H2L52BCXY_2_Read_1_passed_filter.fastq.gz\r\n",
      "N517-GCGTAAGA-X-N703-TTCTGCCT_Pinsky-24gDNA-for-316-cycles-H2L52BCXY_2_Read_4_passed_filter.fastq.gz\r\n",
      "N517-GCGTAAGA-X-N704-GCTCAGGA_Pinsky-24gDNA-for-316-cycles-H2L52BCXY_2_Read_1_passed_filter.fastq.gz\r\n",
      "N517-GCGTAAGA-X-N704-GCTCAGGA_Pinsky-24gDNA-for-316-cycles-H2L52BCXY_2_Read_4_passed_filter.fastq.gz\r\n",
      "N517-GCGTAAGA-X-N705-AGGAGTCC_Pinsky-24gDNA-for-316-cycles-H2L52BCXY_2_Read_1_passed_filter.fastq.gz\r\n",
      "N517-GCGTAAGA-X-N705-AGGAGTCC_Pinsky-24gDNA-for-316-cycles-H2L52BCXY_2_Read_4_passed_filter.fastq.gz\r\n",
      "N517-GCGTAAGA-X-N706CATGCCTA_Pinsky-24gDNA-for-316-cycles-H2L52BCXY_2_Read_1_passed_filter.fastq.gz\r\n",
      "N517-GCGTAAGA-X-N706CATGCCTA_Pinsky-24gDNA-for-316-cycles-H2L52BCXY_2_Read_4_passed_filter.fastq.gz\r\n",
      "unmatched_Pinsky-24gDNA-for-316-cycles-H2L52BCXY_2_Read_1_passed_filter.fastq.gz\r\n",
      "unmatched_Pinsky-24gDNA-for-316-cycles-H2L52BCXY_2_Read_4_passed_filter.fastq.gz\r\n"
     ]
    }
   ],
   "source": [
    "!ls /local/shared/pinsky_lab/sequencing/hiseq_2016_12_07_SEQ18/xVUAm7hdX422fBBHl"
   ]
  },
  {
   "cell_type": "code",
   "execution_count": 4,
   "metadata": {
    "collapsed": false
   },
   "outputs": [
    {
     "name": "stdout",
     "output_type": "stream",
     "text": [
      "index.html\r\n",
      "N502-CTCTCTAT-X-N701-TCGCCTTA_Pinsky-24gDNA-for-316-cycles-H2L52BCXY_1_Read_1_passed_filter.fastq.gz\r\n",
      "N502-CTCTCTAT-X-N701-TCGCCTTA_Pinsky-24gDNA-for-316-cycles-H2L52BCXY_1_Read_4_passed_filter.fastq.gz\r\n",
      "N502-CTCTCTATX-N702-CTAGTACG_Pinsky-24gDNA-for-316-cycles-H2L52BCXY_1_Read_1_passed_filter.fastq.gz\r\n",
      "N502-CTCTCTATX-N702-CTAGTACG_Pinsky-24gDNA-for-316-cycles-H2L52BCXY_1_Read_4_passed_filter.fastq.gz\r\n",
      "N502-CTCTCTAT-X-N703-TTCTGCCT_Pinsky-24gDNA-for-316-cycles-H2L52BCXY_1_Read_1_passed_filter.fastq.gz\r\n",
      "N502-CTCTCTAT-X-N703-TTCTGCCT_Pinsky-24gDNA-for-316-cycles-H2L52BCXY_1_Read_4_passed_filter.fastq.gz\r\n",
      "N502-CTCTCTAT-X-N704-GCTCAGGA_Pinsky-24gDNA-for-316-cycles-H2L52BCXY_1_Read_1_passed_filter.fastq.gz\r\n",
      "N502-CTCTCTAT-X-N704-GCTCAGGA_Pinsky-24gDNA-for-316-cycles-H2L52BCXY_1_Read_4_passed_filter.fastq.gz\r\n",
      "N502-CTCTCTAT-X-N705-AGGAGTCC_Pinsky-24gDNA-for-316-cycles-H2L52BCXY_1_Read_1_passed_filter.fastq.gz\r\n",
      "N502-CTCTCTAT-X-N705-AGGAGTCC_Pinsky-24gDNA-for-316-cycles-H2L52BCXY_1_Read_4_passed_filter.fastq.gz\r\n",
      "N502-CTCTCTAT-X-N706CATGCCTA_Pinsky-24gDNA-for-316-cycles-H2L52BCXY_1_Read_1_passed_filter.fastq.gz\r\n",
      "N502-CTCTCTAT-X-N706CATGCCTA_Pinsky-24gDNA-for-316-cycles-H2L52BCXY_1_Read_4_passed_filter.fastq.gz\r\n",
      "N503-TATCCTCT-X-N701-TCGCCTTA_Pinsky-24gDNA-for-316-cycles-H2L52BCXY_1_Read_1_passed_filter.fastq.gz\r\n",
      "N503-TATCCTCT-X-N701-TCGCCTTA_Pinsky-24gDNA-for-316-cycles-H2L52BCXY_1_Read_4_passed_filter.fastq.gz\r\n",
      "N503-TATCCTCTX-N702-CTAGTACG_Pinsky-24gDNA-for-316-cycles-H2L52BCXY_1_Read_1_passed_filter.fastq.gz\r\n",
      "N503-TATCCTCTX-N702-CTAGTACG_Pinsky-24gDNA-for-316-cycles-H2L52BCXY_1_Read_4_passed_filter.fastq.gz\r\n",
      "N503-TATCCTCT-X-N703-TTCTGCCT_Pinsky-24gDNA-for-316-cycles-H2L52BCXY_1_Read_1_passed_filter.fastq.gz\r\n",
      "N503-TATCCTCT-X-N703-TTCTGCCT_Pinsky-24gDNA-for-316-cycles-H2L52BCXY_1_Read_4_passed_filter.fastq.gz\r\n",
      "N503-TATCCTCT-X-N704-GCTCAGGA_Pinsky-24gDNA-for-316-cycles-H2L52BCXY_1_Read_1_passed_filter.fastq.gz\r\n",
      "N503-TATCCTCT-X-N704-GCTCAGGA_Pinsky-24gDNA-for-316-cycles-H2L52BCXY_1_Read_4_passed_filter.fastq.gz\r\n",
      "N503-TATCCTCT-X-N705-AGGAGTCC_Pinsky-24gDNA-for-316-cycles-H2L52BCXY_1_Read_1_passed_filter.fastq.gz\r\n",
      "N503-TATCCTCT-X-N705-AGGAGTCC_Pinsky-24gDNA-for-316-cycles-H2L52BCXY_1_Read_4_passed_filter.fastq.gz\r\n",
      "N503-TATCCTCT-X-N706CATGCCTA_Pinsky-24gDNA-for-316-cycles-H2L52BCXY_1_Read_1_passed_filter.fastq.gz\r\n",
      "N503-TATCCTCT-X-N706CATGCCTA_Pinsky-24gDNA-for-316-cycles-H2L52BCXY_1_Read_4_passed_filter.fastq.gz\r\n",
      "N504-AGAGTAGA-X-N701-TCGCCTTA_Pinsky-24gDNA-for-316-cycles-H2L52BCXY_1_Read_1_passed_filter.fastq.gz\r\n",
      "N504-AGAGTAGA-X-N701-TCGCCTTA_Pinsky-24gDNA-for-316-cycles-H2L52BCXY_1_Read_4_passed_filter.fastq.gz\r\n",
      "N504-AGAGTAGAX-N702-CTAGTACG_Pinsky-24gDNA-for-316-cycles-H2L52BCXY_1_Read_1_passed_filter.fastq.gz\r\n",
      "N504-AGAGTAGAX-N702-CTAGTACG_Pinsky-24gDNA-for-316-cycles-H2L52BCXY_1_Read_4_passed_filter.fastq.gz\r\n",
      "N504-AGAGTAGAX-N703-TTCTGCCT_Pinsky-24gDNA-for-316-cycles-H2L52BCXY_1_Read_1_passed_filter.fastq.gz\r\n",
      "N504-AGAGTAGAX-N703-TTCTGCCT_Pinsky-24gDNA-for-316-cycles-H2L52BCXY_1_Read_4_passed_filter.fastq.gz\r\n",
      "N504-AGAGTAGAX-N704-GCTCAGGA_Pinsky-24gDNA-for-316-cycles-H2L52BCXY_1_Read_1_passed_filter.fastq.gz\r\n",
      "N504-AGAGTAGAX-N704-GCTCAGGA_Pinsky-24gDNA-for-316-cycles-H2L52BCXY_1_Read_4_passed_filter.fastq.gz\r\n",
      "N504-AGAGTAGA-X-N705-AGGAGTCC_Pinsky-24gDNA-for-316-cycles-H2L52BCXY_1_Read_1_passed_filter.fastq.gz\r\n",
      "N504-AGAGTAGA-X-N705-AGGAGTCC_Pinsky-24gDNA-for-316-cycles-H2L52BCXY_1_Read_4_passed_filter.fastq.gz\r\n",
      "N504-AGAGTAGA-X-N706CATGCCTA_Pinsky-24gDNA-for-316-cycles-H2L52BCXY_1_Read_1_passed_filter.fastq.gz\r\n",
      "N504-AGAGTAGA-X-N706CATGCCTA_Pinsky-24gDNA-for-316-cycles-H2L52BCXY_1_Read_4_passed_filter.fastq.gz\r\n",
      "N517-GCGTAAGA-X-N701-TCGCCTTA_Pinsky-24gDNA-for-316-cycles-H2L52BCXY_1_Read_1_passed_filter.fastq.gz\r\n",
      "N517-GCGTAAGA-X-N701-TCGCCTTA_Pinsky-24gDNA-for-316-cycles-H2L52BCXY_1_Read_4_passed_filter.fastq.gz\r\n",
      "N517-GCGTAAGA-X-N702-CTAGTACG_Pinsky-24gDNA-for-316-cycles-H2L52BCXY_1_Read_1_passed_filter.fastq.gz\r\n",
      "N517-GCGTAAGA-X-N702-CTAGTACG_Pinsky-24gDNA-for-316-cycles-H2L52BCXY_1_Read_4_passed_filter.fastq.gz\r\n",
      "N517-GCGTAAGA-X-N703-TTCTGCCT_Pinsky-24gDNA-for-316-cycles-H2L52BCXY_1_Read_1_passed_filter.fastq.gz\r\n",
      "N517-GCGTAAGA-X-N703-TTCTGCCT_Pinsky-24gDNA-for-316-cycles-H2L52BCXY_1_Read_4_passed_filter.fastq.gz\r\n",
      "N517-GCGTAAGA-X-N704-GCTCAGGA_Pinsky-24gDNA-for-316-cycles-H2L52BCXY_1_Read_1_passed_filter.fastq.gz\r\n",
      "N517-GCGTAAGA-X-N704-GCTCAGGA_Pinsky-24gDNA-for-316-cycles-H2L52BCXY_1_Read_4_passed_filter.fastq.gz\r\n",
      "N517-GCGTAAGA-X-N705-AGGAGTCC_Pinsky-24gDNA-for-316-cycles-H2L52BCXY_1_Read_1_passed_filter.fastq.gz\r\n",
      "N517-GCGTAAGA-X-N705-AGGAGTCC_Pinsky-24gDNA-for-316-cycles-H2L52BCXY_1_Read_4_passed_filter.fastq.gz\r\n",
      "N517-GCGTAAGA-X-N706CATGCCTA_Pinsky-24gDNA-for-316-cycles-H2L52BCXY_1_Read_1_passed_filter.fastq.gz\r\n",
      "N517-GCGTAAGA-X-N706CATGCCTA_Pinsky-24gDNA-for-316-cycles-H2L52BCXY_1_Read_4_passed_filter.fastq.gz\r\n"
     ]
    }
   ],
   "source": [
    "!ls /local/shared/pinsky_lab/sequencing/hiseq_2016_12_07_SEQ18/htseq.princeton.edu/tmp/34BL9VgAV0mlypg2k/"
   ]
  },
  {
   "cell_type": "code",
   "execution_count": 8,
   "metadata": {
    "collapsed": false,
    "scrolled": false
   },
   "outputs": [],
   "source": [
    "!gunzip -r /local/shared/pinsky_lab/sequencing/hiseq_2016_12_07_SEQ18/xVUAm7hdX422fBBHl"
   ]
  },
  {
   "cell_type": "code",
   "execution_count": 5,
   "metadata": {
    "collapsed": true
   },
   "outputs": [],
   "source": [
    "!gunzip -r /local/shared/pinsky_lab/sequencing/hiseq_2016_12_07_SEQ18/htseq.princeton.edu/tmp/34BL9VgAV0mlypg2k/"
   ]
  },
  {
   "cell_type": "code",
   "execution_count": 9,
   "metadata": {
    "collapsed": false,
    "scrolled": true
   },
   "outputs": [
    {
     "name": "stdout",
     "output_type": "stream",
     "text": [
      "index.html\r\n",
      "N502-CTCTCTAT-X-N701-TCGCCTTA_Pinsky-24gDNA-for-316-cycles-H2L52BCXY_2_Read_1_passed_filter.fastq\r\n",
      "N502-CTCTCTAT-X-N701-TCGCCTTA_Pinsky-24gDNA-for-316-cycles-H2L52BCXY_2_Read_4_passed_filter.fastq\r\n",
      "N502-CTCTCTATX-N702-CTAGTACG_Pinsky-24gDNA-for-316-cycles-H2L52BCXY_2_Read_1_passed_filter.fastq\r\n",
      "N502-CTCTCTATX-N702-CTAGTACG_Pinsky-24gDNA-for-316-cycles-H2L52BCXY_2_Read_4_passed_filter.fastq\r\n",
      "N502-CTCTCTAT-X-N703-TTCTGCCT_Pinsky-24gDNA-for-316-cycles-H2L52BCXY_2_Read_1_passed_filter.fastq\r\n",
      "N502-CTCTCTAT-X-N703-TTCTGCCT_Pinsky-24gDNA-for-316-cycles-H2L52BCXY_2_Read_4_passed_filter.fastq\r\n",
      "N502-CTCTCTAT-X-N704-GCTCAGGA_Pinsky-24gDNA-for-316-cycles-H2L52BCXY_2_Read_1_passed_filter.fastq\r\n",
      "N502-CTCTCTAT-X-N704-GCTCAGGA_Pinsky-24gDNA-for-316-cycles-H2L52BCXY_2_Read_4_passed_filter.fastq\r\n",
      "N502-CTCTCTAT-X-N705-AGGAGTCC_Pinsky-24gDNA-for-316-cycles-H2L52BCXY_2_Read_1_passed_filter.fastq\r\n",
      "N502-CTCTCTAT-X-N705-AGGAGTCC_Pinsky-24gDNA-for-316-cycles-H2L52BCXY_2_Read_4_passed_filter.fastq\r\n",
      "N502-CTCTCTAT-X-N706CATGCCTA_Pinsky-24gDNA-for-316-cycles-H2L52BCXY_2_Read_1_passed_filter.fastq\r\n",
      "N502-CTCTCTAT-X-N706CATGCCTA_Pinsky-24gDNA-for-316-cycles-H2L52BCXY_2_Read_4_passed_filter.fastq\r\n",
      "N503-TATCCTCT-X-N701-TCGCCTTA_Pinsky-24gDNA-for-316-cycles-H2L52BCXY_2_Read_1_passed_filter.fastq\r\n",
      "N503-TATCCTCT-X-N701-TCGCCTTA_Pinsky-24gDNA-for-316-cycles-H2L52BCXY_2_Read_4_passed_filter.fastq\r\n",
      "N503-TATCCTCTX-N702-CTAGTACG_Pinsky-24gDNA-for-316-cycles-H2L52BCXY_2_Read_1_passed_filter.fastq\r\n",
      "N503-TATCCTCTX-N702-CTAGTACG_Pinsky-24gDNA-for-316-cycles-H2L52BCXY_2_Read_4_passed_filter.fastq\r\n",
      "N503-TATCCTCT-X-N703-TTCTGCCT_Pinsky-24gDNA-for-316-cycles-H2L52BCXY_2_Read_1_passed_filter.fastq\r\n",
      "N503-TATCCTCT-X-N703-TTCTGCCT_Pinsky-24gDNA-for-316-cycles-H2L52BCXY_2_Read_4_passed_filter.fastq\r\n",
      "N503-TATCCTCT-X-N704-GCTCAGGA_Pinsky-24gDNA-for-316-cycles-H2L52BCXY_2_Read_1_passed_filter.fastq\r\n",
      "N503-TATCCTCT-X-N704-GCTCAGGA_Pinsky-24gDNA-for-316-cycles-H2L52BCXY_2_Read_4_passed_filter.fastq\r\n",
      "N503-TATCCTCT-X-N705-AGGAGTCC_Pinsky-24gDNA-for-316-cycles-H2L52BCXY_2_Read_1_passed_filter.fastq\r\n",
      "N503-TATCCTCT-X-N705-AGGAGTCC_Pinsky-24gDNA-for-316-cycles-H2L52BCXY_2_Read_4_passed_filter.fastq\r\n",
      "N503-TATCCTCT-X-N706CATGCCTA_Pinsky-24gDNA-for-316-cycles-H2L52BCXY_2_Read_1_passed_filter.fastq\r\n",
      "N503-TATCCTCT-X-N706CATGCCTA_Pinsky-24gDNA-for-316-cycles-H2L52BCXY_2_Read_4_passed_filter.fastq\r\n",
      "N504-AGAGTAGA-X-N701-TCGCCTTA_Pinsky-24gDNA-for-316-cycles-H2L52BCXY_2_Read_1_passed_filter.fastq\r\n",
      "N504-AGAGTAGA-X-N701-TCGCCTTA_Pinsky-24gDNA-for-316-cycles-H2L52BCXY_2_Read_4_passed_filter.fastq\r\n",
      "N504-AGAGTAGAX-N702-CTAGTACG_Pinsky-24gDNA-for-316-cycles-H2L52BCXY_2_Read_1_passed_filter.fastq\r\n",
      "N504-AGAGTAGAX-N702-CTAGTACG_Pinsky-24gDNA-for-316-cycles-H2L52BCXY_2_Read_4_passed_filter.fastq\r\n",
      "N504-AGAGTAGAX-N703-TTCTGCCT_Pinsky-24gDNA-for-316-cycles-H2L52BCXY_2_Read_1_passed_filter.fastq\r\n",
      "N504-AGAGTAGAX-N703-TTCTGCCT_Pinsky-24gDNA-for-316-cycles-H2L52BCXY_2_Read_4_passed_filter.fastq\r\n",
      "N504-AGAGTAGAX-N704-GCTCAGGA_Pinsky-24gDNA-for-316-cycles-H2L52BCXY_2_Read_1_passed_filter.fastq\r\n",
      "N504-AGAGTAGAX-N704-GCTCAGGA_Pinsky-24gDNA-for-316-cycles-H2L52BCXY_2_Read_4_passed_filter.fastq\r\n",
      "N504-AGAGTAGA-X-N705-AGGAGTCC_Pinsky-24gDNA-for-316-cycles-H2L52BCXY_2_Read_1_passed_filter.fastq\r\n",
      "N504-AGAGTAGA-X-N705-AGGAGTCC_Pinsky-24gDNA-for-316-cycles-H2L52BCXY_2_Read_4_passed_filter.fastq\r\n",
      "N504-AGAGTAGA-X-N706CATGCCTA_Pinsky-24gDNA-for-316-cycles-H2L52BCXY_2_Read_1_passed_filter.fastq\r\n",
      "N504-AGAGTAGA-X-N706CATGCCTA_Pinsky-24gDNA-for-316-cycles-H2L52BCXY_2_Read_4_passed_filter.fastq\r\n",
      "N517-GCGTAAGA-X-N701-TCGCCTTA_Pinsky-24gDNA-for-316-cycles-H2L52BCXY_2_Read_1_passed_filter.fastq\r\n",
      "N517-GCGTAAGA-X-N701-TCGCCTTA_Pinsky-24gDNA-for-316-cycles-H2L52BCXY_2_Read_4_passed_filter.fastq\r\n",
      "N517-GCGTAAGA-X-N702-CTAGTACG_Pinsky-24gDNA-for-316-cycles-H2L52BCXY_2_Read_1_passed_filter.fastq\r\n",
      "N517-GCGTAAGA-X-N702-CTAGTACG_Pinsky-24gDNA-for-316-cycles-H2L52BCXY_2_Read_4_passed_filter.fastq\r\n",
      "N517-GCGTAAGA-X-N703-TTCTGCCT_Pinsky-24gDNA-for-316-cycles-H2L52BCXY_2_Read_1_passed_filter.fastq\r\n",
      "N517-GCGTAAGA-X-N703-TTCTGCCT_Pinsky-24gDNA-for-316-cycles-H2L52BCXY_2_Read_4_passed_filter.fastq\r\n",
      "N517-GCGTAAGA-X-N704-GCTCAGGA_Pinsky-24gDNA-for-316-cycles-H2L52BCXY_2_Read_1_passed_filter.fastq\r\n",
      "N517-GCGTAAGA-X-N704-GCTCAGGA_Pinsky-24gDNA-for-316-cycles-H2L52BCXY_2_Read_4_passed_filter.fastq\r\n",
      "N517-GCGTAAGA-X-N705-AGGAGTCC_Pinsky-24gDNA-for-316-cycles-H2L52BCXY_2_Read_1_passed_filter.fastq\r\n",
      "N517-GCGTAAGA-X-N705-AGGAGTCC_Pinsky-24gDNA-for-316-cycles-H2L52BCXY_2_Read_4_passed_filter.fastq\r\n",
      "N517-GCGTAAGA-X-N706CATGCCTA_Pinsky-24gDNA-for-316-cycles-H2L52BCXY_2_Read_1_passed_filter.fastq\r\n",
      "N517-GCGTAAGA-X-N706CATGCCTA_Pinsky-24gDNA-for-316-cycles-H2L52BCXY_2_Read_4_passed_filter.fastq\r\n",
      "unmatched_Pinsky-24gDNA-for-316-cycles-H2L52BCXY_2_Read_1_passed_filter.fastq\r\n",
      "unmatched_Pinsky-24gDNA-for-316-cycles-H2L52BCXY_2_Read_4_passed_filter.fastq\r\n"
     ]
    }
   ],
   "source": [
    "!ls /local/shared/pinsky_lab/sequencing/hiseq_2016_12_07_SEQ18/xVUAm7hdX422fBBHl/"
   ]
  },
  {
   "cell_type": "code",
   "execution_count": 6,
   "metadata": {
    "collapsed": false,
    "scrolled": true
   },
   "outputs": [
    {
     "name": "stdout",
     "output_type": "stream",
     "text": [
      "index.html\r\n",
      "N502-CTCTCTAT-X-N701-TCGCCTTA_Pinsky-24gDNA-for-316-cycles-H2L52BCXY_1_Read_1_passed_filter.fastq\r\n",
      "N502-CTCTCTAT-X-N701-TCGCCTTA_Pinsky-24gDNA-for-316-cycles-H2L52BCXY_1_Read_4_passed_filter.fastq\r\n",
      "N502-CTCTCTATX-N702-CTAGTACG_Pinsky-24gDNA-for-316-cycles-H2L52BCXY_1_Read_1_passed_filter.fastq\r\n",
      "N502-CTCTCTATX-N702-CTAGTACG_Pinsky-24gDNA-for-316-cycles-H2L52BCXY_1_Read_4_passed_filter.fastq\r\n",
      "N502-CTCTCTAT-X-N703-TTCTGCCT_Pinsky-24gDNA-for-316-cycles-H2L52BCXY_1_Read_1_passed_filter.fastq\r\n",
      "N502-CTCTCTAT-X-N703-TTCTGCCT_Pinsky-24gDNA-for-316-cycles-H2L52BCXY_1_Read_4_passed_filter.fastq\r\n",
      "N502-CTCTCTAT-X-N704-GCTCAGGA_Pinsky-24gDNA-for-316-cycles-H2L52BCXY_1_Read_1_passed_filter.fastq\r\n",
      "N502-CTCTCTAT-X-N704-GCTCAGGA_Pinsky-24gDNA-for-316-cycles-H2L52BCXY_1_Read_4_passed_filter.fastq\r\n",
      "N502-CTCTCTAT-X-N705-AGGAGTCC_Pinsky-24gDNA-for-316-cycles-H2L52BCXY_1_Read_1_passed_filter.fastq\r\n",
      "N502-CTCTCTAT-X-N705-AGGAGTCC_Pinsky-24gDNA-for-316-cycles-H2L52BCXY_1_Read_4_passed_filter.fastq\r\n",
      "N502-CTCTCTAT-X-N706CATGCCTA_Pinsky-24gDNA-for-316-cycles-H2L52BCXY_1_Read_1_passed_filter.fastq\r\n",
      "N502-CTCTCTAT-X-N706CATGCCTA_Pinsky-24gDNA-for-316-cycles-H2L52BCXY_1_Read_4_passed_filter.fastq\r\n",
      "N503-TATCCTCT-X-N701-TCGCCTTA_Pinsky-24gDNA-for-316-cycles-H2L52BCXY_1_Read_1_passed_filter.fastq\r\n",
      "N503-TATCCTCT-X-N701-TCGCCTTA_Pinsky-24gDNA-for-316-cycles-H2L52BCXY_1_Read_4_passed_filter.fastq\r\n",
      "N503-TATCCTCTX-N702-CTAGTACG_Pinsky-24gDNA-for-316-cycles-H2L52BCXY_1_Read_1_passed_filter.fastq\r\n",
      "N503-TATCCTCTX-N702-CTAGTACG_Pinsky-24gDNA-for-316-cycles-H2L52BCXY_1_Read_4_passed_filter.fastq\r\n",
      "N503-TATCCTCT-X-N703-TTCTGCCT_Pinsky-24gDNA-for-316-cycles-H2L52BCXY_1_Read_1_passed_filter.fastq\r\n",
      "N503-TATCCTCT-X-N703-TTCTGCCT_Pinsky-24gDNA-for-316-cycles-H2L52BCXY_1_Read_4_passed_filter.fastq\r\n",
      "N503-TATCCTCT-X-N704-GCTCAGGA_Pinsky-24gDNA-for-316-cycles-H2L52BCXY_1_Read_1_passed_filter.fastq\r\n",
      "N503-TATCCTCT-X-N704-GCTCAGGA_Pinsky-24gDNA-for-316-cycles-H2L52BCXY_1_Read_4_passed_filter.fastq\r\n",
      "N503-TATCCTCT-X-N705-AGGAGTCC_Pinsky-24gDNA-for-316-cycles-H2L52BCXY_1_Read_1_passed_filter.fastq\r\n",
      "N503-TATCCTCT-X-N705-AGGAGTCC_Pinsky-24gDNA-for-316-cycles-H2L52BCXY_1_Read_4_passed_filter.fastq\r\n",
      "N503-TATCCTCT-X-N706CATGCCTA_Pinsky-24gDNA-for-316-cycles-H2L52BCXY_1_Read_1_passed_filter.fastq\r\n",
      "N503-TATCCTCT-X-N706CATGCCTA_Pinsky-24gDNA-for-316-cycles-H2L52BCXY_1_Read_4_passed_filter.fastq\r\n",
      "N504-AGAGTAGA-X-N701-TCGCCTTA_Pinsky-24gDNA-for-316-cycles-H2L52BCXY_1_Read_1_passed_filter.fastq\r\n",
      "N504-AGAGTAGA-X-N701-TCGCCTTA_Pinsky-24gDNA-for-316-cycles-H2L52BCXY_1_Read_4_passed_filter.fastq\r\n",
      "N504-AGAGTAGAX-N702-CTAGTACG_Pinsky-24gDNA-for-316-cycles-H2L52BCXY_1_Read_1_passed_filter.fastq\r\n",
      "N504-AGAGTAGAX-N702-CTAGTACG_Pinsky-24gDNA-for-316-cycles-H2L52BCXY_1_Read_4_passed_filter.fastq\r\n",
      "N504-AGAGTAGAX-N703-TTCTGCCT_Pinsky-24gDNA-for-316-cycles-H2L52BCXY_1_Read_1_passed_filter.fastq\r\n",
      "N504-AGAGTAGAX-N703-TTCTGCCT_Pinsky-24gDNA-for-316-cycles-H2L52BCXY_1_Read_4_passed_filter.fastq\r\n",
      "N504-AGAGTAGAX-N704-GCTCAGGA_Pinsky-24gDNA-for-316-cycles-H2L52BCXY_1_Read_1_passed_filter.fastq\r\n",
      "N504-AGAGTAGAX-N704-GCTCAGGA_Pinsky-24gDNA-for-316-cycles-H2L52BCXY_1_Read_4_passed_filter.fastq\r\n",
      "N504-AGAGTAGA-X-N705-AGGAGTCC_Pinsky-24gDNA-for-316-cycles-H2L52BCXY_1_Read_1_passed_filter.fastq\r\n",
      "N504-AGAGTAGA-X-N705-AGGAGTCC_Pinsky-24gDNA-for-316-cycles-H2L52BCXY_1_Read_4_passed_filter.fastq\r\n",
      "N504-AGAGTAGA-X-N706CATGCCTA_Pinsky-24gDNA-for-316-cycles-H2L52BCXY_1_Read_1_passed_filter.fastq\r\n",
      "N504-AGAGTAGA-X-N706CATGCCTA_Pinsky-24gDNA-for-316-cycles-H2L52BCXY_1_Read_4_passed_filter.fastq\r\n",
      "N517-GCGTAAGA-X-N701-TCGCCTTA_Pinsky-24gDNA-for-316-cycles-H2L52BCXY_1_Read_1_passed_filter.fastq\r\n",
      "N517-GCGTAAGA-X-N701-TCGCCTTA_Pinsky-24gDNA-for-316-cycles-H2L52BCXY_1_Read_4_passed_filter.fastq\r\n",
      "N517-GCGTAAGA-X-N702-CTAGTACG_Pinsky-24gDNA-for-316-cycles-H2L52BCXY_1_Read_1_passed_filter.fastq\r\n",
      "N517-GCGTAAGA-X-N702-CTAGTACG_Pinsky-24gDNA-for-316-cycles-H2L52BCXY_1_Read_4_passed_filter.fastq\r\n",
      "N517-GCGTAAGA-X-N703-TTCTGCCT_Pinsky-24gDNA-for-316-cycles-H2L52BCXY_1_Read_1_passed_filter.fastq\r\n",
      "N517-GCGTAAGA-X-N703-TTCTGCCT_Pinsky-24gDNA-for-316-cycles-H2L52BCXY_1_Read_4_passed_filter.fastq\r\n",
      "N517-GCGTAAGA-X-N704-GCTCAGGA_Pinsky-24gDNA-for-316-cycles-H2L52BCXY_1_Read_1_passed_filter.fastq\r\n",
      "N517-GCGTAAGA-X-N704-GCTCAGGA_Pinsky-24gDNA-for-316-cycles-H2L52BCXY_1_Read_4_passed_filter.fastq\r\n",
      "N517-GCGTAAGA-X-N705-AGGAGTCC_Pinsky-24gDNA-for-316-cycles-H2L52BCXY_1_Read_1_passed_filter.fastq\r\n",
      "N517-GCGTAAGA-X-N705-AGGAGTCC_Pinsky-24gDNA-for-316-cycles-H2L52BCXY_1_Read_4_passed_filter.fastq\r\n",
      "N517-GCGTAAGA-X-N706CATGCCTA_Pinsky-24gDNA-for-316-cycles-H2L52BCXY_1_Read_1_passed_filter.fastq\r\n",
      "N517-GCGTAAGA-X-N706CATGCCTA_Pinsky-24gDNA-for-316-cycles-H2L52BCXY_1_Read_4_passed_filter.fastq\r\n"
     ]
    }
   ],
   "source": [
    "!ls /local/shared/pinsky_lab/sequencing/hiseq_2016_12_07_SEQ18/htseq.princeton.edu/tmp/34BL9VgAV0mlypg2k/"
   ]
  },
  {
   "cell_type": "code",
   "execution_count": 13,
   "metadata": {
    "collapsed": false,
    "scrolled": false
   },
   "outputs": [
    {
     "name": "stdout",
     "output_type": "stream",
     "text": [
      "@JLK5VL1:1018:H2L52BCXY:2:1101:1474:2215 1:N:0:\r\n",
      "TTCCAGAACATTTCCTACCAAGTCCCCTAATACTGTCTTGGTGGATACATGGCCTGTTTCCTAAGATGTCATTGAAGACAGCTTGATTCGTCATTGTGCAGGCATGTAGCAAGAACTGCCAGTTTCAAAACTGGGCTAGAGGGCTCCTCA\r\n",
      "+\r\n",
      "DDDDDIIIIIIIIIIIIIIIIIIIIIIIHIIIIIIIIIIIIIIIIIIIIIIIIIIIIHIIIIIIIIIIIIIIIIIIIIIIIIIEFHIIIHHIIIIHIHIIICEHHIIIGHEHIIIIHHIIIIIHIIIIIIIIIIGHIIIIHIHHEEHHI#\r\n",
      "@JLK5VL1:1018:H2L52BCXY:2:1101:1595:2124 1:N:0:\r\n",
      "NTCTTGGGTCATGGTCATGACATAAAATATATTTCCCACTGTAGATCAAGGTCAAATAAACTGATGAACAAAATAGAAACACAGACATAGACTGTCTCTTATACACATCTCCGAGCCCACGAGACTAAGGCGAATCTCGTATGCCGTCTT\r\n",
      "+\r\n",
      "#<DDDIIHHIIIIIIIIIIIIIIIIIIIIIHIIIIIIIIIIIIIIIIIHIIIHHIIIIIIIIIIHHIIIIIIIIIIIHIIIIIIGHHIIIIIIIIIIIIIIDHHHHHIIHHIIHIHIHEHIIIIIIIIHHHDHID/CFHHHI?EHIGCH@\r\n",
      "@JLK5VL1:1018:H2L52BCXY:2:1101:1626:2158 1:N:0:\r\n",
      "NTATCTTTCAATCTTCTTTGGGCATTTAAAATCTTTTTCTGTTATCTAGAAGAAAATTGAATTAAAAAGGAGCCTGTCTTTCTATGTTGCCCTTTCTCTGTAGATGACTTTGACTTACTTTTATAGAGATTGTTATTCCCCCTCTTTCTA\r\n"
     ]
    }
   ],
   "source": [
    "!head /local/shared/pinsky_lab/sequencing/hiseq_2016_12_07_SEQ18/xVUAm7hdX422fBBHl/N502-CTCTCTAT-X-N701-TCGCCTTA_Pinsky-24gDNA-for-316-cycles-H2L52BCXY_2_Read_1_passed_filter.fastq"
   ]
  },
  {
   "cell_type": "code",
   "execution_count": 11,
   "metadata": {
    "collapsed": false,
    "scrolled": false
   },
   "outputs": [
    {
     "name": "stdout",
     "output_type": "stream",
     "text": [
      "29878004 /local/shared/pinsky_lab/sequencing/hiseq_2016_12_07_SEQ18/xVUAm7hdX422fBBHl/N502-CTCTCTAT-X-N701-TCGCCTTA_Pinsky-24gDNA-for-316-cycles-H2L52BCXY_2_Read_1_passed_filter.fastq\r\n"
     ]
    }
   ],
   "source": [
    "!wc -l /local/shared/pinsky_lab/sequencing/hiseq_2016_12_07_SEQ18/xVUAm7hdX422fBBHl/N502-CTCTCTAT-X-N701-TCGCCTTA_Pinsky-24gDNA-for-316-cycles-H2L52BCXY_2_Read_1_passed_filter.fastq"
   ]
  },
  {
   "cell_type": "code",
   "execution_count": 14,
   "metadata": {
    "collapsed": false,
    "scrolled": true
   },
   "outputs": [
    {
     "name": "stdout",
     "output_type": "stream",
     "text": [
      "/local/shared/pinsky_lab/sequencing/hiseq_2016_12_07_SEQ18/xVUAm7hdX422fBBHl/N502-CTCTCTAT-X-N701-TCGCCTTA_Pinsky-24gDNA-for-316-cycles-H2L52BCXY_2_Read_1_passed_filter.fastq:7469501\n",
      "/local/shared/pinsky_lab/sequencing/hiseq_2016_12_07_SEQ18/xVUAm7hdX422fBBHl/N502-CTCTCTAT-X-N701-TCGCCTTA_Pinsky-24gDNA-for-316-cycles-H2L52BCXY_2_Read_4_passed_filter.fastq:7469501\n",
      "/local/shared/pinsky_lab/sequencing/hiseq_2016_12_07_SEQ18/xVUAm7hdX422fBBHl/N502-CTCTCTATX-N702-CTAGTACG_Pinsky-24gDNA-for-316-cycles-H2L52BCXY_2_Read_1_passed_filter.fastq:848325\n",
      "/local/shared/pinsky_lab/sequencing/hiseq_2016_12_07_SEQ18/xVUAm7hdX422fBBHl/N502-CTCTCTATX-N702-CTAGTACG_Pinsky-24gDNA-for-316-cycles-H2L52BCXY_2_Read_4_passed_filter.fastq:848325\n",
      "/local/shared/pinsky_lab/sequencing/hiseq_2016_12_07_SEQ18/xVUAm7hdX422fBBHl/N502-CTCTCTAT-X-N703-TTCTGCCT_Pinsky-24gDNA-for-316-cycles-H2L52BCXY_2_Read_1_passed_filter.fastq:4137938\n",
      "/local/shared/pinsky_lab/sequencing/hiseq_2016_12_07_SEQ18/xVUAm7hdX422fBBHl/N502-CTCTCTAT-X-N703-TTCTGCCT_Pinsky-24gDNA-for-316-cycles-H2L52BCXY_2_Read_4_passed_filter.fastq:4137938\n",
      "/local/shared/pinsky_lab/sequencing/hiseq_2016_12_07_SEQ18/xVUAm7hdX422fBBHl/N502-CTCTCTAT-X-N704-GCTCAGGA_Pinsky-24gDNA-for-316-cycles-H2L52BCXY_2_Read_1_passed_filter.fastq:4883556\n",
      "/local/shared/pinsky_lab/sequencing/hiseq_2016_12_07_SEQ18/xVUAm7hdX422fBBHl/N502-CTCTCTAT-X-N704-GCTCAGGA_Pinsky-24gDNA-for-316-cycles-H2L52BCXY_2_Read_4_passed_filter.fastq:4883556\n",
      "/local/shared/pinsky_lab/sequencing/hiseq_2016_12_07_SEQ18/xVUAm7hdX422fBBHl/N502-CTCTCTAT-X-N705-AGGAGTCC_Pinsky-24gDNA-for-316-cycles-H2L52BCXY_2_Read_1_passed_filter.fastq:3916439\n",
      "/local/shared/pinsky_lab/sequencing/hiseq_2016_12_07_SEQ18/xVUAm7hdX422fBBHl/N502-CTCTCTAT-X-N705-AGGAGTCC_Pinsky-24gDNA-for-316-cycles-H2L52BCXY_2_Read_4_passed_filter.fastq:3916439\n",
      "/local/shared/pinsky_lab/sequencing/hiseq_2016_12_07_SEQ18/xVUAm7hdX422fBBHl/N502-CTCTCTAT-X-N706CATGCCTA_Pinsky-24gDNA-for-316-cycles-H2L52BCXY_2_Read_1_passed_filter.fastq:4783985\n",
      "/local/shared/pinsky_lab/sequencing/hiseq_2016_12_07_SEQ18/xVUAm7hdX422fBBHl/N502-CTCTCTAT-X-N706CATGCCTA_Pinsky-24gDNA-for-316-cycles-H2L52BCXY_2_Read_4_passed_filter.fastq:4783985\n",
      "/local/shared/pinsky_lab/sequencing/hiseq_2016_12_07_SEQ18/xVUAm7hdX422fBBHl/N503-TATCCTCT-X-N701-TCGCCTTA_Pinsky-24gDNA-for-316-cycles-H2L52BCXY_2_Read_1_passed_filter.fastq:6847293\n",
      "/local/shared/pinsky_lab/sequencing/hiseq_2016_12_07_SEQ18/xVUAm7hdX422fBBHl/N503-TATCCTCT-X-N701-TCGCCTTA_Pinsky-24gDNA-for-316-cycles-H2L52BCXY_2_Read_4_passed_filter.fastq:6847293\n",
      "/local/shared/pinsky_lab/sequencing/hiseq_2016_12_07_SEQ18/xVUAm7hdX422fBBHl/N503-TATCCTCTX-N702-CTAGTACG_Pinsky-24gDNA-for-316-cycles-H2L52BCXY_2_Read_1_passed_filter.fastq:3034171\n",
      "/local/shared/pinsky_lab/sequencing/hiseq_2016_12_07_SEQ18/xVUAm7hdX422fBBHl/N503-TATCCTCTX-N702-CTAGTACG_Pinsky-24gDNA-for-316-cycles-H2L52BCXY_2_Read_4_passed_filter.fastq:3034171\n",
      "/local/shared/pinsky_lab/sequencing/hiseq_2016_12_07_SEQ18/xVUAm7hdX422fBBHl/N503-TATCCTCT-X-N703-TTCTGCCT_Pinsky-24gDNA-for-316-cycles-H2L52BCXY_2_Read_1_passed_filter.fastq:7698832\n",
      "/local/shared/pinsky_lab/sequencing/hiseq_2016_12_07_SEQ18/xVUAm7hdX422fBBHl/N503-TATCCTCT-X-N703-TTCTGCCT_Pinsky-24gDNA-for-316-cycles-H2L52BCXY_2_Read_4_passed_filter.fastq:7698832\n",
      "/local/shared/pinsky_lab/sequencing/hiseq_2016_12_07_SEQ18/xVUAm7hdX422fBBHl/N503-TATCCTCT-X-N704-GCTCAGGA_Pinsky-24gDNA-for-316-cycles-H2L52BCXY_2_Read_1_passed_filter.fastq:3961600\n",
      "/local/shared/pinsky_lab/sequencing/hiseq_2016_12_07_SEQ18/xVUAm7hdX422fBBHl/N503-TATCCTCT-X-N704-GCTCAGGA_Pinsky-24gDNA-for-316-cycles-H2L52BCXY_2_Read_4_passed_filter.fastq:3961600\n",
      "/local/shared/pinsky_lab/sequencing/hiseq_2016_12_07_SEQ18/xVUAm7hdX422fBBHl/N503-TATCCTCT-X-N705-AGGAGTCC_Pinsky-24gDNA-for-316-cycles-H2L52BCXY_2_Read_1_passed_filter.fastq:4736003\n",
      "/local/shared/pinsky_lab/sequencing/hiseq_2016_12_07_SEQ18/xVUAm7hdX422fBBHl/N503-TATCCTCT-X-N705-AGGAGTCC_Pinsky-24gDNA-for-316-cycles-H2L52BCXY_2_Read_4_passed_filter.fastq:4736003\n",
      "/local/shared/pinsky_lab/sequencing/hiseq_2016_12_07_SEQ18/xVUAm7hdX422fBBHl/N503-TATCCTCT-X-N706CATGCCTA_Pinsky-24gDNA-for-316-cycles-H2L52BCXY_2_Read_1_passed_filter.fastq:5380485\n",
      "/local/shared/pinsky_lab/sequencing/hiseq_2016_12_07_SEQ18/xVUAm7hdX422fBBHl/N503-TATCCTCT-X-N706CATGCCTA_Pinsky-24gDNA-for-316-cycles-H2L52BCXY_2_Read_4_passed_filter.fastq:5380485\n",
      "/local/shared/pinsky_lab/sequencing/hiseq_2016_12_07_SEQ18/xVUAm7hdX422fBBHl/N504-AGAGTAGA-X-N701-TCGCCTTA_Pinsky-24gDNA-for-316-cycles-H2L52BCXY_2_Read_1_passed_filter.fastq:3954942\n",
      "/local/shared/pinsky_lab/sequencing/hiseq_2016_12_07_SEQ18/xVUAm7hdX422fBBHl/N504-AGAGTAGA-X-N701-TCGCCTTA_Pinsky-24gDNA-for-316-cycles-H2L52BCXY_2_Read_4_passed_filter.fastq:3954942\n",
      "/local/shared/pinsky_lab/sequencing/hiseq_2016_12_07_SEQ18/xVUAm7hdX422fBBHl/N504-AGAGTAGAX-N702-CTAGTACG_Pinsky-24gDNA-for-316-cycles-H2L52BCXY_2_Read_1_passed_filter.fastq:2849116\n",
      "/local/shared/pinsky_lab/sequencing/hiseq_2016_12_07_SEQ18/xVUAm7hdX422fBBHl/N504-AGAGTAGAX-N702-CTAGTACG_Pinsky-24gDNA-for-316-cycles-H2L52BCXY_2_Read_4_passed_filter.fastq:2849116\n",
      "/local/shared/pinsky_lab/sequencing/hiseq_2016_12_07_SEQ18/xVUAm7hdX422fBBHl/N504-AGAGTAGAX-N703-TTCTGCCT_Pinsky-24gDNA-for-316-cycles-H2L52BCXY_2_Read_1_passed_filter.fastq:8887773\n",
      "/local/shared/pinsky_lab/sequencing/hiseq_2016_12_07_SEQ18/xVUAm7hdX422fBBHl/N504-AGAGTAGAX-N703-TTCTGCCT_Pinsky-24gDNA-for-316-cycles-H2L52BCXY_2_Read_4_passed_filter.fastq:8887773\n",
      "/local/shared/pinsky_lab/sequencing/hiseq_2016_12_07_SEQ18/xVUAm7hdX422fBBHl/N504-AGAGTAGAX-N704-GCTCAGGA_Pinsky-24gDNA-for-316-cycles-H2L52BCXY_2_Read_1_passed_filter.fastq:4079066\n",
      "/local/shared/pinsky_lab/sequencing/hiseq_2016_12_07_SEQ18/xVUAm7hdX422fBBHl/N504-AGAGTAGAX-N704-GCTCAGGA_Pinsky-24gDNA-for-316-cycles-H2L52BCXY_2_Read_4_passed_filter.fastq:4079066\n",
      "/local/shared/pinsky_lab/sequencing/hiseq_2016_12_07_SEQ18/xVUAm7hdX422fBBHl/N504-AGAGTAGA-X-N705-AGGAGTCC_Pinsky-24gDNA-for-316-cycles-H2L52BCXY_2_Read_1_passed_filter.fastq:3173998\n",
      "/local/shared/pinsky_lab/sequencing/hiseq_2016_12_07_SEQ18/xVUAm7hdX422fBBHl/N504-AGAGTAGA-X-N705-AGGAGTCC_Pinsky-24gDNA-for-316-cycles-H2L52BCXY_2_Read_4_passed_filter.fastq:3173998\n",
      "/local/shared/pinsky_lab/sequencing/hiseq_2016_12_07_SEQ18/xVUAm7hdX422fBBHl/N504-AGAGTAGA-X-N706CATGCCTA_Pinsky-24gDNA-for-316-cycles-H2L52BCXY_2_Read_1_passed_filter.fastq:3210844\n",
      "/local/shared/pinsky_lab/sequencing/hiseq_2016_12_07_SEQ18/xVUAm7hdX422fBBHl/N504-AGAGTAGA-X-N706CATGCCTA_Pinsky-24gDNA-for-316-cycles-H2L52BCXY_2_Read_4_passed_filter.fastq:3210844\n",
      "/local/shared/pinsky_lab/sequencing/hiseq_2016_12_07_SEQ18/xVUAm7hdX422fBBHl/N517-GCGTAAGA-X-N701-TCGCCTTA_Pinsky-24gDNA-for-316-cycles-H2L52BCXY_2_Read_1_passed_filter.fastq:1366201\n",
      "/local/shared/pinsky_lab/sequencing/hiseq_2016_12_07_SEQ18/xVUAm7hdX422fBBHl/N517-GCGTAAGA-X-N701-TCGCCTTA_Pinsky-24gDNA-for-316-cycles-H2L52BCXY_2_Read_4_passed_filter.fastq:1366201\n",
      "/local/shared/pinsky_lab/sequencing/hiseq_2016_12_07_SEQ18/xVUAm7hdX422fBBHl/N517-GCGTAAGA-X-N702-CTAGTACG_Pinsky-24gDNA-for-316-cycles-H2L52BCXY_2_Read_1_passed_filter.fastq:9654768\n",
      "/local/shared/pinsky_lab/sequencing/hiseq_2016_12_07_SEQ18/xVUAm7hdX422fBBHl/N517-GCGTAAGA-X-N702-CTAGTACG_Pinsky-24gDNA-for-316-cycles-H2L52BCXY_2_Read_4_passed_filter.fastq:9654768\n",
      "/local/shared/pinsky_lab/sequencing/hiseq_2016_12_07_SEQ18/xVUAm7hdX422fBBHl/N517-GCGTAAGA-X-N703-TTCTGCCT_Pinsky-24gDNA-for-316-cycles-H2L52BCXY_2_Read_1_passed_filter.fastq:6452733\n",
      "/local/shared/pinsky_lab/sequencing/hiseq_2016_12_07_SEQ18/xVUAm7hdX422fBBHl/N517-GCGTAAGA-X-N703-TTCTGCCT_Pinsky-24gDNA-for-316-cycles-H2L52BCXY_2_Read_4_passed_filter.fastq:6452733\n",
      "/local/shared/pinsky_lab/sequencing/hiseq_2016_12_07_SEQ18/xVUAm7hdX422fBBHl/N517-GCGTAAGA-X-N704-GCTCAGGA_Pinsky-24gDNA-for-316-cycles-H2L52BCXY_2_Read_1_passed_filter.fastq:3393482\n",
      "/local/shared/pinsky_lab/sequencing/hiseq_2016_12_07_SEQ18/xVUAm7hdX422fBBHl/N517-GCGTAAGA-X-N704-GCTCAGGA_Pinsky-24gDNA-for-316-cycles-H2L52BCXY_2_Read_4_passed_filter.fastq:3393482\n",
      "/local/shared/pinsky_lab/sequencing/hiseq_2016_12_07_SEQ18/xVUAm7hdX422fBBHl/N517-GCGTAAGA-X-N705-AGGAGTCC_Pinsky-24gDNA-for-316-cycles-H2L52BCXY_2_Read_1_passed_filter.fastq:4975959\n",
      "/local/shared/pinsky_lab/sequencing/hiseq_2016_12_07_SEQ18/xVUAm7hdX422fBBHl/N517-GCGTAAGA-X-N705-AGGAGTCC_Pinsky-24gDNA-for-316-cycles-H2L52BCXY_2_Read_4_passed_filter.fastq:4975959\n",
      "/local/shared/pinsky_lab/sequencing/hiseq_2016_12_07_SEQ18/xVUAm7hdX422fBBHl/N517-GCGTAAGA-X-N706CATGCCTA_Pinsky-24gDNA-for-316-cycles-H2L52BCXY_2_Read_1_passed_filter.fastq:5702001\n",
      "/local/shared/pinsky_lab/sequencing/hiseq_2016_12_07_SEQ18/xVUAm7hdX422fBBHl/N517-GCGTAAGA-X-N706CATGCCTA_Pinsky-24gDNA-for-316-cycles-H2L52BCXY_2_Read_4_passed_filter.fastq:5702001\n",
      "/local/shared/pinsky_lab/sequencing/hiseq_2016_12_07_SEQ18/xVUAm7hdX422fBBHl/unmatched_Pinsky-24gDNA-for-316-cycles-H2L52BCXY_2_Read_1_passed_filter.fastq:4945343\n",
      "/local/shared/pinsky_lab/sequencing/hiseq_2016_12_07_SEQ18/xVUAm7hdX422fBBHl/unmatched_Pinsky-24gDNA-for-316-cycles-H2L52BCXY_2_Read_4_passed_filter.fastq:4945343\n"
     ]
    }
   ],
   "source": [
    "! grep -c '^@J' -r /local/shared/pinsky_lab/sequencing/hiseq_2016_12_07_SEQ18/xVUAm7hdX422fBBHl/*.fastq"
   ]
  },
  {
   "cell_type": "code",
   "execution_count": 15,
   "metadata": {
    "collapsed": false,
    "scrolled": true
   },
   "outputs": [
    {
     "name": "stdout",
     "output_type": "stream",
     "text": [
      "/local/shared/pinsky_lab/sequencing/hiseq_2016_12_07_SEQ18/htseq.princeton.edu/tmp/34BL9VgAV0mlypg2k/N502-CTCTCTAT-X-N701-TCGCCTTA_Pinsky-24gDNA-for-316-cycles-H2L52BCXY_1_Read_1_passed_filter.fastq:7579062\n",
      "/local/shared/pinsky_lab/sequencing/hiseq_2016_12_07_SEQ18/htseq.princeton.edu/tmp/34BL9VgAV0mlypg2k/N502-CTCTCTAT-X-N701-TCGCCTTA_Pinsky-24gDNA-for-316-cycles-H2L52BCXY_1_Read_4_passed_filter.fastq:7579062\n",
      "/local/shared/pinsky_lab/sequencing/hiseq_2016_12_07_SEQ18/htseq.princeton.edu/tmp/34BL9VgAV0mlypg2k/N502-CTCTCTATX-N702-CTAGTACG_Pinsky-24gDNA-for-316-cycles-H2L52BCXY_1_Read_1_passed_filter.fastq:861349\n",
      "/local/shared/pinsky_lab/sequencing/hiseq_2016_12_07_SEQ18/htseq.princeton.edu/tmp/34BL9VgAV0mlypg2k/N502-CTCTCTATX-N702-CTAGTACG_Pinsky-24gDNA-for-316-cycles-H2L52BCXY_1_Read_4_passed_filter.fastq:861349\n",
      "/local/shared/pinsky_lab/sequencing/hiseq_2016_12_07_SEQ18/htseq.princeton.edu/tmp/34BL9VgAV0mlypg2k/N502-CTCTCTAT-X-N703-TTCTGCCT_Pinsky-24gDNA-for-316-cycles-H2L52BCXY_1_Read_1_passed_filter.fastq:4190691\n",
      "/local/shared/pinsky_lab/sequencing/hiseq_2016_12_07_SEQ18/htseq.princeton.edu/tmp/34BL9VgAV0mlypg2k/N502-CTCTCTAT-X-N703-TTCTGCCT_Pinsky-24gDNA-for-316-cycles-H2L52BCXY_1_Read_4_passed_filter.fastq:4190691\n",
      "/local/shared/pinsky_lab/sequencing/hiseq_2016_12_07_SEQ18/htseq.princeton.edu/tmp/34BL9VgAV0mlypg2k/N502-CTCTCTAT-X-N704-GCTCAGGA_Pinsky-24gDNA-for-316-cycles-H2L52BCXY_1_Read_1_passed_filter.fastq:4960458\n",
      "/local/shared/pinsky_lab/sequencing/hiseq_2016_12_07_SEQ18/htseq.princeton.edu/tmp/34BL9VgAV0mlypg2k/N502-CTCTCTAT-X-N704-GCTCAGGA_Pinsky-24gDNA-for-316-cycles-H2L52BCXY_1_Read_4_passed_filter.fastq:4960458\n",
      "/local/shared/pinsky_lab/sequencing/hiseq_2016_12_07_SEQ18/htseq.princeton.edu/tmp/34BL9VgAV0mlypg2k/N502-CTCTCTAT-X-N705-AGGAGTCC_Pinsky-24gDNA-for-316-cycles-H2L52BCXY_1_Read_1_passed_filter.fastq:3970126\n",
      "/local/shared/pinsky_lab/sequencing/hiseq_2016_12_07_SEQ18/htseq.princeton.edu/tmp/34BL9VgAV0mlypg2k/N502-CTCTCTAT-X-N705-AGGAGTCC_Pinsky-24gDNA-for-316-cycles-H2L52BCXY_1_Read_4_passed_filter.fastq:3970126\n",
      "/local/shared/pinsky_lab/sequencing/hiseq_2016_12_07_SEQ18/htseq.princeton.edu/tmp/34BL9VgAV0mlypg2k/N502-CTCTCTAT-X-N706CATGCCTA_Pinsky-24gDNA-for-316-cycles-H2L52BCXY_1_Read_1_passed_filter.fastq:4842987\n",
      "/local/shared/pinsky_lab/sequencing/hiseq_2016_12_07_SEQ18/htseq.princeton.edu/tmp/34BL9VgAV0mlypg2k/N502-CTCTCTAT-X-N706CATGCCTA_Pinsky-24gDNA-for-316-cycles-H2L52BCXY_1_Read_4_passed_filter.fastq:4842987\n",
      "/local/shared/pinsky_lab/sequencing/hiseq_2016_12_07_SEQ18/htseq.princeton.edu/tmp/34BL9VgAV0mlypg2k/N503-TATCCTCT-X-N701-TCGCCTTA_Pinsky-24gDNA-for-316-cycles-H2L52BCXY_1_Read_1_passed_filter.fastq:6951000\n",
      "/local/shared/pinsky_lab/sequencing/hiseq_2016_12_07_SEQ18/htseq.princeton.edu/tmp/34BL9VgAV0mlypg2k/N503-TATCCTCT-X-N701-TCGCCTTA_Pinsky-24gDNA-for-316-cycles-H2L52BCXY_1_Read_4_passed_filter.fastq:6951000\n",
      "/local/shared/pinsky_lab/sequencing/hiseq_2016_12_07_SEQ18/htseq.princeton.edu/tmp/34BL9VgAV0mlypg2k/N503-TATCCTCTX-N702-CTAGTACG_Pinsky-24gDNA-for-316-cycles-H2L52BCXY_1_Read_1_passed_filter.fastq:3078538\n",
      "/local/shared/pinsky_lab/sequencing/hiseq_2016_12_07_SEQ18/htseq.princeton.edu/tmp/34BL9VgAV0mlypg2k/N503-TATCCTCTX-N702-CTAGTACG_Pinsky-24gDNA-for-316-cycles-H2L52BCXY_1_Read_4_passed_filter.fastq:3078538\n",
      "/local/shared/pinsky_lab/sequencing/hiseq_2016_12_07_SEQ18/htseq.princeton.edu/tmp/34BL9VgAV0mlypg2k/N503-TATCCTCT-X-N703-TTCTGCCT_Pinsky-24gDNA-for-316-cycles-H2L52BCXY_1_Read_1_passed_filter.fastq:7811845\n",
      "/local/shared/pinsky_lab/sequencing/hiseq_2016_12_07_SEQ18/htseq.princeton.edu/tmp/34BL9VgAV0mlypg2k/N503-TATCCTCT-X-N703-TTCTGCCT_Pinsky-24gDNA-for-316-cycles-H2L52BCXY_1_Read_4_passed_filter.fastq:7811845\n",
      "/local/shared/pinsky_lab/sequencing/hiseq_2016_12_07_SEQ18/htseq.princeton.edu/tmp/34BL9VgAV0mlypg2k/N503-TATCCTCT-X-N704-GCTCAGGA_Pinsky-24gDNA-for-316-cycles-H2L52BCXY_1_Read_1_passed_filter.fastq:4015504\n",
      "/local/shared/pinsky_lab/sequencing/hiseq_2016_12_07_SEQ18/htseq.princeton.edu/tmp/34BL9VgAV0mlypg2k/N503-TATCCTCT-X-N704-GCTCAGGA_Pinsky-24gDNA-for-316-cycles-H2L52BCXY_1_Read_4_passed_filter.fastq:4015504\n",
      "/local/shared/pinsky_lab/sequencing/hiseq_2016_12_07_SEQ18/htseq.princeton.edu/tmp/34BL9VgAV0mlypg2k/N503-TATCCTCT-X-N705-AGGAGTCC_Pinsky-24gDNA-for-316-cycles-H2L52BCXY_1_Read_1_passed_filter.fastq:4799980\n",
      "/local/shared/pinsky_lab/sequencing/hiseq_2016_12_07_SEQ18/htseq.princeton.edu/tmp/34BL9VgAV0mlypg2k/N503-TATCCTCT-X-N705-AGGAGTCC_Pinsky-24gDNA-for-316-cycles-H2L52BCXY_1_Read_4_passed_filter.fastq:4799980\n",
      "/local/shared/pinsky_lab/sequencing/hiseq_2016_12_07_SEQ18/htseq.princeton.edu/tmp/34BL9VgAV0mlypg2k/N503-TATCCTCT-X-N706CATGCCTA_Pinsky-24gDNA-for-316-cycles-H2L52BCXY_1_Read_1_passed_filter.fastq:5450326\n",
      "/local/shared/pinsky_lab/sequencing/hiseq_2016_12_07_SEQ18/htseq.princeton.edu/tmp/34BL9VgAV0mlypg2k/N503-TATCCTCT-X-N706CATGCCTA_Pinsky-24gDNA-for-316-cycles-H2L52BCXY_1_Read_4_passed_filter.fastq:5450326\n",
      "/local/shared/pinsky_lab/sequencing/hiseq_2016_12_07_SEQ18/htseq.princeton.edu/tmp/34BL9VgAV0mlypg2k/N504-AGAGTAGA-X-N701-TCGCCTTA_Pinsky-24gDNA-for-316-cycles-H2L52BCXY_1_Read_1_passed_filter.fastq:4009633\n",
      "/local/shared/pinsky_lab/sequencing/hiseq_2016_12_07_SEQ18/htseq.princeton.edu/tmp/34BL9VgAV0mlypg2k/N504-AGAGTAGA-X-N701-TCGCCTTA_Pinsky-24gDNA-for-316-cycles-H2L52BCXY_1_Read_4_passed_filter.fastq:4009633\n",
      "/local/shared/pinsky_lab/sequencing/hiseq_2016_12_07_SEQ18/htseq.princeton.edu/tmp/34BL9VgAV0mlypg2k/N504-AGAGTAGAX-N702-CTAGTACG_Pinsky-24gDNA-for-316-cycles-H2L52BCXY_1_Read_1_passed_filter.fastq:2886890\n",
      "/local/shared/pinsky_lab/sequencing/hiseq_2016_12_07_SEQ18/htseq.princeton.edu/tmp/34BL9VgAV0mlypg2k/N504-AGAGTAGAX-N702-CTAGTACG_Pinsky-24gDNA-for-316-cycles-H2L52BCXY_1_Read_4_passed_filter.fastq:2886890\n",
      "/local/shared/pinsky_lab/sequencing/hiseq_2016_12_07_SEQ18/htseq.princeton.edu/tmp/34BL9VgAV0mlypg2k/N504-AGAGTAGAX-N703-TTCTGCCT_Pinsky-24gDNA-for-316-cycles-H2L52BCXY_1_Read_1_passed_filter.fastq:9034835\n",
      "/local/shared/pinsky_lab/sequencing/hiseq_2016_12_07_SEQ18/htseq.princeton.edu/tmp/34BL9VgAV0mlypg2k/N504-AGAGTAGAX-N703-TTCTGCCT_Pinsky-24gDNA-for-316-cycles-H2L52BCXY_1_Read_4_passed_filter.fastq:9034835\n",
      "/local/shared/pinsky_lab/sequencing/hiseq_2016_12_07_SEQ18/htseq.princeton.edu/tmp/34BL9VgAV0mlypg2k/N504-AGAGTAGAX-N704-GCTCAGGA_Pinsky-24gDNA-for-316-cycles-H2L52BCXY_1_Read_1_passed_filter.fastq:4134493\n",
      "/local/shared/pinsky_lab/sequencing/hiseq_2016_12_07_SEQ18/htseq.princeton.edu/tmp/34BL9VgAV0mlypg2k/N504-AGAGTAGAX-N704-GCTCAGGA_Pinsky-24gDNA-for-316-cycles-H2L52BCXY_1_Read_4_passed_filter.fastq:4134493\n",
      "/local/shared/pinsky_lab/sequencing/hiseq_2016_12_07_SEQ18/htseq.princeton.edu/tmp/34BL9VgAV0mlypg2k/N504-AGAGTAGA-X-N705-AGGAGTCC_Pinsky-24gDNA-for-316-cycles-H2L52BCXY_1_Read_1_passed_filter.fastq:3223559\n",
      "/local/shared/pinsky_lab/sequencing/hiseq_2016_12_07_SEQ18/htseq.princeton.edu/tmp/34BL9VgAV0mlypg2k/N504-AGAGTAGA-X-N705-AGGAGTCC_Pinsky-24gDNA-for-316-cycles-H2L52BCXY_1_Read_4_passed_filter.fastq:3223559\n",
      "/local/shared/pinsky_lab/sequencing/hiseq_2016_12_07_SEQ18/htseq.princeton.edu/tmp/34BL9VgAV0mlypg2k/N504-AGAGTAGA-X-N706CATGCCTA_Pinsky-24gDNA-for-316-cycles-H2L52BCXY_1_Read_1_passed_filter.fastq:3255619\n",
      "/local/shared/pinsky_lab/sequencing/hiseq_2016_12_07_SEQ18/htseq.princeton.edu/tmp/34BL9VgAV0mlypg2k/N504-AGAGTAGA-X-N706CATGCCTA_Pinsky-24gDNA-for-316-cycles-H2L52BCXY_1_Read_4_passed_filter.fastq:3255619\n",
      "/local/shared/pinsky_lab/sequencing/hiseq_2016_12_07_SEQ18/htseq.princeton.edu/tmp/34BL9VgAV0mlypg2k/N517-GCGTAAGA-X-N701-TCGCCTTA_Pinsky-24gDNA-for-316-cycles-H2L52BCXY_1_Read_1_passed_filter.fastq:1387250\n",
      "/local/shared/pinsky_lab/sequencing/hiseq_2016_12_07_SEQ18/htseq.princeton.edu/tmp/34BL9VgAV0mlypg2k/N517-GCGTAAGA-X-N701-TCGCCTTA_Pinsky-24gDNA-for-316-cycles-H2L52BCXY_1_Read_4_passed_filter.fastq:1387250\n",
      "/local/shared/pinsky_lab/sequencing/hiseq_2016_12_07_SEQ18/htseq.princeton.edu/tmp/34BL9VgAV0mlypg2k/N517-GCGTAAGA-X-N702-CTAGTACG_Pinsky-24gDNA-for-316-cycles-H2L52BCXY_1_Read_1_passed_filter.fastq:9780054\n",
      "/local/shared/pinsky_lab/sequencing/hiseq_2016_12_07_SEQ18/htseq.princeton.edu/tmp/34BL9VgAV0mlypg2k/N517-GCGTAAGA-X-N702-CTAGTACG_Pinsky-24gDNA-for-316-cycles-H2L52BCXY_1_Read_4_passed_filter.fastq:9780054\n",
      "/local/shared/pinsky_lab/sequencing/hiseq_2016_12_07_SEQ18/htseq.princeton.edu/tmp/34BL9VgAV0mlypg2k/N517-GCGTAAGA-X-N703-TTCTGCCT_Pinsky-24gDNA-for-316-cycles-H2L52BCXY_1_Read_1_passed_filter.fastq:6567495\n",
      "/local/shared/pinsky_lab/sequencing/hiseq_2016_12_07_SEQ18/htseq.princeton.edu/tmp/34BL9VgAV0mlypg2k/N517-GCGTAAGA-X-N703-TTCTGCCT_Pinsky-24gDNA-for-316-cycles-H2L52BCXY_1_Read_4_passed_filter.fastq:6567495\n",
      "/local/shared/pinsky_lab/sequencing/hiseq_2016_12_07_SEQ18/htseq.princeton.edu/tmp/34BL9VgAV0mlypg2k/N517-GCGTAAGA-X-N704-GCTCAGGA_Pinsky-24gDNA-for-316-cycles-H2L52BCXY_1_Read_1_passed_filter.fastq:3443133\n",
      "/local/shared/pinsky_lab/sequencing/hiseq_2016_12_07_SEQ18/htseq.princeton.edu/tmp/34BL9VgAV0mlypg2k/N517-GCGTAAGA-X-N704-GCTCAGGA_Pinsky-24gDNA-for-316-cycles-H2L52BCXY_1_Read_4_passed_filter.fastq:3443133\n",
      "/local/shared/pinsky_lab/sequencing/hiseq_2016_12_07_SEQ18/htseq.princeton.edu/tmp/34BL9VgAV0mlypg2k/N517-GCGTAAGA-X-N705-AGGAGTCC_Pinsky-24gDNA-for-316-cycles-H2L52BCXY_1_Read_1_passed_filter.fastq:5059512\n",
      "/local/shared/pinsky_lab/sequencing/hiseq_2016_12_07_SEQ18/htseq.princeton.edu/tmp/34BL9VgAV0mlypg2k/N517-GCGTAAGA-X-N705-AGGAGTCC_Pinsky-24gDNA-for-316-cycles-H2L52BCXY_1_Read_4_passed_filter.fastq:5059512\n",
      "/local/shared/pinsky_lab/sequencing/hiseq_2016_12_07_SEQ18/htseq.princeton.edu/tmp/34BL9VgAV0mlypg2k/N517-GCGTAAGA-X-N706CATGCCTA_Pinsky-24gDNA-for-316-cycles-H2L52BCXY_1_Read_1_passed_filter.fastq:5776702\n",
      "/local/shared/pinsky_lab/sequencing/hiseq_2016_12_07_SEQ18/htseq.princeton.edu/tmp/34BL9VgAV0mlypg2k/N517-GCGTAAGA-X-N706CATGCCTA_Pinsky-24gDNA-for-316-cycles-H2L52BCXY_1_Read_4_passed_filter.fastq:5776702\n"
     ]
    }
   ],
   "source": [
    "! grep -c '^@J' -r /local/shared/pinsky_lab/sequencing/hiseq_2016_12_07_SEQ18/htseq.princeton.edu/tmp/34BL9VgAV0mlypg2k/*.fastq"
   ]
  },
  {
   "cell_type": "code",
   "execution_count": 17,
   "metadata": {
    "collapsed": false,
    "scrolled": false
   },
   "outputs": [],
   "source": [
    "! mkdir ~/WGS"
   ]
  },
  {
   "cell_type": "code",
   "execution_count": 18,
   "metadata": {
    "collapsed": true,
    "scrolled": false
   },
   "outputs": [],
   "source": [
    "! mkdir /local/home/sarahgw/WGS/Sequences"
   ]
  },
  {
   "cell_type": "code",
   "execution_count": 19,
   "metadata": {
    "collapsed": true,
    "scrolled": false
   },
   "outputs": [],
   "source": [
    "! mkdir /local/home/sarahgw/WGS/Sequences/hiseq_2016_12_07/"
   ]
  },
  {
   "cell_type": "code",
   "execution_count": 20,
   "metadata": {
    "collapsed": true,
    "scrolled": false
   },
   "outputs": [],
   "source": [
    "! cp -r /local/shared/pinsky_lab/sequencing/hiseq_2016_12_07_SEQ18/xVUAm7hdX422fBBHl/* /local/home/sarahgw/WGS/Sequences/hiseq_2016_12_07/"
   ]
  },
  {
   "cell_type": "code",
   "execution_count": 16,
   "metadata": {
    "collapsed": true
   },
   "outputs": [],
   "source": [
    "! cp -r /local/shared/pinsky_lab/sequencing/hiseq_2016_12_07_SEQ18/htseq.princeton.edu/tmp/34BL9VgAV0mlypg2k/* /local/home/sarahgw/WGS/Sequences/hiseq_2016_12_07/"
   ]
  },
  {
   "cell_type": "code",
   "execution_count": 17,
   "metadata": {
    "collapsed": false,
    "scrolled": true
   },
   "outputs": [
    {
     "name": "stdout",
     "output_type": "stream",
     "text": [
      "index.html\r\n",
      "N502-CTCTCTAT-X-N701-TCGCCTTA_Pinsky-24gDNA-for-316-cycles-H2L52BCXY_1_Read_1_passed_filter.fastq\r\n",
      "N502-CTCTCTAT-X-N701-TCGCCTTA_Pinsky-24gDNA-for-316-cycles-H2L52BCXY_1_Read_4_passed_filter.fastq\r\n",
      "N502-CTCTCTATX-N702-CTAGTACG_Pinsky-24gDNA-for-316-cycles-H2L52BCXY_1_Read_1_passed_filter.fastq\r\n",
      "N502-CTCTCTATX-N702-CTAGTACG_Pinsky-24gDNA-for-316-cycles-H2L52BCXY_1_Read_4_passed_filter.fastq\r\n",
      "N502-CTCTCTAT-X-N703-TTCTGCCT_Pinsky-24gDNA-for-316-cycles-H2L52BCXY_1_Read_1_passed_filter.fastq\r\n",
      "N502-CTCTCTAT-X-N703-TTCTGCCT_Pinsky-24gDNA-for-316-cycles-H2L52BCXY_1_Read_4_passed_filter.fastq\r\n",
      "N502-CTCTCTAT-X-N704-GCTCAGGA_Pinsky-24gDNA-for-316-cycles-H2L52BCXY_1_Read_1_passed_filter.fastq\r\n",
      "N502-CTCTCTAT-X-N704-GCTCAGGA_Pinsky-24gDNA-for-316-cycles-H2L52BCXY_1_Read_4_passed_filter.fastq\r\n",
      "N502-CTCTCTAT-X-N705-AGGAGTCC_Pinsky-24gDNA-for-316-cycles-H2L52BCXY_1_Read_1_passed_filter.fastq\r\n",
      "N502-CTCTCTAT-X-N705-AGGAGTCC_Pinsky-24gDNA-for-316-cycles-H2L52BCXY_1_Read_4_passed_filter.fastq\r\n",
      "N502-CTCTCTAT-X-N706CATGCCTA_Pinsky-24gDNA-for-316-cycles-H2L52BCXY_1_Read_1_passed_filter.fastq\r\n",
      "N502-CTCTCTAT-X-N706CATGCCTA_Pinsky-24gDNA-for-316-cycles-H2L52BCXY_1_Read_4_passed_filter.fastq\r\n",
      "N503-TATCCTCT-X-N701-TCGCCTTA_Pinsky-24gDNA-for-316-cycles-H2L52BCXY_1_Read_1_passed_filter.fastq\r\n",
      "N503-TATCCTCT-X-N701-TCGCCTTA_Pinsky-24gDNA-for-316-cycles-H2L52BCXY_1_Read_4_passed_filter.fastq\r\n",
      "N503-TATCCTCTX-N702-CTAGTACG_Pinsky-24gDNA-for-316-cycles-H2L52BCXY_1_Read_1_passed_filter.fastq\r\n",
      "N503-TATCCTCTX-N702-CTAGTACG_Pinsky-24gDNA-for-316-cycles-H2L52BCXY_1_Read_4_passed_filter.fastq\r\n",
      "N503-TATCCTCT-X-N703-TTCTGCCT_Pinsky-24gDNA-for-316-cycles-H2L52BCXY_1_Read_1_passed_filter.fastq\r\n",
      "N503-TATCCTCT-X-N703-TTCTGCCT_Pinsky-24gDNA-for-316-cycles-H2L52BCXY_1_Read_4_passed_filter.fastq\r\n",
      "N503-TATCCTCT-X-N704-GCTCAGGA_Pinsky-24gDNA-for-316-cycles-H2L52BCXY_1_Read_1_passed_filter.fastq\r\n",
      "N503-TATCCTCT-X-N704-GCTCAGGA_Pinsky-24gDNA-for-316-cycles-H2L52BCXY_1_Read_4_passed_filter.fastq\r\n",
      "N503-TATCCTCT-X-N705-AGGAGTCC_Pinsky-24gDNA-for-316-cycles-H2L52BCXY_1_Read_1_passed_filter.fastq\r\n",
      "N503-TATCCTCT-X-N705-AGGAGTCC_Pinsky-24gDNA-for-316-cycles-H2L52BCXY_1_Read_4_passed_filter.fastq\r\n",
      "N503-TATCCTCT-X-N706CATGCCTA_Pinsky-24gDNA-for-316-cycles-H2L52BCXY_1_Read_1_passed_filter.fastq\r\n",
      "N503-TATCCTCT-X-N706CATGCCTA_Pinsky-24gDNA-for-316-cycles-H2L52BCXY_1_Read_4_passed_filter.fastq\r\n",
      "N504-AGAGTAGA-X-N701-TCGCCTTA_Pinsky-24gDNA-for-316-cycles-H2L52BCXY_1_Read_1_passed_filter.fastq\r\n",
      "N504-AGAGTAGA-X-N701-TCGCCTTA_Pinsky-24gDNA-for-316-cycles-H2L52BCXY_1_Read_4_passed_filter.fastq\r\n",
      "N504-AGAGTAGAX-N702-CTAGTACG_Pinsky-24gDNA-for-316-cycles-H2L52BCXY_1_Read_1_passed_filter.fastq\r\n",
      "N504-AGAGTAGAX-N702-CTAGTACG_Pinsky-24gDNA-for-316-cycles-H2L52BCXY_1_Read_4_passed_filter.fastq\r\n",
      "N504-AGAGTAGAX-N703-TTCTGCCT_Pinsky-24gDNA-for-316-cycles-H2L52BCXY_1_Read_1_passed_filter.fastq\r\n",
      "N504-AGAGTAGAX-N703-TTCTGCCT_Pinsky-24gDNA-for-316-cycles-H2L52BCXY_1_Read_4_passed_filter.fastq\r\n",
      "N504-AGAGTAGAX-N704-GCTCAGGA_Pinsky-24gDNA-for-316-cycles-H2L52BCXY_1_Read_1_passed_filter.fastq\r\n",
      "N504-AGAGTAGAX-N704-GCTCAGGA_Pinsky-24gDNA-for-316-cycles-H2L52BCXY_1_Read_4_passed_filter.fastq\r\n",
      "N504-AGAGTAGA-X-N705-AGGAGTCC_Pinsky-24gDNA-for-316-cycles-H2L52BCXY_1_Read_1_passed_filter.fastq\r\n",
      "N504-AGAGTAGA-X-N705-AGGAGTCC_Pinsky-24gDNA-for-316-cycles-H2L52BCXY_1_Read_4_passed_filter.fastq\r\n",
      "N504-AGAGTAGA-X-N706CATGCCTA_Pinsky-24gDNA-for-316-cycles-H2L52BCXY_1_Read_1_passed_filter.fastq\r\n",
      "N504-AGAGTAGA-X-N706CATGCCTA_Pinsky-24gDNA-for-316-cycles-H2L52BCXY_1_Read_4_passed_filter.fastq\r\n",
      "N517-GCGTAAGA-X-N701-TCGCCTTA_Pinsky-24gDNA-for-316-cycles-H2L52BCXY_1_Read_1_passed_filter.fastq\r\n",
      "N517-GCGTAAGA-X-N701-TCGCCTTA_Pinsky-24gDNA-for-316-cycles-H2L52BCXY_1_Read_4_passed_filter.fastq\r\n",
      "N517-GCGTAAGA-X-N702-CTAGTACG_Pinsky-24gDNA-for-316-cycles-H2L52BCXY_1_Read_1_passed_filter.fastq\r\n",
      "N517-GCGTAAGA-X-N702-CTAGTACG_Pinsky-24gDNA-for-316-cycles-H2L52BCXY_1_Read_4_passed_filter.fastq\r\n",
      "N517-GCGTAAGA-X-N703-TTCTGCCT_Pinsky-24gDNA-for-316-cycles-H2L52BCXY_1_Read_1_passed_filter.fastq\r\n",
      "N517-GCGTAAGA-X-N703-TTCTGCCT_Pinsky-24gDNA-for-316-cycles-H2L52BCXY_1_Read_4_passed_filter.fastq\r\n",
      "N517-GCGTAAGA-X-N704-GCTCAGGA_Pinsky-24gDNA-for-316-cycles-H2L52BCXY_1_Read_1_passed_filter.fastq\r\n",
      "N517-GCGTAAGA-X-N704-GCTCAGGA_Pinsky-24gDNA-for-316-cycles-H2L52BCXY_1_Read_4_passed_filter.fastq\r\n",
      "N517-GCGTAAGA-X-N705-AGGAGTCC_Pinsky-24gDNA-for-316-cycles-H2L52BCXY_1_Read_1_passed_filter.fastq\r\n",
      "N517-GCGTAAGA-X-N705-AGGAGTCC_Pinsky-24gDNA-for-316-cycles-H2L52BCXY_1_Read_4_passed_filter.fastq\r\n",
      "N517-GCGTAAGA-X-N706CATGCCTA_Pinsky-24gDNA-for-316-cycles-H2L52BCXY_1_Read_1_passed_filter.fastq\r\n",
      "N517-GCGTAAGA-X-N706CATGCCTA_Pinsky-24gDNA-for-316-cycles-H2L52BCXY_1_Read_4_passed_filter.fastq\r\n",
      "NJ_E_22\r\n",
      "NJ_E_23\r\n",
      "NJ_E_24\r\n",
      "NJ_E_25\r\n",
      "NJ_E_26\r\n",
      "NJ_E_27\r\n",
      "NJ_E_28\r\n",
      "NJ_E_29\r\n",
      "NJ_E_30\r\n",
      "NJ_U_01\r\n",
      "NJ_U_02\r\n",
      "NJ_U_03\r\n",
      "NJ_U_04\r\n",
      "NJ_U_05\r\n",
      "NJ_U_06\r\n",
      "NJ_U_07\r\n",
      "NJ_U_08\r\n",
      "NJ_U_09\r\n",
      "NJ_U_10\r\n",
      "NJ_U_11\r\n",
      "NJ_U_12\r\n",
      "NJ_U_14\r\n",
      "NJ_U_15\r\n",
      "NJ_U_16\r\n"
     ]
    }
   ],
   "source": [
    "!ls /local/home/sarahgw/WGS/Sequences/hiseq_2016_12_07/"
   ]
  },
  {
   "cell_type": "code",
   "execution_count": 18,
   "metadata": {
    "collapsed": false,
    "scrolled": false
   },
   "outputs": [],
   "source": [
    "!rename '_Pinsky-24gDNA-for-316-cycles-H2L52BCXY_1_' '' /local/home/sarahgw/WGS/Sequences/hiseq_2016_12_07/*"
   ]
  },
  {
   "cell_type": "code",
   "execution_count": 25,
   "metadata": {
    "collapsed": true,
    "scrolled": false
   },
   "outputs": [],
   "source": [
    "!rename 'Read_1_passed_filter' '_Read1' /local/home/sarahgw/WGS/Sequences/hiseq_2016_12_07/*"
   ]
  },
  {
   "cell_type": "code",
   "execution_count": 27,
   "metadata": {
    "collapsed": true,
    "scrolled": false
   },
   "outputs": [],
   "source": [
    "!rename 'Read_4_passed_filter' '_Read2' /local/home/sarahgw/WGS/Sequences/hiseq_2016_12_07/*"
   ]
  },
  {
   "cell_type": "code",
   "execution_count": 28,
   "metadata": {
    "collapsed": false,
    "scrolled": true
   },
   "outputs": [
    {
     "name": "stdout",
     "output_type": "stream",
     "text": [
      "index.html\r\n",
      "N502-CTCTCTAT-X-N701-TCGCCTTA_Read1.fastq\r\n",
      "N502-CTCTCTAT-X-N701-TCGCCTTA_Read2.fastq\r\n",
      "N502-CTCTCTATX-N702-CTAGTACG_Read1.fastq\r\n",
      "N502-CTCTCTATX-N702-CTAGTACG_Read2.fastq\r\n",
      "N502-CTCTCTAT-X-N703-TTCTGCCT_Read1.fastq\r\n",
      "N502-CTCTCTAT-X-N703-TTCTGCCT_Read2.fastq\r\n",
      "N502-CTCTCTAT-X-N704-GCTCAGGA_Read1.fastq\r\n",
      "N502-CTCTCTAT-X-N704-GCTCAGGA_Read2.fastq\r\n",
      "N502-CTCTCTAT-X-N705-AGGAGTCC_Read1.fastq\r\n",
      "N502-CTCTCTAT-X-N705-AGGAGTCC_Read2.fastq\r\n",
      "N502-CTCTCTAT-X-N706CATGCCTA_Read1.fastq\r\n",
      "N502-CTCTCTAT-X-N706CATGCCTA_Read2.fastq\r\n",
      "N503-TATCCTCT-X-N701-TCGCCTTA_Read1.fastq\r\n",
      "N503-TATCCTCT-X-N701-TCGCCTTA_Read2.fastq\r\n",
      "N503-TATCCTCTX-N702-CTAGTACG_Read1.fastq\r\n",
      "N503-TATCCTCTX-N702-CTAGTACG_Read2.fastq\r\n",
      "N503-TATCCTCT-X-N703-TTCTGCCT_Read1.fastq\r\n",
      "N503-TATCCTCT-X-N703-TTCTGCCT_Read2.fastq\r\n",
      "N503-TATCCTCT-X-N704-GCTCAGGA_Read1.fastq\r\n",
      "N503-TATCCTCT-X-N704-GCTCAGGA_Read2.fastq\r\n",
      "N503-TATCCTCT-X-N705-AGGAGTCC_Read1.fastq\r\n",
      "N503-TATCCTCT-X-N705-AGGAGTCC_Read2.fastq\r\n",
      "N503-TATCCTCT-X-N706CATGCCTA_Read1.fastq\r\n",
      "N503-TATCCTCT-X-N706CATGCCTA_Read2.fastq\r\n",
      "N504-AGAGTAGA-X-N701-TCGCCTTA_Read1.fastq\r\n",
      "N504-AGAGTAGA-X-N701-TCGCCTTA_Read2.fastq\r\n",
      "N504-AGAGTAGAX-N702-CTAGTACG_Read1.fastq\r\n",
      "N504-AGAGTAGAX-N702-CTAGTACG_Read2.fastq\r\n",
      "N504-AGAGTAGAX-N703-TTCTGCCT_Read1.fastq\r\n",
      "N504-AGAGTAGAX-N703-TTCTGCCT_Read2.fastq\r\n",
      "N504-AGAGTAGAX-N704-GCTCAGGA_Read1.fastq\r\n",
      "N504-AGAGTAGAX-N704-GCTCAGGA_Read2.fastq\r\n",
      "N504-AGAGTAGA-X-N705-AGGAGTCC_Read1.fastq\r\n",
      "N504-AGAGTAGA-X-N705-AGGAGTCC_Read2.fastq\r\n",
      "N504-AGAGTAGA-X-N706CATGCCTA_Read1.fastq\r\n",
      "N504-AGAGTAGA-X-N706CATGCCTA_Read2.fastq\r\n",
      "N517-GCGTAAGA-X-N701-TCGCCTTA_Read1.fastq\r\n",
      "N517-GCGTAAGA-X-N701-TCGCCTTA_Read2.fastq\r\n",
      "N517-GCGTAAGA-X-N702-CTAGTACG_Read1.fastq\r\n",
      "N517-GCGTAAGA-X-N702-CTAGTACG_Read2.fastq\r\n",
      "N517-GCGTAAGA-X-N703-TTCTGCCT_Read1.fastq\r\n",
      "N517-GCGTAAGA-X-N703-TTCTGCCT_Read2.fastq\r\n",
      "N517-GCGTAAGA-X-N704-GCTCAGGA_Read1.fastq\r\n",
      "N517-GCGTAAGA-X-N704-GCTCAGGA_Read2.fastq\r\n",
      "N517-GCGTAAGA-X-N705-AGGAGTCC_Read1.fastq\r\n",
      "N517-GCGTAAGA-X-N705-AGGAGTCC_Read2.fastq\r\n",
      "N517-GCGTAAGA-X-N706CATGCCTA_Read1.fastq\r\n",
      "N517-GCGTAAGA-X-N706CATGCCTA_Read2.fastq\r\n",
      "NJ_E_22\r\n",
      "NJ_E_23\r\n",
      "NJ_E_24\r\n",
      "NJ_E_25\r\n",
      "NJ_E_26\r\n",
      "NJ_E_27\r\n",
      "NJ_E_28\r\n",
      "NJ_E_29\r\n",
      "NJ_E_30\r\n",
      "NJ_U_01\r\n",
      "NJ_U_02\r\n",
      "NJ_U_03\r\n",
      "NJ_U_04\r\n",
      "NJ_U_05\r\n",
      "NJ_U_06\r\n",
      "NJ_U_07\r\n",
      "NJ_U_08\r\n",
      "NJ_U_09\r\n",
      "NJ_U_10\r\n",
      "NJ_U_11\r\n",
      "NJ_U_12\r\n",
      "NJ_U_14\r\n",
      "NJ_U_15\r\n",
      "NJ_U_16\r\n"
     ]
    }
   ],
   "source": [
    "!ls /local/home/sarahgw/WGS/Sequences/hiseq_2016_12_07/"
   ]
  },
  {
   "cell_type": "markdown",
   "metadata": {},
   "source": [
    "There's obviously a better way to do this, but I've already wasted an hour figuring it out and im impatient right now. Figure it out later for when you have all of the samples!"
   ]
  },
  {
   "cell_type": "code",
   "execution_count": 22,
   "metadata": {
    "collapsed": true,
    "scrolled": false
   },
   "outputs": [],
   "source": [
    "! mkdir /local/home/sarahgw/WGS/Sequences/hiseq_2016_12_07/NJ_E_23"
   ]
  },
  {
   "cell_type": "code",
   "execution_count": 37,
   "metadata": {
    "collapsed": true,
    "scrolled": false
   },
   "outputs": [],
   "source": [
    "!mv /local/home/sarahgw/WGS/Sequences/hiseq_2016_12_07/N502-CTCTCTAT-X-N701-TCGCCTTA_Read1.fastq /local/home/sarahgw/WGS/Sequences/hiseq_2016_12_07/NJ_E_23"
   ]
  },
  {
   "cell_type": "code",
   "execution_count": 39,
   "metadata": {
    "collapsed": true,
    "scrolled": false
   },
   "outputs": [],
   "source": [
    "!mv /local/home/sarahgw/WGS/Sequences/hiseq_2016_12_07/N502-CTCTCTAT-X-N701-TCGCCTTA_Read2.fastq /local/home/sarahgw/WGS/Sequences/hiseq_2016_12_07/NJ_E_23"
   ]
  },
  {
   "cell_type": "code",
   "execution_count": 40,
   "metadata": {
    "collapsed": false,
    "scrolled": false
   },
   "outputs": [
    {
     "name": "stdout",
     "output_type": "stream",
     "text": [
      "N502-CTCTCTAT-X-N701-TCGCCTTA_Read1.fastq\r\n",
      "N502-CTCTCTAT-X-N701-TCGCCTTA_Read2.fastq\r\n"
     ]
    }
   ],
   "source": [
    "!ls /local/home/sarahgw/WGS/Sequences/hiseq_2016_12_07/NJ_E_23/"
   ]
  },
  {
   "cell_type": "code",
   "execution_count": 1,
   "metadata": {
    "collapsed": true,
    "scrolled": false
   },
   "outputs": [],
   "source": [
    "! mkdir /local/home/sarahgw/WGS/Sequences/hiseq_2016_12_07/NJ_E_27"
   ]
  },
  {
   "cell_type": "code",
   "execution_count": 2,
   "metadata": {
    "collapsed": true,
    "scrolled": false
   },
   "outputs": [],
   "source": [
    "!mv /local/home/sarahgw/WGS/Sequences/hiseq_2016_12_07/N502-CTCTCTATX-N702-CTAGTACG_Read1.fastq /local/home/sarahgw/WGS/Sequences/hiseq_2016_12_07/NJ_E_27"
   ]
  },
  {
   "cell_type": "code",
   "execution_count": 3,
   "metadata": {
    "collapsed": true,
    "scrolled": false
   },
   "outputs": [],
   "source": [
    "!mv /local/home/sarahgw/WGS/Sequences/hiseq_2016_12_07/N502-CTCTCTATX-N702-CTAGTACG_Read2.fastq /local/home/sarahgw/WGS/Sequences/hiseq_2016_12_07/NJ_E_27"
   ]
  },
  {
   "cell_type": "code",
   "execution_count": 4,
   "metadata": {
    "collapsed": false,
    "scrolled": false
   },
   "outputs": [
    {
     "name": "stdout",
     "output_type": "stream",
     "text": [
      "N502-CTCTCTATX-N702-CTAGTACG_Read1.fastq\r\n",
      "N502-CTCTCTATX-N702-CTAGTACG_Read2.fastq\r\n"
     ]
    }
   ],
   "source": [
    "!ls /local/home/sarahgw/WGS/Sequences/hiseq_2016_12_07/NJ_E_27"
   ]
  },
  {
   "cell_type": "code",
   "execution_count": 2,
   "metadata": {
    "collapsed": false,
    "scrolled": false
   },
   "outputs": [
    {
     "name": "stdout",
     "output_type": "stream",
     "text": [
      "mkdir: cannot create directory `/local/home/sarahgw/WGS/Sequences/hiseq_2016_12_07/NJ_U_01/': File exists\r\n"
     ]
    }
   ],
   "source": [
    "! mkdir /local/home/sarahgw/WGS/Sequences/hiseq_2016_12_07/NJ_U_01/"
   ]
  },
  {
   "cell_type": "code",
   "execution_count": null,
   "metadata": {
    "collapsed": false,
    "scrolled": false
   },
   "outputs": [],
   "source": [
    "!mv /local/home/sarahgw/WGS/Sequences/hiseq_2016_12_07/N502-CTCTCTAT-X-N703-TTCTGCCT_Read1.fastq /local/home/sarahgw/WGS/Sequences/hiseq_2016_12_07/NJ_U_01"
   ]
  },
  {
   "cell_type": "code",
   "execution_count": 7,
   "metadata": {
    "collapsed": true,
    "scrolled": false
   },
   "outputs": [],
   "source": [
    "!mv /local/home/sarahgw/WGS/Sequences/hiseq_2016_12_07/N502-CTCTCTAT-X-N703-TTCTGCCT_Read2.fastq /local/home/sarahgw/WGS/Sequences/hiseq_2016_12_07/NJ_U_01"
   ]
  },
  {
   "cell_type": "code",
   "execution_count": 10,
   "metadata": {
    "collapsed": true,
    "scrolled": false
   },
   "outputs": [],
   "source": [
    "! mkdir /local/home/sarahgw/WGS/Sequences/hiseq_2016_12_07/NJ_U_05"
   ]
  },
  {
   "cell_type": "code",
   "execution_count": 13,
   "metadata": {
    "collapsed": false,
    "scrolled": false
   },
   "outputs": [],
   "source": [
    "!mv /local/home/sarahgw/WGS/Sequences/hiseq_2016_12_07/N502-CTCTCTAT-X-N704-GCTCAGGA_Read*.fastq /local/home/sarahgw/WGS/Sequences/hiseq_2016_12_07/NJ_U_05"
   ]
  },
  {
   "cell_type": "code",
   "execution_count": 14,
   "metadata": {
    "collapsed": false,
    "scrolled": false
   },
   "outputs": [
    {
     "name": "stdout",
     "output_type": "stream",
     "text": [
      "N502-CTCTCTAT-X-N704-GCTCAGGA_Read1.fastq\r\n",
      "N502-CTCTCTAT-X-N704-GCTCAGGA_Read2.fastq\r\n"
     ]
    }
   ],
   "source": [
    "!ls /local/home/sarahgw/WGS/Sequences/hiseq_2016_12_07/NJ_U_05/"
   ]
  },
  {
   "cell_type": "code",
   "execution_count": 16,
   "metadata": {
    "collapsed": true,
    "scrolled": false
   },
   "outputs": [],
   "source": [
    "! mkdir /local/home/sarahgw/WGS/Sequences/hiseq_2016_12_07/NJ_U_09"
   ]
  },
  {
   "cell_type": "code",
   "execution_count": 17,
   "metadata": {
    "collapsed": true,
    "scrolled": false
   },
   "outputs": [],
   "source": [
    "!mv /local/home/sarahgw/WGS/Sequences/hiseq_2016_12_07/N502-CTCTCTAT-X-N705-AGGAGTCC_Read*.fastq /local/home/sarahgw/WGS/Sequences/hiseq_2016_12_07/NJ_U_09"
   ]
  },
  {
   "cell_type": "code",
   "execution_count": 18,
   "metadata": {
    "collapsed": true,
    "scrolled": false
   },
   "outputs": [],
   "source": [
    "! mkdir /local/home/sarahgw/WGS/Sequences/hiseq_2016_12_07/NJ_U_14"
   ]
  },
  {
   "cell_type": "code",
   "execution_count": 19,
   "metadata": {
    "collapsed": true,
    "scrolled": false
   },
   "outputs": [],
   "source": [
    "!mv /local/home/sarahgw/WGS/Sequences/hiseq_2016_12_07/N502-CTCTCTAT-X-N706CATGCCTA_Read*.fastq /local/home/sarahgw/WGS/Sequences/hiseq_2016_12_07/NJ_U_14"
   ]
  },
  {
   "cell_type": "code",
   "execution_count": 20,
   "metadata": {
    "collapsed": true,
    "scrolled": false
   },
   "outputs": [],
   "source": [
    "! mkdir /local/home/sarahgw/WGS/Sequences/hiseq_2016_12_07/NJ_E_24"
   ]
  },
  {
   "cell_type": "code",
   "execution_count": 21,
   "metadata": {
    "collapsed": true,
    "scrolled": false
   },
   "outputs": [],
   "source": [
    "!mv /local/home/sarahgw/WGS/Sequences/hiseq_2016_12_07/N503-TATCCTCT-X-N701-TCGCCTTA_Read*.fastq /local/home/sarahgw/WGS/Sequences/hiseq_2016_12_07/NJ_E_24/"
   ]
  },
  {
   "cell_type": "code",
   "execution_count": 22,
   "metadata": {
    "collapsed": true,
    "scrolled": false
   },
   "outputs": [],
   "source": [
    "! mkdir /local/home/sarahgw/WGS/Sequences/hiseq_2016_12_07/NJ_E_28"
   ]
  },
  {
   "cell_type": "code",
   "execution_count": null,
   "metadata": {
    "collapsed": false,
    "scrolled": false
   },
   "outputs": [],
   "source": [
    "!mv /local/home/sarahgw/WGS/Sequences/hiseq_2016_12_07/N503-TATCCTCTX-N702-CTAGTACG_Read*.fastq /local/home/sarahgw/WGS/Sequences/hiseq_2016_12_07/NJ_E_28/"
   ]
  },
  {
   "cell_type": "code",
   "execution_count": 25,
   "metadata": {
    "collapsed": true
   },
   "outputs": [],
   "source": [
    "! mkdir /local/home/sarahgw/WGS/Sequences/hiseq_2016_12_07/NJ_U_02"
   ]
  },
  {
   "cell_type": "code",
   "execution_count": 26,
   "metadata": {
    "collapsed": true,
    "scrolled": false
   },
   "outputs": [],
   "source": [
    "!mv /local/home/sarahgw/WGS/Sequences/hiseq_2016_12_07/N503-TATCCTCT-X-N703-TTCTGCCT_Read*.fastq /local/home/sarahgw/WGS/Sequences/hiseq_2016_12_07/NJ_U_02/"
   ]
  },
  {
   "cell_type": "code",
   "execution_count": 27,
   "metadata": {
    "collapsed": true
   },
   "outputs": [],
   "source": [
    "! mkdir /local/home/sarahgw/WGS/Sequences/hiseq_2016_12_07/NJ_U_06"
   ]
  },
  {
   "cell_type": "code",
   "execution_count": 28,
   "metadata": {
    "collapsed": true
   },
   "outputs": [],
   "source": [
    "!mv /local/home/sarahgw/WGS/Sequences/hiseq_2016_12_07/N503-TATCCTCT-X-N704-GCTCAGGA_Read*.fastq /local/home/sarahgw/WGS/Sequences/hiseq_2016_12_07/NJ_U_06/"
   ]
  },
  {
   "cell_type": "code",
   "execution_count": 29,
   "metadata": {
    "collapsed": true
   },
   "outputs": [],
   "source": [
    "! mkdir /local/home/sarahgw/WGS/Sequences/hiseq_2016_12_07/NJ_U_10"
   ]
  },
  {
   "cell_type": "code",
   "execution_count": 30,
   "metadata": {
    "collapsed": true
   },
   "outputs": [],
   "source": [
    "!mv /local/home/sarahgw/WGS/Sequences/hiseq_2016_12_07/N503-TATCCTCT-X-N705-AGGAGTCC_Read*.fastq /local/home/sarahgw/WGS/Sequences/hiseq_2016_12_07/NJ_U_10/"
   ]
  },
  {
   "cell_type": "code",
   "execution_count": 31,
   "metadata": {
    "collapsed": true
   },
   "outputs": [],
   "source": [
    "! mkdir /local/home/sarahgw/WGS/Sequences/hiseq_2016_12_07/NJ_U_15"
   ]
  },
  {
   "cell_type": "code",
   "execution_count": 32,
   "metadata": {
    "collapsed": true
   },
   "outputs": [],
   "source": [
    "!mv /local/home/sarahgw/WGS/Sequences/hiseq_2016_12_07/N503-TATCCTCT-X-N706CATGCCTA_Read*.fastq /local/home/sarahgw/WGS/Sequences/hiseq_2016_12_07/NJ_U_15/"
   ]
  },
  {
   "cell_type": "code",
   "execution_count": 33,
   "metadata": {
    "collapsed": true
   },
   "outputs": [],
   "source": [
    "! mkdir /local/home/sarahgw/WGS/Sequences/hiseq_2016_12_07/NJ_E_25"
   ]
  },
  {
   "cell_type": "code",
   "execution_count": 36,
   "metadata": {
    "collapsed": false
   },
   "outputs": [],
   "source": [
    "!mv /local/home/sarahgw/WGS/Sequences/hiseq_2016_12_07/NJ_U_15/N504-AGAGTAGA-X-N701-TCGCCTTA_Read*.fastq /local/home/sarahgw/WGS/Sequences/hiseq_2016_12_07/NJ_E_25/"
   ]
  },
  {
   "cell_type": "code",
   "execution_count": 37,
   "metadata": {
    "collapsed": true
   },
   "outputs": [],
   "source": [
    "! mkdir /local/home/sarahgw/WGS/Sequences/hiseq_2016_12_07/NJ_E_29"
   ]
  },
  {
   "cell_type": "code",
   "execution_count": 38,
   "metadata": {
    "collapsed": true
   },
   "outputs": [],
   "source": [
    "!mv /local/home/sarahgw/WGS/Sequences/hiseq_2016_12_07/N504-AGAGTAGAX-N702-CTAGTACG_Read*.fastq /local/home/sarahgw/WGS/Sequences/hiseq_2016_12_07/NJ_E_29/"
   ]
  },
  {
   "cell_type": "code",
   "execution_count": 39,
   "metadata": {
    "collapsed": true
   },
   "outputs": [],
   "source": [
    "! mkdir /local/home/sarahgw/WGS/Sequences/hiseq_2016_12_07/NJ_U_03"
   ]
  },
  {
   "cell_type": "code",
   "execution_count": 40,
   "metadata": {
    "collapsed": true
   },
   "outputs": [],
   "source": [
    "!mv /local/home/sarahgw/WGS/Sequences/hiseq_2016_12_07/N504-AGAGTAGAX-N703-TTCTGCCT_Read*.fastq /local/home/sarahgw/WGS/Sequences/hiseq_2016_12_07/NJ_U_03"
   ]
  },
  {
   "cell_type": "code",
   "execution_count": 41,
   "metadata": {
    "collapsed": true
   },
   "outputs": [],
   "source": [
    "! mkdir /local/home/sarahgw/WGS/Sequences/hiseq_2016_12_07/NJ_U_07"
   ]
  },
  {
   "cell_type": "code",
   "execution_count": 42,
   "metadata": {
    "collapsed": true
   },
   "outputs": [],
   "source": [
    "!mv /local/home/sarahgw/WGS/Sequences/hiseq_2016_12_07/N504-AGAGTAGAX-N704-GCTCAGGA_Read*.fastq /local/home/sarahgw/WGS/Sequences/hiseq_2016_12_07/NJ_U_07"
   ]
  },
  {
   "cell_type": "code",
   "execution_count": 43,
   "metadata": {
    "collapsed": true
   },
   "outputs": [],
   "source": [
    "! mkdir /local/home/sarahgw/WGS/Sequences/hiseq_2016_12_07/NJ_U_11"
   ]
  },
  {
   "cell_type": "code",
   "execution_count": 44,
   "metadata": {
    "collapsed": true
   },
   "outputs": [],
   "source": [
    "!mv /local/home/sarahgw/WGS/Sequences/hiseq_2016_12_07/N504-AGAGTAGA-X-N705-AGGAGTCC_Read*.fastq /local/home/sarahgw/WGS/Sequences/hiseq_2016_12_07/NJ_U_11"
   ]
  },
  {
   "cell_type": "code",
   "execution_count": 45,
   "metadata": {
    "collapsed": true
   },
   "outputs": [],
   "source": [
    "! mkdir /local/home/sarahgw/WGS/Sequences/hiseq_2016_12_07/NJ_U_16"
   ]
  },
  {
   "cell_type": "code",
   "execution_count": 46,
   "metadata": {
    "collapsed": true
   },
   "outputs": [],
   "source": [
    "!mv /local/home/sarahgw/WGS/Sequences/hiseq_2016_12_07/N504-AGAGTAGA-X-N706CATGCCTA_Read*.fastq /local/home/sarahgw/WGS/Sequences/hiseq_2016_12_07/NJ_U_16"
   ]
  },
  {
   "cell_type": "code",
   "execution_count": 47,
   "metadata": {
    "collapsed": true
   },
   "outputs": [],
   "source": [
    "! mkdir /local/home/sarahgw/WGS/Sequences/hiseq_2016_12_07/NJ_E_22"
   ]
  },
  {
   "cell_type": "code",
   "execution_count": 48,
   "metadata": {
    "collapsed": true
   },
   "outputs": [],
   "source": [
    "!mv /local/home/sarahgw/WGS/Sequences/hiseq_2016_12_07/N517-GCGTAAGA-X-N701-TCGCCTTA_Read*.fastq /local/home/sarahgw/WGS/Sequences/hiseq_2016_12_07/NJ_E_22"
   ]
  },
  {
   "cell_type": "code",
   "execution_count": 49,
   "metadata": {
    "collapsed": true
   },
   "outputs": [],
   "source": [
    "! mkdir /local/home/sarahgw/WGS/Sequences/hiseq_2016_12_07/NJ_E_26"
   ]
  },
  {
   "cell_type": "code",
   "execution_count": 50,
   "metadata": {
    "collapsed": true
   },
   "outputs": [],
   "source": [
    "!mv /local/home/sarahgw/WGS/Sequences/hiseq_2016_12_07/N517-GCGTAAGA-X-N702-CTAGTACG_Read*.fastq /local/home/sarahgw/WGS/Sequences/hiseq_2016_12_07/NJ_E_26"
   ]
  },
  {
   "cell_type": "code",
   "execution_count": 51,
   "metadata": {
    "collapsed": true
   },
   "outputs": [],
   "source": [
    "! mkdir /local/home/sarahgw/WGS/Sequences/hiseq_2016_12_07/NJ_E_30"
   ]
  },
  {
   "cell_type": "code",
   "execution_count": 52,
   "metadata": {
    "collapsed": true
   },
   "outputs": [],
   "source": [
    "!mv /local/home/sarahgw/WGS/Sequences/hiseq_2016_12_07/N517-GCGTAAGA-X-N703-TTCTGCCT_Read*.fastq /local/home/sarahgw/WGS/Sequences/hiseq_2016_12_07/NJ_E_30"
   ]
  },
  {
   "cell_type": "code",
   "execution_count": 53,
   "metadata": {
    "collapsed": true
   },
   "outputs": [],
   "source": [
    "! mkdir /local/home/sarahgw/WGS/Sequences/hiseq_2016_12_07/NJ_U_04"
   ]
  },
  {
   "cell_type": "code",
   "execution_count": 54,
   "metadata": {
    "collapsed": true
   },
   "outputs": [],
   "source": [
    "!mv /local/home/sarahgw/WGS/Sequences/hiseq_2016_12_07/N517-GCGTAAGA-X-N704-GCTCAGGA_Read*.fastq /local/home/sarahgw/WGS/Sequences/hiseq_2016_12_07/NJ_U_04"
   ]
  },
  {
   "cell_type": "code",
   "execution_count": 55,
   "metadata": {
    "collapsed": true
   },
   "outputs": [],
   "source": [
    "! mkdir /local/home/sarahgw/WGS/Sequences/hiseq_2016_12_07/NJ_U_08"
   ]
  },
  {
   "cell_type": "code",
   "execution_count": 56,
   "metadata": {
    "collapsed": true
   },
   "outputs": [],
   "source": [
    "!mv /local/home/sarahgw/WGS/Sequences/hiseq_2016_12_07/N517-GCGTAAGA-X-N705-AGGAGTCC_Read*.fastq /local/home/sarahgw/WGS/Sequences/hiseq_2016_12_07/NJ_U_08"
   ]
  },
  {
   "cell_type": "code",
   "execution_count": 57,
   "metadata": {
    "collapsed": true
   },
   "outputs": [],
   "source": [
    "! mkdir /local/home/sarahgw/WGS/Sequences/hiseq_2016_12_07/NJ_U_12"
   ]
  },
  {
   "cell_type": "code",
   "execution_count": 59,
   "metadata": {
    "collapsed": false
   },
   "outputs": [],
   "source": [
    "!mv /local/home/sarahgw/WGS/Sequences/hiseq_2016_12_07/N517-GCGTAAGA-X-N706CATGCCTA_Read*.fastq /local/home/sarahgw/WGS/Sequences/hiseq_2016_12_07/NJ_U_12"
   ]
  },
  {
   "cell_type": "code",
   "execution_count": 60,
   "metadata": {
    "collapsed": false
   },
   "outputs": [
    {
     "name": "stdout",
     "output_type": "stream",
     "text": [
      "index.html  NJ_E_25  NJ_E_29  NJ_U_03  NJ_U_07\tNJ_U_11  NJ_U_16\r\n",
      "NJ_E_22     NJ_E_26  NJ_E_30  NJ_U_04  NJ_U_08\tNJ_U_12  unmatched_Read1.fastq\r\n",
      "NJ_E_23     NJ_E_27  NJ_U_01  NJ_U_05  NJ_U_09\tNJ_U_14  unmatched_Read2.fastq\r\n",
      "NJ_E_24     NJ_E_28  NJ_U_02  NJ_U_06  NJ_U_10\tNJ_U_15\r\n"
     ]
    }
   ],
   "source": [
    "!ls /local/home/sarahgw/WGS/Sequences/hiseq_2016_12_07/"
   ]
  },
  {
   "cell_type": "code",
   "execution_count": 62,
   "metadata": {
    "collapsed": false,
    "scrolled": true
   },
   "outputs": [
    {
     "name": "stdout",
     "output_type": "stream",
     "text": [
      "/local/home/sarahgw/WGS/Sequences/hiseq_2016_12_07/:\r\n",
      "index.html  NJ_E_25  NJ_E_29  NJ_U_03  NJ_U_07\tNJ_U_11  NJ_U_16\r\n",
      "NJ_E_22     NJ_E_26  NJ_E_30  NJ_U_04  NJ_U_08\tNJ_U_12  unmatched_Read1.fastq\r\n",
      "NJ_E_23     NJ_E_27  NJ_U_01  NJ_U_05  NJ_U_09\tNJ_U_14  unmatched_Read2.fastq\r\n",
      "NJ_E_24     NJ_E_28  NJ_U_02  NJ_U_06  NJ_U_10\tNJ_U_15\r\n",
      "\r\n",
      "/local/home/sarahgw/WGS/Sequences/hiseq_2016_12_07/NJ_E_22:\r\n",
      "N517-GCGTAAGA-X-N701-TCGCCTTA_Read1.fastq\r\n",
      "N517-GCGTAAGA-X-N701-TCGCCTTA_Read2.fastq\r\n",
      "\r\n",
      "/local/home/sarahgw/WGS/Sequences/hiseq_2016_12_07/NJ_E_23:\r\n",
      "N502-CTCTCTAT-X-N701-TCGCCTTA_Read1.fastq\r\n",
      "N502-CTCTCTAT-X-N701-TCGCCTTA_Read2.fastq\r\n",
      "\r\n",
      "/local/home/sarahgw/WGS/Sequences/hiseq_2016_12_07/NJ_E_24:\r\n",
      "N503-TATCCTCT-X-N701-TCGCCTTA_Read1.fastq\r\n",
      "N503-TATCCTCT-X-N701-TCGCCTTA_Read2.fastq\r\n",
      "\r\n",
      "/local/home/sarahgw/WGS/Sequences/hiseq_2016_12_07/NJ_E_25:\r\n",
      "N504-AGAGTAGA-X-N701-TCGCCTTA_Read1.fastq\r\n",
      "N504-AGAGTAGA-X-N701-TCGCCTTA_Read2.fastq\r\n",
      "\r\n",
      "/local/home/sarahgw/WGS/Sequences/hiseq_2016_12_07/NJ_E_26:\r\n",
      "N517-GCGTAAGA-X-N702-CTAGTACG_Read1.fastq\r\n",
      "N517-GCGTAAGA-X-N702-CTAGTACG_Read2.fastq\r\n",
      "\r\n",
      "/local/home/sarahgw/WGS/Sequences/hiseq_2016_12_07/NJ_E_27:\r\n",
      "N502-CTCTCTATX-N702-CTAGTACG_Read1.fastq\r\n",
      "N502-CTCTCTATX-N702-CTAGTACG_Read2.fastq\r\n",
      "\r\n",
      "/local/home/sarahgw/WGS/Sequences/hiseq_2016_12_07/NJ_E_28:\r\n",
      "N503-TATCCTCTX-N702-CTAGTACG_Read1.fastq\r\n",
      "N503-TATCCTCTX-N702-CTAGTACG_Read2.fastq\r\n",
      "\r\n",
      "/local/home/sarahgw/WGS/Sequences/hiseq_2016_12_07/NJ_E_29:\r\n",
      "N504-AGAGTAGAX-N702-CTAGTACG_Read1.fastq\r\n",
      "N504-AGAGTAGAX-N702-CTAGTACG_Read2.fastq\r\n",
      "\r\n",
      "/local/home/sarahgw/WGS/Sequences/hiseq_2016_12_07/NJ_E_30:\r\n",
      "N517-GCGTAAGA-X-N703-TTCTGCCT_Read1.fastq\r\n",
      "N517-GCGTAAGA-X-N703-TTCTGCCT_Read2.fastq\r\n",
      "\r\n",
      "/local/home/sarahgw/WGS/Sequences/hiseq_2016_12_07/NJ_U_02:\r\n",
      "N503-TATCCTCT-X-N703-TTCTGCCT_Read1.fastq\r\n",
      "N503-TATCCTCT-X-N703-TTCTGCCT_Read2.fastq\r\n",
      "\r\n",
      "/local/home/sarahgw/WGS/Sequences/hiseq_2016_12_07/NJ_U_03:\r\n",
      "N504-AGAGTAGAX-N703-TTCTGCCT_Read1.fastq\r\n",
      "N504-AGAGTAGAX-N703-TTCTGCCT_Read2.fastq\r\n",
      "\r\n",
      "/local/home/sarahgw/WGS/Sequences/hiseq_2016_12_07/NJ_U_04:\r\n",
      "N517-GCGTAAGA-X-N704-GCTCAGGA_Read1.fastq\r\n",
      "N517-GCGTAAGA-X-N704-GCTCAGGA_Read2.fastq\r\n",
      "\r\n",
      "/local/home/sarahgw/WGS/Sequences/hiseq_2016_12_07/NJ_U_05:\r\n",
      "N502-CTCTCTAT-X-N704-GCTCAGGA_Read1.fastq\r\n",
      "N502-CTCTCTAT-X-N704-GCTCAGGA_Read2.fastq\r\n",
      "\r\n",
      "/local/home/sarahgw/WGS/Sequences/hiseq_2016_12_07/NJ_U_06:\r\n",
      "N503-TATCCTCT-X-N704-GCTCAGGA_Read1.fastq\r\n",
      "N503-TATCCTCT-X-N704-GCTCAGGA_Read2.fastq\r\n",
      "\r\n",
      "/local/home/sarahgw/WGS/Sequences/hiseq_2016_12_07/NJ_U_07:\r\n",
      "N504-AGAGTAGAX-N704-GCTCAGGA_Read1.fastq\r\n",
      "N504-AGAGTAGAX-N704-GCTCAGGA_Read2.fastq\r\n",
      "\r\n",
      "/local/home/sarahgw/WGS/Sequences/hiseq_2016_12_07/NJ_U_08:\r\n",
      "N517-GCGTAAGA-X-N705-AGGAGTCC_Read1.fastq\r\n",
      "N517-GCGTAAGA-X-N705-AGGAGTCC_Read2.fastq\r\n",
      "\r\n",
      "/local/home/sarahgw/WGS/Sequences/hiseq_2016_12_07/NJ_U_09:\r\n",
      "N502-CTCTCTAT-X-N705-AGGAGTCC_Read1.fastq\r\n",
      "N502-CTCTCTAT-X-N705-AGGAGTCC_Read2.fastq\r\n",
      "\r\n",
      "/local/home/sarahgw/WGS/Sequences/hiseq_2016_12_07/NJ_U_10:\r\n",
      "N503-TATCCTCT-X-N705-AGGAGTCC_Read1.fastq\r\n",
      "N503-TATCCTCT-X-N705-AGGAGTCC_Read2.fastq\r\n",
      "\r\n",
      "/local/home/sarahgw/WGS/Sequences/hiseq_2016_12_07/NJ_U_11:\r\n",
      "N504-AGAGTAGA-X-N705-AGGAGTCC_Read1.fastq\r\n",
      "N504-AGAGTAGA-X-N705-AGGAGTCC_Read2.fastq\r\n",
      "\r\n",
      "/local/home/sarahgw/WGS/Sequences/hiseq_2016_12_07/NJ_U_12:\r\n",
      "N517-GCGTAAGA-X-N706CATGCCTA_Read1.fastq\r\n",
      "N517-GCGTAAGA-X-N706CATGCCTA_Read2.fastq\r\n",
      "\r\n",
      "/local/home/sarahgw/WGS/Sequences/hiseq_2016_12_07/NJ_U_14:\r\n",
      "N502-CTCTCTAT-X-N706CATGCCTA_Read1.fastq\r\n",
      "N502-CTCTCTAT-X-N706CATGCCTA_Read2.fastq\r\n",
      "\r\n",
      "/local/home/sarahgw/WGS/Sequences/hiseq_2016_12_07/NJ_U_15:\r\n",
      "N503-TATCCTCT-X-N706CATGCCTA_Read1.fastq\r\n",
      "N503-TATCCTCT-X-N706CATGCCTA_Read2.fastq\r\n",
      "\r\n",
      "/local/home/sarahgw/WGS/Sequences/hiseq_2016_12_07/NJ_U_16:\r\n",
      "N504-AGAGTAGA-X-N706CATGCCTA_Read1.fastq\r\n",
      "N504-AGAGTAGA-X-N706CATGCCTA_Read2.fastq\r\n"
     ]
    }
   ],
   "source": [
    "!ls -R /local/home/sarahgw/WGS/Sequences/hiseq_2016_12_07/"
   ]
  },
  {
   "cell_type": "code",
   "execution_count": null,
   "metadata": {
    "collapsed": true
   },
   "outputs": [],
   "source": [
    "!ls /local/home/sarahgw/WGS/Sequences/hiseq_2016_12_07/ | while read FILE; do\n",
    "  cat /local/home/sarahgw/WGS/Sequences/hiseq_2016_12_07/\"$FILE\" /local/home/sarahgw/WGS/Sequences/hiseq_2016_12_07/\"$FILE\" >> C/\"$FILE\"\n",
    "done"
   ]
  },
  {
   "cell_type": "code",
   "execution_count": null,
   "metadata": {
    "collapsed": false
   },
   "outputs": [],
   "source": [
    "!grep -c @ -r  /local/home/sarahgw/WGS/Sequences/hiseq_2016_12_07/ > local/home/sarahgw/WGS/Sequences/hiseq_2016_12_07_stats"
   ]
  },
  {
   "cell_type": "code",
   "execution_count": 20,
   "metadata": {
    "collapsed": false
   },
   "outputs": [
    {
     "name": "stdout",
     "output_type": "stream",
     "text": [
      "/local/home/sarahgw/WGS/Sequences/hiseq_2016_12_07/NJ_U_12/NJ_U_12_FU1_trim_up.f \bastq:1281971\n",
      "/local/home/sarahgw/WGS/Sequences/hiseq_2016_12_07/NJ_U_12/NJ_U_12_FU2.fastq:912 \b5335\n",
      "/local/home/sarahgw/WGS/Sequences/hiseq_2016_12_07/NJ_U_12/NJ_U_12_FU2_trim_up.f \bastq:5082\n",
      "/local/home/sarahgw/WGS/Sequences/hiseq_2016_12_07/NJ_U_12/NJ_U_12_FU1_trim_p.fa \bstq:6552128\n",
      "/local/home/sarahgw/WGS/Sequences/hiseq_2016_12_07/NJ_U_12/NJ_U_12_FU2_trim_p.fa \bstq:7531744\n",
      "/local/home/sarahgw/WGS/Sequences/hiseq_2016_12_07/NJ_U_12/N517-GCGTAAGA-X-N706C \bATGCCTA_Read1.fastq:8130954\n",
      "/local/home/sarahgw/WGS/Sequences/hiseq_2016_12_07/NJ_U_12/NJ_U_12_FU1.fastq:803 \b2351\n",
      "/local/home/sarahgw/WGS/Sequences/hiseq_2016_12_07/NJ_U_12/N517-GCGTAAGA-X-N706C \bATGCCTA_Read2.fastq:9239365\n",
      "/local/home/sarahgw/WGS/Sequences/hiseq_2016_12_07/NJ_E_30/N517-GCGTAAGA-X-N703- \bTTCTGCCT_Read2.fastq:10614634\n",
      "/local/home/sarahgw/WGS/Sequences/hiseq_2016_12_07/NJ_E_30/NJ_E_30_FU2_trim_up.f \bastq:5002\n",
      "/local/home/sarahgw/WGS/Sequences/hiseq_2016_12_07/NJ_E_30/NJ_E_30_FU2.fastq:105 \b66267\n",
      "\u001b[Kstq:6232942\n",
      ":\u001b[K"
     ]
    }
   ],
   "source": [
    "! less /local/home/sarahgw/WGS/Sequences/hiseq_2016_12_07_stats"
   ]
  },
  {
   "cell_type": "code",
   "execution_count": 23,
   "metadata": {
    "collapsed": false
   },
   "outputs": [],
   "source": [
    "!sed -e 's/.*\\///' -e 's/:/,/g' /local/home/sarahgw/WGS/Sequences/hiseq_2016_12_07_stats > /local/home/sarahgw/WGS/Sequences/hiseq_2016_12_07_stats.csv"
   ]
  },
  {
   "cell_type": "code",
   "execution_count": 24,
   "metadata": {
    "collapsed": false
   },
   "outputs": [
    {
     "name": "stdout",
     "output_type": "stream",
     "text": [
      "NJ_U_12_FU1_trim_up.fastq,1281971\r\n",
      "NJ_U_12_FU2.fastq,9125335\r\n",
      "NJ_U_12_FU2_trim_up.fastq,5082\r\n",
      "NJ_U_12_FU1_trim_p.fastq,6552128\r\n",
      "NJ_U_12_FU2_trim_p.fastq,7531744\r\n",
      "N517-GCGTAAGA-X-N706CATGCCTA_Read1.fastq,8130954\r\n",
      "NJ_U_12_FU1.fastq,8032351\r\n",
      "N517-GCGTAAGA-X-N706CATGCCTA_Read2.fastq,9239365\r\n",
      "N517-GCGTAAGA-X-N703-TTCTGCCT_Read2.fastq,10614634\r\n",
      "NJ_E_30_FU2_trim_up.fastq,5002\r\n"
     ]
    }
   ],
   "source": [
    "!head /local/home/sarahgw/WGS/Sequences/hiseq_2016_12_07_stats.csv"
   ]
  },
  {
   "cell_type": "code",
   "execution_count": 25,
   "metadata": {
    "collapsed": true
   },
   "outputs": [],
   "source": [
    "import pandas as pd"
   ]
  },
  {
   "cell_type": "code",
   "execution_count": 27,
   "metadata": {
    "collapsed": false
   },
   "outputs": [],
   "source": [
    "import numpy as np"
   ]
  },
  {
   "cell_type": "code",
   "execution_count": 32,
   "metadata": {
    "collapsed": false
   },
   "outputs": [],
   "source": [
    "stats=pd.read_csv('/local/home/sarahgw/WGS/Sequences/hiseq_2016_12_07_stats.csv', sep=',')"
   ]
  },
  {
   "cell_type": "code",
   "execution_count": 33,
   "metadata": {
    "collapsed": false,
    "scrolled": false
   },
   "outputs": [
    {
     "data": {
      "text/html": [
       "<div>\n",
       "<table border=\"1\" class=\"dataframe\">\n",
       "  <thead>\n",
       "    <tr style=\"text-align: right;\">\n",
       "      <th></th>\n",
       "      <th>NJ_U_12_FU1_trim_up.fastq</th>\n",
       "      <th>1281971</th>\n",
       "    </tr>\n",
       "  </thead>\n",
       "  <tbody>\n",
       "    <tr>\n",
       "      <th>0</th>\n",
       "      <td>NJ_U_12_FU2.fastq</td>\n",
       "      <td>9125335</td>\n",
       "    </tr>\n",
       "    <tr>\n",
       "      <th>1</th>\n",
       "      <td>NJ_U_12_FU2_trim_up.fastq</td>\n",
       "      <td>5082</td>\n",
       "    </tr>\n",
       "    <tr>\n",
       "      <th>2</th>\n",
       "      <td>NJ_U_12_FU1_trim_p.fastq</td>\n",
       "      <td>6552128</td>\n",
       "    </tr>\n",
       "    <tr>\n",
       "      <th>3</th>\n",
       "      <td>NJ_U_12_FU2_trim_p.fastq</td>\n",
       "      <td>7531744</td>\n",
       "    </tr>\n",
       "    <tr>\n",
       "      <th>4</th>\n",
       "      <td>N517-GCGTAAGA-X-N706CATGCCTA_Read1.fastq</td>\n",
       "      <td>8130954</td>\n",
       "    </tr>\n",
       "    <tr>\n",
       "      <th>5</th>\n",
       "      <td>NJ_U_12_FU1.fastq</td>\n",
       "      <td>8032351</td>\n",
       "    </tr>\n",
       "    <tr>\n",
       "      <th>6</th>\n",
       "      <td>N517-GCGTAAGA-X-N706CATGCCTA_Read2.fastq</td>\n",
       "      <td>9239365</td>\n",
       "    </tr>\n",
       "    <tr>\n",
       "      <th>7</th>\n",
       "      <td>N517-GCGTAAGA-X-N703-TTCTGCCT_Read2.fastq</td>\n",
       "      <td>10614634</td>\n",
       "    </tr>\n",
       "    <tr>\n",
       "      <th>8</th>\n",
       "      <td>NJ_E_30_FU2_trim_up.fastq</td>\n",
       "      <td>5002</td>\n",
       "    </tr>\n",
       "    <tr>\n",
       "      <th>9</th>\n",
       "      <td>NJ_E_30_FU2.fastq</td>\n",
       "      <td>10566267</td>\n",
       "    </tr>\n",
       "    <tr>\n",
       "      <th>10</th>\n",
       "      <td>NJ_E_30_FU1_trim_p.fastq</td>\n",
       "      <td>6232942</td>\n",
       "    </tr>\n",
       "    <tr>\n",
       "      <th>11</th>\n",
       "      <td>NJ_E_30_FU2_trim_p.fastq</td>\n",
       "      <td>7263351</td>\n",
       "    </tr>\n",
       "    <tr>\n",
       "      <th>12</th>\n",
       "      <td>N517-GCGTAAGA-X-N703-TTCTGCCT_Read1.fastq</td>\n",
       "      <td>9304414</td>\n",
       "    </tr>\n",
       "    <tr>\n",
       "      <th>13</th>\n",
       "      <td>NJ_E_30_FU1.fastq</td>\n",
       "      <td>9263392</td>\n",
       "    </tr>\n",
       "    <tr>\n",
       "      <th>14</th>\n",
       "      <td>NJ_E_30_FU1_trim_up.fastq</td>\n",
       "      <td>2584716</td>\n",
       "    </tr>\n",
       "    <tr>\n",
       "      <th>15</th>\n",
       "      <td>NJ_U_08_FU2_trim_up.fastq</td>\n",
       "      <td>4642</td>\n",
       "    </tr>\n",
       "    <tr>\n",
       "      <th>16</th>\n",
       "      <td>N517-GCGTAAGA-X-N705-AGGAGTCC_Read1.fastq</td>\n",
       "      <td>7118272</td>\n",
       "    </tr>\n",
       "    <tr>\n",
       "      <th>17</th>\n",
       "      <td>NJ_U_08_FU2_trim_p.fastq</td>\n",
       "      <td>6347422</td>\n",
       "    </tr>\n",
       "    <tr>\n",
       "      <th>18</th>\n",
       "      <td>NJ_U_08_FU1_trim_p.fastq</td>\n",
       "      <td>5548033</td>\n",
       "    </tr>\n",
       "    <tr>\n",
       "      <th>19</th>\n",
       "      <td>NJ_U_08_FU1_trim_up.fastq</td>\n",
       "      <td>1317538</td>\n",
       "    </tr>\n",
       "    <tr>\n",
       "      <th>20</th>\n",
       "      <td>N517-GCGTAAGA-X-N705-AGGAGTCC_Read2.fastq</td>\n",
       "      <td>8014143</td>\n",
       "    </tr>\n",
       "    <tr>\n",
       "      <th>21</th>\n",
       "      <td>NJ_U_08_FU2.fastq</td>\n",
       "      <td>7991554</td>\n",
       "    </tr>\n",
       "    <tr>\n",
       "      <th>22</th>\n",
       "      <td>NJ_U_08_FU1.fastq</td>\n",
       "      <td>7098570</td>\n",
       "    </tr>\n",
       "    <tr>\n",
       "      <th>23</th>\n",
       "      <td>N504-AGAGTAGA-X-N701-TCGCCTTA_Read1.fastq</td>\n",
       "      <td>5733007</td>\n",
       "    </tr>\n",
       "    <tr>\n",
       "      <th>24</th>\n",
       "      <td>NJ_E_25_FU1_trim_p.fastq</td>\n",
       "      <td>4416944</td>\n",
       "    </tr>\n",
       "    <tr>\n",
       "      <th>25</th>\n",
       "      <td>NJ_E_25_FU2_trim_p.fastq</td>\n",
       "      <td>5120395</td>\n",
       "    </tr>\n",
       "    <tr>\n",
       "      <th>26</th>\n",
       "      <td>NJ_E_25_FU1.fastq</td>\n",
       "      <td>5714096</td>\n",
       "    </tr>\n",
       "    <tr>\n",
       "      <th>27</th>\n",
       "      <td>N504-AGAGTAGA-X-N701-TCGCCTTA_Read2.fastq</td>\n",
       "      <td>6570913</td>\n",
       "    </tr>\n",
       "    <tr>\n",
       "      <th>28</th>\n",
       "      <td>NJ_E_25_FU2.fastq</td>\n",
       "      <td>6548749</td>\n",
       "    </tr>\n",
       "    <tr>\n",
       "      <th>29</th>\n",
       "      <td>NJ_E_25_FU2_trim_up.fastq</td>\n",
       "      <td>3337</td>\n",
       "    </tr>\n",
       "    <tr>\n",
       "      <th>...</th>\n",
       "      <td>...</td>\n",
       "      <td>...</td>\n",
       "    </tr>\n",
       "    <tr>\n",
       "      <th>163</th>\n",
       "      <td>N503-TATCCTCTX-N702-CTAGTACG_Read1.fastq</td>\n",
       "      <td>4315766</td>\n",
       "    </tr>\n",
       "    <tr>\n",
       "      <th>164</th>\n",
       "      <td>NJ_E_28_FU1_trim_p.fastq</td>\n",
       "      <td>3810308</td>\n",
       "    </tr>\n",
       "    <tr>\n",
       "      <th>165</th>\n",
       "      <td>NJ_E_28_FU1_trim_up.fastq</td>\n",
       "      <td>425502</td>\n",
       "    </tr>\n",
       "    <tr>\n",
       "      <th>166</th>\n",
       "      <td>NJ_E_28_FU2_trim_p.fastq</td>\n",
       "      <td>4395324</td>\n",
       "    </tr>\n",
       "    <tr>\n",
       "      <th>167</th>\n",
       "      <td>NJ_U_04_FU1_trim_p.fastq</td>\n",
       "      <td>4228482</td>\n",
       "    </tr>\n",
       "    <tr>\n",
       "      <th>168</th>\n",
       "      <td>N517-GCGTAAGA-X-N704-GCTCAGGA_Read2.fastq</td>\n",
       "      <td>5524306</td>\n",
       "    </tr>\n",
       "    <tr>\n",
       "      <th>169</th>\n",
       "      <td>N517-GCGTAAGA-X-N704-GCTCAGGA_Read1.fastq</td>\n",
       "      <td>4837689</td>\n",
       "    </tr>\n",
       "    <tr>\n",
       "      <th>170</th>\n",
       "      <td>NJ_U_04_FU2_trim_p.fastq</td>\n",
       "      <td>4878506</td>\n",
       "    </tr>\n",
       "    <tr>\n",
       "      <th>171</th>\n",
       "      <td>NJ_U_04_FU2.fastq</td>\n",
       "      <td>5499539</td>\n",
       "    </tr>\n",
       "    <tr>\n",
       "      <th>172</th>\n",
       "      <td>NJ_U_04_FU2_trim_up.fastq</td>\n",
       "      <td>3247</td>\n",
       "    </tr>\n",
       "    <tr>\n",
       "      <th>173</th>\n",
       "      <td>NJ_U_04_FU1.fastq</td>\n",
       "      <td>4816359</td>\n",
       "    </tr>\n",
       "    <tr>\n",
       "      <th>174</th>\n",
       "      <td>NJ_U_04_FU1_trim_up.fastq</td>\n",
       "      <td>512944</td>\n",
       "    </tr>\n",
       "    <tr>\n",
       "      <th>175</th>\n",
       "      <td>NJ_E_26_FU1.fastq</td>\n",
       "      <td>13999435</td>\n",
       "    </tr>\n",
       "    <tr>\n",
       "      <th>176</th>\n",
       "      <td>N517-GCGTAAGA-X-N702-CTAGTACG_Read2.fastq</td>\n",
       "      <td>15743484</td>\n",
       "    </tr>\n",
       "    <tr>\n",
       "      <th>177</th>\n",
       "      <td>NJ_E_26_FU2_trim_up.fastq</td>\n",
       "      <td>8770</td>\n",
       "    </tr>\n",
       "    <tr>\n",
       "      <th>178</th>\n",
       "      <td>N517-GCGTAAGA-X-N702-CTAGTACG_Read1.fastq</td>\n",
       "      <td>14068786</td>\n",
       "    </tr>\n",
       "    <tr>\n",
       "      <th>179</th>\n",
       "      <td>NJ_E_26_FU2_trim_p.fastq</td>\n",
       "      <td>9141755</td>\n",
       "    </tr>\n",
       "    <tr>\n",
       "      <th>180</th>\n",
       "      <td>NJ_E_26_FU1_trim_up.fastq</td>\n",
       "      <td>5131301</td>\n",
       "    </tr>\n",
       "    <tr>\n",
       "      <th>181</th>\n",
       "      <td>NJ_E_26_FU2.fastq</td>\n",
       "      <td>15663629</td>\n",
       "    </tr>\n",
       "    <tr>\n",
       "      <th>182</th>\n",
       "      <td>NJ_E_26_FU1_trim.fastq</td>\n",
       "      <td>13822511</td>\n",
       "    </tr>\n",
       "    <tr>\n",
       "      <th>183</th>\n",
       "      <td>NJ_E_26_FU2_trim.fastq</td>\n",
       "      <td>158499</td>\n",
       "    </tr>\n",
       "    <tr>\n",
       "      <th>184</th>\n",
       "      <td>NJ_E_26_FU1_trim_p.fastq</td>\n",
       "      <td>8001972</td>\n",
       "    </tr>\n",
       "    <tr>\n",
       "      <th>185</th>\n",
       "      <td>NJ_U_05_FU2_trim_p.fastq</td>\n",
       "      <td>6818903</td>\n",
       "    </tr>\n",
       "    <tr>\n",
       "      <th>186</th>\n",
       "      <td>N502-CTCTCTAT-X-N704-GCTCAGGA_Read2.fastq</td>\n",
       "      <td>7908353</td>\n",
       "    </tr>\n",
       "    <tr>\n",
       "      <th>187</th>\n",
       "      <td>N502-CTCTCTAT-X-N704-GCTCAGGA_Read1.fastq</td>\n",
       "      <td>6976894</td>\n",
       "    </tr>\n",
       "    <tr>\n",
       "      <th>188</th>\n",
       "      <td>NJ_U_05_FU1_trim_p.fastq</td>\n",
       "      <td>5935124</td>\n",
       "    </tr>\n",
       "    <tr>\n",
       "      <th>189</th>\n",
       "      <td>NJ_U_05_FU1_trim_up.fastq</td>\n",
       "      <td>878183</td>\n",
       "    </tr>\n",
       "    <tr>\n",
       "      <th>190</th>\n",
       "      <td>NJ_U_05_FU2_trim_up.fastq</td>\n",
       "      <td>4516</td>\n",
       "    </tr>\n",
       "    <tr>\n",
       "      <th>191</th>\n",
       "      <td>NJ_U_05_FU1.fastq</td>\n",
       "      <td>6961692</td>\n",
       "    </tr>\n",
       "    <tr>\n",
       "      <th>192</th>\n",
       "      <td>NJ_U_05_FU2.fastq</td>\n",
       "      <td>7890828</td>\n",
       "    </tr>\n",
       "  </tbody>\n",
       "</table>\n",
       "<p>193 rows × 2 columns</p>\n",
       "</div>"
      ],
      "text/plain": [
       "                     NJ_U_12_FU1_trim_up.fastq   1281971\n",
       "0                            NJ_U_12_FU2.fastq   9125335\n",
       "1                    NJ_U_12_FU2_trim_up.fastq      5082\n",
       "2                     NJ_U_12_FU1_trim_p.fastq   6552128\n",
       "3                     NJ_U_12_FU2_trim_p.fastq   7531744\n",
       "4     N517-GCGTAAGA-X-N706CATGCCTA_Read1.fastq   8130954\n",
       "5                            NJ_U_12_FU1.fastq   8032351\n",
       "6     N517-GCGTAAGA-X-N706CATGCCTA_Read2.fastq   9239365\n",
       "7    N517-GCGTAAGA-X-N703-TTCTGCCT_Read2.fastq  10614634\n",
       "8                    NJ_E_30_FU2_trim_up.fastq      5002\n",
       "9                            NJ_E_30_FU2.fastq  10566267\n",
       "10                    NJ_E_30_FU1_trim_p.fastq   6232942\n",
       "11                    NJ_E_30_FU2_trim_p.fastq   7263351\n",
       "12   N517-GCGTAAGA-X-N703-TTCTGCCT_Read1.fastq   9304414\n",
       "13                           NJ_E_30_FU1.fastq   9263392\n",
       "14                   NJ_E_30_FU1_trim_up.fastq   2584716\n",
       "15                   NJ_U_08_FU2_trim_up.fastq      4642\n",
       "16   N517-GCGTAAGA-X-N705-AGGAGTCC_Read1.fastq   7118272\n",
       "17                    NJ_U_08_FU2_trim_p.fastq   6347422\n",
       "18                    NJ_U_08_FU1_trim_p.fastq   5548033\n",
       "19                   NJ_U_08_FU1_trim_up.fastq   1317538\n",
       "20   N517-GCGTAAGA-X-N705-AGGAGTCC_Read2.fastq   8014143\n",
       "21                           NJ_U_08_FU2.fastq   7991554\n",
       "22                           NJ_U_08_FU1.fastq   7098570\n",
       "23   N504-AGAGTAGA-X-N701-TCGCCTTA_Read1.fastq   5733007\n",
       "24                    NJ_E_25_FU1_trim_p.fastq   4416944\n",
       "25                    NJ_E_25_FU2_trim_p.fastq   5120395\n",
       "26                           NJ_E_25_FU1.fastq   5714096\n",
       "27   N504-AGAGTAGA-X-N701-TCGCCTTA_Read2.fastq   6570913\n",
       "28                           NJ_E_25_FU2.fastq   6548749\n",
       "29                   NJ_E_25_FU2_trim_up.fastq      3337\n",
       "..                                         ...       ...\n",
       "163   N503-TATCCTCTX-N702-CTAGTACG_Read1.fastq   4315766\n",
       "164                   NJ_E_28_FU1_trim_p.fastq   3810308\n",
       "165                  NJ_E_28_FU1_trim_up.fastq    425502\n",
       "166                   NJ_E_28_FU2_trim_p.fastq   4395324\n",
       "167                   NJ_U_04_FU1_trim_p.fastq   4228482\n",
       "168  N517-GCGTAAGA-X-N704-GCTCAGGA_Read2.fastq   5524306\n",
       "169  N517-GCGTAAGA-X-N704-GCTCAGGA_Read1.fastq   4837689\n",
       "170                   NJ_U_04_FU2_trim_p.fastq   4878506\n",
       "171                          NJ_U_04_FU2.fastq   5499539\n",
       "172                  NJ_U_04_FU2_trim_up.fastq      3247\n",
       "173                          NJ_U_04_FU1.fastq   4816359\n",
       "174                  NJ_U_04_FU1_trim_up.fastq    512944\n",
       "175                          NJ_E_26_FU1.fastq  13999435\n",
       "176  N517-GCGTAAGA-X-N702-CTAGTACG_Read2.fastq  15743484\n",
       "177                  NJ_E_26_FU2_trim_up.fastq      8770\n",
       "178  N517-GCGTAAGA-X-N702-CTAGTACG_Read1.fastq  14068786\n",
       "179                   NJ_E_26_FU2_trim_p.fastq   9141755\n",
       "180                  NJ_E_26_FU1_trim_up.fastq   5131301\n",
       "181                          NJ_E_26_FU2.fastq  15663629\n",
       "182                     NJ_E_26_FU1_trim.fastq  13822511\n",
       "183                     NJ_E_26_FU2_trim.fastq    158499\n",
       "184                   NJ_E_26_FU1_trim_p.fastq   8001972\n",
       "185                   NJ_U_05_FU2_trim_p.fastq   6818903\n",
       "186  N502-CTCTCTAT-X-N704-GCTCAGGA_Read2.fastq   7908353\n",
       "187  N502-CTCTCTAT-X-N704-GCTCAGGA_Read1.fastq   6976894\n",
       "188                   NJ_U_05_FU1_trim_p.fastq   5935124\n",
       "189                  NJ_U_05_FU1_trim_up.fastq    878183\n",
       "190                  NJ_U_05_FU2_trim_up.fastq      4516\n",
       "191                          NJ_U_05_FU1.fastq   6961692\n",
       "192                          NJ_U_05_FU2.fastq   7890828\n",
       "\n",
       "[193 rows x 2 columns]"
      ]
     },
     "execution_count": 33,
     "metadata": {},
     "output_type": "execute_result"
    }
   ],
   "source": [
    "stats"
   ]
  },
  {
   "cell_type": "code",
   "execution_count": null,
   "metadata": {
    "collapsed": true
   },
   "outputs": [],
   "source": []
  }
 ],
 "metadata": {
  "anaconda-cloud": {},
  "kernelspec": {
   "display_name": "Python [default]",
   "language": "python",
   "name": "python2"
  },
  "language_info": {
   "codemirror_mode": {
    "name": "ipython",
    "version": 2
   },
   "file_extension": ".py",
   "mimetype": "text/x-python",
   "name": "python",
   "nbconvert_exporter": "python",
   "pygments_lexer": "ipython2",
   "version": "2.7.12"
  }
 },
 "nbformat": 4,
 "nbformat_minor": 1
}
