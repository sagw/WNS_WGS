{
 "cells": [
  {
   "cell_type": "code",
   "execution_count": null,
   "metadata": {
    "collapsed": true
   },
   "outputs": [],
   "source": [
    "bc=pd.read_table(\"/local/home/sarahgw/WGS/Sequences/BaseCoverage_allSumAnno.txt\")"
   ]
  },
  {
   "cell_type": "code",
   "execution_count": 1,
   "metadata": {
    "collapsed": false
   },
   "outputs": [
    {
     "name": "stdout",
     "output_type": "stream",
     "text": [
      "0\tAAPE02055386 1\r\n",
      "0\tAAPE02055720 1\r\n",
      "0\tAAPE02055947 1\r\n",
      "0\tAAPE02056334 1\r\n",
      "3\tAAPE02056387 1\r\n",
      "12\tAAPE02056710 1\r\n",
      "3\tAAPE02056893 1\r\n",
      "1\tAAPE02056932 1\r\n",
      "0\tAAPE02056959 1\r\n",
      "3\tAAPE02056973 1\r\n",
      "1\tAAPE02057001 1\r\n",
      "16\tAAPE02057026 1\r\n",
      "2\tAAPE02057033 1\r\n",
      "2\tAAPE02057108 1\r\n",
      "1\tAAPE02057117 1\r\n",
      "1\tAAPE02057281 1\r\n",
      "0\tAAPE02057442 1\r\n",
      "0\tAAPE02057507 1\r\n",
      "3\tAAPE02057557 1\r\n",
      "2\tAAPE02057619 1\r\n"
     ]
    }
   ],
   "source": [
    "!head -n 20 \"/local/home/sarahgw/WGS/Sequences/BaseCoverage_allSumAnno.txt\""
   ]
  },
  {
   "cell_type": "code",
   "execution_count": 2,
   "metadata": {
    "collapsed": true
   },
   "outputs": [],
   "source": [
    "python count_histo.py >> out.txt"
   ]
  },
  {
   "cell_type": "code",
   "execution_count": 1,
   "metadata": {
    "collapsed": false
   },
   "outputs": [
    {
     "name": "stdout",
     "output_type": "stream",
     "text": [
      "{\"0\": 93816787, \"1\": 25210310, \"2\": 30399643, \"3\": 37053746, \"4\": 45254668, \"5\": 55426515, \"6\": 67753687, \"7\": 82956310, \"8\": 101286184, \"9\": 123013905, \"10\": 146962645, \"11\": 170807046, \"12\": 190276556, \"13\": 199529005, \"14\": 192684052, \"15\": 168204251, \"16\": 129646587, \"17\": 86394438, \"18\": 48765967, \"19\": 23074488, \"20\": 9724870, \"21\": 4549175, \"22\": 1784465}\r\n"
     ]
    }
   ],
   "source": [
    "!head /local/home/sarahgw/WGS/Sequences/out.txt"
   ]
  },
  {
   "cell_type": "code",
   "execution_count": 8,
   "metadata": {
    "collapsed": false
   },
   "outputs": [],
   "source": [
    "!sed -e 's/,/\\n/g' -e 's/:/,/g' -e 's/\"//g' -e 's/{//g' /local/home/sarahgw/WGS/Sequences/out.txt > /local/home/sarahgw/WGS/Sequences/out2.txt"
   ]
  },
  {
   "cell_type": "code",
   "execution_count": 9,
   "metadata": {
    "collapsed": false
   },
   "outputs": [
    {
     "name": "stdout",
     "output_type": "stream",
     "text": [
      "0, 93816787\r\n",
      " 1, 25210310\r\n",
      " 2, 30399643\r\n",
      " 3, 37053746\r\n",
      " 4, 45254668\r\n",
      " 5, 55426515\r\n",
      " 6, 67753687\r\n",
      " 7, 82956310\r\n",
      " 8, 101286184\r\n",
      " 9, 123013905\r\n"
     ]
    }
   ],
   "source": [
    "!head /local/home/sarahgw/WGS/Sequences/out2.txt"
   ]
  },
  {
   "cell_type": "code",
   "execution_count": null,
   "metadata": {
    "collapsed": true
   },
   "outputs": [],
   "source": []
  }
 ],
 "metadata": {
  "anaconda-cloud": {},
  "kernelspec": {
   "display_name": "Python [conda root]",
   "language": "python",
   "name": "conda-root-py"
  },
  "language_info": {
   "codemirror_mode": {
    "name": "ipython",
    "version": 2
   },
   "file_extension": ".py",
   "mimetype": "text/x-python",
   "name": "python",
   "nbconvert_exporter": "python",
   "pygments_lexer": "ipython2",
   "version": "2.7.12"
  }
 },
 "nbformat": 4,
 "nbformat_minor": 1
}
