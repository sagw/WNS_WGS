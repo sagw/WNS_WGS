{
 "cells": [
  {
   "cell_type": "code",
   "execution_count": 6,
   "metadata": {
    "collapsed": false
   },
   "outputs": [],
   "source": [
    "require(data.table)\n",
    "require(ggplot2)\n",
    "setwd(\"~/WGS/SNPS/All_mylu/\")"
   ]
  },
  {
   "cell_type": "code",
   "execution_count": 26,
   "metadata": {
    "collapsed": false
   },
   "outputs": [
    {
     "name": "stdout",
     "output_type": "stream",
     "text": [
      "\r",
      "Read 0.0% of 109424281 rows\r",
      "Read 12.8% of 109424281 rows\r",
      "Read 16.9% of 109424281 rows\r",
      "Read 18.8% of 109424281 rows\r",
      "Read 19.6% of 109424281 rows\r",
      "Read 20.4% of 109424281 rows\r",
      "Read 21.3% of 109424281 rows\r",
      "Read 21.9% of 109424281 rows\r",
      "Read 22.7% of 109424281 rows\r",
      "Read 23.5% of 109424281 rows\r",
      "Read 24.1% of 109424281 rows\r",
      "Read 25.0% of 109424281 rows\r",
      "Read 25.8% of 109424281 rows\r",
      "Read 26.6% of 109424281 rows\r",
      "Read 27.1% of 109424281 rows\r",
      "Read 27.9% of 109424281 rows\r",
      "Read 28.5% of 109424281 rows\r",
      "Read 29.4% of 109424281 rows\r",
      "Read 29.7% of 109424281 rows\r",
      "Read 30.6% of 109424281 rows\r",
      "Read 31.5% of 109424281 rows\r",
      "Read 32.1% of 109424281 rows\r",
      "Read 32.7% of 109424281 rows\r",
      "Read 33.5% of 109424281 rows\r",
      "Read 34.1% of 109424281 rows\r",
      "Read 34.9% of 109424281 rows\r",
      "Read 35.8% of 109424281 rows\r",
      "Read 36.5% of 109424281 rows\r",
      "Read 37.5% of 109424281 rows\r",
      "Read 38.4% of 109424281 rows\r",
      "Read 39.2% of 109424281 rows\r",
      "Read 39.8% of 109424281 rows\r",
      "Read 40.6% of 109424281 rows\r",
      "Read 41.5% of 109424281 rows\r",
      "Read 42.2% of 109424281 rows\r",
      "Read 43.1% of 109424281 rows\r",
      "Read 43.9% of 109424281 rows\r",
      "Read 44.8% of 109424281 rows\r",
      "Read 45.4% of 109424281 rows\r",
      "Read 46.3% of 109424281 rows\r",
      "Read 47.2% of 109424281 rows\r",
      "Read 47.7% of 109424281 rows\r",
      "Read 48.7% of 109424281 rows\r",
      "Read 49.6% of 109424281 rows\r",
      "Read 50.5% of 109424281 rows\r",
      "Read 51.1% of 109424281 rows\r",
      "Read 51.9% of 109424281 rows\r",
      "Read 52.8% of 109424281 rows\r",
      "Read 53.5% of 109424281 rows\r",
      "Read 54.3% of 109424281 rows\r",
      "Read 55.2% of 109424281 rows\r",
      "Read 56.0% of 109424281 rows\r",
      "Read 56.7% of 109424281 rows\r",
      "Read 57.6% of 109424281 rows\r",
      "Read 58.4% of 109424281 rows\r",
      "Read 59.1% of 109424281 rows\r",
      "Read 59.9% of 109424281 rows\r",
      "Read 60.8% of 109424281 rows\r",
      "Read 61.7% of 109424281 rows\r",
      "Read 62.1% of 109424281 rows\r",
      "Read 62.8% of 109424281 rows\r",
      "Read 63.6% of 109424281 rows\r",
      "Read 64.5% of 109424281 rows\r",
      "Read 65.3% of 109424281 rows\r",
      "Read 65.8% of 109424281 rows\r",
      "Read 66.6% of 109424281 rows\r",
      "Read 67.4% of 109424281 rows\r",
      "Read 68.2% of 109424281 rows\r",
      "Read 68.6% of 109424281 rows\r",
      "Read 69.5% of 109424281 rows\r",
      "Read 70.3% of 109424281 rows\r",
      "Read 71.0% of 109424281 rows\r",
      "Read 72.0% of 109424281 rows\r",
      "Read 72.8% of 109424281 rows\r",
      "Read 73.6% of 109424281 rows\r",
      "Read 74.1% of 109424281 rows\r",
      "Read 74.9% of 109424281 rows\r",
      "Read 75.8% of 109424281 rows\r",
      "Read 76.6% of 109424281 rows\r",
      "Read 77.1% of 109424281 rows\r",
      "Read 77.9% of 109424281 rows\r",
      "Read 78.7% of 109424281 rows\r",
      "Read 79.4% of 109424281 rows\r",
      "Read 80.3% of 109424281 rows\r",
      "Read 81.2% of 109424281 rows\r",
      "Read 82.0% of 109424281 rows\r",
      "Read 82.4% of 109424281 rows\r",
      "Read 83.3% of 109424281 rows\r",
      "Read 84.1% of 109424281 rows\r",
      "Read 84.9% of 109424281 rows\r",
      "Read 85.3% of 109424281 rows\r",
      "Read 86.1% of 109424281 rows\r",
      "Read 86.9% of 109424281 rows\r",
      "Read 87.8% of 109424281 rows\r",
      "Read 88.2% of 109424281 rows\r",
      "Read 89.0% of 109424281 rows\r",
      "Read 89.8% of 109424281 rows\r",
      "Read 90.6% of 109424281 rows\r",
      "Read 91.5% of 109424281 rows\r",
      "Read 92.3% of 109424281 rows\r",
      "Read 93.1% of 109424281 rows\r",
      "Read 93.4% of 109424281 rows\r",
      "Read 94.2% of 109424281 rows\r",
      "Read 95.1% of 109424281 rows\r",
      "Read 95.9% of 109424281 rows\r",
      "Read 96.3% of 109424281 rows\r",
      "Read 97.2% of 109424281 rows\r",
      "Read 97.8% of 109424281 rows\r",
      "Read 98.9% of 109424281 rows\r",
      "Read 99.8% of 109424281 rows\r",
      "Read 109424281 rows and 10 (of 10) columns from 6.376 GB file in 00:03:01\n"
     ]
    }
   ],
   "source": [
    "njeu=fread(\"NJ_EU2.mafs\", sep=\",\")"
   ]
  },
  {
   "cell_type": "code",
   "execution_count": 27,
   "metadata": {
    "collapsed": false
   },
   "outputs": [],
   "source": [
    "colnames(njeu)=c(\"Scaffold\", \"Position\", \"Major\", \"Minor\", \"KnownMaf_E\", \"UnknownMaf_E\", \"nInd_E\", \"KnownMaf_U\", \"UnknownMaf_U\", \"nInd_U\")"
   ]
  },
  {
   "cell_type": "code",
   "execution_count": 28,
   "metadata": {
    "collapsed": false
   },
   "outputs": [
    {
     "data": {
      "text/html": [
       "<table>\n",
       "<thead><tr><th scope=col>Scaffold</th><th scope=col>Position</th><th scope=col>Major</th><th scope=col>Minor</th><th scope=col>KnownMaf_E</th><th scope=col>UnknownMaf_E</th><th scope=col>nInd_E</th><th scope=col>KnownMaf_U</th><th scope=col>UnknownMaf_U</th><th scope=col>nInd_U</th></tr></thead>\n",
       "<tbody>\n",
       "\t<tr><td>GL429767</td><td>38      </td><td>A       </td><td>G       </td><td>0.000000</td><td>0.000004</td><td>15      </td><td>0.107034</td><td>0.106808</td><td>8       </td></tr>\n",
       "\t<tr><td>GL429767</td><td>53      </td><td>A       </td><td>G       </td><td>0.000000</td><td>0.000004</td><td>15      </td><td>0.118971</td><td>0.118750</td><td>7       </td></tr>\n",
       "\t<tr><td>GL429767</td><td>54      </td><td>G       </td><td>T       </td><td>0.000000</td><td>0.000004</td><td>15      </td><td>0.000000</td><td>0.000006</td><td>7       </td></tr>\n",
       "\t<tr><td>GL429767</td><td>78      </td><td>G       </td><td>A       </td><td>0.109899</td><td>0.109719</td><td>13      </td><td>0.000000</td><td>0.000003</td><td>7       </td></tr>\n",
       "\t<tr><td>GL429767</td><td>83      </td><td>G       </td><td>T       </td><td>0.000000</td><td>0.000004</td><td>14      </td><td>0.000000</td><td>0.000004</td><td>6       </td></tr>\n",
       "\t<tr><td>GL429767</td><td>89      </td><td>A       </td><td>G       </td><td>0.000000</td><td>0.000003</td><td>13      </td><td>0.104760</td><td>0.104534</td><td>7       </td></tr>\n",
       "</tbody>\n",
       "</table>\n"
      ],
      "text/latex": [
       "\\begin{tabular}{r|llllllllll}\n",
       " Scaffold & Position & Major & Minor & KnownMaf\\_E & UnknownMaf\\_E & nInd\\_E & KnownMaf\\_U & UnknownMaf\\_U & nInd\\_U\\\\\n",
       "\\hline\n",
       "\t GL429767 & 38       & A        & G        & 0.000000 & 0.000004 & 15       & 0.107034 & 0.106808 & 8       \\\\\n",
       "\t GL429767 & 53       & A        & G        & 0.000000 & 0.000004 & 15       & 0.118971 & 0.118750 & 7       \\\\\n",
       "\t GL429767 & 54       & G        & T        & 0.000000 & 0.000004 & 15       & 0.000000 & 0.000006 & 7       \\\\\n",
       "\t GL429767 & 78       & G        & A        & 0.109899 & 0.109719 & 13       & 0.000000 & 0.000003 & 7       \\\\\n",
       "\t GL429767 & 83       & G        & T        & 0.000000 & 0.000004 & 14       & 0.000000 & 0.000004 & 6       \\\\\n",
       "\t GL429767 & 89       & A        & G        & 0.000000 & 0.000003 & 13       & 0.104760 & 0.104534 & 7       \\\\\n",
       "\\end{tabular}\n"
      ],
      "text/markdown": [
       "\n",
       "Scaffold | Position | Major | Minor | KnownMaf_E | UnknownMaf_E | nInd_E | KnownMaf_U | UnknownMaf_U | nInd_U | \n",
       "|---|---|---|---|---|---|\n",
       "| GL429767 | 38       | A        | G        | 0.000000 | 0.000004 | 15       | 0.107034 | 0.106808 | 8        | \n",
       "| GL429767 | 53       | A        | G        | 0.000000 | 0.000004 | 15       | 0.118971 | 0.118750 | 7        | \n",
       "| GL429767 | 54       | G        | T        | 0.000000 | 0.000004 | 15       | 0.000000 | 0.000006 | 7        | \n",
       "| GL429767 | 78       | G        | A        | 0.109899 | 0.109719 | 13       | 0.000000 | 0.000003 | 7        | \n",
       "| GL429767 | 83       | G        | T        | 0.000000 | 0.000004 | 14       | 0.000000 | 0.000004 | 6        | \n",
       "| GL429767 | 89       | A        | G        | 0.000000 | 0.000003 | 13       | 0.104760 | 0.104534 | 7        | \n",
       "\n",
       "\n"
      ],
      "text/plain": [
       "  Scaffold Position Major Minor KnownMaf_E UnknownMaf_E nInd_E KnownMaf_U\n",
       "1 GL429767 38       A     G     0.000000   0.000004     15     0.107034  \n",
       "2 GL429767 53       A     G     0.000000   0.000004     15     0.118971  \n",
       "3 GL429767 54       G     T     0.000000   0.000004     15     0.000000  \n",
       "4 GL429767 78       G     A     0.109899   0.109719     13     0.000000  \n",
       "5 GL429767 83       G     T     0.000000   0.000004     14     0.000000  \n",
       "6 GL429767 89       A     G     0.000000   0.000003     13     0.104760  \n",
       "  UnknownMaf_U nInd_U\n",
       "1 0.106808     8     \n",
       "2 0.118750     7     \n",
       "3 0.000006     7     \n",
       "4 0.000003     7     \n",
       "5 0.000004     6     \n",
       "6 0.104534     7     "
      ]
     },
     "metadata": {},
     "output_type": "display_data"
    }
   ],
   "source": [
    "head (njeu)"
   ]
  },
  {
   "cell_type": "code",
   "execution_count": 29,
   "metadata": {
    "collapsed": false
   },
   "outputs": [],
   "source": [
    "njeu$diff=njeu$UnknownMaf_E-njeu$UnknownMaf_U"
   ]
  },
  {
   "cell_type": "code",
   "execution_count": 30,
   "metadata": {
    "collapsed": false
   },
   "outputs": [],
   "source": [
    "njeutop=njeu[order(njeu$diff),] "
   ]
  },
  {
   "cell_type": "code",
   "execution_count": 31,
   "metadata": {
    "collapsed": true
   },
   "outputs": [],
   "source": [
    "njeubottom=njeu[order(-njeu$diff),] "
   ]
  },
  {
   "cell_type": "code",
   "execution_count": 35,
   "metadata": {
    "collapsed": false,
    "scrolled": true
   },
   "outputs": [],
   "source": [
    "njeu_Inc2=njeutop[1:2188485,]"
   ]
  },
  {
   "cell_type": "code",
   "execution_count": 36,
   "metadata": {
    "collapsed": false
   },
   "outputs": [],
   "source": [
    "njeu_Dec2=njeubottom[1:2188485,]"
   ]
  },
  {
   "cell_type": "code",
   "execution_count": 37,
   "metadata": {
    "collapsed": false
   },
   "outputs": [
    {
     "data": {
      "text/html": [
       "<table>\n",
       "<thead><tr><th scope=col>Scaffold</th><th scope=col>Position</th><th scope=col>Major</th><th scope=col>Minor</th><th scope=col>KnownMaf_E</th><th scope=col>UnknownMaf_E</th><th scope=col>nInd_E</th><th scope=col>KnownMaf_U</th><th scope=col>UnknownMaf_U</th><th scope=col>nInd_U</th><th scope=col>diff</th></tr></thead>\n",
       "<tbody>\n",
       "\t<tr><td>GL429802 </td><td>2058236  </td><td>G        </td><td>T        </td><td>0        </td><td>2e-06    </td><td>19       </td><td>0.389465 </td><td>0.389468 </td><td>12       </td><td>-0.389466</td></tr>\n",
       "\t<tr><td>GL429812 </td><td>7590165  </td><td>A        </td><td>G        </td><td>0        </td><td>2e-06    </td><td>13       </td><td>0.389462 </td><td>0.389468 </td><td>12       </td><td>-0.389466</td></tr>\n",
       "\t<tr><td>GL429814 </td><td>2765259  </td><td>C        </td><td>T        </td><td>0        </td><td>2e-06    </td><td>14       </td><td>0.389469 </td><td>0.389468 </td><td>14       </td><td>-0.389466</td></tr>\n",
       "\t<tr><td>GL429820 </td><td>2064171  </td><td>A        </td><td>G        </td><td>0        </td><td>4e-06    </td><td>12       </td><td>0.389463 </td><td>0.389470 </td><td>12       </td><td>-0.389466</td></tr>\n",
       "\t<tr><td>GL429857 </td><td>2605140  </td><td>T        </td><td>A        </td><td>0        </td><td>2e-06    </td><td>16       </td><td>0.389465 </td><td>0.389468 </td><td> 8       </td><td>-0.389466</td></tr>\n",
       "\t<tr><td>GL429880 </td><td>3435345  </td><td>A        </td><td>C        </td><td>0        </td><td>2e-06    </td><td>14       </td><td>0.389458 </td><td>0.389468 </td><td>12       </td><td>-0.389466</td></tr>\n",
       "</tbody>\n",
       "</table>\n"
      ],
      "text/latex": [
       "\\begin{tabular}{r|lllllllllll}\n",
       " Scaffold & Position & Major & Minor & KnownMaf\\_E & UnknownMaf\\_E & nInd\\_E & KnownMaf\\_U & UnknownMaf\\_U & nInd\\_U & diff\\\\\n",
       "\\hline\n",
       "\t GL429802  & 2058236   & G         & T         & 0         & 2e-06     & 19        & 0.389465  & 0.389468  & 12        & -0.389466\\\\\n",
       "\t GL429812  & 7590165   & A         & G         & 0         & 2e-06     & 13        & 0.389462  & 0.389468  & 12        & -0.389466\\\\\n",
       "\t GL429814  & 2765259   & C         & T         & 0         & 2e-06     & 14        & 0.389469  & 0.389468  & 14        & -0.389466\\\\\n",
       "\t GL429820  & 2064171   & A         & G         & 0         & 4e-06     & 12        & 0.389463  & 0.389470  & 12        & -0.389466\\\\\n",
       "\t GL429857  & 2605140   & T         & A         & 0         & 2e-06     & 16        & 0.389465  & 0.389468  &  8        & -0.389466\\\\\n",
       "\t GL429880  & 3435345   & A         & C         & 0         & 2e-06     & 14        & 0.389458  & 0.389468  & 12        & -0.389466\\\\\n",
       "\\end{tabular}\n"
      ],
      "text/markdown": [
       "\n",
       "Scaffold | Position | Major | Minor | KnownMaf_E | UnknownMaf_E | nInd_E | KnownMaf_U | UnknownMaf_U | nInd_U | diff | \n",
       "|---|---|---|---|---|---|\n",
       "| GL429802  | 2058236   | G         | T         | 0         | 2e-06     | 19        | 0.389465  | 0.389468  | 12        | -0.389466 | \n",
       "| GL429812  | 7590165   | A         | G         | 0         | 2e-06     | 13        | 0.389462  | 0.389468  | 12        | -0.389466 | \n",
       "| GL429814  | 2765259   | C         | T         | 0         | 2e-06     | 14        | 0.389469  | 0.389468  | 14        | -0.389466 | \n",
       "| GL429820  | 2064171   | A         | G         | 0         | 4e-06     | 12        | 0.389463  | 0.389470  | 12        | -0.389466 | \n",
       "| GL429857  | 2605140   | T         | A         | 0         | 2e-06     | 16        | 0.389465  | 0.389468  |  8        | -0.389466 | \n",
       "| GL429880  | 3435345   | A         | C         | 0         | 2e-06     | 14        | 0.389458  | 0.389468  | 12        | -0.389466 | \n",
       "\n",
       "\n"
      ],
      "text/plain": [
       "  Scaffold Position Major Minor KnownMaf_E UnknownMaf_E nInd_E KnownMaf_U\n",
       "1 GL429802 2058236  G     T     0          2e-06        19     0.389465  \n",
       "2 GL429812 7590165  A     G     0          2e-06        13     0.389462  \n",
       "3 GL429814 2765259  C     T     0          2e-06        14     0.389469  \n",
       "4 GL429820 2064171  A     G     0          4e-06        12     0.389463  \n",
       "5 GL429857 2605140  T     A     0          2e-06        16     0.389465  \n",
       "6 GL429880 3435345  A     C     0          2e-06        14     0.389458  \n",
       "  UnknownMaf_U nInd_U diff     \n",
       "1 0.389468     12     -0.389466\n",
       "2 0.389468     12     -0.389466\n",
       "3 0.389468     14     -0.389466\n",
       "4 0.389470     12     -0.389466\n",
       "5 0.389468      8     -0.389466\n",
       "6 0.389468     12     -0.389466"
      ]
     },
     "metadata": {},
     "output_type": "display_data"
    }
   ],
   "source": [
    "tail(njeu_Inc2)"
   ]
  },
  {
   "cell_type": "code",
   "execution_count": null,
   "metadata": {
    "collapsed": true
   },
   "outputs": [],
   "source": []
  }
 ],
 "metadata": {
  "anaconda-cloud": {},
  "kernelspec": {
   "display_name": "R",
   "language": "R",
   "name": "ir"
  },
  "language_info": {
   "codemirror_mode": "r",
   "file_extension": ".r",
   "mimetype": "text/x-r-source",
   "name": "R",
   "pygments_lexer": "r",
   "version": "3.3.2"
  }
 },
 "nbformat": 4,
 "nbformat_minor": 1
}
