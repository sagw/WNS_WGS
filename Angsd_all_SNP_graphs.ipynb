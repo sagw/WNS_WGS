{
 "cells": [
  {
   "cell_type": "code",
   "execution_count": 3,
   "metadata": {
    "collapsed": false
   },
   "outputs": [
    {
     "name": "stderr",
     "output_type": "stream",
     "text": [
      "Loading required package: data.table\n",
      "Loading required package: ggplot2\n"
     ]
    }
   ],
   "source": [
    "require(data.table)\n",
    "require(ggplot2)\n",
    "setwd(\"~/WGS/SNPS/All_mylu/\")"
   ]
  },
  {
   "cell_type": "code",
   "execution_count": 4,
   "metadata": {
    "collapsed": false
   },
   "outputs": [
    {
     "name": "stdout",
     "output_type": "stream",
     "text": [
      "\r",
      "Read 0.0% of 109424281 rows\r",
      "Read 0.7% of 109424281 rows\r",
      "Read 1.7% of 109424281 rows\r",
      "Read 2.6% of 109424281 rows\r",
      "Read 3.4% of 109424281 rows\r",
      "Read 4.4% of 109424281 rows\r",
      "Read 5.3% of 109424281 rows\r",
      "Read 6.2% of 109424281 rows\r",
      "Read 6.8% of 109424281 rows\r",
      "Read 7.7% of 109424281 rows\r",
      "Read 8.6% of 109424281 rows\r",
      "Read 9.1% of 109424281 rows\r",
      "Read 9.3% of 109424281 rows\r",
      "Read 9.6% of 109424281 rows\r",
      "Read 10.6% of 109424281 rows\r",
      "Read 11.8% of 109424281 rows\r",
      "Read 12.3% of 109424281 rows\r",
      "Read 13.3% of 109424281 rows\r",
      "Read 14.2% of 109424281 rows\r",
      "Read 14.8% of 109424281 rows\r",
      "Read 15.9% of 109424281 rows\r",
      "Read 16.8% of 109424281 rows\r",
      "Read 17.6% of 109424281 rows\r",
      "Read 18.8% of 109424281 rows\r",
      "Read 19.6% of 109424281 rows\r",
      "Read 20.4% of 109424281 rows\r",
      "Read 21.5% of 109424281 rows\r",
      "Read 22.4% of 109424281 rows\r",
      "Read 23.2% of 109424281 rows\r",
      "Read 24.3% of 109424281 rows\r",
      "Read 25.3% of 109424281 rows\r",
      "Read 26.0% of 109424281 rows\r",
      "Read 27.1% of 109424281 rows\r",
      "Read 28.0% of 109424281 rows\r",
      "Read 28.8% of 109424281 rows\r",
      "Read 29.7% of 109424281 rows\r",
      "Read 30.7% of 109424281 rows\r",
      "Read 31.6% of 109424281 rows\r",
      "Read 32.6% of 109424281 rows\r",
      "Read 33.5% of 109424281 rows\r",
      "Read 34.3% of 109424281 rows\r",
      "Read 35.4% of 109424281 rows\r",
      "Read 36.3% of 109424281 rows\r",
      "Read 37.1% of 109424281 rows\r",
      "Read 38.1% of 109424281 rows\r",
      "Read 39.0% of 109424281 rows\r",
      "Read 39.8% of 109424281 rows\r",
      "Read 40.9% of 109424281 rows\r",
      "Read 41.8% of 109424281 rows\r",
      "Read 42.7% of 109424281 rows\r",
      "Read 43.7% of 109424281 rows\r",
      "Read 44.5% of 109424281 rows\r",
      "Read 45.4% of 109424281 rows\r",
      "Read 45.5% of 109424281 rows\r",
      "Read 45.8% of 109424281 rows\r",
      "Read 46.2% of 109424281 rows\r",
      "Read 46.6% of 109424281 rows\r",
      "Read 47.0% of 109424281 rows\r",
      "Read 47.4% of 109424281 rows\r",
      "Read 47.9% of 109424281 rows\r",
      "Read 48.2% of 109424281 rows\r",
      "Read 48.8% of 109424281 rows\r",
      "Read 49.6% of 109424281 rows\r",
      "Read 50.3% of 109424281 rows\r",
      "Read 51.0% of 109424281 rows\r",
      "Read 51.7% of 109424281 rows\r",
      "Read 52.3% of 109424281 rows\r",
      "Read 53.0% of 109424281 rows\r",
      "Read 53.7% of 109424281 rows\r",
      "Read 54.4% of 109424281 rows\r",
      "Read 54.9% of 109424281 rows\r",
      "Read 55.3% of 109424281 rows\r",
      "Read 55.6% of 109424281 rows\r",
      "Read 56.1% of 109424281 rows\r",
      "Read 56.6% of 109424281 rows\r",
      "Read 57.2% of 109424281 rows\r",
      "Read 57.8% of 109424281 rows\r",
      "Read 58.4% of 109424281 rows\r",
      "Read 58.9% of 109424281 rows\r",
      "Read 59.4% of 109424281 rows\r",
      "Read 60.1% of 109424281 rows\r",
      "Read 60.8% of 109424281 rows\r",
      "Read 61.7% of 109424281 rows\r",
      "Read 62.5% of 109424281 rows\r",
      "Read 63.5% of 109424281 rows\r",
      "Read 64.4% of 109424281 rows\r",
      "Read 65.0% of 109424281 rows\r",
      "Read 66.0% of 109424281 rows\r",
      "Read 66.9% of 109424281 rows\r",
      "Read 67.6% of 109424281 rows\r",
      "Read 68.5% of 109424281 rows\r",
      "Read 69.4% of 109424281 rows\r",
      "Read 70.3% of 109424281 rows\r",
      "Read 71.3% of 109424281 rows\r",
      "Read 72.2% of 109424281 rows\r",
      "Read 73.0% of 109424281 rows\r",
      "Read 73.7% of 109424281 rows\r",
      "Read 74.7% of 109424281 rows\r",
      "Read 75.6% of 109424281 rows\r",
      "Read 75.9% of 109424281 rows\r",
      "Read 76.5% of 109424281 rows\r",
      "Read 77.4% of 109424281 rows\r",
      "Read 78.3% of 109424281 rows\r",
      "Read 78.9% of 109424281 rows\r",
      "Read 79.9% of 109424281 rows\r",
      "Read 80.8% of 109424281 rows\r",
      "Read 81.7% of 109424281 rows\r",
      "Read 82.8% of 109424281 rows\r",
      "Read 83.7% of 109424281 rows\r",
      "Read 84.4% of 109424281 rows\r",
      "Read 85.5% of 109424281 rows\r",
      "Read 86.4% of 109424281 rows\r",
      "Read 87.2% of 109424281 rows\r",
      "Read 88.3% of 109424281 rows\r",
      "Read 89.2% of 109424281 rows\r",
      "Read 90.1% of 109424281 rows\r",
      "Read 91.1% of 109424281 rows\r",
      "Read 92.0% of 109424281 rows\r",
      "Read 92.8% of 109424281 rows\r",
      "Read 93.9% of 109424281 rows\r",
      "Read 94.8% of 109424281 rows\r",
      "Read 95.6% of 109424281 rows\r",
      "Read 96.6% of 109424281 rows\r",
      "Read 97.5% of 109424281 rows\r",
      "Read 98.4% of 109424281 rows\r",
      "Read 98.8% of 109424281 rows\r",
      "Read 99.6% of 109424281 rows\r",
      "Read 109424281 rows and 10 (of 10) columns from 6.376 GB file in 00:02:57\n"
     ]
    }
   ],
   "source": [
    "njeu=fread(\"NJ_EU2.mafs\", sep=\",\")"
   ]
  },
  {
   "cell_type": "code",
   "execution_count": 5,
   "metadata": {
    "collapsed": false
   },
   "outputs": [
    {
     "name": "stdout",
     "output_type": "stream",
     "text": [
      "\r",
      "Read 0.0% of 109424281 rows\r",
      "Read 0.6% of 109424281 rows\r",
      "Read 1.5% of 109424281 rows\r",
      "Read 2.4% of 109424281 rows\r",
      "Read 3.0% of 109424281 rows\r",
      "Read 3.9% of 109424281 rows\r",
      "Read 4.8% of 109424281 rows\r",
      "Read 5.6% of 109424281 rows\r",
      "Read 6.6% of 109424281 rows\r",
      "Read 7.6% of 109424281 rows\r",
      "Read 8.4% of 109424281 rows\r",
      "Read 9.5% of 109424281 rows\r",
      "Read 10.4% of 109424281 rows\r",
      "Read 11.2% of 109424281 rows\r",
      "Read 12.3% of 109424281 rows\r",
      "Read 13.2% of 109424281 rows\r",
      "Read 14.0% of 109424281 rows\r",
      "Read 15.0% of 109424281 rows\r",
      "Read 16.0% of 109424281 rows\r",
      "Read 16.8% of 109424281 rows\r",
      "Read 17.8% of 109424281 rows\r",
      "Read 18.7% of 109424281 rows\r",
      "Read 19.6% of 109424281 rows\r",
      "Read 20.5% of 109424281 rows\r",
      "Read 21.5% of 109424281 rows\r",
      "Read 22.4% of 109424281 rows\r",
      "Read 23.5% of 109424281 rows\r",
      "Read 24.4% of 109424281 rows\r",
      "Read 25.1% of 109424281 rows\r",
      "Read 26.3% of 109424281 rows\r",
      "Read 27.2% of 109424281 rows\r",
      "Read 27.9% of 109424281 rows\r",
      "Read 29.1% of 109424281 rows\r",
      "Read 30.0% of 109424281 rows\r",
      "Read 30.7% of 109424281 rows\r",
      "Read 31.8% of 109424281 rows\r",
      "Read 32.7% of 109424281 rows\r",
      "Read 33.5% of 109424281 rows\r",
      "Read 34.6% of 109424281 rows\r",
      "Read 35.5% of 109424281 rows\r",
      "Read 36.3% of 109424281 rows\r",
      "Read 37.3% of 109424281 rows\r",
      "Read 38.2% of 109424281 rows\r",
      "Read 39.1% of 109424281 rows\r",
      "Read 40.2% of 109424281 rows\r",
      "Read 41.1% of 109424281 rows\r",
      "Read 41.9% of 109424281 rows\r",
      "Read 43.0% of 109424281 rows\r",
      "Read 43.9% of 109424281 rows\r",
      "Read 44.7% of 109424281 rows\r",
      "Read 45.6% of 109424281 rows\r",
      "Read 46.6% of 109424281 rows\r",
      "Read 47.5% of 109424281 rows\r",
      "Read 48.6% of 109424281 rows\r",
      "Read 49.5% of 109424281 rows\r",
      "Read 50.3% of 109424281 rows\r",
      "Read 51.4% of 109424281 rows\r",
      "Read 52.3% of 109424281 rows\r",
      "Read 53.0% of 109424281 rows\r",
      "Read 54.0% of 109424281 rows\r",
      "Read 55.0% of 109424281 rows\r",
      "Read 55.8% of 109424281 rows\r",
      "Read 56.9% of 109424281 rows\r",
      "Read 57.8% of 109424281 rows\r",
      "Read 58.6% of 109424281 rows\r",
      "Read 59.6% of 109424281 rows\r",
      "Read 60.6% of 109424281 rows\r",
      "Read 61.4% of 109424281 rows\r",
      "Read 62.5% of 109424281 rows\r",
      "Read 63.5% of 109424281 rows\r",
      "Read 64.2% of 109424281 rows\r",
      "Read 65.3% of 109424281 rows\r",
      "Read 66.2% of 109424281 rows\r",
      "Read 66.9% of 109424281 rows\r",
      "Read 68.0% of 109424281 rows\r",
      "Read 69.0% of 109424281 rows\r",
      "Read 69.7% of 109424281 rows\r",
      "Read 70.8% of 109424281 rows\r",
      "Read 71.7% of 109424281 rows\r",
      "Read 72.6% of 109424281 rows\r",
      "Read 73.6% of 109424281 rows\r",
      "Read 74.5% of 109424281 rows\r",
      "Read 75.3% of 109424281 rows\r",
      "Read 76.4% of 109424281 rows\r",
      "Read 77.3% of 109424281 rows\r",
      "Read 78.2% of 109424281 rows\r",
      "Read 79.4% of 109424281 rows\r",
      "Read 80.3% of 109424281 rows\r",
      "Read 80.9% of 109424281 rows\r",
      "Read 82.0% of 109424281 rows\r",
      "Read 82.9% of 109424281 rows\r",
      "Read 83.7% of 109424281 rows\r",
      "Read 84.6% of 109424281 rows\r",
      "Read 85.5% of 109424281 rows\r",
      "Read 86.5% of 109424281 rows\r",
      "Read 87.6% of 109424281 rows\r",
      "Read 88.5% of 109424281 rows\r",
      "Read 89.2% of 109424281 rows\r",
      "Read 90.3% of 109424281 rows\r",
      "Read 91.2% of 109424281 rows\r",
      "Read 92.0% of 109424281 rows\r",
      "Read 93.2% of 109424281 rows\r",
      "Read 94.1% of 109424281 rows\r",
      "Read 94.8% of 109424281 rows\r",
      "Read 95.9% of 109424281 rows\r",
      "Read 96.9% of 109424281 rows\r",
      "Read 97.6% of 109424281 rows\r",
      "Read 98.7% of 109424281 rows\r",
      "Read 99.6% of 109424281 rows\r",
      "Read 109424281 rows and 10 (of 10) columns from 6.372 GB file in 00:02:52\n"
     ]
    }
   ],
   "source": [
    "nyeu=fread(\"NY_EU.mafs\")"
   ]
  },
  {
   "cell_type": "code",
   "execution_count": 6,
   "metadata": {
    "collapsed": false
   },
   "outputs": [
    {
     "name": "stdout",
     "output_type": "stream",
     "text": [
      "\r",
      "Read 0.0% of 109424281 rows\r",
      "Read 0.9% of 109424281 rows\r",
      "Read 1.5% of 109424281 rows\r",
      "Read 2.5% of 109424281 rows\r",
      "Read 3.4% of 109424281 rows\r",
      "Read 4.2% of 109424281 rows\r",
      "Read 5.3% of 109424281 rows\r",
      "Read 6.2% of 109424281 rows\r",
      "Read 7.0% of 109424281 rows\r",
      "Read 8.2% of 109424281 rows\r",
      "Read 9.1% of 109424281 rows\r",
      "Read 9.8% of 109424281 rows\r",
      "Read 10.9% of 109424281 rows\r",
      "Read 11.8% of 109424281 rows\r",
      "Read 12.6% of 109424281 rows\r",
      "Read 13.7% of 109424281 rows\r",
      "Read 14.6% of 109424281 rows\r",
      "Read 15.4% of 109424281 rows\r",
      "Read 16.6% of 109424281 rows\r",
      "Read 17.5% of 109424281 rows\r",
      "Read 18.2% of 109424281 rows\r",
      "Read 19.2% of 109424281 rows\r",
      "Read 20.1% of 109424281 rows\r",
      "Read 21.0% of 109424281 rows\r",
      "Read 22.1% of 109424281 rows\r",
      "Read 23.0% of 109424281 rows\r",
      "Read 23.8% of 109424281 rows\r",
      "Read 24.3% of 109424281 rows\r",
      "Read 24.8% of 109424281 rows\r",
      "Read 25.3% of 109424281 rows\r",
      "Read 25.7% of 109424281 rows\r",
      "Read 26.3% of 109424281 rows\r",
      "Read 26.7% of 109424281 rows\r",
      "Read 27.2% of 109424281 rows\r",
      "Read 27.8% of 109424281 rows\r",
      "Read 28.4% of 109424281 rows\r",
      "Read 28.8% of 109424281 rows\r",
      "Read 29.5% of 109424281 rows\r",
      "Read 30.0% of 109424281 rows\r",
      "Read 30.3% of 109424281 rows\r",
      "Read 30.7% of 109424281 rows\r",
      "Read 31.6% of 109424281 rows\r",
      "Read 32.3% of 109424281 rows\r",
      "Read 33.1% of 109424281 rows\r",
      "Read 34.3% of 109424281 rows\r",
      "Read 35.2% of 109424281 rows\r",
      "Read 35.9% of 109424281 rows\r",
      "Read 36.9% of 109424281 rows\r",
      "Read 37.8% of 109424281 rows\r",
      "Read 38.7% of 109424281 rows\r",
      "Read 39.7% of 109424281 rows\r",
      "Read 40.6% of 109424281 rows\r",
      "Read 41.5% of 109424281 rows\r",
      "Read 42.6% of 109424281 rows\r",
      "Read 43.5% of 109424281 rows\r",
      "Read 44.2% of 109424281 rows\r",
      "Read 45.2% of 109424281 rows\r",
      "Read 46.1% of 109424281 rows\r",
      "Read 47.0% of 109424281 rows\r",
      "Read 48.1% of 109424281 rows\r",
      "Read 49.0% of 109424281 rows\r",
      "Read 49.9% of 109424281 rows\r",
      "Read 50.9% of 109424281 rows\r",
      "Read 51.8% of 109424281 rows\r",
      "Read 52.6% of 109424281 rows\r",
      "Read 53.7% of 109424281 rows\r",
      "Read 54.6% of 109424281 rows\r",
      "Read 55.4% of 109424281 rows\r",
      "Read 56.5% of 109424281 rows\r",
      "Read 57.3% of 109424281 rows\r",
      "Read 58.1% of 109424281 rows\r",
      "Read 59.1% of 109424281 rows\r",
      "Read 60.0% of 109424281 rows\r",
      "Read 60.9% of 109424281 rows\r",
      "Read 61.7% of 109424281 rows\r",
      "Read 62.6% of 109424281 rows\r",
      "Read 63.5% of 109424281 rows\r",
      "Read 64.3% of 109424281 rows\r",
      "Read 65.2% of 109424281 rows\r",
      "Read 66.1% of 109424281 rows\r",
      "Read 66.5% of 109424281 rows\r",
      "Read 67.5% of 109424281 rows\r",
      "Read 68.4% of 109424281 rows\r",
      "Read 69.3% of 109424281 rows\r",
      "Read 70.2% of 109424281 rows\r",
      "Read 71.2% of 109424281 rows\r",
      "Read 72.1% of 109424281 rows\r",
      "Read 72.6% of 109424281 rows\r",
      "Read 73.5% of 109424281 rows\r",
      "Read 74.4% of 109424281 rows\r",
      "Read 74.9% of 109424281 rows\r",
      "Read 76.0% of 109424281 rows\r",
      "Read 76.9% of 109424281 rows\r",
      "Read 77.7% of 109424281 rows\r",
      "Read 78.9% of 109424281 rows\r",
      "Read 79.9% of 109424281 rows\r",
      "Read 80.5% of 109424281 rows\r",
      "Read 81.6% of 109424281 rows\r",
      "Read 82.5% of 109424281 rows\r",
      "Read 83.2% of 109424281 rows\r",
      "Read 84.5% of 109424281 rows\r",
      "Read 85.4% of 109424281 rows\r",
      "Read 86.1% of 109424281 rows\r",
      "Read 87.3% of 109424281 rows\r",
      "Read 88.2% of 109424281 rows\r",
      "Read 88.8% of 109424281 rows\r",
      "Read 90.0% of 109424281 rows\r",
      "Read 90.9% of 109424281 rows\r",
      "Read 91.6% of 109424281 rows\r",
      "Read 92.7% of 109424281 rows\r",
      "Read 93.7% of 109424281 rows\r",
      "Read 94.4% of 109424281 rows\r",
      "Read 95.7% of 109424281 rows\r",
      "Read 96.6% of 109424281 rows\r",
      "Read 97.2% of 109424281 rows\r",
      "Read 98.3% of 109424281 rows\r",
      "Read 99.2% of 109424281 rows\r",
      "Read 109424281 rows and 10 (of 10) columns from 6.392 GB file in 00:02:54\n"
     ]
    }
   ],
   "source": [
    "vteu=fread(\"VT_EU.mafs\")"
   ]
  },
  {
   "cell_type": "code",
   "execution_count": 7,
   "metadata": {
    "collapsed": false
   },
   "outputs": [],
   "source": [
    "colnames(njeu)=c(\"Scaffold\", \"Position\", \"Major\", \"Minor\", \"KnownMaf_E\", \"UnknownMaf_E\", \"nInd_E\", \"KnownMaf_U\", \"UnknownMaf_U\", \"nInd_U\")"
   ]
  },
  {
   "cell_type": "code",
   "execution_count": 8,
   "metadata": {
    "collapsed": true
   },
   "outputs": [],
   "source": [
    "colnames(nyeu)=c(\"Scaffold\", \"Position\", \"Major\", \"Minor\", \"KnownMaf_E\", \"UnknownMaf_E\", \"nInd_E\", \"KnownMaf_U\", \"UnknownMaf_U\", \"nInd_U\")"
   ]
  },
  {
   "cell_type": "code",
   "execution_count": 9,
   "metadata": {
    "collapsed": true
   },
   "outputs": [],
   "source": [
    "colnames(vteu)=c(\"Scaffold\", \"Position\", \"Major\", \"Minor\", \"KnownMaf_E\", \"UnknownMaf_E\", \"nInd_E\", \"KnownMaf_U\", \"UnknownMaf_U\", \"nInd_U\")"
   ]
  },
  {
   "cell_type": "code",
   "execution_count": 14,
   "metadata": {
    "collapsed": false
   },
   "outputs": [
    {
     "data": {
      "text/html": [
       "<table>\n",
       "<thead><tr><th scope=col>Scaffold</th><th scope=col>Position</th><th scope=col>Major</th><th scope=col>Minor</th><th scope=col>KnownMaf_E</th><th scope=col>UnknownMaf_E</th><th scope=col>nInd_E</th><th scope=col>KnownMaf_U</th><th scope=col>UnknownMaf_U</th><th scope=col>nInd_U</th></tr></thead>\n",
       "<tbody>\n",
       "\t<tr><td>GL429767</td><td>38      </td><td>A       </td><td>G       </td><td>0.000000</td><td>0.000002</td><td>11      </td><td>0.000000</td><td>0.000001</td><td>11      </td></tr>\n",
       "\t<tr><td>GL429767</td><td>53      </td><td>A       </td><td>G       </td><td>0.000000</td><td>0.000003</td><td>10      </td><td>0.051681</td><td>0.051442</td><td>13      </td></tr>\n",
       "\t<tr><td>GL429767</td><td>54      </td><td>G       </td><td>T       </td><td>0.059311</td><td>0.059309</td><td>12      </td><td>0.000000</td><td>0.000002</td><td>13      </td></tr>\n",
       "\t<tr><td>GL429767</td><td>78      </td><td>G       </td><td>A       </td><td>0.000000</td><td>0.000003</td><td>14      </td><td>0.048179</td><td>0.048179</td><td>13      </td></tr>\n",
       "\t<tr><td>GL429767</td><td>83      </td><td>G       </td><td>T       </td><td>0.000000</td><td>0.000001</td><td>14      </td><td>0.050845</td><td>0.050654</td><td>12      </td></tr>\n",
       "\t<tr><td>GL429767</td><td>89      </td><td>A       </td><td>G       </td><td>0.000000</td><td>0.000002</td><td>14      </td><td>0.049695</td><td>0.049505</td><td>12      </td></tr>\n",
       "</tbody>\n",
       "</table>\n"
      ],
      "text/latex": [
       "\\begin{tabular}{r|llllllllll}\n",
       " Scaffold & Position & Major & Minor & KnownMaf\\_E & UnknownMaf\\_E & nInd\\_E & KnownMaf\\_U & UnknownMaf\\_U & nInd\\_U\\\\\n",
       "\\hline\n",
       "\t GL429767 & 38       & A        & G        & 0.000000 & 0.000002 & 11       & 0.000000 & 0.000001 & 11      \\\\\n",
       "\t GL429767 & 53       & A        & G        & 0.000000 & 0.000003 & 10       & 0.051681 & 0.051442 & 13      \\\\\n",
       "\t GL429767 & 54       & G        & T        & 0.059311 & 0.059309 & 12       & 0.000000 & 0.000002 & 13      \\\\\n",
       "\t GL429767 & 78       & G        & A        & 0.000000 & 0.000003 & 14       & 0.048179 & 0.048179 & 13      \\\\\n",
       "\t GL429767 & 83       & G        & T        & 0.000000 & 0.000001 & 14       & 0.050845 & 0.050654 & 12      \\\\\n",
       "\t GL429767 & 89       & A        & G        & 0.000000 & 0.000002 & 14       & 0.049695 & 0.049505 & 12      \\\\\n",
       "\\end{tabular}\n"
      ],
      "text/markdown": [
       "\n",
       "Scaffold | Position | Major | Minor | KnownMaf_E | UnknownMaf_E | nInd_E | KnownMaf_U | UnknownMaf_U | nInd_U | \n",
       "|---|---|---|---|---|---|\n",
       "| GL429767 | 38       | A        | G        | 0.000000 | 0.000002 | 11       | 0.000000 | 0.000001 | 11       | \n",
       "| GL429767 | 53       | A        | G        | 0.000000 | 0.000003 | 10       | 0.051681 | 0.051442 | 13       | \n",
       "| GL429767 | 54       | G        | T        | 0.059311 | 0.059309 | 12       | 0.000000 | 0.000002 | 13       | \n",
       "| GL429767 | 78       | G        | A        | 0.000000 | 0.000003 | 14       | 0.048179 | 0.048179 | 13       | \n",
       "| GL429767 | 83       | G        | T        | 0.000000 | 0.000001 | 14       | 0.050845 | 0.050654 | 12       | \n",
       "| GL429767 | 89       | A        | G        | 0.000000 | 0.000002 | 14       | 0.049695 | 0.049505 | 12       | \n",
       "\n",
       "\n"
      ],
      "text/plain": [
       "  Scaffold Position Major Minor KnownMaf_E UnknownMaf_E nInd_E KnownMaf_U\n",
       "1 GL429767 38       A     G     0.000000   0.000002     11     0.000000  \n",
       "2 GL429767 53       A     G     0.000000   0.000003     10     0.051681  \n",
       "3 GL429767 54       G     T     0.059311   0.059309     12     0.000000  \n",
       "4 GL429767 78       G     A     0.000000   0.000003     14     0.048179  \n",
       "5 GL429767 83       G     T     0.000000   0.000001     14     0.050845  \n",
       "6 GL429767 89       A     G     0.000000   0.000002     14     0.049695  \n",
       "  UnknownMaf_U nInd_U\n",
       "1 0.000001     11    \n",
       "2 0.051442     13    \n",
       "3 0.000002     13    \n",
       "4 0.048179     13    \n",
       "5 0.050654     12    \n",
       "6 0.049505     12    "
      ]
     },
     "metadata": {},
     "output_type": "display_data"
    }
   ],
   "source": [
    "head (vteu)"
   ]
  },
  {
   "cell_type": "code",
   "execution_count": 10,
   "metadata": {
    "collapsed": false
   },
   "outputs": [],
   "source": [
    "njeu$diff=abs(njeu$UnknownMaf_E-njeu$UnknownMaf_U)"
   ]
  },
  {
   "cell_type": "code",
   "execution_count": 13,
   "metadata": {
    "collapsed": true
   },
   "outputs": [],
   "source": [
    "njeusnps=njeu[diff>0,]"
   ]
  },
  {
   "cell_type": "code",
   "execution_count": 19,
   "metadata": {
    "collapsed": true
   },
   "outputs": [],
   "source": [
    "njeunuc=njeusnps[Scaffold!=\"AAPE02072785\",]"
   ]
  },
  {
   "cell_type": "code",
   "execution_count": 11,
   "metadata": {
    "collapsed": true
   },
   "outputs": [],
   "source": [
    "nyeu$diff=abs(nyeu$UnknownMaf_E-nyeu$UnknownMaf_U)"
   ]
  },
  {
   "cell_type": "code",
   "execution_count": 14,
   "metadata": {
    "collapsed": true
   },
   "outputs": [],
   "source": [
    "nyeusnps=nyeu[diff>0,]"
   ]
  },
  {
   "cell_type": "code",
   "execution_count": 12,
   "metadata": {
    "collapsed": true
   },
   "outputs": [],
   "source": [
    "vteu$diff=abs(vteu$UnknownMaf_E-vteu$UnknownMaf_U)"
   ]
  },
  {
   "cell_type": "code",
   "execution_count": 15,
   "metadata": {
    "collapsed": true
   },
   "outputs": [],
   "source": [
    "vteusnps=vteu[diff>0,]"
   ]
  },
  {
   "cell_type": "code",
   "execution_count": 16,
   "metadata": {
    "collapsed": true
   },
   "outputs": [],
   "source": [
    "AAPE02072785nj=njeu[Scaffold==\"AAPE02072785\"& diff>0,]"
   ]
  },
  {
   "cell_type": "code",
   "execution_count": 68,
   "metadata": {
    "collapsed": false,
    "scrolled": false
   },
   "outputs": [
    {
     "data": {
      "text/html": [
       "<table>\n",
       "<thead><tr><th scope=col>Scaffold</th><th scope=col>Position</th><th scope=col>Major</th><th scope=col>Minor</th><th scope=col>KnownMaf_E</th><th scope=col>UnknownMaf_E</th><th scope=col>nInd_E</th><th scope=col>KnownMaf_U</th><th scope=col>UnknownMaf_U</th><th scope=col>nInd_U</th><th scope=col>diff</th></tr></thead>\n",
       "<tbody>\n",
       "\t<tr><td>AAPE02072785</td><td> 2544       </td><td>A           </td><td>G           </td><td>0.031234    </td><td>0.030991    </td><td>19          </td><td>0.531726    </td><td>0.531722    </td><td>18          </td><td>0.500731    </td></tr>\n",
       "\t<tr><td>AAPE02072785</td><td> 9261       </td><td>C           </td><td>T           </td><td>0.000000    </td><td>0.000000    </td><td>21          </td><td>0.500000    </td><td>0.500000    </td><td>22          </td><td>0.500000    </td></tr>\n",
       "\t<tr><td>AAPE02072785</td><td> 3452       </td><td>C           </td><td>T           </td><td>0.366587    </td><td>0.366586    </td><td>17          </td><td>0.000000    </td><td>0.000001    </td><td>18          </td><td>0.366585    </td></tr>\n",
       "\t<tr><td>AAPE02072785</td><td> 3499       </td><td>A           </td><td>C           </td><td>0.335005    </td><td>0.335006    </td><td>17          </td><td>0.000000    </td><td>0.000001    </td><td>16          </td><td>0.335005    </td></tr>\n",
       "\t<tr><td>AAPE02072785</td><td>20018       </td><td>C           </td><td>T           </td><td>0.000000    </td><td>0.000000    </td><td>20          </td><td>0.318452    </td><td>0.318462    </td><td>15          </td><td>0.318462    </td></tr>\n",
       "\t<tr><td>AAPE02072785</td><td>18851       </td><td>C           </td><td>T           </td><td>0.000000    </td><td>0.000003    </td><td>11          </td><td>0.317760    </td><td>0.317759    </td><td>17          </td><td>0.317756    </td></tr>\n",
       "</tbody>\n",
       "</table>\n"
      ],
      "text/latex": [
       "\\begin{tabular}{r|lllllllllll}\n",
       " Scaffold & Position & Major & Minor & KnownMaf\\_E & UnknownMaf\\_E & nInd\\_E & KnownMaf\\_U & UnknownMaf\\_U & nInd\\_U & diff\\\\\n",
       "\\hline\n",
       "\t AAPE02072785 &  2544        & A            & G            & 0.031234     & 0.030991     & 19           & 0.531726     & 0.531722     & 18           & 0.500731    \\\\\n",
       "\t AAPE02072785 &  9261        & C            & T            & 0.000000     & 0.000000     & 21           & 0.500000     & 0.500000     & 22           & 0.500000    \\\\\n",
       "\t AAPE02072785 &  3452        & C            & T            & 0.366587     & 0.366586     & 17           & 0.000000     & 0.000001     & 18           & 0.366585    \\\\\n",
       "\t AAPE02072785 &  3499        & A            & C            & 0.335005     & 0.335006     & 17           & 0.000000     & 0.000001     & 16           & 0.335005    \\\\\n",
       "\t AAPE02072785 & 20018        & C            & T            & 0.000000     & 0.000000     & 20           & 0.318452     & 0.318462     & 15           & 0.318462    \\\\\n",
       "\t AAPE02072785 & 18851        & C            & T            & 0.000000     & 0.000003     & 11           & 0.317760     & 0.317759     & 17           & 0.317756    \\\\\n",
       "\\end{tabular}\n"
      ],
      "text/markdown": [
       "\n",
       "Scaffold | Position | Major | Minor | KnownMaf_E | UnknownMaf_E | nInd_E | KnownMaf_U | UnknownMaf_U | nInd_U | diff | \n",
       "|---|---|---|---|---|---|\n",
       "| AAPE02072785 |  2544        | A            | G            | 0.031234     | 0.030991     | 19           | 0.531726     | 0.531722     | 18           | 0.500731     | \n",
       "| AAPE02072785 |  9261        | C            | T            | 0.000000     | 0.000000     | 21           | 0.500000     | 0.500000     | 22           | 0.500000     | \n",
       "| AAPE02072785 |  3452        | C            | T            | 0.366587     | 0.366586     | 17           | 0.000000     | 0.000001     | 18           | 0.366585     | \n",
       "| AAPE02072785 |  3499        | A            | C            | 0.335005     | 0.335006     | 17           | 0.000000     | 0.000001     | 16           | 0.335005     | \n",
       "| AAPE02072785 | 20018        | C            | T            | 0.000000     | 0.000000     | 20           | 0.318452     | 0.318462     | 15           | 0.318462     | \n",
       "| AAPE02072785 | 18851        | C            | T            | 0.000000     | 0.000003     | 11           | 0.317760     | 0.317759     | 17           | 0.317756     | \n",
       "\n",
       "\n"
      ],
      "text/plain": [
       "  Scaffold     Position Major Minor KnownMaf_E UnknownMaf_E nInd_E KnownMaf_U\n",
       "1 AAPE02072785  2544    A     G     0.031234   0.030991     19     0.531726  \n",
       "2 AAPE02072785  9261    C     T     0.000000   0.000000     21     0.500000  \n",
       "3 AAPE02072785  3452    C     T     0.366587   0.366586     17     0.000000  \n",
       "4 AAPE02072785  3499    A     C     0.335005   0.335006     17     0.000000  \n",
       "5 AAPE02072785 20018    C     T     0.000000   0.000000     20     0.318452  \n",
       "6 AAPE02072785 18851    C     T     0.000000   0.000003     11     0.317760  \n",
       "  UnknownMaf_U nInd_U diff    \n",
       "1 0.531722     18     0.500731\n",
       "2 0.500000     22     0.500000\n",
       "3 0.000001     18     0.366585\n",
       "4 0.000001     16     0.335005\n",
       "5 0.318462     15     0.318462\n",
       "6 0.317759     17     0.317756"
      ]
     },
     "metadata": {},
     "output_type": "display_data"
    },
    {
     "data": {
      "text/html": [
       "580"
      ],
      "text/latex": [
       "580"
      ],
      "text/markdown": [
       "580"
      ],
      "text/plain": [
       "[1] 580"
      ]
     },
     "metadata": {},
     "output_type": "display_data"
    }
   ],
   "source": [
    "AAPE02072785nj=AAPE02072785nj[order(-AAPE02072785nj$diff),] \n",
    "head(AAPE02072785nj)\n",
    "NROW(AAPE02072785nj)"
   ]
  },
  {
   "cell_type": "code",
   "execution_count": 20,
   "metadata": {
    "collapsed": false
   },
   "outputs": [
    {
     "data": {
      "image/png": "[encoded data removed]",
      "text/plain": [
       "Plot with title “Change in allele frequency NJ”"
      ]
     },
     "metadata": {},
     "output_type": "display_data"
    }
   ],
   "source": [
    "plot(density(njeunuc$diff), main=\"Change in allele frequency NJ\")\n",
    "     lines(density(AAPE02072785nj$diff), col=\"red\") \n",
    "legend(\"topright\", c(\"nuclear\", \"mitochondrial\"), fill=c(\"black\", \"red\"))"
   ]
  },
  {
   "cell_type": "code",
   "execution_count": 21,
   "metadata": {
    "collapsed": true
   },
   "outputs": [],
   "source": [
    "AAPE02072785ny=nyeu[Scaffold==\"AAPE02072785\"& diff>0,]"
   ]
  },
  {
   "cell_type": "code",
   "execution_count": 69,
   "metadata": {
    "collapsed": false,
    "scrolled": true
   },
   "outputs": [
    {
     "data": {
      "text/html": [
       "<table>\n",
       "<thead><tr><th scope=col>Scaffold</th><th scope=col>Position</th><th scope=col>Major</th><th scope=col>Minor</th><th scope=col>KnownMaf_E</th><th scope=col>UnknownMaf_E</th><th scope=col>nInd_E</th><th scope=col>KnownMaf_U</th><th scope=col>UnknownMaf_U</th><th scope=col>nInd_U</th><th scope=col>diff</th></tr></thead>\n",
       "<tbody>\n",
       "\t<tr><td>AAPE02072785</td><td> 3515       </td><td>A           </td><td>G           </td><td>0.314975    </td><td>0.314978    </td><td>19          </td><td>0.060067    </td><td>0.020071    </td><td>13          </td><td>0.294907    </td></tr>\n",
       "\t<tr><td>AAPE02072785</td><td>19154       </td><td>T           </td><td>C           </td><td>0.349320    </td><td>0.349321    </td><td> 9          </td><td>0.239162    </td><td>0.093847    </td><td> 7          </td><td>0.255474    </td></tr>\n",
       "\t<tr><td>AAPE02072785</td><td>18742       </td><td>C           </td><td>T           </td><td>0.245570    </td><td>0.245568    </td><td>10          </td><td>0.000000    </td><td>0.000005    </td><td> 5          </td><td>0.245563    </td></tr>\n",
       "\t<tr><td>AAPE02072785</td><td> 3148       </td><td>T           </td><td>C           </td><td>0.000000    </td><td>0.000001    </td><td>15          </td><td>0.232086    </td><td>0.232083    </td><td>12          </td><td>0.232082    </td></tr>\n",
       "\t<tr><td>AAPE02072785</td><td> 3470       </td><td>T           </td><td>C           </td><td>0.233583    </td><td>0.233586    </td><td>20          </td><td>0.065851    </td><td>0.019229    </td><td>13          </td><td>0.214357    </td></tr>\n",
       "\t<tr><td>AAPE02072785</td><td>19900       </td><td>A           </td><td>T           </td><td>0.212611    </td><td>0.212613    </td><td>16          </td><td>0.029665    </td><td>0.029277    </td><td>19          </td><td>0.183336    </td></tr>\n",
       "</tbody>\n",
       "</table>\n"
      ],
      "text/latex": [
       "\\begin{tabular}{r|lllllllllll}\n",
       " Scaffold & Position & Major & Minor & KnownMaf\\_E & UnknownMaf\\_E & nInd\\_E & KnownMaf\\_U & UnknownMaf\\_U & nInd\\_U & diff\\\\\n",
       "\\hline\n",
       "\t AAPE02072785 &  3515        & A            & G            & 0.314975     & 0.314978     & 19           & 0.060067     & 0.020071     & 13           & 0.294907    \\\\\n",
       "\t AAPE02072785 & 19154        & T            & C            & 0.349320     & 0.349321     &  9           & 0.239162     & 0.093847     &  7           & 0.255474    \\\\\n",
       "\t AAPE02072785 & 18742        & C            & T            & 0.245570     & 0.245568     & 10           & 0.000000     & 0.000005     &  5           & 0.245563    \\\\\n",
       "\t AAPE02072785 &  3148        & T            & C            & 0.000000     & 0.000001     & 15           & 0.232086     & 0.232083     & 12           & 0.232082    \\\\\n",
       "\t AAPE02072785 &  3470        & T            & C            & 0.233583     & 0.233586     & 20           & 0.065851     & 0.019229     & 13           & 0.214357    \\\\\n",
       "\t AAPE02072785 & 19900        & A            & T            & 0.212611     & 0.212613     & 16           & 0.029665     & 0.029277     & 19           & 0.183336    \\\\\n",
       "\\end{tabular}\n"
      ],
      "text/markdown": [
       "\n",
       "Scaffold | Position | Major | Minor | KnownMaf_E | UnknownMaf_E | nInd_E | KnownMaf_U | UnknownMaf_U | nInd_U | diff | \n",
       "|---|---|---|---|---|---|\n",
       "| AAPE02072785 |  3515        | A            | G            | 0.314975     | 0.314978     | 19           | 0.060067     | 0.020071     | 13           | 0.294907     | \n",
       "| AAPE02072785 | 19154        | T            | C            | 0.349320     | 0.349321     |  9           | 0.239162     | 0.093847     |  7           | 0.255474     | \n",
       "| AAPE02072785 | 18742        | C            | T            | 0.245570     | 0.245568     | 10           | 0.000000     | 0.000005     |  5           | 0.245563     | \n",
       "| AAPE02072785 |  3148        | T            | C            | 0.000000     | 0.000001     | 15           | 0.232086     | 0.232083     | 12           | 0.232082     | \n",
       "| AAPE02072785 |  3470        | T            | C            | 0.233583     | 0.233586     | 20           | 0.065851     | 0.019229     | 13           | 0.214357     | \n",
       "| AAPE02072785 | 19900        | A            | T            | 0.212611     | 0.212613     | 16           | 0.029665     | 0.029277     | 19           | 0.183336     | \n",
       "\n",
       "\n"
      ],
      "text/plain": [
       "  Scaffold     Position Major Minor KnownMaf_E UnknownMaf_E nInd_E KnownMaf_U\n",
       "1 AAPE02072785  3515    A     G     0.314975   0.314978     19     0.060067  \n",
       "2 AAPE02072785 19154    T     C     0.349320   0.349321      9     0.239162  \n",
       "3 AAPE02072785 18742    C     T     0.245570   0.245568     10     0.000000  \n",
       "4 AAPE02072785  3148    T     C     0.000000   0.000001     15     0.232086  \n",
       "5 AAPE02072785  3470    T     C     0.233583   0.233586     20     0.065851  \n",
       "6 AAPE02072785 19900    A     T     0.212611   0.212613     16     0.029665  \n",
       "  UnknownMaf_U nInd_U diff    \n",
       "1 0.020071     13     0.294907\n",
       "2 0.093847      7     0.255474\n",
       "3 0.000005      5     0.245563\n",
       "4 0.232083     12     0.232082\n",
       "5 0.019229     13     0.214357\n",
       "6 0.029277     19     0.183336"
      ]
     },
     "metadata": {},
     "output_type": "display_data"
    },
    {
     "data": {
      "text/html": [
       "363"
      ],
      "text/latex": [
       "363"
      ],
      "text/markdown": [
       "363"
      ],
      "text/plain": [
       "[1] 363"
      ]
     },
     "metadata": {},
     "output_type": "display_data"
    }
   ],
   "source": [
    "AAPE02072785ny=AAPE02072785ny[order(-AAPE02072785ny$diff),] \n",
    "head(AAPE02072785ny)\n",
    "NROW(AAPE02072785ny)"
   ]
  },
  {
   "cell_type": "code",
   "execution_count": 24,
   "metadata": {
    "collapsed": false
   },
   "outputs": [
    {
     "data": {
      "image/png": "[encoded data removed]",
      "text/plain": [
       "Plot with title “Change in allele frequency NY”"
      ]
     },
     "metadata": {},
     "output_type": "display_data"
    }
   ],
   "source": [
    "plot(density(nyeusnps$diff), main=\"Change in allele frequency NY\")\n",
    "     lines(density(AAPE02072785ny$diff), col=\"red\") \n",
    "legend(\"topright\", c(\"nuclear\", \"mitochondrial\"), fill=c(\"black\", \"red\"))"
   ]
  },
  {
   "cell_type": "code",
   "execution_count": 27,
   "metadata": {
    "collapsed": true
   },
   "outputs": [],
   "source": [
    "AAPE02072785vt=vteu[Scaffold==\"AAPE02072785\" ,]"
   ]
  },
  {
   "cell_type": "code",
   "execution_count": 28,
   "metadata": {
    "collapsed": false
   },
   "outputs": [
    {
     "data": {
      "text/html": [
       "736"
      ],
      "text/latex": [
       "736"
      ],
      "text/markdown": [
       "736"
      ],
      "text/plain": [
       "[1] 736"
      ]
     },
     "metadata": {},
     "output_type": "display_data"
    }
   ],
   "source": [
    "NROW(AAPE02072785vt)"
   ]
  },
  {
   "cell_type": "code",
   "execution_count": 70,
   "metadata": {
    "collapsed": false,
    "scrolled": true
   },
   "outputs": [
    {
     "data": {
      "text/html": [
       "<table>\n",
       "<thead><tr><th scope=col>Scaffold</th><th scope=col>Position</th><th scope=col>Major</th><th scope=col>Minor</th><th scope=col>KnownMaf_E</th><th scope=col>UnknownMaf_E</th><th scope=col>nInd_E</th><th scope=col>KnownMaf_U</th><th scope=col>UnknownMaf_U</th><th scope=col>nInd_U</th><th scope=col>diff</th></tr></thead>\n",
       "<tbody>\n",
       "\t<tr><td>AAPE02072785</td><td> 1436       </td><td>T           </td><td>C           </td><td>0.000000    </td><td>0.000000    </td><td>19          </td><td>0.365848    </td><td>0.365849    </td><td> 9          </td><td>0.365849    </td></tr>\n",
       "\t<tr><td>AAPE02072785</td><td>11664       </td><td>C           </td><td>T           </td><td>0.259656    </td><td>0.259656    </td><td>27          </td><td>0.620223    </td><td>0.620223    </td><td>22          </td><td>0.360567    </td></tr>\n",
       "\t<tr><td>AAPE02072785</td><td> 3499       </td><td>A           </td><td>C           </td><td>0.304413    </td><td>0.304412    </td><td>27          </td><td>0.652526    </td><td>0.652524    </td><td>12          </td><td>0.348112    </td></tr>\n",
       "\t<tr><td>AAPE02072785</td><td> 3452       </td><td>C           </td><td>T           </td><td>0.340808    </td><td>0.340810    </td><td>27          </td><td>0.650519    </td><td>0.650517    </td><td>12          </td><td>0.309707    </td></tr>\n",
       "\t<tr><td>AAPE02072785</td><td> 3465       </td><td>G           </td><td>A           </td><td>0.196603    </td><td>0.196603    </td><td>27          </td><td>0.491657    </td><td>0.491651    </td><td>12          </td><td>0.295048    </td></tr>\n",
       "\t<tr><td>AAPE02072785</td><td> 3508       </td><td>T           </td><td>C           </td><td>0.000000    </td><td>0.000000    </td><td>27          </td><td>0.247262    </td><td>0.247260    </td><td>10          </td><td>0.247260    </td></tr>\n",
       "</tbody>\n",
       "</table>\n"
      ],
      "text/latex": [
       "\\begin{tabular}{r|lllllllllll}\n",
       " Scaffold & Position & Major & Minor & KnownMaf\\_E & UnknownMaf\\_E & nInd\\_E & KnownMaf\\_U & UnknownMaf\\_U & nInd\\_U & diff\\\\\n",
       "\\hline\n",
       "\t AAPE02072785 &  1436        & T            & C            & 0.000000     & 0.000000     & 19           & 0.365848     & 0.365849     &  9           & 0.365849    \\\\\n",
       "\t AAPE02072785 & 11664        & C            & T            & 0.259656     & 0.259656     & 27           & 0.620223     & 0.620223     & 22           & 0.360567    \\\\\n",
       "\t AAPE02072785 &  3499        & A            & C            & 0.304413     & 0.304412     & 27           & 0.652526     & 0.652524     & 12           & 0.348112    \\\\\n",
       "\t AAPE02072785 &  3452        & C            & T            & 0.340808     & 0.340810     & 27           & 0.650519     & 0.650517     & 12           & 0.309707    \\\\\n",
       "\t AAPE02072785 &  3465        & G            & A            & 0.196603     & 0.196603     & 27           & 0.491657     & 0.491651     & 12           & 0.295048    \\\\\n",
       "\t AAPE02072785 &  3508        & T            & C            & 0.000000     & 0.000000     & 27           & 0.247262     & 0.247260     & 10           & 0.247260    \\\\\n",
       "\\end{tabular}\n"
      ],
      "text/markdown": [
       "\n",
       "Scaffold | Position | Major | Minor | KnownMaf_E | UnknownMaf_E | nInd_E | KnownMaf_U | UnknownMaf_U | nInd_U | diff | \n",
       "|---|---|---|---|---|---|\n",
       "| AAPE02072785 |  1436        | T            | C            | 0.000000     | 0.000000     | 19           | 0.365848     | 0.365849     |  9           | 0.365849     | \n",
       "| AAPE02072785 | 11664        | C            | T            | 0.259656     | 0.259656     | 27           | 0.620223     | 0.620223     | 22           | 0.360567     | \n",
       "| AAPE02072785 |  3499        | A            | C            | 0.304413     | 0.304412     | 27           | 0.652526     | 0.652524     | 12           | 0.348112     | \n",
       "| AAPE02072785 |  3452        | C            | T            | 0.340808     | 0.340810     | 27           | 0.650519     | 0.650517     | 12           | 0.309707     | \n",
       "| AAPE02072785 |  3465        | G            | A            | 0.196603     | 0.196603     | 27           | 0.491657     | 0.491651     | 12           | 0.295048     | \n",
       "| AAPE02072785 |  3508        | T            | C            | 0.000000     | 0.000000     | 27           | 0.247262     | 0.247260     | 10           | 0.247260     | \n",
       "\n",
       "\n"
      ],
      "text/plain": [
       "  Scaffold     Position Major Minor KnownMaf_E UnknownMaf_E nInd_E KnownMaf_U\n",
       "1 AAPE02072785  1436    T     C     0.000000   0.000000     19     0.365848  \n",
       "2 AAPE02072785 11664    C     T     0.259656   0.259656     27     0.620223  \n",
       "3 AAPE02072785  3499    A     C     0.304413   0.304412     27     0.652526  \n",
       "4 AAPE02072785  3452    C     T     0.340808   0.340810     27     0.650519  \n",
       "5 AAPE02072785  3465    G     A     0.196603   0.196603     27     0.491657  \n",
       "6 AAPE02072785  3508    T     C     0.000000   0.000000     27     0.247262  \n",
       "  UnknownMaf_U nInd_U diff    \n",
       "1 0.365849      9     0.365849\n",
       "2 0.620223     22     0.360567\n",
       "3 0.652524     12     0.348112\n",
       "4 0.650517     12     0.309707\n",
       "5 0.491651     12     0.295048\n",
       "6 0.247260     10     0.247260"
      ]
     },
     "metadata": {},
     "output_type": "display_data"
    },
    {
     "data": {
      "text/html": [
       "579"
      ],
      "text/latex": [
       "579"
      ],
      "text/markdown": [
       "579"
      ],
      "text/plain": [
       "[1] 579"
      ]
     },
     "metadata": {},
     "output_type": "display_data"
    }
   ],
   "source": [
    "AAPE02072785vt=AAPE02072785vt[order(-AAPE02072785vt$diff),] \n",
    "head(AAPE02072785vt)\n",
    "NROW(AAPE02072785vt)"
   ]
  },
  {
   "cell_type": "code",
   "execution_count": 26,
   "metadata": {
    "collapsed": false
   },
   "outputs": [
    {
     "data": {
      "image/png": "[encoded data removed]",
      "text/plain": [
       "Plot with title “Change in allele frequency VT”"
      ]
     },
     "metadata": {},
     "output_type": "display_data"
    }
   ],
   "source": [
    "plot(density(vteusnps$diff), main=\"Change in allele frequency VT\")\n",
    "     lines(density(AAPE02072785vt$diff), col=\"red\") \n",
    "legend(\"topright\", c(\"nuclear\", \"mitochondrial\"), fill=c(\"black\", \"red\"))"
   ]
  },
  {
   "cell_type": "code",
   "execution_count": 59,
   "metadata": {
    "collapsed": true
   },
   "outputs": [],
   "source": [
    "mitonjvt=merge(AAPE02072785nj, AAPE02072785vt, by=\"Position\")"
   ]
  },
  {
   "cell_type": "code",
   "execution_count": 61,
   "metadata": {
    "collapsed": false
   },
   "outputs": [
    {
     "data": {
      "text/html": [
       "455"
      ],
      "text/latex": [
       "455"
      ],
      "text/markdown": [
       "455"
      ],
      "text/plain": [
       "[1] 455"
      ]
     },
     "metadata": {},
     "output_type": "display_data"
    }
   ],
   "source": [
    "NROW(mitonjvt)"
   ]
  },
  {
   "cell_type": "code",
   "execution_count": 66,
   "metadata": {
    "collapsed": false
   },
   "outputs": [
    {
     "data": {
      "text/html": [
       "268"
      ],
      "text/latex": [
       "268"
      ],
      "text/markdown": [
       "268"
      ],
      "text/plain": [
       "[1] 268"
      ]
     },
     "metadata": {},
     "output_type": "display_data"
    }
   ],
   "source": [
    "mitonyvt=merge(AAPE02072785ny, AAPE02072785vt, by=\"Position\")\n",
    "NROW(mitonyvt)"
   ]
  },
  {
   "cell_type": "code",
   "execution_count": 67,
   "metadata": {
    "collapsed": false
   },
   "outputs": [
    {
     "data": {
      "text/html": [
       "310"
      ],
      "text/latex": [
       "310"
      ],
      "text/markdown": [
       "310"
      ],
      "text/plain": [
       "[1] 310"
      ]
     },
     "metadata": {},
     "output_type": "display_data"
    }
   ],
   "source": [
    "mitonynj=merge(AAPE02072785ny, AAPE02072785nj, by=\"Position\")\n",
    "NROW(mitonynj)"
   ]
  },
  {
   "cell_type": "code",
   "execution_count": 62,
   "metadata": {
    "collapsed": true
   },
   "outputs": [],
   "source": [
    "mitonjvtny=merge(AAPE02072785ny, mitonjvt, by=\"Position\")"
   ]
  },
  {
   "cell_type": "code",
   "execution_count": 64,
   "metadata": {
    "collapsed": false
   },
   "outputs": [
    {
     "data": {
      "text/html": [
       "234"
      ],
      "text/latex": [
       "234"
      ],
      "text/markdown": [
       "234"
      ],
      "text/plain": [
       "[1] 234"
      ]
     },
     "metadata": {},
     "output_type": "display_data"
    }
   ],
   "source": [
    "NROW(mitonjvtny)"
   ]
  },
  {
   "cell_type": "code",
   "execution_count": 16,
   "metadata": {
    "collapsed": false
   },
   "outputs": [],
   "source": [
    "njeutop=njeu[order(-njeu$diff),] "
   ]
  },
  {
   "cell_type": "code",
   "execution_count": 20,
   "metadata": {
    "collapsed": false
   },
   "outputs": [
    {
     "data": {
      "text/html": [
       "<table>\n",
       "<thead><tr><th scope=col>Scaffold</th><th scope=col>Position</th><th scope=col>Major</th><th scope=col>Minor</th><th scope=col>KnownMaf_E</th><th scope=col>UnknownMaf_E</th><th scope=col>nInd_E</th><th scope=col>KnownMaf_U</th><th scope=col>UnknownMaf_U</th><th scope=col>nInd_U</th><th scope=col>diff</th></tr></thead>\n",
       "<tbody>\n",
       "\t<tr><td>AAPE02060630</td><td>  18280     </td><td>G           </td><td>T           </td><td>0           </td><td>0e+00       </td><td>14          </td><td>1.000001    </td><td>0.999999    </td><td>6           </td><td>0.999999    </td></tr>\n",
       "\t<tr><td>GL430084    </td><td>1048291     </td><td>T           </td><td>C           </td><td>0           </td><td>0e+00       </td><td>16          </td><td>1.000002    </td><td>0.999998    </td><td>6           </td><td>0.999998    </td></tr>\n",
       "\t<tr><td>GL429810    </td><td>7526323     </td><td>C           </td><td>G           </td><td>0           </td><td>1e-06       </td><td>14          </td><td>1.000003    </td><td>0.999999    </td><td>5           </td><td>0.999998    </td></tr>\n",
       "\t<tr><td>GL429818    </td><td>3454116     </td><td>T           </td><td>C           </td><td>0           </td><td>1e-06       </td><td>15          </td><td>1.000003    </td><td>0.999999    </td><td>6           </td><td>0.999998    </td></tr>\n",
       "\t<tr><td>GL430072    </td><td> 491441     </td><td>A           </td><td>G           </td><td>0           </td><td>1e-06       </td><td>15          </td><td>1.000000    </td><td>0.999999    </td><td>3           </td><td>0.999998    </td></tr>\n",
       "\t<tr><td>GL429824    </td><td>5793288     </td><td>G           </td><td>A           </td><td>0           </td><td>1e-06       </td><td>14          </td><td>1.000003    </td><td>0.999998    </td><td>8           </td><td>0.999997    </td></tr>\n",
       "</tbody>\n",
       "</table>\n"
      ],
      "text/latex": [
       "\\begin{tabular}{r|lllllllllll}\n",
       " Scaffold & Position & Major & Minor & KnownMaf\\_E & UnknownMaf\\_E & nInd\\_E & KnownMaf\\_U & UnknownMaf\\_U & nInd\\_U & diff\\\\\n",
       "\\hline\n",
       "\t AAPE02060630 &   18280      & G            & T            & 0            & 0e+00        & 14           & 1.000001     & 0.999999     & 6            & 0.999999    \\\\\n",
       "\t GL430084     & 1048291      & T            & C            & 0            & 0e+00        & 16           & 1.000002     & 0.999998     & 6            & 0.999998    \\\\\n",
       "\t GL429810     & 7526323      & C            & G            & 0            & 1e-06        & 14           & 1.000003     & 0.999999     & 5            & 0.999998    \\\\\n",
       "\t GL429818     & 3454116      & T            & C            & 0            & 1e-06        & 15           & 1.000003     & 0.999999     & 6            & 0.999998    \\\\\n",
       "\t GL430072     &  491441      & A            & G            & 0            & 1e-06        & 15           & 1.000000     & 0.999999     & 3            & 0.999998    \\\\\n",
       "\t GL429824     & 5793288      & G            & A            & 0            & 1e-06        & 14           & 1.000003     & 0.999998     & 8            & 0.999997    \\\\\n",
       "\\end{tabular}\n"
      ],
      "text/markdown": [
       "\n",
       "Scaffold | Position | Major | Minor | KnownMaf_E | UnknownMaf_E | nInd_E | KnownMaf_U | UnknownMaf_U | nInd_U | diff | \n",
       "|---|---|---|---|---|---|\n",
       "| AAPE02060630 |   18280      | G            | T            | 0            | 0e+00        | 14           | 1.000001     | 0.999999     | 6            | 0.999999     | \n",
       "| GL430084     | 1048291      | T            | C            | 0            | 0e+00        | 16           | 1.000002     | 0.999998     | 6            | 0.999998     | \n",
       "| GL429810     | 7526323      | C            | G            | 0            | 1e-06        | 14           | 1.000003     | 0.999999     | 5            | 0.999998     | \n",
       "| GL429818     | 3454116      | T            | C            | 0            | 1e-06        | 15           | 1.000003     | 0.999999     | 6            | 0.999998     | \n",
       "| GL430072     |  491441      | A            | G            | 0            | 1e-06        | 15           | 1.000000     | 0.999999     | 3            | 0.999998     | \n",
       "| GL429824     | 5793288      | G            | A            | 0            | 1e-06        | 14           | 1.000003     | 0.999998     | 8            | 0.999997     | \n",
       "\n",
       "\n"
      ],
      "text/plain": [
       "  Scaffold     Position Major Minor KnownMaf_E UnknownMaf_E nInd_E KnownMaf_U\n",
       "1 AAPE02060630   18280  G     T     0          0e+00        14     1.000001  \n",
       "2 GL430084     1048291  T     C     0          0e+00        16     1.000002  \n",
       "3 GL429810     7526323  C     G     0          1e-06        14     1.000003  \n",
       "4 GL429818     3454116  T     C     0          1e-06        15     1.000003  \n",
       "5 GL430072      491441  A     G     0          1e-06        15     1.000000  \n",
       "6 GL429824     5793288  G     A     0          1e-06        14     1.000003  \n",
       "  UnknownMaf_U nInd_U diff    \n",
       "1 0.999999     6      0.999999\n",
       "2 0.999998     6      0.999998\n",
       "3 0.999999     5      0.999998\n",
       "4 0.999999     6      0.999998\n",
       "5 0.999999     3      0.999998\n",
       "6 0.999998     8      0.999997"
      ]
     },
     "metadata": {},
     "output_type": "display_data"
    }
   ],
   "source": [
    "head(njeutop)"
   ]
  },
  {
   "cell_type": "code",
   "execution_count": 17,
   "metadata": {
    "collapsed": true
   },
   "outputs": [],
   "source": [
    "nyeutop=nyeu[order(-nyeu$diff),] "
   ]
  },
  {
   "cell_type": "code",
   "execution_count": 18,
   "metadata": {
    "collapsed": true
   },
   "outputs": [],
   "source": [
    "vteutop=vteu[order(-vteu$diff),] "
   ]
  },
  {
   "cell_type": "code",
   "execution_count": 19,
   "metadata": {
    "collapsed": false,
    "scrolled": true
   },
   "outputs": [],
   "source": [
    "njeutop2=njeutop[1:2188485,]"
   ]
  },
  {
   "cell_type": "code",
   "execution_count": 26,
   "metadata": {
    "collapsed": false
   },
   "outputs": [],
   "source": []
  },
  {
   "cell_type": "code",
   "execution_count": 28,
   "metadata": {
    "collapsed": false,
    "scrolled": true
   },
   "outputs": [
    {
     "data": {
      "text/html": [
       "<table>\n",
       "<thead><tr><th scope=col>Scaffold</th><th scope=col>Position</th><th scope=col>Major</th><th scope=col>Minor</th><th scope=col>KnownMaf_E</th><th scope=col>UnknownMaf_E</th><th scope=col>nInd_E</th><th scope=col>KnownMaf_U</th><th scope=col>UnknownMaf_U</th><th scope=col>nInd_U</th><th scope=col>diff</th></tr></thead>\n",
       "<tbody>\n",
       "\t<tr><td>AAPE02072785</td><td>2544        </td><td>A           </td><td>G           </td><td>0.031234    </td><td>0.030991    </td><td>19          </td><td>0.531726    </td><td>0.531722    </td><td>18          </td><td>0.500731    </td></tr>\n",
       "\t<tr><td>AAPE02072785</td><td>9261        </td><td>C           </td><td>T           </td><td>0.000000    </td><td>0.000000    </td><td>21          </td><td>0.500000    </td><td>0.500000    </td><td>22          </td><td>0.500000    </td></tr>\n",
       "</tbody>\n",
       "</table>\n"
      ],
      "text/latex": [
       "\\begin{tabular}{r|lllllllllll}\n",
       " Scaffold & Position & Major & Minor & KnownMaf\\_E & UnknownMaf\\_E & nInd\\_E & KnownMaf\\_U & UnknownMaf\\_U & nInd\\_U & diff\\\\\n",
       "\\hline\n",
       "\t AAPE02072785 & 2544         & A            & G            & 0.031234     & 0.030991     & 19           & 0.531726     & 0.531722     & 18           & 0.500731    \\\\\n",
       "\t AAPE02072785 & 9261         & C            & T            & 0.000000     & 0.000000     & 21           & 0.500000     & 0.500000     & 22           & 0.500000    \\\\\n",
       "\\end{tabular}\n"
      ],
      "text/markdown": [
       "\n",
       "Scaffold | Position | Major | Minor | KnownMaf_E | UnknownMaf_E | nInd_E | KnownMaf_U | UnknownMaf_U | nInd_U | diff | \n",
       "|---|---|\n",
       "| AAPE02072785 | 2544         | A            | G            | 0.031234     | 0.030991     | 19           | 0.531726     | 0.531722     | 18           | 0.500731     | \n",
       "| AAPE02072785 | 9261         | C            | T            | 0.000000     | 0.000000     | 21           | 0.500000     | 0.500000     | 22           | 0.500000     | \n",
       "\n",
       "\n"
      ],
      "text/plain": [
       "  Scaffold     Position Major Minor KnownMaf_E UnknownMaf_E nInd_E KnownMaf_U\n",
       "1 AAPE02072785 2544     A     G     0.031234   0.030991     19     0.531726  \n",
       "2 AAPE02072785 9261     C     T     0.000000   0.000000     21     0.500000  \n",
       "  UnknownMaf_U nInd_U diff    \n",
       "1 0.531722     18     0.500731\n",
       "2 0.500000     22     0.500000"
      ]
     },
     "metadata": {},
     "output_type": "display_data"
    }
   ],
   "source": [
    "AAPE02072785nj"
   ]
  },
  {
   "cell_type": "code",
   "execution_count": 31,
   "metadata": {
    "collapsed": false
   },
   "outputs": [],
   "source": [
    "nyeutop2=nyeutop[1:2188485,]"
   ]
  },
  {
   "cell_type": "code",
   "execution_count": 34,
   "metadata": {
    "collapsed": true
   },
   "outputs": [],
   "source": [
    "AAPE02072785ny=nyeutop2[Scaffold==\"AAPE02072785\",]"
   ]
  },
  {
   "cell_type": "code",
   "execution_count": 35,
   "metadata": {
    "collapsed": false
   },
   "outputs": [
    {
     "data": {
      "text/html": [
       "<table>\n",
       "<thead><tr><th scope=col>Scaffold</th><th scope=col>Position</th><th scope=col>Major</th><th scope=col>Minor</th><th scope=col>KnownMaf_E</th><th scope=col>UnknownMaf_E</th><th scope=col>nInd_E</th><th scope=col>KnownMaf_U</th><th scope=col>UnknownMaf_U</th><th scope=col>nInd_U</th><th scope=col>diff</th></tr></thead>\n",
       "<tbody>\n",
       "\t<tr><td>AAPE02072785</td><td>3515        </td><td>A           </td><td>G           </td><td>0.314975    </td><td>0.314978    </td><td>19          </td><td>0.060067    </td><td>0.020071    </td><td>13          </td><td>0.294907    </td></tr>\n",
       "</tbody>\n",
       "</table>\n"
      ],
      "text/latex": [
       "\\begin{tabular}{r|lllllllllll}\n",
       " Scaffold & Position & Major & Minor & KnownMaf\\_E & UnknownMaf\\_E & nInd\\_E & KnownMaf\\_U & UnknownMaf\\_U & nInd\\_U & diff\\\\\n",
       "\\hline\n",
       "\t AAPE02072785 & 3515         & A            & G            & 0.314975     & 0.314978     & 19           & 0.060067     & 0.020071     & 13           & 0.294907    \\\\\n",
       "\\end{tabular}\n"
      ],
      "text/markdown": [
       "\n",
       "Scaffold | Position | Major | Minor | KnownMaf_E | UnknownMaf_E | nInd_E | KnownMaf_U | UnknownMaf_U | nInd_U | diff | \n",
       "|---|\n",
       "| AAPE02072785 | 3515         | A            | G            | 0.314975     | 0.314978     | 19           | 0.060067     | 0.020071     | 13           | 0.294907     | \n",
       "\n",
       "\n"
      ],
      "text/plain": [
       "  Scaffold     Position Major Minor KnownMaf_E UnknownMaf_E nInd_E KnownMaf_U\n",
       "1 AAPE02072785 3515     A     G     0.314975   0.314978     19     0.060067  \n",
       "  UnknownMaf_U nInd_U diff    \n",
       "1 0.020071     13     0.294907"
      ]
     },
     "metadata": {},
     "output_type": "display_data"
    }
   ],
   "source": [
    "AAPE02072785ny"
   ]
  },
  {
   "cell_type": "code",
   "execution_count": 30,
   "metadata": {
    "collapsed": true
   },
   "outputs": [],
   "source": [
    "vteutop2=vteutop[1:2188485,]"
   ]
  },
  {
   "cell_type": "code",
   "execution_count": 32,
   "metadata": {
    "collapsed": false
   },
   "outputs": [],
   "source": [
    "AAPE02072785vt=vteutop2[Scaffold==\"AAPE02072785\",]"
   ]
  },
  {
   "cell_type": "code",
   "execution_count": 33,
   "metadata": {
    "collapsed": false
   },
   "outputs": [
    {
     "data": {
      "text/html": [
       "<table>\n",
       "<thead><tr><th scope=col>Scaffold</th><th scope=col>Position</th><th scope=col>Major</th><th scope=col>Minor</th><th scope=col>KnownMaf_E</th><th scope=col>UnknownMaf_E</th><th scope=col>nInd_E</th><th scope=col>KnownMaf_U</th><th scope=col>UnknownMaf_U</th><th scope=col>nInd_U</th><th scope=col>diff</th></tr></thead>\n",
       "<tbody>\n",
       "\t<tr><td>AAPE02072785</td><td> 1436       </td><td>T           </td><td>C           </td><td>0.000000    </td><td>0.000000    </td><td>19          </td><td>0.365848    </td><td>0.365849    </td><td> 9          </td><td>0.365849    </td></tr>\n",
       "\t<tr><td>AAPE02072785</td><td>11664       </td><td>C           </td><td>T           </td><td>0.259656    </td><td>0.259656    </td><td>27          </td><td>0.620223    </td><td>0.620223    </td><td>22          </td><td>0.360567    </td></tr>\n",
       "\t<tr><td>AAPE02072785</td><td> 3499       </td><td>A           </td><td>C           </td><td>0.304413    </td><td>0.304412    </td><td>27          </td><td>0.652526    </td><td>0.652524    </td><td>12          </td><td>0.348112    </td></tr>\n",
       "\t<tr><td>AAPE02072785</td><td> 3452       </td><td>C           </td><td>T           </td><td>0.340808    </td><td>0.340810    </td><td>27          </td><td>0.650519    </td><td>0.650517    </td><td>12          </td><td>0.309707    </td></tr>\n",
       "\t<tr><td>AAPE02072785</td><td> 3465       </td><td>G           </td><td>A           </td><td>0.196603    </td><td>0.196603    </td><td>27          </td><td>0.491657    </td><td>0.491651    </td><td>12          </td><td>0.295048    </td></tr>\n",
       "\t<tr><td>AAPE02072785</td><td> 3508       </td><td>T           </td><td>C           </td><td>0.000000    </td><td>0.000000    </td><td>27          </td><td>0.247262    </td><td>0.247260    </td><td>10          </td><td>0.247260    </td></tr>\n",
       "</tbody>\n",
       "</table>\n"
      ],
      "text/latex": [
       "\\begin{tabular}{r|lllllllllll}\n",
       " Scaffold & Position & Major & Minor & KnownMaf\\_E & UnknownMaf\\_E & nInd\\_E & KnownMaf\\_U & UnknownMaf\\_U & nInd\\_U & diff\\\\\n",
       "\\hline\n",
       "\t AAPE02072785 &  1436        & T            & C            & 0.000000     & 0.000000     & 19           & 0.365848     & 0.365849     &  9           & 0.365849    \\\\\n",
       "\t AAPE02072785 & 11664        & C            & T            & 0.259656     & 0.259656     & 27           & 0.620223     & 0.620223     & 22           & 0.360567    \\\\\n",
       "\t AAPE02072785 &  3499        & A            & C            & 0.304413     & 0.304412     & 27           & 0.652526     & 0.652524     & 12           & 0.348112    \\\\\n",
       "\t AAPE02072785 &  3452        & C            & T            & 0.340808     & 0.340810     & 27           & 0.650519     & 0.650517     & 12           & 0.309707    \\\\\n",
       "\t AAPE02072785 &  3465        & G            & A            & 0.196603     & 0.196603     & 27           & 0.491657     & 0.491651     & 12           & 0.295048    \\\\\n",
       "\t AAPE02072785 &  3508        & T            & C            & 0.000000     & 0.000000     & 27           & 0.247262     & 0.247260     & 10           & 0.247260    \\\\\n",
       "\\end{tabular}\n"
      ],
      "text/markdown": [
       "\n",
       "Scaffold | Position | Major | Minor | KnownMaf_E | UnknownMaf_E | nInd_E | KnownMaf_U | UnknownMaf_U | nInd_U | diff | \n",
       "|---|---|---|---|---|---|\n",
       "| AAPE02072785 |  1436        | T            | C            | 0.000000     | 0.000000     | 19           | 0.365848     | 0.365849     |  9           | 0.365849     | \n",
       "| AAPE02072785 | 11664        | C            | T            | 0.259656     | 0.259656     | 27           | 0.620223     | 0.620223     | 22           | 0.360567     | \n",
       "| AAPE02072785 |  3499        | A            | C            | 0.304413     | 0.304412     | 27           | 0.652526     | 0.652524     | 12           | 0.348112     | \n",
       "| AAPE02072785 |  3452        | C            | T            | 0.340808     | 0.340810     | 27           | 0.650519     | 0.650517     | 12           | 0.309707     | \n",
       "| AAPE02072785 |  3465        | G            | A            | 0.196603     | 0.196603     | 27           | 0.491657     | 0.491651     | 12           | 0.295048     | \n",
       "| AAPE02072785 |  3508        | T            | C            | 0.000000     | 0.000000     | 27           | 0.247262     | 0.247260     | 10           | 0.247260     | \n",
       "\n",
       "\n"
      ],
      "text/plain": [
       "  Scaffold     Position Major Minor KnownMaf_E UnknownMaf_E nInd_E KnownMaf_U\n",
       "1 AAPE02072785  1436    T     C     0.000000   0.000000     19     0.365848  \n",
       "2 AAPE02072785 11664    C     T     0.259656   0.259656     27     0.620223  \n",
       "3 AAPE02072785  3499    A     C     0.304413   0.304412     27     0.652526  \n",
       "4 AAPE02072785  3452    C     T     0.340808   0.340810     27     0.650519  \n",
       "5 AAPE02072785  3465    G     A     0.196603   0.196603     27     0.491657  \n",
       "6 AAPE02072785  3508    T     C     0.000000   0.000000     27     0.247262  \n",
       "  UnknownMaf_U nInd_U diff    \n",
       "1 0.365849      9     0.365849\n",
       "2 0.620223     22     0.360567\n",
       "3 0.652524     12     0.348112\n",
       "4 0.650517     12     0.309707\n",
       "5 0.491651     12     0.295048\n",
       "6 0.247260     10     0.247260"
      ]
     },
     "metadata": {},
     "output_type": "display_data"
    }
   ],
   "source": [
    "AAPE02072785vt"
   ]
  },
  {
   "cell_type": "code",
   "execution_count": 35,
   "metadata": {
    "collapsed": false
   },
   "outputs": [],
   "source": [
    "njnytop2=merge(njeutop2, nyeutop2, by=c(\"Scaffold\", \"Position\"))"
   ]
  },
  {
   "cell_type": "code",
   "execution_count": 27,
   "metadata": {
    "collapsed": false
   },
   "outputs": [
    {
     "data": {
      "text/html": [
       "192644"
      ],
      "text/latex": [
       "192644"
      ],
      "text/markdown": [
       "192644"
      ],
      "text/plain": [
       "[1] 192644"
      ]
     },
     "metadata": {},
     "output_type": "display_data"
    }
   ],
   "source": [
    "NROW(njnytop2)"
   ]
  },
  {
   "cell_type": "code",
   "execution_count": 36,
   "metadata": {
    "collapsed": true
   },
   "outputs": [],
   "source": [
    "njnyvttop2=merge(njnytop2, vteutop2, by=c(\"Scaffold\", \"Position\"))"
   ]
  },
  {
   "cell_type": "code",
   "execution_count": 29,
   "metadata": {
    "collapsed": false
   },
   "outputs": [
    {
     "data": {
      "text/html": [
       "35834"
      ],
      "text/latex": [
       "35834"
      ],
      "text/markdown": [
       "35834"
      ],
      "text/plain": [
       "[1] 35834"
      ]
     },
     "metadata": {},
     "output_type": "display_data"
    }
   ],
   "source": [
    "NROW(njnyvttop2)"
   ]
  },
  {
   "cell_type": "code",
   "execution_count": 37,
   "metadata": {
    "collapsed": false
   },
   "outputs": [],
   "source": [
    "AAPE02072785=njnyvttop2[Scaffold==\"AAPE02072785\",]"
   ]
  },
  {
   "cell_type": "code",
   "execution_count": 38,
   "metadata": {
    "collapsed": false
   },
   "outputs": [
    {
     "data": {
      "text/html": [
       "0"
      ],
      "text/latex": [
       "0"
      ],
      "text/markdown": [
       "0"
      ],
      "text/plain": [
       "[1] 0"
      ]
     },
     "metadata": {},
     "output_type": "display_data"
    }
   ],
   "source": [
    "NROW(AAPE02072785)"
   ]
  },
  {
   "cell_type": "code",
   "execution_count": 32,
   "metadata": {
    "collapsed": false,
    "scrolled": false
   },
   "outputs": [],
   "source": [
    "GL429767=njnyvttop2[Scaffold==\"GL429767\",]"
   ]
  },
  {
   "cell_type": "code",
   "execution_count": 33,
   "metadata": {
    "collapsed": false,
    "scrolled": true
   },
   "outputs": [
    {
     "data": {
      "text/html": [
       "<table>\n",
       "<thead><tr><th scope=col>Scaffold</th><th scope=col>Position</th><th scope=col>Major.x</th><th scope=col>Minor.x</th><th scope=col>KnownMaf_E.x</th><th scope=col>UnknownMaf_E.x</th><th scope=col>nInd_E.x</th><th scope=col>KnownMaf_U.x</th><th scope=col>UnknownMaf_U.x</th><th scope=col>nInd_U.x</th><th scope=col>⋯</th><th scope=col>diff.y</th><th scope=col>Major</th><th scope=col>Minor</th><th scope=col>KnownMaf_E</th><th scope=col>UnknownMaf_E</th><th scope=col>nInd_E</th><th scope=col>KnownMaf_U</th><th scope=col>UnknownMaf_U</th><th scope=col>nInd_U</th><th scope=col>diff</th></tr></thead>\n",
       "<tbody>\n",
       "\t<tr><td>GL429767</td><td>  378240</td><td>C       </td><td>T       </td><td>0.143361</td><td>0.050281</td><td>10      </td><td>0.681577</td><td>0.681575</td><td>12      </td><td>⋯       </td><td>0.308775</td><td>C       </td><td>T       </td><td>0.328825</td><td>0.328827</td><td>13      </td><td>0.644635</td><td>0.644636</td><td>15      </td><td>0.315809</td></tr>\n",
       "\t<tr><td>GL429767</td><td> 2563529</td><td>A       </td><td>G       </td><td>0.604762</td><td>0.604761</td><td>13      </td><td>0.219827</td><td>0.057143</td><td> 6      </td><td>⋯       </td><td>0.298034</td><td>A       </td><td>G       </td><td>0.618599</td><td>0.618593</td><td>15      </td><td>0.370621</td><td>0.370623</td><td>16      </td><td>0.247970</td></tr>\n",
       "\t<tr><td>GL429767</td><td> 2900778</td><td>T       </td><td>C       </td><td>0.321339</td><td>0.321338</td><td>15      </td><td>0.827021</td><td>0.827019</td><td>10      </td><td>⋯       </td><td>0.292420</td><td>T       </td><td>C       </td><td>0.235327</td><td>0.235169</td><td> 9      </td><td>0.530903</td><td>0.530906</td><td>17      </td><td>0.295737</td></tr>\n",
       "\t<tr><td>GL429767</td><td> 3160344</td><td>C       </td><td>A       </td><td>0.650418</td><td>0.650414</td><td>19      </td><td>0.239252</td><td>0.072788</td><td> 7      </td><td>⋯       </td><td>0.280202</td><td>C       </td><td>A       </td><td>0.627062</td><td>0.627053</td><td>17      </td><td>0.350958</td><td>0.350962</td><td>16      </td><td>0.276091</td></tr>\n",
       "\t<tr><td>GL429767</td><td> 4550108</td><td>C       </td><td>T       </td><td>0.765996</td><td>0.765996</td><td>14      </td><td>0.190930</td><td>0.190937</td><td>11      </td><td>⋯       </td><td>0.526260</td><td>C       </td><td>T       </td><td>0.557562</td><td>0.557562</td><td>15      </td><td>0.246413</td><td>0.246413</td><td>13      </td><td>0.311149</td></tr>\n",
       "\t<tr><td>GL429767</td><td> 4777116</td><td>G       </td><td>T       </td><td>0.540725</td><td>0.540721</td><td>12      </td><td>0.000000</td><td>0.000004</td><td> 7      </td><td>⋯       </td><td>0.391845</td><td>G       </td><td>T       </td><td>0.397839</td><td>0.091126</td><td>13      </td><td>0.336501</td><td>0.336504</td><td>16      </td><td>0.245378</td></tr>\n",
       "\t<tr><td>GL429767</td><td> 5088979</td><td>C       </td><td>T       </td><td>0.631333</td><td>0.631329</td><td>13      </td><td>0.265451</td><td>0.083899</td><td> 7      </td><td>⋯       </td><td>0.466385</td><td>C       </td><td>T       </td><td>0.385597</td><td>0.385600</td><td>12      </td><td>0.747953</td><td>0.747955</td><td>13      </td><td>0.362355</td></tr>\n",
       "\t<tr><td>GL429767</td><td> 5324740</td><td>T       </td><td>C       </td><td>0.288780</td><td>0.288786</td><td>12      </td><td>0.924464</td><td>0.924466</td><td>11      </td><td>⋯       </td><td>0.284780</td><td>T       </td><td>C       </td><td>0.217886</td><td>0.217890</td><td>10      </td><td>0.561746</td><td>0.561749</td><td>12      </td><td>0.343859</td></tr>\n",
       "\t<tr><td>GL429767</td><td> 5837026</td><td>C       </td><td>T       </td><td>0.086096</td><td>0.025981</td><td>10      </td><td>0.598133</td><td>0.598130</td><td>13      </td><td>⋯       </td><td>0.268136</td><td>C       </td><td>T       </td><td>0.060510</td><td>0.060506</td><td>14      </td><td>0.428700</td><td>0.428690</td><td>12      </td><td>0.368184</td></tr>\n",
       "\t<tr><td>GL429767</td><td> 6147842</td><td>T       </td><td>G       </td><td>0.690324</td><td>0.690326</td><td>17      </td><td>0.196797</td><td>0.194171</td><td>11      </td><td>⋯       </td><td>0.320887</td><td>T       </td><td>G       </td><td>0.610119</td><td>0.610110</td><td>15      </td><td>0.218141</td><td>0.218144</td><td>20      </td><td>0.391966</td></tr>\n",
       "\t<tr><td>GL429767</td><td> 6343084</td><td>G       </td><td>A       </td><td>0.627145</td><td>0.627143</td><td>12      </td><td>0.147312</td><td>0.147139</td><td>11      </td><td>⋯       </td><td>0.331461</td><td>G       </td><td>A       </td><td>0.292720</td><td>0.091515</td><td>12      </td><td>0.528742</td><td>0.528737</td><td>14      </td><td>0.437222</td></tr>\n",
       "\t<tr><td>GL429767</td><td> 7538682</td><td>T       </td><td>C       </td><td>0.673521</td><td>0.673522</td><td>13      </td><td>0.454956</td><td>0.119734</td><td> 6      </td><td>⋯       </td><td>0.454570</td><td>T       </td><td>C       </td><td>0.306852</td><td>0.306519</td><td>15      </td><td>0.606284</td><td>0.606279</td><td>15      </td><td>0.299760</td></tr>\n",
       "\t<tr><td>GL429767</td><td> 7692026</td><td>C       </td><td>T       </td><td>0.215481</td><td>0.076784</td><td>11      </td><td>0.591564</td><td>0.591563</td><td>12      </td><td>⋯       </td><td>0.298868</td><td>C       </td><td>T       </td><td>0.107763</td><td>0.107764</td><td>15      </td><td>0.363691</td><td>0.363691</td><td>13      </td><td>0.255927</td></tr>\n",
       "\t<tr><td>GL429767</td><td> 7692033</td><td>C       </td><td>G       </td><td>0.204351</td><td>0.072582</td><td>12      </td><td>0.557035</td><td>0.557033</td><td>12      </td><td>⋯       </td><td>0.339026</td><td>C       </td><td>G       </td><td>0.107764</td><td>0.107765</td><td>15      </td><td>0.352564</td><td>0.352566</td><td>13      </td><td>0.244801</td></tr>\n",
       "\t<tr><td>GL429767</td><td> 8686923</td><td>C       </td><td>A       </td><td>0.624258</td><td>0.624252</td><td>16      </td><td>0.238352</td><td>0.085442</td><td> 6      </td><td>⋯       </td><td>0.361967</td><td>C       </td><td>A       </td><td>0.193546</td><td>0.193549</td><td>13      </td><td>0.598663</td><td>0.463195</td><td>17      </td><td>0.269646</td></tr>\n",
       "\t<tr><td>GL429767</td><td> 9481248</td><td>G       </td><td>A       </td><td>0.125223</td><td>0.125225</td><td>12      </td><td>0.646215</td><td>0.646216</td><td>10      </td><td>⋯       </td><td>0.349242</td><td>G       </td><td>A       </td><td>0.184241</td><td>0.184239</td><td>12      </td><td>0.469440</td><td>0.469438</td><td>15      </td><td>0.285199</td></tr>\n",
       "\t<tr><td>GL429767</td><td> 9660022</td><td>T       </td><td>A       </td><td>0.389570</td><td>0.000007</td><td>12      </td><td>0.537825</td><td>0.537816</td><td>11      </td><td>⋯       </td><td>0.266624</td><td>T       </td><td>A       </td><td>0.705277</td><td>0.705276</td><td>15      </td><td>0.348304</td><td>0.231777</td><td>10      </td><td>0.473499</td></tr>\n",
       "\t<tr><td>GL429767</td><td>10550101</td><td>A       </td><td>C       </td><td>0.316124</td><td>0.316131</td><td>17      </td><td>0.794551</td><td>0.794542</td><td>12      </td><td>⋯       </td><td>0.360057</td><td>A       </td><td>C       </td><td>0.651292</td><td>0.651287</td><td>16      </td><td>0.329563</td><td>0.329568</td><td>14      </td><td>0.321719</td></tr>\n",
       "\t<tr><td>GL429767</td><td>10653216</td><td>G       </td><td>C       </td><td>0.469403</td><td>0.469404</td><td>14      </td><td>0.000000</td><td>0.000003</td><td> 8      </td><td>⋯       </td><td>0.325537</td><td>G       </td><td>C       </td><td>0.510286</td><td>0.510277</td><td>13      </td><td>0.263056</td><td>0.263059</td><td>16      </td><td>0.247218</td></tr>\n",
       "\t<tr><td>GL429767</td><td>11576643</td><td>A       </td><td>G       </td><td>0.552219</td><td>0.552208</td><td>11      </td><td>0.512681</td><td>0.007911</td><td>10      </td><td>⋯       </td><td>0.325239</td><td>A       </td><td>G       </td><td>0.435639</td><td>0.164445</td><td> 8      </td><td>0.464386</td><td>0.464380</td><td>14      </td><td>0.299935</td></tr>\n",
       "\t<tr><td>GL429767</td><td>11591311</td><td>A       </td><td>G       </td><td>0.124723</td><td>0.045120</td><td>12      </td><td>0.616670</td><td>0.616664</td><td>13      </td><td>⋯       </td><td>0.297269</td><td>A       </td><td>G       </td><td>0.229314</td><td>0.229144</td><td>12      </td><td>0.562928</td><td>0.562920</td><td>16      </td><td>0.333776</td></tr>\n",
       "\t<tr><td>GL429767</td><td>11865438</td><td>C       </td><td>G       </td><td>0.536129</td><td>0.516680</td><td>13      </td><td>0.191747</td><td>0.000002</td><td> 5      </td><td>⋯       </td><td>0.291275</td><td>C       </td><td>G       </td><td>0.493075</td><td>0.493076</td><td>13      </td><td>0.215252</td><td>0.142595</td><td>15      </td><td>0.350481</td></tr>\n",
       "\t<tr><td>GL429767</td><td>12196412</td><td>G       </td><td>C       </td><td>0.528259</td><td>0.528260</td><td>15      </td><td>0.091223</td><td>0.032220</td><td>10      </td><td>⋯       </td><td>0.459305</td><td>G       </td><td>C       </td><td>0.167209</td><td>0.051669</td><td>12      </td><td>0.396874</td><td>0.396879</td><td>15      </td><td>0.345210</td></tr>\n",
       "\t<tr><td>GL429767</td><td>12672249</td><td>T       </td><td>A       </td><td>0.144469</td><td>0.144474</td><td>10      </td><td>0.640501</td><td>0.640498</td><td>11      </td><td>⋯       </td><td>0.645680</td><td>T       </td><td>A       </td><td>0.450188</td><td>0.450176</td><td>15      </td><td>0.118712</td><td>0.118492</td><td>12      </td><td>0.331684</td></tr>\n",
       "\t<tr><td>GL429767</td><td>13230628</td><td>G       </td><td>T       </td><td>0.128083</td><td>0.127867</td><td>12      </td><td>0.605171</td><td>0.605157</td><td> 6      </td><td>⋯       </td><td>0.275741</td><td>G       </td><td>T       </td><td>0.057253</td><td>0.057250</td><td>15      </td><td>0.356388</td><td>0.356386</td><td>11      </td><td>0.299136</td></tr>\n",
       "\t<tr><td>GL429767</td><td>15106798</td><td>A       </td><td>G       </td><td>0.547217</td><td>0.547214</td><td>12      </td><td>0.129729</td><td>0.043888</td><td>12      </td><td>⋯       </td><td>0.344516</td><td>A       </td><td>G       </td><td>0.482187</td><td>0.482177</td><td>14      </td><td>0.148437</td><td>0.135139</td><td>13      </td><td>0.347038</td></tr>\n",
       "\t<tr><td>GL429767</td><td>15108540</td><td>A       </td><td>G       </td><td>0.318097</td><td>0.318096</td><td>14      </td><td>0.805649</td><td>0.805650</td><td>10      </td><td>⋯       </td><td>0.328783</td><td>A       </td><td>G       </td><td>0.211319</td><td>0.071460</td><td>13      </td><td>0.389935</td><td>0.389937</td><td>15      </td><td>0.318477</td></tr>\n",
       "\t<tr><td>GL429767</td><td>15716054</td><td>G       </td><td>T       </td><td>0.181506</td><td>0.003522</td><td> 9      </td><td>0.471584</td><td>0.471575</td><td>10      </td><td>⋯       </td><td>0.526371</td><td>G       </td><td>T       </td><td>0.448521</td><td>0.170198</td><td> 9      </td><td>0.446112</td><td>0.446111</td><td>16      </td><td>0.275913</td></tr>\n",
       "\t<tr><td>GL429767</td><td>15986756</td><td>C       </td><td>A       </td><td>0.642479</td><td>0.000154</td><td> 9      </td><td>0.475001</td><td>0.474987</td><td>13      </td><td>⋯       </td><td>0.445848</td><td>C       </td><td>A       </td><td>0.174495</td><td>0.000007</td><td>10      </td><td>0.489972</td><td>0.488324</td><td>14      </td><td>0.488317</td></tr>\n",
       "\t<tr><td>GL429767</td><td>16856640</td><td>A       </td><td>G       </td><td>0.223384</td><td>0.070470</td><td>10      </td><td>0.573462</td><td>0.573454</td><td>11      </td><td>⋯       </td><td>0.354470</td><td>A       </td><td>G       </td><td>0.139517</td><td>0.139518</td><td>17      </td><td>0.382316</td><td>0.382321</td><td>17      </td><td>0.242803</td></tr>\n",
       "\t<tr><td>⋮</td><td>⋮</td><td>⋮</td><td>⋮</td><td>⋮</td><td>⋮</td><td>⋮</td><td>⋮</td><td>⋮</td><td>⋮</td><td>⋱</td><td>⋮</td><td>⋮</td><td>⋮</td><td>⋮</td><td>⋮</td><td>⋮</td><td>⋮</td><td>⋮</td><td>⋮</td><td>⋮</td></tr>\n",
       "\t<tr><td>GL429767</td><td>55898565</td><td>T       </td><td>C       </td><td>0.241505</td><td>0.241507</td><td>11      </td><td>0.739939</td><td>0.739932</td><td>13      </td><td>⋯       </td><td>0.398913</td><td>T       </td><td>C       </td><td>0.303065</td><td>0.303062</td><td>14      </td><td>0.596633</td><td>0.596634</td><td>14      </td><td>0.293572</td></tr>\n",
       "\t<tr><td>GL429767</td><td>56161793</td><td>A       </td><td>G       </td><td>0.113784</td><td>0.113787</td><td>14      </td><td>0.706697</td><td>0.706696</td><td>10      </td><td>⋯       </td><td>0.407313</td><td>A       </td><td>G       </td><td>0.303379</td><td>0.125104</td><td>12      </td><td>0.653071</td><td>0.653067</td><td>14      </td><td>0.527963</td></tr>\n",
       "\t<tr><td>GL429767</td><td>56832951</td><td>G       </td><td>A       </td><td>0.599777</td><td>0.599776</td><td>14      </td><td>0.074301</td><td>0.073557</td><td>10      </td><td>⋯       </td><td>0.466001</td><td>G       </td><td>A       </td><td>0.597220</td><td>0.597218</td><td>14      </td><td>0.346171</td><td>0.346169</td><td>12      </td><td>0.251049</td></tr>\n",
       "\t<tr><td>GL429767</td><td>57951428</td><td>T       </td><td>G       </td><td>0.612098</td><td>0.612096</td><td>14      </td><td>0.148157</td><td>0.054382</td><td>10      </td><td>⋯       </td><td>0.450069</td><td>T       </td><td>G       </td><td>0.276870</td><td>0.276866</td><td>15      </td><td>0.647406</td><td>0.647404</td><td>14      </td><td>0.370538</td></tr>\n",
       "\t<tr><td>GL429767</td><td>58039620</td><td>G       </td><td>T       </td><td>0.270185</td><td>0.000102</td><td>13      </td><td>0.586046</td><td>0.586048</td><td>16      </td><td>⋯       </td><td>0.489049</td><td>G       </td><td>T       </td><td>0.482494</td><td>0.482481</td><td>11      </td><td>0.324778</td><td>0.025812</td><td>14      </td><td>0.456669</td></tr>\n",
       "\t<tr><td>GL429767</td><td>58079561</td><td>C       </td><td>A       </td><td>0.148970</td><td>0.044674</td><td>12      </td><td>0.527232</td><td>0.526900</td><td> 5      </td><td>⋯       </td><td>0.319328</td><td>C       </td><td>A       </td><td>0.051603</td><td>0.051128</td><td>13      </td><td>0.474381</td><td>0.474377</td><td>17      </td><td>0.423249</td></tr>\n",
       "\t<tr><td>GL429767</td><td>58372150</td><td>T       </td><td>G       </td><td>0.649454</td><td>0.649454</td><td>14      </td><td>0.174263</td><td>0.174263</td><td> 8      </td><td>⋯       </td><td>0.296957</td><td>T       </td><td>G       </td><td>0.225022</td><td>0.225022</td><td>15      </td><td>0.786789</td><td>0.786787</td><td>14      </td><td>0.561765</td></tr>\n",
       "\t<tr><td>GL429767</td><td>58572529</td><td>A       </td><td>T       </td><td>0.605774</td><td>0.605766</td><td>15      </td><td>0.155080</td><td>0.057187</td><td>10      </td><td>⋯       </td><td>0.304169</td><td>A       </td><td>T       </td><td>0.360054</td><td>0.360062</td><td>16      </td><td>0.253447</td><td>0.100619</td><td>10      </td><td>0.259443</td></tr>\n",
       "\t<tr><td>GL429767</td><td>58821421</td><td>G       </td><td>A       </td><td>0.062472</td><td>0.018316</td><td>13      </td><td>0.561294</td><td>0.561286</td><td>16      </td><td>⋯       </td><td>0.331901</td><td>G       </td><td>A       </td><td>0.600169</td><td>0.600169</td><td>13      </td><td>0.350975</td><td>0.350975</td><td>15      </td><td>0.249194</td></tr>\n",
       "\t<tr><td>GL429767</td><td>59260653</td><td>A       </td><td>C       </td><td>0.276197</td><td>0.276205</td><td>16      </td><td>0.746750</td><td>0.746751</td><td>11      </td><td>⋯       </td><td>0.299870</td><td>A       </td><td>C       </td><td>0.529360</td><td>0.529350</td><td>10      </td><td>0.168285</td><td>0.168291</td><td>13      </td><td>0.361059</td></tr>\n",
       "\t<tr><td>GL429767</td><td>59844539</td><td>A       </td><td>T       </td><td>0.562881</td><td>0.562871</td><td>17      </td><td>0.217348</td><td>0.069618</td><td> 8      </td><td>⋯       </td><td>0.297959</td><td>A       </td><td>T       </td><td>0.511254</td><td>0.511241</td><td>17      </td><td>0.242759</td><td>0.242760</td><td>10      </td><td>0.268481</td></tr>\n",
       "\t<tr><td>GL429767</td><td>60059376</td><td>T       </td><td>A       </td><td>0.185623</td><td>0.000052</td><td>13      </td><td>0.626842</td><td>0.626535</td><td> 7      </td><td>⋯       </td><td>0.305385</td><td>T       </td><td>A       </td><td>0.593392</td><td>0.593392</td><td>16      </td><td>0.187147</td><td>0.114841</td><td>13      </td><td>0.478551</td></tr>\n",
       "\t<tr><td>GL429767</td><td>60330247</td><td>T       </td><td>A       </td><td>0.540773</td><td>0.540768</td><td>16      </td><td>0.114955</td><td>0.039351</td><td>13      </td><td>⋯       </td><td>0.333226</td><td>T       </td><td>A       </td><td>0.077173</td><td>0.025671</td><td>11      </td><td>0.416849</td><td>0.416849</td><td>13      </td><td>0.391178</td></tr>\n",
       "\t<tr><td>GL429767</td><td>60929395</td><td>C       </td><td>A       </td><td>0.176011</td><td>0.176013</td><td>15      </td><td>0.740371</td><td>0.740364</td><td>10      </td><td>⋯       </td><td>0.266746</td><td>C       </td><td>A       </td><td>0.647103</td><td>0.647103</td><td>17      </td><td>0.382542</td><td>0.382540</td><td>17      </td><td>0.264563</td></tr>\n",
       "\t<tr><td>GL429767</td><td>61107496</td><td>G       </td><td>A       </td><td>0.168700</td><td>0.168704</td><td>13      </td><td>0.659923</td><td>0.659916</td><td>10      </td><td>⋯       </td><td>0.359464</td><td>G       </td><td>A       </td><td>0.197448</td><td>0.066579</td><td>13      </td><td>0.380234</td><td>0.380235</td><td>15      </td><td>0.313656</td></tr>\n",
       "\t<tr><td>GL429767</td><td>61280829</td><td>G       </td><td>A       </td><td>0.357323</td><td>0.147509</td><td> 7      </td><td>0.630242</td><td>0.630235</td><td> 8      </td><td>⋯       </td><td>0.464348</td><td>G       </td><td>A       </td><td>0.225226</td><td>0.225230</td><td>13      </td><td>0.511779</td><td>0.511777</td><td>15      </td><td>0.286547</td></tr>\n",
       "\t<tr><td>GL429767</td><td>61497601</td><td>T       </td><td>C       </td><td>0.581660</td><td>0.581660</td><td>11      </td><td>0.100169</td><td>0.099451</td><td> 8      </td><td>⋯       </td><td>0.290643</td><td>T       </td><td>C       </td><td>0.548435</td><td>0.548434</td><td>13      </td><td>0.292725</td><td>0.292725</td><td>15      </td><td>0.255709</td></tr>\n",
       "\t<tr><td>GL429767</td><td>61554693</td><td>G       </td><td>A       </td><td>0.587236</td><td>0.587236</td><td>15      </td><td>0.160605</td><td>0.042996</td><td> 7      </td><td>⋯       </td><td>0.320280</td><td>G       </td><td>A       </td><td>0.347892</td><td>0.113171</td><td>14      </td><td>0.511343</td><td>0.511343</td><td>14      </td><td>0.398172</td></tr>\n",
       "\t<tr><td>GL429767</td><td>61602104</td><td>C       </td><td>A       </td><td>0.217209</td><td>0.216610</td><td>12      </td><td>0.732751</td><td>0.732741</td><td>12      </td><td>⋯       </td><td>0.469400</td><td>C       </td><td>A       </td><td>0.197152</td><td>0.197000</td><td>16      </td><td>0.690710</td><td>0.690709</td><td> 9      </td><td>0.493709</td></tr>\n",
       "\t<tr><td>GL429767</td><td>61800005</td><td>C       </td><td>T       </td><td>0.292943</td><td>0.292942</td><td>16      </td><td>0.767917</td><td>0.767917</td><td>10      </td><td>⋯       </td><td>0.518162</td><td>C       </td><td>T       </td><td>0.203308</td><td>0.066373</td><td>12      </td><td>0.382623</td><td>0.382627</td><td>15      </td><td>0.316254</td></tr>\n",
       "\t<tr><td>GL429767</td><td>62502414</td><td>C       </td><td>T       </td><td>0.224269</td><td>0.224267</td><td>10      </td><td>0.734623</td><td>0.734622</td><td> 6      </td><td>⋯       </td><td>0.323759</td><td>C       </td><td>T       </td><td>0.155690</td><td>0.155494</td><td>15      </td><td>0.423023</td><td>0.423022</td><td>16      </td><td>0.267528</td></tr>\n",
       "\t<tr><td>GL429767</td><td>62878502</td><td>C       </td><td>T       </td><td>0.639392</td><td>0.639389</td><td>10      </td><td>0.239864</td><td>0.060961</td><td> 9      </td><td>⋯       </td><td>0.280241</td><td>C       </td><td>T       </td><td>0.426940</td><td>0.426925</td><td>16      </td><td>0.183346</td><td>0.183346</td><td>13      </td><td>0.243579</td></tr>\n",
       "\t<tr><td>GL429767</td><td>62986852</td><td>A       </td><td>C       </td><td>0.355604</td><td>0.125228</td><td>11      </td><td>0.594720</td><td>0.594722</td><td>10      </td><td>⋯       </td><td>0.307592</td><td>A       </td><td>C       </td><td>0.470933</td><td>0.470931</td><td>14      </td><td>0.131599</td><td>0.131604</td><td>11      </td><td>0.339327</td></tr>\n",
       "\t<tr><td>GL429767</td><td>63137985</td><td>G       </td><td>A       </td><td>0.335586</td><td>0.000007</td><td>11      </td><td>0.511249</td><td>0.511238</td><td>14      </td><td>⋯       </td><td>0.471910</td><td>G       </td><td>A       </td><td>0.644831</td><td>0.644828</td><td>18      </td><td>0.599651</td><td>0.133256</td><td>11      </td><td>0.511572</td></tr>\n",
       "\t<tr><td>GL429767</td><td>63416685</td><td>T       </td><td>C       </td><td>0.581096</td><td>0.581089</td><td>15      </td><td>0.136953</td><td>0.042140</td><td>11      </td><td>⋯       </td><td>0.294013</td><td>T       </td><td>C       </td><td>0.588371</td><td>0.588367</td><td>14      </td><td>0.268524</td><td>0.268528</td><td>12      </td><td>0.319839</td></tr>\n",
       "\t<tr><td>GL429767</td><td>63992167</td><td>C       </td><td>G       </td><td>0.626480</td><td>0.626477</td><td>13      </td><td>0.101756</td><td>0.028390</td><td>10      </td><td>⋯       </td><td>0.376302</td><td>C       </td><td>G       </td><td>0.224077</td><td>0.224080</td><td>12      </td><td>0.541830</td><td>0.541830</td><td>12      </td><td>0.317750</td></tr>\n",
       "\t<tr><td>GL429767</td><td>64499327</td><td>G       </td><td>A       </td><td>0.499895</td><td>0.499894</td><td>12      </td><td>0.000000</td><td>0.000002</td><td>12      </td><td>⋯       </td><td>0.270610</td><td>G       </td><td>A       </td><td>0.318036</td><td>0.317866</td><td>11      </td><td>0.684170</td><td>0.684162</td><td>16      </td><td>0.366296</td></tr>\n",
       "\t<tr><td>GL429767</td><td>64543588</td><td>A       </td><td>G       </td><td>0.309835</td><td>0.087789</td><td>12      </td><td>0.569060</td><td>0.569050</td><td>11      </td><td>⋯       </td><td>0.425005</td><td>A       </td><td>G       </td><td>0.538847</td><td>0.538850</td><td>16      </td><td>0.296491</td><td>0.107151</td><td>14      </td><td>0.431699</td></tr>\n",
       "\t<tr><td>GL429767</td><td>64555857</td><td>G       </td><td>A       </td><td>0.000000</td><td>0.000004</td><td>12      </td><td>0.694575</td><td>0.694563</td><td> 8      </td><td>⋯       </td><td>0.386594</td><td>G       </td><td>A       </td><td>0.521139</td><td>0.521139</td><td>17      </td><td>0.248139</td><td>0.248140</td><td>12      </td><td>0.272999</td></tr>\n",
       "\t<tr><td>GL429767</td><td>64861704</td><td>C       </td><td>T       </td><td>0.180517</td><td>0.180516</td><td>13      </td><td>0.695070</td><td>0.695060</td><td>13      </td><td>⋯       </td><td>0.371752</td><td>C       </td><td>T       </td><td>0.422575</td><td>0.137728</td><td>11      </td><td>0.456502</td><td>0.456499</td><td>15      </td><td>0.318771</td></tr>\n",
       "</tbody>\n",
       "</table>\n"
      ],
      "text/latex": [
       "\\begin{tabular}{r|lllllllllllllllllllllllllllll}\n",
       " Scaffold & Position & Major.x & Minor.x & KnownMaf\\_E.x & UnknownMaf\\_E.x & nInd\\_E.x & KnownMaf\\_U.x & UnknownMaf\\_U.x & nInd\\_U.x & ⋯ & diff.y & Major & Minor & KnownMaf\\_E & UnknownMaf\\_E & nInd\\_E & KnownMaf\\_U & UnknownMaf\\_U & nInd\\_U & diff\\\\\n",
       "\\hline\n",
       "\t GL429767 &   378240 & C        & T        & 0.143361 & 0.050281 & 10       & 0.681577 & 0.681575 & 12       & ⋯        & 0.308775 & C        & T        & 0.328825 & 0.328827 & 13       & 0.644635 & 0.644636 & 15       & 0.315809\\\\\n",
       "\t GL429767 &  2563529 & A        & G        & 0.604762 & 0.604761 & 13       & 0.219827 & 0.057143 &  6       & ⋯        & 0.298034 & A        & G        & 0.618599 & 0.618593 & 15       & 0.370621 & 0.370623 & 16       & 0.247970\\\\\n",
       "\t GL429767 &  2900778 & T        & C        & 0.321339 & 0.321338 & 15       & 0.827021 & 0.827019 & 10       & ⋯        & 0.292420 & T        & C        & 0.235327 & 0.235169 &  9       & 0.530903 & 0.530906 & 17       & 0.295737\\\\\n",
       "\t GL429767 &  3160344 & C        & A        & 0.650418 & 0.650414 & 19       & 0.239252 & 0.072788 &  7       & ⋯        & 0.280202 & C        & A        & 0.627062 & 0.627053 & 17       & 0.350958 & 0.350962 & 16       & 0.276091\\\\\n",
       "\t GL429767 &  4550108 & C        & T        & 0.765996 & 0.765996 & 14       & 0.190930 & 0.190937 & 11       & ⋯        & 0.526260 & C        & T        & 0.557562 & 0.557562 & 15       & 0.246413 & 0.246413 & 13       & 0.311149\\\\\n",
       "\t GL429767 &  4777116 & G        & T        & 0.540725 & 0.540721 & 12       & 0.000000 & 0.000004 &  7       & ⋯        & 0.391845 & G        & T        & 0.397839 & 0.091126 & 13       & 0.336501 & 0.336504 & 16       & 0.245378\\\\\n",
       "\t GL429767 &  5088979 & C        & T        & 0.631333 & 0.631329 & 13       & 0.265451 & 0.083899 &  7       & ⋯        & 0.466385 & C        & T        & 0.385597 & 0.385600 & 12       & 0.747953 & 0.747955 & 13       & 0.362355\\\\\n",
       "\t GL429767 &  5324740 & T        & C        & 0.288780 & 0.288786 & 12       & 0.924464 & 0.924466 & 11       & ⋯        & 0.284780 & T        & C        & 0.217886 & 0.217890 & 10       & 0.561746 & 0.561749 & 12       & 0.343859\\\\\n",
       "\t GL429767 &  5837026 & C        & T        & 0.086096 & 0.025981 & 10       & 0.598133 & 0.598130 & 13       & ⋯        & 0.268136 & C        & T        & 0.060510 & 0.060506 & 14       & 0.428700 & 0.428690 & 12       & 0.368184\\\\\n",
       "\t GL429767 &  6147842 & T        & G        & 0.690324 & 0.690326 & 17       & 0.196797 & 0.194171 & 11       & ⋯        & 0.320887 & T        & G        & 0.610119 & 0.610110 & 15       & 0.218141 & 0.218144 & 20       & 0.391966\\\\\n",
       "\t GL429767 &  6343084 & G        & A        & 0.627145 & 0.627143 & 12       & 0.147312 & 0.147139 & 11       & ⋯        & 0.331461 & G        & A        & 0.292720 & 0.091515 & 12       & 0.528742 & 0.528737 & 14       & 0.437222\\\\\n",
       "\t GL429767 &  7538682 & T        & C        & 0.673521 & 0.673522 & 13       & 0.454956 & 0.119734 &  6       & ⋯        & 0.454570 & T        & C        & 0.306852 & 0.306519 & 15       & 0.606284 & 0.606279 & 15       & 0.299760\\\\\n",
       "\t GL429767 &  7692026 & C        & T        & 0.215481 & 0.076784 & 11       & 0.591564 & 0.591563 & 12       & ⋯        & 0.298868 & C        & T        & 0.107763 & 0.107764 & 15       & 0.363691 & 0.363691 & 13       & 0.255927\\\\\n",
       "\t GL429767 &  7692033 & C        & G        & 0.204351 & 0.072582 & 12       & 0.557035 & 0.557033 & 12       & ⋯        & 0.339026 & C        & G        & 0.107764 & 0.107765 & 15       & 0.352564 & 0.352566 & 13       & 0.244801\\\\\n",
       "\t GL429767 &  8686923 & C        & A        & 0.624258 & 0.624252 & 16       & 0.238352 & 0.085442 &  6       & ⋯        & 0.361967 & C        & A        & 0.193546 & 0.193549 & 13       & 0.598663 & 0.463195 & 17       & 0.269646\\\\\n",
       "\t GL429767 &  9481248 & G        & A        & 0.125223 & 0.125225 & 12       & 0.646215 & 0.646216 & 10       & ⋯        & 0.349242 & G        & A        & 0.184241 & 0.184239 & 12       & 0.469440 & 0.469438 & 15       & 0.285199\\\\\n",
       "\t GL429767 &  9660022 & T        & A        & 0.389570 & 0.000007 & 12       & 0.537825 & 0.537816 & 11       & ⋯        & 0.266624 & T        & A        & 0.705277 & 0.705276 & 15       & 0.348304 & 0.231777 & 10       & 0.473499\\\\\n",
       "\t GL429767 & 10550101 & A        & C        & 0.316124 & 0.316131 & 17       & 0.794551 & 0.794542 & 12       & ⋯        & 0.360057 & A        & C        & 0.651292 & 0.651287 & 16       & 0.329563 & 0.329568 & 14       & 0.321719\\\\\n",
       "\t GL429767 & 10653216 & G        & C        & 0.469403 & 0.469404 & 14       & 0.000000 & 0.000003 &  8       & ⋯        & 0.325537 & G        & C        & 0.510286 & 0.510277 & 13       & 0.263056 & 0.263059 & 16       & 0.247218\\\\\n",
       "\t GL429767 & 11576643 & A        & G        & 0.552219 & 0.552208 & 11       & 0.512681 & 0.007911 & 10       & ⋯        & 0.325239 & A        & G        & 0.435639 & 0.164445 &  8       & 0.464386 & 0.464380 & 14       & 0.299935\\\\\n",
       "\t GL429767 & 11591311 & A        & G        & 0.124723 & 0.045120 & 12       & 0.616670 & 0.616664 & 13       & ⋯        & 0.297269 & A        & G        & 0.229314 & 0.229144 & 12       & 0.562928 & 0.562920 & 16       & 0.333776\\\\\n",
       "\t GL429767 & 11865438 & C        & G        & 0.536129 & 0.516680 & 13       & 0.191747 & 0.000002 &  5       & ⋯        & 0.291275 & C        & G        & 0.493075 & 0.493076 & 13       & 0.215252 & 0.142595 & 15       & 0.350481\\\\\n",
       "\t GL429767 & 12196412 & G        & C        & 0.528259 & 0.528260 & 15       & 0.091223 & 0.032220 & 10       & ⋯        & 0.459305 & G        & C        & 0.167209 & 0.051669 & 12       & 0.396874 & 0.396879 & 15       & 0.345210\\\\\n",
       "\t GL429767 & 12672249 & T        & A        & 0.144469 & 0.144474 & 10       & 0.640501 & 0.640498 & 11       & ⋯        & 0.645680 & T        & A        & 0.450188 & 0.450176 & 15       & 0.118712 & 0.118492 & 12       & 0.331684\\\\\n",
       "\t GL429767 & 13230628 & G        & T        & 0.128083 & 0.127867 & 12       & 0.605171 & 0.605157 &  6       & ⋯        & 0.275741 & G        & T        & 0.057253 & 0.057250 & 15       & 0.356388 & 0.356386 & 11       & 0.299136\\\\\n",
       "\t GL429767 & 15106798 & A        & G        & 0.547217 & 0.547214 & 12       & 0.129729 & 0.043888 & 12       & ⋯        & 0.344516 & A        & G        & 0.482187 & 0.482177 & 14       & 0.148437 & 0.135139 & 13       & 0.347038\\\\\n",
       "\t GL429767 & 15108540 & A        & G        & 0.318097 & 0.318096 & 14       & 0.805649 & 0.805650 & 10       & ⋯        & 0.328783 & A        & G        & 0.211319 & 0.071460 & 13       & 0.389935 & 0.389937 & 15       & 0.318477\\\\\n",
       "\t GL429767 & 15716054 & G        & T        & 0.181506 & 0.003522 &  9       & 0.471584 & 0.471575 & 10       & ⋯        & 0.526371 & G        & T        & 0.448521 & 0.170198 &  9       & 0.446112 & 0.446111 & 16       & 0.275913\\\\\n",
       "\t GL429767 & 15986756 & C        & A        & 0.642479 & 0.000154 &  9       & 0.475001 & 0.474987 & 13       & ⋯        & 0.445848 & C        & A        & 0.174495 & 0.000007 & 10       & 0.489972 & 0.488324 & 14       & 0.488317\\\\\n",
       "\t GL429767 & 16856640 & A        & G        & 0.223384 & 0.070470 & 10       & 0.573462 & 0.573454 & 11       & ⋯        & 0.354470 & A        & G        & 0.139517 & 0.139518 & 17       & 0.382316 & 0.382321 & 17       & 0.242803\\\\\n",
       "\t ⋮ & ⋮ & ⋮ & ⋮ & ⋮ & ⋮ & ⋮ & ⋮ & ⋮ & ⋮ & ⋱ & ⋮ & ⋮ & ⋮ & ⋮ & ⋮ & ⋮ & ⋮ & ⋮ & ⋮ & ⋮\\\\\n",
       "\t GL429767 & 55898565 & T        & C        & 0.241505 & 0.241507 & 11       & 0.739939 & 0.739932 & 13       & ⋯        & 0.398913 & T        & C        & 0.303065 & 0.303062 & 14       & 0.596633 & 0.596634 & 14       & 0.293572\\\\\n",
       "\t GL429767 & 56161793 & A        & G        & 0.113784 & 0.113787 & 14       & 0.706697 & 0.706696 & 10       & ⋯        & 0.407313 & A        & G        & 0.303379 & 0.125104 & 12       & 0.653071 & 0.653067 & 14       & 0.527963\\\\\n",
       "\t GL429767 & 56832951 & G        & A        & 0.599777 & 0.599776 & 14       & 0.074301 & 0.073557 & 10       & ⋯        & 0.466001 & G        & A        & 0.597220 & 0.597218 & 14       & 0.346171 & 0.346169 & 12       & 0.251049\\\\\n",
       "\t GL429767 & 57951428 & T        & G        & 0.612098 & 0.612096 & 14       & 0.148157 & 0.054382 & 10       & ⋯        & 0.450069 & T        & G        & 0.276870 & 0.276866 & 15       & 0.647406 & 0.647404 & 14       & 0.370538\\\\\n",
       "\t GL429767 & 58039620 & G        & T        & 0.270185 & 0.000102 & 13       & 0.586046 & 0.586048 & 16       & ⋯        & 0.489049 & G        & T        & 0.482494 & 0.482481 & 11       & 0.324778 & 0.025812 & 14       & 0.456669\\\\\n",
       "\t GL429767 & 58079561 & C        & A        & 0.148970 & 0.044674 & 12       & 0.527232 & 0.526900 &  5       & ⋯        & 0.319328 & C        & A        & 0.051603 & 0.051128 & 13       & 0.474381 & 0.474377 & 17       & 0.423249\\\\\n",
       "\t GL429767 & 58372150 & T        & G        & 0.649454 & 0.649454 & 14       & 0.174263 & 0.174263 &  8       & ⋯        & 0.296957 & T        & G        & 0.225022 & 0.225022 & 15       & 0.786789 & 0.786787 & 14       & 0.561765\\\\\n",
       "\t GL429767 & 58572529 & A        & T        & 0.605774 & 0.605766 & 15       & 0.155080 & 0.057187 & 10       & ⋯        & 0.304169 & A        & T        & 0.360054 & 0.360062 & 16       & 0.253447 & 0.100619 & 10       & 0.259443\\\\\n",
       "\t GL429767 & 58821421 & G        & A        & 0.062472 & 0.018316 & 13       & 0.561294 & 0.561286 & 16       & ⋯        & 0.331901 & G        & A        & 0.600169 & 0.600169 & 13       & 0.350975 & 0.350975 & 15       & 0.249194\\\\\n",
       "\t GL429767 & 59260653 & A        & C        & 0.276197 & 0.276205 & 16       & 0.746750 & 0.746751 & 11       & ⋯        & 0.299870 & A        & C        & 0.529360 & 0.529350 & 10       & 0.168285 & 0.168291 & 13       & 0.361059\\\\\n",
       "\t GL429767 & 59844539 & A        & T        & 0.562881 & 0.562871 & 17       & 0.217348 & 0.069618 &  8       & ⋯        & 0.297959 & A        & T        & 0.511254 & 0.511241 & 17       & 0.242759 & 0.242760 & 10       & 0.268481\\\\\n",
       "\t GL429767 & 60059376 & T        & A        & 0.185623 & 0.000052 & 13       & 0.626842 & 0.626535 &  7       & ⋯        & 0.305385 & T        & A        & 0.593392 & 0.593392 & 16       & 0.187147 & 0.114841 & 13       & 0.478551\\\\\n",
       "\t GL429767 & 60330247 & T        & A        & 0.540773 & 0.540768 & 16       & 0.114955 & 0.039351 & 13       & ⋯        & 0.333226 & T        & A        & 0.077173 & 0.025671 & 11       & 0.416849 & 0.416849 & 13       & 0.391178\\\\\n",
       "\t GL429767 & 60929395 & C        & A        & 0.176011 & 0.176013 & 15       & 0.740371 & 0.740364 & 10       & ⋯        & 0.266746 & C        & A        & 0.647103 & 0.647103 & 17       & 0.382542 & 0.382540 & 17       & 0.264563\\\\\n",
       "\t GL429767 & 61107496 & G        & A        & 0.168700 & 0.168704 & 13       & 0.659923 & 0.659916 & 10       & ⋯        & 0.359464 & G        & A        & 0.197448 & 0.066579 & 13       & 0.380234 & 0.380235 & 15       & 0.313656\\\\\n",
       "\t GL429767 & 61280829 & G        & A        & 0.357323 & 0.147509 &  7       & 0.630242 & 0.630235 &  8       & ⋯        & 0.464348 & G        & A        & 0.225226 & 0.225230 & 13       & 0.511779 & 0.511777 & 15       & 0.286547\\\\\n",
       "\t GL429767 & 61497601 & T        & C        & 0.581660 & 0.581660 & 11       & 0.100169 & 0.099451 &  8       & ⋯        & 0.290643 & T        & C        & 0.548435 & 0.548434 & 13       & 0.292725 & 0.292725 & 15       & 0.255709\\\\\n",
       "\t GL429767 & 61554693 & G        & A        & 0.587236 & 0.587236 & 15       & 0.160605 & 0.042996 &  7       & ⋯        & 0.320280 & G        & A        & 0.347892 & 0.113171 & 14       & 0.511343 & 0.511343 & 14       & 0.398172\\\\\n",
       "\t GL429767 & 61602104 & C        & A        & 0.217209 & 0.216610 & 12       & 0.732751 & 0.732741 & 12       & ⋯        & 0.469400 & C        & A        & 0.197152 & 0.197000 & 16       & 0.690710 & 0.690709 &  9       & 0.493709\\\\\n",
       "\t GL429767 & 61800005 & C        & T        & 0.292943 & 0.292942 & 16       & 0.767917 & 0.767917 & 10       & ⋯        & 0.518162 & C        & T        & 0.203308 & 0.066373 & 12       & 0.382623 & 0.382627 & 15       & 0.316254\\\\\n",
       "\t GL429767 & 62502414 & C        & T        & 0.224269 & 0.224267 & 10       & 0.734623 & 0.734622 &  6       & ⋯        & 0.323759 & C        & T        & 0.155690 & 0.155494 & 15       & 0.423023 & 0.423022 & 16       & 0.267528\\\\\n",
       "\t GL429767 & 62878502 & C        & T        & 0.639392 & 0.639389 & 10       & 0.239864 & 0.060961 &  9       & ⋯        & 0.280241 & C        & T        & 0.426940 & 0.426925 & 16       & 0.183346 & 0.183346 & 13       & 0.243579\\\\\n",
       "\t GL429767 & 62986852 & A        & C        & 0.355604 & 0.125228 & 11       & 0.594720 & 0.594722 & 10       & ⋯        & 0.307592 & A        & C        & 0.470933 & 0.470931 & 14       & 0.131599 & 0.131604 & 11       & 0.339327\\\\\n",
       "\t GL429767 & 63137985 & G        & A        & 0.335586 & 0.000007 & 11       & 0.511249 & 0.511238 & 14       & ⋯        & 0.471910 & G        & A        & 0.644831 & 0.644828 & 18       & 0.599651 & 0.133256 & 11       & 0.511572\\\\\n",
       "\t GL429767 & 63416685 & T        & C        & 0.581096 & 0.581089 & 15       & 0.136953 & 0.042140 & 11       & ⋯        & 0.294013 & T        & C        & 0.588371 & 0.588367 & 14       & 0.268524 & 0.268528 & 12       & 0.319839\\\\\n",
       "\t GL429767 & 63992167 & C        & G        & 0.626480 & 0.626477 & 13       & 0.101756 & 0.028390 & 10       & ⋯        & 0.376302 & C        & G        & 0.224077 & 0.224080 & 12       & 0.541830 & 0.541830 & 12       & 0.317750\\\\\n",
       "\t GL429767 & 64499327 & G        & A        & 0.499895 & 0.499894 & 12       & 0.000000 & 0.000002 & 12       & ⋯        & 0.270610 & G        & A        & 0.318036 & 0.317866 & 11       & 0.684170 & 0.684162 & 16       & 0.366296\\\\\n",
       "\t GL429767 & 64543588 & A        & G        & 0.309835 & 0.087789 & 12       & 0.569060 & 0.569050 & 11       & ⋯        & 0.425005 & A        & G        & 0.538847 & 0.538850 & 16       & 0.296491 & 0.107151 & 14       & 0.431699\\\\\n",
       "\t GL429767 & 64555857 & G        & A        & 0.000000 & 0.000004 & 12       & 0.694575 & 0.694563 &  8       & ⋯        & 0.386594 & G        & A        & 0.521139 & 0.521139 & 17       & 0.248139 & 0.248140 & 12       & 0.272999\\\\\n",
       "\t GL429767 & 64861704 & C        & T        & 0.180517 & 0.180516 & 13       & 0.695070 & 0.695060 & 13       & ⋯        & 0.371752 & C        & T        & 0.422575 & 0.137728 & 11       & 0.456502 & 0.456499 & 15       & 0.318771\\\\\n",
       "\\end{tabular}\n"
      ],
      "text/markdown": [
       "\n",
       "Scaffold | Position | Major.x | Minor.x | KnownMaf_E.x | UnknownMaf_E.x | nInd_E.x | KnownMaf_U.x | UnknownMaf_U.x | nInd_U.x | ⋯ | diff.y | Major | Minor | KnownMaf_E | UnknownMaf_E | nInd_E | KnownMaf_U | UnknownMaf_U | nInd_U | diff | \n",
       "|---|---|---|---|---|---|---|---|---|---|---|---|---|---|---|---|---|---|---|---|---|---|---|---|---|---|---|---|---|---|---|---|---|---|---|---|---|---|---|---|---|---|---|---|---|---|---|---|---|---|---|---|---|---|---|---|---|---|---|---|---|\n",
       "| GL429767 |   378240 | C        | T        | 0.143361 | 0.050281 | 10       | 0.681577 | 0.681575 | 12       | ⋯        | 0.308775 | C        | T        | 0.328825 | 0.328827 | 13       | 0.644635 | 0.644636 | 15       | 0.315809 | \n",
       "| GL429767 |  2563529 | A        | G        | 0.604762 | 0.604761 | 13       | 0.219827 | 0.057143 |  6       | ⋯        | 0.298034 | A        | G        | 0.618599 | 0.618593 | 15       | 0.370621 | 0.370623 | 16       | 0.247970 | \n",
       "| GL429767 |  2900778 | T        | C        | 0.321339 | 0.321338 | 15       | 0.827021 | 0.827019 | 10       | ⋯        | 0.292420 | T        | C        | 0.235327 | 0.235169 |  9       | 0.530903 | 0.530906 | 17       | 0.295737 | \n",
       "| GL429767 |  3160344 | C        | A        | 0.650418 | 0.650414 | 19       | 0.239252 | 0.072788 |  7       | ⋯        | 0.280202 | C        | A        | 0.627062 | 0.627053 | 17       | 0.350958 | 0.350962 | 16       | 0.276091 | \n",
       "| GL429767 |  4550108 | C        | T        | 0.765996 | 0.765996 | 14       | 0.190930 | 0.190937 | 11       | ⋯        | 0.526260 | C        | T        | 0.557562 | 0.557562 | 15       | 0.246413 | 0.246413 | 13       | 0.311149 | \n",
       "| GL429767 |  4777116 | G        | T        | 0.540725 | 0.540721 | 12       | 0.000000 | 0.000004 |  7       | ⋯        | 0.391845 | G        | T        | 0.397839 | 0.091126 | 13       | 0.336501 | 0.336504 | 16       | 0.245378 | \n",
       "| GL429767 |  5088979 | C        | T        | 0.631333 | 0.631329 | 13       | 0.265451 | 0.083899 |  7       | ⋯        | 0.466385 | C        | T        | 0.385597 | 0.385600 | 12       | 0.747953 | 0.747955 | 13       | 0.362355 | \n",
       "| GL429767 |  5324740 | T        | C        | 0.288780 | 0.288786 | 12       | 0.924464 | 0.924466 | 11       | ⋯        | 0.284780 | T        | C        | 0.217886 | 0.217890 | 10       | 0.561746 | 0.561749 | 12       | 0.343859 | \n",
       "| GL429767 |  5837026 | C        | T        | 0.086096 | 0.025981 | 10       | 0.598133 | 0.598130 | 13       | ⋯        | 0.268136 | C        | T        | 0.060510 | 0.060506 | 14       | 0.428700 | 0.428690 | 12       | 0.368184 | \n",
       "| GL429767 |  6147842 | T        | G        | 0.690324 | 0.690326 | 17       | 0.196797 | 0.194171 | 11       | ⋯        | 0.320887 | T        | G        | 0.610119 | 0.610110 | 15       | 0.218141 | 0.218144 | 20       | 0.391966 | \n",
       "| GL429767 |  6343084 | G        | A        | 0.627145 | 0.627143 | 12       | 0.147312 | 0.147139 | 11       | ⋯        | 0.331461 | G        | A        | 0.292720 | 0.091515 | 12       | 0.528742 | 0.528737 | 14       | 0.437222 | \n",
       "| GL429767 |  7538682 | T        | C        | 0.673521 | 0.673522 | 13       | 0.454956 | 0.119734 |  6       | ⋯        | 0.454570 | T        | C        | 0.306852 | 0.306519 | 15       | 0.606284 | 0.606279 | 15       | 0.299760 | \n",
       "| GL429767 |  7692026 | C        | T        | 0.215481 | 0.076784 | 11       | 0.591564 | 0.591563 | 12       | ⋯        | 0.298868 | C        | T        | 0.107763 | 0.107764 | 15       | 0.363691 | 0.363691 | 13       | 0.255927 | \n",
       "| GL429767 |  7692033 | C        | G        | 0.204351 | 0.072582 | 12       | 0.557035 | 0.557033 | 12       | ⋯        | 0.339026 | C        | G        | 0.107764 | 0.107765 | 15       | 0.352564 | 0.352566 | 13       | 0.244801 | \n",
       "| GL429767 |  8686923 | C        | A        | 0.624258 | 0.624252 | 16       | 0.238352 | 0.085442 |  6       | ⋯        | 0.361967 | C        | A        | 0.193546 | 0.193549 | 13       | 0.598663 | 0.463195 | 17       | 0.269646 | \n",
       "| GL429767 |  9481248 | G        | A        | 0.125223 | 0.125225 | 12       | 0.646215 | 0.646216 | 10       | ⋯        | 0.349242 | G        | A        | 0.184241 | 0.184239 | 12       | 0.469440 | 0.469438 | 15       | 0.285199 | \n",
       "| GL429767 |  9660022 | T        | A        | 0.389570 | 0.000007 | 12       | 0.537825 | 0.537816 | 11       | ⋯        | 0.266624 | T        | A        | 0.705277 | 0.705276 | 15       | 0.348304 | 0.231777 | 10       | 0.473499 | \n",
       "| GL429767 | 10550101 | A        | C        | 0.316124 | 0.316131 | 17       | 0.794551 | 0.794542 | 12       | ⋯        | 0.360057 | A        | C        | 0.651292 | 0.651287 | 16       | 0.329563 | 0.329568 | 14       | 0.321719 | \n",
       "| GL429767 | 10653216 | G        | C        | 0.469403 | 0.469404 | 14       | 0.000000 | 0.000003 |  8       | ⋯        | 0.325537 | G        | C        | 0.510286 | 0.510277 | 13       | 0.263056 | 0.263059 | 16       | 0.247218 | \n",
       "| GL429767 | 11576643 | A        | G        | 0.552219 | 0.552208 | 11       | 0.512681 | 0.007911 | 10       | ⋯        | 0.325239 | A        | G        | 0.435639 | 0.164445 |  8       | 0.464386 | 0.464380 | 14       | 0.299935 | \n",
       "| GL429767 | 11591311 | A        | G        | 0.124723 | 0.045120 | 12       | 0.616670 | 0.616664 | 13       | ⋯        | 0.297269 | A        | G        | 0.229314 | 0.229144 | 12       | 0.562928 | 0.562920 | 16       | 0.333776 | \n",
       "| GL429767 | 11865438 | C        | G        | 0.536129 | 0.516680 | 13       | 0.191747 | 0.000002 |  5       | ⋯        | 0.291275 | C        | G        | 0.493075 | 0.493076 | 13       | 0.215252 | 0.142595 | 15       | 0.350481 | \n",
       "| GL429767 | 12196412 | G        | C        | 0.528259 | 0.528260 | 15       | 0.091223 | 0.032220 | 10       | ⋯        | 0.459305 | G        | C        | 0.167209 | 0.051669 | 12       | 0.396874 | 0.396879 | 15       | 0.345210 | \n",
       "| GL429767 | 12672249 | T        | A        | 0.144469 | 0.144474 | 10       | 0.640501 | 0.640498 | 11       | ⋯        | 0.645680 | T        | A        | 0.450188 | 0.450176 | 15       | 0.118712 | 0.118492 | 12       | 0.331684 | \n",
       "| GL429767 | 13230628 | G        | T        | 0.128083 | 0.127867 | 12       | 0.605171 | 0.605157 |  6       | ⋯        | 0.275741 | G        | T        | 0.057253 | 0.057250 | 15       | 0.356388 | 0.356386 | 11       | 0.299136 | \n",
       "| GL429767 | 15106798 | A        | G        | 0.547217 | 0.547214 | 12       | 0.129729 | 0.043888 | 12       | ⋯        | 0.344516 | A        | G        | 0.482187 | 0.482177 | 14       | 0.148437 | 0.135139 | 13       | 0.347038 | \n",
       "| GL429767 | 15108540 | A        | G        | 0.318097 | 0.318096 | 14       | 0.805649 | 0.805650 | 10       | ⋯        | 0.328783 | A        | G        | 0.211319 | 0.071460 | 13       | 0.389935 | 0.389937 | 15       | 0.318477 | \n",
       "| GL429767 | 15716054 | G        | T        | 0.181506 | 0.003522 |  9       | 0.471584 | 0.471575 | 10       | ⋯        | 0.526371 | G        | T        | 0.448521 | 0.170198 |  9       | 0.446112 | 0.446111 | 16       | 0.275913 | \n",
       "| GL429767 | 15986756 | C        | A        | 0.642479 | 0.000154 |  9       | 0.475001 | 0.474987 | 13       | ⋯        | 0.445848 | C        | A        | 0.174495 | 0.000007 | 10       | 0.489972 | 0.488324 | 14       | 0.488317 | \n",
       "| GL429767 | 16856640 | A        | G        | 0.223384 | 0.070470 | 10       | 0.573462 | 0.573454 | 11       | ⋯        | 0.354470 | A        | G        | 0.139517 | 0.139518 | 17       | 0.382316 | 0.382321 | 17       | 0.242803 | \n",
       "| ⋮ | ⋮ | ⋮ | ⋮ | ⋮ | ⋮ | ⋮ | ⋮ | ⋮ | ⋮ | ⋱ | ⋮ | ⋮ | ⋮ | ⋮ | ⋮ | ⋮ | ⋮ | ⋮ | ⋮ | ⋮ | \n",
       "| GL429767 | 55898565 | T        | C        | 0.241505 | 0.241507 | 11       | 0.739939 | 0.739932 | 13       | ⋯        | 0.398913 | T        | C        | 0.303065 | 0.303062 | 14       | 0.596633 | 0.596634 | 14       | 0.293572 | \n",
       "| GL429767 | 56161793 | A        | G        | 0.113784 | 0.113787 | 14       | 0.706697 | 0.706696 | 10       | ⋯        | 0.407313 | A        | G        | 0.303379 | 0.125104 | 12       | 0.653071 | 0.653067 | 14       | 0.527963 | \n",
       "| GL429767 | 56832951 | G        | A        | 0.599777 | 0.599776 | 14       | 0.074301 | 0.073557 | 10       | ⋯        | 0.466001 | G        | A        | 0.597220 | 0.597218 | 14       | 0.346171 | 0.346169 | 12       | 0.251049 | \n",
       "| GL429767 | 57951428 | T        | G        | 0.612098 | 0.612096 | 14       | 0.148157 | 0.054382 | 10       | ⋯        | 0.450069 | T        | G        | 0.276870 | 0.276866 | 15       | 0.647406 | 0.647404 | 14       | 0.370538 | \n",
       "| GL429767 | 58039620 | G        | T        | 0.270185 | 0.000102 | 13       | 0.586046 | 0.586048 | 16       | ⋯        | 0.489049 | G        | T        | 0.482494 | 0.482481 | 11       | 0.324778 | 0.025812 | 14       | 0.456669 | \n",
       "| GL429767 | 58079561 | C        | A        | 0.148970 | 0.044674 | 12       | 0.527232 | 0.526900 |  5       | ⋯        | 0.319328 | C        | A        | 0.051603 | 0.051128 | 13       | 0.474381 | 0.474377 | 17       | 0.423249 | \n",
       "| GL429767 | 58372150 | T        | G        | 0.649454 | 0.649454 | 14       | 0.174263 | 0.174263 |  8       | ⋯        | 0.296957 | T        | G        | 0.225022 | 0.225022 | 15       | 0.786789 | 0.786787 | 14       | 0.561765 | \n",
       "| GL429767 | 58572529 | A        | T        | 0.605774 | 0.605766 | 15       | 0.155080 | 0.057187 | 10       | ⋯        | 0.304169 | A        | T        | 0.360054 | 0.360062 | 16       | 0.253447 | 0.100619 | 10       | 0.259443 | \n",
       "| GL429767 | 58821421 | G        | A        | 0.062472 | 0.018316 | 13       | 0.561294 | 0.561286 | 16       | ⋯        | 0.331901 | G        | A        | 0.600169 | 0.600169 | 13       | 0.350975 | 0.350975 | 15       | 0.249194 | \n",
       "| GL429767 | 59260653 | A        | C        | 0.276197 | 0.276205 | 16       | 0.746750 | 0.746751 | 11       | ⋯        | 0.299870 | A        | C        | 0.529360 | 0.529350 | 10       | 0.168285 | 0.168291 | 13       | 0.361059 | \n",
       "| GL429767 | 59844539 | A        | T        | 0.562881 | 0.562871 | 17       | 0.217348 | 0.069618 |  8       | ⋯        | 0.297959 | A        | T        | 0.511254 | 0.511241 | 17       | 0.242759 | 0.242760 | 10       | 0.268481 | \n",
       "| GL429767 | 60059376 | T        | A        | 0.185623 | 0.000052 | 13       | 0.626842 | 0.626535 |  7       | ⋯        | 0.305385 | T        | A        | 0.593392 | 0.593392 | 16       | 0.187147 | 0.114841 | 13       | 0.478551 | \n",
       "| GL429767 | 60330247 | T        | A        | 0.540773 | 0.540768 | 16       | 0.114955 | 0.039351 | 13       | ⋯        | 0.333226 | T        | A        | 0.077173 | 0.025671 | 11       | 0.416849 | 0.416849 | 13       | 0.391178 | \n",
       "| GL429767 | 60929395 | C        | A        | 0.176011 | 0.176013 | 15       | 0.740371 | 0.740364 | 10       | ⋯        | 0.266746 | C        | A        | 0.647103 | 0.647103 | 17       | 0.382542 | 0.382540 | 17       | 0.264563 | \n",
       "| GL429767 | 61107496 | G        | A        | 0.168700 | 0.168704 | 13       | 0.659923 | 0.659916 | 10       | ⋯        | 0.359464 | G        | A        | 0.197448 | 0.066579 | 13       | 0.380234 | 0.380235 | 15       | 0.313656 | \n",
       "| GL429767 | 61280829 | G        | A        | 0.357323 | 0.147509 |  7       | 0.630242 | 0.630235 |  8       | ⋯        | 0.464348 | G        | A        | 0.225226 | 0.225230 | 13       | 0.511779 | 0.511777 | 15       | 0.286547 | \n",
       "| GL429767 | 61497601 | T        | C        | 0.581660 | 0.581660 | 11       | 0.100169 | 0.099451 |  8       | ⋯        | 0.290643 | T        | C        | 0.548435 | 0.548434 | 13       | 0.292725 | 0.292725 | 15       | 0.255709 | \n",
       "| GL429767 | 61554693 | G        | A        | 0.587236 | 0.587236 | 15       | 0.160605 | 0.042996 |  7       | ⋯        | 0.320280 | G        | A        | 0.347892 | 0.113171 | 14       | 0.511343 | 0.511343 | 14       | 0.398172 | \n",
       "| GL429767 | 61602104 | C        | A        | 0.217209 | 0.216610 | 12       | 0.732751 | 0.732741 | 12       | ⋯        | 0.469400 | C        | A        | 0.197152 | 0.197000 | 16       | 0.690710 | 0.690709 |  9       | 0.493709 | \n",
       "| GL429767 | 61800005 | C        | T        | 0.292943 | 0.292942 | 16       | 0.767917 | 0.767917 | 10       | ⋯        | 0.518162 | C        | T        | 0.203308 | 0.066373 | 12       | 0.382623 | 0.382627 | 15       | 0.316254 | \n",
       "| GL429767 | 62502414 | C        | T        | 0.224269 | 0.224267 | 10       | 0.734623 | 0.734622 |  6       | ⋯        | 0.323759 | C        | T        | 0.155690 | 0.155494 | 15       | 0.423023 | 0.423022 | 16       | 0.267528 | \n",
       "| GL429767 | 62878502 | C        | T        | 0.639392 | 0.639389 | 10       | 0.239864 | 0.060961 |  9       | ⋯        | 0.280241 | C        | T        | 0.426940 | 0.426925 | 16       | 0.183346 | 0.183346 | 13       | 0.243579 | \n",
       "| GL429767 | 62986852 | A        | C        | 0.355604 | 0.125228 | 11       | 0.594720 | 0.594722 | 10       | ⋯        | 0.307592 | A        | C        | 0.470933 | 0.470931 | 14       | 0.131599 | 0.131604 | 11       | 0.339327 | \n",
       "| GL429767 | 63137985 | G        | A        | 0.335586 | 0.000007 | 11       | 0.511249 | 0.511238 | 14       | ⋯        | 0.471910 | G        | A        | 0.644831 | 0.644828 | 18       | 0.599651 | 0.133256 | 11       | 0.511572 | \n",
       "| GL429767 | 63416685 | T        | C        | 0.581096 | 0.581089 | 15       | 0.136953 | 0.042140 | 11       | ⋯        | 0.294013 | T        | C        | 0.588371 | 0.588367 | 14       | 0.268524 | 0.268528 | 12       | 0.319839 | \n",
       "| GL429767 | 63992167 | C        | G        | 0.626480 | 0.626477 | 13       | 0.101756 | 0.028390 | 10       | ⋯        | 0.376302 | C        | G        | 0.224077 | 0.224080 | 12       | 0.541830 | 0.541830 | 12       | 0.317750 | \n",
       "| GL429767 | 64499327 | G        | A        | 0.499895 | 0.499894 | 12       | 0.000000 | 0.000002 | 12       | ⋯        | 0.270610 | G        | A        | 0.318036 | 0.317866 | 11       | 0.684170 | 0.684162 | 16       | 0.366296 | \n",
       "| GL429767 | 64543588 | A        | G        | 0.309835 | 0.087789 | 12       | 0.569060 | 0.569050 | 11       | ⋯        | 0.425005 | A        | G        | 0.538847 | 0.538850 | 16       | 0.296491 | 0.107151 | 14       | 0.431699 | \n",
       "| GL429767 | 64555857 | G        | A        | 0.000000 | 0.000004 | 12       | 0.694575 | 0.694563 |  8       | ⋯        | 0.386594 | G        | A        | 0.521139 | 0.521139 | 17       | 0.248139 | 0.248140 | 12       | 0.272999 | \n",
       "| GL429767 | 64861704 | C        | T        | 0.180517 | 0.180516 | 13       | 0.695070 | 0.695060 | 13       | ⋯        | 0.371752 | C        | T        | 0.422575 | 0.137728 | 11       | 0.456502 | 0.456499 | 15       | 0.318771 | \n",
       "\n",
       "\n"
      ],
      "text/plain": [
       "    Scaffold Position Major.x Minor.x KnownMaf_E.x UnknownMaf_E.x nInd_E.x\n",
       "1   GL429767   378240 C       T       0.143361     0.050281       10      \n",
       "2   GL429767  2563529 A       G       0.604762     0.604761       13      \n",
       "3   GL429767  2900778 T       C       0.321339     0.321338       15      \n",
       "4   GL429767  3160344 C       A       0.650418     0.650414       19      \n",
       "5   GL429767  4550108 C       T       0.765996     0.765996       14      \n",
       "6   GL429767  4777116 G       T       0.540725     0.540721       12      \n",
       "7   GL429767  5088979 C       T       0.631333     0.631329       13      \n",
       "8   GL429767  5324740 T       C       0.288780     0.288786       12      \n",
       "9   GL429767  5837026 C       T       0.086096     0.025981       10      \n",
       "10  GL429767  6147842 T       G       0.690324     0.690326       17      \n",
       "11  GL429767  6343084 G       A       0.627145     0.627143       12      \n",
       "12  GL429767  7538682 T       C       0.673521     0.673522       13      \n",
       "13  GL429767  7692026 C       T       0.215481     0.076784       11      \n",
       "14  GL429767  7692033 C       G       0.204351     0.072582       12      \n",
       "15  GL429767  8686923 C       A       0.624258     0.624252       16      \n",
       "16  GL429767  9481248 G       A       0.125223     0.125225       12      \n",
       "17  GL429767  9660022 T       A       0.389570     0.000007       12      \n",
       "18  GL429767 10550101 A       C       0.316124     0.316131       17      \n",
       "19  GL429767 10653216 G       C       0.469403     0.469404       14      \n",
       "20  GL429767 11576643 A       G       0.552219     0.552208       11      \n",
       "21  GL429767 11591311 A       G       0.124723     0.045120       12      \n",
       "22  GL429767 11865438 C       G       0.536129     0.516680       13      \n",
       "23  GL429767 12196412 G       C       0.528259     0.528260       15      \n",
       "24  GL429767 12672249 T       A       0.144469     0.144474       10      \n",
       "25  GL429767 13230628 G       T       0.128083     0.127867       12      \n",
       "26  GL429767 15106798 A       G       0.547217     0.547214       12      \n",
       "27  GL429767 15108540 A       G       0.318097     0.318096       14      \n",
       "28  GL429767 15716054 G       T       0.181506     0.003522        9      \n",
       "29  GL429767 15986756 C       A       0.642479     0.000154        9      \n",
       "30  GL429767 16856640 A       G       0.223384     0.070470       10      \n",
       "⋮   ⋮        ⋮        ⋮       ⋮       ⋮            ⋮              ⋮       \n",
       "149 GL429767 55898565 T       C       0.241505     0.241507       11      \n",
       "150 GL429767 56161793 A       G       0.113784     0.113787       14      \n",
       "151 GL429767 56832951 G       A       0.599777     0.599776       14      \n",
       "152 GL429767 57951428 T       G       0.612098     0.612096       14      \n",
       "153 GL429767 58039620 G       T       0.270185     0.000102       13      \n",
       "154 GL429767 58079561 C       A       0.148970     0.044674       12      \n",
       "155 GL429767 58372150 T       G       0.649454     0.649454       14      \n",
       "156 GL429767 58572529 A       T       0.605774     0.605766       15      \n",
       "157 GL429767 58821421 G       A       0.062472     0.018316       13      \n",
       "158 GL429767 59260653 A       C       0.276197     0.276205       16      \n",
       "159 GL429767 59844539 A       T       0.562881     0.562871       17      \n",
       "160 GL429767 60059376 T       A       0.185623     0.000052       13      \n",
       "161 GL429767 60330247 T       A       0.540773     0.540768       16      \n",
       "162 GL429767 60929395 C       A       0.176011     0.176013       15      \n",
       "163 GL429767 61107496 G       A       0.168700     0.168704       13      \n",
       "164 GL429767 61280829 G       A       0.357323     0.147509        7      \n",
       "165 GL429767 61497601 T       C       0.581660     0.581660       11      \n",
       "166 GL429767 61554693 G       A       0.587236     0.587236       15      \n",
       "167 GL429767 61602104 C       A       0.217209     0.216610       12      \n",
       "168 GL429767 61800005 C       T       0.292943     0.292942       16      \n",
       "169 GL429767 62502414 C       T       0.224269     0.224267       10      \n",
       "170 GL429767 62878502 C       T       0.639392     0.639389       10      \n",
       "171 GL429767 62986852 A       C       0.355604     0.125228       11      \n",
       "172 GL429767 63137985 G       A       0.335586     0.000007       11      \n",
       "173 GL429767 63416685 T       C       0.581096     0.581089       15      \n",
       "174 GL429767 63992167 C       G       0.626480     0.626477       13      \n",
       "175 GL429767 64499327 G       A       0.499895     0.499894       12      \n",
       "176 GL429767 64543588 A       G       0.309835     0.087789       12      \n",
       "177 GL429767 64555857 G       A       0.000000     0.000004       12      \n",
       "178 GL429767 64861704 C       T       0.180517     0.180516       13      \n",
       "    KnownMaf_U.x UnknownMaf_U.x nInd_U.x ⋯ diff.y   Major Minor KnownMaf_E\n",
       "1   0.681577     0.681575       12       ⋯ 0.308775 C     T     0.328825  \n",
       "2   0.219827     0.057143        6       ⋯ 0.298034 A     G     0.618599  \n",
       "3   0.827021     0.827019       10       ⋯ 0.292420 T     C     0.235327  \n",
       "4   0.239252     0.072788        7       ⋯ 0.280202 C     A     0.627062  \n",
       "5   0.190930     0.190937       11       ⋯ 0.526260 C     T     0.557562  \n",
       "6   0.000000     0.000004        7       ⋯ 0.391845 G     T     0.397839  \n",
       "7   0.265451     0.083899        7       ⋯ 0.466385 C     T     0.385597  \n",
       "8   0.924464     0.924466       11       ⋯ 0.284780 T     C     0.217886  \n",
       "9   0.598133     0.598130       13       ⋯ 0.268136 C     T     0.060510  \n",
       "10  0.196797     0.194171       11       ⋯ 0.320887 T     G     0.610119  \n",
       "11  0.147312     0.147139       11       ⋯ 0.331461 G     A     0.292720  \n",
       "12  0.454956     0.119734        6       ⋯ 0.454570 T     C     0.306852  \n",
       "13  0.591564     0.591563       12       ⋯ 0.298868 C     T     0.107763  \n",
       "14  0.557035     0.557033       12       ⋯ 0.339026 C     G     0.107764  \n",
       "15  0.238352     0.085442        6       ⋯ 0.361967 C     A     0.193546  \n",
       "16  0.646215     0.646216       10       ⋯ 0.349242 G     A     0.184241  \n",
       "17  0.537825     0.537816       11       ⋯ 0.266624 T     A     0.705277  \n",
       "18  0.794551     0.794542       12       ⋯ 0.360057 A     C     0.651292  \n",
       "19  0.000000     0.000003        8       ⋯ 0.325537 G     C     0.510286  \n",
       "20  0.512681     0.007911       10       ⋯ 0.325239 A     G     0.435639  \n",
       "21  0.616670     0.616664       13       ⋯ 0.297269 A     G     0.229314  \n",
       "22  0.191747     0.000002        5       ⋯ 0.291275 C     G     0.493075  \n",
       "23  0.091223     0.032220       10       ⋯ 0.459305 G     C     0.167209  \n",
       "24  0.640501     0.640498       11       ⋯ 0.645680 T     A     0.450188  \n",
       "25  0.605171     0.605157        6       ⋯ 0.275741 G     T     0.057253  \n",
       "26  0.129729     0.043888       12       ⋯ 0.344516 A     G     0.482187  \n",
       "27  0.805649     0.805650       10       ⋯ 0.328783 A     G     0.211319  \n",
       "28  0.471584     0.471575       10       ⋯ 0.526371 G     T     0.448521  \n",
       "29  0.475001     0.474987       13       ⋯ 0.445848 C     A     0.174495  \n",
       "30  0.573462     0.573454       11       ⋯ 0.354470 A     G     0.139517  \n",
       "⋮   ⋮            ⋮              ⋮        ⋱ ⋮        ⋮     ⋮     ⋮         \n",
       "149 0.739939     0.739932       13       ⋯ 0.398913 T     C     0.303065  \n",
       "150 0.706697     0.706696       10       ⋯ 0.407313 A     G     0.303379  \n",
       "151 0.074301     0.073557       10       ⋯ 0.466001 G     A     0.597220  \n",
       "152 0.148157     0.054382       10       ⋯ 0.450069 T     G     0.276870  \n",
       "153 0.586046     0.586048       16       ⋯ 0.489049 G     T     0.482494  \n",
       "154 0.527232     0.526900        5       ⋯ 0.319328 C     A     0.051603  \n",
       "155 0.174263     0.174263        8       ⋯ 0.296957 T     G     0.225022  \n",
       "156 0.155080     0.057187       10       ⋯ 0.304169 A     T     0.360054  \n",
       "157 0.561294     0.561286       16       ⋯ 0.331901 G     A     0.600169  \n",
       "158 0.746750     0.746751       11       ⋯ 0.299870 A     C     0.529360  \n",
       "159 0.217348     0.069618        8       ⋯ 0.297959 A     T     0.511254  \n",
       "160 0.626842     0.626535        7       ⋯ 0.305385 T     A     0.593392  \n",
       "161 0.114955     0.039351       13       ⋯ 0.333226 T     A     0.077173  \n",
       "162 0.740371     0.740364       10       ⋯ 0.266746 C     A     0.647103  \n",
       "163 0.659923     0.659916       10       ⋯ 0.359464 G     A     0.197448  \n",
       "164 0.630242     0.630235        8       ⋯ 0.464348 G     A     0.225226  \n",
       "165 0.100169     0.099451        8       ⋯ 0.290643 T     C     0.548435  \n",
       "166 0.160605     0.042996        7       ⋯ 0.320280 G     A     0.347892  \n",
       "167 0.732751     0.732741       12       ⋯ 0.469400 C     A     0.197152  \n",
       "168 0.767917     0.767917       10       ⋯ 0.518162 C     T     0.203308  \n",
       "169 0.734623     0.734622        6       ⋯ 0.323759 C     T     0.155690  \n",
       "170 0.239864     0.060961        9       ⋯ 0.280241 C     T     0.426940  \n",
       "171 0.594720     0.594722       10       ⋯ 0.307592 A     C     0.470933  \n",
       "172 0.511249     0.511238       14       ⋯ 0.471910 G     A     0.644831  \n",
       "173 0.136953     0.042140       11       ⋯ 0.294013 T     C     0.588371  \n",
       "174 0.101756     0.028390       10       ⋯ 0.376302 C     G     0.224077  \n",
       "175 0.000000     0.000002       12       ⋯ 0.270610 G     A     0.318036  \n",
       "176 0.569060     0.569050       11       ⋯ 0.425005 A     G     0.538847  \n",
       "177 0.694575     0.694563        8       ⋯ 0.386594 G     A     0.521139  \n",
       "178 0.695070     0.695060       13       ⋯ 0.371752 C     T     0.422575  \n",
       "    UnknownMaf_E nInd_E KnownMaf_U UnknownMaf_U nInd_U diff    \n",
       "1   0.328827     13     0.644635   0.644636     15     0.315809\n",
       "2   0.618593     15     0.370621   0.370623     16     0.247970\n",
       "3   0.235169      9     0.530903   0.530906     17     0.295737\n",
       "4   0.627053     17     0.350958   0.350962     16     0.276091\n",
       "5   0.557562     15     0.246413   0.246413     13     0.311149\n",
       "6   0.091126     13     0.336501   0.336504     16     0.245378\n",
       "7   0.385600     12     0.747953   0.747955     13     0.362355\n",
       "8   0.217890     10     0.561746   0.561749     12     0.343859\n",
       "9   0.060506     14     0.428700   0.428690     12     0.368184\n",
       "10  0.610110     15     0.218141   0.218144     20     0.391966\n",
       "11  0.091515     12     0.528742   0.528737     14     0.437222\n",
       "12  0.306519     15     0.606284   0.606279     15     0.299760\n",
       "13  0.107764     15     0.363691   0.363691     13     0.255927\n",
       "14  0.107765     15     0.352564   0.352566     13     0.244801\n",
       "15  0.193549     13     0.598663   0.463195     17     0.269646\n",
       "16  0.184239     12     0.469440   0.469438     15     0.285199\n",
       "17  0.705276     15     0.348304   0.231777     10     0.473499\n",
       "18  0.651287     16     0.329563   0.329568     14     0.321719\n",
       "19  0.510277     13     0.263056   0.263059     16     0.247218\n",
       "20  0.164445      8     0.464386   0.464380     14     0.299935\n",
       "21  0.229144     12     0.562928   0.562920     16     0.333776\n",
       "22  0.493076     13     0.215252   0.142595     15     0.350481\n",
       "23  0.051669     12     0.396874   0.396879     15     0.345210\n",
       "24  0.450176     15     0.118712   0.118492     12     0.331684\n",
       "25  0.057250     15     0.356388   0.356386     11     0.299136\n",
       "26  0.482177     14     0.148437   0.135139     13     0.347038\n",
       "27  0.071460     13     0.389935   0.389937     15     0.318477\n",
       "28  0.170198      9     0.446112   0.446111     16     0.275913\n",
       "29  0.000007     10     0.489972   0.488324     14     0.488317\n",
       "30  0.139518     17     0.382316   0.382321     17     0.242803\n",
       "⋮   ⋮            ⋮      ⋮          ⋮            ⋮      ⋮       \n",
       "149 0.303062     14     0.596633   0.596634     14     0.293572\n",
       "150 0.125104     12     0.653071   0.653067     14     0.527963\n",
       "151 0.597218     14     0.346171   0.346169     12     0.251049\n",
       "152 0.276866     15     0.647406   0.647404     14     0.370538\n",
       "153 0.482481     11     0.324778   0.025812     14     0.456669\n",
       "154 0.051128     13     0.474381   0.474377     17     0.423249\n",
       "155 0.225022     15     0.786789   0.786787     14     0.561765\n",
       "156 0.360062     16     0.253447   0.100619     10     0.259443\n",
       "157 0.600169     13     0.350975   0.350975     15     0.249194\n",
       "158 0.529350     10     0.168285   0.168291     13     0.361059\n",
       "159 0.511241     17     0.242759   0.242760     10     0.268481\n",
       "160 0.593392     16     0.187147   0.114841     13     0.478551\n",
       "161 0.025671     11     0.416849   0.416849     13     0.391178\n",
       "162 0.647103     17     0.382542   0.382540     17     0.264563\n",
       "163 0.066579     13     0.380234   0.380235     15     0.313656\n",
       "164 0.225230     13     0.511779   0.511777     15     0.286547\n",
       "165 0.548434     13     0.292725   0.292725     15     0.255709\n",
       "166 0.113171     14     0.511343   0.511343     14     0.398172\n",
       "167 0.197000     16     0.690710   0.690709      9     0.493709\n",
       "168 0.066373     12     0.382623   0.382627     15     0.316254\n",
       "169 0.155494     15     0.423023   0.423022     16     0.267528\n",
       "170 0.426925     16     0.183346   0.183346     13     0.243579\n",
       "171 0.470931     14     0.131599   0.131604     11     0.339327\n",
       "172 0.644828     18     0.599651   0.133256     11     0.511572\n",
       "173 0.588367     14     0.268524   0.268528     12     0.319839\n",
       "174 0.224080     12     0.541830   0.541830     12     0.317750\n",
       "175 0.317866     11     0.684170   0.684162     16     0.366296\n",
       "176 0.538850     16     0.296491   0.107151     14     0.431699\n",
       "177 0.521139     17     0.248139   0.248140     12     0.272999\n",
       "178 0.137728     11     0.456502   0.456499     15     0.318771"
      ]
     },
     "metadata": {},
     "output_type": "display_data"
    }
   ],
   "source": [
    "GL429767"
   ]
  },
  {
   "cell_type": "code",
   "execution_count": null,
   "metadata": {
    "collapsed": true
   },
   "outputs": [],
   "source": [
    "\n",
    "\n",
    "# Plot\n",
    "PC <- as.data.frame(eig$vectors)\n",
    "colnames(PC) <- gsub(\"V\", \"PC\", colnames(PC))\n",
    "PC$Pop <- factor(annot$CLUSTER)\n",
    "\n",
    "title <- paste(\"PC\",comp[1],\" (\",signif(eig$val[comp[1]], digits=3)*100,\"%)\",\" / PC\",comp[2],\" (\",signif(eig$val[comp[2]], digits=3)*100,\"%)\",sep=\"\",collapse=\"\")\n",
    "\n",
    "x_axis = paste(\"PC\",comp[1],sep=\"\")\n",
    "y_axis = paste(\"PC\",comp[2],sep=\"\")\n",
    "\n",
    "ggplot() + geom_point(data=PC, aes_string(x=x_axis, y=y_axis, color=\"Pop\")) + ggtitle(title) + scale_colour_manual(values=cbPalette)\n",
    "ggsave(opt$out_file)\n",
    "unlink(\"Rplots.pdf\", force=TRUE)\n"
   ]
  },
  {
   "cell_type": "code",
   "execution_count": 23,
   "metadata": {
    "collapsed": false
   },
   "outputs": [],
   "source": [
    "covar =read.table(\"/local/home/sarahgw/WGS/SNPS/All_mylu/All_mylu_post.covar\", stringsAsFact=F)\n",
    "annot =read.table(\"/local/home/sarahgw/WGS/SNPS/All_mylu/ALL_mylu.clst\", sep=\"\\t\", header=T)\n",
    "comp =as.numeric(strsplit(\"1-2\", \"-\", fixed=TRUE)[[1]])"
   ]
  },
  {
   "cell_type": "code",
   "execution_count": 24,
   "metadata": {
    "collapsed": false
   },
   "outputs": [
    {
     "name": "stdout",
     "output_type": "stream",
     "text": [
      "2.41 1.75 1.52 1.45 1.4 1.39 1.32 1.26 1.23 1.23 1.22 1.17 1.16 1.11 1.09 1.08 1.07 1.06 1.05 1.04 1.01 1.01 1 0.998 0.988 0.977 0.964 0.95 0.947 0.941 0.934 0.929 0.922 0.91 0.905 0.903 0.902 0.901 0.898 0.896 0.884 0.872 0.865 0.864 0.861 0.854 0.846 0.843 0.839 0.834 0.828 0.823 0.819 0.816 0.812 0.808 0.804 0.793 0.786 0.768 0.75 0.739 0.737 0.732 0.726 0.72 0.713 0.706 0.703 0.693 0.684 0.679 0.671 0.66 0.656 0.653 0.645 0.64 0.63 0.614 0.612 0.606 0.597 0.592 0.584 0.577 0.577 0.576 0.575 0.568 0.565 0.56 0.556 0.549 0.543 0.538 0.534 0.529 0.522 0.513 0.505 0.5 0.496 0.493 0.489 0.485 0.481 0.473 0.468 0.464 0.462 0.448 0.439 0.432 0.426 0.419 0.415 0.398 0.387 0.377 0.363 0.349 0.344 0.335 0.318 0.311 0.307 0.302 0.293 0.275 0.269 0.253 0.234 0.231 0.229 0.00259 \n"
     ]
    }
   ],
   "source": [
    "# Eigenvalues\n",
    "eig <- eigen(covar, symm=TRUE);\n",
    "eig$val <- eig$val/sum(eig$val);\n",
    "cat(signif(eig$val, digits=3)*100,\"\\n\");"
   ]
  },
  {
   "cell_type": "code",
   "execution_count": 5,
   "metadata": {
    "collapsed": false
   },
   "outputs": [
    {
     "name": "stderr",
     "output_type": "stream",
     "text": [
      "Loading required package: ggplot2\n"
     ]
    }
   ],
   "source": [
    "require(ggplot2)"
   ]
  },
  {
   "cell_type": "code",
   "execution_count": 25,
   "metadata": {
    "collapsed": false
   },
   "outputs": [
    {
     "data": {},
     "metadata": {},
     "output_type": "display_data"
    },
    {
     "data": {
      "image/png": "[encoded data removed]",
      "text/plain": [
       "plot without title"
      ]
     },
     "metadata": {},
     "output_type": "display_data"
    }
   ],
   "source": [
    "PC <- as.data.frame(eig$vectors)\n",
    "colnames(PC) <- gsub(\"V\", \"PC\", colnames(PC))\n",
    "PC$Pop <- factor(annot$CLUSTER)\n",
    "\n",
    "title <- paste(\"PC\",comp[1],\" (\",signif(eig$val[comp[1]], digits=3)*100,\"%)\",\" / PC\",comp[2],\" (\",signif(eig$val[comp[2]], digits=3)*100,\"%)\",sep=\"\",collapse=\"\")\n",
    "\n",
    "x_axis = paste(\"PC\",comp[1],sep=\"\")\n",
    "y_axis = paste(\"PC\",comp[2],sep=\"\")\n",
    "\n",
    "ggplot() + geom_point(data=PC, aes_string(x=x_axis, y=y_axis, color=\"Pop\")) + ggtitle(title)+theme_bw()"
   ]
  },
  {
   "cell_type": "code",
   "execution_count": 11,
   "metadata": {
    "collapsed": false
   },
   "outputs": [
    {
     "data": {
      "text/html": [
       "<table>\n",
       "<thead><tr><th scope=col>PC1</th><th scope=col>PC2</th><th scope=col>PC3</th><th scope=col>PC4</th><th scope=col>PC5</th><th scope=col>PC6</th><th scope=col>PC7</th><th scope=col>PC8</th><th scope=col>PC9</th><th scope=col>PC10</th><th scope=col>⋯</th><th scope=col>PC128</th><th scope=col>PC129</th><th scope=col>PC130</th><th scope=col>PC131</th><th scope=col>PC132</th><th scope=col>PC133</th><th scope=col>PC134</th><th scope=col>PC135</th><th scope=col>PC136</th><th scope=col>Pop</th></tr></thead>\n",
       "<tbody>\n",
       "\t<tr><td> 0.0001045627</td><td> 8.742575e-06</td><td>-5.403543e-06</td><td> 1.465511e-05</td><td> 1.321112e-06</td><td> 9.308567e-06</td><td> 1.660583e-05</td><td> 3.105730e-06</td><td> 1.989282e-05</td><td>-1.873556e-05</td><td>⋯            </td><td> 3.583077e-05</td><td> 7.372558e-05</td><td> 4.594382e-05</td><td>-0.0000169125</td><td>-0.0000519697</td><td> 1.401270e-06</td><td>-7.472238e-05</td><td> 5.728101e-05</td><td> 9.999999e-01</td><td>NJ_E         </td></tr>\n",
       "\t<tr><td>-0.0095141367</td><td> 4.815358e-03</td><td>-3.585374e-03</td><td> 3.205088e-03</td><td> 5.836631e-05</td><td> 3.663636e-03</td><td> 7.336985e-03</td><td>-4.989783e-03</td><td>-2.328281e-04</td><td> 4.573036e-04</td><td>⋯            </td><td>-1.598700e-02</td><td>-1.856954e-02</td><td>-7.963892e-03</td><td> 0.0118533961</td><td> 0.0119510917</td><td> 3.455966e-03</td><td> 7.370795e-03</td><td>-8.172656e-03</td><td> 1.162768e-05</td><td>NJ_E         </td></tr>\n",
       "\t<tr><td>-0.0061585496</td><td> 2.624113e-03</td><td>-2.364706e-03</td><td> 1.799066e-03</td><td> 9.440653e-05</td><td> 1.907508e-03</td><td> 3.230242e-03</td><td>-2.248700e-03</td><td>-6.082239e-05</td><td> 1.090549e-04</td><td>⋯            </td><td>-2.377548e-02</td><td>-2.593725e-02</td><td>-1.036034e-02</td><td> 0.0163232370</td><td> 0.0156218492</td><td> 3.871987e-03</td><td> 8.819247e-03</td><td>-1.003454e-02</td><td> 1.163414e-05</td><td>NJ_E         </td></tr>\n",
       "\t<tr><td>-0.0150139687</td><td> 8.868360e-03</td><td>-8.818629e-03</td><td> 1.880300e-03</td><td>-1.674443e-04</td><td> 4.599401e-03</td><td> 1.439048e-02</td><td>-1.233556e-02</td><td>-2.682577e-04</td><td> 8.272755e-04</td><td>⋯            </td><td>-1.394616e-02</td><td>-1.588172e-02</td><td>-6.693126e-03</td><td> 0.0103124558</td><td> 0.0105522076</td><td> 2.880229e-03</td><td> 6.214050e-03</td><td>-6.777502e-03</td><td> 3.446585e-05</td><td>NJ_E         </td></tr>\n",
       "\t<tr><td>-0.0141571094</td><td> 5.035983e-03</td><td>-4.477529e-03</td><td> 7.444945e-03</td><td>-1.217901e-05</td><td> 6.978175e-03</td><td> 9.378620e-03</td><td>-4.445735e-03</td><td>-1.686785e-03</td><td>-4.648523e-04</td><td>⋯            </td><td>-1.384152e-02</td><td>-1.610036e-02</td><td>-6.828180e-03</td><td> 0.0104942975</td><td> 0.0114814746</td><td> 3.356246e-03</td><td> 6.685331e-03</td><td>-7.802489e-03</td><td> 3.576137e-05</td><td>NJ_E         </td></tr>\n",
       "\t<tr><td>-0.0086813276</td><td> 3.953350e-03</td><td>-4.082677e-03</td><td> 1.210387e-03</td><td> 2.418218e-05</td><td> 1.921271e-03</td><td> 6.172340e-03</td><td>-4.733912e-03</td><td>-1.228756e-04</td><td> 4.755672e-04</td><td>⋯            </td><td>-1.909295e-02</td><td>-2.093977e-02</td><td>-8.613604e-03</td><td> 0.0131123264</td><td> 0.0129200485</td><td> 3.426052e-03</td><td> 7.414959e-03</td><td>-8.116950e-03</td><td> 4.622629e-05</td><td>NJ_E         </td></tr>\n",
       "\t<tr><td>-0.0196432357</td><td> 1.281108e-02</td><td>-1.336309e-02</td><td> 3.024633e-03</td><td> 3.827733e-04</td><td> 9.488662e-03</td><td> 2.742306e-02</td><td>-2.200360e-02</td><td> 2.041281e-03</td><td> 1.607222e-03</td><td>⋯            </td><td>-1.274443e-02</td><td>-1.498536e-02</td><td>-6.612080e-03</td><td> 0.0099053936</td><td> 0.0099298370</td><td> 2.885828e-03</td><td> 5.964795e-03</td><td>-6.452900e-03</td><td> 3.104853e-05</td><td>NJ_E         </td></tr>\n",
       "\t<tr><td>-0.0062647054</td><td> 2.685757e-03</td><td>-2.090139e-03</td><td> 1.843331e-03</td><td>-8.289116e-05</td><td> 1.917626e-03</td><td> 3.448495e-03</td><td>-2.251859e-03</td><td>-2.094575e-04</td><td> 3.544283e-04</td><td>⋯            </td><td>-2.510647e-02</td><td>-2.788025e-02</td><td>-1.164642e-02</td><td> 0.0169859297</td><td> 0.0167021964</td><td> 4.304766e-03</td><td> 9.466103e-03</td><td>-1.000257e-02</td><td> 3.374206e-05</td><td>NJ_E         </td></tr>\n",
       "\t<tr><td>-0.0059948241</td><td> 3.229099e-03</td><td>-2.692345e-03</td><td> 5.920129e-04</td><td>-7.526546e-05</td><td> 1.363982e-03</td><td> 3.602041e-03</td><td>-3.062487e-03</td><td>-8.186907e-05</td><td>-1.049963e-04</td><td>⋯            </td><td>-2.675027e-02</td><td>-2.944096e-02</td><td>-1.182845e-02</td><td> 0.0175961743</td><td> 0.0162921115</td><td> 4.228100e-03</td><td> 9.727529e-03</td><td>-1.013341e-02</td><td> 3.395494e-05</td><td>NJ_E         </td></tr>\n",
       "\t<tr><td>-0.0131408082</td><td> 6.500367e-03</td><td>-5.876479e-03</td><td> 4.575823e-03</td><td>-1.994645e-04</td><td> 5.312526e-03</td><td> 1.048291e-02</td><td>-7.790822e-03</td><td>-5.730602e-04</td><td>-1.445941e-04</td><td>⋯            </td><td>-1.417438e-02</td><td>-1.629829e-02</td><td>-6.761830e-03</td><td> 0.0108246148</td><td> 0.0113457075</td><td> 3.013968e-03</td><td> 6.735799e-03</td><td>-7.373153e-03</td><td> 3.651448e-05</td><td>NJ_E         </td></tr>\n",
       "\t<tr><td>-0.0157405050</td><td> 5.986617e-03</td><td>-5.426235e-03</td><td> 1.066535e-02</td><td> 4.295126e-04</td><td> 9.005600e-03</td><td> 1.381087e-02</td><td>-8.798196e-03</td><td>-1.663882e-03</td><td>-3.961047e-04</td><td>⋯            </td><td>-1.297580e-02</td><td>-1.528837e-02</td><td>-6.594364e-03</td><td> 0.0101690933</td><td> 0.0108727069</td><td> 3.343832e-03</td><td> 6.505286e-03</td><td>-7.270418e-03</td><td> 3.362454e-05</td><td>NJ_E         </td></tr>\n",
       "\t<tr><td>-0.0376074475</td><td> 3.895613e-02</td><td>-9.577669e-02</td><td>-9.832997e-01</td><td>-5.597849e-03</td><td>-7.311522e-02</td><td>-7.937190e-02</td><td> 3.803121e-02</td><td> 1.503032e-04</td><td>-1.012093e-03</td><td>⋯            </td><td>-1.174693e-02</td><td>-1.341129e-02</td><td>-5.718094e-03</td><td> 0.0091386072</td><td> 0.0088774286</td><td> 2.374111e-03</td><td> 5.703680e-03</td><td>-6.057023e-03</td><td> 4.012854e-05</td><td>NJ_E         </td></tr>\n",
       "\t<tr><td>-0.0410980965</td><td> 3.407916e-02</td><td> 9.899808e-01</td><td>-7.928314e-02</td><td>-4.525252e-04</td><td>-5.443370e-02</td><td>-4.093841e-02</td><td> 1.626625e-02</td><td> 2.742868e-03</td><td> 2.127848e-04</td><td>⋯            </td><td>-1.099550e-02</td><td>-1.292196e-02</td><td>-5.545083e-03</td><td> 0.0089161636</td><td> 0.0096711899</td><td> 2.835872e-03</td><td> 5.847817e-03</td><td>-6.621390e-03</td><td> 3.219521e-05</td><td>NJ_E         </td></tr>\n",
       "\t<tr><td>-0.0035313027</td><td> 1.359887e-03</td><td>-9.907855e-04</td><td> 8.562218e-04</td><td>-2.860250e-05</td><td> 1.049120e-03</td><td> 2.012083e-03</td><td>-1.375767e-03</td><td>-1.573721e-04</td><td>-1.637380e-04</td><td>⋯            </td><td> 4.654456e-01</td><td>-8.594389e-01</td><td>-5.908650e-02</td><td> 0.0748998879</td><td> 0.0491259119</td><td> 7.054067e-03</td><td> 2.081264e-02</td><td>-2.215695e-02</td><td> 1.170293e-05</td><td>NJ_E         </td></tr>\n",
       "\t<tr><td>-0.0136409095</td><td> 6.738991e-03</td><td>-5.460266e-03</td><td> 5.581214e-03</td><td> 6.630066e-05</td><td> 5.782689e-03</td><td> 1.108099e-02</td><td>-7.469454e-03</td><td>-1.206708e-03</td><td>-4.828856e-04</td><td>⋯            </td><td>-1.426841e-02</td><td>-1.596416e-02</td><td>-6.805086e-03</td><td> 0.0106297858</td><td> 0.0108909088</td><td> 2.847278e-03</td><td> 6.493718e-03</td><td>-7.028543e-03</td><td> 2.380281e-05</td><td>NJ_E         </td></tr>\n",
       "\t<tr><td>-0.0027016345</td><td> 1.149993e-03</td><td>-9.072657e-04</td><td> 7.653918e-04</td><td> 2.504213e-05</td><td> 7.433012e-04</td><td> 1.313020e-03</td><td>-8.891840e-04</td><td>-8.331693e-05</td><td> 3.086615e-04</td><td>⋯            </td><td> 3.038482e-02</td><td> 4.127040e-02</td><td> 2.505763e-02</td><td>-0.0451299566</td><td>-0.0866135367</td><td>-4.303562e-01</td><td> 8.273778e-01</td><td>-3.384276e-01</td><td> 5.654564e-05</td><td>NJ_E         </td></tr>\n",
       "\t<tr><td>-0.0153892758</td><td> 7.070685e-03</td><td>-6.637575e-03</td><td> 5.489043e-03</td><td> 1.125292e-04</td><td> 7.363118e-03</td><td> 1.310885e-02</td><td>-9.908214e-03</td><td>-6.800449e-04</td><td>-1.463182e-03</td><td>⋯            </td><td>-1.375761e-02</td><td>-1.557622e-02</td><td>-6.648607e-03</td><td> 0.0103045749</td><td> 0.0104537779</td><td> 2.827501e-03</td><td> 6.837089e-03</td><td>-7.088349e-03</td><td> 2.288788e-05</td><td>NJ_E         </td></tr>\n",
       "\t<tr><td>-0.0270721603</td><td> 1.445394e-02</td><td>-1.588363e-02</td><td> 3.798299e-02</td><td> 5.091643e-04</td><td> 3.965209e-02</td><td> 1.433327e-01</td><td> 9.768505e-01</td><td> 2.108898e-02</td><td>-3.105415e-03</td><td>⋯            </td><td>-1.144200e-02</td><td>-1.382496e-02</td><td>-5.783855e-03</td><td> 0.0092667907</td><td> 0.0101862040</td><td> 3.019588e-03</td><td> 6.077975e-03</td><td>-6.745940e-03</td><td> 1.981414e-05</td><td>NJ_E         </td></tr>\n",
       "\t<tr><td>-0.0162342003</td><td> 8.808141e-03</td><td>-9.515166e-03</td><td> 3.612985e-03</td><td> 2.091069e-05</td><td> 5.403105e-03</td><td> 1.726654e-02</td><td>-1.427679e-02</td><td>-4.903253e-04</td><td> 1.606881e-03</td><td>⋯            </td><td>-1.378630e-02</td><td>-1.559012e-02</td><td>-6.755864e-03</td><td> 0.0101440546</td><td> 0.0102289280</td><td> 2.825330e-03</td><td> 6.223531e-03</td><td>-6.745775e-03</td><td> 3.364652e-05</td><td>NJ_E         </td></tr>\n",
       "\t<tr><td>-0.0195676294</td><td> 1.169522e-02</td><td>-1.399340e-02</td><td> 5.280232e-03</td><td> 3.407791e-04</td><td> 8.156018e-03</td><td> 2.744664e-02</td><td>-2.262831e-02</td><td> 3.135341e-04</td><td> 1.108131e-03</td><td>⋯            </td><td>-1.304481e-02</td><td>-1.491063e-02</td><td>-6.435869e-03</td><td> 0.0097654699</td><td> 0.0097452338</td><td> 2.692027e-03</td><td> 6.386411e-03</td><td>-6.518957e-03</td><td> 3.134824e-05</td><td>NJ_E         </td></tr>\n",
       "\t<tr><td>-0.0207561989</td><td> 1.116674e-02</td><td>-1.174719e-02</td><td> 1.107806e-02</td><td>-1.263418e-05</td><td> 1.274803e-02</td><td> 3.072628e-02</td><td>-2.425917e-02</td><td>-2.474869e-03</td><td> 3.099953e-03</td><td>⋯            </td><td>-1.239116e-02</td><td>-1.447258e-02</td><td>-6.150509e-03</td><td> 0.0097989929</td><td> 0.0103065910</td><td> 2.910590e-03</td><td> 6.250463e-03</td><td>-6.779512e-03</td><td> 2.095754e-05</td><td>NJ_E         </td></tr>\n",
       "\t<tr><td>-0.0211741642</td><td> 1.154103e-02</td><td>-1.420078e-02</td><td> 1.093669e-02</td><td> 6.382141e-04</td><td> 1.431442e-02</td><td> 3.262081e-02</td><td>-2.753740e-02</td><td>-2.323507e-03</td><td> 3.018530e-03</td><td>⋯            </td><td>-1.228452e-02</td><td>-1.432007e-02</td><td>-6.307637e-03</td><td> 0.0096078135</td><td> 0.0101726848</td><td> 2.785625e-03</td><td> 6.311747e-03</td><td>-6.764633e-03</td><td> 3.018531e-05</td><td>NJ_E         </td></tr>\n",
       "\t<tr><td>-0.0085480389</td><td> 4.456853e-03</td><td>-4.177597e-03</td><td> 1.136397e-03</td><td>-3.875464e-05</td><td> 2.473598e-03</td><td> 5.567012e-03</td><td>-4.384133e-03</td><td>-8.122738e-05</td><td>-7.169289e-06</td><td>⋯            </td><td>-1.796047e-02</td><td>-2.045116e-02</td><td>-8.686875e-03</td><td> 0.0129394810</td><td> 0.0125513282</td><td> 3.082714e-03</td><td> 7.536857e-03</td><td>-7.761094e-03</td><td> 2.838855e-05</td><td>NJ_U         </td></tr>\n",
       "\t<tr><td>-0.0159815223</td><td> 7.086180e-03</td><td>-5.733406e-03</td><td> 1.047335e-02</td><td> 2.263380e-04</td><td> 9.495000e-03</td><td> 1.514437e-02</td><td>-9.413096e-03</td><td>-2.074097e-03</td><td> 2.794304e-04</td><td>⋯            </td><td>-1.314045e-02</td><td>-1.526809e-02</td><td>-6.509319e-03</td><td> 0.0099928478</td><td> 0.0111959759</td><td> 3.401885e-03</td><td> 6.353931e-03</td><td>-7.298796e-03</td><td> 4.449919e-05</td><td>NJ_U         </td></tr>\n",
       "\t<tr><td>-0.0185304218</td><td> 1.127953e-02</td><td>-1.132649e-02</td><td> 3.061982e-03</td><td> 4.322620e-04</td><td> 7.514924e-03</td><td> 2.275060e-02</td><td>-1.843573e-02</td><td>-2.095396e-04</td><td> 7.070374e-04</td><td>⋯            </td><td>-1.301065e-02</td><td>-1.499130e-02</td><td>-6.307449e-03</td><td> 0.0102537553</td><td> 0.0097246686</td><td> 2.877084e-03</td><td> 6.220642e-03</td><td>-6.584601e-03</td><td> 4.217625e-05</td><td>NJ_U         </td></tr>\n",
       "\t<tr><td> 0.4151229406</td><td>-1.633727e-02</td><td> 4.914506e-03</td><td>-1.761679e-03</td><td>-2.064339e-02</td><td> 7.883914e-04</td><td> 9.307182e-03</td><td>-4.210280e-02</td><td> 8.448113e-01</td><td>-9.923950e-03</td><td>⋯            </td><td>-1.453302e-02</td><td>-1.720625e-02</td><td>-7.556636e-03</td><td> 0.0115288984</td><td> 0.0123975220</td><td> 3.579940e-03</td><td> 7.650710e-03</td><td>-8.425799e-03</td><td>-2.600042e-05</td><td>NJ_U         </td></tr>\n",
       "\t<tr><td>-0.0098318394</td><td> 3.423949e-03</td><td>-2.976170e-03</td><td> 4.504815e-03</td><td>-4.405218e-05</td><td> 4.353781e-03</td><td> 5.767407e-03</td><td>-3.347852e-03</td><td>-8.377512e-04</td><td>-1.551547e-04</td><td>⋯            </td><td>-1.555845e-02</td><td>-1.839281e-02</td><td>-7.427280e-03</td><td> 0.0118622786</td><td> 0.0127459352</td><td> 3.541223e-03</td><td> 7.564068e-03</td><td>-8.326385e-03</td><td> 4.225071e-05</td><td>NJ_U         </td></tr>\n",
       "\t<tr><td>-0.0080347492</td><td> 3.902708e-03</td><td>-3.605830e-03</td><td> 4.858832e-04</td><td> 2.425336e-05</td><td> 2.245958e-03</td><td> 5.957723e-03</td><td>-3.856933e-03</td><td>-1.196000e-04</td><td> 1.213248e-04</td><td>⋯            </td><td>-1.944444e-02</td><td>-2.195019e-02</td><td>-9.084142e-03</td><td> 0.0136186928</td><td> 0.0129166168</td><td> 2.940524e-03</td><td> 8.047072e-03</td><td>-8.186353e-03</td><td> 4.777051e-05</td><td>NJ_U         </td></tr>\n",
       "\t<tr><td>-0.0109600307</td><td> 3.978129e-03</td><td>-3.526030e-03</td><td> 6.417628e-03</td><td> 1.452022e-04</td><td> 4.938587e-03</td><td> 7.051026e-03</td><td>-4.239168e-03</td><td>-8.238617e-04</td><td>-1.314382e-04</td><td>⋯            </td><td>-1.525364e-02</td><td>-1.727542e-02</td><td>-7.586920e-03</td><td> 0.0115337582</td><td> 0.0122347529</td><td> 3.873637e-03</td><td> 7.101119e-03</td><td>-8.178501e-03</td><td> 3.983752e-05</td><td>NJ_U         </td></tr>\n",
       "\t<tr><td>-0.0077705911</td><td> 3.264977e-03</td><td>-2.867175e-03</td><td> 3.021165e-03</td><td>-5.450697e-05</td><td> 2.193328e-03</td><td> 4.943801e-03</td><td>-3.691638e-03</td><td>-3.432331e-04</td><td>-1.031676e-04</td><td>⋯            </td><td>-1.868103e-02</td><td>-2.112368e-02</td><td>-9.150055e-03</td><td> 0.0138474322</td><td> 0.0134909297</td><td> 4.096673e-03</td><td> 7.969710e-03</td><td>-8.729198e-03</td><td> 2.960965e-05</td><td>NJ_U         </td></tr>\n",
       "\t<tr><td>⋮</td><td>⋮</td><td>⋮</td><td>⋮</td><td>⋮</td><td>⋮</td><td>⋮</td><td>⋮</td><td>⋮</td><td>⋮</td><td>⋱</td><td>⋮</td><td>⋮</td><td>⋮</td><td>⋮</td><td>⋮</td><td>⋮</td><td>⋮</td><td>⋮</td><td>⋮</td><td>⋮</td></tr>\n",
       "\t<tr><td>-0.014765048 </td><td> 0.006346952 </td><td>-0.007470522 </td><td> 0.0066149611</td><td> 5.234006e-04</td><td> 0.006556560 </td><td> 0.014601173 </td><td>-0.010768703 </td><td>-4.671027e-04</td><td>-1.555326e-03</td><td>⋯            </td><td>-0.01355340  </td><td>-0.01579562  </td><td>-0.006625669 </td><td>0.010587637  </td><td>0.011059439  </td><td>0.003021097  </td><td>0.006297195  </td><td>-0.007209481 </td><td> 4.601587e-05</td><td>VT_E         </td></tr>\n",
       "\t<tr><td>-0.006874186 </td><td> 0.001978552 </td><td>-0.001779857 </td><td> 0.0033275774</td><td> 4.670990e-05</td><td> 0.002414765 </td><td> 0.004239842 </td><td>-0.002245601 </td><td>-3.571184e-04</td><td>-5.225820e-04</td><td>⋯            </td><td>-0.01957374  </td><td>-0.02272363  </td><td>-0.009523867 </td><td>0.014940790  </td><td>0.015154232  </td><td>0.004077276  </td><td>0.008423757  </td><td>-0.009391827 </td><td> 5.099755e-05</td><td>VT_E         </td></tr>\n",
       "\t<tr><td>-0.005757898 </td><td> 0.001795911 </td><td>-0.001507506 </td><td> 0.0023989429</td><td> 7.343040e-05</td><td> 0.002132160 </td><td> 0.003088756 </td><td>-0.001737816 </td><td>-2.032816e-04</td><td> 2.373456e-04</td><td>⋯            </td><td>-0.02509085  </td><td>-0.02791890  </td><td>-0.011136371 </td><td>0.017452777  </td><td>0.017418382  </td><td>0.004385894  </td><td>0.009789026  </td><td>-0.010837587 </td><td> 1.172403e-05</td><td>VT_E         </td></tr>\n",
       "\t<tr><td>-0.008515812 </td><td> 0.002630215 </td><td>-0.002183942 </td><td> 0.0036889835</td><td>-7.583903e-06</td><td> 0.003344056 </td><td> 0.005235468 </td><td>-0.002735444 </td><td>-4.042699e-04</td><td> 1.403229e-04</td><td>⋯            </td><td>-0.01735647  </td><td>-0.02000608  </td><td>-0.008476066 </td><td>0.012985643  </td><td>0.013887938  </td><td>0.004015495  </td><td>0.007938265  </td><td>-0.009003414 </td><td> 2.852543e-05</td><td>VT_E         </td></tr>\n",
       "\t<tr><td>-0.018255665 </td><td> 0.010310788 </td><td>-0.011653569 </td><td> 0.0049762689</td><td> 7.207044e-05</td><td> 0.007423019 </td><td> 0.022700874 </td><td>-0.018420618 </td><td> 1.303214e-04</td><td> 1.917213e-03</td><td>⋯            </td><td>-0.01304338  </td><td>-0.01533540  </td><td>-0.006474924 </td><td>0.010150512  </td><td>0.009997340  </td><td>0.002725839  </td><td>0.006023433  </td><td>-0.006699218 </td><td> 3.214074e-05</td><td>VT_E         </td></tr>\n",
       "\t<tr><td>-0.011145181 </td><td> 0.005264007 </td><td>-0.004326871 </td><td> 0.0033049140</td><td> 1.718387e-04</td><td> 0.005022384 </td><td> 0.007817611 </td><td>-0.005399486 </td><td>-3.583379e-04</td><td> 4.416412e-04</td><td>⋯            </td><td>-0.01559587  </td><td>-0.01745313  </td><td>-0.007219125 </td><td>0.011500339  </td><td>0.011415416  </td><td>0.003291452  </td><td>0.006824217  </td><td>-0.007520901 </td><td> 3.970789e-05</td><td>VT_E         </td></tr>\n",
       "\t<tr><td>-0.012891594 </td><td> 0.004801416 </td><td>-0.003818677 </td><td> 0.0072054218</td><td> 2.094065e-04</td><td> 0.006365986 </td><td> 0.009790984 </td><td>-0.004846357 </td><td>-8.387702e-04</td><td>-1.127225e-03</td><td>⋯            </td><td>-0.01340469  </td><td>-0.01596691  </td><td>-0.007090090 </td><td>0.010502964  </td><td>0.011699985  </td><td>0.003399711  </td><td>0.006731925  </td><td>-0.007724295 </td><td> 2.416139e-05</td><td>VT_E         </td></tr>\n",
       "\t<tr><td>-0.010726029 </td><td> 0.004115787 </td><td>-0.002707472 </td><td> 0.0051027410</td><td> 8.979105e-05</td><td> 0.004017658 </td><td> 0.007061933 </td><td>-0.004104452 </td><td>-9.637454e-04</td><td>-3.795180e-04</td><td>⋯            </td><td>-0.01506854  </td><td>-0.01756322  </td><td>-0.007505170 </td><td>0.011596617  </td><td>0.012256461  </td><td>0.003959797  </td><td>0.007149575  </td><td>-0.008156746 </td><td> 4.019198e-05</td><td>VT_E         </td></tr>\n",
       "\t<tr><td> 0.247933429 </td><td>-0.007499787 </td><td> 0.001414537 </td><td>-0.0001622677</td><td>-8.798500e-03</td><td> 0.001055846 </td><td> 0.003152221 </td><td>-0.008115880 </td><td> 9.662575e-02</td><td>-1.729265e-03</td><td>⋯            </td><td>-0.01683184  </td><td>-0.01977676  </td><td>-0.008543556 </td><td>0.013280782  </td><td>0.013868357  </td><td>0.003970608  </td><td>0.008657551  </td><td>-0.009281697 </td><td>-3.145303e-05</td><td>VT_U         </td></tr>\n",
       "\t<tr><td>-0.011168873 </td><td> 0.004177503 </td><td>-0.003244903 </td><td> 0.0059964199</td><td> 4.753864e-05</td><td> 0.004886571 </td><td> 0.008014811 </td><td>-0.003833173 </td><td>-9.523740e-04</td><td>-5.019202e-04</td><td>⋯            </td><td>-0.01459844  </td><td>-0.01704430  </td><td>-0.007130794 </td><td>0.010957385  </td><td>0.012156299  </td><td>0.003238980  </td><td>0.007157066  </td><td>-0.007703545 </td><td> 1.164946e-05</td><td>VT_U         </td></tr>\n",
       "\t<tr><td>-0.013633288 </td><td> 0.004986209 </td><td>-0.005031711 </td><td> 0.0074275174</td><td> 5.394464e-05</td><td> 0.006099832 </td><td> 0.011092855 </td><td>-0.006702897 </td><td>-1.633022e-03</td><td>-1.964916e-03</td><td>⋯            </td><td>-0.01283196  </td><td>-0.01557527  </td><td>-0.006668080 </td><td>0.010435743  </td><td>0.011606959  </td><td>0.002963324  </td><td>0.006646467  </td><td>-0.007588542 </td><td> 2.365613e-05</td><td>VT_U         </td></tr>\n",
       "\t<tr><td>-0.024844014 </td><td> 0.012721959 </td><td>-0.014009939 </td><td> 0.0291815758</td><td> 8.891313e-05</td><td> 0.027528975 </td><td> 0.074642890 </td><td>-0.093287946 </td><td>-2.050466e-01</td><td>-6.957844e-01</td><td>⋯            </td><td>-0.01168365  </td><td>-0.01371374  </td><td>-0.006135636 </td><td>0.009117744  </td><td>0.010073500  </td><td>0.002914290  </td><td>0.006130319  </td><td>-0.006974171 </td><td> 2.021869e-05</td><td>VT_U         </td></tr>\n",
       "\t<tr><td>-0.007193115 </td><td> 0.002052581 </td><td>-0.001806364 </td><td> 0.0040517192</td><td> 1.926395e-05</td><td> 0.002394345 </td><td> 0.003938292 </td><td>-0.002683190 </td><td>-5.827311e-04</td><td>-5.916040e-04</td><td>⋯            </td><td>-0.02035869  </td><td>-0.02277957  </td><td>-0.009578185 </td><td>0.014553468  </td><td>0.015291467  </td><td>0.004403944  </td><td>0.008641186  </td><td>-0.009654774 </td><td> 5.033308e-05</td><td>VT_U         </td></tr>\n",
       "\t<tr><td>-0.011951010 </td><td> 0.004435084 </td><td>-0.003431784 </td><td> 0.0070452794</td><td> 1.463316e-03</td><td> 0.005964733 </td><td> 0.009434879 </td><td>-0.004752135 </td><td>-1.894419e-03</td><td>-1.437968e-03</td><td>⋯            </td><td>-0.01412067  </td><td>-0.01642666  </td><td>-0.007339497 </td><td>0.010880706  </td><td>0.011733061  </td><td>0.003515789  </td><td>0.006920958  </td><td>-0.007629845 </td><td> 3.723514e-05</td><td>VT_U         </td></tr>\n",
       "\t<tr><td> 0.620419866 </td><td>-0.034273235 </td><td> 0.022035672 </td><td>-0.0280457611</td><td> 7.015161e-01</td><td> 0.007682506 </td><td>-0.014828767 </td><td> 0.028792556 </td><td>-3.058806e-01</td><td> 3.979573e-03</td><td>⋯            </td><td>-0.01326719  </td><td>-0.01571422  </td><td>-0.006872298 </td><td>0.010598854  </td><td>0.011357616  </td><td>0.003309923  </td><td>0.007100811  </td><td>-0.007830678 </td><td>-3.353047e-05</td><td>VT_U         </td></tr>\n",
       "\t<tr><td>-0.013801473 </td><td> 0.004829592 </td><td>-0.003791951 </td><td> 0.0088395834</td><td>-9.613491e-05</td><td> 0.007370560 </td><td> 0.010004105 </td><td>-0.005675959 </td><td>-1.572364e-03</td><td>-2.862375e-03</td><td>⋯            </td><td>-0.01325739  </td><td>-0.01581620  </td><td>-0.006834898 </td><td>0.010661149  </td><td>0.011234033  </td><td>0.003402349  </td><td>0.006709710  </td><td>-0.007576614 </td><td> 2.367565e-05</td><td>VT_U         </td></tr>\n",
       "\t<tr><td>-0.018896093 </td><td> 0.010566667 </td><td>-0.009713486 </td><td> 0.0085320394</td><td> 3.662895e-04</td><td> 0.010670542 </td><td> 0.025962134 </td><td>-0.021173349 </td><td>-1.130387e-03</td><td>-1.237247e-03</td><td>⋯            </td><td>-0.01267506  </td><td>-0.01476442  </td><td>-0.006535187 </td><td>0.009970940  </td><td>0.010219821  </td><td>0.003054222  </td><td>0.006283842  </td><td>-0.006946045 </td><td> 3.128662e-05</td><td>VT_U         </td></tr>\n",
       "\t<tr><td>-0.062408113 </td><td>-0.994578986 </td><td> 0.021915580 </td><td>-0.0302163769</td><td>-4.319736e-05</td><td>-0.019125921 </td><td>-0.021427490 </td><td> 0.010623137 </td><td> 1.252296e-03</td><td> 5.314622e-04</td><td>⋯            </td><td>-0.01074378  </td><td>-0.01264734  </td><td>-0.005545082 </td><td>0.008672521  </td><td>0.009315652  </td><td>0.002773787  </td><td>0.005825448  </td><td>-0.006346712 </td><td> 3.549501e-05</td><td>VT_U         </td></tr>\n",
       "\t<tr><td>-0.009362377 </td><td> 0.003208241 </td><td>-0.002245542 </td><td> 0.0040333014</td><td> 4.415615e-07</td><td> 0.003698326 </td><td> 0.004885108 </td><td>-0.003194152 </td><td>-8.966229e-04</td><td>-9.009238e-05</td><td>⋯            </td><td>-0.01622207  </td><td>-0.01898398  </td><td>-0.008035266 </td><td>0.012090195  </td><td>0.013150369  </td><td>0.003586929  </td><td>0.007459274  </td><td>-0.008753711 </td><td> 2.747403e-05</td><td>VT_U         </td></tr>\n",
       "\t<tr><td>-0.004056792 </td><td> 0.001088274 </td><td>-0.000802955 </td><td> 0.0014233884</td><td>-4.577454e-05</td><td> 0.001434498 </td><td> 0.001956521 </td><td>-0.001214292 </td><td>-1.334035e-04</td><td>-4.030881e-04</td><td>⋯            </td><td>-0.07396876  </td><td>-0.06973822  </td><td>-0.023368093 </td><td>0.033020787  </td><td>0.030232642  </td><td>0.006937172  </td><td>0.014980863  </td><td>-0.015572555 </td><td> 1.184958e-05</td><td>VT_U         </td></tr>\n",
       "\t<tr><td>-0.012469950 </td><td> 0.004784641 </td><td>-0.004066478 </td><td> 0.0069040158</td><td> 2.551312e-04</td><td> 0.006295493 </td><td> 0.008585837 </td><td>-0.004217750 </td><td>-1.031822e-03</td><td>-7.351020e-04</td><td>⋯            </td><td>-0.01389520  </td><td>-0.01610764  </td><td>-0.007040158 </td><td>0.010647211  </td><td>0.011707817  </td><td>0.003429556  </td><td>0.006798523  </td><td>-0.007557208 </td><td> 2.451155e-05</td><td>VT_U         </td></tr>\n",
       "\t<tr><td>-0.009682250 </td><td> 0.004750606 </td><td>-0.004064299 </td><td> 0.0064555048</td><td> 1.394042e-04</td><td> 0.006035300 </td><td> 0.008854061 </td><td>-0.006028221 </td><td> 3.700084e-04</td><td>-1.096247e-03</td><td>⋯            </td><td>-0.01772749  </td><td>-0.02034672  </td><td>-0.008764576 </td><td>0.013222496  </td><td>0.013781931  </td><td>0.004211695  </td><td>0.008114926  </td><td>-0.009108867 </td><td> 5.774270e-05</td><td>VT_U         </td></tr>\n",
       "\t<tr><td>-0.024969320 </td><td> 0.013063691 </td><td>-0.013764876 </td><td> 0.0268525982</td><td> 3.907444e-04</td><td> 0.033052283 </td><td> 0.072246060 </td><td>-0.086759717 </td><td>-1.828238e-01</td><td> 7.180595e-01</td><td>⋯            </td><td>-0.01182781  </td><td>-0.01397535  </td><td>-0.006247005 </td><td>0.009371311  </td><td>0.010271101  </td><td>0.003297981  </td><td>0.005884212  </td><td>-0.006817162 </td><td> 4.545991e-05</td><td>VT_U         </td></tr>\n",
       "\t<tr><td>-0.019979112 </td><td> 0.008557633 </td><td>-0.009018516 </td><td> 0.0136598851</td><td> 3.472864e-04</td><td> 0.011337582 </td><td> 0.023919179 </td><td>-0.012755397 </td><td>-3.540582e-03</td><td>-1.782477e-05</td><td>⋯            </td><td>-0.01254098  </td><td>-0.01455521  </td><td>-0.006188177 </td><td>0.009733369  </td><td>0.010603459  </td><td>0.003072848  </td><td>0.006259113  </td><td>-0.007210967 </td><td> 5.012147e-05</td><td>VT_U         </td></tr>\n",
       "\t<tr><td>-0.014922009 </td><td> 0.006248846 </td><td>-0.004720562 </td><td> 0.0090269106</td><td> 1.048226e-04</td><td> 0.006890341 </td><td> 0.012542169 </td><td>-0.008590538 </td><td>-1.460520e-03</td><td>-1.636671e-04</td><td>⋯            </td><td>-0.01309785  </td><td>-0.01575001  </td><td>-0.007063808 </td><td>0.010468430  </td><td>0.011316183  </td><td>0.003483095  </td><td>0.006623598  </td><td>-0.007572050 </td><td> 3.456633e-05</td><td>VT_U         </td></tr>\n",
       "\t<tr><td>-0.016097942 </td><td> 0.007523434 </td><td>-0.005262798 </td><td> 0.0094191844</td><td> 1.540860e-04</td><td> 0.010119060 </td><td> 0.015378624 </td><td>-0.009227099 </td><td>-1.836644e-03</td><td> 3.358260e-03</td><td>⋯            </td><td>-0.01292898  </td><td>-0.01513420  </td><td>-0.006602797 </td><td>0.010109458  </td><td>0.010972649  </td><td>0.003456667  </td><td>0.006470804  </td><td>-0.007218564 </td><td> 4.391780e-05</td><td>VT_U         </td></tr>\n",
       "\t<tr><td>-0.014837915 </td><td> 0.006491058 </td><td>-0.004827980 </td><td> 0.0086350784</td><td> 1.977242e-04</td><td> 0.007608328 </td><td> 0.011943854 </td><td>-0.005452061 </td><td>-2.374303e-03</td><td>-2.158471e-04</td><td>⋯            </td><td>-0.01323772  </td><td>-0.01587328  </td><td>-0.006558357 </td><td>0.010331267  </td><td>0.010998572  </td><td>0.003483012  </td><td>0.006676250  </td><td>-0.007604702 </td><td> 3.468067e-05</td><td>VT_U         </td></tr>\n",
       "\t<tr><td>-0.016761589 </td><td> 0.009022047 </td><td>-0.009207999 </td><td> 0.0128196289</td><td> 1.709937e-04</td><td> 0.010831041 </td><td> 0.019486762 </td><td>-0.015985526 </td><td>-1.600285e-05</td><td>-1.616371e-03</td><td>⋯            </td><td>-0.01313844  </td><td>-0.01545461  </td><td>-0.006866463 </td><td>0.010507423  </td><td>0.011192493  </td><td>0.003272736  </td><td>0.006608809  </td><td>-0.007415651 </td><td> 4.125392e-05</td><td>VT_U         </td></tr>\n",
       "\t<tr><td>-0.012706595 </td><td> 0.004097781 </td><td>-0.004877855 </td><td> 0.0077010710</td><td> 2.117717e-04</td><td> 0.005993803 </td><td> 0.010091116 </td><td>-0.006533940 </td><td>-1.071594e-03</td><td>-8.953575e-05</td><td>⋯            </td><td>-0.01390949  </td><td>-0.01617656  </td><td>-0.007190000 </td><td>0.010747597  </td><td>0.011636756  </td><td>0.003576941  </td><td>0.006862503  </td><td>-0.007674376 </td><td> 3.639437e-05</td><td>VT_U         </td></tr>\n",
       "\t<tr><td>-0.005633894 </td><td> 0.001799145 </td><td>-0.001364577 </td><td> 0.0023908197</td><td> 1.928482e-05</td><td> 0.001572921 </td><td> 0.002760810 </td><td>-0.001391707 </td><td>-3.520815e-04</td><td> 5.226481e-04</td><td>⋯            </td><td>-0.02963939  </td><td>-0.03281660  </td><td>-0.012997545 </td><td>0.018787583  </td><td>0.019643289  </td><td>0.005795565  </td><td>0.010598838  </td><td>-0.012079208 </td><td> 3.559453e-05</td><td>VT_U         </td></tr>\n",
       "</tbody>\n",
       "</table>\n"
      ],
      "text/latex": [
       "\\begin{tabular}{r|lllllllllllllllllllllllllllllllllllllllllllllllllllllllllllllllllllllllllllllllllllllllllllllllllllllllllllllllllllllllllllllllllllllllll}\n",
       " PC1 & PC2 & PC3 & PC4 & PC5 & PC6 & PC7 & PC8 & PC9 & PC10 & ⋯ & PC128 & PC129 & PC130 & PC131 & PC132 & PC133 & PC134 & PC135 & PC136 & Pop\\\\\n",
       "\\hline\n",
       "\t  0.0001045627 &  8.742575e-06 & -5.403543e-06 &  1.465511e-05 &  1.321112e-06 &  9.308567e-06 &  1.660583e-05 &  3.105730e-06 &  1.989282e-05 & -1.873556e-05 & ⋯             &  3.583077e-05 &  7.372558e-05 &  4.594382e-05 & -0.0000169125 & -0.0000519697 &  1.401270e-06 & -7.472238e-05 &  5.728101e-05 &  9.999999e-01 & NJ\\_E       \\\\\n",
       "\t -0.0095141367 &  4.815358e-03 & -3.585374e-03 &  3.205088e-03 &  5.836631e-05 &  3.663636e-03 &  7.336985e-03 & -4.989783e-03 & -2.328281e-04 &  4.573036e-04 & ⋯             & -1.598700e-02 & -1.856954e-02 & -7.963892e-03 &  0.0118533961 &  0.0119510917 &  3.455966e-03 &  7.370795e-03 & -8.172656e-03 &  1.162768e-05 & NJ\\_E       \\\\\n",
       "\t -0.0061585496 &  2.624113e-03 & -2.364706e-03 &  1.799066e-03 &  9.440653e-05 &  1.907508e-03 &  3.230242e-03 & -2.248700e-03 & -6.082239e-05 &  1.090549e-04 & ⋯             & -2.377548e-02 & -2.593725e-02 & -1.036034e-02 &  0.0163232370 &  0.0156218492 &  3.871987e-03 &  8.819247e-03 & -1.003454e-02 &  1.163414e-05 & NJ\\_E       \\\\\n",
       "\t -0.0150139687 &  8.868360e-03 & -8.818629e-03 &  1.880300e-03 & -1.674443e-04 &  4.599401e-03 &  1.439048e-02 & -1.233556e-02 & -2.682577e-04 &  8.272755e-04 & ⋯             & -1.394616e-02 & -1.588172e-02 & -6.693126e-03 &  0.0103124558 &  0.0105522076 &  2.880229e-03 &  6.214050e-03 & -6.777502e-03 &  3.446585e-05 & NJ\\_E       \\\\\n",
       "\t -0.0141571094 &  5.035983e-03 & -4.477529e-03 &  7.444945e-03 & -1.217901e-05 &  6.978175e-03 &  9.378620e-03 & -4.445735e-03 & -1.686785e-03 & -4.648523e-04 & ⋯             & -1.384152e-02 & -1.610036e-02 & -6.828180e-03 &  0.0104942975 &  0.0114814746 &  3.356246e-03 &  6.685331e-03 & -7.802489e-03 &  3.576137e-05 & NJ\\_E       \\\\\n",
       "\t -0.0086813276 &  3.953350e-03 & -4.082677e-03 &  1.210387e-03 &  2.418218e-05 &  1.921271e-03 &  6.172340e-03 & -4.733912e-03 & -1.228756e-04 &  4.755672e-04 & ⋯             & -1.909295e-02 & -2.093977e-02 & -8.613604e-03 &  0.0131123264 &  0.0129200485 &  3.426052e-03 &  7.414959e-03 & -8.116950e-03 &  4.622629e-05 & NJ\\_E       \\\\\n",
       "\t -0.0196432357 &  1.281108e-02 & -1.336309e-02 &  3.024633e-03 &  3.827733e-04 &  9.488662e-03 &  2.742306e-02 & -2.200360e-02 &  2.041281e-03 &  1.607222e-03 & ⋯             & -1.274443e-02 & -1.498536e-02 & -6.612080e-03 &  0.0099053936 &  0.0099298370 &  2.885828e-03 &  5.964795e-03 & -6.452900e-03 &  3.104853e-05 & NJ\\_E       \\\\\n",
       "\t -0.0062647054 &  2.685757e-03 & -2.090139e-03 &  1.843331e-03 & -8.289116e-05 &  1.917626e-03 &  3.448495e-03 & -2.251859e-03 & -2.094575e-04 &  3.544283e-04 & ⋯             & -2.510647e-02 & -2.788025e-02 & -1.164642e-02 &  0.0169859297 &  0.0167021964 &  4.304766e-03 &  9.466103e-03 & -1.000257e-02 &  3.374206e-05 & NJ\\_E       \\\\\n",
       "\t -0.0059948241 &  3.229099e-03 & -2.692345e-03 &  5.920129e-04 & -7.526546e-05 &  1.363982e-03 &  3.602041e-03 & -3.062487e-03 & -8.186907e-05 & -1.049963e-04 & ⋯             & -2.675027e-02 & -2.944096e-02 & -1.182845e-02 &  0.0175961743 &  0.0162921115 &  4.228100e-03 &  9.727529e-03 & -1.013341e-02 &  3.395494e-05 & NJ\\_E       \\\\\n",
       "\t -0.0131408082 &  6.500367e-03 & -5.876479e-03 &  4.575823e-03 & -1.994645e-04 &  5.312526e-03 &  1.048291e-02 & -7.790822e-03 & -5.730602e-04 & -1.445941e-04 & ⋯             & -1.417438e-02 & -1.629829e-02 & -6.761830e-03 &  0.0108246148 &  0.0113457075 &  3.013968e-03 &  6.735799e-03 & -7.373153e-03 &  3.651448e-05 & NJ\\_E       \\\\\n",
       "\t -0.0157405050 &  5.986617e-03 & -5.426235e-03 &  1.066535e-02 &  4.295126e-04 &  9.005600e-03 &  1.381087e-02 & -8.798196e-03 & -1.663882e-03 & -3.961047e-04 & ⋯             & -1.297580e-02 & -1.528837e-02 & -6.594364e-03 &  0.0101690933 &  0.0108727069 &  3.343832e-03 &  6.505286e-03 & -7.270418e-03 &  3.362454e-05 & NJ\\_E       \\\\\n",
       "\t -0.0376074475 &  3.895613e-02 & -9.577669e-02 & -9.832997e-01 & -5.597849e-03 & -7.311522e-02 & -7.937190e-02 &  3.803121e-02 &  1.503032e-04 & -1.012093e-03 & ⋯             & -1.174693e-02 & -1.341129e-02 & -5.718094e-03 &  0.0091386072 &  0.0088774286 &  2.374111e-03 &  5.703680e-03 & -6.057023e-03 &  4.012854e-05 & NJ\\_E       \\\\\n",
       "\t -0.0410980965 &  3.407916e-02 &  9.899808e-01 & -7.928314e-02 & -4.525252e-04 & -5.443370e-02 & -4.093841e-02 &  1.626625e-02 &  2.742868e-03 &  2.127848e-04 & ⋯             & -1.099550e-02 & -1.292196e-02 & -5.545083e-03 &  0.0089161636 &  0.0096711899 &  2.835872e-03 &  5.847817e-03 & -6.621390e-03 &  3.219521e-05 & NJ\\_E       \\\\\n",
       "\t -0.0035313027 &  1.359887e-03 & -9.907855e-04 &  8.562218e-04 & -2.860250e-05 &  1.049120e-03 &  2.012083e-03 & -1.375767e-03 & -1.573721e-04 & -1.637380e-04 & ⋯             &  4.654456e-01 & -8.594389e-01 & -5.908650e-02 &  0.0748998879 &  0.0491259119 &  7.054067e-03 &  2.081264e-02 & -2.215695e-02 &  1.170293e-05 & NJ\\_E       \\\\\n",
       "\t -0.0136409095 &  6.738991e-03 & -5.460266e-03 &  5.581214e-03 &  6.630066e-05 &  5.782689e-03 &  1.108099e-02 & -7.469454e-03 & -1.206708e-03 & -4.828856e-04 & ⋯             & -1.426841e-02 & -1.596416e-02 & -6.805086e-03 &  0.0106297858 &  0.0108909088 &  2.847278e-03 &  6.493718e-03 & -7.028543e-03 &  2.380281e-05 & NJ\\_E       \\\\\n",
       "\t -0.0027016345 &  1.149993e-03 & -9.072657e-04 &  7.653918e-04 &  2.504213e-05 &  7.433012e-04 &  1.313020e-03 & -8.891840e-04 & -8.331693e-05 &  3.086615e-04 & ⋯             &  3.038482e-02 &  4.127040e-02 &  2.505763e-02 & -0.0451299566 & -0.0866135367 & -4.303562e-01 &  8.273778e-01 & -3.384276e-01 &  5.654564e-05 & NJ\\_E       \\\\\n",
       "\t -0.0153892758 &  7.070685e-03 & -6.637575e-03 &  5.489043e-03 &  1.125292e-04 &  7.363118e-03 &  1.310885e-02 & -9.908214e-03 & -6.800449e-04 & -1.463182e-03 & ⋯             & -1.375761e-02 & -1.557622e-02 & -6.648607e-03 &  0.0103045749 &  0.0104537779 &  2.827501e-03 &  6.837089e-03 & -7.088349e-03 &  2.288788e-05 & NJ\\_E       \\\\\n",
       "\t -0.0270721603 &  1.445394e-02 & -1.588363e-02 &  3.798299e-02 &  5.091643e-04 &  3.965209e-02 &  1.433327e-01 &  9.768505e-01 &  2.108898e-02 & -3.105415e-03 & ⋯             & -1.144200e-02 & -1.382496e-02 & -5.783855e-03 &  0.0092667907 &  0.0101862040 &  3.019588e-03 &  6.077975e-03 & -6.745940e-03 &  1.981414e-05 & NJ\\_E       \\\\\n",
       "\t -0.0162342003 &  8.808141e-03 & -9.515166e-03 &  3.612985e-03 &  2.091069e-05 &  5.403105e-03 &  1.726654e-02 & -1.427679e-02 & -4.903253e-04 &  1.606881e-03 & ⋯             & -1.378630e-02 & -1.559012e-02 & -6.755864e-03 &  0.0101440546 &  0.0102289280 &  2.825330e-03 &  6.223531e-03 & -6.745775e-03 &  3.364652e-05 & NJ\\_E       \\\\\n",
       "\t -0.0195676294 &  1.169522e-02 & -1.399340e-02 &  5.280232e-03 &  3.407791e-04 &  8.156018e-03 &  2.744664e-02 & -2.262831e-02 &  3.135341e-04 &  1.108131e-03 & ⋯             & -1.304481e-02 & -1.491063e-02 & -6.435869e-03 &  0.0097654699 &  0.0097452338 &  2.692027e-03 &  6.386411e-03 & -6.518957e-03 &  3.134824e-05 & NJ\\_E       \\\\\n",
       "\t -0.0207561989 &  1.116674e-02 & -1.174719e-02 &  1.107806e-02 & -1.263418e-05 &  1.274803e-02 &  3.072628e-02 & -2.425917e-02 & -2.474869e-03 &  3.099953e-03 & ⋯             & -1.239116e-02 & -1.447258e-02 & -6.150509e-03 &  0.0097989929 &  0.0103065910 &  2.910590e-03 &  6.250463e-03 & -6.779512e-03 &  2.095754e-05 & NJ\\_E       \\\\\n",
       "\t -0.0211741642 &  1.154103e-02 & -1.420078e-02 &  1.093669e-02 &  6.382141e-04 &  1.431442e-02 &  3.262081e-02 & -2.753740e-02 & -2.323507e-03 &  3.018530e-03 & ⋯             & -1.228452e-02 & -1.432007e-02 & -6.307637e-03 &  0.0096078135 &  0.0101726848 &  2.785625e-03 &  6.311747e-03 & -6.764633e-03 &  3.018531e-05 & NJ\\_E       \\\\\n",
       "\t -0.0085480389 &  4.456853e-03 & -4.177597e-03 &  1.136397e-03 & -3.875464e-05 &  2.473598e-03 &  5.567012e-03 & -4.384133e-03 & -8.122738e-05 & -7.169289e-06 & ⋯             & -1.796047e-02 & -2.045116e-02 & -8.686875e-03 &  0.0129394810 &  0.0125513282 &  3.082714e-03 &  7.536857e-03 & -7.761094e-03 &  2.838855e-05 & NJ\\_U       \\\\\n",
       "\t -0.0159815223 &  7.086180e-03 & -5.733406e-03 &  1.047335e-02 &  2.263380e-04 &  9.495000e-03 &  1.514437e-02 & -9.413096e-03 & -2.074097e-03 &  2.794304e-04 & ⋯             & -1.314045e-02 & -1.526809e-02 & -6.509319e-03 &  0.0099928478 &  0.0111959759 &  3.401885e-03 &  6.353931e-03 & -7.298796e-03 &  4.449919e-05 & NJ\\_U       \\\\\n",
       "\t -0.0185304218 &  1.127953e-02 & -1.132649e-02 &  3.061982e-03 &  4.322620e-04 &  7.514924e-03 &  2.275060e-02 & -1.843573e-02 & -2.095396e-04 &  7.070374e-04 & ⋯             & -1.301065e-02 & -1.499130e-02 & -6.307449e-03 &  0.0102537553 &  0.0097246686 &  2.877084e-03 &  6.220642e-03 & -6.584601e-03 &  4.217625e-05 & NJ\\_U       \\\\\n",
       "\t  0.4151229406 & -1.633727e-02 &  4.914506e-03 & -1.761679e-03 & -2.064339e-02 &  7.883914e-04 &  9.307182e-03 & -4.210280e-02 &  8.448113e-01 & -9.923950e-03 & ⋯             & -1.453302e-02 & -1.720625e-02 & -7.556636e-03 &  0.0115288984 &  0.0123975220 &  3.579940e-03 &  7.650710e-03 & -8.425799e-03 & -2.600042e-05 & NJ\\_U       \\\\\n",
       "\t -0.0098318394 &  3.423949e-03 & -2.976170e-03 &  4.504815e-03 & -4.405218e-05 &  4.353781e-03 &  5.767407e-03 & -3.347852e-03 & -8.377512e-04 & -1.551547e-04 & ⋯             & -1.555845e-02 & -1.839281e-02 & -7.427280e-03 &  0.0118622786 &  0.0127459352 &  3.541223e-03 &  7.564068e-03 & -8.326385e-03 &  4.225071e-05 & NJ\\_U       \\\\\n",
       "\t -0.0080347492 &  3.902708e-03 & -3.605830e-03 &  4.858832e-04 &  2.425336e-05 &  2.245958e-03 &  5.957723e-03 & -3.856933e-03 & -1.196000e-04 &  1.213248e-04 & ⋯             & -1.944444e-02 & -2.195019e-02 & -9.084142e-03 &  0.0136186928 &  0.0129166168 &  2.940524e-03 &  8.047072e-03 & -8.186353e-03 &  4.777051e-05 & NJ\\_U       \\\\\n",
       "\t -0.0109600307 &  3.978129e-03 & -3.526030e-03 &  6.417628e-03 &  1.452022e-04 &  4.938587e-03 &  7.051026e-03 & -4.239168e-03 & -8.238617e-04 & -1.314382e-04 & ⋯             & -1.525364e-02 & -1.727542e-02 & -7.586920e-03 &  0.0115337582 &  0.0122347529 &  3.873637e-03 &  7.101119e-03 & -8.178501e-03 &  3.983752e-05 & NJ\\_U       \\\\\n",
       "\t -0.0077705911 &  3.264977e-03 & -2.867175e-03 &  3.021165e-03 & -5.450697e-05 &  2.193328e-03 &  4.943801e-03 & -3.691638e-03 & -3.432331e-04 & -1.031676e-04 & ⋯             & -1.868103e-02 & -2.112368e-02 & -9.150055e-03 &  0.0138474322 &  0.0134909297 &  4.096673e-03 &  7.969710e-03 & -8.729198e-03 &  2.960965e-05 & NJ\\_U       \\\\\n",
       "\t ⋮ & ⋮ & ⋮ & ⋮ & ⋮ & ⋮ & ⋮ & ⋮ & ⋮ & ⋮ & ⋱ & ⋮ & ⋮ & ⋮ & ⋮ & ⋮ & ⋮ & ⋮ & ⋮ & ⋮ & ⋮\\\\\n",
       "\t -0.014765048  &  0.006346952  & -0.007470522  &  0.0066149611 &  5.234006e-04 &  0.006556560  &  0.014601173  & -0.010768703  & -4.671027e-04 & -1.555326e-03 & ⋯             & -0.01355340   & -0.01579562   & -0.006625669  & 0.010587637   & 0.011059439   & 0.003021097   & 0.006297195   & -0.007209481  &  4.601587e-05 & VT\\_E       \\\\\n",
       "\t -0.006874186  &  0.001978552  & -0.001779857  &  0.0033275774 &  4.670990e-05 &  0.002414765  &  0.004239842  & -0.002245601  & -3.571184e-04 & -5.225820e-04 & ⋯             & -0.01957374   & -0.02272363   & -0.009523867  & 0.014940790   & 0.015154232   & 0.004077276   & 0.008423757   & -0.009391827  &  5.099755e-05 & VT\\_E       \\\\\n",
       "\t -0.005757898  &  0.001795911  & -0.001507506  &  0.0023989429 &  7.343040e-05 &  0.002132160  &  0.003088756  & -0.001737816  & -2.032816e-04 &  2.373456e-04 & ⋯             & -0.02509085   & -0.02791890   & -0.011136371  & 0.017452777   & 0.017418382   & 0.004385894   & 0.009789026   & -0.010837587  &  1.172403e-05 & VT\\_E       \\\\\n",
       "\t -0.008515812  &  0.002630215  & -0.002183942  &  0.0036889835 & -7.583903e-06 &  0.003344056  &  0.005235468  & -0.002735444  & -4.042699e-04 &  1.403229e-04 & ⋯             & -0.01735647   & -0.02000608   & -0.008476066  & 0.012985643   & 0.013887938   & 0.004015495   & 0.007938265   & -0.009003414  &  2.852543e-05 & VT\\_E       \\\\\n",
       "\t -0.018255665  &  0.010310788  & -0.011653569  &  0.0049762689 &  7.207044e-05 &  0.007423019  &  0.022700874  & -0.018420618  &  1.303214e-04 &  1.917213e-03 & ⋯             & -0.01304338   & -0.01533540   & -0.006474924  & 0.010150512   & 0.009997340   & 0.002725839   & 0.006023433   & -0.006699218  &  3.214074e-05 & VT\\_E       \\\\\n",
       "\t -0.011145181  &  0.005264007  & -0.004326871  &  0.0033049140 &  1.718387e-04 &  0.005022384  &  0.007817611  & -0.005399486  & -3.583379e-04 &  4.416412e-04 & ⋯             & -0.01559587   & -0.01745313   & -0.007219125  & 0.011500339   & 0.011415416   & 0.003291452   & 0.006824217   & -0.007520901  &  3.970789e-05 & VT\\_E       \\\\\n",
       "\t -0.012891594  &  0.004801416  & -0.003818677  &  0.0072054218 &  2.094065e-04 &  0.006365986  &  0.009790984  & -0.004846357  & -8.387702e-04 & -1.127225e-03 & ⋯             & -0.01340469   & -0.01596691   & -0.007090090  & 0.010502964   & 0.011699985   & 0.003399711   & 0.006731925   & -0.007724295  &  2.416139e-05 & VT\\_E       \\\\\n",
       "\t -0.010726029  &  0.004115787  & -0.002707472  &  0.0051027410 &  8.979105e-05 &  0.004017658  &  0.007061933  & -0.004104452  & -9.637454e-04 & -3.795180e-04 & ⋯             & -0.01506854   & -0.01756322   & -0.007505170  & 0.011596617   & 0.012256461   & 0.003959797   & 0.007149575   & -0.008156746  &  4.019198e-05 & VT\\_E       \\\\\n",
       "\t  0.247933429  & -0.007499787  &  0.001414537  & -0.0001622677 & -8.798500e-03 &  0.001055846  &  0.003152221  & -0.008115880  &  9.662575e-02 & -1.729265e-03 & ⋯             & -0.01683184   & -0.01977676   & -0.008543556  & 0.013280782   & 0.013868357   & 0.003970608   & 0.008657551   & -0.009281697  & -3.145303e-05 & VT\\_U       \\\\\n",
       "\t -0.011168873  &  0.004177503  & -0.003244903  &  0.0059964199 &  4.753864e-05 &  0.004886571  &  0.008014811  & -0.003833173  & -9.523740e-04 & -5.019202e-04 & ⋯             & -0.01459844   & -0.01704430   & -0.007130794  & 0.010957385   & 0.012156299   & 0.003238980   & 0.007157066   & -0.007703545  &  1.164946e-05 & VT\\_U       \\\\\n",
       "\t -0.013633288  &  0.004986209  & -0.005031711  &  0.0074275174 &  5.394464e-05 &  0.006099832  &  0.011092855  & -0.006702897  & -1.633022e-03 & -1.964916e-03 & ⋯             & -0.01283196   & -0.01557527   & -0.006668080  & 0.010435743   & 0.011606959   & 0.002963324   & 0.006646467   & -0.007588542  &  2.365613e-05 & VT\\_U       \\\\\n",
       "\t -0.024844014  &  0.012721959  & -0.014009939  &  0.0291815758 &  8.891313e-05 &  0.027528975  &  0.074642890  & -0.093287946  & -2.050466e-01 & -6.957844e-01 & ⋯             & -0.01168365   & -0.01371374   & -0.006135636  & 0.009117744   & 0.010073500   & 0.002914290   & 0.006130319   & -0.006974171  &  2.021869e-05 & VT\\_U       \\\\\n",
       "\t -0.007193115  &  0.002052581  & -0.001806364  &  0.0040517192 &  1.926395e-05 &  0.002394345  &  0.003938292  & -0.002683190  & -5.827311e-04 & -5.916040e-04 & ⋯             & -0.02035869   & -0.02277957   & -0.009578185  & 0.014553468   & 0.015291467   & 0.004403944   & 0.008641186   & -0.009654774  &  5.033308e-05 & VT\\_U       \\\\\n",
       "\t -0.011951010  &  0.004435084  & -0.003431784  &  0.0070452794 &  1.463316e-03 &  0.005964733  &  0.009434879  & -0.004752135  & -1.894419e-03 & -1.437968e-03 & ⋯             & -0.01412067   & -0.01642666   & -0.007339497  & 0.010880706   & 0.011733061   & 0.003515789   & 0.006920958   & -0.007629845  &  3.723514e-05 & VT\\_U       \\\\\n",
       "\t  0.620419866  & -0.034273235  &  0.022035672  & -0.0280457611 &  7.015161e-01 &  0.007682506  & -0.014828767  &  0.028792556  & -3.058806e-01 &  3.979573e-03 & ⋯             & -0.01326719   & -0.01571422   & -0.006872298  & 0.010598854   & 0.011357616   & 0.003309923   & 0.007100811   & -0.007830678  & -3.353047e-05 & VT\\_U       \\\\\n",
       "\t -0.013801473  &  0.004829592  & -0.003791951  &  0.0088395834 & -9.613491e-05 &  0.007370560  &  0.010004105  & -0.005675959  & -1.572364e-03 & -2.862375e-03 & ⋯             & -0.01325739   & -0.01581620   & -0.006834898  & 0.010661149   & 0.011234033   & 0.003402349   & 0.006709710   & -0.007576614  &  2.367565e-05 & VT\\_U       \\\\\n",
       "\t -0.018896093  &  0.010566667  & -0.009713486  &  0.0085320394 &  3.662895e-04 &  0.010670542  &  0.025962134  & -0.021173349  & -1.130387e-03 & -1.237247e-03 & ⋯             & -0.01267506   & -0.01476442   & -0.006535187  & 0.009970940   & 0.010219821   & 0.003054222   & 0.006283842   & -0.006946045  &  3.128662e-05 & VT\\_U       \\\\\n",
       "\t -0.062408113  & -0.994578986  &  0.021915580  & -0.0302163769 & -4.319736e-05 & -0.019125921  & -0.021427490  &  0.010623137  &  1.252296e-03 &  5.314622e-04 & ⋯             & -0.01074378   & -0.01264734   & -0.005545082  & 0.008672521   & 0.009315652   & 0.002773787   & 0.005825448   & -0.006346712  &  3.549501e-05 & VT\\_U       \\\\\n",
       "\t -0.009362377  &  0.003208241  & -0.002245542  &  0.0040333014 &  4.415615e-07 &  0.003698326  &  0.004885108  & -0.003194152  & -8.966229e-04 & -9.009238e-05 & ⋯             & -0.01622207   & -0.01898398   & -0.008035266  & 0.012090195   & 0.013150369   & 0.003586929   & 0.007459274   & -0.008753711  &  2.747403e-05 & VT\\_U       \\\\\n",
       "\t -0.004056792  &  0.001088274  & -0.000802955  &  0.0014233884 & -4.577454e-05 &  0.001434498  &  0.001956521  & -0.001214292  & -1.334035e-04 & -4.030881e-04 & ⋯             & -0.07396876   & -0.06973822   & -0.023368093  & 0.033020787   & 0.030232642   & 0.006937172   & 0.014980863   & -0.015572555  &  1.184958e-05 & VT\\_U       \\\\\n",
       "\t -0.012469950  &  0.004784641  & -0.004066478  &  0.0069040158 &  2.551312e-04 &  0.006295493  &  0.008585837  & -0.004217750  & -1.031822e-03 & -7.351020e-04 & ⋯             & -0.01389520   & -0.01610764   & -0.007040158  & 0.010647211   & 0.011707817   & 0.003429556   & 0.006798523   & -0.007557208  &  2.451155e-05 & VT\\_U       \\\\\n",
       "\t -0.009682250  &  0.004750606  & -0.004064299  &  0.0064555048 &  1.394042e-04 &  0.006035300  &  0.008854061  & -0.006028221  &  3.700084e-04 & -1.096247e-03 & ⋯             & -0.01772749   & -0.02034672   & -0.008764576  & 0.013222496   & 0.013781931   & 0.004211695   & 0.008114926   & -0.009108867  &  5.774270e-05 & VT\\_U       \\\\\n",
       "\t -0.024969320  &  0.013063691  & -0.013764876  &  0.0268525982 &  3.907444e-04 &  0.033052283  &  0.072246060  & -0.086759717  & -1.828238e-01 &  7.180595e-01 & ⋯             & -0.01182781   & -0.01397535   & -0.006247005  & 0.009371311   & 0.010271101   & 0.003297981   & 0.005884212   & -0.006817162  &  4.545991e-05 & VT\\_U       \\\\\n",
       "\t -0.019979112  &  0.008557633  & -0.009018516  &  0.0136598851 &  3.472864e-04 &  0.011337582  &  0.023919179  & -0.012755397  & -3.540582e-03 & -1.782477e-05 & ⋯             & -0.01254098   & -0.01455521   & -0.006188177  & 0.009733369   & 0.010603459   & 0.003072848   & 0.006259113   & -0.007210967  &  5.012147e-05 & VT\\_U       \\\\\n",
       "\t -0.014922009  &  0.006248846  & -0.004720562  &  0.0090269106 &  1.048226e-04 &  0.006890341  &  0.012542169  & -0.008590538  & -1.460520e-03 & -1.636671e-04 & ⋯             & -0.01309785   & -0.01575001   & -0.007063808  & 0.010468430   & 0.011316183   & 0.003483095   & 0.006623598   & -0.007572050  &  3.456633e-05 & VT\\_U       \\\\\n",
       "\t -0.016097942  &  0.007523434  & -0.005262798  &  0.0094191844 &  1.540860e-04 &  0.010119060  &  0.015378624  & -0.009227099  & -1.836644e-03 &  3.358260e-03 & ⋯             & -0.01292898   & -0.01513420   & -0.006602797  & 0.010109458   & 0.010972649   & 0.003456667   & 0.006470804   & -0.007218564  &  4.391780e-05 & VT\\_U       \\\\\n",
       "\t -0.014837915  &  0.006491058  & -0.004827980  &  0.0086350784 &  1.977242e-04 &  0.007608328  &  0.011943854  & -0.005452061  & -2.374303e-03 & -2.158471e-04 & ⋯             & -0.01323772   & -0.01587328   & -0.006558357  & 0.010331267   & 0.010998572   & 0.003483012   & 0.006676250   & -0.007604702  &  3.468067e-05 & VT\\_U       \\\\\n",
       "\t -0.016761589  &  0.009022047  & -0.009207999  &  0.0128196289 &  1.709937e-04 &  0.010831041  &  0.019486762  & -0.015985526  & -1.600285e-05 & -1.616371e-03 & ⋯             & -0.01313844   & -0.01545461   & -0.006866463  & 0.010507423   & 0.011192493   & 0.003272736   & 0.006608809   & -0.007415651  &  4.125392e-05 & VT\\_U       \\\\\n",
       "\t -0.012706595  &  0.004097781  & -0.004877855  &  0.0077010710 &  2.117717e-04 &  0.005993803  &  0.010091116  & -0.006533940  & -1.071594e-03 & -8.953575e-05 & ⋯             & -0.01390949   & -0.01617656   & -0.007190000  & 0.010747597   & 0.011636756   & 0.003576941   & 0.006862503   & -0.007674376  &  3.639437e-05 & VT\\_U       \\\\\n",
       "\t -0.005633894  &  0.001799145  & -0.001364577  &  0.0023908197 &  1.928482e-05 &  0.001572921  &  0.002760810  & -0.001391707  & -3.520815e-04 &  5.226481e-04 & ⋯             & -0.02963939   & -0.03281660   & -0.012997545  & 0.018787583   & 0.019643289   & 0.005795565   & 0.010598838   & -0.012079208  &  3.559453e-05 & VT\\_U       \\\\\n",
       "\\end{tabular}\n"
      ],
      "text/markdown": [
       "\n",
       "PC1 | PC2 | PC3 | PC4 | PC5 | PC6 | PC7 | PC8 | PC9 | PC10 | ⋯ | PC128 | PC129 | PC130 | PC131 | PC132 | PC133 | PC134 | PC135 | PC136 | Pop | \n",
       "|---|---|---|---|---|---|---|---|---|---|---|---|---|---|---|---|---|---|---|---|---|---|---|---|---|---|---|---|---|---|---|---|---|---|---|---|---|---|---|---|---|---|---|---|---|---|---|---|---|---|---|---|---|---|---|---|---|---|---|---|---|\n",
       "|  0.0001045627 |  8.742575e-06 | -5.403543e-06 |  1.465511e-05 |  1.321112e-06 |  9.308567e-06 |  1.660583e-05 |  3.105730e-06 |  1.989282e-05 | -1.873556e-05 | ⋯             |  3.583077e-05 |  7.372558e-05 |  4.594382e-05 | -0.0000169125 | -0.0000519697 |  1.401270e-06 | -7.472238e-05 |  5.728101e-05 |  9.999999e-01 | NJ_E          | \n",
       "| -0.0095141367 |  4.815358e-03 | -3.585374e-03 |  3.205088e-03 |  5.836631e-05 |  3.663636e-03 |  7.336985e-03 | -4.989783e-03 | -2.328281e-04 |  4.573036e-04 | ⋯             | -1.598700e-02 | -1.856954e-02 | -7.963892e-03 |  0.0118533961 |  0.0119510917 |  3.455966e-03 |  7.370795e-03 | -8.172656e-03 |  1.162768e-05 | NJ_E          | \n",
       "| -0.0061585496 |  2.624113e-03 | -2.364706e-03 |  1.799066e-03 |  9.440653e-05 |  1.907508e-03 |  3.230242e-03 | -2.248700e-03 | -6.082239e-05 |  1.090549e-04 | ⋯             | -2.377548e-02 | -2.593725e-02 | -1.036034e-02 |  0.0163232370 |  0.0156218492 |  3.871987e-03 |  8.819247e-03 | -1.003454e-02 |  1.163414e-05 | NJ_E          | \n",
       "| -0.0150139687 |  8.868360e-03 | -8.818629e-03 |  1.880300e-03 | -1.674443e-04 |  4.599401e-03 |  1.439048e-02 | -1.233556e-02 | -2.682577e-04 |  8.272755e-04 | ⋯             | -1.394616e-02 | -1.588172e-02 | -6.693126e-03 |  0.0103124558 |  0.0105522076 |  2.880229e-03 |  6.214050e-03 | -6.777502e-03 |  3.446585e-05 | NJ_E          | \n",
       "| -0.0141571094 |  5.035983e-03 | -4.477529e-03 |  7.444945e-03 | -1.217901e-05 |  6.978175e-03 |  9.378620e-03 | -4.445735e-03 | -1.686785e-03 | -4.648523e-04 | ⋯             | -1.384152e-02 | -1.610036e-02 | -6.828180e-03 |  0.0104942975 |  0.0114814746 |  3.356246e-03 |  6.685331e-03 | -7.802489e-03 |  3.576137e-05 | NJ_E          | \n",
       "| -0.0086813276 |  3.953350e-03 | -4.082677e-03 |  1.210387e-03 |  2.418218e-05 |  1.921271e-03 |  6.172340e-03 | -4.733912e-03 | -1.228756e-04 |  4.755672e-04 | ⋯             | -1.909295e-02 | -2.093977e-02 | -8.613604e-03 |  0.0131123264 |  0.0129200485 |  3.426052e-03 |  7.414959e-03 | -8.116950e-03 |  4.622629e-05 | NJ_E          | \n",
       "| -0.0196432357 |  1.281108e-02 | -1.336309e-02 |  3.024633e-03 |  3.827733e-04 |  9.488662e-03 |  2.742306e-02 | -2.200360e-02 |  2.041281e-03 |  1.607222e-03 | ⋯             | -1.274443e-02 | -1.498536e-02 | -6.612080e-03 |  0.0099053936 |  0.0099298370 |  2.885828e-03 |  5.964795e-03 | -6.452900e-03 |  3.104853e-05 | NJ_E          | \n",
       "| -0.0062647054 |  2.685757e-03 | -2.090139e-03 |  1.843331e-03 | -8.289116e-05 |  1.917626e-03 |  3.448495e-03 | -2.251859e-03 | -2.094575e-04 |  3.544283e-04 | ⋯             | -2.510647e-02 | -2.788025e-02 | -1.164642e-02 |  0.0169859297 |  0.0167021964 |  4.304766e-03 |  9.466103e-03 | -1.000257e-02 |  3.374206e-05 | NJ_E          | \n",
       "| -0.0059948241 |  3.229099e-03 | -2.692345e-03 |  5.920129e-04 | -7.526546e-05 |  1.363982e-03 |  3.602041e-03 | -3.062487e-03 | -8.186907e-05 | -1.049963e-04 | ⋯             | -2.675027e-02 | -2.944096e-02 | -1.182845e-02 |  0.0175961743 |  0.0162921115 |  4.228100e-03 |  9.727529e-03 | -1.013341e-02 |  3.395494e-05 | NJ_E          | \n",
       "| -0.0131408082 |  6.500367e-03 | -5.876479e-03 |  4.575823e-03 | -1.994645e-04 |  5.312526e-03 |  1.048291e-02 | -7.790822e-03 | -5.730602e-04 | -1.445941e-04 | ⋯             | -1.417438e-02 | -1.629829e-02 | -6.761830e-03 |  0.0108246148 |  0.0113457075 |  3.013968e-03 |  6.735799e-03 | -7.373153e-03 |  3.651448e-05 | NJ_E          | \n",
       "| -0.0157405050 |  5.986617e-03 | -5.426235e-03 |  1.066535e-02 |  4.295126e-04 |  9.005600e-03 |  1.381087e-02 | -8.798196e-03 | -1.663882e-03 | -3.961047e-04 | ⋯             | -1.297580e-02 | -1.528837e-02 | -6.594364e-03 |  0.0101690933 |  0.0108727069 |  3.343832e-03 |  6.505286e-03 | -7.270418e-03 |  3.362454e-05 | NJ_E          | \n",
       "| -0.0376074475 |  3.895613e-02 | -9.577669e-02 | -9.832997e-01 | -5.597849e-03 | -7.311522e-02 | -7.937190e-02 |  3.803121e-02 |  1.503032e-04 | -1.012093e-03 | ⋯             | -1.174693e-02 | -1.341129e-02 | -5.718094e-03 |  0.0091386072 |  0.0088774286 |  2.374111e-03 |  5.703680e-03 | -6.057023e-03 |  4.012854e-05 | NJ_E          | \n",
       "| -0.0410980965 |  3.407916e-02 |  9.899808e-01 | -7.928314e-02 | -4.525252e-04 | -5.443370e-02 | -4.093841e-02 |  1.626625e-02 |  2.742868e-03 |  2.127848e-04 | ⋯             | -1.099550e-02 | -1.292196e-02 | -5.545083e-03 |  0.0089161636 |  0.0096711899 |  2.835872e-03 |  5.847817e-03 | -6.621390e-03 |  3.219521e-05 | NJ_E          | \n",
       "| -0.0035313027 |  1.359887e-03 | -9.907855e-04 |  8.562218e-04 | -2.860250e-05 |  1.049120e-03 |  2.012083e-03 | -1.375767e-03 | -1.573721e-04 | -1.637380e-04 | ⋯             |  4.654456e-01 | -8.594389e-01 | -5.908650e-02 |  0.0748998879 |  0.0491259119 |  7.054067e-03 |  2.081264e-02 | -2.215695e-02 |  1.170293e-05 | NJ_E          | \n",
       "| -0.0136409095 |  6.738991e-03 | -5.460266e-03 |  5.581214e-03 |  6.630066e-05 |  5.782689e-03 |  1.108099e-02 | -7.469454e-03 | -1.206708e-03 | -4.828856e-04 | ⋯             | -1.426841e-02 | -1.596416e-02 | -6.805086e-03 |  0.0106297858 |  0.0108909088 |  2.847278e-03 |  6.493718e-03 | -7.028543e-03 |  2.380281e-05 | NJ_E          | \n",
       "| -0.0027016345 |  1.149993e-03 | -9.072657e-04 |  7.653918e-04 |  2.504213e-05 |  7.433012e-04 |  1.313020e-03 | -8.891840e-04 | -8.331693e-05 |  3.086615e-04 | ⋯             |  3.038482e-02 |  4.127040e-02 |  2.505763e-02 | -0.0451299566 | -0.0866135367 | -4.303562e-01 |  8.273778e-01 | -3.384276e-01 |  5.654564e-05 | NJ_E          | \n",
       "| -0.0153892758 |  7.070685e-03 | -6.637575e-03 |  5.489043e-03 |  1.125292e-04 |  7.363118e-03 |  1.310885e-02 | -9.908214e-03 | -6.800449e-04 | -1.463182e-03 | ⋯             | -1.375761e-02 | -1.557622e-02 | -6.648607e-03 |  0.0103045749 |  0.0104537779 |  2.827501e-03 |  6.837089e-03 | -7.088349e-03 |  2.288788e-05 | NJ_E          | \n",
       "| -0.0270721603 |  1.445394e-02 | -1.588363e-02 |  3.798299e-02 |  5.091643e-04 |  3.965209e-02 |  1.433327e-01 |  9.768505e-01 |  2.108898e-02 | -3.105415e-03 | ⋯             | -1.144200e-02 | -1.382496e-02 | -5.783855e-03 |  0.0092667907 |  0.0101862040 |  3.019588e-03 |  6.077975e-03 | -6.745940e-03 |  1.981414e-05 | NJ_E          | \n",
       "| -0.0162342003 |  8.808141e-03 | -9.515166e-03 |  3.612985e-03 |  2.091069e-05 |  5.403105e-03 |  1.726654e-02 | -1.427679e-02 | -4.903253e-04 |  1.606881e-03 | ⋯             | -1.378630e-02 | -1.559012e-02 | -6.755864e-03 |  0.0101440546 |  0.0102289280 |  2.825330e-03 |  6.223531e-03 | -6.745775e-03 |  3.364652e-05 | NJ_E          | \n",
       "| -0.0195676294 |  1.169522e-02 | -1.399340e-02 |  5.280232e-03 |  3.407791e-04 |  8.156018e-03 |  2.744664e-02 | -2.262831e-02 |  3.135341e-04 |  1.108131e-03 | ⋯             | -1.304481e-02 | -1.491063e-02 | -6.435869e-03 |  0.0097654699 |  0.0097452338 |  2.692027e-03 |  6.386411e-03 | -6.518957e-03 |  3.134824e-05 | NJ_E          | \n",
       "| -0.0207561989 |  1.116674e-02 | -1.174719e-02 |  1.107806e-02 | -1.263418e-05 |  1.274803e-02 |  3.072628e-02 | -2.425917e-02 | -2.474869e-03 |  3.099953e-03 | ⋯             | -1.239116e-02 | -1.447258e-02 | -6.150509e-03 |  0.0097989929 |  0.0103065910 |  2.910590e-03 |  6.250463e-03 | -6.779512e-03 |  2.095754e-05 | NJ_E          | \n",
       "| -0.0211741642 |  1.154103e-02 | -1.420078e-02 |  1.093669e-02 |  6.382141e-04 |  1.431442e-02 |  3.262081e-02 | -2.753740e-02 | -2.323507e-03 |  3.018530e-03 | ⋯             | -1.228452e-02 | -1.432007e-02 | -6.307637e-03 |  0.0096078135 |  0.0101726848 |  2.785625e-03 |  6.311747e-03 | -6.764633e-03 |  3.018531e-05 | NJ_E          | \n",
       "| -0.0085480389 |  4.456853e-03 | -4.177597e-03 |  1.136397e-03 | -3.875464e-05 |  2.473598e-03 |  5.567012e-03 | -4.384133e-03 | -8.122738e-05 | -7.169289e-06 | ⋯             | -1.796047e-02 | -2.045116e-02 | -8.686875e-03 |  0.0129394810 |  0.0125513282 |  3.082714e-03 |  7.536857e-03 | -7.761094e-03 |  2.838855e-05 | NJ_U          | \n",
       "| -0.0159815223 |  7.086180e-03 | -5.733406e-03 |  1.047335e-02 |  2.263380e-04 |  9.495000e-03 |  1.514437e-02 | -9.413096e-03 | -2.074097e-03 |  2.794304e-04 | ⋯             | -1.314045e-02 | -1.526809e-02 | -6.509319e-03 |  0.0099928478 |  0.0111959759 |  3.401885e-03 |  6.353931e-03 | -7.298796e-03 |  4.449919e-05 | NJ_U          | \n",
       "| -0.0185304218 |  1.127953e-02 | -1.132649e-02 |  3.061982e-03 |  4.322620e-04 |  7.514924e-03 |  2.275060e-02 | -1.843573e-02 | -2.095396e-04 |  7.070374e-04 | ⋯             | -1.301065e-02 | -1.499130e-02 | -6.307449e-03 |  0.0102537553 |  0.0097246686 |  2.877084e-03 |  6.220642e-03 | -6.584601e-03 |  4.217625e-05 | NJ_U          | \n",
       "|  0.4151229406 | -1.633727e-02 |  4.914506e-03 | -1.761679e-03 | -2.064339e-02 |  7.883914e-04 |  9.307182e-03 | -4.210280e-02 |  8.448113e-01 | -9.923950e-03 | ⋯             | -1.453302e-02 | -1.720625e-02 | -7.556636e-03 |  0.0115288984 |  0.0123975220 |  3.579940e-03 |  7.650710e-03 | -8.425799e-03 | -2.600042e-05 | NJ_U          | \n",
       "| -0.0098318394 |  3.423949e-03 | -2.976170e-03 |  4.504815e-03 | -4.405218e-05 |  4.353781e-03 |  5.767407e-03 | -3.347852e-03 | -8.377512e-04 | -1.551547e-04 | ⋯             | -1.555845e-02 | -1.839281e-02 | -7.427280e-03 |  0.0118622786 |  0.0127459352 |  3.541223e-03 |  7.564068e-03 | -8.326385e-03 |  4.225071e-05 | NJ_U          | \n",
       "| -0.0080347492 |  3.902708e-03 | -3.605830e-03 |  4.858832e-04 |  2.425336e-05 |  2.245958e-03 |  5.957723e-03 | -3.856933e-03 | -1.196000e-04 |  1.213248e-04 | ⋯             | -1.944444e-02 | -2.195019e-02 | -9.084142e-03 |  0.0136186928 |  0.0129166168 |  2.940524e-03 |  8.047072e-03 | -8.186353e-03 |  4.777051e-05 | NJ_U          | \n",
       "| -0.0109600307 |  3.978129e-03 | -3.526030e-03 |  6.417628e-03 |  1.452022e-04 |  4.938587e-03 |  7.051026e-03 | -4.239168e-03 | -8.238617e-04 | -1.314382e-04 | ⋯             | -1.525364e-02 | -1.727542e-02 | -7.586920e-03 |  0.0115337582 |  0.0122347529 |  3.873637e-03 |  7.101119e-03 | -8.178501e-03 |  3.983752e-05 | NJ_U          | \n",
       "| -0.0077705911 |  3.264977e-03 | -2.867175e-03 |  3.021165e-03 | -5.450697e-05 |  2.193328e-03 |  4.943801e-03 | -3.691638e-03 | -3.432331e-04 | -1.031676e-04 | ⋯             | -1.868103e-02 | -2.112368e-02 | -9.150055e-03 |  0.0138474322 |  0.0134909297 |  4.096673e-03 |  7.969710e-03 | -8.729198e-03 |  2.960965e-05 | NJ_U          | \n",
       "| ⋮ | ⋮ | ⋮ | ⋮ | ⋮ | ⋮ | ⋮ | ⋮ | ⋮ | ⋮ | ⋱ | ⋮ | ⋮ | ⋮ | ⋮ | ⋮ | ⋮ | ⋮ | ⋮ | ⋮ | ⋮ | \n",
       "| -0.014765048  |  0.006346952  | -0.007470522  |  0.0066149611 |  5.234006e-04 |  0.006556560  |  0.014601173  | -0.010768703  | -4.671027e-04 | -1.555326e-03 | ⋯             | -0.01355340   | -0.01579562   | -0.006625669  | 0.010587637   | 0.011059439   | 0.003021097   | 0.006297195   | -0.007209481  |  4.601587e-05 | VT_E          | \n",
       "| -0.006874186  |  0.001978552  | -0.001779857  |  0.0033275774 |  4.670990e-05 |  0.002414765  |  0.004239842  | -0.002245601  | -3.571184e-04 | -5.225820e-04 | ⋯             | -0.01957374   | -0.02272363   | -0.009523867  | 0.014940790   | 0.015154232   | 0.004077276   | 0.008423757   | -0.009391827  |  5.099755e-05 | VT_E          | \n",
       "| -0.005757898  |  0.001795911  | -0.001507506  |  0.0023989429 |  7.343040e-05 |  0.002132160  |  0.003088756  | -0.001737816  | -2.032816e-04 |  2.373456e-04 | ⋯             | -0.02509085   | -0.02791890   | -0.011136371  | 0.017452777   | 0.017418382   | 0.004385894   | 0.009789026   | -0.010837587  |  1.172403e-05 | VT_E          | \n",
       "| -0.008515812  |  0.002630215  | -0.002183942  |  0.0036889835 | -7.583903e-06 |  0.003344056  |  0.005235468  | -0.002735444  | -4.042699e-04 |  1.403229e-04 | ⋯             | -0.01735647   | -0.02000608   | -0.008476066  | 0.012985643   | 0.013887938   | 0.004015495   | 0.007938265   | -0.009003414  |  2.852543e-05 | VT_E          | \n",
       "| -0.018255665  |  0.010310788  | -0.011653569  |  0.0049762689 |  7.207044e-05 |  0.007423019  |  0.022700874  | -0.018420618  |  1.303214e-04 |  1.917213e-03 | ⋯             | -0.01304338   | -0.01533540   | -0.006474924  | 0.010150512   | 0.009997340   | 0.002725839   | 0.006023433   | -0.006699218  |  3.214074e-05 | VT_E          | \n",
       "| -0.011145181  |  0.005264007  | -0.004326871  |  0.0033049140 |  1.718387e-04 |  0.005022384  |  0.007817611  | -0.005399486  | -3.583379e-04 |  4.416412e-04 | ⋯             | -0.01559587   | -0.01745313   | -0.007219125  | 0.011500339   | 0.011415416   | 0.003291452   | 0.006824217   | -0.007520901  |  3.970789e-05 | VT_E          | \n",
       "| -0.012891594  |  0.004801416  | -0.003818677  |  0.0072054218 |  2.094065e-04 |  0.006365986  |  0.009790984  | -0.004846357  | -8.387702e-04 | -1.127225e-03 | ⋯             | -0.01340469   | -0.01596691   | -0.007090090  | 0.010502964   | 0.011699985   | 0.003399711   | 0.006731925   | -0.007724295  |  2.416139e-05 | VT_E          | \n",
       "| -0.010726029  |  0.004115787  | -0.002707472  |  0.0051027410 |  8.979105e-05 |  0.004017658  |  0.007061933  | -0.004104452  | -9.637454e-04 | -3.795180e-04 | ⋯             | -0.01506854   | -0.01756322   | -0.007505170  | 0.011596617   | 0.012256461   | 0.003959797   | 0.007149575   | -0.008156746  |  4.019198e-05 | VT_E          | \n",
       "|  0.247933429  | -0.007499787  |  0.001414537  | -0.0001622677 | -8.798500e-03 |  0.001055846  |  0.003152221  | -0.008115880  |  9.662575e-02 | -1.729265e-03 | ⋯             | -0.01683184   | -0.01977676   | -0.008543556  | 0.013280782   | 0.013868357   | 0.003970608   | 0.008657551   | -0.009281697  | -3.145303e-05 | VT_U          | \n",
       "| -0.011168873  |  0.004177503  | -0.003244903  |  0.0059964199 |  4.753864e-05 |  0.004886571  |  0.008014811  | -0.003833173  | -9.523740e-04 | -5.019202e-04 | ⋯             | -0.01459844   | -0.01704430   | -0.007130794  | 0.010957385   | 0.012156299   | 0.003238980   | 0.007157066   | -0.007703545  |  1.164946e-05 | VT_U          | \n",
       "| -0.013633288  |  0.004986209  | -0.005031711  |  0.0074275174 |  5.394464e-05 |  0.006099832  |  0.011092855  | -0.006702897  | -1.633022e-03 | -1.964916e-03 | ⋯             | -0.01283196   | -0.01557527   | -0.006668080  | 0.010435743   | 0.011606959   | 0.002963324   | 0.006646467   | -0.007588542  |  2.365613e-05 | VT_U          | \n",
       "| -0.024844014  |  0.012721959  | -0.014009939  |  0.0291815758 |  8.891313e-05 |  0.027528975  |  0.074642890  | -0.093287946  | -2.050466e-01 | -6.957844e-01 | ⋯             | -0.01168365   | -0.01371374   | -0.006135636  | 0.009117744   | 0.010073500   | 0.002914290   | 0.006130319   | -0.006974171  |  2.021869e-05 | VT_U          | \n",
       "| -0.007193115  |  0.002052581  | -0.001806364  |  0.0040517192 |  1.926395e-05 |  0.002394345  |  0.003938292  | -0.002683190  | -5.827311e-04 | -5.916040e-04 | ⋯             | -0.02035869   | -0.02277957   | -0.009578185  | 0.014553468   | 0.015291467   | 0.004403944   | 0.008641186   | -0.009654774  |  5.033308e-05 | VT_U          | \n",
       "| -0.011951010  |  0.004435084  | -0.003431784  |  0.0070452794 |  1.463316e-03 |  0.005964733  |  0.009434879  | -0.004752135  | -1.894419e-03 | -1.437968e-03 | ⋯             | -0.01412067   | -0.01642666   | -0.007339497  | 0.010880706   | 0.011733061   | 0.003515789   | 0.006920958   | -0.007629845  |  3.723514e-05 | VT_U          | \n",
       "|  0.620419866  | -0.034273235  |  0.022035672  | -0.0280457611 |  7.015161e-01 |  0.007682506  | -0.014828767  |  0.028792556  | -3.058806e-01 |  3.979573e-03 | ⋯             | -0.01326719   | -0.01571422   | -0.006872298  | 0.010598854   | 0.011357616   | 0.003309923   | 0.007100811   | -0.007830678  | -3.353047e-05 | VT_U          | \n",
       "| -0.013801473  |  0.004829592  | -0.003791951  |  0.0088395834 | -9.613491e-05 |  0.007370560  |  0.010004105  | -0.005675959  | -1.572364e-03 | -2.862375e-03 | ⋯             | -0.01325739   | -0.01581620   | -0.006834898  | 0.010661149   | 0.011234033   | 0.003402349   | 0.006709710   | -0.007576614  |  2.367565e-05 | VT_U          | \n",
       "| -0.018896093  |  0.010566667  | -0.009713486  |  0.0085320394 |  3.662895e-04 |  0.010670542  |  0.025962134  | -0.021173349  | -1.130387e-03 | -1.237247e-03 | ⋯             | -0.01267506   | -0.01476442   | -0.006535187  | 0.009970940   | 0.010219821   | 0.003054222   | 0.006283842   | -0.006946045  |  3.128662e-05 | VT_U          | \n",
       "| -0.062408113  | -0.994578986  |  0.021915580  | -0.0302163769 | -4.319736e-05 | -0.019125921  | -0.021427490  |  0.010623137  |  1.252296e-03 |  5.314622e-04 | ⋯             | -0.01074378   | -0.01264734   | -0.005545082  | 0.008672521   | 0.009315652   | 0.002773787   | 0.005825448   | -0.006346712  |  3.549501e-05 | VT_U          | \n",
       "| -0.009362377  |  0.003208241  | -0.002245542  |  0.0040333014 |  4.415615e-07 |  0.003698326  |  0.004885108  | -0.003194152  | -8.966229e-04 | -9.009238e-05 | ⋯             | -0.01622207   | -0.01898398   | -0.008035266  | 0.012090195   | 0.013150369   | 0.003586929   | 0.007459274   | -0.008753711  |  2.747403e-05 | VT_U          | \n",
       "| -0.004056792  |  0.001088274  | -0.000802955  |  0.0014233884 | -4.577454e-05 |  0.001434498  |  0.001956521  | -0.001214292  | -1.334035e-04 | -4.030881e-04 | ⋯             | -0.07396876   | -0.06973822   | -0.023368093  | 0.033020787   | 0.030232642   | 0.006937172   | 0.014980863   | -0.015572555  |  1.184958e-05 | VT_U          | \n",
       "| -0.012469950  |  0.004784641  | -0.004066478  |  0.0069040158 |  2.551312e-04 |  0.006295493  |  0.008585837  | -0.004217750  | -1.031822e-03 | -7.351020e-04 | ⋯             | -0.01389520   | -0.01610764   | -0.007040158  | 0.010647211   | 0.011707817   | 0.003429556   | 0.006798523   | -0.007557208  |  2.451155e-05 | VT_U          | \n",
       "| -0.009682250  |  0.004750606  | -0.004064299  |  0.0064555048 |  1.394042e-04 |  0.006035300  |  0.008854061  | -0.006028221  |  3.700084e-04 | -1.096247e-03 | ⋯             | -0.01772749   | -0.02034672   | -0.008764576  | 0.013222496   | 0.013781931   | 0.004211695   | 0.008114926   | -0.009108867  |  5.774270e-05 | VT_U          | \n",
       "| -0.024969320  |  0.013063691  | -0.013764876  |  0.0268525982 |  3.907444e-04 |  0.033052283  |  0.072246060  | -0.086759717  | -1.828238e-01 |  7.180595e-01 | ⋯             | -0.01182781   | -0.01397535   | -0.006247005  | 0.009371311   | 0.010271101   | 0.003297981   | 0.005884212   | -0.006817162  |  4.545991e-05 | VT_U          | \n",
       "| -0.019979112  |  0.008557633  | -0.009018516  |  0.0136598851 |  3.472864e-04 |  0.011337582  |  0.023919179  | -0.012755397  | -3.540582e-03 | -1.782477e-05 | ⋯             | -0.01254098   | -0.01455521   | -0.006188177  | 0.009733369   | 0.010603459   | 0.003072848   | 0.006259113   | -0.007210967  |  5.012147e-05 | VT_U          | \n",
       "| -0.014922009  |  0.006248846  | -0.004720562  |  0.0090269106 |  1.048226e-04 |  0.006890341  |  0.012542169  | -0.008590538  | -1.460520e-03 | -1.636671e-04 | ⋯             | -0.01309785   | -0.01575001   | -0.007063808  | 0.010468430   | 0.011316183   | 0.003483095   | 0.006623598   | -0.007572050  |  3.456633e-05 | VT_U          | \n",
       "| -0.016097942  |  0.007523434  | -0.005262798  |  0.0094191844 |  1.540860e-04 |  0.010119060  |  0.015378624  | -0.009227099  | -1.836644e-03 |  3.358260e-03 | ⋯             | -0.01292898   | -0.01513420   | -0.006602797  | 0.010109458   | 0.010972649   | 0.003456667   | 0.006470804   | -0.007218564  |  4.391780e-05 | VT_U          | \n",
       "| -0.014837915  |  0.006491058  | -0.004827980  |  0.0086350784 |  1.977242e-04 |  0.007608328  |  0.011943854  | -0.005452061  | -2.374303e-03 | -2.158471e-04 | ⋯             | -0.01323772   | -0.01587328   | -0.006558357  | 0.010331267   | 0.010998572   | 0.003483012   | 0.006676250   | -0.007604702  |  3.468067e-05 | VT_U          | \n",
       "| -0.016761589  |  0.009022047  | -0.009207999  |  0.0128196289 |  1.709937e-04 |  0.010831041  |  0.019486762  | -0.015985526  | -1.600285e-05 | -1.616371e-03 | ⋯             | -0.01313844   | -0.01545461   | -0.006866463  | 0.010507423   | 0.011192493   | 0.003272736   | 0.006608809   | -0.007415651  |  4.125392e-05 | VT_U          | \n",
       "| -0.012706595  |  0.004097781  | -0.004877855  |  0.0077010710 |  2.117717e-04 |  0.005993803  |  0.010091116  | -0.006533940  | -1.071594e-03 | -8.953575e-05 | ⋯             | -0.01390949   | -0.01617656   | -0.007190000  | 0.010747597   | 0.011636756   | 0.003576941   | 0.006862503   | -0.007674376  |  3.639437e-05 | VT_U          | \n",
       "| -0.005633894  |  0.001799145  | -0.001364577  |  0.0023908197 |  1.928482e-05 |  0.001572921  |  0.002760810  | -0.001391707  | -3.520815e-04 |  5.226481e-04 | ⋯             | -0.02963939   | -0.03281660   | -0.012997545  | 0.018787583   | 0.019643289   | 0.005795565   | 0.010598838   | -0.012079208  |  3.559453e-05 | VT_U          | \n",
       "\n",
       "\n"
      ],
      "text/plain": [
       "    PC1           PC2           PC3           PC4           PC5          \n",
       "1    0.0001045627  8.742575e-06 -5.403543e-06  1.465511e-05  1.321112e-06\n",
       "2   -0.0095141367  4.815358e-03 -3.585374e-03  3.205088e-03  5.836631e-05\n",
       "3   -0.0061585496  2.624113e-03 -2.364706e-03  1.799066e-03  9.440653e-05\n",
       "4   -0.0150139687  8.868360e-03 -8.818629e-03  1.880300e-03 -1.674443e-04\n",
       "5   -0.0141571094  5.035983e-03 -4.477529e-03  7.444945e-03 -1.217901e-05\n",
       "6   -0.0086813276  3.953350e-03 -4.082677e-03  1.210387e-03  2.418218e-05\n",
       "7   -0.0196432357  1.281108e-02 -1.336309e-02  3.024633e-03  3.827733e-04\n",
       "8   -0.0062647054  2.685757e-03 -2.090139e-03  1.843331e-03 -8.289116e-05\n",
       "9   -0.0059948241  3.229099e-03 -2.692345e-03  5.920129e-04 -7.526546e-05\n",
       "10  -0.0131408082  6.500367e-03 -5.876479e-03  4.575823e-03 -1.994645e-04\n",
       "11  -0.0157405050  5.986617e-03 -5.426235e-03  1.066535e-02  4.295126e-04\n",
       "12  -0.0376074475  3.895613e-02 -9.577669e-02 -9.832997e-01 -5.597849e-03\n",
       "13  -0.0410980965  3.407916e-02  9.899808e-01 -7.928314e-02 -4.525252e-04\n",
       "14  -0.0035313027  1.359887e-03 -9.907855e-04  8.562218e-04 -2.860250e-05\n",
       "15  -0.0136409095  6.738991e-03 -5.460266e-03  5.581214e-03  6.630066e-05\n",
       "16  -0.0027016345  1.149993e-03 -9.072657e-04  7.653918e-04  2.504213e-05\n",
       "17  -0.0153892758  7.070685e-03 -6.637575e-03  5.489043e-03  1.125292e-04\n",
       "18  -0.0270721603  1.445394e-02 -1.588363e-02  3.798299e-02  5.091643e-04\n",
       "19  -0.0162342003  8.808141e-03 -9.515166e-03  3.612985e-03  2.091069e-05\n",
       "20  -0.0195676294  1.169522e-02 -1.399340e-02  5.280232e-03  3.407791e-04\n",
       "21  -0.0207561989  1.116674e-02 -1.174719e-02  1.107806e-02 -1.263418e-05\n",
       "22  -0.0211741642  1.154103e-02 -1.420078e-02  1.093669e-02  6.382141e-04\n",
       "23  -0.0085480389  4.456853e-03 -4.177597e-03  1.136397e-03 -3.875464e-05\n",
       "24  -0.0159815223  7.086180e-03 -5.733406e-03  1.047335e-02  2.263380e-04\n",
       "25  -0.0185304218  1.127953e-02 -1.132649e-02  3.061982e-03  4.322620e-04\n",
       "26   0.4151229406 -1.633727e-02  4.914506e-03 -1.761679e-03 -2.064339e-02\n",
       "27  -0.0098318394  3.423949e-03 -2.976170e-03  4.504815e-03 -4.405218e-05\n",
       "28  -0.0080347492  3.902708e-03 -3.605830e-03  4.858832e-04  2.425336e-05\n",
       "29  -0.0109600307  3.978129e-03 -3.526030e-03  6.417628e-03  1.452022e-04\n",
       "30  -0.0077705911  3.264977e-03 -2.867175e-03  3.021165e-03 -5.450697e-05\n",
       "⋮   ⋮             ⋮             ⋮             ⋮             ⋮            \n",
       "107 -0.014765048   0.006346952  -0.007470522   0.0066149611  5.234006e-04\n",
       "108 -0.006874186   0.001978552  -0.001779857   0.0033275774  4.670990e-05\n",
       "109 -0.005757898   0.001795911  -0.001507506   0.0023989429  7.343040e-05\n",
       "110 -0.008515812   0.002630215  -0.002183942   0.0036889835 -7.583903e-06\n",
       "111 -0.018255665   0.010310788  -0.011653569   0.0049762689  7.207044e-05\n",
       "112 -0.011145181   0.005264007  -0.004326871   0.0033049140  1.718387e-04\n",
       "113 -0.012891594   0.004801416  -0.003818677   0.0072054218  2.094065e-04\n",
       "114 -0.010726029   0.004115787  -0.002707472   0.0051027410  8.979105e-05\n",
       "115  0.247933429  -0.007499787   0.001414537  -0.0001622677 -8.798500e-03\n",
       "116 -0.011168873   0.004177503  -0.003244903   0.0059964199  4.753864e-05\n",
       "117 -0.013633288   0.004986209  -0.005031711   0.0074275174  5.394464e-05\n",
       "118 -0.024844014   0.012721959  -0.014009939   0.0291815758  8.891313e-05\n",
       "119 -0.007193115   0.002052581  -0.001806364   0.0040517192  1.926395e-05\n",
       "120 -0.011951010   0.004435084  -0.003431784   0.0070452794  1.463316e-03\n",
       "121  0.620419866  -0.034273235   0.022035672  -0.0280457611  7.015161e-01\n",
       "122 -0.013801473   0.004829592  -0.003791951   0.0088395834 -9.613491e-05\n",
       "123 -0.018896093   0.010566667  -0.009713486   0.0085320394  3.662895e-04\n",
       "124 -0.062408113  -0.994578986   0.021915580  -0.0302163769 -4.319736e-05\n",
       "125 -0.009362377   0.003208241  -0.002245542   0.0040333014  4.415615e-07\n",
       "126 -0.004056792   0.001088274  -0.000802955   0.0014233884 -4.577454e-05\n",
       "127 -0.012469950   0.004784641  -0.004066478   0.0069040158  2.551312e-04\n",
       "128 -0.009682250   0.004750606  -0.004064299   0.0064555048  1.394042e-04\n",
       "129 -0.024969320   0.013063691  -0.013764876   0.0268525982  3.907444e-04\n",
       "130 -0.019979112   0.008557633  -0.009018516   0.0136598851  3.472864e-04\n",
       "131 -0.014922009   0.006248846  -0.004720562   0.0090269106  1.048226e-04\n",
       "132 -0.016097942   0.007523434  -0.005262798   0.0094191844  1.540860e-04\n",
       "133 -0.014837915   0.006491058  -0.004827980   0.0086350784  1.977242e-04\n",
       "134 -0.016761589   0.009022047  -0.009207999   0.0128196289  1.709937e-04\n",
       "135 -0.012706595   0.004097781  -0.004877855   0.0077010710  2.117717e-04\n",
       "136 -0.005633894   0.001799145  -0.001364577   0.0023908197  1.928482e-05\n",
       "    PC6           PC7           PC8           PC9           PC10          ⋯\n",
       "1    9.308567e-06  1.660583e-05  3.105730e-06  1.989282e-05 -1.873556e-05 ⋯\n",
       "2    3.663636e-03  7.336985e-03 -4.989783e-03 -2.328281e-04  4.573036e-04 ⋯\n",
       "3    1.907508e-03  3.230242e-03 -2.248700e-03 -6.082239e-05  1.090549e-04 ⋯\n",
       "4    4.599401e-03  1.439048e-02 -1.233556e-02 -2.682577e-04  8.272755e-04 ⋯\n",
       "5    6.978175e-03  9.378620e-03 -4.445735e-03 -1.686785e-03 -4.648523e-04 ⋯\n",
       "6    1.921271e-03  6.172340e-03 -4.733912e-03 -1.228756e-04  4.755672e-04 ⋯\n",
       "7    9.488662e-03  2.742306e-02 -2.200360e-02  2.041281e-03  1.607222e-03 ⋯\n",
       "8    1.917626e-03  3.448495e-03 -2.251859e-03 -2.094575e-04  3.544283e-04 ⋯\n",
       "9    1.363982e-03  3.602041e-03 -3.062487e-03 -8.186907e-05 -1.049963e-04 ⋯\n",
       "10   5.312526e-03  1.048291e-02 -7.790822e-03 -5.730602e-04 -1.445941e-04 ⋯\n",
       "11   9.005600e-03  1.381087e-02 -8.798196e-03 -1.663882e-03 -3.961047e-04 ⋯\n",
       "12  -7.311522e-02 -7.937190e-02  3.803121e-02  1.503032e-04 -1.012093e-03 ⋯\n",
       "13  -5.443370e-02 -4.093841e-02  1.626625e-02  2.742868e-03  2.127848e-04 ⋯\n",
       "14   1.049120e-03  2.012083e-03 -1.375767e-03 -1.573721e-04 -1.637380e-04 ⋯\n",
       "15   5.782689e-03  1.108099e-02 -7.469454e-03 -1.206708e-03 -4.828856e-04 ⋯\n",
       "16   7.433012e-04  1.313020e-03 -8.891840e-04 -8.331693e-05  3.086615e-04 ⋯\n",
       "17   7.363118e-03  1.310885e-02 -9.908214e-03 -6.800449e-04 -1.463182e-03 ⋯\n",
       "18   3.965209e-02  1.433327e-01  9.768505e-01  2.108898e-02 -3.105415e-03 ⋯\n",
       "19   5.403105e-03  1.726654e-02 -1.427679e-02 -4.903253e-04  1.606881e-03 ⋯\n",
       "20   8.156018e-03  2.744664e-02 -2.262831e-02  3.135341e-04  1.108131e-03 ⋯\n",
       "21   1.274803e-02  3.072628e-02 -2.425917e-02 -2.474869e-03  3.099953e-03 ⋯\n",
       "22   1.431442e-02  3.262081e-02 -2.753740e-02 -2.323507e-03  3.018530e-03 ⋯\n",
       "23   2.473598e-03  5.567012e-03 -4.384133e-03 -8.122738e-05 -7.169289e-06 ⋯\n",
       "24   9.495000e-03  1.514437e-02 -9.413096e-03 -2.074097e-03  2.794304e-04 ⋯\n",
       "25   7.514924e-03  2.275060e-02 -1.843573e-02 -2.095396e-04  7.070374e-04 ⋯\n",
       "26   7.883914e-04  9.307182e-03 -4.210280e-02  8.448113e-01 -9.923950e-03 ⋯\n",
       "27   4.353781e-03  5.767407e-03 -3.347852e-03 -8.377512e-04 -1.551547e-04 ⋯\n",
       "28   2.245958e-03  5.957723e-03 -3.856933e-03 -1.196000e-04  1.213248e-04 ⋯\n",
       "29   4.938587e-03  7.051026e-03 -4.239168e-03 -8.238617e-04 -1.314382e-04 ⋯\n",
       "30   2.193328e-03  4.943801e-03 -3.691638e-03 -3.432331e-04 -1.031676e-04 ⋯\n",
       "⋮   ⋮             ⋮             ⋮             ⋮             ⋮             ⋱\n",
       "107  0.006556560   0.014601173  -0.010768703  -4.671027e-04 -1.555326e-03 ⋯\n",
       "108  0.002414765   0.004239842  -0.002245601  -3.571184e-04 -5.225820e-04 ⋯\n",
       "109  0.002132160   0.003088756  -0.001737816  -2.032816e-04  2.373456e-04 ⋯\n",
       "110  0.003344056   0.005235468  -0.002735444  -4.042699e-04  1.403229e-04 ⋯\n",
       "111  0.007423019   0.022700874  -0.018420618   1.303214e-04  1.917213e-03 ⋯\n",
       "112  0.005022384   0.007817611  -0.005399486  -3.583379e-04  4.416412e-04 ⋯\n",
       "113  0.006365986   0.009790984  -0.004846357  -8.387702e-04 -1.127225e-03 ⋯\n",
       "114  0.004017658   0.007061933  -0.004104452  -9.637454e-04 -3.795180e-04 ⋯\n",
       "115  0.001055846   0.003152221  -0.008115880   9.662575e-02 -1.729265e-03 ⋯\n",
       "116  0.004886571   0.008014811  -0.003833173  -9.523740e-04 -5.019202e-04 ⋯\n",
       "117  0.006099832   0.011092855  -0.006702897  -1.633022e-03 -1.964916e-03 ⋯\n",
       "118  0.027528975   0.074642890  -0.093287946  -2.050466e-01 -6.957844e-01 ⋯\n",
       "119  0.002394345   0.003938292  -0.002683190  -5.827311e-04 -5.916040e-04 ⋯\n",
       "120  0.005964733   0.009434879  -0.004752135  -1.894419e-03 -1.437968e-03 ⋯\n",
       "121  0.007682506  -0.014828767   0.028792556  -3.058806e-01  3.979573e-03 ⋯\n",
       "122  0.007370560   0.010004105  -0.005675959  -1.572364e-03 -2.862375e-03 ⋯\n",
       "123  0.010670542   0.025962134  -0.021173349  -1.130387e-03 -1.237247e-03 ⋯\n",
       "124 -0.019125921  -0.021427490   0.010623137   1.252296e-03  5.314622e-04 ⋯\n",
       "125  0.003698326   0.004885108  -0.003194152  -8.966229e-04 -9.009238e-05 ⋯\n",
       "126  0.001434498   0.001956521  -0.001214292  -1.334035e-04 -4.030881e-04 ⋯\n",
       "127  0.006295493   0.008585837  -0.004217750  -1.031822e-03 -7.351020e-04 ⋯\n",
       "128  0.006035300   0.008854061  -0.006028221   3.700084e-04 -1.096247e-03 ⋯\n",
       "129  0.033052283   0.072246060  -0.086759717  -1.828238e-01  7.180595e-01 ⋯\n",
       "130  0.011337582   0.023919179  -0.012755397  -3.540582e-03 -1.782477e-05 ⋯\n",
       "131  0.006890341   0.012542169  -0.008590538  -1.460520e-03 -1.636671e-04 ⋯\n",
       "132  0.010119060   0.015378624  -0.009227099  -1.836644e-03  3.358260e-03 ⋯\n",
       "133  0.007608328   0.011943854  -0.005452061  -2.374303e-03 -2.158471e-04 ⋯\n",
       "134  0.010831041   0.019486762  -0.015985526  -1.600285e-05 -1.616371e-03 ⋯\n",
       "135  0.005993803   0.010091116  -0.006533940  -1.071594e-03 -8.953575e-05 ⋯\n",
       "136  0.001572921   0.002760810  -0.001391707  -3.520815e-04  5.226481e-04 ⋯\n",
       "    PC128         PC129         PC130         PC131         PC132        \n",
       "1    3.583077e-05  7.372558e-05  4.594382e-05 -0.0000169125 -0.0000519697\n",
       "2   -1.598700e-02 -1.856954e-02 -7.963892e-03  0.0118533961  0.0119510917\n",
       "3   -2.377548e-02 -2.593725e-02 -1.036034e-02  0.0163232370  0.0156218492\n",
       "4   -1.394616e-02 -1.588172e-02 -6.693126e-03  0.0103124558  0.0105522076\n",
       "5   -1.384152e-02 -1.610036e-02 -6.828180e-03  0.0104942975  0.0114814746\n",
       "6   -1.909295e-02 -2.093977e-02 -8.613604e-03  0.0131123264  0.0129200485\n",
       "7   -1.274443e-02 -1.498536e-02 -6.612080e-03  0.0099053936  0.0099298370\n",
       "8   -2.510647e-02 -2.788025e-02 -1.164642e-02  0.0169859297  0.0167021964\n",
       "9   -2.675027e-02 -2.944096e-02 -1.182845e-02  0.0175961743  0.0162921115\n",
       "10  -1.417438e-02 -1.629829e-02 -6.761830e-03  0.0108246148  0.0113457075\n",
       "11  -1.297580e-02 -1.528837e-02 -6.594364e-03  0.0101690933  0.0108727069\n",
       "12  -1.174693e-02 -1.341129e-02 -5.718094e-03  0.0091386072  0.0088774286\n",
       "13  -1.099550e-02 -1.292196e-02 -5.545083e-03  0.0089161636  0.0096711899\n",
       "14   4.654456e-01 -8.594389e-01 -5.908650e-02  0.0748998879  0.0491259119\n",
       "15  -1.426841e-02 -1.596416e-02 -6.805086e-03  0.0106297858  0.0108909088\n",
       "16   3.038482e-02  4.127040e-02  2.505763e-02 -0.0451299566 -0.0866135367\n",
       "17  -1.375761e-02 -1.557622e-02 -6.648607e-03  0.0103045749  0.0104537779\n",
       "18  -1.144200e-02 -1.382496e-02 -5.783855e-03  0.0092667907  0.0101862040\n",
       "19  -1.378630e-02 -1.559012e-02 -6.755864e-03  0.0101440546  0.0102289280\n",
       "20  -1.304481e-02 -1.491063e-02 -6.435869e-03  0.0097654699  0.0097452338\n",
       "21  -1.239116e-02 -1.447258e-02 -6.150509e-03  0.0097989929  0.0103065910\n",
       "22  -1.228452e-02 -1.432007e-02 -6.307637e-03  0.0096078135  0.0101726848\n",
       "23  -1.796047e-02 -2.045116e-02 -8.686875e-03  0.0129394810  0.0125513282\n",
       "24  -1.314045e-02 -1.526809e-02 -6.509319e-03  0.0099928478  0.0111959759\n",
       "25  -1.301065e-02 -1.499130e-02 -6.307449e-03  0.0102537553  0.0097246686\n",
       "26  -1.453302e-02 -1.720625e-02 -7.556636e-03  0.0115288984  0.0123975220\n",
       "27  -1.555845e-02 -1.839281e-02 -7.427280e-03  0.0118622786  0.0127459352\n",
       "28  -1.944444e-02 -2.195019e-02 -9.084142e-03  0.0136186928  0.0129166168\n",
       "29  -1.525364e-02 -1.727542e-02 -7.586920e-03  0.0115337582  0.0122347529\n",
       "30  -1.868103e-02 -2.112368e-02 -9.150055e-03  0.0138474322  0.0134909297\n",
       "⋮   ⋮             ⋮             ⋮             ⋮             ⋮            \n",
       "107 -0.01355340   -0.01579562   -0.006625669  0.010587637   0.011059439  \n",
       "108 -0.01957374   -0.02272363   -0.009523867  0.014940790   0.015154232  \n",
       "109 -0.02509085   -0.02791890   -0.011136371  0.017452777   0.017418382  \n",
       "110 -0.01735647   -0.02000608   -0.008476066  0.012985643   0.013887938  \n",
       "111 -0.01304338   -0.01533540   -0.006474924  0.010150512   0.009997340  \n",
       "112 -0.01559587   -0.01745313   -0.007219125  0.011500339   0.011415416  \n",
       "113 -0.01340469   -0.01596691   -0.007090090  0.010502964   0.011699985  \n",
       "114 -0.01506854   -0.01756322   -0.007505170  0.011596617   0.012256461  \n",
       "115 -0.01683184   -0.01977676   -0.008543556  0.013280782   0.013868357  \n",
       "116 -0.01459844   -0.01704430   -0.007130794  0.010957385   0.012156299  \n",
       "117 -0.01283196   -0.01557527   -0.006668080  0.010435743   0.011606959  \n",
       "118 -0.01168365   -0.01371374   -0.006135636  0.009117744   0.010073500  \n",
       "119 -0.02035869   -0.02277957   -0.009578185  0.014553468   0.015291467  \n",
       "120 -0.01412067   -0.01642666   -0.007339497  0.010880706   0.011733061  \n",
       "121 -0.01326719   -0.01571422   -0.006872298  0.010598854   0.011357616  \n",
       "122 -0.01325739   -0.01581620   -0.006834898  0.010661149   0.011234033  \n",
       "123 -0.01267506   -0.01476442   -0.006535187  0.009970940   0.010219821  \n",
       "124 -0.01074378   -0.01264734   -0.005545082  0.008672521   0.009315652  \n",
       "125 -0.01622207   -0.01898398   -0.008035266  0.012090195   0.013150369  \n",
       "126 -0.07396876   -0.06973822   -0.023368093  0.033020787   0.030232642  \n",
       "127 -0.01389520   -0.01610764   -0.007040158  0.010647211   0.011707817  \n",
       "128 -0.01772749   -0.02034672   -0.008764576  0.013222496   0.013781931  \n",
       "129 -0.01182781   -0.01397535   -0.006247005  0.009371311   0.010271101  \n",
       "130 -0.01254098   -0.01455521   -0.006188177  0.009733369   0.010603459  \n",
       "131 -0.01309785   -0.01575001   -0.007063808  0.010468430   0.011316183  \n",
       "132 -0.01292898   -0.01513420   -0.006602797  0.010109458   0.010972649  \n",
       "133 -0.01323772   -0.01587328   -0.006558357  0.010331267   0.010998572  \n",
       "134 -0.01313844   -0.01545461   -0.006866463  0.010507423   0.011192493  \n",
       "135 -0.01390949   -0.01617656   -0.007190000  0.010747597   0.011636756  \n",
       "136 -0.02963939   -0.03281660   -0.012997545  0.018787583   0.019643289  \n",
       "    PC133         PC134         PC135         PC136         Pop \n",
       "1    1.401270e-06 -7.472238e-05  5.728101e-05  9.999999e-01 NJ_E\n",
       "2    3.455966e-03  7.370795e-03 -8.172656e-03  1.162768e-05 NJ_E\n",
       "3    3.871987e-03  8.819247e-03 -1.003454e-02  1.163414e-05 NJ_E\n",
       "4    2.880229e-03  6.214050e-03 -6.777502e-03  3.446585e-05 NJ_E\n",
       "5    3.356246e-03  6.685331e-03 -7.802489e-03  3.576137e-05 NJ_E\n",
       "6    3.426052e-03  7.414959e-03 -8.116950e-03  4.622629e-05 NJ_E\n",
       "7    2.885828e-03  5.964795e-03 -6.452900e-03  3.104853e-05 NJ_E\n",
       "8    4.304766e-03  9.466103e-03 -1.000257e-02  3.374206e-05 NJ_E\n",
       "9    4.228100e-03  9.727529e-03 -1.013341e-02  3.395494e-05 NJ_E\n",
       "10   3.013968e-03  6.735799e-03 -7.373153e-03  3.651448e-05 NJ_E\n",
       "11   3.343832e-03  6.505286e-03 -7.270418e-03  3.362454e-05 NJ_E\n",
       "12   2.374111e-03  5.703680e-03 -6.057023e-03  4.012854e-05 NJ_E\n",
       "13   2.835872e-03  5.847817e-03 -6.621390e-03  3.219521e-05 NJ_E\n",
       "14   7.054067e-03  2.081264e-02 -2.215695e-02  1.170293e-05 NJ_E\n",
       "15   2.847278e-03  6.493718e-03 -7.028543e-03  2.380281e-05 NJ_E\n",
       "16  -4.303562e-01  8.273778e-01 -3.384276e-01  5.654564e-05 NJ_E\n",
       "17   2.827501e-03  6.837089e-03 -7.088349e-03  2.288788e-05 NJ_E\n",
       "18   3.019588e-03  6.077975e-03 -6.745940e-03  1.981414e-05 NJ_E\n",
       "19   2.825330e-03  6.223531e-03 -6.745775e-03  3.364652e-05 NJ_E\n",
       "20   2.692027e-03  6.386411e-03 -6.518957e-03  3.134824e-05 NJ_E\n",
       "21   2.910590e-03  6.250463e-03 -6.779512e-03  2.095754e-05 NJ_E\n",
       "22   2.785625e-03  6.311747e-03 -6.764633e-03  3.018531e-05 NJ_E\n",
       "23   3.082714e-03  7.536857e-03 -7.761094e-03  2.838855e-05 NJ_U\n",
       "24   3.401885e-03  6.353931e-03 -7.298796e-03  4.449919e-05 NJ_U\n",
       "25   2.877084e-03  6.220642e-03 -6.584601e-03  4.217625e-05 NJ_U\n",
       "26   3.579940e-03  7.650710e-03 -8.425799e-03 -2.600042e-05 NJ_U\n",
       "27   3.541223e-03  7.564068e-03 -8.326385e-03  4.225071e-05 NJ_U\n",
       "28   2.940524e-03  8.047072e-03 -8.186353e-03  4.777051e-05 NJ_U\n",
       "29   3.873637e-03  7.101119e-03 -8.178501e-03  3.983752e-05 NJ_U\n",
       "30   4.096673e-03  7.969710e-03 -8.729198e-03  2.960965e-05 NJ_U\n",
       "⋮   ⋮             ⋮             ⋮             ⋮             ⋮   \n",
       "107 0.003021097   0.006297195   -0.007209481   4.601587e-05 VT_E\n",
       "108 0.004077276   0.008423757   -0.009391827   5.099755e-05 VT_E\n",
       "109 0.004385894   0.009789026   -0.010837587   1.172403e-05 VT_E\n",
       "110 0.004015495   0.007938265   -0.009003414   2.852543e-05 VT_E\n",
       "111 0.002725839   0.006023433   -0.006699218   3.214074e-05 VT_E\n",
       "112 0.003291452   0.006824217   -0.007520901   3.970789e-05 VT_E\n",
       "113 0.003399711   0.006731925   -0.007724295   2.416139e-05 VT_E\n",
       "114 0.003959797   0.007149575   -0.008156746   4.019198e-05 VT_E\n",
       "115 0.003970608   0.008657551   -0.009281697  -3.145303e-05 VT_U\n",
       "116 0.003238980   0.007157066   -0.007703545   1.164946e-05 VT_U\n",
       "117 0.002963324   0.006646467   -0.007588542   2.365613e-05 VT_U\n",
       "118 0.002914290   0.006130319   -0.006974171   2.021869e-05 VT_U\n",
       "119 0.004403944   0.008641186   -0.009654774   5.033308e-05 VT_U\n",
       "120 0.003515789   0.006920958   -0.007629845   3.723514e-05 VT_U\n",
       "121 0.003309923   0.007100811   -0.007830678  -3.353047e-05 VT_U\n",
       "122 0.003402349   0.006709710   -0.007576614   2.367565e-05 VT_U\n",
       "123 0.003054222   0.006283842   -0.006946045   3.128662e-05 VT_U\n",
       "124 0.002773787   0.005825448   -0.006346712   3.549501e-05 VT_U\n",
       "125 0.003586929   0.007459274   -0.008753711   2.747403e-05 VT_U\n",
       "126 0.006937172   0.014980863   -0.015572555   1.184958e-05 VT_U\n",
       "127 0.003429556   0.006798523   -0.007557208   2.451155e-05 VT_U\n",
       "128 0.004211695   0.008114926   -0.009108867   5.774270e-05 VT_U\n",
       "129 0.003297981   0.005884212   -0.006817162   4.545991e-05 VT_U\n",
       "130 0.003072848   0.006259113   -0.007210967   5.012147e-05 VT_U\n",
       "131 0.003483095   0.006623598   -0.007572050   3.456633e-05 VT_U\n",
       "132 0.003456667   0.006470804   -0.007218564   4.391780e-05 VT_U\n",
       "133 0.003483012   0.006676250   -0.007604702   3.468067e-05 VT_U\n",
       "134 0.003272736   0.006608809   -0.007415651   4.125392e-05 VT_U\n",
       "135 0.003576941   0.006862503   -0.007674376   3.639437e-05 VT_U\n",
       "136 0.005795565   0.010598838   -0.012079208   3.559453e-05 VT_U"
      ]
     },
     "metadata": {},
     "output_type": "display_data"
    }
   ],
   "source": [
    "PC"
   ]
  },
  {
   "cell_type": "code",
   "execution_count": 13,
   "metadata": {
    "collapsed": false
   },
   "outputs": [
    {
     "data": {},
     "metadata": {},
     "output_type": "display_data"
    },
    {
     "data": {
      "image/png": "[encoded data removed]",
      "text/plain": [
       "plot without title"
      ]
     },
     "metadata": {},
     "output_type": "display_data"
    }
   ],
   "source": [
    "ggplot(data=PC, aes_string(color=\"Pop\"))"
   ]
  },
  {
   "cell_type": "code",
   "execution_count": null,
   "metadata": {
    "collapsed": true
   },
   "outputs": [],
   "source": []
  }
 ],
 "metadata": {
  "anaconda-cloud": {},
  "kernelspec": {
   "display_name": "R",
   "language": "R",
   "name": "ir"
  },
  "language_info": {
   "codemirror_mode": "r",
   "file_extension": ".r",
   "mimetype": "text/x-r-source",
   "name": "R",
   "pygments_lexer": "r",
   "version": "3.3.2"
  }
 },
 "nbformat": 4,
 "nbformat_minor": 1
}
