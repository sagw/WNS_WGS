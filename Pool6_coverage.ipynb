{
 "cells": [
  {
   "cell_type": "code",
   "execution_count": 1,
   "metadata": {
    "collapsed": true
   },
   "outputs": [],
   "source": [
    "setwd (\"~/WGS/Sequences/Metrics/\")"
   ]
  },
  {
   "cell_type": "code",
   "execution_count": 2,
   "metadata": {
    "collapsed": true
   },
   "outputs": [],
   "source": [
    "cov=read.table(\"Coverage_Pool6.txt\")"
   ]
  },
  {
   "cell_type": "code",
   "execution_count": 3,
   "metadata": {
    "collapsed": true
   },
   "outputs": [],
   "source": [
    "colnames(cov)=c(\"Scaffold\", \"depth\", \"NumBp\", \"BpTotal\", \"Percent\", \"Sample\")"
   ]
  },
  {
   "cell_type": "code",
   "execution_count": 4,
   "metadata": {
    "collapsed": true
   },
   "outputs": [],
   "source": [
    "cov$percentage=(as.numeric(as.character(cov$Percent)))*100"
   ]
  },
  {
   "cell_type": "code",
   "execution_count": 5,
   "metadata": {
    "collapsed": true
   },
   "outputs": [],
   "source": [
    "zero=cov[cov$depth==0,]"
   ]
  },
  {
   "cell_type": "code",
   "execution_count": 6,
   "metadata": {
    "collapsed": false
   },
   "outputs": [
    {
     "data": {
      "text/html": [
       "<table>\n",
       "<thead><tr><th></th><th scope=col>Scaffold</th><th scope=col>depth</th><th scope=col>NumBp</th><th scope=col>BpTotal</th><th scope=col>Percent</th><th scope=col>Sample</th><th scope=col>percentage</th></tr></thead>\n",
       "<tbody>\n",
       "\t<tr><th scope=row>1</th><td>GL429767</td><td>0       </td><td>18052334</td><td>64990205</td><td>0.277770</td><td>NJ_E_05 </td><td>27.7770 </td></tr>\n",
       "\t<tr><th scope=row>77</th><td>GL429768</td><td>0       </td><td>11221410</td><td>39494369</td><td>0.284127</td><td>NJ_E_05 </td><td>28.4127 </td></tr>\n",
       "\t<tr><th scope=row>240</th><td>GL429769</td><td>0       </td><td>16342656</td><td>32863254</td><td>0.497293</td><td>NJ_E_05 </td><td>49.7293 </td></tr>\n",
       "\t<tr><th scope=row>345</th><td>GL429770</td><td>0       </td><td> 8495809</td><td>30916457</td><td>0.274799</td><td>NJ_E_05 </td><td>27.4799 </td></tr>\n",
       "\t<tr><th scope=row>386</th><td>GL429771</td><td>0       </td><td>11789302</td><td>22519077</td><td>0.523525</td><td>NJ_E_05 </td><td>52.3525 </td></tr>\n",
       "\t<tr><th scope=row>432</th><td>GL429772</td><td>0       </td><td> 6104472</td><td>20945196</td><td>0.291450</td><td>NJ_E_05 </td><td>29.1450 </td></tr>\n",
       "</tbody>\n",
       "</table>\n"
      ],
      "text/latex": [
       "\\begin{tabular}{r|lllllll}\n",
       "  & Scaffold & depth & NumBp & BpTotal & Percent & Sample & percentage\\\\\n",
       "\\hline\n",
       "\t1 & GL429767    & 0           & 18052334    & 64990205    & 0.277770    & NJ\\_E\\_05 & 27.7770    \\\\\n",
       "\t77 & GL429768    & 0           & 11221410    & 39494369    & 0.284127    & NJ\\_E\\_05 & 28.4127    \\\\\n",
       "\t240 & GL429769    & 0           & 16342656    & 32863254    & 0.497293    & NJ\\_E\\_05 & 49.7293    \\\\\n",
       "\t345 & GL429770    & 0           &  8495809    & 30916457    & 0.274799    & NJ\\_E\\_05 & 27.4799    \\\\\n",
       "\t386 & GL429771    & 0           & 11789302    & 22519077    & 0.523525    & NJ\\_E\\_05 & 52.3525    \\\\\n",
       "\t432 & GL429772    & 0           &  6104472    & 20945196    & 0.291450    & NJ\\_E\\_05 & 29.1450    \\\\\n",
       "\\end{tabular}\n"
      ],
      "text/markdown": [
       "\n",
       "| <!--/--> | Scaffold | depth | NumBp | BpTotal | Percent | Sample | percentage | \n",
       "|---|---|---|---|---|---|\n",
       "| 1 | GL429767 | 0        | 18052334 | 64990205 | 0.277770 | NJ_E_05  | 27.7770  | \n",
       "| 77 | GL429768 | 0        | 11221410 | 39494369 | 0.284127 | NJ_E_05  | 28.4127  | \n",
       "| 240 | GL429769 | 0        | 16342656 | 32863254 | 0.497293 | NJ_E_05  | 49.7293  | \n",
       "| 345 | GL429770 | 0        |  8495809 | 30916457 | 0.274799 | NJ_E_05  | 27.4799  | \n",
       "| 386 | GL429771 | 0        | 11789302 | 22519077 | 0.523525 | NJ_E_05  | 52.3525  | \n",
       "| 432 | GL429772 | 0        |  6104472 | 20945196 | 0.291450 | NJ_E_05  | 29.1450  | \n",
       "\n",
       "\n"
      ],
      "text/plain": [
       "    Scaffold depth NumBp    BpTotal  Percent  Sample  percentage\n",
       "1   GL429767 0     18052334 64990205 0.277770 NJ_E_05 27.7770   \n",
       "77  GL429768 0     11221410 39494369 0.284127 NJ_E_05 28.4127   \n",
       "240 GL429769 0     16342656 32863254 0.497293 NJ_E_05 49.7293   \n",
       "345 GL429770 0      8495809 30916457 0.274799 NJ_E_05 27.4799   \n",
       "386 GL429771 0     11789302 22519077 0.523525 NJ_E_05 52.3525   \n",
       "432 GL429772 0      6104472 20945196 0.291450 NJ_E_05 29.1450   "
      ]
     },
     "metadata": {},
     "output_type": "display_data"
    }
   ],
   "source": [
    "head(zero)"
   ]
  },
  {
   "cell_type": "code",
   "execution_count": 7,
   "metadata": {
    "collapsed": true
   },
   "outputs": [],
   "source": [
    "zero$Percentage=NULL\n",
    "zero$Percent=NULL\n",
    "zero$depth=NULL"
   ]
  },
  {
   "cell_type": "code",
   "execution_count": 8,
   "metadata": {
    "collapsed": false
   },
   "outputs": [
    {
     "name": "stderr",
     "output_type": "stream",
     "text": [
      "Loading required package: plyr\n"
     ]
    }
   ],
   "source": [
    "require(plyr)"
   ]
  },
  {
   "cell_type": "code",
   "execution_count": 9,
   "metadata": {
    "collapsed": true
   },
   "outputs": [],
   "source": [
    "zero$NumBp=as.numeric(as.character(zero$NumBp))"
   ]
  },
  {
   "cell_type": "code",
   "execution_count": 10,
   "metadata": {
    "collapsed": true
   },
   "outputs": [],
   "source": [
    "zero$BpTotal=as.numeric(as.character(zero$BpTotal))"
   ]
  },
  {
   "cell_type": "code",
   "execution_count": 11,
   "metadata": {
    "collapsed": true
   },
   "outputs": [],
   "source": [
    "zerosum=ddply(zero, \"Sample\", numcolwise(sum))"
   ]
  },
  {
   "cell_type": "code",
   "execution_count": 12,
   "metadata": {
    "collapsed": true
   },
   "outputs": [],
   "source": [
    "zerosum$percentage=(1-(zerosum$NumBp/zerosum$BpTotal))*100"
   ]
  },
  {
   "cell_type": "code",
   "execution_count": 13,
   "metadata": {
    "collapsed": false
   },
   "outputs": [
    {
     "name": "stderr",
     "output_type": "stream",
     "text": [
      "Loading required package: ggplot2\n"
     ]
    }
   ],
   "source": [
    "require(ggplot2)"
   ]
  },
  {
   "cell_type": "code",
   "execution_count": 14,
   "metadata": {
    "collapsed": true
   },
   "outputs": [],
   "source": [
    "plot=ggplot(data=zerosum, aes(x=Sample, y=percentage))+\n",
    "  geom_bar(data=zerosum, stat=\"identity\")+\n",
    "  theme_bw()+ylab(\"Percent >= 1x coverage\")+\n",
    "  theme(axis.text.x = element_text(angle = 90, hjust = 1))"
   ]
  },
  {
   "cell_type": "code",
   "execution_count": 15,
   "metadata": {
    "collapsed": false
   },
   "outputs": [
    {
     "data": {},
     "metadata": {},
     "output_type": "display_data"
    },
    {
     "data": {
      "image/png": "[encoded data removed]",
      "text/plain": [
       "plot without title"
      ]
     },
     "metadata": {},
     "output_type": "display_data"
    }
   ],
   "source": [
    "plot"
   ]
  },
  {
   "cell_type": "code",
   "execution_count": null,
   "metadata": {
    "collapsed": true
   },
   "outputs": [],
   "source": []
  }
 ],
 "metadata": {
  "kernelspec": {
   "display_name": "R",
   "language": "R",
   "name": "ir"
  },
  "language_info": {
   "codemirror_mode": "r",
   "file_extension": ".r",
   "mimetype": "text/x-r-source",
   "name": "R",
   "pygments_lexer": "r",
   "version": "3.3.2"
  }
 },
 "nbformat": 4,
 "nbformat_minor": 1
}
