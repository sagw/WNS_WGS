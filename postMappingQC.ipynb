{
 "cells": [
  {
   "cell_type": "markdown",
   "metadata": {},
   "source": [
    "Just going to try to do all of this with picard tools if possible"
   ]
  },
  {
   "cell_type": "markdown",
   "metadata": {},
   "source": [
    "Sort sam file, convert to bam"
   ]
  },
  {
   "cell_type": "code",
   "execution_count": null,
   "metadata": {
    "collapsed": true
   },
   "outputs": [],
   "source": [
    "java -jar /local/home/sarahgw/picard.jar SortSam \\\n",
    "      I=/local/home/sarahgw/WGS/Sequences/hiseq_2016_12_07_complete/NJ_E_23/NJ_E_23_paired_eg2.sam \\\n",
    "      O=/local/home/sarahgw/WGS/Sequences/hiseq_2016_12_07_complete/NJ_E_23/NJ_E_23_paired_eg2_sorted.bam \\\n",
    "      SORT_ORDER=coordinate"
   ]
  },
  {
   "cell_type": "markdown",
   "metadata": {},
   "source": [
    "SORT_ORDER=coordinate    VERBOSITY=INFO QUIET=false VALIDATION_STRINGENCY=STRICT COMPRESSION_LEVEL=5 MAX_RECORDS_IN_RAM=500000 CREATE_INDEX=false CREATE_MD5_FILE=false GA4GH_CLIENT_SECRETS=client_secrets.json\n",
    "[Wed Jan 04 18:14:05 EST 2017] Executing as sarahgw@amphiprion.deenr.rutgers.edu on Linux 2.6.32-573.12.1.el6.x86_64 amd64; Java HotSpot(TM) 64-Bit Server VM 1.8.0_45-b14; Picard version: 2.8.0-SNAPSHOT\n",
    "INFO    2017-01-04 18:19:37     SortSam Read    10,000,000 records.  Elapsed time: 00:05:30s.  Time for last 10,000,000:  330s.  Last read position: GL430553:56,088\n",
    "INFO    2017-01-04 18:22:22     SortSam Finished reading inputs, merging and writing to output now.\n",
    "INFO    2017-01-04 18:26:20     SortSam Wrote    10,000,000 records from a sorting collection.  Elapsed time: 00:12:12s.  Time for last 10,000,000:  237s.  Last read position: GL429898:3,062,968\n",
    "[Wed Jan 04 18:29:14 EST 2017] picard.sam.SortSam done. Elapsed time: 15.15 minutes.\n",
    "Runtime.totalMemory()=11426332672\n"
   ]
  },
  {
   "cell_type": "markdown",
   "metadata": {},
   "source": [
    "Calculate metrics "
   ]
  },
  {
   "cell_type": "code",
   "execution_count": null,
   "metadata": {
    "collapsed": false
   },
   "outputs": [],
   "source": [
    "java -jar /local/home/sarahgw/picard.jar CollectWgsMetrics \\\n",
    "I= /local/home/sarahgw/WGS/Sequences/hiseq_2016_12_07_complete/NJ_E_23/NJ_E_23_paired_eg2_sorted.bam \\\n",
    "       O=/local/home/sarahgw/WGS/Sequences/hiseq_2016_12_07_complete/NJ_E_23/NJ_E_23_wgs_metrics.txt \\\n",
    "       R= /local/home/sarahgw/references/Myotis_Lucifugus2.0/MyoLuc.fna \\\n",
    "        CAP=1000"
   ]
  },
  {
   "cell_type": "code",
   "execution_count": 1,
   "metadata": {
    "collapsed": false
   },
   "outputs": [
    {
     "name": "stdout",
     "output_type": "stream",
     "text": [
      "## htsjdk.samtools.metrics.StringHeader\n",
      "# picard.analysis.CollectWgsMetrics INPUT=/local/home/sarahgw/WGS/Sequences/hise \bq_2016_12_07_complete/NJ_E_23/NJ_E_23_paired_eg2_sorted.bam OUTPUT=/local/home/s \barahgw/WGS/Sequences/hiseq_2016_12_07_complete/NJ_E_23/NJ_E_23_wgs_metrics.txt R \bEFERENCE_SEQUENCE=/local/home/sarahgw/references/Myotis_Lucifugus2.0/MyoLuc.fna  \b   MINIMUM_MAPPING_QUALITY=20 MINIMUM_BASE_QUALITY=20 COVERAGE_CAP=250 LOCUS_ACC \bUMULATION_CAP=100000 STOP_AFTER=-1 INCLUDE_BQ_HISTOGRAM=false COUNT_UNPAIRED=fal \bse SAMPLE_SIZE=10000 VERBOSITY=INFO QUIET=false VALIDATION_STRINGENCY=STRICT COM \bPRESSION_LEVEL=5 MAX_RECORDS_IN_RAM=500000 CREATE_INDEX=false CREATE_MD5_FILE=fa \blse GA4GH_CLIENT_SECRETS=client_secrets.json\n",
      "## htsjdk.samtools.metrics.StringHeader\n",
      "# Started on: Wed Jan 04 18:40:23 EST 2017\n",
      "\n",
      "## METRICS CLASS        picard.analysis.CollectWgsMetrics$WgsMetrics\n",
      "GENOME_TERRITORY        MEAN_COVERAGE   SD_COVERAGE     MEDIAN_COVERAGE MAD_COVE \bRAGE    PCT_EXC_MAPQ    PCT_EXC_DUPE    PCT_EXC_UNPAIRED        PCT_EXC_BASEQ    \bPCT_EXC_OVERLAP PCT_EXC_CAPPED  PCT_EXC_TOTAL   PCT_1X  PCT_5X  PCT_10X PCT_15X  \bPCT_20X PCT_25X PCT_30X PCT_40X PCT_50X PCT_60X PCT_70X PCT_80X PCT_90X PCT_100X \b        HET_SNP_SENSITIVITY     HET_SNP_Q\n",
      "\u001b[K0.000006        0.000006        0.000006        0.000005        0.30177 2\n",
      ":\u001b[K"
     ]
    }
   ],
   "source": [
    "!less /local/home/sarahgw/WGS/Sequences/hiseq_2016_12_07_complete/NJ_E_23/NJ_E_23_wgs_metrics.txt "
   ]
  },
  {
   "cell_type": "markdown",
   "metadata": {},
   "source": [
    "GENOME_TERRITORY 1,966,419,868\n",
    "MEAN_COVERAGE 0.832228\n",
    "SD_COVERAGE 1.183708\n",
    "MEDIAN_COVERAGE 0\n",
    "MAD_COVERAGE 0\n",
    "PCT_EXC_MAPQ 0.15817\n",
    "PCT_EXC_DUPE 0.001832\n",
    "PCT_EXC_UNPAIRED 0.017254\n",
    "PCT_EXC_BASEQ 0.146752\n",
    "PCT_EXC_OVERLAP 0.000038\n",
    "PCT_EXC_CAPPED 0.324045\n",
    "PCT_EXC_TOTAL 0.495059\n",
    "PCT_1X 0.007237\n",
    "PCT_5X 0.000036\n",
    "PCT_10X 0.000019\n",
    "PCT_20X 0.000015\n",
    "PCT_30X 0.000013\n",
    "PCT_40X 0.000012\n",
    "PCT_50X 0.000009\n",
    "PCT_60X 0.000008\n",
    "PCT_70X 0.000006\n",
    "PCT_80X 0.000006\n",
    "PCT_90X 0.000006\n",
    "PCT_100X 0.000006\n",
    "HET_SNP_SENSITIVITY 0.000005\n",
    "HET_SNP_Q 0.30177\t2\n",
    "\n",
    "\n",
    "\n",
    "\n",
    "\n"
   ]
  },
  {
   "cell_type": "code",
   "execution_count": null,
   "metadata": {
    "collapsed": true
   },
   "outputs": [],
   "source": [
    "java -jar /local/home/sarahgw/picard.jar SortSam \\\n",
    "      I=/local/home/sarahgw/WGS/Sequences/hiseq_2016_12_07_complete/NJ_U_02/NJ_U_02_paired_eg2.sam \\\n",
    "      O=/local/home/sarahgw/WGS/Sequences/hiseq_2016_12_07_complete/NJ_U_02/NJ_U_02_paired_eg2_sorted.bam \\\n",
    "      SORT_ORDER=coordinate"
   ]
  },
  {
   "cell_type": "code",
   "execution_count": null,
   "metadata": {
    "collapsed": true
   },
   "outputs": [],
   "source": [
    "java -jar /local/home/sarahgw/picard.jar CollectWgsMetrics \\\n",
    "I= /local/home/sarahgw/WGS/Sequences/hiseq_2016_12_07_complete/NJ_U_02/NJ_U_02_paired_eg2_sorted.bam \\\n",
    "       O=/local/home/sarahgw/WGS/Sequences/hiseq_2016_12_07_complete/NJ_U_02/NJ_U_02_wgs_metrics.txt \\\n",
    "       R= /local/home/sarahgw/references/Myotis_Lucifugus2.0/MyoLuc.fna "
   ]
  },
  {
   "cell_type": "code",
   "execution_count": 2,
   "metadata": {
    "collapsed": false
   },
   "outputs": [
    {
     "name": "stdout",
     "output_type": "stream",
     "text": [
      "## htsjdk.samtools.metrics.StringHeader\r\n",
      "# picard.analysis.CollectWgsMetrics INPUT=/local/home/sarahgw/WGS/Sequences/hiseq_2016_12_07_complete/NJ_U_02/NJ_U_02_paired_eg2_sorted.bam OUTPUT=/local/home/sarahgw/WGS/Sequences/hiseq_2016_12_07_complete/NJ_U_02/NJ_U_02_wgs_metrics.txt REFERENCE_SEQUENCE=/local/home/sarahgw/references/Myotis_Lucifugus2.0/MyoLuc.fna    MINIMUM_MAPPING_QUALITY=20 MINIMUM_BASE_QUALITY=20 COVERAGE_CAP=250 LOCUS_ACCUMULATION_CAP=100000 STOP_AFTER=-1 INCLUDE_BQ_HISTOGRAM=false COUNT_UNPAIRED=false SAMPLE_SIZE=10000 VERBOSITY=INFO QUIET=false VALIDATION_STRINGENCY=STRICT COMPRESSION_LEVEL=5 MAX_RECORDS_IN_RAM=500000 CREATE_INDEX=false CREATE_MD5_FILE=false GA4GH_CLIENT_SECRETS=client_secrets.json\r\n",
      "## htsjdk.samtools.metrics.StringHeader\r\n",
      "# Started on: Thu Jan 05 11:57:47 EST 2017\r\n",
      "\r\n",
      "## METRICS CLASS\tpicard.analysis.CollectWgsMetrics$WgsMetrics\r\n",
      "GENOME_TERRITORY\tMEAN_COVERAGE\tSD_COVERAGE\tMEDIAN_COVERAGE\tMAD_COVERAGE\tPCT_EXC_MAPQ\tPCT_EXC_DUPE\tPCT_EXC_UNPAIRED\tPCT_EXC_BASEQ\tPCT_EXC_OVERLAP\tPCT_EXC_CAPPED\tPCT_EXC_TOTAL\tPCT_1X\tPCT_5X\tPCT_10X\tPCT_15X\tPCT_20X\tPCT_25X\tPCT_30X\tPCT_40X\tPCT_50X\tPCT_60X\tPCT_70X\tPCT_80X\tPCT_90X\tPCT_100X\tHET_SNP_SENSITIVITY\tHET_SNP_Q\r\n",
      "1966419868\t0.952725\t1.234715\t1\t1\t0.171086\t0\t0.002304\t0.018633\t0.115465\t0.000014\t0.307503\t0.543273\t0.009489\t0.000055\t0.000029\t0.00002\t0.000017\t0.000015\t0.000012\t0.00001\t0.000008\t0.000007\t0.000006\t0.000005\t0.000005\t0.328793\t2\r\n",
      "\r\n",
      "## HISTOGRAM\tjava.lang.Integer\r\n"
     ]
    }
   ],
   "source": [
    "!head /local/home/sarahgw/WGS/Sequences/hiseq_2016_12_07_complete/NJ_U_02/NJ_U_02_wgs_metrics.txt"
   ]
  },
  {
   "cell_type": "markdown",
   "metadata": {},
   "source": [
    "GENOME_TERRITORY 1966419868\n",
    "MEAN_COVERAGE 0.952725\n",
    "SD_COVERAGE 1.234715\n",
    "MEDIAN_COVERAGE 1\n",
    "MAD_COVERAGE 1\n",
    "PCT_EXC_MAPQ 0.171086\n",
    "PCT_EXC_DUPE 0\n",
    "PCT_EXC_UNPAIRED 0.002304\n",
    "PCT_EXC_BASEQ 0.018633\n",
    "PCT_EXC_OVERLAP 0.115465\n",
    "PCT_EXC_CAPPED 0.000014\n",
    "PCT_EXC_TOTAL 0.307503\n",
    "PCT_1X 0.543273\n",
    "PCT_5X 0.009489\n",
    "PCT_10X 0.000055\n",
    "PCT_20X 0.000029\n",
    "\n",
    "\n",
    "\n",
    "\n",
    "\n",
    "\n"
   ]
  },
  {
   "cell_type": "code",
   "execution_count": null,
   "metadata": {
    "collapsed": true
   },
   "outputs": [],
   "source": [
    "for dir in $(ls); do cd $dir; java -jar /local/home/sarahgw/picard.jar SortSam \\\n",
    "      I=$(pwd)/\"$dir\"_paired_eg2.sam \\\n",
    "      O=$(pwd)/\"$dir\"_paired_eg2_sorted.bam \\\n",
    "      SORT_ORDER=coordinate; cd ..; done"
   ]
  },
  {
   "cell_type": "code",
   "execution_count": null,
   "metadata": {
    "collapsed": true
   },
   "outputs": [],
   "source": [
    "java -jar /local/home/sarahgw/picard.jar CollectWgsMetrics \\\n",
    "I= /local/home/sarahgw/WGS/Sequences/hiseq_2016_12_07_complete/NJ_E_24/NJ_E_24_paired_eg2_sorted.bam \\\n",
    "       O=/local/home/sarahgw/WGS/Sequences/hiseq_2016_12_07_complete/NJ_E_24/NJ_E_24_wgs_metrics.txt \\\n",
    "       R= /local/home/sarahgw/references/Myotis_Lucifugus2.0/MyoLuc.fna "
   ]
  },
  {
   "cell_type": "code",
   "execution_count": 1,
   "metadata": {
    "collapsed": false
   },
   "outputs": [
    {
     "name": "stdout",
     "output_type": "stream",
     "text": [
      "## htsjdk.samtools.metrics.StringHeader\r\n",
      "# picard.analysis.CollectWgsMetrics INPUT=/local/home/sarahgw/WGS/Sequences/hiseq_2016_12_07_complete/NJ_E_24/NJ_E_24_paired_eg2_sorted.bam OUTPUT=/local/home/sarahgw/WGS/Sequences/hiseq_2016_12_07_complete/NJ_E_24/NJ_E_24_wgs_metrics.txt REFERENCE_SEQUENCE=/local/home/sarahgw/references/Myotis_Lucifugus2.0/MyoLuc.fna    MINIMUM_MAPPING_QUALITY=20 MINIMUM_BASE_QUALITY=20 COVERAGE_CAP=250 LOCUS_ACCUMULATION_CAP=100000 STOP_AFTER=-1 INCLUDE_BQ_HISTOGRAM=false COUNT_UNPAIRED=false SAMPLE_SIZE=10000 VERBOSITY=INFO QUIET=false VALIDATION_STRINGENCY=STRICT COMPRESSION_LEVEL=5 MAX_RECORDS_IN_RAM=500000 CREATE_INDEX=false CREATE_MD5_FILE=false GA4GH_CLIENT_SECRETS=client_secrets.json\r\n",
      "## htsjdk.samtools.metrics.StringHeader\r\n",
      "# Started on: Thu Jan 05 22:07:43 EST 2017\r\n",
      "\r\n",
      "## METRICS CLASS\tpicard.analysis.CollectWgsMetrics$WgsMetrics\r\n",
      "GENOME_TERRITORY\tMEAN_COVERAGE\tSD_COVERAGE\tMEDIAN_COVERAGE\tMAD_COVERAGE\tPCT_EXC_MAPQ\tPCT_EXC_DUPE\tPCT_EXC_UNPAIRED\tPCT_EXC_BASEQ\tPCT_EXC_OVERLAP\tPCT_EXC_CAPPED\tPCT_EXC_TOTAL\tPCT_1X\tPCT_5X\tPCT_10X\tPCT_15X\tPCT_20X\tPCT_25X\tPCT_30X\tPCT_40X\tPCT_50X\tPCT_60X\tPCT_70X\tPCT_80X\tPCT_90X\tPCT_100X\tHET_SNP_SENSITIVITY\tHET_SNP_Q\r\n",
      "1966419868\t0.809355\t1.156864\t0\t0\t0.157858\t0\t0.00231\t0.018041\t0.133265\t0.000011\t0.311485\t0.484759\t0.006984\t0.000037\t0.00002\t0.000015\t0.000012\t0.00001\t0.000008\t0.000007\t0.000006\t0.000006\t0.000006\t0.000005\t0.000005\t0.293251\t2\r\n",
      "\r\n",
      "## HISTOGRAM\tjava.lang.Integer\r\n"
     ]
    }
   ],
   "source": [
    "!head /local/home/sarahgw/WGS/Sequences/hiseq_2016_12_07_complete/NJ_E_24/NJ_E_24_wgs_metrics.txt"
   ]
  },
  {
   "cell_type": "code",
   "execution_count": null,
   "metadata": {
    "collapsed": true
   },
   "outputs": [],
   "source": [
    "java -jar /local/home/sarahgw/picard.jar CollectWgsMetrics \\\n",
    "I= /local/home/sarahgw/WGS/Sequences/hiseq_2016_12_07_complete/NJ_E_25/NJ_E_25_paired_eg2_sorted.bam \\\n",
    "       O=/local/home/sarahgw/WGS/Sequences/hiseq_2016_12_07_complete/NJ_E_25/NJ_E_25_wgs_metrics.txt \\\n",
    "       R= /local/home/sarahgw/references/Myotis_Lucifugus2.0/MyoLuc.fna "
   ]
  },
  {
   "cell_type": "code",
   "execution_count": 2,
   "metadata": {
    "collapsed": false
   },
   "outputs": [
    {
     "name": "stdout",
     "output_type": "stream",
     "text": [
      "## htsjdk.samtools.metrics.StringHeader\r\n",
      "# picard.analysis.CollectWgsMetrics INPUT=/local/home/sarahgw/WGS/Sequences/hiseq_2016_12_07_complete/NJ_E_25/NJ_E_25_paired_eg2_sorted.bam OUTPUT=/local/home/sarahgw/WGS/Sequences/hiseq_2016_12_07_complete/NJ_E_25/NJ_E_25_wgs_metrics.txt REFERENCE_SEQUENCE=/local/home/sarahgw/references/Myotis_Lucifugus2.0/MyoLuc.fna    MINIMUM_MAPPING_QUALITY=20 MINIMUM_BASE_QUALITY=20 COVERAGE_CAP=250 LOCUS_ACCUMULATION_CAP=100000 STOP_AFTER=-1 INCLUDE_BQ_HISTOGRAM=false COUNT_UNPAIRED=false SAMPLE_SIZE=10000 VERBOSITY=INFO QUIET=false VALIDATION_STRINGENCY=STRICT COMPRESSION_LEVEL=5 MAX_RECORDS_IN_RAM=500000 CREATE_INDEX=false CREATE_MD5_FILE=false GA4GH_CLIENT_SECRETS=client_secrets.json\r\n",
      "## htsjdk.samtools.metrics.StringHeader\r\n",
      "# Started on: Thu Jan 05 22:08:02 EST 2017\r\n",
      "\r\n",
      "## METRICS CLASS\tpicard.analysis.CollectWgsMetrics$WgsMetrics\r\n",
      "GENOME_TERRITORY\tMEAN_COVERAGE\tSD_COVERAGE\tMEDIAN_COVERAGE\tMAD_COVERAGE\tPCT_EXC_MAPQ\tPCT_EXC_DUPE\tPCT_EXC_UNPAIRED\tPCT_EXC_BASEQ\tPCT_EXC_OVERLAP\tPCT_EXC_CAPPED\tPCT_EXC_TOTAL\tPCT_1X\tPCT_5X\tPCT_10X\tPCT_15X\tPCT_20X\tPCT_25X\tPCT_30X\tPCT_40X\tPCT_50X\tPCT_60X\tPCT_70X\tPCT_80X\tPCT_90X\tPCT_100X\tHET_SNP_SENSITIVITY\tHET_SNP_Q\r\n",
      "1966419868\t0.500048\t0.81142\t0\t0\t0.161888\t0\t0.002391\t0.020983\t0.136679\t0\t0.321942\t0.361567\t0.000864\t0.000021\t0.000014\t0.000011\t0.000009\t0.000008\t0.000006\t0.000005\t0.000005\t0.000004\t0.000004\t0.000003\t0.000002\t0.205074\t1\r\n",
      "\r\n",
      "## HISTOGRAM\tjava.lang.Integer\r\n"
     ]
    }
   ],
   "source": [
    "!head /local/home/sarahgw/WGS/Sequences/hiseq_2016_12_07_complete/NJ_E_25/NJ_E_25_wgs_metrics.txt"
   ]
  },
  {
   "cell_type": "code",
   "execution_count": null,
   "metadata": {
    "collapsed": true
   },
   "outputs": [],
   "source": [
    "java -jar /local/home/sarahgw/picard.jar CollectWgsMetrics \\\n",
    "I= /local/home/sarahgw/WGS/Sequences/hiseq_2016_12_07_complete/NJ_E_26/NJ_E_26_paired_eg2_sorted.bam \\\n",
    "       O=/local/home/sarahgw/WGS/Sequences/hiseq_2016_12_07_complete/NJ_E_26/NJ_E_26_wgs_metrics.txt \\\n",
    "       R= /local/home/sarahgw/references/Myotis_Lucifugus2.0/MyoLuc.fna "
   ]
  },
  {
   "cell_type": "code",
   "execution_count": 3,
   "metadata": {
    "collapsed": false
   },
   "outputs": [
    {
     "name": "stdout",
     "output_type": "stream",
     "text": [
      "## htsjdk.samtools.metrics.StringHeader\r\n",
      "# picard.analysis.CollectWgsMetrics INPUT=/local/home/sarahgw/WGS/Sequences/hiseq_2016_12_07_complete/NJ_E_26/NJ_E_26_paired_eg2_sorted.bam OUTPUT=/local/home/sarahgw/WGS/Sequences/hiseq_2016_12_07_complete/NJ_E_26/NJ_E_26_wgs_metrics.txt REFERENCE_SEQUENCE=/local/home/sarahgw/references/Myotis_Lucifugus2.0/MyoLuc.fna    MINIMUM_MAPPING_QUALITY=20 MINIMUM_BASE_QUALITY=20 COVERAGE_CAP=250 LOCUS_ACCUMULATION_CAP=100000 STOP_AFTER=-1 INCLUDE_BQ_HISTOGRAM=false COUNT_UNPAIRED=false SAMPLE_SIZE=10000 VERBOSITY=INFO QUIET=false VALIDATION_STRINGENCY=STRICT COMPRESSION_LEVEL=5 MAX_RECORDS_IN_RAM=500000 CREATE_INDEX=false CREATE_MD5_FILE=false GA4GH_CLIENT_SECRETS=client_secrets.json\r\n",
      "## htsjdk.samtools.metrics.StringHeader\r\n",
      "# Started on: Thu Jan 05 22:08:11 EST 2017\r\n",
      "\r\n",
      "## METRICS CLASS\tpicard.analysis.CollectWgsMetrics$WgsMetrics\r\n",
      "GENOME_TERRITORY\tMEAN_COVERAGE\tSD_COVERAGE\tMEDIAN_COVERAGE\tMAD_COVERAGE\tPCT_EXC_MAPQ\tPCT_EXC_DUPE\tPCT_EXC_UNPAIRED\tPCT_EXC_BASEQ\tPCT_EXC_OVERLAP\tPCT_EXC_CAPPED\tPCT_EXC_TOTAL\tPCT_1X\tPCT_5X\tPCT_10X\tPCT_15X\tPCT_20X\tPCT_25X\tPCT_30X\tPCT_40X\tPCT_50X\tPCT_60X\tPCT_70X\tPCT_80X\tPCT_90X\tPCT_100X\tHET_SNP_SENSITIVITY\tHET_SNP_Q\r\n",
      "1966419868\t0.867591\t1.155797\t1\t1\t0.166636\t0\t0.000937\t0.016453\t0.190666\t0.000001\t0.374693\t0.511117\t0.007416\t0.00004\t0.000021\t0.000016\t0.000013\t0.000012\t0.000009\t0.000007\t0.000006\t0.000005\t0.000005\t0.000005\t0.000004\t0.318226\t2\r\n",
      "\r\n",
      "## HISTOGRAM\tjava.lang.Integer\r\n"
     ]
    }
   ],
   "source": [
    "!head /local/home/sarahgw/WGS/Sequences/hiseq_2016_12_07_complete/NJ_E_26/NJ_E_26_wgs_metrics.txt"
   ]
  },
  {
   "cell_type": "code",
   "execution_count": null,
   "metadata": {
    "collapsed": true
   },
   "outputs": [],
   "source": [
    "java -jar /local/home/sarahgw/picard.jar CollectWgsMetrics \\\n",
    "I= /local/home/sarahgw/WGS/Sequences/hiseq_2016_12_07_complete/NJ_E_27/NJ_E_27_paired_eg2_sorted.bam \\\n",
    "       O=/local/home/sarahgw/WGS/Sequences/hiseq_2016_12_07_complete/NJ_E_27/NJ_E_27_wgs_metrics.txt \\\n",
    "       R= /local/home/sarahgw/references/Myotis_Lucifugus2.0/MyoLuc.fna "
   ]
  },
  {
   "cell_type": "code",
   "execution_count": 4,
   "metadata": {
    "collapsed": false
   },
   "outputs": [
    {
     "name": "stdout",
     "output_type": "stream",
     "text": [
      "## htsjdk.samtools.metrics.StringHeader\r\n",
      "# picard.analysis.CollectWgsMetrics INPUT=/local/home/sarahgw/WGS/Sequences/hiseq_2016_12_07_complete/NJ_E_27/NJ_E_27_paired_eg2_sorted.bam OUTPUT=/local/home/sarahgw/WGS/Sequences/hiseq_2016_12_07_complete/NJ_E_27/NJ_E_27_wgs_metrics.txt REFERENCE_SEQUENCE=/local/home/sarahgw/references/Myotis_Lucifugus2.0/MyoLuc.fna    MINIMUM_MAPPING_QUALITY=20 MINIMUM_BASE_QUALITY=20 COVERAGE_CAP=250 LOCUS_ACCUMULATION_CAP=100000 STOP_AFTER=-1 INCLUDE_BQ_HISTOGRAM=false COUNT_UNPAIRED=false SAMPLE_SIZE=10000 VERBOSITY=INFO QUIET=false VALIDATION_STRINGENCY=STRICT COMPRESSION_LEVEL=5 MAX_RECORDS_IN_RAM=500000 CREATE_INDEX=false CREATE_MD5_FILE=false GA4GH_CLIENT_SECRETS=client_secrets.json\r\n",
      "## htsjdk.samtools.metrics.StringHeader\r\n",
      "# Started on: Thu Jan 05 22:08:27 EST 2017\r\n",
      "\r\n",
      "## METRICS CLASS\tpicard.analysis.CollectWgsMetrics$WgsMetrics\r\n",
      "GENOME_TERRITORY\tMEAN_COVERAGE\tSD_COVERAGE\tMEDIAN_COVERAGE\tMAD_COVERAGE\tPCT_EXC_MAPQ\tPCT_EXC_DUPE\tPCT_EXC_UNPAIRED\tPCT_EXC_BASEQ\tPCT_EXC_OVERLAP\tPCT_EXC_CAPPED\tPCT_EXC_TOTAL\tPCT_1X\tPCT_5X\tPCT_10X\tPCT_15X\tPCT_20X\tPCT_25X\tPCT_30X\tPCT_40X\tPCT_50X\tPCT_60X\tPCT_70X\tPCT_80X\tPCT_90X\tPCT_100X\tHET_SNP_SENSITIVITY\tHET_SNP_Q\r\n",
      "1966419868\t0.137385\t0.389879\t0\t0\t0.171147\t0\t0.00324\t0.019598\t0.061723\t0\t0.255708\t0.124306\t0.000015\t0.000006\t0.000005\t0.000005\t0.000004\t0.000003\t0.000001\t0\t0\t0\t0\t0\t0\t0.063547\t0\r\n",
      "\r\n",
      "## HISTOGRAM\tjava.lang.Integer\r\n"
     ]
    }
   ],
   "source": [
    "!head /local/home/sarahgw/WGS/Sequences/hiseq_2016_12_07_complete/NJ_E_27/NJ_E_27_wgs_metrics.txt"
   ]
  },
  {
   "cell_type": "code",
   "execution_count": null,
   "metadata": {
    "collapsed": true
   },
   "outputs": [],
   "source": [
    "java -jar /local/home/sarahgw/picard.jar CollectWgsMetrics \\\n",
    "I= /local/home/sarahgw/WGS/Sequences/hiseq_2016_12_07_complete/NJ_E_28/NJ_E_28_paired_eg2_sorted.bam \\\n",
    "       O=/local/home/sarahgw/WGS/Sequences/hiseq_2016_12_07_complete/NJ_E_28/NJ_E_28_wgs_metrics.txt \\\n",
    "       R= /local/home/sarahgw/references/Myotis_Lucifugus2.0/MyoLuc.fna "
   ]
  },
  {
   "cell_type": "code",
   "execution_count": 5,
   "metadata": {
    "collapsed": false
   },
   "outputs": [
    {
     "name": "stdout",
     "output_type": "stream",
     "text": [
      "## htsjdk.samtools.metrics.StringHeader\r\n",
      "# picard.analysis.CollectWgsMetrics INPUT=/local/home/sarahgw/WGS/Sequences/hiseq_2016_12_07_complete/NJ_E_28/NJ_E_28_paired_eg2_sorted.bam OUTPUT=/local/home/sarahgw/WGS/Sequences/hiseq_2016_12_07_complete/NJ_E_28/NJ_E_28_wgs_metrics.txt REFERENCE_SEQUENCE=/local/home/sarahgw/references/Myotis_Lucifugus2.0/MyoLuc.fna    MINIMUM_MAPPING_QUALITY=20 MINIMUM_BASE_QUALITY=20 COVERAGE_CAP=250 LOCUS_ACCUMULATION_CAP=100000 STOP_AFTER=-1 INCLUDE_BQ_HISTOGRAM=false COUNT_UNPAIRED=false SAMPLE_SIZE=10000 VERBOSITY=INFO QUIET=false VALIDATION_STRINGENCY=STRICT COMPRESSION_LEVEL=5 MAX_RECORDS_IN_RAM=500000 CREATE_INDEX=false CREATE_MD5_FILE=false GA4GH_CLIENT_SECRETS=client_secrets.json\r\n",
      "## htsjdk.samtools.metrics.StringHeader\r\n",
      "# Started on: Thu Jan 05 22:08:39 EST 2017\r\n",
      "\r\n",
      "## METRICS CLASS\tpicard.analysis.CollectWgsMetrics$WgsMetrics\r\n",
      "GENOME_TERRITORY\tMEAN_COVERAGE\tSD_COVERAGE\tMEDIAN_COVERAGE\tMAD_COVERAGE\tPCT_EXC_MAPQ\tPCT_EXC_DUPE\tPCT_EXC_UNPAIRED\tPCT_EXC_BASEQ\tPCT_EXC_OVERLAP\tPCT_EXC_CAPPED\tPCT_EXC_TOTAL\tPCT_1X\tPCT_5X\tPCT_10X\tPCT_15X\tPCT_20X\tPCT_25X\tPCT_30X\tPCT_40X\tPCT_50X\tPCT_60X\tPCT_70X\tPCT_80X\tPCT_90X\tPCT_100X\tHET_SNP_SENSITIVITY\tHET_SNP_Q\r\n",
      "1966419868\t0.477581\t0.786907\t0\t0\t0.161463\t0\t0.003573\t0.020144\t0.068226\t0\t0.253406\t0.347934\t0.000811\t0.000016\t0.000011\t0.000009\t0.000007\t0.000006\t0.000005\t0.000005\t0.000004\t0.000004\t0.000003\t0.000002\t0.000001\t0.192071\t1\r\n",
      "\r\n",
      "## HISTOGRAM\tjava.lang.Integer\r\n"
     ]
    }
   ],
   "source": [
    "!head /local/home/sarahgw/WGS/Sequences/hiseq_2016_12_07_complete/NJ_E_28/NJ_E_28_wgs_metrics.txt"
   ]
  },
  {
   "cell_type": "code",
   "execution_count": null,
   "metadata": {
    "collapsed": true
   },
   "outputs": [],
   "source": [
    "java -jar /local/home/sarahgw/picard.jar CollectWgsMetrics \\\n",
    "I= /local/home/sarahgw/WGS/Sequences/hiseq_2016_12_07_complete/NJ_E_29/NJ_E_29_paired_eg2_sorted.bam \\\n",
    "       O=/local/home/sarahgw/WGS/Sequences/hiseq_2016_12_07_complete/NJ_E_29/NJ_E_29_wgs_metrics.txt \\\n",
    "       R= /local/home/sarahgw/references/Myotis_Lucifugus2.0/MyoLuc.fna "
   ]
  },
  {
   "cell_type": "code",
   "execution_count": 6,
   "metadata": {
    "collapsed": false
   },
   "outputs": [
    {
     "name": "stdout",
     "output_type": "stream",
     "text": [
      "## htsjdk.samtools.metrics.StringHeader\r\n",
      "# picard.analysis.CollectWgsMetrics INPUT=/local/home/sarahgw/WGS/Sequences/hiseq_2016_12_07_complete/NJ_E_29/NJ_E_29_paired_eg2_sorted.bam OUTPUT=/local/home/sarahgw/WGS/Sequences/hiseq_2016_12_07_complete/NJ_E_29/NJ_E_29_wgs_metrics.txt REFERENCE_SEQUENCE=/local/home/sarahgw/references/Myotis_Lucifugus2.0/MyoLuc.fna    MINIMUM_MAPPING_QUALITY=20 MINIMUM_BASE_QUALITY=20 COVERAGE_CAP=250 LOCUS_ACCUMULATION_CAP=100000 STOP_AFTER=-1 INCLUDE_BQ_HISTOGRAM=false COUNT_UNPAIRED=false SAMPLE_SIZE=10000 VERBOSITY=INFO QUIET=false VALIDATION_STRINGENCY=STRICT COMPRESSION_LEVEL=5 MAX_RECORDS_IN_RAM=500000 CREATE_INDEX=false CREATE_MD5_FILE=false GA4GH_CLIENT_SECRETS=client_secrets.json\r\n",
      "## htsjdk.samtools.metrics.StringHeader\r\n",
      "# Started on: Thu Jan 05 22:08:50 EST 2017\r\n",
      "\r\n",
      "## METRICS CLASS\tpicard.analysis.CollectWgsMetrics$WgsMetrics\r\n",
      "GENOME_TERRITORY\tMEAN_COVERAGE\tSD_COVERAGE\tMEDIAN_COVERAGE\tMAD_COVERAGE\tPCT_EXC_MAPQ\tPCT_EXC_DUPE\tPCT_EXC_UNPAIRED\tPCT_EXC_BASEQ\tPCT_EXC_OVERLAP\tPCT_EXC_CAPPED\tPCT_EXC_TOTAL\tPCT_1X\tPCT_5X\tPCT_10X\tPCT_15X\tPCT_20X\tPCT_25X\tPCT_30X\tPCT_40X\tPCT_50X\tPCT_60X\tPCT_70X\tPCT_80X\tPCT_90X\tPCT_100X\tHET_SNP_SENSITIVITY\tHET_SNP_Q\r\n",
      "1966419868\t0.360213\t0.661318\t0\t0\t0.163675\t0\t0.002599\t0.021128\t0.133068\t0\t0.320471\t0.282403\t0.000251\t0.000013\t0.00001\t0.000007\t0.000006\t0.000005\t0.000004\t0.000004\t0.000002\t0.000001\t0\t0\t0\t0.156831\t1\r\n",
      "\r\n",
      "## HISTOGRAM\tjava.lang.Integer\r\n"
     ]
    }
   ],
   "source": [
    "!head /local/home/sarahgw/WGS/Sequences/hiseq_2016_12_07_complete/NJ_E_29/NJ_E_29_wgs_metrics.txt"
   ]
  },
  {
   "cell_type": "code",
   "execution_count": null,
   "metadata": {
    "collapsed": true
   },
   "outputs": [],
   "source": [
    "java -jar /local/home/sarahgw/picard.jar CollectWgsMetrics \\\n",
    "I= /local/home/sarahgw/WGS/Sequences/hiseq_2016_12_07_complete/NJ_E_30/NJ_E_30_paired_eg2_sorted.bam \\\n",
    "       O=/local/home/sarahgw/WGS/Sequences/hiseq_2016_12_07_complete/NJ_E_30/NJ_E_30_wgs_metrics.txt \\\n",
    "       R= /local/home/sarahgw/references/Myotis_Lucifugus2.0/MyoLuc.fna "
   ]
  },
  {
   "cell_type": "code",
   "execution_count": 7,
   "metadata": {
    "collapsed": false
   },
   "outputs": [
    {
     "name": "stdout",
     "output_type": "stream",
     "text": [
      "## htsjdk.samtools.metrics.StringHeader\r\n",
      "# picard.analysis.CollectWgsMetrics INPUT=/local/home/sarahgw/WGS/Sequences/hiseq_2016_12_07_complete/NJ_E_30/NJ_E_30_paired_eg2_sorted.bam OUTPUT=/local/home/sarahgw/WGS/Sequences/hiseq_2016_12_07_complete/NJ_E_30/NJ_E_30_wgs_metrics.txt REFERENCE_SEQUENCE=/local/home/sarahgw/references/Myotis_Lucifugus2.0/MyoLuc.fna    MINIMUM_MAPPING_QUALITY=20 MINIMUM_BASE_QUALITY=20 COVERAGE_CAP=250 LOCUS_ACCUMULATION_CAP=100000 STOP_AFTER=-1 INCLUDE_BQ_HISTOGRAM=false COUNT_UNPAIRED=false SAMPLE_SIZE=10000 VERBOSITY=INFO QUIET=false VALIDATION_STRINGENCY=STRICT COMPRESSION_LEVEL=5 MAX_RECORDS_IN_RAM=500000 CREATE_INDEX=false CREATE_MD5_FILE=false GA4GH_CLIENT_SECRETS=client_secrets.json\r\n",
      "## htsjdk.samtools.metrics.StringHeader\r\n",
      "# Started on: Thu Jan 05 22:09:07 EST 2017\r\n",
      "\r\n",
      "## METRICS CLASS\tpicard.analysis.CollectWgsMetrics$WgsMetrics\r\n",
      "GENOME_TERRITORY\tMEAN_COVERAGE\tSD_COVERAGE\tMEDIAN_COVERAGE\tMAD_COVERAGE\tPCT_EXC_MAPQ\tPCT_EXC_DUPE\tPCT_EXC_UNPAIRED\tPCT_EXC_BASEQ\tPCT_EXC_OVERLAP\tPCT_EXC_CAPPED\tPCT_EXC_TOTAL\tPCT_1X\tPCT_5X\tPCT_10X\tPCT_15X\tPCT_20X\tPCT_25X\tPCT_30X\tPCT_40X\tPCT_50X\tPCT_60X\tPCT_70X\tPCT_80X\tPCT_90X\tPCT_100X\tHET_SNP_SENSITIVITY\tHET_SNP_Q\r\n",
      "1966419868\t0.718517\t1.022212\t0\t0\t0.161473\t0\t0.001773\t0.018939\t0.149064\t0\t0.33125\t0.458136\t0.003841\t0.000027\t0.000016\t0.000012\t0.000009\t0.000008\t0.000006\t0.000006\t0.000005\t0.000005\t0.000005\t0.000005\t0.000005\t0.273327\t1\r\n",
      "\r\n",
      "## HISTOGRAM\tjava.lang.Integer\r\n"
     ]
    }
   ],
   "source": [
    "!head /local/home/sarahgw/WGS/Sequences/hiseq_2016_12_07_complete/NJ_E_30/NJ_E_30_wgs_metrics.txt"
   ]
  },
  {
   "cell_type": "code",
   "execution_count": null,
   "metadata": {
    "collapsed": true
   },
   "outputs": [],
   "source": [
    "java -jar /local/home/sarahgw/picard.jar CollectWgsMetrics \\\n",
    "      I=/local/home/sarahgw/WGS/Sequences/hiseq_2016_12_07_complete/NJ_U_01/NJ_U_01_paired_eg2_sorted.bam \\\n",
    "      O=/local/home/sarahgw/WGS/Sequences/hiseq_2016_12_07_complete/NJ_U_01/NJ_U_01_wgs_metrics.txt \\\n",
    "      R= /local/home/sarahgw/references/Myotis_Lucifugus2.0/MyoLuc.fna "
   ]
  },
  {
   "cell_type": "code",
   "execution_count": 8,
   "metadata": {
    "collapsed": false
   },
   "outputs": [
    {
     "name": "stdout",
     "output_type": "stream",
     "text": [
      "## htsjdk.samtools.metrics.StringHeader\r\n",
      "# picard.analysis.CollectWgsMetrics INPUT=/local/home/sarahgw/WGS/Sequences/hiseq_2016_12_07_complete/NJ_U_01/NJ_U_01_paired_eg2_sorted.bam OUTPUT=/local/home/sarahgw/WGS/Sequences/hiseq_2016_12_07_complete/NJ_U_01/NJ_U_01_wgs_metrics.txt REFERENCE_SEQUENCE=/local/home/sarahgw/references/Myotis_Lucifugus2.0/MyoLuc.fna    MINIMUM_MAPPING_QUALITY=20 MINIMUM_BASE_QUALITY=20 COVERAGE_CAP=250 LOCUS_ACCUMULATION_CAP=100000 STOP_AFTER=-1 INCLUDE_BQ_HISTOGRAM=false COUNT_UNPAIRED=false SAMPLE_SIZE=10000 VERBOSITY=INFO QUIET=false VALIDATION_STRINGENCY=STRICT COMPRESSION_LEVEL=5 MAX_RECORDS_IN_RAM=500000 CREATE_INDEX=false CREATE_MD5_FILE=false GA4GH_CLIENT_SECRETS=client_secrets.json\r\n",
      "## htsjdk.samtools.metrics.StringHeader\r\n",
      "# Started on: Fri Jan 06 13:13:30 EST 2017\r\n",
      "\r\n",
      "## METRICS CLASS\tpicard.analysis.CollectWgsMetrics$WgsMetrics\r\n",
      "GENOME_TERRITORY\tMEAN_COVERAGE\tSD_COVERAGE\tMEDIAN_COVERAGE\tMAD_COVERAGE\tPCT_EXC_MAPQ\tPCT_EXC_DUPE\tPCT_EXC_UNPAIRED\tPCT_EXC_BASEQ\tPCT_EXC_OVERLAP\tPCT_EXC_CAPPED\tPCT_EXC_TOTAL\tPCT_1X\tPCT_5X\tPCT_10X\tPCT_15X\tPCT_20X\tPCT_25X\tPCT_30X\tPCT_40X\tPCT_50X\tPCT_60X\tPCT_70X\tPCT_80X\tPCT_90X\tPCT_100X\tHET_SNP_SENSITIVITY\tHET_SNP_Q\r\n",
      "1966419868\t0.655372\t0.974199\t0\t0\t0.163351\t0\t0.003928\t0.021519\t0.065044\t0\t0.253841\t0.430634\t0.002897\t0.000031\t0.000018\t0.000013\t0.00001\t0.000008\t0.000006\t0.000006\t0.000005\t0.000005\t0.000005\t0.000005\t0.000004\t0.244479\t1\r\n",
      "\r\n",
      "## HISTOGRAM\tjava.lang.Integer\r\n"
     ]
    }
   ],
   "source": [
    "!head /local/home/sarahgw/WGS/Sequences/hiseq_2016_12_07_complete/NJ_U_01/NJ_U_01_wgs_metrics.txt"
   ]
  },
  {
   "cell_type": "code",
   "execution_count": null,
   "metadata": {
    "collapsed": true
   },
   "outputs": [],
   "source": [
    "java -jar /local/home/sarahgw/picard.jar CollectWgsMetrics \\\n",
    "      I=/local/home/sarahgw/WGS/Sequences/hiseq_2016_12_07_complete/NJ_U_03/NJ_U_03_paired_eg2_sorted.bam \\\n",
    "      O=/local/home/sarahgw/WGS/Sequences/hiseq_2016_12_07_complete/NJ_U_03/NJ_U_03_wgs_metrics.txt \\\n",
    "      R= /local/home/sarahgw/references/Myotis_Lucifugus2.0/MyoLuc.fna "
   ]
  },
  {
   "cell_type": "code",
   "execution_count": 9,
   "metadata": {
    "collapsed": false
   },
   "outputs": [
    {
     "name": "stdout",
     "output_type": "stream",
     "text": [
      "## htsjdk.samtools.metrics.StringHeader\r\n",
      "# picard.analysis.CollectWgsMetrics INPUT=/local/home/sarahgw/WGS/Sequences/hiseq_2016_12_07_complete/NJ_U_03/NJ_U_03_paired_eg2_sorted.bam OUTPUT=/local/home/sarahgw/WGS/Sequences/hiseq_2016_12_07_complete/NJ_U_03/NJ_U_03_wgs_metrics.txt REFERENCE_SEQUENCE=/local/home/sarahgw/references/Myotis_Lucifugus2.0/MyoLuc.fna    MINIMUM_MAPPING_QUALITY=20 MINIMUM_BASE_QUALITY=20 COVERAGE_CAP=250 LOCUS_ACCUMULATION_CAP=100000 STOP_AFTER=-1 INCLUDE_BQ_HISTOGRAM=false COUNT_UNPAIRED=false SAMPLE_SIZE=10000 VERBOSITY=INFO QUIET=false VALIDATION_STRINGENCY=STRICT COMPRESSION_LEVEL=5 MAX_RECORDS_IN_RAM=500000 CREATE_INDEX=false CREATE_MD5_FILE=false GA4GH_CLIENT_SECRETS=client_secrets.json\r\n",
      "## htsjdk.samtools.metrics.StringHeader\r\n",
      "# Started on: Fri Jan 06 13:13:46 EST 2017\r\n",
      "\r\n",
      "## METRICS CLASS\tpicard.analysis.CollectWgsMetrics$WgsMetrics\r\n",
      "GENOME_TERRITORY\tMEAN_COVERAGE\tSD_COVERAGE\tMEDIAN_COVERAGE\tMAD_COVERAGE\tPCT_EXC_MAPQ\tPCT_EXC_DUPE\tPCT_EXC_UNPAIRED\tPCT_EXC_BASEQ\tPCT_EXC_OVERLAP\tPCT_EXC_CAPPED\tPCT_EXC_TOTAL\tPCT_1X\tPCT_5X\tPCT_10X\tPCT_15X\tPCT_20X\tPCT_25X\tPCT_30X\tPCT_40X\tPCT_50X\tPCT_60X\tPCT_70X\tPCT_80X\tPCT_90X\tPCT_100X\tHET_SNP_SENSITIVITY\tHET_SNP_Q\r\n",
      "1966419868\t1.069146\t1.273827\t1\t1\t0.167076\t0\t0.003152\t0.022952\t0.114527\t0\t0.307707\t0.578814\t0.013996\t0.000056\t0.000025\t0.000018\t0.000014\t0.000011\t0.000008\t0.000007\t0.000006\t0.000006\t0.000006\t0.000005\t0.000005\t0.353689\t2\r\n",
      "\r\n",
      "## HISTOGRAM\tjava.lang.Integer\r\n"
     ]
    }
   ],
   "source": [
    "!head /local/home/sarahgw/WGS/Sequences/hiseq_2016_12_07_complete/NJ_U_03/NJ_U_03_wgs_metrics.txt"
   ]
  },
  {
   "cell_type": "code",
   "execution_count": null,
   "metadata": {
    "collapsed": true
   },
   "outputs": [],
   "source": [
    "java -jar /local/home/sarahgw/picard.jar CollectWgsMetrics \\\n",
    "      I=/local/home/sarahgw/WGS/Sequences/hiseq_2016_12_07_complete/NJ_U_04/NJ_U_04_paired_eg2_sorted.bam \\\n",
    "      O=/local/home/sarahgw/WGS/Sequences/hiseq_2016_12_07_complete/NJ_U_04/NJ_U_04_wgs_metrics.txt \\\n",
    "      R= /local/home/sarahgw/references/Myotis_Lucifugus2.0/MyoLuc.fna "
   ]
  },
  {
   "cell_type": "code",
   "execution_count": 10,
   "metadata": {
    "collapsed": false
   },
   "outputs": [
    {
     "name": "stdout",
     "output_type": "stream",
     "text": [
      "## htsjdk.samtools.metrics.StringHeader\r\n",
      "# picard.analysis.CollectWgsMetrics INPUT=/local/home/sarahgw/WGS/Sequences/hiseq_2016_12_07_complete/NJ_U_04/NJ_U_04_paired_eg2_sorted.bam OUTPUT=/local/home/sarahgw/WGS/Sequences/hiseq_2016_12_07_complete/NJ_U_04/NJ_U_04_wgs_metrics.txt REFERENCE_SEQUENCE=/local/home/sarahgw/references/Myotis_Lucifugus2.0/MyoLuc.fna    MINIMUM_MAPPING_QUALITY=20 MINIMUM_BASE_QUALITY=20 COVERAGE_CAP=250 LOCUS_ACCUMULATION_CAP=100000 STOP_AFTER=-1 INCLUDE_BQ_HISTOGRAM=false COUNT_UNPAIRED=false SAMPLE_SIZE=10000 VERBOSITY=INFO QUIET=false VALIDATION_STRINGENCY=STRICT COMPRESSION_LEVEL=5 MAX_RECORDS_IN_RAM=500000 CREATE_INDEX=false CREATE_MD5_FILE=false GA4GH_CLIENT_SECRETS=client_secrets.json\r\n",
      "## htsjdk.samtools.metrics.StringHeader\r\n",
      "# Started on: Fri Jan 06 13:14:24 EST 2017\r\n",
      "\r\n",
      "## METRICS CLASS\tpicard.analysis.CollectWgsMetrics$WgsMetrics\r\n",
      "GENOME_TERRITORY\tMEAN_COVERAGE\tSD_COVERAGE\tMEDIAN_COVERAGE\tMAD_COVERAGE\tPCT_EXC_MAPQ\tPCT_EXC_DUPE\tPCT_EXC_UNPAIRED\tPCT_EXC_BASEQ\tPCT_EXC_OVERLAP\tPCT_EXC_CAPPED\tPCT_EXC_TOTAL\tPCT_1X\tPCT_5X\tPCT_10X\tPCT_15X\tPCT_20X\tPCT_25X\tPCT_30X\tPCT_40X\tPCT_50X\tPCT_60X\tPCT_70X\tPCT_80X\tPCT_90X\tPCT_100X\tHET_SNP_SENSITIVITY\tHET_SNP_Q\r\n",
      "1966419868\t0.47775\t0.80866\t0\t0\t0.21465\t0\t0.003502\t0.018293\t0.082926\t0.000017\t0.319387\t0.339953\t0.0012\t0.000032\t0.000019\t0.000014\t0.000011\t0.000009\t0.000006\t0.000005\t0.000004\t0.000003\t0.000002\t0.000001\t0.000001\t0.191168\t1\r\n",
      "\r\n",
      "## HISTOGRAM\tjava.lang.Integer\r\n"
     ]
    }
   ],
   "source": [
    "!head /local/home/sarahgw/WGS/Sequences/hiseq_2016_12_07_complete/NJ_U_04/NJ_U_04_wgs_metrics.txt"
   ]
  },
  {
   "cell_type": "code",
   "execution_count": null,
   "metadata": {
    "collapsed": true
   },
   "outputs": [],
   "source": [
    "java -jar /local/home/sarahgw/picard.jar CollectWgsMetrics \\\n",
    "      I=/local/home/sarahgw/WGS/Sequences/hiseq_2016_12_07_complete/NJ_U_05/NJ_U_05_paired_eg2_sorted.bam \\\n",
    "      O=/local/home/sarahgw/WGS/Sequences/hiseq_2016_12_07_complete/NJ_U_05/NJ_U_05_wgs_metrics.txt \\\n",
    "      R= /local/home/sarahgw/references/Myotis_Lucifugus2.0/MyoLuc.fna "
   ]
  },
  {
   "cell_type": "code",
   "execution_count": 11,
   "metadata": {
    "collapsed": false
   },
   "outputs": [
    {
     "name": "stdout",
     "output_type": "stream",
     "text": [
      "## htsjdk.samtools.metrics.StringHeader\r\n",
      "# picard.analysis.CollectWgsMetrics INPUT=/local/home/sarahgw/WGS/Sequences/hiseq_2016_12_07_complete/NJ_U_05/NJ_U_05_paired_eg2_sorted.bam OUTPUT=/local/home/sarahgw/WGS/Sequences/hiseq_2016_12_07_complete/NJ_U_05/NJ_U_05_wgs_metrics.txt REFERENCE_SEQUENCE=/local/home/sarahgw/references/Myotis_Lucifugus2.0/MyoLuc.fna    MINIMUM_MAPPING_QUALITY=20 MINIMUM_BASE_QUALITY=20 COVERAGE_CAP=250 LOCUS_ACCUMULATION_CAP=100000 STOP_AFTER=-1 INCLUDE_BQ_HISTOGRAM=false COUNT_UNPAIRED=false SAMPLE_SIZE=10000 VERBOSITY=INFO QUIET=false VALIDATION_STRINGENCY=STRICT COMPRESSION_LEVEL=5 MAX_RECORDS_IN_RAM=500000 CREATE_INDEX=false CREATE_MD5_FILE=false GA4GH_CLIENT_SECRETS=client_secrets.json\r\n",
      "## htsjdk.samtools.metrics.StringHeader\r\n",
      "# Started on: Fri Jan 06 13:14:50 EST 2017\r\n",
      "\r\n",
      "## METRICS CLASS\tpicard.analysis.CollectWgsMetrics$WgsMetrics\r\n",
      "GENOME_TERRITORY\tMEAN_COVERAGE\tSD_COVERAGE\tMEDIAN_COVERAGE\tMAD_COVERAGE\tPCT_EXC_MAPQ\tPCT_EXC_DUPE\tPCT_EXC_UNPAIRED\tPCT_EXC_BASEQ\tPCT_EXC_OVERLAP\tPCT_EXC_CAPPED\tPCT_EXC_TOTAL\tPCT_1X\tPCT_5X\tPCT_10X\tPCT_15X\tPCT_20X\tPCT_25X\tPCT_30X\tPCT_40X\tPCT_50X\tPCT_60X\tPCT_70X\tPCT_80X\tPCT_90X\tPCT_100X\tHET_SNP_SENSITIVITY\tHET_SNP_Q\r\n",
      "1966419868\t0.733074\t1.099871\t0\t0\t0.165924\t0\t0.00326\t0.01951\t0.076338\t0.000066\t0.265098\t0.465503\t0.003909\t0.000035\t0.000022\t0.000016\t0.000012\t0.00001\t0.000008\t0.000007\t0.000007\t0.000006\t0.000006\t0.000006\t0.000005\t0.270243\t1\r\n",
      "\r\n",
      "## HISTOGRAM\tjava.lang.Integer\r\n"
     ]
    }
   ],
   "source": [
    "!head /local/home/sarahgw/WGS/Sequences/hiseq_2016_12_07_complete/NJ_U_05/NJ_U_05_wgs_metrics.txt"
   ]
  },
  {
   "cell_type": "code",
   "execution_count": null,
   "metadata": {
    "collapsed": true
   },
   "outputs": [],
   "source": [
    "java -jar /local/home/sarahgw/picard.jar CollectWgsMetrics \\\n",
    "      I=/local/home/sarahgw/WGS/Sequences/hiseq_2016_12_07_complete/NJ_U_06/NJ_U_06_paired_eg2_sorted.bam \\\n",
    "      O=/local/home/sarahgw/WGS/Sequences/hiseq_2016_12_07_complete/NJ_U_06/NJ_U_06_wgs_metrics.txt \\\n",
    "      R= /local/home/sarahgw/references/Myotis_Lucifugus2.0/MyoLuc.fna "
   ]
  },
  {
   "cell_type": "code",
   "execution_count": 12,
   "metadata": {
    "collapsed": false
   },
   "outputs": [
    {
     "name": "stdout",
     "output_type": "stream",
     "text": [
      "## htsjdk.samtools.metrics.StringHeader\r\n",
      "# picard.analysis.CollectWgsMetrics INPUT=/local/home/sarahgw/WGS/Sequences/hiseq_2016_12_07_complete/NJ_U_06/NJ_U_06_paired_eg2_sorted.bam OUTPUT=/local/home/sarahgw/WGS/Sequences/hiseq_2016_12_07_complete/NJ_U_06/NJ_U_06_wgs_metrics.txt REFERENCE_SEQUENCE=/local/home/sarahgw/references/Myotis_Lucifugus2.0/MyoLuc.fna    MINIMUM_MAPPING_QUALITY=20 MINIMUM_BASE_QUALITY=20 COVERAGE_CAP=250 LOCUS_ACCUMULATION_CAP=100000 STOP_AFTER=-1 INCLUDE_BQ_HISTOGRAM=false COUNT_UNPAIRED=false SAMPLE_SIZE=10000 VERBOSITY=INFO QUIET=false VALIDATION_STRINGENCY=STRICT COMPRESSION_LEVEL=5 MAX_RECORDS_IN_RAM=500000 CREATE_INDEX=false CREATE_MD5_FILE=false GA4GH_CLIENT_SECRETS=client_secrets.json\r\n",
      "## htsjdk.samtools.metrics.StringHeader\r\n",
      "# Started on: Fri Jan 06 13:15:13 EST 2017\r\n",
      "\r\n",
      "## METRICS CLASS\tpicard.analysis.CollectWgsMetrics$WgsMetrics\r\n",
      "GENOME_TERRITORY\tMEAN_COVERAGE\tSD_COVERAGE\tMEDIAN_COVERAGE\tMAD_COVERAGE\tPCT_EXC_MAPQ\tPCT_EXC_DUPE\tPCT_EXC_UNPAIRED\tPCT_EXC_BASEQ\tPCT_EXC_OVERLAP\tPCT_EXC_CAPPED\tPCT_EXC_TOTAL\tPCT_1X\tPCT_5X\tPCT_10X\tPCT_15X\tPCT_20X\tPCT_25X\tPCT_30X\tPCT_40X\tPCT_50X\tPCT_60X\tPCT_70X\tPCT_80X\tPCT_90X\tPCT_100X\tHET_SNP_SENSITIVITY\tHET_SNP_Q\r\n",
      "1966419868\t0.619284\t0.972158\t0\t0\t0.161306\t0\t0.003346\t0.01967\t0.069862\t0\t0.254184\t0.418087\t0.002096\t0.000028\t0.000018\t0.000013\t0.000011\t0.00001\t0.000007\t0.000006\t0.000006\t0.000006\t0.000005\t0.000005\t0.000005\t0.236346\t1\r\n",
      "\r\n",
      "## HISTOGRAM\tjava.lang.Integer\r\n"
     ]
    }
   ],
   "source": [
    "!head /local/home/sarahgw/WGS/Sequences/hiseq_2016_12_07_complete/NJ_U_06/NJ_U_06_wgs_metrics.txt"
   ]
  },
  {
   "cell_type": "code",
   "execution_count": null,
   "metadata": {
    "collapsed": true
   },
   "outputs": [],
   "source": [
    "java -jar /local/home/sarahgw/picard.jar CollectWgsMetrics \\\n",
    "      I=/local/home/sarahgw/WGS/Sequences/hiseq_2016_12_07_complete/NJ_U_07/NJ_U_07_paired_eg2_sorted.bam \\\n",
    "      O=/local/home/sarahgw/WGS/Sequences/hiseq_2016_12_07_complete/NJ_U_07/NJ_U_07_wgs_metrics.txt \\\n",
    "      R= /local/home/sarahgw/references/Myotis_Lucifugus2.0/MyoLuc.fna "
   ]
  },
  {
   "cell_type": "code",
   "execution_count": 13,
   "metadata": {
    "collapsed": false
   },
   "outputs": [
    {
     "name": "stdout",
     "output_type": "stream",
     "text": [
      "## htsjdk.samtools.metrics.StringHeader\r\n",
      "# picard.analysis.CollectWgsMetrics INPUT=/local/home/sarahgw/WGS/Sequences/hiseq_2016_12_07_complete/NJ_U_07/NJ_U_07_paired_eg2_sorted.bam OUTPUT=/local/home/sarahgw/WGS/Sequences/hiseq_2016_12_07_complete/NJ_U_07/NJ_U_07_wgs_metrics.txt REFERENCE_SEQUENCE=/local/home/sarahgw/references/Myotis_Lucifugus2.0/MyoLuc.fna    MINIMUM_MAPPING_QUALITY=20 MINIMUM_BASE_QUALITY=20 COVERAGE_CAP=250 LOCUS_ACCUMULATION_CAP=100000 STOP_AFTER=-1 INCLUDE_BQ_HISTOGRAM=false COUNT_UNPAIRED=false SAMPLE_SIZE=10000 VERBOSITY=INFO QUIET=false VALIDATION_STRINGENCY=STRICT COMPRESSION_LEVEL=5 MAX_RECORDS_IN_RAM=500000 CREATE_INDEX=false CREATE_MD5_FILE=false GA4GH_CLIENT_SECRETS=client_secrets.json\r\n",
      "## htsjdk.samtools.metrics.StringHeader\r\n",
      "# Started on: Fri Jan 06 13:16:00 EST 2017\r\n",
      "\r\n",
      "## METRICS CLASS\tpicard.analysis.CollectWgsMetrics$WgsMetrics\r\n",
      "GENOME_TERRITORY\tMEAN_COVERAGE\tSD_COVERAGE\tMEDIAN_COVERAGE\tMAD_COVERAGE\tPCT_EXC_MAPQ\tPCT_EXC_DUPE\tPCT_EXC_UNPAIRED\tPCT_EXC_BASEQ\tPCT_EXC_OVERLAP\tPCT_EXC_CAPPED\tPCT_EXC_TOTAL\tPCT_1X\tPCT_5X\tPCT_10X\tPCT_15X\tPCT_20X\tPCT_25X\tPCT_30X\tPCT_40X\tPCT_50X\tPCT_60X\tPCT_70X\tPCT_80X\tPCT_90X\tPCT_100X\tHET_SNP_SENSITIVITY\tHET_SNP_Q\r\n",
      "1966419868\t0.517243\t0.860327\t0\t0\t0.163288\t0\t0.002984\t0.021296\t0.125364\t0\t0.312932\t0.371974\t0.000904\t0.000021\t0.000013\t0.00001\t0.000008\t0.000007\t0.000006\t0.000006\t0.000005\t0.000005\t0.000005\t0.000005\t0.000004\t0.210824\t1\r\n",
      "\r\n",
      "## HISTOGRAM\tjava.lang.Integer\r\n"
     ]
    }
   ],
   "source": [
    "!head /local/home/sarahgw/WGS/Sequences/hiseq_2016_12_07_complete/NJ_U_07/NJ_U_07_wgs_metrics.txt"
   ]
  },
  {
   "cell_type": "code",
   "execution_count": null,
   "metadata": {
    "collapsed": true
   },
   "outputs": [],
   "source": [
    "java -jar /local/home/sarahgw/picard.jar CollectWgsMetrics \\\n",
    "      I=/local/home/sarahgw/WGS/Sequences/hiseq_2016_12_07_complete/NJ_U_08/NJ_U_08_paired_eg2_sorted.bam \\\n",
    "      O=/local/home/sarahgw/WGS/Sequences/hiseq_2016_12_07_complete/NJ_U_08/NJ_U_08_wgs_metrics.txt \\\n",
    "      R= /local/home/sarahgw/references/Myotis_Lucifugus2.0/MyoLuc.fna "
   ]
  },
  {
   "cell_type": "code",
   "execution_count": 14,
   "metadata": {
    "collapsed": false
   },
   "outputs": [
    {
     "name": "stdout",
     "output_type": "stream",
     "text": [
      "## htsjdk.samtools.metrics.StringHeader\r\n",
      "# picard.analysis.CollectWgsMetrics INPUT=/local/home/sarahgw/WGS/Sequences/hiseq_2016_12_07_complete/NJ_U_08/NJ_U_08_paired_eg2_sorted.bam OUTPUT=/local/home/sarahgw/WGS/Sequences/hiseq_2016_12_07_complete/NJ_U_08/NJ_U_08_wgs_metrics.txt REFERENCE_SEQUENCE=/local/home/sarahgw/references/Myotis_Lucifugus2.0/MyoLuc.fna    MINIMUM_MAPPING_QUALITY=20 MINIMUM_BASE_QUALITY=20 COVERAGE_CAP=250 LOCUS_ACCUMULATION_CAP=100000 STOP_AFTER=-1 INCLUDE_BQ_HISTOGRAM=false COUNT_UNPAIRED=false SAMPLE_SIZE=10000 VERBOSITY=INFO QUIET=false VALIDATION_STRINGENCY=STRICT COMPRESSION_LEVEL=5 MAX_RECORDS_IN_RAM=500000 CREATE_INDEX=false CREATE_MD5_FILE=false GA4GH_CLIENT_SECRETS=client_secrets.json\r\n",
      "## htsjdk.samtools.metrics.StringHeader\r\n",
      "# Started on: Fri Jan 06 13:16:18 EST 2017\r\n",
      "\r\n",
      "## METRICS CLASS\tpicard.analysis.CollectWgsMetrics$WgsMetrics\r\n",
      "GENOME_TERRITORY\tMEAN_COVERAGE\tSD_COVERAGE\tMEDIAN_COVERAGE\tMAD_COVERAGE\tPCT_EXC_MAPQ\tPCT_EXC_DUPE\tPCT_EXC_UNPAIRED\tPCT_EXC_BASEQ\tPCT_EXC_OVERLAP\tPCT_EXC_CAPPED\tPCT_EXC_TOTAL\tPCT_1X\tPCT_5X\tPCT_10X\tPCT_15X\tPCT_20X\tPCT_25X\tPCT_30X\tPCT_40X\tPCT_50X\tPCT_60X\tPCT_70X\tPCT_80X\tPCT_90X\tPCT_100X\tHET_SNP_SENSITIVITY\tHET_SNP_Q\r\n",
      "1966419868\t0.654437\t0.968995\t0\t0\t0.168352\t0\t0.002056\t0.017522\t0.125337\t0\t0.313267\t0.433181\t0.00251\t0.00003\t0.000018\t0.000013\t0.000011\t0.000009\t0.000007\t0.000006\t0.000006\t0.000005\t0.000005\t0.000005\t0.000004\t0.254554\t1\r\n",
      "\r\n",
      "## HISTOGRAM\tjava.lang.Integer\r\n"
     ]
    }
   ],
   "source": [
    "!head /local/home/sarahgw/WGS/Sequences/hiseq_2016_12_07_complete/NJ_U_08/NJ_U_08_wgs_metrics.txt"
   ]
  },
  {
   "cell_type": "code",
   "execution_count": null,
   "metadata": {
    "collapsed": true
   },
   "outputs": [],
   "source": [
    "java -jar /local/home/sarahgw/picard.jar CollectWgsMetrics \\\n",
    "      I=/local/home/sarahgw/WGS/Sequences/hiseq_2016_12_07_complete/NJ_U_09/NJ_U_09_paired_eg2_sorted.bam \\\n",
    "      O=/local/home/sarahgw/WGS/Sequences/hiseq_2016_12_07_complete/NJ_U_09/NJ_U_09_wgs_metrics.txt \\\n",
    "      R= /local/home/sarahgw/references/Myotis_Lucifugus2.0/MyoLuc.fna "
   ]
  },
  {
   "cell_type": "code",
   "execution_count": 15,
   "metadata": {
    "collapsed": false
   },
   "outputs": [
    {
     "name": "stdout",
     "output_type": "stream",
     "text": [
      "## htsjdk.samtools.metrics.StringHeader\r\n",
      "# picard.analysis.CollectWgsMetrics INPUT=/local/home/sarahgw/WGS/Sequences/hiseq_2016_12_07_complete/NJ_U_09/NJ_U_09_paired_eg2_sorted.bam OUTPUT=/local/home/sarahgw/WGS/Sequences/hiseq_2016_12_07_complete/NJ_U_09/NJ_U_09_wgs_metrics.txt REFERENCE_SEQUENCE=/local/home/sarahgw/references/Myotis_Lucifugus2.0/MyoLuc.fna    MINIMUM_MAPPING_QUALITY=20 MINIMUM_BASE_QUALITY=20 COVERAGE_CAP=250 LOCUS_ACCUMULATION_CAP=100000 STOP_AFTER=-1 INCLUDE_BQ_HISTOGRAM=false COUNT_UNPAIRED=false SAMPLE_SIZE=10000 VERBOSITY=INFO QUIET=false VALIDATION_STRINGENCY=STRICT COMPRESSION_LEVEL=5 MAX_RECORDS_IN_RAM=500000 CREATE_INDEX=false CREATE_MD5_FILE=false GA4GH_CLIENT_SECRETS=client_secrets.json\r\n",
      "## htsjdk.samtools.metrics.StringHeader\r\n",
      "# Started on: Fri Jan 06 13:16:56 EST 2017\r\n",
      "\r\n",
      "## METRICS CLASS\tpicard.analysis.CollectWgsMetrics$WgsMetrics\r\n",
      "GENOME_TERRITORY\tMEAN_COVERAGE\tSD_COVERAGE\tMEDIAN_COVERAGE\tMAD_COVERAGE\tPCT_EXC_MAPQ\tPCT_EXC_DUPE\tPCT_EXC_UNPAIRED\tPCT_EXC_BASEQ\tPCT_EXC_OVERLAP\tPCT_EXC_CAPPED\tPCT_EXC_TOTAL\tPCT_1X\tPCT_5X\tPCT_10X\tPCT_15X\tPCT_20X\tPCT_25X\tPCT_30X\tPCT_40X\tPCT_50X\tPCT_60X\tPCT_70X\tPCT_80X\tPCT_90X\tPCT_100X\tHET_SNP_SENSITIVITY\tHET_SNP_Q\r\n",
      "1966419868\t0.614738\t1.000009\t0\t0\t0.16233\t0\t0.003122\t0.01904\t0.073538\t0.000015\t0.258045\t0.412865\t0.002269\t0.00003\t0.00002\t0.000015\t0.000013\t0.000011\t0.000008\t0.000007\t0.000006\t0.000006\t0.000006\t0.000005\t0.000005\t0.235131\t1\r\n",
      "\r\n",
      "## HISTOGRAM\tjava.lang.Integer\r\n"
     ]
    }
   ],
   "source": [
    "!head /local/home/sarahgw/WGS/Sequences/hiseq_2016_12_07_complete/NJ_U_09/NJ_U_09_wgs_metrics.txt"
   ]
  },
  {
   "cell_type": "code",
   "execution_count": null,
   "metadata": {
    "collapsed": true
   },
   "outputs": [],
   "source": [
    "java -jar /local/home/sarahgw/picard.jar CollectWgsMetrics \\\n",
    "      I=/local/home/sarahgw/WGS/Sequences/hiseq_2016_12_07_complete/NJ_U_10/NJ_U_10_paired_eg2_sorted.bam \\\n",
    "      O=/local/home/sarahgw/WGS/Sequences/hiseq_2016_12_07_complete/NJ_U_10/NJ_U_10_wgs_metrics.txt \\\n",
    "      R= /local/home/sarahgw/references/Myotis_Lucifugus2.0/MyoLuc.fna "
   ]
  },
  {
   "cell_type": "code",
   "execution_count": 16,
   "metadata": {
    "collapsed": false
   },
   "outputs": [
    {
     "name": "stdout",
     "output_type": "stream",
     "text": [
      "## htsjdk.samtools.metrics.StringHeader\r\n",
      "# picard.analysis.CollectWgsMetrics INPUT=/local/home/sarahgw/WGS/Sequences/hiseq_2016_12_07_complete/NJ_U_10/NJ_U_10_paired_eg2_sorted.bam OUTPUT=/local/home/sarahgw/WGS/Sequences/hiseq_2016_12_07_complete/NJ_U_10/NJ_U_10_wgs_metrics.txt REFERENCE_SEQUENCE=/local/home/sarahgw/references/Myotis_Lucifugus2.0/MyoLuc.fna    MINIMUM_MAPPING_QUALITY=20 MINIMUM_BASE_QUALITY=20 COVERAGE_CAP=250 LOCUS_ACCUMULATION_CAP=100000 STOP_AFTER=-1 INCLUDE_BQ_HISTOGRAM=false COUNT_UNPAIRED=false SAMPLE_SIZE=10000 VERBOSITY=INFO QUIET=false VALIDATION_STRINGENCY=STRICT COMPRESSION_LEVEL=5 MAX_RECORDS_IN_RAM=500000 CREATE_INDEX=false CREATE_MD5_FILE=false GA4GH_CLIENT_SECRETS=client_secrets.json\r\n",
      "## htsjdk.samtools.metrics.StringHeader\r\n",
      "# Started on: Fri Jan 06 16:24:31 EST 2017\r\n",
      "\r\n",
      "## METRICS CLASS\tpicard.analysis.CollectWgsMetrics$WgsMetrics\r\n",
      "GENOME_TERRITORY\tMEAN_COVERAGE\tSD_COVERAGE\tMEDIAN_COVERAGE\tMAD_COVERAGE\tPCT_EXC_MAPQ\tPCT_EXC_DUPE\tPCT_EXC_UNPAIRED\tPCT_EXC_BASEQ\tPCT_EXC_OVERLAP\tPCT_EXC_CAPPED\tPCT_EXC_TOTAL\tPCT_1X\tPCT_5X\tPCT_10X\tPCT_15X\tPCT_20X\tPCT_25X\tPCT_30X\tPCT_40X\tPCT_50X\tPCT_60X\tPCT_70X\tPCT_80X\tPCT_90X\tPCT_100X\tHET_SNP_SENSITIVITY\tHET_SNP_Q\r\n",
      "1966419868\t0.646252\t0.989985\t0\t0\t0.167953\t0\t0.003264\t0.019095\t0.088788\t0.000004\t0.279104\t0.431692\t0.002273\t0.000027\t0.000017\t0.000014\t0.000012\t0.000011\t0.000008\t0.000006\t0.000006\t0.000006\t0.000005\t0.000005\t0.000005\t0.247439\t1\r\n",
      "\r\n",
      "## HISTOGRAM\tjava.lang.Integer\r\n"
     ]
    }
   ],
   "source": [
    "!head /local/home/sarahgw/WGS/Sequences/hiseq_2016_12_07_complete/NJ_U_10/NJ_U_10_wgs_metrics.txt"
   ]
  },
  {
   "cell_type": "code",
   "execution_count": null,
   "metadata": {
    "collapsed": true
   },
   "outputs": [],
   "source": [
    "java -jar /local/home/sarahgw/picard.jar CollectWgsMetrics \\\n",
    "      I=/local/home/sarahgw/WGS/Sequences/hiseq_2016_12_07_complete/NJ_U_11/NJ_U_11_paired_eg2_sorted.bam \\\n",
    "      O=/local/home/sarahgw/WGS/Sequences/hiseq_2016_12_07_complete/NJ_U_11/NJ_U_11_wgs_metrics.txt \\\n",
    "      R= /local/home/sarahgw/references/Myotis_Lucifugus2.0/MyoLuc.fna "
   ]
  },
  {
   "cell_type": "code",
   "execution_count": 17,
   "metadata": {
    "collapsed": false
   },
   "outputs": [
    {
     "name": "stdout",
     "output_type": "stream",
     "text": [
      "## htsjdk.samtools.metrics.StringHeader\r\n",
      "# picard.analysis.CollectWgsMetrics INPUT=/local/home/sarahgw/WGS/Sequences/hiseq_2016_12_07_complete/NJ_U_11/NJ_U_11_paired_eg2_sorted.bam OUTPUT=/local/home/sarahgw/WGS/Sequences/hiseq_2016_12_07_complete/NJ_U_11/NJ_U_11_wgs_metrics.txt REFERENCE_SEQUENCE=/local/home/sarahgw/references/Myotis_Lucifugus2.0/MyoLuc.fna    MINIMUM_MAPPING_QUALITY=20 MINIMUM_BASE_QUALITY=20 COVERAGE_CAP=250 LOCUS_ACCUMULATION_CAP=100000 STOP_AFTER=-1 INCLUDE_BQ_HISTOGRAM=false COUNT_UNPAIRED=false SAMPLE_SIZE=10000 VERBOSITY=INFO QUIET=false VALIDATION_STRINGENCY=STRICT COMPRESSION_LEVEL=5 MAX_RECORDS_IN_RAM=500000 CREATE_INDEX=false CREATE_MD5_FILE=false GA4GH_CLIENT_SECRETS=client_secrets.json\r\n",
      "## htsjdk.samtools.metrics.StringHeader\r\n",
      "# Started on: Fri Jan 06 16:24:55 EST 2017\r\n",
      "\r\n",
      "## METRICS CLASS\tpicard.analysis.CollectWgsMetrics$WgsMetrics\r\n",
      "GENOME_TERRITORY\tMEAN_COVERAGE\tSD_COVERAGE\tMEDIAN_COVERAGE\tMAD_COVERAGE\tPCT_EXC_MAPQ\tPCT_EXC_DUPE\tPCT_EXC_UNPAIRED\tPCT_EXC_BASEQ\tPCT_EXC_OVERLAP\tPCT_EXC_CAPPED\tPCT_EXC_TOTAL\tPCT_1X\tPCT_5X\tPCT_10X\tPCT_15X\tPCT_20X\tPCT_25X\tPCT_30X\tPCT_40X\tPCT_50X\tPCT_60X\tPCT_70X\tPCT_80X\tPCT_90X\tPCT_100X\tHET_SNP_SENSITIVITY\tHET_SNP_Q\r\n",
      "1966419868\t0.396013\t0.758037\t0\t0\t0.168641\t0\t0.003438\t0.021374\t0.118207\t0\t0.31166\t0.305356\t0.000311\t0.000016\t0.000011\t0.000009\t0.000007\t0.000007\t0.000006\t0.000006\t0.000006\t0.000005\t0.000005\t0.000005\t0.000005\t0.168888\t1\r\n",
      "\r\n",
      "## HISTOGRAM\tjava.lang.Integer\r\n"
     ]
    }
   ],
   "source": [
    "!head /local/home/sarahgw/WGS/Sequences/hiseq_2016_12_07_complete/NJ_U_11/NJ_U_11_wgs_metrics.txt"
   ]
  },
  {
   "cell_type": "code",
   "execution_count": null,
   "metadata": {
    "collapsed": true
   },
   "outputs": [],
   "source": [
    "java -jar /local/home/sarahgw/picard.jar CollectWgsMetrics \\\n",
    "      I=/local/home/sarahgw/WGS/Sequences/hiseq_2016_12_07_complete/NJ_U_12/NJ_U_12_paired_eg2_sorted.bam \\\n",
    "      O=/local/home/sarahgw/WGS/Sequences/hiseq_2016_12_07_complete/NJ_U_12/NJ_U_12_wgs_metrics.txt \\\n",
    "      R= /local/home/sarahgw/references/Myotis_Lucifugus2.0/MyoLuc.fna "
   ]
  },
  {
   "cell_type": "code",
   "execution_count": 18,
   "metadata": {
    "collapsed": false
   },
   "outputs": [
    {
     "name": "stdout",
     "output_type": "stream",
     "text": [
      "## htsjdk.samtools.metrics.StringHeader\r\n",
      "# picard.analysis.CollectWgsMetrics INPUT=/local/home/sarahgw/WGS/Sequences/hiseq_2016_12_07_complete/NJ_U_12/NJ_U_12_paired_eg2_sorted.bam OUTPUT=/local/home/sarahgw/WGS/Sequences/hiseq_2016_12_07_complete/NJ_U_12/NJ_U_12_wgs_metrics.txt REFERENCE_SEQUENCE=/local/home/sarahgw/references/Myotis_Lucifugus2.0/MyoLuc.fna    MINIMUM_MAPPING_QUALITY=20 MINIMUM_BASE_QUALITY=20 COVERAGE_CAP=250 LOCUS_ACCUMULATION_CAP=100000 STOP_AFTER=-1 INCLUDE_BQ_HISTOGRAM=false COUNT_UNPAIRED=false SAMPLE_SIZE=10000 VERBOSITY=INFO QUIET=false VALIDATION_STRINGENCY=STRICT COMPRESSION_LEVEL=5 MAX_RECORDS_IN_RAM=500000 CREATE_INDEX=false CREATE_MD5_FILE=false GA4GH_CLIENT_SECRETS=client_secrets.json\r\n",
      "## htsjdk.samtools.metrics.StringHeader\r\n",
      "# Started on: Fri Jan 06 16:25:07 EST 2017\r\n",
      "\r\n",
      "## METRICS CLASS\tpicard.analysis.CollectWgsMetrics$WgsMetrics\r\n",
      "GENOME_TERRITORY\tMEAN_COVERAGE\tSD_COVERAGE\tMEDIAN_COVERAGE\tMAD_COVERAGE\tPCT_EXC_MAPQ\tPCT_EXC_DUPE\tPCT_EXC_UNPAIRED\tPCT_EXC_BASEQ\tPCT_EXC_OVERLAP\tPCT_EXC_CAPPED\tPCT_EXC_TOTAL\tPCT_1X\tPCT_5X\tPCT_10X\tPCT_15X\tPCT_20X\tPCT_25X\tPCT_30X\tPCT_40X\tPCT_50X\tPCT_60X\tPCT_70X\tPCT_80X\tPCT_90X\tPCT_100X\tHET_SNP_SENSITIVITY\tHET_SNP_Q\r\n",
      "1966419868\t0.761195\t1.048169\t0\t0\t0.169974\t0\t0.001808\t0.018039\t0.125884\t0\t0.315705\t0.472063\t0.005222\t0.000033\t0.000018\t0.000013\t0.00001\t0.000009\t0.000007\t0.000006\t0.000005\t0.000005\t0.000004\t0.000004\t0.000003\t0.281477\t1\r\n",
      "\r\n",
      "## HISTOGRAM\tjava.lang.Integer\r\n"
     ]
    }
   ],
   "source": [
    "!head /local/home/sarahgw/WGS/Sequences/hiseq_2016_12_07_complete/NJ_U_12/NJ_U_12_wgs_metrics.txt"
   ]
  },
  {
   "cell_type": "code",
   "execution_count": null,
   "metadata": {
    "collapsed": true
   },
   "outputs": [],
   "source": [
    "java -jar /local/home/sarahgw/picard.jar CollectWgsMetrics \\\n",
    "      I=/local/home/sarahgw/WGS/Sequences/hiseq_2016_12_07_complete/NJ_U_14/NJ_U_14_paired_eg2_sorted.bam \\\n",
    "      O=/local/home/sarahgw/WGS/Sequences/hiseq_2016_12_07_complete/NJ_U_14/NJ_U_14_wgs_metrics.txt \\\n",
    "      R= /local/home/sarahgw/references/Myotis_Lucifugus2.0/MyoLuc.fna "
   ]
  },
  {
   "cell_type": "code",
   "execution_count": 19,
   "metadata": {
    "collapsed": false
   },
   "outputs": [
    {
     "name": "stdout",
     "output_type": "stream",
     "text": [
      "## htsjdk.samtools.metrics.StringHeader\r\n",
      "# picard.analysis.CollectWgsMetrics INPUT=/local/home/sarahgw/WGS/Sequences/hiseq_2016_12_07_complete/NJ_U_14/NJ_U_14_paired_eg2_sorted.bam OUTPUT=/local/home/sarahgw/WGS/Sequences/hiseq_2016_12_07_complete/NJ_U_14/NJ_U_14_wgs_metrics.txt REFERENCE_SEQUENCE=/local/home/sarahgw/references/Myotis_Lucifugus2.0/MyoLuc.fna    MINIMUM_MAPPING_QUALITY=20 MINIMUM_BASE_QUALITY=20 COVERAGE_CAP=250 LOCUS_ACCUMULATION_CAP=100000 STOP_AFTER=-1 INCLUDE_BQ_HISTOGRAM=false COUNT_UNPAIRED=false SAMPLE_SIZE=10000 VERBOSITY=INFO QUIET=false VALIDATION_STRINGENCY=STRICT COMPRESSION_LEVEL=5 MAX_RECORDS_IN_RAM=500000 CREATE_INDEX=false CREATE_MD5_FILE=false GA4GH_CLIENT_SECRETS=client_secrets.json\r\n",
      "## htsjdk.samtools.metrics.StringHeader\r\n",
      "# Started on: Fri Jan 06 16:25:24 EST 2017\r\n",
      "\r\n",
      "## METRICS CLASS\tpicard.analysis.CollectWgsMetrics$WgsMetrics\r\n",
      "GENOME_TERRITORY\tMEAN_COVERAGE\tSD_COVERAGE\tMEDIAN_COVERAGE\tMAD_COVERAGE\tPCT_EXC_MAPQ\tPCT_EXC_DUPE\tPCT_EXC_UNPAIRED\tPCT_EXC_BASEQ\tPCT_EXC_OVERLAP\tPCT_EXC_CAPPED\tPCT_EXC_TOTAL\tPCT_1X\tPCT_5X\tPCT_10X\tPCT_15X\tPCT_20X\tPCT_25X\tPCT_30X\tPCT_40X\tPCT_50X\tPCT_60X\tPCT_70X\tPCT_80X\tPCT_90X\tPCT_100X\tHET_SNP_SENSITIVITY\tHET_SNP_Q\r\n",
      "1966419868\t0.602409\t0.899449\t0\t0\t0.219018\t0\t0.003819\t0.018096\t0.083639\t0.000016\t0.324587\t0.404299\t0.002105\t0.000045\t0.000025\t0.000017\t0.000013\t0.00001\t0.000006\t0.000003\t0.000002\t0.000001\t0\t0\t0\t0.230803\t1\r\n",
      "\r\n",
      "## HISTOGRAM\tjava.lang.Integer\r\n"
     ]
    }
   ],
   "source": [
    "!head /local/home/sarahgw/WGS/Sequences/hiseq_2016_12_07_complete/NJ_U_14/NJ_U_14_wgs_metrics.txt"
   ]
  },
  {
   "cell_type": "code",
   "execution_count": null,
   "metadata": {
    "collapsed": true
   },
   "outputs": [],
   "source": [
    "java -jar /local/home/sarahgw/picard.jar CollectWgsMetrics \\\n",
    "      I=/local/home/sarahgw/WGS/Sequences/hiseq_2016_12_07_complete/NJ_U_15/NJ_U_15_paired_eg2_sorted.bam \\\n",
    "      O=/local/home/sarahgw/WGS/Sequences/hiseq_2016_12_07_complete/NJ_U_15/NJ_U_15_wgs_metrics.txt \\\n",
    "      R= /local/home/sarahgw/references/Myotis_Lucifugus2.0/MyoLuc.fna "
   ]
  },
  {
   "cell_type": "code",
   "execution_count": 20,
   "metadata": {
    "collapsed": false
   },
   "outputs": [
    {
     "name": "stdout",
     "output_type": "stream",
     "text": [
      "## htsjdk.samtools.metrics.StringHeader\r\n",
      "# picard.analysis.CollectWgsMetrics INPUT=/local/home/sarahgw/WGS/Sequences/hiseq_2016_12_07_complete/NJ_U_15/NJ_U_15_paired_eg2_sorted.bam OUTPUT=/local/home/sarahgw/WGS/Sequences/hiseq_2016_12_07_complete/NJ_U_15/NJ_U_15_wgs_metrics.txt REFERENCE_SEQUENCE=/local/home/sarahgw/references/Myotis_Lucifugus2.0/MyoLuc.fna    MINIMUM_MAPPING_QUALITY=20 MINIMUM_BASE_QUALITY=20 COVERAGE_CAP=250 LOCUS_ACCUMULATION_CAP=100000 STOP_AFTER=-1 INCLUDE_BQ_HISTOGRAM=false COUNT_UNPAIRED=false SAMPLE_SIZE=10000 VERBOSITY=INFO QUIET=false VALIDATION_STRINGENCY=STRICT COMPRESSION_LEVEL=5 MAX_RECORDS_IN_RAM=500000 CREATE_INDEX=false CREATE_MD5_FILE=false GA4GH_CLIENT_SECRETS=client_secrets.json\r\n",
      "## htsjdk.samtools.metrics.StringHeader\r\n",
      "# Started on: Fri Jan 06 16:25:43 EST 2017\r\n",
      "\r\n",
      "## METRICS CLASS\tpicard.analysis.CollectWgsMetrics$WgsMetrics\r\n",
      "GENOME_TERRITORY\tMEAN_COVERAGE\tSD_COVERAGE\tMEDIAN_COVERAGE\tMAD_COVERAGE\tPCT_EXC_MAPQ\tPCT_EXC_DUPE\tPCT_EXC_UNPAIRED\tPCT_EXC_BASEQ\tPCT_EXC_OVERLAP\tPCT_EXC_CAPPED\tPCT_EXC_TOTAL\tPCT_1X\tPCT_5X\tPCT_10X\tPCT_15X\tPCT_20X\tPCT_25X\tPCT_30X\tPCT_40X\tPCT_50X\tPCT_60X\tPCT_70X\tPCT_80X\tPCT_90X\tPCT_100X\tHET_SNP_SENSITIVITY\tHET_SNP_Q\r\n",
      "1966419868\t0.67741\t0.956937\t0\t0\t0.16888\t0\t0.003025\t0.018875\t0.11155\t0\t0.30233\t0.447018\t0.002558\t0.000033\t0.00002\t0.000015\t0.000011\t0.000009\t0.000006\t0.000006\t0.000005\t0.000005\t0.000004\t0.000004\t0.000003\t0.260156\t1\r\n",
      "\r\n",
      "## HISTOGRAM\tjava.lang.Integer\r\n"
     ]
    }
   ],
   "source": [
    "!head /local/home/sarahgw/WGS/Sequences/hiseq_2016_12_07_complete/NJ_U_15/NJ_U_15_wgs_metrics.txt"
   ]
  },
  {
   "cell_type": "markdown",
   "metadata": {},
   "source": [
    "Sorting NJ_U_16 because it didn't go before"
   ]
  },
  {
   "cell_type": "code",
   "execution_count": null,
   "metadata": {
    "collapsed": true
   },
   "outputs": [],
   "source": [
    "java -jar /local/home/sarahgw/picard.jar SortSam \\\n",
    "      I=/local/home/sarahgw/WGS/Sequences/hiseq_2016_12_07_complete/NJ_U_16/NJ_U_16_paired_eg2.sam \\\n",
    "      O=/local/home/sarahgw/WGS/Sequences/hiseq_2016_12_07_complete/NJ_U_16/NJ_U_16_paired_eg2_sorted.bam \\\n",
    "      SORT_ORDER=coordinate"
   ]
  },
  {
   "cell_type": "markdown",
   "metadata": {},
   "source": [
    "Metrics for mapping of paired and unpaired"
   ]
  },
  {
   "cell_type": "code",
   "execution_count": null,
   "metadata": {
    "collapsed": true
   },
   "outputs": [],
   "source": [
    "for dir in $(ls); do cd $dir; java -jar /local/home/sarahgw/picard.jar SortSam \\\n",
    "      I=$(pwd)/\"$dir\"_pairedplus_eg2.sam \\\n",
    "      O=$(pwd)/\"$dir\"_pairedplus_eg2_sorted.bam \\\n",
    "      SORT_ORDER=coordinate; cd ..; done"
   ]
  }
 ],
 "metadata": {
  "anaconda-cloud": {},
  "kernelspec": {
   "display_name": "Python [conda root]",
   "language": "python",
   "name": "conda-root-py"
  },
  "language_info": {
   "codemirror_mode": {
    "name": "ipython",
    "version": 2
   },
   "file_extension": ".py",
   "mimetype": "text/x-python",
   "name": "python",
   "nbconvert_exporter": "python",
   "pygments_lexer": "ipython2",
   "version": "2.7.12"
  }
 },
 "nbformat": 4,
 "nbformat_minor": 1
}
