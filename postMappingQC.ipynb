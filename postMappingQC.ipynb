{
 "cells": [
  {
   "cell_type": "markdown",
   "metadata": {},
   "source": [
    "Just going to try to do all of this with picard tools if possible"
   ]
  },
  {
   "cell_type": "markdown",
   "metadata": {},
   "source": [
    "Sort sam file, convert to bam"
   ]
  },
  {
   "cell_type": "code",
   "execution_count": null,
   "metadata": {
    "collapsed": true
   },
   "outputs": [],
   "source": [
    "java -jar /local/home/sarahgw/picard.jar SortSam \\\n",
    "      I=/local/home/sarahgw/WGS/Sequences/hiseq_2016_12_07_complete/NJ_E_23/NJ_E_23_paired_eg2.sam \\\n",
    "      O=/local/home/sarahgw/WGS/Sequences/hiseq_2016_12_07_complete/NJ_E_23/NJ_E_23_paired_eg2_sorted.bam \\\n",
    "      SORT_ORDER=coordinate"
   ]
  },
  {
   "cell_type": "markdown",
   "metadata": {},
   "source": [
    "SORT_ORDER=coordinate    VERBOSITY=INFO QUIET=false VALIDATION_STRINGENCY=STRICT COMPRESSION_LEVEL=5 MAX_RECORDS_IN_RAM=500000 CREATE_INDEX=false CREATE_MD5_FILE=false GA4GH_CLIENT_SECRETS=client_secrets.json\n",
    "[Wed Jan 04 18:14:05 EST 2017] Executing as sarahgw@amphiprion.deenr.rutgers.edu on Linux 2.6.32-573.12.1.el6.x86_64 amd64; Java HotSpot(TM) 64-Bit Server VM 1.8.0_45-b14; Picard version: 2.8.0-SNAPSHOT\n",
    "INFO    2017-01-04 18:19:37     SortSam Read    10,000,000 records.  Elapsed time: 00:05:30s.  Time for last 10,000,000:  330s.  Last read position: GL430553:56,088\n",
    "INFO    2017-01-04 18:22:22     SortSam Finished reading inputs, merging and writing to output now.\n",
    "INFO    2017-01-04 18:26:20     SortSam Wrote    10,000,000 records from a sorting collection.  Elapsed time: 00:12:12s.  Time for last 10,000,000:  237s.  Last read position: GL429898:3,062,968\n",
    "[Wed Jan 04 18:29:14 EST 2017] picard.sam.SortSam done. Elapsed time: 15.15 minutes.\n",
    "Runtime.totalMemory()=11426332672\n"
   ]
  },
  {
   "cell_type": "markdown",
   "metadata": {},
   "source": [
    "Calculate metrics "
   ]
  },
  {
   "cell_type": "code",
   "execution_count": null,
   "metadata": {
    "collapsed": false
   },
   "outputs": [],
   "source": [
    "java -jar /local/home/sarahgw/picard.jar CollectWgsMetrics \\\n",
    "I= /local/home/sarahgw/WGS/Sequences/hiseq_2016_12_07_complete/NJ_E_23/NJ_E_23_paired_eg2_sorted.bam \\\n",
    "       O=/local/home/sarahgw/WGS/Sequences/hiseq_2016_12_07_complete/NJ_E_23/NJ_E_23_wgs_metrics.txt \\\n",
    "       R= /local/home/sarahgw/references/Myotis_Lucifugus2.0/MyoLuc.fna \\\n",
    "        CAP=1000"
   ]
  },
  {
   "cell_type": "code",
   "execution_count": 1,
   "metadata": {
    "collapsed": false
   },
   "outputs": [
    {
     "name": "stdout",
     "output_type": "stream",
     "text": [
      "## htsjdk.samtools.metrics.StringHeader\n",
      "# picard.analysis.CollectWgsMetrics INPUT=/local/home/sarahgw/WGS/Sequences/hise \bq_2016_12_07_complete/NJ_E_23/NJ_E_23_paired_eg2_sorted.bam OUTPUT=/local/home/s \barahgw/WGS/Sequences/hiseq_2016_12_07_complete/NJ_E_23/NJ_E_23_wgs_metrics.txt R \bEFERENCE_SEQUENCE=/local/home/sarahgw/references/Myotis_Lucifugus2.0/MyoLuc.fna  \b   MINIMUM_MAPPING_QUALITY=20 MINIMUM_BASE_QUALITY=20 COVERAGE_CAP=250 LOCUS_ACC \bUMULATION_CAP=100000 STOP_AFTER=-1 INCLUDE_BQ_HISTOGRAM=false COUNT_UNPAIRED=fal \bse SAMPLE_SIZE=10000 VERBOSITY=INFO QUIET=false VALIDATION_STRINGENCY=STRICT COM \bPRESSION_LEVEL=5 MAX_RECORDS_IN_RAM=500000 CREATE_INDEX=false CREATE_MD5_FILE=fa \blse GA4GH_CLIENT_SECRETS=client_secrets.json\n",
      "## htsjdk.samtools.metrics.StringHeader\n",
      "# Started on: Wed Jan 04 18:40:23 EST 2017\n",
      "\n",
      "## METRICS CLASS        picard.analysis.CollectWgsMetrics$WgsMetrics\n",
      "GENOME_TERRITORY        MEAN_COVERAGE   SD_COVERAGE     MEDIAN_COVERAGE MAD_COVE \bRAGE    PCT_EXC_MAPQ    PCT_EXC_DUPE    PCT_EXC_UNPAIRED        PCT_EXC_BASEQ    \bPCT_EXC_OVERLAP PCT_EXC_CAPPED  PCT_EXC_TOTAL   PCT_1X  PCT_5X  PCT_10X PCT_15X  \bPCT_20X PCT_25X PCT_30X PCT_40X PCT_50X PCT_60X PCT_70X PCT_80X PCT_90X PCT_100X \b        HET_SNP_SENSITIVITY     HET_SNP_Q\n",
      "\u001b[K0.000006        0.000006        0.000006        0.000005        0.30177 2\n",
      ":\u001b[K"
     ]
    }
   ],
   "source": [
    "!less /local/home/sarahgw/WGS/Sequences/hiseq_2016_12_07_complete/NJ_E_23/NJ_E_23_wgs_metrics.txt "
   ]
  },
  {
   "cell_type": "markdown",
   "metadata": {},
   "source": [
    "GENOME_TERRITORY 1,966,419,868\n",
    "MEAN_COVERAGE 0.832228\n",
    "SD_COVERAGE 1.183708\n",
    "MEDIAN_COVERAGE 0\n",
    "MAD_COVERAGE 0\n",
    "PCT_EXC_MAPQ 0.15817\n",
    "PCT_EXC_DUPE 0.001832\n",
    "PCT_EXC_UNPAIRED 0.017254\n",
    "PCT_EXC_BASEQ 0.146752\n",
    "PCT_EXC_OVERLAP 0.000038\n",
    "PCT_EXC_CAPPED 0.324045\n",
    "PCT_EXC_TOTAL 0.495059\n",
    "PCT_1X 0.007237\n",
    "PCT_5X 0.000036\n",
    "PCT_10X 0.000019\n",
    "PCT_20X 0.000015\n",
    "PCT_30X 0.000013\n",
    "PCT_40X 0.000012\n",
    "PCT_50X 0.000009\n",
    "PCT_60X 0.000008\n",
    "PCT_70X 0.000006\n",
    "PCT_80X 0.000006\n",
    "PCT_90X 0.000006\n",
    "PCT_100X 0.000006\n",
    "HET_SNP_SENSITIVITY 0.000005\n",
    "HET_SNP_Q 0.30177\t2\n",
    "\n",
    "\n",
    "\n",
    "\n",
    "\n"
   ]
  },
  {
   "cell_type": "code",
   "execution_count": null,
   "metadata": {
    "collapsed": true
   },
   "outputs": [],
   "source": [
    "java -jar /local/home/sarahgw/picard.jar SortSam \\\n",
    "      I=/local/home/sarahgw/WGS/Sequences/hiseq_2016_12_07_complete/NJ_U_02/NJ_U_02_paired_eg2.sam \\\n",
    "      O=/local/home/sarahgw/WGS/Sequences/hiseq_2016_12_07_complete/NJ_U_02/NJ_U_02_paired_eg2_sorted.bam \\\n",
    "      SORT_ORDER=coordinate"
   ]
  },
  {
   "cell_type": "code",
   "execution_count": null,
   "metadata": {
    "collapsed": true
   },
   "outputs": [],
   "source": [
    "java -jar /local/home/sarahgw/picard.jar CollectWgsMetrics \\\n",
    "I= /local/home/sarahgw/WGS/Sequences/hiseq_2016_12_07_complete/NJ_U_02/NJ_U_02_paired_eg2_sorted.bam \\\n",
    "       O=/local/home/sarahgw/WGS/Sequences/hiseq_2016_12_07_complete/NJ_U_02/NJ_U_02_wgs_metrics.txt \\\n",
    "       R= /local/home/sarahgw/references/Myotis_Lucifugus2.0/MyoLuc.fna "
   ]
  },
  {
   "cell_type": "code",
   "execution_count": 2,
   "metadata": {
    "collapsed": false
   },
   "outputs": [
    {
     "name": "stdout",
     "output_type": "stream",
     "text": [
      "## htsjdk.samtools.metrics.StringHeader\r\n",
      "# picard.analysis.CollectWgsMetrics INPUT=/local/home/sarahgw/WGS/Sequences/hiseq_2016_12_07_complete/NJ_U_02/NJ_U_02_paired_eg2_sorted.bam OUTPUT=/local/home/sarahgw/WGS/Sequences/hiseq_2016_12_07_complete/NJ_U_02/NJ_U_02_wgs_metrics.txt REFERENCE_SEQUENCE=/local/home/sarahgw/references/Myotis_Lucifugus2.0/MyoLuc.fna    MINIMUM_MAPPING_QUALITY=20 MINIMUM_BASE_QUALITY=20 COVERAGE_CAP=250 LOCUS_ACCUMULATION_CAP=100000 STOP_AFTER=-1 INCLUDE_BQ_HISTOGRAM=false COUNT_UNPAIRED=false SAMPLE_SIZE=10000 VERBOSITY=INFO QUIET=false VALIDATION_STRINGENCY=STRICT COMPRESSION_LEVEL=5 MAX_RECORDS_IN_RAM=500000 CREATE_INDEX=false CREATE_MD5_FILE=false GA4GH_CLIENT_SECRETS=client_secrets.json\r\n",
      "## htsjdk.samtools.metrics.StringHeader\r\n",
      "# Started on: Thu Jan 05 11:57:47 EST 2017\r\n",
      "\r\n",
      "## METRICS CLASS\tpicard.analysis.CollectWgsMetrics$WgsMetrics\r\n",
      "GENOME_TERRITORY\tMEAN_COVERAGE\tSD_COVERAGE\tMEDIAN_COVERAGE\tMAD_COVERAGE\tPCT_EXC_MAPQ\tPCT_EXC_DUPE\tPCT_EXC_UNPAIRED\tPCT_EXC_BASEQ\tPCT_EXC_OVERLAP\tPCT_EXC_CAPPED\tPCT_EXC_TOTAL\tPCT_1X\tPCT_5X\tPCT_10X\tPCT_15X\tPCT_20X\tPCT_25X\tPCT_30X\tPCT_40X\tPCT_50X\tPCT_60X\tPCT_70X\tPCT_80X\tPCT_90X\tPCT_100X\tHET_SNP_SENSITIVITY\tHET_SNP_Q\r\n",
      "1966419868\t0.952725\t1.234715\t1\t1\t0.171086\t0\t0.002304\t0.018633\t0.115465\t0.000014\t0.307503\t0.543273\t0.009489\t0.000055\t0.000029\t0.00002\t0.000017\t0.000015\t0.000012\t0.00001\t0.000008\t0.000007\t0.000006\t0.000005\t0.000005\t0.328793\t2\r\n",
      "\r\n",
      "## HISTOGRAM\tjava.lang.Integer\r\n"
     ]
    }
   ],
   "source": [
    "!head /local/home/sarahgw/WGS/Sequences/hiseq_2016_12_07_complete/NJ_U_02/NJ_U_02_wgs_metrics.txt"
   ]
  },
  {
   "cell_type": "markdown",
   "metadata": {},
   "source": [
    "GENOME_TERRITORY 1966419868\n",
    "MEAN_COVERAGE 0.952725\n",
    "SD_COVERAGE 1.234715\n",
    "MEDIAN_COVERAGE 1\n",
    "MAD_COVERAGE 1\n",
    "PCT_EXC_MAPQ 0.171086\n",
    "PCT_EXC_DUPE 0\n",
    "PCT_EXC_UNPAIRED 0.002304\n",
    "PCT_EXC_BASEQ 0.018633\n",
    "PCT_EXC_OVERLAP 0.115465\n",
    "PCT_EXC_CAPPED 0.000014\n",
    "PCT_EXC_TOTAL 0.307503\n",
    "PCT_1X 0.543273\n",
    "PCT_5X 0.009489\n",
    "PCT_10X 0.000055\n",
    "PCT_20X 0.000029\n",
    "\n",
    "\n",
    "\n",
    "\n",
    "\n",
    "\n"
   ]
  },
  {
   "cell_type": "code",
   "execution_count": null,
   "metadata": {
    "collapsed": true
   },
   "outputs": [],
   "source": [
    "for dir in $(ls); do cd $dir; java -jar /local/home/sarahgw/picard.jar SortSam \\\n",
    "      I=$(pwd)/\"$dir\"_paired_eg2.sam \\\n",
    "      O=$(pwd)/\"$dir\"_paired_eg2_sorted.bam \\\n",
    "      SORT_ORDER=coordinate; cd ..; done"
   ]
  },
  {
   "cell_type": "code",
   "execution_count": null,
   "metadata": {
    "collapsed": true
   },
   "outputs": [],
   "source": [
    "java -jar /local/home/sarahgw/picard.jar CollectWgsMetrics \\\n",
    "I= /local/home/sarahgw/WGS/Sequences/hiseq_2016_12_07_complete/NJ_E_24/NJ_E_24_paired_eg2_sorted.bam \\\n",
    "       O=/local/home/sarahgw/WGS/Sequences/hiseq_2016_12_07_complete/NJ_E_24/NJ_E_24_wgs_metrics.txt \\\n",
    "       R= /local/home/sarahgw/references/Myotis_Lucifugus2.0/MyoLuc.fna "
   ]
  },
  {
   "cell_type": "code",
   "execution_count": null,
   "metadata": {
    "collapsed": true
   },
   "outputs": [],
   "source": [
    "java -jar /local/home/sarahgw/picard.jar CollectWgsMetrics \\\n",
    "I= /local/home/sarahgw/WGS/Sequences/hiseq_2016_12_07_complete/NJ_E_25/NJ_E_25_paired_eg2_sorted.bam \\\n",
    "       O=/local/home/sarahgw/WGS/Sequences/hiseq_2016_12_07_complete/NJ_E_25/NJ_E_25_wgs_metrics.txt \\\n",
    "       R= /local/home/sarahgw/references/Myotis_Lucifugus2.0/MyoLuc.fna "
   ]
  },
  {
   "cell_type": "code",
   "execution_count": null,
   "metadata": {
    "collapsed": true
   },
   "outputs": [],
   "source": [
    "java -jar /local/home/sarahgw/picard.jar CollectWgsMetrics \\\n",
    "I= /local/home/sarahgw/WGS/Sequences/hiseq_2016_12_07_complete/NJ_E_26/NJ_E_26_paired_eg2_sorted.bam \\\n",
    "       O=/local/home/sarahgw/WGS/Sequences/hiseq_2016_12_07_complete/NJ_E_26/NJ_E_26_wgs_metrics.txt \\\n",
    "       R= /local/home/sarahgw/references/Myotis_Lucifugus2.0/MyoLuc.fna "
   ]
  },
  {
   "cell_type": "code",
   "execution_count": null,
   "metadata": {
    "collapsed": true
   },
   "outputs": [],
   "source": [
    "java -jar /local/home/sarahgw/picard.jar CollectWgsMetrics \\\n",
    "I= /local/home/sarahgw/WGS/Sequences/hiseq_2016_12_07_complete/NJ_E_27/NJ_E_27_paired_eg2_sorted.bam \\\n",
    "       O=/local/home/sarahgw/WGS/Sequences/hiseq_2016_12_07_complete/NJ_E_27/NJ_E_27_wgs_metrics.txt \\\n",
    "       R= /local/home/sarahgw/references/Myotis_Lucifugus2.0/MyoLuc.fna "
   ]
  },
  {
   "cell_type": "code",
   "execution_count": null,
   "metadata": {
    "collapsed": true
   },
   "outputs": [],
   "source": [
    "java -jar /local/home/sarahgw/picard.jar CollectWgsMetrics \\\n",
    "I= /local/home/sarahgw/WGS/Sequences/hiseq_2016_12_07_complete/NJ_E_28/NJ_E_28_paired_eg2_sorted.bam \\\n",
    "       O=/local/home/sarahgw/WGS/Sequences/hiseq_2016_12_07_complete/NJ_E_28/NJ_E_28_wgs_metrics.txt \\\n",
    "       R= /local/home/sarahgw/references/Myotis_Lucifugus2.0/MyoLuc.fna "
   ]
  },
  {
   "cell_type": "code",
   "execution_count": null,
   "metadata": {
    "collapsed": true
   },
   "outputs": [],
   "source": [
    "java -jar /local/home/sarahgw/picard.jar CollectWgsMetrics \\\n",
    "I= /local/home/sarahgw/WGS/Sequences/hiseq_2016_12_07_complete/NJ_E_29/NJ_E_29_paired_eg2_sorted.bam \\\n",
    "       O=/local/home/sarahgw/WGS/Sequences/hiseq_2016_12_07_complete/NJ_E_29/NJ_E_29_wgs_metrics.txt \\\n",
    "       R= /local/home/sarahgw/references/Myotis_Lucifugus2.0/MyoLuc.fna "
   ]
  },
  {
   "cell_type": "code",
   "execution_count": null,
   "metadata": {
    "collapsed": true
   },
   "outputs": [],
   "source": [
    "java -jar /local/home/sarahgw/picard.jar CollectWgsMetrics \\\n",
    "I= /local/home/sarahgw/WGS/Sequences/hiseq_2016_12_07_complete/NJ_E_30/NJ_E_30_paired_eg2_sorted.bam \\\n",
    "       O=/local/home/sarahgw/WGS/Sequences/hiseq_2016_12_07_complete/NJ_E_30/NJ_E_30_wgs_metrics.txt \\\n",
    "       R= /local/home/sarahgw/references/Myotis_Lucifugus2.0/MyoLuc.fna "
   ]
  },
  {
   "cell_type": "code",
   "execution_count": null,
   "metadata": {
    "collapsed": true
   },
   "outputs": [],
   "source": [
    "java -jar /local/home/sarahgw/picard.jar SortSam \\\n",
    "      I=/local/home/sarahgw/WGS/Sequences/hiseq_2016_12_07_complete/NJ_U_01/NJ_U_01_paired_eg2.sam \\\n",
    "      O=/local/home/sarahgw/WGS/Sequences/hiseq_2016_12_07_complete/NJ_U_01/NJ_U_01_paired_eg2_sorted.bam \\\n",
    "      SORT_ORDER=coordinate"
   ]
  },
  {
   "cell_type": "code",
   "execution_count": null,
   "metadata": {
    "collapsed": true
   },
   "outputs": [],
   "source": [
    "java -jar /local/home/sarahgw/picard.jar SortSam \\\n",
    "      I=/local/home/sarahgw/WGS/Sequences/hiseq_2016_12_07_complete/NJ_U_03/NJ_U_03_paired_eg2.sam \\\n",
    "      O=/local/home/sarahgw/WGS/Sequences/hiseq_2016_12_07_complete/NJ_U_03/NJ_U_03_paired_eg2_sorted.bam \\\n",
    "      SORT_ORDER=coordinate"
   ]
  }
 ],
 "metadata": {
  "anaconda-cloud": {},
  "kernelspec": {
   "display_name": "Python [conda root]",
   "language": "python",
   "name": "conda-root-py"
  },
  "language_info": {
   "codemirror_mode": {
    "name": "ipython",
    "version": 2
   },
   "file_extension": ".py",
   "mimetype": "text/x-python",
   "name": "python",
   "nbconvert_exporter": "python",
   "pygments_lexer": "ipython2",
   "version": "2.7.12"
  }
 },
 "nbformat": 4,
 "nbformat_minor": 1
}
