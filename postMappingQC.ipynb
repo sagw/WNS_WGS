{
 "cells": [
  {
   "cell_type": "markdown",
   "metadata": {},
   "source": [
    "Just going to try to do all of this with picard tools if possible"
   ]
  },
  {
   "cell_type": "markdown",
   "metadata": {},
   "source": [
    "Sort sam file, convert to bam"
   ]
  },
  {
   "cell_type": "code",
   "execution_count": null,
   "metadata": {
    "collapsed": true
   },
   "outputs": [],
   "source": [
    "java -jar /local/home/sarahgw/picard.jar SortSam \\\n",
    "      I=/local/home/sarahgw/WGS/Sequences/hiseq_2016_12_07_complete/NJ_E_23/NJ_E_23_paired_eg2.sam \\\n",
    "      O=/local/home/sarahgw/WGS/Sequences/hiseq_2016_12_07_complete/NJ_E_23/NJ_E_23_paired_eg2_sorted.bam \\\n",
    "      SORT_ORDER=coordinate"
   ]
  },
  {
   "cell_type": "markdown",
   "metadata": {},
   "source": [
    "SORT_ORDER=coordinate    VERBOSITY=INFO QUIET=false VALIDATION_STRINGENCY=STRICT COMPRESSION_LEVEL=5 MAX_RECORDS_IN_RAM=500000 CREATE_INDEX=false CREATE_MD5_FILE=false GA4GH_CLIENT_SECRETS=client_secrets.json\n",
    "[Wed Jan 04 18:14:05 EST 2017] Executing as sarahgw@amphiprion.deenr.rutgers.edu on Linux 2.6.32-573.12.1.el6.x86_64 amd64; Java HotSpot(TM) 64-Bit Server VM 1.8.0_45-b14; Picard version: 2.8.0-SNAPSHOT\n",
    "INFO    2017-01-04 18:19:37     SortSam Read    10,000,000 records.  Elapsed time: 00:05:30s.  Time for last 10,000,000:  330s.  Last read position: GL430553:56,088\n",
    "INFO    2017-01-04 18:22:22     SortSam Finished reading inputs, merging and writing to output now.\n",
    "INFO    2017-01-04 18:26:20     SortSam Wrote    10,000,000 records from a sorting collection.  Elapsed time: 00:12:12s.  Time for last 10,000,000:  237s.  Last read position: GL429898:3,062,968\n",
    "[Wed Jan 04 18:29:14 EST 2017] picard.sam.SortSam done. Elapsed time: 15.15 minutes.\n",
    "Runtime.totalMemory()=11426332672\n"
   ]
  },
  {
   "cell_type": "markdown",
   "metadata": {},
   "source": [
    "Calculate metrics "
   ]
  },
  {
   "cell_type": "code",
   "execution_count": null,
   "metadata": {
    "collapsed": false
   },
   "outputs": [],
   "source": [
    "java -jar /local/home/sarahgw/picard.jar CollectWgsMetrics \\\n",
    "I= /local/home/sarahgw/WGS/Sequences/hiseq_2016_12_07_complete/NJ_E_23/NJ_E_23_paired_eg2_sorted.bam \\\n",
    "       O=/local/home/sarahgw/WGS/Sequences/hiseq_2016_12_07_complete/NJ_E_23/NJ_E_23_wgs_metrics.txt \\\n",
    "       R= /local/home/sarahgw/references/Myotis_Lucifugus2.0/MyoLuc.fna "
   ]
  },
  {
   "cell_type": "code",
   "execution_count": null,
   "metadata": {
    "collapsed": true
   },
   "outputs": [],
   "source": []
  }
 ],
 "metadata": {
  "anaconda-cloud": {},
  "kernelspec": {
   "display_name": "Python [conda root]",
   "language": "python",
   "name": "conda-root-py"
  },
  "language_info": {
   "codemirror_mode": {
    "name": "ipython",
    "version": 2
   },
   "file_extension": ".py",
   "mimetype": "text/x-python",
   "name": "python",
   "nbconvert_exporter": "python",
   "pygments_lexer": "ipython2",
   "version": "2.7.12"
  }
 },
 "nbformat": 4,
 "nbformat_minor": 1
}
