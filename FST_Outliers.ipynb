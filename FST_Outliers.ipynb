{
 "cells": [
  {
   "cell_type": "code",
   "execution_count": null,
   "metadata": {
    "collapsed": true
   },
   "outputs": [],
   "source": []
  },
  {
   "cell_type": "code",
   "execution_count": 1,
   "metadata": {
    "collapsed": false
   },
   "outputs": [
    {
     "name": "stdout",
     "output_type": "stream",
     "text": [
      "awk: cmd. line:1: fatal: cannot open file `/local/home/sarahgw/WGS/SNPS/12_07/slidingwindow' for reading (No such file or directory)\r\n"
     ]
    }
   ],
   "source": [
    "!awk '$5>0.18' /local/home/sarahgw/WGS/SNPS/12_07/slidingwindow > /local/home/sarahgw/WGS/SNPS/12_07/slidingwindow_outliers "
   ]
  },
  {
   "cell_type": "code",
   "execution_count": 3,
   "metadata": {
    "collapsed": false,
    "scrolled": true
   },
   "outputs": [
    {
     "name": "stdout",
     "output_type": "stream",
     "text": [
      "(5747,10739)(6000,10999)(6000,11000)\tAAPE02072785\t8500\t4994\t0.182726\r\n",
      "(6240,11239)(6500,11499)(6500,11500)\tAAPE02072785\t9000\t5001\t0.182915\r\n",
      "(6740,11739)(7000,11999)(7000,12000)\tAAPE02072785\t9500\t5001\t0.182548\r\n",
      "(7240,12239)(7500,12499)(7500,12500)\tAAPE02072785\t10000\t5001\t0.181144\r\n",
      "(7740,12739)(8000,12999)(8000,13000)\tAAPE02072785\t10500\t5001\t0.180031\r\n",
      "(61122335,61127334)(64205000,64209999)(64205000,64210000)\tGL429767\t64207500\t5001\t0.195472\r\n",
      "(61122835,61127834)(64205500,64210499)(64205500,64210500)\tGL429767\t64208000\t5001\t0.197801\r\n",
      "(61123335,61128334)(64206000,64210999)(64206000,64211000)\tGL429767\t64208500\t5001\t0.196887\r\n",
      "(61123835,61128772)(64206500,64211438)(64206500,64211500)\tGL429767\t64209000\t4939\t0.197740\r\n",
      "(61124335,61129239)(64207000,64211999)(64207000,64212000)\tGL429767\t64209500\t4906\t0.193871\r\n"
     ]
    }
   ],
   "source": [
    "!head /local/home/sarahgw/WGS/SNPS/12_07/slidingwindow_outliers"
   ]
  },
  {
   "cell_type": "code",
   "execution_count": 4,
   "metadata": {
    "collapsed": false
   },
   "outputs": [
    {
     "name": "stdout",
     "output_type": "stream",
     "text": [
      "24 /local/home/sarahgw/WGS/SNPS/12_07/slidingwindow_outliers\r\n"
     ]
    }
   ],
   "source": [
    "!wc -l /local/home/sarahgw/WGS/SNPS/12_07/slidingwindow_outliers"
   ]
  },
  {
   "cell_type": "markdown",
   "metadata": {},
   "source": [
    "Looking at the GL429767 outliers"
   ]
  },
  {
   "cell_type": "code",
   "execution_count": 6,
   "metadata": {
    "collapsed": true
   },
   "outputs": [],
   "source": [
    "grep 'GL429767' -A 1500000 /local/home/sarahgw/references/Myotis_Lucifugus2.0/Myotis_lucifugus.Myoluc2.0.dna_sm.toplevel.fa | tr -d '/n' | cut -c 64205000-64213999>/local/home/sarahgw/WGS/SNPS/12_07/GL429767 "
   ]
  },
  {
   "cell_type": "code",
   "execution_count": 13,
   "metadata": {
    "collapsed": false
   },
   "outputs": [
    {
     "name": "stdout",
     "output_type": "stream",
     "text": [
      ">GL429767 dna_sm:scaffold scaffold:Myoluc2.0:GL429767:1:64990205:1 REF\r\n"
     ]
    }
   ],
   "source": [
    "grep -e 'GL429767|64205000' -A 8000 /local/home/sarahgw/WGS/SNPS/12_07/angsdout_pairedplus_E.mafs.gz>/local/home/sarahgw/WGS/SNPS/12_07/GL429767_ESNPS "
   ]
  },
  {
   "cell_type": "code",
   "execution_count": 14,
   "metadata": {
    "collapsed": false
   },
   "outputs": [
    {
     "name": "stdout",
     "output_type": "stream",
     "text": [
      "1 /local/home/sarahgw/WGS/SNPS/12_07/GL429767\r\n"
     ]
    }
   ],
   "source": [
    "!wc -l /local/home/sarahgw/WGS/SNPS/12_07/GL429767 "
   ]
  },
  {
   "cell_type": "code",
   "execution_count": null,
   "metadata": {
    "collapsed": false
   },
   "outputs": [],
   "source": [
    "grep 'AAPE02072785' -A 10000 /local/home/sarahgw/references/Myotis_Lucifugus2.0/Myotis_lucifugus.Myoluc2.0.dna_sm.toplevel.fa | tr -d '\\n' | cut -c 6000-13000>/local/home/sarahgw/WGS/SNPS/12_07/AAPE02072785 "
   ]
  },
  {
   "cell_type": "code",
   "execution_count": null,
   "metadata": {
    "collapsed": true
   },
   "outputs": [],
   "source": [
    "grep 'GL429873' -A 1000000 /local/home/sarahgw/references/Myotis_Lucifugus2.0/Myotis_lucifugus.Myoluc2.0.dna_sm.toplevel.fa | tr -d '\\n' | cut -c 1721000-1726000>/local/home/sarahgw/WGS/SNPS/12_07/GL429873"
   ]
  },
  {
   "cell_type": "code",
   "execution_count": null,
   "metadata": {
    "collapsed": true
   },
   "outputs": [],
   "source": [
    "(1617338,161721000,1721062)(1721000,1726000)     GL429873        1723500 64      0.235659"
   ]
  },
  {
   "cell_type": "code",
   "execution_count": 1,
   "metadata": {
    "collapsed": false
   },
   "outputs": [
    {
     "name": "stdout",
     "output_type": "stream",
     "text": [
      "chromo\tposition\tmajor\tminor\tunknownEM\tpu-EM\tnInd\r\n",
      "GL429767\t202\tG\tA\t0.446785\t3.891132e-11\t6\r\n",
      "GL429767\t295\tA\tT\t0.318976\t1.110223e-16\t7\r\n",
      "GL429767\t317\tG\tA\t0.299223\t4.321956e-07\t6\r\n",
      "GL429767\t324\tT\tA\t0.361602\t3.000578e-11\t6\r\n",
      "GL429767\t330\tT\tC\t0.311946\t2.432411e-07\t6\r\n",
      "GL429767\t347\tT\tC\t0.444330\t1.011302e-12\t6\r\n",
      "GL429767\t462\tC\tT\t0.360534\t1.110223e-16\t5\r\n",
      "GL429767\t835\tA\tC\t0.059592\t1.822744e-07\t4\r\n",
      "GL429767\t905\tC\tT\t0.056967\t2.437665e-07\t5\r\n"
     ]
    }
   ],
   "source": [
    "!head /local/home/sarahgw/WGS/SNPS/12_07/angsdout_pairedplus_E.mafs"
   ]
  },
  {
   "cell_type": "code",
   "execution_count": 3,
   "metadata": {
    "collapsed": false
   },
   "outputs": [
    {
     "name": "stdout",
     "output_type": "stream",
     "text": [
      "chromo\tposition\tmajor\tminor\tunknownEM\tpu-EM\tnInd\r\n",
      "GL429767\t38\tA\tG\t0.224248\t1.438571e-08\t9\r\n",
      "GL429767\t53\tA\tG\t0.234849\t1.268414e-08\t9\r\n",
      "GL429767\t196\tT\tC\t0.166008\t5.828671e-13\t10\r\n",
      "GL429767\t202\tA\tG\t0.382245\t0.000000e+00\t11\r\n",
      "GL429767\t317\tG\tA\t0.230827\t2.220446e-16\t11\r\n",
      "GL429767\t324\tT\tA\t0.422423\t0.000000e+00\t11\r\n",
      "GL429767\t330\tT\tC\t0.409403\t0.000000e+00\t11\r\n",
      "GL429767\t347\tC\tT\t0.462788\t0.000000e+00\t10\r\n",
      "GL429767\t358\tA\tG\t0.088090\t2.810057e-10\t10\r\n"
     ]
    }
   ],
   "source": [
    "!head /local/home/sarahgw/WGS/SNPS/12_07/angsdout_pairedplus_U.mafs"
   ]
  },
  {
   "cell_type": "code",
   "execution_count": null,
   "metadata": {
    "collapsed": true
   },
   "outputs": [],
   "source": [
    "grep 'GL429767' /local/home/sarahgw/WGS/SNPS/12_07/angsdout_pairedplus_E.mafs | awk '{ if ($2 >= 64205000 && $2 <= 64213999) print }' > /local/home/sarahgw/WGS/SNPS/12_07/SNPS_GL429767_E.mafs"
   ]
  },
  {
   "cell_type": "code",
   "execution_count": 25,
   "metadata": {
    "collapsed": false
   },
   "outputs": [
    {
     "name": "stdout",
     "output_type": "stream",
     "text": [
      "83 /local/home/sarahgw/WGS/SNPS/12_07/SNPS_GL429767_E.mafs\r\n"
     ]
    }
   ],
   "source": [
    "!wc -l /local/home/sarahgw/WGS/SNPS/12_07/SNPS_GL429767_E.mafs"
   ]
  },
  {
   "cell_type": "code",
   "execution_count": null,
   "metadata": {
    "collapsed": true
   },
   "outputs": [],
   "source": [
    "grep 'GL429767' /local/home/sarahgw/WGS/SNPS/12_07/angsdout_pairedplus_U.mafs | awk '{ if ($2 >= 64205000 && $2 <= 64213999) print }' > /local/home/sarahgw/WGS/SNPS/12_07/SNPS_GL429767_U.mafs"
   ]
  },
  {
   "cell_type": "code",
   "execution_count": 26,
   "metadata": {
    "collapsed": false
   },
   "outputs": [
    {
     "name": "stdout",
     "output_type": "stream",
     "text": [
      "181 /local/home/sarahgw/WGS/SNPS/12_07/SNPS_GL429767_U.mafs\r\n"
     ]
    }
   ],
   "source": [
    "!wc -l /local/home/sarahgw/WGS/SNPS/12_07/SNPS_GL429767_U.mafs"
   ]
  },
  {
   "cell_type": "code",
   "execution_count": 10,
   "metadata": {
    "collapsed": false,
    "scrolled": true
   },
   "outputs": [
    {
     "name": "stdout",
     "output_type": "stream",
     "text": [
      "GL429767\t64205087\tA\tG\t0.313352\t0.000000e+00\t10\n",
      "GL429767\t64205275\tC\tT\t0.398772\t0.000000e+00\t11\n",
      "GL429767\t64205585\tG\tC\t0.051344\t8.820577e-08\t9\n",
      "GL429767\t64205621\tG\tT\t0.124139\t0.000000e+00\t10\n",
      "GL429767\t64205635\tT\tA\t0.094018\t1.523226e-13\t10\n",
      "GL429767\t64205667\tG\tA\t0.103720\t1.345590e-13\t9\n",
      "GL429767\t64205670\tT\tA\t0.084527\t3.509825e-07\t8\n",
      "GL429767\t64205700\tT\tC\t0.170488\t2.268186e-13\t9\n",
      "GL429767\t64205758\tG\tA\t0.092561\t2.292977e-10\t10\n",
      "GL429767\t64205797\tT\tC\t0.021758\t9.103946e-07\t11\n",
      "GL429767\t64205834\tG\tA\t0.068214\t4.426235e-07\t12\n",
      "GL429767\t64205877\tG\tA\t0.178337\t1.006972e-13\t11\n",
      "GL429767\t64205881\tT\tA\t0.178272\t1.860734e-13\t11\n",
      "GL429767\t64205892\tG\tA\t0.234127\t8.448797e-14\t11\n",
      "GL429767\t64206084\tC\tT\t0.166324\t4.156671e-10\t10\n",
      "GL429767\t64206119\tA\tT\t0.097607\t6.119264e-07\t9\n",
      "GL429767\t64206141\tC\tT\t0.133902\t2.094160e-10\t8\n",
      "GL429767\t64206144\tA\tC\t0.199792\t7.020739e-07\t8\n",
      "GL429767\t64206169\tT\tA\t0.285268\t3.944486e-07\t8\n",
      "GL429767\t64206429\tG\tT\t0.257393\t1.039688e-07\t10\n",
      "GL429767\t64206437\tC\tG\t0.252268\t1.107386e-07\t10\n",
      "GL429767\t64206533\tC\tT\t0.283903\t0.000000e+00\t13\n",
      "GL429767\t64206543\tA\tG\t0.139526\t4.826195e-10\t12\n",
      "GL429767\t64206549\tC\tT\t0.066428\t7.104876e-10\t12\n",
      "GL429767\t64206552\tC\tT\t0.021747\t5.647375e-07\t12\n",
      "GL429767\t64206582\tA\tG\t0.022308\t5.493819e-07\t11\n",
      "GL429767\t64206596\tA\tG\t0.022696\t5.392137e-07\t10\n",
      "GL429767\t64206628\tT\tA\t0.387405\t0.000000e+00\t10\n",
      "GL429767\t64206855\tC\tT\t0.040076\t3.650189e-07\t6\n",
      "GL429767\t64206908\tA\tT\t0.450831\t0.000000e+00\t7\n",
      "GL429767\t64206913\tA\tG\t0.444327\t2.485789e-13\t7\n",
      "GL429767\t64206994\tA\tC\t0.084516\t5.649898e-07\t10\n",
      "GL429767\t64207327\tG\tT\t0.436755\t3.153033e-14\t6\n",
      "GL429767\t64207905\tA\tT\t0.092184\t5.136092e-07\t9\n",
      "GL429767\t64207918\tT\tG\t0.086388\t4.346447e-07\t9\n",
      "GL429767\t64208037\tG\tA\t0.078343\t7.324474e-12\t10\n",
      "GL429767\t64208073\tT\tC\t0.393810\t0.000000e+00\t11\n",
      "GL429767\t64208165\tA\tC\t0.196424\t7.971401e-14\t9\n",
      "GL429767\t64208496\tG\tA\t0.119856\t3.032277e-07\t7\n",
      "GL429767\t64208559\tT\tG\t0.155159\t1.179997e-10\t7\n",
      "GL429767\t64208620\tT\tC\t0.127260\t3.634440e-07\t6\n",
      "GL429767\t64208625\tG\tA\t0.230757\t7.308298e-11\t5\n",
      "GL429767\t64208634\tA\tG\t0.100650\t7.603370e-07\t8\n",
      "GL429767\t64208740\tA\tG\t0.468939\t0.000000e+00\t9\n",
      "GL429767\t64208769\tA\tT\t0.389695\t0.000000e+00\t10\n",
      "GL429767\t64208833\tG\tA\t0.153426\t6.436216e-10\t10\n",
      "GL429767\t64208875\tG\tA\t0.350782\t1.998401e-15\t10\n",
      "GL429767\t64208884\tC\tT\t0.434727\t0.000000e+00\t10\n",
      "GL429767\t64208990\tG\tT\t0.145214\t5.102319e-07\t5\n",
      "GL429767\t64209098\tC\tA\t0.171617\t1.567477e-09\t5\n",
      "GL429767\t64209139\tT\tC\t0.092343\t3.876344e-12\t7\n",
      "GL429767\t64209168\tG\tC\t0.120936\t1.282197e-12\t8\n",
      "GL429767\t64209177\tA\tG\t0.140668\t7.660539e-15\t9\n",
      "GL429767\t64209196\tA\tT\t0.471825\t0.000000e+00\t9\n",
      "GL429767\t64209200\tC\tT\t0.147936\t1.110223e-16\t9\n",
      "GL429767\t64209202\tT\tC\t0.143423\t1.776357e-15\t9\n",
      "GL429767\t64209203\tT\tG\t0.142323\t2.220446e-15\t9\n",
      "GL429767\t64209211\tG\tA\t0.453945\t0.000000e+00\t10\n",
      "GL429767\t64209252\tG\tA\t0.471637\t0.000000e+00\t12\n",
      "GL429767\t64209277\tA\tG\t0.372099\t0.000000e+00\t12\n",
      "GL429767\t64209313\tT\tC\t0.496050\t0.000000e+00\t11\n",
      "GL429767\t64209327\tA\tG\t0.483150\t0.000000e+00\t11\n",
      "GL429767\t64209364\tG\tA\t0.480782\t0.000000e+00\t11\n",
      "GL429767\t64209379\tC\tT\t0.390780\t0.000000e+00\t11\n",
      "GL429767\t64209388\tG\tT\t0.095308\t6.401546e-13\t9\n",
      "GL429767\t64209409\tC\tT\t0.105403\t2.268186e-13\t8\n",
      "GL429767\t64209479\tT\tC\t0.116193\t6.172198e-10\t6\n",
      "GL429767\t64209480\tT\tC\t0.116189\t5.068563e-10\t6\n",
      "GL429767\t64209506\tG\tT\t0.338530\t1.866695e-10\t6\n",
      "GL429767\t64209509\tG\tA\t0.338538\t1.533159e-10\t6\n",
      "GL429767\t64209530\tA\tG\t0.459535\t9.127003e-08\t4\n",
      "GL429767\t64209548\tG\tC\t0.459536\t9.126971e-08\t4\n",
      "GL429767\t64209577\tA\tG\t0.459500\t1.157812e-07\t4\n",
      "GL429767\t64209592\tT\tC\t0.140358\t6.316270e-11\t5\n",
      "GL429767\t64209622\tA\tG\t0.161576\t8.294920e-07\t5\n",
      "GL429767\t64209623\tG\tA\t0.161576\t8.294920e-07\t5\n",
      "GL429767\t64209624\tC\tT\t0.161576\t8.294920e-07\t5\n",
      "GL429767\t64209656\tG\tA\t0.445349\t1.587619e-14\t8\n",
      "GL429767\t64209661\tA\tT\t0.215163\t5.890721e-07\t8\n",
      "GL429767\t64209696\tA\tG\t0.423631\t0.000000e+00\t13\n",
      "GL429767\t64209700\tG\tT\t0.379105\t1.110223e-16\t12\n",
      "GL429767\t64209707\tC\tT\t0.376505\t0.000000e+00\t12\n",
      "GL429767\t64209750\tC\tT\t0.023359\t6.633814e-07\t12\n",
      "GL429767\t64209791\tT\tG\t0.473980\t0.000000e+00\t12\n",
      "GL429767\t64209800\tG\tT\t0.336169\t0.000000e+00\t11\n",
      "GL429767\t64209825\tG\tA\t0.356667\t0.000000e+00\t13\n",
      "GL429767\t64209845\tG\tA\t0.419464\t0.000000e+00\t12\n",
      "GL429767\t64209855\tC\tT\t0.471920\t0.000000e+00\t11\n",
      "GL429767\t64209859\tT\tC\t0.471473\t0.000000e+00\t11\n",
      "GL429767\t64209860\tG\tA\t0.471613\t0.000000e+00\t11\n",
      "GL429767\t64209865\tT\tC\t0.482570\t0.000000e+00\t11\n",
      "GL429767\t64209866\tG\tA\t0.464193\t0.000000e+00\t11\n",
      "GL429767\t64209874\tG\tA\t0.495283\t0.000000e+00\t12\n",
      "GL429767\t64209884\tT\tC\t0.498135\t0.000000e+00\t12\n",
      "GL429767\t64209889\tT\tC\t0.436630\t0.000000e+00\t12\n",
      "GL429767\t64209892\tG\tA\t0.473225\t0.000000e+00\t12\n",
      "GL429767\t64209899\tA\tG\t0.494442\t0.000000e+00\t12\n",
      "GL429767\t64209909\tC\tT\t0.495407\t0.000000e+00\t12\n",
      "GL429767\t64209915\tC\tT\t0.493510\t0.000000e+00\t12\n",
      "GL429767\t64209923\tA\tG\t0.437124\t0.000000e+00\t13\n",
      "GL429767\t64209945\tG\tA\t0.381571\t0.000000e+00\t13\n",
      "GL429767\t64209948\tT\tC\t0.498073\t0.000000e+00\t12\n",
      "GL429767\t64209953\tG\tT\t0.420236\t0.000000e+00\t10\n",
      "GL429767\t64209955\tT\tC\t0.371477\t0.000000e+00\t10\n",
      "GL429767\t64209999\tA\tG\t0.029415\t4.057643e-07\t9\n",
      "GL429767\t64210006\tG\tA\t0.386404\t1.139533e-12\t9\n",
      "GL429767\t64210008\tC\tA\t0.385186\t5.406786e-14\t9\n",
      "GL429767\t64210019\tG\tA\t0.449967\t0.000000e+00\t8\n",
      "GL429767\t64210034\tA\tC\t0.410059\t0.000000e+00\t9\n",
      "GL429767\t64210067\tA\tC\t0.060589\t8.155197e-07\t12\n",
      "GL429767\t64210088\tA\tG\t0.327402\t0.000000e+00\t11\n",
      "GL429767\t64210143\tG\tC\t0.396353\t0.000000e+00\t9\n",
      "GL429767\t64210335\tC\tG\t0.236382\t1.027733e-12\t5\n",
      "GL429767\t64210382\tA\tG\t0.374856\t1.532761e-09\t7\n",
      "GL429767\t64210471\tT\tC\t0.474798\t0.000000e+00\t9\n",
      "GL429767\t64210472\tC\tT\t0.264373\t1.376677e-09\t9\n",
      "GL429767\t64210474\tG\tA\t0.188107\t0.000000e+00\t9\n",
      "GL429767\t64210650\tT\tC\t0.317779\t1.841843e-10\t6\n",
      "GL429767\t64210731\tC\tG\t0.099388\t2.317138e-07\t8\n",
      "GL429767\t64210732\tA\tT\t0.099388\t2.317138e-07\t8\n",
      "GL429767\t64210734\tG\tA\t0.098094\t2.982092e-07\t8\n",
      "GL429767\t64210739\tG\tT\t0.111109\t4.312148e-09\t8\n",
      "GL429767\t64210740\tT\tG\t0.211276\t8.598566e-12\t8\n",
      "GL429767\t64210819\tG\tA\t0.487491\t0.000000e+00\t10\n",
      "GL429767\t64210827\tT\tC\t0.464716\t0.000000e+00\t11\n",
      "GL429767\t64210892\tA\tC\t0.182544\t3.341302e-10\t9\n",
      "GL429767\t64211182\tG\tT\t0.419402\t5.884182e-15\t8\n",
      "GL429767\t64211199\tA\tT\t0.291734\t2.398104e-09\t7\n",
      "GL429767\t64211923\tT\tC\t0.376837\t7.277112e-11\t5\n",
      "GL429767\t64211938\tC\tT\t0.461743\t5.318535e-11\t4\n",
      "GL429767\t64211943\tA\tG\t0.182987\t1.500781e-07\t5\n",
      "GL429767\t64211950\tG\tT\t0.376715\t7.280110e-11\t5\n",
      "GL429767\t64212149\tC\tA\t0.327059\t0.000000e+00\t8\n",
      "GL429767\t64212170\tG\tT\t0.407069\t0.000000e+00\t9\n",
      "GL429767\t64212171\tG\tA\t0.074103\t7.711566e-10\t9\n",
      "GL429767\t64212195\tT\tC\t0.074284\t2.938749e-10\t11\n",
      "GL429767\t64212202\tG\tA\t0.057951\t2.715862e-07\t11\n",
      "GL429767\t64212208\tC\tT\t0.133346\t1.744491e-09\t11\n",
      "GL429767\t64212225\tA\tT\t0.275514\t0.000000e+00\t11\n",
      "GL429767\t64212230\tG\tA\t0.060007\t8.229229e-07\t12\n",
      "GL429767\t64212231\tT\tC\t0.384228\t0.000000e+00\t12\n",
      "GL429767\t64212247\tG\tA\t0.064938\t0.000000e+00\t11\n",
      "GL429767\t64212283\tG\tT\t0.392807\t1.110223e-16\t10\n",
      "GL429767\t64212325\tG\tA\t0.239195\t1.219246e-09\t10\n",
      "GL429767\t64212356\tA\tG\t0.193236\t3.796956e-10\t6\n",
      "GL429767\t64212396\tT\tG\t0.173963\t1.220938e-07\t6\n",
      "GL429767\t64212400\tA\tC\t0.446766\t9.977053e-11\t6\n",
      "GL429767\t64212496\tA\tG\t0.206619\t3.319567e-14\t10\n",
      "GL429767\t64212510\tC\tT\t0.419404\t0.000000e+00\t11\n",
      "GL429767\t64212582\tA\tG\t0.188612\t7.802647e-13\t9\n",
      "GL429767\t64212609\tG\tA\t0.237443\t2.220446e-16\t8\n",
      "GL429767\t64212652\tA\tG\t0.179769\t8.133427e-11\t6\n",
      "GL429767\t64212656\tT\tC\t0.179770\t8.133405e-11\t6\n",
      "GL429767\t64212729\tA\tG\t0.149219\t5.947188e-09\t11\n",
      "GL429767\t64212805\tA\tG\t0.344698\t0.000000e+00\t11\n",
      "GL429767\t64212833\tC\tT\t0.026488\t5.781282e-07\t10\n",
      "GL429767\t64212871\tT\tA\t0.362298\t0.000000e+00\t6\n",
      "GL429767\t64212907\tC\tT\t0.434806\t0.000000e+00\t9\n",
      "GL429767\t64212918\tA\tG\t0.188101\t1.227882e-10\t9\n",
      "GL429767\t64212964\tC\tT\t0.275505\t0.000000e+00\t9\n",
      "GL429767\t64213055\tC\tA\t0.402963\t0.000000e+00\t8\n",
      "GL429767\t64213064\tC\tT\t0.028736\t3.386874e-08\t8\n",
      "GL429767\t64213098\tA\tG\t0.334179\t1.110223e-16\t8\n",
      "GL429767\t64213116\tT\tC\t0.113625\t4.795093e-10\t8\n",
      "GL429767\t64213404\tA\tT\t0.295657\t0.000000e+00\t13\n",
      "GL429767\t64213441\tC\tT\t0.128414\t2.891570e-09\t13\n",
      "GL429767\t64213445\tC\tT\t0.128415\t4.463177e-09\t13\n",
      "GL429767\t64213447\tG\tA\t0.296258\t0.000000e+00\t13\n",
      "GL429767\t64213502\tT\tC\t0.443831\t0.000000e+00\t9\n",
      "GL429767\t64213503\tG\tA\t0.443817\t0.000000e+00\t9\n",
      "GL429767\t64213505\tG\tA\t0.471698\t0.000000e+00\t9\n",
      "GL429767\t64213514\tC\tT\t0.397738\t0.000000e+00\t10\n",
      "GL429767\t64213515\tA\tG\t0.397739\t0.000000e+00\t10\n",
      "GL429767\t64213527\tA\tG\t0.472240\t0.000000e+00\t10\n",
      "GL429767\t64213599\tC\tA\t0.467572\t0.000000e+00\t10\n",
      "GL429767\t64213667\tA\tC\t0.399856\t2.590432e-07\t5\n",
      "GL429767\t64213786\tT\tC\t0.345162\t1.940312e-07\t5\n",
      "GL429767\t64213897\tG\tT\t0.275252\t3.377667e-07\t6\n",
      "GL429767\t64213908\tG\tA\t0.275068\t6.911754e-07\t6\n",
      "GL429767\t64213935\tC\tT\t0.042586\t2.684364e-07\t6\n",
      "GL429767\t64213970\tA\tC\t0.033066\t3.564665e-07\t8\n",
      "\n"
     ]
    }
   ],
   "source": [
    "with open('/local/home/sarahgw/WGS/SNPS/12_07/SNPS_GL429767_U.mafs', 'r') as U:\n",
    "    print U.read()"
   ]
  },
  {
   "cell_type": "code",
   "execution_count": 11,
   "metadata": {
    "collapsed": false,
    "scrolled": true
   },
   "outputs": [
    {
     "name": "stdout",
     "output_type": "stream",
     "text": [
      "GL429767\t64205223\tA\tG\t0.113190\t2.541458e-07\t7\n",
      "GL429767\t64205266\tA\tG\t0.124907\t5.908941e-07\t6\n",
      "GL429767\t64205275\tT\tC\t0.465828\t0.000000e+00\t6\n",
      "GL429767\t64205276\tT\tA\t0.124907\t1.792814e-07\t6\n",
      "GL429767\t64205388\tC\tT\t0.043182\t5.403974e-07\t5\n",
      "GL429767\t64205437\tA\tG\t0.203739\t9.309220e-13\t6\n",
      "GL429767\t64205477\tT\tA\t0.047031\t2.396196e-07\t5\n",
      "GL429767\t64205521\tG\tA\t0.076170\t5.682565e-07\t3\n",
      "GL429767\t64205720\tG\tT\t0.112749\t3.239131e-07\t8\n",
      "GL429767\t64205721\tC\tT\t0.112749\t2.551927e-07\t8\n",
      "GL429767\t64205808\tG\tC\t0.092672\t2.858614e-09\t6\n",
      "GL429767\t64205935\tG\tT\t0.235432\t1.085129e-07\t4\n",
      "GL429767\t64206169\tT\tA\t0.338846\t0.000000e+00\t7\n",
      "GL429767\t64206429\tG\tT\t0.257923\t6.056963e-10\t6\n",
      "GL429767\t64206437\tC\tG\t0.258151\t2.501402e-09\t6\n",
      "GL429767\t64206473\tA\tG\t0.295881\t1.893430e-11\t7\n",
      "GL429767\t64206533\tC\tT\t0.181763\t3.629319e-13\t7\n",
      "GL429767\t64206628\tT\tA\t0.172883\t0.000000e+00\t8\n",
      "GL429767\t64206676\tC\tG\t0.100365\t9.589495e-07\t7\n",
      "GL429767\t64206820\tG\tA\t0.321957\t1.554312e-15\t7\n",
      "GL429767\t64206829\tG\tC\t0.360365\t0.000000e+00\t6\n",
      "GL429767\t64206852\tT\tA\t0.443652\t0.000000e+00\t6\n",
      "GL429767\t64206855\tC\tG\t0.316243\t2.220446e-16\t6\n",
      "GL429767\t64207127\tG\tT\t0.071861\t1.266068e-10\t4\n",
      "GL429767\t64207780\tT\tC\t0.499999\t2.864375e-14\t2\n",
      "GL429767\t64208037\tG\tA\t0.071861\t1.000342e-10\t4\n",
      "GL429767\t64208164\tG\tA\t0.102795\t5.837458e-07\t8\n",
      "GL429767\t64208165\tA\tG\t0.102797\t5.837306e-07\t8\n",
      "GL429767\t64208241\tC\tT\t0.122084\t7.676857e-08\t6\n",
      "GL429767\t64208319\tG\tA\t0.346950\t2.065015e-14\t3\n",
      "GL429767\t64208740\tA\tG\t0.297345\t0.000000e+00\t6\n",
      "GL429767\t64209196\tA\tT\t0.359373\t4.440892e-16\t6\n",
      "GL429767\t64209356\tT\tC\t0.091740\t8.625947e-07\t2\n",
      "GL429767\t64209736\tT\tG\t0.098247\t9.912224e-08\t3\n",
      "GL429767\t64210267\tA\tG\t0.322040\t3.365797e-11\t5\n",
      "GL429767\t64210276\tC\tG\t0.044289\t3.258080e-07\t5\n",
      "GL429767\t64210285\tT\tC\t0.044289\t8.469087e-07\t5\n",
      "GL429767\t64210382\tA\tG\t0.384314\t2.604938e-11\t5\n",
      "GL429767\t64210405\tC\tT\t0.329335\t2.167333e-07\t5\n",
      "GL429767\t64210430\tG\tA\t0.333362\t4.782796e-11\t4\n",
      "GL429767\t64210472\tC\tT\t0.388260\t0.000000e+00\t5\n",
      "GL429767\t64210795\tA\tT\t0.453736\t1.821439e-10\t5\n",
      "GL429767\t64210819\tA\tG\t0.404109\t4.616241e-11\t5\n",
      "GL429767\t64210827\tT\tC\t0.338693\t7.834043e-10\t5\n",
      "GL429767\t64210840\tA\tG\t0.464209\t1.088019e-14\t7\n",
      "GL429767\t64210894\tG\tC\t0.487405\t0.000000e+00\t7\n",
      "GL429767\t64211155\tT\tC\t0.249848\t5.216842e-07\t3\n",
      "GL429767\t64212010\tA\tG\t0.338752\t4.736816e-07\t5\n",
      "GL429767\t64212025\tT\tC\t0.472344\t1.291733e-09\t6\n",
      "GL429767\t64212037\tG\tT\t0.371262\t4.104465e-07\t5\n",
      "GL429767\t64212170\tT\tG\t0.401796\t2.125758e-09\t4\n",
      "GL429767\t64212225\tT\tA\t0.479400\t0.000000e+00\t5\n",
      "GL429767\t64212231\tC\tT\t0.479628\t1.110223e-16\t5\n",
      "GL429767\t64212283\tT\tG\t0.498952\t0.000000e+00\t6\n",
      "GL429767\t64212305\tA\tG\t0.112743\t4.166765e-07\t6\n",
      "GL429767\t64212325\tG\tA\t0.499938\t0.000000e+00\t6\n",
      "GL429767\t64212356\tA\tG\t0.355275\t0.000000e+00\t6\n",
      "GL429767\t64212361\tG\tC\t0.479524\t0.000000e+00\t6\n",
      "GL429767\t64212400\tC\tA\t0.096191\t5.551115e-16\t5\n",
      "GL429767\t64212415\tG\tA\t0.056806\t4.755452e-10\t4\n",
      "GL429767\t64212510\tC\tT\t0.360964\t6.044054e-13\t7\n",
      "GL429767\t64212890\tG\tA\t0.360958\t4.307665e-14\t7\n",
      "GL429767\t64212906\tT\tA\t0.034826\t3.365361e-07\t7\n",
      "GL429767\t64212907\tT\tC\t0.334466\t1.495470e-13\t7\n",
      "GL429767\t64212913\tA\tC\t0.334533\t3.663736e-14\t7\n",
      "GL429767\t64212964\tC\tT\t0.445461\t3.330669e-16\t7\n",
      "GL429767\t64212988\tC\tT\t0.135316\t3.321355e-10\t5\n",
      "GL429767\t64213055\tC\tA\t0.428532\t1.086727e-10\t6\n",
      "GL429767\t64213098\tA\tG\t0.456391\t0.000000e+00\t6\n",
      "GL429767\t64213233\tG\tA\t0.031922\t2.735145e-12\t7\n",
      "GL429767\t64213404\tA\tT\t0.047149\t2.389441e-07\t4\n",
      "GL429767\t64213447\tG\tA\t0.295782\t6.084022e-14\t5\n",
      "GL429767\t64213487\tT\tA\t0.039972\t1.110223e-16\t5\n",
      "GL429767\t64213502\tT\tC\t0.357737\t1.698641e-14\t6\n",
      "GL429767\t64213503\tG\tA\t0.357760\t2.664535e-15\t6\n",
      "GL429767\t64213505\tA\tG\t0.357763\t1.110223e-16\t6\n",
      "GL429767\t64213514\tC\tT\t0.255037\t7.009942e-09\t5\n",
      "GL429767\t64213515\tA\tG\t0.255037\t5.532439e-09\t5\n",
      "GL429767\t64213527\tG\tA\t0.257648\t5.796104e-08\t5\n",
      "GL429767\t64213568\tC\tT\t0.472895\t3.330669e-16\t5\n",
      "GL429767\t64213599\tC\tA\t0.111119\t1.307927e-10\t3\n",
      "GL429767\t64213786\tT\tC\t0.338738\t1.533206e-10\t6\n",
      "GL429767\t64213800\tG\tC\t0.338738\t1.533206e-10\t6\n",
      "\n"
     ]
    }
   ],
   "source": [
    "with open('/local/home/sarahgw/WGS/SNPS/12_07/SNPS_GL429767_E.mafs', 'r') as E:\n",
    "    print E.read()"
   ]
  },
  {
   "cell_type": "code",
   "execution_count": 23,
   "metadata": {
    "collapsed": false,
    "scrolled": true
   },
   "outputs": [],
   "source": [
    "!awk -F '\\t' 'NR==FNR{c[$2]++;next};c[$2] > 0' /local/home/sarahgw/WGS/SNPS/12_07/SNPS_GL429767_E.mafs /local/home/sarahgw/WGS/SNPS/12_07/SNPS_GL429767_U.mafs> /local/home/sarahgw/WGS/SNPS/12_07/SNPS_GL429767_Both.mafs"
   ]
  },
  {
   "cell_type": "code",
   "execution_count": 28,
   "metadata": {
    "collapsed": true
   },
   "outputs": [],
   "source": [
    "!awk -F '\\t' 'NR==FNR{c[$2]++;next};c[$2] > 0' /local/home/sarahgw/WGS/SNPS/12_07/SNPS_GL429767_U.mafs /local/home/sarahgw/WGS/SNPS/12_07/SNPS_GL429767_E.mafs > /local/home/sarahgw/WGS/SNPS/12_07/SNPS_GL429767_Both2.mafs"
   ]
  },
  {
   "cell_type": "code",
   "execution_count": 24,
   "metadata": {
    "collapsed": false
   },
   "outputs": [
    {
     "name": "stdout",
     "output_type": "stream",
     "text": [
      "37 /local/home/sarahgw/WGS/SNPS/12_07/SNPS_GL429767_Both.mafs\r\n"
     ]
    }
   ],
   "source": [
    "!wc -l /local/home/sarahgw/WGS/SNPS/12_07/SNPS_GL429767_Both.mafs"
   ]
  },
  {
   "cell_type": "code",
   "execution_count": 27,
   "metadata": {
    "collapsed": false
   },
   "outputs": [
    {
     "name": "stdout",
     "output_type": "stream",
     "text": [
      "GL429767\t64205275\tC\tT\t0.398772\t0.000000e+00\t11\n",
      "GL429767\t64206169\tT\tA\t0.285268\t3.944486e-07\t8\n",
      "GL429767\t64206429\tG\tT\t0.257393\t1.039688e-07\t10\n",
      "GL429767\t64206437\tC\tG\t0.252268\t1.107386e-07\t10\n",
      "GL429767\t64206533\tC\tT\t0.283903\t0.000000e+00\t13\n",
      "GL429767\t64206628\tT\tA\t0.387405\t0.000000e+00\t10\n",
      "GL429767\t64206855\tC\tT\t0.040076\t3.650189e-07\t6\n",
      "GL429767\t64208037\tG\tA\t0.078343\t7.324474e-12\t10\n",
      "GL429767\t64208165\tA\tC\t0.196424\t7.971401e-14\t9\n",
      "GL429767\t64208740\tA\tG\t0.468939\t0.000000e+00\t9\n",
      "GL429767\t64209196\tA\tT\t0.471825\t0.000000e+00\t9\n",
      "GL429767\t64210382\tA\tG\t0.374856\t1.532761e-09\t7\n",
      "GL429767\t64210472\tC\tT\t0.264373\t1.376677e-09\t9\n",
      "GL429767\t64210819\tG\tA\t0.487491\t0.000000e+00\t10\n",
      "GL429767\t64210827\tT\tC\t0.464716\t0.000000e+00\t11\n",
      "GL429767\t64212170\tG\tT\t0.407069\t0.000000e+00\t9\n",
      "GL429767\t64212225\tA\tT\t0.275514\t0.000000e+00\t11\n",
      "GL429767\t64212231\tT\tC\t0.384228\t0.000000e+00\t12\n",
      "GL429767\t64212283\tG\tT\t0.392807\t1.110223e-16\t10\n",
      "GL429767\t64212325\tG\tA\t0.239195\t1.219246e-09\t10\n",
      "GL429767\t64212356\tA\tG\t0.193236\t3.796956e-10\t6\n",
      "GL429767\t64212400\tA\tC\t0.446766\t9.977053e-11\t6\n",
      "GL429767\t64212510\tC\tT\t0.419404\t0.000000e+00\t11\n",
      "GL429767\t64212907\tC\tT\t0.434806\t0.000000e+00\t9\n",
      "GL429767\t64212964\tC\tT\t0.275505\t0.000000e+00\t9\n",
      "GL429767\t64213055\tC\tA\t0.402963\t0.000000e+00\t8\n",
      "GL429767\t64213098\tA\tG\t0.334179\t1.110223e-16\t8\n",
      "GL429767\t64213404\tA\tT\t0.295657\t0.000000e+00\t13\n",
      "GL429767\t64213447\tG\tA\t0.296258\t0.000000e+00\t13\n",
      "GL429767\t64213502\tT\tC\t0.443831\t0.000000e+00\t9\n",
      "GL429767\t64213503\tG\tA\t0.443817\t0.000000e+00\t9\n",
      "GL429767\t64213505\tG\tA\t0.471698\t0.000000e+00\t9\n",
      "GL429767\t64213514\tC\tT\t0.397738\t0.000000e+00\t10\n",
      "GL429767\t64213515\tA\tG\t0.397739\t0.000000e+00\t10\n",
      "GL429767\t64213527\tA\tG\t0.472240\t0.000000e+00\t10\n",
      "GL429767\t64213599\tC\tA\t0.467572\t0.000000e+00\t10\n",
      "GL429767\t64213786\tT\tC\t0.345162\t1.940312e-07\t5\n",
      "\n"
     ]
    }
   ],
   "source": [
    "with open('/local/home/sarahgw/WGS/SNPS/12_07/SNPS_GL429767_Both.mafs', 'r') as Both:\n",
    "    print Both.read()"
   ]
  },
  {
   "cell_type": "code",
   "execution_count": 29,
   "metadata": {
    "collapsed": false
   },
   "outputs": [
    {
     "name": "stdout",
     "output_type": "stream",
     "text": [
      "GL429767\t64205275\tT\tC\t0.465828\t0.000000e+00\t6\n",
      "GL429767\t64206169\tT\tA\t0.338846\t0.000000e+00\t7\n",
      "GL429767\t64206429\tG\tT\t0.257923\t6.056963e-10\t6\n",
      "GL429767\t64206437\tC\tG\t0.258151\t2.501402e-09\t6\n",
      "GL429767\t64206533\tC\tT\t0.181763\t3.629319e-13\t7\n",
      "GL429767\t64206628\tT\tA\t0.172883\t0.000000e+00\t8\n",
      "GL429767\t64206855\tC\tG\t0.316243\t2.220446e-16\t6\n",
      "GL429767\t64208037\tG\tA\t0.071861\t1.000342e-10\t4\n",
      "GL429767\t64208165\tA\tG\t0.102797\t5.837306e-07\t8\n",
      "GL429767\t64208740\tA\tG\t0.297345\t0.000000e+00\t6\n",
      "GL429767\t64209196\tA\tT\t0.359373\t4.440892e-16\t6\n",
      "GL429767\t64210382\tA\tG\t0.384314\t2.604938e-11\t5\n",
      "GL429767\t64210472\tC\tT\t0.388260\t0.000000e+00\t5\n",
      "GL429767\t64210819\tA\tG\t0.404109\t4.616241e-11\t5\n",
      "GL429767\t64210827\tT\tC\t0.338693\t7.834043e-10\t5\n",
      "GL429767\t64212170\tT\tG\t0.401796\t2.125758e-09\t4\n",
      "GL429767\t64212225\tT\tA\t0.479400\t0.000000e+00\t5\n",
      "GL429767\t64212231\tC\tT\t0.479628\t1.110223e-16\t5\n",
      "GL429767\t64212283\tT\tG\t0.498952\t0.000000e+00\t6\n",
      "GL429767\t64212325\tG\tA\t0.499938\t0.000000e+00\t6\n",
      "GL429767\t64212356\tA\tG\t0.355275\t0.000000e+00\t6\n",
      "GL429767\t64212400\tC\tA\t0.096191\t5.551115e-16\t5\n",
      "GL429767\t64212510\tC\tT\t0.360964\t6.044054e-13\t7\n",
      "GL429767\t64212907\tT\tC\t0.334466\t1.495470e-13\t7\n",
      "GL429767\t64212964\tC\tT\t0.445461\t3.330669e-16\t7\n",
      "GL429767\t64213055\tC\tA\t0.428532\t1.086727e-10\t6\n",
      "GL429767\t64213098\tA\tG\t0.456391\t0.000000e+00\t6\n",
      "GL429767\t64213404\tA\tT\t0.047149\t2.389441e-07\t4\n",
      "GL429767\t64213447\tG\tA\t0.295782\t6.084022e-14\t5\n",
      "GL429767\t64213502\tT\tC\t0.357737\t1.698641e-14\t6\n",
      "GL429767\t64213503\tG\tA\t0.357760\t2.664535e-15\t6\n",
      "GL429767\t64213505\tA\tG\t0.357763\t1.110223e-16\t6\n",
      "GL429767\t64213514\tC\tT\t0.255037\t7.009942e-09\t5\n",
      "GL429767\t64213515\tA\tG\t0.255037\t5.532439e-09\t5\n",
      "GL429767\t64213527\tG\tA\t0.257648\t5.796104e-08\t5\n",
      "GL429767\t64213599\tC\tA\t0.111119\t1.307927e-10\t3\n",
      "GL429767\t64213786\tT\tC\t0.338738\t1.533206e-10\t6\n",
      "\n"
     ]
    }
   ],
   "source": [
    "with open('/local/home/sarahgw/WGS/SNPS/12_07/SNPS_GL429767_Both2.mafs', 'r') as Both2:\n",
    "    print Both2.read()"
   ]
  },
  {
   "cell_type": "code",
   "execution_count": null,
   "metadata": {
    "collapsed": true
   },
   "outputs": [],
   "source": []
  }
 ],
 "metadata": {
  "anaconda-cloud": {},
  "kernelspec": {
   "display_name": "Python [conda root]",
   "language": "python",
   "name": "conda-root-py"
  },
  "language_info": {
   "codemirror_mode": {
    "name": "ipython",
    "version": 2
   },
   "file_extension": ".py",
   "mimetype": "text/x-python",
   "name": "python",
   "nbconvert_exporter": "python",
   "pygments_lexer": "ipython2",
   "version": "2.7.12"
  }
 },
 "nbformat": 4,
 "nbformat_minor": 1
}
