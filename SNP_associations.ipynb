{
 "cells": [
  {
   "cell_type": "code",
   "execution_count": 2,
   "metadata": {
    "collapsed": false
   },
   "outputs": [
    {
     "name": "stderr",
     "output_type": "stream",
     "text": [
      "Loading required package: data.table\n",
      "Loading required package: plyr\n"
     ]
    }
   ],
   "source": [
    "setwd(\"~/WGS//SNPS//All_mylu\")\n",
    "require(data.table)\n",
    "require(plyr)"
   ]
  },
  {
   "cell_type": "code",
   "execution_count": 2,
   "metadata": {
    "collapsed": true
   },
   "outputs": [],
   "source": [
    "NJ_Assoc=read.table(file=\"NJ_assoc.lrt0\", header=TRUE)"
   ]
  },
  {
   "cell_type": "code",
   "execution_count": 4,
   "metadata": {
    "collapsed": false
   },
   "outputs": [
    {
     "name": "stdout",
     "output_type": "stream",
     "text": [
      "\r",
      "Read 0.0% of 49821328 rows\r",
      "Read 3.5% of 49821328 rows\r",
      "Read 6.7% of 49821328 rows\r",
      "Read 8.7% of 49821328 rows\r",
      "Read 9.6% of 49821328 rows\r",
      "Read 13.6% of 49821328 rows\r",
      "Read 16.9% of 49821328 rows\r",
      "Read 20.1% of 49821328 rows\r",
      "Read 22.4% of 49821328 rows\r",
      "Read 25.8% of 49821328 rows\r",
      "Read 29.1% of 49821328 rows\r",
      "Read 32.3% of 49821328 rows\r",
      "Read 35.6% of 49821328 rows\r",
      "Read 37.0% of 49821328 rows\r",
      "Read 40.2% of 49821328 rows\r",
      "Read 43.5% of 49821328 rows\r",
      "Read 46.8% of 49821328 rows\r",
      "Read 49.6% of 49821328 rows\r",
      "Read 53.2% of 49821328 rows\r",
      "Read 56.5% of 49821328 rows\r",
      "Read 59.7% of 49821328 rows\r",
      "Read 62.8% of 49821328 rows\r",
      "Read 64.6% of 49821328 rows\r",
      "Read 67.8% of 49821328 rows\r",
      "Read 71.1% of 49821328 rows\r",
      "Read 74.4% of 49821328 rows\r",
      "Read 76.5% of 49821328 rows\r",
      "Read 79.7% of 49821328 rows\r",
      "Read 83.1% of 49821328 rows\r",
      "Read 86.3% of 49821328 rows\r",
      "Read 89.6% of 49821328 rows\r",
      "Read 91.1% of 49821328 rows\r",
      "Read 94.4% of 49821328 rows\r",
      "Read 97.6% of 49821328 rows\r",
      "Read 49821328 rows and 6 (of 6) columns from 1.795 GB file in 00:00:48\n"
     ]
    }
   ],
   "source": [
    "NY_Assoc=fread(file=\"NY_assoc.lrt0\", header=TRUE)"
   ]
  },
  {
   "cell_type": "code",
   "execution_count": 3,
   "metadata": {
    "collapsed": false
   },
   "outputs": [
    {
     "name": "stdout",
     "output_type": "stream",
     "text": [
      "\r",
      "Read 0.0% of 58372710 rows\r",
      "Read 3.6% of 58372710 rows\r",
      "Read 4.9% of 58372710 rows\r",
      "Read 7.6% of 58372710 rows\r",
      "Read 10.3% of 58372710 rows\r",
      "Read 13.0% of 58372710 rows\r",
      "Read 15.7% of 58372710 rows\r",
      "Read 16.8% of 58372710 rows\r",
      "Read 17.2% of 58372710 rows\r",
      "Read 18.2% of 58372710 rows\r",
      "Read 19.2% of 58372710 rows\r",
      "Read 21.5% of 58372710 rows\r",
      "Read 23.6% of 58372710 rows\r",
      "Read 26.6% of 58372710 rows\r",
      "Read 29.3% of 58372710 rows\r",
      "Read 31.6% of 58372710 rows\r",
      "Read 34.4% of 58372710 rows\r",
      "Read 37.0% of 58372710 rows\r",
      "Read 39.7% of 58372710 rows\r",
      "Read 41.2% of 58372710 rows\r",
      "Read 43.8% of 58372710 rows\r",
      "Read 46.5% of 58372710 rows\r",
      "Read 49.1% of 58372710 rows\r",
      "Read 51.8% of 58372710 rows\r",
      "Read 53.7% of 58372710 rows\r",
      "Read 56.3% of 58372710 rows\r",
      "Read 59.0% of 58372710 rows\r",
      "Read 61.6% of 58372710 rows\r",
      "Read 63.7% of 58372710 rows\r",
      "Read 66.5% of 58372710 rows\r",
      "Read 69.1% of 58372710 rows\r",
      "Read 71.8% of 58372710 rows\r",
      "Read 74.4% of 58372710 rows\r",
      "Read 75.7% of 58372710 rows\r",
      "Read 76.1% of 58372710 rows\r",
      "Read 77.8% of 58372710 rows\r",
      "Read 80.0% of 58372710 rows\r",
      "Read 81.9% of 58372710 rows\r",
      "Read 84.6% of 58372710 rows\r",
      "Read 86.9% of 58372710 rows\r",
      "Read 89.8% of 58372710 rows\r",
      "Read 92.5% of 58372710 rows\r",
      "Read 95.2% of 58372710 rows\r",
      "Read 97.9% of 58372710 rows\r",
      "Read 99.4% of 58372710 rows\r",
      "Read 58372710 rows and 6 (of 6) columns from 2.103 GB file in 00:01:08\n"
     ]
    }
   ],
   "source": [
    "VT_Assoc=fread(file=\"VT_assoc.lrt0\", header=TRUE)"
   ]
  },
  {
   "cell_type": "code",
   "execution_count": 62,
   "metadata": {
    "collapsed": false,
    "scrolled": true
   },
   "outputs": [
    {
     "data": {
      "text/html": [
       "<table>\n",
       "<thead><tr><th scope=col>Chromosome</th><th scope=col>Position</th><th scope=col>Major</th><th scope=col>Minor</th><th scope=col>Frequency</th><th scope=col>LRT</th><th scope=col>pvalue</th><th scope=col>padj</th></tr></thead>\n",
       "<tbody>\n",
       "\t<tr><td>GL429767 </td><td>104      </td><td>A        </td><td>T        </td><td>0.167051 </td><td>0.454808 </td><td>0.5000605</td><td>0.7769970</td></tr>\n",
       "\t<tr><td>GL429767 </td><td>196      </td><td>T        </td><td>C        </td><td>0.074436 </td><td>1.119682 </td><td>0.2899869</td><td>0.6232551</td></tr>\n",
       "\t<tr><td>GL429767 </td><td>202      </td><td>A        </td><td>G        </td><td>0.278747 </td><td>0.166854 </td><td>0.6829230</td><td>0.8925684</td></tr>\n",
       "\t<tr><td>GL429767 </td><td>295      </td><td>A        </td><td>T        </td><td>0.106719 </td><td>1.401930 </td><td>0.2364007</td><td>0.6174972</td></tr>\n",
       "\t<tr><td>GL429767 </td><td>317      </td><td>G        </td><td>A        </td><td>0.240127 </td><td>0.569538 </td><td>0.4504426</td><td>0.7374819</td></tr>\n",
       "\t<tr><td>GL429767 </td><td>324      </td><td>T        </td><td>A        </td><td>0.407777 </td><td>0.073502 </td><td>0.7863045</td><td>0.9362948</td></tr>\n",
       "</tbody>\n",
       "</table>\n"
      ],
      "text/latex": [
       "\\begin{tabular}{r|llllllll}\n",
       " Chromosome & Position & Major & Minor & Frequency & LRT & pvalue & padj\\\\\n",
       "\\hline\n",
       "\t GL429767  & 104       & A         & T         & 0.167051  & 0.454808  & 0.5000605 & 0.7769970\\\\\n",
       "\t GL429767  & 196       & T         & C         & 0.074436  & 1.119682  & 0.2899869 & 0.6232551\\\\\n",
       "\t GL429767  & 202       & A         & G         & 0.278747  & 0.166854  & 0.6829230 & 0.8925684\\\\\n",
       "\t GL429767  & 295       & A         & T         & 0.106719  & 1.401930  & 0.2364007 & 0.6174972\\\\\n",
       "\t GL429767  & 317       & G         & A         & 0.240127  & 0.569538  & 0.4504426 & 0.7374819\\\\\n",
       "\t GL429767  & 324       & T         & A         & 0.407777  & 0.073502  & 0.7863045 & 0.9362948\\\\\n",
       "\\end{tabular}\n"
      ],
      "text/markdown": [
       "\n",
       "Chromosome | Position | Major | Minor | Frequency | LRT | pvalue | padj | \n",
       "|---|---|---|---|---|---|\n",
       "| GL429767  | 104       | A         | T         | 0.167051  | 0.454808  | 0.5000605 | 0.7769970 | \n",
       "| GL429767  | 196       | T         | C         | 0.074436  | 1.119682  | 0.2899869 | 0.6232551 | \n",
       "| GL429767  | 202       | A         | G         | 0.278747  | 0.166854  | 0.6829230 | 0.8925684 | \n",
       "| GL429767  | 295       | A         | T         | 0.106719  | 1.401930  | 0.2364007 | 0.6174972 | \n",
       "| GL429767  | 317       | G         | A         | 0.240127  | 0.569538  | 0.4504426 | 0.7374819 | \n",
       "| GL429767  | 324       | T         | A         | 0.407777  | 0.073502  | 0.7863045 | 0.9362948 | \n",
       "\n",
       "\n"
      ],
      "text/plain": [
       "  Chromosome Position Major Minor Frequency LRT      pvalue    padj     \n",
       "1 GL429767   104      A     T     0.167051  0.454808 0.5000605 0.7769970\n",
       "2 GL429767   196      T     C     0.074436  1.119682 0.2899869 0.6232551\n",
       "3 GL429767   202      A     G     0.278747  0.166854 0.6829230 0.8925684\n",
       "4 GL429767   295      A     T     0.106719  1.401930 0.2364007 0.6174972\n",
       "5 GL429767   317      G     A     0.240127  0.569538 0.4504426 0.7374819\n",
       "6 GL429767   324      T     A     0.407777  0.073502 0.7863045 0.9362948"
      ]
     },
     "metadata": {},
     "output_type": "display_data"
    }
   ],
   "source": [
    "head(NJ_Assoc)"
   ]
  },
  {
   "cell_type": "code",
   "execution_count": 7,
   "metadata": {
    "collapsed": false
   },
   "outputs": [],
   "source": [
    "NJ_Assoc$pvalue=pchisq(NJ_Assoc$LRT, 1, lower.tail=FALSE)"
   ]
  },
  {
   "cell_type": "code",
   "execution_count": 8,
   "metadata": {
    "collapsed": false
   },
   "outputs": [],
   "source": [
    "NY_Assoc$pvalue=pchisq(NY_Assoc$LRT, 1, lower.tail=FALSE)"
   ]
  },
  {
   "cell_type": "code",
   "execution_count": 4,
   "metadata": {
    "collapsed": true
   },
   "outputs": [],
   "source": [
    "VT_Assoc$pvalue=pchisq(VT_Assoc$LRT, 1, lower.tail=FALSE)"
   ]
  },
  {
   "cell_type": "markdown",
   "metadata": {},
   "source": [
    "Okay, so according to several papers, for GWAS in humans rather than using something like FDR, they use a significance threshold, in humans its 5x10^-8. https://www.ncbi.nlm.nih.gov/pmc/articles/PMC3154648/ http://journals.plos.org/plosgenetics/article?id=10.1371/journal.pgen.1002812\n",
    "\n",
    "If we apply this threshold here, we do end up with "
   ]
  },
  {
   "cell_type": "code",
   "execution_count": 34,
   "metadata": {
    "collapsed": true
   },
   "outputs": [],
   "source": [
    "NJsig=NJ_Assoc[NJ_Assoc$pvalue<=0.0000005,]"
   ]
  },
  {
   "cell_type": "code",
   "execution_count": 35,
   "metadata": {
    "collapsed": true
   },
   "outputs": [],
   "source": [
    "NYsig=NY_Assoc[NY_Assoc$pvalue<=0.0000005,]"
   ]
  },
  {
   "cell_type": "code",
   "execution_count": 5,
   "metadata": {
    "collapsed": true
   },
   "outputs": [],
   "source": [
    "VTsig=VT_Assoc[VT_Assoc$pvalue<=0.0000005,]"
   ]
  },
  {
   "cell_type": "code",
   "execution_count": 6,
   "metadata": {
    "collapsed": false
   },
   "outputs": [
    {
     "name": "stdout",
     "output_type": "stream",
     "text": [
      "    Chromosome Position Major Minor Frequency      LRT       pvalue\n",
      " 1:   GL429767 31608134     G     T  0.277962 25.92363 3.551950e-07\n",
      " 2:   GL429767 41701741     G     T  0.261332 26.19551 3.085385e-07\n",
      " 3:   GL429768  7105033     A     T  0.461828 25.73453 3.917549e-07\n",
      " 4:   GL429768 11378649     A     T  0.275080 29.35576 6.023720e-08\n",
      " 5:   GL429778  1077256     G     A  0.364650 29.06164 7.011143e-08\n",
      " 6:   GL429784  6411293     A     G  0.491736 27.67282 1.436673e-07\n",
      " 7:   GL429788  4563399     A     T  0.498921 25.68581 4.017712e-07\n",
      " 8:   GL429794  9060359     G     A  0.475728 28.34807 1.013480e-07\n",
      " 9:   GL429810  5883674     C     T  0.435266 28.08631 1.160239e-07\n",
      "10:   GL429824  4931011     T     G  0.335173 28.03777 1.189709e-07\n",
      "11:   GL429830  5805610     G     A  0.464383 26.87552 2.169896e-07\n",
      "12:   GL429842  1389113     C     T  0.449989 28.19526 1.096728e-07\n",
      "13:   GL429844  2911571     G     A  0.394273 27.14265 1.889823e-07\n",
      "14:   GL429900   249471     T     A  0.333392 26.89336 2.149964e-07\n",
      "15:   GL429901  2543331     T     C  0.348042 26.47291 2.672597e-07\n",
      "16:   GL429945  1155021     G     A  0.485680 26.64621 2.443298e-07\n",
      "17:   GL429952   236869     C     T  0.302042 26.92233 2.117974e-07\n",
      "18:   GL429952  1475101     T     C  0.409603 25.47892 4.472425e-07\n",
      "19:   GL429960  1854005     A     T  0.465554 26.07104 3.290829e-07\n",
      "20:   GL429987   356417     T     C  0.381025 26.71782 2.354403e-07\n",
      "21:   GL430004   411585     A     T  0.307957 25.28843 4.936600e-07\n",
      "22:   GL430021  1710543     T     C  0.439749 25.48186 4.465621e-07\n",
      "23:   GL430093   952490     A     C  0.367670 27.91397 1.268311e-07\n",
      "24:   GL430152   237864     A     G  0.348692 25.82530 3.737569e-07\n",
      "25:   GL430268   509084     A     G  0.427054 25.56261 4.282587e-07\n",
      "26:   GL430237   638735     C     A  0.472556 30.87871 2.746686e-08\n",
      "27:   GL430396    99504     C     G  0.333979 25.73482 3.916950e-07\n",
      "28:   GL430978    47400     A     C  0.471791 25.72350 3.939990e-07\n",
      "    Chromosome Position Major Minor Frequency      LRT       pvalue\n"
     ]
    }
   ],
   "source": [
    "print(vtsig)"
   ]
  },
  {
   "cell_type": "code",
   "execution_count": 38,
   "metadata": {
    "collapsed": false
   },
   "outputs": [
    {
     "name": "stdout",
     "output_type": "stream",
     "text": [
      "    Chromosome Position Major Minor Frequency      LRT       pvalue\n",
      " 1:   GL429768  5282831     T     C  0.360333 27.40930 1.646376e-07\n",
      " 2:   GL429770 25199560     G     T  0.426210 26.45709 2.694572e-07\n",
      " 3:   GL429778 14753472     C     T  0.374722 25.39606 4.668714e-07\n",
      " 4:   GL429783  4422169     A     G  0.449982 25.61826 4.160840e-07\n",
      " 5:   GL429782  9628887     A     G  0.381807 26.45096 2.703148e-07\n",
      " 6:   GL429792  5433900     G     A  0.467743 25.91807 3.562188e-07\n",
      " 7:   GL429859   367034     C     T  0.446416 27.35796 1.690671e-07\n",
      " 8:   GL429879  3789895     T     C  0.407526 29.15508 6.681048e-08\n",
      " 9:   GL429884   259796     C     T  0.363536 26.61200 2.486940e-07\n",
      "10:   GL429967  2016214     A     G  0.498931 26.65861 2.427671e-07\n",
      "11:   GL429969  1027735     C     A  0.487107 32.41888 1.242735e-08\n",
      "12:   GL430032  1186363     G     A  0.427265 27.78216 1.357720e-07\n",
      "13:   GL430101   496908     T     C  0.444117 26.43971 2.718925e-07\n",
      "14:   GL430113   599906     C     T  0.305650 27.61454 1.480612e-07\n",
      "15:   GL430190    68901     C     A  0.499970 26.92888 2.110813e-07\n"
     ]
    }
   ],
   "source": [
    "print(NYsig)"
   ]
  },
  {
   "cell_type": "code",
   "execution_count": 39,
   "metadata": {
    "collapsed": false
   },
   "outputs": [
    {
     "name": "stdout",
     "output_type": "stream",
     "text": [
      "         Chromosome Position Major Minor Frequency      LRT       pvalue\n",
      "2442367    GL429768 13089795     A     C  0.470894 26.92623 2.113708e-07\n",
      "2631705    GL429768 19815498     G     A  0.426143 25.30498 4.894432e-07\n",
      "3695929    GL429769 32343914     A     C  0.336327 25.32395 4.846543e-07\n",
      "5234343    GL429772  9889260     C     T  0.245700 25.37036 4.731312e-07\n",
      "5935633    GL429773 11030475     C     A  0.413491 26.20331 3.072949e-07\n",
      "9516752    GL429781  2011935     G     A  0.285831 26.89860 2.144141e-07\n",
      "11155343   GL429784  5248042     A     G  0.463844 35.90583 2.070881e-09\n",
      "12111210   GL429786  5203664     A     G  0.458252 25.30231 4.901219e-07\n",
      "13680470   GL429792  2274770     A     G  0.336911 30.14965 3.999585e-08\n",
      "14735273   GL429793  4569925     T     C  0.448204 26.65273 2.435064e-07\n",
      "19218285   GL429813  3056585     A     C  0.487289 28.43914 9.669082e-08\n",
      "20306220   GL429815  5244802     C     T  0.399570 30.97504 2.613683e-08\n",
      "20306221   GL429815  5244804     T     A  0.392215 29.22466 6.445372e-08\n",
      "20723377   GL429820  4402742     C     A  0.409133 25.38124 4.704717e-07\n",
      "21220404   GL429822  4643870     A     G  0.475416 26.46745 2.680166e-07\n",
      "22790140   GL429829   378732     G     T  0.467298 25.47738 4.476005e-07\n",
      "24985723   GL429840  4619984     A     G  0.247490 28.07600 1.166437e-07\n",
      "26350139   GL429850  2809216     C     G  0.459175 30.02994 4.254267e-08\n",
      "27789176   GL429856  4381189     C     T  0.321344 25.31847 4.860326e-07\n",
      "28434361   GL429861  4053392     C     A  0.434257 26.00281 3.409215e-07\n",
      "29544926   GL429872  1964127     A     G  0.408750 25.40999 4.635125e-07\n",
      "31216422   GL429885  3164993     T     A  0.350110 28.47512 9.491007e-08\n",
      "31602773   GL429888  3508516     A     T  0.384918 28.25473 1.063546e-07\n",
      "31859409   GL429889   412654     C     T  0.220316 25.42554 4.597914e-07\n",
      "32023223   GL429902  1824201     G     A  0.275039 30.14035 4.018813e-08\n",
      "32594001   GL429896   422573     C     T  0.365106 35.49758 2.553675e-09\n",
      "33348821   GL429901   697664     G     A  0.485429 25.46746 4.499068e-07\n",
      "33923358   GL429908  2038512     T     C  0.306644 26.06848 3.295192e-07\n",
      "34735151   GL429922   822400     T     C  0.351714 28.75078 8.231697e-08\n",
      "34735152   GL429922   822401     C     T  0.329288 26.96730 2.069269e-07\n",
      "34735153   GL429922   822402     A     G  0.341106 26.15475 3.151203e-07\n",
      "38578800   GL429959   227801     A     C  0.461816 29.45461 5.724160e-08\n",
      "38626960   GL429965    74760     G     A  0.246225 25.75137 3.883516e-07\n",
      "38718234   GL429964   474944     G     T  0.335461 25.50590 4.410310e-07\n",
      "39785487   GL429974   629671     G     A  0.471357 30.09020 4.124092e-08\n",
      "40994413   GL429994   757709     T     C  0.426062 26.45897 2.691961e-07\n",
      "40997963   GL429994   952237     A     G  0.448484 26.43840 2.720775e-07\n",
      "41083429   GL429992  1212654     T     C  0.452562 25.84343 3.702621e-07\n",
      "43111590   GL430038  1737431     T     A  0.405471 26.38486 2.797241e-07\n",
      "43526838   GL430025  1705199     T     C  0.495002 26.96139 2.075599e-07\n",
      "43702659   GL430042   836729     G     C  0.222543 26.92538 2.114637e-07\n",
      "43702660   GL430042   836730     A     G  0.225366 26.72428 2.346540e-07\n",
      "44425081   GL430055   809027     C     T  0.236248 25.64491 4.103765e-07\n",
      "45000504   GL430063  1429288     G     A  0.422511 27.66741 1.440697e-07\n",
      "45015949   GL430061   468428     G     A  0.354150 28.79331 8.052859e-08\n",
      "47421224   GL430151   943102     T     C  0.489450 25.33200 4.826356e-07\n",
      "47951687   GL430150   715341     A     G  0.443660 26.92271 2.117559e-07\n",
      "48168899   GL430184   748660     G     C  0.351581 25.38782 4.688696e-07\n",
      "49064032   GL430207   224641     T     C  0.431753 29.08327 6.933328e-08\n",
      "51747138   GL430317   144204     A     G  0.475802 30.02896 4.256414e-08\n",
      "52142440   GL430351    26406     T     C  0.451384 30.97191 2.617897e-08\n",
      "54181383   GL430649   176994     C     T  0.358676 26.49281 2.645211e-07\n",
      "55615515   GL431520    13341     A     G  0.407249 25.34058 4.804934e-07\n"
     ]
    }
   ],
   "source": [
    "print(NJsig)"
   ]
  },
  {
   "cell_type": "code",
   "execution_count": 43,
   "metadata": {
    "collapsed": false
   },
   "outputs": [],
   "source": [
    "overlap=join_all(list(NJsig, NYsig, VTsig), by=\"Chromosome\", type=\"inner\")"
   ]
  },
  {
   "cell_type": "code",
   "execution_count": 44,
   "metadata": {
    "collapsed": false
   },
   "outputs": [
    {
     "data": {
      "text/html": [
       "<table>\n",
       "<thead><tr><th scope=col>Chromosome</th><th scope=col>Position</th><th scope=col>Major</th><th scope=col>Minor</th><th scope=col>Frequency</th><th scope=col>LRT</th><th scope=col>pvalue</th><th scope=col>Position</th><th scope=col>Major</th><th scope=col>Minor</th><th scope=col>Frequency</th><th scope=col>LRT</th><th scope=col>pvalue</th><th scope=col>Position</th><th scope=col>Major</th><th scope=col>Minor</th><th scope=col>Frequency</th><th scope=col>LRT</th><th scope=col>pvalue</th></tr></thead>\n",
       "<tbody>\n",
       "\t<tr><td>GL429768    </td><td>13089795    </td><td>A           </td><td>C           </td><td>0.470894    </td><td>26.92623    </td><td>2.113708e-07</td><td>5282831     </td><td>T           </td><td>C           </td><td>0.360333    </td><td>27.4093     </td><td>1.646376e-07</td><td> 7105033    </td><td>A           </td><td>T           </td><td>0.461828    </td><td>25.73453    </td><td>3.917549e-07</td></tr>\n",
       "\t<tr><td>GL429768    </td><td>13089795    </td><td>A           </td><td>C           </td><td>0.470894    </td><td>26.92623    </td><td>2.113708e-07</td><td>5282831     </td><td>T           </td><td>C           </td><td>0.360333    </td><td>27.4093     </td><td>1.646376e-07</td><td>11378649    </td><td>A           </td><td>T           </td><td>0.275080    </td><td>29.35576    </td><td>6.023720e-08</td></tr>\n",
       "\t<tr><td>GL429768    </td><td>19815498    </td><td>G           </td><td>A           </td><td>0.426143    </td><td>25.30498    </td><td>4.894432e-07</td><td>5282831     </td><td>T           </td><td>C           </td><td>0.360333    </td><td>27.4093     </td><td>1.646376e-07</td><td> 7105033    </td><td>A           </td><td>T           </td><td>0.461828    </td><td>25.73453    </td><td>3.917549e-07</td></tr>\n",
       "\t<tr><td>GL429768    </td><td>19815498    </td><td>G           </td><td>A           </td><td>0.426143    </td><td>25.30498    </td><td>4.894432e-07</td><td>5282831     </td><td>T           </td><td>C           </td><td>0.360333    </td><td>27.4093     </td><td>1.646376e-07</td><td>11378649    </td><td>A           </td><td>T           </td><td>0.275080    </td><td>29.35576    </td><td>6.023720e-08</td></tr>\n",
       "</tbody>\n",
       "</table>\n"
      ],
      "text/latex": [
       "\\begin{tabular}{r|lllllllllllllllllll}\n",
       " Chromosome & Position & Major & Minor & Frequency & LRT & pvalue & Position & Major & Minor & Frequency & LRT & pvalue & Position & Major & Minor & Frequency & LRT & pvalue\\\\\n",
       "\\hline\n",
       "\t GL429768     & 13089795     & A            & C            & 0.470894     & 26.92623     & 2.113708e-07 & 5282831      & T            & C            & 0.360333     & 27.4093      & 1.646376e-07 &  7105033     & A            & T            & 0.461828     & 25.73453     & 3.917549e-07\\\\\n",
       "\t GL429768     & 13089795     & A            & C            & 0.470894     & 26.92623     & 2.113708e-07 & 5282831      & T            & C            & 0.360333     & 27.4093      & 1.646376e-07 & 11378649     & A            & T            & 0.275080     & 29.35576     & 6.023720e-08\\\\\n",
       "\t GL429768     & 19815498     & G            & A            & 0.426143     & 25.30498     & 4.894432e-07 & 5282831      & T            & C            & 0.360333     & 27.4093      & 1.646376e-07 &  7105033     & A            & T            & 0.461828     & 25.73453     & 3.917549e-07\\\\\n",
       "\t GL429768     & 19815498     & G            & A            & 0.426143     & 25.30498     & 4.894432e-07 & 5282831      & T            & C            & 0.360333     & 27.4093      & 1.646376e-07 & 11378649     & A            & T            & 0.275080     & 29.35576     & 6.023720e-08\\\\\n",
       "\\end{tabular}\n"
      ],
      "text/markdown": [
       "\n",
       "Chromosome | Position | Major | Minor | Frequency | LRT | pvalue | Position | Major | Minor | Frequency | LRT | pvalue | Position | Major | Minor | Frequency | LRT | pvalue | \n",
       "|---|---|---|---|\n",
       "| GL429768     | 13089795     | A            | C            | 0.470894     | 26.92623     | 2.113708e-07 | 5282831      | T            | C            | 0.360333     | 27.4093      | 1.646376e-07 |  7105033     | A            | T            | 0.461828     | 25.73453     | 3.917549e-07 | \n",
       "| GL429768     | 13089795     | A            | C            | 0.470894     | 26.92623     | 2.113708e-07 | 5282831      | T            | C            | 0.360333     | 27.4093      | 1.646376e-07 | 11378649     | A            | T            | 0.275080     | 29.35576     | 6.023720e-08 | \n",
       "| GL429768     | 19815498     | G            | A            | 0.426143     | 25.30498     | 4.894432e-07 | 5282831      | T            | C            | 0.360333     | 27.4093      | 1.646376e-07 |  7105033     | A            | T            | 0.461828     | 25.73453     | 3.917549e-07 | \n",
       "| GL429768     | 19815498     | G            | A            | 0.426143     | 25.30498     | 4.894432e-07 | 5282831      | T            | C            | 0.360333     | 27.4093      | 1.646376e-07 | 11378649     | A            | T            | 0.275080     | 29.35576     | 6.023720e-08 | \n",
       "\n",
       "\n"
      ],
      "text/plain": [
       "  Chromosome Position Major Minor Frequency LRT      pvalue       Position\n",
       "1 GL429768   13089795 A     C     0.470894  26.92623 2.113708e-07 5282831 \n",
       "2 GL429768   13089795 A     C     0.470894  26.92623 2.113708e-07 5282831 \n",
       "3 GL429768   19815498 G     A     0.426143  25.30498 4.894432e-07 5282831 \n",
       "4 GL429768   19815498 G     A     0.426143  25.30498 4.894432e-07 5282831 \n",
       "  Major Minor Frequency LRT     pvalue       Position Major Minor Frequency\n",
       "1 T     C     0.360333  27.4093 1.646376e-07  7105033 A     T     0.461828 \n",
       "2 T     C     0.360333  27.4093 1.646376e-07 11378649 A     T     0.275080 \n",
       "3 T     C     0.360333  27.4093 1.646376e-07  7105033 A     T     0.461828 \n",
       "4 T     C     0.360333  27.4093 1.646376e-07 11378649 A     T     0.275080 \n",
       "  LRT      pvalue      \n",
       "1 25.73453 3.917549e-07\n",
       "2 29.35576 6.023720e-08\n",
       "3 25.73453 3.917549e-07\n",
       "4 29.35576 6.023720e-08"
      ]
     },
     "metadata": {},
     "output_type": "display_data"
    }
   ],
   "source": [
    "overlap"
   ]
  },
  {
   "cell_type": "code",
   "execution_count": null,
   "metadata": {
    "collapsed": true
   },
   "outputs": [],
   "source": []
  }
 ],
 "metadata": {
  "anaconda-cloud": {},
  "kernelspec": {
   "display_name": "R",
   "language": "R",
   "name": "ir"
  },
  "language_info": {
   "codemirror_mode": "r",
   "file_extension": ".r",
   "mimetype": "text/x-r-source",
   "name": "R",
   "pygments_lexer": "r",
   "version": "3.3.2"
  }
 },
 "nbformat": 4,
 "nbformat_minor": 1
}
