{
 "cells": [
  {
   "cell_type": "code",
   "execution_count": 2,
   "metadata": {
    "collapsed": true
   },
   "outputs": [],
   "source": [
    "setwd(\"~/WGS//SNPS//12_07/\")"
   ]
  },
  {
   "cell_type": "code",
   "execution_count": 3,
   "metadata": {
    "collapsed": false
   },
   "outputs": [],
   "source": [
    "fst=read.table(\"slidingwindow\", row.names=NULL, header=TRUE)"
   ]
  },
  {
   "cell_type": "code",
   "execution_count": 4,
   "metadata": {
    "collapsed": false
   },
   "outputs": [
    {
     "data": {
      "text/html": [
       "<table>\n",
       "<thead><tr><th scope=col>row.names</th><th scope=col>region</th><th scope=col>chr</th><th scope=col>midPos</th><th scope=col>Nsites</th></tr></thead>\n",
       "<tbody>\n",
       "\t<tr><td>(357,5271)(500,5499)(500,5500)   </td><td>AAPE02055386                     </td><td>3000                             </td><td>4916                             </td><td>0.098678                         </td></tr>\n",
       "\t<tr><td>(857,5771)(1000,5999)(1000,6000) </td><td>AAPE02055386                     </td><td>3500                             </td><td>4916                             </td><td>0.097179                         </td></tr>\n",
       "\t<tr><td>(1357,6271)(1500,6499)(1500,6500)</td><td>AAPE02055386                     </td><td>4000                             </td><td>4916                             </td><td>0.097014                         </td></tr>\n",
       "\t<tr><td>(1857,6771)(2000,6999)(2000,7000)</td><td>AAPE02055386                     </td><td>4500                             </td><td>4916                             </td><td>0.096539                         </td></tr>\n",
       "\t<tr><td>(2357,7271)(2500,7499)(2500,7500)</td><td>AAPE02055386                     </td><td>5000                             </td><td>4916                             </td><td>0.095201                         </td></tr>\n",
       "\t<tr><td>(2836,7763)(3000,7999)(3000,8000)</td><td>AAPE02055386                     </td><td>5500                             </td><td>4929                             </td><td>0.094678                         </td></tr>\n",
       "</tbody>\n",
       "</table>\n"
      ],
      "text/latex": [
       "\\begin{tabular}{r|lllll}\n",
       " row.names & region & chr & midPos & Nsites\\\\\n",
       "\\hline\n",
       "\t (357,5271)(500,5499)(500,5500)    & AAPE02055386                      & 3000                              & 4916                              & 0.098678                         \\\\\n",
       "\t (857,5771)(1000,5999)(1000,6000)  & AAPE02055386                      & 3500                              & 4916                              & 0.097179                         \\\\\n",
       "\t (1357,6271)(1500,6499)(1500,6500) & AAPE02055386                      & 4000                              & 4916                              & 0.097014                         \\\\\n",
       "\t (1857,6771)(2000,6999)(2000,7000) & AAPE02055386                      & 4500                              & 4916                              & 0.096539                         \\\\\n",
       "\t (2357,7271)(2500,7499)(2500,7500) & AAPE02055386                      & 5000                              & 4916                              & 0.095201                         \\\\\n",
       "\t (2836,7763)(3000,7999)(3000,8000) & AAPE02055386                      & 5500                              & 4929                              & 0.094678                         \\\\\n",
       "\\end{tabular}\n"
      ],
      "text/markdown": [
       "\n",
       "row.names | region | chr | midPos | Nsites | \n",
       "|---|---|---|---|---|---|\n",
       "| (357,5271)(500,5499)(500,5500)    | AAPE02055386                      | 3000                              | 4916                              | 0.098678                          | \n",
       "| (857,5771)(1000,5999)(1000,6000)  | AAPE02055386                      | 3500                              | 4916                              | 0.097179                          | \n",
       "| (1357,6271)(1500,6499)(1500,6500) | AAPE02055386                      | 4000                              | 4916                              | 0.097014                          | \n",
       "| (1857,6771)(2000,6999)(2000,7000) | AAPE02055386                      | 4500                              | 4916                              | 0.096539                          | \n",
       "| (2357,7271)(2500,7499)(2500,7500) | AAPE02055386                      | 5000                              | 4916                              | 0.095201                          | \n",
       "| (2836,7763)(3000,7999)(3000,8000) | AAPE02055386                      | 5500                              | 4929                              | 0.094678                          | \n",
       "\n",
       "\n"
      ],
      "text/plain": [
       "  row.names                         region       chr  midPos Nsites  \n",
       "1 (357,5271)(500,5499)(500,5500)    AAPE02055386 3000 4916   0.098678\n",
       "2 (857,5771)(1000,5999)(1000,6000)  AAPE02055386 3500 4916   0.097179\n",
       "3 (1357,6271)(1500,6499)(1500,6500) AAPE02055386 4000 4916   0.097014\n",
       "4 (1857,6771)(2000,6999)(2000,7000) AAPE02055386 4500 4916   0.096539\n",
       "5 (2357,7271)(2500,7499)(2500,7500) AAPE02055386 5000 4916   0.095201\n",
       "6 (2836,7763)(3000,7999)(3000,8000) AAPE02055386 5500 4929   0.094678"
      ]
     },
     "metadata": {},
     "output_type": "display_data"
    }
   ],
   "source": [
    "head(fst)"
   ]
  },
  {
   "cell_type": "code",
   "execution_count": 5,
   "metadata": {
    "collapsed": true
   },
   "outputs": [],
   "source": [
    "fst$row.names=NULL"
   ]
  },
  {
   "cell_type": "code",
   "execution_count": 6,
   "metadata": {
    "collapsed": false
   },
   "outputs": [
    {
     "data": {
      "text/html": [
       "<table>\n",
       "<thead><tr><th scope=col>region</th><th scope=col>chr</th><th scope=col>midPos</th><th scope=col>Nsites</th></tr></thead>\n",
       "<tbody>\n",
       "\t<tr><td>AAPE02055386</td><td>3000        </td><td>4916        </td><td>0.098678    </td></tr>\n",
       "\t<tr><td>AAPE02055386</td><td>3500        </td><td>4916        </td><td>0.097179    </td></tr>\n",
       "\t<tr><td>AAPE02055386</td><td>4000        </td><td>4916        </td><td>0.097014    </td></tr>\n",
       "\t<tr><td>AAPE02055386</td><td>4500        </td><td>4916        </td><td>0.096539    </td></tr>\n",
       "\t<tr><td>AAPE02055386</td><td>5000        </td><td>4916        </td><td>0.095201    </td></tr>\n",
       "\t<tr><td>AAPE02055386</td><td>5500        </td><td>4929        </td><td>0.094678    </td></tr>\n",
       "</tbody>\n",
       "</table>\n"
      ],
      "text/latex": [
       "\\begin{tabular}{r|llll}\n",
       " region & chr & midPos & Nsites\\\\\n",
       "\\hline\n",
       "\t AAPE02055386 & 3000         & 4916         & 0.098678    \\\\\n",
       "\t AAPE02055386 & 3500         & 4916         & 0.097179    \\\\\n",
       "\t AAPE02055386 & 4000         & 4916         & 0.097014    \\\\\n",
       "\t AAPE02055386 & 4500         & 4916         & 0.096539    \\\\\n",
       "\t AAPE02055386 & 5000         & 4916         & 0.095201    \\\\\n",
       "\t AAPE02055386 & 5500         & 4929         & 0.094678    \\\\\n",
       "\\end{tabular}\n"
      ],
      "text/markdown": [
       "\n",
       "region | chr | midPos | Nsites | \n",
       "|---|---|---|---|---|---|\n",
       "| AAPE02055386 | 3000         | 4916         | 0.098678     | \n",
       "| AAPE02055386 | 3500         | 4916         | 0.097179     | \n",
       "| AAPE02055386 | 4000         | 4916         | 0.097014     | \n",
       "| AAPE02055386 | 4500         | 4916         | 0.096539     | \n",
       "| AAPE02055386 | 5000         | 4916         | 0.095201     | \n",
       "| AAPE02055386 | 5500         | 4929         | 0.094678     | \n",
       "\n",
       "\n"
      ],
      "text/plain": [
       "  region       chr  midPos Nsites  \n",
       "1 AAPE02055386 3000 4916   0.098678\n",
       "2 AAPE02055386 3500 4916   0.097179\n",
       "3 AAPE02055386 4000 4916   0.097014\n",
       "4 AAPE02055386 4500 4916   0.096539\n",
       "5 AAPE02055386 5000 4916   0.095201\n",
       "6 AAPE02055386 5500 4929   0.094678"
      ]
     },
     "metadata": {},
     "output_type": "display_data"
    }
   ],
   "source": [
    "head(fst)"
   ]
  },
  {
   "cell_type": "code",
   "execution_count": 7,
   "metadata": {
    "collapsed": true
   },
   "outputs": [],
   "source": [
    "colnames(fst)=c(\"Scaffold\",\"midPos\", \"Nsites\", \"FST\")"
   ]
  },
  {
   "cell_type": "code",
   "execution_count": 8,
   "metadata": {
    "collapsed": false
   },
   "outputs": [
    {
     "data": {
      "text/html": [
       "<table>\n",
       "<thead><tr><th scope=col>Scaffold</th><th scope=col>midPos</th><th scope=col>Nsites</th><th scope=col>FST</th></tr></thead>\n",
       "<tbody>\n",
       "\t<tr><td>AAPE02055386</td><td>3000        </td><td>4916        </td><td>0.098678    </td></tr>\n",
       "\t<tr><td>AAPE02055386</td><td>3500        </td><td>4916        </td><td>0.097179    </td></tr>\n",
       "\t<tr><td>AAPE02055386</td><td>4000        </td><td>4916        </td><td>0.097014    </td></tr>\n",
       "\t<tr><td>AAPE02055386</td><td>4500        </td><td>4916        </td><td>0.096539    </td></tr>\n",
       "\t<tr><td>AAPE02055386</td><td>5000        </td><td>4916        </td><td>0.095201    </td></tr>\n",
       "\t<tr><td>AAPE02055386</td><td>5500        </td><td>4929        </td><td>0.094678    </td></tr>\n",
       "</tbody>\n",
       "</table>\n"
      ],
      "text/latex": [
       "\\begin{tabular}{r|llll}\n",
       " Scaffold & midPos & Nsites & FST\\\\\n",
       "\\hline\n",
       "\t AAPE02055386 & 3000         & 4916         & 0.098678    \\\\\n",
       "\t AAPE02055386 & 3500         & 4916         & 0.097179    \\\\\n",
       "\t AAPE02055386 & 4000         & 4916         & 0.097014    \\\\\n",
       "\t AAPE02055386 & 4500         & 4916         & 0.096539    \\\\\n",
       "\t AAPE02055386 & 5000         & 4916         & 0.095201    \\\\\n",
       "\t AAPE02055386 & 5500         & 4929         & 0.094678    \\\\\n",
       "\\end{tabular}\n"
      ],
      "text/markdown": [
       "\n",
       "Scaffold | midPos | Nsites | FST | \n",
       "|---|---|---|---|---|---|\n",
       "| AAPE02055386 | 3000         | 4916         | 0.098678     | \n",
       "| AAPE02055386 | 3500         | 4916         | 0.097179     | \n",
       "| AAPE02055386 | 4000         | 4916         | 0.097014     | \n",
       "| AAPE02055386 | 4500         | 4916         | 0.096539     | \n",
       "| AAPE02055386 | 5000         | 4916         | 0.095201     | \n",
       "| AAPE02055386 | 5500         | 4929         | 0.094678     | \n",
       "\n",
       "\n"
      ],
      "text/plain": [
       "  Scaffold     midPos Nsites FST     \n",
       "1 AAPE02055386 3000   4916   0.098678\n",
       "2 AAPE02055386 3500   4916   0.097179\n",
       "3 AAPE02055386 4000   4916   0.097014\n",
       "4 AAPE02055386 4500   4916   0.096539\n",
       "5 AAPE02055386 5000   4916   0.095201\n",
       "6 AAPE02055386 5500   4929   0.094678"
      ]
     },
     "metadata": {},
     "output_type": "display_data"
    }
   ],
   "source": [
    "head(fst)"
   ]
  },
  {
   "cell_type": "code",
   "execution_count": 9,
   "metadata": {
    "collapsed": true
   },
   "outputs": [],
   "source": [
    "fst$ScaffoldNum=as.numeric(as.factor(fst$Scaffold))"
   ]
  },
  {
   "cell_type": "code",
   "execution_count": 10,
   "metadata": {
    "collapsed": false
   },
   "outputs": [
    {
     "data": {
      "text/html": [
       "3892511"
      ],
      "text/latex": [
       "3892511"
      ],
      "text/markdown": [
       "3892511"
      ],
      "text/plain": [
       "[1] 3892511"
      ]
     },
     "metadata": {},
     "output_type": "display_data"
    }
   ],
   "source": [
    "nrow(fst)"
   ]
  },
  {
   "cell_type": "code",
   "execution_count": 11,
   "metadata": {
    "collapsed": false
   },
   "outputs": [
    {
     "data": {
      "text/html": [
       "<table>\n",
       "<thead><tr><th></th><th scope=col>Scaffold</th><th scope=col>midPos</th><th scope=col>Nsites</th><th scope=col>FST</th><th scope=col>ScaffoldNum</th></tr></thead>\n",
       "<tbody>\n",
       "\t<tr><th scope=row>3892506</th><td>GL433172</td><td>11000   </td><td>1130    </td><td>0.123437</td><td>11652   </td></tr>\n",
       "\t<tr><th scope=row>3892507</th><td>GL433172</td><td>11500   </td><td> 630    </td><td>0.154347</td><td>11652   </td></tr>\n",
       "\t<tr><th scope=row>3892508</th><td>GL433172</td><td>12000   </td><td> 130    </td><td>0.128494</td><td>11652   </td></tr>\n",
       "\t<tr><th scope=row>3892509</th><td>GL433172</td><td>14500   </td><td> 289    </td><td>0.043607</td><td>11652   </td></tr>\n",
       "\t<tr><th scope=row>3892510</th><td>GL433172</td><td>15000   </td><td> 780    </td><td>0.116784</td><td>11652   </td></tr>\n",
       "\t<tr><th scope=row>3892511</th><td>GL433173</td><td> 3000   </td><td>2817    </td><td>0.086459</td><td>11653   </td></tr>\n",
       "</tbody>\n",
       "</table>\n"
      ],
      "text/latex": [
       "\\begin{tabular}{r|lllll}\n",
       "  & Scaffold & midPos & Nsites & FST & ScaffoldNum\\\\\n",
       "\\hline\n",
       "\t3892506 & GL433172 & 11000    & 1130     & 0.123437 & 11652   \\\\\n",
       "\t3892507 & GL433172 & 11500    &  630     & 0.154347 & 11652   \\\\\n",
       "\t3892508 & GL433172 & 12000    &  130     & 0.128494 & 11652   \\\\\n",
       "\t3892509 & GL433172 & 14500    &  289     & 0.043607 & 11652   \\\\\n",
       "\t3892510 & GL433172 & 15000    &  780     & 0.116784 & 11652   \\\\\n",
       "\t3892511 & GL433173 &  3000    & 2817     & 0.086459 & 11653   \\\\\n",
       "\\end{tabular}\n"
      ],
      "text/markdown": [
       "\n",
       "| <!--/--> | Scaffold | midPos | Nsites | FST | ScaffoldNum | \n",
       "|---|---|---|---|---|---|\n",
       "| 3892506 | GL433172 | 11000    | 1130     | 0.123437 | 11652    | \n",
       "| 3892507 | GL433172 | 11500    |  630     | 0.154347 | 11652    | \n",
       "| 3892508 | GL433172 | 12000    |  130     | 0.128494 | 11652    | \n",
       "| 3892509 | GL433172 | 14500    |  289     | 0.043607 | 11652    | \n",
       "| 3892510 | GL433172 | 15000    |  780     | 0.116784 | 11652    | \n",
       "| 3892511 | GL433173 |  3000    | 2817     | 0.086459 | 11653    | \n",
       "\n",
       "\n"
      ],
      "text/plain": [
       "        Scaffold midPos Nsites FST      ScaffoldNum\n",
       "3892506 GL433172 11000  1130   0.123437 11652      \n",
       "3892507 GL433172 11500   630   0.154347 11652      \n",
       "3892508 GL433172 12000   130   0.128494 11652      \n",
       "3892509 GL433172 14500   289   0.043607 11652      \n",
       "3892510 GL433172 15000   780   0.116784 11652      \n",
       "3892511 GL433173  3000  2817   0.086459 11653      "
      ]
     },
     "metadata": {},
     "output_type": "display_data"
    }
   ],
   "source": [
    "tail(fst)"
   ]
  },
  {
   "cell_type": "markdown",
   "metadata": {},
   "source": [
    "Try just plotting high FST values"
   ]
  },
  {
   "cell_type": "code",
   "execution_count": 22,
   "metadata": {
    "collapsed": true
   },
   "outputs": [],
   "source": [
    "fstHigh=fst[fst$FST>=0.15,]"
   ]
  },
  {
   "cell_type": "code",
   "execution_count": 23,
   "metadata": {
    "collapsed": false
   },
   "outputs": [
    {
     "data": {
      "text/html": [
       "320"
      ],
      "text/latex": [
       "320"
      ],
      "text/markdown": [
       "320"
      ],
      "text/plain": [
       "[1] 320"
      ]
     },
     "metadata": {},
     "output_type": "display_data"
    }
   ],
   "source": [
    "nrow(fstHigh)"
   ]
  },
  {
   "cell_type": "code",
   "execution_count": 24,
   "metadata": {
    "collapsed": false
   },
   "outputs": [
    {
     "data": {
      "text/html": [
       "<table>\n",
       "<thead><tr><th></th><th scope=col>Scaffold</th><th scope=col>midPos</th><th scope=col>Nsites</th><th scope=col>FST</th><th scope=col>ScaffoldNum</th></tr></thead>\n",
       "<tbody>\n",
       "\t<tr><th scope=row>5026</th><td>AAPE02058399</td><td>15500       </td><td>5001        </td><td>0.154863    </td><td>34          </td></tr>\n",
       "\t<tr><th scope=row>5027</th><td>AAPE02058399</td><td>16000       </td><td>5001        </td><td>0.150863    </td><td>34          </td></tr>\n",
       "\t<tr><th scope=row>5029</th><td>AAPE02058399</td><td>17000       </td><td>5001        </td><td>0.150583    </td><td>34          </td></tr>\n",
       "\t<tr><th scope=row>5030</th><td>AAPE02058399</td><td>17500       </td><td>5001        </td><td>0.151692    </td><td>34          </td></tr>\n",
       "\t<tr><th scope=row>6909</th><td>AAPE02059158</td><td> 3500       </td><td>4553        </td><td>0.152081    </td><td>54          </td></tr>\n",
       "\t<tr><th scope=row>6910</th><td>AAPE02059158</td><td> 4000       </td><td>4575        </td><td>0.151621    </td><td>54          </td></tr>\n",
       "</tbody>\n",
       "</table>\n"
      ],
      "text/latex": [
       "\\begin{tabular}{r|lllll}\n",
       "  & Scaffold & midPos & Nsites & FST & ScaffoldNum\\\\\n",
       "\\hline\n",
       "\t5026 & AAPE02058399 & 15500        & 5001         & 0.154863     & 34          \\\\\n",
       "\t5027 & AAPE02058399 & 16000        & 5001         & 0.150863     & 34          \\\\\n",
       "\t5029 & AAPE02058399 & 17000        & 5001         & 0.150583     & 34          \\\\\n",
       "\t5030 & AAPE02058399 & 17500        & 5001         & 0.151692     & 34          \\\\\n",
       "\t6909 & AAPE02059158 &  3500        & 4553         & 0.152081     & 54          \\\\\n",
       "\t6910 & AAPE02059158 &  4000        & 4575         & 0.151621     & 54          \\\\\n",
       "\\end{tabular}\n"
      ],
      "text/markdown": [
       "\n",
       "| <!--/--> | Scaffold | midPos | Nsites | FST | ScaffoldNum | \n",
       "|---|---|---|---|---|---|\n",
       "| 5026 | AAPE02058399 | 15500        | 5001         | 0.154863     | 34           | \n",
       "| 5027 | AAPE02058399 | 16000        | 5001         | 0.150863     | 34           | \n",
       "| 5029 | AAPE02058399 | 17000        | 5001         | 0.150583     | 34           | \n",
       "| 5030 | AAPE02058399 | 17500        | 5001         | 0.151692     | 34           | \n",
       "| 6909 | AAPE02059158 |  3500        | 4553         | 0.152081     | 54           | \n",
       "| 6910 | AAPE02059158 |  4000        | 4575         | 0.151621     | 54           | \n",
       "\n",
       "\n"
      ],
      "text/plain": [
       "     Scaffold     midPos Nsites FST      ScaffoldNum\n",
       "5026 AAPE02058399 15500  5001   0.154863 34         \n",
       "5027 AAPE02058399 16000  5001   0.150863 34         \n",
       "5029 AAPE02058399 17000  5001   0.150583 34         \n",
       "5030 AAPE02058399 17500  5001   0.151692 34         \n",
       "6909 AAPE02059158  3500  4553   0.152081 54         \n",
       "6910 AAPE02059158  4000  4575   0.151621 54         "
      ]
     },
     "metadata": {},
     "output_type": "display_data"
    }
   ],
   "source": [
    "head(fstHigh)"
   ]
  },
  {
   "cell_type": "code",
   "execution_count": 15,
   "metadata": {
    "collapsed": false
   },
   "outputs": [
    {
     "name": "stderr",
     "output_type": "stream",
     "text": [
      "Loading required package: ggplot2\n"
     ]
    }
   ],
   "source": [
    "require(ggplot2)"
   ]
  },
  {
   "cell_type": "code",
   "execution_count": 30,
   "metadata": {
    "collapsed": false
   },
   "outputs": [],
   "source": [
    "TrueScaffolds=as.character(unique(fstHigh$Scaffold))"
   ]
  },
  {
   "cell_type": "code",
   "execution_count": 31,
   "metadata": {
    "collapsed": false,
    "scrolled": true
   },
   "outputs": [
    {
     "data": {
      "text/html": [
       "<ol class=list-inline>\n",
       "\t<li>'AAPE02058399'</li>\n",
       "\t<li>'AAPE02059158'</li>\n",
       "\t<li>'AAPE02061811'</li>\n",
       "\t<li>'AAPE02063868'</li>\n",
       "\t<li>'AAPE02064206'</li>\n",
       "\t<li>'AAPE02066955'</li>\n",
       "\t<li>'AAPE02067232'</li>\n",
       "\t<li>'AAPE02070517'</li>\n",
       "\t<li>'AAPE02072785'</li>\n",
       "\t<li>'GL429767'</li>\n",
       "\t<li>'GL429768'</li>\n",
       "\t<li>'GL429770'</li>\n",
       "\t<li>'GL429771'</li>\n",
       "\t<li>'GL429774'</li>\n",
       "\t<li>'GL429777'</li>\n",
       "\t<li>'GL429778'</li>\n",
       "\t<li>'GL429779'</li>\n",
       "\t<li>'GL429782'</li>\n",
       "\t<li>'GL429783'</li>\n",
       "\t<li>'GL429786'</li>\n",
       "\t<li>'GL429788'</li>\n",
       "\t<li>'GL429792'</li>\n",
       "\t<li>'GL429799'</li>\n",
       "\t<li>'GL429823'</li>\n",
       "\t<li>'GL429854'</li>\n",
       "\t<li>'GL429858'</li>\n",
       "\t<li>'GL429864'</li>\n",
       "\t<li>'GL429871'</li>\n",
       "\t<li>'GL429873'</li>\n",
       "\t<li>'GL429878'</li>\n",
       "\t<li>'GL429896'</li>\n",
       "\t<li>'GL429905'</li>\n",
       "\t<li>'GL429908'</li>\n",
       "\t<li>'GL429909'</li>\n",
       "\t<li>'GL429912'</li>\n",
       "\t<li>'GL429920'</li>\n",
       "\t<li>'GL429952'</li>\n",
       "\t<li>'GL429956'</li>\n",
       "\t<li>'GL429999'</li>\n",
       "\t<li>'GL430016'</li>\n",
       "\t<li>'GL430038'</li>\n",
       "\t<li>'GL430055'</li>\n",
       "\t<li>'GL430056'</li>\n",
       "\t<li>'GL430060'</li>\n",
       "\t<li>'GL430077'</li>\n",
       "\t<li>'GL430081'</li>\n",
       "\t<li>'GL430103'</li>\n",
       "\t<li>'GL430134'</li>\n",
       "\t<li>'GL430183'</li>\n",
       "\t<li>'GL430225'</li>\n",
       "\t<li>'GL430251'</li>\n",
       "\t<li>'GL430359'</li>\n",
       "\t<li>'GL430361'</li>\n",
       "\t<li>'GL430390'</li>\n",
       "\t<li>'GL430434'</li>\n",
       "\t<li>'GL430478'</li>\n",
       "\t<li>'GL430496'</li>\n",
       "\t<li>'GL430583'</li>\n",
       "\t<li>'GL430625'</li>\n",
       "\t<li>'GL430810'</li>\n",
       "\t<li>'GL430910'</li>\n",
       "\t<li>'GL430934'</li>\n",
       "\t<li>'GL430970'</li>\n",
       "\t<li>'GL431144'</li>\n",
       "\t<li>'GL431256'</li>\n",
       "\t<li>'GL431305'</li>\n",
       "\t<li>'GL431379'</li>\n",
       "\t<li>'GL431389'</li>\n",
       "\t<li>'GL431680'</li>\n",
       "\t<li>'GL431998'</li>\n",
       "\t<li>'GL432554'</li>\n",
       "\t<li>'GL432640'</li>\n",
       "\t<li>'GL432699'</li>\n",
       "\t<li>'GL432816'</li>\n",
       "\t<li>'GL433172'</li>\n",
       "</ol>\n"
      ],
      "text/latex": [
       "\\begin{enumerate*}\n",
       "\\item 'AAPE02058399'\n",
       "\\item 'AAPE02059158'\n",
       "\\item 'AAPE02061811'\n",
       "\\item 'AAPE02063868'\n",
       "\\item 'AAPE02064206'\n",
       "\\item 'AAPE02066955'\n",
       "\\item 'AAPE02067232'\n",
       "\\item 'AAPE02070517'\n",
       "\\item 'AAPE02072785'\n",
       "\\item 'GL429767'\n",
       "\\item 'GL429768'\n",
       "\\item 'GL429770'\n",
       "\\item 'GL429771'\n",
       "\\item 'GL429774'\n",
       "\\item 'GL429777'\n",
       "\\item 'GL429778'\n",
       "\\item 'GL429779'\n",
       "\\item 'GL429782'\n",
       "\\item 'GL429783'\n",
       "\\item 'GL429786'\n",
       "\\item 'GL429788'\n",
       "\\item 'GL429792'\n",
       "\\item 'GL429799'\n",
       "\\item 'GL429823'\n",
       "\\item 'GL429854'\n",
       "\\item 'GL429858'\n",
       "\\item 'GL429864'\n",
       "\\item 'GL429871'\n",
       "\\item 'GL429873'\n",
       "\\item 'GL429878'\n",
       "\\item 'GL429896'\n",
       "\\item 'GL429905'\n",
       "\\item 'GL429908'\n",
       "\\item 'GL429909'\n",
       "\\item 'GL429912'\n",
       "\\item 'GL429920'\n",
       "\\item 'GL429952'\n",
       "\\item 'GL429956'\n",
       "\\item 'GL429999'\n",
       "\\item 'GL430016'\n",
       "\\item 'GL430038'\n",
       "\\item 'GL430055'\n",
       "\\item 'GL430056'\n",
       "\\item 'GL430060'\n",
       "\\item 'GL430077'\n",
       "\\item 'GL430081'\n",
       "\\item 'GL430103'\n",
       "\\item 'GL430134'\n",
       "\\item 'GL430183'\n",
       "\\item 'GL430225'\n",
       "\\item 'GL430251'\n",
       "\\item 'GL430359'\n",
       "\\item 'GL430361'\n",
       "\\item 'GL430390'\n",
       "\\item 'GL430434'\n",
       "\\item 'GL430478'\n",
       "\\item 'GL430496'\n",
       "\\item 'GL430583'\n",
       "\\item 'GL430625'\n",
       "\\item 'GL430810'\n",
       "\\item 'GL430910'\n",
       "\\item 'GL430934'\n",
       "\\item 'GL430970'\n",
       "\\item 'GL431144'\n",
       "\\item 'GL431256'\n",
       "\\item 'GL431305'\n",
       "\\item 'GL431379'\n",
       "\\item 'GL431389'\n",
       "\\item 'GL431680'\n",
       "\\item 'GL431998'\n",
       "\\item 'GL432554'\n",
       "\\item 'GL432640'\n",
       "\\item 'GL432699'\n",
       "\\item 'GL432816'\n",
       "\\item 'GL433172'\n",
       "\\end{enumerate*}\n"
      ],
      "text/markdown": [
       "1. 'AAPE02058399'\n",
       "2. 'AAPE02059158'\n",
       "3. 'AAPE02061811'\n",
       "4. 'AAPE02063868'\n",
       "5. 'AAPE02064206'\n",
       "6. 'AAPE02066955'\n",
       "7. 'AAPE02067232'\n",
       "8. 'AAPE02070517'\n",
       "9. 'AAPE02072785'\n",
       "10. 'GL429767'\n",
       "11. 'GL429768'\n",
       "12. 'GL429770'\n",
       "13. 'GL429771'\n",
       "14. 'GL429774'\n",
       "15. 'GL429777'\n",
       "16. 'GL429778'\n",
       "17. 'GL429779'\n",
       "18. 'GL429782'\n",
       "19. 'GL429783'\n",
       "20. 'GL429786'\n",
       "21. 'GL429788'\n",
       "22. 'GL429792'\n",
       "23. 'GL429799'\n",
       "24. 'GL429823'\n",
       "25. 'GL429854'\n",
       "26. 'GL429858'\n",
       "27. 'GL429864'\n",
       "28. 'GL429871'\n",
       "29. 'GL429873'\n",
       "30. 'GL429878'\n",
       "31. 'GL429896'\n",
       "32. 'GL429905'\n",
       "33. 'GL429908'\n",
       "34. 'GL429909'\n",
       "35. 'GL429912'\n",
       "36. 'GL429920'\n",
       "37. 'GL429952'\n",
       "38. 'GL429956'\n",
       "39. 'GL429999'\n",
       "40. 'GL430016'\n",
       "41. 'GL430038'\n",
       "42. 'GL430055'\n",
       "43. 'GL430056'\n",
       "44. 'GL430060'\n",
       "45. 'GL430077'\n",
       "46. 'GL430081'\n",
       "47. 'GL430103'\n",
       "48. 'GL430134'\n",
       "49. 'GL430183'\n",
       "50. 'GL430225'\n",
       "51. 'GL430251'\n",
       "52. 'GL430359'\n",
       "53. 'GL430361'\n",
       "54. 'GL430390'\n",
       "55. 'GL430434'\n",
       "56. 'GL430478'\n",
       "57. 'GL430496'\n",
       "58. 'GL430583'\n",
       "59. 'GL430625'\n",
       "60. 'GL430810'\n",
       "61. 'GL430910'\n",
       "62. 'GL430934'\n",
       "63. 'GL430970'\n",
       "64. 'GL431144'\n",
       "65. 'GL431256'\n",
       "66. 'GL431305'\n",
       "67. 'GL431379'\n",
       "68. 'GL431389'\n",
       "69. 'GL431680'\n",
       "70. 'GL431998'\n",
       "71. 'GL432554'\n",
       "72. 'GL432640'\n",
       "73. 'GL432699'\n",
       "74. 'GL432816'\n",
       "75. 'GL433172'\n",
       "\n",
       "\n"
      ],
      "text/plain": [
       " [1] \"AAPE02058399\" \"AAPE02059158\" \"AAPE02061811\" \"AAPE02063868\" \"AAPE02064206\"\n",
       " [6] \"AAPE02066955\" \"AAPE02067232\" \"AAPE02070517\" \"AAPE02072785\" \"GL429767\"    \n",
       "[11] \"GL429768\"     \"GL429770\"     \"GL429771\"     \"GL429774\"     \"GL429777\"    \n",
       "[16] \"GL429778\"     \"GL429779\"     \"GL429782\"     \"GL429783\"     \"GL429786\"    \n",
       "[21] \"GL429788\"     \"GL429792\"     \"GL429799\"     \"GL429823\"     \"GL429854\"    \n",
       "[26] \"GL429858\"     \"GL429864\"     \"GL429871\"     \"GL429873\"     \"GL429878\"    \n",
       "[31] \"GL429896\"     \"GL429905\"     \"GL429908\"     \"GL429909\"     \"GL429912\"    \n",
       "[36] \"GL429920\"     \"GL429952\"     \"GL429956\"     \"GL429999\"     \"GL430016\"    \n",
       "[41] \"GL430038\"     \"GL430055\"     \"GL430056\"     \"GL430060\"     \"GL430077\"    \n",
       "[46] \"GL430081\"     \"GL430103\"     \"GL430134\"     \"GL430183\"     \"GL430225\"    \n",
       "[51] \"GL430251\"     \"GL430359\"     \"GL430361\"     \"GL430390\"     \"GL430434\"    \n",
       "[56] \"GL430478\"     \"GL430496\"     \"GL430583\"     \"GL430625\"     \"GL430810\"    \n",
       "[61] \"GL430910\"     \"GL430934\"     \"GL430970\"     \"GL431144\"     \"GL431256\"    \n",
       "[66] \"GL431305\"     \"GL431379\"     \"GL431389\"     \"GL431680\"     \"GL431998\"    \n",
       "[71] \"GL432554\"     \"GL432640\"     \"GL432699\"     \"GL432816\"     \"GL433172\"    "
      ]
     },
     "metadata": {},
     "output_type": "display_data"
    }
   ],
   "source": [
    "TrueScaffolds"
   ]
  },
  {
   "cell_type": "code",
   "execution_count": 27,
   "metadata": {
    "collapsed": true
   },
   "outputs": [],
   "source": [
    "fstHigh$ScaffoldNum2=as.numeric(as.factor(fstHigh$ScaffoldNum))"
   ]
  },
  {
   "cell_type": "code",
   "execution_count": 28,
   "metadata": {
    "collapsed": false
   },
   "outputs": [
    {
     "data": {
      "text/html": [
       "<table>\n",
       "<thead><tr><th></th><th scope=col>Scaffold</th><th scope=col>midPos</th><th scope=col>Nsites</th><th scope=col>FST</th><th scope=col>ScaffoldNum</th><th scope=col>ScaffoldNum2</th></tr></thead>\n",
       "<tbody>\n",
       "\t<tr><th scope=row>3890477</th><td>GL432816</td><td> 6500   </td><td>4656    </td><td>0.167502</td><td>11296   </td><td>74      </td></tr>\n",
       "\t<tr><th scope=row>3890478</th><td>GL432816</td><td> 7000   </td><td>4564    </td><td>0.162710</td><td>11296   </td><td>74      </td></tr>\n",
       "\t<tr><th scope=row>3890479</th><td>GL432816</td><td> 7500   </td><td>4691    </td><td>0.165095</td><td>11296   </td><td>74      </td></tr>\n",
       "\t<tr><th scope=row>3890480</th><td>GL432816</td><td> 8000   </td><td>4691    </td><td>0.181364</td><td>11296   </td><td>74      </td></tr>\n",
       "\t<tr><th scope=row>3890481</th><td>GL432816</td><td> 8500   </td><td>4691    </td><td>0.177286</td><td>11296   </td><td>74      </td></tr>\n",
       "\t<tr><th scope=row>3892507</th><td>GL433172</td><td>11500   </td><td> 630    </td><td>0.154347</td><td>11652   </td><td>75      </td></tr>\n",
       "</tbody>\n",
       "</table>\n"
      ],
      "text/latex": [
       "\\begin{tabular}{r|llllll}\n",
       "  & Scaffold & midPos & Nsites & FST & ScaffoldNum & ScaffoldNum2\\\\\n",
       "\\hline\n",
       "\t3890477 & GL432816 &  6500    & 4656     & 0.167502 & 11296    & 74      \\\\\n",
       "\t3890478 & GL432816 &  7000    & 4564     & 0.162710 & 11296    & 74      \\\\\n",
       "\t3890479 & GL432816 &  7500    & 4691     & 0.165095 & 11296    & 74      \\\\\n",
       "\t3890480 & GL432816 &  8000    & 4691     & 0.181364 & 11296    & 74      \\\\\n",
       "\t3890481 & GL432816 &  8500    & 4691     & 0.177286 & 11296    & 74      \\\\\n",
       "\t3892507 & GL433172 & 11500    &  630     & 0.154347 & 11652    & 75      \\\\\n",
       "\\end{tabular}\n"
      ],
      "text/markdown": [
       "\n",
       "| <!--/--> | Scaffold | midPos | Nsites | FST | ScaffoldNum | ScaffoldNum2 | \n",
       "|---|---|---|---|---|---|\n",
       "| 3890477 | GL432816 |  6500    | 4656     | 0.167502 | 11296    | 74       | \n",
       "| 3890478 | GL432816 |  7000    | 4564     | 0.162710 | 11296    | 74       | \n",
       "| 3890479 | GL432816 |  7500    | 4691     | 0.165095 | 11296    | 74       | \n",
       "| 3890480 | GL432816 |  8000    | 4691     | 0.181364 | 11296    | 74       | \n",
       "| 3890481 | GL432816 |  8500    | 4691     | 0.177286 | 11296    | 74       | \n",
       "| 3892507 | GL433172 | 11500    |  630     | 0.154347 | 11652    | 75       | \n",
       "\n",
       "\n"
      ],
      "text/plain": [
       "        Scaffold midPos Nsites FST      ScaffoldNum ScaffoldNum2\n",
       "3890477 GL432816  6500  4656   0.167502 11296       74          \n",
       "3890478 GL432816  7000  4564   0.162710 11296       74          \n",
       "3890479 GL432816  7500  4691   0.165095 11296       74          \n",
       "3890480 GL432816  8000  4691   0.181364 11296       74          \n",
       "3890481 GL432816  8500  4691   0.177286 11296       74          \n",
       "3892507 GL433172 11500   630   0.154347 11652       75          "
      ]
     },
     "metadata": {},
     "output_type": "display_data"
    }
   ],
   "source": [
    "tail(fstHigh)"
   ]
  },
  {
   "cell_type": "code",
   "execution_count": 18,
   "metadata": {
    "collapsed": false
   },
   "outputs": [
    {
     "name": "stderr",
     "output_type": "stream",
     "text": [
      "Updating HTML index of packages in '.Library'\n",
      "Making 'packages.html' ... done\n"
     ]
    }
   ],
   "source": [
    "install.packages(\"qqman\")"
   ]
  },
  {
   "cell_type": "code",
   "execution_count": 18,
   "metadata": {
    "collapsed": false
   },
   "outputs": [
    {
     "name": "stderr",
     "output_type": "stream",
     "text": [
      "Loading required package: qqman\n",
      "\n",
      "For example usage please run: vignette('qqman')\n",
      "\n",
      "Citation appreciated but not required:\n",
      "Turner, S.D. qqman: an R package for visualizing GWAS results using Q-Q and manhattan plots. biorXiv DOI: 10.1101/005165 (2014).\n",
      "\n"
     ]
    }
   ],
   "source": [
    "require(qqman)"
   ]
  },
  {
   "cell_type": "code",
   "execution_count": 42,
   "metadata": {
    "collapsed": false
   },
   "outputs": [
    {
     "name": "stderr",
     "output_type": "stream",
     "text": [
      "Warning message in manhattan(fstHigh, chr = \"ScaffoldNum2\", bp = \"Nsites\", p = \"FST\", :\n",
      "“No SNP column found. OK unless you're trying to highlight.”"
     ]
    },
    {
     "data": {
      "image/png": "[encoded data removed]",
      "text/plain": [
       "plot without title"
      ]
     },
     "metadata": {},
     "output_type": "display_data"
    }
   ],
   "source": [
    "plot=manhattan(fstHigh, chr = \"ScaffoldNum2\", bp = \"Nsites\", p = \"FST\", \n",
    "col = c(\"gray10\", \"gray60\"), chrlabs = TrueScaffolds, logp=FALSE, las=2, cex.axis=0.5)"
   ]
  },
  {
   "cell_type": "markdown",
   "metadata": {},
   "source": [
    "MAybe you should try plotting all windows for those chromosomes that have an outlier? Or maybe go back and make bigger windows so you can plot them better? "
   ]
  },
  {
   "cell_type": "code",
   "execution_count": null,
   "metadata": {
    "collapsed": false
   },
   "outputs": [
    {
     "name": "stderr",
     "output_type": "stream",
     "text": [
      "Warning message in manhattan(fst, chr = \"ScaffoldNum\", bp = \"midPos\", p = \"FST\", :\n",
      "“No SNP column found. OK unless you're trying to highlight.”"
     ]
    }
   ],
   "source": [
    "plot=manhattan(fst, chr = \"ScaffoldNum\", bp = \"midPos\", p = \"FST\", \n",
    "col = c(\"gray10\", \"gray60\"), chrlabs = NULL)"
   ]
  },
  {
   "cell_type": "code",
   "execution_count": null,
   "metadata": {
    "collapsed": true
   },
   "outputs": [],
   "source": [
    "plot=ggplot(data=fstHigh, aes(x=midPos, y=FST))+\n",
    "  geom_point(data=fstHigh)+\n",
    "  theme_bw()+ facet_grid(.~ScaffoldNum)"
   ]
  },
  {
   "cell_type": "code",
   "execution_count": 16,
   "metadata": {
    "collapsed": false
   },
   "outputs": [
    {
     "data": {},
     "metadata": {},
     "output_type": "display_data"
    },
    {
     "data": {
      "image/png": "[encoded data removed]",
      "text/plain": [
       "plot without title"
      ]
     },
     "metadata": {},
     "output_type": "display_data"
    }
   ],
   "source": [
    "##plot of fst by scaffold"
   ]
  },
  {
   "cell_type": "code",
   "execution_count": null,
   "metadata": {
    "collapsed": true
   },
   "outputs": [],
   "source": []
  }
 ],
 "metadata": {
  "anaconda-cloud": {},
  "kernelspec": {
   "display_name": "R",
   "language": "R",
   "name": "ir"
  },
  "language_info": {
   "codemirror_mode": "r",
   "file_extension": ".r",
   "mimetype": "text/x-r-source",
   "name": "R",
   "pygments_lexer": "r",
   "version": "3.3.2"
  }
 },
 "nbformat": 4,
 "nbformat_minor": 1
}
