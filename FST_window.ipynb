{
 "cells": [
  {
   "cell_type": "code",
   "execution_count": 1,
   "metadata": {
    "collapsed": true
   },
   "outputs": [],
   "source": [
    "setwd(\"~/WGS//SNPS//12_07/\")"
   ]
  },
  {
   "cell_type": "code",
   "execution_count": 2,
   "metadata": {
    "collapsed": false
   },
   "outputs": [],
   "source": [
    "fst=read.table(\"slidingwindow\", row.names=NULL, header=TRUE)"
   ]
  },
  {
   "cell_type": "code",
   "execution_count": 3,
   "metadata": {
    "collapsed": false
   },
   "outputs": [
    {
     "data": {
      "text/html": [
       "<table>\n",
       "<thead><tr><th scope=col>row.names</th><th scope=col>region</th><th scope=col>chr</th><th scope=col>midPos</th><th scope=col>Nsites</th></tr></thead>\n",
       "<tbody>\n",
       "\t<tr><td>(357,5271)(500,5499)(500,5500)   </td><td>AAPE02055386                     </td><td>3000                             </td><td>4916                             </td><td>0.098678                         </td></tr>\n",
       "\t<tr><td>(857,5771)(1000,5999)(1000,6000) </td><td>AAPE02055386                     </td><td>3500                             </td><td>4916                             </td><td>0.097179                         </td></tr>\n",
       "\t<tr><td>(1357,6271)(1500,6499)(1500,6500)</td><td>AAPE02055386                     </td><td>4000                             </td><td>4916                             </td><td>0.097014                         </td></tr>\n",
       "\t<tr><td>(1857,6771)(2000,6999)(2000,7000)</td><td>AAPE02055386                     </td><td>4500                             </td><td>4916                             </td><td>0.096539                         </td></tr>\n",
       "\t<tr><td>(2357,7271)(2500,7499)(2500,7500)</td><td>AAPE02055386                     </td><td>5000                             </td><td>4916                             </td><td>0.095201                         </td></tr>\n",
       "\t<tr><td>(2836,7763)(3000,7999)(3000,8000)</td><td>AAPE02055386                     </td><td>5500                             </td><td>4929                             </td><td>0.094678                         </td></tr>\n",
       "</tbody>\n",
       "</table>\n"
      ],
      "text/latex": [
       "\\begin{tabular}{r|lllll}\n",
       " row.names & region & chr & midPos & Nsites\\\\\n",
       "\\hline\n",
       "\t (357,5271)(500,5499)(500,5500)    & AAPE02055386                      & 3000                              & 4916                              & 0.098678                         \\\\\n",
       "\t (857,5771)(1000,5999)(1000,6000)  & AAPE02055386                      & 3500                              & 4916                              & 0.097179                         \\\\\n",
       "\t (1357,6271)(1500,6499)(1500,6500) & AAPE02055386                      & 4000                              & 4916                              & 0.097014                         \\\\\n",
       "\t (1857,6771)(2000,6999)(2000,7000) & AAPE02055386                      & 4500                              & 4916                              & 0.096539                         \\\\\n",
       "\t (2357,7271)(2500,7499)(2500,7500) & AAPE02055386                      & 5000                              & 4916                              & 0.095201                         \\\\\n",
       "\t (2836,7763)(3000,7999)(3000,8000) & AAPE02055386                      & 5500                              & 4929                              & 0.094678                         \\\\\n",
       "\\end{tabular}\n"
      ],
      "text/markdown": [
       "\n",
       "row.names | region | chr | midPos | Nsites | \n",
       "|---|---|---|---|---|---|\n",
       "| (357,5271)(500,5499)(500,5500)    | AAPE02055386                      | 3000                              | 4916                              | 0.098678                          | \n",
       "| (857,5771)(1000,5999)(1000,6000)  | AAPE02055386                      | 3500                              | 4916                              | 0.097179                          | \n",
       "| (1357,6271)(1500,6499)(1500,6500) | AAPE02055386                      | 4000                              | 4916                              | 0.097014                          | \n",
       "| (1857,6771)(2000,6999)(2000,7000) | AAPE02055386                      | 4500                              | 4916                              | 0.096539                          | \n",
       "| (2357,7271)(2500,7499)(2500,7500) | AAPE02055386                      | 5000                              | 4916                              | 0.095201                          | \n",
       "| (2836,7763)(3000,7999)(3000,8000) | AAPE02055386                      | 5500                              | 4929                              | 0.094678                          | \n",
       "\n",
       "\n"
      ],
      "text/plain": [
       "  row.names                         region       chr  midPos Nsites  \n",
       "1 (357,5271)(500,5499)(500,5500)    AAPE02055386 3000 4916   0.098678\n",
       "2 (857,5771)(1000,5999)(1000,6000)  AAPE02055386 3500 4916   0.097179\n",
       "3 (1357,6271)(1500,6499)(1500,6500) AAPE02055386 4000 4916   0.097014\n",
       "4 (1857,6771)(2000,6999)(2000,7000) AAPE02055386 4500 4916   0.096539\n",
       "5 (2357,7271)(2500,7499)(2500,7500) AAPE02055386 5000 4916   0.095201\n",
       "6 (2836,7763)(3000,7999)(3000,8000) AAPE02055386 5500 4929   0.094678"
      ]
     },
     "metadata": {},
     "output_type": "display_data"
    }
   ],
   "source": [
    "head(fst)"
   ]
  },
  {
   "cell_type": "code",
   "execution_count": 4,
   "metadata": {
    "collapsed": true
   },
   "outputs": [],
   "source": [
    "fst$row.names=NULL"
   ]
  },
  {
   "cell_type": "code",
   "execution_count": 5,
   "metadata": {
    "collapsed": false
   },
   "outputs": [
    {
     "data": {
      "text/html": [
       "<table>\n",
       "<thead><tr><th scope=col>region</th><th scope=col>chr</th><th scope=col>midPos</th><th scope=col>Nsites</th></tr></thead>\n",
       "<tbody>\n",
       "\t<tr><td>AAPE02055386</td><td>3000        </td><td>4916        </td><td>0.098678    </td></tr>\n",
       "\t<tr><td>AAPE02055386</td><td>3500        </td><td>4916        </td><td>0.097179    </td></tr>\n",
       "\t<tr><td>AAPE02055386</td><td>4000        </td><td>4916        </td><td>0.097014    </td></tr>\n",
       "\t<tr><td>AAPE02055386</td><td>4500        </td><td>4916        </td><td>0.096539    </td></tr>\n",
       "\t<tr><td>AAPE02055386</td><td>5000        </td><td>4916        </td><td>0.095201    </td></tr>\n",
       "\t<tr><td>AAPE02055386</td><td>5500        </td><td>4929        </td><td>0.094678    </td></tr>\n",
       "</tbody>\n",
       "</table>\n"
      ],
      "text/latex": [
       "\\begin{tabular}{r|llll}\n",
       " region & chr & midPos & Nsites\\\\\n",
       "\\hline\n",
       "\t AAPE02055386 & 3000         & 4916         & 0.098678    \\\\\n",
       "\t AAPE02055386 & 3500         & 4916         & 0.097179    \\\\\n",
       "\t AAPE02055386 & 4000         & 4916         & 0.097014    \\\\\n",
       "\t AAPE02055386 & 4500         & 4916         & 0.096539    \\\\\n",
       "\t AAPE02055386 & 5000         & 4916         & 0.095201    \\\\\n",
       "\t AAPE02055386 & 5500         & 4929         & 0.094678    \\\\\n",
       "\\end{tabular}\n"
      ],
      "text/markdown": [
       "\n",
       "region | chr | midPos | Nsites | \n",
       "|---|---|---|---|---|---|\n",
       "| AAPE02055386 | 3000         | 4916         | 0.098678     | \n",
       "| AAPE02055386 | 3500         | 4916         | 0.097179     | \n",
       "| AAPE02055386 | 4000         | 4916         | 0.097014     | \n",
       "| AAPE02055386 | 4500         | 4916         | 0.096539     | \n",
       "| AAPE02055386 | 5000         | 4916         | 0.095201     | \n",
       "| AAPE02055386 | 5500         | 4929         | 0.094678     | \n",
       "\n",
       "\n"
      ],
      "text/plain": [
       "  region       chr  midPos Nsites  \n",
       "1 AAPE02055386 3000 4916   0.098678\n",
       "2 AAPE02055386 3500 4916   0.097179\n",
       "3 AAPE02055386 4000 4916   0.097014\n",
       "4 AAPE02055386 4500 4916   0.096539\n",
       "5 AAPE02055386 5000 4916   0.095201\n",
       "6 AAPE02055386 5500 4929   0.094678"
      ]
     },
     "metadata": {},
     "output_type": "display_data"
    }
   ],
   "source": [
    "head(fst)"
   ]
  },
  {
   "cell_type": "code",
   "execution_count": 6,
   "metadata": {
    "collapsed": true
   },
   "outputs": [],
   "source": [
    "colnames(fst)=c(\"Scaffold\",\"midPos\", \"Nsites\", \"FST\")"
   ]
  },
  {
   "cell_type": "code",
   "execution_count": 7,
   "metadata": {
    "collapsed": false
   },
   "outputs": [
    {
     "data": {
      "text/html": [
       "<table>\n",
       "<thead><tr><th scope=col>Scaffold</th><th scope=col>midPos</th><th scope=col>Nsites</th><th scope=col>FST</th></tr></thead>\n",
       "<tbody>\n",
       "\t<tr><td>AAPE02055386</td><td>3000        </td><td>4916        </td><td>0.098678    </td></tr>\n",
       "\t<tr><td>AAPE02055386</td><td>3500        </td><td>4916        </td><td>0.097179    </td></tr>\n",
       "\t<tr><td>AAPE02055386</td><td>4000        </td><td>4916        </td><td>0.097014    </td></tr>\n",
       "\t<tr><td>AAPE02055386</td><td>4500        </td><td>4916        </td><td>0.096539    </td></tr>\n",
       "\t<tr><td>AAPE02055386</td><td>5000        </td><td>4916        </td><td>0.095201    </td></tr>\n",
       "\t<tr><td>AAPE02055386</td><td>5500        </td><td>4929        </td><td>0.094678    </td></tr>\n",
       "</tbody>\n",
       "</table>\n"
      ],
      "text/latex": [
       "\\begin{tabular}{r|llll}\n",
       " Scaffold & midPos & Nsites & FST\\\\\n",
       "\\hline\n",
       "\t AAPE02055386 & 3000         & 4916         & 0.098678    \\\\\n",
       "\t AAPE02055386 & 3500         & 4916         & 0.097179    \\\\\n",
       "\t AAPE02055386 & 4000         & 4916         & 0.097014    \\\\\n",
       "\t AAPE02055386 & 4500         & 4916         & 0.096539    \\\\\n",
       "\t AAPE02055386 & 5000         & 4916         & 0.095201    \\\\\n",
       "\t AAPE02055386 & 5500         & 4929         & 0.094678    \\\\\n",
       "\\end{tabular}\n"
      ],
      "text/markdown": [
       "\n",
       "Scaffold | midPos | Nsites | FST | \n",
       "|---|---|---|---|---|---|\n",
       "| AAPE02055386 | 3000         | 4916         | 0.098678     | \n",
       "| AAPE02055386 | 3500         | 4916         | 0.097179     | \n",
       "| AAPE02055386 | 4000         | 4916         | 0.097014     | \n",
       "| AAPE02055386 | 4500         | 4916         | 0.096539     | \n",
       "| AAPE02055386 | 5000         | 4916         | 0.095201     | \n",
       "| AAPE02055386 | 5500         | 4929         | 0.094678     | \n",
       "\n",
       "\n"
      ],
      "text/plain": [
       "  Scaffold     midPos Nsites FST     \n",
       "1 AAPE02055386 3000   4916   0.098678\n",
       "2 AAPE02055386 3500   4916   0.097179\n",
       "3 AAPE02055386 4000   4916   0.097014\n",
       "4 AAPE02055386 4500   4916   0.096539\n",
       "5 AAPE02055386 5000   4916   0.095201\n",
       "6 AAPE02055386 5500   4929   0.094678"
      ]
     },
     "metadata": {},
     "output_type": "display_data"
    }
   ],
   "source": [
    "head(fst)"
   ]
  },
  {
   "cell_type": "code",
   "execution_count": 8,
   "metadata": {
    "collapsed": true
   },
   "outputs": [],
   "source": [
    "fst$ScaffoldNum=as.numeric(as.factor(fst$Scaffold))"
   ]
  },
  {
   "cell_type": "code",
   "execution_count": 9,
   "metadata": {
    "collapsed": false
   },
   "outputs": [
    {
     "data": {
      "text/html": [
       "3892511"
      ],
      "text/latex": [
       "3892511"
      ],
      "text/markdown": [
       "3892511"
      ],
      "text/plain": [
       "[1] 3892511"
      ]
     },
     "metadata": {},
     "output_type": "display_data"
    }
   ],
   "source": [
    "nrow(fst)"
   ]
  },
  {
   "cell_type": "code",
   "execution_count": 28,
   "metadata": {
    "collapsed": false
   },
   "outputs": [
    {
     "data": {
      "text/html": [
       "<table>\n",
       "<thead><tr><th></th><th scope=col>Scaffold</th><th scope=col>midPos</th><th scope=col>Nsites</th><th scope=col>FST</th><th scope=col>ScaffoldNum</th></tr></thead>\n",
       "<tbody>\n",
       "\t<tr><th scope=row>3892506</th><td>GL433172</td><td>11000   </td><td>1130    </td><td>0.123437</td><td>11652   </td></tr>\n",
       "\t<tr><th scope=row>3892507</th><td>GL433172</td><td>11500   </td><td> 630    </td><td>0.154347</td><td>11652   </td></tr>\n",
       "\t<tr><th scope=row>3892508</th><td>GL433172</td><td>12000   </td><td> 130    </td><td>0.128494</td><td>11652   </td></tr>\n",
       "\t<tr><th scope=row>3892509</th><td>GL433172</td><td>14500   </td><td> 289    </td><td>0.043607</td><td>11652   </td></tr>\n",
       "\t<tr><th scope=row>3892510</th><td>GL433172</td><td>15000   </td><td> 780    </td><td>0.116784</td><td>11652   </td></tr>\n",
       "\t<tr><th scope=row>3892511</th><td>GL433173</td><td> 3000   </td><td>2817    </td><td>0.086459</td><td>11653   </td></tr>\n",
       "</tbody>\n",
       "</table>\n"
      ],
      "text/latex": [
       "\\begin{tabular}{r|lllll}\n",
       "  & Scaffold & midPos & Nsites & FST & ScaffoldNum\\\\\n",
       "\\hline\n",
       "\t3892506 & GL433172 & 11000    & 1130     & 0.123437 & 11652   \\\\\n",
       "\t3892507 & GL433172 & 11500    &  630     & 0.154347 & 11652   \\\\\n",
       "\t3892508 & GL433172 & 12000    &  130     & 0.128494 & 11652   \\\\\n",
       "\t3892509 & GL433172 & 14500    &  289     & 0.043607 & 11652   \\\\\n",
       "\t3892510 & GL433172 & 15000    &  780     & 0.116784 & 11652   \\\\\n",
       "\t3892511 & GL433173 &  3000    & 2817     & 0.086459 & 11653   \\\\\n",
       "\\end{tabular}\n"
      ],
      "text/markdown": [
       "\n",
       "| <!--/--> | Scaffold | midPos | Nsites | FST | ScaffoldNum | \n",
       "|---|---|---|---|---|---|\n",
       "| 3892506 | GL433172 | 11000    | 1130     | 0.123437 | 11652    | \n",
       "| 3892507 | GL433172 | 11500    |  630     | 0.154347 | 11652    | \n",
       "| 3892508 | GL433172 | 12000    |  130     | 0.128494 | 11652    | \n",
       "| 3892509 | GL433172 | 14500    |  289     | 0.043607 | 11652    | \n",
       "| 3892510 | GL433172 | 15000    |  780     | 0.116784 | 11652    | \n",
       "| 3892511 | GL433173 |  3000    | 2817     | 0.086459 | 11653    | \n",
       "\n",
       "\n"
      ],
      "text/plain": [
       "        Scaffold midPos Nsites FST      ScaffoldNum\n",
       "3892506 GL433172 11000  1130   0.123437 11652      \n",
       "3892507 GL433172 11500   630   0.154347 11652      \n",
       "3892508 GL433172 12000   130   0.128494 11652      \n",
       "3892509 GL433172 14500   289   0.043607 11652      \n",
       "3892510 GL433172 15000   780   0.116784 11652      \n",
       "3892511 GL433173  3000  2817   0.086459 11653      "
      ]
     },
     "metadata": {},
     "output_type": "display_data"
    }
   ],
   "source": [
    "tail(fst)"
   ]
  },
  {
   "cell_type": "markdown",
   "metadata": {},
   "source": [
    "Try just plotting high FST values"
   ]
  },
  {
   "cell_type": "code",
   "execution_count": 14,
   "metadata": {
    "collapsed": true
   },
   "outputs": [],
   "source": [
    "fstHigh=fst[fst$FST>=0.16,]"
   ]
  },
  {
   "cell_type": "code",
   "execution_count": 21,
   "metadata": {
    "collapsed": false
   },
   "outputs": [],
   "source": [
    "HighScaf=unique(droplevels(fstHigh$Scaffold))"
   ]
  },
  {
   "cell_type": "code",
   "execution_count": 22,
   "metadata": {
    "collapsed": false
   },
   "outputs": [
    {
     "data": {
      "text/html": [
       "<ol class=list-inline>\n",
       "\t<li>AAPE02059158</li>\n",
       "\t<li>AAPE02063868</li>\n",
       "\t<li>AAPE02070517</li>\n",
       "\t<li>AAPE02072785</li>\n",
       "\t<li>GL429767</li>\n",
       "\t<li>GL429768</li>\n",
       "\t<li>GL429771</li>\n",
       "\t<li>GL429779</li>\n",
       "\t<li>GL429783</li>\n",
       "\t<li>GL429799</li>\n",
       "\t<li>GL429854</li>\n",
       "\t<li>GL429858</li>\n",
       "\t<li>GL429864</li>\n",
       "\t<li>GL429871</li>\n",
       "\t<li>GL429873</li>\n",
       "\t<li>GL429909</li>\n",
       "\t<li>GL429956</li>\n",
       "\t<li>GL430077</li>\n",
       "\t<li>GL430103</li>\n",
       "\t<li>GL430134</li>\n",
       "\t<li>GL430361</li>\n",
       "\t<li>GL430434</li>\n",
       "\t<li>GL430496</li>\n",
       "\t<li>GL430625</li>\n",
       "\t<li>GL430810</li>\n",
       "\t<li>GL430910</li>\n",
       "\t<li>GL430934</li>\n",
       "\t<li>GL430970</li>\n",
       "\t<li>GL431256</li>\n",
       "\t<li>GL431379</li>\n",
       "\t<li>GL432554</li>\n",
       "\t<li>GL432816</li>\n",
       "</ol>\n"
      ],
      "text/latex": [
       "\\begin{enumerate*}\n",
       "\\item AAPE02059158\n",
       "\\item AAPE02063868\n",
       "\\item AAPE02070517\n",
       "\\item AAPE02072785\n",
       "\\item GL429767\n",
       "\\item GL429768\n",
       "\\item GL429771\n",
       "\\item GL429779\n",
       "\\item GL429783\n",
       "\\item GL429799\n",
       "\\item GL429854\n",
       "\\item GL429858\n",
       "\\item GL429864\n",
       "\\item GL429871\n",
       "\\item GL429873\n",
       "\\item GL429909\n",
       "\\item GL429956\n",
       "\\item GL430077\n",
       "\\item GL430103\n",
       "\\item GL430134\n",
       "\\item GL430361\n",
       "\\item GL430434\n",
       "\\item GL430496\n",
       "\\item GL430625\n",
       "\\item GL430810\n",
       "\\item GL430910\n",
       "\\item GL430934\n",
       "\\item GL430970\n",
       "\\item GL431256\n",
       "\\item GL431379\n",
       "\\item GL432554\n",
       "\\item GL432816\n",
       "\\end{enumerate*}\n"
      ],
      "text/markdown": [
       "1. AAPE02059158\n",
       "2. AAPE02063868\n",
       "3. AAPE02070517\n",
       "4. AAPE02072785\n",
       "5. GL429767\n",
       "6. GL429768\n",
       "7. GL429771\n",
       "8. GL429779\n",
       "9. GL429783\n",
       "10. GL429799\n",
       "11. GL429854\n",
       "12. GL429858\n",
       "13. GL429864\n",
       "14. GL429871\n",
       "15. GL429873\n",
       "16. GL429909\n",
       "17. GL429956\n",
       "18. GL430077\n",
       "19. GL430103\n",
       "20. GL430134\n",
       "21. GL430361\n",
       "22. GL430434\n",
       "23. GL430496\n",
       "24. GL430625\n",
       "25. GL430810\n",
       "26. GL430910\n",
       "27. GL430934\n",
       "28. GL430970\n",
       "29. GL431256\n",
       "30. GL431379\n",
       "31. GL432554\n",
       "32. GL432816\n",
       "\n",
       "\n"
      ],
      "text/plain": [
       " [1] AAPE02059158 AAPE02063868 AAPE02070517 AAPE02072785 GL429767    \n",
       " [6] GL429768     GL429771     GL429779     GL429783     GL429799    \n",
       "[11] GL429854     GL429858     GL429864     GL429871     GL429873    \n",
       "[16] GL429909     GL429956     GL430077     GL430103     GL430134    \n",
       "[21] GL430361     GL430434     GL430496     GL430625     GL430810    \n",
       "[26] GL430910     GL430934     GL430970     GL431256     GL431379    \n",
       "[31] GL432554     GL432816    \n",
       "32 Levels: AAPE02059158 AAPE02063868 AAPE02070517 AAPE02072785 ... GL432816"
      ]
     },
     "metadata": {},
     "output_type": "display_data"
    }
   ],
   "source": [
    "HighScaf"
   ]
  },
  {
   "cell_type": "code",
   "execution_count": 23,
   "metadata": {
    "collapsed": true
   },
   "outputs": [],
   "source": [
    "fstHighScaf=fst[fst$Scaffold %in% HighScaf,]"
   ]
  },
  {
   "cell_type": "code",
   "execution_count": 25,
   "metadata": {
    "collapsed": false
   },
   "outputs": [
    {
     "data": {
      "text/html": [
       "399812"
      ],
      "text/latex": [
       "399812"
      ],
      "text/markdown": [
       "399812"
      ],
      "text/plain": [
       "[1] 399812"
      ]
     },
     "metadata": {},
     "output_type": "display_data"
    }
   ],
   "source": [
    "nrow(fstHighScaf)"
   ]
  },
  {
   "cell_type": "code",
   "execution_count": 35,
   "metadata": {
    "collapsed": true
   },
   "outputs": [],
   "source": [
    "HighScaf=as.vector(as.character(HighScaf))"
   ]
  },
  {
   "cell_type": "code",
   "execution_count": 26,
   "metadata": {
    "collapsed": false
   },
   "outputs": [
    {
     "name": "stderr",
     "output_type": "stream",
     "text": [
      "Loading required package: ggplot2\n"
     ]
    }
   ],
   "source": [
    "require(ggplot2)"
   ]
  },
  {
   "cell_type": "code",
   "execution_count": 30,
   "metadata": {
    "collapsed": false
   },
   "outputs": [],
   "source": []
  },
  {
   "cell_type": "code",
   "execution_count": 29,
   "metadata": {
    "collapsed": false
   },
   "outputs": [],
   "source": [
    "fstHighScaf$ScaffoldNum2=as.numeric(as.factor(fstHighScaf$ScaffoldNum))"
   ]
  },
  {
   "cell_type": "code",
   "execution_count": 31,
   "metadata": {
    "collapsed": false
   },
   "outputs": [
    {
     "data": {
      "text/html": [
       "<table>\n",
       "<thead><tr><th></th><th scope=col>Scaffold</th><th scope=col>midPos</th><th scope=col>Nsites</th><th scope=col>FST</th><th scope=col>ScaffoldNum</th><th scope=col>ScaffoldNum2</th></tr></thead>\n",
       "<tbody>\n",
       "\t<tr><th scope=row>6908</th><td>AAPE02059158</td><td>3000        </td><td>4553        </td><td>0.080216    </td><td>54          </td><td>1           </td></tr>\n",
       "\t<tr><th scope=row>6909</th><td>AAPE02059158</td><td>3500        </td><td>4553        </td><td>0.152081    </td><td>54          </td><td>1           </td></tr>\n",
       "\t<tr><th scope=row>6910</th><td>AAPE02059158</td><td>4000        </td><td>4575        </td><td>0.151621    </td><td>54          </td><td>1           </td></tr>\n",
       "\t<tr><th scope=row>6911</th><td>AAPE02059158</td><td>4500        </td><td>4575        </td><td>0.152094    </td><td>54          </td><td>1           </td></tr>\n",
       "\t<tr><th scope=row>6912</th><td>AAPE02059158</td><td>5000        </td><td>4575        </td><td>0.154759    </td><td>54          </td><td>1           </td></tr>\n",
       "\t<tr><th scope=row>6913</th><td>AAPE02059158</td><td>5500        </td><td>4575        </td><td>0.158541    </td><td>54          </td><td>1           </td></tr>\n",
       "</tbody>\n",
       "</table>\n"
      ],
      "text/latex": [
       "\\begin{tabular}{r|llllll}\n",
       "  & Scaffold & midPos & Nsites & FST & ScaffoldNum & ScaffoldNum2\\\\\n",
       "\\hline\n",
       "\t6908 & AAPE02059158 & 3000         & 4553         & 0.080216     & 54           & 1           \\\\\n",
       "\t6909 & AAPE02059158 & 3500         & 4553         & 0.152081     & 54           & 1           \\\\\n",
       "\t6910 & AAPE02059158 & 4000         & 4575         & 0.151621     & 54           & 1           \\\\\n",
       "\t6911 & AAPE02059158 & 4500         & 4575         & 0.152094     & 54           & 1           \\\\\n",
       "\t6912 & AAPE02059158 & 5000         & 4575         & 0.154759     & 54           & 1           \\\\\n",
       "\t6913 & AAPE02059158 & 5500         & 4575         & 0.158541     & 54           & 1           \\\\\n",
       "\\end{tabular}\n"
      ],
      "text/markdown": [
       "\n",
       "| <!--/--> | Scaffold | midPos | Nsites | FST | ScaffoldNum | ScaffoldNum2 | \n",
       "|---|---|---|---|---|---|\n",
       "| 6908 | AAPE02059158 | 3000         | 4553         | 0.080216     | 54           | 1            | \n",
       "| 6909 | AAPE02059158 | 3500         | 4553         | 0.152081     | 54           | 1            | \n",
       "| 6910 | AAPE02059158 | 4000         | 4575         | 0.151621     | 54           | 1            | \n",
       "| 6911 | AAPE02059158 | 4500         | 4575         | 0.152094     | 54           | 1            | \n",
       "| 6912 | AAPE02059158 | 5000         | 4575         | 0.154759     | 54           | 1            | \n",
       "| 6913 | AAPE02059158 | 5500         | 4575         | 0.158541     | 54           | 1            | \n",
       "\n",
       "\n"
      ],
      "text/plain": [
       "     Scaffold     midPos Nsites FST      ScaffoldNum ScaffoldNum2\n",
       "6908 AAPE02059158 3000   4553   0.080216 54          1           \n",
       "6909 AAPE02059158 3500   4553   0.152081 54          1           \n",
       "6910 AAPE02059158 4000   4575   0.151621 54          1           \n",
       "6911 AAPE02059158 4500   4575   0.152094 54          1           \n",
       "6912 AAPE02059158 5000   4575   0.154759 54          1           \n",
       "6913 AAPE02059158 5500   4575   0.158541 54          1           "
      ]
     },
     "metadata": {},
     "output_type": "display_data"
    }
   ],
   "source": [
    "head(fstHighScaf)"
   ]
  },
  {
   "cell_type": "code",
   "execution_count": 33,
   "metadata": {
    "collapsed": false
   },
   "outputs": [
    {
     "name": "stderr",
     "output_type": "stream",
     "text": [
      "Loading required package: qqman\n",
      "\n",
      "For example usage please run: vignette('qqman')\n",
      "\n",
      "Citation appreciated but not required:\n",
      "Turner, S.D. qqman: an R package for visualizing GWAS results using Q-Q and manhattan plots. biorXiv DOI: 10.1101/005165 (2014).\n",
      "\n"
     ]
    }
   ],
   "source": [
    "require(qqman)"
   ]
  },
  {
   "cell_type": "code",
   "execution_count": null,
   "metadata": {
    "collapsed": false
   },
   "outputs": [
    {
     "name": "stderr",
     "output_type": "stream",
     "text": [
      "Warning message in manhattan(fstHighScaf, chr = \"midPos\", bp = \"Nsites\", p = \"FST\", :\n",
      "“No SNP column found. OK unless you're trying to highlight.”"
     ]
    }
   ],
   "source": [
    "plot=manhattan(fstHighScaf, chr = \"midPos\", bp = \"Nsites\", p = \"FST\", \n",
    "col = c(\"gray10\", \"gray60\"), chrlabs = HighScaf, logp=FALSE, las=2, cex.axis=0.5, ylim=c(0, 0.25), ylab=\"FST\")"
   ]
  },
  {
   "cell_type": "code",
   "execution_count": 52,
   "metadata": {
    "collapsed": false
   },
   "outputs": [
    {
     "name": "stderr",
     "output_type": "stream",
     "text": [
      "Warning message in manhattan(subset(fstHighScaf, ScaffoldNum2 == 5), chr = \"ScaffoldNum2\", :\n",
      "“No SNP column found. OK unless you're trying to highlight.”"
     ]
    },
    {
     "data": {
      "image/png": "[encoded data removed]",
      "text/plain": [
       "plot without title"
      ]
     },
     "metadata": {},
     "output_type": "display_data"
    }
   ],
   "source": [
    "plot=manhattan(subset(fstHighScaf, ScaffoldNum2==5), chr = \"ScaffoldNum2\", bp = \"midPos\", p = \"FST\",  \n",
    "col = c(\"gray10\", \"gray60\"), logp=FALSE, las=2, cex.axis=0.5, ylim=c(0, 0.25), ylab=\"FST\")"
   ]
  },
  {
   "cell_type": "code",
   "execution_count": null,
   "metadata": {
    "collapsed": false
   },
   "outputs": [
    {
     "name": "stderr",
     "output_type": "stream",
     "text": [
      "Warning message in manhattan(fst, chr = \"ScaffoldNum\", bp = \"midPos\", p = \"FST\", :\n",
      "“No SNP column found. OK unless you're trying to highlight.”"
     ]
    }
   ],
   "source": [
    "plot=manhattan(fst, chr = \"ScaffoldNum\", bp = \"midPos\", p = \"FST\", \n",
    "col = c(\"gray10\", \"gray60\"), chrlabs = NULL)"
   ]
  },
  {
   "cell_type": "code",
   "execution_count": null,
   "metadata": {
    "collapsed": true
   },
   "outputs": [],
   "source": [
    "plot=ggplot(data=fstHigh, aes(x=midPos, y=FST))+\n",
    "  geom_point(data=fstHigh)+\n",
    "  theme_bw()+ facet_grid(.~ScaffoldNum)"
   ]
  },
  {
   "cell_type": "code",
   "execution_count": 16,
   "metadata": {
    "collapsed": false
   },
   "outputs": [
    {
     "data": {},
     "metadata": {},
     "output_type": "display_data"
    },
    {
     "data": {
      "image/png": "[encoded data removed]",
      "text/plain": [
       "plot without title"
      ]
     },
     "metadata": {},
     "output_type": "display_data"
    }
   ],
   "source": [
    "##plot of fst by scaffold"
   ]
  },
  {
   "cell_type": "code",
   "execution_count": null,
   "metadata": {
    "collapsed": true
   },
   "outputs": [],
   "source": []
  }
 ],
 "metadata": {
  "anaconda-cloud": {},
  "kernelspec": {
   "display_name": "R",
   "language": "R",
   "name": "ir"
  },
  "language_info": {
   "codemirror_mode": "r",
   "file_extension": ".r",
   "mimetype": "text/x-r-source",
   "name": "R",
   "pygments_lexer": "r",
   "version": "3.3.2"
  }
 },
 "nbformat": 4,
 "nbformat_minor": 1
}
