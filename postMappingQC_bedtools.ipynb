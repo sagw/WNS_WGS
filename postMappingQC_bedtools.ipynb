{
 "cells": [
  {
   "cell_type": "markdown",
   "metadata": {},
   "source": [
    "does bedtools give us the same coverage numberS?"
   ]
  },
  {
   "cell_type": "code",
   "execution_count": null,
   "metadata": {
    "collapsed": true
   },
   "outputs": [],
   "source": [
    "awk -v OFS='\\t' {'print \"chr\"$1,$2'} Myotis_lucifugus.Myoluc2.0.dna_sm.toplevel.fa.fai > Myoluc_genomeFile.txt"
   ]
  },
  {
   "cell_type": "code",
   "execution_count": null,
   "metadata": {
    "collapsed": false
   },
   "outputs": [],
   "source": [
    "samtools view -b NJ_E_23_pairedplus_marked_dupes.bam | genomeCoverageBed -d -ibam stdin -g /local/home/sarahgw/references/Myotis_Lucifugus2.0/Myoluc_genomeFile.txt>NJ_E_23_BaseCoverage.txt"
   ]
  },
  {
   "cell_type": "code",
   "execution_count": 4,
   "metadata": {
    "collapsed": false
   },
   "outputs": [
    {
     "name": "stdout",
     "output_type": "stream",
     "text": [
      "GL429767\t1\t2\r\n",
      "GL429767\t2\t2\r\n",
      "GL429767\t3\t2\r\n",
      "GL429767\t4\t2\r\n",
      "GL429767\t5\t2\r\n",
      "GL429767\t6\t2\r\n",
      "GL429767\t7\t3\r\n",
      "GL429767\t8\t3\r\n",
      "GL429767\t9\t3\r\n",
      "GL429767\t10\t3\r\n"
     ]
    }
   ],
   "source": [
    "!head /local/home/sarahgw/WGS/Sequences/hiseq_2016_12_07_complete/NJ_E_23/NJ_E_23_BaseCoverage.txt"
   ]
  },
  {
   "cell_type": "code",
   "execution_count": 9,
   "metadata": {
    "collapsed": false
   },
   "outputs": [
    {
     "name": "stdout",
     "output_type": "stream",
     "text": [
      "131631 /local/home/sarahgw/WGS/Sequences/hiseq_2016_12_07_complete/NJ_E_23/Coverage_NJ_E_23.txt\r\n"
     ]
    }
   ],
   "source": [
    "!wc -l /local/home/sarahgw/WGS/Sequences/hiseq_2016_12_07_complete/NJ_E_23/Coverage_NJ_E_23.txt"
   ]
  },
  {
   "cell_type": "code",
   "execution_count": null,
   "metadata": {
    "collapsed": true
   },
   "outputs": [],
   "source": [
    "samtools view -b NJ_E_24_pairedplus_marked_dupes.bam | genomeCoverageBed -d -ibam stdin -g /local/home/sarahgw/references/Myotis_Lucifugus2.0/Myoluc_genomeFile.txt>NJ_E_24_BaseCoverage.txt"
   ]
  },
  {
   "cell_type": "code",
   "execution_count": null,
   "metadata": {
    "collapsed": true
   },
   "outputs": [],
   "source": [
    "samtools view -b NJ_E_25_pairedplus_marked_dupes.bam | genomeCoverageBed -d -ibam stdin -g /local/home/sarahgw/references/Myotis_Lucifugus2.0/Myoluc_genomeFile.txt>NJ_E_25_BaseCoverage.txt"
   ]
  },
  {
   "cell_type": "code",
   "execution_count": null,
   "metadata": {
    "collapsed": true
   },
   "outputs": [],
   "source": [
    "samtools view -b NJ_E_26_pairedplus_marked_dupes.bam | genomeCoverageBed -d -ibam stdin -g /local/home/sarahgw/references/Myotis_Lucifugus2.0/Myoluc_genomeFile.txt>NJ_E_26_BaseCoverage.txt"
   ]
  },
  {
   "cell_type": "code",
   "execution_count": null,
   "metadata": {
    "collapsed": true
   },
   "outputs": [],
   "source": [
    "samtools view -b NJ_E_27_pairedplus_marked_dupes.bam | genomeCoverageBed -d -ibam stdin -g /local/home/sarahgw/references/Myotis_Lucifugus2.0/Myoluc_genomeFile.txt>NJ_E_27_BaseCoverage.txt"
   ]
  },
  {
   "cell_type": "code",
   "execution_count": null,
   "metadata": {
    "collapsed": true
   },
   "outputs": [],
   "source": [
    "samtools view -b NJ_E_28_pairedplus_marked_dupes.bam | genomeCoverageBed -d -ibam stdin -g /local/home/sarahgw/references/Myotis_Lucifugus2.0/Myoluc_genomeFile.txt>NJ_E_28_BaseCoverage.txt"
   ]
  },
  {
   "cell_type": "code",
   "execution_count": null,
   "metadata": {
    "collapsed": true
   },
   "outputs": [],
   "source": [
    "samtools view -b NJ_E_29_pairedplus_marked_dupes.bam | genomeCoverageBed -d -ibam stdin -g /local/home/sarahgw/references/Myotis_Lucifugus2.0/Myoluc_genomeFile.txt>NJ_E_29_BaseCoverage.txt"
   ]
  },
  {
   "cell_type": "code",
   "execution_count": null,
   "metadata": {
    "collapsed": true
   },
   "outputs": [],
   "source": [
    "samtools view -b NJ_E_30_pairedplus_marked_dupes.bam | genomeCoverageBed -d -ibam stdin -g /local/home/sarahgw/references/Myotis_Lucifugus2.0/Myoluc_genomeFile.txt>NJ_E_30_BaseCoverage.txt"
   ]
  },
  {
   "cell_type": "code",
   "execution_count": null,
   "metadata": {
    "collapsed": true
   },
   "outputs": [],
   "source": [
    "samtools view -b NJ_U_01_pairedplus_marked_dupes.bam | genomeCoverageBed -d -ibam stdin -g /local/home/sarahgw/references/Myotis_Lucifugus2.0/Myoluc_genomeFile.txt>NJ_U_01_BaseCoverage.txt"
   ]
  },
  {
   "cell_type": "code",
   "execution_count": null,
   "metadata": {
    "collapsed": true
   },
   "outputs": [],
   "source": [
    "samtools view -b NJ_U_02_pairedplus_marked_dupes.bam | genomeCoverageBed -d -ibam stdin -g /local/home/sarahgw/references/Myotis_Lucifugus2.0/Myoluc_genomeFile.txt>NJ_U_02_BaseCoverage.txt"
   ]
  },
  {
   "cell_type": "code",
   "execution_count": null,
   "metadata": {
    "collapsed": true
   },
   "outputs": [],
   "source": [
    "samtools view -b NJ_U_03_pairedplus_marked_dupes.bam | genomeCoverageBed -d -ibam stdin -g /local/home/sarahgw/references/Myotis_Lucifugus2.0/Myoluc_genomeFile.txt>NJ_U_03_BaseCoverage.txt"
   ]
  },
  {
   "cell_type": "code",
   "execution_count": null,
   "metadata": {
    "collapsed": true
   },
   "outputs": [],
   "source": [
    "samtools view -b NJ_U_04_pairedplus_marked_dupes.bam | genomeCoverageBed -d -ibam stdin -g /local/home/sarahgw/references/Myotis_Lucifugus2.0/Myoluc_genomeFile.txt>NJ_U_04_BaseCoverage.txt"
   ]
  },
  {
   "cell_type": "code",
   "execution_count": null,
   "metadata": {
    "collapsed": true
   },
   "outputs": [],
   "source": [
    "samtools view -b NJ_U_05_pairedplus_marked_dupes.bam | genomeCoverageBed -d -ibam stdin -g /local/home/sarahgw/references/Myotis_Lucifugus2.0/Myoluc_genomeFile.txt>NJ_U_05_BaseCoverage.txt"
   ]
  },
  {
   "cell_type": "code",
   "execution_count": null,
   "metadata": {
    "collapsed": true
   },
   "outputs": [],
   "source": [
    "samtools view -b NJ_U_06_pairedplus_marked_dupes.bam | genomeCoverageBed -d -ibam stdin -g /local/home/sarahgw/references/Myotis_Lucifugus2.0/Myoluc_genomeFile.txt>NJ_U_06_BaseCoverage.txt"
   ]
  },
  {
   "cell_type": "code",
   "execution_count": null,
   "metadata": {
    "collapsed": true
   },
   "outputs": [],
   "source": [
    "samtools view -b NJ_U_07_pairedplus_marked_dupes.bam | genomeCoverageBed -d -ibam stdin -g /local/home/sarahgw/references/Myotis_Lucifugus2.0/Myoluc_genomeFile.txt>NJ_U_07_BaseCoverage.txt"
   ]
  },
  {
   "cell_type": "code",
   "execution_count": null,
   "metadata": {
    "collapsed": true
   },
   "outputs": [],
   "source": [
    "samtools view -b NJ_U_08_pairedplus_marked_dupes.bam | genomeCoverageBed -d -ibam stdin -g /local/home/sarahgw/references/Myotis_Lucifugus2.0/Myoluc_genomeFile.txt>NJ_U_08_BaseCoverage.txt"
   ]
  },
  {
   "cell_type": "code",
   "execution_count": null,
   "metadata": {
    "collapsed": true
   },
   "outputs": [],
   "source": [
    "samtools view -b NJ_U_09_pairedplus_marked_dupes.bam | genomeCoverageBed -d -ibam stdin -g /local/home/sarahgw/references/Myotis_Lucifugus2.0/Myoluc_genomeFile.txt>NJ_U_09_BaseCoverage.txt"
   ]
  },
  {
   "cell_type": "code",
   "execution_count": null,
   "metadata": {
    "collapsed": true
   },
   "outputs": [],
   "source": [
    "samtools view -b NJ_U_10_pairedplus_marked_dupes.bam | genomeCoverageBed -d -ibam stdin -g /local/home/sarahgw/references/Myotis_Lucifugus2.0/Myoluc_genomeFile.txt>NJ_U_10_BaseCoverage.txt"
   ]
  },
  {
   "cell_type": "code",
   "execution_count": null,
   "metadata": {
    "collapsed": true
   },
   "outputs": [],
   "source": [
    "samtools view -b NJ_U_11_pairedplus_marked_dupes.bam | genomeCoverageBed -d -ibam stdin -g /local/home/sarahgw/references/Myotis_Lucifugus2.0/Myoluc_genomeFile.txt>NJ_U_11_BaseCoverage.txt"
   ]
  },
  {
   "cell_type": "code",
   "execution_count": null,
   "metadata": {
    "collapsed": true
   },
   "outputs": [],
   "source": [
    "samtools view -b NJ_U_12_pairedplus_marked_dupes.bam | genomeCoverageBed -d -ibam stdin -g /local/home/sarahgw/references/Myotis_Lucifugus2.0/Myoluc_genomeFile.txt>NJ_U_12_BaseCoverage.txt"
   ]
  },
  {
   "cell_type": "code",
   "execution_count": null,
   "metadata": {
    "collapsed": true
   },
   "outputs": [],
   "source": [
    "samtools view -b NJ_U_15_pairedplus_marked_dupes.bam | genomeCoverageBed -d -ibam stdin -g /local/home/sarahgw/references/Myotis_Lucifugus2.0/Myoluc_genomeFile.txt>NJ_U_15_BaseCoverage.txt"
   ]
  },
  {
   "cell_type": "code",
   "execution_count": null,
   "metadata": {
    "collapsed": true
   },
   "outputs": [],
   "source": [
    "samtools view -b NJ_U_16_pairedplus_marked_dupes.bam | genomeCoverageBed -d -ibam stdin -g /local/home/sarahgw/references/Myotis_Lucifugus2.0/Myoluc_genomeFile.txt>NJ_U_16_BaseCoverage.txt"
   ]
  },
  {
   "cell_type": "code",
   "execution_count": null,
   "metadata": {
    "collapsed": true
   },
   "outputs": [],
   "source": [
    "scp -r \"sarahgw@amphiprion.deenr.rutgers.edu:/local/home/sarahgw/WGS/Sequences/hiseq_2016_12_07_complete/*/Coverage*\" $(pwd)"
   ]
  },
  {
   "cell_type": "code",
   "execution_count": 2,
   "metadata": {
    "collapsed": false
   },
   "outputs": [
    {
     "name": "stdout",
     "output_type": "stream",
     "text": [
      "GL429767\t0\t19817639\t64990205\t0.304933\r\n",
      "GL429767\t1\t16472280\t64990205\t0.253458\r\n",
      "GL429767\t2\t12704897\t64990205\t0.195489\r\n",
      "GL429767\t3\t7859663\t64990205\t0.120936\r\n",
      "GL429767\t4\t4326379\t64990205\t0.0665697\r\n",
      "GL429767\t5\t2130701\t64990205\t0.032785\r\n",
      "GL429767\t6\t970634\t64990205\t0.0149351\r\n",
      "GL429767\t7\t420673\t64990205\t0.00647287\r\n",
      "GL429767\t8\t172294\t64990205\t0.00265108\r\n",
      "GL429767\t9\t68136\t64990205\t0.0010484\r\n"
     ]
    }
   ],
   "source": [
    "!head /local/home/sarahgw/WGS/Sequences/hiseq_2016_12_07_complete/NJ_E_23/Coverage_NJ_E_23.txt"
   ]
  },
  {
   "cell_type": "code",
   "execution_count": null,
   "metadata": {
    "collapsed": true
   },
   "outputs": [],
   "source": [
    " sed \"s/$/\\tNJ_E_23/\" Coverage_NJ_E_23.txt > NJ_E_23_coverage.txt"
   ]
  },
  {
   "cell_type": "code",
   "execution_count": null,
   "metadata": {
    "collapsed": true
   },
   "outputs": [],
   "source": [
    "for dir in $(ls); do cd $dir;  sed \"s/$/\\t\"$dir\"/\" \"$dir\"_BaseCoverage.txt > \"$dir\"_BaseCoverage_2.txt ; cd ..; done"
   ]
  },
  {
   "cell_type": "code",
   "execution_count": 8,
   "metadata": {
    "collapsed": false,
    "scrolled": true
   },
   "outputs": [
    {
     "name": "stdout",
     "output_type": "stream",
     "text": [
      "GL429767\t1\t2\tNJ_E_23\r\n",
      "GL429767\t2\t2\tNJ_E_23\r\n",
      "GL429767\t3\t2\tNJ_E_23\r\n",
      "GL429767\t4\t2\tNJ_E_23\r\n",
      "GL429767\t5\t2\tNJ_E_23\r\n",
      "GL429767\t6\t2\tNJ_E_23\r\n",
      "GL429767\t7\t3\tNJ_E_23\r\n",
      "GL429767\t8\t3\tNJ_E_23\r\n",
      "GL429767\t9\t3\tNJ_E_23\r\n",
      "GL429767\t10\t3\tNJ_E_23\r\n",
      "GL429767\t11\t3\tNJ_E_23\r\n",
      "GL429767\t12\t3\tNJ_E_23\r\n",
      "GL429767\t13\t3\tNJ_E_23\r\n",
      "GL429767\t14\t3\tNJ_E_23\r\n",
      "GL429767\t15\t3\tNJ_E_23\r\n",
      "GL429767\t16\t3\tNJ_E_23\r\n",
      "GL429767\t17\t3\tNJ_E_23\r\n",
      "GL429767\t18\t3\tNJ_E_23\r\n",
      "GL429767\t19\t3\tNJ_E_23\r\n",
      "GL429767\t20\t3\tNJ_E_23\r\n",
      "GL429767\t21\t3\tNJ_E_23\r\n",
      "GL429767\t22\t3\tNJ_E_23\r\n",
      "GL429767\t23\t3\tNJ_E_23\r\n",
      "GL429767\t24\t3\tNJ_E_23\r\n",
      "GL429767\t25\t3\tNJ_E_23\r\n",
      "GL429767\t26\t3\tNJ_E_23\r\n",
      "GL429767\t27\t3\tNJ_E_23\r\n",
      "GL429767\t28\t3\tNJ_E_23\r\n",
      "GL429767\t29\t3\tNJ_E_23\r\n",
      "GL429767\t30\t3\tNJ_E_23\r\n",
      "GL429767\t31\t3\tNJ_E_23\r\n",
      "GL429767\t32\t3\tNJ_E_23\r\n",
      "GL429767\t33\t3\tNJ_E_23\r\n",
      "GL429767\t34\t3\tNJ_E_23\r\n",
      "GL429767\t35\t3\tNJ_E_23\r\n",
      "GL429767\t36\t3\tNJ_E_23\r\n",
      "GL429767\t37\t3\tNJ_E_23\r\n",
      "GL429767\t38\t3\tNJ_E_23\r\n",
      "GL429767\t39\t3\tNJ_E_23\r\n",
      "GL429767\t40\t3\tNJ_E_23\r\n",
      "GL429767\t41\t3\tNJ_E_23\r\n",
      "GL429767\t42\t3\tNJ_E_23\r\n",
      "GL429767\t43\t3\tNJ_E_23\r\n",
      "GL429767\t44\t3\tNJ_E_23\r\n",
      "GL429767\t45\t3\tNJ_E_23\r\n",
      "GL429767\t46\t3\tNJ_E_23\r\n",
      "GL429767\t47\t3\tNJ_E_23\r\n",
      "GL429767\t48\t3\tNJ_E_23\r\n",
      "GL429767\t49\t3\tNJ_E_23\r\n",
      "GL429767\t50\t3\tNJ_E_23\r\n",
      "GL429767\t51\t3\tNJ_E_23\r\n",
      "GL429767\t52\t3\tNJ_E_23\r\n",
      "GL429767\t53\t3\tNJ_E_23\r\n",
      "GL429767\t54\t3\tNJ_E_23\r\n",
      "GL429767\t55\t3\tNJ_E_23\r\n",
      "GL429767\t56\t3\tNJ_E_23\r\n",
      "GL429767\t57\t3\tNJ_E_23\r\n",
      "GL429767\t58\t3\tNJ_E_23\r\n",
      "GL429767\t59\t3\tNJ_E_23\r\n",
      "GL429767\t60\t3\tNJ_E_23\r\n",
      "GL429767\t61\t3\tNJ_E_23\r\n",
      "GL429767\t62\t3\tNJ_E_23\r\n",
      "GL429767\t63\t3\tNJ_E_23\r\n",
      "GL429767\t64\t3\tNJ_E_23\r\n",
      "GL429767\t65\t3\tNJ_E_23\r\n",
      "GL429767\t66\t3\tNJ_E_23\r\n",
      "GL429767\t67\t3\tNJ_E_23\r\n",
      "GL429767\t68\t3\tNJ_E_23\r\n",
      "GL429767\t69\t3\tNJ_E_23\r\n",
      "GL429767\t70\t1\tNJ_E_23\r\n",
      "GL429767\t71\t1\tNJ_E_23\r\n",
      "GL429767\t72\t1\tNJ_E_23\r\n",
      "GL429767\t73\t1\tNJ_E_23\r\n",
      "GL429767\t74\t1\tNJ_E_23\r\n",
      "GL429767\t75\t1\tNJ_E_23\r\n",
      "GL429767\t76\t1\tNJ_E_23\r\n",
      "GL429767\t77\t1\tNJ_E_23\r\n",
      "GL429767\t78\t1\tNJ_E_23\r\n",
      "GL429767\t79\t1\tNJ_E_23\r\n",
      "GL429767\t80\t1\tNJ_E_23\r\n",
      "GL429767\t81\t1\tNJ_E_23\r\n",
      "GL429767\t82\t1\tNJ_E_23\r\n",
      "GL429767\t83\t1\tNJ_E_23\r\n",
      "GL429767\t84\t1\tNJ_E_23\r\n",
      "GL429767\t85\t1\tNJ_E_23\r\n",
      "GL429767\t86\t1\tNJ_E_23\r\n",
      "GL429767\t87\t1\tNJ_E_23\r\n",
      "GL429767\t88\t1\tNJ_E_23\r\n",
      "GL429767\t89\t1\tNJ_E_23\r\n",
      "GL429767\t90\t1\tNJ_E_23\r\n",
      "GL429767\t91\t1\tNJ_E_23\r\n",
      "GL429767\t92\t1\tNJ_E_23\r\n",
      "GL429767\t93\t1\tNJ_E_23\r\n",
      "GL429767\t94\t1\tNJ_E_23\r\n",
      "GL429767\t95\t1\tNJ_E_23\r\n",
      "GL429767\t96\t1\tNJ_E_23\r\n",
      "GL429767\t97\t1\tNJ_E_23\r\n",
      "GL429767\t98\t1\tNJ_E_23\r\n",
      "GL429767\t99\t1\tNJ_E_23\r\n",
      "GL429767\t100\t1\tNJ_E_23\r\n"
     ]
    }
   ],
   "source": [
    "!head -n 100 /local/home/sarahgw/WGS/Sequences/hiseq_2016_12_07_complete/NJ_E_23/NJ_E_23_BaseCoverage_2.txt"
   ]
  },
  {
   "cell_type": "code",
   "execution_count": null,
   "metadata": {
    "collapsed": true
   },
   "outputs": [],
   "source": [
    "cat ./*/*_BaseCoverage.txt >> ./BaseCoverage_all.txt"
   ]
  },
  {
   "cell_type": "code",
   "execution_count": 1,
   "metadata": {
    "collapsed": false
   },
   "outputs": [
    {
     "name": "stdout",
     "output_type": "stream",
     "text": [
      "GL429767\t1\t2\r\n",
      "GL429767\t2\t2\r\n",
      "GL429767\t3\t2\r\n",
      "GL429767\t4\t2\r\n",
      "GL429767\t5\t2\r\n",
      "GL429767\t6\t2\r\n",
      "GL429767\t7\t3\r\n",
      "GL429767\t8\t3\r\n",
      "GL429767\t9\t3\r\n",
      "GL429767\t10\t3\r\n"
     ]
    }
   ],
   "source": [
    "!head /local/home/sarahgw/WGS/Sequences/hiseq_2016_12_07_complete/BaseCoverage_all.txt"
   ]
  },
  {
   "cell_type": "code",
   "execution_count": null,
   "metadata": {
    "collapsed": true
   },
   "outputs": [],
   "source": [
    "WNS_WGS sarahgignoux-wolfsohn$ sed 's/       /,/g' coverage_all.txt > coverage_all.csv "
   ]
  },
  {
   "cell_type": "code",
   "execution_count": null,
   "metadata": {
    "collapsed": true
   },
   "outputs": [],
   "source": []
  },
  {
   "cell_type": "markdown",
   "metadata": {},
   "source": [
    "Take out rows where coverage is 0"
   ]
  },
  {
   "cell_type": "code",
   "execution_count": null,
   "metadata": {
    "collapsed": true
   },
   "outputs": [],
   "source": [
    "for dir in $(ls); do cd $dir;  awk '(NR>1) && ($3==0 ) ' \"$dir\"_BaseCoverage.txt > \"$dir\"_BaseCoverage_0.txt; cd ..; done"
   ]
  },
  {
   "cell_type": "code",
   "execution_count": null,
   "metadata": {
    "collapsed": true
   },
   "outputs": [],
   "source": [
    "for dir in $(ls); do cd $dir;  sed \"s/$/\\t\"$dir\"/\" \"$dir\"_BaseCoverage_0.txt > \"$dir\"_BaseCoverage_0name.txt ; cd ..; done"
   ]
  },
  {
   "cell_type": "markdown",
   "metadata": {},
   "source": [
    "Make bam files into bed files for gc content"
   ]
  },
  {
   "cell_type": "code",
   "execution_count": null,
   "metadata": {
    "collapsed": true
   },
   "outputs": [],
   "source": [
    "bamToBed -i NJ_E_25_pairedplus_marked_dupes.bam > NJ_E_25.bed"
   ]
  },
  {
   "cell_type": "code",
   "execution_count": null,
   "metadata": {
    "collapsed": true
   },
   "outputs": [],
   "source": [
    "bamToBed -i NJ_E_26_pairedplus_marked_dupes.bam > NJ_E_26.bed"
   ]
  },
  {
   "cell_type": "code",
   "execution_count": null,
   "metadata": {
    "collapsed": true
   },
   "outputs": [],
   "source": [
    "for dir in $(ls); do cd $dir; bamToBed -i \"$dir\"_pairedplus_marked_dupes.bam > \"$dir\".bed; cd ..; done"
   ]
  },
  {
   "cell_type": "markdown",
   "metadata": {},
   "source": [
    "use fasta reference index, run nuc. "
   ]
  },
  {
   "cell_type": "code",
   "execution_count": null,
   "metadata": {
    "collapsed": true
   },
   "outputs": [],
   "source": [
    "bedtools nuc -fi  ~/references/Myotis_Lucifugus2.0/Myotis_lucifugus.Myoluc2.0.dna_sm.toplevel.fa -bed NJ_E_25.bed > NJ_E_25_GC "
   ]
  },
  {
   "cell_type": "code",
   "execution_count": null,
   "metadata": {
    "collapsed": true
   },
   "outputs": [],
   "source": [
    "bedtools nuc -fi  ~/references/Myotis_Lucifugus2.0/Myotis_lucifugus.Myoluc2.0.dna_sm.toplevel.fa -bed NJ_E_26.bed > NJ_E_26_GC "
   ]
  },
  {
   "cell_type": "code",
   "execution_count": null,
   "metadata": {
    "collapsed": true
   },
   "outputs": [],
   "source": [
    "for dir in $(ls); do cd $dir; bedtools nuc -fi  ~/references/Myotis_Lucifugus2.0/Myotis_lucifugus.Myoluc2.0.dna_sm.toplevel.fa -bed \"$dir\".bed > \"$dir\"_GC; cd ..; done"
   ]
  }
 ],
 "metadata": {
  "anaconda-cloud": {},
  "kernelspec": {
   "display_name": "Python [conda root]",
   "language": "python",
   "name": "conda-root-py"
  },
  "language_info": {
   "codemirror_mode": {
    "name": "ipython",
    "version": 2
   },
   "file_extension": ".py",
   "mimetype": "text/x-python",
   "name": "python",
   "nbconvert_exporter": "python",
   "pygments_lexer": "ipython2",
   "version": "2.7.12"
  }
 },
 "nbformat": 4,
 "nbformat_minor": 1
}
