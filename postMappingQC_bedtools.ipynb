{
 "cells": [
  {
   "cell_type": "markdown",
   "metadata": {},
   "source": [
    "does bedtools give us the same coverage numberS?"
   ]
  },
  {
   "cell_type": "code",
   "execution_count": null,
   "metadata": {
    "collapsed": true
   },
   "outputs": [],
   "source": [
    "awk -v OFS='\\t' {'print \"chr\"$1,$2'} Myotis_lucifugus.Myoluc2.0.dna_sm.toplevel.fa.fai > Myoluc_genomeFile.txt"
   ]
  },
  {
   "cell_type": "code",
   "execution_count": null,
   "metadata": {
    "collapsed": false
   },
   "outputs": [],
   "source": [
    "samtools view -b NJ_E_23_pairedplus_marked_dupes.bam | genomeCoverageBed -d -ibam stdin -g /local/home/sarahgw/references/Myotis_Lucifugus2.0/Myoluc_genomeFile.txt>NJ_E_23_BaseCoverage.txt"
   ]
  },
  {
   "cell_type": "code",
   "execution_count": 4,
   "metadata": {
    "collapsed": false
   },
   "outputs": [
    {
     "name": "stdout",
     "output_type": "stream",
     "text": [
      "GL429767\t1\t2\r\n",
      "GL429767\t2\t2\r\n",
      "GL429767\t3\t2\r\n",
      "GL429767\t4\t2\r\n",
      "GL429767\t5\t2\r\n",
      "GL429767\t6\t2\r\n",
      "GL429767\t7\t3\r\n",
      "GL429767\t8\t3\r\n",
      "GL429767\t9\t3\r\n",
      "GL429767\t10\t3\r\n"
     ]
    }
   ],
   "source": [
    "!head /local/home/sarahgw/WGS/Sequences/hiseq_2016_12_07_complete/NJ_E_23/NJ_E_23_BaseCoverage.txt"
   ]
  },
  {
   "cell_type": "code",
   "execution_count": 9,
   "metadata": {
    "collapsed": false
   },
   "outputs": [
    {
     "name": "stdout",
     "output_type": "stream",
     "text": [
      "131631 /local/home/sarahgw/WGS/Sequences/hiseq_2016_12_07_complete/NJ_E_23/Coverage_NJ_E_23.txt\r\n"
     ]
    }
   ],
   "source": [
    "!wc -l /local/home/sarahgw/WGS/Sequences/hiseq_2016_12_07_complete/NJ_E_23/Coverage_NJ_E_23.txt"
   ]
  },
  {
   "cell_type": "code",
   "execution_count": null,
   "metadata": {
    "collapsed": true
   },
   "outputs": [],
   "source": [
    "samtools view -b NJ_E_24_pairedplus_marked_dupes.bam | genomeCoverageBed -d -ibam stdin -g /local/home/sarahgw/references/Myotis_Lucifugus2.0/Myoluc_genomeFile.txt>NJ_E_24_BaseCoverage.txt"
   ]
  },
  {
   "cell_type": "code",
   "execution_count": null,
   "metadata": {
    "collapsed": true
   },
   "outputs": [],
   "source": [
    "samtools view -b NJ_E_25_pairedplus_marked_dupes.bam | genomeCoverageBed -d -ibam stdin -g /local/home/sarahgw/references/Myotis_Lucifugus2.0/Myoluc_genomeFile.txt>NJ_E_25_BaseCoverage.txt"
   ]
  },
  {
   "cell_type": "code",
   "execution_count": null,
   "metadata": {
    "collapsed": true
   },
   "outputs": [],
   "source": [
    "samtools view -b NJ_E_26_pairedplus_marked_dupes.bam | genomeCoverageBed -d -ibam stdin -g /local/home/sarahgw/references/Myotis_Lucifugus2.0/Myoluc_genomeFile.txt>NJ_E_26_BaseCoverage.txt"
   ]
  },
  {
   "cell_type": "code",
   "execution_count": null,
   "metadata": {
    "collapsed": true
   },
   "outputs": [],
   "source": [
    "samtools view -b NJ_E_27_pairedplus_marked_dupes.bam | genomeCoverageBed -d -ibam stdin -g /local/home/sarahgw/references/Myotis_Lucifugus2.0/Myoluc_genomeFile.txt>NJ_E_27_BaseCoverage.txt"
   ]
  },
  {
   "cell_type": "code",
   "execution_count": null,
   "metadata": {
    "collapsed": true
   },
   "outputs": [],
   "source": [
    "samtools view -b NJ_E_28_pairedplus_marked_dupes.bam | genomeCoverageBed -d -ibam stdin -g /local/home/sarahgw/references/Myotis_Lucifugus2.0/Myoluc_genomeFile.txt>NJ_E_28_BaseCoverage.txt"
   ]
  },
  {
   "cell_type": "code",
   "execution_count": null,
   "metadata": {
    "collapsed": true
   },
   "outputs": [],
   "source": [
    "samtools view -b NJ_E_29_pairedplus_marked_dupes.bam | genomeCoverageBed -d -ibam stdin -g /local/home/sarahgw/references/Myotis_Lucifugus2.0/Myoluc_genomeFile.txt>NJ_E_29_BaseCoverage.txt"
   ]
  },
  {
   "cell_type": "code",
   "execution_count": null,
   "metadata": {
    "collapsed": true
   },
   "outputs": [],
   "source": [
    "samtools view -b NJ_E_30_pairedplus_marked_dupes.bam | genomeCoverageBed -d -ibam stdin -g /local/home/sarahgw/references/Myotis_Lucifugus2.0/Myoluc_genomeFile.txt>NJ_E_30_BaseCoverage.txt"
   ]
  },
  {
   "cell_type": "code",
   "execution_count": null,
   "metadata": {
    "collapsed": true
   },
   "outputs": [],
   "source": [
    "samtools view -b NJ_U_01_pairedplus_marked_dupes.bam | genomeCoverageBed -d -ibam stdin -g /local/home/sarahgw/references/Myotis_Lucifugus2.0/Myoluc_genomeFile.txt>NJ_U_01_BaseCoverage.txt"
   ]
  },
  {
   "cell_type": "code",
   "execution_count": null,
   "metadata": {
    "collapsed": true
   },
   "outputs": [],
   "source": [
    "samtools view -b NJ_U_02_pairedplus_marked_dupes.bam | genomeCoverageBed -d -ibam stdin -g /local/home/sarahgw/references/Myotis_Lucifugus2.0/Myoluc_genomeFile.txt>NJ_U_02_BaseCoverage.txt"
   ]
  },
  {
   "cell_type": "code",
   "execution_count": null,
   "metadata": {
    "collapsed": true
   },
   "outputs": [],
   "source": [
    "samtools view -b NJ_U_03_pairedplus_marked_dupes.bam | genomeCoverageBed -d -ibam stdin -g /local/home/sarahgw/references/Myotis_Lucifugus2.0/Myoluc_genomeFile.txt>NJ_U_03_BaseCoverage.txt"
   ]
  },
  {
   "cell_type": "code",
   "execution_count": null,
   "metadata": {
    "collapsed": true
   },
   "outputs": [],
   "source": [
    "samtools view -b NJ_U_04_pairedplus_marked_dupes.bam | genomeCoverageBed -d -ibam stdin -g /local/home/sarahgw/references/Myotis_Lucifugus2.0/Myoluc_genomeFile.txt>NJ_U_04_BaseCoverage.txt"
   ]
  },
  {
   "cell_type": "code",
   "execution_count": null,
   "metadata": {
    "collapsed": true
   },
   "outputs": [],
   "source": [
    "samtools view -b NJ_U_05_pairedplus_marked_dupes.bam | genomeCoverageBed -d -ibam stdin -g /local/home/sarahgw/references/Myotis_Lucifugus2.0/Myoluc_genomeFile.txt>NJ_U_05_BaseCoverage.txt"
   ]
  },
  {
   "cell_type": "code",
   "execution_count": null,
   "metadata": {
    "collapsed": true
   },
   "outputs": [],
   "source": [
    "samtools view -b NJ_U_06_pairedplus_marked_dupes.bam | genomeCoverageBed -d -ibam stdin -g /local/home/sarahgw/references/Myotis_Lucifugus2.0/Myoluc_genomeFile.txt>NJ_U_06_BaseCoverage.txt"
   ]
  },
  {
   "cell_type": "code",
   "execution_count": null,
   "metadata": {
    "collapsed": true
   },
   "outputs": [],
   "source": [
    "samtools view -b NJ_U_07_pairedplus_marked_dupes.bam | genomeCoverageBed -d -ibam stdin -g /local/home/sarahgw/references/Myotis_Lucifugus2.0/Myoluc_genomeFile.txt>NJ_U_07_BaseCoverage.txt"
   ]
  },
  {
   "cell_type": "code",
   "execution_count": null,
   "metadata": {
    "collapsed": true
   },
   "outputs": [],
   "source": [
    "samtools view -b NJ_U_08_pairedplus_marked_dupes.bam | genomeCoverageBed -d -ibam stdin -g /local/home/sarahgw/references/Myotis_Lucifugus2.0/Myoluc_genomeFile.txt>NJ_U_08_BaseCoverage.txt"
   ]
  },
  {
   "cell_type": "code",
   "execution_count": null,
   "metadata": {
    "collapsed": true
   },
   "outputs": [],
   "source": [
    "samtools view -b NJ_U_09_pairedplus_marked_dupes.bam | genomeCoverageBed -d -ibam stdin -g /local/home/sarahgw/references/Myotis_Lucifugus2.0/Myoluc_genomeFile.txt>NJ_U_09_BaseCoverage.txt"
   ]
  },
  {
   "cell_type": "code",
   "execution_count": null,
   "metadata": {
    "collapsed": true
   },
   "outputs": [],
   "source": [
    "samtools view -b NJ_U_10_pairedplus_marked_dupes.bam | genomeCoverageBed -d -ibam stdin -g /local/home/sarahgw/references/Myotis_Lucifugus2.0/Myoluc_genomeFile.txt>NJ_U_10_BaseCoverage.txt"
   ]
  },
  {
   "cell_type": "code",
   "execution_count": null,
   "metadata": {
    "collapsed": true
   },
   "outputs": [],
   "source": [
    "samtools view -b NJ_U_11_pairedplus_marked_dupes.bam | genomeCoverageBed -d -ibam stdin -g /local/home/sarahgw/references/Myotis_Lucifugus2.0/Myoluc_genomeFile.txt>NJ_U_11_BaseCoverage.txt"
   ]
  },
  {
   "cell_type": "code",
   "execution_count": null,
   "metadata": {
    "collapsed": true
   },
   "outputs": [],
   "source": [
    "samtools view -b NJ_U_12_pairedplus_marked_dupes.bam | genomeCoverageBed -d -ibam stdin -g /local/home/sarahgw/references/Myotis_Lucifugus2.0/Myoluc_genomeFile.txt>NJ_U_12_BaseCoverage.txt"
   ]
  },
  {
   "cell_type": "code",
   "execution_count": null,
   "metadata": {
    "collapsed": true
   },
   "outputs": [],
   "source": [
    "samtools view -b NJ_U_15_pairedplus_marked_dupes.bam | genomeCoverageBed -d -ibam stdin -g /local/home/sarahgw/references/Myotis_Lucifugus2.0/Myoluc_genomeFile.txt>NJ_U_15_BaseCoverage.txt"
   ]
  },
  {
   "cell_type": "code",
   "execution_count": null,
   "metadata": {
    "collapsed": true
   },
   "outputs": [],
   "source": [
    "samtools view -b NJ_U_16_pairedplus_marked_dupes.bam | genomeCoverageBed -d -ibam stdin -g /local/home/sarahgw/references/Myotis_Lucifugus2.0/Myoluc_genomeFile.txt>NJ_U_16_BaseCoverage.txt"
   ]
  },
  {
   "cell_type": "code",
   "execution_count": null,
   "metadata": {
    "collapsed": true
   },
   "outputs": [],
   "source": [
    "scp -r \"sarahgw@amphiprion.deenr.rutgers.edu:/local/home/sarahgw/WGS/Sequences/hiseq_2016_12_07_complete/*/Coverage*\" $(pwd)"
   ]
  },
  {
   "cell_type": "code",
   "execution_count": 2,
   "metadata": {
    "collapsed": false
   },
   "outputs": [
    {
     "name": "stdout",
     "output_type": "stream",
     "text": [
      "GL429767\t0\t19817639\t64990205\t0.304933\r\n",
      "GL429767\t1\t16472280\t64990205\t0.253458\r\n",
      "GL429767\t2\t12704897\t64990205\t0.195489\r\n",
      "GL429767\t3\t7859663\t64990205\t0.120936\r\n",
      "GL429767\t4\t4326379\t64990205\t0.0665697\r\n",
      "GL429767\t5\t2130701\t64990205\t0.032785\r\n",
      "GL429767\t6\t970634\t64990205\t0.0149351\r\n",
      "GL429767\t7\t420673\t64990205\t0.00647287\r\n",
      "GL429767\t8\t172294\t64990205\t0.00265108\r\n",
      "GL429767\t9\t68136\t64990205\t0.0010484\r\n"
     ]
    }
   ],
   "source": [
    "!head /local/home/sarahgw/WGS/Sequences/hiseq_2016_12_07_complete/NJ_E_23/Coverage_NJ_E_23.txt"
   ]
  },
  {
   "cell_type": "code",
   "execution_count": null,
   "metadata": {
    "collapsed": true
   },
   "outputs": [],
   "source": [
    " sed \"s/$/\\tNJ_E_23/\" Coverage_NJ_E_23.txt > NJ_E_23_coverage.txt"
   ]
  },
  {
   "cell_type": "code",
   "execution_count": null,
   "metadata": {
    "collapsed": true
   },
   "outputs": [],
   "source": [
    "for dir in $(ls); do cd $dir;  sed \"s/$/\\t\"$dir\"/\" Coverage_\"$dir\".txt > \"$dir\"_coverage.txt ; cd ..; done"
   ]
  },
  {
   "cell_type": "code",
   "execution_count": null,
   "metadata": {
    "collapsed": true
   },
   "outputs": [],
   "source": [
    "cat ./*/*_coverage.txt >> ./coverage_all.txt"
   ]
  },
  {
   "cell_type": "code",
   "execution_count": null,
   "metadata": {
    "collapsed": true
   },
   "outputs": [],
   "source": [
    "WNS_WGS sarahgignoux-wolfsohn$ sed 's/       /,/g' coverage_all.txt > coverage_all.csv "
   ]
  }
 ],
 "metadata": {
  "anaconda-cloud": {},
  "kernelspec": {
   "display_name": "Python [conda root]",
   "language": "python",
   "name": "conda-root-py"
  },
  "language_info": {
   "codemirror_mode": {
    "name": "ipython",
    "version": 2
   },
   "file_extension": ".py",
   "mimetype": "text/x-python",
   "name": "python",
   "nbconvert_exporter": "python",
   "pygments_lexer": "ipython2",
   "version": "2.7.12"
  }
 },
 "nbformat": 4,
 "nbformat_minor": 1
}
