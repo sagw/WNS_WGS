{
 "cells": [
  {
   "cell_type": "markdown",
   "metadata": {},
   "source": [
    "does bedtools give us the same coverage numberS?"
   ]
  },
  {
   "cell_type": "code",
   "execution_count": null,
   "metadata": {
    "collapsed": true
   },
   "outputs": [],
   "source": [
    "awk -v OFS='\\t' {'print \"chr\"$1,$2'} Myotis_lucifugus.Myoluc2.0.dna_sm.toplevel.fa.fai > Myoluc_genomeFile.txt"
   ]
  },
  {
   "cell_type": "code",
   "execution_count": null,
   "metadata": {
    "collapsed": false
   },
   "outputs": [],
   "source": [
    "samtools view -b NJ_E_23_pairedplus_marked_dupes.bam | genomeCoverageBed -d -ibam stdin -g /local/home/sarahgw/references/Myotis_Lucifugus2.0/Myoluc_genomeFile.txt>NJ_E_23_BaseCoverage.txt"
   ]
  },
  {
   "cell_type": "code",
   "execution_count": 4,
   "metadata": {
    "collapsed": false
   },
   "outputs": [
    {
     "name": "stdout",
     "output_type": "stream",
     "text": [
      "GL429767\t1\t2\r\n",
      "GL429767\t2\t2\r\n",
      "GL429767\t3\t2\r\n",
      "GL429767\t4\t2\r\n",
      "GL429767\t5\t2\r\n",
      "GL429767\t6\t2\r\n",
      "GL429767\t7\t3\r\n",
      "GL429767\t8\t3\r\n",
      "GL429767\t9\t3\r\n",
      "GL429767\t10\t3\r\n"
     ]
    }
   ],
   "source": [
    "!head /local/home/sarahgw/WGS/Sequences/hiseq_2016_12_07_complete/NJ_E_23/NJ_E_23_BaseCoverage.txt"
   ]
  },
  {
   "cell_type": "code",
   "execution_count": 9,
   "metadata": {
    "collapsed": false
   },
   "outputs": [
    {
     "name": "stdout",
     "output_type": "stream",
     "text": [
      "131631 /local/home/sarahgw/WGS/Sequences/hiseq_2016_12_07_complete/NJ_E_23/Coverage_NJ_E_23.txt\r\n"
     ]
    }
   ],
   "source": [
    "!wc -l /local/home/sarahgw/WGS/Sequences/hiseq_2016_12_07_complete/NJ_E_23/Coverage_NJ_E_23.txt"
   ]
  },
  {
   "cell_type": "code",
   "execution_count": null,
   "metadata": {
    "collapsed": true
   },
   "outputs": [],
   "source": [
    "samtools view -b NJ_E_24_pairedplus_marked_dupes.bam | genomeCoverageBed -d -ibam stdin -g /local/home/sarahgw/references/Myotis_Lucifugus2.0/Myoluc_genomeFile.txt>NJ_E_24_BaseCoverage.txt"
   ]
  },
  {
   "cell_type": "code",
   "execution_count": null,
   "metadata": {
    "collapsed": true
   },
   "outputs": [],
   "source": [
    "samtools view -b NJ_E_25_pairedplus_marked_dupes.bam | genomeCoverageBed -d -ibam stdin -g /local/home/sarahgw/references/Myotis_Lucifugus2.0/Myoluc_genomeFile.txt>NJ_E_25_BaseCoverage.txt"
   ]
  },
  {
   "cell_type": "code",
   "execution_count": null,
   "metadata": {
    "collapsed": true
   },
   "outputs": [],
   "source": [
    "samtools view -b NJ_E_26_pairedplus_marked_dupes.bam | genomeCoverageBed -d -ibam stdin -g /local/home/sarahgw/references/Myotis_Lucifugus2.0/Myoluc_genomeFile.txt>NJ_E_26_BaseCoverage.txt"
   ]
  },
  {
   "cell_type": "code",
   "execution_count": null,
   "metadata": {
    "collapsed": true
   },
   "outputs": [],
   "source": [
    "samtools view -b NJ_E_27_pairedplus_marked_dupes.bam | genomeCoverageBed -d -ibam stdin -g /local/home/sarahgw/references/Myotis_Lucifugus2.0/Myoluc_genomeFile.txt>NJ_E_27_BaseCoverage.txt"
   ]
  },
  {
   "cell_type": "code",
   "execution_count": null,
   "metadata": {
    "collapsed": true
   },
   "outputs": [],
   "source": [
    "samtools view -b NJ_E_28_pairedplus_marked_dupes.bam | genomeCoverageBed -d -ibam stdin -g /local/home/sarahgw/references/Myotis_Lucifugus2.0/Myoluc_genomeFile.txt>NJ_E_28_BaseCoverage.txt"
   ]
  },
  {
   "cell_type": "code",
   "execution_count": null,
   "metadata": {
    "collapsed": true
   },
   "outputs": [],
   "source": [
    "samtools view -b NJ_E_29_pairedplus_marked_dupes.bam | genomeCoverageBed -d -ibam stdin -g /local/home/sarahgw/references/Myotis_Lucifugus2.0/Myoluc_genomeFile.txt>NJ_E_29_BaseCoverage.txt"
   ]
  },
  {
   "cell_type": "code",
   "execution_count": null,
   "metadata": {
    "collapsed": true
   },
   "outputs": [],
   "source": [
    "samtools view -b NJ_E_30_pairedplus_marked_dupes.bam | genomeCoverageBed -d -ibam stdin -g /local/home/sarahgw/references/Myotis_Lucifugus2.0/Myoluc_genomeFile.txt>NJ_E_30_BaseCoverage.txt"
   ]
  },
  {
   "cell_type": "code",
   "execution_count": null,
   "metadata": {
    "collapsed": true
   },
   "outputs": [],
   "source": [
    "samtools view -b NJ_U_01_pairedplus_marked_dupes.bam | genomeCoverageBed -d -ibam stdin -g /local/home/sarahgw/references/Myotis_Lucifugus2.0/Myoluc_genomeFile.txt>NJ_U_01_BaseCoverage.txt"
   ]
  },
  {
   "cell_type": "code",
   "execution_count": null,
   "metadata": {
    "collapsed": true
   },
   "outputs": [],
   "source": [
    "samtools view -b NJ_U_02_pairedplus_marked_dupes.bam | genomeCoverageBed -d -ibam stdin -g /local/home/sarahgw/references/Myotis_Lucifugus2.0/Myoluc_genomeFile.txt>NJ_U_02_BaseCoverage.txt"
   ]
  },
  {
   "cell_type": "code",
   "execution_count": null,
   "metadata": {
    "collapsed": true
   },
   "outputs": [],
   "source": [
    "samtools view -b NJ_U_03_pairedplus_marked_dupes.bam | genomeCoverageBed -d -ibam stdin -g /local/home/sarahgw/references/Myotis_Lucifugus2.0/Myoluc_genomeFile.txt>NJ_U_03_BaseCoverage.txt"
   ]
  },
  {
   "cell_type": "code",
   "execution_count": null,
   "metadata": {
    "collapsed": true
   },
   "outputs": [],
   "source": [
    "samtools view -b NJ_U_04_pairedplus_marked_dupes.bam | genomeCoverageBed -d -ibam stdin -g /local/home/sarahgw/references/Myotis_Lucifugus2.0/Myoluc_genomeFile.txt>NJ_U_04_BaseCoverage.txt"
   ]
  },
  {
   "cell_type": "code",
   "execution_count": null,
   "metadata": {
    "collapsed": true
   },
   "outputs": [],
   "source": [
    "samtools view -b NJ_U_05_pairedplus_marked_dupes.bam | genomeCoverageBed -d -ibam stdin -g /local/home/sarahgw/references/Myotis_Lucifugus2.0/Myoluc_genomeFile.txt>NJ_U_05_BaseCoverage.txt"
   ]
  },
  {
   "cell_type": "code",
   "execution_count": null,
   "metadata": {
    "collapsed": true
   },
   "outputs": [],
   "source": [
    "samtools view -b NJ_U_06_pairedplus_marked_dupes.bam | genomeCoverageBed -d -ibam stdin -g /local/home/sarahgw/references/Myotis_Lucifugus2.0/Myoluc_genomeFile.txt>NJ_U_06_BaseCoverage.txt"
   ]
  },
  {
   "cell_type": "code",
   "execution_count": null,
   "metadata": {
    "collapsed": true
   },
   "outputs": [],
   "source": [
    "samtools view -b NJ_U_07_pairedplus_marked_dupes.bam | genomeCoverageBed -d -ibam stdin -g /local/home/sarahgw/references/Myotis_Lucifugus2.0/Myoluc_genomeFile.txt>NJ_U_07_BaseCoverage.txt"
   ]
  },
  {
   "cell_type": "code",
   "execution_count": null,
   "metadata": {
    "collapsed": true
   },
   "outputs": [],
   "source": [
    "samtools view -b NJ_U_08_pairedplus_marked_dupes.bam | genomeCoverageBed -d -ibam stdin -g /local/home/sarahgw/references/Myotis_Lucifugus2.0/Myoluc_genomeFile.txt>NJ_U_08_BaseCoverage.txt"
   ]
  },
  {
   "cell_type": "code",
   "execution_count": null,
   "metadata": {
    "collapsed": true
   },
   "outputs": [],
   "source": [
    "samtools view -b NJ_U_09_pairedplus_marked_dupes.bam | genomeCoverageBed -d -ibam stdin -g /local/home/sarahgw/references/Myotis_Lucifugus2.0/Myoluc_genomeFile.txt>NJ_U_09_BaseCoverage.txt"
   ]
  },
  {
   "cell_type": "code",
   "execution_count": null,
   "metadata": {
    "collapsed": true
   },
   "outputs": [],
   "source": [
    "samtools view -b NJ_U_10_pairedplus_marked_dupes.bam | genomeCoverageBed -d -ibam stdin -g /local/home/sarahgw/references/Myotis_Lucifugus2.0/Myoluc_genomeFile.txt>NJ_U_10_BaseCoverage.txt"
   ]
  },
  {
   "cell_type": "code",
   "execution_count": null,
   "metadata": {
    "collapsed": true
   },
   "outputs": [],
   "source": [
    "samtools view -b NJ_U_11_pairedplus_marked_dupes.bam | genomeCoverageBed -d -ibam stdin -g /local/home/sarahgw/references/Myotis_Lucifugus2.0/Myoluc_genomeFile.txt>NJ_U_11_BaseCoverage.txt"
   ]
  },
  {
   "cell_type": "code",
   "execution_count": null,
   "metadata": {
    "collapsed": true
   },
   "outputs": [],
   "source": [
    "samtools view -b NJ_U_12_pairedplus_marked_dupes.bam | genomeCoverageBed -d -ibam stdin -g /local/home/sarahgw/references/Myotis_Lucifugus2.0/Myoluc_genomeFile.txt>NJ_U_12_BaseCoverage.txt"
   ]
  },
  {
   "cell_type": "code",
   "execution_count": null,
   "metadata": {
    "collapsed": true
   },
   "outputs": [],
   "source": [
    "samtools view -b NJ_U_15_pairedplus_marked_dupes.bam | genomeCoverageBed -d -ibam stdin -g /local/home/sarahgw/references/Myotis_Lucifugus2.0/Myoluc_genomeFile.txt>NJ_U_15_BaseCoverage.txt"
   ]
  },
  {
   "cell_type": "code",
   "execution_count": null,
   "metadata": {
    "collapsed": true
   },
   "outputs": [],
   "source": [
    "samtools view -b NJ_U_16_pairedplus_marked_dupes.bam | genomeCoverageBed -d -ibam stdin -g /local/home/sarahgw/references/Myotis_Lucifugus2.0/Myoluc_genomeFile.txt>NJ_U_16_BaseCoverage.txt"
   ]
  },
  {
   "cell_type": "code",
   "execution_count": null,
   "metadata": {
    "collapsed": true
   },
   "outputs": [],
   "source": [
    "scp -r \"sarahgw@amphiprion.deenr.rutgers.edu:/local/home/sarahgw/WGS/Sequences/hiseq_2016_12_07_complete/*/Coverage*\" $(pwd)"
   ]
  },
  {
   "cell_type": "code",
   "execution_count": 2,
   "metadata": {
    "collapsed": false
   },
   "outputs": [
    {
     "name": "stdout",
     "output_type": "stream",
     "text": [
      "GL429767\t0\t19817639\t64990205\t0.304933\r\n",
      "GL429767\t1\t16472280\t64990205\t0.253458\r\n",
      "GL429767\t2\t12704897\t64990205\t0.195489\r\n",
      "GL429767\t3\t7859663\t64990205\t0.120936\r\n",
      "GL429767\t4\t4326379\t64990205\t0.0665697\r\n",
      "GL429767\t5\t2130701\t64990205\t0.032785\r\n",
      "GL429767\t6\t970634\t64990205\t0.0149351\r\n",
      "GL429767\t7\t420673\t64990205\t0.00647287\r\n",
      "GL429767\t8\t172294\t64990205\t0.00265108\r\n",
      "GL429767\t9\t68136\t64990205\t0.0010484\r\n"
     ]
    }
   ],
   "source": [
    "!head /local/home/sarahgw/WGS/Sequences/hiseq_2016_12_07_complete/NJ_E_23/Coverage_NJ_E_23.txt"
   ]
  },
  {
   "cell_type": "code",
   "execution_count": null,
   "metadata": {
    "collapsed": true
   },
   "outputs": [],
   "source": [
    " sed \"s/$/\\tNJ_E_23/\" Coverage_NJ_E_23.txt > NJ_E_23_coverage.txt"
   ]
  },
  {
   "cell_type": "code",
   "execution_count": null,
   "metadata": {
    "collapsed": true
   },
   "outputs": [],
   "source": [
    "for dir in $(ls); do cd $dir; sort -k2,2 -k1,1 <\"$dir\"_BaseCoverage.txt; cd ..; done"
   ]
  },
  {
   "cell_type": "code",
   "execution_count": null,
   "metadata": {
    "collapsed": true
   },
   "outputs": [],
   "source": [
    "for dir in $(ls); do cd $dir;  sed \"s/$/\\t\"$dir\"/\" \"$dir\"_BaseCoverage.txt > \"$dir\"_BaseCoverage_2.txt ; cd ..; done"
   ]
  },
  {
   "cell_type": "code",
   "execution_count": 8,
   "metadata": {
    "collapsed": false,
    "scrolled": true
   },
   "outputs": [
    {
     "name": "stdout",
     "output_type": "stream",
     "text": [
      "GL429767\t1\t2\tNJ_E_23\r\n",
      "GL429767\t2\t2\tNJ_E_23\r\n",
      "GL429767\t3\t2\tNJ_E_23\r\n",
      "GL429767\t4\t2\tNJ_E_23\r\n",
      "GL429767\t5\t2\tNJ_E_23\r\n",
      "GL429767\t6\t2\tNJ_E_23\r\n",
      "GL429767\t7\t3\tNJ_E_23\r\n",
      "GL429767\t8\t3\tNJ_E_23\r\n",
      "GL429767\t9\t3\tNJ_E_23\r\n",
      "GL429767\t10\t3\tNJ_E_23\r\n",
      "GL429767\t11\t3\tNJ_E_23\r\n",
      "GL429767\t12\t3\tNJ_E_23\r\n",
      "GL429767\t13\t3\tNJ_E_23\r\n",
      "GL429767\t14\t3\tNJ_E_23\r\n",
      "GL429767\t15\t3\tNJ_E_23\r\n",
      "GL429767\t16\t3\tNJ_E_23\r\n",
      "GL429767\t17\t3\tNJ_E_23\r\n",
      "GL429767\t18\t3\tNJ_E_23\r\n",
      "GL429767\t19\t3\tNJ_E_23\r\n",
      "GL429767\t20\t3\tNJ_E_23\r\n",
      "GL429767\t21\t3\tNJ_E_23\r\n",
      "GL429767\t22\t3\tNJ_E_23\r\n",
      "GL429767\t23\t3\tNJ_E_23\r\n",
      "GL429767\t24\t3\tNJ_E_23\r\n",
      "GL429767\t25\t3\tNJ_E_23\r\n",
      "GL429767\t26\t3\tNJ_E_23\r\n",
      "GL429767\t27\t3\tNJ_E_23\r\n",
      "GL429767\t28\t3\tNJ_E_23\r\n",
      "GL429767\t29\t3\tNJ_E_23\r\n",
      "GL429767\t30\t3\tNJ_E_23\r\n",
      "GL429767\t31\t3\tNJ_E_23\r\n",
      "GL429767\t32\t3\tNJ_E_23\r\n",
      "GL429767\t33\t3\tNJ_E_23\r\n",
      "GL429767\t34\t3\tNJ_E_23\r\n",
      "GL429767\t35\t3\tNJ_E_23\r\n",
      "GL429767\t36\t3\tNJ_E_23\r\n",
      "GL429767\t37\t3\tNJ_E_23\r\n",
      "GL429767\t38\t3\tNJ_E_23\r\n",
      "GL429767\t39\t3\tNJ_E_23\r\n",
      "GL429767\t40\t3\tNJ_E_23\r\n",
      "GL429767\t41\t3\tNJ_E_23\r\n",
      "GL429767\t42\t3\tNJ_E_23\r\n",
      "GL429767\t43\t3\tNJ_E_23\r\n",
      "GL429767\t44\t3\tNJ_E_23\r\n",
      "GL429767\t45\t3\tNJ_E_23\r\n",
      "GL429767\t46\t3\tNJ_E_23\r\n",
      "GL429767\t47\t3\tNJ_E_23\r\n",
      "GL429767\t48\t3\tNJ_E_23\r\n",
      "GL429767\t49\t3\tNJ_E_23\r\n",
      "GL429767\t50\t3\tNJ_E_23\r\n",
      "GL429767\t51\t3\tNJ_E_23\r\n",
      "GL429767\t52\t3\tNJ_E_23\r\n",
      "GL429767\t53\t3\tNJ_E_23\r\n",
      "GL429767\t54\t3\tNJ_E_23\r\n",
      "GL429767\t55\t3\tNJ_E_23\r\n",
      "GL429767\t56\t3\tNJ_E_23\r\n",
      "GL429767\t57\t3\tNJ_E_23\r\n",
      "GL429767\t58\t3\tNJ_E_23\r\n",
      "GL429767\t59\t3\tNJ_E_23\r\n",
      "GL429767\t60\t3\tNJ_E_23\r\n",
      "GL429767\t61\t3\tNJ_E_23\r\n",
      "GL429767\t62\t3\tNJ_E_23\r\n",
      "GL429767\t63\t3\tNJ_E_23\r\n",
      "GL429767\t64\t3\tNJ_E_23\r\n",
      "GL429767\t65\t3\tNJ_E_23\r\n",
      "GL429767\t66\t3\tNJ_E_23\r\n",
      "GL429767\t67\t3\tNJ_E_23\r\n",
      "GL429767\t68\t3\tNJ_E_23\r\n",
      "GL429767\t69\t3\tNJ_E_23\r\n",
      "GL429767\t70\t1\tNJ_E_23\r\n",
      "GL429767\t71\t1\tNJ_E_23\r\n",
      "GL429767\t72\t1\tNJ_E_23\r\n",
      "GL429767\t73\t1\tNJ_E_23\r\n",
      "GL429767\t74\t1\tNJ_E_23\r\n",
      "GL429767\t75\t1\tNJ_E_23\r\n",
      "GL429767\t76\t1\tNJ_E_23\r\n",
      "GL429767\t77\t1\tNJ_E_23\r\n",
      "GL429767\t78\t1\tNJ_E_23\r\n",
      "GL429767\t79\t1\tNJ_E_23\r\n",
      "GL429767\t80\t1\tNJ_E_23\r\n",
      "GL429767\t81\t1\tNJ_E_23\r\n",
      "GL429767\t82\t1\tNJ_E_23\r\n",
      "GL429767\t83\t1\tNJ_E_23\r\n",
      "GL429767\t84\t1\tNJ_E_23\r\n",
      "GL429767\t85\t1\tNJ_E_23\r\n",
      "GL429767\t86\t1\tNJ_E_23\r\n",
      "GL429767\t87\t1\tNJ_E_23\r\n",
      "GL429767\t88\t1\tNJ_E_23\r\n",
      "GL429767\t89\t1\tNJ_E_23\r\n",
      "GL429767\t90\t1\tNJ_E_23\r\n",
      "GL429767\t91\t1\tNJ_E_23\r\n",
      "GL429767\t92\t1\tNJ_E_23\r\n",
      "GL429767\t93\t1\tNJ_E_23\r\n",
      "GL429767\t94\t1\tNJ_E_23\r\n",
      "GL429767\t95\t1\tNJ_E_23\r\n",
      "GL429767\t96\t1\tNJ_E_23\r\n",
      "GL429767\t97\t1\tNJ_E_23\r\n",
      "GL429767\t98\t1\tNJ_E_23\r\n",
      "GL429767\t99\t1\tNJ_E_23\r\n",
      "GL429767\t100\t1\tNJ_E_23\r\n"
     ]
    }
   ],
   "source": [
    "!head -n 100 /local/home/sarahgw/WGS/Sequences/hiseq_2016_12_07_complete/NJ_E_23/NJ_E_23_BaseCoverage_2.txt"
   ]
  },
  {
   "cell_type": "code",
   "execution_count": null,
   "metadata": {
    "collapsed": true
   },
   "outputs": [],
   "source": [
    "cat ./*/*_BaseCoverage.txt >> ./BaseCoverage_all.txt"
   ]
  },
  {
   "cell_type": "code",
   "execution_count": 1,
   "metadata": {
    "collapsed": false
   },
   "outputs": [
    {
     "name": "stdout",
     "output_type": "stream",
     "text": [
      "GL429767\t1\t2\r\n",
      "GL429767\t2\t2\r\n",
      "GL429767\t3\t2\r\n",
      "GL429767\t4\t2\r\n",
      "GL429767\t5\t2\r\n",
      "GL429767\t6\t2\r\n",
      "GL429767\t7\t3\r\n",
      "GL429767\t8\t3\r\n",
      "GL429767\t9\t3\r\n",
      "GL429767\t10\t3\r\n"
     ]
    }
   ],
   "source": [
    "!head /local/home/sarahgw/WGS/Sequences/hiseq_2016_12_07_complete/BaseCoverage_all.txt"
   ]
  },
  {
   "cell_type": "code",
   "execution_count": null,
   "metadata": {
    "collapsed": true
   },
   "outputs": [],
   "source": [
    "WNS_WGS sarahgignoux-wolfsohn$ sed 's/       /,/g' coverage_all.txt > coverage_all.csv "
   ]
  },
  {
   "cell_type": "code",
   "execution_count": null,
   "metadata": {
    "collapsed": true
   },
   "outputs": [],
   "source": []
  },
  {
   "cell_type": "markdown",
   "metadata": {},
   "source": [
    "Take out rows where coverage is 0"
   ]
  },
  {
   "cell_type": "code",
   "execution_count": null,
   "metadata": {
    "collapsed": true
   },
   "outputs": [],
   "source": [
    "for dir in $(ls); do cd $dir;  awk '(NR>1) && ($3==0 ) ' \"$dir\"_BaseCoverage.txt > \"$dir\"_BaseCoverage_0.txt; cd ..; done"
   ]
  },
  {
   "cell_type": "code",
   "execution_count": null,
   "metadata": {
    "collapsed": true
   },
   "outputs": [],
   "source": [
    "for dir in $(ls); do cd $dir;  sed \"s/$/\\t\"$dir\"/\" \"$dir\"_BaseCoverage_0.txt > \"$dir\"_BaseCoverage_0name.txt ; cd ..; done"
   ]
  },
  {
   "cell_type": "code",
   "execution_count": null,
   "metadata": {
    "collapsed": true
   },
   "outputs": [],
   "source": [
    "cat ./*/*_BaseCoverage_0name.txt >> ./BaseCoverage_0all.txt"
   ]
  },
  {
   "cell_type": "markdown",
   "metadata": {},
   "source": [
    "Make bam files into bed files for gc content"
   ]
  },
  {
   "cell_type": "code",
   "execution_count": null,
   "metadata": {
    "collapsed": true
   },
   "outputs": [],
   "source": [
    "bamToBed -i NJ_E_25_pairedplus_marked_dupes.bam > NJ_E_25.bed"
   ]
  },
  {
   "cell_type": "code",
   "execution_count": null,
   "metadata": {
    "collapsed": true
   },
   "outputs": [],
   "source": [
    "bamToBed -i NJ_E_26_pairedplus_marked_dupes.bam > NJ_E_26.bed"
   ]
  },
  {
   "cell_type": "code",
   "execution_count": null,
   "metadata": {
    "collapsed": true
   },
   "outputs": [],
   "source": [
    "for dir in $(ls); do cd $dir; bamToBed -i \"$dir\"_pairedplus_marked_dupes.bam > \"$dir\".bed; cd ..; done"
   ]
  },
  {
   "cell_type": "markdown",
   "metadata": {},
   "source": [
    "use fasta reference index, run nuc. "
   ]
  },
  {
   "cell_type": "code",
   "execution_count": null,
   "metadata": {
    "collapsed": true
   },
   "outputs": [],
   "source": [
    "bedtools nuc -fi  ~/references/Myotis_Lucifugus2.0/Myotis_lucifugus.Myoluc2.0.dna_sm.toplevel.fa -bed NJ_E_25.bed > NJ_E_25_GC "
   ]
  },
  {
   "cell_type": "code",
   "execution_count": null,
   "metadata": {
    "collapsed": true
   },
   "outputs": [],
   "source": [
    "bedtools nuc -fi  ~/references/Myotis_Lucifugus2.0/Myotis_lucifugus.Myoluc2.0.dna_sm.toplevel.fa -bed NJ_E_26.bed > NJ_E_26_GC "
   ]
  },
  {
   "cell_type": "code",
   "execution_count": null,
   "metadata": {
    "collapsed": true
   },
   "outputs": [],
   "source": [
    "for dir in $(ls); do cd $dir; bedtools nuc -fi  ~/references/Myotis_Lucifugus2.0/Myotis_lucifugus.Myoluc2.0.dna_sm.toplevel.fa -bed \"$dir\".bed > \"$dir\"_GC; cd ..; done"
   ]
  },
  {
   "cell_type": "code",
   "execution_count": 1,
   "metadata": {
    "collapsed": false
   },
   "outputs": [
    {
     "name": "stdout",
     "output_type": "stream",
     "text": [
      "#1_usercol\t2_usercol\t3_usercol\t4_usercol\t5_usercol\t6_usercol\t7_pct_at\t8_pct_gc\t9_num_A\t10_num_C\t11_num_G\t12_num_T\t13_num_N\t14_num_oth\t15_seq_len\r\n",
      "GL429767\t0\t73\tJLK5VL1:1018:H2L52BCXY:1:1208:2403:3625/2\t28\t+\t0.506849\t0.493151\t16\t8\t28\t21\t0\t0\t73\r\n",
      "GL429767\t0\t90\tJLK5VL1:1018:H2L52BCXY:1:1106:4791:8723\t36\t-\t0.500000\t0.500000\t20\t10\t35\t25\t0\t0\t90\r\n",
      "GL429767\t0\t137\tJLK5VL1:1018:H2L52BCXY:1:1208:2403:3625/1\t28\t-\t0.518248\t0.481752\t30\t15\t51\t41\t0\t0\t137\r\n",
      "GL429767\t166\t316\tJLK5VL1:1018:H2L52BCXY:1:1108:5632:83349/1\t44\t+\t0.506667\t0.493333\t30\t24\t50\t46\t0\t0\t150\r\n",
      "GL429767\t176\t323\tJLK5VL1:1018:H2L52BCXY:1:1108:5632:83349/2\t44\t-\t0.510204\t0.489796\t30\t22\t50\t45\t0\t0\t147\r\n",
      "GL429767\t233\t320\tJLK5VL1:1018:H2L52BCXY:1:1208:10961:56417\t44\t+\t0.505747\t0.494253\t15\t11\t32\t29\t0\t0\t87\r\n",
      "GL429767\t261\t411\tJLK5VL1:1018:H2L52BCXY:1:1211:9650:37255/2\t44\t+\t0.553333\t0.446667\t34\t14\t53\t49\t0\t0\t150\r\n",
      "GL429767\t343\t479\tJLK5VL1:1018:H2L52BCXY:1:2112:8154:4303/2\t44\t+\t0.588235\t0.411765\t34\t13\t43\t46\t0\t0\t136\r\n",
      "GL429767\t420\t571\tJLK5VL1:1018:H2L52BCXY:1:2112:8154:4303/1\t44\t-\t0.476821\t0.523179\t33\t26\t53\t39\t0\t0\t151\r\n"
     ]
    }
   ],
   "source": [
    "!head /local/home/sarahgw/WGS/Sequences/hiseq_2016_12_07_complete/NJ_E_26/NJ_E_26_GC"
   ]
  },
  {
   "cell_type": "code",
   "execution_count": null,
   "metadata": {
    "collapsed": true
   },
   "outputs": [],
   "source": [
    "sed 's//,/g' /local/home/sarahgw/WGS/Sequences/hiseq_2016_12_07_complete/NJ_E_26/NJ_E_26_GC>/local/home/sarahgw/WGS/Sequences/hiseq_2016_12_07_complete/NJ_E_26/NJ_E_26_GC.csv"
   ]
  },
  {
   "cell_type": "code",
   "execution_count": 8,
   "metadata": {
    "collapsed": false
   },
   "outputs": [],
   "source": [
    "!cut -d, -f-1,8 /local/home/sarahgw/WGS/Sequences/hiseq_2016_12_07_complete/NJ_E_26/NJ_E_26_GC.csv> /local/home/sarahgw/WGS/Sequences/hiseq_2016_12_07_complete/NJ_E_26/NJ_E_26_GC_cut.csv"
   ]
  },
  {
   "cell_type": "code",
   "execution_count": null,
   "metadata": {
    "collapsed": false
   },
   "outputs": [],
   "source": [
    "sed 's//,/g' /local/home/sarahgw/WGS/Sequences/hiseq_2016_12_07_complete/NJ_E_22/NJ_E_22_GC>/local/home/sarahgw/WGS/Sequences/hiseq_2016_12_07_complete/NJ_E_22/NJ_E_22_GC.csv"
   ]
  },
  {
   "cell_type": "code",
   "execution_count": null,
   "metadata": {
    "collapsed": true
   },
   "outputs": [],
   "source": [
    "cut -d, -f-1,8 /local/home/sarahgw/WGS/Sequences/hiseq_2016_12_07_complete/NJ_E_22/NJ_E_22_GC.csv> /local/home/sarahgw/WGS/Sequences/hiseq_2016_12_07_complete/NJ_E_22/NJ_E_22_GC_cut.csv"
   ]
  },
  {
   "cell_type": "code",
   "execution_count": null,
   "metadata": {
    "collapsed": true
   },
   "outputs": [],
   "source": [
    "sed 's//,/g' /local/home/sarahgw/WGS/Sequences/hiseq_2016_12_07_complete/NJ_E_23/NJ_E_23_GC>/local/home/sarahgw/WGS/Sequences/hiseq_2016_12_07_complete/NJ_E_23/NJ_E_23_GC.csv"
   ]
  },
  {
   "cell_type": "code",
   "execution_count": null,
   "metadata": {
    "collapsed": true
   },
   "outputs": [],
   "source": [
    "cut -d, -f-1,8 /local/home/sarahgw/WGS/Sequences/hiseq_2016_12_07_complete/NJ_E_23/NJ_E_23_GC.csv> /local/home/sarahgw/WGS/Sequences/hiseq_2016_12_07_complete/NJ_E_23/NJ_E_23_GC_cut.csv"
   ]
  },
  {
   "cell_type": "code",
   "execution_count": null,
   "metadata": {
    "collapsed": true
   },
   "outputs": [],
   "source": [
    "sed 's//,/g' /local/home/sarahgw/WGS/Sequences/hiseq_2016_12_07_complete/NJ_E_24/NJ_E_24_GC>/local/home/sarahgw/WGS/Sequences/hiseq_2016_12_07_complete/NJ_E_24/NJ_E_24_GC.csv"
   ]
  },
  {
   "cell_type": "code",
   "execution_count": null,
   "metadata": {
    "collapsed": true
   },
   "outputs": [],
   "source": [
    "cut -d, -f-1,8 /local/home/sarahgw/WGS/Sequences/hiseq_2016_12_07_complete/NJ_E_24/NJ_E_24_GC.csv> /local/home/sarahgw/WGS/Sequences/hiseq_2016_12_07_complete/NJ_E_24/NJ_E_24_GC_cut.csv"
   ]
  },
  {
   "cell_type": "code",
   "execution_count": null,
   "metadata": {
    "collapsed": true
   },
   "outputs": [],
   "source": [
    "sed 's//,/g' /local/home/sarahgw/WGS/Sequences/hiseq_2016_12_07_complete/NJ_E_25/NJ_E_25_GC>/local/home/sarahgw/WGS/Sequences/hiseq_2016_12_07_complete/NJ_E_25/NJ_E_25_GC.csv"
   ]
  },
  {
   "cell_type": "code",
   "execution_count": null,
   "metadata": {
    "collapsed": true
   },
   "outputs": [],
   "source": [
    "cut -d, -f-1,8 /local/home/sarahgw/WGS/Sequences/hiseq_2016_12_07_complete/NJ_E_25/NJ_E_25_GC.csv> /local/home/sarahgw/WGS/Sequences/hiseq_2016_12_07_complete/NJ_E_25/NJ_E_25_GC_cut.csv"
   ]
  },
  {
   "cell_type": "code",
   "execution_count": null,
   "metadata": {
    "collapsed": true
   },
   "outputs": [],
   "source": [
    "sed 's//,/g' /local/home/sarahgw/WGS/Sequences/hiseq_2016_12_07_complete/NJ_E_27/NJ_E_27_GC>/local/home/sarahgw/WGS/Sequences/hiseq_2016_12_07_complete/NJ_E_27/NJ_E_27_GC.csv"
   ]
  },
  {
   "cell_type": "code",
   "execution_count": null,
   "metadata": {
    "collapsed": true
   },
   "outputs": [],
   "source": [
    "cut -d, -f-1,8 /local/home/sarahgw/WGS/Sequences/hiseq_2016_12_07_complete/NJ_E_27/NJ_E_27_GC.csv> /local/home/sarahgw/WGS/Sequences/hiseq_2016_12_07_complete/NJ_E_27/NJ_E_27_GC_cut.csv"
   ]
  },
  {
   "cell_type": "code",
   "execution_count": null,
   "metadata": {
    "collapsed": true
   },
   "outputs": [],
   "source": [
    "sed 's//,/g' /local/home/sarahgw/WGS/Sequences/hiseq_2016_12_07_complete/NJ_E_28/NJ_E_28_GC>/local/home/sarahgw/WGS/Sequences/hiseq_2016_12_07_complete/NJ_E_28/NJ_E_28_GC.csv"
   ]
  },
  {
   "cell_type": "code",
   "execution_count": null,
   "metadata": {
    "collapsed": true
   },
   "outputs": [],
   "source": [
    "cut -d, -f-1,8 /local/home/sarahgw/WGS/Sequences/hiseq_2016_12_07_complete/NJ_E_28/NJ_E_28_GC.csv> /local/home/sarahgw/WGS/Sequences/hiseq_2016_12_07_complete/NJ_E_28/NJ_E_28_GC_cut.csv"
   ]
  },
  {
   "cell_type": "code",
   "execution_count": null,
   "metadata": {
    "collapsed": true
   },
   "outputs": [],
   "source": [
    "sed 's//,/g' /local/home/sarahgw/WGS/Sequences/hiseq_2016_12_07_complete/NJ_E_29/NJ_E_29_GC>/local/home/sarahgw/WGS/Sequences/hiseq_2016_12_07_complete/NJ_E_29/NJ_E_29_GC.csv"
   ]
  },
  {
   "cell_type": "code",
   "execution_count": null,
   "metadata": {
    "collapsed": true
   },
   "outputs": [],
   "source": [
    "cut -d, -f-1,8 /local/home/sarahgw/WGS/Sequences/hiseq_2016_12_07_complete/NJ_E_29/NJ_E_29_GC.csv> /local/home/sarahgw/WGS/Sequences/hiseq_2016_12_07_complete/NJ_E_29/NJ_E_29_GC_cut.csv"
   ]
  },
  {
   "cell_type": "code",
   "execution_count": null,
   "metadata": {
    "collapsed": true
   },
   "outputs": [],
   "source": [
    "sed 's//,/g' /local/home/sarahgw/WGS/Sequences/hiseq_2016_12_07_complete/NJ_E_30/NJ_E_30_GC>/local/home/sarahgw/WGS/Sequences/hiseq_2016_12_07_complete/NJ_E_30/NJ_E_30_GC.csv"
   ]
  },
  {
   "cell_type": "code",
   "execution_count": null,
   "metadata": {
    "collapsed": true
   },
   "outputs": [],
   "source": [
    "cut -d, -f-1,8 /local/home/sarahgw/WGS/Sequences/hiseq_2016_12_07_complete/NJ_E_30/NJ_E_30_GC.csv> /local/home/sarahgw/WGS/Sequences/hiseq_2016_12_07_complete/NJ_E_30/NJ_E_30_GC_cut.csv"
   ]
  },
  {
   "cell_type": "code",
   "execution_count": null,
   "metadata": {
    "collapsed": true
   },
   "outputs": [],
   "source": [
    "sed 's//,/g' /local/home/sarahgw/WGS/Sequences/hiseq_2016_12_07_complete/NJ_U_01/NJ_U_01_GC>/local/home/sarahgw/WGS/Sequences/hiseq_2016_12_07_complete/NJ_U_01/NJ_U_01_GC.csv"
   ]
  },
  {
   "cell_type": "code",
   "execution_count": null,
   "metadata": {
    "collapsed": true
   },
   "outputs": [],
   "source": [
    "cut -d, -f-1,8 /local/home/sarahgw/WGS/Sequences/hiseq_2016_12_07_complete/NJ_U_01/NJ_U_01_GC.csv> /local/home/sarahgw/WGS/Sequences/hiseq_2016_12_07_complete/NJ_U_01/NJ_U_01_GC_cut.csv"
   ]
  },
  {
   "cell_type": "code",
   "execution_count": null,
   "metadata": {
    "collapsed": true
   },
   "outputs": [],
   "source": [
    "sed 's//,/g' /local/home/sarahgw/WGS/Sequences/hiseq_2016_12_07_complete/NJ_U_02/NJ_U_02_GC>/local/home/sarahgw/WGS/Sequences/hiseq_2016_12_07_complete/NJ_U_02/NJ_U_02_GC.csv"
   ]
  },
  {
   "cell_type": "code",
   "execution_count": null,
   "metadata": {
    "collapsed": true
   },
   "outputs": [],
   "source": [
    "cut -d, -f-1,8 /local/home/sarahgw/WGS/Sequences/hiseq_2016_12_07_complete/NJ_U_02/NJ_U_02_GC.csv> /local/home/sarahgw/WGS/Sequences/hiseq_2016_12_07_complete/NJ_U_02/NJ_U_02_GC_cut.csv"
   ]
  },
  {
   "cell_type": "code",
   "execution_count": null,
   "metadata": {
    "collapsed": true
   },
   "outputs": [],
   "source": [
    "sed 's//,/g' /local/home/sarahgw/WGS/Sequences/hiseq_2016_12_07_complete/NJ_U_03/NJ_U_03_GC>/local/home/sarahgw/WGS/Sequences/hiseq_2016_12_07_complete/NJ_U_03/NJ_U_03_GC.csv"
   ]
  },
  {
   "cell_type": "code",
   "execution_count": null,
   "metadata": {
    "collapsed": true
   },
   "outputs": [],
   "source": [
    "cut -d, -f-1,8 /local/home/sarahgw/WGS/Sequences/hiseq_2016_12_07_complete/NJ_U_03/NJ_U_03_GC.csv> /local/home/sarahgw/WGS/Sequences/hiseq_2016_12_07_complete/NJ_U_03/NJ_U_03_GC_cut.csv"
   ]
  },
  {
   "cell_type": "code",
   "execution_count": null,
   "metadata": {
    "collapsed": true
   },
   "outputs": [],
   "source": [
    "sed 's//,/g' /local/home/sarahgw/WGS/Sequences/hiseq_2016_12_07_complete/NJ_U_04/NJ_U_04_GC>/local/home/sarahgw/WGS/Sequences/hiseq_2016_12_07_complete/NJ_U_04/NJ_U_04_GC.csv"
   ]
  },
  {
   "cell_type": "code",
   "execution_count": null,
   "metadata": {
    "collapsed": true
   },
   "outputs": [],
   "source": [
    "cut -d, -f-1,8 /local/home/sarahgw/WGS/Sequences/hiseq_2016_12_07_complete/NJ_U_04/NJ_U_04_GC.csv> /local/home/sarahgw/WGS/Sequences/hiseq_2016_12_07_complete/NJ_U_04/NJ_U_04_GC_cut.csv"
   ]
  },
  {
   "cell_type": "code",
   "execution_count": null,
   "metadata": {
    "collapsed": true
   },
   "outputs": [],
   "source": [
    "sed 's//,/g' /local/home/sarahgw/WGS/Sequences/hiseq_2016_12_07_complete/NJ_U_05/NJ_U_05_GC>/local/home/sarahgw/WGS/Sequences/hiseq_2016_12_07_complete/NJ_U_05/NJ_U_05_GC.csv"
   ]
  },
  {
   "cell_type": "code",
   "execution_count": null,
   "metadata": {
    "collapsed": true
   },
   "outputs": [],
   "source": [
    "cut -d, -f-1,8 /local/home/sarahgw/WGS/Sequences/hiseq_2016_12_07_complete/NJ_U_05/NJ_U_05_GC.csv> /local/home/sarahgw/WGS/Sequences/hiseq_2016_12_07_complete/NJ_U_05/NJ_U_05_GC_cut.csv"
   ]
  },
  {
   "cell_type": "code",
   "execution_count": null,
   "metadata": {
    "collapsed": true
   },
   "outputs": [],
   "source": [
    "sed 's//,/g' /local/home/sarahgw/WGS/Sequences/hiseq_2016_12_07_complete/NJ_U_06/NJ_U_06_GC>/local/home/sarahgw/WGS/Sequences/hiseq_2016_12_07_complete/NJ_U_06/NJ_U_06_GC.csv"
   ]
  },
  {
   "cell_type": "code",
   "execution_count": null,
   "metadata": {
    "collapsed": true
   },
   "outputs": [],
   "source": [
    "cut -d, -f-1,8 /local/home/sarahgw/WGS/Sequences/hiseq_2016_12_07_complete/NJ_U_06/NJ_U_06_GC.csv> /local/home/sarahgw/WGS/Sequences/hiseq_2016_12_07_complete/NJ_U_06/NJ_U_06_GC_cut.csv"
   ]
  },
  {
   "cell_type": "code",
   "execution_count": null,
   "metadata": {
    "collapsed": true
   },
   "outputs": [],
   "source": [
    "sed 's//,/g' /local/home/sarahgw/WGS/Sequences/hiseq_2016_12_07_complete/NJ_U_07/NJ_U_07_GC>/local/home/sarahgw/WGS/Sequences/hiseq_2016_12_07_complete/NJ_U_07/NJ_U_07_GC.csv"
   ]
  },
  {
   "cell_type": "code",
   "execution_count": null,
   "metadata": {
    "collapsed": true
   },
   "outputs": [],
   "source": [
    "cut -d, -f-1,8 /local/home/sarahgw/WGS/Sequences/hiseq_2016_12_07_complete/NJ_U_07/NJ_U_07_GC.csv> /local/home/sarahgw/WGS/Sequences/hiseq_2016_12_07_complete/NJ_U_07/NJ_U_07_GC_cut.csv"
   ]
  },
  {
   "cell_type": "code",
   "execution_count": null,
   "metadata": {
    "collapsed": true
   },
   "outputs": [],
   "source": [
    "sed 's//,/g' /local/home/sarahgw/WGS/Sequences/hiseq_2016_12_07_complete/NJ_U_08/NJ_U_08_GC>/local/home/sarahgw/WGS/Sequences/hiseq_2016_12_07_complete/NJ_U_08/NJ_U_08_GC.csv"
   ]
  },
  {
   "cell_type": "code",
   "execution_count": null,
   "metadata": {
    "collapsed": true
   },
   "outputs": [],
   "source": [
    "cut -d, -f-1,8 /local/home/sarahgw/WGS/Sequences/hiseq_2016_12_07_complete/NJ_U_08/NJ_U_08_GC.csv> /local/home/sarahgw/WGS/Sequences/hiseq_2016_12_07_complete/NJ_U_08/NJ_U_08_GC_cut.csv"
   ]
  },
  {
   "cell_type": "code",
   "execution_count": null,
   "metadata": {
    "collapsed": true
   },
   "outputs": [],
   "source": [
    "sed 's//,/g' /local/home/sarahgw/WGS/Sequences/hiseq_2016_12_07_complete/NJ_U_09/NJ_U_09_GC>/local/home/sarahgw/WGS/Sequences/hiseq_2016_12_07_complete/NJ_U_09/NJ_U_09_GC.csv"
   ]
  },
  {
   "cell_type": "code",
   "execution_count": null,
   "metadata": {
    "collapsed": true
   },
   "outputs": [],
   "source": [
    "cut -d, -f-1,8 /local/home/sarahgw/WGS/Sequences/hiseq_2016_12_07_complete/NJ_U_09/NJ_U_09_GC.csv> /local/home/sarahgw/WGS/Sequences/hiseq_2016_12_07_complete/NJ_U_09/NJ_U_09_GC_cut.csv"
   ]
  },
  {
   "cell_type": "code",
   "execution_count": null,
   "metadata": {
    "collapsed": true
   },
   "outputs": [],
   "source": [
    "sed 's//,/g' /local/home/sarahgw/WGS/Sequences/hiseq_2016_12_07_complete/NJ_U_10/NJ_U_10_GC>/local/home/sarahgw/WGS/Sequences/hiseq_2016_12_07_complete/NJ_U_10/NJ_U_10_GC.csv"
   ]
  },
  {
   "cell_type": "code",
   "execution_count": null,
   "metadata": {
    "collapsed": true
   },
   "outputs": [],
   "source": [
    "cut -d, -f-1,8 /local/home/sarahgw/WGS/Sequences/hiseq_2016_12_07_complete/NJ_U_10/NJ_U_10_GC.csv> /local/home/sarahgw/WGS/Sequences/hiseq_2016_12_07_complete/NJ_U_10/NJ_U_10_GC_cut.csv"
   ]
  },
  {
   "cell_type": "code",
   "execution_count": null,
   "metadata": {
    "collapsed": true
   },
   "outputs": [],
   "source": [
    "sed 's//,/g' /local/home/sarahgw/WGS/Sequences/hiseq_2016_12_07_complete/NJ_U_11/NJ_U_11_GC>/local/home/sarahgw/WGS/Sequences/hiseq_2016_12_07_complete/NJ_U_11/NJ_U_11_GC.csv"
   ]
  },
  {
   "cell_type": "code",
   "execution_count": null,
   "metadata": {
    "collapsed": true
   },
   "outputs": [],
   "source": [
    "cut -d, -f-1,8 /local/home/sarahgw/WGS/Sequences/hiseq_2016_12_07_complete/NJ_U_11/NJ_U_11_GC.csv> /local/home/sarahgw/WGS/Sequences/hiseq_2016_12_07_complete/NJ_U_11/NJ_U_11_GC_cut.csv"
   ]
  },
  {
   "cell_type": "code",
   "execution_count": null,
   "metadata": {
    "collapsed": true
   },
   "outputs": [],
   "source": [
    "sed 's//,/g' /local/home/sarahgw/WGS/Sequences/hiseq_2016_12_07_complete/NJ_U_12/NJ_U_12_GC>/local/home/sarahgw/WGS/Sequences/hiseq_2016_12_07_complete/NJ_U_12/NJ_U_12_GC.csv"
   ]
  },
  {
   "cell_type": "code",
   "execution_count": null,
   "metadata": {
    "collapsed": true
   },
   "outputs": [],
   "source": [
    "cut -d, -f-1,8 /local/home/sarahgw/WGS/Sequences/hiseq_2016_12_07_complete/NJ_U_12/NJ_U_12_GC.csv> /local/home/sarahgw/WGS/Sequences/hiseq_2016_12_07_complete/NJ_U_12/NJ_U_12_GC_cut.csv"
   ]
  },
  {
   "cell_type": "code",
   "execution_count": null,
   "metadata": {
    "collapsed": true
   },
   "outputs": [],
   "source": [
    "sed 's//,/g' /local/home/sarahgw/WGS/Sequences/hiseq_2016_12_07_complete/NJ_U_15/NJ_U_15_GC>/local/home/sarahgw/WGS/Sequences/hiseq_2016_12_07_complete/NJ_U_15/NJ_U_15_GC.csv"
   ]
  },
  {
   "cell_type": "code",
   "execution_count": null,
   "metadata": {
    "collapsed": true
   },
   "outputs": [],
   "source": [
    "cut -d, -f-1,8 /local/home/sarahgw/WGS/Sequences/hiseq_2016_12_07_complete/NJ_U_15/NJ_U_15_GC.csv> /local/home/sarahgw/WGS/Sequences/hiseq_2016_12_07_complete/NJ_U_15/NJ_U_15_GC_cut.csv"
   ]
  },
  {
   "cell_type": "code",
   "execution_count": null,
   "metadata": {
    "collapsed": true
   },
   "outputs": [],
   "source": [
    "sed 's//,/g' /local/home/sarahgw/WGS/Sequences/hiseq_2016_12_07_complete/NJ_U_16/NJ_U_16_GC>/local/home/sarahgw/WGS/Sequences/hiseq_2016_12_07_complete/NJ_U_16/NJ_U_16_GC.csv"
   ]
  },
  {
   "cell_type": "code",
   "execution_count": null,
   "metadata": {
    "collapsed": true
   },
   "outputs": [],
   "source": [
    "cut -d, -f-1,8 /local/home/sarahgw/WGS/Sequences/hiseq_2016_12_07_complete/NJ_U_16/NJ_U_16_GC.csv> /local/home/sarahgw/WGS/Sequences/hiseq_2016_12_07_complete/NJ_U_16/NJ_U_16_GC_cut.csv"
   ]
  },
  {
   "cell_type": "code",
   "execution_count": 1,
   "metadata": {
    "collapsed": true
   },
   "outputs": [],
   "source": [
    "from Bio import SeqIO"
   ]
  },
  {
   "cell_type": "code",
   "execution_count": 2,
   "metadata": {
    "collapsed": true
   },
   "outputs": [],
   "source": [
    "from Bio.SeqUtils import GC"
   ]
  },
  {
   "cell_type": "code",
   "execution_count": 63,
   "metadata": {
    "collapsed": false
   },
   "outputs": [],
   "source": [
    "f = open(\"/local/home/sarahgw/references/Myotis_Lucifugus2.0/ref_GC.txt\",'w') "
   ]
  },
  {
   "cell_type": "code",
   "execution_count": 64,
   "metadata": {
    "collapsed": false
   },
   "outputs": [],
   "source": [
    "for rec in SeqIO.parse(\"/local/home/sarahgw/references/Myotis_Lucifugus2.0/Myotis_lucifugus.Myoluc2.0.dna_sm.toplevel.fa\", \"fasta\"):\n",
    "    f.write('{}\\n'.format(GC(rec.seq)))"
   ]
  },
  {
   "cell_type": "code",
   "execution_count": 65,
   "metadata": {
    "collapsed": false
   },
   "outputs": [
    {
     "name": "stdout",
     "output_type": "stream",
     "text": [
      "39.0326049902\r\n",
      "39.1025718122\r\n",
      "39.2424803703\r\n",
      "41.0889611316\r\n",
      "38.968533213\r\n",
      "39.800591983\r\n",
      "39.9837454903\r\n",
      "39.569981645\r\n",
      "41.7638482827\r\n",
      "37.7972187809\r\n"
     ]
    }
   ],
   "source": [
    "!head /local/home/sarahgw/references/Myotis_Lucifugus2.0/ref_GC.txt"
   ]
  },
  {
   "cell_type": "code",
   "execution_count": 66,
   "metadata": {
    "collapsed": false
   },
   "outputs": [
    {
     "name": "stdout",
     "output_type": "stream",
     "text": [
      "11518 /local/home/sarahgw/references/Myotis_Lucifugus2.0/ref_GC.txt\r\n"
     ]
    }
   ],
   "source": [
    "!wc -l /local/home/sarahgw/references/Myotis_Lucifugus2.0/ref_GC.txt"
   ]
  },
  {
   "cell_type": "code",
   "execution_count": 67,
   "metadata": {
    "collapsed": true
   },
   "outputs": [],
   "source": [
    "!grep '>' /local/home/sarahgw/references/Myotis_Lucifugus2.0/Myotis_lucifugus.Myoluc2.0.dna_sm.toplevel.fa >  /local/home/sarahgw/references/Myotis_Lucifugus2.0/Scaffolds.txt"
   ]
  },
  {
   "cell_type": "code",
   "execution_count": 68,
   "metadata": {
    "collapsed": false
   },
   "outputs": [
    {
     "name": "stdout",
     "output_type": "stream",
     "text": [
      ">GL429767 dna_sm:scaffold scaffold:Myoluc2.0:GL429767:1:64990205:1 REF\r\n",
      ">GL429768 dna_sm:scaffold scaffold:Myoluc2.0:GL429768:1:39494369:1 REF\r\n",
      ">GL429769 dna_sm:scaffold scaffold:Myoluc2.0:GL429769:1:32863254:1 REF\r\n",
      ">GL429770 dna_sm:scaffold scaffold:Myoluc2.0:GL429770:1:30916457:1 REF\r\n",
      ">GL429771 dna_sm:scaffold scaffold:Myoluc2.0:GL429771:1:22519077:1 REF\r\n",
      ">GL429772 dna_sm:scaffold scaffold:Myoluc2.0:GL429772:1:20945196:1 REF\r\n",
      ">GL429773 dna_sm:scaffold scaffold:Myoluc2.0:GL429773:1:20779464:1 REF\r\n",
      ">GL429774 dna_sm:scaffold scaffold:Myoluc2.0:GL429774:1:20299087:1 REF\r\n",
      ">GL429775 dna_sm:scaffold scaffold:Myoluc2.0:GL429775:1:18579217:1 REF\r\n",
      ">GL429776 dna_sm:scaffold scaffold:Myoluc2.0:GL429776:1:16450340:1 REF\r\n"
     ]
    }
   ],
   "source": [
    "!head /local/home/sarahgw/references/Myotis_Lucifugus2.0/Scaffolds.txt"
   ]
  },
  {
   "cell_type": "code",
   "execution_count": null,
   "metadata": {
    "collapsed": true
   },
   "outputs": [],
   "source": [
    "cut -d  -f1- /local/home/sarahgw/references/Myotis_Lucifugus2.0/Scaffolds.txt > /local/home/sarahgw/references/Myotis_Lucifugus2.0/Scaffolds2.txt"
   ]
  },
  {
   "cell_type": "code",
   "execution_count": 71,
   "metadata": {
    "collapsed": false
   },
   "outputs": [
    {
     "name": "stdout",
     "output_type": "stream",
     "text": [
      ">GL429767\r\n",
      ">GL429768\r\n",
      ">GL429769\r\n",
      ">GL429770\r\n",
      ">GL429771\r\n",
      ">GL429772\r\n",
      ">GL429773\r\n",
      ">GL429774\r\n",
      ">GL429775\r\n",
      ">GL429776\r\n"
     ]
    }
   ],
   "source": [
    "!head /local/home/sarahgw/references/Myotis_Lucifugus2.0/Scaffolds2.txt"
   ]
  },
  {
   "cell_type": "code",
   "execution_count": 73,
   "metadata": {
    "collapsed": false
   },
   "outputs": [],
   "source": [
    "!sed 's/>//g' /local/home/sarahgw/references/Myotis_Lucifugus2.0/Scaffolds2.txt > /local/home/sarahgw/references/Myotis_Lucifugus2.0/Scaffolds3.txt"
   ]
  },
  {
   "cell_type": "code",
   "execution_count": 74,
   "metadata": {
    "collapsed": false
   },
   "outputs": [
    {
     "name": "stdout",
     "output_type": "stream",
     "text": [
      "GL429767\r\n",
      "GL429768\r\n",
      "GL429769\r\n",
      "GL429770\r\n",
      "GL429771\r\n",
      "GL429772\r\n",
      "GL429773\r\n",
      "GL429774\r\n",
      "GL429775\r\n",
      "GL429776\r\n"
     ]
    }
   ],
   "source": [
    "!head /local/home/sarahgw/references/Myotis_Lucifugus2.0/Scaffolds3.txt"
   ]
  },
  {
   "cell_type": "code",
   "execution_count": 75,
   "metadata": {
    "collapsed": true
   },
   "outputs": [],
   "source": [
    "!paste /local/home/sarahgw/references/Myotis_Lucifugus2.0/Scaffolds3.txt /local/home/sarahgw/references/Myotis_Lucifugus2.0/ref_GC.txt > /local/home/sarahgw/references/Myotis_Lucifugus2.0/ref_GC_scaffold.txt"
   ]
  },
  {
   "cell_type": "code",
   "execution_count": 76,
   "metadata": {
    "collapsed": false
   },
   "outputs": [
    {
     "name": "stdout",
     "output_type": "stream",
     "text": [
      "GL429767\t39.0326049902\r\n",
      "GL429768\t39.1025718122\r\n",
      "GL429769\t39.2424803703\r\n",
      "GL429770\t41.0889611316\r\n",
      "GL429771\t38.968533213\r\n",
      "GL429772\t39.800591983\r\n",
      "GL429773\t39.9837454903\r\n",
      "GL429774\t39.569981645\r\n",
      "GL429775\t41.7638482827\r\n",
      "GL429776\t37.7972187809\r\n"
     ]
    }
   ],
   "source": [
    "!head /local/home/sarahgw/references/Myotis_Lucifugus2.0/ref_GC_scaffold.txt"
   ]
  },
  {
   "cell_type": "code",
   "execution_count": null,
   "metadata": {
    "collapsed": true
   },
   "outputs": [],
   "source": [
    "sed 's//,g' /local/home/sarahgw/references/Myotis_Lucifugus2.0/ref_GC_scaffold.txt > /local/home/sarahgw/references/Myotis_Lucifugus2.0/ref_GC_scaffold.csv"
   ]
  },
  {
   "cell_type": "markdown",
   "metadata": {},
   "source": [
    "Base Coverage"
   ]
  },
  {
   "cell_type": "code",
   "execution_count": null,
   "metadata": {
    "collapsed": true
   },
   "outputs": [],
   "source": [
    "</local/home/sarahgw/WGS/Sequences/hiseq_2016_12_07_complete/BaseCoverage_all0nameC.txt cut -d',' -f1 | sort -n | uniq -c >/local/home/sarahgw/WGS/Sequences/hiseq_2016_12_07_complete/BaseCoverage_all0num.txt"
   ]
  },
  {
   "cell_type": "code",
   "execution_count": null,
   "metadata": {
    "collapsed": true
   },
   "outputs": [],
   "source": [
    "awk -F, '{for(i=1;i<=NF;i++) if($i>1) {$i=\"replacement\"}}1' OFS=, file"
   ]
  }
 ],
 "metadata": {
  "anaconda-cloud": {},
  "kernelspec": {
   "display_name": "Python [conda root]",
   "language": "python",
   "name": "conda-root-py"
  },
  "language_info": {
   "codemirror_mode": {
    "name": "ipython",
    "version": 2
   },
   "file_extension": ".py",
   "mimetype": "text/x-python",
   "name": "python",
   "nbconvert_exporter": "python",
   "pygments_lexer": "ipython2",
   "version": "2.7.12"
  }
 },
 "nbformat": 4,
 "nbformat_minor": 1
}
