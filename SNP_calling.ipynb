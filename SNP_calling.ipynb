{
 "cells": [
  {
   "cell_type": "code",
   "execution_count": null,
   "metadata": {
    "collapsed": true
   },
   "outputs": [],
   "source": [
    "find $(pwd) -name *_paired_marked_dupes.bam > paired_dupes_bam.filelist"
   ]
  },
  {
   "cell_type": "code",
   "execution_count": null,
   "metadata": {
    "collapsed": true
   },
   "outputs": [],
   "source": [
    "./angsd -b paired_dupes_bam.filelist -GL 1 -doMajorMinor 1 -doMaf 2 -P 5"
   ]
  },
  {
   "cell_type": "code",
   "execution_count": null,
   "metadata": {
    "collapsed": true
   },
   "outputs": [],
   "source": [
    "~/angsd/angsd -b paired_dupes_bam.filelist -GL 1 -doMajorMinor 1 -doMaf 2 -P 20"
   ]
  },
  {
   "cell_type": "code",
   "execution_count": null,
   "metadata": {
    "collapsed": true
   },
   "outputs": [],
   "source": [
    "Problem spawning thread\n",
    "Resource temporarily unavailable"
   ]
  },
  {
   "cell_type": "code",
   "execution_count": null,
   "metadata": {
    "collapsed": true
   },
   "outputs": [],
   "source": [
    "~/angsd/angsd -b paired_dupes_bam.filelist -GL 1 -doMajorMinor 1 -doMaf 2 -P 15"
   ]
  },
  {
   "cell_type": "code",
   "execution_count": null,
   "metadata": {
    "collapsed": true
   },
   "outputs": [],
   "source": [
    "    -> Mon Jan  9 11:26:36 2017\n",
    "        -> Arguments and parameters for all analysis are located in .arg file\n",
    "        [ALL done] cpu-time used =  370464.94 sec\n",
    "        [ALL done] walltime used =  44673.00 sec"
   ]
  },
  {
   "cell_type": "code",
   "execution_count": null,
   "metadata": {
    "collapsed": false
   },
   "outputs": [],
   "source": [
    "wc -l /local/home/sarahgw/WGS/SNPS/12_07/angsdout2.mafs.gz"
   ]
  },
  {
   "cell_type": "markdown",
   "metadata": {},
   "source": [
    "21192344 angsdout2.mafs.gz"
   ]
  },
  {
   "cell_type": "code",
   "execution_count": null,
   "metadata": {
    "collapsed": true
   },
   "outputs": [],
   "source": [
    "head /local/home/sarahgw/WGS/SNPS/12_07/angsdout2.mafs.gz"
   ]
  },
  {
   "cell_type": "markdown",
   "metadata": {},
   "source": [
    "chromo  position        major   minor   unknownEM       nInd\n",
    "GL429767        1       A       C       0.000006        10\n",
    "GL429767        2       G       A       0.000006        10\n",
    "GL429767        3       T       A       0.000006        10\n",
    "GL429767        4       C       A       0.000006        10\n",
    "GL429767        5       C       A       0.000006        10\n",
    "GL429767        6       T       A       0.000006        10\n",
    "GL429767        7       T       A       0.000006        10\n",
    "GL429767        8       T       A       0.000003        11\n",
    "GL429767        9       T       A       0.000004        12\n",
    "GL429767        10      T       A       0.000004        12\n",
    "GL429767        11      G       A       0.000004        12\n",
    "GL429767        12      T       A       0.000004        12\n",
    "GL429767        13      G       A       0.000004        12\n",
    "GL429767        14      G       A       0.000004        12\n",
    "GL429767        15      T       A       0.000005        12\n",
    "GL429767        16      A       C       0.000005        12\n",
    "GL429767        17      C       A       0.000005        12\n",
    "GL429767        18      T       A       0.000005        12\n",
    "GL429767        19      G       A       0.000005        12\n",
    "GL429767        20      T       A       0.000005        12\n",
    "GL429767        21      C       A       0.000005        12\n",
    "GL429767        22      T       A       0.000005        12\n",
    "GL429767        23      G       A       0.000005        12\n",
    "GL429767        24      C       A       0.000005        12\n",
    "GL429767        25      A       C       0.000005        12\n",
    "GL429767        26      G       A       0.000005        12\n",
    "GL429767        27      A       C       0.000005        12\n",
    "GL429767        28      G       A       0.000005        12\n",
    "GL429767        29      G       A       0.000005        12\n",
    "GL429767        30      A       C       0.000005        12"
   ]
  },
  {
   "cell_type": "code",
   "execution_count": null,
   "metadata": {
    "collapsed": true
   },
   "outputs": [],
   "source": [
    "find $(pwd) -name *U_**_pairedplus_marked_dupes.bam > pairedplus_U_dupes_bam.filelist "
   ]
  },
  {
   "cell_type": "code",
   "execution_count": 1,
   "metadata": {
    "collapsed": false
   },
   "outputs": [
    {
     "name": "stdout",
     "output_type": "stream",
     "text": [
      "/local/home/sarahgw/WGS/Sequences/hiseq_2016_12_07_complete/NJ_E_30/NJ_E_30_pairedplus_marked_dupes.bam\r\n",
      "/local/home/sarahgw/WGS/Sequences/hiseq_2016_12_07_complete/NJ_E_25/NJ_E_25_pairedplus_marked_dupes.bam\r\n",
      "/local/home/sarahgw/WGS/Sequences/hiseq_2016_12_07_complete/NJ_E_27/NJ_E_27_pairedplus_marked_dupes.bam\r\n",
      "/local/home/sarahgw/WGS/Sequences/hiseq_2016_12_07_complete/NJ_E_29/NJ_E_29_pairedplus_marked_dupes.bam\r\n",
      "/local/home/sarahgw/WGS/Sequences/hiseq_2016_12_07_complete/NJ_E_24/NJ_E_24_pairedplus_marked_dupes.bam\r\n",
      "/local/home/sarahgw/WGS/Sequences/hiseq_2016_12_07_complete/NJ_E_23/NJ_E_23_pairedplus_marked_dupes.bam\r\n",
      "/local/home/sarahgw/WGS/Sequences/hiseq_2016_12_07_complete/NJ_E_22/NJ_E_22_pairedplus_marked_dupes.bam\r\n",
      "/local/home/sarahgw/WGS/Sequences/hiseq_2016_12_07_complete/NJ_E_28/NJ_E_28_pairedplus_marked_dupes.bam\r\n",
      "/local/home/sarahgw/WGS/Sequences/hiseq_2016_12_07_complete/NJ_E_26/NJ_E_26_pairedplus_marked_dupes.bam\r\n"
     ]
    }
   ],
   "source": [
    "!head /local/home/sarahgw/WGS/SNPS/12_07/pairedplus_E_dupes_bam.filelist"
   ]
  },
  {
   "cell_type": "code",
   "execution_count": null,
   "metadata": {
    "collapsed": true
   },
   "outputs": [],
   "source": [
    "find $(pwd) -name *E_**_pairedplus_marked_dupes.bam > pairedplus_E_dupes_bam.filelist "
   ]
  },
  {
   "cell_type": "code",
   "execution_count": 2,
   "metadata": {
    "collapsed": false
   },
   "outputs": [
    {
     "name": "stdout",
     "output_type": "stream",
     "text": [
      "/local/home/sarahgw/WGS/Sequences/hiseq_2016_12_07_complete/NJ_U_12/NJ_U_12_pairedplus_marked_dupes.bam\r\n",
      "/local/home/sarahgw/WGS/Sequences/hiseq_2016_12_07_complete/NJ_U_08/NJ_U_08_pairedplus_marked_dupes.bam\r\n",
      "/local/home/sarahgw/WGS/Sequences/hiseq_2016_12_07_complete/NJ_U_01/NJ_U_01_pairedplus_marked_dupes.bam\r\n",
      "/local/home/sarahgw/WGS/Sequences/hiseq_2016_12_07_complete/NJ_U_14/NJ_U_14_pairedplus_marked_dupes.bam\r\n",
      "/local/home/sarahgw/WGS/Sequences/hiseq_2016_12_07_complete/NJ_U_16/NJ_U_16_pairedplus_marked_dupes.bam\r\n",
      "/local/home/sarahgw/WGS/Sequences/hiseq_2016_12_07_complete/NJ_U_07/NJ_U_07_pairedplus_marked_dupes.bam\r\n",
      "/local/home/sarahgw/WGS/Sequences/hiseq_2016_12_07_complete/NJ_U_15/NJ_U_15_pairedplus_marked_dupes.bam\r\n",
      "/local/home/sarahgw/WGS/Sequences/hiseq_2016_12_07_complete/NJ_U_09/NJ_U_09_pairedplus_marked_dupes.bam\r\n",
      "/local/home/sarahgw/WGS/Sequences/hiseq_2016_12_07_complete/NJ_U_11/NJ_U_11_pairedplus_marked_dupes.bam\r\n",
      "/local/home/sarahgw/WGS/Sequences/hiseq_2016_12_07_complete/NJ_U_10/NJ_U_10_pairedplus_marked_dupes.bam\r\n"
     ]
    }
   ],
   "source": [
    "!head /local/home/sarahgw/WGS/SNPS/12_07/pairedplus_U_dupes_bam.filelist"
   ]
  },
  {
   "cell_type": "markdown",
   "metadata": {},
   "source": [
    "I'm still confused about this, should I call all SNPs together, or separate populations and then call snps for each population. I do see some studies where they give the number of snps shared between the populations and the number that are unique for each population. But wouldn't you lose information about loci that are different between the two populations? I'm probably being naive in thinking that we would see anything like that. So calling snps in each pop. "
   ]
  },
  {
   "cell_type": "code",
   "execution_count": null,
   "metadata": {
    "collapsed": true
   },
   "outputs": [],
   "source": [
    "~/angsd/angsd -b pairedplus_U_dupes_bam.filelist -GL 1 -doMajorMinor 1 -doMaf 2 -P 10 -SNP_pval 1e-6 -out angsdout_pairedplus_U"
   ]
  },
  {
   "cell_type": "code",
   "execution_count": 1,
   "metadata": {
    "collapsed": false
   },
   "outputs": [
    {
     "name": "stdout",
     "output_type": "stream",
     "text": [
      "1453355 /local/home/sarahgw/WGS/SNPS/12_07/angsdout_pairedplus_U.mafs.gz\r\n"
     ]
    }
   ],
   "source": [
    "!wc -l /local/home/sarahgw/WGS/SNPS/12_07/angsdout_pairedplus_U.mafs.gz"
   ]
  },
  {
   "cell_type": "code",
   "execution_count": null,
   "metadata": {
    "collapsed": true
   },
   "outputs": [],
   "source": [
    "~/angsd/angsd -b pairedplus_E_dupes_bam.filelist -GL 1 -doMajorMinor 1 -doMaf 2 -P 10 -SNP_pval 1e-6 -out angsdout_pairedplus_E"
   ]
  },
  {
   "cell_type": "code",
   "execution_count": 3,
   "metadata": {
    "collapsed": false
   },
   "outputs": [
    {
     "name": "stdout",
     "output_type": "stream",
     "text": [
      "751904 /local/home/sarahgw/WGS/SNPS/12_07/angsdout_pairedplus_E.mafs.gz\r\n"
     ]
    }
   ],
   "source": [
    "!wc -l /local/home/sarahgw/WGS/SNPS/12_07/angsdout_pairedplus_E.mafs.gz"
   ]
  },
  {
   "cell_type": "markdown",
   "metadata": {},
   "source": [
    "FST  \n",
    "\n",
    "The procedure is\n",
    "\n",
    "- Use angsd for calculating saf files for each population  \n",
    "\n",
    "- Use realSFS to calculate 2d sfs for each pair  \n",
    "\n",
    "- Use the above calculated 2dsfs as priors jointly with all safs from step1 to calculate fst binary files  \n",
    "\n",
    "- Use realSFS to extract the the fst values from the fst"
   ]
  },
  {
   "cell_type": "code",
   "execution_count": null,
   "metadata": {
    "collapsed": true
   },
   "outputs": [],
   "source": [
    "~/angsd/angsd -P 5 -b pairedplus_U_dupes_bam.filelist -fold 1 -anc /local/home/sarahgw/references/Myotis_Lucifugus2.0/Myotis_lucifugus.Myoluc2.0.dna_sm.toplevel.fa -GL 1 -dosaf 1 -out angsdout_SAF_pairedplus_U"
   ]
  },
  {
   "cell_type": "code",
   "execution_count": null,
   "metadata": {
    "collapsed": true
   },
   "outputs": [],
   "source": [
    "~/angsd/angsd -P 5 -b pairedplus_E_dupes_bam.filelist -fold 1 -anc /local/home/sarahgw/references/Myotis_Lucifugus2.0/Myotis_lucifugus.Myoluc2.0.dna_sm.toplevel.fa -GL 1 -dosaf 1 -out angsdout_SAF_pairedplus_E"
   ]
  },
  {
   "cell_type": "markdown",
   "metadata": {},
   "source": [
    "Hm, it wont let me run it not enough memory, trying with a subset"
   ]
  },
  {
   "cell_type": "code",
   "execution_count": null,
   "metadata": {
    "collapsed": true
   },
   "outputs": [],
   "source": [
    "~/angsd/misc/realSFS -nsites 920959282 angsdout_SAF_pairedplus_E.saf.idx angsdout_SAF_pairedplus_U.saf.idx > pairedplus_EU.ml"
   ]
  },
  {
   "cell_type": "markdown",
   "metadata": {},
   "source": [
    "Well that worked, but then the downstream fst calculaitons won't work says there's a mismatch probably because its a subset... Maybe i need to filter it first"
   ]
  },
  {
   "cell_type": "code",
   "execution_count": null,
   "metadata": {
    "collapsed": true
   },
   "outputs": [],
   "source": [
    "~/angsd/angsd -P 5 -b pairedplus_U_dupes_bam.filelist -fold 1 -anc /local/home/sarahgw/references/Myotis_Lucifugus2.0/Myotis_lucifugus.Myoluc2.0.dna_sm.toplevel.fa -GL 1 -dosaf 1 -minMapQ 30 -minQ 20 -out angsdout_SAF_pairedplus_filt_U"
   ]
  },
  {
   "cell_type": "markdown",
   "metadata": {},
   "source": [
    "        -> angsd version: 0.914 (htslib: 1.3.2) build(Dec 19 2016 16:00:55) \n",
    "        -> Reading fasta: /local/home/sarahgw/references/Myotis_Lucifugus2.0/Myotis_lucifugus.Myoluc2.0.dna_sm.toplevel.fa \n",
    "        -> Parsing 15 number of samples \n",
    "\n",
    "        -> Allocated ~ 10 Megabytes to the nodepool \n",
    "\n",
    "        -> Allocated ~ 20 Megabytes to the nodepool \n",
    "        -> Printing at chr: GL429767 pos:614659 chunknumber 100 contains 3318 sites \n",
    "        -> Allocated ~ 30 Megabytes to the nodepool \n",
    "        -> Printing at chr: GL429767 pos:22488277 chunknumber 4600 contains 3095 sites \n",
    "        -> Allocated ~ 40 Megabytes to the nodepool \n",
    "        -> Printing at chr: GL429875 pos:1749130 chunknumber 198500 contains 6079 sitess \n",
    "        -> Allocated ~ 50 Megabytes to the nodepool \n",
    "        -> Printing at chr: AAPE02072749 pos:780 chunknumber 370000 contains 374 sitessss \n",
    "        -> Done reading data waiting for calculations to finish \n",
    "        -> Done waiting for threads \n",
    "        -> Output filenames: \n",
    "                ->\"angsdout_SAF_pairedplus_filt_U.arg\" \n",
    "                ->\"angsdout_SAF_pairedplus_filt_U.saf.gz\" \n",
    "                ->\"angsdout_SAF_pairedplus_filt_U.saf.pos.gz\" \n",
    "                ->\"angsdout_SAF_pairedplus_filt_U.saf.idx\" \n",
    "        -> Fri Jan 13 19:38:12 2017 \n",
    "        -> Arguments and parameters for all analysis are located in .arg file \n",
    "        [ALL done] cpu-time used =  53866.27 sec \n",
    "        [ALL done] walltime used =  24837.00 sec "
   ]
  },
  {
   "cell_type": "code",
   "execution_count": null,
   "metadata": {
    "collapsed": true
   },
   "outputs": [],
   "source": [
    "~/angsd/angsd -P 5 -b pairedplus_E_dupes_bam.filelist -fold 1 -anc /local/home/sarahgw/references/Myotis_Lucifugus2.0/Myotis_lucifugus.Myoluc2.0.dna_sm.toplevel.fa -GL 1 -dosaf 1 -minMapQ 30 -minQ 20 -out angsdout_SAF_pairedplus_filt_E"
   ]
  },
  {
   "cell_type": "markdown",
   "metadata": {},
   "source": [
    "        -> angsd version: 0.914 (htslib: 1.3.2) build(Dec 19 2016 16:00:55) \n",
    "        -> Must also supply -ref for adjusting the mapping quality \n",
    "[sarahgw@amphiprion 12_07]$ ~/angsd/angsd -P 5 -b pairedplus_E_dupes_bam.filelist -fold 1 -anc /local/home/sarahgw/references/Myotis_Lucifugus2.0/Myotis_lucifugus.Myoluc2.0.dna_sm.toplevel.fa -GL 1 -dosaf 1 -baq 1  -minMapQ 30 -minQ 20 -out angsdout_SAF_pairedplus_filt_E \n",
    "        -> angsd version: 0.914 (htslib: 1.3.2) build(Dec 19 2016 16:00:55) \n",
    "        -> Must also supply -ref for adjusting base qualities (baq) \n",
    "[sarahgw@amphiprion 12_07]$ ~/angsd/angsd -P 5 -b pairedplus_E_dupes_bam.filelist -fold 1 -anc  /local/home/sarahgw/references/Myotis_Lucifugus2.0/Myotis_lucifugus.Myoluc2.0.dna_sm.toplevel.fa -GL 1 -dosaf 1 - minMapQ 30 -minQ 20 -out angsdout_SAF_pairedplus_filt_E \n",
    "        -> angsd version: 0.914 (htslib: 1.3.2) build(Dec 19 2016 16:00:55) \n",
    "        -> Reading fasta:  /local/home/sarahgw/references/Myotis_Lucifugus2.0/Myotis_lucifugus.Myoluc2.0.dna_sm.toplevel.fa \n",
    "        -> Parsing 9 number of samples \n",
    "\n",
    "        -> Allocated ~ 10 Megabytes to the nodepool \n",
    "        -> Printing at chr: GL429780 pos:10203228 chunknumber 70100 contains 4398 sites \n",
    "        -> Allocated ~ 20 Megabytes to the nodepool \n",
    "        -> Printing at chr: GL429805 pos:526285 chunknumber 127600 contains 3428 sitesss \n",
    "        -> Allocated ~ 30 Megabytes to the nodepool \n",
    "        -> Printing at chr: GL429848 pos:4832245 chunknumber 190600 contains 6067 sitess \n",
    "        -> Allocated ~ 40 Megabytes to the nodepool \n",
    "        -> Printing at chr: AAPE02072750 pos:2629 chunknumber 397700 contains 456 sitessss \n",
    "        -> Done reading data waiting for calculations to finish \n",
    "        -> Done waiting for threads \n",
    "        -> Output filenames: \n",
    "                ->\"angsdout_SAF_pairedplus_filt_E.arg\" \n",
    "                ->\"angsdout_SAF_pairedplus_filt_E.saf.gz\" \n",
    "                ->\"angsdout_SAF_pairedplus_filt_E.saf.pos.gz\" \n",
    "                ->\"angsdout_SAF_pairedplus_filt_E.saf.idx\" \n",
    "        -> Fri Jan 13 17:57:33 2017 \n",
    "        -> Arguments and parameters for all analysis are located in .arg file \n",
    "        [ALL done] cpu-time used =  29512.52 sec \n",
    "        [ALL done] walltime used =  18877.00 sec "
   ]
  },
  {
   "cell_type": "code",
   "execution_count": null,
   "metadata": {
    "collapsed": true
   },
   "outputs": [],
   "source": [
    "~/angsd/misc/realSFS -P 15 angsdout_SAF_pairedplus_filt_E.saf.idx angsdout_SAF_pairedplus_filt_U.saf.idx > pairedplus_EU_all.ml"
   ]
  },
  {
   "cell_type": "markdown",
   "metadata": {
    "collapsed": true
   },
   "source": [
    "        -> Done reading data from chromosome will prepare next chromosome \n",
    "        -> Only read nSites: 0 will therefore prepare next chromosome (or exit) \n",
    "\n",
    "        -> NB NB output is no longer log probs of the frequency spectrum! \n",
    "        -> Output is now simply the expected values! \n",
    "        -> You can convert to the old format simply with log(norm(x)) \n"
   ]
  },
  {
   "cell_type": "code",
   "execution_count": null,
   "metadata": {
    "collapsed": true
   },
   "outputs": [],
   "source": [
    "~/angsd/misc/realSFS fst index angsdout_SAF_pairedplus_E.saf.idx angsdout_SAF_pairedplus_U.saf.idx -sfs pairedplus_EU_all.ml -fstout pairedplus_EU_fst"
   ]
  },
  {
   "cell_type": "markdown",
   "metadata": {},
   "source": [
    "-> fst index finished with no errors!"
   ]
  },
  {
   "cell_type": "code",
   "execution_count": null,
   "metadata": {
    "collapsed": true
   },
   "outputs": [],
   "source": [
    "~/angsd/misc/realSFS fst stats pairedplus_EU_fst.fst.idx\n"
   ]
  },
  {
   "cell_type": "markdown",
   "metadata": {},
   "source": [
    " Assuming idxname:pairedplus_EU_fst.fst.idx \n",
    " \n",
    "        -> Assuming .fst.gz file: pairedplus_EU_fst.fst.gz \n",
    "        \n",
    "        -> FST.Unweight[nObs:1855708531]:0.065448 Fst.Weight:0.095386  \n",
    "        \n",
    "0.065448 0.095386 \n"
   ]
  },
  {
   "cell_type": "code",
   "execution_count": null,
   "metadata": {
    "collapsed": true
   },
   "outputs": [],
   "source": [
    "~/angsd/misc/realSFS fst stats2 pairedplus_EU_fst.fst.idx -win 5000 -step 1000 > slidingwindow"
   ]
  },
  {
   "cell_type": "markdown",
   "metadata": {},
   "source": [
    "calling snps all together"
   ]
  },
  {
   "cell_type": "code",
   "execution_count": null,
   "metadata": {
    "collapsed": true
   },
   "outputs": [],
   "source": [
    "~/angsd/angsd -b paired_dupes_bam.filelist -GL 1 -doMajorMinor 1 -doMaf 2 -P 15 -SNP_pval 1e-6 -doCounts 1 -out pairedall_snps"
   ]
  },
  {
   "cell_type": "code",
   "execution_count": 1,
   "metadata": {
    "collapsed": false
   },
   "outputs": [
    {
     "name": "stdout",
     "output_type": "stream",
     "text": [
      "1538388 /local/home/sarahgw/WGS/SNPS/12_07/pairedall_snps.mafs.gz\r\n"
     ]
    }
   ],
   "source": [
    "!wc -l /local/home/sarahgw/WGS/SNPS/12_07/pairedall_snps.mafs.gz"
   ]
  },
  {
   "cell_type": "markdown",
   "metadata": {},
   "source": [
    "Do other statistics, estimate thetas, tajima's d--You need to do this for each population, if the E population has a negative tajima's d that indicates selection\n",
    "\n",
    "\n",
    "So first, estimate SFS for each population."
   ]
  },
  {
   "cell_type": "code",
   "execution_count": null,
   "metadata": {
    "collapsed": true
   },
   "outputs": [],
   "source": [
    "~/angsd/misc/realSFS angsdout_SAF_pairedplus_filt_E.saf.idx > Pairedplus_E.sfs"
   ]
  },
  {
   "cell_type": "markdown",
   "metadata": {},
   "source": [
    "        -> NB NB output is no longer log probs of the frequency spectrum!\n",
    "        -> Output is now simply the expected values!\n",
    "        -> You can convert to the old format simply with log(norm(x))"
   ]
  },
  {
   "cell_type": "code",
   "execution_count": null,
   "metadata": {
    "collapsed": true
   },
   "outputs": [],
   "source": [
    "~/angsd/misc/realSFS angsdout_SAF_pairedplus_filt_U.saf.idx > Pairedplus_U.sfs"
   ]
  },
  {
   "cell_type": "markdown",
   "metadata": {
    "collapsed": true
   },
   "source": [
    " -> NB NB output is no longer log probs of the frequency spectrum!\n",
    " \n",
    "        -> Output is now simply the expected values!\n",
    "        \n",
    "        -> You can convert to the old format simply with log(norm(x))\n",
    "        \n",
    "        "
   ]
  },
  {
   "cell_type": "markdown",
   "metadata": {},
   "source": [
    "Then, calculate theta for each of them. "
   ]
  },
  {
   "cell_type": "code",
   "execution_count": null,
   "metadata": {
    "collapsed": true
   },
   "outputs": [],
   "source": [
    "~/angsd/angsd -bam pairedplus_E_dupes_bam.filelist -out Pairedplus_E_theta -doThetas 1 -doSaf 1 -pest Pairedplus_E.sfs -anc /local/home/sarahgw/references/Myotis_Lucifugus2.0/Myotis_lucifugus.Myoluc2.0.dna_sm.toplevel.fa -GL 1 -fold 1  "
   ]
  },
  {
   "cell_type": "markdown",
   "metadata": {},
   "source": [
    "         -> Parsing 9 number of samples \n",
    "        -> Printing at chr: GL430128 pos:278070 chunknumber 379900 contains 3662 sitesss \n",
    "        -> Allocated ~ 10 Megabytes to the nodepool \n",
    "        -> Printing at chr: AAPE02072767 pos:1 chunknumber 495100 contains 2945 sitesesss \n",
    "        -> Done reading data waiting for calculations to finish \n",
    "        -> Done waiting for threads \n",
    "        -> Output filenames: \n",
    "                ->\"Pairedplus_E_theta.arg\" \n",
    "                ->\"Pairedplus_E_theta.thetas.gz\" \n",
    "        -> Fri May  5 22:25:28 2017 \n",
    "        -> Arguments and parameters for all analysis are located in .arg file \n",
    "        [ALL done] cpu-time used =  34403.19 sec \n",
    "        [ALL done] walltime used =  34401.00 sec \n"
   ]
  },
  {
   "cell_type": "code",
   "execution_count": null,
   "metadata": {
    "collapsed": true
   },
   "outputs": [],
   "source": [
    "~/angsd/angsd -bam pairedplus_U_dupes_bam.filelist -out Pairedplus_U_theta -doThetas 1 -doSaf 1 -pest Pairedplus_U.sfs -anc /local/home/sarahgw/references/Myotis_Lucifugus2.0/Myotis_lucifugus.Myoluc2.0.dna_sm.toplevel.fa -GL 1 -fold 1   "
   ]
  },
  {
   "cell_type": "markdown",
   "metadata": {},
   "source": [
    "        -> Parsing 15 number of samples \n",
    "        -> Printing at chr: GL429880 pos:1490836 chunknumber 234300 contains 1466 sitesss \n",
    "        -> Allocated ~ 10 Megabytes to the nodepool \n",
    "        -> Printing at chr: AAPE02072759 pos:3248 chunknumber 458500 contains 156 sitesss \n",
    "        -> Done reading data waiting for calculations to finish \n",
    "        -> Done waiting for threads \n",
    "        -> Output filenames: \n",
    "                ->\"Pairedplus_U_theta.arg\" \n",
    "                ->\"Pairedplus_U_theta.thetas.gz\"\n",
    "        -> Sat May  6 03:30:37 2017\n",
    "        -> Arguments and parameters for all analysis are located in .arg file\n",
    "        [ALL done] cpu-time used =  52623.23 sec\n",
    "        [ALL done] walltime used =  52608.00 sec"
   ]
  },
  {
   "cell_type": "markdown",
   "metadata": {},
   "source": [
    "Index the theta file, because for some reason it isnt doing this automatically. "
   ]
  },
  {
   "cell_type": "code",
   "execution_count": null,
   "metadata": {
    "collapsed": true
   },
   "outputs": [],
   "source": [
    "~/angsd/misc/thetaStat make_bed Pairedplus_U_theta.thetas.gz"
   ]
  },
  {
   "cell_type": "markdown",
   "metadata": {},
   "source": [
    "Then calculate Tajima's D for each scaffold and sliding window"
   ]
  },
  {
   "cell_type": "code",
   "execution_count": null,
   "metadata": {
    "collapsed": true
   },
   "outputs": [],
   "source": [
    "~/angsd/misc/thetaStat do_stat Pairedplus_U_theta.thetas.gz -nChr 11653"
   ]
  },
  {
   "cell_type": "code",
   "execution_count": null,
   "metadata": {
    "collapsed": true
   },
   "outputs": [],
   "source": [
    "~/angsd/misc/thetaStat do_stat Pairedplus_U_theta.thetas.gz  -win 5000 -step 1000 -nChr 11653 -outnames Pairedplus_U_.thetasWindow.gz"
   ]
  },
  {
   "cell_type": "code",
   "execution_count": 1,
   "metadata": {
    "collapsed": true
   },
   "outputs": [],
   "source": [
    "!awk '{print $1,$4,$9}' /local/home/sarahgw/WGS/SNPS/12_07/Pairedplus_U_.thetasWindow.gz.pestPG >> /local/home/sarahgw/WGS/SNPS/12_07/DwindowU.txt "
   ]
  },
  {
   "cell_type": "code",
   "execution_count": null,
   "metadata": {
    "collapsed": true
   },
   "outputs": [],
   "source": [
    "~/angsd/misc/thetaStat do_stat Pairedplus_E_theta2.thetas.gz -nChr 11578"
   ]
  },
  {
   "cell_type": "code",
   "execution_count": 4,
   "metadata": {
    "collapsed": false
   },
   "outputs": [
    {
     "name": "stdout",
     "output_type": "stream",
     "text": [
      "11578 /local/home/sarahgw/WGS/SNPS/12_07/Pairedplus_E_theta2.thetas.pestPG\r\n"
     ]
    }
   ],
   "source": [
    "!wc -l /local/home/sarahgw/WGS/SNPS/12_07/Pairedplus_E_theta2.thetas.pestPG"
   ]
  },
  {
   "cell_type": "code",
   "execution_count": null,
   "metadata": {
    "collapsed": false
   },
   "outputs": [],
   "source": [
    "!awk '{print $1,$4,$9}' /local/home/sarahgw/WGS/SNPS/12_07/Pairedplus_E_theta2.thetas.pestPG"
   ]
  },
  {
   "cell_type": "code",
   "execution_count": null,
   "metadata": {
    "collapsed": true
   },
   "outputs": [],
   "source": [
    "~/angsd/misc/thetaStat do_stat Pairedplus_E_theta2.thetas.gz  -win 5000 -step 1000 -nChr 11578 -outnames Pairedplus_E_.thetasWindow.gz"
   ]
  },
  {
   "cell_type": "code",
   "execution_count": null,
   "metadata": {
    "collapsed": true
   },
   "outputs": [],
   "source": [
    "!awk '{print $1,$4,$9}' /local/home/sarahgw/WGS/SNPS/12_07/Pairedplus_E_.thetasWindow.gz.pestPG >> /local/home/sarahgw/WGS/SNPS/12_07/DwindowE.txt "
   ]
  },
  {
   "cell_type": "markdown",
   "metadata": {},
   "source": [
    "Make joint unfolded sfs for both populations"
   ]
  },
  {
   "cell_type": "code",
   "execution_count": null,
   "metadata": {
    "collapsed": true
   },
   "outputs": [],
   "source": [
    "~/angsd/angsd -P 5 -b pairedplus_U_dupes_bam.filelist -anc /local/home/sarahgw/references/Myotis_Lucifugus2.0/Myotis_lucifugus.Myoluc2.0.dna_sm.toplevel.fa -GL 1 -dosaf 1 -out angsdout_SAF_unfold_pairedplus_U"
   ]
  },
  {
   "cell_type": "code",
   "execution_count": null,
   "metadata": {
    "collapsed": true
   },
   "outputs": [],
   "source": [
    "~/angsd/angsd -P 5 -b pairedplus_E_dupes_bam.filelist -anc /local/home/sarahgw/references/Myotis_Lucifugus2.0/Myotis_lucifugus.Myoluc2.0.dna_sm.toplevel.fa -GL 1 -dosaf 1 -out angsdout_SAF_unfold_pairedplus_E"
   ]
  },
  {
   "cell_type": "code",
   "execution_count": null,
   "metadata": {
    "collapsed": true
   },
   "outputs": [],
   "source": [
    "~/angsd/misc/realSFS angsdout_SAF_pairedplus_filt_E.saf.idx > Pairedplus_E.sfs"
   ]
  },
  {
   "cell_type": "markdown",
   "metadata": {},
   "source": [
    "Print SAF for regions of interest"
   ]
  },
  {
   "cell_type": "code",
   "execution_count": null,
   "metadata": {
    "collapsed": true
   },
   "outputs": [],
   "source": [
    "~/angsd/misc/realSFS print angsdout_SAF_pairedplus_filt_U.saf.idx angsdout_SAF_pairedplus_filt_E.saf.idx -r GL429767:64205000-64213999"
   ]
  }
 ],
 "metadata": {
  "anaconda-cloud": {},
  "kernelspec": {
   "display_name": "Python [conda root]",
   "language": "python",
   "name": "conda-root-py"
  },
  "language_info": {
   "codemirror_mode": {
    "name": "ipython",
    "version": 2
   },
   "file_extension": ".py",
   "mimetype": "text/x-python",
   "name": "python",
   "nbconvert_exporter": "python",
   "pygments_lexer": "ipython2",
   "version": "2.7.12"
  }
 },
 "nbformat": 4,
 "nbformat_minor": 1
}
