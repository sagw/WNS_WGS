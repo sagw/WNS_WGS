{
 "cells": [
  {
   "cell_type": "code",
   "execution_count": null,
   "metadata": {
    "collapsed": true
   },
   "outputs": [],
   "source": [
    "find $(pwd) -name *_paired_marked_dupes.bam > paired_dupes_bam.filelist"
   ]
  },
  {
   "cell_type": "code",
   "execution_count": null,
   "metadata": {
    "collapsed": true
   },
   "outputs": [],
   "source": [
    "./angsd -b paired_dupes_bam.filelist -GL 1 -doMajorMinor 1 -doMaf 2 -P 5"
   ]
  },
  {
   "cell_type": "code",
   "execution_count": null,
   "metadata": {
    "collapsed": true
   },
   "outputs": [],
   "source": [
    "~/angsd/angsd -b paired_dupes_bam.filelist -GL 1 -doMajorMinor 1 -doMaf 2 -P 20"
   ]
  },
  {
   "cell_type": "code",
   "execution_count": null,
   "metadata": {
    "collapsed": true
   },
   "outputs": [],
   "source": [
    "Problem spawning thread\n",
    "Resource temporarily unavailable"
   ]
  },
  {
   "cell_type": "code",
   "execution_count": null,
   "metadata": {
    "collapsed": true
   },
   "outputs": [],
   "source": [
    "~/angsd/angsd -b paired_dupes_bam.filelist -GL 1 -doMajorMinor 1 -doMaf 2 -P 15"
   ]
  },
  {
   "cell_type": "code",
   "execution_count": null,
   "metadata": {
    "collapsed": true
   },
   "outputs": [],
   "source": [
    "    -> Mon Jan  9 11:26:36 2017\n",
    "        -> Arguments and parameters for all analysis are located in .arg file\n",
    "        [ALL done] cpu-time used =  370464.94 sec\n",
    "        [ALL done] walltime used =  44673.00 sec"
   ]
  },
  {
   "cell_type": "code",
   "execution_count": null,
   "metadata": {
    "collapsed": false
   },
   "outputs": [],
   "source": [
    "wc -l /local/home/sarahgw/WGS/SNPS/12_07/angsdout2.mafs.gz"
   ]
  },
  {
   "cell_type": "markdown",
   "metadata": {},
   "source": [
    "21192344 angsdout2.mafs.gz"
   ]
  },
  {
   "cell_type": "code",
   "execution_count": null,
   "metadata": {
    "collapsed": true
   },
   "outputs": [],
   "source": [
    "head /local/home/sarahgw/WGS/SNPS/12_07/angsdout2.mafs.gz"
   ]
  },
  {
   "cell_type": "markdown",
   "metadata": {},
   "source": [
    "chromo  position        major   minor   unknownEM       nInd\n",
    "GL429767        1       A       C       0.000006        10\n",
    "GL429767        2       G       A       0.000006        10\n",
    "GL429767        3       T       A       0.000006        10\n",
    "GL429767        4       C       A       0.000006        10\n",
    "GL429767        5       C       A       0.000006        10\n",
    "GL429767        6       T       A       0.000006        10\n",
    "GL429767        7       T       A       0.000006        10\n",
    "GL429767        8       T       A       0.000003        11\n",
    "GL429767        9       T       A       0.000004        12\n",
    "GL429767        10      T       A       0.000004        12\n",
    "GL429767        11      G       A       0.000004        12\n",
    "GL429767        12      T       A       0.000004        12\n",
    "GL429767        13      G       A       0.000004        12\n",
    "GL429767        14      G       A       0.000004        12\n",
    "GL429767        15      T       A       0.000005        12\n",
    "GL429767        16      A       C       0.000005        12\n",
    "GL429767        17      C       A       0.000005        12\n",
    "GL429767        18      T       A       0.000005        12\n",
    "GL429767        19      G       A       0.000005        12\n",
    "GL429767        20      T       A       0.000005        12\n",
    "GL429767        21      C       A       0.000005        12\n",
    "GL429767        22      T       A       0.000005        12\n",
    "GL429767        23      G       A       0.000005        12\n",
    "GL429767        24      C       A       0.000005        12\n",
    "GL429767        25      A       C       0.000005        12\n",
    "GL429767        26      G       A       0.000005        12\n",
    "GL429767        27      A       C       0.000005        12\n",
    "GL429767        28      G       A       0.000005        12\n",
    "GL429767        29      G       A       0.000005        12\n",
    "GL429767        30      A       C       0.000005        12"
   ]
  },
  {
   "cell_type": "code",
   "execution_count": null,
   "metadata": {
    "collapsed": true
   },
   "outputs": [],
   "source": [
    "find $(pwd) -name *U_**_pairedplus_marked_dupes.bam > pairedplus_U_dupes_bam.filelist "
   ]
  },
  {
   "cell_type": "code",
   "execution_count": 1,
   "metadata": {
    "collapsed": false
   },
   "outputs": [
    {
     "name": "stdout",
     "output_type": "stream",
     "text": [
      "/local/home/sarahgw/WGS/Sequences/hiseq_2016_12_07_complete/NJ_E_30/NJ_E_30_pairedplus_marked_dupes.bam\r\n",
      "/local/home/sarahgw/WGS/Sequences/hiseq_2016_12_07_complete/NJ_E_25/NJ_E_25_pairedplus_marked_dupes.bam\r\n",
      "/local/home/sarahgw/WGS/Sequences/hiseq_2016_12_07_complete/NJ_E_27/NJ_E_27_pairedplus_marked_dupes.bam\r\n",
      "/local/home/sarahgw/WGS/Sequences/hiseq_2016_12_07_complete/NJ_E_29/NJ_E_29_pairedplus_marked_dupes.bam\r\n",
      "/local/home/sarahgw/WGS/Sequences/hiseq_2016_12_07_complete/NJ_E_24/NJ_E_24_pairedplus_marked_dupes.bam\r\n",
      "/local/home/sarahgw/WGS/Sequences/hiseq_2016_12_07_complete/NJ_E_23/NJ_E_23_pairedplus_marked_dupes.bam\r\n",
      "/local/home/sarahgw/WGS/Sequences/hiseq_2016_12_07_complete/NJ_E_22/NJ_E_22_pairedplus_marked_dupes.bam\r\n",
      "/local/home/sarahgw/WGS/Sequences/hiseq_2016_12_07_complete/NJ_E_28/NJ_E_28_pairedplus_marked_dupes.bam\r\n",
      "/local/home/sarahgw/WGS/Sequences/hiseq_2016_12_07_complete/NJ_E_26/NJ_E_26_pairedplus_marked_dupes.bam\r\n"
     ]
    }
   ],
   "source": [
    "!head /local/home/sarahgw/WGS/SNPS/12_07/pairedplus_E_dupes_bam.filelist"
   ]
  },
  {
   "cell_type": "code",
   "execution_count": null,
   "metadata": {
    "collapsed": true
   },
   "outputs": [],
   "source": [
    "find $(pwd) -name *E_**_pairedplus_marked_dupes.bam > pairedplus_E_dupes_bam.filelist "
   ]
  },
  {
   "cell_type": "code",
   "execution_count": 2,
   "metadata": {
    "collapsed": false
   },
   "outputs": [
    {
     "name": "stdout",
     "output_type": "stream",
     "text": [
      "/local/home/sarahgw/WGS/Sequences/hiseq_2016_12_07_complete/NJ_U_12/NJ_U_12_pairedplus_marked_dupes.bam\r\n",
      "/local/home/sarahgw/WGS/Sequences/hiseq_2016_12_07_complete/NJ_U_08/NJ_U_08_pairedplus_marked_dupes.bam\r\n",
      "/local/home/sarahgw/WGS/Sequences/hiseq_2016_12_07_complete/NJ_U_01/NJ_U_01_pairedplus_marked_dupes.bam\r\n",
      "/local/home/sarahgw/WGS/Sequences/hiseq_2016_12_07_complete/NJ_U_14/NJ_U_14_pairedplus_marked_dupes.bam\r\n",
      "/local/home/sarahgw/WGS/Sequences/hiseq_2016_12_07_complete/NJ_U_16/NJ_U_16_pairedplus_marked_dupes.bam\r\n",
      "/local/home/sarahgw/WGS/Sequences/hiseq_2016_12_07_complete/NJ_U_07/NJ_U_07_pairedplus_marked_dupes.bam\r\n",
      "/local/home/sarahgw/WGS/Sequences/hiseq_2016_12_07_complete/NJ_U_15/NJ_U_15_pairedplus_marked_dupes.bam\r\n",
      "/local/home/sarahgw/WGS/Sequences/hiseq_2016_12_07_complete/NJ_U_09/NJ_U_09_pairedplus_marked_dupes.bam\r\n",
      "/local/home/sarahgw/WGS/Sequences/hiseq_2016_12_07_complete/NJ_U_11/NJ_U_11_pairedplus_marked_dupes.bam\r\n",
      "/local/home/sarahgw/WGS/Sequences/hiseq_2016_12_07_complete/NJ_U_10/NJ_U_10_pairedplus_marked_dupes.bam\r\n"
     ]
    }
   ],
   "source": [
    "!head /local/home/sarahgw/WGS/SNPS/12_07/pairedplus_U_dupes_bam.filelist"
   ]
  },
  {
   "cell_type": "markdown",
   "metadata": {},
   "source": [
    "I'm still confused about this, should I call all SNPs together, or separate populations and then call snps for each population. I do see some studies where they give the number of snps shared between the populations and the number that are unique for each population. But wouldn't you lose information about loci that are different between the two populations? I'm probably being naive in thinking that we would see anything like that. So calling snps in each pop. "
   ]
  },
  {
   "cell_type": "code",
   "execution_count": null,
   "metadata": {
    "collapsed": true
   },
   "outputs": [],
   "source": [
    "~/angsd/angsd -b pairedplus_U_dupes_bam.filelist -GL 1 -doMajorMinor 1 -doMaf 2 -P 10 -SNP_pval 1e-6 -out angsdout_pairedplus_U"
   ]
  },
  {
   "cell_type": "code",
   "execution_count": 1,
   "metadata": {
    "collapsed": false
   },
   "outputs": [
    {
     "name": "stdout",
     "output_type": "stream",
     "text": [
      "1453355 /local/home/sarahgw/WGS/SNPS/12_07/angsdout_pairedplus_U.mafs.gz\r\n"
     ]
    }
   ],
   "source": [
    "!wc -l /local/home/sarahgw/WGS/SNPS/12_07/angsdout_pairedplus_U.mafs.gz"
   ]
  },
  {
   "cell_type": "code",
   "execution_count": null,
   "metadata": {
    "collapsed": true
   },
   "outputs": [],
   "source": [
    "~/angsd/angsd -b pairedplus_E_dupes_bam.filelist -GL 1 -doMajorMinor 1 -doMaf 2 -P 10 -SNP_pval 1e-6 -out angsdout_pairedplus_E"
   ]
  },
  {
   "cell_type": "code",
   "execution_count": 3,
   "metadata": {
    "collapsed": false
   },
   "outputs": [
    {
     "name": "stdout",
     "output_type": "stream",
     "text": [
      "751904 /local/home/sarahgw/WGS/SNPS/12_07/angsdout_pairedplus_E.mafs.gz\r\n"
     ]
    }
   ],
   "source": [
    "!wc -l /local/home/sarahgw/WGS/SNPS/12_07/angsdout_pairedplus_E.mafs.gz"
   ]
  },
  {
   "cell_type": "markdown",
   "metadata": {},
   "source": [
    "FST  \n",
    "\n",
    "The procedure is\n",
    "\n",
    "- Use angsd for calculating saf files for each population  \n",
    "\n",
    "- Use realSFS to calculate 2d sfs for each pair  \n",
    "\n",
    "- Use the above calculated 2dsfs as priors jointly with all safs from step1 to calculate fst binary files  \n",
    "\n",
    "- Use realSFS to extract the the fst values from the fst"
   ]
  },
  {
   "cell_type": "code",
   "execution_count": null,
   "metadata": {
    "collapsed": true
   },
   "outputs": [],
   "source": [
    "~/angsd/angsd -P 5 -b pairedplus_U_dupes_bam.filelist -fold 1 -anc /local/home/sarahgw/references/Myotis_Lucifugus2.0/Myotis_lucifugus.Myoluc2.0.dna_sm.toplevel.fa -GL 1 -dosaf 1 -out angsdout_SAF_pairedplus_U"
   ]
  },
  {
   "cell_type": "code",
   "execution_count": null,
   "metadata": {
    "collapsed": true
   },
   "outputs": [],
   "source": [
    "~/angsd/angsd -P 5 -b pairedplus_E_dupes_bam.filelist -fold 1 -anc /local/home/sarahgw/references/Myotis_Lucifugus2.0/Myotis_lucifugus.Myoluc2.0.dna_sm.toplevel.fa -GL 1 -dosaf 1 -out angsdout_SAF_pairedplus_E"
   ]
  },
  {
   "cell_type": "markdown",
   "metadata": {},
   "source": [
    "Hm, it wont let me run it not enough memory, trying with a subset"
   ]
  },
  {
   "cell_type": "code",
   "execution_count": null,
   "metadata": {
    "collapsed": true
   },
   "outputs": [],
   "source": [
    "~/angsd/misc/realSFS -nsites 920959282 angsdout_SAF_pairedplus_E.saf.idx angsdout_SAF_pairedplus_U.saf.idx > pairedplus_EU.ml"
   ]
  },
  {
   "cell_type": "markdown",
   "metadata": {},
   "source": [
    "Well that worked, but then the downstream fst calculaitons won't work says there's a mismatch probably because its a subset... Maybe i need to filter it first"
   ]
  },
  {
   "cell_type": "code",
   "execution_count": null,
   "metadata": {
    "collapsed": true
   },
   "outputs": [],
   "source": [
    "~/angsd/angsd -P 5 -b pairedplus_E_dupes_bam.filelist -fold 1 -anc /local/home/sarahgw/references/Myotis_Lucifugus2.0/Myotis_lucifugus.Myoluc2.0.dna_sm.toplevel.fa -GL 1 -dosaf 1 -minMapQ 30 -minQ 20 -out angsdout_SAF_pairedplus_filt_E"
   ]
  },
  {
   "cell_type": "code",
   "execution_count": null,
   "metadata": {
    "collapsed": true
   },
   "outputs": [],
   "source": [
    "~/angsd/angsd -P 5 -b pairedplus_U_dupes_bam.filelist -fold 1 -anc /local/home/sarahgw/references/Myotis_Lucifugus2.0/Myotis_lucifugus.Myoluc2.0.dna_sm.toplevel.fa -GL 1 -dosaf 1 -minMapQ 30 -minQ 20 -out angsdout_SAF_pairedplus_filt_U"
   ]
  },
  {
   "cell_type": "code",
   "execution_count": null,
   "metadata": {
    "collapsed": true
   },
   "outputs": [],
   "source": [
    "~/angsd/misc/realSFS -P 15 angsdout_SAF_pairedplus_E.saf.idx angsdout_SAF_pairedplus_U.saf.idx > pairedplus_EU_all.ml"
   ]
  },
  {
   "cell_type": "code",
   "execution_count": null,
   "metadata": {
    "collapsed": true
   },
   "outputs": [],
   "source": []
  },
  {
   "cell_type": "code",
   "execution_count": null,
   "metadata": {
    "collapsed": true
   },
   "outputs": [],
   "source": [
    "~/angsd/misc/realSFS fst index angsdout_SAF_pairedplus_E.saf.idx angsdout_SAF_pairedplus_U.saf.idx -sfs pairedplus_EU.ml -fstout pairedplus_EU_fst\n"
   ]
  },
  {
   "cell_type": "code",
   "execution_count": null,
   "metadata": {
    "collapsed": true
   },
   "outputs": [],
   "source": [
    "../misc/realSFS fst stats here.fst.idx \n"
   ]
  }
 ],
 "metadata": {
  "anaconda-cloud": {},
  "kernelspec": {
   "display_name": "Python [conda root]",
   "language": "python",
   "name": "conda-root-py"
  },
  "language_info": {
   "codemirror_mode": {
    "name": "ipython",
    "version": 2
   },
   "file_extension": ".py",
   "mimetype": "text/x-python",
   "name": "python",
   "nbconvert_exporter": "python",
   "pygments_lexer": "ipython2",
   "version": "2.7.12"
  }
 },
 "nbformat": 4,
 "nbformat_minor": 1
}
