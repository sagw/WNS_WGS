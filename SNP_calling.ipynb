{
 "cells": [
  {
   "cell_type": "code",
   "execution_count": null,
   "metadata": {
    "collapsed": true
   },
   "outputs": [],
   "source": [
    "find $(pwd) -name *_paired_marked_dupes.bam > paired_dupes_bam.filelist"
   ]
  },
  {
   "cell_type": "code",
   "execution_count": null,
   "metadata": {
    "collapsed": true
   },
   "outputs": [],
   "source": [
    "./angsd -b paired_dupes_bam.filelist -GL 1 -doMajorMinor 1 -doMaf 2 -P 5"
   ]
  },
  {
   "cell_type": "code",
   "execution_count": null,
   "metadata": {
    "collapsed": true
   },
   "outputs": [],
   "source": [
    "~/angsd/angsd -b paired_dupes_bam.filelist -GL 1 -doMajorMinor 1 -doMaf 2 -P 20"
   ]
  },
  {
   "cell_type": "code",
   "execution_count": null,
   "metadata": {
    "collapsed": true
   },
   "outputs": [],
   "source": [
    "Problem spawning thread\n",
    "Resource temporarily unavailable"
   ]
  },
  {
   "cell_type": "code",
   "execution_count": null,
   "metadata": {
    "collapsed": true
   },
   "outputs": [],
   "source": [
    "~/angsd/angsd -b paired_dupes_bam.filelist -GL 1 -doMajorMinor 1 -doMaf 2 -P 15"
   ]
  },
  {
   "cell_type": "code",
   "execution_count": null,
   "metadata": {
    "collapsed": true
   },
   "outputs": [],
   "source": [
    "    -> Mon Jan  9 11:26:36 2017\n",
    "        -> Arguments and parameters for all analysis are located in .arg file\n",
    "        [ALL done] cpu-time used =  370464.94 sec\n",
    "        [ALL done] walltime used =  44673.00 sec"
   ]
  },
  {
   "cell_type": "code",
   "execution_count": null,
   "metadata": {
    "collapsed": false
   },
   "outputs": [],
   "source": [
    "wc -l /local/home/sarahgw/WGS/SNPS/12_07/angsdout2.mafs.gz"
   ]
  },
  {
   "cell_type": "markdown",
   "metadata": {},
   "source": [
    "21192344 angsdout2.mafs.gz"
   ]
  },
  {
   "cell_type": "code",
   "execution_count": null,
   "metadata": {
    "collapsed": true
   },
   "outputs": [],
   "source": [
    "head /local/home/sarahgw/WGS/SNPS/12_07/angsdout2.mafs.gz"
   ]
  },
  {
   "cell_type": "markdown",
   "metadata": {},
   "source": [
    "chromo  position        major   minor   unknownEM       nInd\n",
    "GL429767        1       A       C       0.000006        10\n",
    "GL429767        2       G       A       0.000006        10\n",
    "GL429767        3       T       A       0.000006        10\n",
    "GL429767        4       C       A       0.000006        10\n",
    "GL429767        5       C       A       0.000006        10\n",
    "GL429767        6       T       A       0.000006        10\n",
    "GL429767        7       T       A       0.000006        10\n",
    "GL429767        8       T       A       0.000003        11\n",
    "GL429767        9       T       A       0.000004        12\n",
    "GL429767        10      T       A       0.000004        12\n",
    "GL429767        11      G       A       0.000004        12\n",
    "GL429767        12      T       A       0.000004        12\n",
    "GL429767        13      G       A       0.000004        12\n",
    "GL429767        14      G       A       0.000004        12\n",
    "GL429767        15      T       A       0.000005        12\n",
    "GL429767        16      A       C       0.000005        12\n",
    "GL429767        17      C       A       0.000005        12\n",
    "GL429767        18      T       A       0.000005        12\n",
    "GL429767        19      G       A       0.000005        12\n",
    "GL429767        20      T       A       0.000005        12\n",
    "GL429767        21      C       A       0.000005        12\n",
    "GL429767        22      T       A       0.000005        12\n",
    "GL429767        23      G       A       0.000005        12\n",
    "GL429767        24      C       A       0.000005        12\n",
    "GL429767        25      A       C       0.000005        12\n",
    "GL429767        26      G       A       0.000005        12\n",
    "GL429767        27      A       C       0.000005        12\n",
    "GL429767        28      G       A       0.000005        12\n",
    "GL429767        29      G       A       0.000005        12\n",
    "GL429767        30      A       C       0.000005        12"
   ]
  },
  {
   "cell_type": "code",
   "execution_count": null,
   "metadata": {
    "collapsed": true
   },
   "outputs": [],
   "source": [
    "find $(pwd) -name *U_**_pairedplus_marked_dupes.bam > pairedplus_U_dupes_bam.filelist "
   ]
  },
  {
   "cell_type": "code",
   "execution_count": 1,
   "metadata": {
    "collapsed": false
   },
   "outputs": [
    {
     "name": "stdout",
     "output_type": "stream",
     "text": [
      "/local/home/sarahgw/WGS/Sequences/hiseq_2016_12_07_complete/NJ_E_30/NJ_E_30_pairedplus_marked_dupes.bam\r\n",
      "/local/home/sarahgw/WGS/Sequences/hiseq_2016_12_07_complete/NJ_E_25/NJ_E_25_pairedplus_marked_dupes.bam\r\n",
      "/local/home/sarahgw/WGS/Sequences/hiseq_2016_12_07_complete/NJ_E_27/NJ_E_27_pairedplus_marked_dupes.bam\r\n",
      "/local/home/sarahgw/WGS/Sequences/hiseq_2016_12_07_complete/NJ_E_29/NJ_E_29_pairedplus_marked_dupes.bam\r\n",
      "/local/home/sarahgw/WGS/Sequences/hiseq_2016_12_07_complete/NJ_E_24/NJ_E_24_pairedplus_marked_dupes.bam\r\n",
      "/local/home/sarahgw/WGS/Sequences/hiseq_2016_12_07_complete/NJ_E_23/NJ_E_23_pairedplus_marked_dupes.bam\r\n",
      "/local/home/sarahgw/WGS/Sequences/hiseq_2016_12_07_complete/NJ_E_22/NJ_E_22_pairedplus_marked_dupes.bam\r\n",
      "/local/home/sarahgw/WGS/Sequences/hiseq_2016_12_07_complete/NJ_E_28/NJ_E_28_pairedplus_marked_dupes.bam\r\n",
      "/local/home/sarahgw/WGS/Sequences/hiseq_2016_12_07_complete/NJ_E_26/NJ_E_26_pairedplus_marked_dupes.bam\r\n"
     ]
    }
   ],
   "source": [
    "!head /local/home/sarahgw/WGS/SNPS/12_07/pairedplus_E_dupes_bam.filelist"
   ]
  },
  {
   "cell_type": "code",
   "execution_count": null,
   "metadata": {
    "collapsed": true
   },
   "outputs": [],
   "source": [
    "find $(pwd) -name *E_**_pairedplus_marked_dupes.bam > pairedplus_E_dupes_bam.filelist "
   ]
  },
  {
   "cell_type": "code",
   "execution_count": 2,
   "metadata": {
    "collapsed": false
   },
   "outputs": [
    {
     "name": "stdout",
     "output_type": "stream",
     "text": [
      "/local/home/sarahgw/WGS/Sequences/hiseq_2016_12_07_complete/NJ_U_12/NJ_U_12_pairedplus_marked_dupes.bam\r\n",
      "/local/home/sarahgw/WGS/Sequences/hiseq_2016_12_07_complete/NJ_U_08/NJ_U_08_pairedplus_marked_dupes.bam\r\n",
      "/local/home/sarahgw/WGS/Sequences/hiseq_2016_12_07_complete/NJ_U_01/NJ_U_01_pairedplus_marked_dupes.bam\r\n",
      "/local/home/sarahgw/WGS/Sequences/hiseq_2016_12_07_complete/NJ_U_14/NJ_U_14_pairedplus_marked_dupes.bam\r\n",
      "/local/home/sarahgw/WGS/Sequences/hiseq_2016_12_07_complete/NJ_U_16/NJ_U_16_pairedplus_marked_dupes.bam\r\n",
      "/local/home/sarahgw/WGS/Sequences/hiseq_2016_12_07_complete/NJ_U_07/NJ_U_07_pairedplus_marked_dupes.bam\r\n",
      "/local/home/sarahgw/WGS/Sequences/hiseq_2016_12_07_complete/NJ_U_15/NJ_U_15_pairedplus_marked_dupes.bam\r\n",
      "/local/home/sarahgw/WGS/Sequences/hiseq_2016_12_07_complete/NJ_U_09/NJ_U_09_pairedplus_marked_dupes.bam\r\n",
      "/local/home/sarahgw/WGS/Sequences/hiseq_2016_12_07_complete/NJ_U_11/NJ_U_11_pairedplus_marked_dupes.bam\r\n",
      "/local/home/sarahgw/WGS/Sequences/hiseq_2016_12_07_complete/NJ_U_10/NJ_U_10_pairedplus_marked_dupes.bam\r\n"
     ]
    }
   ],
   "source": [
    "!head /local/home/sarahgw/WGS/SNPS/12_07/pairedplus_U_dupes_bam.filelist"
   ]
  },
  {
   "cell_type": "markdown",
   "metadata": {},
   "source": [
    "I'm still confused about this, should I call all SNPs together, or separate populations and then call snps for each population. I do see some studies where they give the number of snps shared between the populations and the number that are unique for each population. But wouldn't you lose information about loci that are different between the two populations? I'm probably being naive in thinking that we would see anything like that. So calling snps in each pop. "
   ]
  },
  {
   "cell_type": "code",
   "execution_count": null,
   "metadata": {
    "collapsed": true
   },
   "outputs": [],
   "source": [
    "~/angsd/angsd -b pairedplus_U_dupes_bam.filelist -GL 1 -doMajorMinor 1 -doMaf 2 -P 10 -SNP_pval 1e-6 -out angsdout_pairedplus_U"
   ]
  },
  {
   "cell_type": "code",
   "execution_count": 1,
   "metadata": {
    "collapsed": false
   },
   "outputs": [
    {
     "name": "stdout",
     "output_type": "stream",
     "text": [
      "1453355 /local/home/sarahgw/WGS/SNPS/12_07/angsdout_pairedplus_U.mafs.gz\r\n"
     ]
    }
   ],
   "source": [
    "!wc -l /local/home/sarahgw/WGS/SNPS/12_07/angsdout_pairedplus_U.mafs.gz"
   ]
  },
  {
   "cell_type": "code",
   "execution_count": null,
   "metadata": {
    "collapsed": true
   },
   "outputs": [],
   "source": [
    "~/angsd/angsd -b pairedplus_E_dupes_bam.filelist -GL 1 -doMajorMinor 1 -doMaf 2 -P 10 -SNP_pval 1e-6 -out angsdout_pairedplus_E"
   ]
  },
  {
   "cell_type": "code",
   "execution_count": 3,
   "metadata": {
    "collapsed": false
   },
   "outputs": [
    {
     "name": "stdout",
     "output_type": "stream",
     "text": [
      "751904 /local/home/sarahgw/WGS/SNPS/12_07/angsdout_pairedplus_E.mafs.gz\r\n"
     ]
    }
   ],
   "source": [
    "!wc -l /local/home/sarahgw/WGS/SNPS/12_07/angsdout_pairedplus_E.mafs.gz"
   ]
  },
  {
   "cell_type": "markdown",
   "metadata": {},
   "source": [
    "FST  \n",
    "\n",
    "The procedure is\n",
    "\n",
    "- Use angsd for calculating saf files for each population  \n",
    "\n",
    "- Use realSFS to calculate 2d sfs for each pair  \n",
    "\n",
    "- Use the above calculated 2dsfs as priors jointly with all safs from step1 to calculate fst binary files  \n",
    "\n",
    "- Use realSFS to extract the the fst values from the fst"
   ]
  },
  {
   "cell_type": "code",
   "execution_count": null,
   "metadata": {
    "collapsed": true
   },
   "outputs": [],
   "source": [
    "~/angsd/angsd -P 5 -b pairedplus_U_dupes_bam.filelist -fold 1 -anc /local/home/sarahgw/references/Myotis_Lucifugus2.0/Myotis_lucifugus.Myoluc2.0.dna_sm.toplevel.fa -GL 1 -dosaf 1 -out angsdout_SAF_pairedplus_U"
   ]
  },
  {
   "cell_type": "code",
   "execution_count": null,
   "metadata": {
    "collapsed": true
   },
   "outputs": [],
   "source": [
    "~/angsd/angsd -P 5 -b pairedplus_E_dupes_bam.filelist -fold 1 -anc /local/home/sarahgw/references/Myotis_Lucifugus2.0/Myotis_lucifugus.Myoluc2.0.dna_sm.toplevel.fa -GL 1 -dosaf 1 -out angsdout_SAF_pairedplus_E"
   ]
  },
  {
   "cell_type": "markdown",
   "metadata": {},
   "source": [
    "Hm, it wont let me run it not enough memory, trying with a subset"
   ]
  },
  {
   "cell_type": "code",
   "execution_count": null,
   "metadata": {
    "collapsed": true
   },
   "outputs": [],
   "source": [
    "~/angsd/misc/realSFS -nsites 920959282 angsdout_SAF_pairedplus_E.saf.idx angsdout_SAF_pairedplus_U.saf.idx > pairedplus_EU.ml"
   ]
  },
  {
   "cell_type": "markdown",
   "metadata": {},
   "source": [
    "Well that worked, but then the downstream fst calculaitons won't work says there's a mismatch probably because its a subset... Maybe i need to filter it first"
   ]
  },
  {
   "cell_type": "code",
   "execution_count": null,
   "metadata": {
    "collapsed": true
   },
   "outputs": [],
   "source": [
    "~/angsd/angsd -P 5 -b pairedplus_U_dupes_bam.filelist -fold 1 -anc /local/home/sarahgw/references/Myotis_Lucifugus2.0/Myotis_lucifugus.Myoluc2.0.dna_sm.toplevel.fa -GL 1 -dosaf 1 -minMapQ 30 -minQ 20 -out angsdout_SAF_pairedplus_filt_U"
   ]
  },
  {
   "cell_type": "markdown",
   "metadata": {},
   "source": [
    "        -> angsd version: 0.914 (htslib: 1.3.2) build(Dec 19 2016 16:00:55) \n",
    "        -> Reading fasta: /local/home/sarahgw/references/Myotis_Lucifugus2.0/Myotis_lucifugus.Myoluc2.0.dna_sm.toplevel.fa \n",
    "        -> Parsing 15 number of samples \n",
    "\n",
    "        -> Allocated ~ 10 Megabytes to the nodepool \n",
    "\n",
    "        -> Allocated ~ 20 Megabytes to the nodepool \n",
    "        -> Printing at chr: GL429767 pos:614659 chunknumber 100 contains 3318 sites \n",
    "        -> Allocated ~ 30 Megabytes to the nodepool \n",
    "        -> Printing at chr: GL429767 pos:22488277 chunknumber 4600 contains 3095 sites \n",
    "        -> Allocated ~ 40 Megabytes to the nodepool \n",
    "        -> Printing at chr: GL429875 pos:1749130 chunknumber 198500 contains 6079 sitess \n",
    "        -> Allocated ~ 50 Megabytes to the nodepool \n",
    "        -> Printing at chr: AAPE02072749 pos:780 chunknumber 370000 contains 374 sitessss \n",
    "        -> Done reading data waiting for calculations to finish \n",
    "        -> Done waiting for threads \n",
    "        -> Output filenames: \n",
    "                ->\"angsdout_SAF_pairedplus_filt_U.arg\" \n",
    "                ->\"angsdout_SAF_pairedplus_filt_U.saf.gz\" \n",
    "                ->\"angsdout_SAF_pairedplus_filt_U.saf.pos.gz\" \n",
    "                ->\"angsdout_SAF_pairedplus_filt_U.saf.idx\" \n",
    "        -> Fri Jan 13 19:38:12 2017 \n",
    "        -> Arguments and parameters for all analysis are located in .arg file \n",
    "        [ALL done] cpu-time used =  53866.27 sec \n",
    "        [ALL done] walltime used =  24837.00 sec "
   ]
  },
  {
   "cell_type": "code",
   "execution_count": null,
   "metadata": {
    "collapsed": true
   },
   "outputs": [],
   "source": [
    "~/angsd/angsd -P 5 -b pairedplus_E_dupes_bam.filelist -fold 1 -anc /local/home/sarahgw/references/Myotis_Lucifugus2.0/Myotis_lucifugus.Myoluc2.0.dna_sm.toplevel.fa -GL 1 -dosaf 1 -minMapQ 30 -minQ 20 -out angsdout_SAF_pairedplus_filt_E"
   ]
  },
  {
   "cell_type": "markdown",
   "metadata": {},
   "source": [
    "        -> angsd version: 0.914 (htslib: 1.3.2) build(Dec 19 2016 16:00:55) \n",
    "        -> Must also supply -ref for adjusting the mapping quality \n",
    "[sarahgw@amphiprion 12_07]$ ~/angsd/angsd -P 5 -b pairedplus_E_dupes_bam.filelist -fold 1 -anc /local/home/sarahgw/references/Myotis_Lucifugus2.0/Myotis_lucifugus.Myoluc2.0.dna_sm.toplevel.fa -GL 1 -dosaf 1 -baq 1  -minMapQ 30 -minQ 20 -out angsdout_SAF_pairedplus_filt_E \n",
    "        -> angsd version: 0.914 (htslib: 1.3.2) build(Dec 19 2016 16:00:55) \n",
    "        -> Must also supply -ref for adjusting base qualities (baq) \n",
    "[sarahgw@amphiprion 12_07]$ ~/angsd/angsd -P 5 -b pairedplus_E_dupes_bam.filelist -fold 1 -anc  /local/home/sarahgw/references/Myotis_Lucifugus2.0/Myotis_lucifugus.Myoluc2.0.dna_sm.toplevel.fa -GL 1 -dosaf 1 - minMapQ 30 -minQ 20 -out angsdout_SAF_pairedplus_filt_E \n",
    "        -> angsd version: 0.914 (htslib: 1.3.2) build(Dec 19 2016 16:00:55) \n",
    "        -> Reading fasta:  /local/home/sarahgw/references/Myotis_Lucifugus2.0/Myotis_lucifugus.Myoluc2.0.dna_sm.toplevel.fa \n",
    "        -> Parsing 9 number of samples \n",
    "\n",
    "        -> Allocated ~ 10 Megabytes to the nodepool \n",
    "        -> Printing at chr: GL429780 pos:10203228 chunknumber 70100 contains 4398 sites \n",
    "        -> Allocated ~ 20 Megabytes to the nodepool \n",
    "        -> Printing at chr: GL429805 pos:526285 chunknumber 127600 contains 3428 sitesss \n",
    "        -> Allocated ~ 30 Megabytes to the nodepool \n",
    "        -> Printing at chr: GL429848 pos:4832245 chunknumber 190600 contains 6067 sitess \n",
    "        -> Allocated ~ 40 Megabytes to the nodepool \n",
    "        -> Printing at chr: AAPE02072750 pos:2629 chunknumber 397700 contains 456 sitessss \n",
    "        -> Done reading data waiting for calculations to finish \n",
    "        -> Done waiting for threads \n",
    "        -> Output filenames: \n",
    "                ->\"angsdout_SAF_pairedplus_filt_E.arg\" \n",
    "                ->\"angsdout_SAF_pairedplus_filt_E.saf.gz\" \n",
    "                ->\"angsdout_SAF_pairedplus_filt_E.saf.pos.gz\" \n",
    "                ->\"angsdout_SAF_pairedplus_filt_E.saf.idx\" \n",
    "        -> Fri Jan 13 17:57:33 2017 \n",
    "        -> Arguments and parameters for all analysis are located in .arg file \n",
    "        [ALL done] cpu-time used =  29512.52 sec \n",
    "        [ALL done] walltime used =  18877.00 sec "
   ]
  },
  {
   "cell_type": "code",
   "execution_count": null,
   "metadata": {
    "collapsed": true
   },
   "outputs": [],
   "source": [
    "~/angsd/misc/realSFS -P 15 angsdout_SAF_pairedplus_filt_E.saf.idx angsdout_SAF_pairedplus_filt_U.saf.idx > pairedplus_EU_all.ml"
   ]
  },
  {
   "cell_type": "markdown",
   "metadata": {
    "collapsed": true
   },
   "source": [
    "------------\n",
    "startlik=-4028081952.519923\n",
    "lik[2]=-1064371983.062570 diff=2.963710e+09 alpha:1.000000 sr2:2.887500e-02 \n",
    "lik[5]=-459227225.504984 diff=6.051448e+08 alpha:2.261954 sr2:1.388677e-02 \n",
    "lik[8]=-382674344.349792 diff=7.655288e+07 alpha:4.000000 sr2:4.610179e-03 \n",
    "lik[11]=-380985728.416172 diff=1.688616e+06 alpha:1.123882 sr2:8.588768e-06 \n",
    "lik[14]=-378954378.480020 diff=2.031350e+06 alpha:5.554610 sr2:2.141238e-07 \n",
    "lik[17]=-378013414.477290 diff=9.409640e+05 alpha:16.000000 sr2:2.798769e-07 \n",
    "lik[20]=-377838886.197204 diff=1.745283e+05 alpha:2.205157 sr2:1.529734e-06 \n",
    "lik[23]=-377760278.281923 diff=7.860792e+04 alpha:6.259872 sr2:3.361461e-08 \n",
    "lik[26]=-377728338.172907 diff=3.194011e+04 alpha:2.492914 sr2:3.387315e-08 \n",
    "lik[29]=-377624469.486208 diff=1.038687e+05 alpha:9.506637 sr2:1.808332e-08 \n",
    "lik[32]=-377598068.818014 diff=2.640067e+04 alpha:1.699255 sr2:4.339191e-08 \n",
    "lik[35]=-377373114.359896 diff=2.249545e+05 alpha:29.961192 sr2:1.469674e-08 \n",
    "lik[38]=-377361713.729142 diff=1.140063e+04 alpha:1.447980 sr2:1.926002e-07 \n",
    "lik[41]=-377350224.891547 diff=1.148884e+04 alpha:9.086377 sr2:4.786828e-09 \n",
    "lik[44]=-377347119.114922 diff=3.105777e+03 alpha:4.183368 sr2:2.794418e-09 \n",
    "lik[47]=-377345094.956945 diff=2.024158e+03 alpha:3.539456 sr2:1.439914e-09 \n",
    "lik[50]=-377342952.640848 diff=2.142316e+03 alpha:4.688779 sr2:1.053757e-09 \n",
    "lik[53]=-377341735.347763 diff=1.217293e+03 alpha:2.992869 sr2:1.019525e-09 \n",
    "lik[56]=-377339745.650101 diff=1.989698e+03 alpha:6.299170 sr2:6.964713e-10 \n",
    "lik[59]=-377339067.894719 diff=6.777554e+02 alpha:2.185793 sr2:9.474361e-10 \n",
    "lik[62]=-377336221.126888 diff=2.846768e+03 alpha:13.838594 sr2:4.648834e-10 \n",
    "lik[65]=-377335854.385032 diff=3.667419e+02 alpha:1.470497 sr2:2.265811e-09 \n",
    "lik[68]=-377330259.668308 diff=5.594717e+03 alpha:64.000000 sr2:2.704722e-10 \n",
    "lik[71]=-377329865.639578 diff=3.940287e+02 alpha:1.326394 sr2:1.048825e-08 \n",
    "lik[74]=-377328950.663913 diff=9.149757e+02 alpha:31.521941 sr2:4.042845e-11 \n",
    "lik[77]=-377328782.616006 diff=1.680479e+02 alpha:2.388797 sr2:1.361065e-09 \n",
    "lik[80]=-377328495.023754 diff=2.875923e+02 alpha:12.679275 sr2:1.881523e-11 \n",
    "lik[83]=-377328449.582952 diff=4.544080e+01 alpha:1.528321 sr2:7.835337e-11 \n",
    "lik[86]=-377328097.815595 diff=3.517674e+02 alpha:24.849435 sr2:1.296547e-11 \n",
    "lik[89]=-377327940.018945 diff=1.577966e+02 alpha:2.966335 sr2:1.867954e-10 \n",
    "lik[92]=-377327893.449429 diff=4.656952e+01 alpha:2.606105 sr2:1.057561e-11 \n",
    "lik[95]=-377327761.647243 diff=1.318022e+02 alpha:8.774036 sr2:6.837101e-12 \n",
    "lik[98]=-377327730.848580 diff=3.079866e+01 alpha:1.760961 sr2:1.548558e-11 \n",
    "lik[101]=-377327327.453319 diff=4.033953e+02 alpha:32.927175 sr2:5.197788e-1 2\n",
    "likelihood: -377327327.453319 \n",
    "------------ \n",
    "        -> Done reading data from chromosome will prepare next chromosome \n",
    "        -> Only read nSites: 0 will therefore prepare next chromosome (or exit) \n",
    "\n",
    "        -> NB NB output is no longer log probs of the frequency spectrum! \n",
    "        -> Output is now simply the expected values! \n",
    "        -> You can convert to the old format simply with log(norm(x)) \n"
   ]
  },
  {
   "cell_type": "code",
   "execution_count": null,
   "metadata": {
    "collapsed": true
   },
   "outputs": [],
   "source": [
    "~/angsd/misc/realSFS fst index angsdout_SAF_pairedplus_E.saf.idx angsdout_SAF_pairedplus_U.saf.idx -sfs pairedplus_EU_all.ml -fstout pairedplus_EU_fst"
   ]
  },
  {
   "cell_type": "markdown",
   "metadata": {},
   "source": [
    "-> fst index finished with no errors!"
   ]
  },
  {
   "cell_type": "code",
   "execution_count": null,
   "metadata": {
    "collapsed": true
   },
   "outputs": [],
   "source": [
    "~/angsd/misc/realSFS fst stats pairedplus_EU_fst.fst.idx\n"
   ]
  },
  {
   "cell_type": "markdown",
   "metadata": {},
   "source": [
    " Assuming idxname:pairedplus_EU_fst.fst.idx \n",
    " \n",
    "        -> Assuming .fst.gz file: pairedplus_EU_fst.fst.gz \n",
    "        \n",
    "        -> FST.Unweight[nObs:1855708531]:0.065448 Fst.Weight:0.095386  \n",
    "        \n",
    "0.065448 0.095386 \n"
   ]
  },
  {
   "cell_type": "code",
   "execution_count": null,
   "metadata": {
    "collapsed": true
   },
   "outputs": [],
   "source": [
    "~/angsd/misc/realSFS fst stats2 pairedplus_EU_fst.fst.idx -win 5000 -step 1000 > slidingwindow"
   ]
  },
  {
   "cell_type": "markdown",
   "metadata": {},
   "source": [
    "calling snps all together"
   ]
  },
  {
   "cell_type": "code",
   "execution_count": null,
   "metadata": {
    "collapsed": true
   },
   "outputs": [],
   "source": [
    "~/angsd/angsd -b paired_dupes_bam.filelist -GL 1 -doMajorMinor 1 -doMaf 2 -P 15 -SNP_pval 1e-6 -doCounts 1 -out pairedall_snps"
   ]
  },
  {
   "cell_type": "code",
   "execution_count": 1,
   "metadata": {
    "collapsed": false
   },
   "outputs": [
    {
     "name": "stdout",
     "output_type": "stream",
     "text": [
      "1538388 /local/home/sarahgw/WGS/SNPS/12_07/pairedall_snps.mafs.gz\r\n"
     ]
    }
   ],
   "source": [
    "!wc -l /local/home/sarahgw/WGS/SNPS/12_07/pairedall_snps.mafs.gz"
   ]
  },
  {
   "cell_type": "markdown",
   "metadata": {},
   "source": [
    "Do other statistics, estimate thetas, tajima's d--You need to do this for each population, if the E population has a negative tajima's d that indicates selection\n",
    "\n",
    "\n",
    "So first, estimate SFS for each population."
   ]
  },
  {
   "cell_type": "code",
   "execution_count": null,
   "metadata": {
    "collapsed": true
   },
   "outputs": [],
   "source": [
    "~/angsd/misc/realSFS angsdout_SAF_pairedplus_filt_E.saf.idx > Pairedplus_E.sfs"
   ]
  },
  {
   "cell_type": "markdown",
   "metadata": {},
   "source": [
    "        -> NB NB output is no longer log probs of the frequency spectrum!\n",
    "        -> Output is now simply the expected values!\n",
    "        -> You can convert to the old format simply with log(norm(x))"
   ]
  },
  {
   "cell_type": "code",
   "execution_count": null,
   "metadata": {
    "collapsed": true
   },
   "outputs": [],
   "source": [
    "~/angsd/misc/realSFS angsdout_SAF_pairedplus_filt_U.saf.idx > Pairedplus_U.sfs"
   ]
  },
  {
   "cell_type": "code",
   "execution_count": null,
   "metadata": {
    "collapsed": true
   },
   "outputs": [],
   "source": []
  },
  {
   "cell_type": "code",
   "execution_count": null,
   "metadata": {
    "collapsed": true
   },
   "outputs": [],
   "source": [
    "~/angsd/angsd -bam pairedplus_dupes_bam.filelist -out pairedplus_EU_all_theta -doThetas 1 -doSaf 1 -pest pairedplus_EU_all.ml -anc /local/home/sarahgw/references/Myotis_Lucifugus2.0/Myotis_lucifugus.Myoluc2.0.dna_sm.toplevel.fa -GL 1  "
   ]
  },
  {
   "cell_type": "code",
   "execution_count": null,
   "metadata": {
    "collapsed": true
   },
   "outputs": [],
   "source": []
  },
  {
   "cell_type": "markdown",
   "metadata": {},
   "source": [
    "Print SAF for regions of interest"
   ]
  },
  {
   "cell_type": "code",
   "execution_count": null,
   "metadata": {
    "collapsed": true
   },
   "outputs": [],
   "source": [
    "~/angsd/misc/realSFS print angsdout_SAF_pairedplus_filt_U.saf.idx angsdout_SAF_pairedplus_filt_E.saf.idx -r GL429767:64205000-64213999"
   ]
  }
 ],
 "metadata": {
  "anaconda-cloud": {},
  "kernelspec": {
   "display_name": "Python [conda root]",
   "language": "python",
   "name": "conda-root-py"
  },
  "language_info": {
   "codemirror_mode": {
    "name": "ipython",
    "version": 2
   },
   "file_extension": ".py",
   "mimetype": "text/x-python",
   "name": "python",
   "nbconvert_exporter": "python",
   "pygments_lexer": "ipython2",
   "version": "2.7.12"
  }
 },
 "nbformat": 4,
 "nbformat_minor": 1
}
