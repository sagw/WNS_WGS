{
 "cells": [
  {
   "cell_type": "code",
   "execution_count": 2,
   "metadata": {
    "collapsed": false
   },
   "outputs": [
    {
     "name": "stderr",
     "output_type": "stream",
     "text": [
      "Loading required package: data.table\n"
     ]
    }
   ],
   "source": [
    "setwd (\"~/WGS/Sequences/Metrics/\")\n",
    "require(data.table)"
   ]
  },
  {
   "cell_type": "code",
   "execution_count": 3,
   "metadata": {
    "collapsed": false
   },
   "outputs": [
    {
     "name": "stdout",
     "output_type": "stream",
     "text": [
      "\r",
      "Read 0.0% of 2878741 rows\r",
      "Read 39.6% of 2878741 rows\r",
      "Read 95.5% of 2878741 rows\r",
      "Read 2878741 rows and 6 (of 6) columns from 0.112 GB file in 00:00:05\n"
     ]
    }
   ],
   "source": [
    "cov=fread(\"Pool3_Coverage_all.txt\")"
   ]
  },
  {
   "cell_type": "code",
   "execution_count": 4,
   "metadata": {
    "collapsed": false
   },
   "outputs": [],
   "source": [
    "colnames(cov)=c(\"Scaffold\", \"depth\", \"NumBp\", \"BpTotal\", \"Percent\", \"Sample\")"
   ]
  },
  {
   "cell_type": "code",
   "execution_count": 9,
   "metadata": {
    "collapsed": true
   },
   "outputs": [],
   "source": [
    "cov$percentage=(as.numeric(as.character(cov$Percent)))*100"
   ]
  },
  {
   "cell_type": "code",
   "execution_count": 11,
   "metadata": {
    "collapsed": true
   },
   "outputs": [],
   "source": [
    "zero=cov[cov$depth==0,]"
   ]
  },
  {
   "cell_type": "code",
   "execution_count": 20,
   "metadata": {
    "collapsed": true
   },
   "outputs": [],
   "source": [
    "zero$Percentage=NULL"
   ]
  },
  {
   "cell_type": "code",
   "execution_count": 15,
   "metadata": {
    "collapsed": true
   },
   "outputs": [],
   "source": [
    "zero$Percent=NULL"
   ]
  },
  {
   "cell_type": "code",
   "execution_count": 17,
   "metadata": {
    "collapsed": false
   },
   "outputs": [],
   "source": [
    "zero$depth=NULL"
   ]
  },
  {
   "cell_type": "code",
   "execution_count": 13,
   "metadata": {
    "collapsed": false
   },
   "outputs": [
    {
     "name": "stderr",
     "output_type": "stream",
     "text": [
      "Loading required package: plyr\n"
     ]
    }
   ],
   "source": [
    "require(plyr)"
   ]
  },
  {
   "cell_type": "code",
   "execution_count": 22,
   "metadata": {
    "collapsed": true
   },
   "outputs": [],
   "source": [
    "zero$NumBp=as.numeric(as.character(zero$NumBp))"
   ]
  },
  {
   "cell_type": "code",
   "execution_count": 23,
   "metadata": {
    "collapsed": true
   },
   "outputs": [],
   "source": [
    "zero$BpTotal=as.numeric(as.character(zero$BpTotal))"
   ]
  },
  {
   "cell_type": "code",
   "execution_count": 24,
   "metadata": {
    "collapsed": true
   },
   "outputs": [],
   "source": [
    "zerosum=ddply(zero, \"Sample\", numcolwise(sum))"
   ]
  },
  {
   "cell_type": "code",
   "execution_count": 25,
   "metadata": {
    "collapsed": false
   },
   "outputs": [
    {
     "data": {
      "text/html": [
       "<table>\n",
       "<thead><tr><th scope=col>Sample</th><th scope=col>NumBp</th><th scope=col>BpTotal</th></tr></thead>\n",
       "<tbody>\n",
       "\t<tr><td>NJ_E_01   </td><td>3086947164</td><td>4069150600</td></tr>\n",
       "\t<tr><td>NJ_E_02   </td><td>2112958602</td><td>4069150600</td></tr>\n",
       "\t<tr><td>NJ_E_04   </td><td>2304441684</td><td>4069150600</td></tr>\n",
       "\t<tr><td>NY_E_27   </td><td>2258774908</td><td>4069140048</td></tr>\n",
       "\t<tr><td>NY_E_28   </td><td>1814381140</td><td>4069150600</td></tr>\n",
       "\t<tr><td>NY_E_29   </td><td>1809010002</td><td>4069150600</td></tr>\n",
       "</tbody>\n",
       "</table>\n"
      ],
      "text/latex": [
       "\\begin{tabular}{r|lll}\n",
       " Sample & NumBp & BpTotal\\\\\n",
       "\\hline\n",
       "\t NJ\\_E\\_01 & 3086947164  & 4069150600 \\\\\n",
       "\t NJ\\_E\\_02 & 2112958602  & 4069150600 \\\\\n",
       "\t NJ\\_E\\_04 & 2304441684  & 4069150600 \\\\\n",
       "\t NY\\_E\\_27 & 2258774908  & 4069140048 \\\\\n",
       "\t NY\\_E\\_28 & 1814381140  & 4069150600 \\\\\n",
       "\t NY\\_E\\_29 & 1809010002  & 4069150600 \\\\\n",
       "\\end{tabular}\n"
      ],
      "text/markdown": [
       "\n",
       "Sample | NumBp | BpTotal | \n",
       "|---|---|---|---|---|---|\n",
       "| NJ_E_01    | 3086947164 | 4069150600 | \n",
       "| NJ_E_02    | 2112958602 | 4069150600 | \n",
       "| NJ_E_04    | 2304441684 | 4069150600 | \n",
       "| NY_E_27    | 2258774908 | 4069140048 | \n",
       "| NY_E_28    | 1814381140 | 4069150600 | \n",
       "| NY_E_29    | 1809010002 | 4069150600 | \n",
       "\n",
       "\n"
      ],
      "text/plain": [
       "  Sample  NumBp      BpTotal   \n",
       "1 NJ_E_01 3086947164 4069150600\n",
       "2 NJ_E_02 2112958602 4069150600\n",
       "3 NJ_E_04 2304441684 4069150600\n",
       "4 NY_E_27 2258774908 4069140048\n",
       "5 NY_E_28 1814381140 4069150600\n",
       "6 NY_E_29 1809010002 4069150600"
      ]
     },
     "metadata": {},
     "output_type": "display_data"
    }
   ],
   "source": [
    "head(zerosum)"
   ]
  },
  {
   "cell_type": "code",
   "execution_count": 27,
   "metadata": {
    "collapsed": false
   },
   "outputs": [],
   "source": [
    "zerosum$percentage=(1-(zerosum$NumBp/zerosum$BpTotal))*100"
   ]
  },
  {
   "cell_type": "code",
   "execution_count": 28,
   "metadata": {
    "collapsed": false
   },
   "outputs": [
    {
     "name": "stderr",
     "output_type": "stream",
     "text": [
      "Loading required package: ggplot2\n"
     ]
    }
   ],
   "source": [
    "require(ggplot2)"
   ]
  },
  {
   "cell_type": "code",
   "execution_count": 29,
   "metadata": {
    "collapsed": true
   },
   "outputs": [],
   "source": [
    "plot=ggplot(data=zerosum, aes(x=Sample, y=percentage))+\n",
    "  geom_bar(data=zerosum, stat=\"identity\")+\n",
    "  theme_bw()+ylab(\"Percent >= 1x coverage\")+\n",
    "  theme(axis.text.x = element_text(angle = 90, hjust = 1))"
   ]
  },
  {
   "cell_type": "code",
   "execution_count": 30,
   "metadata": {
    "collapsed": false
   },
   "outputs": [
    {
     "data": {},
     "metadata": {},
     "output_type": "display_data"
    },
    {
     "data": {
      "image/png": "[encoded data removed]",
      "text/plain": [
       "plot without title"
      ]
     },
     "metadata": {},
     "output_type": "display_data"
    }
   ],
   "source": [
    "plot"
   ]
  },
  {
   "cell_type": "code",
   "execution_count": 7,
   "metadata": {
    "collapsed": false
   },
   "outputs": [],
   "source": [
    "AA=cov[cov$Scaffold==\"AAPE02072785\",]"
   ]
  },
  {
   "cell_type": "code",
   "execution_count": 18,
   "metadata": {
    "collapsed": true
   },
   "outputs": [],
   "source": [
    "AAhigh=AA[AA$depth>20 & AA$Percent>0.02,]"
   ]
  },
  {
   "cell_type": "code",
   "execution_count": 19,
   "metadata": {
    "collapsed": false
   },
   "outputs": [
    {
     "data": {
      "text/html": [
       "<table>\n",
       "<thead><tr><th scope=col>Scaffold</th><th scope=col>depth</th><th scope=col>NumBp</th><th scope=col>BpTotal</th><th scope=col>Percent</th><th scope=col>Sample</th></tr></thead>\n",
       "<tbody>\n",
       "\t<tr><td>AAPE02072785</td><td>21          </td><td>594         </td><td>21014       </td><td>0.0282669   </td><td>NJ_E_01     </td></tr>\n",
       "\t<tr><td>AAPE02072785</td><td>22          </td><td>708         </td><td>21014       </td><td>0.0336918   </td><td>NJ_E_01     </td></tr>\n",
       "\t<tr><td>AAPE02072785</td><td>23          </td><td>849         </td><td>21014       </td><td>0.0404016   </td><td>NJ_E_01     </td></tr>\n",
       "\t<tr><td>AAPE02072785</td><td>24          </td><td>857         </td><td>21014       </td><td>0.0407823   </td><td>NJ_E_01     </td></tr>\n",
       "\t<tr><td>AAPE02072785</td><td>25          </td><td>707         </td><td>21014       </td><td>0.0336442   </td><td>NJ_E_01     </td></tr>\n",
       "\t<tr><td>AAPE02072785</td><td>26          </td><td>732         </td><td>21014       </td><td>0.0348339   </td><td>NJ_E_01     </td></tr>\n",
       "\t<tr><td>AAPE02072785</td><td>27          </td><td>731         </td><td>21014       </td><td>0.0347863   </td><td>NJ_E_01     </td></tr>\n",
       "\t<tr><td>AAPE02072785</td><td>28          </td><td>707         </td><td>21014       </td><td>0.0336442   </td><td>NJ_E_01     </td></tr>\n",
       "\t<tr><td>AAPE02072785</td><td>29          </td><td>633         </td><td>21014       </td><td>0.0301228   </td><td>NJ_E_01     </td></tr>\n",
       "\t<tr><td>AAPE02072785</td><td>30          </td><td>628         </td><td>21014       </td><td>0.0298848   </td><td>NJ_E_01     </td></tr>\n",
       "\t<tr><td>AAPE02072785</td><td>31          </td><td>521         </td><td>21014       </td><td>0.0247930   </td><td>NJ_E_01     </td></tr>\n",
       "\t<tr><td>AAPE02072785</td><td>32          </td><td>484         </td><td>21014       </td><td>0.0230323   </td><td>NJ_E_01     </td></tr>\n",
       "\t<tr><td>AAPE02072785</td><td>21          </td><td>549         </td><td>21014       </td><td>0.0261254   </td><td>NY_U_14     </td></tr>\n",
       "\t<tr><td>AAPE02072785</td><td>22          </td><td>649         </td><td>21014       </td><td>0.0308842   </td><td>NY_U_14     </td></tr>\n",
       "\t<tr><td>AAPE02072785</td><td>23          </td><td>692         </td><td>21014       </td><td>0.0329304   </td><td>NY_U_14     </td></tr>\n",
       "\t<tr><td>AAPE02072785</td><td>24          </td><td>685         </td><td>21014       </td><td>0.0325973   </td><td>NY_U_14     </td></tr>\n",
       "\t<tr><td>AAPE02072785</td><td>25          </td><td>710         </td><td>21014       </td><td>0.0337870   </td><td>NY_U_14     </td></tr>\n",
       "\t<tr><td>AAPE02072785</td><td>26          </td><td>581         </td><td>21014       </td><td>0.0276482   </td><td>NY_U_14     </td></tr>\n",
       "\t<tr><td>AAPE02072785</td><td>27          </td><td>524         </td><td>21014       </td><td>0.0249358   </td><td>NY_U_14     </td></tr>\n",
       "\t<tr><td>AAPE02072785</td><td>28          </td><td>513         </td><td>21014       </td><td>0.0244123   </td><td>NY_U_14     </td></tr>\n",
       "\t<tr><td>AAPE02072785</td><td>29          </td><td>430         </td><td>21014       </td><td>0.0204625   </td><td>NY_U_14     </td></tr>\n",
       "\t<tr><td>AAPE02072785</td><td>21          </td><td>424         </td><td>21014       </td><td>0.0201770   </td><td>NY_U_16     </td></tr>\n",
       "\t<tr><td>AAPE02072785</td><td>24          </td><td>478         </td><td>21014       </td><td>0.0227467   </td><td>NY_U_16     </td></tr>\n",
       "\t<tr><td>AAPE02072785</td><td>25          </td><td>500         </td><td>21014       </td><td>0.0237937   </td><td>NY_U_16     </td></tr>\n",
       "\t<tr><td>AAPE02072785</td><td>26          </td><td>526         </td><td>21014       </td><td>0.0250309   </td><td>NY_U_16     </td></tr>\n",
       "\t<tr><td>AAPE02072785</td><td>27          </td><td>447         </td><td>21014       </td><td>0.0212715   </td><td>NY_U_16     </td></tr>\n",
       "</tbody>\n",
       "</table>\n"
      ],
      "text/latex": [
       "\\begin{tabular}{r|llllll}\n",
       " Scaffold & depth & NumBp & BpTotal & Percent & Sample\\\\\n",
       "\\hline\n",
       "\t AAPE02072785 & 21           & 594          & 21014        & 0.0282669    & NJ\\_E\\_01 \\\\\n",
       "\t AAPE02072785 & 22           & 708          & 21014        & 0.0336918    & NJ\\_E\\_01 \\\\\n",
       "\t AAPE02072785 & 23           & 849          & 21014        & 0.0404016    & NJ\\_E\\_01 \\\\\n",
       "\t AAPE02072785 & 24           & 857          & 21014        & 0.0407823    & NJ\\_E\\_01 \\\\\n",
       "\t AAPE02072785 & 25           & 707          & 21014        & 0.0336442    & NJ\\_E\\_01 \\\\\n",
       "\t AAPE02072785 & 26           & 732          & 21014        & 0.0348339    & NJ\\_E\\_01 \\\\\n",
       "\t AAPE02072785 & 27           & 731          & 21014        & 0.0347863    & NJ\\_E\\_01 \\\\\n",
       "\t AAPE02072785 & 28           & 707          & 21014        & 0.0336442    & NJ\\_E\\_01 \\\\\n",
       "\t AAPE02072785 & 29           & 633          & 21014        & 0.0301228    & NJ\\_E\\_01 \\\\\n",
       "\t AAPE02072785 & 30           & 628          & 21014        & 0.0298848    & NJ\\_E\\_01 \\\\\n",
       "\t AAPE02072785 & 31           & 521          & 21014        & 0.0247930    & NJ\\_E\\_01 \\\\\n",
       "\t AAPE02072785 & 32           & 484          & 21014        & 0.0230323    & NJ\\_E\\_01 \\\\\n",
       "\t AAPE02072785 & 21           & 549          & 21014        & 0.0261254    & NY\\_U\\_14 \\\\\n",
       "\t AAPE02072785 & 22           & 649          & 21014        & 0.0308842    & NY\\_U\\_14 \\\\\n",
       "\t AAPE02072785 & 23           & 692          & 21014        & 0.0329304    & NY\\_U\\_14 \\\\\n",
       "\t AAPE02072785 & 24           & 685          & 21014        & 0.0325973    & NY\\_U\\_14 \\\\\n",
       "\t AAPE02072785 & 25           & 710          & 21014        & 0.0337870    & NY\\_U\\_14 \\\\\n",
       "\t AAPE02072785 & 26           & 581          & 21014        & 0.0276482    & NY\\_U\\_14 \\\\\n",
       "\t AAPE02072785 & 27           & 524          & 21014        & 0.0249358    & NY\\_U\\_14 \\\\\n",
       "\t AAPE02072785 & 28           & 513          & 21014        & 0.0244123    & NY\\_U\\_14 \\\\\n",
       "\t AAPE02072785 & 29           & 430          & 21014        & 0.0204625    & NY\\_U\\_14 \\\\\n",
       "\t AAPE02072785 & 21           & 424          & 21014        & 0.0201770    & NY\\_U\\_16 \\\\\n",
       "\t AAPE02072785 & 24           & 478          & 21014        & 0.0227467    & NY\\_U\\_16 \\\\\n",
       "\t AAPE02072785 & 25           & 500          & 21014        & 0.0237937    & NY\\_U\\_16 \\\\\n",
       "\t AAPE02072785 & 26           & 526          & 21014        & 0.0250309    & NY\\_U\\_16 \\\\\n",
       "\t AAPE02072785 & 27           & 447          & 21014        & 0.0212715    & NY\\_U\\_16 \\\\\n",
       "\\end{tabular}\n"
      ],
      "text/markdown": [
       "\n",
       "Scaffold | depth | NumBp | BpTotal | Percent | Sample | \n",
       "|---|---|---|---|---|---|---|---|---|---|---|---|---|---|---|---|---|---|---|---|---|---|---|---|---|---|\n",
       "| AAPE02072785 | 21           | 594          | 21014        | 0.0282669    | NJ_E_01      | \n",
       "| AAPE02072785 | 22           | 708          | 21014        | 0.0336918    | NJ_E_01      | \n",
       "| AAPE02072785 | 23           | 849          | 21014        | 0.0404016    | NJ_E_01      | \n",
       "| AAPE02072785 | 24           | 857          | 21014        | 0.0407823    | NJ_E_01      | \n",
       "| AAPE02072785 | 25           | 707          | 21014        | 0.0336442    | NJ_E_01      | \n",
       "| AAPE02072785 | 26           | 732          | 21014        | 0.0348339    | NJ_E_01      | \n",
       "| AAPE02072785 | 27           | 731          | 21014        | 0.0347863    | NJ_E_01      | \n",
       "| AAPE02072785 | 28           | 707          | 21014        | 0.0336442    | NJ_E_01      | \n",
       "| AAPE02072785 | 29           | 633          | 21014        | 0.0301228    | NJ_E_01      | \n",
       "| AAPE02072785 | 30           | 628          | 21014        | 0.0298848    | NJ_E_01      | \n",
       "| AAPE02072785 | 31           | 521          | 21014        | 0.0247930    | NJ_E_01      | \n",
       "| AAPE02072785 | 32           | 484          | 21014        | 0.0230323    | NJ_E_01      | \n",
       "| AAPE02072785 | 21           | 549          | 21014        | 0.0261254    | NY_U_14      | \n",
       "| AAPE02072785 | 22           | 649          | 21014        | 0.0308842    | NY_U_14      | \n",
       "| AAPE02072785 | 23           | 692          | 21014        | 0.0329304    | NY_U_14      | \n",
       "| AAPE02072785 | 24           | 685          | 21014        | 0.0325973    | NY_U_14      | \n",
       "| AAPE02072785 | 25           | 710          | 21014        | 0.0337870    | NY_U_14      | \n",
       "| AAPE02072785 | 26           | 581          | 21014        | 0.0276482    | NY_U_14      | \n",
       "| AAPE02072785 | 27           | 524          | 21014        | 0.0249358    | NY_U_14      | \n",
       "| AAPE02072785 | 28           | 513          | 21014        | 0.0244123    | NY_U_14      | \n",
       "| AAPE02072785 | 29           | 430          | 21014        | 0.0204625    | NY_U_14      | \n",
       "| AAPE02072785 | 21           | 424          | 21014        | 0.0201770    | NY_U_16      | \n",
       "| AAPE02072785 | 24           | 478          | 21014        | 0.0227467    | NY_U_16      | \n",
       "| AAPE02072785 | 25           | 500          | 21014        | 0.0237937    | NY_U_16      | \n",
       "| AAPE02072785 | 26           | 526          | 21014        | 0.0250309    | NY_U_16      | \n",
       "| AAPE02072785 | 27           | 447          | 21014        | 0.0212715    | NY_U_16      | \n",
       "\n",
       "\n"
      ],
      "text/plain": [
       "   Scaffold     depth NumBp BpTotal Percent   Sample \n",
       "1  AAPE02072785 21    594   21014   0.0282669 NJ_E_01\n",
       "2  AAPE02072785 22    708   21014   0.0336918 NJ_E_01\n",
       "3  AAPE02072785 23    849   21014   0.0404016 NJ_E_01\n",
       "4  AAPE02072785 24    857   21014   0.0407823 NJ_E_01\n",
       "5  AAPE02072785 25    707   21014   0.0336442 NJ_E_01\n",
       "6  AAPE02072785 26    732   21014   0.0348339 NJ_E_01\n",
       "7  AAPE02072785 27    731   21014   0.0347863 NJ_E_01\n",
       "8  AAPE02072785 28    707   21014   0.0336442 NJ_E_01\n",
       "9  AAPE02072785 29    633   21014   0.0301228 NJ_E_01\n",
       "10 AAPE02072785 30    628   21014   0.0298848 NJ_E_01\n",
       "11 AAPE02072785 31    521   21014   0.0247930 NJ_E_01\n",
       "12 AAPE02072785 32    484   21014   0.0230323 NJ_E_01\n",
       "13 AAPE02072785 21    549   21014   0.0261254 NY_U_14\n",
       "14 AAPE02072785 22    649   21014   0.0308842 NY_U_14\n",
       "15 AAPE02072785 23    692   21014   0.0329304 NY_U_14\n",
       "16 AAPE02072785 24    685   21014   0.0325973 NY_U_14\n",
       "17 AAPE02072785 25    710   21014   0.0337870 NY_U_14\n",
       "18 AAPE02072785 26    581   21014   0.0276482 NY_U_14\n",
       "19 AAPE02072785 27    524   21014   0.0249358 NY_U_14\n",
       "20 AAPE02072785 28    513   21014   0.0244123 NY_U_14\n",
       "21 AAPE02072785 29    430   21014   0.0204625 NY_U_14\n",
       "22 AAPE02072785 21    424   21014   0.0201770 NY_U_16\n",
       "23 AAPE02072785 24    478   21014   0.0227467 NY_U_16\n",
       "24 AAPE02072785 25    500   21014   0.0237937 NY_U_16\n",
       "25 AAPE02072785 26    526   21014   0.0250309 NY_U_16\n",
       "26 AAPE02072785 27    447   21014   0.0212715 NY_U_16"
      ]
     },
     "metadata": {},
     "output_type": "display_data"
    }
   ],
   "source": [
    "AAhigh"
   ]
  },
  {
   "cell_type": "code",
   "execution_count": null,
   "metadata": {
    "collapsed": true
   },
   "outputs": [],
   "source": []
  }
 ],
 "metadata": {
  "anaconda-cloud": {},
  "kernelspec": {
   "display_name": "R",
   "language": "R",
   "name": "ir"
  },
  "language_info": {
   "codemirror_mode": "r",
   "file_extension": ".r",
   "mimetype": "text/x-r-source",
   "name": "R",
   "pygments_lexer": "r",
   "version": "3.3.2"
  }
 },
 "nbformat": 4,
 "nbformat_minor": 1
}
