{
 "cells": [
  {
   "cell_type": "code",
   "execution_count": 2,
   "metadata": {
    "collapsed": false,
    "scrolled": true
   },
   "outputs": [
    {
     "name": "stdout",
     "output_type": "stream",
     "text": [
      "##fileformat=VCFv4.2(angsd version)\n",
      "##FORMAT=<ID=GT,Number=1,Type=Integer,Description=\"Genotype\">\n",
      "##FORMAT=<ID=GP,Number=G,Type=Float,Description=\"Genotype Probabilities\">\n",
      "##FORMAT=<ID=PL,Number=G,Type=Float,Description=\"Phred-scaled Genotype Likelihoo \bds\">\n",
      "##FORMAT=<ID=GL,Number=G,Type=Float,Description=\"scaled Genotype Likelihoods (lo \bglikeratios to the most likely (in log10))\">\n",
      "#CHROM  POS     ID      REF     ALT     QUAL    FILTER  INFO    FORMAT  ind0     \bind1    ind2    ind3    ind4    ind5    ind6    ind7    ind8    ind9    ind10    \bind11   ind12   ind13   ind14   ind15   ind16   ind17   ind18   ind19   ind20    \bind21   ind22   ind23   ind24   ind25   ind26   ind27   ind28   ind29   ind30    \bind31   ind32   ind33   ind34   ind35   ind36   ind37   ind38   ind39   ind40    \bind41   ind42   ind43   ind44   ind45   ind46   ind47   ind48   ind49   ind50    \bind51   ind52   ind53   ind54   ind55   ind56   ind57   ind58   ind59   ind60    \bind61   ind62   ind63   ind64   ind65   ind66   ind67   ind68   ind69   ind70    \bind71   ind72   ind73   ind74   ind75   ind76   ind77   ind78   ind79   ind80    \bind81   ind82   ind83   ind84   ind85   ind86   ind87   ind88   ind89   ind90    \bind91   ind92   ind93   ind94   ind95   ind96   ind97   ind98   ind99   ind100   \bind101  ind102  ind103  ind104  ind105  ind106  ind107  ind108  ind109  ind110   \bind111  ind112  ind113  ind114  ind115  ind116  ind117  ind118  ind119  ind120   \bind121  ind122  ind123  ind124  ind125  ind126  ind127  ind128  ind129  ind130   \bind131  ind132  ind133  ind134  ind135\n",
      "\u001b[K0.964247,0.035427,0.000325:0.000000,0.000000,0.000000   0.981961,0.018039,0.0000 \b:\u001b[K"
     ]
    }
   ],
   "source": [
    "!less /local/home/sarahgw/WGS/SNPS/All_mylu/All_mylu_postv.vcf.gz"
   ]
  },
  {
   "cell_type": "code",
   "execution_count": null,
   "metadata": {
    "collapsed": true
   },
   "outputs": [],
   "source": [
    "tabix -pvcf -f /local/home/sarahgw/WGS/SNPS/All_mylu/All_mylu_postv.vcf.gz"
   ]
  }
 ],
 "metadata": {
  "anaconda-cloud": {},
  "kernelspec": {
   "display_name": "Python [conda root]",
   "language": "python",
   "name": "conda-root-py"
  },
  "language_info": {
   "codemirror_mode": {
    "name": "ipython",
    "version": 2
   },
   "file_extension": ".py",
   "mimetype": "text/x-python",
   "name": "python",
   "nbconvert_exporter": "python",
   "pygments_lexer": "ipython2",
   "version": "2.7.12"
  }
 },
 "nbformat": 4,
 "nbformat_minor": 1
}
