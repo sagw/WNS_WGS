{
 "cells": [
  {
   "cell_type": "markdown",
   "metadata": {},
   "source": [
    "Remove duplicates using picard"
   ]
  },
  {
   "cell_type": "code",
   "execution_count": null,
   "metadata": {
    "collapsed": true
   },
   "outputs": [],
   "source": [
    "java -jar picard.jar MarkDuplicates \\\n",
    "      I=/local/home/sarahgw/WGS/Sequences/hiseq_2016_12_07_complete/NJ_E_24/NJ_E_24_paired_eg2_sorted.bam \\\n",
    "      O=/local/home/sarahgw/WGS/Sequences/hiseq_2016_12_07_complete/NJ_E_24/NJ_E_24_paired_marked_dupes.bam \\\n",
    "      M=/local/home/sarahgw/WGS/Sequences/hiseq_2016_12_07_complete/NJ_E_24/NJ_E_24_paired_marked_dup_metrics.txt \\\n",
    "      REMOVE_DUPLICATES=true \\\n",
    "      ASSUME_SORT_ORDER=coordinate "
   ]
  },
  {
   "cell_type": "code",
   "execution_count": null,
   "metadata": {
    "collapsed": true
   },
   "outputs": [],
   "source": [
    "java -jar picard.jar MarkDuplicates \\\n",
    "      I=/local/home/sarahgw/WGS/Sequences/hiseq_2016_12_07_complete/NJ_E_25/NJ_E_25_paired_eg2_sorted.bam \\\n",
    "      O=/local/home/sarahgw/WGS/Sequences/hiseq_2016_12_07_complete/NJ_E_25/NJ_E_25_paired_marked_dupes.bam \\\n",
    "      M=/local/home/sarahgw/WGS/Sequences/hiseq_2016_12_07_complete/NJ_E_25/NJ_E_25_paired_marked_dup_metrics.txt \\\n",
    "      REMOVE_DUPLICATES=true \\\n",
    "      ASSUME_SORT_ORDER=coordinate "
   ]
  },
  {
   "cell_type": "code",
   "execution_count": null,
   "metadata": {
    "collapsed": true
   },
   "outputs": [],
   "source": [
    "java -jar picard.jar MarkDuplicates \\\n",
    "      I=/local/home/sarahgw/WGS/Sequences/hiseq_2016_12_07_complete/NJ_E_26/NJ_E_26_paired_eg2_sorted.bam \\\n",
    "      O=/local/home/sarahgw/WGS/Sequences/hiseq_2016_12_07_complete/NJ_E_26/NJ_E_26_paired_marked_dupes.bam \\\n",
    "      M=/local/home/sarahgw/WGS/Sequences/hiseq_2016_12_07_complete/NJ_E_26/NJ_E_26_paired_marked_dup_metrics.txt \\\n",
    "      REMOVE_DUPLICATES=true \\\n",
    "      ASSUME_SORT_ORDER=coordinate "
   ]
  },
  {
   "cell_type": "code",
   "execution_count": null,
   "metadata": {
    "collapsed": true
   },
   "outputs": [],
   "source": [
    "java -jar picard.jar MarkDuplicates \\\n",
    "      I=/local/home/sarahgw/WGS/Sequences/hiseq_2016_12_07_complete/NJ_E_27/NJ_E_27_paired_eg2_sorted.bam \\\n",
    "      O=/local/home/sarahgw/WGS/Sequences/hiseq_2016_12_07_complete/NJ_E_27/NJ_E_27_paired_marked_dupes.bam \\\n",
    "      M=/local/home/sarahgw/WGS/Sequences/hiseq_2016_12_07_complete/NJ_E_27/NJ_E_27_paired_marked_dup_metrics.txt \\\n",
    "      REMOVE_DUPLICATES=true \\\n",
    "      ASSUME_SORT_ORDER=coordinate "
   ]
  },
  {
   "cell_type": "code",
   "execution_count": null,
   "metadata": {
    "collapsed": true
   },
   "outputs": [],
   "source": [
    "java -jar picard.jar MarkDuplicates \\\n",
    "      I=/local/home/sarahgw/WGS/Sequences/hiseq_2016_12_07_complete/NJ_E_28/NJ_E_28_paired_eg2_sorted.bam \\\n",
    "      O=/local/home/sarahgw/WGS/Sequences/hiseq_2016_12_07_complete/NJ_E_28/NJ_E_28_paired_marked_dupes.bam \\\n",
    "      M=/local/home/sarahgw/WGS/Sequences/hiseq_2016_12_07_complete/NJ_E_28/NJ_E_28_paired_marked_dup_metrics.txt \\\n",
    "      REMOVE_DUPLICATES=true \\\n",
    "      ASSUME_SORT_ORDER=coordinate "
   ]
  },
  {
   "cell_type": "code",
   "execution_count": null,
   "metadata": {
    "collapsed": true
   },
   "outputs": [],
   "source": [
    "java -jar picard.jar MarkDuplicates \\\n",
    "      I=/local/home/sarahgw/WGS/Sequences/hiseq_2016_12_07_complete/NJ_E_29/NJ_E_29_paired_eg2_sorted.bam \\\n",
    "      O=/local/home/sarahgw/WGS/Sequences/hiseq_2016_12_07_complete/NJ_E_29/NJ_E_29_paired_marked_dupes.bam \\\n",
    "      M=/local/home/sarahgw/WGS/Sequences/hiseq_2016_12_07_complete/NJ_E_29/NJ_E_29_paired_marked_dup_metrics.txt \\\n",
    "      REMOVE_DUPLICATES=true \\\n",
    "      ASSUME_SORT_ORDER=coordinate "
   ]
  },
  {
   "cell_type": "code",
   "execution_count": null,
   "metadata": {
    "collapsed": true
   },
   "outputs": [],
   "source": [
    "java -jar picard.jar MarkDuplicates \\\n",
    "      I=/local/home/sarahgw/WGS/Sequences/hiseq_2016_12_07_complete/NJ_E_30/NJ_E_30_paired_eg2_sorted.bam \\\n",
    "      O=/local/home/sarahgw/WGS/Sequences/hiseq_2016_12_07_complete/NJ_E_30/NJ_E_30_paired_marked_dupes.bam \\\n",
    "      M=/local/home/sarahgw/WGS/Sequences/hiseq_2016_12_07_complete/NJ_E_30/NJ_E_30_paired_marked_dup_metrics.txt \\\n",
    "      REMOVE_DUPLICATES=true \\\n",
    "      ASSUME_SORT_ORDER=coordinate "
   ]
  },
  {
   "cell_type": "code",
   "execution_count": null,
   "metadata": {
    "collapsed": true
   },
   "outputs": [],
   "source": [
    "java -jar picard.jar MarkDuplicates \\\n",
    "      I=/local/home/sarahgw/WGS/Sequences/hiseq_2016_12_07_complete/NJ_U_01/NJ_U_01_paired_eg2_sorted.bam \\\n",
    "      O=/local/home/sarahgw/WGS/Sequences/hiseq_2016_12_07_complete/NJ_U_01/NJ_U_01_paired_marked_dupes.bam \\\n",
    "      M=/local/home/sarahgw/WGS/Sequences/hiseq_2016_12_07_complete/NJ_U_01/NJ_U_01_paired_marked_dup_metrics.txt \\\n",
    "      REMOVE_DUPLICATES=true \\\n",
    "      ASSUME_SORT_ORDER=coordinate "
   ]
  },
  {
   "cell_type": "code",
   "execution_count": null,
   "metadata": {
    "collapsed": true
   },
   "outputs": [],
   "source": [
    "java -jar picard.jar MarkDuplicates \\\n",
    "      I=/local/home/sarahgw/WGS/Sequences/hiseq_2016_12_07_complete/NJ_U_02/NJ_U_02_paired_eg2_sorted.bam \\\n",
    "      O=/local/home/sarahgw/WGS/Sequences/hiseq_2016_12_07_complete/NJ_U_02/NJ_U_02_paired_marked_dupes.bam \\\n",
    "      M=/local/home/sarahgw/WGS/Sequences/hiseq_2016_12_07_complete/NJ_U_02/NJ_U_02_paired_marked_dup_metrics.txt \\\n",
    "      REMOVE_DUPLICATES=true \\\n",
    "      ASSUME_SORT_ORDER=coordinate "
   ]
  },
  {
   "cell_type": "code",
   "execution_count": null,
   "metadata": {
    "collapsed": true
   },
   "outputs": [],
   "source": [
    "java -jar picard.jar MarkDuplicates \\\n",
    "      I=/local/home/sarahgw/WGS/Sequences/hiseq_2016_12_07_complete/NJ_U_03/NJ_U_03_paired_eg2_sorted.bam \\\n",
    "      O=/local/home/sarahgw/WGS/Sequences/hiseq_2016_12_07_complete/NJ_U_03/NJ_U_03_paired_marked_dupes.bam \\\n",
    "      M=/local/home/sarahgw/WGS/Sequences/hiseq_2016_12_07_complete/NJ_U_03/NJ_U_03_paired_marked_dup_metrics.txt \\\n",
    "      REMOVE_DUPLICATES=true \\\n",
    "      ASSUME_SORT_ORDER=coordinate "
   ]
  },
  {
   "cell_type": "code",
   "execution_count": null,
   "metadata": {
    "collapsed": true
   },
   "outputs": [],
   "source": [
    "java -jar picard.jar MarkDuplicates \\\n",
    "      I=/local/home/sarahgw/WGS/Sequences/hiseq_2016_12_07_complete/NJ_U_04/NJ_U_04_paired_eg2_sorted.bam \\\n",
    "      O=/local/home/sarahgw/WGS/Sequences/hiseq_2016_12_07_complete/NJ_U_04/NJ_U_04_paired_marked_dupes.bam \\\n",
    "      M=/local/home/sarahgw/WGS/Sequences/hiseq_2016_12_07_complete/NJ_U_04/NJ_U_04_paired_marked_dup_metrics.txt \\\n",
    "      REMOVE_DUPLICATES=true \\\n",
    "      ASSUME_SORT_ORDER=coordinate "
   ]
  },
  {
   "cell_type": "code",
   "execution_count": null,
   "metadata": {
    "collapsed": true
   },
   "outputs": [],
   "source": [
    "java -jar picard.jar MarkDuplicates \\\n",
    "      I=/local/home/sarahgw/WGS/Sequences/hiseq_2016_12_07_complete/NJ_U_05/NJ_U_05_paired_eg2_sorted.bam \\\n",
    "      O=/local/home/sarahgw/WGS/Sequences/hiseq_2016_12_07_complete/NJ_U_05/NJ_U_05_paired_marked_dupes.bam \\\n",
    "      M=/local/home/sarahgw/WGS/Sequences/hiseq_2016_12_07_complete/NJ_U_05/NJ_U_05_paired_marked_dup_metrics.txt \\\n",
    "      REMOVE_DUPLICATES=true \\\n",
    "      ASSUME_SORT_ORDER=coordinate "
   ]
  },
  {
   "cell_type": "code",
   "execution_count": null,
   "metadata": {
    "collapsed": true
   },
   "outputs": [],
   "source": [
    "java -jar picard.jar MarkDuplicates \\\n",
    "      I=/local/home/sarahgw/WGS/Sequences/hiseq_2016_12_07_complete/NJ_U_06/NJ_U_06_paired_eg2_sorted.bam \\\n",
    "      O=/local/home/sarahgw/WGS/Sequences/hiseq_2016_12_07_complete/NJ_U_06/NJ_U_06_paired_marked_dupes.bam \\\n",
    "      M=/local/home/sarahgw/WGS/Sequences/hiseq_2016_12_07_complete/NJ_U_06/NJ_U_06_paired_marked_dup_metrics.txt \\\n",
    "      REMOVE_DUPLICATES=true \\\n",
    "      ASSUME_SORT_ORDER=coordinate "
   ]
  },
  {
   "cell_type": "code",
   "execution_count": null,
   "metadata": {
    "collapsed": true
   },
   "outputs": [],
   "source": [
    "java -jar picard.jar MarkDuplicates \\\n",
    "      I=/local/home/sarahgw/WGS/Sequences/hiseq_2016_12_07_complete/NJ_U_07/NJ_U_07_paired_eg2_sorted.bam \\\n",
    "      O=/local/home/sarahgw/WGS/Sequences/hiseq_2016_12_07_complete/NJ_U_07/NJ_U_07_paired_marked_dupes.bam \\\n",
    "      M=/local/home/sarahgw/WGS/Sequences/hiseq_2016_12_07_complete/NJ_U_07/NJ_U_07_paired_marked_dup_metrics.txt \\\n",
    "      REMOVE_DUPLICATES=true \\\n",
    "      ASSUME_SORT_ORDER=coordinate "
   ]
  },
  {
   "cell_type": "code",
   "execution_count": null,
   "metadata": {
    "collapsed": true
   },
   "outputs": [],
   "source": [
    "java -jar picard.jar MarkDuplicates \\\n",
    "      I=/local/home/sarahgw/WGS/Sequences/hiseq_2016_12_07_complete/NJ_U_08/NJ_U_08_paired_eg2_sorted.bam \\\n",
    "      O=/local/home/sarahgw/WGS/Sequences/hiseq_2016_12_07_complete/NJ_U_08/NJ_U_08_paired_marked_dupes.bam \\\n",
    "      M=/local/home/sarahgw/WGS/Sequences/hiseq_2016_12_07_complete/NJ_U_08/NJ_U_08_paired_marked_dup_metrics.txt \\\n",
    "      REMOVE_DUPLICATES=true \\\n",
    "      ASSUME_SORT_ORDER=coordinate "
   ]
  },
  {
   "cell_type": "code",
   "execution_count": null,
   "metadata": {
    "collapsed": true
   },
   "outputs": [],
   "source": [
    "java -jar picard.jar MarkDuplicates \\\n",
    "      I=/local/home/sarahgw/WGS/Sequences/hiseq_2016_12_07_complete/NJ_U_09/NJ_U_09_paired_eg2_sorted.bam \\\n",
    "      O=/local/home/sarahgw/WGS/Sequences/hiseq_2016_12_07_complete/NJ_U_09/NJ_U_09_paired_marked_dupes.bam \\\n",
    "      M=/local/home/sarahgw/WGS/Sequences/hiseq_2016_12_07_complete/NJ_U_09/NJ_U_09_paired_marked_dup_metrics.txt \\\n",
    "      REMOVE_DUPLICATES=true \\\n",
    "      ASSUME_SORT_ORDER=coordinate "
   ]
  },
  {
   "cell_type": "code",
   "execution_count": null,
   "metadata": {
    "collapsed": true
   },
   "outputs": [],
   "source": [
    "java -jar picard.jar MarkDuplicates \\\n",
    "      I=/local/home/sarahgw/WGS/Sequences/hiseq_2016_12_07_complete/NJ_U_10/NJ_U_10_paired_eg2_sorted.bam \\\n",
    "      O=/local/home/sarahgw/WGS/Sequences/hiseq_2016_12_07_complete/NJ_U_10/NJ_U_10_paired_marked_dupes.bam \\\n",
    "      M=/local/home/sarahgw/WGS/Sequences/hiseq_2016_12_07_complete/NJ_U_10/NJ_U_10_paired_marked_dup_metrics.txt \\\n",
    "      REMOVE_DUPLICATES=true \\\n",
    "      ASSUME_SORT_ORDER=coordinate "
   ]
  },
  {
   "cell_type": "code",
   "execution_count": null,
   "metadata": {
    "collapsed": true
   },
   "outputs": [],
   "source": [
    "java -jar picard.jar MarkDuplicates \\\n",
    "      I=/local/home/sarahgw/WGS/Sequences/hiseq_2016_12_07_complete/NJ_U_11/NJ_U_11_paired_eg2_sorted.bam \\\n",
    "      O=/local/home/sarahgw/WGS/Sequences/hiseq_2016_12_07_complete/NJ_U_11/NJ_U_11_paired_marked_dupes.bam \\\n",
    "      M=/local/home/sarahgw/WGS/Sequences/hiseq_2016_12_07_complete/NJ_U_11/NJ_U_11_paired_marked_dup_metrics.txt \\\n",
    "      REMOVE_DUPLICATES=true \\\n",
    "      ASSUME_SORT_ORDER=coordinate "
   ]
  },
  {
   "cell_type": "code",
   "execution_count": null,
   "metadata": {
    "collapsed": true
   },
   "outputs": [],
   "source": [
    "java -jar picard.jar MarkDuplicates \\\n",
    "      I=/local/home/sarahgw/WGS/Sequences/hiseq_2016_12_07_complete/NJ_U_12/NJ_U_12_paired_eg2_sorted.bam \\\n",
    "      O=/local/home/sarahgw/WGS/Sequences/hiseq_2016_12_07_complete/NJ_U_12/NJ_U_12_paired_marked_dupes.bam \\\n",
    "      M=/local/home/sarahgw/WGS/Sequences/hiseq_2016_12_07_complete/NJ_U_12/NJ_U_12_paired_marked_dup_metrics.txt \\\n",
    "      REMOVE_DUPLICATES=true \\\n",
    "      ASSUME_SORT_ORDER=coordinate "
   ]
  },
  {
   "cell_type": "code",
   "execution_count": null,
   "metadata": {
    "collapsed": true
   },
   "outputs": [],
   "source": [
    "java -jar picard.jar MarkDuplicates \\\n",
    "      I=/local/home/sarahgw/WGS/Sequences/hiseq_2016_12_07_complete/NJ_U_14/NJ_U_14_paired_eg2_sorted.bam \\\n",
    "      O=/local/home/sarahgw/WGS/Sequences/hiseq_2016_12_07_complete/NJ_U_14/NJ_U_14_paired_marked_dupes.bam \\\n",
    "      M=/local/home/sarahgw/WGS/Sequences/hiseq_2016_12_07_complete/NJ_U_14/NJ_U_14_paired_marked_dup_metrics.txt \\\n",
    "      REMOVE_DUPLICATES=true \\\n",
    "      ASSUME_SORT_ORDER=coordinate "
   ]
  },
  {
   "cell_type": "code",
   "execution_count": null,
   "metadata": {
    "collapsed": true
   },
   "outputs": [],
   "source": [
    "java -jar picard.jar MarkDuplicates \\\n",
    "      I=/local/home/sarahgw/WGS/Sequences/hiseq_2016_12_07_complete/NJ_U_15/NJ_U_15_paired_eg2_sorted.bam \\\n",
    "      O=/local/home/sarahgw/WGS/Sequences/hiseq_2016_12_07_complete/NJ_U_15/NJ_U_15_paired_marked_dupes.bam \\\n",
    "      M=/local/home/sarahgw/WGS/Sequences/hiseq_2016_12_07_complete/NJ_U_15/NJ_U_15_paired_marked_dup_metrics.txt \\\n",
    "      REMOVE_DUPLICATES=true \\\n",
    "      ASSUME_SORT_ORDER=coordinate "
   ]
  }
 ],
 "metadata": {
  "anaconda-cloud": {},
  "kernelspec": {
   "display_name": "Python [conda root]",
   "language": "python",
   "name": "conda-root-py"
  },
  "language_info": {
   "codemirror_mode": {
    "name": "ipython",
    "version": 2
   },
   "file_extension": ".py",
   "mimetype": "text/x-python",
   "name": "python",
   "nbconvert_exporter": "python",
   "pygments_lexer": "ipython2",
   "version": "2.7.12"
  }
 },
 "nbformat": 4,
 "nbformat_minor": 1
}
