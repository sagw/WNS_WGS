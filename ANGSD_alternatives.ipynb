{
 "cells": [
  {
   "cell_type": "markdown",
   "metadata": {},
   "source": [
    "Redoing allele frequencies straight from base counts"
   ]
  },
  {
   "cell_type": "code",
   "execution_count": null,
   "metadata": {
    "collapsed": true
   },
   "outputs": [],
   "source": [
    "~/angsd/angsd -out PairedPlus_all_counts -doMajorMinor 2 -doMaf 8 -bam pairedplus_dupes_bam.filelist -doCounts 1 -P 5 "
   ]
  },
  {
   "cell_type": "markdown",
   "metadata": {},
   "source": [
    "        -> angsd version: 0.914 (htslib: 1.3.2) build(Dec 19 2016 16:00:55)\n",
    "        -> Parsing 24 number of samples\n",
    "\n",
    "        -> Allocated ~ 10 Megabytes to the nodepool\n",
    "        -> Printing at chr: GL429767 pos:2694478 chunknumber 600 contains 2790 sites[[B^[[B^[[B^[[B^[[B^[[B\n",
    "        -> Allocated ~ 20 Megabytes to the nodepool\n",
    "        -> Printing at chr: GL429788 pos:514473 chunknumber 104700 contains 5180 siteses\n",
    "        -> Allocated ~ 30 Megabytes to the nodepool\n",
    "        -> Printing at chr: GL429880 pos:1375548 chunknumber 234300 contains 4985 sitess\n",
    "        -> Allocated ~ 40 Megabytes to the nodepool\n",
    "        -> Printing at chr: AAPE02072763 pos:162 chunknumber 461100 contains 1577 sitesss\n",
    "        -> Done reading data waiting for calculations to finish\n",
    "        -> Done waiting for threads\n",
    "        -> Output filenames:\n",
    "                ->\"PairedPlus_all_counts.arg\"\n",
    "                ->\"PairedPlus_all_counts.mafs.gz\"\n",
    "        -> Fri Mar 31 23:02:59 2017\n",
    "        -> Arguments and parameters for all analysis are located in .arg file\n",
    "        [ALL done] cpu-time used =  21628.41 sec\n",
    "        [ALL done] walltime used =  20668.00 sec"
   ]
  },
  {
   "cell_type": "markdown",
   "metadata": {},
   "source": [
    "Okay, so I can get this to work, but I cannot use this method to call snps. It says \"The MAF estimate(s) given by -doMaf (see Allele_Frequency_estimation), will be used for a like ratio test by using a chi-square distribution with one degree of freedom for -doMaf 1 and -doMaf 2.\" So calling SNPs using -doMaf 1 but all together. "
   ]
  },
  {
   "cell_type": "code",
   "execution_count": 4,
   "metadata": {
    "collapsed": false
   },
   "outputs": [
    {
     "name": "stdout",
     "output_type": "stream",
     "text": [
      "chromo  position        major   minor   phat    nInd\n",
      "GL429767        1       A       T       0.000000        13\n",
      "GL429767        2       G       T       0.000000        13\n",
      "GL429767        3       T       G       0.000000        13\n",
      "GL429767        4       C       T       0.000000        13\n",
      "GL429767        5       C       T       0.000000        13\n",
      "GL429767        6       T       G       0.000000        13\n",
      "GL429767        7       T       G       0.000000        13\n",
      "GL429767        8       T       G       0.000000        14\n",
      "GL429767        9       T       G       0.000000        15\n",
      "GL429767        10      T       G       0.000000        15\n",
      "GL429767        11      G       T       0.000000        15\n",
      "GL429767        12      T       G       0.000000        15\n",
      "GL429767        13      G       T       0.000000        15\n",
      "GL429767        14      G       T       0.000000        15\n",
      "GL429767        15      T       G       0.000000        15\n",
      "GL429767        16      A       T       0.000000        15\n",
      "GL429767        17      C       T       0.000000        15\n",
      "GL429767        18      T       G       0.000000        15\n",
      "GL429767        19      G       A       0.074621        15\n",
      "GL429767        20      T       G       0.000000        15\n",
      "GL429767        21      C       T       0.000000        15\n",
      "GL429767        22      T       G       0.000000        15\n",
      "\u001b[KGL429767        23      G       T       0.000000        15\n",
      ":\u001b[K"
     ]
    }
   ],
   "source": [
    "!less /local/home/sarahgw/WGS/SNPS/12_07/PairedPlus_all_counts.mafs.gz"
   ]
  },
  {
   "cell_type": "code",
   "execution_count": null,
   "metadata": {
    "collapsed": true
   },
   "outputs": [],
   "source": [
    " ~/angsd/angsd -bam pairedplus_dupes_bam.filelist -GL 1 -doMajorMinor 1 -doMaf 2 -P 10 -SNP_pval 1e-6 -out PairedPlus_all_SNPs "
   ]
  },
  {
   "cell_type": "code",
   "execution_count": 6,
   "metadata": {
    "collapsed": false
   },
   "outputs": [
    {
     "name": "stdout",
     "output_type": "stream",
     "text": [
      "chromo  position        major   minor   unknownEM       pu-EM   nInd\n",
      "GL429767        202     G       A       0.446785        3.891132e-11    6\n",
      "GL429767        295     A       T       0.318976        1.110223e-16    7\n",
      "GL429767        317     G       A       0.299223        4.321956e-07    6\n",
      "GL429767        324     T       A       0.361602        3.000578e-11    6\n",
      "GL429767        330     T       C       0.311946        2.432411e-07    6\n",
      "GL429767        347     T       C       0.444330        1.011302e-12    6\n",
      "GL429767        462     C       T       0.360534        1.110223e-16    5\n",
      "GL429767        835     A       C       0.059592        1.822744e-07    4\n",
      "GL429767        905     C       T       0.056967        2.437665e-07    5\n",
      "GL429767        1016    G       A       0.147515        1.202372e-13    3\n",
      "GL429767        1152    A       G       0.454956        6.505907e-14    5\n",
      "GL429767        1237    G       A       0.346342        7.023271e-13    6\n",
      "GL429767        1261    C       T       0.325016        4.298228e-12    6\n",
      "GL429767        1303    A       G       0.367551        1.598721e-14    4\n",
      "GL429767        1304    C       T       0.167356        0.000000e+00    4\n",
      "GL429767        1342    G       T       0.393311        4.511058e-11    3\n",
      "GL429767        1379    G       A       0.173972        8.087372e-07    6\n",
      "GL429767        1461    G       T       0.463999        0.000000e+00    5\n",
      "GL429767        1886    C       T       0.335125        9.103829e-14    6\n",
      "GL429767        1897    A       G       0.347229        8.532230e-11    6\n",
      "GL429767        1911    G       A       0.309476        1.220486e-10    6\n",
      "GL429767        2458    T       C       0.095934        2.398644e-07    2\n",
      "\u001b[KGL429767        2472    G       A       0.095934        2.398644e-07    2\n",
      ":\u001b[K"
     ]
    }
   ],
   "source": [
    "!less /local/home/sarahgw/WGS/SNPS/12_07/angsdout_pairedplus_E.mafs"
   ]
  },
  {
   "cell_type": "code",
   "execution_count": null,
   "metadata": {
    "collapsed": true
   },
   "outputs": [],
   "source": []
  }
 ],
 "metadata": {
  "anaconda-cloud": {},
  "kernelspec": {
   "display_name": "Python [conda root]",
   "language": "python",
   "name": "conda-root-py"
  },
  "language_info": {
   "codemirror_mode": {
    "name": "ipython",
    "version": 2
   },
   "file_extension": ".py",
   "mimetype": "text/x-python",
   "name": "python",
   "nbconvert_exporter": "python",
   "pygments_lexer": "ipython2",
   "version": "2.7.12"
  }
 },
 "nbformat": 4,
 "nbformat_minor": 1
}
