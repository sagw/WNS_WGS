{
 "cells": [
  {
   "cell_type": "markdown",
   "metadata": {},
   "source": [
    "Redoing allele frequencies straight from base counts"
   ]
  },
  {
   "cell_type": "code",
   "execution_count": null,
   "metadata": {
    "collapsed": true
   },
   "outputs": [],
   "source": [
    "~/angsd/angsd -out PairedPlus_all_counts -doMajorMinor 2 -doMaf 8 -bam pairedplus_dupes_bam.filelist -doCounts 1 -P 5 "
   ]
  },
  {
   "cell_type": "markdown",
   "metadata": {},
   "source": [
    "        -> angsd version: 0.914 (htslib: 1.3.2) build(Dec 19 2016 16:00:55)\n",
    "        -> Parsing 24 number of samples\n",
    "\n",
    "        -> Allocated ~ 10 Megabytes to the nodepool\n",
    "        -> Printing at chr: GL429767 pos:2694478 chunknumber 600 contains 2790 sites[[B^[[B^[[B^[[B^[[B^[[B\n",
    "        -> Allocated ~ 20 Megabytes to the nodepool\n",
    "        -> Printing at chr: GL429788 pos:514473 chunknumber 104700 contains 5180 siteses\n",
    "        -> Allocated ~ 30 Megabytes to the nodepool\n",
    "        -> Printing at chr: GL429880 pos:1375548 chunknumber 234300 contains 4985 sitess\n",
    "        -> Allocated ~ 40 Megabytes to the nodepool\n",
    "        -> Printing at chr: AAPE02072763 pos:162 chunknumber 461100 contains 1577 sitesss\n",
    "        -> Done reading data waiting for calculations to finish\n",
    "        -> Done waiting for threads\n",
    "        -> Output filenames:\n",
    "                ->\"PairedPlus_all_counts.arg\"\n",
    "                ->\"PairedPlus_all_counts.mafs.gz\"\n",
    "        -> Fri Mar 31 23:02:59 2017\n",
    "        -> Arguments and parameters for all analysis are located in .arg file\n",
    "        [ALL done] cpu-time used =  21628.41 sec\n",
    "        [ALL done] walltime used =  20668.00 sec"
   ]
  },
  {
   "cell_type": "markdown",
   "metadata": {},
   "source": [
    "Okay, so I can get this to work, but I cannot use this method to call snps. It says \"The MAF estimate(s) given by -doMaf (see Allele_Frequency_estimation), will be used for a like ratio test by using a chi-square distribution with one degree of freedom for -doMaf 1 and -doMaf 2.\" So calling SNPs using -doMaf 1 but all together. "
   ]
  },
  {
   "cell_type": "code",
   "execution_count": 4,
   "metadata": {
    "collapsed": false
   },
   "outputs": [
    {
     "name": "stdout",
     "output_type": "stream",
     "text": [
      "chromo  position        major   minor   phat    nInd\n",
      "GL429767        1       A       T       0.000000        13\n",
      "GL429767        2       G       T       0.000000        13\n",
      "GL429767        3       T       G       0.000000        13\n",
      "GL429767        4       C       T       0.000000        13\n",
      "GL429767        5       C       T       0.000000        13\n",
      "GL429767        6       T       G       0.000000        13\n",
      "GL429767        7       T       G       0.000000        13\n",
      "GL429767        8       T       G       0.000000        14\n",
      "GL429767        9       T       G       0.000000        15\n",
      "GL429767        10      T       G       0.000000        15\n",
      "GL429767        11      G       T       0.000000        15\n",
      "GL429767        12      T       G       0.000000        15\n",
      "GL429767        13      G       T       0.000000        15\n",
      "GL429767        14      G       T       0.000000        15\n",
      "GL429767        15      T       G       0.000000        15\n",
      "GL429767        16      A       T       0.000000        15\n",
      "GL429767        17      C       T       0.000000        15\n",
      "GL429767        18      T       G       0.000000        15\n",
      "GL429767        19      G       A       0.074621        15\n",
      "GL429767        20      T       G       0.000000        15\n",
      "GL429767        21      C       T       0.000000        15\n",
      "GL429767        22      T       G       0.000000        15\n",
      "\u001b[KGL429767        23      G       T       0.000000        15\n",
      ":\u001b[K"
     ]
    }
   ],
   "source": [
    "!less /local/home/sarahgw/WGS/SNPS/12_07/PairedPlus_all_counts.mafs.gz"
   ]
  },
  {
   "cell_type": "code",
   "execution_count": null,
   "metadata": {
    "collapsed": true
   },
   "outputs": [],
   "source": [
    " ~/angsd/angsd -bam pairedplus_dupes_bam.filelist -GL 1 -doMajorMinor 1 -doMaf 2 -P 10 -SNP_pval 1e-6 -out PairedPlus_all_SNPs "
   ]
  },
  {
   "cell_type": "markdown",
   "metadata": {},
   "source": [
    " -> Printing at chr: GL429767 pos:8291531 chunknumber 1900 contains 3363 sites\n",
    "        -> Allocated ~ 80 Megabytes to the nodepool\n",
    "        -> Printing at chr: GL429767 pos:19677546 chunknumber 4600 contains 4354 sites\n",
    "        -> Allocated ~ 90 Megabytes to the nodepool\n",
    "        -> Printing at chr: GL429773 pos:5720004 chunknumber 49400 contains 5266 sitess\n",
    "        -> Allocated ~ 100 Megabytes to the nodepool\n",
    "        -> Printing at chr: GL429777 pos:9968618 chunknumber 67500 contains 4398 sitesss\n",
    "        -> Allocated ~ 110 Megabytes to the nodepool\n",
    "        -> Printing at chr: GL429788 pos:514473 chunknumber 104700 contains 5180 siteses\n",
    "        -> Allocated ~ 120 Megabytes to the nodepool\n",
    "\n",
    "        -> Allocated ~ 130 Megabytes to the nodepool\n",
    "        -> Printing at chr: GL429893 pos:8528 chunknumber 238300 contains 6310 sitestess\n",
    "        -> Allocated ~ 140 Megabytes to the nodepool\n",
    "\n",
    "        -> Allocated ~ 150 Megabytes to the nodepool\n",
    "\n",
    "        -> Allocated ~ 160 Megabytes to the nodepool\n",
    "\n",
    "        -> Allocated ~ 170 Megabytes to the nodepool\n",
    "\n",
    "        -> Allocated ~ 180 Megabytes to the nodepool\n",
    "        -> Printing at chr: AAPE02072763 pos:162 chunknumber 461100 contains 1577 sitesss\n",
    "        -> Done reading data waiting for calculations to finish\n",
    "        -> Done waiting for threads\n",
    "        -> Output filenames:\n",
    "                ->\"PairedPlus_all_SNPs.arg\"\n",
    "                ->\"PairedPlus_all_SNPs.mafs.gz\"\n",
    "        -> Mon Apr  3 15:28:39 2017\n",
    "        -> Arguments and parameters for all analysis are located in .arg file\n",
    "        [ALL done] cpu-time used =  512317.19 sec\n",
    "        [ALL done] walltime used =  75504.00 sec\n"
   ]
  },
  {
   "cell_type": "code",
   "execution_count": 6,
   "metadata": {
    "collapsed": false,
    "scrolled": true
   },
   "outputs": [
    {
     "name": "stdout",
     "output_type": "stream",
     "text": [
      "chromo\tposition\tmajor\tminor\tunknownEM\tpu-EM\tnInd\r\n",
      "GL429767\t38\tA\tG\t0.127932\t5.595006e-08\t14\r\n",
      "GL429767\t53\tA\tG\t0.135725\t4.860363e-08\t14\r\n",
      "GL429767\t104\tA\tT\t0.322877\t2.220446e-16\t11\r\n",
      "GL429767\t196\tT\tC\t0.105593\t1.585065e-12\t16\r\n",
      "GL429767\t202\tA\tG\t0.437397\t0.000000e+00\t17\r\n",
      "GL429767\t295\tA\tT\t0.160507\t0.000000e+00\t19\r\n",
      "GL429767\t317\tG\tA\t0.253256\t0.000000e+00\t17\r\n",
      "GL429767\t324\tT\tA\t0.403507\t0.000000e+00\t17\r\n",
      "GL429767\t330\tT\tC\t0.378105\t0.000000e+00\t17\r\n"
     ]
    }
   ],
   "source": [
    "!head /local/home/sarahgw/WGS/SNPS/12_07/PairedPlus_all_SNPs.mafs"
   ]
  },
  {
   "cell_type": "code",
   "execution_count": 4,
   "metadata": {
    "collapsed": false
   },
   "outputs": [
    {
     "name": "stdout",
     "output_type": "stream",
     "text": [
      "36881039 /local/home/sarahgw/WGS/SNPS/12_07/PairedPlus_all_SNPs.mafs\r\n"
     ]
    }
   ],
   "source": [
    "!wc -l /local/home/sarahgw/WGS/SNPS/12_07/PairedPlus_all_SNPs.mafs"
   ]
  },
  {
   "cell_type": "markdown",
   "metadata": {},
   "source": [
    "Calculate SAF for each population limiting it to -sites. Need to index the sites file first, I guess cut the .mafs file and then index. "
   ]
  },
  {
   "cell_type": "code",
   "execution_count": 11,
   "metadata": {
    "collapsed": false
   },
   "outputs": [],
   "source": [
    "!cut -f1,2 /local/home/sarahgw/WGS/SNPS/12_07/PairedPlus_all_SNPs.mafs > /local/home/sarahgw/WGS/SNPS/12_07/PairedPlus_all_SNPs_sites.txt"
   ]
  },
  {
   "cell_type": "code",
   "execution_count": 12,
   "metadata": {
    "collapsed": false
   },
   "outputs": [
    {
     "name": "stdout",
     "output_type": "stream",
     "text": [
      "chromo\tposition\r\n",
      "GL429767\t38\r\n",
      "GL429767\t53\r\n",
      "GL429767\t104\r\n",
      "GL429767\t196\r\n",
      "GL429767\t202\r\n",
      "GL429767\t295\r\n",
      "GL429767\t317\r\n",
      "GL429767\t324\r\n",
      "GL429767\t330\r\n"
     ]
    }
   ],
   "source": [
    "!head /local/home/sarahgw/WGS/SNPS/12_07/PairedPlus_all_SNPs_sites.txt"
   ]
  },
  {
   "cell_type": "code",
   "execution_count": 15,
   "metadata": {
    "collapsed": true
   },
   "outputs": [],
   "source": [
    "!tail -n+2 /local/home/sarahgw/WGS/SNPS/12_07/PairedPlus_all_SNPs_sites.txt > /local/home/sarahgw/WGS/SNPS/12_07/PairedPlus_all_SNPs_sites1.txt"
   ]
  },
  {
   "cell_type": "code",
   "execution_count": 16,
   "metadata": {
    "collapsed": false
   },
   "outputs": [
    {
     "name": "stdout",
     "output_type": "stream",
     "text": [
      "GL429767\t38\r\n",
      "GL429767\t53\r\n",
      "GL429767\t104\r\n",
      "GL429767\t196\r\n",
      "GL429767\t202\r\n",
      "GL429767\t295\r\n",
      "GL429767\t317\r\n",
      "GL429767\t324\r\n",
      "GL429767\t330\r\n",
      "GL429767\t347\r\n"
     ]
    }
   ],
   "source": [
    "!head /local/home/sarahgw/WGS/SNPS/12_07/PairedPlus_all_SNPs_sites1.txt"
   ]
  },
  {
   "cell_type": "code",
   "execution_count": null,
   "metadata": {
    "collapsed": true
   },
   "outputs": [],
   "source": [
    "~/angsd/angsd sites index filename /local/home/sarahgw/WGS/SNPS/12_07/PairedPlus_all_SNPs_sites1.txt"
   ]
  },
  {
   "cell_type": "code",
   "execution_count": 3,
   "metadata": {
    "collapsed": true
   },
   "outputs": [],
   "source": [
    "~/angsd/angsd -P 5 -b pairedplus_U_dupes_bam.filelist -fold 1 -anc /local/home/sarahgw/references/Myotis_Lucifugus2.0/Myotis_lucifugus.Myoluc2.0.dna_sm.toplevel.fa -GL 1 -dosaf 1 -minMapQ 30 -minQ 20 -sites PairedPlus_all_SNPs.mafs  -out angsdout_SAF_pairedplus_filt_SNPs_U"
   ]
  },
  {
   "cell_type": "markdown",
   "metadata": {
    "collapsed": true
   },
   "source": [
    "        -> Writing chr:'AAPE02072743'\n",
    "        -> Writing chr:'AAPE02072744'\n",
    "        -> Writing chr:'AAPE02072745'\n",
    "        -> Writing chr:'AAPE02072746'\n",
    "        -> Writing chr:'AAPE02072747'\n",
    "        -> Writing chr:'AAPE02072748'\n",
    "        -> Writing chr:'AAPE02072749'\n",
    "        -> Writing chr:'AAPE02072750'\n",
    "        -> Writing chr:'AAPE02072751'\n",
    "        -> Writing chr:'AAPE02072754'\n",
    "        -> Writing chr:'AAPE02072755'\n",
    "        -> Writing chr:'AAPE02072757'\n",
    "        -> Writing chr:'AAPE02072758'\n",
    "        -> Writing chr:'AAPE02072759'\n",
    "        -> Writing chr:'AAPE02072760'\n",
    "        -> Writing chr:'AAPE02072762'\n",
    "        -> Writing chr:'AAPE02072763'\n",
    "        -> Writing chr:'AAPE02072764'\n",
    "        -> Writing chr:'AAPE02072765'\n",
    "        -> Writing chr:'AAPE02072766'\n",
    "        -> Writing chr:'AAPE02072767'\n",
    "        -> Writing chr:'AAPE02072768'\n",
    "        -> Writing chr:'AAPE02072769'\n",
    "        -> Writing chr:'AAPE02072770'\n",
    "        -> Writing chr:'AAPE02072771'\n",
    "        -> Writing chr:'AAPE02072772'\n",
    "        -> Writing chr:'AAPE02072774'\n",
    "        -> Writing chr:'AAPE02072775'\n",
    "        -> Writing chr:'AAPE02072776'\n",
    "        -> Writing chr:'AAPE02072777'\n",
    "        -> Writing chr:'AAPE02072778'\n",
    "        -> Writing chr:'AAPE02072780'\n",
    "        -> Writing chr:'AAPE02072781'\n",
    "        -> Writing chr:'AAPE02072782'\n",
    "        -> Writing chr:'AAPE02072783'\n",
    "        -> Filtering complete: Observed: 11360 different chromosomes from file:/local/home/sarahgw/WGS/SNPS/12_07/PairedPlus_all_SNPs_sites1.txt\n",
    "        -> Generated files:\n",
    "                '/local/home/sarahgw/WGS/SNPS/12_07/PairedPlus_all_SNPs_sites1.txt.bin'\n",
    "                '/local/home/sarahgw/WGS/SNPS/12_07/PairedPlus_all_SNPs_sites1.txt.idx'\n"
   ]
  },
  {
   "cell_type": "code",
   "execution_count": null,
   "metadata": {
    "collapsed": true
   },
   "outputs": [],
   "source": []
  }
 ],
 "metadata": {
  "anaconda-cloud": {},
  "kernelspec": {
   "display_name": "Python [conda root]",
   "language": "python",
   "name": "conda-root-py"
  },
  "language_info": {
   "codemirror_mode": {
    "name": "ipython",
    "version": 2
   },
   "file_extension": ".py",
   "mimetype": "text/x-python",
   "name": "python",
   "nbconvert_exporter": "python",
   "pygments_lexer": "ipython2",
   "version": "2.7.12"
  }
 },
 "nbformat": 4,
 "nbformat_minor": 1
}
