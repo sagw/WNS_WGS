{
 "cells": [
  {
   "cell_type": "code",
   "execution_count": 1,
   "metadata": {
    "collapsed": true
   },
   "outputs": [],
   "source": [
    "!mkdir /local/shared/pinsky_lab/sequencing/hiseq_2017_06_26_SEQ24/"
   ]
  },
  {
   "cell_type": "code",
   "execution_count": null,
   "metadata": {
    "collapsed": true
   },
   "outputs": [],
   "source": [
    "wget -r https://htseq.princeton.edu/tmp/ygmstmGWPoRcwYBSo/ -P /local/shared/pinsky_lab/sequencing/hiseq_2017_06_26_SEQ24/ --no-check-certificate"
   ]
  },
  {
   "cell_type": "code",
   "execution_count": null,
   "metadata": {
    "collapsed": true
   },
   "outputs": [],
   "source": [
    "scp Pool2_Barcodes.txt sarahgw@amphiprion.deenr.rutgers.edu:/local/home/sarahgw/WGS/Sequences/Pool2/"
   ]
  },
  {
   "cell_type": "code",
   "execution_count": null,
   "metadata": {
    "collapsed": true
   },
   "outputs": [],
   "source": [
    "mkdir $(awk '{print $1}' /local/home/sarahgw/WGS/Sequences/Pool2/Pool2_Barcodes.txt)"
   ]
  },
  {
   "cell_type": "code",
   "execution_count": 1,
   "metadata": {
    "collapsed": false
   },
   "outputs": [
    {
     "name": "stdout",
     "output_type": "stream",
     "text": [
      "NY_E_03  NY_E_07  NY_U_01  NY_U_05  Pool2_Barcodes.txt\tVT_E_05  VT_E_09\r\n",
      "NY_E_04  NY_E_08  NY_U_02  NY_U_06  VT_E_02\t\tVT_E_06\r\n",
      "NY_E_05  NY_E_09  NY_U_03  NY_U_07  VT_E_03\t\tVT_E_07\r\n",
      "NY_E_06  NY_E_10  NY_U_04  NY_U_08  VT_E_04\t\tVT_E_08\r\n"
     ]
    }
   ],
   "source": [
    "!ls /local/home/sarahgw/WGS/Sequences/Pool2/"
   ]
  },
  {
   "cell_type": "code",
   "execution_count": null,
   "metadata": {
    "collapsed": true
   },
   "outputs": [],
   "source": [
    "for dir in $(ls); do cd $dir; cp /local/shared/pinsky_lab/sequencing/hiseq_2017_06_26_SEQ24/\"$dir\"_Demultiplexed-fastq-fileset-sample-Pool-2-from-flowcell-HML3KBCXY-on-2017-06-26_Read_1_passed_filter.fastq.gz /local/shared/pinsky_lab/sequencing/hiseq_2017_06_26_SEQ24/\"$dir\"_Demultiplexed-fastq-fileset-sample-Pool-2-from-flowcell-HML3KBCXY-on-2017-06-26_Read_4_passed_filter.fastq.gz  . ; cd ..; done"
   ]
  }
 ],
 "metadata": {
  "anaconda-cloud": {},
  "kernelspec": {
   "display_name": "Python [conda root]",
   "language": "python",
   "name": "conda-root-py"
  },
  "language_info": {
   "codemirror_mode": {
    "name": "ipython",
    "version": 2
   },
   "file_extension": ".py",
   "mimetype": "text/x-python",
   "name": "python",
   "nbconvert_exporter": "python",
   "pygments_lexer": "ipython2",
   "version": "2.7.12"
  }
 },
 "nbformat": 4,
 "nbformat_minor": 1
}
