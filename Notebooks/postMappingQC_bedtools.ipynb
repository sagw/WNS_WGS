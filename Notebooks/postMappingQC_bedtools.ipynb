{
 "cells": [
  {
   "cell_type": "markdown",
   "metadata": {},
   "source": [
    "does bedtools give us the same coverage numberS?"
   ]
  },
  {
   "cell_type": "code",
   "execution_count": null,
   "metadata": {
    "collapsed": true
   },
   "outputs": [],
   "source": [
    "awk -v OFS='\\t' {'print \"chr\"$1,$2'} Myotis_lucifugus.Myoluc2.0.dna_sm.toplevel.fa.fai > Myoluc_genomeFile.txt"
   ]
  },
  {
   "cell_type": "code",
   "execution_count": null,
   "metadata": {},
   "outputs": [],
   "source": [
    "samtools view -b NJ_E_23_pairedplus_marked_dupes.bam | genomeCoverageBed -d -ibam stdin -g /local/home/sarahgw/references/Myotis_Lucifugus2.0/Myoluc_genomeFile.txt>NJ_E_23_BaseCoverage.txt"
   ]
  },
  {
   "cell_type": "code",
   "execution_count": 4,
   "metadata": {},
   "outputs": [
    {
     "name": "stdout",
     "output_type": "stream",
     "text": [
      "GL429767\t1\t2\r\n",
      "GL429767\t2\t2\r\n",
      "GL429767\t3\t2\r\n",
      "GL429767\t4\t2\r\n",
      "GL429767\t5\t2\r\n",
      "GL429767\t6\t2\r\n",
      "GL429767\t7\t3\r\n",
      "GL429767\t8\t3\r\n",
      "GL429767\t9\t3\r\n",
      "GL429767\t10\t3\r\n"
     ]
    }
   ],
   "source": [
    "!head /local/home/sarahgw/WGS/Sequences/hiseq_2016_12_07_complete/NJ_E_23/NJ_E_23_BaseCoverage.txt"
   ]
  },
  {
   "cell_type": "code",
   "execution_count": 9,
   "metadata": {},
   "outputs": [
    {
     "name": "stdout",
     "output_type": "stream",
     "text": [
      "131631 /local/home/sarahgw/WGS/Sequences/hiseq_2016_12_07_complete/NJ_E_23/Coverage_NJ_E_23.txt\r\n"
     ]
    }
   ],
   "source": [
    "!wc -l /local/home/sarahgw/WGS/Sequences/hiseq_2016_12_07_complete/NJ_E_23/Coverage_NJ_E_23.txt"
   ]
  },
  {
   "cell_type": "markdown",
   "metadata": {},
   "source": [
    "Redoing this with to calculate basecoveragestats look at all versions for general coverage histogram by scaffold"
   ]
  },
  {
   "cell_type": "code",
   "execution_count": null,
   "metadata": {
    "collapsed": true
   },
   "outputs": [],
   "source": [
    "samtools view -b NJ_E_24_pairedplus_marked_dupes.bam | genomeCoverageBed -d -ibam stdin -g /local/home/sarahgw/references/Myotis_Lucifugus2.0/Myoluc_genomeFile.txt>NJ_E_24_BaseCoverage.txt"
   ]
  },
  {
   "cell_type": "code",
   "execution_count": null,
   "metadata": {
    "collapsed": true
   },
   "outputs": [],
   "source": [
    "samtools view -b NJ_E_25_pairedplus_marked_dupes.bam | genomeCoverageBed -d -ibam stdin -g /local/home/sarahgw/references/Myotis_Lucifugus2.0/Myoluc_genomeFile.txt>NJ_E_25_BaseCoverage.txt"
   ]
  },
  {
   "cell_type": "code",
   "execution_count": null,
   "metadata": {
    "collapsed": true
   },
   "outputs": [],
   "source": [
    "samtools view -b NJ_E_26_pairedplus_marked_dupes.bam | genomeCoverageBed -d -ibam stdin -g /local/home/sarahgw/references/Myotis_Lucifugus2.0/Myoluc_genomeFile.txt>NJ_E_26_BaseCoverage.txt"
   ]
  },
  {
   "cell_type": "code",
   "execution_count": null,
   "metadata": {
    "collapsed": true
   },
   "outputs": [],
   "source": [
    "samtools view -b NJ_E_27_pairedplus_marked_dupes.bam | genomeCoverageBed -d -ibam stdin -g /local/home/sarahgw/references/Myotis_Lucifugus2.0/Myoluc_genomeFile.txt>NJ_E_27_BaseCoverage.txt"
   ]
  },
  {
   "cell_type": "code",
   "execution_count": null,
   "metadata": {
    "collapsed": true
   },
   "outputs": [],
   "source": [
    "samtools view -b NJ_E_28_pairedplus_marked_dupes.bam | genomeCoverageBed -d -ibam stdin -g /local/home/sarahgw/references/Myotis_Lucifugus2.0/Myoluc_genomeFile.txt>NJ_E_28_BaseCoverage.txt"
   ]
  },
  {
   "cell_type": "code",
   "execution_count": null,
   "metadata": {
    "collapsed": true
   },
   "outputs": [],
   "source": [
    "samtools view -b NJ_E_29_pairedplus_marked_dupes.bam | genomeCoverageBed -d -ibam stdin -g /local/home/sarahgw/references/Myotis_Lucifugus2.0/Myoluc_genomeFile.txt>NJ_E_29_BaseCoverage.txt"
   ]
  },
  {
   "cell_type": "code",
   "execution_count": null,
   "metadata": {
    "collapsed": true
   },
   "outputs": [],
   "source": [
    "samtools view -b NJ_E_30_pairedplus_marked_dupes.bam | genomeCoverageBed -d -ibam stdin -g /local/home/sarahgw/references/Myotis_Lucifugus2.0/Myoluc_genomeFile.txt>NJ_E_30_BaseCoverage.txt"
   ]
  },
  {
   "cell_type": "code",
   "execution_count": null,
   "metadata": {
    "collapsed": true
   },
   "outputs": [],
   "source": [
    "samtools view -b NJ_U_01_pairedplus_marked_dupes.bam | genomeCoverageBed -d -ibam stdin -g /local/home/sarahgw/references/Myotis_Lucifugus2.0/Myoluc_genomeFile.txt>NJ_U_01_BaseCoverage.txt"
   ]
  },
  {
   "cell_type": "code",
   "execution_count": null,
   "metadata": {
    "collapsed": true
   },
   "outputs": [],
   "source": [
    "samtools view -b NJ_U_02_pairedplus_marked_dupes.bam | genomeCoverageBed -d -ibam stdin -g /local/home/sarahgw/references/Myotis_Lucifugus2.0/Myoluc_genomeFile.txt>NJ_U_02_BaseCoverage.txt"
   ]
  },
  {
   "cell_type": "code",
   "execution_count": null,
   "metadata": {
    "collapsed": true
   },
   "outputs": [],
   "source": [
    "samtools view -b NJ_U_03_pairedplus_marked_dupes.bam | genomeCoverageBed -d -ibam stdin -g /local/home/sarahgw/references/Myotis_Lucifugus2.0/Myoluc_genomeFile.txt>NJ_U_03_BaseCoverage.txt"
   ]
  },
  {
   "cell_type": "code",
   "execution_count": null,
   "metadata": {
    "collapsed": true
   },
   "outputs": [],
   "source": [
    "samtools view -b NJ_U_04_pairedplus_marked_dupes.bam | genomeCoverageBed -d -ibam stdin -g /local/home/sarahgw/references/Myotis_Lucifugus2.0/Myoluc_genomeFile.txt>NJ_U_04_BaseCoverage.txt"
   ]
  },
  {
   "cell_type": "code",
   "execution_count": null,
   "metadata": {
    "collapsed": true
   },
   "outputs": [],
   "source": [
    "samtools view -b NJ_U_05_pairedplus_marked_dupes.bam | genomeCoverageBed -d -ibam stdin -g /local/home/sarahgw/references/Myotis_Lucifugus2.0/Myoluc_genomeFile.txt>NJ_U_05_BaseCoverage.txt"
   ]
  },
  {
   "cell_type": "code",
   "execution_count": null,
   "metadata": {
    "collapsed": true
   },
   "outputs": [],
   "source": [
    "samtools view -b NJ_U_06_pairedplus_marked_dupes.bam | genomeCoverageBed -d -ibam stdin -g /local/home/sarahgw/references/Myotis_Lucifugus2.0/Myoluc_genomeFile.txt>NJ_U_06_BaseCoverage.txt"
   ]
  },
  {
   "cell_type": "code",
   "execution_count": null,
   "metadata": {
    "collapsed": true
   },
   "outputs": [],
   "source": [
    "samtools view -b NJ_U_07_pairedplus_marked_dupes.bam | genomeCoverageBed -d -ibam stdin -g /local/home/sarahgw/references/Myotis_Lucifugus2.0/Myoluc_genomeFile.txt>NJ_U_07_BaseCoverage.txt"
   ]
  },
  {
   "cell_type": "code",
   "execution_count": null,
   "metadata": {
    "collapsed": true
   },
   "outputs": [],
   "source": [
    "samtools view -b NJ_U_08_pairedplus_marked_dupes.bam | genomeCoverageBed -d -ibam stdin -g /local/home/sarahgw/references/Myotis_Lucifugus2.0/Myoluc_genomeFile.txt>NJ_U_08_BaseCoverage.txt"
   ]
  },
  {
   "cell_type": "code",
   "execution_count": null,
   "metadata": {
    "collapsed": true
   },
   "outputs": [],
   "source": [
    "samtools view -b NJ_U_09_pairedplus_marked_dupes.bam | genomeCoverageBed -d -ibam stdin -g /local/home/sarahgw/references/Myotis_Lucifugus2.0/Myoluc_genomeFile.txt>NJ_U_09_BaseCoverage.txt"
   ]
  },
  {
   "cell_type": "code",
   "execution_count": null,
   "metadata": {
    "collapsed": true
   },
   "outputs": [],
   "source": [
    "samtools view -b NJ_U_10_pairedplus_marked_dupes.bam | genomeCoverageBed -d -ibam stdin -g /local/home/sarahgw/references/Myotis_Lucifugus2.0/Myoluc_genomeFile.txt>NJ_U_10_BaseCoverage.txt"
   ]
  },
  {
   "cell_type": "code",
   "execution_count": null,
   "metadata": {
    "collapsed": true
   },
   "outputs": [],
   "source": [
    "samtools view -b NJ_U_11_pairedplus_marked_dupes.bam | genomeCoverageBed -d -ibam stdin -g /local/home/sarahgw/references/Myotis_Lucifugus2.0/Myoluc_genomeFile.txt>NJ_U_11_BaseCoverage.txt"
   ]
  },
  {
   "cell_type": "code",
   "execution_count": null,
   "metadata": {
    "collapsed": true
   },
   "outputs": [],
   "source": [
    "samtools view -b NJ_U_12_pairedplus_marked_dupes.bam | genomeCoverageBed -d -ibam stdin -g /local/home/sarahgw/references/Myotis_Lucifugus2.0/Myoluc_genomeFile.txt>NJ_U_12_BaseCoverage.txt"
   ]
  },
  {
   "cell_type": "code",
   "execution_count": null,
   "metadata": {
    "collapsed": true
   },
   "outputs": [],
   "source": [
    "samtools view -b NJ_U_15_pairedplus_marked_dupes.bam | genomeCoverageBed -d -ibam stdin -g /local/home/sarahgw/references/Myotis_Lucifugus2.0/Myoluc_genomeFile.txt>NJ_U_15_BaseCoverage.txt"
   ]
  },
  {
   "cell_type": "code",
   "execution_count": null,
   "metadata": {
    "collapsed": true
   },
   "outputs": [],
   "source": [
    "samtools view -b NJ_U_16_pairedplus_marked_dupes.bam | genomeCoverageBed -d -ibam stdin -g /local/home/sarahgw/references/Myotis_Lucifugus2.0/Myoluc_genomeFile.txt>NJ_U_16_BaseCoverage.txt"
   ]
  },
  {
   "cell_type": "markdown",
   "metadata": {},
   "source": [
    "Download general coverage stats"
   ]
  },
  {
   "cell_type": "code",
   "execution_count": null,
   "metadata": {
    "collapsed": true
   },
   "outputs": [],
   "source": [
    "scp -r \"sarahgw@amphiprion.deenr.rutgers.edu:/local/home/sarahgw/WGS/Sequences/hiseq_2016_12_07_complete/*/Coverage*\" $(pwd)"
   ]
  },
  {
   "cell_type": "code",
   "execution_count": 2,
   "metadata": {},
   "outputs": [
    {
     "name": "stdout",
     "output_type": "stream",
     "text": [
      "GL429767\t0\t19817639\t64990205\t0.304933\r\n",
      "GL429767\t1\t16472280\t64990205\t0.253458\r\n",
      "GL429767\t2\t12704897\t64990205\t0.195489\r\n",
      "GL429767\t3\t7859663\t64990205\t0.120936\r\n",
      "GL429767\t4\t4326379\t64990205\t0.0665697\r\n",
      "GL429767\t5\t2130701\t64990205\t0.032785\r\n",
      "GL429767\t6\t970634\t64990205\t0.0149351\r\n",
      "GL429767\t7\t420673\t64990205\t0.00647287\r\n",
      "GL429767\t8\t172294\t64990205\t0.00265108\r\n",
      "GL429767\t9\t68136\t64990205\t0.0010484\r\n"
     ]
    }
   ],
   "source": [
    "!head /local/home/sarahgw/WGS/Sequences/hiseq_2016_12_07_complete/NJ_E_23/Coverage_NJ_E_23.txt"
   ]
  },
  {
   "cell_type": "code",
   "execution_count": null,
   "metadata": {
    "collapsed": true
   },
   "outputs": [],
   "source": [
    " sed \"s/$/\\tNJ_E_23/\" Coverage_NJ_E_23.txt > NJ_E_23_coverage.txt"
   ]
  },
  {
   "cell_type": "markdown",
   "metadata": {},
   "source": [
    "Calculate GC content using bedtools\n",
    "Make bam files into bed files for gc content"
   ]
  },
  {
   "cell_type": "code",
   "execution_count": null,
   "metadata": {
    "collapsed": true
   },
   "outputs": [],
   "source": [
    "bamToBed -i NJ_E_25_pairedplus_marked_dupes.bam > NJ_E_25.bed"
   ]
  },
  {
   "cell_type": "code",
   "execution_count": null,
   "metadata": {
    "collapsed": true
   },
   "outputs": [],
   "source": [
    "bamToBed -i NJ_E_26_pairedplus_marked_dupes.bam > NJ_E_26.bed"
   ]
  },
  {
   "cell_type": "code",
   "execution_count": null,
   "metadata": {
    "collapsed": true
   },
   "outputs": [],
   "source": [
    "for dir in $(ls); do cd $dir; bamToBed -i \"$dir\"_pairedplus_marked_dupes.bam > \"$dir\".bed; cd ..; done"
   ]
  },
  {
   "cell_type": "markdown",
   "metadata": {},
   "source": [
    "use fasta reference index, run nuc. "
   ]
  },
  {
   "cell_type": "code",
   "execution_count": null,
   "metadata": {
    "collapsed": true
   },
   "outputs": [],
   "source": [
    "bedtools nuc -fi  ~/references/Myotis_Lucifugus2.0/Myotis_lucifugus.Myoluc2.0.dna_sm.toplevel.fa -bed NJ_E_25.bed > NJ_E_25_GC "
   ]
  },
  {
   "cell_type": "code",
   "execution_count": null,
   "metadata": {
    "collapsed": true
   },
   "outputs": [],
   "source": [
    "bedtools nuc -fi  ~/references/Myotis_Lucifugus2.0/Myotis_lucifugus.Myoluc2.0.dna_sm.toplevel.fa -bed NJ_E_26.bed > NJ_E_26_GC "
   ]
  },
  {
   "cell_type": "code",
   "execution_count": null,
   "metadata": {
    "collapsed": true
   },
   "outputs": [],
   "source": [
    "for dir in $(ls); do cd $dir; bedtools nuc -fi  ~/references/Myotis_Lucifugus2.0/Myotis_lucifugus.Myoluc2.0.dna_sm.toplevel.fa -bed \"$dir\".bed > \"$dir\"_GC; cd ..; done"
   ]
  },
  {
   "cell_type": "code",
   "execution_count": 2,
   "metadata": {},
   "outputs": [
    {
     "name": "stdout",
     "output_type": "stream",
     "text": [
      "#1_usercol,8_pct_gc\r\n",
      "GL429767,0.493151\r\n",
      "GL429767,0.500000\r\n",
      "GL429767,0.481752\r\n",
      "GL429767,0.493333\r\n",
      "GL429767,0.489796\r\n",
      "GL429767,0.494253\r\n",
      "GL429767,0.446667\r\n",
      "GL429767,0.411765\r\n",
      "GL429767,0.523179\r\n"
     ]
    }
   ],
   "source": [
    "!head /local/home/sarahgw/WGS/Sequences/hiseq_2016_12_07_complete/NJ_E_26/NJ_E_26_GC_cut.csv"
   ]
  },
  {
   "cell_type": "code",
   "execution_count": null,
   "metadata": {
    "collapsed": true
   },
   "outputs": [],
   "source": [
    "sed 's//,/g' /local/home/sarahgw/WGS/Sequences/hiseq_2016_12_07_complete/NJ_E_26/NJ_E_26_GC>/local/home/sarahgw/WGS/Sequences/hiseq_2016_12_07_complete/NJ_E_26/NJ_E_26_GC.csv"
   ]
  },
  {
   "cell_type": "code",
   "execution_count": 8,
   "metadata": {},
   "outputs": [],
   "source": [
    "!cut -d, -f-1,8 /local/home/sarahgw/WGS/Sequences/hiseq_2016_12_07_complete/NJ_E_26/NJ_E_26_GC.csv> /local/home/sarahgw/WGS/Sequences/hiseq_2016_12_07_complete/NJ_E_26/NJ_E_26_GC_cut.csv"
   ]
  },
  {
   "cell_type": "code",
   "execution_count": null,
   "metadata": {},
   "outputs": [],
   "source": [
    "sed 's//,/g' /local/home/sarahgw/WGS/Sequences/hiseq_2016_12_07_complete/NJ_E_22/NJ_E_22_GC>/local/home/sarahgw/WGS/Sequences/hiseq_2016_12_07_complete/NJ_E_22/NJ_E_22_GC.csv"
   ]
  },
  {
   "cell_type": "code",
   "execution_count": null,
   "metadata": {
    "collapsed": true
   },
   "outputs": [],
   "source": [
    "cut -d, -f-1,8 /local/home/sarahgw/WGS/Sequences/hiseq_2016_12_07_complete/NJ_E_22/NJ_E_22_GC.csv> /local/home/sarahgw/WGS/Sequences/hiseq_2016_12_07_complete/NJ_E_22/NJ_E_22_GC_cut.csv"
   ]
  },
  {
   "cell_type": "code",
   "execution_count": null,
   "metadata": {
    "collapsed": true
   },
   "outputs": [],
   "source": [
    "sed 's//,/g' /local/home/sarahgw/WGS/Sequences/hiseq_2016_12_07_complete/NJ_E_23/NJ_E_23_GC>/local/home/sarahgw/WGS/Sequences/hiseq_2016_12_07_complete/NJ_E_23/NJ_E_23_GC.csv"
   ]
  },
  {
   "cell_type": "code",
   "execution_count": null,
   "metadata": {
    "collapsed": true
   },
   "outputs": [],
   "source": [
    "cut -d, -f-1,8 /local/home/sarahgw/WGS/Sequences/hiseq_2016_12_07_complete/NJ_E_23/NJ_E_23_GC.csv> /local/home/sarahgw/WGS/Sequences/hiseq_2016_12_07_complete/NJ_E_23/NJ_E_23_GC_cut.csv"
   ]
  },
  {
   "cell_type": "code",
   "execution_count": null,
   "metadata": {
    "collapsed": true
   },
   "outputs": [],
   "source": [
    "sed 's//,/g' /local/home/sarahgw/WGS/Sequences/hiseq_2016_12_07_complete/NJ_E_24/NJ_E_24_GC>/local/home/sarahgw/WGS/Sequences/hiseq_2016_12_07_complete/NJ_E_24/NJ_E_24_GC.csv"
   ]
  },
  {
   "cell_type": "code",
   "execution_count": null,
   "metadata": {
    "collapsed": true
   },
   "outputs": [],
   "source": [
    "cut -d, -f-1,8 /local/home/sarahgw/WGS/Sequences/hiseq_2016_12_07_complete/NJ_E_24/NJ_E_24_GC.csv> /local/home/sarahgw/WGS/Sequences/hiseq_2016_12_07_complete/NJ_E_24/NJ_E_24_GC_cut.csv"
   ]
  },
  {
   "cell_type": "code",
   "execution_count": null,
   "metadata": {
    "collapsed": true
   },
   "outputs": [],
   "source": [
    "sed 's//,/g' /local/home/sarahgw/WGS/Sequences/hiseq_2016_12_07_complete/NJ_E_25/NJ_E_25_GC>/local/home/sarahgw/WGS/Sequences/hiseq_2016_12_07_complete/NJ_E_25/NJ_E_25_GC.csv"
   ]
  },
  {
   "cell_type": "code",
   "execution_count": null,
   "metadata": {
    "collapsed": true
   },
   "outputs": [],
   "source": [
    "cut -d, -f-1,8 /local/home/sarahgw/WGS/Sequences/hiseq_2016_12_07_complete/NJ_E_25/NJ_E_25_GC.csv> /local/home/sarahgw/WGS/Sequences/hiseq_2016_12_07_complete/NJ_E_25/NJ_E_25_GC_cut.csv"
   ]
  },
  {
   "cell_type": "code",
   "execution_count": null,
   "metadata": {
    "collapsed": true
   },
   "outputs": [],
   "source": [
    "sed 's//,/g' /local/home/sarahgw/WGS/Sequences/hiseq_2016_12_07_complete/NJ_E_27/NJ_E_27_GC>/local/home/sarahgw/WGS/Sequences/hiseq_2016_12_07_complete/NJ_E_27/NJ_E_27_GC.csv"
   ]
  },
  {
   "cell_type": "code",
   "execution_count": null,
   "metadata": {
    "collapsed": true
   },
   "outputs": [],
   "source": [
    "cut -d, -f-1,8 /local/home/sarahgw/WGS/Sequences/hiseq_2016_12_07_complete/NJ_E_27/NJ_E_27_GC.csv> /local/home/sarahgw/WGS/Sequences/hiseq_2016_12_07_complete/NJ_E_27/NJ_E_27_GC_cut.csv"
   ]
  },
  {
   "cell_type": "code",
   "execution_count": null,
   "metadata": {
    "collapsed": true
   },
   "outputs": [],
   "source": [
    "sed 's//,/g' /local/home/sarahgw/WGS/Sequences/hiseq_2016_12_07_complete/NJ_E_28/NJ_E_28_GC>/local/home/sarahgw/WGS/Sequences/hiseq_2016_12_07_complete/NJ_E_28/NJ_E_28_GC.csv"
   ]
  },
  {
   "cell_type": "code",
   "execution_count": null,
   "metadata": {
    "collapsed": true
   },
   "outputs": [],
   "source": [
    "cut -d, -f-1,8 /local/home/sarahgw/WGS/Sequences/hiseq_2016_12_07_complete/NJ_E_28/NJ_E_28_GC.csv> /local/home/sarahgw/WGS/Sequences/hiseq_2016_12_07_complete/NJ_E_28/NJ_E_28_GC_cut.csv"
   ]
  },
  {
   "cell_type": "code",
   "execution_count": null,
   "metadata": {
    "collapsed": true
   },
   "outputs": [],
   "source": [
    "sed 's//,/g' /local/home/sarahgw/WGS/Sequences/hiseq_2016_12_07_complete/NJ_E_29/NJ_E_29_GC>/local/home/sarahgw/WGS/Sequences/hiseq_2016_12_07_complete/NJ_E_29/NJ_E_29_GC.csv"
   ]
  },
  {
   "cell_type": "code",
   "execution_count": null,
   "metadata": {
    "collapsed": true
   },
   "outputs": [],
   "source": [
    "cut -d, -f-1,8 /local/home/sarahgw/WGS/Sequences/hiseq_2016_12_07_complete/NJ_E_29/NJ_E_29_GC.csv> /local/home/sarahgw/WGS/Sequences/hiseq_2016_12_07_complete/NJ_E_29/NJ_E_29_GC_cut.csv"
   ]
  },
  {
   "cell_type": "code",
   "execution_count": null,
   "metadata": {
    "collapsed": true
   },
   "outputs": [],
   "source": [
    "sed 's//,/g' /local/home/sarahgw/WGS/Sequences/hiseq_2016_12_07_complete/NJ_E_30/NJ_E_30_GC>/local/home/sarahgw/WGS/Sequences/hiseq_2016_12_07_complete/NJ_E_30/NJ_E_30_GC.csv"
   ]
  },
  {
   "cell_type": "code",
   "execution_count": null,
   "metadata": {
    "collapsed": true
   },
   "outputs": [],
   "source": [
    "cut -d, -f-1,8 /local/home/sarahgw/WGS/Sequences/hiseq_2016_12_07_complete/NJ_E_30/NJ_E_30_GC.csv> /local/home/sarahgw/WGS/Sequences/hiseq_2016_12_07_complete/NJ_E_30/NJ_E_30_GC_cut.csv"
   ]
  },
  {
   "cell_type": "code",
   "execution_count": null,
   "metadata": {
    "collapsed": true
   },
   "outputs": [],
   "source": [
    "sed 's//,/g' /local/home/sarahgw/WGS/Sequences/hiseq_2016_12_07_complete/NJ_U_01/NJ_U_01_GC>/local/home/sarahgw/WGS/Sequences/hiseq_2016_12_07_complete/NJ_U_01/NJ_U_01_GC.csv"
   ]
  },
  {
   "cell_type": "code",
   "execution_count": null,
   "metadata": {
    "collapsed": true
   },
   "outputs": [],
   "source": [
    "cut -d, -f-1,8 /local/home/sarahgw/WGS/Sequences/hiseq_2016_12_07_complete/NJ_U_01/NJ_U_01_GC.csv> /local/home/sarahgw/WGS/Sequences/hiseq_2016_12_07_complete/NJ_U_01/NJ_U_01_GC_cut.csv"
   ]
  },
  {
   "cell_type": "code",
   "execution_count": null,
   "metadata": {
    "collapsed": true
   },
   "outputs": [],
   "source": [
    "sed 's//,/g' /local/home/sarahgw/WGS/Sequences/hiseq_2016_12_07_complete/NJ_U_02/NJ_U_02_GC>/local/home/sarahgw/WGS/Sequences/hiseq_2016_12_07_complete/NJ_U_02/NJ_U_02_GC.csv"
   ]
  },
  {
   "cell_type": "code",
   "execution_count": null,
   "metadata": {
    "collapsed": true
   },
   "outputs": [],
   "source": [
    "cut -d, -f-1,8 /local/home/sarahgw/WGS/Sequences/hiseq_2016_12_07_complete/NJ_U_02/NJ_U_02_GC.csv> /local/home/sarahgw/WGS/Sequences/hiseq_2016_12_07_complete/NJ_U_02/NJ_U_02_GC_cut.csv"
   ]
  },
  {
   "cell_type": "code",
   "execution_count": null,
   "metadata": {
    "collapsed": true
   },
   "outputs": [],
   "source": [
    "sed 's//,/g' /local/home/sarahgw/WGS/Sequences/hiseq_2016_12_07_complete/NJ_U_03/NJ_U_03_GC>/local/home/sarahgw/WGS/Sequences/hiseq_2016_12_07_complete/NJ_U_03/NJ_U_03_GC.csv"
   ]
  },
  {
   "cell_type": "code",
   "execution_count": null,
   "metadata": {
    "collapsed": true
   },
   "outputs": [],
   "source": [
    "cut -d, -f-1,8 /local/home/sarahgw/WGS/Sequences/hiseq_2016_12_07_complete/NJ_U_03/NJ_U_03_GC.csv> /local/home/sarahgw/WGS/Sequences/hiseq_2016_12_07_complete/NJ_U_03/NJ_U_03_GC_cut.csv"
   ]
  },
  {
   "cell_type": "code",
   "execution_count": null,
   "metadata": {
    "collapsed": true
   },
   "outputs": [],
   "source": [
    "sed 's//,/g' /local/home/sarahgw/WGS/Sequences/hiseq_2016_12_07_complete/NJ_U_04/NJ_U_04_GC>/local/home/sarahgw/WGS/Sequences/hiseq_2016_12_07_complete/NJ_U_04/NJ_U_04_GC.csv"
   ]
  },
  {
   "cell_type": "code",
   "execution_count": null,
   "metadata": {
    "collapsed": true
   },
   "outputs": [],
   "source": [
    "cut -d, -f-1,8 /local/home/sarahgw/WGS/Sequences/hiseq_2016_12_07_complete/NJ_U_04/NJ_U_04_GC.csv> /local/home/sarahgw/WGS/Sequences/hiseq_2016_12_07_complete/NJ_U_04/NJ_U_04_GC_cut.csv"
   ]
  },
  {
   "cell_type": "code",
   "execution_count": null,
   "metadata": {
    "collapsed": true
   },
   "outputs": [],
   "source": [
    "sed 's//,/g' /local/home/sarahgw/WGS/Sequences/hiseq_2016_12_07_complete/NJ_U_05/NJ_U_05_GC>/local/home/sarahgw/WGS/Sequences/hiseq_2016_12_07_complete/NJ_U_05/NJ_U_05_GC.csv"
   ]
  },
  {
   "cell_type": "code",
   "execution_count": null,
   "metadata": {
    "collapsed": true
   },
   "outputs": [],
   "source": [
    "cut -d, -f-1,8 /local/home/sarahgw/WGS/Sequences/hiseq_2016_12_07_complete/NJ_U_05/NJ_U_05_GC.csv> /local/home/sarahgw/WGS/Sequences/hiseq_2016_12_07_complete/NJ_U_05/NJ_U_05_GC_cut.csv"
   ]
  },
  {
   "cell_type": "code",
   "execution_count": null,
   "metadata": {
    "collapsed": true
   },
   "outputs": [],
   "source": [
    "sed 's//,/g' /local/home/sarahgw/WGS/Sequences/hiseq_2016_12_07_complete/NJ_U_06/NJ_U_06_GC>/local/home/sarahgw/WGS/Sequences/hiseq_2016_12_07_complete/NJ_U_06/NJ_U_06_GC.csv"
   ]
  },
  {
   "cell_type": "code",
   "execution_count": null,
   "metadata": {
    "collapsed": true
   },
   "outputs": [],
   "source": [
    "cut -d, -f-1,8 /local/home/sarahgw/WGS/Sequences/hiseq_2016_12_07_complete/NJ_U_06/NJ_U_06_GC.csv> /local/home/sarahgw/WGS/Sequences/hiseq_2016_12_07_complete/NJ_U_06/NJ_U_06_GC_cut.csv"
   ]
  },
  {
   "cell_type": "code",
   "execution_count": null,
   "metadata": {
    "collapsed": true
   },
   "outputs": [],
   "source": [
    "sed 's//,/g' /local/home/sarahgw/WGS/Sequences/hiseq_2016_12_07_complete/NJ_U_07/NJ_U_07_GC>/local/home/sarahgw/WGS/Sequences/hiseq_2016_12_07_complete/NJ_U_07/NJ_U_07_GC.csv"
   ]
  },
  {
   "cell_type": "code",
   "execution_count": null,
   "metadata": {
    "collapsed": true
   },
   "outputs": [],
   "source": [
    "cut -d, -f-1,8 /local/home/sarahgw/WGS/Sequences/hiseq_2016_12_07_complete/NJ_U_07/NJ_U_07_GC.csv> /local/home/sarahgw/WGS/Sequences/hiseq_2016_12_07_complete/NJ_U_07/NJ_U_07_GC_cut.csv"
   ]
  },
  {
   "cell_type": "code",
   "execution_count": null,
   "metadata": {
    "collapsed": true
   },
   "outputs": [],
   "source": [
    "sed 's//,/g' /local/home/sarahgw/WGS/Sequences/hiseq_2016_12_07_complete/NJ_U_08/NJ_U_08_GC>/local/home/sarahgw/WGS/Sequences/hiseq_2016_12_07_complete/NJ_U_08/NJ_U_08_GC.csv"
   ]
  },
  {
   "cell_type": "code",
   "execution_count": null,
   "metadata": {
    "collapsed": true
   },
   "outputs": [],
   "source": [
    "cut -d, -f-1,8 /local/home/sarahgw/WGS/Sequences/hiseq_2016_12_07_complete/NJ_U_08/NJ_U_08_GC.csv> /local/home/sarahgw/WGS/Sequences/hiseq_2016_12_07_complete/NJ_U_08/NJ_U_08_GC_cut.csv"
   ]
  },
  {
   "cell_type": "code",
   "execution_count": null,
   "metadata": {
    "collapsed": true
   },
   "outputs": [],
   "source": [
    "sed 's//,/g' /local/home/sarahgw/WGS/Sequences/hiseq_2016_12_07_complete/NJ_U_09/NJ_U_09_GC>/local/home/sarahgw/WGS/Sequences/hiseq_2016_12_07_complete/NJ_U_09/NJ_U_09_GC.csv"
   ]
  },
  {
   "cell_type": "code",
   "execution_count": null,
   "metadata": {
    "collapsed": true
   },
   "outputs": [],
   "source": [
    "cut -d, -f-1,8 /local/home/sarahgw/WGS/Sequences/hiseq_2016_12_07_complete/NJ_U_09/NJ_U_09_GC.csv> /local/home/sarahgw/WGS/Sequences/hiseq_2016_12_07_complete/NJ_U_09/NJ_U_09_GC_cut.csv"
   ]
  },
  {
   "cell_type": "code",
   "execution_count": null,
   "metadata": {
    "collapsed": true
   },
   "outputs": [],
   "source": [
    "sed 's//,/g' /local/home/sarahgw/WGS/Sequences/hiseq_2016_12_07_complete/NJ_U_10/NJ_U_10_GC>/local/home/sarahgw/WGS/Sequences/hiseq_2016_12_07_complete/NJ_U_10/NJ_U_10_GC.csv"
   ]
  },
  {
   "cell_type": "code",
   "execution_count": null,
   "metadata": {
    "collapsed": true
   },
   "outputs": [],
   "source": [
    "cut -d, -f-1,8 /local/home/sarahgw/WGS/Sequences/hiseq_2016_12_07_complete/NJ_U_10/NJ_U_10_GC.csv> /local/home/sarahgw/WGS/Sequences/hiseq_2016_12_07_complete/NJ_U_10/NJ_U_10_GC_cut.csv"
   ]
  },
  {
   "cell_type": "code",
   "execution_count": null,
   "metadata": {
    "collapsed": true
   },
   "outputs": [],
   "source": [
    "sed 's//,/g' /local/home/sarahgw/WGS/Sequences/hiseq_2016_12_07_complete/NJ_U_11/NJ_U_11_GC>/local/home/sarahgw/WGS/Sequences/hiseq_2016_12_07_complete/NJ_U_11/NJ_U_11_GC.csv"
   ]
  },
  {
   "cell_type": "code",
   "execution_count": null,
   "metadata": {
    "collapsed": true
   },
   "outputs": [],
   "source": [
    "cut -d, -f-1,8 /local/home/sarahgw/WGS/Sequences/hiseq_2016_12_07_complete/NJ_U_11/NJ_U_11_GC.csv> /local/home/sarahgw/WGS/Sequences/hiseq_2016_12_07_complete/NJ_U_11/NJ_U_11_GC_cut.csv"
   ]
  },
  {
   "cell_type": "code",
   "execution_count": null,
   "metadata": {
    "collapsed": true
   },
   "outputs": [],
   "source": [
    "sed 's//,/g' /local/home/sarahgw/WGS/Sequences/hiseq_2016_12_07_complete/NJ_U_12/NJ_U_12_GC>/local/home/sarahgw/WGS/Sequences/hiseq_2016_12_07_complete/NJ_U_12/NJ_U_12_GC.csv"
   ]
  },
  {
   "cell_type": "code",
   "execution_count": null,
   "metadata": {
    "collapsed": true
   },
   "outputs": [],
   "source": [
    "cut -d, -f-1,8 /local/home/sarahgw/WGS/Sequences/hiseq_2016_12_07_complete/NJ_U_12/NJ_U_12_GC.csv> /local/home/sarahgw/WGS/Sequences/hiseq_2016_12_07_complete/NJ_U_12/NJ_U_12_GC_cut.csv"
   ]
  },
  {
   "cell_type": "code",
   "execution_count": null,
   "metadata": {
    "collapsed": true
   },
   "outputs": [],
   "source": [
    "sed 's//,/g' /local/home/sarahgw/WGS/Sequences/hiseq_2016_12_07_complete/NJ_U_15/NJ_U_15_GC>/local/home/sarahgw/WGS/Sequences/hiseq_2016_12_07_complete/NJ_U_15/NJ_U_15_GC.csv"
   ]
  },
  {
   "cell_type": "code",
   "execution_count": null,
   "metadata": {
    "collapsed": true
   },
   "outputs": [],
   "source": [
    "cut -d, -f-1,8 /local/home/sarahgw/WGS/Sequences/hiseq_2016_12_07_complete/NJ_U_15/NJ_U_15_GC.csv> /local/home/sarahgw/WGS/Sequences/hiseq_2016_12_07_complete/NJ_U_15/NJ_U_15_GC_cut.csv"
   ]
  },
  {
   "cell_type": "code",
   "execution_count": null,
   "metadata": {
    "collapsed": true
   },
   "outputs": [],
   "source": [
    "sed 's//,/g' /local/home/sarahgw/WGS/Sequences/hiseq_2016_12_07_complete/NJ_U_16/NJ_U_16_GC>/local/home/sarahgw/WGS/Sequences/hiseq_2016_12_07_complete/NJ_U_16/NJ_U_16_GC.csv"
   ]
  },
  {
   "cell_type": "code",
   "execution_count": null,
   "metadata": {
    "collapsed": true
   },
   "outputs": [],
   "source": [
    "cut -d, -f-1,8 /local/home/sarahgw/WGS/Sequences/hiseq_2016_12_07_complete/NJ_U_16/NJ_U_16_GC.csv> /local/home/sarahgw/WGS/Sequences/hiseq_2016_12_07_complete/NJ_U_16/NJ_U_16_GC_cut.csv"
   ]
  },
  {
   "cell_type": "markdown",
   "metadata": {},
   "source": [
    "So I calculated GC for all of the samples with Bedtools, but I can't use bedtools for the reference. So using biopython"
   ]
  },
  {
   "cell_type": "code",
   "execution_count": 1,
   "metadata": {
    "collapsed": true
   },
   "outputs": [],
   "source": [
    "from Bio import SeqIO"
   ]
  },
  {
   "cell_type": "code",
   "execution_count": 2,
   "metadata": {
    "collapsed": true
   },
   "outputs": [],
   "source": [
    "from Bio.SeqUtils import GC"
   ]
  },
  {
   "cell_type": "code",
   "execution_count": 63,
   "metadata": {},
   "outputs": [],
   "source": [
    "f = open(\"/local/home/sarahgw/references/Myotis_Lucifugus2.0/ref_GC.txt\",'w') "
   ]
  },
  {
   "cell_type": "code",
   "execution_count": 64,
   "metadata": {},
   "outputs": [],
   "source": [
    "for rec in SeqIO.parse(\"/local/home/sarahgw/references/Myotis_Lucifugus2.0/Myotis_lucifugus.Myoluc2.0.dna_sm.toplevel.fa\", \"fasta\"):\n",
    "    f.write('{}\\n'.format(GC(rec.seq)))"
   ]
  },
  {
   "cell_type": "code",
   "execution_count": 65,
   "metadata": {},
   "outputs": [
    {
     "name": "stdout",
     "output_type": "stream",
     "text": [
      "39.0326049902\r\n",
      "39.1025718122\r\n",
      "39.2424803703\r\n",
      "41.0889611316\r\n",
      "38.968533213\r\n",
      "39.800591983\r\n",
      "39.9837454903\r\n",
      "39.569981645\r\n",
      "41.7638482827\r\n",
      "37.7972187809\r\n"
     ]
    }
   ],
   "source": [
    "!head /local/home/sarahgw/references/Myotis_Lucifugus2.0/ref_GC.txt"
   ]
  },
  {
   "cell_type": "code",
   "execution_count": 66,
   "metadata": {},
   "outputs": [
    {
     "name": "stdout",
     "output_type": "stream",
     "text": [
      "11518 /local/home/sarahgw/references/Myotis_Lucifugus2.0/ref_GC.txt\r\n"
     ]
    }
   ],
   "source": [
    "!wc -l /local/home/sarahgw/references/Myotis_Lucifugus2.0/ref_GC.txt"
   ]
  },
  {
   "cell_type": "code",
   "execution_count": 67,
   "metadata": {
    "collapsed": true
   },
   "outputs": [],
   "source": [
    "!grep '>' /local/home/sarahgw/references/Myotis_Lucifugus2.0/Myotis_lucifugus.Myoluc2.0.dna_sm.toplevel.fa >  /local/home/sarahgw/references/Myotis_Lucifugus2.0/Scaffolds.txt"
   ]
  },
  {
   "cell_type": "code",
   "execution_count": 68,
   "metadata": {},
   "outputs": [
    {
     "name": "stdout",
     "output_type": "stream",
     "text": [
      ">GL429767 dna_sm:scaffold scaffold:Myoluc2.0:GL429767:1:64990205:1 REF\r\n",
      ">GL429768 dna_sm:scaffold scaffold:Myoluc2.0:GL429768:1:39494369:1 REF\r\n",
      ">GL429769 dna_sm:scaffold scaffold:Myoluc2.0:GL429769:1:32863254:1 REF\r\n",
      ">GL429770 dna_sm:scaffold scaffold:Myoluc2.0:GL429770:1:30916457:1 REF\r\n",
      ">GL429771 dna_sm:scaffold scaffold:Myoluc2.0:GL429771:1:22519077:1 REF\r\n",
      ">GL429772 dna_sm:scaffold scaffold:Myoluc2.0:GL429772:1:20945196:1 REF\r\n",
      ">GL429773 dna_sm:scaffold scaffold:Myoluc2.0:GL429773:1:20779464:1 REF\r\n",
      ">GL429774 dna_sm:scaffold scaffold:Myoluc2.0:GL429774:1:20299087:1 REF\r\n",
      ">GL429775 dna_sm:scaffold scaffold:Myoluc2.0:GL429775:1:18579217:1 REF\r\n",
      ">GL429776 dna_sm:scaffold scaffold:Myoluc2.0:GL429776:1:16450340:1 REF\r\n"
     ]
    }
   ],
   "source": [
    "!head /local/home/sarahgw/references/Myotis_Lucifugus2.0/Scaffolds.txt"
   ]
  },
  {
   "cell_type": "code",
   "execution_count": null,
   "metadata": {
    "collapsed": true
   },
   "outputs": [],
   "source": [
    "cut -d  -f1- /local/home/sarahgw/references/Myotis_Lucifugus2.0/Scaffolds.txt > /local/home/sarahgw/references/Myotis_Lucifugus2.0/Scaffolds2.txt"
   ]
  },
  {
   "cell_type": "code",
   "execution_count": 71,
   "metadata": {},
   "outputs": [
    {
     "name": "stdout",
     "output_type": "stream",
     "text": [
      ">GL429767\r\n",
      ">GL429768\r\n",
      ">GL429769\r\n",
      ">GL429770\r\n",
      ">GL429771\r\n",
      ">GL429772\r\n",
      ">GL429773\r\n",
      ">GL429774\r\n",
      ">GL429775\r\n",
      ">GL429776\r\n"
     ]
    }
   ],
   "source": [
    "!head /local/home/sarahgw/references/Myotis_Lucifugus2.0/Scaffolds2.txt"
   ]
  },
  {
   "cell_type": "code",
   "execution_count": 73,
   "metadata": {},
   "outputs": [],
   "source": [
    "!sed 's/>//g' /local/home/sarahgw/references/Myotis_Lucifugus2.0/Scaffolds2.txt > /local/home/sarahgw/references/Myotis_Lucifugus2.0/Scaffolds3.txt"
   ]
  },
  {
   "cell_type": "code",
   "execution_count": 74,
   "metadata": {},
   "outputs": [
    {
     "name": "stdout",
     "output_type": "stream",
     "text": [
      "GL429767\r\n",
      "GL429768\r\n",
      "GL429769\r\n",
      "GL429770\r\n",
      "GL429771\r\n",
      "GL429772\r\n",
      "GL429773\r\n",
      "GL429774\r\n",
      "GL429775\r\n",
      "GL429776\r\n"
     ]
    }
   ],
   "source": [
    "!head /local/home/sarahgw/references/Myotis_Lucifugus2.0/Scaffolds3.txt"
   ]
  },
  {
   "cell_type": "code",
   "execution_count": 75,
   "metadata": {
    "collapsed": true
   },
   "outputs": [],
   "source": [
    "!paste /local/home/sarahgw/references/Myotis_Lucifugus2.0/Scaffolds3.txt /local/home/sarahgw/references/Myotis_Lucifugus2.0/ref_GC.txt > /local/home/sarahgw/references/Myotis_Lucifugus2.0/ref_GC_scaffold.txt"
   ]
  },
  {
   "cell_type": "code",
   "execution_count": 76,
   "metadata": {},
   "outputs": [
    {
     "name": "stdout",
     "output_type": "stream",
     "text": [
      "GL429767\t39.0326049902\r\n",
      "GL429768\t39.1025718122\r\n",
      "GL429769\t39.2424803703\r\n",
      "GL429770\t41.0889611316\r\n",
      "GL429771\t38.968533213\r\n",
      "GL429772\t39.800591983\r\n",
      "GL429773\t39.9837454903\r\n",
      "GL429774\t39.569981645\r\n",
      "GL429775\t41.7638482827\r\n",
      "GL429776\t37.7972187809\r\n"
     ]
    }
   ],
   "source": [
    "!head /local/home/sarahgw/references/Myotis_Lucifugus2.0/ref_GC_scaffold.txt"
   ]
  },
  {
   "cell_type": "code",
   "execution_count": null,
   "metadata": {
    "collapsed": true
   },
   "outputs": [],
   "source": [
    "sed 's//,g' /local/home/sarahgw/references/Myotis_Lucifugus2.0/ref_GC_scaffold.txt > /local/home/sarahgw/references/Myotis_Lucifugus2.0/ref_GC_scaffold.csv"
   ]
  },
  {
   "cell_type": "markdown",
   "metadata": {},
   "source": [
    "Base Coverage"
   ]
  },
  {
   "cell_type": "markdown",
   "metadata": {},
   "source": [
    "Not sure where I did this, but earlier I realized that all of the Basecoverage files from bedtools were not in the same order. so step one was to sort:"
   ]
  },
  {
   "cell_type": "code",
   "execution_count": null,
   "metadata": {
    "collapsed": true
   },
   "outputs": [],
   "source": [
    "for dir in $(ls); do cd $dir; sort -k2,2 -k1,1 <\"$dir\"_BaseCoverage.txt>\"$dir\"_BaseCoverage_sort.txt; cd ..; done"
   ]
  },
  {
   "cell_type": "code",
   "execution_count": null,
   "metadata": {
    "collapsed": true
   },
   "outputs": [],
   "source": [
    "Change all values greater than 1 to one"
   ]
  },
  {
   "cell_type": "code",
   "execution_count": 4,
   "metadata": {},
   "outputs": [],
   "source": [
    " !head -n100 /local/home/sarahgw/WGS/Sequences/hiseq_2016_12_07_complete/NJ_E_23/NJ_E_23_BaseCoverage_sort.txt> /local/home/sarahgw/WGS/Sequences/hiseq_2016_12_07_complete/NJ_E_23/NJ_E_23_BaseCoverage_sorthead.txt "
   ]
  },
  {
   "cell_type": "code",
   "execution_count": 6,
   "metadata": {
    "scrolled": true
   },
   "outputs": [
    {
     "name": "stdout",
     "output_type": "stream",
     "text": [
      "AAPE02055386\t1\t0\r\n",
      "AAPE02055720\t1\t0\r\n",
      "AAPE02055947\t1\t0\r\n",
      "AAPE02056334\t1\t0\r\n",
      "AAPE02056387\t1\t0\r\n",
      "AAPE02056710\t1\t1\r\n",
      "AAPE02056893\t1\t1\r\n",
      "AAPE02056932\t1\t0\r\n",
      "AAPE02056959\t1\t0\r\n",
      "AAPE02056973\t1\t1\r\n",
      "AAPE02057001\t1\t0\r\n",
      "AAPE02057026\t1\t0\r\n",
      "AAPE02057033\t1\t0\r\n",
      "AAPE02057108\t1\t0\r\n",
      "AAPE02057117\t1\t0\r\n",
      "AAPE02057281\t1\t0\r\n",
      "AAPE02057442\t1\t0\r\n",
      "AAPE02057507\t1\t0\r\n",
      "AAPE02057557\t1\t0\r\n",
      "AAPE02057619\t1\t0\r\n",
      "AAPE02057661\t1\t0\r\n",
      "AAPE02057662\t1\t2\r\n",
      "AAPE02057692\t1\t0\r\n",
      "AAPE02057695\t1\t0\r\n",
      "AAPE02057716\t1\t0\r\n",
      "AAPE02057824\t1\t0\r\n",
      "AAPE02057833\t1\t0\r\n",
      "AAPE02057895\t1\t3\r\n",
      "AAPE02058028\t1\t0\r\n",
      "AAPE02058049\t1\t0\r\n",
      "AAPE02058260\t1\t0\r\n",
      "AAPE02058319\t1\t0\r\n",
      "AAPE02058357\t1\t0\r\n",
      "AAPE02058399\t1\t0\r\n",
      "AAPE02058564\t1\t0\r\n",
      "AAPE02058565\t1\t0\r\n",
      "AAPE02058652\t1\t0\r\n",
      "AAPE02058716\t1\t0\r\n",
      "AAPE02058730\t1\t0\r\n",
      "AAPE02058738\t1\t0\r\n",
      "AAPE02058776\t1\t0\r\n",
      "AAPE02058783\t1\t1\r\n",
      "AAPE02058797\t1\t0\r\n",
      "AAPE02058873\t1\t0\r\n",
      "AAPE02058901\t1\t0\r\n",
      "AAPE02058980\t1\t0\r\n",
      "AAPE02059006\t1\t0\r\n",
      "AAPE02059009\t1\t0\r\n",
      "AAPE02059074\t1\t0\r\n",
      "AAPE02059085\t1\t1\r\n",
      "AAPE02059090\t1\t3\r\n",
      "AAPE02059126\t1\t0\r\n",
      "AAPE02059127\t1\t0\r\n",
      "AAPE02059158\t1\t0\r\n",
      "AAPE02059189\t1\t0\r\n",
      "AAPE02059244\t1\t0\r\n",
      "AAPE02059329\t1\t0\r\n",
      "AAPE02059453\t1\t0\r\n",
      "AAPE02059463\t1\t0\r\n",
      "AAPE02059472\t1\t0\r\n",
      "AAPE02059486\t1\t0\r\n",
      "AAPE02059505\t1\t0\r\n",
      "AAPE02059557\t1\t0\r\n",
      "AAPE02059599\t1\t0\r\n",
      "AAPE02059606\t1\t2\r\n",
      "AAPE02059622\t1\t0\r\n",
      "AAPE02059712\t1\t0\r\n",
      "AAPE02059718\t1\t0\r\n",
      "AAPE02059775\t1\t0\r\n",
      "AAPE02059834\t1\t0\r\n",
      "AAPE02059862\t1\t0\r\n",
      "AAPE02059876\t1\t0\r\n",
      "AAPE02059903\t1\t0\r\n",
      "AAPE02059904\t1\t0\r\n",
      "AAPE02059905\t1\t0\r\n",
      "AAPE02059957\t1\t0\r\n",
      "AAPE02059958\t1\t0\r\n",
      "AAPE02059975\t1\t0\r\n",
      "AAPE02060007\t1\t0\r\n",
      "AAPE02060055\t1\t0\r\n",
      "AAPE02060056\t1\t0\r\n",
      "AAPE02060074\t1\t2\r\n",
      "AAPE02060088\t1\t0\r\n",
      "AAPE02060117\t1\t0\r\n",
      "AAPE02060146\t1\t0\r\n",
      "AAPE02060221\t1\t0\r\n",
      "AAPE02060238\t1\t0\r\n",
      "AAPE02060301\t1\t1\r\n",
      "AAPE02060305\t1\t0\r\n",
      "AAPE02060306\t1\t0\r\n",
      "AAPE02060319\t1\t0\r\n",
      "AAPE02060349\t1\t0\r\n",
      "AAPE02060389\t1\t0\r\n",
      "AAPE02060390\t1\t1\r\n",
      "AAPE02060444\t1\t1\r\n",
      "AAPE02060463\t1\t2\r\n",
      "AAPE02060471\t1\t0\r\n",
      "AAPE02060494\t1\t0\r\n",
      "AAPE02060516\t1\t0\r\n",
      "AAPE02060520\t1\t0\r\n"
     ]
    }
   ],
   "source": [
    "!head -n100 /local/home/sarahgw/WGS/Sequences/hiseq_2016_12_07_complete/NJ_E_23/NJ_E_23_BaseCoverage_sorthead.txt"
   ]
  },
  {
   "cell_type": "code",
   "execution_count": 10,
   "metadata": {
    "scrolled": true
   },
   "outputs": [
    {
     "name": "stdout",
     "output_type": "stream",
     "text": [
      "GL429767\t64990106\t0\r\n",
      "GL429767\t64990107\t0\r\n",
      "GL429767\t64990108\t0\r\n",
      "GL429767\t64990109\t0\r\n",
      "GL429767\t64990110\t0\r\n",
      "GL429767\t64990111\t0\r\n",
      "GL429767\t64990112\t0\r\n",
      "GL429767\t64990113\t0\r\n",
      "GL429767\t64990114\t0\r\n",
      "GL429767\t64990115\t0\r\n",
      "GL429767\t64990116\t0\r\n",
      "GL429767\t64990117\t0\r\n",
      "GL429767\t64990118\t0\r\n",
      "GL429767\t64990119\t0\r\n",
      "GL429767\t64990120\t0\r\n",
      "GL429767\t64990121\t0\r\n",
      "GL429767\t64990122\t0\r\n",
      "GL429767\t64990123\t0\r\n",
      "GL429767\t64990124\t0\r\n",
      "GL429767\t64990125\t0\r\n",
      "GL429767\t64990126\t0\r\n",
      "GL429767\t64990127\t0\r\n",
      "GL429767\t64990128\t0\r\n",
      "GL429767\t64990129\t0\r\n",
      "GL429767\t64990130\t0\r\n",
      "GL429767\t64990131\t0\r\n",
      "GL429767\t64990132\t0\r\n",
      "GL429767\t64990133\t0\r\n",
      "GL429767\t64990134\t0\r\n",
      "GL429767\t64990135\t0\r\n",
      "GL429767\t64990136\t0\r\n",
      "GL429767\t64990137\t0\r\n",
      "GL429767\t64990138\t0\r\n",
      "GL429767\t64990139\t0\r\n",
      "GL429767\t64990140\t0\r\n",
      "GL429767\t64990141\t0\r\n",
      "GL429767\t64990142\t0\r\n",
      "GL429767\t64990143\t0\r\n",
      "GL429767\t64990144\t0\r\n",
      "GL429767\t64990145\t0\r\n",
      "GL429767\t64990146\t0\r\n",
      "GL429767\t64990147\t0\r\n",
      "GL429767\t64990148\t0\r\n",
      "GL429767\t64990149\t0\r\n",
      "GL429767\t64990150\t0\r\n",
      "GL429767\t64990151\t0\r\n",
      "GL429767\t64990152\t0\r\n",
      "GL429767\t64990153\t0\r\n",
      "GL429767\t64990154\t0\r\n",
      "GL429767\t64990155\t0\r\n",
      "GL429767\t64990156\t0\r\n",
      "GL429767\t64990157\t0\r\n",
      "GL429767\t64990158\t0\r\n",
      "GL429767\t64990159\t0\r\n",
      "GL429767\t64990160\t0\r\n",
      "GL429767\t64990161\t0\r\n",
      "GL429767\t64990162\t0\r\n",
      "GL429767\t64990163\t0\r\n",
      "GL429767\t64990164\t0\r\n",
      "GL429767\t64990165\t0\r\n",
      "GL429767\t64990166\t0\r\n",
      "GL429767\t64990167\t0\r\n",
      "GL429767\t64990168\t0\r\n",
      "GL429767\t64990169\t0\r\n",
      "GL429767\t64990170\t0\r\n",
      "GL429767\t64990171\t0\r\n",
      "GL429767\t64990172\t0\r\n",
      "GL429767\t64990173\t0\r\n",
      "GL429767\t64990174\t0\r\n",
      "GL429767\t64990175\t0\r\n",
      "GL429767\t64990176\t0\r\n",
      "GL429767\t64990177\t0\r\n",
      "GL429767\t64990178\t0\r\n",
      "GL429767\t64990179\t0\r\n",
      "GL429767\t64990180\t0\r\n",
      "GL429767\t64990181\t0\r\n",
      "GL429767\t64990182\t0\r\n",
      "GL429767\t64990183\t0\r\n",
      "GL429767\t64990184\t0\r\n",
      "GL429767\t64990185\t0\r\n",
      "GL429767\t64990186\t0\r\n",
      "GL429767\t64990187\t0\r\n",
      "GL429767\t64990188\t0\r\n",
      "GL429767\t64990189\t0\r\n",
      "GL429767\t64990190\t0\r\n",
      "GL429767\t64990191\t0\r\n",
      "GL429767\t64990192\t0\r\n",
      "GL429767\t64990193\t0\r\n",
      "GL429767\t64990194\t0\r\n",
      "GL429767\t64990195\t0\r\n",
      "GL429767\t64990196\t0\r\n",
      "GL429767\t64990197\t0\r\n",
      "GL429767\t64990198\t0\r\n",
      "GL429767\t64990199\t0\r\n",
      "GL429767\t64990200\t0\r\n",
      "GL429767\t64990201\t0\r\n",
      "GL429767\t64990202\t0\r\n",
      "GL429767\t64990203\t0\r\n",
      "GL429767\t64990204\t0\r\n",
      "GL429767\t64990205\t0\r\n"
     ]
    }
   ],
   "source": [
    "!tail -n100 /local/home/sarahgw/WGS/Sequences/hiseq_2016_12_07_complete/NJ_E_23/NJ_E_23_BaseCoverage_sort.txt"
   ]
  },
  {
   "cell_type": "code",
   "execution_count": null,
   "metadata": {
    "collapsed": true
   },
   "outputs": [],
   "source": [
    " awk '{ if ($3 > \"1\") $3=1; print $0 }' OFS='\\t' NJ_E_23_BaseCoverage_sorthead.txt > NJ_E_23_BaseCoverage_sorthead1.txt"
   ]
  },
  {
   "cell_type": "code",
   "execution_count": 8,
   "metadata": {
    "scrolled": true
   },
   "outputs": [
    {
     "name": "stdout",
     "output_type": "stream",
     "text": [
      "AAPE02055386\t1\t0\r\n",
      "AAPE02055720\t1\t0\r\n",
      "AAPE02055947\t1\t0\r\n",
      "AAPE02056334\t1\t0\r\n",
      "AAPE02056387\t1\t0\r\n",
      "AAPE02056710\t1\t1\r\n",
      "AAPE02056893\t1\t1\r\n",
      "AAPE02056932\t1\t0\r\n",
      "AAPE02056959\t1\t0\r\n",
      "AAPE02056973\t1\t1\r\n",
      "AAPE02057001\t1\t0\r\n",
      "AAPE02057026\t1\t0\r\n",
      "AAPE02057033\t1\t0\r\n",
      "AAPE02057108\t1\t0\r\n",
      "AAPE02057117\t1\t0\r\n",
      "AAPE02057281\t1\t0\r\n",
      "AAPE02057442\t1\t0\r\n",
      "AAPE02057507\t1\t0\r\n",
      "AAPE02057557\t1\t0\r\n",
      "AAPE02057619\t1\t0\r\n",
      "AAPE02057661\t1\t0\r\n",
      "AAPE02057662\t1\t1\r\n",
      "AAPE02057692\t1\t0\r\n",
      "AAPE02057695\t1\t0\r\n",
      "AAPE02057716\t1\t0\r\n",
      "AAPE02057824\t1\t0\r\n",
      "AAPE02057833\t1\t0\r\n",
      "AAPE02057895\t1\t1\r\n",
      "AAPE02058028\t1\t0\r\n",
      "AAPE02058049\t1\t0\r\n",
      "AAPE02058260\t1\t0\r\n",
      "AAPE02058319\t1\t0\r\n",
      "AAPE02058357\t1\t0\r\n",
      "AAPE02058399\t1\t0\r\n",
      "AAPE02058564\t1\t0\r\n",
      "AAPE02058565\t1\t0\r\n",
      "AAPE02058652\t1\t0\r\n",
      "AAPE02058716\t1\t0\r\n",
      "AAPE02058730\t1\t0\r\n",
      "AAPE02058738\t1\t0\r\n",
      "AAPE02058776\t1\t0\r\n",
      "AAPE02058783\t1\t1\r\n",
      "AAPE02058797\t1\t0\r\n",
      "AAPE02058873\t1\t0\r\n",
      "AAPE02058901\t1\t0\r\n",
      "AAPE02058980\t1\t0\r\n",
      "AAPE02059006\t1\t0\r\n",
      "AAPE02059009\t1\t0\r\n",
      "AAPE02059074\t1\t0\r\n",
      "AAPE02059085\t1\t1\r\n",
      "AAPE02059090\t1\t1\r\n",
      "AAPE02059126\t1\t0\r\n",
      "AAPE02059127\t1\t0\r\n",
      "AAPE02059158\t1\t0\r\n",
      "AAPE02059189\t1\t0\r\n",
      "AAPE02059244\t1\t0\r\n",
      "AAPE02059329\t1\t0\r\n",
      "AAPE02059453\t1\t0\r\n",
      "AAPE02059463\t1\t0\r\n",
      "AAPE02059472\t1\t0\r\n",
      "AAPE02059486\t1\t0\r\n",
      "AAPE02059505\t1\t0\r\n",
      "AAPE02059557\t1\t0\r\n",
      "AAPE02059599\t1\t0\r\n",
      "AAPE02059606\t1\t1\r\n",
      "AAPE02059622\t1\t0\r\n",
      "AAPE02059712\t1\t0\r\n",
      "AAPE02059718\t1\t0\r\n",
      "AAPE02059775\t1\t0\r\n",
      "AAPE02059834\t1\t0\r\n",
      "AAPE02059862\t1\t0\r\n",
      "AAPE02059876\t1\t0\r\n",
      "AAPE02059903\t1\t0\r\n",
      "AAPE02059904\t1\t0\r\n",
      "AAPE02059905\t1\t0\r\n",
      "AAPE02059957\t1\t0\r\n",
      "AAPE02059958\t1\t0\r\n",
      "AAPE02059975\t1\t0\r\n",
      "AAPE02060007\t1\t0\r\n",
      "AAPE02060055\t1\t0\r\n",
      "AAPE02060056\t1\t0\r\n",
      "AAPE02060074\t1\t1\r\n",
      "AAPE02060088\t1\t0\r\n",
      "AAPE02060117\t1\t0\r\n",
      "AAPE02060146\t1\t0\r\n",
      "AAPE02060221\t1\t0\r\n",
      "AAPE02060238\t1\t0\r\n",
      "AAPE02060301\t1\t1\r\n",
      "AAPE02060305\t1\t0\r\n",
      "AAPE02060306\t1\t0\r\n",
      "AAPE02060319\t1\t0\r\n",
      "AAPE02060349\t1\t0\r\n",
      "AAPE02060389\t1\t0\r\n",
      "AAPE02060390\t1\t1\r\n",
      "AAPE02060444\t1\t1\r\n",
      "AAPE02060463\t1\t1\r\n",
      "AAPE02060471\t1\t0\r\n",
      "AAPE02060494\t1\t0\r\n",
      "AAPE02060516\t1\t0\r\n",
      "AAPE02060520\t1\t0\r\n"
     ]
    }
   ],
   "source": [
    "!head -n100 /local/home/sarahgw/WGS/Sequences/hiseq_2016_12_07_complete/NJ_E_23/NJ_E_23_BaseCoverage_sorthead1.txt"
   ]
  },
  {
   "cell_type": "code",
   "execution_count": null,
   "metadata": {
    "collapsed": true
   },
   "outputs": [],
   "source": [
    " for dir in $(ls); do cd $dir; awk '{ if ($3 > \"1\") $3=1; print $0 }' OFS='\\t' $dir_BaseCoverage_sort.txt > $dir_BaseCoverage_sort1.txt; cd ..; done "
   ]
  },
  {
   "cell_type": "code",
   "execution_count": null,
   "metadata": {
    "collapsed": true
   },
   "outputs": [],
   "source": [
    "find . -name *_BaseCoverage_sort1.txt | xargs paste > ../BaseCoverage_all.txt"
   ]
  },
  {
   "cell_type": "code",
   "execution_count": 1,
   "metadata": {
    "scrolled": true
   },
   "outputs": [
    {
     "name": "stdout",
     "output_type": "stream",
     "text": [
      "AAPE02055386\t1\t0\tAAPE02055386\t1\t0\tAAPE02055386\t1\t0\tAAPE02055386\t1\t0\tAAPE02055386\t1\t0\tAAPE02055386\t1\t0\t\tAAPE02055386\t1\t0\tAAPE02055386\t1\t0\tAAPE02055386\t1\t0\tAAPE02055386\t1\t0\tAAPE02055386\t1\t0\tAAPE02055386\t1\t0\tAAPE02055386\t1\t0\tAAPE02055386\t1\t0\tAAPE02055386\t1\t0\tAAPE02055386\t1\t0\tAAPE02055386\t1\t0\t\tAAPE02055386\t1\t0\tAAPE02055386\t1\t0\tAAPE02055386\t1\t0\tAAPE02055386\t1\t0\tAAPE02055386\t1\t0\r\n",
      "AAPE02055720\t1\t0\tAAPE02055720\t1\t0\tAAPE02055720\t1\t0\tAAPE02055720\t1\t0\tAAPE02055720\t1\t0\tAAPE02055720\t1\t0\t\tAAPE02055720\t1\t0\tAAPE02055720\t1\t0\tAAPE02055720\t1\t0\tAAPE02055720\t1\t0\tAAPE02055720\t1\t0\tAAPE02055720\t1\t0\tAAPE02055720\t1\t0\tAAPE02055720\t1\t0\tAAPE02055720\t1\t0\tAAPE02055720\t1\t0\tAAPE02055720\t1\t0\t\tAAPE02055720\t1\t0\tAAPE02055720\t1\t0\tAAPE02055720\t1\t0\tAAPE02055720\t1\t0\tAAPE02055720\t1\t0\r\n",
      "AAPE02055947\t1\t0\tAAPE02055947\t1\t0\tAAPE02055947\t1\t0\tAAPE02055947\t1\t0\tAAPE02055947\t1\t0\tAAPE02055947\t1\t0\t\tAAPE02055947\t1\t0\tAAPE02055947\t1\t0\tAAPE02055947\t1\t0\tAAPE02055947\t1\t0\tAAPE02055947\t1\t0\tAAPE02055947\t1\t0\tAAPE02055947\t1\t0\tAAPE02055947\t1\t0\tAAPE02055947\t1\t0\tAAPE02055947\t1\t0\tAAPE02055947\t1\t0\t\tAAPE02055947\t1\t0\tAAPE02055947\t1\t0\tAAPE02055947\t1\t0\tAAPE02055947\t1\t0\tAAPE02055947\t1\t0\r\n",
      "AAPE02056334\t1\t0\tAAPE02056334\t1\t0\tAAPE02056334\t1\t0\tAAPE02056334\t1\t0\tAAPE02056334\t1\t0\tAAPE02056334\t1\t0\t\tAAPE02056334\t1\t0\tAAPE02056334\t1\t0\tAAPE02056334\t1\t0\tAAPE02056334\t1\t0\tAAPE02056334\t1\t0\tAAPE02056334\t1\t0\tAAPE02056334\t1\t0\tAAPE02056334\t1\t0\tAAPE02056334\t1\t0\tAAPE02056334\t1\t0\tAAPE02056334\t1\t0\t\tAAPE02056334\t1\t0\tAAPE02056334\t1\t0\tAAPE02056334\t1\t0\tAAPE02056334\t1\t0\tAAPE02056334\t1\t0\r\n",
      "AAPE02056387\t1\t1\tAAPE02056387\t1\t0\tAAPE02056387\t1\t0\tAAPE02056387\t1\t0\tAAPE02056387\t1\t0\tAAPE02056387\t1\t0\t\tAAPE02056387\t1\t0\tAAPE02056387\t1\t0\tAAPE02056387\t1\t0\tAAPE02056387\t1\t0\tAAPE02056387\t1\t0\tAAPE02056387\t1\t0\tAAPE02056387\t1\t0\tAAPE02056387\t1\t0\tAAPE02056387\t1\t0\tAAPE02056387\t1\t1\tAAPE02056387\t1\t0\t\tAAPE02056387\t1\t1\tAAPE02056387\t1\t0\tAAPE02056387\t1\t0\tAAPE02056387\t1\t0\tAAPE02056387\t1\t0\r\n",
      "AAPE02056710\t1\t0\tAAPE02056710\t1\t1\tAAPE02056710\t1\t1\tAAPE02056710\t1\t0\tAAPE02056710\t1\t1\tAAPE02056710\t1\t1\t\tAAPE02056710\t1\t0\tAAPE02056710\t1\t0\tAAPE02056710\t1\t0\tAAPE02056710\t1\t0\tAAPE02056710\t1\t1\tAAPE02056710\t1\t1\tAAPE02056710\t1\t1\tAAPE02056710\t1\t1\tAAPE02056710\t1\t1\tAAPE02056710\t1\t1\tAAPE02056710\t1\t1\t\tAAPE02056710\t1\t1\tAAPE02056710\t1\t0\tAAPE02056710\t1\t0\tAAPE02056710\t1\t0\tAAPE02056710\t1\t0\r\n",
      "AAPE02056893\t1\t0\tAAPE02056893\t1\t0\tAAPE02056893\t1\t0\tAAPE02056893\t1\t0\tAAPE02056893\t1\t1\tAAPE02056893\t1\t0\t\tAAPE02056893\t1\t0\tAAPE02056893\t1\t0\tAAPE02056893\t1\t0\tAAPE02056893\t1\t0\tAAPE02056893\t1\t1\tAAPE02056893\t1\t0\tAAPE02056893\t1\t0\tAAPE02056893\t1\t0\tAAPE02056893\t1\t1\tAAPE02056893\t1\t0\tAAPE02056893\t1\t0\t\tAAPE02056893\t1\t0\tAAPE02056893\t1\t0\tAAPE02056893\t1\t0\tAAPE02056893\t1\t0\tAAPE02056893\t1\t0\r\n",
      "AAPE02056932\t1\t0\tAAPE02056932\t1\t0\tAAPE02056932\t1\t0\tAAPE02056932\t1\t0\tAAPE02056932\t1\t0\tAAPE02056932\t1\t0\t\tAAPE02056932\t1\t0\tAAPE02056932\t1\t0\tAAPE02056932\t1\t0\tAAPE02056932\t1\t0\tAAPE02056932\t1\t0\tAAPE02056932\t1\t0\tAAPE02056932\t1\t0\tAAPE02056932\t1\t0\tAAPE02056932\t1\t0\tAAPE02056932\t1\t0\tAAPE02056932\t1\t1\t\tAAPE02056932\t1\t0\tAAPE02056932\t1\t0\tAAPE02056932\t1\t0\tAAPE02056932\t1\t0\tAAPE02056932\t1\t0\r\n",
      "AAPE02056959\t1\t0\tAAPE02056959\t1\t0\tAAPE02056959\t1\t0\tAAPE02056959\t1\t0\tAAPE02056959\t1\t0\tAAPE02056959\t1\t0\t\tAAPE02056959\t1\t0\tAAPE02056959\t1\t0\tAAPE02056959\t1\t0\tAAPE02056959\t1\t0\tAAPE02056959\t1\t0\tAAPE02056959\t1\t0\tAAPE02056959\t1\t0\tAAPE02056959\t1\t0\tAAPE02056959\t1\t0\tAAPE02056959\t1\t0\tAAPE02056959\t1\t0\t\tAAPE02056959\t1\t0\tAAPE02056959\t1\t0\tAAPE02056959\t1\t0\tAAPE02056959\t1\t0\tAAPE02056959\t1\t0\r\n",
      "AAPE02056973\t1\t0\tAAPE02056973\t1\t0\tAAPE02056973\t1\t0\tAAPE02056973\t1\t0\tAAPE02056973\t1\t0\tAAPE02056973\t1\t0\t\tAAPE02056973\t1\t0\tAAPE02056973\t1\t1\tAAPE02056973\t1\t0\tAAPE02056973\t1\t0\tAAPE02056973\t1\t1\tAAPE02056973\t1\t1\tAAPE02056973\t1\t0\tAAPE02056973\t1\t0\tAAPE02056973\t1\t0\tAAPE02056973\t1\t0\tAAPE02056973\t1\t0\t\tAAPE02056973\t1\t0\tAAPE02056973\t1\t0\tAAPE02056973\t1\t0\tAAPE02056973\t1\t0\tAAPE02056973\t1\t0\r\n"
     ]
    }
   ],
   "source": [
    "!head /local/home/sarahgw/WGS/Sequences/BaseCoverage_all.txt"
   ]
  },
  {
   "cell_type": "code",
   "execution_count": 3,
   "metadata": {},
   "outputs": [
    {
     "name": "stdout",
     "output_type": "stream",
     "text": [
      "66\r\n"
     ]
    }
   ],
   "source": [
    "!head -n1 /local/home/sarahgw/WGS/Sequences/BaseCoverage_all.txt| wc -w"
   ]
  },
  {
   "cell_type": "code",
   "execution_count": 6,
   "metadata": {},
   "outputs": [
    {
     "name": "stdout",
     "output_type": "stream",
     "text": [
      "0 0 0 0 0 0 0 0 0 0 0 0 0 0 0 0 0 0 0 0 0 0\r\n"
     ]
    }
   ],
   "source": [
    "!head -n1 /local/home/sarahgw/WGS/Sequences/BaseCoverage_all.txt | awk '{print $3, $6, $9, $12, $15, $18, $21, $24, $27, $30, $33, $36, $39, $42, $45, $48, $51, $54, $57, $60, $63, $66 }' "
   ]
  },
  {
   "cell_type": "markdown",
   "metadata": {},
   "source": [
    "So these are each sample is a column, each row is a locus, need to add back the scaffold and locus later?"
   ]
  },
  {
   "cell_type": "code",
   "execution_count": null,
   "metadata": {
    "collapsed": true
   },
   "outputs": [],
   "source": [
    "awk '{print $3, $6, $9, $12, $15, $18, $21, $24, $27, $30, $33, $36, $39, $42, $45, $48, $51, $54, $57, $60, $63, $66 }' BaseCoverage_all.txt> BaseCoverage_allCount.txt"
   ]
  },
  {
   "cell_type": "code",
   "execution_count": null,
   "metadata": {
    "collapsed": true
   },
   "outputs": [],
   "source": [
    "awk '{ printf \"%.0f\\n\", $1 + $2 + $3 + $4 + $5 + $6+ $7+ $8+ $9+ $10+ $11+ $12+$13+ $14+ $15+ $16+ $17+ $18+$19+$20+ $21+$22}' BaseCoverage_allCount.txt > BaseCoverage_allSum.txt"
   ]
  },
  {
   "cell_type": "code",
   "execution_count": null,
   "metadata": {
    "collapsed": true
   },
   "outputs": [],
   "source": [
    "awk '{print $1, $2}' BaseCoverage_all.txt | paste BaseCoverage_allSum.txt>BaseCoverage_allSumAnno.txt"
   ]
  },
  {
   "cell_type": "code",
   "execution_count": null,
   "metadata": {
    "collapsed": true
   },
   "outputs": [],
   "source": []
  }
 ],
 "metadata": {
  "anaconda-cloud": {},
  "kernelspec": {
   "display_name": "Python 3",
   "language": "python",
   "name": "python3"
  },
  "language_info": {
   "codemirror_mode": {
    "name": "ipython",
    "version": 3
   },
   "file_extension": ".py",
   "mimetype": "text/x-python",
   "name": "python",
   "nbconvert_exporter": "python",
   "pygments_lexer": "ipython3",
   "version": "3.6.4"
  }
 },
 "nbformat": 4,
 "nbformat_minor": 1
}
