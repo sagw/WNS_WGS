{
 "cells": [
  {
   "cell_type": "markdown",
   "metadata": {},
   "source": [
    "NJ (hibernia mine)\n",
    "2009       26438\n",
    "\n",
    "2010       1756\n",
    "\n",
    "2011       748\n",
    "\n",
    "2012       763\n",
    "\n",
    "2013       574\n",
    "\n",
    "2014       475\n",
    "\n",
    "2015       435\n",
    "\n",
    "2016       450\n",
    "\n",
    "\n",
    "Are there ohter smaller caves nearby"
   ]
  },
  {
   "cell_type": "markdown",
   "metadata": {},
   "source": [
    "Ny (walter williams preserve)\n",
    "\n",
    "1999  87,401 (considered the pre-WNS baseline, although it seems likely that the population would have increased in the intervening years prior to the observed die-off that began in 2008.)\n",
    "\n",
    " \n",
    "\n",
    "2010  16,673 (the post-WNS minimum)\n",
    "\n",
    "  \n",
    "\n",
    "2013  25,929\n",
    "\n",
    "\n",
    "2015  37,713\n",
    "\n",
    "\n",
    "2017  35,520\n",
    "\n",
    "\n",
    "Says the samples were collected at williams lake, how close is this to walter williams preserve? If we think about the whole williams complex as one population, does that include williams lake?\n",
    "\n",
    "Carl herzog thinks that walter williams isn't actually growing, but that small populations nearby are consolidating to the big mine, does he have any evidence of that? are bats shown to be moving between these caves? or is it possible the large pop is just more easily able to stabilize, and the small pops becamse extirpated. \n",
    "so should we think of all of these small pops as one? then what do pop declines look like? \n",
    "\n",
    "Regardless if it is pop growth or immigration, I think we would expect to see a negative tajima's d, becaue we would be increasing the number of rare alleles after the bottleneck. Also, maybe pop didn't actually double but it definitely is doing better than hibernia.  \n",
    "\n",
    "Assuming 2008 pop is same as 1999\n"
   ]
  },
  {
   "cell_type": "code",
   "execution_count": 20,
   "metadata": {
    "collapsed": true
   },
   "outputs": [],
   "source": [
    "NJpop=data.frame(Year=c(2009, 2010, 2011, 2012, 2013, 2014, 2015, 2016), Size=c(26438, 1756, 748, 763, 574, 475, 435, 450),\n",
    "                Samples=c(\"Pre\", NA, NA, NA, NA, NA, NA, \"Post\"))"
   ]
  },
  {
   "cell_type": "code",
   "execution_count": 26,
   "metadata": {
    "collapsed": true
   },
   "outputs": [],
   "source": [
    "NJpop$Site=\"NJ\""
   ]
  },
  {
   "cell_type": "code",
   "execution_count": null,
   "metadata": {
    "collapsed": true
   },
   "outputs": [],
   "source": [
    "NJpop"
   ]
  },
  {
   "cell_type": "code",
   "execution_count": 21,
   "metadata": {
    "collapsed": true
   },
   "outputs": [],
   "source": [
    "NYpop=data.frame(Year=c(2008, 2010, 2013, 2015, 2016,  2017), Size=c(87401, 16673, 25929, 37713, 37713, 35520),\n",
    "                Samples=c(\"Pre\", NA, NA, NA, \"Post\", NA))"
   ]
  },
  {
   "cell_type": "code",
   "execution_count": 22,
   "metadata": {
    "collapsed": true
   },
   "outputs": [],
   "source": [
    "NYpop$Site=\"NY\""
   ]
  },
  {
   "cell_type": "code",
   "execution_count": 27,
   "metadata": {
    "collapsed": true
   },
   "outputs": [],
   "source": [
    "ALLpop=rbind(NJpop, NYpop)"
   ]
  },
  {
   "cell_type": "code",
   "execution_count": 28,
   "metadata": {},
   "outputs": [
    {
     "data": {
      "text/html": [
       "<table>\n",
       "<thead><tr><th scope=col>Year</th><th scope=col>Size</th><th scope=col>Samples</th><th scope=col>Site</th></tr></thead>\n",
       "<tbody>\n",
       "\t<tr><td>2009 </td><td>26438</td><td>Pre  </td><td>NJ   </td></tr>\n",
       "\t<tr><td>2010 </td><td> 1756</td><td>NA   </td><td>NJ   </td></tr>\n",
       "\t<tr><td>2011 </td><td>  748</td><td>NA   </td><td>NJ   </td></tr>\n",
       "\t<tr><td>2012 </td><td>  763</td><td>NA   </td><td>NJ   </td></tr>\n",
       "\t<tr><td>2013 </td><td>  574</td><td>NA   </td><td>NJ   </td></tr>\n",
       "\t<tr><td>2014 </td><td>  475</td><td>NA   </td><td>NJ   </td></tr>\n",
       "\t<tr><td>2015 </td><td>  435</td><td>NA   </td><td>NJ   </td></tr>\n",
       "\t<tr><td>2016 </td><td>  450</td><td>Post </td><td>NJ   </td></tr>\n",
       "\t<tr><td>2008 </td><td>87401</td><td>Pre  </td><td>NY   </td></tr>\n",
       "\t<tr><td>2010 </td><td>16673</td><td>NA   </td><td>NY   </td></tr>\n",
       "\t<tr><td>2013 </td><td>25929</td><td>NA   </td><td>NY   </td></tr>\n",
       "\t<tr><td>2015 </td><td>37713</td><td>NA   </td><td>NY   </td></tr>\n",
       "\t<tr><td>2016 </td><td>37713</td><td>Post </td><td>NY   </td></tr>\n",
       "\t<tr><td>2017 </td><td>35520</td><td>NA   </td><td>NY   </td></tr>\n",
       "</tbody>\n",
       "</table>\n"
      ],
      "text/latex": [
       "\\begin{tabular}{r|llll}\n",
       " Year & Size & Samples & Site\\\\\n",
       "\\hline\n",
       "\t 2009  & 26438 & Pre   & NJ   \\\\\n",
       "\t 2010  &  1756 & NA    & NJ   \\\\\n",
       "\t 2011  &   748 & NA    & NJ   \\\\\n",
       "\t 2012  &   763 & NA    & NJ   \\\\\n",
       "\t 2013  &   574 & NA    & NJ   \\\\\n",
       "\t 2014  &   475 & NA    & NJ   \\\\\n",
       "\t 2015  &   435 & NA    & NJ   \\\\\n",
       "\t 2016  &   450 & Post  & NJ   \\\\\n",
       "\t 2008  & 87401 & Pre   & NY   \\\\\n",
       "\t 2010  & 16673 & NA    & NY   \\\\\n",
       "\t 2013  & 25929 & NA    & NY   \\\\\n",
       "\t 2015  & 37713 & NA    & NY   \\\\\n",
       "\t 2016  & 37713 & Post  & NY   \\\\\n",
       "\t 2017  & 35520 & NA    & NY   \\\\\n",
       "\\end{tabular}\n"
      ],
      "text/markdown": [
       "\n",
       "Year | Size | Samples | Site | \n",
       "|---|---|---|---|---|---|---|---|---|---|---|---|---|---|\n",
       "| 2009  | 26438 | Pre   | NJ    | \n",
       "| 2010  |  1756 | NA    | NJ    | \n",
       "| 2011  |   748 | NA    | NJ    | \n",
       "| 2012  |   763 | NA    | NJ    | \n",
       "| 2013  |   574 | NA    | NJ    | \n",
       "| 2014  |   475 | NA    | NJ    | \n",
       "| 2015  |   435 | NA    | NJ    | \n",
       "| 2016  |   450 | Post  | NJ    | \n",
       "| 2008  | 87401 | Pre   | NY    | \n",
       "| 2010  | 16673 | NA    | NY    | \n",
       "| 2013  | 25929 | NA    | NY    | \n",
       "| 2015  | 37713 | NA    | NY    | \n",
       "| 2016  | 37713 | Post  | NY    | \n",
       "| 2017  | 35520 | NA    | NY    | \n",
       "\n",
       "\n"
      ],
      "text/plain": [
       "   Year Size  Samples Site\n",
       "1  2009 26438 Pre     NJ  \n",
       "2  2010  1756 NA      NJ  \n",
       "3  2011   748 NA      NJ  \n",
       "4  2012   763 NA      NJ  \n",
       "5  2013   574 NA      NJ  \n",
       "6  2014   475 NA      NJ  \n",
       "7  2015   435 NA      NJ  \n",
       "8  2016   450 Post    NJ  \n",
       "9  2008 87401 Pre     NY  \n",
       "10 2010 16673 NA      NY  \n",
       "11 2013 25929 NA      NY  \n",
       "12 2015 37713 NA      NY  \n",
       "13 2016 37713 Post    NY  \n",
       "14 2017 35520 NA      NY  "
      ]
     },
     "metadata": {},
     "output_type": "display_data"
    }
   ],
   "source": [
    "ALLpop"
   ]
  },
  {
   "cell_type": "code",
   "execution_count": null,
   "metadata": {
    "collapsed": true
   },
   "outputs": [],
   "source": []
  },
  {
   "cell_type": "code",
   "execution_count": 13,
   "metadata": {},
   "outputs": [
    {
     "name": "stderr",
     "output_type": "stream",
     "text": [
      "Loading required package: ggplot2\n"
     ]
    }
   ],
   "source": [
    "require(ggplot2)"
   ]
  },
  {
   "cell_type": "code",
   "execution_count": 40,
   "metadata": {},
   "outputs": [
    {
     "name": "stderr",
     "output_type": "stream",
     "text": [
      "Warning message:\n",
      "“Removed 10 rows containing missing values (geom_text).”"
     ]
    },
    {
     "data": {
      "image/png": "[encoded data removed]",
      "text/plain": [
       "plot without title"
      ]
     },
     "metadata": {},
     "output_type": "display_data"
    }
   ],
   "source": [
    "print(ggplot()+ geom_line(data=ALLpop, aes(x=Year, y=Size, color=Site))+ theme_bw()+ scale_x_continuous(breaks=c(2008, 2009, 2010, 2011, 2012, 2013, 2014, 2015, 2016, 2017))\n",
    "    + theme( panel.grid.minor = element_blank(), panel.grid.major = element_blank())\n",
    "      + geom_text(data=ALLpop, aes(x=Year, y=Size, label=Samples), nudge_y=5000))"
   ]
  },
  {
   "cell_type": "code",
   "execution_count": null,
   "metadata": {
    "collapsed": true
   },
   "outputs": [],
   "source": []
  },
  {
   "cell_type": "code",
   "execution_count": null,
   "metadata": {
    "collapsed": true
   },
   "outputs": [],
   "source": []
  }
 ],
 "metadata": {
  "kernelspec": {
   "display_name": "R",
   "language": "R",
   "name": "ir"
  },
  "language_info": {
   "codemirror_mode": "r",
   "file_extension": ".r",
   "mimetype": "text/x-r-source",
   "name": "R",
   "pygments_lexer": "r",
   "version": "3.4.1"
  }
 },
 "nbformat": 4,
 "nbformat_minor": 2
}
