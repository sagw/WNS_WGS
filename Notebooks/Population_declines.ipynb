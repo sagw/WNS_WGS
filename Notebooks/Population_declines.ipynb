{
 "cells": [
  {
   "cell_type": "markdown",
   "metadata": {},
   "source": [
    "NJ (hibernia mine)\n",
    "2009       26438\n",
    "\n",
    "2010       1756\n",
    "\n",
    "2011       748\n",
    "\n",
    "2012       763\n",
    "\n",
    "2013       574\n",
    "\n",
    "2014       475\n",
    "\n",
    "2015       435\n",
    "\n",
    "2016       450\n",
    "\n",
    "\n",
    "Are there ohter smaller caves nearby"
   ]
  },
  {
   "cell_type": "code",
   "execution_count": 3,
   "metadata": {},
   "outputs": [
    {
     "data": {
      "text/html": [
       "26003"
      ],
      "text/latex": [
       "26003"
      ],
      "text/markdown": [
       "26003"
      ],
      "text/plain": [
       "[1] 26003"
      ]
     },
     "metadata": {},
     "output_type": "display_data"
    },
    {
     "data": {
      "text/html": [
       "0.982979045313564"
      ],
      "text/latex": [
       "0.982979045313564"
      ],
      "text/markdown": [
       "0.982979045313564"
      ],
      "text/plain": [
       "[1] 0.982979"
      ]
     },
     "metadata": {},
     "output_type": "display_data"
    }
   ],
   "source": [
    "26438-435\n",
    "25988/26438"
   ]
  },
  {
   "cell_type": "code",
   "execution_count": 5,
   "metadata": {},
   "outputs": [
    {
     "data": {
      "text/html": [
       "70728"
      ],
      "text/latex": [
       "70728"
      ],
      "text/markdown": [
       "70728"
      ],
      "text/plain": [
       "[1] 70728"
      ]
     },
     "metadata": {},
     "output_type": "display_data"
    },
    {
     "data": {
      "text/html": [
       "0.809235592270111"
      ],
      "text/latex": [
       "0.809235592270111"
      ],
      "text/markdown": [
       "0.809235592270111"
      ],
      "text/plain": [
       "[1] 0.8092356"
      ]
     },
     "metadata": {},
     "output_type": "display_data"
    }
   ],
   "source": [
    "87401-16673\n",
    "70728/87401"
   ]
  },
  {
   "cell_type": "markdown",
   "metadata": {},
   "source": [
    "Ny (walter williams preserve)\n",
    "\n",
    "1999  87,401 (considered the pre-WNS baseline, although it seems likely that the population would have increased in the intervening years prior to the observed die-off that began in 2008.)\n",
    "\n",
    " \n",
    "\n",
    "2010  16,673 (the post-WNS minimum)\n",
    "\n",
    "  \n",
    "\n",
    "2013  25,929\n",
    "\n",
    "\n",
    "2015  37,713\n",
    "\n",
    "\n",
    "2017  35,520\n",
    "\n",
    "\n",
    "Says the samples were collected at williams lake, how close is this to walter williams preserve? If we think about the whole williams complex as one population, does that include williams lake?\n",
    "\n",
    "Carl herzog thinks that walter williams isn't actually growing, but that small populations nearby are consolidating to the big mine, does he have any evidence of that? are bats shown to be moving between these caves? or is it possible the large pop is just more easily able to stabilize, and the small pops becamse extirpated. \n",
    "so should we think of all of these small pops as one? then what do pop declines look like? \n",
    "\n",
    "Regardless if it is pop growth or immigration, I think we would expect to see a negative tajima's d, becaue we would be increasing the number of rare alleles after the bottleneck. Also, maybe pop didn't actually double but it definitely is doing better than hibernia.  \n",
    "\n",
    "Assuming 2008 pop is same as 1999\n"
   ]
  },
  {
   "cell_type": "code",
   "execution_count": 1,
   "metadata": {
    "collapsed": true
   },
   "outputs": [],
   "source": [
    "NJpop=data.frame(Year=c(2009, 2010, 2011, 2012, 2013, 2014, 2015, 2016), Size=c(26438, 1756, 748, 763, 574, 475, 435, 450),\n",
    "                Samples=c(\"sampling point\", NA, NA, NA, NA, NA, NA, \"sampling point\"))"
   ]
  },
  {
   "cell_type": "code",
   "execution_count": 2,
   "metadata": {
    "collapsed": true
   },
   "outputs": [],
   "source": [
    "NJpop$Site=\"Hibernia\""
   ]
  },
  {
   "cell_type": "code",
   "execution_count": 3,
   "metadata": {},
   "outputs": [
    {
     "data": {
      "text/html": [
       "<table>\n",
       "<thead><tr><th scope=col>Year</th><th scope=col>Size</th><th scope=col>Samples</th><th scope=col>Site</th></tr></thead>\n",
       "<tbody>\n",
       "\t<tr><td>2009          </td><td>26438         </td><td>sampling point</td><td>Hibernia      </td></tr>\n",
       "\t<tr><td>2010          </td><td> 1756         </td><td>NA            </td><td>Hibernia      </td></tr>\n",
       "\t<tr><td>2011          </td><td>  748         </td><td>NA            </td><td>Hibernia      </td></tr>\n",
       "\t<tr><td>2012          </td><td>  763         </td><td>NA            </td><td>Hibernia      </td></tr>\n",
       "\t<tr><td>2013          </td><td>  574         </td><td>NA            </td><td>Hibernia      </td></tr>\n",
       "\t<tr><td>2014          </td><td>  475         </td><td>NA            </td><td>Hibernia      </td></tr>\n",
       "\t<tr><td>2015          </td><td>  435         </td><td>NA            </td><td>Hibernia      </td></tr>\n",
       "\t<tr><td>2016          </td><td>  450         </td><td>sampling point</td><td>Hibernia      </td></tr>\n",
       "</tbody>\n",
       "</table>\n"
      ],
      "text/latex": [
       "\\begin{tabular}{r|llll}\n",
       " Year & Size & Samples & Site\\\\\n",
       "\\hline\n",
       "\t 2009           & 26438          & sampling point & Hibernia      \\\\\n",
       "\t 2010           &  1756          & NA             & Hibernia      \\\\\n",
       "\t 2011           &   748          & NA             & Hibernia      \\\\\n",
       "\t 2012           &   763          & NA             & Hibernia      \\\\\n",
       "\t 2013           &   574          & NA             & Hibernia      \\\\\n",
       "\t 2014           &   475          & NA             & Hibernia      \\\\\n",
       "\t 2015           &   435          & NA             & Hibernia      \\\\\n",
       "\t 2016           &   450          & sampling point & Hibernia      \\\\\n",
       "\\end{tabular}\n"
      ],
      "text/markdown": [
       "\n",
       "Year | Size | Samples | Site | \n",
       "|---|---|---|---|---|---|---|---|\n",
       "| 2009           | 26438          | sampling point | Hibernia       | \n",
       "| 2010           |  1756          | NA             | Hibernia       | \n",
       "| 2011           |   748          | NA             | Hibernia       | \n",
       "| 2012           |   763          | NA             | Hibernia       | \n",
       "| 2013           |   574          | NA             | Hibernia       | \n",
       "| 2014           |   475          | NA             | Hibernia       | \n",
       "| 2015           |   435          | NA             | Hibernia       | \n",
       "| 2016           |   450          | sampling point | Hibernia       | \n",
       "\n",
       "\n"
      ],
      "text/plain": [
       "  Year Size  Samples        Site    \n",
       "1 2009 26438 sampling point Hibernia\n",
       "2 2010  1756 NA             Hibernia\n",
       "3 2011   748 NA             Hibernia\n",
       "4 2012   763 NA             Hibernia\n",
       "5 2013   574 NA             Hibernia\n",
       "6 2014   475 NA             Hibernia\n",
       "7 2015   435 NA             Hibernia\n",
       "8 2016   450 sampling point Hibernia"
      ]
     },
     "metadata": {},
     "output_type": "display_data"
    }
   ],
   "source": [
    "NJpop"
   ]
  },
  {
   "cell_type": "code",
   "execution_count": 4,
   "metadata": {
    "collapsed": true
   },
   "outputs": [],
   "source": [
    "NYpop=data.frame(Year=c(1999, 2008, 2010, 2013, 2015, 2016,  2017), Size=c(87401, 65000, 16673, 25929, 37713, 37713, 35520),\n",
    "                Samples=c(NA, \"sampling point\",  NA, NA, NA, \"sampling point\", NA))"
   ]
  },
  {
   "cell_type": "code",
   "execution_count": 5,
   "metadata": {
    "collapsed": true
   },
   "outputs": [],
   "source": [
    "NYpop$Site=\"Williams\""
   ]
  },
  {
   "cell_type": "code",
   "execution_count": 6,
   "metadata": {
    "collapsed": true
   },
   "outputs": [],
   "source": [
    "ALLpop=rbind(NJpop, NYpop)"
   ]
  },
  {
   "cell_type": "code",
   "execution_count": 7,
   "metadata": {
    "collapsed": true
   },
   "outputs": [],
   "source": [
    "ALLpop$Year=as.factor(ALLpop$Year)"
   ]
  },
  {
   "cell_type": "code",
   "execution_count": 2,
   "metadata": {},
   "outputs": [
    {
     "name": "stderr",
     "output_type": "stream",
     "text": [
      "Loading required package: ggplot2\n"
     ]
    }
   ],
   "source": [
    "require(ggplot2)"
   ]
  },
  {
   "cell_type": "code",
   "execution_count": 9,
   "metadata": {},
   "outputs": [
    {
     "data": {
      "text/html": [
       "<table>\n",
       "<thead><tr><th scope=col>Year</th><th scope=col>Size</th><th scope=col>Samples</th><th scope=col>Site</th></tr></thead>\n",
       "<tbody>\n",
       "\t<tr><td>2009          </td><td>26438         </td><td>sampling point</td><td>Hibernia      </td></tr>\n",
       "\t<tr><td>2010          </td><td> 1756         </td><td>NA            </td><td>Hibernia      </td></tr>\n",
       "\t<tr><td>2011          </td><td>  748         </td><td>NA            </td><td>Hibernia      </td></tr>\n",
       "\t<tr><td>2012          </td><td>  763         </td><td>NA            </td><td>Hibernia      </td></tr>\n",
       "\t<tr><td>2013          </td><td>  574         </td><td>NA            </td><td>Hibernia      </td></tr>\n",
       "\t<tr><td>2014          </td><td>  475         </td><td>NA            </td><td>Hibernia      </td></tr>\n",
       "\t<tr><td>2015          </td><td>  435         </td><td>NA            </td><td>Hibernia      </td></tr>\n",
       "\t<tr><td>2016          </td><td>  450         </td><td>sampling point</td><td>Hibernia      </td></tr>\n",
       "\t<tr><td>1999          </td><td>87401         </td><td>NA            </td><td>Williams      </td></tr>\n",
       "\t<tr><td>2008          </td><td>65000         </td><td>sampling point</td><td>Williams      </td></tr>\n",
       "\t<tr><td>2010          </td><td>16673         </td><td>NA            </td><td>Williams      </td></tr>\n",
       "\t<tr><td>2013          </td><td>25929         </td><td>NA            </td><td>Williams      </td></tr>\n",
       "\t<tr><td>2015          </td><td>37713         </td><td>NA            </td><td>Williams      </td></tr>\n",
       "\t<tr><td>2016          </td><td>37713         </td><td>sampling point</td><td>Williams      </td></tr>\n",
       "\t<tr><td>2017          </td><td>35520         </td><td>NA            </td><td>Williams      </td></tr>\n",
       "</tbody>\n",
       "</table>\n"
      ],
      "text/latex": [
       "\\begin{tabular}{r|llll}\n",
       " Year & Size & Samples & Site\\\\\n",
       "\\hline\n",
       "\t 2009           & 26438          & sampling point & Hibernia      \\\\\n",
       "\t 2010           &  1756          & NA             & Hibernia      \\\\\n",
       "\t 2011           &   748          & NA             & Hibernia      \\\\\n",
       "\t 2012           &   763          & NA             & Hibernia      \\\\\n",
       "\t 2013           &   574          & NA             & Hibernia      \\\\\n",
       "\t 2014           &   475          & NA             & Hibernia      \\\\\n",
       "\t 2015           &   435          & NA             & Hibernia      \\\\\n",
       "\t 2016           &   450          & sampling point & Hibernia      \\\\\n",
       "\t 1999           & 87401          & NA             & Williams      \\\\\n",
       "\t 2008           & 65000          & sampling point & Williams      \\\\\n",
       "\t 2010           & 16673          & NA             & Williams      \\\\\n",
       "\t 2013           & 25929          & NA             & Williams      \\\\\n",
       "\t 2015           & 37713          & NA             & Williams      \\\\\n",
       "\t 2016           & 37713          & sampling point & Williams      \\\\\n",
       "\t 2017           & 35520          & NA             & Williams      \\\\\n",
       "\\end{tabular}\n"
      ],
      "text/markdown": [
       "\n",
       "Year | Size | Samples | Site | \n",
       "|---|---|---|---|---|---|---|---|---|---|---|---|---|---|---|\n",
       "| 2009           | 26438          | sampling point | Hibernia       | \n",
       "| 2010           |  1756          | NA             | Hibernia       | \n",
       "| 2011           |   748          | NA             | Hibernia       | \n",
       "| 2012           |   763          | NA             | Hibernia       | \n",
       "| 2013           |   574          | NA             | Hibernia       | \n",
       "| 2014           |   475          | NA             | Hibernia       | \n",
       "| 2015           |   435          | NA             | Hibernia       | \n",
       "| 2016           |   450          | sampling point | Hibernia       | \n",
       "| 1999           | 87401          | NA             | Williams       | \n",
       "| 2008           | 65000          | sampling point | Williams       | \n",
       "| 2010           | 16673          | NA             | Williams       | \n",
       "| 2013           | 25929          | NA             | Williams       | \n",
       "| 2015           | 37713          | NA             | Williams       | \n",
       "| 2016           | 37713          | sampling point | Williams       | \n",
       "| 2017           | 35520          | NA             | Williams       | \n",
       "\n",
       "\n"
      ],
      "text/plain": [
       "   Year Size  Samples        Site    \n",
       "1  2009 26438 sampling point Hibernia\n",
       "2  2010  1756 NA             Hibernia\n",
       "3  2011   748 NA             Hibernia\n",
       "4  2012   763 NA             Hibernia\n",
       "5  2013   574 NA             Hibernia\n",
       "6  2014   475 NA             Hibernia\n",
       "7  2015   435 NA             Hibernia\n",
       "8  2016   450 sampling point Hibernia\n",
       "9  1999 87401 NA             Williams\n",
       "10 2008 65000 sampling point Williams\n",
       "11 2010 16673 NA             Williams\n",
       "12 2013 25929 NA             Williams\n",
       "13 2015 37713 NA             Williams\n",
       "14 2016 37713 sampling point Williams\n",
       "15 2017 35520 NA             Williams"
      ]
     },
     "metadata": {},
     "output_type": "display_data"
    }
   ],
   "source": [
    "(ALLpop)"
   ]
  },
  {
   "cell_type": "code",
   "execution_count": null,
   "metadata": {
    "collapsed": true
   },
   "outputs": [],
   "source": [
    "text = element_text(size=20)"
   ]
  },
  {
   "cell_type": "code",
   "execution_count": 26,
   "metadata": {},
   "outputs": [
    {
     "name": "stderr",
     "output_type": "stream",
     "text": [
      "Warning message:\n",
      "“Removed 11 rows containing missing values (geom_point).”"
     ]
    },
    {
     "data": {
      "image/png": "[encoded data removed]",
      "text/plain": [
       "plot without title"
      ]
     },
     "metadata": {},
     "output_type": "display_data"
    }
   ],
   "source": [
    "options(repr.plot.width=8, repr.plot.height=5)\n",
    "print(ggplot()+ geom_line(data=ALLpop[!ALLpop$Size==65000,], aes(x=Year, y=Size, color=Site, group=Site), linetype=\"dotted\")+ theme_bw()\n",
    "      + geom_line(data=ALLpop[!ALLpop$Size>=65000,], aes(x=Year, y=Size, color=Site, group=Site), size=1.15)\n",
    "      + geom_point(data=ALLpop[!ALLpop$Size==65000,], aes(x=Year, y=Size, color=Site), size=2)\n",
    "      +scale_color_manual(values=c(  \"cornflowerblue\", \"darkblue\"))\n",
    "            +theme_bw()\n",
    "      + theme( panel.grid.minor = element_blank(), panel.grid.major = element_blank(), axis.line=element_line(color=\"black\"), \n",
    "              axis.text.x=element_text(color=\"black\", size=18, angle=90, vjust=0.5), \n",
    "              axis.title=element_text(color=\"black\", size=20),\n",
    "              axis.text.y=element_text(color=\"black\", size=18), legend.text=element_text(size=18))\n",
    "      + geom_vline(xintercept=c(2, 3),col=c(\"darkblue\", \"cornflowerblue\"), alpha=0.3, size=3)\n",
    "      + geom_point(data=ALLpop, aes(x=Year, y=Size, shape=Samples, color=Site), size=5)+ scale_shape_manual(values = c(6, NA))\n",
    "      +ylab(\"Population Size\")\n",
    "        )"
   ]
  },
  {
   "cell_type": "code",
   "execution_count": 29,
   "metadata": {},
   "outputs": [
    {
     "name": "stderr",
     "output_type": "stream",
     "text": [
      "Warning message:\n",
      "“Removed 11 rows containing missing values (geom_point).”"
     ]
    }
   ],
   "source": [
    "ggsave(\"/local/home/sarahgw/WGS/SNPS/All_mylu/plots/Pop_declines.pdf\", w=8, h=5) "
   ]
  },
  {
   "cell_type": "code",
   "execution_count": 72,
   "metadata": {},
   "outputs": [
    {
     "name": "stdout",
     "output_type": "stream",
     "text": [
      "List of 9\n",
      " $ data       : list()\n",
      "  ..- attr(*, \"class\")= chr \"waiver\"\n",
      " $ layers     :List of 3\n",
      "  ..$ :Classes 'LayerInstance', 'Layer', 'ggproto' <ggproto object: Class LayerInstance, Layer>\n",
      "    aes_params: list\n",
      "    compute_aesthetics: function\n",
      "    compute_geom_1: function\n",
      "    compute_geom_2: function\n",
      "    compute_position: function\n",
      "    compute_statistic: function\n",
      "    data: data.frame\n",
      "    draw_geom: function\n",
      "    finish_statistics: function\n",
      "    geom: <ggproto object: Class GeomLine, GeomPath, Geom>\n",
      "        aesthetics: function\n",
      "        default_aes: uneval\n",
      "        draw_group: function\n",
      "        draw_key: function\n",
      "        draw_layer: function\n",
      "        draw_panel: function\n",
      "        extra_params: na.rm\n",
      "        handle_na: function\n",
      "        non_missing_aes: \n",
      "        optional_aes: \n",
      "        parameters: function\n",
      "        required_aes: x y\n",
      "        setup_data: function\n",
      "        use_defaults: function\n",
      "        super:  <ggproto object: Class GeomPath, Geom>\n",
      "    geom_params: list\n",
      "    inherit.aes: TRUE\n",
      "    layer_data: function\n",
      "    map_statistic: function\n",
      "    mapping: uneval\n",
      "    position: <ggproto object: Class PositionIdentity, Position>\n",
      "        compute_layer: function\n",
      "        compute_panel: function\n",
      "        required_aes: \n",
      "        setup_data: function\n",
      "        setup_params: function\n",
      "        super:  <ggproto object: Class Position>\n",
      "    print: function\n",
      "    show.legend: NA\n",
      "    stat: <ggproto object: Class StatIdentity, Stat>\n",
      "        aesthetics: function\n",
      "        compute_group: function\n",
      "        compute_layer: function\n",
      "        compute_panel: function\n",
      "        default_aes: uneval\n",
      "        extra_params: na.rm\n",
      "        finish_layer: function\n",
      "        non_missing_aes: \n",
      "        parameters: function\n",
      "        required_aes: \n",
      "        retransform: TRUE\n",
      "        setup_data: function\n",
      "        setup_params: function\n",
      "        super:  <ggproto object: Class Stat>\n",
      "    stat_params: list\n",
      "    subset: NULL\n",
      "    super:  <ggproto object: Class Layer> \n",
      "  ..$ :Classes 'LayerInstance', 'Layer', 'ggproto' <ggproto object: Class LayerInstance, Layer>\n",
      "    aes_params: list\n",
      "    compute_aesthetics: function\n",
      "    compute_geom_1: function\n",
      "    compute_geom_2: function\n",
      "    compute_position: function\n",
      "    compute_statistic: function\n",
      "    data: data.frame\n",
      "    draw_geom: function\n",
      "    finish_statistics: function\n",
      "    geom: <ggproto object: Class GeomPoint, Geom>\n",
      "        aesthetics: function\n",
      "        default_aes: uneval\n",
      "        draw_group: function\n",
      "        draw_key: function\n",
      "        draw_layer: function\n",
      "        draw_panel: function\n",
      "        extra_params: na.rm\n",
      "        handle_na: function\n",
      "        non_missing_aes: size shape colour\n",
      "        optional_aes: \n",
      "        parameters: function\n",
      "        required_aes: x y\n",
      "        setup_data: function\n",
      "        use_defaults: function\n",
      "        super:  <ggproto object: Class Geom>\n",
      "    geom_params: list\n",
      "    inherit.aes: TRUE\n",
      "    layer_data: function\n",
      "    map_statistic: function\n",
      "    mapping: uneval\n",
      "    position: <ggproto object: Class PositionIdentity, Position>\n",
      "        compute_layer: function\n",
      "        compute_panel: function\n",
      "        required_aes: \n",
      "        setup_data: function\n",
      "        setup_params: function\n",
      "        super:  <ggproto object: Class Position>\n",
      "    print: function\n",
      "    show.legend: NA\n",
      "    stat: <ggproto object: Class StatIdentity, Stat>\n",
      "        aesthetics: function\n",
      "        compute_group: function\n",
      "        compute_layer: function\n",
      "        compute_panel: function\n",
      "        default_aes: uneval\n",
      "        extra_params: na.rm\n",
      "        finish_layer: function\n",
      "        non_missing_aes: \n",
      "        parameters: function\n",
      "        required_aes: \n",
      "        retransform: TRUE\n",
      "        setup_data: function\n",
      "        setup_params: function\n",
      "        super:  <ggproto object: Class Stat>\n",
      "    stat_params: list\n",
      "    subset: NULL\n",
      "    super:  <ggproto object: Class Layer> \n",
      "  ..$ :Classes 'LayerInstance', 'Layer', 'ggproto' <ggproto object: Class LayerInstance, Layer>\n",
      "    aes_params: list\n",
      "    compute_aesthetics: function\n",
      "    compute_geom_1: function\n",
      "    compute_geom_2: function\n",
      "    compute_position: function\n",
      "    compute_statistic: function\n",
      "    data: data.frame\n",
      "    draw_geom: function\n",
      "    finish_statistics: function\n",
      "    geom: <ggproto object: Class GeomText, Geom>\n",
      "        aesthetics: function\n",
      "        default_aes: uneval\n",
      "        draw_group: function\n",
      "        draw_key: function\n",
      "        draw_layer: function\n",
      "        draw_panel: function\n",
      "        extra_params: na.rm\n",
      "        handle_na: function\n",
      "        non_missing_aes: \n",
      "        optional_aes: \n",
      "        parameters: function\n",
      "        required_aes: x y label\n",
      "        setup_data: function\n",
      "        use_defaults: function\n",
      "        super:  <ggproto object: Class Geom>\n",
      "    geom_params: list\n",
      "    inherit.aes: TRUE\n",
      "    layer_data: function\n",
      "    map_statistic: function\n",
      "    mapping: uneval\n",
      "    position: <ggproto object: Class PositionNudge, Position>\n",
      "        compute_layer: function\n",
      "        compute_panel: function\n",
      "        required_aes: x y\n",
      "        setup_data: function\n",
      "        setup_params: function\n",
      "        x: 0\n",
      "        y: 5000\n",
      "        super:  <ggproto object: Class PositionNudge, Position>\n",
      "    print: function\n",
      "    show.legend: NA\n",
      "    stat: <ggproto object: Class StatIdentity, Stat>\n",
      "        aesthetics: function\n",
      "        compute_group: function\n",
      "        compute_layer: function\n",
      "        compute_panel: function\n",
      "        default_aes: uneval\n",
      "        extra_params: na.rm\n",
      "        finish_layer: function\n",
      "        non_missing_aes: \n",
      "        parameters: function\n",
      "        required_aes: \n",
      "        retransform: TRUE\n",
      "        setup_data: function\n",
      "        setup_params: function\n",
      "        super:  <ggproto object: Class Stat>\n",
      "    stat_params: list\n",
      "    subset: NULL\n",
      "    super:  <ggproto object: Class Layer> \n",
      " $ scales     :Classes 'ScalesList', 'ggproto' <ggproto object: Class ScalesList>\n",
      "    add: function\n",
      "    clone: function\n",
      "    find: function\n",
      "    get_scales: function\n",
      "    has_scale: function\n",
      "    input: function\n",
      "    n: function\n",
      "    non_position_scales: function\n",
      "    scales: list\n",
      "    super:  <ggproto object: Class ScalesList> \n",
      " $ mapping    : list()\n",
      " $ theme      :List of 57\n",
      "  ..$ line                 :List of 6\n",
      "  .. ..$ colour       : chr \"black\"\n",
      "  .. ..$ size         : num 0.5\n",
      "  .. ..$ linetype     : num 1\n",
      "  .. ..$ lineend      : chr \"butt\"\n",
      "  .. ..$ arrow        : logi FALSE\n",
      "  .. ..$ inherit.blank: logi TRUE\n",
      "  .. ..- attr(*, \"class\")= chr [1:2] \"element_line\" \"element\"\n",
      "  ..$ rect                 :List of 5\n",
      "  .. ..$ fill         : chr \"white\"\n",
      "  .. ..$ colour       : chr \"black\"\n",
      "  .. ..$ size         : num 0.5\n",
      "  .. ..$ linetype     : num 1\n",
      "  .. ..$ inherit.blank: logi TRUE\n",
      "  .. ..- attr(*, \"class\")= chr [1:2] \"element_rect\" \"element\"\n",
      "  ..$ text                 :List of 11\n",
      "  .. ..$ family       : chr \"\"\n",
      "  .. ..$ face         : chr \"plain\"\n",
      "  .. ..$ colour       : chr \"black\"\n",
      "  .. ..$ size         : num 11\n",
      "  .. ..$ hjust        : num 0.5\n",
      "  .. ..$ vjust        : num 0.5\n",
      "  .. ..$ angle        : num 0\n",
      "  .. ..$ lineheight   : num 0.9\n",
      "  .. ..$ margin       :Classes 'margin', 'unit'  atomic [1:4] 0 0 0 0\n",
      "  .. .. .. ..- attr(*, \"valid.unit\")= int 8\n",
      "  .. .. .. ..- attr(*, \"unit\")= chr \"pt\"\n",
      "  .. ..$ debug        : logi FALSE\n",
      "  .. ..$ inherit.blank: logi TRUE\n",
      "  .. ..- attr(*, \"class\")= chr [1:2] \"element_text\" \"element\"\n",
      "  ..$ axis.title.x         :List of 11\n",
      "  .. ..$ family       : NULL\n",
      "  .. ..$ face         : NULL\n",
      "  .. ..$ colour       : NULL\n",
      "  .. ..$ size         : NULL\n",
      "  .. ..$ hjust        : NULL\n",
      "  .. ..$ vjust        : num 1\n",
      "  .. ..$ angle        : NULL\n",
      "  .. ..$ lineheight   : NULL\n",
      "  .. ..$ margin       :Classes 'margin', 'unit'  atomic [1:4] 5.5 0 0 0\n",
      "  .. .. .. ..- attr(*, \"valid.unit\")= int 8\n",
      "  .. .. .. ..- attr(*, \"unit\")= chr \"pt\"\n",
      "  .. ..$ debug        : NULL\n",
      "  .. ..$ inherit.blank: logi TRUE\n",
      "  .. ..- attr(*, \"class\")= chr [1:2] \"element_text\" \"element\"\n",
      "  ..$ axis.title.x.top     :List of 11\n",
      "  .. ..$ family       : NULL\n",
      "  .. ..$ face         : NULL\n",
      "  .. ..$ colour       : NULL\n",
      "  .. ..$ size         : NULL\n",
      "  .. ..$ hjust        : NULL\n",
      "  .. ..$ vjust        : num 0\n",
      "  .. ..$ angle        : NULL\n",
      "  .. ..$ lineheight   : NULL\n",
      "  .. ..$ margin       :Classes 'margin', 'unit'  atomic [1:4] 0 0 5.5 0\n",
      "  .. .. .. ..- attr(*, \"valid.unit\")= int 8\n",
      "  .. .. .. ..- attr(*, \"unit\")= chr \"pt\"\n",
      "  .. ..$ debug        : NULL\n",
      "  .. ..$ inherit.blank: logi TRUE\n",
      "  .. ..- attr(*, \"class\")= chr [1:2] \"element_text\" \"element\"\n",
      "  ..$ axis.title.y         :List of 11\n",
      "  .. ..$ family       : NULL\n",
      "  .. ..$ face         : NULL\n",
      "  .. ..$ colour       : NULL\n",
      "  .. ..$ size         : NULL\n",
      "  .. ..$ hjust        : NULL\n",
      "  .. ..$ vjust        : num 1\n",
      "  .. ..$ angle        : num 90\n",
      "  .. ..$ lineheight   : NULL\n",
      "  .. ..$ margin       :Classes 'margin', 'unit'  atomic [1:4] 0 5.5 0 0\n",
      "  .. .. .. ..- attr(*, \"valid.unit\")= int 8\n",
      "  .. .. .. ..- attr(*, \"unit\")= chr \"pt\"\n",
      "  .. ..$ debug        : NULL\n",
      "  .. ..$ inherit.blank: logi TRUE\n",
      "  .. ..- attr(*, \"class\")= chr [1:2] \"element_text\" \"element\"\n",
      "  ..$ axis.title.y.right   :List of 11\n",
      "  .. ..$ family       : NULL\n",
      "  .. ..$ face         : NULL\n",
      "  .. ..$ colour       : NULL\n",
      "  .. ..$ size         : NULL\n",
      "  .. ..$ hjust        : NULL\n",
      "  .. ..$ vjust        : num 0\n",
      "  .. ..$ angle        : num -90\n",
      "  .. ..$ lineheight   : NULL\n",
      "  .. ..$ margin       :Classes 'margin', 'unit'  atomic [1:4] 0 0 0 5.5\n",
      "  .. .. .. ..- attr(*, \"valid.unit\")= int 8\n",
      "  .. .. .. ..- attr(*, \"unit\")= chr \"pt\"\n",
      "  .. ..$ debug        : NULL\n",
      "  .. ..$ inherit.blank: logi TRUE\n",
      "  .. ..- attr(*, \"class\")= chr [1:2] \"element_text\" \"element\"\n",
      "  ..$ axis.text            :List of 11\n",
      "  .. ..$ family       : NULL\n",
      "  .. ..$ face         : NULL\n",
      "  .. ..$ colour       : chr \"grey30\"\n",
      "  .. ..$ size         :Class 'rel'  num 0.8\n",
      "  .. ..$ hjust        : NULL\n",
      "  .. ..$ vjust        : NULL\n",
      "  .. ..$ angle        : NULL\n",
      "  .. ..$ lineheight   : NULL\n",
      "  .. ..$ margin       : NULL\n",
      "  .. ..$ debug        : NULL\n",
      "  .. ..$ inherit.blank: logi TRUE\n",
      "  .. ..- attr(*, \"class\")= chr [1:2] \"element_text\" \"element\"\n",
      "  ..$ axis.text.x          :List of 11\n",
      "  .. ..$ family       : NULL\n",
      "  .. ..$ face         : NULL\n",
      "  .. ..$ colour       : NULL\n",
      "  .. ..$ size         : NULL\n",
      "  .. ..$ hjust        : NULL\n",
      "  .. ..$ vjust        : num 1\n",
      "  .. ..$ angle        : NULL\n",
      "  .. ..$ lineheight   : NULL\n",
      "  .. ..$ margin       :Classes 'margin', 'unit'  atomic [1:4] 2.2 0 0 0\n",
      "  .. .. .. ..- attr(*, \"valid.unit\")= int 8\n",
      "  .. .. .. ..- attr(*, \"unit\")= chr \"pt\"\n",
      "  .. ..$ debug        : NULL\n",
      "  .. ..$ inherit.blank: logi TRUE\n",
      "  .. ..- attr(*, \"class\")= chr [1:2] \"element_text\" \"element\"\n",
      "  ..$ axis.text.x.top      :List of 11\n",
      "  .. ..$ family       : NULL\n",
      "  .. ..$ face         : NULL\n",
      "  .. ..$ colour       : NULL\n",
      "  .. ..$ size         : NULL\n",
      "  .. ..$ hjust        : NULL\n",
      "  .. ..$ vjust        : num 0\n",
      "  .. ..$ angle        : NULL\n",
      "  .. ..$ lineheight   : NULL\n",
      "  .. ..$ margin       :Classes 'margin', 'unit'  atomic [1:4] 0 0 2.2 0\n",
      "  .. .. .. ..- attr(*, \"valid.unit\")= int 8\n",
      "  .. .. .. ..- attr(*, \"unit\")= chr \"pt\"\n",
      "  .. ..$ debug        : NULL\n",
      "  .. ..$ inherit.blank: logi TRUE\n",
      "  .. ..- attr(*, \"class\")= chr [1:2] \"element_text\" \"element\"\n",
      "  ..$ axis.text.y          :List of 11\n",
      "  .. ..$ family       : NULL\n",
      "  .. ..$ face         : NULL\n",
      "  .. ..$ colour       : NULL\n",
      "  .. ..$ size         : NULL\n",
      "  .. ..$ hjust        : num 1\n",
      "  .. ..$ vjust        : NULL\n",
      "  .. ..$ angle        : NULL\n",
      "  .. ..$ lineheight   : NULL\n",
      "  .. ..$ margin       :Classes 'margin', 'unit'  atomic [1:4] 0 2.2 0 0\n",
      "  .. .. .. ..- attr(*, \"valid.unit\")= int 8\n",
      "  .. .. .. ..- attr(*, \"unit\")= chr \"pt\"\n",
      "  .. ..$ debug        : NULL\n",
      "  .. ..$ inherit.blank: logi TRUE\n",
      "  .. ..- attr(*, \"class\")= chr [1:2] \"element_text\" \"element\"\n",
      "  ..$ axis.text.y.right    :List of 11\n",
      "  .. ..$ family       : NULL\n",
      "  .. ..$ face         : NULL\n",
      "  .. ..$ colour       : NULL\n",
      "  .. ..$ size         : NULL\n",
      "  .. ..$ hjust        : num 0\n",
      "  .. ..$ vjust        : NULL\n",
      "  .. ..$ angle        : NULL\n",
      "  .. ..$ lineheight   : NULL\n",
      "  .. ..$ margin       :Classes 'margin', 'unit'  atomic [1:4] 0 0 0 2.2\n",
      "  .. .. .. ..- attr(*, \"valid.unit\")= int 8\n",
      "  .. .. .. ..- attr(*, \"unit\")= chr \"pt\"\n",
      "  .. ..$ debug        : NULL\n",
      "  .. ..$ inherit.blank: logi TRUE\n",
      "  .. ..- attr(*, \"class\")= chr [1:2] \"element_text\" \"element\"\n",
      "  ..$ axis.ticks           :List of 6\n",
      "  .. ..$ colour       : chr \"grey20\"\n",
      "  .. ..$ size         : NULL\n",
      "  .. ..$ linetype     : NULL\n",
      "  .. ..$ lineend      : NULL\n",
      "  .. ..$ arrow        : logi FALSE\n",
      "  .. ..$ inherit.blank: logi TRUE\n",
      "  .. ..- attr(*, \"class\")= chr [1:2] \"element_line\" \"element\"\n",
      "  ..$ axis.ticks.length    :Class 'unit'  atomic [1:1] 2.75\n",
      "  .. .. ..- attr(*, \"valid.unit\")= int 8\n",
      "  .. .. ..- attr(*, \"unit\")= chr \"pt\"\n",
      "  ..$ axis.line            : list()\n",
      "  .. ..- attr(*, \"class\")= chr [1:2] \"element_blank\" \"element\"\n",
      "  ..$ axis.line.x          : NULL\n",
      "  ..$ axis.line.y          : NULL\n",
      "  ..$ legend.background    :List of 5\n",
      "  .. ..$ fill         : NULL\n",
      "  .. ..$ colour       : logi NA\n",
      "  .. ..$ size         : NULL\n",
      "  .. ..$ linetype     : NULL\n",
      "  .. ..$ inherit.blank: logi TRUE\n",
      "  .. ..- attr(*, \"class\")= chr [1:2] \"element_rect\" \"element\"\n",
      "  ..$ legend.margin        :Classes 'margin', 'unit'  atomic [1:4] 0.2 0.2 0.2 0.2\n",
      "  .. .. ..- attr(*, \"valid.unit\")= int 1\n",
      "  .. .. ..- attr(*, \"unit\")= chr \"cm\"\n",
      "  ..$ legend.spacing       :Class 'unit'  atomic [1:1] 0.4\n",
      "  .. .. ..- attr(*, \"valid.unit\")= int 1\n",
      "  .. .. ..- attr(*, \"unit\")= chr \"cm\"\n",
      "  ..$ legend.spacing.x     : NULL\n",
      "  ..$ legend.spacing.y     : NULL\n",
      "  ..$ legend.key           :List of 5\n",
      "  .. ..$ fill         : chr \"white\"\n",
      "  .. ..$ colour       : logi NA\n",
      "  .. ..$ size         : NULL\n",
      "  .. ..$ linetype     : NULL\n",
      "  .. ..$ inherit.blank: logi TRUE\n",
      "  .. ..- attr(*, \"class\")= chr [1:2] \"element_rect\" \"element\"\n",
      "  ..$ legend.key.size      :Class 'unit'  atomic [1:1] 1.2\n",
      "  .. .. ..- attr(*, \"valid.unit\")= int 3\n",
      "  .. .. ..- attr(*, \"unit\")= chr \"lines\"\n",
      "  ..$ legend.key.height    : NULL\n",
      "  ..$ legend.key.width     : NULL\n",
      "  ..$ legend.text          :List of 11\n",
      "  .. ..$ family       : NULL\n",
      "  .. ..$ face         : NULL\n",
      "  .. ..$ colour       : NULL\n",
      "  .. ..$ size         :Class 'rel'  num 0.8\n",
      "  .. ..$ hjust        : NULL\n",
      "  .. ..$ vjust        : NULL\n",
      "  .. ..$ angle        : NULL\n",
      "  .. ..$ lineheight   : NULL\n",
      "  .. ..$ margin       : NULL\n",
      "  .. ..$ debug        : NULL\n",
      "  .. ..$ inherit.blank: logi TRUE\n",
      "  .. ..- attr(*, \"class\")= chr [1:2] \"element_text\" \"element\"\n",
      "  ..$ legend.text.align    : NULL\n",
      "  ..$ legend.title         :List of 11\n",
      "  .. ..$ family       : NULL\n",
      "  .. ..$ face         : NULL\n",
      "  .. ..$ colour       : NULL\n",
      "  .. ..$ size         : NULL\n",
      "  .. ..$ hjust        : num 0\n",
      "  .. ..$ vjust        : NULL\n",
      "  .. ..$ angle        : NULL\n",
      "  .. ..$ lineheight   : NULL\n",
      "  .. ..$ margin       : NULL\n",
      "  .. ..$ debug        : NULL\n",
      "  .. ..$ inherit.blank: logi TRUE\n",
      "  .. ..- attr(*, \"class\")= chr [1:2] \"element_text\" \"element\"\n",
      "  ..$ legend.title.align   : NULL\n",
      "  ..$ legend.position      : chr \"right\"\n",
      "  ..$ legend.direction     : NULL\n",
      "  ..$ legend.justification : chr \"center\"\n",
      "  ..$ legend.box           : NULL\n",
      "  ..$ legend.box.margin    :Classes 'margin', 'unit'  atomic [1:4] 0 0 0 0\n",
      "  .. .. ..- attr(*, \"valid.unit\")= int 1\n",
      "  .. .. ..- attr(*, \"unit\")= chr \"cm\"\n",
      "  ..$ legend.box.background: list()\n",
      "  .. ..- attr(*, \"class\")= chr [1:2] \"element_blank\" \"element\"\n",
      "  ..$ legend.box.spacing   :Class 'unit'  atomic [1:1] 0.4\n",
      "  .. .. ..- attr(*, \"valid.unit\")= int 1\n",
      "  .. .. ..- attr(*, \"unit\")= chr \"cm\"\n",
      "  ..$ panel.background     :List of 5\n",
      "  .. ..$ fill         : chr \"white\"\n",
      "  .. ..$ colour       : logi NA\n",
      "  .. ..$ size         : NULL\n",
      "  .. ..$ linetype     : NULL\n",
      "  .. ..$ inherit.blank: logi TRUE\n",
      "  .. ..- attr(*, \"class\")= chr [1:2] \"element_rect\" \"element\"\n",
      "  ..$ panel.border         :List of 5\n",
      "  .. ..$ fill         : logi NA\n",
      "  .. ..$ colour       : chr \"grey20\"\n",
      "  .. ..$ size         : NULL\n",
      "  .. ..$ linetype     : NULL\n",
      "  .. ..$ inherit.blank: logi TRUE\n",
      "  .. ..- attr(*, \"class\")= chr [1:2] \"element_rect\" \"element\"\n",
      "  ..$ panel.spacing        :Class 'unit'  atomic [1:1] 5.5\n",
      "  .. .. ..- attr(*, \"valid.unit\")= int 8\n",
      "  .. .. ..- attr(*, \"unit\")= chr \"pt\"\n",
      "  ..$ panel.spacing.x      : NULL\n",
      "  ..$ panel.spacing.y      : NULL\n",
      "  ..$ panel.grid.major     : list()\n",
      "  .. ..- attr(*, \"class\")= chr [1:2] \"element_blank\" \"element\"\n",
      "  ..$ panel.grid.minor     : list()\n",
      "  .. ..- attr(*, \"class\")= chr [1:2] \"element_blank\" \"element\"\n",
      "  ..$ panel.ontop          : logi FALSE\n",
      "  ..$ plot.background      :List of 5\n",
      "  .. ..$ fill         : NULL\n",
      "  .. ..$ colour       : chr \"white\"\n",
      "  .. ..$ size         : NULL\n",
      "  .. ..$ linetype     : NULL\n",
      "  .. ..$ inherit.blank: logi TRUE\n",
      "  .. ..- attr(*, \"class\")= chr [1:2] \"element_rect\" \"element\"\n",
      "  ..$ plot.title           :List of 11\n",
      "  .. ..$ family       : NULL\n",
      "  .. ..$ face         : NULL\n",
      "  .. ..$ colour       : NULL\n",
      "  .. ..$ size         :Class 'rel'  num 1.2\n",
      "  .. ..$ hjust        : num 0\n",
      "  .. ..$ vjust        : num 1\n",
      "  .. ..$ angle        : NULL\n",
      "  .. ..$ lineheight   : NULL\n",
      "  .. ..$ margin       :Classes 'margin', 'unit'  atomic [1:4] 0 0 6.6 0\n",
      "  .. .. .. ..- attr(*, \"valid.unit\")= int 8\n",
      "  .. .. .. ..- attr(*, \"unit\")= chr \"pt\"\n",
      "  .. ..$ debug        : NULL\n",
      "  .. ..$ inherit.blank: logi TRUE\n",
      "  .. ..- attr(*, \"class\")= chr [1:2] \"element_text\" \"element\"\n",
      "  ..$ plot.subtitle        :List of 11\n",
      "  .. ..$ family       : NULL\n",
      "  .. ..$ face         : NULL\n",
      "  .. ..$ colour       : NULL\n",
      "  .. ..$ size         :Class 'rel'  num 0.9\n",
      "  .. ..$ hjust        : num 0\n",
      "  .. ..$ vjust        : num 1\n",
      "  .. ..$ angle        : NULL\n",
      "  .. ..$ lineheight   : NULL\n",
      "  .. ..$ margin       :Classes 'margin', 'unit'  atomic [1:4] 0 0 4.95 0\n",
      "  .. .. .. ..- attr(*, \"valid.unit\")= int 8\n",
      "  .. .. .. ..- attr(*, \"unit\")= chr \"pt\"\n",
      "  .. ..$ debug        : NULL\n",
      "  .. ..$ inherit.blank: logi TRUE\n",
      "  .. ..- attr(*, \"class\")= chr [1:2] \"element_text\" \"element\"\n",
      "  ..$ plot.caption         :List of 11\n",
      "  .. ..$ family       : NULL\n",
      "  .. ..$ face         : NULL\n",
      "  .. ..$ colour       : NULL\n",
      "  .. ..$ size         :Class 'rel'  num 0.9\n",
      "  .. ..$ hjust        : num 1\n",
      "  .. ..$ vjust        : num 1\n",
      "  .. ..$ angle        : NULL\n",
      "  .. ..$ lineheight   : NULL\n",
      "  .. ..$ margin       :Classes 'margin', 'unit'  atomic [1:4] 4.95 0 0 0\n",
      "  .. .. .. ..- attr(*, \"valid.unit\")= int 8\n",
      "  .. .. .. ..- attr(*, \"unit\")= chr \"pt\"\n",
      "  .. ..$ debug        : NULL\n",
      "  .. ..$ inherit.blank: logi TRUE\n",
      "  .. ..- attr(*, \"class\")= chr [1:2] \"element_text\" \"element\"\n",
      "  ..$ plot.margin          :Classes 'margin', 'unit'  atomic [1:4] 5.5 5.5 5.5 5.5\n",
      "  .. .. ..- attr(*, \"valid.unit\")= int 8\n",
      "  .. .. ..- attr(*, \"unit\")= chr \"pt\"\n",
      "  ..$ strip.background     :List of 5\n",
      "  .. ..$ fill         : chr \"grey85\"\n",
      "  .. ..$ colour       : chr \"grey20\"\n",
      "  .. ..$ size         : NULL\n",
      "  .. ..$ linetype     : NULL\n",
      "  .. ..$ inherit.blank: logi TRUE\n",
      "  .. ..- attr(*, \"class\")= chr [1:2] \"element_rect\" \"element\"\n",
      "  ..$ strip.placement      : chr \"inside\"\n",
      "  ..$ strip.text           :List of 11\n",
      "  .. ..$ family       : NULL\n",
      "  .. ..$ face         : NULL\n",
      "  .. ..$ colour       : chr \"grey10\"\n",
      "  .. ..$ size         :Class 'rel'  num 0.8\n",
      "  .. ..$ hjust        : NULL\n",
      "  .. ..$ vjust        : NULL\n",
      "  .. ..$ angle        : NULL\n",
      "  .. ..$ lineheight   : NULL\n",
      "  .. ..$ margin       : NULL\n",
      "  .. ..$ debug        : NULL\n",
      "  .. ..$ inherit.blank: logi TRUE\n",
      "  .. ..- attr(*, \"class\")= chr [1:2] \"element_text\" \"element\"\n",
      "  ..$ strip.text.x         :List of 11\n",
      "  .. ..$ family       : NULL\n",
      "  .. ..$ face         : NULL\n",
      "  .. ..$ colour       : NULL\n",
      "  .. ..$ size         : NULL\n",
      "  .. ..$ hjust        : NULL\n",
      "  .. ..$ vjust        : NULL\n",
      "  .. ..$ angle        : NULL\n",
      "  .. ..$ lineheight   : NULL\n",
      "  .. ..$ margin       :Classes 'margin', 'unit'  atomic [1:4] 5.5 0 5.5 0\n",
      "  .. .. .. ..- attr(*, \"valid.unit\")= int 8\n",
      "  .. .. .. ..- attr(*, \"unit\")= chr \"pt\"\n",
      "  .. ..$ debug        : NULL\n",
      "  .. ..$ inherit.blank: logi TRUE\n",
      "  .. ..- attr(*, \"class\")= chr [1:2] \"element_text\" \"element\"\n",
      "  ..$ strip.text.y         :List of 11\n",
      "  .. ..$ family       : NULL\n",
      "  .. ..$ face         : NULL\n",
      "  .. ..$ colour       : NULL\n",
      "  .. ..$ size         : NULL\n",
      "  .. ..$ hjust        : NULL\n",
      "  .. ..$ vjust        : NULL\n",
      "  .. ..$ angle        : num -90\n",
      "  .. ..$ lineheight   : NULL\n",
      "  .. ..$ margin       :Classes 'margin', 'unit'  atomic [1:4] 0 5.5 0 5.5\n",
      "  .. .. .. ..- attr(*, \"valid.unit\")= int 8\n",
      "  .. .. .. ..- attr(*, \"unit\")= chr \"pt\"\n",
      "  .. ..$ debug        : NULL\n",
      "  .. ..$ inherit.blank: logi TRUE\n",
      "  .. ..- attr(*, \"class\")= chr [1:2] \"element_text\" \"element\"\n",
      "  ..$ strip.switch.pad.grid:Class 'unit'  atomic [1:1] 0.1\n",
      "  .. .. ..- attr(*, \"valid.unit\")= int 1\n",
      "  .. .. ..- attr(*, \"unit\")= chr \"cm\"\n",
      "  ..$ strip.switch.pad.wrap:Class 'unit'  atomic [1:1] 0.1\n",
      "  .. .. ..- attr(*, \"valid.unit\")= int 1\n",
      "  .. .. ..- attr(*, \"unit\")= chr \"cm\"\n",
      "  ..- attr(*, \"class\")= chr [1:2] \"theme\" \"gg\"\n",
      "  ..- attr(*, \"complete\")= logi TRUE\n",
      "  ..- attr(*, \"validate\")= logi TRUE\n",
      " $ coordinates:Classes 'CoordCartesian', 'Coord', 'ggproto' <ggproto object: Class CoordCartesian, Coord>\n",
      "    aspect: function\n",
      "    distance: function\n",
      "    expand: TRUE\n",
      "    is_linear: function\n",
      "    labels: function\n",
      "    limits: list\n",
      "    range: function\n",
      "    render_axis_h: function\n",
      "    render_axis_v: function\n",
      "    render_bg: function\n",
      "    render_fg: function\n",
      "    train: function\n",
      "    transform: function\n",
      "    super:  <ggproto object: Class CoordCartesian, Coord> \n",
      " $ facet      :Classes 'FacetNull', 'Facet', 'ggproto' <ggproto object: Class FacetNull, Facet>\n",
      "    compute_layout: function\n",
      "    draw_back: function\n",
      "    draw_front: function\n",
      "    draw_labels: function\n",
      "    draw_panels: function\n",
      "    finish_data: function\n",
      "    init_scales: function\n",
      "    map: function\n",
      "    map_data: function\n",
      "    params: list\n",
      "    render_back: function\n",
      "    render_front: function\n",
      "    render_panels: function\n",
      "    setup_data: function\n",
      "    setup_params: function\n",
      "    shrink: TRUE\n",
      "    train: function\n",
      "    train_positions: function\n",
      "    train_scales: function\n",
      "    vars: function\n",
      "    super:  <ggproto object: Class FacetNull, Facet> \n",
      " $ plot_env   :<environment: R_GlobalEnv> \n",
      " $ labels     :List of 5\n",
      "  ..$ x     : chr \"Year\"\n",
      "  ..$ y     : chr \"Size\"\n",
      "  ..$ colour: chr \"Site\"\n",
      "  ..$ group : chr \"Site\"\n",
      "  ..$ label : chr \"Samples\"\n",
      " - attr(*, \"class\")= chr [1:2] \"gg\" \"ggplot\"\n"
     ]
    }
   ],
   "source": [
    "str(b)"
   ]
  },
  {
   "cell_type": "markdown",
   "metadata": {},
   "source": [
    "Make a graph that looks like the other ones with this:"
   ]
  },
  {
   "cell_type": "markdown",
   "metadata": {
    "collapsed": true
   },
   "source": [
    "survival=data.frame(\"Year\"=c(10,10,16,16), \"sex\"=c(\"male\", \"male\", \"female\", \"female\"),\"mean\"=c(0.61, 0.76, 0.6, 0.74)"
   ]
  },
  {
   "cell_type": "code",
   "execution_count": 17,
   "metadata": {
    "collapsed": true
   },
   "outputs": [],
   "source": [
    " survival=data.frame(\"Year\"=c(2010, 2011, 2012, 2013, 2014, 2015, 2010.2, 2011.2, 2012.2, 2013.2, 2014.2, 2015.2), \"sex\"=c(\"male\", \"male\", \"male\", \"male\", \"male\", \"male\",  \"female\", \"female\" , \"female\" , \"female\", \"female\" , \"female\" ), \"mean\"=c(0.61, 0.65, 0.68, 0.71, 0.73, 0.76, 0.6, 0.63, 0.66, 0.69, 0.72, 0.74), \"low\"=c(0.44, 0.55, 0.63, 0.63, 0.6, 0.57, 0.45, 0.55, 0.61, 0.59, 0.56, 0.52), \"high\"=c(0.76, 0.73, 0.72, 0.77, 0.83, 0.88, 0.73, 0.7, 0.71, 0.78, 0.84, 0.88))      "
   ]
  },
  {
   "cell_type": "code",
   "execution_count": 15,
   "metadata": {},
   "outputs": [
    {
     "data": {
      "text/html": [
       "<table>\n",
       "<thead><tr><th scope=col>Year</th><th scope=col>sex</th><th scope=col>mean</th><th scope=col>low</th><th scope=col>high</th></tr></thead>\n",
       "<tbody>\n",
       "\t<tr><td>2010</td><td>male</td><td>0.61</td><td>0.44</td><td>0.76</td></tr>\n",
       "\t<tr><td>2011</td><td>male</td><td>0.65</td><td>0.55</td><td>0.73</td></tr>\n",
       "\t<tr><td>2012</td><td>male</td><td>0.68</td><td>0.63</td><td>0.72</td></tr>\n",
       "\t<tr><td>2013</td><td>male</td><td>0.71</td><td>0.63</td><td>0.77</td></tr>\n",
       "\t<tr><td>2014</td><td>male</td><td>0.73</td><td>0.60</td><td>0.83</td></tr>\n",
       "\t<tr><td>2015</td><td>male</td><td>0.76</td><td>0.57</td><td>0.88</td></tr>\n",
       "</tbody>\n",
       "</table>\n"
      ],
      "text/latex": [
       "\\begin{tabular}{r|lllll}\n",
       " Year & sex & mean & low & high\\\\\n",
       "\\hline\n",
       "\t 2010 & male & 0.61 & 0.44 & 0.76\\\\\n",
       "\t 2011 & male & 0.65 & 0.55 & 0.73\\\\\n",
       "\t 2012 & male & 0.68 & 0.63 & 0.72\\\\\n",
       "\t 2013 & male & 0.71 & 0.63 & 0.77\\\\\n",
       "\t 2014 & male & 0.73 & 0.60 & 0.83\\\\\n",
       "\t 2015 & male & 0.76 & 0.57 & 0.88\\\\\n",
       "\\end{tabular}\n"
      ],
      "text/markdown": [
       "\n",
       "Year | sex | mean | low | high | \n",
       "|---|---|---|---|---|---|\n",
       "| 2010 | male | 0.61 | 0.44 | 0.76 | \n",
       "| 2011 | male | 0.65 | 0.55 | 0.73 | \n",
       "| 2012 | male | 0.68 | 0.63 | 0.72 | \n",
       "| 2013 | male | 0.71 | 0.63 | 0.77 | \n",
       "| 2014 | male | 0.73 | 0.60 | 0.83 | \n",
       "| 2015 | male | 0.76 | 0.57 | 0.88 | \n",
       "\n",
       "\n"
      ],
      "text/plain": [
       "  Year sex  mean low  high\n",
       "1 2010 male 0.61 0.44 0.76\n",
       "2 2011 male 0.65 0.55 0.73\n",
       "3 2012 male 0.68 0.63 0.72\n",
       "4 2013 male 0.71 0.63 0.77\n",
       "5 2014 male 0.73 0.60 0.83\n",
       "6 2015 male 0.76 0.57 0.88"
      ]
     },
     "metadata": {},
     "output_type": "display_data"
    }
   ],
   "source": [
    "head(survival)"
   ]
  },
  {
   "cell_type": "code",
   "execution_count": 18,
   "metadata": {},
   "outputs": [
    {
     "data": {
      "image/png": "[encoded data removed]",
      "text/plain": [
       "plot without title"
      ]
     },
     "metadata": {},
     "output_type": "display_data"
    }
   ],
   "source": [
    "options(repr.plot.width=8, repr.plot.height=5)\n",
    "print(ggplot()+ geom_point(data=survival, aes(x=Year, y=mean, shape=sex), size=5, color=\"#ffa600\")\n",
    "        + geom_errorbar(data=survival, aes(x=Year, ymax = high, ymin =  low), color=\"#ffa600\", width=0.25)\n",
    "            +theme_bw()\n",
    "      + theme( panel.grid.minor = element_blank(), panel.grid.major = element_blank(), axis.line=element_line(color=\"black\"), \n",
    "              axis.text.x=element_text(color=\"black\", size=18, angle=90, vjust=0.5), \n",
    "              axis.title=element_text(color=\"black\", size=20),\n",
    "              axis.text.y=element_text(color=\"black\", size=18), legend.text=element_text(size=18))\n",
    "      +ylab(\"Survival estimate\")\n",
    "        )"
   ]
  },
  {
   "cell_type": "code",
   "execution_count": 19,
   "metadata": {
    "collapsed": true
   },
   "outputs": [],
   "source": [
    "ggsave(\"/local/home/sarahgw/WGS/SNPS/All_mylu/plots/Survival_estimates.pdf\", w=8, h=5) "
   ]
  },
  {
   "cell_type": "code",
   "execution_count": null,
   "metadata": {
    "collapsed": true
   },
   "outputs": [],
   "source": [
    "increased from 0.61 (95% CI = 0.44, 0.76) to 0.76 (95% CI = 0.57, 0.88) for males and 0.60 (95% CI = 0.45, 0.73) to 0.74 (95% CI = 0.52, 0.88) for females across the study period. "
   ]
  },
  {
   "cell_type": "code",
   "execution_count": null,
   "metadata": {
    "collapsed": true
   },
   "outputs": [],
   "source": [
    "ggplot(df, aes(x = feats, color = group)) +\n",
    "  geom_errorbar(aes(ymax = means + sds, ymin = means - sds),\n",
    "                position = \"dodge\")"
   ]
  }
 ],
 "metadata": {
  "kernelspec": {
   "display_name": "R",
   "language": "R",
   "name": "ir"
  },
  "language_info": {
   "codemirror_mode": "r",
   "file_extension": ".r",
   "mimetype": "text/x-r-source",
   "name": "R",
   "pygments_lexer": "r",
   "version": "3.4.1"
  }
 },
 "nbformat": 4,
 "nbformat_minor": 2
}
