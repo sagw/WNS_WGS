{
 "cells": [
  {
   "cell_type": "code",
   "execution_count": 1,
   "metadata": {
    "collapsed": false
   },
   "outputs": [
    {
     "name": "stderr",
     "output_type": "stream",
     "text": [
      "Loading required package: data.table\n",
      "Loading required package: plyr\n"
     ]
    }
   ],
   "source": [
    "setwd(\"~/WGS//SNPS//All_mylu\")\n",
    "require(data.table)\n",
    "require(plyr)"
   ]
  },
  {
   "cell_type": "code",
   "execution_count": 3,
   "metadata": {
    "collapsed": false
   },
   "outputs": [
    {
     "name": "stdout",
     "output_type": "stream",
     "text": [
      "\r",
      "Read 0.0% of 56608200 rows\r",
      "Read 2.8% of 56608200 rows\r",
      "Read 5.6% of 56608200 rows\r",
      "Read 8.4% of 56608200 rows\r",
      "Read 10.7% of 56608200 rows\r",
      "Read 13.9% of 56608200 rows\r",
      "Read 16.7% of 56608200 rows\r",
      "Read 19.6% of 56608200 rows\r",
      "Read 22.4% of 56608200 rows\r",
      "Read 25.2% of 56608200 rows\r",
      "Read 26.5% of 56608200 rows\r",
      "Read 29.2% of 56608200 rows\r",
      "Read 32.0% of 56608200 rows\r",
      "Read 34.7% of 56608200 rows\r",
      "Read 37.5% of 56608200 rows\r",
      "Read 40.3% of 56608200 rows\r",
      "Read 42.3% of 56608200 rows\r",
      "Read 45.1% of 56608200 rows\r",
      "Read 47.9% of 56608200 rows\r",
      "Read 50.6% of 56608200 rows\r",
      "Read 53.4% of 56608200 rows\r",
      "Read 55.2% of 56608200 rows\r",
      "Read 58.5% of 56608200 rows\r",
      "Read 61.3% of 56608200 rows\r",
      "Read 64.1% of 56608200 rows\r",
      "Read 66.8% of 56608200 rows\r",
      "Read 69.6% of 56608200 rows\r",
      "Read 70.5% of 56608200 rows\r",
      "Read 72.0% of 56608200 rows\r",
      "Read 73.3% of 56608200 rows\r",
      "Read 74.2% of 56608200 rows\r",
      "Read 75.1% of 56608200 rows\r",
      "Read 77.9% of 56608200 rows\r",
      "Read 80.1% of 56608200 rows\r",
      "Read 83.0% of 56608200 rows\r",
      "Read 85.8% of 56608200 rows\r",
      "Read 87.3% of 56608200 rows\r",
      "Read 90.1% of 56608200 rows\r",
      "Read 92.9% of 56608200 rows\r",
      "Read 95.7% of 56608200 rows\r",
      "Read 98.5% of 56608200 rows\r",
      "Read 56608200 rows and 6 (of 6) columns from 2.041 GB file in 00:01:08\n"
     ]
    }
   ],
   "source": [
    "NJ_Assoc=fread(file=\"NJ_assoc.lrt0\", header=TRUE)"
   ]
  },
  {
   "cell_type": "code",
   "execution_count": 4,
   "metadata": {
    "collapsed": false
   },
   "outputs": [
    {
     "name": "stdout",
     "output_type": "stream",
     "text": [
      "\r",
      "Read 0.0% of 49821328 rows\r",
      "Read 3.3% of 49821328 rows\r",
      "Read 4.3% of 49821328 rows\r",
      "Read 4.6% of 49821328 rows\r",
      "Read 5.6% of 49821328 rows\r",
      "Read 8.7% of 49821328 rows\r",
      "Read 12.9% of 49821328 rows\r",
      "Read 16.3% of 49821328 rows\r",
      "Read 19.6% of 49821328 rows\r",
      "Read 21.4% of 49821328 rows\r",
      "Read 25.3% of 49821328 rows\r",
      "Read 28.7% of 49821328 rows\r",
      "Read 32.0% of 49821328 rows\r",
      "Read 35.3% of 49821328 rows\r",
      "Read 38.2% of 49821328 rows\r",
      "Read 42.7% of 49821328 rows\r",
      "Read 46.1% of 49821328 rows\r",
      "Read 49.4% of 49821328 rows\r",
      "Read 52.6% of 49821328 rows\r",
      "Read 55.1% of 49821328 rows\r",
      "Read 60.0% of 49821328 rows\r",
      "Read 63.3% of 49821328 rows\r",
      "Read 66.6% of 49821328 rows\r",
      "Read 69.9% of 49821328 rows\r",
      "Read 71.9% of 49821328 rows\r",
      "Read 77.2% of 49821328 rows\r",
      "Read 80.5% of 49821328 rows\r",
      "Read 83.9% of 49821328 rows\r",
      "Read 87.2% of 49821328 rows\r",
      "Read 88.7% of 49821328 rows\r",
      "Read 92.8% of 49821328 rows\r",
      "Read 96.1% of 49821328 rows\r",
      "Read 99.4% of 49821328 rows\r",
      "Read 49821328 rows and 6 (of 6) columns from 1.795 GB file in 00:00:56\n"
     ]
    }
   ],
   "source": [
    "NY_Assoc=fread(file=\"NY_assoc.lrt0\", header=TRUE)"
   ]
  },
  {
   "cell_type": "code",
   "execution_count": 5,
   "metadata": {
    "collapsed": false
   },
   "outputs": [
    {
     "name": "stdout",
     "output_type": "stream",
     "text": [
      "\r",
      "Read 0.0% of 58372710 rows\r",
      "Read 2.8% of 58372710 rows\r",
      "Read 5.7% of 58372710 rows\r",
      "Read 8.5% of 58372710 rows\r",
      "Read 11.3% of 58372710 rows\r",
      "Read 14.9% of 58372710 rows\r",
      "Read 17.8% of 58372710 rows\r",
      "Read 20.6% of 58372710 rows\r",
      "Read 22.7% of 58372710 rows\r",
      "Read 23.0% of 58372710 rows\r",
      "Read 24.5% of 58372710 rows\r",
      "Read 25.3% of 58372710 rows\r",
      "Read 26.8% of 58372710 rows\r",
      "Read 28.1% of 58372710 rows\r",
      "Read 29.2% of 58372710 rows\r",
      "Read 29.9% of 58372710 rows\r",
      "Read 31.7% of 58372710 rows\r",
      "Read 33.4% of 58372710 rows\r",
      "Read 34.7% of 58372710 rows\r",
      "Read 35.8% of 58372710 rows\r",
      "Read 36.7% of 58372710 rows\r",
      "Read 37.4% of 58372710 rows\r",
      "Read 38.1% of 58372710 rows\r",
      "Read 39.2% of 58372710 rows\r",
      "Read 42.9% of 58372710 rows\r",
      "Read 44.8% of 58372710 rows\r",
      "Read 47.6% of 58372710 rows\r",
      "Read 49.1% of 58372710 rows\r",
      "Read 52.7% of 58372710 rows\r",
      "Read 55.5% of 58372710 rows\r",
      "Read 58.4% of 58372710 rows\r",
      "Read 60.7% of 58372710 rows\r",
      "Read 63.7% of 58372710 rows\r",
      "Read 66.4% of 58372710 rows\r",
      "Read 69.2% of 58372710 rows\r",
      "Read 72.0% of 58372710 rows\r",
      "Read 73.3% of 58372710 rows\r",
      "Read 76.1% of 58372710 rows\r",
      "Read 78.9% of 58372710 rows\r",
      "Read 81.8% of 58372710 rows\r",
      "Read 83.7% of 58372710 rows\r",
      "Read 87.1% of 58372710 rows\r",
      "Read 89.9% of 58372710 rows\r",
      "Read 92.8% of 58372710 rows\r",
      "Read 95.0% of 58372710 rows\r",
      "Read 98.8% of 58372710 rows\r",
      "Read 58372710 rows and 6 (of 6) columns from 2.103 GB file in 00:01:12\n"
     ]
    }
   ],
   "source": [
    "VT_Assoc=fread(file=\"VT_assoc.lrt0\", header=TRUE)"
   ]
  },
  {
   "cell_type": "code",
   "execution_count": 62,
   "metadata": {
    "collapsed": false,
    "scrolled": true
   },
   "outputs": [
    {
     "data": {
      "text/html": [
       "<table>\n",
       "<thead><tr><th scope=col>Chromosome</th><th scope=col>Position</th><th scope=col>Major</th><th scope=col>Minor</th><th scope=col>Frequency</th><th scope=col>LRT</th><th scope=col>pvalue</th><th scope=col>padj</th></tr></thead>\n",
       "<tbody>\n",
       "\t<tr><td>GL429767 </td><td>104      </td><td>A        </td><td>T        </td><td>0.167051 </td><td>0.454808 </td><td>0.5000605</td><td>0.7769970</td></tr>\n",
       "\t<tr><td>GL429767 </td><td>196      </td><td>T        </td><td>C        </td><td>0.074436 </td><td>1.119682 </td><td>0.2899869</td><td>0.6232551</td></tr>\n",
       "\t<tr><td>GL429767 </td><td>202      </td><td>A        </td><td>G        </td><td>0.278747 </td><td>0.166854 </td><td>0.6829230</td><td>0.8925684</td></tr>\n",
       "\t<tr><td>GL429767 </td><td>295      </td><td>A        </td><td>T        </td><td>0.106719 </td><td>1.401930 </td><td>0.2364007</td><td>0.6174972</td></tr>\n",
       "\t<tr><td>GL429767 </td><td>317      </td><td>G        </td><td>A        </td><td>0.240127 </td><td>0.569538 </td><td>0.4504426</td><td>0.7374819</td></tr>\n",
       "\t<tr><td>GL429767 </td><td>324      </td><td>T        </td><td>A        </td><td>0.407777 </td><td>0.073502 </td><td>0.7863045</td><td>0.9362948</td></tr>\n",
       "</tbody>\n",
       "</table>\n"
      ],
      "text/latex": [
       "\\begin{tabular}{r|llllllll}\n",
       " Chromosome & Position & Major & Minor & Frequency & LRT & pvalue & padj\\\\\n",
       "\\hline\n",
       "\t GL429767  & 104       & A         & T         & 0.167051  & 0.454808  & 0.5000605 & 0.7769970\\\\\n",
       "\t GL429767  & 196       & T         & C         & 0.074436  & 1.119682  & 0.2899869 & 0.6232551\\\\\n",
       "\t GL429767  & 202       & A         & G         & 0.278747  & 0.166854  & 0.6829230 & 0.8925684\\\\\n",
       "\t GL429767  & 295       & A         & T         & 0.106719  & 1.401930  & 0.2364007 & 0.6174972\\\\\n",
       "\t GL429767  & 317       & G         & A         & 0.240127  & 0.569538  & 0.4504426 & 0.7374819\\\\\n",
       "\t GL429767  & 324       & T         & A         & 0.407777  & 0.073502  & 0.7863045 & 0.9362948\\\\\n",
       "\\end{tabular}\n"
      ],
      "text/markdown": [
       "\n",
       "Chromosome | Position | Major | Minor | Frequency | LRT | pvalue | padj | \n",
       "|---|---|---|---|---|---|\n",
       "| GL429767  | 104       | A         | T         | 0.167051  | 0.454808  | 0.5000605 | 0.7769970 | \n",
       "| GL429767  | 196       | T         | C         | 0.074436  | 1.119682  | 0.2899869 | 0.6232551 | \n",
       "| GL429767  | 202       | A         | G         | 0.278747  | 0.166854  | 0.6829230 | 0.8925684 | \n",
       "| GL429767  | 295       | A         | T         | 0.106719  | 1.401930  | 0.2364007 | 0.6174972 | \n",
       "| GL429767  | 317       | G         | A         | 0.240127  | 0.569538  | 0.4504426 | 0.7374819 | \n",
       "| GL429767  | 324       | T         | A         | 0.407777  | 0.073502  | 0.7863045 | 0.9362948 | \n",
       "\n",
       "\n"
      ],
      "text/plain": [
       "  Chromosome Position Major Minor Frequency LRT      pvalue    padj     \n",
       "1 GL429767   104      A     T     0.167051  0.454808 0.5000605 0.7769970\n",
       "2 GL429767   196      T     C     0.074436  1.119682 0.2899869 0.6232551\n",
       "3 GL429767   202      A     G     0.278747  0.166854 0.6829230 0.8925684\n",
       "4 GL429767   295      A     T     0.106719  1.401930 0.2364007 0.6174972\n",
       "5 GL429767   317      G     A     0.240127  0.569538 0.4504426 0.7374819\n",
       "6 GL429767   324      T     A     0.407777  0.073502 0.7863045 0.9362948"
      ]
     },
     "metadata": {},
     "output_type": "display_data"
    }
   ],
   "source": [
    "head(NJ_Assoc)"
   ]
  },
  {
   "cell_type": "code",
   "execution_count": 6,
   "metadata": {
    "collapsed": false
   },
   "outputs": [],
   "source": [
    "NJ_Assoc$pvalue=pchisq(NJ_Assoc$LRT, 1, lower.tail=FALSE)"
   ]
  },
  {
   "cell_type": "code",
   "execution_count": 7,
   "metadata": {
    "collapsed": false
   },
   "outputs": [],
   "source": [
    "NY_Assoc$pvalue=pchisq(NY_Assoc$LRT, 1, lower.tail=FALSE)"
   ]
  },
  {
   "cell_type": "code",
   "execution_count": 8,
   "metadata": {
    "collapsed": true
   },
   "outputs": [],
   "source": [
    "VT_Assoc$pvalue=pchisq(VT_Assoc$LRT, 1, lower.tail=FALSE)"
   ]
  },
  {
   "cell_type": "markdown",
   "metadata": {},
   "source": [
    "Okay, so according to several papers, for GWAS in humans rather than using something like FDR, they use a significance threshold, in humans its 5x10^-8. https://www.ncbi.nlm.nih.gov/pmc/articles/PMC3154648/ http://journals.plos.org/plosgenetics/article?id=10.1371/journal.pgen.1002812\n",
    "\n",
    "If we apply this threshold here, we do end up with "
   ]
  },
  {
   "cell_type": "code",
   "execution_count": 9,
   "metadata": {
    "collapsed": true
   },
   "outputs": [],
   "source": [
    "NJsig=NJ_Assoc[NJ_Assoc$pvalue<=0.00000005,]"
   ]
  },
  {
   "cell_type": "code",
   "execution_count": 10,
   "metadata": {
    "collapsed": true
   },
   "outputs": [],
   "source": [
    "NYsig=NY_Assoc[NY_Assoc$pvalue<=0.00000005,]"
   ]
  },
  {
   "cell_type": "code",
   "execution_count": 11,
   "metadata": {
    "collapsed": true
   },
   "outputs": [],
   "source": [
    "VTsig=VT_Assoc[VT_Assoc$pvalue<=0.00000005,]"
   ]
  },
  {
   "cell_type": "code",
   "execution_count": 13,
   "metadata": {
    "collapsed": false
   },
   "outputs": [
    {
     "name": "stdout",
     "output_type": "stream",
     "text": [
      "   Chromosome Position Major Minor Frequency      LRT       pvalue\n",
      "1:   GL430237   638735     C     A  0.472556 30.87871 2.746686e-08\n"
     ]
    }
   ],
   "source": [
    "print(VTsig)"
   ]
  },
  {
   "cell_type": "code",
   "execution_count": 14,
   "metadata": {
    "collapsed": false
   },
   "outputs": [
    {
     "name": "stdout",
     "output_type": "stream",
     "text": [
      "   Chromosome Position Major Minor Frequency      LRT       pvalue\n",
      "1:   GL429969  1027735     C     A  0.487107 32.41888 1.242735e-08\n"
     ]
    }
   ],
   "source": [
    "print(NYsig)"
   ]
  },
  {
   "cell_type": "code",
   "execution_count": 15,
   "metadata": {
    "collapsed": false
   },
   "outputs": [
    {
     "name": "stdout",
     "output_type": "stream",
     "text": [
      "   Chromosome Position Major Minor Frequency      LRT       pvalue\n",
      "1:   GL429784  5248042     A     G  0.463844 35.90583 2.070881e-09\n",
      "2:   GL429792  2274770     A     G  0.336911 30.14965 3.999585e-08\n",
      "3:   GL429815  5244802     C     T  0.399570 30.97504 2.613683e-08\n",
      "4:   GL429850  2809216     C     G  0.459175 30.02994 4.254267e-08\n",
      "5:   GL429902  1824201     G     A  0.275039 30.14035 4.018813e-08\n",
      "6:   GL429896   422573     C     T  0.365106 35.49758 2.553675e-09\n",
      "7:   GL429974   629671     G     A  0.471357 30.09020 4.124092e-08\n",
      "8:   GL430317   144204     A     G  0.475802 30.02896 4.256414e-08\n",
      "9:   GL430351    26406     T     C  0.451384 30.97191 2.617897e-08\n"
     ]
    }
   ],
   "source": [
    "print(NJsig)"
   ]
  },
  {
   "cell_type": "code",
   "execution_count": 43,
   "metadata": {
    "collapsed": false
   },
   "outputs": [],
   "source": [
    "overlap=join_all(list(NJsig, NYsig, VTsig), by=\"Chromosome\", type=\"inner\")"
   ]
  },
  {
   "cell_type": "code",
   "execution_count": 44,
   "metadata": {
    "collapsed": false
   },
   "outputs": [
    {
     "data": {
      "text/html": [
       "<table>\n",
       "<thead><tr><th scope=col>Chromosome</th><th scope=col>Position</th><th scope=col>Major</th><th scope=col>Minor</th><th scope=col>Frequency</th><th scope=col>LRT</th><th scope=col>pvalue</th><th scope=col>Position</th><th scope=col>Major</th><th scope=col>Minor</th><th scope=col>Frequency</th><th scope=col>LRT</th><th scope=col>pvalue</th><th scope=col>Position</th><th scope=col>Major</th><th scope=col>Minor</th><th scope=col>Frequency</th><th scope=col>LRT</th><th scope=col>pvalue</th></tr></thead>\n",
       "<tbody>\n",
       "\t<tr><td>GL429768    </td><td>13089795    </td><td>A           </td><td>C           </td><td>0.470894    </td><td>26.92623    </td><td>2.113708e-07</td><td>5282831     </td><td>T           </td><td>C           </td><td>0.360333    </td><td>27.4093     </td><td>1.646376e-07</td><td> 7105033    </td><td>A           </td><td>T           </td><td>0.461828    </td><td>25.73453    </td><td>3.917549e-07</td></tr>\n",
       "\t<tr><td>GL429768    </td><td>13089795    </td><td>A           </td><td>C           </td><td>0.470894    </td><td>26.92623    </td><td>2.113708e-07</td><td>5282831     </td><td>T           </td><td>C           </td><td>0.360333    </td><td>27.4093     </td><td>1.646376e-07</td><td>11378649    </td><td>A           </td><td>T           </td><td>0.275080    </td><td>29.35576    </td><td>6.023720e-08</td></tr>\n",
       "\t<tr><td>GL429768    </td><td>19815498    </td><td>G           </td><td>A           </td><td>0.426143    </td><td>25.30498    </td><td>4.894432e-07</td><td>5282831     </td><td>T           </td><td>C           </td><td>0.360333    </td><td>27.4093     </td><td>1.646376e-07</td><td> 7105033    </td><td>A           </td><td>T           </td><td>0.461828    </td><td>25.73453    </td><td>3.917549e-07</td></tr>\n",
       "\t<tr><td>GL429768    </td><td>19815498    </td><td>G           </td><td>A           </td><td>0.426143    </td><td>25.30498    </td><td>4.894432e-07</td><td>5282831     </td><td>T           </td><td>C           </td><td>0.360333    </td><td>27.4093     </td><td>1.646376e-07</td><td>11378649    </td><td>A           </td><td>T           </td><td>0.275080    </td><td>29.35576    </td><td>6.023720e-08</td></tr>\n",
       "</tbody>\n",
       "</table>\n"
      ],
      "text/latex": [
       "\\begin{tabular}{r|lllllllllllllllllll}\n",
       " Chromosome & Position & Major & Minor & Frequency & LRT & pvalue & Position & Major & Minor & Frequency & LRT & pvalue & Position & Major & Minor & Frequency & LRT & pvalue\\\\\n",
       "\\hline\n",
       "\t GL429768     & 13089795     & A            & C            & 0.470894     & 26.92623     & 2.113708e-07 & 5282831      & T            & C            & 0.360333     & 27.4093      & 1.646376e-07 &  7105033     & A            & T            & 0.461828     & 25.73453     & 3.917549e-07\\\\\n",
       "\t GL429768     & 13089795     & A            & C            & 0.470894     & 26.92623     & 2.113708e-07 & 5282831      & T            & C            & 0.360333     & 27.4093      & 1.646376e-07 & 11378649     & A            & T            & 0.275080     & 29.35576     & 6.023720e-08\\\\\n",
       "\t GL429768     & 19815498     & G            & A            & 0.426143     & 25.30498     & 4.894432e-07 & 5282831      & T            & C            & 0.360333     & 27.4093      & 1.646376e-07 &  7105033     & A            & T            & 0.461828     & 25.73453     & 3.917549e-07\\\\\n",
       "\t GL429768     & 19815498     & G            & A            & 0.426143     & 25.30498     & 4.894432e-07 & 5282831      & T            & C            & 0.360333     & 27.4093      & 1.646376e-07 & 11378649     & A            & T            & 0.275080     & 29.35576     & 6.023720e-08\\\\\n",
       "\\end{tabular}\n"
      ],
      "text/markdown": [
       "\n",
       "Chromosome | Position | Major | Minor | Frequency | LRT | pvalue | Position | Major | Minor | Frequency | LRT | pvalue | Position | Major | Minor | Frequency | LRT | pvalue | \n",
       "|---|---|---|---|\n",
       "| GL429768     | 13089795     | A            | C            | 0.470894     | 26.92623     | 2.113708e-07 | 5282831      | T            | C            | 0.360333     | 27.4093      | 1.646376e-07 |  7105033     | A            | T            | 0.461828     | 25.73453     | 3.917549e-07 | \n",
       "| GL429768     | 13089795     | A            | C            | 0.470894     | 26.92623     | 2.113708e-07 | 5282831      | T            | C            | 0.360333     | 27.4093      | 1.646376e-07 | 11378649     | A            | T            | 0.275080     | 29.35576     | 6.023720e-08 | \n",
       "| GL429768     | 19815498     | G            | A            | 0.426143     | 25.30498     | 4.894432e-07 | 5282831      | T            | C            | 0.360333     | 27.4093      | 1.646376e-07 |  7105033     | A            | T            | 0.461828     | 25.73453     | 3.917549e-07 | \n",
       "| GL429768     | 19815498     | G            | A            | 0.426143     | 25.30498     | 4.894432e-07 | 5282831      | T            | C            | 0.360333     | 27.4093      | 1.646376e-07 | 11378649     | A            | T            | 0.275080     | 29.35576     | 6.023720e-08 | \n",
       "\n",
       "\n"
      ],
      "text/plain": [
       "  Chromosome Position Major Minor Frequency LRT      pvalue       Position\n",
       "1 GL429768   13089795 A     C     0.470894  26.92623 2.113708e-07 5282831 \n",
       "2 GL429768   13089795 A     C     0.470894  26.92623 2.113708e-07 5282831 \n",
       "3 GL429768   19815498 G     A     0.426143  25.30498 4.894432e-07 5282831 \n",
       "4 GL429768   19815498 G     A     0.426143  25.30498 4.894432e-07 5282831 \n",
       "  Major Minor Frequency LRT     pvalue       Position Major Minor Frequency\n",
       "1 T     C     0.360333  27.4093 1.646376e-07  7105033 A     T     0.461828 \n",
       "2 T     C     0.360333  27.4093 1.646376e-07 11378649 A     T     0.275080 \n",
       "3 T     C     0.360333  27.4093 1.646376e-07  7105033 A     T     0.461828 \n",
       "4 T     C     0.360333  27.4093 1.646376e-07 11378649 A     T     0.275080 \n",
       "  LRT      pvalue      \n",
       "1 25.73453 3.917549e-07\n",
       "2 29.35576 6.023720e-08\n",
       "3 25.73453 3.917549e-07\n",
       "4 29.35576 6.023720e-08"
      ]
     },
     "metadata": {},
     "output_type": "display_data"
    }
   ],
   "source": [
    "overlap"
   ]
  },
  {
   "cell_type": "code",
   "execution_count": null,
   "metadata": {
    "collapsed": true
   },
   "outputs": [],
   "source": []
  }
 ],
 "metadata": {
  "anaconda-cloud": {},
  "kernelspec": {
   "display_name": "R",
   "language": "R",
   "name": "ir"
  },
  "language_info": {
   "codemirror_mode": "r",
   "file_extension": ".r",
   "mimetype": "text/x-r-source",
   "name": "R",
   "pygments_lexer": "r",
   "version": "3.3.2"
  }
 },
 "nbformat": 4,
 "nbformat_minor": 1
}
