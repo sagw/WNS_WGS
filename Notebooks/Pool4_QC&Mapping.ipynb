{
 "cells": [
  {
   "cell_type": "code",
   "execution_count": 1,
   "metadata": {
    "collapsed": true
   },
   "outputs": [],
   "source": [
    "!mkdir /local/shared/pinsky_lab/sequencing/hiseq_2017_06_08_SEQ21/"
   ]
  },
  {
   "cell_type": "code",
   "execution_count": null,
   "metadata": {
    "collapsed": true
   },
   "outputs": [],
   "source": [
    "wget -r https://htseq.princeton.edu/tmp/f2Gkd7il3EOrS9K2I/ -P /local/shared/pinsky_lab/sequencing/hiseq_2017_06_08_SEQ21/"
   ]
  },
  {
   "cell_type": "code",
   "execution_count": null,
   "metadata": {
    "collapsed": true
   },
   "outputs": [],
   "source": [
    "mkdir $(awk '{print $1}' /local/home/sarahgw/WGS/Sequences/Pool4/Pool4_Barcodes.txt)"
   ]
  },
  {
   "cell_type": "markdown",
   "metadata": {},
   "source": [
    "Move into directories"
   ]
  },
  {
   "cell_type": "code",
   "execution_count": null,
   "metadata": {
    "collapsed": true
   },
   "outputs": [],
   "source": [
    "for dir in $(ls); do cd $dir; cp /local/shared/pinsky_lab/sequencing/hiseq_2017_06_08_SEQ21/\"$dir\"_Demultiplexed-fastq-fileset-sample-Pool-4-from-flowcell-HKMVTBCXY-on-2017-06-07_Read_1_passed_filter.fastq.gz /local/shared/pinsky_lab/sequencing/hiseq_2017_06_08_SEQ21/\"$dir\"_Demultiplexed-fastq-fileset-sample-Pool-4-from-flowcell-HKMVTBCXY-on-2017-06-07_Read_4_passed_filter.fastq.gz . ; cd ..; done"
   ]
  },
  {
   "cell_type": "markdown",
   "metadata": {},
   "source": [
    "Run bioinfo pipeline from directory"
   ]
  },
  {
   "cell_type": "code",
   "execution_count": null,
   "metadata": {
    "collapsed": true
   },
   "outputs": [],
   "source": [
    "~/Notebooks/WNS_WGS/Bioinfo_pipeline.sh "
   ]
  },
  {
   "cell_type": "markdown",
   "metadata": {},
   "source": [
    "Started 06/12/17 at 9:49 AM Finished o/n 06/14/17"
   ]
  },
  {
   "cell_type": "markdown",
   "metadata": {
    "collapsed": true
   },
   "source": [
    "Accidentally just added metrics onto Pool5 metrics, so last 18 are from pool4"
   ]
  },
  {
   "cell_type": "code",
   "execution_count": 1,
   "metadata": {},
   "outputs": [
    {
     "name": "stdout",
     "output_type": "stream",
     "text": [
      "11656101\r\n",
      "16824534\r\n",
      "17286857\r\n",
      "14360827\r\n",
      "15389811\r\n",
      "17409127\r\n",
      "19307485\r\n",
      "12869482\r\n",
      "6530028\r\n",
      "14290835\r\n",
      "9908658\r\n",
      "13050385\r\n",
      "8779282\r\n",
      "315551\r\n",
      "1104357\r\n",
      "18339095\r\n",
      "21797829\r\n",
      "34866149\r\n"
     ]
    }
   ],
   "source": [
    "!tail -n 18 /local/home/sarahgw/WGS/Sequences/Metrics/Pool5_reads"
   ]
  },
  {
   "cell_type": "markdown",
   "metadata": {},
   "source": [
    "Move zip delete"
   ]
  },
  {
   "cell_type": "code",
   "execution_count": null,
   "metadata": {
    "collapsed": true
   },
   "outputs": [],
   "source": [
    "    rm */*passed_filter.fastq\n",
    "    rm */*FU1.fastq\n",
    "    rm */*FU2.fastq\n",
    "    rm */*trim_p.fastq\n",
    "    rm */*trim_up.fastq\n",
    "    \n",
    "    find . -name \"*.tagged.fastq\" -exec mv -i {} ../Pool4Contaminants/ \\;\n",
    "    for file in $(ls); do tar -zcvf \"$file\".tar.gz \"$file\" ; done\n",
    "    rm *.fastq\n",
    "    mkdir /Scratch/sarahgw/Pool4Contaminants/\n",
    "    mv *.gz /Scratch/sarahgw/Pool4Contaminants/"
   ]
  },
  {
   "cell_type": "markdown",
   "metadata": {},
   "source": [
    "Mapping both paired and unpaired reads"
   ]
  },
  {
   "cell_type": "code",
   "execution_count": null,
   "metadata": {
    "collapsed": true
   },
   "outputs": [],
   "source": [
    "for dir in $(ls); do cd $dir; /local/home/sarahgw/anaconda2/bin/bowtie2 --very-sensitive-local -p 12 -x /local/home/sarahgw/references/Myotis_Lucifugus2.0/MyoLuc_toplevel_index -1 $(pwd)/\"$dir\"_FU1_trim_p.tagged_pfilter.fastq -2 $(pwd)/\"$dir\"_FU2_trim_p.tagged_pfilter.fastq -U $(pwd)/\"$dir\"_FU1_trim_up.tagged_filter.fastq,$(pwd)/\"$dir\"_FU2_trim_up.tagged_filter.fastq -S $(pwd)/\"$dir\"_pairedplus_eg2.sam; cd ..; done"
   ]
  },
  {
   "cell_type": "code",
   "execution_count": null,
   "metadata": {
    "collapsed": true
   },
   "outputs": [],
   "source": [
    "for dir in $(ls); do cd $dir; java -jar /local/home/sarahgw/picard.jar SortSam \\\n",
    "      I=$(pwd)/\"$dir\"_pairedplus_eg2.sam \\\n",
    "      O=$(pwd)/\"$dir\"_pairedplus_eg2_sorted.bam \\\n",
    "      SORT_ORDER=coordinate; cd ..; done"
   ]
  },
  {
   "cell_type": "code",
   "execution_count": null,
   "metadata": {
    "collapsed": true
   },
   "outputs": [],
   "source": [
    "for dir in $(ls); do cd $dir; java -jar /local/home/sarahgw/picard.jar MarkDuplicates \\\n",
    "      I=$(pwd)/\"$dir\"_pairedplus_eg2_sorted.bam \\\n",
    "      O=$(pwd)/\"$dir\"_pairedplus_marked_dupes.bam \\\n",
    "      M=$(pwd)/\"$dir\"_pairedplus_marked_dup_metrics.txt \\\n",
    "      REMOVE_DUPLICATES=true \\\n",
    "      ASSUME_SORT_ORDER=coordinate; cd ..; done "
   ]
  },
  {
   "cell_type": "code",
   "execution_count": null,
   "metadata": {
    "collapsed": true
   },
   "outputs": [],
   "source": []
  },
  {
   "cell_type": "markdown",
   "metadata": {},
   "source": [
    "Calculate coverage"
   ]
  },
  {
   "cell_type": "code",
   "execution_count": null,
   "metadata": {
    "collapsed": true
   },
   "outputs": [],
   "source": [
    "for dir in $(ls); do cd $dir; samtools view -b $(pwd)/\"$dir\"_pairedplus_marked_dupes.bam | genomeCoverageBed -ibam stdin -g /local/home/sarahgw/references/Myotis_Lucifugus2.0/Myoluc_genomeFile.txt>$(pwd)/\"$dir\"_Coverage.txt; cd ..; done"
   ]
  },
  {
   "cell_type": "code",
   "execution_count": null,
   "metadata": {
    "collapsed": true
   },
   "outputs": [],
   "source": [
    "for dir in $(ls); do cd $dir;  sed \"s/$/\\t\"$dir\"/\" \"$dir\"_Coverage.txt > \"$dir\"_Coverage_name.txt ; cd ..; done"
   ]
  },
  {
   "cell_type": "code",
   "execution_count": null,
   "metadata": {
    "collapsed": true
   },
   "outputs": [],
   "source": [
    "cat ./*/*_Coverage_name.txt >> ./Coverage_Pool4.txt"
   ]
  }
 ],
 "metadata": {
  "anaconda-cloud": {},
  "kernelspec": {
   "display_name": "Python 2",
   "language": "python",
   "name": "python2"
  },
  "language_info": {
   "codemirror_mode": {
    "name": "ipython",
    "version": 2
   },
   "file_extension": ".py",
   "mimetype": "text/x-python",
   "name": "python",
   "nbconvert_exporter": "python",
   "pygments_lexer": "ipython2",
   "version": "2.7.13"
  }
 },
 "nbformat": 4,
 "nbformat_minor": 1
}
