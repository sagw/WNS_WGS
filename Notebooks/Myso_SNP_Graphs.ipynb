{
 "cells": [
  {
   "cell_type": "code",
   "execution_count": 1,
   "metadata": {},
   "outputs": [
    {
     "name": "stderr",
     "output_type": "stream",
     "text": [
      "Loading required package: data.table\n",
      "Loading required package: ggplot2\n"
     ]
    }
   ],
   "source": [
    "require(data.table)\n",
    "require(ggplot2)\n",
    "setwd(\"/local/home/sarahgw/WGS/SNPS/Myso/mafs\")"
   ]
  },
  {
   "cell_type": "code",
   "execution_count": 2,
   "metadata": {},
   "outputs": [
    {
     "name": "stdout",
     "output_type": "stream",
     "text": [
      "Read 39195505 rows and 8 (of 8) columns from 1.817 GB file in 00:00:32\n",
      "Read 44257834 rows and 8 (of 8) columns from 2.051 GB file in 00:00:36\n"
     ]
    }
   ],
   "source": [
    "Post_mylu=fread(\"Post_Myso_Mylufilt.mafs\", header=TRUE)\n",
    "Pre_mylu=fread(\"Pre_Myso_Mylufilt.mafs\", header=TRUE)"
   ]
  },
  {
   "cell_type": "code",
   "execution_count": 3,
   "metadata": {
    "collapsed": true
   },
   "outputs": [],
   "source": [
    "colnames(Post_mylu)=c(\"Scaffold\", \"Position\", \"Major\", \"Minor\", \"Maf1_Post\", \"Maf2_Post\", \"Maf3_Post\", \"nInd_Post\")\n",
    "colnames(Pre_mylu)=c(\"Scaffold\", \"Position\", \"Major\", \"Minor\", \"Maf1_Pre\", \"Maf2_Pre\", \"Maf3_Pre\", \"nInd_Pre\")"
   ]
  },
  {
   "cell_type": "code",
   "execution_count": 4,
   "metadata": {},
   "outputs": [
    {
     "data": {
      "text/html": [
       "<table>\n",
       "<thead><tr><th scope=col>Scaffold</th><th scope=col>Position</th><th scope=col>Major</th><th scope=col>Minor</th><th scope=col>Maf1_Post</th><th scope=col>Maf2_Post</th><th scope=col>Maf3_Post</th><th scope=col>nInd_Post</th></tr></thead>\n",
       "<tbody>\n",
       "\t<tr><td>GL429767</td><td> 78     </td><td>G       </td><td>A       </td><td>0.000000</td><td>0.000006</td><td>0.000000</td><td>1       </td></tr>\n",
       "\t<tr><td>GL429767</td><td>195     </td><td>C       </td><td>T       </td><td>0.000000</td><td>0.000006</td><td>0.000000</td><td>2       </td></tr>\n",
       "\t<tr><td>GL429767</td><td>196     </td><td>T       </td><td>C       </td><td>0.000000</td><td>0.000006</td><td>0.000000</td><td>2       </td></tr>\n",
       "\t<tr><td>GL429767</td><td>202     </td><td>A       </td><td>G       </td><td>1.000008</td><td>0.999954</td><td>1.001002</td><td>2       </td></tr>\n",
       "\t<tr><td>GL429767</td><td>295     </td><td>A       </td><td>T       </td><td>0.000000</td><td>0.000006</td><td>0.000000</td><td>2       </td></tr>\n",
       "\t<tr><td>GL429767</td><td>317     </td><td>G       </td><td>A       </td><td>0.000000</td><td>0.000006</td><td>0.000000</td><td>5       </td></tr>\n",
       "</tbody>\n",
       "</table>\n"
      ],
      "text/latex": [
       "\\begin{tabular}{r|llllllll}\n",
       " Scaffold & Position & Major & Minor & Maf1\\_Post & Maf2\\_Post & Maf3\\_Post & nInd\\_Post\\\\\n",
       "\\hline\n",
       "\t GL429767 &  78      & G        & A        & 0.000000 & 0.000006 & 0.000000 & 1       \\\\\n",
       "\t GL429767 & 195      & C        & T        & 0.000000 & 0.000006 & 0.000000 & 2       \\\\\n",
       "\t GL429767 & 196      & T        & C        & 0.000000 & 0.000006 & 0.000000 & 2       \\\\\n",
       "\t GL429767 & 202      & A        & G        & 1.000008 & 0.999954 & 1.001002 & 2       \\\\\n",
       "\t GL429767 & 295      & A        & T        & 0.000000 & 0.000006 & 0.000000 & 2       \\\\\n",
       "\t GL429767 & 317      & G        & A        & 0.000000 & 0.000006 & 0.000000 & 5       \\\\\n",
       "\\end{tabular}\n"
      ],
      "text/markdown": [
       "\n",
       "Scaffold | Position | Major | Minor | Maf1_Post | Maf2_Post | Maf3_Post | nInd_Post | \n",
       "|---|---|---|---|---|---|\n",
       "| GL429767 |  78      | G        | A        | 0.000000 | 0.000006 | 0.000000 | 1        | \n",
       "| GL429767 | 195      | C        | T        | 0.000000 | 0.000006 | 0.000000 | 2        | \n",
       "| GL429767 | 196      | T        | C        | 0.000000 | 0.000006 | 0.000000 | 2        | \n",
       "| GL429767 | 202      | A        | G        | 1.000008 | 0.999954 | 1.001002 | 2        | \n",
       "| GL429767 | 295      | A        | T        | 0.000000 | 0.000006 | 0.000000 | 2        | \n",
       "| GL429767 | 317      | G        | A        | 0.000000 | 0.000006 | 0.000000 | 5        | \n",
       "\n",
       "\n"
      ],
      "text/plain": [
       "  Scaffold Position Major Minor Maf1_Post Maf2_Post Maf3_Post nInd_Post\n",
       "1 GL429767  78      G     A     0.000000  0.000006  0.000000  1        \n",
       "2 GL429767 195      C     T     0.000000  0.000006  0.000000  2        \n",
       "3 GL429767 196      T     C     0.000000  0.000006  0.000000  2        \n",
       "4 GL429767 202      A     G     1.000008  0.999954  1.001002  2        \n",
       "5 GL429767 295      A     T     0.000000  0.000006  0.000000  2        \n",
       "6 GL429767 317      G     A     0.000000  0.000006  0.000000  5        "
      ]
     },
     "metadata": {},
     "output_type": "display_data"
    }
   ],
   "source": [
    "head(Post_mylu)"
   ]
  },
  {
   "cell_type": "code",
   "execution_count": 18,
   "metadata": {
    "collapsed": true
   },
   "outputs": [],
   "source": [
    "All_mylu_myso=merge(Post_mylu, Pre_mylu, by=c(\"Scaffold\", \"Position\", \"Major\", \"Minor\"))"
   ]
  },
  {
   "cell_type": "code",
   "execution_count": 6,
   "metadata": {},
   "outputs": [
    {
     "data": {
      "text/html": [
       "<table>\n",
       "<thead><tr><th scope=col>Scaffold</th><th scope=col>Position</th><th scope=col>Major</th><th scope=col>Minor</th><th scope=col>Maf1_Post</th><th scope=col>Maf2_Post</th><th scope=col>Maf3_Post</th><th scope=col>nInd_Post</th><th scope=col>Maf1_Pre</th><th scope=col>Maf2_Pre</th><th scope=col>Maf3_Pre</th><th scope=col>nInd_Pre</th></tr></thead>\n",
       "<tbody>\n",
       "\t<tr><td>AAPE02055386</td><td> 57060      </td><td>T           </td><td>C           </td><td>0.000000    </td><td>0.000006    </td><td>0.000000    </td><td>1           </td><td>0.000000    </td><td>0.000006    </td><td>0.000000    </td><td>3           </td></tr>\n",
       "\t<tr><td>AAPE02055386</td><td>114518      </td><td>T           </td><td>C           </td><td>1.000008    </td><td>0.999954    </td><td>1.001002    </td><td>1           </td><td>1.000008    </td><td>0.999954    </td><td>1.001002    </td><td>1           </td></tr>\n",
       "\t<tr><td>AAPE02055386</td><td>114530      </td><td>A           </td><td>C           </td><td>1.000008    </td><td>0.999954    </td><td>1.001002    </td><td>1           </td><td>1.000008    </td><td>0.999954    </td><td>1.001002    </td><td>1           </td></tr>\n",
       "\t<tr><td>AAPE02055386</td><td>114533      </td><td>G           </td><td>A           </td><td>0.000000    </td><td>0.000006    </td><td>0.000000    </td><td>1           </td><td>0.000000    </td><td>0.000006    </td><td>0.000000    </td><td>2           </td></tr>\n",
       "\t<tr><td>AAPE02055947</td><td>107428      </td><td>C           </td><td>T           </td><td>0.118078    </td><td>0.116287    </td><td>0.065798    </td><td>6           </td><td>0.000000    </td><td>0.000003    </td><td>0.000000    </td><td>7           </td></tr>\n",
       "\t<tr><td>AAPE02055947</td><td>107430      </td><td>G           </td><td>A           </td><td>0.000000    </td><td>0.000001    </td><td>0.000000    </td><td>6           </td><td>0.000000    </td><td>0.000003    </td><td>0.000000    </td><td>7           </td></tr>\n",
       "</tbody>\n",
       "</table>\n"
      ],
      "text/latex": [
       "\\begin{tabular}{r|llllllllllll}\n",
       " Scaffold & Position & Major & Minor & Maf1\\_Post & Maf2\\_Post & Maf3\\_Post & nInd\\_Post & Maf1\\_Pre & Maf2\\_Pre & Maf3\\_Pre & nInd\\_Pre\\\\\n",
       "\\hline\n",
       "\t AAPE02055386 &  57060       & T            & C            & 0.000000     & 0.000006     & 0.000000     & 1            & 0.000000     & 0.000006     & 0.000000     & 3           \\\\\n",
       "\t AAPE02055386 & 114518       & T            & C            & 1.000008     & 0.999954     & 1.001002     & 1            & 1.000008     & 0.999954     & 1.001002     & 1           \\\\\n",
       "\t AAPE02055386 & 114530       & A            & C            & 1.000008     & 0.999954     & 1.001002     & 1            & 1.000008     & 0.999954     & 1.001002     & 1           \\\\\n",
       "\t AAPE02055386 & 114533       & G            & A            & 0.000000     & 0.000006     & 0.000000     & 1            & 0.000000     & 0.000006     & 0.000000     & 2           \\\\\n",
       "\t AAPE02055947 & 107428       & C            & T            & 0.118078     & 0.116287     & 0.065798     & 6            & 0.000000     & 0.000003     & 0.000000     & 7           \\\\\n",
       "\t AAPE02055947 & 107430       & G            & A            & 0.000000     & 0.000001     & 0.000000     & 6            & 0.000000     & 0.000003     & 0.000000     & 7           \\\\\n",
       "\\end{tabular}\n"
      ],
      "text/markdown": [
       "\n",
       "Scaffold | Position | Major | Minor | Maf1_Post | Maf2_Post | Maf3_Post | nInd_Post | Maf1_Pre | Maf2_Pre | Maf3_Pre | nInd_Pre | \n",
       "|---|---|---|---|---|---|\n",
       "| AAPE02055386 |  57060       | T            | C            | 0.000000     | 0.000006     | 0.000000     | 1            | 0.000000     | 0.000006     | 0.000000     | 3            | \n",
       "| AAPE02055386 | 114518       | T            | C            | 1.000008     | 0.999954     | 1.001002     | 1            | 1.000008     | 0.999954     | 1.001002     | 1            | \n",
       "| AAPE02055386 | 114530       | A            | C            | 1.000008     | 0.999954     | 1.001002     | 1            | 1.000008     | 0.999954     | 1.001002     | 1            | \n",
       "| AAPE02055386 | 114533       | G            | A            | 0.000000     | 0.000006     | 0.000000     | 1            | 0.000000     | 0.000006     | 0.000000     | 2            | \n",
       "| AAPE02055947 | 107428       | C            | T            | 0.118078     | 0.116287     | 0.065798     | 6            | 0.000000     | 0.000003     | 0.000000     | 7            | \n",
       "| AAPE02055947 | 107430       | G            | A            | 0.000000     | 0.000001     | 0.000000     | 6            | 0.000000     | 0.000003     | 0.000000     | 7            | \n",
       "\n",
       "\n"
      ],
      "text/plain": [
       "  Scaffold     Position Major Minor Maf1_Post Maf2_Post Maf3_Post nInd_Post\n",
       "1 AAPE02055386  57060   T     C     0.000000  0.000006  0.000000  1        \n",
       "2 AAPE02055386 114518   T     C     1.000008  0.999954  1.001002  1        \n",
       "3 AAPE02055386 114530   A     C     1.000008  0.999954  1.001002  1        \n",
       "4 AAPE02055386 114533   G     A     0.000000  0.000006  0.000000  1        \n",
       "5 AAPE02055947 107428   C     T     0.118078  0.116287  0.065798  6        \n",
       "6 AAPE02055947 107430   G     A     0.000000  0.000001  0.000000  6        \n",
       "  Maf1_Pre Maf2_Pre Maf3_Pre nInd_Pre\n",
       "1 0.000000 0.000006 0.000000 3       \n",
       "2 1.000008 0.999954 1.001002 1       \n",
       "3 1.000008 0.999954 1.001002 1       \n",
       "4 0.000000 0.000006 0.000000 2       \n",
       "5 0.000000 0.000003 0.000000 7       \n",
       "6 0.000000 0.000003 0.000000 7       "
      ]
     },
     "metadata": {},
     "output_type": "display_data"
    }
   ],
   "source": [
    "head(All_mylu)"
   ]
  },
  {
   "cell_type": "code",
   "execution_count": 6,
   "metadata": {
    "collapsed": true
   },
   "outputs": [],
   "source": [
    "#comPvaluesChrNJNY50sigout=read.csv(\"~/WGS/SNPS/All_mylu/snps/NJNY50noout2_sigCompvaluesNe424_296.csv\", row.names=1)"
   ]
  },
  {
   "cell_type": "code",
   "execution_count": 7,
   "metadata": {
    "collapsed": true
   },
   "outputs": [],
   "source": [
    "mafsNJNY50Sig=read.csv(\"~/WGS/SNPS/All_mylu/snps/njnyeu50SigMafsout.csv\")"
   ]
  },
  {
   "cell_type": "code",
   "execution_count": 8,
   "metadata": {},
   "outputs": [
    {
     "data": {
      "text/html": [
       "<table>\n",
       "<thead><tr><th scope=col>X</th><th scope=col>Scaffold</th><th scope=col>Position</th><th scope=col>Major</th><th scope=col>Minor</th><th scope=col>Maf1_E.NJ</th><th scope=col>Maf2_E.NJ</th><th scope=col>Maf3_E.NJ</th><th scope=col>nInd_E.NJ</th><th scope=col>Maf1_U.NJ</th><th scope=col>⋯</th><th scope=col>Maf3_U.NY</th><th scope=col>nInd_U.NY</th><th scope=col>diff.NY</th><th scope=col>nInd.NY</th><th scope=col>NewScaf</th><th scope=col>NJ_Pval</th><th scope=col>NY_Pval</th><th scope=col>CombinedP</th><th scope=col>rank</th><th scope=col>BH</th></tr></thead>\n",
       "<tbody>\n",
       "\t<tr><td>1             </td><td>GL429767      </td><td>16839644      </td><td>T             </td><td>A             </td><td>0.137273      </td><td>0.047404      </td><td>0.145505      </td><td>10            </td><td>0.665153      </td><td>⋯             </td><td>0.943745      </td><td> 9            </td><td>-0.705524     </td><td>1             </td><td>NW_005871048.1</td><td>8.399992e-05  </td><td>4.969995e-04  </td><td>7.511125e-07  </td><td>81            </td><td>8.330034e-07  </td></tr>\n",
       "\t<tr><td>2             </td><td>GL429767      </td><td>22649683      </td><td>T             </td><td>A             </td><td>0.536439      </td><td>0.536439      </td><td>0.519259      </td><td>14            </td><td>0.063587      </td><td>⋯             </td><td>0.235426      </td><td>12            </td><td> 0.603049     </td><td>2             </td><td>NW_005871048.1</td><td>6.589993e-04  </td><td>4.999995e-06  </td><td>6.764905e-08  </td><td>32            </td><td>3.290878e-07  </td></tr>\n",
       "\t<tr><td>3             </td><td>GL429767      </td><td>38456248      </td><td>T             </td><td>C             </td><td>0.714101      </td><td>0.714099      </td><td>0.741579      </td><td>13            </td><td>0.098380      </td><td>⋯             </td><td>0.042049      </td><td>11            </td><td> 0.533519     </td><td>2             </td><td>NW_005871048.1</td><td>2.899997e-05  </td><td>1.383999e-03  </td><td>7.236905e-07  </td><td>80            </td><td>8.227194e-07  </td></tr>\n",
       "\t<tr><td>4             </td><td>GL429767      </td><td> 4550108      </td><td>T             </td><td>C             </td><td>0.234004      </td><td>0.234005      </td><td>0.251118      </td><td>14            </td><td>0.783170      </td><td>⋯             </td><td>0.656050      </td><td>13            </td><td>-0.526435     </td><td>2             </td><td>NW_005871048.1</td><td>1.699998e-04  </td><td>7.899992e-05  </td><td>2.568587e-07  </td><td>59            </td><td>6.067556e-07  </td></tr>\n",
       "\t<tr><td>5             </td><td>GL429767      </td><td>46534125      </td><td>C             </td><td>T             </td><td>0.140358      </td><td>0.140358      </td><td>0.159855      </td><td>15            </td><td>0.750253      </td><td>⋯             </td><td>0.567234      </td><td>15            </td><td>-0.574613     </td><td>5             </td><td>NW_005871048.1</td><td>6.699993e-05  </td><td>9.999990e-07  </td><td>1.636561e-09  </td><td>10            </td><td>1.028399e-07  </td></tr>\n",
       "\t<tr><td>6             </td><td>GL429767      </td><td>51542790      </td><td>G             </td><td>T             </td><td>0.719369      </td><td>0.719370      </td><td>0.681925      </td><td>15            </td><td>0.188053      </td><td>⋯             </td><td>0.075654      </td><td>13            </td><td> 0.654775     </td><td>2             </td><td>NW_005871048.1</td><td>1.017999e-03  </td><td>3.999996e-06  </td><td>8.273935e-08  </td><td>36            </td><td>3.702237e-07  </td></tr>\n",
       "</tbody>\n",
       "</table>\n"
      ],
      "text/latex": [
       "\\begin{tabular}{r|lllllllllllllllllllllllllllllll}\n",
       " X & Scaffold & Position & Major & Minor & Maf1\\_E.NJ & Maf2\\_E.NJ & Maf3\\_E.NJ & nInd\\_E.NJ & Maf1\\_U.NJ & ⋯ & Maf3\\_U.NY & nInd\\_U.NY & diff.NY & nInd.NY & NewScaf & NJ\\_Pval & NY\\_Pval & CombinedP & rank & BH\\\\\n",
       "\\hline\n",
       "\t 1                & GL429767         & 16839644         & T                & A                & 0.137273         & 0.047404         & 0.145505         & 10               & 0.665153         & ⋯                & 0.943745         &  9               & -0.705524        & 1                & NW\\_005871048.1 & 8.399992e-05     & 4.969995e-04     & 7.511125e-07     & 81               & 8.330034e-07    \\\\\n",
       "\t 2                & GL429767         & 22649683         & T                & A                & 0.536439         & 0.536439         & 0.519259         & 14               & 0.063587         & ⋯                & 0.235426         & 12               &  0.603049        & 2                & NW\\_005871048.1 & 6.589993e-04     & 4.999995e-06     & 6.764905e-08     & 32               & 3.290878e-07    \\\\\n",
       "\t 3                & GL429767         & 38456248         & T                & C                & 0.714101         & 0.714099         & 0.741579         & 13               & 0.098380         & ⋯                & 0.042049         & 11               &  0.533519        & 2                & NW\\_005871048.1 & 2.899997e-05     & 1.383999e-03     & 7.236905e-07     & 80               & 8.227194e-07    \\\\\n",
       "\t 4                & GL429767         &  4550108         & T                & C                & 0.234004         & 0.234005         & 0.251118         & 14               & 0.783170         & ⋯                & 0.656050         & 13               & -0.526435        & 2                & NW\\_005871048.1 & 1.699998e-04     & 7.899992e-05     & 2.568587e-07     & 59               & 6.067556e-07    \\\\\n",
       "\t 5                & GL429767         & 46534125         & C                & T                & 0.140358         & 0.140358         & 0.159855         & 15               & 0.750253         & ⋯                & 0.567234         & 15               & -0.574613        & 5                & NW\\_005871048.1 & 6.699993e-05     & 9.999990e-07     & 1.636561e-09     & 10               & 1.028399e-07    \\\\\n",
       "\t 6                & GL429767         & 51542790         & G                & T                & 0.719369         & 0.719370         & 0.681925         & 15               & 0.188053         & ⋯                & 0.075654         & 13               &  0.654775        & 2                & NW\\_005871048.1 & 1.017999e-03     & 3.999996e-06     & 8.273935e-08     & 36               & 3.702237e-07    \\\\\n",
       "\\end{tabular}\n"
      ],
      "text/markdown": [
       "\n",
       "X | Scaffold | Position | Major | Minor | Maf1_E.NJ | Maf2_E.NJ | Maf3_E.NJ | nInd_E.NJ | Maf1_U.NJ | ⋯ | Maf3_U.NY | nInd_U.NY | diff.NY | nInd.NY | NewScaf | NJ_Pval | NY_Pval | CombinedP | rank | BH | \n",
       "|---|---|---|---|---|---|\n",
       "| 1              | GL429767       | 16839644       | T              | A              | 0.137273       | 0.047404       | 0.145505       | 10             | 0.665153       | ⋯              | 0.943745       |  9             | -0.705524      | 1              | NW_005871048.1 | 8.399992e-05   | 4.969995e-04   | 7.511125e-07   | 81             | 8.330034e-07   | \n",
       "| 2              | GL429767       | 22649683       | T              | A              | 0.536439       | 0.536439       | 0.519259       | 14             | 0.063587       | ⋯              | 0.235426       | 12             |  0.603049      | 2              | NW_005871048.1 | 6.589993e-04   | 4.999995e-06   | 6.764905e-08   | 32             | 3.290878e-07   | \n",
       "| 3              | GL429767       | 38456248       | T              | C              | 0.714101       | 0.714099       | 0.741579       | 13             | 0.098380       | ⋯              | 0.042049       | 11             |  0.533519      | 2              | NW_005871048.1 | 2.899997e-05   | 1.383999e-03   | 7.236905e-07   | 80             | 8.227194e-07   | \n",
       "| 4              | GL429767       |  4550108       | T              | C              | 0.234004       | 0.234005       | 0.251118       | 14             | 0.783170       | ⋯              | 0.656050       | 13             | -0.526435      | 2              | NW_005871048.1 | 1.699998e-04   | 7.899992e-05   | 2.568587e-07   | 59             | 6.067556e-07   | \n",
       "| 5              | GL429767       | 46534125       | C              | T              | 0.140358       | 0.140358       | 0.159855       | 15             | 0.750253       | ⋯              | 0.567234       | 15             | -0.574613      | 5              | NW_005871048.1 | 6.699993e-05   | 9.999990e-07   | 1.636561e-09   | 10             | 1.028399e-07   | \n",
       "| 6              | GL429767       | 51542790       | G              | T              | 0.719369       | 0.719370       | 0.681925       | 15             | 0.188053       | ⋯              | 0.075654       | 13             |  0.654775      | 2              | NW_005871048.1 | 1.017999e-03   | 3.999996e-06   | 8.273935e-08   | 36             | 3.702237e-07   | \n",
       "\n",
       "\n"
      ],
      "text/plain": [
       "  X Scaffold Position Major Minor Maf1_E.NJ Maf2_E.NJ Maf3_E.NJ nInd_E.NJ\n",
       "1 1 GL429767 16839644 T     A     0.137273  0.047404  0.145505  10       \n",
       "2 2 GL429767 22649683 T     A     0.536439  0.536439  0.519259  14       \n",
       "3 3 GL429767 38456248 T     C     0.714101  0.714099  0.741579  13       \n",
       "4 4 GL429767  4550108 T     C     0.234004  0.234005  0.251118  14       \n",
       "5 5 GL429767 46534125 C     T     0.140358  0.140358  0.159855  15       \n",
       "6 6 GL429767 51542790 G     T     0.719369  0.719370  0.681925  15       \n",
       "  Maf1_U.NJ ⋯ Maf3_U.NY nInd_U.NY diff.NY   nInd.NY NewScaf        NJ_Pval     \n",
       "1 0.665153  ⋯ 0.943745   9        -0.705524 1       NW_005871048.1 8.399992e-05\n",
       "2 0.063587  ⋯ 0.235426  12         0.603049 2       NW_005871048.1 6.589993e-04\n",
       "3 0.098380  ⋯ 0.042049  11         0.533519 2       NW_005871048.1 2.899997e-05\n",
       "4 0.783170  ⋯ 0.656050  13        -0.526435 2       NW_005871048.1 1.699998e-04\n",
       "5 0.750253  ⋯ 0.567234  15        -0.574613 5       NW_005871048.1 6.699993e-05\n",
       "6 0.188053  ⋯ 0.075654  13         0.654775 2       NW_005871048.1 1.017999e-03\n",
       "  NY_Pval      CombinedP    rank BH          \n",
       "1 4.969995e-04 7.511125e-07 81   8.330034e-07\n",
       "2 4.999995e-06 6.764905e-08 32   3.290878e-07\n",
       "3 1.383999e-03 7.236905e-07 80   8.227194e-07\n",
       "4 7.899992e-05 2.568587e-07 59   6.067556e-07\n",
       "5 9.999990e-07 1.636561e-09 10   1.028399e-07\n",
       "6 3.999996e-06 8.273935e-08 36   3.702237e-07"
      ]
     },
     "metadata": {},
     "output_type": "display_data"
    }
   ],
   "source": [
    "head(mafsNJNY50Sig)"
   ]
  },
  {
   "cell_type": "code",
   "execution_count": 19,
   "metadata": {
    "collapsed": true
   },
   "outputs": [],
   "source": [
    "All_mylu_mysosig=merge(All_mylu, mafsNJNY50Sig, by=c(\"Scaffold\", \"Position\"))"
   ]
  },
  {
   "cell_type": "code",
   "execution_count": 21,
   "metadata": {
    "collapsed": true
   },
   "outputs": [],
   "source": [
    "All_mylu_mysosig$diff_myso=All_mylu_mysosig$Maf1_Post-All_mylu_mysosig$Maf1_Pre"
   ]
  },
  {
   "cell_type": "code",
   "execution_count": 10,
   "metadata": {
    "collapsed": true
   },
   "outputs": [],
   "source": [
    "#All_mylusig_4=All_mylusig[All_mylusig$nInd_Post>3 & All_mylusig$nInd_Pre>3,]"
   ]
  },
  {
   "cell_type": "code",
   "execution_count": 12,
   "metadata": {
    "collapsed": true
   },
   "outputs": [],
   "source": [
    "All_mylu_mysopos=All_mylusig[All_mylusig$diff_myso>0 & All_mylusig$diff.NY>0,]\n",
    "All_mylu_mysoneg=All_mylusig[All_mylusig$diff_myso<0 & All_mylusig$diff.NY<0,]"
   ]
  },
  {
   "cell_type": "code",
   "execution_count": 66,
   "metadata": {
    "collapsed": true
   },
   "outputs": [],
   "source": [
    "All_mylu_mysomaj=All_mylu_mysosig[All_mylu_mysosig$Maf1_Post<0.5 & All_mylu_mysosig$diff.NY<0,]\n",
    "All_mylu_mysomin=All_mylu_mysosig[All_mylu_mysosig$Maf1_Post>0.5 & All_mylu_mysosig$diff.NY>0,]"
   ]
  },
  {
   "cell_type": "code",
   "execution_count": 67,
   "metadata": {},
   "outputs": [
    {
     "data": {
      "text/html": [
       "<table>\n",
       "<thead><tr><th scope=col>Scaffold</th><th scope=col>Position</th><th scope=col>Major.x</th><th scope=col>Minor.x</th><th scope=col>Maf1_Post</th><th scope=col>Maf2_Post</th><th scope=col>Maf3_Post</th><th scope=col>nInd_Post</th><th scope=col>Maf1_Pre</th><th scope=col>Maf2_Pre</th><th scope=col>⋯</th><th scope=col>NY_Pval</th><th scope=col>CombinedP</th><th scope=col>rank</th><th scope=col>BH</th><th scope=col>diff_myso</th><th scope=col>Allele</th><th scope=col>Freq.NJ</th><th scope=col>Freq.NY</th><th scope=col>Freq.SO</th><th scope=col>BPCum</th></tr></thead>\n",
       "<tbody>\n",
       "\t<tr><td>GL429767    </td><td>38456248    </td><td>T           </td><td>C           </td><td>0.666710    </td><td>0.399978    </td><td>0.667001    </td><td>3           </td><td>0.459748    </td><td>0.214584    </td><td>⋯           </td><td>1.383999e-03</td><td>7.236905e-07</td><td>80          </td><td>8.227194e-07</td><td> 0.206962   </td><td>C           </td><td>0.714101    </td><td>0.533540    </td><td>0.666710    </td><td>3           </td></tr>\n",
       "\t<tr><td>GL429767    </td><td>51542790    </td><td>G           </td><td>T           </td><td>1.000005    </td><td>0.452893    </td><td>1.001002    </td><td>3           </td><td>1.000002    </td><td>0.999787    </td><td>⋯           </td><td>3.999996e-06</td><td>8.273935e-08</td><td>36          </td><td>3.702237e-07</td><td> 0.000003   </td><td>T           </td><td>0.719369    </td><td>0.672139    </td><td>1.000005    </td><td>5           </td></tr>\n",
       "\t<tr><td>GL429767    </td><td>51542832    </td><td>G           </td><td>A           </td><td>1.000005    </td><td>0.452893    </td><td>1.001002    </td><td>3           </td><td>1.000003    </td><td>0.999998    </td><td>⋯           </td><td>2.539997e-04</td><td>5.865785e-09</td><td>15          </td><td>1.542599e-07</td><td> 0.000002   </td><td>A           </td><td>0.712276    </td><td>0.729278    </td><td>1.000005    </td><td>6           </td></tr>\n",
       "\t<tr><td>GL429768    </td><td>29962249    </td><td>A           </td><td>G           </td><td>0.600992    </td><td>0.305758    </td><td>0.608913    </td><td>4           </td><td>0.798076    </td><td>0.798074    </td><td>⋯           </td><td>5.241995e-03</td><td>1.051887e-07</td><td>38          </td><td>3.907917e-07</td><td>-0.197084   </td><td>G           </td><td>0.659928    </td><td>0.636289    </td><td>0.600992    </td><td>9           </td></tr>\n",
       "\t<tr><td>GL429773    </td><td> 7204887    </td><td>C           </td><td>T           </td><td>1.000008    </td><td>0.999954    </td><td>1.001002    </td><td>2           </td><td>1.000005    </td><td>0.999998    </td><td>⋯           </td><td>4.671095e-02</td><td>8.351578e-07</td><td>84          </td><td>8.638554e-07</td><td> 0.000003   </td><td>T           </td><td>0.812410    </td><td>0.883925    </td><td>1.000008    </td><td>12          </td></tr>\n",
       "\t<tr><td>GL429783    </td><td>  665407    </td><td>C           </td><td>T           </td><td>0.666715    </td><td>0.399991    </td><td>0.667001    </td><td>3           </td><td>0.841646    </td><td>0.309023    </td><td>⋯           </td><td>3.521596e-02</td><td>6.395835e-07</td><td>75          </td><td>7.712994e-07</td><td>-0.174931   </td><td>T           </td><td>0.801063    </td><td>0.811486    </td><td>0.666715    </td><td>16          </td></tr>\n",
       "</tbody>\n",
       "</table>\n"
      ],
      "text/latex": [
       "\\begin{tabular}{r|lllllllllllllllllllllllllllllllllllllllllllllll}\n",
       " Scaffold & Position & Major.x & Minor.x & Maf1\\_Post & Maf2\\_Post & Maf3\\_Post & nInd\\_Post & Maf1\\_Pre & Maf2\\_Pre & ⋯ & NY\\_Pval & CombinedP & rank & BH & diff\\_myso & Allele & Freq.NJ & Freq.NY & Freq.SO & BPCum\\\\\n",
       "\\hline\n",
       "\t GL429767     & 38456248     & T            & C            & 0.666710     & 0.399978     & 0.667001     & 3            & 0.459748     & 0.214584     & ⋯            & 1.383999e-03 & 7.236905e-07 & 80           & 8.227194e-07 &  0.206962    & C            & 0.714101     & 0.533540     & 0.666710     & 3           \\\\\n",
       "\t GL429767     & 51542790     & G            & T            & 1.000005     & 0.452893     & 1.001002     & 3            & 1.000002     & 0.999787     & ⋯            & 3.999996e-06 & 8.273935e-08 & 36           & 3.702237e-07 &  0.000003    & T            & 0.719369     & 0.672139     & 1.000005     & 5           \\\\\n",
       "\t GL429767     & 51542832     & G            & A            & 1.000005     & 0.452893     & 1.001002     & 3            & 1.000003     & 0.999998     & ⋯            & 2.539997e-04 & 5.865785e-09 & 15           & 1.542599e-07 &  0.000002    & A            & 0.712276     & 0.729278     & 1.000005     & 6           \\\\\n",
       "\t GL429768     & 29962249     & A            & G            & 0.600992     & 0.305758     & 0.608913     & 4            & 0.798076     & 0.798074     & ⋯            & 5.241995e-03 & 1.051887e-07 & 38           & 3.907917e-07 & -0.197084    & G            & 0.659928     & 0.636289     & 0.600992     & 9           \\\\\n",
       "\t GL429773     &  7204887     & C            & T            & 1.000008     & 0.999954     & 1.001002     & 2            & 1.000005     & 0.999998     & ⋯            & 4.671095e-02 & 8.351578e-07 & 84           & 8.638554e-07 &  0.000003    & T            & 0.812410     & 0.883925     & 1.000008     & 12          \\\\\n",
       "\t GL429783     &   665407     & C            & T            & 0.666715     & 0.399991     & 0.667001     & 3            & 0.841646     & 0.309023     & ⋯            & 3.521596e-02 & 6.395835e-07 & 75           & 7.712994e-07 & -0.174931    & T            & 0.801063     & 0.811486     & 0.666715     & 16          \\\\\n",
       "\\end{tabular}\n"
      ],
      "text/markdown": [
       "\n",
       "Scaffold | Position | Major.x | Minor.x | Maf1_Post | Maf2_Post | Maf3_Post | nInd_Post | Maf1_Pre | Maf2_Pre | ⋯ | NY_Pval | CombinedP | rank | BH | diff_myso | Allele | Freq.NJ | Freq.NY | Freq.SO | BPCum | \n",
       "|---|---|---|---|---|---|\n",
       "| GL429767     | 38456248     | T            | C            | 0.666710     | 0.399978     | 0.667001     | 3            | 0.459748     | 0.214584     | ⋯            | 1.383999e-03 | 7.236905e-07 | 80           | 8.227194e-07 |  0.206962    | C            | 0.714101     | 0.533540     | 0.666710     | 3            | \n",
       "| GL429767     | 51542790     | G            | T            | 1.000005     | 0.452893     | 1.001002     | 3            | 1.000002     | 0.999787     | ⋯            | 3.999996e-06 | 8.273935e-08 | 36           | 3.702237e-07 |  0.000003    | T            | 0.719369     | 0.672139     | 1.000005     | 5            | \n",
       "| GL429767     | 51542832     | G            | A            | 1.000005     | 0.452893     | 1.001002     | 3            | 1.000003     | 0.999998     | ⋯            | 2.539997e-04 | 5.865785e-09 | 15           | 1.542599e-07 |  0.000002    | A            | 0.712276     | 0.729278     | 1.000005     | 6            | \n",
       "| GL429768     | 29962249     | A            | G            | 0.600992     | 0.305758     | 0.608913     | 4            | 0.798076     | 0.798074     | ⋯            | 5.241995e-03 | 1.051887e-07 | 38           | 3.907917e-07 | -0.197084    | G            | 0.659928     | 0.636289     | 0.600992     | 9            | \n",
       "| GL429773     |  7204887     | C            | T            | 1.000008     | 0.999954     | 1.001002     | 2            | 1.000005     | 0.999998     | ⋯            | 4.671095e-02 | 8.351578e-07 | 84           | 8.638554e-07 |  0.000003    | T            | 0.812410     | 0.883925     | 1.000008     | 12           | \n",
       "| GL429783     |   665407     | C            | T            | 0.666715     | 0.399991     | 0.667001     | 3            | 0.841646     | 0.309023     | ⋯            | 3.521596e-02 | 6.395835e-07 | 75           | 7.712994e-07 | -0.174931    | T            | 0.801063     | 0.811486     | 0.666715     | 16           | \n",
       "\n",
       "\n"
      ],
      "text/plain": [
       "  Scaffold Position Major.x Minor.x Maf1_Post Maf2_Post Maf3_Post nInd_Post\n",
       "1 GL429767 38456248 T       C       0.666710  0.399978  0.667001  3        \n",
       "2 GL429767 51542790 G       T       1.000005  0.452893  1.001002  3        \n",
       "3 GL429767 51542832 G       A       1.000005  0.452893  1.001002  3        \n",
       "4 GL429768 29962249 A       G       0.600992  0.305758  0.608913  4        \n",
       "5 GL429773  7204887 C       T       1.000008  0.999954  1.001002  2        \n",
       "6 GL429783   665407 C       T       0.666715  0.399991  0.667001  3        \n",
       "  Maf1_Pre Maf2_Pre ⋯ NY_Pval      CombinedP    rank BH           diff_myso\n",
       "1 0.459748 0.214584 ⋯ 1.383999e-03 7.236905e-07 80   8.227194e-07  0.206962\n",
       "2 1.000002 0.999787 ⋯ 3.999996e-06 8.273935e-08 36   3.702237e-07  0.000003\n",
       "3 1.000003 0.999998 ⋯ 2.539997e-04 5.865785e-09 15   1.542599e-07  0.000002\n",
       "4 0.798076 0.798074 ⋯ 5.241995e-03 1.051887e-07 38   3.907917e-07 -0.197084\n",
       "5 1.000005 0.999998 ⋯ 4.671095e-02 8.351578e-07 84   8.638554e-07  0.000003\n",
       "6 0.841646 0.309023 ⋯ 3.521596e-02 6.395835e-07 75   7.712994e-07 -0.174931\n",
       "  Allele Freq.NJ  Freq.NY  Freq.SO  BPCum\n",
       "1 C      0.714101 0.533540 0.666710 3    \n",
       "2 T      0.719369 0.672139 1.000005 5    \n",
       "3 A      0.712276 0.729278 1.000005 6    \n",
       "4 G      0.659928 0.636289 0.600992 9    \n",
       "5 T      0.812410 0.883925 1.000008 12   \n",
       "6 T      0.801063 0.811486 0.666715 16   "
      ]
     },
     "metadata": {},
     "output_type": "display_data"
    }
   ],
   "source": [
    "head(All_mylu_mysomin)"
   ]
  },
  {
   "cell_type": "code",
   "execution_count": 51,
   "metadata": {},
   "outputs": [],
   "source": [
    "All_mylu_myso_close=rbind(All_mylu_mysomaj, All_mylu_mysomin)"
   ]
  },
  {
   "cell_type": "code",
   "execution_count": 42,
   "metadata": {
    "collapsed": true
   },
   "outputs": [],
   "source": [
    "All_mylu_mysosig$Allele=ifelse(All_mylu_mysosig$diff.NY<0, All_mylu_mysosig$Major.x, All_mylu_mysosig$Minor.x)\n",
    "All_mylu_mysosig$Freq.NJ=ifelse(All_mylu_mysosig$diff.NJ<0, 1-All_mylu_mysosig$Maf1_E.NJ, All_mylu_mysosig$Maf1_E.NJ)\n",
    "All_mylu_mysosig$Freq.NY=ifelse(All_mylu_mysosig$diff.NY<0, 1-All_mylu_mysosig$Maf1_E.NY, All_mylu_mysosig$Maf1_E.NY)\n",
    "All_mylu_mysosig$Freq.SO=ifelse(All_mylu_mysosig$diff.NJ<0, 1-All_mylu_mysosig$Maf1_Post, All_mylu_mysosig$Maf1_Post)\n"
   ]
  },
  {
   "cell_type": "code",
   "execution_count": 43,
   "metadata": {},
   "outputs": [
    {
     "data": {
      "text/html": [
       "<table>\n",
       "<thead><tr><th scope=col>Scaffold</th><th scope=col>Position</th><th scope=col>Major.x</th><th scope=col>Minor.x</th><th scope=col>Maf1_Post</th><th scope=col>Maf2_Post</th><th scope=col>Maf3_Post</th><th scope=col>nInd_Post</th><th scope=col>Maf1_Pre</th><th scope=col>Maf2_Pre</th><th scope=col>⋯</th><th scope=col>NY_Pval</th><th scope=col>CombinedP</th><th scope=col>rank</th><th scope=col>BH</th><th scope=col>diff_myso</th><th scope=col>Allele</th><th scope=col>Freq.NJ</th><th scope=col>Freq.NY</th><th scope=col>Freq.SO</th><th scope=col>BPCum</th></tr></thead>\n",
       "<tbody>\n",
       "\t<tr><td>GL429767    </td><td> 4550108    </td><td>T           </td><td>C           </td><td>1.000003    </td><td>0.361570    </td><td>1.001002    </td><td>2           </td><td>1.000002    </td><td>0.999997    </td><td>⋯           </td><td>7.899992e-05</td><td>2.568587e-07</td><td>59          </td><td>6.067556e-07</td><td>0.000001    </td><td>T           </td><td>0.765996    </td><td>0.867151    </td><td>-0.000003   </td><td>1           </td></tr>\n",
       "\t<tr><td>GL429767    </td><td>22649683    </td><td>T           </td><td>A           </td><td>0.000000    </td><td>0.000003    </td><td>0.000000    </td><td>3           </td><td>0.000000    </td><td>0.000004    </td><td>⋯           </td><td>4.999995e-06</td><td>6.764905e-08</td><td>32          </td><td>3.290878e-07</td><td>0.000000    </td><td>A           </td><td>0.536439    </td><td>0.860211    </td><td> 0.000000   </td><td>2           </td></tr>\n",
       "\t<tr><td>GL429767    </td><td>38456248    </td><td>T           </td><td>C           </td><td>0.666710    </td><td>0.399978    </td><td>0.667001    </td><td>3           </td><td>0.459748    </td><td>0.214584    </td><td>⋯           </td><td>1.383999e-03</td><td>7.236905e-07</td><td>80          </td><td>8.227194e-07</td><td>0.206962    </td><td>C           </td><td>0.714101    </td><td>0.533540    </td><td> 0.666710   </td><td>3           </td></tr>\n",
       "\t<tr><td>GL429767    </td><td>46534125    </td><td>C           </td><td>T           </td><td>0.000000    </td><td>0.000006    </td><td>0.000000    </td><td>2           </td><td>0.000000    </td><td>0.000003    </td><td>⋯           </td><td>9.999990e-07</td><td>1.636561e-09</td><td>10          </td><td>1.028399e-07</td><td>0.000000    </td><td>C           </td><td>0.859642    </td><td>1.000000    </td><td> 1.000000   </td><td>4           </td></tr>\n",
       "\t<tr><td>GL429767    </td><td>51542790    </td><td>G           </td><td>T           </td><td>1.000005    </td><td>0.452893    </td><td>1.001002    </td><td>3           </td><td>1.000002    </td><td>0.999787    </td><td>⋯           </td><td>3.999996e-06</td><td>8.273935e-08</td><td>36          </td><td>3.702237e-07</td><td>0.000003    </td><td>T           </td><td>0.719369    </td><td>0.672139    </td><td> 1.000005   </td><td>5           </td></tr>\n",
       "\t<tr><td>GL429767    </td><td>51542832    </td><td>G           </td><td>A           </td><td>1.000005    </td><td>0.452893    </td><td>1.001002    </td><td>3           </td><td>1.000003    </td><td>0.999998    </td><td>⋯           </td><td>2.539997e-04</td><td>5.865785e-09</td><td>15          </td><td>1.542599e-07</td><td>0.000002    </td><td>A           </td><td>0.712276    </td><td>0.729278    </td><td> 1.000005   </td><td>6           </td></tr>\n",
       "</tbody>\n",
       "</table>\n"
      ],
      "text/latex": [
       "\\begin{tabular}{r|lllllllllllllllllllllllllllllllllllllllllllllll}\n",
       " Scaffold & Position & Major.x & Minor.x & Maf1\\_Post & Maf2\\_Post & Maf3\\_Post & nInd\\_Post & Maf1\\_Pre & Maf2\\_Pre & ⋯ & NY\\_Pval & CombinedP & rank & BH & diff\\_myso & Allele & Freq.NJ & Freq.NY & Freq.SO & BPCum\\\\\n",
       "\\hline\n",
       "\t GL429767     &  4550108     & T            & C            & 1.000003     & 0.361570     & 1.001002     & 2            & 1.000002     & 0.999997     & ⋯            & 7.899992e-05 & 2.568587e-07 & 59           & 6.067556e-07 & 0.000001     & T            & 0.765996     & 0.867151     & -0.000003    & 1           \\\\\n",
       "\t GL429767     & 22649683     & T            & A            & 0.000000     & 0.000003     & 0.000000     & 3            & 0.000000     & 0.000004     & ⋯            & 4.999995e-06 & 6.764905e-08 & 32           & 3.290878e-07 & 0.000000     & A            & 0.536439     & 0.860211     &  0.000000    & 2           \\\\\n",
       "\t GL429767     & 38456248     & T            & C            & 0.666710     & 0.399978     & 0.667001     & 3            & 0.459748     & 0.214584     & ⋯            & 1.383999e-03 & 7.236905e-07 & 80           & 8.227194e-07 & 0.206962     & C            & 0.714101     & 0.533540     &  0.666710    & 3           \\\\\n",
       "\t GL429767     & 46534125     & C            & T            & 0.000000     & 0.000006     & 0.000000     & 2            & 0.000000     & 0.000003     & ⋯            & 9.999990e-07 & 1.636561e-09 & 10           & 1.028399e-07 & 0.000000     & C            & 0.859642     & 1.000000     &  1.000000    & 4           \\\\\n",
       "\t GL429767     & 51542790     & G            & T            & 1.000005     & 0.452893     & 1.001002     & 3            & 1.000002     & 0.999787     & ⋯            & 3.999996e-06 & 8.273935e-08 & 36           & 3.702237e-07 & 0.000003     & T            & 0.719369     & 0.672139     &  1.000005    & 5           \\\\\n",
       "\t GL429767     & 51542832     & G            & A            & 1.000005     & 0.452893     & 1.001002     & 3            & 1.000003     & 0.999998     & ⋯            & 2.539997e-04 & 5.865785e-09 & 15           & 1.542599e-07 & 0.000002     & A            & 0.712276     & 0.729278     &  1.000005    & 6           \\\\\n",
       "\\end{tabular}\n"
      ],
      "text/markdown": [
       "\n",
       "Scaffold | Position | Major.x | Minor.x | Maf1_Post | Maf2_Post | Maf3_Post | nInd_Post | Maf1_Pre | Maf2_Pre | ⋯ | NY_Pval | CombinedP | rank | BH | diff_myso | Allele | Freq.NJ | Freq.NY | Freq.SO | BPCum | \n",
       "|---|---|---|---|---|---|\n",
       "| GL429767     |  4550108     | T            | C            | 1.000003     | 0.361570     | 1.001002     | 2            | 1.000002     | 0.999997     | ⋯            | 7.899992e-05 | 2.568587e-07 | 59           | 6.067556e-07 | 0.000001     | T            | 0.765996     | 0.867151     | -0.000003    | 1            | \n",
       "| GL429767     | 22649683     | T            | A            | 0.000000     | 0.000003     | 0.000000     | 3            | 0.000000     | 0.000004     | ⋯            | 4.999995e-06 | 6.764905e-08 | 32           | 3.290878e-07 | 0.000000     | A            | 0.536439     | 0.860211     |  0.000000    | 2            | \n",
       "| GL429767     | 38456248     | T            | C            | 0.666710     | 0.399978     | 0.667001     | 3            | 0.459748     | 0.214584     | ⋯            | 1.383999e-03 | 7.236905e-07 | 80           | 8.227194e-07 | 0.206962     | C            | 0.714101     | 0.533540     |  0.666710    | 3            | \n",
       "| GL429767     | 46534125     | C            | T            | 0.000000     | 0.000006     | 0.000000     | 2            | 0.000000     | 0.000003     | ⋯            | 9.999990e-07 | 1.636561e-09 | 10           | 1.028399e-07 | 0.000000     | C            | 0.859642     | 1.000000     |  1.000000    | 4            | \n",
       "| GL429767     | 51542790     | G            | T            | 1.000005     | 0.452893     | 1.001002     | 3            | 1.000002     | 0.999787     | ⋯            | 3.999996e-06 | 8.273935e-08 | 36           | 3.702237e-07 | 0.000003     | T            | 0.719369     | 0.672139     |  1.000005    | 5            | \n",
       "| GL429767     | 51542832     | G            | A            | 1.000005     | 0.452893     | 1.001002     | 3            | 1.000003     | 0.999998     | ⋯            | 2.539997e-04 | 5.865785e-09 | 15           | 1.542599e-07 | 0.000002     | A            | 0.712276     | 0.729278     |  1.000005    | 6            | \n",
       "\n",
       "\n"
      ],
      "text/plain": [
       "  Scaffold Position Major.x Minor.x Maf1_Post Maf2_Post Maf3_Post nInd_Post\n",
       "1 GL429767  4550108 T       C       1.000003  0.361570  1.001002  2        \n",
       "2 GL429767 22649683 T       A       0.000000  0.000003  0.000000  3        \n",
       "3 GL429767 38456248 T       C       0.666710  0.399978  0.667001  3        \n",
       "4 GL429767 46534125 C       T       0.000000  0.000006  0.000000  2        \n",
       "5 GL429767 51542790 G       T       1.000005  0.452893  1.001002  3        \n",
       "6 GL429767 51542832 G       A       1.000005  0.452893  1.001002  3        \n",
       "  Maf1_Pre Maf2_Pre ⋯ NY_Pval      CombinedP    rank BH           diff_myso\n",
       "1 1.000002 0.999997 ⋯ 7.899992e-05 2.568587e-07 59   6.067556e-07 0.000001 \n",
       "2 0.000000 0.000004 ⋯ 4.999995e-06 6.764905e-08 32   3.290878e-07 0.000000 \n",
       "3 0.459748 0.214584 ⋯ 1.383999e-03 7.236905e-07 80   8.227194e-07 0.206962 \n",
       "4 0.000000 0.000003 ⋯ 9.999990e-07 1.636561e-09 10   1.028399e-07 0.000000 \n",
       "5 1.000002 0.999787 ⋯ 3.999996e-06 8.273935e-08 36   3.702237e-07 0.000003 \n",
       "6 1.000003 0.999998 ⋯ 2.539997e-04 5.865785e-09 15   1.542599e-07 0.000002 \n",
       "  Allele Freq.NJ  Freq.NY  Freq.SO   BPCum\n",
       "1 T      0.765996 0.867151 -0.000003 1    \n",
       "2 A      0.536439 0.860211  0.000000 2    \n",
       "3 C      0.714101 0.533540  0.666710 3    \n",
       "4 C      0.859642 1.000000  1.000000 4    \n",
       "5 T      0.719369 0.672139  1.000005 5    \n",
       "6 A      0.712276 0.729278  1.000005 6    "
      ]
     },
     "metadata": {},
     "output_type": "display_data"
    }
   ],
   "source": [
    "head(All_mylu_mysosig)"
   ]
  },
  {
   "cell_type": "code",
   "execution_count": 75,
   "metadata": {},
   "outputs": [],
   "source": [
    "All_mylu_mysosig$BPCum=as.numeric(rownames(All_mylu_mysosig))"
   ]
  },
  {
   "cell_type": "code",
   "execution_count": 15,
   "metadata": {},
   "outputs": [
    {
     "data": {
      "text/html": [
       "13"
      ],
      "text/latex": [
       "13"
      ],
      "text/markdown": [
       "13"
      ],
      "text/plain": [
       "[1] 13"
      ]
     },
     "metadata": {},
     "output_type": "display_data"
    },
    {
     "data": {
      "text/html": [
       "0"
      ],
      "text/latex": [
       "0"
      ],
      "text/markdown": [
       "0"
      ],
      "text/plain": [
       "[1] 0"
      ]
     },
     "metadata": {},
     "output_type": "display_data"
    },
    {
     "data": {
      "text/html": [
       "20"
      ],
      "text/latex": [
       "20"
      ],
      "text/markdown": [
       "20"
      ],
      "text/plain": [
       "[1] 20"
      ]
     },
     "metadata": {},
     "output_type": "display_data"
    },
    {
     "data": {
      "text/html": [
       "15"
      ],
      "text/latex": [
       "15"
      ],
      "text/markdown": [
       "15"
      ],
      "text/plain": [
       "[1] 15"
      ]
     },
     "metadata": {},
     "output_type": "display_data"
    }
   ],
   "source": [
    "NROW(All_mylupos)\n",
    "NROW(All_myluneg)\n",
    "NROW(All_mylumaj)\n",
    "NROW(All_mylumin)"
   ]
  },
  {
   "cell_type": "code",
   "execution_count": 37,
   "metadata": {},
   "outputs": [
    {
     "ename": "ERROR",
     "evalue": "Error in subset(allsnpshiscafsub, SNP == 1): object 'allsnpshiscafsub' not found\n",
     "output_type": "error",
     "traceback": [
      "Error in subset(allsnpshiscafsub, SNP == 1): object 'allsnpshiscafsub' not found\nTraceback:\n",
      "1. geom_point(data = subset(allsnpshiscafsub, SNP == 1), color = \"darkred\", \n .     size = 2)",
      "2. layer(data = data, mapping = mapping, stat = stat, geom = GeomPoint, \n .     position = position, show.legend = show.legend, inherit.aes = inherit.aes, \n .     params = list(na.rm = na.rm, ...))",
      "3. fortify(data)",
      "4. subset(allsnpshiscafsub, SNP == 1)"
     ]
    }
   ],
   "source": [
    "ggplot(All_mylu_mysosig, aes(x=BPCum, y=Freq.NJ)) +\n",
    "    geom_point( aes(color=as.factor(Scaffold)), alpha=0.8, size=1.3, pch=1) +\n",
    "    scale_color_manual(values = rep(c(\"lightgrey\", \"darkgrey\"), 76 )) +\n",
    "    geom_point(data=subset(allsnpshiscafsub, SNP==1), color=\"darkred\", size=2) +    \n",
    "    theme_bw() +\n",
    "    xlab(\"Scaffold\")+\n",
    "    ylab(\"Change in Allele Frequency\")+\n",
    "    ylim(-.75, .75)+\n",
    "    theme(legend.position=\"none\", panel.border = element_blank(), \n",
    "          panel.grid.major.x = element_blank(), \n",
    "          panel.grid.minor.x = element_blank(),\n",
    "          axis.text.x=element_blank(),\n",
    "          axis.ticks.x=element_blank(), axis.line=element_line(color=\"black\"), axis.text=element_text(color=\"black\"),\n",
    "          text = element_text(size=20)\n",
    "    )"
   ]
  },
  {
   "cell_type": "code",
   "execution_count": 62,
   "metadata": {},
   "outputs": [
    {
     "data": {
      "text/html": [
       "<table>\n",
       "<thead><tr><th scope=col>Scaffold</th><th scope=col>Position</th><th scope=col>Major.x</th><th scope=col>Minor.x</th><th scope=col>Maf1_Post</th><th scope=col>Maf2_Post</th><th scope=col>Maf3_Post</th><th scope=col>nInd_Post</th><th scope=col>Maf1_Pre</th><th scope=col>Maf2_Pre</th><th scope=col>⋯</th><th scope=col>NY_Pval</th><th scope=col>CombinedP</th><th scope=col>rank</th><th scope=col>BH</th><th scope=col>diff_myso</th><th scope=col>Allele</th><th scope=col>Freq.NJ</th><th scope=col>Freq.NY</th><th scope=col>Freq.SO</th><th scope=col>BPCum</th></tr></thead>\n",
       "<tbody>\n",
       "\t<tr><td>GL429767    </td><td>46534125    </td><td>C           </td><td>T           </td><td>0           </td><td>0.000006    </td><td>0           </td><td>2           </td><td>0           </td><td>0.000003    </td><td>⋯           </td><td>9.999990e-07</td><td>1.636561e-09</td><td>10          </td><td>1.028399e-07</td><td>0           </td><td>C           </td><td>0.859642    </td><td>1.000000    </td><td>1           </td><td>4           </td></tr>\n",
       "\t<tr><td>GL429768    </td><td> 9041952    </td><td>A           </td><td>G           </td><td>0           </td><td>0.000006    </td><td>0           </td><td>5           </td><td>0           </td><td>0.000002    </td><td>⋯           </td><td>9.999990e-07</td><td>8.732174e-07</td><td>85          </td><td>8.741394e-07</td><td>0           </td><td>A           </td><td>0.660159    </td><td>0.885159    </td><td>1           </td><td>8           </td></tr>\n",
       "\t<tr><td>GL429770    </td><td> 8292792    </td><td>A           </td><td>T           </td><td>0           </td><td>0.000006    </td><td>0           </td><td>5           </td><td>0           </td><td>0.000002    </td><td>⋯           </td><td>9.999990e-07</td><td>2.124122e-10</td><td> 8          </td><td>8.227194e-08</td><td>0           </td><td>A           </td><td>0.720687    </td><td>0.956862    </td><td>1           </td><td>10          </td></tr>\n",
       "\t<tr><td>GL429781    </td><td> 7594948    </td><td>A           </td><td>T           </td><td>0           </td><td>0.000003    </td><td>0           </td><td>4           </td><td>0           </td><td>0.000003    </td><td>⋯           </td><td>9.999990e-07</td><td>3.284782e-07</td><td>62          </td><td>6.376075e-07</td><td>0           </td><td>A           </td><td>0.827179    </td><td>0.874468    </td><td>1           </td><td>15          </td></tr>\n",
       "\t<tr><td>GL429835    </td><td> 2966433    </td><td>A           </td><td>G           </td><td>0           </td><td>0.241019    </td><td>0           </td><td>3           </td><td>0           </td><td>0.039358    </td><td>⋯           </td><td>2.249998e-04</td><td>6.645927e-07</td><td>76          </td><td>7.815834e-07</td><td>0           </td><td>A           </td><td>0.769367    </td><td>0.912398    </td><td>1           </td><td>22          </td></tr>\n",
       "\t<tr><td>GL429835    </td><td> 2966452    </td><td>T           </td><td>G           </td><td>0           </td><td>0.000003    </td><td>0           </td><td>5           </td><td>0           </td><td>0.000004    </td><td>⋯           </td><td>4.599995e-05</td><td>7.881321e-07</td><td>83          </td><td>8.535714e-07</td><td>0           </td><td>T           </td><td>0.865913    </td><td>0.935883    </td><td>1           </td><td>23          </td></tr>\n",
       "</tbody>\n",
       "</table>\n"
      ],
      "text/latex": [
       "\\begin{tabular}{r|lllllllllllllllllllllllllllllllllllllllllllllll}\n",
       " Scaffold & Position & Major.x & Minor.x & Maf1\\_Post & Maf2\\_Post & Maf3\\_Post & nInd\\_Post & Maf1\\_Pre & Maf2\\_Pre & ⋯ & NY\\_Pval & CombinedP & rank & BH & diff\\_myso & Allele & Freq.NJ & Freq.NY & Freq.SO & BPCum\\\\\n",
       "\\hline\n",
       "\t GL429767     & 46534125     & C            & T            & 0            & 0.000006     & 0            & 2            & 0            & 0.000003     & ⋯            & 9.999990e-07 & 1.636561e-09 & 10           & 1.028399e-07 & 0            & C            & 0.859642     & 1.000000     & 1            & 4           \\\\\n",
       "\t GL429768     &  9041952     & A            & G            & 0            & 0.000006     & 0            & 5            & 0            & 0.000002     & ⋯            & 9.999990e-07 & 8.732174e-07 & 85           & 8.741394e-07 & 0            & A            & 0.660159     & 0.885159     & 1            & 8           \\\\\n",
       "\t GL429770     &  8292792     & A            & T            & 0            & 0.000006     & 0            & 5            & 0            & 0.000002     & ⋯            & 9.999990e-07 & 2.124122e-10 &  8           & 8.227194e-08 & 0            & A            & 0.720687     & 0.956862     & 1            & 10          \\\\\n",
       "\t GL429781     &  7594948     & A            & T            & 0            & 0.000003     & 0            & 4            & 0            & 0.000003     & ⋯            & 9.999990e-07 & 3.284782e-07 & 62           & 6.376075e-07 & 0            & A            & 0.827179     & 0.874468     & 1            & 15          \\\\\n",
       "\t GL429835     &  2966433     & A            & G            & 0            & 0.241019     & 0            & 3            & 0            & 0.039358     & ⋯            & 2.249998e-04 & 6.645927e-07 & 76           & 7.815834e-07 & 0            & A            & 0.769367     & 0.912398     & 1            & 22          \\\\\n",
       "\t GL429835     &  2966452     & T            & G            & 0            & 0.000003     & 0            & 5            & 0            & 0.000004     & ⋯            & 4.599995e-05 & 7.881321e-07 & 83           & 8.535714e-07 & 0            & T            & 0.865913     & 0.935883     & 1            & 23          \\\\\n",
       "\\end{tabular}\n"
      ],
      "text/markdown": [
       "\n",
       "Scaffold | Position | Major.x | Minor.x | Maf1_Post | Maf2_Post | Maf3_Post | nInd_Post | Maf1_Pre | Maf2_Pre | ⋯ | NY_Pval | CombinedP | rank | BH | diff_myso | Allele | Freq.NJ | Freq.NY | Freq.SO | BPCum | \n",
       "|---|---|---|---|---|---|\n",
       "| GL429767     | 46534125     | C            | T            | 0            | 0.000006     | 0            | 2            | 0            | 0.000003     | ⋯            | 9.999990e-07 | 1.636561e-09 | 10           | 1.028399e-07 | 0            | C            | 0.859642     | 1.000000     | 1            | 4            | \n",
       "| GL429768     |  9041952     | A            | G            | 0            | 0.000006     | 0            | 5            | 0            | 0.000002     | ⋯            | 9.999990e-07 | 8.732174e-07 | 85           | 8.741394e-07 | 0            | A            | 0.660159     | 0.885159     | 1            | 8            | \n",
       "| GL429770     |  8292792     | A            | T            | 0            | 0.000006     | 0            | 5            | 0            | 0.000002     | ⋯            | 9.999990e-07 | 2.124122e-10 |  8           | 8.227194e-08 | 0            | A            | 0.720687     | 0.956862     | 1            | 10           | \n",
       "| GL429781     |  7594948     | A            | T            | 0            | 0.000003     | 0            | 4            | 0            | 0.000003     | ⋯            | 9.999990e-07 | 3.284782e-07 | 62           | 6.376075e-07 | 0            | A            | 0.827179     | 0.874468     | 1            | 15           | \n",
       "| GL429835     |  2966433     | A            | G            | 0            | 0.241019     | 0            | 3            | 0            | 0.039358     | ⋯            | 2.249998e-04 | 6.645927e-07 | 76           | 7.815834e-07 | 0            | A            | 0.769367     | 0.912398     | 1            | 22           | \n",
       "| GL429835     |  2966452     | T            | G            | 0            | 0.000003     | 0            | 5            | 0            | 0.000004     | ⋯            | 4.599995e-05 | 7.881321e-07 | 83           | 8.535714e-07 | 0            | T            | 0.865913     | 0.935883     | 1            | 23           | \n",
       "\n",
       "\n"
      ],
      "text/plain": [
       "  Scaffold Position Major.x Minor.x Maf1_Post Maf2_Post Maf3_Post nInd_Post\n",
       "1 GL429767 46534125 C       T       0         0.000006  0         2        \n",
       "2 GL429768  9041952 A       G       0         0.000006  0         5        \n",
       "3 GL429770  8292792 A       T       0         0.000006  0         5        \n",
       "4 GL429781  7594948 A       T       0         0.000003  0         4        \n",
       "5 GL429835  2966433 A       G       0         0.241019  0         3        \n",
       "6 GL429835  2966452 T       G       0         0.000003  0         5        \n",
       "  Maf1_Pre Maf2_Pre ⋯ NY_Pval      CombinedP    rank BH           diff_myso\n",
       "1 0        0.000003 ⋯ 9.999990e-07 1.636561e-09 10   1.028399e-07 0        \n",
       "2 0        0.000002 ⋯ 9.999990e-07 8.732174e-07 85   8.741394e-07 0        \n",
       "3 0        0.000002 ⋯ 9.999990e-07 2.124122e-10  8   8.227194e-08 0        \n",
       "4 0        0.000003 ⋯ 9.999990e-07 3.284782e-07 62   6.376075e-07 0        \n",
       "5 0        0.039358 ⋯ 2.249998e-04 6.645927e-07 76   7.815834e-07 0        \n",
       "6 0        0.000004 ⋯ 4.599995e-05 7.881321e-07 83   8.535714e-07 0        \n",
       "  Allele Freq.NJ  Freq.NY  Freq.SO BPCum\n",
       "1 C      0.859642 1.000000 1       4    \n",
       "2 A      0.660159 0.885159 1       8    \n",
       "3 A      0.720687 0.956862 1       10   \n",
       "4 A      0.827179 0.874468 1       15   \n",
       "5 A      0.769367 0.912398 1       22   \n",
       "6 T      0.865913 0.935883 1       23   "
      ]
     },
     "metadata": {},
     "output_type": "display_data"
    }
   ],
   "source": [
    "head(All_mylu_myso_close)"
   ]
  },
  {
   "cell_type": "code",
   "execution_count": 80,
   "metadata": {},
   "outputs": [
    {
     "data": {
      "text/html": [
       "58"
      ],
      "text/latex": [
       "58"
      ],
      "text/markdown": [
       "58"
      ],
      "text/plain": [
       "[1] 58"
      ]
     },
     "metadata": {},
     "output_type": "display_data"
    }
   ],
   "source": [
    "NROW(unique(All_mylu_mysosig$Scaffold))"
   ]
  },
  {
   "cell_type": "code",
   "execution_count": 57,
   "metadata": {
    "scrolled": true
   },
   "outputs": [
    {
     "data": {
      "text/html": [
       "<table>\n",
       "<thead><tr><th scope=col>Scaffold</th><th scope=col>Position</th><th scope=col>Major.x</th><th scope=col>Minor.x</th><th scope=col>Maf1_Post</th><th scope=col>Maf2_Post</th><th scope=col>Maf3_Post</th><th scope=col>nInd_Post</th><th scope=col>Maf1_Pre</th><th scope=col>Maf2_Pre</th><th scope=col>⋯</th><th scope=col>NY_Pval</th><th scope=col>CombinedP</th><th scope=col>rank</th><th scope=col>BH</th><th scope=col>diff_myso</th><th scope=col>Allele</th><th scope=col>Freq.NJ</th><th scope=col>Freq.NY</th><th scope=col>Freq.SO</th><th scope=col>BPCum</th></tr></thead>\n",
       "<tbody>\n",
       "\t<tr><td>GL429767    </td><td>38456248    </td><td>T           </td><td>C           </td><td>0.666710    </td><td>0.399978    </td><td>0.667001    </td><td>3           </td><td>0.459748    </td><td>0.214584    </td><td>⋯           </td><td>1.383999e-03</td><td>7.236905e-07</td><td>80          </td><td>8.227194e-07</td><td> 0.206962   </td><td>C           </td><td>0.714101    </td><td>0.533540    </td><td>0.666710    </td><td>3           </td></tr>\n",
       "\t<tr><td>GL429767    </td><td>46534125    </td><td>C           </td><td>T           </td><td>0.000000    </td><td>0.000006    </td><td>0.000000    </td><td>2           </td><td>0.000000    </td><td>0.000003    </td><td>⋯           </td><td>9.999990e-07</td><td>1.636561e-09</td><td>10          </td><td>1.028399e-07</td><td> 0.000000   </td><td>C           </td><td>0.859642    </td><td>1.000000    </td><td>1.000000    </td><td>4           </td></tr>\n",
       "\t<tr><td>GL429767    </td><td>51542790    </td><td>G           </td><td>T           </td><td>1.000005    </td><td>0.452893    </td><td>1.001002    </td><td>3           </td><td>1.000002    </td><td>0.999787    </td><td>⋯           </td><td>3.999996e-06</td><td>8.273935e-08</td><td>36          </td><td>3.702237e-07</td><td> 0.000003   </td><td>T           </td><td>0.719369    </td><td>0.672139    </td><td>1.000005    </td><td>5           </td></tr>\n",
       "\t<tr><td>GL429767    </td><td>51542832    </td><td>G           </td><td>A           </td><td>1.000005    </td><td>0.452893    </td><td>1.001002    </td><td>3           </td><td>1.000003    </td><td>0.999998    </td><td>⋯           </td><td>2.539997e-04</td><td>5.865785e-09</td><td>15          </td><td>1.542599e-07</td><td> 0.000002   </td><td>A           </td><td>0.712276    </td><td>0.729278    </td><td>1.000005    </td><td>6           </td></tr>\n",
       "\t<tr><td>GL429768    </td><td> 9041952    </td><td>A           </td><td>G           </td><td>0.000000    </td><td>0.000006    </td><td>0.000000    </td><td>5           </td><td>0.000000    </td><td>0.000002    </td><td>⋯           </td><td>9.999990e-07</td><td>8.732174e-07</td><td>85          </td><td>8.741394e-07</td><td> 0.000000   </td><td>A           </td><td>0.660159    </td><td>0.885159    </td><td>1.000000    </td><td>8           </td></tr>\n",
       "\t<tr><td>GL429768    </td><td>29962249    </td><td>A           </td><td>G           </td><td>0.600992    </td><td>0.305758    </td><td>0.608913    </td><td>4           </td><td>0.798076    </td><td>0.798074    </td><td>⋯           </td><td>5.241995e-03</td><td>1.051887e-07</td><td>38          </td><td>3.907917e-07</td><td>-0.197084   </td><td>G           </td><td>0.659928    </td><td>0.636289    </td><td>0.600992    </td><td>9           </td></tr>\n",
       "\t<tr><td>GL429770    </td><td> 8292792    </td><td>A           </td><td>T           </td><td>0.000000    </td><td>0.000006    </td><td>0.000000    </td><td>5           </td><td>0.000000    </td><td>0.000002    </td><td>⋯           </td><td>9.999990e-07</td><td>2.124122e-10</td><td> 8          </td><td>8.227194e-08</td><td> 0.000000   </td><td>A           </td><td>0.720687    </td><td>0.956862    </td><td>1.000000    </td><td>10          </td></tr>\n",
       "\t<tr><td>GL429773    </td><td> 7204887    </td><td>C           </td><td>T           </td><td>1.000008    </td><td>0.999954    </td><td>1.001002    </td><td>2           </td><td>1.000005    </td><td>0.999998    </td><td>⋯           </td><td>4.671095e-02</td><td>8.351578e-07</td><td>84          </td><td>8.638554e-07</td><td> 0.000003   </td><td>T           </td><td>0.812410    </td><td>0.883925    </td><td>1.000008    </td><td>12          </td></tr>\n",
       "\t<tr><td>GL429781    </td><td> 7594948    </td><td>A           </td><td>T           </td><td>0.000000    </td><td>0.000003    </td><td>0.000000    </td><td>4           </td><td>0.000000    </td><td>0.000003    </td><td>⋯           </td><td>9.999990e-07</td><td>3.284782e-07</td><td>62          </td><td>6.376075e-07</td><td> 0.000000   </td><td>A           </td><td>0.827179    </td><td>0.874468    </td><td>1.000000    </td><td>15          </td></tr>\n",
       "\t<tr><td>GL429783    </td><td>  665407    </td><td>C           </td><td>T           </td><td>0.666715    </td><td>0.399991    </td><td>0.667001    </td><td>3           </td><td>0.841646    </td><td>0.309023    </td><td>⋯           </td><td>3.521596e-02</td><td>6.395835e-07</td><td>75          </td><td>7.712994e-07</td><td>-0.174931   </td><td>T           </td><td>0.801063    </td><td>0.811486    </td><td>0.666715    </td><td>16          </td></tr>\n",
       "\t<tr><td>GL429795    </td><td> 3907289    </td><td>G           </td><td>A           </td><td>1.000008    </td><td>0.999954    </td><td>1.001002    </td><td>1           </td><td>1.000005    </td><td>0.999998    </td><td>⋯           </td><td>1.999998e-06</td><td>5.587564e-11</td><td> 5          </td><td>5.141996e-08</td><td> 0.000003   </td><td>A           </td><td>0.515268    </td><td>0.735991    </td><td>1.000008    </td><td>19          </td></tr>\n",
       "\t<tr><td>GL429835    </td><td> 2966433    </td><td>A           </td><td>G           </td><td>0.000000    </td><td>0.241019    </td><td>0.000000    </td><td>3           </td><td>0.000000    </td><td>0.039358    </td><td>⋯           </td><td>2.249998e-04</td><td>6.645927e-07</td><td>76          </td><td>7.815834e-07</td><td> 0.000000   </td><td>A           </td><td>0.769367    </td><td>0.912398    </td><td>1.000000    </td><td>22          </td></tr>\n",
       "\t<tr><td>GL429835    </td><td> 2966452    </td><td>T           </td><td>G           </td><td>0.000000    </td><td>0.000003    </td><td>0.000000    </td><td>5           </td><td>0.000000    </td><td>0.000004    </td><td>⋯           </td><td>4.599995e-05</td><td>7.881321e-07</td><td>83          </td><td>8.535714e-07</td><td> 0.000000   </td><td>T           </td><td>0.865913    </td><td>0.935883    </td><td>1.000000    </td><td>23          </td></tr>\n",
       "\t<tr><td>GL429841    </td><td> 3522450    </td><td>A           </td><td>G           </td><td>1.000008    </td><td>0.999954    </td><td>1.001002    </td><td>2           </td><td>1.000004    </td><td>0.999996    </td><td>⋯           </td><td>4.637995e-03</td><td>1.808430e-07</td><td>51          </td><td>5.244836e-07</td><td> 0.000004   </td><td>G           </td><td>0.698889    </td><td>0.558831    </td><td>1.000008    </td><td>26          </td></tr>\n",
       "\t<tr><td>GL429848    </td><td> 2603829    </td><td>T           </td><td>C           </td><td>1.000008    </td><td>0.999954    </td><td>1.001002    </td><td>3           </td><td>1.000002    </td><td>0.406144    </td><td>⋯           </td><td>3.570996e-03</td><td>1.411062e-07</td><td>44          </td><td>4.524957e-07</td><td> 0.000006   </td><td>C           </td><td>0.769942    </td><td>0.730515    </td><td>1.000008    </td><td>29          </td></tr>\n",
       "\t<tr><td>GL429861    </td><td>  293372    </td><td>A           </td><td>G           </td><td>1.000008    </td><td>0.999954    </td><td>1.001002    </td><td>1           </td><td>0.799986    </td><td>0.799988    </td><td>⋯           </td><td>9.999990e-07</td><td>4.818695e-08</td><td>28          </td><td>2.879518e-07</td><td> 0.200022   </td><td>G           </td><td>0.700343    </td><td>1.000004    </td><td>1.000008    </td><td>32          </td></tr>\n",
       "\t<tr><td>GL429873    </td><td> 2056629    </td><td>T           </td><td>A           </td><td>0.000000    </td><td>0.000006    </td><td>0.000000    </td><td>2           </td><td>0.000000    </td><td>0.000006    </td><td>⋯           </td><td>3.754496e-02</td><td>6.794778e-07</td><td>77          </td><td>7.918674e-07</td><td> 0.000000   </td><td>T           </td><td>0.628909    </td><td>0.804770    </td><td>1.000000    </td><td>36          </td></tr>\n",
       "\t<tr><td>GL429888    </td><td> 3508435    </td><td>A           </td><td>T           </td><td>1.000005    </td><td>0.999997    </td><td>1.001002    </td><td>6           </td><td>1.000003    </td><td>0.999999    </td><td>⋯           </td><td>6.600993e-03</td><td>1.309375e-07</td><td>43          </td><td>4.422117e-07</td><td> 0.000002   </td><td>T           </td><td>0.929041    </td><td>0.696250    </td><td>1.000005    </td><td>40          </td></tr>\n",
       "\t<tr><td>GL429896    </td><td> 2002301    </td><td>A           </td><td>G           </td><td>1.000008    </td><td>0.999954    </td><td>1.001002    </td><td>2           </td><td>1.000002    </td><td>0.999859    </td><td>⋯           </td><td>9.999990e-07</td><td>9.876356e-09</td><td>18          </td><td>1.851119e-07</td><td> 0.000006   </td><td>G           </td><td>0.677185    </td><td>0.823351    </td><td>1.000008    </td><td>41          </td></tr>\n",
       "\t<tr><td>GL429906    </td><td> 1866953    </td><td>C           </td><td>T           </td><td>0.000000    </td><td>0.000006    </td><td>0.000000    </td><td>1           </td><td>0.000000    </td><td>0.000002    </td><td>⋯           </td><td>1.545998e-03</td><td>3.291056e-08</td><td>25          </td><td>2.570998e-07</td><td> 0.000000   </td><td>C           </td><td>0.754955    </td><td>0.763507    </td><td>1.000000    </td><td>42          </td></tr>\n",
       "\t<tr><td>GL429930    </td><td> 2586279    </td><td>C           </td><td>T           </td><td>0.000000    </td><td>0.000006    </td><td>0.000000    </td><td>1           </td><td>0.000000    </td><td>0.000005    </td><td>⋯           </td><td>9.999990e-07</td><td>5.924681e-07</td><td>72          </td><td>7.404475e-07</td><td> 0.000000   </td><td>C           </td><td>0.830927    </td><td>0.645355    </td><td>1.000000    </td><td>44          </td></tr>\n",
       "\t<tr><td>GL429938    </td><td> 2500270    </td><td>A           </td><td>G           </td><td>0.000000    </td><td>0.000005    </td><td>0.000000    </td><td>3           </td><td>0.000000    </td><td>0.000006    </td><td>⋯           </td><td>9.999990e-07</td><td>6.265856e-08</td><td>31          </td><td>3.188038e-07</td><td> 0.000000   </td><td>A           </td><td>0.769302    </td><td>1.000000    </td><td>1.000000    </td><td>45          </td></tr>\n",
       "\t<tr><td>GL429947    </td><td> 1200485    </td><td>A           </td><td>G           </td><td>1.000005    </td><td>0.999997    </td><td>1.001002    </td><td>3           </td><td>1.000001    </td><td>0.999829    </td><td>⋯           </td><td>9.999990e-07</td><td>7.668012e-08</td><td>34          </td><td>3.496557e-07</td><td> 0.000004   </td><td>G           </td><td>0.526776    </td><td>1.000006    </td><td>1.000005    </td><td>46          </td></tr>\n",
       "\t<tr><td>GL429955    </td><td> 1484586    </td><td>G           </td><td>A           </td><td>0.000000    </td><td>0.000003    </td><td>0.000000    </td><td>3           </td><td>0.000000    </td><td>0.000005    </td><td>⋯           </td><td>9.999990e-07</td><td>8.239156e-08</td><td>35          </td><td>3.599397e-07</td><td> 0.000000   </td><td>G           </td><td>0.796397    </td><td>1.000000    </td><td>1.000000    </td><td>48          </td></tr>\n",
       "\t<tr><td>GL429962    </td><td>  689293    </td><td>A           </td><td>C           </td><td>0.000000    </td><td>0.000006    </td><td>0.000000    </td><td>4           </td><td>0.000000    </td><td>0.000005    </td><td>⋯           </td><td>9.999990e-07</td><td>2.863097e-11</td><td> 3          </td><td>3.085198e-08</td><td> 0.000000   </td><td>A           </td><td>0.788511    </td><td>1.000000    </td><td>1.000000    </td><td>49          </td></tr>\n",
       "\t<tr><td>GL429965    </td><td> 1956978    </td><td>G           </td><td>A           </td><td>0.000000    </td><td>0.000005    </td><td>0.000000    </td><td>3           </td><td>0.000000    </td><td>0.000004    </td><td>⋯           </td><td>9.999990e-07</td><td>4.739111e-08</td><td>26          </td><td>2.673838e-07</td><td> 0.000000   </td><td>G           </td><td>0.902183    </td><td>1.000000    </td><td>1.000000    </td><td>50          </td></tr>\n",
       "\t<tr><td>GL429998    </td><td>   99324    </td><td>C           </td><td>G           </td><td>0.000000    </td><td>0.000006    </td><td>0.000000    </td><td>2           </td><td>0.000000    </td><td>0.000003    </td><td>⋯           </td><td>9.999990e-07</td><td>2.158392e-07</td><td>54          </td><td>5.553356e-07</td><td> 0.000000   </td><td>C           </td><td>0.752197    </td><td>0.857387    </td><td>1.000000    </td><td>53          </td></tr>\n",
       "\t<tr><td>GL430008    </td><td> 1396110    </td><td>C           </td><td>T           </td><td>0.000000    </td><td>0.000006    </td><td>0.000000    </td><td>2           </td><td>0.000000    </td><td>0.000002    </td><td>⋯           </td><td>3.999996e-06</td><td>1.089787e-10</td><td> 6          </td><td>6.170395e-08</td><td> 0.000000   </td><td>C           </td><td>0.910410    </td><td>0.738216    </td><td>1.000000    </td><td>54          </td></tr>\n",
       "\t<tr><td>GL430018    </td><td>  180278    </td><td>T           </td><td>A           </td><td>0.000000    </td><td>0.000005    </td><td>0.000000    </td><td>3           </td><td>0.000000    </td><td>0.000003    </td><td>⋯           </td><td>9.999990e-07</td><td>7.316050e-09</td><td>16          </td><td>1.645439e-07</td><td> 0.000000   </td><td>T           </td><td>0.941811    </td><td>1.000000    </td><td>1.000000    </td><td>55          </td></tr>\n",
       "\t<tr><td>GL430128    </td><td>  735347    </td><td>A           </td><td>G           </td><td>0.000000    </td><td>0.000004    </td><td>0.000000    </td><td>2           </td><td>0.000000    </td><td>0.000005    </td><td>⋯           </td><td>9.999990e-07</td><td>1.245054e-07</td><td>42          </td><td>4.319277e-07</td><td> 0.000000   </td><td>A           </td><td>0.842176    </td><td>1.000000    </td><td>1.000000    </td><td>58          </td></tr>\n",
       "\t<tr><td>GL430156    </td><td>  916661    </td><td>C           </td><td>T           </td><td>0.000000    </td><td>0.000006    </td><td>0.000000    </td><td>3           </td><td>0.000000    </td><td>0.000003    </td><td>⋯           </td><td>9.999990e-07</td><td>1.458099e-07</td><td>46          </td><td>4.730637e-07</td><td> 0.000000   </td><td>C           </td><td>0.904422    </td><td>1.000000    </td><td>1.000000    </td><td>59          </td></tr>\n",
       "\t<tr><td>GL430158    </td><td>  593841    </td><td>T           </td><td>G           </td><td>0.000000    </td><td>0.000004    </td><td>0.000000    </td><td>2           </td><td>0.000000    </td><td>0.000003    </td><td>⋯           </td><td>9.999990e-07</td><td>2.009607e-09</td><td>11          </td><td>1.131239e-07</td><td> 0.000000   </td><td>T           </td><td>0.938792    </td><td>0.926902    </td><td>1.000000    </td><td>60          </td></tr>\n",
       "\t<tr><td>GL430166    </td><td>   11932    </td><td>C           </td><td>T           </td><td>1.000008    </td><td>0.999954    </td><td>1.001002    </td><td>2           </td><td>1.000000    </td><td>0.290741    </td><td>⋯           </td><td>1.740398e-02</td><td>3.283531e-07</td><td>61          </td><td>6.273235e-07</td><td> 0.000008   </td><td>T           </td><td>0.577796    </td><td>0.681565    </td><td>1.000008    </td><td>61          </td></tr>\n",
       "\t<tr><td>GL430271    </td><td>  525210    </td><td>C           </td><td>T           </td><td>1.000008    </td><td>0.999954    </td><td>1.001002    </td><td>2           </td><td>1.000001    </td><td>0.999998    </td><td>⋯           </td><td>4.438996e-03</td><td>8.981339e-08</td><td>37          </td><td>3.805077e-07</td><td> 0.000007   </td><td>T           </td><td>0.545407    </td><td>0.569574    </td><td>1.000008    </td><td>65          </td></tr>\n",
       "\t<tr><td>GL430281    </td><td>  514067    </td><td>T           </td><td>C           </td><td>0.000000    </td><td>0.000004    </td><td>0.000000    </td><td>2           </td><td>0.000000    </td><td>0.000005    </td><td>⋯           </td><td>1.549998e-04</td><td>2.211817e-07</td><td>55          </td><td>5.656196e-07</td><td> 0.000000   </td><td>T           </td><td>0.928662    </td><td>0.874910    </td><td>1.000000    </td><td>66          </td></tr>\n",
       "\t<tr><td>GL430746    </td><td>    9663    </td><td>C           </td><td>T           </td><td>0.000000    </td><td>0.000006    </td><td>0.000000    </td><td>1           </td><td>0.000000    </td><td>0.000006    </td><td>⋯           </td><td>9.999990e-07</td><td>3.470641e-07</td><td>64          </td><td>6.581755e-07</td><td> 0.000000   </td><td>C           </td><td>0.765888    </td><td>1.000000    </td><td>1.000000    </td><td>70          </td></tr>\n",
       "\t<tr><td>GL432768    </td><td>     965    </td><td>C           </td><td>T           </td><td>0.000000    </td><td>0.000003    </td><td>0.000000    </td><td>3           </td><td>0.000000    </td><td>0.000002    </td><td>⋯           </td><td>1.499999e-05</td><td>1.174298e-08</td><td>19          </td><td>1.953959e-07</td><td> 0.000000   </td><td>C           </td><td>0.706956    </td><td>0.848020    </td><td>1.000000    </td><td>72          </td></tr>\n",
       "</tbody>\n",
       "</table>\n"
      ],
      "text/latex": [
       "\\begin{tabular}{r|lllllllllllllllllllllllllllllllllllllllllllllll}\n",
       " Scaffold & Position & Major.x & Minor.x & Maf1\\_Post & Maf2\\_Post & Maf3\\_Post & nInd\\_Post & Maf1\\_Pre & Maf2\\_Pre & ⋯ & NY\\_Pval & CombinedP & rank & BH & diff\\_myso & Allele & Freq.NJ & Freq.NY & Freq.SO & BPCum\\\\\n",
       "\\hline\n",
       "\t GL429767     & 38456248     & T            & C            & 0.666710     & 0.399978     & 0.667001     & 3            & 0.459748     & 0.214584     & ⋯            & 1.383999e-03 & 7.236905e-07 & 80           & 8.227194e-07 &  0.206962    & C            & 0.714101     & 0.533540     & 0.666710     & 3           \\\\\n",
       "\t GL429767     & 46534125     & C            & T            & 0.000000     & 0.000006     & 0.000000     & 2            & 0.000000     & 0.000003     & ⋯            & 9.999990e-07 & 1.636561e-09 & 10           & 1.028399e-07 &  0.000000    & C            & 0.859642     & 1.000000     & 1.000000     & 4           \\\\\n",
       "\t GL429767     & 51542790     & G            & T            & 1.000005     & 0.452893     & 1.001002     & 3            & 1.000002     & 0.999787     & ⋯            & 3.999996e-06 & 8.273935e-08 & 36           & 3.702237e-07 &  0.000003    & T            & 0.719369     & 0.672139     & 1.000005     & 5           \\\\\n",
       "\t GL429767     & 51542832     & G            & A            & 1.000005     & 0.452893     & 1.001002     & 3            & 1.000003     & 0.999998     & ⋯            & 2.539997e-04 & 5.865785e-09 & 15           & 1.542599e-07 &  0.000002    & A            & 0.712276     & 0.729278     & 1.000005     & 6           \\\\\n",
       "\t GL429768     &  9041952     & A            & G            & 0.000000     & 0.000006     & 0.000000     & 5            & 0.000000     & 0.000002     & ⋯            & 9.999990e-07 & 8.732174e-07 & 85           & 8.741394e-07 &  0.000000    & A            & 0.660159     & 0.885159     & 1.000000     & 8           \\\\\n",
       "\t GL429768     & 29962249     & A            & G            & 0.600992     & 0.305758     & 0.608913     & 4            & 0.798076     & 0.798074     & ⋯            & 5.241995e-03 & 1.051887e-07 & 38           & 3.907917e-07 & -0.197084    & G            & 0.659928     & 0.636289     & 0.600992     & 9           \\\\\n",
       "\t GL429770     &  8292792     & A            & T            & 0.000000     & 0.000006     & 0.000000     & 5            & 0.000000     & 0.000002     & ⋯            & 9.999990e-07 & 2.124122e-10 &  8           & 8.227194e-08 &  0.000000    & A            & 0.720687     & 0.956862     & 1.000000     & 10          \\\\\n",
       "\t GL429773     &  7204887     & C            & T            & 1.000008     & 0.999954     & 1.001002     & 2            & 1.000005     & 0.999998     & ⋯            & 4.671095e-02 & 8.351578e-07 & 84           & 8.638554e-07 &  0.000003    & T            & 0.812410     & 0.883925     & 1.000008     & 12          \\\\\n",
       "\t GL429781     &  7594948     & A            & T            & 0.000000     & 0.000003     & 0.000000     & 4            & 0.000000     & 0.000003     & ⋯            & 9.999990e-07 & 3.284782e-07 & 62           & 6.376075e-07 &  0.000000    & A            & 0.827179     & 0.874468     & 1.000000     & 15          \\\\\n",
       "\t GL429783     &   665407     & C            & T            & 0.666715     & 0.399991     & 0.667001     & 3            & 0.841646     & 0.309023     & ⋯            & 3.521596e-02 & 6.395835e-07 & 75           & 7.712994e-07 & -0.174931    & T            & 0.801063     & 0.811486     & 0.666715     & 16          \\\\\n",
       "\t GL429795     &  3907289     & G            & A            & 1.000008     & 0.999954     & 1.001002     & 1            & 1.000005     & 0.999998     & ⋯            & 1.999998e-06 & 5.587564e-11 &  5           & 5.141996e-08 &  0.000003    & A            & 0.515268     & 0.735991     & 1.000008     & 19          \\\\\n",
       "\t GL429835     &  2966433     & A            & G            & 0.000000     & 0.241019     & 0.000000     & 3            & 0.000000     & 0.039358     & ⋯            & 2.249998e-04 & 6.645927e-07 & 76           & 7.815834e-07 &  0.000000    & A            & 0.769367     & 0.912398     & 1.000000     & 22          \\\\\n",
       "\t GL429835     &  2966452     & T            & G            & 0.000000     & 0.000003     & 0.000000     & 5            & 0.000000     & 0.000004     & ⋯            & 4.599995e-05 & 7.881321e-07 & 83           & 8.535714e-07 &  0.000000    & T            & 0.865913     & 0.935883     & 1.000000     & 23          \\\\\n",
       "\t GL429841     &  3522450     & A            & G            & 1.000008     & 0.999954     & 1.001002     & 2            & 1.000004     & 0.999996     & ⋯            & 4.637995e-03 & 1.808430e-07 & 51           & 5.244836e-07 &  0.000004    & G            & 0.698889     & 0.558831     & 1.000008     & 26          \\\\\n",
       "\t GL429848     &  2603829     & T            & C            & 1.000008     & 0.999954     & 1.001002     & 3            & 1.000002     & 0.406144     & ⋯            & 3.570996e-03 & 1.411062e-07 & 44           & 4.524957e-07 &  0.000006    & C            & 0.769942     & 0.730515     & 1.000008     & 29          \\\\\n",
       "\t GL429861     &   293372     & A            & G            & 1.000008     & 0.999954     & 1.001002     & 1            & 0.799986     & 0.799988     & ⋯            & 9.999990e-07 & 4.818695e-08 & 28           & 2.879518e-07 &  0.200022    & G            & 0.700343     & 1.000004     & 1.000008     & 32          \\\\\n",
       "\t GL429873     &  2056629     & T            & A            & 0.000000     & 0.000006     & 0.000000     & 2            & 0.000000     & 0.000006     & ⋯            & 3.754496e-02 & 6.794778e-07 & 77           & 7.918674e-07 &  0.000000    & T            & 0.628909     & 0.804770     & 1.000000     & 36          \\\\\n",
       "\t GL429888     &  3508435     & A            & T            & 1.000005     & 0.999997     & 1.001002     & 6            & 1.000003     & 0.999999     & ⋯            & 6.600993e-03 & 1.309375e-07 & 43           & 4.422117e-07 &  0.000002    & T            & 0.929041     & 0.696250     & 1.000005     & 40          \\\\\n",
       "\t GL429896     &  2002301     & A            & G            & 1.000008     & 0.999954     & 1.001002     & 2            & 1.000002     & 0.999859     & ⋯            & 9.999990e-07 & 9.876356e-09 & 18           & 1.851119e-07 &  0.000006    & G            & 0.677185     & 0.823351     & 1.000008     & 41          \\\\\n",
       "\t GL429906     &  1866953     & C            & T            & 0.000000     & 0.000006     & 0.000000     & 1            & 0.000000     & 0.000002     & ⋯            & 1.545998e-03 & 3.291056e-08 & 25           & 2.570998e-07 &  0.000000    & C            & 0.754955     & 0.763507     & 1.000000     & 42          \\\\\n",
       "\t GL429930     &  2586279     & C            & T            & 0.000000     & 0.000006     & 0.000000     & 1            & 0.000000     & 0.000005     & ⋯            & 9.999990e-07 & 5.924681e-07 & 72           & 7.404475e-07 &  0.000000    & C            & 0.830927     & 0.645355     & 1.000000     & 44          \\\\\n",
       "\t GL429938     &  2500270     & A            & G            & 0.000000     & 0.000005     & 0.000000     & 3            & 0.000000     & 0.000006     & ⋯            & 9.999990e-07 & 6.265856e-08 & 31           & 3.188038e-07 &  0.000000    & A            & 0.769302     & 1.000000     & 1.000000     & 45          \\\\\n",
       "\t GL429947     &  1200485     & A            & G            & 1.000005     & 0.999997     & 1.001002     & 3            & 1.000001     & 0.999829     & ⋯            & 9.999990e-07 & 7.668012e-08 & 34           & 3.496557e-07 &  0.000004    & G            & 0.526776     & 1.000006     & 1.000005     & 46          \\\\\n",
       "\t GL429955     &  1484586     & G            & A            & 0.000000     & 0.000003     & 0.000000     & 3            & 0.000000     & 0.000005     & ⋯            & 9.999990e-07 & 8.239156e-08 & 35           & 3.599397e-07 &  0.000000    & G            & 0.796397     & 1.000000     & 1.000000     & 48          \\\\\n",
       "\t GL429962     &   689293     & A            & C            & 0.000000     & 0.000006     & 0.000000     & 4            & 0.000000     & 0.000005     & ⋯            & 9.999990e-07 & 2.863097e-11 &  3           & 3.085198e-08 &  0.000000    & A            & 0.788511     & 1.000000     & 1.000000     & 49          \\\\\n",
       "\t GL429965     &  1956978     & G            & A            & 0.000000     & 0.000005     & 0.000000     & 3            & 0.000000     & 0.000004     & ⋯            & 9.999990e-07 & 4.739111e-08 & 26           & 2.673838e-07 &  0.000000    & G            & 0.902183     & 1.000000     & 1.000000     & 50          \\\\\n",
       "\t GL429998     &    99324     & C            & G            & 0.000000     & 0.000006     & 0.000000     & 2            & 0.000000     & 0.000003     & ⋯            & 9.999990e-07 & 2.158392e-07 & 54           & 5.553356e-07 &  0.000000    & C            & 0.752197     & 0.857387     & 1.000000     & 53          \\\\\n",
       "\t GL430008     &  1396110     & C            & T            & 0.000000     & 0.000006     & 0.000000     & 2            & 0.000000     & 0.000002     & ⋯            & 3.999996e-06 & 1.089787e-10 &  6           & 6.170395e-08 &  0.000000    & C            & 0.910410     & 0.738216     & 1.000000     & 54          \\\\\n",
       "\t GL430018     &   180278     & T            & A            & 0.000000     & 0.000005     & 0.000000     & 3            & 0.000000     & 0.000003     & ⋯            & 9.999990e-07 & 7.316050e-09 & 16           & 1.645439e-07 &  0.000000    & T            & 0.941811     & 1.000000     & 1.000000     & 55          \\\\\n",
       "\t GL430128     &   735347     & A            & G            & 0.000000     & 0.000004     & 0.000000     & 2            & 0.000000     & 0.000005     & ⋯            & 9.999990e-07 & 1.245054e-07 & 42           & 4.319277e-07 &  0.000000    & A            & 0.842176     & 1.000000     & 1.000000     & 58          \\\\\n",
       "\t GL430156     &   916661     & C            & T            & 0.000000     & 0.000006     & 0.000000     & 3            & 0.000000     & 0.000003     & ⋯            & 9.999990e-07 & 1.458099e-07 & 46           & 4.730637e-07 &  0.000000    & C            & 0.904422     & 1.000000     & 1.000000     & 59          \\\\\n",
       "\t GL430158     &   593841     & T            & G            & 0.000000     & 0.000004     & 0.000000     & 2            & 0.000000     & 0.000003     & ⋯            & 9.999990e-07 & 2.009607e-09 & 11           & 1.131239e-07 &  0.000000    & T            & 0.938792     & 0.926902     & 1.000000     & 60          \\\\\n",
       "\t GL430166     &    11932     & C            & T            & 1.000008     & 0.999954     & 1.001002     & 2            & 1.000000     & 0.290741     & ⋯            & 1.740398e-02 & 3.283531e-07 & 61           & 6.273235e-07 &  0.000008    & T            & 0.577796     & 0.681565     & 1.000008     & 61          \\\\\n",
       "\t GL430271     &   525210     & C            & T            & 1.000008     & 0.999954     & 1.001002     & 2            & 1.000001     & 0.999998     & ⋯            & 4.438996e-03 & 8.981339e-08 & 37           & 3.805077e-07 &  0.000007    & T            & 0.545407     & 0.569574     & 1.000008     & 65          \\\\\n",
       "\t GL430281     &   514067     & T            & C            & 0.000000     & 0.000004     & 0.000000     & 2            & 0.000000     & 0.000005     & ⋯            & 1.549998e-04 & 2.211817e-07 & 55           & 5.656196e-07 &  0.000000    & T            & 0.928662     & 0.874910     & 1.000000     & 66          \\\\\n",
       "\t GL430746     &     9663     & C            & T            & 0.000000     & 0.000006     & 0.000000     & 1            & 0.000000     & 0.000006     & ⋯            & 9.999990e-07 & 3.470641e-07 & 64           & 6.581755e-07 &  0.000000    & C            & 0.765888     & 1.000000     & 1.000000     & 70          \\\\\n",
       "\t GL432768     &      965     & C            & T            & 0.000000     & 0.000003     & 0.000000     & 3            & 0.000000     & 0.000002     & ⋯            & 1.499999e-05 & 1.174298e-08 & 19           & 1.953959e-07 &  0.000000    & C            & 0.706956     & 0.848020     & 1.000000     & 72          \\\\\n",
       "\\end{tabular}\n"
      ],
      "text/markdown": [
       "\n",
       "Scaffold | Position | Major.x | Minor.x | Maf1_Post | Maf2_Post | Maf3_Post | nInd_Post | Maf1_Pre | Maf2_Pre | ⋯ | NY_Pval | CombinedP | rank | BH | diff_myso | Allele | Freq.NJ | Freq.NY | Freq.SO | BPCum | \n",
       "|---|---|---|---|---|---|---|---|---|---|---|---|---|---|---|---|---|---|---|---|---|---|---|---|---|---|---|---|---|---|---|---|---|---|---|---|---|\n",
       "| GL429767     | 38456248     | T            | C            | 0.666710     | 0.399978     | 0.667001     | 3            | 0.459748     | 0.214584     | ⋯            | 1.383999e-03 | 7.236905e-07 | 80           | 8.227194e-07 |  0.206962    | C            | 0.714101     | 0.533540     | 0.666710     | 3            | \n",
       "| GL429767     | 46534125     | C            | T            | 0.000000     | 0.000006     | 0.000000     | 2            | 0.000000     | 0.000003     | ⋯            | 9.999990e-07 | 1.636561e-09 | 10           | 1.028399e-07 |  0.000000    | C            | 0.859642     | 1.000000     | 1.000000     | 4            | \n",
       "| GL429767     | 51542790     | G            | T            | 1.000005     | 0.452893     | 1.001002     | 3            | 1.000002     | 0.999787     | ⋯            | 3.999996e-06 | 8.273935e-08 | 36           | 3.702237e-07 |  0.000003    | T            | 0.719369     | 0.672139     | 1.000005     | 5            | \n",
       "| GL429767     | 51542832     | G            | A            | 1.000005     | 0.452893     | 1.001002     | 3            | 1.000003     | 0.999998     | ⋯            | 2.539997e-04 | 5.865785e-09 | 15           | 1.542599e-07 |  0.000002    | A            | 0.712276     | 0.729278     | 1.000005     | 6            | \n",
       "| GL429768     |  9041952     | A            | G            | 0.000000     | 0.000006     | 0.000000     | 5            | 0.000000     | 0.000002     | ⋯            | 9.999990e-07 | 8.732174e-07 | 85           | 8.741394e-07 |  0.000000    | A            | 0.660159     | 0.885159     | 1.000000     | 8            | \n",
       "| GL429768     | 29962249     | A            | G            | 0.600992     | 0.305758     | 0.608913     | 4            | 0.798076     | 0.798074     | ⋯            | 5.241995e-03 | 1.051887e-07 | 38           | 3.907917e-07 | -0.197084    | G            | 0.659928     | 0.636289     | 0.600992     | 9            | \n",
       "| GL429770     |  8292792     | A            | T            | 0.000000     | 0.000006     | 0.000000     | 5            | 0.000000     | 0.000002     | ⋯            | 9.999990e-07 | 2.124122e-10 |  8           | 8.227194e-08 |  0.000000    | A            | 0.720687     | 0.956862     | 1.000000     | 10           | \n",
       "| GL429773     |  7204887     | C            | T            | 1.000008     | 0.999954     | 1.001002     | 2            | 1.000005     | 0.999998     | ⋯            | 4.671095e-02 | 8.351578e-07 | 84           | 8.638554e-07 |  0.000003    | T            | 0.812410     | 0.883925     | 1.000008     | 12           | \n",
       "| GL429781     |  7594948     | A            | T            | 0.000000     | 0.000003     | 0.000000     | 4            | 0.000000     | 0.000003     | ⋯            | 9.999990e-07 | 3.284782e-07 | 62           | 6.376075e-07 |  0.000000    | A            | 0.827179     | 0.874468     | 1.000000     | 15           | \n",
       "| GL429783     |   665407     | C            | T            | 0.666715     | 0.399991     | 0.667001     | 3            | 0.841646     | 0.309023     | ⋯            | 3.521596e-02 | 6.395835e-07 | 75           | 7.712994e-07 | -0.174931    | T            | 0.801063     | 0.811486     | 0.666715     | 16           | \n",
       "| GL429795     |  3907289     | G            | A            | 1.000008     | 0.999954     | 1.001002     | 1            | 1.000005     | 0.999998     | ⋯            | 1.999998e-06 | 5.587564e-11 |  5           | 5.141996e-08 |  0.000003    | A            | 0.515268     | 0.735991     | 1.000008     | 19           | \n",
       "| GL429835     |  2966433     | A            | G            | 0.000000     | 0.241019     | 0.000000     | 3            | 0.000000     | 0.039358     | ⋯            | 2.249998e-04 | 6.645927e-07 | 76           | 7.815834e-07 |  0.000000    | A            | 0.769367     | 0.912398     | 1.000000     | 22           | \n",
       "| GL429835     |  2966452     | T            | G            | 0.000000     | 0.000003     | 0.000000     | 5            | 0.000000     | 0.000004     | ⋯            | 4.599995e-05 | 7.881321e-07 | 83           | 8.535714e-07 |  0.000000    | T            | 0.865913     | 0.935883     | 1.000000     | 23           | \n",
       "| GL429841     |  3522450     | A            | G            | 1.000008     | 0.999954     | 1.001002     | 2            | 1.000004     | 0.999996     | ⋯            | 4.637995e-03 | 1.808430e-07 | 51           | 5.244836e-07 |  0.000004    | G            | 0.698889     | 0.558831     | 1.000008     | 26           | \n",
       "| GL429848     |  2603829     | T            | C            | 1.000008     | 0.999954     | 1.001002     | 3            | 1.000002     | 0.406144     | ⋯            | 3.570996e-03 | 1.411062e-07 | 44           | 4.524957e-07 |  0.000006    | C            | 0.769942     | 0.730515     | 1.000008     | 29           | \n",
       "| GL429861     |   293372     | A            | G            | 1.000008     | 0.999954     | 1.001002     | 1            | 0.799986     | 0.799988     | ⋯            | 9.999990e-07 | 4.818695e-08 | 28           | 2.879518e-07 |  0.200022    | G            | 0.700343     | 1.000004     | 1.000008     | 32           | \n",
       "| GL429873     |  2056629     | T            | A            | 0.000000     | 0.000006     | 0.000000     | 2            | 0.000000     | 0.000006     | ⋯            | 3.754496e-02 | 6.794778e-07 | 77           | 7.918674e-07 |  0.000000    | T            | 0.628909     | 0.804770     | 1.000000     | 36           | \n",
       "| GL429888     |  3508435     | A            | T            | 1.000005     | 0.999997     | 1.001002     | 6            | 1.000003     | 0.999999     | ⋯            | 6.600993e-03 | 1.309375e-07 | 43           | 4.422117e-07 |  0.000002    | T            | 0.929041     | 0.696250     | 1.000005     | 40           | \n",
       "| GL429896     |  2002301     | A            | G            | 1.000008     | 0.999954     | 1.001002     | 2            | 1.000002     | 0.999859     | ⋯            | 9.999990e-07 | 9.876356e-09 | 18           | 1.851119e-07 |  0.000006    | G            | 0.677185     | 0.823351     | 1.000008     | 41           | \n",
       "| GL429906     |  1866953     | C            | T            | 0.000000     | 0.000006     | 0.000000     | 1            | 0.000000     | 0.000002     | ⋯            | 1.545998e-03 | 3.291056e-08 | 25           | 2.570998e-07 |  0.000000    | C            | 0.754955     | 0.763507     | 1.000000     | 42           | \n",
       "| GL429930     |  2586279     | C            | T            | 0.000000     | 0.000006     | 0.000000     | 1            | 0.000000     | 0.000005     | ⋯            | 9.999990e-07 | 5.924681e-07 | 72           | 7.404475e-07 |  0.000000    | C            | 0.830927     | 0.645355     | 1.000000     | 44           | \n",
       "| GL429938     |  2500270     | A            | G            | 0.000000     | 0.000005     | 0.000000     | 3            | 0.000000     | 0.000006     | ⋯            | 9.999990e-07 | 6.265856e-08 | 31           | 3.188038e-07 |  0.000000    | A            | 0.769302     | 1.000000     | 1.000000     | 45           | \n",
       "| GL429947     |  1200485     | A            | G            | 1.000005     | 0.999997     | 1.001002     | 3            | 1.000001     | 0.999829     | ⋯            | 9.999990e-07 | 7.668012e-08 | 34           | 3.496557e-07 |  0.000004    | G            | 0.526776     | 1.000006     | 1.000005     | 46           | \n",
       "| GL429955     |  1484586     | G            | A            | 0.000000     | 0.000003     | 0.000000     | 3            | 0.000000     | 0.000005     | ⋯            | 9.999990e-07 | 8.239156e-08 | 35           | 3.599397e-07 |  0.000000    | G            | 0.796397     | 1.000000     | 1.000000     | 48           | \n",
       "| GL429962     |   689293     | A            | C            | 0.000000     | 0.000006     | 0.000000     | 4            | 0.000000     | 0.000005     | ⋯            | 9.999990e-07 | 2.863097e-11 |  3           | 3.085198e-08 |  0.000000    | A            | 0.788511     | 1.000000     | 1.000000     | 49           | \n",
       "| GL429965     |  1956978     | G            | A            | 0.000000     | 0.000005     | 0.000000     | 3            | 0.000000     | 0.000004     | ⋯            | 9.999990e-07 | 4.739111e-08 | 26           | 2.673838e-07 |  0.000000    | G            | 0.902183     | 1.000000     | 1.000000     | 50           | \n",
       "| GL429998     |    99324     | C            | G            | 0.000000     | 0.000006     | 0.000000     | 2            | 0.000000     | 0.000003     | ⋯            | 9.999990e-07 | 2.158392e-07 | 54           | 5.553356e-07 |  0.000000    | C            | 0.752197     | 0.857387     | 1.000000     | 53           | \n",
       "| GL430008     |  1396110     | C            | T            | 0.000000     | 0.000006     | 0.000000     | 2            | 0.000000     | 0.000002     | ⋯            | 3.999996e-06 | 1.089787e-10 |  6           | 6.170395e-08 |  0.000000    | C            | 0.910410     | 0.738216     | 1.000000     | 54           | \n",
       "| GL430018     |   180278     | T            | A            | 0.000000     | 0.000005     | 0.000000     | 3            | 0.000000     | 0.000003     | ⋯            | 9.999990e-07 | 7.316050e-09 | 16           | 1.645439e-07 |  0.000000    | T            | 0.941811     | 1.000000     | 1.000000     | 55           | \n",
       "| GL430128     |   735347     | A            | G            | 0.000000     | 0.000004     | 0.000000     | 2            | 0.000000     | 0.000005     | ⋯            | 9.999990e-07 | 1.245054e-07 | 42           | 4.319277e-07 |  0.000000    | A            | 0.842176     | 1.000000     | 1.000000     | 58           | \n",
       "| GL430156     |   916661     | C            | T            | 0.000000     | 0.000006     | 0.000000     | 3            | 0.000000     | 0.000003     | ⋯            | 9.999990e-07 | 1.458099e-07 | 46           | 4.730637e-07 |  0.000000    | C            | 0.904422     | 1.000000     | 1.000000     | 59           | \n",
       "| GL430158     |   593841     | T            | G            | 0.000000     | 0.000004     | 0.000000     | 2            | 0.000000     | 0.000003     | ⋯            | 9.999990e-07 | 2.009607e-09 | 11           | 1.131239e-07 |  0.000000    | T            | 0.938792     | 0.926902     | 1.000000     | 60           | \n",
       "| GL430166     |    11932     | C            | T            | 1.000008     | 0.999954     | 1.001002     | 2            | 1.000000     | 0.290741     | ⋯            | 1.740398e-02 | 3.283531e-07 | 61           | 6.273235e-07 |  0.000008    | T            | 0.577796     | 0.681565     | 1.000008     | 61           | \n",
       "| GL430271     |   525210     | C            | T            | 1.000008     | 0.999954     | 1.001002     | 2            | 1.000001     | 0.999998     | ⋯            | 4.438996e-03 | 8.981339e-08 | 37           | 3.805077e-07 |  0.000007    | T            | 0.545407     | 0.569574     | 1.000008     | 65           | \n",
       "| GL430281     |   514067     | T            | C            | 0.000000     | 0.000004     | 0.000000     | 2            | 0.000000     | 0.000005     | ⋯            | 1.549998e-04 | 2.211817e-07 | 55           | 5.656196e-07 |  0.000000    | T            | 0.928662     | 0.874910     | 1.000000     | 66           | \n",
       "| GL430746     |     9663     | C            | T            | 0.000000     | 0.000006     | 0.000000     | 1            | 0.000000     | 0.000006     | ⋯            | 9.999990e-07 | 3.470641e-07 | 64           | 6.581755e-07 |  0.000000    | C            | 0.765888     | 1.000000     | 1.000000     | 70           | \n",
       "| GL432768     |      965     | C            | T            | 0.000000     | 0.000003     | 0.000000     | 3            | 0.000000     | 0.000002     | ⋯            | 1.499999e-05 | 1.174298e-08 | 19           | 1.953959e-07 |  0.000000    | C            | 0.706956     | 0.848020     | 1.000000     | 72           | \n",
       "\n",
       "\n"
      ],
      "text/plain": [
       "   Scaffold Position Major.x Minor.x Maf1_Post Maf2_Post Maf3_Post nInd_Post\n",
       "1  GL429767 38456248 T       C       0.666710  0.399978  0.667001  3        \n",
       "2  GL429767 46534125 C       T       0.000000  0.000006  0.000000  2        \n",
       "3  GL429767 51542790 G       T       1.000005  0.452893  1.001002  3        \n",
       "4  GL429767 51542832 G       A       1.000005  0.452893  1.001002  3        \n",
       "5  GL429768  9041952 A       G       0.000000  0.000006  0.000000  5        \n",
       "6  GL429768 29962249 A       G       0.600992  0.305758  0.608913  4        \n",
       "7  GL429770  8292792 A       T       0.000000  0.000006  0.000000  5        \n",
       "8  GL429773  7204887 C       T       1.000008  0.999954  1.001002  2        \n",
       "9  GL429781  7594948 A       T       0.000000  0.000003  0.000000  4        \n",
       "10 GL429783   665407 C       T       0.666715  0.399991  0.667001  3        \n",
       "11 GL429795  3907289 G       A       1.000008  0.999954  1.001002  1        \n",
       "12 GL429835  2966433 A       G       0.000000  0.241019  0.000000  3        \n",
       "13 GL429835  2966452 T       G       0.000000  0.000003  0.000000  5        \n",
       "14 GL429841  3522450 A       G       1.000008  0.999954  1.001002  2        \n",
       "15 GL429848  2603829 T       C       1.000008  0.999954  1.001002  3        \n",
       "16 GL429861   293372 A       G       1.000008  0.999954  1.001002  1        \n",
       "17 GL429873  2056629 T       A       0.000000  0.000006  0.000000  2        \n",
       "18 GL429888  3508435 A       T       1.000005  0.999997  1.001002  6        \n",
       "19 GL429896  2002301 A       G       1.000008  0.999954  1.001002  2        \n",
       "20 GL429906  1866953 C       T       0.000000  0.000006  0.000000  1        \n",
       "21 GL429930  2586279 C       T       0.000000  0.000006  0.000000  1        \n",
       "22 GL429938  2500270 A       G       0.000000  0.000005  0.000000  3        \n",
       "23 GL429947  1200485 A       G       1.000005  0.999997  1.001002  3        \n",
       "24 GL429955  1484586 G       A       0.000000  0.000003  0.000000  3        \n",
       "25 GL429962   689293 A       C       0.000000  0.000006  0.000000  4        \n",
       "26 GL429965  1956978 G       A       0.000000  0.000005  0.000000  3        \n",
       "27 GL429998    99324 C       G       0.000000  0.000006  0.000000  2        \n",
       "28 GL430008  1396110 C       T       0.000000  0.000006  0.000000  2        \n",
       "29 GL430018   180278 T       A       0.000000  0.000005  0.000000  3        \n",
       "30 GL430128   735347 A       G       0.000000  0.000004  0.000000  2        \n",
       "31 GL430156   916661 C       T       0.000000  0.000006  0.000000  3        \n",
       "32 GL430158   593841 T       G       0.000000  0.000004  0.000000  2        \n",
       "33 GL430166    11932 C       T       1.000008  0.999954  1.001002  2        \n",
       "34 GL430271   525210 C       T       1.000008  0.999954  1.001002  2        \n",
       "35 GL430281   514067 T       C       0.000000  0.000004  0.000000  2        \n",
       "36 GL430746     9663 C       T       0.000000  0.000006  0.000000  1        \n",
       "37 GL432768      965 C       T       0.000000  0.000003  0.000000  3        \n",
       "   Maf1_Pre Maf2_Pre ⋯ NY_Pval      CombinedP    rank BH           diff_myso\n",
       "1  0.459748 0.214584 ⋯ 1.383999e-03 7.236905e-07 80   8.227194e-07  0.206962\n",
       "2  0.000000 0.000003 ⋯ 9.999990e-07 1.636561e-09 10   1.028399e-07  0.000000\n",
       "3  1.000002 0.999787 ⋯ 3.999996e-06 8.273935e-08 36   3.702237e-07  0.000003\n",
       "4  1.000003 0.999998 ⋯ 2.539997e-04 5.865785e-09 15   1.542599e-07  0.000002\n",
       "5  0.000000 0.000002 ⋯ 9.999990e-07 8.732174e-07 85   8.741394e-07  0.000000\n",
       "6  0.798076 0.798074 ⋯ 5.241995e-03 1.051887e-07 38   3.907917e-07 -0.197084\n",
       "7  0.000000 0.000002 ⋯ 9.999990e-07 2.124122e-10  8   8.227194e-08  0.000000\n",
       "8  1.000005 0.999998 ⋯ 4.671095e-02 8.351578e-07 84   8.638554e-07  0.000003\n",
       "9  0.000000 0.000003 ⋯ 9.999990e-07 3.284782e-07 62   6.376075e-07  0.000000\n",
       "10 0.841646 0.309023 ⋯ 3.521596e-02 6.395835e-07 75   7.712994e-07 -0.174931\n",
       "11 1.000005 0.999998 ⋯ 1.999998e-06 5.587564e-11  5   5.141996e-08  0.000003\n",
       "12 0.000000 0.039358 ⋯ 2.249998e-04 6.645927e-07 76   7.815834e-07  0.000000\n",
       "13 0.000000 0.000004 ⋯ 4.599995e-05 7.881321e-07 83   8.535714e-07  0.000000\n",
       "14 1.000004 0.999996 ⋯ 4.637995e-03 1.808430e-07 51   5.244836e-07  0.000004\n",
       "15 1.000002 0.406144 ⋯ 3.570996e-03 1.411062e-07 44   4.524957e-07  0.000006\n",
       "16 0.799986 0.799988 ⋯ 9.999990e-07 4.818695e-08 28   2.879518e-07  0.200022\n",
       "17 0.000000 0.000006 ⋯ 3.754496e-02 6.794778e-07 77   7.918674e-07  0.000000\n",
       "18 1.000003 0.999999 ⋯ 6.600993e-03 1.309375e-07 43   4.422117e-07  0.000002\n",
       "19 1.000002 0.999859 ⋯ 9.999990e-07 9.876356e-09 18   1.851119e-07  0.000006\n",
       "20 0.000000 0.000002 ⋯ 1.545998e-03 3.291056e-08 25   2.570998e-07  0.000000\n",
       "21 0.000000 0.000005 ⋯ 9.999990e-07 5.924681e-07 72   7.404475e-07  0.000000\n",
       "22 0.000000 0.000006 ⋯ 9.999990e-07 6.265856e-08 31   3.188038e-07  0.000000\n",
       "23 1.000001 0.999829 ⋯ 9.999990e-07 7.668012e-08 34   3.496557e-07  0.000004\n",
       "24 0.000000 0.000005 ⋯ 9.999990e-07 8.239156e-08 35   3.599397e-07  0.000000\n",
       "25 0.000000 0.000005 ⋯ 9.999990e-07 2.863097e-11  3   3.085198e-08  0.000000\n",
       "26 0.000000 0.000004 ⋯ 9.999990e-07 4.739111e-08 26   2.673838e-07  0.000000\n",
       "27 0.000000 0.000003 ⋯ 9.999990e-07 2.158392e-07 54   5.553356e-07  0.000000\n",
       "28 0.000000 0.000002 ⋯ 3.999996e-06 1.089787e-10  6   6.170395e-08  0.000000\n",
       "29 0.000000 0.000003 ⋯ 9.999990e-07 7.316050e-09 16   1.645439e-07  0.000000\n",
       "30 0.000000 0.000005 ⋯ 9.999990e-07 1.245054e-07 42   4.319277e-07  0.000000\n",
       "31 0.000000 0.000003 ⋯ 9.999990e-07 1.458099e-07 46   4.730637e-07  0.000000\n",
       "32 0.000000 0.000003 ⋯ 9.999990e-07 2.009607e-09 11   1.131239e-07  0.000000\n",
       "33 1.000000 0.290741 ⋯ 1.740398e-02 3.283531e-07 61   6.273235e-07  0.000008\n",
       "34 1.000001 0.999998 ⋯ 4.438996e-03 8.981339e-08 37   3.805077e-07  0.000007\n",
       "35 0.000000 0.000005 ⋯ 1.549998e-04 2.211817e-07 55   5.656196e-07  0.000000\n",
       "36 0.000000 0.000006 ⋯ 9.999990e-07 3.470641e-07 64   6.581755e-07  0.000000\n",
       "37 0.000000 0.000002 ⋯ 1.499999e-05 1.174298e-08 19   1.953959e-07  0.000000\n",
       "   Allele Freq.NJ  Freq.NY  Freq.SO  BPCum\n",
       "1  C      0.714101 0.533540 0.666710 3    \n",
       "2  C      0.859642 1.000000 1.000000 4    \n",
       "3  T      0.719369 0.672139 1.000005 5    \n",
       "4  A      0.712276 0.729278 1.000005 6    \n",
       "5  A      0.660159 0.885159 1.000000 8    \n",
       "6  G      0.659928 0.636289 0.600992 9    \n",
       "7  A      0.720687 0.956862 1.000000 10   \n",
       "8  T      0.812410 0.883925 1.000008 12   \n",
       "9  A      0.827179 0.874468 1.000000 15   \n",
       "10 T      0.801063 0.811486 0.666715 16   \n",
       "11 A      0.515268 0.735991 1.000008 19   \n",
       "12 A      0.769367 0.912398 1.000000 22   \n",
       "13 T      0.865913 0.935883 1.000000 23   \n",
       "14 G      0.698889 0.558831 1.000008 26   \n",
       "15 C      0.769942 0.730515 1.000008 29   \n",
       "16 G      0.700343 1.000004 1.000008 32   \n",
       "17 T      0.628909 0.804770 1.000000 36   \n",
       "18 T      0.929041 0.696250 1.000005 40   \n",
       "19 G      0.677185 0.823351 1.000008 41   \n",
       "20 C      0.754955 0.763507 1.000000 42   \n",
       "21 C      0.830927 0.645355 1.000000 44   \n",
       "22 A      0.769302 1.000000 1.000000 45   \n",
       "23 G      0.526776 1.000006 1.000005 46   \n",
       "24 G      0.796397 1.000000 1.000000 48   \n",
       "25 A      0.788511 1.000000 1.000000 49   \n",
       "26 G      0.902183 1.000000 1.000000 50   \n",
       "27 C      0.752197 0.857387 1.000000 53   \n",
       "28 C      0.910410 0.738216 1.000000 54   \n",
       "29 T      0.941811 1.000000 1.000000 55   \n",
       "30 A      0.842176 1.000000 1.000000 58   \n",
       "31 C      0.904422 1.000000 1.000000 59   \n",
       "32 T      0.938792 0.926902 1.000000 60   \n",
       "33 T      0.577796 0.681565 1.000008 61   \n",
       "34 T      0.545407 0.569574 1.000008 65   \n",
       "35 T      0.928662 0.874910 1.000000 66   \n",
       "36 C      0.765888 1.000000 1.000000 70   \n",
       "37 C      0.706956 0.848020 1.000000 72   "
      ]
     },
     "metadata": {},
     "output_type": "display_data"
    }
   ],
   "source": [
    "subset(All_mylu_mysosig, Position %in% All_mylu_myso_close$Position)"
   ]
  },
  {
   "cell_type": "code",
   "execution_count": 96,
   "metadata": {},
   "outputs": [
    {
     "data": {},
     "metadata": {},
     "output_type": "display_data"
    },
    {
     "data": {
      "image/png": "[encoded data removed]",
      "text/plain": [
       "plot without title"
      ]
     },
     "metadata": {},
     "output_type": "display_data"
    }
   ],
   "source": [
    "ggplot(data=All_mylu_mysosig )+\n",
    "    geom_point( aes(x=BPCum, y=Freq.NJ, color=as.factor(Scaffold)), size=2, pch=0) +\n",
    "    geom_point( aes(x=BPCum, y=Freq.NY, color=as.factor(Scaffold)), size=2, pch=1) +\n",
    "    geom_point( aes(x=BPCum, y=Freq.SO, color=as.factor(Scaffold)), size=2, pch=2) +\n",
    "    scale_color_manual(values = rep(c(\"darkgrey\", \"black\"), 58 )) +\n",
    "    geom_rect(data=subset(All_mylu_mysosig, Position %in% All_mylu_myso_close$Position), aes( xmin=BPCum-0.2, xmax=BPCum+0.2, ymin=-.01, ymax=1.01), fill=\"lightblue\", alpha=0.5) +   \n",
    "    theme_bw() +\n",
    "    xlab(\"Scaffold\")+\n",
    "    ylab(\"Selected Allele Frequency\")+\n",
    "    ylim(-0.01, 1.01)+\n",
    "    theme(legend.position=\"none\", panel.border = element_blank(), \n",
    "          panel.grid.major.x = element_blank(), \n",
    "          panel.grid.minor.x = element_blank(),\n",
    "          axis.text.x=element_blank(),\n",
    "          axis.ticks.x=element_blank(), axis.line=element_line(color=\"black\"), axis.text=element_text(color=\"black\"),\n",
    "          text = element_text(size=20)\n",
    "    )"
   ]
  },
  {
   "cell_type": "code",
   "execution_count": 12,
   "metadata": {
    "scrolled": true
   },
   "outputs": [
    {
     "name": "stdout",
     "output_type": "stream",
     "text": [
      "    Scaffold Position Major.x Minor.x Maf1_Post Maf2_Post Maf3_Post nInd_Post\n",
      " 1: GL429767  4550108       T       C  1.000003  0.361570  1.001002         2\n",
      " 2: GL429767 22649683       T       A  0.000000  0.000003  0.000000         3\n",
      " 3: GL429767 38456248       T       C  0.666710  0.399978  0.667001         3\n",
      " 4: GL429767 46534125       C       T  0.000000  0.000006  0.000000         2\n",
      " 5: GL429767 51542790       G       T  1.000005  0.452893  1.001002         3\n",
      " 6: GL429767 51542832       G       A  1.000005  0.452893  1.001002         3\n",
      " 7: GL429768  3921142       G       C  1.000008  0.999954  1.001002         1\n",
      " 8: GL429768  9041952       A       G  0.000000  0.000006  0.000000         5\n",
      " 9: GL429768 29962249       A       G  0.600992  0.305758  0.608913         4\n",
      "10: GL429770  8292792       A       T  0.000000  0.000006  0.000000         5\n",
      "11: GL429770  8507307       A       C  0.000000  0.000005  0.000000         3\n",
      "12: GL429773  7204887       C       T  1.000008  0.999954  1.001002         2\n",
      "13: GL429775  5556309       A       C  0.000000  0.000006  0.000000         1\n",
      "14: GL429778  3561000       G       A  0.000000  0.000006  0.000000         5\n",
      "15: GL429781  7594948       A       T  0.000000  0.000003  0.000000         4\n",
      "16: GL429783   665407       C       T  0.666715  0.399991  0.667001         3\n",
      "17: GL429784  1229639       G       A  1.000008  0.999991  1.001002         6\n",
      "18: GL429792   753145       C       A  0.000000  0.000004  0.000000         4\n",
      "19: GL429795  3907289       G       A  1.000008  0.999954  1.001002         1\n",
      "20: GL429806  3311579       T       C  1.000003  0.361570  1.001002         2\n",
      "21: GL429816  3229647       G       A  0.000000  0.000005  0.000000         6\n",
      "22: GL429835  2966433       A       G  0.000000  0.241019  0.000000         3\n",
      "23: GL429835  2966452       T       G  0.000000  0.000003  0.000000         5\n",
      "24: GL429839   183883       C       T  0.000000  0.000005  0.000000         3\n",
      "25: GL429841   612532       G       A  0.000000  0.000006  0.000000         3\n",
      "26: GL429841  3522450       A       G  1.000008  0.999954  1.001002         2\n",
      "27: GL429842  4124241       A       G  1.000008  0.999954  1.001002         2\n",
      "28: GL429845  2091046       C       T  1.000008  0.999954  1.001002         1\n",
      "29: GL429848  2603829       T       C  1.000008  0.999954  1.001002         3\n",
      "30: GL429855  4401152       G       C  1.000008  0.999954  1.001002         1\n",
      "31: GL429859   300331       T       C  1.000007  0.999905  1.001002         4\n",
      "32: GL429861   293372       A       G  1.000008  0.999954  1.001002         1\n",
      "33: GL429861  3065399       A       G  0.000000  0.000006  0.000000         2\n",
      "34: GL429867  2575249       A       G  0.000000  0.000006  0.000000         1\n",
      "35: GL429871    64000       A       G  1.000008  0.999954  1.001002         1\n",
      "36: GL429873  2056629       T       A  0.000000  0.000006  0.000000         2\n",
      "37: GL429879   384336       G       A  1.000003  0.361570  1.001002         2\n",
      "38: GL429885   617822       C       T  0.000000  0.000006  0.000000         3\n",
      "39: GL429885  2043530       T       C  0.000000  0.000006  0.000000         5\n",
      "40: GL429888  3508435       A       T  1.000005  0.999997  1.001002         6\n",
      "41: GL429896  2002301       A       G  1.000008  0.999954  1.001002         2\n",
      "42: GL429906  1866953       C       T  0.000000  0.000006  0.000000         1\n",
      "43: GL429910  2414078       A       C  0.000000  0.000000  0.000000         1\n",
      "44: GL429930  2586279       C       T  0.000000  0.000006  0.000000         1\n",
      "45: GL429938  2500270       A       G  0.000000  0.000005  0.000000         3\n",
      "46: GL429947  1200485       A       G  1.000005  0.999997  1.001002         3\n",
      "47: GL429950  2444879       G       A  0.000000  0.000000  0.000000         1\n",
      "48: GL429955  1484586       G       A  0.000000  0.000003  0.000000         3\n",
      "49: GL429962   689293       A       C  0.000000  0.000006  0.000000         4\n",
      "50: GL429965  1956978       G       A  0.000000  0.000005  0.000000         3\n",
      "51: GL429969   109273       C       T  0.000000  0.000006  0.000000         2\n",
      "52: GL429982  1303809       G       A  0.000000  0.000005  0.000000         3\n",
      "53: GL429998    99324       C       G  0.000000  0.000006  0.000000         2\n",
      "54: GL430008  1396110       C       T  0.000000  0.000006  0.000000         2\n",
      "55: GL430018   180278       T       A  0.000000  0.000005  0.000000         3\n",
      "56: GL430029  1661413       A       C  0.000000  0.000006  0.000000         3\n",
      "57: GL430036   626424       G       T  1.000008  0.999954  1.001002         2\n",
      "58: GL430128   735347       A       G  0.000000  0.000004  0.000000         2\n",
      "59: GL430156   916661       C       T  0.000000  0.000006  0.000000         3\n",
      "60: GL430158   593841       T       G  0.000000  0.000004  0.000000         2\n",
      "61: GL430166    11932       C       T  1.000008  0.999954  1.001002         2\n",
      "62: GL430239    60325       G       A  1.000008  0.999954  1.001002         2\n",
      "63: GL430239    60326       T       C  1.000008  0.999954  1.001002         2\n",
      "64: GL430271   326498       A       G  0.000000  0.000006  0.000000         2\n",
      "65: GL430271   525210       C       T  1.000008  0.999954  1.001002         2\n",
      "66: GL430281   514067       T       C  0.000000  0.000004  0.000000         2\n",
      "67: GL430482   173352       C       T  1.000008  0.999991  1.001002         2\n",
      "68: GL430565    94959       A       G  1.000008  0.999954  1.001002         3\n",
      "69: GL430686    91034       C       T  0.000000  0.000006  0.000000         4\n",
      "70: GL430746     9663       C       T  0.000000  0.000006  0.000000         1\n",
      "71: GL430870    25568       C       T  0.000000  0.000006  0.000000         3\n",
      "72: GL432768      965       C       T  0.000000  0.000003  0.000000         3\n",
      "    Scaffold Position Major.x Minor.x Maf1_Post Maf2_Post Maf3_Post nInd_Post\n",
      "    Maf1_Pre Maf2_Pre Maf3_Pre nInd_Pre  X Major.y Minor.y Maf1_E.NJ Maf2_E.NJ\n",
      " 1: 1.000002 0.999997 1.001002        7  4       T       C  0.234004  0.234005\n",
      " 2: 0.000000 0.000004 0.000000        4  2       T       A  0.536439  0.536439\n",
      " 3: 0.459748 0.214584 0.521783        3  3       T       C  0.714101  0.714099\n",
      " 4: 0.000000 0.000003 0.000000        5  5       C       T  0.140358  0.140358\n",
      " 5: 1.000002 0.999787 1.001002        3  6       G       T  0.719369  0.719370\n",
      " 6: 1.000003 0.999998 1.001002        4  7       G       A  0.712276  0.712276\n",
      " 7: 1.000003 0.654642 1.001002        2  9       G       C  0.241852  0.241860\n",
      " 8: 0.000000 0.000002 0.000000        4 10       A       G  0.339841  0.110988\n",
      " 9: 0.798076 0.798074 0.781050        6  8       A       G  0.659928  0.659926\n",
      "10: 0.000000 0.000002 0.000000        6 11       A       T  0.279313  0.279313\n",
      "11: 0.000000 0.000001 0.000000        4 12       A       C  0.726631  0.726628\n",
      "12: 1.000005 0.999998 1.001002        4 15       C       T  0.812410  0.812404\n",
      "13: 0.000000 0.000000 0.000000        1 16       A       C  0.534838  0.534828\n",
      "14: 0.000000 0.000005 0.000000        3 17       G       A  0.556956  0.556950\n",
      "15: 0.000000 0.000003 0.000000        7 18       A       T  0.172821  0.000035\n",
      "16: 0.841646 0.309023 0.832125        5 19       C       T  0.801063  0.801063\n",
      "17: 1.000001 0.428362 1.001002        2 20       G       A  0.200197  0.064308\n",
      "18: 0.000000 0.000002 0.000000        5 21       C       A  0.546455  0.546455\n",
      "19: 1.000005 0.999998 1.001002        4 22       G       A  0.515268  0.515268\n",
      "20: 0.796927 0.796806 0.786287        4 24       T       C  0.241911  0.241913\n",
      "21: 0.000000 0.000004 0.000000        6 25       G       A  0.612853  0.612852\n",
      "22: 0.000000 0.039358 0.000000        6 28       A       G  0.230633  0.230638\n",
      "23: 0.000000 0.000004 0.000000        6 29       T       G  0.134087  0.046865\n",
      "24: 0.000000 0.000003 0.000000        4 30       C       T  0.673040  0.673038\n",
      "25: 0.000000 0.000004 0.000000        4 32       G       A  0.509017  0.509011\n",
      "26: 1.000004 0.999996 1.001002        5 31       A       G  0.698889  0.698891\n",
      "27: 1.000007 0.999994 1.001002        6 33       A       G  0.206881  0.206883\n",
      "28: 1.000006 0.999996 1.001002        6 34       C       T  0.272183  0.272184\n",
      "29: 1.000002 0.406144 1.001002        2 35       T       C  0.769942  0.769944\n",
      "30: 1.000000 0.332034 1.001002        1 36       G       C  0.189379  0.068466\n",
      "31: 1.000001 0.999997 1.001002        3 37       T       C  0.091638  0.091628\n",
      "32: 0.799986 0.799988 0.708751        4 38       A       G  0.700343  0.700340\n",
      "33: 0.154771 0.057203 0.157209        6 39       A       G  0.573445  0.573441\n",
      "34: 0.000000 0.000001 0.000000        3 40       A       G  0.605625  0.605627\n",
      "35: 1.000007 0.999994 1.001002        4 41       A       G  0.143359  0.051038\n",
      "36: 0.000000 0.000006 0.000000        5 42       T       A  0.371091  0.371093\n",
      "37: 0.808260 0.808258 0.778334        5 43       G       A  0.102340  0.102339\n",
      "38: 0.000000 0.000001 0.000000        7 46       C       T  0.545269  0.545268\n",
      "39: 0.000000 0.000000 0.000000        2 44       T       C  0.605386  0.605382\n",
      "40: 1.000003 0.999999 1.001002        6 47       A       T  0.929041  0.929041\n",
      "41: 1.000002 0.999859 1.001002        2 48       A       G  0.677185  0.677185\n",
      "42: 0.000000 0.000002 0.000000        4 49       C       T  0.245045  0.083420\n",
      "43: 0.000000 0.000002 0.000000        5 50       A       C  0.647307  0.647299\n",
      "44: 0.000000 0.000005 0.000000        3 53       C       T  0.169073  0.047984\n",
      "45: 0.000000 0.000006 0.000000        1 54       A       G  0.230698  0.062436\n",
      "46: 1.000001 0.999829 1.001002        2 55       A       G  0.526776  0.526770\n",
      "47: 0.000000 0.000003 0.000000        4 56       G       A  0.793286  0.793278\n",
      "48: 0.000000 0.000005 0.000000        4 57       G       A  0.203603  0.203610\n",
      "49: 0.000000 0.000005 0.000000        5 58       A       C  0.211489  0.211486\n",
      "50: 0.000000 0.000004 0.000000        4 59       G       A  0.097817  0.034649\n",
      "51: 0.000000 0.000000 0.000000        2 60       C       T  0.567858  0.567859\n",
      "52: 0.000000 0.000003 0.000000        2 61       G       A  0.740366  0.740367\n",
      "53: 0.000000 0.000003 0.000000        3 62       C       G  0.247803  0.072816\n",
      "54: 0.000000 0.000002 0.000000        2 63       C       T  0.089590  0.030632\n",
      "55: 0.000000 0.000003 0.000000        4 64       T       A  0.058189  0.017210\n",
      "56: 0.000000 0.000004 0.000000        4 65       A       C  0.716043  0.716044\n",
      "57: 1.000002 0.485309 1.001002        3 66       G       T  0.152888  0.152464\n",
      "58: 0.000000 0.000005 0.000000        4 69       A       G  0.157824  0.049945\n",
      "59: 0.000000 0.000003 0.000000        6 71       C       T  0.095578  0.033611\n",
      "60: 0.000000 0.000003 0.000000        2 72       T       G  0.061208  0.020541\n",
      "61: 1.000000 0.290741 1.001002        2 73       C       T  0.577796  0.577788\n",
      "62: 1.000008 0.999991 1.001002        4 74       G       A  0.229778  0.229781\n",
      "63: 1.000008 0.999991 1.001002        4 75       T       C  0.184614  0.184618\n",
      "64: 0.000000 0.000002 0.000000        4 76       A       G  0.802685  0.802678\n",
      "65: 1.000001 0.999998 1.001002        5 77       C       T  0.545407  0.545404\n",
      "66: 0.000000 0.000005 0.000000        4 78       T       C  0.071338  0.023731\n",
      "67: 1.000004 0.999915 1.001002        4 79       C       T  0.060444  0.020851\n",
      "68: 0.851040 0.851026 0.944285        3 80       A       G  0.204776  0.200143\n",
      "69: 0.000000 0.000002 0.000000        5 81       C       T  0.516613  0.516613\n",
      "70: 0.000000 0.000006 0.000000        5 82       C       T  0.234112  0.076765\n",
      "71: 0.183602 0.069083 0.142141        4 84       C       T  0.544123  0.544123\n",
      "72: 0.000000 0.000002 0.000000        4 85       C       T  0.293044  0.293045\n",
      "    Maf1_Pre Maf2_Pre Maf3_Pre nInd_Pre  X Major.y Minor.y Maf1_E.NJ Maf2_E.NJ\n",
      "    Maf3_E.NJ nInd_E.NJ Maf1_U.NJ Maf2_U.NJ Maf3_U.NJ nInd_U.NJ   diff.NJ\n",
      " 1:  0.251118        14  0.783170  0.783166  0.785807        10 -0.549161\n",
      " 2:  0.519259        14  0.063587  0.022033  0.065064        14  0.514406\n",
      " 3:  0.741579        13  0.098380  0.034879  0.107743         7  0.679220\n",
      " 4:  0.159855        15  0.750253  0.750251  0.685410         9 -0.609893\n",
      " 5:  0.681925        15  0.188053  0.187880  0.208622        13  0.531490\n",
      " 6:  0.673153        15  0.065864  0.022895  0.072137        11  0.689381\n",
      " 7:  0.228715        12  0.855591  0.855584  0.861548        11 -0.613724\n",
      " 8:  0.310545        10  0.685254  0.685252  0.675351        11 -0.574264\n",
      " 9:  0.725762        15  0.108850  0.108154  0.089906        13  0.551772\n",
      "10:  0.291094        16  0.828528  0.828525  0.839885        12 -0.549212\n",
      "11:  0.769446        14  0.058694  0.023378  0.062550        13  0.703250\n",
      "12:  0.817027        15  0.175132  0.175135  0.150330         7  0.637269\n",
      "13:  0.537405        17  0.000000  0.000005  0.000000        10  0.534823\n",
      "14:  0.592363        13  0.000000  0.000002  0.000000         9  0.556948\n",
      "15:  0.150637        14  0.512764  0.512763  0.493085        16 -0.512728\n",
      "16:  0.800601        12  0.152528  0.081888  0.140125        10  0.719175\n",
      "17:  0.212759        15  0.607522  0.607518  0.661614         8 -0.543210\n",
      "18:  0.545862        16  0.000000  0.000002  0.000000        10  0.546453\n",
      "19:  0.478842         9  0.000000  0.000004  0.000000         9  0.515264\n",
      "20:  0.244587        14  0.898863  0.898864  0.889668         7 -0.656951\n",
      "21:  0.605200        12  0.238570  0.071098  0.258777         8  0.541754\n",
      "22:  0.225589        13  0.740347  0.740340  0.766157         9 -0.509702\n",
      "23:  0.101786        11  0.740447  0.740439  0.777645         9 -0.693574\n",
      "24:  0.628936        11  0.243200  0.090261  0.292267        10  0.582777\n",
      "25:  0.509824        11  0.000000  0.000002  0.000000        10  0.509009\n",
      "26:  0.670283        16  0.150596  0.150423  0.161485        10  0.548468\n",
      "27:  0.202244        12  0.785500  0.785501  0.778334         8 -0.578618\n",
      "28:  0.293102        17  0.786877  0.786876  0.765029        10 -0.514692\n",
      "29:  0.755288        17  0.142335  0.142340  0.093598        15  0.627604\n",
      "30:  0.121194        11  0.656313  0.656148  0.640569         8 -0.587682\n",
      "31:  0.055399        14  0.800565  0.800559  0.810841        11 -0.708931\n",
      "32:  0.681522        10  0.115836  0.037644  0.049519         7  0.662696\n",
      "33:  0.586570        13  0.000000  0.000004  0.000000        12  0.573437\n",
      "34:  0.597164        13  0.000000  0.000005  0.000000         9  0.605622\n",
      "35:  0.141777        14  0.626496  0.626495  0.605845        10 -0.575457\n",
      "36:  0.387491        13  1.000004  0.999997  1.001002         9 -0.628904\n",
      "37:  0.112219        14  0.668032  0.668021  0.673032        12 -0.565682\n",
      "38:  0.543838        15  0.099249  0.035223  0.105218         8  0.510045\n",
      "39:  0.617246        16  0.062815  0.021336  0.053591        12  0.584046\n",
      "40:  0.924513        11  0.250471  0.250470  0.254829        13  0.678571\n",
      "41:  0.654609        16  0.142249  0.141818  0.109412        10  0.535367\n",
      "42:  0.226600        10  0.715546  0.715542  0.734815        10 -0.632122\n",
      "43:  0.648064        14  0.091366  0.091183  0.095190         9  0.556116\n",
      "44:  0.178830        14  0.572669  0.572662  0.584585         9 -0.524678\n",
      "45:  0.257580         9  0.809489  0.809479  0.828783         9 -0.747043\n",
      "46:  0.562949        15  0.087184  0.024734  0.111723        11  0.502036\n",
      "47:  0.797032        11  0.195074  0.070228  0.160034         8  0.723050\n",
      "48:  0.188253        13  0.743008  0.743007  0.727728         9 -0.539397\n",
      "49:  0.261451        15  0.809236  0.809228  0.837358        11 -0.597742\n",
      "50:  0.071871         8  0.582873  0.582862  0.586380         9 -0.548213\n",
      "51:  0.553710        11  0.111374  0.039969  0.082004         7  0.527890\n",
      "52:  0.733763        12  0.114491  0.041163  0.116881         8  0.699204\n",
      "53:  0.291306        12  0.640445  0.640445  0.635406        11 -0.567629\n",
      "54:  0.078365         8  0.672358  0.672358  0.661862         9 -0.641726\n",
      "55:  0.082124        13  0.537911  0.537905  0.574776        12 -0.520695\n",
      "56:  0.692272        15  0.152914  0.152913  0.174349        11  0.563131\n",
      "57:  0.148551        15  0.702602  0.702603  0.701337         7 -0.550139\n",
      "58:  0.161485        10  0.689908  0.689904  0.689155        13 -0.639959\n",
      "59:  0.099198         9  0.565225  0.565215  0.565921        11 -0.531604\n",
      "60:  0.067651        11  0.555929  0.555923  0.586380         9 -0.535382\n",
      "61:  0.629322        13  0.000000  0.000005  0.000000         8  0.577783\n",
      "62:  0.215211        15  0.735117  0.735113  0.771752        10 -0.505332\n",
      "63:  0.177202        16  0.717757  0.717754  0.740639        10 -0.533136\n",
      "64:  0.802817        15  0.215903  0.215905  0.227303        12  0.586773\n",
      "65:  0.555704        15  0.059276  0.019261  0.033313        11  0.526143\n",
      "66:  0.066022        10  0.589231  0.589231  0.552267        11 -0.565500\n",
      "67:  0.066473        11  0.542484  0.542480  0.560732        14 -0.521629\n",
      "68:  0.144744         8  0.762280  0.762278  0.742754        11 -0.562135\n",
      "69:  0.471434        12  0.000000  0.000003  0.000000        10  0.516610\n",
      "70:  0.209946        11  0.707310  0.707160  0.697364         6 -0.630395\n",
      "71:  0.539982        10  0.084343  0.029565  0.090089         9  0.514558\n",
      "72:  0.303529        14  0.806705  0.806697  0.822073         8 -0.513652\n",
      "    Maf3_E.NJ nInd_E.NJ Maf1_U.NJ Maf2_U.NJ Maf3_U.NJ nInd_U.NJ   diff.NJ\n",
      "    nInd_NJ Maf1_E.NY Maf2_E.NY Maf3_E.NY nInd_E.NY Maf1_U.NY Maf2_U.NY\n",
      " 1:       4  0.132849  0.132681  0.123008        11  0.659115  0.659116\n",
      " 2:       0  0.860211  0.860214  0.831808        14  0.257161  0.257165\n",
      " 3:       6  0.533540  0.533534  0.536155        13  0.055626  0.000015\n",
      " 4:       6  0.000000  0.000002  0.000000        10  0.574615  0.574615\n",
      " 5:       2  0.672139  0.672140  0.669565        11  0.055840  0.017365\n",
      " 6:       4  0.729278  0.729271  0.749132        10  0.166026  0.166025\n",
      " 7:       1  0.174454  0.062879  0.191163        11  0.578251  0.578245\n",
      " 8:       1  0.114841  0.114849  0.103373        14  0.713010  0.713008\n",
      " 9:       2  0.636289  0.636289  0.629889        11  0.087772  0.087771\n",
      "10:       4  0.043138  0.043146  0.039419        17  0.591972  0.591972\n",
      "11:       1  0.778908  0.778908  0.775551        11  0.174494  0.174506\n",
      "12:       8  0.883925  0.883922  0.857859         8  0.313622  0.313622\n",
      "13:       7  0.608652  0.608651  0.602855        13  0.095388  0.033840\n",
      "14:       4  0.591608  0.591610  0.591091         9  0.088178  0.088178\n",
      "15:       2  0.125532  0.125533  0.148999        13  0.682123  0.682118\n",
      "16:       2  0.811486  0.811484  0.803886         9  0.413610  0.120447\n",
      "17:       7  0.000000  0.000004  0.000000         7  0.543241  0.543236\n",
      "18:       6  0.637747  0.637747  0.603395        10  0.134765  0.134766\n",
      "19:       0  0.735991  0.735979  0.753195        13  0.232183  0.232186\n",
      "20:       7  0.146248  0.146071  0.108878        11  0.704916  0.704913\n",
      "21:       4  0.597583  0.597573  0.618338        13  0.000000  0.000002\n",
      "22:       4  0.087602  0.087141  0.065798         8  0.591729  0.591721\n",
      "23:       2  0.064117  0.063650  0.047521        11  0.708590  0.708591\n",
      "24:       1  0.770381  0.770374  0.794945        13  0.239732  0.239738\n",
      "25:       1  0.768312  0.768313  0.759139        13  0.203455  0.203454\n",
      "26:       6  0.558831  0.558826  0.618856         9  0.101816  0.036147\n",
      "27:       4  0.000000  0.000005  0.000000         8  0.597310  0.597309\n",
      "28:       7  0.350722  0.103802  0.365803         9  0.707248  0.707248\n",
      "29:       2  0.730515  0.730515  0.714715        10  0.200311  0.200315\n",
      "30:       3  0.000000  0.000003  0.000000         9  0.634190  0.634193\n",
      "31:       3  0.000000  0.000004  0.000000         8  0.569085  0.569085\n",
      "32:       3  1.000004  0.999996  1.001002        10  0.491872  0.491864\n",
      "33:       1  0.628747  0.628744  0.625251        10  0.121887  0.121891\n",
      "34:       4  0.711269  0.711258  0.713431        12  0.176053  0.176052\n",
      "35:       4  0.064064  0.022023  0.068421        12  0.589284  0.589277\n",
      "36:       4  0.195230  0.057260  0.207129        12  0.604288  0.604276\n",
      "37:       2  0.139023  0.050792  0.153152        11  0.666410  0.666410\n",
      "38:       7  0.726787  0.726782  0.732424        10  0.142603  0.142602\n",
      "39:       4  0.691911  0.691905  0.704955        13  0.144378  0.144377\n",
      "40:       2  0.696250  0.696238  0.700401         9  0.144348  0.144351\n",
      "41:       6  0.823351  0.823351  0.820461         9  0.165559  0.165557\n",
      "42:       0  0.236493  0.236503  0.236315        11  0.748366  0.748364\n",
      "43:       5  0.620739  0.620740  0.606596        13  0.072982  0.025297\n",
      "44:       5  0.354645  0.354254  0.350847        11  0.895895  0.895895\n",
      "45:       0  0.000000  0.000006  0.000000        11  0.542318  0.542318\n",
      "46:       4  1.000006  0.999996  1.001002        10  0.339429  0.339437\n",
      "47:       3  0.888869  0.888872  0.883119         8  0.314457  0.314460\n",
      "48:       4  0.000000  0.000002  0.000000        12  0.500032  0.500034\n",
      "49:       4  0.000000  0.000004  0.000000         9  0.500049  0.500048\n",
      "50:       1  0.000000  0.000004  0.000000         8  0.596450  0.596448\n",
      "51:       4  0.869529  0.869529  0.846487        12  0.327737  0.327740\n",
      "52:       4  0.839559  0.839550  0.857859        11  0.301094  0.301095\n",
      "53:       1  0.142613  0.045527  0.162115        12  0.800683  0.800678\n",
      "54:       1  0.261784  0.261795  0.255325        13  0.786281  0.786277\n",
      "55:       1  0.000000  0.000004  0.000000        14  0.505253  0.505244\n",
      "56:       4  0.864326  0.864317  0.889116        11  0.123867  0.044739\n",
      "57:       8  0.137175  0.137180  0.122702        11  0.663626  0.663616\n",
      "58:       3  0.000000  0.000005  0.000000        11  0.709266  0.709265\n",
      "59:       2  0.000000  0.000004  0.000000        10  0.533979  0.533976\n",
      "60:       2  0.073098  0.025419  0.077076        11  0.716091  0.716094\n",
      "61:       5  0.681565  0.681563  0.671229        12  0.172548  0.172547\n",
      "62:       5  0.282062  0.081045  0.302236        10  0.631781  0.631780\n",
      "63:       6  0.213316  0.062955  0.242342         9  0.628158  0.628157\n",
      "64:       3  0.752493  0.752491  0.750501        10  0.172110  0.172109\n",
      "65:       4  0.569574  0.569574  0.554162        11  0.069074  0.068328\n",
      "66:       1  0.125090  0.043797  0.112091        12  0.586417  0.586418\n",
      "67:       3  0.044222  0.043979  0.047249        17  0.564347  0.564345\n",
      "68:       3  0.109632  0.109450  0.116881        14  0.689341  0.689339\n",
      "69:       2  0.592176  0.592027  0.600962         7  0.116050  0.041448\n",
      "70:       5  0.000000  0.000005  0.000000         8  0.592034  0.592035\n",
      "71:       1  0.838553  0.838548  0.846848         9  0.131900  0.108565\n",
      "72:       6  0.151980  0.047551  0.138015        11  0.675051  0.675051\n",
      "    nInd_NJ Maf1_E.NY Maf2_E.NY Maf3_E.NY nInd_E.NY Maf1_U.NY Maf2_U.NY\n",
      "    Maf3_U.NY nInd_U.NY   diff.NY nInd.NY        NewScaf      NJ_Pval\n",
      " 1:  0.656050        13 -0.526435       2 NW_005871048.1 1.699998e-04\n",
      " 2:  0.235426        12  0.603049       2 NW_005871048.1 6.589993e-04\n",
      " 3:  0.042049        11  0.533519       2 NW_005871048.1 2.899997e-05\n",
      " 4:  0.567234        15 -0.574613       5 NW_005871048.1 6.699993e-05\n",
      " 5:  0.075654        13  0.654775       2 NW_005871048.1 1.017999e-03\n",
      " 6:  0.169307        14  0.563246       4 NW_005871048.1 9.999990e-07\n",
      " 7:  0.607811        14 -0.515366       3 NW_005871049.1 9.999990e-07\n",
      " 8:  0.696932        13 -0.598159       1 NW_005871049.1 4.896895e-02\n",
      " 9:  0.136259         8  0.548518       3 NW_005871049.1 9.999990e-07\n",
      "10:  0.572377        14 -0.548826       3 NW_005871051.1 7.999992e-06\n",
      "11:  0.168351        10  0.604402       1 NW_005871051.1 9.999990e-07\n",
      "12:  0.329556        13  0.570300       5 NW_005871054.1 9.999990e-07\n",
      "13:  0.095966        10  0.574811       3 NW_005871056.1 9.999990e-07\n",
      "14:  0.095037         9  0.503432       0 NW_005871059.1 9.999990e-07\n",
      "15:  0.711615        13 -0.556585       0 NW_005871062.1 1.741098e-02\n",
      "16:  0.408576        14  0.691037       5 NW_005871064.1 9.999990e-07\n",
      "17:  0.543511        11 -0.543232       4 NW_005871065.1 3.370997e-02\n",
      "18:  0.122702        12  0.502981       2 NW_005871073.1 9.999990e-07\n",
      "19:  0.233510        13  0.503793       0 NW_005871076.1 9.999990e-07\n",
      "20:  0.688820        10 -0.558842       1 NW_005871087.1 3.259997e-04\n",
      "21:  0.000000        10  0.597571       3 NW_005871097.1 8.234992e-03\n",
      "22:  0.595294        15 -0.504580       7 NW_005871116.1 1.629998e-04\n",
      "23:  0.700401        15 -0.644941       4 NW_005871116.1 9.549990e-04\n",
      "24:  0.224362        16  0.530636       3 NW_005871120.1 7.568992e-03\n",
      "25:  0.238599        15  0.564859       2 NW_005871122.1 9.999990e-07\n",
      "26:  0.093885        14  0.522679       5 NW_005871122.1 1.999998e-06\n",
      "27:  0.567758        13 -0.597304       5 NW_005871123.1 2.680997e-03\n",
      "28:  0.675303        13 -0.603446       4 NW_005871126.1 9.999990e-07\n",
      "29:  0.158075        15  0.530200       5 NW_005871129.1 1.999998e-06\n",
      "30:  0.619917        13 -0.634190       4 NW_005871136.1 2.977197e-02\n",
      "31:  0.563345        12 -0.569081       4 NW_005871140.1 9.999990e-07\n",
      "32:  0.515653        18  0.508132       8 NW_005871142.1 2.306998e-03\n",
      "33:  0.114703        11  0.506853       1 NW_005871142.1 9.999990e-07\n",
      "34:  0.212945        14  0.535206       2 NW_005871148.1 9.999990e-07\n",
      "35:  0.615427        11 -0.567254       1 NW_005871152.1 1.209999e-04\n",
      "36:  0.615503        14 -0.547016       2 NW_005871154.1 9.999990e-07\n",
      "37:  0.631843         8 -0.615618       3 NW_005871160.1 9.999990e-07\n",
      "38:  0.151846        17  0.584180       7 NW_005871166.1 1.655798e-02\n",
      "39:  0.088463        10  0.547528       3 NW_005871166.1 9.999990e-07\n",
      "40:  0.165999         8  0.551887       1 NW_005871169.1 9.999990e-07\n",
      "41:  0.188566        10  0.657794       1 NW_005871177.1 4.379996e-04\n",
      "42:  0.705245        11 -0.511861       0 NW_005871187.1 9.999990e-07\n",
      "43:  0.077076        11  0.595443       2 NW_005871191.1 3.699996e-05\n",
      "44:  0.871711         9 -0.541641       2 NW_005871211.1 3.247697e-02\n",
      "45:  0.540080        14 -0.542312       3 NW_005871219.1 3.039997e-03\n",
      "46:  0.288568        11  0.660559       1 NW_005871228.1 3.758996e-03\n",
      "47:  0.325738        15  0.574412       7 NW_005871231.1 9.999990e-06\n",
      "48:  0.500000        12 -0.500032       0 NW_005871236.1 4.053996e-03\n",
      "49:  0.500000        11 -0.500044       2 NW_005871243.1 9.999990e-07\n",
      "50:  0.592302        15 -0.596444       7 NW_005871246.1 2.266998e-03\n",
      "51:  0.302481        14  0.541789       2 NW_005871250.1 1.176999e-02\n",
      "52:  0.311891        14  0.538455       3 NW_005871263.1 9.999990e-07\n",
      "53:  0.831832        10 -0.755151       2 NW_005871279.1 1.117799e-02\n",
      "54:  0.791985        17 -0.524482       4 NW_005871289.1 9.999990e-07\n",
      "55:  0.508099        12 -0.505240       2 NW_005871299.1 3.199997e-04\n",
      "56:  0.093304        12  0.819578       1 NW_005871310.1 1.939998e-04\n",
      "57:  0.678551        14 -0.526436       3 NW_005871317.1 1.179999e-04\n",
      "58:  0.708751        14 -0.709260       3 NW_005871409.1 6.259994e-03\n",
      "59:  0.576943        14 -0.533972       4 NW_005871437.1 7.392993e-03\n",
      "60:  0.715539        14 -0.690675       3 NW_005871439.1 8.299992e-05\n",
      "61:  0.182665        13  0.509016       1 NW_005871447.1 9.999990e-07\n",
      "62:  0.568805        12 -0.550735       2 NW_005871520.1 9.999990e-07\n",
      "63:  0.566151        12 -0.565202       3 NW_005871520.1 9.999990e-07\n",
      "64:  0.186874         9  0.580382       1 NW_005871552.1 3.979996e-04\n",
      "65:  0.074148        11  0.501246       0 NW_005871552.1 9.999990e-07\n",
      "66:  0.563457        14 -0.542621       2 NW_005871562.1 7.399993e-05\n",
      "67:  0.551736        14 -0.520366       3 NW_005871763.1 4.999995e-06\n",
      "68:  0.680774        13 -0.579889       1 NW_005871846.1 3.978996e-03\n",
      "69:  0.124248        13  0.550579       6 NW_005871967.1 9.999990e-07\n",
      "70:  0.578138        15 -0.592030       7 NW_005872028.1 1.845298e-02\n",
      "71:  0.127255        16  0.729983       7 NW_005872156.1 5.825994e-03\n",
      "72:  0.669484        16 -0.627500       5 NW_005875640.1 3.499997e-05\n",
      "    Maf3_U.NY nInd_U.NY   diff.NY nInd.NY        NewScaf      NJ_Pval\n",
      "         NY_Pval    CombinedP rank           BH diff_myso\n",
      " 1: 7.899992e-05 2.568587e-07   59 6.067556e-07  0.000001\n",
      " 2: 4.999995e-06 6.764905e-08   32 3.290878e-07  0.000000\n",
      " 3: 1.383999e-03 7.236905e-07   80 8.227194e-07  0.206962\n",
      " 4: 9.999990e-07 1.636561e-09   10 1.028399e-07  0.000000\n",
      " 5: 3.999996e-06 8.273935e-08   36 3.702237e-07  0.000003\n",
      " 6: 2.539997e-04 5.865785e-09   15 1.542599e-07  0.000002\n",
      " 7: 2.807497e-02 5.162530e-07   70 7.198795e-07  0.000005\n",
      " 8: 9.999990e-07 8.732174e-07   85 8.741394e-07  0.000000\n",
      " 9: 5.241995e-03 1.051887e-07   38 3.907917e-07 -0.197084\n",
      "10: 9.999990e-07 2.124122e-10    8 8.227194e-08  0.000000\n",
      "11: 9.999990e-07 2.863097e-11    4 4.113597e-08  0.000000\n",
      "12: 4.671095e-02 8.351578e-07   84 8.638554e-07  0.000003\n",
      "13: 1.022999e-02 1.984406e-07   52 5.347676e-07  0.000000\n",
      "14: 3.010997e-03 6.208969e-08   30 3.085198e-07  0.000000\n",
      "15: 9.999990e-07 3.284782e-07   62 6.376075e-07  0.000000\n",
      "16: 3.521596e-02 6.395835e-07   75 7.712994e-07 -0.174931\n",
      "17: 9.999990e-07 6.137053e-07   73 7.507314e-07  0.000007\n",
      "18: 1.751098e-02 3.302645e-07   63 6.478915e-07  0.000000\n",
      "19: 1.999998e-06 5.587564e-11    5 5.141996e-08  0.000003\n",
      "20: 5.899994e-05 3.609558e-07   65 6.684595e-07  0.203076\n",
      "21: 9.999990e-07 1.615282e-07   47 4.833476e-07  0.000000\n",
      "22: 2.249998e-04 6.645927e-07   76 7.815834e-07  0.000000\n",
      "23: 4.599995e-05 7.881321e-07   83 8.535714e-07  0.000000\n",
      "24: 4.999995e-06 6.846059e-07   78 8.021514e-07  0.000000\n",
      "25: 9.829990e-04 2.137078e-08   23 2.365318e-07  0.000000\n",
      "26: 4.637995e-03 1.808430e-07   51 5.244836e-07  0.000004\n",
      "27: 9.999990e-07 5.559599e-08   29 2.982358e-07  0.000001\n",
      "28: 3.897896e-02 7.039689e-07   79 8.124354e-07  0.000002\n",
      "29: 3.570996e-03 1.411062e-07   44 4.524957e-07  0.000006\n",
      "30: 9.999990e-07 5.457107e-07   71 7.301635e-07  0.000008\n",
      "31: 9.999990e-07 2.863097e-11    1 1.028399e-08  0.000006\n",
      "32: 9.999990e-07 4.818695e-08   28 2.879518e-07  0.200022\n",
      "33: 7.377993e-03 1.455290e-07   45 4.627797e-07 -0.154771\n",
      "34: 2.498298e-02 4.623113e-07   68 6.993115e-07  0.000000\n",
      "35: 9.699990e-05 2.260603e-07   56 5.759036e-07  0.000001\n",
      "36: 3.754496e-02 6.794778e-07   77 7.918674e-07  0.000000\n",
      "37: 8.489992e-03 1.662710e-07   48 4.936316e-07  0.191743\n",
      "38: 9.999990e-07 3.132171e-07   60 6.170395e-07  0.000000\n",
      "39: 4.999995e-06 1.351077e-10    7 7.198795e-08  0.000000\n",
      "40: 6.600993e-03 1.309375e-07   43 4.422117e-07  0.000002\n",
      "41: 9.999990e-07 9.876356e-09   18 1.851119e-07  0.000006\n",
      "42: 1.545998e-03 3.291056e-08   25 2.570998e-07  0.000000\n",
      "43: 2.929997e-04 2.096638e-07   53 5.450516e-07  0.000000\n",
      "44: 9.999990e-07 5.924681e-07   72 7.404475e-07  0.000000\n",
      "45: 9.999990e-07 6.265856e-08   31 3.188038e-07  0.000000\n",
      "46: 9.999990e-07 7.668012e-08   34 3.496557e-07  0.000004\n",
      "47: 3.407997e-03 6.200693e-07   74 7.610154e-07  0.000000\n",
      "48: 9.999990e-07 8.239156e-08   35 3.599397e-07  0.000000\n",
      "49: 9.999990e-07 2.863097e-11    3 3.085198e-08  0.000000\n",
      "50: 9.999990e-07 4.739111e-08   26 2.673838e-07  0.000000\n",
      "51: 9.999990e-07 2.266628e-07   57 5.861876e-07  0.000000\n",
      "52: 1.145999e-03 2.473864e-08   24 2.468158e-07  0.000000\n",
      "53: 9.999990e-07 2.158392e-07   54 5.553356e-07  0.000000\n",
      "54: 3.999996e-06 1.089787e-10    6 6.170395e-08  0.000000\n",
      "55: 9.999990e-07 7.316050e-09   16 1.645439e-07  0.000000\n",
      "56: 9.999990e-07 4.532445e-09   14 1.439759e-07  0.000000\n",
      "57: 9.999990e-07 2.815514e-09   12 1.234079e-07  0.000006\n",
      "58: 9.999990e-07 1.245054e-07   42 4.319277e-07  0.000000\n",
      "59: 9.999990e-07 1.458099e-07   46 4.730637e-07  0.000000\n",
      "60: 9.999990e-07 2.009607e-09   11 1.131239e-07  0.000000\n",
      "61: 1.740398e-02 3.283531e-07   61 6.273235e-07  0.000008\n",
      "62: 9.024991e-03 1.761972e-07   50 5.141996e-07  0.000000\n",
      "63: 1.232099e-02 2.367101e-07   58 5.964716e-07  0.000000\n",
      "64: 5.599994e-05 4.149843e-07   66 6.787435e-07  0.000000\n",
      "65: 4.438996e-03 8.981339e-08   37 3.805077e-07  0.000007\n",
      "66: 1.549998e-04 2.211817e-07   55 5.656196e-07  0.000000\n",
      "67: 1.339999e-04 1.482288e-08   21 2.159638e-07  0.000004\n",
      "68: 1.099999e-05 7.854043e-07   82 8.432874e-07  0.148968\n",
      "69: 2.276998e-03 4.759014e-08   27 2.776678e-07  0.000000\n",
      "70: 9.999990e-07 3.470641e-07   64 6.581755e-07  0.000000\n",
      "71: 9.999990e-07 1.162922e-07   40 4.113597e-07 -0.183602\n",
      "72: 1.499999e-05 1.174298e-08   19 1.953959e-07  0.000000\n",
      "         NY_Pval    CombinedP rank           BH diff_myso\n"
     ]
    }
   ],
   "source": [
    "print(All_mylusig)"
   ]
  },
  {
   "cell_type": "markdown",
   "metadata": {},
   "source": [
    "Can you make a plot that shows allele frequencies (and which allele it is) for mylu pre post and myso pre post? "
   ]
  },
  {
   "cell_type": "markdown",
   "metadata": {},
   "source": [
    "To do:\n",
    "calculate the change in allele freq. \n",
    "Remove ones that only have coverage in less than 3? individuals\n",
    "Are the post ones the same as the mylu post? need to see if mylu are changing to be similar to them or vice versa. \n",
    "Also, might need to redo calculations with different major/minor???\n",
    "Look at snps called just for myso...what is happening there are there any that change a lot and have a lot of individuals? \n",
    "\n",
    "\n",
    "\n"
   ]
  },
  {
   "cell_type": "markdown",
   "metadata": {
    "collapsed": true
   },
   "source": [
    "## Look at changes in Myso-specific SNPs"
   ]
  },
  {
   "cell_type": "code",
   "execution_count": 97,
   "metadata": {
    "collapsed": true
   },
   "outputs": [],
   "source": [
    "Post_myso=fread(\"Post_Myso_filt.mafs\", header=TRUE)\n",
    "Pre_myso=fread(\"Pre_Myso_filt.mafs\", header=TRUE)"
   ]
  },
  {
   "cell_type": "code",
   "execution_count": 98,
   "metadata": {
    "collapsed": true
   },
   "outputs": [],
   "source": [
    "colnames(Post_myso)=c(\"Scaffold\", \"Position\", \"Major\", \"Minor\", \"Maf1_Post\", \"Maf2_Post\", \"Maf3_Post\", \"nInd_Post\")\n",
    "colnames(Pre_myso)=c(\"Scaffold\", \"Position\", \"Major\", \"Minor\", \"Maf1_Pre\", \"Maf2_Pre\", \"Maf3_Pre\", \"nInd_Pre\")"
   ]
  },
  {
   "cell_type": "code",
   "execution_count": 99,
   "metadata": {
    "collapsed": true
   },
   "outputs": [],
   "source": [
    "All_myso=merge(Post_myso, Pre_myso, by=c(\"Scaffold\", \"Position\", \"Major\", \"Minor\"))"
   ]
  },
  {
   "cell_type": "code",
   "execution_count": 17,
   "metadata": {},
   "outputs": [
    {
     "data": {
      "text/html": [
       "<table>\n",
       "<thead><tr><th scope=col>Scaffold</th><th scope=col>Position</th><th scope=col>Major</th><th scope=col>Minor</th><th scope=col>Maf1_Post</th><th scope=col>Maf2_Post</th><th scope=col>Maf3_Post</th><th scope=col>nInd_Post</th><th scope=col>Maf1_Pre</th><th scope=col>Maf2_Pre</th><th scope=col>Maf3_Pre</th><th scope=col>nInd_Pre</th></tr></thead>\n",
       "<tbody>\n",
       "\t<tr><td>AAPE02057026</td><td> 7832       </td><td>G           </td><td>A           </td><td>0.109323    </td><td>0.035824    </td><td>0.045603    </td><td>8           </td><td>0.252346    </td><td>0.252352    </td><td>0.186005    </td><td>13          </td></tr>\n",
       "\t<tr><td>AAPE02057026</td><td> 7844       </td><td>C           </td><td>T           </td><td>0.229875    </td><td>0.089944    </td><td>0.234764    </td><td>8           </td><td>0.263336    </td><td>0.263341    </td><td>0.193516    </td><td>13          </td></tr>\n",
       "\t<tr><td>AAPE02057026</td><td> 7862       </td><td>A           </td><td>C           </td><td>0.000000    </td><td>0.000005    </td><td>0.000000    </td><td>7           </td><td>0.110603    </td><td>0.109144    </td><td>0.064044    </td><td>13          </td></tr>\n",
       "\t<tr><td>AAPE02057026</td><td> 7956       </td><td>G           </td><td>A           </td><td>0.166682    </td><td>0.057728    </td><td>0.194511    </td><td>6           </td><td>0.124301    </td><td>0.041883    </td><td>0.069621    </td><td>11          </td></tr>\n",
       "\t<tr><td>AAPE02057026</td><td> 7996       </td><td>A           </td><td>T           </td><td>0.000000    </td><td>0.000004    </td><td>0.000000    </td><td>6           </td><td>0.333542    </td><td>0.333547    </td><td>0.297747    </td><td>11          </td></tr>\n",
       "\t<tr><td>AAPE02057026</td><td>27994       </td><td>T           </td><td>C           </td><td>0.133629    </td><td>0.048498    </td><td>0.099198    </td><td>6           </td><td>0.184148    </td><td>0.184148    </td><td>0.129396    </td><td>11          </td></tr>\n",
       "</tbody>\n",
       "</table>\n"
      ],
      "text/latex": [
       "\\begin{tabular}{r|llllllllllll}\n",
       " Scaffold & Position & Major & Minor & Maf1\\_Post & Maf2\\_Post & Maf3\\_Post & nInd\\_Post & Maf1\\_Pre & Maf2\\_Pre & Maf3\\_Pre & nInd\\_Pre\\\\\n",
       "\\hline\n",
       "\t AAPE02057026 &  7832        & G            & A            & 0.109323     & 0.035824     & 0.045603     & 8            & 0.252346     & 0.252352     & 0.186005     & 13          \\\\\n",
       "\t AAPE02057026 &  7844        & C            & T            & 0.229875     & 0.089944     & 0.234764     & 8            & 0.263336     & 0.263341     & 0.193516     & 13          \\\\\n",
       "\t AAPE02057026 &  7862        & A            & C            & 0.000000     & 0.000005     & 0.000000     & 7            & 0.110603     & 0.109144     & 0.064044     & 13          \\\\\n",
       "\t AAPE02057026 &  7956        & G            & A            & 0.166682     & 0.057728     & 0.194511     & 6            & 0.124301     & 0.041883     & 0.069621     & 11          \\\\\n",
       "\t AAPE02057026 &  7996        & A            & T            & 0.000000     & 0.000004     & 0.000000     & 6            & 0.333542     & 0.333547     & 0.297747     & 11          \\\\\n",
       "\t AAPE02057026 & 27994        & T            & C            & 0.133629     & 0.048498     & 0.099198     & 6            & 0.184148     & 0.184148     & 0.129396     & 11          \\\\\n",
       "\\end{tabular}\n"
      ],
      "text/markdown": [
       "\n",
       "Scaffold | Position | Major | Minor | Maf1_Post | Maf2_Post | Maf3_Post | nInd_Post | Maf1_Pre | Maf2_Pre | Maf3_Pre | nInd_Pre | \n",
       "|---|---|---|---|---|---|\n",
       "| AAPE02057026 |  7832        | G            | A            | 0.109323     | 0.035824     | 0.045603     | 8            | 0.252346     | 0.252352     | 0.186005     | 13           | \n",
       "| AAPE02057026 |  7844        | C            | T            | 0.229875     | 0.089944     | 0.234764     | 8            | 0.263336     | 0.263341     | 0.193516     | 13           | \n",
       "| AAPE02057026 |  7862        | A            | C            | 0.000000     | 0.000005     | 0.000000     | 7            | 0.110603     | 0.109144     | 0.064044     | 13           | \n",
       "| AAPE02057026 |  7956        | G            | A            | 0.166682     | 0.057728     | 0.194511     | 6            | 0.124301     | 0.041883     | 0.069621     | 11           | \n",
       "| AAPE02057026 |  7996        | A            | T            | 0.000000     | 0.000004     | 0.000000     | 6            | 0.333542     | 0.333547     | 0.297747     | 11           | \n",
       "| AAPE02057026 | 27994        | T            | C            | 0.133629     | 0.048498     | 0.099198     | 6            | 0.184148     | 0.184148     | 0.129396     | 11           | \n",
       "\n",
       "\n"
      ],
      "text/plain": [
       "  Scaffold     Position Major Minor Maf1_Post Maf2_Post Maf3_Post nInd_Post\n",
       "1 AAPE02057026  7832    G     A     0.109323  0.035824  0.045603  8        \n",
       "2 AAPE02057026  7844    C     T     0.229875  0.089944  0.234764  8        \n",
       "3 AAPE02057026  7862    A     C     0.000000  0.000005  0.000000  7        \n",
       "4 AAPE02057026  7956    G     A     0.166682  0.057728  0.194511  6        \n",
       "5 AAPE02057026  7996    A     T     0.000000  0.000004  0.000000  6        \n",
       "6 AAPE02057026 27994    T     C     0.133629  0.048498  0.099198  6        \n",
       "  Maf1_Pre Maf2_Pre Maf3_Pre nInd_Pre\n",
       "1 0.252346 0.252352 0.186005 13      \n",
       "2 0.263336 0.263341 0.193516 13      \n",
       "3 0.110603 0.109144 0.064044 13      \n",
       "4 0.124301 0.041883 0.069621 11      \n",
       "5 0.333542 0.333547 0.297747 11      \n",
       "6 0.184148 0.184148 0.129396 11      "
      ]
     },
     "metadata": {},
     "output_type": "display_data"
    }
   ],
   "source": [
    "head(All_myso)"
   ]
  },
  {
   "cell_type": "code",
   "execution_count": 100,
   "metadata": {
    "collapsed": true
   },
   "outputs": [],
   "source": [
    "All_myso$diff_myso=abs(All_myso$Maf2_Post-All_myso$Maf2_Pre)"
   ]
  },
  {
   "cell_type": "code",
   "execution_count": 102,
   "metadata": {},
   "outputs": [],
   "source": [
    "All_Myso_high=All_myso[All_myso$diff>0.4,]"
   ]
  },
  {
   "cell_type": "code",
   "execution_count": 103,
   "metadata": {
    "collapsed": true
   },
   "outputs": [],
   "source": [
    "scaffoldnames=read.table(\"/local/home/sarahgw/references/scaffold_names\")\n",
    "key=scaffoldnames[3:4]\n",
    "colnames(key)=c(\"NewScaf\", \"Scaffold\")\n",
    "key$Scaffold=gsub('\\\\.1', \"\", key$Scaffold)\n",
    "All_Myso_high=merge(key, All_Myso_high, by=\"Scaffold\")"
   ]
  },
  {
   "cell_type": "code",
   "execution_count": 104,
   "metadata": {
    "collapsed": true
   },
   "outputs": [],
   "source": [
    "write.csv(All_Myso_high, file=\"Myso_SNPs_high.csv\")"
   ]
  },
  {
   "cell_type": "code",
   "execution_count": null,
   "metadata": {
    "collapsed": true
   },
   "outputs": [],
   "source": []
  }
 ],
 "metadata": {
  "kernelspec": {
   "display_name": "R",
   "language": "R",
   "name": "ir"
  },
  "language_info": {
   "codemirror_mode": "r",
   "file_extension": ".r",
   "mimetype": "text/x-r-source",
   "name": "R",
   "pygments_lexer": "r",
   "version": "3.4.1"
  }
 },
 "nbformat": 4,
 "nbformat_minor": 2
}
