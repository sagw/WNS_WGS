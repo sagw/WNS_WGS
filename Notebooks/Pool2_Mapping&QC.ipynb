{
 "cells": [
  {
   "cell_type": "code",
   "execution_count": 1,
   "metadata": {
    "collapsed": true
   },
   "outputs": [],
   "source": [
    "!mkdir /local/shared/pinsky_lab/sequencing/hiseq_2017_06_26_SEQ24/"
   ]
  },
  {
   "cell_type": "code",
   "execution_count": null,
   "metadata": {
    "collapsed": true
   },
   "outputs": [],
   "source": [
    "wget -r https://htseq.princeton.edu/tmp/ygmstmGWPoRcwYBSo/ -P /local/shared/pinsky_lab/sequencing/hiseq_2017_06_26_SEQ24/ --no-check-certificate"
   ]
  },
  {
   "cell_type": "code",
   "execution_count": null,
   "metadata": {
    "collapsed": true
   },
   "outputs": [],
   "source": [
    "scp Pool2_Barcodes.txt sarahgw@amphiprion.deenr.rutgers.edu:/local/home/sarahgw/WGS/Sequences/Pool2/"
   ]
  },
  {
   "cell_type": "code",
   "execution_count": null,
   "metadata": {
    "collapsed": true
   },
   "outputs": [],
   "source": [
    "mkdir $(awk '{print $1}' /local/home/sarahgw/WGS/Sequences/Pool2/Pool2_Barcodes.txt)"
   ]
  },
  {
   "cell_type": "code",
   "execution_count": 1,
   "metadata": {
    "collapsed": false
   },
   "outputs": [
    {
     "name": "stdout",
     "output_type": "stream",
     "text": [
      "NY_E_03  NY_E_07  NY_U_01  NY_U_05  Pool2_Barcodes.txt\tVT_E_05  VT_E_09\r\n",
      "NY_E_04  NY_E_08  NY_U_02  NY_U_06  VT_E_02\t\tVT_E_06\r\n",
      "NY_E_05  NY_E_09  NY_U_03  NY_U_07  VT_E_03\t\tVT_E_07\r\n",
      "NY_E_06  NY_E_10  NY_U_04  NY_U_08  VT_E_04\t\tVT_E_08\r\n"
     ]
    }
   ],
   "source": [
    "!ls /local/home/sarahgw/WGS/Sequences/Pool2/"
   ]
  },
  {
   "cell_type": "code",
   "execution_count": null,
   "metadata": {
    "collapsed": true
   },
   "outputs": [],
   "source": [
    "for dir in $(ls); do cd $dir; cp /local/shared/pinsky_lab/sequencing/hiseq_2017_06_26_SEQ24/\"$dir\"_Demultiplexed-fastq-fileset-sample-Pool-2-from-flowcell-HML3KBCXY-on-2017-06-26_Read_1_passed_filter.fastq.gz /local/shared/pinsky_lab/sequencing/hiseq_2017_06_26_SEQ24/\"$dir\"_Demultiplexed-fastq-fileset-sample-Pool-2-from-flowcell-HML3KBCXY-on-2017-06-26_Read_4_passed_filter.fastq.gz  . ; cd ..; done"
   ]
  },
  {
   "cell_type": "code",
   "execution_count": null,
   "metadata": {
    "collapsed": true
   },
   "outputs": [],
   "source": [
    " ~/Notebooks/WNS_WGS/Bioinfo_pipeline.sh "
   ]
  },
  {
   "cell_type": "code",
   "execution_count": null,
   "metadata": {
    "collapsed": true
   },
   "outputs": [],
   "source": [
    "rm */*passed_filter.fastq\n",
    "    rm */*FU1.fastq\n",
    "    rm */*FU2.fastq\n",
    "    rm */*trim_p.fastq\n",
    "    rm */*trim_up.fastq\n",
    "find . -name \"*.tagged.fastq\" -exec mv -i {} ../Pool2Contaminants/ \\;\n",
    "    for file in $(ls); do tar -zcvf \"$file\".tar.gz \"$file\" ; done\n",
    "    "
   ]
  },
  {
   "cell_type": "code",
   "execution_count": null,
   "metadata": {
    "collapsed": true
   },
   "outputs": [],
   "source": [
    "for dir in $(ls); do cd $dir; /local/home/sarahgw/anaconda2/bin/bowtie2 --very-sensitive-local -p 12 -x /local/home/sarahgw/references/Myotis_Lucifugus2.0/MyoLuc_toplevel_index -1 $(pwd)/\"$dir\"_FU1_trim_p.tagged_pfilter.fastq -2 $(pwd)/\"$dir\"_FU2_trim_p.tagged_pfilter.fastq -U $(pwd)/\"$dir\"_FU1_trim_up.tagged_filter.fastq,$(pwd)/\"$dir\"_FU2_trim_up.tagged_filter.fastq -S $(pwd)/\"$dir\"_pairedplus_eg2.sam; cd ..; done"
   ]
  },
  {
   "cell_type": "code",
   "execution_count": null,
   "metadata": {
    "collapsed": true
   },
   "outputs": [],
   "source": [
    "for dir in $(ls); do cd $dir; java -jar /local/home/sarahgw/picard.jar SortSam \\\n",
    "      I=$(pwd)/\"$dir\"_pairedplus_eg2.sam \\\n",
    "      O=$(pwd)/\"$dir\"_pairedplus_eg2_sorted.bam \\\n",
    "      SORT_ORDER=coordinate; cd ..; done"
   ]
  },
  {
   "cell_type": "code",
   "execution_count": null,
   "metadata": {
    "collapsed": true
   },
   "outputs": [],
   "source": [
    "for dir in $(ls); do cd $dir; java -jar /local/home/sarahgw/picard.jar MarkDuplicates \\\n",
    "      I=$(pwd)/\"$dir\"_pairedplus_eg2_sorted.bam \\\n",
    "      O=$(pwd)/\"$dir\"_pairedplus_marked_dupes.bam \\\n",
    "      M=$(pwd)/\"$dir\"_pairedplus_marked_dup_metrics.txt \\\n",
    "      REMOVE_DUPLICATES=true \\\n",
    "      ASSUME_SORT_ORDER=coordinate; cd ..; done "
   ]
  },
  {
   "cell_type": "code",
   "execution_count": null,
   "metadata": {
    "collapsed": true
   },
   "outputs": [],
   "source": [
    "for dir in $(ls); do cd $dir; samtools view -b $(pwd)/\"$dir\"_pairedplus_marked_dupes.bam | genomeCoverageBed -ibam stdin -g /local/home/sarahgw/references/Myotis_Lucifugus2.0/Myoluc_genomeFile.txt>$(pwd)/\"$dir\"_Coverage.txt; cd ..; done"
   ]
  },
  {
   "cell_type": "code",
   "execution_count": null,
   "metadata": {
    "collapsed": true
   },
   "outputs": [],
   "source": [
    "for dir in $(ls); do cd $dir;  sed \"s/$/\\t\"$dir\"/\" \"$dir\"_Coverage.txt > \"$dir\"_Coverage_name.txt ; cd ..; done"
   ]
  },
  {
   "cell_type": "code",
   "execution_count": null,
   "metadata": {
    "collapsed": true
   },
   "outputs": [],
   "source": [
    "cat ./*/*_Coverage_name.txt >> ./Coverage_Pool2.txt"
   ]
  }
 ],
 "metadata": {
  "anaconda-cloud": {},
  "kernelspec": {
   "display_name": "Python [conda root]",
   "language": "python",
   "name": "conda-root-py"
  },
  "language_info": {
   "codemirror_mode": {
    "name": "ipython",
    "version": 2
   },
   "file_extension": ".py",
   "mimetype": "text/x-python",
   "name": "python",
   "nbconvert_exporter": "python",
   "pygments_lexer": "ipython2",
   "version": "2.7.12"
  }
 },
 "nbformat": 4,
 "nbformat_minor": 1
}
