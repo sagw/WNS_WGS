{
 "cells": [
  {
   "cell_type": "code",
   "execution_count": 1,
   "metadata": {
    "collapsed": true
   },
   "outputs": [],
   "source": [
    "setwd(\"~/WGS/SNPS/All_mylu/genolike/admix/logs/\")"
   ]
  },
  {
   "cell_type": "code",
   "execution_count": 2,
   "metadata": {
    "collapsed": true
   },
   "outputs": [],
   "source": [
    "likes=read.csv('All_Admix_loglike.csv', header=F)"
   ]
  },
  {
   "cell_type": "code",
   "execution_count": 3,
   "metadata": {
    "collapsed": true
   },
   "outputs": [],
   "source": [
    "colnames(likes)=c(\"kvalue\", \"rep\", \"loglike\")"
   ]
  },
  {
   "cell_type": "code",
   "execution_count": 4,
   "metadata": {},
   "outputs": [
    {
     "data": {
      "text/html": [
       "<table>\n",
       "<thead><tr><th scope=col>kvalue</th><th scope=col>rep</th><th scope=col>loglike</th></tr></thead>\n",
       "<tbody>\n",
       "\t<tr><td>1          </td><td>1          </td><td>-2841805210</td></tr>\n",
       "\t<tr><td>1          </td><td>2          </td><td>-2841805210</td></tr>\n",
       "\t<tr><td>1          </td><td>3          </td><td>-2841805210</td></tr>\n",
       "\t<tr><td>1          </td><td>4          </td><td>-2841805210</td></tr>\n",
       "\t<tr><td>1          </td><td>5          </td><td>-2841805210</td></tr>\n",
       "\t<tr><td>2          </td><td>1          </td><td>-2827101702</td></tr>\n",
       "\t<tr><td>2          </td><td>2          </td><td>-2827117341</td></tr>\n",
       "\t<tr><td>2          </td><td>3          </td><td>-2827401601</td></tr>\n",
       "\t<tr><td>2          </td><td>4          </td><td>-2827259139</td></tr>\n",
       "\t<tr><td>2          </td><td>5          </td><td>-2827479490</td></tr>\n",
       "\t<tr><td>3          </td><td>1          </td><td>-2812373078</td></tr>\n",
       "\t<tr><td>3          </td><td>2          </td><td>-2813187245</td></tr>\n",
       "\t<tr><td>3          </td><td>3          </td><td>-2812885806</td></tr>\n",
       "\t<tr><td>3          </td><td>4          </td><td>-2812868319</td></tr>\n",
       "\t<tr><td>3          </td><td>5          </td><td>-2813133562</td></tr>\n",
       "\t<tr><td>4          </td><td>1          </td><td>-2798930184</td></tr>\n",
       "\t<tr><td>4          </td><td>2          </td><td>-2798804704</td></tr>\n",
       "\t<tr><td>4          </td><td>3          </td><td>-2798870270</td></tr>\n",
       "\t<tr><td>4          </td><td>4          </td><td>-2799056316</td></tr>\n",
       "\t<tr><td>4          </td><td>5          </td><td>-2799057928</td></tr>\n",
       "\t<tr><td>5          </td><td>1          </td><td>-2785178772</td></tr>\n",
       "\t<tr><td>5          </td><td>2          </td><td>-2785124800</td></tr>\n",
       "\t<tr><td>5          </td><td>3          </td><td>-2785340923</td></tr>\n",
       "\t<tr><td>5          </td><td>4          </td><td>-2785451169</td></tr>\n",
       "\t<tr><td>5          </td><td>5          </td><td>-2785172166</td></tr>\n",
       "\t<tr><td>6          </td><td>1          </td><td>-2771253422</td></tr>\n",
       "\t<tr><td>6          </td><td>2          </td><td>-2771434980</td></tr>\n",
       "\t<tr><td>6          </td><td>3          </td><td>-2771083861</td></tr>\n",
       "\t<tr><td>6          </td><td>4          </td><td>-2771240377</td></tr>\n",
       "\t<tr><td>6          </td><td>5          </td><td>-2771526518</td></tr>\n",
       "\t<tr><td>7          </td><td>1          </td><td>-2757726733</td></tr>\n",
       "\t<tr><td>7          </td><td>2          </td><td>-2757771513</td></tr>\n",
       "\t<tr><td>7          </td><td>3          </td><td>-2757752079</td></tr>\n",
       "\t<tr><td>7          </td><td>4          </td><td>-2757780941</td></tr>\n",
       "\t<tr><td>7          </td><td>5          </td><td>-2757904246</td></tr>\n",
       "\t<tr><td>8          </td><td>1          </td><td>-2744476050</td></tr>\n",
       "\t<tr><td>8          </td><td>2          </td><td>-2744209652</td></tr>\n",
       "\t<tr><td>8          </td><td>3          </td><td>-2744106551</td></tr>\n",
       "\t<tr><td>8          </td><td>4          </td><td>-2743701009</td></tr>\n",
       "\t<tr><td>8          </td><td>5          </td><td>-2744572823</td></tr>\n",
       "</tbody>\n",
       "</table>\n"
      ],
      "text/latex": [
       "\\begin{tabular}{r|lll}\n",
       " kvalue & rep & loglike\\\\\n",
       "\\hline\n",
       "\t 1           & 1           & -2841805210\\\\\n",
       "\t 1           & 2           & -2841805210\\\\\n",
       "\t 1           & 3           & -2841805210\\\\\n",
       "\t 1           & 4           & -2841805210\\\\\n",
       "\t 1           & 5           & -2841805210\\\\\n",
       "\t 2           & 1           & -2827101702\\\\\n",
       "\t 2           & 2           & -2827117341\\\\\n",
       "\t 2           & 3           & -2827401601\\\\\n",
       "\t 2           & 4           & -2827259139\\\\\n",
       "\t 2           & 5           & -2827479490\\\\\n",
       "\t 3           & 1           & -2812373078\\\\\n",
       "\t 3           & 2           & -2813187245\\\\\n",
       "\t 3           & 3           & -2812885806\\\\\n",
       "\t 3           & 4           & -2812868319\\\\\n",
       "\t 3           & 5           & -2813133562\\\\\n",
       "\t 4           & 1           & -2798930184\\\\\n",
       "\t 4           & 2           & -2798804704\\\\\n",
       "\t 4           & 3           & -2798870270\\\\\n",
       "\t 4           & 4           & -2799056316\\\\\n",
       "\t 4           & 5           & -2799057928\\\\\n",
       "\t 5           & 1           & -2785178772\\\\\n",
       "\t 5           & 2           & -2785124800\\\\\n",
       "\t 5           & 3           & -2785340923\\\\\n",
       "\t 5           & 4           & -2785451169\\\\\n",
       "\t 5           & 5           & -2785172166\\\\\n",
       "\t 6           & 1           & -2771253422\\\\\n",
       "\t 6           & 2           & -2771434980\\\\\n",
       "\t 6           & 3           & -2771083861\\\\\n",
       "\t 6           & 4           & -2771240377\\\\\n",
       "\t 6           & 5           & -2771526518\\\\\n",
       "\t 7           & 1           & -2757726733\\\\\n",
       "\t 7           & 2           & -2757771513\\\\\n",
       "\t 7           & 3           & -2757752079\\\\\n",
       "\t 7           & 4           & -2757780941\\\\\n",
       "\t 7           & 5           & -2757904246\\\\\n",
       "\t 8           & 1           & -2744476050\\\\\n",
       "\t 8           & 2           & -2744209652\\\\\n",
       "\t 8           & 3           & -2744106551\\\\\n",
       "\t 8           & 4           & -2743701009\\\\\n",
       "\t 8           & 5           & -2744572823\\\\\n",
       "\\end{tabular}\n"
      ],
      "text/markdown": [
       "\n",
       "kvalue | rep | loglike | \n",
       "|---|---|---|---|---|---|---|---|---|---|---|---|---|---|---|---|---|---|---|---|---|---|---|---|---|---|---|---|---|---|---|---|---|---|---|---|---|---|---|---|\n",
       "| 1           | 1           | -2841805210 | \n",
       "| 1           | 2           | -2841805210 | \n",
       "| 1           | 3           | -2841805210 | \n",
       "| 1           | 4           | -2841805210 | \n",
       "| 1           | 5           | -2841805210 | \n",
       "| 2           | 1           | -2827101702 | \n",
       "| 2           | 2           | -2827117341 | \n",
       "| 2           | 3           | -2827401601 | \n",
       "| 2           | 4           | -2827259139 | \n",
       "| 2           | 5           | -2827479490 | \n",
       "| 3           | 1           | -2812373078 | \n",
       "| 3           | 2           | -2813187245 | \n",
       "| 3           | 3           | -2812885806 | \n",
       "| 3           | 4           | -2812868319 | \n",
       "| 3           | 5           | -2813133562 | \n",
       "| 4           | 1           | -2798930184 | \n",
       "| 4           | 2           | -2798804704 | \n",
       "| 4           | 3           | -2798870270 | \n",
       "| 4           | 4           | -2799056316 | \n",
       "| 4           | 5           | -2799057928 | \n",
       "| 5           | 1           | -2785178772 | \n",
       "| 5           | 2           | -2785124800 | \n",
       "| 5           | 3           | -2785340923 | \n",
       "| 5           | 4           | -2785451169 | \n",
       "| 5           | 5           | -2785172166 | \n",
       "| 6           | 1           | -2771253422 | \n",
       "| 6           | 2           | -2771434980 | \n",
       "| 6           | 3           | -2771083861 | \n",
       "| 6           | 4           | -2771240377 | \n",
       "| 6           | 5           | -2771526518 | \n",
       "| 7           | 1           | -2757726733 | \n",
       "| 7           | 2           | -2757771513 | \n",
       "| 7           | 3           | -2757752079 | \n",
       "| 7           | 4           | -2757780941 | \n",
       "| 7           | 5           | -2757904246 | \n",
       "| 8           | 1           | -2744476050 | \n",
       "| 8           | 2           | -2744209652 | \n",
       "| 8           | 3           | -2744106551 | \n",
       "| 8           | 4           | -2743701009 | \n",
       "| 8           | 5           | -2744572823 | \n",
       "\n",
       "\n"
      ],
      "text/plain": [
       "   kvalue rep loglike    \n",
       "1  1      1   -2841805210\n",
       "2  1      2   -2841805210\n",
       "3  1      3   -2841805210\n",
       "4  1      4   -2841805210\n",
       "5  1      5   -2841805210\n",
       "6  2      1   -2827101702\n",
       "7  2      2   -2827117341\n",
       "8  2      3   -2827401601\n",
       "9  2      4   -2827259139\n",
       "10 2      5   -2827479490\n",
       "11 3      1   -2812373078\n",
       "12 3      2   -2813187245\n",
       "13 3      3   -2812885806\n",
       "14 3      4   -2812868319\n",
       "15 3      5   -2813133562\n",
       "16 4      1   -2798930184\n",
       "17 4      2   -2798804704\n",
       "18 4      3   -2798870270\n",
       "19 4      4   -2799056316\n",
       "20 4      5   -2799057928\n",
       "21 5      1   -2785178772\n",
       "22 5      2   -2785124800\n",
       "23 5      3   -2785340923\n",
       "24 5      4   -2785451169\n",
       "25 5      5   -2785172166\n",
       "26 6      1   -2771253422\n",
       "27 6      2   -2771434980\n",
       "28 6      3   -2771083861\n",
       "29 6      4   -2771240377\n",
       "30 6      5   -2771526518\n",
       "31 7      1   -2757726733\n",
       "32 7      2   -2757771513\n",
       "33 7      3   -2757752079\n",
       "34 7      4   -2757780941\n",
       "35 7      5   -2757904246\n",
       "36 8      1   -2744476050\n",
       "37 8      2   -2744209652\n",
       "38 8      3   -2744106551\n",
       "39 8      4   -2743701009\n",
       "40 8      5   -2744572823"
      ]
     },
     "metadata": {},
     "output_type": "display_data"
    }
   ],
   "source": [
    "likes"
   ]
  },
  {
   "cell_type": "markdown",
   "metadata": {},
   "source": [
    "Delta K from evanno 2005 (jerome goudet see here:http://taylor0.biology.ucla.edu/structureHarvester/faq.html\n",
    "\n",
    "1/ average the L(K) over the x (say 20) replicates\n",
    "\n",
    "2/ estimate from these averages L''(K) as abs( L(K+1) - 2L(K) + L(K-1) )\n",
    "\n",
    "3/ divide by the standard deviation of L(K) (sd of the different replicates for the same K)"
   ]
  },
  {
   "cell_type": "code",
   "execution_count": 5,
   "metadata": {
    "collapsed": true
   },
   "outputs": [],
   "source": [
    "meanlikes= do.call(data.frame, aggregate(. ~ kvalue, data = likes[-2], FUN = function(x) c(av = mean(x), stdev = sd(x) ) ) ) "
   ]
  },
  {
   "cell_type": "code",
   "execution_count": 6,
   "metadata": {},
   "outputs": [
    {
     "data": {
      "text/html": [
       "<table>\n",
       "<thead><tr><th scope=col>kvalue</th><th scope=col>loglike.av</th><th scope=col>loglike.stdev</th></tr></thead>\n",
       "<tbody>\n",
       "\t<tr><td>1           </td><td>-2841805210 </td><td>3.424773e-05</td></tr>\n",
       "\t<tr><td>2           </td><td>-2827271855 </td><td>1.680288e+05</td></tr>\n",
       "\t<tr><td>3           </td><td>-2812889602 </td><td>3.222472e+05</td></tr>\n",
       "\t<tr><td>4           </td><td>-2798943880 </td><td>1.124999e+05</td></tr>\n",
       "\t<tr><td>5           </td><td>-2785253566 </td><td>1.373673e+05</td></tr>\n",
       "\t<tr><td>6           </td><td>-2771307832 </td><td>1.744017e+05</td></tr>\n",
       "\t<tr><td>7           </td><td>-2757787103 </td><td>6.869249e+04</td></tr>\n",
       "\t<tr><td>8           </td><td>-2744213217 </td><td>3.435640e+05</td></tr>\n",
       "</tbody>\n",
       "</table>\n"
      ],
      "text/latex": [
       "\\begin{tabular}{r|lll}\n",
       " kvalue & loglike.av & loglike.stdev\\\\\n",
       "\\hline\n",
       "\t 1            & -2841805210  & 3.424773e-05\\\\\n",
       "\t 2            & -2827271855  & 1.680288e+05\\\\\n",
       "\t 3            & -2812889602  & 3.222472e+05\\\\\n",
       "\t 4            & -2798943880  & 1.124999e+05\\\\\n",
       "\t 5            & -2785253566  & 1.373673e+05\\\\\n",
       "\t 6            & -2771307832  & 1.744017e+05\\\\\n",
       "\t 7            & -2757787103  & 6.869249e+04\\\\\n",
       "\t 8            & -2744213217  & 3.435640e+05\\\\\n",
       "\\end{tabular}\n"
      ],
      "text/markdown": [
       "\n",
       "kvalue | loglike.av | loglike.stdev | \n",
       "|---|---|---|---|---|---|---|---|\n",
       "| 1            | -2841805210  | 3.424773e-05 | \n",
       "| 2            | -2827271855  | 1.680288e+05 | \n",
       "| 3            | -2812889602  | 3.222472e+05 | \n",
       "| 4            | -2798943880  | 1.124999e+05 | \n",
       "| 5            | -2785253566  | 1.373673e+05 | \n",
       "| 6            | -2771307832  | 1.744017e+05 | \n",
       "| 7            | -2757787103  | 6.869249e+04 | \n",
       "| 8            | -2744213217  | 3.435640e+05 | \n",
       "\n",
       "\n"
      ],
      "text/plain": [
       "  kvalue loglike.av  loglike.stdev\n",
       "1 1      -2841805210 3.424773e-05 \n",
       "2 2      -2827271855 1.680288e+05 \n",
       "3 3      -2812889602 3.222472e+05 \n",
       "4 4      -2798943880 1.124999e+05 \n",
       "5 5      -2785253566 1.373673e+05 \n",
       "6 6      -2771307832 1.744017e+05 \n",
       "7 7      -2757787103 6.869249e+04 \n",
       "8 8      -2744213217 3.435640e+05 "
      ]
     },
     "metadata": {},
     "output_type": "display_data"
    }
   ],
   "source": [
    "meanlikes"
   ]
  },
  {
   "cell_type": "code",
   "execution_count": 32,
   "metadata": {
    "collapsed": true
   },
   "outputs": [],
   "source": [
    "meanlikes$Dk=NA\n",
    "meanlikes$Lpk=NA\n",
    "meanlikes$Lpk.s=NA\n",
    "meanlikes$Lppk=NA\n",
    "meanlikes$Lpk.s=NA"
   ]
  },
  {
   "cell_type": "code",
   "execution_count": null,
   "metadata": {
    "collapsed": true
   },
   "outputs": [],
   "source": [
    "for (k in 2:NROW(meanlikes)){\n",
    "    \n",
    "    meanlikes$Dk[k] = abs(meanlikes$loglike.av[k+1]-2*(meanlikes$loglike.av[k])+meanlikes$loglike.av[k-1])/meanlikes$loglike.stdev[k]    \n",
    "    }"
   ]
  },
  {
   "cell_type": "code",
   "execution_count": null,
   "metadata": {
    "collapsed": true
   },
   "outputs": [],
   "source": []
  },
  {
   "cell_type": "code",
   "execution_count": 8,
   "metadata": {},
   "outputs": [
    {
     "data": {
      "text/html": [
       "-2812889602.0609"
      ],
      "text/latex": [
       "-2812889602.0609"
      ],
      "text/markdown": [
       "-2812889602.0609"
      ],
      "text/plain": [
       "[1] -2812889602"
      ]
     },
     "metadata": {},
     "output_type": "display_data"
    }
   ],
   "source": [
    "meanlikes$loglike.av[3]"
   ]
  },
  {
   "cell_type": "code",
   "execution_count": 34,
   "metadata": {},
   "outputs": [],
   "source": [
    "for (k in 2:NROW(meanlikes)){\n",
    "    \n",
    "    meanlikes$Lpk[k] = meanlikes$loglike.av[k]-(meanlikes$loglike.av[k-1]) \n",
    "    meanlikes$Lpk.s[k] = meanlikes$loglike.stdev[k]-(meanlikes$loglike.stdev[k-1])\n",
    "}"
   ]
  },
  {
   "cell_type": "code",
   "execution_count": 35,
   "metadata": {},
   "outputs": [],
   "source": [
    "for (k in 2:NROW(meanlikes)){ \n",
    "    meanlikes$Lppk[k] = abs(meanlikes$Lpk[k+1]-(meanlikes$Lpk[k]))\n",
    "    meanlikes$Lppk.s[k] = abs(meanlikes$Lpk.s[k+1]-(meanlikes$Lpk.s[k]))\n",
    "}"
   ]
  },
  {
   "cell_type": "code",
   "execution_count": 39,
   "metadata": {
    "collapsed": true
   },
   "outputs": [],
   "source": [
    "for (k in 2:NROW(meanlikes)){ \n",
    "meanlikes$Dk[k] = abs(meanlikes$Lppk[k]/meanlikes$loglike.stdev[k])   \n",
    "    }"
   ]
  },
  {
   "cell_type": "code",
   "execution_count": 28,
   "metadata": {},
   "outputs": [
    {
     "data": {
      "text/html": [
       "<table>\n",
       "<thead><tr><th scope=col>kvalue</th><th scope=col>loglike.av</th><th scope=col>loglike.stdev</th><th scope=col>Dk</th><th scope=col>Lpk</th><th scope=col>Lppk</th></tr></thead>\n",
       "<tbody>\n",
       "\t<tr><td>1           </td><td>-2841805210 </td><td>3.424773e-05</td><td>       NA   </td><td>      NA    </td><td>       NA   </td></tr>\n",
       "\t<tr><td>2           </td><td>-2827271855 </td><td>1.680288e+05</td><td>0.8992698   </td><td>14533356    </td><td>151103.27   </td></tr>\n",
       "\t<tr><td>3           </td><td>-2812889602 </td><td>3.222472e+05</td><td>1.3546450   </td><td>14382252    </td><td>436530.60   </td></tr>\n",
       "\t<tr><td>4           </td><td>-2798943880 </td><td>1.124999e+05</td><td>2.2702924   </td><td>13945722    </td><td>255407.58   </td></tr>\n",
       "\t<tr><td>5           </td><td>-2785253566 </td><td>1.373673e+05</td><td>1.8593930   </td><td>13690314    </td><td>255419.84   </td></tr>\n",
       "\t<tr><td>6           </td><td>-2771307832 </td><td>1.744017e+05</td><td>2.4369302   </td><td>13945734    </td><td>425004.77   </td></tr>\n",
       "\t<tr><td>7           </td><td>-2757787103 </td><td>6.869249e+04</td><td>0.7738317   </td><td>13520729    </td><td> 53156.43   </td></tr>\n",
       "\t<tr><td>8           </td><td>-2744213217 </td><td>3.435640e+05</td><td>       NA   </td><td>13573886    </td><td>       NA   </td></tr>\n",
       "</tbody>\n",
       "</table>\n"
      ],
      "text/latex": [
       "\\begin{tabular}{r|llllll}\n",
       " kvalue & loglike.av & loglike.stdev & Dk & Lpk & Lppk\\\\\n",
       "\\hline\n",
       "\t 1            & -2841805210  & 3.424773e-05 &        NA    &       NA     &        NA   \\\\\n",
       "\t 2            & -2827271855  & 1.680288e+05 & 0.8992698    & 14533356     & 151103.27   \\\\\n",
       "\t 3            & -2812889602  & 3.222472e+05 & 1.3546450    & 14382252     & 436530.60   \\\\\n",
       "\t 4            & -2798943880  & 1.124999e+05 & 2.2702924    & 13945722     & 255407.58   \\\\\n",
       "\t 5            & -2785253566  & 1.373673e+05 & 1.8593930    & 13690314     & 255419.84   \\\\\n",
       "\t 6            & -2771307832  & 1.744017e+05 & 2.4369302    & 13945734     & 425004.77   \\\\\n",
       "\t 7            & -2757787103  & 6.869249e+04 & 0.7738317    & 13520729     &  53156.43   \\\\\n",
       "\t 8            & -2744213217  & 3.435640e+05 &        NA    & 13573886     &        NA   \\\\\n",
       "\\end{tabular}\n"
      ],
      "text/markdown": [
       "\n",
       "kvalue | loglike.av | loglike.stdev | Dk | Lpk | Lppk | \n",
       "|---|---|---|---|---|---|---|---|\n",
       "| 1            | -2841805210  | 3.424773e-05 |        NA    |       NA     |        NA    | \n",
       "| 2            | -2827271855  | 1.680288e+05 | 0.8992698    | 14533356     | 151103.27    | \n",
       "| 3            | -2812889602  | 3.222472e+05 | 1.3546450    | 14382252     | 436530.60    | \n",
       "| 4            | -2798943880  | 1.124999e+05 | 2.2702924    | 13945722     | 255407.58    | \n",
       "| 5            | -2785253566  | 1.373673e+05 | 1.8593930    | 13690314     | 255419.84    | \n",
       "| 6            | -2771307832  | 1.744017e+05 | 2.4369302    | 13945734     | 425004.77    | \n",
       "| 7            | -2757787103  | 6.869249e+04 | 0.7738317    | 13520729     |  53156.43    | \n",
       "| 8            | -2744213217  | 3.435640e+05 |        NA    | 13573886     |        NA    | \n",
       "\n",
       "\n"
      ],
      "text/plain": [
       "  kvalue loglike.av  loglike.stdev Dk        Lpk      Lppk     \n",
       "1 1      -2841805210 3.424773e-05         NA       NA        NA\n",
       "2 2      -2827271855 1.680288e+05  0.8992698 14533356 151103.27\n",
       "3 3      -2812889602 3.222472e+05  1.3546450 14382252 436530.60\n",
       "4 4      -2798943880 1.124999e+05  2.2702924 13945722 255407.58\n",
       "5 5      -2785253566 1.373673e+05  1.8593930 13690314 255419.84\n",
       "6 6      -2771307832 1.744017e+05  2.4369302 13945734 425004.77\n",
       "7 7      -2757787103 6.869249e+04  0.7738317 13520729  53156.43\n",
       "8 8      -2744213217 3.435640e+05         NA 13573886        NA"
      ]
     },
     "metadata": {},
     "output_type": "display_data"
    }
   ],
   "source": [
    "meanlikes"
   ]
  },
  {
   "cell_type": "code",
   "execution_count": 22,
   "metadata": {},
   "outputs": [
    {
     "name": "stderr",
     "output_type": "stream",
     "text": [
      "Warning message in arrows(kvalue, loglike.av - loglike.stdev, kvalue, loglike.av + :\n",
      "“zero-length arrow is of indeterminate angle and so skipped”"
     ]
    },
    {
     "data": {
      "image/png": "[encoded data removed]",
      "text/plain": [
       "plot without title"
      ]
     },
     "metadata": {},
     "output_type": "display_data"
    }
   ],
   "source": [
    "with(meanlikes, plot(kvalue, loglike.av))\n",
    "with(meanlikes, arrows(kvalue, loglike.av-loglike.stdev, kvalue, loglike.av+loglike.stdev, length=0.05, angle=90, code=3))"
   ]
  },
  {
   "cell_type": "code",
   "execution_count": 36,
   "metadata": {},
   "outputs": [
    {
     "data": {
      "image/png": "[encoded data removed]",
      "text/plain": [
       "plot without title"
      ]
     },
     "metadata": {},
     "output_type": "display_data"
    }
   ],
   "source": [
    "with(meanlikes, plot(kvalue, Lpk))\n",
    "with(meanlikes, arrows(kvalue, Lpk-Lpk.s, kvalue, Lpk+Lpk.s, length=0.05, angle=90, code=3))"
   ]
  },
  {
   "cell_type": "code",
   "execution_count": 37,
   "metadata": {},
   "outputs": [
    {
     "data": {
      "image/png": "[encoded data removed]",
      "text/plain": [
       "plot without title"
      ]
     },
     "metadata": {},
     "output_type": "display_data"
    }
   ],
   "source": [
    "with(meanlikes, plot(kvalue, Lppk))\n",
    "with(meanlikes, arrows(kvalue, Lppk-Lppk.s, kvalue, Lppk+Lppk.s, length=0.05, angle=90, code=3))"
   ]
  },
  {
   "cell_type": "code",
   "execution_count": 40,
   "metadata": {},
   "outputs": [
    {
     "data": {
      "image/png": "[encoded data removed]",
      "text/plain": [
       "plot without title"
      ]
     },
     "metadata": {},
     "output_type": "display_data"
    }
   ],
   "source": [
    "with(meanlikes, plot(kvalue, Dk))"
   ]
  },
  {
   "cell_type": "markdown",
   "metadata": {},
   "source": []
  }
 ],
 "metadata": {
  "kernelspec": {
   "display_name": "R",
   "language": "R",
   "name": "ir"
  },
  "language_info": {
   "codemirror_mode": "r",
   "file_extension": ".r",
   "mimetype": "text/x-r-source",
   "name": "R",
   "pygments_lexer": "r",
   "version": "3.4.1"
  }
 },
 "nbformat": 4,
 "nbformat_minor": 2
}
