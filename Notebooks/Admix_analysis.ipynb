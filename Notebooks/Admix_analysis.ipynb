{
 "cells": [
  {
   "cell_type": "code",
   "execution_count": 2,
   "metadata": {
    "collapsed": true
   },
   "outputs": [],
   "source": [
    "setwd(\"~/WGS/SNPS/All_mylu/genolike/admix/logs/\")"
   ]
  },
  {
   "cell_type": "code",
   "execution_count": 6,
   "metadata": {},
   "outputs": [],
   "source": [
    "likes=read.csv('All_Admix_loglike.csv', header=F)"
   ]
  },
  {
   "cell_type": "code",
   "execution_count": 8,
   "metadata": {},
   "outputs": [],
   "source": [
    "colnames(likes)=c(\"kvalue\", \"rep\", \"loglike\")"
   ]
  },
  {
   "cell_type": "code",
   "execution_count": 9,
   "metadata": {},
   "outputs": [
    {
     "data": {
      "text/html": [
       "<table>\n",
       "<thead><tr><th scope=col>kvalue</th><th scope=col>rep</th><th scope=col>loglike</th></tr></thead>\n",
       "<tbody>\n",
       "\t<tr><td>1          </td><td>2          </td><td>-2841805210</td></tr>\n",
       "\t<tr><td>1          </td><td>3          </td><td>-2841805210</td></tr>\n",
       "\t<tr><td>1          </td><td>4          </td><td>-2841805210</td></tr>\n",
       "\t<tr><td>1          </td><td>5          </td><td>-2841805210</td></tr>\n",
       "\t<tr><td>2          </td><td>2          </td><td>-2827117341</td></tr>\n",
       "\t<tr><td>2          </td><td>3          </td><td>-2827401601</td></tr>\n",
       "</tbody>\n",
       "</table>\n"
      ],
      "text/latex": [
       "\\begin{tabular}{r|lll}\n",
       " kvalue & rep & loglike\\\\\n",
       "\\hline\n",
       "\t 1           & 2           & -2841805210\\\\\n",
       "\t 1           & 3           & -2841805210\\\\\n",
       "\t 1           & 4           & -2841805210\\\\\n",
       "\t 1           & 5           & -2841805210\\\\\n",
       "\t 2           & 2           & -2827117341\\\\\n",
       "\t 2           & 3           & -2827401601\\\\\n",
       "\\end{tabular}\n"
      ],
      "text/markdown": [
       "\n",
       "kvalue | rep | loglike | \n",
       "|---|---|---|---|---|---|\n",
       "| 1           | 2           | -2841805210 | \n",
       "| 1           | 3           | -2841805210 | \n",
       "| 1           | 4           | -2841805210 | \n",
       "| 1           | 5           | -2841805210 | \n",
       "| 2           | 2           | -2827117341 | \n",
       "| 2           | 3           | -2827401601 | \n",
       "\n",
       "\n"
      ],
      "text/plain": [
       "  kvalue rep loglike    \n",
       "1 1      2   -2841805210\n",
       "2 1      3   -2841805210\n",
       "3 1      4   -2841805210\n",
       "4 1      5   -2841805210\n",
       "5 2      2   -2827117341\n",
       "6 2      3   -2827401601"
      ]
     },
     "metadata": {},
     "output_type": "display_data"
    }
   ],
   "source": [
    "head(likes)"
   ]
  },
  {
   "cell_type": "markdown",
   "metadata": {},
   "source": [
    "Delta K from evanno 2005 (jerome goudet see here:http://taylor0.biology.ucla.edu/structureHarvester/faq.html\n",
    "\n",
    "1/ average the L(K) over the x (say 20) replicates\n",
    "\n",
    "2/ estimate from these averages L''(K) as abs( L(K+1) - 2L(K) + L(K-1) )\n",
    "\n",
    "3/ divide by the standard deviation of L(K) (sd of the different replicates for the same K)"
   ]
  },
  {
   "cell_type": "code",
   "execution_count": 48,
   "metadata": {
    "collapsed": true
   },
   "outputs": [],
   "source": [
    "meanlikes= do.call(data.frame, aggregate(. ~ kvalue, data = likes[-2], FUN = function(x) c(av = mean(x), stdev = sd(x) ) ) ) "
   ]
  },
  {
   "cell_type": "code",
   "execution_count": 49,
   "metadata": {},
   "outputs": [
    {
     "data": {
      "text/html": [
       "<table>\n",
       "<thead><tr><th scope=col>kvalue</th><th scope=col>loglike.av</th><th scope=col>loglike.stdev</th></tr></thead>\n",
       "<tbody>\n",
       "\t<tr><td>1           </td><td>-2841805210 </td><td>2.892899e-05</td></tr>\n",
       "\t<tr><td>2           </td><td>-2827314393 </td><td>1.599424e+05</td></tr>\n",
       "\t<tr><td>3           </td><td>-2813018733 </td><td>1.652031e+05</td></tr>\n",
       "\t<tr><td>4           </td><td>-2785023470 </td><td>8.127826e+04</td></tr>\n",
       "\t<tr><td>5           </td><td>-2785272264 </td><td>1.510921e+05</td></tr>\n",
       "\t<tr><td>6           </td><td>-2771249899 </td><td>1.437648e+05</td></tr>\n",
       "</tbody>\n",
       "</table>\n"
      ],
      "text/latex": [
       "\\begin{tabular}{r|lll}\n",
       " kvalue & loglike.av & loglike.stdev\\\\\n",
       "\\hline\n",
       "\t 1            & -2841805210  & 2.892899e-05\\\\\n",
       "\t 2            & -2827314393  & 1.599424e+05\\\\\n",
       "\t 3            & -2813018733  & 1.652031e+05\\\\\n",
       "\t 4            & -2785023470  & 8.127826e+04\\\\\n",
       "\t 5            & -2785272264  & 1.510921e+05\\\\\n",
       "\t 6            & -2771249899  & 1.437648e+05\\\\\n",
       "\\end{tabular}\n"
      ],
      "text/markdown": [
       "\n",
       "kvalue | loglike.av | loglike.stdev | \n",
       "|---|---|---|---|---|---|\n",
       "| 1            | -2841805210  | 2.892899e-05 | \n",
       "| 2            | -2827314393  | 1.599424e+05 | \n",
       "| 3            | -2813018733  | 1.652031e+05 | \n",
       "| 4            | -2785023470  | 8.127826e+04 | \n",
       "| 5            | -2785272264  | 1.510921e+05 | \n",
       "| 6            | -2771249899  | 1.437648e+05 | \n",
       "\n",
       "\n"
      ],
      "text/plain": [
       "  kvalue loglike.av  loglike.stdev\n",
       "1 1      -2841805210 2.892899e-05 \n",
       "2 2      -2827314393 1.599424e+05 \n",
       "3 3      -2813018733 1.652031e+05 \n",
       "4 4      -2785023470 8.127826e+04 \n",
       "5 5      -2785272264 1.510921e+05 \n",
       "6 6      -2771249899 1.437648e+05 "
      ]
     },
     "metadata": {},
     "output_type": "display_data"
    }
   ],
   "source": [
    "head(meanlikes)"
   ]
  },
  {
   "cell_type": "code",
   "execution_count": 45,
   "metadata": {
    "collapsed": true
   },
   "outputs": [],
   "source": [
    "meanlikes$L2k=NA"
   ]
  },
  {
   "cell_type": "code",
   "execution_count": 54,
   "metadata": {},
   "outputs": [],
   "source": [
    "for (k in 2:NROW(meanlikes)){\n",
    "    meanlikes$Dk[k] = abs(meanlikes$loglike.av[k+1]-2*(meanlikes$loglike.av[k])+meanlikes$loglike.av[k-1])/meanlikes$loglike.stdev[k]    \n",
    "    }"
   ]
  },
  {
   "cell_type": "code",
   "execution_count": 55,
   "metadata": {},
   "outputs": [
    {
     "data": {
      "text/html": [
       "<table>\n",
       "<thead><tr><th scope=col>kvalue</th><th scope=col>loglike.av</th><th scope=col>loglike.stdev</th><th scope=col>Dk</th></tr></thead>\n",
       "<tbody>\n",
       "\t<tr><td>1           </td><td>-2841805210 </td><td>2.892899e-05</td><td>        NA  </td></tr>\n",
       "\t<tr><td>2           </td><td>-2827314393 </td><td>1.599424e+05</td><td>  1.220176  </td></tr>\n",
       "\t<tr><td>3           </td><td>-2813018733 </td><td>1.652031e+05</td><td> 82.925802  </td></tr>\n",
       "\t<tr><td>4           </td><td>-2785023470 </td><td>8.127826e+04</td><td>347.498311  </td></tr>\n",
       "\t<tr><td>5           </td><td>-2785272264 </td><td>1.510921e+05</td><td> 94.453408  </td></tr>\n",
       "\t<tr><td>6           </td><td>-2771249899 </td><td>1.437648e+05</td><td>  3.997232  </td></tr>\n",
       "</tbody>\n",
       "</table>\n"
      ],
      "text/latex": [
       "\\begin{tabular}{r|llll}\n",
       " kvalue & loglike.av & loglike.stdev & Dk\\\\\n",
       "\\hline\n",
       "\t 1            & -2841805210  & 2.892899e-05 &         NA  \\\\\n",
       "\t 2            & -2827314393  & 1.599424e+05 &   1.220176  \\\\\n",
       "\t 3            & -2813018733  & 1.652031e+05 &  82.925802  \\\\\n",
       "\t 4            & -2785023470  & 8.127826e+04 & 347.498311  \\\\\n",
       "\t 5            & -2785272264  & 1.510921e+05 &  94.453408  \\\\\n",
       "\t 6            & -2771249899  & 1.437648e+05 &   3.997232  \\\\\n",
       "\\end{tabular}\n"
      ],
      "text/markdown": [
       "\n",
       "kvalue | loglike.av | loglike.stdev | Dk | \n",
       "|---|---|---|---|---|---|\n",
       "| 1            | -2841805210  | 2.892899e-05 |         NA   | \n",
       "| 2            | -2827314393  | 1.599424e+05 |   1.220176   | \n",
       "| 3            | -2813018733  | 1.652031e+05 |  82.925802   | \n",
       "| 4            | -2785023470  | 8.127826e+04 | 347.498311   | \n",
       "| 5            | -2785272264  | 1.510921e+05 |  94.453408   | \n",
       "| 6            | -2771249899  | 1.437648e+05 |   3.997232   | \n",
       "\n",
       "\n"
      ],
      "text/plain": [
       "  kvalue loglike.av  loglike.stdev Dk        \n",
       "1 1      -2841805210 2.892899e-05          NA\n",
       "2 2      -2827314393 1.599424e+05    1.220176\n",
       "3 3      -2813018733 1.652031e+05   82.925802\n",
       "4 4      -2785023470 8.127826e+04  347.498311\n",
       "5 5      -2785272264 1.510921e+05   94.453408\n",
       "6 6      -2771249899 1.437648e+05    3.997232"
      ]
     },
     "metadata": {},
     "output_type": "display_data"
    }
   ],
   "source": [
    "head(meanlikes)"
   ]
  },
  {
   "cell_type": "code",
   "execution_count": 59,
   "metadata": {},
   "outputs": [
    {
     "data": {
      "image/png": "[encoded data removed]",
      "text/plain": [
       "plot without title"
      ]
     },
     "metadata": {},
     "output_type": "display_data"
    }
   ],
   "source": [
    "with(meanlikes, plot(kvalue, Dk))"
   ]
  },
  {
   "cell_type": "markdown",
   "metadata": {},
   "source": [
    "thats wrong, becasue 4 of the 4s are actually 5s. But, once you fix, the highest value is most likely k value"
   ]
  }
 ],
 "metadata": {
  "kernelspec": {
   "display_name": "R",
   "language": "R",
   "name": "ir"
  },
  "language_info": {
   "codemirror_mode": "r",
   "file_extension": ".r",
   "mimetype": "text/x-r-source",
   "name": "R",
   "pygments_lexer": "r",
   "version": "3.4.1"
  }
 },
 "nbformat": 4,
 "nbformat_minor": 2
}
