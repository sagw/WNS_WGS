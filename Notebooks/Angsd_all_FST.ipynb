{
 "cells": [
  {
   "cell_type": "markdown",
   "metadata": {},
   "source": [
    "To calculate FST, I need to use unfolded SAF and SFS using the reference to polarize the alleles. I need a saf file for each population. first make filelists for each pop:\n"
   ]
  },
  {
   "cell_type": "code",
   "execution_count": null,
   "metadata": {
    "collapsed": true
   },
   "outputs": [],
   "source": [
    " find . -name \"*_pairedplus_marked_dupes.bam\" -exec cp -i {} ../allBam/ \\; "
   ]
  },
  {
   "cell_type": "code",
   "execution_count": null,
   "metadata": {
    "collapsed": true
   },
   "outputs": [],
   "source": [
    "sed 's/$/_pairedplus_marked_dupes.bam/g' /local/home/sarahgw/WGS/Sequences/NJ_E/NJ_E_list>NJ_E_filelist"
   ]
  },
  {
   "cell_type": "markdown",
   "metadata": {},
   "source": [
    "Calculate unfolded SAF for each population, see https://github.com/ANGSD/angsd/issues/65 for justification of folded vs unfolded"
   ]
  },
  {
   "cell_type": "code",
   "execution_count": null,
   "metadata": {
    "collapsed": true
   },
   "outputs": [],
   "source": [
    "for POP in NJ_E NJ_U NY_E NY_U VT_E VT_U; do echo $POP; ~/angsd/angsd -P 10 -b /local/home/sarahgw/WGS/Sequences/filelists/\"$POP\".filelist -anc /local/home/sarahgw/references/Myotis_Lucifugus2.0/Myotis_lucifugus.Myoluc2.0.dna_sm.toplevel.fa -GL 1 -dosaf 1 -minMapQ 30 -minQ 20 -out /local/home/sarahgw/WGS/SNPS/All_mylu/\"$POP\"_un; done"
   ]
  },
  {
   "cell_type": "markdown",
   "metadata": {},
   "source": [
    "redo NJ_U for just the \"dead\" samples"
   ]
  },
  {
   "cell_type": "code",
   "execution_count": null,
   "metadata": {
    "collapsed": true
   },
   "outputs": [],
   "source": [
    "~/angsd/angsd -P 30 -b /local/home/sarahgw/WGS/Sequences/filelists/NJ_U_D.filelist -anc /local/home/sarahgw/references/Myotis_Lucifugus2.0/Myotis_lucifugus.Myoluc2.0.dna_sm.toplevel.fa -GL 1 -dosaf 1 -minMapQ 30 -minQ 20 -out /local/home/sarahgw/WGS/SNPS/All_mylu/NJ_U_D_un  "
   ]
  },
  {
   "cell_type": "markdown",
   "metadata": {},
   "source": [
    "redo NJ_U and VT_U after removing septentrionalis samples"
   ]
  },
  {
   "cell_type": "code",
   "execution_count": null,
   "metadata": {
    "collapsed": true
   },
   "outputs": [],
   "source": [
    "~/angsd/angsd -P 30 -b /local/home/sarahgw/WGS/Sequences/filelists/NJ_U.filelist -anc /local/home/sarahgw/references/Myotis_Lucifugus2.0/Myotis_lucifugus.Myoluc2.0.dna_sm.toplevel.fa -GL 1 -dosaf 1 -minMapQ 30 -minQ 20 -out /local/home/sarahgw/WGS/SNPS/All_mylu/NJ_U_un  "
   ]
  },
  {
   "cell_type": "code",
   "execution_count": null,
   "metadata": {
    "collapsed": true
   },
   "outputs": [],
   "source": [
    "~/angsd/angsd -P 30 -b /local/home/sarahgw/WGS/Sequences/filelists/VT_U.filelist -anc /local/home/sarahgw/references/Myotis_Lucifugus2.0/Myotis_lucifugus.Myoluc2.0.dna_sm.toplevel.fa -GL 1 -dosaf 1 -minMapQ 30 -minQ 20 -out /local/home/sarahgw/WGS/SNPS/All_mylu/VT_U_un  "
   ]
  },
  {
   "cell_type": "markdown",
   "metadata": {
    "collapsed": true
   },
   "source": [
    "Calculate 2d sfs for each pair \n",
    "\n",
    "need to limit to 1 billion sites, then take sum of each column"
   ]
  },
  {
   "cell_type": "code",
   "execution_count": null,
   "metadata": {
    "collapsed": true
   },
   "outputs": [],
   "source": [
    "~/angsd/angsd/misc/realSFS -P 20 ~/WGS/saf/NJ_E_un.saf.idx ~/WGS/saf/NJ_U_un.saf.idx -nSites 500000000 > ~/WGS/sfs/NJ_EU_unfullnose.ml"
   ]
  },
  {
   "cell_type": "code",
   "execution_count": null,
   "metadata": {
    "collapsed": true
   },
   "outputs": [],
   "source": [
    "awk 'BEGIN{FS=OFS=\" \"}\n",
    "     NR>=1{for (i=1;i<=NF;i++) a[i]+=$i}\n",
    "     END{for (i=1;i<=NF;i++) printf a[i] OFS; printf \"\\n\"}' ~/WGS/sfs/NJ_EU_unfullnose.ml  > ~/WGS/sfs/NJ_EU_unfullnose_sum.ml "
   ]
  },
  {
   "cell_type": "code",
   "execution_count": null,
   "metadata": {
    "collapsed": true
   },
   "outputs": [],
   "source": [
    "~/angsd/angsd/misc/realSFS -P 10 ~/WGS/saf/NY_E_un.saf.idx ~/WGS/saf/NY_U_un.saf.idx -nSites 1000000000 > ~/WGS/sfs/NY_EU_unfull"
   ]
  },
  {
   "cell_type": "code",
   "execution_count": null,
   "metadata": {
    "collapsed": true
   },
   "outputs": [],
   "source": [
    "awk 'BEGIN{FS=OFS=\" \"}\n",
    "     NR>=1{for (i=1;i<=NF;i++) a[i]+=$i}\n",
    "     END{for (i=1;i<=NF;i++) printf a[i] OFS; printf \"\\n\"}' ~/WGS/sfs/NY_EU_unfull.ml > ~/WGS/sfs/NY_EU_unfull_sum.ml"
   ]
  },
  {
   "cell_type": "code",
   "execution_count": null,
   "metadata": {
    "collapsed": true
   },
   "outputs": [],
   "source": [
    "~/angsd/misc/realSFS -P 30 ~/WGS/SNPS/All_mylu/saf/VT_E_un.saf.idx ~/WGS/SNPS/All_mylu/saf/VT_U_un.saf.idx -nSites 100000000 > ~/WGS/SNPS/All_mylu/sfs/VT_EU_unfullnose.ml; echo \"NY FST Done\" | mailx gw.sarah@gmail.com"
   ]
  },
  {
   "cell_type": "code",
   "execution_count": null,
   "metadata": {
    "collapsed": true
   },
   "outputs": [],
   "source": [
    "awk 'BEGIN{FS=OFS=\" \"}\n",
    "     NR>=1{for (i=1;i<=NF;i++) a[i]+=$i}\n",
    "     END{for (i=1;i<=NF;i++) printf a[i] OFS; printf \"\\n\"}' ~/WGS/SNPS/All_mylu/sfs/VT_EU_unfullnose.ml > ~/WGS/SNPS/All_mylu/sfs/VT_EU_unfullnose_sum.ml"
   ]
  },
  {
   "cell_type": "code",
   "execution_count": null,
   "metadata": {
    "collapsed": true
   },
   "outputs": [],
   "source": [
    "#~/angsd/angsd/misc/realSFS -P 30 ~/WGS/saf/NJ_U_D_un.saf.idx ~/WGS/saf/NJ_E_un.saf.idx -nSites 1000000000 > ~/WGS/sfs/NJ_EUD_unfull"
   ]
  },
  {
   "cell_type": "code",
   "execution_count": null,
   "metadata": {
    "collapsed": true
   },
   "outputs": [],
   "source": [
    "awk 'BEGIN{FS=OFS=\" \"}\n",
    "     NR>=1{for (i=1;i<=NF;i++) a[i]+=$i}\n",
    "     END{for (i=1;i<=NF;i++) printf a[i] OFS; printf \"\\n\"}' ~/WGS/sfs/NJ_EUD_unfull > ~/WGS/sfs/NJ_EUD_unfull_sum.ml"
   ]
  },
  {
   "cell_type": "code",
   "execution_count": null,
   "metadata": {
    "collapsed": true
   },
   "outputs": [],
   "source": [
    "~/angsd/angsd/misc/realSFS -P 20 ~/WGS/saf/NJ_U_un.saf.idx ~/WGS/saf/NY_U_un.saf.idx -nSites 1000000000 > ~/WGS/sfs/NJNY_U_unfullnose.ml"
   ]
  },
  {
   "cell_type": "code",
   "execution_count": null,
   "metadata": {
    "collapsed": true
   },
   "outputs": [],
   "source": [
    "awk 'BEGIN{FS=OFS=\" \"}\n",
    "     NR>=1{for (i=1;i<=NF;i++) a[i]+=$i}\n",
    "     END{for (i=1;i<=NF;i++) printf a[i] OFS; printf \"\\n\"}' ~/WGS/sfs/NJNY_U_unfullnose.ml > ~/WGS/sfs/NJNY_U_unfullnose_sum.ml"
   ]
  },
  {
   "cell_type": "code",
   "execution_count": null,
   "metadata": {
    "collapsed": true
   },
   "outputs": [],
   "source": [
    "~/angsd/angsd/misc/realSFS -P 30 ~/WGS/saf/VT_U_un.saf.idx ~/WGS/saf/NY_U_un.saf.idx -nSites 1000000000 > ~/WGS/sfs/VTNY_U_unfullnose.ml"
   ]
  },
  {
   "cell_type": "code",
   "execution_count": null,
   "metadata": {
    "collapsed": true
   },
   "outputs": [],
   "source": [
    "awk 'BEGIN{FS=OFS=\" \"}\n",
    "     NR>=1{for (i=1;i<=NF;i++) a[i]+=$i}\n",
    "     END{for (i=1;i<=NF;i++) printf a[i] OFS; printf \"\\n\"}' ~/WGS/sfs/VTNY_U_unfullnose.ml > ~/WGS/sfs/VTNY_U_unfullnose_sum.ml"
   ]
  },
  {
   "cell_type": "code",
   "execution_count": null,
   "metadata": {
    "collapsed": true
   },
   "outputs": [],
   "source": [
    "~/angsd/angsd/misc/realSFS -P 30 ~/WGS/saf/NJ_U_un.saf.idx ~/WGS/saf/VT_U_un.saf.idx -nSites 1000000000 > ~/WGS/sfs/NJVT_U_unfull"
   ]
  },
  {
   "cell_type": "code",
   "execution_count": null,
   "metadata": {
    "collapsed": true
   },
   "outputs": [],
   "source": [
    "awk 'BEGIN{FS=OFS=\" \"}\n",
    "     NR>=1{for (i=1;i<=NF;i++) a[i]+=$i}\n",
    "     END{for (i=1;i<=NF;i++) printf a[i] OFS; printf \"\\n\"}' ~/WGS/sfs/VTNJ_U_unfullnose.ml > ~/WGS/sfs/NJVT_U_unfullnose_sum.ml"
   ]
  },
  {
   "cell_type": "code",
   "execution_count": null,
   "metadata": {
    "collapsed": true
   },
   "outputs": [],
   "source": [
    "~/angsd/angsd/misc/realSFS -P 30 ~/WGS/saf/NJ_E_un.saf.idx ~/WGS/saf/NY_E_un.saf.idx -nSites 1000000000 > ~/WGS/sfs/NJNY_E_unfull"
   ]
  },
  {
   "cell_type": "code",
   "execution_count": null,
   "metadata": {
    "collapsed": true
   },
   "outputs": [],
   "source": [
    "awk 'BEGIN{FS=OFS=\" \"}\n",
    "     NR>=1{for (i=1;i<=NF;i++) a[i]+=$i}\n",
    "     END{for (i=1;i<=NF;i++) printf a[i] OFS; printf \"\\n\"}' ~/WGS/SNPS/All_mylu/sfs/NJNY_E_unfull > ~/WGS/SNPS/All_mylu/sfs/NJNY_E_unfull_sum.ml"
   ]
  },
  {
   "cell_type": "code",
   "execution_count": null,
   "metadata": {
    "collapsed": true
   },
   "outputs": [],
   "source": [
    "~/angsd/angsd/misc/realSFS -P 10 ~/WGS/saf/VT_E_un.saf.idx ~/WGS/saf/NY_E_un.saf.idx -nSites 1000000000 > ~/WGS/sfs/VTNY_E_unfull"
   ]
  },
  {
   "cell_type": "code",
   "execution_count": null,
   "metadata": {
    "collapsed": true
   },
   "outputs": [],
   "source": [
    "awk 'BEGIN{FS=OFS=\" \"}\n",
    "     NR>=1{for (i=1;i<=NF;i++) a[i]+=$i}\n",
    "     END{for (i=1;i<=NF;i++) printf a[i] OFS; printf \"\\n\"}' ~/WGS/sfs/VTNY_E_unfull > ~/WGS/sfs/VTNY_E_unfull_sum.ml"
   ]
  },
  {
   "cell_type": "code",
   "execution_count": null,
   "metadata": {
    "collapsed": true
   },
   "outputs": [],
   "source": [
    "~/angsd/angsd/misc/realSFS -P 30 ~/WGS/saf/NJ_E_un.saf.idx ~/WGS/saf/VT_E_un.saf.idx -nSites 1000000000 > ~/WGS/sfs/NJVT_E_unfull"
   ]
  },
  {
   "cell_type": "code",
   "execution_count": null,
   "metadata": {
    "collapsed": true
   },
   "outputs": [],
   "source": [
    "awk 'BEGIN{FS=OFS=\" \"}\n",
    "     NR>=1{for (i=1;i<=NF;i++) a[i]+=$i}\n",
    "     END{for (i=1;i<=NF;i++) printf a[i] OFS; printf \"\\n\"}' ~/WGS/sfs/NJVT_E_unfull > ~/WGS/sfs/NJVT_E_unfull_sum.ml"
   ]
  },
  {
   "cell_type": "markdown",
   "metadata": {},
   "source": [
    "Calculate FST for each pair"
   ]
  },
  {
   "cell_type": "markdown",
   "metadata": {},
   "source": [
    "NY Exposed vs Unexposed:"
   ]
  },
  {
   "cell_type": "code",
   "execution_count": null,
   "metadata": {
    "collapsed": true
   },
   "outputs": [],
   "source": [
    "~/angsd/misc/realSFS fst index ~/WGS/SNPS/All_mylu/saf/NY_E_un.saf.idx ~/WGS/SNPS/All_mylu/saf/NY_U_un.saf.idx -sfs ~/WGS/SNPS/All_mylu/sfs/NY_EU_unfull_sum.ml -fstout NY_EU_untest"
   ]
  },
  {
   "cell_type": "code",
   "execution_count": null,
   "metadata": {
    "collapsed": true
   },
   "outputs": [],
   "source": [
    "~/angsd/angsd/misc/realSFS fst stats NY_EU_un.fst.idx"
   ]
  },
  {
   "cell_type": "markdown",
   "metadata": {
    "collapsed": true
   },
   "source": [
    "Fst.Weight:0.016618"
   ]
  },
  {
   "cell_type": "code",
   "execution_count": null,
   "metadata": {
    "collapsed": true
   },
   "outputs": [],
   "source": [
    "~/angsd/angsd/misc/realSFS fst stats2  NY_EU_un.fst.idx -win 10000 -step 2000 -type 1 > NY_EU_un.fst.sw"
   ]
  },
  {
   "cell_type": "markdown",
   "metadata": {},
   "source": [
    "NJ Exposed vs Unexposed"
   ]
  },
  {
   "cell_type": "code",
   "execution_count": null,
   "metadata": {
    "collapsed": true
   },
   "outputs": [],
   "source": [
    "~/angsd/misc/realSFS fst index /local/home/sarahgw/WGS/SNPS/All_mylu/saf/NJ_E_un.saf.idx ~/WGS/SNPS/All_mylu/saf/NJ_U_un.saf.idx -sfs ~/WGS/SNPS/All_mylu/sfs/NJ_EU_unfullnose_sum.ml -fstout NJ_EU_unfullnose"
   ]
  },
  {
   "cell_type": "code",
   "execution_count": null,
   "metadata": {
    "collapsed": true
   },
   "outputs": [],
   "source": [
    "~/angsd/angsd/misc/realSFS fst stats NJ_EU_unfullnose.fst.idx"
   ]
  },
  {
   "cell_type": "markdown",
   "metadata": {},
   "source": [
    "FST.Unweight[nObs:1715949133]:0.012530 Fst.Weight:0.015807"
   ]
  },
  {
   "cell_type": "code",
   "execution_count": null,
   "metadata": {
    "collapsed": true
   },
   "outputs": [],
   "source": [
    "~/angsd/misc/realSFS fst stats2  NJ_EU_unfullnose.fst.idx -win 10000 -step 2000 -type 1 > NJ_EU_unfullnose.fst.sw"
   ]
  },
  {
   "cell_type": "markdown",
   "metadata": {},
   "source": [
    "NJ Exposed vs Unexposed Dead"
   ]
  },
  {
   "cell_type": "code",
   "execution_count": null,
   "metadata": {
    "collapsed": true
   },
   "outputs": [],
   "source": [
    "~/angsd/angsd/misc/realSFS fst index ~/WGS/saf/NJ_E_un.saf.idx ~/WGS/saf/NJ_U_D_un.saf.idx -sfs ~/WGS/sfs/NJ_EUD_unfull_sum.ml -fstout NJ_EUD_un"
   ]
  },
  {
   "cell_type": "code",
   "execution_count": null,
   "metadata": {
    "collapsed": true
   },
   "outputs": [],
   "source": [
    "~/angsd/angsd/misc/realSFS fst stats NJ_EUD_un.fst.idx"
   ]
  },
  {
   "cell_type": "markdown",
   "metadata": {},
   "source": []
  },
  {
   "cell_type": "code",
   "execution_count": null,
   "metadata": {
    "collapsed": true
   },
   "outputs": [],
   "source": [
    "~/angsd/angsd/misc/realSFS fst stats2  NJ_EUD_un.fst.idx -win 10000 -step 2000 -type 1 > NJ_EUD_un.fst.sw"
   ]
  },
  {
   "cell_type": "markdown",
   "metadata": {
    "collapsed": true
   },
   "source": [
    "VT Exposed vs Unexposed "
   ]
  },
  {
   "cell_type": "code",
   "execution_count": null,
   "metadata": {
    "collapsed": true
   },
   "outputs": [],
   "source": [
    "~/angsd/misc/realSFS fst index ~/WGS/SNPS/All_mylu/saf/VT_E_un.saf.idx ~/WGS/SNPS/All_mylu/saf/VT_U_un.saf.idx -sfs /local/home/sarahgw/WGS/SNPS/All_mylu/sfs/VT_EU_unfullnose_sum.ml -fstout /local/home/sarahgw/WGS/SNPS/All_mylu/fst/VT_EU_unfullnose"
   ]
  },
  {
   "cell_type": "code",
   "execution_count": null,
   "metadata": {
    "collapsed": true
   },
   "outputs": [],
   "source": [
    "~/angsd/misc/realSFS fst stats2  VT_EU_unfullnose.fst.idx -win 10000 -step 2000 -type 1 > VT_EU_unfullnose.fst.sw"
   ]
  },
  {
   "cell_type": "code",
   "execution_count": null,
   "metadata": {
    "collapsed": true
   },
   "outputs": [],
   "source": [
    "~/angsd/misc/realSFS fst stats VT_EU_unfullnose.fst.idx"
   ]
  },
  {
   "cell_type": "markdown",
   "metadata": {},
   "source": [
    "FST.Unweight[nObs:1733765270]:0.011765 Fst.Weight:0.014174"
   ]
  },
  {
   "cell_type": "markdown",
   "metadata": {},
   "source": [
    "Calculate Three way fsts\n",
    "\n",
    "Unexposed:"
   ]
  },
  {
   "cell_type": "code",
   "execution_count": null,
   "metadata": {
    "collapsed": true
   },
   "outputs": [],
   "source": [
    "~/angsd/misc/realSFS fst index ~/WGS/SNPS/All_mylu/saf/NY_U_un.saf.idx ~/WGS/SNPS/All_mylu/saf/NJ_U_un.saf.idx ~/WGS/SNPS/All_mylu/saf/VT_U_un.saf.idx -sfs /local/home/sarahgw/WGS/SNPS/All_mylu/sfs/NJNY_U_unfullnose_sum.ml -sfs /local/home/sarahgw/WGS/SNPS/All_mylu/sfs/VTNY_U_unfullnose_sum.ml -sfs /local/home/sarahgw/WGS/SNPS/All_mylu/sfs/NJVT_U_unfullnose_sum.ml -fstout ~/WGS/SNPS/All_mylu/fst/NJNYVT_U_unnose"
   ]
  },
  {
   "cell_type": "code",
   "execution_count": null,
   "metadata": {
    "collapsed": true
   },
   "outputs": [],
   "source": [
    "~/angsd/misc/realSFS fst stats ~/WGS/SNPS/All_mylu/fst/NJNYVT_U_unnose.fst.idx"
   ]
  },
  {
   "cell_type": "markdown",
   "metadata": {},
   "source": [
    "        -> FST.Unweight[nObs:1694832662]:0.055226 Fst.Weight:0.122002\n",
    "        -> FST.Unweight[nObs:1694832662]:0.048430 Fst.Weight:0.106127\n",
    "        -> FST.Unweight[nObs:1694832662]:0.013878 Fst.Weight:0.017616\n",
    "        -> pbs.pop1     0.112264\n",
    "        -> pbs.pop2     0.017846\n",
    "        -> pbs.pop3     -0.000073"
   ]
  },
  {
   "cell_type": "code",
   "execution_count": null,
   "metadata": {
    "collapsed": true
   },
   "outputs": [],
   "source": [
    "~/angsd/misc/realSFS fst index ~/WGS/SNPS/All_mylu/saf/NJ_U_un.saf.idx ~/WGS/SNPS/All_mylu/saf/VT_U_un.saf.idx ~/WGS/SNPS/All_mylu/saf/NY_U_un.saf.idx -sfs /local/home/sarahgw/WGS/SNPS/All_mylu/sfs/NJVT_U_unfullnose_sum.ml -sfs /local/home/sarahgw/WGS/SNPS/All_mylu/sfs/NJNY_U_unfullnose_sum.ml -sfs /local/home/sarahgw/WGS/SNPS/All_mylu/sfs/VTNY_U_unfullnose_sum.ml -fstout ~/WGS/SNPS/All_mylu/fst/NJVTNY_U_unnose_reorder"
   ]
  },
  {
   "cell_type": "code",
   "execution_count": null,
   "metadata": {
    "collapsed": true
   },
   "outputs": [],
   "source": [
    "~/angsd/misc/realSFS fst stats ~/WGS/SNPS/All_mylu/fst/NJVTNY_U_unnose_reorder.fst.idx"
   ]
  },
  {
   "cell_type": "markdown",
   "metadata": {},
   "source": [
    "Its giving me this stupid Error:\n",
    "\n",
    "[E::bgzf_uncompress] Inflate operation failed: progress temporarily not possible, or in() / out() returned an error\n",
    "[E::bgzf_read] Read block operation failed with error -1 after 15012 of 51968 bytes\n",
    "        -> Problem reading chunk in bgzf_read\n",
    "        \n",
    "        Can't figure out what it means\n",
    "        \n",
    "        Going to just do the pairwise FSTs myself. \n",
    "        \n",
    "     Still giving me same error. when I try to print alphas and betas it gives me that error after: AAPE02072486    5109    0.000078        0.004784\n",
    "AAPE02070046    6566    0.000098        0.006066\n",
    "        \n",
    "        \n",
    "        Try running on annotate and see if it works? It does...fml"
   ]
  },
  {
   "cell_type": "code",
   "execution_count": null,
   "metadata": {
    "collapsed": true
   },
   "outputs": [],
   "source": [
    "~/angsd/angsd/misc/realSFS fst index /local/home/sarahgw/WGS/saf/NJ_U_un.saf.idx /local/home/sarahgw/WGS/saf/VT_U_un.saf.idx /local/home/sarahgw/WGS/saf/NY_U_un.saf.idx -sfs /local/home/sarahgw/WGS/sfs/NJVT_U_unfullnose_sum.ml -sfs /local/home/sarahgw/WGS/sfs/NJNY_U_unfullnose_sum.ml -sfs /local/home/sarahgw/WGS/sfs/VTNY_U_unfullnose_sum.ml -fstout /local/home/sarahgw/WGS/sfs/NJVTNY_U_unnose_reorder -P 30"
   ]
  },
  {
   "cell_type": "markdown",
   "metadata": {},
   "source": [
    "        -> FST.Unweight[nObs:1694711106]:0.013878 Fst.Weight:0.017616\n",
    "        \n",
    "        -> FST.Unweight[nObs:1694711106]:0.014530 Fst.Weight:0.017590\n",
    "        \n",
    "        -> FST.Unweight[nObs:1694711106]:0.014752 Fst.Weight:0.017552\n",
    "\n",
    "        -> pbs.pop1     0.008906\n",
    "        -> pbs.pop2     0.008867\n",
    "        -> pbs.pop3     0.008841"
   ]
  },
  {
   "cell_type": "markdown",
   "metadata": {},
   "source": [
    "Exposed"
   ]
  },
  {
   "cell_type": "code",
   "execution_count": null,
   "metadata": {
    "collapsed": true
   },
   "outputs": [],
   "source": [
    "~/angsd/angsd/misc/realSFS fst index ~/WGS/saf/NY_E_un.saf.idx ~/WGS/saf/NJ_E_un.saf.idx ~/WGS/saf/VT_E_un.saf.idx -sfs ~/WGS/sfs/NJNY_E_unfull_sum.ml -sfs ~/WGS/sfs/VTNY_E_unfull_sum.ml -sfs ~/WGS/sfs/NJVT_E_unfull_sum.ml -fstout NJNYVT_E_un"
   ]
  },
  {
   "cell_type": "code",
   "execution_count": null,
   "metadata": {
    "collapsed": true
   },
   "outputs": [],
   "source": [
    "~/angsd/angsd/misc/realSFS fst stats ~/WGS/sfs/NJNYVT_E_un.fst.idx"
   ]
  },
  {
   "cell_type": "markdown",
   "metadata": {
    "collapsed": true
   },
   "source": [
    "       -> FST.Unweight[nObs:1694040644]:0.027544 Fst.Weight:0.137775 \n",
    "        -> FST.Unweight[nObs:1694040644]:0.043776 Fst.Weight:0.140448 \n",
    "        -> FST.Unweight[nObs:1694040644]:0.011623 Fst.Weight:0.014038 \n",
    "        -> pbs.pop1     0.142723\n",
    "        -> pbs.pop2     0.005516\n",
    "        -> pbs.pop3     0.008622"
   ]
  },
  {
   "cell_type": "code",
   "execution_count": null,
   "metadata": {
    "collapsed": true
   },
   "outputs": [],
   "source": [
    "~/angsd/angsd/misc/realSFS fst index /local/home/sarahgw/WGS/saf/NJ_E_un.saf.idx /local/home/sarahgw/WGS/saf/VT_E_un.saf.idx /local/home/sarahgw/WGS/saf/NY_E_un.saf.idx -sfs /local/home/sarahgw/WGS/sfs/NJVT_E_unfull_sum.ml -sfs /local/home/sarahgw/WGS/sfs/NJNY_E_unfull_sum.ml -sfs /local/home/sarahgw/WGS/sfs/VTNY_E_unfull_sum.ml -fstout /local/home/sarahgw/WGS/sfs/NJVTNY_E_un_reorder -P 50"
   ]
  },
  {
   "cell_type": "code",
   "execution_count": null,
   "metadata": {
    "collapsed": true
   },
   "outputs": [],
   "source": [
    "~/angsd/misc/realSFS fst stats ~/WGS/SNPS/All_mylu/fst/NJVTNY_E_un_reorder.fst.idx"
   ]
  },
  {
   "cell_type": "markdown",
   "metadata": {
    "collapsed": true
   },
   "source": [
    "[E::bgzf_uncompress] Inflate operation failed: progress temporarily not possible, or in() / out() returned an error\n",
    "[E::bgzf_read] Read block operation failed with error -1 after 105108 of 237312 bytes\n",
    "        -> Problem reading chunk in bgzf_read"
   ]
  },
  {
   "cell_type": "markdown",
   "metadata": {
    "collapsed": true
   },
   "source": [
    "Outliers"
   ]
  },
  {
   "cell_type": "code",
   "execution_count": null,
   "metadata": {
    "collapsed": true
   },
   "outputs": [],
   "source": []
  },
  {
   "cell_type": "code",
   "execution_count": null,
   "metadata": {
    "collapsed": true
   },
   "outputs": [],
   "source": []
  },
  {
   "cell_type": "code",
   "execution_count": null,
   "metadata": {
    "collapsed": true
   },
   "outputs": [],
   "source": []
  },
  {
   "cell_type": "code",
   "execution_count": null,
   "metadata": {
    "collapsed": true
   },
   "outputs": [],
   "source": []
  },
  {
   "cell_type": "code",
   "execution_count": null,
   "metadata": {
    "collapsed": true
   },
   "outputs": [],
   "source": [
    "grep 'GL429767' -A 10000000 /local/home/sarahgw/references/Myotis_Lucifugus2.0/Myotis_lucifugus.Myoluc2.0.dna_sm.toplevel.fa | tr -d \"\\n\\r\" | cut -c 63839001-63865001 >/local/home/sarahgw/WGS/SNPS/All_mylu/snps/GL429767_63839001"
   ]
  },
  {
   "cell_type": "code",
   "execution_count": null,
   "metadata": {
    "collapsed": true
   },
   "outputs": [],
   "source": [
    " "
   ]
  },
  {
   "cell_type": "code",
   "execution_count": null,
   "metadata": {
    "collapsed": true
   },
   "outputs": [],
   "source": []
  },
  {
   "cell_type": "code",
   "execution_count": null,
   "metadata": {
    "collapsed": true
   },
   "outputs": [],
   "source": []
  },
  {
   "cell_type": "code",
   "execution_count": null,
   "metadata": {
    "collapsed": true
   },
   "outputs": [],
   "source": []
  },
  {
   "cell_type": "code",
   "execution_count": null,
   "metadata": {
    "collapsed": false
   },
   "outputs": [],
   "source": [
    "~/angsd/misc/realSFS fst print NJ_EU_unfull.fst.idx> NJ_EU_full_fst"
   ]
  },
  {
   "cell_type": "code",
   "execution_count": null,
   "metadata": {
    "collapsed": true
   },
   "outputs": [],
   "source": [
    "awk -F, 'FNR==NR {a[$1]=$0; next}; $1 in a {print a[$1]}' NJ_EU_full_FST NJ_SNP_sites1_sorted.txt"
   ]
  },
  {
   "cell_type": "code",
   "execution_count": null,
   "metadata": {
    "collapsed": true
   },
   "outputs": [],
   "source": []
  },
  {
   "cell_type": "code",
   "execution_count": null,
   "metadata": {
    "collapsed": true
   },
   "outputs": [],
   "source": [
    "~/angsd/misc/realSFS fst print VT_EU_full.fst.idx  > VT_EU_full_SNP_freq"
   ]
  },
  {
   "cell_type": "code",
   "execution_count": null,
   "metadata": {
    "collapsed": true
   },
   "outputs": [],
   "source": [
    "awk 'FNR==NR {a[$1$2]=$0; next}; $1$2 in a {print a[$1$2]}' VT_EU_full_SNP_freq VT_SNP_sites1_sorted.txt> VT_EU_full_SNP_fst"
   ]
  },
  {
   "cell_type": "code",
   "execution_count": null,
   "metadata": {
    "collapsed": true
   },
   "outputs": [],
   "source": [
    "~/angsd/misc/realSFS fst print NJ_EU_full.fst.idx > NJ_EU_full_SNP_freq"
   ]
  },
  {
   "cell_type": "markdown",
   "metadata": {},
   "source": [
    "This seems to be arbitrarily filtering, the number of lines doesnt match and there are definitely sites in the output that aren't in the SNPs file, try again with a sorted SNP file? did't work. use awk to fiter by snps"
   ]
  },
  {
   "cell_type": "code",
   "execution_count": null,
   "metadata": {
    "collapsed": true
   },
   "outputs": [],
   "source": [
    "~/angsd/misc/realSFS fst print NJ_EU_full.fst.idx -sites NJ_SNP_sites1_sorted.txt > NJ_EU_full_SNP_freq1"
   ]
  },
  {
   "cell_type": "code",
   "execution_count": null,
   "metadata": {
    "collapsed": true
   },
   "outputs": [],
   "source": [
    "~/angsd/misc/realSFS fst print NY_EU_unfull.fst.idx -sites NY_SNP_sites1.txt > NY_EU_unfull_SNP_freq"
   ]
  },
  {
   "cell_type": "code",
   "execution_count": null,
   "metadata": {
    "collapsed": true
   },
   "outputs": [],
   "source": [
    "~/angsd/misc/realSFS fst print NY_EU_unfull.fst.idx> NJ_EU_unfull_fst"
   ]
  },
  {
   "cell_type": "code",
   "execution_count": null,
   "metadata": {
    "collapsed": true
   },
   "outputs": [],
   "source": [
    "~/angsd/misc/realSFS fst print VT_EU_full.fst.idx> VT_EU_full_fst"
   ]
  },
  {
   "cell_type": "code",
   "execution_count": null,
   "metadata": {
    "collapsed": true
   },
   "outputs": [],
   "source": [
    "grep 'AAPE02072785' NJ_EU_full_fst > NJ_AAPE02072785"
   ]
  },
  {
   "cell_type": "markdown",
   "metadata": {},
   "source": [
    "This doesnt make much sense: mt change in allele freq: -0.0103409\n",
    "full change in allele freq: -0.0153759"
   ]
  },
  {
   "cell_type": "code",
   "execution_count": null,
   "metadata": {
    "collapsed": true
   },
   "outputs": [],
   "source": [
    "awk '$4>0.40' /local/home/sarahgw/WGS/SNPS/All_mylu/NJ_EU_full.fst.gz"
   ]
  },
  {
   "cell_type": "markdown",
   "metadata": {},
   "source": [
    "Calculate FST for NY"
   ]
  },
  {
   "cell_type": "markdown",
   "metadata": {
    "collapsed": true
   },
   "source": [
    "Started at 1:15 PM on 7/11/17 on annotate"
   ]
  },
  {
   "cell_type": "code",
   "execution_count": null,
   "metadata": {
    "collapsed": true
   },
   "outputs": [],
   "source": [
    "~/angsd/angsd/misc/realSFS fst index NY_E_un.saf.idx NY_U_un.saf.idx -sfs NY_EU_unfull.ml -fstout NY_EU_unfull; echo \"NY FST Done\" | mailx gw.sarah@gmail.com"
   ]
  },
  {
   "cell_type": "code",
   "execution_count": null,
   "metadata": {
    "collapsed": true
   },
   "outputs": [],
   "source": [
    "~/angsd/angsd/misc/realSFS fst stats NY_EU_unfull.fst.idx "
   ]
  },
  {
   "cell_type": "markdown",
   "metadata": {},
   "source": [
    "This is the unfolded FST values: -> FST.Unweight[nObs:1710526195]:0.031527 Fst.Weight:0.051177\n",
    "This is the folded FST values:-> FST.Unweight[nObs:1710526195]:0.030941 Fst.Weight:0.050585"
   ]
  },
  {
   "cell_type": "code",
   "execution_count": null,
   "metadata": {
    "collapsed": true
   },
   "outputs": [],
   "source": [
    "~/angsd/misc/realSFS fst stats2 NY_EU_unfull.fst.idx -win 10000 -step 2000 -type 1 > NY_unfull_sw2"
   ]
  },
  {
   "cell_type": "code",
   "execution_count": null,
   "metadata": {
    "collapsed": true
   },
   "outputs": [],
   "source": []
  },
  {
   "cell_type": "markdown",
   "metadata": {},
   "source": [
    "Calculate FST for VT"
   ]
  },
  {
   "cell_type": "code",
   "execution_count": null,
   "metadata": {
    "collapsed": true
   },
   "outputs": [],
   "source": [
    "~/angsd/angsd/misc/realSFS fst index VT_E.saf.idx VT_U.saf.idx -sfs VT_EU_full.ml -fstout VT_EU_full ; echo \"VT FST Done\"| mailx gw.sarah@gmail.com "
   ]
  },
  {
   "cell_type": "code",
   "execution_count": null,
   "metadata": {
    "collapsed": true
   },
   "outputs": [],
   "source": []
  },
  {
   "cell_type": "code",
   "execution_count": null,
   "metadata": {
    "collapsed": true
   },
   "outputs": [],
   "source": [
    "~/angsd/angsd/misc/realSFS fst stats VT_EU_full.fst.idx "
   ]
  },
  {
   "cell_type": "markdown",
   "metadata": {},
   "source": [
    "-> FST.Unweight[nObs:1734759399]:0.029444 Fst.Weight:0.045089"
   ]
  },
  {
   "cell_type": "code",
   "execution_count": null,
   "metadata": {
    "collapsed": true
   },
   "outputs": [],
   "source": [
    "~/angsd/misc/realSFS fst stats2 VT_EU_full.fst.idx -win 10000 -step 2000 -type 1 > VT_full_sw2"
   ]
  },
  {
   "cell_type": "code",
   "execution_count": null,
   "metadata": {
    "collapsed": true
   },
   "outputs": [],
   "source": [
    "awk '$5>0.10' /local/home/sarahgw/WGS/SNPS/All_mylu/VT_sw "
   ]
  },
  {
   "cell_type": "markdown",
   "metadata": {},
   "source": [
    "Get sequences for AAPE02072785"
   ]
  },
  {
   "cell_type": "code",
   "execution_count": null,
   "metadata": {
    "collapsed": true
   },
   "outputs": [],
   "source": [
    "grep 'AAPE02072785' -A 300 /local/home/sarahgw/references/Myotis_Lucifugus2.0/Myotis_lucifugus.Myoluc2.0.dna_sm.toplevel.fa | tr -d \"\\n\\r\" | cut -c 7000-15000 >/local/home/sarahgw/WGS/SNPS/All_mylu/AAPE02072785"
   ]
  },
  {
   "cell_type": "code",
   "execution_count": null,
   "metadata": {
    "collapsed": true
   },
   "outputs": [],
   "source": [
    "52357001 52365001"
   ]
  },
  {
   "cell_type": "code",
   "execution_count": null,
   "metadata": {
    "collapsed": true
   },
   "outputs": [],
   "source": [
    "grep 'GL429767' -A 300000 /local/home/sarahgw/references/Myotis_Lucifugus2.0/Myotis_lucifugus.Myoluc2.0.dna_sm.toplevel.fa | tr -d \"\\n\\r\" | cut -c 52357001-52365001 >/local/home/sarahgw/WGS/SNPS/All_mylu/GL429767"
   ]
  },
  {
   "cell_type": "markdown",
   "metadata": {},
   "source": [
    "Test for why GL429767 is no longer an FST outlier? \n",
    "Can I pull out the allele frequencies and rerun FST analysis with new allele freqs but only subset of samples?\n",
    "Can I look to see if genotype likelihoods or allele frquencies change in this region with full dataset?\n",
    "Can I test if the change is on the part of the Exposed or Unexposed populations?--first, try doing fst with saf of old nj exposed and new nj unexposed.  "
   ]
  },
  {
   "cell_type": "code",
   "execution_count": null,
   "metadata": {
    "collapsed": true
   },
   "outputs": [],
   "source": [
    "~/angsd/angsd/misc/realSFS -P 15 angsdout_SAF_pairedplus_filt_E.saf.idx NJ_U.saf.idx > NJ_EU_sub.ml"
   ]
  },
  {
   "cell_type": "code",
   "execution_count": null,
   "metadata": {
    "collapsed": true
   },
   "outputs": [],
   "source": [
    "~/angsd/angsd/misc/realSFS fst index angsdout_SAF_pairedplus_filt_E.saf.idx NJ_U.saf.idx -sfs NJ_EU_sub.ml -fstout NJ_EU_sub"
   ]
  },
  {
   "cell_type": "code",
   "execution_count": null,
   "metadata": {
    "collapsed": true
   },
   "outputs": [],
   "source": [
    "~/angsd/angsd/misc/realSFS fst stats NJ_EU_sub.fst.idx "
   ]
  },
  {
   "cell_type": "markdown",
   "metadata": {},
   "source": [
    "FST.Unweight[nObs:1622446386]:0.046976 Fst.Weight:0.080651\n",
    "Okay, so it seems like its not the exposed that are making a difference its the unexposed?"
   ]
  },
  {
   "cell_type": "code",
   "execution_count": null,
   "metadata": {
    "collapsed": true
   },
   "outputs": [],
   "source": [
    "~/angsd/angsd/misc/realSFS fst stats2 NJ_EU_sub.fst.idx -win 10000 -step 2000 -type 1 >  NJ_EU_sub_sw2"
   ]
  },
  {
   "cell_type": "code",
   "execution_count": null,
   "metadata": {
    "collapsed": true
   },
   "outputs": [],
   "source": []
  }
 ],
 "metadata": {
  "anaconda-cloud": {},
  "kernelspec": {
   "display_name": "Python [conda root]",
   "language": "python",
   "name": "conda-root-py"
  },
  "language_info": {
   "codemirror_mode": {
    "name": "ipython",
    "version": 2
   },
   "file_extension": ".py",
   "mimetype": "text/x-python",
   "name": "python",
   "nbconvert_exporter": "python",
   "pygments_lexer": "ipython2",
   "version": "2.7.12"
  }
 },
 "nbformat": 4,
 "nbformat_minor": 1
}
