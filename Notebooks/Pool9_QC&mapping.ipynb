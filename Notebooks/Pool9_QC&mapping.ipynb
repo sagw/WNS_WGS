{
 "cells": [
  {
   "cell_type": "code",
   "execution_count": null,
   "metadata": {
    "collapsed": true
   },
   "outputs": [],
   "source": [
    "scp Pool9_Barcodes.txt sarahgw@amphiprion.deenr.rutgers.edu:/local/home/sarahgw/WGS/Sequences/Pool9/"
   ]
  },
  {
   "cell_type": "code",
   "execution_count": null,
   "metadata": {
    "collapsed": true
   },
   "outputs": [],
   "source": [
    "mkdir $(awk '{print $1}' /local/home/sarahgw/WGS/Sequences/Pool9/Pool9_Barcodes.txt)"
   ]
  },
  {
   "cell_type": "code",
   "execution_count": 1,
   "metadata": {},
   "outputs": [
    {
     "name": "stdout",
     "output_type": "stream",
     "text": [
      "KY_E_14  KY_E_17  KY_E_20  KY_E_23  KY_E_26  KY_U_12  KY_U_16  KY_U_22\r\n",
      "KY_E_15  KY_E_18  KY_E_21  KY_E_24  KY_U_10  KY_U_13  KY_U_17  NY_U_08\r\n",
      "KY_E_16  KY_E_19  KY_E_22  KY_E_25  KY_U_11  KY_U_15  KY_U_18  NY_U_22\r\n"
     ]
    }
   ],
   "source": [
    "!ls /local/home/sarahgw/WGS/Sequences/Pool9/"
   ]
  },
  {
   "cell_type": "code",
   "execution_count": null,
   "metadata": {
    "collapsed": true
   },
   "outputs": [],
   "source": [
    "gunzip */*.fastq.gz"
   ]
  },
  {
   "cell_type": "code",
   "execution_count": 1,
   "metadata": {
    "scrolled": true
   },
   "outputs": [
    {
     "name": "stdout",
     "output_type": "stream",
     "text": [
      "/local/home/sarahgw/WGS/Sequences/Pool9/KY_E_14/KY_E_14_Demultiplexed-fastq-fileset-sample-Pool-9-from-flowcell-HW3FCBCXY-on-2017-10-09_Read_1_passed_filter.fastq:180395\n",
      "/local/home/sarahgw/WGS/Sequences/Pool9/KY_E_14/KY_E_14_Demultiplexed-fastq-fileset-sample-Pool-9-from-flowcell-HW3FCBCXY-on-2017-10-09_Read_4_passed_filter.fastq:222867\n",
      "/local/home/sarahgw/WGS/Sequences/Pool9/KY_E_14/KY_E_14_FU1.fastq:179718\n",
      "/local/home/sarahgw/WGS/Sequences/Pool9/KY_E_14/KY_E_14_FU2.fastq:221956\n",
      "/local/home/sarahgw/WGS/Sequences/Pool9/KY_E_15/KY_E_15_Demultiplexed-fastq-fileset-sample-Pool-9-from-flowcell-HW3FCBCXY-on-2017-10-09_Read_1_passed_filter.fastq:2117524\n",
      "/local/home/sarahgw/WGS/Sequences/Pool9/KY_E_15/KY_E_15_Demultiplexed-fastq-fileset-sample-Pool-9-from-flowcell-HW3FCBCXY-on-2017-10-09_Read_4_passed_filter.fastq:2645171\n",
      "/local/home/sarahgw/WGS/Sequences/Pool9/KY_E_15/KY_E_15_FU1.fastq:2052335\n",
      "/local/home/sarahgw/WGS/Sequences/Pool9/KY_E_15/KY_E_15_FU2.fastq:2558802\n",
      "/local/home/sarahgw/WGS/Sequences/Pool9/KY_E_16/KY_E_16_Demultiplexed-fastq-fileset-sample-Pool-9-from-flowcell-HW3FCBCXY-on-2017-10-09_Read_1_passed_filter.fastq:2121422\n",
      "/local/home/sarahgw/WGS/Sequences/Pool9/KY_E_16/KY_E_16_Demultiplexed-fastq-fileset-sample-Pool-9-from-flowcell-HW3FCBCXY-on-2017-10-09_Read_4_passed_filter.fastq:2657514\n",
      "/local/home/sarahgw/WGS/Sequences/Pool9/KY_E_16/KY_E_16_FU1.fastq:2059775\n",
      "/local/home/sarahgw/WGS/Sequences/Pool9/KY_E_16/KY_E_16_FU2.fastq:2575610\n",
      "/local/home/sarahgw/WGS/Sequences/Pool9/KY_E_17/KY_E_17_Demultiplexed-fastq-fileset-sample-Pool-9-from-flowcell-HW3FCBCXY-on-2017-10-09_Read_1_passed_filter.fastq:4418262\n",
      "/local/home/sarahgw/WGS/Sequences/Pool9/KY_E_17/KY_E_17_Demultiplexed-fastq-fileset-sample-Pool-9-from-flowcell-HW3FCBCXY-on-2017-10-09_Read_4_passed_filter.fastq:5557684\n",
      "/local/home/sarahgw/WGS/Sequences/Pool9/KY_E_17/KY_E_17_FU1.fastq:4286668\n",
      "/local/home/sarahgw/WGS/Sequences/Pool9/KY_E_17/KY_E_17_FU2.fastq:5384628\n",
      "/local/home/sarahgw/WGS/Sequences/Pool9/KY_E_18/KY_E_18_Demultiplexed-fastq-fileset-sample-Pool-9-from-flowcell-HW3FCBCXY-on-2017-10-09_Read_1_passed_filter.fastq:474895\n",
      "/local/home/sarahgw/WGS/Sequences/Pool9/KY_E_18/KY_E_18_Demultiplexed-fastq-fileset-sample-Pool-9-from-flowcell-HW3FCBCXY-on-2017-10-09_Read_4_passed_filter.fastq:597477\n",
      "/local/home/sarahgw/WGS/Sequences/Pool9/KY_E_18/KY_E_18_FU1.fastq:471721\n",
      "/local/home/sarahgw/WGS/Sequences/Pool9/KY_E_18/KY_E_18_FU2.fastq:593189\n",
      "/local/home/sarahgw/WGS/Sequences/Pool9/KY_E_19/KY_E_19_Demultiplexed-fastq-fileset-sample-Pool-9-from-flowcell-HW3FCBCXY-on-2017-10-09_Read_1_passed_filter.fastq:2583714\n",
      "/local/home/sarahgw/WGS/Sequences/Pool9/KY_E_19/KY_E_19_Demultiplexed-fastq-fileset-sample-Pool-9-from-flowcell-HW3FCBCXY-on-2017-10-09_Read_4_passed_filter.fastq:3251325\n",
      "/local/home/sarahgw/WGS/Sequences/Pool9/KY_E_19/KY_E_19_FU1.fastq:2516515\n",
      "/local/home/sarahgw/WGS/Sequences/Pool9/KY_E_19/KY_E_19_FU2.fastq:3162288\n",
      "/local/home/sarahgw/WGS/Sequences/Pool9/KY_E_20/KY_E_20_Demultiplexed-fastq-fileset-sample-Pool-9-from-flowcell-HW3FCBCXY-on-2017-10-09_Read_1_passed_filter.fastq:3063049\n",
      "/local/home/sarahgw/WGS/Sequences/Pool9/KY_E_20/KY_E_20_Demultiplexed-fastq-fileset-sample-Pool-9-from-flowcell-HW3FCBCXY-on-2017-10-09_Read_4_passed_filter.fastq:3829056\n",
      "/local/home/sarahgw/WGS/Sequences/Pool9/KY_E_20/KY_E_20_FU1.fastq:2953329\n",
      "/local/home/sarahgw/WGS/Sequences/Pool9/KY_E_20/KY_E_20_FU2.fastq:3685535\n",
      "/local/home/sarahgw/WGS/Sequences/Pool9/KY_E_21/KY_E_21_Demultiplexed-fastq-fileset-sample-Pool-9-from-flowcell-HW3FCBCXY-on-2017-10-09_Read_1_passed_filter.fastq:1356058\n",
      "/local/home/sarahgw/WGS/Sequences/Pool9/KY_E_21/KY_E_21_Demultiplexed-fastq-fileset-sample-Pool-9-from-flowcell-HW3FCBCXY-on-2017-10-09_Read_4_passed_filter.fastq:1725062\n",
      "/local/home/sarahgw/WGS/Sequences/Pool9/KY_E_21/KY_E_21_FU1.fastq:1336970\n",
      "/local/home/sarahgw/WGS/Sequences/Pool9/KY_E_21/KY_E_21_FU2.fastq:1699185\n",
      "/local/home/sarahgw/WGS/Sequences/Pool9/KY_E_22/KY_E_22_Demultiplexed-fastq-fileset-sample-Pool-9-from-flowcell-HW3FCBCXY-on-2017-10-09_Read_1_passed_filter.fastq:2245686\n",
      "/local/home/sarahgw/WGS/Sequences/Pool9/KY_E_22/KY_E_22_Demultiplexed-fastq-fileset-sample-Pool-9-from-flowcell-HW3FCBCXY-on-2017-10-09_Read_4_passed_filter.fastq:2851916\n",
      "/local/home/sarahgw/WGS/Sequences/Pool9/KY_E_22/KY_E_22_FU1.fastq:2177882\n",
      "/local/home/sarahgw/WGS/Sequences/Pool9/KY_E_22/KY_E_22_FU2.fastq:2760334\n",
      "/local/home/sarahgw/WGS/Sequences/Pool9/KY_E_23/KY_E_23_Demultiplexed-fastq-fileset-sample-Pool-9-from-flowcell-HW3FCBCXY-on-2017-10-09_Read_1_passed_filter.fastq:4425162\n",
      "/local/home/sarahgw/WGS/Sequences/Pool9/KY_E_23/KY_E_23_Demultiplexed-fastq-fileset-sample-Pool-9-from-flowcell-HW3FCBCXY-on-2017-10-09_Read_4_passed_filter.fastq:5592003\n",
      "/local/home/sarahgw/WGS/Sequences/Pool9/KY_E_23/KY_E_23_FU1.fastq:4246044\n",
      "/local/home/sarahgw/WGS/Sequences/Pool9/KY_E_23/KY_E_23_FU2.fastq:5352924\n",
      "/local/home/sarahgw/WGS/Sequences/Pool9/KY_E_24/KY_E_24_Demultiplexed-fastq-fileset-sample-Pool-9-from-flowcell-HW3FCBCXY-on-2017-10-09_Read_1_passed_filter.fastq:3340850\n",
      "/local/home/sarahgw/WGS/Sequences/Pool9/KY_E_24/KY_E_24_Demultiplexed-fastq-fileset-sample-Pool-9-from-flowcell-HW3FCBCXY-on-2017-10-09_Read_4_passed_filter.fastq:4202151\n",
      "/local/home/sarahgw/WGS/Sequences/Pool9/KY_E_24/KY_E_24_FU1.fastq:3268230\n",
      "/local/home/sarahgw/WGS/Sequences/Pool9/KY_E_24/KY_E_24_FU2.fastq:4105821\n",
      "/local/home/sarahgw/WGS/Sequences/Pool9/KY_E_25/KY_E_25_Demultiplexed-fastq-fileset-sample-Pool-9-from-flowcell-HW3FCBCXY-on-2017-10-09_Read_1_passed_filter.fastq:2692779\n",
      "/local/home/sarahgw/WGS/Sequences/Pool9/KY_E_25/KY_E_25_Demultiplexed-fastq-fileset-sample-Pool-9-from-flowcell-HW3FCBCXY-on-2017-10-09_Read_4_passed_filter.fastq:3427732\n",
      "/local/home/sarahgw/WGS/Sequences/Pool9/KY_E_25/KY_E_25_FU1.fastq:2643419\n",
      "/local/home/sarahgw/WGS/Sequences/Pool9/KY_E_25/KY_E_25_FU2.fastq:3360706\n",
      "/local/home/sarahgw/WGS/Sequences/Pool9/KY_E_26/KY_E_26_Demultiplexed-fastq-fileset-sample-Pool-9-from-flowcell-HW3FCBCXY-on-2017-10-09_Read_1_passed_filter.fastq:2693237\n",
      "/local/home/sarahgw/WGS/Sequences/Pool9/KY_E_26/KY_E_26_Demultiplexed-fastq-fileset-sample-Pool-9-from-flowcell-HW3FCBCXY-on-2017-10-09_Read_4_passed_filter.fastq:3388180\n",
      "/local/home/sarahgw/WGS/Sequences/Pool9/KY_U_10/KY_U_10_Demultiplexed-fastq-fileset-sample-Pool-9-from-flowcell-HW3FCBCXY-on-2017-10-09_Read_1_passed_filter.fastq:9740332\n",
      "/local/home/sarahgw/WGS/Sequences/Pool9/KY_U_10/KY_U_10_Demultiplexed-fastq-fileset-sample-Pool-9-from-flowcell-HW3FCBCXY-on-2017-10-09_Read_4_passed_filter.fastq:11527639\n",
      "/local/home/sarahgw/WGS/Sequences/Pool9/KY_U_11/KY_U_11_Demultiplexed-fastq-fileset-sample-Pool-9-from-flowcell-HW3FCBCXY-on-2017-10-09_Read_1_passed_filter.fastq:7075083\n",
      "/local/home/sarahgw/WGS/Sequences/Pool9/KY_U_11/KY_U_11_Demultiplexed-fastq-fileset-sample-Pool-9-from-flowcell-HW3FCBCXY-on-2017-10-09_Read_4_passed_filter.fastq:8589562\n",
      "/local/home/sarahgw/WGS/Sequences/Pool9/KY_U_12/KY_U_12_Demultiplexed-fastq-fileset-sample-Pool-9-from-flowcell-HW3FCBCXY-on-2017-10-09_Read_1_passed_filter.fastq:6809310\n",
      "/local/home/sarahgw/WGS/Sequences/Pool9/KY_U_12/KY_U_12_Demultiplexed-fastq-fileset-sample-Pool-9-from-flowcell-HW3FCBCXY-on-2017-10-09_Read_4_passed_filter.fastq:8336703\n",
      "/local/home/sarahgw/WGS/Sequences/Pool9/KY_U_13/KY_U_13_Demultiplexed-fastq-fileset-sample-Pool-9-from-flowcell-HW3FCBCXY-on-2017-10-09_Read_1_passed_filter.fastq:6844370\n",
      "/local/home/sarahgw/WGS/Sequences/Pool9/KY_U_13/KY_U_13_Demultiplexed-fastq-fileset-sample-Pool-9-from-flowcell-HW3FCBCXY-on-2017-10-09_Read_4_passed_filter.fastq:8115346\n",
      "/local/home/sarahgw/WGS/Sequences/Pool9/KY_U_15/KY_U_15_Demultiplexed-fastq-fileset-sample-Pool-9-from-flowcell-HW3FCBCXY-on-2017-10-09_Read_1_passed_filter.fastq:6604026\n",
      "/local/home/sarahgw/WGS/Sequences/Pool9/KY_U_15/KY_U_15_Demultiplexed-fastq-fileset-sample-Pool-9-from-flowcell-HW3FCBCXY-on-2017-10-09_Read_4_passed_filter.fastq:7987107\n",
      "/local/home/sarahgw/WGS/Sequences/Pool9/KY_U_16/KY_U_16_Demultiplexed-fastq-fileset-sample-Pool-9-from-flowcell-HW3FCBCXY-on-2017-10-09_Read_1_passed_filter.fastq:8967818\n",
      "/local/home/sarahgw/WGS/Sequences/Pool9/KY_U_16/KY_U_16_Demultiplexed-fastq-fileset-sample-Pool-9-from-flowcell-HW3FCBCXY-on-2017-10-09_Read_4_passed_filter.fastq:10511544\n",
      "/local/home/sarahgw/WGS/Sequences/Pool9/KY_U_17/KY_U_17_Demultiplexed-fastq-fileset-sample-Pool-9-from-flowcell-HW3FCBCXY-on-2017-10-09_Read_1_passed_filter.fastq:4708135\n",
      "^C"
     ]
    }
   ],
   "source": [
    "!grep -c '@' /local/home/sarahgw/WGS/Sequences/Pool9/*/*.fastq"
   ]
  },
  {
   "cell_type": "code",
   "execution_count": null,
   "metadata": {
    "collapsed": true
   },
   "outputs": [],
   "source": [
    "~/Notebooks/WNS_WGS/Bioinfo_pipeline.sh "
   ]
  },
  {
   "cell_type": "code",
   "execution_count": null,
   "metadata": {
    "collapsed": true
   },
   "outputs": [],
   "source": [
    "rm */*passed_filter.fastq\n",
    "    rm */*FU1.fastq\n",
    "    rm */*FU2.fastq\n",
    "    rm */*trim_p.fastq\n",
    "    rm */*trim_up.fastq\n",
    "find . -name \"*.tagged.fastq\" -exec mv -i {} ../Pool8Contaminants/ \\;\n",
    "    for file in $(ls); do tar -zcvf \"$file\".tar.gz \"$file\" ; done"
   ]
  },
  {
   "cell_type": "code",
   "execution_count": null,
   "metadata": {
    "collapsed": true
   },
   "outputs": [],
   "source": [
    "for dir in $(ls); do cd $dir; /local/home/sarahgw/anaconda2/bin/bowtie2 --very-sensitive-local -p 12 -x /local/home/sarahgw/references/Myotis_Lucifugus2.0/MyoLuc_toplevel_index -1 $(pwd)/\"$dir\"_FU1_trim_p.tagged_pfilter.fastq -2 $(pwd)/\"$dir\"_FU2_trim_p.tagged_pfilter.fastq -U $(pwd)/\"$dir\"_FU1_trim_up.tagged_filter.fastq,$(pwd)/\"$dir\"_FU2_trim_up.tagged_filter.fastq -S $(pwd)/\"$dir\"_pairedplus_eg2.sam; cd ..; done"
   ]
  },
  {
   "cell_type": "code",
   "execution_count": null,
   "metadata": {
    "collapsed": true
   },
   "outputs": [],
   "source": [
    "for dir in $(ls); do cd $dir; java -jar /local/home/sarahgw/picard.jar SortSam \\\n",
    "      I=$(pwd)/\"$dir\"_pairedplus_eg2.sam \\\n",
    "      O=$(pwd)/\"$dir\"_pairedplus_eg2_sorted.bam \\\n",
    "      SORT_ORDER=coordinate; cd ..; done"
   ]
  },
  {
   "cell_type": "code",
   "execution_count": null,
   "metadata": {
    "collapsed": true
   },
   "outputs": [],
   "source": [
    "for dir in $(ls); do cd $dir; java -jar /local/home/sarahgw/picard.jar MarkDuplicates \\\n",
    "      I=$(pwd)/\"$dir\"_pairedplus_eg2_sorted.bam \\\n",
    "      O=$(pwd)/\"$dir\"_pairedplus_marked_dupes.bam \\\n",
    "      M=$(pwd)/\"$dir\"_pairedplus_marked_dup_metrics.txt \\\n",
    "      REMOVE_DUPLICATES=true \\\n",
    "      ASSUME_SORT_ORDER=coordinate; cd ..; date; done "
   ]
  },
  {
   "cell_type": "code",
   "execution_count": null,
   "metadata": {
    "collapsed": true
   },
   "outputs": [],
   "source": [
    "for dir in $(ls); do cd $dir; samtools view -b $(pwd)/\"$dir\"_pairedplus_marked_dupes.bam | genomeCoverageBed -ibam stdin -g /local/home/sarahgw/references/Myotis_Lucifugus2.0/Myoluc_genomeFile.txt>$(pwd)/\"$dir\"_Coverage.txt; cd ..; done"
   ]
  }
 ],
 "metadata": {
  "anaconda-cloud": {},
  "kernelspec": {
   "display_name": "Python 2",
   "language": "python",
   "name": "python2"
  },
  "language_info": {
   "codemirror_mode": {
    "name": "ipython",
    "version": 2
   },
   "file_extension": ".py",
   "mimetype": "text/x-python",
   "name": "python",
   "nbconvert_exporter": "python",
   "pygments_lexer": "ipython2",
   "version": "2.7.13"
  }
 },
 "nbformat": 4,
 "nbformat_minor": 1
}
