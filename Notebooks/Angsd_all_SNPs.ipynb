{
 "cells": [
  {
   "cell_type": "markdown",
   "metadata": {},
   "source": [
    "# 1. Before calling snps, we need to filter the data more. \n",
    "## First identify sites with low mappability and exclude them from snps\n"
   ]
  },
  {
   "cell_type": "code",
   "execution_count": null,
   "metadata": {
    "collapsed": true
   },
   "outputs": [],
   "source": []
  },
  {
   "cell_type": "code",
   "execution_count": null,
   "metadata": {
    "collapsed": true
   },
   "outputs": [],
   "source": [
    "gem-indexer -i /local/home/sarahgw/references/Myotis_lucifugus.Myoluc2.0.dna_sm.toplevel.fas -o /local/home/sarahgw/references/Myotis_lucifugus.Myoluc2.0"
   ]
  },
  {
   "cell_type": "code",
   "execution_count": null,
   "metadata": {
    "collapsed": true
   },
   "outputs": [],
   "source": [
    "gem-mappability -I /local/home/sarahgw/references/Myotis_lucifugus.Myoluc2.0.gem -l 140 -o /local/home/sarahgw/WGS/QC/Map -T 20"
   ]
  },
  {
   "cell_type": "code",
   "execution_count": null,
   "metadata": {
    "collapsed": true
   },
   "outputs": [],
   "source": [
    "gem-2-wig -i Map.mappability -I ~/references/Myotis_lucifugus.Myoluc2.0.gem -o Map"
   ]
  },
  {
   "cell_type": "code",
   "execution_count": 1,
   "metadata": {},
   "outputs": [
    {
     "name": "stdout",
     "output_type": "stream",
     "text": [
      "variableStep\tchrom=GL429767 dna_sm\tspan=4317\r\n",
      "1\t1\r\n",
      "variableStep\tchrom=GL429767 dna_sm\tspan=5\r\n",
      "4318\t0.5\r\n",
      "variableStep\tchrom=GL429767 dna_sm\r\n",
      "4323\t0.0771517\r\n",
      "4324\t0.133631\r\n",
      "4325\t0.5\r\n",
      "4326\t0.0771517\r\n",
      "variableStep\tchrom=GL429767 dna_sm\tspan=6\r\n"
     ]
    }
   ],
   "source": [
    "!head /local/home/sarahgw/WGS/QC/Map.wig"
   ]
  },
  {
   "cell_type": "markdown",
   "metadata": {},
   "source": [
    "Turn this wig file into a filter file for angsd. "
   ]
  },
  {
   "cell_type": "code",
   "execution_count": 28,
   "metadata": {
    "collapsed": true
   },
   "outputs": [],
   "source": [
    "f=open('/local/home/sarahgw/WGS/QC/Map.wig', 'r')\n",
    "o=open('/local/home/sarahgw/WGS/QC/All_mylu_Map1.txt', 'w')\n",
    "\n",
    "line = \" \"\n",
    "while True:\n",
    "    line = f.readline()\n",
    "    if not line:\n",
    "        break\n",
    "        \n",
    "    if line.startswith(\"variableStep\"):\n",
    "        desc = line.split()\n",
    "        chrom = desc[1].split('=')[1]\n",
    "        span = None if 'span' not in desc[-1] else int(desc[-1].split('=')[1])\n",
    "    else:\n",
    "        data = line.split()\n",
    "        val = int(data[0])\n",
    "        if float(data[1]) == 1:\n",
    "            if span:\n",
    "                newline = \"{}:{}-{}\\n\".format(chrom, val, span+val)\n",
    "            else:\n",
    "                newline = \"{}:{}\\n\".format(chrom, val)\n",
    "            o.write(newline)\n",
    "\n",
    "f.close()\n",
    "o.close()"
   ]
  },
  {
   "cell_type": "code",
   "execution_count": 15,
   "metadata": {},
   "outputs": [
    {
     "name": "stdout",
     "output_type": "stream",
     "text": [
      "GL429767:1-4318\r\n"
     ]
    }
   ],
   "source": [
    "!head -n 1 /local/home/sarahgw/WGS/QC/All_mylu_Map1.txt"
   ]
  },
  {
   "cell_type": "code",
   "execution_count": 9,
   "metadata": {},
   "outputs": [
    {
     "data": {
      "text/plain": [
       "1739971618"
      ]
     },
     "execution_count": 9,
     "metadata": {},
     "output_type": "execute_result"
    }
   ],
   "source": [
    "f=open('/local/home/sarahgw/WGS/QC/All_mylu_Map1.txt', 'r')\n",
    "total=0\n",
    "for line in f:\n",
    "    chrom=line.split(':')\n",
    "    data=chrom[1]\n",
    "    if '-' not in data :\n",
    "        num=1\n",
    "    else: \n",
    "        sub=data.split('-')\n",
    "        num=int(sub[1])-int(sub[0])\n",
    "    total+=num\n",
    "total"
   ]
  },
  {
   "cell_type": "markdown",
   "metadata": {},
   "source": [
    "1,739,971,618\n",
    "so 1.7 GB are mappable score of 1. out of 2.2\n",
    "\n",
    "Limit depth calculation to mappable regions"
   ]
  },
  {
   "cell_type": "code",
   "execution_count": null,
   "metadata": {
    "collapsed": true
   },
   "outputs": [],
   "source": [
    "/local/home/sarahgw/angsd/angsd/angsd -b /local/home/sarahgw/WGS/Sequences/filelists/All_Mylu.filelist -rf /local/home/sarahgw/WGS/QC/All_mylu_Map1.txt -minMapQ 30 -minQ 20 -doCounts 1 -doDepth 1 -maxDepth 1000 -out /local/home/sarahgw/WGS/QC/All_mylu_depth_summary1000 -P 20"
   ]
  },
  {
   "cell_type": "markdown",
   "metadata": {},
   "source": [
    "Make plot using ryan's code"
   ]
  },
  {
   "cell_type": "code",
   "execution_count": 8,
   "metadata": {},
   "outputs": [
    {
     "data": {
      "text/plain": [
       "(0, 101)"
      ]
     },
     "execution_count": 8,
     "metadata": {},
     "output_type": "execute_result"
    },
    {
     "data": {
      "image/png": "[encoded data removed]",
      "text/plain": [
       "<matplotlib.figure.Figure at 0x7ffadc94d710>"
      ]
     },
     "metadata": {},
     "output_type": "display_data"
    }
   ],
   "source": [
    "import numpy as np\n",
    "import matplotlib.pyplot as plt\n",
    "depth = np.loadtxt('/local/home/sarahgw/WGS/QC/All_mylu_depth_summary.depthGlobal', dtype='int')\n",
    "fix, ax = plt.subplots(1, figsize = (16, 10))\n",
    "ax.bar(range(len(depth)), depth, align = 'center')\n",
    "plt.xlim(0, 101)"
   ]
  },
  {
   "cell_type": "code",
   "execution_count": null,
   "metadata": {
    "collapsed": true
   },
   "outputs": [],
   "source": [
    "for file in $ls; do samtools index $file; done"
   ]
  },
  {
   "cell_type": "markdown",
   "metadata": {},
   "source": [
    "look to see if snps of interest are in regions of low mappability (No)"
   ]
  },
  {
   "cell_type": "markdown",
   "metadata": {},
   "source": [
    "# 2. Redoing SNP calling \n",
    "limit to areas with high scores of mappability, limit depth to 1320 (10x depth in every individual)"
   ]
  },
  {
   "cell_type": "code",
   "execution_count": null,
   "metadata": {
    "collapsed": true
   },
   "outputs": [],
   "source": [
    "~/angsd/angsd/angsd -b /local/home/sarahgw/WGS/Sequences/filelists/All_Mylu.filelist -GL 1 -doMajorMinor 1 -doMaf 1 -doCounts 1 -minQ 20 -minMapQ 30 -SNP_pval 1e-6 -minInd 68 -setMaxDepth 1320 -rf /local/home/sarahgw/WGS/QC/All_mylu_Map1.txt -out /local/home/sarahgw/WGS/SNPS/All_mylu/snps/All_mylu_snps_filt -P 20"
   ]
  },
  {
   "cell_type": "markdown",
   "metadata": {},
   "source": [
    "## Calculate genotype likelihoods in beagle format for input into pcangsd"
   ]
  },
  {
   "cell_type": "code",
   "execution_count": null,
   "metadata": {
    "collapsed": true
   },
   "outputs": [],
   "source": [
    "~/angsd/angsd/angsd -b /local/home/sarahgw/WGS/Sequences/filelists/All_Mylu.filelist -GL 1 -doGlf 2 -doMajorMinor 1 -doMaf 1 -doCounts 1 -minQ 20 -minMapQ 30 -SNP_pval 1e-6 -minInd 68 -setMaxDepth 1320 -rf /local/home/sarahgw/WGS/QC/All_mylu_Map1.txt -out /local/home/sarahgw/WGS/SNPS/All_mylu/genolike/All_mylu_gl_filt -P 10"
   ]
  },
  {
   "cell_type": "code",
   "execution_count": null,
   "metadata": {
    "collapsed": true
   },
   "outputs": [],
   "source": [
    "python /local/home/sarahgw/pcangsd/pcangsd.py -beagle /local/home/sarahgw/WGS/SNPS/All_mylu/genolike/All_mylu_gl_filt.beagle.gz -n 132 -o /local/home/sarahgw/WGS/SNPS/All_mylu/genolike/All_mylu_gl_filt -threads 10"
   ]
  },
  {
   "cell_type": "markdown",
   "metadata": {},
   "source": [
    "## Now calculate minor allele frequencies for each population for SNPS \n",
    "\n",
    "first make sites index file\n",
    "\n",
    "Include major and minor, so that these are consistent across populations, even if not accurate in a given (sub)population"
   ]
  },
  {
   "cell_type": "code",
   "execution_count": 2,
   "metadata": {
    "collapsed": true
   },
   "outputs": [],
   "source": [
    "!gunzip /local/home/sarahgw/WGS/SNPS/All_mylu/All_mylu.mafs.gz"
   ]
  },
  {
   "cell_type": "code",
   "execution_count": 1,
   "metadata": {
    "collapsed": true
   },
   "outputs": [],
   "source": [
    "!cut -f1-4 /local/home/sarahgw/WGS/SNPS/All_mylu/snps/All_mylu_snps_filt.mafs > /local/home/sarahgw/WGS/SNPS/All_mylu/snps/All_mylu_snps_filt_sites.txt"
   ]
  },
  {
   "cell_type": "code",
   "execution_count": 2,
   "metadata": {},
   "outputs": [
    {
     "name": "stdout",
     "output_type": "stream",
     "text": [
      "44829667 /local/home/sarahgw/WGS/SNPS/All_mylu/snps/All_mylu_snps_filt.mafs\r\n"
     ]
    }
   ],
   "source": [
    "!wc -l /local/home/sarahgw/WGS/SNPS/All_mylu/snps/All_mylu_snps_filt.mafs"
   ]
  },
  {
   "cell_type": "code",
   "execution_count": 15,
   "metadata": {},
   "outputs": [
    {
     "name": "stdout",
     "output_type": "stream",
     "text": [
      "chromo\tposition\tmajor\tminor\tknownEM\tpK-EM\tnInd\r\n",
      "GL429767\t78\tG\tA\t0.038942\t0.000000e+00\t73\r\n",
      "GL429767\t104\tA\tT\t0.099900\t0.000000e+00\t71\r\n",
      "GL429767\t112\tG\tA\t0.009628\t2.170143e-09\t73\r\n",
      "GL429767\t195\tC\tT\t0.049670\t0.000000e+00\t87\r\n",
      "GL429767\t196\tT\tC\t0.082842\t0.000000e+00\t86\r\n",
      "GL429767\t202\tA\tG\t0.234427\t0.000000e+00\t87\r\n",
      "GL429767\t295\tA\tT\t0.076318\t0.000000e+00\t84\r\n",
      "GL429767\t317\tG\tA\t0.184128\t0.000000e+00\t88\r\n",
      "GL429767\t324\tT\tA\t0.244735\t0.000000e+00\t90\r\n"
     ]
    }
   ],
   "source": [
    "!head /local/home/sarahgw/WGS/SNPS/All_mylu/snps/All_mylu_snps_filt.mafs"
   ]
  },
  {
   "cell_type": "code",
   "execution_count": 16,
   "metadata": {},
   "outputs": [
    {
     "name": "stdout",
     "output_type": "stream",
     "text": [
      "chromo\tposition\tmajor\tminor\tknownEM\tunknownEM\tphat\tpK-EM\tpu-EM\tnInd\r\n",
      "GL429767\t54\tG\tT\t0.010604\t0.003561\t0.010596\t1.780614e-05\t8.907360e-05\t132\r\n",
      "GL429767\t78\tG\tA\t0.038947\t0.038947\t0.048613\t0.000000e+00\t0.000000e+00\t132\r\n",
      "GL429767\t83\tG\tT\t0.009379\t0.003079\t0.009519\t7.572331e-03\t4.047936e-02\t132\r\n",
      "GL429767\t104\tA\tT\t0.099904\t0.099904\t0.112676\t0.000000e+00\t0.000000e+00\t132\r\n",
      "GL429767\t109\tT\tC\t0.008437\t0.006854\t0.003124\t7.962769e-02\t2.694076e-01\t132\r\n",
      "GL429767\t112\tG\tA\t0.009633\t0.004939\t0.014536\t2.170143e-09\t8.087610e-09\t132\r\n",
      "GL429767\t157\tT\tC\t0.008590\t0.008094\t0.005589\t2.282445e-02\t7.836519e-02\t132\r\n",
      "GL429767\t184\tC\tG\t0.008224\t0.002742\t0.003536\t1.670660e-04\t8.589729e-04\t132\r\n",
      "GL429767\t189\tG\tT\t0.007934\t0.007740\t0.007856\t9.091749e-03\t3.092228e-02\t132\r\n"
     ]
    }
   ],
   "source": [
    "!head /local/home/sarahgw/WGS/SNPS/All_mylu/mafs/All_mylu.mafs"
   ]
  },
  {
   "cell_type": "markdown",
   "metadata": {},
   "source": [
    "So, we now have 44,829,667 SNPs!"
   ]
  },
  {
   "cell_type": "code",
   "execution_count": 3,
   "metadata": {
    "collapsed": true
   },
   "outputs": [],
   "source": [
    "!tail -n+2 /local/home/sarahgw/WGS/SNPS/All_mylu/snps/All_mylu_snps_filt_sites.txt > /local/home/sarahgw/WGS/SNPS/All_mylu/snps/All_mylu_snps_filt_sites1.txt"
   ]
  },
  {
   "cell_type": "code",
   "execution_count": null,
   "metadata": {
    "collapsed": true
   },
   "outputs": [],
   "source": [
    "~/angsd/angsd/angsd sites index All_mylu_snps_filt_sites1.txt"
   ]
  },
  {
   "cell_type": "code",
   "execution_count": null,
   "metadata": {
    "collapsed": true
   },
   "outputs": [],
   "source": [
    "for POP in NJ_U NY_U VT_U; do echo $POP; ~/angsd/angsd/angsd -b /local/home/sarahgw/WGS/Sequences/filelists/\"$POP\".filelist -GL 1 -doMajorMinor 3 -doMaf 11 -doCounts 1 -minQ 20 -minMapQ 30 -P 30 -setMaxDepth 270 -sites /local/home/sarahgw/WGS/SNPS/All_mylu/snps/All_mylu_snps_filt_sites1.txt -out /local/home/sarahgw/WGS/SNPS/All_mylu/mafs/\"$POP\"_filt; done"
   ]
  },
  {
   "cell_type": "code",
   "execution_count": null,
   "metadata": {
    "collapsed": true
   },
   "outputs": [],
   "source": [
    "for POP in NJ_E NY_E VT_E ; do echo $POP; ~/angsd/angsd/angsd -b /local/home/sarahgw/WGS/Sequences/filelists/\"$POP\".filelist -GL 1 -doMajorMinor 3 -doMaf 11 -doCounts 1 -minQ 20 -minMapQ 30 -P 20 -setMaxDepth 270 -sites /local/home/sarahgw/WGS/SNPS/All_mylu/snps/All_mylu_snps_filt_sites1.txt -out /local/home/sarahgw/WGS/SNPS/All_mylu/mafs/\"$POP\"_filt; done"
   ]
  },
  {
   "cell_type": "markdown",
   "metadata": {},
   "source": [
    "redo VTE mafs"
   ]
  },
  {
   "cell_type": "code",
   "execution_count": null,
   "metadata": {
    "collapsed": true
   },
   "outputs": [],
   "source": [
    "~/angsd/angsd/angsd -b /local/home/sarahgw/WGS/Sequences/filelists/VT_E.filelist -GL 1 -doMajorMinor 3 -doMaf 11 -doCounts 1 -minQ 20 -minMapQ 30 -P 20 -setMaxDepth 270 -sites /local/home/sarahgw/WGS/SNPS/All_mylu/snps/All_mylu_snps_filt_sites1.txt -out /local/home/sarahgw/WGS/SNPS/All_mylu/mafs/VT_E_filt"
   ]
  },
  {
   "cell_type": "code",
   "execution_count": 1,
   "metadata": {
    "collapsed": true
   },
   "outputs": [],
   "source": [
    "!gunzip /local/home/sarahgw/WGS/SNPS/All_mylu/mafs/*_filt.mafs.gz"
   ]
  },
  {
   "cell_type": "code",
   "execution_count": 2,
   "metadata": {},
   "outputs": [
    {
     "name": "stdout",
     "output_type": "stream",
     "text": [
      "   44829593 /local/home/sarahgw/WGS/SNPS/All_mylu/mafs/NJ_E_filt.mafs\n",
      "   44829662 /local/home/sarahgw/WGS/SNPS/All_mylu/mafs/NJ_U_filt.mafs\n",
      "   44829667 /local/home/sarahgw/WGS/SNPS/All_mylu/mafs/NY_E_filt.mafs\n",
      "   44829341 /local/home/sarahgw/WGS/SNPS/All_mylu/mafs/NY_U_filt.mafs\n",
      "   44829648 /local/home/sarahgw/WGS/SNPS/All_mylu/mafs/VT_E_filt.mafs\n",
      "   44828941 /local/home/sarahgw/WGS/SNPS/All_mylu/mafs/VT_U_filt.mafs\n",
      "  268976852 total\n"
     ]
    }
   ],
   "source": [
    "!wc -l /local/home/sarahgw/WGS/SNPS/All_mylu/mafs/*_filt.mafs"
   ]
  },
  {
   "cell_type": "code",
   "execution_count": 5,
   "metadata": {
    "collapsed": true
   },
   "outputs": [],
   "source": [
    "!head /local/home/sarahgw/WGS/SNPS/All_mylu/mafs/NJ_E_filt.mafs > /local/home/sarahgw/WGS/SNPS/All_mylu/mafs/NJ_E_filttest.mafs\n",
    "!head /local/home/sarahgw/WGS/SNPS/All_mylu/snps/All_mylu_snps_filt.mafs > /local/home/sarahgw/WGS/SNPS/All_mylu/snps/All_mylu_snps_filttest.mafs"
   ]
  },
  {
   "cell_type": "code",
   "execution_count": 1,
   "metadata": {},
   "outputs": [
    {
     "name": "stdout",
     "output_type": "stream",
     "text": [
      "3 0\n"
     ]
    }
   ],
   "source": [
    "import traceback\n",
    "\n",
    "#NJE=open('/local/home/sarahgw/WGS/SNPS/All_mylu/mafs/NJ_E_filt.mafs', 'r')\n",
    "#NJU=open('/local/home/sarahgw/WGS/SNPS/All_mylu/mafs/NJ_U_filt.mafs', 'r')\n",
    "#NYE=open('/local/home/sarahgw/WGS/SNPS/All_mylu/mafs/NY_E_filt.mafs', 'r')\n",
    "#NYU=open('/local/home/sarahgw/WGS/SNPS/All_mylu/mafs/NY_U_filt.mafs', 'r')\n",
    "VTE=open('/local/home/sarahgw/WGS/SNPS/All_mylu/mafs/VT_E_filt.mafs', 'r')\n",
    "#VTU=open('/local/home/sarahgw/WGS/SNPS/All_mylu/mafs/VT_U_filt.mafs', 'r')\n",
    "\n",
    "SNP=open('/local/home/sarahgw/WGS/SNPS/All_mylu/snps/All_mylu_snps_filt.mafs', 'r')\n",
    "\n",
    "\n",
    "#NJE1=open('/local/home/sarahgw/WGS/SNPS/All_mylu/mafs/NJ_E_filt1.mafs', 'w')\n",
    "#NJU1=open('/local/home/sarahgw/WGS/SNPS/All_mylu/mafs/NJ_U_filt1.mafs', 'w')\n",
    "#NYE1=open('/local/home/sarahgw/WGS/SNPS/All_mylu/mafs/NY_E_filt1.mafs', 'w')\n",
    "#NYU1=open('/local/home/sarahgw/WGS/SNPS/All_mylu/mafs/NY_U_filt1.mafs', 'w')\n",
    "VTE1=open('/local/home/sarahgw/WGS/SNPS/All_mylu/mafs/VT_E_filt1.mafs', 'w')\n",
    "#VTU1=open('/local/home/sarahgw/WGS/SNPS/All_mylu/mafs/VT_U_filt1.mafs', 'w')\n",
    "\n",
    "readFile =VTE\n",
    "\n",
    "copies = 0\n",
    "skipped = 0\n",
    "\n",
    "# Skip headers\n",
    "\n",
    "cmpLine = SNP.readline()\n",
    "chkLine = VTE.readline()\n",
    "while True:\n",
    "    \n",
    "    # Read master\n",
    "    cmpLine = SNP.readline().split()\n",
    "    chkLine = VTE.readline().split()\n",
    "    line = ' '.join((chkLine))\n",
    "\n",
    "    if not chkLine or not cmpLine:\n",
    "        print(skipped, copies)\n",
    "        break\n",
    "        \n",
    "    cmpChrom = cmpLine[0].strip()\n",
    "    cmpLoc = cmpLine[1].strip()\n",
    "    chkChrom=chkLine[0].strip()\n",
    "    chkLoc=chkLine[1].strip()\n",
    "    \n",
    "    # If they are not the same increment the snps pointer until they are\n",
    "    while cmpChrom != chkChrom or cmpLoc != chkLoc:\n",
    "        skipped += 1\n",
    "        \n",
    "        cmpLine = SNP.readline().split()\n",
    "        if not cmpLine:\n",
    "            break\n",
    "        cmpChrom = cmpLine[0].strip()\n",
    "        cmpLoc = cmpLine[1].strip()\n",
    "        VTE1.write('NA NA NA NA NA NA NA NA \\n')\n",
    "        # Need to print a line to your file for every line in skips\n",
    "        \n",
    "    \n",
    "    # Print the line to\" a file\n",
    "    VTE1.write(line + '\\n')\n",
    "    \n",
    "VTE1.close()\n",
    "VTE.close()\n",
    "SNP.close()"
   ]
  },
  {
   "cell_type": "code",
   "execution_count": 7,
   "metadata": {},
   "outputs": [
    {
     "name": "stdout",
     "output_type": "stream",
     "text": [
      "44829666 /local/home/sarahgw/WGS/SNPS/All_mylu/mafs/NJ_E_filt1.mafs\r\n"
     ]
    }
   ],
   "source": [
    "!wc -l /local/home/sarahgw/WGS/SNPS/All_mylu/mafs/NJ_E_filt1.mafs"
   ]
  },
  {
   "cell_type": "code",
   "execution_count": 2,
   "metadata": {},
   "outputs": [
    {
     "name": "stdout",
     "output_type": "stream",
     "text": [
      "44829666 /local/home/sarahgw/WGS/SNPS/All_mylu/mafs/NJ_U_filt1.mafs\r\n"
     ]
    }
   ],
   "source": [
    "!wc -l /local/home/sarahgw/WGS/SNPS/All_mylu/mafs/NJ_U_filt1.mafs"
   ]
  },
  {
   "cell_type": "code",
   "execution_count": 6,
   "metadata": {},
   "outputs": [
    {
     "name": "stdout",
     "output_type": "stream",
     "text": [
      "44829667 /local/home/sarahgw/WGS/SNPS/All_mylu/snps/All_mylu_snps_filt.mafs\r\n"
     ]
    }
   ],
   "source": [
    "!wc -l /local/home/sarahgw/WGS/SNPS/All_mylu/snps/All_mylu_snps_filt.mafs"
   ]
  },
  {
   "cell_type": "code",
   "execution_count": null,
   "metadata": {
    "collapsed": true
   },
   "outputs": [],
   "source": []
  },
  {
   "cell_type": "markdown",
   "metadata": {},
   "source": [
    "##  3. make bootstrapped filelists run domaf with each\n",
    "\n",
    "So, for each snp. you need to first use bedtools to mark individuals as either 0 or 1 (has data)\n",
    "then, take list of individuals with 1s for EACH snp, and bootstrap it. (100 times? more?)\n",
    "Then feed those bootstrapped lists into ANGSD to calculate mafs. "
   ]
  },
  {
   "cell_type": "markdown",
   "metadata": {
    "collapsed": true
   },
   "source": [
    "Calculate depth for each snp for each individual"
   ]
  },
  {
   "cell_type": "code",
   "execution_count": 36,
   "metadata": {
    "collapsed": true,
    "scrolled": true
   },
   "outputs": [],
   "source": [
    "!cut -f1-2 /local/home/sarahgw/WGS/SNPS/All_mylu/snps/njnyvteu40sites.txt |  awk -v OFS='\\t' '{print $1, ($2-1), $2}'> /local/home/sarahgw/WGS/SNPS/All_mylu/snps/njnyvteu40sites.bed "
   ]
  },
  {
   "cell_type": "code",
   "execution_count": 37,
   "metadata": {},
   "outputs": [
    {
     "name": "stdout",
     "output_type": "stream",
     "text": [
      "GL429767\t10265655\t10265656\r\n",
      "GL429767\t39819882\t39819883\r\n",
      "GL429767\t24450612\t24450613\r\n",
      "GL429767\t35761988\t35761989\r\n",
      "GL429767\t45231338\t45231339\r\n",
      "GL429767\t56161792\t56161793\r\n",
      "GL429767\t56933898\t56933899\r\n",
      "GL429768\t4318782\t4318783\r\n",
      "GL429768\t11968352\t11968353\r\n",
      "GL429769\t6378054\t6378055\r\n"
     ]
    }
   ],
   "source": [
    "!head /local/home/sarahgw/WGS/SNPS/All_mylu/snps/njnyvteu40sites.bed "
   ]
  },
  {
   "cell_type": "markdown",
   "metadata": {},
   "source": [
    "Calculate depth for  all individuals, remove unnecessary columns, split by snp, paste filelist, split by population. "
   ]
  },
  {
   "cell_type": "code",
   "execution_count": null,
   "metadata": {
    "collapsed": true
   },
   "outputs": [],
   "source": [
    "samtools mpileup -b /local/home/sarahgw/WGS/Sequences/filelists/All_Mylu.filelist -l /local/home/sarahgw/WGS/SNPS/All_mylu/snps/njnyvteu40sites.bed > /local/home/sarahgw/WGS/SNPS/All_mylu/mafs/All_mylu_Depth.txt "
   ]
  },
  {
   "cell_type": "code",
   "execution_count": null,
   "metadata": {
    "collapsed": true,
    "scrolled": true
   },
   "outputs": [],
   "source": [
    "for i in `seq 4 3 398`; do awk -v OFS='\\t' -v a=\"$i\" '{print $1, $2, $a}' /local/home/sarahgw/WGS/SNPS/All_mylu/mafs/All_mylu_Depth.txt; done | awk '{print>$2}' "
   ]
  },
  {
   "cell_type": "code",
   "execution_count": null,
   "metadata": {
    "collapsed": true
   },
   "outputs": [],
   "source": [
    "for file in $(ls); do paste \"$file\" /local/home/sarahgw/WGS/Sequences/filelists/All_Mylu.filelist |awk '(NR>1) && ($3 > 0 ) '| awk '{print $4}'|awk '{print > substr ($0,1,5)'$file'}'; done"
   ]
  },
  {
   "cell_type": "markdown",
   "metadata": {},
   "source": [
    "Angsd is somehow filtering out more individuals than samtools is. which is resulting in files like below. I can't find anything about how ANGSD calculates the number of individuals with data, but for now I'm going to assume that these slight number changes aren't going to make a difference. "
   ]
  },
  {
   "cell_type": "code",
   "execution_count": 2,
   "metadata": {
    "scrolled": true
   },
   "outputs": [
    {
     "name": "stdout",
     "output_type": "stream",
     "text": [
      "GL431057\t47720\tT\tC\t0.106055\t0.006377\t0.098227\t15\r\n",
      "GL431057\t47720\tT\tC\t0.198283\t0.083965\t0.179573\t16\r\n",
      "GL431057\t47720\tT\tC\t0.101079\t0.099994\t0.055104\t14\r\n",
      "GL431057\t47720\tT\tC\t0.186894\t0.134883\t0.105333\t15\r\n",
      "GL431057\t47720\tT\tC\t0.230963\t0.119126\t0.196123\t16\r\n",
      "GL431057\t47720\tT\tC\t0.250262\t0.184608\t0.181053\t14\r\n",
      "GL431057\t47720\tT\tC\t0.338863\t0.000031\t0.339485\t14\r\n",
      "GL431057\t47720\tT\tC\t0.104191\t0.052238\t0.057367\t14\r\n",
      "GL431057\t47720\tT\tC\t0.150871\t0.032618\t0.084884\t14\r\n",
      "GL431057\t47720\tT\tC\t0.097105\t0.042040\t0.090790\t16\r\n"
     ]
    }
   ],
   "source": [
    "!head /local/home/sarahgw/WGS/SNPS/All_mylu/mafs/Bootstrapped_mafs/All_bootstrapped_mafs/NJ_E_47720.mafs"
   ]
  },
  {
   "cell_type": "markdown",
   "metadata": {},
   "source": [
    "Boostrap filelists"
   ]
  },
  {
   "cell_type": "code",
   "execution_count": 12,
   "metadata": {
    "collapsed": true
   },
   "outputs": [],
   "source": [
    "import numpy as np\n",
    "def run_bs(filename):\n",
    "    f=open('/local/home/sarahgw/WGS/SNPS/All_mylu/mafs/FiltFiles/Site_SNPS_Data/{}'.format(filename), 'r')\n",
    "    lines = [line.rstrip('\\n') for line in f]\n",
    "    count = len(lines)\n",
    "    for i in range(100):\n",
    "        boot=np.random.choice(lines, count)\n",
    "        boot1=\"\\n\".join(boot)\n",
    "        o=open('/local/home/sarahgw/WGS/SNPS/All_mylu/mafs/FiltFiles/Bootstrapped_Filelists/{}_{}'.format(filename, i+1), 'w')\n",
    "        o.write(boot1)"
   ]
  },
  {
   "cell_type": "markdown",
   "metadata": {},
   "source": [
    "Make sites and chromosome files index"
   ]
  },
  {
   "cell_type": "code",
   "execution_count": null,
   "metadata": {
    "collapsed": true
   },
   "outputs": [],
   "source": [
    "import time\n",
    "\n",
    "f = open(\"/local/home/sarahgw/WGS/SNPS/All_mylu/snps/njnyvteu40sites.txt\", 'r')\n",
    "for line in f:\n",
    "    args = line.split()\n",
    "    \n",
    "    # Make sites file\n",
    "    site = \"/local/home/sarahgw/WGS/SNPS/All_mylu/snps/sites_files/{}_sites.txt\".format(args[1])\n",
    "    o = open(site,'w')\n",
    "    o.write('\\t'.join(args))\n",
    "    o.close()\n",
    "        \n",
    "    # Make chromo file\n",
    "    chrom = \"/local/home/sarahgw/WGS/SNPS/All_mylu/snps/chrom_files/{}_chrom.txt\".format(args[1])\n",
    "    o = open(chrom, 'w')\n",
    "    o.write(args[0])\n",
    "    o.close()\n",
    "    \n",
    "    \n",
    "# Silly, but accomodates angsd's file create time check\n",
    "time.sleep(5)\n",
    "\n",
    "f = open(\"/local/home/sarahgw/WGS/SNPS/All_mylu/snps/njnyvteu40sites.txt\", 'r')\n",
    "for line in f:\n",
    "    args = line.split()\n",
    "        \n",
    "    # Index sites file\n",
    "    site = \"/local/home/sarahgw/WGS/SNPS/All_mylu/snps/sites_files/{}_sites.txt\".format(args[1])\n",
    "    cmd = \"/local/home/sarahgw/angsd/angsd/angsd sites index {}\".format(site)\n",
    "    print cmd\n",
    "    subprocess.call(cmd.split())"
   ]
  },
  {
   "cell_type": "markdown",
   "metadata": {
    "collapsed": true
   },
   "source": [
    "Calculate bootstrapped maf files\n",
    "\n",
    "script in ~/WNS_Scripts/WNS_WGS/Scripts/run_angsd_bootstrapped.py"
   ]
  },
  {
   "cell_type": "code",
   "execution_count": null,
   "metadata": {
    "collapsed": true
   },
   "outputs": [],
   "source": [
    "import subprocess\n",
    "from os import listdir\n",
    "\n",
    "def run_angsd(filename):\n",
    "    # Runs angsd for each snp and 100 bootstrapped files\n",
    "    for i in range(100):\n",
    "        snp_idx = filename.split('_')[-1]\n",
    "        bs_file = '/local/home/sarahgw/WGS/SNPS/All_mylu/mafs/FiltFiles/Bootstrapped_Filelists/{}_{}'.format(filename, i+1)\n",
    "        chrom_file = '/local/home/sarahgw/WGS/SNPS/All_mylu/snps/chrom_files/{}_chrom.txt'.format(snp_idx)\n",
    "        site_ref_file = '/local/home/sarahgw/WGS/SNPS/All_mylu/snps/sites_files/{}_sites.txt'.format(snp_idx)\n",
    "        output_file = '/local/home/sarahgw/WGS/SNPS/All_mylu/mafs/Bootstrapped_mafs/{}_{}'.format(filename, i+1)\n",
    "        cmd = \"/local/home/sarahgw/angsd/angsd/angsd -b {} -GL 1 -doMajorMinor 3 -doMaf 11 -doCounts 1 -P 20 -rf {} -sites {} -out {}\".format(bs_file, chrom_file, site_ref_file, output_file)\n",
    "        subprocess.call(cmd.split())\n",
    "        \n",
    "        # Delete this\n",
    "        raise Exception('done')\n",
    "\n",
    "files = listdir('/local/home/sarahgw/WGS/SNPS/All_mylu/mafs/FiltFiles/Site_SNPS_Data/')\n",
    "for i in range(len(files)):\n",
    "    f = files[i]\n",
    "    print \"{}: Running angsd for {}\".format(i, f)\n",
    "    run_angsd(f)  \n",
    "    "
   ]
  },
  {
   "cell_type": "code",
   "execution_count": 78,
   "metadata": {},
   "outputs": [
    {
     "name": "stdout",
     "output_type": "stream",
     "text": [
      "\r\n",
      "gzip: /local/home/sarahgw/WGS/SNPS/All_mylu/mafs/Bootstrapped_mafs/NY_U_2036674_76.mafs.gz: unexpected end of file\r\n"
     ]
    }
   ],
   "source": [
    "!gunzip /local/home/sarahgw/WGS/SNPS/All_mylu/mafs/Bootstrapped_mafs/*.mafs.gz"
   ]
  },
  {
   "cell_type": "code",
   "execution_count": 5,
   "metadata": {},
   "outputs": [
    {
     "name": "stdout",
     "output_type": "stream",
     "text": [
      "chromo\tposition\tmajor\tminor\tknownEM\tunknownEM\tphat\tnInd\r\n",
      "GL429835\t1498546\tC\tT\t0.759745\t0.759746\t0.752828\t12\r\n"
     ]
    }
   ],
   "source": [
    "!head /local/home/sarahgw/WGS/SNPS/All_mylu/mafs/Bootstrapped_mafs/NJ_E_1498546_100.mafs"
   ]
  },
  {
   "cell_type": "code",
   "execution_count": 80,
   "metadata": {
    "scrolled": true
   },
   "outputs": [
    {
     "name": "stdout",
     "output_type": "stream",
     "text": [
      "0: cat_mafs NJ_E_1735029\n",
      "1: cat_mafs VT_E_204614\n",
      "2: cat_mafs VT_U_453486\n",
      "3: cat_mafs NJ_U_396854\n",
      "4: cat_mafs NY_E_47720\n",
      "5: cat_mafs NJ_U_47720\n",
      "6: cat_mafs VT_E_29714\n",
      "7: cat_mafs VT_U_781434\n",
      "8: cat_mafs NJ_E_282162\n",
      "9: cat_mafs NJ_U_24450613\n",
      "10: cat_mafs NJ_E_396854\n",
      "11: cat_mafs VT_E_1099328\n",
      "12: cat_mafs VT_U_1578201\n",
      "13: cat_mafs VT_U_613870\n",
      "14: cat_mafs NJ_E_72962\n",
      "15: cat_mafs VT_E_280372\n",
      "16: cat_mafs NJ_U_718420\n",
      "17: cat_mafs VT_U_3161631\n",
      "18: cat_mafs NY_E_1114015\n",
      "19: cat_mafs NY_E_2603833\n",
      "20: cat_mafs NY_U_204614\n",
      "21: cat_mafs NY_U_9425832\n",
      "22: cat_mafs VT_E_24450613\n",
      "23: cat_mafs NJ_E_1498546\n",
      "24: cat_mafs NJ_U_45231339\n",
      "25: cat_mafs NJ_U_463041\n",
      "26: cat_mafs NY_U_4318783\n",
      "27: cat_mafs VT_U_1452433\n",
      "28: cat_mafs NY_U_1498546\n",
      "29: cat_mafs NY_E_27042\n",
      "30: cat_mafs NJ_E_613870\n",
      "31: cat_mafs VT_U_4318783\n",
      "32: cat_mafs VT_U_10265656\n",
      "33: cat_mafs NY_E_56161793\n",
      "34: cat_mafs VT_U_4131634\n",
      "35: cat_mafs NJ_E_1578202\n",
      "36: cat_mafs NJ_E_10265656\n",
      "37: cat_mafs NY_E_1423224\n",
      "38: cat_mafs VT_E_1689066\n",
      "39: cat_mafs NY_E_1099328\n",
      "40: cat_mafs VT_U_24450613\n",
      "41: cat_mafs VT_E_47720\n",
      "42: cat_mafs NJ_E_47720\n",
      "43: cat_mafs NJ_E_6378055\n",
      "44: cat_mafs NY_E_139257\n",
      "45: cat_mafs VT_U_729116\n",
      "46: cat_mafs NY_E_718420\n",
      "47: cat_mafs NY_E_667184\n",
      "48: cat_mafs NY_E_204614\n",
      "49: cat_mafs NJ_E_616121\n",
      "50: cat_mafs VT_U_1578202\n",
      "51: cat_mafs VT_U_69820\n",
      "52: cat_mafs NJ_E_139257\n",
      "53: cat_mafs VT_E_4318783\n",
      "54: cat_mafs NJ_E_1090161\n",
      "55: cat_mafs VT_U_1689066\n",
      "56: cat_mafs NJ_E_9441039\n",
      "57: cat_mafs NJ_E_27042\n",
      "58: cat_mafs VT_E_2603833\n",
      "59: cat_mafs NJ_U_2610488\n",
      "60: cat_mafs NY_U_2036674\n"
     ]
    },
    {
     "ename": "IOError",
     "evalue": "[Errno 2] No such file or directory: '/local/home/sarahgw/WGS/SNPS/All_mylu/mafs/Bootstrapped_mafs/NY_U_2036674_8.mafs'",
     "output_type": "error",
     "traceback": [
      "\u001b[0;31m---------------------------------------------------------------------------\u001b[0m",
      "\u001b[0;31mIOError\u001b[0m                                   Traceback (most recent call last)",
      "\u001b[0;32m<ipython-input-80-59cc2a644178>\u001b[0m in \u001b[0;36m<module>\u001b[0;34m()\u001b[0m\n\u001b[1;32m     18\u001b[0m     \u001b[0mf\u001b[0m \u001b[0;34m=\u001b[0m \u001b[0mfiles\u001b[0m\u001b[0;34m[\u001b[0m\u001b[0mi\u001b[0m\u001b[0;34m]\u001b[0m\u001b[0;34m\u001b[0m\u001b[0m\n\u001b[1;32m     19\u001b[0m     \u001b[0;32mprint\u001b[0m \u001b[0;34m\"{}: cat_mafs {}\"\u001b[0m\u001b[0;34m.\u001b[0m\u001b[0mformat\u001b[0m\u001b[0;34m(\u001b[0m\u001b[0mi\u001b[0m\u001b[0;34m,\u001b[0m \u001b[0mf\u001b[0m\u001b[0;34m)\u001b[0m\u001b[0;34m\u001b[0m\u001b[0m\n\u001b[0;32m---> 20\u001b[0;31m     \u001b[0mcat_mafs\u001b[0m\u001b[0;34m(\u001b[0m\u001b[0mf\u001b[0m\u001b[0;34m)\u001b[0m\u001b[0;34m\u001b[0m\u001b[0m\n\u001b[0m",
      "\u001b[0;32m<ipython-input-80-59cc2a644178>\u001b[0m in \u001b[0;36mcat_mafs\u001b[0;34m(filename)\u001b[0m\n\u001b[1;32m      6\u001b[0m     \u001b[0moutput_file\u001b[0m\u001b[0;34m.\u001b[0m\u001b[0mwrite\u001b[0m\u001b[0;34m(\u001b[0m\u001b[0;34m'SNP'\u001b[0m\u001b[0;34m+\u001b[0m\u001b[0;34m'\\t'\u001b[0m\u001b[0;34m+\u001b[0m\u001b[0;34m'MAF'\u001b[0m\u001b[0;34m+\u001b[0m\u001b[0;34m'\\t'\u001b[0m\u001b[0;34m+\u001b[0m\u001b[0;34m'nInd'\u001b[0m\u001b[0;34m+\u001b[0m\u001b[0;34m'\\n'\u001b[0m\u001b[0;34m)\u001b[0m\u001b[0;34m\u001b[0m\u001b[0m\n\u001b[1;32m      7\u001b[0m     \u001b[0;32mfor\u001b[0m \u001b[0mi\u001b[0m \u001b[0;32min\u001b[0m \u001b[0mrange\u001b[0m\u001b[0;34m(\u001b[0m\u001b[0;36m100\u001b[0m\u001b[0;34m)\u001b[0m\u001b[0;34m:\u001b[0m\u001b[0;34m\u001b[0m\u001b[0m\n\u001b[0;32m----> 8\u001b[0;31m         \u001b[0mbs_file\u001b[0m \u001b[0;34m=\u001b[0m \u001b[0mopen\u001b[0m\u001b[0;34m(\u001b[0m\u001b[0;34m'/local/home/sarahgw/WGS/SNPS/All_mylu/mafs/Bootstrapped_mafs/{}_{}.mafs'\u001b[0m\u001b[0;34m.\u001b[0m\u001b[0mformat\u001b[0m\u001b[0;34m(\u001b[0m\u001b[0mfilename\u001b[0m\u001b[0;34m,\u001b[0m \u001b[0mi\u001b[0m\u001b[0;34m+\u001b[0m\u001b[0;36m1\u001b[0m\u001b[0;34m)\u001b[0m\u001b[0;34m,\u001b[0m \u001b[0;34m'r'\u001b[0m\u001b[0;34m)\u001b[0m\u001b[0;34m\u001b[0m\u001b[0m\n\u001b[0m\u001b[1;32m      9\u001b[0m         \u001b[0mbs_lines\u001b[0m \u001b[0;34m=\u001b[0m \u001b[0mbs_file\u001b[0m\u001b[0;34m.\u001b[0m\u001b[0mreadlines\u001b[0m\u001b[0;34m(\u001b[0m\u001b[0;34m)\u001b[0m\u001b[0;34m\u001b[0m\u001b[0m\n\u001b[1;32m     10\u001b[0m         \u001b[0mline\u001b[0m\u001b[0;34m=\u001b[0m\u001b[0mbs_lines\u001b[0m\u001b[0;34m[\u001b[0m\u001b[0;36m1\u001b[0m\u001b[0;34m]\u001b[0m\u001b[0;34m\u001b[0m\u001b[0m\n",
      "\u001b[0;31mIOError\u001b[0m: [Errno 2] No such file or directory: '/local/home/sarahgw/WGS/SNPS/All_mylu/mafs/Bootstrapped_mafs/NY_U_2036674_8.mafs'"
     ]
    }
   ],
   "source": [
    "from os import listdir\n",
    "\n",
    "def cat_mafs(filename):\n",
    "    # cat maf files together by site and snp\n",
    "    output_file = open('/local/home/sarahgw/WGS/SNPS/All_mylu/mafs/Bootstrapped_mafs/All_bootstrapped_mafs/{}.mafs'.format(filename), 'w')\n",
    "    output_file.write('SNP'+'\\t'+'MAF'+'\\t'+'nInd'+'\\n')\n",
    "    for i in range(100):\n",
    "        bs_file = open('/local/home/sarahgw/WGS/SNPS/All_mylu/mafs/Bootstrapped_mafs/{}_{}.mafs'.format(filename, i+1), 'r')\n",
    "        bs_lines = bs_file.readlines()\n",
    "        line=bs_lines[1]\n",
    "        groups=line.split('\\t')\n",
    "        lineplus=groups[1]+'\\t'+groups[4]+'\\t'+groups[7]\n",
    "        output_file.write(lineplus) \n",
    "        bs_file.close()\n",
    "    \n",
    "files = listdir('/local/home/sarahgw/WGS/SNPS/All_mylu/mafs/FiltFiles/Site_SNPS_Data/')\n",
    "for i in range(len(files)):\n",
    "    f = files[i]\n",
    "    print \"{}: cat_mafs {}\".format(i, f)\n",
    "    cat_mafs(f)  "
   ]
  },
  {
   "cell_type": "code",
   "execution_count": 31,
   "metadata": {},
   "outputs": [
    {
     "name": "stdout",
     "output_type": "stream",
     "text": [
      "SNP\tMAF\tnInd\r\n",
      "10265656\t0.845922\t15\r\n",
      "10265656\t0.903217\t15\r\n",
      "10265656\t0.843202\t15\r\n",
      "10265656\t0.782570\t15\r\n",
      "10265656\t0.837001\t15\r\n",
      "10265656\t0.716277\t15\r\n",
      "10265656\t0.668506\t15\r\n",
      "10265656\t0.772715\t15\r\n",
      "10265656\t0.889538\t15\r\n"
     ]
    }
   ],
   "source": [
    "!head /local/home/sarahgw/WGS/SNPS/All_mylu/mafs/Bootstrapped_mafs/All_bootstrapped_mafs/NJ_E_10265656.mafs"
   ]
  },
  {
   "cell_type": "code",
   "execution_count": null,
   "metadata": {},
   "outputs": [],
   "source": [
    "from os import listdir\n",
    "\n",
    "def site_mafs(filename):\n",
    "    # put e and u together for each site\n",
    "    for i in \"NJ\", \"NY\", \"VT\":\n",
    "        output_file = open('/local/home/sarahgw/WGS/SNPS/All_mylu/mafs/Bootstrapped_mafs/All_bootstrapped_mafs/{}_{}.mafs'.format(i, filename), 'w')\n",
    "        output_file.write('SNP'+'\\t'+'MAF_U'+'\\t'+'MAF_E'+'\\t'+'nInd_U'+'\\t'+'nInd_E'+'\\n')\n",
    "        e_file = open('/local/home/sarahgw/WGS/SNPS/All_mylu/mafs/Bootstrapped_mafs/All_bootstrapped_mafs/{}_E_{}.mafs'.format(i, filename), 'r')\n",
    "        u_file = open('/local/home/sarahgw/WGS/SNPS/All_mylu/mafs/Bootstrapped_mafs/All_bootstrapped_mafs/{}_U_{}.mafs'.format(i, filename), 'r')\n",
    "        eLine = e_file.readline()\n",
    "        uLine = u_file.readline()\n",
    "        while True:\n",
    "            eLine = e_file.readline()\n",
    "            uLine = u_file.readline()\n",
    "            if not eLine or not uLine:\n",
    "                break\n",
    "            eGroups=eLine.split('\\t')\n",
    "            uGroups=uLine.split('\\t')\n",
    "            lineplus=uGroups[0]+'\\t'+uGroups[1]+'\\t'+eGroups[1]+'\\t'+uGroups[2].strip('\\n')+'\\t'+eGroups[2]\n",
    "            output_file.write(lineplus) \n",
    "        e_file.close()\n",
    "        u_file.close()\n",
    "\n",
    "    \n",
    "files = listdir('/local/home/sarahgw/WGS/SNPS/All_mylu/mafs/FiltFiles/SNP_Depth')\n",
    "for i in range(len(files)):\n",
    "    f = files[i]\n",
    "    print \"{}: site_mafs {}\".format(i, f)\n",
    "    site_mafs(f)  "
   ]
  },
  {
   "cell_type": "code",
   "execution_count": 85,
   "metadata": {
    "scrolled": true
   },
   "outputs": [
    {
     "name": "stdout",
     "output_type": "stream",
     "text": [
      "0: site_mafs 396854\n",
      "396854\t0.595675\t0.532550\t12\t10\n",
      "\n",
      "396854\t0.385862\t0.658945\t12\t9\n",
      "\n",
      "396854\t0.494282\t0.611218\t12\t9\n",
      "\n",
      "396854\t0.560090\t0.452941\t12\t12\n",
      "\n",
      "396854\t0.382320\t0.558258\t12\t11\n",
      "\n",
      "396854\t0.745051\t0.757032\t12\t7\n",
      "\n",
      "396854\t0.537173\t0.626120\t12\t9\n",
      "\n",
      "396854\t0.413596\t0.424360\t12\t13\n",
      "\n",
      "396854\t0.727562\t0.758735\t12\t12\n",
      "\n",
      "396854\t0.252526\t0.576251\t12\t9\n",
      "\n",
      "396854\t0.445220\t0.476935\t12\t10\n",
      "\n",
      "396854\t0.520805\t0.701978\t12\t12\n",
      "\n",
      "396854\t0.524806\t0.874874\t12\t11\n",
      "\n",
      "396854\t0.626460\t0.494678\t12\t7\n",
      "\n",
      "396854\t0.266724\t0.574149\t12\t8\n",
      "\n",
      "396854\t0.676219\t0.427017\t12\t11\n",
      "\n",
      "396854\t0.455707\t0.772210\t12\t12\n",
      "\n",
      "396854\t0.369929\t0.634085\t12\t11\n",
      "\n",
      "396854\t0.477184\t0.425504\t12\t10\n",
      "\n",
      "396854\t0.698576\t0.613297\t12\t10\n",
      "\n",
      "396854\t0.585645\t0.851815\t12\t8\n",
      "\n",
      "396854\t0.333710\t0.564484\t12\t11\n",
      "\n",
      "396854\t0.745634\t0.688803\t12\t10\n",
      "\n",
      "396854\t0.611329\t0.701183\t12\t12\n",
      "\n",
      "396854\t0.558950\t0.499983\t12\t9\n",
      "\n",
      "396854\t0.598126\t0.425060\t12\t9\n",
      "\n",
      "396854\t0.605260\t0.613189\t12\t11\n",
      "\n",
      "396854\t0.480708\t0.757015\t12\t9\n",
      "\n",
      "396854\t0.616201\t0.663885\t12\t13\n",
      "\n",
      "396854\t0.325740\t0.218500\t12\t9\n",
      "\n",
      "396854\t0.455953\t0.571405\t12\t7\n",
      "\n",
      "396854\t0.396419\t0.519232\t12\t12\n",
      "\n",
      "396854\t0.570900\t0.676071\t12\t10\n",
      "\n",
      "396854\t0.406368\t0.830055\t12\t9\n",
      "\n",
      "396854\t0.634441\t0.852686\t12\t11\n",
      "\n",
      "396854\t0.664045\t0.592080\t12\t8\n",
      "\n",
      "396854\t0.445259\t0.572736\t12\t8\n",
      "\n",
      "396854\t0.678624\t0.864577\t12\t9\n",
      "\n",
      "396854\t0.451850\t0.722924\t12\t12\n",
      "\n",
      "396854\t0.523437\t0.556740\t12\t8\n",
      "\n",
      "396854\t0.677469\t0.640553\t12\t12\n",
      "\n",
      "396854\t0.531589\t0.450876\t12\t11\n",
      "\n",
      "396854\t0.422316\t0.712632\t12\t9\n",
      "\n",
      "396854\t0.482432\t0.512467\t12\t11\n",
      "\n",
      "396854\t0.586118\t0.295751\t12\t10\n",
      "\n",
      "396854\t0.527795\t0.662272\t12\t12\n",
      "\n",
      "396854\t0.457420\t0.488370\t12\t10\n",
      "\n",
      "396854\t0.668619\t0.681134\t12\t9\n",
      "\n",
      "396854\t0.655351\t0.692477\t12\t10\n",
      "\n",
      "396854\t0.648951\t0.581836\t12\t8\n",
      "\n",
      "396854\t0.654878\t0.544331\t12\t10\n",
      "\n",
      "396854\t0.455630\t0.520302\t12\t8\n",
      "\n",
      "396854\t0.422844\t0.484697\t12\t11\n",
      "\n",
      "396854\t0.470907\t0.597117\t12\t11\n",
      "\n",
      "396854\t0.700386\t0.572736\t12\t8\n",
      "\n",
      "396854\t0.744683\t0.287710\t12\t8\n",
      "\n",
      "396854\t0.441850\t0.697892\t12\t9\n",
      "\n",
      "396854\t0.470490\t0.426757\t12\t10\n",
      "\n",
      "396854\t0.297667\t0.564155\t12\t10\n",
      "\n",
      "396854\t0.609928\t0.788949\t12\t11\n",
      "\n",
      "396854\t0.597918\t0.482597\t12\t9\n",
      "\n",
      "396854\t0.693415\t0.547075\t12\t8\n",
      "\n",
      "396854\t0.656794\t0.508864\t12\t9\n",
      "\n",
      "396854\t0.337497\t0.504165\t12\t11\n",
      "\n",
      "396854\t0.651188\t0.705200\t12\t11\n",
      "\n",
      "396854\t0.277731\t0.560523\t12\t9\n",
      "\n",
      "396854\t0.681798\t0.721113\t12\t11\n",
      "\n",
      "396854\t0.585601\t0.394697\t12\t8\n",
      "\n",
      "396854\t0.652682\t0.623675\t12\t7\n",
      "\n",
      "396854\t0.635459\t0.735796\t12\t8\n",
      "\n",
      "396854\t0.502550\t0.752048\t12\t10\n",
      "\n",
      "396854\t0.707324\t0.766745\t12\t13\n",
      "\n",
      "396854\t0.587302\t0.800290\t12\t10\n",
      "\n",
      "396854\t0.527175\t0.636699\t12\t10\n",
      "\n",
      "396854\t0.482836\t0.761352\t12\t9\n",
      "\n",
      "396854\t0.402791\t0.931533\t12\t10\n",
      "\n",
      "396854\t0.578389\t0.607873\t12\t10\n",
      "\n",
      "396854\t0.518328\t0.670755\t12\t12\n",
      "\n",
      "396854\t0.543864\t0.624765\t12\t13\n",
      "\n",
      "396854\t0.533761\t0.564565\t12\t12\n",
      "\n",
      "396854\t0.581607\t0.772462\t12\t10\n",
      "\n",
      "396854\t0.455620\t0.404124\t12\t8\n",
      "\n",
      "396854\t0.520662\t0.749267\t12\t10\n",
      "\n",
      "396854\t0.554563\t0.833549\t12\t7\n",
      "\n",
      "396854\t0.640324\t0.495613\t12\t9\n",
      "\n",
      "396854\t0.516565\t0.663163\t12\t9\n",
      "\n",
      "396854\t0.519684\t0.704442\t12\t10\n",
      "\n",
      "396854\t0.349582\t0.283941\t12\t10\n",
      "\n",
      "396854\t0.733780\t0.379951\t12\t8\n",
      "\n",
      "396854\t0.369062\t0.784640\t12\t7\n",
      "\n",
      "396854\t0.419106\t0.663163\t12\t9\n",
      "\n",
      "396854\t0.554693\t0.707915\t12\t12\n",
      "\n",
      "396854\t0.638485\t0.574722\t12\t10\n",
      "\n",
      "396854\t0.562287\t0.538880\t12\t8\n",
      "\n",
      "396854\t0.590709\t0.561654\t12\t10\n",
      "\n",
      "396854\t0.581145\t0.494676\t12\t8\n",
      "\n",
      "396854\t0.521850\t0.866593\t12\t10\n",
      "\n",
      "396854\t0.503865\t0.567851\t12\t9\n",
      "\n",
      "396854\t0.662665\t0.693941\t12\t9\n",
      "\n",
      "396854\t0.462492\t0.691064\t12\t10\n",
      "\n"
     ]
    },
    {
     "ename": "IOError",
     "evalue": "[Errno 2] No such file or directory: '/local/home/sarahgw/WGS/SNPS/All_mylu/mafs/Bootstrapped_mafs/All_bootstrapped_mafs/NY_E_396854.mafs'",
     "output_type": "error",
     "traceback": [
      "\u001b[0;31m---------------------------------------------------------------------------\u001b[0m",
      "\u001b[0;31mIOError\u001b[0m                                   Traceback (most recent call last)",
      "\u001b[0;32m<ipython-input-85-b8e5ceabd8b8>\u001b[0m in \u001b[0;36m<module>\u001b[0;34m()\u001b[0m\n\u001b[1;32m     25\u001b[0m     \u001b[0mf\u001b[0m \u001b[0;34m=\u001b[0m \u001b[0mfiles\u001b[0m\u001b[0;34m[\u001b[0m\u001b[0mi\u001b[0m\u001b[0;34m]\u001b[0m\u001b[0;34m\u001b[0m\u001b[0m\n\u001b[1;32m     26\u001b[0m     \u001b[0;32mprint\u001b[0m \u001b[0;34m\"{}: site_mafs {}\"\u001b[0m\u001b[0;34m.\u001b[0m\u001b[0mformat\u001b[0m\u001b[0;34m(\u001b[0m\u001b[0mi\u001b[0m\u001b[0;34m,\u001b[0m \u001b[0mf\u001b[0m\u001b[0;34m)\u001b[0m\u001b[0;34m\u001b[0m\u001b[0m\n\u001b[0;32m---> 27\u001b[0;31m     \u001b[0msite_mafs\u001b[0m\u001b[0;34m(\u001b[0m\u001b[0mf\u001b[0m\u001b[0;34m)\u001b[0m\u001b[0;34m\u001b[0m\u001b[0m\n\u001b[0m",
      "\u001b[0;32m<ipython-input-85-b8e5ceabd8b8>\u001b[0m in \u001b[0;36msite_mafs\u001b[0;34m(filename)\u001b[0m\n\u001b[1;32m      4\u001b[0m         \u001b[0moutput_file\u001b[0m \u001b[0;34m=\u001b[0m \u001b[0mopen\u001b[0m\u001b[0;34m(\u001b[0m\u001b[0;34m'/local/home/sarahgw/WGS/SNPS/All_mylu/mafs/Bootstrapped_mafs/All_bootstrapped_mafs/Combined_mafs/{}_{}.mafs'\u001b[0m\u001b[0;34m.\u001b[0m\u001b[0mformat\u001b[0m\u001b[0;34m(\u001b[0m\u001b[0mi\u001b[0m\u001b[0;34m,\u001b[0m \u001b[0mfilename\u001b[0m\u001b[0;34m)\u001b[0m\u001b[0;34m,\u001b[0m \u001b[0;34m'w'\u001b[0m\u001b[0;34m)\u001b[0m\u001b[0;34m\u001b[0m\u001b[0m\n\u001b[1;32m      5\u001b[0m         \u001b[0moutput_file\u001b[0m\u001b[0;34m.\u001b[0m\u001b[0mwrite\u001b[0m\u001b[0;34m(\u001b[0m\u001b[0;34m'SNP'\u001b[0m\u001b[0;34m+\u001b[0m\u001b[0;34m'\\t'\u001b[0m\u001b[0;34m+\u001b[0m\u001b[0;34m'MAF_U'\u001b[0m\u001b[0;34m+\u001b[0m\u001b[0;34m'\\t'\u001b[0m\u001b[0;34m+\u001b[0m\u001b[0;34m'MAF_E'\u001b[0m\u001b[0;34m+\u001b[0m\u001b[0;34m'\\t'\u001b[0m\u001b[0;34m+\u001b[0m\u001b[0;34m'nInd_U'\u001b[0m\u001b[0;34m+\u001b[0m\u001b[0;34m'\\t'\u001b[0m\u001b[0;34m+\u001b[0m\u001b[0;34m'nInd_E'\u001b[0m\u001b[0;34m+\u001b[0m\u001b[0;34m'\\n'\u001b[0m\u001b[0;34m)\u001b[0m\u001b[0;34m\u001b[0m\u001b[0m\n\u001b[0;32m----> 6\u001b[0;31m         \u001b[0me_file\u001b[0m \u001b[0;34m=\u001b[0m \u001b[0mopen\u001b[0m\u001b[0;34m(\u001b[0m\u001b[0;34m'/local/home/sarahgw/WGS/SNPS/All_mylu/mafs/Bootstrapped_mafs/All_bootstrapped_mafs/{}_E_{}.mafs'\u001b[0m\u001b[0;34m.\u001b[0m\u001b[0mformat\u001b[0m\u001b[0;34m(\u001b[0m\u001b[0mi\u001b[0m\u001b[0;34m,\u001b[0m \u001b[0mfilename\u001b[0m\u001b[0;34m)\u001b[0m\u001b[0;34m,\u001b[0m \u001b[0;34m'r'\u001b[0m\u001b[0;34m)\u001b[0m\u001b[0;34m\u001b[0m\u001b[0m\n\u001b[0m\u001b[1;32m      7\u001b[0m         \u001b[0mu_file\u001b[0m \u001b[0;34m=\u001b[0m \u001b[0mopen\u001b[0m\u001b[0;34m(\u001b[0m\u001b[0;34m'/local/home/sarahgw/WGS/SNPS/All_mylu/mafs/Bootstrapped_mafs/All_bootstrapped_mafs/{}_U_{}.mafs'\u001b[0m\u001b[0;34m.\u001b[0m\u001b[0mformat\u001b[0m\u001b[0;34m(\u001b[0m\u001b[0mi\u001b[0m\u001b[0;34m,\u001b[0m \u001b[0mfilename\u001b[0m\u001b[0;34m)\u001b[0m\u001b[0;34m,\u001b[0m \u001b[0;34m'r'\u001b[0m\u001b[0;34m)\u001b[0m\u001b[0;34m\u001b[0m\u001b[0m\n\u001b[1;32m      8\u001b[0m         \u001b[0meLine\u001b[0m \u001b[0;34m=\u001b[0m \u001b[0me_file\u001b[0m\u001b[0;34m.\u001b[0m\u001b[0mreadline\u001b[0m\u001b[0;34m(\u001b[0m\u001b[0;34m)\u001b[0m\u001b[0;34m\u001b[0m\u001b[0m\n",
      "\u001b[0;31mIOError\u001b[0m: [Errno 2] No such file or directory: '/local/home/sarahgw/WGS/SNPS/All_mylu/mafs/Bootstrapped_mafs/All_bootstrapped_mafs/NY_E_396854.mafs'"
     ]
    }
   ],
   "source": [
    "def site_mafs(filename):\n",
    "    # put e and u together for each site\n",
    "    for i in \"NJ\", \"NY\", \"VT\":\n",
    "        output_file = open('/local/home/sarahgw/WGS/SNPS/All_mylu/mafs/Bootstrapped_mafs/All_bootstrapped_mafs/Combined_mafs/{}_{}.mafs'.format(i, filename), 'w')\n",
    "        output_file.write('SNP'+'\\t'+'MAF_U'+'\\t'+'MAF_E'+'\\t'+'nInd_U'+'\\t'+'nInd_E'+'\\n')\n",
    "        e_file = open('/local/home/sarahgw/WGS/SNPS/All_mylu/mafs/Bootstrapped_mafs/All_bootstrapped_mafs/{}_E_{}.mafs'.format(i, filename), 'r')\n",
    "        u_file = open('/local/home/sarahgw/WGS/SNPS/All_mylu/mafs/Bootstrapped_mafs/All_bootstrapped_mafs/{}_U_{}.mafs'.format(i, filename), 'r')\n",
    "        eLine = e_file.readline()\n",
    "        uLine = u_file.readline()\n",
    "        while True:\n",
    "            eLine = e_file.readline()\n",
    "            uLine = u_file.readline()\n",
    "            if not eLine or not uLine:\n",
    "                break\n",
    "            eGroups=eLine.split('\\t')\n",
    "            uGroups=uLine.split('\\t')\n",
    "            lineplus=uGroups[0]+'\\t'+uGroups[1]+'\\t'+eGroups[1]+'\\t'+uGroups[2].strip('\\n')+'\\t'+eGroups[2]\n",
    "            output_file.write(lineplus) \n",
    "        e_file.close()\n",
    "        u_file.close()\n",
    "    \n",
    "files = ('396854', '47720')\n",
    "for i in range(len(files)):\n",
    "    f = files[i]\n",
    "    print \"{}: site_mafs {}\".format(i, f)\n",
    "    site_mafs(f)  "
   ]
  },
  {
   "cell_type": "code",
   "execution_count": null,
   "metadata": {
    "collapsed": true
   },
   "outputs": [],
   "source": []
  },
  {
   "cell_type": "markdown",
   "metadata": {},
   "source": [
    "Just run each one 10,000 times. \n",
    "For cod there is 5,000 bp. around LD. "
   ]
  },
  {
   "cell_type": "markdown",
   "metadata": {},
   "source": []
  },
  {
   "cell_type": "code",
   "execution_count": null,
   "metadata": {
    "collapsed": true
   },
   "outputs": [],
   "source": [
    "!cut -f1 /local/home/sarahgw/WGS/SNPS/All_mylu/snps/sites_files | sort >/local/home/sarahgw/WGS/SNPS/All_mylu/snps/njnyvteu40chrs.txt"
   ]
  },
  {
   "cell_type": "markdown",
   "metadata": {},
   "source": [
    "make sites file from njnyvteu40.csv Calculat maf for each pop in for loop looping through the jacknifed files. "
   ]
  },
  {
   "cell_type": "code",
   "execution_count": 48,
   "metadata": {
    "collapsed": true,
    "scrolled": true
   },
   "outputs": [],
   "source": [
    "!cut -f1-4 /local/home/sarahgw/WGS/SNPS/All_mylu/snps/njnyvteu40.txt| tail -n 93 | sed 's/\"//g'> /local/home/sarahgw/WGS/SNPS/All_mylu/snps/njnyvteu40sites.txt   "
   ]
  },
  {
   "cell_type": "code",
   "execution_count": 49,
   "metadata": {
    "scrolled": true
   },
   "outputs": [
    {
     "name": "stdout",
     "output_type": "stream",
     "text": [
      "GL429767\t10265656\tT\tC\r\n",
      "GL429767\t39819883\tG\tC\r\n",
      "GL429767\t24450613\tT\tA\r\n",
      "GL429767\t35761989\tA\tG\r\n",
      "GL429767\t45231339\tT\tG\r\n",
      "GL429767\t56161793\tA\tG\r\n",
      "GL429767\t56933899\tC\tA\r\n",
      "GL429768\t4318783\tC\tT\r\n",
      "GL429768\t11968353\tT\tC\r\n",
      "GL429769\t6378055\tA\tG\r\n"
     ]
    }
   ],
   "source": [
    "!head /local/home/sarahgw/WGS/SNPS/All_mylu/snps/njnyvteu40sites.txt"
   ]
  },
  {
   "cell_type": "code",
   "execution_count": null,
   "metadata": {
    "collapsed": true
   },
   "outputs": [],
   "source": [
    "/local/home/sarahgw/angsd/angsd/angsd sites index /local/home/sarahgw/WGS/SNPS/All_mylu/snps/njnyvteu40sites.txt"
   ]
  },
  {
   "cell_type": "code",
   "execution_count": 51,
   "metadata": {
    "collapsed": true
   },
   "outputs": [],
   "source": [
    "!cut -f1 /local/home/sarahgw/WGS/SNPS/All_mylu/snps/njnyvteu40sites.txt |sort|uniq >/local/home/sarahgw/WGS/SNPS/All_mylu/snps/njnyvteu40chrs.txt"
   ]
  },
  {
   "cell_type": "code",
   "execution_count": 52,
   "metadata": {},
   "outputs": [
    {
     "name": "stdout",
     "output_type": "stream",
     "text": [
      "GL429767\r\n",
      "GL429768\r\n",
      "GL429769\r\n",
      "GL429770\r\n",
      "GL429775\r\n",
      "GL429776\r\n",
      "GL429778\r\n",
      "GL429784\r\n",
      "GL429785\r\n",
      "GL429800\r\n"
     ]
    }
   ],
   "source": [
    "!head /local/home/sarahgw/WGS/SNPS/All_mylu/snps/njnyvteu40chrs.txt"
   ]
  },
  {
   "cell_type": "code",
   "execution_count": null,
   "metadata": {
    "collapsed": true
   },
   "outputs": [],
   "source": [
    "for file in $(ls /local/home/sarahgw/WGS/Sequences/filelists/NJE/); do echo \"$file\"; ~/angsd/angsd/angsd -b /local/home/sarahgw/WGS/Sequences/filelists/NJE/\"$file\" -GL 1 -doMajorMinor 3 -doMaf 11 -doCounts 1 -P 20 -rf /local/home/sarahgw/WGS/SNPS/All_mylu/snps/njnyvteu40chrs.txt -sites /local/home/sarahgw/WGS/SNPS/All_mylu/snps/njnyvteu40sites.txt -out /local/home/sarahgw/WGS/SNPS/All_mylu/mafs/NJE_jack/\"$file\"_filt; done"
   ]
  },
  {
   "cell_type": "code",
   "execution_count": null,
   "metadata": {
    "collapsed": true
   },
   "outputs": [],
   "source": [
    "for file in $(ls /local/home/sarahgw/WGS/Sequences/filelists/NJU/); do echo \"$file\"; ~/angsd/angsd/angsd -b /local/home/sarahgw/WGS/Sequences/filelists/NJU/\"$file\" -GL 1 -doMajorMinor 3 -doMaf 11 -doCounts 1 -P 10 -rf /local/home/sarahgw/WGS/SNPS/All_mylu/snps/njnyvteu40chrs.txt -sites /local/home/sarahgw/WGS/SNPS/All_mylu/snps/njnyvteu40sites.txt -out /local/home/sarahgw/WGS/SNPS/All_mylu/mafs/NJU_jack/\"$file\"_filt; done"
   ]
  },
  {
   "cell_type": "code",
   "execution_count": null,
   "metadata": {
    "collapsed": true
   },
   "outputs": [],
   "source": [
    "for file in $(ls /local/home/sarahgw/WGS/Sequences/filelists/NYE/); do echo \"$file\"; ~/angsd/angsd/angsd -b /local/home/sarahgw/WGS/Sequences/filelists/NYE/\"$file\" -GL 1 -doMajorMinor 3 -doMaf 11 -doCounts 1 -P 10 -rf /local/home/sarahgw/WGS/SNPS/All_mylu/snps/njnyvteu40chrs.txt -sites /local/home/sarahgw/WGS/SNPS/All_mylu/snps/njnyvteu40sites.txt -out /local/home/sarahgw/WGS/SNPS/All_mylu/mafs/NYE_jack/\"$file\"_filt; done"
   ]
  },
  {
   "cell_type": "code",
   "execution_count": null,
   "metadata": {
    "collapsed": true
   },
   "outputs": [],
   "source": [
    "for file in $(ls /local/home/sarahgw/WGS/Sequences/filelists/NYU/); do echo \"$file\"; ~/angsd/angsd/angsd -b /local/home/sarahgw/WGS/Sequences/filelists/NYU/\"$file\" -GL 1 -doMajorMinor 3 -doMaf 11 -doCounts 1 -P 10 -rf /local/home/sarahgw/WGS/SNPS/All_mylu/snps/njnyvteu40chrs.txt -sites /local/home/sarahgw/WGS/SNPS/All_mylu/snps/njnyvteu40sites.txt -out /local/home/sarahgw/WGS/SNPS/All_mylu/mafs/NYU_jack/\"$file\"_filt; done"
   ]
  },
  {
   "cell_type": "code",
   "execution_count": null,
   "metadata": {
    "collapsed": true
   },
   "outputs": [],
   "source": [
    "for file in $(ls /local/home/sarahgw/WGS/Sequences/filelists/VTE/); do echo \"$file\"; ~/angsd/angsd/angsd -b /local/home/sarahgw/WGS/Sequences/filelists/VTE/\"$file\" -GL 1 -doMajorMinor 3 -doMaf 11 -doCounts 1 -P 10 -rf /local/home/sarahgw/WGS/SNPS/All_mylu/snps/njnyvteu40chrs.txt -sites /local/home/sarahgw/WGS/SNPS/All_mylu/snps/njnyvteu40sites.txt -out /local/home/sarahgw/WGS/SNPS/All_mylu/mafs/VTE_jack/\"$file\"_filt; done"
   ]
  },
  {
   "cell_type": "code",
   "execution_count": null,
   "metadata": {
    "collapsed": true
   },
   "outputs": [],
   "source": [
    "for file in $(ls /local/home/sarahgw/WGS/Sequences/filelists/VTU/); do echo \"$file\"; ~/angsd/angsd/angsd -b /local/home/sarahgw/WGS/Sequences/filelists/VTU/\"$file\" -GL 1 -doMajorMinor 3 -doMaf 11 -doCounts 1 -P 10 -rf /local/home/sarahgw/WGS/SNPS/All_mylu/snps/njnyvteu40chrs.txt -sites /local/home/sarahgw/WGS/SNPS/All_mylu/snps/njnyvteu40sites.txt -out /local/home/sarahgw/WGS/SNPS/All_mylu/mafs/VTU_jack/\"$file\"_filt; done"
   ]
  },
  {
   "cell_type": "code",
   "execution_count": 1,
   "metadata": {
    "collapsed": true
   },
   "outputs": [],
   "source": [
    "!gunzip /local/home/sarahgw/WGS/SNPS/All_mylu/mafs/NJE_jack/*.mafs.gz\n",
    "!gunzip /local/home/sarahgw/WGS/SNPS/All_mylu/mafs/NJU_jack/*.mafs.gz\n",
    "!gunzip /local/home/sarahgw/WGS/SNPS/All_mylu/mafs/NYE_jack/*.mafs.gz\n",
    "!gunzip /local/home/sarahgw/WGS/SNPS/All_mylu/mafs/NYU_jack/*.mafs.gz\n",
    "!gunzip /local/home/sarahgw/WGS/SNPS/All_mylu/mafs/VTE_jack/*.mafs.gz\n",
    "!gunzip /local/home/sarahgw/WGS/SNPS/All_mylu/mafs/VTU_jack/*.mafs.gz"
   ]
  },
  {
   "cell_type": "code",
   "execution_count": 1,
   "metadata": {
    "collapsed": true
   },
   "outputs": [],
   "source": []
  },
  {
   "cell_type": "code",
   "execution_count": 9,
   "metadata": {},
   "outputs": [
    {
     "name": "stdout",
     "output_type": "stream",
     "text": [
      "chromo\tposition\tmajor\tminor\tknownEM\tunknownEM\tphat\tnInd\r\n",
      "GL429767\t10265656\tT\tC\t0.708034\t0.708026\t0.732224\t11\r\n",
      "GL429767\t24450613\tT\tA\t0.165214\t0.052677\t0.183578\t11\r\n",
      "GL429767\t35761989\tA\tG\t0.000000\t0.000005\t0.000000\t9\r\n",
      "GL429767\t39819883\tG\tC\t0.488130\t0.488130\t0.469819\t13\r\n",
      "GL429767\t45231339\tT\tG\t0.312291\t0.112390\t0.332145\t11\r\n",
      "GL429767\t56161793\tA\tG\t0.278623\t0.278631\t0.254968\t13\r\n",
      "GL429767\t56933899\tC\tA\t0.510943\t0.510932\t0.511233\t13\r\n",
      "GL429768\t4318783\tC\tT\t0.635064\t0.635064\t0.614687\t12\r\n",
      "GL429768\t11968353\tT\tC\t0.602492\t0.602490\t0.576580\t15\r\n"
     ]
    }
   ],
   "source": [
    "!head /local/home/sarahgw/WGS/SNPS/All_mylu/mafs/NYE_jack/NY_E.filelist_filt.mafs"
   ]
  },
  {
   "cell_type": "code",
   "execution_count": 3,
   "metadata": {},
   "outputs": [
    {
     "name": "stdout",
     "output_type": "stream",
     "text": [
      "chromo\tposition\tmajor\tminor\tknownEM\tunknownEM\tphat\tnInd\r\n",
      "GL429767\t10265656\tT\tC\t0.843202\t0.843202\t0.833381\t15\r\n",
      "GL429767\t24450613\tT\tA\t0.450858\t0.173925\t0.447447\t8\r\n",
      "GL429767\t35761989\tA\tG\t0.400951\t0.400950\t0.387835\t14\r\n",
      "GL429767\t39819883\tG\tC\t0.566047\t0.566044\t0.555731\t15\r\n",
      "GL429767\t45231339\tT\tG\t0.157642\t0.157648\t0.152617\t18\r\n",
      "GL429767\t56161793\tA\tG\t0.110827\t0.110826\t0.129897\t14\r\n",
      "GL429767\t56933899\tC\tA\t0.262850\t0.262858\t0.257121\t13\r\n",
      "GL429768\t4318783\tC\tT\t0.748004\t0.748004\t0.724908\t17\r\n",
      "GL429768\t11968353\tT\tC\t0.719161\t0.719157\t0.724949\t15\r\n"
     ]
    }
   ],
   "source": [
    "!head /local/home/sarahgw/WGS/SNPS/All_mylu/mafs/NJE_jack/NJ_E1.filelist_filt.mafs"
   ]
  },
  {
   "cell_type": "code",
   "execution_count": 4,
   "metadata": {},
   "outputs": [
    {
     "name": "stdout",
     "output_type": "stream",
     "text": [
      "chromo\tposition\tmajor\tminor\tknownEM\tunknownEM\tphat\tnInd\r\n",
      "GL429767\t10265656\tT\tC\t0.830056\t0.830056\t0.819917\t14\r\n",
      "GL429767\t24450613\tT\tA\t0.499894\t0.197752\t0.500000\t7\r\n",
      "GL429767\t35761989\tA\tG\t0.400951\t0.400950\t0.387835\t14\r\n",
      "GL429767\t39819883\tG\tC\t0.573679\t0.573677\t0.559849\t14\r\n",
      "GL429767\t45231339\tT\tG\t0.167407\t0.167410\t0.161943\t17\r\n",
      "GL429767\t56161793\tA\tG\t0.110827\t0.110826\t0.129897\t14\r\n",
      "GL429767\t56933899\tC\tA\t0.279965\t0.279973\t0.273846\t12\r\n",
      "GL429768\t4318783\tC\tT\t0.729073\t0.729073\t0.706684\t16\r\n",
      "GL429768\t11968353\tT\tC\t0.719161\t0.719157\t0.724949\t15\r\n"
     ]
    }
   ],
   "source": [
    "!head /local/home/sarahgw/WGS/SNPS/All_mylu/mafs/NJE_jack/NJ_E10.filelist_filt.mafs"
   ]
  },
  {
   "cell_type": "markdown",
   "metadata": {
    "collapsed": true
   },
   "source": [
    "At a given line, if the number of individuals matches the n maf, then do not use that n-1maf in calculation of SE.\n",
    "For all other n-1maf, calculate se\n",
    "\n",
    "\n",
    "\n",
    "\n",
    "jackknife estimate of the bias is(n − 1)(θ¯− θˆ) (how far delete one estimate is from actual estimate)\n",
    "standard error is deviance of delete one estimate from average delete one estimate\n",
    "\n",
    "Does this make sense?\n",
    "then sample from that distribution?\n",
    "How to take into account jackknifing when the actual number of individuals doest change? I will have to calculate it really differently for each one maybe...\n",
    "\n",
    "\n",
    "First trim to the individuals with data, then jackknife. \n",
    "\n",
    "Allele freq dist under drift, then those that are more extreme than the observations. \n",
    "n+1 because the \n",
    "p value calculation form a genetic drift null model\n",
    "do enough simulations where 10 or so are above our observations. \n",
    "\n",
    "enrich and magma for enrichment? \n",
    "\n",
    "Look at strength of selection? try a bunch of selection values similar to p value. \n",
    "\n",
    "\n",
    "if the ne guess is accurate, the average allele freq across genome will be the same as the simulations under drift. "
   ]
  },
  {
   "cell_type": "code",
   "execution_count": null,
   "metadata": {
    "collapsed": true
   },
   "outputs": [],
   "source": []
  },
  {
   "cell_type": "code",
   "execution_count": null,
   "metadata": {
    "collapsed": true
   },
   "outputs": [],
   "source": []
  },
  {
   "cell_type": "code",
   "execution_count": null,
   "metadata": {
    "collapsed": true
   },
   "outputs": [],
   "source": []
  },
  {
   "cell_type": "code",
   "execution_count": null,
   "metadata": {
    "collapsed": true
   },
   "outputs": [],
   "source": []
  },
  {
   "cell_type": "code",
   "execution_count": null,
   "metadata": {
    "collapsed": true
   },
   "outputs": [],
   "source": []
  },
  {
   "cell_type": "code",
   "execution_count": 5,
   "metadata": {
    "collapsed": true
   },
   "outputs": [],
   "source": [
    "!gunzip /local/home/sarahgw/WGS/SNPS/All_mylu/NJ_U.mafs.gz"
   ]
  },
  {
   "cell_type": "code",
   "execution_count": 1,
   "metadata": {},
   "outputs": [
    {
     "name": "stdout",
     "output_type": "stream",
     "text": [
      "chromo\tposition\tmajor\tminor\tknownEM\tunknownEM\tphat\tnInd\r\n",
      "GL429767\t54\tG\tT\t0.000000\t0.000004\t0.000000\t15\r\n",
      "GL429767\t78\tG\tA\t0.109899\t0.109719\t0.119721\t13\r\n",
      "GL429767\t83\tG\tT\t0.000000\t0.000004\t0.000000\t14\r\n",
      "GL429767\t104\tA\tT\t0.207668\t0.207671\t0.232022\t11\r\n",
      "GL429767\t109\tT\tC\t0.056747\t0.055230\t0.024690\t12\r\n",
      "GL429767\t112\tG\tA\t0.000000\t0.000002\t0.000000\t12\r\n",
      "GL429767\t157\tT\tC\t0.000000\t0.000002\t0.000000\t13\r\n",
      "GL429767\t184\tC\tG\t0.000000\t0.000002\t0.000000\t16\r\n",
      "GL429767\t189\tG\tT\t0.000000\t0.000003\t0.000000\t17\r\n"
     ]
    }
   ],
   "source": [
    "!head /local/home/sarahgw/WGS/SNPS/All_mylu/NJ_E.mafs"
   ]
  },
  {
   "cell_type": "code",
   "execution_count": 2,
   "metadata": {},
   "outputs": [
    {
     "name": "stdout",
     "output_type": "stream",
     "text": [
      "92371964 /local/home/sarahgw/WGS/SNPS/All_mylu/NJ_E.mafs\r\n"
     ]
    }
   ],
   "source": [
    "!wc -l /local/home/sarahgw/WGS/SNPS/All_mylu/NJ_E.mafs"
   ]
  },
  {
   "cell_type": "code",
   "execution_count": 8,
   "metadata": {},
   "outputs": [
    {
     "name": "stdout",
     "output_type": "stream",
     "text": [
      "92371953 /local/home/sarahgw/WGS/SNPS/All_mylu/NJ_U.mafs\r\n"
     ]
    }
   ],
   "source": [
    "!wc -l /local/home/sarahgw/WGS/SNPS/All_mylu/NJ_U.mafs"
   ]
  },
  {
   "cell_type": "code",
   "execution_count": 9,
   "metadata": {
    "collapsed": true
   },
   "outputs": [],
   "source": [
    "!paste /local/home/sarahgw/WGS/SNPS/All_mylu/NJ_E.mafs /local/home/sarahgw/WGS/SNPS/All_mylu/NJ_U.mafs | awk '{print $1\",\"$2\",\"$3\",\"$4\",\"$5\",\"$6\",\"$8\",\"$13\",\"$14\",\"$16}'>/local/home/sarahgw/WGS/SNPS/All_mylu/NJ_EU.mafs"
   ]
  },
  {
   "cell_type": "code",
   "execution_count": 10,
   "metadata": {
    "collapsed": true
   },
   "outputs": [],
   "source": [
    "!gunzip /local/home/sarahgw/WGS/SNPS/All_mylu/NY_E.mafs.gz\n",
    "!gunzip /local/home/sarahgw/WGS/SNPS/All_mylu/NY_U.mafs.gz"
   ]
  },
  {
   "cell_type": "code",
   "execution_count": 11,
   "metadata": {},
   "outputs": [
    {
     "name": "stdout",
     "output_type": "stream",
     "text": [
      "92371964 /local/home/sarahgw/WGS/SNPS/All_mylu/NY_E.mafs\n",
      "92371964 /local/home/sarahgw/WGS/SNPS/All_mylu/NY_U.mafs\n"
     ]
    }
   ],
   "source": [
    "!wc -l /local/home/sarahgw/WGS/SNPS/All_mylu/NY_E.mafs\n",
    "!wc -l /local/home/sarahgw/WGS/SNPS/All_mylu/NY_U.mafs"
   ]
  },
  {
   "cell_type": "code",
   "execution_count": 12,
   "metadata": {
    "collapsed": true
   },
   "outputs": [],
   "source": [
    "!paste /local/home/sarahgw/WGS/SNPS/All_mylu/NY_E.mafs /local/home/sarahgw/WGS/SNPS/All_mylu/NY_U.mafs | awk '{print $1\",\"$2\",\"$3\",\"$4\",\"$5\",\"$6\",\"$8\",\"$13\",\"$14\",\"$16}'>/local/home/sarahgw/WGS/SNPS/All_mylu/NY_EU.mafs"
   ]
  },
  {
   "cell_type": "code",
   "execution_count": 2,
   "metadata": {
    "collapsed": true
   },
   "outputs": [],
   "source": [
    "#!gunzip /local/home/sarahgw/WGS/SNPS/All_mylu/VT_E.mafs.gz\n",
    "!gunzip /local/home/sarahgw/WGS/SNPS/All_mylu/VT_U.mafs.gz"
   ]
  },
  {
   "cell_type": "code",
   "execution_count": 3,
   "metadata": {},
   "outputs": [
    {
     "name": "stdout",
     "output_type": "stream",
     "text": [
      "92371964 /local/home/sarahgw/WGS/SNPS/All_mylu/VT_E.mafs\n",
      "92371964 /local/home/sarahgw/WGS/SNPS/All_mylu/VT_U.mafs\n"
     ]
    }
   ],
   "source": [
    "!wc -l /local/home/sarahgw/WGS/SNPS/All_mylu/VT_E.mafs\n",
    "!wc -l /local/home/sarahgw/WGS/SNPS/All_mylu/VT_U.mafs"
   ]
  },
  {
   "cell_type": "code",
   "execution_count": 4,
   "metadata": {
    "collapsed": true
   },
   "outputs": [],
   "source": [
    "!paste /local/home/sarahgw/WGS/SNPS/All_mylu/VT_E.mafs /local/home/sarahgw/WGS/SNPS/All_mylu/VT_U.mafs | awk '{print $1\",\"$2\",\"$3\",\"$4\",\"$5\",\"$6\",\"$8\",\"$13\",\"$14\",\"$16}'>/local/home/sarahgw/WGS/SNPS/All_mylu/VT_EU.mafs"
   ]
  },
  {
   "cell_type": "code",
   "execution_count": 16,
   "metadata": {
    "collapsed": true
   },
   "outputs": [],
   "source": [
    "f=open('/local/home/sarahgw/WGS/SNPS/All_mylu/NJ_EU.mafs', 'r')\n",
    "o=open('/local/home/sarahgw/WGS/SNPS/All_mylu/NJ_EU2.mafs', 'w')\n",
    "for line in f:\n",
    "    scount=line.count(',')\n",
    "    if scount==9:\n",
    "        o.write(line)\n",
    "    elif 0<=scount<9:\n",
    "        groups=line.split(',')\n",
    "        lineplus=','.join(groups[:2])+''.join([',']*(9-scount))+','+ ','.join(groups[2:])\n",
    "        o.write(lineplus)  \n",
    "o.close() "
   ]
  },
  {
   "cell_type": "code",
   "execution_count": 40,
   "metadata": {
    "scrolled": true
   },
   "outputs": [
    {
     "name": "stdout",
     "output_type": "stream",
     "text": [
      "AAPE02072767,3095,T,A,0.470258,0.470257,16,,,\r\n",
      "AAPE02072767,3098,C,T,0.000000,0.000002,16,,,\r\n",
      "AAPE02072780,302,G,A,0.000000,0.000001,16,,,\r\n",
      "AAPE02072780,365,G,C,0.000000,0.000002,14,,,\r\n",
      "AAPE02072780,367,A,C,0.048082,0.048083,14,,,\r\n",
      "AAPE02072780,368,C,T,0.000000,0.000002,14,,,\r\n",
      "AAPE02072780,369,T,C,0.000000,0.000004,14,,,\r\n",
      "AAPE02072780,370,T,A,0.066391,0.066390,14,,,\r\n",
      "AAPE02072780,372,T,C,0.000000,0.000003,14,,,\r\n",
      "AAPE02072780,374,C,A,0.000000,0.000001,14,,,\r\n"
     ]
    }
   ],
   "source": [
    "!tail /local/home/sarahgw/WGS/SNPS/All_mylu/NJ_EU2.mafs"
   ]
  },
  {
   "cell_type": "code",
   "execution_count": 10,
   "metadata": {
    "scrolled": false
   },
   "outputs": [
    {
     "name": "stdout",
     "output_type": "stream",
     "text": [
      "109424282 /local/home/sarahgw/WGS/SNPS/All_mylu/NJ_EU.mafs\r\n"
     ]
    }
   ],
   "source": [
    "!wc -l /local/home/sarahgw/WGS/SNPS/All_mylu/NJ_EU.mafs"
   ]
  },
  {
   "cell_type": "markdown",
   "metadata": {},
   "source": [
    "In R notebook Angsd_all_SNP_graphs, find SNPs that have grater than 40% change in allele frequency  in all 3 populations, narrow to regions with multiple high allele freq snps. use grep to get 1kb on either side surrounding regions, blast. "
   ]
  },
  {
   "cell_type": "code",
   "execution_count": null,
   "metadata": {
    "collapsed": true
   },
   "outputs": [],
   "source": [
    "GL429848\t2603829\t\n",
    "GL429852\t463033\t\n",
    "GL429888\t1578201\t\n",
    "GL430155\t69820"
   ]
  },
  {
   "cell_type": "code",
   "execution_count": null,
   "metadata": {
    "collapsed": true
   },
   "outputs": [],
   "source": [
    "grep 'GL429848' -A 10000000 /local/home/sarahgw/references/Myotis_lucifugus.Myoluc2.0.dna_sm.toplevel.fas | tr -d \"\\n\\r\" | cut -c 2602829-2604829 >/local/home/sarahgw/WGS/SNPS/All_mylu/snps/GL429848_2603829"
   ]
  },
  {
   "cell_type": "code",
   "execution_count": null,
   "metadata": {
    "collapsed": true
   },
   "outputs": [],
   "source": [
    "grep 'GL429852' -A 10000000 /local/home/sarahgw/references/Myotis_lucifugus.Myoluc2.0.dna_sm.toplevel.fas | tr -d \"\\n\\r\" | cut -c 462033-464033 >/local/home/sarahgw/WGS/SNPS/All_mylu/snps/GL429852_463033"
   ]
  },
  {
   "cell_type": "code",
   "execution_count": null,
   "metadata": {
    "collapsed": true
   },
   "outputs": [],
   "source": [
    "grep 'GL429888' -A 10000000 /local/home/sarahgw/references/Myotis_lucifugus.Myoluc2.0.dna_sm.toplevel.fas | tr -d \"\\n\\r\" | cut -c 1577201-1579201 >/local/home/sarahgw/WGS/SNPS/All_mylu/snps/GL429888_157820\n"
   ]
  },
  {
   "cell_type": "code",
   "execution_count": null,
   "metadata": {
    "collapsed": true
   },
   "outputs": [],
   "source": [
    "grep 'GL430155' -A 10000000 /local/home/sarahgw/references/Myotis_lucifugus.Myoluc2.0.dna_sm.toplevel.fas | tr -d \"\\n\\r\" | cut -c 68820-70820 >/local/home/sarahgw/WGS/SNPS/All_mylu/snps/GL430155_69820\n"
   ]
  },
  {
   "cell_type": "code",
   "execution_count": null,
   "metadata": {
    "collapsed": true
   },
   "outputs": [],
   "source": []
  },
  {
   "cell_type": "code",
   "execution_count": null,
   "metadata": {
    "collapsed": true
   },
   "outputs": [],
   "source": []
  },
  {
   "cell_type": "markdown",
   "metadata": {},
   "source": [
    "GL429793\t3619488\n",
    "GL429805\t5255331\n",
    "GL429830\t4776068\n",
    "GL429833\t4827830\n",
    "GL429835\t4132453\n",
    "GL429848\t4054536\n",
    "GL429859\t3284246\n",
    "GL429941\t1539533\n",
    "GL430044\t240397\n",
    "GL430199\t598814"
   ]
  },
  {
   "cell_type": "code",
   "execution_count": 3,
   "metadata": {},
   "outputs": [
    {
     "name": "stdout",
     "output_type": "stream",
     "text": [
      "\"\",\"Scaffold\",\"Position\",\"V1_NJ\",\"Major_NJ\",\"Minor_NJ\",\"Maf_NJE\",\"nInd_NJE\",\"Maf_NJU\",\"nInd_NJU\",\"absdiff_NJ\",\"diff_NJ\",\"V1_NY\",\"Major_NY\",\"Minor_NY\",\"Maf_NYE\",\"nInd_NYE\",\"Maf_NYU\",\"nInd_NYU\",\"absdiff_NY\",\"diff_NY\",\"V1_VT\",\"Major_VT\",\"Minor_VT\",\"Maf_VTE\",\"nInd_VTE\",\"Maf_VTU\",\"nInd_VTU\",\"absdiff_VT\",\"diff_VT\"\r\n"
     ]
    }
   ],
   "source": [
    "!head -n 1 /local/home/sarahgw/WGS/SNPS/All_mylu/snps/Candidate_SNPs_NJNYVT.csv"
   ]
  },
  {
   "cell_type": "code",
   "execution_count": 20,
   "metadata": {
    "collapsed": true
   },
   "outputs": [],
   "source": [
    "!cut -d, -f2,3 /local/home/sarahgw/WGS/SNPS/All_mylu/snps/Candidate_SNPs_NJNYVT.csv > /local/home/sarahgw/WGS/SNPS/All_mylu/snps/Candidate_SNPs_list.csv"
   ]
  },
  {
   "cell_type": "code",
   "execution_count": 24,
   "metadata": {
    "collapsed": true
   },
   "outputs": [],
   "source": [
    "!sed -e 's/\"//g' -i /local/home/sarahgw/WGS/SNPS/All_mylu/snps/Candidate_SNPs_list.csv "
   ]
  },
  {
   "cell_type": "code",
   "execution_count": 25,
   "metadata": {},
   "outputs": [
    {
     "name": "stdout",
     "output_type": "stream",
     "text": [
      "Scaffold,Position\r\n",
      "GL429793,3619488\r\n",
      "GL429805,5255331\r\n",
      "GL429830,4776068\r\n",
      "GL429833,4827830\r\n",
      "GL429835,4132453\r\n",
      "GL429848,4054536\r\n",
      "GL429859,3284246\r\n",
      "GL429941,1539533\r\n",
      "GL430044,240397\r\n"
     ]
    }
   ],
   "source": [
    "!head /local/home/sarahgw/WGS/SNPS/All_mylu/snps/Candidate_SNPs_list.csv"
   ]
  },
  {
   "cell_type": "code",
   "execution_count": null,
   "metadata": {
    "collapsed": true
   },
   "outputs": [],
   "source": [
    "sed 's/\\t/,/g' /local/home/sarahgw/WGS/SNPS/All_mylu/genoprob/All_mylu_mInd.geno > /local/home/sarahgw/WGS/SNPS/All_mylu/genoprob/All_mylu_mInd_geno.csv"
   ]
  },
  {
   "cell_type": "code",
   "execution_count": 28,
   "metadata": {
    "scrolled": true
   },
   "outputs": [
    {
     "name": "stdout",
     "output_type": "stream",
     "text": [
      "GL429767,54,0.992890,0.007097,0.000013,0.996439,0.003561,0.000000,0.992890,0.007097,0.000013,0.992890,0.007097,0.000013,0.996439,0.003561,0.000000,0.998216,0.001784,0.000000,0.996439,0.003561,0.000000,0.992890,0.007097,0.000013,0.996439,0.003561,0.000000,0.992890,0.007097,0.000013,0.999107,0.000893,0.000000,0.999107,0.000893,0.000000,0.998216,0.001784,0.000000,0.996439,0.003561,0.000000,0.996439,0.003561,0.000000,0.992890,0.007097,0.000013,0.992890,0.007097,0.000013,0.998216,0.001784,0.000000,0.996439,0.003561,0.000000,0.996439,0.003561,0.000000,0.996439,0.003561,0.000000,0.998216,0.001784,0.000000,0.992890,0.007097,0.000013,0.992890,0.007097,0.000013,0.992890,0.007097,0.000013,0.998216,0.001784,0.000000,0.992890,0.007097,0.000013,0.996439,0.003561,0.000000,0.996439,0.003561,0.000000,0.992890,0.007097,0.000013,0.992890,0.007097,0.000013,0.996439,0.003561,0.000000,0.992890,0.007097,0.000013,0.992890,0.007097,0.000013,0.992890,0.007097,0.000013,0.992890,0.007097,0.000013,0.992890,0.007097,0.000013,0.992890,0.007097,0.000013,0.992890,0.007097,0.000013,0.992890,0.007097,0.000013,0.999777,0.000223,0.000000,0.996439,0.003561,0.000000,0.999107,0.000893,0.000000,0.996439,0.003561,0.000000,0.992890,0.007097,0.000013,0.998216,0.001784,0.000000,0.992890,0.007097,0.000013,0.998216,0.001784,0.000000,0.992890,0.007097,0.000013,0.992890,0.007097,0.000013,0.992890,0.007097,0.000013,0.992890,0.007097,0.000013,0.992890,0.007097,0.000013,0.992890,0.007097,0.000013,0.996439,0.003561,0.000000,0.992890,0.007097,0.000013,0.992890,0.007097,0.000013,0.992890,0.007097,0.000013,0.999107,0.000893,0.000000,0.996439,0.003561,0.000000,0.996439,0.003561,0.000000,0.998216,0.001784,0.000000,0.998216,0.001784,0.000000,0.999553,0.000447,0.000000,0.998216,0.001784,0.000000,0.992890,0.007097,0.000013,0.999107,0.000893,0.000000,0.996439,0.003561,0.000000,0.996439,0.003561,0.000000,0.999107,0.000893,0.000000,0.996439,0.003561,0.000000,0.996439,0.003561,0.000000,0.996439,0.003561,0.000000,0.998216,0.001784,0.000000,0.999107,0.000893,0.000000,0.996439,0.003561,0.000000,0.992890,0.007097,0.000013,0.996439,0.003561,0.000000,0.998216,0.001784,0.000000,0.992890,0.007097,0.000013,0.996439,0.003561,0.000000,0.992890,0.007097,0.000013,0.992890,0.007097,0.000013,0.992890,0.007097,0.000013,0.992890,0.007097,0.000013,0.000110,0.999888,0.000001,0.992890,0.007097,0.000013,0.992890,0.007097,0.000013,0.996439,0.003561,0.000000,0.992890,0.007097,0.000013,0.996439,0.003561,0.000000,0.992890,0.007097,0.000013,0.992890,0.007097,0.000013,0.992890,0.007097,0.000013,0.992890,0.007097,0.000013,0.996439,0.003561,0.000000,0.992890,0.007097,0.000013,0.992890,0.007097,0.000013,0.992890,0.007097,0.000013,0.992890,0.007097,0.000013,0.992890,0.007097,0.000013,0.992890,0.007097,0.000013,0.999888,0.000112,0.000000,0.992890,0.007097,0.000013,0.996439,0.003561,0.000000,0.999107,0.000893,0.000000,0.992890,0.007097,0.000013,0.996439,0.003561,0.000000,0.996439,0.003561,0.000000,0.998216,0.001784,0.000000,0.999777,0.000223,0.000000,0.999107,0.000893,0.000000,0.996439,0.003561,0.000000,0.996439,0.003561,0.000000,0.992890,0.007097,0.000013,0.992890,0.007097,0.000013,0.992890,0.007097,0.000013,0.999553,0.000447,0.000000,0.999553,0.000447,0.000000,0.999972,0.000028,0.000000,0.992890,0.007097,0.000013,0.992890,0.007097,0.000013,0.992890,0.007097,0.000013,0.992890,0.007097,0.000013,0.999553,0.000447,0.000000,0.996439,0.003561,0.000000,0.999107,0.000893,0.000000,0.996439,0.003561,0.000000,0.998216,0.001784,0.000000,0.999107,0.000893,0.000000,0.999107,0.000893,0.000000,0.992890,0.007097,0.000013,\r\n"
     ]
    }
   ],
   "source": [
    "!head -n 1 /local/home/sarahgw/WGS/SNPS/All_mylu/genoprob/All_mylu_geno.csv"
   ]
  },
  {
   "cell_type": "code",
   "execution_count": 1,
   "metadata": {},
   "outputs": [
    {
     "name": "stdout",
     "output_type": "stream",
     "text": [
      "GL429793,3619488\r\n",
      "GL429805,5255331\r\n",
      "GL429830,4776068\r\n",
      "GL429833,4827830\r\n",
      "GL429835,4132453\r\n",
      "GL429848,4054536\r\n",
      "GL429859,3284246\r\n",
      "GL429941,1539533\r\n",
      "GL430044,240397\r\n",
      "GL430199,598814\r\n"
     ]
    }
   ],
   "source": [
    "!head -n 10 /local/home/sarahgw/WGS/SNPS/All_mylu/snps/Candidate_SNPs_list.csv"
   ]
  },
  {
   "cell_type": "code",
   "execution_count": null,
   "metadata": {
    "collapsed": true
   },
   "outputs": [],
   "source": [
    "grep -f /local/home/sarahgw/WGS/SNPS/All_mylu/snps/Candidate_SNPs_list.csv /local/home/sarahgw/WGS/SNPS/All_mylu/genoprob/All_mylu_mInd_geno.csv > /local/home/sarahgw/WGS/SNPS/All_mylu/snps/Candidate_SNPs_geno_mInd.csv"
   ]
  },
  {
   "cell_type": "code",
   "execution_count": 2,
   "metadata": {},
   "outputs": [
    {
     "name": "stdout",
     "output_type": "stream",
     "text": [
      "10 /local/home/sarahgw/WGS/SNPS/All_mylu/snps/Candidate_SNPs_geno.csv\r\n"
     ]
    }
   ],
   "source": [
    "!wc -l /local/home/sarahgw/WGS/SNPS/All_mylu/snps/Candidate_SNPs_geno.csv"
   ]
  },
  {
   "cell_type": "markdown",
   "metadata": {},
   "source": [
    "Look at depth for candidate snps"
   ]
  },
  {
   "cell_type": "code",
   "execution_count": null,
   "metadata": {
    "collapsed": true
   },
   "outputs": [],
   "source": [
    "for file in $(ls); do echo $file; samtools depth \"$file\" -r GL429793:3619488-3619488 >> ~/WGS/SNPS/All_mylu/SNP1_Depth.txt ; done\n",
    "for file in $(ls); do echo $file; samtools depth \"$file\" -r GL429805:5255331-5255331 >> ~/WGS/SNPS/All_mylu/SNP2_Depth.txt ; done\n",
    "for file in $(ls); do echo $file; samtools depth \"$file\" -r GL429830:4776068-4776068 >> ~/WGS/SNPS/All_mylu/SNP3_Depth.txt ; done\n",
    "for file in $(ls); do echo $file; samtools depth \"$file\" -r GL429833:4827830-4827830 >> ~/WGS/SNPS/All_mylu/SNP4_Depth.txt ; done\n",
    "for file in $(ls); do echo $file; samtools depth \"$file\" -r GL429835:4132453-4132453 >> ~/WGS/SNPS/All_mylu/SNP5_Depth.txt ; done\n",
    "for file in $(ls); do echo $file; samtools depth \"$file\" -r GL429848:4054536-4054536 >> ~/WGS/SNPS/All_mylu/SNP6_Depth.txt ; done\n",
    "for file in $(ls); do echo $file; samtools depth \"$file\" -r GL429859:3284246-3284246 >> ~/WGS/SNPS/All_mylu/SNP7_Depth.txt ; done\n",
    "for file in $(ls); do echo $file; samtools depth \"$file\" -r GL429941:1539533-1539533 >> ~/WGS/SNPS/All_mylu/SNP8_Depth.txt ; done\n",
    "for file in $(ls); do echo $file; samtools depth \"$file\" -r GL430044:240397-240397 >> ~/WGS/SNPS/All_mylu/SNP9_Depth.txt ; done\n",
    "for file in $(ls); do echo $file; samtools depth \"$file\" -r GL430199:598814-598814 >> ~/WGS/SNPS/All_mylu/SNP10_Depth.txt ; done\n",
    "    "
   ]
  },
  {
   "cell_type": "markdown",
   "metadata": {
    "collapsed": true
   },
   "source": [
    "Look at annotation in gtf file"
   ]
  },
  {
   "cell_type": "code",
   "execution_count": null,
   "metadata": {
    "collapsed": true
   },
   "outputs": [],
   "source": [
    "grep -f /local/home/sarahgw/WGS/SNPS/All_mylu/snps/Candidate_SNPs_Scaf.csv /local/home/sarahgw/references/Myotis_lucifugus.Myoluc2.0.89.gtf > /local/home/sarahgw/WGS/SNPS/All_mylu/snps/Candidate_SNPs_gtf.csv"
   ]
  },
  {
   "cell_type": "markdown",
   "metadata": {},
   "source": [
    "Create VCF file"
   ]
  },
  {
   "cell_type": "code",
   "execution_count": null,
   "metadata": {
    "collapsed": true
   },
   "outputs": [],
   "source": [
    "~/angsd/angsd -b /local/home/sarahgw/WGS/Sequences/filelists/All_Mylu.filelist -dovcf 1 -gl 1 -dopost 1 -domajorminor 3 -domaf 1 -sites /local/home/sarahgw/WGS/SNPS/All_mylu/All_mylu_sites1.txt -out /local/home/sarahgw/WGS/SNPS/All_mylu_postv "
   ]
  },
  {
   "cell_type": "code",
   "execution_count": null,
   "metadata": {
    "collapsed": true
   },
   "outputs": [],
   "source": []
  },
  {
   "cell_type": "markdown",
   "metadata": {},
   "source": [
    "Make pca from geno prob"
   ]
  },
  {
   "cell_type": "code",
   "execution_count": null,
   "metadata": {
    "collapsed": true
   },
   "outputs": [],
   "source": [
    "gunzip /local/home/sarahgw/WGS/SNPS/All_mylu/genoprob/All_mylu.geno.gz"
   ]
  },
  {
   "cell_type": "code",
   "execution_count": null,
   "metadata": {
    "collapsed": true
   },
   "outputs": [],
   "source": [
    "~/ngsTools/ngsPopGen/ngsCovar -probfile /local/home/sarahgw/WGS/SNPS/All_mylu/genoprob/All_mylu.geno.gz -outfile /local/home/sarahgw/WGS/SNPS/All_mylu_post.geno -nind 132 -nsites 92371964 -call 0 -norm 0 &> /dev/null"
   ]
  },
  {
   "cell_type": "code",
   "execution_count": 1,
   "metadata": {},
   "outputs": [
    {
     "name": "stdout",
     "output_type": "stream",
     "text": [
      "NJ_E_01_pairedplus_marked_dupes.bam\n",
      "NJ_E_02_pairedplus_marked_dupes.bam\n",
      "NJ_E_04_pairedplus_marked_dupes.bam\n",
      "NJ_E_23_pairedplus_marked_dupes.bam\n",
      "NJ_E_24_pairedplus_marked_dupes.bam\n",
      "NJ_E_25_pairedplus_marked_dupes.bam\n",
      "NJ_E_26_pairedplus_marked_dupes.bam\n",
      "NJ_E_28_pairedplus_marked_dupes.bam\n",
      "NJ_E_29_pairedplus_marked_dupes.bam\n",
      "NJ_E_30_pairedplus_marked_dupes.bam\n",
      "NJ_E_05_pairedplus_marked_dupes.bam\n",
      "NJ_E_06_pairedplus_marked_dupes.bam\n",
      "NJ_E_07_pairedplus_marked_dupes.bam\n",
      "NJ_E_08_pairedplus_marked_dupes.bam\n",
      "NJ_E_10_pairedplus_marked_dupes.bam\n",
      "NJ_E_22_pairedplus_marked_dupes.bam\n",
      "NJ_E_13_pairedplus_marked_dupes.bam\n",
      "NJ_E_14_pairedplus_marked_dupes.bam\n",
      "NJ_E_15_pairedplus_marked_dupes.bam\n",
      "NJ_E_16_pairedplus_marked_dupes.bam\n",
      "NJ_E_18_pairedplus_marked_dupes.bam\n",
      "NJ_E_21_pairedplus_marked_dupes.bam\n",
      "NJ_U_01_pairedplus_marked_dupes.bam\n",
      "NJ_U_02_pairedplus_marked_dupes.bam\n",
      "NJ_U_03_pairedplus_marked_dupes.bam\n",
      "NJ_U_05_pairedplus_marked_dupes.bam\n",
      "NJ_U_06_pairedplus_marked_dupes.bam\n",
      "NJ_U_08_pairedplus_marked_dupes.bam\n",
      "NJ_U_09_pairedplus_marked_dupes.bam\n",
      "NJ_U_10_pairedplus_marked_dupes.bam\n",
      "NJ_U_11_pairedplus_marked_dupes.bam\n",
      "NJ_U_12_pairedplus_marked_dupes.bam\n",
      "NJ_U_15_pairedplus_marked_dupes.bam\n",
      "NJ_U_16_pairedplus_marked_dupes.bam\n",
      "NJ_U_21_pairedplus_marked_dupes.bam\n",
      "NJ_U_22_pairedplus_marked_dupes.bam\n",
      "NJ_U_23_pairedplus_marked_dupes.bam\n",
      "NJ_U_25_pairedplus_marked_dupes.bam\n",
      "NJ_U_07_pairedplus_marked_dupes.bam\n",
      "NJ_U_17_pairedplus_marked_dupes.bam\n",
      "NJ_U_18_pairedplus_marked_dupes.bam\n",
      "NJ_U_19_pairedplus_marked_dupes.bam\n",
      "NY_E_15_pairedplus_marked_dupes.bam\n",
      "NY_E_16_pairedplus_marked_dupes.bam\n",
      "NY_E_17_pairedplus_marked_dupes.bam\n",
      "NY_E_18_pairedplus_marked_dupes.bam\n",
      "NY_E_27_pairedplus_marked_dupes.bam\n",
      "NY_E_28_pairedplus_marked_dupes.bam\n",
      "NY_E_29_pairedplus_marked_dupes.bam\n",
      "NY_E_30_pairedplus_marked_dupes.bam\n",
      "NY_E_19_pairedplus_marked_dupes.bam\n",
      "NY_E_21_pairedplus_marked_dupes.bam\n",
      "NY_E_22_pairedplus_marked_dupes.bam\n",
      "NY_E_23_pairedplus_marked_dupes.bam\n",
      "NY_E_25_pairedplus_marked_dupes.bam\n",
      "NY_E_03_pairedplus_marked_dupes.bam\n",
      "NY_E_04_pairedplus_marked_dupes.bam\n",
      "NY_E_05_pairedplus_marked_dupes.bam\n",
      "NY_E_06_pairedplus_marked_dupes.bam\n",
      "NY_E_07_pairedplus_marked_dupes.bam\n",
      "NY_E_08_pairedplus_marked_dupes.bam\n",
      "NY_E_09_pairedplus_marked_dupes.bam\n",
      "NY_E_10_pairedplus_marked_dupes.bam\n",
      "NY_U_10_pairedplus_marked_dupes.bam\n",
      "NY_U_11_pairedplus_marked_dupes.bam\n",
      "NY_U_12_pairedplus_marked_dupes.bam\n",
      "NY_U_14_pairedplus_marked_dupes.bam\n",
      "NY_U_15_pairedplus_marked_dupes.bam\n",
      "NY_U_16_pairedplus_marked_dupes.bam\n",
      "NY_U_18_pairedplus_marked_dupes.bam\n",
      "NY_U_19_pairedplus_marked_dupes.bam\n",
      "NY_U_21_pairedplus_marked_dupes.bam\n",
      "NY_U_23_pairedplus_marked_dupes.bam\n",
      "NY_U_25_pairedplus_marked_dupes.bam\n",
      "NY_U_26_pairedplus_marked_dupes.bam\n",
      "NY_U_27_pairedplus_marked_dupes.bam\n",
      "NY_U_28_pairedplus_marked_dupes.bam\n",
      "NY_U_30_pairedplus_marked_dupes.bam\n",
      "NY_U_01_pairedplus_marked_dupes.bam\n",
      "NY_U_02_pairedplus_marked_dupes.bam\n",
      "NY_U_03_pairedplus_marked_dupes.bam\n",
      "NY_U_04_pairedplus_marked_dupes.bam\n",
      "NY_U_05_pairedplus_marked_dupes.bam\n",
      "NY_U_06_pairedplus_marked_dupes.bam\n",
      "NY_U_07_pairedplus_marked_dupes.bam\n",
      "VT_E_10_pairedplus_marked_dupes.bam\n",
      "VT_E_11_pairedplus_marked_dupes.bam\n",
      "VT_E_12_pairedplus_marked_dupes.bam\n",
      "VT_E_13_pairedplus_marked_dupes.bam\n",
      "VT_E_14_pairedplus_marked_dupes.bam\n",
      "VT_E_15_pairedplus_marked_dupes.bam\n",
      "VT_E_16_pairedplus_marked_dupes.bam\n",
      "VT_E_17_pairedplus_marked_dupes.bam\n",
      "VT_E_26_pairedplus_marked_dupes.bam\n",
      "VT_E_28_pairedplus_marked_dupes.bam\n",
      "VT_E_29_pairedplus_marked_dupes.bam\n",
      "VT_E_30_pairedplus_marked_dupes.bam\n",
      "VT_E_01_pairedplus_marked_dupes.bam\n",
      "VT_E_25_pairedplus_marked_dupes.bam\n",
      "VT_E_18_pairedplus_marked_dupes.bam\n",
      "VT_E_19_pairedplus_marked_dupes.bam\n",
      "VT_E_21_pairedplus_marked_dupes.bam\n",
      "VT_E_22_pairedplus_marked_dupes.bam\n",
      "VT_E_24_pairedplus_marked_dupes.bam\n",
      "VT_E_02_pairedplus_marked_dupes.bam\n",
      "VT_E_03_pairedplus_marked_dupes.bam\n",
      "VT_E_04_pairedplus_marked_dupes.bam\n",
      "VT_E_05_pairedplus_marked_dupes.bam\n",
      "VT_E_06_pairedplus_marked_dupes.bam\n",
      "VT_E_07_pairedplus_marked_dupes.bam\n",
      "VT_E_08_pairedplus_marked_dupes.bam\n",
      "VT_E_09_pairedplus_marked_dupes.bam\n",
      "VT_U_09_pairedplus_marked_dupes.bam\n",
      "VT_U_10_pairedplus_marked_dupes.bam\n",
      "VT_U_11_pairedplus_marked_dupes.bam\n",
      "VT_U_01_pairedplus_marked_dupes.bam\n",
      "VT_U_02_pairedplus_marked_dupes.bam\n",
      "VT_U_27_pairedplus_marked_dupes.bam\n",
      "VT_U_29_pairedplus_marked_dupes.bam\n",
      "VT_U_31_pairedplus_marked_dupes.bam\n",
      "VT_U_20_pairedplus_marked_dupes.bam\n",
      "VT_U_22_pairedplus_marked_dupes.bam\n",
      "VT_U_25_pairedplus_marked_dupes.bam\n",
      "VT_U_26_pairedplus_marked_dupes.bam\n",
      "VT_U_12_pairedplus_marked_dupes.bam\n",
      "VT_U_14_pairedplus_marked_dupes.bam\n",
      "VT_U_15_pairedplus_marked_dupes.bam\n",
      "VT_U_17_pairedplus_marked_dupes.bam\n",
      "VT_U_19_pairedplus_marked_dupes.bam\n",
      "VT_U_33_pairedplus_marked_dupes.bam\n",
      "VT_U_37_pairedplus_marked_dupes.bam\n",
      "VT_U_40_pairedplus_marked_dupes.bam\n"
     ]
    }
   ],
   "source": [
    "!head -n 132 /local/home/sarahgw/WGS/Sequences/filelists/All_Mylu.filelist"
   ]
  },
  {
   "cell_type": "code",
   "execution_count": 2,
   "metadata": {
    "collapsed": true
   },
   "outputs": [],
   "source": [
    "!Rscript -e 'write.table(cbind(seq(1,132),rep(1,132),c(rep(\"NJ_E\",22),rep(\"NJ_U\",20),rep(\"NY_E\",21), rep(\"NY_U\",22), rep(\"VT_E\",27), rep(\"VT_U\",20))), row.names=F, sep=\"\\t\", col.names=c(\"FID\",\"IID\",\"CLUSTER\"), file=\"/local/home/sarahgw/WGS/SNPS/All_mylu/genoprob/ALL_mylu.clst\", quote=F)'"
   ]
  },
  {
   "cell_type": "code",
   "execution_count": 4,
   "metadata": {},
   "outputs": [
    {
     "name": "stdout",
     "output_type": "stream",
     "text": [
      "123\t1\tVT_U\r\n",
      "124\t1\tVT_U\r\n",
      "125\t1\tVT_U\r\n",
      "126\t1\tVT_U\r\n",
      "127\t1\tVT_U\r\n",
      "128\t1\tVT_U\r\n",
      "129\t1\tVT_U\r\n",
      "130\t1\tVT_U\r\n",
      "131\t1\tVT_U\r\n",
      "132\t1\tVT_U\r\n"
     ]
    }
   ],
   "source": [
    "!tail /local/home/sarahgw/WGS/SNPS/All_mylu/genoprob/ALL_mylu.clst"
   ]
  },
  {
   "cell_type": "code",
   "execution_count": 2,
   "metadata": {},
   "outputs": [
    {
     "name": "stdout",
     "output_type": "stream",
     "text": [
      "1.9 1.64 1.56 1.49 1.41 1.35 1.3 1.29 1.24 1.23 1.18 1.16 1.14 1.13 1.12 1.11 1.1 1.08 1.07 1.06 1.05 1.04 1.04 1.02 1.01 1.01 1 0.992 0.985 0.968 0.965 0.958 0.957 0.955 0.951 0.948 0.938 0.929 0.927 0.921 0.917 0.911 0.901 0.892 0.887 0.883 0.878 0.872 0.867 0.864 0.861 0.86 0.858 0.844 0.838 0.817 0.795 0.787 0.783 0.78 0.772 0.766 0.761 0.753 0.751 0.74 0.73 0.724 0.714 0.702 0.697 0.695 0.687 0.678 0.669 0.655 0.647 0.644 0.637 0.631 0.624 0.618 0.618 0.616 0.611 0.605 0.6 0.594 0.589 0.582 0.575 0.57 0.564 0.559 0.553 0.544 0.534 0.532 0.528 0.524 0.521 0.517 0.513 0.504 0.499 0.494 0.488 0.476 0.466 0.457 0.45 0.446 0.443 0.422 0.41 0.398 0.384 0.372 0.364 0.354 0.339 0.329 0.324 0.319 0.31 0.293 0.284 0.27 0.248 0.246 0.244 0.000714 \n",
      "Saving 7 x 7 in image\n"
     ]
    }
   ],
   "source": [
    "!Rscript /local/home/sarahgw/ngsTools/Scripts/plotPCA.R -i /local/home/sarahgw/WGS/SNPS/All_mylu/genoprob/All_mylu.covar -c 1-2 -a /local/home/sarahgw/WGS/SNPS/All_mylu/genoprob/ALL_mylu.clst -o /local/home/sarahgw/WGS/SNPS/All_mylu/genoprob/ALL_mylu.pca.pdf"
   ]
  },
  {
   "cell_type": "code",
   "execution_count": 5,
   "metadata": {},
   "outputs": [
    {
     "data": {
      "image/png": "[encoded data removed]",
      "text/plain": [
       "<wand.image.Image: 877da0e 'PDF' (504x504)>"
      ]
     },
     "execution_count": 5,
     "metadata": {},
     "output_type": "execute_result"
    }
   ],
   "source": [
    "from wand.image import Image as WImage\n",
    "img = WImage(filename='/local/home/sarahgw/WGS/SNPS/All_mylu/genolike/Rplots2.pdf')\n",
    "img"
   ]
  },
  {
   "cell_type": "markdown",
   "metadata": {
    "collapsed": true
   },
   "source": []
  },
  {
   "cell_type": "code",
   "execution_count": null,
   "metadata": {
    "collapsed": true
   },
   "outputs": [],
   "source": []
  },
  {
   "cell_type": "code",
   "execution_count": null,
   "metadata": {
    "collapsed": true
   },
   "outputs": [],
   "source": []
  },
  {
   "cell_type": "code",
   "execution_count": null,
   "metadata": {
    "collapsed": true
   },
   "outputs": [],
   "source": []
  },
  {
   "cell_type": "markdown",
   "metadata": {},
   "source": [
    "look for associations for each group.\n"
   ]
  },
  {
   "cell_type": "code",
   "execution_count": null,
   "metadata": {
    "collapsed": true
   },
   "outputs": [],
   "source": []
  },
  {
   "cell_type": "code",
   "execution_count": null,
   "metadata": {
    "collapsed": true
   },
   "outputs": [],
   "source": []
  },
  {
   "cell_type": "code",
   "execution_count": null,
   "metadata": {
    "collapsed": true
   },
   "outputs": [],
   "source": []
  },
  {
   "cell_type": "code",
   "execution_count": null,
   "metadata": {
    "collapsed": true,
    "scrolled": true
   },
   "outputs": [],
   "source": [
    "!awk {print} /local/home/sarahgw/WGS/Sequences/filelists/VT_pheno.ybin"
   ]
  },
  {
   "cell_type": "code",
   "execution_count": null,
   "metadata": {
    "collapsed": true
   },
   "outputs": [],
   "source": [
    "!wc -l /local/home/sarahgw/WGS/Sequences/filelists/NJ_pheno.ybin"
   ]
  },
  {
   "cell_type": "code",
   "execution_count": null,
   "metadata": {
    "collapsed": true
   },
   "outputs": [],
   "source": []
  },
  {
   "cell_type": "code",
   "execution_count": null,
   "metadata": {
    "collapsed": true
   },
   "outputs": [],
   "source": []
  },
  {
   "cell_type": "code",
   "execution_count": null,
   "metadata": {
    "collapsed": true
   },
   "outputs": [],
   "source": [
    "/local/home/sarahgw/angsd/angsd -yBin /local/home/sarahgw/WGS/Sequences/filelists/VT_pheno.ybin -doAsso 1 -GL 1 -out VT_assoc -doMajorMinor 1 -doMaf 1 -minQ 20 -minMapQ 30 -SNP_pval 1e-6 -bam /local/home/sarahgw/WGS/Sequences/filelists/VT.filelist -P 15; echo \"VT Assoc done amphiprion\" | mailx gw.sarah@gmail.com"
   ]
  },
  {
   "cell_type": "markdown",
   "metadata": {},
   "source": [
    "ok so if this is true:\n",
    "The likelihood ratio statistic. This statistic is chi square distributed with one degree of freedom\n",
    "Then that means p less than 0.05 is greater than 3.84\n",
    "\n",
    "Right, but you need to do a p adjustment to deal with false positives. Ok, so let's take it into R and calculate p value and correct. \n",
    "Wait, maybe this is already accounting for false positives, paper seems to indicate that, no mention of correcting? Oh, so for standard GWAS there is a set significance thresholde of 5 x 10 ^ -8"
   ]
  },
  {
   "cell_type": "code",
   "execution_count": null,
   "metadata": {
    "collapsed": true
   },
   "outputs": [],
   "source": [
    "!gunzip /local/home/sarahgw/WGS/SNPS/All_mylu/NJ_assoc.lrt0.gz\n",
    "!gunzip /local/home/sarahgw/WGS/SNPS/All_mylu/NJ_assoc.mafs.gz\n",
    "!gunzip /local/home/sarahgw/WGS/SNPS/All_mylu/NY_assoc.lrt0.gz\n",
    "!gunzip /local/home/sarahgw/WGS/SNPS/All_mylu/VT_assoc.lrt0.gz"
   ]
  }
 ],
 "metadata": {
  "anaconda-cloud": {},
  "kernelspec": {
   "display_name": "Python 2",
   "language": "python",
   "name": "python2"
  },
  "language_info": {
   "codemirror_mode": {
    "name": "ipython",
    "version": 2
   },
   "file_extension": ".py",
   "mimetype": "text/x-python",
   "name": "python",
   "nbconvert_exporter": "python",
   "pygments_lexer": "ipython2",
   "version": "2.7.13"
  }
 },
 "nbformat": 4,
 "nbformat_minor": 1
}
