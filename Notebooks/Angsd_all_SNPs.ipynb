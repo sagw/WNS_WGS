{
 "cells": [
  {
   "cell_type": "markdown",
   "metadata": {},
   "source": [
    "I'm calling SNPs across all samples, so need to use list of all bamfiles"
   ]
  },
  {
   "cell_type": "markdown",
   "metadata": {},
   "source": [
    "In order to determine how to filter the sites, need to calculate read depth. \n",
    "\n",
    "Therkildsen and Palumbi: excluding sites with a total read depth <300 and >3028 (mean depth +2 standard deviations\n",
    "\n",
    "So need to calculate the mean total read depth (over all samples). \n",
    "\n",
    "Doing some other QC just to see"
   ]
  },
  {
   "cell_type": "code",
   "execution_count": null,
   "metadata": {
    "collapsed": true
   },
   "outputs": [],
   "source": [
    "~/angsd/angsd -P 15 -b /local/home/sarahgw/WGS/Sequences/filelists/All_Mylu.filelist -ref /local/home/sarahgw/references/Myotis_Lucifugus2.0/Myotis_lucifugus.Myoluc2.0.dna_sm.toplevel.fa -out /local/home/sarahgw/WGS/SNPS/All_mylu/All_mylu.qc -trim 0 -C 50 -baq 1 -minMapQ 20 -doQsDist 1 -doDepth 1 -doCounts 1 "
   ]
  },
  {
   "cell_type": "code",
   "execution_count": 8,
   "metadata": {
    "collapsed": false
   },
   "outputs": [
    {
     "name": "stdout",
     "output_type": "stream",
     "text": [
      "0\t34722506\t24494187\t18781257\t15505279\t13280089\t11733819\t10599736\t9692502\t9000465\t8435610\t7978920\t7583040\t7272834\t6995445\t6755575\t6560813\t6380016\t6230125\t6086109\t5963864\t5854799\t5753869\t5671724\t5591462\t5518181\t5460487\t5402144\t5353746\t5307400\t5281874\t5247629\t5226749\t5195715\t5178369\t5161880\t5140600\t5138194\t5131957\t5122806\t5123212\t5135911\t5137450\t5145039\t5150701\t5152173\t5168505\t5187396\t5199103\t5221822\t5250111\t5278970\t5297134\t5319020\t5350320\t5391335\t5429049\t5463923\t5503061\t5541364\t5584375\t5636101\t5678599\t5719778\t5770230\t5826837\t5878937\t5944000\t5992944\t6054056\t6118908\t6174548\t6236423\t6304204\t6376630\t6444535\t6524525\t6594344\t6674012\t6750969\t6843660\t6921796\t7004729\t7092571\t7175919\t7262555\t7355076\t7451900\t7547228\t7638831\t7725831\t7831129\t7928781\t8037637\t8137687\t8235763\t8347101\t8454697\t8556569\t8670231\t1168380830\t\r\n"
     ]
    }
   ],
   "source": [
    "!head /local/home/sarahgw/WGS/SNPS/All_mylu/All_mylu.qc.depthGlobal"
   ]
  },
  {
   "cell_type": "markdown",
   "metadata": {},
   "source": [
    "It binned anything over 100. so, that's good half of the sites have coverage over 100, but we don't know the upper limit. I'm just going to set upper limit to 10,360 since that would mean that each individual would have greater than 10x depth \n",
    "Not setting lower limit since I'm setting -nInd to half the total number, so should eliminate anything that has super low depth"
   ]
  },
  {
   "cell_type": "markdown",
   "metadata": {},
   "source": [
    "Redo SNP calling removing Myse samples:\n",
    "\n",
    "'NJ_U_04_pairedplus_marked_dupes.bam' \n",
    "\n",
    "'NJ_U_14_pairedplus_marked_dupes.bam'\n",
    "\n",
    "'VT_U_05_pairedplus_marked_dupes.bam' \n",
    "\n",
    "'VT_U_03_pairedplus_marked_dupes.bam' \n",
    "\n",
    "call SNPs with filters across all samples. only use sites that have information for at least half the individuals, I think this will be more helpful  \n",
    "\n",
    "\n",
    "add -dogeno 32 and -dopost to this command so you calculate posterior genotype probabilities at the same time.\n",
    "\n",
    "\n",
    "Trying multiple methods for allele frequency estimation just to compare these to the individual population allele freqs. "
   ]
  },
  {
   "cell_type": "code",
   "execution_count": null,
   "metadata": {
    "collapsed": true
   },
   "outputs": [],
   "source": [
    "~/angsd/angsd -b /local/home/sarahgw/WGS/Sequences/filelists/All_Mylu.filelist -dogeno 32 -dopost 1 -GL 1 -doMajorMinor 1 -doMaf 11 -doCounts 1 -minQ 20 -minMapQ 30 -P 20 -SNP_pval 1e-6 -minInd 68 -setMaxDepth 10360 -out /local/home/sarahgw/WGS/SNPS/All_mylu/All_mylu"
   ]
  },
  {
   "cell_type": "markdown",
   "metadata": {},
   "source": [
    "Need to get human readable genotype probs for simulations combining this wit creating the ibs matrix\n",
    "Try other method of pca/mds that is supposed to be better when you have different depths of coverage (which we clearly do...and I think is messing with the PCA)\n",
    "http://popgen.dk/angsd/index.php/PCA_MDS"
   ]
  },
  {
   "cell_type": "code",
   "execution_count": null,
   "metadata": {
    "collapsed": true
   },
   "outputs": [],
   "source": [
    "~/angsd/angsd/angsd -b /local/home/sarahgw/WGS/filelists/All_Mylu.filelist -doIBS 2  -dogeno 8 -doCounts 1 -dopost 1 -GL 1 -doMajorMinor 1 -makeMatrix 1 -doCov 1 -doMaf 11 -minQ 20 -minMapQ 30 -SNP_pval 1e-6 -minInd 68 -setMaxDepth 10360 -out /local/home/sarahgw/WGS/All_mylu -P 30 "
   ]
  },
  {
   "cell_type": "markdown",
   "metadata": {
    "collapsed": true
   },
   "source": [
    "ARe these genotypes the correct input for our simulations?"
   ]
  },
  {
   "cell_type": "code",
   "execution_count": 2,
   "metadata": {
    "collapsed": true
   },
   "outputs": [],
   "source": [
    "!gunzip /local/home/sarahgw/WGS/SNPS/All_mylu/genoprob/All_mylu.geno.gz"
   ]
  },
  {
   "cell_type": "code",
   "execution_count": 6,
   "metadata": {
    "collapsed": false
   },
   "outputs": [
    {
     "name": "stdout",
     "output_type": "stream",
     "text": [
      "398\r\n"
     ]
    }
   ],
   "source": [
    "!head -n 1 /local/home/sarahgw/WGS/SNPS/All_mylu/genoprob/All_mylu.geno | wc -w"
   ]
  },
  {
   "cell_type": "code",
   "execution_count": 7,
   "metadata": {
    "collapsed": false
   },
   "outputs": [
    {
     "name": "stdout",
     "output_type": "stream",
     "text": [
      "92371475 /local/home/sarahgw/WGS/SNPS/All_mylu/genoprob/All_mylu.geno\r\n"
     ]
    }
   ],
   "source": [
    "!wc -l /local/home/sarahgw/WGS/SNPS/All_mylu/genoprob/All_mylu.geno"
   ]
  },
  {
   "cell_type": "markdown",
   "metadata": {},
   "source": [
    "ok so there are three values for each sample for each snp. but the three sum to one because they are probabilities...\n",
    "\n",
    "Maybe he meant sum the allele frequencies for one allele? "
   ]
  },
  {
   "cell_type": "code",
   "execution_count": 1,
   "metadata": {
    "collapsed": false
   },
   "outputs": [
    {
     "name": "stdout",
     "output_type": "stream",
     "text": [
      "8255384 /local/home/sarahgw/WGS/SNPS/All_mylu/All_mylu.mafs.gz\r\n"
     ]
    }
   ],
   "source": [
    "!wc -l /local/home/sarahgw/WGS/SNPS/All_mylu/All_mylu.mafs.gz"
   ]
  },
  {
   "cell_type": "markdown",
   "metadata": {},
   "source": [
    "Now calculate minor allele frequencies for each population for SNPS, first make sites index file\n",
    "\n",
    "Include major and minor, so that these are consistent across populations, even if not accurate in a given (sub)population"
   ]
  },
  {
   "cell_type": "code",
   "execution_count": 2,
   "metadata": {
    "collapsed": true
   },
   "outputs": [],
   "source": [
    "!gunzip /local/home/sarahgw/WGS/SNPS/All_mylu/All_mylu.mafs.gz"
   ]
  },
  {
   "cell_type": "code",
   "execution_count": 6,
   "metadata": {
    "collapsed": false
   },
   "outputs": [],
   "source": [
    "!cut -f1-4 /local/home/sarahgw/WGS/SNPS/All_mylu/All_mylu.mafs > /local/home/sarahgw/WGS/SNPS/All_mylu/All_mylu_sites.txt"
   ]
  },
  {
   "cell_type": "code",
   "execution_count": 5,
   "metadata": {
    "collapsed": false
   },
   "outputs": [
    {
     "name": "stdout",
     "output_type": "stream",
     "text": [
      "92371964 /local/home/sarahgw/WGS/SNPS/All_mylu/All_mylu.mafs\r\n"
     ]
    }
   ],
   "source": [
    "!wc -l /local/home/sarahgw/WGS/SNPS/All_mylu/All_mylu.mafs"
   ]
  },
  {
   "cell_type": "markdown",
   "metadata": {},
   "source": [
    "So, we now have 92,371,964 SNPs!"
   ]
  },
  {
   "cell_type": "code",
   "execution_count": 7,
   "metadata": {
    "collapsed": true
   },
   "outputs": [],
   "source": [
    "!tail -n+2 /local/home/sarahgw/WGS/SNPS/All_mylu/All_mylu_sites.txt > /local/home/sarahgw/WGS/SNPS/All_mylu/All_mylu_sites1.txt"
   ]
  },
  {
   "cell_type": "code",
   "execution_count": null,
   "metadata": {
    "collapsed": false
   },
   "outputs": [],
   "source": [
    "~/angsd/angsd sites index All_mylu_sites1.txt"
   ]
  },
  {
   "cell_type": "code",
   "execution_count": null,
   "metadata": {
    "collapsed": true
   },
   "outputs": [],
   "source": [
    "for POP in NJ_U NY_U VT_U; do echo $POP; ~/angsd/angsd -b /local/home/sarahgw/WGS/Sequences/filelists/\"$POP\".filelist -GL 1 -doMajorMinor 3 -doMaf 11 -doCounts 1 -minQ 20 -minMapQ 30 -P 30 -setMaxDepth 10360 -sites /local/home/sarahgw/WGS/SNPS/All_mylu/All_mylu_sites1.txt -out /local/home/sarahgw/WGS/SNPS/All_mylu/\"$POP\"; echo \"mafs done amphiprion\" | mailx gw.sarah@gmail.com; done"
   ]
  },
  {
   "cell_type": "code",
   "execution_count": null,
   "metadata": {
    "collapsed": true
   },
   "outputs": [],
   "source": [
    "for POP in NJ_E NY_E VT_E ; do echo $POP; ~/angsd/angsd -b /local/home/sarahgw/WGS/Sequences/filelists/\"$POP\".filelist -GL 1 -doMajorMinor 3 -doMaf 11 -doCounts 1 -minQ 20 -minMapQ 30 -P 30 -setMaxDepth 10360 -sites /local/home/sarahgw/WGS/SNPS/All_mylu/All_mylu_sites1.txt -out /local/home/sarahgw/WGS/SNPS/All_mylu/\"$POP\"; done"
   ]
  },
  {
   "cell_type": "markdown",
   "metadata": {},
   "source": [
    "Redo the NJ and VT unexposed without myse"
   ]
  },
  {
   "cell_type": "code",
   "execution_count": null,
   "metadata": {
    "collapsed": true
   },
   "outputs": [],
   "source": [
    "for POP in NJ_U VT_U; do echo $POP; ~/angsd/angsd -b /local/home/sarahgw/WGS/Sequences/filelists/\"$POP\".filelist -GL 1 -doMajorMinor 3 -doMaf 11 -doCounts 1 -minQ 20 -minMapQ 30 -P 20 -setMaxDepth 10360 -sites /local/home/sarahgw/WGS/SNPS/All_mylu/All_mylu_sites1.txt -out /local/home/sarahgw/WGS/SNPS/All_mylu/\"$POP\"; echo \"mafs done amphiprion\" | mailx gw.sarah@gmail.com; done"
   ]
  },
  {
   "cell_type": "code",
   "execution_count": null,
   "metadata": {
    "collapsed": true
   },
   "outputs": [],
   "source": [
    "~/angsd/angsd -b /local/home/sarahgw/WGS/Sequences/filelists/VT_U.filelist -GL 1 -doMajorMinor 3 -doMaf 11 -doCounts 1 -minQ 20 -minMapQ 30 -P 20 -setMaxDepth 10360 -sites /local/home/sarahgw/WGS/SNPS/All_mylu/All_mylu_sites1.txt -out /local/home/sarahgw/WGS/SNPS/All_mylu/VT_U.mafs"
   ]
  },
  {
   "cell_type": "markdown",
   "metadata": {
    "collapsed": true
   },
   "source": [
    "calculate changes in allele frequency--SNP with highest change??\n",
    "summarize differences in allele frequenceis between pops for mitochondrial and nuclear regions"
   ]
  },
  {
   "cell_type": "code",
   "execution_count": 5,
   "metadata": {
    "collapsed": true
   },
   "outputs": [],
   "source": [
    "!gunzip /local/home/sarahgw/WGS/SNPS/All_mylu/NJ_E.mafs.gz\n",
    "!gunzip /local/home/sarahgw/WGS/SNPS/All_mylu/NJ_U.mafs.gz"
   ]
  },
  {
   "cell_type": "code",
   "execution_count": 1,
   "metadata": {
    "collapsed": false
   },
   "outputs": [
    {
     "name": "stdout",
     "output_type": "stream",
     "text": [
      "chromo\tposition\tmajor\tminor\tknownEM\tunknownEM\tphat\tnInd\r\n",
      "GL429767\t54\tG\tT\t0.000000\t0.000004\t0.000000\t15\r\n",
      "GL429767\t78\tG\tA\t0.109899\t0.109719\t0.119721\t13\r\n",
      "GL429767\t83\tG\tT\t0.000000\t0.000004\t0.000000\t14\r\n",
      "GL429767\t104\tA\tT\t0.207668\t0.207671\t0.232022\t11\r\n",
      "GL429767\t109\tT\tC\t0.056747\t0.055230\t0.024690\t12\r\n",
      "GL429767\t112\tG\tA\t0.000000\t0.000002\t0.000000\t12\r\n",
      "GL429767\t157\tT\tC\t0.000000\t0.000002\t0.000000\t13\r\n",
      "GL429767\t184\tC\tG\t0.000000\t0.000002\t0.000000\t16\r\n",
      "GL429767\t189\tG\tT\t0.000000\t0.000003\t0.000000\t17\r\n"
     ]
    }
   ],
   "source": [
    "!head /local/home/sarahgw/WGS/SNPS/All_mylu/NJ_E.mafs"
   ]
  },
  {
   "cell_type": "code",
   "execution_count": 2,
   "metadata": {
    "collapsed": false
   },
   "outputs": [
    {
     "name": "stdout",
     "output_type": "stream",
     "text": [
      "92371964 /local/home/sarahgw/WGS/SNPS/All_mylu/NJ_E.mafs\r\n"
     ]
    }
   ],
   "source": [
    "!wc -l /local/home/sarahgw/WGS/SNPS/All_mylu/NJ_E.mafs"
   ]
  },
  {
   "cell_type": "code",
   "execution_count": 8,
   "metadata": {
    "collapsed": false
   },
   "outputs": [
    {
     "name": "stdout",
     "output_type": "stream",
     "text": [
      "92371953 /local/home/sarahgw/WGS/SNPS/All_mylu/NJ_U.mafs\r\n"
     ]
    }
   ],
   "source": [
    "!wc -l /local/home/sarahgw/WGS/SNPS/All_mylu/NJ_U.mafs"
   ]
  },
  {
   "cell_type": "code",
   "execution_count": 9,
   "metadata": {
    "collapsed": false
   },
   "outputs": [],
   "source": [
    "!paste /local/home/sarahgw/WGS/SNPS/All_mylu/NJ_E.mafs /local/home/sarahgw/WGS/SNPS/All_mylu/NJ_U.mafs | awk '{print $1\",\"$2\",\"$3\",\"$4\",\"$5\",\"$6\",\"$8\",\"$13\",\"$14\",\"$16}'>/local/home/sarahgw/WGS/SNPS/All_mylu/NJ_EU.mafs"
   ]
  },
  {
   "cell_type": "code",
   "execution_count": 10,
   "metadata": {
    "collapsed": true
   },
   "outputs": [],
   "source": [
    "!gunzip /local/home/sarahgw/WGS/SNPS/All_mylu/NY_E.mafs.gz\n",
    "!gunzip /local/home/sarahgw/WGS/SNPS/All_mylu/NY_U.mafs.gz"
   ]
  },
  {
   "cell_type": "code",
   "execution_count": 11,
   "metadata": {
    "collapsed": false
   },
   "outputs": [
    {
     "name": "stdout",
     "output_type": "stream",
     "text": [
      "92371964 /local/home/sarahgw/WGS/SNPS/All_mylu/NY_E.mafs\n",
      "92371964 /local/home/sarahgw/WGS/SNPS/All_mylu/NY_U.mafs\n"
     ]
    }
   ],
   "source": [
    "!wc -l /local/home/sarahgw/WGS/SNPS/All_mylu/NY_E.mafs\n",
    "!wc -l /local/home/sarahgw/WGS/SNPS/All_mylu/NY_U.mafs"
   ]
  },
  {
   "cell_type": "code",
   "execution_count": 12,
   "metadata": {
    "collapsed": true
   },
   "outputs": [],
   "source": [
    "!paste /local/home/sarahgw/WGS/SNPS/All_mylu/NY_E.mafs /local/home/sarahgw/WGS/SNPS/All_mylu/NY_U.mafs | awk '{print $1\",\"$2\",\"$3\",\"$4\",\"$5\",\"$6\",\"$8\",\"$13\",\"$14\",\"$16}'>/local/home/sarahgw/WGS/SNPS/All_mylu/NY_EU.mafs"
   ]
  },
  {
   "cell_type": "code",
   "execution_count": 2,
   "metadata": {
    "collapsed": false
   },
   "outputs": [],
   "source": [
    "#!gunzip /local/home/sarahgw/WGS/SNPS/All_mylu/VT_E.mafs.gz\n",
    "!gunzip /local/home/sarahgw/WGS/SNPS/All_mylu/VT_U.mafs.gz"
   ]
  },
  {
   "cell_type": "code",
   "execution_count": 3,
   "metadata": {
    "collapsed": false
   },
   "outputs": [
    {
     "name": "stdout",
     "output_type": "stream",
     "text": [
      "92371964 /local/home/sarahgw/WGS/SNPS/All_mylu/VT_E.mafs\n",
      "92371964 /local/home/sarahgw/WGS/SNPS/All_mylu/VT_U.mafs\n"
     ]
    }
   ],
   "source": [
    "!wc -l /local/home/sarahgw/WGS/SNPS/All_mylu/VT_E.mafs\n",
    "!wc -l /local/home/sarahgw/WGS/SNPS/All_mylu/VT_U.mafs"
   ]
  },
  {
   "cell_type": "code",
   "execution_count": 4,
   "metadata": {
    "collapsed": false
   },
   "outputs": [],
   "source": [
    "!paste /local/home/sarahgw/WGS/SNPS/All_mylu/VT_E.mafs /local/home/sarahgw/WGS/SNPS/All_mylu/VT_U.mafs | awk '{print $1\",\"$2\",\"$3\",\"$4\",\"$5\",\"$6\",\"$8\",\"$13\",\"$14\",\"$16}'>/local/home/sarahgw/WGS/SNPS/All_mylu/VT_EU.mafs"
   ]
  },
  {
   "cell_type": "code",
   "execution_count": 16,
   "metadata": {
    "collapsed": false
   },
   "outputs": [],
   "source": [
    "f=open('/local/home/sarahgw/WGS/SNPS/All_mylu/NJ_EU.mafs', 'r')\n",
    "o=open('/local/home/sarahgw/WGS/SNPS/All_mylu/NJ_EU2.mafs', 'w')\n",
    "for line in f:\n",
    "    scount=line.count(',')\n",
    "    if scount==9:\n",
    "        o.write(line)\n",
    "    elif 0<=scount<9:\n",
    "        groups=line.split(',')\n",
    "        lineplus=','.join(groups[:2])+''.join([',']*(9-scount))+','+ ','.join(groups[2:])\n",
    "        o.write(lineplus)  \n",
    "o.close() "
   ]
  },
  {
   "cell_type": "code",
   "execution_count": 40,
   "metadata": {
    "collapsed": false,
    "scrolled": true
   },
   "outputs": [
    {
     "name": "stdout",
     "output_type": "stream",
     "text": [
      "AAPE02072767,3095,T,A,0.470258,0.470257,16,,,\r\n",
      "AAPE02072767,3098,C,T,0.000000,0.000002,16,,,\r\n",
      "AAPE02072780,302,G,A,0.000000,0.000001,16,,,\r\n",
      "AAPE02072780,365,G,C,0.000000,0.000002,14,,,\r\n",
      "AAPE02072780,367,A,C,0.048082,0.048083,14,,,\r\n",
      "AAPE02072780,368,C,T,0.000000,0.000002,14,,,\r\n",
      "AAPE02072780,369,T,C,0.000000,0.000004,14,,,\r\n",
      "AAPE02072780,370,T,A,0.066391,0.066390,14,,,\r\n",
      "AAPE02072780,372,T,C,0.000000,0.000003,14,,,\r\n",
      "AAPE02072780,374,C,A,0.000000,0.000001,14,,,\r\n"
     ]
    }
   ],
   "source": [
    "!tail /local/home/sarahgw/WGS/SNPS/All_mylu/NJ_EU2.mafs"
   ]
  },
  {
   "cell_type": "code",
   "execution_count": 10,
   "metadata": {
    "collapsed": false,
    "scrolled": false
   },
   "outputs": [
    {
     "name": "stdout",
     "output_type": "stream",
     "text": [
      "109424282 /local/home/sarahgw/WGS/SNPS/All_mylu/NJ_EU.mafs\r\n"
     ]
    }
   ],
   "source": [
    "!wc -l /local/home/sarahgw/WGS/SNPS/All_mylu/NJ_EU.mafs"
   ]
  },
  {
   "cell_type": "markdown",
   "metadata": {},
   "source": [
    "In R notebook Angsd_all_SNP_graphs, find SNPs that have grater than 50% change in allele frequency  in all 3 populations. use grep to get 1kb on either side surrounding regions, blast. "
   ]
  },
  {
   "cell_type": "code",
   "execution_count": null,
   "metadata": {
    "collapsed": true
   },
   "outputs": [],
   "source": [
    "grep 'GL429793' -A 10000000 /local/home/sarahgw/references/Myotis_Lucifugus2.0/Myotis_lucifugus.Myoluc2.0.dna_sm.toplevel.fa | tr -d \"\\n\\r\" | cut -c 3618488-3620488 >/local/home/sarahgw/WGS/SNPS/All_mylu/snps/GL429793_3619488"
   ]
  },
  {
   "cell_type": "code",
   "execution_count": null,
   "metadata": {
    "collapsed": true
   },
   "outputs": [],
   "source": [
    "grep 'GL429805' -A 10000000 /local/home/sarahgw/references/Myotis_Lucifugus2.0/Myotis_lucifugus.Myoluc2.0.dna_sm.toplevel.fa | tr -d \"\\n\\r\" | cut -c 5254331-5256331   >/local/home/sarahgw/WGS/SNPS/All_mylu/snps/GL429805_5255331  "
   ]
  },
  {
   "cell_type": "code",
   "execution_count": null,
   "metadata": {
    "collapsed": true
   },
   "outputs": [],
   "source": [
    "grep 'GL429830' -A 10000000 /local/home/sarahgw/references/Myotis_Lucifugus2.0/Myotis_lucifugus.Myoluc2.0.dna_sm.toplevel.fa | tr -d \"\\n\\r\" | cut -c 4775068-4777068   >/local/home/sarahgw/WGS/SNPS/All_mylu/snps/GL429830_4776068  "
   ]
  },
  {
   "cell_type": "code",
   "execution_count": null,
   "metadata": {
    "collapsed": true
   },
   "outputs": [],
   "source": [
    "grep 'GL429833' -A 10000000 /local/home/sarahgw/references/Myotis_Lucifugus2.0/Myotis_lucifugus.Myoluc2.0.dna_sm.toplevel.fa | tr -d \"\\n\\r\" | cut -c 4826830-4828830   >/local/home/sarahgw/WGS/SNPS/All_mylu/snps/GL429833_4827830"
   ]
  },
  {
   "cell_type": "code",
   "execution_count": null,
   "metadata": {
    "collapsed": true
   },
   "outputs": [],
   "source": [
    "grep 'GL429835' -A 10000000 /local/home/sarahgw/references/Myotis_Lucifugus2.0/Myotis_lucifugus.Myoluc2.0.dna_sm.toplevel.fa | tr -d \"\\n\\r\" | cut -c 4131453-4133453   >/local/home/sarahgw/WGS/SNPS/All_mylu/snps/GL429835_4132453"
   ]
  },
  {
   "cell_type": "code",
   "execution_count": null,
   "metadata": {
    "collapsed": true
   },
   "outputs": [],
   "source": [
    "grep 'GL429848' -A 10000000 /local/home/sarahgw/references/Myotis_Lucifugus2.0/Myotis_lucifugus.Myoluc2.0.dna_sm.toplevel.fa | tr -d \"\\n\\r\" | cut -c 4053536-4055536   >/local/home/sarahgw/WGS/SNPS/All_mylu/snps/GL429848_4054536"
   ]
  },
  {
   "cell_type": "code",
   "execution_count": null,
   "metadata": {
    "collapsed": true
   },
   "outputs": [],
   "source": [
    "grep 'GL429859' -A 10000000 /local/home/sarahgw/references/Myotis_Lucifugus2.0/Myotis_lucifugus.Myoluc2.0.dna_sm.toplevel.fa | tr -d \"\\n\\r\" | cut -c 3283246-3285246   >/local/home/sarahgw/WGS/SNPS/All_mylu/snps/GL429859_3284246"
   ]
  },
  {
   "cell_type": "code",
   "execution_count": null,
   "metadata": {
    "collapsed": true
   },
   "outputs": [],
   "source": [
    "grep 'GL429941' -A 10000000 /local/home/sarahgw/references/Myotis_Lucifugus2.0/Myotis_lucifugus.Myoluc2.0.dna_sm.toplevel.fa | tr -d \"\\n\\r\" | cut -c 1538533-1540533   >/local/home/sarahgw/WGS/SNPS/All_mylu/snps/GL429941_1539533"
   ]
  },
  {
   "cell_type": "code",
   "execution_count": null,
   "metadata": {
    "collapsed": true
   },
   "outputs": [],
   "source": [
    "grep 'GL430044' -A 10000000 /local/home/sarahgw/references/Myotis_Lucifugus2.0/Myotis_lucifugus.Myoluc2.0.dna_sm.toplevel.fa | tr -d \"\\n\\r\" | cut -c 239397-241397   >/local/home/sarahgw/WGS/SNPS/All_mylu/snps/GL430044_240397"
   ]
  },
  {
   "cell_type": "code",
   "execution_count": null,
   "metadata": {
    "collapsed": true
   },
   "outputs": [],
   "source": [
    "grep 'GL430199' -A 10000000 /local/home/sarahgw/references/Myotis_Lucifugus2.0/Myotis_lucifugus.Myoluc2.0.dna_sm.toplevel.fa | tr -d \"\\n\\r\" | cut -c 597814-599814   >/local/home/sarahgw/WGS/SNPS/All_mylu/snps/GL430199_598814"
   ]
  },
  {
   "cell_type": "markdown",
   "metadata": {},
   "source": [
    "GL429793\t3619488\n",
    "GL429805\t5255331\n",
    "GL429830\t4776068\n",
    "GL429833\t4827830\n",
    "GL429835\t4132453\n",
    "GL429848\t4054536\n",
    "GL429859\t3284246\n",
    "GL429941\t1539533\n",
    "GL430044\t240397\n",
    "GL430199\t598814"
   ]
  },
  {
   "cell_type": "code",
   "execution_count": 3,
   "metadata": {
    "collapsed": false
   },
   "outputs": [
    {
     "name": "stdout",
     "output_type": "stream",
     "text": [
      "\"\",\"Scaffold\",\"Position\",\"V1_NJ\",\"Major_NJ\",\"Minor_NJ\",\"Maf_NJE\",\"nInd_NJE\",\"Maf_NJU\",\"nInd_NJU\",\"absdiff_NJ\",\"diff_NJ\",\"V1_NY\",\"Major_NY\",\"Minor_NY\",\"Maf_NYE\",\"nInd_NYE\",\"Maf_NYU\",\"nInd_NYU\",\"absdiff_NY\",\"diff_NY\",\"V1_VT\",\"Major_VT\",\"Minor_VT\",\"Maf_VTE\",\"nInd_VTE\",\"Maf_VTU\",\"nInd_VTU\",\"absdiff_VT\",\"diff_VT\"\r\n"
     ]
    }
   ],
   "source": [
    "!head -n 1 /local/home/sarahgw/WGS/SNPS/All_mylu/snps/Candidate_SNPs_NJNYVT.csv"
   ]
  },
  {
   "cell_type": "code",
   "execution_count": 20,
   "metadata": {
    "collapsed": false
   },
   "outputs": [],
   "source": [
    "!cut -d, -f2,3 /local/home/sarahgw/WGS/SNPS/All_mylu/snps/Candidate_SNPs_NJNYVT.csv > /local/home/sarahgw/WGS/SNPS/All_mylu/snps/Candidate_SNPs_list.csv"
   ]
  },
  {
   "cell_type": "code",
   "execution_count": 24,
   "metadata": {
    "collapsed": false
   },
   "outputs": [],
   "source": [
    "!sed -e 's/\"//g' -i /local/home/sarahgw/WGS/SNPS/All_mylu/snps/Candidate_SNPs_list.csv "
   ]
  },
  {
   "cell_type": "code",
   "execution_count": 25,
   "metadata": {
    "collapsed": false
   },
   "outputs": [
    {
     "name": "stdout",
     "output_type": "stream",
     "text": [
      "Scaffold,Position\r\n",
      "GL429793,3619488\r\n",
      "GL429805,5255331\r\n",
      "GL429830,4776068\r\n",
      "GL429833,4827830\r\n",
      "GL429835,4132453\r\n",
      "GL429848,4054536\r\n",
      "GL429859,3284246\r\n",
      "GL429941,1539533\r\n",
      "GL430044,240397\r\n"
     ]
    }
   ],
   "source": [
    "!head /local/home/sarahgw/WGS/SNPS/All_mylu/snps/Candidate_SNPs_list.csv"
   ]
  },
  {
   "cell_type": "code",
   "execution_count": null,
   "metadata": {
    "collapsed": true
   },
   "outputs": [],
   "source": [
    "sed 's/\\t/,/g' /local/home/sarahgw/WGS/SNPS/All_mylu/genoprob/All_mylu.geno > /local/home/sarahgw/WGS/SNPS/All_mylu/genoprob/All_mylu_geno.csv"
   ]
  },
  {
   "cell_type": "code",
   "execution_count": 28,
   "metadata": {
    "collapsed": false,
    "scrolled": true
   },
   "outputs": [
    {
     "name": "stdout",
     "output_type": "stream",
     "text": [
      "GL429767,54,0.992890,0.007097,0.000013,0.996439,0.003561,0.000000,0.992890,0.007097,0.000013,0.992890,0.007097,0.000013,0.996439,0.003561,0.000000,0.998216,0.001784,0.000000,0.996439,0.003561,0.000000,0.992890,0.007097,0.000013,0.996439,0.003561,0.000000,0.992890,0.007097,0.000013,0.999107,0.000893,0.000000,0.999107,0.000893,0.000000,0.998216,0.001784,0.000000,0.996439,0.003561,0.000000,0.996439,0.003561,0.000000,0.992890,0.007097,0.000013,0.992890,0.007097,0.000013,0.998216,0.001784,0.000000,0.996439,0.003561,0.000000,0.996439,0.003561,0.000000,0.996439,0.003561,0.000000,0.998216,0.001784,0.000000,0.992890,0.007097,0.000013,0.992890,0.007097,0.000013,0.992890,0.007097,0.000013,0.998216,0.001784,0.000000,0.992890,0.007097,0.000013,0.996439,0.003561,0.000000,0.996439,0.003561,0.000000,0.992890,0.007097,0.000013,0.992890,0.007097,0.000013,0.996439,0.003561,0.000000,0.992890,0.007097,0.000013,0.992890,0.007097,0.000013,0.992890,0.007097,0.000013,0.992890,0.007097,0.000013,0.992890,0.007097,0.000013,0.992890,0.007097,0.000013,0.992890,0.007097,0.000013,0.992890,0.007097,0.000013,0.999777,0.000223,0.000000,0.996439,0.003561,0.000000,0.999107,0.000893,0.000000,0.996439,0.003561,0.000000,0.992890,0.007097,0.000013,0.998216,0.001784,0.000000,0.992890,0.007097,0.000013,0.998216,0.001784,0.000000,0.992890,0.007097,0.000013,0.992890,0.007097,0.000013,0.992890,0.007097,0.000013,0.992890,0.007097,0.000013,0.992890,0.007097,0.000013,0.992890,0.007097,0.000013,0.996439,0.003561,0.000000,0.992890,0.007097,0.000013,0.992890,0.007097,0.000013,0.992890,0.007097,0.000013,0.999107,0.000893,0.000000,0.996439,0.003561,0.000000,0.996439,0.003561,0.000000,0.998216,0.001784,0.000000,0.998216,0.001784,0.000000,0.999553,0.000447,0.000000,0.998216,0.001784,0.000000,0.992890,0.007097,0.000013,0.999107,0.000893,0.000000,0.996439,0.003561,0.000000,0.996439,0.003561,0.000000,0.999107,0.000893,0.000000,0.996439,0.003561,0.000000,0.996439,0.003561,0.000000,0.996439,0.003561,0.000000,0.998216,0.001784,0.000000,0.999107,0.000893,0.000000,0.996439,0.003561,0.000000,0.992890,0.007097,0.000013,0.996439,0.003561,0.000000,0.998216,0.001784,0.000000,0.992890,0.007097,0.000013,0.996439,0.003561,0.000000,0.992890,0.007097,0.000013,0.992890,0.007097,0.000013,0.992890,0.007097,0.000013,0.992890,0.007097,0.000013,0.000110,0.999888,0.000001,0.992890,0.007097,0.000013,0.992890,0.007097,0.000013,0.996439,0.003561,0.000000,0.992890,0.007097,0.000013,0.996439,0.003561,0.000000,0.992890,0.007097,0.000013,0.992890,0.007097,0.000013,0.992890,0.007097,0.000013,0.992890,0.007097,0.000013,0.996439,0.003561,0.000000,0.992890,0.007097,0.000013,0.992890,0.007097,0.000013,0.992890,0.007097,0.000013,0.992890,0.007097,0.000013,0.992890,0.007097,0.000013,0.992890,0.007097,0.000013,0.999888,0.000112,0.000000,0.992890,0.007097,0.000013,0.996439,0.003561,0.000000,0.999107,0.000893,0.000000,0.992890,0.007097,0.000013,0.996439,0.003561,0.000000,0.996439,0.003561,0.000000,0.998216,0.001784,0.000000,0.999777,0.000223,0.000000,0.999107,0.000893,0.000000,0.996439,0.003561,0.000000,0.996439,0.003561,0.000000,0.992890,0.007097,0.000013,0.992890,0.007097,0.000013,0.992890,0.007097,0.000013,0.999553,0.000447,0.000000,0.999553,0.000447,0.000000,0.999972,0.000028,0.000000,0.992890,0.007097,0.000013,0.992890,0.007097,0.000013,0.992890,0.007097,0.000013,0.992890,0.007097,0.000013,0.999553,0.000447,0.000000,0.996439,0.003561,0.000000,0.999107,0.000893,0.000000,0.996439,0.003561,0.000000,0.998216,0.001784,0.000000,0.999107,0.000893,0.000000,0.999107,0.000893,0.000000,0.992890,0.007097,0.000013,\r\n"
     ]
    }
   ],
   "source": [
    "!head -n 1 /local/home/sarahgw/WGS/SNPS/All_mylu/genoprob/All_mylu_geno.csv"
   ]
  },
  {
   "cell_type": "code",
   "execution_count": 35,
   "metadata": {
    "collapsed": false
   },
   "outputs": [
    {
     "name": "stdout",
     "output_type": "stream",
     "text": [
      "Scaffold,Position\r\n",
      "GL429793,3619488\r\n",
      "GL429805,5255331\r\n",
      "GL429830,4776068\r\n",
      "GL429833,4827830\r\n",
      "GL429835,4132453\r\n",
      "GL429848,4054536\r\n",
      "GL429859,3284246\r\n",
      "GL429941,1539533\r\n",
      "GL430044,240397\r\n"
     ]
    }
   ],
   "source": [
    "!head /local/home/sarahgw/WGS/SNPS/All_mylu/snps/Candidate_SNPs_list.csv"
   ]
  },
  {
   "cell_type": "code",
   "execution_count": null,
   "metadata": {
    "collapsed": false
   },
   "outputs": [],
   "source": [
    "grep -f /local/home/sarahgw/WGS/SNPS/All_mylu/snps/Candidate_SNPs_list.csv /local/home/sarahgw/WGS/SNPS/All_mylu/genoprob/All_mylu_geno.csv > /local/home/sarahgw/WGS/SNPS/All_mylu/snps/Candidate_SNPs_geno.csv"
   ]
  },
  {
   "cell_type": "code",
   "execution_count": 2,
   "metadata": {
    "collapsed": false
   },
   "outputs": [
    {
     "name": "stdout",
     "output_type": "stream",
     "text": [
      "10 /local/home/sarahgw/WGS/SNPS/All_mylu/snps/Candidate_SNPs_geno.csv\r\n"
     ]
    }
   ],
   "source": [
    "!wc -l /local/home/sarahgw/WGS/SNPS/All_mylu/snps/Candidate_SNPs_geno.csv"
   ]
  },
  {
   "cell_type": "markdown",
   "metadata": {
    "collapsed": true
   },
   "source": [
    "Look at annotation in gtf file"
   ]
  },
  {
   "cell_type": "code",
   "execution_count": null,
   "metadata": {
    "collapsed": true
   },
   "outputs": [],
   "source": [
    "grep -f /local/home/sarahgw/WGS/SNPS/All_mylu/snps/Candidate_SNPs_Scaf.csv /local/home/sarahgw/references/Myotis_lucifugus.Myoluc2.0.89.gtf > /local/home/sarahgw/WGS/SNPS/All_mylu/snps/Candidate_SNPs_gtf.csv"
   ]
  },
  {
   "cell_type": "markdown",
   "metadata": {},
   "source": [
    "Create VCF file"
   ]
  },
  {
   "cell_type": "code",
   "execution_count": null,
   "metadata": {
    "collapsed": true
   },
   "outputs": [],
   "source": [
    "~/angsd/angsd -b /local/home/sarahgw/WGS/Sequences/filelists/All_Mylu.filelist -dovcf 1 -gl 1 -dopost 1 -domajorminor 3 -domaf 1 -sites /local/home/sarahgw/WGS/SNPS/All_mylu/All_mylu_sites1.txt -out /local/home/sarahgw/WGS/SNPS/All_mylu_postv "
   ]
  },
  {
   "cell_type": "code",
   "execution_count": null,
   "metadata": {
    "collapsed": true
   },
   "outputs": [],
   "source": []
  },
  {
   "cell_type": "markdown",
   "metadata": {},
   "source": [
    "Make pca from geno prob"
   ]
  },
  {
   "cell_type": "code",
   "execution_count": null,
   "metadata": {
    "collapsed": true
   },
   "outputs": [],
   "source": [
    "gunzip /local/home/sarahgw/WGS/SNPS/All_mylu/genoprob/All_mylu.geno.gz"
   ]
  },
  {
   "cell_type": "code",
   "execution_count": null,
   "metadata": {
    "collapsed": true
   },
   "outputs": [],
   "source": [
    "~/ngsTools/ngsPopGen/ngsCovar -probfile /local/home/sarahgw/WGS/SNPS/All_mylu/genoprob/All_mylu.geno.gz -outfile /local/home/sarahgw/WGS/SNPS/All_mylu_post.geno -nind 132 -nsites 92371964 -call 0 -norm 0 &> /dev/null"
   ]
  },
  {
   "cell_type": "code",
   "execution_count": 1,
   "metadata": {
    "collapsed": false
   },
   "outputs": [
    {
     "name": "stdout",
     "output_type": "stream",
     "text": [
      "NJ_E_01_pairedplus_marked_dupes.bam\n",
      "NJ_E_02_pairedplus_marked_dupes.bam\n",
      "NJ_E_04_pairedplus_marked_dupes.bam\n",
      "NJ_E_23_pairedplus_marked_dupes.bam\n",
      "NJ_E_24_pairedplus_marked_dupes.bam\n",
      "NJ_E_25_pairedplus_marked_dupes.bam\n",
      "NJ_E_26_pairedplus_marked_dupes.bam\n",
      "NJ_E_28_pairedplus_marked_dupes.bam\n",
      "NJ_E_29_pairedplus_marked_dupes.bam\n",
      "NJ_E_30_pairedplus_marked_dupes.bam\n",
      "NJ_E_05_pairedplus_marked_dupes.bam\n",
      "NJ_E_06_pairedplus_marked_dupes.bam\n",
      "NJ_E_07_pairedplus_marked_dupes.bam\n",
      "NJ_E_08_pairedplus_marked_dupes.bam\n",
      "NJ_E_10_pairedplus_marked_dupes.bam\n",
      "NJ_E_22_pairedplus_marked_dupes.bam\n",
      "NJ_E_13_pairedplus_marked_dupes.bam\n",
      "NJ_E_14_pairedplus_marked_dupes.bam\n",
      "NJ_E_15_pairedplus_marked_dupes.bam\n",
      "NJ_E_16_pairedplus_marked_dupes.bam\n",
      "NJ_E_18_pairedplus_marked_dupes.bam\n",
      "NJ_E_21_pairedplus_marked_dupes.bam\n",
      "NJ_U_01_pairedplus_marked_dupes.bam\n",
      "NJ_U_02_pairedplus_marked_dupes.bam\n",
      "NJ_U_03_pairedplus_marked_dupes.bam\n",
      "NJ_U_05_pairedplus_marked_dupes.bam\n",
      "NJ_U_06_pairedplus_marked_dupes.bam\n",
      "NJ_U_08_pairedplus_marked_dupes.bam\n",
      "NJ_U_09_pairedplus_marked_dupes.bam\n",
      "NJ_U_10_pairedplus_marked_dupes.bam\n",
      "NJ_U_11_pairedplus_marked_dupes.bam\n",
      "NJ_U_12_pairedplus_marked_dupes.bam\n",
      "NJ_U_15_pairedplus_marked_dupes.bam\n",
      "NJ_U_16_pairedplus_marked_dupes.bam\n",
      "NJ_U_21_pairedplus_marked_dupes.bam\n",
      "NJ_U_22_pairedplus_marked_dupes.bam\n",
      "NJ_U_23_pairedplus_marked_dupes.bam\n",
      "NJ_U_25_pairedplus_marked_dupes.bam\n",
      "NJ_U_07_pairedplus_marked_dupes.bam\n",
      "NJ_U_17_pairedplus_marked_dupes.bam\n",
      "NJ_U_18_pairedplus_marked_dupes.bam\n",
      "NJ_U_19_pairedplus_marked_dupes.bam\n",
      "NY_E_15_pairedplus_marked_dupes.bam\n",
      "NY_E_16_pairedplus_marked_dupes.bam\n",
      "NY_E_17_pairedplus_marked_dupes.bam\n",
      "NY_E_18_pairedplus_marked_dupes.bam\n",
      "NY_E_27_pairedplus_marked_dupes.bam\n",
      "NY_E_28_pairedplus_marked_dupes.bam\n",
      "NY_E_29_pairedplus_marked_dupes.bam\n",
      "NY_E_30_pairedplus_marked_dupes.bam\n",
      "NY_E_19_pairedplus_marked_dupes.bam\n",
      "NY_E_21_pairedplus_marked_dupes.bam\n",
      "NY_E_22_pairedplus_marked_dupes.bam\n",
      "NY_E_23_pairedplus_marked_dupes.bam\n",
      "NY_E_25_pairedplus_marked_dupes.bam\n",
      "NY_E_03_pairedplus_marked_dupes.bam\n",
      "NY_E_04_pairedplus_marked_dupes.bam\n",
      "NY_E_05_pairedplus_marked_dupes.bam\n",
      "NY_E_06_pairedplus_marked_dupes.bam\n",
      "NY_E_07_pairedplus_marked_dupes.bam\n",
      "NY_E_08_pairedplus_marked_dupes.bam\n",
      "NY_E_09_pairedplus_marked_dupes.bam\n",
      "NY_E_10_pairedplus_marked_dupes.bam\n",
      "NY_U_10_pairedplus_marked_dupes.bam\n",
      "NY_U_11_pairedplus_marked_dupes.bam\n",
      "NY_U_12_pairedplus_marked_dupes.bam\n",
      "NY_U_14_pairedplus_marked_dupes.bam\n",
      "NY_U_15_pairedplus_marked_dupes.bam\n",
      "NY_U_16_pairedplus_marked_dupes.bam\n",
      "NY_U_18_pairedplus_marked_dupes.bam\n",
      "NY_U_19_pairedplus_marked_dupes.bam\n",
      "NY_U_21_pairedplus_marked_dupes.bam\n",
      "NY_U_23_pairedplus_marked_dupes.bam\n",
      "NY_U_25_pairedplus_marked_dupes.bam\n",
      "NY_U_26_pairedplus_marked_dupes.bam\n",
      "NY_U_27_pairedplus_marked_dupes.bam\n",
      "NY_U_28_pairedplus_marked_dupes.bam\n",
      "NY_U_30_pairedplus_marked_dupes.bam\n",
      "NY_U_01_pairedplus_marked_dupes.bam\n",
      "NY_U_02_pairedplus_marked_dupes.bam\n",
      "NY_U_03_pairedplus_marked_dupes.bam\n",
      "NY_U_04_pairedplus_marked_dupes.bam\n",
      "NY_U_05_pairedplus_marked_dupes.bam\n",
      "NY_U_06_pairedplus_marked_dupes.bam\n",
      "NY_U_07_pairedplus_marked_dupes.bam\n",
      "VT_E_10_pairedplus_marked_dupes.bam\n",
      "VT_E_11_pairedplus_marked_dupes.bam\n",
      "VT_E_12_pairedplus_marked_dupes.bam\n",
      "VT_E_13_pairedplus_marked_dupes.bam\n",
      "VT_E_14_pairedplus_marked_dupes.bam\n",
      "VT_E_15_pairedplus_marked_dupes.bam\n",
      "VT_E_16_pairedplus_marked_dupes.bam\n",
      "VT_E_17_pairedplus_marked_dupes.bam\n",
      "VT_E_26_pairedplus_marked_dupes.bam\n",
      "VT_E_28_pairedplus_marked_dupes.bam\n",
      "VT_E_29_pairedplus_marked_dupes.bam\n",
      "VT_E_30_pairedplus_marked_dupes.bam\n",
      "VT_E_01_pairedplus_marked_dupes.bam\n",
      "VT_E_25_pairedplus_marked_dupes.bam\n",
      "VT_E_18_pairedplus_marked_dupes.bam\n",
      "VT_E_19_pairedplus_marked_dupes.bam\n",
      "VT_E_21_pairedplus_marked_dupes.bam\n",
      "VT_E_22_pairedplus_marked_dupes.bam\n",
      "VT_E_24_pairedplus_marked_dupes.bam\n",
      "VT_E_02_pairedplus_marked_dupes.bam\n",
      "VT_E_03_pairedplus_marked_dupes.bam\n",
      "VT_E_04_pairedplus_marked_dupes.bam\n",
      "VT_E_05_pairedplus_marked_dupes.bam\n",
      "VT_E_06_pairedplus_marked_dupes.bam\n",
      "VT_E_07_pairedplus_marked_dupes.bam\n",
      "VT_E_08_pairedplus_marked_dupes.bam\n",
      "VT_E_09_pairedplus_marked_dupes.bam\n",
      "VT_U_09_pairedplus_marked_dupes.bam\n",
      "VT_U_10_pairedplus_marked_dupes.bam\n",
      "VT_U_11_pairedplus_marked_dupes.bam\n",
      "VT_U_01_pairedplus_marked_dupes.bam\n",
      "VT_U_02_pairedplus_marked_dupes.bam\n",
      "VT_U_27_pairedplus_marked_dupes.bam\n",
      "VT_U_29_pairedplus_marked_dupes.bam\n",
      "VT_U_31_pairedplus_marked_dupes.bam\n",
      "VT_U_20_pairedplus_marked_dupes.bam\n",
      "VT_U_22_pairedplus_marked_dupes.bam\n",
      "VT_U_25_pairedplus_marked_dupes.bam\n",
      "VT_U_26_pairedplus_marked_dupes.bam\n",
      "VT_U_12_pairedplus_marked_dupes.bam\n",
      "VT_U_14_pairedplus_marked_dupes.bam\n",
      "VT_U_15_pairedplus_marked_dupes.bam\n",
      "VT_U_17_pairedplus_marked_dupes.bam\n",
      "VT_U_19_pairedplus_marked_dupes.bam\n",
      "VT_U_33_pairedplus_marked_dupes.bam\n",
      "VT_U_37_pairedplus_marked_dupes.bam\n",
      "VT_U_40_pairedplus_marked_dupes.bam\n"
     ]
    }
   ],
   "source": [
    "!head -n 132 /local/home/sarahgw/WGS/Sequences/filelists/All_Mylu.filelist"
   ]
  },
  {
   "cell_type": "code",
   "execution_count": 2,
   "metadata": {
    "collapsed": false
   },
   "outputs": [],
   "source": [
    "!Rscript -e 'write.table(cbind(seq(1,132),rep(1,132),c(rep(\"NJ_E\",22),rep(\"NJ_U\",20),rep(\"NY_E\",21), rep(\"NY_U\",22), rep(\"VT_E\",27), rep(\"VT_U\",20))), row.names=F, sep=\"\\t\", col.names=c(\"FID\",\"IID\",\"CLUSTER\"), file=\"/local/home/sarahgw/WGS/SNPS/All_mylu/genoprob/ALL_mylu.clst\", quote=F)'"
   ]
  },
  {
   "cell_type": "code",
   "execution_count": 4,
   "metadata": {
    "collapsed": false
   },
   "outputs": [
    {
     "name": "stdout",
     "output_type": "stream",
     "text": [
      "123\t1\tVT_U\r\n",
      "124\t1\tVT_U\r\n",
      "125\t1\tVT_U\r\n",
      "126\t1\tVT_U\r\n",
      "127\t1\tVT_U\r\n",
      "128\t1\tVT_U\r\n",
      "129\t1\tVT_U\r\n",
      "130\t1\tVT_U\r\n",
      "131\t1\tVT_U\r\n",
      "132\t1\tVT_U\r\n"
     ]
    }
   ],
   "source": [
    "!tail /local/home/sarahgw/WGS/SNPS/All_mylu/genoprob/ALL_mylu.clst"
   ]
  },
  {
   "cell_type": "code",
   "execution_count": 2,
   "metadata": {
    "collapsed": false
   },
   "outputs": [
    {
     "name": "stdout",
     "output_type": "stream",
     "text": [
      "1.9 1.64 1.56 1.49 1.41 1.35 1.3 1.29 1.24 1.23 1.18 1.16 1.14 1.13 1.12 1.11 1.1 1.08 1.07 1.06 1.05 1.04 1.04 1.02 1.01 1.01 1 0.992 0.985 0.968 0.965 0.958 0.957 0.955 0.951 0.948 0.938 0.929 0.927 0.921 0.917 0.911 0.901 0.892 0.887 0.883 0.878 0.872 0.867 0.864 0.861 0.86 0.858 0.844 0.838 0.817 0.795 0.787 0.783 0.78 0.772 0.766 0.761 0.753 0.751 0.74 0.73 0.724 0.714 0.702 0.697 0.695 0.687 0.678 0.669 0.655 0.647 0.644 0.637 0.631 0.624 0.618 0.618 0.616 0.611 0.605 0.6 0.594 0.589 0.582 0.575 0.57 0.564 0.559 0.553 0.544 0.534 0.532 0.528 0.524 0.521 0.517 0.513 0.504 0.499 0.494 0.488 0.476 0.466 0.457 0.45 0.446 0.443 0.422 0.41 0.398 0.384 0.372 0.364 0.354 0.339 0.329 0.324 0.319 0.31 0.293 0.284 0.27 0.248 0.246 0.244 0.000714 \n",
      "Saving 7 x 7 in image\n"
     ]
    }
   ],
   "source": [
    "!Rscript /local/home/sarahgw/ngsTools/Scripts/plotPCA.R -i /local/home/sarahgw/WGS/SNPS/All_mylu/genoprob/All_mylu.covar -c 1-2 -a /local/home/sarahgw/WGS/SNPS/All_mylu/genoprob/ALL_mylu.clst -o /local/home/sarahgw/WGS/SNPS/All_mylu/genoprob/ALL_mylu.pca.pdf"
   ]
  },
  {
   "cell_type": "code",
   "execution_count": 4,
   "metadata": {
    "collapsed": false
   },
   "outputs": [
    {
     "data": {
      "image/png": "[encoded data removed]",
      "text/plain": [
       "<wand.image.Image: cf7ca84 'PDF' (503x503)>"
      ]
     },
     "execution_count": 4,
     "metadata": {},
     "output_type": "execute_result"
    }
   ],
   "source": [
    "from wand.image import Image as WImage\n",
    "img = WImage(filename='/local/home/sarahgw/WGS/SNPS/All_mylu/genoprob/ALL_mylu.pca.pdf')\n",
    "img"
   ]
  },
  {
   "cell_type": "markdown",
   "metadata": {
    "collapsed": true
   },
   "source": []
  },
  {
   "cell_type": "code",
   "execution_count": null,
   "metadata": {
    "collapsed": true
   },
   "outputs": [],
   "source": []
  },
  {
   "cell_type": "code",
   "execution_count": null,
   "metadata": {
    "collapsed": true
   },
   "outputs": [],
   "source": []
  },
  {
   "cell_type": "code",
   "execution_count": null,
   "metadata": {
    "collapsed": true
   },
   "outputs": [],
   "source": []
  },
  {
   "cell_type": "markdown",
   "metadata": {},
   "source": [
    "look for associations for each group.\n",
    "Paper on method for determining associations: https://bmcbioinformatics.biomedcentral.com/articles/10.1186/1471-2105-12-231"
   ]
  },
  {
   "cell_type": "code",
   "execution_count": null,
   "metadata": {
    "collapsed": true
   },
   "outputs": [],
   "source": []
  },
  {
   "cell_type": "code",
   "execution_count": null,
   "metadata": {
    "collapsed": false,
    "scrolled": true
   },
   "outputs": [],
   "source": [
    "sed -e 's/NJ_E_.._pairedplus_marked_dupes.bam/1/g' -e 's/NJ_U_.._pairedplus_marked_dupes.bam/0/g' NJ.filelist > NJ_pheno.ybin"
   ]
  },
  {
   "cell_type": "code",
   "execution_count": null,
   "metadata": {
    "collapsed": true
   },
   "outputs": [],
   "source": [
    "sed -e 's/NY_E_.._pairedplus_marked_dupes.bam/1/g' -e 's/NY_U_.._pairedplus_marked_dupes.bam/0/g' NY.filelist > NY_pheno.ybin"
   ]
  },
  {
   "cell_type": "code",
   "execution_count": null,
   "metadata": {
    "collapsed": true
   },
   "outputs": [],
   "source": [
    "sed -e 's/VT_E_.._pairedplus_marked_dupes.bam/1/g' -e 's/VT_U_.._pairedplus_marked_dupes.bam/0/g' VT.filelist > VT_pheno.ybin"
   ]
  },
  {
   "cell_type": "code",
   "execution_count": null,
   "metadata": {
    "collapsed": false,
    "scrolled": true
   },
   "outputs": [],
   "source": [
    "!awk {print} /local/home/sarahgw/WGS/Sequences/filelists/VT_pheno.ybin"
   ]
  },
  {
   "cell_type": "code",
   "execution_count": null,
   "metadata": {
    "collapsed": false
   },
   "outputs": [],
   "source": [
    "!wc -l /local/home/sarahgw/WGS/Sequences/filelists/NJ_pheno.ybin"
   ]
  },
  {
   "cell_type": "code",
   "execution_count": null,
   "metadata": {
    "collapsed": true
   },
   "outputs": [],
   "source": [
    "/local/home/sarahgw/angsd/angsd -yBin /local/home/sarahgw/WGS/Sequences/filelists/NJ_pheno.ybin -doAsso 1 -GL 1 -out NJ_assoc -doMajorMinor 1 -doMaf 1 -minQ 20 -minMapQ 30 -SNP_pval 1e-6 -bam /local/home/sarahgw/WGS/Sequences/filelists/NJ.filelist -P 15"
   ]
  },
  {
   "cell_type": "code",
   "execution_count": null,
   "metadata": {
    "collapsed": true
   },
   "outputs": [],
   "source": [
    "/local/home/sarahgw/angsd/angsd -yBin /local/home/sarahgw/WGS/Sequences/filelists/NY_pheno.ybin -doAsso 1 -GL 1 -out NY_assoc -doMajorMinor 1 -doMaf 1 -minQ 20 -minMapQ 30 -SNP_pval 1e-6 -bam /local/home/sarahgw/WGS/Sequences/filelists/NY.filelist -P 15"
   ]
  },
  {
   "cell_type": "code",
   "execution_count": null,
   "metadata": {
    "collapsed": true
   },
   "outputs": [],
   "source": [
    "/local/home/sarahgw/angsd/angsd -yBin /local/home/sarahgw/WGS/Sequences/filelists/VT_pheno.ybin -doAsso 1 -GL 1 -out VT_assoc -doMajorMinor 1 -doMaf 1 -minQ 20 -minMapQ 30 -SNP_pval 1e-6 -bam /local/home/sarahgw/WGS/Sequences/filelists/VT.filelist -P 15; echo \"VT Assoc done amphiprion\" | mailx gw.sarah@gmail.com"
   ]
  },
  {
   "cell_type": "markdown",
   "metadata": {},
   "source": [
    "ok so if this is true:\n",
    "The likelihood ratio statistic. This statistic is chi square distributed with one degree of freedom\n",
    "Then that means p less than 0.05 is greater than 3.84\n",
    "\n",
    "Right, but you need to do a p adjustment to deal with false positives. Ok, so let's take it into R and calculate p value and correct. \n",
    "Wait, maybe this is already accounting for false positives, paper seems to indicate that, no mention of correcting? Oh, so for standard GWAS there is a set significance thresholde of 5 x 10 ^ -8"
   ]
  },
  {
   "cell_type": "code",
   "execution_count": null,
   "metadata": {
    "collapsed": true
   },
   "outputs": [],
   "source": [
    "!gunzip /local/home/sarahgw/WGS/SNPS/All_mylu/NJ_assoc.lrt0.gz\n",
    "!gunzip /local/home/sarahgw/WGS/SNPS/All_mylu/NJ_assoc.mafs.gz\n",
    "!gunzip /local/home/sarahgw/WGS/SNPS/All_mylu/NY_assoc.lrt0.gz\n",
    "!gunzip /local/home/sarahgw/WGS/SNPS/All_mylu/VT_assoc.lrt0.gz"
   ]
  },
  {
   "cell_type": "markdown",
   "metadata": {
    "collapsed": true
   },
   "source": [
    "Going to just try calculating sample allele frequency for snps for two populations, then I can maybe just look for highest changes in allele frequency like they did in tasmanian devil paper: https://www.nature.com/articles/ncomms12684#methods\n",
    "Fitst, need to make indexes from list of snps so that you can input them as -sites file."
   ]
  },
  {
   "cell_type": "code",
   "execution_count": null,
   "metadata": {
    "collapsed": true
   },
   "outputs": [],
   "source": [
    "/local/home/sarahgw/angsd/misc/realSFS print NJ_E.saf.idx NJ_U.saf.idx -r GL429767:6000000-6000100 > NJSaf_test"
   ]
  },
  {
   "cell_type": "code",
   "execution_count": null,
   "metadata": {
    "collapsed": false,
    "scrolled": true
   },
   "outputs": [],
   "source": [
    "!awk '{print NF; exit}' /local/home/sarahgw/WGS/SNPS/All_mylu/NJSaf_test "
   ]
  },
  {
   "cell_type": "markdown",
   "metadata": {},
   "source": [
    "Let's try doing doMaf-0 to see if that will give us allele frequencies? No, there is no output"
   ]
  },
  {
   "cell_type": "markdown",
   "metadata": {},
   "source": [
    "Okay, now let's calculate the posterior genotype probabilities In order to do that we first need to do sfs with E and U separately. Since I'm not doing the whole thing, need to take first line make new sfs file, remember folded sfs has half as many categories as unfolded sfs"
   ]
  },
  {
   "cell_type": "code",
   "execution_count": null,
   "metadata": {
    "collapsed": true
   },
   "outputs": [],
   "source": [
    "~/angsd/misc/realSFS -P 20 NJ_E.saf.idx -nsites 1000000000 > NJ_E_sub.ml"
   ]
  },
  {
   "cell_type": "code",
   "execution_count": null,
   "metadata": {
    "collapsed": true
   },
   "outputs": [],
   "source": [
    "~/angsd/misc/realSFS -P 20 NJ_U.saf.idx -nsites 1000000000 > NJ_U_sub.ml"
   ]
  },
  {
   "cell_type": "code",
   "execution_count": null,
   "metadata": {
    "collapsed": true
   },
   "outputs": [],
   "source": [
    "./angsd -dopost 3 -b list -gl 1 -domajorminor 1 -domaf 1 -pest angsdput.saf.idx.ml -dogeno 2 -r 1 -out angsdput2"
   ]
  },
  {
   "cell_type": "code",
   "execution_count": null,
   "metadata": {
    "collapsed": true
   },
   "outputs": [],
   "source": [
    "~/angsd/angsd -dopost 3 -fold 1 -anc /local/home/sarahgw/references/Myotis_Lucifugus2.0/Myotis_lucifugus.Myoluc2.0.dna_sm.toplevel.fa -P 10 -b /local/home/sarahgw/WGS/Sequences/filelists/NJ_U.filelist \n",
    "-gl 1 -domajorminor 1 -domaf 1 -pest /local/home/sarahgw/WGS/SNPS/All_mylu/NJ_U_sub1.ml -minMapQ 30 -minQ 20 -dogeno 2 -out NJ_U_posterior"
   ]
  },
  {
   "cell_type": "code",
   "execution_count": null,
   "metadata": {
    "collapsed": true
   },
   "outputs": [],
   "source": [
    "~/angsd/angsd -P 10 -b /local/home/sarahgw/WGS/Sequences/filelists/NJ_E.filelist -fold 1 -anc /local/home/sarahgw/references/Myotis_Lucifugus2.0/Myotis_lucifugus.Myoluc2.0.dna_sm.toplevel.fa -dopost -sfs NJ_U_sub.ml -gl 1 -minMapQ 30 -minQ 20 -doMajorMinor 1 -out NJ_E_posterior"
   ]
  }
 ],
 "metadata": {
  "anaconda-cloud": {},
  "kernelspec": {
   "display_name": "Python [conda root]",
   "language": "python",
   "name": "conda-root-py"
  },
  "language_info": {
   "codemirror_mode": {
    "name": "ipython",
    "version": 2
   },
   "file_extension": ".py",
   "mimetype": "text/x-python",
   "name": "python",
   "nbconvert_exporter": "python",
   "pygments_lexer": "ipython2",
   "version": "2.7.12"
  }
 },
 "nbformat": 4,
 "nbformat_minor": 1
}
