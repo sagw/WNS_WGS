{
 "cells": [
  {
   "cell_type": "markdown",
   "metadata": {},
   "source": [
    "# 1. Before calling snps, we need to filter the data more. \n",
    "## First identify sites with low mappability and exclude them from snps\n"
   ]
  },
  {
   "cell_type": "code",
   "execution_count": null,
   "metadata": {
    "collapsed": true
   },
   "outputs": [],
   "source": [
    "gem-indexer -i /local/home/sarahgw/references/Myotis_lucifugus.Myoluc2.0.dna_sm.toplevel.fas -o /local/home/sarahgw/references/Myotis_lucifugus.Myoluc2.0"
   ]
  },
  {
   "cell_type": "code",
   "execution_count": null,
   "metadata": {
    "collapsed": true
   },
   "outputs": [],
   "source": [
    "gem-mappability -I /local/home/sarahgw/references/Myotis_lucifugus.Myoluc2.0.gem -l 140 -o /local/home/sarahgw/WGS/QC/Map -T 20"
   ]
  },
  {
   "cell_type": "code",
   "execution_count": null,
   "metadata": {
    "collapsed": true
   },
   "outputs": [],
   "source": [
    "gem-2-wig -i Map.mappability -I ~/references/Myotis_lucifugus.Myoluc2.0.gem -o Map"
   ]
  },
  {
   "cell_type": "code",
   "execution_count": 1,
   "metadata": {},
   "outputs": [
    {
     "name": "stdout",
     "output_type": "stream",
     "text": [
      "variableStep\tchrom=GL429767 dna_sm\tspan=4317\r\n",
      "1\t1\r\n",
      "variableStep\tchrom=GL429767 dna_sm\tspan=5\r\n",
      "4318\t0.5\r\n",
      "variableStep\tchrom=GL429767 dna_sm\r\n",
      "4323\t0.0771517\r\n",
      "4324\t0.133631\r\n",
      "4325\t0.5\r\n",
      "4326\t0.0771517\r\n",
      "variableStep\tchrom=GL429767 dna_sm\tspan=6\r\n"
     ]
    }
   ],
   "source": [
    "!head /local/home/sarahgw/WGS/QC/Map.wig"
   ]
  },
  {
   "cell_type": "markdown",
   "metadata": {},
   "source": [
    "Turn this wig file into a filter file for angsd. "
   ]
  },
  {
   "cell_type": "code",
   "execution_count": 28,
   "metadata": {
    "collapsed": true
   },
   "outputs": [],
   "source": [
    "f=open('/local/home/sarahgw/WGS/QC/Map.wig', 'r')\n",
    "o=open('/local/home/sarahgw/WGS/QC/All_mylu_Map1.txt', 'w')\n",
    "\n",
    "line = \" \"\n",
    "while True:\n",
    "    line = f.readline()\n",
    "    if not line:\n",
    "        break\n",
    "        \n",
    "    if line.startswith(\"variableStep\"):\n",
    "        desc = line.split()\n",
    "        chrom = desc[1].split('=')[1]\n",
    "        span = None if 'span' not in desc[-1] else int(desc[-1].split('=')[1])\n",
    "    else:\n",
    "        data = line.split()\n",
    "        val = int(data[0])\n",
    "        if float(data[1]) == 1:\n",
    "            if span:\n",
    "                newline = \"{}:{}-{}\\n\".format(chrom, val, span+val)\n",
    "            else:\n",
    "                newline = \"{}:{}\\n\".format(chrom, val)\n",
    "            o.write(newline)\n",
    "\n",
    "f.close()\n",
    "o.close()"
   ]
  },
  {
   "cell_type": "code",
   "execution_count": 15,
   "metadata": {},
   "outputs": [
    {
     "name": "stdout",
     "output_type": "stream",
     "text": [
      "GL429767:1-4318\r\n"
     ]
    }
   ],
   "source": [
    "!head -n 1 /local/home/sarahgw/WGS/QC/All_mylu_Map1.txt"
   ]
  },
  {
   "cell_type": "code",
   "execution_count": 9,
   "metadata": {},
   "outputs": [
    {
     "data": {
      "text/plain": [
       "1739971618"
      ]
     },
     "execution_count": 9,
     "metadata": {},
     "output_type": "execute_result"
    }
   ],
   "source": [
    "f=open('/local/home/sarahgw/WGS/QC/All_mylu_Map1.txt', 'r')\n",
    "total=0\n",
    "for line in f:\n",
    "    chrom=line.split(':')\n",
    "    data=chrom[1]\n",
    "    if '-' not in data :\n",
    "        num=1\n",
    "    else: \n",
    "        sub=data.split('-')\n",
    "        num=int(sub[1])-int(sub[0])\n",
    "    total+=num\n",
    "total"
   ]
  },
  {
   "cell_type": "markdown",
   "metadata": {},
   "source": [
    "1,739,971,618\n",
    "so 1.7 GB are mappable score of 1. out of 2.2\n",
    "\n",
    "Limit depth calculation to mappable regions"
   ]
  },
  {
   "cell_type": "code",
   "execution_count": null,
   "metadata": {
    "collapsed": true
   },
   "outputs": [],
   "source": [
    "/local/home/sarahgw/angsd/angsd/angsd -b /local/home/sarahgw/WGS/Sequences/filelists/All_Mylu.filelist -rf /local/home/sarahgw/WGS/QC/All_mylu_Map1.txt -minMapQ 30 -minQ 20 -doCounts 1 -doDepth 1 -maxDepth 1000 -out /local/home/sarahgw/WGS/QC/All_mylu_depth_summary1000 -P 20"
   ]
  },
  {
   "cell_type": "markdown",
   "metadata": {},
   "source": [
    "Make plot using ryan's code"
   ]
  },
  {
   "cell_type": "code",
   "execution_count": 8,
   "metadata": {},
   "outputs": [
    {
     "data": {
      "text/plain": [
       "(0, 101)"
      ]
     },
     "execution_count": 8,
     "metadata": {},
     "output_type": "execute_result"
    },
    {
     "data": {
      "image/png": "[encoded data removed]",
      "text/plain": [
       "<matplotlib.figure.Figure at 0x7ffadc94d710>"
      ]
     },
     "metadata": {},
     "output_type": "display_data"
    }
   ],
   "source": [
    "import numpy as np\n",
    "import matplotlib.pyplot as plt\n",
    "depth = np.loadtxt('/local/home/sarahgw/WGS/QC/All_mylu_depth_summary.depthGlobal', dtype='int')\n",
    "fix, ax = plt.subplots(1, figsize = (16, 10))\n",
    "ax.bar(range(len(depth)), depth, align = 'center')\n",
    "plt.xlim(0, 101)"
   ]
  },
  {
   "cell_type": "code",
   "execution_count": null,
   "metadata": {
    "collapsed": true
   },
   "outputs": [],
   "source": [
    "for file in $ls; do samtools index $file; done"
   ]
  },
  {
   "cell_type": "markdown",
   "metadata": {},
   "source": [
    "look to see if snps of interest are in regions of low mappability (No)"
   ]
  },
  {
   "cell_type": "markdown",
   "metadata": {},
   "source": [
    "# 2. Redoing SNP calling \n",
    "limit to areas with high scores of mappability, limit depth to 1320 (10x depth in every individual)"
   ]
  },
  {
   "cell_type": "code",
   "execution_count": null,
   "metadata": {
    "collapsed": true
   },
   "outputs": [],
   "source": [
    "~/angsd/angsd/angsd -b /local/home/sarahgw/WGS/Sequences/filelists/All_Mylu.filelist -GL 1 -doMajorMinor 1 -doMaf 1 -doCounts 1 -minQ 20 -minMapQ 30 -SNP_pval 1e-6 -minInd 68 -setMaxDepth 1320 -rf /local/home/sarahgw/WGS/QC/All_mylu_Map1.txt -out /local/home/sarahgw/WGS/SNPS/All_mylu/snps/All_mylu_snps_filt -P 20"
   ]
  },
  {
   "cell_type": "markdown",
   "metadata": {},
   "source": [
    "## Calculate genotype likelihoods in beagle format for input into pcangsd"
   ]
  },
  {
   "cell_type": "code",
   "execution_count": null,
   "metadata": {
    "collapsed": true
   },
   "outputs": [],
   "source": [
    "~/angsd/angsd/angsd -b /local/home/sarahgw/WGS/Sequences/filelists/All_Mylu.filelist -GL 1 -doGlf 2 -doMajorMinor 1 -doMaf 1 -doCounts 1 -minQ 20 -minMapQ 30 -SNP_pval 1e-6 -minInd 68 -setMaxDepth 1320 -rf /local/home/sarahgw/WGS/QC/All_mylu_Map1.txt -out /local/home/sarahgw/WGS/SNPS/All_mylu/genolike/All_mylu_gl_filt -P 10"
   ]
  },
  {
   "cell_type": "code",
   "execution_count": null,
   "metadata": {
    "collapsed": true
   },
   "outputs": [],
   "source": [
    "python /local/home/sarahgw/pcangsd/pcangsd.py -beagle /local/home/sarahgw/WGS/SNPS/All_mylu/genolike/All_mylu_gl_filt.beagle.gz -n 132 -o /local/home/sarahgw/WGS/SNPS/All_mylu/genolike/All_mylu_gl_filt -threads 10"
   ]
  },
  {
   "cell_type": "markdown",
   "metadata": {},
   "source": [
    "## Now calculate minor allele frequencies for each population for SNPS \n",
    "\n",
    "first make sites index file\n",
    "\n",
    "Include major and minor, so that these are consistent across populations, even if not accurate in a given (sub)population"
   ]
  },
  {
   "cell_type": "code",
   "execution_count": 2,
   "metadata": {
    "collapsed": true
   },
   "outputs": [],
   "source": [
    "!gunzip /local/home/sarahgw/WGS/SNPS/All_mylu/All_mylu.mafs.gz"
   ]
  },
  {
   "cell_type": "code",
   "execution_count": 1,
   "metadata": {
    "collapsed": true
   },
   "outputs": [],
   "source": [
    "!cut -f1-4 /local/home/sarahgw/WGS/SNPS/All_mylu/snps/All_mylu_snps_filt.mafs > /local/home/sarahgw/WGS/SNPS/All_mylu/snps/All_mylu_snps_filt_sites.txt"
   ]
  },
  {
   "cell_type": "code",
   "execution_count": 2,
   "metadata": {},
   "outputs": [
    {
     "name": "stdout",
     "output_type": "stream",
     "text": [
      "44829667 /local/home/sarahgw/WGS/SNPS/All_mylu/snps/All_mylu_snps_filt.mafs\r\n"
     ]
    }
   ],
   "source": [
    "!wc -l /local/home/sarahgw/WGS/SNPS/All_mylu/snps/All_mylu_snps_filt.mafs"
   ]
  },
  {
   "cell_type": "code",
   "execution_count": 15,
   "metadata": {},
   "outputs": [
    {
     "name": "stdout",
     "output_type": "stream",
     "text": [
      "chromo\tposition\tmajor\tminor\tknownEM\tpK-EM\tnInd\r\n",
      "GL429767\t78\tG\tA\t0.038942\t0.000000e+00\t73\r\n",
      "GL429767\t104\tA\tT\t0.099900\t0.000000e+00\t71\r\n",
      "GL429767\t112\tG\tA\t0.009628\t2.170143e-09\t73\r\n",
      "GL429767\t195\tC\tT\t0.049670\t0.000000e+00\t87\r\n",
      "GL429767\t196\tT\tC\t0.082842\t0.000000e+00\t86\r\n",
      "GL429767\t202\tA\tG\t0.234427\t0.000000e+00\t87\r\n",
      "GL429767\t295\tA\tT\t0.076318\t0.000000e+00\t84\r\n",
      "GL429767\t317\tG\tA\t0.184128\t0.000000e+00\t88\r\n",
      "GL429767\t324\tT\tA\t0.244735\t0.000000e+00\t90\r\n"
     ]
    }
   ],
   "source": [
    "!head /local/home/sarahgw/WGS/SNPS/All_mylu/snps/All_mylu_snps_filt.mafs"
   ]
  },
  {
   "cell_type": "code",
   "execution_count": 16,
   "metadata": {},
   "outputs": [
    {
     "name": "stdout",
     "output_type": "stream",
     "text": [
      "chromo\tposition\tmajor\tminor\tknownEM\tunknownEM\tphat\tpK-EM\tpu-EM\tnInd\r\n",
      "GL429767\t54\tG\tT\t0.010604\t0.003561\t0.010596\t1.780614e-05\t8.907360e-05\t132\r\n",
      "GL429767\t78\tG\tA\t0.038947\t0.038947\t0.048613\t0.000000e+00\t0.000000e+00\t132\r\n",
      "GL429767\t83\tG\tT\t0.009379\t0.003079\t0.009519\t7.572331e-03\t4.047936e-02\t132\r\n",
      "GL429767\t104\tA\tT\t0.099904\t0.099904\t0.112676\t0.000000e+00\t0.000000e+00\t132\r\n",
      "GL429767\t109\tT\tC\t0.008437\t0.006854\t0.003124\t7.962769e-02\t2.694076e-01\t132\r\n",
      "GL429767\t112\tG\tA\t0.009633\t0.004939\t0.014536\t2.170143e-09\t8.087610e-09\t132\r\n",
      "GL429767\t157\tT\tC\t0.008590\t0.008094\t0.005589\t2.282445e-02\t7.836519e-02\t132\r\n",
      "GL429767\t184\tC\tG\t0.008224\t0.002742\t0.003536\t1.670660e-04\t8.589729e-04\t132\r\n",
      "GL429767\t189\tG\tT\t0.007934\t0.007740\t0.007856\t9.091749e-03\t3.092228e-02\t132\r\n"
     ]
    }
   ],
   "source": [
    "!head /local/home/sarahgw/WGS/SNPS/All_mylu/mafs/All_mylu.mafs"
   ]
  },
  {
   "cell_type": "markdown",
   "metadata": {},
   "source": [
    "So, we now have 44,829,667 SNPs!"
   ]
  },
  {
   "cell_type": "code",
   "execution_count": 3,
   "metadata": {
    "collapsed": true
   },
   "outputs": [],
   "source": [
    "!tail -n+2 /local/home/sarahgw/WGS/SNPS/All_mylu/snps/All_mylu_snps_filt_sites.txt > /local/home/sarahgw/WGS/SNPS/All_mylu/snps/All_mylu_snps_filt_sites1.txt"
   ]
  },
  {
   "cell_type": "code",
   "execution_count": null,
   "metadata": {
    "collapsed": true
   },
   "outputs": [],
   "source": [
    "~/angsd/angsd/angsd sites index All_mylu_snps_filt_sites1.txt"
   ]
  },
  {
   "cell_type": "code",
   "execution_count": null,
   "metadata": {
    "collapsed": true
   },
   "outputs": [],
   "source": [
    "for POP in NJ_U NY_U VT_U; do echo $POP; ~/angsd/angsd/angsd -b /local/home/sarahgw/WGS/Sequences/filelists/\"$POP\".filelist -GL 1 -doMajorMinor 3 -doMaf 11 -doCounts 1 -minQ 20 -minMapQ 30 -P 30 -setMaxDepth 270 -sites /local/home/sarahgw/WGS/SNPS/All_mylu/snps/All_mylu_snps_filt_sites1.txt -out /local/home/sarahgw/WGS/SNPS/All_mylu/mafs/\"$POP\"_filt; done"
   ]
  },
  {
   "cell_type": "code",
   "execution_count": null,
   "metadata": {
    "collapsed": true
   },
   "outputs": [],
   "source": [
    "for POP in NJ_E NY_E VT_E ; do echo $POP; ~/angsd/angsd/angsd -b /local/home/sarahgw/WGS/Sequences/filelists/\"$POP\".filelist -GL 1 -doMajorMinor 3 -doMaf 11 -doCounts 1 -minQ 20 -minMapQ 30 -P 20 -setMaxDepth 270 -sites /local/home/sarahgw/WGS/SNPS/All_mylu/snps/All_mylu_snps_filt_sites1.txt -out /local/home/sarahgw/WGS/SNPS/All_mylu/mafs/\"$POP\"_filt; done"
   ]
  },
  {
   "cell_type": "markdown",
   "metadata": {},
   "source": [
    "redo VTE mafs"
   ]
  },
  {
   "cell_type": "code",
   "execution_count": null,
   "metadata": {
    "collapsed": true
   },
   "outputs": [],
   "source": [
    "~/angsd/angsd/angsd -b /local/home/sarahgw/WGS/Sequences/filelists/VT_E.filelist -GL 1 -doMajorMinor 3 -doMaf 11 -doCounts 1 -minQ 20 -minMapQ 30 -P 20 -setMaxDepth 270 -sites /local/home/sarahgw/WGS/SNPS/All_mylu/snps/All_mylu_snps_filt_sites1.txt -out /local/home/sarahgw/WGS/SNPS/All_mylu/mafs/VT_E_filt"
   ]
  },
  {
   "cell_type": "code",
   "execution_count": 1,
   "metadata": {
    "collapsed": true
   },
   "outputs": [],
   "source": [
    "!gunzip /local/home/sarahgw/WGS/SNPS/All_mylu/mafs/*_filt.mafs.gz"
   ]
  },
  {
   "cell_type": "code",
   "execution_count": 2,
   "metadata": {},
   "outputs": [
    {
     "name": "stdout",
     "output_type": "stream",
     "text": [
      "   44829593 /local/home/sarahgw/WGS/SNPS/All_mylu/mafs/NJ_E_filt.mafs\n",
      "   44829662 /local/home/sarahgw/WGS/SNPS/All_mylu/mafs/NJ_U_filt.mafs\n",
      "   44829667 /local/home/sarahgw/WGS/SNPS/All_mylu/mafs/NY_E_filt.mafs\n",
      "   44829341 /local/home/sarahgw/WGS/SNPS/All_mylu/mafs/NY_U_filt.mafs\n",
      "   44829648 /local/home/sarahgw/WGS/SNPS/All_mylu/mafs/VT_E_filt.mafs\n",
      "   44828941 /local/home/sarahgw/WGS/SNPS/All_mylu/mafs/VT_U_filt.mafs\n",
      "  268976852 total\n"
     ]
    }
   ],
   "source": [
    "!wc -l /local/home/sarahgw/WGS/SNPS/All_mylu/mafs/*_filt.mafs"
   ]
  },
  {
   "cell_type": "code",
   "execution_count": 5,
   "metadata": {
    "collapsed": true
   },
   "outputs": [],
   "source": [
    "!head /local/home/sarahgw/WGS/SNPS/All_mylu/mafs/NJ_E_filt.mafs > /local/home/sarahgw/WGS/SNPS/All_mylu/mafs/NJ_E_filttest.mafs\n",
    "!head /local/home/sarahgw/WGS/SNPS/All_mylu/snps/All_mylu_snps_filt.mafs > /local/home/sarahgw/WGS/SNPS/All_mylu/snps/All_mylu_snps_filttest.mafs"
   ]
  },
  {
   "cell_type": "code",
   "execution_count": 1,
   "metadata": {},
   "outputs": [
    {
     "name": "stdout",
     "output_type": "stream",
     "text": [
      "3 0\n"
     ]
    }
   ],
   "source": [
    "import traceback\n",
    "\n",
    "#NJE=open('/local/home/sarahgw/WGS/SNPS/All_mylu/mafs/NJ_E_filt.mafs', 'r')\n",
    "#NJU=open('/local/home/sarahgw/WGS/SNPS/All_mylu/mafs/NJ_U_filt.mafs', 'r')\n",
    "#NYE=open('/local/home/sarahgw/WGS/SNPS/All_mylu/mafs/NY_E_filt.mafs', 'r')\n",
    "#NYU=open('/local/home/sarahgw/WGS/SNPS/All_mylu/mafs/NY_U_filt.mafs', 'r')\n",
    "VTE=open('/local/home/sarahgw/WGS/SNPS/All_mylu/mafs/VT_E_filt.mafs', 'r')\n",
    "#VTU=open('/local/home/sarahgw/WGS/SNPS/All_mylu/mafs/VT_U_filt.mafs', 'r')\n",
    "\n",
    "SNP=open('/local/home/sarahgw/WGS/SNPS/All_mylu/snps/All_mylu_snps_filt.mafs', 'r')\n",
    "\n",
    "\n",
    "#NJE1=open('/local/home/sarahgw/WGS/SNPS/All_mylu/mafs/NJ_E_filt1.mafs', 'w')\n",
    "#NJU1=open('/local/home/sarahgw/WGS/SNPS/All_mylu/mafs/NJ_U_filt1.mafs', 'w')\n",
    "#NYE1=open('/local/home/sarahgw/WGS/SNPS/All_mylu/mafs/NY_E_filt1.mafs', 'w')\n",
    "#NYU1=open('/local/home/sarahgw/WGS/SNPS/All_mylu/mafs/NY_U_filt1.mafs', 'w')\n",
    "VTE1=open('/local/home/sarahgw/WGS/SNPS/All_mylu/mafs/VT_E_filt1.mafs', 'w')\n",
    "#VTU1=open('/local/home/sarahgw/WGS/SNPS/All_mylu/mafs/VT_U_filt1.mafs', 'w')\n",
    "\n",
    "readFile =VTE\n",
    "\n",
    "copies = 0\n",
    "skipped = 0\n",
    "\n",
    "# Skip headers\n",
    "\n",
    "cmpLine = SNP.readline()\n",
    "chkLine = VTE.readline()\n",
    "while True:\n",
    "    \n",
    "    # Read master\n",
    "    cmpLine = SNP.readline().split()\n",
    "    chkLine = VTE.readline().split()\n",
    "    line = ' '.join((chkLine))\n",
    "\n",
    "    if not chkLine or not cmpLine:\n",
    "        print(skipped, copies)\n",
    "        break\n",
    "        \n",
    "    cmpChrom = cmpLine[0].strip()\n",
    "    cmpLoc = cmpLine[1].strip()\n",
    "    chkChrom=chkLine[0].strip()\n",
    "    chkLoc=chkLine[1].strip()\n",
    "    \n",
    "    # If they are not the same increment the snps pointer until they are\n",
    "    while cmpChrom != chkChrom or cmpLoc != chkLoc:\n",
    "        skipped += 1\n",
    "        \n",
    "        cmpLine = SNP.readline().split()\n",
    "        if not cmpLine:\n",
    "            break\n",
    "        cmpChrom = cmpLine[0].strip()\n",
    "        cmpLoc = cmpLine[1].strip()\n",
    "        VTE1.write('NA NA NA NA NA NA NA NA \\n')\n",
    "        # Need to print a line to your file for every line in skips\n",
    "        \n",
    "    \n",
    "    # Print the line to\" a file\n",
    "    VTE1.write(line + '\\n')\n",
    "    \n",
    "VTE1.close()\n",
    "VTE.close()\n",
    "SNP.close()"
   ]
  },
  {
   "cell_type": "code",
   "execution_count": 7,
   "metadata": {},
   "outputs": [
    {
     "name": "stdout",
     "output_type": "stream",
     "text": [
      "44829666 /local/home/sarahgw/WGS/SNPS/All_mylu/mafs/NJ_E_filt1.mafs\r\n"
     ]
    }
   ],
   "source": [
    "!wc -l /local/home/sarahgw/WGS/SNPS/All_mylu/mafs/NJ_E_filt1.mafs"
   ]
  },
  {
   "cell_type": "code",
   "execution_count": 2,
   "metadata": {},
   "outputs": [
    {
     "name": "stdout",
     "output_type": "stream",
     "text": [
      "44829666 /local/home/sarahgw/WGS/SNPS/All_mylu/mafs/NJ_U_filt1.mafs\r\n"
     ]
    }
   ],
   "source": [
    "!wc -l /local/home/sarahgw/WGS/SNPS/All_mylu/mafs/NJ_U_filt1.mafs"
   ]
  },
  {
   "cell_type": "code",
   "execution_count": 6,
   "metadata": {},
   "outputs": [
    {
     "name": "stdout",
     "output_type": "stream",
     "text": [
      "44829667 /local/home/sarahgw/WGS/SNPS/All_mylu/snps/All_mylu_snps_filt.mafs\r\n"
     ]
    }
   ],
   "source": [
    "!wc -l /local/home/sarahgw/WGS/SNPS/All_mylu/snps/All_mylu_snps_filt.mafs"
   ]
  },
  {
   "cell_type": "code",
   "execution_count": null,
   "metadata": {
    "collapsed": true
   },
   "outputs": [],
   "source": []
  },
  {
   "cell_type": "markdown",
   "metadata": {},
   "source": [
    "##  3. make bootstrapped filelists run domaf with each\n",
    "\n",
    "So, for each snp. you need to first use bedtools to mark individuals as either 0 or 1 (has data)\n",
    "then, take list of individuals with 1s for EACH snp, and bootstrap it. (100 times? more?)\n",
    "Then feed those bootstrapped lists into ANGSD to calculate mafs. "
   ]
  },
  {
   "cell_type": "markdown",
   "metadata": {
    "collapsed": true
   },
   "source": [
    "Calculate depth for each snp for each individual"
   ]
  },
  {
   "cell_type": "code",
   "execution_count": 36,
   "metadata": {
    "collapsed": true,
    "scrolled": true
   },
   "outputs": [],
   "source": [
    "!cut -f1-2 /local/home/sarahgw/WGS/SNPS/All_mylu/snps/njnyvteu40sites.txt |  awk -v OFS='\\t' '{print $1, ($2-1), $2}'> /local/home/sarahgw/WGS/SNPS/All_mylu/snps/njnyvteu40sites.bed "
   ]
  },
  {
   "cell_type": "code",
   "execution_count": 6,
   "metadata": {},
   "outputs": [
    {
     "name": "stdout",
     "output_type": "stream",
     "text": [
      "93 /local/home/sarahgw/WGS/SNPS/All_mylu/snps/njnyvteu40sites.bed\r\n"
     ]
    }
   ],
   "source": [
    "!wc -l /local/home/sarahgw/WGS/SNPS/All_mylu/snps/njnyvteu40sites.bed "
   ]
  },
  {
   "cell_type": "markdown",
   "metadata": {},
   "source": [
    "Calculate depth for  all individuals, remove unnecessary columns, split by snp, paste filelist, split by population. "
   ]
  },
  {
   "cell_type": "code",
   "execution_count": null,
   "metadata": {
    "collapsed": true
   },
   "outputs": [],
   "source": [
    "samtools mpileup -b /local/home/sarahgw/WGS/Sequences/filelists/All_Mylu.filelist -l /local/home/sarahgw/WGS/SNPS/All_mylu/snps/njnyvteu40sites.bed > /local/home/sarahgw/WGS/SNPS/All_mylu/mafs/All_mylu_Depth.txt "
   ]
  },
  {
   "cell_type": "code",
   "execution_count": null,
   "metadata": {
    "collapsed": true,
    "scrolled": true
   },
   "outputs": [],
   "source": [
    "for i in `seq 4 3 398`; do awk -v OFS='\\t' -v a=\"$i\" '{print $1, $2, $a}' /local/home/sarahgw/WGS/SNPS/All_mylu/mafs/All_mylu_Depth.txt; done | awk '{print>$2}' "
   ]
  },
  {
   "cell_type": "code",
   "execution_count": null,
   "metadata": {
    "collapsed": true
   },
   "outputs": [],
   "source": [
    "for file in $(ls); do paste \"$file\" /local/home/sarahgw/WGS/Sequences/filelists/All_Mylu.filelist |awk '(NR>1) && ($3 > 0 ) '| awk '{print $4}'|awk '{print > substr ($0,1,5)'$file'}'; done"
   ]
  },
  {
   "cell_type": "markdown",
   "metadata": {},
   "source": [
    "Angsd is somehow filtering out more individuals than samtools is. which is resulting in files like below. I can't find anything about how ANGSD calculates the number of individuals with data, but for now I'm going to assume that these slight number changes aren't going to make a difference. "
   ]
  },
  {
   "cell_type": "code",
   "execution_count": 2,
   "metadata": {
    "scrolled": true
   },
   "outputs": [
    {
     "name": "stdout",
     "output_type": "stream",
     "text": [
      "GL431057\t47720\tT\tC\t0.106055\t0.006377\t0.098227\t15\r\n",
      "GL431057\t47720\tT\tC\t0.198283\t0.083965\t0.179573\t16\r\n",
      "GL431057\t47720\tT\tC\t0.101079\t0.099994\t0.055104\t14\r\n",
      "GL431057\t47720\tT\tC\t0.186894\t0.134883\t0.105333\t15\r\n",
      "GL431057\t47720\tT\tC\t0.230963\t0.119126\t0.196123\t16\r\n",
      "GL431057\t47720\tT\tC\t0.250262\t0.184608\t0.181053\t14\r\n",
      "GL431057\t47720\tT\tC\t0.338863\t0.000031\t0.339485\t14\r\n",
      "GL431057\t47720\tT\tC\t0.104191\t0.052238\t0.057367\t14\r\n",
      "GL431057\t47720\tT\tC\t0.150871\t0.032618\t0.084884\t14\r\n",
      "GL431057\t47720\tT\tC\t0.097105\t0.042040\t0.090790\t16\r\n"
     ]
    }
   ],
   "source": [
    "!head /local/home/sarahgw/WGS/SNPS/All_mylu/mafs/Bootstrapped_mafs/All_bootstrapped_mafs/NJ_E_47720.mafs"
   ]
  },
  {
   "cell_type": "markdown",
   "metadata": {},
   "source": [
    "Boostrap filelists"
   ]
  },
  {
   "cell_type": "code",
   "execution_count": 12,
   "metadata": {
    "collapsed": true
   },
   "outputs": [],
   "source": [
    "import numpy as np\n",
    "def run_bs(filename):\n",
    "    f=open('/local/home/sarahgw/WGS/SNPS/All_mylu/mafs/FiltFiles/Site_SNPS_Data/{}'.format(filename), 'r')\n",
    "    lines = [line.rstrip('\\n') for line in f]\n",
    "    count = len(lines)\n",
    "    for i in range(100):\n",
    "        boot=np.random.choice(lines, count)\n",
    "        boot1=\"\\n\".join(boot)\n",
    "        o=open('/local/home/sarahgw/WGS/SNPS/All_mylu/mafs/FiltFiles/Bootstrapped_Filelists/{}_{}'.format(filename, i+1), 'w')\n",
    "        o.write(boot1)"
   ]
  },
  {
   "cell_type": "markdown",
   "metadata": {},
   "source": [
    "Make sites and chromosome files index"
   ]
  },
  {
   "cell_type": "code",
   "execution_count": null,
   "metadata": {
    "collapsed": true
   },
   "outputs": [],
   "source": [
    "import time\n",
    "\n",
    "f = open(\"/local/home/sarahgw/WGS/SNPS/All_mylu/snps/njnyvteu40sites.txt\", 'r')\n",
    "for line in f:\n",
    "    args = line.split()\n",
    "    \n",
    "    # Make sites file\n",
    "    site = \"/local/home/sarahgw/WGS/SNPS/All_mylu/snps/sites_files/{}_sites.txt\".format(args[1])\n",
    "    o = open(site,'w')\n",
    "    o.write('\\t'.join(args))\n",
    "    o.close()\n",
    "        \n",
    "    # Make chromo file\n",
    "    chrom = \"/local/home/sarahgw/WGS/SNPS/All_mylu/snps/chrom_files/{}_chrom.txt\".format(args[1])\n",
    "    o = open(chrom, 'w')\n",
    "    o.write(args[0])\n",
    "    o.close()\n",
    "    \n",
    "    \n",
    "# Silly, but accomodates angsd's file create time check\n",
    "time.sleep(5)\n",
    "\n",
    "f = open(\"/local/home/sarahgw/WGS/SNPS/All_mylu/snps/njnyvteu40sites.txt\", 'r')\n",
    "for line in f:\n",
    "    args = line.split()\n",
    "        \n",
    "    # Index sites file\n",
    "    site = \"/local/home/sarahgw/WGS/SNPS/All_mylu/snps/sites_files/{}_sites.txt\".format(args[1])\n",
    "    cmd = \"/local/home/sarahgw/angsd/angsd/angsd sites index {}\".format(site)\n",
    "    print cmd\n",
    "    subprocess.call(cmd.split())"
   ]
  },
  {
   "cell_type": "markdown",
   "metadata": {
    "collapsed": true
   },
   "source": [
    "Calculate bootstrapped maf files\n",
    "\n",
    "script in ~/WNS_Scripts/WNS_WGS/Scripts/run_angsd_bootstrapped.py"
   ]
  },
  {
   "cell_type": "code",
   "execution_count": 7,
   "metadata": {},
   "outputs": [
    {
     "name": "stdout",
     "output_type": "stream",
     "text": [
      "['NY_U_45231339', 'NY_E_941437']\n"
     ]
    },
    {
     "data": {
      "text/plain": [
       "[None, None]"
      ]
     },
     "execution_count": 7,
     "metadata": {},
     "output_type": "execute_result"
    }
   ],
   "source": [
    "import subprocess\n",
    "from os import listdir, path\n",
    "from multiprocessing.pool import ThreadPool\n",
    "\n",
    "def run_angsd(filename):\n",
    "    # Runs angsd for each snp and 100 bootstrapped files\n",
    "    for i in range(100):\n",
    "        snp_idx = filename.split('_')[-1]\n",
    "        bs_file = '/local/home/sarahgw/WGS/SNPS/All_mylu/mafs/FiltFiles/Bootstrapped_Filelists/{}_{}'.format(filename, i+1)\n",
    "        chrom_file = '/local/home/sarahgw/WGS/SNPS/All_mylu/snps/chrom_files/{}_chrom.txt'.format(snp_idx)\n",
    "        site_ref_file = '/local/home/sarahgw/WGS/SNPS/All_mylu/snps/sites_files/{}_sites.txt'.format(snp_idx)\n",
    "        output_file = '/local/home/sarahgw/WGS/SNPS/All_mylu/mafs/Bootstrapped_mafs/tmp/{}_{}'.format(filename, i+1)\n",
    "        cmd = \"/local/home/sarahgw/angsd/angsd/angsd -b {} -GL 1 -doMajorMinor 3 -doMaf 11 -doCounts 1 -P 20 -rf {} -sites {} -out {}\".format(bs_file, chrom_file, site_ref_file, output_file)\n",
    "        subprocess.call(cmd.split())\n",
    "        \n",
    "        # Delete this\n",
    "        # raise Exception('done')\n",
    "\n",
    "files = listdir('/local/home/sarahgw/WGS/SNPS/All_mylu/mafs/FiltFiles/Site_SNPS_Data/')\n",
    "\n",
    "for f in list(files):\n",
    "    if path.isfile('/local/home/sarahgw/WGS/SNPS/All_mylu/mafs/Bootstrapped_mafs/{}_100.arg'.format(f)):\n",
    "        # print \"done {}\".format(f)\n",
    "        files.remove(f)\n",
    "\n",
    "pool = ThreadPool(30)\n",
    "print files[:2]\n",
    "pool.map(run_angsd, files[:2])\n",
    "# for i in range(len(files)):\n",
    "#    f = files[i]\n",
    "#    print \"{}: Running angsd for {}\".format(i, f)\n",
    "#    run_angsd(f)  \n",
    "    "
   ]
  },
  {
   "cell_type": "markdown",
   "metadata": {},
   "source": [
    "## Rerun with highest snps in each individual population"
   ]
  },
  {
   "cell_type": "code",
   "execution_count": 1,
   "metadata": {},
   "outputs": [
    {
     "name": "stdout",
     "output_type": "stream",
     "text": [
      "\"\",\"V1\",\"Scaffold\",\"Position\",\"Major.x\",\"Minor.x\",\"Maf1_E\",\"Maf2_E\",\"Maf3_E\",\"nInd_E\",\"Major.y\",\"Minor.y\",\"Maf1_U\",\"Maf2_U\",\"Maf3_U\",\"nInd_U\",\"diff\",\"nInd\"\r\n",
      "\"1\",\"87281\",\"AAPE02070640\",5753,\"G\",\"T\",0.900184,0.900166,0.900802,10,\"G\",\"T\",0.285211,0.089722,0.285285,8,0.810444,2\r\n",
      "\"2\",\"1137911\",\"GL429768\",13089788,\"A\",\"C\",0.921221,0.921214,0.932877,10,\"A\",\"C\",0.086702,0.086703,0.113513,9,0.834511,1\r\n",
      "\"3\",\"1137913\",\"GL429768\",13089795,\"A\",\"C\",0.921688,0.921679,0.958059,10,\"A\",\"C\",0,3e-06,0,9,0.921676,1\r\n",
      "\"4\",\"1220537\",\"GL429768\",19815498,\"G\",\"A\",0.812467,0.812232,0.825437,12,\"G\",\"A\",0,2e-06,0,9,0.81223,3\r\n",
      "\"5\",\"1274392\",\"GL429768\",24014495,\"A\",\"C\",0.864343,0.864342,0.852949,16,\"A\",\"C\",0.185627,0.05903,0.209629,9,0.805312,7\r\n",
      "\"6\",\"1866788\",\"GL429770\",21344777,\"A\",\"T\",0.835688,0.835684,0.84732,9,\"A\",\"T\",0.096802,0.032557,0.122322,9,0.803127,0\r\n",
      "\"7\",\"2016898\",\"GL429772\",115939,\"A\",\"C\",0.88507,0.885067,0.878308,14,\"A\",\"C\",0,4e-06,0,7,0.885063,7\r\n",
      "\"8\",\"2883744\",\"GL429775\",13214684,\"T\",\"A\",0.922383,0.922385,0.896488,11,\"T\",\"A\",0.089069,0.088932,0.096596,8,0.833453,3\r\n",
      "\"9\",\"2895014\",\"GL429775\",14286872,\"G\",\"A\",0.923999,0.924001,0.915725,9,\"G\",\"A\",0.130455,0.047046,0.138813,6,0.876955,3\r\n"
     ]
    }
   ],
   "source": [
    "!head ~/WGS/SNPS/All_mylu/snps/njeu80.csv"
   ]
  },
  {
   "cell_type": "code",
   "execution_count": 7,
   "metadata": {},
   "outputs": [
    {
     "name": "stdout",
     "output_type": "stream",
     "text": [
      "\"Scaffold\",\"Position\"\r\n",
      "\"AAPE02070640\",5753\r\n",
      "\"GL429768\",13089788\r\n",
      "\"GL429768\",13089795\r\n",
      "\"GL429768\",19815498\r\n",
      "\"GL429768\",24014495\r\n",
      "\"GL429770\",21344777\r\n",
      "\"GL429772\",115939\r\n",
      "\"GL429775\",13214684\r\n",
      "\"GL429775\",14286872\r\n",
      "\"GL429782\",14047585\r\n",
      "\"GL429783\",7221988\r\n",
      "\"GL429792\",2863568\r\n",
      "\"GL429801\",3633684\r\n",
      "\"GL429802\",3820138\r\n",
      "\"GL429809\",97622\r\n",
      "\"GL429811\",4941217\r\n",
      "\"GL429823\",4255852\r\n",
      "\"GL429832\",1520188\r\n",
      "\"GL429842\",193242\r\n",
      "\"GL429846\",1504953\r\n",
      "\"GL429852\",1123832\r\n",
      "\"GL429860\",2410642\r\n",
      "\"GL429870\",3151869\r\n",
      "\"GL429879\",954217\r\n",
      "\"GL429881\",3039127\r\n",
      "\"GL429881\",3039128\r\n",
      "\"GL429885\",2060537\r\n",
      "\"GL429889\",2553646\r\n",
      "\"GL429889\",2553648\r\n",
      "\"GL429892\",3053514\r\n",
      "\"GL429894\",1122355\r\n",
      "\"GL429896\",1861410\r\n",
      "\"GL429923\",396129\r\n",
      "\"GL429929\",2917684\r\n",
      "\"GL429934\",714553\r\n",
      "\"GL429940\",1390900\r\n",
      "\"GL429974\",1416530\r\n",
      "\"GL429977\",283514\r\n",
      "\"GL429998\",690573\r\n",
      "\"GL430002\",476967\r\n",
      "\"GL430003\",1536069\r\n",
      "\"GL430022\",1418741\r\n",
      "\"GL430029\",11012\r\n",
      "\"GL430041\",1256796\r\n",
      "\"GL430042\",81265\r\n",
      "\"GL430045\",1192163\r\n",
      "\"GL430058\",1165617\r\n",
      "\"GL430061\",235771\r\n",
      "\"GL430063\",1238699\r\n",
      "\"GL430077\",1360419\r\n",
      "\"GL430077\",1360532\r\n",
      "\"GL430083\",435925\r\n",
      "\"GL430086\",386873\r\n",
      "\"GL430086\",504479\r\n",
      "\"GL430185\",868674\r\n",
      "\"GL430207\",224535\r\n",
      "\"GL430282\",538768\r\n",
      "\"GL430357\",255549\r\n",
      "\"GL430412\",320892\r\n",
      "\"GL430476\",159496\r\n",
      "\"GL430551\",194346\r\n",
      "\"GL431161\",49907\r\n",
      "\"GL431479\",25880\r\n",
      "\"AAPE02057661\",30059\r\n",
      "\"AAPE02057661\",30070\r\n",
      "\"AAPE02057661\",43714\r\n",
      "\"AAPE02062219\",17758\r\n",
      "\"AAPE02069843\",618\r\n",
      "\"AAPE02072253\",2053\r\n",
      "\"GL429767\",5324770\r\n",
      "\"GL429767\",30240962\r\n",
      "\"GL429767\",42241601\r\n",
      "\"GL429767\",47026296\r\n",
      "\"GL429768\",1863859\r\n",
      "\"GL429768\",13122293\r\n",
      "\"GL429768\",20665309\r\n",
      "\"GL429768\",23511559\r\n",
      "\"GL429768\",33966057\r\n",
      "\"GL429770\",3577763\r\n",
      "\"GL429770\",4274032\r\n",
      "\"GL429770\",4876836\r\n",
      "\"GL429770\",6734236\r\n",
      "\"GL429770\",15723608\r\n",
      "\"GL429770\",17880615\r\n",
      "\"GL429770\",18934464\r\n",
      "\"GL429772\",2914731\r\n",
      "\"GL429772\",8923600\r\n",
      "\"GL429772\",16311049\r\n",
      "\"GL429773\",6682923\r\n",
      "\"GL429773\",11967384\r\n",
      "\"GL429774\",12727456\r\n",
      "\"GL429775\",4690536\r\n",
      "\"GL429775\",5620121\r\n",
      "\"GL429775\",5892727\r\n",
      "\"GL429776\",5493380\r\n",
      "\"GL429776\",6030721\r\n",
      "\"GL429776\",6030722\r\n",
      "\"GL429776\",13118382\r\n",
      "\"GL429776\",15922960\r\n",
      "\"GL429777\",6015774\r\n",
      "\"GL429778\",11063489\r\n",
      "\"GL429778\",13299249\r\n",
      "\"GL429778\",14497837\r\n",
      "\"GL429778\",15757904\r\n",
      "\"GL429779\",1419352\r\n",
      "\"GL429779\",2248983\r\n",
      "\"GL429779\",4554094\r\n",
      "\"GL429779\",5076117\r\n",
      "\"GL429780\",2749972\r\n",
      "\"GL429781\",10061081\r\n",
      "\"GL429783\",146818\r\n",
      "\"GL429783\",2443513\r\n",
      "\"GL429783\",4204316\r\n",
      "\"GL429783\",4867567\r\n",
      "\"GL429783\",5654257\r\n",
      "\"GL429784\",12000145\r\n",
      "\"GL429787\",10577022\r\n",
      "\"GL429788\",4217728\r\n",
      "\"GL429790\",5300757\r\n",
      "\"GL429791\",4457597\r\n",
      "\"GL429792\",6489810\r\n",
      "\"GL429793\",4569925\r\n",
      "\"GL429793\",4708827\r\n",
      "\"GL429794\",685772\r\n",
      "\"GL429795\",7724995\r\n",
      "\"GL429797\",9370601\r\n",
      "\"GL429798\",2445659\r\n",
      "\"GL429800\",8826154\r\n",
      "\"GL429801\",451725\r\n",
      "\"GL429801\",8681407\r\n",
      "\"GL429803\",2233996\r\n",
      "\"GL429803\",4468869\r\n",
      "\"GL429803\",7750888\r\n",
      "\"GL429805\",2950687\r\n",
      "\"GL429805\",3061777\r\n",
      "\"GL429809\",1012964\r\n",
      "\"GL429809\",7443922\r\n",
      "\"GL429810\",1372813\r\n",
      "\"GL429810\",1794701\r\n",
      "\"GL429811\",4975965\r\n",
      "\"GL429811\",7001401\r\n",
      "\"GL429813\",4365882\r\n",
      "\"GL429815\",5133837\r\n",
      "\"GL429815\",5244802\r\n",
      "\"GL429815\",5244804\r\n",
      "\"GL429820\",4402742\r\n",
      "\"GL429821\",2948895\r\n",
      "\"GL429821\",5586881\r\n",
      "\"GL429822\",1074020\r\n",
      "\"GL429822\",4676092\r\n",
      "\"GL429823\",478814\r\n",
      "\"GL429824\",2144896\r\n",
      "\"GL429824\",4757500\r\n",
      "\"GL429825\",2374183\r\n",
      "\"GL429825\",4864642\r\n",
      "\"GL429826\",169829\r\n",
      "\"GL429827\",987636\r\n",
      "\"GL429827\",1285356\r\n",
      "\"GL429827\",5349438\r\n",
      "\"GL429831\",2305967\r\n",
      "\"GL429833\",3821164\r\n",
      "\"GL429833\",4154977\r\n",
      "\"GL429835\",4904961\r\n",
      "\"GL429835\",4904962\r\n",
      "\"GL429837\",2032760\r\n",
      "\"GL429840\",367073\r\n",
      "\"GL429840\",4619984\r\n",
      "\"GL429841\",1619956\r\n",
      "\"GL429841\",1619965\r\n",
      "\"GL429850\",2625091\r\n",
      "\"GL429851\",745442\r\n",
      "\"GL429852\",59773\r\n",
      "\"GL429852\",909820\r\n",
      "\"GL429852\",2722828\r\n",
      "\"GL429853\",1076238\r\n",
      "\"GL429856\",4381189\r\n",
      "\"GL429857\",202926\r\n",
      "\"GL429857\",4506858\r\n",
      "\"GL429858\",3441123\r\n",
      "\"GL429860\",1228679\r\n",
      "\"GL429861\",4329400\r\n",
      "\"GL429862\",1035352\r\n",
      "\"GL429864\",1263438\r\n",
      "\"GL429864\",1263444\r\n",
      "\"GL429867\",4197880\r\n",
      "\"GL429871\",3153926\r\n",
      "\"GL429874\",4172917\r\n",
      "\"GL429876\",2457608\r\n",
      "\"GL429880\",325882\r\n",
      "\"GL429880\",1636535\r\n",
      "\"GL429880\",1775047\r\n",
      "\"GL429881\",2449609\r\n",
      "\"GL429882\",995727\r\n",
      "\"GL429885\",3164993\r\n",
      "\"GL429891\",504226\r\n",
      "\"GL429892\",2481335\r\n",
      "\"GL429895\",2861931\r\n",
      "\"GL429898\",1343803\r\n",
      "\"GL429902\",3750925\r\n",
      "\"GL429904\",1370350\r\n",
      "\"GL429904\",1999672\r\n",
      "\"GL429910\",2397777\r\n",
      "\"GL429913\",952018\r\n",
      "\"GL429913\",952024\r\n",
      "\"GL429916\",2453770\r\n",
      "\"GL429916\",2453775\r\n",
      "\"GL429917\",1475141\r\n",
      "\"GL429922\",822400\r\n",
      "\"GL429922\",822401\r\n",
      "\"GL429922\",822402\r\n",
      "\"GL429923\",995811\r\n",
      "\"GL429926\",707569\r\n",
      "\"GL429930\",1831084\r\n",
      "\"GL429932\",2610381\r\n",
      "\"GL429933\",1276191\r\n",
      "\"GL429933\",2759046\r\n",
      "\"GL429934\",2338576\r\n",
      "\"GL429935\",458084\r\n",
      "\"GL429946\",1994365\r\n",
      "\"GL429947\",1513382\r\n",
      "\"GL429957\",2425615\r\n",
      "\"GL429957\",2536140\r\n",
      "\"GL429958\",607599\r\n",
      "\"GL429962\",2207763\r\n",
      "\"GL429964\",1329601\r\n",
      "\"GL429969\",314039\r\n",
      "\"GL429970\",992238\r\n",
      "\"GL429974\",629671\r\n",
      "\"GL429978\",765964\r\n",
      "\"GL429978\",939229\r\n",
      "\"GL429982\",1454532\r\n",
      "\"GL429987\",1201333\r\n",
      "\"GL429991\",16195\r\n",
      "\"GL429991\",16215\r\n",
      "\"GL429991\",16225\r\n",
      "\"GL429991\",16851\r\n",
      "\"GL429997\",1574875\r\n",
      "\"GL430000\",828728\r\n",
      "\"GL430002\",1087831\r\n",
      "\"GL430004\",667891\r\n",
      "\"GL430008\",507750\r\n",
      "\"GL430013\",345546\r\n",
      "\"GL430013\",345547\r\n",
      "\"GL430014\",181713\r\n",
      "\"GL430015\",807255\r\n",
      "\"GL430016\",1052720\r\n",
      "\"GL430029\",784934\r\n",
      "\"GL430046\",1104184\r\n",
      "\"GL430046\",1910224\r\n",
      "\"GL430050\",410744\r\n",
      "\"GL430050\",539331\r\n",
      "\"GL430054\",419975\r\n",
      "\"GL430062\",536155\r\n",
      "\"GL430063\",1429288\r\n",
      "\"GL430070\",356433\r\n",
      "\"GL430082\",160398\r\n",
      "\"GL430082\",501129\r\n",
      "\"GL430082\",501136\r\n",
      "\"GL430086\",280515\r\n",
      "\"GL430088\",1024004\r\n",
      "\"GL430090\",258662\r\n",
      "\"GL430091\",576181\r\n",
      "\"GL430095\",246770\r\n",
      "\"GL430095\",719576\r\n",
      "\"GL430102\",699198\r\n",
      "\"GL430114\",478435\r\n",
      "\"GL430128\",281276\r\n",
      "\"GL430131\",220683\r\n",
      "\"GL430135\",790280\r\n",
      "\"GL430151\",943153\r\n",
      "\"GL430158\",604647\r\n",
      "\"GL430165\",100998\r\n",
      "\"GL430165\",331697\r\n",
      "\"GL430173\",860333\r\n",
      "\"GL430176\",15666\r\n",
      "\"GL430182\",250290\r\n",
      "\"GL430187\",704528\r\n",
      "\"GL430189\",690531\r\n",
      "\"GL430195\",7313\r\n",
      "\"GL430195\",7326\r\n",
      "\"GL430195\",394247\r\n",
      "\"GL430198\",418586\r\n",
      "\"GL430198\",603815\r\n",
      "\"GL430198\",603820\r\n",
      "\"GL430204\",88808\r\n",
      "\"GL430205\",834017\r\n",
      "\"GL430208\",390957\r\n",
      "\"GL430224\",45672\r\n",
      "\"GL430250\",394430\r\n",
      "\"GL430258\",170044\r\n",
      "\"GL430274\",7900\r\n",
      "\"GL430281\",434375\r\n",
      "\"GL430287\",142476\r\n",
      "\"GL430290\",578312\r\n",
      "\"GL430291\",305006\r\n",
      "\"GL430298\",351724\r\n",
      "\"GL430319\",91934\r\n",
      "\"GL430320\",192179\r\n",
      "\"GL430355\",293726\r\n",
      "\"GL430356\",355329\r\n",
      "\"GL430364\",166473\r\n",
      "\"GL430376\",297220\r\n",
      "\"GL430379\",415983\r\n",
      "\"GL430394\",218688\r\n",
      "\"GL430395\",1523\r\n",
      "\"GL430475\",12664\r\n",
      "\"GL430752\",95659\r\n",
      "\"GL431077\",35135\r\n",
      "\"GL431111\",44369\r\n",
      "\"GL431253\",48008\r\n",
      "\"GL431486\",9054\r\n",
      "\"GL431635\",1127\r\n",
      "\"GL432095\",5450\r\n"
     ]
    }
   ],
   "source": [
    "!cut -f3-4 -d \",\" ~/WGS/SNPS/All_mylu/snps/njeu80.csv"
   ]
  },
  {
   "cell_type": "code",
   "execution_count": null,
   "metadata": {},
   "outputs": [],
   "source": [
    "sed 's/\\\"//g' ~/WGS/SNPS/All_mylu/snps/njeu80.csv| cut -f3-4 -d \",\"| sed 's/,/    /g'> ~/WGS/SNPS/All_mylu/snps/njeu80_sites.txt"
   ]
  },
  {
   "cell_type": "code",
   "execution_count": null,
   "metadata": {
    "collapsed": true
   },
   "outputs": [],
   "source": [
    "sed 's/\\\"//g' ~/WGS/SNPS/All_mylu/snps/nyeu80.csv| cut -f3-4 -d \",\"| sed 's/,/    /g'> ~/WGS/SNPS/All_mylu/snps/nyeu80_sites.txt"
   ]
  },
  {
   "cell_type": "code",
   "execution_count": null,
   "metadata": {
    "collapsed": true
   },
   "outputs": [],
   "source": [
    "sed 's/\\\"//g' ~/WGS/SNPS/All_mylu/snps/vteu80.csv| cut -f3-4 -d \",\"| sed 's/,/    /g'> ~/WGS/SNPS/All_mylu/snps/vteu80_sites.txt"
   ]
  },
  {
   "cell_type": "code",
   "execution_count": 11,
   "metadata": {},
   "outputs": [
    {
     "name": "stdout",
     "output_type": "stream",
     "text": [
      "Scaffold    Position\r\n",
      "GL429767    19384300\r\n",
      "GL429768    31340994\r\n",
      "GL429790    3476076\r\n",
      "GL429811    924008\r\n",
      "GL429826    4881963\r\n",
      "GL429829    4348403\r\n",
      "GL429829    5103228\r\n",
      "GL429833    1784385\r\n",
      "GL429887    775162\r\n"
     ]
    }
   ],
   "source": [
    "!head ~/WGS/SNPS/All_mylu/snps/vteu80_sites.txt"
   ]
  },
  {
   "cell_type": "code",
   "execution_count": 12,
   "metadata": {
    "collapsed": true
   },
   "outputs": [],
   "source": [
    "!cut -f1-2 /local/home/sarahgw/WGS/SNPS/All_mylu/snps/njeu80_sites.txt |  awk -v OFS='\\t' '{print $1, ($2-1), $2}'> /local/home/sarahgw/WGS/SNPS/All_mylu/snps/njeu80_sites.bed "
   ]
  },
  {
   "cell_type": "code",
   "execution_count": 13,
   "metadata": {
    "collapsed": true
   },
   "outputs": [],
   "source": [
    "!cut -f1-2 /local/home/sarahgw/WGS/SNPS/All_mylu/snps/nyeu80_sites.txt |  awk -v OFS='\\t' '{print $1, ($2-1), $2}'> /local/home/sarahgw/WGS/SNPS/All_mylu/snps/nyeu80_sites.bed "
   ]
  },
  {
   "cell_type": "code",
   "execution_count": 14,
   "metadata": {
    "collapsed": true
   },
   "outputs": [],
   "source": [
    "!cut -f1-2 /local/home/sarahgw/WGS/SNPS/All_mylu/snps/vteu80_sites.txt |  awk -v OFS='\\t' '{print $1, ($2-1), $2}'> /local/home/sarahgw/WGS/SNPS/All_mylu/snps/vteu80_sites.bed "
   ]
  },
  {
   "cell_type": "code",
   "execution_count": null,
   "metadata": {
    "collapsed": true
   },
   "outputs": [],
   "source": [
    "samtools mpileup -b /local/home/sarahgw/WGS/Sequences/filelists/NJ.filelist -l /local/home/sarahgw/WGS/SNPS/All_mylu/snps/njeu80_sites.bed > /local/home/sarahgw/WGS/SNPS/All_mylu/mafs/NJ_all_Depth.txt "
   ]
  },
  {
   "cell_type": "code",
   "execution_count": null,
   "metadata": {
    "collapsed": true
   },
   "outputs": [],
   "source": [
    "samtools mpileup -b /local/home/sarahgw/WGS/Sequences/filelists/NY.filelist -l /local/home/sarahgw/WGS/SNPS/All_mylu/snps/nyeu80_sites.bed > /local/home/sarahgw/WGS/SNPS/All_mylu/mafs/NY_all_Depth.txt "
   ]
  },
  {
   "cell_type": "code",
   "execution_count": null,
   "metadata": {
    "collapsed": true
   },
   "outputs": [],
   "source": [
    "samtools mpileup -b /local/home/sarahgw/WGS/Sequences/filelists/VT.filelist -l /local/home/sarahgw/WGS/SNPS/All_mylu/snps/vteu80_sites.bed > /local/home/sarahgw/WGS/SNPS/All_mylu/mafs/VT_all_Depth.txt "
   ]
  },
  {
   "cell_type": "code",
   "execution_count": null,
   "metadata": {
    "collapsed": true
   },
   "outputs": [],
   "source": []
  },
  {
   "cell_type": "code",
   "execution_count": null,
   "metadata": {
    "collapsed": true
   },
   "outputs": [],
   "source": []
  },
  {
   "cell_type": "code",
   "execution_count": 2,
   "metadata": {
    "collapsed": true
   },
   "outputs": [],
   "source": [
    "!gunzip /local/home/sarahgw/WGS/SNPS/All_mylu/mafs/Bootstrapped_mafs/NY*.mafs.gz\n",
    "!gunzip /local/home/sarahgw/WGS/SNPS/All_mylu/mafs/Bootstrapped_mafs/VT*.mafs.gz\n",
    "!gunzip /local/home/sarahgw/WGS/SNPS/All_mylu/mafs/Bootstrapped_mafs/NJ*.mafs.gz"
   ]
  },
  {
   "cell_type": "code",
   "execution_count": 5,
   "metadata": {},
   "outputs": [
    {
     "name": "stdout",
     "output_type": "stream",
     "text": [
      "chromo\tposition\tmajor\tminor\tknownEM\tunknownEM\tphat\tnInd\r\n",
      "GL429835\t1498546\tC\tT\t0.759745\t0.759746\t0.752828\t12\r\n"
     ]
    }
   ],
   "source": [
    "!head /local/home/sarahgw/WGS/SNPS/All_mylu/mafs/Bootstrapped_mafs/NJ_E_1498546_100.mafs"
   ]
  },
  {
   "cell_type": "code",
   "execution_count": 3,
   "metadata": {
    "scrolled": true
   },
   "outputs": [
    {
     "name": "stdout",
     "output_type": "stream",
     "text": [
      "0: cat_mafs NJ_E_1735029\n",
      "1: cat_mafs VT_E_204614\n",
      "2: cat_mafs VT_U_453486\n",
      "3: cat_mafs NJ_U_396854\n",
      "4: cat_mafs NY_E_47720\n",
      "5: cat_mafs NJ_U_47720\n",
      "6: cat_mafs VT_E_29714\n",
      "7: cat_mafs VT_U_781434\n",
      "8: cat_mafs NJ_E_282162\n",
      "9: cat_mafs NJ_U_24450613\n",
      "10: cat_mafs NJ_E_396854\n",
      "11: cat_mafs VT_E_1099328\n",
      "12: cat_mafs VT_U_1578201\n",
      "13: cat_mafs VT_U_613870\n",
      "14: cat_mafs NJ_E_72962\n",
      "15: cat_mafs VT_E_280372\n",
      "16: cat_mafs NJ_U_718420\n",
      "17: cat_mafs VT_U_3161631\n",
      "18: cat_mafs NY_E_1114015\n",
      "19: cat_mafs NY_E_2603833\n",
      "20: cat_mafs NY_U_204614\n",
      "21: cat_mafs NY_U_9425832\n",
      "22: cat_mafs VT_E_24450613\n",
      "23: cat_mafs NJ_E_1498546\n",
      "24: cat_mafs NJ_U_45231339\n",
      "25: cat_mafs NJ_U_463041\n",
      "26: cat_mafs NY_U_4318783\n",
      "27: cat_mafs VT_U_1452433\n",
      "28: cat_mafs NY_U_1498546\n",
      "29: cat_mafs NY_E_27042\n",
      "30: cat_mafs NJ_E_613870\n",
      "31: cat_mafs VT_U_4318783\n",
      "32: cat_mafs VT_U_10265656\n",
      "33: cat_mafs NY_E_56161793\n",
      "34: cat_mafs VT_U_4131634\n",
      "35: cat_mafs NJ_E_1578202\n",
      "36: cat_mafs NJ_E_10265656\n",
      "37: cat_mafs NY_E_1423224\n",
      "38: cat_mafs VT_E_1689066\n",
      "39: cat_mafs NY_E_1099328\n",
      "40: cat_mafs VT_U_24450613\n",
      "41: cat_mafs VT_E_47720\n",
      "42: cat_mafs NJ_E_47720\n",
      "43: cat_mafs NJ_E_6378055\n",
      "44: cat_mafs NY_E_139257\n",
      "45: cat_mafs VT_U_729116\n",
      "46: cat_mafs NY_E_718420\n",
      "47: cat_mafs NY_E_667184\n",
      "48: cat_mafs NY_E_204614\n",
      "49: cat_mafs NJ_E_616121\n",
      "50: cat_mafs VT_U_1578202\n",
      "51: cat_mafs VT_U_69820\n",
      "52: cat_mafs NJ_E_139257\n",
      "53: cat_mafs VT_E_4318783\n",
      "54: cat_mafs NJ_E_1090161\n",
      "55: cat_mafs VT_U_1689066\n",
      "56: cat_mafs NJ_E_9441039\n",
      "57: cat_mafs NJ_E_27042\n",
      "58: cat_mafs VT_E_2603833\n",
      "59: cat_mafs NJ_U_2610488\n",
      "60: cat_mafs NY_U_2036674\n",
      "61: cat_mafs NY_E_453486\n",
      "62: cat_mafs NY_E_1578202\n",
      "63: cat_mafs NJ_U_35761989\n",
      "64: cat_mafs NY_U_24450613\n",
      "65: cat_mafs NY_U_1114015\n",
      "66: cat_mafs NJ_U_7596204\n",
      "67: cat_mafs VT_E_4302781\n",
      "68: cat_mafs NY_U_5132827\n",
      "69: cat_mafs NY_U_941437\n",
      "70: cat_mafs NY_E_816124\n",
      "71: cat_mafs NJ_E_463033\n",
      "72: cat_mafs NY_E_45231339\n",
      "73: cat_mafs NY_U_12225476\n",
      "74: cat_mafs NY_U_1578202\n",
      "75: cat_mafs NY_U_1090161\n",
      "76: cat_mafs NJ_E_35761989\n",
      "77: cat_mafs VT_U_3561008\n",
      "78: cat_mafs NJ_U_938426\n",
      "79: cat_mafs NY_U_4365714\n",
      "80: cat_mafs NJ_E_3161631\n",
      "81: cat_mafs NJ_U_69820\n",
      "82: cat_mafs VT_U_280372\n",
      "83: cat_mafs NJ_E_2144669\n",
      "84: cat_mafs NJ_E_5132827\n",
      "85: cat_mafs NY_U_12336014\n",
      "86: cat_mafs NY_U_2603833\n",
      "87: cat_mafs VT_U_1543734\n",
      "88: cat_mafs NY_U_56161793\n",
      "89: cat_mafs NY_U_506372\n",
      "90: cat_mafs NJ_E_941437\n",
      "91: cat_mafs NJ_U_4302781\n",
      "92: cat_mafs NJ_E_204614\n",
      "93: cat_mafs NY_U_1255833\n",
      "94: cat_mafs NY_U_1246200\n",
      "95: cat_mafs NY_U_1578201\n",
      "96: cat_mafs VT_E_549244\n",
      "97: cat_mafs NY_U_45231339\n",
      "98: cat_mafs NY_E_941437\n",
      "99: cat_mafs NY_E_2610488\n",
      "100: cat_mafs NJ_U_135999\n",
      "101: cat_mafs VT_E_5132827\n",
      "102: cat_mafs NY_E_1246200\n",
      "103: cat_mafs VT_E_11292450\n",
      "104: cat_mafs VT_U_463041\n",
      "105: cat_mafs NY_U_2144669\n",
      "106: cat_mafs NY_E_2036674\n",
      "107: cat_mafs NY_E_12225476\n",
      "108: cat_mafs NJ_U_56933899\n",
      "109: cat_mafs NJ_U_463033\n",
      "110: cat_mafs NJ_E_29714\n",
      "111: cat_mafs VT_E_396854\n",
      "112: cat_mafs VT_U_1735029\n",
      "113: cat_mafs VT_E_2637067\n",
      "114: cat_mafs NY_U_453486\n",
      "115: cat_mafs NY_U_1735029\n",
      "116: cat_mafs NJ_E_66052\n",
      "117: cat_mafs NY_U_1099328\n",
      "118: cat_mafs NY_U_339142\n",
      "119: cat_mafs NJ_E_532182\n",
      "120: cat_mafs NJ_U_72962\n",
      "121: cat_mafs NY_E_731807\n",
      "122: cat_mafs VT_U_667184\n",
      "123: cat_mafs NY_E_2901266\n",
      "124: cat_mafs VT_E_750707\n",
      "125: cat_mafs VT_E_69820\n",
      "126: cat_mafs VT_U_35761989\n",
      "127: cat_mafs VT_U_282162\n",
      "128: cat_mafs NJ_U_2603833\n",
      "129: cat_mafs NJ_U_616121\n",
      "130: cat_mafs NJ_U_781434\n",
      "131: cat_mafs NJ_U_35775\n",
      "132: cat_mafs NJ_E_24450613\n",
      "133: cat_mafs VT_U_12225476\n",
      "134: cat_mafs NJ_U_765524\n",
      "135: cat_mafs NJ_E_1543734\n",
      "136: cat_mafs NY_U_1029410\n",
      "137: cat_mafs NY_U_6378055\n",
      "138: cat_mafs NJ_U_669334\n",
      "139: cat_mafs NJ_E_35775\n",
      "140: cat_mafs NJ_E_1246200\n",
      "141: cat_mafs NJ_U_1578201\n",
      "142: cat_mafs NY_U_280372\n",
      "143: cat_mafs NJ_E_731807\n",
      "144: cat_mafs VT_U_9441039\n",
      "145: cat_mafs VT_U_669334\n",
      "146: cat_mafs NJ_E_4302781\n",
      "147: cat_mafs VT_U_1985096\n",
      "148: cat_mafs VT_E_1578201\n",
      "149: cat_mafs NJ_U_816124\n",
      "150: cat_mafs NJ_E_889190\n",
      "151: cat_mafs NJ_E_69820\n",
      "152: cat_mafs NJ_U_2637067\n",
      "153: cat_mafs NY_E_809101\n",
      "154: cat_mafs VT_E_2603829\n",
      "155: cat_mafs NJ_U_9441039\n",
      "156: cat_mafs VT_U_1029410\n",
      "157: cat_mafs NJ_E_2036674\n",
      "158: cat_mafs NJ_E_2637067\n",
      "159: cat_mafs VT_U_2755974\n",
      "160: cat_mafs VT_E_453486\n",
      "161: cat_mafs NJ_U_4318783\n",
      "162: cat_mafs NY_U_532182\n",
      "163: cat_mafs VT_U_27042\n",
      "164: cat_mafs NJ_U_62323\n",
      "165: cat_mafs VT_U_47720\n",
      "166: cat_mafs NY_E_35775\n",
      "167: cat_mafs VT_E_2755974\n",
      "168: cat_mafs NJ_U_11968353\n",
      "169: cat_mafs NY_U_816124\n",
      "170: cat_mafs NJ_U_506372\n",
      "171: cat_mafs VT_E_941437\n",
      "172: cat_mafs NJ_U_1498546\n",
      "173: cat_mafs VT_E_9425832\n",
      "174: cat_mafs NJ_E_938426\n",
      "175: cat_mafs VT_U_69827\n",
      "176: cat_mafs NJ_U_1090161\n",
      "177: cat_mafs NY_E_7596204\n",
      "178: cat_mafs VT_U_549244\n",
      "179: cat_mafs NJ_E_135999\n",
      "180: cat_mafs NJ_U_2901266\n",
      "181: cat_mafs VT_U_1090161\n",
      "182: cat_mafs NJ_E_339142\n",
      "183: cat_mafs VT_E_3296417\n",
      "184: cat_mafs VT_E_66052\n",
      "185: cat_mafs NY_U_1452433\n",
      "186: cat_mafs NJ_U_29714\n",
      "187: cat_mafs NJ_U_2580001\n",
      "188: cat_mafs NJ_U_750707\n",
      "189: cat_mafs NY_U_2637067\n",
      "190: cat_mafs NY_E_72962\n",
      "191: cat_mafs VT_U_29714\n",
      "192: cat_mafs NY_U_62323\n",
      "193: cat_mafs NJ_U_729116\n",
      "194: cat_mafs NJ_U_3296417\n",
      "195: cat_mafs NJ_U_69827\n",
      "196: cat_mafs NJ_U_880359\n",
      "197: cat_mafs VT_U_204614\n",
      "198: cat_mafs NY_E_729116\n",
      "199: cat_mafs VT_E_56933899\n",
      "200: cat_mafs NJ_E_816124\n",
      "201: cat_mafs VT_U_1246200\n",
      "202: cat_mafs NY_E_135999\n",
      "203: cat_mafs VT_E_506372\n",
      "204: cat_mafs VT_U_35775\n",
      "205: cat_mafs NY_U_308061\n",
      "206: cat_mafs VT_E_45231339\n",
      "207: cat_mafs VT_E_7596204\n",
      "208: cat_mafs VT_U_718420\n",
      "209: cat_mafs NY_U_2603829\n",
      "210: cat_mafs NJ_U_1916925\n",
      "211: cat_mafs NY_U_7341092\n",
      "212: cat_mafs NJ_U_145393\n",
      "213: cat_mafs NY_E_1090161\n",
      "214: cat_mafs NJ_E_11968353\n",
      "215: cat_mafs NJ_E_12225476\n",
      "216: cat_mafs NJ_E_1465114\n",
      "217: cat_mafs NY_U_35775\n",
      "218: cat_mafs VT_E_532182\n",
      "219: cat_mafs NY_U_66052\n",
      "220: cat_mafs VT_U_139257\n",
      "221: cat_mafs VT_U_2603833\n",
      "222: cat_mafs NJ_U_1246200\n",
      "223: cat_mafs VT_E_809101\n",
      "224: cat_mafs VT_U_1255833\n",
      "225: cat_mafs VT_U_889190\n",
      "226: cat_mafs VT_U_4365714\n",
      "227: cat_mafs VT_E_69827\n",
      "228: cat_mafs NJ_U_9425832\n",
      "229: cat_mafs NY_U_1423224\n",
      "230: cat_mafs VT_U_4827800\n",
      "231: cat_mafs NY_U_463041\n",
      "232: cat_mafs NJ_E_11292450\n",
      "233: cat_mafs NJ_U_10265656\n",
      "234: cat_mafs NJ_U_549244\n",
      "235: cat_mafs NY_U_1985096\n",
      "236: cat_mafs NY_U_731807\n",
      "237: cat_mafs VT_E_1498546\n",
      "238: cat_mafs VT_E_145393\n",
      "239: cat_mafs VT_E_11429827\n",
      "240: cat_mafs NY_U_2901266\n",
      "241: cat_mafs VT_U_750707\n",
      "242: cat_mafs NY_E_669334\n",
      "243: cat_mafs NJ_E_62323\n",
      "244: cat_mafs VT_U_39819883\n",
      "245: cat_mafs NY_E_2755974\n",
      "246: cat_mafs NY_U_1543734\n",
      "247: cat_mafs VT_U_1114015\n",
      "248: cat_mafs NY_E_339142\n",
      "249: cat_mafs NY_E_1578201\n",
      "250: cat_mafs NJ_E_669334\n",
      "251: cat_mafs VT_E_2610488\n",
      "252: cat_mafs VT_E_1255833\n",
      "253: cat_mafs NJ_U_453486\n",
      "254: cat_mafs NJ_U_1099328\n",
      "255: cat_mafs VT_E_1090161\n",
      "256: cat_mafs NY_E_9441039\n",
      "257: cat_mafs NJ_U_731807\n",
      "258: cat_mafs NJ_U_1029410\n",
      "259: cat_mafs NJ_U_3209772\n",
      "260: cat_mafs VT_E_613870\n",
      "261: cat_mafs NY_E_3296417\n",
      "262: cat_mafs NJ_E_1255833\n",
      "263: cat_mafs NY_E_11429827\n",
      "264: cat_mafs VT_E_1985096\n",
      "265: cat_mafs NY_U_4827800\n",
      "266: cat_mafs VT_E_781434\n",
      "267: cat_mafs NY_U_613870\n",
      "268: cat_mafs NJ_U_1452433\n",
      "269: cat_mafs NY_E_4131634\n",
      "270: cat_mafs NY_E_56933899\n",
      "271: cat_mafs VT_E_616121\n",
      "272: cat_mafs VT_E_7341092\n",
      "273: cat_mafs VT_E_1735029\n",
      "274: cat_mafs VT_E_669334\n",
      "275: cat_mafs VT_E_816124\n",
      "276: cat_mafs NY_E_3561008\n",
      "277: cat_mafs NY_E_1029410\n",
      "278: cat_mafs NY_U_72962\n",
      "279: cat_mafs VT_E_282162\n",
      "280: cat_mafs NY_U_39819883\n",
      "281: cat_mafs NY_E_1452433\n",
      "282: cat_mafs VT_U_396854\n",
      "283: cat_mafs NJ_E_549244\n",
      "284: cat_mafs NY_U_11968353\n",
      "285: cat_mafs VT_U_9425832\n",
      "286: cat_mafs VT_E_35775\n",
      "287: cat_mafs NJ_U_5132827\n",
      "288: cat_mafs NJ_E_1578201\n",
      "289: cat_mafs NJ_E_4827800\n",
      "290: cat_mafs NJ_U_532182\n",
      "291: cat_mafs NJ_E_145393\n",
      "292: cat_mafs NY_E_4318783\n",
      "293: cat_mafs NY_E_765524\n",
      "294: cat_mafs NJ_E_781434\n",
      "295: cat_mafs VT_E_1916925\n",
      "296: cat_mafs NJ_U_1423224\n",
      "297: cat_mafs NY_U_29714\n",
      "298: cat_mafs NJ_E_7596204\n",
      "299: cat_mafs NJ_U_56161793\n",
      "300: cat_mafs NJ_U_809101\n",
      "301: cat_mafs VT_E_2901266\n",
      "302: cat_mafs NJ_E_2580001\n",
      "303: cat_mafs NY_E_889190\n",
      "304: cat_mafs NY_E_3161631\n",
      "305: cat_mafs VT_U_56161793\n",
      "306: cat_mafs NY_E_282162\n",
      "307: cat_mafs NY_E_69820\n",
      "308: cat_mafs VT_U_4302781\n",
      "309: cat_mafs VT_E_72962\n",
      "310: cat_mafs VT_U_506372\n",
      "311: cat_mafs VT_E_1423224\n",
      "312: cat_mafs NJ_U_39819883\n",
      "313: cat_mafs NY_U_47720\n",
      "314: cat_mafs VT_U_6378055\n",
      "315: cat_mafs VT_E_35761989\n",
      "316: cat_mafs VT_U_1916925\n",
      "317: cat_mafs NJ_E_4365714\n",
      "318: cat_mafs NY_U_56933899\n",
      "319: cat_mafs NJ_E_1114015\n",
      "320: cat_mafs VT_U_809101\n",
      "321: cat_mafs NJ_U_2603829\n",
      "322: cat_mafs NY_U_69827\n",
      "323: cat_mafs NJ_E_3209772\n",
      "324: cat_mafs NY_U_396854\n",
      "325: cat_mafs NJ_E_463041\n",
      "326: cat_mafs NJ_U_4365714\n",
      "327: cat_mafs VT_E_1578202\n",
      "328: cat_mafs NY_E_750707\n",
      "329: cat_mafs VT_U_2036674\n",
      "330: cat_mafs NY_E_1465114\n",
      "331: cat_mafs VT_U_308061\n",
      "332: cat_mafs NJ_U_66052\n",
      "333: cat_mafs NJ_U_12225476\n",
      "334: cat_mafs VT_U_765524\n",
      "335: cat_mafs VT_U_56933899\n",
      "336: cat_mafs NJ_U_3561008\n",
      "337: cat_mafs NY_E_10265656\n",
      "338: cat_mafs NJ_E_11429827\n",
      "339: cat_mafs NJ_U_3161631\n",
      "340: cat_mafs VT_U_339142\n",
      "341: cat_mafs NJ_U_6378055\n",
      "342: cat_mafs VT_E_765524\n",
      "343: cat_mafs VT_E_9441039\n",
      "344: cat_mafs NJ_E_718420\n",
      "345: cat_mafs VT_U_2901266\n",
      "346: cat_mafs VT_U_2144669\n",
      "347: cat_mafs NY_U_809101\n"
     ]
    },
    {
     "name": "stdout",
     "output_type": "stream",
     "text": [
      "348: cat_mafs NY_E_69827\n",
      "349: cat_mafs NY_U_11429827\n",
      "350: cat_mafs NY_U_7596204\n",
      "351: cat_mafs NJ_E_453486\n",
      "352: cat_mafs NJ_U_4131634\n",
      "353: cat_mafs VT_E_139257\n",
      "354: cat_mafs NY_E_1689066\n",
      "355: cat_mafs NJ_E_880359\n",
      "356: cat_mafs VT_E_880359\n",
      "357: cat_mafs NY_E_1985096\n",
      "358: cat_mafs VT_U_45231339\n",
      "359: cat_mafs VT_U_1099328\n",
      "360: cat_mafs VT_U_532182\n",
      "361: cat_mafs NJ_U_11292450\n",
      "362: cat_mafs VT_E_1452433\n",
      "363: cat_mafs NJ_U_1689066\n",
      "364: cat_mafs NY_E_463041\n",
      "365: cat_mafs VT_E_2580001\n",
      "366: cat_mafs NJ_U_2755974\n",
      "367: cat_mafs NY_U_2580001\n",
      "368: cat_mafs NY_E_1255833\n",
      "369: cat_mafs NY_U_938426\n",
      "370: cat_mafs NY_E_616121\n",
      "371: cat_mafs VT_E_889190\n",
      "372: cat_mafs VT_E_1543734\n",
      "373: cat_mafs NJ_U_1255833\n",
      "374: cat_mafs VT_U_5132827\n",
      "375: cat_mafs VT_U_11292450\n",
      "376: cat_mafs NY_E_2580001\n",
      "377: cat_mafs VT_E_938426\n",
      "378: cat_mafs NY_U_889190\n",
      "379: cat_mafs NY_E_781434\n",
      "380: cat_mafs NJ_E_56161793\n",
      "381: cat_mafs NY_E_35761989\n",
      "382: cat_mafs VT_U_816124\n",
      "383: cat_mafs NY_E_7341092\n",
      "384: cat_mafs NY_U_729116\n",
      "385: cat_mafs NY_E_2603829\n",
      "386: cat_mafs NJ_E_765524\n",
      "387: cat_mafs VT_U_1498546\n",
      "388: cat_mafs NJ_E_1689066\n",
      "389: cat_mafs VT_U_463033\n",
      "390: cat_mafs NY_E_1735029\n",
      "391: cat_mafs NJ_E_56933899\n",
      "392: cat_mafs NJ_U_12336014\n",
      "393: cat_mafs NJ_U_1114015\n",
      "394: cat_mafs VT_E_3209772\n",
      "395: cat_mafs VT_U_7596204\n",
      "396: cat_mafs VT_E_135999\n",
      "397: cat_mafs VT_U_616121\n",
      "398: cat_mafs NY_U_2755974\n",
      "399: cat_mafs NY_E_308061\n",
      "400: cat_mafs NY_U_11292450\n",
      "401: cat_mafs NY_E_463033\n",
      "402: cat_mafs NJ_E_2603833\n",
      "403: cat_mafs NY_U_139257\n",
      "404: cat_mafs NY_E_549244\n",
      "405: cat_mafs VT_E_3161631\n",
      "406: cat_mafs VT_E_4827800\n",
      "407: cat_mafs NY_E_1916925\n",
      "408: cat_mafs NY_E_3209772\n",
      "409: cat_mafs NJ_E_1099328\n",
      "410: cat_mafs VT_U_2610488\n",
      "411: cat_mafs NY_E_11292450\n",
      "412: cat_mafs NY_U_1465114\n",
      "413: cat_mafs NY_U_3296417\n",
      "414: cat_mafs NJ_E_506372\n",
      "415: cat_mafs NY_U_3161631\n",
      "416: cat_mafs NJ_U_280372\n",
      "417: cat_mafs NJ_U_613870\n",
      "418: cat_mafs NY_E_506372\n",
      "419: cat_mafs VT_E_2144669\n",
      "420: cat_mafs NY_E_1543734\n",
      "421: cat_mafs NJ_U_667184\n",
      "422: cat_mafs NY_U_765524\n",
      "423: cat_mafs VT_U_880359\n",
      "424: cat_mafs NY_E_938426\n",
      "425: cat_mafs NY_U_27042\n",
      "426: cat_mafs NY_E_62323\n",
      "427: cat_mafs NY_U_616121\n",
      "428: cat_mafs NY_U_718420\n",
      "429: cat_mafs NY_U_9441039\n",
      "430: cat_mafs NY_U_282162\n",
      "431: cat_mafs NY_E_4827800\n",
      "432: cat_mafs VT_U_3209772\n",
      "433: cat_mafs NY_U_669334\n",
      "434: cat_mafs VT_E_6378055\n",
      "435: cat_mafs NJ_E_308061\n",
      "436: cat_mafs NY_U_667184\n",
      "437: cat_mafs NJ_U_282162\n",
      "438: cat_mafs NY_U_2610488\n",
      "439: cat_mafs VT_U_2637067\n",
      "440: cat_mafs NJ_E_2755974\n",
      "441: cat_mafs NJ_E_2610488\n",
      "442: cat_mafs VT_U_731807\n",
      "443: cat_mafs NJ_E_750707\n",
      "444: cat_mafs NY_U_4131634\n",
      "445: cat_mafs VT_U_145393\n",
      "446: cat_mafs NJ_E_809101\n",
      "447: cat_mafs VT_U_12336014\n",
      "448: cat_mafs VT_E_4365714\n",
      "449: cat_mafs NJ_E_39819883\n",
      "450: cat_mafs NY_U_3209772\n",
      "451: cat_mafs NY_E_2637067\n",
      "452: cat_mafs NY_E_6378055\n",
      "453: cat_mafs VT_E_667184\n",
      "454: cat_mafs VT_U_7341092\n",
      "455: cat_mafs NJ_U_889190\n",
      "456: cat_mafs VT_E_731807\n",
      "457: cat_mafs VT_E_62323\n",
      "458: cat_mafs NY_U_880359\n",
      "459: cat_mafs NJ_U_204614\n",
      "460: cat_mafs NY_E_532182\n",
      "461: cat_mafs NJ_U_4827800\n",
      "462: cat_mafs NY_E_4365714\n",
      "463: cat_mafs NJ_E_1916925\n",
      "464: cat_mafs NY_U_781434\n",
      "465: cat_mafs NY_E_2144669\n",
      "466: cat_mafs NY_U_135999\n",
      "467: cat_mafs VT_E_718420\n",
      "468: cat_mafs VT_U_1465114\n",
      "469: cat_mafs VT_E_39819883\n",
      "470: cat_mafs NY_E_9425832\n",
      "471: cat_mafs VT_U_1423224\n",
      "472: cat_mafs VT_U_11429827\n",
      "473: cat_mafs VT_E_463033\n",
      "474: cat_mafs VT_E_729116\n",
      "475: cat_mafs NJ_U_7341092\n",
      "476: cat_mafs VT_E_56161793\n",
      "477: cat_mafs VT_U_3296417\n",
      "478: cat_mafs VT_E_339142\n",
      "479: cat_mafs NY_U_10265656\n",
      "480: cat_mafs NY_U_549244\n",
      "481: cat_mafs VT_U_941437\n",
      "482: cat_mafs VT_E_1114015\n",
      "483: cat_mafs NJ_U_11429827\n",
      "484: cat_mafs NY_U_145393\n",
      "485: cat_mafs NJ_E_4318783\n",
      "486: cat_mafs VT_E_2036674\n",
      "487: cat_mafs NY_E_613870\n",
      "488: cat_mafs NY_U_463033\n",
      "489: cat_mafs NJ_U_2036674\n",
      "490: cat_mafs NJ_U_1543734\n",
      "491: cat_mafs NJ_U_2144669\n",
      "492: cat_mafs NJ_E_12336014\n",
      "493: cat_mafs NJ_E_3561008\n",
      "494: cat_mafs NY_U_3561008\n",
      "495: cat_mafs VT_E_12225476\n",
      "496: cat_mafs NY_E_66052\n",
      "497: cat_mafs NJ_E_45231339\n",
      "498: cat_mafs VT_E_1465114\n",
      "499: cat_mafs VT_U_11968353\n",
      "500: cat_mafs NJ_U_308061\n",
      "501: cat_mafs VT_E_10265656\n",
      "502: cat_mafs NY_E_145393\n",
      "503: cat_mafs NJ_E_7341092\n",
      "504: cat_mafs VT_E_3561008\n",
      "505: cat_mafs NY_E_29714\n",
      "506: cat_mafs NY_E_12336014\n",
      "507: cat_mafs NJ_E_69827\n",
      "508: cat_mafs VT_E_27042\n",
      "509: cat_mafs NJ_E_9425832\n",
      "510: cat_mafs NJ_E_2901266\n",
      "511: cat_mafs VT_U_135999\n",
      "512: cat_mafs NJ_U_1578202\n",
      "513: cat_mafs NJ_E_1029410\n",
      "514: cat_mafs NY_E_39819883\n",
      "515: cat_mafs NY_E_24450613\n",
      "516: cat_mafs NJ_E_3296417\n",
      "517: cat_mafs NJ_E_280372\n",
      "518: cat_mafs NJ_U_1735029\n",
      "519: cat_mafs VT_U_2580001\n",
      "520: cat_mafs NY_E_4302781\n",
      "521: cat_mafs NJ_E_2603829\n",
      "522: cat_mafs NY_E_280372\n",
      "523: cat_mafs NY_E_5132827\n",
      "524: cat_mafs NJ_E_4131634\n",
      "525: cat_mafs NJ_U_941437\n",
      "526: cat_mafs NY_U_750707\n",
      "527: cat_mafs NJ_E_1985096\n",
      "528: cat_mafs NJ_U_27042\n",
      "529: cat_mafs VT_E_11968353\n",
      "530: cat_mafs NY_E_1498546\n",
      "531: cat_mafs VT_E_1246200\n",
      "532: cat_mafs VT_U_2603829\n",
      "533: cat_mafs NY_E_880359\n",
      "534: cat_mafs VT_U_66052\n",
      "535: cat_mafs NJ_U_1985096\n",
      "536: cat_mafs NJ_U_139257\n",
      "537: cat_mafs NY_U_4302781\n",
      "538: cat_mafs NY_U_69820\n",
      "539: cat_mafs NY_E_11968353\n",
      "540: cat_mafs VT_E_4131634\n",
      "541: cat_mafs VT_E_463041\n",
      "542: cat_mafs NJ_E_1452433\n",
      "543: cat_mafs VT_E_12336014\n",
      "544: cat_mafs NY_U_35761989\n",
      "545: cat_mafs VT_E_308061\n",
      "546: cat_mafs VT_U_62323\n",
      "547: cat_mafs NJ_E_1423224\n",
      "548: cat_mafs NY_U_1916925\n",
      "549: cat_mafs NJ_E_667184\n",
      "550: cat_mafs VT_U_72962\n",
      "551: cat_mafs NJ_E_729116\n",
      "552: cat_mafs VT_U_938426\n",
      "553: cat_mafs NJ_U_1465114\n",
      "554: cat_mafs NY_E_396854\n",
      "555: cat_mafs NJ_U_339142\n",
      "556: cat_mafs VT_E_1029410\n",
      "557: cat_mafs NY_U_1689066\n"
     ]
    }
   ],
   "source": [
    "from os import listdir\n",
    "\n",
    "def cat_mafs(filename):\n",
    "    # cat maf files together by site and snp\n",
    "    output_file = open('/local/home/sarahgw/WGS/SNPS/All_mylu/mafs/Bootstrapped_mafs/All_bootstrapped_mafs/{}.mafs'.format(filename), 'w')\n",
    "    output_file.write('SNP'+'\\t'+'MAF'+'\\t'+'nInd'+'\\n')\n",
    "    for i in range(100):\n",
    "        bs_file = open('/local/home/sarahgw/WGS/SNPS/All_mylu/mafs/Bootstrapped_mafs/{}_{}.mafs'.format(filename, i+1), 'r')\n",
    "        bs_lines = bs_file.readlines()\n",
    "        line=bs_lines[1]\n",
    "        groups=line.split('\\t')\n",
    "        lineplus=groups[1]+'\\t'+groups[4]+'\\t'+groups[7]\n",
    "        output_file.write(lineplus) \n",
    "        bs_file.close()\n",
    "    \n",
    "files = listdir('/local/home/sarahgw/WGS/SNPS/All_mylu/mafs/FiltFiles/Site_SNPS_Data/')\n",
    "for i in range(len(files)):\n",
    "    f = files[i]\n",
    "    print \"{}: cat_mafs {}\".format(i, f)\n",
    "    cat_mafs(f)  "
   ]
  },
  {
   "cell_type": "code",
   "execution_count": 31,
   "metadata": {},
   "outputs": [
    {
     "name": "stdout",
     "output_type": "stream",
     "text": [
      "SNP\tMAF\tnInd\r\n",
      "10265656\t0.845922\t15\r\n",
      "10265656\t0.903217\t15\r\n",
      "10265656\t0.843202\t15\r\n",
      "10265656\t0.782570\t15\r\n",
      "10265656\t0.837001\t15\r\n",
      "10265656\t0.716277\t15\r\n",
      "10265656\t0.668506\t15\r\n",
      "10265656\t0.772715\t15\r\n",
      "10265656\t0.889538\t15\r\n"
     ]
    }
   ],
   "source": [
    "!head /local/home/sarahgw/WGS/SNPS/All_mylu/mafs/Bootstrapped_mafs/All_bootstrapped_mafs/NJ_E_10265656.mafs"
   ]
  },
  {
   "cell_type": "code",
   "execution_count": 5,
   "metadata": {
    "scrolled": true
   },
   "outputs": [
    {
     "name": "stdout",
     "output_type": "stream",
     "text": [
      "0: site_mafs 39819883\n",
      "1: site_mafs 463033\n",
      "2: site_mafs 3209772\n",
      "3: site_mafs 69820\n",
      "4: site_mafs 506372\n",
      "5: site_mafs 1099328\n",
      "6: site_mafs 1255833\n",
      "7: site_mafs 35775\n",
      "8: site_mafs 2603833\n",
      "9: site_mafs 56933899\n",
      "10: site_mafs 11429827\n",
      "11: site_mafs 2610488\n",
      "12: site_mafs 669334\n",
      "13: site_mafs 339142\n",
      "14: site_mafs 282162\n",
      "15: site_mafs 9425832\n",
      "16: site_mafs 750707\n",
      "17: site_mafs 35761989\n",
      "18: site_mafs 616121\n",
      "19: site_mafs 549244\n",
      "20: site_mafs 62323\n",
      "21: site_mafs 10265656\n",
      "22: site_mafs 204614\n",
      "23: site_mafs 29714\n",
      "24: site_mafs 4131634\n",
      "25: site_mafs 1543734\n",
      "26: site_mafs 12336014\n",
      "27: site_mafs 453486\n",
      "28: site_mafs 2144669\n",
      "29: site_mafs 47720\n",
      "30: site_mafs 280372\n",
      "31: site_mafs 56161793\n",
      "32: site_mafs 4302781\n",
      "33: site_mafs 1452433\n",
      "34: site_mafs 880359\n",
      "35: site_mafs 45231339\n",
      "36: site_mafs 667184\n",
      "37: site_mafs 1916925\n",
      "38: site_mafs 941437\n",
      "39: site_mafs 145393\n",
      "40: site_mafs 135999\n",
      "41: site_mafs 2580001\n",
      "42: site_mafs 1735029\n",
      "43: site_mafs 2755974\n",
      "44: site_mafs 7341092\n",
      "45: site_mafs 69827\n",
      "46: site_mafs 718420\n",
      "47: site_mafs 6378055\n",
      "48: site_mafs 5132827\n",
      "49: site_mafs 1578202\n",
      "50: site_mafs 463041\n",
      "51: site_mafs 613870\n",
      "52: site_mafs 11292450\n",
      "53: site_mafs 27042\n",
      "54: site_mafs 2603829\n",
      "55: site_mafs 1578201\n",
      "56: site_mafs 3161631\n",
      "57: site_mafs 1114015\n",
      "58: site_mafs 809101\n",
      "59: site_mafs 7596204\n",
      "60: site_mafs 2901266\n",
      "61: site_mafs 1090161\n",
      "62: site_mafs 66052\n",
      "63: site_mafs 938426\n",
      "64: site_mafs 765524\n",
      "65: site_mafs 12225476\n",
      "66: site_mafs 2637067\n",
      "67: site_mafs 4827800\n",
      "68: site_mafs 4318783\n",
      "69: site_mafs 11968353\n",
      "70: site_mafs 1985096\n",
      "71: site_mafs 1423224\n",
      "72: site_mafs 889190\n",
      "73: site_mafs 1246200\n",
      "74: site_mafs 532182\n",
      "75: site_mafs 3561008\n",
      "76: site_mafs 729116\n",
      "77: site_mafs 1689066\n",
      "78: site_mafs 24450613\n",
      "79: site_mafs 9441039\n",
      "80: site_mafs 731807\n",
      "81: site_mafs 4365714\n",
      "82: site_mafs 816124\n",
      "83: site_mafs 1465114\n",
      "84: site_mafs 72962\n",
      "85: site_mafs 1498546\n",
      "86: site_mafs 396854\n",
      "87: site_mafs 2036674\n",
      "88: site_mafs 139257\n",
      "89: site_mafs 308061\n",
      "90: site_mafs 781434\n",
      "91: site_mafs 3296417\n",
      "92: site_mafs 1029410\n"
     ]
    }
   ],
   "source": [
    "from os import listdir\n",
    "\n",
    "def site_mafs(filename):\n",
    "    # put e and u together for each site\n",
    "    for i in \"NJ\", \"NY\", \"VT\":\n",
    "        output_file = open('/local/home/sarahgw/WGS/SNPS/All_mylu/mafs/Bootstrapped_mafs/All_bootstrapped_mafs/Combined_mafs/{}_{}.mafs'.format(i, filename), 'w')\n",
    "        output_file.write('SNP'+'\\t'+'MAF_U'+'\\t'+'MAF_E'+'\\t'+'nInd_U'+'\\t'+'nInd_E'+'\\n')\n",
    "        e_file = open('/local/home/sarahgw/WGS/SNPS/All_mylu/mafs/Bootstrapped_mafs/All_bootstrapped_mafs/{}_E_{}.mafs'.format(i, filename), 'r')\n",
    "        u_file = open('/local/home/sarahgw/WGS/SNPS/All_mylu/mafs/Bootstrapped_mafs/All_bootstrapped_mafs/{}_U_{}.mafs'.format(i, filename), 'r')\n",
    "        eLine = e_file.readline()\n",
    "        uLine = u_file.readline()\n",
    "        while True:\n",
    "            eLine = e_file.readline()\n",
    "            uLine = u_file.readline()\n",
    "            if not eLine or not uLine:\n",
    "                break\n",
    "            eGroups=eLine.split('\\t')\n",
    "            uGroups=uLine.split('\\t')\n",
    "            lineplus=uGroups[0]+'\\t'+uGroups[1]+'\\t'+eGroups[1]+'\\t'+uGroups[2].strip('\\n')+'\\t'+eGroups[2]\n",
    "            output_file.write(lineplus) \n",
    "        e_file.close()\n",
    "        u_file.close()\n",
    "\n",
    "    \n",
    "files = listdir('/local/home/sarahgw/WGS/SNPS/All_mylu/mafs/FiltFiles/SNP_Depth')\n",
    "for i in range(len(files)):\n",
    "    f = files[i]\n",
    "    print \"{}: site_mafs {}\".format(i, f)\n",
    "    site_mafs(f)  "
   ]
  },
  {
   "cell_type": "code",
   "execution_count": null,
   "metadata": {
    "collapsed": true
   },
   "outputs": [],
   "source": [
    "awk 'FNR>1' NY_204614.mafs NY_396854.mafs > NY"
   ]
  },
  {
   "cell_type": "markdown",
   "metadata": {},
   "source": [
    "Just run each one 10,000 times. \n",
    "For cod there is 5,000 bp. around LD. "
   ]
  },
  {
   "cell_type": "markdown",
   "metadata": {
    "collapsed": true
   },
   "source": [
    "At a given line, if the number of individuals matches the n maf, then do not use that n-1maf in calculation of SE.\n",
    "For all other n-1maf, calculate se\n",
    "\n",
    "\n",
    "\n",
    "\n",
    "jackknife estimate of the bias is(n − 1)(θ¯− θˆ) (how far delete one estimate is from actual estimate)\n",
    "standard error is deviance of delete one estimate from average delete one estimate\n",
    "\n",
    "Does this make sense?\n",
    "then sample from that distribution?\n",
    "How to take into account jackknifing when the actual number of individuals doest change? I will have to calculate it really differently for each one maybe...\n",
    "\n",
    "\n",
    "First trim to the individuals with data, then jackknife. \n",
    "\n",
    "Allele freq dist under drift, then those that are more extreme than the observations. \n",
    "n+1 because the \n",
    "p value calculation form a genetic drift null model\n",
    "do enough simulations where 10 or so are above our observations. \n",
    "\n",
    "enrich and magma for enrichment? \n",
    "\n",
    "Look at strength of selection? try a bunch of selection values similar to p value. \n",
    "\n",
    "\n",
    "if the ne guess is accurate, the average allele freq across genome will be the same as the simulations under drift. "
   ]
  },
  {
   "cell_type": "code",
   "execution_count": null,
   "metadata": {
    "collapsed": true
   },
   "outputs": [],
   "source": []
  },
  {
   "cell_type": "code",
   "execution_count": null,
   "metadata": {
    "collapsed": true
   },
   "outputs": [],
   "source": []
  },
  {
   "cell_type": "code",
   "execution_count": null,
   "metadata": {
    "collapsed": true
   },
   "outputs": [],
   "source": []
  },
  {
   "cell_type": "code",
   "execution_count": null,
   "metadata": {
    "collapsed": true
   },
   "outputs": [],
   "source": []
  },
  {
   "cell_type": "code",
   "execution_count": null,
   "metadata": {
    "collapsed": true
   },
   "outputs": [],
   "source": []
  },
  {
   "cell_type": "code",
   "execution_count": 2,
   "metadata": {},
   "outputs": [
    {
     "name": "stdout",
     "output_type": "stream",
     "text": [
      "92371964 /local/home/sarahgw/WGS/SNPS/All_mylu/NJ_E.mafs\r\n"
     ]
    }
   ],
   "source": [
    "!wc -l /local/home/sarahgw/WGS/SNPS/All_mylu/NJ_E.mafs"
   ]
  },
  {
   "cell_type": "code",
   "execution_count": 8,
   "metadata": {},
   "outputs": [
    {
     "name": "stdout",
     "output_type": "stream",
     "text": [
      "92371953 /local/home/sarahgw/WGS/SNPS/All_mylu/NJ_U.mafs\r\n"
     ]
    }
   ],
   "source": [
    "!wc -l /local/home/sarahgw/WGS/SNPS/All_mylu/NJ_U.mafs"
   ]
  },
  {
   "cell_type": "code",
   "execution_count": 9,
   "metadata": {
    "collapsed": true
   },
   "outputs": [],
   "source": [
    "!paste /local/home/sarahgw/WGS/SNPS/All_mylu/NJ_E.mafs /local/home/sarahgw/WGS/SNPS/All_mylu/NJ_U.mafs | awk '{print $1\",\"$2\",\"$3\",\"$4\",\"$5\",\"$6\",\"$8\",\"$13\",\"$14\",\"$16}'>/local/home/sarahgw/WGS/SNPS/All_mylu/NJ_EU.mafs"
   ]
  },
  {
   "cell_type": "code",
   "execution_count": 10,
   "metadata": {
    "collapsed": true
   },
   "outputs": [],
   "source": [
    "!gunzip /local/home/sarahgw/WGS/SNPS/All_mylu/NY_E.mafs.gz\n",
    "!gunzip /local/home/sarahgw/WGS/SNPS/All_mylu/NY_U.mafs.gz"
   ]
  },
  {
   "cell_type": "code",
   "execution_count": 11,
   "metadata": {},
   "outputs": [
    {
     "name": "stdout",
     "output_type": "stream",
     "text": [
      "92371964 /local/home/sarahgw/WGS/SNPS/All_mylu/NY_E.mafs\n",
      "92371964 /local/home/sarahgw/WGS/SNPS/All_mylu/NY_U.mafs\n"
     ]
    }
   ],
   "source": [
    "!wc -l /local/home/sarahgw/WGS/SNPS/All_mylu/NY_E.mafs\n",
    "!wc -l /local/home/sarahgw/WGS/SNPS/All_mylu/NY_U.mafs"
   ]
  },
  {
   "cell_type": "code",
   "execution_count": 12,
   "metadata": {
    "collapsed": true
   },
   "outputs": [],
   "source": [
    "!paste /local/home/sarahgw/WGS/SNPS/All_mylu/NY_E.mafs /local/home/sarahgw/WGS/SNPS/All_mylu/NY_U.mafs | awk '{print $1\",\"$2\",\"$3\",\"$4\",\"$5\",\"$6\",\"$8\",\"$13\",\"$14\",\"$16}'>/local/home/sarahgw/WGS/SNPS/All_mylu/NY_EU.mafs"
   ]
  },
  {
   "cell_type": "code",
   "execution_count": 2,
   "metadata": {
    "collapsed": true
   },
   "outputs": [],
   "source": [
    "#!gunzip /local/home/sarahgw/WGS/SNPS/All_mylu/VT_E.mafs.gz\n",
    "!gunzip /local/home/sarahgw/WGS/SNPS/All_mylu/VT_U.mafs.gz"
   ]
  },
  {
   "cell_type": "code",
   "execution_count": 3,
   "metadata": {},
   "outputs": [
    {
     "name": "stdout",
     "output_type": "stream",
     "text": [
      "92371964 /local/home/sarahgw/WGS/SNPS/All_mylu/VT_E.mafs\n",
      "92371964 /local/home/sarahgw/WGS/SNPS/All_mylu/VT_U.mafs\n"
     ]
    }
   ],
   "source": [
    "!wc -l /local/home/sarahgw/WGS/SNPS/All_mylu/VT_E.mafs\n",
    "!wc -l /local/home/sarahgw/WGS/SNPS/All_mylu/VT_U.mafs"
   ]
  },
  {
   "cell_type": "code",
   "execution_count": 4,
   "metadata": {
    "collapsed": true
   },
   "outputs": [],
   "source": [
    "!paste /local/home/sarahgw/WGS/SNPS/All_mylu/VT_E.mafs /local/home/sarahgw/WGS/SNPS/All_mylu/VT_U.mafs | awk '{print $1\",\"$2\",\"$3\",\"$4\",\"$5\",\"$6\",\"$8\",\"$13\",\"$14\",\"$16}'>/local/home/sarahgw/WGS/SNPS/All_mylu/VT_EU.mafs"
   ]
  },
  {
   "cell_type": "code",
   "execution_count": 16,
   "metadata": {
    "collapsed": true
   },
   "outputs": [],
   "source": [
    "f=open('/local/home/sarahgw/WGS/SNPS/All_mylu/NJ_EU.mafs', 'r')\n",
    "o=open('/local/home/sarahgw/WGS/SNPS/All_mylu/NJ_EU2.mafs', 'w')\n",
    "for line in f:\n",
    "    scount=line.count(',')\n",
    "    if scount==9:\n",
    "        o.write(line)\n",
    "    elif 0<=scount<9:\n",
    "        groups=line.split(',')\n",
    "        lineplus=','.join(groups[:2])+''.join([',']*(9-scount))+','+ ','.join(groups[2:])\n",
    "        o.write(lineplus)  \n",
    "o.close() "
   ]
  },
  {
   "cell_type": "code",
   "execution_count": 40,
   "metadata": {
    "scrolled": true
   },
   "outputs": [
    {
     "name": "stdout",
     "output_type": "stream",
     "text": [
      "AAPE02072767,3095,T,A,0.470258,0.470257,16,,,\r\n",
      "AAPE02072767,3098,C,T,0.000000,0.000002,16,,,\r\n",
      "AAPE02072780,302,G,A,0.000000,0.000001,16,,,\r\n",
      "AAPE02072780,365,G,C,0.000000,0.000002,14,,,\r\n",
      "AAPE02072780,367,A,C,0.048082,0.048083,14,,,\r\n",
      "AAPE02072780,368,C,T,0.000000,0.000002,14,,,\r\n",
      "AAPE02072780,369,T,C,0.000000,0.000004,14,,,\r\n",
      "AAPE02072780,370,T,A,0.066391,0.066390,14,,,\r\n",
      "AAPE02072780,372,T,C,0.000000,0.000003,14,,,\r\n",
      "AAPE02072780,374,C,A,0.000000,0.000001,14,,,\r\n"
     ]
    }
   ],
   "source": [
    "!tail /local/home/sarahgw/WGS/SNPS/All_mylu/NJ_EU2.mafs"
   ]
  },
  {
   "cell_type": "code",
   "execution_count": 10,
   "metadata": {
    "scrolled": false
   },
   "outputs": [
    {
     "name": "stdout",
     "output_type": "stream",
     "text": [
      "109424282 /local/home/sarahgw/WGS/SNPS/All_mylu/NJ_EU.mafs\r\n"
     ]
    }
   ],
   "source": [
    "!wc -l /local/home/sarahgw/WGS/SNPS/All_mylu/NJ_EU.mafs"
   ]
  },
  {
   "cell_type": "markdown",
   "metadata": {},
   "source": [
    "In R notebook Angsd_all_SNP_graphs, find SNPs that have grater than 40% change in allele frequency  in all 3 populations, narrow to regions with multiple high allele freq snps. use grep to get 1kb on either side surrounding regions, blast. "
   ]
  },
  {
   "cell_type": "code",
   "execution_count": null,
   "metadata": {
    "collapsed": true
   },
   "outputs": [],
   "source": [
    "GL429848\t2603829\t\n",
    "GL429852\t463033\t\n",
    "GL429888\t1578201\t\n",
    "GL430155\t69820"
   ]
  },
  {
   "cell_type": "code",
   "execution_count": null,
   "metadata": {
    "collapsed": true
   },
   "outputs": [],
   "source": [
    "grep 'GL429848' -A 10000000 /local/home/sarahgw/references/Myotis_lucifugus.Myoluc2.0.dna_sm.toplevel.fas | tr -d \"\\n\\r\" | cut -c 2602829-2604829 >/local/home/sarahgw/WGS/SNPS/All_mylu/snps/GL429848_2603829"
   ]
  },
  {
   "cell_type": "code",
   "execution_count": null,
   "metadata": {
    "collapsed": true
   },
   "outputs": [],
   "source": [
    "grep 'GL429852' -A 10000000 /local/home/sarahgw/references/Myotis_lucifugus.Myoluc2.0.dna_sm.toplevel.fas | tr -d \"\\n\\r\" | cut -c 462033-464033 >/local/home/sarahgw/WGS/SNPS/All_mylu/snps/GL429852_463033"
   ]
  },
  {
   "cell_type": "code",
   "execution_count": null,
   "metadata": {
    "collapsed": true
   },
   "outputs": [],
   "source": [
    "grep 'GL429888' -A 10000000 /local/home/sarahgw/references/Myotis_lucifugus.Myoluc2.0.dna_sm.toplevel.fas | tr -d \"\\n\\r\" | cut -c 1577201-1579201 >/local/home/sarahgw/WGS/SNPS/All_mylu/snps/GL429888_157820\n"
   ]
  },
  {
   "cell_type": "code",
   "execution_count": null,
   "metadata": {
    "collapsed": true
   },
   "outputs": [],
   "source": [
    "grep 'GL430155' -A 10000000 /local/home/sarahgw/references/Myotis_lucifugus.Myoluc2.0.dna_sm.toplevel.fas | tr -d \"\\n\\r\" | cut -c 68820-70820 >/local/home/sarahgw/WGS/SNPS/All_mylu/snps/GL430155_69820\n"
   ]
  },
  {
   "cell_type": "code",
   "execution_count": null,
   "metadata": {
    "collapsed": true
   },
   "outputs": [],
   "source": []
  },
  {
   "cell_type": "code",
   "execution_count": null,
   "metadata": {
    "collapsed": true
   },
   "outputs": [],
   "source": []
  },
  {
   "cell_type": "markdown",
   "metadata": {},
   "source": [
    "GL429793\t3619488\n",
    "GL429805\t5255331\n",
    "GL429830\t4776068\n",
    "GL429833\t4827830\n",
    "GL429835\t4132453\n",
    "GL429848\t4054536\n",
    "GL429859\t3284246\n",
    "GL429941\t1539533\n",
    "GL430044\t240397\n",
    "GL430199\t598814"
   ]
  },
  {
   "cell_type": "code",
   "execution_count": 3,
   "metadata": {},
   "outputs": [
    {
     "name": "stdout",
     "output_type": "stream",
     "text": [
      "\"\",\"Scaffold\",\"Position\",\"V1_NJ\",\"Major_NJ\",\"Minor_NJ\",\"Maf_NJE\",\"nInd_NJE\",\"Maf_NJU\",\"nInd_NJU\",\"absdiff_NJ\",\"diff_NJ\",\"V1_NY\",\"Major_NY\",\"Minor_NY\",\"Maf_NYE\",\"nInd_NYE\",\"Maf_NYU\",\"nInd_NYU\",\"absdiff_NY\",\"diff_NY\",\"V1_VT\",\"Major_VT\",\"Minor_VT\",\"Maf_VTE\",\"nInd_VTE\",\"Maf_VTU\",\"nInd_VTU\",\"absdiff_VT\",\"diff_VT\"\r\n"
     ]
    }
   ],
   "source": [
    "!head -n 1 /local/home/sarahgw/WGS/SNPS/All_mylu/snps/Candidate_SNPs_NJNYVT.csv"
   ]
  },
  {
   "cell_type": "code",
   "execution_count": 20,
   "metadata": {
    "collapsed": true
   },
   "outputs": [],
   "source": [
    "!cut -d, -f2,3 /local/home/sarahgw/WGS/SNPS/All_mylu/snps/Candidate_SNPs_NJNYVT.csv > /local/home/sarahgw/WGS/SNPS/All_mylu/snps/Candidate_SNPs_list.csv"
   ]
  },
  {
   "cell_type": "code",
   "execution_count": 24,
   "metadata": {
    "collapsed": true
   },
   "outputs": [],
   "source": [
    "!sed -e 's/\"//g' -i /local/home/sarahgw/WGS/SNPS/All_mylu/snps/Candidate_SNPs_list.csv "
   ]
  },
  {
   "cell_type": "code",
   "execution_count": 25,
   "metadata": {},
   "outputs": [
    {
     "name": "stdout",
     "output_type": "stream",
     "text": [
      "Scaffold,Position\r\n",
      "GL429793,3619488\r\n",
      "GL429805,5255331\r\n",
      "GL429830,4776068\r\n",
      "GL429833,4827830\r\n",
      "GL429835,4132453\r\n",
      "GL429848,4054536\r\n",
      "GL429859,3284246\r\n",
      "GL429941,1539533\r\n",
      "GL430044,240397\r\n"
     ]
    }
   ],
   "source": [
    "!head /local/home/sarahgw/WGS/SNPS/All_mylu/snps/Candidate_SNPs_list.csv"
   ]
  },
  {
   "cell_type": "code",
   "execution_count": null,
   "metadata": {
    "collapsed": true
   },
   "outputs": [],
   "source": [
    "sed 's/\\t/,/g' /local/home/sarahgw/WGS/SNPS/All_mylu/genoprob/All_mylu_mInd.geno > /local/home/sarahgw/WGS/SNPS/All_mylu/genoprob/All_mylu_mInd_geno.csv"
   ]
  },
  {
   "cell_type": "code",
   "execution_count": 28,
   "metadata": {
    "scrolled": true
   },
   "outputs": [
    {
     "name": "stdout",
     "output_type": "stream",
     "text": [
      "GL429767,54,0.992890,0.007097,0.000013,0.996439,0.003561,0.000000,0.992890,0.007097,0.000013,0.992890,0.007097,0.000013,0.996439,0.003561,0.000000,0.998216,0.001784,0.000000,0.996439,0.003561,0.000000,0.992890,0.007097,0.000013,0.996439,0.003561,0.000000,0.992890,0.007097,0.000013,0.999107,0.000893,0.000000,0.999107,0.000893,0.000000,0.998216,0.001784,0.000000,0.996439,0.003561,0.000000,0.996439,0.003561,0.000000,0.992890,0.007097,0.000013,0.992890,0.007097,0.000013,0.998216,0.001784,0.000000,0.996439,0.003561,0.000000,0.996439,0.003561,0.000000,0.996439,0.003561,0.000000,0.998216,0.001784,0.000000,0.992890,0.007097,0.000013,0.992890,0.007097,0.000013,0.992890,0.007097,0.000013,0.998216,0.001784,0.000000,0.992890,0.007097,0.000013,0.996439,0.003561,0.000000,0.996439,0.003561,0.000000,0.992890,0.007097,0.000013,0.992890,0.007097,0.000013,0.996439,0.003561,0.000000,0.992890,0.007097,0.000013,0.992890,0.007097,0.000013,0.992890,0.007097,0.000013,0.992890,0.007097,0.000013,0.992890,0.007097,0.000013,0.992890,0.007097,0.000013,0.992890,0.007097,0.000013,0.992890,0.007097,0.000013,0.999777,0.000223,0.000000,0.996439,0.003561,0.000000,0.999107,0.000893,0.000000,0.996439,0.003561,0.000000,0.992890,0.007097,0.000013,0.998216,0.001784,0.000000,0.992890,0.007097,0.000013,0.998216,0.001784,0.000000,0.992890,0.007097,0.000013,0.992890,0.007097,0.000013,0.992890,0.007097,0.000013,0.992890,0.007097,0.000013,0.992890,0.007097,0.000013,0.992890,0.007097,0.000013,0.996439,0.003561,0.000000,0.992890,0.007097,0.000013,0.992890,0.007097,0.000013,0.992890,0.007097,0.000013,0.999107,0.000893,0.000000,0.996439,0.003561,0.000000,0.996439,0.003561,0.000000,0.998216,0.001784,0.000000,0.998216,0.001784,0.000000,0.999553,0.000447,0.000000,0.998216,0.001784,0.000000,0.992890,0.007097,0.000013,0.999107,0.000893,0.000000,0.996439,0.003561,0.000000,0.996439,0.003561,0.000000,0.999107,0.000893,0.000000,0.996439,0.003561,0.000000,0.996439,0.003561,0.000000,0.996439,0.003561,0.000000,0.998216,0.001784,0.000000,0.999107,0.000893,0.000000,0.996439,0.003561,0.000000,0.992890,0.007097,0.000013,0.996439,0.003561,0.000000,0.998216,0.001784,0.000000,0.992890,0.007097,0.000013,0.996439,0.003561,0.000000,0.992890,0.007097,0.000013,0.992890,0.007097,0.000013,0.992890,0.007097,0.000013,0.992890,0.007097,0.000013,0.000110,0.999888,0.000001,0.992890,0.007097,0.000013,0.992890,0.007097,0.000013,0.996439,0.003561,0.000000,0.992890,0.007097,0.000013,0.996439,0.003561,0.000000,0.992890,0.007097,0.000013,0.992890,0.007097,0.000013,0.992890,0.007097,0.000013,0.992890,0.007097,0.000013,0.996439,0.003561,0.000000,0.992890,0.007097,0.000013,0.992890,0.007097,0.000013,0.992890,0.007097,0.000013,0.992890,0.007097,0.000013,0.992890,0.007097,0.000013,0.992890,0.007097,0.000013,0.999888,0.000112,0.000000,0.992890,0.007097,0.000013,0.996439,0.003561,0.000000,0.999107,0.000893,0.000000,0.992890,0.007097,0.000013,0.996439,0.003561,0.000000,0.996439,0.003561,0.000000,0.998216,0.001784,0.000000,0.999777,0.000223,0.000000,0.999107,0.000893,0.000000,0.996439,0.003561,0.000000,0.996439,0.003561,0.000000,0.992890,0.007097,0.000013,0.992890,0.007097,0.000013,0.992890,0.007097,0.000013,0.999553,0.000447,0.000000,0.999553,0.000447,0.000000,0.999972,0.000028,0.000000,0.992890,0.007097,0.000013,0.992890,0.007097,0.000013,0.992890,0.007097,0.000013,0.992890,0.007097,0.000013,0.999553,0.000447,0.000000,0.996439,0.003561,0.000000,0.999107,0.000893,0.000000,0.996439,0.003561,0.000000,0.998216,0.001784,0.000000,0.999107,0.000893,0.000000,0.999107,0.000893,0.000000,0.992890,0.007097,0.000013,\r\n"
     ]
    }
   ],
   "source": [
    "!head -n 1 /local/home/sarahgw/WGS/SNPS/All_mylu/genoprob/All_mylu_geno.csv"
   ]
  },
  {
   "cell_type": "code",
   "execution_count": 1,
   "metadata": {},
   "outputs": [
    {
     "name": "stdout",
     "output_type": "stream",
     "text": [
      "GL429793,3619488\r\n",
      "GL429805,5255331\r\n",
      "GL429830,4776068\r\n",
      "GL429833,4827830\r\n",
      "GL429835,4132453\r\n",
      "GL429848,4054536\r\n",
      "GL429859,3284246\r\n",
      "GL429941,1539533\r\n",
      "GL430044,240397\r\n",
      "GL430199,598814\r\n"
     ]
    }
   ],
   "source": [
    "!head -n 10 /local/home/sarahgw/WGS/SNPS/All_mylu/snps/Candidate_SNPs_list.csv"
   ]
  },
  {
   "cell_type": "code",
   "execution_count": null,
   "metadata": {
    "collapsed": true
   },
   "outputs": [],
   "source": [
    "grep -f /local/home/sarahgw/WGS/SNPS/All_mylu/snps/Candidate_SNPs_list.csv /local/home/sarahgw/WGS/SNPS/All_mylu/genoprob/All_mylu_mInd_geno.csv > /local/home/sarahgw/WGS/SNPS/All_mylu/snps/Candidate_SNPs_geno_mInd.csv"
   ]
  },
  {
   "cell_type": "code",
   "execution_count": 2,
   "metadata": {},
   "outputs": [
    {
     "name": "stdout",
     "output_type": "stream",
     "text": [
      "10 /local/home/sarahgw/WGS/SNPS/All_mylu/snps/Candidate_SNPs_geno.csv\r\n"
     ]
    }
   ],
   "source": [
    "!wc -l /local/home/sarahgw/WGS/SNPS/All_mylu/snps/Candidate_SNPs_geno.csv"
   ]
  },
  {
   "cell_type": "markdown",
   "metadata": {},
   "source": [
    "Look at depth for candidate snps"
   ]
  },
  {
   "cell_type": "code",
   "execution_count": null,
   "metadata": {
    "collapsed": true
   },
   "outputs": [],
   "source": [
    "for file in $(ls); do echo $file; samtools depth \"$file\" -r GL429793:3619488-3619488 >> ~/WGS/SNPS/All_mylu/SNP1_Depth.txt ; done\n",
    "for file in $(ls); do echo $file; samtools depth \"$file\" -r GL429805:5255331-5255331 >> ~/WGS/SNPS/All_mylu/SNP2_Depth.txt ; done\n",
    "for file in $(ls); do echo $file; samtools depth \"$file\" -r GL429830:4776068-4776068 >> ~/WGS/SNPS/All_mylu/SNP3_Depth.txt ; done\n",
    "for file in $(ls); do echo $file; samtools depth \"$file\" -r GL429833:4827830-4827830 >> ~/WGS/SNPS/All_mylu/SNP4_Depth.txt ; done\n",
    "for file in $(ls); do echo $file; samtools depth \"$file\" -r GL429835:4132453-4132453 >> ~/WGS/SNPS/All_mylu/SNP5_Depth.txt ; done\n",
    "for file in $(ls); do echo $file; samtools depth \"$file\" -r GL429848:4054536-4054536 >> ~/WGS/SNPS/All_mylu/SNP6_Depth.txt ; done\n",
    "for file in $(ls); do echo $file; samtools depth \"$file\" -r GL429859:3284246-3284246 >> ~/WGS/SNPS/All_mylu/SNP7_Depth.txt ; done\n",
    "for file in $(ls); do echo $file; samtools depth \"$file\" -r GL429941:1539533-1539533 >> ~/WGS/SNPS/All_mylu/SNP8_Depth.txt ; done\n",
    "for file in $(ls); do echo $file; samtools depth \"$file\" -r GL430044:240397-240397 >> ~/WGS/SNPS/All_mylu/SNP9_Depth.txt ; done\n",
    "for file in $(ls); do echo $file; samtools depth \"$file\" -r GL430199:598814-598814 >> ~/WGS/SNPS/All_mylu/SNP10_Depth.txt ; done\n",
    "    "
   ]
  },
  {
   "cell_type": "markdown",
   "metadata": {
    "collapsed": true
   },
   "source": [
    "Look at annotation in gtf file"
   ]
  },
  {
   "cell_type": "code",
   "execution_count": null,
   "metadata": {
    "collapsed": true
   },
   "outputs": [],
   "source": [
    "grep -f /local/home/sarahgw/WGS/SNPS/All_mylu/snps/Candidate_SNPs_Scaf.csv /local/home/sarahgw/references/Myotis_lucifugus.Myoluc2.0.89.gtf > /local/home/sarahgw/WGS/SNPS/All_mylu/snps/Candidate_SNPs_gtf.csv"
   ]
  },
  {
   "cell_type": "markdown",
   "metadata": {},
   "source": [
    "Create VCF file"
   ]
  },
  {
   "cell_type": "code",
   "execution_count": null,
   "metadata": {
    "collapsed": true
   },
   "outputs": [],
   "source": [
    "~/angsd/angsd -b /local/home/sarahgw/WGS/Sequences/filelists/All_Mylu.filelist -dovcf 1 -gl 1 -dopost 1 -domajorminor 3 -domaf 1 -sites /local/home/sarahgw/WGS/SNPS/All_mylu/All_mylu_sites1.txt -out /local/home/sarahgw/WGS/SNPS/All_mylu_postv "
   ]
  },
  {
   "cell_type": "code",
   "execution_count": null,
   "metadata": {
    "collapsed": true
   },
   "outputs": [],
   "source": []
  },
  {
   "cell_type": "markdown",
   "metadata": {},
   "source": [
    "Make pca from geno prob"
   ]
  },
  {
   "cell_type": "code",
   "execution_count": null,
   "metadata": {
    "collapsed": true
   },
   "outputs": [],
   "source": [
    "gunzip /local/home/sarahgw/WGS/SNPS/All_mylu/genoprob/All_mylu.geno.gz"
   ]
  },
  {
   "cell_type": "code",
   "execution_count": null,
   "metadata": {
    "collapsed": true
   },
   "outputs": [],
   "source": [
    "~/ngsTools/ngsPopGen/ngsCovar -probfile /local/home/sarahgw/WGS/SNPS/All_mylu/genoprob/All_mylu.geno.gz -outfile /local/home/sarahgw/WGS/SNPS/All_mylu_post.geno -nind 132 -nsites 92371964 -call 0 -norm 0 &> /dev/null"
   ]
  },
  {
   "cell_type": "code",
   "execution_count": 1,
   "metadata": {},
   "outputs": [
    {
     "name": "stdout",
     "output_type": "stream",
     "text": [
      "NJ_E_01_pairedplus_marked_dupes.bam\n",
      "NJ_E_02_pairedplus_marked_dupes.bam\n",
      "NJ_E_04_pairedplus_marked_dupes.bam\n",
      "NJ_E_23_pairedplus_marked_dupes.bam\n",
      "NJ_E_24_pairedplus_marked_dupes.bam\n",
      "NJ_E_25_pairedplus_marked_dupes.bam\n",
      "NJ_E_26_pairedplus_marked_dupes.bam\n",
      "NJ_E_28_pairedplus_marked_dupes.bam\n",
      "NJ_E_29_pairedplus_marked_dupes.bam\n",
      "NJ_E_30_pairedplus_marked_dupes.bam\n",
      "NJ_E_05_pairedplus_marked_dupes.bam\n",
      "NJ_E_06_pairedplus_marked_dupes.bam\n",
      "NJ_E_07_pairedplus_marked_dupes.bam\n",
      "NJ_E_08_pairedplus_marked_dupes.bam\n",
      "NJ_E_10_pairedplus_marked_dupes.bam\n",
      "NJ_E_22_pairedplus_marked_dupes.bam\n",
      "NJ_E_13_pairedplus_marked_dupes.bam\n",
      "NJ_E_14_pairedplus_marked_dupes.bam\n",
      "NJ_E_15_pairedplus_marked_dupes.bam\n",
      "NJ_E_16_pairedplus_marked_dupes.bam\n",
      "NJ_E_18_pairedplus_marked_dupes.bam\n",
      "NJ_E_21_pairedplus_marked_dupes.bam\n",
      "NJ_U_01_pairedplus_marked_dupes.bam\n",
      "NJ_U_02_pairedplus_marked_dupes.bam\n",
      "NJ_U_03_pairedplus_marked_dupes.bam\n",
      "NJ_U_05_pairedplus_marked_dupes.bam\n",
      "NJ_U_06_pairedplus_marked_dupes.bam\n",
      "NJ_U_08_pairedplus_marked_dupes.bam\n",
      "NJ_U_09_pairedplus_marked_dupes.bam\n",
      "NJ_U_10_pairedplus_marked_dupes.bam\n",
      "NJ_U_11_pairedplus_marked_dupes.bam\n",
      "NJ_U_12_pairedplus_marked_dupes.bam\n",
      "NJ_U_15_pairedplus_marked_dupes.bam\n",
      "NJ_U_16_pairedplus_marked_dupes.bam\n",
      "NJ_U_21_pairedplus_marked_dupes.bam\n",
      "NJ_U_22_pairedplus_marked_dupes.bam\n",
      "NJ_U_23_pairedplus_marked_dupes.bam\n",
      "NJ_U_25_pairedplus_marked_dupes.bam\n",
      "NJ_U_07_pairedplus_marked_dupes.bam\n",
      "NJ_U_17_pairedplus_marked_dupes.bam\n",
      "NJ_U_18_pairedplus_marked_dupes.bam\n",
      "NJ_U_19_pairedplus_marked_dupes.bam\n",
      "NY_E_15_pairedplus_marked_dupes.bam\n",
      "NY_E_16_pairedplus_marked_dupes.bam\n",
      "NY_E_17_pairedplus_marked_dupes.bam\n",
      "NY_E_18_pairedplus_marked_dupes.bam\n",
      "NY_E_27_pairedplus_marked_dupes.bam\n",
      "NY_E_28_pairedplus_marked_dupes.bam\n",
      "NY_E_29_pairedplus_marked_dupes.bam\n",
      "NY_E_30_pairedplus_marked_dupes.bam\n",
      "NY_E_19_pairedplus_marked_dupes.bam\n",
      "NY_E_21_pairedplus_marked_dupes.bam\n",
      "NY_E_22_pairedplus_marked_dupes.bam\n",
      "NY_E_23_pairedplus_marked_dupes.bam\n",
      "NY_E_25_pairedplus_marked_dupes.bam\n",
      "NY_E_03_pairedplus_marked_dupes.bam\n",
      "NY_E_04_pairedplus_marked_dupes.bam\n",
      "NY_E_05_pairedplus_marked_dupes.bam\n",
      "NY_E_06_pairedplus_marked_dupes.bam\n",
      "NY_E_07_pairedplus_marked_dupes.bam\n",
      "NY_E_08_pairedplus_marked_dupes.bam\n",
      "NY_E_09_pairedplus_marked_dupes.bam\n",
      "NY_E_10_pairedplus_marked_dupes.bam\n",
      "NY_U_10_pairedplus_marked_dupes.bam\n",
      "NY_U_11_pairedplus_marked_dupes.bam\n",
      "NY_U_12_pairedplus_marked_dupes.bam\n",
      "NY_U_14_pairedplus_marked_dupes.bam\n",
      "NY_U_15_pairedplus_marked_dupes.bam\n",
      "NY_U_16_pairedplus_marked_dupes.bam\n",
      "NY_U_18_pairedplus_marked_dupes.bam\n",
      "NY_U_19_pairedplus_marked_dupes.bam\n",
      "NY_U_21_pairedplus_marked_dupes.bam\n",
      "NY_U_23_pairedplus_marked_dupes.bam\n",
      "NY_U_25_pairedplus_marked_dupes.bam\n",
      "NY_U_26_pairedplus_marked_dupes.bam\n",
      "NY_U_27_pairedplus_marked_dupes.bam\n",
      "NY_U_28_pairedplus_marked_dupes.bam\n",
      "NY_U_30_pairedplus_marked_dupes.bam\n",
      "NY_U_01_pairedplus_marked_dupes.bam\n",
      "NY_U_02_pairedplus_marked_dupes.bam\n",
      "NY_U_03_pairedplus_marked_dupes.bam\n",
      "NY_U_04_pairedplus_marked_dupes.bam\n",
      "NY_U_05_pairedplus_marked_dupes.bam\n",
      "NY_U_06_pairedplus_marked_dupes.bam\n",
      "NY_U_07_pairedplus_marked_dupes.bam\n",
      "VT_E_10_pairedplus_marked_dupes.bam\n",
      "VT_E_11_pairedplus_marked_dupes.bam\n",
      "VT_E_12_pairedplus_marked_dupes.bam\n",
      "VT_E_13_pairedplus_marked_dupes.bam\n",
      "VT_E_14_pairedplus_marked_dupes.bam\n",
      "VT_E_15_pairedplus_marked_dupes.bam\n",
      "VT_E_16_pairedplus_marked_dupes.bam\n",
      "VT_E_17_pairedplus_marked_dupes.bam\n",
      "VT_E_26_pairedplus_marked_dupes.bam\n",
      "VT_E_28_pairedplus_marked_dupes.bam\n",
      "VT_E_29_pairedplus_marked_dupes.bam\n",
      "VT_E_30_pairedplus_marked_dupes.bam\n",
      "VT_E_01_pairedplus_marked_dupes.bam\n",
      "VT_E_25_pairedplus_marked_dupes.bam\n",
      "VT_E_18_pairedplus_marked_dupes.bam\n",
      "VT_E_19_pairedplus_marked_dupes.bam\n",
      "VT_E_21_pairedplus_marked_dupes.bam\n",
      "VT_E_22_pairedplus_marked_dupes.bam\n",
      "VT_E_24_pairedplus_marked_dupes.bam\n",
      "VT_E_02_pairedplus_marked_dupes.bam\n",
      "VT_E_03_pairedplus_marked_dupes.bam\n",
      "VT_E_04_pairedplus_marked_dupes.bam\n",
      "VT_E_05_pairedplus_marked_dupes.bam\n",
      "VT_E_06_pairedplus_marked_dupes.bam\n",
      "VT_E_07_pairedplus_marked_dupes.bam\n",
      "VT_E_08_pairedplus_marked_dupes.bam\n",
      "VT_E_09_pairedplus_marked_dupes.bam\n",
      "VT_U_09_pairedplus_marked_dupes.bam\n",
      "VT_U_10_pairedplus_marked_dupes.bam\n",
      "VT_U_11_pairedplus_marked_dupes.bam\n",
      "VT_U_01_pairedplus_marked_dupes.bam\n",
      "VT_U_02_pairedplus_marked_dupes.bam\n",
      "VT_U_27_pairedplus_marked_dupes.bam\n",
      "VT_U_29_pairedplus_marked_dupes.bam\n",
      "VT_U_31_pairedplus_marked_dupes.bam\n",
      "VT_U_20_pairedplus_marked_dupes.bam\n",
      "VT_U_22_pairedplus_marked_dupes.bam\n",
      "VT_U_25_pairedplus_marked_dupes.bam\n",
      "VT_U_26_pairedplus_marked_dupes.bam\n",
      "VT_U_12_pairedplus_marked_dupes.bam\n",
      "VT_U_14_pairedplus_marked_dupes.bam\n",
      "VT_U_15_pairedplus_marked_dupes.bam\n",
      "VT_U_17_pairedplus_marked_dupes.bam\n",
      "VT_U_19_pairedplus_marked_dupes.bam\n",
      "VT_U_33_pairedplus_marked_dupes.bam\n",
      "VT_U_37_pairedplus_marked_dupes.bam\n",
      "VT_U_40_pairedplus_marked_dupes.bam\n"
     ]
    }
   ],
   "source": [
    "!head -n 132 /local/home/sarahgw/WGS/Sequences/filelists/All_Mylu.filelist"
   ]
  },
  {
   "cell_type": "code",
   "execution_count": 2,
   "metadata": {
    "collapsed": true
   },
   "outputs": [],
   "source": [
    "!Rscript -e 'write.table(cbind(seq(1,132),rep(1,132),c(rep(\"NJ_E\",22),rep(\"NJ_U\",20),rep(\"NY_E\",21), rep(\"NY_U\",22), rep(\"VT_E\",27), rep(\"VT_U\",20))), row.names=F, sep=\"\\t\", col.names=c(\"FID\",\"IID\",\"CLUSTER\"), file=\"/local/home/sarahgw/WGS/SNPS/All_mylu/genoprob/ALL_mylu.clst\", quote=F)'"
   ]
  },
  {
   "cell_type": "code",
   "execution_count": 4,
   "metadata": {},
   "outputs": [
    {
     "name": "stdout",
     "output_type": "stream",
     "text": [
      "123\t1\tVT_U\r\n",
      "124\t1\tVT_U\r\n",
      "125\t1\tVT_U\r\n",
      "126\t1\tVT_U\r\n",
      "127\t1\tVT_U\r\n",
      "128\t1\tVT_U\r\n",
      "129\t1\tVT_U\r\n",
      "130\t1\tVT_U\r\n",
      "131\t1\tVT_U\r\n",
      "132\t1\tVT_U\r\n"
     ]
    }
   ],
   "source": [
    "!tail /local/home/sarahgw/WGS/SNPS/All_mylu/genoprob/ALL_mylu.clst"
   ]
  },
  {
   "cell_type": "code",
   "execution_count": 2,
   "metadata": {},
   "outputs": [
    {
     "name": "stdout",
     "output_type": "stream",
     "text": [
      "1.9 1.64 1.56 1.49 1.41 1.35 1.3 1.29 1.24 1.23 1.18 1.16 1.14 1.13 1.12 1.11 1.1 1.08 1.07 1.06 1.05 1.04 1.04 1.02 1.01 1.01 1 0.992 0.985 0.968 0.965 0.958 0.957 0.955 0.951 0.948 0.938 0.929 0.927 0.921 0.917 0.911 0.901 0.892 0.887 0.883 0.878 0.872 0.867 0.864 0.861 0.86 0.858 0.844 0.838 0.817 0.795 0.787 0.783 0.78 0.772 0.766 0.761 0.753 0.751 0.74 0.73 0.724 0.714 0.702 0.697 0.695 0.687 0.678 0.669 0.655 0.647 0.644 0.637 0.631 0.624 0.618 0.618 0.616 0.611 0.605 0.6 0.594 0.589 0.582 0.575 0.57 0.564 0.559 0.553 0.544 0.534 0.532 0.528 0.524 0.521 0.517 0.513 0.504 0.499 0.494 0.488 0.476 0.466 0.457 0.45 0.446 0.443 0.422 0.41 0.398 0.384 0.372 0.364 0.354 0.339 0.329 0.324 0.319 0.31 0.293 0.284 0.27 0.248 0.246 0.244 0.000714 \n",
      "Saving 7 x 7 in image\n"
     ]
    }
   ],
   "source": [
    "!Rscript /local/home/sarahgw/ngsTools/Scripts/plotPCA.R -i /local/home/sarahgw/WGS/SNPS/All_mylu/genoprob/All_mylu.covar -c 1-2 -a /local/home/sarahgw/WGS/SNPS/All_mylu/genoprob/ALL_mylu.clst -o /local/home/sarahgw/WGS/SNPS/All_mylu/genoprob/ALL_mylu.pca.pdf"
   ]
  },
  {
   "cell_type": "code",
   "execution_count": 5,
   "metadata": {},
   "outputs": [
    {
     "data": {
      "image/png": "[encoded data removed]",
      "text/plain": [
       "<wand.image.Image: 877da0e 'PDF' (504x504)>"
      ]
     },
     "execution_count": 5,
     "metadata": {},
     "output_type": "execute_result"
    }
   ],
   "source": [
    "from wand.image import Image as WImage\n",
    "img = WImage(filename='/local/home/sarahgw/WGS/SNPS/All_mylu/genolike/Rplots2.pdf')\n",
    "img"
   ]
  },
  {
   "cell_type": "markdown",
   "metadata": {
    "collapsed": true
   },
   "source": []
  },
  {
   "cell_type": "code",
   "execution_count": null,
   "metadata": {
    "collapsed": true
   },
   "outputs": [],
   "source": []
  },
  {
   "cell_type": "code",
   "execution_count": null,
   "metadata": {
    "collapsed": true
   },
   "outputs": [],
   "source": []
  },
  {
   "cell_type": "code",
   "execution_count": null,
   "metadata": {
    "collapsed": true
   },
   "outputs": [],
   "source": []
  },
  {
   "cell_type": "markdown",
   "metadata": {},
   "source": [
    "look for associations for each group.\n"
   ]
  },
  {
   "cell_type": "code",
   "execution_count": null,
   "metadata": {
    "collapsed": true
   },
   "outputs": [],
   "source": []
  },
  {
   "cell_type": "code",
   "execution_count": null,
   "metadata": {
    "collapsed": true
   },
   "outputs": [],
   "source": []
  },
  {
   "cell_type": "code",
   "execution_count": null,
   "metadata": {
    "collapsed": true
   },
   "outputs": [],
   "source": []
  },
  {
   "cell_type": "code",
   "execution_count": null,
   "metadata": {
    "collapsed": true,
    "scrolled": true
   },
   "outputs": [],
   "source": [
    "!awk {print} /local/home/sarahgw/WGS/Sequences/filelists/VT_pheno.ybin"
   ]
  },
  {
   "cell_type": "code",
   "execution_count": null,
   "metadata": {
    "collapsed": true
   },
   "outputs": [],
   "source": [
    "!wc -l /local/home/sarahgw/WGS/Sequences/filelists/NJ_pheno.ybin"
   ]
  },
  {
   "cell_type": "code",
   "execution_count": null,
   "metadata": {
    "collapsed": true
   },
   "outputs": [],
   "source": []
  },
  {
   "cell_type": "code",
   "execution_count": null,
   "metadata": {
    "collapsed": true
   },
   "outputs": [],
   "source": []
  },
  {
   "cell_type": "code",
   "execution_count": null,
   "metadata": {
    "collapsed": true
   },
   "outputs": [],
   "source": [
    "/local/home/sarahgw/angsd/angsd -yBin /local/home/sarahgw/WGS/Sequences/filelists/VT_pheno.ybin -doAsso 1 -GL 1 -out VT_assoc -doMajorMinor 1 -doMaf 1 -minQ 20 -minMapQ 30 -SNP_pval 1e-6 -bam /local/home/sarahgw/WGS/Sequences/filelists/VT.filelist -P 15; echo \"VT Assoc done amphiprion\" | mailx gw.sarah@gmail.com"
   ]
  },
  {
   "cell_type": "markdown",
   "metadata": {},
   "source": [
    "ok so if this is true:\n",
    "The likelihood ratio statistic. This statistic is chi square distributed with one degree of freedom\n",
    "Then that means p less than 0.05 is greater than 3.84\n",
    "\n",
    "Right, but you need to do a p adjustment to deal with false positives. Ok, so let's take it into R and calculate p value and correct. \n",
    "Wait, maybe this is already accounting for false positives, paper seems to indicate that, no mention of correcting? Oh, so for standard GWAS there is a set significance thresholde of 5 x 10 ^ -8"
   ]
  },
  {
   "cell_type": "code",
   "execution_count": null,
   "metadata": {
    "collapsed": true
   },
   "outputs": [],
   "source": [
    "!gunzip /local/home/sarahgw/WGS/SNPS/All_mylu/NJ_assoc.lrt0.gz\n",
    "!gunzip /local/home/sarahgw/WGS/SNPS/All_mylu/NJ_assoc.mafs.gz\n",
    "!gunzip /local/home/sarahgw/WGS/SNPS/All_mylu/NY_assoc.lrt0.gz\n",
    "!gunzip /local/home/sarahgw/WGS/SNPS/All_mylu/VT_assoc.lrt0.gz"
   ]
  }
 ],
 "metadata": {
  "anaconda-cloud": {},
  "kernelspec": {
   "display_name": "Python 2",
   "language": "python",
   "name": "python2"
  },
  "language_info": {
   "codemirror_mode": {
    "name": "ipython",
    "version": 2
   },
   "file_extension": ".py",
   "mimetype": "text/x-python",
   "name": "python",
   "nbconvert_exporter": "python",
   "pygments_lexer": "ipython2",
   "version": "2.7.13"
  }
 },
 "nbformat": 4,
 "nbformat_minor": 1
}
