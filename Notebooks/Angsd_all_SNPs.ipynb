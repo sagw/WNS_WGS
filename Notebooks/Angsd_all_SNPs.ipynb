{
 "cells": [
  {
   "cell_type": "markdown",
   "metadata": {},
   "source": [
    "# 1. Before calling snps, we need to filter the data more. \n",
    "## First identify sites with low mappability and exclude them from snps\n"
   ]
  },
  {
   "cell_type": "code",
   "execution_count": null,
   "metadata": {
    "collapsed": true
   },
   "outputs": [],
   "source": [
    "gem-indexer -i /local/home/sarahgw/references/Myotis_lucifugus.Myoluc2.0.dna_sm.toplevel.fas -o /local/home/sarahgw/references/Myotis_lucifugus.Myoluc2.0"
   ]
  },
  {
   "cell_type": "code",
   "execution_count": null,
   "metadata": {
    "collapsed": true
   },
   "outputs": [],
   "source": [
    "gem-mappability -I /local/home/sarahgw/references/Myotis_lucifugus.Myoluc2.0.gem -l 140 -o /local/home/sarahgw/WGS/QC/Map -T 20"
   ]
  },
  {
   "cell_type": "code",
   "execution_count": null,
   "metadata": {
    "collapsed": true
   },
   "outputs": [],
   "source": [
    "gem-2-wig -i Map.mappability -I ~/references/Myotis_lucifugus.Myoluc2.0.gem -o Map"
   ]
  },
  {
   "cell_type": "code",
   "execution_count": 1,
   "metadata": {},
   "outputs": [
    {
     "name": "stdout",
     "output_type": "stream",
     "text": [
      "variableStep\tchrom=GL429767 dna_sm\tspan=4317\r\n",
      "1\t1\r\n",
      "variableStep\tchrom=GL429767 dna_sm\tspan=5\r\n",
      "4318\t0.5\r\n",
      "variableStep\tchrom=GL429767 dna_sm\r\n",
      "4323\t0.0771517\r\n",
      "4324\t0.133631\r\n",
      "4325\t0.5\r\n",
      "4326\t0.0771517\r\n",
      "variableStep\tchrom=GL429767 dna_sm\tspan=6\r\n"
     ]
    }
   ],
   "source": [
    "!head /local/home/sarahgw/WGS/QC/Map.wig"
   ]
  },
  {
   "cell_type": "markdown",
   "metadata": {},
   "source": [
    "Turn this wig file into a filter file for angsd. "
   ]
  },
  {
   "cell_type": "code",
   "execution_count": 28,
   "metadata": {
    "collapsed": true
   },
   "outputs": [],
   "source": [
    "f=open('/local/home/sarahgw/WGS/QC/Map.wig', 'r')\n",
    "o=open('/local/home/sarahgw/WGS/QC/All_mylu_Map1.txt', 'w')\n",
    "\n",
    "line = \" \"\n",
    "while True:\n",
    "    line = f.readline()\n",
    "    if not line:\n",
    "        break\n",
    "        \n",
    "    if line.startswith(\"variableStep\"):\n",
    "        desc = line.split()\n",
    "        chrom = desc[1].split('=')[1]\n",
    "        span = None if 'span' not in desc[-1] else int(desc[-1].split('=')[1])\n",
    "    else:\n",
    "        data = line.split()\n",
    "        val = int(data[0])\n",
    "        if float(data[1]) == 1:\n",
    "            if span:\n",
    "                newline = \"{}:{}-{}\\n\".format(chrom, val, span+val)\n",
    "            else:\n",
    "                newline = \"{}:{}\\n\".format(chrom, val)\n",
    "            o.write(newline)\n",
    "\n",
    "f.close()\n",
    "o.close()"
   ]
  },
  {
   "cell_type": "code",
   "execution_count": 15,
   "metadata": {},
   "outputs": [
    {
     "name": "stdout",
     "output_type": "stream",
     "text": [
      "GL429767:1-4318\r\n"
     ]
    }
   ],
   "source": [
    "!head -n 1 /local/home/sarahgw/WGS/QC/All_mylu_Map1.txt"
   ]
  },
  {
   "cell_type": "code",
   "execution_count": 9,
   "metadata": {},
   "outputs": [
    {
     "data": {
      "text/plain": [
       "1739971618"
      ]
     },
     "execution_count": 9,
     "metadata": {},
     "output_type": "execute_result"
    }
   ],
   "source": [
    "f=open('/local/home/sarahgw/WGS/QC/All_mylu_Map1.txt', 'r')\n",
    "total=0\n",
    "for line in f:\n",
    "    chrom=line.split(':')\n",
    "    data=chrom[1]\n",
    "    if '-' not in data :\n",
    "        num=1\n",
    "    else: \n",
    "        sub=data.split('-')\n",
    "        num=int(sub[1])-int(sub[0])\n",
    "    total+=num\n",
    "total"
   ]
  },
  {
   "cell_type": "markdown",
   "metadata": {},
   "source": [
    "1,739,971,618\n",
    "so 1.7 GB are mappable score of 1. out of 2.2\n",
    "\n",
    "Limit depth calculation to mappable regions"
   ]
  },
  {
   "cell_type": "code",
   "execution_count": null,
   "metadata": {
    "collapsed": true
   },
   "outputs": [],
   "source": [
    "/local/home/sarahgw/angsd/angsd/angsd -b /local/home/sarahgw/WGS/Sequences/filelists/All_Mylu.filelist -rf /local/home/sarahgw/WGS/QC/All_mylu_Map1.txt -minMapQ 30 -minQ 20 -doCounts 1 -doDepth 1 -maxDepth 1000 -out /local/home/sarahgw/WGS/QC/All_mylu_depth_summary1000 -P 20"
   ]
  },
  {
   "cell_type": "markdown",
   "metadata": {},
   "source": [
    "Make plot using ryan's code"
   ]
  },
  {
   "cell_type": "code",
   "execution_count": 8,
   "metadata": {},
   "outputs": [
    {
     "data": {
      "text/plain": [
       "(0, 101)"
      ]
     },
     "execution_count": 8,
     "metadata": {},
     "output_type": "execute_result"
    },
    {
     "data": {
      "image/png": "[encoded data removed]",
      "text/plain": [
       "<matplotlib.figure.Figure at 0x7ffadc94d710>"
      ]
     },
     "metadata": {},
     "output_type": "display_data"
    }
   ],
   "source": [
    "import numpy as np\n",
    "import matplotlib.pyplot as plt\n",
    "depth = np.loadtxt('/local/home/sarahgw/WGS/QC/All_mylu_depth_summary.depthGlobal', dtype='int')\n",
    "fix, ax = plt.subplots(1, figsize = (16, 10))\n",
    "ax.bar(range(len(depth)), depth, align = 'center')\n",
    "plt.xlim(0, 101)"
   ]
  },
  {
   "cell_type": "code",
   "execution_count": null,
   "metadata": {
    "collapsed": true
   },
   "outputs": [],
   "source": [
    "for file in $ls; do samtools index $file; done"
   ]
  },
  {
   "cell_type": "markdown",
   "metadata": {},
   "source": [
    "look to see if snps of interest are in regions of low mappability (No)"
   ]
  },
  {
   "cell_type": "markdown",
   "metadata": {},
   "source": [
    "# 2. Redoing SNP calling \n",
    "limit to areas with high scores of mappability, limit depth to 1320 (10x depth in every individual)"
   ]
  },
  {
   "cell_type": "code",
   "execution_count": null,
   "metadata": {
    "collapsed": true
   },
   "outputs": [],
   "source": [
    "~/angsd/angsd/angsd -b /local/home/sarahgw/WGS/Sequences/filelists/All_Mylu.filelist -GL 1 -doMajorMinor 1 -doMaf 1 -doCounts 1 -minQ 20 -minMapQ 30 -SNP_pval 1e-6 -minInd 68 -setMaxDepth 1320 -rf /local/home/sarahgw/WGS/QC/All_mylu_Map1.txt -out /local/home/sarahgw/WGS/SNPS/All_mylu/snps/All_mylu_snps_filt -P 20"
   ]
  },
  {
   "cell_type": "markdown",
   "metadata": {},
   "source": [
    "## Calculate genotype likelihoods in beagle format for input into pcangsd"
   ]
  },
  {
   "cell_type": "code",
   "execution_count": null,
   "metadata": {
    "collapsed": true
   },
   "outputs": [],
   "source": [
    "~/angsd/angsd/angsd -b /local/home/sarahgw/WGS/Sequences/filelists/All_Mylu.filelist -GL 1 -doGlf 2 -doMajorMinor 1 -doMaf 1 -doCounts 1 -minQ 20 -minMapQ 30 -SNP_pval 1e-6 -minInd 68 -setMaxDepth 1320 -rf /local/home/sarahgw/WGS/QC/All_mylu_Map1.txt -out /local/home/sarahgw/WGS/SNPS/All_mylu/genolike/All_mylu_gl_filt -P 10"
   ]
  },
  {
   "cell_type": "code",
   "execution_count": null,
   "metadata": {
    "collapsed": true
   },
   "outputs": [],
   "source": [
    "~/angsd/angsd/angsd -b /local/home/sarahgw/WGS/Sequences/filelists/All_Mylu_Myse.filelist -GL 1 -doGlf 2 -doMajorMinor 1 -doMaf 1 -doCounts 1 -minQ 20 -minMapQ 30 -SNP_pval 1e-6 -minInd 68 -setMaxDepth 1320 -rf /local/home/sarahgw/WGS/QC/All_mylu_Map1.txt -out /local/home/sarahgw/WGS/SNPS/All_mylu/genolike/All_mylu_myse_gl_filt -P 10"
   ]
  },
  {
   "cell_type": "code",
   "execution_count": null,
   "metadata": {
    "collapsed": true
   },
   "outputs": [],
   "source": [
    "All_Mylu_Myse.filelist"
   ]
  },
  {
   "cell_type": "code",
   "execution_count": null,
   "metadata": {
    "collapsed": true
   },
   "outputs": [],
   "source": [
    "python /local/home/sarahgw/pcangsd/pcangsd.py -beagle /local/home/sarahgw/WGS/SNPS/All_mylu/genolike/All_mylu_gl_filt.beagle.gz -n 132 -o /local/home/sarahgw/WGS/SNPS/All_mylu/genolike/All_mylu_gl_filt -threads 10"
   ]
  },
  {
   "cell_type": "markdown",
   "metadata": {},
   "source": [
    "admix with pcangsd"
   ]
  },
  {
   "cell_type": "code",
   "execution_count": null,
   "metadata": {
    "collapsed": true
   },
   "outputs": [],
   "source": [
    "python /local/home/sarahgw/pcangsd/pcangsd.py -beagle /local/home/sarahgw/WGS/SNPS/All_mylu/genolike/All_mylu_gl_filt.beagle.gz -n 132 -admix -admix_save -admix_alpha 1 -o /local/home/sarahgw/WGS/SNPS/All_mylu/genolike/All_mylu_gl_filt -threads 20"
   ]
  },
  {
   "cell_type": "code",
   "execution_count": null,
   "metadata": {
    "collapsed": true
   },
   "outputs": [],
   "source": [
    "python /local/home/sarahgw/pcangsd/pcangsd.py -beagle /local/home/sarahgw/WGS/SNPS/All_mylu/genolike/All_mylu_gl_filt.beagle.gz -o /local/home/sarahgw/WGS/SNPS/All_mylu/genolike/All_mylu_gl_filt_se1 -selection 1 -threads 20"
   ]
  },
  {
   "cell_type": "markdown",
   "metadata": {},
   "source": [
    "## Now calculate minor allele frequencies for each population for SNPS \n",
    "\n",
    "first make sites index file\n",
    "\n",
    "Include major and minor, so that these are consistent across populations, even if not accurate in a given (sub)population"
   ]
  },
  {
   "cell_type": "code",
   "execution_count": 2,
   "metadata": {
    "collapsed": true
   },
   "outputs": [],
   "source": [
    "!gunzip /local/home/sarahgw/WGS/SNPS/All_mylu/All_mylu.mafs.gz"
   ]
  },
  {
   "cell_type": "code",
   "execution_count": 1,
   "metadata": {
    "collapsed": true
   },
   "outputs": [],
   "source": [
    "!cut -f1-4 /local/home/sarahgw/WGS/SNPS/All_mylu/snps/All_mylu_snps_filt.mafs > /local/home/sarahgw/WGS/SNPS/All_mylu/snps/All_mylu_snps_filt_sites.txt"
   ]
  },
  {
   "cell_type": "code",
   "execution_count": 2,
   "metadata": {},
   "outputs": [
    {
     "name": "stdout",
     "output_type": "stream",
     "text": [
      "44829667 /local/home/sarahgw/WGS/SNPS/All_mylu/snps/All_mylu_snps_filt.mafs\r\n"
     ]
    }
   ],
   "source": [
    "!wc -l /local/home/sarahgw/WGS/SNPS/All_mylu/snps/All_mylu_snps_filt.mafs"
   ]
  },
  {
   "cell_type": "code",
   "execution_count": 15,
   "metadata": {},
   "outputs": [
    {
     "name": "stdout",
     "output_type": "stream",
     "text": [
      "chromo\tposition\tmajor\tminor\tknownEM\tpK-EM\tnInd\r\n",
      "GL429767\t78\tG\tA\t0.038942\t0.000000e+00\t73\r\n",
      "GL429767\t104\tA\tT\t0.099900\t0.000000e+00\t71\r\n",
      "GL429767\t112\tG\tA\t0.009628\t2.170143e-09\t73\r\n",
      "GL429767\t195\tC\tT\t0.049670\t0.000000e+00\t87\r\n",
      "GL429767\t196\tT\tC\t0.082842\t0.000000e+00\t86\r\n",
      "GL429767\t202\tA\tG\t0.234427\t0.000000e+00\t87\r\n",
      "GL429767\t295\tA\tT\t0.076318\t0.000000e+00\t84\r\n",
      "GL429767\t317\tG\tA\t0.184128\t0.000000e+00\t88\r\n",
      "GL429767\t324\tT\tA\t0.244735\t0.000000e+00\t90\r\n"
     ]
    }
   ],
   "source": [
    "!head /local/home/sarahgw/WGS/SNPS/All_mylu/snps/All_mylu_snps_filt.mafs"
   ]
  },
  {
   "cell_type": "code",
   "execution_count": 38,
   "metadata": {},
   "outputs": [
    {
     "name": "stdout",
     "output_type": "stream",
     "text": [
      "chromo\tposition\tmajor\tminor\tknownEM\tunknownEM\tphat\tpK-EM\tpu-EM\tnInd\r\n",
      "GL429767\t54\tG\tT\t0.010604\t0.003561\t0.010596\t1.780614e-05\t8.907360e-05\t132\r\n",
      "GL429767\t78\tG\tA\t0.038947\t0.038947\t0.048613\t0.000000e+00\t0.000000e+00\t132\r\n",
      "GL429767\t83\tG\tT\t0.009379\t0.003079\t0.009519\t7.572331e-03\t4.047936e-02\t132\r\n",
      "GL429767\t104\tA\tT\t0.099904\t0.099904\t0.112676\t0.000000e+00\t0.000000e+00\t132\r\n",
      "GL429767\t109\tT\tC\t0.008437\t0.006854\t0.003124\t7.962769e-02\t2.694076e-01\t132\r\n",
      "GL429767\t112\tG\tA\t0.009633\t0.004939\t0.014536\t2.170143e-09\t8.087610e-09\t132\r\n",
      "GL429767\t157\tT\tC\t0.008590\t0.008094\t0.005589\t2.282445e-02\t7.836519e-02\t132\r\n",
      "GL429767\t184\tC\tG\t0.008224\t0.002742\t0.003536\t1.670660e-04\t8.589729e-04\t132\r\n",
      "GL429767\t189\tG\tT\t0.007934\t0.007740\t0.007856\t9.091749e-03\t3.092228e-02\t132\r\n"
     ]
    }
   ],
   "source": [
    "!head /local/home/sarahgw/WGS/SNPS/All_mylu/mafs/All_mylu_test.mafs"
   ]
  },
  {
   "cell_type": "code",
   "execution_count": 2,
   "metadata": {
    "collapsed": true
   },
   "outputs": [],
   "source": [
    "!head /local/home/sarahgw/WGS/SNPS/All_mylu/mafs/All_mylu.mafs > /local/home/sarahgw/WGS/SNPS/All_mylu/mafs/All_mylu_test.mafs"
   ]
  },
  {
   "cell_type": "markdown",
   "metadata": {},
   "source": [
    "So, we now have 44,829,667 SNPs!"
   ]
  },
  {
   "cell_type": "markdown",
   "metadata": {},
   "source": [
    "## filter snps out that are located in repeat regions"
   ]
  },
  {
   "cell_type": "code",
   "execution_count": 72,
   "metadata": {
    "collapsed": true
   },
   "outputs": [],
   "source": [
    "from Bio import SeqIO\n",
    "\n",
    "tmp = open('/local/home/sarahgw/WGS/SNPS/All_mylu/snps/All_mylu_snps_filt.mafs')\n",
    "lines = tmp.readlines()\n",
    "lines[1]\n",
    "tmp.close()\n",
    "del tmp\n"
   ]
  },
  {
   "cell_type": "code",
   "execution_count": 73,
   "metadata": {
    "collapsed": true
   },
   "outputs": [],
   "source": [
    "scaffolds = {}\n",
    "\n",
    "for line in lines[1:]:\n",
    "    line = line.split(\"\\t\")\n",
    "    scaffold = line[0]\n",
    "    index = int(line[1])\n",
    "    \n",
    "    if scaffold in scaffolds:\n",
    "        scaffolds[scaffold].append(index)\n",
    "        #print(scaffold)\n",
    "    else:\n",
    "        scaffolds[scaffold] = [index]"
   ]
  },
  {
   "cell_type": "code",
   "execution_count": 74,
   "metadata": {
    "collapsed": true
   },
   "outputs": [],
   "source": [
    "o=open(\"/local/home/sarahgw/WGS/SNPS/All_mylu/snps/NJNY50_SNPs_nr.txt\", \"w+\")\n",
    "read_data = []\n",
    "\n",
    "\n",
    "for read in SeqIO.parse(\"/local/home/sarahgw/references/Myotis_lucifugus.Myoluc2.0.dna_sm.toplevel.fa\", \"fasta\"):\n",
    "    if read.id in scaffolds:\n",
    "        indexes = scaffolds[read.id]\n",
    "        for idx in indexes:\n",
    "            data = str(read.seq[idx-1:idx])\n",
    "            if data.isupper():\n",
    "                snp=int(idx)\n",
    "                scaf = (read.id, snp)\n",
    "                out = str(scaf)\n",
    "                o.write(out+'\\n')"
   ]
  },
  {
   "cell_type": "code",
   "execution_count": 77,
   "metadata": {},
   "outputs": [
    {
     "name": "stdout",
     "output_type": "stream",
     "text": [
      "31517948 /local/home/sarahgw/WGS/SNPS/All_mylu/snps/NJNY50_SNPs_nr.txt\r\n"
     ]
    }
   ],
   "source": [
    "!wc -l /local/home/sarahgw/WGS/SNPS/All_mylu/snps/NJNY50_SNPs_nr.txt"
   ]
  },
  {
   "cell_type": "code",
   "execution_count": 10,
   "metadata": {},
   "outputs": [],
   "source": [
    "!sed \"s/'//g\" /local/home/sarahgw/WGS/SNPS/All_mylu/snps/NJNY50_SNPs_nr.txt | sed \"s/(//g\" |  sed \"s/)//g\"  > /local/home/sarahgw/WGS/SNPS/All_mylu/snps/NJNY50_SNPs_nr_clean.csv"
   ]
  },
  {
   "cell_type": "code",
   "execution_count": 11,
   "metadata": {},
   "outputs": [
    {
     "name": "stdout",
     "output_type": "stream",
     "text": [
      "GL429767, 78\r\n",
      "GL429767, 104\r\n",
      "GL429767, 112\r\n",
      "GL429767, 195\r\n",
      "GL429767, 196\r\n",
      "GL429767, 202\r\n",
      "GL429767, 295\r\n",
      "GL429767, 317\r\n",
      "GL429767, 324\r\n",
      "GL429767, 330\r\n"
     ]
    }
   ],
   "source": [
    "!head /local/home/sarahgw/WGS/SNPS/All_mylu/snps/NJNY50_SNPs_nr_clean.csv"
   ]
  },
  {
   "cell_type": "code",
   "execution_count": 3,
   "metadata": {
    "collapsed": true
   },
   "outputs": [],
   "source": [
    "!tail -n+2 /local/home/sarahgw/WGS/SNPS/All_mylu/snps/All_mylu_snps_filt_sites.txt > /local/home/sarahgw/WGS/SNPS/All_mylu/snps/All_mylu_snps_filt_sites1.txt"
   ]
  },
  {
   "cell_type": "code",
   "execution_count": null,
   "metadata": {
    "collapsed": true
   },
   "outputs": [],
   "source": [
    "~/angsd/angsd/angsd sites index All_mylu_snps_filt_sites1.txt"
   ]
  },
  {
   "cell_type": "code",
   "execution_count": null,
   "metadata": {
    "collapsed": true
   },
   "outputs": [],
   "source": [
    "for POP in NJ_U NY_U VT_U; do echo $POP; ~/angsd/angsd/angsd -b /local/home/sarahgw/WGS/Sequences/filelists/\"$POP\".filelist -GL 1 -doMajorMinor 3 -doMaf 11 -doCounts 1 -minQ 20 -minMapQ 30 -P 30 -setMaxDepth 270 -sites /local/home/sarahgw/WGS/SNPS/All_mylu/snps/All_mylu_snps_filt_sites1.txt -out /local/home/sarahgw/WGS/SNPS/All_mylu/mafs/\"$POP\"_filt; done"
   ]
  },
  {
   "cell_type": "code",
   "execution_count": null,
   "metadata": {
    "collapsed": true
   },
   "outputs": [],
   "source": [
    "for POP in NJ_E NY_E VT_E ; do echo $POP; ~/angsd/angsd/angsd -b /local/home/sarahgw/WGS/Sequences/filelists/\"$POP\".filelist -GL 1 -doMajorMinor 3 -doMaf 11 -doCounts 1 -minQ 20 -minMapQ 30 -P 20 -setMaxDepth 270 -sites /local/home/sarahgw/WGS/SNPS/All_mylu/snps/All_mylu_snps_filt_sites1.txt -out /local/home/sarahgw/WGS/SNPS/All_mylu/mafs/\"$POP\"_filt; done"
   ]
  },
  {
   "cell_type": "code",
   "execution_count": null,
   "metadata": {
    "collapsed": true
   },
   "outputs": [],
   "source": [
    "for POP in NY_U VT_U ; do echo $POP; ~/angsd/angsd/angsd -b /local/home/sarahgw/WGS/Sequences/filelists/\"$POP\"_noOut.filelist -GL 1 -doMajorMinor 3 -doMaf 11 -doCounts 1 -minQ 20 -minMapQ 30 -P 20 -setMaxDepth 270 -sites /local/home/sarahgw/WGS/SNPS/All_mylu/snps/All_mylu_snps_filt_sites1.txt -out /local/home/sarahgw/WGS/SNPS/All_mylu/mafs/\"$POP\"_noOut_filt; done"
   ]
  },
  {
   "cell_type": "markdown",
   "metadata": {},
   "source": [
    "redo VTE mafs"
   ]
  },
  {
   "cell_type": "code",
   "execution_count": null,
   "metadata": {
    "collapsed": true
   },
   "outputs": [],
   "source": [
    "~/angsd/angsd/angsd -b /local/home/sarahgw/WGS/Sequences/filelists/VT_E.filelist -GL 1 -doMajorMinor 3 -doMaf 11 -doCounts 1 -minQ 20 -minMapQ 30 -P 20 -setMaxDepth 270 -sites /local/home/sarahgw/WGS/SNPS/All_mylu/snps/All_mylu_snps_filt_sites1.txt -out /local/home/sarahgw/WGS/SNPS/All_mylu/mafs/VT_E_filt"
   ]
  },
  {
   "cell_type": "code",
   "execution_count": 1,
   "metadata": {
    "collapsed": true
   },
   "outputs": [],
   "source": [
    "!gunzip /local/home/sarahgw/WGS/SNPS/All_mylu/mafs/*_filt.mafs.gz"
   ]
  },
  {
   "cell_type": "markdown",
   "metadata": {},
   "source": [
    "no outlier check:"
   ]
  },
  {
   "cell_type": "code",
   "execution_count": 1,
   "metadata": {
    "collapsed": true
   },
   "outputs": [],
   "source": [
    "!gunzip /local/home/sarahgw/WGS/SNPS/All_mylu/mafs/VT_U_noOut_filt.mafs.gz\n",
    "!gunzip /local/home/sarahgw/WGS/SNPS/All_mylu/mafs/NY_U_noOut_filt.mafs.gz"
   ]
  },
  {
   "cell_type": "code",
   "execution_count": 3,
   "metadata": {},
   "outputs": [
    {
     "name": "stdout",
     "output_type": "stream",
     "text": [
      "chromo\tposition\tmajor\tminor\tknownEM\tunknownEM\tphat\tnInd\r\n",
      "GL429767\t78\tG\tA\t0.000000\t0.000003\t0.000000\t15\r\n",
      "GL429767\t104\tA\tT\t0.096519\t0.034151\t0.104578\t15\r\n",
      "GL429767\t112\tG\tA\t0.000000\t0.037773\t0.000000\t14\r\n",
      "GL429767\t195\tC\tT\t0.049193\t0.048816\t0.035401\t15\r\n",
      "GL429767\t196\tT\tC\t0.055152\t0.055157\t0.032916\t14\r\n",
      "GL429767\t202\tA\tG\t0.312346\t0.312350\t0.294787\t14\r\n",
      "GL429767\t295\tA\tT\t0.000000\t0.000003\t0.000000\t11\r\n",
      "GL429767\t317\tG\tA\t0.202838\t0.202840\t0.168168\t10\r\n",
      "GL429767\t324\tT\tA\t0.203906\t0.203909\t0.169051\t10\r\n"
     ]
    }
   ],
   "source": [
    "!head /local/home/sarahgw/WGS/SNPS/All_mylu/mafs/NY_U_noOut_filt.mafs"
   ]
  },
  {
   "cell_type": "code",
   "execution_count": 4,
   "metadata": {},
   "outputs": [
    {
     "name": "stdout",
     "output_type": "stream",
     "text": [
      "\"\",\"Scaffold\",\"NewScaf\",\"SNP\",\"Maj\",\"Min\",\"NJ\",\"NY\",\"Comp\",\"rank\",\"padjBH\"\r\n",
      "\"1\",\"GL429767\",\"NW_005871048.1\",16839644,\"T\",\"A\",8.3999916000084e-05,0.000181999818000182,2.90413319116625e-07,70,5.39909603706351e-07\r\n",
      "\"2\",\"GL429767\",\"NW_005871048.1\",38456248,\"T\",\"C\",2.8999971000029e-05,0.000823999176000824,4.43259321723044e-07,78,6.01613558415648e-07\r\n",
      "\"3\",\"GL429767\",\"NW_005871048.1\",22649683,\"T\",\"A\",0.000658999341000659,9.99999000001e-07,1.45904282432881e-08,20,1.54259886773243e-07\r\n",
      "\"4\",\"GL429767\",\"NW_005871048.1\",46534125,\"C\",\"T\",6.6999933000067e-05,9.99999000001e-07,1.63656087014458e-09,9,6.94169490479594e-08\r\n",
      "\"5\",\"GL429767\",\"NW_005871048.1\",51542832,\"G\",\"A\",9.99999000001e-07,0.000233999766000234,5.42310342192109e-09,13,1.00268926402608e-07\r\n",
      "\"6\",\"GL429768\",\"NW_005871049.1\",3921142,\"G\",\"C\",9.99999000001e-07,0.0138399861600138,2.64284027064383e-07,67,5.16770620690364e-07\r\n",
      "\"7\",\"GL429768\",\"NW_005871049.1\",34577793,\"C\",\"T\",0.000584999415000585,2.3999976000024e-05,2.6790172263069e-07,68,5.24483615029027e-07\r\n",
      "\"8\",\"GL429768\",\"NW_005871049.1\",29962249,\"A\",\"G\",9.99999000001e-07,0.00581299418700581,1.16045681211861e-07,52,4.01075705610432e-07\r\n",
      "\"9\",\"GL429770\",\"NW_005871051.1\",8292792,\"A\",\"T\",7.999992000008e-06,9.99999000001e-07,2.12412227769314e-10,4,3.08519773546486e-08\r\n"
     ]
    }
   ],
   "source": [
    "!head /local/home/sarahgw/WGS/SNPS/All_mylu/snps/NJNY50_sigCompvaluesNe424_296.csv"
   ]
  },
  {
   "cell_type": "code",
   "execution_count": 2,
   "metadata": {},
   "outputs": [
    {
     "name": "stdout",
     "output_type": "stream",
     "text": [
      "   44829593 /local/home/sarahgw/WGS/SNPS/All_mylu/mafs/NJ_E_filt.mafs\n",
      "   44829662 /local/home/sarahgw/WGS/SNPS/All_mylu/mafs/NJ_U_filt.mafs\n",
      "   44829667 /local/home/sarahgw/WGS/SNPS/All_mylu/mafs/NY_E_filt.mafs\n",
      "   44829341 /local/home/sarahgw/WGS/SNPS/All_mylu/mafs/NY_U_filt.mafs\n",
      "   44829648 /local/home/sarahgw/WGS/SNPS/All_mylu/mafs/VT_E_filt.mafs\n",
      "   44828941 /local/home/sarahgw/WGS/SNPS/All_mylu/mafs/VT_U_filt.mafs\n",
      "  268976852 total\n"
     ]
    }
   ],
   "source": [
    "!wc -l /local/home/sarahgw/WGS/SNPS/All_mylu/mafs/*_filt.mafs"
   ]
  },
  {
   "cell_type": "code",
   "execution_count": 5,
   "metadata": {
    "collapsed": true
   },
   "outputs": [],
   "source": [
    "!head /local/home/sarahgw/WGS/SNPS/All_mylu/mafs/NJ_E_filt.mafs > /local/home/sarahgw/WGS/SNPS/All_mylu/mafs/NJ_E_filttest.mafs\n",
    "!head /local/home/sarahgw/WGS/SNPS/All_mylu/snps/All_mylu_snps_filt.mafs > /local/home/sarahgw/WGS/SNPS/All_mylu/snps/All_mylu_snps_filttest.mafs"
   ]
  },
  {
   "cell_type": "code",
   "execution_count": 1,
   "metadata": {},
   "outputs": [
    {
     "name": "stdout",
     "output_type": "stream",
     "text": [
      "3 0\n"
     ]
    }
   ],
   "source": [
    "import traceback\n",
    "\n",
    "#NJE=open('/local/home/sarahgw/WGS/SNPS/All_mylu/mafs/NJ_E_filt.mafs', 'r')\n",
    "#NJU=open('/local/home/sarahgw/WGS/SNPS/All_mylu/mafs/NJ_U_filt.mafs', 'r')\n",
    "#NYE=open('/local/home/sarahgw/WGS/SNPS/All_mylu/mafs/NY_E_filt.mafs', 'r')\n",
    "#NYU=open('/local/home/sarahgw/WGS/SNPS/All_mylu/mafs/NY_U_filt.mafs', 'r')\n",
    "VTE=open('/local/home/sarahgw/WGS/SNPS/All_mylu/mafs/VT_E_filt.mafs', 'r')\n",
    "#VTU=open('/local/home/sarahgw/WGS/SNPS/All_mylu/mafs/VT_U_filt.mafs', 'r')\n",
    "\n",
    "SNP=open('/local/home/sarahgw/WGS/SNPS/All_mylu/snps/All_mylu_snps_filt.mafs', 'r')\n",
    "\n",
    "\n",
    "#NJE1=open('/local/home/sarahgw/WGS/SNPS/All_mylu/mafs/NJ_E_filt1.mafs', 'w')\n",
    "#NJU1=open('/local/home/sarahgw/WGS/SNPS/All_mylu/mafs/NJ_U_filt1.mafs', 'w')\n",
    "#NYE1=open('/local/home/sarahgw/WGS/SNPS/All_mylu/mafs/NY_E_filt1.mafs', 'w')\n",
    "#NYU1=open('/local/home/sarahgw/WGS/SNPS/All_mylu/mafs/NY_U_filt1.mafs', 'w')\n",
    "VTE1=open('/local/home/sarahgw/WGS/SNPS/All_mylu/mafs/VT_E_filt1.mafs', 'w')\n",
    "#VTU1=open('/local/home/sarahgw/WGS/SNPS/All_mylu/mafs/VT_U_filt1.mafs', 'w')\n",
    "\n",
    "readFile =VTE\n",
    "\n",
    "copies = 0\n",
    "skipped = 0\n",
    "\n",
    "# Skip headers\n",
    "\n",
    "cmpLine = SNP.readline()\n",
    "chkLine = VTE.readline()\n",
    "while True:\n",
    "    \n",
    "    # Read master\n",
    "    cmpLine = SNP.readline().split()\n",
    "    chkLine = VTE.readline().split()\n",
    "    line = ' '.join((chkLine))\n",
    "\n",
    "    if not chkLine or not cmpLine:\n",
    "        print(skipped, copies)\n",
    "        break\n",
    "        \n",
    "    cmpChrom = cmpLine[0].strip()\n",
    "    cmpLoc = cmpLine[1].strip()\n",
    "    chkChrom=chkLine[0].strip()\n",
    "    chkLoc=chkLine[1].strip()\n",
    "    \n",
    "    # If they are not the same increment the snps pointer until they are\n",
    "    while cmpChrom != chkChrom or cmpLoc != chkLoc:\n",
    "        skipped += 1\n",
    "        \n",
    "        cmpLine = SNP.readline().split()\n",
    "        if not cmpLine:\n",
    "            break\n",
    "        cmpChrom = cmpLine[0].strip()\n",
    "        cmpLoc = cmpLine[1].strip()\n",
    "        VTE1.write('NA NA NA NA NA NA NA NA \\n')\n",
    "        # Need to print a line to your file for every line in skips\n",
    "        \n",
    "    \n",
    "    # Print the line to\" a file\n",
    "    VTE1.write(line + '\\n')\n",
    "    \n",
    "VTE1.close()\n",
    "VTE.close()\n",
    "SNP.close()"
   ]
  },
  {
   "cell_type": "code",
   "execution_count": 7,
   "metadata": {},
   "outputs": [
    {
     "name": "stdout",
     "output_type": "stream",
     "text": [
      "44829666 /local/home/sarahgw/WGS/SNPS/All_mylu/mafs/NJ_E_filt1.mafs\r\n"
     ]
    }
   ],
   "source": [
    "!wc -l /local/home/sarahgw/WGS/SNPS/All_mylu/mafs/NJ_E_filt1.mafs"
   ]
  },
  {
   "cell_type": "code",
   "execution_count": 2,
   "metadata": {},
   "outputs": [
    {
     "name": "stdout",
     "output_type": "stream",
     "text": [
      "44829666 /local/home/sarahgw/WGS/SNPS/All_mylu/mafs/NJ_U_filt1.mafs\r\n"
     ]
    }
   ],
   "source": [
    "!wc -l /local/home/sarahgw/WGS/SNPS/All_mylu/mafs/NJ_U_filt1.mafs"
   ]
  },
  {
   "cell_type": "code",
   "execution_count": 6,
   "metadata": {},
   "outputs": [
    {
     "name": "stdout",
     "output_type": "stream",
     "text": [
      "44829667 /local/home/sarahgw/WGS/SNPS/All_mylu/snps/All_mylu_snps_filt.mafs\r\n"
     ]
    }
   ],
   "source": [
    "!wc -l /local/home/sarahgw/WGS/SNPS/All_mylu/snps/All_mylu_snps_filt.mafs"
   ]
  },
  {
   "cell_type": "code",
   "execution_count": null,
   "metadata": {
    "collapsed": true
   },
   "outputs": [],
   "source": []
  },
  {
   "cell_type": "markdown",
   "metadata": {},
   "source": [
    "##  3. make bootstrapped filelists run domaf with each\n",
    "\n",
    "So, for each snp. you need to first use bedtools to mark individuals as either 0 or 1 (has data)\n",
    "then, take list of individuals with 1s for EACH snp, and bootstrap it. (100 times? more?)\n",
    "Then feed those bootstrapped lists into ANGSD to calculate mafs. "
   ]
  },
  {
   "cell_type": "markdown",
   "metadata": {
    "collapsed": true
   },
   "source": [
    "Calculate depth for each snp for each individual"
   ]
  },
  {
   "cell_type": "code",
   "execution_count": 36,
   "metadata": {
    "collapsed": true,
    "scrolled": true
   },
   "outputs": [],
   "source": [
    "!cut -f1-2 /local/home/sarahgw/WGS/SNPS/All_mylu/snps/njnyvteu40sites.txt |  awk -v OFS='\\t' '{print $1, ($2-1), $2}'> /local/home/sarahgw/WGS/SNPS/All_mylu/snps/njnyvteu40sites.bed "
   ]
  },
  {
   "cell_type": "code",
   "execution_count": 6,
   "metadata": {},
   "outputs": [
    {
     "name": "stdout",
     "output_type": "stream",
     "text": [
      "93 /local/home/sarahgw/WGS/SNPS/All_mylu/snps/njnyvteu40sites.bed\r\n"
     ]
    }
   ],
   "source": [
    "!wc -l /local/home/sarahgw/WGS/SNPS/All_mylu/snps/njnyvteu40sites.bed "
   ]
  },
  {
   "cell_type": "markdown",
   "metadata": {},
   "source": [
    "Calculate depth for  all individuals, remove unnecessary columns, split by snp, paste filelist, split by population. "
   ]
  },
  {
   "cell_type": "code",
   "execution_count": null,
   "metadata": {
    "collapsed": true
   },
   "outputs": [],
   "source": [
    "samtools mpileup -b /local/home/sarahgw/WGS/Sequences/filelists/All_Mylu.filelist -l /local/home/sarahgw/WGS/SNPS/All_mylu/snps/njnyvteu40sites.bed > /local/home/sarahgw/WGS/SNPS/All_mylu/mafs/All_mylu_Depth.txt "
   ]
  },
  {
   "cell_type": "code",
   "execution_count": null,
   "metadata": {
    "collapsed": true,
    "scrolled": true
   },
   "outputs": [],
   "source": [
    "for i in `seq 4 3 398`; do awk -v OFS='\\t' -v a=\"$i\" '{print $1, $2, $a}' /local/home/sarahgw/WGS/SNPS/All_mylu/mafs/All_mylu_Depth.txt; done | awk '{print>$2}' "
   ]
  },
  {
   "cell_type": "code",
   "execution_count": null,
   "metadata": {
    "collapsed": true
   },
   "outputs": [],
   "source": [
    "for file in $(ls); do paste \"$file\" /local/home/sarahgw/WGS/Sequences/filelists/All_Mylu.filelist |awk '(NR>1) && ($3 > 0 ) '| awk '{print $4}'|awk '{print > substr ($0,1,5)'$file'}'; done"
   ]
  },
  {
   "cell_type": "markdown",
   "metadata": {},
   "source": [
    "Angsd is somehow filtering out more individuals than samtools is. which is resulting in files like below. I can't find anything about how ANGSD calculates the number of individuals with data, but for now I'm going to assume that these slight number changes aren't going to make a difference. "
   ]
  },
  {
   "cell_type": "code",
   "execution_count": 2,
   "metadata": {
    "scrolled": true
   },
   "outputs": [
    {
     "name": "stdout",
     "output_type": "stream",
     "text": [
      "GL431057\t47720\tT\tC\t0.106055\t0.006377\t0.098227\t15\r\n",
      "GL431057\t47720\tT\tC\t0.198283\t0.083965\t0.179573\t16\r\n",
      "GL431057\t47720\tT\tC\t0.101079\t0.099994\t0.055104\t14\r\n",
      "GL431057\t47720\tT\tC\t0.186894\t0.134883\t0.105333\t15\r\n",
      "GL431057\t47720\tT\tC\t0.230963\t0.119126\t0.196123\t16\r\n",
      "GL431057\t47720\tT\tC\t0.250262\t0.184608\t0.181053\t14\r\n",
      "GL431057\t47720\tT\tC\t0.338863\t0.000031\t0.339485\t14\r\n",
      "GL431057\t47720\tT\tC\t0.104191\t0.052238\t0.057367\t14\r\n",
      "GL431057\t47720\tT\tC\t0.150871\t0.032618\t0.084884\t14\r\n",
      "GL431057\t47720\tT\tC\t0.097105\t0.042040\t0.090790\t16\r\n"
     ]
    }
   ],
   "source": [
    "!head /local/home/sarahgw/WGS/SNPS/All_mylu/mafs/Bootstrapped_mafs/All_bootstrapped_mafs/NJ_E_47720.mafs"
   ]
  },
  {
   "cell_type": "markdown",
   "metadata": {},
   "source": [
    "Boostrap filelists"
   ]
  },
  {
   "cell_type": "code",
   "execution_count": 12,
   "metadata": {
    "collapsed": true
   },
   "outputs": [],
   "source": [
    "import numpy as np\n",
    "def run_bs(filename):\n",
    "    f=open('/local/home/sarahgw/WGS/SNPS/All_mylu/mafs/FiltFiles/Site_SNPS_Data/{}'.format(filename), 'r')\n",
    "    lines = [line.rstrip('\\n') for line in f]\n",
    "    count = len(lines)\n",
    "    for i in range(100):\n",
    "        boot=np.random.choice(lines, count)\n",
    "        boot1=\"\\n\".join(boot)\n",
    "        o=open('/local/home/sarahgw/WGS/SNPS/All_mylu/mafs/FiltFiles/Bootstrapped_Filelists/{}_{}'.format(filename, i+1), 'w')\n",
    "        o.write(boot1)"
   ]
  },
  {
   "cell_type": "markdown",
   "metadata": {},
   "source": [
    "Make sites and chromosome files index"
   ]
  },
  {
   "cell_type": "code",
   "execution_count": null,
   "metadata": {
    "collapsed": true
   },
   "outputs": [],
   "source": [
    "import time\n",
    "\n",
    "f = open(\"/local/home/sarahgw/WGS/SNPS/All_mylu/snps/njnyvteu40sites.txt\", 'r')\n",
    "for line in f:\n",
    "    args = line.split()\n",
    "    \n",
    "    # Make sites file\n",
    "    site = \"/local/home/sarahgw/WGS/SNPS/All_mylu/snps/sites_files/{}_sites.txt\".format(args[1])\n",
    "    o = open(site,'w')\n",
    "    o.write('\\t'.join(args))\n",
    "    o.close()\n",
    "        \n",
    "    # Make chromo file\n",
    "    chrom = \"/local/home/sarahgw/WGS/SNPS/All_mylu/snps/chrom_files/{}_chrom.txt\".format(args[1])\n",
    "    o = open(chrom, 'w')\n",
    "    o.write(args[0])\n",
    "    o.close()\n",
    "    \n",
    "    \n",
    "# Silly, but accomodates angsd's file create time check\n",
    "time.sleep(5)\n",
    "\n",
    "f = open(\"/local/home/sarahgw/WGS/SNPS/All_mylu/snps/njnyvteu40sites.txt\", 'r')\n",
    "for line in f:\n",
    "    args = line.split()\n",
    "        \n",
    "    # Index sites file\n",
    "    site = \"/local/home/sarahgw/WGS/SNPS/All_mylu/snps/sites_files/{}_sites.txt\".format(args[1])\n",
    "    cmd = \"/local/home/sarahgw/angsd/angsd/angsd sites index {}\".format(site)\n",
    "    print cmd\n",
    "    subprocess.call(cmd.split())"
   ]
  },
  {
   "cell_type": "markdown",
   "metadata": {
    "collapsed": true
   },
   "source": [
    "Calculate bootstrapped maf files\n",
    "\n",
    "script in ~/WNS_Scripts/WNS_WGS/Scripts/run_angsd_bootstrapped.py"
   ]
  },
  {
   "cell_type": "code",
   "execution_count": 7,
   "metadata": {},
   "outputs": [
    {
     "name": "stdout",
     "output_type": "stream",
     "text": [
      "['NY_U_45231339', 'NY_E_941437']\n"
     ]
    },
    {
     "data": {
      "text/plain": [
       "[None, None]"
      ]
     },
     "execution_count": 7,
     "metadata": {},
     "output_type": "execute_result"
    }
   ],
   "source": [
    "from os import listdir, path\n",
    "from multiprocessing.pool import ThreadPool\n",
    "import subprocess\n",
    "import sys\n",
    "\n",
    "site = sys.argv[1]\n",
    "\n",
    "def run_angsd(filename):\n",
    "\n",
    "    # Runs angsd for each snp and 100 bootstrapped files\n",
    "    for i in range(100):\n",
    "        snp_idx = filename.split('_')[-1]\n",
    "        bs_file = '/local/home/sarahgw/WGS/SNPS/All_mylu/mafs/FiltFiles/{}_Bootstrapped_Filelists/{}_{}'.format(site, filename, i+1)\n",
    "        chrom_file = '/local/home/sarahgw/WGS/SNPS/All_mylu/snps/{}_chrom_files/{}_chrom.txt'.format(site, snp_idx)\n",
    "        site_ref_file = '/local/home/sarahgw/WGS/SNPS/All_mylu/snps/{}_sites_files/{}_sites.txt'.format(site, snp_idx)\n",
    "        output_file = '/local/home/sarahgw/WGS/SNPS/All_mylu/mafs/{}_Bootstrapped_mafs/tmp/{}_{}'.format(site, filename, i+1)\n",
    "        cmd = \"/local/home/sarahgw/angsd/angsd/angsd -b {} -GL 1 -doMajorMinor 3 -doMaf 11 -doCounts 1 -P 20 -rf {} -sites {} -out {}\".format(bs_file, chrom_file, site_ref_file, ou$\n",
    "        subprocess.call(cmd.split())\n",
    "\n",
    "\n",
    "\n",
    "files = listdir('/local/home/sarahgw/WGS/SNPS/All_mylu/mafs/FiltFiles/{}_Site_SNPS_Data/'.format(site))\n",
    "\n",
    "for f in list(files):\n",
    "    if path.isfile('/local/home/sarahgw/WGS/SNPS/All_mylu/mafs/{}_Bootstrapped_mafs/tmp/{}_100.arg'.format(site, f)):\n",
    "        # print \"done {}\".format(f)\n",
    "        files.remove(f)\n",
    "pool = ThreadPool(20)\n",
    "print files[:2]\n",
    "pool.map(run_angsd, files[:2])\n",
    "\n",
    "#for i in range(len(files)):\n",
    "#    f = files[i]\n",
    "#    print \"{}: Running angsd for {}\".format(i, f)\n",
    "#    run_angsd((site, f))\n",
    "\n",
    "\n"
   ]
  },
  {
   "cell_type": "code",
   "execution_count": null,
   "metadata": {
    "collapsed": true
   },
   "outputs": [],
   "source": []
  },
  {
   "cell_type": "code",
   "execution_count": null,
   "metadata": {
    "collapsed": true
   },
   "outputs": [],
   "source": [
    "!gunzip /local/home/sarahgw/WGS/SNPS/All_mylu/mafs/Bootstrapped_mafs/NY*.mafs.gz\n",
    "!gunzip /local/home/sarahgw/WGS/SNPS/All_mylu/mafs/Bootstrapped_mafs/VT*.mafs.gz\n",
    "!gunzip /local/home/sarahgw/WGS/SNPS/All_mylu/mafs/Bootstrapped_mafs/NJ*.mafs.gz"
   ]
  },
  {
   "cell_type": "code",
   "execution_count": 15,
   "metadata": {
    "collapsed": true
   },
   "outputs": [],
   "source": []
  },
  {
   "cell_type": "code",
   "execution_count": null,
   "metadata": {
    "collapsed": true
   },
   "outputs": [],
   "source": [
    "from os import listdir\n",
    "\n",
    "def site_mafs(filename):\n",
    "    # put e and u together for each site\n",
    "    for i in \"NJ\", \"NY\", \"VT\":\n",
    "        output_file = open('/local/home/sarahgw/WGS/SNPS/All_mylu/mafs/Bootstrapped_mafs/All_bootstrapped_mafs/Combined_mafs/{}_{}.mafs'.format(i, filename), 'w')\n",
    "        output_file.write('SNP'+'\\t'+'MAF_U'+'\\t'+'MAF_E'+'\\t'+'nInd_U'+'\\t'+'nInd_E'+'\\n')\n",
    "        e_file = open('/local/home/sarahgw/WGS/SNPS/All_mylu/mafs/Bootstrapped_mafs/All_bootstrapped_mafs/{}_E_{}.mafs'.format(i, filename), 'r')\n",
    "        u_file = open('/local/home/sarahgw/WGS/SNPS/All_mylu/mafs/Bootstrapped_mafs/All_bootstrapped_mafs/{}_U_{}.mafs'.format(i, filename), 'r')\n",
    "        eLine = e_file.readline()\n",
    "        uLine = u_file.readline()\n",
    "        while True:\n",
    "            eLine = e_file.readline()\n",
    "            uLine = u_file.readline()\n",
    "            if not eLine or not uLine:\n",
    "                break\n",
    "            eGroups=eLine.split('\\t')\n",
    "            uGroups=uLine.split('\\t')\n",
    "            lineplus=uGroups[0]+'\\t'+uGroups[1]+'\\t'+eGroups[1]+'\\t'+uGroups[2].strip('\\n')+'\\t'+eGroups[2]\n",
    "            output_file.write(lineplus) \n",
    "        e_file.close()\n",
    "        u_file.close()\n",
    "\n",
    "    \n",
    "files = listdir('/local/home/sarahgw/WGS/SNPS/All_mylu/mafs/FiltFiles/SNP_Depth')\n",
    "for i in range(len(files)):\n",
    "    f = files[i]\n",
    "    print \"{}: site_mafs {}\".format(i, f)\n",
    "    site_mafs(f)  "
   ]
  },
  {
   "cell_type": "code",
   "execution_count": null,
   "metadata": {
    "collapsed": true
   },
   "outputs": [],
   "source": []
  },
  {
   "cell_type": "code",
   "execution_count": null,
   "metadata": {
    "collapsed": true
   },
   "outputs": [],
   "source": []
  },
  {
   "cell_type": "markdown",
   "metadata": {},
   "source": [
    "## Rerun with highest snps in each individual population"
   ]
  },
  {
   "cell_type": "markdown",
   "metadata": {},
   "source": [
    "make sites files for each pop"
   ]
  },
  {
   "cell_type": "code",
   "execution_count": null,
   "metadata": {
    "collapsed": true
   },
   "outputs": [],
   "source": [
    "sed 's/\\\"//g' ~/WGS/SNPS/All_mylu/snps/njeu80.csv| cut -f3-6 -d \",\"| sed 's/,/    /g'> ~/WGS/SNPS/All_mylu/snps/njeu80_sites.txt"
   ]
  },
  {
   "cell_type": "code",
   "execution_count": null,
   "metadata": {
    "collapsed": true
   },
   "outputs": [],
   "source": [
    "sed 's/\\\"//g' ~/WGS/SNPS/All_mylu/snps/nyeu80.csv| cut -f3-6 -d \",\"| sed 's/,/    /g'> ~/WGS/SNPS/All_mylu/snps/nyeu80_sites.txt"
   ]
  },
  {
   "cell_type": "code",
   "execution_count": null,
   "metadata": {
    "collapsed": true
   },
   "outputs": [],
   "source": [
    "sed 's/\\\"//g' ~/WGS/SNPS/All_mylu/snps/vteu80.csv| cut -f3-6 -d \",\"| sed 's/,/    /g'> ~/WGS/SNPS/All_mylu/snps/vteu80_sites.txt"
   ]
  },
  {
   "cell_type": "code",
   "execution_count": 20,
   "metadata": {},
   "outputs": [
    {
     "name": "stdout",
     "output_type": "stream",
     "text": [
      "Scaffold    Position    Major    Minor\r\n",
      "GL429767    19384300    G    T\r\n",
      "GL429768    31340994    A    G\r\n",
      "GL429790    3476076    T    C\r\n",
      "GL429811    924008    C    T\r\n",
      "GL429826    4881963    C    T\r\n",
      "GL429829    4348403    T    C\r\n",
      "GL429829    5103228    A    G\r\n",
      "GL429833    1784385    A    G\r\n",
      "GL429887    775162    C    T\r\n"
     ]
    }
   ],
   "source": [
    "!head ~/WGS/SNPS/All_mylu/snps/vteu80_sites.txt"
   ]
  },
  {
   "cell_type": "markdown",
   "metadata": {},
   "source": [
    "convert to .bed"
   ]
  },
  {
   "cell_type": "code",
   "execution_count": 12,
   "metadata": {
    "collapsed": true
   },
   "outputs": [],
   "source": [
    "!cut -f1-2 /local/home/sarahgw/WGS/SNPS/All_mylu/snps/njeu80_sites.txt |  awk -v OFS='\\t' '{print $1, ($2-1), $2}'> /local/home/sarahgw/WGS/SNPS/All_mylu/snps/njeu80_sites.bed "
   ]
  },
  {
   "cell_type": "code",
   "execution_count": 13,
   "metadata": {
    "collapsed": true
   },
   "outputs": [],
   "source": [
    "!cut -f1-2 /local/home/sarahgw/WGS/SNPS/All_mylu/snps/nyeu80_sites.txt |  awk -v OFS='\\t' '{print $1, ($2-1), $2}'> /local/home/sarahgw/WGS/SNPS/All_mylu/snps/nyeu80_sites.bed "
   ]
  },
  {
   "cell_type": "code",
   "execution_count": 14,
   "metadata": {
    "collapsed": true
   },
   "outputs": [],
   "source": [
    "!cut -f1-2 /local/home/sarahgw/WGS/SNPS/All_mylu/snps/vteu80_sites.txt |  awk -v OFS='\\t' '{print $1, ($2-1), $2}'> /local/home/sarahgw/WGS/SNPS/All_mylu/snps/vteu80_sites.bed "
   ]
  },
  {
   "cell_type": "markdown",
   "metadata": {},
   "source": [
    "calculate depth using samtools"
   ]
  },
  {
   "cell_type": "code",
   "execution_count": null,
   "metadata": {
    "collapsed": true
   },
   "outputs": [],
   "source": [
    "samtools mpileup -b /local/home/sarahgw/WGS/Sequences/filelists/NJ.filelist -l /local/home/sarahgw/WGS/SNPS/All_mylu/snps/njeu80_sites.bed > /local/home/sarahgw/WGS/SNPS/All_mylu/mafs/NJ_all_Depth.txt "
   ]
  },
  {
   "cell_type": "code",
   "execution_count": 5,
   "metadata": {},
   "outputs": [
    {
     "name": "stdout",
     "output_type": "stream",
     "text": [
      "42 /local/home/sarahgw/WGS/Sequences/filelists/NJ.filelist\r\n"
     ]
    },
    {
     "data": {
      "text/plain": [
       "126"
      ]
     },
     "execution_count": 5,
     "metadata": {},
     "output_type": "execute_result"
    }
   ],
   "source": [
    "!wc -l /local/home/sarahgw/WGS/Sequences/filelists/NJ.filelist\n",
    "42*3"
   ]
  },
  {
   "cell_type": "code",
   "execution_count": null,
   "metadata": {
    "collapsed": true
   },
   "outputs": [],
   "source": [
    "samtools mpileup -b /local/home/sarahgw/WGS/Sequences/filelists/NY.filelist -l /local/home/sarahgw/WGS/SNPS/All_mylu/snps/nyeu80_sites.bed > /local/home/sarahgw/WGS/SNPS/All_mylu/mafs/NY_all_Depth.txt "
   ]
  },
  {
   "cell_type": "code",
   "execution_count": 7,
   "metadata": {},
   "outputs": [
    {
     "name": "stdout",
     "output_type": "stream",
     "text": [
      "43 /local/home/sarahgw/WGS/Sequences/filelists/NY.filelist\r\n"
     ]
    },
    {
     "data": {
      "text/plain": [
       "129"
      ]
     },
     "execution_count": 7,
     "metadata": {},
     "output_type": "execute_result"
    }
   ],
   "source": [
    "!wc -l /local/home/sarahgw/WGS/Sequences/filelists/NY.filelist\n",
    "43*3"
   ]
  },
  {
   "cell_type": "code",
   "execution_count": null,
   "metadata": {
    "collapsed": true
   },
   "outputs": [],
   "source": [
    "samtools mpileup -b /local/home/sarahgw/WGS/Sequences/filelists/VT.filelist -l /local/home/sarahgw/WGS/SNPS/All_mylu/snps/vteu80_sites.bed > /local/home/sarahgw/WGS/SNPS/All_mylu/mafs/VT_all_Depth.txt "
   ]
  },
  {
   "cell_type": "code",
   "execution_count": 9,
   "metadata": {},
   "outputs": [
    {
     "name": "stdout",
     "output_type": "stream",
     "text": [
      "47 /local/home/sarahgw/WGS/Sequences/filelists/VT.filelist\r\n"
     ]
    },
    {
     "data": {
      "text/plain": [
       "141"
      ]
     },
     "execution_count": 9,
     "metadata": {},
     "output_type": "execute_result"
    }
   ],
   "source": [
    "!wc -l /local/home/sarahgw/WGS/Sequences/filelists/VT.filelist\n",
    "47*3"
   ]
  },
  {
   "cell_type": "markdown",
   "metadata": {},
   "source": [
    "Create bootstrapped filelists. \n",
    "\n",
    "You have to do this in directory ~/WGS/SNPS/All_mylu/mafs/FiltFiles/site_SNP_depth and then \n",
    "~/WGS/SNPS/All_mylu/mafs/FiltFiles/*site*_SNPS_Data because of the weird way you set it up. "
   ]
  },
  {
   "cell_type": "code",
   "execution_count": null,
   "metadata": {
    "collapsed": true
   },
   "outputs": [],
   "source": [
    "for i in `seq 4 3 126`; do awk -v OFS='\\t' -v a=\"$i\" '{print $1, $2, $a}' /local/home/sarahgw/WGS/SNPS/All_mylu/mafs/NJ_all_Depth.txt; done | awk '{print>$2}' "
   ]
  },
  {
   "cell_type": "code",
   "execution_count": null,
   "metadata": {
    "collapsed": true
   },
   "outputs": [],
   "source": [
    "for file in $(ls); do paste \"$file\" /local/home/sarahgw/WGS/Sequences/filelists/NJ.filelist |awk '(NR>1) && ($3 > 0 ) '| awk '{print $4}'|awk '{print > \"/local/home/sarahgw/WGS/SNPS/All_mylu/mafs/FiltFiles/NJ_Site_SNPS_Data/\"substr ($0,1,5)'$file'}'; done"
   ]
  },
  {
   "cell_type": "code",
   "execution_count": null,
   "metadata": {
    "collapsed": true
   },
   "outputs": [],
   "source": [
    "for i in `seq 4 3 129`; do awk -v OFS='\\t' -v a=\"$i\" '{print $1, $2, $a}' /local/home/sarahgw/WGS/SNPS/All_mylu/mafs/NY_all_Depth.txt; done | awk '{print>$2}' "
   ]
  },
  {
   "cell_type": "code",
   "execution_count": null,
   "metadata": {
    "collapsed": true
   },
   "outputs": [],
   "source": [
    "for file in $(ls); do paste \"$file\" /local/home/sarahgw/WGS/Sequences/filelists/NY.filelist |awk '(NR>1) && ($3 > 0 ) '| awk '{print $4}'|awk '{print > \"/local/home/sarahgw/WGS/SNPS/All_mylu/mafs/FiltFiles/NY_Site_SNPS_Data/\"substr ($0,1,5)'$file'}'; done"
   ]
  },
  {
   "cell_type": "code",
   "execution_count": null,
   "metadata": {
    "collapsed": true
   },
   "outputs": [],
   "source": [
    "for i in `seq 4 3 141`; do awk -v OFS='\\t' -v a=\"$i\" '{print $1, $2, $a}' /local/home/sarahgw/WGS/SNPS/All_mylu/mafs/VT_all_Depth.txt; done | awk '{print>$2}' "
   ]
  },
  {
   "cell_type": "code",
   "execution_count": null,
   "metadata": {
    "collapsed": true
   },
   "outputs": [],
   "source": [
    "for file in $(ls); do paste \"$file\" /local/home/sarahgw/WGS/Sequences/filelists/VT.filelist |awk '(NR>1) && ($3 > 0 ) '| awk '{print $4}'|awk '{print > \"/local/home/sarahgw/WGS/SNPS/All_mylu/mafs/FiltFiles/VT_Site_SNPS_Data/\"substr ($0,1,5)'$file'}'; done"
   ]
  },
  {
   "cell_type": "code",
   "execution_count": null,
   "metadata": {
    "collapsed": true
   },
   "outputs": [],
   "source": [
    "from os import listdir\n",
    "import numpy as np\n",
    "def run_bs(filename):\n",
    "    f=open('/local/home/sarahgw/WGS/SNPS/All_mylu/mafs/FiltFiles/NJ_Site_SNPS_Data/{}'.format(filename), 'r')\n",
    "    lines = [line.rstrip('\\n') for line in f]\n",
    "    count = len(lines)\n",
    "    for i in range(100):\n",
    "        boot=np.random.choice(lines, count)\n",
    "        boot1=\"\\n\".join(boot)\n",
    "        o=open('/local/home/sarahgw/WGS/SNPS/All_mylu/mafs/FiltFiles/NJ_Bootstrapped_Filelists/{}_{}'.format(filename, i+1), 'w')\n",
    "        o.write(boot1)\n",
    "files = listdir('/local/home/sarahgw/WGS/SNPS/All_mylu/mafs/FiltFiles/NJ_Site_SNPS_Data/')\n",
    "for i in range(len(files)):\n",
    "    f = files[i]\n",
    "    run_bs(f)  "
   ]
  },
  {
   "cell_type": "code",
   "execution_count": 9,
   "metadata": {
    "collapsed": true
   },
   "outputs": [],
   "source": [
    "from os import listdir\n",
    "import numpy as np\n",
    "def run_bs(filename):\n",
    "    f=open('/local/home/sarahgw/WGS/SNPS/All_mylu/mafs/FiltFiles/NY_Site_SNPS_Data/{}'.format(filename), 'r')\n",
    "    lines = [line.rstrip('\\n') for line in f]\n",
    "    count = len(lines)\n",
    "    for i in range(100):\n",
    "        boot=np.random.choice(lines, count)\n",
    "        boot1=\"\\n\".join(boot)\n",
    "        o=open('/local/home/sarahgw/WGS/SNPS/All_mylu/mafs/FiltFiles/NY_Bootstrapped_Filelists/{}_{}'.format(filename, i+1), 'w')\n",
    "        o.write(boot1)\n",
    "files = listdir('/local/home/sarahgw/WGS/SNPS/All_mylu/mafs/FiltFiles/NY_Site_SNPS_Data/')\n",
    "for i in range(len(files)):\n",
    "    f = files[i]\n",
    "    run_bs(f) "
   ]
  },
  {
   "cell_type": "code",
   "execution_count": 10,
   "metadata": {
    "collapsed": true
   },
   "outputs": [],
   "source": [
    "from os import listdir\n",
    "import numpy as np\n",
    "def run_bs(filename):\n",
    "    f=open('/local/home/sarahgw/WGS/SNPS/All_mylu/mafs/FiltFiles/VT_Site_SNPS_Data/{}'.format(filename), 'r')\n",
    "    lines = [line.rstrip('\\n') for line in f]\n",
    "    count = len(lines)\n",
    "    for i in range(100):\n",
    "        boot=np.random.choice(lines, count)\n",
    "        boot1=\"\\n\".join(boot)\n",
    "        o=open('/local/home/sarahgw/WGS/SNPS/All_mylu/mafs/FiltFiles/VT_Bootstrapped_Filelists/{}_{}'.format(filename, i+1), 'w')\n",
    "        o.write(boot1)\n",
    "files = listdir('/local/home/sarahgw/WGS/SNPS/All_mylu/mafs/FiltFiles/VT_Site_SNPS_Data/')\n",
    "for i in range(len(files)):\n",
    "    f = files[i]\n",
    "    run_bs(f) "
   ]
  },
  {
   "cell_type": "code",
   "execution_count": null,
   "metadata": {
    "collapsed": true
   },
   "outputs": [],
   "source": [
    "import time\n",
    "import subprocess\n",
    "\n",
    "f = open(\"/local/home/sarahgw/WGS/SNPS/All_mylu/snps/njeu80_sites.txt\", 'r')\n",
    "for line in f:\n",
    "    args = line.split()\n",
    "    \n",
    "    # Make sites file\n",
    "    site = \"/local/home/sarahgw/WGS/SNPS/All_mylu/snps/NJ_sites_files/{}_sites.txt\".format(args[1])\n",
    "    o = open(site,'w')\n",
    "    o.write('\\t'.join(args))\n",
    "    o.close()\n",
    "        \n",
    "    # Make chromo file\n",
    "    chrom = \"/local/home/sarahgw/WGS/SNPS/All_mylu/snps/NJ_chrom_files/{}_chrom.txt\".format(args[1])\n",
    "    o = open(chrom, 'w')\n",
    "    o.write(args[0])\n",
    "    o.close()\n",
    "    \n",
    "    \n",
    "# Silly, but accomodates angsd's file create time check\n",
    "time.sleep(5)\n",
    "\n",
    "f = open(\"/local/home/sarahgw/WGS/SNPS/All_mylu/snps/njeu80_sites.txt\", 'r')\n",
    "for line in f:\n",
    "    args = line.split()\n",
    "        \n",
    "    # Index sites file\n",
    "    site = \"/local/home/sarahgw/WGS/SNPS/All_mylu/snps/NJ_sites_files/{}_sites.txt\".format(args[1])\n",
    "    cmd = \"/local/home/sarahgw/angsd/angsd/angsd sites index {}\".format(site)\n",
    "    print cmd\n",
    "    subprocess.call(cmd.split())"
   ]
  },
  {
   "cell_type": "code",
   "execution_count": null,
   "metadata": {
    "collapsed": true
   },
   "outputs": [],
   "source": [
    "f = open(\"/local/home/sarahgw/WGS/SNPS/All_mylu/snps/nyeu80_sites.txt\", 'r')\n",
    "for line in f:\n",
    "    args = line.split()\n",
    "    \n",
    "    # Make sites file\n",
    "    site = \"/local/home/sarahgw/WGS/SNPS/All_mylu/snps/NY_sites_files/{}_sites.txt\".format(args[1])\n",
    "    o = open(site,'w')\n",
    "    o.write('\\t'.join(args))\n",
    "    o.close()\n",
    "        \n",
    "    # Make chromo file\n",
    "    chrom = \"/local/home/sarahgw/WGS/SNPS/All_mylu/snps/NY_chrom_files/{}_chrom.txt\".format(args[1])\n",
    "    o = open(chrom, 'w')\n",
    "    o.write(args[0])\n",
    "    o.close()\n",
    "    \n",
    "    \n",
    "# Silly, but accomodates angsd's file create time check\n",
    "time.sleep(5)\n",
    "\n",
    "f = open(\"/local/home/sarahgw/WGS/SNPS/All_mylu/snps/nyeu80_sites.txt\", 'r')\n",
    "for line in f:\n",
    "    args = line.split()\n",
    "        \n",
    "    # Index sites file\n",
    "    site = \"/local/home/sarahgw/WGS/SNPS/All_mylu/snps/NY_sites_files/{}_sites.txt\".format(args[1])\n",
    "    cmd = \"/local/home/sarahgw/angsd/angsd/angsd sites index {}\".format(site)\n",
    "    print cmd\n",
    "    subprocess.call(cmd.split())"
   ]
  },
  {
   "cell_type": "code",
   "execution_count": null,
   "metadata": {
    "collapsed": true
   },
   "outputs": [],
   "source": [
    "f = open(\"/local/home/sarahgw/WGS/SNPS/All_mylu/snps/vteu80_sites.txt\", 'r')\n",
    "for line in f:\n",
    "    args = line.split()\n",
    "    \n",
    "    # Make sites file\n",
    "    site = \"/local/home/sarahgw/WGS/SNPS/All_mylu/snps/VT_sites_files/{}_sites.txt\".format(args[1])\n",
    "    o = open(site,'w')\n",
    "    o.write('\\t'.join(args))\n",
    "    o.close()\n",
    "        \n",
    "    # Make chromo file\n",
    "    chrom = \"/local/home/sarahgw/WGS/SNPS/All_mylu/snps/VT_chrom_files/{}_chrom.txt\".format(args[1])\n",
    "    o = open(chrom, 'w')\n",
    "    o.write(args[0])\n",
    "    o.close()\n",
    "    \n",
    "    \n",
    "# Silly, but accomodates angsd's file create time check\n",
    "time.sleep(5)\n",
    "\n",
    "f = open(\"/local/home/sarahgw/WGS/SNPS/All_mylu/snps/vteu80_sites.txt\", 'r')\n",
    "for line in f:\n",
    "    args = line.split()\n",
    "        \n",
    "    # Index sites file\n",
    "    site = \"/local/home/sarahgw/WGS/SNPS/All_mylu/snps/VT_sites_files/{}_sites.txt\".format(args[1])\n",
    "    cmd = \"/local/home/sarahgw/angsd/angsd/angsd sites index {}\".format(site)\n",
    "    print cmd\n",
    "    subprocess.call(cmd.split())"
   ]
  },
  {
   "cell_type": "markdown",
   "metadata": {},
   "source": [
    "\n",
    "Do actual bootstrapping"
   ]
  },
  {
   "cell_type": "markdown",
   "metadata": {
    "collapsed": true
   },
   "source": [
    "In screen run:\n",
    "\n",
    "python ~/WNS_Scripts/WNS_WGS/Scripts/run_angsd_bootstrapped.py NJ\n",
    "\n",
    "python ~/WNS_Scripts/WNS_WGS/Scripts/run_angsd_bootstrapped.py NY\n",
    "\n",
    "python ~/WNS_Scripts/WNS_WGS/Scripts/run_angsd_bootstrapped.py VT"
   ]
  },
  {
   "cell_type": "markdown",
   "metadata": {},
   "source": [
    "## Rerun with NJ NY > 0.5"
   ]
  },
  {
   "cell_type": "code",
   "execution_count": null,
   "metadata": {
    "collapsed": true
   },
   "outputs": [],
   "source": [
    "sed 's/\\\"//g' ~/WGS/SNPS/All_mylu/snps/njnyeu50.csv| cut -f3-6 -d \",\"| sed 's/,/    /g'> ~/WGS/SNPS/All_mylu/snps/njnyeu50_sites.txt"
   ]
  },
  {
   "cell_type": "code",
   "execution_count": 24,
   "metadata": {},
   "outputs": [
    {
     "name": "stdout",
     "output_type": "stream",
     "text": [
      "Scaffold    Position    Major    Minor\r\n",
      "GL429767    4479568    G    T\r\n",
      "GL429767    4550108    T    C\r\n",
      "GL429767    16839644    T    A\r\n",
      "GL429767    33884819    A    C\r\n",
      "GL429767    46534125    C    T\r\n",
      "GL429767    52446764    T    C\r\n",
      "GL429768    446985    C    T\r\n",
      "GL429768    3921142    G    C\r\n",
      "GL429768    9041952    A    G\r\n"
     ]
    }
   ],
   "source": [
    "!head /local/home/sarahgw/WGS/SNPS/All_mylu/snps/njnyeu50_sites.txt"
   ]
  },
  {
   "cell_type": "code",
   "execution_count": 25,
   "metadata": {
    "collapsed": true
   },
   "outputs": [],
   "source": [
    "!cut -f1-2 /local/home/sarahgw/WGS/SNPS/All_mylu/snps/njnyeu50_sites.txt |  awk -v OFS='\\t' '{print $1, ($2-1), $2}'> /local/home/sarahgw/WGS/SNPS/All_mylu/snps/njnyeu50_sites.bed "
   ]
  },
  {
   "cell_type": "code",
   "execution_count": 27,
   "metadata": {
    "collapsed": true
   },
   "outputs": [],
   "source": [
    "!cat /local/home/sarahgw/WGS/Sequences/filelists/NJ.filelist /local/home/sarahgw/WGS/Sequences/filelists/NY.filelist> /local/home/sarahgw/WGS/Sequences/filelists/NJNY.filelist"
   ]
  },
  {
   "cell_type": "code",
   "execution_count": 2,
   "metadata": {
    "collapsed": true
   },
   "outputs": [],
   "source": [
    "samtools mpileup -b /local/home/sarahgw/WGS/Sequences/filelists/NJNY.filelist -l /local/home/sarahgw/WGS/SNPS/All_mylu/snps/njnyeu50_sites.bed > /local/home/sarahgw/WGS/SNPS/All_mylu/mafs/NJNY50_Depth.txt"
   ]
  },
  {
   "cell_type": "markdown",
   "metadata": {},
   "source": [
    "## Redo with no outliers"
   ]
  },
  {
   "cell_type": "code",
   "execution_count": null,
   "metadata": {
    "collapsed": true
   },
   "outputs": [],
   "source": [
    "#No outliers for NY Unexposed\n",
    "samtools mpileup -b /local/home/sarahgw/WGS/Sequences/filelists/NY_U_noOut.filelist -l /local/home/sarahgw/WGS/SNPS/All_mylu/snps/njnyeu50_sites.bed > /local/home/sarahgw/WGS/SNPS/All_mylu/mafs/NJNY50_NYUnoout_Depth.txt"
   ]
  },
  {
   "cell_type": "code",
   "execution_count": 2,
   "metadata": {},
   "outputs": [
    {
     "name": "stdout",
     "output_type": "stream",
     "text": [
      "85 /local/home/sarahgw/WGS/Sequences/filelists/NJNY.filelist\r\n"
     ]
    },
    {
     "data": {
      "text/plain": [
       "255"
      ]
     },
     "execution_count": 2,
     "metadata": {},
     "output_type": "execute_result"
    }
   ],
   "source": [
    "!wc -l /local/home/sarahgw/WGS/Sequences/filelists/NJNY.filelist\n",
    "85*3"
   ]
  },
  {
   "cell_type": "code",
   "execution_count": 3,
   "metadata": {
    "collapsed": true
   },
   "outputs": [],
   "source": [
    "!mkdir ~/WGS/SNPS/All_mylu/mafs/FiltFiles/NJNY50_SNPS_Depth\n",
    "!mkdir ~/WGS/SNPS/All_mylu/mafs/FiltFiles/NJNY50_Site_SNPS_Data "
   ]
  },
  {
   "cell_type": "code",
   "execution_count": 1,
   "metadata": {
    "collapsed": true
   },
   "outputs": [],
   "source": [
    "!mkdir ~/WGS/SNPS/All_mylu/mafs/FiltFiles/NYUnoout_SNPS_Depth\n",
    "!mkdir ~/WGS/SNPS/All_mylu/mafs/FiltFiles/NYUnoout_Site_SNPS_Data "
   ]
  },
  {
   "cell_type": "code",
   "execution_count": 3,
   "metadata": {
    "collapsed": true
   },
   "outputs": [],
   "source": [
    "!mkdir /local/home/sarahgw/WGS/SNPS/All_mylu/mafs/FiltFiles/NYUnoout_Bootstrapped_Filelists/"
   ]
  },
  {
   "cell_type": "code",
   "execution_count": null,
   "metadata": {
    "collapsed": true,
    "scrolled": true
   },
   "outputs": [],
   "source": [
    "for i in `seq 4 3 255`; do awk -v OFS='\\t' -v a=\"$i\" '{print $1, $2, $a}' /local/home/sarahgw/WGS/SNPS/All_mylu/mafs/NJNY50_Depth.txt; done | awk '{print>$2}' "
   ]
  },
  {
   "cell_type": "code",
   "execution_count": null,
   "metadata": {
    "collapsed": true
   },
   "outputs": [],
   "source": [
    "for i in `seq 4 3 255`; do awk -v OFS='\\t' -v a=\"$i\" '{print $1, $2, $a}' /local/home/sarahgw/WGS/SNPS/All_mylu/mafs/NJNY50_NYUnoout_Depth.txt; done | awk '{print>$2}' "
   ]
  },
  {
   "cell_type": "code",
   "execution_count": null,
   "metadata": {
    "collapsed": true
   },
   "outputs": [],
   "source": [
    "for file in $(ls); do paste \"$file\" /local/home/sarahgw/WGS/Sequences/filelists/NJNY.filelist |awk '(NR>1) && ($3 > 0 ) '| awk '{print $4}'|awk '{print > \"/local/home/sarahgw/WGS/SNPS/All_mylu/mafs/FiltFiles/NJNY50_Site_SNPS_Data/\"substr ($0,1,5)'$file'}'; done"
   ]
  },
  {
   "cell_type": "code",
   "execution_count": null,
   "metadata": {
    "collapsed": true
   },
   "outputs": [],
   "source": [
    "for file in $(ls); do paste \"$file\" /local/home/sarahgw/WGS/Sequences/filelists/NY_U_noOut.filelist |awk '(NR>1) && ($3 > 0 ) '| awk '{print $4}'|awk '{print > \"/local/home/sarahgw/WGS/SNPS/All_mylu/mafs/FiltFiles/NYUnoout_Site_SNPS_Data/\"substr ($0,1,5)'$file'}'; done"
   ]
  },
  {
   "cell_type": "code",
   "execution_count": 5,
   "metadata": {
    "collapsed": true
   },
   "outputs": [],
   "source": [
    "from os import listdir\n",
    "import numpy as np\n",
    "def run_bs(filename):\n",
    "    f=open('/local/home/sarahgw/WGS/SNPS/All_mylu/mafs/FiltFiles/NJNY50_Site_SNPS_Data/{}'.format(filename), 'r')\n",
    "    lines = [line.rstrip('\\n') for line in f]\n",
    "    count = len(lines)\n",
    "    for i in range(100):\n",
    "        boot=np.random.choice(lines, count)\n",
    "        boot1=\"\\n\".join(boot)\n",
    "        o=open('/local/home/sarahgw/WGS/SNPS/All_mylu/mafs/FiltFiles/NJNY50_Bootstrapped_Filelists/{}_{}'.format(filename, i+1), 'w')\n",
    "        o.write(boot1)\n",
    "files = listdir('/local/home/sarahgw/WGS/SNPS/All_mylu/mafs/FiltFiles/NJNY50_Site_SNPS_Data/')\n",
    "for i in range(len(files)):\n",
    "    f = files[i]\n",
    "    run_bs(f)  "
   ]
  },
  {
   "cell_type": "code",
   "execution_count": 4,
   "metadata": {
    "collapsed": true
   },
   "outputs": [],
   "source": [
    "from os import listdir\n",
    "import numpy as np\n",
    "def run_bs(filename):\n",
    "    f=open('/local/home/sarahgw/WGS/SNPS/All_mylu/mafs/FiltFiles/NYUnoout_Site_SNPS_Data/{}'.format(filename), 'r')\n",
    "    lines = [line.rstrip('\\n') for line in f]\n",
    "    count = len(lines)\n",
    "    for i in range(100):\n",
    "        boot=np.random.choice(lines, count)\n",
    "        boot1=\"\\n\".join(boot)\n",
    "        o=open('/local/home/sarahgw/WGS/SNPS/All_mylu/mafs/FiltFiles/NYUnoout_Bootstrapped_Filelists/{}_{}'.format(filename, i+1), 'w')\n",
    "        o.write(boot1)\n",
    "files = listdir('/local/home/sarahgw/WGS/SNPS/All_mylu/mafs/FiltFiles/NYUnoout_Site_SNPS_Data/')\n",
    "for i in range(len(files)):\n",
    "    f = files[i]\n",
    "    run_bs(f)  "
   ]
  },
  {
   "cell_type": "code",
   "execution_count": 10,
   "metadata": {
    "collapsed": true
   },
   "outputs": [],
   "source": [
    "!mkdir /local/home/sarahgw/WGS/SNPS/All_mylu/snps/NJNY50_sites_files\n",
    "!mkdir /local/home/sarahgw/WGS/SNPS/All_mylu/snps/NJNY50_chrom_files\n",
    "!mkdir /local/home/sarahgw/WGS/SNPS/All_mylu/mafs/NJNY50_Bootstrapped_mafs\n",
    "!mkdir /local/home/sarahgw/WGS/SNPS/All_mylu/mafs/NJNY50_Bootstrapped_mafs/tmp"
   ]
  },
  {
   "cell_type": "code",
   "execution_count": 5,
   "metadata": {
    "collapsed": true
   },
   "outputs": [],
   "source": [
    "!mkdir /local/home/sarahgw/WGS/SNPS/All_mylu/snps/NYUnoout_sites_files\n",
    "!mkdir /local/home/sarahgw/WGS/SNPS/All_mylu/snps/NYUnoout_chrom_files\n",
    "!mkdir /local/home/sarahgw/WGS/SNPS/All_mylu/mafs/NYUnoout_Bootstrapped_mafs\n",
    "!mkdir /local/home/sarahgw/WGS/SNPS/All_mylu/mafs/NYUnoout_Bootstrapped_mafs/tmp"
   ]
  },
  {
   "cell_type": "code",
   "execution_count": null,
   "metadata": {
    "collapsed": true,
    "scrolled": true
   },
   "outputs": [],
   "source": [
    "import time\n",
    "import subprocess\n",
    "\n",
    "f = open(\"/local/home/sarahgw/WGS/SNPS/All_mylu/snps/njnyeu50_sites.txt\", 'r')\n",
    "for line in f:\n",
    "    args = line.split()\n",
    "    \n",
    "    # Make sites file\n",
    "    site = \"/local/home/sarahgw/WGS/SNPS/All_mylu/snps/NJNY50_sites_files/{}_sites.txt\".format(args[1])\n",
    "    o = open(site,'w')\n",
    "    o.write('\\t'.join(args))\n",
    "    o.close()\n",
    "        \n",
    "    # Make chromo file\n",
    "    chrom = \"/local/home/sarahgw/WGS/SNPS/All_mylu/snps/NJNY50_chrom_files/{}_chrom.txt\".format(args[1])\n",
    "    o = open(chrom, 'w')\n",
    "    o.write(args[0])\n",
    "    o.close()\n",
    "    \n",
    "    \n",
    "# Silly, but accomodates angsd's file create time check\n",
    "time.sleep(5)\n",
    "\n",
    "f = open(\"/local/home/sarahgw/WGS/SNPS/All_mylu/snps/njnyeu50_sites.txt\", 'r')\n",
    "for line in f:\n",
    "    args = line.split()\n",
    "        \n",
    "    # Index sites file\n",
    "    site = \"/local/home/sarahgw/WGS/SNPS/All_mylu/snps/NJNY50_sites_files/{}_sites.txt\".format(args[1])\n",
    "    cmd = \"/local/home/sarahgw/angsd/angsd/angsd sites index {}\".format(site)\n",
    "    print cmd\n",
    "    subprocess.call(cmd.split())"
   ]
  },
  {
   "cell_type": "code",
   "execution_count": null,
   "metadata": {
    "collapsed": true
   },
   "outputs": [],
   "source": [
    "import time\n",
    "import subprocess\n",
    "\n",
    "f = open(\"/local/home/sarahgw/WGS/SNPS/All_mylu/snps/njnyeu50_sites.txt\", 'r')\n",
    "for line in f:\n",
    "    args = line.split()\n",
    "    \n",
    "    # Make sites file\n",
    "    site = \"/local/home/sarahgw/WGS/SNPS/All_mylu/snps/NYUnoout_sites_files/{}_sites.txt\".format(args[1])\n",
    "    o = open(site,'w')\n",
    "    o.write('\\t'.join(args))\n",
    "    o.close()\n",
    "        \n",
    "    # Make chromo file\n",
    "    chrom = \"/local/home/sarahgw/WGS/SNPS/All_mylu/snps/NYUnoout_chrom_files/{}_chrom.txt\".format(args[1])\n",
    "    o = open(chrom, 'w')\n",
    "    o.write(args[0])\n",
    "    o.close()\n",
    "    \n",
    "    \n",
    "# Silly, but accomodates angsd's file create time check\n",
    "time.sleep(5)\n",
    "\n",
    "f = open(\"/local/home/sarahgw/WGS/SNPS/All_mylu/snps/njnyeu50_sites.txt\", 'r')\n",
    "for line in f:\n",
    "    args = line.split()\n",
    "        \n",
    "    # Index sites file\n",
    "    site = \"/local/home/sarahgw/WGS/SNPS/All_mylu/snps/NYUnoout_sites_files/{}_sites.txt\".format(args[1])\n",
    "    cmd = \"/local/home/sarahgw/angsd/angsd/angsd sites index {}\".format(site)\n",
    "    print cmd\n",
    "    subprocess.call(cmd.split())"
   ]
  },
  {
   "cell_type": "code",
   "execution_count": null,
   "metadata": {
    "collapsed": true
   },
   "outputs": [],
   "source": [
    "python ~/WNS_Scripts/WNS_WGS/Scripts/run_angsd_bootstrapped.py NJNY50"
   ]
  },
  {
   "cell_type": "code",
   "execution_count": null,
   "metadata": {
    "collapsed": true
   },
   "outputs": [],
   "source": [
    "python ~/WNS_Scripts/WNS_WGS/Scripts/run_angsd_bootstrapped.py NYUnoout"
   ]
  },
  {
   "cell_type": "code",
   "execution_count": 6,
   "metadata": {
    "collapsed": true
   },
   "outputs": [],
   "source": [
    "!find /local/home/sarahgw/WGS/SNPS/All_mylu/mafs/NJNY50_Bootstrapped_mafs/ -name NJ_E_*.mafs.gz -exec gunzip {} +"
   ]
  },
  {
   "cell_type": "code",
   "execution_count": 7,
   "metadata": {
    "collapsed": true
   },
   "outputs": [],
   "source": [
    "!find /local/home/sarahgw/WGS/SNPS/All_mylu/mafs/NJNY50_Bootstrapped_mafs/ -name NJ_U_*.mafs.gz -exec gunzip {} +\n",
    "!find /local/home/sarahgw/WGS/SNPS/All_mylu/mafs/NJNY50_Bootstrapped_mafs/ -name NY_E_*.mafs.gz -exec gunzip {} +\n",
    "!find /local/home/sarahgw/WGS/SNPS/All_mylu/mafs/NJNY50_Bootstrapped_mafs/ -name NY_U_*.mafs.gz -exec gunzip {} +"
   ]
  },
  {
   "cell_type": "code",
   "execution_count": 1,
   "metadata": {
    "collapsed": true
   },
   "outputs": [],
   "source": [
    "!find /local/home/sarahgw/WGS/SNPS/All_mylu/mafs/NYUnoout_Bootstrapped_mafs/ -name NY_U_*.mafs.gz -exec gunzip {} +"
   ]
  },
  {
   "cell_type": "code",
   "execution_count": null,
   "metadata": {
    "collapsed": true
   },
   "outputs": [],
   "source": [
    "\n",
    "def combine_mafs(snp, site, exposed):\n",
    "    \n",
    "    filename = '{}_{}_{}'.format(site, exposed, snp)\n",
    "    #print filename\n",
    "    output_file = open('/local/home/sarahgw/WGS/SNPS/All_mylu/mafs/NJNY50_Bootstrapped_mafs/All_bootstrapped_mafs/{}.mafs'.format(filename), 'w')\n",
    "    output_file.write('SNP\\tMAF\\tnInd\\n')\n",
    "    \n",
    "    for i in range(100):\n",
    "        mafs_file = open('/local/home/sarahgw/WGS/SNPS/All_mylu/mafs/NJNY50_Bootstrapped_mafs/{}_{}.mafs'.format(filename, i+1), 'r')\n",
    "        lines = mafs_file.readlines()\n",
    "        data = [x.strip() for x in lines[1].split('\\t')]\n",
    "        output_file.write('{}\\t{}\\t{}\\n'.format(data[1], data[5], data[7]))\n",
    "        mafs_file.close()\n",
    "\n",
    "files = listdir('/local/home/sarahgw/WGS/SNPS/All_mylu/mafs/FiltFiles/NJNY50_SNP_Depth/')\n",
    "for i in range(len(files)):\n",
    "    f = files[i]\n",
    "    for site in ['NJ', 'NY']:\n",
    "        for exposed in ['U', 'E']:\n",
    "            combine_mafs(f, site, exposed)"
   ]
  },
  {
   "cell_type": "code",
   "execution_count": 2,
   "metadata": {
    "collapsed": true
   },
   "outputs": [],
   "source": [
    "!mkdir /local/home/sarahgw/WGS/SNPS/All_mylu/mafs/NYUnoout_Bootstrapped_mafs/All_bootstrapped_mafs/"
   ]
  },
  {
   "cell_type": "code",
   "execution_count": 2,
   "metadata": {
    "collapsed": true
   },
   "outputs": [],
   "source": [
    "from os import listdir\n",
    "import numpy as np\n",
    "def combine_mafs(snp, site, exposed):\n",
    "    \n",
    "    filename = '{}_{}_{}'.format(site, exposed, snp)\n",
    "    #print filename\n",
    "    output_file = open('/local/home/sarahgw/WGS/SNPS/All_mylu/mafs/NYUnoout_Bootstrapped_mafs/All_bootstrapped_mafs/{}.mafs'.format(filename), 'w')\n",
    "    output_file.write('SNP\\tMAF\\tnInd\\n')\n",
    "    \n",
    "    for i in range(100):\n",
    "        mafs_file = open('/local/home/sarahgw/WGS/SNPS/All_mylu/mafs/NYUnoout_Bootstrapped_mafs/{}_{}.mafs'.format(filename, i+1), 'r')\n",
    "        lines = mafs_file.readlines()\n",
    "        data = [x.strip() for x in lines[1].split('\\t')]\n",
    "        output_file.write('{}\\t{}\\t{}\\n'.format(data[1], data[5], data[7]))\n",
    "        mafs_file.close()\n",
    "\n",
    "files = listdir('/local/home/sarahgw/WGS/SNPS/All_mylu/mafs/FiltFiles/NYUnoout_SNPS_Depth/')\n",
    "for i in range(len(files)):\n",
    "    f = files[i]\n",
    "    for site in ['NY']:\n",
    "        for exposed in ['U']:\n",
    "            combine_mafs(f, site, exposed)"
   ]
  },
  {
   "cell_type": "code",
   "execution_count": 6,
   "metadata": {},
   "outputs": [
    {
     "data": {
      "text/plain": [
       "383"
      ]
     },
     "execution_count": 6,
     "metadata": {},
     "output_type": "execute_result"
    }
   ],
   "source": []
  },
  {
   "cell_type": "code",
   "execution_count": null,
   "metadata": {
    "collapsed": true,
    "scrolled": true
   },
   "outputs": [],
   "source": [
    "from os import listdir\n",
    "\n",
    "def site_mafs(filename):\n",
    "    # put e and u together for each site\n",
    "    for i in \"NJ\", \"NY\":\n",
    "        output_file = open('/local/home/sarahgw/WGS/SNPS/All_mylu/mafs/NJNY50_Bootstrapped_mafs/All_bootstrapped_mafs/Combined_mafs/{}_{}.mafs'.format(i, filename), 'w')\n",
    "        output_file.write('SNP'+'\\t'+'MAF_U'+'\\t'+'MAF_E'+'\\t'+'nInd_U'+'\\t'+'nInd_E'+'\\n')\n",
    "        e_file = open('/local/home/sarahgw/WGS/SNPS/All_mylu/mafs/NJNY50_Bootstrapped_mafs/All_bootstrapped_mafs/{}_E_{}.mafs'.format(i, filename), 'r')\n",
    "        u_file = open('/local/home/sarahgw/WGS/SNPS/All_mylu/mafs/NJNY50_Bootstrapped_mafs/All_bootstrapped_mafs/{}_U_{}.mafs'.format(i, filename), 'r')\n",
    "        eLine = e_file.readline()\n",
    "        uLine = u_file.readline()\n",
    "        while True:\n",
    "            eLine = e_file.readline()\n",
    "            uLine = u_file.readline()\n",
    "            if not eLine or not uLine:\n",
    "                break\n",
    "            eGroups=eLine.split('\\t')\n",
    "            uGroups=uLine.split('\\t')\n",
    "            lineplus=uGroups[0]+'\\t'+uGroups[1]+'\\t'+eGroups[1]+'\\t'+uGroups[2].strip('\\n')+'\\t'+eGroups[2]\n",
    "            output_file.write(lineplus) \n",
    "        e_file.close()\n",
    "        u_file.close()\n",
    "\n",
    "    \n",
    "files = listdir('/local/home/sarahgw/WGS/SNPS/All_mylu/mafs/FiltFiles/NJNY50_SNP_Depth')\n",
    "for i in range(len(files)):\n",
    "    f = files[i]\n",
    "    print \"{}: site_mafs {}\".format(i, f)\n",
    "    site_mafs(f)  "
   ]
  },
  {
   "cell_type": "code",
   "execution_count": 4,
   "metadata": {
    "collapsed": true
   },
   "outputs": [],
   "source": [
    "!mkdir /local/home/sarahgw/WGS/SNPS/All_mylu/mafs/NYUnoout_Bootstrapped_mafs/All_bootstrapped_mafs/Combined_mafs"
   ]
  },
  {
   "cell_type": "code",
   "execution_count": null,
   "metadata": {
    "collapsed": true,
    "scrolled": true
   },
   "outputs": [],
   "source": [
    "from os import listdir\n",
    "\n",
    "def site_mafs(filename):\n",
    "    # put e and u together for each site\n",
    "        output_file = open('/local/home/sarahgw/WGS/SNPS/All_mylu/mafs/NYUnoout_Bootstrapped_mafs/All_bootstrapped_mafs/Combined_mafs/NY_{}.mafs'.format(filename), 'w')\n",
    "        output_file.write('SNP'+'\\t'+'MAF_U'+'\\t'+'MAF_E'+'\\t'+'nInd_U'+'\\t'+'nInd_E'+'\\n')\n",
    "        e_file = open('/local/home/sarahgw/WGS/SNPS/All_mylu/mafs/NJNY50_Bootstrapped_mafs/All_bootstrapped_mafs/NY_E_{}.mafs'.format(filename), 'r')\n",
    "        u_file = open('/local/home/sarahgw/WGS/SNPS/All_mylu/mafs/NYUnoout_Bootstrapped_mafs/All_bootstrapped_mafs/NY_U_{}.mafs'.format(filename), 'r')\n",
    "        eLine = e_file.readline()\n",
    "        uLine = u_file.readline()\n",
    "        while True:\n",
    "            eLine = e_file.readline()\n",
    "            uLine = u_file.readline()\n",
    "            if not eLine or not uLine:\n",
    "                break\n",
    "            eGroups=eLine.split('\\t')\n",
    "            uGroups=uLine.split('\\t')\n",
    "            lineplus=uGroups[0]+'\\t'+uGroups[1]+'\\t'+eGroups[1]+'\\t'+uGroups[2].strip('\\n')+'\\t'+eGroups[2]\n",
    "            output_file.write(lineplus) \n",
    "        e_file.close()\n",
    "        u_file.close()\n",
    "\n",
    "    \n",
    "files = listdir('/local/home/sarahgw/WGS/SNPS/All_mylu/mafs/FiltFiles/NYUnoout_SNPS_Depth')\n",
    "for i in range(len(files)):\n",
    "    f = files[i]\n",
    "    print \"{}: site_mafs {}\".format(i, f)\n",
    "    site_mafs(f)  "
   ]
  },
  {
   "cell_type": "markdown",
   "metadata": {},
   "source": [
    "## run with njny >0.46<0.5"
   ]
  },
  {
   "cell_type": "code",
   "execution_count": null,
   "metadata": {
    "collapsed": true
   },
   "outputs": [],
   "source": [
    "sed 's/\\\"//g' /local/home/sarahgw/WGS/SNPS/All_mylu/snps/njnyeu46.csv| cut -f2-3,5-6 -d \",\"| sed 's/,/    /g'> ~/WGS/SNPS/All_mylu/snps/njnyeu46_sites.txt"
   ]
  },
  {
   "cell_type": "code",
   "execution_count": 2,
   "metadata": {
    "collapsed": true
   },
   "outputs": [],
   "source": [
    "!cut -f1-2 /local/home/sarahgw/WGS/SNPS/All_mylu/snps/njnyeu46_sites.txt |  awk -v OFS='\\t' '{print $1, ($2-1), $2}'> /local/home/sarahgw/WGS/SNPS/All_mylu/snps/njnyeu46_sites.bed "
   ]
  },
  {
   "cell_type": "code",
   "execution_count": null,
   "metadata": {
    "collapsed": true
   },
   "outputs": [],
   "source": [
    "samtools mpileup -b /local/home/sarahgw/WGS/Sequences/filelists/NJNY.filelist -l /local/home/sarahgw/WGS/SNPS/All_mylu/snps/njnyeu46_sites.bed > /local/home/sarahgw/WGS/SNPS/All_mylu/mafs/NJNY46_Depth.txt"
   ]
  },
  {
   "cell_type": "code",
   "execution_count": 1,
   "metadata": {
    "collapsed": true
   },
   "outputs": [],
   "source": [
    "!mkdir ~/WGS/SNPS/All_mylu/mafs/FiltFiles/NJNY46_SNPS_Depth\n",
    "!mkdir ~/WGS/SNPS/All_mylu/mafs/FiltFiles/NJNY46_Site_SNPS_Data "
   ]
  },
  {
   "cell_type": "code",
   "execution_count": null,
   "metadata": {
    "collapsed": true
   },
   "outputs": [],
   "source": [
    "for i in `seq 4 3 255`; do awk -v OFS='\\t' -v a=\"$i\" '{print $1, $2, $a}' /local/home/sarahgw/WGS/SNPS/All_mylu/mafs/NJNY46_Depth.txt; done | awk '{print>$2}' "
   ]
  },
  {
   "cell_type": "code",
   "execution_count": null,
   "metadata": {
    "collapsed": true
   },
   "outputs": [],
   "source": [
    "for file in $(ls); do paste \"$file\" /local/home/sarahgw/WGS/Sequences/filelists/NJNY.filelist |awk '(NR>1) && ($3 > 0 ) '| awk '{print $4}'|awk '{print > \"/local/home/sarahgw/WGS/SNPS/All_mylu/mafs/FiltFiles/NJNY46_Site_SNPS_Data/\"substr ($0,1,5)'$file'}'; done"
   ]
  },
  {
   "cell_type": "code",
   "execution_count": 7,
   "metadata": {
    "collapsed": true
   },
   "outputs": [],
   "source": [
    "!mkdir /local/home/sarahgw/WGS/SNPS/All_mylu/mafs/FiltFiles/NJNY46_Bootstrapped_Filelists/"
   ]
  },
  {
   "cell_type": "code",
   "execution_count": 8,
   "metadata": {
    "collapsed": true
   },
   "outputs": [],
   "source": [
    "from os import listdir\n",
    "import numpy as np\n",
    "def run_bs(filename):\n",
    "    f=open('/local/home/sarahgw/WGS/SNPS/All_mylu/mafs/FiltFiles/NJNY46_Site_SNPS_Data/{}'.format(filename), 'r')\n",
    "    lines = [line.rstrip('\\n') for line in f]\n",
    "    count = len(lines)\n",
    "    for i in range(100):\n",
    "        boot=np.random.choice(lines, count)\n",
    "        boot1=\"\\n\".join(boot)\n",
    "        o=open('/local/home/sarahgw/WGS/SNPS/All_mylu/mafs/FiltFiles/NJNY46_Bootstrapped_Filelists/{}_{}'.format(filename, i+1), 'w')\n",
    "        o.write(boot1)\n",
    "files = listdir('/local/home/sarahgw/WGS/SNPS/All_mylu/mafs/FiltFiles/NJNY46_Site_SNPS_Data/')\n",
    "for i in range(len(files)):\n",
    "    f = files[i]\n",
    "    run_bs(f)  "
   ]
  },
  {
   "cell_type": "code",
   "execution_count": 4,
   "metadata": {
    "collapsed": true
   },
   "outputs": [],
   "source": [
    "!mkdir ~/WGS/SNPS/All_mylu/snps/NJNY46_sites_files\n",
    "!mkdir ~/WGS/SNPS/All_mylu/snps/NJNY46_chrom_files"
   ]
  },
  {
   "cell_type": "code",
   "execution_count": null,
   "metadata": {
    "collapsed": true
   },
   "outputs": [],
   "source": [
    "import time\n",
    "import subprocess\n",
    "\n",
    "f = open(\"/local/home/sarahgw/WGS/SNPS/All_mylu/snps/njnyeu46_sites.txt\", 'r')\n",
    "for line in f:\n",
    "    args = line.split()\n",
    "    \n",
    "    # Make sites file\n",
    "    site = \"/local/home/sarahgw/WGS/SNPS/All_mylu/snps/NJNY46_sites_files/{}_sites.txt\".format(args[1])\n",
    "    o = open(site,'w')\n",
    "    o.write('\\t'.join(args))\n",
    "    o.close()\n",
    "        \n",
    "    # Make chromo file\n",
    "    chrom = \"/local/home/sarahgw/WGS/SNPS/All_mylu/snps/NJNY46_chrom_files/{}_chrom.txt\".format(args[1])\n",
    "    o = open(chrom, 'w')\n",
    "    o.write(args[0])\n",
    "    o.close()\n",
    "    \n",
    "    \n",
    "# Silly, but accomodates angsd's file create time check\n",
    "time.sleep(5)\n",
    "\n",
    "f = open(\"/local/home/sarahgw/WGS/SNPS/All_mylu/snps/njnyeu46_sites.txt\", 'r')\n",
    "for line in f:\n",
    "    args = line.split()\n",
    "        \n",
    "    # Index sites file\n",
    "    site = \"/local/home/sarahgw/WGS/SNPS/All_mylu/snps/NJNY46_sites_files/{}_sites.txt\".format(args[1])\n",
    "    cmd = \"/local/home/sarahgw/angsd/angsd/angsd sites index {}\".format(site)\n",
    "    print cmd\n",
    "    subprocess.call(cmd.split())"
   ]
  },
  {
   "cell_type": "code",
   "execution_count": 10,
   "metadata": {
    "collapsed": true
   },
   "outputs": [],
   "source": [
    "!mkdir /local/home/sarahgw/WGS/SNPS/All_mylu/mafs/NJNY46_Bootstrapped_mafs\n",
    "!mkdir /local/home/sarahgw/WGS/SNPS/All_mylu/mafs/NJNY46_Bootstrapped_mafs/tmp"
   ]
  },
  {
   "cell_type": "code",
   "execution_count": null,
   "metadata": {
    "collapsed": true
   },
   "outputs": [],
   "source": [
    "python ~/WNS_Scripts/WNS_WGS/Scripts/run_angsd_bootstrapped.py NJNY46"
   ]
  },
  {
   "cell_type": "code",
   "execution_count": 2,
   "metadata": {
    "collapsed": true
   },
   "outputs": [],
   "source": [
    "!find /local/home/sarahgw/WGS/SNPS/All_mylu/mafs/NJNY46_Bootstrapped_mafs/ -name NJ_E_*.mafs.gz -exec gunzip {} +\n",
    "!find /local/home/sarahgw/WGS/SNPS/All_mylu/mafs/NJNY46_Bootstrapped_mafs/ -name NY_E_*.mafs.gz -exec gunzip {} +\n",
    "!find /local/home/sarahgw/WGS/SNPS/All_mylu/mafs/NJNY46_Bootstrapped_mafs/ -name NY_U_*.mafs.gz -exec gunzip {} +\n",
    "!find /local/home/sarahgw/WGS/SNPS/All_mylu/mafs/NJNY46_Bootstrapped_mafs/ -name NJ_U_*.mafs.gz -exec gunzip {} +"
   ]
  },
  {
   "cell_type": "code",
   "execution_count": 1,
   "metadata": {
    "collapsed": true
   },
   "outputs": [],
   "source": [
    "!find /local/home/sarahgw/WGS/SNPS/All_mylu/mafs/NJNY46_Bootstrapped_mafs/tmp/ -name NJ_E_*.mafs -exec mv -t /local/home/sarahgw/WGS/SNPS/All_mylu/mafs/NJNY46_Bootstrapped_mafs/ {} +\n",
    "!find /local/home/sarahgw/WGS/SNPS/All_mylu/mafs/NJNY46_Bootstrapped_mafs/tmp/ -name NY_E_*.mafs -exec mv -t /local/home/sarahgw/WGS/SNPS/All_mylu/mafs/NJNY46_Bootstrapped_mafs/ {} +\n",
    "!find /local/home/sarahgw/WGS/SNPS/All_mylu/mafs/NJNY46_Bootstrapped_mafs/tmp/ -name NY_U_*.mafs -exec mv -t /local/home/sarahgw/WGS/SNPS/All_mylu/mafs/NJNY46_Bootstrapped_mafs/ {} +\n",
    "!find /local/home/sarahgw/WGS/SNPS/All_mylu/mafs/NJNY46_Bootstrapped_mafs/tmp/ -name NJ_U_*.mafs -exec mv -t /local/home/sarahgw/WGS/SNPS/All_mylu/mafs/NJNY46_Bootstrapped_mafs/ {} +"
   ]
  },
  {
   "cell_type": "code",
   "execution_count": 11,
   "metadata": {
    "collapsed": true
   },
   "outputs": [],
   "source": [
    "!find .. -name *.mafs -exec mv -t /local/home/sarahgw/WGS/SNPS/All_mylu/mafs/NJNY46_Bootstrapped_mafs/ {} +"
   ]
  },
  {
   "cell_type": "code",
   "execution_count": null,
   "metadata": {
    "collapsed": true,
    "scrolled": true
   },
   "outputs": [],
   "source": [
    "!ls /local/home/sarahgw/WGS/SNPS/All_mylu/mafs/FiltFiles/NJNY46_SNPS_Depth/"
   ]
  },
  {
   "cell_type": "code",
   "execution_count": null,
   "metadata": {
    "collapsed": true
   },
   "outputs": [],
   "source": [
    "from os import listdir\n",
    "import time\n",
    "import subprocess\n",
    "import numpy as np\n",
    "\n",
    "def combine_mafs(snp, site, exposed):\n",
    "    \n",
    "    filename = '{}_{}_{}'.format(site, exposed, snp)\n",
    "    #print filename\n",
    "    output_file = open('/local/home/sarahgw/WGS/SNPS/All_mylu/mafs/NJNY46_Bootstrapped_mafs/All_bootstrapped_mafs/{}.mafs'.format(filename), 'w')\n",
    "    output_file.write('SNP\\tMAF\\tnInd\\n')\n",
    "    \n",
    "    for i in range(100):\n",
    "        mafs_file = open('/local/home/sarahgw/WGS/SNPS/All_mylu/mafs/NJNY46_Bootstrapped_mafs/{}_{}.mafs'.format(filename, i+1), 'r')\n",
    "        lines = mafs_file.readlines()\n",
    "        data = [x.strip() for x in lines[1].split('\\t')]\n",
    "        output_file.write('{}\\t{}\\t{}\\n'.format(data[1], data[5], data[7]))\n",
    "        mafs_file.close()\n",
    "\n",
    "files = listdir('/local/home/sarahgw/WGS/SNPS/All_mylu/mafs/FiltFiles/NJNY46_SNPS_Depth/')\n",
    "for i in range(len(files)):\n",
    "    f = files[i]\n",
    "    for site in ['NJ', 'NY']:\n",
    "        for exposed in ['U', 'E']:\n",
    "            combine_mafs(f, site, exposed)"
   ]
  },
  {
   "cell_type": "code",
   "execution_count": null,
   "metadata": {
    "collapsed": true
   },
   "outputs": [],
   "source": [
    "\n",
    "\n",
    "def site_mafs(filename):\n",
    "    # put e and u together for each site\n",
    "    for i in \"NJ\", \"NY\":\n",
    "        output_file = open('/local/home/sarahgw/WGS/SNPS/All_mylu/mafs/NJNY46_Bootstrapped_mafs/All_bootstrapped_mafs/Combined_mafs/{}_{}.mafs'.format(i, filename), 'w')\n",
    "        output_file.write('SNP'+'\\t'+'MAF_U'+'\\t'+'MAF_E'+'\\t'+'nInd_U'+'\\t'+'nInd_E'+'\\n')\n",
    "        e_file = open('/local/home/sarahgw/WGS/SNPS/All_mylu/mafs/NJNY46_Bootstrapped_mafs/All_bootstrapped_mafs/{}_E_{}.mafs'.format(i, filename), 'r')\n",
    "        u_file = open('/local/home/sarahgw/WGS/SNPS/All_mylu/mafs/NJNY46_Bootstrapped_mafs/All_bootstrapped_mafs/{}_U_{}.mafs'.format(i, filename), 'r')\n",
    "        eLine = e_file.readline()\n",
    "        uLine = u_file.readline()\n",
    "        while True:\n",
    "            eLine = e_file.readline()\n",
    "            uLine = u_file.readline()\n",
    "            if not eLine or not uLine:\n",
    "                break\n",
    "            eGroups=eLine.split('\\t')\n",
    "            uGroups=uLine.split('\\t')\n",
    "            lineplus=uGroups[0]+'\\t'+uGroups[1]+'\\t'+eGroups[1]+'\\t'+uGroups[2].strip('\\n')+'\\t'+eGroups[2]\n",
    "            output_file.write(lineplus) \n",
    "        e_file.close()\n",
    "        u_file.close()\n",
    "\n",
    "    \n",
    "files = listdir('/local/home/sarahgw/WGS/SNPS/All_mylu/mafs/FiltFiles/NJNY46_SNP_Depth')\n",
    "for i in range(len(files)):\n",
    "    f = files[i]\n",
    "    print \"{}: site_mafs {}\".format(i, f)\n",
    "    site_mafs(f)  "
   ]
  },
  {
   "cell_type": "code",
   "execution_count": null,
   "metadata": {
    "collapsed": true
   },
   "outputs": [],
   "source": [
    "awk 'FNR>1' NY_204614.mafs NY_396854.mafs > NY"
   ]
  },
  {
   "cell_type": "markdown",
   "metadata": {},
   "source": [
    "Just run each one 10,000 times. \n",
    "For cod there is 5,000 bp. around LD. "
   ]
  },
  {
   "cell_type": "code",
   "execution_count": 2,
   "metadata": {},
   "outputs": [
    {
     "name": "stdout",
     "output_type": "stream",
     "text": [
      "92371964 /local/home/sarahgw/WGS/SNPS/All_mylu/NJ_E.mafs\r\n"
     ]
    }
   ],
   "source": [
    "!wc -l /local/home/sarahgw/WGS/SNPS/All_mylu/NJ_E.mafs"
   ]
  },
  {
   "cell_type": "code",
   "execution_count": 8,
   "metadata": {},
   "outputs": [
    {
     "name": "stdout",
     "output_type": "stream",
     "text": [
      "92371953 /local/home/sarahgw/WGS/SNPS/All_mylu/NJ_U.mafs\r\n"
     ]
    }
   ],
   "source": [
    "!wc -l /local/home/sarahgw/WGS/SNPS/All_mylu/NJ_U.mafs"
   ]
  },
  {
   "cell_type": "code",
   "execution_count": 9,
   "metadata": {
    "collapsed": true
   },
   "outputs": [],
   "source": [
    "!paste /local/home/sarahgw/WGS/SNPS/All_mylu/NJ_E.mafs /local/home/sarahgw/WGS/SNPS/All_mylu/NJ_U.mafs | awk '{print $1\",\"$2\",\"$3\",\"$4\",\"$5\",\"$6\",\"$8\",\"$13\",\"$14\",\"$16}'>/local/home/sarahgw/WGS/SNPS/All_mylu/NJ_EU.mafs"
   ]
  },
  {
   "cell_type": "code",
   "execution_count": 10,
   "metadata": {
    "collapsed": true
   },
   "outputs": [],
   "source": [
    "!gunzip /local/home/sarahgw/WGS/SNPS/All_mylu/NY_E.mafs.gz\n",
    "!gunzip /local/home/sarahgw/WGS/SNPS/All_mylu/NY_U.mafs.gz"
   ]
  },
  {
   "cell_type": "code",
   "execution_count": 11,
   "metadata": {},
   "outputs": [
    {
     "name": "stdout",
     "output_type": "stream",
     "text": [
      "92371964 /local/home/sarahgw/WGS/SNPS/All_mylu/NY_E.mafs\n",
      "92371964 /local/home/sarahgw/WGS/SNPS/All_mylu/NY_U.mafs\n"
     ]
    }
   ],
   "source": [
    "!wc -l /local/home/sarahgw/WGS/SNPS/All_mylu/NY_E.mafs\n",
    "!wc -l /local/home/sarahgw/WGS/SNPS/All_mylu/NY_U.mafs"
   ]
  },
  {
   "cell_type": "code",
   "execution_count": 12,
   "metadata": {
    "collapsed": true
   },
   "outputs": [],
   "source": [
    "!paste /local/home/sarahgw/WGS/SNPS/All_mylu/NY_E.mafs /local/home/sarahgw/WGS/SNPS/All_mylu/NY_U.mafs | awk '{print $1\",\"$2\",\"$3\",\"$4\",\"$5\",\"$6\",\"$8\",\"$13\",\"$14\",\"$16}'>/local/home/sarahgw/WGS/SNPS/All_mylu/NY_EU.mafs"
   ]
  },
  {
   "cell_type": "code",
   "execution_count": 2,
   "metadata": {
    "collapsed": true
   },
   "outputs": [],
   "source": [
    "#!gunzip /local/home/sarahgw/WGS/SNPS/All_mylu/VT_E.mafs.gz\n",
    "!gunzip /local/home/sarahgw/WGS/SNPS/All_mylu/VT_U.mafs.gz"
   ]
  },
  {
   "cell_type": "code",
   "execution_count": 3,
   "metadata": {},
   "outputs": [
    {
     "name": "stdout",
     "output_type": "stream",
     "text": [
      "92371964 /local/home/sarahgw/WGS/SNPS/All_mylu/VT_E.mafs\n",
      "92371964 /local/home/sarahgw/WGS/SNPS/All_mylu/VT_U.mafs\n"
     ]
    }
   ],
   "source": [
    "!wc -l /local/home/sarahgw/WGS/SNPS/All_mylu/VT_E.mafs\n",
    "!wc -l /local/home/sarahgw/WGS/SNPS/All_mylu/VT_U.mafs"
   ]
  },
  {
   "cell_type": "code",
   "execution_count": 4,
   "metadata": {
    "collapsed": true
   },
   "outputs": [],
   "source": [
    "!paste /local/home/sarahgw/WGS/SNPS/All_mylu/VT_E.mafs /local/home/sarahgw/WGS/SNPS/All_mylu/VT_U.mafs | awk '{print $1\",\"$2\",\"$3\",\"$4\",\"$5\",\"$6\",\"$8\",\"$13\",\"$14\",\"$16}'>/local/home/sarahgw/WGS/SNPS/All_mylu/VT_EU.mafs"
   ]
  },
  {
   "cell_type": "code",
   "execution_count": 16,
   "metadata": {
    "collapsed": true
   },
   "outputs": [],
   "source": [
    "f=open('/local/home/sarahgw/WGS/SNPS/All_mylu/NJ_EU.mafs', 'r')\n",
    "o=open('/local/home/sarahgw/WGS/SNPS/All_mylu/NJ_EU2.mafs', 'w')\n",
    "for line in f:\n",
    "    scount=line.count(',')\n",
    "    if scount==9:\n",
    "        o.write(line)\n",
    "    elif 0<=scount<9:\n",
    "        groups=line.split(',')\n",
    "        lineplus=','.join(groups[:2])+''.join([',']*(9-scount))+','+ ','.join(groups[2:])\n",
    "        o.write(lineplus)  \n",
    "o.close() "
   ]
  },
  {
   "cell_type": "code",
   "execution_count": 40,
   "metadata": {
    "scrolled": true
   },
   "outputs": [
    {
     "name": "stdout",
     "output_type": "stream",
     "text": [
      "AAPE02072767,3095,T,A,0.470258,0.470257,16,,,\r\n",
      "AAPE02072767,3098,C,T,0.000000,0.000002,16,,,\r\n",
      "AAPE02072780,302,G,A,0.000000,0.000001,16,,,\r\n",
      "AAPE02072780,365,G,C,0.000000,0.000002,14,,,\r\n",
      "AAPE02072780,367,A,C,0.048082,0.048083,14,,,\r\n",
      "AAPE02072780,368,C,T,0.000000,0.000002,14,,,\r\n",
      "AAPE02072780,369,T,C,0.000000,0.000004,14,,,\r\n",
      "AAPE02072780,370,T,A,0.066391,0.066390,14,,,\r\n",
      "AAPE02072780,372,T,C,0.000000,0.000003,14,,,\r\n",
      "AAPE02072780,374,C,A,0.000000,0.000001,14,,,\r\n"
     ]
    }
   ],
   "source": [
    "!tail /local/home/sarahgw/WGS/SNPS/All_mylu/NJ_EU2.mafs"
   ]
  },
  {
   "cell_type": "code",
   "execution_count": 10,
   "metadata": {
    "scrolled": false
   },
   "outputs": [
    {
     "name": "stdout",
     "output_type": "stream",
     "text": [
      "109424282 /local/home/sarahgw/WGS/SNPS/All_mylu/NJ_EU.mafs\r\n"
     ]
    }
   ],
   "source": [
    "!wc -l /local/home/sarahgw/WGS/SNPS/All_mylu/NJ_EU.mafs"
   ]
  },
  {
   "cell_type": "code",
   "execution_count": 20,
   "metadata": {
    "collapsed": true
   },
   "outputs": [],
   "source": [
    "!cut -d, -f2,3 /local/home/sarahgw/WGS/SNPS/All_mylu/snps/Candidate_SNPs_NJNYVT.csv > /local/home/sarahgw/WGS/SNPS/All_mylu/snps/Candidate_SNPs_list.csv"
   ]
  },
  {
   "cell_type": "code",
   "execution_count": 24,
   "metadata": {
    "collapsed": true
   },
   "outputs": [],
   "source": [
    "!sed -e 's/\"//g' -i /local/home/sarahgw/WGS/SNPS/All_mylu/snps/Candidate_SNPs_list.csv "
   ]
  },
  {
   "cell_type": "code",
   "execution_count": 25,
   "metadata": {},
   "outputs": [
    {
     "name": "stdout",
     "output_type": "stream",
     "text": [
      "Scaffold,Position\r\n",
      "GL429793,3619488\r\n",
      "GL429805,5255331\r\n",
      "GL429830,4776068\r\n",
      "GL429833,4827830\r\n",
      "GL429835,4132453\r\n",
      "GL429848,4054536\r\n",
      "GL429859,3284246\r\n",
      "GL429941,1539533\r\n",
      "GL430044,240397\r\n"
     ]
    }
   ],
   "source": [
    "!head /local/home/sarahgw/WGS/SNPS/All_mylu/snps/Candidate_SNPs_list.csv"
   ]
  },
  {
   "cell_type": "code",
   "execution_count": null,
   "metadata": {
    "collapsed": true
   },
   "outputs": [],
   "source": [
    "sed 's/\\t/,/g' /local/home/sarahgw/WGS/SNPS/All_mylu/genoprob/All_mylu_mInd.geno > /local/home/sarahgw/WGS/SNPS/All_mylu/genoprob/All_mylu_mInd_geno.csv"
   ]
  },
  {
   "cell_type": "code",
   "execution_count": 28,
   "metadata": {
    "scrolled": false
   },
   "outputs": [
    {
     "name": "stdout",
     "output_type": "stream",
     "text": [
      "GL429767,54,0.992890,0.007097,0.000013,0.996439,0.003561,0.000000,0.992890,0.007097,0.000013,0.992890,0.007097,0.000013,0.996439,0.003561,0.000000,0.998216,0.001784,0.000000,0.996439,0.003561,0.000000,0.992890,0.007097,0.000013,0.996439,0.003561,0.000000,0.992890,0.007097,0.000013,0.999107,0.000893,0.000000,0.999107,0.000893,0.000000,0.998216,0.001784,0.000000,0.996439,0.003561,0.000000,0.996439,0.003561,0.000000,0.992890,0.007097,0.000013,0.992890,0.007097,0.000013,0.998216,0.001784,0.000000,0.996439,0.003561,0.000000,0.996439,0.003561,0.000000,0.996439,0.003561,0.000000,0.998216,0.001784,0.000000,0.992890,0.007097,0.000013,0.992890,0.007097,0.000013,0.992890,0.007097,0.000013,0.998216,0.001784,0.000000,0.992890,0.007097,0.000013,0.996439,0.003561,0.000000,0.996439,0.003561,0.000000,0.992890,0.007097,0.000013,0.992890,0.007097,0.000013,0.996439,0.003561,0.000000,0.992890,0.007097,0.000013,0.992890,0.007097,0.000013,0.992890,0.007097,0.000013,0.992890,0.007097,0.000013,0.992890,0.007097,0.000013,0.992890,0.007097,0.000013,0.992890,0.007097,0.000013,0.992890,0.007097,0.000013,0.999777,0.000223,0.000000,0.996439,0.003561,0.000000,0.999107,0.000893,0.000000,0.996439,0.003561,0.000000,0.992890,0.007097,0.000013,0.998216,0.001784,0.000000,0.992890,0.007097,0.000013,0.998216,0.001784,0.000000,0.992890,0.007097,0.000013,0.992890,0.007097,0.000013,0.992890,0.007097,0.000013,0.992890,0.007097,0.000013,0.992890,0.007097,0.000013,0.992890,0.007097,0.000013,0.996439,0.003561,0.000000,0.992890,0.007097,0.000013,0.992890,0.007097,0.000013,0.992890,0.007097,0.000013,0.999107,0.000893,0.000000,0.996439,0.003561,0.000000,0.996439,0.003561,0.000000,0.998216,0.001784,0.000000,0.998216,0.001784,0.000000,0.999553,0.000447,0.000000,0.998216,0.001784,0.000000,0.992890,0.007097,0.000013,0.999107,0.000893,0.000000,0.996439,0.003561,0.000000,0.996439,0.003561,0.000000,0.999107,0.000893,0.000000,0.996439,0.003561,0.000000,0.996439,0.003561,0.000000,0.996439,0.003561,0.000000,0.998216,0.001784,0.000000,0.999107,0.000893,0.000000,0.996439,0.003561,0.000000,0.992890,0.007097,0.000013,0.996439,0.003561,0.000000,0.998216,0.001784,0.000000,0.992890,0.007097,0.000013,0.996439,0.003561,0.000000,0.992890,0.007097,0.000013,0.992890,0.007097,0.000013,0.992890,0.007097,0.000013,0.992890,0.007097,0.000013,0.000110,0.999888,0.000001,0.992890,0.007097,0.000013,0.992890,0.007097,0.000013,0.996439,0.003561,0.000000,0.992890,0.007097,0.000013,0.996439,0.003561,0.000000,0.992890,0.007097,0.000013,0.992890,0.007097,0.000013,0.992890,0.007097,0.000013,0.992890,0.007097,0.000013,0.996439,0.003561,0.000000,0.992890,0.007097,0.000013,0.992890,0.007097,0.000013,0.992890,0.007097,0.000013,0.992890,0.007097,0.000013,0.992890,0.007097,0.000013,0.992890,0.007097,0.000013,0.999888,0.000112,0.000000,0.992890,0.007097,0.000013,0.996439,0.003561,0.000000,0.999107,0.000893,0.000000,0.992890,0.007097,0.000013,0.996439,0.003561,0.000000,0.996439,0.003561,0.000000,0.998216,0.001784,0.000000,0.999777,0.000223,0.000000,0.999107,0.000893,0.000000,0.996439,0.003561,0.000000,0.996439,0.003561,0.000000,0.992890,0.007097,0.000013,0.992890,0.007097,0.000013,0.992890,0.007097,0.000013,0.999553,0.000447,0.000000,0.999553,0.000447,0.000000,0.999972,0.000028,0.000000,0.992890,0.007097,0.000013,0.992890,0.007097,0.000013,0.992890,0.007097,0.000013,0.992890,0.007097,0.000013,0.999553,0.000447,0.000000,0.996439,0.003561,0.000000,0.999107,0.000893,0.000000,0.996439,0.003561,0.000000,0.998216,0.001784,0.000000,0.999107,0.000893,0.000000,0.999107,0.000893,0.000000,0.992890,0.007097,0.000013,\r\n"
     ]
    }
   ],
   "source": [
    "!head -n 1 /local/home/sarahgw/WGS/SNPS/All_mylu/genoprob/All_mylu_geno.csv"
   ]
  },
  {
   "cell_type": "code",
   "execution_count": 1,
   "metadata": {},
   "outputs": [
    {
     "name": "stdout",
     "output_type": "stream",
     "text": [
      "GL429793,3619488\r\n",
      "GL429805,5255331\r\n",
      "GL429830,4776068\r\n",
      "GL429833,4827830\r\n",
      "GL429835,4132453\r\n",
      "GL429848,4054536\r\n",
      "GL429859,3284246\r\n",
      "GL429941,1539533\r\n",
      "GL430044,240397\r\n",
      "GL430199,598814\r\n"
     ]
    }
   ],
   "source": [
    "!head -n 10 /local/home/sarahgw/WGS/SNPS/All_mylu/snps/Candidate_SNPs_list.csv"
   ]
  },
  {
   "cell_type": "code",
   "execution_count": null,
   "metadata": {
    "collapsed": true
   },
   "outputs": [],
   "source": [
    "grep -f /local/home/sarahgw/WGS/SNPS/All_mylu/snps/Candidate_SNPs_list.csv /local/home/sarahgw/WGS/SNPS/All_mylu/genoprob/All_mylu_mInd_geno.csv > /local/home/sarahgw/WGS/SNPS/All_mylu/snps/Candidate_SNPs_geno_mInd.csv"
   ]
  }
 ],
 "metadata": {
  "anaconda-cloud": {},
  "kernelspec": {
   "display_name": "Python 2",
   "language": "python",
   "name": "python2"
  },
  "language_info": {
   "codemirror_mode": {
    "name": "ipython",
    "version": 2
   },
   "file_extension": ".py",
   "mimetype": "text/x-python",
   "name": "python",
   "nbconvert_exporter": "python",
   "pygments_lexer": "ipython2",
   "version": "2.7.13"
  }
 },
 "nbformat": 4,
 "nbformat_minor": 1
}
