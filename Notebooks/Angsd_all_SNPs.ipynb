{
 "cells": [
  {
   "cell_type": "markdown",
   "metadata": {},
   "source": [
    "# 1. Before calling snps, we need to filter the data more. \n",
    "## First identify sites with low mappability and exclude them from snps\n"
   ]
  },
  {
   "cell_type": "code",
   "execution_count": null,
   "metadata": {
    "collapsed": true
   },
   "outputs": [],
   "source": [
    "gem-indexer -i /local/home/sarahgw/references/Myotis_lucifugus.Myoluc2.0.dna_sm.toplevel.fas -o /local/home/sarahgw/references/Myotis_lucifugus.Myoluc2.0"
   ]
  },
  {
   "cell_type": "code",
   "execution_count": null,
   "metadata": {
    "collapsed": true
   },
   "outputs": [],
   "source": [
    "gem-mappability -I /local/home/sarahgw/references/Myotis_lucifugus.Myoluc2.0.gem -l 140 -o /local/home/sarahgw/WGS/QC/Map -T 20"
   ]
  },
  {
   "cell_type": "code",
   "execution_count": null,
   "metadata": {
    "collapsed": true
   },
   "outputs": [],
   "source": [
    "gem-2-wig -i Map.mappability -I ~/references/Myotis_lucifugus.Myoluc2.0.gem -o Map"
   ]
  },
  {
   "cell_type": "code",
   "execution_count": 1,
   "metadata": {},
   "outputs": [
    {
     "name": "stdout",
     "output_type": "stream",
     "text": [
      "variableStep\tchrom=GL429767 dna_sm\tspan=4317\r\n",
      "1\t1\r\n",
      "variableStep\tchrom=GL429767 dna_sm\tspan=5\r\n",
      "4318\t0.5\r\n",
      "variableStep\tchrom=GL429767 dna_sm\r\n",
      "4323\t0.0771517\r\n",
      "4324\t0.133631\r\n",
      "4325\t0.5\r\n",
      "4326\t0.0771517\r\n",
      "variableStep\tchrom=GL429767 dna_sm\tspan=6\r\n"
     ]
    }
   ],
   "source": [
    "!head /local/home/sarahgw/WGS/QC/Map.wig"
   ]
  },
  {
   "cell_type": "markdown",
   "metadata": {},
   "source": [
    "Turn this wig file into a filter file for angsd. "
   ]
  },
  {
   "cell_type": "code",
   "execution_count": 28,
   "metadata": {
    "collapsed": true
   },
   "outputs": [],
   "source": [
    "f=open('/local/home/sarahgw/WGS/QC/Map.wig', 'r')\n",
    "o=open('/local/home/sarahgw/WGS/QC/All_mylu_Map1.txt', 'w')\n",
    "\n",
    "line = \" \"\n",
    "while True:\n",
    "    line = f.readline()\n",
    "    if not line:\n",
    "        break\n",
    "        \n",
    "    if line.startswith(\"variableStep\"):\n",
    "        desc = line.split()\n",
    "        chrom = desc[1].split('=')[1]\n",
    "        span = None if 'span' not in desc[-1] else int(desc[-1].split('=')[1])\n",
    "    else:\n",
    "        data = line.split()\n",
    "        val = int(data[0])\n",
    "        if float(data[1]) == 1:\n",
    "            if span:\n",
    "                newline = \"{}:{}-{}\\n\".format(chrom, val, span+val)\n",
    "            else:\n",
    "                newline = \"{}:{}\\n\".format(chrom, val)\n",
    "            o.write(newline)\n",
    "\n",
    "f.close()\n",
    "o.close()"
   ]
  },
  {
   "cell_type": "code",
   "execution_count": 15,
   "metadata": {},
   "outputs": [
    {
     "name": "stdout",
     "output_type": "stream",
     "text": [
      "GL429767:1-4318\r\n"
     ]
    }
   ],
   "source": [
    "!head -n 1 /local/home/sarahgw/WGS/QC/All_mylu_Map1.txt"
   ]
  },
  {
   "cell_type": "code",
   "execution_count": 9,
   "metadata": {},
   "outputs": [
    {
     "data": {
      "text/plain": [
       "1739971618"
      ]
     },
     "execution_count": 9,
     "metadata": {},
     "output_type": "execute_result"
    }
   ],
   "source": [
    "f=open('/local/home/sarahgw/WGS/QC/All_mylu_Map1.txt', 'r')\n",
    "total=0\n",
    "for line in f:\n",
    "    chrom=line.split(':')\n",
    "    data=chrom[1]\n",
    "    if '-' not in data :\n",
    "        num=1\n",
    "    else: \n",
    "        sub=data.split('-')\n",
    "        num=int(sub[1])-int(sub[0])\n",
    "    total+=num\n",
    "total"
   ]
  },
  {
   "cell_type": "markdown",
   "metadata": {},
   "source": [
    "1,739,971,618\n",
    "so 1.7 GB are mappable score of 1. out of 2.2\n",
    "\n",
    "Limit depth calculation to mappable regions"
   ]
  },
  {
   "cell_type": "code",
   "execution_count": null,
   "metadata": {
    "collapsed": true
   },
   "outputs": [],
   "source": [
    "/local/home/sarahgw/angsd/angsd/angsd -b /local/home/sarahgw/WGS/Sequences/filelists/All_Mylu.filelist -rf /local/home/sarahgw/WGS/QC/All_mylu_Map1.txt -minMapQ 30 -minQ 20 -doCounts 1 -doDepth 1 -maxDepth 1000 -out /local/home/sarahgw/WGS/QC/All_mylu_depth_summary1000 -P 20"
   ]
  },
  {
   "cell_type": "markdown",
   "metadata": {},
   "source": [
    "Make plot using ryan's code"
   ]
  },
  {
   "cell_type": "code",
   "execution_count": 8,
   "metadata": {},
   "outputs": [
    {
     "data": {
      "text/plain": [
       "(0, 101)"
      ]
     },
     "execution_count": 8,
     "metadata": {},
     "output_type": "execute_result"
    },
    {
     "data": {
      "image/png": "[encoded data removed]",
      "text/plain": [
       "<matplotlib.figure.Figure at 0x7ffadc94d710>"
      ]
     },
     "metadata": {},
     "output_type": "display_data"
    }
   ],
   "source": [
    "import numpy as np\n",
    "import matplotlib.pyplot as plt\n",
    "depth = np.loadtxt('/local/home/sarahgw/WGS/QC/All_mylu_depth_summary.depthGlobal', dtype='int')\n",
    "fix, ax = plt.subplots(1, figsize = (16, 10))\n",
    "ax.bar(range(len(depth)), depth, align = 'center')\n",
    "plt.xlim(0, 101)"
   ]
  },
  {
   "cell_type": "code",
   "execution_count": null,
   "metadata": {
    "collapsed": true
   },
   "outputs": [],
   "source": [
    "for file in $ls; do samtools index $file; done"
   ]
  },
  {
   "cell_type": "markdown",
   "metadata": {},
   "source": [
    "look to see if snps of interest are in regions of low mappability (No)"
   ]
  },
  {
   "cell_type": "markdown",
   "metadata": {},
   "source": [
    "# 2. Redoing SNP calling \n",
    "limit to areas with high scores of mappability, limit depth to 1320 (10x depth in every individual)"
   ]
  },
  {
   "cell_type": "code",
   "execution_count": null,
   "metadata": {
    "collapsed": true
   },
   "outputs": [],
   "source": [
    "~/angsd/angsd/angsd -b /local/home/sarahgw/WGS/Sequences/filelists/All_Mylu.filelist -GL 1 -doMajorMinor 1 -doMaf 1 -doCounts 1 -minQ 20 -minMapQ 30 -SNP_pval 1e-6 -minInd 68 -setMaxDepth 1320 -rf /local/home/sarahgw/WGS/QC/All_mylu_Map1.txt -out /local/home/sarahgw/WGS/SNPS/All_mylu/snps/All_mylu_snps_filt -P 20"
   ]
  },
  {
   "cell_type": "markdown",
   "metadata": {},
   "source": [
    "## Calculate genotype likelihoods in beagle format for input into pcangsd"
   ]
  },
  {
   "cell_type": "code",
   "execution_count": null,
   "metadata": {
    "collapsed": true
   },
   "outputs": [],
   "source": [
    "~/angsd/angsd/angsd -b /local/home/sarahgw/WGS/Sequences/filelists/All_Mylu.filelist -GL 1 -doGlf 2 -doMajorMinor 1 -doMaf 1 -doCounts 1 -minQ 20 -minMapQ 30 -SNP_pval 1e-6 -minInd 68 -setMaxDepth 1320 -rf /local/home/sarahgw/WGS/QC/All_mylu_Map1.txt -out /local/home/sarahgw/WGS/SNPS/All_mylu/genolike/All_mylu_gl_filt -P 10"
   ]
  },
  {
   "cell_type": "code",
   "execution_count": null,
   "metadata": {
    "collapsed": true
   },
   "outputs": [],
   "source": [
    "~/angsd/angsd/angsd -b /local/home/sarahgw/WGS/Sequences/filelists/All_Mylu_Myse.filelist -GL 1 -doGlf 2 -doMajorMinor 1 -doMaf 1 -doCounts 1 -minQ 20 -minMapQ 30 -SNP_pval 1e-6 -minInd 68 -setMaxDepth 1320 -rf /local/home/sarahgw/WGS/QC/All_mylu_Map1.txt -out /local/home/sarahgw/WGS/SNPS/All_mylu/genolike/All_mylu_myse_gl_filt -P 10"
   ]
  },
  {
   "cell_type": "code",
   "execution_count": null,
   "metadata": {
    "collapsed": true
   },
   "outputs": [],
   "source": [
    "All_Mylu_Myse.filelist"
   ]
  },
  {
   "cell_type": "code",
   "execution_count": null,
   "metadata": {
    "collapsed": true
   },
   "outputs": [],
   "source": [
    "python /local/home/sarahgw/pcangsd/pcangsd.py -beagle /local/home/sarahgw/WGS/SNPS/All_mylu/genolike/All_mylu_gl_filt.beagle.gz -n 132 -o /local/home/sarahgw/WGS/SNPS/All_mylu/genolike/All_mylu_gl_filt -threads 10"
   ]
  },
  {
   "cell_type": "markdown",
   "metadata": {},
   "source": [
    "## Now calculate minor allele frequencies for each population for SNPS \n",
    "\n",
    "first make sites index file\n",
    "\n",
    "Include major and minor, so that these are consistent across populations, even if not accurate in a given (sub)population"
   ]
  },
  {
   "cell_type": "code",
   "execution_count": 2,
   "metadata": {
    "collapsed": true
   },
   "outputs": [],
   "source": [
    "!gunzip /local/home/sarahgw/WGS/SNPS/All_mylu/All_mylu.mafs.gz"
   ]
  },
  {
   "cell_type": "code",
   "execution_count": 1,
   "metadata": {
    "collapsed": true
   },
   "outputs": [],
   "source": [
    "!cut -f1-4 /local/home/sarahgw/WGS/SNPS/All_mylu/snps/All_mylu_snps_filt.mafs > /local/home/sarahgw/WGS/SNPS/All_mylu/snps/All_mylu_snps_filt_sites.txt"
   ]
  },
  {
   "cell_type": "code",
   "execution_count": 2,
   "metadata": {},
   "outputs": [
    {
     "name": "stdout",
     "output_type": "stream",
     "text": [
      "44829667 /local/home/sarahgw/WGS/SNPS/All_mylu/snps/All_mylu_snps_filt.mafs\r\n"
     ]
    }
   ],
   "source": [
    "!wc -l /local/home/sarahgw/WGS/SNPS/All_mylu/snps/All_mylu_snps_filt.mafs"
   ]
  },
  {
   "cell_type": "code",
   "execution_count": 15,
   "metadata": {},
   "outputs": [
    {
     "name": "stdout",
     "output_type": "stream",
     "text": [
      "chromo\tposition\tmajor\tminor\tknownEM\tpK-EM\tnInd\r\n",
      "GL429767\t78\tG\tA\t0.038942\t0.000000e+00\t73\r\n",
      "GL429767\t104\tA\tT\t0.099900\t0.000000e+00\t71\r\n",
      "GL429767\t112\tG\tA\t0.009628\t2.170143e-09\t73\r\n",
      "GL429767\t195\tC\tT\t0.049670\t0.000000e+00\t87\r\n",
      "GL429767\t196\tT\tC\t0.082842\t0.000000e+00\t86\r\n",
      "GL429767\t202\tA\tG\t0.234427\t0.000000e+00\t87\r\n",
      "GL429767\t295\tA\tT\t0.076318\t0.000000e+00\t84\r\n",
      "GL429767\t317\tG\tA\t0.184128\t0.000000e+00\t88\r\n",
      "GL429767\t324\tT\tA\t0.244735\t0.000000e+00\t90\r\n"
     ]
    }
   ],
   "source": [
    "!head /local/home/sarahgw/WGS/SNPS/All_mylu/snps/All_mylu_snps_filt.mafs"
   ]
  },
  {
   "cell_type": "code",
   "execution_count": 16,
   "metadata": {},
   "outputs": [
    {
     "name": "stdout",
     "output_type": "stream",
     "text": [
      "chromo\tposition\tmajor\tminor\tknownEM\tunknownEM\tphat\tpK-EM\tpu-EM\tnInd\r\n",
      "GL429767\t54\tG\tT\t0.010604\t0.003561\t0.010596\t1.780614e-05\t8.907360e-05\t132\r\n",
      "GL429767\t78\tG\tA\t0.038947\t0.038947\t0.048613\t0.000000e+00\t0.000000e+00\t132\r\n",
      "GL429767\t83\tG\tT\t0.009379\t0.003079\t0.009519\t7.572331e-03\t4.047936e-02\t132\r\n",
      "GL429767\t104\tA\tT\t0.099904\t0.099904\t0.112676\t0.000000e+00\t0.000000e+00\t132\r\n",
      "GL429767\t109\tT\tC\t0.008437\t0.006854\t0.003124\t7.962769e-02\t2.694076e-01\t132\r\n",
      "GL429767\t112\tG\tA\t0.009633\t0.004939\t0.014536\t2.170143e-09\t8.087610e-09\t132\r\n",
      "GL429767\t157\tT\tC\t0.008590\t0.008094\t0.005589\t2.282445e-02\t7.836519e-02\t132\r\n",
      "GL429767\t184\tC\tG\t0.008224\t0.002742\t0.003536\t1.670660e-04\t8.589729e-04\t132\r\n",
      "GL429767\t189\tG\tT\t0.007934\t0.007740\t0.007856\t9.091749e-03\t3.092228e-02\t132\r\n"
     ]
    }
   ],
   "source": [
    "!head /local/home/sarahgw/WGS/SNPS/All_mylu/mafs/All_mylu.mafs"
   ]
  },
  {
   "cell_type": "markdown",
   "metadata": {},
   "source": [
    "So, we now have 44,829,667 SNPs!"
   ]
  },
  {
   "cell_type": "code",
   "execution_count": 3,
   "metadata": {
    "collapsed": true
   },
   "outputs": [],
   "source": [
    "!tail -n+2 /local/home/sarahgw/WGS/SNPS/All_mylu/snps/All_mylu_snps_filt_sites.txt > /local/home/sarahgw/WGS/SNPS/All_mylu/snps/All_mylu_snps_filt_sites1.txt"
   ]
  },
  {
   "cell_type": "code",
   "execution_count": null,
   "metadata": {
    "collapsed": true
   },
   "outputs": [],
   "source": [
    "~/angsd/angsd/angsd sites index All_mylu_snps_filt_sites1.txt"
   ]
  },
  {
   "cell_type": "code",
   "execution_count": null,
   "metadata": {
    "collapsed": true
   },
   "outputs": [],
   "source": [
    "for POP in NJ_U NY_U VT_U; do echo $POP; ~/angsd/angsd/angsd -b /local/home/sarahgw/WGS/Sequences/filelists/\"$POP\".filelist -GL 1 -doMajorMinor 3 -doMaf 11 -doCounts 1 -minQ 20 -minMapQ 30 -P 30 -setMaxDepth 270 -sites /local/home/sarahgw/WGS/SNPS/All_mylu/snps/All_mylu_snps_filt_sites1.txt -out /local/home/sarahgw/WGS/SNPS/All_mylu/mafs/\"$POP\"_filt; done"
   ]
  },
  {
   "cell_type": "code",
   "execution_count": null,
   "metadata": {
    "collapsed": true
   },
   "outputs": [],
   "source": [
    "for POP in NJ_E NY_E VT_E ; do echo $POP; ~/angsd/angsd/angsd -b /local/home/sarahgw/WGS/Sequences/filelists/\"$POP\".filelist -GL 1 -doMajorMinor 3 -doMaf 11 -doCounts 1 -minQ 20 -minMapQ 30 -P 20 -setMaxDepth 270 -sites /local/home/sarahgw/WGS/SNPS/All_mylu/snps/All_mylu_snps_filt_sites1.txt -out /local/home/sarahgw/WGS/SNPS/All_mylu/mafs/\"$POP\"_filt; done"
   ]
  },
  {
   "cell_type": "code",
   "execution_count": null,
   "metadata": {
    "collapsed": true
   },
   "outputs": [],
   "source": [
    "for POP in NY_U VT_U ; do echo $POP; ~/angsd/angsd/angsd -b /local/home/sarahgw/WGS/Sequences/filelists/\"$POP\"_noOut.filelist -GL 1 -doMajorMinor 3 -doMaf 11 -doCounts 1 -minQ 20 -minMapQ 30 -P 20 -setMaxDepth 270 -sites /local/home/sarahgw/WGS/SNPS/All_mylu/snps/All_mylu_snps_filt_sites1.txt -out /local/home/sarahgw/WGS/SNPS/All_mylu/mafs/\"$POP\"_noOut_filt; done"
   ]
  },
  {
   "cell_type": "markdown",
   "metadata": {},
   "source": [
    "redo VTE mafs"
   ]
  },
  {
   "cell_type": "code",
   "execution_count": null,
   "metadata": {
    "collapsed": true
   },
   "outputs": [],
   "source": [
    "~/angsd/angsd/angsd -b /local/home/sarahgw/WGS/Sequences/filelists/VT_E.filelist -GL 1 -doMajorMinor 3 -doMaf 11 -doCounts 1 -minQ 20 -minMapQ 30 -P 20 -setMaxDepth 270 -sites /local/home/sarahgw/WGS/SNPS/All_mylu/snps/All_mylu_snps_filt_sites1.txt -out /local/home/sarahgw/WGS/SNPS/All_mylu/mafs/VT_E_filt"
   ]
  },
  {
   "cell_type": "code",
   "execution_count": 1,
   "metadata": {
    "collapsed": true
   },
   "outputs": [],
   "source": [
    "!gunzip /local/home/sarahgw/WGS/SNPS/All_mylu/mafs/*_filt.mafs.gz"
   ]
  },
  {
   "cell_type": "markdown",
   "metadata": {},
   "source": [
    "no outlier check:"
   ]
  },
  {
   "cell_type": "code",
   "execution_count": 1,
   "metadata": {
    "collapsed": true
   },
   "outputs": [],
   "source": [
    "!gunzip /local/home/sarahgw/WGS/SNPS/All_mylu/mafs/VT_U_noOut_filt.mafs.gz\n",
    "!gunzip /local/home/sarahgw/WGS/SNPS/All_mylu/mafs/NY_U_noOut_filt.mafs.gz"
   ]
  },
  {
   "cell_type": "code",
   "execution_count": 3,
   "metadata": {},
   "outputs": [
    {
     "name": "stdout",
     "output_type": "stream",
     "text": [
      "chromo\tposition\tmajor\tminor\tknownEM\tunknownEM\tphat\tnInd\r\n",
      "GL429767\t78\tG\tA\t0.000000\t0.000003\t0.000000\t15\r\n",
      "GL429767\t104\tA\tT\t0.096519\t0.034151\t0.104578\t15\r\n",
      "GL429767\t112\tG\tA\t0.000000\t0.037773\t0.000000\t14\r\n",
      "GL429767\t195\tC\tT\t0.049193\t0.048816\t0.035401\t15\r\n",
      "GL429767\t196\tT\tC\t0.055152\t0.055157\t0.032916\t14\r\n",
      "GL429767\t202\tA\tG\t0.312346\t0.312350\t0.294787\t14\r\n",
      "GL429767\t295\tA\tT\t0.000000\t0.000003\t0.000000\t11\r\n",
      "GL429767\t317\tG\tA\t0.202838\t0.202840\t0.168168\t10\r\n",
      "GL429767\t324\tT\tA\t0.203906\t0.203909\t0.169051\t10\r\n"
     ]
    }
   ],
   "source": [
    "!head /local/home/sarahgw/WGS/SNPS/All_mylu/mafs/NY_U_noOut_filt.mafs"
   ]
  },
  {
   "cell_type": "code",
   "execution_count": 4,
   "metadata": {},
   "outputs": [
    {
     "name": "stdout",
     "output_type": "stream",
     "text": [
      "\"\",\"Scaffold\",\"NewScaf\",\"SNP\",\"Maj\",\"Min\",\"NJ\",\"NY\",\"Comp\",\"rank\",\"padjBH\"\r\n",
      "\"1\",\"GL429767\",\"NW_005871048.1\",16839644,\"T\",\"A\",8.3999916000084e-05,0.000181999818000182,2.90413319116625e-07,70,5.39909603706351e-07\r\n",
      "\"2\",\"GL429767\",\"NW_005871048.1\",38456248,\"T\",\"C\",2.8999971000029e-05,0.000823999176000824,4.43259321723044e-07,78,6.01613558415648e-07\r\n",
      "\"3\",\"GL429767\",\"NW_005871048.1\",22649683,\"T\",\"A\",0.000658999341000659,9.99999000001e-07,1.45904282432881e-08,20,1.54259886773243e-07\r\n",
      "\"4\",\"GL429767\",\"NW_005871048.1\",46534125,\"C\",\"T\",6.6999933000067e-05,9.99999000001e-07,1.63656087014458e-09,9,6.94169490479594e-08\r\n",
      "\"5\",\"GL429767\",\"NW_005871048.1\",51542832,\"G\",\"A\",9.99999000001e-07,0.000233999766000234,5.42310342192109e-09,13,1.00268926402608e-07\r\n",
      "\"6\",\"GL429768\",\"NW_005871049.1\",3921142,\"G\",\"C\",9.99999000001e-07,0.0138399861600138,2.64284027064383e-07,67,5.16770620690364e-07\r\n",
      "\"7\",\"GL429768\",\"NW_005871049.1\",34577793,\"C\",\"T\",0.000584999415000585,2.3999976000024e-05,2.6790172263069e-07,68,5.24483615029027e-07\r\n",
      "\"8\",\"GL429768\",\"NW_005871049.1\",29962249,\"A\",\"G\",9.99999000001e-07,0.00581299418700581,1.16045681211861e-07,52,4.01075705610432e-07\r\n",
      "\"9\",\"GL429770\",\"NW_005871051.1\",8292792,\"A\",\"T\",7.999992000008e-06,9.99999000001e-07,2.12412227769314e-10,4,3.08519773546486e-08\r\n"
     ]
    }
   ],
   "source": [
    "!head /local/home/sarahgw/WGS/SNPS/All_mylu/snps/NJNY50_sigCompvaluesNe424_296.csv"
   ]
  },
  {
   "cell_type": "code",
   "execution_count": 2,
   "metadata": {},
   "outputs": [
    {
     "name": "stdout",
     "output_type": "stream",
     "text": [
      "   44829593 /local/home/sarahgw/WGS/SNPS/All_mylu/mafs/NJ_E_filt.mafs\n",
      "   44829662 /local/home/sarahgw/WGS/SNPS/All_mylu/mafs/NJ_U_filt.mafs\n",
      "   44829667 /local/home/sarahgw/WGS/SNPS/All_mylu/mafs/NY_E_filt.mafs\n",
      "   44829341 /local/home/sarahgw/WGS/SNPS/All_mylu/mafs/NY_U_filt.mafs\n",
      "   44829648 /local/home/sarahgw/WGS/SNPS/All_mylu/mafs/VT_E_filt.mafs\n",
      "   44828941 /local/home/sarahgw/WGS/SNPS/All_mylu/mafs/VT_U_filt.mafs\n",
      "  268976852 total\n"
     ]
    }
   ],
   "source": [
    "!wc -l /local/home/sarahgw/WGS/SNPS/All_mylu/mafs/*_filt.mafs"
   ]
  },
  {
   "cell_type": "code",
   "execution_count": 5,
   "metadata": {
    "collapsed": true
   },
   "outputs": [],
   "source": [
    "!head /local/home/sarahgw/WGS/SNPS/All_mylu/mafs/NJ_E_filt.mafs > /local/home/sarahgw/WGS/SNPS/All_mylu/mafs/NJ_E_filttest.mafs\n",
    "!head /local/home/sarahgw/WGS/SNPS/All_mylu/snps/All_mylu_snps_filt.mafs > /local/home/sarahgw/WGS/SNPS/All_mylu/snps/All_mylu_snps_filttest.mafs"
   ]
  },
  {
   "cell_type": "code",
   "execution_count": 1,
   "metadata": {},
   "outputs": [
    {
     "name": "stdout",
     "output_type": "stream",
     "text": [
      "3 0\n"
     ]
    }
   ],
   "source": [
    "import traceback\n",
    "\n",
    "#NJE=open('/local/home/sarahgw/WGS/SNPS/All_mylu/mafs/NJ_E_filt.mafs', 'r')\n",
    "#NJU=open('/local/home/sarahgw/WGS/SNPS/All_mylu/mafs/NJ_U_filt.mafs', 'r')\n",
    "#NYE=open('/local/home/sarahgw/WGS/SNPS/All_mylu/mafs/NY_E_filt.mafs', 'r')\n",
    "#NYU=open('/local/home/sarahgw/WGS/SNPS/All_mylu/mafs/NY_U_filt.mafs', 'r')\n",
    "VTE=open('/local/home/sarahgw/WGS/SNPS/All_mylu/mafs/VT_E_filt.mafs', 'r')\n",
    "#VTU=open('/local/home/sarahgw/WGS/SNPS/All_mylu/mafs/VT_U_filt.mafs', 'r')\n",
    "\n",
    "SNP=open('/local/home/sarahgw/WGS/SNPS/All_mylu/snps/All_mylu_snps_filt.mafs', 'r')\n",
    "\n",
    "\n",
    "#NJE1=open('/local/home/sarahgw/WGS/SNPS/All_mylu/mafs/NJ_E_filt1.mafs', 'w')\n",
    "#NJU1=open('/local/home/sarahgw/WGS/SNPS/All_mylu/mafs/NJ_U_filt1.mafs', 'w')\n",
    "#NYE1=open('/local/home/sarahgw/WGS/SNPS/All_mylu/mafs/NY_E_filt1.mafs', 'w')\n",
    "#NYU1=open('/local/home/sarahgw/WGS/SNPS/All_mylu/mafs/NY_U_filt1.mafs', 'w')\n",
    "VTE1=open('/local/home/sarahgw/WGS/SNPS/All_mylu/mafs/VT_E_filt1.mafs', 'w')\n",
    "#VTU1=open('/local/home/sarahgw/WGS/SNPS/All_mylu/mafs/VT_U_filt1.mafs', 'w')\n",
    "\n",
    "readFile =VTE\n",
    "\n",
    "copies = 0\n",
    "skipped = 0\n",
    "\n",
    "# Skip headers\n",
    "\n",
    "cmpLine = SNP.readline()\n",
    "chkLine = VTE.readline()\n",
    "while True:\n",
    "    \n",
    "    # Read master\n",
    "    cmpLine = SNP.readline().split()\n",
    "    chkLine = VTE.readline().split()\n",
    "    line = ' '.join((chkLine))\n",
    "\n",
    "    if not chkLine or not cmpLine:\n",
    "        print(skipped, copies)\n",
    "        break\n",
    "        \n",
    "    cmpChrom = cmpLine[0].strip()\n",
    "    cmpLoc = cmpLine[1].strip()\n",
    "    chkChrom=chkLine[0].strip()\n",
    "    chkLoc=chkLine[1].strip()\n",
    "    \n",
    "    # If they are not the same increment the snps pointer until they are\n",
    "    while cmpChrom != chkChrom or cmpLoc != chkLoc:\n",
    "        skipped += 1\n",
    "        \n",
    "        cmpLine = SNP.readline().split()\n",
    "        if not cmpLine:\n",
    "            break\n",
    "        cmpChrom = cmpLine[0].strip()\n",
    "        cmpLoc = cmpLine[1].strip()\n",
    "        VTE1.write('NA NA NA NA NA NA NA NA \\n')\n",
    "        # Need to print a line to your file for every line in skips\n",
    "        \n",
    "    \n",
    "    # Print the line to\" a file\n",
    "    VTE1.write(line + '\\n')\n",
    "    \n",
    "VTE1.close()\n",
    "VTE.close()\n",
    "SNP.close()"
   ]
  },
  {
   "cell_type": "code",
   "execution_count": 7,
   "metadata": {},
   "outputs": [
    {
     "name": "stdout",
     "output_type": "stream",
     "text": [
      "44829666 /local/home/sarahgw/WGS/SNPS/All_mylu/mafs/NJ_E_filt1.mafs\r\n"
     ]
    }
   ],
   "source": [
    "!wc -l /local/home/sarahgw/WGS/SNPS/All_mylu/mafs/NJ_E_filt1.mafs"
   ]
  },
  {
   "cell_type": "code",
   "execution_count": 2,
   "metadata": {},
   "outputs": [
    {
     "name": "stdout",
     "output_type": "stream",
     "text": [
      "44829666 /local/home/sarahgw/WGS/SNPS/All_mylu/mafs/NJ_U_filt1.mafs\r\n"
     ]
    }
   ],
   "source": [
    "!wc -l /local/home/sarahgw/WGS/SNPS/All_mylu/mafs/NJ_U_filt1.mafs"
   ]
  },
  {
   "cell_type": "code",
   "execution_count": 6,
   "metadata": {},
   "outputs": [
    {
     "name": "stdout",
     "output_type": "stream",
     "text": [
      "44829667 /local/home/sarahgw/WGS/SNPS/All_mylu/snps/All_mylu_snps_filt.mafs\r\n"
     ]
    }
   ],
   "source": [
    "!wc -l /local/home/sarahgw/WGS/SNPS/All_mylu/snps/All_mylu_snps_filt.mafs"
   ]
  },
  {
   "cell_type": "code",
   "execution_count": null,
   "metadata": {
    "collapsed": true
   },
   "outputs": [],
   "source": []
  },
  {
   "cell_type": "markdown",
   "metadata": {},
   "source": [
    "##  3. make bootstrapped filelists run domaf with each\n",
    "\n",
    "So, for each snp. you need to first use bedtools to mark individuals as either 0 or 1 (has data)\n",
    "then, take list of individuals with 1s for EACH snp, and bootstrap it. (100 times? more?)\n",
    "Then feed those bootstrapped lists into ANGSD to calculate mafs. "
   ]
  },
  {
   "cell_type": "markdown",
   "metadata": {
    "collapsed": true
   },
   "source": [
    "Calculate depth for each snp for each individual"
   ]
  },
  {
   "cell_type": "code",
   "execution_count": 36,
   "metadata": {
    "collapsed": true,
    "scrolled": true
   },
   "outputs": [],
   "source": [
    "!cut -f1-2 /local/home/sarahgw/WGS/SNPS/All_mylu/snps/njnyvteu40sites.txt |  awk -v OFS='\\t' '{print $1, ($2-1), $2}'> /local/home/sarahgw/WGS/SNPS/All_mylu/snps/njnyvteu40sites.bed "
   ]
  },
  {
   "cell_type": "code",
   "execution_count": 6,
   "metadata": {},
   "outputs": [
    {
     "name": "stdout",
     "output_type": "stream",
     "text": [
      "93 /local/home/sarahgw/WGS/SNPS/All_mylu/snps/njnyvteu40sites.bed\r\n"
     ]
    }
   ],
   "source": [
    "!wc -l /local/home/sarahgw/WGS/SNPS/All_mylu/snps/njnyvteu40sites.bed "
   ]
  },
  {
   "cell_type": "markdown",
   "metadata": {},
   "source": [
    "Calculate depth for  all individuals, remove unnecessary columns, split by snp, paste filelist, split by population. "
   ]
  },
  {
   "cell_type": "code",
   "execution_count": null,
   "metadata": {
    "collapsed": true
   },
   "outputs": [],
   "source": [
    "samtools mpileup -b /local/home/sarahgw/WGS/Sequences/filelists/All_Mylu.filelist -l /local/home/sarahgw/WGS/SNPS/All_mylu/snps/njnyvteu40sites.bed > /local/home/sarahgw/WGS/SNPS/All_mylu/mafs/All_mylu_Depth.txt "
   ]
  },
  {
   "cell_type": "code",
   "execution_count": null,
   "metadata": {
    "collapsed": true,
    "scrolled": true
   },
   "outputs": [],
   "source": [
    "for i in `seq 4 3 398`; do awk -v OFS='\\t' -v a=\"$i\" '{print $1, $2, $a}' /local/home/sarahgw/WGS/SNPS/All_mylu/mafs/All_mylu_Depth.txt; done | awk '{print>$2}' "
   ]
  },
  {
   "cell_type": "code",
   "execution_count": null,
   "metadata": {
    "collapsed": true
   },
   "outputs": [],
   "source": [
    "for file in $(ls); do paste \"$file\" /local/home/sarahgw/WGS/Sequences/filelists/All_Mylu.filelist |awk '(NR>1) && ($3 > 0 ) '| awk '{print $4}'|awk '{print > substr ($0,1,5)'$file'}'; done"
   ]
  },
  {
   "cell_type": "markdown",
   "metadata": {},
   "source": [
    "Angsd is somehow filtering out more individuals than samtools is. which is resulting in files like below. I can't find anything about how ANGSD calculates the number of individuals with data, but for now I'm going to assume that these slight number changes aren't going to make a difference. "
   ]
  },
  {
   "cell_type": "code",
   "execution_count": 2,
   "metadata": {
    "scrolled": true
   },
   "outputs": [
    {
     "name": "stdout",
     "output_type": "stream",
     "text": [
      "GL431057\t47720\tT\tC\t0.106055\t0.006377\t0.098227\t15\r\n",
      "GL431057\t47720\tT\tC\t0.198283\t0.083965\t0.179573\t16\r\n",
      "GL431057\t47720\tT\tC\t0.101079\t0.099994\t0.055104\t14\r\n",
      "GL431057\t47720\tT\tC\t0.186894\t0.134883\t0.105333\t15\r\n",
      "GL431057\t47720\tT\tC\t0.230963\t0.119126\t0.196123\t16\r\n",
      "GL431057\t47720\tT\tC\t0.250262\t0.184608\t0.181053\t14\r\n",
      "GL431057\t47720\tT\tC\t0.338863\t0.000031\t0.339485\t14\r\n",
      "GL431057\t47720\tT\tC\t0.104191\t0.052238\t0.057367\t14\r\n",
      "GL431057\t47720\tT\tC\t0.150871\t0.032618\t0.084884\t14\r\n",
      "GL431057\t47720\tT\tC\t0.097105\t0.042040\t0.090790\t16\r\n"
     ]
    }
   ],
   "source": [
    "!head /local/home/sarahgw/WGS/SNPS/All_mylu/mafs/Bootstrapped_mafs/All_bootstrapped_mafs/NJ_E_47720.mafs"
   ]
  },
  {
   "cell_type": "markdown",
   "metadata": {},
   "source": [
    "Boostrap filelists"
   ]
  },
  {
   "cell_type": "code",
   "execution_count": 12,
   "metadata": {
    "collapsed": true
   },
   "outputs": [],
   "source": [
    "import numpy as np\n",
    "def run_bs(filename):\n",
    "    f=open('/local/home/sarahgw/WGS/SNPS/All_mylu/mafs/FiltFiles/Site_SNPS_Data/{}'.format(filename), 'r')\n",
    "    lines = [line.rstrip('\\n') for line in f]\n",
    "    count = len(lines)\n",
    "    for i in range(100):\n",
    "        boot=np.random.choice(lines, count)\n",
    "        boot1=\"\\n\".join(boot)\n",
    "        o=open('/local/home/sarahgw/WGS/SNPS/All_mylu/mafs/FiltFiles/Bootstrapped_Filelists/{}_{}'.format(filename, i+1), 'w')\n",
    "        o.write(boot1)"
   ]
  },
  {
   "cell_type": "markdown",
   "metadata": {},
   "source": [
    "Make sites and chromosome files index"
   ]
  },
  {
   "cell_type": "code",
   "execution_count": null,
   "metadata": {
    "collapsed": true
   },
   "outputs": [],
   "source": [
    "import time\n",
    "\n",
    "f = open(\"/local/home/sarahgw/WGS/SNPS/All_mylu/snps/njnyvteu40sites.txt\", 'r')\n",
    "for line in f:\n",
    "    args = line.split()\n",
    "    \n",
    "    # Make sites file\n",
    "    site = \"/local/home/sarahgw/WGS/SNPS/All_mylu/snps/sites_files/{}_sites.txt\".format(args[1])\n",
    "    o = open(site,'w')\n",
    "    o.write('\\t'.join(args))\n",
    "    o.close()\n",
    "        \n",
    "    # Make chromo file\n",
    "    chrom = \"/local/home/sarahgw/WGS/SNPS/All_mylu/snps/chrom_files/{}_chrom.txt\".format(args[1])\n",
    "    o = open(chrom, 'w')\n",
    "    o.write(args[0])\n",
    "    o.close()\n",
    "    \n",
    "    \n",
    "# Silly, but accomodates angsd's file create time check\n",
    "time.sleep(5)\n",
    "\n",
    "f = open(\"/local/home/sarahgw/WGS/SNPS/All_mylu/snps/njnyvteu40sites.txt\", 'r')\n",
    "for line in f:\n",
    "    args = line.split()\n",
    "        \n",
    "    # Index sites file\n",
    "    site = \"/local/home/sarahgw/WGS/SNPS/All_mylu/snps/sites_files/{}_sites.txt\".format(args[1])\n",
    "    cmd = \"/local/home/sarahgw/angsd/angsd/angsd sites index {}\".format(site)\n",
    "    print cmd\n",
    "    subprocess.call(cmd.split())"
   ]
  },
  {
   "cell_type": "markdown",
   "metadata": {
    "collapsed": true
   },
   "source": [
    "Calculate bootstrapped maf files\n",
    "\n",
    "script in ~/WNS_Scripts/WNS_WGS/Scripts/run_angsd_bootstrapped.py"
   ]
  },
  {
   "cell_type": "code",
   "execution_count": 7,
   "metadata": {},
   "outputs": [
    {
     "name": "stdout",
     "output_type": "stream",
     "text": [
      "['NY_U_45231339', 'NY_E_941437']\n"
     ]
    },
    {
     "data": {
      "text/plain": [
       "[None, None]"
      ]
     },
     "execution_count": 7,
     "metadata": {},
     "output_type": "execute_result"
    }
   ],
   "source": [
    "from os import listdir, path\n",
    "from multiprocessing.pool import ThreadPool\n",
    "import subprocess\n",
    "import sys\n",
    "\n",
    "site = sys.argv[1]\n",
    "\n",
    "def run_angsd(filename):\n",
    "\n",
    "    # Runs angsd for each snp and 100 bootstrapped files\n",
    "    for i in range(100):\n",
    "        snp_idx = filename.split('_')[-1]\n",
    "        bs_file = '/local/home/sarahgw/WGS/SNPS/All_mylu/mafs/FiltFiles/{}_Bootstrapped_Filelists/{}_{}'.format(site, filename, i+1)\n",
    "        chrom_file = '/local/home/sarahgw/WGS/SNPS/All_mylu/snps/{}_chrom_files/{}_chrom.txt'.format(site, snp_idx)\n",
    "        site_ref_file = '/local/home/sarahgw/WGS/SNPS/All_mylu/snps/{}_sites_files/{}_sites.txt'.format(site, snp_idx)\n",
    "        output_file = '/local/home/sarahgw/WGS/SNPS/All_mylu/mafs/{}_Bootstrapped_mafs/tmp/{}_{}'.format(site, filename, i+1)\n",
    "        cmd = \"/local/home/sarahgw/angsd/angsd/angsd -b {} -GL 1 -doMajorMinor 3 -doMaf 11 -doCounts 1 -P 20 -rf {} -sites {} -out {}\".format(bs_file, chrom_file, site_ref_file, ou$\n",
    "        subprocess.call(cmd.split())\n",
    "\n",
    "        #Delete this\n",
    "        #raise Exception('done')\n",
    "\n",
    "files = listdir('/local/home/sarahgw/WGS/SNPS/All_mylu/mafs/FiltFiles/{}_Site_SNPS_Data/'.format(site))\n",
    "\n",
    "for f in list(files):\n",
    "    if path.isfile('/local/home/sarahgw/WGS/SNPS/All_mylu/mafs/{}_Bootstrapped_mafs/tmp/{}_100.arg'.format(site, f)):\n",
    "        # print \"done {}\".format(f)\n",
    "        files.remove(f)\n",
    "pool = ThreadPool(20)\n",
    "print files[:2]\n",
    "pool.map(run_angsd, files[:2])\n",
    "\n",
    "#for i in range(len(files)):\n",
    "#    f = files[i]\n",
    "#    print \"{}: Running angsd for {}\".format(i, f)\n",
    "#    run_angsd((site, f))\n",
    "\n",
    "\n"
   ]
  },
  {
   "cell_type": "code",
   "execution_count": null,
   "metadata": {
    "collapsed": true
   },
   "outputs": [],
   "source": []
  },
  {
   "cell_type": "code",
   "execution_count": null,
   "metadata": {
    "collapsed": true
   },
   "outputs": [],
   "source": [
    "!gunzip /local/home/sarahgw/WGS/SNPS/All_mylu/mafs/Bootstrapped_mafs/NY*.mafs.gz\n",
    "!gunzip /local/home/sarahgw/WGS/SNPS/All_mylu/mafs/Bootstrapped_mafs/VT*.mafs.gz\n",
    "!gunzip /local/home/sarahgw/WGS/SNPS/All_mylu/mafs/Bootstrapped_mafs/NJ*.mafs.gz"
   ]
  },
  {
   "cell_type": "code",
   "execution_count": 15,
   "metadata": {
    "collapsed": true
   },
   "outputs": [],
   "source": []
  },
  {
   "cell_type": "code",
   "execution_count": null,
   "metadata": {
    "collapsed": true
   },
   "outputs": [],
   "source": [
    "from os import listdir\n",
    "\n",
    "def site_mafs(filename):\n",
    "    # put e and u together for each site\n",
    "    for i in \"NJ\", \"NY\", \"VT\":\n",
    "        output_file = open('/local/home/sarahgw/WGS/SNPS/All_mylu/mafs/Bootstrapped_mafs/All_bootstrapped_mafs/Combined_mafs/{}_{}.mafs'.format(i, filename), 'w')\n",
    "        output_file.write('SNP'+'\\t'+'MAF_U'+'\\t'+'MAF_E'+'\\t'+'nInd_U'+'\\t'+'nInd_E'+'\\n')\n",
    "        e_file = open('/local/home/sarahgw/WGS/SNPS/All_mylu/mafs/Bootstrapped_mafs/All_bootstrapped_mafs/{}_E_{}.mafs'.format(i, filename), 'r')\n",
    "        u_file = open('/local/home/sarahgw/WGS/SNPS/All_mylu/mafs/Bootstrapped_mafs/All_bootstrapped_mafs/{}_U_{}.mafs'.format(i, filename), 'r')\n",
    "        eLine = e_file.readline()\n",
    "        uLine = u_file.readline()\n",
    "        while True:\n",
    "            eLine = e_file.readline()\n",
    "            uLine = u_file.readline()\n",
    "            if not eLine or not uLine:\n",
    "                break\n",
    "            eGroups=eLine.split('\\t')\n",
    "            uGroups=uLine.split('\\t')\n",
    "            lineplus=uGroups[0]+'\\t'+uGroups[1]+'\\t'+eGroups[1]+'\\t'+uGroups[2].strip('\\n')+'\\t'+eGroups[2]\n",
    "            output_file.write(lineplus) \n",
    "        e_file.close()\n",
    "        u_file.close()\n",
    "\n",
    "    \n",
    "files = listdir('/local/home/sarahgw/WGS/SNPS/All_mylu/mafs/FiltFiles/SNP_Depth')\n",
    "for i in range(len(files)):\n",
    "    f = files[i]\n",
    "    print \"{}: site_mafs {}\".format(i, f)\n",
    "    site_mafs(f)  "
   ]
  },
  {
   "cell_type": "code",
   "execution_count": null,
   "metadata": {
    "collapsed": true
   },
   "outputs": [],
   "source": []
  },
  {
   "cell_type": "code",
   "execution_count": null,
   "metadata": {
    "collapsed": true
   },
   "outputs": [],
   "source": []
  },
  {
   "cell_type": "markdown",
   "metadata": {},
   "source": [
    "## Rerun with highest snps in each individual population"
   ]
  },
  {
   "cell_type": "markdown",
   "metadata": {},
   "source": [
    "make sites files for each pop"
   ]
  },
  {
   "cell_type": "code",
   "execution_count": null,
   "metadata": {
    "collapsed": true
   },
   "outputs": [],
   "source": [
    "sed 's/\\\"//g' ~/WGS/SNPS/All_mylu/snps/njeu80.csv| cut -f3-6 -d \",\"| sed 's/,/    /g'> ~/WGS/SNPS/All_mylu/snps/njeu80_sites.txt"
   ]
  },
  {
   "cell_type": "code",
   "execution_count": null,
   "metadata": {
    "collapsed": true
   },
   "outputs": [],
   "source": [
    "sed 's/\\\"//g' ~/WGS/SNPS/All_mylu/snps/nyeu80.csv| cut -f3-6 -d \",\"| sed 's/,/    /g'> ~/WGS/SNPS/All_mylu/snps/nyeu80_sites.txt"
   ]
  },
  {
   "cell_type": "code",
   "execution_count": null,
   "metadata": {
    "collapsed": true
   },
   "outputs": [],
   "source": [
    "sed 's/\\\"//g' ~/WGS/SNPS/All_mylu/snps/vteu80.csv| cut -f3-6 -d \",\"| sed 's/,/    /g'> ~/WGS/SNPS/All_mylu/snps/vteu80_sites.txt"
   ]
  },
  {
   "cell_type": "code",
   "execution_count": 20,
   "metadata": {},
   "outputs": [
    {
     "name": "stdout",
     "output_type": "stream",
     "text": [
      "Scaffold    Position    Major    Minor\r\n",
      "GL429767    19384300    G    T\r\n",
      "GL429768    31340994    A    G\r\n",
      "GL429790    3476076    T    C\r\n",
      "GL429811    924008    C    T\r\n",
      "GL429826    4881963    C    T\r\n",
      "GL429829    4348403    T    C\r\n",
      "GL429829    5103228    A    G\r\n",
      "GL429833    1784385    A    G\r\n",
      "GL429887    775162    C    T\r\n"
     ]
    }
   ],
   "source": [
    "!head ~/WGS/SNPS/All_mylu/snps/vteu80_sites.txt"
   ]
  },
  {
   "cell_type": "markdown",
   "metadata": {},
   "source": [
    "convert to .bed"
   ]
  },
  {
   "cell_type": "code",
   "execution_count": 12,
   "metadata": {
    "collapsed": true
   },
   "outputs": [],
   "source": [
    "!cut -f1-2 /local/home/sarahgw/WGS/SNPS/All_mylu/snps/njeu80_sites.txt |  awk -v OFS='\\t' '{print $1, ($2-1), $2}'> /local/home/sarahgw/WGS/SNPS/All_mylu/snps/njeu80_sites.bed "
   ]
  },
  {
   "cell_type": "code",
   "execution_count": 13,
   "metadata": {
    "collapsed": true
   },
   "outputs": [],
   "source": [
    "!cut -f1-2 /local/home/sarahgw/WGS/SNPS/All_mylu/snps/nyeu80_sites.txt |  awk -v OFS='\\t' '{print $1, ($2-1), $2}'> /local/home/sarahgw/WGS/SNPS/All_mylu/snps/nyeu80_sites.bed "
   ]
  },
  {
   "cell_type": "code",
   "execution_count": 14,
   "metadata": {
    "collapsed": true
   },
   "outputs": [],
   "source": [
    "!cut -f1-2 /local/home/sarahgw/WGS/SNPS/All_mylu/snps/vteu80_sites.txt |  awk -v OFS='\\t' '{print $1, ($2-1), $2}'> /local/home/sarahgw/WGS/SNPS/All_mylu/snps/vteu80_sites.bed "
   ]
  },
  {
   "cell_type": "markdown",
   "metadata": {},
   "source": [
    "calculate depth using samtools"
   ]
  },
  {
   "cell_type": "code",
   "execution_count": null,
   "metadata": {
    "collapsed": true
   },
   "outputs": [],
   "source": [
    "samtools mpileup -b /local/home/sarahgw/WGS/Sequences/filelists/NJ.filelist -l /local/home/sarahgw/WGS/SNPS/All_mylu/snps/njeu80_sites.bed > /local/home/sarahgw/WGS/SNPS/All_mylu/mafs/NJ_all_Depth.txt "
   ]
  },
  {
   "cell_type": "code",
   "execution_count": 5,
   "metadata": {},
   "outputs": [
    {
     "name": "stdout",
     "output_type": "stream",
     "text": [
      "42 /local/home/sarahgw/WGS/Sequences/filelists/NJ.filelist\r\n"
     ]
    },
    {
     "data": {
      "text/plain": [
       "126"
      ]
     },
     "execution_count": 5,
     "metadata": {},
     "output_type": "execute_result"
    }
   ],
   "source": [
    "!wc -l /local/home/sarahgw/WGS/Sequences/filelists/NJ.filelist\n",
    "42*3"
   ]
  },
  {
   "cell_type": "code",
   "execution_count": null,
   "metadata": {
    "collapsed": true
   },
   "outputs": [],
   "source": [
    "samtools mpileup -b /local/home/sarahgw/WGS/Sequences/filelists/NY.filelist -l /local/home/sarahgw/WGS/SNPS/All_mylu/snps/nyeu80_sites.bed > /local/home/sarahgw/WGS/SNPS/All_mylu/mafs/NY_all_Depth.txt "
   ]
  },
  {
   "cell_type": "code",
   "execution_count": 7,
   "metadata": {},
   "outputs": [
    {
     "name": "stdout",
     "output_type": "stream",
     "text": [
      "43 /local/home/sarahgw/WGS/Sequences/filelists/NY.filelist\r\n"
     ]
    },
    {
     "data": {
      "text/plain": [
       "129"
      ]
     },
     "execution_count": 7,
     "metadata": {},
     "output_type": "execute_result"
    }
   ],
   "source": [
    "!wc -l /local/home/sarahgw/WGS/Sequences/filelists/NY.filelist\n",
    "43*3"
   ]
  },
  {
   "cell_type": "code",
   "execution_count": null,
   "metadata": {
    "collapsed": true
   },
   "outputs": [],
   "source": [
    "samtools mpileup -b /local/home/sarahgw/WGS/Sequences/filelists/VT.filelist -l /local/home/sarahgw/WGS/SNPS/All_mylu/snps/vteu80_sites.bed > /local/home/sarahgw/WGS/SNPS/All_mylu/mafs/VT_all_Depth.txt "
   ]
  },
  {
   "cell_type": "code",
   "execution_count": 9,
   "metadata": {},
   "outputs": [
    {
     "name": "stdout",
     "output_type": "stream",
     "text": [
      "47 /local/home/sarahgw/WGS/Sequences/filelists/VT.filelist\r\n"
     ]
    },
    {
     "data": {
      "text/plain": [
       "141"
      ]
     },
     "execution_count": 9,
     "metadata": {},
     "output_type": "execute_result"
    }
   ],
   "source": [
    "!wc -l /local/home/sarahgw/WGS/Sequences/filelists/VT.filelist\n",
    "47*3"
   ]
  },
  {
   "cell_type": "markdown",
   "metadata": {},
   "source": [
    "Create bootstrapped filelists. \n",
    "\n",
    "You have to do this in directory ~/WGS/SNPS/All_mylu/mafs/FiltFiles/site_SNP_depth and then \n",
    "~/WGS/SNPS/All_mylu/mafs/FiltFiles/*site*_SNPS_Data because of the weird way you set it up. "
   ]
  },
  {
   "cell_type": "code",
   "execution_count": null,
   "metadata": {
    "collapsed": true
   },
   "outputs": [],
   "source": [
    "for i in `seq 4 3 126`; do awk -v OFS='\\t' -v a=\"$i\" '{print $1, $2, $a}' /local/home/sarahgw/WGS/SNPS/All_mylu/mafs/NJ_all_Depth.txt; done | awk '{print>$2}' "
   ]
  },
  {
   "cell_type": "code",
   "execution_count": null,
   "metadata": {
    "collapsed": true
   },
   "outputs": [],
   "source": [
    "for file in $(ls); do paste \"$file\" /local/home/sarahgw/WGS/Sequences/filelists/NJ.filelist |awk '(NR>1) && ($3 > 0 ) '| awk '{print $4}'|awk '{print > \"/local/home/sarahgw/WGS/SNPS/All_mylu/mafs/FiltFiles/NJ_Site_SNPS_Data/\"substr ($0,1,5)'$file'}'; done"
   ]
  },
  {
   "cell_type": "code",
   "execution_count": null,
   "metadata": {
    "collapsed": true
   },
   "outputs": [],
   "source": [
    "for i in `seq 4 3 129`; do awk -v OFS='\\t' -v a=\"$i\" '{print $1, $2, $a}' /local/home/sarahgw/WGS/SNPS/All_mylu/mafs/NY_all_Depth.txt; done | awk '{print>$2}' "
   ]
  },
  {
   "cell_type": "code",
   "execution_count": null,
   "metadata": {
    "collapsed": true
   },
   "outputs": [],
   "source": [
    "for file in $(ls); do paste \"$file\" /local/home/sarahgw/WGS/Sequences/filelists/NY.filelist |awk '(NR>1) && ($3 > 0 ) '| awk '{print $4}'|awk '{print > \"/local/home/sarahgw/WGS/SNPS/All_mylu/mafs/FiltFiles/NY_Site_SNPS_Data/\"substr ($0,1,5)'$file'}'; done"
   ]
  },
  {
   "cell_type": "code",
   "execution_count": null,
   "metadata": {
    "collapsed": true
   },
   "outputs": [],
   "source": [
    "for i in `seq 4 3 141`; do awk -v OFS='\\t' -v a=\"$i\" '{print $1, $2, $a}' /local/home/sarahgw/WGS/SNPS/All_mylu/mafs/VT_all_Depth.txt; done | awk '{print>$2}' "
   ]
  },
  {
   "cell_type": "code",
   "execution_count": null,
   "metadata": {
    "collapsed": true
   },
   "outputs": [],
   "source": [
    "for file in $(ls); do paste \"$file\" /local/home/sarahgw/WGS/Sequences/filelists/VT.filelist |awk '(NR>1) && ($3 > 0 ) '| awk '{print $4}'|awk '{print > \"/local/home/sarahgw/WGS/SNPS/All_mylu/mafs/FiltFiles/VT_Site_SNPS_Data/\"substr ($0,1,5)'$file'}'; done"
   ]
  },
  {
   "cell_type": "code",
   "execution_count": null,
   "metadata": {
    "collapsed": true
   },
   "outputs": [],
   "source": [
    "from os import listdir\n",
    "import numpy as np\n",
    "def run_bs(filename):\n",
    "    f=open('/local/home/sarahgw/WGS/SNPS/All_mylu/mafs/FiltFiles/NJ_Site_SNPS_Data/{}'.format(filename), 'r')\n",
    "    lines = [line.rstrip('\\n') for line in f]\n",
    "    count = len(lines)\n",
    "    for i in range(100):\n",
    "        boot=np.random.choice(lines, count)\n",
    "        boot1=\"\\n\".join(boot)\n",
    "        o=open('/local/home/sarahgw/WGS/SNPS/All_mylu/mafs/FiltFiles/NJ_Bootstrapped_Filelists/{}_{}'.format(filename, i+1), 'w')\n",
    "        o.write(boot1)\n",
    "files = listdir('/local/home/sarahgw/WGS/SNPS/All_mylu/mafs/FiltFiles/NJ_Site_SNPS_Data/')\n",
    "for i in range(len(files)):\n",
    "    f = files[i]\n",
    "    run_bs(f)  "
   ]
  },
  {
   "cell_type": "code",
   "execution_count": 9,
   "metadata": {
    "collapsed": true
   },
   "outputs": [],
   "source": [
    "from os import listdir\n",
    "import numpy as np\n",
    "def run_bs(filename):\n",
    "    f=open('/local/home/sarahgw/WGS/SNPS/All_mylu/mafs/FiltFiles/NY_Site_SNPS_Data/{}'.format(filename), 'r')\n",
    "    lines = [line.rstrip('\\n') for line in f]\n",
    "    count = len(lines)\n",
    "    for i in range(100):\n",
    "        boot=np.random.choice(lines, count)\n",
    "        boot1=\"\\n\".join(boot)\n",
    "        o=open('/local/home/sarahgw/WGS/SNPS/All_mylu/mafs/FiltFiles/NY_Bootstrapped_Filelists/{}_{}'.format(filename, i+1), 'w')\n",
    "        o.write(boot1)\n",
    "files = listdir('/local/home/sarahgw/WGS/SNPS/All_mylu/mafs/FiltFiles/NY_Site_SNPS_Data/')\n",
    "for i in range(len(files)):\n",
    "    f = files[i]\n",
    "    run_bs(f) "
   ]
  },
  {
   "cell_type": "code",
   "execution_count": 10,
   "metadata": {
    "collapsed": true
   },
   "outputs": [],
   "source": [
    "from os import listdir\n",
    "import numpy as np\n",
    "def run_bs(filename):\n",
    "    f=open('/local/home/sarahgw/WGS/SNPS/All_mylu/mafs/FiltFiles/VT_Site_SNPS_Data/{}'.format(filename), 'r')\n",
    "    lines = [line.rstrip('\\n') for line in f]\n",
    "    count = len(lines)\n",
    "    for i in range(100):\n",
    "        boot=np.random.choice(lines, count)\n",
    "        boot1=\"\\n\".join(boot)\n",
    "        o=open('/local/home/sarahgw/WGS/SNPS/All_mylu/mafs/FiltFiles/VT_Bootstrapped_Filelists/{}_{}'.format(filename, i+1), 'w')\n",
    "        o.write(boot1)\n",
    "files = listdir('/local/home/sarahgw/WGS/SNPS/All_mylu/mafs/FiltFiles/VT_Site_SNPS_Data/')\n",
    "for i in range(len(files)):\n",
    "    f = files[i]\n",
    "    run_bs(f) "
   ]
  },
  {
   "cell_type": "code",
   "execution_count": null,
   "metadata": {
    "collapsed": true
   },
   "outputs": [],
   "source": [
    "import time\n",
    "import subprocess\n",
    "\n",
    "f = open(\"/local/home/sarahgw/WGS/SNPS/All_mylu/snps/njeu80_sites.txt\", 'r')\n",
    "for line in f:\n",
    "    args = line.split()\n",
    "    \n",
    "    # Make sites file\n",
    "    site = \"/local/home/sarahgw/WGS/SNPS/All_mylu/snps/NJ_sites_files/{}_sites.txt\".format(args[1])\n",
    "    o = open(site,'w')\n",
    "    o.write('\\t'.join(args))\n",
    "    o.close()\n",
    "        \n",
    "    # Make chromo file\n",
    "    chrom = \"/local/home/sarahgw/WGS/SNPS/All_mylu/snps/NJ_chrom_files/{}_chrom.txt\".format(args[1])\n",
    "    o = open(chrom, 'w')\n",
    "    o.write(args[0])\n",
    "    o.close()\n",
    "    \n",
    "    \n",
    "# Silly, but accomodates angsd's file create time check\n",
    "time.sleep(5)\n",
    "\n",
    "f = open(\"/local/home/sarahgw/WGS/SNPS/All_mylu/snps/njeu80_sites.txt\", 'r')\n",
    "for line in f:\n",
    "    args = line.split()\n",
    "        \n",
    "    # Index sites file\n",
    "    site = \"/local/home/sarahgw/WGS/SNPS/All_mylu/snps/NJ_sites_files/{}_sites.txt\".format(args[1])\n",
    "    cmd = \"/local/home/sarahgw/angsd/angsd/angsd sites index {}\".format(site)\n",
    "    print cmd\n",
    "    subprocess.call(cmd.split())"
   ]
  },
  {
   "cell_type": "code",
   "execution_count": null,
   "metadata": {
    "collapsed": true
   },
   "outputs": [],
   "source": [
    "f = open(\"/local/home/sarahgw/WGS/SNPS/All_mylu/snps/nyeu80_sites.txt\", 'r')\n",
    "for line in f:\n",
    "    args = line.split()\n",
    "    \n",
    "    # Make sites file\n",
    "    site = \"/local/home/sarahgw/WGS/SNPS/All_mylu/snps/NY_sites_files/{}_sites.txt\".format(args[1])\n",
    "    o = open(site,'w')\n",
    "    o.write('\\t'.join(args))\n",
    "    o.close()\n",
    "        \n",
    "    # Make chromo file\n",
    "    chrom = \"/local/home/sarahgw/WGS/SNPS/All_mylu/snps/NY_chrom_files/{}_chrom.txt\".format(args[1])\n",
    "    o = open(chrom, 'w')\n",
    "    o.write(args[0])\n",
    "    o.close()\n",
    "    \n",
    "    \n",
    "# Silly, but accomodates angsd's file create time check\n",
    "time.sleep(5)\n",
    "\n",
    "f = open(\"/local/home/sarahgw/WGS/SNPS/All_mylu/snps/nyeu80_sites.txt\", 'r')\n",
    "for line in f:\n",
    "    args = line.split()\n",
    "        \n",
    "    # Index sites file\n",
    "    site = \"/local/home/sarahgw/WGS/SNPS/All_mylu/snps/NY_sites_files/{}_sites.txt\".format(args[1])\n",
    "    cmd = \"/local/home/sarahgw/angsd/angsd/angsd sites index {}\".format(site)\n",
    "    print cmd\n",
    "    subprocess.call(cmd.split())"
   ]
  },
  {
   "cell_type": "code",
   "execution_count": null,
   "metadata": {
    "collapsed": true
   },
   "outputs": [],
   "source": [
    "f = open(\"/local/home/sarahgw/WGS/SNPS/All_mylu/snps/vteu80_sites.txt\", 'r')\n",
    "for line in f:\n",
    "    args = line.split()\n",
    "    \n",
    "    # Make sites file\n",
    "    site = \"/local/home/sarahgw/WGS/SNPS/All_mylu/snps/VT_sites_files/{}_sites.txt\".format(args[1])\n",
    "    o = open(site,'w')\n",
    "    o.write('\\t'.join(args))\n",
    "    o.close()\n",
    "        \n",
    "    # Make chromo file\n",
    "    chrom = \"/local/home/sarahgw/WGS/SNPS/All_mylu/snps/VT_chrom_files/{}_chrom.txt\".format(args[1])\n",
    "    o = open(chrom, 'w')\n",
    "    o.write(args[0])\n",
    "    o.close()\n",
    "    \n",
    "    \n",
    "# Silly, but accomodates angsd's file create time check\n",
    "time.sleep(5)\n",
    "\n",
    "f = open(\"/local/home/sarahgw/WGS/SNPS/All_mylu/snps/vteu80_sites.txt\", 'r')\n",
    "for line in f:\n",
    "    args = line.split()\n",
    "        \n",
    "    # Index sites file\n",
    "    site = \"/local/home/sarahgw/WGS/SNPS/All_mylu/snps/VT_sites_files/{}_sites.txt\".format(args[1])\n",
    "    cmd = \"/local/home/sarahgw/angsd/angsd/angsd sites index {}\".format(site)\n",
    "    print cmd\n",
    "    subprocess.call(cmd.split())"
   ]
  },
  {
   "cell_type": "markdown",
   "metadata": {},
   "source": [
    "\n",
    "Do actual bootstrapping"
   ]
  },
  {
   "cell_type": "markdown",
   "metadata": {
    "collapsed": true
   },
   "source": [
    "In screen run:\n",
    "\n",
    "python ~/WNS_Scripts/WNS_WGS/Scripts/run_angsd_bootstrapped.py NJ\n",
    "\n",
    "python ~/WNS_Scripts/WNS_WGS/Scripts/run_angsd_bootstrapped.py NY\n",
    "\n",
    "python ~/WNS_Scripts/WNS_WGS/Scripts/run_angsd_bootstrapped.py VT"
   ]
  },
  {
   "cell_type": "code",
   "execution_count": null,
   "metadata": {
    "collapsed": true
   },
   "outputs": [],
   "source": []
  },
  {
   "cell_type": "code",
   "execution_count": null,
   "metadata": {
    "collapsed": true
   },
   "outputs": [],
   "source": []
  },
  {
   "cell_type": "code",
   "execution_count": null,
   "metadata": {
    "collapsed": true
   },
   "outputs": [],
   "source": []
  },
  {
   "cell_type": "markdown",
   "metadata": {},
   "source": [
    "## Rerun with NJ NY > 0.5"
   ]
  },
  {
   "cell_type": "code",
   "execution_count": null,
   "metadata": {
    "collapsed": true
   },
   "outputs": [],
   "source": [
    "sed 's/\\\"//g' ~/WGS/SNPS/All_mylu/snps/njnyeu50.csv| cut -f3-6 -d \",\"| sed 's/,/    /g'> ~/WGS/SNPS/All_mylu/snps/njnyeu50_sites.txt"
   ]
  },
  {
   "cell_type": "code",
   "execution_count": 24,
   "metadata": {},
   "outputs": [
    {
     "name": "stdout",
     "output_type": "stream",
     "text": [
      "Scaffold    Position    Major    Minor\r\n",
      "GL429767    4479568    G    T\r\n",
      "GL429767    4550108    T    C\r\n",
      "GL429767    16839644    T    A\r\n",
      "GL429767    33884819    A    C\r\n",
      "GL429767    46534125    C    T\r\n",
      "GL429767    52446764    T    C\r\n",
      "GL429768    446985    C    T\r\n",
      "GL429768    3921142    G    C\r\n",
      "GL429768    9041952    A    G\r\n"
     ]
    }
   ],
   "source": [
    "!head /local/home/sarahgw/WGS/SNPS/All_mylu/snps/njnyeu50_sites.txt"
   ]
  },
  {
   "cell_type": "code",
   "execution_count": 25,
   "metadata": {
    "collapsed": true
   },
   "outputs": [],
   "source": [
    "!cut -f1-2 /local/home/sarahgw/WGS/SNPS/All_mylu/snps/njnyeu50_sites.txt |  awk -v OFS='\\t' '{print $1, ($2-1), $2}'> /local/home/sarahgw/WGS/SNPS/All_mylu/snps/njnyeu50_sites.bed "
   ]
  },
  {
   "cell_type": "code",
   "execution_count": 27,
   "metadata": {
    "collapsed": true
   },
   "outputs": [],
   "source": [
    "!cat /local/home/sarahgw/WGS/Sequences/filelists/NJ.filelist /local/home/sarahgw/WGS/Sequences/filelists/NY.filelist> /local/home/sarahgw/WGS/Sequences/filelists/NJNY.filelist"
   ]
  },
  {
   "cell_type": "code",
   "execution_count": 2,
   "metadata": {
    "collapsed": true
   },
   "outputs": [],
   "source": [
    "samtools mpileup -b /local/home/sarahgw/WGS/Sequences/filelists/NJNY.filelist -l /local/home/sarahgw/WGS/SNPS/All_mylu/snps/njnyeu50_sites.bed > /local/home/sarahgw/WGS/SNPS/All_mylu/mafs/NJNY50_Depth.txt"
   ]
  },
  {
   "cell_type": "code",
   "execution_count": 2,
   "metadata": {},
   "outputs": [
    {
     "name": "stdout",
     "output_type": "stream",
     "text": [
      "85 /local/home/sarahgw/WGS/Sequences/filelists/NJNY.filelist\r\n"
     ]
    },
    {
     "data": {
      "text/plain": [
       "255"
      ]
     },
     "execution_count": 2,
     "metadata": {},
     "output_type": "execute_result"
    }
   ],
   "source": [
    "!wc -l /local/home/sarahgw/WGS/Sequences/filelists/NJNY.filelist\n",
    "85*3"
   ]
  },
  {
   "cell_type": "code",
   "execution_count": 3,
   "metadata": {
    "collapsed": true
   },
   "outputs": [],
   "source": [
    "!mkdir ~/WGS/SNPS/All_mylu/mafs/FiltFiles/NJNY50_SNPS_Depth\n",
    "!mkdir ~/WGS/SNPS/All_mylu/mafs/FiltFiles/NJNY50_Site_SNPS_Data "
   ]
  },
  {
   "cell_type": "code",
   "execution_count": null,
   "metadata": {
    "collapsed": true,
    "scrolled": true
   },
   "outputs": [],
   "source": [
    "for i in `seq 4 3 255`; do awk -v OFS='\\t' -v a=\"$i\" '{print $1, $2, $a}' /local/home/sarahgw/WGS/SNPS/All_mylu/mafs/NJNY50_Depth.txt; done | awk '{print>$2}' "
   ]
  },
  {
   "cell_type": "code",
   "execution_count": null,
   "metadata": {
    "collapsed": true
   },
   "outputs": [],
   "source": [
    "for file in $(ls); do paste \"$file\" /local/home/sarahgw/WGS/Sequences/filelists/NJNY.filelist |awk '(NR>1) && ($3 > 0 ) '| awk '{print $4}'|awk '{print > \"/local/home/sarahgw/WGS/SNPS/All_mylu/mafs/FiltFiles/NJNY50_Site_SNPS_Data/\"substr ($0,1,5)'$file'}'; done"
   ]
  },
  {
   "cell_type": "code",
   "execution_count": 5,
   "metadata": {
    "collapsed": true
   },
   "outputs": [],
   "source": [
    "from os import listdir\n",
    "import numpy as np\n",
    "def run_bs(filename):\n",
    "    f=open('/local/home/sarahgw/WGS/SNPS/All_mylu/mafs/FiltFiles/NJNY50_Site_SNPS_Data/{}'.format(filename), 'r')\n",
    "    lines = [line.rstrip('\\n') for line in f]\n",
    "    count = len(lines)\n",
    "    for i in range(100):\n",
    "        boot=np.random.choice(lines, count)\n",
    "        boot1=\"\\n\".join(boot)\n",
    "        o=open('/local/home/sarahgw/WGS/SNPS/All_mylu/mafs/FiltFiles/NJNY50_Bootstrapped_Filelists/{}_{}'.format(filename, i+1), 'w')\n",
    "        o.write(boot1)\n",
    "files = listdir('/local/home/sarahgw/WGS/SNPS/All_mylu/mafs/FiltFiles/NJNY50_Site_SNPS_Data/')\n",
    "for i in range(len(files)):\n",
    "    f = files[i]\n",
    "    run_bs(f)  "
   ]
  },
  {
   "cell_type": "code",
   "execution_count": 10,
   "metadata": {
    "collapsed": true
   },
   "outputs": [],
   "source": [
    "#!mkdir /local/home/sarahgw/WGS/SNPS/All_mylu/snps/NJNY50_sites_files\n",
    "#!mkdir /local/home/sarahgw/WGS/SNPS/All_mylu/snps/NJNY50_chrom_files\n",
    "!mkdir /local/home/sarahgw/WGS/SNPS/All_mylu/mafs/NJNY50_Bootstrapped_mafs\n",
    "!mkdir /local/home/sarahgw/WGS/SNPS/All_mylu/mafs/NJNY50_Bootstrapped_mafs/tmp"
   ]
  },
  {
   "cell_type": "code",
   "execution_count": 8,
   "metadata": {
    "scrolled": true
   },
   "outputs": [
    {
     "name": "stdout",
     "output_type": "stream",
     "text": [
      "/local/home/sarahgw/angsd/angsd/angsd sites index /local/home/sarahgw/WGS/SNPS/All_mylu/snps/NJNY50_sites_files/Position_sites.txt\n",
      "/local/home/sarahgw/angsd/angsd/angsd sites index /local/home/sarahgw/WGS/SNPS/All_mylu/snps/NJNY50_sites_files/4479568_sites.txt\n",
      "/local/home/sarahgw/angsd/angsd/angsd sites index /local/home/sarahgw/WGS/SNPS/All_mylu/snps/NJNY50_sites_files/4550108_sites.txt\n",
      "/local/home/sarahgw/angsd/angsd/angsd sites index /local/home/sarahgw/WGS/SNPS/All_mylu/snps/NJNY50_sites_files/16839644_sites.txt\n",
      "/local/home/sarahgw/angsd/angsd/angsd sites index /local/home/sarahgw/WGS/SNPS/All_mylu/snps/NJNY50_sites_files/33884819_sites.txt\n",
      "/local/home/sarahgw/angsd/angsd/angsd sites index /local/home/sarahgw/WGS/SNPS/All_mylu/snps/NJNY50_sites_files/46534125_sites.txt\n",
      "/local/home/sarahgw/angsd/angsd/angsd sites index /local/home/sarahgw/WGS/SNPS/All_mylu/snps/NJNY50_sites_files/52446764_sites.txt\n",
      "/local/home/sarahgw/angsd/angsd/angsd sites index /local/home/sarahgw/WGS/SNPS/All_mylu/snps/NJNY50_sites_files/446985_sites.txt\n",
      "/local/home/sarahgw/angsd/angsd/angsd sites index /local/home/sarahgw/WGS/SNPS/All_mylu/snps/NJNY50_sites_files/3921142_sites.txt\n",
      "/local/home/sarahgw/angsd/angsd/angsd sites index /local/home/sarahgw/WGS/SNPS/All_mylu/snps/NJNY50_sites_files/9041952_sites.txt\n",
      "/local/home/sarahgw/angsd/angsd/angsd sites index /local/home/sarahgw/WGS/SNPS/All_mylu/snps/NJNY50_sites_files/26061651_sites.txt\n",
      "/local/home/sarahgw/angsd/angsd/angsd sites index /local/home/sarahgw/WGS/SNPS/All_mylu/snps/NJNY50_sites_files/34577793_sites.txt\n",
      "/local/home/sarahgw/angsd/angsd/angsd sites index /local/home/sarahgw/WGS/SNPS/All_mylu/snps/NJNY50_sites_files/15245842_sites.txt\n",
      "/local/home/sarahgw/angsd/angsd/angsd sites index /local/home/sarahgw/WGS/SNPS/All_mylu/snps/NJNY50_sites_files/1923876_sites.txt\n",
      "/local/home/sarahgw/angsd/angsd/angsd sites index /local/home/sarahgw/WGS/SNPS/All_mylu/snps/NJNY50_sites_files/8292792_sites.txt\n",
      "/local/home/sarahgw/angsd/angsd/angsd sites index /local/home/sarahgw/WGS/SNPS/All_mylu/snps/NJNY50_sites_files/10345656_sites.txt\n",
      "/local/home/sarahgw/angsd/angsd/angsd sites index /local/home/sarahgw/WGS/SNPS/All_mylu/snps/NJNY50_sites_files/22532056_sites.txt\n",
      "/local/home/sarahgw/angsd/angsd/angsd sites index /local/home/sarahgw/WGS/SNPS/All_mylu/snps/NJNY50_sites_files/24725252_sites.txt\n",
      "/local/home/sarahgw/angsd/angsd/angsd sites index /local/home/sarahgw/WGS/SNPS/All_mylu/snps/NJNY50_sites_files/29524221_sites.txt\n",
      "/local/home/sarahgw/angsd/angsd/angsd sites index /local/home/sarahgw/WGS/SNPS/All_mylu/snps/NJNY50_sites_files/3817417_sites.txt\n",
      "/local/home/sarahgw/angsd/angsd/angsd sites index /local/home/sarahgw/WGS/SNPS/All_mylu/snps/NJNY50_sites_files/8716095_sites.txt\n",
      "/local/home/sarahgw/angsd/angsd/angsd sites index /local/home/sarahgw/WGS/SNPS/All_mylu/snps/NJNY50_sites_files/14993622_sites.txt\n",
      "/local/home/sarahgw/angsd/angsd/angsd sites index /local/home/sarahgw/WGS/SNPS/All_mylu/snps/NJNY50_sites_files/18593089_sites.txt\n",
      "/local/home/sarahgw/angsd/angsd/angsd sites index /local/home/sarahgw/WGS/SNPS/All_mylu/snps/NJNY50_sites_files/12798025_sites.txt\n",
      "/local/home/sarahgw/angsd/angsd/angsd sites index /local/home/sarahgw/WGS/SNPS/All_mylu/snps/NJNY50_sites_files/13173013_sites.txt\n",
      "/local/home/sarahgw/angsd/angsd/angsd sites index /local/home/sarahgw/WGS/SNPS/All_mylu/snps/NJNY50_sites_files/3988038_sites.txt\n",
      "/local/home/sarahgw/angsd/angsd/angsd sites index /local/home/sarahgw/WGS/SNPS/All_mylu/snps/NJNY50_sites_files/5007572_sites.txt\n",
      "/local/home/sarahgw/angsd/angsd/angsd sites index /local/home/sarahgw/WGS/SNPS/All_mylu/snps/NJNY50_sites_files/6728503_sites.txt\n",
      "/local/home/sarahgw/angsd/angsd/angsd sites index /local/home/sarahgw/WGS/SNPS/All_mylu/snps/NJNY50_sites_files/17037969_sites.txt\n",
      "/local/home/sarahgw/angsd/angsd/angsd sites index /local/home/sarahgw/WGS/SNPS/All_mylu/snps/NJNY50_sites_files/3271609_sites.txt\n",
      "/local/home/sarahgw/angsd/angsd/angsd sites index /local/home/sarahgw/WGS/SNPS/All_mylu/snps/NJNY50_sites_files/7915489_sites.txt\n",
      "/local/home/sarahgw/angsd/angsd/angsd sites index /local/home/sarahgw/WGS/SNPS/All_mylu/snps/NJNY50_sites_files/15974771_sites.txt\n",
      "/local/home/sarahgw/angsd/angsd/angsd sites index /local/home/sarahgw/WGS/SNPS/All_mylu/snps/NJNY50_sites_files/10443545_sites.txt\n",
      "/local/home/sarahgw/angsd/angsd/angsd sites index /local/home/sarahgw/WGS/SNPS/All_mylu/snps/NJNY50_sites_files/10443550_sites.txt\n",
      "/local/home/sarahgw/angsd/angsd/angsd sites index /local/home/sarahgw/WGS/SNPS/All_mylu/snps/NJNY50_sites_files/16214446_sites.txt\n",
      "/local/home/sarahgw/angsd/angsd/angsd sites index /local/home/sarahgw/WGS/SNPS/All_mylu/snps/NJNY50_sites_files/11073205_sites.txt\n",
      "/local/home/sarahgw/angsd/angsd/angsd sites index /local/home/sarahgw/WGS/SNPS/All_mylu/snps/NJNY50_sites_files/11429827_sites.txt\n",
      "/local/home/sarahgw/angsd/angsd/angsd sites index /local/home/sarahgw/WGS/SNPS/All_mylu/snps/NJNY50_sites_files/12414629_sites.txt\n",
      "/local/home/sarahgw/angsd/angsd/angsd sites index /local/home/sarahgw/WGS/SNPS/All_mylu/snps/NJNY50_sites_files/1937739_sites.txt\n",
      "/local/home/sarahgw/angsd/angsd/angsd sites index /local/home/sarahgw/WGS/SNPS/All_mylu/snps/NJNY50_sites_files/3414612_sites.txt\n",
      "/local/home/sarahgw/angsd/angsd/angsd sites index /local/home/sarahgw/WGS/SNPS/All_mylu/snps/NJNY50_sites_files/15275365_sites.txt\n",
      "/local/home/sarahgw/angsd/angsd/angsd sites index /local/home/sarahgw/WGS/SNPS/All_mylu/snps/NJNY50_sites_files/7594948_sites.txt\n",
      "/local/home/sarahgw/angsd/angsd/angsd sites index /local/home/sarahgw/WGS/SNPS/All_mylu/snps/NJNY50_sites_files/8738393_sites.txt\n",
      "/local/home/sarahgw/angsd/angsd/angsd sites index /local/home/sarahgw/WGS/SNPS/All_mylu/snps/NJNY50_sites_files/12179626_sites.txt\n",
      "/local/home/sarahgw/angsd/angsd/angsd sites index /local/home/sarahgw/WGS/SNPS/All_mylu/snps/NJNY50_sites_files/12179628_sites.txt\n",
      "/local/home/sarahgw/angsd/angsd/angsd sites index /local/home/sarahgw/WGS/SNPS/All_mylu/snps/NJNY50_sites_files/12179638_sites.txt\n",
      "/local/home/sarahgw/angsd/angsd/angsd sites index /local/home/sarahgw/WGS/SNPS/All_mylu/snps/NJNY50_sites_files/14617697_sites.txt\n",
      "/local/home/sarahgw/angsd/angsd/angsd sites index /local/home/sarahgw/WGS/SNPS/All_mylu/snps/NJNY50_sites_files/1229639_sites.txt\n",
      "/local/home/sarahgw/angsd/angsd/angsd sites index /local/home/sarahgw/WGS/SNPS/All_mylu/snps/NJNY50_sites_files/5837017_sites.txt\n",
      "/local/home/sarahgw/angsd/angsd/angsd sites index /local/home/sarahgw/WGS/SNPS/All_mylu/snps/NJNY50_sites_files/3216149_sites.txt\n",
      "/local/home/sarahgw/angsd/angsd/angsd sites index /local/home/sarahgw/WGS/SNPS/All_mylu/snps/NJNY50_sites_files/344344_sites.txt\n",
      "/local/home/sarahgw/angsd/angsd/angsd sites index /local/home/sarahgw/WGS/SNPS/All_mylu/snps/NJNY50_sites_files/4442517_sites.txt\n",
      "/local/home/sarahgw/angsd/angsd/angsd sites index /local/home/sarahgw/WGS/SNPS/All_mylu/snps/NJNY50_sites_files/4442556_sites.txt\n",
      "/local/home/sarahgw/angsd/angsd/angsd sites index /local/home/sarahgw/WGS/SNPS/All_mylu/snps/NJNY50_sites_files/4232208_sites.txt\n",
      "/local/home/sarahgw/angsd/angsd/angsd sites index /local/home/sarahgw/WGS/SNPS/All_mylu/snps/NJNY50_sites_files/6065339_sites.txt\n",
      "/local/home/sarahgw/angsd/angsd/angsd sites index /local/home/sarahgw/WGS/SNPS/All_mylu/snps/NJNY50_sites_files/6065658_sites.txt\n",
      "/local/home/sarahgw/angsd/angsd/angsd sites index /local/home/sarahgw/WGS/SNPS/All_mylu/snps/NJNY50_sites_files/10732143_sites.txt\n",
      "/local/home/sarahgw/angsd/angsd/angsd sites index /local/home/sarahgw/WGS/SNPS/All_mylu/snps/NJNY50_sites_files/8870075_sites.txt\n",
      "/local/home/sarahgw/angsd/angsd/angsd sites index /local/home/sarahgw/WGS/SNPS/All_mylu/snps/NJNY50_sites_files/8870076_sites.txt\n",
      "/local/home/sarahgw/angsd/angsd/angsd sites index /local/home/sarahgw/WGS/SNPS/All_mylu/snps/NJNY50_sites_files/8857737_sites.txt\n",
      "/local/home/sarahgw/angsd/angsd/angsd sites index /local/home/sarahgw/WGS/SNPS/All_mylu/snps/NJNY50_sites_files/385287_sites.txt\n",
      "/local/home/sarahgw/angsd/angsd/angsd sites index /local/home/sarahgw/WGS/SNPS/All_mylu/snps/NJNY50_sites_files/4091453_sites.txt\n",
      "/local/home/sarahgw/angsd/angsd/angsd sites index /local/home/sarahgw/WGS/SNPS/All_mylu/snps/NJNY50_sites_files/5027533_sites.txt\n",
      "/local/home/sarahgw/angsd/angsd/angsd sites index /local/home/sarahgw/WGS/SNPS/All_mylu/snps/NJNY50_sites_files/5802759_sites.txt\n"
     ]
    },
    {
     "name": "stdout",
     "output_type": "stream",
     "text": [
      "/local/home/sarahgw/angsd/angsd/angsd sites index /local/home/sarahgw/WGS/SNPS/All_mylu/snps/NJNY50_sites_files/3311579_sites.txt\n",
      "/local/home/sarahgw/angsd/angsd/angsd sites index /local/home/sarahgw/WGS/SNPS/All_mylu/snps/NJNY50_sites_files/3169641_sites.txt\n",
      "/local/home/sarahgw/angsd/angsd/angsd sites index /local/home/sarahgw/WGS/SNPS/All_mylu/snps/NJNY50_sites_files/1437479_sites.txt\n",
      "/local/home/sarahgw/angsd/angsd/angsd sites index /local/home/sarahgw/WGS/SNPS/All_mylu/snps/NJNY50_sites_files/6653243_sites.txt\n",
      "/local/home/sarahgw/angsd/angsd/angsd sites index /local/home/sarahgw/WGS/SNPS/All_mylu/snps/NJNY50_sites_files/7410822_sites.txt\n",
      "/local/home/sarahgw/angsd/angsd/angsd sites index /local/home/sarahgw/WGS/SNPS/All_mylu/snps/NJNY50_sites_files/1303193_sites.txt\n",
      "/local/home/sarahgw/angsd/angsd/angsd sites index /local/home/sarahgw/WGS/SNPS/All_mylu/snps/NJNY50_sites_files/3296417_sites.txt\n",
      "/local/home/sarahgw/angsd/angsd/angsd sites index /local/home/sarahgw/WGS/SNPS/All_mylu/snps/NJNY50_sites_files/4559005_sites.txt\n",
      "/local/home/sarahgw/angsd/angsd/angsd sites index /local/home/sarahgw/WGS/SNPS/All_mylu/snps/NJNY50_sites_files/2311737_sites.txt\n",
      "/local/home/sarahgw/angsd/angsd/angsd sites index /local/home/sarahgw/WGS/SNPS/All_mylu/snps/NJNY50_sites_files/936711_sites.txt\n",
      "/local/home/sarahgw/angsd/angsd/angsd sites index /local/home/sarahgw/WGS/SNPS/All_mylu/snps/NJNY50_sites_files/936722_sites.txt\n",
      "/local/home/sarahgw/angsd/angsd/angsd sites index /local/home/sarahgw/WGS/SNPS/All_mylu/snps/NJNY50_sites_files/830886_sites.txt\n",
      "/local/home/sarahgw/angsd/angsd/angsd sites index /local/home/sarahgw/WGS/SNPS/All_mylu/snps/NJNY50_sites_files/1105472_sites.txt\n",
      "/local/home/sarahgw/angsd/angsd/angsd sites index /local/home/sarahgw/WGS/SNPS/All_mylu/snps/NJNY50_sites_files/4882731_sites.txt\n",
      "/local/home/sarahgw/angsd/angsd/angsd sites index /local/home/sarahgw/WGS/SNPS/All_mylu/snps/NJNY50_sites_files/684280_sites.txt\n",
      "/local/home/sarahgw/angsd/angsd/angsd sites index /local/home/sarahgw/WGS/SNPS/All_mylu/snps/NJNY50_sites_files/6687285_sites.txt\n",
      "/local/home/sarahgw/angsd/angsd/angsd sites index /local/home/sarahgw/WGS/SNPS/All_mylu/snps/NJNY50_sites_files/5481595_sites.txt\n",
      "/local/home/sarahgw/angsd/angsd/angsd sites index /local/home/sarahgw/WGS/SNPS/All_mylu/snps/NJNY50_sites_files/6218854_sites.txt\n",
      "/local/home/sarahgw/angsd/angsd/angsd sites index /local/home/sarahgw/WGS/SNPS/All_mylu/snps/NJNY50_sites_files/6730339_sites.txt\n",
      "/local/home/sarahgw/angsd/angsd/angsd sites index /local/home/sarahgw/WGS/SNPS/All_mylu/snps/NJNY50_sites_files/6571701_sites.txt\n",
      "/local/home/sarahgw/angsd/angsd/angsd sites index /local/home/sarahgw/WGS/SNPS/All_mylu/snps/NJNY50_sites_files/3484190_sites.txt\n",
      "/local/home/sarahgw/angsd/angsd/angsd sites index /local/home/sarahgw/WGS/SNPS/All_mylu/snps/NJNY50_sites_files/2841776_sites.txt\n",
      "/local/home/sarahgw/angsd/angsd/angsd sites index /local/home/sarahgw/WGS/SNPS/All_mylu/snps/NJNY50_sites_files/2985731_sites.txt\n",
      "/local/home/sarahgw/angsd/angsd/angsd sites index /local/home/sarahgw/WGS/SNPS/All_mylu/snps/NJNY50_sites_files/1184969_sites.txt\n",
      "/local/home/sarahgw/angsd/angsd/angsd sites index /local/home/sarahgw/WGS/SNPS/All_mylu/snps/NJNY50_sites_files/1501267_sites.txt\n",
      "/local/home/sarahgw/angsd/angsd/angsd sites index /local/home/sarahgw/WGS/SNPS/All_mylu/snps/NJNY50_sites_files/2330539_sites.txt\n",
      "/local/home/sarahgw/angsd/angsd/angsd sites index /local/home/sarahgw/WGS/SNPS/All_mylu/snps/NJNY50_sites_files/3004686_sites.txt\n",
      "/local/home/sarahgw/angsd/angsd/angsd sites index /local/home/sarahgw/WGS/SNPS/All_mylu/snps/NJNY50_sites_files/84904_sites.txt\n",
      "/local/home/sarahgw/angsd/angsd/angsd sites index /local/home/sarahgw/WGS/SNPS/All_mylu/snps/NJNY50_sites_files/3004846_sites.txt\n",
      "/local/home/sarahgw/angsd/angsd/angsd sites index /local/home/sarahgw/WGS/SNPS/All_mylu/snps/NJNY50_sites_files/2610488_sites.txt\n",
      "/local/home/sarahgw/angsd/angsd/angsd sites index /local/home/sarahgw/WGS/SNPS/All_mylu/snps/NJNY50_sites_files/472830_sites.txt\n",
      "/local/home/sarahgw/angsd/angsd/angsd sites index /local/home/sarahgw/WGS/SNPS/All_mylu/snps/NJNY50_sites_files/2966430_sites.txt\n",
      "/local/home/sarahgw/angsd/angsd/angsd sites index /local/home/sarahgw/WGS/SNPS/All_mylu/snps/NJNY50_sites_files/2966433_sites.txt\n",
      "/local/home/sarahgw/angsd/angsd/angsd sites index /local/home/sarahgw/WGS/SNPS/All_mylu/snps/NJNY50_sites_files/2966452_sites.txt\n",
      "/local/home/sarahgw/angsd/angsd/angsd sites index /local/home/sarahgw/WGS/SNPS/All_mylu/snps/NJNY50_sites_files/2966592_sites.txt\n",
      "/local/home/sarahgw/angsd/angsd/angsd sites index /local/home/sarahgw/WGS/SNPS/All_mylu/snps/NJNY50_sites_files/943392_sites.txt\n",
      "/local/home/sarahgw/angsd/angsd/angsd sites index /local/home/sarahgw/WGS/SNPS/All_mylu/snps/NJNY50_sites_files/1939701_sites.txt\n",
      "/local/home/sarahgw/angsd/angsd/angsd sites index /local/home/sarahgw/WGS/SNPS/All_mylu/snps/NJNY50_sites_files/2578255_sites.txt\n",
      "/local/home/sarahgw/angsd/angsd/angsd sites index /local/home/sarahgw/WGS/SNPS/All_mylu/snps/NJNY50_sites_files/5267344_sites.txt\n",
      "/local/home/sarahgw/angsd/angsd/angsd sites index /local/home/sarahgw/WGS/SNPS/All_mylu/snps/NJNY50_sites_files/708895_sites.txt\n",
      "/local/home/sarahgw/angsd/angsd/angsd sites index /local/home/sarahgw/WGS/SNPS/All_mylu/snps/NJNY50_sites_files/829766_sites.txt\n",
      "/local/home/sarahgw/angsd/angsd/angsd sites index /local/home/sarahgw/WGS/SNPS/All_mylu/snps/NJNY50_sites_files/5001897_sites.txt\n",
      "/local/home/sarahgw/angsd/angsd/angsd sites index /local/home/sarahgw/WGS/SNPS/All_mylu/snps/NJNY50_sites_files/2187186_sites.txt\n",
      "/local/home/sarahgw/angsd/angsd/angsd sites index /local/home/sarahgw/WGS/SNPS/All_mylu/snps/NJNY50_sites_files/129668_sites.txt\n",
      "/local/home/sarahgw/angsd/angsd/angsd sites index /local/home/sarahgw/WGS/SNPS/All_mylu/snps/NJNY50_sites_files/4124241_sites.txt\n",
      "/local/home/sarahgw/angsd/angsd/angsd sites index /local/home/sarahgw/WGS/SNPS/All_mylu/snps/NJNY50_sites_files/2091046_sites.txt\n",
      "/local/home/sarahgw/angsd/angsd/angsd sites index /local/home/sarahgw/WGS/SNPS/All_mylu/snps/NJNY50_sites_files/2091074_sites.txt\n",
      "/local/home/sarahgw/angsd/angsd/angsd sites index /local/home/sarahgw/WGS/SNPS/All_mylu/snps/NJNY50_sites_files/4516969_sites.txt\n",
      "/local/home/sarahgw/angsd/angsd/angsd sites index /local/home/sarahgw/WGS/SNPS/All_mylu/snps/NJNY50_sites_files/3938005_sites.txt\n",
      "/local/home/sarahgw/angsd/angsd/angsd sites index /local/home/sarahgw/WGS/SNPS/All_mylu/snps/NJNY50_sites_files/1101134_sites.txt\n",
      "/local/home/sarahgw/angsd/angsd/angsd sites index /local/home/sarahgw/WGS/SNPS/All_mylu/snps/NJNY50_sites_files/2586140_sites.txt\n",
      "/local/home/sarahgw/angsd/angsd/angsd sites index /local/home/sarahgw/WGS/SNPS/All_mylu/snps/NJNY50_sites_files/4401152_sites.txt\n",
      "/local/home/sarahgw/angsd/angsd/angsd sites index /local/home/sarahgw/WGS/SNPS/All_mylu/snps/NJNY50_sites_files/300331_sites.txt\n",
      "/local/home/sarahgw/angsd/angsd/angsd sites index /local/home/sarahgw/WGS/SNPS/All_mylu/snps/NJNY50_sites_files/112724_sites.txt\n",
      "/local/home/sarahgw/angsd/angsd/angsd sites index /local/home/sarahgw/WGS/SNPS/All_mylu/snps/NJNY50_sites_files/2304985_sites.txt\n",
      "/local/home/sarahgw/angsd/angsd/angsd sites index /local/home/sarahgw/WGS/SNPS/All_mylu/snps/NJNY50_sites_files/3142851_sites.txt\n",
      "/local/home/sarahgw/angsd/angsd/angsd sites index /local/home/sarahgw/WGS/SNPS/All_mylu/snps/NJNY50_sites_files/1361934_sites.txt\n",
      "/local/home/sarahgw/angsd/angsd/angsd sites index /local/home/sarahgw/WGS/SNPS/All_mylu/snps/NJNY50_sites_files/64000_sites.txt\n",
      "/local/home/sarahgw/angsd/angsd/angsd sites index /local/home/sarahgw/WGS/SNPS/All_mylu/snps/NJNY50_sites_files/2510949_sites.txt\n",
      "/local/home/sarahgw/angsd/angsd/angsd sites index /local/home/sarahgw/WGS/SNPS/All_mylu/snps/NJNY50_sites_files/2056629_sites.txt\n",
      "/local/home/sarahgw/angsd/angsd/angsd sites index /local/home/sarahgw/WGS/SNPS/All_mylu/snps/NJNY50_sites_files/2585575_sites.txt\n",
      "/local/home/sarahgw/angsd/angsd/angsd sites index /local/home/sarahgw/WGS/SNPS/All_mylu/snps/NJNY50_sites_files/136209_sites.txt\n",
      "/local/home/sarahgw/angsd/angsd/angsd sites index /local/home/sarahgw/WGS/SNPS/All_mylu/snps/NJNY50_sites_files/384336_sites.txt\n",
      "/local/home/sarahgw/angsd/angsd/angsd sites index /local/home/sarahgw/WGS/SNPS/All_mylu/snps/NJNY50_sites_files/2577613_sites.txt\n",
      "/local/home/sarahgw/angsd/angsd/angsd sites index /local/home/sarahgw/WGS/SNPS/All_mylu/snps/NJNY50_sites_files/305100_sites.txt\n",
      "/local/home/sarahgw/angsd/angsd/angsd sites index /local/home/sarahgw/WGS/SNPS/All_mylu/snps/NJNY50_sites_files/1677209_sites.txt\n"
     ]
    },
    {
     "name": "stdout",
     "output_type": "stream",
     "text": [
      "/local/home/sarahgw/angsd/angsd/angsd sites index /local/home/sarahgw/WGS/SNPS/All_mylu/snps/NJNY50_sites_files/2387422_sites.txt\n",
      "/local/home/sarahgw/angsd/angsd/angsd sites index /local/home/sarahgw/WGS/SNPS/All_mylu/snps/NJNY50_sites_files/1762975_sites.txt\n",
      "/local/home/sarahgw/angsd/angsd/angsd sites index /local/home/sarahgw/WGS/SNPS/All_mylu/snps/NJNY50_sites_files/1883804_sites.txt\n",
      "/local/home/sarahgw/angsd/angsd/angsd sites index /local/home/sarahgw/WGS/SNPS/All_mylu/snps/NJNY50_sites_files/3445677_sites.txt\n",
      "/local/home/sarahgw/angsd/angsd/angsd sites index /local/home/sarahgw/WGS/SNPS/All_mylu/snps/NJNY50_sites_files/100454_sites.txt\n",
      "/local/home/sarahgw/angsd/angsd/angsd sites index /local/home/sarahgw/WGS/SNPS/All_mylu/snps/NJNY50_sites_files/639733_sites.txt\n",
      "/local/home/sarahgw/angsd/angsd/angsd sites index /local/home/sarahgw/WGS/SNPS/All_mylu/snps/NJNY50_sites_files/270393_sites.txt\n",
      "/local/home/sarahgw/angsd/angsd/angsd sites index /local/home/sarahgw/WGS/SNPS/All_mylu/snps/NJNY50_sites_files/1790543_sites.txt\n",
      "/local/home/sarahgw/angsd/angsd/angsd sites index /local/home/sarahgw/WGS/SNPS/All_mylu/snps/NJNY50_sites_files/266596_sites.txt\n",
      "/local/home/sarahgw/angsd/angsd/angsd sites index /local/home/sarahgw/WGS/SNPS/All_mylu/snps/NJNY50_sites_files/1767654_sites.txt\n",
      "/local/home/sarahgw/angsd/angsd/angsd sites index /local/home/sarahgw/WGS/SNPS/All_mylu/snps/NJNY50_sites_files/3396835_sites.txt\n",
      "/local/home/sarahgw/angsd/angsd/angsd sites index /local/home/sarahgw/WGS/SNPS/All_mylu/snps/NJNY50_sites_files/1338699_sites.txt\n",
      "/local/home/sarahgw/angsd/angsd/angsd sites index /local/home/sarahgw/WGS/SNPS/All_mylu/snps/NJNY50_sites_files/1012308_sites.txt\n",
      "/local/home/sarahgw/angsd/angsd/angsd sites index /local/home/sarahgw/WGS/SNPS/All_mylu/snps/NJNY50_sites_files/3320080_sites.txt\n",
      "/local/home/sarahgw/angsd/angsd/angsd sites index /local/home/sarahgw/WGS/SNPS/All_mylu/snps/NJNY50_sites_files/2731379_sites.txt\n",
      "/local/home/sarahgw/angsd/angsd/angsd sites index /local/home/sarahgw/WGS/SNPS/All_mylu/snps/NJNY50_sites_files/1866953_sites.txt\n",
      "/local/home/sarahgw/angsd/angsd/angsd sites index /local/home/sarahgw/WGS/SNPS/All_mylu/snps/NJNY50_sites_files/2496163_sites.txt\n",
      "/local/home/sarahgw/angsd/angsd/angsd sites index /local/home/sarahgw/WGS/SNPS/All_mylu/snps/NJNY50_sites_files/1132709_sites.txt\n",
      "/local/home/sarahgw/angsd/angsd/angsd sites index /local/home/sarahgw/WGS/SNPS/All_mylu/snps/NJNY50_sites_files/2268836_sites.txt\n",
      "/local/home/sarahgw/angsd/angsd/angsd sites index /local/home/sarahgw/WGS/SNPS/All_mylu/snps/NJNY50_sites_files/2255691_sites.txt\n",
      "/local/home/sarahgw/angsd/angsd/angsd sites index /local/home/sarahgw/WGS/SNPS/All_mylu/snps/NJNY50_sites_files/787824_sites.txt\n",
      "/local/home/sarahgw/angsd/angsd/angsd sites index /local/home/sarahgw/WGS/SNPS/All_mylu/snps/NJNY50_sites_files/1965490_sites.txt\n",
      "/local/home/sarahgw/angsd/angsd/angsd sites index /local/home/sarahgw/WGS/SNPS/All_mylu/snps/NJNY50_sites_files/507543_sites.txt\n",
      "/local/home/sarahgw/angsd/angsd/angsd sites index /local/home/sarahgw/WGS/SNPS/All_mylu/snps/NJNY50_sites_files/507544_sites.txt\n",
      "/local/home/sarahgw/angsd/angsd/angsd sites index /local/home/sarahgw/WGS/SNPS/All_mylu/snps/NJNY50_sites_files/2602394_sites.txt\n",
      "/local/home/sarahgw/angsd/angsd/angsd sites index /local/home/sarahgw/WGS/SNPS/All_mylu/snps/NJNY50_sites_files/2495400_sites.txt\n",
      "/local/home/sarahgw/angsd/angsd/angsd sites index /local/home/sarahgw/WGS/SNPS/All_mylu/snps/NJNY50_sites_files/2586279_sites.txt\n",
      "/local/home/sarahgw/angsd/angsd/angsd sites index /local/home/sarahgw/WGS/SNPS/All_mylu/snps/NJNY50_sites_files/442972_sites.txt\n",
      "/local/home/sarahgw/angsd/angsd/angsd sites index /local/home/sarahgw/WGS/SNPS/All_mylu/snps/NJNY50_sites_files/2500270_sites.txt\n",
      "/local/home/sarahgw/angsd/angsd/angsd sites index /local/home/sarahgw/WGS/SNPS/All_mylu/snps/NJNY50_sites_files/1632128_sites.txt\n",
      "/local/home/sarahgw/angsd/angsd/angsd sites index /local/home/sarahgw/WGS/SNPS/All_mylu/snps/NJNY50_sites_files/2345078_sites.txt\n",
      "/local/home/sarahgw/angsd/angsd/angsd sites index /local/home/sarahgw/WGS/SNPS/All_mylu/snps/NJNY50_sites_files/160970_sites.txt\n",
      "/local/home/sarahgw/angsd/angsd/angsd sites index /local/home/sarahgw/WGS/SNPS/All_mylu/snps/NJNY50_sites_files/1108550_sites.txt\n",
      "/local/home/sarahgw/angsd/angsd/angsd sites index /local/home/sarahgw/WGS/SNPS/All_mylu/snps/NJNY50_sites_files/359293_sites.txt\n",
      "/local/home/sarahgw/angsd/angsd/angsd sites index /local/home/sarahgw/WGS/SNPS/All_mylu/snps/NJNY50_sites_files/1302698_sites.txt\n",
      "/local/home/sarahgw/angsd/angsd/angsd sites index /local/home/sarahgw/WGS/SNPS/All_mylu/snps/NJNY50_sites_files/1478437_sites.txt\n",
      "/local/home/sarahgw/angsd/angsd/angsd sites index /local/home/sarahgw/WGS/SNPS/All_mylu/snps/NJNY50_sites_files/1484586_sites.txt\n",
      "/local/home/sarahgw/angsd/angsd/angsd sites index /local/home/sarahgw/WGS/SNPS/All_mylu/snps/NJNY50_sites_files/2107867_sites.txt\n",
      "/local/home/sarahgw/angsd/angsd/angsd sites index /local/home/sarahgw/WGS/SNPS/All_mylu/snps/NJNY50_sites_files/1590004_sites.txt\n",
      "/local/home/sarahgw/angsd/angsd/angsd sites index /local/home/sarahgw/WGS/SNPS/All_mylu/snps/NJNY50_sites_files/1185628_sites.txt\n",
      "/local/home/sarahgw/angsd/angsd/angsd sites index /local/home/sarahgw/WGS/SNPS/All_mylu/snps/NJNY50_sites_files/211193_sites.txt\n",
      "/local/home/sarahgw/angsd/angsd/angsd sites index /local/home/sarahgw/WGS/SNPS/All_mylu/snps/NJNY50_sites_files/2144669_sites.txt\n",
      "/local/home/sarahgw/angsd/angsd/angsd sites index /local/home/sarahgw/WGS/SNPS/All_mylu/snps/NJNY50_sites_files/677530_sites.txt\n",
      "/local/home/sarahgw/angsd/angsd/angsd sites index /local/home/sarahgw/WGS/SNPS/All_mylu/snps/NJNY50_sites_files/689293_sites.txt\n",
      "/local/home/sarahgw/angsd/angsd/angsd sites index /local/home/sarahgw/WGS/SNPS/All_mylu/snps/NJNY50_sites_files/1319091_sites.txt\n",
      "/local/home/sarahgw/angsd/angsd/angsd sites index /local/home/sarahgw/WGS/SNPS/All_mylu/snps/NJNY50_sites_files/242575_sites.txt\n",
      "/local/home/sarahgw/angsd/angsd/angsd sites index /local/home/sarahgw/WGS/SNPS/All_mylu/snps/NJNY50_sites_files/1628937_sites.txt\n",
      "/local/home/sarahgw/angsd/angsd/angsd sites index /local/home/sarahgw/WGS/SNPS/All_mylu/snps/NJNY50_sites_files/1294919_sites.txt\n",
      "/local/home/sarahgw/angsd/angsd/angsd sites index /local/home/sarahgw/WGS/SNPS/All_mylu/snps/NJNY50_sites_files/1956978_sites.txt\n",
      "/local/home/sarahgw/angsd/angsd/angsd sites index /local/home/sarahgw/WGS/SNPS/All_mylu/snps/NJNY50_sites_files/914805_sites.txt\n",
      "/local/home/sarahgw/angsd/angsd/angsd sites index /local/home/sarahgw/WGS/SNPS/All_mylu/snps/NJNY50_sites_files/2123897_sites.txt\n",
      "/local/home/sarahgw/angsd/angsd/angsd sites index /local/home/sarahgw/WGS/SNPS/All_mylu/snps/NJNY50_sites_files/375369_sites.txt\n",
      "/local/home/sarahgw/angsd/angsd/angsd sites index /local/home/sarahgw/WGS/SNPS/All_mylu/snps/NJNY50_sites_files/2174755_sites.txt\n",
      "/local/home/sarahgw/angsd/angsd/angsd sites index /local/home/sarahgw/WGS/SNPS/All_mylu/snps/NJNY50_sites_files/2098521_sites.txt\n",
      "/local/home/sarahgw/angsd/angsd/angsd sites index /local/home/sarahgw/WGS/SNPS/All_mylu/snps/NJNY50_sites_files/78805_sites.txt\n",
      "/local/home/sarahgw/angsd/angsd/angsd sites index /local/home/sarahgw/WGS/SNPS/All_mylu/snps/NJNY50_sites_files/1916925_sites.txt\n",
      "/local/home/sarahgw/angsd/angsd/angsd sites index /local/home/sarahgw/WGS/SNPS/All_mylu/snps/NJNY50_sites_files/1834960_sites.txt\n",
      "/local/home/sarahgw/angsd/angsd/angsd sites index /local/home/sarahgw/WGS/SNPS/All_mylu/snps/NJNY50_sites_files/99324_sites.txt\n",
      "/local/home/sarahgw/angsd/angsd/angsd sites index /local/home/sarahgw/WGS/SNPS/All_mylu/snps/NJNY50_sites_files/183365_sites.txt\n",
      "/local/home/sarahgw/angsd/angsd/angsd sites index /local/home/sarahgw/WGS/SNPS/All_mylu/snps/NJNY50_sites_files/1396110_sites.txt\n",
      "/local/home/sarahgw/angsd/angsd/angsd sites index /local/home/sarahgw/WGS/SNPS/All_mylu/snps/NJNY50_sites_files/1445876_sites.txt\n",
      "/local/home/sarahgw/angsd/angsd/angsd sites index /local/home/sarahgw/WGS/SNPS/All_mylu/snps/NJNY50_sites_files/1091588_sites.txt\n",
      "/local/home/sarahgw/angsd/angsd/angsd sites index /local/home/sarahgw/WGS/SNPS/All_mylu/snps/NJNY50_sites_files/180278_sites.txt\n",
      "/local/home/sarahgw/angsd/angsd/angsd sites index /local/home/sarahgw/WGS/SNPS/All_mylu/snps/NJNY50_sites_files/347545_sites.txt\n",
      "/local/home/sarahgw/angsd/angsd/angsd sites index /local/home/sarahgw/WGS/SNPS/All_mylu/snps/NJNY50_sites_files/1213703_sites.txt\n",
      "/local/home/sarahgw/angsd/angsd/angsd sites index /local/home/sarahgw/WGS/SNPS/All_mylu/snps/NJNY50_sites_files/536074_sites.txt\n",
      "/local/home/sarahgw/angsd/angsd/angsd sites index /local/home/sarahgw/WGS/SNPS/All_mylu/snps/NJNY50_sites_files/318418_sites.txt\n",
      "/local/home/sarahgw/angsd/angsd/angsd sites index /local/home/sarahgw/WGS/SNPS/All_mylu/snps/NJNY50_sites_files/1478680_sites.txt\n",
      "/local/home/sarahgw/angsd/angsd/angsd sites index /local/home/sarahgw/WGS/SNPS/All_mylu/snps/NJNY50_sites_files/626424_sites.txt\n"
     ]
    },
    {
     "name": "stdout",
     "output_type": "stream",
     "text": [
      "/local/home/sarahgw/angsd/angsd/angsd sites index /local/home/sarahgw/WGS/SNPS/All_mylu/snps/NJNY50_sites_files/260614_sites.txt\n",
      "/local/home/sarahgw/angsd/angsd/angsd sites index /local/home/sarahgw/WGS/SNPS/All_mylu/snps/NJNY50_sites_files/401357_sites.txt\n",
      "/local/home/sarahgw/angsd/angsd/angsd sites index /local/home/sarahgw/WGS/SNPS/All_mylu/snps/NJNY50_sites_files/233293_sites.txt\n",
      "/local/home/sarahgw/angsd/angsd/angsd sites index /local/home/sarahgw/WGS/SNPS/All_mylu/snps/NJNY50_sites_files/1217720_sites.txt\n",
      "/local/home/sarahgw/angsd/angsd/angsd sites index /local/home/sarahgw/WGS/SNPS/All_mylu/snps/NJNY50_sites_files/360899_sites.txt\n",
      "/local/home/sarahgw/angsd/angsd/angsd sites index /local/home/sarahgw/WGS/SNPS/All_mylu/snps/NJNY50_sites_files/874294_sites.txt\n",
      "/local/home/sarahgw/angsd/angsd/angsd sites index /local/home/sarahgw/WGS/SNPS/All_mylu/snps/NJNY50_sites_files/149463_sites.txt\n",
      "/local/home/sarahgw/angsd/angsd/angsd sites index /local/home/sarahgw/WGS/SNPS/All_mylu/snps/NJNY50_sites_files/425088_sites.txt\n",
      "/local/home/sarahgw/angsd/angsd/angsd sites index /local/home/sarahgw/WGS/SNPS/All_mylu/snps/NJNY50_sites_files/488972_sites.txt\n",
      "/local/home/sarahgw/angsd/angsd/angsd sites index /local/home/sarahgw/WGS/SNPS/All_mylu/snps/NJNY50_sites_files/994874_sites.txt\n",
      "/local/home/sarahgw/angsd/angsd/angsd sites index /local/home/sarahgw/WGS/SNPS/All_mylu/snps/NJNY50_sites_files/936584_sites.txt\n",
      "/local/home/sarahgw/angsd/angsd/angsd sites index /local/home/sarahgw/WGS/SNPS/All_mylu/snps/NJNY50_sites_files/735347_sites.txt\n",
      "/local/home/sarahgw/angsd/angsd/angsd sites index /local/home/sarahgw/WGS/SNPS/All_mylu/snps/NJNY50_sites_files/194928_sites.txt\n",
      "/local/home/sarahgw/angsd/angsd/angsd sites index /local/home/sarahgw/WGS/SNPS/All_mylu/snps/NJNY50_sites_files/309894_sites.txt\n",
      "/local/home/sarahgw/angsd/angsd/angsd sites index /local/home/sarahgw/WGS/SNPS/All_mylu/snps/NJNY50_sites_files/916661_sites.txt\n",
      "/local/home/sarahgw/angsd/angsd/angsd sites index /local/home/sarahgw/WGS/SNPS/All_mylu/snps/NJNY50_sites_files/593841_sites.txt\n",
      "/local/home/sarahgw/angsd/angsd/angsd sites index /local/home/sarahgw/WGS/SNPS/All_mylu/snps/NJNY50_sites_files/463936_sites.txt\n",
      "/local/home/sarahgw/angsd/angsd/angsd sites index /local/home/sarahgw/WGS/SNPS/All_mylu/snps/NJNY50_sites_files/529650_sites.txt\n",
      "/local/home/sarahgw/angsd/angsd/angsd sites index /local/home/sarahgw/WGS/SNPS/All_mylu/snps/NJNY50_sites_files/641734_sites.txt\n",
      "/local/home/sarahgw/angsd/angsd/angsd sites index /local/home/sarahgw/WGS/SNPS/All_mylu/snps/NJNY50_sites_files/696106_sites.txt\n",
      "/local/home/sarahgw/angsd/angsd/angsd sites index /local/home/sarahgw/WGS/SNPS/All_mylu/snps/NJNY50_sites_files/60325_sites.txt\n",
      "/local/home/sarahgw/angsd/angsd/angsd sites index /local/home/sarahgw/WGS/SNPS/All_mylu/snps/NJNY50_sites_files/60326_sites.txt\n",
      "/local/home/sarahgw/angsd/angsd/angsd sites index /local/home/sarahgw/WGS/SNPS/All_mylu/snps/NJNY50_sites_files/593002_sites.txt\n",
      "/local/home/sarahgw/angsd/angsd/angsd sites index /local/home/sarahgw/WGS/SNPS/All_mylu/snps/NJNY50_sites_files/514067_sites.txt\n",
      "/local/home/sarahgw/angsd/angsd/angsd sites index /local/home/sarahgw/WGS/SNPS/All_mylu/snps/NJNY50_sites_files/488060_sites.txt\n",
      "/local/home/sarahgw/angsd/angsd/angsd sites index /local/home/sarahgw/WGS/SNPS/All_mylu/snps/NJNY50_sites_files/515071_sites.txt\n",
      "/local/home/sarahgw/angsd/angsd/angsd sites index /local/home/sarahgw/WGS/SNPS/All_mylu/snps/NJNY50_sites_files/352010_sites.txt\n",
      "/local/home/sarahgw/angsd/angsd/angsd sites index /local/home/sarahgw/WGS/SNPS/All_mylu/snps/NJNY50_sites_files/177173_sites.txt\n",
      "/local/home/sarahgw/angsd/angsd/angsd sites index /local/home/sarahgw/WGS/SNPS/All_mylu/snps/NJNY50_sites_files/361102_sites.txt\n",
      "/local/home/sarahgw/angsd/angsd/angsd sites index /local/home/sarahgw/WGS/SNPS/All_mylu/snps/NJNY50_sites_files/292619_sites.txt\n",
      "/local/home/sarahgw/angsd/angsd/angsd sites index /local/home/sarahgw/WGS/SNPS/All_mylu/snps/NJNY50_sites_files/470241_sites.txt\n",
      "/local/home/sarahgw/angsd/angsd/angsd sites index /local/home/sarahgw/WGS/SNPS/All_mylu/snps/NJNY50_sites_files/291550_sites.txt\n",
      "/local/home/sarahgw/angsd/angsd/angsd sites index /local/home/sarahgw/WGS/SNPS/All_mylu/snps/NJNY50_sites_files/54829_sites.txt\n",
      "/local/home/sarahgw/angsd/angsd/angsd sites index /local/home/sarahgw/WGS/SNPS/All_mylu/snps/NJNY50_sites_files/180654_sites.txt\n",
      "/local/home/sarahgw/angsd/angsd/angsd sites index /local/home/sarahgw/WGS/SNPS/All_mylu/snps/NJNY50_sites_files/127906_sites.txt\n",
      "/local/home/sarahgw/angsd/angsd/angsd sites index /local/home/sarahgw/WGS/SNPS/All_mylu/snps/NJNY50_sites_files/116518_sites.txt\n",
      "/local/home/sarahgw/angsd/angsd/angsd sites index /local/home/sarahgw/WGS/SNPS/All_mylu/snps/NJNY50_sites_files/173352_sites.txt\n",
      "/local/home/sarahgw/angsd/angsd/angsd sites index /local/home/sarahgw/WGS/SNPS/All_mylu/snps/NJNY50_sites_files/94959_sites.txt\n",
      "/local/home/sarahgw/angsd/angsd/angsd sites index /local/home/sarahgw/WGS/SNPS/All_mylu/snps/NJNY50_sites_files/70883_sites.txt\n",
      "/local/home/sarahgw/angsd/angsd/angsd sites index /local/home/sarahgw/WGS/SNPS/All_mylu/snps/NJNY50_sites_files/9663_sites.txt\n",
      "/local/home/sarahgw/angsd/angsd/angsd sites index /local/home/sarahgw/WGS/SNPS/All_mylu/snps/NJNY50_sites_files/11106_sites.txt\n",
      "/local/home/sarahgw/angsd/angsd/angsd sites index /local/home/sarahgw/WGS/SNPS/All_mylu/snps/NJNY50_sites_files/29714_sites.txt\n",
      "/local/home/sarahgw/angsd/angsd/angsd sites index /local/home/sarahgw/WGS/SNPS/All_mylu/snps/NJNY50_sites_files/965_sites.txt\n",
      "/local/home/sarahgw/angsd/angsd/angsd sites index /local/home/sarahgw/WGS/SNPS/All_mylu/snps/NJNY50_sites_files/6252_sites.txt\n",
      "/local/home/sarahgw/angsd/angsd/angsd sites index /local/home/sarahgw/WGS/SNPS/All_mylu/snps/NJNY50_sites_files/2581_sites.txt\n",
      "/local/home/sarahgw/angsd/angsd/angsd sites index /local/home/sarahgw/WGS/SNPS/All_mylu/snps/NJNY50_sites_files/2585_sites.txt\n",
      "/local/home/sarahgw/angsd/angsd/angsd sites index /local/home/sarahgw/WGS/SNPS/All_mylu/snps/NJNY50_sites_files/2586_sites.txt\n",
      "/local/home/sarahgw/angsd/angsd/angsd sites index /local/home/sarahgw/WGS/SNPS/All_mylu/snps/NJNY50_sites_files/4380147_sites.txt\n",
      "/local/home/sarahgw/angsd/angsd/angsd sites index /local/home/sarahgw/WGS/SNPS/All_mylu/snps/NJNY50_sites_files/22649683_sites.txt\n",
      "/local/home/sarahgw/angsd/angsd/angsd sites index /local/home/sarahgw/WGS/SNPS/All_mylu/snps/NJNY50_sites_files/38456248_sites.txt\n",
      "/local/home/sarahgw/angsd/angsd/angsd sites index /local/home/sarahgw/WGS/SNPS/All_mylu/snps/NJNY50_sites_files/51542790_sites.txt\n",
      "/local/home/sarahgw/angsd/angsd/angsd sites index /local/home/sarahgw/WGS/SNPS/All_mylu/snps/NJNY50_sites_files/51542832_sites.txt\n",
      "/local/home/sarahgw/angsd/angsd/angsd sites index /local/home/sarahgw/WGS/SNPS/All_mylu/snps/NJNY50_sites_files/59533082_sites.txt\n",
      "/local/home/sarahgw/angsd/angsd/angsd sites index /local/home/sarahgw/WGS/SNPS/All_mylu/snps/NJNY50_sites_files/29962249_sites.txt\n",
      "/local/home/sarahgw/angsd/angsd/angsd sites index /local/home/sarahgw/WGS/SNPS/All_mylu/snps/NJNY50_sites_files/16777837_sites.txt\n",
      "/local/home/sarahgw/angsd/angsd/angsd sites index /local/home/sarahgw/WGS/SNPS/All_mylu/snps/NJNY50_sites_files/26665811_sites.txt\n",
      "/local/home/sarahgw/angsd/angsd/angsd sites index /local/home/sarahgw/WGS/SNPS/All_mylu/snps/NJNY50_sites_files/8507307_sites.txt\n",
      "/local/home/sarahgw/angsd/angsd/angsd sites index /local/home/sarahgw/WGS/SNPS/All_mylu/snps/NJNY50_sites_files/16029384_sites.txt\n",
      "/local/home/sarahgw/angsd/angsd/angsd sites index /local/home/sarahgw/WGS/SNPS/All_mylu/snps/NJNY50_sites_files/16029398_sites.txt\n",
      "/local/home/sarahgw/angsd/angsd/angsd sites index /local/home/sarahgw/WGS/SNPS/All_mylu/snps/NJNY50_sites_files/4817346_sites.txt\n",
      "/local/home/sarahgw/angsd/angsd/angsd sites index /local/home/sarahgw/WGS/SNPS/All_mylu/snps/NJNY50_sites_files/12063266_sites.txt\n",
      "/local/home/sarahgw/angsd/angsd/angsd sites index /local/home/sarahgw/WGS/SNPS/All_mylu/snps/NJNY50_sites_files/17022175_sites.txt\n",
      "/local/home/sarahgw/angsd/angsd/angsd sites index /local/home/sarahgw/WGS/SNPS/All_mylu/snps/NJNY50_sites_files/17022182_sites.txt\n",
      "/local/home/sarahgw/angsd/angsd/angsd sites index /local/home/sarahgw/WGS/SNPS/All_mylu/snps/NJNY50_sites_files/17022192_sites.txt\n"
     ]
    },
    {
     "name": "stdout",
     "output_type": "stream",
     "text": [
      "/local/home/sarahgw/angsd/angsd/angsd sites index /local/home/sarahgw/WGS/SNPS/All_mylu/snps/NJNY50_sites_files/117072_sites.txt\n",
      "/local/home/sarahgw/angsd/angsd/angsd sites index /local/home/sarahgw/WGS/SNPS/All_mylu/snps/NJNY50_sites_files/285068_sites.txt\n",
      "/local/home/sarahgw/angsd/angsd/angsd sites index /local/home/sarahgw/WGS/SNPS/All_mylu/snps/NJNY50_sites_files/1036937_sites.txt\n",
      "/local/home/sarahgw/angsd/angsd/angsd sites index /local/home/sarahgw/WGS/SNPS/All_mylu/snps/NJNY50_sites_files/7204887_sites.txt\n",
      "/local/home/sarahgw/angsd/angsd/angsd sites index /local/home/sarahgw/WGS/SNPS/All_mylu/snps/NJNY50_sites_files/5086919_sites.txt\n",
      "/local/home/sarahgw/angsd/angsd/angsd sites index /local/home/sarahgw/WGS/SNPS/All_mylu/snps/NJNY50_sites_files/1710776_sites.txt\n",
      "/local/home/sarahgw/angsd/angsd/angsd sites index /local/home/sarahgw/WGS/SNPS/All_mylu/snps/NJNY50_sites_files/5556309_sites.txt\n",
      "/local/home/sarahgw/angsd/angsd/angsd sites index /local/home/sarahgw/WGS/SNPS/All_mylu/snps/NJNY50_sites_files/10614287_sites.txt\n",
      "/local/home/sarahgw/angsd/angsd/angsd sites index /local/home/sarahgw/WGS/SNPS/All_mylu/snps/NJNY50_sites_files/17831035_sites.txt\n",
      "/local/home/sarahgw/angsd/angsd/angsd sites index /local/home/sarahgw/WGS/SNPS/All_mylu/snps/NJNY50_sites_files/3462955_sites.txt\n",
      "/local/home/sarahgw/angsd/angsd/angsd sites index /local/home/sarahgw/WGS/SNPS/All_mylu/snps/NJNY50_sites_files/13623092_sites.txt\n",
      "/local/home/sarahgw/angsd/angsd/angsd sites index /local/home/sarahgw/WGS/SNPS/All_mylu/snps/NJNY50_sites_files/16057073_sites.txt\n",
      "/local/home/sarahgw/angsd/angsd/angsd sites index /local/home/sarahgw/WGS/SNPS/All_mylu/snps/NJNY50_sites_files/3561000_sites.txt\n",
      "/local/home/sarahgw/angsd/angsd/angsd sites index /local/home/sarahgw/WGS/SNPS/All_mylu/snps/NJNY50_sites_files/6872068_sites.txt\n",
      "/local/home/sarahgw/angsd/angsd/angsd sites index /local/home/sarahgw/WGS/SNPS/All_mylu/snps/NJNY50_sites_files/13607197_sites.txt\n",
      "/local/home/sarahgw/angsd/angsd/angsd sites index /local/home/sarahgw/WGS/SNPS/All_mylu/snps/NJNY50_sites_files/2091718_sites.txt\n",
      "/local/home/sarahgw/angsd/angsd/angsd sites index /local/home/sarahgw/WGS/SNPS/All_mylu/snps/NJNY50_sites_files/2407788_sites.txt\n",
      "/local/home/sarahgw/angsd/angsd/angsd sites index /local/home/sarahgw/WGS/SNPS/All_mylu/snps/NJNY50_sites_files/10152444_sites.txt\n",
      "/local/home/sarahgw/angsd/angsd/angsd sites index /local/home/sarahgw/WGS/SNPS/All_mylu/snps/NJNY50_sites_files/13104638_sites.txt\n",
      "/local/home/sarahgw/angsd/angsd/angsd sites index /local/home/sarahgw/WGS/SNPS/All_mylu/snps/NJNY50_sites_files/13104643_sites.txt\n",
      "/local/home/sarahgw/angsd/angsd/angsd sites index /local/home/sarahgw/WGS/SNPS/All_mylu/snps/NJNY50_sites_files/13680150_sites.txt\n",
      "/local/home/sarahgw/angsd/angsd/angsd sites index /local/home/sarahgw/WGS/SNPS/All_mylu/snps/NJNY50_sites_files/665407_sites.txt\n",
      "/local/home/sarahgw/angsd/angsd/angsd sites index /local/home/sarahgw/WGS/SNPS/All_mylu/snps/NJNY50_sites_files/2691860_sites.txt\n",
      "/local/home/sarahgw/angsd/angsd/angsd sites index /local/home/sarahgw/WGS/SNPS/All_mylu/snps/NJNY50_sites_files/2782729_sites.txt\n",
      "/local/home/sarahgw/angsd/angsd/angsd sites index /local/home/sarahgw/WGS/SNPS/All_mylu/snps/NJNY50_sites_files/13929495_sites.txt\n",
      "/local/home/sarahgw/angsd/angsd/angsd sites index /local/home/sarahgw/WGS/SNPS/All_mylu/snps/NJNY50_sites_files/440883_sites.txt\n",
      "/local/home/sarahgw/angsd/angsd/angsd sites index /local/home/sarahgw/WGS/SNPS/All_mylu/snps/NJNY50_sites_files/4614837_sites.txt\n",
      "/local/home/sarahgw/angsd/angsd/angsd sites index /local/home/sarahgw/WGS/SNPS/All_mylu/snps/NJNY50_sites_files/10091492_sites.txt\n",
      "/local/home/sarahgw/angsd/angsd/angsd sites index /local/home/sarahgw/WGS/SNPS/All_mylu/snps/NJNY50_sites_files/5038807_sites.txt\n",
      "/local/home/sarahgw/angsd/angsd/angsd sites index /local/home/sarahgw/WGS/SNPS/All_mylu/snps/NJNY50_sites_files/5735892_sites.txt\n",
      "/local/home/sarahgw/angsd/angsd/angsd sites index /local/home/sarahgw/WGS/SNPS/All_mylu/snps/NJNY50_sites_files/6643407_sites.txt\n",
      "/local/home/sarahgw/angsd/angsd/angsd sites index /local/home/sarahgw/WGS/SNPS/All_mylu/snps/NJNY50_sites_files/7041967_sites.txt\n",
      "/local/home/sarahgw/angsd/angsd/angsd sites index /local/home/sarahgw/WGS/SNPS/All_mylu/snps/NJNY50_sites_files/11158563_sites.txt\n",
      "/local/home/sarahgw/angsd/angsd/angsd sites index /local/home/sarahgw/WGS/SNPS/All_mylu/snps/NJNY50_sites_files/12125290_sites.txt\n",
      "/local/home/sarahgw/angsd/angsd/angsd sites index /local/home/sarahgw/WGS/SNPS/All_mylu/snps/NJNY50_sites_files/12125292_sites.txt\n",
      "/local/home/sarahgw/angsd/angsd/angsd sites index /local/home/sarahgw/WGS/SNPS/All_mylu/snps/NJNY50_sites_files/12125293_sites.txt\n",
      "/local/home/sarahgw/angsd/angsd/angsd sites index /local/home/sarahgw/WGS/SNPS/All_mylu/snps/NJNY50_sites_files/1038118_sites.txt\n",
      "/local/home/sarahgw/angsd/angsd/angsd sites index /local/home/sarahgw/WGS/SNPS/All_mylu/snps/NJNY50_sites_files/7965498_sites.txt\n",
      "/local/home/sarahgw/angsd/angsd/angsd sites index /local/home/sarahgw/WGS/SNPS/All_mylu/snps/NJNY50_sites_files/10304328_sites.txt\n",
      "/local/home/sarahgw/angsd/angsd/angsd sites index /local/home/sarahgw/WGS/SNPS/All_mylu/snps/NJNY50_sites_files/753145_sites.txt\n",
      "/local/home/sarahgw/angsd/angsd/angsd sites index /local/home/sarahgw/WGS/SNPS/All_mylu/snps/NJNY50_sites_files/8414802_sites.txt\n",
      "/local/home/sarahgw/angsd/angsd/angsd sites index /local/home/sarahgw/WGS/SNPS/All_mylu/snps/NJNY50_sites_files/8414808_sites.txt\n",
      "/local/home/sarahgw/angsd/angsd/angsd sites index /local/home/sarahgw/WGS/SNPS/All_mylu/snps/NJNY50_sites_files/4072696_sites.txt\n",
      "/local/home/sarahgw/angsd/angsd/angsd sites index /local/home/sarahgw/WGS/SNPS/All_mylu/snps/NJNY50_sites_files/5707870_sites.txt\n",
      "/local/home/sarahgw/angsd/angsd/angsd sites index /local/home/sarahgw/WGS/SNPS/All_mylu/snps/NJNY50_sites_files/7279902_sites.txt\n",
      "/local/home/sarahgw/angsd/angsd/angsd sites index /local/home/sarahgw/WGS/SNPS/All_mylu/snps/NJNY50_sites_files/8584257_sites.txt\n",
      "/local/home/sarahgw/angsd/angsd/angsd sites index /local/home/sarahgw/WGS/SNPS/All_mylu/snps/NJNY50_sites_files/3907289_sites.txt\n",
      "/local/home/sarahgw/angsd/angsd/angsd sites index /local/home/sarahgw/WGS/SNPS/All_mylu/snps/NJNY50_sites_files/6341330_sites.txt\n",
      "/local/home/sarahgw/angsd/angsd/angsd sites index /local/home/sarahgw/WGS/SNPS/All_mylu/snps/NJNY50_sites_files/6594918_sites.txt\n",
      "/local/home/sarahgw/angsd/angsd/angsd sites index /local/home/sarahgw/WGS/SNPS/All_mylu/snps/NJNY50_sites_files/9304948_sites.txt\n",
      "/local/home/sarahgw/angsd/angsd/angsd sites index /local/home/sarahgw/WGS/SNPS/All_mylu/snps/NJNY50_sites_files/5353506_sites.txt\n",
      "/local/home/sarahgw/angsd/angsd/angsd sites index /local/home/sarahgw/WGS/SNPS/All_mylu/snps/NJNY50_sites_files/6986210_sites.txt\n",
      "/local/home/sarahgw/angsd/angsd/angsd sites index /local/home/sarahgw/WGS/SNPS/All_mylu/snps/NJNY50_sites_files/6986220_sites.txt\n",
      "/local/home/sarahgw/angsd/angsd/angsd sites index /local/home/sarahgw/WGS/SNPS/All_mylu/snps/NJNY50_sites_files/8026544_sites.txt\n",
      "/local/home/sarahgw/angsd/angsd/angsd sites index /local/home/sarahgw/WGS/SNPS/All_mylu/snps/NJNY50_sites_files/2488986_sites.txt\n",
      "/local/home/sarahgw/angsd/angsd/angsd sites index /local/home/sarahgw/WGS/SNPS/All_mylu/snps/NJNY50_sites_files/770577_sites.txt\n",
      "/local/home/sarahgw/angsd/angsd/angsd sites index /local/home/sarahgw/WGS/SNPS/All_mylu/snps/NJNY50_sites_files/6287274_sites.txt\n",
      "/local/home/sarahgw/angsd/angsd/angsd sites index /local/home/sarahgw/WGS/SNPS/All_mylu/snps/NJNY50_sites_files/7390034_sites.txt\n",
      "/local/home/sarahgw/angsd/angsd/angsd sites index /local/home/sarahgw/WGS/SNPS/All_mylu/snps/NJNY50_sites_files/2353909_sites.txt\n",
      "/local/home/sarahgw/angsd/angsd/angsd sites index /local/home/sarahgw/WGS/SNPS/All_mylu/snps/NJNY50_sites_files/2139984_sites.txt\n",
      "/local/home/sarahgw/angsd/angsd/angsd sites index /local/home/sarahgw/WGS/SNPS/All_mylu/snps/NJNY50_sites_files/1149655_sites.txt\n",
      "/local/home/sarahgw/angsd/angsd/angsd sites index /local/home/sarahgw/WGS/SNPS/All_mylu/snps/NJNY50_sites_files/3229647_sites.txt\n",
      "/local/home/sarahgw/angsd/angsd/angsd sites index /local/home/sarahgw/WGS/SNPS/All_mylu/snps/NJNY50_sites_files/365354_sites.txt\n",
      "/local/home/sarahgw/angsd/angsd/angsd sites index /local/home/sarahgw/WGS/SNPS/All_mylu/snps/NJNY50_sites_files/3463014_sites.txt\n"
     ]
    },
    {
     "name": "stdout",
     "output_type": "stream",
     "text": [
      "/local/home/sarahgw/angsd/angsd/angsd sites index /local/home/sarahgw/WGS/SNPS/All_mylu/snps/NJNY50_sites_files/4399736_sites.txt\n",
      "/local/home/sarahgw/angsd/angsd/angsd sites index /local/home/sarahgw/WGS/SNPS/All_mylu/snps/NJNY50_sites_files/127515_sites.txt\n",
      "/local/home/sarahgw/angsd/angsd/angsd sites index /local/home/sarahgw/WGS/SNPS/All_mylu/snps/NJNY50_sites_files/5661177_sites.txt\n",
      "/local/home/sarahgw/angsd/angsd/angsd sites index /local/home/sarahgw/WGS/SNPS/All_mylu/snps/NJNY50_sites_files/1081716_sites.txt\n",
      "/local/home/sarahgw/angsd/angsd/angsd sites index /local/home/sarahgw/WGS/SNPS/All_mylu/snps/NJNY50_sites_files/5178577_sites.txt\n",
      "/local/home/sarahgw/angsd/angsd/angsd sites index /local/home/sarahgw/WGS/SNPS/All_mylu/snps/NJNY50_sites_files/943473_sites.txt\n",
      "/local/home/sarahgw/angsd/angsd/angsd sites index /local/home/sarahgw/WGS/SNPS/All_mylu/snps/NJNY50_sites_files/1894828_sites.txt\n",
      "/local/home/sarahgw/angsd/angsd/angsd sites index /local/home/sarahgw/WGS/SNPS/All_mylu/snps/NJNY50_sites_files/2323568_sites.txt\n",
      "/local/home/sarahgw/angsd/angsd/angsd sites index /local/home/sarahgw/WGS/SNPS/All_mylu/snps/NJNY50_sites_files/183883_sites.txt\n",
      "/local/home/sarahgw/angsd/angsd/angsd sites index /local/home/sarahgw/WGS/SNPS/All_mylu/snps/NJNY50_sites_files/2334052_sites.txt\n",
      "/local/home/sarahgw/angsd/angsd/angsd sites index /local/home/sarahgw/WGS/SNPS/All_mylu/snps/NJNY50_sites_files/612532_sites.txt\n",
      "/local/home/sarahgw/angsd/angsd/angsd sites index /local/home/sarahgw/WGS/SNPS/All_mylu/snps/NJNY50_sites_files/3522450_sites.txt\n",
      "/local/home/sarahgw/angsd/angsd/angsd sites index /local/home/sarahgw/WGS/SNPS/All_mylu/snps/NJNY50_sites_files/2824889_sites.txt\n",
      "/local/home/sarahgw/angsd/angsd/angsd sites index /local/home/sarahgw/WGS/SNPS/All_mylu/snps/NJNY50_sites_files/4476403_sites.txt\n",
      "/local/home/sarahgw/angsd/angsd/angsd sites index /local/home/sarahgw/WGS/SNPS/All_mylu/snps/NJNY50_sites_files/941095_sites.txt\n",
      "/local/home/sarahgw/angsd/angsd/angsd sites index /local/home/sarahgw/WGS/SNPS/All_mylu/snps/NJNY50_sites_files/1253176_sites.txt\n",
      "/local/home/sarahgw/angsd/angsd/angsd sites index /local/home/sarahgw/WGS/SNPS/All_mylu/snps/NJNY50_sites_files/2542339_sites.txt\n",
      "/local/home/sarahgw/angsd/angsd/angsd sites index /local/home/sarahgw/WGS/SNPS/All_mylu/snps/NJNY50_sites_files/4607996_sites.txt\n",
      "/local/home/sarahgw/angsd/angsd/angsd sites index /local/home/sarahgw/WGS/SNPS/All_mylu/snps/NJNY50_sites_files/2603829_sites.txt\n",
      "/local/home/sarahgw/angsd/angsd/angsd sites index /local/home/sarahgw/WGS/SNPS/All_mylu/snps/NJNY50_sites_files/815777_sites.txt\n",
      "/local/home/sarahgw/angsd/angsd/angsd sites index /local/home/sarahgw/WGS/SNPS/All_mylu/snps/NJNY50_sites_files/1183154_sites.txt\n",
      "/local/home/sarahgw/angsd/angsd/angsd sites index /local/home/sarahgw/WGS/SNPS/All_mylu/snps/NJNY50_sites_files/2489981_sites.txt\n",
      "/local/home/sarahgw/angsd/angsd/angsd sites index /local/home/sarahgw/WGS/SNPS/All_mylu/snps/NJNY50_sites_files/842583_sites.txt\n",
      "/local/home/sarahgw/angsd/angsd/angsd sites index /local/home/sarahgw/WGS/SNPS/All_mylu/snps/NJNY50_sites_files/463033_sites.txt\n",
      "/local/home/sarahgw/angsd/angsd/angsd sites index /local/home/sarahgw/WGS/SNPS/All_mylu/snps/NJNY50_sites_files/463041_sites.txt\n",
      "/local/home/sarahgw/angsd/angsd/angsd sites index /local/home/sarahgw/WGS/SNPS/All_mylu/snps/NJNY50_sites_files/463102_sites.txt\n",
      "/local/home/sarahgw/angsd/angsd/angsd sites index /local/home/sarahgw/WGS/SNPS/All_mylu/snps/NJNY50_sites_files/64693_sites.txt\n",
      "/local/home/sarahgw/angsd/angsd/angsd sites index /local/home/sarahgw/WGS/SNPS/All_mylu/snps/NJNY50_sites_files/134612_sites.txt\n",
      "/local/home/sarahgw/angsd/angsd/angsd sites index /local/home/sarahgw/WGS/SNPS/All_mylu/snps/NJNY50_sites_files/863525_sites.txt\n",
      "/local/home/sarahgw/angsd/angsd/angsd sites index /local/home/sarahgw/WGS/SNPS/All_mylu/snps/NJNY50_sites_files/3647655_sites.txt\n",
      "/local/home/sarahgw/angsd/angsd/angsd sites index /local/home/sarahgw/WGS/SNPS/All_mylu/snps/NJNY50_sites_files/293372_sites.txt\n",
      "/local/home/sarahgw/angsd/angsd/angsd sites index /local/home/sarahgw/WGS/SNPS/All_mylu/snps/NJNY50_sites_files/3065399_sites.txt\n",
      "/local/home/sarahgw/angsd/angsd/angsd sites index /local/home/sarahgw/WGS/SNPS/All_mylu/snps/NJNY50_sites_files/4317517_sites.txt\n",
      "/local/home/sarahgw/angsd/angsd/angsd sites index /local/home/sarahgw/WGS/SNPS/All_mylu/snps/NJNY50_sites_files/4317523_sites.txt\n",
      "/local/home/sarahgw/angsd/angsd/angsd sites index /local/home/sarahgw/WGS/SNPS/All_mylu/snps/NJNY50_sites_files/269102_sites.txt\n",
      "/local/home/sarahgw/angsd/angsd/angsd sites index /local/home/sarahgw/WGS/SNPS/All_mylu/snps/NJNY50_sites_files/2978600_sites.txt\n",
      "/local/home/sarahgw/angsd/angsd/angsd sites index /local/home/sarahgw/WGS/SNPS/All_mylu/snps/NJNY50_sites_files/4280544_sites.txt\n",
      "/local/home/sarahgw/angsd/angsd/angsd sites index /local/home/sarahgw/WGS/SNPS/All_mylu/snps/NJNY50_sites_files/2201321_sites.txt\n",
      "/local/home/sarahgw/angsd/angsd/angsd sites index /local/home/sarahgw/WGS/SNPS/All_mylu/snps/NJNY50_sites_files/2185251_sites.txt\n",
      "/local/home/sarahgw/angsd/angsd/angsd sites index /local/home/sarahgw/WGS/SNPS/All_mylu/snps/NJNY50_sites_files/2575249_sites.txt\n",
      "/local/home/sarahgw/angsd/angsd/angsd sites index /local/home/sarahgw/WGS/SNPS/All_mylu/snps/NJNY50_sites_files/2982197_sites.txt\n",
      "/local/home/sarahgw/angsd/angsd/angsd sites index /local/home/sarahgw/WGS/SNPS/All_mylu/snps/NJNY50_sites_files/2909820_sites.txt\n",
      "/local/home/sarahgw/angsd/angsd/angsd sites index /local/home/sarahgw/WGS/SNPS/All_mylu/snps/NJNY50_sites_files/2083345_sites.txt\n",
      "/local/home/sarahgw/angsd/angsd/angsd sites index /local/home/sarahgw/WGS/SNPS/All_mylu/snps/NJNY50_sites_files/3960841_sites.txt\n",
      "/local/home/sarahgw/angsd/angsd/angsd sites index /local/home/sarahgw/WGS/SNPS/All_mylu/snps/NJNY50_sites_files/42824_sites.txt\n",
      "/local/home/sarahgw/angsd/angsd/angsd sites index /local/home/sarahgw/WGS/SNPS/All_mylu/snps/NJNY50_sites_files/1266567_sites.txt\n",
      "/local/home/sarahgw/angsd/angsd/angsd sites index /local/home/sarahgw/WGS/SNPS/All_mylu/snps/NJNY50_sites_files/677425_sites.txt\n",
      "/local/home/sarahgw/angsd/angsd/angsd sites index /local/home/sarahgw/WGS/SNPS/All_mylu/snps/NJNY50_sites_files/1998105_sites.txt\n",
      "/local/home/sarahgw/angsd/angsd/angsd sites index /local/home/sarahgw/WGS/SNPS/All_mylu/snps/NJNY50_sites_files/2696146_sites.txt\n",
      "/local/home/sarahgw/angsd/angsd/angsd sites index /local/home/sarahgw/WGS/SNPS/All_mylu/snps/NJNY50_sites_files/509419_sites.txt\n",
      "/local/home/sarahgw/angsd/angsd/angsd sites index /local/home/sarahgw/WGS/SNPS/All_mylu/snps/NJNY50_sites_files/1763064_sites.txt\n",
      "/local/home/sarahgw/angsd/angsd/angsd sites index /local/home/sarahgw/WGS/SNPS/All_mylu/snps/NJNY50_sites_files/1763085_sites.txt\n",
      "/local/home/sarahgw/angsd/angsd/angsd sites index /local/home/sarahgw/WGS/SNPS/All_mylu/snps/NJNY50_sites_files/1803749_sites.txt\n",
      "/local/home/sarahgw/angsd/angsd/angsd sites index /local/home/sarahgw/WGS/SNPS/All_mylu/snps/NJNY50_sites_files/617822_sites.txt\n",
      "/local/home/sarahgw/angsd/angsd/angsd sites index /local/home/sarahgw/WGS/SNPS/All_mylu/snps/NJNY50_sites_files/617826_sites.txt\n",
      "/local/home/sarahgw/angsd/angsd/angsd sites index /local/home/sarahgw/WGS/SNPS/All_mylu/snps/NJNY50_sites_files/2043530_sites.txt\n",
      "/local/home/sarahgw/angsd/angsd/angsd sites index /local/home/sarahgw/WGS/SNPS/All_mylu/snps/NJNY50_sites_files/1746069_sites.txt\n",
      "/local/home/sarahgw/angsd/angsd/angsd sites index /local/home/sarahgw/WGS/SNPS/All_mylu/snps/NJNY50_sites_files/2687402_sites.txt\n",
      "/local/home/sarahgw/angsd/angsd/angsd sites index /local/home/sarahgw/WGS/SNPS/All_mylu/snps/NJNY50_sites_files/2687423_sites.txt\n",
      "/local/home/sarahgw/angsd/angsd/angsd sites index /local/home/sarahgw/WGS/SNPS/All_mylu/snps/NJNY50_sites_files/3508435_sites.txt\n",
      "/local/home/sarahgw/angsd/angsd/angsd sites index /local/home/sarahgw/WGS/SNPS/All_mylu/snps/NJNY50_sites_files/2002301_sites.txt\n",
      "/local/home/sarahgw/angsd/angsd/angsd sites index /local/home/sarahgw/WGS/SNPS/All_mylu/snps/NJNY50_sites_files/2866833_sites.txt\n",
      "/local/home/sarahgw/angsd/angsd/angsd sites index /local/home/sarahgw/WGS/SNPS/All_mylu/snps/NJNY50_sites_files/676697_sites.txt\n",
      "/local/home/sarahgw/angsd/angsd/angsd sites index /local/home/sarahgw/WGS/SNPS/All_mylu/snps/NJNY50_sites_files/676714_sites.txt\n",
      "/local/home/sarahgw/angsd/angsd/angsd sites index /local/home/sarahgw/WGS/SNPS/All_mylu/snps/NJNY50_sites_files/351844_sites.txt\n",
      "/local/home/sarahgw/angsd/angsd/angsd sites index /local/home/sarahgw/WGS/SNPS/All_mylu/snps/NJNY50_sites_files/1874405_sites.txt\n"
     ]
    },
    {
     "name": "stdout",
     "output_type": "stream",
     "text": [
      "/local/home/sarahgw/angsd/angsd/angsd sites index /local/home/sarahgw/WGS/SNPS/All_mylu/snps/NJNY50_sites_files/931288_sites.txt\n",
      "/local/home/sarahgw/angsd/angsd/angsd sites index /local/home/sarahgw/WGS/SNPS/All_mylu/snps/NJNY50_sites_files/1246200_sites.txt\n",
      "/local/home/sarahgw/angsd/angsd/angsd sites index /local/home/sarahgw/WGS/SNPS/All_mylu/snps/NJNY50_sites_files/2414078_sites.txt\n",
      "/local/home/sarahgw/angsd/angsd/angsd sites index /local/home/sarahgw/WGS/SNPS/All_mylu/snps/NJNY50_sites_files/2565317_sites.txt\n",
      "/local/home/sarahgw/angsd/angsd/angsd sites index /local/home/sarahgw/WGS/SNPS/All_mylu/snps/NJNY50_sites_files/581616_sites.txt\n",
      "/local/home/sarahgw/angsd/angsd/angsd sites index /local/home/sarahgw/WGS/SNPS/All_mylu/snps/NJNY50_sites_files/2725008_sites.txt\n",
      "/local/home/sarahgw/angsd/angsd/angsd sites index /local/home/sarahgw/WGS/SNPS/All_mylu/snps/NJNY50_sites_files/662283_sites.txt\n",
      "/local/home/sarahgw/angsd/angsd/angsd sites index /local/home/sarahgw/WGS/SNPS/All_mylu/snps/NJNY50_sites_files/2311666_sites.txt\n",
      "/local/home/sarahgw/angsd/angsd/angsd sites index /local/home/sarahgw/WGS/SNPS/All_mylu/snps/NJNY50_sites_files/1241213_sites.txt\n",
      "/local/home/sarahgw/angsd/angsd/angsd sites index /local/home/sarahgw/WGS/SNPS/All_mylu/snps/NJNY50_sites_files/2425525_sites.txt\n",
      "/local/home/sarahgw/angsd/angsd/angsd sites index /local/home/sarahgw/WGS/SNPS/All_mylu/snps/NJNY50_sites_files/2386302_sites.txt\n",
      "/local/home/sarahgw/angsd/angsd/angsd sites index /local/home/sarahgw/WGS/SNPS/All_mylu/snps/NJNY50_sites_files/2943933_sites.txt\n",
      "/local/home/sarahgw/angsd/angsd/angsd sites index /local/home/sarahgw/WGS/SNPS/All_mylu/snps/NJNY50_sites_files/112461_sites.txt\n",
      "/local/home/sarahgw/angsd/angsd/angsd sites index /local/home/sarahgw/WGS/SNPS/All_mylu/snps/NJNY50_sites_files/2759236_sites.txt\n",
      "/local/home/sarahgw/angsd/angsd/angsd sites index /local/home/sarahgw/WGS/SNPS/All_mylu/snps/NJNY50_sites_files/757468_sites.txt\n",
      "/local/home/sarahgw/angsd/angsd/angsd sites index /local/home/sarahgw/WGS/SNPS/All_mylu/snps/NJNY50_sites_files/1039079_sites.txt\n",
      "/local/home/sarahgw/angsd/angsd/angsd sites index /local/home/sarahgw/WGS/SNPS/All_mylu/snps/NJNY50_sites_files/1200485_sites.txt\n",
      "/local/home/sarahgw/angsd/angsd/angsd sites index /local/home/sarahgw/WGS/SNPS/All_mylu/snps/NJNY50_sites_files/1339190_sites.txt\n",
      "/local/home/sarahgw/angsd/angsd/angsd sites index /local/home/sarahgw/WGS/SNPS/All_mylu/snps/NJNY50_sites_files/1953462_sites.txt\n",
      "/local/home/sarahgw/angsd/angsd/angsd sites index /local/home/sarahgw/WGS/SNPS/All_mylu/snps/NJNY50_sites_files/2444879_sites.txt\n",
      "/local/home/sarahgw/angsd/angsd/angsd sites index /local/home/sarahgw/WGS/SNPS/All_mylu/snps/NJNY50_sites_files/330969_sites.txt\n",
      "/local/home/sarahgw/angsd/angsd/angsd sites index /local/home/sarahgw/WGS/SNPS/All_mylu/snps/NJNY50_sites_files/2190450_sites.txt\n",
      "/local/home/sarahgw/angsd/angsd/angsd sites index /local/home/sarahgw/WGS/SNPS/All_mylu/snps/NJNY50_sites_files/771590_sites.txt\n",
      "/local/home/sarahgw/angsd/angsd/angsd sites index /local/home/sarahgw/WGS/SNPS/All_mylu/snps/NJNY50_sites_files/1805799_sites.txt\n",
      "/local/home/sarahgw/angsd/angsd/angsd sites index /local/home/sarahgw/WGS/SNPS/All_mylu/snps/NJNY50_sites_files/109273_sites.txt\n",
      "/local/home/sarahgw/angsd/angsd/angsd sites index /local/home/sarahgw/WGS/SNPS/All_mylu/snps/NJNY50_sites_files/2240802_sites.txt\n",
      "/local/home/sarahgw/angsd/angsd/angsd sites index /local/home/sarahgw/WGS/SNPS/All_mylu/snps/NJNY50_sites_files/1303809_sites.txt\n",
      "/local/home/sarahgw/angsd/angsd/angsd sites index /local/home/sarahgw/WGS/SNPS/All_mylu/snps/NJNY50_sites_files/282844_sites.txt\n",
      "/local/home/sarahgw/angsd/angsd/angsd sites index /local/home/sarahgw/WGS/SNPS/All_mylu/snps/NJNY50_sites_files/731642_sites.txt\n",
      "/local/home/sarahgw/angsd/angsd/angsd sites index /local/home/sarahgw/WGS/SNPS/All_mylu/snps/NJNY50_sites_files/847063_sites.txt\n",
      "/local/home/sarahgw/angsd/angsd/angsd sites index /local/home/sarahgw/WGS/SNPS/All_mylu/snps/NJNY50_sites_files/1824563_sites.txt\n",
      "/local/home/sarahgw/angsd/angsd/angsd sites index /local/home/sarahgw/WGS/SNPS/All_mylu/snps/NJNY50_sites_files/1175378_sites.txt\n",
      "/local/home/sarahgw/angsd/angsd/angsd sites index /local/home/sarahgw/WGS/SNPS/All_mylu/snps/NJNY50_sites_files/1355202_sites.txt\n",
      "/local/home/sarahgw/angsd/angsd/angsd sites index /local/home/sarahgw/WGS/SNPS/All_mylu/snps/NJNY50_sites_files/641411_sites.txt\n",
      "/local/home/sarahgw/angsd/angsd/angsd sites index /local/home/sarahgw/WGS/SNPS/All_mylu/snps/NJNY50_sites_files/533872_sites.txt\n",
      "/local/home/sarahgw/angsd/angsd/angsd sites index /local/home/sarahgw/WGS/SNPS/All_mylu/snps/NJNY50_sites_files/1661413_sites.txt\n",
      "/local/home/sarahgw/angsd/angsd/angsd sites index /local/home/sarahgw/WGS/SNPS/All_mylu/snps/NJNY50_sites_files/1393088_sites.txt\n",
      "/local/home/sarahgw/angsd/angsd/angsd sites index /local/home/sarahgw/WGS/SNPS/All_mylu/snps/NJNY50_sites_files/1016582_sites.txt\n",
      "/local/home/sarahgw/angsd/angsd/angsd sites index /local/home/sarahgw/WGS/SNPS/All_mylu/snps/NJNY50_sites_files/327735_sites.txt\n",
      "/local/home/sarahgw/angsd/angsd/angsd sites index /local/home/sarahgw/WGS/SNPS/All_mylu/snps/NJNY50_sites_files/571473_sites.txt\n",
      "/local/home/sarahgw/angsd/angsd/angsd sites index /local/home/sarahgw/WGS/SNPS/All_mylu/snps/NJNY50_sites_files/496908_sites.txt\n",
      "/local/home/sarahgw/angsd/angsd/angsd sites index /local/home/sarahgw/WGS/SNPS/All_mylu/snps/NJNY50_sites_files/395853_sites.txt\n",
      "/local/home/sarahgw/angsd/angsd/angsd sites index /local/home/sarahgw/WGS/SNPS/All_mylu/snps/NJNY50_sites_files/776142_sites.txt\n",
      "/local/home/sarahgw/angsd/angsd/angsd sites index /local/home/sarahgw/WGS/SNPS/All_mylu/snps/NJNY50_sites_files/496271_sites.txt\n",
      "/local/home/sarahgw/angsd/angsd/angsd sites index /local/home/sarahgw/WGS/SNPS/All_mylu/snps/NJNY50_sites_files/757320_sites.txt\n",
      "/local/home/sarahgw/angsd/angsd/angsd sites index /local/home/sarahgw/WGS/SNPS/All_mylu/snps/NJNY50_sites_files/296311_sites.txt\n",
      "/local/home/sarahgw/angsd/angsd/angsd sites index /local/home/sarahgw/WGS/SNPS/All_mylu/snps/NJNY50_sites_files/351023_sites.txt\n",
      "/local/home/sarahgw/angsd/angsd/angsd sites index /local/home/sarahgw/WGS/SNPS/All_mylu/snps/NJNY50_sites_files/65672_sites.txt\n",
      "/local/home/sarahgw/angsd/angsd/angsd sites index /local/home/sarahgw/WGS/SNPS/All_mylu/snps/NJNY50_sites_files/78673_sites.txt\n",
      "/local/home/sarahgw/angsd/angsd/angsd sites index /local/home/sarahgw/WGS/SNPS/All_mylu/snps/NJNY50_sites_files/554939_sites.txt\n",
      "/local/home/sarahgw/angsd/angsd/angsd sites index /local/home/sarahgw/WGS/SNPS/All_mylu/snps/NJNY50_sites_files/11932_sites.txt\n",
      "/local/home/sarahgw/angsd/angsd/angsd sites index /local/home/sarahgw/WGS/SNPS/All_mylu/snps/NJNY50_sites_files/554397_sites.txt\n",
      "/local/home/sarahgw/angsd/angsd/angsd sites index /local/home/sarahgw/WGS/SNPS/All_mylu/snps/NJNY50_sites_files/519559_sites.txt\n",
      "/local/home/sarahgw/angsd/angsd/angsd sites index /local/home/sarahgw/WGS/SNPS/All_mylu/snps/NJNY50_sites_files/111338_sites.txt\n",
      "/local/home/sarahgw/angsd/angsd/angsd sites index /local/home/sarahgw/WGS/SNPS/All_mylu/snps/NJNY50_sites_files/78589_sites.txt\n",
      "/local/home/sarahgw/angsd/angsd/angsd sites index /local/home/sarahgw/WGS/SNPS/All_mylu/snps/NJNY50_sites_files/326498_sites.txt\n",
      "/local/home/sarahgw/angsd/angsd/angsd sites index /local/home/sarahgw/WGS/SNPS/All_mylu/snps/NJNY50_sites_files/525210_sites.txt\n",
      "/local/home/sarahgw/angsd/angsd/angsd sites index /local/home/sarahgw/WGS/SNPS/All_mylu/snps/NJNY50_sites_files/607165_sites.txt\n",
      "/local/home/sarahgw/angsd/angsd/angsd sites index /local/home/sarahgw/WGS/SNPS/All_mylu/snps/NJNY50_sites_files/350547_sites.txt\n",
      "/local/home/sarahgw/angsd/angsd/angsd sites index /local/home/sarahgw/WGS/SNPS/All_mylu/snps/NJNY50_sites_files/252240_sites.txt\n",
      "/local/home/sarahgw/angsd/angsd/angsd sites index /local/home/sarahgw/WGS/SNPS/All_mylu/snps/NJNY50_sites_files/269822_sites.txt\n",
      "/local/home/sarahgw/angsd/angsd/angsd sites index /local/home/sarahgw/WGS/SNPS/All_mylu/snps/NJNY50_sites_files/181504_sites.txt\n",
      "/local/home/sarahgw/angsd/angsd/angsd sites index /local/home/sarahgw/WGS/SNPS/All_mylu/snps/NJNY50_sites_files/253124_sites.txt\n",
      "/local/home/sarahgw/angsd/angsd/angsd sites index /local/home/sarahgw/WGS/SNPS/All_mylu/snps/NJNY50_sites_files/168612_sites.txt\n",
      "/local/home/sarahgw/angsd/angsd/angsd sites index /local/home/sarahgw/WGS/SNPS/All_mylu/snps/NJNY50_sites_files/36691_sites.txt\n"
     ]
    },
    {
     "name": "stdout",
     "output_type": "stream",
     "text": [
      "/local/home/sarahgw/angsd/angsd/angsd sites index /local/home/sarahgw/WGS/SNPS/All_mylu/snps/NJNY50_sites_files/91034_sites.txt\n",
      "/local/home/sarahgw/angsd/angsd/angsd sites index /local/home/sarahgw/WGS/SNPS/All_mylu/snps/NJNY50_sites_files/55439_sites.txt\n",
      "/local/home/sarahgw/angsd/angsd/angsd sites index /local/home/sarahgw/WGS/SNPS/All_mylu/snps/NJNY50_sites_files/44020_sites.txt\n",
      "/local/home/sarahgw/angsd/angsd/angsd sites index /local/home/sarahgw/WGS/SNPS/All_mylu/snps/NJNY50_sites_files/25568_sites.txt\n",
      "/local/home/sarahgw/angsd/angsd/angsd sites index /local/home/sarahgw/WGS/SNPS/All_mylu/snps/NJNY50_sites_files/35416_sites.txt\n"
     ]
    }
   ],
   "source": [
    "import time\n",
    "import subprocess\n",
    "\n",
    "f = open(\"/local/home/sarahgw/WGS/SNPS/All_mylu/snps/njnyeu50_sites.txt\", 'r')\n",
    "for line in f:\n",
    "    args = line.split()\n",
    "    \n",
    "    # Make sites file\n",
    "    site = \"/local/home/sarahgw/WGS/SNPS/All_mylu/snps/NJNY50_sites_files/{}_sites.txt\".format(args[1])\n",
    "    o = open(site,'w')\n",
    "    o.write('\\t'.join(args))\n",
    "    o.close()\n",
    "        \n",
    "    # Make chromo file\n",
    "    chrom = \"/local/home/sarahgw/WGS/SNPS/All_mylu/snps/NJNY50_chrom_files/{}_chrom.txt\".format(args[1])\n",
    "    o = open(chrom, 'w')\n",
    "    o.write(args[0])\n",
    "    o.close()\n",
    "    \n",
    "    \n",
    "# Silly, but accomodates angsd's file create time check\n",
    "time.sleep(5)\n",
    "\n",
    "f = open(\"/local/home/sarahgw/WGS/SNPS/All_mylu/snps/njnyeu50_sites.txt\", 'r')\n",
    "for line in f:\n",
    "    args = line.split()\n",
    "        \n",
    "    # Index sites file\n",
    "    site = \"/local/home/sarahgw/WGS/SNPS/All_mylu/snps/NJNY50_sites_files/{}_sites.txt\".format(args[1])\n",
    "    cmd = \"/local/home/sarahgw/angsd/angsd/angsd sites index {}\".format(site)\n",
    "    print cmd\n",
    "    subprocess.call(cmd.split())"
   ]
  },
  {
   "cell_type": "code",
   "execution_count": null,
   "metadata": {
    "collapsed": true
   },
   "outputs": [],
   "source": [
    "python ~/WNS_Scripts/WNS_WGS/Scripts/run_angsd_bootstrapped.py NJNY50"
   ]
  },
  {
   "cell_type": "code",
   "execution_count": 6,
   "metadata": {
    "collapsed": true
   },
   "outputs": [],
   "source": [
    "!find /local/home/sarahgw/WGS/SNPS/All_mylu/mafs/NJNY50_Bootstrapped_mafs/ -name NJ_E_*.mafs.gz -exec gunzip {} +"
   ]
  },
  {
   "cell_type": "code",
   "execution_count": 7,
   "metadata": {
    "collapsed": true
   },
   "outputs": [],
   "source": [
    "!find /local/home/sarahgw/WGS/SNPS/All_mylu/mafs/NJNY50_Bootstrapped_mafs/ -name NJ_U_*.mafs.gz -exec gunzip {} +\n",
    "!find /local/home/sarahgw/WGS/SNPS/All_mylu/mafs/NJNY50_Bootstrapped_mafs/ -name NY_E_*.mafs.gz -exec gunzip {} +\n",
    "!find /local/home/sarahgw/WGS/SNPS/All_mylu/mafs/NJNY50_Bootstrapped_mafs/ -name NY_U_*.mafs.gz -exec gunzip {} +"
   ]
  },
  {
   "cell_type": "code",
   "execution_count": null,
   "metadata": {
    "collapsed": true
   },
   "outputs": [],
   "source": [
    "def combine_mafs(snp, site, exposed):\n",
    "    \n",
    "    filename = '{}_{}_{}'.format(site, exposed, snp)\n",
    "    #print filename\n",
    "    output_file = open('/local/home/sarahgw/WGS/SNPS/All_mylu/mafs/NJNY50_Bootstrapped_mafs/All_bootstrapped_mafs/{}.mafs'.format(filename), 'w')\n",
    "    output_file.write('SNP\\tMAF\\tnInd\\n')\n",
    "    \n",
    "    for i in range(100):\n",
    "        mafs_file = open('/local/home/sarahgw/WGS/SNPS/All_mylu/mafs/NJNY50_Bootstrapped_mafs/{}_{}.mafs'.format(filename, i+1), 'r')\n",
    "        lines = mafs_file.readlines()\n",
    "        data = [x.strip() for x in lines[1].split('\\t')]\n",
    "        output_file.write('{}\\t{}\\t{}\\n'.format(data[1], data[5], data[7]))\n",
    "        mafs_file.close()\n",
    "\n",
    "files = listdir('/local/home/sarahgw/WGS/SNPS/All_mylu/mafs/FiltFiles/NJNY50_SNP_Depth/')\n",
    "for i in range(len(files)):\n",
    "    f = files[i]\n",
    "    for site in ['NJ', 'NY']:\n",
    "        for exposed in ['U', 'E']:\n",
    "            combine_mafs(f, site, exposed)"
   ]
  },
  {
   "cell_type": "code",
   "execution_count": 16,
   "metadata": {},
   "outputs": [
    {
     "name": "stdout",
     "output_type": "stream",
     "text": [
      "0: site_mafs 2123897\n",
      "1: site_mafs 292619\n",
      "2: site_mafs 1132709\n",
      "3: site_mafs 1229639\n",
      "4: site_mafs 626424\n",
      "5: site_mafs 16057073\n",
      "6: site_mafs 269822\n",
      "7: site_mafs 8414808\n",
      "8: site_mafs 463033\n",
      "9: site_mafs 12414629\n",
      "10: site_mafs 5007572\n",
      "11: site_mafs 18593089\n",
      "12: site_mafs 1101134\n",
      "13: site_mafs 7410822\n",
      "14: site_mafs 352010\n",
      "15: site_mafs 1677209\n",
      "16: site_mafs 1339190\n",
      "17: site_mafs 2542339\n",
      "18: site_mafs 1628937\n",
      "19: site_mafs 1039079\n",
      "20: site_mafs 507544\n",
      "21: site_mafs 1355202\n",
      "22: site_mafs 116518\n",
      "23: site_mafs 127515\n",
      "24: site_mafs 3817417\n",
      "25: site_mafs 4401152\n",
      "26: site_mafs 3445677\n",
      "27: site_mafs 10091492\n",
      "28: site_mafs 1866953\n",
      "29: site_mafs 46534125\n",
      "30: site_mafs 676697\n",
      "31: site_mafs 26665811\n",
      "32: site_mafs 1183154\n",
      "33: site_mafs 17022175\n",
      "34: site_mafs 771590\n",
      "35: site_mafs 815777\n",
      "36: site_mafs 160970\n",
      "37: site_mafs 10304328\n",
      "38: site_mafs 2091046\n",
      "39: site_mafs 99324\n",
      "40: site_mafs 2323568\n",
      "41: site_mafs 44020\n",
      "42: site_mafs 129668\n",
      "43: site_mafs 4442517\n",
      "44: site_mafs 11429827\n",
      "45: site_mafs 2311666\n",
      "46: site_mafs 2610488\n",
      "47: site_mafs 5001897\n",
      "48: site_mafs 6571701\n",
      "49: site_mafs 731642\n",
      "50: site_mafs 1763064\n",
      "51: site_mafs 2174755\n",
      "52: site_mafs 425088\n",
      "53: site_mafs 269102\n",
      "54: site_mafs 5556309\n",
      "55: site_mafs 8716095\n",
      "56: site_mafs 1200485\n",
      "57: site_mafs 525210\n",
      "58: site_mafs 1590004\n",
      "59: site_mafs 2407788\n",
      "60: site_mafs 2240802\n",
      "61: site_mafs 4317523\n",
      "62: site_mafs 12179628\n",
      "63: site_mafs 180654\n",
      "64: site_mafs 33884819\n",
      "65: site_mafs 4882731\n",
      "66: site_mafs 3462955\n",
      "67: site_mafs 12179638\n",
      "68: site_mafs 509419\n",
      "69: site_mafs 1824563\n",
      "70: site_mafs 7915489\n",
      "71: site_mafs 2585\n",
      "72: site_mafs 676714\n",
      "73: site_mafs 4280544\n",
      "74: site_mafs 8870076\n",
      "75: site_mafs 1241213\n",
      "76: site_mafs 127906\n",
      "77: site_mafs 1953462\n",
      "78: site_mafs 2565317\n",
      "79: site_mafs 2500270\n",
      "80: site_mafs 9663\n",
      "81: site_mafs 51542790\n",
      "82: site_mafs 359293\n",
      "83: site_mafs 3484190\n",
      "84: site_mafs 2495400\n",
      "85: site_mafs 994874\n",
      "86: site_mafs 842583\n",
      "87: site_mafs 1149655\n",
      "88: site_mafs 6643407\n",
      "89: site_mafs 10732143\n",
      "90: site_mafs 2586140\n",
      "91: site_mafs 2782729\n",
      "92: site_mafs 6594918\n",
      "93: site_mafs 1805799\n",
      "94: site_mafs 5661177\n",
      "95: site_mafs 7041967\n",
      "96: site_mafs 2731379\n",
      "97: site_mafs 29714\n",
      "98: site_mafs 1437479\n",
      "99: site_mafs 1445876\n",
      "100: site_mafs 78589\n",
      "101: site_mafs 677530\n",
      "102: site_mafs 6065339\n",
      "103: site_mafs 1923876\n",
      "104: site_mafs 936711\n",
      "105: site_mafs 7594948\n",
      "106: site_mafs 488060\n",
      "107: site_mafs 472830\n",
      "108: site_mafs 1175378\n",
      "109: site_mafs 13623092\n",
      "110: site_mafs 3414612\n",
      "111: site_mafs 6872068\n",
      "112: site_mafs 5837017\n",
      "113: site_mafs 708895\n",
      "114: site_mafs 100454\n",
      "115: site_mafs 78805\n",
      "116: site_mafs 639733\n",
      "117: site_mafs 2345078\n",
      "118: site_mafs 2909820\n",
      "119: site_mafs 2585575\n",
      "120: site_mafs 1303193\n",
      "121: site_mafs 1081716\n",
      "122: site_mafs 168612\n",
      "123: site_mafs 2144669\n",
      "124: site_mafs 2386302\n",
      "125: site_mafs 13104638\n",
      "126: site_mafs 8292792\n",
      "127: site_mafs 2577613\n",
      "128: site_mafs 4091453\n",
      "129: site_mafs 1396110\n",
      "130: site_mafs 1185628\n",
      "131: site_mafs 2581\n",
      "132: site_mafs 1393088\n",
      "133: site_mafs 173352\n",
      "134: site_mafs 1710776\n",
      "135: site_mafs 1361934\n",
      "136: site_mafs 943473\n",
      "137: site_mafs 3271609\n",
      "138: site_mafs 3169641\n",
      "139: site_mafs 24725252\n",
      "140: site_mafs 612532\n",
      "141: site_mafs 1016582\n",
      "142: site_mafs 1184969\n",
      "143: site_mafs 70883\n",
      "144: site_mafs 8738393\n",
      "145: site_mafs 2866833\n",
      "146: site_mafs 4380147\n",
      "147: site_mafs 2255691\n",
      "148: site_mafs 2966433\n",
      "149: site_mafs 2139984\n",
      "150: site_mafs 3463014\n",
      "151: site_mafs 94959\n",
      "152: site_mafs 17831035\n",
      "153: site_mafs 1763085\n",
      "154: site_mafs 177173\n",
      "155: site_mafs 3142851\n",
      "156: site_mafs 3938005\n",
      "157: site_mafs 4607996\n",
      "158: site_mafs 1937739\n",
      "159: site_mafs 1632128\n",
      "160: site_mafs 54829\n",
      "161: site_mafs 936584\n",
      "162: site_mafs 2943933\n",
      "163: site_mafs 2098521\n",
      "164: site_mafs 330969\n",
      "165: site_mafs 2496163\n",
      "166: site_mafs 8857737\n",
      "167: site_mafs 463102\n",
      "168: site_mafs 12063266\n",
      "169: site_mafs 5027533\n",
      "170: site_mafs 211193\n",
      "171: site_mafs 14617697\n",
      "172: site_mafs 554939\n",
      "173: site_mafs 514067\n",
      "174: site_mafs 9041952\n",
      "175: site_mafs 6687285\n",
      "176: site_mafs 52446764\n",
      "177: site_mafs 5707870\n",
      "178: site_mafs 13929495\n",
      "179: site_mafs 9304948\n",
      "180: site_mafs 1965490\n",
      "181: site_mafs 12125290\n",
      "182: site_mafs 689293\n",
      "183: site_mafs 242575\n",
      "184: site_mafs 270393\n",
      "185: site_mafs 300331\n",
      "186: site_mafs 351023\n",
      "187: site_mafs 4072696\n",
      "188: site_mafs 519559\n",
      "189: site_mafs 641734\n",
      "190: site_mafs 1501267\n",
      "191: site_mafs 440883\n",
      "192: site_mafs 5267344\n",
      "193: site_mafs 8414802\n",
      "194: site_mafs 2107867\n",
      "195: site_mafs 1762975\n",
      "196: site_mafs 2982197\n",
      "197: site_mafs 11932\n",
      "198: site_mafs 17022182\n",
      "199: site_mafs 3311579\n",
      "200: site_mafs 914805\n",
      "201: site_mafs 233293\n",
      "202: site_mafs 965\n",
      "203: site_mafs 863525\n",
      "204: site_mafs 112724\n",
      "205: site_mafs 6986210\n",
      "206: site_mafs 282844\n",
      "207: site_mafs 1916925\n",
      "208: site_mafs 536074\n",
      "209: site_mafs 309894\n",
      "210: site_mafs 29524221\n",
      "211: site_mafs 149463\n",
      "212: site_mafs 13173013\n",
      "213: site_mafs 112461\n",
      "214: site_mafs 581616\n",
      "215: site_mafs 3561000\n",
      "216: site_mafs 1767654\n",
      "217: site_mafs 3229647\n",
      "218: site_mafs 25568\n",
      "219: site_mafs 2978600\n",
      "220: site_mafs 14993622\n",
      "221: site_mafs 10614287\n",
      "222: site_mafs 1091588\n",
      "223: site_mafs 5735892\n",
      "224: site_mafs 2510949\n",
      "225: site_mafs 496271\n",
      "226: site_mafs 12179626\n",
      "227: site_mafs 6065658\n",
      "228: site_mafs 26061651\n",
      "229: site_mafs 847063\n",
      "230: site_mafs 641411\n",
      "231: site_mafs 4817346\n",
      "232: site_mafs 6653243\n",
      "233: site_mafs 6252\n",
      "234: site_mafs 446985\n",
      "235: site_mafs 2488986\n",
      "236: site_mafs 2083345\n",
      "237: site_mafs 1105472\n",
      "238: site_mafs 91034\n",
      "239: site_mafs 11106\n",
      "240: site_mafs 266596\n",
      "241: site_mafs 2353909\n",
      "242: site_mafs 360899\n",
      "243: site_mafs 78673\n",
      "244: site_mafs 384336\n",
      "245: site_mafs 507543\n",
      "246: site_mafs 6986220\n",
      "247: site_mafs 365354\n",
      "248: site_mafs 2985731\n",
      "249: site_mafs 401357\n",
      "250: site_mafs 6287274\n",
      "251: site_mafs 109273\n",
      "252: site_mafs 677425\n",
      "253: site_mafs 665407\n",
      "254: site_mafs 533872\n",
      "255: site_mafs 4476403\n",
      "256: site_mafs 2578255\n",
      "257: site_mafs 11158563\n",
      "258: site_mafs 3216149\n",
      "259: site_mafs 463041\n",
      "260: site_mafs 1998105\n",
      "261: site_mafs 350547\n",
      "262: site_mafs 1253176\n",
      "263: site_mafs 1883804\n",
      "264: site_mafs 2725008\n",
      "265: site_mafs 4442556\n",
      "266: site_mafs 305100\n",
      "267: site_mafs 488972\n",
      "268: site_mafs 2966452\n",
      "269: site_mafs 375369\n",
      "270: site_mafs 2311737\n",
      "271: site_mafs 6730339\n",
      "272: site_mafs 285068\n",
      "273: site_mafs 1746069\n",
      "274: site_mafs 291550\n",
      "275: site_mafs 1302698\n",
      "276: site_mafs 111338\n",
      "277: site_mafs 5178577\n",
      "278: site_mafs 293372\n",
      "279: site_mafs 3647655\n",
      "280: site_mafs 2687423\n",
      "281: site_mafs 2603829\n",
      "282: site_mafs 3004686\n",
      "283: site_mafs 2489981\n",
      "284: site_mafs 617826\n",
      "285: site_mafs 770577\n",
      "286: site_mafs 395853\n",
      "287: site_mafs 16777837\n",
      "288: site_mafs 117072\n",
      "289: site_mafs 463936\n",
      "290: site_mafs 2043530\n",
      "291: site_mafs 4550108\n",
      "292: site_mafs 5086919\n",
      "293: site_mafs 5481595\n",
      "294: site_mafs 1803749\n",
      "295: site_mafs 11073205\n",
      "296: site_mafs 13680150\n",
      "297: site_mafs 10345656\n",
      "298: site_mafs 4479568\n",
      "299: site_mafs 8870075\n",
      "300: site_mafs 22649683\n",
      "301: site_mafs 936722\n",
      "302: site_mafs 617822\n",
      "303: site_mafs 2268836\n",
      "304: site_mafs 327735\n",
      "305: site_mafs 59533082\n",
      "306: site_mafs 34577793\n",
      "307: site_mafs 13104643\n",
      "308: site_mafs 593002\n",
      "309: site_mafs 361102\n",
      "310: site_mafs 55439\n",
      "311: site_mafs 12125293\n",
      "312: site_mafs 15275365\n",
      "313: site_mafs 65672\n",
      "314: site_mafs 60325\n",
      "315: site_mafs 931288\n",
      "316: site_mafs 326498\n",
      "317: site_mafs 1956978\n",
      "318: site_mafs 3988038\n",
      "319: site_mafs 1894828\n",
      "320: site_mafs 829766\n",
      "321: site_mafs 2187186\n",
      "322: site_mafs 8584257\n",
      "323: site_mafs 757468\n",
      "324: site_mafs 10152444\n",
      "325: site_mafs 1036937\n",
      "326: site_mafs 136209\n",
      "327: site_mafs 42824\n",
      "328: site_mafs 385287\n",
      "329: site_mafs 787824\n",
      "330: site_mafs 4559005\n",
      "331: site_mafs 16029398\n",
      "332: site_mafs 5353506\n",
      "333: site_mafs 84904\n",
      "334: site_mafs 64000\n",
      "335: site_mafs 830886\n",
      "336: site_mafs 2330539\n",
      "337: site_mafs 2091074\n",
      "338: site_mafs 15245842\n",
      "339: site_mafs 662283\n",
      "340: site_mafs 318418\n",
      "341: site_mafs 3004846\n",
      "342: site_mafs 38456248\n",
      "343: site_mafs 194928\n",
      "344: site_mafs 2586\n",
      "345: site_mafs 60326\n",
      "346: site_mafs 2056629\n",
      "347: site_mafs 1661413\n",
      "348: site_mafs 776142\n",
      "349: site_mafs 22532056\n",
      "350: site_mafs 2966430\n",
      "351: site_mafs 347545\n",
      "352: site_mafs 2696146\n",
      "353: site_mafs 17022192\n",
      "354: site_mafs 2414078\n",
      "355: site_mafs 2759236\n",
      "356: site_mafs 253124\n",
      "357: site_mafs 916661\n",
      "358: site_mafs 1108550\n",
      "359: site_mafs 735347\n",
      "360: site_mafs 181504\n",
      "361: site_mafs 180278\n",
      "362: site_mafs 442972\n",
      "363: site_mafs 6728503\n",
      "364: site_mafs 13607197\n",
      "365: site_mafs 1246200\n",
      "366: site_mafs 684280\n",
      "367: site_mafs 134612\n",
      "368: site_mafs 1478437\n",
      "369: site_mafs 183365\n",
      "370: site_mafs 3907289\n",
      "371: site_mafs 1874405\n",
      "372: site_mafs 1012308\n",
      "373: site_mafs 2334052\n",
      "374: site_mafs 2190450\n",
      "375: site_mafs 5802759\n",
      "376: site_mafs 29962249\n",
      "377: site_mafs 16839644\n",
      "378: site_mafs 1303809\n",
      "379: site_mafs 2002301\n",
      "380: site_mafs 571473\n",
      "381: site_mafs 607165\n",
      "382: site_mafs 6218854\n",
      "383: site_mafs 4516969\n",
      "384: site_mafs 753145\n",
      "385: site_mafs 12125292\n",
      "386: site_mafs 757320\n",
      "387: site_mafs 5038807\n",
      "388: site_mafs 1338699\n",
      "389: site_mafs 16214446\n",
      "390: site_mafs 7279902\n",
      "391: site_mafs 3921142\n",
      "392: site_mafs 183883\n",
      "393: site_mafs 4399736\n",
      "394: site_mafs 2687402\n",
      "395: site_mafs 2575249\n",
      "396: site_mafs 943392\n",
      "397: site_mafs 3320080\n",
      "398: site_mafs 2966592\n",
      "399: site_mafs 2586279\n",
      "400: site_mafs 1834960\n",
      "401: site_mafs 941095\n",
      "402: site_mafs 4317517\n",
      "403: site_mafs 1213703\n",
      "404: site_mafs 1266567\n",
      "405: site_mafs 2841776\n",
      "406: site_mafs 2201321\n",
      "407: site_mafs 3065399\n",
      "408: site_mafs 1939701\n",
      "409: site_mafs 16029384\n",
      "410: site_mafs 1484586\n",
      "411: site_mafs 7965498\n",
      "412: site_mafs 2387422\n",
      "413: site_mafs 260614\n",
      "414: site_mafs 35416\n",
      "415: site_mafs 2185251\n",
      "416: site_mafs 470241\n",
      "417: site_mafs 10443545\n",
      "418: site_mafs 3960841\n",
      "419: site_mafs 1217720\n",
      "420: site_mafs 1038118\n",
      "421: site_mafs 344344\n",
      "422: site_mafs 3522450\n",
      "423: site_mafs 1294919\n",
      "424: site_mafs 496908\n",
      "425: site_mafs 3508435\n",
      "426: site_mafs 8026544\n",
      "427: site_mafs 2304985\n",
      "428: site_mafs 7390034\n",
      "429: site_mafs 12798025\n",
      "430: site_mafs 1790543\n",
      "431: site_mafs 51542832\n",
      "432: site_mafs 554397\n",
      "433: site_mafs 252240\n",
      "434: site_mafs 1319091\n",
      "435: site_mafs 15974771\n",
      "436: site_mafs 6341330\n",
      "437: site_mafs 64693\n",
      "438: site_mafs 8507307\n",
      "439: site_mafs 2091718\n",
      "440: site_mafs 1478680\n",
      "441: site_mafs 2444879\n",
      "442: site_mafs 4124241\n",
      "443: site_mafs 7204887\n",
      "444: site_mafs 2425525\n",
      "445: site_mafs 593841\n",
      "446: site_mafs 2824889\n",
      "447: site_mafs 4614837\n",
      "448: site_mafs 696106\n",
      "449: site_mafs 36691\n",
      "450: site_mafs 4232208\n",
      "451: site_mafs 874294\n",
      "452: site_mafs 3396835\n",
      "453: site_mafs 351844\n",
      "454: site_mafs 10443550\n",
      "455: site_mafs 296311\n",
      "456: site_mafs 529650\n",
      "457: site_mafs 17037969\n",
      "458: site_mafs 2602394\n",
      "459: site_mafs 3296417\n",
      "460: site_mafs 515071\n",
      "461: site_mafs 2691860\n"
     ]
    }
   ],
   "source": [
    "from os import listdir\n",
    "\n",
    "def site_mafs(filename):\n",
    "    # put e and u together for each site\n",
    "    for i in \"NJ\", \"NY\":\n",
    "        output_file = open('/local/home/sarahgw/WGS/SNPS/All_mylu/mafs/NJNY50_Bootstrapped_mafs/All_bootstrapped_mafs/Combined_mafs/{}_{}.mafs'.format(i, filename), 'w')\n",
    "        output_file.write('SNP'+'\\t'+'MAF_U'+'\\t'+'MAF_E'+'\\t'+'nInd_U'+'\\t'+'nInd_E'+'\\n')\n",
    "        e_file = open('/local/home/sarahgw/WGS/SNPS/All_mylu/mafs/NJNY50_Bootstrapped_mafs/All_bootstrapped_mafs/{}_E_{}.mafs'.format(i, filename), 'r')\n",
    "        u_file = open('/local/home/sarahgw/WGS/SNPS/All_mylu/mafs/NJNY50_Bootstrapped_mafs/All_bootstrapped_mafs/{}_U_{}.mafs'.format(i, filename), 'r')\n",
    "        eLine = e_file.readline()\n",
    "        uLine = u_file.readline()\n",
    "        while True:\n",
    "            eLine = e_file.readline()\n",
    "            uLine = u_file.readline()\n",
    "            if not eLine or not uLine:\n",
    "                break\n",
    "            eGroups=eLine.split('\\t')\n",
    "            uGroups=uLine.split('\\t')\n",
    "            lineplus=uGroups[0]+'\\t'+uGroups[1]+'\\t'+eGroups[1]+'\\t'+uGroups[2].strip('\\n')+'\\t'+eGroups[2]\n",
    "            output_file.write(lineplus) \n",
    "        e_file.close()\n",
    "        u_file.close()\n",
    "\n",
    "    \n",
    "files = listdir('/local/home/sarahgw/WGS/SNPS/All_mylu/mafs/FiltFiles/NJNY50_SNP_Depth')\n",
    "for i in range(len(files)):\n",
    "    f = files[i]\n",
    "    print \"{}: site_mafs {}\".format(i, f)\n",
    "    site_mafs(f)  "
   ]
  },
  {
   "cell_type": "markdown",
   "metadata": {},
   "source": [
    "## run with njny >0.46<0.5"
   ]
  },
  {
   "cell_type": "code",
   "execution_count": null,
   "metadata": {
    "collapsed": true
   },
   "outputs": [],
   "source": [
    "sed 's/\\\"//g' /local/home/sarahgw/WGS/SNPS/All_mylu/snps/njnyeu46.csv| cut -f2-5 -d \",\"| sed 's/,/    /g'> ~/WGS/SNPS/All_mylu/snps/njnyeu46_sites.txt"
   ]
  },
  {
   "cell_type": "code",
   "execution_count": 2,
   "metadata": {
    "collapsed": true
   },
   "outputs": [],
   "source": [
    "!cut -f1-2 /local/home/sarahgw/WGS/SNPS/All_mylu/snps/njnyeu46_sites.txt |  awk -v OFS='\\t' '{print $1, ($2-1), $2}'> /local/home/sarahgw/WGS/SNPS/All_mylu/snps/njnyeu46_sites.bed "
   ]
  },
  {
   "cell_type": "code",
   "execution_count": null,
   "metadata": {
    "collapsed": true
   },
   "outputs": [],
   "source": [
    "samtools mpileup -b /local/home/sarahgw/WGS/Sequences/filelists/NJNY.filelist -l /local/home/sarahgw/WGS/SNPS/All_mylu/snps/njnyeu46_sites.bed > /local/home/sarahgw/WGS/SNPS/All_mylu/mafs/NJNY46_Depth.txt"
   ]
  },
  {
   "cell_type": "code",
   "execution_count": 1,
   "metadata": {
    "collapsed": true
   },
   "outputs": [],
   "source": [
    "!mkdir ~/WGS/SNPS/All_mylu/mafs/FiltFiles/NJNY46_SNPS_Depth\n",
    "!mkdir ~/WGS/SNPS/All_mylu/mafs/FiltFiles/NJNY46_Site_SNPS_Data "
   ]
  },
  {
   "cell_type": "code",
   "execution_count": null,
   "metadata": {
    "collapsed": true
   },
   "outputs": [],
   "source": [
    "for i in `seq 4 3 255`; do awk -v OFS='\\t' -v a=\"$i\" '{print $1, $2, $a}' /local/home/sarahgw/WGS/SNPS/All_mylu/mafs/NJNY46_Depth.txt; done | awk '{print>$2}' "
   ]
  },
  {
   "cell_type": "code",
   "execution_count": null,
   "metadata": {
    "collapsed": true
   },
   "outputs": [],
   "source": [
    "for file in $(ls); do paste \"$file\" /local/home/sarahgw/WGS/Sequences/filelists/NJNY.filelist |awk '(NR>1) && ($3 > 0 ) '| awk '{print $4}'|awk '{print > \"/local/home/sarahgw/WGS/SNPS/All_mylu/mafs/FiltFiles/NJNY46_Site_SNPS_Data/\"substr ($0,1,5)'$file'}'; done"
   ]
  },
  {
   "cell_type": "code",
   "execution_count": 7,
   "metadata": {
    "collapsed": true
   },
   "outputs": [],
   "source": [
    "!mkdir /local/home/sarahgw/WGS/SNPS/All_mylu/mafs/FiltFiles/NJNY46_Bootstrapped_Filelists/"
   ]
  },
  {
   "cell_type": "code",
   "execution_count": 8,
   "metadata": {
    "collapsed": true
   },
   "outputs": [],
   "source": [
    "from os import listdir\n",
    "import numpy as np\n",
    "def run_bs(filename):\n",
    "    f=open('/local/home/sarahgw/WGS/SNPS/All_mylu/mafs/FiltFiles/NJNY46_Site_SNPS_Data/{}'.format(filename), 'r')\n",
    "    lines = [line.rstrip('\\n') for line in f]\n",
    "    count = len(lines)\n",
    "    for i in range(100):\n",
    "        boot=np.random.choice(lines, count)\n",
    "        boot1=\"\\n\".join(boot)\n",
    "        o=open('/local/home/sarahgw/WGS/SNPS/All_mylu/mafs/FiltFiles/NJNY46_Bootstrapped_Filelists/{}_{}'.format(filename, i+1), 'w')\n",
    "        o.write(boot1)\n",
    "files = listdir('/local/home/sarahgw/WGS/SNPS/All_mylu/mafs/FiltFiles/NJNY46_Site_SNPS_Data/')\n",
    "for i in range(len(files)):\n",
    "    f = files[i]\n",
    "    run_bs(f)  "
   ]
  },
  {
   "cell_type": "code",
   "execution_count": 4,
   "metadata": {
    "collapsed": true
   },
   "outputs": [],
   "source": [
    "!mkdir ~/WGS/SNPS/All_mylu/snps/NJNY46_sites_files\n",
    "!mkdir ~/WGS/SNPS/All_mylu/snps/NJNY46_chrom_files"
   ]
  },
  {
   "cell_type": "code",
   "execution_count": 5,
   "metadata": {},
   "outputs": [
    {
     "name": "stdout",
     "output_type": "stream",
     "text": [
      "/local/home/sarahgw/angsd/angsd/angsd sites index /local/home/sarahgw/WGS/SNPS/All_mylu/snps/NJNY46_sites_files/Position_sites.txt\n",
      "/local/home/sarahgw/angsd/angsd/angsd sites index /local/home/sarahgw/WGS/SNPS/All_mylu/snps/NJNY46_sites_files/38810_sites.txt\n",
      "/local/home/sarahgw/angsd/angsd/angsd sites index /local/home/sarahgw/WGS/SNPS/All_mylu/snps/NJNY46_sites_files/3987_sites.txt\n",
      "/local/home/sarahgw/angsd/angsd/angsd sites index /local/home/sarahgw/WGS/SNPS/All_mylu/snps/NJNY46_sites_files/11555591_sites.txt\n",
      "/local/home/sarahgw/angsd/angsd/angsd sites index /local/home/sarahgw/WGS/SNPS/All_mylu/snps/NJNY46_sites_files/14380425_sites.txt\n",
      "/local/home/sarahgw/angsd/angsd/angsd sites index /local/home/sarahgw/WGS/SNPS/All_mylu/snps/NJNY46_sites_files/16332509_sites.txt\n",
      "/local/home/sarahgw/angsd/angsd/angsd sites index /local/home/sarahgw/WGS/SNPS/All_mylu/snps/NJNY46_sites_files/25988574_sites.txt\n",
      "/local/home/sarahgw/angsd/angsd/angsd sites index /local/home/sarahgw/WGS/SNPS/All_mylu/snps/NJNY46_sites_files/29456087_sites.txt\n",
      "/local/home/sarahgw/angsd/angsd/angsd sites index /local/home/sarahgw/WGS/SNPS/All_mylu/snps/NJNY46_sites_files/30027715_sites.txt\n",
      "/local/home/sarahgw/angsd/angsd/angsd sites index /local/home/sarahgw/WGS/SNPS/All_mylu/snps/NJNY46_sites_files/38027962_sites.txt\n",
      "/local/home/sarahgw/angsd/angsd/angsd sites index /local/home/sarahgw/WGS/SNPS/All_mylu/snps/NJNY46_sites_files/38090371_sites.txt\n",
      "/local/home/sarahgw/angsd/angsd/angsd sites index /local/home/sarahgw/WGS/SNPS/All_mylu/snps/NJNY46_sites_files/46032264_sites.txt\n",
      "/local/home/sarahgw/angsd/angsd/angsd sites index /local/home/sarahgw/WGS/SNPS/All_mylu/snps/NJNY46_sites_files/48749184_sites.txt\n",
      "/local/home/sarahgw/angsd/angsd/angsd sites index /local/home/sarahgw/WGS/SNPS/All_mylu/snps/NJNY46_sites_files/49056503_sites.txt\n",
      "/local/home/sarahgw/angsd/angsd/angsd sites index /local/home/sarahgw/WGS/SNPS/All_mylu/snps/NJNY46_sites_files/50700849_sites.txt\n",
      "/local/home/sarahgw/angsd/angsd/angsd sites index /local/home/sarahgw/WGS/SNPS/All_mylu/snps/NJNY46_sites_files/58039620_sites.txt\n",
      "/local/home/sarahgw/angsd/angsd/angsd sites index /local/home/sarahgw/WGS/SNPS/All_mylu/snps/NJNY46_sites_files/60098498_sites.txt\n",
      "/local/home/sarahgw/angsd/angsd/angsd sites index /local/home/sarahgw/WGS/SNPS/All_mylu/snps/NJNY46_sites_files/61280829_sites.txt\n",
      "/local/home/sarahgw/angsd/angsd/angsd sites index /local/home/sarahgw/WGS/SNPS/All_mylu/snps/NJNY46_sites_files/3635487_sites.txt\n",
      "/local/home/sarahgw/angsd/angsd/angsd sites index /local/home/sarahgw/WGS/SNPS/All_mylu/snps/NJNY46_sites_files/5587364_sites.txt\n",
      "/local/home/sarahgw/angsd/angsd/angsd sites index /local/home/sarahgw/WGS/SNPS/All_mylu/snps/NJNY46_sites_files/11773942_sites.txt\n",
      "/local/home/sarahgw/angsd/angsd/angsd sites index /local/home/sarahgw/WGS/SNPS/All_mylu/snps/NJNY46_sites_files/23676961_sites.txt\n",
      "/local/home/sarahgw/angsd/angsd/angsd sites index /local/home/sarahgw/WGS/SNPS/All_mylu/snps/NJNY46_sites_files/29007713_sites.txt\n",
      "/local/home/sarahgw/angsd/angsd/angsd sites index /local/home/sarahgw/WGS/SNPS/All_mylu/snps/NJNY46_sites_files/29988253_sites.txt\n",
      "/local/home/sarahgw/angsd/angsd/angsd sites index /local/home/sarahgw/WGS/SNPS/All_mylu/snps/NJNY46_sites_files/31221541_sites.txt\n",
      "/local/home/sarahgw/angsd/angsd/angsd sites index /local/home/sarahgw/WGS/SNPS/All_mylu/snps/NJNY46_sites_files/32415138_sites.txt\n",
      "/local/home/sarahgw/angsd/angsd/angsd sites index /local/home/sarahgw/WGS/SNPS/All_mylu/snps/NJNY46_sites_files/39149559_sites.txt\n",
      "/local/home/sarahgw/angsd/angsd/angsd sites index /local/home/sarahgw/WGS/SNPS/All_mylu/snps/NJNY46_sites_files/6956973_sites.txt\n",
      "/local/home/sarahgw/angsd/angsd/angsd sites index /local/home/sarahgw/WGS/SNPS/All_mylu/snps/NJNY46_sites_files/18251906_sites.txt\n",
      "/local/home/sarahgw/angsd/angsd/angsd sites index /local/home/sarahgw/WGS/SNPS/All_mylu/snps/NJNY46_sites_files/21756503_sites.txt\n",
      "/local/home/sarahgw/angsd/angsd/angsd sites index /local/home/sarahgw/WGS/SNPS/All_mylu/snps/NJNY46_sites_files/1005448_sites.txt\n",
      "/local/home/sarahgw/angsd/angsd/angsd sites index /local/home/sarahgw/WGS/SNPS/All_mylu/snps/NJNY46_sites_files/1729803_sites.txt\n",
      "/local/home/sarahgw/angsd/angsd/angsd sites index /local/home/sarahgw/WGS/SNPS/All_mylu/snps/NJNY46_sites_files/3462549_sites.txt\n",
      "/local/home/sarahgw/angsd/angsd/angsd sites index /local/home/sarahgw/WGS/SNPS/All_mylu/snps/NJNY46_sites_files/7957321_sites.txt\n",
      "/local/home/sarahgw/angsd/angsd/angsd sites index /local/home/sarahgw/WGS/SNPS/All_mylu/snps/NJNY46_sites_files/9401704_sites.txt\n",
      "/local/home/sarahgw/angsd/angsd/angsd sites index /local/home/sarahgw/WGS/SNPS/All_mylu/snps/NJNY46_sites_files/12763354_sites.txt\n",
      "/local/home/sarahgw/angsd/angsd/angsd sites index /local/home/sarahgw/WGS/SNPS/All_mylu/snps/NJNY46_sites_files/13932060_sites.txt\n",
      "/local/home/sarahgw/angsd/angsd/angsd sites index /local/home/sarahgw/WGS/SNPS/All_mylu/snps/NJNY46_sites_files/21419010_sites.txt\n",
      "/local/home/sarahgw/angsd/angsd/angsd sites index /local/home/sarahgw/WGS/SNPS/All_mylu/snps/NJNY46_sites_files/25025008_sites.txt\n",
      "/local/home/sarahgw/angsd/angsd/angsd sites index /local/home/sarahgw/WGS/SNPS/All_mylu/snps/NJNY46_sites_files/29902554_sites.txt\n",
      "/local/home/sarahgw/angsd/angsd/angsd sites index /local/home/sarahgw/WGS/SNPS/All_mylu/snps/NJNY46_sites_files/3952493_sites.txt\n",
      "/local/home/sarahgw/angsd/angsd/angsd sites index /local/home/sarahgw/WGS/SNPS/All_mylu/snps/NJNY46_sites_files/2375212_sites.txt\n",
      "/local/home/sarahgw/angsd/angsd/angsd sites index /local/home/sarahgw/WGS/SNPS/All_mylu/snps/NJNY46_sites_files/2789841_sites.txt\n",
      "/local/home/sarahgw/angsd/angsd/angsd sites index /local/home/sarahgw/WGS/SNPS/All_mylu/snps/NJNY46_sites_files/6809675_sites.txt\n",
      "/local/home/sarahgw/angsd/angsd/angsd sites index /local/home/sarahgw/WGS/SNPS/All_mylu/snps/NJNY46_sites_files/8716103_sites.txt\n",
      "/local/home/sarahgw/angsd/angsd/angsd sites index /local/home/sarahgw/WGS/SNPS/All_mylu/snps/NJNY46_sites_files/11427074_sites.txt\n",
      "/local/home/sarahgw/angsd/angsd/angsd sites index /local/home/sarahgw/WGS/SNPS/All_mylu/snps/NJNY46_sites_files/18467821_sites.txt\n",
      "/local/home/sarahgw/angsd/angsd/angsd sites index /local/home/sarahgw/WGS/SNPS/All_mylu/snps/NJNY46_sites_files/6218627_sites.txt\n",
      "/local/home/sarahgw/angsd/angsd/angsd sites index /local/home/sarahgw/WGS/SNPS/All_mylu/snps/NJNY46_sites_files/4955695_sites.txt\n",
      "/local/home/sarahgw/angsd/angsd/angsd sites index /local/home/sarahgw/WGS/SNPS/All_mylu/snps/NJNY46_sites_files/2930414_sites.txt\n",
      "/local/home/sarahgw/angsd/angsd/angsd sites index /local/home/sarahgw/WGS/SNPS/All_mylu/snps/NJNY46_sites_files/3856198_sites.txt\n",
      "/local/home/sarahgw/angsd/angsd/angsd sites index /local/home/sarahgw/WGS/SNPS/All_mylu/snps/NJNY46_sites_files/4845538_sites.txt\n",
      "/local/home/sarahgw/angsd/angsd/angsd sites index /local/home/sarahgw/WGS/SNPS/All_mylu/snps/NJNY46_sites_files/7047255_sites.txt\n",
      "/local/home/sarahgw/angsd/angsd/angsd sites index /local/home/sarahgw/WGS/SNPS/All_mylu/snps/NJNY46_sites_files/16156370_sites.txt\n",
      "/local/home/sarahgw/angsd/angsd/angsd sites index /local/home/sarahgw/WGS/SNPS/All_mylu/snps/NJNY46_sites_files/1956959_sites.txt\n",
      "/local/home/sarahgw/angsd/angsd/angsd sites index /local/home/sarahgw/WGS/SNPS/All_mylu/snps/NJNY46_sites_files/3271610_sites.txt\n",
      "/local/home/sarahgw/angsd/angsd/angsd sites index /local/home/sarahgw/WGS/SNPS/All_mylu/snps/NJNY46_sites_files/5045843_sites.txt\n",
      "/local/home/sarahgw/angsd/angsd/angsd sites index /local/home/sarahgw/WGS/SNPS/All_mylu/snps/NJNY46_sites_files/7596204_sites.txt\n",
      "/local/home/sarahgw/angsd/angsd/angsd sites index /local/home/sarahgw/WGS/SNPS/All_mylu/snps/NJNY46_sites_files/13917444_sites.txt\n",
      "/local/home/sarahgw/angsd/angsd/angsd sites index /local/home/sarahgw/WGS/SNPS/All_mylu/snps/NJNY46_sites_files/13549158_sites.txt\n",
      "/local/home/sarahgw/angsd/angsd/angsd sites index /local/home/sarahgw/WGS/SNPS/All_mylu/snps/NJNY46_sites_files/13697812_sites.txt\n",
      "/local/home/sarahgw/angsd/angsd/angsd sites index /local/home/sarahgw/WGS/SNPS/All_mylu/snps/NJNY46_sites_files/7353169_sites.txt\n",
      "/local/home/sarahgw/angsd/angsd/angsd sites index /local/home/sarahgw/WGS/SNPS/All_mylu/snps/NJNY46_sites_files/12845722_sites.txt\n",
      "/local/home/sarahgw/angsd/angsd/angsd sites index /local/home/sarahgw/WGS/SNPS/All_mylu/snps/NJNY46_sites_files/13480275_sites.txt\n",
      "/local/home/sarahgw/angsd/angsd/angsd sites index /local/home/sarahgw/WGS/SNPS/All_mylu/snps/NJNY46_sites_files/7473329_sites.txt\n"
     ]
    },
    {
     "name": "stdout",
     "output_type": "stream",
     "text": [
      "/local/home/sarahgw/angsd/angsd/angsd sites index /local/home/sarahgw/WGS/SNPS/All_mylu/snps/NJNY46_sites_files/13800153_sites.txt\n",
      "/local/home/sarahgw/angsd/angsd/angsd sites index /local/home/sarahgw/WGS/SNPS/All_mylu/snps/NJNY46_sites_files/3016922_sites.txt\n",
      "/local/home/sarahgw/angsd/angsd/angsd sites index /local/home/sarahgw/WGS/SNPS/All_mylu/snps/NJNY46_sites_files/7814835_sites.txt\n",
      "/local/home/sarahgw/angsd/angsd/angsd sites index /local/home/sarahgw/WGS/SNPS/All_mylu/snps/NJNY46_sites_files/9444755_sites.txt\n",
      "/local/home/sarahgw/angsd/angsd/angsd sites index /local/home/sarahgw/WGS/SNPS/All_mylu/snps/NJNY46_sites_files/12030009_sites.txt\n",
      "/local/home/sarahgw/angsd/angsd/angsd sites index /local/home/sarahgw/WGS/SNPS/All_mylu/snps/NJNY46_sites_files/13242784_sites.txt\n",
      "/local/home/sarahgw/angsd/angsd/angsd sites index /local/home/sarahgw/WGS/SNPS/All_mylu/snps/NJNY46_sites_files/376853_sites.txt\n",
      "/local/home/sarahgw/angsd/angsd/angsd sites index /local/home/sarahgw/WGS/SNPS/All_mylu/snps/NJNY46_sites_files/2219615_sites.txt\n",
      "/local/home/sarahgw/angsd/angsd/angsd sites index /local/home/sarahgw/WGS/SNPS/All_mylu/snps/NJNY46_sites_files/6919562_sites.txt\n",
      "/local/home/sarahgw/angsd/angsd/angsd sites index /local/home/sarahgw/WGS/SNPS/All_mylu/snps/NJNY46_sites_files/11198219_sites.txt\n",
      "/local/home/sarahgw/angsd/angsd/angsd sites index /local/home/sarahgw/WGS/SNPS/All_mylu/snps/NJNY46_sites_files/11967487_sites.txt\n",
      "/local/home/sarahgw/angsd/angsd/angsd sites index /local/home/sarahgw/WGS/SNPS/All_mylu/snps/NJNY46_sites_files/13812484_sites.txt\n",
      "/local/home/sarahgw/angsd/angsd/angsd sites index /local/home/sarahgw/WGS/SNPS/All_mylu/snps/NJNY46_sites_files/4442505_sites.txt\n",
      "/local/home/sarahgw/angsd/angsd/angsd sites index /local/home/sarahgw/WGS/SNPS/All_mylu/snps/NJNY46_sites_files/3645345_sites.txt\n",
      "/local/home/sarahgw/angsd/angsd/angsd sites index /local/home/sarahgw/WGS/SNPS/All_mylu/snps/NJNY46_sites_files/10046579_sites.txt\n",
      "/local/home/sarahgw/angsd/angsd/angsd sites index /local/home/sarahgw/WGS/SNPS/All_mylu/snps/NJNY46_sites_files/5179122_sites.txt\n",
      "/local/home/sarahgw/angsd/angsd/angsd sites index /local/home/sarahgw/WGS/SNPS/All_mylu/snps/NJNY46_sites_files/5328518_sites.txt\n",
      "/local/home/sarahgw/angsd/angsd/angsd sites index /local/home/sarahgw/WGS/SNPS/All_mylu/snps/NJNY46_sites_files/1920744_sites.txt\n",
      "/local/home/sarahgw/angsd/angsd/angsd sites index /local/home/sarahgw/WGS/SNPS/All_mylu/snps/NJNY46_sites_files/8000_sites.txt\n",
      "/local/home/sarahgw/angsd/angsd/angsd sites index /local/home/sarahgw/WGS/SNPS/All_mylu/snps/NJNY46_sites_files/304134_sites.txt\n",
      "/local/home/sarahgw/angsd/angsd/angsd sites index /local/home/sarahgw/WGS/SNPS/All_mylu/snps/NJNY46_sites_files/2798955_sites.txt\n",
      "/local/home/sarahgw/angsd/angsd/angsd sites index /local/home/sarahgw/WGS/SNPS/All_mylu/snps/NJNY46_sites_files/460925_sites.txt\n",
      "/local/home/sarahgw/angsd/angsd/angsd sites index /local/home/sarahgw/WGS/SNPS/All_mylu/snps/NJNY46_sites_files/6939059_sites.txt\n",
      "/local/home/sarahgw/angsd/angsd/angsd sites index /local/home/sarahgw/WGS/SNPS/All_mylu/snps/NJNY46_sites_files/3789620_sites.txt\n",
      "/local/home/sarahgw/angsd/angsd/angsd sites index /local/home/sarahgw/WGS/SNPS/All_mylu/snps/NJNY46_sites_files/6375629_sites.txt\n",
      "/local/home/sarahgw/angsd/angsd/angsd sites index /local/home/sarahgw/WGS/SNPS/All_mylu/snps/NJNY46_sites_files/6763428_sites.txt\n",
      "/local/home/sarahgw/angsd/angsd/angsd sites index /local/home/sarahgw/WGS/SNPS/All_mylu/snps/NJNY46_sites_files/2309543_sites.txt\n",
      "/local/home/sarahgw/angsd/angsd/angsd sites index /local/home/sarahgw/WGS/SNPS/All_mylu/snps/NJNY46_sites_files/6484134_sites.txt\n",
      "/local/home/sarahgw/angsd/angsd/angsd sites index /local/home/sarahgw/WGS/SNPS/All_mylu/snps/NJNY46_sites_files/3791876_sites.txt\n",
      "/local/home/sarahgw/angsd/angsd/angsd sites index /local/home/sarahgw/WGS/SNPS/All_mylu/snps/NJNY46_sites_files/1120231_sites.txt\n",
      "/local/home/sarahgw/angsd/angsd/angsd sites index /local/home/sarahgw/WGS/SNPS/All_mylu/snps/NJNY46_sites_files/5356806_sites.txt\n",
      "/local/home/sarahgw/angsd/angsd/angsd sites index /local/home/sarahgw/WGS/SNPS/All_mylu/snps/NJNY46_sites_files/2391309_sites.txt\n",
      "/local/home/sarahgw/angsd/angsd/angsd sites index /local/home/sarahgw/WGS/SNPS/All_mylu/snps/NJNY46_sites_files/3273158_sites.txt\n",
      "/local/home/sarahgw/angsd/angsd/angsd sites index /local/home/sarahgw/WGS/SNPS/All_mylu/snps/NJNY46_sites_files/3481460_sites.txt\n",
      "/local/home/sarahgw/angsd/angsd/angsd sites index /local/home/sarahgw/WGS/SNPS/All_mylu/snps/NJNY46_sites_files/4203875_sites.txt\n",
      "/local/home/sarahgw/angsd/angsd/angsd sites index /local/home/sarahgw/WGS/SNPS/All_mylu/snps/NJNY46_sites_files/8666695_sites.txt\n",
      "/local/home/sarahgw/angsd/angsd/angsd sites index /local/home/sarahgw/WGS/SNPS/All_mylu/snps/NJNY46_sites_files/3333923_sites.txt\n",
      "/local/home/sarahgw/angsd/angsd/angsd sites index /local/home/sarahgw/WGS/SNPS/All_mylu/snps/NJNY46_sites_files/2420879_sites.txt\n",
      "/local/home/sarahgw/angsd/angsd/angsd sites index /local/home/sarahgw/WGS/SNPS/All_mylu/snps/NJNY46_sites_files/2527564_sites.txt\n",
      "/local/home/sarahgw/angsd/angsd/angsd sites index /local/home/sarahgw/WGS/SNPS/All_mylu/snps/NJNY46_sites_files/5191344_sites.txt\n",
      "/local/home/sarahgw/angsd/angsd/angsd sites index /local/home/sarahgw/WGS/SNPS/All_mylu/snps/NJNY46_sites_files/7229717_sites.txt\n",
      "/local/home/sarahgw/angsd/angsd/angsd sites index /local/home/sarahgw/WGS/SNPS/All_mylu/snps/NJNY46_sites_files/1728983_sites.txt\n",
      "/local/home/sarahgw/angsd/angsd/angsd sites index /local/home/sarahgw/WGS/SNPS/All_mylu/snps/NJNY46_sites_files/7576360_sites.txt\n",
      "/local/home/sarahgw/angsd/angsd/angsd sites index /local/home/sarahgw/WGS/SNPS/All_mylu/snps/NJNY46_sites_files/1178078_sites.txt\n",
      "/local/home/sarahgw/angsd/angsd/angsd sites index /local/home/sarahgw/WGS/SNPS/All_mylu/snps/NJNY46_sites_files/4771412_sites.txt\n",
      "/local/home/sarahgw/angsd/angsd/angsd sites index /local/home/sarahgw/WGS/SNPS/All_mylu/snps/NJNY46_sites_files/4929942_sites.txt\n",
      "/local/home/sarahgw/angsd/angsd/angsd sites index /local/home/sarahgw/WGS/SNPS/All_mylu/snps/NJNY46_sites_files/2808112_sites.txt\n",
      "/local/home/sarahgw/angsd/angsd/angsd sites index /local/home/sarahgw/WGS/SNPS/All_mylu/snps/NJNY46_sites_files/2544329_sites.txt\n",
      "/local/home/sarahgw/angsd/angsd/angsd sites index /local/home/sarahgw/WGS/SNPS/All_mylu/snps/NJNY46_sites_files/6674148_sites.txt\n",
      "/local/home/sarahgw/angsd/angsd/angsd sites index /local/home/sarahgw/WGS/SNPS/All_mylu/snps/NJNY46_sites_files/326787_sites.txt\n",
      "/local/home/sarahgw/angsd/angsd/angsd sites index /local/home/sarahgw/WGS/SNPS/All_mylu/snps/NJNY46_sites_files/4550646_sites.txt\n",
      "/local/home/sarahgw/angsd/angsd/angsd sites index /local/home/sarahgw/WGS/SNPS/All_mylu/snps/NJNY46_sites_files/339983_sites.txt\n",
      "/local/home/sarahgw/angsd/angsd/angsd sites index /local/home/sarahgw/WGS/SNPS/All_mylu/snps/NJNY46_sites_files/478883_sites.txt\n",
      "/local/home/sarahgw/angsd/angsd/angsd sites index /local/home/sarahgw/WGS/SNPS/All_mylu/snps/NJNY46_sites_files/1767345_sites.txt\n",
      "/local/home/sarahgw/angsd/angsd/angsd sites index /local/home/sarahgw/WGS/SNPS/All_mylu/snps/NJNY46_sites_files/6389220_sites.txt\n",
      "/local/home/sarahgw/angsd/angsd/angsd sites index /local/home/sarahgw/WGS/SNPS/All_mylu/snps/NJNY46_sites_files/2330305_sites.txt\n",
      "/local/home/sarahgw/angsd/angsd/angsd sites index /local/home/sarahgw/WGS/SNPS/All_mylu/snps/NJNY46_sites_files/6766647_sites.txt\n",
      "/local/home/sarahgw/angsd/angsd/angsd sites index /local/home/sarahgw/WGS/SNPS/All_mylu/snps/NJNY46_sites_files/4134761_sites.txt\n",
      "/local/home/sarahgw/angsd/angsd/angsd sites index /local/home/sarahgw/WGS/SNPS/All_mylu/snps/NJNY46_sites_files/4005601_sites.txt\n",
      "/local/home/sarahgw/angsd/angsd/angsd sites index /local/home/sarahgw/WGS/SNPS/All_mylu/snps/NJNY46_sites_files/1859427_sites.txt\n",
      "/local/home/sarahgw/angsd/angsd/angsd sites index /local/home/sarahgw/WGS/SNPS/All_mylu/snps/NJNY46_sites_files/2757782_sites.txt\n",
      "/local/home/sarahgw/angsd/angsd/angsd sites index /local/home/sarahgw/WGS/SNPS/All_mylu/snps/NJNY46_sites_files/3575137_sites.txt\n",
      "/local/home/sarahgw/angsd/angsd/angsd sites index /local/home/sarahgw/WGS/SNPS/All_mylu/snps/NJNY46_sites_files/2755974_sites.txt\n",
      "/local/home/sarahgw/angsd/angsd/angsd sites index /local/home/sarahgw/WGS/SNPS/All_mylu/snps/NJNY46_sites_files/5027744_sites.txt\n",
      "/local/home/sarahgw/angsd/angsd/angsd sites index /local/home/sarahgw/WGS/SNPS/All_mylu/snps/NJNY46_sites_files/2966436_sites.txt\n",
      "/local/home/sarahgw/angsd/angsd/angsd sites index /local/home/sarahgw/WGS/SNPS/All_mylu/snps/NJNY46_sites_files/2637067_sites.txt\n",
      "/local/home/sarahgw/angsd/angsd/angsd sites index /local/home/sarahgw/WGS/SNPS/All_mylu/snps/NJNY46_sites_files/3888560_sites.txt\n",
      "/local/home/sarahgw/angsd/angsd/angsd sites index /local/home/sarahgw/WGS/SNPS/All_mylu/snps/NJNY46_sites_files/3470269_sites.txt\n",
      "/local/home/sarahgw/angsd/angsd/angsd sites index /local/home/sarahgw/WGS/SNPS/All_mylu/snps/NJNY46_sites_files/1006223_sites.txt\n",
      "/local/home/sarahgw/angsd/angsd/angsd sites index /local/home/sarahgw/WGS/SNPS/All_mylu/snps/NJNY46_sites_files/1788405_sites.txt\n",
      "/local/home/sarahgw/angsd/angsd/angsd sites index /local/home/sarahgw/WGS/SNPS/All_mylu/snps/NJNY46_sites_files/2560316_sites.txt\n",
      "/local/home/sarahgw/angsd/angsd/angsd sites index /local/home/sarahgw/WGS/SNPS/All_mylu/snps/NJNY46_sites_files/3597393_sites.txt\n",
      "/local/home/sarahgw/angsd/angsd/angsd sites index /local/home/sarahgw/WGS/SNPS/All_mylu/snps/NJNY46_sites_files/111765_sites.txt\n",
      "/local/home/sarahgw/angsd/angsd/angsd sites index /local/home/sarahgw/WGS/SNPS/All_mylu/snps/NJNY46_sites_files/1075809_sites.txt\n",
      "/local/home/sarahgw/angsd/angsd/angsd sites index /local/home/sarahgw/WGS/SNPS/All_mylu/snps/NJNY46_sites_files/3702915_sites.txt\n"
     ]
    },
    {
     "name": "stdout",
     "output_type": "stream",
     "text": [
      "/local/home/sarahgw/angsd/angsd/angsd sites index /local/home/sarahgw/WGS/SNPS/All_mylu/snps/NJNY46_sites_files/192478_sites.txt\n",
      "/local/home/sarahgw/angsd/angsd/angsd sites index /local/home/sarahgw/WGS/SNPS/All_mylu/snps/NJNY46_sites_files/2580001_sites.txt\n",
      "/local/home/sarahgw/angsd/angsd/angsd sites index /local/home/sarahgw/WGS/SNPS/All_mylu/snps/NJNY46_sites_files/2345379_sites.txt\n",
      "/local/home/sarahgw/angsd/angsd/angsd sites index /local/home/sarahgw/WGS/SNPS/All_mylu/snps/NJNY46_sites_files/2421860_sites.txt\n",
      "/local/home/sarahgw/angsd/angsd/angsd sites index /local/home/sarahgw/WGS/SNPS/All_mylu/snps/NJNY46_sites_files/54892_sites.txt\n",
      "/local/home/sarahgw/angsd/angsd/angsd sites index /local/home/sarahgw/WGS/SNPS/All_mylu/snps/NJNY46_sites_files/3993744_sites.txt\n",
      "/local/home/sarahgw/angsd/angsd/angsd sites index /local/home/sarahgw/WGS/SNPS/All_mylu/snps/NJNY46_sites_files/1749719_sites.txt\n",
      "/local/home/sarahgw/angsd/angsd/angsd sites index /local/home/sarahgw/WGS/SNPS/All_mylu/snps/NJNY46_sites_files/1749729_sites.txt\n",
      "/local/home/sarahgw/angsd/angsd/angsd sites index /local/home/sarahgw/WGS/SNPS/All_mylu/snps/NJNY46_sites_files/4287744_sites.txt\n",
      "/local/home/sarahgw/angsd/angsd/angsd sites index /local/home/sarahgw/WGS/SNPS/All_mylu/snps/NJNY46_sites_files/131421_sites.txt\n",
      "/local/home/sarahgw/angsd/angsd/angsd sites index /local/home/sarahgw/WGS/SNPS/All_mylu/snps/NJNY46_sites_files/3508136_sites.txt\n",
      "/local/home/sarahgw/angsd/angsd/angsd sites index /local/home/sarahgw/WGS/SNPS/All_mylu/snps/NJNY46_sites_files/3820056_sites.txt\n",
      "/local/home/sarahgw/angsd/angsd/angsd sites index /local/home/sarahgw/WGS/SNPS/All_mylu/snps/NJNY46_sites_files/4434218_sites.txt\n",
      "/local/home/sarahgw/angsd/angsd/angsd sites index /local/home/sarahgw/WGS/SNPS/All_mylu/snps/NJNY46_sites_files/2350520_sites.txt\n",
      "/local/home/sarahgw/angsd/angsd/angsd sites index /local/home/sarahgw/WGS/SNPS/All_mylu/snps/NJNY46_sites_files/112723_sites.txt\n",
      "/local/home/sarahgw/angsd/angsd/angsd sites index /local/home/sarahgw/WGS/SNPS/All_mylu/snps/NJNY46_sites_files/1226013_sites.txt\n",
      "/local/home/sarahgw/angsd/angsd/angsd sites index /local/home/sarahgw/WGS/SNPS/All_mylu/snps/NJNY46_sites_files/4057207_sites.txt\n",
      "/local/home/sarahgw/angsd/angsd/angsd sites index /local/home/sarahgw/WGS/SNPS/All_mylu/snps/NJNY46_sites_files/3851356_sites.txt\n",
      "/local/home/sarahgw/angsd/angsd/angsd sites index /local/home/sarahgw/WGS/SNPS/All_mylu/snps/NJNY46_sites_files/4006595_sites.txt\n",
      "/local/home/sarahgw/angsd/angsd/angsd sites index /local/home/sarahgw/WGS/SNPS/All_mylu/snps/NJNY46_sites_files/2325374_sites.txt\n",
      "/local/home/sarahgw/angsd/angsd/angsd sites index /local/home/sarahgw/WGS/SNPS/All_mylu/snps/NJNY46_sites_files/2785826_sites.txt\n",
      "/local/home/sarahgw/angsd/angsd/angsd sites index /local/home/sarahgw/WGS/SNPS/All_mylu/snps/NJNY46_sites_files/4128091_sites.txt\n",
      "/local/home/sarahgw/angsd/angsd/angsd sites index /local/home/sarahgw/WGS/SNPS/All_mylu/snps/NJNY46_sites_files/2106030_sites.txt\n",
      "/local/home/sarahgw/angsd/angsd/angsd sites index /local/home/sarahgw/WGS/SNPS/All_mylu/snps/NJNY46_sites_files/4141618_sites.txt\n",
      "/local/home/sarahgw/angsd/angsd/angsd sites index /local/home/sarahgw/WGS/SNPS/All_mylu/snps/NJNY46_sites_files/192888_sites.txt\n",
      "/local/home/sarahgw/angsd/angsd/angsd sites index /local/home/sarahgw/WGS/SNPS/All_mylu/snps/NJNY46_sites_files/2608652_sites.txt\n",
      "/local/home/sarahgw/angsd/angsd/angsd sites index /local/home/sarahgw/WGS/SNPS/All_mylu/snps/NJNY46_sites_files/2545923_sites.txt\n",
      "/local/home/sarahgw/angsd/angsd/angsd sites index /local/home/sarahgw/WGS/SNPS/All_mylu/snps/NJNY46_sites_files/501069_sites.txt\n",
      "/local/home/sarahgw/angsd/angsd/angsd sites index /local/home/sarahgw/WGS/SNPS/All_mylu/snps/NJNY46_sites_files/1249501_sites.txt\n",
      "/local/home/sarahgw/angsd/angsd/angsd sites index /local/home/sarahgw/WGS/SNPS/All_mylu/snps/NJNY46_sites_files/287609_sites.txt\n",
      "/local/home/sarahgw/angsd/angsd/angsd sites index /local/home/sarahgw/WGS/SNPS/All_mylu/snps/NJNY46_sites_files/3400771_sites.txt\n",
      "/local/home/sarahgw/angsd/angsd/angsd sites index /local/home/sarahgw/WGS/SNPS/All_mylu/snps/NJNY46_sites_files/358170_sites.txt\n",
      "/local/home/sarahgw/angsd/angsd/angsd sites index /local/home/sarahgw/WGS/SNPS/All_mylu/snps/NJNY46_sites_files/520912_sites.txt\n",
      "/local/home/sarahgw/angsd/angsd/angsd sites index /local/home/sarahgw/WGS/SNPS/All_mylu/snps/NJNY46_sites_files/3323930_sites.txt\n",
      "/local/home/sarahgw/angsd/angsd/angsd sites index /local/home/sarahgw/WGS/SNPS/All_mylu/snps/NJNY46_sites_files/421176_sites.txt\n",
      "/local/home/sarahgw/angsd/angsd/angsd sites index /local/home/sarahgw/WGS/SNPS/All_mylu/snps/NJNY46_sites_files/1132901_sites.txt\n",
      "/local/home/sarahgw/angsd/angsd/angsd sites index /local/home/sarahgw/WGS/SNPS/All_mylu/snps/NJNY46_sites_files/3627424_sites.txt\n",
      "/local/home/sarahgw/angsd/angsd/angsd sites index /local/home/sarahgw/WGS/SNPS/All_mylu/snps/NJNY46_sites_files/1751539_sites.txt\n",
      "/local/home/sarahgw/angsd/angsd/angsd sites index /local/home/sarahgw/WGS/SNPS/All_mylu/snps/NJNY46_sites_files/866932_sites.txt\n",
      "/local/home/sarahgw/angsd/angsd/angsd sites index /local/home/sarahgw/WGS/SNPS/All_mylu/snps/NJNY46_sites_files/2643709_sites.txt\n",
      "/local/home/sarahgw/angsd/angsd/angsd sites index /local/home/sarahgw/WGS/SNPS/All_mylu/snps/NJNY46_sites_files/1894046_sites.txt\n",
      "/local/home/sarahgw/angsd/angsd/angsd sites index /local/home/sarahgw/WGS/SNPS/All_mylu/snps/NJNY46_sites_files/836550_sites.txt\n",
      "/local/home/sarahgw/angsd/angsd/angsd sites index /local/home/sarahgw/WGS/SNPS/All_mylu/snps/NJNY46_sites_files/1498067_sites.txt\n",
      "/local/home/sarahgw/angsd/angsd/angsd sites index /local/home/sarahgw/WGS/SNPS/All_mylu/snps/NJNY46_sites_files/420333_sites.txt\n",
      "/local/home/sarahgw/angsd/angsd/angsd sites index /local/home/sarahgw/WGS/SNPS/All_mylu/snps/NJNY46_sites_files/1723841_sites.txt\n",
      "/local/home/sarahgw/angsd/angsd/angsd sites index /local/home/sarahgw/WGS/SNPS/All_mylu/snps/NJNY46_sites_files/3144427_sites.txt\n",
      "/local/home/sarahgw/angsd/angsd/angsd sites index /local/home/sarahgw/WGS/SNPS/All_mylu/snps/NJNY46_sites_files/1557839_sites.txt\n",
      "/local/home/sarahgw/angsd/angsd/angsd sites index /local/home/sarahgw/WGS/SNPS/All_mylu/snps/NJNY46_sites_files/2473127_sites.txt\n",
      "/local/home/sarahgw/angsd/angsd/angsd sites index /local/home/sarahgw/WGS/SNPS/All_mylu/snps/NJNY46_sites_files/2687642_sites.txt\n",
      "/local/home/sarahgw/angsd/angsd/angsd sites index /local/home/sarahgw/WGS/SNPS/All_mylu/snps/NJNY46_sites_files/2695305_sites.txt\n",
      "/local/home/sarahgw/angsd/angsd/angsd sites index /local/home/sarahgw/WGS/SNPS/All_mylu/snps/NJNY46_sites_files/2510198_sites.txt\n",
      "/local/home/sarahgw/angsd/angsd/angsd sites index /local/home/sarahgw/WGS/SNPS/All_mylu/snps/NJNY46_sites_files/512179_sites.txt\n",
      "/local/home/sarahgw/angsd/angsd/angsd sites index /local/home/sarahgw/WGS/SNPS/All_mylu/snps/NJNY46_sites_files/1613563_sites.txt\n",
      "/local/home/sarahgw/angsd/angsd/angsd sites index /local/home/sarahgw/WGS/SNPS/All_mylu/snps/NJNY46_sites_files/2448414_sites.txt\n",
      "/local/home/sarahgw/angsd/angsd/angsd sites index /local/home/sarahgw/WGS/SNPS/All_mylu/snps/NJNY46_sites_files/292948_sites.txt\n",
      "/local/home/sarahgw/angsd/angsd/angsd sites index /local/home/sarahgw/WGS/SNPS/All_mylu/snps/NJNY46_sites_files/2136985_sites.txt\n",
      "/local/home/sarahgw/angsd/angsd/angsd sites index /local/home/sarahgw/WGS/SNPS/All_mylu/snps/NJNY46_sites_files/1592872_sites.txt\n",
      "/local/home/sarahgw/angsd/angsd/angsd sites index /local/home/sarahgw/WGS/SNPS/All_mylu/snps/NJNY46_sites_files/2196753_sites.txt\n",
      "/local/home/sarahgw/angsd/angsd/angsd sites index /local/home/sarahgw/WGS/SNPS/All_mylu/snps/NJNY46_sites_files/2601054_sites.txt\n",
      "/local/home/sarahgw/angsd/angsd/angsd sites index /local/home/sarahgw/WGS/SNPS/All_mylu/snps/NJNY46_sites_files/2607102_sites.txt\n",
      "/local/home/sarahgw/angsd/angsd/angsd sites index /local/home/sarahgw/WGS/SNPS/All_mylu/snps/NJNY46_sites_files/304633_sites.txt\n",
      "/local/home/sarahgw/angsd/angsd/angsd sites index /local/home/sarahgw/WGS/SNPS/All_mylu/snps/NJNY46_sites_files/378742_sites.txt\n",
      "/local/home/sarahgw/angsd/angsd/angsd sites index /local/home/sarahgw/WGS/SNPS/All_mylu/snps/NJNY46_sites_files/2603620_sites.txt\n",
      "/local/home/sarahgw/angsd/angsd/angsd sites index /local/home/sarahgw/WGS/SNPS/All_mylu/snps/NJNY46_sites_files/293091_sites.txt\n",
      "/local/home/sarahgw/angsd/angsd/angsd sites index /local/home/sarahgw/WGS/SNPS/All_mylu/snps/NJNY46_sites_files/800409_sites.txt\n"
     ]
    },
    {
     "name": "stdout",
     "output_type": "stream",
     "text": [
      "/local/home/sarahgw/angsd/angsd/angsd sites index /local/home/sarahgw/WGS/SNPS/All_mylu/snps/NJNY46_sites_files/845846_sites.txt\n",
      "/local/home/sarahgw/angsd/angsd/angsd sites index /local/home/sarahgw/WGS/SNPS/All_mylu/snps/NJNY46_sites_files/1498975_sites.txt\n",
      "/local/home/sarahgw/angsd/angsd/angsd sites index /local/home/sarahgw/WGS/SNPS/All_mylu/snps/NJNY46_sites_files/184703_sites.txt\n",
      "/local/home/sarahgw/angsd/angsd/angsd sites index /local/home/sarahgw/WGS/SNPS/All_mylu/snps/NJNY46_sites_files/1685509_sites.txt\n",
      "/local/home/sarahgw/angsd/angsd/angsd sites index /local/home/sarahgw/WGS/SNPS/All_mylu/snps/NJNY46_sites_files/549244_sites.txt\n",
      "/local/home/sarahgw/angsd/angsd/angsd sites index /local/home/sarahgw/WGS/SNPS/All_mylu/snps/NJNY46_sites_files/1622507_sites.txt\n",
      "/local/home/sarahgw/angsd/angsd/angsd sites index /local/home/sarahgw/WGS/SNPS/All_mylu/snps/NJNY46_sites_files/1467777_sites.txt\n",
      "/local/home/sarahgw/angsd/angsd/angsd sites index /local/home/sarahgw/WGS/SNPS/All_mylu/snps/NJNY46_sites_files/1718440_sites.txt\n",
      "/local/home/sarahgw/angsd/angsd/angsd sites index /local/home/sarahgw/WGS/SNPS/All_mylu/snps/NJNY46_sites_files/1465113_sites.txt\n",
      "/local/home/sarahgw/angsd/angsd/angsd sites index /local/home/sarahgw/WGS/SNPS/All_mylu/snps/NJNY46_sites_files/1724454_sites.txt\n",
      "/local/home/sarahgw/angsd/angsd/angsd sites index /local/home/sarahgw/WGS/SNPS/All_mylu/snps/NJNY46_sites_files/113430_sites.txt\n",
      "/local/home/sarahgw/angsd/angsd/angsd sites index /local/home/sarahgw/WGS/SNPS/All_mylu/snps/NJNY46_sites_files/177740_sites.txt\n",
      "/local/home/sarahgw/angsd/angsd/angsd sites index /local/home/sarahgw/WGS/SNPS/All_mylu/snps/NJNY46_sites_files/1061479_sites.txt\n",
      "/local/home/sarahgw/angsd/angsd/angsd sites index /local/home/sarahgw/WGS/SNPS/All_mylu/snps/NJNY46_sites_files/1294921_sites.txt\n",
      "/local/home/sarahgw/angsd/angsd/angsd sites index /local/home/sarahgw/WGS/SNPS/All_mylu/snps/NJNY46_sites_files/914822_sites.txt\n",
      "/local/home/sarahgw/angsd/angsd/angsd sites index /local/home/sarahgw/WGS/SNPS/All_mylu/snps/NJNY46_sites_files/880359_sites.txt\n",
      "/local/home/sarahgw/angsd/angsd/angsd sites index /local/home/sarahgw/WGS/SNPS/All_mylu/snps/NJNY46_sites_files/2320110_sites.txt\n",
      "/local/home/sarahgw/angsd/angsd/angsd sites index /local/home/sarahgw/WGS/SNPS/All_mylu/snps/NJNY46_sites_files/2303702_sites.txt\n",
      "/local/home/sarahgw/angsd/angsd/angsd sites index /local/home/sarahgw/WGS/SNPS/All_mylu/snps/NJNY46_sites_files/665677_sites.txt\n",
      "/local/home/sarahgw/angsd/angsd/angsd sites index /local/home/sarahgw/WGS/SNPS/All_mylu/snps/NJNY46_sites_files/938388_sites.txt\n",
      "/local/home/sarahgw/angsd/angsd/angsd sites index /local/home/sarahgw/WGS/SNPS/All_mylu/snps/NJNY46_sites_files/176363_sites.txt\n",
      "/local/home/sarahgw/angsd/angsd/angsd sites index /local/home/sarahgw/WGS/SNPS/All_mylu/snps/NJNY46_sites_files/2091986_sites.txt\n",
      "/local/home/sarahgw/angsd/angsd/angsd sites index /local/home/sarahgw/WGS/SNPS/All_mylu/snps/NJNY46_sites_files/1694838_sites.txt\n",
      "/local/home/sarahgw/angsd/angsd/angsd sites index /local/home/sarahgw/WGS/SNPS/All_mylu/snps/NJNY46_sites_files/1534080_sites.txt\n",
      "/local/home/sarahgw/angsd/angsd/angsd sites index /local/home/sarahgw/WGS/SNPS/All_mylu/snps/NJNY46_sites_files/814260_sites.txt\n",
      "/local/home/sarahgw/angsd/angsd/angsd sites index /local/home/sarahgw/WGS/SNPS/All_mylu/snps/NJNY46_sites_files/382103_sites.txt\n",
      "/local/home/sarahgw/angsd/angsd/angsd sites index /local/home/sarahgw/WGS/SNPS/All_mylu/snps/NJNY46_sites_files/382104_sites.txt\n",
      "/local/home/sarahgw/angsd/angsd/angsd sites index /local/home/sarahgw/WGS/SNPS/All_mylu/snps/NJNY46_sites_files/1798636_sites.txt\n",
      "/local/home/sarahgw/angsd/angsd/angsd sites index /local/home/sarahgw/WGS/SNPS/All_mylu/snps/NJNY46_sites_files/103525_sites.txt\n",
      "/local/home/sarahgw/angsd/angsd/angsd sites index /local/home/sarahgw/WGS/SNPS/All_mylu/snps/NJNY46_sites_files/1118034_sites.txt\n",
      "/local/home/sarahgw/angsd/angsd/angsd sites index /local/home/sarahgw/WGS/SNPS/All_mylu/snps/NJNY46_sites_files/553900_sites.txt\n",
      "/local/home/sarahgw/angsd/angsd/angsd sites index /local/home/sarahgw/WGS/SNPS/All_mylu/snps/NJNY46_sites_files/147767_sites.txt\n",
      "/local/home/sarahgw/angsd/angsd/angsd sites index /local/home/sarahgw/WGS/SNPS/All_mylu/snps/NJNY46_sites_files/1467550_sites.txt\n",
      "/local/home/sarahgw/angsd/angsd/angsd sites index /local/home/sarahgw/WGS/SNPS/All_mylu/snps/NJNY46_sites_files/473407_sites.txt\n",
      "/local/home/sarahgw/angsd/angsd/angsd sites index /local/home/sarahgw/WGS/SNPS/All_mylu/snps/NJNY46_sites_files/733388_sites.txt\n",
      "/local/home/sarahgw/angsd/angsd/angsd sites index /local/home/sarahgw/WGS/SNPS/All_mylu/snps/NJNY46_sites_files/2042149_sites.txt\n",
      "/local/home/sarahgw/angsd/angsd/angsd sites index /local/home/sarahgw/WGS/SNPS/All_mylu/snps/NJNY46_sites_files/309249_sites.txt\n",
      "/local/home/sarahgw/angsd/angsd/angsd sites index /local/home/sarahgw/WGS/SNPS/All_mylu/snps/NJNY46_sites_files/309253_sites.txt\n",
      "/local/home/sarahgw/angsd/angsd/angsd sites index /local/home/sarahgw/WGS/SNPS/All_mylu/snps/NJNY46_sites_files/1807839_sites.txt\n",
      "/local/home/sarahgw/angsd/angsd/angsd sites index /local/home/sarahgw/WGS/SNPS/All_mylu/snps/NJNY46_sites_files/183366_sites.txt\n",
      "/local/home/sarahgw/angsd/angsd/angsd sites index /local/home/sarahgw/WGS/SNPS/All_mylu/snps/NJNY46_sites_files/268475_sites.txt\n",
      "/local/home/sarahgw/angsd/angsd/angsd sites index /local/home/sarahgw/WGS/SNPS/All_mylu/snps/NJNY46_sites_files/1190583_sites.txt\n",
      "/local/home/sarahgw/angsd/angsd/angsd sites index /local/home/sarahgw/WGS/SNPS/All_mylu/snps/NJNY46_sites_files/875588_sites.txt\n",
      "/local/home/sarahgw/angsd/angsd/angsd sites index /local/home/sarahgw/WGS/SNPS/All_mylu/snps/NJNY46_sites_files/1218337_sites.txt\n",
      "/local/home/sarahgw/angsd/angsd/angsd sites index /local/home/sarahgw/WGS/SNPS/All_mylu/snps/NJNY46_sites_files/293035_sites.txt\n",
      "/local/home/sarahgw/angsd/angsd/angsd sites index /local/home/sarahgw/WGS/SNPS/All_mylu/snps/NJNY46_sites_files/293048_sites.txt\n",
      "/local/home/sarahgw/angsd/angsd/angsd sites index /local/home/sarahgw/WGS/SNPS/All_mylu/snps/NJNY46_sites_files/352191_sites.txt\n",
      "/local/home/sarahgw/angsd/angsd/angsd sites index /local/home/sarahgw/WGS/SNPS/All_mylu/snps/NJNY46_sites_files/661884_sites.txt\n",
      "/local/home/sarahgw/angsd/angsd/angsd sites index /local/home/sarahgw/WGS/SNPS/All_mylu/snps/NJNY46_sites_files/1421791_sites.txt\n",
      "/local/home/sarahgw/angsd/angsd/angsd sites index /local/home/sarahgw/WGS/SNPS/All_mylu/snps/NJNY46_sites_files/1477482_sites.txt\n",
      "/local/home/sarahgw/angsd/angsd/angsd sites index /local/home/sarahgw/WGS/SNPS/All_mylu/snps/NJNY46_sites_files/543661_sites.txt\n",
      "/local/home/sarahgw/angsd/angsd/angsd sites index /local/home/sarahgw/WGS/SNPS/All_mylu/snps/NJNY46_sites_files/685468_sites.txt\n",
      "/local/home/sarahgw/angsd/angsd/angsd sites index /local/home/sarahgw/WGS/SNPS/All_mylu/snps/NJNY46_sites_files/944619_sites.txt\n",
      "/local/home/sarahgw/angsd/angsd/angsd sites index /local/home/sarahgw/WGS/SNPS/All_mylu/snps/NJNY46_sites_files/318531_sites.txt\n",
      "/local/home/sarahgw/angsd/angsd/angsd sites index /local/home/sarahgw/WGS/SNPS/All_mylu/snps/NJNY46_sites_files/318588_sites.txt\n",
      "/local/home/sarahgw/angsd/angsd/angsd sites index /local/home/sarahgw/WGS/SNPS/All_mylu/snps/NJNY46_sites_files/142159_sites.txt\n",
      "/local/home/sarahgw/angsd/angsd/angsd sites index /local/home/sarahgw/WGS/SNPS/All_mylu/snps/NJNY46_sites_files/909960_sites.txt\n",
      "/local/home/sarahgw/angsd/angsd/angsd sites index /local/home/sarahgw/WGS/SNPS/All_mylu/snps/NJNY46_sites_files/1093423_sites.txt\n",
      "/local/home/sarahgw/angsd/angsd/angsd sites index /local/home/sarahgw/WGS/SNPS/All_mylu/snps/NJNY46_sites_files/1113056_sites.txt\n",
      "/local/home/sarahgw/angsd/angsd/angsd sites index /local/home/sarahgw/WGS/SNPS/All_mylu/snps/NJNY46_sites_files/84431_sites.txt\n",
      "/local/home/sarahgw/angsd/angsd/angsd sites index /local/home/sarahgw/WGS/SNPS/All_mylu/snps/NJNY46_sites_files/1517028_sites.txt\n",
      "/local/home/sarahgw/angsd/angsd/angsd sites index /local/home/sarahgw/WGS/SNPS/All_mylu/snps/NJNY46_sites_files/901107_sites.txt\n",
      "/local/home/sarahgw/angsd/angsd/angsd sites index /local/home/sarahgw/WGS/SNPS/All_mylu/snps/NJNY46_sites_files/984675_sites.txt\n",
      "/local/home/sarahgw/angsd/angsd/angsd sites index /local/home/sarahgw/WGS/SNPS/All_mylu/snps/NJNY46_sites_files/536155_sites.txt\n",
      "/local/home/sarahgw/angsd/angsd/angsd sites index /local/home/sarahgw/WGS/SNPS/All_mylu/snps/NJNY46_sites_files/383339_sites.txt\n",
      "/local/home/sarahgw/angsd/angsd/angsd sites index /local/home/sarahgw/WGS/SNPS/All_mylu/snps/NJNY46_sites_files/879914_sites.txt\n",
      "/local/home/sarahgw/angsd/angsd/angsd sites index /local/home/sarahgw/WGS/SNPS/All_mylu/snps/NJNY46_sites_files/503944_sites.txt\n",
      "/local/home/sarahgw/angsd/angsd/angsd sites index /local/home/sarahgw/WGS/SNPS/All_mylu/snps/NJNY46_sites_files/39138_sites.txt\n",
      "/local/home/sarahgw/angsd/angsd/angsd sites index /local/home/sarahgw/WGS/SNPS/All_mylu/snps/NJNY46_sites_files/1291266_sites.txt\n",
      "/local/home/sarahgw/angsd/angsd/angsd sites index /local/home/sarahgw/WGS/SNPS/All_mylu/snps/NJNY46_sites_files/434665_sites.txt\n",
      "/local/home/sarahgw/angsd/angsd/angsd sites index /local/home/sarahgw/WGS/SNPS/All_mylu/snps/NJNY46_sites_files/445759_sites.txt\n",
      "/local/home/sarahgw/angsd/angsd/angsd sites index /local/home/sarahgw/WGS/SNPS/All_mylu/snps/NJNY46_sites_files/778371_sites.txt\n",
      "/local/home/sarahgw/angsd/angsd/angsd sites index /local/home/sarahgw/WGS/SNPS/All_mylu/snps/NJNY46_sites_files/611622_sites.txt\n",
      "/local/home/sarahgw/angsd/angsd/angsd sites index /local/home/sarahgw/WGS/SNPS/All_mylu/snps/NJNY46_sites_files/1048775_sites.txt\n",
      "/local/home/sarahgw/angsd/angsd/angsd sites index /local/home/sarahgw/WGS/SNPS/All_mylu/snps/NJNY46_sites_files/754423_sites.txt\n",
      "/local/home/sarahgw/angsd/angsd/angsd sites index /local/home/sarahgw/WGS/SNPS/All_mylu/snps/NJNY46_sites_files/515763_sites.txt\n",
      "/local/home/sarahgw/angsd/angsd/angsd sites index /local/home/sarahgw/WGS/SNPS/All_mylu/snps/NJNY46_sites_files/602269_sites.txt\n",
      "/local/home/sarahgw/angsd/angsd/angsd sites index /local/home/sarahgw/WGS/SNPS/All_mylu/snps/NJNY46_sites_files/573383_sites.txt\n",
      "/local/home/sarahgw/angsd/angsd/angsd sites index /local/home/sarahgw/WGS/SNPS/All_mylu/snps/NJNY46_sites_files/603815_sites.txt\n",
      "/local/home/sarahgw/angsd/angsd/angsd sites index /local/home/sarahgw/WGS/SNPS/All_mylu/snps/NJNY46_sites_files/764904_sites.txt\n",
      "/local/home/sarahgw/angsd/angsd/angsd sites index /local/home/sarahgw/WGS/SNPS/All_mylu/snps/NJNY46_sites_files/39059_sites.txt\n",
      "/local/home/sarahgw/angsd/angsd/angsd sites index /local/home/sarahgw/WGS/SNPS/All_mylu/snps/NJNY46_sites_files/195507_sites.txt\n",
      "/local/home/sarahgw/angsd/angsd/angsd sites index /local/home/sarahgw/WGS/SNPS/All_mylu/snps/NJNY46_sites_files/696102_sites.txt\n",
      "/local/home/sarahgw/angsd/angsd/angsd sites index /local/home/sarahgw/WGS/SNPS/All_mylu/snps/NJNY46_sites_files/362419_sites.txt\n",
      "/local/home/sarahgw/angsd/angsd/angsd sites index /local/home/sarahgw/WGS/SNPS/All_mylu/snps/NJNY46_sites_files/593416_sites.txt\n",
      "/local/home/sarahgw/angsd/angsd/angsd sites index /local/home/sarahgw/WGS/SNPS/All_mylu/snps/NJNY46_sites_files/99919_sites.txt\n",
      "/local/home/sarahgw/angsd/angsd/angsd sites index /local/home/sarahgw/WGS/SNPS/All_mylu/snps/NJNY46_sites_files/500207_sites.txt\n",
      "/local/home/sarahgw/angsd/angsd/angsd sites index /local/home/sarahgw/WGS/SNPS/All_mylu/snps/NJNY46_sites_files/276626_sites.txt\n",
      "/local/home/sarahgw/angsd/angsd/angsd sites index /local/home/sarahgw/WGS/SNPS/All_mylu/snps/NJNY46_sites_files/513146_sites.txt\n",
      "/local/home/sarahgw/angsd/angsd/angsd sites index /local/home/sarahgw/WGS/SNPS/All_mylu/snps/NJNY46_sites_files/535009_sites.txt\n",
      "/local/home/sarahgw/angsd/angsd/angsd sites index /local/home/sarahgw/WGS/SNPS/All_mylu/snps/NJNY46_sites_files/297570_sites.txt\n"
     ]
    },
    {
     "name": "stdout",
     "output_type": "stream",
     "text": [
      "/local/home/sarahgw/angsd/angsd/angsd sites index /local/home/sarahgw/WGS/SNPS/All_mylu/snps/NJNY46_sites_files/325782_sites.txt\n",
      "/local/home/sarahgw/angsd/angsd/angsd sites index /local/home/sarahgw/WGS/SNPS/All_mylu/snps/NJNY46_sites_files/181206_sites.txt\n",
      "/local/home/sarahgw/angsd/angsd/angsd sites index /local/home/sarahgw/WGS/SNPS/All_mylu/snps/NJNY46_sites_files/387830_sites.txt\n",
      "/local/home/sarahgw/angsd/angsd/angsd sites index /local/home/sarahgw/WGS/SNPS/All_mylu/snps/NJNY46_sites_files/396141_sites.txt\n",
      "/local/home/sarahgw/angsd/angsd/angsd sites index /local/home/sarahgw/WGS/SNPS/All_mylu/snps/NJNY46_sites_files/347149_sites.txt\n",
      "/local/home/sarahgw/angsd/angsd/angsd sites index /local/home/sarahgw/WGS/SNPS/All_mylu/snps/NJNY46_sites_files/228666_sites.txt\n",
      "/local/home/sarahgw/angsd/angsd/angsd sites index /local/home/sarahgw/WGS/SNPS/All_mylu/snps/NJNY46_sites_files/155147_sites.txt\n",
      "/local/home/sarahgw/angsd/angsd/angsd sites index /local/home/sarahgw/WGS/SNPS/All_mylu/snps/NJNY46_sites_files/375935_sites.txt\n",
      "/local/home/sarahgw/angsd/angsd/angsd sites index /local/home/sarahgw/WGS/SNPS/All_mylu/snps/NJNY46_sites_files/375937_sites.txt\n",
      "/local/home/sarahgw/angsd/angsd/angsd sites index /local/home/sarahgw/WGS/SNPS/All_mylu/snps/NJNY46_sites_files/75545_sites.txt\n",
      "/local/home/sarahgw/angsd/angsd/angsd sites index /local/home/sarahgw/WGS/SNPS/All_mylu/snps/NJNY46_sites_files/252205_sites.txt\n",
      "/local/home/sarahgw/angsd/angsd/angsd sites index /local/home/sarahgw/WGS/SNPS/All_mylu/snps/NJNY46_sites_files/403436_sites.txt\n",
      "/local/home/sarahgw/angsd/angsd/angsd sites index /local/home/sarahgw/WGS/SNPS/All_mylu/snps/NJNY46_sites_files/75168_sites.txt\n",
      "/local/home/sarahgw/angsd/angsd/angsd sites index /local/home/sarahgw/WGS/SNPS/All_mylu/snps/NJNY46_sites_files/75169_sites.txt\n",
      "/local/home/sarahgw/angsd/angsd/angsd sites index /local/home/sarahgw/WGS/SNPS/All_mylu/snps/NJNY46_sites_files/161318_sites.txt\n",
      "/local/home/sarahgw/angsd/angsd/angsd sites index /local/home/sarahgw/WGS/SNPS/All_mylu/snps/NJNY46_sites_files/393539_sites.txt\n",
      "/local/home/sarahgw/angsd/angsd/angsd sites index /local/home/sarahgw/WGS/SNPS/All_mylu/snps/NJNY46_sites_files/108539_sites.txt\n",
      "/local/home/sarahgw/angsd/angsd/angsd sites index /local/home/sarahgw/WGS/SNPS/All_mylu/snps/NJNY46_sites_files/81098_sites.txt\n",
      "/local/home/sarahgw/angsd/angsd/angsd sites index /local/home/sarahgw/WGS/SNPS/All_mylu/snps/NJNY46_sites_files/127419_sites.txt\n",
      "/local/home/sarahgw/angsd/angsd/angsd sites index /local/home/sarahgw/WGS/SNPS/All_mylu/snps/NJNY46_sites_files/170341_sites.txt\n",
      "/local/home/sarahgw/angsd/angsd/angsd sites index /local/home/sarahgw/WGS/SNPS/All_mylu/snps/NJNY46_sites_files/61186_sites.txt\n",
      "/local/home/sarahgw/angsd/angsd/angsd sites index /local/home/sarahgw/WGS/SNPS/All_mylu/snps/NJNY46_sites_files/63666_sites.txt\n",
      "/local/home/sarahgw/angsd/angsd/angsd sites index /local/home/sarahgw/WGS/SNPS/All_mylu/snps/NJNY46_sites_files/246297_sites.txt\n",
      "/local/home/sarahgw/angsd/angsd/angsd sites index /local/home/sarahgw/WGS/SNPS/All_mylu/snps/NJNY46_sites_files/171577_sites.txt\n",
      "/local/home/sarahgw/angsd/angsd/angsd sites index /local/home/sarahgw/WGS/SNPS/All_mylu/snps/NJNY46_sites_files/94946_sites.txt\n",
      "/local/home/sarahgw/angsd/angsd/angsd sites index /local/home/sarahgw/WGS/SNPS/All_mylu/snps/NJNY46_sites_files/43396_sites.txt\n",
      "/local/home/sarahgw/angsd/angsd/angsd sites index /local/home/sarahgw/WGS/SNPS/All_mylu/snps/NJNY46_sites_files/154342_sites.txt\n",
      "/local/home/sarahgw/angsd/angsd/angsd sites index /local/home/sarahgw/WGS/SNPS/All_mylu/snps/NJNY46_sites_files/150229_sites.txt\n",
      "/local/home/sarahgw/angsd/angsd/angsd sites index /local/home/sarahgw/WGS/SNPS/All_mylu/snps/NJNY46_sites_files/94002_sites.txt\n",
      "/local/home/sarahgw/angsd/angsd/angsd sites index /local/home/sarahgw/WGS/SNPS/All_mylu/snps/NJNY46_sites_files/33844_sites.txt\n",
      "/local/home/sarahgw/angsd/angsd/angsd sites index /local/home/sarahgw/WGS/SNPS/All_mylu/snps/NJNY46_sites_files/23225_sites.txt\n",
      "/local/home/sarahgw/angsd/angsd/angsd sites index /local/home/sarahgw/WGS/SNPS/All_mylu/snps/NJNY46_sites_files/7266_sites.txt\n",
      "/local/home/sarahgw/angsd/angsd/angsd sites index /local/home/sarahgw/WGS/SNPS/All_mylu/snps/NJNY46_sites_files/2435_sites.txt\n",
      "/local/home/sarahgw/angsd/angsd/angsd sites index /local/home/sarahgw/WGS/SNPS/All_mylu/snps/NJNY46_sites_files/2570_sites.txt\n",
      "/local/home/sarahgw/angsd/angsd/angsd sites index /local/home/sarahgw/WGS/SNPS/All_mylu/snps/NJNY46_sites_files/505946_sites.txt\n",
      "/local/home/sarahgw/angsd/angsd/angsd sites index /local/home/sarahgw/WGS/SNPS/All_mylu/snps/NJNY46_sites_files/5191689_sites.txt\n",
      "/local/home/sarahgw/angsd/angsd/angsd sites index /local/home/sarahgw/WGS/SNPS/All_mylu/snps/NJNY46_sites_files/5619613_sites.txt\n",
      "/local/home/sarahgw/angsd/angsd/angsd sites index /local/home/sarahgw/WGS/SNPS/All_mylu/snps/NJNY46_sites_files/12224327_sites.txt\n",
      "/local/home/sarahgw/angsd/angsd/angsd sites index /local/home/sarahgw/WGS/SNPS/All_mylu/snps/NJNY46_sites_files/32391149_sites.txt\n",
      "/local/home/sarahgw/angsd/angsd/angsd sites index /local/home/sarahgw/WGS/SNPS/All_mylu/snps/NJNY46_sites_files/33070695_sites.txt\n",
      "/local/home/sarahgw/angsd/angsd/angsd sites index /local/home/sarahgw/WGS/SNPS/All_mylu/snps/NJNY46_sites_files/43318129_sites.txt\n",
      "/local/home/sarahgw/angsd/angsd/angsd sites index /local/home/sarahgw/WGS/SNPS/All_mylu/snps/NJNY46_sites_files/45659152_sites.txt\n",
      "/local/home/sarahgw/angsd/angsd/angsd sites index /local/home/sarahgw/WGS/SNPS/All_mylu/snps/NJNY46_sites_files/46648147_sites.txt\n",
      "/local/home/sarahgw/angsd/angsd/angsd sites index /local/home/sarahgw/WGS/SNPS/All_mylu/snps/NJNY46_sites_files/49031257_sites.txt\n",
      "/local/home/sarahgw/angsd/angsd/angsd sites index /local/home/sarahgw/WGS/SNPS/All_mylu/snps/NJNY46_sites_files/50560407_sites.txt\n",
      "/local/home/sarahgw/angsd/angsd/angsd sites index /local/home/sarahgw/WGS/SNPS/All_mylu/snps/NJNY46_sites_files/51087908_sites.txt\n",
      "/local/home/sarahgw/angsd/angsd/angsd sites index /local/home/sarahgw/WGS/SNPS/All_mylu/snps/NJNY46_sites_files/51542845_sites.txt\n",
      "/local/home/sarahgw/angsd/angsd/angsd sites index /local/home/sarahgw/WGS/SNPS/All_mylu/snps/NJNY46_sites_files/56832951_sites.txt\n",
      "/local/home/sarahgw/angsd/angsd/angsd sites index /local/home/sarahgw/WGS/SNPS/All_mylu/snps/NJNY46_sites_files/57430180_sites.txt\n",
      "/local/home/sarahgw/angsd/angsd/angsd sites index /local/home/sarahgw/WGS/SNPS/All_mylu/snps/NJNY46_sites_files/59373487_sites.txt\n",
      "/local/home/sarahgw/angsd/angsd/angsd sites index /local/home/sarahgw/WGS/SNPS/All_mylu/snps/NJNY46_sites_files/62039900_sites.txt\n",
      "/local/home/sarahgw/angsd/angsd/angsd sites index /local/home/sarahgw/WGS/SNPS/All_mylu/snps/NJNY46_sites_files/62286800_sites.txt\n",
      "/local/home/sarahgw/angsd/angsd/angsd sites index /local/home/sarahgw/WGS/SNPS/All_mylu/snps/NJNY46_sites_files/4318783_sites.txt\n",
      "/local/home/sarahgw/angsd/angsd/angsd sites index /local/home/sarahgw/WGS/SNPS/All_mylu/snps/NJNY46_sites_files/4879171_sites.txt\n",
      "/local/home/sarahgw/angsd/angsd/angsd sites index /local/home/sarahgw/WGS/SNPS/All_mylu/snps/NJNY46_sites_files/5465540_sites.txt\n",
      "/local/home/sarahgw/angsd/angsd/angsd sites index /local/home/sarahgw/WGS/SNPS/All_mylu/snps/NJNY46_sites_files/20115734_sites.txt\n",
      "/local/home/sarahgw/angsd/angsd/angsd sites index /local/home/sarahgw/WGS/SNPS/All_mylu/snps/NJNY46_sites_files/31146398_sites.txt\n",
      "/local/home/sarahgw/angsd/angsd/angsd sites index /local/home/sarahgw/WGS/SNPS/All_mylu/snps/NJNY46_sites_files/6378055_sites.txt\n",
      "/local/home/sarahgw/angsd/angsd/angsd sites index /local/home/sarahgw/WGS/SNPS/All_mylu/snps/NJNY46_sites_files/21093253_sites.txt\n",
      "/local/home/sarahgw/angsd/angsd/angsd sites index /local/home/sarahgw/WGS/SNPS/All_mylu/snps/NJNY46_sites_files/8979620_sites.txt\n",
      "/local/home/sarahgw/angsd/angsd/angsd sites index /local/home/sarahgw/WGS/SNPS/All_mylu/snps/NJNY46_sites_files/9401629_sites.txt\n",
      "/local/home/sarahgw/angsd/angsd/angsd sites index /local/home/sarahgw/WGS/SNPS/All_mylu/snps/NJNY46_sites_files/18486599_sites.txt\n",
      "/local/home/sarahgw/angsd/angsd/angsd sites index /local/home/sarahgw/WGS/SNPS/All_mylu/snps/NJNY46_sites_files/25612922_sites.txt\n",
      "/local/home/sarahgw/angsd/angsd/angsd sites index /local/home/sarahgw/WGS/SNPS/All_mylu/snps/NJNY46_sites_files/28875615_sites.txt\n"
     ]
    },
    {
     "name": "stdout",
     "output_type": "stream",
     "text": [
      "/local/home/sarahgw/angsd/angsd/angsd sites index /local/home/sarahgw/WGS/SNPS/All_mylu/snps/NJNY46_sites_files/28975069_sites.txt\n",
      "/local/home/sarahgw/angsd/angsd/angsd sites index /local/home/sarahgw/WGS/SNPS/All_mylu/snps/NJNY46_sites_files/30064111_sites.txt\n",
      "/local/home/sarahgw/angsd/angsd/angsd sites index /local/home/sarahgw/WGS/SNPS/All_mylu/snps/NJNY46_sites_files/10380317_sites.txt\n",
      "/local/home/sarahgw/angsd/angsd/angsd sites index /local/home/sarahgw/WGS/SNPS/All_mylu/snps/NJNY46_sites_files/10848008_sites.txt\n",
      "/local/home/sarahgw/angsd/angsd/angsd sites index /local/home/sarahgw/WGS/SNPS/All_mylu/snps/NJNY46_sites_files/13648304_sites.txt\n",
      "/local/home/sarahgw/angsd/angsd/angsd sites index /local/home/sarahgw/WGS/SNPS/All_mylu/snps/NJNY46_sites_files/16572391_sites.txt\n",
      "/local/home/sarahgw/angsd/angsd/angsd sites index /local/home/sarahgw/WGS/SNPS/All_mylu/snps/NJNY46_sites_files/17263603_sites.txt\n",
      "/local/home/sarahgw/angsd/angsd/angsd sites index /local/home/sarahgw/WGS/SNPS/All_mylu/snps/NJNY46_sites_files/5383721_sites.txt\n",
      "/local/home/sarahgw/angsd/angsd/angsd sites index /local/home/sarahgw/WGS/SNPS/All_mylu/snps/NJNY46_sites_files/5556498_sites.txt\n",
      "/local/home/sarahgw/angsd/angsd/angsd sites index /local/home/sarahgw/WGS/SNPS/All_mylu/snps/NJNY46_sites_files/11870370_sites.txt\n",
      "/local/home/sarahgw/angsd/angsd/angsd sites index /local/home/sarahgw/WGS/SNPS/All_mylu/snps/NJNY46_sites_files/15171335_sites.txt\n",
      "/local/home/sarahgw/angsd/angsd/angsd sites index /local/home/sarahgw/WGS/SNPS/All_mylu/snps/NJNY46_sites_files/2967571_sites.txt\n",
      "/local/home/sarahgw/angsd/angsd/angsd sites index /local/home/sarahgw/WGS/SNPS/All_mylu/snps/NJNY46_sites_files/3122199_sites.txt\n",
      "/local/home/sarahgw/angsd/angsd/angsd sites index /local/home/sarahgw/WGS/SNPS/All_mylu/snps/NJNY46_sites_files/3930508_sites.txt\n",
      "/local/home/sarahgw/angsd/angsd/angsd sites index /local/home/sarahgw/WGS/SNPS/All_mylu/snps/NJNY46_sites_files/13707027_sites.txt\n",
      "/local/home/sarahgw/angsd/angsd/angsd sites index /local/home/sarahgw/WGS/SNPS/All_mylu/snps/NJNY46_sites_files/13891818_sites.txt\n",
      "/local/home/sarahgw/angsd/angsd/angsd sites index /local/home/sarahgw/WGS/SNPS/All_mylu/snps/NJNY46_sites_files/14389467_sites.txt\n",
      "/local/home/sarahgw/angsd/angsd/angsd sites index /local/home/sarahgw/WGS/SNPS/All_mylu/snps/NJNY46_sites_files/14389468_sites.txt\n",
      "/local/home/sarahgw/angsd/angsd/angsd sites index /local/home/sarahgw/WGS/SNPS/All_mylu/snps/NJNY46_sites_files/16063378_sites.txt\n",
      "/local/home/sarahgw/angsd/angsd/angsd sites index /local/home/sarahgw/WGS/SNPS/All_mylu/snps/NJNY46_sites_files/16082501_sites.txt\n",
      "/local/home/sarahgw/angsd/angsd/angsd sites index /local/home/sarahgw/WGS/SNPS/All_mylu/snps/NJNY46_sites_files/16082508_sites.txt\n",
      "/local/home/sarahgw/angsd/angsd/angsd sites index /local/home/sarahgw/WGS/SNPS/All_mylu/snps/NJNY46_sites_files/10616162_sites.txt\n",
      "/local/home/sarahgw/angsd/angsd/angsd sites index /local/home/sarahgw/WGS/SNPS/All_mylu/snps/NJNY46_sites_files/1995542_sites.txt\n",
      "/local/home/sarahgw/angsd/angsd/angsd sites index /local/home/sarahgw/WGS/SNPS/All_mylu/snps/NJNY46_sites_files/7026329_sites.txt\n",
      "/local/home/sarahgw/angsd/angsd/angsd sites index /local/home/sarahgw/WGS/SNPS/All_mylu/snps/NJNY46_sites_files/731658_sites.txt\n",
      "/local/home/sarahgw/angsd/angsd/angsd sites index /local/home/sarahgw/WGS/SNPS/All_mylu/snps/NJNY46_sites_files/6672334_sites.txt\n",
      "/local/home/sarahgw/angsd/angsd/angsd sites index /local/home/sarahgw/WGS/SNPS/All_mylu/snps/NJNY46_sites_files/10050802_sites.txt\n",
      "/local/home/sarahgw/angsd/angsd/angsd sites index /local/home/sarahgw/WGS/SNPS/All_mylu/snps/NJNY46_sites_files/12939549_sites.txt\n",
      "/local/home/sarahgw/angsd/angsd/angsd sites index /local/home/sarahgw/WGS/SNPS/All_mylu/snps/NJNY46_sites_files/3438190_sites.txt\n",
      "/local/home/sarahgw/angsd/angsd/angsd sites index /local/home/sarahgw/WGS/SNPS/All_mylu/snps/NJNY46_sites_files/1659106_sites.txt\n",
      "/local/home/sarahgw/angsd/angsd/angsd sites index /local/home/sarahgw/WGS/SNPS/All_mylu/snps/NJNY46_sites_files/2508868_sites.txt\n",
      "/local/home/sarahgw/angsd/angsd/angsd sites index /local/home/sarahgw/WGS/SNPS/All_mylu/snps/NJNY46_sites_files/2508869_sites.txt\n",
      "/local/home/sarahgw/angsd/angsd/angsd sites index /local/home/sarahgw/WGS/SNPS/All_mylu/snps/NJNY46_sites_files/12144188_sites.txt\n",
      "/local/home/sarahgw/angsd/angsd/angsd sites index /local/home/sarahgw/WGS/SNPS/All_mylu/snps/NJNY46_sites_files/11740114_sites.txt\n",
      "/local/home/sarahgw/angsd/angsd/angsd sites index /local/home/sarahgw/WGS/SNPS/All_mylu/snps/NJNY46_sites_files/12940929_sites.txt\n",
      "/local/home/sarahgw/angsd/angsd/angsd sites index /local/home/sarahgw/WGS/SNPS/All_mylu/snps/NJNY46_sites_files/678246_sites.txt\n",
      "/local/home/sarahgw/angsd/angsd/angsd sites index /local/home/sarahgw/WGS/SNPS/All_mylu/snps/NJNY46_sites_files/7341092_sites.txt\n",
      "/local/home/sarahgw/angsd/angsd/angsd sites index /local/home/sarahgw/WGS/SNPS/All_mylu/snps/NJNY46_sites_files/3928062_sites.txt\n",
      "/local/home/sarahgw/angsd/angsd/angsd sites index /local/home/sarahgw/WGS/SNPS/All_mylu/snps/NJNY46_sites_files/10044194_sites.txt\n",
      "/local/home/sarahgw/angsd/angsd/angsd sites index /local/home/sarahgw/WGS/SNPS/All_mylu/snps/NJNY46_sites_files/5876215_sites.txt\n",
      "/local/home/sarahgw/angsd/angsd/angsd sites index /local/home/sarahgw/WGS/SNPS/All_mylu/snps/NJNY46_sites_files/9521905_sites.txt\n",
      "/local/home/sarahgw/angsd/angsd/angsd sites index /local/home/sarahgw/WGS/SNPS/All_mylu/snps/NJNY46_sites_files/753146_sites.txt\n",
      "/local/home/sarahgw/angsd/angsd/angsd sites index /local/home/sarahgw/WGS/SNPS/All_mylu/snps/NJNY46_sites_files/1112580_sites.txt\n",
      "/local/home/sarahgw/angsd/angsd/angsd sites index /local/home/sarahgw/WGS/SNPS/All_mylu/snps/NJNY46_sites_files/1145085_sites.txt\n",
      "/local/home/sarahgw/angsd/angsd/angsd sites index /local/home/sarahgw/WGS/SNPS/All_mylu/snps/NJNY46_sites_files/6544076_sites.txt\n",
      "/local/home/sarahgw/angsd/angsd/angsd sites index /local/home/sarahgw/WGS/SNPS/All_mylu/snps/NJNY46_sites_files/8232041_sites.txt\n",
      "/local/home/sarahgw/angsd/angsd/angsd sites index /local/home/sarahgw/WGS/SNPS/All_mylu/snps/NJNY46_sites_files/7822219_sites.txt\n",
      "/local/home/sarahgw/angsd/angsd/angsd sites index /local/home/sarahgw/WGS/SNPS/All_mylu/snps/NJNY46_sites_files/5195385_sites.txt\n",
      "/local/home/sarahgw/angsd/angsd/angsd sites index /local/home/sarahgw/WGS/SNPS/All_mylu/snps/NJNY46_sites_files/7443621_sites.txt\n",
      "/local/home/sarahgw/angsd/angsd/angsd sites index /local/home/sarahgw/WGS/SNPS/All_mylu/snps/NJNY46_sites_files/9670485_sites.txt\n",
      "/local/home/sarahgw/angsd/angsd/angsd sites index /local/home/sarahgw/WGS/SNPS/All_mylu/snps/NJNY46_sites_files/6746322_sites.txt\n",
      "/local/home/sarahgw/angsd/angsd/angsd sites index /local/home/sarahgw/WGS/SNPS/All_mylu/snps/NJNY46_sites_files/8458567_sites.txt\n",
      "/local/home/sarahgw/angsd/angsd/angsd sites index /local/home/sarahgw/WGS/SNPS/All_mylu/snps/NJNY46_sites_files/5619306_sites.txt\n",
      "/local/home/sarahgw/angsd/angsd/angsd sites index /local/home/sarahgw/WGS/SNPS/All_mylu/snps/NJNY46_sites_files/5870529_sites.txt\n",
      "/local/home/sarahgw/angsd/angsd/angsd sites index /local/home/sarahgw/WGS/SNPS/All_mylu/snps/NJNY46_sites_files/7009926_sites.txt\n",
      "/local/home/sarahgw/angsd/angsd/angsd sites index /local/home/sarahgw/WGS/SNPS/All_mylu/snps/NJNY46_sites_files/2375752_sites.txt\n",
      "/local/home/sarahgw/angsd/angsd/angsd sites index /local/home/sarahgw/WGS/SNPS/All_mylu/snps/NJNY46_sites_files/6387695_sites.txt\n",
      "/local/home/sarahgw/angsd/angsd/angsd sites index /local/home/sarahgw/WGS/SNPS/All_mylu/snps/NJNY46_sites_files/7259016_sites.txt\n",
      "/local/home/sarahgw/angsd/angsd/angsd sites index /local/home/sarahgw/WGS/SNPS/All_mylu/snps/NJNY46_sites_files/8237602_sites.txt\n",
      "/local/home/sarahgw/angsd/angsd/angsd sites index /local/home/sarahgw/WGS/SNPS/All_mylu/snps/NJNY46_sites_files/737141_sites.txt\n",
      "/local/home/sarahgw/angsd/angsd/angsd sites index /local/home/sarahgw/WGS/SNPS/All_mylu/snps/NJNY46_sites_files/4562615_sites.txt\n",
      "/local/home/sarahgw/angsd/angsd/angsd sites index /local/home/sarahgw/WGS/SNPS/All_mylu/snps/NJNY46_sites_files/4987149_sites.txt\n",
      "/local/home/sarahgw/angsd/angsd/angsd sites index /local/home/sarahgw/WGS/SNPS/All_mylu/snps/NJNY46_sites_files/7829302_sites.txt\n",
      "/local/home/sarahgw/angsd/angsd/angsd sites index /local/home/sarahgw/WGS/SNPS/All_mylu/snps/NJNY46_sites_files/5314654_sites.txt\n",
      "/local/home/sarahgw/angsd/angsd/angsd sites index /local/home/sarahgw/WGS/SNPS/All_mylu/snps/NJNY46_sites_files/1994447_sites.txt\n",
      "/local/home/sarahgw/angsd/angsd/angsd sites index /local/home/sarahgw/WGS/SNPS/All_mylu/snps/NJNY46_sites_files/1149572_sites.txt\n",
      "/local/home/sarahgw/angsd/angsd/angsd sites index /local/home/sarahgw/WGS/SNPS/All_mylu/snps/NJNY46_sites_files/1162193_sites.txt\n",
      "/local/home/sarahgw/angsd/angsd/angsd sites index /local/home/sarahgw/WGS/SNPS/All_mylu/snps/NJNY46_sites_files/2808264_sites.txt\n",
      "/local/home/sarahgw/angsd/angsd/angsd sites index /local/home/sarahgw/WGS/SNPS/All_mylu/snps/NJNY46_sites_files/5089273_sites.txt\n",
      "/local/home/sarahgw/angsd/angsd/angsd sites index /local/home/sarahgw/WGS/SNPS/All_mylu/snps/NJNY46_sites_files/5396841_sites.txt\n",
      "/local/home/sarahgw/angsd/angsd/angsd sites index /local/home/sarahgw/WGS/SNPS/All_mylu/snps/NJNY46_sites_files/2802073_sites.txt\n",
      "/local/home/sarahgw/angsd/angsd/angsd sites index /local/home/sarahgw/WGS/SNPS/All_mylu/snps/NJNY46_sites_files/5756625_sites.txt\n",
      "/local/home/sarahgw/angsd/angsd/angsd sites index /local/home/sarahgw/WGS/SNPS/All_mylu/snps/NJNY46_sites_files/2468652_sites.txt\n",
      "/local/home/sarahgw/angsd/angsd/angsd sites index /local/home/sarahgw/WGS/SNPS/All_mylu/snps/NJNY46_sites_files/3937847_sites.txt\n",
      "/local/home/sarahgw/angsd/angsd/angsd sites index /local/home/sarahgw/WGS/SNPS/All_mylu/snps/NJNY46_sites_files/4189238_sites.txt\n",
      "/local/home/sarahgw/angsd/angsd/angsd sites index /local/home/sarahgw/WGS/SNPS/All_mylu/snps/NJNY46_sites_files/4305724_sites.txt\n",
      "/local/home/sarahgw/angsd/angsd/angsd sites index /local/home/sarahgw/WGS/SNPS/All_mylu/snps/NJNY46_sites_files/5564333_sites.txt\n",
      "/local/home/sarahgw/angsd/angsd/angsd sites index /local/home/sarahgw/WGS/SNPS/All_mylu/snps/NJNY46_sites_files/6146410_sites.txt\n",
      "/local/home/sarahgw/angsd/angsd/angsd sites index /local/home/sarahgw/WGS/SNPS/All_mylu/snps/NJNY46_sites_files/2564071_sites.txt\n",
      "/local/home/sarahgw/angsd/angsd/angsd sites index /local/home/sarahgw/WGS/SNPS/All_mylu/snps/NJNY46_sites_files/6661862_sites.txt\n",
      "/local/home/sarahgw/angsd/angsd/angsd sites index /local/home/sarahgw/WGS/SNPS/All_mylu/snps/NJNY46_sites_files/3089317_sites.txt\n",
      "/local/home/sarahgw/angsd/angsd/angsd sites index /local/home/sarahgw/WGS/SNPS/All_mylu/snps/NJNY46_sites_files/3454200_sites.txt\n"
     ]
    },
    {
     "name": "stdout",
     "output_type": "stream",
     "text": [
      "/local/home/sarahgw/angsd/angsd/angsd sites index /local/home/sarahgw/WGS/SNPS/All_mylu/snps/NJNY46_sites_files/1441079_sites.txt\n",
      "/local/home/sarahgw/angsd/angsd/angsd sites index /local/home/sarahgw/WGS/SNPS/All_mylu/snps/NJNY46_sites_files/3032346_sites.txt\n",
      "/local/home/sarahgw/angsd/angsd/angsd sites index /local/home/sarahgw/WGS/SNPS/All_mylu/snps/NJNY46_sites_files/96021_sites.txt\n",
      "/local/home/sarahgw/angsd/angsd/angsd sites index /local/home/sarahgw/WGS/SNPS/All_mylu/snps/NJNY46_sites_files/3364392_sites.txt\n",
      "/local/home/sarahgw/angsd/angsd/angsd sites index /local/home/sarahgw/WGS/SNPS/All_mylu/snps/NJNY46_sites_files/1640081_sites.txt\n",
      "/local/home/sarahgw/angsd/angsd/angsd sites index /local/home/sarahgw/WGS/SNPS/All_mylu/snps/NJNY46_sites_files/1788468_sites.txt\n",
      "/local/home/sarahgw/angsd/angsd/angsd sites index /local/home/sarahgw/WGS/SNPS/All_mylu/snps/NJNY46_sites_files/1913231_sites.txt\n",
      "/local/home/sarahgw/angsd/angsd/angsd sites index /local/home/sarahgw/WGS/SNPS/All_mylu/snps/NJNY46_sites_files/1952917_sites.txt\n",
      "/local/home/sarahgw/angsd/angsd/angsd sites index /local/home/sarahgw/WGS/SNPS/All_mylu/snps/NJNY46_sites_files/626996_sites.txt\n",
      "/local/home/sarahgw/angsd/angsd/angsd sites index /local/home/sarahgw/WGS/SNPS/All_mylu/snps/NJNY46_sites_files/3857738_sites.txt\n",
      "/local/home/sarahgw/angsd/angsd/angsd sites index /local/home/sarahgw/WGS/SNPS/All_mylu/snps/NJNY46_sites_files/4018847_sites.txt\n",
      "/local/home/sarahgw/angsd/angsd/angsd sites index /local/home/sarahgw/WGS/SNPS/All_mylu/snps/NJNY46_sites_files/2603833_sites.txt\n",
      "/local/home/sarahgw/angsd/angsd/angsd sites index /local/home/sarahgw/WGS/SNPS/All_mylu/snps/NJNY46_sites_files/677063_sites.txt\n",
      "/local/home/sarahgw/angsd/angsd/angsd sites index /local/home/sarahgw/WGS/SNPS/All_mylu/snps/NJNY46_sites_files/1419684_sites.txt\n",
      "/local/home/sarahgw/angsd/angsd/angsd sites index /local/home/sarahgw/WGS/SNPS/All_mylu/snps/NJNY46_sites_files/3806728_sites.txt\n",
      "/local/home/sarahgw/angsd/angsd/angsd sites index /local/home/sarahgw/WGS/SNPS/All_mylu/snps/NJNY46_sites_files/956470_sites.txt\n",
      "/local/home/sarahgw/angsd/angsd/angsd sites index /local/home/sarahgw/WGS/SNPS/All_mylu/snps/NJNY46_sites_files/1846090_sites.txt\n",
      "/local/home/sarahgw/angsd/angsd/angsd sites index /local/home/sarahgw/WGS/SNPS/All_mylu/snps/NJNY46_sites_files/950361_sites.txt\n",
      "/local/home/sarahgw/angsd/angsd/angsd sites index /local/home/sarahgw/WGS/SNPS/All_mylu/snps/NJNY46_sites_files/3953803_sites.txt\n",
      "/local/home/sarahgw/angsd/angsd/angsd sites index /local/home/sarahgw/WGS/SNPS/All_mylu/snps/NJNY46_sites_files/3864502_sites.txt\n",
      "/local/home/sarahgw/angsd/angsd/angsd sites index /local/home/sarahgw/WGS/SNPS/All_mylu/snps/NJNY46_sites_files/369075_sites.txt\n",
      "/local/home/sarahgw/angsd/angsd/angsd sites index /local/home/sarahgw/WGS/SNPS/All_mylu/snps/NJNY46_sites_files/1839511_sites.txt\n",
      "/local/home/sarahgw/angsd/angsd/angsd sites index /local/home/sarahgw/WGS/SNPS/All_mylu/snps/NJNY46_sites_files/3436495_sites.txt\n",
      "/local/home/sarahgw/angsd/angsd/angsd sites index /local/home/sarahgw/WGS/SNPS/All_mylu/snps/NJNY46_sites_files/386877_sites.txt\n",
      "/local/home/sarahgw/angsd/angsd/angsd sites index /local/home/sarahgw/WGS/SNPS/All_mylu/snps/NJNY46_sites_files/3092347_sites.txt\n",
      "/local/home/sarahgw/angsd/angsd/angsd sites index /local/home/sarahgw/WGS/SNPS/All_mylu/snps/NJNY46_sites_files/4289756_sites.txt\n",
      "/local/home/sarahgw/angsd/angsd/angsd sites index /local/home/sarahgw/WGS/SNPS/All_mylu/snps/NJNY46_sites_files/2945248_sites.txt\n",
      "/local/home/sarahgw/angsd/angsd/angsd sites index /local/home/sarahgw/WGS/SNPS/All_mylu/snps/NJNY46_sites_files/3987110_sites.txt\n",
      "/local/home/sarahgw/angsd/angsd/angsd sites index /local/home/sarahgw/WGS/SNPS/All_mylu/snps/NJNY46_sites_files/3590607_sites.txt\n",
      "/local/home/sarahgw/angsd/angsd/angsd sites index /local/home/sarahgw/WGS/SNPS/All_mylu/snps/NJNY46_sites_files/3007792_sites.txt\n",
      "/local/home/sarahgw/angsd/angsd/angsd sites index /local/home/sarahgw/WGS/SNPS/All_mylu/snps/NJNY46_sites_files/1699181_sites.txt\n",
      "/local/home/sarahgw/angsd/angsd/angsd sites index /local/home/sarahgw/WGS/SNPS/All_mylu/snps/NJNY46_sites_files/2574973_sites.txt\n",
      "/local/home/sarahgw/angsd/angsd/angsd sites index /local/home/sarahgw/WGS/SNPS/All_mylu/snps/NJNY46_sites_files/3555623_sites.txt\n",
      "/local/home/sarahgw/angsd/angsd/angsd sites index /local/home/sarahgw/WGS/SNPS/All_mylu/snps/NJNY46_sites_files/793804_sites.txt\n",
      "/local/home/sarahgw/angsd/angsd/angsd sites index /local/home/sarahgw/WGS/SNPS/All_mylu/snps/NJNY46_sites_files/2958489_sites.txt\n",
      "/local/home/sarahgw/angsd/angsd/angsd sites index /local/home/sarahgw/WGS/SNPS/All_mylu/snps/NJNY46_sites_files/2551103_sites.txt\n",
      "/local/home/sarahgw/angsd/angsd/angsd sites index /local/home/sarahgw/WGS/SNPS/All_mylu/snps/NJNY46_sites_files/2551105_sites.txt\n",
      "/local/home/sarahgw/angsd/angsd/angsd sites index /local/home/sarahgw/WGS/SNPS/All_mylu/snps/NJNY46_sites_files/1865694_sites.txt\n",
      "/local/home/sarahgw/angsd/angsd/angsd sites index /local/home/sarahgw/WGS/SNPS/All_mylu/snps/NJNY46_sites_files/2002360_sites.txt\n",
      "/local/home/sarahgw/angsd/angsd/angsd sites index /local/home/sarahgw/WGS/SNPS/All_mylu/snps/NJNY46_sites_files/1394397_sites.txt\n",
      "/local/home/sarahgw/angsd/angsd/angsd sites index /local/home/sarahgw/WGS/SNPS/All_mylu/snps/NJNY46_sites_files/3573251_sites.txt\n",
      "/local/home/sarahgw/angsd/angsd/angsd sites index /local/home/sarahgw/WGS/SNPS/All_mylu/snps/NJNY46_sites_files/187895_sites.txt\n",
      "/local/home/sarahgw/angsd/angsd/angsd sites index /local/home/sarahgw/WGS/SNPS/All_mylu/snps/NJNY46_sites_files/2904989_sites.txt\n",
      "/local/home/sarahgw/angsd/angsd/angsd sites index /local/home/sarahgw/WGS/SNPS/All_mylu/snps/NJNY46_sites_files/2844570_sites.txt\n",
      "/local/home/sarahgw/angsd/angsd/angsd sites index /local/home/sarahgw/WGS/SNPS/All_mylu/snps/NJNY46_sites_files/640321_sites.txt\n",
      "/local/home/sarahgw/angsd/angsd/angsd sites index /local/home/sarahgw/WGS/SNPS/All_mylu/snps/NJNY46_sites_files/640328_sites.txt\n",
      "/local/home/sarahgw/angsd/angsd/angsd sites index /local/home/sarahgw/WGS/SNPS/All_mylu/snps/NJNY46_sites_files/1999488_sites.txt\n",
      "/local/home/sarahgw/angsd/angsd/angsd sites index /local/home/sarahgw/WGS/SNPS/All_mylu/snps/NJNY46_sites_files/2695504_sites.txt\n",
      "/local/home/sarahgw/angsd/angsd/angsd sites index /local/home/sarahgw/WGS/SNPS/All_mylu/snps/NJNY46_sites_files/1457135_sites.txt\n",
      "/local/home/sarahgw/angsd/angsd/angsd sites index /local/home/sarahgw/WGS/SNPS/All_mylu/snps/NJNY46_sites_files/1636078_sites.txt\n",
      "/local/home/sarahgw/angsd/angsd/angsd sites index /local/home/sarahgw/WGS/SNPS/All_mylu/snps/NJNY46_sites_files/1727488_sites.txt\n",
      "/local/home/sarahgw/angsd/angsd/angsd sites index /local/home/sarahgw/WGS/SNPS/All_mylu/snps/NJNY46_sites_files/2027877_sites.txt\n",
      "/local/home/sarahgw/angsd/angsd/angsd sites index /local/home/sarahgw/WGS/SNPS/All_mylu/snps/NJNY46_sites_files/2027949_sites.txt\n",
      "/local/home/sarahgw/angsd/angsd/angsd sites index /local/home/sarahgw/WGS/SNPS/All_mylu/snps/NJNY46_sites_files/642204_sites.txt\n",
      "/local/home/sarahgw/angsd/angsd/angsd sites index /local/home/sarahgw/WGS/SNPS/All_mylu/snps/NJNY46_sites_files/1896773_sites.txt\n",
      "/local/home/sarahgw/angsd/angsd/angsd sites index /local/home/sarahgw/WGS/SNPS/All_mylu/snps/NJNY46_sites_files/2753916_sites.txt\n",
      "/local/home/sarahgw/angsd/angsd/angsd sites index /local/home/sarahgw/WGS/SNPS/All_mylu/snps/NJNY46_sites_files/677504_sites.txt\n",
      "/local/home/sarahgw/angsd/angsd/angsd sites index /local/home/sarahgw/WGS/SNPS/All_mylu/snps/NJNY46_sites_files/431960_sites.txt\n",
      "/local/home/sarahgw/angsd/angsd/angsd sites index /local/home/sarahgw/WGS/SNPS/All_mylu/snps/NJNY46_sites_files/304668_sites.txt\n",
      "/local/home/sarahgw/angsd/angsd/angsd sites index /local/home/sarahgw/WGS/SNPS/All_mylu/snps/NJNY46_sites_files/420405_sites.txt\n",
      "/local/home/sarahgw/angsd/angsd/angsd sites index /local/home/sarahgw/WGS/SNPS/All_mylu/snps/NJNY46_sites_files/576329_sites.txt\n",
      "/local/home/sarahgw/angsd/angsd/angsd sites index /local/home/sarahgw/WGS/SNPS/All_mylu/snps/NJNY46_sites_files/2247244_sites.txt\n",
      "/local/home/sarahgw/angsd/angsd/angsd sites index /local/home/sarahgw/WGS/SNPS/All_mylu/snps/NJNY46_sites_files/2471767_sites.txt\n",
      "/local/home/sarahgw/angsd/angsd/angsd sites index /local/home/sarahgw/WGS/SNPS/All_mylu/snps/NJNY46_sites_files/1402260_sites.txt\n"
     ]
    },
    {
     "name": "stdout",
     "output_type": "stream",
     "text": [
      "/local/home/sarahgw/angsd/angsd/angsd sites index /local/home/sarahgw/WGS/SNPS/All_mylu/snps/NJNY46_sites_files/33706_sites.txt\n",
      "/local/home/sarahgw/angsd/angsd/angsd sites index /local/home/sarahgw/WGS/SNPS/All_mylu/snps/NJNY46_sites_files/341601_sites.txt\n",
      "/local/home/sarahgw/angsd/angsd/angsd sites index /local/home/sarahgw/WGS/SNPS/All_mylu/snps/NJNY46_sites_files/1059629_sites.txt\n",
      "/local/home/sarahgw/angsd/angsd/angsd sites index /local/home/sarahgw/WGS/SNPS/All_mylu/snps/NJNY46_sites_files/1284704_sites.txt\n",
      "/local/home/sarahgw/angsd/angsd/angsd sites index /local/home/sarahgw/WGS/SNPS/All_mylu/snps/NJNY46_sites_files/2429535_sites.txt\n",
      "/local/home/sarahgw/angsd/angsd/angsd sites index /local/home/sarahgw/WGS/SNPS/All_mylu/snps/NJNY46_sites_files/2123908_sites.txt\n",
      "/local/home/sarahgw/angsd/angsd/angsd sites index /local/home/sarahgw/WGS/SNPS/All_mylu/snps/NJNY46_sites_files/897445_sites.txt\n",
      "/local/home/sarahgw/angsd/angsd/angsd sites index /local/home/sarahgw/WGS/SNPS/All_mylu/snps/NJNY46_sites_files/507552_sites.txt\n",
      "/local/home/sarahgw/angsd/angsd/angsd sites index /local/home/sarahgw/WGS/SNPS/All_mylu/snps/NJNY46_sites_files/809071_sites.txt\n",
      "/local/home/sarahgw/angsd/angsd/angsd sites index /local/home/sarahgw/WGS/SNPS/All_mylu/snps/NJNY46_sites_files/1694243_sites.txt\n",
      "/local/home/sarahgw/angsd/angsd/angsd sites index /local/home/sarahgw/WGS/SNPS/All_mylu/snps/NJNY46_sites_files/665652_sites.txt\n",
      "/local/home/sarahgw/angsd/angsd/angsd sites index /local/home/sarahgw/WGS/SNPS/All_mylu/snps/NJNY46_sites_files/2087736_sites.txt\n",
      "/local/home/sarahgw/angsd/angsd/angsd sites index /local/home/sarahgw/WGS/SNPS/All_mylu/snps/NJNY46_sites_files/162101_sites.txt\n",
      "/local/home/sarahgw/angsd/angsd/angsd sites index /local/home/sarahgw/WGS/SNPS/All_mylu/snps/NJNY46_sites_files/1220000_sites.txt\n",
      "/local/home/sarahgw/angsd/angsd/angsd sites index /local/home/sarahgw/WGS/SNPS/All_mylu/snps/NJNY46_sites_files/1257277_sites.txt\n",
      "/local/home/sarahgw/angsd/angsd/angsd sites index /local/home/sarahgw/WGS/SNPS/All_mylu/snps/NJNY46_sites_files/282441_sites.txt\n",
      "/local/home/sarahgw/angsd/angsd/angsd sites index /local/home/sarahgw/WGS/SNPS/All_mylu/snps/NJNY46_sites_files/449123_sites.txt\n",
      "/local/home/sarahgw/angsd/angsd/angsd sites index /local/home/sarahgw/WGS/SNPS/All_mylu/snps/NJNY46_sites_files/183397_sites.txt\n",
      "/local/home/sarahgw/angsd/angsd/angsd sites index /local/home/sarahgw/WGS/SNPS/All_mylu/snps/NJNY46_sites_files/303729_sites.txt\n",
      "/local/home/sarahgw/angsd/angsd/angsd sites index /local/home/sarahgw/WGS/SNPS/All_mylu/snps/NJNY46_sites_files/148584_sites.txt\n",
      "/local/home/sarahgw/angsd/angsd/angsd sites index /local/home/sarahgw/WGS/SNPS/All_mylu/snps/NJNY46_sites_files/704518_sites.txt\n",
      "/local/home/sarahgw/angsd/angsd/angsd sites index /local/home/sarahgw/WGS/SNPS/All_mylu/snps/NJNY46_sites_files/718613_sites.txt\n",
      "/local/home/sarahgw/angsd/angsd/angsd sites index /local/home/sarahgw/WGS/SNPS/All_mylu/snps/NJNY46_sites_files/1588989_sites.txt\n",
      "/local/home/sarahgw/angsd/angsd/angsd sites index /local/home/sarahgw/WGS/SNPS/All_mylu/snps/NJNY46_sites_files/1358177_sites.txt\n",
      "/local/home/sarahgw/angsd/angsd/angsd sites index /local/home/sarahgw/WGS/SNPS/All_mylu/snps/NJNY46_sites_files/1508591_sites.txt\n",
      "/local/home/sarahgw/angsd/angsd/angsd sites index /local/home/sarahgw/WGS/SNPS/All_mylu/snps/NJNY46_sites_files/1375937_sites.txt\n",
      "/local/home/sarahgw/angsd/angsd/angsd sites index /local/home/sarahgw/WGS/SNPS/All_mylu/snps/NJNY46_sites_files/1092026_sites.txt\n",
      "/local/home/sarahgw/angsd/angsd/angsd sites index /local/home/sarahgw/WGS/SNPS/All_mylu/snps/NJNY46_sites_files/160499_sites.txt\n",
      "/local/home/sarahgw/angsd/angsd/angsd sites index /local/home/sarahgw/WGS/SNPS/All_mylu/snps/NJNY46_sites_files/169223_sites.txt\n",
      "/local/home/sarahgw/angsd/angsd/angsd sites index /local/home/sarahgw/WGS/SNPS/All_mylu/snps/NJNY46_sites_files/1100116_sites.txt\n",
      "/local/home/sarahgw/angsd/angsd/angsd sites index /local/home/sarahgw/WGS/SNPS/All_mylu/snps/NJNY46_sites_files/536152_sites.txt\n",
      "/local/home/sarahgw/angsd/angsd/angsd sites index /local/home/sarahgw/WGS/SNPS/All_mylu/snps/NJNY46_sites_files/937659_sites.txt\n",
      "/local/home/sarahgw/angsd/angsd/angsd sites index /local/home/sarahgw/WGS/SNPS/All_mylu/snps/NJNY46_sites_files/69032_sites.txt\n",
      "/local/home/sarahgw/angsd/angsd/angsd sites index /local/home/sarahgw/WGS/SNPS/All_mylu/snps/NJNY46_sites_files/585510_sites.txt\n",
      "/local/home/sarahgw/angsd/angsd/angsd sites index /local/home/sarahgw/WGS/SNPS/All_mylu/snps/NJNY46_sites_files/341684_sites.txt\n",
      "/local/home/sarahgw/angsd/angsd/angsd sites index /local/home/sarahgw/WGS/SNPS/All_mylu/snps/NJNY46_sites_files/1068619_sites.txt\n",
      "/local/home/sarahgw/angsd/angsd/angsd sites index /local/home/sarahgw/WGS/SNPS/All_mylu/snps/NJNY46_sites_files/108113_sites.txt\n",
      "/local/home/sarahgw/angsd/angsd/angsd sites index /local/home/sarahgw/WGS/SNPS/All_mylu/snps/NJNY46_sites_files/975865_sites.txt\n",
      "/local/home/sarahgw/angsd/angsd/angsd sites index /local/home/sarahgw/WGS/SNPS/All_mylu/snps/NJNY46_sites_files/863581_sites.txt\n",
      "/local/home/sarahgw/angsd/angsd/angsd sites index /local/home/sarahgw/WGS/SNPS/All_mylu/snps/NJNY46_sites_files/1069601_sites.txt\n",
      "/local/home/sarahgw/angsd/angsd/angsd sites index /local/home/sarahgw/WGS/SNPS/All_mylu/snps/NJNY46_sites_files/1008566_sites.txt\n",
      "/local/home/sarahgw/angsd/angsd/angsd sites index /local/home/sarahgw/WGS/SNPS/All_mylu/snps/NJNY46_sites_files/1023245_sites.txt\n",
      "/local/home/sarahgw/angsd/angsd/angsd sites index /local/home/sarahgw/WGS/SNPS/All_mylu/snps/NJNY46_sites_files/100282_sites.txt\n",
      "/local/home/sarahgw/angsd/angsd/angsd sites index /local/home/sarahgw/WGS/SNPS/All_mylu/snps/NJNY46_sites_files/197660_sites.txt\n",
      "/local/home/sarahgw/angsd/angsd/angsd sites index /local/home/sarahgw/WGS/SNPS/All_mylu/snps/NJNY46_sites_files/108795_sites.txt\n",
      "/local/home/sarahgw/angsd/angsd/angsd sites index /local/home/sarahgw/WGS/SNPS/All_mylu/snps/NJNY46_sites_files/302498_sites.txt\n",
      "/local/home/sarahgw/angsd/angsd/angsd sites index /local/home/sarahgw/WGS/SNPS/All_mylu/snps/NJNY46_sites_files/309896_sites.txt\n",
      "/local/home/sarahgw/angsd/angsd/angsd sites index /local/home/sarahgw/WGS/SNPS/All_mylu/snps/NJNY46_sites_files/160132_sites.txt\n",
      "/local/home/sarahgw/angsd/angsd/angsd sites index /local/home/sarahgw/WGS/SNPS/All_mylu/snps/NJNY46_sites_files/91076_sites.txt\n",
      "/local/home/sarahgw/angsd/angsd/angsd sites index /local/home/sarahgw/WGS/SNPS/All_mylu/snps/NJNY46_sites_files/683498_sites.txt\n",
      "/local/home/sarahgw/angsd/angsd/angsd sites index /local/home/sarahgw/WGS/SNPS/All_mylu/snps/NJNY46_sites_files/646205_sites.txt\n",
      "/local/home/sarahgw/angsd/angsd/angsd sites index /local/home/sarahgw/WGS/SNPS/All_mylu/snps/NJNY46_sites_files/456171_sites.txt\n",
      "/local/home/sarahgw/angsd/angsd/angsd sites index /local/home/sarahgw/WGS/SNPS/All_mylu/snps/NJNY46_sites_files/920515_sites.txt\n",
      "/local/home/sarahgw/angsd/angsd/angsd sites index /local/home/sarahgw/WGS/SNPS/All_mylu/snps/NJNY46_sites_files/795614_sites.txt\n",
      "/local/home/sarahgw/angsd/angsd/angsd sites index /local/home/sarahgw/WGS/SNPS/All_mylu/snps/NJNY46_sites_files/362277_sites.txt\n",
      "/local/home/sarahgw/angsd/angsd/angsd sites index /local/home/sarahgw/WGS/SNPS/All_mylu/snps/NJNY46_sites_files/392492_sites.txt\n",
      "/local/home/sarahgw/angsd/angsd/angsd sites index /local/home/sarahgw/WGS/SNPS/All_mylu/snps/NJNY46_sites_files/480516_sites.txt\n",
      "/local/home/sarahgw/angsd/angsd/angsd sites index /local/home/sarahgw/WGS/SNPS/All_mylu/snps/NJNY46_sites_files/502435_sites.txt\n",
      "/local/home/sarahgw/angsd/angsd/angsd sites index /local/home/sarahgw/WGS/SNPS/All_mylu/snps/NJNY46_sites_files/132451_sites.txt\n",
      "/local/home/sarahgw/angsd/angsd/angsd sites index /local/home/sarahgw/WGS/SNPS/All_mylu/snps/NJNY46_sites_files/660417_sites.txt\n",
      "/local/home/sarahgw/angsd/angsd/angsd sites index /local/home/sarahgw/WGS/SNPS/All_mylu/snps/NJNY46_sites_files/565127_sites.txt\n",
      "/local/home/sarahgw/angsd/angsd/angsd sites index /local/home/sarahgw/WGS/SNPS/All_mylu/snps/NJNY46_sites_files/138591_sites.txt\n",
      "/local/home/sarahgw/angsd/angsd/angsd sites index /local/home/sarahgw/WGS/SNPS/All_mylu/snps/NJNY46_sites_files/395431_sites.txt\n",
      "/local/home/sarahgw/angsd/angsd/angsd sites index /local/home/sarahgw/WGS/SNPS/All_mylu/snps/NJNY46_sites_files/494762_sites.txt\n",
      "/local/home/sarahgw/angsd/angsd/angsd sites index /local/home/sarahgw/WGS/SNPS/All_mylu/snps/NJNY46_sites_files/103035_sites.txt\n",
      "/local/home/sarahgw/angsd/angsd/angsd sites index /local/home/sarahgw/WGS/SNPS/All_mylu/snps/NJNY46_sites_files/19084_sites.txt\n",
      "/local/home/sarahgw/angsd/angsd/angsd sites index /local/home/sarahgw/WGS/SNPS/All_mylu/snps/NJNY46_sites_files/51723_sites.txt\n",
      "/local/home/sarahgw/angsd/angsd/angsd sites index /local/home/sarahgw/WGS/SNPS/All_mylu/snps/NJNY46_sites_files/150846_sites.txt\n"
     ]
    },
    {
     "name": "stdout",
     "output_type": "stream",
     "text": [
      "/local/home/sarahgw/angsd/angsd/angsd sites index /local/home/sarahgw/WGS/SNPS/All_mylu/snps/NJNY46_sites_files/120040_sites.txt\n",
      "/local/home/sarahgw/angsd/angsd/angsd sites index /local/home/sarahgw/WGS/SNPS/All_mylu/snps/NJNY46_sites_files/158333_sites.txt\n",
      "/local/home/sarahgw/angsd/angsd/angsd sites index /local/home/sarahgw/WGS/SNPS/All_mylu/snps/NJNY46_sites_files/49207_sites.txt\n",
      "/local/home/sarahgw/angsd/angsd/angsd sites index /local/home/sarahgw/WGS/SNPS/All_mylu/snps/NJNY46_sites_files/138508_sites.txt\n",
      "/local/home/sarahgw/angsd/angsd/angsd sites index /local/home/sarahgw/WGS/SNPS/All_mylu/snps/NJNY46_sites_files/140707_sites.txt\n",
      "/local/home/sarahgw/angsd/angsd/angsd sites index /local/home/sarahgw/WGS/SNPS/All_mylu/snps/NJNY46_sites_files/19747_sites.txt\n",
      "/local/home/sarahgw/angsd/angsd/angsd sites index /local/home/sarahgw/WGS/SNPS/All_mylu/snps/NJNY46_sites_files/236448_sites.txt\n",
      "/local/home/sarahgw/angsd/angsd/angsd sites index /local/home/sarahgw/WGS/SNPS/All_mylu/snps/NJNY46_sites_files/3944_sites.txt\n",
      "/local/home/sarahgw/angsd/angsd/angsd sites index /local/home/sarahgw/WGS/SNPS/All_mylu/snps/NJNY46_sites_files/80615_sites.txt\n",
      "/local/home/sarahgw/angsd/angsd/angsd sites index /local/home/sarahgw/WGS/SNPS/All_mylu/snps/NJNY46_sites_files/24190_sites.txt\n",
      "/local/home/sarahgw/angsd/angsd/angsd sites index /local/home/sarahgw/WGS/SNPS/All_mylu/snps/NJNY46_sites_files/27096_sites.txt\n",
      "/local/home/sarahgw/angsd/angsd/angsd sites index /local/home/sarahgw/WGS/SNPS/All_mylu/snps/NJNY46_sites_files/26532_sites.txt\n",
      "/local/home/sarahgw/angsd/angsd/angsd sites index /local/home/sarahgw/WGS/SNPS/All_mylu/snps/NJNY46_sites_files/30539_sites.txt\n"
     ]
    }
   ],
   "source": [
    "import time\n",
    "import subprocess\n",
    "\n",
    "f = open(\"/local/home/sarahgw/WGS/SNPS/All_mylu/snps/njnyeu46_sites.txt\", 'r')\n",
    "for line in f:\n",
    "    args = line.split()\n",
    "    \n",
    "    # Make sites file\n",
    "    site = \"/local/home/sarahgw/WGS/SNPS/All_mylu/snps/NJNY46_sites_files/{}_sites.txt\".format(args[1])\n",
    "    o = open(site,'w')\n",
    "    o.write('\\t'.join(args))\n",
    "    o.close()\n",
    "        \n",
    "    # Make chromo file\n",
    "    chrom = \"/local/home/sarahgw/WGS/SNPS/All_mylu/snps/NJNY46_chrom_files/{}_chrom.txt\".format(args[1])\n",
    "    o = open(chrom, 'w')\n",
    "    o.write(args[0])\n",
    "    o.close()\n",
    "    \n",
    "    \n",
    "# Silly, but accomodates angsd's file create time check\n",
    "time.sleep(5)\n",
    "\n",
    "f = open(\"/local/home/sarahgw/WGS/SNPS/All_mylu/snps/njnyeu46_sites.txt\", 'r')\n",
    "for line in f:\n",
    "    args = line.split()\n",
    "        \n",
    "    # Index sites file\n",
    "    site = \"/local/home/sarahgw/WGS/SNPS/All_mylu/snps/NJNY46_sites_files/{}_sites.txt\".format(args[1])\n",
    "    cmd = \"/local/home/sarahgw/angsd/angsd/angsd sites index {}\".format(site)\n",
    "    print cmd\n",
    "    subprocess.call(cmd.split())"
   ]
  },
  {
   "cell_type": "code",
   "execution_count": 10,
   "metadata": {
    "collapsed": true
   },
   "outputs": [],
   "source": [
    "!mkdir /local/home/sarahgw/WGS/SNPS/All_mylu/mafs/NJNY46_Bootstrapped_mafs\n",
    "!mkdir /local/home/sarahgw/WGS/SNPS/All_mylu/mafs/NJNY46_Bootstrapped_mafs/tmp"
   ]
  },
  {
   "cell_type": "code",
   "execution_count": null,
   "metadata": {
    "collapsed": true
   },
   "outputs": [],
   "source": [
    "python ~/WNS_Scripts/WNS_WGS/Scripts/run_angsd_bootstrapped.py NJNY46"
   ]
  },
  {
   "cell_type": "code",
   "execution_count": 6,
   "metadata": {
    "collapsed": true
   },
   "outputs": [],
   "source": [
    "!find /local/home/sarahgw/WGS/SNPS/All_mylu/mafs/NJNY46_Bootstrapped_mafs/ -name NJ_E_*.mafs.gz -exec gunzip {} +\n",
    "!find /local/home/sarahgw/WGS/SNPS/All_mylu/mafs/NJNY46_Bootstrapped_mafs/ -name NY_E_*.mafs.gz -exec gunzip {} +\n",
    "!find /local/home/sarahgw/WGS/SNPS/All_mylu/mafs/NJNY46_Bootstrapped_mafs/ -name NY_U_*.mafs.gz -exec gunzip {} +\n",
    "!find /local/home/sarahgw/WGS/SNPS/All_mylu/mafs/NJNY46_Bootstrapped_mafs/ -name NJ_U_*.mafs.gz -exec gunzip {} +"
   ]
  },
  {
   "cell_type": "code",
   "execution_count": 9,
   "metadata": {
    "collapsed": true
   },
   "outputs": [],
   "source": [
    "!find /local/home/sarahgw/WGS/SNPS/All_mylu/mafs/NJNY46_Bootstrapped_mafs/tmp/ -name NJ_E_*.mafs -exec mv -t /local/home/sarahgw/WGS/SNPS/All_mylu/mafs/NJNY46_Bootstrapped_mafs/ {} +\n",
    "!find /local/home/sarahgw/WGS/SNPS/All_mylu/mafs/NJNY46_Bootstrapped_mafs/tmp/ -name NY_E_*.mafs -exec mv -t .. {} +\n",
    "!find /local/home/sarahgw/WGS/SNPS/All_mylu/mafs/NJNY46_Bootstrapped_mafs/tmp/ -name NY_U_*.mafs -exec mv -t .. {} +\n",
    "!find /local/home/sarahgw/WGS/SNPS/All_mylu/mafs/NJNY46_Bootstrapped_mafs/tmp/ -name NJ_U_*.mafs -exec mv -t .. {} +"
   ]
  },
  {
   "cell_type": "code",
   "execution_count": 11,
   "metadata": {
    "collapsed": true
   },
   "outputs": [],
   "source": [
    "!find .. -name *.mafs -exec mv -t /local/home/sarahgw/WGS/SNPS/All_mylu/mafs/NJNY46_Bootstrapped_mafs/ {} +"
   ]
  },
  {
   "cell_type": "code",
   "execution_count": 2,
   "metadata": {
    "scrolled": true
   },
   "outputs": [
    {
     "name": "stdout",
     "output_type": "stream",
     "text": [
      "100282\t  138508    1807839   2544329\t318531\t  3987\t    5356806   718613\r\n",
      "10044194  138591    181206    2545923\t318588\t  3987110   536152    7229717\r\n",
      "10046579  13891818  18251906  2551103\t32391149  3993744   536155    7259016\r\n",
      "10050802  13917444  183366    2551105\t32415138  4005601   5383721   7266\r\n",
      "1005448   13932060  183397    2560316\t325782\t  4006595   5396841   731658\r\n",
      "1006223   1394397   1839511   25612922\t326787\t  4018847   543661    733388\r\n",
      "1008566   1402260   1846090   2564071\t3271610   403436    5465540   7341092\r\n",
      "1023245   140707    18467821  2570\t3273158   4057207   54892     7353169\r\n",
      "103035\t  1419684   184703    2574973\t33070695  4128091   549244    737141\r\n",
      "103525\t  142159    18486599  2580001\t3323930   4134761   553900    7443621\r\n",
      "10380317  1421791   1859427   25988574\t3333923   4141618   5556498   7473329\r\n",
      "1048775   14380425  1865694   2601054\t3364392   4189238   5564333   75168\r\n",
      "1059629   14389467  187895    2603620\t33706\t  420333    5587364   75169\r\n",
      "1061479   14389468  1894046   2603833\t33844\t  4203875   5619306   753146\r\n",
      "10616162  1441079   1896773   2607102\t339983\t  420405    5619613   754423\r\n",
      "1068619   1457135   19084     2608652\t3400771   421176    565127    75545\r\n",
      "1069601   1465113   1913231   2637067\t341601\t  4287744   56832951  7576360\r\n",
      "1075809   1467550   1920744   2643709\t341684\t  4289756   573383    7596204\r\n",
      "108113\t  1467777   192478    26532\t3436495   4305724   57430180  764904\r\n",
      "10848008  1477482   192888    268475\t3438190   4318783   5756625   778371\r\n",
      "108539\t  147767    1952917   2687642\t3454200   431960    576329    7814835\r\n",
      "108795\t  148584    195507    2695305\t3462549   43318129  58039620  7822219\r\n",
      "1092026   1498067   1956959   2695504\t3470269   43396     585510    7829302\r\n",
      "1093423   1498975   19747     27096\t347149\t  434665    5870529   793804\r\n",
      "1100116   150229    197660    2753916\t3481460   4434218   5876215   795614\r\n",
      "1112580   150846    1994447   2755974\t3508136   4442505   593416    7957321\r\n",
      "1113056   1508591   1995542   2757782\t352191\t  445759    59373487  8000\r\n",
      "111765\t  1517028   1999488   276626\t3555623   449123    60098498  800409\r\n",
      "1118034   15171335  2002360   2785826\t3573251   4550646   602269    80615\r\n",
      "11198219  1534080   20115734  2789841\t3575137   456171    603815    809071\r\n",
      "1120231   154342    2027877   2798955\t358170\t  4562615   611622    81098\r\n",
      "112723\t  155147    2027949   2802073\t3590607   45659152  61186     814260\r\n",
      "1132901   1557839   2042149   2808112\t3597393   46032264  61280829  8232041\r\n",
      "113430\t  158333    2087736   2808264\t362277\t  460925    6146410   8237602\r\n",
      "11427074  1588989   2091986   282441\t362419\t  46648147  62039900  836550\r\n",
      "1145085   1592872   2106030   2844570\t3627424   473407    6218627   84431\r\n",
      "1149572   160132    21093253  287609\t3635487   4771412   62286800  845846\r\n",
      "11555591  160499    2123908   28875615\t3645345   478883    626996    8458567\r\n",
      "1162193   16063378  2136985   28975069\t369075\t  480516    63666     863581\r\n",
      "11740114  16082501  21419010  29007713\t3702915   4845538   6375629   8666695\r\n",
      "11773942  16082508  21756503  2904989\t375935\t  48749184  6378055   866932\r\n",
      "1178078   161318    2196753   292948\t375937\t  4879171   6387695   8716103\r\n",
      "11870370  1613563   2219615   293035\t376853\t  49031257  6389220   875588\r\n",
      "1190583   16156370  2247244   2930414\t378742\t  49056503  640321    879914\r\n",
      "11967487  162101    228666    293048\t3789620   49207     640328    880359\r\n",
      "120040\t  1622507   2303702   293091\t3791876   4929942   642204    897445\r\n",
      "12030009  16332509  2309543   2945248\t38027962  494762    646205    8979620\r\n",
      "12144188  1636078   2320110   29456087\t3806728   4955695   6484134   901107\r\n",
      "1218337   1640081   23225     2958489\t38090371  4987149   6544076   909960\r\n",
      "1220000   16572391  2325374   2966436\t3820056   500207    660417    91076\r\n",
      "12224327  1659106   2330305   2967571\t382103\t  501069    661884    914822\r\n",
      "1226013   1685509   2345379   297570\t382104\t  502435    665652    920515\r\n",
      "1249501   169223    2350520   29902554\t383339\t  5027744   665677    937659\r\n",
      "1257277   1694243   236448    29988253\t3851356   503944    6661862   938388\r\n",
      "127419\t  1694838   23676961  30027715\t3856198   5045843   6672334   94002\r\n",
      "12763354  1699181   2375212   30064111\t3857738   50560407  6674148   9401629\r\n",
      "12845722  170341    2375752   3007792\t3864502   505946    6746322   9401704\r\n",
      "1284704   171577    2391309   3016922\t386877\t  50700849  6763428   9444755\r\n",
      "1291266   1718440   24190     302498\t387830\t  507552    6766647   944619\r\n",
      "12939549  1723841   2420879   3032346\t38810\t  5089273   677063    94946\r\n",
      "12940929  1724454   2421860   303729\t3888560   51087908  677504    950361\r\n",
      "1294921   17263603  2429535   304134\t39059\t  512179    678246    9521905\r\n",
      "131421\t  1727488   2435      304633\t39138\t  513146    6809675   956470\r\n",
      "13242784  1728983   2448414   304668\t39149559  51542845  683498    96021\r\n",
      "132451\t  1729803   246297    30539\t392492\t  515763    685468    9670485\r\n",
      "13480275  1749719   2468652   3089317\t3928062   51723     69032     975865\r\n",
      "13549158  1749729   2471767   3092347\t3930508   5179122   6919562   984675\r\n",
      "1358177   1751539   2473127   309249\t393539\t  5191344   6939059   99919\r\n",
      "13648304  176363    25025008  309253\t3937847   5191689   6956973\r\n",
      "13697812  1767345   2508868   309896\t3944\t  5195385   696102\r\n",
      "13707027  177740    2508869   31146398\t3952493   520912    7009926\r\n",
      "1375937   1788405   2510198   31221541\t3953803   5314654   7026329\r\n",
      "13800153  1788468   252205    3122199\t395431\t  5328518   704518\r\n",
      "13812484  1798636   2527564   3144427\t396141\t  535009    7047255\r\n"
     ]
    }
   ],
   "source": [
    "!ls /local/home/sarahgw/WGS/SNPS/All_mylu/mafs/FiltFiles/NJNY46_SNPS_Depth/"
   ]
  },
  {
   "cell_type": "code",
   "execution_count": 4,
   "metadata": {},
   "outputs": [
    {
     "ename": "IndexError",
     "evalue": "list index out of range",
     "output_type": "error",
     "traceback": [
      "\u001b[0;31m---------------------------------------------------------------------------\u001b[0m",
      "\u001b[0;31mIndexError\u001b[0m                                Traceback (most recent call last)",
      "\u001b[0;32m<ipython-input-4-f98323bc5ea2>\u001b[0m in \u001b[0;36m<module>\u001b[0;34m()\u001b[0m\n\u001b[1;32m     23\u001b[0m     \u001b[0;32mfor\u001b[0m \u001b[0msite\u001b[0m \u001b[0;32min\u001b[0m \u001b[0;34m[\u001b[0m\u001b[0;34m'NJ'\u001b[0m\u001b[0;34m,\u001b[0m \u001b[0;34m'NY'\u001b[0m\u001b[0;34m]\u001b[0m\u001b[0;34m:\u001b[0m\u001b[0;34m\u001b[0m\u001b[0m\n\u001b[1;32m     24\u001b[0m         \u001b[0;32mfor\u001b[0m \u001b[0mexposed\u001b[0m \u001b[0;32min\u001b[0m \u001b[0;34m[\u001b[0m\u001b[0;34m'U'\u001b[0m\u001b[0;34m,\u001b[0m \u001b[0;34m'E'\u001b[0m\u001b[0;34m]\u001b[0m\u001b[0;34m:\u001b[0m\u001b[0;34m\u001b[0m\u001b[0m\n\u001b[0;32m---> 25\u001b[0;31m             \u001b[0mcombine_mafs\u001b[0m\u001b[0;34m(\u001b[0m\u001b[0mf\u001b[0m\u001b[0;34m,\u001b[0m \u001b[0msite\u001b[0m\u001b[0;34m,\u001b[0m \u001b[0mexposed\u001b[0m\u001b[0;34m)\u001b[0m\u001b[0;34m\u001b[0m\u001b[0m\n\u001b[0m",
      "\u001b[0;32m<ipython-input-4-f98323bc5ea2>\u001b[0m in \u001b[0;36mcombine_mafs\u001b[0;34m(snp, site, exposed)\u001b[0m\n\u001b[1;32m     14\u001b[0m         \u001b[0mmafs_file\u001b[0m \u001b[0;34m=\u001b[0m \u001b[0mopen\u001b[0m\u001b[0;34m(\u001b[0m\u001b[0;34m'/local/home/sarahgw/WGS/SNPS/All_mylu/mafs/NJNY46_Bootstrapped_mafs/{}_{}.mafs'\u001b[0m\u001b[0;34m.\u001b[0m\u001b[0mformat\u001b[0m\u001b[0;34m(\u001b[0m\u001b[0mfilename\u001b[0m\u001b[0;34m,\u001b[0m \u001b[0mi\u001b[0m\u001b[0;34m+\u001b[0m\u001b[0;36m1\u001b[0m\u001b[0;34m)\u001b[0m\u001b[0;34m,\u001b[0m \u001b[0;34m'r'\u001b[0m\u001b[0;34m)\u001b[0m\u001b[0;34m\u001b[0m\u001b[0m\n\u001b[1;32m     15\u001b[0m         \u001b[0mlines\u001b[0m \u001b[0;34m=\u001b[0m \u001b[0mmafs_file\u001b[0m\u001b[0;34m.\u001b[0m\u001b[0mreadlines\u001b[0m\u001b[0;34m(\u001b[0m\u001b[0;34m)\u001b[0m\u001b[0;34m\u001b[0m\u001b[0m\n\u001b[0;32m---> 16\u001b[0;31m         \u001b[0mdata\u001b[0m \u001b[0;34m=\u001b[0m \u001b[0;34m[\u001b[0m\u001b[0mx\u001b[0m\u001b[0;34m.\u001b[0m\u001b[0mstrip\u001b[0m\u001b[0;34m(\u001b[0m\u001b[0;34m)\u001b[0m \u001b[0;32mfor\u001b[0m \u001b[0mx\u001b[0m \u001b[0;32min\u001b[0m \u001b[0mlines\u001b[0m\u001b[0;34m[\u001b[0m\u001b[0;36m1\u001b[0m\u001b[0;34m]\u001b[0m\u001b[0;34m.\u001b[0m\u001b[0msplit\u001b[0m\u001b[0;34m(\u001b[0m\u001b[0;34m'\\t'\u001b[0m\u001b[0;34m)\u001b[0m\u001b[0;34m]\u001b[0m\u001b[0;34m\u001b[0m\u001b[0m\n\u001b[0m\u001b[1;32m     17\u001b[0m         \u001b[0moutput_file\u001b[0m\u001b[0;34m.\u001b[0m\u001b[0mwrite\u001b[0m\u001b[0;34m(\u001b[0m\u001b[0;34m'{}\\t{}\\t{}\\n'\u001b[0m\u001b[0;34m.\u001b[0m\u001b[0mformat\u001b[0m\u001b[0;34m(\u001b[0m\u001b[0mdata\u001b[0m\u001b[0;34m[\u001b[0m\u001b[0;36m1\u001b[0m\u001b[0;34m]\u001b[0m\u001b[0;34m,\u001b[0m \u001b[0mdata\u001b[0m\u001b[0;34m[\u001b[0m\u001b[0;36m5\u001b[0m\u001b[0;34m]\u001b[0m\u001b[0;34m,\u001b[0m \u001b[0mdata\u001b[0m\u001b[0;34m[\u001b[0m\u001b[0;36m7\u001b[0m\u001b[0;34m]\u001b[0m\u001b[0;34m)\u001b[0m\u001b[0;34m)\u001b[0m\u001b[0;34m\u001b[0m\u001b[0m\n\u001b[1;32m     18\u001b[0m         \u001b[0mmafs_file\u001b[0m\u001b[0;34m.\u001b[0m\u001b[0mclose\u001b[0m\u001b[0;34m(\u001b[0m\u001b[0;34m)\u001b[0m\u001b[0;34m\u001b[0m\u001b[0m\n",
      "\u001b[0;31mIndexError\u001b[0m: list index out of range"
     ]
    }
   ],
   "source": [
    "from os import listdir\n",
    "import time\n",
    "import subprocess\n",
    "import numpy as np\n",
    "\n",
    "def combine_mafs(snp, site, exposed):\n",
    "    \n",
    "    filename = '{}_{}_{}'.format(site, exposed, snp)\n",
    "    #print filename\n",
    "    output_file = open('/local/home/sarahgw/WGS/SNPS/All_mylu/mafs/NJNY46_Bootstrapped_mafs/All_bootstrapped_mafs/{}.mafs'.format(filename), 'w')\n",
    "    output_file.write('SNP\\tMAF\\tnInd\\n')\n",
    "    \n",
    "    for i in range(100):\n",
    "        mafs_file = open('/local/home/sarahgw/WGS/SNPS/All_mylu/mafs/NJNY46_Bootstrapped_mafs/{}_{}.mafs'.format(filename, i+1), 'r')\n",
    "        lines = mafs_file.readlines()\n",
    "        data = [x.strip() for x in lines[1].split('\\t')]\n",
    "        output_file.write('{}\\t{}\\t{}\\n'.format(data[1], data[5], data[7]))\n",
    "        mafs_file.close()\n",
    "\n",
    "files = listdir('/local/home/sarahgw/WGS/SNPS/All_mylu/mafs/FiltFiles/NJNY46_SNPS_Depth/')\n",
    "for i in range(len(files)):\n",
    "    f = files[i]\n",
    "    for site in ['NJ', 'NY']:\n",
    "        for exposed in ['U', 'E']:\n",
    "            combine_mafs(f, site, exposed)"
   ]
  },
  {
   "cell_type": "code",
   "execution_count": null,
   "metadata": {
    "collapsed": true
   },
   "outputs": [],
   "source": [
    "\n",
    "\n",
    "def site_mafs(filename):\n",
    "    # put e and u together for each site\n",
    "    for i in \"NJ\", \"NY\":\n",
    "        output_file = open('/local/home/sarahgw/WGS/SNPS/All_mylu/mafs/NJNY46_Bootstrapped_mafs/All_bootstrapped_mafs/Combined_mafs/{}_{}.mafs'.format(i, filename), 'w')\n",
    "        output_file.write('SNP'+'\\t'+'MAF_U'+'\\t'+'MAF_E'+'\\t'+'nInd_U'+'\\t'+'nInd_E'+'\\n')\n",
    "        e_file = open('/local/home/sarahgw/WGS/SNPS/All_mylu/mafs/NJNY46_Bootstrapped_mafs/All_bootstrapped_mafs/{}_E_{}.mafs'.format(i, filename), 'r')\n",
    "        u_file = open('/local/home/sarahgw/WGS/SNPS/All_mylu/mafs/NJNY46_Bootstrapped_mafs/All_bootstrapped_mafs/{}_U_{}.mafs'.format(i, filename), 'r')\n",
    "        eLine = e_file.readline()\n",
    "        uLine = u_file.readline()\n",
    "        while True:\n",
    "            eLine = e_file.readline()\n",
    "            uLine = u_file.readline()\n",
    "            if not eLine or not uLine:\n",
    "                break\n",
    "            eGroups=eLine.split('\\t')\n",
    "            uGroups=uLine.split('\\t')\n",
    "            lineplus=uGroups[0]+'\\t'+uGroups[1]+'\\t'+eGroups[1]+'\\t'+uGroups[2].strip('\\n')+'\\t'+eGroups[2]\n",
    "            output_file.write(lineplus) \n",
    "        e_file.close()\n",
    "        u_file.close()\n",
    "\n",
    "    \n",
    "files = listdir('/local/home/sarahgw/WGS/SNPS/All_mylu/mafs/FiltFiles/NJNY46_SNP_Depth')\n",
    "for i in range(len(files)):\n",
    "    f = files[i]\n",
    "    print \"{}: site_mafs {}\".format(i, f)\n",
    "    site_mafs(f)  "
   ]
  },
  {
   "cell_type": "code",
   "execution_count": null,
   "metadata": {
    "collapsed": true
   },
   "outputs": [],
   "source": []
  },
  {
   "cell_type": "code",
   "execution_count": null,
   "metadata": {
    "collapsed": true
   },
   "outputs": [],
   "source": [
    "awk 'FNR>1' NY_204614.mafs NY_396854.mafs > NY"
   ]
  },
  {
   "cell_type": "markdown",
   "metadata": {},
   "source": [
    "Just run each one 10,000 times. \n",
    "For cod there is 5,000 bp. around LD. "
   ]
  },
  {
   "cell_type": "markdown",
   "metadata": {
    "collapsed": true
   },
   "source": [
    "At a given line, if the number of individuals matches the n maf, then do not use that n-1maf in calculation of SE.\n",
    "For all other n-1maf, calculate se\n",
    "\n",
    "\n",
    "\n",
    "\n",
    "jackknife estimate of the bias is(n − 1)(θ¯− θˆ) (how far delete one estimate is from actual estimate)\n",
    "standard error is deviance of delete one estimate from average delete one estimate\n",
    "\n",
    "Does this make sense?\n",
    "then sample from that distribution?\n",
    "How to take into account jackknifing when the actual number of individuals doest change? I will have to calculate it really differently for each one maybe...\n",
    "\n",
    "\n",
    "First trim to the individuals with data, then jackknife. \n",
    "\n",
    "Allele freq dist under drift, then those that are more extreme than the observations. \n",
    "n+1 because the \n",
    "p value calculation form a genetic drift null model\n",
    "do enough simulations where 10 or so are above our observations. \n",
    "\n",
    "enrich and magma for enrichment? \n",
    "\n",
    "Look at strength of selection? try a bunch of selection values similar to p value. \n",
    "\n",
    "\n",
    "if the ne guess is accurate, the average allele freq across genome will be the same as the simulations under drift. "
   ]
  },
  {
   "cell_type": "markdown",
   "metadata": {
    "collapsed": true
   },
   "source": []
  },
  {
   "cell_type": "code",
   "execution_count": null,
   "metadata": {
    "collapsed": true
   },
   "outputs": [],
   "source": []
  },
  {
   "cell_type": "code",
   "execution_count": null,
   "metadata": {
    "collapsed": true
   },
   "outputs": [],
   "source": []
  },
  {
   "cell_type": "code",
   "execution_count": null,
   "metadata": {
    "collapsed": true
   },
   "outputs": [],
   "source": []
  },
  {
   "cell_type": "code",
   "execution_count": null,
   "metadata": {
    "collapsed": true
   },
   "outputs": [],
   "source": []
  },
  {
   "cell_type": "code",
   "execution_count": 2,
   "metadata": {},
   "outputs": [
    {
     "name": "stdout",
     "output_type": "stream",
     "text": [
      "92371964 /local/home/sarahgw/WGS/SNPS/All_mylu/NJ_E.mafs\r\n"
     ]
    }
   ],
   "source": [
    "!wc -l /local/home/sarahgw/WGS/SNPS/All_mylu/NJ_E.mafs"
   ]
  },
  {
   "cell_type": "code",
   "execution_count": 8,
   "metadata": {},
   "outputs": [
    {
     "name": "stdout",
     "output_type": "stream",
     "text": [
      "92371953 /local/home/sarahgw/WGS/SNPS/All_mylu/NJ_U.mafs\r\n"
     ]
    }
   ],
   "source": [
    "!wc -l /local/home/sarahgw/WGS/SNPS/All_mylu/NJ_U.mafs"
   ]
  },
  {
   "cell_type": "code",
   "execution_count": 9,
   "metadata": {
    "collapsed": true
   },
   "outputs": [],
   "source": [
    "!paste /local/home/sarahgw/WGS/SNPS/All_mylu/NJ_E.mafs /local/home/sarahgw/WGS/SNPS/All_mylu/NJ_U.mafs | awk '{print $1\",\"$2\",\"$3\",\"$4\",\"$5\",\"$6\",\"$8\",\"$13\",\"$14\",\"$16}'>/local/home/sarahgw/WGS/SNPS/All_mylu/NJ_EU.mafs"
   ]
  },
  {
   "cell_type": "code",
   "execution_count": 10,
   "metadata": {
    "collapsed": true
   },
   "outputs": [],
   "source": [
    "!gunzip /local/home/sarahgw/WGS/SNPS/All_mylu/NY_E.mafs.gz\n",
    "!gunzip /local/home/sarahgw/WGS/SNPS/All_mylu/NY_U.mafs.gz"
   ]
  },
  {
   "cell_type": "code",
   "execution_count": 11,
   "metadata": {},
   "outputs": [
    {
     "name": "stdout",
     "output_type": "stream",
     "text": [
      "92371964 /local/home/sarahgw/WGS/SNPS/All_mylu/NY_E.mafs\n",
      "92371964 /local/home/sarahgw/WGS/SNPS/All_mylu/NY_U.mafs\n"
     ]
    }
   ],
   "source": [
    "!wc -l /local/home/sarahgw/WGS/SNPS/All_mylu/NY_E.mafs\n",
    "!wc -l /local/home/sarahgw/WGS/SNPS/All_mylu/NY_U.mafs"
   ]
  },
  {
   "cell_type": "code",
   "execution_count": 12,
   "metadata": {
    "collapsed": true
   },
   "outputs": [],
   "source": [
    "!paste /local/home/sarahgw/WGS/SNPS/All_mylu/NY_E.mafs /local/home/sarahgw/WGS/SNPS/All_mylu/NY_U.mafs | awk '{print $1\",\"$2\",\"$3\",\"$4\",\"$5\",\"$6\",\"$8\",\"$13\",\"$14\",\"$16}'>/local/home/sarahgw/WGS/SNPS/All_mylu/NY_EU.mafs"
   ]
  },
  {
   "cell_type": "code",
   "execution_count": 2,
   "metadata": {
    "collapsed": true
   },
   "outputs": [],
   "source": [
    "#!gunzip /local/home/sarahgw/WGS/SNPS/All_mylu/VT_E.mafs.gz\n",
    "!gunzip /local/home/sarahgw/WGS/SNPS/All_mylu/VT_U.mafs.gz"
   ]
  },
  {
   "cell_type": "code",
   "execution_count": 3,
   "metadata": {},
   "outputs": [
    {
     "name": "stdout",
     "output_type": "stream",
     "text": [
      "92371964 /local/home/sarahgw/WGS/SNPS/All_mylu/VT_E.mafs\n",
      "92371964 /local/home/sarahgw/WGS/SNPS/All_mylu/VT_U.mafs\n"
     ]
    }
   ],
   "source": [
    "!wc -l /local/home/sarahgw/WGS/SNPS/All_mylu/VT_E.mafs\n",
    "!wc -l /local/home/sarahgw/WGS/SNPS/All_mylu/VT_U.mafs"
   ]
  },
  {
   "cell_type": "code",
   "execution_count": 4,
   "metadata": {
    "collapsed": true
   },
   "outputs": [],
   "source": [
    "!paste /local/home/sarahgw/WGS/SNPS/All_mylu/VT_E.mafs /local/home/sarahgw/WGS/SNPS/All_mylu/VT_U.mafs | awk '{print $1\",\"$2\",\"$3\",\"$4\",\"$5\",\"$6\",\"$8\",\"$13\",\"$14\",\"$16}'>/local/home/sarahgw/WGS/SNPS/All_mylu/VT_EU.mafs"
   ]
  },
  {
   "cell_type": "code",
   "execution_count": 16,
   "metadata": {
    "collapsed": true
   },
   "outputs": [],
   "source": [
    "f=open('/local/home/sarahgw/WGS/SNPS/All_mylu/NJ_EU.mafs', 'r')\n",
    "o=open('/local/home/sarahgw/WGS/SNPS/All_mylu/NJ_EU2.mafs', 'w')\n",
    "for line in f:\n",
    "    scount=line.count(',')\n",
    "    if scount==9:\n",
    "        o.write(line)\n",
    "    elif 0<=scount<9:\n",
    "        groups=line.split(',')\n",
    "        lineplus=','.join(groups[:2])+''.join([',']*(9-scount))+','+ ','.join(groups[2:])\n",
    "        o.write(lineplus)  \n",
    "o.close() "
   ]
  },
  {
   "cell_type": "code",
   "execution_count": 40,
   "metadata": {
    "scrolled": true
   },
   "outputs": [
    {
     "name": "stdout",
     "output_type": "stream",
     "text": [
      "AAPE02072767,3095,T,A,0.470258,0.470257,16,,,\r\n",
      "AAPE02072767,3098,C,T,0.000000,0.000002,16,,,\r\n",
      "AAPE02072780,302,G,A,0.000000,0.000001,16,,,\r\n",
      "AAPE02072780,365,G,C,0.000000,0.000002,14,,,\r\n",
      "AAPE02072780,367,A,C,0.048082,0.048083,14,,,\r\n",
      "AAPE02072780,368,C,T,0.000000,0.000002,14,,,\r\n",
      "AAPE02072780,369,T,C,0.000000,0.000004,14,,,\r\n",
      "AAPE02072780,370,T,A,0.066391,0.066390,14,,,\r\n",
      "AAPE02072780,372,T,C,0.000000,0.000003,14,,,\r\n",
      "AAPE02072780,374,C,A,0.000000,0.000001,14,,,\r\n"
     ]
    }
   ],
   "source": [
    "!tail /local/home/sarahgw/WGS/SNPS/All_mylu/NJ_EU2.mafs"
   ]
  },
  {
   "cell_type": "code",
   "execution_count": 10,
   "metadata": {
    "scrolled": false
   },
   "outputs": [
    {
     "name": "stdout",
     "output_type": "stream",
     "text": [
      "109424282 /local/home/sarahgw/WGS/SNPS/All_mylu/NJ_EU.mafs\r\n"
     ]
    }
   ],
   "source": [
    "!wc -l /local/home/sarahgw/WGS/SNPS/All_mylu/NJ_EU.mafs"
   ]
  },
  {
   "cell_type": "markdown",
   "metadata": {},
   "source": [
    "In R notebook Angsd_all_SNP_graphs, find SNPs that have grater than 40% change in allele frequency  in all 3 populations, narrow to regions with multiple high allele freq snps. use grep to get 1kb on either side surrounding regions, blast. "
   ]
  },
  {
   "cell_type": "code",
   "execution_count": null,
   "metadata": {
    "collapsed": true
   },
   "outputs": [],
   "source": [
    "GL429848\t2603829\t\n",
    "GL429852\t463033\t\n",
    "GL429888\t1578201\t\n",
    "GL430155\t69820"
   ]
  },
  {
   "cell_type": "code",
   "execution_count": null,
   "metadata": {
    "collapsed": true
   },
   "outputs": [],
   "source": [
    "grep 'GL429848' -A 10000000 /local/home/sarahgw/references/Myotis_lucifugus.Myoluc2.0.dna_sm.toplevel.fas | tr -d \"\\n\\r\" | cut -c 2602829-2604829 >/local/home/sarahgw/WGS/SNPS/All_mylu/snps/GL429848_2603829"
   ]
  },
  {
   "cell_type": "code",
   "execution_count": null,
   "metadata": {
    "collapsed": true
   },
   "outputs": [],
   "source": [
    "grep 'GL429852' -A 10000000 /local/home/sarahgw/references/Myotis_lucifugus.Myoluc2.0.dna_sm.toplevel.fas | tr -d \"\\n\\r\" | cut -c 462033-464033 >/local/home/sarahgw/WGS/SNPS/All_mylu/snps/GL429852_463033"
   ]
  },
  {
   "cell_type": "code",
   "execution_count": null,
   "metadata": {
    "collapsed": true
   },
   "outputs": [],
   "source": [
    "grep 'GL429888' -A 10000000 /local/home/sarahgw/references/Myotis_lucifugus.Myoluc2.0.dna_sm.toplevel.fas | tr -d \"\\n\\r\" | cut -c 1577201-1579201 >/local/home/sarahgw/WGS/SNPS/All_mylu/snps/GL429888_157820\n"
   ]
  },
  {
   "cell_type": "code",
   "execution_count": null,
   "metadata": {
    "collapsed": true
   },
   "outputs": [],
   "source": [
    "grep 'GL430155' -A 10000000 /local/home/sarahgw/references/Myotis_lucifugus.Myoluc2.0.dna_sm.toplevel.fas | tr -d \"\\n\\r\" | cut -c 68820-70820 >/local/home/sarahgw/WGS/SNPS/All_mylu/snps/GL430155_69820\n"
   ]
  },
  {
   "cell_type": "code",
   "execution_count": null,
   "metadata": {
    "collapsed": true
   },
   "outputs": [],
   "source": []
  },
  {
   "cell_type": "code",
   "execution_count": null,
   "metadata": {
    "collapsed": true
   },
   "outputs": [],
   "source": []
  },
  {
   "cell_type": "markdown",
   "metadata": {},
   "source": [
    "GL429793\t3619488\n",
    "GL429805\t5255331\n",
    "GL429830\t4776068\n",
    "GL429833\t4827830\n",
    "GL429835\t4132453\n",
    "GL429848\t4054536\n",
    "GL429859\t3284246\n",
    "GL429941\t1539533\n",
    "GL430044\t240397\n",
    "GL430199\t598814"
   ]
  },
  {
   "cell_type": "code",
   "execution_count": 3,
   "metadata": {},
   "outputs": [
    {
     "name": "stdout",
     "output_type": "stream",
     "text": [
      "\"\",\"Scaffold\",\"Position\",\"V1_NJ\",\"Major_NJ\",\"Minor_NJ\",\"Maf_NJE\",\"nInd_NJE\",\"Maf_NJU\",\"nInd_NJU\",\"absdiff_NJ\",\"diff_NJ\",\"V1_NY\",\"Major_NY\",\"Minor_NY\",\"Maf_NYE\",\"nInd_NYE\",\"Maf_NYU\",\"nInd_NYU\",\"absdiff_NY\",\"diff_NY\",\"V1_VT\",\"Major_VT\",\"Minor_VT\",\"Maf_VTE\",\"nInd_VTE\",\"Maf_VTU\",\"nInd_VTU\",\"absdiff_VT\",\"diff_VT\"\r\n"
     ]
    }
   ],
   "source": [
    "!head -n 1 /local/home/sarahgw/WGS/SNPS/All_mylu/snps/Candidate_SNPs_NJNYVT.csv"
   ]
  },
  {
   "cell_type": "code",
   "execution_count": 20,
   "metadata": {
    "collapsed": true
   },
   "outputs": [],
   "source": [
    "!cut -d, -f2,3 /local/home/sarahgw/WGS/SNPS/All_mylu/snps/Candidate_SNPs_NJNYVT.csv > /local/home/sarahgw/WGS/SNPS/All_mylu/snps/Candidate_SNPs_list.csv"
   ]
  },
  {
   "cell_type": "code",
   "execution_count": 24,
   "metadata": {
    "collapsed": true
   },
   "outputs": [],
   "source": [
    "!sed -e 's/\"//g' -i /local/home/sarahgw/WGS/SNPS/All_mylu/snps/Candidate_SNPs_list.csv "
   ]
  },
  {
   "cell_type": "code",
   "execution_count": 25,
   "metadata": {},
   "outputs": [
    {
     "name": "stdout",
     "output_type": "stream",
     "text": [
      "Scaffold,Position\r\n",
      "GL429793,3619488\r\n",
      "GL429805,5255331\r\n",
      "GL429830,4776068\r\n",
      "GL429833,4827830\r\n",
      "GL429835,4132453\r\n",
      "GL429848,4054536\r\n",
      "GL429859,3284246\r\n",
      "GL429941,1539533\r\n",
      "GL430044,240397\r\n"
     ]
    }
   ],
   "source": [
    "!head /local/home/sarahgw/WGS/SNPS/All_mylu/snps/Candidate_SNPs_list.csv"
   ]
  },
  {
   "cell_type": "code",
   "execution_count": null,
   "metadata": {
    "collapsed": true
   },
   "outputs": [],
   "source": [
    "sed 's/\\t/,/g' /local/home/sarahgw/WGS/SNPS/All_mylu/genoprob/All_mylu_mInd.geno > /local/home/sarahgw/WGS/SNPS/All_mylu/genoprob/All_mylu_mInd_geno.csv"
   ]
  },
  {
   "cell_type": "code",
   "execution_count": 28,
   "metadata": {
    "scrolled": true
   },
   "outputs": [
    {
     "name": "stdout",
     "output_type": "stream",
     "text": [
      "GL429767,54,0.992890,0.007097,0.000013,0.996439,0.003561,0.000000,0.992890,0.007097,0.000013,0.992890,0.007097,0.000013,0.996439,0.003561,0.000000,0.998216,0.001784,0.000000,0.996439,0.003561,0.000000,0.992890,0.007097,0.000013,0.996439,0.003561,0.000000,0.992890,0.007097,0.000013,0.999107,0.000893,0.000000,0.999107,0.000893,0.000000,0.998216,0.001784,0.000000,0.996439,0.003561,0.000000,0.996439,0.003561,0.000000,0.992890,0.007097,0.000013,0.992890,0.007097,0.000013,0.998216,0.001784,0.000000,0.996439,0.003561,0.000000,0.996439,0.003561,0.000000,0.996439,0.003561,0.000000,0.998216,0.001784,0.000000,0.992890,0.007097,0.000013,0.992890,0.007097,0.000013,0.992890,0.007097,0.000013,0.998216,0.001784,0.000000,0.992890,0.007097,0.000013,0.996439,0.003561,0.000000,0.996439,0.003561,0.000000,0.992890,0.007097,0.000013,0.992890,0.007097,0.000013,0.996439,0.003561,0.000000,0.992890,0.007097,0.000013,0.992890,0.007097,0.000013,0.992890,0.007097,0.000013,0.992890,0.007097,0.000013,0.992890,0.007097,0.000013,0.992890,0.007097,0.000013,0.992890,0.007097,0.000013,0.992890,0.007097,0.000013,0.999777,0.000223,0.000000,0.996439,0.003561,0.000000,0.999107,0.000893,0.000000,0.996439,0.003561,0.000000,0.992890,0.007097,0.000013,0.998216,0.001784,0.000000,0.992890,0.007097,0.000013,0.998216,0.001784,0.000000,0.992890,0.007097,0.000013,0.992890,0.007097,0.000013,0.992890,0.007097,0.000013,0.992890,0.007097,0.000013,0.992890,0.007097,0.000013,0.992890,0.007097,0.000013,0.996439,0.003561,0.000000,0.992890,0.007097,0.000013,0.992890,0.007097,0.000013,0.992890,0.007097,0.000013,0.999107,0.000893,0.000000,0.996439,0.003561,0.000000,0.996439,0.003561,0.000000,0.998216,0.001784,0.000000,0.998216,0.001784,0.000000,0.999553,0.000447,0.000000,0.998216,0.001784,0.000000,0.992890,0.007097,0.000013,0.999107,0.000893,0.000000,0.996439,0.003561,0.000000,0.996439,0.003561,0.000000,0.999107,0.000893,0.000000,0.996439,0.003561,0.000000,0.996439,0.003561,0.000000,0.996439,0.003561,0.000000,0.998216,0.001784,0.000000,0.999107,0.000893,0.000000,0.996439,0.003561,0.000000,0.992890,0.007097,0.000013,0.996439,0.003561,0.000000,0.998216,0.001784,0.000000,0.992890,0.007097,0.000013,0.996439,0.003561,0.000000,0.992890,0.007097,0.000013,0.992890,0.007097,0.000013,0.992890,0.007097,0.000013,0.992890,0.007097,0.000013,0.000110,0.999888,0.000001,0.992890,0.007097,0.000013,0.992890,0.007097,0.000013,0.996439,0.003561,0.000000,0.992890,0.007097,0.000013,0.996439,0.003561,0.000000,0.992890,0.007097,0.000013,0.992890,0.007097,0.000013,0.992890,0.007097,0.000013,0.992890,0.007097,0.000013,0.996439,0.003561,0.000000,0.992890,0.007097,0.000013,0.992890,0.007097,0.000013,0.992890,0.007097,0.000013,0.992890,0.007097,0.000013,0.992890,0.007097,0.000013,0.992890,0.007097,0.000013,0.999888,0.000112,0.000000,0.992890,0.007097,0.000013,0.996439,0.003561,0.000000,0.999107,0.000893,0.000000,0.992890,0.007097,0.000013,0.996439,0.003561,0.000000,0.996439,0.003561,0.000000,0.998216,0.001784,0.000000,0.999777,0.000223,0.000000,0.999107,0.000893,0.000000,0.996439,0.003561,0.000000,0.996439,0.003561,0.000000,0.992890,0.007097,0.000013,0.992890,0.007097,0.000013,0.992890,0.007097,0.000013,0.999553,0.000447,0.000000,0.999553,0.000447,0.000000,0.999972,0.000028,0.000000,0.992890,0.007097,0.000013,0.992890,0.007097,0.000013,0.992890,0.007097,0.000013,0.992890,0.007097,0.000013,0.999553,0.000447,0.000000,0.996439,0.003561,0.000000,0.999107,0.000893,0.000000,0.996439,0.003561,0.000000,0.998216,0.001784,0.000000,0.999107,0.000893,0.000000,0.999107,0.000893,0.000000,0.992890,0.007097,0.000013,\r\n"
     ]
    }
   ],
   "source": [
    "!head -n 1 /local/home/sarahgw/WGS/SNPS/All_mylu/genoprob/All_mylu_geno.csv"
   ]
  },
  {
   "cell_type": "code",
   "execution_count": 1,
   "metadata": {},
   "outputs": [
    {
     "name": "stdout",
     "output_type": "stream",
     "text": [
      "GL429793,3619488\r\n",
      "GL429805,5255331\r\n",
      "GL429830,4776068\r\n",
      "GL429833,4827830\r\n",
      "GL429835,4132453\r\n",
      "GL429848,4054536\r\n",
      "GL429859,3284246\r\n",
      "GL429941,1539533\r\n",
      "GL430044,240397\r\n",
      "GL430199,598814\r\n"
     ]
    }
   ],
   "source": [
    "!head -n 10 /local/home/sarahgw/WGS/SNPS/All_mylu/snps/Candidate_SNPs_list.csv"
   ]
  },
  {
   "cell_type": "code",
   "execution_count": null,
   "metadata": {
    "collapsed": true
   },
   "outputs": [],
   "source": [
    "grep -f /local/home/sarahgw/WGS/SNPS/All_mylu/snps/Candidate_SNPs_list.csv /local/home/sarahgw/WGS/SNPS/All_mylu/genoprob/All_mylu_mInd_geno.csv > /local/home/sarahgw/WGS/SNPS/All_mylu/snps/Candidate_SNPs_geno_mInd.csv"
   ]
  },
  {
   "cell_type": "code",
   "execution_count": 2,
   "metadata": {},
   "outputs": [
    {
     "name": "stdout",
     "output_type": "stream",
     "text": [
      "10 /local/home/sarahgw/WGS/SNPS/All_mylu/snps/Candidate_SNPs_geno.csv\r\n"
     ]
    }
   ],
   "source": [
    "!wc -l /local/home/sarahgw/WGS/SNPS/All_mylu/snps/Candidate_SNPs_geno.csv"
   ]
  },
  {
   "cell_type": "markdown",
   "metadata": {},
   "source": [
    "Look at depth for candidate snps"
   ]
  },
  {
   "cell_type": "code",
   "execution_count": null,
   "metadata": {
    "collapsed": true
   },
   "outputs": [],
   "source": [
    "for file in $(ls); do echo $file; samtools depth \"$file\" -r GL429793:3619488-3619488 >> ~/WGS/SNPS/All_mylu/SNP1_Depth.txt ; done\n",
    "for file in $(ls); do echo $file; samtools depth \"$file\" -r GL429805:5255331-5255331 >> ~/WGS/SNPS/All_mylu/SNP2_Depth.txt ; done\n",
    "for file in $(ls); do echo $file; samtools depth \"$file\" -r GL429830:4776068-4776068 >> ~/WGS/SNPS/All_mylu/SNP3_Depth.txt ; done\n",
    "for file in $(ls); do echo $file; samtools depth \"$file\" -r GL429833:4827830-4827830 >> ~/WGS/SNPS/All_mylu/SNP4_Depth.txt ; done\n",
    "for file in $(ls); do echo $file; samtools depth \"$file\" -r GL429835:4132453-4132453 >> ~/WGS/SNPS/All_mylu/SNP5_Depth.txt ; done\n",
    "for file in $(ls); do echo $file; samtools depth \"$file\" -r GL429848:4054536-4054536 >> ~/WGS/SNPS/All_mylu/SNP6_Depth.txt ; done\n",
    "for file in $(ls); do echo $file; samtools depth \"$file\" -r GL429859:3284246-3284246 >> ~/WGS/SNPS/All_mylu/SNP7_Depth.txt ; done\n",
    "for file in $(ls); do echo $file; samtools depth \"$file\" -r GL429941:1539533-1539533 >> ~/WGS/SNPS/All_mylu/SNP8_Depth.txt ; done\n",
    "for file in $(ls); do echo $file; samtools depth \"$file\" -r GL430044:240397-240397 >> ~/WGS/SNPS/All_mylu/SNP9_Depth.txt ; done\n",
    "for file in $(ls); do echo $file; samtools depth \"$file\" -r GL430199:598814-598814 >> ~/WGS/SNPS/All_mylu/SNP10_Depth.txt ; done\n",
    "    "
   ]
  },
  {
   "cell_type": "markdown",
   "metadata": {
    "collapsed": true
   },
   "source": [
    "Look at annotation in gtf file"
   ]
  },
  {
   "cell_type": "code",
   "execution_count": null,
   "metadata": {
    "collapsed": true
   },
   "outputs": [],
   "source": [
    "grep -f /local/home/sarahgw/WGS/SNPS/All_mylu/snps/Candidate_SNPs_Scaf.csv /local/home/sarahgw/references/Myotis_lucifugus.Myoluc2.0.89.gtf > /local/home/sarahgw/WGS/SNPS/All_mylu/snps/Candidate_SNPs_gtf.csv"
   ]
  },
  {
   "cell_type": "markdown",
   "metadata": {},
   "source": [
    "Create VCF file"
   ]
  },
  {
   "cell_type": "code",
   "execution_count": null,
   "metadata": {
    "collapsed": true
   },
   "outputs": [],
   "source": [
    "~/angsd/angsd -b /local/home/sarahgw/WGS/Sequences/filelists/All_Mylu.filelist -dovcf 1 -gl 1 -dopost 1 -domajorminor 3 -domaf 1 -sites /local/home/sarahgw/WGS/SNPS/All_mylu/All_mylu_sites1.txt -out /local/home/sarahgw/WGS/SNPS/All_mylu_postv "
   ]
  },
  {
   "cell_type": "code",
   "execution_count": null,
   "metadata": {
    "collapsed": true
   },
   "outputs": [],
   "source": []
  },
  {
   "cell_type": "markdown",
   "metadata": {},
   "source": [
    "Make pca from geno prob"
   ]
  },
  {
   "cell_type": "code",
   "execution_count": null,
   "metadata": {
    "collapsed": true
   },
   "outputs": [],
   "source": [
    "gunzip /local/home/sarahgw/WGS/SNPS/All_mylu/genoprob/All_mylu.geno.gz"
   ]
  },
  {
   "cell_type": "code",
   "execution_count": null,
   "metadata": {
    "collapsed": true
   },
   "outputs": [],
   "source": [
    "~/ngsTools/ngsPopGen/ngsCovar -probfile /local/home/sarahgw/WGS/SNPS/All_mylu/genoprob/All_mylu.geno.gz -outfile /local/home/sarahgw/WGS/SNPS/All_mylu_post.geno -nind 132 -nsites 92371964 -call 0 -norm 0 &> /dev/null"
   ]
  },
  {
   "cell_type": "code",
   "execution_count": 1,
   "metadata": {},
   "outputs": [
    {
     "name": "stdout",
     "output_type": "stream",
     "text": [
      "NJ_E_01_pairedplus_marked_dupes.bam\n",
      "NJ_E_02_pairedplus_marked_dupes.bam\n",
      "NJ_E_04_pairedplus_marked_dupes.bam\n",
      "NJ_E_23_pairedplus_marked_dupes.bam\n",
      "NJ_E_24_pairedplus_marked_dupes.bam\n",
      "NJ_E_25_pairedplus_marked_dupes.bam\n",
      "NJ_E_26_pairedplus_marked_dupes.bam\n",
      "NJ_E_28_pairedplus_marked_dupes.bam\n",
      "NJ_E_29_pairedplus_marked_dupes.bam\n",
      "NJ_E_30_pairedplus_marked_dupes.bam\n",
      "NJ_E_05_pairedplus_marked_dupes.bam\n",
      "NJ_E_06_pairedplus_marked_dupes.bam\n",
      "NJ_E_07_pairedplus_marked_dupes.bam\n",
      "NJ_E_08_pairedplus_marked_dupes.bam\n",
      "NJ_E_10_pairedplus_marked_dupes.bam\n",
      "NJ_E_22_pairedplus_marked_dupes.bam\n",
      "NJ_E_13_pairedplus_marked_dupes.bam\n",
      "NJ_E_14_pairedplus_marked_dupes.bam\n",
      "NJ_E_15_pairedplus_marked_dupes.bam\n",
      "NJ_E_16_pairedplus_marked_dupes.bam\n",
      "NJ_E_18_pairedplus_marked_dupes.bam\n",
      "NJ_E_21_pairedplus_marked_dupes.bam\n",
      "NJ_U_01_pairedplus_marked_dupes.bam\n",
      "NJ_U_02_pairedplus_marked_dupes.bam\n",
      "NJ_U_03_pairedplus_marked_dupes.bam\n",
      "NJ_U_05_pairedplus_marked_dupes.bam\n",
      "NJ_U_06_pairedplus_marked_dupes.bam\n",
      "NJ_U_08_pairedplus_marked_dupes.bam\n",
      "NJ_U_09_pairedplus_marked_dupes.bam\n",
      "NJ_U_10_pairedplus_marked_dupes.bam\n",
      "NJ_U_11_pairedplus_marked_dupes.bam\n",
      "NJ_U_12_pairedplus_marked_dupes.bam\n",
      "NJ_U_15_pairedplus_marked_dupes.bam\n",
      "NJ_U_16_pairedplus_marked_dupes.bam\n",
      "NJ_U_21_pairedplus_marked_dupes.bam\n",
      "NJ_U_22_pairedplus_marked_dupes.bam\n",
      "NJ_U_23_pairedplus_marked_dupes.bam\n",
      "NJ_U_25_pairedplus_marked_dupes.bam\n",
      "NJ_U_07_pairedplus_marked_dupes.bam\n",
      "NJ_U_17_pairedplus_marked_dupes.bam\n",
      "NJ_U_18_pairedplus_marked_dupes.bam\n",
      "NJ_U_19_pairedplus_marked_dupes.bam\n",
      "NY_E_15_pairedplus_marked_dupes.bam\n",
      "NY_E_16_pairedplus_marked_dupes.bam\n",
      "NY_E_17_pairedplus_marked_dupes.bam\n",
      "NY_E_18_pairedplus_marked_dupes.bam\n",
      "NY_E_27_pairedplus_marked_dupes.bam\n",
      "NY_E_28_pairedplus_marked_dupes.bam\n",
      "NY_E_29_pairedplus_marked_dupes.bam\n",
      "NY_E_30_pairedplus_marked_dupes.bam\n",
      "NY_E_19_pairedplus_marked_dupes.bam\n",
      "NY_E_21_pairedplus_marked_dupes.bam\n",
      "NY_E_22_pairedplus_marked_dupes.bam\n",
      "NY_E_23_pairedplus_marked_dupes.bam\n",
      "NY_E_25_pairedplus_marked_dupes.bam\n",
      "NY_E_03_pairedplus_marked_dupes.bam\n",
      "NY_E_04_pairedplus_marked_dupes.bam\n",
      "NY_E_05_pairedplus_marked_dupes.bam\n",
      "NY_E_06_pairedplus_marked_dupes.bam\n",
      "NY_E_07_pairedplus_marked_dupes.bam\n",
      "NY_E_08_pairedplus_marked_dupes.bam\n",
      "NY_E_09_pairedplus_marked_dupes.bam\n",
      "NY_E_10_pairedplus_marked_dupes.bam\n",
      "NY_U_10_pairedplus_marked_dupes.bam\n",
      "NY_U_11_pairedplus_marked_dupes.bam\n",
      "NY_U_12_pairedplus_marked_dupes.bam\n",
      "NY_U_14_pairedplus_marked_dupes.bam\n",
      "NY_U_15_pairedplus_marked_dupes.bam\n",
      "NY_U_16_pairedplus_marked_dupes.bam\n",
      "NY_U_18_pairedplus_marked_dupes.bam\n",
      "NY_U_19_pairedplus_marked_dupes.bam\n",
      "NY_U_21_pairedplus_marked_dupes.bam\n",
      "NY_U_23_pairedplus_marked_dupes.bam\n",
      "NY_U_25_pairedplus_marked_dupes.bam\n",
      "NY_U_26_pairedplus_marked_dupes.bam\n",
      "NY_U_27_pairedplus_marked_dupes.bam\n",
      "NY_U_28_pairedplus_marked_dupes.bam\n",
      "NY_U_30_pairedplus_marked_dupes.bam\n",
      "NY_U_01_pairedplus_marked_dupes.bam\n",
      "NY_U_02_pairedplus_marked_dupes.bam\n",
      "NY_U_03_pairedplus_marked_dupes.bam\n",
      "NY_U_04_pairedplus_marked_dupes.bam\n",
      "NY_U_05_pairedplus_marked_dupes.bam\n",
      "NY_U_06_pairedplus_marked_dupes.bam\n",
      "NY_U_07_pairedplus_marked_dupes.bam\n",
      "VT_E_10_pairedplus_marked_dupes.bam\n",
      "VT_E_11_pairedplus_marked_dupes.bam\n",
      "VT_E_12_pairedplus_marked_dupes.bam\n",
      "VT_E_13_pairedplus_marked_dupes.bam\n",
      "VT_E_14_pairedplus_marked_dupes.bam\n",
      "VT_E_15_pairedplus_marked_dupes.bam\n",
      "VT_E_16_pairedplus_marked_dupes.bam\n",
      "VT_E_17_pairedplus_marked_dupes.bam\n",
      "VT_E_26_pairedplus_marked_dupes.bam\n",
      "VT_E_28_pairedplus_marked_dupes.bam\n",
      "VT_E_29_pairedplus_marked_dupes.bam\n",
      "VT_E_30_pairedplus_marked_dupes.bam\n",
      "VT_E_01_pairedplus_marked_dupes.bam\n",
      "VT_E_25_pairedplus_marked_dupes.bam\n",
      "VT_E_18_pairedplus_marked_dupes.bam\n",
      "VT_E_19_pairedplus_marked_dupes.bam\n",
      "VT_E_21_pairedplus_marked_dupes.bam\n",
      "VT_E_22_pairedplus_marked_dupes.bam\n",
      "VT_E_24_pairedplus_marked_dupes.bam\n",
      "VT_E_02_pairedplus_marked_dupes.bam\n",
      "VT_E_03_pairedplus_marked_dupes.bam\n",
      "VT_E_04_pairedplus_marked_dupes.bam\n",
      "VT_E_05_pairedplus_marked_dupes.bam\n",
      "VT_E_06_pairedplus_marked_dupes.bam\n",
      "VT_E_07_pairedplus_marked_dupes.bam\n",
      "VT_E_08_pairedplus_marked_dupes.bam\n",
      "VT_E_09_pairedplus_marked_dupes.bam\n",
      "VT_U_09_pairedplus_marked_dupes.bam\n",
      "VT_U_10_pairedplus_marked_dupes.bam\n",
      "VT_U_11_pairedplus_marked_dupes.bam\n",
      "VT_U_01_pairedplus_marked_dupes.bam\n",
      "VT_U_02_pairedplus_marked_dupes.bam\n",
      "VT_U_27_pairedplus_marked_dupes.bam\n",
      "VT_U_29_pairedplus_marked_dupes.bam\n",
      "VT_U_31_pairedplus_marked_dupes.bam\n",
      "VT_U_20_pairedplus_marked_dupes.bam\n",
      "VT_U_22_pairedplus_marked_dupes.bam\n",
      "VT_U_25_pairedplus_marked_dupes.bam\n",
      "VT_U_26_pairedplus_marked_dupes.bam\n",
      "VT_U_12_pairedplus_marked_dupes.bam\n",
      "VT_U_14_pairedplus_marked_dupes.bam\n",
      "VT_U_15_pairedplus_marked_dupes.bam\n",
      "VT_U_17_pairedplus_marked_dupes.bam\n",
      "VT_U_19_pairedplus_marked_dupes.bam\n",
      "VT_U_33_pairedplus_marked_dupes.bam\n",
      "VT_U_37_pairedplus_marked_dupes.bam\n",
      "VT_U_40_pairedplus_marked_dupes.bam\n"
     ]
    }
   ],
   "source": [
    "!head -n 132 /local/home/sarahgw/WGS/Sequences/filelists/All_Mylu.filelist"
   ]
  },
  {
   "cell_type": "code",
   "execution_count": 2,
   "metadata": {
    "collapsed": true
   },
   "outputs": [],
   "source": [
    "!Rscript -e 'write.table(cbind(seq(1,132),rep(1,132),c(rep(\"NJ_E\",22),rep(\"NJ_U\",20),rep(\"NY_E\",21), rep(\"NY_U\",22), rep(\"VT_E\",27), rep(\"VT_U\",20))), row.names=F, sep=\"\\t\", col.names=c(\"FID\",\"IID\",\"CLUSTER\"), file=\"/local/home/sarahgw/WGS/SNPS/All_mylu/genoprob/ALL_mylu.clst\", quote=F)'"
   ]
  },
  {
   "cell_type": "code",
   "execution_count": 4,
   "metadata": {},
   "outputs": [
    {
     "name": "stdout",
     "output_type": "stream",
     "text": [
      "123\t1\tVT_U\r\n",
      "124\t1\tVT_U\r\n",
      "125\t1\tVT_U\r\n",
      "126\t1\tVT_U\r\n",
      "127\t1\tVT_U\r\n",
      "128\t1\tVT_U\r\n",
      "129\t1\tVT_U\r\n",
      "130\t1\tVT_U\r\n",
      "131\t1\tVT_U\r\n",
      "132\t1\tVT_U\r\n"
     ]
    }
   ],
   "source": [
    "!tail /local/home/sarahgw/WGS/SNPS/All_mylu/genoprob/ALL_mylu.clst"
   ]
  },
  {
   "cell_type": "code",
   "execution_count": 2,
   "metadata": {},
   "outputs": [
    {
     "name": "stdout",
     "output_type": "stream",
     "text": [
      "1.9 1.64 1.56 1.49 1.41 1.35 1.3 1.29 1.24 1.23 1.18 1.16 1.14 1.13 1.12 1.11 1.1 1.08 1.07 1.06 1.05 1.04 1.04 1.02 1.01 1.01 1 0.992 0.985 0.968 0.965 0.958 0.957 0.955 0.951 0.948 0.938 0.929 0.927 0.921 0.917 0.911 0.901 0.892 0.887 0.883 0.878 0.872 0.867 0.864 0.861 0.86 0.858 0.844 0.838 0.817 0.795 0.787 0.783 0.78 0.772 0.766 0.761 0.753 0.751 0.74 0.73 0.724 0.714 0.702 0.697 0.695 0.687 0.678 0.669 0.655 0.647 0.644 0.637 0.631 0.624 0.618 0.618 0.616 0.611 0.605 0.6 0.594 0.589 0.582 0.575 0.57 0.564 0.559 0.553 0.544 0.534 0.532 0.528 0.524 0.521 0.517 0.513 0.504 0.499 0.494 0.488 0.476 0.466 0.457 0.45 0.446 0.443 0.422 0.41 0.398 0.384 0.372 0.364 0.354 0.339 0.329 0.324 0.319 0.31 0.293 0.284 0.27 0.248 0.246 0.244 0.000714 \n",
      "Saving 7 x 7 in image\n"
     ]
    }
   ],
   "source": [
    "!Rscript /local/home/sarahgw/ngsTools/Scripts/plotPCA.R -i /local/home/sarahgw/WGS/SNPS/All_mylu/genoprob/All_mylu.covar -c 1-2 -a /local/home/sarahgw/WGS/SNPS/All_mylu/genoprob/ALL_mylu.clst -o /local/home/sarahgw/WGS/SNPS/All_mylu/genoprob/ALL_mylu.pca.pdf"
   ]
  },
  {
   "cell_type": "code",
   "execution_count": 5,
   "metadata": {},
   "outputs": [
    {
     "data": {
      "image/png": "[encoded data removed]",
      "text/plain": [
       "<wand.image.Image: 877da0e 'PDF' (504x504)>"
      ]
     },
     "execution_count": 5,
     "metadata": {},
     "output_type": "execute_result"
    }
   ],
   "source": [
    "from wand.image import Image as WImage\n",
    "img = WImage(filename='/local/home/sarahgw/WGS/SNPS/All_mylu/genolike/Rplots2.pdf')\n",
    "img"
   ]
  },
  {
   "cell_type": "markdown",
   "metadata": {
    "collapsed": true
   },
   "source": []
  },
  {
   "cell_type": "code",
   "execution_count": null,
   "metadata": {
    "collapsed": true
   },
   "outputs": [],
   "source": []
  },
  {
   "cell_type": "code",
   "execution_count": null,
   "metadata": {
    "collapsed": true
   },
   "outputs": [],
   "source": []
  },
  {
   "cell_type": "code",
   "execution_count": null,
   "metadata": {
    "collapsed": true
   },
   "outputs": [],
   "source": []
  },
  {
   "cell_type": "markdown",
   "metadata": {},
   "source": [
    "look for associations for each group.\n"
   ]
  },
  {
   "cell_type": "code",
   "execution_count": null,
   "metadata": {
    "collapsed": true
   },
   "outputs": [],
   "source": []
  },
  {
   "cell_type": "code",
   "execution_count": null,
   "metadata": {
    "collapsed": true
   },
   "outputs": [],
   "source": []
  },
  {
   "cell_type": "code",
   "execution_count": null,
   "metadata": {
    "collapsed": true
   },
   "outputs": [],
   "source": []
  },
  {
   "cell_type": "code",
   "execution_count": null,
   "metadata": {
    "collapsed": true,
    "scrolled": true
   },
   "outputs": [],
   "source": [
    "!awk {print} /local/home/sarahgw/WGS/Sequences/filelists/VT_pheno.ybin"
   ]
  },
  {
   "cell_type": "code",
   "execution_count": null,
   "metadata": {
    "collapsed": true
   },
   "outputs": [],
   "source": [
    "!wc -l /local/home/sarahgw/WGS/Sequences/filelists/NJ_pheno.ybin"
   ]
  },
  {
   "cell_type": "code",
   "execution_count": null,
   "metadata": {
    "collapsed": true
   },
   "outputs": [],
   "source": []
  },
  {
   "cell_type": "code",
   "execution_count": null,
   "metadata": {
    "collapsed": true
   },
   "outputs": [],
   "source": []
  },
  {
   "cell_type": "code",
   "execution_count": null,
   "metadata": {
    "collapsed": true
   },
   "outputs": [],
   "source": [
    "/local/home/sarahgw/angsd/angsd -yBin /local/home/sarahgw/WGS/Sequences/filelists/VT_pheno.ybin -doAsso 1 -GL 1 -out VT_assoc -doMajorMinor 1 -doMaf 1 -minQ 20 -minMapQ 30 -SNP_pval 1e-6 -bam /local/home/sarahgw/WGS/Sequences/filelists/VT.filelist -P 15; echo \"VT Assoc done amphiprion\" | mailx gw.sarah@gmail.com"
   ]
  },
  {
   "cell_type": "markdown",
   "metadata": {},
   "source": [
    "ok so if this is true:\n",
    "The likelihood ratio statistic. This statistic is chi square distributed with one degree of freedom\n",
    "Then that means p less than 0.05 is greater than 3.84\n",
    "\n",
    "Right, but you need to do a p adjustment to deal with false positives. Ok, so let's take it into R and calculate p value and correct. \n",
    "Wait, maybe this is already accounting for false positives, paper seems to indicate that, no mention of correcting? Oh, so for standard GWAS there is a set significance thresholde of 5 x 10 ^ -8"
   ]
  },
  {
   "cell_type": "code",
   "execution_count": null,
   "metadata": {
    "collapsed": true
   },
   "outputs": [],
   "source": [
    "!gunzip /local/home/sarahgw/WGS/SNPS/All_mylu/NJ_assoc.lrt0.gz\n",
    "!gunzip /local/home/sarahgw/WGS/SNPS/All_mylu/NJ_assoc.mafs.gz\n",
    "!gunzip /local/home/sarahgw/WGS/SNPS/All_mylu/NY_assoc.lrt0.gz\n",
    "!gunzip /local/home/sarahgw/WGS/SNPS/All_mylu/VT_assoc.lrt0.gz"
   ]
  }
 ],
 "metadata": {
  "anaconda-cloud": {},
  "kernelspec": {
   "display_name": "Python 2",
   "language": "python",
   "name": "python2"
  },
  "language_info": {
   "codemirror_mode": {
    "name": "ipython",
    "version": 2
   },
   "file_extension": ".py",
   "mimetype": "text/x-python",
   "name": "python",
   "nbconvert_exporter": "python",
   "pygments_lexer": "ipython2",
   "version": "2.7.13"
  }
 },
 "nbformat": 4,
 "nbformat_minor": 1
}
