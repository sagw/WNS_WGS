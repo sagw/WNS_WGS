{
 "cells": [
  {
   "cell_type": "markdown",
   "metadata": {},
   "source": [
    "First, realized that I need to combine bam files because I sequenced multiple bats 2x"
   ]
  },
  {
   "cell_type": "code",
   "execution_count": 1,
   "metadata": {},
   "outputs": [
    {
     "name": "stdout",
     "output_type": "stream",
     "text": [
      "KY_E_14_pairedplus_marked_dupes.bam  KY-E-28_pairedplus_marked_dupes.bam\r\n",
      "KY-E-14_pairedplus_marked_dupes.bam  KY-E-29_pairedplus_marked_dupes.bam\r\n",
      "KY_E_15_pairedplus_marked_dupes.bam  KY-E-30_pairedplus_marked_dupes.bam\r\n",
      "KY-E-15_pairedplus_marked_dupes.bam  KY_U_10_pairedplus_marked_dupes.bam\r\n",
      "KY_E_16_pairedplus_marked_dupes.bam  KY_U_11_pairedplus_marked_dupes.bam\r\n",
      "KY-E-16_pairedplus_marked_dupes.bam  KY_U_12_pairedplus_marked_dupes.bam\r\n",
      "KY_E_17_pairedplus_marked_dupes.bam  KY_U_13_pairedplus_marked_dupes.bam\r\n",
      "KY_E_18_pairedplus_marked_dupes.bam  KY_U_14_pairedplus_marked_dupes.bam\r\n",
      "KY-E-18_pairedplus_marked_dupes.bam  KY_U_15_pairedplus_marked_dupes.bam\r\n",
      "KY_E_19_pairedplus_marked_dupes.bam  KY_U_16_pairedplus_marked_dupes.bam\r\n",
      "KY-E-19_pairedplus_marked_dupes.bam  KY_U_17_pairedplus_marked_dupes.bam\r\n",
      "KY_E_20_pairedplus_marked_dupes.bam  KY_U_18_pairedplus_marked_dupes.bam\r\n",
      "KY_E_21_pairedplus_marked_dupes.bam  KY_U_20_pairedplus_marked_dupes.bam\r\n",
      "KY-E-21_pairedplus_marked_dupes.bam  KY_U_22_pairedplus_marked_dupes.bam\r\n",
      "KY_E_22_pairedplus_marked_dupes.bam  KY_U_23_pairedplus_marked_dupes.bam\r\n",
      "KY-E-22_pairedplus_marked_dupes.bam  KY_U_25_pairedplus_marked_dupes.bam\r\n",
      "KY_E_23_pairedplus_marked_dupes.bam  KY_U_27_pairedplus_marked_dupes.bam\r\n",
      "KY_E_24_pairedplus_marked_dupes.bam  KY_U_28_pairedplus_marked_dupes.bam\r\n",
      "KY_E_25_pairedplus_marked_dupes.bam  KY_U_29_pairedplus_marked_dupes.bam\r\n",
      "KY_E_26_pairedplus_marked_dupes.bam\r\n"
     ]
    }
   ],
   "source": [
    "!ls /local/home/sarahgw/WGS/Sequences/allBam/"
   ]
  },
  {
   "cell_type": "code",
   "execution_count": 2,
   "metadata": {
    "collapsed": true
   },
   "outputs": [],
   "source": [
    "!samtools merge /local/home/sarahgw/WGS/Sequences/Myso_Bam/KY_E_14_pairedplus_marked_dupes.bam /local/home/sarahgw/WGS/Sequences/allBam/KY_E_14_pairedplus_marked_dupes.bam /local/home/sarahgw/WGS/Sequences/allBam/KY-E-14_pairedplus_marked_dupes.bam"
   ]
  },
  {
   "cell_type": "code",
   "execution_count": 3,
   "metadata": {
    "collapsed": true
   },
   "outputs": [],
   "source": [
    "!samtools merge /local/home/sarahgw/WGS/Sequences/Myso_Bam/KY_E_15_pairedplus_marked_dupes.bam /local/home/sarahgw/WGS/Sequences/allBam/KY_E_15_pairedplus_marked_dupes.bam /local/home/sarahgw/WGS/Sequences/allBam/KY-E-15_pairedplus_marked_dupes.bam"
   ]
  },
  {
   "cell_type": "code",
   "execution_count": 4,
   "metadata": {
    "collapsed": true
   },
   "outputs": [],
   "source": [
    "!samtools merge /local/home/sarahgw/WGS/Sequences/Myso_Bam/KY_E_16_pairedplus_marked_dupes.bam /local/home/sarahgw/WGS/Sequences/allBam/KY_E_16_pairedplus_marked_dupes.bam /local/home/sarahgw/WGS/Sequences/allBam/KY-E-16_pairedplus_marked_dupes.bam"
   ]
  },
  {
   "cell_type": "code",
   "execution_count": 5,
   "metadata": {
    "collapsed": true
   },
   "outputs": [],
   "source": [
    "!samtools merge /local/home/sarahgw/WGS/Sequences/Myso_Bam/KY_E_18_pairedplus_marked_dupes.bam /local/home/sarahgw/WGS/Sequences/allBam/KY_E_18_pairedplus_marked_dupes.bam /local/home/sarahgw/WGS/Sequences/allBam/KY-E-18_pairedplus_marked_dupes.bam"
   ]
  },
  {
   "cell_type": "code",
   "execution_count": 6,
   "metadata": {
    "collapsed": true
   },
   "outputs": [],
   "source": [
    "!samtools merge /local/home/sarahgw/WGS/Sequences/Myso_Bam/KY_E_19_pairedplus_marked_dupes.bam /local/home/sarahgw/WGS/Sequences/allBam/KY_E_19_pairedplus_marked_dupes.bam /local/home/sarahgw/WGS/Sequences/allBam/KY-E-19_pairedplus_marked_dupes.bam"
   ]
  },
  {
   "cell_type": "code",
   "execution_count": 7,
   "metadata": {
    "collapsed": true
   },
   "outputs": [],
   "source": [
    "!samtools merge /local/home/sarahgw/WGS/Sequences/Myso_Bam/KY_E_21_pairedplus_marked_dupes.bam /local/home/sarahgw/WGS/Sequences/allBam/KY_E_21_pairedplus_marked_dupes.bam /local/home/sarahgw/WGS/Sequences/allBam/KY-E-21_pairedplus_marked_dupes.bam"
   ]
  },
  {
   "cell_type": "code",
   "execution_count": 8,
   "metadata": {
    "collapsed": true
   },
   "outputs": [],
   "source": [
    "!samtools merge /local/home/sarahgw/WGS/Sequences/Myso_Bam/KY_E_22_pairedplus_marked_dupes.bam /local/home/sarahgw/WGS/Sequences/allBam/KY_E_22_pairedplus_marked_dupes.bam /local/home/sarahgw/WGS/Sequences/allBam/KY-E-22_pairedplus_marked_dupes.bam"
   ]
  },
  {
   "cell_type": "markdown",
   "metadata": {},
   "source": [
    "Now call SNPs for myso (independent of Mylu)and then calculate mafs in each pop for these snps."
   ]
  },
  {
   "cell_type": "code",
   "execution_count": null,
   "metadata": {
    "collapsed": true
   },
   "outputs": [],
   "source": [
    "~/angsd/angsd/angsd -b /local/home/sarahgw/WGS/Sequences/filelists/All_Myso.filelist -GL 1 -doMajorMinor 1 -doMaf 1 -doCounts 1 -minQ 20 -minMapQ 30 -SNP_pval 1e-6 -minInd 16 -setMaxDepth 390 -rf /local/home/sarahgw/WGS/QC/All_mylu_Map1.txt -out /local/home/sarahgw/WGS/SNPS/Myso/All_myso_snps_filt -P 20"
   ]
  },
  {
   "cell_type": "code",
   "execution_count": 1,
   "metadata": {},
   "outputs": [
    {
     "name": "stdout",
     "output_type": "stream",
     "text": [
      "5142 /local/home/sarahgw/WGS/SNPS/Myso/mafs/All_myso_snps_filt.mafs\r\n"
     ]
    }
   ],
   "source": [
    "!wc -l /local/home/sarahgw/WGS/SNPS/Myso/mafs/All_myso_snps_filt.mafs"
   ]
  },
  {
   "cell_type": "code",
   "execution_count": 3,
   "metadata": {
    "collapsed": true
   },
   "outputs": [],
   "source": [
    "#make sites file\n",
    "!cut -f1-4 /local/home/sarahgw/WGS/SNPS/Myso/mafs/All_myso_snps_filt.mafs > /local/home/sarahgw/WGS/SNPS/Myso/mafs/All_myso_snps_filt_sites.txt\n",
    "!tail -n+2 /local/home/sarahgw/WGS/SNPS/Myso/mafs/All_myso_snps_filt_sites.txt > /local/home/sarahgw/WGS/SNPS/Myso/mafs/All_myso_snps_filt_sites1.txt\n"
   ]
  },
  {
   "cell_type": "code",
   "execution_count": null,
   "metadata": {
    "collapsed": true
   },
   "outputs": [],
   "source": [
    "# index sites file\n",
    "~/angsd/angsd/angsd sites index All_myso_snps_filt_sites1.txt"
   ]
  },
  {
   "cell_type": "code",
   "execution_count": null,
   "metadata": {
    "collapsed": true
   },
   "outputs": [],
   "source": [
    "for POP in Pre_Myso Post_Myso; do echo $POP; ~/angsd/angsd/angsd -b /local/home/sarahgw/WGS/Sequences/filelists/\"$POP\".filelist -GL 1 -doMajorMinor 3 -doMaf 11 -doCounts 1 -minQ 20 -minMapQ 30 -P 30 -setMaxDepth 320 -sites /local/home/sarahgw/WGS/SNPS/Myso/mafs/All_myso_snps_filt_sites1.txt -out /local/home/sarahgw/WGS/SNPS/Myso/mafs/\"$POP\"_filt; done"
   ]
  },
  {
   "cell_type": "markdown",
   "metadata": {
    "collapsed": true
   },
   "source": [
    "Make genolike file for pcangsd"
   ]
  },
  {
   "cell_type": "code",
   "execution_count": null,
   "metadata": {
    "collapsed": true
   },
   "outputs": [],
   "source": [
    "~/angsd/angsd/angsd -b /local/home/sarahgw/WGS/Sequences/filelists/All_Myso.filelist -GL 1 -doGlf 2 -doMajorMinor 1 -doMaf 1 -doCounts 1 -minQ 20 -minMapQ 30 -SNP_pval 1e-6 -minInd 16 -setMaxDepth 390 -rf /local/home/sarahgw/WGS/QC/All_mylu_Map1.txt -out /local/home/sarahgw/WGS/SNPS/Myso/genolike/All_myso_gl_filt -P 20"
   ]
  },
  {
   "cell_type": "code",
   "execution_count": null,
   "metadata": {
    "collapsed": true
   },
   "outputs": [],
   "source": [
    "python /local/home/sarahgw/pcangsd/pcangsd.py -beagle /local/home/sarahgw/WGS/SNPS/Myso/genolike/All_myso_gl_filt.beagle.gz -admix -admix_save -admix_alpha 1 -o /local/home/sarahgw/WGS/SNPS/Myso/genolike/All_myso_gl_filt -threads 30"
   ]
  },
  {
   "cell_type": "markdown",
   "metadata": {},
   "source": [
    "calculate mafs in pre and post for snps called in mylu"
   ]
  },
  {
   "cell_type": "code",
   "execution_count": null,
   "metadata": {
    "collapsed": true
   },
   "outputs": [],
   "source": [
    "~/angsd/angsd/angsd -b /local/home/sarahgw/WGS/Sequences/filelists/Pre_Myso.filelist -GL 1 -doMajorMinor 3 -doMaf 11 -doCounts 1 -minQ 20 -minMapQ 30 -P 30 -setMaxDepth 320 -sites /local/home/sarahgw/WGS/SNPS/All_mylu/snps/All_mylu_snps_filt_sites1.txt -out /local/home/sarahgw/WGS/SNPS/Myso/mafs/Pre_Myso_Mylufilt.mafs\n"
   ]
  },
  {
   "cell_type": "code",
   "execution_count": null,
   "metadata": {
    "collapsed": true
   },
   "outputs": [],
   "source": [
    "~/angsd/angsd/angsd -b /local/home/sarahgw/WGS/Sequences/filelists/Post_Myso.filelist -GL 1 -doMajorMinor 3 -doMaf 11 -doCounts 1 -minQ 20 -minMapQ 30 -P 10 -setMaxDepth 320 -sites /local/home/sarahgw/WGS/SNPS/All_mylu/snps/All_mylu_snps_filt_sites1.txt -out /local/home/sarahgw/WGS/SNPS/Myso/mafs/Post_Myso_Mylufilt.mafs\n"
   ]
  },
  {
   "cell_type": "markdown",
   "metadata": {},
   "source": []
  },
  {
   "cell_type": "code",
   "execution_count": null,
   "metadata": {
    "collapsed": true
   },
   "outputs": [],
   "source": []
  }
 ],
 "metadata": {
  "kernelspec": {
   "display_name": "Python 2",
   "language": "python",
   "name": "python2"
  },
  "language_info": {
   "codemirror_mode": {
    "name": "ipython",
    "version": 2
   },
   "file_extension": ".py",
   "mimetype": "text/x-python",
   "name": "python",
   "nbconvert_exporter": "python",
   "pygments_lexer": "ipython2",
   "version": "2.7.13"
  }
 },
 "nbformat": 4,
 "nbformat_minor": 2
}
