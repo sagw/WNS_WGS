{
 "cells": [
  {
   "cell_type": "markdown",
   "metadata": {},
   "source": [
    "## FST\n",
    "First need to calculate individual unfolded safs then joint sfs"
   ]
  },
  {
   "cell_type": "code",
   "execution_count": null,
   "metadata": {
    "collapsed": true
   },
   "outputs": [],
   "source": [
    "for POP in Post_Myso Pre_Myso; do echo $POP;/local/home/sarahgw/angsd/angsd/angsd -b /local/home/sarahgw/WGS/Sequences/filelists/\"$POP\".filelist -anc /local/home/sarahgw/references/Myotis_lucifugus.Myoluc2.0.dna_sm.toplevel.fa -GL 1 -dosaf 1 -minMapQ 30 -minQ 20 -rf /local/home/sarahgw/WGS/QC/All_mylu_Map1.txt -out /local/home/sarahgw/WGS/SNPS/Myso/safs/\"$POP\"_unfilt; done\n"
   ]
  },
  {
   "cell_type": "code",
   "execution_count": null,
   "metadata": {
    "collapsed": true
   },
   "outputs": [],
   "source": [
    "/local/home/sarahgw/angsd/angsd/misc/realSFS -nsites 1000000000 /local/home/sarahgw/WGS/SNPS/Myso/safs/Pre_Myso_unfilt.saf.idx /local/home/sarahgw/WGS/SNPS/Myso/safs/Post_Myso_unfilt.saf.idx  > /local/home/sarahgw/WGS/SNPS/Myso/sfs/Pre_Post_Myso_unfilt.sfs.ml"
   ]
  },
  {
   "cell_type": "code",
   "execution_count": null,
   "metadata": {
    "collapsed": true
   },
   "outputs": [],
   "source": [
    "awk 'BEGIN{FS=OFS=\" \"}\n",
    "     NR>=1{for (i=1;i<=NF;i++) a[i]+=$i}\n",
    "     END{for (i=1;i<=NF;i++) printf a[i] OFS; printf \"\\n\"}' /local/home/sarahgw/WGS/SNPS/Myso/sfs/Pre_Post_Myso_unfilt.sfs.ml > /local/home/sarahgw/WGS/SNPS/Myso/sfs/Pre_Post_Myso_unfilt_sum.sfs.ml"
   ]
  },
  {
   "cell_type": "code",
   "execution_count": null,
   "metadata": {
    "collapsed": true
   },
   "outputs": [],
   "source": [
    "/local/home/sarahgw/angsd/angsd/misc/realSFS fst index /local/home/sarahgw/WGS/SNPS/Myso/safs/Pre_Myso_unfilt.saf.idx /local/home/sarahgw/WGS/SNPS/Myso/safs/Post_Myso_unfilt.saf.idx -sfs /local/home/sarahgw/WGS/SNPS/Myso/sfs/Pre_Post_Myso_unfilt_sum.sfs.ml -fstout /local/home/sarahgw/WGS/SNPS/Myso/sfs/Pre_Post_Myso_unfilt"
   ]
  },
  {
   "cell_type": "code",
   "execution_count": null,
   "metadata": {
    "collapsed": true
   },
   "outputs": [],
   "source": [
    "~/angsd/angsd/misc/realSFS fst stats /local/home/sarahgw/WGS/SNPS/Myso/sfs/Pre_Post_Myso_unfilt.fst.idx"
   ]
  },
  {
   "cell_type": "markdown",
   "metadata": {
    "collapsed": true
   },
   "source": [
    "## Genome-wide fst values:\n",
    "Fst.Weight:0.030078\n",
    "So that is slightly higher than for the lucifugus...interesting. "
   ]
  },
  {
   "cell_type": "code",
   "execution_count": null,
   "metadata": {
    "collapsed": true
   },
   "outputs": [],
   "source": [
    "~/angsd/angsd/misc/realSFS fst stats2  /local/home/sarahgw/WGS/SNPS/Myso/sfs/Pre_Post_Myso_unfilt.fst.idx -win 10000 -step 2000 -type 1 > /local/home/sarahgw/WGS/SNPS/Myso/sfs/Pre_Post_Myso_unfilt.fst.sw"
   ]
  },
  {
   "cell_type": "code",
   "execution_count": null,
   "metadata": {
    "collapsed": true
   },
   "outputs": [],
   "source": []
  },
  {
   "cell_type": "markdown",
   "metadata": {},
   "source": [
    "## Calculate Tajima's D and Pi"
   ]
  },
  {
   "cell_type": "code",
   "execution_count": null,
   "metadata": {
    "collapsed": true
   },
   "outputs": [],
   "source": [
    "for POP in Pre Post; do echo $POP; ~/angsd/angsd/misc/realSFS -P 25 /local/home/sarahgw/WGS/SNPS/Myso/safs/\"$POP\"_Myso_unfilt.saf.idx > /local/home/sarahgw/WGS/SNPS/Myso/sfs/\"$POP\"_unfilt.ml; done"
   ]
  },
  {
   "cell_type": "code",
   "execution_count": null,
   "metadata": {
    "collapsed": true
   },
   "outputs": [],
   "source": []
  }
 ],
 "metadata": {
  "kernelspec": {
   "display_name": "Python 2",
   "language": "python",
   "name": "python2"
  },
  "language_info": {
   "codemirror_mode": {
    "name": "ipython",
    "version": 2
   },
   "file_extension": ".py",
   "mimetype": "text/x-python",
   "name": "python",
   "nbconvert_exporter": "python",
   "pygments_lexer": "ipython2",
   "version": "2.7.13"
  }
 },
 "nbformat": 4,
 "nbformat_minor": 2
}
