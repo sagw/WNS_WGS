{
 "cells": [
  {
   "cell_type": "code",
   "execution_count": 51,
   "metadata": {},
   "outputs": [
    {
     "name": "stdout",
     "output_type": "stream",
     "text": [
      "#!genome-build Myoluc2.0\r\n",
      "#!genome-version Myoluc2.0\r\n",
      "#!genome-date 2010-09\r\n",
      "#!genome-build-accession NCBI:GCA_000147115.1\r\n",
      "#!genebuild-last-updated 2011-06\r\n",
      "GL429767\tensembl\tgene\t42604\t226589\t.\t+\t.\tgene_id \"ENSMLUG00000029214\"; gene_version \"1\"; gene_name \"ACHE\"; gene_source \"ensembl\"; gene_biotype \"protein_coding\";\r\n"
     ]
    }
   ],
   "source": [
    "!head /local/home/sarahgw/references/Myotis_lucifugus.Myoluc2.0.89.gtf -n 6"
   ]
  },
  {
   "cell_type": "code",
   "execution_count": 53,
   "metadata": {},
   "outputs": [
    {
     "name": "stdout",
     "output_type": "stream",
     "text": [
      "482554 /local/home/sarahgw/references/Myotis_lucifugus.Myoluc2.0.89.gtf\r\n"
     ]
    }
   ],
   "source": [
    "!wc -l /local/home/sarahgw/references/Myotis_lucifugus.Myoluc2.0.89.gtf"
   ]
  },
  {
   "cell_type": "code",
   "execution_count": null,
   "metadata": {
    "collapsed": true
   },
   "outputs": [],
   "source": [
    "!head /local/home/sarahgw/references/Myotis_lucifugus.Myoluc2.0.89.gtf"
   ]
  },
  {
   "cell_type": "code",
   "execution_count": 2,
   "metadata": {},
   "outputs": [
    {
     "name": "stdout",
     "output_type": "stream",
     "text": [
      "\"\",\"SNP\",\"Scaffold\",\"Maj\",\"Min\",\"NJ\",\"NY\",\"VT\",\"Comp\"\r\n",
      "\"19\",453486,\"GL429872\",\"A\",\"G\",0.000886999113000887,9.99999000001e-07,0.00143799856200144,5.14576123265913e-10\r\n",
      "\"21\",463041,\"GL429852\",\"G\",\"A\",7.6999923000077e-05,1.999998000002e-06,0.00203599796400204,1.39290583823221e-10\r\n",
      "\"26\",616121,\"GL429834\",\"G\",\"C\",9.99999000001e-07,0.000861999138000862,8.1999918000082e-05,3.46164465967714e-11\r\n",
      "\"51\",1543734,\"GL429882\",\"T\",\"C\",0.00874799125200875,9.99999000001e-07,9.99999000001e-07,4.87504391237632e-12\r\n",
      "\"77\",6378055,\"GL429769\",\"A\",\"G\",9.99999000001e-07,0.00793499206500793,0.000161999838000162,5.18311972902529e-10\r\n",
      "\"78\",7341092,\"GL429785\",\"T\",\"G\",9.99999000001e-07,0.00534499465500534,7.3999926000074e-05,1.72986116789635e-10\r\n",
      "\"84\",11429827,\"GL429778\",\"G\",\"A\",9.99999000001e-07,9.99999000001e-07,0.0557789442210558,2.7731711844651e-11\r\n"
     ]
    }
   ],
   "source": [
    "!head '/local/home/sarahgw/WGS/SNPS/All_mylu/snps/NJNYVT40_sigCompvalues.csv' -n 44"
   ]
  },
  {
   "cell_type": "code",
   "execution_count": 1,
   "metadata": {},
   "outputs": [
    {
     "name": "stdout",
     "output_type": "stream",
     "text": [
      "482554 /local/home/sarahgw/references/Myotis_lucifugus.Myoluc2.0.89.gtf\r\n"
     ]
    }
   ],
   "source": [
    "!wc -l /local/home/sarahgw/references/Myotis_lucifugus.Myoluc2.0.89.gtf"
   ]
  },
  {
   "cell_type": "code",
   "execution_count": 4,
   "metadata": {
    "scrolled": true
   },
   "outputs": [
    {
     "name": "stdout",
     "output_type": "stream",
     "text": [
      "['GL429785', 'ensembl', 'gene', '7338804', '7404912', '.', '+', '.', 'gene_id \"ENSMLUG00000009337\"; gene_version \"2\"; gene_source \"ensembl\"; gene_biotype \"protein_coding\";\\n']\n",
      "['GL429785', 'ensembl', 'transcript', '7338804', '7404912', '.', '+', '.', 'gene_id \"ENSMLUG00000009337\"; gene_version \"2\"; transcript_id \"ENSMLUT00000009343\"; transcript_version \"2\"; gene_source \"ensembl\"; gene_biotype \"protein_coding\"; transcript_source \"ensembl\"; transcript_biotype \"protein_coding\";\\n']\n",
      "['GL429813', 'ensembl', 'gene', '3242471', '3390363', '.', '-', '.', 'gene_id \"ENSMLUG00000010886\"; gene_version \"2\"; gene_source \"ensembl\"; gene_biotype \"protein_coding\";\\n']\n",
      "['GL429813', 'ensembl', 'transcript', '3242471', '3390363', '.', '-', '.', 'gene_id \"ENSMLUG00000010886\"; gene_version \"2\"; transcript_id \"ENSMLUT00000010903\"; transcript_version \"2\"; gene_source \"ensembl\"; gene_biotype \"protein_coding\"; transcript_source \"ensembl\"; transcript_biotype \"protein_coding\";\\n']\n",
      "['GL429849', 'ensembl', 'gene', '149381', '371662', '.', '+', '.', 'gene_id \"ENSMLUG00000008202\"; gene_version \"2\"; gene_name \"DOK6\"; gene_source \"ensembl\"; gene_biotype \"protein_coding\";\\n']\n",
      "['GL429849', 'ensembl', 'transcript', '149381', '371662', '.', '+', '.', 'gene_id \"ENSMLUG00000008202\"; gene_version \"2\"; transcript_id \"ENSMLUT00000008200\"; transcript_version \"2\"; gene_name \"DOK6\"; gene_source \"ensembl\"; gene_biotype \"protein_coding\"; transcript_name \"DOK6-201\"; transcript_source \"ensembl\"; transcript_biotype \"protein_coding\";\\n']\n",
      "['GL429882', 'ensembl', 'gene', '1526830', '1551057', '.', '+', '.', 'gene_id \"ENSMLUG00000008817\"; gene_version \"2\"; gene_source \"ensembl\"; gene_biotype \"protein_coding\";\\n']\n",
      "['GL429882', 'ensembl', 'transcript', '1526830', '1551057', '.', '+', '.', 'gene_id \"ENSMLUG00000008817\"; gene_version \"2\"; transcript_id \"ENSMLUT00000008810\"; transcript_version \"2\"; gene_source \"ensembl\"; gene_biotype \"protein_coding\"; transcript_source \"ensembl\"; transcript_biotype \"protein_coding\";\\n']\n",
      "['GL429882', 'ensembl', 'exon', '1543068', '1543274', '.', '+', '.', 'gene_id \"ENSMLUG00000008817\"; gene_version \"2\"; transcript_id \"ENSMLUT00000008810\"; transcript_version \"2\"; exon_number \"3\"; gene_source \"ensembl\"; gene_biotype \"protein_coding\"; transcript_source \"ensembl\"; transcript_biotype \"protein_coding\"; exon_id \"ENSMLUE00000259129\"; exon_version \"1\";\\n']\n",
      "['GL429882', 'ensembl', 'CDS', '1543068', '1543274', '.', '+', '0', 'gene_id \"ENSMLUG00000008817\"; gene_version \"2\"; transcript_id \"ENSMLUT00000008810\"; transcript_version \"2\"; exon_number \"3\"; gene_source \"ensembl\"; gene_biotype \"protein_coding\"; transcript_source \"ensembl\"; transcript_biotype \"protein_coding\"; protein_id \"ENSMLUP00000008028\"; protein_version \"2\";\\n']\n"
     ]
    },
    {
     "data": {
      "text/plain": [
       "10"
      ]
     },
     "execution_count": 4,
     "metadata": {},
     "output_type": "execute_result"
    }
   ],
   "source": [
    "f=open('/local/home/sarahgw/WGS/SNPS/All_mylu/snps/NJNYVT40_margCompvalues.csv', 'r')\n",
    "a=open('/local/home/sarahgw/references/Myotis_lucifugus.Myoluc2.0.89.gtf', 'r')\n",
    "flines = f.readlines()[1:]\n",
    "chrom_dict = {}\n",
    "for line in flines:\n",
    "    line = line.replace('\"', '')\n",
    "    args = line.split(',')\n",
    "    chrom_dict[args[2]] = int(args[1])\n",
    "\n",
    "aline = a.readline()\n",
    "count = 0\n",
    "while aline:\n",
    "    agroups = aline.split('\\t')\n",
    "    #print(agroups)\n",
    "    chrom = agroups[0]\n",
    "    if chrom in chrom_dict:\n",
    "        loc = chrom_dict[chrom]\n",
    "        if int(agroups[3]) < loc+1000 and int(agroups[4]) > loc-1000:\n",
    "            count += 1\n",
    "            print agroups\n",
    "    aline = a.readline()\n",
    "count"
   ]
  },
  {
   "cell_type": "code",
   "execution_count": null,
   "metadata": {
    "collapsed": true
   },
   "outputs": [],
   "source": [
    "grep 'GL429872' -A 10000000 /local/home/sarahgw/references/Myotis_lucifugus.Myoluc2.0.dna_sm.toplevel.fa | tr -d \"\\n\\r\" | cut -c 452486-454486 >/local/home/sarahgw/WGS/SNPS/All_mylu/snps/GL429872_453486"
   ]
  },
  {
   "cell_type": "code",
   "execution_count": 5,
   "metadata": {
    "scrolled": true
   },
   "outputs": [
    {
     "name": "stdout",
     "output_type": "stream",
     "text": [
      "gtgataagaaacccagcttaactgacttaggcaaaaaaggggaatgtattggttggcatgACTAGTCAGGGTCTCACTTTTCTCATCAGCTTTGCTTTCTCTCTTGACTATTTTGAAAAAGCTCTCCTGATTATAGGTTGGCCACTAGATTGGCCGAGATTGTTCCTAGAGCCATGTCTCCAGATTCAAATCTGCAAAGAAGTGATAAACTTCATCCAAGCATTCCCATCTGGTGAGTCCTGAGAGTCACTCTGATTGGACTAACTCACGTCACCTATACTGCCTCACCCTTCTttctactcttctactctcctactctGGCCCAAACCAAAACAAGCCCCTGGAGTTCCTGAGCAGTCTGCCAgtgaaaagcaagtcacaggtgctgtgcacacacaggggagcagattacacaagggcatgaataccaggaatatagaaccagaagtcttggggccatattaaagtctgcataccacaCTTGGTTCTATTTTTTaaaaaaagaggaaaaaaaaGGTATTTTTCTTTGGAAGTTATAACCTATTAATGTGAGGAAACTCAGTGGTTGCTGATAAACAGATGTCTTAAACATTTCCCTTCTATAAATTTAAACTTTGTCCTCTGTGGGTCTCTTCTGCAAGTGAAACGGGGGGGAGATGCATCTTTTAAATATTAGTTTGAAACTGGTTTGTAAACTGACCGATGTCTGCACAGTGCTGATTTTTATGACAGTCCAAGGCCACCTCCTATCGTTTCAGGTAATATCACCCCATGCAATAGGCAGCCAACATAAATCTACTCAATTTTTCAACCTGCCTTTCTAGGAGACAGCCTTCTGGGGAATATTTTCAGGATGAATGTCCTTTATGCATACTCACATGATGCTCTGTCATTTTGGGAAGGAGAGCCAATATTATAACAAGTTGCCAGGAAgtcctggctggtgcggctcagttggttgagctttgtcctgtgcgctgaaaggttgccgattcaattcccagtaagggcatatacccaggttgcgggttcaatccctggttggggtgcatgtgggaggctgctgatcaatgtttctctctcacattgatgtttctctctcccttcctctctctcctaaaatcaataaaaacTTTTTTTAAAAGTTGCCAGGGAAAAAATGGATAACAGCAAAATAACCTGGGCATTTAACCAGCCTGTGAGTTTGGCGTGCTTGATGTTCATGTCCCTTTAGCAGAGATCTGACTTTTATTGTCACTCTTTGCCTAGCCAGTATTTTAGTGGTTCCTTTTGCTTCTGGAAACTCCGGCCCCAAATTATGGTGTTGTCAGGTcagaagcagtactaaggagtggcttggaaggagaaccaagaatctccattactaccgtattccaccttcccattatcactgcccttttcttgatatgaacagttgatgttttctcagacttatgtaaagtgctgtgtcaactgggctccaggacaagactcctacccttccacccttccaaccagattgctgcccctcccaccagcccctcctgttgagaggttctggGACTCCTTCCATTTCAGGCTGATATCAGCTAAGAGAGATTTGGAAGCACTTCTTTCTTTACTCTTGCCATAGAATTCAACGGGGGAAAAGTCATTTTAAATATTGTCTGAAGGACAGATGTGAACTAGCTGCTTCCCAGACCCAGGCAACCAGTTTGGTTTCTTCTCTAAAAGCTGGTTGCTGTCAAACTCTCCAGGGTTCCTGGGTCAAAGAAACAGAAGTCAGCACCTGTAAGTGTTGACCCAGACAAacacagcaactttgatcagttaagtatgaataaatcagaaattcatggttttaattccctttgaaatagccacacacttagaggttatggggagaaggtatttggcataatacacttgaagagttgccagccatataatgcttgaaaaatatccagatagagtttaccaaacccaaaagcagccaggttt\r\n"
     ]
    }
   ],
   "source": [
    "!head /local/home/sarahgw/WGS/SNPS/All_mylu/snps/GL429872_453486"
   ]
  },
  {
   "cell_type": "code",
   "execution_count": null,
   "metadata": {
    "collapsed": true
   },
   "outputs": [],
   "source": [
    "grep 'GL429852' -A 100000 /local/home/sarahgw/references/Myotis_lucifugus.Myoluc2.0.dna_sm.toplevel.fa | tr -d \"\\n\\r\" | cut -c 462041-464041 >/local/home/sarahgw/WGS/SNPS/All_mylu/snps/GL429852_463041"
   ]
  },
  {
   "cell_type": "code",
   "execution_count": 6,
   "metadata": {},
   "outputs": [
    {
     "name": "stdout",
     "output_type": "stream",
     "text": [
      "aaagcaggtttctggggttttgtttagctcctatatttgtaacaatgtttcaaACTGCAAGCTCAGAAGCTGGCAAGGCAGGTGGGGAACGTTGGCTTCCTCTGTCACTGAAGCAAGCAAGCCTCCTGTTTGCTTCAAGCTGCCTAGCTGCCGGCTGCCATCTTGGCTGGCAGTTAATTTGCATATCGCCCTGATTAGccaataggaagggtagcggaggtatggctaattaccatgtttctctattattagataggatatctctctcccttcctctctgaaatcaatacaaatatattttaaaaTCTTTATATCATTGTATTGTGATATCTTCATCATATAGTAAAAATTTCATGAAAATTAGTATATATTTCTGACCTTTCTACTAATTCCAGAAATCTGTTCTTACACCAAGACTTCACTATTATTTTCGTTATTTTATAGGTATTTAattttttaaaacaatatttttattgatttcagaaaggaagggagagggagagagagatagaaacatcaatgatgagagagaatcattgatcagctgcctcctgcacaccacacactgggaatcaaaccatgacctgggcatatgccctagaccggaatcaaacctgggacccttcagttagcaggccgacgctctatccactgagccaaactggctagcgcTATAGGTATTTACTTTTAATAGATCTTGTTCACCACTTTTTATTATTCCTTCTTCACTCCCATCCCCCAATAGATTTTCTTTCTTACCTGTTTAGAATTTTTCTTCCTCTCCTTCCTTTTGTTATATGTTTAAAAACAACCTTCTGAGTTTGTTGTTATTGCTTTTTAAAATCAAGATTCTGTTAAATCTGTAACTTAAATAGTAGGAAATAGATGTTTATGTAATATTTAGGCTTCTCATCCAGGAACCTCTTATTTTTTCATTCATTTACATCTCTCAGACACCATGGAAGGTTTTGTGGTTTCCTTTCTTTAAAAAATGCACATATATATATTTGCATGCATAGTATCTTAGGTTGGGTTCCATAGAAGCAGGCTTTGAAGTGGAGGGTTGTCCGCAGAAGTGTTTACAGAAGAGGCTTCTGGCTTGCAATGCAGTTGCAACTGGGGCCTTAGCTTATGGGGTGTGTGGGCAGGGAGATTATGGGAACAGAGGGAGATGCCCTGGAGCAGAATGGGACATCGAGGTTTAGTAACTTACAAACTTACAAATAAAATACCATGTTTGAGTGGACCGGAATGCTCAAGTCAGCCTAACCATAGATTAGATTGATCTCAAGGAGATGCTTAGGAAGCATGGAATCAGACTAAGGAGTGAGCTGGACTCAAATGTCTCTCAACCAAAGCAGGGCACAGTCCTGGAAGTGTAAAAGGGAGCTTGCTTAACTGTGTTTAGGGGGCACTGGTGTGTGTGCCTGGCTGACTCATTCCCTTGTATGTACTGGATCCTTTTCCAGCTAGGGTGCAAGTTTTTATTTACTGTTGTATCCTTCTCTTGCCTCCCTGAAATTGCTCCTAGAGCACCTGAACAGGAAGACTAGCCCTTCTCAGCCTCTTCAGTCACAGAGTCACAATCTCTAGATTTACCTCCATGTATAACCAATCACATTTGTGatgtggggatcttactaatttaattttgagattagctttattttcagtttcttgggagacatcttactgtgatcttcaaggactgacaacagcttctaCAAAATTATCATTTAATATGATGTACAACATTAGGTACTCTTTATTATGCTATGAAGACTCATTCTATCTCTATTAACATTTAAAAATAAATATTATTATATACCTTTTTTATATTTATAGAAATAAAACTTTTCTAGTTTAATATCTAGTGATATTCTTCAATTAAGGTATTCTTTTATTATTGGGGTTAACCTCTCCTTTTATTAATAAATCATTTTGAATAGCTAATAAGTGTAATGGCATAAAATTCAGAAGGTTCAAAGAGAAATATATTGA\r\n"
     ]
    }
   ],
   "source": [
    "!head /local/home/sarahgw/WGS/SNPS/All_mylu/snps/GL429852_463041"
   ]
  },
  {
   "cell_type": "code",
   "execution_count": null,
   "metadata": {
    "collapsed": true
   },
   "outputs": [],
   "source": [
    "grep 'GL429834' -A 100000 /local/home/sarahgw/references/Myotis_lucifugus.Myoluc2.0.dna_sm.toplevel.fa | tr -d \"\\n\\r\" | cut -c 615121-617121 >/local/home/sarahgw/WGS/SNPS/All_mylu/snps/GL429834_616121"
   ]
  },
  {
   "cell_type": "code",
   "execution_count": 7,
   "metadata": {},
   "outputs": [
    {
     "name": "stdout",
     "output_type": "stream",
     "text": [
      "tgggggcaatcaggctggcagggggagcatttaggggtgatcaggccatcaggggagggcagttgggagcaatcaggccagcaggtgaaggcgattaggggcaatcaggccagcaggcagagtggttaggagcaatcagcaggcagttgagtgattaggagcCAGTGGTCCCGGATTGCGAGAGGGATGTCCGACTGTGGGATCGGGCCTAAACTGGCAGTTGGACATCCCCCAAGGGGTCCCAGATTGGAGAGAGTGCAGGTGGGGCTAAGGACCCCACCCTACTGTGCAGGAATTTTGTGCACCAGGCCTCTAGTTAAACTATAATTGCATGGAGGGTCTTTGGCCCTATGCATGCTGCAAAATGATGCTAATTATCAGAGTAATTCATGGAGATTCATTTTTATTCaaataattattatattttataggcatataaaatatatattattaatcatcattaaataCAAATGAAAAGTTTTATAAATTAATATAGAGAACTAAAACTCACAAAATATGTTGAAATATCCTCAGTTGCCCAAAATATCTAGTTAGAGAACAATTCTTATAAAGTAATATTACTCAGATACAGATGGGTTTCATATGAGTTATCATATTGAATTGTTGACAGTTAATGAATAGGTCAAGAGCACAAGACACCAGCTAAAAAGTAAGATTCCTTTAAATTCATGATGAAGAATAATGCATGTTGCAGAAGAATCTCTGGGAAGTTAGGGGGAAACATTAGAATGTAAGGTAGGTAGAGGACAGTAGACCAGCAATTGTCAAGTGGTGTGCCTCAGCAGGCACATTGGTGTGCCACAAGAATGTTTAAAACTTGCAATACCTGACTATTTAGTCAGGGGTCCTGACCTCTTTTCCCTTAGAATATTGTCAAATAAAAAAATGACAATAGCCAACAAAACAATAACCATCCATTGTGAATGTATCAAAATTATACTTTTTTTGTCAGATTAGCAAAATATATAAAACCTTTTTTAGTATGCCTAAGAATTTTAATAATTAGTATCTGTGTGCCATGAGCTGGAAAAGGTTGAAAATTGCTGCAGTAGACTAAGGaaaaaagaaaaaaTAAAGTAGTGACAGAAACAAGGGGGGAAAATAACCTACTTCGGGTAGGCTCTGGAAATTAGCCAATTGCACATTACTTGAGCATGATCCTGAGACAAAGAAAGAACATAAGTAATTTTTGGAGCTAATTTCTTTACTAAATGGAAGTTATATTTTATTTTAAAGAATCAGCAATTCTCAGCATTCACTCTTTCTTCTTGATAGAATCAAATCTATTTATCCTTTGCATGCCTATAACAATACTTTATAATGATGAAAATCAGCTGAATTATGTAGATTtaattaagtataaatataattaagtggaaataCAGAATCCCTGAAATAGCTTTTAACATCTCAGTTAAAAAGGAAGACAGTATTTGGGTCACTGCTTTTTGACTGAAGCTATAATAAGAAACGATTGAGCTTCAAAAGTTATTTGACCATCTGTCTTCCCTTAATCAAGTTCTAACAGGATAGGTTCTAGGCATGGGGCATAGAAAATAAGTGTATAAGGGTGTGTTTCAGAAAGGAGAAGAAAATAATCCTAAATTACAGAAGGCAGAAGCAATTTTAAGGCCCTGGGTCACTTGTTTGAAAACATTTAAAAATTAAAGAAATGAATAcatttttcctctttatgaaatattttttctttttatttattaatttattttaaatcttttttACTATTGAGAATATTAAAGATGTCCCCTTTCCCCCCATTGCTCCCCCTCTACCTGGTTCCCACCCTGCCCCACACCAGGCCTTCACCATccccgctatttttatagcctataattaggggaaacttttcttcccagctctggcaccctgggctgaaggcctggtataggactgggacactttgctcctcaggggcagcctctgtagaaacaattttcctcaccattaaagaaaaggcac\r\n"
     ]
    }
   ],
   "source": [
    "!head /local/home/sarahgw/WGS/SNPS/All_mylu/snps/GL429834_616121"
   ]
  },
  {
   "cell_type": "code",
   "execution_count": null,
   "metadata": {
    "collapsed": true
   },
   "outputs": [],
   "source": [
    "grep 'GL429882' -A 100000 /local/home/sarahgw/references/Myotis_lucifugus.Myoluc2.0.dna_sm.toplevel.fa | tr -d \"\\n\\r\" | cut -c 1542734-1544734 >/local/home/sarahgw/WGS/SNPS/All_mylu/snps/GL429882_1543734"
   ]
  },
  {
   "cell_type": "code",
   "execution_count": 1,
   "metadata": {},
   "outputs": [
    {
     "name": "stdout",
     "output_type": "stream",
     "text": [
      "atggaatcttggtggaattccacctgcaaagtcacattgcagaggggtgggaggaaaaatatgtggccatttttgccatttatcACACCTTTCTACCTCCTGAGATGATTGTAAAGATGGAATATAGGAAATAGATGTGAAAGTTATGAAAATGAAGAGTGATCTTTAGTTAGAAGGAACAATGCATGCTTCTCAGCCTATTGTAGGGAAAAACATCAGAGGAGGCAGTCTTGAGCTGTAAGCTCTGAGCTTGTTTATAAGTTGATGTCTTTATTCTCATGAAACCAGTTGTCCTCATGAACAGAGTCCATTAGACTTTAAGCCCAAGGCTTTAGGACGCCATGTTGGCAGCACATTTTACCAGCTTCCCAAATAAAATTTCGACTCCCTTCATGTTTTCAAGTTTGAAAAGATCCAAAAGCTGACTGGTGCCCCTCACACTCCTGTCCCTGTGCCGGACTTCCTATTTGAAATCGAGTACTCGGACCCAGCGAATGCCAAATTTTATGAGACCAAAGGAGAACGAGACCTAATCTACGCCTTCCATGGGAGCCGCCTAGAAAACTTCCATTCCATCATCCACAATGGCCTGCACTGCCACCTGAACAAGGTGGGGCCTAAGCCTGCTGACATTTGGGGGGGTTGGTGGGTCAGAGCGGGTAAAGGGTGGGAAGGGGTAGGTTCCCTAAGTccttgccactcaaaatgtgggccacagaccagcagcagctgggcgcctgtgaaaatgcagaatcctgggcccacctggaccttctgaatcagaacctgcatattaacaagatctccaggtgatccctatactgatggcagtttgagaagcatctctgggagtcaggtccagacagcagcatgcttgtaaagctcaccaggtgatccagtgtgtggtcaaCcctcaccactcagcatggttcctggaccagtggcaccacatcacctggagcttgttggacaagtagaatctcagggcccaccccaggccagctccccaggtgatctctttgtattttgaagtttgagaaacactgCTCTAGGGGTCACTCCAACACAGCCTGCCCTTGGAGAAATTGGGGGAAGTGCCAGGGAGGGGTCCTTTCCCTCCCTCCTTGAGTTTGCTTCCTCTCCTTAGTGTCCTCCCTTTTTAAAGAGTCAAAACAGTGTCAACAACCCCTACTCCACTGGCACAGtttaaaaaaatatacatttttattgatttcagagaggaagggagagagagagagaaacatcaatgataaaagagaactattgattggctgcctcctgcatgacccacactggggattgagccccaacccaggcatggttcataggtcgacactcaaccagtgaGGGCACAtttttttaaaaaaagctttttaaaattgatttttacagaaagaaacatcgatgtgagagcacagcatcgattggctgcctcctattggggattgagcctgcaacccgggcatgtgccctactgggaatgaaactggcaacctttcagtgcacgggatgatggccaacgaactgggccataccagcgagggcTCCGCTGGCACTTTTTTGCCTCTCTGTGAAGTGTAGGGGAGAGTACAGACAGGAGCCAAAAAGAccaccttagcagctctgcagcctgtgcagattgttttaaactctctgagcctcagtgtcctcatctgtacaataggataccattacccaccttctggtgagctgagaggattgaaacagcccatgcatgcaaaAGGTCTTCCTGTACTAAGCACCAAGGACACTGCTTTTCTAGGAATTTGGGTAGTAGCAGTGCTGCAGCCTTTCCTCCGGTCATGCAGCACCTGCCATGCCTGAGGGGCTGGCTCCCTGAGCCGCAGGCTGACCTGTGGCTGATGCATCCTGGAGCGGGAGAGTCTTCCCAGCAGCGCTGCAGCAGATTAGCAATTAGTGCAGTTAGGTTTTGCTGAGGATGACGAGCTTGTTTACACT\r\n"
     ]
    }
   ],
   "source": [
    "!head /local/home/sarahgw/WGS/SNPS/All_mylu/snps/GL429882_1543734"
   ]
  },
  {
   "cell_type": "code",
   "execution_count": null,
   "metadata": {
    "collapsed": true
   },
   "outputs": [],
   "source": [
    "grep 'GL429769' -A 1000000 /local/home/sarahgw/references/Myotis_lucifugus.Myoluc2.0.dna_sm.toplevel.fa | tr -d \"\\n\\r\" | cut -c 6377055-6379055 >/local/home/sarahgw/WGS/SNPS/All_mylu/snps/GL429769_6378055"
   ]
  },
  {
   "cell_type": "code",
   "execution_count": 4,
   "metadata": {},
   "outputs": [
    {
     "name": "stdout",
     "output_type": "stream",
     "text": [
      "gtttatttctaggctctctattctgttttattgatttatatgtctgtttttatgccagtaccatgtccttttgattactatagtcttgtagtatagtttgatatgagttattgtgatttctccaactttttttctcaagactgctaattccatataaaaatttgaattattttttctagttctgtgaaatacaccattagtattttgataggaattgcattgaatgtatatatattgctttgggtagtatggagattttaatgttaattattcttattcatgggcatggtatatacttccatttatttgtatctccactttcttttttctaaaaaatatattttattgatttttttacagagaggaagggagagggatagagagttagaaacatcgatgagagagaaacatcgatcagctgcctcctgcacactccctactggggatgtgcctgcaaccaaggtacatgcccttgactggaatcgaacctgggacccttcagtccataggctgatgctctatccactgagccaaactggttaagactgtatctccactttctttcttcagtgtcataattttctgagtacagatcatttacttccttggttaaatttattcccaagtatttttatgtggttgtaaatggattatttatttatttatttatttatttatttatttattagtttccattgctgatagttcattgttggtgtataaaattgcaactgagtctttatctaGGAAtccaagttggcagcagagtaagtggaaaatagattcacttcctcccaggaccaaactagaattacaaccaaattatataacaatcatcctaaataaccaactgaagactaccttaagagcagttttataaccaaggatttacagaagaagccacattgagactggtaggaatggtagagatgtgaaaaaggctggccccaatcccaggggtggcaactgtgaatctggcaggatatctcacctgtggttaattccccctgagaagcatggagtctcaaccccaagctgggcatccagcacagatccaggaaaaggcacccacaaaatatctggttgtgaaaatcagtgggAGAGACATAAGTTTGCTAGAGACACAGGCACCTTTTTAAAAAGCCAATAAACAAATTTTCATTCATAGCCACTTACTCTGGCAGAGGGAGAGAGGAGAAGACTACAGTTGTGTGAGGAGAGTCTGGGGAGAGAGTGGAAAAGACAGCCACATGGATCCCTGTGCTGAGTCATTCTCCCATACTGCAGACACCATCTTTCTTGGGTGGAGCATTCCCTTTCCTGTGGCATCATCCAGGTGGAAAGTAAGAGCCCCACCCTTTGGAATCCTTCTTCCATGTAGATGTCTGGGCAGACTGAGGAGGTGTCAGTTACTGAGTTTTGTGGCTTTGGGGTGGAGCCATTCCCCCAATTTTCCATAAATCTGACTAACAATTCCCCTCCTCAGGGGAGATCTATTAGAATCACCCTCCAGGCTTCAGGAAGACCCACCTGAGAGCCCCAAATGCCCCACCCTTCAGACTCCTAGTGGTTTCGCCCTGCCAAGGTTGGAACAAAATTCGGGACAAACTGAGCTGTGAGGTTCTGGAGGAGAGGCCACAAACACCCACCTTCCCCAAAGCCTGACCAGCACCTATCCTCATAGGAGATCCACTACCCCCATCTTTCTGATACCTGGCAACCCCACCCTGCTAAGTTCAGGCTCCTTTTGGCAGAATCTGGGACAGACTGAGTTTTGTTGCTCTAGGACAGGAACCATTTTCCCCTTGCACACTTGAATGTAGCAAAGCCCTGTAAACATAGGGCCAAATCTTGGTCTGTTTGGGCTTGATAAACTCTGCTGGCCTCACCCCAATAACTCCCTGAGATCCTGTCCTAACATATATGTATGCAAGCACCCAGCTGGTGGCAGCTAGATTTGGTATACCTGGGGATTTGTGCTGAGTGGCCTCAGACACAGCA\r\n"
     ]
    }
   ],
   "source": [
    "!head /local/home/sarahgw/WGS/SNPS/All_mylu/snps/GL429769_6378055"
   ]
  },
  {
   "cell_type": "code",
   "execution_count": null,
   "metadata": {
    "collapsed": true
   },
   "outputs": [],
   "source": [
    "grep 'GL429785' -A 1000000 /local/home/sarahgw/references/Myotis_lucifugus.Myoluc2.0.dna_sm.toplevel.fa | tr -d \"\\n\\r\" | cut -c 7340092-7342092 >/local/home/sarahgw/WGS/SNPS/All_mylu/snps/GL429785_7341092"
   ]
  },
  {
   "cell_type": "code",
   "execution_count": 5,
   "metadata": {},
   "outputs": [
    {
     "name": "stdout",
     "output_type": "stream",
     "text": [
      "TGACCCAAATTACTGATGTTCCAGGCATCACTGTTGTGTCACTTCCTAGGAAGCCATTAGGAATTCACTTCTAGTTAAAGCTCTTTTTGTTATTGCTCTGAAGGTTTCCTTTCATCTATTCTATCCTGTTCCCTATTTTTAATTGTATTTTACTTTACTTAACTACATTAACCAACATGCCAATGGGGGTTAATCCCTCAGCATTCATTTAGAGACCAATTCCATGGATCTCCCACTTCTCCCTGTGAAGCACTGTTCTGGCAATGGGATGCAGAGAATGAGGCATATCACTCATCCAAGCCTAGGAGACCGTCTGAAATGTTGTGAGCATCTGCATAGACGAGTTGCAATTGGTTCTCCGTGCTCCAGGCCACCTTTCAAAGTAAAACCAACGAGTTGCAATTGAAGCTCAGATTCGCATCAATATTGTTGGTTCCCATTGCACGTGATTCTCATATGTCACCCTGTAAGCCCCATGGCTGATTTTGCATTAGAGCTGCCATCTAAGTGATGAAAATGTGTTATAAGGAATGTCTTATGGTGACTGACTGAGATCTGGAGCCAGACATATTTTAAGGGATTTTTTGGTCACCTCATACTAGAGCTACATACTAGAGGGTCTGTCAACACATTTAGTCTCAATTAAGTGATAGACACAGTGCAAAATTATAGGAGGGGTTTCCACATAACTatcggaattgcctggaggacttttaaatatactgattcctgccccactccagacttctgaatcagCTCACAAATTTGACTTGTGTCTCTAAAGAGCTATCGTATAAGAATAACAATTTGAATGTAAACCTGAAATTATACTGATATAGTAAAGATAATGGCGTCCTTAATTGCACATCTAATATGTTTCTAGACCTGGACAATTATAAGAAACTTCTAAGGAGCTTTAAAAATTTACAAATTTCAAAGCCACACCTGAATGACTTATATAAAAGCAGCAATGAAGTATTTTTATTCTGAAGACTTTCCATAAGTAGGCATTGGCATTTATAATGTGTTTTGTACACTTTTCTACTCGATTCTCCTAGCAATCCATAATTTTAATTCTGCTTTATGCATAAGAAAACCAAGTATTGTTACAAAAGCTTTTATTTTGAGAATGATCTTGACTATTCTTTTGGCCATGGTATTCATTGCTTTCTTATTTCCTCACAGTGATGTTATGACATTGGCTTGATTTTTCTCATATCCATTGTTAAGTGGTTCTTATATATCTGCATAAATTATTTCTTTGTACTCTAAGATCTTCTATTACTGCAATATTTAAAGATATAAACACAAACTTCCTGGAAATGTAACTGTGTATTTGAGACTTAGAAGTATAAATGAAACACAAGGGGACATTCTAAGATTCCAATTAACTTGTTTGGGGGAGGTTTTGTACATTTCTCATGAAAATATTCCTTTGTAACATGACATGTAGCAGAACTTAGTCAAGCTTTTATGAAACACCCACTCTTTGCACAGTTTATCACTTAAAAAGTATCAGATAGATAGAGTCATccaacatttattgaatgtgtactgtgtctggtactctgctgatactttacatcaggggtcctcaaactacggcccgcgggccacatgcggcccaccgaaaacatttgtttttttttacttcaaaataagatatgttcagtgtgcataggaatttgttcatagtttttttttaaaactatagtccagctctccaatggtttgagggacagtgaactggccccctgtttaaaaagtttgaggacccctgccatggactgtcccccctgaccttcatgagagccccaggagtgagtgatgttatcatcttcattttacagatgaggaaccagagcagttaagtgttgcccaaagttgctcaattagaggtagcagagctcctattttaaagccaggcagtgcagccccacagcccactgatttcaccactatgcGAGTCACATGCAACATACTCTGGAATCATGAGAAAGA\r\n"
     ]
    }
   ],
   "source": [
    "!head /local/home/sarahgw/WGS/SNPS/All_mylu/snps/GL429785_7341092"
   ]
  },
  {
   "cell_type": "code",
   "execution_count": null,
   "metadata": {
    "collapsed": true
   },
   "outputs": [],
   "source": []
  }
 ],
 "metadata": {
  "kernelspec": {
   "display_name": "Python 2",
   "language": "python",
   "name": "python2"
  },
  "language_info": {
   "codemirror_mode": {
    "name": "ipython",
    "version": 2
   },
   "file_extension": ".py",
   "mimetype": "text/x-python",
   "name": "python",
   "nbconvert_exporter": "python",
   "pygments_lexer": "ipython2",
   "version": "2.7.13"
  }
 },
 "nbformat": 4,
 "nbformat_minor": 2
}
