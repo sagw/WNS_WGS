{
 "cells": [
  {
   "cell_type": "code",
   "execution_count": 16,
   "metadata": {},
   "outputs": [
    {
     "name": "stdout",
     "output_type": "stream",
     "text": [
      "##gff-version 3\r\n",
      "#!gff-spec-version 1.21\r\n",
      "#!processor NCBI annotwriter\r\n",
      "#!genome-build Myoluc2.0\r\n",
      "#!genome-build-accession NCBI_Assembly:GCF_000147115.1\r\n",
      "#!annotation-date 26 January 2018\r\n",
      "#!annotation-source NCBI Myotis lucifugus Annotation Release 102\r\n",
      "##sequence-region NW_005871048.1 1 64990205\r\n",
      "##species https://www.ncbi.nlm.nih.gov/Taxonomy/Browser/wwwtax.cgi?id=59463\r\n",
      "NW_005871048.1\tRefSeq\tregion\t1\t64990205\t.\t+\t.\tID=id0;Dbxref=taxon:59463;Name=Unknown;chromosome=Unknown;country=USA: Framingham%2C MA;gbkey=Src;genome=genomic;mol_type=genomic DNA;sex=female\r\n"
     ]
    }
   ],
   "source": [
    "!head /local/home/sarahgw/references/ref_Myoluc2.0_top_level.gff3 -n 10"
   ]
  },
  {
   "cell_type": "code",
   "execution_count": null,
   "metadata": {
    "collapsed": true
   },
   "outputs": [],
   "source": [
    "GL429891 266596"
   ]
  },
  {
   "cell_type": "code",
   "execution_count": 6,
   "metadata": {},
   "outputs": [
    {
     "name": "stdout",
     "output_type": "stream",
     "text": [
      "482554 /local/home/sarahgw/references/Myotis_lucifugus.Myoluc2.0.92.gtf\r\n"
     ]
    }
   ],
   "source": [
    "!wc -l /local/home/sarahgw/references/Myotis_lucifugus.Myoluc2.0.92.gtf"
   ]
  },
  {
   "cell_type": "code",
   "execution_count": 7,
   "metadata": {
    "scrolled": false
   },
   "outputs": [
    {
     "name": "stdout",
     "output_type": "stream",
     "text": [
      "AAPE02072733\tensembl\tgene\t1916\t3700\t.\t+\t.\tgene_id \"ENSMLUG00000027989\"; gene_version \"1\"; gene_source \"ensembl\"; gene_biotype \"protein_coding\";\r\n",
      "AAPE02072733\tensembl\ttranscript\t1916\t3700\t.\t+\t.\tgene_id \"ENSMLUG00000027989\"; gene_version \"1\"; transcript_id \"ENSMLUT00000024269\"; transcript_version \"1\"; gene_source \"ensembl\"; gene_biotype \"protein_coding\"; transcript_source \"ensembl\"; transcript_biotype \"protein_coding\";\r\n",
      "AAPE02072733\tensembl\texon\t1916\t2309\t.\t+\t.\tgene_id \"ENSMLUG00000027989\"; gene_version \"1\"; transcript_id \"ENSMLUT00000024269\"; transcript_version \"1\"; exon_number \"1\"; gene_source \"ensembl\"; gene_biotype \"protein_coding\"; transcript_source \"ensembl\"; transcript_biotype \"protein_coding\"; exon_id \"ENSMLUE00000256822\"; exon_version \"1\";\r\n",
      "AAPE02072733\tensembl\tCDS\t1916\t2309\t.\t+\t0\tgene_id \"ENSMLUG00000027989\"; gene_version \"1\"; transcript_id \"ENSMLUT00000024269\"; transcript_version \"1\"; exon_number \"1\"; gene_source \"ensembl\"; gene_biotype \"protein_coding\"; transcript_source \"ensembl\"; transcript_biotype \"protein_coding\"; protein_id \"ENSMLUP00000019853\"; protein_version \"1\";\r\n",
      "AAPE02072733\tensembl\texon\t3444\t3700\t.\t+\t.\tgene_id \"ENSMLUG00000027989\"; gene_version \"1\"; transcript_id \"ENSMLUT00000024269\"; transcript_version \"1\"; exon_number \"2\"; gene_source \"ensembl\"; gene_biotype \"protein_coding\"; transcript_source \"ensembl\"; transcript_biotype \"protein_coding\"; exon_id \"ENSMLUE00000270423\"; exon_version \"1\";\r\n",
      "AAPE02072733\tensembl\tCDS\t3444\t3700\t.\t+\t2\tgene_id \"ENSMLUG00000027989\"; gene_version \"1\"; transcript_id \"ENSMLUT00000024269\"; transcript_version \"1\"; exon_number \"2\"; gene_source \"ensembl\"; gene_biotype \"protein_coding\"; transcript_source \"ensembl\"; transcript_biotype \"protein_coding\"; protein_id \"ENSMLUP00000019853\"; protein_version \"1\";\r\n",
      "AAPE02072763\tensembl\tgene\t2032\t3271\t.\t-\t.\tgene_id \"ENSMLUG00000026865\"; gene_version \"1\"; gene_source \"ensembl\"; gene_biotype \"pseudogene\";\r\n",
      "AAPE02072763\tensembl\ttranscript\t2032\t3271\t.\t-\t.\tgene_id \"ENSMLUG00000026865\"; gene_version \"1\"; transcript_id \"ENSMLUT00000030511\"; transcript_version \"1\"; gene_source \"ensembl\"; gene_biotype \"pseudogene\"; transcript_source \"ensembl\"; transcript_biotype \"pseudogene\";\r\n",
      "AAPE02072763\tensembl\texon\t3143\t3271\t.\t-\t.\tgene_id \"ENSMLUG00000026865\"; gene_version \"1\"; transcript_id \"ENSMLUT00000030511\"; transcript_version \"1\"; exon_number \"1\"; gene_source \"ensembl\"; gene_biotype \"pseudogene\"; transcript_source \"ensembl\"; transcript_biotype \"pseudogene\"; exon_id \"ENSMLUE00000259917\"; exon_version \"1\";\r\n",
      "AAPE02072763\tensembl\texon\t2032\t3138\t.\t-\t.\tgene_id \"ENSMLUG00000026865\"; gene_version \"1\"; transcript_id \"ENSMLUT00000030511\"; transcript_version \"1\"; exon_number \"2\"; gene_source \"ensembl\"; gene_biotype \"pseudogene\"; transcript_source \"ensembl\"; transcript_biotype \"pseudogene\"; exon_id \"ENSMLUE00000249935\"; exon_version \"1\";\r\n"
     ]
    }
   ],
   "source": [
    "!tail /local/home/sarahgw/references/Myotis_lucifugus.Myoluc2.0.92.gtf"
   ]
  },
  {
   "cell_type": "code",
   "execution_count": 2,
   "metadata": {
    "scrolled": true
   },
   "outputs": [
    {
     "name": "stdout",
     "output_type": "stream",
     "text": [
      "\"\",\"SNP\",\"Scaffold\",\"Maj\",\"Min\",\"NJ\",\"NY\",\"VT\",\"Comp\"\r\n",
      "\"15\",282162,\"GL429849\",\"A\",\"G\",0.00111399888600111,0.00836899163100837,9.99999000001e-07,3.25319264647375e-09\r\n",
      "\"19\",453486,\"GL429872\",\"A\",\"G\",0.000886999113000887,9.99999000001e-07,0.00143799856200144,5.14576123265913e-10\r\n",
      "\"20\",463033,\"GL429852\",\"G\",\"A\",7.4999925000075e-05,0.000112999887000113,0.000434999565000435,1.37829106611689e-09\r\n",
      "\"21\",463041,\"GL429852\",\"G\",\"A\",7.6999923000077e-05,1.999998000002e-06,0.00203599796400204,1.39290583823221e-10\r\n",
      "\"26\",616121,\"GL429834\",\"G\",\"C\",9.99999000001e-07,0.000861999138000862,8.1999918000082e-05,3.46164465967714e-11\r\n",
      "\"51\",1543734,\"GL429882\",\"T\",\"C\",0.00874799125200875,9.99999000001e-07,9.99999000001e-07,4.87504391237632e-12\r\n",
      "\"55\",1735029,\"GL429966\",\"C\",\"T\",0.00301799698200302,0.00946499053500947,9.99999000001e-07,9.14116512034742e-09\r\n",
      "\"69\",3296417,\"GL429813\",\"C\",\"T\",0.00786199213800786,9.99999000001e-07,0.00244999755000245,6.35734734029988e-09\r\n",
      "\"77\",6378055,\"GL429769\",\"A\",\"G\",9.99999000001e-07,0.00793499206500793,0.000161999838000162,5.18311972902529e-10\r\n",
      "\"78\",7341092,\"GL429785\",\"T\",\"G\",9.99999000001e-07,0.00534499465500534,7.3999926000074e-05,1.72986116789635e-10\r\n",
      "\"84\",11429827,\"GL429778\",\"G\",\"A\",9.99999000001e-07,9.99999000001e-07,0.0557789442210558,2.7731711844651e-11\r\n"
     ]
    }
   ],
   "source": [
    "!head '/local/home/sarahgw/WGS/SNPS/All_mylu/snps/NJNYVT40_margCompvalues.csv' -n 44"
   ]
  },
  {
   "cell_type": "code",
   "execution_count": null,
   "metadata": {
    "collapsed": true
   },
   "outputs": [],
   "source": []
  },
  {
   "cell_type": "code",
   "execution_count": 21,
   "metadata": {},
   "outputs": [
    {
     "name": "stdout",
     "output_type": "stream",
     "text": [
      "#!genome-build Myoluc2.0\r\n",
      "#!genome-version Myoluc2.0\r\n",
      "#!genome-date 2010-09\r\n",
      "#!genome-build-accession NCBI:GCA_000147115.1\r\n",
      "#!genebuild-last-updated 2011-06\r\n",
      "GL429767\tensembl\tgene\t42604\t226589\t.\t+\t.\tgene_id \"ENSMLUG00000029214\"; gene_version \"1\"; gene_name \"ACHE\"; gene_source \"ensembl\"; gene_biotype \"protein_coding\";\r\n",
      "GL429767\tensembl\ttranscript\t42604\t226589\t.\t+\t.\tgene_id \"ENSMLUG00000029214\"; gene_version \"1\"; transcript_id \"ENSMLUT00000025902\"; transcript_version \"1\"; gene_name \"ACHE\"; gene_source \"ensembl\"; gene_biotype \"protein_coding\"; transcript_name \"ACHE-201\"; transcript_source \"ensembl\"; transcript_biotype \"protein_coding\";\r\n",
      "GL429767\tensembl\texon\t42604\t43700\t.\t+\t.\tgene_id \"ENSMLUG00000029214\"; gene_version \"1\"; transcript_id \"ENSMLUT00000025902\"; transcript_version \"1\"; exon_number \"1\"; gene_name \"ACHE\"; gene_source \"ensembl\"; gene_biotype \"protein_coding\"; transcript_name \"ACHE-201\"; transcript_source \"ensembl\"; transcript_biotype \"protein_coding\"; exon_id \"ENSMLUE00000285193\"; exon_version \"1\";\r\n",
      "GL429767\tensembl\tCDS\t42630\t43700\t.\t+\t0\tgene_id \"ENSMLUG00000029214\"; gene_version \"1\"; transcript_id \"ENSMLUT00000025902\"; transcript_version \"1\"; exon_number \"1\"; gene_name \"ACHE\"; gene_source \"ensembl\"; gene_biotype \"protein_coding\"; transcript_name \"ACHE-201\"; transcript_source \"ensembl\"; transcript_biotype \"protein_coding\"; protein_id \"ENSMLUP00000017105\"; protein_version \"1\";\r\n",
      "GL429767\tensembl\tstart_codon\t42630\t42632\t.\t+\t0\tgene_id \"ENSMLUG00000029214\"; gene_version \"1\"; transcript_id \"ENSMLUT00000025902\"; transcript_version \"1\"; exon_number \"1\"; gene_name \"ACHE\"; gene_source \"ensembl\"; gene_biotype \"protein_coding\"; transcript_name \"ACHE-201\"; transcript_source \"ensembl\"; transcript_biotype \"protein_coding\";\r\n"
     ]
    }
   ],
   "source": [
    "!head /local/home/sarahgw/references/Myotis_lucifugus.Myoluc2.0.92.gtf"
   ]
  },
  {
   "cell_type": "code",
   "execution_count": 22,
   "metadata": {},
   "outputs": [
    {
     "name": "stdout",
     "output_type": "stream",
     "text": [
      "\"\",\"Scaffold\",\"NewScaf\",\"SNP\",\"Maj\",\"Min\",\"NJ\",\"NY\",\"Comp\",\"rank\",\"padjBH\"\r\n",
      "\"1\",\"GL429767\",\"NW_005871048.1\",16839644,\"T\",\"A\",8.3999916000084e-05,0.000181999818000182,2.90413319116625e-07,70,5.39909603706351e-07\r\n",
      "\"2\",\"GL429767\",\"NW_005871048.1\",38456248,\"T\",\"C\",2.8999971000029e-05,0.000823999176000824,4.43259321723044e-07,78,6.01613558415648e-07\r\n",
      "\"3\",\"GL429767\",\"NW_005871048.1\",22649683,\"T\",\"A\",0.000658999341000659,9.99999000001e-07,1.45904282432881e-08,20,1.54259886773243e-07\r\n",
      "\"4\",\"GL429767\",\"NW_005871048.1\",46534125,\"C\",\"T\",6.6999933000067e-05,9.99999000001e-07,1.63656087014458e-09,9,6.94169490479594e-08\r\n",
      "\"5\",\"GL429767\",\"NW_005871048.1\",51542832,\"G\",\"A\",9.99999000001e-07,0.000233999766000234,5.42310342192109e-09,13,1.00268926402608e-07\r\n",
      "\"6\",\"GL429768\",\"NW_005871049.1\",3921142,\"G\",\"C\",9.99999000001e-07,0.0138399861600138,2.64284027064383e-07,67,5.16770620690364e-07\r\n",
      "\"7\",\"GL429768\",\"NW_005871049.1\",34577793,\"C\",\"T\",0.000584999415000585,2.3999976000024e-05,2.6790172263069e-07,68,5.24483615029027e-07\r\n",
      "\"8\",\"GL429768\",\"NW_005871049.1\",29962249,\"A\",\"G\",9.99999000001e-07,0.00581299418700581,1.16045681211861e-07,52,4.01075705610432e-07\r\n",
      "\"9\",\"GL429770\",\"NW_005871051.1\",8292792,\"A\",\"T\",7.999992000008e-06,9.99999000001e-07,2.12412227769314e-10,4,3.08519773546486e-08\r\n",
      "\"10\",\"GL429770\",\"NW_005871051.1\",8507307,\"A\",\"C\",9.99999000001e-07,1.8999981000019e-05,4.8804412250973e-10,6,4.62779660319729e-08\r\n",
      "\"11\",\"GL429772\",\"NW_005871053.1\",8716095,\"T\",\"A\",0.000590999409000591,9.99999000001e-07,1.31492550967029e-08,18,1.38833898095919e-07\r\n",
      "\"12\",\"GL429772\",\"NW_005871053.1\",14993622,\"T\",\"C\",0.000900999099000901,9.99999000001e-07,1.96665542572174e-08,24,1.85111864127892e-07\r\n",
      "\"13\",\"GL429773\",\"NW_005871054.1\",7204887,\"C\",\"T\",9.99999000001e-07,0.0135549864450136,2.59123806710527e-07,65,5.0134463201304e-07\r\n",
      "\"14\",\"GL429775\",\"NW_005871056.1\",5556309,\"A\",\"C\",9.99999000001e-07,0.00431799568200432,8.74845582607504e-08,49,3.77936722594446e-07\r\n",
      "\"15\",\"GL429778\",\"NW_005871059.1\",3561000,\"G\",\"A\",9.99999000001e-07,0.00142299857700142,3.04101614165298e-08,29,2.23676835821203e-07\r\n",
      "\"16\",\"GL429781\",\"NW_005871062.1\",7594948,\"A\",\"T\",0.0174109825890174,9.99999000001e-07,3.28478153115638e-07,71,5.47622598045013e-07\r\n",
      "\"17\",\"GL429783\",\"NW_005871064.1\",14617697,\"C\",\"A\",9.99999000001e-07,0.0251809748190252,4.65776510058196e-07,82,6.32465535770297e-07\r\n",
      "\"18\",\"GL429783\",\"NW_005871064.1\",665407,\"C\",\"T\",9.99999000001e-07,0.0314659685340315,5.75019869244063e-07,86,6.63317513124945e-07\r\n",
      "\"19\",\"GL429784\",\"NW_005871065.1\",1229639,\"G\",\"A\",0.0337099662900337,9.99999000001e-07,6.13705277791378e-07,88,6.7874350180227e-07\r\n",
      "\"20\",\"GL429785\",\"NW_005871066.1\",3216149,\"C\",\"T\",0.00226399773600226,9.99999000001e-07,4.73313942449965e-08,32,2.46815818837189e-07\r\n",
      "\"21\",\"GL429792\",\"NW_005871073.1\",753145,\"C\",\"A\",9.99999000001e-07,0.00207199792800207,4.35010422758718e-08,31,2.39102824498527e-07\r\n",
      "\"22\",\"GL429794\",\"NW_005871075.1\",5707870,\"T\",\"A\",9.99999000001e-07,0.0348309651690348,6.32974139077413e-07,90,6.94169490479594e-07\r\n",
      "\"23\",\"GL429795\",\"NW_005871076.1\",3907289,\"G\",\"A\",9.99999000001e-07,0.000842999157000843,1.84566524278081e-08,22,1.69685875450567e-07\r\n",
      "\"24\",\"GL429801\",\"NW_005871082.1\",6986210,\"A\",\"T\",9.99999000001e-07,0.0317839682160318,5.80511503325493e-07,87,6.71030507463608e-07\r\n",
      "\"25\",\"GL429809\",\"NW_005871090.1\",7390034,\"A\",\"G\",0.0146409853590146,1.999998000002e-06,5.37215131196305e-07,83,6.40178530108959e-07\r\n",
      "\"26\",\"GL429816\",\"NW_005871097.1\",3229647,\"G\",\"A\",0.00823499176500823,9.99999000001e-07,1.61528168231258e-07,59,4.55066665981067e-07\r\n",
      "\"27\",\"GL429819\",\"NW_005871100.1\",365354,\"G\",\"A\",9.99999000001e-07,7.8999921000079e-05,1.91666061249024e-09,10,7.71299433866215e-08\r\n",
      "\"28\",\"GL429828\",\"NW_005871109.1\",1501267,\"T\",\"C\",3.0999969000031e-05,9.99999000001e-07,7.81106551040831e-10,7,5.39909603706351e-08\r\n",
      "\"29\",\"GL429828\",\"NW_005871109.1\",3004686,\"A\",\"G\",0.0118899881100119,9.99999000001e-07,2.28853151094495e-07,63,4.85918643335716e-07\r\n",
      "\"30\",\"GL429835\",\"NW_005871116.1\",2966452,\"T\",\"G\",0.000954999045000955,9.99999000001e-07,2.07896511662287e-08,25,1.92824858466554e-07\r\n",
      "\"31\",\"GL429835\",\"NW_005871116.1\",2966433,\"A\",\"G\",0.000162999837000163,1.999998000002e-05,6.69652885608635e-08,43,3.31658756562473e-07\r\n",
      "\"32\",\"GL429841\",\"NW_005871122.1\",612532,\"G\",\"A\",9.99999000001e-07,0.000390999609000391,8.86094766046922e-09,15,1.15694915079932e-07\r\n",
      "\"33\",\"GL429841\",\"NW_005871122.1\",3522450,\"A\",\"G\",1.999998000002e-06,0.00206899793100207,8.40138746282067e-08,48,3.70223728255783e-07\r\n",
      "\"34\",\"GL429842\",\"NW_005871123.1\",4124241,\"A\",\"G\",0.00268099731900268,9.99999000001e-07,5.55959948661457e-08,39,3.00806779207824e-07\r\n",
      "\"35\",\"GL429845\",\"NW_005871126.1\",2091046,\"C\",\"T\",9.99999000001e-07,0.0241799758200242,4.48241704876869e-07,79,6.0932655275431e-07\r\n",
      "\"36\",\"GL429848\",\"NW_005871129.1\",2603829,\"T\",\"C\",1.999998000002e-06,0.000494999505000495,2.15159419591655e-08,26,2.00537852805216e-07\r\n",
      "\"37\",\"GL429850\",\"NW_005871131.1\",1183154,\"C\",\"T\",0.00293099706900293,9.99999000001e-07,6.05189447196101e-08,41,3.16232767885148e-07\r\n",
      "\"38\",\"GL429852\",\"NW_005871133.1\",463102,\"T\",\"G\",0.000154999845000155,1.4999985000015e-05,4.85448515403801e-08,35,2.69954801853175e-07\r\n",
      "\"39\",\"GL429855\",\"NW_005871136.1\",4401152,\"G\",\"C\",0.0297719702280298,9.99999000001e-07,5.45710721569447e-07,84,6.47891524447621e-07\r\n",
      "\"40\",\"GL429857\",\"NW_005871138.1\",134612,\"T\",\"C\",0.00607799392200608,9.99999000001e-07,1.21064960911773e-07,54,4.16501694287756e-07\r\n",
      "\"41\",\"GL429859\",\"NW_005871140.1\",300331,\"T\",\"C\",9.99999000001e-07,9.99999000001e-07,2.86309658539673e-11,1,7.71299433866215e-09\r\n",
      "\"42\",\"GL429861\",\"NW_005871142.1\",4317517,\"A\",\"G\",0.0225149774850225,9.99999000001e-07,4.18982735197176e-07,77,5.93900564076986e-07\r\n",
      "\"43\",\"GL429861\",\"NW_005871142.1\",4317523,\"T\",\"C\",0.0242239757760242,9.99999000001e-07,4.49013323972443e-07,80,6.17039547092972e-07\r\n",
      "\"44\",\"GL429861\",\"NW_005871142.1\",3065399,\"A\",\"G\",9.99999000001e-07,0.00132899867100133,2.84921627806839e-08,28,2.1596384148254e-07\r\n",
      "\"45\",\"GL429861\",\"NW_005871142.1\",293372,\"A\",\"G\",0.00230699769300231,9.99999000001e-07,4.81869505378886e-08,34,2.62241807514513e-07\r\n",
      "\"46\",\"GL429867\",\"NW_005871148.1\",2575249,\"A\",\"G\",9.99999000001e-07,0.00710699289300711,1.40449586538063e-07,57,4.39640677303743e-07\r\n",
      "\"47\",\"GL429873\",\"NW_005871154.1\",2056629,\"T\",\"A\",9.99999000001e-07,0.00961999038000962,1.87199280366468e-07,60,4.62779660319729e-07\r\n",
      "\"48\",\"GL429879\",\"NW_005871160.1\",384336,\"G\",\"A\",9.99999000001e-07,0.000404999595000405,9.16397177181984e-09,16,1.23407909418594e-07\r\n",
      "\"49\",\"GL429880\",\"NW_005871161.1\",42824,\"C\",\"A\",0.035018964981035,9.99999000001e-07,6.36202105055637e-07,92,7.09595479156918e-07\r\n",
      "\"50\",\"GL429885\",\"NW_005871166.1\",2043530,\"T\",\"C\",9.99999000001e-07,1.5999984000016e-05,4.13734122830345e-10,5,3.85649716933108e-08\r\n",
      "\"51\",\"GL429888\",\"NW_005871169.1\",3508435,\"A\",\"T\",9.99999000001e-07,0.00245899754100246,5.12049162383727e-08,36,2.77667796191838e-07\r\n",
      "\"52\",\"GL429891\",\"NW_005871172.1\",266596,\"T\",\"A\",0.0216209783790216,9.99999000001e-07,4.03222255095741e-07,74,5.70761581060999e-07\r\n",
      "\"53\",\"GL429893\",\"NW_005871174.1\",1767654,\"C\",\"T\",0.0123239876760123,9.99999000001e-07,2.36764754583798e-07,64,4.93631637674378e-07\r\n",
      "\"54\",\"GL429906\",\"NW_005871187.1\",1866953,\"C\",\"T\",9.99999000001e-07,0.0048039951960048,9.68187525152218e-08,50,3.85649716933108e-07\r\n",
      "\"55\",\"GL429910\",\"NW_005871191.1\",2414078,\"A\",\"C\",3.6999963000037e-05,0.00016999983000017,1.25072039415402e-07,56,4.31927682965081e-07\r\n",
      "\"56\",\"GL429920\",\"NW_005871201.1\",2255691,\"T\",\"G\",0.00387099612900387,9.99999000001e-07,7.88511637684631e-08,46,3.54797739578459e-07\r\n",
      "\"57\",\"GL429927\",\"NW_005871208.1\",1241213,\"A\",\"G\",9.99999000001e-07,5.999994000006e-06,1.61035259809516e-10,3,2.31389830159865e-08\r\n",
      "\"58\",\"GL429929\",\"NW_005871210.1\",2943933,\"G\",\"T\",9.99999000001e-07,0.00260599739400261,5.41146580102106e-08,38,2.93093784869162e-07\r\n",
      "\"59\",\"GL429938\",\"NW_005871219.1\",2500270,\"A\",\"G\",0.00303999696000304,9.99999000001e-07,6.26585620602562e-08,42,3.2394576222381e-07\r\n",
      "\"60\",\"GL429946\",\"NW_005871227.1\",1039079,\"T\",\"A\",0.000343999656000344,1.5999984000016e-05,1.10177710865142e-07,51,3.9336271127177e-07\r\n",
      "\"61\",\"GL429947\",\"NW_005871228.1\",1200485,\"A\",\"G\",0.00375899624100376,9.99999000001e-07,7.66801194448983e-08,45,3.47084745239797e-07\r\n",
      "\"62\",\"GL429950\",\"NW_005871231.1\",2444879,\"G\",\"A\",9.99999000001e-06,6.3999936000064e-05,1.41884867843396e-08,19,1.46546892434581e-07\r\n",
      "\"63\",\"GL429955\",\"NW_005871236.1\",1484586,\"G\",\"A\",0.00405399594600405,9.99999000001e-07,8.23915628170559e-08,47,3.62510733917121e-07\r\n",
      "\"64\",\"GL429962\",\"NW_005871243.1\",689293,\"A\",\"C\",9.99999000001e-07,9.99999000001e-07,2.86309658539673e-11,2,1.54259886773243e-08\r\n",
      "\"65\",\"GL429965\",\"NW_005871246.1\",1956978,\"G\",\"A\",0.00226699773300227,9.99999000001e-07,4.73911105428389e-08,33,2.54528813175851e-07\r\n",
      "\"66\",\"GL429968\",\"NW_005871249.1\",2123897,\"A\",\"T\",7.999992000008e-06,0.000464999535000465,7.59233524606358e-08,44,3.39371750901135e-07\r\n",
      "\"67\",\"GL429969\",\"NW_005871250.1\",109273,\"C\",\"T\",0.0117699882300118,9.99999000001e-07,2.26662839461569e-07,62,4.78205648997054e-07\r\n",
      "\"68\",\"GL429982\",\"NW_005871263.1\",1303809,\"G\",\"A\",9.99999000001e-07,9.99999000001e-05,2.40258048783058e-09,11,8.48429377252837e-08\r\n",
      "\"69\",\"GL429998\",\"NW_005871279.1\",99324,\"C\",\"G\",0.0111779888220112,1.999998000002e-06,4.16182333358765e-07,76,5.86187569738324e-07\r\n",
      "\"70\",\"GL430008\",\"NW_005871289.1\",1396110,\"C\",\"T\",9.99999000001e-07,4.6999953000047e-05,1.16469881976942e-09,8,6.17039547092972e-08\r\n",
      "\"71\",\"GL430018\",\"NW_005871299.1\",180278,\"T\",\"A\",0.00031999968000032,9.99999000001e-07,7.31605004633541e-09,14,1.0798192074127e-07\r\n",
      "\"72\",\"GL430029\",\"NW_005871310.1\",1661413,\"A\",\"C\",0.000193999806000194,9.99999000001e-07,4.53244493673727e-09,12,9.25559320639459e-08\r\n",
      "\"73\",\"GL430101\",\"NW_005871382.1\",496908,\"T\",\"C\",0.00087999912000088,9.99999000001e-07,1.92289306055602e-08,23,1.7739886978923e-07\r\n",
      "\"74\",\"GL430121\",\"NW_005871402.1\",936584,\"T\",\"C\",0.00165499834500166,6.999993000007e-06,2.23283707559285e-07,61,4.70492654658391e-07\r\n",
      "\"75\",\"GL430128\",\"NW_005871409.1\",735347,\"A\",\"G\",0.00625999374000626,9.99999000001e-07,1.24505439689473e-07,55,4.24214688626419e-07\r\n",
      "\"76\",\"GL430132\",\"NW_005871413.1\",776142,\"T\",\"C\",1.3999986000014e-05,0.000185999814000186,5.40751264189011e-08,37,2.853807905305e-07\r\n",
      "\"77\",\"GL430156\",\"NW_005871437.1\",916661,\"C\",\"T\",0.00739299260700739,9.99999000001e-07,1.45809882545218e-07,58,4.47353671642405e-07\r\n",
      "\"78\",\"GL430166\",\"NW_005871447.1\",11932,\"C\",\"T\",9.99999000001e-07,0.000518999481000519,1.16147396523124e-08,17,1.31120903757257e-07\r\n",
      "\"79\",\"GL430239\",\"NW_005871520.1\",60325,\"G\",\"A\",9.99999000001e-07,0.0349019650980349,6.34193330287437e-07,91,7.01882484818256e-07\r\n",
      "\"80\",\"GL430271\",\"NW_005871552.1\",525210,\"C\",\"T\",9.99999000001e-07,0.00272999727000273,5.65626646763675e-08,40,3.08519773546486e-07\r\n",
      "\"81\",\"GL430271\",\"NW_005871552.1\",326498,\"A\",\"G\",0.000397999602000398,6.0999939000061e-05,4.4996020182894e-07,81,6.24752541431635e-07\r\n",
      "\"82\",\"GL430279\",\"NW_005871560.1\",607165,\"G\",\"A\",0.00188199811800188,1.7999982000018e-05,6.16560972596864e-07,89,6.86456496140932e-07\r\n",
      "\"83\",\"GL430281\",\"NW_005871562.1\",514067,\"T\",\"C\",7.3999926000074e-05,0.000273999726000274,3.79440856501523e-07,73,5.63048586722337e-07\r\n",
      "\"84\",\"GL430338\",\"NW_005871619.1\",350547,\"T\",\"C\",1.999998000002e-06,0.00678799321200679,2.59504236450434e-07,66,5.09057626351702e-07\r\n",
      "\"85\",\"GL430384\",\"NW_005871665.1\",252240,\"A\",\"G\",0.0307229692770307,9.99999000001e-07,5.62176203250955e-07,85,6.55604518786283e-07\r\n",
      "\"86\",\"GL430420\",\"NW_005871701.1\",180654,\"A\",\"G\",0.00311199688800311,6.999993000007e-06,4.06098521707557e-07,75,5.78474575399662e-07\r\n",
      "\"87\",\"GL430482\",\"NW_005871763.1\",173352,\"C\",\"T\",4.999995000005e-06,0.000160999839000161,1.76618102513616e-08,21,1.61972881111905e-07\r\n",
      "\"88\",\"GL430686\",\"NW_005871967.1\",91034,\"C\",\"T\",9.99999000001e-07,0.00107699892300108,2.33160216164901e-08,27,2.08250847143878e-07\r\n",
      "\"89\",\"GL430696\",\"NW_005871977.1\",55439,\"A\",\"T\",2.0999979000021e-05,0.000676999323000677,2.71101005452752e-07,69,5.32196609367689e-07\r\n",
      "\"90\",\"GL430746\",\"NW_005872028.1\",9663,\"C\",\"T\",0.0184529815470185,9.99999000001e-07,3.47064084194162e-07,72,5.55335592383675e-07\r\n",
      "\"91\",\"GL430834\",\"NW_005872120.1\",44020,\"A\",\"G\",9.99999000001e-07,0.00165199834800165,3.50574863643628e-08,30,2.31389830159865e-07\r\n"
     ]
    }
   ],
   "source": [
    "!head -n 92 /local/home/sarahgw/WGS/SNPS/All_mylu/snps/NJNY50_sigCompvaluesNe424_296.csv"
   ]
  },
  {
   "cell_type": "code",
   "execution_count": null,
   "metadata": {
    "collapsed": true
   },
   "outputs": [],
   "source": [
    "2,125,561-2,462,498   2,603,829"
   ]
  },
  {
   "cell_type": "code",
   "execution_count": null,
   "metadata": {
    "collapsed": true
   },
   "outputs": [],
   "source": [
    "46,836,518..47,675,316"
   ]
  },
  {
   "cell_type": "code",
   "execution_count": null,
   "metadata": {
    "collapsed": true
   },
   "outputs": [],
   "source": [
    "2,123,766, 3,029,105"
   ]
  },
  {
   "cell_type": "markdown",
   "metadata": {},
   "source": [
    "MASP1- A\n",
    "GALNT18- A\n",
    "BMPER\n",
    "GNPDA1\n",
    "BFSP1\n",
    "REPS2 (REPS1 A)\n",
    "PCDH17 ( PCDH15 A PCDH11)\n",
    "SOX5-A\n",
    "MDGA2-A\n",
    "CACNA1D\n",
    "FA2H\n",
    "TPRA1\n",
    "ADCY3- A\n",
    "CEP112\n",
    "TG -A \n",
    "NELL1 - A\n",
    "SEMA5A -A\n",
    "SORCS3 - A\n",
    "CBFA2T3 SHOULD \n",
    "SGCZ -A \n",
    "GEMIN4 (GEMIN7 A)\n",
    "MKL2 \n",
    "BACE2\n",
    "RAPGEF1 -A \n",
    "\n",
    "There are 1,591 genes in that set...can we see how many are in the genome, and see how many genes are in our genome. \n",
    "\n",
    "can we do something like epstein We sampled 1,000 pairs of 200 kb regions around randomly selected SNPs in our data set, and only 25% of such regions contained one or more genes with Gene Ontology14 terms ‘immune response,’ ‘cell proliferation,’ or ‘cell death’ (our candidate regions contained both an immune response and a cell death GO annotation). Consequently, our result (two out of seven based on GO terms or five out of seven based on manual annotation) is unlikely to have been found by chance.\n",
    "\n",
    "\n"
   ]
  },
  {
   "cell_type": "markdown",
   "metadata": {},
   "source": [
    "MASP1\n",
    "GALNT18\n",
    "BMPER\n",
    "GNPDA1\n",
    "BFSP1\n",
    "REPS2\n",
    "PCDH17\n",
    "SOX5\n",
    "MDGA2\n",
    "CACNA1D- GNRH, INSULIN\n",
    "FA2H\n",
    "TPRA1\n",
    "ADCY3- GNRH, INSULIN\n",
    "CEP112\n",
    "TG\n",
    "NELL1\n",
    "SEMA5A\n",
    "SORCS3\n",
    "CBFA2T3\n",
    "SGCZ\n",
    "GEMIN4\n",
    "MKL2\n",
    "BACE2\n",
    "RAPGEF1- RAPGEF4 INSULIN\n"
   ]
  },
  {
   "cell_type": "code",
   "execution_count": 15,
   "metadata": {
    "scrolled": false
   },
   "outputs": [
    {
     "name": "stdout",
     "output_type": "stream",
     "text": [
      "['NW_005871048.1', 'RefSeq', 'region', '1', '64990205', '.', '+', '.', 'ID=id0;Dbxref=taxon:59463;Name=Unknown;chromosome=Unknown;country=USA: Framingham%2C MA;gbkey=Src;genome=genomic;mol_type=genomic DNA;sex=female\\n']\n",
      "['NW_005871048.1', 'RefSeq', 'region', '1', '64990205', '.', '+', '.', 'ID=id0;Dbxref=taxon:59463;Name=Unknown;chromosome=Unknown;country=USA: Framingham%2C MA;gbkey=Src;genome=genomic;mol_type=genomic DNA;sex=female\\n']\n",
      "['NW_005871048.1', 'RefSeq', 'region', '1', '64990205', '.', '+', '.', 'ID=id0;Dbxref=taxon:59463;Name=Unknown;chromosome=Unknown;country=USA: Framingham%2C MA;gbkey=Src;genome=genomic;mol_type=genomic DNA;sex=female\\n']\n",
      "['NW_005871048.1', 'RefSeq', 'region', '1', '64990205', '.', '+', '.', 'ID=id0;Dbxref=taxon:59463;Name=Unknown;chromosome=Unknown;country=USA: Framingham%2C MA;gbkey=Src;genome=genomic;mol_type=genomic DNA;sex=female\\n']\n",
      "['NW_005871048.1', 'RefSeq', 'region', '1', '64990205', '.', '+', '.', 'ID=id0;Dbxref=taxon:59463;Name=Unknown;chromosome=Unknown;country=USA: Framingham%2C MA;gbkey=Src;genome=genomic;mol_type=genomic DNA;sex=female\\n']\n",
      "['NW_005871048.1', 'RefSeq', 'region', '1', '64990205', '.', '+', '.', 'ID=id0;Dbxref=taxon:59463;Name=Unknown;chromosome=Unknown;country=USA: Framingham%2C MA;gbkey=Src;genome=genomic;mol_type=genomic DNA;sex=female\\n']\n",
      "['NW_005871048.1', 'RefSeq', 'region', '1', '64990205', '.', '+', '.', 'ID=id0;Dbxref=taxon:59463;Name=Unknown;chromosome=Unknown;country=USA: Framingham%2C MA;gbkey=Src;genome=genomic;mol_type=genomic DNA;sex=female\\n']\n",
      "['NW_005871048.1', 'Gnomon', 'gene', '16490629', '16935896', '.', '+', '.', 'ID=gene225;Dbxref=GeneID:102417759;Name=FBXL17;gbkey=Gene;gene=FBXL17;gene_biotype=protein_coding\\n']\n",
      "['NW_005871048.1', 'Gnomon', 'mRNA', '16490629', '16935896', '.', '+', '.', 'ID=rna402;Parent=gene225;Dbxref=GeneID:102417759,Genbank:XM_006081173.2;Name=XM_006081173.2;gbkey=mRNA;gene=FBXL17;model_evidence=Supporting evidence includes similarity to: 3 mRNAs%2C 1 Protein%2C and 98%25 coverage of the annotated genomic feature by RNAseq alignments%2C including 24 samples with support for all annotated introns;product=F-box and leucine rich repeat protein 17;transcript_id=XM_006081173.2\\n']\n",
      "['NW_005871049.1', 'RefSeq', 'region', '1', '39494369', '.', '+', '.', 'ID=id14505;Dbxref=taxon:59463;Name=Unknown;chromosome=Unknown;country=USA: Framingham%2C MA;gbkey=Src;genome=genomic;mol_type=genomic DNA;sex=female\\n']\n",
      "['NW_005871049.1', 'RefSeq', 'region', '1', '39494369', '.', '+', '.', 'ID=id14505;Dbxref=taxon:59463;Name=Unknown;chromosome=Unknown;country=USA: Framingham%2C MA;gbkey=Src;genome=genomic;mol_type=genomic DNA;sex=female\\n']\n",
      "['NW_005871049.1', 'RefSeq', 'region', '1', '39494369', '.', '+', '.', 'ID=id14505;Dbxref=taxon:59463;Name=Unknown;chromosome=Unknown;country=USA: Framingham%2C MA;gbkey=Src;genome=genomic;mol_type=genomic DNA;sex=female\\n']\n",
      "['NW_005871051.1', 'RefSeq', 'region', '1', '30916457', '.', '+', '.', 'ID=id28999;Dbxref=taxon:59463;Name=Unknown;chromosome=Unknown;country=USA: Framingham%2C MA;gbkey=Src;genome=genomic;mol_type=genomic DNA;sex=female\\n']\n",
      "['NW_005871051.1', 'RefSeq', 'region', '1', '30916457', '.', '+', '.', 'ID=id28999;Dbxref=taxon:59463;Name=Unknown;chromosome=Unknown;country=USA: Framingham%2C MA;gbkey=Src;genome=genomic;mol_type=genomic DNA;sex=female\\n']\n",
      "['NW_005871053.1', 'RefSeq', 'region', '1', '20945196', '.', '+', '.', 'ID=id44306;Dbxref=taxon:59463;Name=Unknown;chromosome=Unknown;country=USA: Framingham%2C MA;gbkey=Src;genome=genomic;mol_type=genomic DNA;sex=female\\n']\n",
      "['NW_005871053.1', 'RefSeq', 'region', '1', '20945196', '.', '+', '.', 'ID=id44306;Dbxref=taxon:59463;Name=Unknown;chromosome=Unknown;country=USA: Framingham%2C MA;gbkey=Src;genome=genomic;mol_type=genomic DNA;sex=female\\n']\n",
      "['NW_005871053.1', 'Gnomon', 'gene', '8711696', '8718521', '.', '+', '.', 'ID=gene2288;Dbxref=GeneID:111823427;Name=LOC111823427;gbkey=Gene;gene=LOC111823427;gene_biotype=lncRNA\\n']\n",
      "['NW_005871053.1', 'Gnomon', 'lnc_RNA', '8711696', '8718521', '.', '+', '.', 'ID=rna3891;Parent=gene2288;Dbxref=GeneID:111823427,Genbank:XR_002826443.1;Name=XR_002826443.1;gbkey=ncRNA;gene=LOC111823427;model_evidence=Supporting evidence includes similarity to: 100%25 coverage of the annotated genomic feature by RNAseq alignments%2C including 1 sample with support for all annotated introns;product=uncharacterized LOC111823427;transcript_id=XR_002826443.1\\n']\n",
      "['NW_005871053.1', 'Gnomon', 'gene', '14979316', '15072600', '.', '-', '.', 'ID=gene2361;Dbxref=GeneID:102418508;Name=LOC102418508;gbkey=Gene;gene=LOC102418508;gene_biotype=protein_coding\\n']\n",
      "['NW_005871053.1', 'Gnomon', 'mRNA', '14979316', '15072600', '.', '-', '.', 'ID=rna4040;Parent=gene2361;Dbxref=GeneID:102418508,Genbank:XM_006083188.3;Name=XM_006083188.3;gbkey=mRNA;gene=LOC102418508;model_evidence=Supporting evidence includes similarity to: 6 mRNAs%2C 51 Proteins%2C and 34%25 coverage of the annotated genomic feature by RNAseq alignments;product=sodium channel protein type 2 subunit alpha%2C transcript variant X1;transcript_id=XM_006083188.3\\n']\n",
      "['NW_005871053.1', 'Gnomon', 'mRNA', '14979316', '15072394', '.', '-', '.', 'ID=rna4041;Parent=gene2361;Dbxref=GeneID:102418508,Genbank:XM_006083189.3;Name=XM_006083189.3;gbkey=mRNA;gene=LOC102418508;model_evidence=Supporting evidence includes similarity to: 4 mRNAs%2C 44 Proteins%2C and 33%25 coverage of the annotated genomic feature by RNAseq alignments;product=sodium channel protein type 2 subunit alpha%2C transcript variant X2;transcript_id=XM_006083189.3\\n']\n",
      "['NW_005871054.1', 'RefSeq', 'region', '1', '20779464', '.', '+', '.', 'ID=id51394;Dbxref=taxon:59463;Name=Unknown;chromosome=Unknown;country=USA: Framingham%2C MA;gbkey=Src;genome=genomic;mol_type=genomic DNA;sex=female\\n']\n",
      "['NW_005871056.1', 'RefSeq', 'region', '1', '18579217', '.', '+', '.', 'ID=id61133;Dbxref=taxon:59463;Name=Unknown;chromosome=Unknown;country=USA: Framingham%2C MA;gbkey=Src;genome=genomic;mol_type=genomic DNA;sex=female\\n']\n",
      "['NW_005871059.1', 'RefSeq', 'region', '1', '16239124', '.', '+', '.', 'ID=id75527;Dbxref=taxon:59463;Name=Unknown;chromosome=Unknown;country=USA: Framingham%2C MA;gbkey=Src;genome=genomic;mol_type=genomic DNA;sex=female\\n']\n",
      "['NW_005871062.1', 'RefSeq', 'region', '1', '15274826', '.', '+', '.', 'ID=id85264;Dbxref=taxon:59463;Name=Unknown;chromosome=Unknown;country=USA: Framingham%2C MA;gbkey=Src;genome=genomic;mol_type=genomic DNA;sex=female\\n']\n",
      "['NW_005871062.1', 'Gnomon', 'gene', '7590919', '7653791', '.', '+', '.', 'ID=gene4088;Dbxref=GeneID:102427812;Name=MASP1;gbkey=Gene;gene=MASP1;gene_biotype=protein_coding\\n']\n",
      "['NW_005871062.1', 'Gnomon', 'mRNA', '7590919', '7637874', '.', '+', '.', 'ID=rna7049;Parent=gene4088;Dbxref=GeneID:102427812,Genbank:XM_006084791.3;Name=XM_006084791.3;gbkey=mRNA;gene=MASP1;model_evidence=Supporting evidence includes similarity to: 3 mRNAs%2C 8 Proteins%2C and 99%25 coverage of the annotated genomic feature by RNAseq alignments%2C including 1 sample with support for all annotated introns;product=mannan binding lectin serine peptidase 1%2C transcript variant X1;transcript_id=XM_006084791.3\\n']\n",
      "['NW_005871062.1', 'Gnomon', 'mRNA', '7590957', '7653791', '.', '+', '.', 'ID=rna7050;Parent=gene4088;Dbxref=GeneID:102427812,Genbank:XM_006084792.3;Name=XM_006084792.3;gbkey=mRNA;gene=MASP1;model_evidence=Supporting evidence includes similarity to: 1 mRNA%2C 9 Proteins%2C and 72%25 coverage of the annotated genomic feature by RNAseq alignments;product=mannan binding lectin serine peptidase 1%2C transcript variant X2;transcript_id=XM_006084792.3\\n']\n",
      "['NW_005871064.1', 'RefSeq', 'region', '1', '15202523', '.', '+', '.', 'ID=id93550;Dbxref=taxon:59463;Name=Unknown;chromosome=Unknown;country=USA: Framingham%2C MA;gbkey=Src;genome=genomic;mol_type=genomic DNA;sex=female\\n']\n",
      "['NW_005871065.1', 'RefSeq', 'region', '1', '14577598', '.', '+', '.', 'ID=id95959;Dbxref=taxon:59463;Name=Unknown;chromosome=Unknown;country=USA: Framingham%2C MA;gbkey=Src;genome=genomic;mol_type=genomic DNA;sex=female\\n']\n",
      "['NW_005871073.1', 'RefSeq', 'region', '1', '10646666', '.', '+', '.', 'ID=id114773;Dbxref=taxon:59463;Name=Unknown;chromosome=Unknown;country=USA: Framingham%2C MA;gbkey=Src;genome=genomic;mol_type=genomic DNA;sex=female\\n']\n",
      "['NW_005871076.1', 'RefSeq', 'region', '1', '10643064', '.', '+', '.', 'ID=id119730;Dbxref=taxon:59463;Name=Unknown;chromosome=Unknown;country=USA: Framingham%2C MA;gbkey=Src;genome=genomic;mol_type=genomic DNA;sex=female\\n']\n",
      "['NW_005871076.1', 'Gnomon', 'gene', '3903932', '3912832', '.', '+', '.', 'ID=gene5943;Dbxref=GeneID:102433949;Name=GNPDA1;gbkey=Gene;gene=GNPDA1;gene_biotype=protein_coding\\n']\n",
      "['NW_005871076.1', 'Gnomon', 'mRNA', '3903932', '3912832', '.', '+', '.', 'ID=rna9907;Parent=gene5943;Dbxref=GeneID:102433949,Genbank:XM_006086425.3;Name=XM_006086425.3;gbkey=mRNA;gene=GNPDA1;model_evidence=Supporting evidence includes similarity to: 5 mRNAs%2C 12 Proteins%2C and 100%25 coverage of the annotated genomic feature by RNAseq alignments%2C including 26 samples with support for all annotated introns;product=glucosamine-6-phosphate deaminase 1;transcript_id=XM_006086425.3\\n']\n",
      "['NW_005871083.1', 'RefSeq', 'region', '1', '9082911', '.', '+', '.', 'ID=id133156;Dbxref=taxon:59463;Name=Unknown;chromosome=Unknown;country=USA: Framingham%2C MA;gbkey=Src;genome=genomic;mol_type=genomic DNA;sex=female\\n']\n",
      "['NW_005871083.1', 'Gnomon', 'gene', '3979298', '4208728', '.', '-', '.', 'ID=gene6576;Dbxref=GeneID:102420738;Name=CMIP;gbkey=Gene;gene=CMIP;gene_biotype=protein_coding\\n']\n",
      "['NW_005871083.1', 'Gnomon', 'mRNA', '3979298', '4208728', '.', '-', '.', 'ID=rna11031;Parent=gene6576;Dbxref=GeneID:102420738,Genbank:XM_006087043.3;Name=XM_006087043.3;Note=The sequence of the model RefSeq transcript was modified relative to this genomic sequence to represent the inferred CDS: deleted 1 base in 1 codon;exception=unclassified transcription discrepancy;gbkey=mRNA;gene=CMIP;model_evidence=Supporting evidence includes similarity to: 2 mRNAs%2C 5 Proteins%2C and 99%25 coverage of the annotated genomic feature by RNAseq alignments%2C including 23 samples with support for all annotated introns;product=c-Maf inducing protein;transcript_id=XM_006087043.3\\n']\n"
     ]
    },
    {
     "name": "stdout",
     "output_type": "stream",
     "text": [
      "['NW_005871087.1', 'RefSeq', 'region', '1', '8424078', '.', '+', '.', 'ID=id142776;Dbxref=taxon:59463;Name=Unknown;chromosome=Unknown;country=USA: Framingham%2C MA;gbkey=Src;genome=genomic;mol_type=genomic DNA;sex=female\\n']\n",
      "['NW_005871097.1', 'RefSeq', 'region', '1', '7348857', '.', '+', '.', 'ID=id162626;Dbxref=taxon:59463;Name=Unknown;chromosome=Unknown;country=USA: Framingham%2C MA;gbkey=Src;genome=genomic;mol_type=genomic DNA;sex=female\\n']\n",
      "['NW_005871097.1', 'Gnomon', 'gene', '3142067', '3321329', '.', '-', '.', 'ID=gene8121;Dbxref=GeneID:102440988;Name=REPS2;gbkey=Gene;gene=REPS2;gene_biotype=protein_coding\\n']\n",
      "['NW_005871097.1', 'Gnomon', 'mRNA', '3142067', '3321329', '.', '-', '.', 'ID=rna13665;Parent=gene8121;Dbxref=GeneID:102440988,Genbank:XM_023753740.1;Name=XM_023753740.1;gbkey=mRNA;gene=REPS2;model_evidence=Supporting evidence includes similarity to: 1 Protein%2C and 82%25 coverage of the annotated genomic feature by RNAseq alignments;product=RALBP1 associated Eps domain containing 2;transcript_id=XM_023753740.1\\n']\n",
      "['NW_005871100.1', 'RefSeq', 'region', '1', '7058687', '.', '+', '.', 'ID=id166315;Dbxref=taxon:59463;Name=Unknown;chromosome=Unknown;country=USA: Framingham%2C MA;gbkey=Src;genome=genomic;mol_type=genomic DNA;sex=female\\n']\n",
      "['NW_005871109.1', 'RefSeq', 'region', '1', '6495742', '.', '+', '.', 'ID=id181624;Dbxref=taxon:59463;Name=Unknown;chromosome=Unknown;country=USA: Framingham%2C MA;gbkey=Src;genome=genomic;mol_type=genomic DNA;sex=female\\n']\n",
      "['NW_005871109.1', 'Gnomon', 'gene', '1466518', '1571546', '.', '-', '.', 'ID=gene9207;Dbxref=GeneID:102429587;Name=ARNTL;gbkey=Gene;gene=ARNTL;gene_biotype=protein_coding\\n']\n",
      "['NW_005871109.1', 'Gnomon', 'mRNA', '1466518', '1571546', '.', '-', '.', 'ID=rna15437;Parent=gene9207;Dbxref=GeneID:102429587,Genbank:XM_014456589.2;Name=XM_014456589.2;gbkey=mRNA;gene=ARNTL;model_evidence=Supporting evidence includes similarity to: 2 mRNAs%2C 7 Proteins%2C and 100%25 coverage of the annotated genomic feature by RNAseq alignments%2C including 5 samples with support for all annotated introns;product=aryl hydrocarbon receptor nuclear translocator like%2C transcript variant X5;transcript_id=XM_014456589.2\\n']\n",
      "['NW_005871109.1', 'Gnomon', 'mRNA', '1466518', '1571546', '.', '-', '.', 'ID=rna15438;Parent=gene9207;Dbxref=GeneID:102429587,Genbank:XM_014456592.2;Name=XM_014456592.2;gbkey=mRNA;gene=ARNTL;model_evidence=Supporting evidence includes similarity to: 9 Proteins%2C and 100%25 coverage of the annotated genomic feature by RNAseq alignments%2C including 8 samples with support for all annotated introns;product=aryl hydrocarbon receptor nuclear translocator like%2C transcript variant X8;transcript_id=XM_014456592.2\\n']\n",
      "['NW_005871109.1', 'Gnomon', 'mRNA', '1466518', '1571546', '.', '-', '.', 'ID=rna15439;Parent=gene9207;Dbxref=GeneID:102429587,Genbank:XM_014456591.2;Name=XM_014456591.2;gbkey=mRNA;gene=ARNTL;model_evidence=Supporting evidence includes similarity to: 2 mRNAs%2C 13 Proteins%2C and 100%25 coverage of the annotated genomic feature by RNAseq alignments%2C including 9 samples with support for all annotated introns;product=aryl hydrocarbon receptor nuclear translocator like%2C transcript variant X7;transcript_id=XM_014456591.2\\n']\n",
      "['NW_005871109.1', 'Gnomon', 'mRNA', '1466518', '1571546', '.', '-', '.', 'ID=rna15440;Parent=gene9207;Dbxref=GeneID:102429587,Genbank:XM_023754517.1;Name=XM_023754517.1;gbkey=mRNA;gene=ARNTL;model_evidence=Supporting evidence includes similarity to: 2 Proteins%2C and 100%25 coverage of the annotated genomic feature by RNAseq alignments%2C including 10 samples with support for all annotated introns;product=aryl hydrocarbon receptor nuclear translocator like%2C transcript variant X9;transcript_id=XM_023754517.1\\n']\n",
      "['NW_005871109.1', 'Gnomon', 'mRNA', '1466518', '1571546', '.', '-', '.', 'ID=rna15441;Parent=gene9207;Dbxref=GeneID:102429587,Genbank:XM_014456590.2;Name=XM_014456590.2;gbkey=mRNA;gene=ARNTL;model_evidence=Supporting evidence includes similarity to: 8 Proteins%2C and 100%25 coverage of the annotated genomic feature by RNAseq alignments%2C including 10 samples with support for all annotated introns;product=aryl hydrocarbon receptor nuclear translocator like%2C transcript variant X6;transcript_id=XM_014456590.2\\n']\n",
      "['NW_005871109.1', 'Gnomon', 'mRNA', '1466518', '1571546', '.', '-', '.', 'ID=rna15442;Parent=gene9207;Dbxref=GeneID:102429587,Genbank:XM_014456593.2;Name=XM_014456593.2;gbkey=mRNA;gene=ARNTL;model_evidence=Supporting evidence includes similarity to: 1 Protein%2C and 100%25 coverage of the annotated genomic feature by RNAseq alignments%2C including 12 samples with support for all annotated introns;product=aryl hydrocarbon receptor nuclear translocator like%2C transcript variant X11;transcript_id=XM_014456593.2\\n']\n",
      "['NW_005871109.1', 'Gnomon', 'mRNA', '1466518', '1571546', '.', '-', '.', 'ID=rna15443;Parent=gene9207;Dbxref=GeneID:102429587,Genbank:XM_014456586.2;Name=XM_014456586.2;gbkey=mRNA;gene=ARNTL;model_evidence=Supporting evidence includes similarity to: 2 mRNAs%2C 7 Proteins%2C and 100%25 coverage of the annotated genomic feature by RNAseq alignments%2C including 12 samples with support for all annotated introns;product=aryl hydrocarbon receptor nuclear translocator like%2C transcript variant X1;transcript_id=XM_014456586.2\\n']\n",
      "['NW_005871109.1', 'Gnomon', 'mRNA', '1466518', '1571546', '.', '-', '.', 'ID=rna15444;Parent=gene9207;Dbxref=GeneID:102429587,Genbank:XM_014456588.2;Name=XM_014456588.2;gbkey=mRNA;gene=ARNTL;model_evidence=Supporting evidence includes similarity to: 2 mRNAs%2C 7 Proteins%2C and 100%25 coverage of the annotated genomic feature by RNAseq alignments%2C including 5 samples with support for all annotated introns;product=aryl hydrocarbon receptor nuclear translocator like%2C transcript variant X4;transcript_id=XM_014456588.2\\n']\n",
      "['NW_005871109.1', 'Gnomon', 'mRNA', '1466518', '1571546', '.', '-', '.', 'ID=rna15445;Parent=gene9207;Dbxref=GeneID:102429587,Genbank:XM_006089587.3;Name=XM_006089587.3;gbkey=mRNA;gene=ARNTL;model_evidence=Supporting evidence includes similarity to: 2 mRNAs%2C 7 Proteins%2C and 100%25 coverage of the annotated genomic feature by RNAseq alignments%2C including 4 samples with support for all annotated introns;product=aryl hydrocarbon receptor nuclear translocator like%2C transcript variant X2;transcript_id=XM_006089587.3\\n']\n",
      "['NW_005871109.1', 'Gnomon', 'mRNA', '1466518', '1503619', '.', '-', '.', 'ID=rna15446;Parent=gene9207;Dbxref=GeneID:102429587,Genbank:XM_023754516.1;Name=XM_023754516.1;gbkey=mRNA;gene=ARNTL;model_evidence=Supporting evidence includes similarity to: 2 mRNAs%2C 7 Proteins%2C and 100%25 coverage of the annotated genomic feature by RNAseq alignments%2C including 6 samples with support for all annotated introns;product=aryl hydrocarbon receptor nuclear translocator like%2C transcript variant X3;transcript_id=XM_023754516.1\\n']\n",
      "['NW_005871109.1', 'Gnomon', 'mRNA', '1469463', '1571546', '.', '-', '.', 'ID=rna15448;Parent=gene9207;Dbxref=GeneID:102429587,Genbank:XM_023754518.1;Name=XM_023754518.1;gbkey=mRNA;gene=ARNTL;model_evidence=Supporting evidence includes similarity to: 1 Protein%2C and 100%25 coverage of the annotated genomic feature by RNAseq alignments%2C including 3 samples with support for all annotated introns;product=aryl hydrocarbon receptor nuclear translocator like%2C transcript variant X10;transcript_id=XM_023754518.1\\n']\n",
      "['NW_005871116.1', 'RefSeq', 'region', '1', '5728823', '.', '+', '.', 'ID=id192215;Dbxref=taxon:59463;Name=Unknown;chromosome=Unknown;country=USA: Framingham%2C MA;gbkey=Src;genome=genomic;mol_type=genomic DNA;sex=female\\n']\n",
      "['NW_005871116.1', 'RefSeq', 'region', '1', '5728823', '.', '+', '.', 'ID=id192215;Dbxref=taxon:59463;Name=Unknown;chromosome=Unknown;country=USA: Framingham%2C MA;gbkey=Src;genome=genomic;mol_type=genomic DNA;sex=female\\n']\n",
      "['NW_005871120.1', 'RefSeq', 'region', '1', '5133329', '.', '+', '.', 'ID=id198514;Dbxref=taxon:59463;Name=Unknown;chromosome=Unknown;country=USA: Framingham%2C MA;gbkey=Src;genome=genomic;mol_type=genomic DNA;sex=female\\n']\n",
      "['NW_005871120.1', 'Gnomon', 'gene', '155809', '193637', '.', '-', '.', 'ID=gene9976;Dbxref=GeneID:102435020;Name=ABAT;gbkey=Gene;gene=ABAT;gene_biotype=protein_coding\\n']\n",
      "['NW_005871120.1', 'Gnomon', 'mRNA', '155809', '193637', '.', '-', '.', 'ID=rna16794;Parent=gene9976;Dbxref=GeneID:102435020,Genbank:XM_023755211.1;Name=XM_023755211.1;gbkey=mRNA;gene=ABAT;model_evidence=Supporting evidence includes similarity to: 5 mRNAs%2C 10 Proteins%2C and 100%25 coverage of the annotated genomic feature by RNAseq alignments%2C including 2 samples with support for all annotated introns;product=4-aminobutyrate aminotransferase;transcript_id=XM_023755211.1\\n']\n"
     ]
    },
    {
     "name": "stdout",
     "output_type": "stream",
     "text": [
      "['NW_005871122.1', 'RefSeq', 'region', '1', '5136827', '.', '+', '.', 'ID=id201139;Dbxref=taxon:59463;Name=Unknown;chromosome=Unknown;country=USA: Framingham%2C MA;gbkey=Src;genome=genomic;mol_type=genomic DNA;sex=female\\n']\n",
      "['NW_005871122.1', 'RefSeq', 'region', '1', '5136827', '.', '+', '.', 'ID=id201139;Dbxref=taxon:59463;Name=Unknown;chromosome=Unknown;country=USA: Framingham%2C MA;gbkey=Src;genome=genomic;mol_type=genomic DNA;sex=female\\n']\n",
      "['NW_005871122.1', 'Gnomon', 'gene', '3434412', '3529751', '.', '-', '.', 'ID=gene10137;Dbxref=GeneID:102437398;Name=PCDH17;gbkey=Gene;gene=PCDH17;gene_biotype=protein_coding\\n']\n",
      "['NW_005871122.1', 'Gnomon', 'mRNA', '3434412', '3529751', '.', '-', '.', 'ID=rna17052;Parent=gene10137;Dbxref=GeneID:102437398,Genbank:XM_006090529.3;Name=XM_006090529.3;gbkey=mRNA;gene=PCDH17;model_evidence=Supporting evidence includes similarity to: 2 mRNAs%2C 5 Proteins%2C and 95%25 coverage of the annotated genomic feature by RNAseq alignments;product=protocadherin 17;transcript_id=XM_006090529.3\\n']\n",
      "['NW_005871123.1', 'RefSeq', 'region', '1', '5160323', '.', '+', '.', 'ID=id201293;Dbxref=taxon:59463;Name=Unknown;chromosome=Unknown;country=USA: Framingham%2C MA;gbkey=Src;genome=genomic;mol_type=genomic DNA;sex=female\\n']\n",
      "['NW_005871126.1', 'RefSeq', 'region', '1', '5037443', '.', '+', '.', 'ID=id204375;Dbxref=taxon:59463;Name=Unknown;chromosome=Unknown;country=USA: Framingham%2C MA;gbkey=Src;genome=genomic;mol_type=genomic DNA;sex=female\\n']\n",
      "['NW_005871126.1', 'Gnomon', 'gene', '1709020', '2102226', '.', '+', '.', 'ID=gene10320;Dbxref=GeneID:102433978;Name=SOX5;gbkey=Gene;gene=SOX5;gene_biotype=protein_coding\\n']\n",
      "['NW_005871126.1', 'Gnomon', 'mRNA', '1709020', '2102226', '.', '+', '.', 'ID=rna17342;Parent=gene10320;Dbxref=GeneID:102433978,Genbank:XM_006090652.3;Name=XM_006090652.3;gbkey=mRNA;gene=SOX5;model_evidence=Supporting evidence includes similarity to: 6 mRNAs%2C 7 Proteins%2C and 94%25 coverage of the annotated genomic feature by RNAseq alignments;product=SRY-box 5;transcript_id=XM_006090652.3\\n']\n",
      "['NW_005871129.1', 'RefSeq', 'region', '1', '4918922', '.', '+', '.', 'ID=id207190;Dbxref=taxon:59463;Name=Unknown;chromosome=Unknown;country=USA: Framingham%2C MA;gbkey=Src;genome=genomic;mol_type=genomic DNA;sex=female\\n']\n",
      "['NW_005871129.1', 'Gnomon', 'gene', '2123766', '3029105', '.', '-', '.', 'ID=gene10442;Dbxref=GeneID:102423892;Name=MDGA2;gbkey=Gene;gene=MDGA2;gene_biotype=protein_coding\\n']\n",
      "['NW_005871129.1', 'Gnomon', 'mRNA', '2123766', '3029105', '.', '-', '.', 'ID=rna17512;Parent=gene10442;Dbxref=GeneID:102423892,Genbank:XM_006090751.3;Name=XM_006090751.3;gbkey=mRNA;gene=MDGA2;model_evidence=Supporting evidence includes similarity to: 5 mRNAs%2C 5 Proteins%2C and 17%25 coverage of the annotated genomic feature by RNAseq alignments;product=MAM domain containing glycosylphosphatidylinositol anchor 2%2C transcript variant X1;transcript_id=XM_006090751.3\\n']\n",
      "['NW_005871129.1', 'Gnomon', 'mRNA', '2123766', '2635771', '.', '-', '.', 'ID=rna17513;Parent=gene10442;Dbxref=GeneID:102423892,Genbank:XM_006090753.2;Name=XM_006090753.2;gbkey=mRNA;gene=MDGA2;model_evidence=Supporting evidence includes similarity to: 5 mRNAs%2C 1 Protein%2C and 9%25 coverage of the annotated genomic feature by RNAseq alignments;product=MAM domain containing glycosylphosphatidylinositol anchor 2%2C transcript variant X2;transcript_id=XM_006090753.2\\n']\n",
      "['NW_005871136.1', 'RefSeq', 'region', '1', '4679154', '.', '+', '.', 'ID=id215563;Dbxref=taxon:59463;Name=Unknown;chromosome=Unknown;country=USA: Framingham%2C MA;gbkey=Src;genome=genomic;mol_type=genomic DNA;sex=female\\n']\n",
      "['NW_005871136.1', 'Gnomon', 'gene', '4372562', '4411869', '.', '-', '.', 'ID=gene10904;Dbxref=GeneID:102426505;Name=FA2H;gbkey=Gene;gene=FA2H;gene_biotype=protein_coding\\n']\n",
      "['NW_005871136.1', 'Gnomon', 'mRNA', '4372562', '4411869', '.', '-', '.', 'ID=rna18385;Parent=gene10904;Dbxref=GeneID:102426505,Genbank:XM_006091226.3;Name=XM_006091226.3;gbkey=mRNA;gene=FA2H;model_evidence=Supporting evidence includes similarity to: 4 Proteins%2C and 100%25 coverage of the annotated genomic feature by RNAseq alignments%2C including 4 samples with support for all annotated introns;product=fatty acid 2-hydroxylase;transcript_id=XM_006091226.3\\n']\n",
      "['NW_005871140.1', 'RefSeq', 'region', '1', '4592439', '.', '+', '.', 'ID=id224920;Dbxref=taxon:59463;Name=Unknown;chromosome=Unknown;country=USA: Framingham%2C MA;gbkey=Src;genome=genomic;mol_type=genomic DNA;sex=female\\n']\n",
      "['NW_005871142.1', 'RefSeq', 'region', '1', '4514962', '.', '+', '.', 'ID=id226172;Dbxref=taxon:59463;Name=Unknown;chromosome=Unknown;country=USA: Framingham%2C MA;gbkey=Src;genome=genomic;mol_type=genomic DNA;sex=female\\n']\n",
      "['NW_005871142.1', 'RefSeq', 'region', '1', '4514962', '.', '+', '.', 'ID=id226172;Dbxref=taxon:59463;Name=Unknown;chromosome=Unknown;country=USA: Framingham%2C MA;gbkey=Src;genome=genomic;mol_type=genomic DNA;sex=female\\n']\n",
      "['NW_005871142.1', 'Gnomon', 'gene', '263205', '312860', '.', '+', '.', 'ID=gene11267;Dbxref=GeneID:102442682;Name=ADCY3;gbkey=Gene;gene=ADCY3;gene_biotype=protein_coding\\n']\n",
      "['NW_005871142.1', 'Gnomon', 'mRNA', '263205', '312362', '.', '+', '.', 'ID=rna19111;Parent=gene11267;Dbxref=GeneID:102442682,Genbank:XM_006091691.3;Name=XM_006091691.3;gbkey=mRNA;gene=ADCY3;model_evidence=Supporting evidence includes similarity to: 5 mRNAs%2C 10 Proteins%2C and 99%25 coverage of the annotated genomic feature by RNAseq alignments%2C including 1 sample with support for all annotated introns;product=adenylate cyclase 3%2C transcript variant X1;transcript_id=XM_006091691.3\\n']\n",
      "['NW_005871142.1', 'Gnomon', 'mRNA', '263528', '312860', '.', '+', '.', 'ID=rna19112;Parent=gene11267;Dbxref=GeneID:102442682,Genbank:XM_023756431.1;Name=XM_023756431.1;gbkey=mRNA;gene=ADCY3;model_evidence=Supporting evidence includes similarity to: 5 mRNAs%2C 10 Proteins%2C and 99%25 coverage of the annotated genomic feature by RNAseq alignments%2C including 14 samples with support for all annotated introns;product=adenylate cyclase 3%2C transcript variant X2;transcript_id=XM_023756431.1\\n']\n",
      "['NW_005871148.1', 'RefSeq', 'region', '1', '4444721', '.', '+', '.', 'ID=id238203;Dbxref=taxon:59463;Name=Unknown;chromosome=Unknown;country=USA: Framingham%2C MA;gbkey=Src;genome=genomic;mol_type=genomic DNA;sex=female\\n']\n",
      "['NW_005871148.1', 'Gnomon', 'gene', '2560994', '2842740', '.', '-', '.', 'ID=gene11898;Dbxref=GeneID:102438113;Name=CEP112;gbkey=Gene;gene=CEP112;gene_biotype=protein_coding\\n']\n",
      "['NW_005871148.1', 'Gnomon', 'mRNA', '2560994', '2842740', '.', '-', '.', 'ID=rna20342;Parent=gene11898;Dbxref=GeneID:102438113,Genbank:XM_014458887.2;Name=XM_014458887.2;gbkey=mRNA;gene=CEP112;model_evidence=Supporting evidence includes similarity to: 2 Proteins%2C and 100%25 coverage of the annotated genomic feature by RNAseq alignments;product=centrosomal protein 112;transcript_id=XM_014458887.2\\n']\n",
      "['NW_005871152.1', 'RefSeq', 'region', '1', '4256317', '.', '+', '.', 'ID=id248686;Dbxref=taxon:59463;Name=Unknown;chromosome=Unknown;country=USA: Framingham%2C MA;gbkey=Src;genome=genomic;mol_type=genomic DNA;sex=female\\n']\n",
      "['NW_005871154.1', 'RefSeq', 'region', '1', '4280553', '.', '+', '.', 'ID=id250845;Dbxref=taxon:59463;Name=Unknown;chromosome=Unknown;country=USA: Framingham%2C MA;gbkey=Src;genome=genomic;mol_type=genomic DNA;sex=female\\n']\n",
      "['NW_005871160.1', 'RefSeq', 'region', '1', '4019553', '.', '+', '.', 'ID=id259229;Dbxref=taxon:59463;Name=Unknown;chromosome=Unknown;country=USA: Framingham%2C MA;gbkey=Src;genome=genomic;mol_type=genomic DNA;sex=female\\n']\n",
      "['NW_005871166.1', 'RefSeq', 'region', '1', '3905128', '.', '+', '.', 'ID=id263990;Dbxref=taxon:59463;Name=Unknown;chromosome=Unknown;country=USA: Framingham%2C MA;gbkey=Src;genome=genomic;mol_type=genomic DNA;sex=female\\n']\n",
      "['NW_005871166.1', 'RefSeq', 'region', '1', '3905128', '.', '+', '.', 'ID=id263990;Dbxref=taxon:59463;Name=Unknown;chromosome=Unknown;country=USA: Framingham%2C MA;gbkey=Src;genome=genomic;mol_type=genomic DNA;sex=female\\n']\n",
      "['NW_005871166.1', 'RefSeq', 'region', '1', '3905128', '.', '+', '.', 'ID=id263990;Dbxref=taxon:59463;Name=Unknown;chromosome=Unknown;country=USA: Framingham%2C MA;gbkey=Src;genome=genomic;mol_type=genomic DNA;sex=female\\n']\n",
      "['NW_005871169.1', 'RefSeq', 'region', '1', '3838405', '.', '+', '.', 'ID=id267292;Dbxref=taxon:59463;Name=Unknown;chromosome=Unknown;country=USA: Framingham%2C MA;gbkey=Src;genome=genomic;mol_type=genomic DNA;sex=female\\n']\n",
      "['NW_005871177.1', 'RefSeq', 'region', '1', '3690467', '.', '+', '.', 'ID=id275767;Dbxref=taxon:59463;Name=Unknown;chromosome=Unknown;country=USA: Framingham%2C MA;gbkey=Src;genome=genomic;mol_type=genomic DNA;sex=female\\n']\n",
      "['NW_005871187.1', 'RefSeq', 'region', '1', '3538212', '.', '+', '.', 'ID=id285453;Dbxref=taxon:59463;Name=Unknown;chromosome=Unknown;country=USA: Framingham%2C MA;gbkey=Src;genome=genomic;mol_type=genomic DNA;sex=female\\n']\n",
      "['NW_005871187.1', 'Gnomon', 'gene', '1853352', '1968511', '.', '+', '.', 'ID=gene14209;Dbxref=GeneID:111827161;Name=LOC111827161;gbkey=Gene;gene=LOC111827161;gene_biotype=lncRNA\\n']\n",
      "['NW_005871187.1', 'Gnomon', 'lnc_RNA', '1853352', '1968511', '.', '+', '.', 'ID=rna24334;Parent=gene14209;Dbxref=GeneID:111827161,Genbank:XR_002830677.1;Name=XR_002830677.1;gbkey=ncRNA;gene=LOC111827161;model_evidence=Supporting evidence includes similarity to: 100%25 coverage of the annotated genomic feature by RNAseq alignments;product=uncharacterized LOC111827161;transcript_id=XR_002830677.1\\n']\n",
      "['NW_005871191.1', 'RefSeq', 'region', '1', '3403133', '.', '+', '.', 'ID=id287356;Dbxref=taxon:59463;Name=Unknown;chromosome=Unknown;country=USA: Framingham%2C MA;gbkey=Src;genome=genomic;mol_type=genomic DNA;sex=female\\n']\n",
      "['NW_005871191.1', 'Gnomon', 'gene', '2216577', '2888781', '.', '-', '.', 'ID=gene14416;Dbxref=GeneID:102435969;Name=NELL1;gbkey=Gene;gene=NELL1;gene_biotype=protein_coding\\n']\n",
      "['NW_005871191.1', 'Gnomon', 'mRNA', '2216577', '2888781', '.', '-', '.', 'ID=rna24556;Parent=gene14416;Dbxref=GeneID:102435969,Genbank:XM_023758901.1;Name=XM_023758901.1;gbkey=mRNA;gene=NELL1;model_evidence=Supporting evidence includes similarity to: 11 Proteins%2C and 94%25 coverage of the annotated genomic feature by RNAseq alignments;product=neural EGFL like 1;transcript_id=XM_023758901.1\\n']\n",
      "['NW_005871208.1', 'RefSeq', 'region', '1', '3092412', '.', '+', '.', 'ID=id304554;Dbxref=taxon:59463;Name=Unknown;chromosome=Unknown;country=USA: Framingham%2C MA;gbkey=Src;genome=genomic;mol_type=genomic DNA;sex=female\\n']\n",
      "['NW_005871210.1', 'RefSeq', 'region', '1', '3019976', '.', '+', '.', 'ID=id307691;Dbxref=taxon:59463;Name=Unknown;chromosome=Unknown;country=USA: Framingham%2C MA;gbkey=Src;genome=genomic;mol_type=genomic DNA;sex=female\\n']\n",
      "['NW_005871210.1', 'Gnomon', 'gene', '2499532', '3006516', '.', '+', '.', 'ID=gene15442;Dbxref=GeneID:102425362;Name=SORCS3;gbkey=Gene;gene=SORCS3;gene_biotype=protein_coding\\n']\n",
      "['NW_005871210.1', 'Gnomon', 'mRNA', '2499532', '3006516', '.', '+', '.', 'ID=rna26668;Parent=gene15442;Dbxref=GeneID:102425362,Genbank:XM_006095936.3;Name=XM_006095936.3;gbkey=mRNA;gene=SORCS3;model_evidence=Supporting evidence includes similarity to: 4 mRNAs%2C 11 Proteins%2C and 30%25 coverage of the annotated genomic feature by RNAseq alignments;product=sortilin related VPS10 domain containing receptor 3;transcript_id=XM_006095936.3\\n']\n",
      "['NW_005871211.1', 'RefSeq', 'region', '1', '3003176', '.', '+', '.', 'ID=id309627;Dbxref=taxon:59463;Name=Unknown;chromosome=Unknown;country=USA: Framingham%2C MA;gbkey=Src;genome=genomic;mol_type=genomic DNA;sex=female\\n']\n"
     ]
    },
    {
     "name": "stdout",
     "output_type": "stream",
     "text": [
      "['NW_005871219.1', 'RefSeq', 'region', '1', '2865968', '.', '+', '.', 'ID=id315315;Dbxref=taxon:59463;Name=Unknown;chromosome=Unknown;country=USA: Framingham%2C MA;gbkey=Src;genome=genomic;mol_type=genomic DNA;sex=female\\n']\n",
      "['NW_005871228.1', 'RefSeq', 'region', '1', '2723584', '.', '+', '.', 'ID=id320747;Dbxref=taxon:59463;Name=Unknown;chromosome=Unknown;country=USA: Framingham%2C MA;gbkey=Src;genome=genomic;mol_type=genomic DNA;sex=female\\n']\n",
      "['NW_005871231.1', 'RefSeq', 'region', '1', '2651257', '.', '+', '.', 'ID=id323591;Dbxref=taxon:59463;Name=Unknown;chromosome=Unknown;country=USA: Framingham%2C MA;gbkey=Src;genome=genomic;mol_type=genomic DNA;sex=female\\n']\n",
      "['NW_005871236.1', 'RefSeq', 'region', '1', '2551290', '.', '+', '.', 'ID=id327813;Dbxref=taxon:59463;Name=Unknown;chromosome=Unknown;country=USA: Framingham%2C MA;gbkey=Src;genome=genomic;mol_type=genomic DNA;sex=female\\n']\n",
      "['NW_005871243.1', 'RefSeq', 'region', '1', '2513712', '.', '+', '.', 'ID=id331702;Dbxref=taxon:59463;Name=Unknown;chromosome=Unknown;country=USA: Framingham%2C MA;gbkey=Src;genome=genomic;mol_type=genomic DNA;sex=female\\n']\n",
      "['NW_005871246.1', 'RefSeq', 'region', '1', '2532579', '.', '+', '.', 'ID=id335396;Dbxref=taxon:59463;Name=Unknown;chromosome=Unknown;country=USA: Framingham%2C MA;gbkey=Src;genome=genomic;mol_type=genomic DNA;sex=female\\n']\n",
      "['NW_005871246.1', 'Gnomon', 'gene', '1936775', '1992192', '.', '-', '.', 'ID=gene16883;Dbxref=GeneID:102429022;Name=CBFA2T3;gbkey=Gene;gene=CBFA2T3;gene_biotype=protein_coding\\n']\n",
      "['NW_005871246.1', 'Gnomon', 'mRNA', '1936775', '1992192', '.', '-', '.', 'ID=rna29149;Parent=gene16883;Dbxref=GeneID:102429022,Genbank:XM_006097355.3;Name=XM_006097355.3;gbkey=mRNA;gene=CBFA2T3;model_evidence=Supporting evidence includes similarity to: 2 mRNAs%2C 1 Protein%2C and 99%25 coverage of the annotated genomic feature by RNAseq alignments;product=CBFA2/RUNX1 translocation partner 3;transcript_id=XM_006097355.3\\n']\n",
      "['NW_005871250.1', 'RefSeq', 'region', '1', '2370814', '.', '+', '.', 'ID=id338256;Dbxref=taxon:59463;Name=Unknown;chromosome=Unknown;country=USA: Framingham%2C MA;gbkey=Src;genome=genomic;mol_type=genomic DNA;sex=female\\n']\n",
      "['NW_005871263.1', 'RefSeq', 'region', '1', '2259905', '.', '+', '.', 'ID=id349927;Dbxref=taxon:59463;Name=Unknown;chromosome=Unknown;country=USA: Framingham%2C MA;gbkey=Src;genome=genomic;mol_type=genomic DNA;sex=female\\n']\n",
      "['NW_005871279.1', 'RefSeq', 'region', '1', '1996049', '.', '+', '.', 'ID=id357671;Dbxref=taxon:59463;Name=Unknown;chromosome=Unknown;country=USA: Framingham%2C MA;gbkey=Src;genome=genomic;mol_type=genomic DNA;sex=female\\n']\n",
      "['NW_005871289.1', 'RefSeq', 'region', '1', '1901218', '.', '+', '.', 'ID=id361809;Dbxref=taxon:59463;Name=Unknown;chromosome=Unknown;country=USA: Framingham%2C MA;gbkey=Src;genome=genomic;mol_type=genomic DNA;sex=female\\n']\n",
      "['NW_005871299.1', 'RefSeq', 'region', '1', '1811804', '.', '+', '.', 'ID=id366663;Dbxref=taxon:59463;Name=Unknown;chromosome=Unknown;country=USA: Framingham%2C MA;gbkey=Src;genome=genomic;mol_type=genomic DNA;sex=female\\n']\n",
      "['NW_005871310.1', 'RefSeq', 'region', '1', '1841132', '.', '+', '.', 'ID=id371601;Dbxref=taxon:59463;Name=Unknown;chromosome=Unknown;country=USA: Framingham%2C MA;gbkey=Src;genome=genomic;mol_type=genomic DNA;sex=female\\n']\n",
      "['NW_005871310.1', 'Gnomon', 'gene', '1634027', '1669272', '.', '-', '.', 'ID=gene18766;Dbxref=GeneID:102443128;Name=GEMIN4;gbkey=Gene;gene=GEMIN4;gene_biotype=protein_coding\\n']\n",
      "['NW_005871310.1', 'Gnomon', 'mRNA', '1653940', '1669272', '.', '-', '.', 'ID=rna32507;Parent=gene18766;Dbxref=GeneID:102443128,Genbank:XM_023762809.1;Name=XM_023762809.1;gbkey=mRNA;gene=GEMIN4;model_evidence=Supporting evidence includes similarity to: 1 Protein%2C and 100%25 coverage of the annotated genomic feature by RNAseq alignments%2C including 8 samples with support for all annotated introns;product=gem nuclear organelle associated protein 4%2C transcript variant X2;transcript_id=XM_023762809.1\\n']\n",
      "['NW_005871310.1', 'Gnomon', 'gene', '1661352', '1661854', '.', '+', '.', 'ID=gene18768;Dbxref=GeneID:102421410;Name=LOC102421410;gbkey=Gene;gene=LOC102421410;gene_biotype=protein_coding\\n']\n",
      "['NW_005871310.1', 'Gnomon', 'mRNA', '1661352', '1661854', '.', '+', '.', 'ID=rna32510;Parent=gene18768;Dbxref=GeneID:102421410,Genbank:XM_023762812.1;Name=XM_023762812.1;gbkey=mRNA;gene=LOC102421410;model_evidence=Supporting evidence includes similarity to: 2 Proteins%2C and 100%25 coverage of the annotated genomic feature by RNAseq alignments;product=diazepam-binding inhibitor-like 5;transcript_id=XM_023762812.1\\n']\n",
      "['NW_005871310.1', 'Gnomon', 'exon', '1661352', '1661854', '.', '+', '.', 'ID=id372990;Parent=rna32510;Dbxref=GeneID:102421410,Genbank:XM_023762812.1;gbkey=mRNA;gene=LOC102421410;product=diazepam-binding inhibitor-like 5;transcript_id=XM_023762812.1\\n']\n",
      "['NW_005871317.1', 'RefSeq', 'region', '1', '1687824', '.', '+', '.', 'ID=id375042;Dbxref=taxon:59463;Name=Unknown;chromosome=Unknown;country=USA: Framingham%2C MA;gbkey=Src;genome=genomic;mol_type=genomic DNA;sex=female\\n']\n",
      "['NW_005871317.1', 'Gnomon', 'gene', '600265', '653579', '.', '-', '.', 'ID=gene18869;Dbxref=GeneID:102428308;Name=KREMEN1;gbkey=Gene;gene=KREMEN1;gene_biotype=protein_coding\\n']\n",
      "['NW_005871317.1', 'Gnomon', 'mRNA', '600265', '653579', '.', '-', '.', 'ID=rna32702;Parent=gene18869;Dbxref=GeneID:102428308,Genbank:XM_023762932.1;Name=XM_023762932.1;gbkey=mRNA;gene=KREMEN1;model_evidence=Supporting evidence includes similarity to: 1 Protein%2C and 100%25 coverage of the annotated genomic feature by RNAseq alignments%2C including 4 samples with support for all annotated introns;product=kringle containing transmembrane protein 1%2C transcript variant X1;transcript_id=XM_023762932.1\\n']\n",
      "['NW_005871317.1', 'Gnomon', 'mRNA', '600265', '653575', '.', '-', '.', 'ID=rna32703;Parent=gene18869;Dbxref=GeneID:102428308,Genbank:XM_023762933.1;Name=XM_023762933.1;gbkey=mRNA;gene=KREMEN1;model_evidence=Supporting evidence includes similarity to: 100%25 coverage of the annotated genomic feature by RNAseq alignments%2C including 4 samples with support for all annotated introns;product=kringle containing transmembrane protein 1%2C transcript variant X2;transcript_id=XM_023762933.1\\n']\n",
      "['NW_005871382.1', 'RefSeq', 'region', '1', '1180006', '.', '+', '.', 'ID=id412464;Dbxref=taxon:59463;Name=Unknown;chromosome=Unknown;country=USA: Framingham%2C MA;gbkey=Src;genome=genomic;mol_type=genomic DNA;sex=female\\n']\n",
      "['NW_005871402.1', 'RefSeq', 'region', '1', '1199787', '.', '+', '.', 'ID=id420521;Dbxref=taxon:59463;Name=Unknown;chromosome=Unknown;country=USA: Framingham%2C MA;gbkey=Src;genome=genomic;mol_type=genomic DNA;sex=female\\n']\n",
      "['NW_005871409.1', 'RefSeq', 'region', '1', '1211147', '.', '+', '.', 'ID=id422448;Dbxref=taxon:59463;Name=Unknown;chromosome=Unknown;country=USA: Framingham%2C MA;gbkey=Src;genome=genomic;mol_type=genomic DNA;sex=female\\n']\n",
      "['NW_005871413.1', 'RefSeq', 'region', '1', '1152308', '.', '+', '.', 'ID=id422894;Dbxref=taxon:59463;Name=Unknown;chromosome=Unknown;country=USA: Framingham%2C MA;gbkey=Src;genome=genomic;mol_type=genomic DNA;sex=female\\n']\n",
      "['NW_005871437.1', 'RefSeq', 'region', '1', '1012336', '.', '+', '.', 'ID=id432624;Dbxref=taxon:59463;Name=Unknown;chromosome=Unknown;country=USA: Framingham%2C MA;gbkey=Src;genome=genomic;mol_type=genomic DNA;sex=female\\n']\n",
      "['NW_005871439.1', 'RefSeq', 'region', '1', '978231', '.', '+', '.', 'ID=id433565;Dbxref=taxon:59463;Name=Unknown;chromosome=Unknown;country=USA: Framingham%2C MA;gbkey=Src;genome=genomic;mol_type=genomic DNA;sex=female\\n']\n",
      "['NW_005871447.1', 'RefSeq', 'region', '1', '1004160', '.', '+', '.', 'ID=id435422;Dbxref=taxon:59463;Name=Unknown;chromosome=Unknown;country=USA: Framingham%2C MA;gbkey=Src;genome=genomic;mol_type=genomic DNA;sex=female\\n']\n",
      "['NW_005871520.1', 'RefSeq', 'region', '1', '710619', '.', '+', '.', 'ID=id456862;Dbxref=taxon:59463;Name=Unknown;chromosome=Unknown;country=USA: Framingham%2C MA;gbkey=Src;genome=genomic;mol_type=genomic DNA;sex=female\\n']\n",
      "['NW_005871520.1', 'RefSeq', 'region', '1', '710619', '.', '+', '.', 'ID=id456862;Dbxref=taxon:59463;Name=Unknown;chromosome=Unknown;country=USA: Framingham%2C MA;gbkey=Src;genome=genomic;mol_type=genomic DNA;sex=female\\n']\n",
      "['NW_005871552.1', 'RefSeq', 'region', '1', '601910', '.', '+', '.', 'ID=id465901;Dbxref=taxon:59463;Name=Unknown;chromosome=Unknown;country=USA: Framingham%2C MA;gbkey=Src;genome=genomic;mol_type=genomic DNA;sex=female\\n']\n",
      "['NW_005871552.1', 'RefSeq', 'region', '1', '601910', '.', '+', '.', 'ID=id465901;Dbxref=taxon:59463;Name=Unknown;chromosome=Unknown;country=USA: Framingham%2C MA;gbkey=Src;genome=genomic;mol_type=genomic DNA;sex=female\\n']\n",
      "['NW_005871552.1', 'Gnomon', 'gene', '220806', '409594', '.', '-', '.', 'ID=gene23550;Dbxref=GeneID:102419356;Name=MKL2;gbkey=Gene;gene=MKL2;gene_biotype=protein_coding\\n']\n",
      "['NW_005871552.1', 'Gnomon', 'mRNA', '220806', '409594', '.', '-', '.', 'ID=rna40893;Parent=gene23550;Dbxref=GeneID:102419356,Genbank:XM_023744978.1;Name=XM_023744978.1;gbkey=mRNA;gene=MKL2;model_evidence=Supporting evidence includes similarity to: 3 mRNAs%2C 7 Proteins%2C and 100%25 coverage of the annotated genomic feature by RNAseq alignments%2C including 5 samples with support for all annotated introns;product=MKL1/myocardin like 2%2C transcript variant X2;transcript_id=XM_023744978.1\\n']\n",
      "['NW_005871552.1', 'Gnomon', 'mRNA', '220806', '409594', '.', '-', '.', 'ID=rna40894;Parent=gene23550;Dbxref=GeneID:102419356,Genbank:XM_023744982.1;Name=XM_023744982.1;gbkey=mRNA;gene=MKL2;model_evidence=Supporting evidence includes similarity to: 2 Proteins%2C and 100%25 coverage of the annotated genomic feature by RNAseq alignments%2C including 3 samples with support for all annotated introns;product=MKL1/myocardin like 2%2C transcript variant X8;transcript_id=XM_023744982.1\\n']\n",
      "['NW_005871552.1', 'Gnomon', 'transcript', '220806', '409594', '.', '-', '.', 'ID=rna40895;Parent=gene23550;Dbxref=GeneID:102419356,Genbank:XR_002826495.1;Name=XR_002826495.1;gbkey=misc_RNA;gene=MKL2;model_evidence=Supporting evidence includes similarity to: 3 mRNAs%2C 7 Proteins%2C and 100%25 coverage of the annotated genomic feature by RNAseq alignments%2C including 2 samples with support for all annotated introns;product=MKL1/myocardin like 2%2C transcript variant X5;transcript_id=XR_002826495.1\\n']\n",
      "['NW_005871552.1', 'Gnomon', 'mRNA', '220806', '409594', '.', '-', '.', 'ID=rna40896;Parent=gene23550;Dbxref=GeneID:102419356,Genbank:XM_014446123.2;Name=XM_014446123.2;gbkey=mRNA;gene=MKL2;model_evidence=Supporting evidence includes similarity to: 3 mRNAs%2C 7 Proteins%2C and 100%25 coverage of the annotated genomic feature by RNAseq alignments%2C including 2 samples with support for all annotated introns;product=MKL1/myocardin like 2%2C transcript variant X1;transcript_id=XM_014446123.2\\n']\n",
      "['NW_005871552.1', 'Gnomon', 'mRNA', '220806', '409594', '.', '-', '.', 'ID=rna40897;Parent=gene23550;Dbxref=GeneID:102419356,Genbank:XM_023744979.1;Name=XM_023744979.1;gbkey=mRNA;gene=MKL2;model_evidence=Supporting evidence includes similarity to: 3 mRNAs%2C 7 Proteins%2C and 100%25 coverage of the annotated genomic feature by RNAseq alignments;product=MKL1/myocardin like 2%2C transcript variant X3;transcript_id=XM_023744979.1\\n']\n",
      "['NW_005871552.1', 'Gnomon', 'mRNA', '220806', '398116', '.', '-', '.', 'ID=rna40898;Parent=gene23550;Dbxref=GeneID:102419356,Genbank:XM_023744981.1;Name=XM_023744981.1;gbkey=mRNA;gene=MKL2;model_evidence=Supporting evidence includes similarity to: 3 mRNAs%2C 7 Proteins%2C and 100%25 coverage of the annotated genomic feature by RNAseq alignments%2C including 1 sample with support for all annotated introns;product=MKL1/myocardin like 2%2C transcript variant X6;transcript_id=XM_023744981.1\\n']\n",
      "['NW_005871552.1', 'Gnomon', 'mRNA', '220806', '398116', '.', '-', '.', 'ID=rna40899;Parent=gene23550;Dbxref=GeneID:102419356,Genbank:XM_023744980.1;Name=XM_023744980.1;gbkey=mRNA;gene=MKL2;model_evidence=Supporting evidence includes similarity to: 3 mRNAs%2C 7 Proteins%2C and 100%25 coverage of the annotated genomic feature by RNAseq alignments%2C including 1 sample with support for all annotated introns;product=MKL1/myocardin like 2%2C transcript variant X4;transcript_id=XM_023744980.1\\n']\n",
      "['NW_005871552.1', 'Gnomon', 'mRNA', '224715', '409594', '.', '-', '.', 'ID=rna40901;Parent=gene23550;Dbxref=GeneID:102419356,Genbank:XM_023744983.1;Name=XM_023744983.1;gbkey=mRNA;gene=MKL2;model_evidence=Supporting evidence includes similarity to: 3 mRNAs%2C 6 Proteins%2C and 100%25 coverage of the annotated genomic feature by RNAseq alignments%2C including 1 sample with support for all annotated introns;product=MKL1/myocardin like 2%2C transcript variant X9;transcript_id=XM_023744983.1\\n']\n",
      "['NW_005871552.1', 'Gnomon', 'gene', '499696', '528146', '.', '-', '.', 'ID=gene23553;Dbxref=GeneID:102420083;Name=ERCC4;gbkey=Gene;gene=ERCC4;gene_biotype=protein_coding\\n']\n",
      "['NW_005871552.1', 'Gnomon', 'mRNA', '499696', '528146', '.', '-', '.', 'ID=rna40903;Parent=gene23553;Dbxref=GeneID:102420083,Genbank:XM_023744977.1;Name=XM_023744977.1;gbkey=mRNA;gene=ERCC4;model_evidence=Supporting evidence includes similarity to: 1 mRNA%2C and 100%25 coverage of the annotated genomic feature by RNAseq alignments%2C including 4 samples with support for all annotated introns;product=ERCC excision repair 4%2C endonuclease catalytic subunit%2C transcript variant X2;transcript_id=XM_023744977.1\\n']\n",
      "['NW_005871552.1', 'Gnomon', 'mRNA', '499696', '528145', '.', '-', '.', 'ID=rna40904;Parent=gene23553;Dbxref=GeneID:102420083,Genbank:XM_006103752.3;Name=XM_006103752.3;gbkey=mRNA;gene=ERCC4;model_evidence=Supporting evidence includes similarity to: 5 mRNAs%2C 3 Proteins%2C and 100%25 coverage of the annotated genomic feature by RNAseq alignments%2C including 10 samples with support for all annotated introns;product=ERCC excision repair 4%2C endonuclease catalytic subunit%2C transcript variant X1;transcript_id=XM_006103752.3\\n']\n",
      "['NW_005871562.1', 'RefSeq', 'region', '1', '592368', '.', '+', '.', 'ID=id468296;Dbxref=taxon:59463;Name=Unknown;chromosome=Unknown;country=USA: Framingham%2C MA;gbkey=Src;genome=genomic;mol_type=genomic DNA;sex=female\\n']\n"
     ]
    },
    {
     "name": "stdout",
     "output_type": "stream",
     "text": [
      "['NW_005871763.1', 'RefSeq', 'region', '1', '283313', '.', '+', '.', 'ID=id502584;Dbxref=taxon:59463;Name=Unknown;chromosome=Unknown;country=USA: Framingham%2C MA;gbkey=Src;genome=genomic;mol_type=genomic DNA;sex=female\\n']\n",
      "['NW_005871846.1', 'RefSeq', 'region', '1', '211799', '.', '+', '.', 'ID=id512757;Dbxref=taxon:59463;Name=Unknown;chromosome=Unknown;country=USA: Framingham%2C MA;gbkey=Src;genome=genomic;mol_type=genomic DNA;sex=female\\n']\n",
      "['NW_005871967.1', 'RefSeq', 'region', '1', '145539', '.', '+', '.', 'ID=id520168;Dbxref=taxon:59463;Name=Unknown;chromosome=Unknown;country=USA: Framingham%2C MA;gbkey=Src;genome=genomic;mol_type=genomic DNA;sex=female\\n']\n",
      "['NW_005872028.1', 'RefSeq', 'region', '1', '123542', '.', '+', '.', 'ID=id524264;Dbxref=taxon:59463;Name=Unknown;chromosome=Unknown;country=USA: Framingham%2C MA;gbkey=Src;genome=genomic;mol_type=genomic DNA;sex=female\\n']\n",
      "['NW_005872028.1', 'Gnomon', 'gene', '5481', '98250', '.', '-', '.', 'ID=gene27256;Dbxref=GeneID:102417583;Name=RAPGEF1;gbkey=Gene;gene=RAPGEF1;gene_biotype=protein_coding\\n']\n",
      "['NW_005872028.1', 'Gnomon', 'mRNA', '5481', '98250', '.', '-', '.', 'ID=rna46592;Parent=gene27256;Dbxref=GeneID:102417583,Genbank:XM_023747795.1;Name=XM_023747795.1;gbkey=mRNA;gene=RAPGEF1;model_evidence=Supporting evidence includes similarity to: 7 Proteins%2C and 100%25 coverage of the annotated genomic feature by RNAseq alignments%2C including 1 sample with support for all annotated introns;product=Rap guanine nucleotide exchange factor 1%2C transcript variant X2;transcript_id=XM_023747795.1\\n']\n",
      "['NW_005872028.1', 'Gnomon', 'mRNA', '5481', '98250', '.', '-', '.', 'ID=rna46593;Parent=gene27256;Dbxref=GeneID:102417583,Genbank:XM_023747793.1;Name=XM_023747793.1;gbkey=mRNA;gene=RAPGEF1;model_evidence=Supporting evidence includes similarity to: 1 Protein%2C and 100%25 coverage of the annotated genomic feature by RNAseq alignments;product=Rap guanine nucleotide exchange factor 1%2C transcript variant X1;transcript_id=XM_023747793.1\\n']\n",
      "['NW_005872120.1', 'RefSeq', 'region', '1', '106138', '.', '+', '.', 'ID=id527572;Dbxref=taxon:59463;Name=Unknown;chromosome=Unknown;country=USA: Framingham%2C MA;gbkey=Src;genome=genomic;mol_type=genomic DNA;sex=female\\n']\n",
      "['NW_005872156.1', 'RefSeq', 'region', '1', '96376', '.', '+', '.', 'ID=id529614;Dbxref=taxon:59463;Name=Unknown;chromosome=Unknown;country=USA: Framingham%2C MA;gbkey=Src;genome=genomic;mol_type=genomic DNA;sex=female\\n']\n",
      "['NW_005875640.1', 'RefSeq', 'region', '1', '14423', '.', '+', '.', 'ID=id554157;Dbxref=taxon:59463;Name=Unknown;chromosome=Unknown;country=USA: Framingham%2C MA;gbkey=Src;genome=genomic;mol_type=genomic DNA;sex=female\\n']\n"
     ]
    },
    {
     "data": {
      "text/plain": [
       "160"
      ]
     },
     "execution_count": 15,
     "metadata": {},
     "output_type": "execute_result"
    }
   ],
   "source": [
    "f=open('/local/home/sarahgw/WGS/SNPS/All_mylu/snps/NJNY50noout2_sigCompvaluesNe424_296.csv', 'r')\n",
    "a=open('/local/home/sarahgw/references/ref_Myoluc2.0_top_level.gff3', 'r')\n",
    "flines = f.readlines()[1:]\n",
    "chrom_dict = {}\n",
    "for line in flines:\n",
    "    line = line.replace('\"', '')\n",
    "    args = line.split(',')\n",
    "    if args[2] in chrom_dict:\n",
    "        chrom_dict[args[2]].append(int(args[3]))\n",
    "    else:\n",
    "        chrom_dict[args[2]] = [int(args[3])]\n",
    "        \n",
    "aline = a.readline()\n",
    "count = 0\n",
    "while aline:\n",
    "    agroups = aline.split('\\t')\n",
    "    #print(agroups)\n",
    "    chrom = agroups[0]\n",
    "    if chrom in chrom_dict:\n",
    "        for loc in chrom_dict[chrom]:\n",
    "        # loc = chrom_dict[chrom]\n",
    "            if int(agroups[3]) < (loc) and int(agroups[4]) > (loc):\n",
    "                count += 1\n",
    "                print agroups\n",
    "    aline = a.readline()\n",
    "count"
   ]
  },
  {
   "cell_type": "code",
   "execution_count": 1,
   "metadata": {
    "scrolled": false
   },
   "outputs": [
    {
     "name": "stdout",
     "output_type": "stream",
     "text": [
      "['NW_005871048.1', 'RefSeq', 'region', '1', '64990205', '.', '+', '.', 'ID=id0;Dbxref=taxon:59463;Name=Unknown;chromosome=Unknown;country=USA: Framingham%2C MA;gbkey=Src;genome=genomic;mol_type=genomic DNA;sex=female\\n']\n",
      "['NW_005871048.1', 'RefSeq', 'region', '1', '64990205', '.', '+', '.', 'ID=id0;Dbxref=taxon:59463;Name=Unknown;chromosome=Unknown;country=USA: Framingham%2C MA;gbkey=Src;genome=genomic;mol_type=genomic DNA;sex=female\\n']\n",
      "['NW_005871048.1', 'RefSeq', 'region', '1', '64990205', '.', '+', '.', 'ID=id0;Dbxref=taxon:59463;Name=Unknown;chromosome=Unknown;country=USA: Framingham%2C MA;gbkey=Src;genome=genomic;mol_type=genomic DNA;sex=female\\n']\n",
      "['NW_005871048.1', 'RefSeq', 'region', '1', '64990205', '.', '+', '.', 'ID=id0;Dbxref=taxon:59463;Name=Unknown;chromosome=Unknown;country=USA: Framingham%2C MA;gbkey=Src;genome=genomic;mol_type=genomic DNA;sex=female\\n']\n",
      "['NW_005871048.1', 'RefSeq', 'region', '1', '64990205', '.', '+', '.', 'ID=id0;Dbxref=taxon:59463;Name=Unknown;chromosome=Unknown;country=USA: Framingham%2C MA;gbkey=Src;genome=genomic;mol_type=genomic DNA;sex=female\\n']\n",
      "['NW_005871049.1', 'RefSeq', 'region', '1', '39494369', '.', '+', '.', 'ID=id14505;Dbxref=taxon:59463;Name=Unknown;chromosome=Unknown;country=USA: Framingham%2C MA;gbkey=Src;genome=genomic;mol_type=genomic DNA;sex=female\\n']\n",
      "['NW_005871049.1', 'RefSeq', 'region', '1', '39494369', '.', '+', '.', 'ID=id14505;Dbxref=taxon:59463;Name=Unknown;chromosome=Unknown;country=USA: Framingham%2C MA;gbkey=Src;genome=genomic;mol_type=genomic DNA;sex=female\\n']\n",
      "['NW_005871051.1', 'RefSeq', 'region', '1', '30916457', '.', '+', '.', 'ID=id28999;Dbxref=taxon:59463;Name=Unknown;chromosome=Unknown;country=USA: Framingham%2C MA;gbkey=Src;genome=genomic;mol_type=genomic DNA;sex=female\\n']\n",
      "['NW_005871051.1', 'RefSeq', 'region', '1', '30916457', '.', '+', '.', 'ID=id28999;Dbxref=taxon:59463;Name=Unknown;chromosome=Unknown;country=USA: Framingham%2C MA;gbkey=Src;genome=genomic;mol_type=genomic DNA;sex=female\\n']\n",
      "['NW_005871053.1', 'RefSeq', 'region', '1', '20945196', '.', '+', '.', 'ID=id44306;Dbxref=taxon:59463;Name=Unknown;chromosome=Unknown;country=USA: Framingham%2C MA;gbkey=Src;genome=genomic;mol_type=genomic DNA;sex=female\\n']\n",
      "['NW_005871053.1', 'RefSeq', 'region', '1', '20945196', '.', '+', '.', 'ID=id44306;Dbxref=taxon:59463;Name=Unknown;chromosome=Unknown;country=USA: Framingham%2C MA;gbkey=Src;genome=genomic;mol_type=genomic DNA;sex=female\\n']\n",
      "['NW_005871053.1', 'Gnomon', 'gene', '8711696', '8718521', '.', '+', '.', 'ID=gene2288;Dbxref=GeneID:111823427;Name=LOC111823427;gbkey=Gene;gene=LOC111823427;gene_biotype=lncRNA\\n']\n",
      "['NW_005871053.1', 'Gnomon', 'lnc_RNA', '8711696', '8718521', '.', '+', '.', 'ID=rna3891;Parent=gene2288;Dbxref=GeneID:111823427,Genbank:XR_002826443.1;Name=XR_002826443.1;gbkey=ncRNA;gene=LOC111823427;model_evidence=Supporting evidence includes similarity to: 100%25 coverage of the annotated genomic feature by RNAseq alignments%2C including 1 sample with support for all annotated introns;product=uncharacterized LOC111823427;transcript_id=XR_002826443.1\\n']\n",
      "['NW_005871053.1', 'Gnomon', 'gene', '14979316', '15072600', '.', '-', '.', 'ID=gene2361;Dbxref=GeneID:102418508;Name=LOC102418508;gbkey=Gene;gene=LOC102418508;gene_biotype=protein_coding\\n']\n",
      "['NW_005871053.1', 'Gnomon', 'mRNA', '14979316', '15072600', '.', '-', '.', 'ID=rna4040;Parent=gene2361;Dbxref=GeneID:102418508,Genbank:XM_006083188.3;Name=XM_006083188.3;gbkey=mRNA;gene=LOC102418508;model_evidence=Supporting evidence includes similarity to: 6 mRNAs%2C 51 Proteins%2C and 34%25 coverage of the annotated genomic feature by RNAseq alignments;product=sodium channel protein type 2 subunit alpha%2C transcript variant X1;transcript_id=XM_006083188.3\\n']\n",
      "['NW_005871053.1', 'Gnomon', 'mRNA', '14979316', '15072394', '.', '-', '.', 'ID=rna4041;Parent=gene2361;Dbxref=GeneID:102418508,Genbank:XM_006083189.3;Name=XM_006083189.3;gbkey=mRNA;gene=LOC102418508;model_evidence=Supporting evidence includes similarity to: 4 mRNAs%2C 44 Proteins%2C and 33%25 coverage of the annotated genomic feature by RNAseq alignments;product=sodium channel protein type 2 subunit alpha%2C transcript variant X2;transcript_id=XM_006083189.3\\n']\n",
      "['NW_005871056.1', 'RefSeq', 'region', '1', '18579217', '.', '+', '.', 'ID=id61133;Dbxref=taxon:59463;Name=Unknown;chromosome=Unknown;country=USA: Framingham%2C MA;gbkey=Src;genome=genomic;mol_type=genomic DNA;sex=female\\n']\n",
      "['NW_005871059.1', 'RefSeq', 'region', '1', '16239124', '.', '+', '.', 'ID=id75527;Dbxref=taxon:59463;Name=Unknown;chromosome=Unknown;country=USA: Framingham%2C MA;gbkey=Src;genome=genomic;mol_type=genomic DNA;sex=female\\n']\n",
      "['NW_005871062.1', 'RefSeq', 'region', '1', '15274826', '.', '+', '.', 'ID=id85264;Dbxref=taxon:59463;Name=Unknown;chromosome=Unknown;country=USA: Framingham%2C MA;gbkey=Src;genome=genomic;mol_type=genomic DNA;sex=female\\n']\n",
      "['NW_005871062.1', 'Gnomon', 'gene', '7590919', '7653791', '.', '+', '.', 'ID=gene4088;Dbxref=GeneID:102427812;Name=MASP1;gbkey=Gene;gene=MASP1;gene_biotype=protein_coding\\n']\n",
      "['NW_005871062.1', 'Gnomon', 'mRNA', '7590919', '7637874', '.', '+', '.', 'ID=rna7049;Parent=gene4088;Dbxref=GeneID:102427812,Genbank:XM_006084791.3;Name=XM_006084791.3;gbkey=mRNA;gene=MASP1;model_evidence=Supporting evidence includes similarity to: 3 mRNAs%2C 8 Proteins%2C and 99%25 coverage of the annotated genomic feature by RNAseq alignments%2C including 1 sample with support for all annotated introns;product=mannan binding lectin serine peptidase 1%2C transcript variant X1;transcript_id=XM_006084791.3\\n']\n",
      "['NW_005871062.1', 'Gnomon', 'mRNA', '7590957', '7653791', '.', '+', '.', 'ID=rna7050;Parent=gene4088;Dbxref=GeneID:102427812,Genbank:XM_006084792.3;Name=XM_006084792.3;gbkey=mRNA;gene=MASP1;model_evidence=Supporting evidence includes similarity to: 1 mRNA%2C 9 Proteins%2C and 72%25 coverage of the annotated genomic feature by RNAseq alignments;product=mannan binding lectin serine peptidase 1%2C transcript variant X2;transcript_id=XM_006084792.3\\n']\n",
      "['NW_005871073.1', 'RefSeq', 'region', '1', '10646666', '.', '+', '.', 'ID=id114773;Dbxref=taxon:59463;Name=Unknown;chromosome=Unknown;country=USA: Framingham%2C MA;gbkey=Src;genome=genomic;mol_type=genomic DNA;sex=female\\n']\n",
      "['NW_005871076.1', 'RefSeq', 'region', '1', '10643064', '.', '+', '.', 'ID=id119730;Dbxref=taxon:59463;Name=Unknown;chromosome=Unknown;country=USA: Framingham%2C MA;gbkey=Src;genome=genomic;mol_type=genomic DNA;sex=female\\n']\n",
      "['NW_005871076.1', 'Gnomon', 'gene', '3903932', '3912832', '.', '+', '.', 'ID=gene5943;Dbxref=GeneID:102433949;Name=GNPDA1;gbkey=Gene;gene=GNPDA1;gene_biotype=protein_coding\\n']\n",
      "['NW_005871076.1', 'Gnomon', 'mRNA', '3903932', '3912832', '.', '+', '.', 'ID=rna9907;Parent=gene5943;Dbxref=GeneID:102433949,Genbank:XM_006086425.3;Name=XM_006086425.3;gbkey=mRNA;gene=GNPDA1;model_evidence=Supporting evidence includes similarity to: 5 mRNAs%2C 12 Proteins%2C and 100%25 coverage of the annotated genomic feature by RNAseq alignments%2C including 26 samples with support for all annotated introns;product=glucosamine-6-phosphate deaminase 1;transcript_id=XM_006086425.3\\n']\n",
      "['NW_005871083.1', 'RefSeq', 'region', '1', '9082911', '.', '+', '.', 'ID=id133156;Dbxref=taxon:59463;Name=Unknown;chromosome=Unknown;country=USA: Framingham%2C MA;gbkey=Src;genome=genomic;mol_type=genomic DNA;sex=female\\n']\n",
      "['NW_005871083.1', 'Gnomon', 'gene', '3979298', '4208728', '.', '-', '.', 'ID=gene6576;Dbxref=GeneID:102420738;Name=CMIP;gbkey=Gene;gene=CMIP;gene_biotype=protein_coding\\n']\n",
      "['NW_005871083.1', 'Gnomon', 'mRNA', '3979298', '4208728', '.', '-', '.', 'ID=rna11031;Parent=gene6576;Dbxref=GeneID:102420738,Genbank:XM_006087043.3;Name=XM_006087043.3;Note=The sequence of the model RefSeq transcript was modified relative to this genomic sequence to represent the inferred CDS: deleted 1 base in 1 codon;exception=unclassified transcription discrepancy;gbkey=mRNA;gene=CMIP;model_evidence=Supporting evidence includes similarity to: 2 mRNAs%2C 5 Proteins%2C and 99%25 coverage of the annotated genomic feature by RNAseq alignments%2C including 23 samples with support for all annotated introns;product=c-Maf inducing protein;transcript_id=XM_006087043.3\\n']\n",
      "['NW_005871087.1', 'RefSeq', 'region', '1', '8424078', '.', '+', '.', 'ID=id142776;Dbxref=taxon:59463;Name=Unknown;chromosome=Unknown;country=USA: Framingham%2C MA;gbkey=Src;genome=genomic;mol_type=genomic DNA;sex=female\\n']\n",
      "['NW_005871097.1', 'RefSeq', 'region', '1', '7348857', '.', '+', '.', 'ID=id162626;Dbxref=taxon:59463;Name=Unknown;chromosome=Unknown;country=USA: Framingham%2C MA;gbkey=Src;genome=genomic;mol_type=genomic DNA;sex=female\\n']\n",
      "['NW_005871097.1', 'Gnomon', 'gene', '3142067', '3321329', '.', '-', '.', 'ID=gene8121;Dbxref=GeneID:102440988;Name=REPS2;gbkey=Gene;gene=REPS2;gene_biotype=protein_coding\\n']\n",
      "['NW_005871097.1', 'Gnomon', 'mRNA', '3142067', '3321329', '.', '-', '.', 'ID=rna13665;Parent=gene8121;Dbxref=GeneID:102440988,Genbank:XM_023753740.1;Name=XM_023753740.1;gbkey=mRNA;gene=REPS2;model_evidence=Supporting evidence includes similarity to: 1 Protein%2C and 82%25 coverage of the annotated genomic feature by RNAseq alignments;product=RALBP1 associated Eps domain containing 2;transcript_id=XM_023753740.1\\n']\n",
      "['NW_005871100.1', 'RefSeq', 'region', '1', '7058687', '.', '+', '.', 'ID=id166315;Dbxref=taxon:59463;Name=Unknown;chromosome=Unknown;country=USA: Framingham%2C MA;gbkey=Src;genome=genomic;mol_type=genomic DNA;sex=female\\n']\n",
      "['NW_005871109.1', 'RefSeq', 'region', '1', '6495742', '.', '+', '.', 'ID=id181624;Dbxref=taxon:59463;Name=Unknown;chromosome=Unknown;country=USA: Framingham%2C MA;gbkey=Src;genome=genomic;mol_type=genomic DNA;sex=female\\n']\n",
      "['NW_005871109.1', 'Gnomon', 'gene', '1466518', '1571546', '.', '-', '.', 'ID=gene9207;Dbxref=GeneID:102429587;Name=ARNTL;gbkey=Gene;gene=ARNTL;gene_biotype=protein_coding\\n']\n",
      "['NW_005871109.1', 'Gnomon', 'mRNA', '1466518', '1571546', '.', '-', '.', 'ID=rna15437;Parent=gene9207;Dbxref=GeneID:102429587,Genbank:XM_014456589.2;Name=XM_014456589.2;gbkey=mRNA;gene=ARNTL;model_evidence=Supporting evidence includes similarity to: 2 mRNAs%2C 7 Proteins%2C and 100%25 coverage of the annotated genomic feature by RNAseq alignments%2C including 5 samples with support for all annotated introns;product=aryl hydrocarbon receptor nuclear translocator like%2C transcript variant X5;transcript_id=XM_014456589.2\\n']\n",
      "['NW_005871109.1', 'Gnomon', 'mRNA', '1466518', '1571546', '.', '-', '.', 'ID=rna15438;Parent=gene9207;Dbxref=GeneID:102429587,Genbank:XM_014456592.2;Name=XM_014456592.2;gbkey=mRNA;gene=ARNTL;model_evidence=Supporting evidence includes similarity to: 9 Proteins%2C and 100%25 coverage of the annotated genomic feature by RNAseq alignments%2C including 8 samples with support for all annotated introns;product=aryl hydrocarbon receptor nuclear translocator like%2C transcript variant X8;transcript_id=XM_014456592.2\\n']\n",
      "['NW_005871109.1', 'Gnomon', 'mRNA', '1466518', '1571546', '.', '-', '.', 'ID=rna15439;Parent=gene9207;Dbxref=GeneID:102429587,Genbank:XM_014456591.2;Name=XM_014456591.2;gbkey=mRNA;gene=ARNTL;model_evidence=Supporting evidence includes similarity to: 2 mRNAs%2C 13 Proteins%2C and 100%25 coverage of the annotated genomic feature by RNAseq alignments%2C including 9 samples with support for all annotated introns;product=aryl hydrocarbon receptor nuclear translocator like%2C transcript variant X7;transcript_id=XM_014456591.2\\n']\n",
      "['NW_005871109.1', 'Gnomon', 'mRNA', '1466518', '1571546', '.', '-', '.', 'ID=rna15440;Parent=gene9207;Dbxref=GeneID:102429587,Genbank:XM_023754517.1;Name=XM_023754517.1;gbkey=mRNA;gene=ARNTL;model_evidence=Supporting evidence includes similarity to: 2 Proteins%2C and 100%25 coverage of the annotated genomic feature by RNAseq alignments%2C including 10 samples with support for all annotated introns;product=aryl hydrocarbon receptor nuclear translocator like%2C transcript variant X9;transcript_id=XM_023754517.1\\n']\n",
      "['NW_005871109.1', 'Gnomon', 'mRNA', '1466518', '1571546', '.', '-', '.', 'ID=rna15441;Parent=gene9207;Dbxref=GeneID:102429587,Genbank:XM_014456590.2;Name=XM_014456590.2;gbkey=mRNA;gene=ARNTL;model_evidence=Supporting evidence includes similarity to: 8 Proteins%2C and 100%25 coverage of the annotated genomic feature by RNAseq alignments%2C including 10 samples with support for all annotated introns;product=aryl hydrocarbon receptor nuclear translocator like%2C transcript variant X6;transcript_id=XM_014456590.2\\n']\n",
      "['NW_005871109.1', 'Gnomon', 'mRNA', '1466518', '1571546', '.', '-', '.', 'ID=rna15442;Parent=gene9207;Dbxref=GeneID:102429587,Genbank:XM_014456593.2;Name=XM_014456593.2;gbkey=mRNA;gene=ARNTL;model_evidence=Supporting evidence includes similarity to: 1 Protein%2C and 100%25 coverage of the annotated genomic feature by RNAseq alignments%2C including 12 samples with support for all annotated introns;product=aryl hydrocarbon receptor nuclear translocator like%2C transcript variant X11;transcript_id=XM_014456593.2\\n']\n",
      "['NW_005871109.1', 'Gnomon', 'mRNA', '1466518', '1571546', '.', '-', '.', 'ID=rna15443;Parent=gene9207;Dbxref=GeneID:102429587,Genbank:XM_014456586.2;Name=XM_014456586.2;gbkey=mRNA;gene=ARNTL;model_evidence=Supporting evidence includes similarity to: 2 mRNAs%2C 7 Proteins%2C and 100%25 coverage of the annotated genomic feature by RNAseq alignments%2C including 12 samples with support for all annotated introns;product=aryl hydrocarbon receptor nuclear translocator like%2C transcript variant X1;transcript_id=XM_014456586.2\\n']\n",
      "['NW_005871109.1', 'Gnomon', 'mRNA', '1466518', '1571546', '.', '-', '.', 'ID=rna15444;Parent=gene9207;Dbxref=GeneID:102429587,Genbank:XM_014456588.2;Name=XM_014456588.2;gbkey=mRNA;gene=ARNTL;model_evidence=Supporting evidence includes similarity to: 2 mRNAs%2C 7 Proteins%2C and 100%25 coverage of the annotated genomic feature by RNAseq alignments%2C including 5 samples with support for all annotated introns;product=aryl hydrocarbon receptor nuclear translocator like%2C transcript variant X4;transcript_id=XM_014456588.2\\n']\n",
      "['NW_005871109.1', 'Gnomon', 'mRNA', '1466518', '1571546', '.', '-', '.', 'ID=rna15445;Parent=gene9207;Dbxref=GeneID:102429587,Genbank:XM_006089587.3;Name=XM_006089587.3;gbkey=mRNA;gene=ARNTL;model_evidence=Supporting evidence includes similarity to: 2 mRNAs%2C 7 Proteins%2C and 100%25 coverage of the annotated genomic feature by RNAseq alignments%2C including 4 samples with support for all annotated introns;product=aryl hydrocarbon receptor nuclear translocator like%2C transcript variant X2;transcript_id=XM_006089587.3\\n']\n",
      "['NW_005871109.1', 'Gnomon', 'mRNA', '1466518', '1503619', '.', '-', '.', 'ID=rna15446;Parent=gene9207;Dbxref=GeneID:102429587,Genbank:XM_023754516.1;Name=XM_023754516.1;gbkey=mRNA;gene=ARNTL;model_evidence=Supporting evidence includes similarity to: 2 mRNAs%2C 7 Proteins%2C and 100%25 coverage of the annotated genomic feature by RNAseq alignments%2C including 6 samples with support for all annotated introns;product=aryl hydrocarbon receptor nuclear translocator like%2C transcript variant X3;transcript_id=XM_023754516.1\\n']\n",
      "['NW_005871109.1', 'Gnomon', 'mRNA', '1469463', '1571546', '.', '-', '.', 'ID=rna15448;Parent=gene9207;Dbxref=GeneID:102429587,Genbank:XM_023754518.1;Name=XM_023754518.1;gbkey=mRNA;gene=ARNTL;model_evidence=Supporting evidence includes similarity to: 1 Protein%2C and 100%25 coverage of the annotated genomic feature by RNAseq alignments%2C including 3 samples with support for all annotated introns;product=aryl hydrocarbon receptor nuclear translocator like%2C transcript variant X10;transcript_id=XM_023754518.1\\n']\n"
     ]
    },
    {
     "name": "stdout",
     "output_type": "stream",
     "text": [
      "['NW_005871122.1', 'RefSeq', 'region', '1', '5136827', '.', '+', '.', 'ID=id201139;Dbxref=taxon:59463;Name=Unknown;chromosome=Unknown;country=USA: Framingham%2C MA;gbkey=Src;genome=genomic;mol_type=genomic DNA;sex=female\\n']\n",
      "['NW_005871122.1', 'RefSeq', 'region', '1', '5136827', '.', '+', '.', 'ID=id201139;Dbxref=taxon:59463;Name=Unknown;chromosome=Unknown;country=USA: Framingham%2C MA;gbkey=Src;genome=genomic;mol_type=genomic DNA;sex=female\\n']\n",
      "['NW_005871122.1', 'Gnomon', 'gene', '3434412', '3529751', '.', '-', '.', 'ID=gene10137;Dbxref=GeneID:102437398;Name=PCDH17;gbkey=Gene;gene=PCDH17;gene_biotype=protein_coding\\n']\n",
      "['NW_005871122.1', 'Gnomon', 'mRNA', '3434412', '3529751', '.', '-', '.', 'ID=rna17052;Parent=gene10137;Dbxref=GeneID:102437398,Genbank:XM_006090529.3;Name=XM_006090529.3;gbkey=mRNA;gene=PCDH17;model_evidence=Supporting evidence includes similarity to: 2 mRNAs%2C 5 Proteins%2C and 95%25 coverage of the annotated genomic feature by RNAseq alignments;product=protocadherin 17;transcript_id=XM_006090529.3\\n']\n",
      "['NW_005871123.1', 'RefSeq', 'region', '1', '5160323', '.', '+', '.', 'ID=id201293;Dbxref=taxon:59463;Name=Unknown;chromosome=Unknown;country=USA: Framingham%2C MA;gbkey=Src;genome=genomic;mol_type=genomic DNA;sex=female\\n']\n",
      "['NW_005871129.1', 'RefSeq', 'region', '1', '4918922', '.', '+', '.', 'ID=id207190;Dbxref=taxon:59463;Name=Unknown;chromosome=Unknown;country=USA: Framingham%2C MA;gbkey=Src;genome=genomic;mol_type=genomic DNA;sex=female\\n']\n",
      "['NW_005871129.1', 'Gnomon', 'gene', '2123766', '3029105', '.', '-', '.', 'ID=gene10442;Dbxref=GeneID:102423892;Name=MDGA2;gbkey=Gene;gene=MDGA2;gene_biotype=protein_coding\\n']\n",
      "['NW_005871129.1', 'Gnomon', 'mRNA', '2123766', '3029105', '.', '-', '.', 'ID=rna17512;Parent=gene10442;Dbxref=GeneID:102423892,Genbank:XM_006090751.3;Name=XM_006090751.3;gbkey=mRNA;gene=MDGA2;model_evidence=Supporting evidence includes similarity to: 5 mRNAs%2C 5 Proteins%2C and 17%25 coverage of the annotated genomic feature by RNAseq alignments;product=MAM domain containing glycosylphosphatidylinositol anchor 2%2C transcript variant X1;transcript_id=XM_006090751.3\\n']\n",
      "['NW_005871129.1', 'Gnomon', 'mRNA', '2123766', '2635771', '.', '-', '.', 'ID=rna17513;Parent=gene10442;Dbxref=GeneID:102423892,Genbank:XM_006090753.2;Name=XM_006090753.2;gbkey=mRNA;gene=MDGA2;model_evidence=Supporting evidence includes similarity to: 5 mRNAs%2C 1 Protein%2C and 9%25 coverage of the annotated genomic feature by RNAseq alignments;product=MAM domain containing glycosylphosphatidylinositol anchor 2%2C transcript variant X2;transcript_id=XM_006090753.2\\n']\n",
      "['NW_005871136.1', 'RefSeq', 'region', '1', '4679154', '.', '+', '.', 'ID=id215563;Dbxref=taxon:59463;Name=Unknown;chromosome=Unknown;country=USA: Framingham%2C MA;gbkey=Src;genome=genomic;mol_type=genomic DNA;sex=female\\n']\n",
      "['NW_005871136.1', 'Gnomon', 'gene', '4372562', '4411869', '.', '-', '.', 'ID=gene10904;Dbxref=GeneID:102426505;Name=FA2H;gbkey=Gene;gene=FA2H;gene_biotype=protein_coding\\n']\n",
      "['NW_005871136.1', 'Gnomon', 'mRNA', '4372562', '4411869', '.', '-', '.', 'ID=rna18385;Parent=gene10904;Dbxref=GeneID:102426505,Genbank:XM_006091226.3;Name=XM_006091226.3;gbkey=mRNA;gene=FA2H;model_evidence=Supporting evidence includes similarity to: 4 Proteins%2C and 100%25 coverage of the annotated genomic feature by RNAseq alignments%2C including 4 samples with support for all annotated introns;product=fatty acid 2-hydroxylase;transcript_id=XM_006091226.3\\n']\n",
      "['NW_005871140.1', 'RefSeq', 'region', '1', '4592439', '.', '+', '.', 'ID=id224920;Dbxref=taxon:59463;Name=Unknown;chromosome=Unknown;country=USA: Framingham%2C MA;gbkey=Src;genome=genomic;mol_type=genomic DNA;sex=female\\n']\n",
      "['NW_005871142.1', 'RefSeq', 'region', '1', '4514962', '.', '+', '.', 'ID=id226172;Dbxref=taxon:59463;Name=Unknown;chromosome=Unknown;country=USA: Framingham%2C MA;gbkey=Src;genome=genomic;mol_type=genomic DNA;sex=female\\n']\n",
      "['NW_005871142.1', 'RefSeq', 'region', '1', '4514962', '.', '+', '.', 'ID=id226172;Dbxref=taxon:59463;Name=Unknown;chromosome=Unknown;country=USA: Framingham%2C MA;gbkey=Src;genome=genomic;mol_type=genomic DNA;sex=female\\n']\n",
      "['NW_005871142.1', 'Gnomon', 'gene', '263205', '312860', '.', '+', '.', 'ID=gene11267;Dbxref=GeneID:102442682;Name=ADCY3;gbkey=Gene;gene=ADCY3;gene_biotype=protein_coding\\n']\n",
      "['NW_005871142.1', 'Gnomon', 'mRNA', '263205', '312362', '.', '+', '.', 'ID=rna19111;Parent=gene11267;Dbxref=GeneID:102442682,Genbank:XM_006091691.3;Name=XM_006091691.3;gbkey=mRNA;gene=ADCY3;model_evidence=Supporting evidence includes similarity to: 5 mRNAs%2C 10 Proteins%2C and 99%25 coverage of the annotated genomic feature by RNAseq alignments%2C including 1 sample with support for all annotated introns;product=adenylate cyclase 3%2C transcript variant X1;transcript_id=XM_006091691.3\\n']\n",
      "['NW_005871142.1', 'Gnomon', 'mRNA', '263528', '312860', '.', '+', '.', 'ID=rna19112;Parent=gene11267;Dbxref=GeneID:102442682,Genbank:XM_023756431.1;Name=XM_023756431.1;gbkey=mRNA;gene=ADCY3;model_evidence=Supporting evidence includes similarity to: 5 mRNAs%2C 10 Proteins%2C and 99%25 coverage of the annotated genomic feature by RNAseq alignments%2C including 14 samples with support for all annotated introns;product=adenylate cyclase 3%2C transcript variant X2;transcript_id=XM_023756431.1\\n']\n",
      "['NW_005871148.1', 'RefSeq', 'region', '1', '4444721', '.', '+', '.', 'ID=id238203;Dbxref=taxon:59463;Name=Unknown;chromosome=Unknown;country=USA: Framingham%2C MA;gbkey=Src;genome=genomic;mol_type=genomic DNA;sex=female\\n']\n",
      "['NW_005871148.1', 'Gnomon', 'gene', '2560994', '2842740', '.', '-', '.', 'ID=gene11898;Dbxref=GeneID:102438113;Name=CEP112;gbkey=Gene;gene=CEP112;gene_biotype=protein_coding\\n']\n",
      "['NW_005871148.1', 'Gnomon', 'mRNA', '2560994', '2842740', '.', '-', '.', 'ID=rna20342;Parent=gene11898;Dbxref=GeneID:102438113,Genbank:XM_014458887.2;Name=XM_014458887.2;gbkey=mRNA;gene=CEP112;model_evidence=Supporting evidence includes similarity to: 2 Proteins%2C and 100%25 coverage of the annotated genomic feature by RNAseq alignments;product=centrosomal protein 112;transcript_id=XM_014458887.2\\n']\n",
      "['NW_005871152.1', 'RefSeq', 'region', '1', '4256317', '.', '+', '.', 'ID=id248686;Dbxref=taxon:59463;Name=Unknown;chromosome=Unknown;country=USA: Framingham%2C MA;gbkey=Src;genome=genomic;mol_type=genomic DNA;sex=female\\n']\n",
      "['NW_005871160.1', 'RefSeq', 'region', '1', '4019553', '.', '+', '.', 'ID=id259229;Dbxref=taxon:59463;Name=Unknown;chromosome=Unknown;country=USA: Framingham%2C MA;gbkey=Src;genome=genomic;mol_type=genomic DNA;sex=female\\n']\n",
      "['NW_005871166.1', 'RefSeq', 'region', '1', '3905128', '.', '+', '.', 'ID=id263990;Dbxref=taxon:59463;Name=Unknown;chromosome=Unknown;country=USA: Framingham%2C MA;gbkey=Src;genome=genomic;mol_type=genomic DNA;sex=female\\n']\n",
      "['NW_005871166.1', 'RefSeq', 'region', '1', '3905128', '.', '+', '.', 'ID=id263990;Dbxref=taxon:59463;Name=Unknown;chromosome=Unknown;country=USA: Framingham%2C MA;gbkey=Src;genome=genomic;mol_type=genomic DNA;sex=female\\n']\n",
      "['NW_005871166.1', 'RefSeq', 'region', '1', '3905128', '.', '+', '.', 'ID=id263990;Dbxref=taxon:59463;Name=Unknown;chromosome=Unknown;country=USA: Framingham%2C MA;gbkey=Src;genome=genomic;mol_type=genomic DNA;sex=female\\n']\n",
      "['NW_005871169.1', 'RefSeq', 'region', '1', '3838405', '.', '+', '.', 'ID=id267292;Dbxref=taxon:59463;Name=Unknown;chromosome=Unknown;country=USA: Framingham%2C MA;gbkey=Src;genome=genomic;mol_type=genomic DNA;sex=female\\n']\n",
      "['NW_005871177.1', 'RefSeq', 'region', '1', '3690467', '.', '+', '.', 'ID=id275767;Dbxref=taxon:59463;Name=Unknown;chromosome=Unknown;country=USA: Framingham%2C MA;gbkey=Src;genome=genomic;mol_type=genomic DNA;sex=female\\n']\n",
      "['NW_005871187.1', 'RefSeq', 'region', '1', '3538212', '.', '+', '.', 'ID=id285453;Dbxref=taxon:59463;Name=Unknown;chromosome=Unknown;country=USA: Framingham%2C MA;gbkey=Src;genome=genomic;mol_type=genomic DNA;sex=female\\n']\n",
      "['NW_005871187.1', 'Gnomon', 'gene', '1853352', '1968511', '.', '+', '.', 'ID=gene14209;Dbxref=GeneID:111827161;Name=LOC111827161;gbkey=Gene;gene=LOC111827161;gene_biotype=lncRNA\\n']\n",
      "['NW_005871187.1', 'Gnomon', 'lnc_RNA', '1853352', '1968511', '.', '+', '.', 'ID=rna24334;Parent=gene14209;Dbxref=GeneID:111827161,Genbank:XR_002830677.1;Name=XR_002830677.1;gbkey=ncRNA;gene=LOC111827161;model_evidence=Supporting evidence includes similarity to: 100%25 coverage of the annotated genomic feature by RNAseq alignments;product=uncharacterized LOC111827161;transcript_id=XR_002830677.1\\n']\n",
      "['NW_005871191.1', 'RefSeq', 'region', '1', '3403133', '.', '+', '.', 'ID=id287356;Dbxref=taxon:59463;Name=Unknown;chromosome=Unknown;country=USA: Framingham%2C MA;gbkey=Src;genome=genomic;mol_type=genomic DNA;sex=female\\n']\n",
      "['NW_005871191.1', 'Gnomon', 'gene', '2216577', '2888781', '.', '-', '.', 'ID=gene14416;Dbxref=GeneID:102435969;Name=NELL1;gbkey=Gene;gene=NELL1;gene_biotype=protein_coding\\n']\n",
      "['NW_005871191.1', 'Gnomon', 'mRNA', '2216577', '2888781', '.', '-', '.', 'ID=rna24556;Parent=gene14416;Dbxref=GeneID:102435969,Genbank:XM_023758901.1;Name=XM_023758901.1;gbkey=mRNA;gene=NELL1;model_evidence=Supporting evidence includes similarity to: 11 Proteins%2C and 94%25 coverage of the annotated genomic feature by RNAseq alignments;product=neural EGFL like 1;transcript_id=XM_023758901.1\\n']\n",
      "['NW_005871208.1', 'RefSeq', 'region', '1', '3092412', '.', '+', '.', 'ID=id304554;Dbxref=taxon:59463;Name=Unknown;chromosome=Unknown;country=USA: Framingham%2C MA;gbkey=Src;genome=genomic;mol_type=genomic DNA;sex=female\\n']\n",
      "['NW_005871210.1', 'RefSeq', 'region', '1', '3019976', '.', '+', '.', 'ID=id307691;Dbxref=taxon:59463;Name=Unknown;chromosome=Unknown;country=USA: Framingham%2C MA;gbkey=Src;genome=genomic;mol_type=genomic DNA;sex=female\\n']\n"
     ]
    },
    {
     "name": "stdout",
     "output_type": "stream",
     "text": [
      "['NW_005871210.1', 'Gnomon', 'gene', '2499532', '3006516', '.', '+', '.', 'ID=gene15442;Dbxref=GeneID:102425362;Name=SORCS3;gbkey=Gene;gene=SORCS3;gene_biotype=protein_coding\\n']\n",
      "['NW_005871210.1', 'Gnomon', 'mRNA', '2499532', '3006516', '.', '+', '.', 'ID=rna26668;Parent=gene15442;Dbxref=GeneID:102425362,Genbank:XM_006095936.3;Name=XM_006095936.3;gbkey=mRNA;gene=SORCS3;model_evidence=Supporting evidence includes similarity to: 4 mRNAs%2C 11 Proteins%2C and 30%25 coverage of the annotated genomic feature by RNAseq alignments;product=sortilin related VPS10 domain containing receptor 3;transcript_id=XM_006095936.3\\n']\n",
      "['NW_005871219.1', 'RefSeq', 'region', '1', '2865968', '.', '+', '.', 'ID=id315315;Dbxref=taxon:59463;Name=Unknown;chromosome=Unknown;country=USA: Framingham%2C MA;gbkey=Src;genome=genomic;mol_type=genomic DNA;sex=female\\n']\n",
      "['NW_005871228.1', 'RefSeq', 'region', '1', '2723584', '.', '+', '.', 'ID=id320747;Dbxref=taxon:59463;Name=Unknown;chromosome=Unknown;country=USA: Framingham%2C MA;gbkey=Src;genome=genomic;mol_type=genomic DNA;sex=female\\n']\n",
      "['NW_005871236.1', 'RefSeq', 'region', '1', '2551290', '.', '+', '.', 'ID=id327813;Dbxref=taxon:59463;Name=Unknown;chromosome=Unknown;country=USA: Framingham%2C MA;gbkey=Src;genome=genomic;mol_type=genomic DNA;sex=female\\n']\n",
      "['NW_005871243.1', 'RefSeq', 'region', '1', '2513712', '.', '+', '.', 'ID=id331702;Dbxref=taxon:59463;Name=Unknown;chromosome=Unknown;country=USA: Framingham%2C MA;gbkey=Src;genome=genomic;mol_type=genomic DNA;sex=female\\n']\n",
      "['NW_005871246.1', 'RefSeq', 'region', '1', '2532579', '.', '+', '.', 'ID=id335396;Dbxref=taxon:59463;Name=Unknown;chromosome=Unknown;country=USA: Framingham%2C MA;gbkey=Src;genome=genomic;mol_type=genomic DNA;sex=female\\n']\n",
      "['NW_005871246.1', 'Gnomon', 'gene', '1936775', '1992192', '.', '-', '.', 'ID=gene16883;Dbxref=GeneID:102429022;Name=CBFA2T3;gbkey=Gene;gene=CBFA2T3;gene_biotype=protein_coding\\n']\n",
      "['NW_005871246.1', 'Gnomon', 'mRNA', '1936775', '1992192', '.', '-', '.', 'ID=rna29149;Parent=gene16883;Dbxref=GeneID:102429022,Genbank:XM_006097355.3;Name=XM_006097355.3;gbkey=mRNA;gene=CBFA2T3;model_evidence=Supporting evidence includes similarity to: 2 mRNAs%2C 1 Protein%2C and 99%25 coverage of the annotated genomic feature by RNAseq alignments;product=CBFA2/RUNX1 translocation partner 3;transcript_id=XM_006097355.3\\n']\n",
      "['NW_005871250.1', 'RefSeq', 'region', '1', '2370814', '.', '+', '.', 'ID=id338256;Dbxref=taxon:59463;Name=Unknown;chromosome=Unknown;country=USA: Framingham%2C MA;gbkey=Src;genome=genomic;mol_type=genomic DNA;sex=female\\n']\n",
      "['NW_005871263.1', 'RefSeq', 'region', '1', '2259905', '.', '+', '.', 'ID=id349927;Dbxref=taxon:59463;Name=Unknown;chromosome=Unknown;country=USA: Framingham%2C MA;gbkey=Src;genome=genomic;mol_type=genomic DNA;sex=female\\n']\n",
      "['NW_005871279.1', 'RefSeq', 'region', '1', '1996049', '.', '+', '.', 'ID=id357671;Dbxref=taxon:59463;Name=Unknown;chromosome=Unknown;country=USA: Framingham%2C MA;gbkey=Src;genome=genomic;mol_type=genomic DNA;sex=female\\n']\n",
      "['NW_005871289.1', 'RefSeq', 'region', '1', '1901218', '.', '+', '.', 'ID=id361809;Dbxref=taxon:59463;Name=Unknown;chromosome=Unknown;country=USA: Framingham%2C MA;gbkey=Src;genome=genomic;mol_type=genomic DNA;sex=female\\n']\n",
      "['NW_005871299.1', 'RefSeq', 'region', '1', '1811804', '.', '+', '.', 'ID=id366663;Dbxref=taxon:59463;Name=Unknown;chromosome=Unknown;country=USA: Framingham%2C MA;gbkey=Src;genome=genomic;mol_type=genomic DNA;sex=female\\n']\n",
      "['NW_005871310.1', 'RefSeq', 'region', '1', '1841132', '.', '+', '.', 'ID=id371601;Dbxref=taxon:59463;Name=Unknown;chromosome=Unknown;country=USA: Framingham%2C MA;gbkey=Src;genome=genomic;mol_type=genomic DNA;sex=female\\n']\n",
      "['NW_005871310.1', 'Gnomon', 'gene', '1634027', '1669272', '.', '-', '.', 'ID=gene18766;Dbxref=GeneID:102443128;Name=GEMIN4;gbkey=Gene;gene=GEMIN4;gene_biotype=protein_coding\\n']\n",
      "['NW_005871310.1', 'Gnomon', 'mRNA', '1653940', '1669272', '.', '-', '.', 'ID=rna32507;Parent=gene18766;Dbxref=GeneID:102443128,Genbank:XM_023762809.1;Name=XM_023762809.1;gbkey=mRNA;gene=GEMIN4;model_evidence=Supporting evidence includes similarity to: 1 Protein%2C and 100%25 coverage of the annotated genomic feature by RNAseq alignments%2C including 8 samples with support for all annotated introns;product=gem nuclear organelle associated protein 4%2C transcript variant X2;transcript_id=XM_023762809.1\\n']\n",
      "['NW_005871310.1', 'Gnomon', 'gene', '1661352', '1661854', '.', '+', '.', 'ID=gene18768;Dbxref=GeneID:102421410;Name=LOC102421410;gbkey=Gene;gene=LOC102421410;gene_biotype=protein_coding\\n']\n",
      "['NW_005871310.1', 'Gnomon', 'mRNA', '1661352', '1661854', '.', '+', '.', 'ID=rna32510;Parent=gene18768;Dbxref=GeneID:102421410,Genbank:XM_023762812.1;Name=XM_023762812.1;gbkey=mRNA;gene=LOC102421410;model_evidence=Supporting evidence includes similarity to: 2 Proteins%2C and 100%25 coverage of the annotated genomic feature by RNAseq alignments;product=diazepam-binding inhibitor-like 5;transcript_id=XM_023762812.1\\n']\n",
      "['NW_005871310.1', 'Gnomon', 'exon', '1661352', '1661854', '.', '+', '.', 'ID=id372990;Parent=rna32510;Dbxref=GeneID:102421410,Genbank:XM_023762812.1;gbkey=mRNA;gene=LOC102421410;product=diazepam-binding inhibitor-like 5;transcript_id=XM_023762812.1\\n']\n",
      "['NW_005871317.1', 'RefSeq', 'region', '1', '1687824', '.', '+', '.', 'ID=id375042;Dbxref=taxon:59463;Name=Unknown;chromosome=Unknown;country=USA: Framingham%2C MA;gbkey=Src;genome=genomic;mol_type=genomic DNA;sex=female\\n']\n",
      "['NW_005871317.1', 'Gnomon', 'gene', '600265', '653579', '.', '-', '.', 'ID=gene18869;Dbxref=GeneID:102428308;Name=KREMEN1;gbkey=Gene;gene=KREMEN1;gene_biotype=protein_coding\\n']\n",
      "['NW_005871317.1', 'Gnomon', 'mRNA', '600265', '653579', '.', '-', '.', 'ID=rna32702;Parent=gene18869;Dbxref=GeneID:102428308,Genbank:XM_023762932.1;Name=XM_023762932.1;gbkey=mRNA;gene=KREMEN1;model_evidence=Supporting evidence includes similarity to: 1 Protein%2C and 100%25 coverage of the annotated genomic feature by RNAseq alignments%2C including 4 samples with support for all annotated introns;product=kringle containing transmembrane protein 1%2C transcript variant X1;transcript_id=XM_023762932.1\\n']\n",
      "['NW_005871317.1', 'Gnomon', 'mRNA', '600265', '653575', '.', '-', '.', 'ID=rna32703;Parent=gene18869;Dbxref=GeneID:102428308,Genbank:XM_023762933.1;Name=XM_023762933.1;gbkey=mRNA;gene=KREMEN1;model_evidence=Supporting evidence includes similarity to: 100%25 coverage of the annotated genomic feature by RNAseq alignments%2C including 4 samples with support for all annotated introns;product=kringle containing transmembrane protein 1%2C transcript variant X2;transcript_id=XM_023762933.1\\n']\n",
      "['NW_005871382.1', 'RefSeq', 'region', '1', '1180006', '.', '+', '.', 'ID=id412464;Dbxref=taxon:59463;Name=Unknown;chromosome=Unknown;country=USA: Framingham%2C MA;gbkey=Src;genome=genomic;mol_type=genomic DNA;sex=female\\n']\n",
      "['NW_005871402.1', 'RefSeq', 'region', '1', '1199787', '.', '+', '.', 'ID=id420521;Dbxref=taxon:59463;Name=Unknown;chromosome=Unknown;country=USA: Framingham%2C MA;gbkey=Src;genome=genomic;mol_type=genomic DNA;sex=female\\n']\n",
      "['NW_005871409.1', 'RefSeq', 'region', '1', '1211147', '.', '+', '.', 'ID=id422448;Dbxref=taxon:59463;Name=Unknown;chromosome=Unknown;country=USA: Framingham%2C MA;gbkey=Src;genome=genomic;mol_type=genomic DNA;sex=female\\n']\n",
      "['NW_005871413.1', 'RefSeq', 'region', '1', '1152308', '.', '+', '.', 'ID=id422894;Dbxref=taxon:59463;Name=Unknown;chromosome=Unknown;country=USA: Framingham%2C MA;gbkey=Src;genome=genomic;mol_type=genomic DNA;sex=female\\n']\n",
      "['NW_005871437.1', 'RefSeq', 'region', '1', '1012336', '.', '+', '.', 'ID=id432624;Dbxref=taxon:59463;Name=Unknown;chromosome=Unknown;country=USA: Framingham%2C MA;gbkey=Src;genome=genomic;mol_type=genomic DNA;sex=female\\n']\n",
      "['NW_005871439.1', 'RefSeq', 'region', '1', '978231', '.', '+', '.', 'ID=id433565;Dbxref=taxon:59463;Name=Unknown;chromosome=Unknown;country=USA: Framingham%2C MA;gbkey=Src;genome=genomic;mol_type=genomic DNA;sex=female\\n']\n",
      "['NW_005871447.1', 'RefSeq', 'region', '1', '1004160', '.', '+', '.', 'ID=id435422;Dbxref=taxon:59463;Name=Unknown;chromosome=Unknown;country=USA: Framingham%2C MA;gbkey=Src;genome=genomic;mol_type=genomic DNA;sex=female\\n']\n",
      "['NW_005871520.1', 'RefSeq', 'region', '1', '710619', '.', '+', '.', 'ID=id456862;Dbxref=taxon:59463;Name=Unknown;chromosome=Unknown;country=USA: Framingham%2C MA;gbkey=Src;genome=genomic;mol_type=genomic DNA;sex=female\\n']\n",
      "['NW_005871520.1', 'RefSeq', 'region', '1', '710619', '.', '+', '.', 'ID=id456862;Dbxref=taxon:59463;Name=Unknown;chromosome=Unknown;country=USA: Framingham%2C MA;gbkey=Src;genome=genomic;mol_type=genomic DNA;sex=female\\n']\n",
      "['NW_005871552.1', 'RefSeq', 'region', '1', '601910', '.', '+', '.', 'ID=id465901;Dbxref=taxon:59463;Name=Unknown;chromosome=Unknown;country=USA: Framingham%2C MA;gbkey=Src;genome=genomic;mol_type=genomic DNA;sex=female\\n']\n",
      "['NW_005871552.1', 'RefSeq', 'region', '1', '601910', '.', '+', '.', 'ID=id465901;Dbxref=taxon:59463;Name=Unknown;chromosome=Unknown;country=USA: Framingham%2C MA;gbkey=Src;genome=genomic;mol_type=genomic DNA;sex=female\\n']\n",
      "['NW_005871552.1', 'Gnomon', 'gene', '220806', '409594', '.', '-', '.', 'ID=gene23550;Dbxref=GeneID:102419356;Name=MKL2;gbkey=Gene;gene=MKL2;gene_biotype=protein_coding\\n']\n",
      "['NW_005871552.1', 'Gnomon', 'mRNA', '220806', '409594', '.', '-', '.', 'ID=rna40893;Parent=gene23550;Dbxref=GeneID:102419356,Genbank:XM_023744978.1;Name=XM_023744978.1;gbkey=mRNA;gene=MKL2;model_evidence=Supporting evidence includes similarity to: 3 mRNAs%2C 7 Proteins%2C and 100%25 coverage of the annotated genomic feature by RNAseq alignments%2C including 5 samples with support for all annotated introns;product=MKL1/myocardin like 2%2C transcript variant X2;transcript_id=XM_023744978.1\\n']\n",
      "['NW_005871552.1', 'Gnomon', 'mRNA', '220806', '409594', '.', '-', '.', 'ID=rna40894;Parent=gene23550;Dbxref=GeneID:102419356,Genbank:XM_023744982.1;Name=XM_023744982.1;gbkey=mRNA;gene=MKL2;model_evidence=Supporting evidence includes similarity to: 2 Proteins%2C and 100%25 coverage of the annotated genomic feature by RNAseq alignments%2C including 3 samples with support for all annotated introns;product=MKL1/myocardin like 2%2C transcript variant X8;transcript_id=XM_023744982.1\\n']\n",
      "['NW_005871552.1', 'Gnomon', 'transcript', '220806', '409594', '.', '-', '.', 'ID=rna40895;Parent=gene23550;Dbxref=GeneID:102419356,Genbank:XR_002826495.1;Name=XR_002826495.1;gbkey=misc_RNA;gene=MKL2;model_evidence=Supporting evidence includes similarity to: 3 mRNAs%2C 7 Proteins%2C and 100%25 coverage of the annotated genomic feature by RNAseq alignments%2C including 2 samples with support for all annotated introns;product=MKL1/myocardin like 2%2C transcript variant X5;transcript_id=XR_002826495.1\\n']\n",
      "['NW_005871552.1', 'Gnomon', 'mRNA', '220806', '409594', '.', '-', '.', 'ID=rna40896;Parent=gene23550;Dbxref=GeneID:102419356,Genbank:XM_014446123.2;Name=XM_014446123.2;gbkey=mRNA;gene=MKL2;model_evidence=Supporting evidence includes similarity to: 3 mRNAs%2C 7 Proteins%2C and 100%25 coverage of the annotated genomic feature by RNAseq alignments%2C including 2 samples with support for all annotated introns;product=MKL1/myocardin like 2%2C transcript variant X1;transcript_id=XM_014446123.2\\n']\n",
      "['NW_005871552.1', 'Gnomon', 'mRNA', '220806', '409594', '.', '-', '.', 'ID=rna40897;Parent=gene23550;Dbxref=GeneID:102419356,Genbank:XM_023744979.1;Name=XM_023744979.1;gbkey=mRNA;gene=MKL2;model_evidence=Supporting evidence includes similarity to: 3 mRNAs%2C 7 Proteins%2C and 100%25 coverage of the annotated genomic feature by RNAseq alignments;product=MKL1/myocardin like 2%2C transcript variant X3;transcript_id=XM_023744979.1\\n']\n",
      "['NW_005871552.1', 'Gnomon', 'mRNA', '220806', '398116', '.', '-', '.', 'ID=rna40898;Parent=gene23550;Dbxref=GeneID:102419356,Genbank:XM_023744981.1;Name=XM_023744981.1;gbkey=mRNA;gene=MKL2;model_evidence=Supporting evidence includes similarity to: 3 mRNAs%2C 7 Proteins%2C and 100%25 coverage of the annotated genomic feature by RNAseq alignments%2C including 1 sample with support for all annotated introns;product=MKL1/myocardin like 2%2C transcript variant X6;transcript_id=XM_023744981.1\\n']\n",
      "['NW_005871552.1', 'Gnomon', 'mRNA', '220806', '398116', '.', '-', '.', 'ID=rna40899;Parent=gene23550;Dbxref=GeneID:102419356,Genbank:XM_023744980.1;Name=XM_023744980.1;gbkey=mRNA;gene=MKL2;model_evidence=Supporting evidence includes similarity to: 3 mRNAs%2C 7 Proteins%2C and 100%25 coverage of the annotated genomic feature by RNAseq alignments%2C including 1 sample with support for all annotated introns;product=MKL1/myocardin like 2%2C transcript variant X4;transcript_id=XM_023744980.1\\n']\n",
      "['NW_005871552.1', 'Gnomon', 'mRNA', '224715', '409594', '.', '-', '.', 'ID=rna40901;Parent=gene23550;Dbxref=GeneID:102419356,Genbank:XM_023744983.1;Name=XM_023744983.1;gbkey=mRNA;gene=MKL2;model_evidence=Supporting evidence includes similarity to: 3 mRNAs%2C 6 Proteins%2C and 100%25 coverage of the annotated genomic feature by RNAseq alignments%2C including 1 sample with support for all annotated introns;product=MKL1/myocardin like 2%2C transcript variant X9;transcript_id=XM_023744983.1\\n']\n",
      "['NW_005871552.1', 'Gnomon', 'gene', '499696', '528146', '.', '-', '.', 'ID=gene23553;Dbxref=GeneID:102420083;Name=ERCC4;gbkey=Gene;gene=ERCC4;gene_biotype=protein_coding\\n']\n",
      "['NW_005871552.1', 'Gnomon', 'mRNA', '499696', '528146', '.', '-', '.', 'ID=rna40903;Parent=gene23553;Dbxref=GeneID:102420083,Genbank:XM_023744977.1;Name=XM_023744977.1;gbkey=mRNA;gene=ERCC4;model_evidence=Supporting evidence includes similarity to: 1 mRNA%2C and 100%25 coverage of the annotated genomic feature by RNAseq alignments%2C including 4 samples with support for all annotated introns;product=ERCC excision repair 4%2C endonuclease catalytic subunit%2C transcript variant X2;transcript_id=XM_023744977.1\\n']\n",
      "['NW_005871552.1', 'Gnomon', 'mRNA', '499696', '528145', '.', '-', '.', 'ID=rna40904;Parent=gene23553;Dbxref=GeneID:102420083,Genbank:XM_006103752.3;Name=XM_006103752.3;gbkey=mRNA;gene=ERCC4;model_evidence=Supporting evidence includes similarity to: 5 mRNAs%2C 3 Proteins%2C and 100%25 coverage of the annotated genomic feature by RNAseq alignments%2C including 10 samples with support for all annotated introns;product=ERCC excision repair 4%2C endonuclease catalytic subunit%2C transcript variant X1;transcript_id=XM_006103752.3\\n']\n",
      "['NW_005871562.1', 'RefSeq', 'region', '1', '592368', '.', '+', '.', 'ID=id468296;Dbxref=taxon:59463;Name=Unknown;chromosome=Unknown;country=USA: Framingham%2C MA;gbkey=Src;genome=genomic;mol_type=genomic DNA;sex=female\\n']\n"
     ]
    },
    {
     "name": "stdout",
     "output_type": "stream",
     "text": [
      "['NW_005871763.1', 'RefSeq', 'region', '1', '283313', '.', '+', '.', 'ID=id502584;Dbxref=taxon:59463;Name=Unknown;chromosome=Unknown;country=USA: Framingham%2C MA;gbkey=Src;genome=genomic;mol_type=genomic DNA;sex=female\\n']\n",
      "['NW_005871967.1', 'RefSeq', 'region', '1', '145539', '.', '+', '.', 'ID=id520168;Dbxref=taxon:59463;Name=Unknown;chromosome=Unknown;country=USA: Framingham%2C MA;gbkey=Src;genome=genomic;mol_type=genomic DNA;sex=female\\n']\n",
      "['NW_005872028.1', 'RefSeq', 'region', '1', '123542', '.', '+', '.', 'ID=id524264;Dbxref=taxon:59463;Name=Unknown;chromosome=Unknown;country=USA: Framingham%2C MA;gbkey=Src;genome=genomic;mol_type=genomic DNA;sex=female\\n']\n",
      "['NW_005872028.1', 'Gnomon', 'gene', '5481', '98250', '.', '-', '.', 'ID=gene27256;Dbxref=GeneID:102417583;Name=RAPGEF1;gbkey=Gene;gene=RAPGEF1;gene_biotype=protein_coding\\n']\n",
      "['NW_005872028.1', 'Gnomon', 'mRNA', '5481', '98250', '.', '-', '.', 'ID=rna46592;Parent=gene27256;Dbxref=GeneID:102417583,Genbank:XM_023747795.1;Name=XM_023747795.1;gbkey=mRNA;gene=RAPGEF1;model_evidence=Supporting evidence includes similarity to: 7 Proteins%2C and 100%25 coverage of the annotated genomic feature by RNAseq alignments%2C including 1 sample with support for all annotated introns;product=Rap guanine nucleotide exchange factor 1%2C transcript variant X2;transcript_id=XM_023747795.1\\n']\n",
      "['NW_005872028.1', 'Gnomon', 'mRNA', '5481', '98250', '.', '-', '.', 'ID=rna46593;Parent=gene27256;Dbxref=GeneID:102417583,Genbank:XM_023747793.1;Name=XM_023747793.1;gbkey=mRNA;gene=RAPGEF1;model_evidence=Supporting evidence includes similarity to: 1 Protein%2C and 100%25 coverage of the annotated genomic feature by RNAseq alignments;product=Rap guanine nucleotide exchange factor 1%2C transcript variant X1;transcript_id=XM_023747793.1\\n']\n",
      "['NW_005872120.1', 'RefSeq', 'region', '1', '106138', '.', '+', '.', 'ID=id527572;Dbxref=taxon:59463;Name=Unknown;chromosome=Unknown;country=USA: Framingham%2C MA;gbkey=Src;genome=genomic;mol_type=genomic DNA;sex=female\\n']\n",
      "['NW_005872156.1', 'RefSeq', 'region', '1', '96376', '.', '+', '.', 'ID=id529614;Dbxref=taxon:59463;Name=Unknown;chromosome=Unknown;country=USA: Framingham%2C MA;gbkey=Src;genome=genomic;mol_type=genomic DNA;sex=female\\n']\n",
      "['NW_005875640.1', 'RefSeq', 'region', '1', '14423', '.', '+', '.', 'ID=id554157;Dbxref=taxon:59463;Name=Unknown;chromosome=Unknown;country=USA: Framingham%2C MA;gbkey=Src;genome=genomic;mol_type=genomic DNA;sex=female\\n']\n"
     ]
    },
    {
     "data": {
      "text/plain": [
       "140"
      ]
     },
     "execution_count": 1,
     "metadata": {},
     "output_type": "execute_result"
    }
   ],
   "source": [
    "f=open('/local/home/sarahgw/WGS/SNPS/All_mylu/snps/NJNY50noout1.5_sigCompvaluesNe424_296.csv', 'r')\n",
    "a=open('/local/home/sarahgw/references/ref_Myoluc2.0_top_level.gff3', 'r')\n",
    "flines = f.readlines()[1:]\n",
    "chrom_dict = {}\n",
    "for line in flines:\n",
    "    line = line.replace('\"', '')\n",
    "    args = line.split(',')\n",
    "    if args[2] in chrom_dict:\n",
    "        chrom_dict[args[2]].append(int(args[3]))\n",
    "    else:\n",
    "        chrom_dict[args[2]] = [int(args[3])]\n",
    "        \n",
    "aline = a.readline()\n",
    "count = 0\n",
    "while aline:\n",
    "    agroups = aline.split('\\t')\n",
    "    #print(agroups)\n",
    "    chrom = agroups[0]\n",
    "    if chrom in chrom_dict:\n",
    "        for loc in chrom_dict[chrom]:\n",
    "        # loc = chrom_dict[chrom]\n",
    "            if int(agroups[3]) < (loc) and int(agroups[4]) > (loc):\n",
    "                count += 1\n",
    "                print agroups\n",
    "    aline = a.readline()\n",
    "count"
   ]
  },
  {
   "cell_type": "code",
   "execution_count": 3,
   "metadata": {
    "scrolled": true
   },
   "outputs": [
    {
     "name": "stdout",
     "output_type": "stream",
     "text": [
      "['NW_005871048.1', 'RefSeq', 'region', '1', '64990205', '.', '+', '.', 'ID=id0;Dbxref=taxon:59463;Name=Unknown;chromosome=Unknown;country=USA: Framingham%2C MA;gbkey=Src;genome=genomic;mol_type=genomic DNA;sex=female\\n']\n",
      "['NW_005871049.1', 'RefSeq', 'region', '1', '39494369', '.', '+', '.', 'ID=id14505;Dbxref=taxon:59463;Name=Unknown;chromosome=Unknown;country=USA: Framingham%2C MA;gbkey=Src;genome=genomic;mol_type=genomic DNA;sex=female\\n']\n",
      "['NW_005871051.1', 'RefSeq', 'region', '1', '30916457', '.', '+', '.', 'ID=id28999;Dbxref=taxon:59463;Name=Unknown;chromosome=Unknown;country=USA: Framingham%2C MA;gbkey=Src;genome=genomic;mol_type=genomic DNA;sex=female\\n']\n",
      "['NW_005871053.1', 'RefSeq', 'region', '1', '20945196', '.', '+', '.', 'ID=id44306;Dbxref=taxon:59463;Name=Unknown;chromosome=Unknown;country=USA: Framingham%2C MA;gbkey=Src;genome=genomic;mol_type=genomic DNA;sex=female\\n']\n",
      "['NW_005871053.1', 'Gnomon', 'gene', '8711696', '8718521', '.', '+', '.', 'ID=gene2288;Dbxref=GeneID:111823427;Name=LOC111823427;gbkey=Gene;gene=LOC111823427;gene_biotype=lncRNA\\n']\n",
      "['NW_005871053.1', 'Gnomon', 'lnc_RNA', '8711696', '8718521', '.', '+', '.', 'ID=rna3891;Parent=gene2288;Dbxref=GeneID:111823427,Genbank:XR_002826443.1;Name=XR_002826443.1;gbkey=ncRNA;gene=LOC111823427;model_evidence=Supporting evidence includes similarity to: 100%25 coverage of the annotated genomic feature by RNAseq alignments%2C including 1 sample with support for all annotated introns;product=uncharacterized LOC111823427;transcript_id=XR_002826443.1\\n']\n",
      "['NW_005871056.1', 'RefSeq', 'region', '1', '18579217', '.', '+', '.', 'ID=id61133;Dbxref=taxon:59463;Name=Unknown;chromosome=Unknown;country=USA: Framingham%2C MA;gbkey=Src;genome=genomic;mol_type=genomic DNA;sex=female\\n']\n",
      "['NW_005871059.1', 'RefSeq', 'region', '1', '16239124', '.', '+', '.', 'ID=id75527;Dbxref=taxon:59463;Name=Unknown;chromosome=Unknown;country=USA: Framingham%2C MA;gbkey=Src;genome=genomic;mol_type=genomic DNA;sex=female\\n']\n",
      "['NW_005871062.1', 'RefSeq', 'region', '1', '15274826', '.', '+', '.', 'ID=id85264;Dbxref=taxon:59463;Name=Unknown;chromosome=Unknown;country=USA: Framingham%2C MA;gbkey=Src;genome=genomic;mol_type=genomic DNA;sex=female\\n']\n",
      "['NW_005871062.1', 'Gnomon', 'gene', '7590919', '7653791', '.', '+', '.', 'ID=gene4088;Dbxref=GeneID:102427812;Name=MASP1;gbkey=Gene;gene=MASP1;gene_biotype=protein_coding\\n']\n",
      "['NW_005871062.1', 'Gnomon', 'mRNA', '7590919', '7637874', '.', '+', '.', 'ID=rna7049;Parent=gene4088;Dbxref=GeneID:102427812,Genbank:XM_006084791.3;Name=XM_006084791.3;gbkey=mRNA;gene=MASP1;model_evidence=Supporting evidence includes similarity to: 3 mRNAs%2C 8 Proteins%2C and 99%25 coverage of the annotated genomic feature by RNAseq alignments%2C including 1 sample with support for all annotated introns;product=mannan binding lectin serine peptidase 1%2C transcript variant X1;transcript_id=XM_006084791.3\\n']\n",
      "['NW_005871062.1', 'Gnomon', 'mRNA', '7590957', '7653791', '.', '+', '.', 'ID=rna7050;Parent=gene4088;Dbxref=GeneID:102427812,Genbank:XM_006084792.3;Name=XM_006084792.3;gbkey=mRNA;gene=MASP1;model_evidence=Supporting evidence includes similarity to: 1 mRNA%2C 9 Proteins%2C and 72%25 coverage of the annotated genomic feature by RNAseq alignments;product=mannan binding lectin serine peptidase 1%2C transcript variant X2;transcript_id=XM_006084792.3\\n']\n",
      "['NW_005871073.1', 'RefSeq', 'region', '1', '10646666', '.', '+', '.', 'ID=id114773;Dbxref=taxon:59463;Name=Unknown;chromosome=Unknown;country=USA: Framingham%2C MA;gbkey=Src;genome=genomic;mol_type=genomic DNA;sex=female\\n']\n",
      "['NW_005871076.1', 'RefSeq', 'region', '1', '10643064', '.', '+', '.', 'ID=id119730;Dbxref=taxon:59463;Name=Unknown;chromosome=Unknown;country=USA: Framingham%2C MA;gbkey=Src;genome=genomic;mol_type=genomic DNA;sex=female\\n']\n",
      "['NW_005871076.1', 'Gnomon', 'gene', '3903932', '3912832', '.', '+', '.', 'ID=gene5943;Dbxref=GeneID:102433949;Name=GNPDA1;gbkey=Gene;gene=GNPDA1;gene_biotype=protein_coding\\n']\n",
      "['NW_005871076.1', 'Gnomon', 'mRNA', '3903932', '3912832', '.', '+', '.', 'ID=rna9907;Parent=gene5943;Dbxref=GeneID:102433949,Genbank:XM_006086425.3;Name=XM_006086425.3;gbkey=mRNA;gene=GNPDA1;model_evidence=Supporting evidence includes similarity to: 5 mRNAs%2C 12 Proteins%2C and 100%25 coverage of the annotated genomic feature by RNAseq alignments%2C including 26 samples with support for all annotated introns;product=glucosamine-6-phosphate deaminase 1;transcript_id=XM_006086425.3\\n']\n",
      "['NW_005871083.1', 'RefSeq', 'region', '1', '9082911', '.', '+', '.', 'ID=id133156;Dbxref=taxon:59463;Name=Unknown;chromosome=Unknown;country=USA: Framingham%2C MA;gbkey=Src;genome=genomic;mol_type=genomic DNA;sex=female\\n']\n",
      "['NW_005871083.1', 'Gnomon', 'gene', '3979298', '4208728', '.', '-', '.', 'ID=gene6576;Dbxref=GeneID:102420738;Name=CMIP;gbkey=Gene;gene=CMIP;gene_biotype=protein_coding\\n']\n",
      "['NW_005871083.1', 'Gnomon', 'mRNA', '3979298', '4208728', '.', '-', '.', 'ID=rna11031;Parent=gene6576;Dbxref=GeneID:102420738,Genbank:XM_006087043.3;Name=XM_006087043.3;Note=The sequence of the model RefSeq transcript was modified relative to this genomic sequence to represent the inferred CDS: deleted 1 base in 1 codon;exception=unclassified transcription discrepancy;gbkey=mRNA;gene=CMIP;model_evidence=Supporting evidence includes similarity to: 2 mRNAs%2C 5 Proteins%2C and 99%25 coverage of the annotated genomic feature by RNAseq alignments%2C including 23 samples with support for all annotated introns;product=c-Maf inducing protein;transcript_id=XM_006087043.3\\n']\n",
      "['NW_005871087.1', 'RefSeq', 'region', '1', '8424078', '.', '+', '.', 'ID=id142776;Dbxref=taxon:59463;Name=Unknown;chromosome=Unknown;country=USA: Framingham%2C MA;gbkey=Src;genome=genomic;mol_type=genomic DNA;sex=female\\n']\n",
      "['NW_005871097.1', 'RefSeq', 'region', '1', '7348857', '.', '+', '.', 'ID=id162626;Dbxref=taxon:59463;Name=Unknown;chromosome=Unknown;country=USA: Framingham%2C MA;gbkey=Src;genome=genomic;mol_type=genomic DNA;sex=female\\n']\n",
      "['NW_005871097.1', 'Gnomon', 'gene', '3142067', '3321329', '.', '-', '.', 'ID=gene8121;Dbxref=GeneID:102440988;Name=REPS2;gbkey=Gene;gene=REPS2;gene_biotype=protein_coding\\n']\n",
      "['NW_005871097.1', 'Gnomon', 'mRNA', '3142067', '3321329', '.', '-', '.', 'ID=rna13665;Parent=gene8121;Dbxref=GeneID:102440988,Genbank:XM_023753740.1;Name=XM_023753740.1;gbkey=mRNA;gene=REPS2;model_evidence=Supporting evidence includes similarity to: 1 Protein%2C and 82%25 coverage of the annotated genomic feature by RNAseq alignments;product=RALBP1 associated Eps domain containing 2;transcript_id=XM_023753740.1\\n']\n",
      "['NW_005871100.1', 'RefSeq', 'region', '1', '7058687', '.', '+', '.', 'ID=id166315;Dbxref=taxon:59463;Name=Unknown;chromosome=Unknown;country=USA: Framingham%2C MA;gbkey=Src;genome=genomic;mol_type=genomic DNA;sex=female\\n']\n",
      "['NW_005871109.1', 'RefSeq', 'region', '1', '6495742', '.', '+', '.', 'ID=id181624;Dbxref=taxon:59463;Name=Unknown;chromosome=Unknown;country=USA: Framingham%2C MA;gbkey=Src;genome=genomic;mol_type=genomic DNA;sex=female\\n']\n",
      "['NW_005871109.1', 'Gnomon', 'gene', '1466518', '1571546', '.', '-', '.', 'ID=gene9207;Dbxref=GeneID:102429587;Name=ARNTL;gbkey=Gene;gene=ARNTL;gene_biotype=protein_coding\\n']\n",
      "['NW_005871109.1', 'Gnomon', 'mRNA', '1466518', '1571546', '.', '-', '.', 'ID=rna15437;Parent=gene9207;Dbxref=GeneID:102429587,Genbank:XM_014456589.2;Name=XM_014456589.2;gbkey=mRNA;gene=ARNTL;model_evidence=Supporting evidence includes similarity to: 2 mRNAs%2C 7 Proteins%2C and 100%25 coverage of the annotated genomic feature by RNAseq alignments%2C including 5 samples with support for all annotated introns;product=aryl hydrocarbon receptor nuclear translocator like%2C transcript variant X5;transcript_id=XM_014456589.2\\n']\n",
      "['NW_005871109.1', 'Gnomon', 'mRNA', '1466518', '1571546', '.', '-', '.', 'ID=rna15438;Parent=gene9207;Dbxref=GeneID:102429587,Genbank:XM_014456592.2;Name=XM_014456592.2;gbkey=mRNA;gene=ARNTL;model_evidence=Supporting evidence includes similarity to: 9 Proteins%2C and 100%25 coverage of the annotated genomic feature by RNAseq alignments%2C including 8 samples with support for all annotated introns;product=aryl hydrocarbon receptor nuclear translocator like%2C transcript variant X8;transcript_id=XM_014456592.2\\n']\n",
      "['NW_005871109.1', 'Gnomon', 'mRNA', '1466518', '1571546', '.', '-', '.', 'ID=rna15439;Parent=gene9207;Dbxref=GeneID:102429587,Genbank:XM_014456591.2;Name=XM_014456591.2;gbkey=mRNA;gene=ARNTL;model_evidence=Supporting evidence includes similarity to: 2 mRNAs%2C 13 Proteins%2C and 100%25 coverage of the annotated genomic feature by RNAseq alignments%2C including 9 samples with support for all annotated introns;product=aryl hydrocarbon receptor nuclear translocator like%2C transcript variant X7;transcript_id=XM_014456591.2\\n']\n",
      "['NW_005871109.1', 'Gnomon', 'mRNA', '1466518', '1571546', '.', '-', '.', 'ID=rna15440;Parent=gene9207;Dbxref=GeneID:102429587,Genbank:XM_023754517.1;Name=XM_023754517.1;gbkey=mRNA;gene=ARNTL;model_evidence=Supporting evidence includes similarity to: 2 Proteins%2C and 100%25 coverage of the annotated genomic feature by RNAseq alignments%2C including 10 samples with support for all annotated introns;product=aryl hydrocarbon receptor nuclear translocator like%2C transcript variant X9;transcript_id=XM_023754517.1\\n']\n",
      "['NW_005871109.1', 'Gnomon', 'mRNA', '1466518', '1571546', '.', '-', '.', 'ID=rna15441;Parent=gene9207;Dbxref=GeneID:102429587,Genbank:XM_014456590.2;Name=XM_014456590.2;gbkey=mRNA;gene=ARNTL;model_evidence=Supporting evidence includes similarity to: 8 Proteins%2C and 100%25 coverage of the annotated genomic feature by RNAseq alignments%2C including 10 samples with support for all annotated introns;product=aryl hydrocarbon receptor nuclear translocator like%2C transcript variant X6;transcript_id=XM_014456590.2\\n']\n",
      "['NW_005871109.1', 'Gnomon', 'mRNA', '1466518', '1571546', '.', '-', '.', 'ID=rna15442;Parent=gene9207;Dbxref=GeneID:102429587,Genbank:XM_014456593.2;Name=XM_014456593.2;gbkey=mRNA;gene=ARNTL;model_evidence=Supporting evidence includes similarity to: 1 Protein%2C and 100%25 coverage of the annotated genomic feature by RNAseq alignments%2C including 12 samples with support for all annotated introns;product=aryl hydrocarbon receptor nuclear translocator like%2C transcript variant X11;transcript_id=XM_014456593.2\\n']\n",
      "['NW_005871109.1', 'Gnomon', 'mRNA', '1466518', '1571546', '.', '-', '.', 'ID=rna15443;Parent=gene9207;Dbxref=GeneID:102429587,Genbank:XM_014456586.2;Name=XM_014456586.2;gbkey=mRNA;gene=ARNTL;model_evidence=Supporting evidence includes similarity to: 2 mRNAs%2C 7 Proteins%2C and 100%25 coverage of the annotated genomic feature by RNAseq alignments%2C including 12 samples with support for all annotated introns;product=aryl hydrocarbon receptor nuclear translocator like%2C transcript variant X1;transcript_id=XM_014456586.2\\n']\n",
      "['NW_005871109.1', 'Gnomon', 'mRNA', '1466518', '1571546', '.', '-', '.', 'ID=rna15444;Parent=gene9207;Dbxref=GeneID:102429587,Genbank:XM_014456588.2;Name=XM_014456588.2;gbkey=mRNA;gene=ARNTL;model_evidence=Supporting evidence includes similarity to: 2 mRNAs%2C 7 Proteins%2C and 100%25 coverage of the annotated genomic feature by RNAseq alignments%2C including 5 samples with support for all annotated introns;product=aryl hydrocarbon receptor nuclear translocator like%2C transcript variant X4;transcript_id=XM_014456588.2\\n']\n",
      "['NW_005871109.1', 'Gnomon', 'mRNA', '1466518', '1571546', '.', '-', '.', 'ID=rna15445;Parent=gene9207;Dbxref=GeneID:102429587,Genbank:XM_006089587.3;Name=XM_006089587.3;gbkey=mRNA;gene=ARNTL;model_evidence=Supporting evidence includes similarity to: 2 mRNAs%2C 7 Proteins%2C and 100%25 coverage of the annotated genomic feature by RNAseq alignments%2C including 4 samples with support for all annotated introns;product=aryl hydrocarbon receptor nuclear translocator like%2C transcript variant X2;transcript_id=XM_006089587.3\\n']\n",
      "['NW_005871109.1', 'Gnomon', 'mRNA', '1466518', '1503619', '.', '-', '.', 'ID=rna15446;Parent=gene9207;Dbxref=GeneID:102429587,Genbank:XM_023754516.1;Name=XM_023754516.1;gbkey=mRNA;gene=ARNTL;model_evidence=Supporting evidence includes similarity to: 2 mRNAs%2C 7 Proteins%2C and 100%25 coverage of the annotated genomic feature by RNAseq alignments%2C including 6 samples with support for all annotated introns;product=aryl hydrocarbon receptor nuclear translocator like%2C transcript variant X3;transcript_id=XM_023754516.1\\n']\n",
      "['NW_005871109.1', 'Gnomon', 'mRNA', '1469463', '1571546', '.', '-', '.', 'ID=rna15448;Parent=gene9207;Dbxref=GeneID:102429587,Genbank:XM_023754518.1;Name=XM_023754518.1;gbkey=mRNA;gene=ARNTL;model_evidence=Supporting evidence includes similarity to: 1 Protein%2C and 100%25 coverage of the annotated genomic feature by RNAseq alignments%2C including 3 samples with support for all annotated introns;product=aryl hydrocarbon receptor nuclear translocator like%2C transcript variant X10;transcript_id=XM_023754518.1\\n']\n"
     ]
    },
    {
     "name": "stdout",
     "output_type": "stream",
     "text": [
      "['NW_005871122.1', 'RefSeq', 'region', '1', '5136827', '.', '+', '.', 'ID=id201139;Dbxref=taxon:59463;Name=Unknown;chromosome=Unknown;country=USA: Framingham%2C MA;gbkey=Src;genome=genomic;mol_type=genomic DNA;sex=female\\n']\n",
      "['NW_005871122.1', 'Gnomon', 'gene', '3434412', '3529751', '.', '-', '.', 'ID=gene10137;Dbxref=GeneID:102437398;Name=PCDH17;gbkey=Gene;gene=PCDH17;gene_biotype=protein_coding\\n']\n",
      "['NW_005871122.1', 'Gnomon', 'mRNA', '3434412', '3529751', '.', '-', '.', 'ID=rna17052;Parent=gene10137;Dbxref=GeneID:102437398,Genbank:XM_006090529.3;Name=XM_006090529.3;gbkey=mRNA;gene=PCDH17;model_evidence=Supporting evidence includes similarity to: 2 mRNAs%2C 5 Proteins%2C and 95%25 coverage of the annotated genomic feature by RNAseq alignments;product=protocadherin 17;transcript_id=XM_006090529.3\\n']\n",
      "['NW_005871123.1', 'RefSeq', 'region', '1', '5160323', '.', '+', '.', 'ID=id201293;Dbxref=taxon:59463;Name=Unknown;chromosome=Unknown;country=USA: Framingham%2C MA;gbkey=Src;genome=genomic;mol_type=genomic DNA;sex=female\\n']\n",
      "['NW_005871129.1', 'RefSeq', 'region', '1', '4918922', '.', '+', '.', 'ID=id207190;Dbxref=taxon:59463;Name=Unknown;chromosome=Unknown;country=USA: Framingham%2C MA;gbkey=Src;genome=genomic;mol_type=genomic DNA;sex=female\\n']\n",
      "['NW_005871129.1', 'Gnomon', 'gene', '2123766', '3029105', '.', '-', '.', 'ID=gene10442;Dbxref=GeneID:102423892;Name=MDGA2;gbkey=Gene;gene=MDGA2;gene_biotype=protein_coding\\n']\n",
      "['NW_005871129.1', 'Gnomon', 'mRNA', '2123766', '3029105', '.', '-', '.', 'ID=rna17512;Parent=gene10442;Dbxref=GeneID:102423892,Genbank:XM_006090751.3;Name=XM_006090751.3;gbkey=mRNA;gene=MDGA2;model_evidence=Supporting evidence includes similarity to: 5 mRNAs%2C 5 Proteins%2C and 17%25 coverage of the annotated genomic feature by RNAseq alignments;product=MAM domain containing glycosylphosphatidylinositol anchor 2%2C transcript variant X1;transcript_id=XM_006090751.3\\n']\n",
      "['NW_005871129.1', 'Gnomon', 'mRNA', '2123766', '2635771', '.', '-', '.', 'ID=rna17513;Parent=gene10442;Dbxref=GeneID:102423892,Genbank:XM_006090753.2;Name=XM_006090753.2;gbkey=mRNA;gene=MDGA2;model_evidence=Supporting evidence includes similarity to: 5 mRNAs%2C 1 Protein%2C and 9%25 coverage of the annotated genomic feature by RNAseq alignments;product=MAM domain containing glycosylphosphatidylinositol anchor 2%2C transcript variant X2;transcript_id=XM_006090753.2\\n']\n",
      "['NW_005871136.1', 'RefSeq', 'region', '1', '4679154', '.', '+', '.', 'ID=id215563;Dbxref=taxon:59463;Name=Unknown;chromosome=Unknown;country=USA: Framingham%2C MA;gbkey=Src;genome=genomic;mol_type=genomic DNA;sex=female\\n']\n",
      "['NW_005871136.1', 'Gnomon', 'gene', '4372562', '4411869', '.', '-', '.', 'ID=gene10904;Dbxref=GeneID:102426505;Name=FA2H;gbkey=Gene;gene=FA2H;gene_biotype=protein_coding\\n']\n",
      "['NW_005871136.1', 'Gnomon', 'mRNA', '4372562', '4411869', '.', '-', '.', 'ID=rna18385;Parent=gene10904;Dbxref=GeneID:102426505,Genbank:XM_006091226.3;Name=XM_006091226.3;gbkey=mRNA;gene=FA2H;model_evidence=Supporting evidence includes similarity to: 4 Proteins%2C and 100%25 coverage of the annotated genomic feature by RNAseq alignments%2C including 4 samples with support for all annotated introns;product=fatty acid 2-hydroxylase;transcript_id=XM_006091226.3\\n']\n",
      "['NW_005871140.1', 'RefSeq', 'region', '1', '4592439', '.', '+', '.', 'ID=id224920;Dbxref=taxon:59463;Name=Unknown;chromosome=Unknown;country=USA: Framingham%2C MA;gbkey=Src;genome=genomic;mol_type=genomic DNA;sex=female\\n']\n",
      "['NW_005871142.1', 'RefSeq', 'region', '1', '4514962', '.', '+', '.', 'ID=id226172;Dbxref=taxon:59463;Name=Unknown;chromosome=Unknown;country=USA: Framingham%2C MA;gbkey=Src;genome=genomic;mol_type=genomic DNA;sex=female\\n']\n",
      "['NW_005871142.1', 'Gnomon', 'gene', '263205', '312860', '.', '+', '.', 'ID=gene11267;Dbxref=GeneID:102442682;Name=ADCY3;gbkey=Gene;gene=ADCY3;gene_biotype=protein_coding\\n']\n",
      "['NW_005871142.1', 'Gnomon', 'mRNA', '263205', '312362', '.', '+', '.', 'ID=rna19111;Parent=gene11267;Dbxref=GeneID:102442682,Genbank:XM_006091691.3;Name=XM_006091691.3;gbkey=mRNA;gene=ADCY3;model_evidence=Supporting evidence includes similarity to: 5 mRNAs%2C 10 Proteins%2C and 99%25 coverage of the annotated genomic feature by RNAseq alignments%2C including 1 sample with support for all annotated introns;product=adenylate cyclase 3%2C transcript variant X1;transcript_id=XM_006091691.3\\n']\n",
      "['NW_005871142.1', 'Gnomon', 'mRNA', '263528', '312860', '.', '+', '.', 'ID=rna19112;Parent=gene11267;Dbxref=GeneID:102442682,Genbank:XM_023756431.1;Name=XM_023756431.1;gbkey=mRNA;gene=ADCY3;model_evidence=Supporting evidence includes similarity to: 5 mRNAs%2C 10 Proteins%2C and 99%25 coverage of the annotated genomic feature by RNAseq alignments%2C including 14 samples with support for all annotated introns;product=adenylate cyclase 3%2C transcript variant X2;transcript_id=XM_023756431.1\\n']\n",
      "['NW_005871148.1', 'RefSeq', 'region', '1', '4444721', '.', '+', '.', 'ID=id238203;Dbxref=taxon:59463;Name=Unknown;chromosome=Unknown;country=USA: Framingham%2C MA;gbkey=Src;genome=genomic;mol_type=genomic DNA;sex=female\\n']\n",
      "['NW_005871148.1', 'Gnomon', 'gene', '2560994', '2842740', '.', '-', '.', 'ID=gene11898;Dbxref=GeneID:102438113;Name=CEP112;gbkey=Gene;gene=CEP112;gene_biotype=protein_coding\\n']\n",
      "['NW_005871148.1', 'Gnomon', 'mRNA', '2560994', '2842740', '.', '-', '.', 'ID=rna20342;Parent=gene11898;Dbxref=GeneID:102438113,Genbank:XM_014458887.2;Name=XM_014458887.2;gbkey=mRNA;gene=CEP112;model_evidence=Supporting evidence includes similarity to: 2 Proteins%2C and 100%25 coverage of the annotated genomic feature by RNAseq alignments;product=centrosomal protein 112;transcript_id=XM_014458887.2\\n']\n",
      "['NW_005871152.1', 'RefSeq', 'region', '1', '4256317', '.', '+', '.', 'ID=id248686;Dbxref=taxon:59463;Name=Unknown;chromosome=Unknown;country=USA: Framingham%2C MA;gbkey=Src;genome=genomic;mol_type=genomic DNA;sex=female\\n']\n",
      "['NW_005871160.1', 'RefSeq', 'region', '1', '4019553', '.', '+', '.', 'ID=id259229;Dbxref=taxon:59463;Name=Unknown;chromosome=Unknown;country=USA: Framingham%2C MA;gbkey=Src;genome=genomic;mol_type=genomic DNA;sex=female\\n']\n",
      "['NW_005871166.1', 'RefSeq', 'region', '1', '3905128', '.', '+', '.', 'ID=id263990;Dbxref=taxon:59463;Name=Unknown;chromosome=Unknown;country=USA: Framingham%2C MA;gbkey=Src;genome=genomic;mol_type=genomic DNA;sex=female\\n']\n",
      "['NW_005871169.1', 'RefSeq', 'region', '1', '3838405', '.', '+', '.', 'ID=id267292;Dbxref=taxon:59463;Name=Unknown;chromosome=Unknown;country=USA: Framingham%2C MA;gbkey=Src;genome=genomic;mol_type=genomic DNA;sex=female\\n']\n",
      "['NW_005871177.1', 'RefSeq', 'region', '1', '3690467', '.', '+', '.', 'ID=id275767;Dbxref=taxon:59463;Name=Unknown;chromosome=Unknown;country=USA: Framingham%2C MA;gbkey=Src;genome=genomic;mol_type=genomic DNA;sex=female\\n']\n",
      "['NW_005871187.1', 'RefSeq', 'region', '1', '3538212', '.', '+', '.', 'ID=id285453;Dbxref=taxon:59463;Name=Unknown;chromosome=Unknown;country=USA: Framingham%2C MA;gbkey=Src;genome=genomic;mol_type=genomic DNA;sex=female\\n']\n",
      "['NW_005871187.1', 'Gnomon', 'gene', '1853352', '1968511', '.', '+', '.', 'ID=gene14209;Dbxref=GeneID:111827161;Name=LOC111827161;gbkey=Gene;gene=LOC111827161;gene_biotype=lncRNA\\n']\n",
      "['NW_005871187.1', 'Gnomon', 'lnc_RNA', '1853352', '1968511', '.', '+', '.', 'ID=rna24334;Parent=gene14209;Dbxref=GeneID:111827161,Genbank:XR_002830677.1;Name=XR_002830677.1;gbkey=ncRNA;gene=LOC111827161;model_evidence=Supporting evidence includes similarity to: 100%25 coverage of the annotated genomic feature by RNAseq alignments;product=uncharacterized LOC111827161;transcript_id=XR_002830677.1\\n']\n",
      "['NW_005871191.1', 'RefSeq', 'region', '1', '3403133', '.', '+', '.', 'ID=id287356;Dbxref=taxon:59463;Name=Unknown;chromosome=Unknown;country=USA: Framingham%2C MA;gbkey=Src;genome=genomic;mol_type=genomic DNA;sex=female\\n']\n",
      "['NW_005871191.1', 'Gnomon', 'gene', '2216577', '2888781', '.', '-', '.', 'ID=gene14416;Dbxref=GeneID:102435969;Name=NELL1;gbkey=Gene;gene=NELL1;gene_biotype=protein_coding\\n']\n",
      "['NW_005871191.1', 'Gnomon', 'mRNA', '2216577', '2888781', '.', '-', '.', 'ID=rna24556;Parent=gene14416;Dbxref=GeneID:102435969,Genbank:XM_023758901.1;Name=XM_023758901.1;gbkey=mRNA;gene=NELL1;model_evidence=Supporting evidence includes similarity to: 11 Proteins%2C and 94%25 coverage of the annotated genomic feature by RNAseq alignments;product=neural EGFL like 1;transcript_id=XM_023758901.1\\n']\n",
      "['NW_005871208.1', 'RefSeq', 'region', '1', '3092412', '.', '+', '.', 'ID=id304554;Dbxref=taxon:59463;Name=Unknown;chromosome=Unknown;country=USA: Framingham%2C MA;gbkey=Src;genome=genomic;mol_type=genomic DNA;sex=female\\n']\n",
      "['NW_005871210.1', 'RefSeq', 'region', '1', '3019976', '.', '+', '.', 'ID=id307691;Dbxref=taxon:59463;Name=Unknown;chromosome=Unknown;country=USA: Framingham%2C MA;gbkey=Src;genome=genomic;mol_type=genomic DNA;sex=female\\n']\n",
      "['NW_005871210.1', 'Gnomon', 'gene', '2499532', '3006516', '.', '+', '.', 'ID=gene15442;Dbxref=GeneID:102425362;Name=SORCS3;gbkey=Gene;gene=SORCS3;gene_biotype=protein_coding\\n']\n",
      "['NW_005871210.1', 'Gnomon', 'mRNA', '2499532', '3006516', '.', '+', '.', 'ID=rna26668;Parent=gene15442;Dbxref=GeneID:102425362,Genbank:XM_006095936.3;Name=XM_006095936.3;gbkey=mRNA;gene=SORCS3;model_evidence=Supporting evidence includes similarity to: 4 mRNAs%2C 11 Proteins%2C and 30%25 coverage of the annotated genomic feature by RNAseq alignments;product=sortilin related VPS10 domain containing receptor 3;transcript_id=XM_006095936.3\\n']\n"
     ]
    },
    {
     "name": "stdout",
     "output_type": "stream",
     "text": [
      "['NW_005871219.1', 'RefSeq', 'region', '1', '2865968', '.', '+', '.', 'ID=id315315;Dbxref=taxon:59463;Name=Unknown;chromosome=Unknown;country=USA: Framingham%2C MA;gbkey=Src;genome=genomic;mol_type=genomic DNA;sex=female\\n']\n",
      "['NW_005871228.1', 'RefSeq', 'region', '1', '2723584', '.', '+', '.', 'ID=id320747;Dbxref=taxon:59463;Name=Unknown;chromosome=Unknown;country=USA: Framingham%2C MA;gbkey=Src;genome=genomic;mol_type=genomic DNA;sex=female\\n']\n",
      "['NW_005871236.1', 'RefSeq', 'region', '1', '2551290', '.', '+', '.', 'ID=id327813;Dbxref=taxon:59463;Name=Unknown;chromosome=Unknown;country=USA: Framingham%2C MA;gbkey=Src;genome=genomic;mol_type=genomic DNA;sex=female\\n']\n",
      "['NW_005871243.1', 'RefSeq', 'region', '1', '2513712', '.', '+', '.', 'ID=id331702;Dbxref=taxon:59463;Name=Unknown;chromosome=Unknown;country=USA: Framingham%2C MA;gbkey=Src;genome=genomic;mol_type=genomic DNA;sex=female\\n']\n",
      "['NW_005871246.1', 'RefSeq', 'region', '1', '2532579', '.', '+', '.', 'ID=id335396;Dbxref=taxon:59463;Name=Unknown;chromosome=Unknown;country=USA: Framingham%2C MA;gbkey=Src;genome=genomic;mol_type=genomic DNA;sex=female\\n']\n",
      "['NW_005871246.1', 'Gnomon', 'gene', '1936775', '1992192', '.', '-', '.', 'ID=gene16883;Dbxref=GeneID:102429022;Name=CBFA2T3;gbkey=Gene;gene=CBFA2T3;gene_biotype=protein_coding\\n']\n",
      "['NW_005871246.1', 'Gnomon', 'mRNA', '1936775', '1992192', '.', '-', '.', 'ID=rna29149;Parent=gene16883;Dbxref=GeneID:102429022,Genbank:XM_006097355.3;Name=XM_006097355.3;gbkey=mRNA;gene=CBFA2T3;model_evidence=Supporting evidence includes similarity to: 2 mRNAs%2C 1 Protein%2C and 99%25 coverage of the annotated genomic feature by RNAseq alignments;product=CBFA2/RUNX1 translocation partner 3;transcript_id=XM_006097355.3\\n']\n",
      "['NW_005871250.1', 'RefSeq', 'region', '1', '2370814', '.', '+', '.', 'ID=id338256;Dbxref=taxon:59463;Name=Unknown;chromosome=Unknown;country=USA: Framingham%2C MA;gbkey=Src;genome=genomic;mol_type=genomic DNA;sex=female\\n']\n",
      "['NW_005871263.1', 'RefSeq', 'region', '1', '2259905', '.', '+', '.', 'ID=id349927;Dbxref=taxon:59463;Name=Unknown;chromosome=Unknown;country=USA: Framingham%2C MA;gbkey=Src;genome=genomic;mol_type=genomic DNA;sex=female\\n']\n",
      "['NW_005871279.1', 'RefSeq', 'region', '1', '1996049', '.', '+', '.', 'ID=id357671;Dbxref=taxon:59463;Name=Unknown;chromosome=Unknown;country=USA: Framingham%2C MA;gbkey=Src;genome=genomic;mol_type=genomic DNA;sex=female\\n']\n",
      "['NW_005871289.1', 'RefSeq', 'region', '1', '1901218', '.', '+', '.', 'ID=id361809;Dbxref=taxon:59463;Name=Unknown;chromosome=Unknown;country=USA: Framingham%2C MA;gbkey=Src;genome=genomic;mol_type=genomic DNA;sex=female\\n']\n",
      "['NW_005871299.1', 'RefSeq', 'region', '1', '1811804', '.', '+', '.', 'ID=id366663;Dbxref=taxon:59463;Name=Unknown;chromosome=Unknown;country=USA: Framingham%2C MA;gbkey=Src;genome=genomic;mol_type=genomic DNA;sex=female\\n']\n",
      "['NW_005871310.1', 'RefSeq', 'region', '1', '1841132', '.', '+', '.', 'ID=id371601;Dbxref=taxon:59463;Name=Unknown;chromosome=Unknown;country=USA: Framingham%2C MA;gbkey=Src;genome=genomic;mol_type=genomic DNA;sex=female\\n']\n",
      "['NW_005871310.1', 'Gnomon', 'gene', '1634027', '1669272', '.', '-', '.', 'ID=gene18766;Dbxref=GeneID:102443128;Name=GEMIN4;gbkey=Gene;gene=GEMIN4;gene_biotype=protein_coding\\n']\n",
      "['NW_005871310.1', 'Gnomon', 'mRNA', '1653940', '1669272', '.', '-', '.', 'ID=rna32507;Parent=gene18766;Dbxref=GeneID:102443128,Genbank:XM_023762809.1;Name=XM_023762809.1;gbkey=mRNA;gene=GEMIN4;model_evidence=Supporting evidence includes similarity to: 1 Protein%2C and 100%25 coverage of the annotated genomic feature by RNAseq alignments%2C including 8 samples with support for all annotated introns;product=gem nuclear organelle associated protein 4%2C transcript variant X2;transcript_id=XM_023762809.1\\n']\n",
      "['NW_005871310.1', 'Gnomon', 'gene', '1661352', '1661854', '.', '+', '.', 'ID=gene18768;Dbxref=GeneID:102421410;Name=LOC102421410;gbkey=Gene;gene=LOC102421410;gene_biotype=protein_coding\\n']\n",
      "['NW_005871310.1', 'Gnomon', 'mRNA', '1661352', '1661854', '.', '+', '.', 'ID=rna32510;Parent=gene18768;Dbxref=GeneID:102421410,Genbank:XM_023762812.1;Name=XM_023762812.1;gbkey=mRNA;gene=LOC102421410;model_evidence=Supporting evidence includes similarity to: 2 Proteins%2C and 100%25 coverage of the annotated genomic feature by RNAseq alignments;product=diazepam-binding inhibitor-like 5;transcript_id=XM_023762812.1\\n']\n",
      "['NW_005871310.1', 'Gnomon', 'exon', '1661352', '1661854', '.', '+', '.', 'ID=id372990;Parent=rna32510;Dbxref=GeneID:102421410,Genbank:XM_023762812.1;gbkey=mRNA;gene=LOC102421410;product=diazepam-binding inhibitor-like 5;transcript_id=XM_023762812.1\\n']\n",
      "['NW_005871317.1', 'RefSeq', 'region', '1', '1687824', '.', '+', '.', 'ID=id375042;Dbxref=taxon:59463;Name=Unknown;chromosome=Unknown;country=USA: Framingham%2C MA;gbkey=Src;genome=genomic;mol_type=genomic DNA;sex=female\\n']\n",
      "['NW_005871317.1', 'Gnomon', 'gene', '600265', '653579', '.', '-', '.', 'ID=gene18869;Dbxref=GeneID:102428308;Name=KREMEN1;gbkey=Gene;gene=KREMEN1;gene_biotype=protein_coding\\n']\n",
      "['NW_005871317.1', 'Gnomon', 'mRNA', '600265', '653579', '.', '-', '.', 'ID=rna32702;Parent=gene18869;Dbxref=GeneID:102428308,Genbank:XM_023762932.1;Name=XM_023762932.1;gbkey=mRNA;gene=KREMEN1;model_evidence=Supporting evidence includes similarity to: 1 Protein%2C and 100%25 coverage of the annotated genomic feature by RNAseq alignments%2C including 4 samples with support for all annotated introns;product=kringle containing transmembrane protein 1%2C transcript variant X1;transcript_id=XM_023762932.1\\n']\n",
      "['NW_005871317.1', 'Gnomon', 'mRNA', '600265', '653575', '.', '-', '.', 'ID=rna32703;Parent=gene18869;Dbxref=GeneID:102428308,Genbank:XM_023762933.1;Name=XM_023762933.1;gbkey=mRNA;gene=KREMEN1;model_evidence=Supporting evidence includes similarity to: 100%25 coverage of the annotated genomic feature by RNAseq alignments%2C including 4 samples with support for all annotated introns;product=kringle containing transmembrane protein 1%2C transcript variant X2;transcript_id=XM_023762933.1\\n']\n",
      "['NW_005871382.1', 'RefSeq', 'region', '1', '1180006', '.', '+', '.', 'ID=id412464;Dbxref=taxon:59463;Name=Unknown;chromosome=Unknown;country=USA: Framingham%2C MA;gbkey=Src;genome=genomic;mol_type=genomic DNA;sex=female\\n']\n",
      "['NW_005871402.1', 'RefSeq', 'region', '1', '1199787', '.', '+', '.', 'ID=id420521;Dbxref=taxon:59463;Name=Unknown;chromosome=Unknown;country=USA: Framingham%2C MA;gbkey=Src;genome=genomic;mol_type=genomic DNA;sex=female\\n']\n",
      "['NW_005871409.1', 'RefSeq', 'region', '1', '1211147', '.', '+', '.', 'ID=id422448;Dbxref=taxon:59463;Name=Unknown;chromosome=Unknown;country=USA: Framingham%2C MA;gbkey=Src;genome=genomic;mol_type=genomic DNA;sex=female\\n']\n",
      "['NW_005871413.1', 'RefSeq', 'region', '1', '1152308', '.', '+', '.', 'ID=id422894;Dbxref=taxon:59463;Name=Unknown;chromosome=Unknown;country=USA: Framingham%2C MA;gbkey=Src;genome=genomic;mol_type=genomic DNA;sex=female\\n']\n",
      "['NW_005871437.1', 'RefSeq', 'region', '1', '1012336', '.', '+', '.', 'ID=id432624;Dbxref=taxon:59463;Name=Unknown;chromosome=Unknown;country=USA: Framingham%2C MA;gbkey=Src;genome=genomic;mol_type=genomic DNA;sex=female\\n']\n",
      "['NW_005871439.1', 'RefSeq', 'region', '1', '978231', '.', '+', '.', 'ID=id433565;Dbxref=taxon:59463;Name=Unknown;chromosome=Unknown;country=USA: Framingham%2C MA;gbkey=Src;genome=genomic;mol_type=genomic DNA;sex=female\\n']\n",
      "['NW_005871447.1', 'RefSeq', 'region', '1', '1004160', '.', '+', '.', 'ID=id435422;Dbxref=taxon:59463;Name=Unknown;chromosome=Unknown;country=USA: Framingham%2C MA;gbkey=Src;genome=genomic;mol_type=genomic DNA;sex=female\\n']\n",
      "['NW_005871520.1', 'RefSeq', 'region', '1', '710619', '.', '+', '.', 'ID=id456862;Dbxref=taxon:59463;Name=Unknown;chromosome=Unknown;country=USA: Framingham%2C MA;gbkey=Src;genome=genomic;mol_type=genomic DNA;sex=female\\n']\n",
      "['NW_005871552.1', 'RefSeq', 'region', '1', '601910', '.', '+', '.', 'ID=id465901;Dbxref=taxon:59463;Name=Unknown;chromosome=Unknown;country=USA: Framingham%2C MA;gbkey=Src;genome=genomic;mol_type=genomic DNA;sex=female\\n']\n",
      "['NW_005871552.1', 'Gnomon', 'gene', '499696', '528146', '.', '-', '.', 'ID=gene23553;Dbxref=GeneID:102420083;Name=ERCC4;gbkey=Gene;gene=ERCC4;gene_biotype=protein_coding\\n']\n",
      "['NW_005871552.1', 'Gnomon', 'mRNA', '499696', '528146', '.', '-', '.', 'ID=rna40903;Parent=gene23553;Dbxref=GeneID:102420083,Genbank:XM_023744977.1;Name=XM_023744977.1;gbkey=mRNA;gene=ERCC4;model_evidence=Supporting evidence includes similarity to: 1 mRNA%2C and 100%25 coverage of the annotated genomic feature by RNAseq alignments%2C including 4 samples with support for all annotated introns;product=ERCC excision repair 4%2C endonuclease catalytic subunit%2C transcript variant X2;transcript_id=XM_023744977.1\\n']\n",
      "['NW_005871552.1', 'Gnomon', 'mRNA', '499696', '528145', '.', '-', '.', 'ID=rna40904;Parent=gene23553;Dbxref=GeneID:102420083,Genbank:XM_006103752.3;Name=XM_006103752.3;gbkey=mRNA;gene=ERCC4;model_evidence=Supporting evidence includes similarity to: 5 mRNAs%2C 3 Proteins%2C and 100%25 coverage of the annotated genomic feature by RNAseq alignments%2C including 10 samples with support for all annotated introns;product=ERCC excision repair 4%2C endonuclease catalytic subunit%2C transcript variant X1;transcript_id=XM_006103752.3\\n']\n",
      "['NW_005871562.1', 'RefSeq', 'region', '1', '592368', '.', '+', '.', 'ID=id468296;Dbxref=taxon:59463;Name=Unknown;chromosome=Unknown;country=USA: Framingham%2C MA;gbkey=Src;genome=genomic;mol_type=genomic DNA;sex=female\\n']\n",
      "['NW_005871763.1', 'RefSeq', 'region', '1', '283313', '.', '+', '.', 'ID=id502584;Dbxref=taxon:59463;Name=Unknown;chromosome=Unknown;country=USA: Framingham%2C MA;gbkey=Src;genome=genomic;mol_type=genomic DNA;sex=female\\n']\n"
     ]
    },
    {
     "name": "stdout",
     "output_type": "stream",
     "text": [
      "['NW_005871967.1', 'RefSeq', 'region', '1', '145539', '.', '+', '.', 'ID=id520168;Dbxref=taxon:59463;Name=Unknown;chromosome=Unknown;country=USA: Framingham%2C MA;gbkey=Src;genome=genomic;mol_type=genomic DNA;sex=female\\n']\n",
      "['NW_005872028.1', 'RefSeq', 'region', '1', '123542', '.', '+', '.', 'ID=id524264;Dbxref=taxon:59463;Name=Unknown;chromosome=Unknown;country=USA: Framingham%2C MA;gbkey=Src;genome=genomic;mol_type=genomic DNA;sex=female\\n']\n",
      "['NW_005872028.1', 'Gnomon', 'gene', '5481', '98250', '.', '-', '.', 'ID=gene27256;Dbxref=GeneID:102417583;Name=RAPGEF1;gbkey=Gene;gene=RAPGEF1;gene_biotype=protein_coding\\n']\n",
      "['NW_005872028.1', 'Gnomon', 'mRNA', '5481', '98250', '.', '-', '.', 'ID=rna46592;Parent=gene27256;Dbxref=GeneID:102417583,Genbank:XM_023747795.1;Name=XM_023747795.1;gbkey=mRNA;gene=RAPGEF1;model_evidence=Supporting evidence includes similarity to: 7 Proteins%2C and 100%25 coverage of the annotated genomic feature by RNAseq alignments%2C including 1 sample with support for all annotated introns;product=Rap guanine nucleotide exchange factor 1%2C transcript variant X2;transcript_id=XM_023747795.1\\n']\n",
      "['NW_005872028.1', 'Gnomon', 'mRNA', '5481', '98250', '.', '-', '.', 'ID=rna46593;Parent=gene27256;Dbxref=GeneID:102417583,Genbank:XM_023747793.1;Name=XM_023747793.1;gbkey=mRNA;gene=RAPGEF1;model_evidence=Supporting evidence includes similarity to: 1 Protein%2C and 100%25 coverage of the annotated genomic feature by RNAseq alignments;product=Rap guanine nucleotide exchange factor 1%2C transcript variant X1;transcript_id=XM_023747793.1\\n']\n",
      "['NW_005872120.1', 'RefSeq', 'region', '1', '106138', '.', '+', '.', 'ID=id527572;Dbxref=taxon:59463;Name=Unknown;chromosome=Unknown;country=USA: Framingham%2C MA;gbkey=Src;genome=genomic;mol_type=genomic DNA;sex=female\\n']\n",
      "['NW_005872156.1', 'RefSeq', 'region', '1', '96376', '.', '+', '.', 'ID=id529614;Dbxref=taxon:59463;Name=Unknown;chromosome=Unknown;country=USA: Framingham%2C MA;gbkey=Src;genome=genomic;mol_type=genomic DNA;sex=female\\n']\n",
      "['NW_005875640.1', 'RefSeq', 'region', '1', '14423', '.', '+', '.', 'ID=id554157;Dbxref=taxon:59463;Name=Unknown;chromosome=Unknown;country=USA: Framingham%2C MA;gbkey=Src;genome=genomic;mol_type=genomic DNA;sex=female\\n']\n"
     ]
    },
    {
     "data": {
      "text/plain": [
       "115"
      ]
     },
     "execution_count": 3,
     "metadata": {},
     "output_type": "execute_result"
    }
   ],
   "source": [
    "f=open('/local/home/sarahgw/WGS/SNPS/All_mylu/snps/NJNY50noout1.5_sigCompvaluesNe424_296.csv', 'r')\n",
    "a=open('/local/home/sarahgw/references/ref_Myoluc2.0_top_level.gff3', 'r')\n",
    "flines = f.readlines()[1:]\n",
    "chrom_dict = {}\n",
    "for line in flines:\n",
    "    line = line.replace('\"', '')\n",
    "    args = line.split(',')\n",
    "    chrom_dict[args[2]] = int(args[3])\n",
    "\n",
    "aline = a.readline()\n",
    "count = 0\n",
    "while aline:\n",
    "    agroups = aline.split('\\t')\n",
    "    #print(agroups)\n",
    "    chrom = agroups[0]\n",
    "    if chrom in chrom_dict:\n",
    "        loc = chrom_dict[chrom]\n",
    "        if int(agroups[3]) < (loc) and int(agroups[4]) > (loc):\n",
    "            count += 1\n",
    "            print agroups\n",
    "    aline = a.readline()\n",
    "count"
   ]
  },
  {
   "cell_type": "code",
   "execution_count": 9,
   "metadata": {
    "scrolled": true
   },
   "outputs": [
    {
     "name": "stdout",
     "output_type": "stream",
     "text": [
      "['NW_005871048.1', 'RefSeq', 'region', '1', '64990205', '.', '+', '.', 'ID=id0;Dbxref=taxon:59463;Name=Unknown;chromosome=Unknown;country=USA: Framingham%2C MA;gbkey=Src;genome=genomic;mol_type=genomic DNA;sex=female\\n']\n",
      "['NW_005871049.1', 'RefSeq', 'region', '1', '39494369', '.', '+', '.', 'ID=id14505;Dbxref=taxon:59463;Name=Unknown;chromosome=Unknown;country=USA: Framingham%2C MA;gbkey=Src;genome=genomic;mol_type=genomic DNA;sex=female\\n']\n",
      "['NW_005871051.1', 'RefSeq', 'region', '1', '30916457', '.', '+', '.', 'ID=id28999;Dbxref=taxon:59463;Name=Unknown;chromosome=Unknown;country=USA: Framingham%2C MA;gbkey=Src;genome=genomic;mol_type=genomic DNA;sex=female\\n']\n",
      "['NW_005871053.1', 'RefSeq', 'region', '1', '20945196', '.', '+', '.', 'ID=id44306;Dbxref=taxon:59463;Name=Unknown;chromosome=Unknown;country=USA: Framingham%2C MA;gbkey=Src;genome=genomic;mol_type=genomic DNA;sex=female\\n']\n",
      "['NW_005871053.1', 'Gnomon', 'gene', '14979316', '15072600', '.', '-', '.', 'ID=gene2361;Dbxref=GeneID:102418508;Name=LOC102418508;gbkey=Gene;gene=LOC102418508;gene_biotype=protein_coding\\n']\n",
      "['NW_005871053.1', 'Gnomon', 'mRNA', '14979316', '15072600', '.', '-', '.', 'ID=rna4040;Parent=gene2361;Dbxref=GeneID:102418508,Genbank:XM_006083188.3;Name=XM_006083188.3;gbkey=mRNA;gene=LOC102418508;model_evidence=Supporting evidence includes similarity to: 6 mRNAs%2C 51 Proteins%2C and 34%25 coverage of the annotated genomic feature by RNAseq alignments;product=sodium channel protein type 2 subunit alpha%2C transcript variant X1;transcript_id=XM_006083188.3\\n']\n",
      "['NW_005871053.1', 'Gnomon', 'mRNA', '14979316', '15072394', '.', '-', '.', 'ID=rna4041;Parent=gene2361;Dbxref=GeneID:102418508,Genbank:XM_006083189.3;Name=XM_006083189.3;gbkey=mRNA;gene=LOC102418508;model_evidence=Supporting evidence includes similarity to: 4 mRNAs%2C 44 Proteins%2C and 33%25 coverage of the annotated genomic feature by RNAseq alignments;product=sodium channel protein type 2 subunit alpha%2C transcript variant X2;transcript_id=XM_006083189.3\\n']\n",
      "['NW_005871054.1', 'RefSeq', 'region', '1', '20779464', '.', '+', '.', 'ID=id51394;Dbxref=taxon:59463;Name=Unknown;chromosome=Unknown;country=USA: Framingham%2C MA;gbkey=Src;genome=genomic;mol_type=genomic DNA;sex=female\\n']\n",
      "['NW_005871056.1', 'RefSeq', 'region', '1', '18579217', '.', '+', '.', 'ID=id61133;Dbxref=taxon:59463;Name=Unknown;chromosome=Unknown;country=USA: Framingham%2C MA;gbkey=Src;genome=genomic;mol_type=genomic DNA;sex=female\\n']\n",
      "['NW_005871059.1', 'RefSeq', 'region', '1', '16239124', '.', '+', '.', 'ID=id75527;Dbxref=taxon:59463;Name=Unknown;chromosome=Unknown;country=USA: Framingham%2C MA;gbkey=Src;genome=genomic;mol_type=genomic DNA;sex=female\\n']\n",
      "['NW_005871062.1', 'RefSeq', 'region', '1', '15274826', '.', '+', '.', 'ID=id85264;Dbxref=taxon:59463;Name=Unknown;chromosome=Unknown;country=USA: Framingham%2C MA;gbkey=Src;genome=genomic;mol_type=genomic DNA;sex=female\\n']\n",
      "['NW_005871062.1', 'Gnomon', 'gene', '7590919', '7653791', '.', '+', '.', 'ID=gene4088;Dbxref=GeneID:102427812;Name=MASP1;gbkey=Gene;gene=MASP1;gene_biotype=protein_coding\\n']\n",
      "['NW_005871062.1', 'Gnomon', 'mRNA', '7590919', '7637874', '.', '+', '.', 'ID=rna7049;Parent=gene4088;Dbxref=GeneID:102427812,Genbank:XM_006084791.3;Name=XM_006084791.3;gbkey=mRNA;gene=MASP1;model_evidence=Supporting evidence includes similarity to: 3 mRNAs%2C 8 Proteins%2C and 99%25 coverage of the annotated genomic feature by RNAseq alignments%2C including 1 sample with support for all annotated introns;product=mannan binding lectin serine peptidase 1%2C transcript variant X1;transcript_id=XM_006084791.3\\n']\n",
      "['NW_005871062.1', 'Gnomon', 'mRNA', '7590957', '7653791', '.', '+', '.', 'ID=rna7050;Parent=gene4088;Dbxref=GeneID:102427812,Genbank:XM_006084792.3;Name=XM_006084792.3;gbkey=mRNA;gene=MASP1;model_evidence=Supporting evidence includes similarity to: 1 mRNA%2C 9 Proteins%2C and 72%25 coverage of the annotated genomic feature by RNAseq alignments;product=mannan binding lectin serine peptidase 1%2C transcript variant X2;transcript_id=XM_006084792.3\\n']\n",
      "['NW_005871064.1', 'RefSeq', 'region', '1', '15202523', '.', '+', '.', 'ID=id93550;Dbxref=taxon:59463;Name=Unknown;chromosome=Unknown;country=USA: Framingham%2C MA;gbkey=Src;genome=genomic;mol_type=genomic DNA;sex=female\\n']\n",
      "['NW_005871065.1', 'RefSeq', 'region', '1', '14577598', '.', '+', '.', 'ID=id95959;Dbxref=taxon:59463;Name=Unknown;chromosome=Unknown;country=USA: Framingham%2C MA;gbkey=Src;genome=genomic;mol_type=genomic DNA;sex=female\\n']\n",
      "['NW_005871066.1', 'RefSeq', 'region', '1', '13883066', '.', '+', '.', 'ID=id98425;Dbxref=taxon:59463;Name=Unknown;chromosome=Unknown;country=USA: Framingham%2C MA;gbkey=Src;genome=genomic;mol_type=genomic DNA;sex=female\\n']\n",
      "['NW_005871066.1', 'Gnomon', 'gene', '3108640', '3283181', '.', '-', '.', 'ID=gene4630;Dbxref=GeneID:102431644;Name=BMPER;gbkey=Gene;gene=BMPER;gene_biotype=protein_coding\\n']\n",
      "['NW_005871066.1', 'Gnomon', 'mRNA', '3108640', '3283181', '.', '-', '.', 'ID=rna8025;Parent=gene4630;Dbxref=GeneID:102431644,Genbank:XM_014452760.2;Name=XM_014452760.2;gbkey=mRNA;gene=BMPER;model_evidence=Supporting evidence includes similarity to: 8 Proteins%2C and 92%25 coverage of the annotated genomic feature by RNAseq alignments;product=BMP binding endothelial regulator;transcript_id=XM_014452760.2\\n']\n",
      "['NW_005871073.1', 'RefSeq', 'region', '1', '10646666', '.', '+', '.', 'ID=id114773;Dbxref=taxon:59463;Name=Unknown;chromosome=Unknown;country=USA: Framingham%2C MA;gbkey=Src;genome=genomic;mol_type=genomic DNA;sex=female\\n']\n",
      "['NW_005871075.1', 'RefSeq', 'region', '1', '10593136', '.', '+', '.', 'ID=id117917;Dbxref=taxon:59463;Name=Unknown;chromosome=Unknown;country=USA: Framingham%2C MA;gbkey=Src;genome=genomic;mol_type=genomic DNA;sex=female\\n']\n",
      "['NW_005871076.1', 'RefSeq', 'region', '1', '10643064', '.', '+', '.', 'ID=id119730;Dbxref=taxon:59463;Name=Unknown;chromosome=Unknown;country=USA: Framingham%2C MA;gbkey=Src;genome=genomic;mol_type=genomic DNA;sex=female\\n']\n",
      "['NW_005871076.1', 'Gnomon', 'gene', '3903932', '3912832', '.', '+', '.', 'ID=gene5943;Dbxref=GeneID:102433949;Name=GNPDA1;gbkey=Gene;gene=GNPDA1;gene_biotype=protein_coding\\n']\n",
      "['NW_005871076.1', 'Gnomon', 'mRNA', '3903932', '3912832', '.', '+', '.', 'ID=rna9907;Parent=gene5943;Dbxref=GeneID:102433949,Genbank:XM_006086425.3;Name=XM_006086425.3;gbkey=mRNA;gene=GNPDA1;model_evidence=Supporting evidence includes similarity to: 5 mRNAs%2C 12 Proteins%2C and 100%25 coverage of the annotated genomic feature by RNAseq alignments%2C including 26 samples with support for all annotated introns;product=glucosamine-6-phosphate deaminase 1;transcript_id=XM_006086425.3\\n']\n",
      "['NW_005871082.1', 'RefSeq', 'region', '1', '9085641', '.', '+', '.', 'ID=id131643;Dbxref=taxon:59463;Name=Unknown;chromosome=Unknown;country=USA: Framingham%2C MA;gbkey=Src;genome=genomic;mol_type=genomic DNA;sex=female\\n']\n",
      "['NW_005871090.1', 'RefSeq', 'region', '1', '7977881', '.', '+', '.', 'ID=id150862;Dbxref=taxon:59463;Name=Unknown;chromosome=Unknown;country=USA: Framingham%2C MA;gbkey=Src;genome=genomic;mol_type=genomic DNA;sex=female\\n']\n",
      "['NW_005871090.1', 'Gnomon', 'gene', '7376767', '7407471', '.', '-', '.', 'ID=gene7482;Dbxref=GeneID:102433137;Name=BFSP1;gbkey=Gene;gene=BFSP1;gene_biotype=protein_coding\\n']\n",
      "['NW_005871090.1', 'Gnomon', 'mRNA', '7376767', '7407471', '.', '-', '.', 'ID=rna12606;Parent=gene7482;Dbxref=GeneID:102433137,Genbank:XM_023753215.1;Name=XM_023753215.1;gbkey=mRNA;gene=BFSP1;model_evidence=Supporting evidence includes similarity to: 4 Proteins%2C and 62%25 coverage of the annotated genomic feature by RNAseq alignments;product=beaded filament structural protein 1;transcript_id=XM_023753215.1\\n']\n",
      "['NW_005871097.1', 'RefSeq', 'region', '1', '7348857', '.', '+', '.', 'ID=id162626;Dbxref=taxon:59463;Name=Unknown;chromosome=Unknown;country=USA: Framingham%2C MA;gbkey=Src;genome=genomic;mol_type=genomic DNA;sex=female\\n']\n",
      "['NW_005871097.1', 'Gnomon', 'gene', '3142067', '3321329', '.', '-', '.', 'ID=gene8121;Dbxref=GeneID:102440988;Name=REPS2;gbkey=Gene;gene=REPS2;gene_biotype=protein_coding\\n']\n",
      "['NW_005871097.1', 'Gnomon', 'mRNA', '3142067', '3321329', '.', '-', '.', 'ID=rna13665;Parent=gene8121;Dbxref=GeneID:102440988,Genbank:XM_023753740.1;Name=XM_023753740.1;gbkey=mRNA;gene=REPS2;model_evidence=Supporting evidence includes similarity to: 1 Protein%2C and 82%25 coverage of the annotated genomic feature by RNAseq alignments;product=RALBP1 associated Eps domain containing 2;transcript_id=XM_023753740.1\\n']\n",
      "['NW_005871100.1', 'RefSeq', 'region', '1', '7058687', '.', '+', '.', 'ID=id166315;Dbxref=taxon:59463;Name=Unknown;chromosome=Unknown;country=USA: Framingham%2C MA;gbkey=Src;genome=genomic;mol_type=genomic DNA;sex=female\\n']\n"
     ]
    },
    {
     "name": "stdout",
     "output_type": "stream",
     "text": [
      "['NW_005871109.1', 'RefSeq', 'region', '1', '6495742', '.', '+', '.', 'ID=id181624;Dbxref=taxon:59463;Name=Unknown;chromosome=Unknown;country=USA: Framingham%2C MA;gbkey=Src;genome=genomic;mol_type=genomic DNA;sex=female\\n']\n",
      "['NW_005871109.1', 'Gnomon', 'gene', '2888188', '3176295', '.', '+', '.', 'ID=gene9224;Dbxref=GeneID:102435828;Name=GALNT18;gbkey=Gene;gene=GALNT18;gene_biotype=protein_coding\\n']\n",
      "['NW_005871109.1', 'Gnomon', 'mRNA', '2888188', '3176295', '.', '+', '.', 'ID=rna15475;Parent=gene9224;Dbxref=GeneID:102435828,Genbank:XM_006089610.3;Name=XM_006089610.3;gbkey=mRNA;gene=GALNT18;model_evidence=Supporting evidence includes similarity to: 6 mRNAs%2C 7 Proteins%2C and 99%25 coverage of the annotated genomic feature by RNAseq alignments%2C including 9 samples with support for all annotated introns;product=polypeptide N-acetylgalactosaminyltransferase 18%2C transcript variant X1;transcript_id=XM_006089610.3\\n']\n",
      "['NW_005871109.1', 'Gnomon', 'mRNA', '2888188', '3176292', '.', '+', '.', 'ID=rna15476;Parent=gene9224;Dbxref=GeneID:102435828,Genbank:XM_014456606.2;Name=XM_014456606.2;gbkey=mRNA;gene=GALNT18;model_evidence=Supporting evidence includes similarity to: 1 Protein%2C and 100%25 coverage of the annotated genomic feature by RNAseq alignments%2C including 8 samples with support for all annotated introns;product=polypeptide N-acetylgalactosaminyltransferase 18%2C transcript variant X2;transcript_id=XM_014456606.2\\n']\n",
      "['NW_005871116.1', 'RefSeq', 'region', '1', '5728823', '.', '+', '.', 'ID=id192215;Dbxref=taxon:59463;Name=Unknown;chromosome=Unknown;country=USA: Framingham%2C MA;gbkey=Src;genome=genomic;mol_type=genomic DNA;sex=female\\n']\n",
      "['NW_005871122.1', 'RefSeq', 'region', '1', '5136827', '.', '+', '.', 'ID=id201139;Dbxref=taxon:59463;Name=Unknown;chromosome=Unknown;country=USA: Framingham%2C MA;gbkey=Src;genome=genomic;mol_type=genomic DNA;sex=female\\n']\n",
      "['NW_005871122.1', 'Gnomon', 'gene', '3434412', '3529751', '.', '-', '.', 'ID=gene10137;Dbxref=GeneID:102437398;Name=PCDH17;gbkey=Gene;gene=PCDH17;gene_biotype=protein_coding\\n']\n",
      "['NW_005871122.1', 'Gnomon', 'mRNA', '3434412', '3529751', '.', '-', '.', 'ID=rna17052;Parent=gene10137;Dbxref=GeneID:102437398,Genbank:XM_006090529.3;Name=XM_006090529.3;gbkey=mRNA;gene=PCDH17;model_evidence=Supporting evidence includes similarity to: 2 mRNAs%2C 5 Proteins%2C and 95%25 coverage of the annotated genomic feature by RNAseq alignments;product=protocadherin 17;transcript_id=XM_006090529.3\\n']\n",
      "['NW_005871123.1', 'RefSeq', 'region', '1', '5160323', '.', '+', '.', 'ID=id201293;Dbxref=taxon:59463;Name=Unknown;chromosome=Unknown;country=USA: Framingham%2C MA;gbkey=Src;genome=genomic;mol_type=genomic DNA;sex=female\\n']\n",
      "['NW_005871126.1', 'RefSeq', 'region', '1', '5037443', '.', '+', '.', 'ID=id204375;Dbxref=taxon:59463;Name=Unknown;chromosome=Unknown;country=USA: Framingham%2C MA;gbkey=Src;genome=genomic;mol_type=genomic DNA;sex=female\\n']\n",
      "['NW_005871126.1', 'Gnomon', 'gene', '1709020', '2102226', '.', '+', '.', 'ID=gene10320;Dbxref=GeneID:102433978;Name=SOX5;gbkey=Gene;gene=SOX5;gene_biotype=protein_coding\\n']\n",
      "['NW_005871126.1', 'Gnomon', 'mRNA', '1709020', '2102226', '.', '+', '.', 'ID=rna17342;Parent=gene10320;Dbxref=GeneID:102433978,Genbank:XM_006090652.3;Name=XM_006090652.3;gbkey=mRNA;gene=SOX5;model_evidence=Supporting evidence includes similarity to: 6 mRNAs%2C 7 Proteins%2C and 94%25 coverage of the annotated genomic feature by RNAseq alignments;product=SRY-box 5;transcript_id=XM_006090652.3\\n']\n",
      "['NW_005871129.1', 'RefSeq', 'region', '1', '4918922', '.', '+', '.', 'ID=id207190;Dbxref=taxon:59463;Name=Unknown;chromosome=Unknown;country=USA: Framingham%2C MA;gbkey=Src;genome=genomic;mol_type=genomic DNA;sex=female\\n']\n",
      "['NW_005871129.1', 'Gnomon', 'gene', '2123766', '3029105', '.', '-', '.', 'ID=gene10442;Dbxref=GeneID:102423892;Name=MDGA2;gbkey=Gene;gene=MDGA2;gene_biotype=protein_coding\\n']\n",
      "['NW_005871129.1', 'Gnomon', 'mRNA', '2123766', '3029105', '.', '-', '.', 'ID=rna17512;Parent=gene10442;Dbxref=GeneID:102423892,Genbank:XM_006090751.3;Name=XM_006090751.3;gbkey=mRNA;gene=MDGA2;model_evidence=Supporting evidence includes similarity to: 5 mRNAs%2C 5 Proteins%2C and 17%25 coverage of the annotated genomic feature by RNAseq alignments;product=MAM domain containing glycosylphosphatidylinositol anchor 2%2C transcript variant X1;transcript_id=XM_006090751.3\\n']\n",
      "['NW_005871129.1', 'Gnomon', 'mRNA', '2123766', '2635771', '.', '-', '.', 'ID=rna17513;Parent=gene10442;Dbxref=GeneID:102423892,Genbank:XM_006090753.2;Name=XM_006090753.2;gbkey=mRNA;gene=MDGA2;model_evidence=Supporting evidence includes similarity to: 5 mRNAs%2C 1 Protein%2C and 9%25 coverage of the annotated genomic feature by RNAseq alignments;product=MAM domain containing glycosylphosphatidylinositol anchor 2%2C transcript variant X2;transcript_id=XM_006090753.2\\n']\n",
      "['NW_005871131.1', 'RefSeq', 'region', '1', '4872659', '.', '+', '.', 'ID=id208076;Dbxref=taxon:59463;Name=Unknown;chromosome=Unknown;country=USA: Framingham%2C MA;gbkey=Src;genome=genomic;mol_type=genomic DNA;sex=female\\n']\n",
      "['NW_005871131.1', 'Gnomon', 'gene', '986705', '1276007', '.', '+', '.', 'ID=gene10537;Dbxref=GeneID:102420982;Name=CACNA1D;gbkey=Gene;gene=CACNA1D;gene_biotype=protein_coding\\n']\n",
      "['NW_005871131.1', 'Gnomon', 'mRNA', '986705', '1276007', '.', '+', '.', 'ID=rna17654;Parent=gene10537;Dbxref=GeneID:102420982,Genbank:XM_023755748.1;Name=XM_023755748.1;Note=The sequence of the model RefSeq transcript was modified relative to this genomic sequence to represent the inferred CDS: deleted 1 base in 1 codon;exception=unclassified transcription discrepancy;gbkey=mRNA;gene=CACNA1D;model_evidence=Supporting evidence includes similarity to: 3 Proteins%2C and 55%25 coverage of the annotated genomic feature by RNAseq alignments;product=calcium voltage-gated channel subunit alpha1 D;transcript_id=XM_023755748.1\\n']\n",
      "['NW_005871133.1', 'RefSeq', 'region', '1', '4788395', '.', '+', '.', 'ID=id212530;Dbxref=taxon:59463;Name=Unknown;chromosome=Unknown;country=USA: Framingham%2C MA;gbkey=Src;genome=genomic;mol_type=genomic DNA;sex=female\\n']\n",
      "['NW_005871136.1', 'RefSeq', 'region', '1', '4679154', '.', '+', '.', 'ID=id215563;Dbxref=taxon:59463;Name=Unknown;chromosome=Unknown;country=USA: Framingham%2C MA;gbkey=Src;genome=genomic;mol_type=genomic DNA;sex=female\\n']\n",
      "['NW_005871136.1', 'Gnomon', 'gene', '4372562', '4411869', '.', '-', '.', 'ID=gene10904;Dbxref=GeneID:102426505;Name=FA2H;gbkey=Gene;gene=FA2H;gene_biotype=protein_coding\\n']\n",
      "['NW_005871136.1', 'Gnomon', 'mRNA', '4372562', '4411869', '.', '-', '.', 'ID=rna18385;Parent=gene10904;Dbxref=GeneID:102426505,Genbank:XM_006091226.3;Name=XM_006091226.3;gbkey=mRNA;gene=FA2H;model_evidence=Supporting evidence includes similarity to: 4 Proteins%2C and 100%25 coverage of the annotated genomic feature by RNAseq alignments%2C including 4 samples with support for all annotated introns;product=fatty acid 2-hydroxylase;transcript_id=XM_006091226.3\\n']\n",
      "['NW_005871138.1', 'RefSeq', 'region', '1', '4706120', '.', '+', '.', 'ID=id218963;Dbxref=taxon:59463;Name=Unknown;chromosome=Unknown;country=USA: Framingham%2C MA;gbkey=Src;genome=genomic;mol_type=genomic DNA;sex=female\\n']\n",
      "['NW_005871138.1', 'Gnomon', 'gene', '128852', '142316', '.', '-', '.', 'ID=gene10947;Dbxref=GeneID:102423895;Name=TPRA1;gbkey=Gene;gene=TPRA1;gene_biotype=protein_coding\\n']\n",
      "['NW_005871138.1', 'Gnomon', 'mRNA', '128852', '142316', '.', '-', '.', 'ID=rna18473;Parent=gene10947;Dbxref=GeneID:102423895,Genbank:XM_006091291.3;Name=XM_006091291.3;gbkey=mRNA;gene=TPRA1;model_evidence=Supporting evidence includes similarity to: 4 Proteins%2C and 100%25 coverage of the annotated genomic feature by RNAseq alignments%2C including 31 samples with support for all annotated introns;product=transmembrane protein adipocyte associated 1;transcript_id=XM_006091291.3\\n']\n",
      "['NW_005871140.1', 'RefSeq', 'region', '1', '4592439', '.', '+', '.', 'ID=id224920;Dbxref=taxon:59463;Name=Unknown;chromosome=Unknown;country=USA: Framingham%2C MA;gbkey=Src;genome=genomic;mol_type=genomic DNA;sex=female\\n']\n",
      "['NW_005871142.1', 'RefSeq', 'region', '1', '4514962', '.', '+', '.', 'ID=id226172;Dbxref=taxon:59463;Name=Unknown;chromosome=Unknown;country=USA: Framingham%2C MA;gbkey=Src;genome=genomic;mol_type=genomic DNA;sex=female\\n']\n",
      "['NW_005871142.1', 'Gnomon', 'gene', '263205', '312860', '.', '+', '.', 'ID=gene11267;Dbxref=GeneID:102442682;Name=ADCY3;gbkey=Gene;gene=ADCY3;gene_biotype=protein_coding\\n']\n",
      "['NW_005871142.1', 'Gnomon', 'mRNA', '263205', '312362', '.', '+', '.', 'ID=rna19111;Parent=gene11267;Dbxref=GeneID:102442682,Genbank:XM_006091691.3;Name=XM_006091691.3;gbkey=mRNA;gene=ADCY3;model_evidence=Supporting evidence includes similarity to: 5 mRNAs%2C 10 Proteins%2C and 99%25 coverage of the annotated genomic feature by RNAseq alignments%2C including 1 sample with support for all annotated introns;product=adenylate cyclase 3%2C transcript variant X1;transcript_id=XM_006091691.3\\n']\n",
      "['NW_005871142.1', 'Gnomon', 'mRNA', '263528', '312860', '.', '+', '.', 'ID=rna19112;Parent=gene11267;Dbxref=GeneID:102442682,Genbank:XM_023756431.1;Name=XM_023756431.1;gbkey=mRNA;gene=ADCY3;model_evidence=Supporting evidence includes similarity to: 5 mRNAs%2C 10 Proteins%2C and 99%25 coverage of the annotated genomic feature by RNAseq alignments%2C including 14 samples with support for all annotated introns;product=adenylate cyclase 3%2C transcript variant X2;transcript_id=XM_023756431.1\\n']\n"
     ]
    },
    {
     "name": "stdout",
     "output_type": "stream",
     "text": [
      "['NW_005871148.1', 'RefSeq', 'region', '1', '4444721', '.', '+', '.', 'ID=id238203;Dbxref=taxon:59463;Name=Unknown;chromosome=Unknown;country=USA: Framingham%2C MA;gbkey=Src;genome=genomic;mol_type=genomic DNA;sex=female\\n']\n",
      "['NW_005871148.1', 'Gnomon', 'gene', '2560994', '2842740', '.', '-', '.', 'ID=gene11898;Dbxref=GeneID:102438113;Name=CEP112;gbkey=Gene;gene=CEP112;gene_biotype=protein_coding\\n']\n",
      "['NW_005871148.1', 'Gnomon', 'mRNA', '2560994', '2842740', '.', '-', '.', 'ID=rna20342;Parent=gene11898;Dbxref=GeneID:102438113,Genbank:XM_014458887.2;Name=XM_014458887.2;gbkey=mRNA;gene=CEP112;model_evidence=Supporting evidence includes similarity to: 2 Proteins%2C and 100%25 coverage of the annotated genomic feature by RNAseq alignments;product=centrosomal protein 112;transcript_id=XM_014458887.2\\n']\n",
      "['NW_005871154.1', 'RefSeq', 'region', '1', '4280553', '.', '+', '.', 'ID=id250845;Dbxref=taxon:59463;Name=Unknown;chromosome=Unknown;country=USA: Framingham%2C MA;gbkey=Src;genome=genomic;mol_type=genomic DNA;sex=female\\n']\n",
      "['NW_005871160.1', 'RefSeq', 'region', '1', '4019553', '.', '+', '.', 'ID=id259229;Dbxref=taxon:59463;Name=Unknown;chromosome=Unknown;country=USA: Framingham%2C MA;gbkey=Src;genome=genomic;mol_type=genomic DNA;sex=female\\n']\n",
      "['NW_005871161.1', 'RefSeq', 'region', '1', '4045589', '.', '+', '.', 'ID=id259844;Dbxref=taxon:59463;Name=Unknown;chromosome=Unknown;country=USA: Framingham%2C MA;gbkey=Src;genome=genomic;mol_type=genomic DNA;sex=female\\n']\n",
      "['NW_005871161.1', 'Gnomon', 'gene', '23726', '178648', '.', '-', '.', 'ID=gene12804;Dbxref=GeneID:102431170;Name=TG;gbkey=Gene;gene=TG;gene_biotype=protein_coding\\n']\n",
      "['NW_005871161.1', 'Gnomon', 'mRNA', '23726', '178648', '.', '-', '.', 'ID=rna22019;Parent=gene12804;Dbxref=GeneID:102431170,Genbank:XM_023757773.1;Name=XM_023757773.1;gbkey=mRNA;gene=TG;model_evidence=Supporting evidence includes similarity to: 3 Proteins%2C and 16%25 coverage of the annotated genomic feature by RNAseq alignments;product=thyroglobulin;transcript_id=XM_023757773.1\\n']\n",
      "['NW_005871166.1', 'RefSeq', 'region', '1', '3905128', '.', '+', '.', 'ID=id263990;Dbxref=taxon:59463;Name=Unknown;chromosome=Unknown;country=USA: Framingham%2C MA;gbkey=Src;genome=genomic;mol_type=genomic DNA;sex=female\\n']\n",
      "['NW_005871169.1', 'RefSeq', 'region', '1', '3838405', '.', '+', '.', 'ID=id267292;Dbxref=taxon:59463;Name=Unknown;chromosome=Unknown;country=USA: Framingham%2C MA;gbkey=Src;genome=genomic;mol_type=genomic DNA;sex=female\\n']\n",
      "['NW_005871172.1', 'RefSeq', 'region', '1', '3705170', '.', '+', '.', 'ID=id268520;Dbxref=taxon:59463;Name=Unknown;chromosome=Unknown;country=USA: Framingham%2C MA;gbkey=Src;genome=genomic;mol_type=genomic DNA;sex=female\\n']\n",
      "['NW_005871174.1', 'RefSeq', 'region', '1', '3908256', '.', '+', '.', 'ID=id270821;Dbxref=taxon:59463;Name=Unknown;chromosome=Unknown;country=USA: Framingham%2C MA;gbkey=Src;genome=genomic;mol_type=genomic DNA;sex=female\\n']\n",
      "['NW_005871187.1', 'RefSeq', 'region', '1', '3538212', '.', '+', '.', 'ID=id285453;Dbxref=taxon:59463;Name=Unknown;chromosome=Unknown;country=USA: Framingham%2C MA;gbkey=Src;genome=genomic;mol_type=genomic DNA;sex=female\\n']\n",
      "['NW_005871187.1', 'Gnomon', 'gene', '1853352', '1968511', '.', '+', '.', 'ID=gene14209;Dbxref=GeneID:111827161;Name=LOC111827161;gbkey=Gene;gene=LOC111827161;gene_biotype=lncRNA\\n']\n",
      "['NW_005871187.1', 'Gnomon', 'lnc_RNA', '1853352', '1968511', '.', '+', '.', 'ID=rna24334;Parent=gene14209;Dbxref=GeneID:111827161,Genbank:XR_002830677.1;Name=XR_002830677.1;gbkey=ncRNA;gene=LOC111827161;model_evidence=Supporting evidence includes similarity to: 100%25 coverage of the annotated genomic feature by RNAseq alignments;product=uncharacterized LOC111827161;transcript_id=XR_002830677.1\\n']\n",
      "['NW_005871191.1', 'RefSeq', 'region', '1', '3403133', '.', '+', '.', 'ID=id287356;Dbxref=taxon:59463;Name=Unknown;chromosome=Unknown;country=USA: Framingham%2C MA;gbkey=Src;genome=genomic;mol_type=genomic DNA;sex=female\\n']\n",
      "['NW_005871191.1', 'Gnomon', 'gene', '2216577', '2888781', '.', '-', '.', 'ID=gene14416;Dbxref=GeneID:102435969;Name=NELL1;gbkey=Gene;gene=NELL1;gene_biotype=protein_coding\\n']\n",
      "['NW_005871191.1', 'Gnomon', 'mRNA', '2216577', '2888781', '.', '-', '.', 'ID=rna24556;Parent=gene14416;Dbxref=GeneID:102435969,Genbank:XM_023758901.1;Name=XM_023758901.1;gbkey=mRNA;gene=NELL1;model_evidence=Supporting evidence includes similarity to: 11 Proteins%2C and 94%25 coverage of the annotated genomic feature by RNAseq alignments;product=neural EGFL like 1;transcript_id=XM_023758901.1\\n']\n",
      "['NW_005871201.1', 'RefSeq', 'region', '1', '3152155', '.', '+', '.', 'ID=id298540;Dbxref=taxon:59463;Name=Unknown;chromosome=Unknown;country=USA: Framingham%2C MA;gbkey=Src;genome=genomic;mol_type=genomic DNA;sex=female\\n']\n",
      "['NW_005871201.1', 'Gnomon', 'gene', '2063255', '2448072', '.', '-', '.', 'ID=gene14963;Dbxref=GeneID:102440093;Name=SEMA5A;gbkey=Gene;gene=SEMA5A;gene_biotype=protein_coding\\n']\n",
      "['NW_005871201.1', 'Gnomon', 'mRNA', '2063255', '2448072', '.', '-', '.', 'ID=rna25654;Parent=gene14963;Dbxref=GeneID:102440093,Genbank:XM_006095388.3;Name=XM_006095388.3;gbkey=mRNA;gene=SEMA5A;model_evidence=Supporting evidence includes similarity to: 7 Proteins%2C and 99%25 coverage of the annotated genomic feature by RNAseq alignments;product=semaphorin 5A;transcript_id=XM_006095388.3\\n']\n",
      "['NW_005871208.1', 'RefSeq', 'region', '1', '3092412', '.', '+', '.', 'ID=id304554;Dbxref=taxon:59463;Name=Unknown;chromosome=Unknown;country=USA: Framingham%2C MA;gbkey=Src;genome=genomic;mol_type=genomic DNA;sex=female\\n']\n",
      "['NW_005871210.1', 'RefSeq', 'region', '1', '3019976', '.', '+', '.', 'ID=id307691;Dbxref=taxon:59463;Name=Unknown;chromosome=Unknown;country=USA: Framingham%2C MA;gbkey=Src;genome=genomic;mol_type=genomic DNA;sex=female\\n']\n",
      "['NW_005871210.1', 'Gnomon', 'gene', '2499532', '3006516', '.', '+', '.', 'ID=gene15442;Dbxref=GeneID:102425362;Name=SORCS3;gbkey=Gene;gene=SORCS3;gene_biotype=protein_coding\\n']\n",
      "['NW_005871210.1', 'Gnomon', 'mRNA', '2499532', '3006516', '.', '+', '.', 'ID=rna26668;Parent=gene15442;Dbxref=GeneID:102425362,Genbank:XM_006095936.3;Name=XM_006095936.3;gbkey=mRNA;gene=SORCS3;model_evidence=Supporting evidence includes similarity to: 4 mRNAs%2C 11 Proteins%2C and 30%25 coverage of the annotated genomic feature by RNAseq alignments;product=sortilin related VPS10 domain containing receptor 3;transcript_id=XM_006095936.3\\n']\n",
      "['NW_005871219.1', 'RefSeq', 'region', '1', '2865968', '.', '+', '.', 'ID=id315315;Dbxref=taxon:59463;Name=Unknown;chromosome=Unknown;country=USA: Framingham%2C MA;gbkey=Src;genome=genomic;mol_type=genomic DNA;sex=female\\n']\n",
      "['NW_005871227.1', 'RefSeq', 'region', '1', '2713385', '.', '+', '.', 'ID=id320702;Dbxref=taxon:59463;Name=Unknown;chromosome=Unknown;country=USA: Framingham%2C MA;gbkey=Src;genome=genomic;mol_type=genomic DNA;sex=female\\n']\n",
      "['NW_005871228.1', 'RefSeq', 'region', '1', '2723584', '.', '+', '.', 'ID=id320747;Dbxref=taxon:59463;Name=Unknown;chromosome=Unknown;country=USA: Framingham%2C MA;gbkey=Src;genome=genomic;mol_type=genomic DNA;sex=female\\n']\n",
      "['NW_005871231.1', 'RefSeq', 'region', '1', '2651257', '.', '+', '.', 'ID=id323591;Dbxref=taxon:59463;Name=Unknown;chromosome=Unknown;country=USA: Framingham%2C MA;gbkey=Src;genome=genomic;mol_type=genomic DNA;sex=female\\n']\n",
      "['NW_005871236.1', 'RefSeq', 'region', '1', '2551290', '.', '+', '.', 'ID=id327813;Dbxref=taxon:59463;Name=Unknown;chromosome=Unknown;country=USA: Framingham%2C MA;gbkey=Src;genome=genomic;mol_type=genomic DNA;sex=female\\n']\n",
      "['NW_005871243.1', 'RefSeq', 'region', '1', '2513712', '.', '+', '.', 'ID=id331702;Dbxref=taxon:59463;Name=Unknown;chromosome=Unknown;country=USA: Framingham%2C MA;gbkey=Src;genome=genomic;mol_type=genomic DNA;sex=female\\n']\n",
      "['NW_005871246.1', 'RefSeq', 'region', '1', '2532579', '.', '+', '.', 'ID=id335396;Dbxref=taxon:59463;Name=Unknown;chromosome=Unknown;country=USA: Framingham%2C MA;gbkey=Src;genome=genomic;mol_type=genomic DNA;sex=female\\n']\n",
      "['NW_005871246.1', 'Gnomon', 'gene', '1936775', '1992192', '.', '-', '.', 'ID=gene16883;Dbxref=GeneID:102429022;Name=CBFA2T3;gbkey=Gene;gene=CBFA2T3;gene_biotype=protein_coding\\n']\n",
      "['NW_005871246.1', 'Gnomon', 'mRNA', '1936775', '1992192', '.', '-', '.', 'ID=rna29149;Parent=gene16883;Dbxref=GeneID:102429022,Genbank:XM_006097355.3;Name=XM_006097355.3;gbkey=mRNA;gene=CBFA2T3;model_evidence=Supporting evidence includes similarity to: 2 mRNAs%2C 1 Protein%2C and 99%25 coverage of the annotated genomic feature by RNAseq alignments;product=CBFA2/RUNX1 translocation partner 3;transcript_id=XM_006097355.3\\n']\n",
      "['NW_005871249.1', 'RefSeq', 'region', '1', '2483617', '.', '+', '.', 'ID=id338002;Dbxref=taxon:59463;Name=Unknown;chromosome=Unknown;country=USA: Framingham%2C MA;gbkey=Src;genome=genomic;mol_type=genomic DNA;sex=female\\n']\n",
      "['NW_005871249.1', 'Gnomon', 'gene', '2054615', '2250570', '.', '+', '.', 'ID=gene16970;Dbxref=GeneID:102430860;Name=SGCZ;gbkey=Gene;gene=SGCZ;gene_biotype=protein_coding\\n']\n",
      "['NW_005871249.1', 'Gnomon', 'mRNA', '2054615', '2250570', '.', '+', '.', 'ID=rna29301;Parent=gene16970;Dbxref=GeneID:102430860,Genbank:XM_023761193.1;Name=XM_023761193.1;gbkey=mRNA;gene=SGCZ;model_evidence=Supporting evidence includes similarity to: 3 mRNAs%2C 9 Proteins;product=sarcoglycan zeta%2C transcript variant X1;transcript_id=XM_023761193.1\\n']\n",
      "['NW_005871249.1', 'Gnomon', 'mRNA', '2054615', '2250060', '.', '+', '.', 'ID=rna29302;Parent=gene16970;Dbxref=GeneID:102430860,Genbank:XM_023761194.1;Name=XM_023761194.1;gbkey=mRNA;gene=SGCZ;model_evidence=Supporting evidence includes similarity to: 1 mRNA%2C 2 Proteins;product=sarcoglycan zeta%2C transcript variant X2;transcript_id=XM_023761194.1\\n']\n",
      "['NW_005871250.1', 'RefSeq', 'region', '1', '2370814', '.', '+', '.', 'ID=id338256;Dbxref=taxon:59463;Name=Unknown;chromosome=Unknown;country=USA: Framingham%2C MA;gbkey=Src;genome=genomic;mol_type=genomic DNA;sex=female\\n']\n"
     ]
    },
    {
     "name": "stdout",
     "output_type": "stream",
     "text": [
      "['NW_005871263.1', 'RefSeq', 'region', '1', '2259905', '.', '+', '.', 'ID=id349927;Dbxref=taxon:59463;Name=Unknown;chromosome=Unknown;country=USA: Framingham%2C MA;gbkey=Src;genome=genomic;mol_type=genomic DNA;sex=female\\n']\n",
      "['NW_005871279.1', 'RefSeq', 'region', '1', '1996049', '.', '+', '.', 'ID=id357671;Dbxref=taxon:59463;Name=Unknown;chromosome=Unknown;country=USA: Framingham%2C MA;gbkey=Src;genome=genomic;mol_type=genomic DNA;sex=female\\n']\n",
      "['NW_005871289.1', 'RefSeq', 'region', '1', '1901218', '.', '+', '.', 'ID=id361809;Dbxref=taxon:59463;Name=Unknown;chromosome=Unknown;country=USA: Framingham%2C MA;gbkey=Src;genome=genomic;mol_type=genomic DNA;sex=female\\n']\n",
      "['NW_005871299.1', 'RefSeq', 'region', '1', '1811804', '.', '+', '.', 'ID=id366663;Dbxref=taxon:59463;Name=Unknown;chromosome=Unknown;country=USA: Framingham%2C MA;gbkey=Src;genome=genomic;mol_type=genomic DNA;sex=female\\n']\n",
      "['NW_005871310.1', 'RefSeq', 'region', '1', '1841132', '.', '+', '.', 'ID=id371601;Dbxref=taxon:59463;Name=Unknown;chromosome=Unknown;country=USA: Framingham%2C MA;gbkey=Src;genome=genomic;mol_type=genomic DNA;sex=female\\n']\n",
      "['NW_005871310.1', 'Gnomon', 'gene', '1634027', '1669272', '.', '-', '.', 'ID=gene18766;Dbxref=GeneID:102443128;Name=GEMIN4;gbkey=Gene;gene=GEMIN4;gene_biotype=protein_coding\\n']\n",
      "['NW_005871310.1', 'Gnomon', 'mRNA', '1653940', '1669272', '.', '-', '.', 'ID=rna32507;Parent=gene18766;Dbxref=GeneID:102443128,Genbank:XM_023762809.1;Name=XM_023762809.1;gbkey=mRNA;gene=GEMIN4;model_evidence=Supporting evidence includes similarity to: 1 Protein%2C and 100%25 coverage of the annotated genomic feature by RNAseq alignments%2C including 8 samples with support for all annotated introns;product=gem nuclear organelle associated protein 4%2C transcript variant X2;transcript_id=XM_023762809.1\\n']\n",
      "['NW_005871310.1', 'Gnomon', 'gene', '1661352', '1661854', '.', '+', '.', 'ID=gene18768;Dbxref=GeneID:102421410;Name=LOC102421410;gbkey=Gene;gene=LOC102421410;gene_biotype=protein_coding\\n']\n",
      "['NW_005871310.1', 'Gnomon', 'mRNA', '1661352', '1661854', '.', '+', '.', 'ID=rna32510;Parent=gene18768;Dbxref=GeneID:102421410,Genbank:XM_023762812.1;Name=XM_023762812.1;gbkey=mRNA;gene=LOC102421410;model_evidence=Supporting evidence includes similarity to: 2 Proteins%2C and 100%25 coverage of the annotated genomic feature by RNAseq alignments;product=diazepam-binding inhibitor-like 5;transcript_id=XM_023762812.1\\n']\n",
      "['NW_005871310.1', 'Gnomon', 'exon', '1661352', '1661854', '.', '+', '.', 'ID=id372990;Parent=rna32510;Dbxref=GeneID:102421410,Genbank:XM_023762812.1;gbkey=mRNA;gene=LOC102421410;product=diazepam-binding inhibitor-like 5;transcript_id=XM_023762812.1\\n']\n",
      "['NW_005871382.1', 'RefSeq', 'region', '1', '1180006', '.', '+', '.', 'ID=id412464;Dbxref=taxon:59463;Name=Unknown;chromosome=Unknown;country=USA: Framingham%2C MA;gbkey=Src;genome=genomic;mol_type=genomic DNA;sex=female\\n']\n",
      "['NW_005871402.1', 'RefSeq', 'region', '1', '1199787', '.', '+', '.', 'ID=id420521;Dbxref=taxon:59463;Name=Unknown;chromosome=Unknown;country=USA: Framingham%2C MA;gbkey=Src;genome=genomic;mol_type=genomic DNA;sex=female\\n']\n",
      "['NW_005871409.1', 'RefSeq', 'region', '1', '1211147', '.', '+', '.', 'ID=id422448;Dbxref=taxon:59463;Name=Unknown;chromosome=Unknown;country=USA: Framingham%2C MA;gbkey=Src;genome=genomic;mol_type=genomic DNA;sex=female\\n']\n",
      "['NW_005871413.1', 'RefSeq', 'region', '1', '1152308', '.', '+', '.', 'ID=id422894;Dbxref=taxon:59463;Name=Unknown;chromosome=Unknown;country=USA: Framingham%2C MA;gbkey=Src;genome=genomic;mol_type=genomic DNA;sex=female\\n']\n",
      "['NW_005871437.1', 'RefSeq', 'region', '1', '1012336', '.', '+', '.', 'ID=id432624;Dbxref=taxon:59463;Name=Unknown;chromosome=Unknown;country=USA: Framingham%2C MA;gbkey=Src;genome=genomic;mol_type=genomic DNA;sex=female\\n']\n",
      "['NW_005871447.1', 'RefSeq', 'region', '1', '1004160', '.', '+', '.', 'ID=id435422;Dbxref=taxon:59463;Name=Unknown;chromosome=Unknown;country=USA: Framingham%2C MA;gbkey=Src;genome=genomic;mol_type=genomic DNA;sex=female\\n']\n",
      "['NW_005871520.1', 'RefSeq', 'region', '1', '710619', '.', '+', '.', 'ID=id456862;Dbxref=taxon:59463;Name=Unknown;chromosome=Unknown;country=USA: Framingham%2C MA;gbkey=Src;genome=genomic;mol_type=genomic DNA;sex=female\\n']\n",
      "['NW_005871552.1', 'RefSeq', 'region', '1', '601910', '.', '+', '.', 'ID=id465901;Dbxref=taxon:59463;Name=Unknown;chromosome=Unknown;country=USA: Framingham%2C MA;gbkey=Src;genome=genomic;mol_type=genomic DNA;sex=female\\n']\n",
      "['NW_005871552.1', 'Gnomon', 'gene', '220806', '409594', '.', '-', '.', 'ID=gene23550;Dbxref=GeneID:102419356;Name=MKL2;gbkey=Gene;gene=MKL2;gene_biotype=protein_coding\\n']\n",
      "['NW_005871552.1', 'Gnomon', 'mRNA', '220806', '409594', '.', '-', '.', 'ID=rna40893;Parent=gene23550;Dbxref=GeneID:102419356,Genbank:XM_023744978.1;Name=XM_023744978.1;gbkey=mRNA;gene=MKL2;model_evidence=Supporting evidence includes similarity to: 3 mRNAs%2C 7 Proteins%2C and 100%25 coverage of the annotated genomic feature by RNAseq alignments%2C including 5 samples with support for all annotated introns;product=MKL1/myocardin like 2%2C transcript variant X2;transcript_id=XM_023744978.1\\n']\n",
      "['NW_005871552.1', 'Gnomon', 'mRNA', '220806', '409594', '.', '-', '.', 'ID=rna40894;Parent=gene23550;Dbxref=GeneID:102419356,Genbank:XM_023744982.1;Name=XM_023744982.1;gbkey=mRNA;gene=MKL2;model_evidence=Supporting evidence includes similarity to: 2 Proteins%2C and 100%25 coverage of the annotated genomic feature by RNAseq alignments%2C including 3 samples with support for all annotated introns;product=MKL1/myocardin like 2%2C transcript variant X8;transcript_id=XM_023744982.1\\n']\n",
      "['NW_005871552.1', 'Gnomon', 'transcript', '220806', '409594', '.', '-', '.', 'ID=rna40895;Parent=gene23550;Dbxref=GeneID:102419356,Genbank:XR_002826495.1;Name=XR_002826495.1;gbkey=misc_RNA;gene=MKL2;model_evidence=Supporting evidence includes similarity to: 3 mRNAs%2C 7 Proteins%2C and 100%25 coverage of the annotated genomic feature by RNAseq alignments%2C including 2 samples with support for all annotated introns;product=MKL1/myocardin like 2%2C transcript variant X5;transcript_id=XR_002826495.1\\n']\n",
      "['NW_005871552.1', 'Gnomon', 'mRNA', '220806', '409594', '.', '-', '.', 'ID=rna40896;Parent=gene23550;Dbxref=GeneID:102419356,Genbank:XM_014446123.2;Name=XM_014446123.2;gbkey=mRNA;gene=MKL2;model_evidence=Supporting evidence includes similarity to: 3 mRNAs%2C 7 Proteins%2C and 100%25 coverage of the annotated genomic feature by RNAseq alignments%2C including 2 samples with support for all annotated introns;product=MKL1/myocardin like 2%2C transcript variant X1;transcript_id=XM_014446123.2\\n']\n",
      "['NW_005871552.1', 'Gnomon', 'mRNA', '220806', '409594', '.', '-', '.', 'ID=rna40897;Parent=gene23550;Dbxref=GeneID:102419356,Genbank:XM_023744979.1;Name=XM_023744979.1;gbkey=mRNA;gene=MKL2;model_evidence=Supporting evidence includes similarity to: 3 mRNAs%2C 7 Proteins%2C and 100%25 coverage of the annotated genomic feature by RNAseq alignments;product=MKL1/myocardin like 2%2C transcript variant X3;transcript_id=XM_023744979.1\\n']\n",
      "['NW_005871552.1', 'Gnomon', 'mRNA', '220806', '398116', '.', '-', '.', 'ID=rna40898;Parent=gene23550;Dbxref=GeneID:102419356,Genbank:XM_023744981.1;Name=XM_023744981.1;gbkey=mRNA;gene=MKL2;model_evidence=Supporting evidence includes similarity to: 3 mRNAs%2C 7 Proteins%2C and 100%25 coverage of the annotated genomic feature by RNAseq alignments%2C including 1 sample with support for all annotated introns;product=MKL1/myocardin like 2%2C transcript variant X6;transcript_id=XM_023744981.1\\n']\n",
      "['NW_005871552.1', 'Gnomon', 'mRNA', '220806', '398116', '.', '-', '.', 'ID=rna40899;Parent=gene23550;Dbxref=GeneID:102419356,Genbank:XM_023744980.1;Name=XM_023744980.1;gbkey=mRNA;gene=MKL2;model_evidence=Supporting evidence includes similarity to: 3 mRNAs%2C 7 Proteins%2C and 100%25 coverage of the annotated genomic feature by RNAseq alignments%2C including 1 sample with support for all annotated introns;product=MKL1/myocardin like 2%2C transcript variant X4;transcript_id=XM_023744980.1\\n']\n",
      "['NW_005871552.1', 'Gnomon', 'mRNA', '224715', '409594', '.', '-', '.', 'ID=rna40901;Parent=gene23550;Dbxref=GeneID:102419356,Genbank:XM_023744983.1;Name=XM_023744983.1;gbkey=mRNA;gene=MKL2;model_evidence=Supporting evidence includes similarity to: 3 mRNAs%2C 6 Proteins%2C and 100%25 coverage of the annotated genomic feature by RNAseq alignments%2C including 1 sample with support for all annotated introns;product=MKL1/myocardin like 2%2C transcript variant X9;transcript_id=XM_023744983.1\\n']\n",
      "['NW_005871560.1', 'RefSeq', 'region', '1', '619226', '.', '+', '.', 'ID=id467701;Dbxref=taxon:59463;Name=Unknown;chromosome=Unknown;country=USA: Framingham%2C MA;gbkey=Src;genome=genomic;mol_type=genomic DNA;sex=female\\n']\n",
      "['NW_005871562.1', 'RefSeq', 'region', '1', '592368', '.', '+', '.', 'ID=id468296;Dbxref=taxon:59463;Name=Unknown;chromosome=Unknown;country=USA: Framingham%2C MA;gbkey=Src;genome=genomic;mol_type=genomic DNA;sex=female\\n']\n",
      "['NW_005871619.1', 'RefSeq', 'region', '1', '477675', '.', '+', '.', 'ID=id480069;Dbxref=taxon:59463;Name=Unknown;chromosome=Unknown;country=USA: Framingham%2C MA;gbkey=Src;genome=genomic;mol_type=genomic DNA;sex=female\\n']\n",
      "['NW_005871619.1', 'Gnomon', 'gene', '297247', '377686', '.', '+', '.', 'ID=gene24278;Dbxref=GeneID:102427816;Name=BACE2;gbkey=Gene;gene=BACE2;gene_biotype=protein_coding\\n']\n",
      "['NW_005871619.1', 'Gnomon', 'mRNA', '297247', '377686', '.', '+', '.', 'ID=rna42162;Parent=gene24278;Dbxref=GeneID:102427816,Genbank:XM_023745698.1;Name=XM_023745698.1;gbkey=mRNA;gene=BACE2;model_evidence=Supporting evidence includes similarity to: 2 mRNAs%2C 3 Proteins%2C and 82%25 coverage of the annotated genomic feature by RNAseq alignments;product=beta-site APP-cleaving enzyme 2;transcript_id=XM_023745698.1\\n']\n",
      "['NW_005871665.1', 'RefSeq', 'region', '1', '468705', '.', '+', '.', 'ID=id489259;Dbxref=taxon:59463;Name=Unknown;chromosome=Unknown;country=USA: Framingham%2C MA;gbkey=Src;genome=genomic;mol_type=genomic DNA;sex=female\\n']\n",
      "['NW_005871701.1', 'RefSeq', 'region', '1', '351550', '.', '+', '.', 'ID=id494978;Dbxref=taxon:59463;Name=Unknown;chromosome=Unknown;country=USA: Framingham%2C MA;gbkey=Src;genome=genomic;mol_type=genomic DNA;sex=female\\n']\n",
      "['NW_005871763.1', 'RefSeq', 'region', '1', '283313', '.', '+', '.', 'ID=id502584;Dbxref=taxon:59463;Name=Unknown;chromosome=Unknown;country=USA: Framingham%2C MA;gbkey=Src;genome=genomic;mol_type=genomic DNA;sex=female\\n']\n"
     ]
    },
    {
     "name": "stdout",
     "output_type": "stream",
     "text": [
      "['NW_005871967.1', 'RefSeq', 'region', '1', '145539', '.', '+', '.', 'ID=id520168;Dbxref=taxon:59463;Name=Unknown;chromosome=Unknown;country=USA: Framingham%2C MA;gbkey=Src;genome=genomic;mol_type=genomic DNA;sex=female\\n']\n",
      "['NW_005871977.1', 'RefSeq', 'region', '1', '146487', '.', '+', '.', 'ID=id520514;Dbxref=taxon:59463;Name=Unknown;chromosome=Unknown;country=USA: Framingham%2C MA;gbkey=Src;genome=genomic;mol_type=genomic DNA;sex=female\\n']\n",
      "['NW_005872028.1', 'RefSeq', 'region', '1', '123542', '.', '+', '.', 'ID=id524264;Dbxref=taxon:59463;Name=Unknown;chromosome=Unknown;country=USA: Framingham%2C MA;gbkey=Src;genome=genomic;mol_type=genomic DNA;sex=female\\n']\n",
      "['NW_005872028.1', 'Gnomon', 'gene', '5481', '98250', '.', '-', '.', 'ID=gene27256;Dbxref=GeneID:102417583;Name=RAPGEF1;gbkey=Gene;gene=RAPGEF1;gene_biotype=protein_coding\\n']\n",
      "['NW_005872028.1', 'Gnomon', 'mRNA', '5481', '98250', '.', '-', '.', 'ID=rna46592;Parent=gene27256;Dbxref=GeneID:102417583,Genbank:XM_023747795.1;Name=XM_023747795.1;gbkey=mRNA;gene=RAPGEF1;model_evidence=Supporting evidence includes similarity to: 7 Proteins%2C and 100%25 coverage of the annotated genomic feature by RNAseq alignments%2C including 1 sample with support for all annotated introns;product=Rap guanine nucleotide exchange factor 1%2C transcript variant X2;transcript_id=XM_023747795.1\\n']\n",
      "['NW_005872028.1', 'Gnomon', 'mRNA', '5481', '98250', '.', '-', '.', 'ID=rna46593;Parent=gene27256;Dbxref=GeneID:102417583,Genbank:XM_023747793.1;Name=XM_023747793.1;gbkey=mRNA;gene=RAPGEF1;model_evidence=Supporting evidence includes similarity to: 1 Protein%2C and 100%25 coverage of the annotated genomic feature by RNAseq alignments;product=Rap guanine nucleotide exchange factor 1%2C transcript variant X1;transcript_id=XM_023747793.1\\n']\n",
      "['NW_005872120.1', 'RefSeq', 'region', '1', '106138', '.', '+', '.', 'ID=id527572;Dbxref=taxon:59463;Name=Unknown;chromosome=Unknown;country=USA: Framingham%2C MA;gbkey=Src;genome=genomic;mol_type=genomic DNA;sex=female\\n']\n",
      "['NW_005872156.1', 'RefSeq', 'region', '1', '96376', '.', '+', '.', 'ID=id529614;Dbxref=taxon:59463;Name=Unknown;chromosome=Unknown;country=USA: Framingham%2C MA;gbkey=Src;genome=genomic;mol_type=genomic DNA;sex=female\\n']\n"
     ]
    },
    {
     "data": {
      "text/plain": [
       "145"
      ]
     },
     "execution_count": 9,
     "metadata": {},
     "output_type": "execute_result"
    }
   ],
   "source": [
    "f=open('/local/home/sarahgw/WGS/SNPS/All_mylu/snps/NJNY50_sigCompvaluesNe424_296.csv', 'r')\n",
    "a=open('/local/home/sarahgw/references/ref_Myoluc2.0_top_level.gff3', 'r')\n",
    "flines = f.readlines()[1:]\n",
    "chrom_dict = {}\n",
    "for line in flines:\n",
    "    line = line.replace('\"', '')\n",
    "    args = line.split(',')\n",
    "    chrom_dict[args[2]] = int(args[3])\n",
    "\n",
    "aline = a.readline()\n",
    "count = 0\n",
    "while aline:\n",
    "    agroups = aline.split('\\t')\n",
    "    #print(agroups)\n",
    "    chrom = agroups[0]\n",
    "    if chrom in chrom_dict:\n",
    "        loc = chrom_dict[chrom]\n",
    "        if int(agroups[3]) < (loc) and int(agroups[4]) > (loc):\n",
    "            count += 1\n",
    "            print agroups\n",
    "    aline = a.readline()\n",
    "count"
   ]
  },
  {
   "cell_type": "code",
   "execution_count": null,
   "metadata": {
    "collapsed": true
   },
   "outputs": [],
   "source": [
    "p vals "
   ]
  },
  {
   "cell_type": "markdown",
   "metadata": {},
   "source": [
    "2603829 MDGA2,  in our sig all 3\n",
    "616121 unknown, but in our sig all 3\n",
    "35761989 unknown, but in our sig all 3"
   ]
  },
  {
   "cell_type": "markdown",
   "metadata": {
    "collapsed": true
   },
   "source": [
    "## VEP for synonymous/non synonymous\n",
    "\n",
    "create input file of sig snps\n",
    "\n",
    "The default format is a simple whitespace-separated format (columns may be separated by space or tab characters), containing five required columns plus an optional identifier column:\n",
    "\n",
    "chromosome - just the name or number, with no 'chr' prefix\n",
    "start\n",
    "end\n",
    "allele - pair of alleles separated by a '/', with the reference allele first\n",
    "strand - defined as + (forward) or - (reverse).\n",
    "identifier - this identifier will be used in VEP's output. If not provided, VEP will construct an identifier from the given coordinates and alleles."
   ]
  },
  {
   "cell_type": "code",
   "execution_count": 18,
   "metadata": {},
   "outputs": [
    {
     "name": "stdout",
     "output_type": "stream",
     "text": [
      "\"\",\"Scaffold\",\"NewScaf\",\"SNP\",\"Maj\",\"Min\",\"NJ\",\"NY\",\"Comp\",\"rank\",\"padjBH\"\r\n",
      "\"1\",\"GL429767\",\"NW_005871048.1\",16839644,\"T\",\"A\",8.3999916000084e-05,0.000181999818000182,2.90413319116625e-07,70,5.39909603706351e-07\r\n",
      "\"2\",\"GL429767\",\"NW_005871048.1\",38456248,\"T\",\"C\",2.8999971000029e-05,0.000823999176000824,4.43259321723044e-07,78,6.01613558415648e-07\r\n",
      "\"3\",\"GL429767\",\"NW_005871048.1\",22649683,\"T\",\"A\",0.000658999341000659,9.99999000001e-07,1.45904282432881e-08,20,1.54259886773243e-07\r\n",
      "\"4\",\"GL429767\",\"NW_005871048.1\",46534125,\"C\",\"T\",6.6999933000067e-05,9.99999000001e-07,1.63656087014458e-09,9,6.94169490479594e-08\r\n",
      "\"5\",\"GL429767\",\"NW_005871048.1\",51542832,\"G\",\"A\",9.99999000001e-07,0.000233999766000234,5.42310342192109e-09,13,1.00268926402608e-07\r\n",
      "\"6\",\"GL429768\",\"NW_005871049.1\",3921142,\"G\",\"C\",9.99999000001e-07,0.0138399861600138,2.64284027064383e-07,67,5.16770620690364e-07\r\n",
      "\"7\",\"GL429768\",\"NW_005871049.1\",34577793,\"C\",\"T\",0.000584999415000585,2.3999976000024e-05,2.6790172263069e-07,68,5.24483615029027e-07\r\n",
      "\"8\",\"GL429768\",\"NW_005871049.1\",29962249,\"A\",\"G\",9.99999000001e-07,0.00581299418700581,1.16045681211861e-07,52,4.01075705610432e-07\r\n",
      "\"9\",\"GL429770\",\"NW_005871051.1\",8292792,\"A\",\"T\",7.999992000008e-06,9.99999000001e-07,2.12412227769314e-10,4,3.08519773546486e-08\r\n"
     ]
    }
   ],
   "source": [
    "!head /local/home/sarahgw/WGS/SNPS/All_mylu/snps/NJNY50_sigCompvaluesNe424_296.csv"
   ]
  },
  {
   "cell_type": "code",
   "execution_count": 26,
   "metadata": {
    "collapsed": true
   },
   "outputs": [],
   "source": [
    "!awk 'BEGIN { FS = \",\" }{print $2,$4,$4,$5\"/\"$6, \"+\"}' /local/home/sarahgw/WGS/SNPS/All_mylu/snps/NJNY50_sigCompvaluesNe424_296.csv|sed 's/\\\"//g'| tail -n 92 > /local/home/sarahgw/WGS/SNPS/All_mylu/snps/NJNY50_sigCompvaluesNe424_296_inputVEP.txt    "
   ]
  },
  {
   "cell_type": "code",
   "execution_count": 28,
   "metadata": {
    "collapsed": true
   },
   "outputs": [],
   "source": [
    "!awk 'BEGIN { FS = \",\" }{print $3,$4,$4,$5\"/\"$6, \"+\"}' /local/home/sarahgw/WGS/SNPS/All_mylu/snps/NJNY50_sigCompvaluesNe424_296.csv|sed 's/\\\"//g'| tail -n 92 > /local/home/sarahgw/WGS/SNPS/All_mylu/snps/NJNY50_sigCompvaluesNe424_296_inputVEP2.txt    "
   ]
  },
  {
   "cell_type": "code",
   "execution_count": null,
   "metadata": {
    "collapsed": true
   },
   "outputs": [],
   "source": []
  },
  {
   "cell_type": "code",
   "execution_count": null,
   "metadata": {
    "collapsed": true
   },
   "outputs": [],
   "source": [
    "/local/home/sarahgw/ensembl-vep/vep -i /local/home/sarahgw/WGS/SNPS/All_mylu/snps/NJNY50_sigCompvaluesNe424_296_inputVEP.txt --cache --species myotis_lucifugus "
   ]
  },
  {
   "cell_type": "markdown",
   "metadata": {},
   "source": [
    "bgzip and tabix file"
   ]
  },
  {
   "cell_type": "code",
   "execution_count": 23,
   "metadata": {},
   "outputs": [
    {
     "name": "stdout",
     "output_type": "stream",
     "text": [
      "##gff-version 3\r\n",
      "#!gff-spec-version 1.21\r\n",
      "#!processor NCBI annotwriter\r\n",
      "#!genome-build Myoluc2.0\r\n",
      "#!genome-build-accession NCBI_Assembly:GCF_000147115.1\r\n",
      "#!annotation-date 26 January 2018\r\n",
      "#!annotation-source NCBI Myotis lucifugus Annotation Release 102\r\n",
      "##sequence-region NW_005871048.1 1 64990205\r\n",
      "##species https://www.ncbi.nlm.nih.gov/Taxonomy/Browser/wwwtax.cgi?id=59463\r\n",
      "NW_005871048.1\tRefSeq\tregion\t1\t64990205\t.\t+\t.\tID=id0;Dbxref=taxon:59463;Name=Unknown;chromosome=Unknown;country=USA: Framingham%2C MA;gbkey=Src;genome=genomic;mol_type=genomic DNA;sex=female\r\n"
     ]
    }
   ],
   "source": [
    "!head /local/home/sarahgw/references/ref_Myoluc2.0_top_level.gff3"
   ]
  },
  {
   "cell_type": "code",
   "execution_count": 29,
   "metadata": {
    "collapsed": true
   },
   "outputs": [],
   "source": [
    "!grep -v \"#\" /local/home/sarahgw/references/ref_Myoluc2.0_top_level.gff3 |  sort -k1,1 -k4,4n > /local/home/sarahgw/references/ref_Myoluc2.0_top_level_sorted.gff3"
   ]
  },
  {
   "cell_type": "code",
   "execution_count": null,
   "metadata": {
    "collapsed": true
   },
   "outputs": [],
   "source": [
    "bgzip -c /local/home/sarahgw/references/ref_Myoluc2.0_top_level_sorted.gff3 > /local/home/sarahgw/references/ref_Myoluc2.0_top_level_sorted.gff3.gz\n",
    "tabix -p gff /local/home/sarahgw/references/ref_Myoluc2.0_top_level_sorted.gff3.gz"
   ]
  },
  {
   "cell_type": "code",
   "execution_count": null,
   "metadata": {
    "collapsed": true
   },
   "outputs": [],
   "source": [
    "bgzip -c /local/home/sarahgw/references/Myotis_lucifugus.Myoluc2.0.dna_sm.toplevel.fa > /local/home/sarahgw/references/Myotis_lucifugus.Myoluc2.0.dna_sm.toplevel.fa.gz"
   ]
  },
  {
   "cell_type": "code",
   "execution_count": 30,
   "metadata": {},
   "outputs": [
    {
     "ename": "SyntaxError",
     "evalue": "invalid syntax (<ipython-input-30-f0842e4a7489>, line 1)",
     "output_type": "error",
     "traceback": [
      "\u001b[0;36m  File \u001b[0;32m\"<ipython-input-30-f0842e4a7489>\"\u001b[0;36m, line \u001b[0;32m1\u001b[0m\n\u001b[0;31m    local(/home/sarahgw/ensembl-vep/vep, use, lib, '/local/home/sarahgw/ensembl-vep/htslib/tabix', -i, /local/home/sarahgw/WGS/SNPS/All_mylu/snps/NJNY50_sigCompvaluesNe424_296_inputVEP2.txt, -fasta, /local/home/sarahgw/references/Myotis_lucifugus.Myoluc2.0.dna_sm.toplevel.fa, --gff, /local/home/sarahgw/references/ref_Myoluc2.0_top_level_sorted.gff3.gz, --cache, --species, myotis_lucifugus)\u001b[0m\n\u001b[0m          ^\u001b[0m\n\u001b[0;31mSyntaxError\u001b[0m\u001b[0;31m:\u001b[0m invalid syntax\n"
     ]
    }
   ],
   "source": [
    "/local/home/sarahgw/ensembl-vep/vep  -i /local/home/sarahgw/WGS/SNPS/All_mylu/snps/NJNY50_sigCompvaluesNe424_296_inputVEP2.txt -fasta /local/home/sarahgw/references/Myotis_lucifugus.Myoluc2.0.dna_sm.toplevel.fa --gff /local/home/sarahgw/references/ref_Myoluc2.0_top_level_sorted.gff3.gz --cache --species myotis_lucifugus \n"
   ]
  },
  {
   "cell_type": "code",
   "execution_count": 1,
   "metadata": {
    "scrolled": true
   },
   "outputs": [
    {
     "name": "stdout",
     "output_type": "stream",
     "text": [
      "NW_005871048.1 16839644 16839644 T/A +\r\n",
      "NW_005871048.1 38456248 38456248 T/C +\r\n",
      "NW_005871048.1 22649683 22649683 T/A +\r\n",
      "NW_005871048.1 46534125 46534125 C/T +\r\n",
      "NW_005871048.1 51542832 51542832 G/A +\r\n",
      "NW_005871049.1 3921142 3921142 G/C +\r\n",
      "NW_005871049.1 34577793 34577793 C/T +\r\n",
      "NW_005871049.1 29962249 29962249 A/G +\r\n",
      "NW_005871051.1 8292792 8292792 A/T +\r\n",
      "NW_005871051.1 8507307 8507307 A/C +\r\n",
      "NW_005871053.1 8716095 8716095 T/A +\r\n",
      "NW_005871053.1 14993622 14993622 T/C +\r\n",
      "NW_005871054.1 7204887 7204887 C/T +\r\n",
      "NW_005871056.1 5556309 5556309 A/C +\r\n",
      "NW_005871059.1 3561000 3561000 G/A +\r\n",
      "NW_005871062.1 7594948 7594948 A/T +\r\n",
      "NW_005871064.1 14617697 14617697 C/A +\r\n",
      "NW_005871064.1 665407 665407 C/T +\r\n",
      "NW_005871065.1 1229639 1229639 G/A +\r\n",
      "NW_005871066.1 3216149 3216149 C/T +\r\n",
      "NW_005871073.1 753145 753145 C/A +\r\n",
      "NW_005871075.1 5707870 5707870 T/A +\r\n",
      "NW_005871076.1 3907289 3907289 G/A +\r\n",
      "NW_005871082.1 6986210 6986210 A/T +\r\n",
      "NW_005871090.1 7390034 7390034 A/G +\r\n",
      "NW_005871097.1 3229647 3229647 G/A +\r\n",
      "NW_005871100.1 365354 365354 G/A +\r\n",
      "NW_005871109.1 1501267 1501267 T/C +\r\n",
      "NW_005871109.1 3004686 3004686 A/G +\r\n",
      "NW_005871116.1 2966452 2966452 T/G +\r\n",
      "NW_005871116.1 2966433 2966433 A/G +\r\n",
      "NW_005871122.1 612532 612532 G/A +\r\n",
      "NW_005871122.1 3522450 3522450 A/G +\r\n",
      "NW_005871123.1 4124241 4124241 A/G +\r\n",
      "NW_005871126.1 2091046 2091046 C/T +\r\n",
      "NW_005871129.1 2603829 2603829 T/C +\r\n",
      "NW_005871131.1 1183154 1183154 C/T +\r\n",
      "NW_005871133.1 463102 463102 T/G +\r\n",
      "NW_005871136.1 4401152 4401152 G/C +\r\n",
      "NW_005871138.1 134612 134612 T/C +\r\n",
      "NW_005871140.1 300331 300331 T/C +\r\n",
      "NW_005871142.1 4317517 4317517 A/G +\r\n",
      "NW_005871142.1 4317523 4317523 T/C +\r\n",
      "NW_005871142.1 3065399 3065399 A/G +\r\n",
      "NW_005871142.1 293372 293372 A/G +\r\n",
      "NW_005871148.1 2575249 2575249 A/G +\r\n",
      "NW_005871154.1 2056629 2056629 T/A +\r\n",
      "NW_005871160.1 384336 384336 G/A +\r\n",
      "NW_005871161.1 42824 42824 C/A +\r\n",
      "NW_005871166.1 2043530 2043530 T/C +\r\n",
      "NW_005871169.1 3508435 3508435 A/T +\r\n",
      "NW_005871172.1 266596 266596 T/A +\r\n",
      "NW_005871174.1 1767654 1767654 C/T +\r\n",
      "NW_005871187.1 1866953 1866953 C/T +\r\n",
      "NW_005871191.1 2414078 2414078 A/C +\r\n",
      "NW_005871201.1 2255691 2255691 T/G +\r\n",
      "NW_005871208.1 1241213 1241213 A/G +\r\n",
      "NW_005871210.1 2943933 2943933 G/T +\r\n",
      "NW_005871219.1 2500270 2500270 A/G +\r\n",
      "NW_005871227.1 1039079 1039079 T/A +\r\n",
      "NW_005871228.1 1200485 1200485 A/G +\r\n",
      "NW_005871231.1 2444879 2444879 G/A +\r\n",
      "NW_005871236.1 1484586 1484586 G/A +\r\n",
      "NW_005871243.1 689293 689293 A/C +\r\n",
      "NW_005871246.1 1956978 1956978 G/A +\r\n",
      "NW_005871249.1 2123897 2123897 A/T +\r\n",
      "NW_005871250.1 109273 109273 C/T +\r\n",
      "NW_005871263.1 1303809 1303809 G/A +\r\n",
      "NW_005871279.1 99324 99324 C/G +\r\n",
      "NW_005871289.1 1396110 1396110 C/T +\r\n",
      "NW_005871299.1 180278 180278 T/A +\r\n",
      "NW_005871310.1 1661413 1661413 A/C +\r\n",
      "NW_005871382.1 496908 496908 T/C +\r\n",
      "NW_005871402.1 936584 936584 T/C +\r\n",
      "NW_005871409.1 735347 735347 A/G +\r\n",
      "NW_005871413.1 776142 776142 T/C +\r\n",
      "NW_005871437.1 916661 916661 C/T +\r\n",
      "NW_005871447.1 11932 11932 C/T +\r\n",
      "NW_005871520.1 60325 60325 G/A +\r\n",
      "NW_005871552.1 525210 525210 C/T +\r\n",
      "NW_005871552.1 326498 326498 A/G +\r\n",
      "NW_005871560.1 607165 607165 G/A +\r\n",
      "NW_005871562.1 514067 514067 T/C +\r\n",
      "NW_005871619.1 350547 350547 T/C +\r\n",
      "NW_005871665.1 252240 252240 A/G +\r\n",
      "NW_005871701.1 180654 180654 A/G +\r\n",
      "NW_005871763.1 173352 173352 C/T +\r\n",
      "NW_005871967.1 91034 91034 C/T +\r\n",
      "NW_005871977.1 55439 55439 A/T +\r\n",
      "NW_005872028.1 9663 9663 C/T +\r\n",
      "NW_005872120.1 44020 44020 A/G +\r\n",
      "NW_005872156.1 25568 25568 C/T +\r\n"
     ]
    }
   ],
   "source": [
    "!head -n 100 /local/home/sarahgw/WGS/SNPS/All_mylu/snps/NJNY50_sigCompvaluesNe424_296_inputVEP2.txt"
   ]
  },
  {
   "cell_type": "code",
   "execution_count": 5,
   "metadata": {
    "scrolled": true
   },
   "outputs": [
    {
     "name": "stdout",
     "output_type": "stream",
     "text": [
      "NW_005871123.1_4124241_A/G\tNW_005871123.1:4124241\tG\t102421882\tXM_006090548.2\tTranscript\tdownstream_gene_variant\t-\t-\t-\t-\t-\t-\tIMPACT=MODIFIER;DISTANCE=2309;STRAND=1;SOURCE=ref_Myoluc2.0_top_level_sorted.gff3.gz\r\n",
      "NW_005871123.1_4124241_A/G\tNW_005871123.1:4124241\tG\t102421882\tXM_006090549.2\tTranscript\tdownstream_gene_variant\t-\t-\t-\t-\t-\t-\tIMPACT=MODIFIER;DISTANCE=2309;STRAND=1;SOURCE=ref_Myoluc2.0_top_level_sorted.gff3.gz\r\n",
      "NW_005871123.1_4124241_A/G\tNW_005871123.1:4124241\tG\t102421882\tXM_014457399.2\tTranscript\tdownstream_gene_variant\t-\t-\t-\t-\t-\t-\tIMPACT=MODIFIER;DISTANCE=2309;STRAND=1;SOURCE=ref_Myoluc2.0_top_level_sorted.gff3.gz\r\n",
      "NW_005871126.1_2091046_C/T\tNW_005871126.1:2091046\tT\t102433978\tXM_006090652.3\tTranscript\tintron_variant\t-\t-\t-\t-\t-\t-\tIMPACT=MODIFIER;STRAND=1;SOURCE=ref_Myoluc2.0_top_level_sorted.gff3.gz\r\n",
      "NW_005871129.1_2603829_T/C\tNW_005871129.1:2603829\tC\t102423892\tXM_006090751.3\tTranscript\tintron_variant\t-\t-\t-\t-\t-\t-\tIMPACT=MODIFIER;STRAND=-1;SOURCE=ref_Myoluc2.0_top_level_sorted.gff3.gz\r\n",
      "NW_005871129.1_2603829_T/C\tNW_005871129.1:2603829\tC\t102423892\tXM_006090753.2\tTranscript\tintron_variant\t-\t-\t-\t-\t-\t-\tIMPACT=MODIFIER;STRAND=-1;SOURCE=ref_Myoluc2.0_top_level_sorted.gff3.gz\r\n",
      "NW_005871131.1_1183154_C/T\tNW_005871131.1:1183154\tT\t102420982\tXM_023755748.1\tTranscript\tintron_variant\t-\t-\t-\t-\t-\t-\tIMPACT=MODIFIER;STRAND=1;SOURCE=ref_Myoluc2.0_top_level_sorted.gff3.gz\r\n",
      "NW_005871133.1_463102_T/G\tNW_005871133.1:463102\tG\t-\t-\t-\tintergenic_variant\t-\t-\t-\t-\t-\t-\tIMPACT=MODIFIER\r\n",
      "NW_005871136.1_4401152_G/C\tNW_005871136.1:4401152\tC\t102426505\tXM_006091226.3\tTranscript\tintron_variant\t-\t-\t-\t-\t-\t-\tIMPACT=MODIFIER;STRAND=-1;SOURCE=ref_Myoluc2.0_top_level_sorted.gff3.gz\r\n",
      "NW_005871138.1_134612_T/C\tNW_005871138.1:134612\tC\t102423895\tXM_006091291.3\tTranscript\tintron_variant\t-\t-\t-\t-\t-\t-\tIMPACT=MODIFIER;STRAND=-1;SOURCE=ref_Myoluc2.0_top_level_sorted.gff3.gz\r\n",
      "NW_005871140.1_300331_T/C\tNW_005871140.1:300331\tC\t-\t-\t-\tintergenic_variant\t-\t-\t-\t-\t-\t-\tIMPACT=MODIFIER\r\n",
      "NW_005871142.1_4317517_A/G\tNW_005871142.1:4317517\tG\t-\t-\t-\tintergenic_variant\t-\t-\t-\t-\t-\t-\tIMPACT=MODIFIER\r\n",
      "NW_005871142.1_4317523_T/C\tNW_005871142.1:4317523\tC\t-\t-\t-\tintergenic_variant\t-\t-\t-\t-\t-\t-\tIMPACT=MODIFIER\r\n",
      "NW_005871142.1_3065399_A/G\tNW_005871142.1:3065399\tG\t102432110\tXM_006091740.3\tTranscript\tupstream_gene_variant\t-\t-\t-\t-\t-\t-\tIMPACT=MODIFIER;DISTANCE=1053;STRAND=-1;SOURCE=ref_Myoluc2.0_top_level_sorted.gff3.gz\r\n",
      "NW_005871142.1_293372_A/G\tNW_005871142.1:293372\tG\t102442682\tXM_006091691.3\tTranscript\tintron_variant\t-\t-\t-\t-\t-\t-\tIMPACT=MODIFIER;STRAND=1;SOURCE=ref_Myoluc2.0_top_level_sorted.gff3.gz\r\n",
      "NW_005871142.1_293372_A/G\tNW_005871142.1:293372\tG\t102442682\tXM_023756431.1\tTranscript\tintron_variant\t-\t-\t-\t-\t-\t-\tIMPACT=MODIFIER;STRAND=1;SOURCE=ref_Myoluc2.0_top_level_sorted.gff3.gz\r\n",
      "NW_005871148.1_2575249_A/G\tNW_005871148.1:2575249\tG\t102438113\tXM_014458887.2\tTranscript\tintron_variant\t-\t-\t-\t-\t-\t-\tIMPACT=MODIFIER;STRAND=-1;SOURCE=ref_Myoluc2.0_top_level_sorted.gff3.gz\r\n",
      "NW_005871154.1_2056629_T/A\tNW_005871154.1:2056629\tA\t-\t-\t-\tintergenic_variant\t-\t-\t-\t-\t-\t-\tIMPACT=MODIFIER\r\n",
      "NW_005871160.1_384336_G/A\tNW_005871160.1:384336\tA\t-\t-\t-\tintergenic_variant\t-\t-\t-\t-\t-\t-\tIMPACT=MODIFIER\r\n",
      "NW_005871161.1_42824_C/A\tNW_005871161.1:42824\tA\t102431170\tXM_023757773.1\tTranscript\tintron_variant\t-\t-\t-\t-\t-\t-\tIMPACT=MODIFIER;STRAND=-1;SOURCE=ref_Myoluc2.0_top_level_sorted.gff3.gz\r\n",
      "NW_005871166.1_2043530_T/C\tNW_005871166.1:2043530\tC\t-\t-\t-\tintergenic_variant\t-\t-\t-\t-\t-\t-\tIMPACT=MODIFIER\r\n",
      "NW_005871169.1_3508435_A/T\tNW_005871169.1:3508435\tT\t-\t-\t-\tintergenic_variant\t-\t-\t-\t-\t-\t-\tIMPACT=MODIFIER\r\n",
      "NW_005871172.1_266596_T/A\tNW_005871172.1:266596\tA\t-\t-\t-\tintergenic_variant\t-\t-\t-\t-\t-\t-\tIMPACT=MODIFIER\r\n",
      "NW_005871174.1_1767654_C/T\tNW_005871174.1:1767654\tT\t-\t-\t-\tintergenic_variant\t-\t-\t-\t-\t-\t-\tIMPACT=MODIFIER\r\n",
      "NW_005871187.1_1866953_C/T\tNW_005871187.1:1866953\tT\t111827161\tXR_002830677.1\tTranscript\tintron_variant,non_coding_transcript_variant\t-\t-\t-\t-\t-\t-\tIMPACT=MODIFIER;STRAND=1;SOURCE=ref_Myoluc2.0_top_level_sorted.gff3.gz\r\n",
      "NW_005871191.1_2414078_A/C\tNW_005871191.1:2414078\tC\t102435969\tXM_023758901.1\tTranscript\tintron_variant\t-\t-\t-\t-\t-\t-\tIMPACT=MODIFIER;STRAND=-1;SOURCE=ref_Myoluc2.0_top_level_sorted.gff3.gz\r\n",
      "NW_005871201.1_2255691_T/G\tNW_005871201.1:2255691\tG\t102440093\tXM_006095388.3\tTranscript\tintron_variant\t-\t-\t-\t-\t-\t-\tIMPACT=MODIFIER;STRAND=-1;SOURCE=ref_Myoluc2.0_top_level_sorted.gff3.gz\r\n",
      "NW_005871208.1_1241213_A/G\tNW_005871208.1:1241213\tG\t102435973\tXM_006095699.1\tTranscript\tdownstream_gene_variant\t-\t-\t-\t-\t-\t-\tIMPACT=MODIFIER;DISTANCE=926;STRAND=-1;SOURCE=ref_Myoluc2.0_top_level_sorted.gff3.gz\r\n",
      "NW_005871210.1_2943933_G/T\tNW_005871210.1:2943933\tT\t102425362\tXM_006095936.3\tTranscript\tintron_variant\t-\t-\t-\t-\t-\t-\tIMPACT=MODIFIER;STRAND=1;SOURCE=ref_Myoluc2.0_top_level_sorted.gff3.gz\r\n",
      "NW_005871219.1_2500270_A/G\tNW_005871219.1:2500270\tG\t-\t-\t-\tintergenic_variant\t-\t-\t-\t-\t-\t-\tIMPACT=MODIFIER\r\n",
      "NW_005871227.1_1039079_T/A\tNW_005871227.1:1039079\tA\t-\t-\t-\tintergenic_variant\t-\t-\t-\t-\t-\t-\tIMPACT=MODIFIER\r\n",
      "NW_005871228.1_1200485_A/G\tNW_005871228.1:1200485\tG\t-\t-\t-\tintergenic_variant\t-\t-\t-\t-\t-\t-\tIMPACT=MODIFIER\r\n",
      "NW_005871231.1_2444879_G/A\tNW_005871231.1:2444879\tA\t-\t-\t-\tintergenic_variant\t-\t-\t-\t-\t-\t-\tIMPACT=MODIFIER\r\n",
      "NW_005871236.1_1484586_G/A\tNW_005871236.1:1484586\tA\t-\t-\t-\tintergenic_variant\t-\t-\t-\t-\t-\t-\tIMPACT=MODIFIER\r\n",
      "NW_005871243.1_689293_A/C\tNW_005871243.1:689293\tC\t-\t-\t-\tintergenic_variant\t-\t-\t-\t-\t-\t-\tIMPACT=MODIFIER\r\n",
      "NW_005871246.1_1956978_G/A\tNW_005871246.1:1956978\tA\t102429022\tXM_006097355.3\tTranscript\tintron_variant\t-\t-\t-\t-\t-\t-\tIMPACT=MODIFIER;STRAND=-1;SOURCE=ref_Myoluc2.0_top_level_sorted.gff3.gz\r\n",
      "NW_005871249.1_2123897_A/T\tNW_005871249.1:2123897\tT\t102430860\tXM_023761193.1\tTranscript\tintron_variant\t-\t-\t-\t-\t-\t-\tIMPACT=MODIFIER;STRAND=1;SOURCE=ref_Myoluc2.0_top_level_sorted.gff3.gz\r\n",
      "NW_005871249.1_2123897_A/T\tNW_005871249.1:2123897\tT\t102430860\tXM_023761194.1\tTranscript\tintron_variant\t-\t-\t-\t-\t-\t-\tIMPACT=MODIFIER;STRAND=1;SOURCE=ref_Myoluc2.0_top_level_sorted.gff3.gz\r\n",
      "NW_005871250.1_109273_C/T\tNW_005871250.1:109273\tT\t-\t-\t-\tintergenic_variant\t-\t-\t-\t-\t-\t-\tIMPACT=MODIFIER\r\n",
      "NW_005871263.1_1303809_G/A\tNW_005871263.1:1303809\tA\t-\t-\t-\tintergenic_variant\t-\t-\t-\t-\t-\t-\tIMPACT=MODIFIER\r\n",
      "NW_005871279.1_99324_C/G\tNW_005871279.1:99324\tG\t102423914\tXM_023762099.1\tTranscript\tupstream_gene_variant\t-\t-\t-\t-\t-\t-\tIMPACT=MODIFIER;DISTANCE=1892;STRAND=1;SOURCE=ref_Myoluc2.0_top_level_sorted.gff3.gz\r\n",
      "NW_005871289.1_1396110_C/T\tNW_005871289.1:1396110\tT\t-\t-\t-\tintergenic_variant\t-\t-\t-\t-\t-\t-\tIMPACT=MODIFIER\r\n",
      "NW_005871299.1_180278_T/A\tNW_005871299.1:180278\tA\t-\t-\t-\tintergenic_variant\t-\t-\t-\t-\t-\t-\tIMPACT=MODIFIER\r\n",
      "NW_005871310.1_1661413_A/C\tNW_005871310.1:1661413\tC\t102443128\tXM_006099198.2\tTranscript\tupstream_gene_variant\t-\t-\t-\t-\t-\t-\tIMPACT=MODIFIER;DISTANCE=1003;STRAND=-1;SOURCE=ref_Myoluc2.0_top_level_sorted.gff3.gz\r\n",
      "NW_005871310.1_1661413_A/C\tNW_005871310.1:1661413\tC\t102443128\tXM_023762809.1\tTranscript\tintron_variant\t-\t-\t-\t-\t-\t-\tIMPACT=MODIFIER;STRAND=-1;SOURCE=ref_Myoluc2.0_top_level_sorted.gff3.gz\r\n",
      "NW_005871310.1_1661413_A/C\tNW_005871310.1:1661413\tC\t102421410\tXM_023762812.1\tTranscript\t5_prime_UTR_variant\t62\t-\t-\t-\t-\t-\tIMPACT=MODIFIER;STRAND=1;SOURCE=ref_Myoluc2.0_top_level_sorted.gff3.gz\r\n",
      "NW_005871310.1_1661413_A/C\tNW_005871310.1:1661413\tC\t102443128\tXR_002831742.1\tTranscript\tupstream_gene_variant\t-\t-\t-\t-\t-\t-\tIMPACT=MODIFIER;DISTANCE=1002;STRAND=-1;SOURCE=ref_Myoluc2.0_top_level_sorted.gff3.gz\r\n",
      "NW_005871382.1_496908_T/C\tNW_005871382.1:496908\tC\t-\t-\t-\tintergenic_variant\t-\t-\t-\t-\t-\t-\tIMPACT=MODIFIER\r\n",
      "NW_005871402.1_936584_T/C\tNW_005871402.1:936584\tC\t-\t-\t-\tintergenic_variant\t-\t-\t-\t-\t-\t-\tIMPACT=MODIFIER\r\n",
      "NW_005871409.1_735347_A/G\tNW_005871409.1:735347\tG\t-\t-\t-\tintergenic_variant\t-\t-\t-\t-\t-\t-\tIMPACT=MODIFIER\r\n",
      "NW_005871413.1_776142_T/C\tNW_005871413.1:776142\tC\t102417765\tXM_023764929.1\tTranscript\tupstream_gene_variant\t-\t-\t-\t-\t-\t-\tIMPACT=MODIFIER;DISTANCE=1397;STRAND=1;SOURCE=ref_Myoluc2.0_top_level_sorted.gff3.gz\r\n",
      "NW_005871413.1_776142_T/C\tNW_005871413.1:776142\tC\t102417765\tXM_023764930.1\tTranscript\tupstream_gene_variant\t-\t-\t-\t-\t-\t-\tIMPACT=MODIFIER;DISTANCE=1397;STRAND=1;SOURCE=ref_Myoluc2.0_top_level_sorted.gff3.gz\r\n",
      "NW_005871413.1_776142_T/C\tNW_005871413.1:776142\tC\t102417765\tXM_023764931.1\tTranscript\tupstream_gene_variant\t-\t-\t-\t-\t-\t-\tIMPACT=MODIFIER;DISTANCE=1397;STRAND=1;SOURCE=ref_Myoluc2.0_top_level_sorted.gff3.gz\r\n",
      "NW_005871413.1_776142_T/C\tNW_005871413.1:776142\tC\t102417765\tXM_023764933.1\tTranscript\tupstream_gene_variant\t-\t-\t-\t-\t-\t-\tIMPACT=MODIFIER;DISTANCE=1397;STRAND=1;SOURCE=ref_Myoluc2.0_top_level_sorted.gff3.gz\r\n",
      "NW_005871437.1_916661_C/T\tNW_005871437.1:916661\tT\t-\t-\t-\tintergenic_variant\t-\t-\t-\t-\t-\t-\tIMPACT=MODIFIER\r\n",
      "NW_005871447.1_11932_C/T\tNW_005871447.1:11932\tT\t-\t-\t-\tintergenic_variant\t-\t-\t-\t-\t-\t-\tIMPACT=MODIFIER\r\n",
      "NW_005871520.1_60325_G/A\tNW_005871520.1:60325\tA\t-\t-\t-\tintergenic_variant\t-\t-\t-\t-\t-\t-\tIMPACT=MODIFIER\r\n",
      "NW_005871552.1_525210_C/T\tNW_005871552.1:525210\tT\t102420083\tXM_006103752.3\tTranscript\tintron_variant\t-\t-\t-\t-\t-\t-\tIMPACT=MODIFIER;STRAND=-1;SOURCE=ref_Myoluc2.0_top_level_sorted.gff3.gz\r\n",
      "NW_005871552.1_525210_C/T\tNW_005871552.1:525210\tT\t102420083\tXM_023744977.1\tTranscript\tintron_variant\t-\t-\t-\t-\t-\t-\tIMPACT=MODIFIER;STRAND=-1;SOURCE=ref_Myoluc2.0_top_level_sorted.gff3.gz\r\n",
      "NW_005871552.1_326498_A/G\tNW_005871552.1:326498\tG\t102419356\tXM_014446123.2\tTranscript\tintron_variant\t-\t-\t-\t-\t-\t-\tIMPACT=MODIFIER;STRAND=-1;SOURCE=ref_Myoluc2.0_top_level_sorted.gff3.gz\r\n",
      "NW_005871552.1_326498_A/G\tNW_005871552.1:326498\tG\t102419356\tXM_023744978.1\tTranscript\tintron_variant\t-\t-\t-\t-\t-\t-\tIMPACT=MODIFIER;STRAND=-1;SOURCE=ref_Myoluc2.0_top_level_sorted.gff3.gz\r\n",
      "NW_005871552.1_326498_A/G\tNW_005871552.1:326498\tG\t102419356\tXM_023744979.1\tTranscript\tintron_variant\t-\t-\t-\t-\t-\t-\tIMPACT=MODIFIER;STRAND=-1;SOURCE=ref_Myoluc2.0_top_level_sorted.gff3.gz\r\n",
      "NW_005871552.1_326498_A/G\tNW_005871552.1:326498\tG\t102419356\tXM_023744980.1\tTranscript\tintron_variant\t-\t-\t-\t-\t-\t-\tIMPACT=MODIFIER;STRAND=-1;SOURCE=ref_Myoluc2.0_top_level_sorted.gff3.gz\r\n",
      "NW_005871552.1_326498_A/G\tNW_005871552.1:326498\tG\t102419356\tXM_023744981.1\tTranscript\tintron_variant\t-\t-\t-\t-\t-\t-\tIMPACT=MODIFIER;STRAND=-1;SOURCE=ref_Myoluc2.0_top_level_sorted.gff3.gz\r\n",
      "NW_005871552.1_326498_A/G\tNW_005871552.1:326498\tG\t102419356\tXM_023744982.1\tTranscript\tintron_variant\t-\t-\t-\t-\t-\t-\tIMPACT=MODIFIER;STRAND=-1;SOURCE=ref_Myoluc2.0_top_level_sorted.gff3.gz\r\n",
      "NW_005871552.1_326498_A/G\tNW_005871552.1:326498\tG\t102419356\tXM_023744983.1\tTranscript\tintron_variant\t-\t-\t-\t-\t-\t-\tIMPACT=MODIFIER;STRAND=-1;SOURCE=ref_Myoluc2.0_top_level_sorted.gff3.gz\r\n",
      "NW_005871552.1_326498_A/G\tNW_005871552.1:326498\tG\t102419356\tXR_002826495.1\tTranscript\tintron_variant,non_coding_transcript_variant\t-\t-\t-\t-\t-\t-\tIMPACT=MODIFIER;STRAND=-1;SOURCE=ref_Myoluc2.0_top_level_sorted.gff3.gz\r\n",
      "NW_005871560.1_607165_G/A\tNW_005871560.1:607165\tA\t-\t-\t-\tintergenic_variant\t-\t-\t-\t-\t-\t-\tIMPACT=MODIFIER\r\n",
      "NW_005871562.1_514067_T/C\tNW_005871562.1:514067\tC\t-\t-\t-\tintergenic_variant\t-\t-\t-\t-\t-\t-\tIMPACT=MODIFIER\r\n",
      "NW_005871619.1_350547_T/C\tNW_005871619.1:350547\tC\t102427816\tXM_023745698.1\tTranscript\tintron_variant\t-\t-\t-\t-\t-\t-\tIMPACT=MODIFIER;STRAND=1;SOURCE=ref_Myoluc2.0_top_level_sorted.gff3.gz\r\n",
      "NW_005871665.1_252240_A/G\tNW_005871665.1:252240\tG\t102417249\tXM_006104881.3\tTranscript\tdownstream_gene_variant\t-\t-\t-\t-\t-\t-\tIMPACT=MODIFIER;DISTANCE=2492;STRAND=-1;SOURCE=ref_Myoluc2.0_top_level_sorted.gff3.gz\r\n",
      "NW_005871665.1_252240_A/G\tNW_005871665.1:252240\tG\t102422540\tXM_023746020.1\tTranscript\tupstream_gene_variant\t-\t-\t-\t-\t-\t-\tIMPACT=MODIFIER;DISTANCE=475;STRAND=-1;SOURCE=ref_Myoluc2.0_top_level_sorted.gff3.gz\r\n",
      "NW_005871701.1_180654_A/G\tNW_005871701.1:180654\tG\t-\t-\t-\tintergenic_variant\t-\t-\t-\t-\t-\t-\tIMPACT=MODIFIER\r\n",
      "NW_005871763.1_173352_C/T\tNW_005871763.1:173352\tT\t-\t-\t-\tintergenic_variant\t-\t-\t-\t-\t-\t-\tIMPACT=MODIFIER\r\n",
      "NW_005871967.1_91034_C/T\tNW_005871967.1:91034\tT\t-\t-\t-\tintergenic_variant\t-\t-\t-\t-\t-\t-\tIMPACT=MODIFIER\r\n",
      "NW_005871977.1_55439_A/T\tNW_005871977.1:55439\tT\t-\t-\t-\tintergenic_variant\t-\t-\t-\t-\t-\t-\tIMPACT=MODIFIER\r\n",
      "NW_005872028.1_9663_C/T\tNW_005872028.1:9663\tT\t102417583\tXM_023747793.1\tTranscript\tintron_variant\t-\t-\t-\t-\t-\t-\tIMPACT=MODIFIER;STRAND=-1;SOURCE=ref_Myoluc2.0_top_level_sorted.gff3.gz\r\n",
      "NW_005872028.1_9663_C/T\tNW_005872028.1:9663\tT\t102417583\tXM_023747795.1\tTranscript\tintron_variant\t-\t-\t-\t-\t-\t-\tIMPACT=MODIFIER;STRAND=-1;SOURCE=ref_Myoluc2.0_top_level_sorted.gff3.gz\r\n",
      "NW_005872120.1_44020_A/G\tNW_005872120.1:44020\tG\t-\t-\t-\tintergenic_variant\t-\t-\t-\t-\t-\t-\tIMPACT=MODIFIER\r\n",
      "NW_005872156.1_25568_C/T\tNW_005872156.1:25568\tT\t-\t-\t-\tintergenic_variant\t-\t-\t-\t-\t-\t-\tIMPACT=MODIFIER\r\n"
     ]
    }
   ],
   "source": [
    "!tail -n 80 /local/home/sarahgw/WGS/SNPS/All_mylu/snps/outputVEP2"
   ]
  },
  {
   "cell_type": "code",
   "execution_count": null,
   "metadata": {
    "collapsed": true
   },
   "outputs": [],
   "source": []
  },
  {
   "cell_type": "code",
   "execution_count": null,
   "metadata": {
    "collapsed": true
   },
   "outputs": [],
   "source": []
  }
 ],
 "metadata": {
  "kernelspec": {
   "display_name": "Python 2",
   "language": "python",
   "name": "python2"
  },
  "language_info": {
   "codemirror_mode": {
    "name": "ipython",
    "version": 2
   },
   "file_extension": ".py",
   "mimetype": "text/x-python",
   "name": "python",
   "nbconvert_exporter": "python",
   "pygments_lexer": "ipython2",
   "version": "2.7.13"
  }
 },
 "nbformat": 4,
 "nbformat_minor": 2
}
