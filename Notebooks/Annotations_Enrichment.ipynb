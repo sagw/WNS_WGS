{
 "cells": [
  {
   "cell_type": "code",
   "execution_count": 51,
   "metadata": {},
   "outputs": [
    {
     "name": "stdout",
     "output_type": "stream",
     "text": [
      "#!genome-build Myoluc2.0\r\n",
      "#!genome-version Myoluc2.0\r\n",
      "#!genome-date 2010-09\r\n",
      "#!genome-build-accession NCBI:GCA_000147115.1\r\n",
      "#!genebuild-last-updated 2011-06\r\n",
      "GL429767\tensembl\tgene\t42604\t226589\t.\t+\t.\tgene_id \"ENSMLUG00000029214\"; gene_version \"1\"; gene_name \"ACHE\"; gene_source \"ensembl\"; gene_biotype \"protein_coding\";\r\n"
     ]
    }
   ],
   "source": [
    "!head /local/home/sarahgw/references/Myotis_lucifugus.Myoluc2.0.89.gtf -n 6"
   ]
  },
  {
   "cell_type": "code",
   "execution_count": 53,
   "metadata": {},
   "outputs": [
    {
     "name": "stdout",
     "output_type": "stream",
     "text": [
      "482554 /local/home/sarahgw/references/Myotis_lucifugus.Myoluc2.0.89.gtf\r\n"
     ]
    }
   ],
   "source": [
    "!wc -l /local/home/sarahgw/references/Myotis_lucifugus.Myoluc2.0.89.gtf"
   ]
  },
  {
   "cell_type": "code",
   "execution_count": null,
   "metadata": {},
   "outputs": [],
   "source": [
    "!head /local/home/sarahgw/references/Myotis_lucifugus.Myoluc2.0.89.gtf"
   ]
  },
  {
   "cell_type": "code",
   "execution_count": 3,
   "metadata": {},
   "outputs": [
    {
     "name": "stdout",
     "output_type": "stream",
     "text": [
      "\"\",\"SNP\",\"Scaffold\",\"Maj\",\"Min\",\"X\",\"NJ\",\"NY\",\"VT\"\r\n",
      "\"1\",27042,\"GL430649\",\"C\",\"T\",1,0.0261779738220262,0.0376249623750376,0.0150939849060151\r\n",
      "\"3\",35775,\"GL430244\",\"T\",\"C\",3,0.00521699478300522,0.000673999326000674,0.0027979972020028\r\n",
      "\"5\",62323,\"GL430456\",\"T\",\"C\",5,0.0081049918950081,0.0116669883330117,0.000106999893000107\r\n",
      "\"6\",66052,\"GL430136\",\"C\",\"A\",6,0.00295199704800295,0.0182869817130183,0.0277079722920277\r\n",
      "\"7\",69820,\"GL430155\",\"T\",\"C\",7,0.0346999653000347,0.00865399134600865,0.000274999725000275\r\n",
      "\"8\",69827,\"GL430155\",\"C\",\"T\",8,0.0257449742550257,0.000933999066000934,0.0062949937050063\r\n",
      "\"12\",145393,\"GL430285\",\"T\",\"A\",12,0.0015969984030016,0.0049009950990049,0.0193069806930193\r\n",
      "\"13\",204614,\"GL429992\",\"C\",\"A\",13,0.0468069531930468,0.000813999186000814,0.00996899003100997\r\n",
      "\"14\",280372,\"GL430155\",\"T\",\"A\",14,0.00752799247200753,0.0472229527770472,9.99999000001e-07\r\n"
     ]
    }
   ],
   "source": [
    "!head '/local/home/sarahgw/WGS/SNPS/All_mylu/snps/NJNYVT40_sigpvalues.csv'"
   ]
  },
  {
   "cell_type": "code",
   "execution_count": 19,
   "metadata": {},
   "outputs": [
    {
     "name": "stdout",
     "output_type": "stream",
     "text": [
      "Scaffold\n",
      "#!genome-build\n",
      "GL430649\n",
      "#!genome-build\n",
      "GL430244\n",
      "#!genome-build\n",
      "GL430456\n",
      "#!genome-build\n",
      "GL430136\n",
      "#!genome-build\n",
      "GL430155\n",
      "#!genome-build\n",
      "GL430155\n",
      "#!genome-build\n",
      "GL430285\n",
      "#!genome-build\n",
      "GL429992\n",
      "#!genome-build\n",
      "GL430155\n",
      "#!genome-build\n",
      "GL429849\n",
      "#!genome-build\n",
      "GL429844\n",
      "#!genome-build\n",
      "GL429872\n",
      "#!genome-build\n",
      "GL429852\n",
      "#!genome-build\n",
      "GL429852\n",
      "#!genome-build\n",
      "GL429879\n",
      "#!genome-build\n",
      "GL429834\n",
      "#!genome-build\n",
      "GL429863\n",
      "#!genome-build\n",
      "GL429981\n",
      "#!genome-build\n",
      "GL430055\n",
      "#!genome-build\n",
      "GL429903\n",
      "#!genome-build\n",
      "GL429905\n",
      "#!genome-build\n",
      "GL429835\n",
      "#!genome-build\n",
      "GL429882\n",
      "#!genome-build\n",
      "GL429888\n",
      "#!genome-build\n",
      "GL429888\n",
      "#!genome-build\n",
      "GL429966\n",
      "#!genome-build\n",
      "GL429973\n",
      "#!genome-build\n",
      "GL429848\n",
      "#!genome-build\n",
      "GL429831\n",
      "#!genome-build\n",
      "GL429921\n",
      "#!genome-build\n",
      "GL429901\n",
      "#!genome-build\n",
      "GL429813\n",
      "#!genome-build\n",
      "GL429778\n",
      "#!genome-build\n",
      "GL429800\n",
      "#!genome-build\n",
      "GL429768\n",
      "#!genome-build\n",
      "GL429833\n",
      "#!genome-build\n",
      "GL429769\n",
      "#!genome-build\n",
      "GL429785\n",
      "#!genome-build\n",
      "GL429776\n",
      "#!genome-build\n",
      "GL429767\n",
      "#!genome-build\n",
      "GL429785\n",
      "#!genome-build\n",
      "GL429768\n",
      "#!genome-build\n",
      "GL429770\n",
      "#!genome-build\n",
      "GL429767\n",
      "#!genome-build\n",
      "GL429767\n",
      "#!genome-build\n"
     ]
    },
    {
     "ename": "KeyboardInterrupt",
     "evalue": "",
     "output_type": "error",
     "traceback": [
      "\u001b[0;31m---------------------------------------------------------------------------\u001b[0m",
      "\u001b[0;31mKeyboardInterrupt\u001b[0m                         Traceback (most recent call last)",
      "\u001b[0;32m<ipython-input-19-0fb8f55b2913>\u001b[0m in \u001b[0;36m<module>\u001b[0;34m()\u001b[0m\n\u001b[1;32m      5\u001b[0m     \u001b[0magroups\u001b[0m\u001b[0;34m=\u001b[0m\u001b[0maline\u001b[0m\u001b[0;34m.\u001b[0m\u001b[0msplit\u001b[0m\u001b[0;34m(\u001b[0m\u001b[0;34m' '\u001b[0m\u001b[0;34m)\u001b[0m\u001b[0;34m\u001b[0m\u001b[0m\n\u001b[1;32m      6\u001b[0m     \u001b[0;31m#print(agroups[1])\u001b[0m\u001b[0;34m\u001b[0m\u001b[0;34m\u001b[0m\u001b[0m\n\u001b[0;32m----> 7\u001b[0;31m     \u001b[0mflines\u001b[0m\u001b[0;34m=\u001b[0m\u001b[0mf\u001b[0m\u001b[0;34m.\u001b[0m\u001b[0mreadlines\u001b[0m\u001b[0;34m(\u001b[0m\u001b[0;34m)\u001b[0m\u001b[0;34m\u001b[0m\u001b[0m\n\u001b[0m\u001b[1;32m      8\u001b[0m     \u001b[0;32mfor\u001b[0m \u001b[0mline\u001b[0m \u001b[0;32min\u001b[0m \u001b[0mflines\u001b[0m\u001b[0;34m:\u001b[0m\u001b[0;34m\u001b[0m\u001b[0m\n\u001b[1;32m      9\u001b[0m         \u001b[0mline\u001b[0m\u001b[0;34m=\u001b[0m\u001b[0mline\u001b[0m\u001b[0;34m.\u001b[0m\u001b[0mreplace\u001b[0m\u001b[0;34m(\u001b[0m\u001b[0;34m'\"'\u001b[0m\u001b[0;34m,\u001b[0m \u001b[0;34m''\u001b[0m\u001b[0;34m)\u001b[0m\u001b[0;34m\u001b[0m\u001b[0m\n",
      "\u001b[0;31mKeyboardInterrupt\u001b[0m: "
     ]
    }
   ],
   "source": [
    "f=open('/local/home/sarahgw/WGS/SNPS/All_mylu/snps/NJNYVT40_sigpvalues.csv', 'r')\n",
    "a=open('/local/home/sarahgw/references/Myotis_lucifugus.Myoluc2.0.89.gtf', 'r')\n",
    "while True:\n",
    "    aline=a.readline()\n",
    "    agroups=aline.split(' ')\n",
    "    #print(agroups[1])\n",
    "    flines=f.readlines()\n",
    "    for line in flines:\n",
    "        line=line.replace('\"', '')\n",
    "        args = line.split(',')\n",
    "        print(args[2])\n",
    "        print(agroups[0])\n",
    "        if (args[2]==agroups[0]):\n",
    "            print(args)"
   ]
  },
  {
   "cell_type": "code",
   "execution_count": null,
   "metadata": {
    "collapsed": true
   },
   "outputs": [],
   "source": [
    "and (int(agroups[5]) <int(args[1])) and (int(args[1]) < int(agroups[6]))"
   ]
  },
  {
   "cell_type": "code",
   "execution_count": 61,
   "metadata": {},
   "outputs": [
    {
     "ename": "KeyboardInterrupt",
     "evalue": "",
     "output_type": "error",
     "traceback": [
      "\u001b[0;31m---------------------------------------------------------------------------\u001b[0m",
      "\u001b[0;31mKeyboardInterrupt\u001b[0m                         Traceback (most recent call last)",
      "\u001b[0;32m<ipython-input-61-ff142f64cb5b>\u001b[0m in \u001b[0;36m<module>\u001b[0;34m()\u001b[0m\n\u001b[1;32m      2\u001b[0m \u001b[0ma\u001b[0m\u001b[0;34m=\u001b[0m\u001b[0mopen\u001b[0m\u001b[0;34m(\u001b[0m\u001b[0;34m'/local/home/sarahgw/references/Myotis_lucifugus.Myoluc2.0.89.gtf'\u001b[0m\u001b[0;34m,\u001b[0m \u001b[0;34m'r'\u001b[0m\u001b[0;34m)\u001b[0m\u001b[0;34m\u001b[0m\u001b[0m\n\u001b[1;32m      3\u001b[0m \u001b[0;32mwhile\u001b[0m \u001b[0mTrue\u001b[0m\u001b[0;34m:\u001b[0m\u001b[0;34m\u001b[0m\u001b[0m\n\u001b[0;32m----> 4\u001b[0;31m     \u001b[0maline\u001b[0m\u001b[0;34m=\u001b[0m\u001b[0ma\u001b[0m\u001b[0;34m.\u001b[0m\u001b[0mreadline\u001b[0m\u001b[0;34m(\u001b[0m\u001b[0;34m)\u001b[0m\u001b[0;34m\u001b[0m\u001b[0m\n\u001b[0m\u001b[1;32m      5\u001b[0m     \u001b[0magroups\u001b[0m\u001b[0;34m=\u001b[0m\u001b[0maline\u001b[0m\u001b[0;34m.\u001b[0m\u001b[0msplit\u001b[0m\u001b[0;34m(\u001b[0m\u001b[0;34m' '\u001b[0m\u001b[0;34m)\u001b[0m\u001b[0;34m\u001b[0m\u001b[0m\n\u001b[1;32m      6\u001b[0m \u001b[0;32mfor\u001b[0m \u001b[0mline\u001b[0m \u001b[0;32min\u001b[0m \u001b[0mf\u001b[0m\u001b[0;34m:\u001b[0m\u001b[0;34m\u001b[0m\u001b[0m\n",
      "\u001b[0;31mKeyboardInterrupt\u001b[0m: "
     ]
    }
   ],
   "source": [
    "f=open('/local/home/sarahgw/WGS/SNPS/All_mylu/snps/NJNYVT40_sigpvalues.csv', 'r')\n",
    "a=open('/local/home/sarahgw/references/Myotis_lucifugus.Myoluc2.0.89.gtf', 'r') \n",
    "aline=a.readline()\n",
    "    agroups=aline.split(' ')\n",
    "for line in f:\n",
    "        line=line.replace('\"', '')\n",
    "        args = line.split(',')\n",
    "        if args[2]==agroups[0]:\n",
    "            print(agroups[0])"
   ]
  },
  {
   "cell_type": "code",
   "execution_count": null,
   "metadata": {
    "collapsed": true
   },
   "outputs": [],
   "source": []
  }
 ],
 "metadata": {
  "kernelspec": {
   "display_name": "Python 2",
   "language": "python",
   "name": "python2"
  },
  "language_info": {
   "codemirror_mode": {
    "name": "ipython",
    "version": 2
   },
   "file_extension": ".py",
   "mimetype": "text/x-python",
   "name": "python",
   "nbconvert_exporter": "python",
   "pygments_lexer": "ipython2",
   "version": "2.7.13"
  }
 },
 "nbformat": 4,
 "nbformat_minor": 2
}
