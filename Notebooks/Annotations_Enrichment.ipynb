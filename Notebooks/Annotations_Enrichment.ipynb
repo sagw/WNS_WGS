{
 "cells": [
  {
   "cell_type": "code",
   "execution_count": 51,
   "metadata": {},
   "outputs": [
    {
     "name": "stdout",
     "output_type": "stream",
     "text": [
      "#!genome-build Myoluc2.0\r\n",
      "#!genome-version Myoluc2.0\r\n",
      "#!genome-date 2010-09\r\n",
      "#!genome-build-accession NCBI:GCA_000147115.1\r\n",
      "#!genebuild-last-updated 2011-06\r\n",
      "GL429767\tensembl\tgene\t42604\t226589\t.\t+\t.\tgene_id \"ENSMLUG00000029214\"; gene_version \"1\"; gene_name \"ACHE\"; gene_source \"ensembl\"; gene_biotype \"protein_coding\";\r\n"
     ]
    }
   ],
   "source": [
    "!head /local/home/sarahgw/references/Myotis_lucifugus.Myoluc2.0.89.gtf -n 6"
   ]
  },
  {
   "cell_type": "code",
   "execution_count": 53,
   "metadata": {},
   "outputs": [
    {
     "name": "stdout",
     "output_type": "stream",
     "text": [
      "482554 /local/home/sarahgw/references/Myotis_lucifugus.Myoluc2.0.89.gtf\r\n"
     ]
    }
   ],
   "source": [
    "!wc -l /local/home/sarahgw/references/Myotis_lucifugus.Myoluc2.0.89.gtf"
   ]
  },
  {
   "cell_type": "code",
   "execution_count": null,
   "metadata": {
    "collapsed": true
   },
   "outputs": [],
   "source": [
    "!head /local/home/sarahgw/references/Myotis_lucifugus.Myoluc2.0.89.gtf"
   ]
  },
  {
   "cell_type": "code",
   "execution_count": 20,
   "metadata": {},
   "outputs": [
    {
     "name": "stdout",
     "output_type": "stream",
     "text": [
      "\"\",\"SNP\",\"Scaffold\",\"Maj\",\"Min\",\"X\",\"NJ\",\"NY\",\"VT\"\r\n",
      "\"1\",27042,\"GL430649\",\"C\",\"T\",1,0.0261779738220262,0.0376249623750376,0.0150939849060151\r\n",
      "\"3\",35775,\"GL430244\",\"T\",\"C\",3,0.00521699478300522,0.000673999326000674,0.0027979972020028\r\n",
      "\"5\",62323,\"GL430456\",\"T\",\"C\",5,0.0081049918950081,0.0116669883330117,0.000106999893000107\r\n",
      "\"6\",66052,\"GL430136\",\"C\",\"A\",6,0.00295199704800295,0.0182869817130183,0.0277079722920277\r\n",
      "\"7\",69820,\"GL430155\",\"T\",\"C\",7,0.0346999653000347,0.00865399134600865,0.000274999725000275\r\n",
      "\"8\",69827,\"GL430155\",\"C\",\"T\",8,0.0257449742550257,0.000933999066000934,0.0062949937050063\r\n",
      "\"12\",145393,\"GL430285\",\"T\",\"A\",12,0.0015969984030016,0.0049009950990049,0.0193069806930193\r\n",
      "\"13\",204614,\"GL429992\",\"C\",\"A\",13,0.0468069531930468,0.000813999186000814,0.00996899003100997\r\n",
      "\"14\",280372,\"GL430155\",\"T\",\"A\",14,0.00752799247200753,0.0472229527770472,9.99999000001e-07\r\n",
      "\"15\",282162,\"GL429849\",\"A\",\"G\",15,0.00111399888600111,0.00836899163100837,9.99999000001e-07\r\n",
      "\"16\",308061,\"GL429844\",\"G\",\"A\",16,0.000655999344000656,0.0129449870550129,0.0127899872100128\r\n",
      "\"19\",453486,\"GL429872\",\"A\",\"G\",19,0.000886999113000887,9.99999000001e-07,0.00143799856200144\r\n",
      "\"20\",463033,\"GL429852\",\"G\",\"A\",20,7.4999925000075e-05,0.000112999887000113,0.000434999565000435\r\n",
      "\"21\",463041,\"GL429852\",\"G\",\"A\",21,7.6999923000077e-05,1.999998000002e-06,0.00203599796400204\r\n",
      "\"22\",506372,\"GL429879\",\"C\",\"T\",22,0.0278259721740278,0.00187599812400188,0.0086989913010087\r\n",
      "\"26\",616121,\"GL429834\",\"G\",\"C\",26,9.99999000001e-07,0.000861999138000862,8.1999918000082e-05\r\n",
      "\"29\",718420,\"GL429863\",\"G\",\"A\",29,0.0392879607120393,0.00911599088400912,0.000603999396000604\r\n",
      "\"30\",729116,\"GL429981\",\"G\",\"A\",30,0.0226719773280227,0.00734599265400735,0.00164899835100165\r\n",
      "\"35\",809101,\"GL430055\",\"T\",\"C\",35,0.000332999667000333,0.00348999651000349,0.0145629854370146\r\n",
      "\"36\",816124,\"GL429903\",\"T\",\"C\",36,2.8999971000029e-05,0.0433209566790433,0.0084969915030085\r\n",
      "\"45\",1246200,\"GL429905\",\"G\",\"T\",45,0.00172299827700172,0.00237999762000238,0.00533299466700533\r\n",
      "\"50\",1498546,\"GL429835\",\"C\",\"T\",50,0.023959976040024,0.0209119790880209,0.00418599581400419\r\n",
      "\"51\",1543734,\"GL429882\",\"T\",\"C\",51,0.00874799125200875,9.99999000001e-07,9.99999000001e-07\r\n",
      "\"52\",1578201,\"GL429888\",\"C\",\"T\",52,0.00596599403400597,0.00434599565400435,0.00609399390600609\r\n",
      "\"53\",1578202,\"GL429888\",\"A\",\"G\",53,0.00355299644700355,0.00249099750900249,0.0181549818450182\r\n",
      "\"55\",1735029,\"GL429966\",\"C\",\"T\",55,0.00301799698200302,0.00946499053500947,9.99999000001e-07\r\n",
      "\"58\",2036674,\"GL429973\",\"C\",\"A\",58,0.034005965994034,0.0076959923040077,9.99999000001e-07\r\n",
      "\"62\",2603833,\"GL429848\",\"G\",\"A\",62,0.000356999643000357,0.000897999102000898,0.0293399706600293\r\n",
      "\"65\",2755974,\"GL429831\",\"A\",\"C\",65,0.00161599838400162,0.00819499180500819,0.000116999883000117\r\n",
      "\"66\",2901266,\"GL429921\",\"G\",\"A\",66,0.00673399326600673,0.00936399063600936,0.0214339785660214\r\n",
      "\"67\",3161631,\"GL429901\",\"A\",\"T\",67,0.0181829818170182,0.00409199590800409,0.0173699826300174\r\n",
      "\"69\",3296417,\"GL429813\",\"C\",\"T\",69,0.00786199213800786,9.99999000001e-07,0.00244999755000245\r\n",
      "\"70\",3561008,\"GL429778\",\"C\",\"T\",70,0.0017029982970017,0.00476199523800476,0.0106219893780106\r\n",
      "\"72\",4302781,\"GL429800\",\"G\",\"A\",72,0.017031982968017,0.0208609791390209,9.99999000001e-07\r\n",
      "\"73\",4318783,\"GL429768\",\"C\",\"T\",73,0.00612299387700612,0.0315529684470316,0.00158999841000159\r\n",
      "\"75\",4827800,\"GL429833\",\"G\",\"T\",75,0.0305419694580305,0.000686999313000687,0.00261899738100262\r\n",
      "\"77\",6378055,\"GL429769\",\"A\",\"G\",77,9.99999000001e-07,0.00793499206500793,0.000161999838000162\r\n",
      "\"78\",7341092,\"GL429785\",\"T\",\"G\",78,9.99999000001e-07,0.00534499465500534,7.3999926000074e-05\r\n",
      "\"79\",7596204,\"GL429776\",\"A\",\"C\",79,0.00162299837700162,0.00482899517100483,0.000168999831000169\r\n",
      "\"82\",10265656,\"GL429767\",\"T\",\"C\",82,0.0095969904030096,0.000123999876000124,0.0151419848580151\r\n",
      "\"83\",11292450,\"GL429785\",\"G\",\"A\",83,0.00751199248800751,0.00415999584000416,0.0223879776120224\r\n",
      "\"85\",11968353,\"GL429768\",\"T\",\"C\",85,0.00675499324500676,0.00236499763500237,0.00360899639100361\r\n",
      "\"86\",12225476,\"GL429770\",\"A\",\"C\",86,0.00211699788300212,0.0144379855620144,0.0410469589530411\r\n"
     ]
    }
   ],
   "source": [
    "!head '/local/home/sarahgw/WGS/SNPS/All_mylu/snps/NJNYVT40_sigpvalues.csv' -n 44"
   ]
  },
  {
   "cell_type": "code",
   "execution_count": 1,
   "metadata": {},
   "outputs": [
    {
     "name": "stdout",
     "output_type": "stream",
     "text": [
      "482554 /local/home/sarahgw/references/Myotis_lucifugus.Myoluc2.0.89.gtf\r\n"
     ]
    }
   ],
   "source": [
    "!wc -l /local/home/sarahgw/references/Myotis_lucifugus.Myoluc2.0.89.gtf"
   ]
  },
  {
   "cell_type": "code",
   "execution_count": 33,
   "metadata": {
    "scrolled": true
   },
   "outputs": [
    {
     "name": "stdout",
     "output_type": "stream",
     "text": [
      "['GL429785', 'ensembl', 'gene', '7338804', '7404912', '.', '+', '.', 'gene_id \"ENSMLUG00000009337\"; gene_version \"2\"; gene_source \"ensembl\"; gene_biotype \"protein_coding\";\\n']\n",
      "['GL429785', 'ensembl', 'transcript', '7338804', '7404912', '.', '+', '.', 'gene_id \"ENSMLUG00000009337\"; gene_version \"2\"; transcript_id \"ENSMLUT00000009343\"; transcript_version \"2\"; gene_source \"ensembl\"; gene_biotype \"protein_coding\"; transcript_source \"ensembl\"; transcript_biotype \"protein_coding\";\\n']\n",
      "['GL429785', 'ensembl', 'exon', '7338804', '7338884', '.', '+', '.', 'gene_id \"ENSMLUG00000009337\"; gene_version \"2\"; transcript_id \"ENSMLUT00000009343\"; transcript_version \"2\"; exon_number \"1\"; gene_source \"ensembl\"; gene_biotype \"protein_coding\"; transcript_source \"ensembl\"; transcript_biotype \"protein_coding\"; exon_id \"ENSMLUE00000274165\"; exon_version \"1\";\\n']\n",
      "['GL429785', 'ensembl', 'CDS', '7338804', '7338884', '.', '+', '0', 'gene_id \"ENSMLUG00000009337\"; gene_version \"2\"; transcript_id \"ENSMLUT00000009343\"; transcript_version \"2\"; exon_number \"1\"; gene_source \"ensembl\"; gene_biotype \"protein_coding\"; transcript_source \"ensembl\"; transcript_biotype \"protein_coding\"; protein_id \"ENSMLUP00000008517\"; protein_version \"2\";\\n']\n",
      "['GL429813', 'ensembl', 'gene', '3242471', '3390363', '.', '-', '.', 'gene_id \"ENSMLUG00000010886\"; gene_version \"2\"; gene_source \"ensembl\"; gene_biotype \"protein_coding\";\\n']\n",
      "['GL429813', 'ensembl', 'transcript', '3242471', '3390363', '.', '-', '.', 'gene_id \"ENSMLUG00000010886\"; gene_version \"2\"; transcript_id \"ENSMLUT00000010903\"; transcript_version \"2\"; gene_source \"ensembl\"; gene_biotype \"protein_coding\"; transcript_source \"ensembl\"; transcript_biotype \"protein_coding\";\\n']\n",
      "['GL429813', 'ensembl', 'exon', '3294794', '3294972', '.', '-', '.', 'gene_id \"ENSMLUG00000010886\"; gene_version \"2\"; transcript_id \"ENSMLUT00000010903\"; transcript_version \"2\"; exon_number \"5\"; gene_source \"ensembl\"; gene_biotype \"protein_coding\"; transcript_source \"ensembl\"; transcript_biotype \"protein_coding\"; exon_id \"ENSMLUE00000135682\"; exon_version \"1\";\\n']\n",
      "['GL429813', 'ensembl', 'CDS', '3294794', '3294972', '.', '-', '1', 'gene_id \"ENSMLUG00000010886\"; gene_version \"2\"; transcript_id \"ENSMLUT00000010903\"; transcript_version \"2\"; exon_number \"5\"; gene_source \"ensembl\"; gene_biotype \"protein_coding\"; transcript_source \"ensembl\"; transcript_biotype \"protein_coding\"; protein_id \"ENSMLUP00000009937\"; protein_version \"2\";\\n']\n",
      "['GL429813', 'ensembl', 'exon', '3291184', '3291343', '.', '-', '.', 'gene_id \"ENSMLUG00000010886\"; gene_version \"2\"; transcript_id \"ENSMLUT00000010903\"; transcript_version \"2\"; exon_number \"6\"; gene_source \"ensembl\"; gene_biotype \"protein_coding\"; transcript_source \"ensembl\"; transcript_biotype \"protein_coding\"; exon_id \"ENSMLUE00000135690\"; exon_version \"2\";\\n']\n",
      "['GL429813', 'ensembl', 'CDS', '3291184', '3291343', '.', '-', '2', 'gene_id \"ENSMLUG00000010886\"; gene_version \"2\"; transcript_id \"ENSMLUT00000010903\"; transcript_version \"2\"; exon_number \"6\"; gene_source \"ensembl\"; gene_biotype \"protein_coding\"; transcript_source \"ensembl\"; transcript_biotype \"protein_coding\"; protein_id \"ENSMLUP00000009937\"; protein_version \"2\";\\n']\n",
      "['GL429849', 'ensembl', 'gene', '149381', '371662', '.', '+', '.', 'gene_id \"ENSMLUG00000008202\"; gene_version \"2\"; gene_name \"DOK6\"; gene_source \"ensembl\"; gene_biotype \"protein_coding\";\\n']\n",
      "['GL429849', 'ensembl', 'transcript', '149381', '371662', '.', '+', '.', 'gene_id \"ENSMLUG00000008202\"; gene_version \"2\"; transcript_id \"ENSMLUT00000008200\"; transcript_version \"2\"; gene_name \"DOK6\"; gene_source \"ensembl\"; gene_biotype \"protein_coding\"; transcript_name \"DOK6-201\"; transcript_source \"ensembl\"; transcript_biotype \"protein_coding\";\\n']\n",
      "['GL429849', 'ensembl', 'exon', '280147', '280266', '.', '+', '.', 'gene_id \"ENSMLUG00000008202\"; gene_version \"2\"; transcript_id \"ENSMLUT00000008200\"; transcript_version \"2\"; exon_number \"4\"; gene_name \"DOK6\"; gene_source \"ensembl\"; gene_biotype \"protein_coding\"; transcript_name \"DOK6-201\"; transcript_source \"ensembl\"; transcript_biotype \"protein_coding\"; exon_id \"ENSMLUE00000102459\"; exon_version \"1\";\\n']\n",
      "['GL429849', 'ensembl', 'CDS', '280147', '280266', '.', '+', '2', 'gene_id \"ENSMLUG00000008202\"; gene_version \"2\"; transcript_id \"ENSMLUT00000008200\"; transcript_version \"2\"; exon_number \"4\"; gene_name \"DOK6\"; gene_source \"ensembl\"; gene_biotype \"protein_coding\"; transcript_name \"DOK6-201\"; transcript_source \"ensembl\"; transcript_biotype \"protein_coding\"; protein_id \"ENSMLUP00000007486\"; protein_version \"2\";\\n']\n",
      "['GL429849', 'ensembl', 'exon', '289507', '289696', '.', '+', '.', 'gene_id \"ENSMLUG00000008202\"; gene_version \"2\"; transcript_id \"ENSMLUT00000008200\"; transcript_version \"2\"; exon_number \"5\"; gene_name \"DOK6\"; gene_source \"ensembl\"; gene_biotype \"protein_coding\"; transcript_name \"DOK6-201\"; transcript_source \"ensembl\"; transcript_biotype \"protein_coding\"; exon_id \"ENSMLUE00000102478\"; exon_version \"1\";\\n']\n",
      "['GL429849', 'ensembl', 'CDS', '289507', '289696', '.', '+', '2', 'gene_id \"ENSMLUG00000008202\"; gene_version \"2\"; transcript_id \"ENSMLUT00000008200\"; transcript_version \"2\"; exon_number \"5\"; gene_name \"DOK6\"; gene_source \"ensembl\"; gene_biotype \"protein_coding\"; transcript_name \"DOK6-201\"; transcript_source \"ensembl\"; transcript_biotype \"protein_coding\"; protein_id \"ENSMLUP00000007486\"; protein_version \"2\";\\n']\n",
      "['GL429872', 'ensembl', 'gene', '447346', '447464', '.', '+', '.', 'gene_id \"ENSMLUG00000028145\"; gene_version \"1\"; gene_name \"5S_rRNA\"; gene_source \"ensembl\"; gene_biotype \"rRNA\";\\n']\n",
      "['GL429872', 'ensembl', 'transcript', '447346', '447464', '.', '+', '.', 'gene_id \"ENSMLUG00000028145\"; gene_version \"1\"; transcript_id \"ENSMLUT00000029028\"; transcript_version \"1\"; gene_name \"5S_rRNA\"; gene_source \"ensembl\"; gene_biotype \"rRNA\"; transcript_name \"5S_rRNA-201\"; transcript_source \"ensembl\"; transcript_biotype \"rRNA\";\\n']\n",
      "['GL429872', 'ensembl', 'exon', '447346', '447464', '.', '+', '.', 'gene_id \"ENSMLUG00000028145\"; gene_version \"1\"; transcript_id \"ENSMLUT00000029028\"; transcript_version \"1\"; exon_number \"1\"; gene_name \"5S_rRNA\"; gene_source \"ensembl\"; gene_biotype \"rRNA\"; transcript_name \"5S_rRNA-201\"; transcript_source \"ensembl\"; transcript_biotype \"rRNA\"; exon_id \"ENSMLUE00000257909\"; exon_version \"1\";\\n']\n",
      "['GL429882', 'ensembl', 'gene', '1526830', '1551057', '.', '+', '.', 'gene_id \"ENSMLUG00000008817\"; gene_version \"2\"; gene_source \"ensembl\"; gene_biotype \"protein_coding\";\\n']\n",
      "['GL429882', 'ensembl', 'transcript', '1526830', '1551057', '.', '+', '.', 'gene_id \"ENSMLUG00000008817\"; gene_version \"2\"; transcript_id \"ENSMLUT00000008810\"; transcript_version \"2\"; gene_source \"ensembl\"; gene_biotype \"protein_coding\"; transcript_source \"ensembl\"; transcript_biotype \"protein_coding\";\\n']\n",
      "['GL429882', 'ensembl', 'exon', '1539505', '1539642', '.', '+', '.', 'gene_id \"ENSMLUG00000008817\"; gene_version \"2\"; transcript_id \"ENSMLUT00000008810\"; transcript_version \"2\"; exon_number \"2\"; gene_source \"ensembl\"; gene_biotype \"protein_coding\"; transcript_source \"ensembl\"; transcript_biotype \"protein_coding\"; exon_id \"ENSMLUE00000109970\"; exon_version \"1\";\\n']\n",
      "['GL429882', 'ensembl', 'CDS', '1539505', '1539642', '.', '+', '0', 'gene_id \"ENSMLUG00000008817\"; gene_version \"2\"; transcript_id \"ENSMLUT00000008810\"; transcript_version \"2\"; exon_number \"2\"; gene_source \"ensembl\"; gene_biotype \"protein_coding\"; transcript_source \"ensembl\"; transcript_biotype \"protein_coding\"; protein_id \"ENSMLUP00000008028\"; protein_version \"2\";\\n']\n",
      "['GL429882', 'ensembl', 'exon', '1543068', '1543274', '.', '+', '.', 'gene_id \"ENSMLUG00000008817\"; gene_version \"2\"; transcript_id \"ENSMLUT00000008810\"; transcript_version \"2\"; exon_number \"3\"; gene_source \"ensembl\"; gene_biotype \"protein_coding\"; transcript_source \"ensembl\"; transcript_biotype \"protein_coding\"; exon_id \"ENSMLUE00000259129\"; exon_version \"1\";\\n']\n",
      "['GL429882', 'ensembl', 'CDS', '1543068', '1543274', '.', '+', '0', 'gene_id \"ENSMLUG00000008817\"; gene_version \"2\"; transcript_id \"ENSMLUT00000008810\"; transcript_version \"2\"; exon_number \"3\"; gene_source \"ensembl\"; gene_biotype \"protein_coding\"; transcript_source \"ensembl\"; transcript_biotype \"protein_coding\"; protein_id \"ENSMLUP00000008028\"; protein_version \"2\";\\n']\n",
      "['GL429882', 'ensembl', 'exon', '1547146', '1547317', '.', '+', '.', 'gene_id \"ENSMLUG00000008817\"; gene_version \"2\"; transcript_id \"ENSMLUT00000008810\"; transcript_version \"2\"; exon_number \"4\"; gene_source \"ensembl\"; gene_biotype \"protein_coding\"; transcript_source \"ensembl\"; transcript_biotype \"protein_coding\"; exon_id \"ENSMLUE00000110052\"; exon_version \"1\";\\n']\n",
      "['GL429882', 'ensembl', 'CDS', '1547146', '1547317', '.', '+', '0', 'gene_id \"ENSMLUG00000008817\"; gene_version \"2\"; transcript_id \"ENSMLUT00000008810\"; transcript_version \"2\"; exon_number \"4\"; gene_source \"ensembl\"; gene_biotype \"protein_coding\"; transcript_source \"ensembl\"; transcript_biotype \"protein_coding\"; protein_id \"ENSMLUP00000008028\"; protein_version \"2\";\\n']\n",
      "['GL429882', 'ensembl', 'exon', '1548973', '1549114', '.', '+', '.', 'gene_id \"ENSMLUG00000008817\"; gene_version \"2\"; transcript_id \"ENSMLUT00000008810\"; transcript_version \"2\"; exon_number \"5\"; gene_source \"ensembl\"; gene_biotype \"protein_coding\"; transcript_source \"ensembl\"; transcript_biotype \"protein_coding\"; exon_id \"ENSMLUE00000110073\"; exon_version \"1\";\\n']\n",
      "['GL429882', 'ensembl', 'CDS', '1548973', '1549114', '.', '+', '2', 'gene_id \"ENSMLUG00000008817\"; gene_version \"2\"; transcript_id \"ENSMLUT00000008810\"; transcript_version \"2\"; exon_number \"5\"; gene_source \"ensembl\"; gene_biotype \"protein_coding\"; transcript_source \"ensembl\"; transcript_biotype \"protein_coding\"; protein_id \"ENSMLUP00000008028\"; protein_version \"2\";\\n']\n",
      "['GL429882', 'ensembl', 'exon', '1550922', '1551057', '.', '+', '.', 'gene_id \"ENSMLUG00000008817\"; gene_version \"2\"; transcript_id \"ENSMLUT00000008810\"; transcript_version \"2\"; exon_number \"6\"; gene_source \"ensembl\"; gene_biotype \"protein_coding\"; transcript_source \"ensembl\"; transcript_biotype \"protein_coding\"; exon_id \"ENSMLUE00000110103\"; exon_version \"2\";\\n']\n",
      "['GL429882', 'ensembl', 'CDS', '1550922', '1551054', '.', '+', '1', 'gene_id \"ENSMLUG00000008817\"; gene_version \"2\"; transcript_id \"ENSMLUT00000008810\"; transcript_version \"2\"; exon_number \"6\"; gene_source \"ensembl\"; gene_biotype \"protein_coding\"; transcript_source \"ensembl\"; transcript_biotype \"protein_coding\"; protein_id \"ENSMLUP00000008028\"; protein_version \"2\";\\n']\n",
      "['GL429882', 'ensembl', 'stop_codon', '1551055', '1551057', '.', '+', '0', 'gene_id \"ENSMLUG00000008817\"; gene_version \"2\"; transcript_id \"ENSMLUT00000008810\"; transcript_version \"2\"; exon_number \"6\"; gene_source \"ensembl\"; gene_biotype \"protein_coding\"; transcript_source \"ensembl\"; transcript_biotype \"protein_coding\";\\n']\n"
     ]
    },
    {
     "data": {
      "text/plain": [
       "32"
      ]
     },
     "execution_count": 33,
     "metadata": {},
     "output_type": "execute_result"
    }
   ],
   "source": [
    "f=open('/local/home/sarahgw/WGS/SNPS/All_mylu/snps/NJNYVT40_margCompvalues.csv', 'r')\n",
    "a=open('/local/home/sarahgw/references/Myotis_lucifugus.Myoluc2.0.89.gtf', 'r')\n",
    "flines = f.readlines()[1:]\n",
    "chrom_dict = {}\n",
    "for line in flines:\n",
    "    line = line.replace('\"', '')\n",
    "    args = line.split(',')\n",
    "    chrom_dict[args[2]] = int(args[1])\n",
    "\n",
    "aline = a.readline()\n",
    "count = 0\n",
    "while aline:\n",
    "    agroups = aline.split('\\t')\n",
    "    #print(agroups)\n",
    "    chrom = agroups[0]\n",
    "    if chrom in chrom_dict:\n",
    "        loc = chrom_dict[chrom]\n",
    "        if int(agroups[3]) < loc+10000 and int(agroups[4]) > loc-10000:\n",
    "            count += 1\n",
    "            print agroups\n",
    "    aline = a.readline()\n",
    "count"
   ]
  },
  {
   "cell_type": "code",
   "execution_count": null,
   "metadata": {
    "collapsed": true
   },
   "outputs": [],
   "source": []
  }
 ],
 "metadata": {
  "kernelspec": {
   "display_name": "Python 2",
   "language": "python",
   "name": "python2"
  },
  "language_info": {
   "codemirror_mode": {
    "name": "ipython",
    "version": 2
   },
   "file_extension": ".py",
   "mimetype": "text/x-python",
   "name": "python",
   "nbconvert_exporter": "python",
   "pygments_lexer": "ipython2",
   "version": "2.7.13"
  }
 },
 "nbformat": 4,
 "nbformat_minor": 2
}
