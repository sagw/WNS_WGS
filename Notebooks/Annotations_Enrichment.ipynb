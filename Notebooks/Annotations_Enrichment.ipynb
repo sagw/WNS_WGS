{
 "cells": [
  {
   "cell_type": "code",
   "execution_count": 16,
   "metadata": {},
   "outputs": [
    {
     "name": "stdout",
     "output_type": "stream",
     "text": [
      "##gff-version 3\r\n",
      "#!gff-spec-version 1.21\r\n",
      "#!processor NCBI annotwriter\r\n",
      "#!genome-build Myoluc2.0\r\n",
      "#!genome-build-accession NCBI_Assembly:GCF_000147115.1\r\n",
      "#!annotation-date 26 January 2018\r\n",
      "#!annotation-source NCBI Myotis lucifugus Annotation Release 102\r\n",
      "##sequence-region NW_005871048.1 1 64990205\r\n",
      "##species https://www.ncbi.nlm.nih.gov/Taxonomy/Browser/wwwtax.cgi?id=59463\r\n",
      "NW_005871048.1\tRefSeq\tregion\t1\t64990205\t.\t+\t.\tID=id0;Dbxref=taxon:59463;Name=Unknown;chromosome=Unknown;country=USA: Framingham%2C MA;gbkey=Src;genome=genomic;mol_type=genomic DNA;sex=female\r\n"
     ]
    }
   ],
   "source": [
    "!head /local/home/sarahgw/references/ref_Myoluc2.0_top_level.gff3 -n 10"
   ]
  },
  {
   "cell_type": "code",
   "execution_count": null,
   "metadata": {
    "collapsed": true
   },
   "outputs": [],
   "source": [
    "GL429891 266596"
   ]
  },
  {
   "cell_type": "code",
   "execution_count": 6,
   "metadata": {},
   "outputs": [
    {
     "name": "stdout",
     "output_type": "stream",
     "text": [
      "482554 /local/home/sarahgw/references/Myotis_lucifugus.Myoluc2.0.92.gtf\r\n"
     ]
    }
   ],
   "source": [
    "!wc -l /local/home/sarahgw/references/Myotis_lucifugus.Myoluc2.0.92.gtf"
   ]
  },
  {
   "cell_type": "raw",
   "metadata": {
    "scrolled": false
   },
   "source": [
    "!tail /local/home/sarahgw/references/Myotis_lucifugus.Myoluc2.0.92.gtf"
   ]
  },
  {
   "cell_type": "code",
   "execution_count": 2,
   "metadata": {
    "scrolled": true
   },
   "outputs": [
    {
     "name": "stdout",
     "output_type": "stream",
     "text": [
      "\"\",\"SNP\",\"Scaffold\",\"Maj\",\"Min\",\"NJ\",\"NY\",\"VT\",\"Comp\"\r\n",
      "\"15\",282162,\"GL429849\",\"A\",\"G\",0.00111399888600111,0.00836899163100837,9.99999000001e-07,3.25319264647375e-09\r\n",
      "\"19\",453486,\"GL429872\",\"A\",\"G\",0.000886999113000887,9.99999000001e-07,0.00143799856200144,5.14576123265913e-10\r\n",
      "\"20\",463033,\"GL429852\",\"G\",\"A\",7.4999925000075e-05,0.000112999887000113,0.000434999565000435,1.37829106611689e-09\r\n",
      "\"21\",463041,\"GL429852\",\"G\",\"A\",7.6999923000077e-05,1.999998000002e-06,0.00203599796400204,1.39290583823221e-10\r\n",
      "\"26\",616121,\"GL429834\",\"G\",\"C\",9.99999000001e-07,0.000861999138000862,8.1999918000082e-05,3.46164465967714e-11\r\n",
      "\"51\",1543734,\"GL429882\",\"T\",\"C\",0.00874799125200875,9.99999000001e-07,9.99999000001e-07,4.87504391237632e-12\r\n",
      "\"55\",1735029,\"GL429966\",\"C\",\"T\",0.00301799698200302,0.00946499053500947,9.99999000001e-07,9.14116512034742e-09\r\n",
      "\"69\",3296417,\"GL429813\",\"C\",\"T\",0.00786199213800786,9.99999000001e-07,0.00244999755000245,6.35734734029988e-09\r\n",
      "\"77\",6378055,\"GL429769\",\"A\",\"G\",9.99999000001e-07,0.00793499206500793,0.000161999838000162,5.18311972902529e-10\r\n",
      "\"78\",7341092,\"GL429785\",\"T\",\"G\",9.99999000001e-07,0.00534499465500534,7.3999926000074e-05,1.72986116789635e-10\r\n",
      "\"84\",11429827,\"GL429778\",\"G\",\"A\",9.99999000001e-07,9.99999000001e-07,0.0557789442210558,2.7731711844651e-11\r\n"
     ]
    }
   ],
   "source": [
    "!head '/local/home/sarahgw/WGS/SNPS/All_mylu/snps/NJNYVT40_margCompvalues.csv' -n 44"
   ]
  },
  {
   "cell_type": "markdown",
   "metadata": {
    "collapsed": true
   },
   "source": [
    "Look at repeat regions (soft mask)"
   ]
  },
  {
   "cell_type": "code",
   "execution_count": 22,
   "metadata": {},
   "outputs": [
    {
     "name": "stdout",
     "output_type": "stream",
     "text": [
      "\"\",\"Scaffold\",\"NewScaf\",\"SNP\",\"Maj\",\"Min\",\"NJ\",\"pvalues\",\"Comp\",\"rank\",\"padjBH\"\r\n",
      "\"1\",\"GL429767\",\"NW_005871048.1\",51542832,\"G\",\"A\",9.99999000001e-07,0.000253999746000254,5.86578523604657e-09,15,1.54259886773243e-07\r\n",
      "\"2\",\"GL429767\",\"NW_005871048.1\",16839644,\"T\",\"A\",8.3999916000084e-05,0.000496999503000497,7.51112494690409e-07,81,8.33003388575513e-07\r\n",
      "\"3\",\"GL429767\",\"NW_005871048.1\",22649683,\"T\",\"A\",0.000658999341000659,4.999995000005e-06,6.76490539011496e-08,32,3.29087758449585e-07\r\n",
      "\"4\",\"GL429767\",\"NW_005871048.1\",4550108,\"T\",\"C\",0.00016999983000017,7.8999921000079e-05,2.56858669061094e-07,59,6.06755554641423e-07\r\n",
      "\"5\",\"GL429767\",\"NW_005871048.1\",46534125,\"C\",\"T\",6.6999933000067e-05,9.99999000001e-07,1.63656087014458e-09,10,1.02839924515495e-07\r\n",
      "\"6\",\"GL429767\",\"NW_005871048.1\",38456248,\"T\",\"C\",2.8999971000029e-05,0.00138399861600138,7.23690533813113e-07,80,8.22719396123963e-07\r\n",
      "\"7\",\"GL429767\",\"NW_005871048.1\",51542790,\"G\",\"T\",0.00101799898200102,3.999996000004e-06,8.27393463681677e-08,36,3.70223728255783e-07\r\n",
      "\"8\",\"GL429768\",\"NW_005871049.1\",3921142,\"G\",\"C\",9.99999000001e-07,0.0280749719250281,5.16252970035752e-07,70,7.19879471608468e-07\r\n",
      "\"9\",\"GL429768\",\"NW_005871049.1\",29962249,\"A\",\"G\",9.99999000001e-07,0.00524199475800524,1.05188721947827e-07,38,3.90791713158883e-07\r\n"
     ]
    }
   ],
   "source": [
    "!head /local/home/sarahgw/WGS/SNPS/All_mylu/snps/NJNY50noout2_sigCompvaluesNe424_296.csv"
   ]
  },
  {
   "cell_type": "code",
   "execution_count": null,
   "metadata": {
    "collapsed": true
   },
   "outputs": [],
   "source": [
    "!wc -l ~/WGS/SNPS/All_mylu/snps/NJNY502_sigCompvalues_nr_Ne424_296.csv"
   ]
  },
  {
   "cell_type": "code",
   "execution_count": 46,
   "metadata": {
    "collapsed": true
   },
   "outputs": [],
   "source": [
    "from Bio import SeqIO\n",
    "\n",
    "#tmp = open('/local/home/sarahgw/WGS/SNPS/All_mylu/snps/NJNY50noout2_sigCompvaluesNe424_296.csv')\n",
    "tmp = open('/local/home/sarahgw/WGS/SNPS/All_mylu/snps/NJNY502_sigCompvalues_nr_Ne424_296.csv')\n",
    "lines = tmp.readlines()\n",
    "lines[1]\n",
    "tmp.close()\n",
    "del tmp"
   ]
  },
  {
   "cell_type": "code",
   "execution_count": 47,
   "metadata": {
    "collapsed": true
   },
   "outputs": [],
   "source": [
    "scaffolds = {}\n",
    "\n",
    "for line in lines[1:]:\n",
    "    line = line.split(',')\n",
    "    scaffold = line[1].replace('\"','')\n",
    "    index = int(line[3])\n",
    "    \n",
    "    if scaffold in scaffolds:\n",
    "        scaffolds[scaffold].append(index)\n",
    "    else:\n",
    "        scaffolds[scaffold] = [index]"
   ]
  },
  {
   "cell_type": "code",
   "execution_count": 48,
   "metadata": {},
   "outputs": [
    {
     "data": {
      "text/plain": [
       "53"
      ]
     },
     "execution_count": 48,
     "metadata": {},
     "output_type": "execute_result"
    }
   ],
   "source": [
    "#o=open(\"/local/home/sarahgw/references/SNP_Scaffolds.fa\")\n",
    "read_data = []\n",
    "\n",
    "for read in SeqIO.parse(\"/local/home/sarahgw/references/Myotis_lucifugus.Myoluc2.0.dna_sm.toplevel.fa\", \"fasta\"):\n",
    "    if read.id in scaffolds:\n",
    "        read_data.append(read)\n",
    "#print([read_data])\n",
    "\n",
    "SeqIO.write(read_data, \"/local/home/sarahgw/references/SNP_Scaffolds.fa\", \"fasta\")\n",
    "    \n",
    "        "
   ]
  },
  {
   "cell_type": "code",
   "execution_count": 49,
   "metadata": {},
   "outputs": [
    {
     "name": "stdout",
     "output_type": "stream",
     "text": [
      "['GL429767', 'T', 22649683]\n",
      "['GL429767', 'A', 16839644]\n",
      "['GL429767', 'C', 46534125]\n",
      "['GL429768', 'A', 29962249]\n",
      "['GL429768', 'A', 9041952]\n",
      "['GL429768', 'G', 3921142]\n",
      "['GL429770', 'A', 8507307]\n",
      "['GL429772', 'T', 14993622]\n",
      "['GL429773', 'T', 7204887]\n",
      "['GL429775', 'A', 5556309]\n",
      "['GL429778', 'G', 3561000]\n",
      "['GL429781', 'G', 7594948]\n",
      "['GL429783', 'G', 665407]\n",
      "['GL429792', 'C', 753145]\n",
      "['GL429801', 'T', 6986210]\n",
      "['GL429802', 'C', 4091453]\n",
      "['GL429806', 'C', 3311579]\n",
      "['GL429816', 'G', 3229647]\n",
      "['GL429819', 'G', 365354]\n",
      "['GL429835', 'G', 2966433]\n",
      "['GL429842', 'A', 4124241]\n",
      "['GL429841', 'G', 612532]\n",
      "['GL429841', 'G', 3522450]\n",
      "['GL429845', 'T', 2091046]\n",
      "['GL429855', 'G', 4401152]\n",
      "['GL429859', 'T', 300331]\n",
      "['GL429861', 'A', 3065399]\n",
      "['GL429861', 'A', 293372]\n",
      "['GL429867', 'G', 2575249]\n",
      "['GL429873', 'T', 2056629]\n",
      "['GL429879', 'G', 384336]\n",
      "['GL429885', 'C', 617822]\n",
      "['GL429885', 'T', 2043530]\n",
      "['GL429885', 'T', 3445677]\n",
      "['GL429888', 'A', 3508435]\n",
      "['GL429910', 'C', 2414078]\n",
      "['GL429927', 'A', 1241213]\n",
      "['GL429929', 'G', 2943933]\n",
      "['GL429930', 'T', 2586279]\n",
      "['GL429950', 'G', 2444879]\n",
      "['GL429955', 'A', 1484586]\n",
      "['GL429965', 'A', 1956978]\n",
      "['GL429962', 'A', 689293]\n",
      "['GL429998', 'C', 99324]\n",
      "['GL430008', 'C', 1396110]\n",
      "['GL430029', 'C', 1661413]\n",
      "['GL430018', 'T', 180278]\n",
      "['GL430036', 'G', 626424]\n",
      "['GL430121', 'T', 936584]\n",
      "['GL430101', 'C', 496908]\n",
      "['GL430156', 'T', 916661]\n",
      "['GL430166', 'C', 11932]\n",
      "['GL430158', 'T', 593841]\n",
      "['GL430239', 'T', 60326]\n",
      "['GL430239', 'G', 60325]\n",
      "['GL430271', 'T', 525210]\n",
      "['GL430281', 'C', 514067]\n",
      "['GL430482', 'C', 173352]\n",
      "['GL430565', 'A', 94959]\n",
      "['GL430686', 'T', 91034]\n",
      "['GL430746', 'T', 9663]\n",
      "['GL432768', 'C', 965]\n"
     ]
    }
   ],
   "source": [
    "read_data = []\n",
    "\n",
    "for read in SeqIO.parse(\"/local/home/sarahgw/references/Myotis_lucifugus.Myoluc2.0.dna_sm.toplevel.fa\", \"fasta\"):\n",
    "    if read.id in scaffolds:\n",
    "        indexes = scaffolds[read.id]\n",
    "        for idx in indexes:\n",
    "            data = str(read.seq[idx-1])\n",
    "            #data = str(read.seq[idx:idx+100])\n",
    "            read_data.append([read.id, data, idx])\n",
    "            print([read.id, data, idx])\n",
    "        "
   ]
  },
  {
   "cell_type": "code",
   "execution_count": 50,
   "metadata": {},
   "outputs": [
    {
     "name": "stdout",
     "output_type": "stream",
     "text": [
      "0\n",
      "62\n"
     ]
    }
   ],
   "source": [
    "count = 0\n",
    "for read in read_data:\n",
    "    #if read[1][0].islower():\n",
    "    if read[1].islower():\n",
    "        count += 1\n",
    "print(count)\n",
    "print(len(read_data))"
   ]
  },
  {
   "cell_type": "code",
   "execution_count": 37,
   "metadata": {},
   "outputs": [
    {
     "name": "stdout",
     "output_type": "stream",
     "text": [
      "('GL429767', 51542832)\n",
      "('GL429767', 4550108)\n",
      "('GL429767', 38456248)\n",
      "('GL429767', 51542790)\n",
      "('GL429770', 8292792)\n",
      "('GL429784', 1229639)\n",
      "('GL429795', 3907289)\n",
      "('GL429828', 1501267)\n",
      "('GL429835', 2966452)\n",
      "('GL429839', 183883)\n",
      "('GL429848', 2603829)\n",
      "('GL429871', 64000)\n",
      "('GL429896', 2002301)\n",
      "('GL429906', 1866953)\n",
      "('GL429938', 2500270)\n",
      "('GL429947', 1200485)\n",
      "('GL429969', 109273)\n",
      "('GL429982', 1303809)\n",
      "('GL430128', 735347)\n",
      "('GL430132', 776142)\n",
      "('GL430271', 326498)\n",
      "('GL430834', 44020)\n",
      "('GL430870', 25568)\n"
     ]
    }
   ],
   "source": [
    "o=open(\"/local/home/sarahgw/WGS/SNPS/All_mylu/snps/NJNY50_SNPs_repeat.txt\", \"w+\")\n",
    "for read in read_data:\n",
    "    if read[1][0].islower():\n",
    "        scaffold=read[0].replace('\"','')\n",
    "        snp=int(read[2])\n",
    "        out = (read[0], snp)\n",
    "        scafs= str(out)\n",
    "        o.write(scafs+'\\n')\n",
    "        print scafs"
   ]
  },
  {
   "cell_type": "code",
   "execution_count": 1,
   "metadata": {},
   "outputs": [
    {
     "name": "stdout",
     "output_type": "stream",
     "text": [
      "('GL429767', 51542832)\r\n",
      "('GL429767', 4550108)\r\n",
      "('GL429767', 38456248)\r\n",
      "('GL429767', 51542790)\r\n",
      "('GL429770', 8292792)\r\n",
      "('GL429784', 1229639)\r\n",
      "('GL429795', 3907289)\r\n",
      "('GL429828', 1501267)\r\n",
      "('GL429835', 2966452)\r\n",
      "('GL429839', 183883)\r\n"
     ]
    }
   ],
   "source": [
    "!head /local/home/sarahgw/WGS/SNPS/All_mylu/snps/NJNY50_SNPs_repeat.txt"
   ]
  },
  {
   "cell_type": "code",
   "execution_count": 10,
   "metadata": {},
   "outputs": [
    {
     "name": "stdout",
     "output_type": "stream",
     "text": [
      "('GL429767', 51542832, 51542532, 51543132)\n",
      "('GL429767', 4550108, 4549808, 4550408)\n",
      "('GL429767', 38456248, 38455948, 38456548)\n",
      "('GL429767', 51542790, 51542490, 51543090)\n",
      "('GL429770', 8292792, 8292492, 8293092)\n",
      "('GL429784', 1229639, 1229339, 1229939)\n",
      "('GL429795', 3907289, 3906989, 3907589)\n",
      "('GL429828', 1501267, 1500967, 1501567)\n",
      "('GL429835', 2966452, 2966152, 2966752)\n",
      "('GL429839', 183883, 183583, 184183)\n",
      "('GL429848', 2603829, 2603529, 2604129)\n",
      "('GL429871', 64000, 63700, 64300)\n",
      "('GL429896', 2002301, 2002001, 2002601)\n",
      "('GL429906', 1866953, 1866653, 1867253)\n",
      "('GL429938', 2500270, 2499970, 2500570)\n",
      "('GL429947', 1200485, 1200185, 1200785)\n",
      "('GL429969', 109273, 108973, 109573)\n",
      "('GL429982', 1303809, 1303509, 1304109)\n",
      "('GL430128', 735347, 735047, 735647)\n",
      "('GL430132', 776142, 775842, 776442)\n",
      "('GL430271', 326498, 326198, 326798)\n",
      "('GL430834', 44020, 43720, 44320)\n",
      "('GL430870', 25568, 25268, 25868)\n"
     ]
    }
   ],
   "source": [
    "for read in read_data:\n",
    "    if read[1][0].islower():\n",
    "        scaffold=read[0].replace('\"','')\n",
    "        snp=int(read[2])\n",
    "        out = (read[0], snp, snp-300,snp+300)\n",
    "        print out"
   ]
  },
  {
   "cell_type": "code",
   "execution_count": null,
   "metadata": {
    "collapsed": true
   },
   "outputs": [],
   "source": [
    "!cut -f1-2 /local/home/sarahgw/WGS/SNPS/All_mylu/snps/njnyeu50_sites.txt   |  awk '{print $1\":\"($2-300)\"-\"($2+300)}'| tr '\\n' ' '"
   ]
  },
  {
   "cell_type": "code",
   "execution_count": null,
   "metadata": {
    "collapsed": true
   },
   "outputs": [],
   "source": [
    "samtools index /local/home/sarahgw/WGS/Sequences/All_mylu/All_Mylu_bam/All_mylu_merged.bam"
   ]
  },
  {
   "cell_type": "code",
   "execution_count": null,
   "metadata": {
    "collapsed": true
   },
   "outputs": [],
   "source": [
    "#samtools view -b /local/home/sarahgw/WGS/Sequences/All_mylu/All_Mylu_bam/All_mylu_merged.bam -r GL429767:4479268-4479868 GL429767:4549808-4550408 GL429767:16839344-16839944 GL429767:33884519-33885119 GL429767:46533825-46534425 GL429767:52446464-52447064 GL429768:446685-447285 GL429768:3920842-3921442 GL429768:9041652-9042252 GL429768:26061351-26061951 GL429768:34577493-34578093 GL429769:15245542-15246142 GL429770:1923576-1924176 GL429770:8292492-8293092 GL429770:10345356-10345956 GL429770:22531756-22532356 GL429770:24724952-24725552 GL429770:29523921-29524521 GL429771:3817117-3817717 GL429772:8715795-8716395 GL429772:14993322-14993922 GL429772:18592789-18593389 GL429773:12797725-12798325 GL429773:13172713-13173313 GL429774:3987738-3988338 GL429774:5007272-5007872 GL429775:6728203-6728803 GL429775:17037669-17038269 GL429776:3271309-3271909 GL429776:7915189-7915789 GL429776:15974471-15975071 GL429777:10443245-10443845 GL429777:10443250-10443850 GL429777:16214146-16214746 GL429778:11072905-11073505 GL429778:11429527-11430127 GL429778:12414329-12414929 GL429779:1937439-1938039 GL429779:3414312-3414912 GL429779:15275065-15275665 GL429781:7594648-7595248 GL429781:8738093-8738693 GL429781:12179326-12179926 GL429781:12179328-12179928 GL429781:12179338-12179938 GL429783:14617397-14617997 GL429784:1229339-1229939 GL429784:5836717-5837317 GL429785:3215849-3216449 GL429786:344044-344644 GL429789:4442217-4442817 GL429789:4442256-4442856 GL429791:4231908-4232508 GL429791:6065039-6065639 GL429791:6065358-6065958 GL429791:10731843-10732443 GL429794:8869775-8870375 GL429794:8869776-8870376 GL429797:8857437-8858037 GL429798:384987-385587 GL429802:4091153-4091753 GL429802:5027233-5027833 GL429803:5802459-5803059 GL429806:3311279-3311879 GL429810:3169341-3169941 GL429811:1437179-1437779 GL429811:6652943-6653543 GL429812:7410522-7411122 GL429813:1302893-1303493 GL429813:3296117-3296717 GL429813:4558705-4559305 GL429814:2311437-2312037 GL429815:936411-937011 GL429815:936422-937022 GL429818:830586-831186 GL429818:1105172-1105772 GL429819:4882431-4883031 GL429820:683980-684580 GL429820:6686985-6687585 GL429821:5481295-5481895 GL429821:6218554-6219154 GL429821:6730039-6730639 GL429824:6571401-6572001 GL429825:3483890-3484490 GL429827:2841476-2842076 GL429827:2985431-2986031 GL429828:1184669-1185269 GL429828:1500967-1501567 GL429828:2330239-2330839 GL429828:3004386-3004986 GL429830:84604-85204 GL429830:3004546-3005146 GL429831:2610188-2610788 GL429833:472530-473130 GL429835:2966130-2966730 GL429835:2966133-2966733 GL429835:2966152-2966752 GL429835:2966292-2966892 GL429836:943092-943692 GL429836:1939401-1940001 GL429836:2577955-2578555 GL429836:5267044-5267644 GL429838:708595-709195 GL429839:829466-830066 GL429840:5001597-5002197 GL429841:2186886-2187486 GL429842:129368-129968 GL429842:4123941-4124541 GL429845:2090746-2091346 GL429845:2090774-2091374 GL429846:4516669-4517269 GL429847:3937705-3938305 GL429854:1100834-1101434 GL429855:2585840-2586440 GL429855:4400852-4401452 GL429859:300031-300631 GL429860:112424-113024 GL429860:2304685-2305285 GL429862:3142551-3143151 GL429868:1361634-1362234 GL429871:63700-64300 GL429872:2510649-2511249 GL429873:2056329-2056929 GL429873:2585275-2585875 GL429877:135909-136509 GL429879:384036-384636 GL429879:2577313-2577913 GL429880:304800-305400 GL429883:1676909-1677509 GL429883:2387122-2387722 GL429884:1762675-1763275 GL429884:1883504-1884104 GL429885:3445377-3445977 GL429888:100154-100754 GL429889:639433-640033 GL429890:270093-270693 GL429890:1790243-1790843 GL429891:266296-266896 GL429893:1767354-1767954 GL429894:3396535-3397135 GL429896:1338399-1338999 GL429900:1012008-1012608 GL429900:3319780-3320380 GL429901:2731079-2731679 GL429906:1866653-1867253 GL429909:2495863-2496463 GL429910:1132409-1133009 GL429916:2268536-2269136 GL429920:2255391-2255991 GL429921:787524-788124 GL429921:1965190-1965790 GL429927:507243-507843 GL429927:507244-507844 GL429929:2602094-2602694 GL429930:2495100-2495700 GL429930:2585979-2586579 GL429933:442672-443272 GL429938:2499970-2500570 GL429940:1631828-1632428 GL429942:2344778-2345378 GL429946:160670-161270 GL429950:1108250-1108850 GL429955:358993-359593 GL429955:1302398-1302998 GL429955:1478137-1478737 GL429955:1484286-1484886 GL429955:2107567-2108167 GL429956:1589704-1590304 GL429958:1185328-1185928 GL429960:210893-211493 GL429960:2144369-2144969 GL429961:677230-677830 GL429962:688993-689593 GL429962:1318791-1319391 GL429964:242275-242875 GL429964:1628637-1629237 GL429965:1294619-1295219 GL429965:1956678-1957278 GL429966:914505-915105 GL429968:2123597-2124197 GL429969:375069-375669 GL429977:2174455-2175055 GL429984:2098221-2098821 GL429987:78505-79105 GL429990:1916625-1917225 GL429996:1834660-1835260 GL429998:99024-99624 GL430004:183065-183665 GL430008:1395810-1396410 GL430012:1445576-1446176 GL430016:1091288-1091888 GL430018:179978-180578 GL430019:347245-347845 GL430026:1213403-1214003 GL430027:535774-536374 GL430032:318118-318718 GL430034:1478380-1478980 GL430036:626124-626724 GL430040:260314-260914 GL430042:401057-401657 GL430044:232993-233593 GL430045:1217420-1218020 GL430048:360599-361199 GL430048:873994-874594 GL430053:149163-149763 GL430055:424788-425388 GL430058:488672-489272 GL430074:994574-995174 GL430121:936284-936884 GL430128:735047-735647 GL430151:194628-195228 GL430155:309594-310194 GL430156:916361-916961 GL430158:593541-594141 GL430174:463636-464236 GL430187:529350-529950 GL430221:641434-642034 GL430234:695806-696406 GL430239:60025-60625 GL430239:60026-60626 GL430265:592702-593302 GL430281:513767-514367 GL430282:487760-488360 GL430285:514771-515371 GL430287:351710-352310 GL430319:176873-177473 GL430320:360802-361402 GL430321:292319-292919 GL430328:469941-470541 GL430382:291250-291850 GL430403:54529-55129 GL430420:180354-180954 GL430429:127606-128206 GL430469:116218-116818 GL430482:173052-173652 GL430565:94659-95259 GL430577:70583-71183 GL430746:9363-9963 GL430898:10806-11406 GL431215:29414-30014 GL432768:665-1265 AAPE02064211:5952-6552 AAPE02069524:2281-2881 AAPE02069524:2285-2885 AAPE02069524:2286-2886 GL429767:4379847-4380447 GL429767:22649383-22649983 GL429767:38455948-38456548 GL429767:51542490-51543090 GL429767:51542532-51543132 GL429767:59532782-59533382 GL429768:29961949-29962549 GL429769:16777537-16778137 GL429769:26665511-26666111 GL429770:8507007-8507607 GL429770:16029084-16029684 GL429770:16029098-16029698 GL429772:4817046-4817646 GL429772:12062966-12063566 GL429772:17021875-17022475 GL429772:17021882-17022482 GL429772:17021892-17022492 GL429773:116772-117372 GL429773:284768-285368 GL429773:1036637-1037237 GL429773:7204587-7205187 GL429774:5086619-5087219 GL429775:1710476-1711076 GL429775:5556009-5556609 GL429775:10613987-10614587 GL429775:17830735-17831335 GL429776:3462655-3463255 GL429776:13622792-13623392 GL429776:16056773-16057373 GL429778:3560700-3561300 GL429778:6871768-6872368 GL429778:13606897-13607497 GL429779:2091418-2092018 GL429779:2407488-2408088 GL429779:10152144-10152744 GL429782:13104338-13104938 GL429782:13104343-13104943 GL429782:13679850-13680450 GL429783:665107-665707 GL429783:2691560-2692160 GL429783:2782429-2783029 GL429783:13929195-13929795 GL429784:440583-441183 GL429784:4614537-4615137 GL429784:10091192-10091792 GL429785:5038507-5039107 GL429785:5735592-5736192 GL429785:6643107-6643707 GL429785:7041667-7042267 GL429787:11158263-11158863 GL429789:12124990-12125590 GL429789:12124992-12125592 GL429789:12124993-12125593 GL429790:1037818-1038418 GL429790:7965198-7965798 GL429790:10304028-10304628 GL429792:752845-753445 GL429793:8414502-8415102 GL429793:8414508-8415108 GL429794:4072396-4072996 GL429794:5707570-5708170 GL429794:7279602-7280202 GL429794:8583957-8584557 GL429795:3906989-3907589 GL429797:6341030-6341630 GL429798:6594618-6595218 GL429798:9304648-9305248 GL429800:5353206-5353806 GL429801:6985910-6986510 GL429801:6985920-6986520 GL429803:8026244-8026844 GL429806:2488686-2489286 GL429808:770277-770877 GL429809:6286974-6287574 GL429809:7389734-7390334 GL429810:2353609-2354209 GL429811:2139684-2140284 GL429815:1149355-1149955 GL429816:3229347-3229947 GL429819:365054-365654 GL429824:3462714-3463314 GL429824:4399436-4400036 GL429826:127215-127815 GL429829:5660877-5661477 GL429831:1081416-1082016 GL429831:5178277-5178877 GL429836:943173-943773 GL429836:1894528-1895128 GL429836:2323268-2323868 GL429839:183583-184183 GL429839:2333752-2334352 GL429841:612232-612832 GL429841:3522150-3522750 GL429845:2824589-2825189 GL429845:4476103-4476703 GL429846:940795-941395 GL429846:1252876-1253476 GL429846:2542039-2542639 GL429846:4607696-4608296 GL429848:2603529-2604129 GL429849:815477-816077 GL429850:1182854-1183454 GL429850:2489681-2490281 GL429851:842283-842883 GL429852:462733-463333 GL429852:462741-463341 GL429852:462802-463402 GL429854:64393-64993 GL429857:134312-134912 GL429860:863225-863825 GL429860:3647355-3647955 GL429861:293072-293672 GL429861:3065099-3065699 GL429861:4317217-4317817 GL429861:4317223-4317823 GL429862:268802-269402 GL429863:2978300-2978900 GL429863:4280244-4280844 GL429865:2201021-2201621 GL429867:2184951-2185551 GL429867:2574949-2575549 GL429868:2981897-2982497 GL429870:2909520-2910120 GL429871:2083045-2083645 GL429874:3960541-3961141 GL429880:42524-43124 GL429880:1266267-1266867 GL429881:677125-677725 GL429881:1997805-1998405 GL429882:2695846-2696446 GL429883:509119-509719 GL429884:1762764-1763364 GL429884:1762785-1763385 GL429884:1803449-1804049 GL429885:617522-618122 GL429885:617526-618126 GL429885:2043230-2043830 GL429886:1745769-1746369 GL429887:2687102-2687702 GL429887:2687123-2687723 GL429888:3508135-3508735 GL429896:2002001-2002601 GL429896:2866533-2867133 GL429898:676397-676997 GL429898:676414-677014 GL429899:351544-352144 GL429904:1874105-1874705 GL429905:930988-931588 GL429905:1245900-1246500 GL429910:2413778-2414378 GL429910:2565017-2565617 GL429917:581316-581916 GL429918:2724708-2725308 GL429925:661983-662583 GL429925:2311366-2311966 GL429927:1240913-1241513 GL429928:2425225-2425825 GL429929:2386002-2386602 GL429929:2943633-2944233 GL429932:112161-112761 GL429939:2758936-2759536 GL429944:757168-757768 GL429946:1038779-1039379 GL429947:1200185-1200785 GL429949:1338890-1339490 GL429949:1953162-1953762 GL429950:2444579-2445179 GL429952:330669-331269 GL429953:2190150-2190750 GL429959:771290-771890 GL429964:1805499-1806099 GL429969:108973-109573 GL429979:2240502-2241102 GL429982:1303509-1304109 GL429995:282544-283144 GL429995:731342-731942 GL429995:846763-847363 GL430004:1824263-1824863 GL430007:1175078-1175678 GL430008:1354902-1355502 GL430015:641111-641711 GL430022:533572-534172 GL430029:1661113-1661713 GL430054:1392788-1393388 GL430063:1016282-1016882 GL430071:327435-328035 GL430088:571173-571773 GL430101:496608-497208 GL430124:395553-396153 GL430132:775842-776442 GL430133:495971-496571 GL430133:757020-757620 GL430144:296011-296611 GL430144:350723-351323 GL430145:65372-65972 GL430162:78373-78973 GL430164:554639-555239 GL430166:11632-12232 GL430199:554097-554697 GL430213:519259-519859 GL430232:111038-111638 GL430234:78289-78889 GL430271:326198-326798 GL430271:524910-525510 GL430279:606865-607465 GL430338:350247-350847 GL430384:251940-252540 GL430403:269522-270122 GL430441:181204-181804 GL430483:252824-253424 GL430551:168312-168912 GL430678:36391-36991 GL430686:90734-91334 GL430696:55139-55739 GL430834:43720-44320 GL430870:25268-25868 GL431096:35116-35716 > /local/home/sarahgw/WGS/SNPS/All_mylu/snps/njnyeu50_600.bam"
   ]
  },
  {
   "cell_type": "code",
   "execution_count": null,
   "metadata": {
    "collapsed": true
   },
   "outputs": [],
   "source": [
    "samtools view -b /local/home/sarahgw/WGS/Sequences/All_mylu/All_Mylu_bam/All_mylu_merged.bam GL429767:51542532-51543132  > /local/home/sarahgw/WGS/SNPS/All_mylu/snps/SNP_bam_files/njnyeu50_600_51542832.bam\n",
    "samtools index /local/home/sarahgw/WGS/SNPS/All_mylu/snps/SNP_bam_files/njnyeu50_600_51542832.bam"
   ]
  },
  {
   "cell_type": "code",
   "execution_count": null,
   "metadata": {
    "collapsed": true
   },
   "outputs": [],
   "source": [
    "samtools view -b /local/home/sarahgw/WGS/Sequences/All_mylu/All_Mylu_bam/All_mylu_merged.bam GL429767:4549808-4550408  > /local/home/sarahgw/WGS/SNPS/All_mylu/snps/SNP_bam_files/njnyeu50_600_4550108.bam\n",
    "samtools index /local/home/sarahgw/WGS/SNPS/All_mylu/snps/SNP_bam_files/njnyeu50_600_4550108.bam"
   ]
  },
  {
   "cell_type": "code",
   "execution_count": null,
   "metadata": {
    "collapsed": true
   },
   "outputs": [],
   "source": [
    "samtools view -b /local/home/sarahgw/WGS/Sequences/All_mylu/All_Mylu_bam/All_mylu_merged.bam GL429767:38455948-38456548  > /local/home/sarahgw/WGS/SNPS/All_mylu/snps/SNP_bam_files/njnyeu50_600_38456248.bam\n",
    "samtools index /local/home/sarahgw/WGS/SNPS/All_mylu/snps/SNP_bam_files/njnyeu50_600_38456248.bam    "
   ]
  },
  {
   "cell_type": "code",
   "execution_count": null,
   "metadata": {
    "collapsed": true
   },
   "outputs": [],
   "source": [
    "samtools view -b /local/home/sarahgw/WGS/Sequences/All_mylu/All_Mylu_bam/All_mylu_merged.bam GL429767:51542490-51543090  > /local/home/sarahgw/WGS/SNPS/All_mylu/snps/SNP_bam_files/njnyeu50_600_51542790.bam\n",
    "samtools index /local/home/sarahgw/WGS/SNPS/All_mylu/snps/SNP_bam_files/njnyeu50_600_51542790.bam    "
   ]
  },
  {
   "cell_type": "code",
   "execution_count": null,
   "metadata": {
    "collapsed": true
   },
   "outputs": [],
   "source": [
    "samtools view -b /local/home/sarahgw/WGS/Sequences/All_mylu/All_Mylu_bam/All_mylu_merged.bam GL429770:8292492-8293092  > /local/home/sarahgw/WGS/SNPS/All_mylu/snps/SNP_bam_files/njnyeu50_600_8292792.bam\n",
    "samtools index /local/home/sarahgw/WGS/SNPS/All_mylu/snps/SNP_bam_files/njnyeu50_600_8292792.bam    "
   ]
  },
  {
   "cell_type": "code",
   "execution_count": null,
   "metadata": {
    "collapsed": true
   },
   "outputs": [],
   "source": [
    "samtools view -b /local/home/sarahgw/WGS/Sequences/All_mylu/All_Mylu_bam/All_mylu_merged.bam GL429784:1229339-1229939  > /local/home/sarahgw/WGS/SNPS/All_mylu/snps/SNP_bam_files/njnyeu50_600_1229639.bam\n",
    "samtools index /local/home/sarahgw/WGS/SNPS/All_mylu/snps/SNP_bam_files/njnyeu50_600_1229639.bam    "
   ]
  },
  {
   "cell_type": "code",
   "execution_count": null,
   "metadata": {
    "collapsed": true
   },
   "outputs": [],
   "source": [
    "samtools view -b /local/home/sarahgw/WGS/Sequences/All_mylu/All_Mylu_bam/All_mylu_merged.bam GL429795:3906989-3907589  > /local/home/sarahgw/WGS/SNPS/All_mylu/snps/SNP_bam_files/njnyeu50_600_3907589.bam\n",
    "samtools index /local/home/sarahgw/WGS/SNPS/All_mylu/snps/SNP_bam_files/njnyeu50_600_3907589.bam    "
   ]
  },
  {
   "cell_type": "code",
   "execution_count": null,
   "metadata": {
    "collapsed": true
   },
   "outputs": [],
   "source": [
    "samtools view -b /local/home/sarahgw/WGS/Sequences/All_mylu/All_Mylu_bam/All_mylu_merged.bam GL429828:1500967-1501567 > /local/home/sarahgw/WGS/SNPS/All_mylu/snps/SNP_bam_files/njnyeu50_600_1501267.bam\n",
    "samtools index /local/home/sarahgw/WGS/SNPS/All_mylu/snps/SNP_bam_files/njnyeu50_600_1501267.bam  "
   ]
  },
  {
   "cell_type": "code",
   "execution_count": null,
   "metadata": {
    "collapsed": true
   },
   "outputs": [],
   "source": [
    "samtools view -b /local/home/sarahgw/WGS/Sequences/All_mylu/All_Mylu_bam/All_mylu_merged.bam GL429835:2966152-2966752 > /local/home/sarahgw/WGS/SNPS/All_mylu/snps/SNP_bam_files/njnyeu50_600_2966452.bam\n",
    "samtools index /local/home/sarahgw/WGS/SNPS/All_mylu/snps/SNP_bam_files/njnyeu50_600_2966452.bam "
   ]
  },
  {
   "cell_type": "code",
   "execution_count": null,
   "metadata": {
    "collapsed": true
   },
   "outputs": [],
   "source": [
    "samtools view -b /local/home/sarahgw/WGS/Sequences/All_mylu/All_Mylu_bam/All_mylu_merged.bam GL429839:183583-184183 > /local/home/sarahgw/WGS/SNPS/All_mylu/snps/SNP_bam_files/njnyeu50_600_183883.bam\n",
    "samtools index /local/home/sarahgw/WGS/SNPS/All_mylu/snps/SNP_bam_files/njnyeu50_600_183883.bam "
   ]
  },
  {
   "cell_type": "code",
   "execution_count": null,
   "metadata": {
    "collapsed": true
   },
   "outputs": [],
   "source": [
    "samtools view -b /local/home/sarahgw/WGS/Sequences/All_mylu/All_Mylu_bam/All_mylu_merged.bam GL429871:63700-64300 > /local/home/sarahgw/WGS/SNPS/All_mylu/snps/SNP_bam_files/njnyeu50_600_64000.bam\n",
    "samtools index /local/home/sarahgw/WGS/SNPS/All_mylu/snps/SNP_bam_files/njnyeu50_600_64000.bam "
   ]
  },
  {
   "cell_type": "code",
   "execution_count": null,
   "metadata": {
    "collapsed": true
   },
   "outputs": [],
   "source": [
    "samtools view -b /local/home/sarahgw/WGS/Sequences/All_mylu/All_Mylu_bam/All_mylu_merged.bam GL429906:1866653-1867253 > /local/home/sarahgw/WGS/SNPS/All_mylu/snps/SNP_bam_files/njnyeu50_600_1866953.bam\n",
    "samtools index /local/home/sarahgw/WGS/SNPS/All_mylu/snps/SNP_bam_files/njnyeu50_600_1866953.bam "
   ]
  },
  {
   "cell_type": "code",
   "execution_count": null,
   "metadata": {
    "collapsed": true
   },
   "outputs": [],
   "source": [
    "samtools view -b /local/home/sarahgw/WGS/Sequences/All_mylu/All_Mylu_bam/All_mylu_merged.bam GL429906:2499970-2500570 > /local/home/sarahgw/WGS/SNPS/All_mylu/snps/SNP_bam_files/njnyeu50_600_2500270.bam\n",
    "samtools index /local/home/sarahgw/WGS/SNPS/All_mylu/snps/SNP_bam_files/njnyeu50_600_2500270.bam "
   ]
  },
  {
   "cell_type": "code",
   "execution_count": null,
   "metadata": {
    "collapsed": true
   },
   "outputs": [],
   "source": [
    "samtools view -b /local/home/sarahgw/WGS/Sequences/All_mylu/All_Mylu_bam/All_mylu_merged.bam GL429947:1200185-1200785 > /local/home/sarahgw/WGS/SNPS/All_mylu/snps/SNP_bam_files/njnyeu50_600_1200485.bam\n",
    "samtools index /local/home/sarahgw/WGS/SNPS/All_mylu/snps/SNP_bam_files/njnyeu50_600_1200485.bam "
   ]
  },
  {
   "cell_type": "code",
   "execution_count": null,
   "metadata": {
    "collapsed": true
   },
   "outputs": [],
   "source": [
    "samtools view -b /local/home/sarahgw/WGS/Sequences/All_mylu/All_Mylu_bam/All_mylu_merged.bam GL429969:108973-109573 > /local/home/sarahgw/WGS/SNPS/All_mylu/snps/SNP_bam_files/njnyeu50_600_109273.bam\n",
    "samtools index /local/home/sarahgw/WGS/SNPS/All_mylu/snps/SNP_bam_files/njnyeu50_600_109273.bam "
   ]
  },
  {
   "cell_type": "code",
   "execution_count": null,
   "metadata": {
    "collapsed": true
   },
   "outputs": [],
   "source": [
    "samtools view -b /local/home/sarahgw/WGS/Sequences/All_mylu/All_Mylu_bam/All_mylu_merged.bam GL429982:1303509-1304109 > /local/home/sarahgw/WGS/SNPS/All_mylu/snps/SNP_bam_files/njnyeu50_600_1303809.bam\n",
    "samtools index /local/home/sarahgw/WGS/SNPS/All_mylu/snps/SNP_bam_files/njnyeu50_600_1303809.bam "
   ]
  },
  {
   "cell_type": "code",
   "execution_count": null,
   "metadata": {
    "collapsed": true
   },
   "outputs": [],
   "source": [
    "samtools view -b /local/home/sarahgw/WGS/Sequences/All_mylu/All_Mylu_bam/All_mylu_merged.bam GL430128:735047-735647 > /local/home/sarahgw/WGS/SNPS/All_mylu/snps/SNP_bam_files/njnyeu50_600_735347.bam\n",
    "samtools index /local/home/sarahgw/WGS/SNPS/All_mylu/snps/SNP_bam_files/njnyeu50_600_735347.bam "
   ]
  },
  {
   "cell_type": "code",
   "execution_count": null,
   "metadata": {
    "collapsed": true
   },
   "outputs": [],
   "source": [
    "samtools view -b /local/home/sarahgw/WGS/Sequences/All_mylu/All_Mylu_bam/All_mylu_merged.bam GL430132:775842-776442 > /local/home/sarahgw/WGS/SNPS/All_mylu/snps/SNP_bam_files/njnyeu50_600_776142.bam\n",
    "samtools index /local/home/sarahgw/WGS/SNPS/All_mylu/snps/SNP_bam_files/njnyeu50_600_776142.bam "
   ]
  },
  {
   "cell_type": "code",
   "execution_count": null,
   "metadata": {
    "collapsed": true
   },
   "outputs": [],
   "source": [
    "samtools view -b /local/home/sarahgw/WGS/Sequences/All_mylu/All_Mylu_bam/All_mylu_merged.bam GL430271:326198-326798 > /local/home/sarahgw/WGS/SNPS/All_mylu/snps/SNP_bam_files/njnyeu50_600_326498.bam\n",
    "samtools index /local/home/sarahgw/WGS/SNPS/All_mylu/snps/SNP_bam_files/njnyeu50_600_326498.bam "
   ]
  },
  {
   "cell_type": "code",
   "execution_count": null,
   "metadata": {
    "collapsed": true
   },
   "outputs": [],
   "source": [
    "samtools view -b /local/home/sarahgw/WGS/Sequences/All_mylu/All_Mylu_bam/All_mylu_merged.bam GL430834:43720-44320 > /local/home/sarahgw/WGS/SNPS/All_mylu/snps/SNP_bam_files/njnyeu50_600_44020.bam\n",
    "samtools index /local/home/sarahgw/WGS/SNPS/All_mylu/snps/SNP_bam_files/njnyeu50_600_44020.bam "
   ]
  },
  {
   "cell_type": "code",
   "execution_count": null,
   "metadata": {
    "collapsed": true
   },
   "outputs": [],
   "source": [
    "samtools view -b /local/home/sarahgw/WGS/Sequences/All_mylu/All_Mylu_bam/All_mylu_merged.bam GL430870:25268-25868 > /local/home/sarahgw/WGS/SNPS/All_mylu/snps/SNP_bam_files/njnyeu50_600_25568.bam\n",
    "samtools index /local/home/sarahgw/WGS/SNPS/All_mylu/snps/SNP_bam_files/njnyeu50_600_25568.bam "
   ]
  },
  {
   "cell_type": "code",
   "execution_count": null,
   "metadata": {
    "collapsed": true
   },
   "outputs": [],
   "source": []
  },
  {
   "cell_type": "code",
   "execution_count": null,
   "metadata": {
    "collapsed": true
   },
   "outputs": [],
   "source": []
  },
  {
   "cell_type": "code",
   "execution_count": 6,
   "metadata": {
    "collapsed": true
   },
   "outputs": [],
   "source": [
    "!cut -f1-2 /local/home/sarahgw/WGS/SNPS/All_mylu/snps/njnyeu50_sites.txt   |  awk -v OFS='\\t' '{print $1, ($2-300), ($2+300)}'> /local/home/sarahgw/WGS/SNPS/All_mylu/snps/njnyeu50_600.bed "
   ]
  },
  {
   "cell_type": "code",
   "execution_count": 10,
   "metadata": {
    "collapsed": true
   },
   "outputs": [],
   "source": [
    "!tail -n+2 /local/home/sarahgw/WGS/SNPS/All_mylu/snps/njnyeu50_600.bed > /local/home/sarahgw/WGS/SNPS/All_mylu/snps/njnyeu50_600h.bed"
   ]
  },
  {
   "cell_type": "code",
   "execution_count": 7,
   "metadata": {},
   "outputs": [
    {
     "name": "stdout",
     "output_type": "stream",
     "text": [
      "chrom\tchromStart\tchromEnd\n"
     ]
    }
   ],
   "source": [
    "print \"chrom\\tchromStart\\tchromEnd\""
   ]
  },
  {
   "cell_type": "code",
   "execution_count": 11,
   "metadata": {
    "collapsed": true
   },
   "outputs": [],
   "source": [
    "!echo -e \"chrom\\tchromStart\\tchromEnd\" | cat - /local/home/sarahgw/WGS/SNPS/All_mylu/snps/njnyeu50_600h.bed > /local/home/sarahgw/WGS/SNPS/All_mylu/snps/njnyeu50_600.bed"
   ]
  },
  {
   "cell_type": "code",
   "execution_count": 12,
   "metadata": {},
   "outputs": [
    {
     "name": "stdout",
     "output_type": "stream",
     "text": [
      "chrom\tchromStart\tchromEnd\r\n",
      "GL429767\t4479268\t4479868\r\n",
      "GL429767\t4549808\t4550408\r\n",
      "GL429767\t16839344\t16839944\r\n",
      "GL429767\t33884519\t33885119\r\n",
      "GL429767\t46533825\t46534425\r\n",
      "GL429767\t52446464\t52447064\r\n",
      "GL429768\t446685\t447285\r\n",
      "GL429768\t3920842\t3921442\r\n",
      "GL429768\t9041652\t9042252\r\n"
     ]
    }
   ],
   "source": [
    "!head /local/home/sarahgw/WGS/SNPS/All_mylu/snps/njnyeu50_600.bed "
   ]
  },
  {
   "cell_type": "code",
   "execution_count": null,
   "metadata": {
    "collapsed": true
   },
   "outputs": [],
   "source": []
  },
  {
   "cell_type": "code",
   "execution_count": 3,
   "metadata": {},
   "outputs": [
    {
     "name": "stdout",
     "output_type": "stream",
     "text": [
      "GL429767\t4479268\t4479868\r\n",
      "GL429767\t4549808\t4550408\r\n",
      "GL429767\t16839344\t16839944\r\n",
      "GL429767\t33884519\t33885119\r\n",
      "GL429767\t46533825\t46534425\r\n",
      "GL429767\t52446464\t52447064\r\n",
      "GL429768\t446685\t447285\r\n",
      "GL429768\t3920842\t3921442\r\n",
      "GL429768\t9041652\t9042252\r\n",
      "GL429768\t26061351\t26061951\r\n",
      "GL429768\t34577493\t34578093\r\n",
      "GL429769\t15245542\t15246142\r\n",
      "GL429770\t1923576\t1924176\r\n",
      "GL429770\t8292492\t8293092\r\n",
      "GL429770\t10345356\t10345956\r\n",
      "GL429770\t22531756\t22532356\r\n",
      "GL429770\t24724952\t24725552\r\n",
      "GL429770\t29523921\t29524521\r\n",
      "GL429771\t3817117\t3817717\r\n",
      "GL429772\t8715795\t8716395\r\n",
      "GL429772\t14993322\t14993922\r\n",
      "GL429772\t18592789\t18593389\r\n",
      "GL429773\t12797725\t12798325\r\n",
      "GL429773\t13172713\t13173313\r\n",
      "GL429774\t3987738\t3988338\r\n",
      "GL429774\t5007272\t5007872\r\n",
      "GL429775\t6728203\t6728803\r\n",
      "GL429775\t17037669\t17038269\r\n",
      "GL429776\t3271309\t3271909\r\n",
      "GL429776\t7915189\t7915789\r\n",
      "GL429776\t15974471\t15975071\r\n",
      "GL429777\t10443245\t10443845\r\n",
      "GL429777\t10443250\t10443850\r\n",
      "GL429777\t16214146\t16214746\r\n",
      "GL429778\t11072905\t11073505\r\n",
      "GL429778\t11429527\t11430127\r\n",
      "GL429778\t12414329\t12414929\r\n",
      "GL429779\t1937439\t1938039\r\n",
      "GL429779\t3414312\t3414912\r\n",
      "GL429779\t15275065\t15275665\r\n",
      "GL429781\t7594648\t7595248\r\n",
      "GL429781\t8738093\t8738693\r\n",
      "GL429781\t12179326\t12179926\r\n",
      "GL429781\t12179328\t12179928\r\n",
      "GL429781\t12179338\t12179938\r\n",
      "GL429783\t14617397\t14617997\r\n",
      "GL429784\t1229339\t1229939\r\n",
      "GL429784\t5836717\t5837317\r\n",
      "GL429785\t3215849\t3216449\r\n",
      "GL429786\t344044\t344644\r\n",
      "GL429789\t4442217\t4442817\r\n",
      "GL429789\t4442256\t4442856\r\n",
      "GL429791\t4231908\t4232508\r\n",
      "GL429791\t6065039\t6065639\r\n",
      "GL429791\t6065358\t6065958\r\n",
      "GL429791\t10731843\t10732443\r\n",
      "GL429794\t8869775\t8870375\r\n",
      "GL429794\t8869776\t8870376\r\n",
      "GL429797\t8857437\t8858037\r\n",
      "GL429798\t384987\t385587\r\n",
      "GL429802\t4091153\t4091753\r\n",
      "GL429802\t5027233\t5027833\r\n",
      "GL429803\t5802459\t5803059\r\n",
      "GL429806\t3311279\t3311879\r\n",
      "GL429810\t3169341\t3169941\r\n",
      "GL429811\t1437179\t1437779\r\n",
      "GL429811\t6652943\t6653543\r\n",
      "GL429812\t7410522\t7411122\r\n",
      "GL429813\t1302893\t1303493\r\n",
      "GL429813\t3296117\t3296717\r\n",
      "GL429813\t4558705\t4559305\r\n",
      "GL429814\t2311437\t2312037\r\n",
      "GL429815\t936411\t937011\r\n",
      "GL429815\t936422\t937022\r\n",
      "GL429818\t830586\t831186\r\n",
      "GL429818\t1105172\t1105772\r\n",
      "GL429819\t4882431\t4883031\r\n",
      "GL429820\t683980\t684580\r\n",
      "GL429820\t6686985\t6687585\r\n",
      "GL429821\t5481295\t5481895\r\n",
      "GL429821\t6218554\t6219154\r\n",
      "GL429821\t6730039\t6730639\r\n",
      "GL429824\t6571401\t6572001\r\n",
      "GL429825\t3483890\t3484490\r\n",
      "GL429827\t2841476\t2842076\r\n",
      "GL429827\t2985431\t2986031\r\n",
      "GL429828\t1184669\t1185269\r\n",
      "GL429828\t1500967\t1501567\r\n",
      "GL429828\t2330239\t2330839\r\n",
      "GL429828\t3004386\t3004986\r\n",
      "GL429830\t84604\t85204\r\n",
      "GL429830\t3004546\t3005146\r\n",
      "GL429831\t2610188\t2610788\r\n",
      "GL429833\t472530\t473130\r\n",
      "GL429835\t2966130\t2966730\r\n",
      "GL429835\t2966133\t2966733\r\n",
      "GL429835\t2966152\t2966752\r\n",
      "GL429835\t2966292\t2966892\r\n",
      "GL429836\t943092\t943692\r\n",
      "GL429836\t1939401\t1940001\r\n",
      "GL429836\t2577955\t2578555\r\n",
      "GL429836\t5267044\t5267644\r\n",
      "GL429838\t708595\t709195\r\n",
      "GL429839\t829466\t830066\r\n",
      "GL429840\t5001597\t5002197\r\n",
      "GL429841\t2186886\t2187486\r\n",
      "GL429842\t129368\t129968\r\n",
      "GL429842\t4123941\t4124541\r\n",
      "GL429845\t2090746\t2091346\r\n",
      "GL429845\t2090774\t2091374\r\n",
      "GL429846\t4516669\t4517269\r\n",
      "GL429847\t3937705\t3938305\r\n",
      "GL429854\t1100834\t1101434\r\n",
      "GL429855\t2585840\t2586440\r\n",
      "GL429855\t4400852\t4401452\r\n",
      "GL429859\t300031\t300631\r\n",
      "GL429860\t112424\t113024\r\n",
      "GL429860\t2304685\t2305285\r\n",
      "GL429862\t3142551\t3143151\r\n",
      "GL429868\t1361634\t1362234\r\n",
      "GL429871\t63700\t64300\r\n",
      "GL429872\t2510649\t2511249\r\n",
      "GL429873\t2056329\t2056929\r\n",
      "GL429873\t2585275\t2585875\r\n",
      "GL429877\t135909\t136509\r\n",
      "GL429879\t384036\t384636\r\n",
      "GL429879\t2577313\t2577913\r\n",
      "GL429880\t304800\t305400\r\n",
      "GL429883\t1676909\t1677509\r\n",
      "GL429883\t2387122\t2387722\r\n",
      "GL429884\t1762675\t1763275\r\n",
      "GL429884\t1883504\t1884104\r\n",
      "GL429885\t3445377\t3445977\r\n",
      "GL429888\t100154\t100754\r\n",
      "GL429889\t639433\t640033\r\n",
      "GL429890\t270093\t270693\r\n",
      "GL429890\t1790243\t1790843\r\n",
      "GL429891\t266296\t266896\r\n",
      "GL429893\t1767354\t1767954\r\n",
      "GL429894\t3396535\t3397135\r\n",
      "GL429896\t1338399\t1338999\r\n",
      "GL429900\t1012008\t1012608\r\n",
      "GL429900\t3319780\t3320380\r\n",
      "GL429901\t2731079\t2731679\r\n",
      "GL429906\t1866653\t1867253\r\n",
      "GL429909\t2495863\t2496463\r\n",
      "GL429910\t1132409\t1133009\r\n",
      "GL429916\t2268536\t2269136\r\n",
      "GL429920\t2255391\t2255991\r\n",
      "GL429921\t787524\t788124\r\n",
      "GL429921\t1965190\t1965790\r\n",
      "GL429927\t507243\t507843\r\n",
      "GL429927\t507244\t507844\r\n",
      "GL429929\t2602094\t2602694\r\n",
      "GL429930\t2495100\t2495700\r\n",
      "GL429930\t2585979\t2586579\r\n",
      "GL429933\t442672\t443272\r\n",
      "GL429938\t2499970\t2500570\r\n",
      "GL429940\t1631828\t1632428\r\n",
      "GL429942\t2344778\t2345378\r\n",
      "GL429946\t160670\t161270\r\n",
      "GL429950\t1108250\t1108850\r\n",
      "GL429955\t358993\t359593\r\n",
      "GL429955\t1302398\t1302998\r\n",
      "GL429955\t1478137\t1478737\r\n",
      "GL429955\t1484286\t1484886\r\n",
      "GL429955\t2107567\t2108167\r\n",
      "GL429956\t1589704\t1590304\r\n",
      "GL429958\t1185328\t1185928\r\n",
      "GL429960\t210893\t211493\r\n",
      "GL429960\t2144369\t2144969\r\n",
      "GL429961\t677230\t677830\r\n",
      "GL429962\t688993\t689593\r\n",
      "GL429962\t1318791\t1319391\r\n",
      "GL429964\t242275\t242875\r\n",
      "GL429964\t1628637\t1629237\r\n",
      "GL429965\t1294619\t1295219\r\n",
      "GL429965\t1956678\t1957278\r\n",
      "GL429966\t914505\t915105\r\n",
      "GL429968\t2123597\t2124197\r\n",
      "GL429969\t375069\t375669\r\n",
      "GL429977\t2174455\t2175055\r\n",
      "GL429984\t2098221\t2098821\r\n",
      "GL429987\t78505\t79105\r\n",
      "GL429990\t1916625\t1917225\r\n",
      "GL429996\t1834660\t1835260\r\n",
      "GL429998\t99024\t99624\r\n",
      "GL430004\t183065\t183665\r\n",
      "GL430008\t1395810\t1396410\r\n",
      "GL430012\t1445576\t1446176\r\n",
      "GL430016\t1091288\t1091888\r\n",
      "GL430018\t179978\t180578\r\n",
      "GL430019\t347245\t347845\r\n",
      "GL430026\t1213403\t1214003\r\n",
      "GL430027\t535774\t536374\r\n",
      "GL430032\t318118\t318718\r\n",
      "GL430034\t1478380\t1478980\r\n",
      "GL430036\t626124\t626724\r\n",
      "GL430040\t260314\t260914\r\n",
      "GL430042\t401057\t401657\r\n",
      "GL430044\t232993\t233593\r\n",
      "GL430045\t1217420\t1218020\r\n",
      "GL430048\t360599\t361199\r\n",
      "GL430048\t873994\t874594\r\n",
      "GL430053\t149163\t149763\r\n",
      "GL430055\t424788\t425388\r\n",
      "GL430058\t488672\t489272\r\n",
      "GL430074\t994574\t995174\r\n",
      "GL430121\t936284\t936884\r\n",
      "GL430128\t735047\t735647\r\n",
      "GL430151\t194628\t195228\r\n",
      "GL430155\t309594\t310194\r\n",
      "GL430156\t916361\t916961\r\n",
      "GL430158\t593541\t594141\r\n",
      "GL430174\t463636\t464236\r\n",
      "GL430187\t529350\t529950\r\n",
      "GL430221\t641434\t642034\r\n",
      "GL430234\t695806\t696406\r\n",
      "GL430239\t60025\t60625\r\n",
      "GL430239\t60026\t60626\r\n",
      "GL430265\t592702\t593302\r\n",
      "GL430281\t513767\t514367\r\n",
      "GL430282\t487760\t488360\r\n",
      "GL430285\t514771\t515371\r\n",
      "GL430287\t351710\t352310\r\n",
      "GL430319\t176873\t177473\r\n",
      "GL430320\t360802\t361402\r\n",
      "GL430321\t292319\t292919\r\n",
      "GL430328\t469941\t470541\r\n",
      "GL430382\t291250\t291850\r\n",
      "GL430403\t54529\t55129\r\n",
      "GL430420\t180354\t180954\r\n",
      "GL430429\t127606\t128206\r\n",
      "GL430469\t116218\t116818\r\n",
      "GL430482\t173052\t173652\r\n",
      "GL430565\t94659\t95259\r\n",
      "GL430577\t70583\t71183\r\n",
      "GL430746\t9363\t9963\r\n",
      "GL430898\t10806\t11406\r\n",
      "GL431215\t29414\t30014\r\n",
      "GL432768\t665\t1265\r\n",
      "AAPE02064211\t5952\t6552\r\n",
      "AAPE02069524\t2281\t2881\r\n",
      "AAPE02069524\t2285\t2885\r\n",
      "AAPE02069524\t2286\t2886\r\n",
      "GL429767\t4379847\t4380447\r\n",
      "GL429767\t22649383\t22649983\r\n",
      "GL429767\t38455948\t38456548\r\n",
      "GL429767\t51542490\t51543090\r\n",
      "GL429767\t51542532\t51543132\r\n",
      "GL429767\t59532782\t59533382\r\n",
      "GL429768\t29961949\t29962549\r\n",
      "GL429769\t16777537\t16778137\r\n",
      "GL429769\t26665511\t26666111\r\n",
      "GL429770\t8507007\t8507607\r\n",
      "GL429770\t16029084\t16029684\r\n",
      "GL429770\t16029098\t16029698\r\n",
      "GL429772\t4817046\t4817646\r\n",
      "GL429772\t12062966\t12063566\r\n",
      "GL429772\t17021875\t17022475\r\n",
      "GL429772\t17021882\t17022482\r\n",
      "GL429772\t17021892\t17022492\r\n",
      "GL429773\t116772\t117372\r\n",
      "GL429773\t284768\t285368\r\n",
      "GL429773\t1036637\t1037237\r\n",
      "GL429773\t7204587\t7205187\r\n",
      "GL429774\t5086619\t5087219\r\n",
      "GL429775\t1710476\t1711076\r\n",
      "GL429775\t5556009\t5556609\r\n",
      "GL429775\t10613987\t10614587\r\n",
      "GL429775\t17830735\t17831335\r\n",
      "GL429776\t3462655\t3463255\r\n",
      "GL429776\t13622792\t13623392\r\n",
      "GL429776\t16056773\t16057373\r\n",
      "GL429778\t3560700\t3561300\r\n",
      "GL429778\t6871768\t6872368\r\n",
      "GL429778\t13606897\t13607497\r\n",
      "GL429779\t2091418\t2092018\r\n",
      "GL429779\t2407488\t2408088\r\n",
      "GL429779\t10152144\t10152744\r\n",
      "GL429782\t13104338\t13104938\r\n",
      "GL429782\t13104343\t13104943\r\n",
      "GL429782\t13679850\t13680450\r\n",
      "GL429783\t665107\t665707\r\n",
      "GL429783\t2691560\t2692160\r\n",
      "GL429783\t2782429\t2783029\r\n",
      "GL429783\t13929195\t13929795\r\n",
      "GL429784\t440583\t441183\r\n",
      "GL429784\t4614537\t4615137\r\n",
      "GL429784\t10091192\t10091792\r\n",
      "GL429785\t5038507\t5039107\r\n",
      "GL429785\t5735592\t5736192\r\n",
      "GL429785\t6643107\t6643707\r\n",
      "GL429785\t7041667\t7042267\r\n",
      "GL429787\t11158263\t11158863\r\n",
      "GL429789\t12124990\t12125590\r\n",
      "GL429789\t12124992\t12125592\r\n",
      "GL429789\t12124993\t12125593\r\n",
      "GL429790\t1037818\t1038418\r\n",
      "GL429790\t7965198\t7965798\r\n",
      "GL429790\t10304028\t10304628\r\n",
      "GL429792\t752845\t753445\r\n",
      "GL429793\t8414502\t8415102\r\n",
      "GL429793\t8414508\t8415108\r\n",
      "GL429794\t4072396\t4072996\r\n",
      "GL429794\t5707570\t5708170\r\n",
      "GL429794\t7279602\t7280202\r\n",
      "GL429794\t8583957\t8584557\r\n",
      "GL429795\t3906989\t3907589\r\n",
      "GL429797\t6341030\t6341630\r\n",
      "GL429798\t6594618\t6595218\r\n",
      "GL429798\t9304648\t9305248\r\n",
      "GL429800\t5353206\t5353806\r\n",
      "GL429801\t6985910\t6986510\r\n",
      "GL429801\t6985920\t6986520\r\n",
      "GL429803\t8026244\t8026844\r\n",
      "GL429806\t2488686\t2489286\r\n",
      "GL429808\t770277\t770877\r\n",
      "GL429809\t6286974\t6287574\r\n",
      "GL429809\t7389734\t7390334\r\n",
      "GL429810\t2353609\t2354209\r\n",
      "GL429811\t2139684\t2140284\r\n",
      "GL429815\t1149355\t1149955\r\n",
      "GL429816\t3229347\t3229947\r\n",
      "GL429819\t365054\t365654\r\n",
      "GL429824\t3462714\t3463314\r\n",
      "GL429824\t4399436\t4400036\r\n",
      "GL429826\t127215\t127815\r\n",
      "GL429829\t5660877\t5661477\r\n",
      "GL429831\t1081416\t1082016\r\n",
      "GL429831\t5178277\t5178877\r\n",
      "GL429836\t943173\t943773\r\n",
      "GL429836\t1894528\t1895128\r\n",
      "GL429836\t2323268\t2323868\r\n",
      "GL429839\t183583\t184183\r\n",
      "GL429839\t2333752\t2334352\r\n",
      "GL429841\t612232\t612832\r\n",
      "GL429841\t3522150\t3522750\r\n",
      "GL429845\t2824589\t2825189\r\n",
      "GL429845\t4476103\t4476703\r\n",
      "GL429846\t940795\t941395\r\n",
      "GL429846\t1252876\t1253476\r\n",
      "GL429846\t2542039\t2542639\r\n",
      "GL429846\t4607696\t4608296\r\n",
      "GL429848\t2603529\t2604129\r\n",
      "GL429849\t815477\t816077\r\n",
      "GL429850\t1182854\t1183454\r\n",
      "GL429850\t2489681\t2490281\r\n",
      "GL429851\t842283\t842883\r\n",
      "GL429852\t462733\t463333\r\n",
      "GL429852\t462741\t463341\r\n",
      "GL429852\t462802\t463402\r\n",
      "GL429854\t64393\t64993\r\n",
      "GL429857\t134312\t134912\r\n",
      "GL429860\t863225\t863825\r\n",
      "GL429860\t3647355\t3647955\r\n",
      "GL429861\t293072\t293672\r\n",
      "GL429861\t3065099\t3065699\r\n",
      "GL429861\t4317217\t4317817\r\n",
      "GL429861\t4317223\t4317823\r\n",
      "GL429862\t268802\t269402\r\n",
      "GL429863\t2978300\t2978900\r\n",
      "GL429863\t4280244\t4280844\r\n",
      "GL429865\t2201021\t2201621\r\n",
      "GL429867\t2184951\t2185551\r\n",
      "GL429867\t2574949\t2575549\r\n",
      "GL429868\t2981897\t2982497\r\n",
      "GL429870\t2909520\t2910120\r\n",
      "GL429871\t2083045\t2083645\r\n",
      "GL429874\t3960541\t3961141\r\n",
      "GL429880\t42524\t43124\r\n",
      "GL429880\t1266267\t1266867\r\n",
      "GL429881\t677125\t677725\r\n",
      "GL429881\t1997805\t1998405\r\n",
      "GL429882\t2695846\t2696446\r\n",
      "GL429883\t509119\t509719\r\n",
      "GL429884\t1762764\t1763364\r\n",
      "GL429884\t1762785\t1763385\r\n",
      "GL429884\t1803449\t1804049\r\n",
      "GL429885\t617522\t618122\r\n",
      "GL429885\t617526\t618126\r\n",
      "GL429885\t2043230\t2043830\r\n",
      "GL429886\t1745769\t1746369\r\n",
      "GL429887\t2687102\t2687702\r\n",
      "GL429887\t2687123\t2687723\r\n",
      "GL429888\t3508135\t3508735\r\n",
      "GL429896\t2002001\t2002601\r\n",
      "GL429896\t2866533\t2867133\r\n",
      "GL429898\t676397\t676997\r\n",
      "GL429898\t676414\t677014\r\n",
      "GL429899\t351544\t352144\r\n",
      "GL429904\t1874105\t1874705\r\n",
      "GL429905\t930988\t931588\r\n",
      "GL429905\t1245900\t1246500\r\n",
      "GL429910\t2413778\t2414378\r\n",
      "GL429910\t2565017\t2565617\r\n",
      "GL429917\t581316\t581916\r\n",
      "GL429918\t2724708\t2725308\r\n",
      "GL429925\t661983\t662583\r\n",
      "GL429925\t2311366\t2311966\r\n",
      "GL429927\t1240913\t1241513\r\n",
      "GL429928\t2425225\t2425825\r\n",
      "GL429929\t2386002\t2386602\r\n",
      "GL429929\t2943633\t2944233\r\n",
      "GL429932\t112161\t112761\r\n",
      "GL429939\t2758936\t2759536\r\n",
      "GL429944\t757168\t757768\r\n",
      "GL429946\t1038779\t1039379\r\n",
      "GL429947\t1200185\t1200785\r\n",
      "GL429949\t1338890\t1339490\r\n",
      "GL429949\t1953162\t1953762\r\n",
      "GL429950\t2444579\t2445179\r\n",
      "GL429952\t330669\t331269\r\n",
      "GL429953\t2190150\t2190750\r\n",
      "GL429959\t771290\t771890\r\n",
      "GL429964\t1805499\t1806099\r\n",
      "GL429969\t108973\t109573\r\n",
      "GL429979\t2240502\t2241102\r\n",
      "GL429982\t1303509\t1304109\r\n",
      "GL429995\t282544\t283144\r\n",
      "GL429995\t731342\t731942\r\n",
      "GL429995\t846763\t847363\r\n",
      "GL430004\t1824263\t1824863\r\n",
      "GL430007\t1175078\t1175678\r\n",
      "GL430008\t1354902\t1355502\r\n",
      "GL430015\t641111\t641711\r\n",
      "GL430022\t533572\t534172\r\n",
      "GL430029\t1661113\t1661713\r\n",
      "GL430054\t1392788\t1393388\r\n",
      "GL430063\t1016282\t1016882\r\n",
      "GL430071\t327435\t328035\r\n",
      "GL430088\t571173\t571773\r\n",
      "GL430101\t496608\t497208\r\n",
      "GL430124\t395553\t396153\r\n",
      "GL430132\t775842\t776442\r\n",
      "GL430133\t495971\t496571\r\n",
      "GL430133\t757020\t757620\r\n",
      "GL430144\t296011\t296611\r\n",
      "GL430144\t350723\t351323\r\n",
      "GL430145\t65372\t65972\r\n",
      "GL430162\t78373\t78973\r\n",
      "GL430164\t554639\t555239\r\n",
      "GL430166\t11632\t12232\r\n",
      "GL430199\t554097\t554697\r\n",
      "GL430213\t519259\t519859\r\n",
      "GL430232\t111038\t111638\r\n",
      "GL430234\t78289\t78889\r\n",
      "GL430271\t326198\t326798\r\n",
      "GL430271\t524910\t525510\r\n",
      "GL430279\t606865\t607465\r\n",
      "GL430338\t350247\t350847\r\n",
      "GL430384\t251940\t252540\r\n",
      "GL430403\t269522\t270122\r\n",
      "GL430441\t181204\t181804\r\n",
      "GL430483\t252824\t253424\r\n",
      "GL430551\t168312\t168912\r\n",
      "GL430678\t36391\t36991\r\n",
      "GL430686\t90734\t91334\r\n",
      "GL430696\t55139\t55739\r\n",
      "GL430834\t43720\t44320\r\n",
      "GL430870\t25268\t25868\r\n",
      "GL431096\t35116\t35716\r\n"
     ]
    }
   ],
   "source": []
  },
  {
   "cell_type": "code",
   "execution_count": null,
   "metadata": {
    "collapsed": true
   },
   "outputs": [],
   "source": [
    "samtools view -b -L /local/home/sarahgw/WGS/SNPS/All_mylu/snps/njnyeu50_600.bed /local/home/sarahgw/WGS/Sequences/All_mylu/All_Mylu_bam/All_mylu_merged.bam > /local/home/sarahgw/WGS/SNPS/All_mylu/snps/njnyeu50_600.bam"
   ]
  },
  {
   "cell_type": "code",
   "execution_count": 21,
   "metadata": {},
   "outputs": [
    {
     "name": "stdout",
     "output_type": "stream",
     "text": [
      "#!genome-build Myoluc2.0\r\n",
      "#!genome-version Myoluc2.0\r\n",
      "#!genome-date 2010-09\r\n",
      "#!genome-build-accession NCBI:GCA_000147115.1\r\n",
      "#!genebuild-last-updated 2011-06\r\n",
      "GL429767\tensembl\tgene\t42604\t226589\t.\t+\t.\tgene_id \"ENSMLUG00000029214\"; gene_version \"1\"; gene_name \"ACHE\"; gene_source \"ensembl\"; gene_biotype \"protein_coding\";\r\n",
      "GL429767\tensembl\ttranscript\t42604\t226589\t.\t+\t.\tgene_id \"ENSMLUG00000029214\"; gene_version \"1\"; transcript_id \"ENSMLUT00000025902\"; transcript_version \"1\"; gene_name \"ACHE\"; gene_source \"ensembl\"; gene_biotype \"protein_coding\"; transcript_name \"ACHE-201\"; transcript_source \"ensembl\"; transcript_biotype \"protein_coding\";\r\n",
      "GL429767\tensembl\texon\t42604\t43700\t.\t+\t.\tgene_id \"ENSMLUG00000029214\"; gene_version \"1\"; transcript_id \"ENSMLUT00000025902\"; transcript_version \"1\"; exon_number \"1\"; gene_name \"ACHE\"; gene_source \"ensembl\"; gene_biotype \"protein_coding\"; transcript_name \"ACHE-201\"; transcript_source \"ensembl\"; transcript_biotype \"protein_coding\"; exon_id \"ENSMLUE00000285193\"; exon_version \"1\";\r\n",
      "GL429767\tensembl\tCDS\t42630\t43700\t.\t+\t0\tgene_id \"ENSMLUG00000029214\"; gene_version \"1\"; transcript_id \"ENSMLUT00000025902\"; transcript_version \"1\"; exon_number \"1\"; gene_name \"ACHE\"; gene_source \"ensembl\"; gene_biotype \"protein_coding\"; transcript_name \"ACHE-201\"; transcript_source \"ensembl\"; transcript_biotype \"protein_coding\"; protein_id \"ENSMLUP00000017105\"; protein_version \"1\";\r\n",
      "GL429767\tensembl\tstart_codon\t42630\t42632\t.\t+\t0\tgene_id \"ENSMLUG00000029214\"; gene_version \"1\"; transcript_id \"ENSMLUT00000025902\"; transcript_version \"1\"; exon_number \"1\"; gene_name \"ACHE\"; gene_source \"ensembl\"; gene_biotype \"protein_coding\"; transcript_name \"ACHE-201\"; transcript_source \"ensembl\"; transcript_biotype \"protein_coding\";\r\n"
     ]
    }
   ],
   "source": [
    "!head /local/home/sarahgw/references/Myotis_lucifugus.Myoluc2.0.92.gtf"
   ]
  },
  {
   "cell_type": "code",
   "execution_count": 22,
   "metadata": {
    "scrolled": true
   },
   "outputs": [
    {
     "name": "stdout",
     "output_type": "stream",
     "text": [
      "\"\",\"Scaffold\",\"NewScaf\",\"SNP\",\"Maj\",\"Min\",\"NJ\",\"NY\",\"Comp\",\"rank\",\"padjBH\"\r\n",
      "\"1\",\"GL429767\",\"NW_005871048.1\",16839644,\"T\",\"A\",8.3999916000084e-05,0.000181999818000182,2.90413319116625e-07,70,5.39909603706351e-07\r\n",
      "\"2\",\"GL429767\",\"NW_005871048.1\",38456248,\"T\",\"C\",2.8999971000029e-05,0.000823999176000824,4.43259321723044e-07,78,6.01613558415648e-07\r\n",
      "\"3\",\"GL429767\",\"NW_005871048.1\",22649683,\"T\",\"A\",0.000658999341000659,9.99999000001e-07,1.45904282432881e-08,20,1.54259886773243e-07\r\n",
      "\"4\",\"GL429767\",\"NW_005871048.1\",46534125,\"C\",\"T\",6.6999933000067e-05,9.99999000001e-07,1.63656087014458e-09,9,6.94169490479594e-08\r\n",
      "\"5\",\"GL429767\",\"NW_005871048.1\",51542832,\"G\",\"A\",9.99999000001e-07,0.000233999766000234,5.42310342192109e-09,13,1.00268926402608e-07\r\n",
      "\"6\",\"GL429768\",\"NW_005871049.1\",3921142,\"G\",\"C\",9.99999000001e-07,0.0138399861600138,2.64284027064383e-07,67,5.16770620690364e-07\r\n",
      "\"7\",\"GL429768\",\"NW_005871049.1\",34577793,\"C\",\"T\",0.000584999415000585,2.3999976000024e-05,2.6790172263069e-07,68,5.24483615029027e-07\r\n",
      "\"8\",\"GL429768\",\"NW_005871049.1\",29962249,\"A\",\"G\",9.99999000001e-07,0.00581299418700581,1.16045681211861e-07,52,4.01075705610432e-07\r\n",
      "\"9\",\"GL429770\",\"NW_005871051.1\",8292792,\"A\",\"T\",7.999992000008e-06,9.99999000001e-07,2.12412227769314e-10,4,3.08519773546486e-08\r\n",
      "\"10\",\"GL429770\",\"NW_005871051.1\",8507307,\"A\",\"C\",9.99999000001e-07,1.8999981000019e-05,4.8804412250973e-10,6,4.62779660319729e-08\r\n",
      "\"11\",\"GL429772\",\"NW_005871053.1\",8716095,\"T\",\"A\",0.000590999409000591,9.99999000001e-07,1.31492550967029e-08,18,1.38833898095919e-07\r\n",
      "\"12\",\"GL429772\",\"NW_005871053.1\",14993622,\"T\",\"C\",0.000900999099000901,9.99999000001e-07,1.96665542572174e-08,24,1.85111864127892e-07\r\n",
      "\"13\",\"GL429773\",\"NW_005871054.1\",7204887,\"C\",\"T\",9.99999000001e-07,0.0135549864450136,2.59123806710527e-07,65,5.0134463201304e-07\r\n",
      "\"14\",\"GL429775\",\"NW_005871056.1\",5556309,\"A\",\"C\",9.99999000001e-07,0.00431799568200432,8.74845582607504e-08,49,3.77936722594446e-07\r\n",
      "\"15\",\"GL429778\",\"NW_005871059.1\",3561000,\"G\",\"A\",9.99999000001e-07,0.00142299857700142,3.04101614165298e-08,29,2.23676835821203e-07\r\n",
      "\"16\",\"GL429781\",\"NW_005871062.1\",7594948,\"A\",\"T\",0.0174109825890174,9.99999000001e-07,3.28478153115638e-07,71,5.47622598045013e-07\r\n",
      "\"17\",\"GL429783\",\"NW_005871064.1\",14617697,\"C\",\"A\",9.99999000001e-07,0.0251809748190252,4.65776510058196e-07,82,6.32465535770297e-07\r\n",
      "\"18\",\"GL429783\",\"NW_005871064.1\",665407,\"C\",\"T\",9.99999000001e-07,0.0314659685340315,5.75019869244063e-07,86,6.63317513124945e-07\r\n",
      "\"19\",\"GL429784\",\"NW_005871065.1\",1229639,\"G\",\"A\",0.0337099662900337,9.99999000001e-07,6.13705277791378e-07,88,6.7874350180227e-07\r\n",
      "\"20\",\"GL429785\",\"NW_005871066.1\",3216149,\"C\",\"T\",0.00226399773600226,9.99999000001e-07,4.73313942449965e-08,32,2.46815818837189e-07\r\n",
      "\"21\",\"GL429792\",\"NW_005871073.1\",753145,\"C\",\"A\",9.99999000001e-07,0.00207199792800207,4.35010422758718e-08,31,2.39102824498527e-07\r\n",
      "\"22\",\"GL429794\",\"NW_005871075.1\",5707870,\"T\",\"A\",9.99999000001e-07,0.0348309651690348,6.32974139077413e-07,90,6.94169490479594e-07\r\n",
      "\"23\",\"GL429795\",\"NW_005871076.1\",3907289,\"G\",\"A\",9.99999000001e-07,0.000842999157000843,1.84566524278081e-08,22,1.69685875450567e-07\r\n",
      "\"24\",\"GL429801\",\"NW_005871082.1\",6986210,\"A\",\"T\",9.99999000001e-07,0.0317839682160318,5.80511503325493e-07,87,6.71030507463608e-07\r\n",
      "\"25\",\"GL429809\",\"NW_005871090.1\",7390034,\"A\",\"G\",0.0146409853590146,1.999998000002e-06,5.37215131196305e-07,83,6.40178530108959e-07\r\n",
      "\"26\",\"GL429816\",\"NW_005871097.1\",3229647,\"G\",\"A\",0.00823499176500823,9.99999000001e-07,1.61528168231258e-07,59,4.55066665981067e-07\r\n",
      "\"27\",\"GL429819\",\"NW_005871100.1\",365354,\"G\",\"A\",9.99999000001e-07,7.8999921000079e-05,1.91666061249024e-09,10,7.71299433866215e-08\r\n",
      "\"28\",\"GL429828\",\"NW_005871109.1\",1501267,\"T\",\"C\",3.0999969000031e-05,9.99999000001e-07,7.81106551040831e-10,7,5.39909603706351e-08\r\n",
      "\"29\",\"GL429828\",\"NW_005871109.1\",3004686,\"A\",\"G\",0.0118899881100119,9.99999000001e-07,2.28853151094495e-07,63,4.85918643335716e-07\r\n",
      "\"30\",\"GL429835\",\"NW_005871116.1\",2966452,\"T\",\"G\",0.000954999045000955,9.99999000001e-07,2.07896511662287e-08,25,1.92824858466554e-07\r\n",
      "\"31\",\"GL429835\",\"NW_005871116.1\",2966433,\"A\",\"G\",0.000162999837000163,1.999998000002e-05,6.69652885608635e-08,43,3.31658756562473e-07\r\n",
      "\"32\",\"GL429841\",\"NW_005871122.1\",612532,\"G\",\"A\",9.99999000001e-07,0.000390999609000391,8.86094766046922e-09,15,1.15694915079932e-07\r\n",
      "\"33\",\"GL429841\",\"NW_005871122.1\",3522450,\"A\",\"G\",1.999998000002e-06,0.00206899793100207,8.40138746282067e-08,48,3.70223728255783e-07\r\n",
      "\"34\",\"GL429842\",\"NW_005871123.1\",4124241,\"A\",\"G\",0.00268099731900268,9.99999000001e-07,5.55959948661457e-08,39,3.00806779207824e-07\r\n",
      "\"35\",\"GL429845\",\"NW_005871126.1\",2091046,\"C\",\"T\",9.99999000001e-07,0.0241799758200242,4.48241704876869e-07,79,6.0932655275431e-07\r\n",
      "\"36\",\"GL429848\",\"NW_005871129.1\",2603829,\"T\",\"C\",1.999998000002e-06,0.000494999505000495,2.15159419591655e-08,26,2.00537852805216e-07\r\n",
      "\"37\",\"GL429850\",\"NW_005871131.1\",1183154,\"C\",\"T\",0.00293099706900293,9.99999000001e-07,6.05189447196101e-08,41,3.16232767885148e-07\r\n",
      "\"38\",\"GL429852\",\"NW_005871133.1\",463102,\"T\",\"G\",0.000154999845000155,1.4999985000015e-05,4.85448515403801e-08,35,2.69954801853175e-07\r\n",
      "\"39\",\"GL429855\",\"NW_005871136.1\",4401152,\"G\",\"C\",0.0297719702280298,9.99999000001e-07,5.45710721569447e-07,84,6.47891524447621e-07\r\n",
      "\"40\",\"GL429857\",\"NW_005871138.1\",134612,\"T\",\"C\",0.00607799392200608,9.99999000001e-07,1.21064960911773e-07,54,4.16501694287756e-07\r\n",
      "\"41\",\"GL429859\",\"NW_005871140.1\",300331,\"T\",\"C\",9.99999000001e-07,9.99999000001e-07,2.86309658539673e-11,1,7.71299433866215e-09\r\n",
      "\"42\",\"GL429861\",\"NW_005871142.1\",4317517,\"A\",\"G\",0.0225149774850225,9.99999000001e-07,4.18982735197176e-07,77,5.93900564076986e-07\r\n",
      "\"43\",\"GL429861\",\"NW_005871142.1\",4317523,\"T\",\"C\",0.0242239757760242,9.99999000001e-07,4.49013323972443e-07,80,6.17039547092972e-07\r\n",
      "\"44\",\"GL429861\",\"NW_005871142.1\",3065399,\"A\",\"G\",9.99999000001e-07,0.00132899867100133,2.84921627806839e-08,28,2.1596384148254e-07\r\n",
      "\"45\",\"GL429861\",\"NW_005871142.1\",293372,\"A\",\"G\",0.00230699769300231,9.99999000001e-07,4.81869505378886e-08,34,2.62241807514513e-07\r\n",
      "\"46\",\"GL429867\",\"NW_005871148.1\",2575249,\"A\",\"G\",9.99999000001e-07,0.00710699289300711,1.40449586538063e-07,57,4.39640677303743e-07\r\n",
      "\"47\",\"GL429873\",\"NW_005871154.1\",2056629,\"T\",\"A\",9.99999000001e-07,0.00961999038000962,1.87199280366468e-07,60,4.62779660319729e-07\r\n",
      "\"48\",\"GL429879\",\"NW_005871160.1\",384336,\"G\",\"A\",9.99999000001e-07,0.000404999595000405,9.16397177181984e-09,16,1.23407909418594e-07\r\n",
      "\"49\",\"GL429880\",\"NW_005871161.1\",42824,\"C\",\"A\",0.035018964981035,9.99999000001e-07,6.36202105055637e-07,92,7.09595479156918e-07\r\n",
      "\"50\",\"GL429885\",\"NW_005871166.1\",2043530,\"T\",\"C\",9.99999000001e-07,1.5999984000016e-05,4.13734122830345e-10,5,3.85649716933108e-08\r\n",
      "\"51\",\"GL429888\",\"NW_005871169.1\",3508435,\"A\",\"T\",9.99999000001e-07,0.00245899754100246,5.12049162383727e-08,36,2.77667796191838e-07\r\n",
      "\"52\",\"GL429891\",\"NW_005871172.1\",266596,\"T\",\"A\",0.0216209783790216,9.99999000001e-07,4.03222255095741e-07,74,5.70761581060999e-07\r\n",
      "\"53\",\"GL429893\",\"NW_005871174.1\",1767654,\"C\",\"T\",0.0123239876760123,9.99999000001e-07,2.36764754583798e-07,64,4.93631637674378e-07\r\n",
      "\"54\",\"GL429906\",\"NW_005871187.1\",1866953,\"C\",\"T\",9.99999000001e-07,0.0048039951960048,9.68187525152218e-08,50,3.85649716933108e-07\r\n",
      "\"55\",\"GL429910\",\"NW_005871191.1\",2414078,\"A\",\"C\",3.6999963000037e-05,0.00016999983000017,1.25072039415402e-07,56,4.31927682965081e-07\r\n",
      "\"56\",\"GL429920\",\"NW_005871201.1\",2255691,\"T\",\"G\",0.00387099612900387,9.99999000001e-07,7.88511637684631e-08,46,3.54797739578459e-07\r\n",
      "\"57\",\"GL429927\",\"NW_005871208.1\",1241213,\"A\",\"G\",9.99999000001e-07,5.999994000006e-06,1.61035259809516e-10,3,2.31389830159865e-08\r\n",
      "\"58\",\"GL429929\",\"NW_005871210.1\",2943933,\"G\",\"T\",9.99999000001e-07,0.00260599739400261,5.41146580102106e-08,38,2.93093784869162e-07\r\n",
      "\"59\",\"GL429938\",\"NW_005871219.1\",2500270,\"A\",\"G\",0.00303999696000304,9.99999000001e-07,6.26585620602562e-08,42,3.2394576222381e-07\r\n",
      "\"60\",\"GL429946\",\"NW_005871227.1\",1039079,\"T\",\"A\",0.000343999656000344,1.5999984000016e-05,1.10177710865142e-07,51,3.9336271127177e-07\r\n",
      "\"61\",\"GL429947\",\"NW_005871228.1\",1200485,\"A\",\"G\",0.00375899624100376,9.99999000001e-07,7.66801194448983e-08,45,3.47084745239797e-07\r\n",
      "\"62\",\"GL429950\",\"NW_005871231.1\",2444879,\"G\",\"A\",9.99999000001e-06,6.3999936000064e-05,1.41884867843396e-08,19,1.46546892434581e-07\r\n",
      "\"63\",\"GL429955\",\"NW_005871236.1\",1484586,\"G\",\"A\",0.00405399594600405,9.99999000001e-07,8.23915628170559e-08,47,3.62510733917121e-07\r\n",
      "\"64\",\"GL429962\",\"NW_005871243.1\",689293,\"A\",\"C\",9.99999000001e-07,9.99999000001e-07,2.86309658539673e-11,2,1.54259886773243e-08\r\n",
      "\"65\",\"GL429965\",\"NW_005871246.1\",1956978,\"G\",\"A\",0.00226699773300227,9.99999000001e-07,4.73911105428389e-08,33,2.54528813175851e-07\r\n",
      "\"66\",\"GL429968\",\"NW_005871249.1\",2123897,\"A\",\"T\",7.999992000008e-06,0.000464999535000465,7.59233524606358e-08,44,3.39371750901135e-07\r\n",
      "\"67\",\"GL429969\",\"NW_005871250.1\",109273,\"C\",\"T\",0.0117699882300118,9.99999000001e-07,2.26662839461569e-07,62,4.78205648997054e-07\r\n",
      "\"68\",\"GL429982\",\"NW_005871263.1\",1303809,\"G\",\"A\",9.99999000001e-07,9.99999000001e-05,2.40258048783058e-09,11,8.48429377252837e-08\r\n",
      "\"69\",\"GL429998\",\"NW_005871279.1\",99324,\"C\",\"G\",0.0111779888220112,1.999998000002e-06,4.16182333358765e-07,76,5.86187569738324e-07\r\n",
      "\"70\",\"GL430008\",\"NW_005871289.1\",1396110,\"C\",\"T\",9.99999000001e-07,4.6999953000047e-05,1.16469881976942e-09,8,6.17039547092972e-08\r\n",
      "\"71\",\"GL430018\",\"NW_005871299.1\",180278,\"T\",\"A\",0.00031999968000032,9.99999000001e-07,7.31605004633541e-09,14,1.0798192074127e-07\r\n",
      "\"72\",\"GL430029\",\"NW_005871310.1\",1661413,\"A\",\"C\",0.000193999806000194,9.99999000001e-07,4.53244493673727e-09,12,9.25559320639459e-08\r\n",
      "\"73\",\"GL430101\",\"NW_005871382.1\",496908,\"T\",\"C\",0.00087999912000088,9.99999000001e-07,1.92289306055602e-08,23,1.7739886978923e-07\r\n",
      "\"74\",\"GL430121\",\"NW_005871402.1\",936584,\"T\",\"C\",0.00165499834500166,6.999993000007e-06,2.23283707559285e-07,61,4.70492654658391e-07\r\n",
      "\"75\",\"GL430128\",\"NW_005871409.1\",735347,\"A\",\"G\",0.00625999374000626,9.99999000001e-07,1.24505439689473e-07,55,4.24214688626419e-07\r\n",
      "\"76\",\"GL430132\",\"NW_005871413.1\",776142,\"T\",\"C\",1.3999986000014e-05,0.000185999814000186,5.40751264189011e-08,37,2.853807905305e-07\r\n",
      "\"77\",\"GL430156\",\"NW_005871437.1\",916661,\"C\",\"T\",0.00739299260700739,9.99999000001e-07,1.45809882545218e-07,58,4.47353671642405e-07\r\n",
      "\"78\",\"GL430166\",\"NW_005871447.1\",11932,\"C\",\"T\",9.99999000001e-07,0.000518999481000519,1.16147396523124e-08,17,1.31120903757257e-07\r\n",
      "\"79\",\"GL430239\",\"NW_005871520.1\",60325,\"G\",\"A\",9.99999000001e-07,0.0349019650980349,6.34193330287437e-07,91,7.01882484818256e-07\r\n",
      "\"80\",\"GL430271\",\"NW_005871552.1\",525210,\"C\",\"T\",9.99999000001e-07,0.00272999727000273,5.65626646763675e-08,40,3.08519773546486e-07\r\n",
      "\"81\",\"GL430271\",\"NW_005871552.1\",326498,\"A\",\"G\",0.000397999602000398,6.0999939000061e-05,4.4996020182894e-07,81,6.24752541431635e-07\r\n",
      "\"82\",\"GL430279\",\"NW_005871560.1\",607165,\"G\",\"A\",0.00188199811800188,1.7999982000018e-05,6.16560972596864e-07,89,6.86456496140932e-07\r\n",
      "\"83\",\"GL430281\",\"NW_005871562.1\",514067,\"T\",\"C\",7.3999926000074e-05,0.000273999726000274,3.79440856501523e-07,73,5.63048586722337e-07\r\n",
      "\"84\",\"GL430338\",\"NW_005871619.1\",350547,\"T\",\"C\",1.999998000002e-06,0.00678799321200679,2.59504236450434e-07,66,5.09057626351702e-07\r\n",
      "\"85\",\"GL430384\",\"NW_005871665.1\",252240,\"A\",\"G\",0.0307229692770307,9.99999000001e-07,5.62176203250955e-07,85,6.55604518786283e-07\r\n",
      "\"86\",\"GL430420\",\"NW_005871701.1\",180654,\"A\",\"G\",0.00311199688800311,6.999993000007e-06,4.06098521707557e-07,75,5.78474575399662e-07\r\n",
      "\"87\",\"GL430482\",\"NW_005871763.1\",173352,\"C\",\"T\",4.999995000005e-06,0.000160999839000161,1.76618102513616e-08,21,1.61972881111905e-07\r\n",
      "\"88\",\"GL430686\",\"NW_005871967.1\",91034,\"C\",\"T\",9.99999000001e-07,0.00107699892300108,2.33160216164901e-08,27,2.08250847143878e-07\r\n",
      "\"89\",\"GL430696\",\"NW_005871977.1\",55439,\"A\",\"T\",2.0999979000021e-05,0.000676999323000677,2.71101005452752e-07,69,5.32196609367689e-07\r\n",
      "\"90\",\"GL430746\",\"NW_005872028.1\",9663,\"C\",\"T\",0.0184529815470185,9.99999000001e-07,3.47064084194162e-07,72,5.55335592383675e-07\r\n",
      "\"91\",\"GL430834\",\"NW_005872120.1\",44020,\"A\",\"G\",9.99999000001e-07,0.00165199834800165,3.50574863643628e-08,30,2.31389830159865e-07\r\n"
     ]
    }
   ],
   "source": [
    "!head -n 92 /local/home/sarahgw/WGS/SNPS/All_mylu/snps/NJNY50_sigCompvaluesNe424_296.csv"
   ]
  },
  {
   "cell_type": "code",
   "execution_count": null,
   "metadata": {
    "collapsed": true
   },
   "outputs": [],
   "source": [
    "2,125,561-2,462,498   2,603,829"
   ]
  },
  {
   "cell_type": "code",
   "execution_count": null,
   "metadata": {
    "collapsed": true
   },
   "outputs": [],
   "source": [
    "46,836,518..47,675,316"
   ]
  },
  {
   "cell_type": "code",
   "execution_count": null,
   "metadata": {
    "collapsed": true
   },
   "outputs": [],
   "source": [
    "2,123,766, 3,029,105"
   ]
  },
  {
   "cell_type": "markdown",
   "metadata": {},
   "source": [
    "MASP1- A\n",
    "GALNT18- A\n",
    "BMPER\n",
    "GNPDA1\n",
    "BFSP1\n",
    "REPS2 (REPS1 A)\n",
    "PCDH17 ( PCDH15 A PCDH11)\n",
    "SOX5-A\n",
    "MDGA2-A\n",
    "CACNA1D\n",
    "FA2H\n",
    "TPRA1\n",
    "ADCY3- A\n",
    "CEP112\n",
    "TG -A \n",
    "NELL1 - A\n",
    "SEMA5A -A\n",
    "SORCS3 - A\n",
    "CBFA2T3 SHOULD \n",
    "SGCZ -A \n",
    "GEMIN4 (GEMIN7 A)\n",
    "MKL2 \n",
    "BACE2\n",
    "RAPGEF1 -A \n",
    "\n",
    "There are 1,591 genes in that set...can we see how many are in the genome, and see how many genes are in our genome. \n",
    "\n",
    "can we do something like epstein We sampled 1,000 pairs of 200 kb regions around randomly selected SNPs in our data set, and only 25% of such regions contained one or more genes with Gene Ontology14 terms ‘immune response,’ ‘cell proliferation,’ or ‘cell death’ (our candidate regions contained both an immune response and a cell death GO annotation). Consequently, our result (two out of seven based on GO terms or five out of seven based on manual annotation) is unlikely to have been found by chance.\n",
    "\n",
    "\n"
   ]
  },
  {
   "cell_type": "markdown",
   "metadata": {},
   "source": [
    "MASP1\n",
    "GALNT18\n",
    "BMPER\n",
    "GNPDA1\n",
    "BFSP1\n",
    "REPS2\n",
    "PCDH17\n",
    "SOX5\n",
    "MDGA2\n",
    "CACNA1D- GNRH, INSULIN\n",
    "FA2H\n",
    "TPRA1\n",
    "ADCY3- GNRH, INSULIN\n",
    "CEP112\n",
    "TG\n",
    "NELL1\n",
    "SEMA5A\n",
    "SORCS3\n",
    "CBFA2T3\n",
    "SGCZ\n",
    "GEMIN4\n",
    "MKL2\n",
    "BACE2\n",
    "RAPGEF1- RAPGEF4 INSULIN\n"
   ]
  },
  {
   "cell_type": "code",
   "execution_count": 15,
   "metadata": {
    "scrolled": true
   },
   "outputs": [
    {
     "name": "stdout",
     "output_type": "stream",
     "text": [
      "['NW_005871048.1', 'RefSeq', 'region', '1', '64990205', '.', '+', '.', 'ID=id0;Dbxref=taxon:59463;Name=Unknown;chromosome=Unknown;country=USA: Framingham%2C MA;gbkey=Src;genome=genomic;mol_type=genomic DNA;sex=female\\n']\n",
      "['NW_005871048.1', 'RefSeq', 'region', '1', '64990205', '.', '+', '.', 'ID=id0;Dbxref=taxon:59463;Name=Unknown;chromosome=Unknown;country=USA: Framingham%2C MA;gbkey=Src;genome=genomic;mol_type=genomic DNA;sex=female\\n']\n",
      "['NW_005871048.1', 'RefSeq', 'region', '1', '64990205', '.', '+', '.', 'ID=id0;Dbxref=taxon:59463;Name=Unknown;chromosome=Unknown;country=USA: Framingham%2C MA;gbkey=Src;genome=genomic;mol_type=genomic DNA;sex=female\\n']\n",
      "['NW_005871048.1', 'RefSeq', 'region', '1', '64990205', '.', '+', '.', 'ID=id0;Dbxref=taxon:59463;Name=Unknown;chromosome=Unknown;country=USA: Framingham%2C MA;gbkey=Src;genome=genomic;mol_type=genomic DNA;sex=female\\n']\n",
      "['NW_005871048.1', 'RefSeq', 'region', '1', '64990205', '.', '+', '.', 'ID=id0;Dbxref=taxon:59463;Name=Unknown;chromosome=Unknown;country=USA: Framingham%2C MA;gbkey=Src;genome=genomic;mol_type=genomic DNA;sex=female\\n']\n",
      "['NW_005871048.1', 'RefSeq', 'region', '1', '64990205', '.', '+', '.', 'ID=id0;Dbxref=taxon:59463;Name=Unknown;chromosome=Unknown;country=USA: Framingham%2C MA;gbkey=Src;genome=genomic;mol_type=genomic DNA;sex=female\\n']\n",
      "['NW_005871048.1', 'RefSeq', 'region', '1', '64990205', '.', '+', '.', 'ID=id0;Dbxref=taxon:59463;Name=Unknown;chromosome=Unknown;country=USA: Framingham%2C MA;gbkey=Src;genome=genomic;mol_type=genomic DNA;sex=female\\n']\n",
      "['NW_005871048.1', 'Gnomon', 'gene', '16490629', '16935896', '.', '+', '.', 'ID=gene225;Dbxref=GeneID:102417759;Name=FBXL17;gbkey=Gene;gene=FBXL17;gene_biotype=protein_coding\\n']\n",
      "['NW_005871048.1', 'Gnomon', 'mRNA', '16490629', '16935896', '.', '+', '.', 'ID=rna402;Parent=gene225;Dbxref=GeneID:102417759,Genbank:XM_006081173.2;Name=XM_006081173.2;gbkey=mRNA;gene=FBXL17;model_evidence=Supporting evidence includes similarity to: 3 mRNAs%2C 1 Protein%2C and 98%25 coverage of the annotated genomic feature by RNAseq alignments%2C including 24 samples with support for all annotated introns;product=F-box and leucine rich repeat protein 17;transcript_id=XM_006081173.2\\n']\n",
      "['NW_005871049.1', 'RefSeq', 'region', '1', '39494369', '.', '+', '.', 'ID=id14505;Dbxref=taxon:59463;Name=Unknown;chromosome=Unknown;country=USA: Framingham%2C MA;gbkey=Src;genome=genomic;mol_type=genomic DNA;sex=female\\n']\n",
      "['NW_005871049.1', 'RefSeq', 'region', '1', '39494369', '.', '+', '.', 'ID=id14505;Dbxref=taxon:59463;Name=Unknown;chromosome=Unknown;country=USA: Framingham%2C MA;gbkey=Src;genome=genomic;mol_type=genomic DNA;sex=female\\n']\n",
      "['NW_005871049.1', 'RefSeq', 'region', '1', '39494369', '.', '+', '.', 'ID=id14505;Dbxref=taxon:59463;Name=Unknown;chromosome=Unknown;country=USA: Framingham%2C MA;gbkey=Src;genome=genomic;mol_type=genomic DNA;sex=female\\n']\n",
      "['NW_005871051.1', 'RefSeq', 'region', '1', '30916457', '.', '+', '.', 'ID=id28999;Dbxref=taxon:59463;Name=Unknown;chromosome=Unknown;country=USA: Framingham%2C MA;gbkey=Src;genome=genomic;mol_type=genomic DNA;sex=female\\n']\n",
      "['NW_005871051.1', 'RefSeq', 'region', '1', '30916457', '.', '+', '.', 'ID=id28999;Dbxref=taxon:59463;Name=Unknown;chromosome=Unknown;country=USA: Framingham%2C MA;gbkey=Src;genome=genomic;mol_type=genomic DNA;sex=female\\n']\n",
      "['NW_005871053.1', 'RefSeq', 'region', '1', '20945196', '.', '+', '.', 'ID=id44306;Dbxref=taxon:59463;Name=Unknown;chromosome=Unknown;country=USA: Framingham%2C MA;gbkey=Src;genome=genomic;mol_type=genomic DNA;sex=female\\n']\n",
      "['NW_005871053.1', 'RefSeq', 'region', '1', '20945196', '.', '+', '.', 'ID=id44306;Dbxref=taxon:59463;Name=Unknown;chromosome=Unknown;country=USA: Framingham%2C MA;gbkey=Src;genome=genomic;mol_type=genomic DNA;sex=female\\n']\n",
      "['NW_005871053.1', 'Gnomon', 'gene', '8711696', '8718521', '.', '+', '.', 'ID=gene2288;Dbxref=GeneID:111823427;Name=LOC111823427;gbkey=Gene;gene=LOC111823427;gene_biotype=lncRNA\\n']\n",
      "['NW_005871053.1', 'Gnomon', 'lnc_RNA', '8711696', '8718521', '.', '+', '.', 'ID=rna3891;Parent=gene2288;Dbxref=GeneID:111823427,Genbank:XR_002826443.1;Name=XR_002826443.1;gbkey=ncRNA;gene=LOC111823427;model_evidence=Supporting evidence includes similarity to: 100%25 coverage of the annotated genomic feature by RNAseq alignments%2C including 1 sample with support for all annotated introns;product=uncharacterized LOC111823427;transcript_id=XR_002826443.1\\n']\n",
      "['NW_005871053.1', 'Gnomon', 'gene', '14979316', '15072600', '.', '-', '.', 'ID=gene2361;Dbxref=GeneID:102418508;Name=LOC102418508;gbkey=Gene;gene=LOC102418508;gene_biotype=protein_coding\\n']\n",
      "['NW_005871053.1', 'Gnomon', 'mRNA', '14979316', '15072600', '.', '-', '.', 'ID=rna4040;Parent=gene2361;Dbxref=GeneID:102418508,Genbank:XM_006083188.3;Name=XM_006083188.3;gbkey=mRNA;gene=LOC102418508;model_evidence=Supporting evidence includes similarity to: 6 mRNAs%2C 51 Proteins%2C and 34%25 coverage of the annotated genomic feature by RNAseq alignments;product=sodium channel protein type 2 subunit alpha%2C transcript variant X1;transcript_id=XM_006083188.3\\n']\n",
      "['NW_005871053.1', 'Gnomon', 'mRNA', '14979316', '15072394', '.', '-', '.', 'ID=rna4041;Parent=gene2361;Dbxref=GeneID:102418508,Genbank:XM_006083189.3;Name=XM_006083189.3;gbkey=mRNA;gene=LOC102418508;model_evidence=Supporting evidence includes similarity to: 4 mRNAs%2C 44 Proteins%2C and 33%25 coverage of the annotated genomic feature by RNAseq alignments;product=sodium channel protein type 2 subunit alpha%2C transcript variant X2;transcript_id=XM_006083189.3\\n']\n",
      "['NW_005871054.1', 'RefSeq', 'region', '1', '20779464', '.', '+', '.', 'ID=id51394;Dbxref=taxon:59463;Name=Unknown;chromosome=Unknown;country=USA: Framingham%2C MA;gbkey=Src;genome=genomic;mol_type=genomic DNA;sex=female\\n']\n",
      "['NW_005871056.1', 'RefSeq', 'region', '1', '18579217', '.', '+', '.', 'ID=id61133;Dbxref=taxon:59463;Name=Unknown;chromosome=Unknown;country=USA: Framingham%2C MA;gbkey=Src;genome=genomic;mol_type=genomic DNA;sex=female\\n']\n",
      "['NW_005871059.1', 'RefSeq', 'region', '1', '16239124', '.', '+', '.', 'ID=id75527;Dbxref=taxon:59463;Name=Unknown;chromosome=Unknown;country=USA: Framingham%2C MA;gbkey=Src;genome=genomic;mol_type=genomic DNA;sex=female\\n']\n",
      "['NW_005871062.1', 'RefSeq', 'region', '1', '15274826', '.', '+', '.', 'ID=id85264;Dbxref=taxon:59463;Name=Unknown;chromosome=Unknown;country=USA: Framingham%2C MA;gbkey=Src;genome=genomic;mol_type=genomic DNA;sex=female\\n']\n",
      "['NW_005871062.1', 'Gnomon', 'gene', '7590919', '7653791', '.', '+', '.', 'ID=gene4088;Dbxref=GeneID:102427812;Name=MASP1;gbkey=Gene;gene=MASP1;gene_biotype=protein_coding\\n']\n",
      "['NW_005871062.1', 'Gnomon', 'mRNA', '7590919', '7637874', '.', '+', '.', 'ID=rna7049;Parent=gene4088;Dbxref=GeneID:102427812,Genbank:XM_006084791.3;Name=XM_006084791.3;gbkey=mRNA;gene=MASP1;model_evidence=Supporting evidence includes similarity to: 3 mRNAs%2C 8 Proteins%2C and 99%25 coverage of the annotated genomic feature by RNAseq alignments%2C including 1 sample with support for all annotated introns;product=mannan binding lectin serine peptidase 1%2C transcript variant X1;transcript_id=XM_006084791.3\\n']\n",
      "['NW_005871062.1', 'Gnomon', 'mRNA', '7590957', '7653791', '.', '+', '.', 'ID=rna7050;Parent=gene4088;Dbxref=GeneID:102427812,Genbank:XM_006084792.3;Name=XM_006084792.3;gbkey=mRNA;gene=MASP1;model_evidence=Supporting evidence includes similarity to: 1 mRNA%2C 9 Proteins%2C and 72%25 coverage of the annotated genomic feature by RNAseq alignments;product=mannan binding lectin serine peptidase 1%2C transcript variant X2;transcript_id=XM_006084792.3\\n']\n",
      "['NW_005871064.1', 'RefSeq', 'region', '1', '15202523', '.', '+', '.', 'ID=id93550;Dbxref=taxon:59463;Name=Unknown;chromosome=Unknown;country=USA: Framingham%2C MA;gbkey=Src;genome=genomic;mol_type=genomic DNA;sex=female\\n']\n",
      "['NW_005871065.1', 'RefSeq', 'region', '1', '14577598', '.', '+', '.', 'ID=id95959;Dbxref=taxon:59463;Name=Unknown;chromosome=Unknown;country=USA: Framingham%2C MA;gbkey=Src;genome=genomic;mol_type=genomic DNA;sex=female\\n']\n",
      "['NW_005871073.1', 'RefSeq', 'region', '1', '10646666', '.', '+', '.', 'ID=id114773;Dbxref=taxon:59463;Name=Unknown;chromosome=Unknown;country=USA: Framingham%2C MA;gbkey=Src;genome=genomic;mol_type=genomic DNA;sex=female\\n']\n",
      "['NW_005871076.1', 'RefSeq', 'region', '1', '10643064', '.', '+', '.', 'ID=id119730;Dbxref=taxon:59463;Name=Unknown;chromosome=Unknown;country=USA: Framingham%2C MA;gbkey=Src;genome=genomic;mol_type=genomic DNA;sex=female\\n']\n",
      "['NW_005871076.1', 'Gnomon', 'gene', '3903932', '3912832', '.', '+', '.', 'ID=gene5943;Dbxref=GeneID:102433949;Name=GNPDA1;gbkey=Gene;gene=GNPDA1;gene_biotype=protein_coding\\n']\n",
      "['NW_005871076.1', 'Gnomon', 'mRNA', '3903932', '3912832', '.', '+', '.', 'ID=rna9907;Parent=gene5943;Dbxref=GeneID:102433949,Genbank:XM_006086425.3;Name=XM_006086425.3;gbkey=mRNA;gene=GNPDA1;model_evidence=Supporting evidence includes similarity to: 5 mRNAs%2C 12 Proteins%2C and 100%25 coverage of the annotated genomic feature by RNAseq alignments%2C including 26 samples with support for all annotated introns;product=glucosamine-6-phosphate deaminase 1;transcript_id=XM_006086425.3\\n']\n",
      "['NW_005871083.1', 'RefSeq', 'region', '1', '9082911', '.', '+', '.', 'ID=id133156;Dbxref=taxon:59463;Name=Unknown;chromosome=Unknown;country=USA: Framingham%2C MA;gbkey=Src;genome=genomic;mol_type=genomic DNA;sex=female\\n']\n",
      "['NW_005871083.1', 'Gnomon', 'gene', '3979298', '4208728', '.', '-', '.', 'ID=gene6576;Dbxref=GeneID:102420738;Name=CMIP;gbkey=Gene;gene=CMIP;gene_biotype=protein_coding\\n']\n",
      "['NW_005871083.1', 'Gnomon', 'mRNA', '3979298', '4208728', '.', '-', '.', 'ID=rna11031;Parent=gene6576;Dbxref=GeneID:102420738,Genbank:XM_006087043.3;Name=XM_006087043.3;Note=The sequence of the model RefSeq transcript was modified relative to this genomic sequence to represent the inferred CDS: deleted 1 base in 1 codon;exception=unclassified transcription discrepancy;gbkey=mRNA;gene=CMIP;model_evidence=Supporting evidence includes similarity to: 2 mRNAs%2C 5 Proteins%2C and 99%25 coverage of the annotated genomic feature by RNAseq alignments%2C including 23 samples with support for all annotated introns;product=c-Maf inducing protein;transcript_id=XM_006087043.3\\n']\n"
     ]
    },
    {
     "name": "stdout",
     "output_type": "stream",
     "text": [
      "['NW_005871087.1', 'RefSeq', 'region', '1', '8424078', '.', '+', '.', 'ID=id142776;Dbxref=taxon:59463;Name=Unknown;chromosome=Unknown;country=USA: Framingham%2C MA;gbkey=Src;genome=genomic;mol_type=genomic DNA;sex=female\\n']\n",
      "['NW_005871097.1', 'RefSeq', 'region', '1', '7348857', '.', '+', '.', 'ID=id162626;Dbxref=taxon:59463;Name=Unknown;chromosome=Unknown;country=USA: Framingham%2C MA;gbkey=Src;genome=genomic;mol_type=genomic DNA;sex=female\\n']\n",
      "['NW_005871097.1', 'Gnomon', 'gene', '3142067', '3321329', '.', '-', '.', 'ID=gene8121;Dbxref=GeneID:102440988;Name=REPS2;gbkey=Gene;gene=REPS2;gene_biotype=protein_coding\\n']\n",
      "['NW_005871097.1', 'Gnomon', 'mRNA', '3142067', '3321329', '.', '-', '.', 'ID=rna13665;Parent=gene8121;Dbxref=GeneID:102440988,Genbank:XM_023753740.1;Name=XM_023753740.1;gbkey=mRNA;gene=REPS2;model_evidence=Supporting evidence includes similarity to: 1 Protein%2C and 82%25 coverage of the annotated genomic feature by RNAseq alignments;product=RALBP1 associated Eps domain containing 2;transcript_id=XM_023753740.1\\n']\n",
      "['NW_005871100.1', 'RefSeq', 'region', '1', '7058687', '.', '+', '.', 'ID=id166315;Dbxref=taxon:59463;Name=Unknown;chromosome=Unknown;country=USA: Framingham%2C MA;gbkey=Src;genome=genomic;mol_type=genomic DNA;sex=female\\n']\n",
      "['NW_005871109.1', 'RefSeq', 'region', '1', '6495742', '.', '+', '.', 'ID=id181624;Dbxref=taxon:59463;Name=Unknown;chromosome=Unknown;country=USA: Framingham%2C MA;gbkey=Src;genome=genomic;mol_type=genomic DNA;sex=female\\n']\n",
      "['NW_005871109.1', 'Gnomon', 'gene', '1466518', '1571546', '.', '-', '.', 'ID=gene9207;Dbxref=GeneID:102429587;Name=ARNTL;gbkey=Gene;gene=ARNTL;gene_biotype=protein_coding\\n']\n",
      "['NW_005871109.1', 'Gnomon', 'mRNA', '1466518', '1571546', '.', '-', '.', 'ID=rna15437;Parent=gene9207;Dbxref=GeneID:102429587,Genbank:XM_014456589.2;Name=XM_014456589.2;gbkey=mRNA;gene=ARNTL;model_evidence=Supporting evidence includes similarity to: 2 mRNAs%2C 7 Proteins%2C and 100%25 coverage of the annotated genomic feature by RNAseq alignments%2C including 5 samples with support for all annotated introns;product=aryl hydrocarbon receptor nuclear translocator like%2C transcript variant X5;transcript_id=XM_014456589.2\\n']\n",
      "['NW_005871109.1', 'Gnomon', 'mRNA', '1466518', '1571546', '.', '-', '.', 'ID=rna15438;Parent=gene9207;Dbxref=GeneID:102429587,Genbank:XM_014456592.2;Name=XM_014456592.2;gbkey=mRNA;gene=ARNTL;model_evidence=Supporting evidence includes similarity to: 9 Proteins%2C and 100%25 coverage of the annotated genomic feature by RNAseq alignments%2C including 8 samples with support for all annotated introns;product=aryl hydrocarbon receptor nuclear translocator like%2C transcript variant X8;transcript_id=XM_014456592.2\\n']\n",
      "['NW_005871109.1', 'Gnomon', 'mRNA', '1466518', '1571546', '.', '-', '.', 'ID=rna15439;Parent=gene9207;Dbxref=GeneID:102429587,Genbank:XM_014456591.2;Name=XM_014456591.2;gbkey=mRNA;gene=ARNTL;model_evidence=Supporting evidence includes similarity to: 2 mRNAs%2C 13 Proteins%2C and 100%25 coverage of the annotated genomic feature by RNAseq alignments%2C including 9 samples with support for all annotated introns;product=aryl hydrocarbon receptor nuclear translocator like%2C transcript variant X7;transcript_id=XM_014456591.2\\n']\n",
      "['NW_005871109.1', 'Gnomon', 'mRNA', '1466518', '1571546', '.', '-', '.', 'ID=rna15440;Parent=gene9207;Dbxref=GeneID:102429587,Genbank:XM_023754517.1;Name=XM_023754517.1;gbkey=mRNA;gene=ARNTL;model_evidence=Supporting evidence includes similarity to: 2 Proteins%2C and 100%25 coverage of the annotated genomic feature by RNAseq alignments%2C including 10 samples with support for all annotated introns;product=aryl hydrocarbon receptor nuclear translocator like%2C transcript variant X9;transcript_id=XM_023754517.1\\n']\n",
      "['NW_005871109.1', 'Gnomon', 'mRNA', '1466518', '1571546', '.', '-', '.', 'ID=rna15441;Parent=gene9207;Dbxref=GeneID:102429587,Genbank:XM_014456590.2;Name=XM_014456590.2;gbkey=mRNA;gene=ARNTL;model_evidence=Supporting evidence includes similarity to: 8 Proteins%2C and 100%25 coverage of the annotated genomic feature by RNAseq alignments%2C including 10 samples with support for all annotated introns;product=aryl hydrocarbon receptor nuclear translocator like%2C transcript variant X6;transcript_id=XM_014456590.2\\n']\n",
      "['NW_005871109.1', 'Gnomon', 'mRNA', '1466518', '1571546', '.', '-', '.', 'ID=rna15442;Parent=gene9207;Dbxref=GeneID:102429587,Genbank:XM_014456593.2;Name=XM_014456593.2;gbkey=mRNA;gene=ARNTL;model_evidence=Supporting evidence includes similarity to: 1 Protein%2C and 100%25 coverage of the annotated genomic feature by RNAseq alignments%2C including 12 samples with support for all annotated introns;product=aryl hydrocarbon receptor nuclear translocator like%2C transcript variant X11;transcript_id=XM_014456593.2\\n']\n",
      "['NW_005871109.1', 'Gnomon', 'mRNA', '1466518', '1571546', '.', '-', '.', 'ID=rna15443;Parent=gene9207;Dbxref=GeneID:102429587,Genbank:XM_014456586.2;Name=XM_014456586.2;gbkey=mRNA;gene=ARNTL;model_evidence=Supporting evidence includes similarity to: 2 mRNAs%2C 7 Proteins%2C and 100%25 coverage of the annotated genomic feature by RNAseq alignments%2C including 12 samples with support for all annotated introns;product=aryl hydrocarbon receptor nuclear translocator like%2C transcript variant X1;transcript_id=XM_014456586.2\\n']\n",
      "['NW_005871109.1', 'Gnomon', 'mRNA', '1466518', '1571546', '.', '-', '.', 'ID=rna15444;Parent=gene9207;Dbxref=GeneID:102429587,Genbank:XM_014456588.2;Name=XM_014456588.2;gbkey=mRNA;gene=ARNTL;model_evidence=Supporting evidence includes similarity to: 2 mRNAs%2C 7 Proteins%2C and 100%25 coverage of the annotated genomic feature by RNAseq alignments%2C including 5 samples with support for all annotated introns;product=aryl hydrocarbon receptor nuclear translocator like%2C transcript variant X4;transcript_id=XM_014456588.2\\n']\n",
      "['NW_005871109.1', 'Gnomon', 'mRNA', '1466518', '1571546', '.', '-', '.', 'ID=rna15445;Parent=gene9207;Dbxref=GeneID:102429587,Genbank:XM_006089587.3;Name=XM_006089587.3;gbkey=mRNA;gene=ARNTL;model_evidence=Supporting evidence includes similarity to: 2 mRNAs%2C 7 Proteins%2C and 100%25 coverage of the annotated genomic feature by RNAseq alignments%2C including 4 samples with support for all annotated introns;product=aryl hydrocarbon receptor nuclear translocator like%2C transcript variant X2;transcript_id=XM_006089587.3\\n']\n",
      "['NW_005871109.1', 'Gnomon', 'mRNA', '1466518', '1503619', '.', '-', '.', 'ID=rna15446;Parent=gene9207;Dbxref=GeneID:102429587,Genbank:XM_023754516.1;Name=XM_023754516.1;gbkey=mRNA;gene=ARNTL;model_evidence=Supporting evidence includes similarity to: 2 mRNAs%2C 7 Proteins%2C and 100%25 coverage of the annotated genomic feature by RNAseq alignments%2C including 6 samples with support for all annotated introns;product=aryl hydrocarbon receptor nuclear translocator like%2C transcript variant X3;transcript_id=XM_023754516.1\\n']\n",
      "['NW_005871109.1', 'Gnomon', 'mRNA', '1469463', '1571546', '.', '-', '.', 'ID=rna15448;Parent=gene9207;Dbxref=GeneID:102429587,Genbank:XM_023754518.1;Name=XM_023754518.1;gbkey=mRNA;gene=ARNTL;model_evidence=Supporting evidence includes similarity to: 1 Protein%2C and 100%25 coverage of the annotated genomic feature by RNAseq alignments%2C including 3 samples with support for all annotated introns;product=aryl hydrocarbon receptor nuclear translocator like%2C transcript variant X10;transcript_id=XM_023754518.1\\n']\n",
      "['NW_005871116.1', 'RefSeq', 'region', '1', '5728823', '.', '+', '.', 'ID=id192215;Dbxref=taxon:59463;Name=Unknown;chromosome=Unknown;country=USA: Framingham%2C MA;gbkey=Src;genome=genomic;mol_type=genomic DNA;sex=female\\n']\n",
      "['NW_005871116.1', 'RefSeq', 'region', '1', '5728823', '.', '+', '.', 'ID=id192215;Dbxref=taxon:59463;Name=Unknown;chromosome=Unknown;country=USA: Framingham%2C MA;gbkey=Src;genome=genomic;mol_type=genomic DNA;sex=female\\n']\n",
      "['NW_005871120.1', 'RefSeq', 'region', '1', '5133329', '.', '+', '.', 'ID=id198514;Dbxref=taxon:59463;Name=Unknown;chromosome=Unknown;country=USA: Framingham%2C MA;gbkey=Src;genome=genomic;mol_type=genomic DNA;sex=female\\n']\n",
      "['NW_005871120.1', 'Gnomon', 'gene', '155809', '193637', '.', '-', '.', 'ID=gene9976;Dbxref=GeneID:102435020;Name=ABAT;gbkey=Gene;gene=ABAT;gene_biotype=protein_coding\\n']\n",
      "['NW_005871120.1', 'Gnomon', 'mRNA', '155809', '193637', '.', '-', '.', 'ID=rna16794;Parent=gene9976;Dbxref=GeneID:102435020,Genbank:XM_023755211.1;Name=XM_023755211.1;gbkey=mRNA;gene=ABAT;model_evidence=Supporting evidence includes similarity to: 5 mRNAs%2C 10 Proteins%2C and 100%25 coverage of the annotated genomic feature by RNAseq alignments%2C including 2 samples with support for all annotated introns;product=4-aminobutyrate aminotransferase;transcript_id=XM_023755211.1\\n']\n"
     ]
    },
    {
     "name": "stdout",
     "output_type": "stream",
     "text": [
      "['NW_005871122.1', 'RefSeq', 'region', '1', '5136827', '.', '+', '.', 'ID=id201139;Dbxref=taxon:59463;Name=Unknown;chromosome=Unknown;country=USA: Framingham%2C MA;gbkey=Src;genome=genomic;mol_type=genomic DNA;sex=female\\n']\n",
      "['NW_005871122.1', 'RefSeq', 'region', '1', '5136827', '.', '+', '.', 'ID=id201139;Dbxref=taxon:59463;Name=Unknown;chromosome=Unknown;country=USA: Framingham%2C MA;gbkey=Src;genome=genomic;mol_type=genomic DNA;sex=female\\n']\n",
      "['NW_005871122.1', 'Gnomon', 'gene', '3434412', '3529751', '.', '-', '.', 'ID=gene10137;Dbxref=GeneID:102437398;Name=PCDH17;gbkey=Gene;gene=PCDH17;gene_biotype=protein_coding\\n']\n",
      "['NW_005871122.1', 'Gnomon', 'mRNA', '3434412', '3529751', '.', '-', '.', 'ID=rna17052;Parent=gene10137;Dbxref=GeneID:102437398,Genbank:XM_006090529.3;Name=XM_006090529.3;gbkey=mRNA;gene=PCDH17;model_evidence=Supporting evidence includes similarity to: 2 mRNAs%2C 5 Proteins%2C and 95%25 coverage of the annotated genomic feature by RNAseq alignments;product=protocadherin 17;transcript_id=XM_006090529.3\\n']\n",
      "['NW_005871123.1', 'RefSeq', 'region', '1', '5160323', '.', '+', '.', 'ID=id201293;Dbxref=taxon:59463;Name=Unknown;chromosome=Unknown;country=USA: Framingham%2C MA;gbkey=Src;genome=genomic;mol_type=genomic DNA;sex=female\\n']\n",
      "['NW_005871126.1', 'RefSeq', 'region', '1', '5037443', '.', '+', '.', 'ID=id204375;Dbxref=taxon:59463;Name=Unknown;chromosome=Unknown;country=USA: Framingham%2C MA;gbkey=Src;genome=genomic;mol_type=genomic DNA;sex=female\\n']\n",
      "['NW_005871126.1', 'Gnomon', 'gene', '1709020', '2102226', '.', '+', '.', 'ID=gene10320;Dbxref=GeneID:102433978;Name=SOX5;gbkey=Gene;gene=SOX5;gene_biotype=protein_coding\\n']\n",
      "['NW_005871126.1', 'Gnomon', 'mRNA', '1709020', '2102226', '.', '+', '.', 'ID=rna17342;Parent=gene10320;Dbxref=GeneID:102433978,Genbank:XM_006090652.3;Name=XM_006090652.3;gbkey=mRNA;gene=SOX5;model_evidence=Supporting evidence includes similarity to: 6 mRNAs%2C 7 Proteins%2C and 94%25 coverage of the annotated genomic feature by RNAseq alignments;product=SRY-box 5;transcript_id=XM_006090652.3\\n']\n",
      "['NW_005871129.1', 'RefSeq', 'region', '1', '4918922', '.', '+', '.', 'ID=id207190;Dbxref=taxon:59463;Name=Unknown;chromosome=Unknown;country=USA: Framingham%2C MA;gbkey=Src;genome=genomic;mol_type=genomic DNA;sex=female\\n']\n",
      "['NW_005871129.1', 'Gnomon', 'gene', '2123766', '3029105', '.', '-', '.', 'ID=gene10442;Dbxref=GeneID:102423892;Name=MDGA2;gbkey=Gene;gene=MDGA2;gene_biotype=protein_coding\\n']\n",
      "['NW_005871129.1', 'Gnomon', 'mRNA', '2123766', '3029105', '.', '-', '.', 'ID=rna17512;Parent=gene10442;Dbxref=GeneID:102423892,Genbank:XM_006090751.3;Name=XM_006090751.3;gbkey=mRNA;gene=MDGA2;model_evidence=Supporting evidence includes similarity to: 5 mRNAs%2C 5 Proteins%2C and 17%25 coverage of the annotated genomic feature by RNAseq alignments;product=MAM domain containing glycosylphosphatidylinositol anchor 2%2C transcript variant X1;transcript_id=XM_006090751.3\\n']\n",
      "['NW_005871129.1', 'Gnomon', 'mRNA', '2123766', '2635771', '.', '-', '.', 'ID=rna17513;Parent=gene10442;Dbxref=GeneID:102423892,Genbank:XM_006090753.2;Name=XM_006090753.2;gbkey=mRNA;gene=MDGA2;model_evidence=Supporting evidence includes similarity to: 5 mRNAs%2C 1 Protein%2C and 9%25 coverage of the annotated genomic feature by RNAseq alignments;product=MAM domain containing glycosylphosphatidylinositol anchor 2%2C transcript variant X2;transcript_id=XM_006090753.2\\n']\n",
      "['NW_005871136.1', 'RefSeq', 'region', '1', '4679154', '.', '+', '.', 'ID=id215563;Dbxref=taxon:59463;Name=Unknown;chromosome=Unknown;country=USA: Framingham%2C MA;gbkey=Src;genome=genomic;mol_type=genomic DNA;sex=female\\n']\n",
      "['NW_005871136.1', 'Gnomon', 'gene', '4372562', '4411869', '.', '-', '.', 'ID=gene10904;Dbxref=GeneID:102426505;Name=FA2H;gbkey=Gene;gene=FA2H;gene_biotype=protein_coding\\n']\n",
      "['NW_005871136.1', 'Gnomon', 'mRNA', '4372562', '4411869', '.', '-', '.', 'ID=rna18385;Parent=gene10904;Dbxref=GeneID:102426505,Genbank:XM_006091226.3;Name=XM_006091226.3;gbkey=mRNA;gene=FA2H;model_evidence=Supporting evidence includes similarity to: 4 Proteins%2C and 100%25 coverage of the annotated genomic feature by RNAseq alignments%2C including 4 samples with support for all annotated introns;product=fatty acid 2-hydroxylase;transcript_id=XM_006091226.3\\n']\n",
      "['NW_005871140.1', 'RefSeq', 'region', '1', '4592439', '.', '+', '.', 'ID=id224920;Dbxref=taxon:59463;Name=Unknown;chromosome=Unknown;country=USA: Framingham%2C MA;gbkey=Src;genome=genomic;mol_type=genomic DNA;sex=female\\n']\n",
      "['NW_005871142.1', 'RefSeq', 'region', '1', '4514962', '.', '+', '.', 'ID=id226172;Dbxref=taxon:59463;Name=Unknown;chromosome=Unknown;country=USA: Framingham%2C MA;gbkey=Src;genome=genomic;mol_type=genomic DNA;sex=female\\n']\n",
      "['NW_005871142.1', 'RefSeq', 'region', '1', '4514962', '.', '+', '.', 'ID=id226172;Dbxref=taxon:59463;Name=Unknown;chromosome=Unknown;country=USA: Framingham%2C MA;gbkey=Src;genome=genomic;mol_type=genomic DNA;sex=female\\n']\n",
      "['NW_005871142.1', 'Gnomon', 'gene', '263205', '312860', '.', '+', '.', 'ID=gene11267;Dbxref=GeneID:102442682;Name=ADCY3;gbkey=Gene;gene=ADCY3;gene_biotype=protein_coding\\n']\n",
      "['NW_005871142.1', 'Gnomon', 'mRNA', '263205', '312362', '.', '+', '.', 'ID=rna19111;Parent=gene11267;Dbxref=GeneID:102442682,Genbank:XM_006091691.3;Name=XM_006091691.3;gbkey=mRNA;gene=ADCY3;model_evidence=Supporting evidence includes similarity to: 5 mRNAs%2C 10 Proteins%2C and 99%25 coverage of the annotated genomic feature by RNAseq alignments%2C including 1 sample with support for all annotated introns;product=adenylate cyclase 3%2C transcript variant X1;transcript_id=XM_006091691.3\\n']\n",
      "['NW_005871142.1', 'Gnomon', 'mRNA', '263528', '312860', '.', '+', '.', 'ID=rna19112;Parent=gene11267;Dbxref=GeneID:102442682,Genbank:XM_023756431.1;Name=XM_023756431.1;gbkey=mRNA;gene=ADCY3;model_evidence=Supporting evidence includes similarity to: 5 mRNAs%2C 10 Proteins%2C and 99%25 coverage of the annotated genomic feature by RNAseq alignments%2C including 14 samples with support for all annotated introns;product=adenylate cyclase 3%2C transcript variant X2;transcript_id=XM_023756431.1\\n']\n",
      "['NW_005871148.1', 'RefSeq', 'region', '1', '4444721', '.', '+', '.', 'ID=id238203;Dbxref=taxon:59463;Name=Unknown;chromosome=Unknown;country=USA: Framingham%2C MA;gbkey=Src;genome=genomic;mol_type=genomic DNA;sex=female\\n']\n",
      "['NW_005871148.1', 'Gnomon', 'gene', '2560994', '2842740', '.', '-', '.', 'ID=gene11898;Dbxref=GeneID:102438113;Name=CEP112;gbkey=Gene;gene=CEP112;gene_biotype=protein_coding\\n']\n",
      "['NW_005871148.1', 'Gnomon', 'mRNA', '2560994', '2842740', '.', '-', '.', 'ID=rna20342;Parent=gene11898;Dbxref=GeneID:102438113,Genbank:XM_014458887.2;Name=XM_014458887.2;gbkey=mRNA;gene=CEP112;model_evidence=Supporting evidence includes similarity to: 2 Proteins%2C and 100%25 coverage of the annotated genomic feature by RNAseq alignments;product=centrosomal protein 112;transcript_id=XM_014458887.2\\n']\n",
      "['NW_005871152.1', 'RefSeq', 'region', '1', '4256317', '.', '+', '.', 'ID=id248686;Dbxref=taxon:59463;Name=Unknown;chromosome=Unknown;country=USA: Framingham%2C MA;gbkey=Src;genome=genomic;mol_type=genomic DNA;sex=female\\n']\n",
      "['NW_005871154.1', 'RefSeq', 'region', '1', '4280553', '.', '+', '.', 'ID=id250845;Dbxref=taxon:59463;Name=Unknown;chromosome=Unknown;country=USA: Framingham%2C MA;gbkey=Src;genome=genomic;mol_type=genomic DNA;sex=female\\n']\n",
      "['NW_005871160.1', 'RefSeq', 'region', '1', '4019553', '.', '+', '.', 'ID=id259229;Dbxref=taxon:59463;Name=Unknown;chromosome=Unknown;country=USA: Framingham%2C MA;gbkey=Src;genome=genomic;mol_type=genomic DNA;sex=female\\n']\n",
      "['NW_005871166.1', 'RefSeq', 'region', '1', '3905128', '.', '+', '.', 'ID=id263990;Dbxref=taxon:59463;Name=Unknown;chromosome=Unknown;country=USA: Framingham%2C MA;gbkey=Src;genome=genomic;mol_type=genomic DNA;sex=female\\n']\n",
      "['NW_005871166.1', 'RefSeq', 'region', '1', '3905128', '.', '+', '.', 'ID=id263990;Dbxref=taxon:59463;Name=Unknown;chromosome=Unknown;country=USA: Framingham%2C MA;gbkey=Src;genome=genomic;mol_type=genomic DNA;sex=female\\n']\n",
      "['NW_005871166.1', 'RefSeq', 'region', '1', '3905128', '.', '+', '.', 'ID=id263990;Dbxref=taxon:59463;Name=Unknown;chromosome=Unknown;country=USA: Framingham%2C MA;gbkey=Src;genome=genomic;mol_type=genomic DNA;sex=female\\n']\n",
      "['NW_005871169.1', 'RefSeq', 'region', '1', '3838405', '.', '+', '.', 'ID=id267292;Dbxref=taxon:59463;Name=Unknown;chromosome=Unknown;country=USA: Framingham%2C MA;gbkey=Src;genome=genomic;mol_type=genomic DNA;sex=female\\n']\n",
      "['NW_005871177.1', 'RefSeq', 'region', '1', '3690467', '.', '+', '.', 'ID=id275767;Dbxref=taxon:59463;Name=Unknown;chromosome=Unknown;country=USA: Framingham%2C MA;gbkey=Src;genome=genomic;mol_type=genomic DNA;sex=female\\n']\n",
      "['NW_005871187.1', 'RefSeq', 'region', '1', '3538212', '.', '+', '.', 'ID=id285453;Dbxref=taxon:59463;Name=Unknown;chromosome=Unknown;country=USA: Framingham%2C MA;gbkey=Src;genome=genomic;mol_type=genomic DNA;sex=female\\n']\n",
      "['NW_005871187.1', 'Gnomon', 'gene', '1853352', '1968511', '.', '+', '.', 'ID=gene14209;Dbxref=GeneID:111827161;Name=LOC111827161;gbkey=Gene;gene=LOC111827161;gene_biotype=lncRNA\\n']\n",
      "['NW_005871187.1', 'Gnomon', 'lnc_RNA', '1853352', '1968511', '.', '+', '.', 'ID=rna24334;Parent=gene14209;Dbxref=GeneID:111827161,Genbank:XR_002830677.1;Name=XR_002830677.1;gbkey=ncRNA;gene=LOC111827161;model_evidence=Supporting evidence includes similarity to: 100%25 coverage of the annotated genomic feature by RNAseq alignments;product=uncharacterized LOC111827161;transcript_id=XR_002830677.1\\n']\n",
      "['NW_005871191.1', 'RefSeq', 'region', '1', '3403133', '.', '+', '.', 'ID=id287356;Dbxref=taxon:59463;Name=Unknown;chromosome=Unknown;country=USA: Framingham%2C MA;gbkey=Src;genome=genomic;mol_type=genomic DNA;sex=female\\n']\n",
      "['NW_005871191.1', 'Gnomon', 'gene', '2216577', '2888781', '.', '-', '.', 'ID=gene14416;Dbxref=GeneID:102435969;Name=NELL1;gbkey=Gene;gene=NELL1;gene_biotype=protein_coding\\n']\n",
      "['NW_005871191.1', 'Gnomon', 'mRNA', '2216577', '2888781', '.', '-', '.', 'ID=rna24556;Parent=gene14416;Dbxref=GeneID:102435969,Genbank:XM_023758901.1;Name=XM_023758901.1;gbkey=mRNA;gene=NELL1;model_evidence=Supporting evidence includes similarity to: 11 Proteins%2C and 94%25 coverage of the annotated genomic feature by RNAseq alignments;product=neural EGFL like 1;transcript_id=XM_023758901.1\\n']\n",
      "['NW_005871208.1', 'RefSeq', 'region', '1', '3092412', '.', '+', '.', 'ID=id304554;Dbxref=taxon:59463;Name=Unknown;chromosome=Unknown;country=USA: Framingham%2C MA;gbkey=Src;genome=genomic;mol_type=genomic DNA;sex=female\\n']\n",
      "['NW_005871210.1', 'RefSeq', 'region', '1', '3019976', '.', '+', '.', 'ID=id307691;Dbxref=taxon:59463;Name=Unknown;chromosome=Unknown;country=USA: Framingham%2C MA;gbkey=Src;genome=genomic;mol_type=genomic DNA;sex=female\\n']\n",
      "['NW_005871210.1', 'Gnomon', 'gene', '2499532', '3006516', '.', '+', '.', 'ID=gene15442;Dbxref=GeneID:102425362;Name=SORCS3;gbkey=Gene;gene=SORCS3;gene_biotype=protein_coding\\n']\n",
      "['NW_005871210.1', 'Gnomon', 'mRNA', '2499532', '3006516', '.', '+', '.', 'ID=rna26668;Parent=gene15442;Dbxref=GeneID:102425362,Genbank:XM_006095936.3;Name=XM_006095936.3;gbkey=mRNA;gene=SORCS3;model_evidence=Supporting evidence includes similarity to: 4 mRNAs%2C 11 Proteins%2C and 30%25 coverage of the annotated genomic feature by RNAseq alignments;product=sortilin related VPS10 domain containing receptor 3;transcript_id=XM_006095936.3\\n']\n",
      "['NW_005871211.1', 'RefSeq', 'region', '1', '3003176', '.', '+', '.', 'ID=id309627;Dbxref=taxon:59463;Name=Unknown;chromosome=Unknown;country=USA: Framingham%2C MA;gbkey=Src;genome=genomic;mol_type=genomic DNA;sex=female\\n']\n"
     ]
    },
    {
     "name": "stdout",
     "output_type": "stream",
     "text": [
      "['NW_005871219.1', 'RefSeq', 'region', '1', '2865968', '.', '+', '.', 'ID=id315315;Dbxref=taxon:59463;Name=Unknown;chromosome=Unknown;country=USA: Framingham%2C MA;gbkey=Src;genome=genomic;mol_type=genomic DNA;sex=female\\n']\n",
      "['NW_005871228.1', 'RefSeq', 'region', '1', '2723584', '.', '+', '.', 'ID=id320747;Dbxref=taxon:59463;Name=Unknown;chromosome=Unknown;country=USA: Framingham%2C MA;gbkey=Src;genome=genomic;mol_type=genomic DNA;sex=female\\n']\n",
      "['NW_005871231.1', 'RefSeq', 'region', '1', '2651257', '.', '+', '.', 'ID=id323591;Dbxref=taxon:59463;Name=Unknown;chromosome=Unknown;country=USA: Framingham%2C MA;gbkey=Src;genome=genomic;mol_type=genomic DNA;sex=female\\n']\n",
      "['NW_005871236.1', 'RefSeq', 'region', '1', '2551290', '.', '+', '.', 'ID=id327813;Dbxref=taxon:59463;Name=Unknown;chromosome=Unknown;country=USA: Framingham%2C MA;gbkey=Src;genome=genomic;mol_type=genomic DNA;sex=female\\n']\n",
      "['NW_005871243.1', 'RefSeq', 'region', '1', '2513712', '.', '+', '.', 'ID=id331702;Dbxref=taxon:59463;Name=Unknown;chromosome=Unknown;country=USA: Framingham%2C MA;gbkey=Src;genome=genomic;mol_type=genomic DNA;sex=female\\n']\n",
      "['NW_005871246.1', 'RefSeq', 'region', '1', '2532579', '.', '+', '.', 'ID=id335396;Dbxref=taxon:59463;Name=Unknown;chromosome=Unknown;country=USA: Framingham%2C MA;gbkey=Src;genome=genomic;mol_type=genomic DNA;sex=female\\n']\n",
      "['NW_005871246.1', 'Gnomon', 'gene', '1936775', '1992192', '.', '-', '.', 'ID=gene16883;Dbxref=GeneID:102429022;Name=CBFA2T3;gbkey=Gene;gene=CBFA2T3;gene_biotype=protein_coding\\n']\n",
      "['NW_005871246.1', 'Gnomon', 'mRNA', '1936775', '1992192', '.', '-', '.', 'ID=rna29149;Parent=gene16883;Dbxref=GeneID:102429022,Genbank:XM_006097355.3;Name=XM_006097355.3;gbkey=mRNA;gene=CBFA2T3;model_evidence=Supporting evidence includes similarity to: 2 mRNAs%2C 1 Protein%2C and 99%25 coverage of the annotated genomic feature by RNAseq alignments;product=CBFA2/RUNX1 translocation partner 3;transcript_id=XM_006097355.3\\n']\n",
      "['NW_005871250.1', 'RefSeq', 'region', '1', '2370814', '.', '+', '.', 'ID=id338256;Dbxref=taxon:59463;Name=Unknown;chromosome=Unknown;country=USA: Framingham%2C MA;gbkey=Src;genome=genomic;mol_type=genomic DNA;sex=female\\n']\n",
      "['NW_005871263.1', 'RefSeq', 'region', '1', '2259905', '.', '+', '.', 'ID=id349927;Dbxref=taxon:59463;Name=Unknown;chromosome=Unknown;country=USA: Framingham%2C MA;gbkey=Src;genome=genomic;mol_type=genomic DNA;sex=female\\n']\n",
      "['NW_005871279.1', 'RefSeq', 'region', '1', '1996049', '.', '+', '.', 'ID=id357671;Dbxref=taxon:59463;Name=Unknown;chromosome=Unknown;country=USA: Framingham%2C MA;gbkey=Src;genome=genomic;mol_type=genomic DNA;sex=female\\n']\n",
      "['NW_005871289.1', 'RefSeq', 'region', '1', '1901218', '.', '+', '.', 'ID=id361809;Dbxref=taxon:59463;Name=Unknown;chromosome=Unknown;country=USA: Framingham%2C MA;gbkey=Src;genome=genomic;mol_type=genomic DNA;sex=female\\n']\n",
      "['NW_005871299.1', 'RefSeq', 'region', '1', '1811804', '.', '+', '.', 'ID=id366663;Dbxref=taxon:59463;Name=Unknown;chromosome=Unknown;country=USA: Framingham%2C MA;gbkey=Src;genome=genomic;mol_type=genomic DNA;sex=female\\n']\n",
      "['NW_005871310.1', 'RefSeq', 'region', '1', '1841132', '.', '+', '.', 'ID=id371601;Dbxref=taxon:59463;Name=Unknown;chromosome=Unknown;country=USA: Framingham%2C MA;gbkey=Src;genome=genomic;mol_type=genomic DNA;sex=female\\n']\n",
      "['NW_005871310.1', 'Gnomon', 'gene', '1634027', '1669272', '.', '-', '.', 'ID=gene18766;Dbxref=GeneID:102443128;Name=GEMIN4;gbkey=Gene;gene=GEMIN4;gene_biotype=protein_coding\\n']\n",
      "['NW_005871310.1', 'Gnomon', 'mRNA', '1653940', '1669272', '.', '-', '.', 'ID=rna32507;Parent=gene18766;Dbxref=GeneID:102443128,Genbank:XM_023762809.1;Name=XM_023762809.1;gbkey=mRNA;gene=GEMIN4;model_evidence=Supporting evidence includes similarity to: 1 Protein%2C and 100%25 coverage of the annotated genomic feature by RNAseq alignments%2C including 8 samples with support for all annotated introns;product=gem nuclear organelle associated protein 4%2C transcript variant X2;transcript_id=XM_023762809.1\\n']\n",
      "['NW_005871310.1', 'Gnomon', 'gene', '1661352', '1661854', '.', '+', '.', 'ID=gene18768;Dbxref=GeneID:102421410;Name=LOC102421410;gbkey=Gene;gene=LOC102421410;gene_biotype=protein_coding\\n']\n",
      "['NW_005871310.1', 'Gnomon', 'mRNA', '1661352', '1661854', '.', '+', '.', 'ID=rna32510;Parent=gene18768;Dbxref=GeneID:102421410,Genbank:XM_023762812.1;Name=XM_023762812.1;gbkey=mRNA;gene=LOC102421410;model_evidence=Supporting evidence includes similarity to: 2 Proteins%2C and 100%25 coverage of the annotated genomic feature by RNAseq alignments;product=diazepam-binding inhibitor-like 5;transcript_id=XM_023762812.1\\n']\n",
      "['NW_005871310.1', 'Gnomon', 'exon', '1661352', '1661854', '.', '+', '.', 'ID=id372990;Parent=rna32510;Dbxref=GeneID:102421410,Genbank:XM_023762812.1;gbkey=mRNA;gene=LOC102421410;product=diazepam-binding inhibitor-like 5;transcript_id=XM_023762812.1\\n']\n",
      "['NW_005871317.1', 'RefSeq', 'region', '1', '1687824', '.', '+', '.', 'ID=id375042;Dbxref=taxon:59463;Name=Unknown;chromosome=Unknown;country=USA: Framingham%2C MA;gbkey=Src;genome=genomic;mol_type=genomic DNA;sex=female\\n']\n",
      "['NW_005871317.1', 'Gnomon', 'gene', '600265', '653579', '.', '-', '.', 'ID=gene18869;Dbxref=GeneID:102428308;Name=KREMEN1;gbkey=Gene;gene=KREMEN1;gene_biotype=protein_coding\\n']\n",
      "['NW_005871317.1', 'Gnomon', 'mRNA', '600265', '653579', '.', '-', '.', 'ID=rna32702;Parent=gene18869;Dbxref=GeneID:102428308,Genbank:XM_023762932.1;Name=XM_023762932.1;gbkey=mRNA;gene=KREMEN1;model_evidence=Supporting evidence includes similarity to: 1 Protein%2C and 100%25 coverage of the annotated genomic feature by RNAseq alignments%2C including 4 samples with support for all annotated introns;product=kringle containing transmembrane protein 1%2C transcript variant X1;transcript_id=XM_023762932.1\\n']\n",
      "['NW_005871317.1', 'Gnomon', 'mRNA', '600265', '653575', '.', '-', '.', 'ID=rna32703;Parent=gene18869;Dbxref=GeneID:102428308,Genbank:XM_023762933.1;Name=XM_023762933.1;gbkey=mRNA;gene=KREMEN1;model_evidence=Supporting evidence includes similarity to: 100%25 coverage of the annotated genomic feature by RNAseq alignments%2C including 4 samples with support for all annotated introns;product=kringle containing transmembrane protein 1%2C transcript variant X2;transcript_id=XM_023762933.1\\n']\n",
      "['NW_005871382.1', 'RefSeq', 'region', '1', '1180006', '.', '+', '.', 'ID=id412464;Dbxref=taxon:59463;Name=Unknown;chromosome=Unknown;country=USA: Framingham%2C MA;gbkey=Src;genome=genomic;mol_type=genomic DNA;sex=female\\n']\n",
      "['NW_005871402.1', 'RefSeq', 'region', '1', '1199787', '.', '+', '.', 'ID=id420521;Dbxref=taxon:59463;Name=Unknown;chromosome=Unknown;country=USA: Framingham%2C MA;gbkey=Src;genome=genomic;mol_type=genomic DNA;sex=female\\n']\n",
      "['NW_005871409.1', 'RefSeq', 'region', '1', '1211147', '.', '+', '.', 'ID=id422448;Dbxref=taxon:59463;Name=Unknown;chromosome=Unknown;country=USA: Framingham%2C MA;gbkey=Src;genome=genomic;mol_type=genomic DNA;sex=female\\n']\n",
      "['NW_005871413.1', 'RefSeq', 'region', '1', '1152308', '.', '+', '.', 'ID=id422894;Dbxref=taxon:59463;Name=Unknown;chromosome=Unknown;country=USA: Framingham%2C MA;gbkey=Src;genome=genomic;mol_type=genomic DNA;sex=female\\n']\n",
      "['NW_005871437.1', 'RefSeq', 'region', '1', '1012336', '.', '+', '.', 'ID=id432624;Dbxref=taxon:59463;Name=Unknown;chromosome=Unknown;country=USA: Framingham%2C MA;gbkey=Src;genome=genomic;mol_type=genomic DNA;sex=female\\n']\n",
      "['NW_005871439.1', 'RefSeq', 'region', '1', '978231', '.', '+', '.', 'ID=id433565;Dbxref=taxon:59463;Name=Unknown;chromosome=Unknown;country=USA: Framingham%2C MA;gbkey=Src;genome=genomic;mol_type=genomic DNA;sex=female\\n']\n",
      "['NW_005871447.1', 'RefSeq', 'region', '1', '1004160', '.', '+', '.', 'ID=id435422;Dbxref=taxon:59463;Name=Unknown;chromosome=Unknown;country=USA: Framingham%2C MA;gbkey=Src;genome=genomic;mol_type=genomic DNA;sex=female\\n']\n",
      "['NW_005871520.1', 'RefSeq', 'region', '1', '710619', '.', '+', '.', 'ID=id456862;Dbxref=taxon:59463;Name=Unknown;chromosome=Unknown;country=USA: Framingham%2C MA;gbkey=Src;genome=genomic;mol_type=genomic DNA;sex=female\\n']\n",
      "['NW_005871520.1', 'RefSeq', 'region', '1', '710619', '.', '+', '.', 'ID=id456862;Dbxref=taxon:59463;Name=Unknown;chromosome=Unknown;country=USA: Framingham%2C MA;gbkey=Src;genome=genomic;mol_type=genomic DNA;sex=female\\n']\n",
      "['NW_005871552.1', 'RefSeq', 'region', '1', '601910', '.', '+', '.', 'ID=id465901;Dbxref=taxon:59463;Name=Unknown;chromosome=Unknown;country=USA: Framingham%2C MA;gbkey=Src;genome=genomic;mol_type=genomic DNA;sex=female\\n']\n",
      "['NW_005871552.1', 'RefSeq', 'region', '1', '601910', '.', '+', '.', 'ID=id465901;Dbxref=taxon:59463;Name=Unknown;chromosome=Unknown;country=USA: Framingham%2C MA;gbkey=Src;genome=genomic;mol_type=genomic DNA;sex=female\\n']\n",
      "['NW_005871552.1', 'Gnomon', 'gene', '220806', '409594', '.', '-', '.', 'ID=gene23550;Dbxref=GeneID:102419356;Name=MKL2;gbkey=Gene;gene=MKL2;gene_biotype=protein_coding\\n']\n",
      "['NW_005871552.1', 'Gnomon', 'mRNA', '220806', '409594', '.', '-', '.', 'ID=rna40893;Parent=gene23550;Dbxref=GeneID:102419356,Genbank:XM_023744978.1;Name=XM_023744978.1;gbkey=mRNA;gene=MKL2;model_evidence=Supporting evidence includes similarity to: 3 mRNAs%2C 7 Proteins%2C and 100%25 coverage of the annotated genomic feature by RNAseq alignments%2C including 5 samples with support for all annotated introns;product=MKL1/myocardin like 2%2C transcript variant X2;transcript_id=XM_023744978.1\\n']\n",
      "['NW_005871552.1', 'Gnomon', 'mRNA', '220806', '409594', '.', '-', '.', 'ID=rna40894;Parent=gene23550;Dbxref=GeneID:102419356,Genbank:XM_023744982.1;Name=XM_023744982.1;gbkey=mRNA;gene=MKL2;model_evidence=Supporting evidence includes similarity to: 2 Proteins%2C and 100%25 coverage of the annotated genomic feature by RNAseq alignments%2C including 3 samples with support for all annotated introns;product=MKL1/myocardin like 2%2C transcript variant X8;transcript_id=XM_023744982.1\\n']\n",
      "['NW_005871552.1', 'Gnomon', 'transcript', '220806', '409594', '.', '-', '.', 'ID=rna40895;Parent=gene23550;Dbxref=GeneID:102419356,Genbank:XR_002826495.1;Name=XR_002826495.1;gbkey=misc_RNA;gene=MKL2;model_evidence=Supporting evidence includes similarity to: 3 mRNAs%2C 7 Proteins%2C and 100%25 coverage of the annotated genomic feature by RNAseq alignments%2C including 2 samples with support for all annotated introns;product=MKL1/myocardin like 2%2C transcript variant X5;transcript_id=XR_002826495.1\\n']\n",
      "['NW_005871552.1', 'Gnomon', 'mRNA', '220806', '409594', '.', '-', '.', 'ID=rna40896;Parent=gene23550;Dbxref=GeneID:102419356,Genbank:XM_014446123.2;Name=XM_014446123.2;gbkey=mRNA;gene=MKL2;model_evidence=Supporting evidence includes similarity to: 3 mRNAs%2C 7 Proteins%2C and 100%25 coverage of the annotated genomic feature by RNAseq alignments%2C including 2 samples with support for all annotated introns;product=MKL1/myocardin like 2%2C transcript variant X1;transcript_id=XM_014446123.2\\n']\n",
      "['NW_005871552.1', 'Gnomon', 'mRNA', '220806', '409594', '.', '-', '.', 'ID=rna40897;Parent=gene23550;Dbxref=GeneID:102419356,Genbank:XM_023744979.1;Name=XM_023744979.1;gbkey=mRNA;gene=MKL2;model_evidence=Supporting evidence includes similarity to: 3 mRNAs%2C 7 Proteins%2C and 100%25 coverage of the annotated genomic feature by RNAseq alignments;product=MKL1/myocardin like 2%2C transcript variant X3;transcript_id=XM_023744979.1\\n']\n",
      "['NW_005871552.1', 'Gnomon', 'mRNA', '220806', '398116', '.', '-', '.', 'ID=rna40898;Parent=gene23550;Dbxref=GeneID:102419356,Genbank:XM_023744981.1;Name=XM_023744981.1;gbkey=mRNA;gene=MKL2;model_evidence=Supporting evidence includes similarity to: 3 mRNAs%2C 7 Proteins%2C and 100%25 coverage of the annotated genomic feature by RNAseq alignments%2C including 1 sample with support for all annotated introns;product=MKL1/myocardin like 2%2C transcript variant X6;transcript_id=XM_023744981.1\\n']\n",
      "['NW_005871552.1', 'Gnomon', 'mRNA', '220806', '398116', '.', '-', '.', 'ID=rna40899;Parent=gene23550;Dbxref=GeneID:102419356,Genbank:XM_023744980.1;Name=XM_023744980.1;gbkey=mRNA;gene=MKL2;model_evidence=Supporting evidence includes similarity to: 3 mRNAs%2C 7 Proteins%2C and 100%25 coverage of the annotated genomic feature by RNAseq alignments%2C including 1 sample with support for all annotated introns;product=MKL1/myocardin like 2%2C transcript variant X4;transcript_id=XM_023744980.1\\n']\n",
      "['NW_005871552.1', 'Gnomon', 'mRNA', '224715', '409594', '.', '-', '.', 'ID=rna40901;Parent=gene23550;Dbxref=GeneID:102419356,Genbank:XM_023744983.1;Name=XM_023744983.1;gbkey=mRNA;gene=MKL2;model_evidence=Supporting evidence includes similarity to: 3 mRNAs%2C 6 Proteins%2C and 100%25 coverage of the annotated genomic feature by RNAseq alignments%2C including 1 sample with support for all annotated introns;product=MKL1/myocardin like 2%2C transcript variant X9;transcript_id=XM_023744983.1\\n']\n",
      "['NW_005871552.1', 'Gnomon', 'gene', '499696', '528146', '.', '-', '.', 'ID=gene23553;Dbxref=GeneID:102420083;Name=ERCC4;gbkey=Gene;gene=ERCC4;gene_biotype=protein_coding\\n']\n",
      "['NW_005871552.1', 'Gnomon', 'mRNA', '499696', '528146', '.', '-', '.', 'ID=rna40903;Parent=gene23553;Dbxref=GeneID:102420083,Genbank:XM_023744977.1;Name=XM_023744977.1;gbkey=mRNA;gene=ERCC4;model_evidence=Supporting evidence includes similarity to: 1 mRNA%2C and 100%25 coverage of the annotated genomic feature by RNAseq alignments%2C including 4 samples with support for all annotated introns;product=ERCC excision repair 4%2C endonuclease catalytic subunit%2C transcript variant X2;transcript_id=XM_023744977.1\\n']\n",
      "['NW_005871552.1', 'Gnomon', 'mRNA', '499696', '528145', '.', '-', '.', 'ID=rna40904;Parent=gene23553;Dbxref=GeneID:102420083,Genbank:XM_006103752.3;Name=XM_006103752.3;gbkey=mRNA;gene=ERCC4;model_evidence=Supporting evidence includes similarity to: 5 mRNAs%2C 3 Proteins%2C and 100%25 coverage of the annotated genomic feature by RNAseq alignments%2C including 10 samples with support for all annotated introns;product=ERCC excision repair 4%2C endonuclease catalytic subunit%2C transcript variant X1;transcript_id=XM_006103752.3\\n']\n",
      "['NW_005871562.1', 'RefSeq', 'region', '1', '592368', '.', '+', '.', 'ID=id468296;Dbxref=taxon:59463;Name=Unknown;chromosome=Unknown;country=USA: Framingham%2C MA;gbkey=Src;genome=genomic;mol_type=genomic DNA;sex=female\\n']\n"
     ]
    },
    {
     "name": "stdout",
     "output_type": "stream",
     "text": [
      "['NW_005871763.1', 'RefSeq', 'region', '1', '283313', '.', '+', '.', 'ID=id502584;Dbxref=taxon:59463;Name=Unknown;chromosome=Unknown;country=USA: Framingham%2C MA;gbkey=Src;genome=genomic;mol_type=genomic DNA;sex=female\\n']\n",
      "['NW_005871846.1', 'RefSeq', 'region', '1', '211799', '.', '+', '.', 'ID=id512757;Dbxref=taxon:59463;Name=Unknown;chromosome=Unknown;country=USA: Framingham%2C MA;gbkey=Src;genome=genomic;mol_type=genomic DNA;sex=female\\n']\n",
      "['NW_005871967.1', 'RefSeq', 'region', '1', '145539', '.', '+', '.', 'ID=id520168;Dbxref=taxon:59463;Name=Unknown;chromosome=Unknown;country=USA: Framingham%2C MA;gbkey=Src;genome=genomic;mol_type=genomic DNA;sex=female\\n']\n",
      "['NW_005872028.1', 'RefSeq', 'region', '1', '123542', '.', '+', '.', 'ID=id524264;Dbxref=taxon:59463;Name=Unknown;chromosome=Unknown;country=USA: Framingham%2C MA;gbkey=Src;genome=genomic;mol_type=genomic DNA;sex=female\\n']\n",
      "['NW_005872028.1', 'Gnomon', 'gene', '5481', '98250', '.', '-', '.', 'ID=gene27256;Dbxref=GeneID:102417583;Name=RAPGEF1;gbkey=Gene;gene=RAPGEF1;gene_biotype=protein_coding\\n']\n",
      "['NW_005872028.1', 'Gnomon', 'mRNA', '5481', '98250', '.', '-', '.', 'ID=rna46592;Parent=gene27256;Dbxref=GeneID:102417583,Genbank:XM_023747795.1;Name=XM_023747795.1;gbkey=mRNA;gene=RAPGEF1;model_evidence=Supporting evidence includes similarity to: 7 Proteins%2C and 100%25 coverage of the annotated genomic feature by RNAseq alignments%2C including 1 sample with support for all annotated introns;product=Rap guanine nucleotide exchange factor 1%2C transcript variant X2;transcript_id=XM_023747795.1\\n']\n",
      "['NW_005872028.1', 'Gnomon', 'mRNA', '5481', '98250', '.', '-', '.', 'ID=rna46593;Parent=gene27256;Dbxref=GeneID:102417583,Genbank:XM_023747793.1;Name=XM_023747793.1;gbkey=mRNA;gene=RAPGEF1;model_evidence=Supporting evidence includes similarity to: 1 Protein%2C and 100%25 coverage of the annotated genomic feature by RNAseq alignments;product=Rap guanine nucleotide exchange factor 1%2C transcript variant X1;transcript_id=XM_023747793.1\\n']\n",
      "['NW_005872120.1', 'RefSeq', 'region', '1', '106138', '.', '+', '.', 'ID=id527572;Dbxref=taxon:59463;Name=Unknown;chromosome=Unknown;country=USA: Framingham%2C MA;gbkey=Src;genome=genomic;mol_type=genomic DNA;sex=female\\n']\n",
      "['NW_005872156.1', 'RefSeq', 'region', '1', '96376', '.', '+', '.', 'ID=id529614;Dbxref=taxon:59463;Name=Unknown;chromosome=Unknown;country=USA: Framingham%2C MA;gbkey=Src;genome=genomic;mol_type=genomic DNA;sex=female\\n']\n",
      "['NW_005875640.1', 'RefSeq', 'region', '1', '14423', '.', '+', '.', 'ID=id554157;Dbxref=taxon:59463;Name=Unknown;chromosome=Unknown;country=USA: Framingham%2C MA;gbkey=Src;genome=genomic;mol_type=genomic DNA;sex=female\\n']\n"
     ]
    },
    {
     "data": {
      "text/plain": [
       "160"
      ]
     },
     "execution_count": 15,
     "metadata": {},
     "output_type": "execute_result"
    }
   ],
   "source": [
    "f=open('/local/home/sarahgw/WGS/SNPS/All_mylu/snps/NJNY50noout2_sigCompvaluesNe424_296.csv', 'r')\n",
    "a=open('/local/home/sarahgw/references/ref_Myoluc2.0_top_level.gff3', 'r')\n",
    "flines = f.readlines()[1:]\n",
    "chrom_dict = {}\n",
    "for line in flines:\n",
    "    line = line.replace('\"', '')\n",
    "    args = line.split(',')\n",
    "    if args[2] in chrom_dict:\n",
    "        chrom_dict[args[2]].append(int(args[3]))\n",
    "    else:\n",
    "        chrom_dict[args[2]] = [int(args[3])]\n",
    "        \n",
    "aline = a.readline()\n",
    "count = 0\n",
    "while aline:\n",
    "    agroups = aline.split('\\t')\n",
    "    #print(agroups)\n",
    "    chrom = agroups[0]\n",
    "    if chrom in chrom_dict:\n",
    "        for loc in chrom_dict[chrom]:\n",
    "        # loc = chrom_dict[chrom]\n",
    "            if int(agroups[3]) < (loc) and int(agroups[4]) > (loc):\n",
    "                count += 1\n",
    "                print agroups\n",
    "    aline = a.readline()\n",
    "count"
   ]
  },
  {
   "cell_type": "code",
   "execution_count": 6,
   "metadata": {
    "scrolled": false
   },
   "outputs": [
    {
     "name": "stdout",
     "output_type": "stream",
     "text": [
      "\"\",\"Scaffold\",\"NewScaf\",\"SNP\",\"Maj\",\"Min\",\"NJ\",\"NY\",\"NY_out\",\"Comp\",\"rank\",\"padjBH\"\r\n",
      "\"1\",\"GL429767\",\"NW_005871048.1\",22649683,\"T\",\"A\",0.000658999341000659,9.99999000001e-07,4.999995000005e-06,6.76490539011496e-08,22,3.22067863065821e-07\r\n",
      "\"2\",\"GL429767\",\"NW_005871048.1\",16839644,\"T\",\"A\",8.3999916000084e-05,0.000181999818000182,0.000496999503000497,7.51112494690409e-07,58,8.49088002628074e-07\r\n",
      "\"3\",\"GL429767\",\"NW_005871048.1\",46534125,\"C\",\"T\",6.6999933000067e-05,9.99999000001e-07,9.99999000001e-07,1.63656087014458e-09,7,1.02476138248216e-07\r\n",
      "\"4\",\"GL429768\",\"NW_005871049.1\",29962249,\"A\",\"G\",9.99999000001e-07,0.00581299418700581,0.00524199475800524,1.05188721947827e-07,26,3.80625656350516e-07\r\n",
      "\"5\",\"GL429768\",\"NW_005871049.1\",9041952,\"A\",\"G\",0.048968951031049,1.5999984000016e-05,9.99999000001e-07,8.73217398285339e-07,61,8.93006347591595e-07\r\n",
      "\"6\",\"GL429768\",\"NW_005871049.1\",3921142,\"G\",\"C\",9.99999000001e-07,0.0138399861600138,0.0280749719250281,5.16252970035752e-07,50,7.31972416058684e-07\r\n",
      "\"7\",\"GL429770\",\"NW_005871051.1\",8507307,\"A\",\"C\",9.99999000001e-07,1.8999981000019e-05,9.99999000001e-07,2.86309658539673e-11,1,1.46394483211737e-08\r\n",
      "\"8\",\"GL429772\",\"NW_005871053.1\",14993622,\"T\",\"C\",0.000900999099000901,9.99999000001e-07,2.6999973000027e-05,4.50819301860989e-07,47,6.88054071095163e-07\r\n",
      "\"9\",\"GL429773\",\"NW_005871054.1\",7204887,\"C\",\"T\",9.99999000001e-07,0.0135549864450136,0.0467109532890467,8.35157758643677e-07,60,8.78366899270421e-07\r\n",
      "\"10\",\"GL429775\",\"NW_005871056.1\",5556309,\"A\",\"C\",9.99999000001e-07,0.00431799568200432,0.0102299897700102,1.984405626376e-07,36,5.27020139562253e-07\r\n",
      "\"11\",\"GL429778\",\"NW_005871059.1\",3561000,\"G\",\"A\",9.99999000001e-07,0.00142299857700142,0.00301099698900301,6.20896935343502e-08,21,3.07428414744647e-07\r\n",
      "\"12\",\"GL429781\",\"NW_005871062.1\",7594948,\"A\",\"T\",0.0174109825890174,9.99999000001e-07,9.99999000001e-07,3.28478153115638e-07,43,6.29496277810469e-07\r\n",
      "\"13\",\"GL429783\",\"NW_005871064.1\",665407,\"C\",\"T\",9.99999000001e-07,0.0314659685340315,0.0352159647840352,6.39583518497396e-07,54,7.90530209343379e-07\r\n",
      "\"14\",\"GL429792\",\"NW_005871073.1\",753145,\"C\",\"A\",9.99999000001e-07,0.00207199792800207,0.0175109824890175,3.30264479481087e-07,44,6.44135726131642e-07\r\n",
      "\"15\",\"GL429801\",\"NW_005871082.1\",6986210,\"A\",\"T\",9.99999000001e-07,0.0317839682160318,0.0505529494470506,8.99854013380987e-07,62,9.07645795912769e-07\r\n",
      "\"16\",\"GL429802\",\"NW_005871083.1\",4091453,\"C\",\"T\",0.00107099892900107,0.000736999263000737,7.999992000008e-06,1.6772026521986e-07,33,4.83101794598732e-07\r\n",
      "\"17\",\"GL429806\",\"NW_005871087.1\",3311579,\"T\",\"C\",0.000325999674000326,0.00107399892600107,5.8999941000059e-05,3.60955837270425e-07,46,6.7341462277399e-07\r\n",
      "\"18\",\"GL429816\",\"NW_005871097.1\",3229647,\"G\",\"A\",0.00823499176500823,9.99999000001e-07,9.99999000001e-07,1.61528168231258e-07,31,4.53822897956384e-07\r\n",
      "\"19\",\"GL429819\",\"NW_005871100.1\",365354,\"G\",\"A\",9.99999000001e-07,7.8999921000079e-05,9.99999000001e-07,2.86309658539673e-11,2,2.92788966423474e-08\r\n",
      "\"20\",\"GL429835\",\"NW_005871116.1\",2966433,\"A\",\"G\",0.000162999837000163,1.999998000002e-05,0.000224999775000225,6.64592672725197e-07,55,8.05169657664553e-07\r\n",
      "\"21\",\"GL429841\",\"NW_005871122.1\",612532,\"G\",\"A\",9.99999000001e-07,0.000390999609000391,0.000982999017000983,2.13707842162624e-08,16,2.34231173138779e-07\r\n",
      "\"22\",\"GL429841\",\"NW_005871122.1\",3522450,\"A\",\"G\",1.999998000002e-06,0.00206899793100207,0.00463799536200464,1.8084302619898e-07,35,5.12380691241079e-07\r\n",
      "\"23\",\"GL429842\",\"NW_005871123.1\",4124241,\"A\",\"G\",0.00268099731900268,9.99999000001e-07,9.99999000001e-07,5.55959948661457e-08,20,2.92788966423474e-07\r\n",
      "\"24\",\"GL429845\",\"NW_005871126.1\",2091046,\"C\",\"T\",9.99999000001e-07,0.0241799758200242,0.038978961021039,7.03968874018495e-07,57,8.344485543069e-07\r\n",
      "\"25\",\"GL429855\",\"NW_005871136.1\",4401152,\"G\",\"C\",0.0297719702280298,9.99999000001e-07,9.99999000001e-07,5.45710721569447e-07,51,7.46611864379858e-07\r\n",
      "\"26\",\"GL429859\",\"NW_005871140.1\",300331,\"T\",\"C\",9.99999000001e-07,9.99999000001e-07,9.99999000001e-07,2.86309658539673e-11,3,4.39183449635211e-08\r\n",
      "\"27\",\"GL429861\",\"NW_005871142.1\",3065399,\"A\",\"G\",9.99999000001e-07,0.00132899867100133,0.00737799262200738,1.45529026866075e-07,29,4.24544001314037e-07\r\n",
      "\"28\",\"GL429861\",\"NW_005871142.1\",293372,\"A\",\"G\",0.00230699769300231,9.99999000001e-07,9.99999000001e-07,4.81869505378886e-08,19,2.781495181023e-07\r\n",
      "\"29\",\"GL429867\",\"NW_005871148.1\",2575249,\"A\",\"G\",9.99999000001e-07,0.00710699289300711,0.024982975017025,4.62311295233362e-07,48,7.02693519416337e-07\r\n",
      "\"30\",\"GL429873\",\"NW_005871154.1\",2056629,\"T\",\"A\",9.99999000001e-07,0.00961999038000962,0.0375449624550375,6.79477824663983e-07,56,8.19809105985727e-07\r\n",
      "\"31\",\"GL429879\",\"NW_005871160.1\",384336,\"G\",\"A\",9.99999000001e-07,0.000404999595000405,0.00848999151000849,1.66271043780668e-07,32,4.68462346277558e-07\r\n",
      "\"32\",\"GL429885\",\"NW_005871166.1\",617822,\"C\",\"T\",0.0165579834420166,8.4999915000085e-05,9.99999000001e-07,3.1321709940242e-07,41,6.00217381168121e-07\r\n",
      "\"33\",\"GL429885\",\"NW_005871166.1\",2043530,\"T\",\"C\",9.99999000001e-07,1.5999984000016e-05,4.999995000005e-06,1.35107655802021e-10,6,8.78366899270421e-08\r\n",
      "\"34\",\"GL429885\",\"NW_005871166.1\",3445677,\"T\",\"A\",9.99999000001e-07,0.0903969096030904,0.0269469730530269,4.96615937088989e-07,49,7.17332967737511e-07\r\n",
      "\"35\",\"GL429888\",\"NW_005871169.1\",3508435,\"A\",\"T\",9.99999000001e-07,0.00245899754100246,0.0066009933990066,1.30937482287565e-07,28,4.09904552992863e-07\r\n",
      "\"36\",\"GL429910\",\"NW_005871191.1\",2414078,\"A\",\"C\",3.6999963000037e-05,0.00016999983000017,0.000292999707000293,2.0966378992665e-07,37,5.41659587883426e-07\r\n",
      "\"37\",\"GL429927\",\"NW_005871208.1\",1241213,\"A\",\"G\",9.99999000001e-07,5.999994000006e-06,0.000432999567000433,9.76858403579376e-09,12,1.75673379854084e-07\r\n",
      "\"38\",\"GL429929\",\"NW_005871210.1\",2943933,\"G\",\"T\",9.99999000001e-07,0.00260599739400261,0.00605799394200606,1.2068655688402e-07,27,3.95265104671689e-07\r\n",
      "\"39\",\"GL429930\",\"NW_005871211.1\",2586279,\"C\",\"T\",0.0324769675230325,0.00338599661400339,9.99999000001e-07,5.92468142081862e-07,52,7.61251312701032e-07\r\n",
      "\"40\",\"GL429950\",\"NW_005871231.1\",2444879,\"G\",\"A\",9.99999000001e-06,6.3999936000064e-05,0.00340799659200341,6.20069267021111e-07,53,7.75890761022205e-07\r\n",
      "\"41\",\"GL429955\",\"NW_005871236.1\",1484586,\"G\",\"A\",0.00405399594600405,9.99999000001e-07,9.99999000001e-07,8.23915628170559e-08,24,3.51346759708168e-07\r\n",
      "\"42\",\"GL429962\",\"NW_005871243.1\",689293,\"A\",\"C\",9.99999000001e-07,9.99999000001e-07,9.99999000001e-07,2.86309658539673e-11,4,5.85577932846947e-08\r\n",
      "\"43\",\"GL429965\",\"NW_005871246.1\",1956978,\"G\",\"A\",0.00226699773300227,9.99999000001e-07,9.99999000001e-07,4.73911105428389e-08,17,2.48870621459953e-07\r\n",
      "\"44\",\"GL429998\",\"NW_005871279.1\",99324,\"C\",\"G\",0.0111779888220112,1.999998000002e-06,9.99999000001e-07,2.15839150367706e-07,38,5.562990362046e-07\r\n",
      "\"45\",\"GL430008\",\"NW_005871289.1\",1396110,\"C\",\"T\",9.99999000001e-07,4.6999953000047e-05,3.999996000004e-06,1.08978697061728e-10,5,7.31972416058684e-08\r\n",
      "\"46\",\"GL430018\",\"NW_005871299.1\",180278,\"T\",\"A\",0.00031999968000032,9.99999000001e-07,9.99999000001e-07,7.31605004633541e-09,11,1.61033931532911e-07\r\n",
      "\"47\",\"GL430029\",\"NW_005871310.1\",1661413,\"A\",\"C\",0.000193999806000194,9.99999000001e-07,9.99999000001e-07,4.53244493673727e-09,10,1.46394483211737e-07\r\n",
      "\"48\",\"GL430036\",\"NW_005871317.1\",626424,\"G\",\"T\",0.000117999882000118,0.0111409888590111,9.99999000001e-07,2.81551431096107e-09,9,1.31755034890563e-07\r\n",
      "\"49\",\"GL430101\",\"NW_005871382.1\",496908,\"T\",\"C\",0.00087999912000088,9.99999000001e-07,9.99999000001e-07,1.92289306055602e-08,15,2.19591724817605e-07\r\n",
      "\"50\",\"GL430121\",\"NW_005871402.1\",936584,\"T\",\"C\",0.00165499834500166,6.999993000007e-06,1.999998000002e-06,6.79419821493799e-08,23,3.36707311386995e-07\r\n",
      "\"51\",\"GL430156\",\"NW_005871437.1\",916661,\"C\",\"T\",0.00739299260700739,9.99999000001e-07,9.99999000001e-07,1.45809882545218e-07,30,4.39183449635211e-07\r\n",
      "\"52\",\"GL430158\",\"NW_005871439.1\",593841,\"T\",\"G\",8.2999917000083e-05,0.00211299788700211,9.99999000001e-07,2.0096071289586e-09,8,1.17115586569389e-07\r\n",
      "\"53\",\"GL430166\",\"NW_005871447.1\",11932,\"C\",\"T\",9.99999000001e-07,0.000518999481000519,0.0174039825960174,3.28353088798896e-07,42,6.14856829489295e-07\r\n",
      "\"54\",\"GL430239\",\"NW_005871520.1\",60326,\"T\",\"C\",9.99999000001e-07,0.0485469514530485,0.0123209876790123,2.36710119170129e-07,40,5.85577932846947e-07\r\n",
      "\"55\",\"GL430239\",\"NW_005871520.1\",60325,\"G\",\"A\",9.99999000001e-07,0.0349019650980349,0.00902499097500903,1.76197153333374e-07,34,4.97741242919905e-07\r\n",
      "\"56\",\"GL430271\",\"NW_005871552.1\",525210,\"C\",\"T\",9.99999000001e-07,0.00272999727000273,0.00443899556100444,8.98133914116713e-08,25,3.65986208029342e-07\r\n",
      "\"57\",\"GL430281\",\"NW_005871562.1\",514067,\"T\",\"C\",7.3999926000074e-05,0.000273999726000274,0.000154999845000155,2.21181680065992e-07,39,5.70938484525774e-07\r\n",
      "\"58\",\"GL430482\",\"NW_005871763.1\",173352,\"C\",\"T\",4.999995000005e-06,0.000160999839000161,0.000133999866000134,1.48228797745992e-08,14,2.04952276496432e-07\r\n",
      "\"59\",\"GL430565\",\"NW_005871846.1\",94959,\"A\",\"G\",0.00397899602100398,8.4999915000085e-05,1.0999989000011e-05,7.85404335619887e-07,59,8.63727450949248e-07\r\n",
      "\"60\",\"GL430686\",\"NW_005871967.1\",91034,\"C\",\"T\",9.99999000001e-07,0.00107699892300108,0.00227699772300228,4.75901362262199e-08,18,2.63510069781126e-07\r\n",
      "\"61\",\"GL430746\",\"NW_005872028.1\",9663,\"C\",\"T\",0.0184529815470185,9.99999000001e-07,9.99999000001e-07,3.47064084194162e-07,45,6.58775174452816e-07\r\n"
     ]
    }
   ],
   "source": [
    "!head -n 62 /local/home/sarahgw/WGS/SNPS/All_mylu/snps/NJNY502_sigCompvalues_nr_Ne424_296.csv"
   ]
  },
  {
   "cell_type": "code",
   "execution_count": 5,
   "metadata": {
    "scrolled": true
   },
   "outputs": [
    {
     "name": "stdout",
     "output_type": "stream",
     "text": [
      "['NW_005871048.1', 'RefSeq', 'region', '1', '64990205', '.', '+', '.', 'ID=id0;Dbxref=taxon:59463;Name=Unknown;chromosome=Unknown;country=USA: Framingham%2C MA;gbkey=Src;genome=genomic;mol_type=genomic DNA;sex=female\\n']\n",
      "['NW_005871048.1', 'RefSeq', 'region', '1', '64990205', '.', '+', '.', 'ID=id0;Dbxref=taxon:59463;Name=Unknown;chromosome=Unknown;country=USA: Framingham%2C MA;gbkey=Src;genome=genomic;mol_type=genomic DNA;sex=female\\n']\n",
      "['NW_005871048.1', 'RefSeq', 'region', '1', '64990205', '.', '+', '.', 'ID=id0;Dbxref=taxon:59463;Name=Unknown;chromosome=Unknown;country=USA: Framingham%2C MA;gbkey=Src;genome=genomic;mol_type=genomic DNA;sex=female\\n']\n",
      "['NW_005871048.1', 'Gnomon', 'gene', '16490629', '16935896', '.', '+', '.', 'ID=gene225;Dbxref=GeneID:102417759;Name=FBXL17;gbkey=Gene;gene=FBXL17;gene_biotype=protein_coding\\n']\n",
      "['NW_005871048.1', 'Gnomon', 'mRNA', '16490629', '16935896', '.', '+', '.', 'ID=rna402;Parent=gene225;Dbxref=GeneID:102417759,Genbank:XM_006081173.2;Name=XM_006081173.2;gbkey=mRNA;gene=FBXL17;model_evidence=Supporting evidence includes similarity to: 3 mRNAs%2C 1 Protein%2C and 98%25 coverage of the annotated genomic feature by RNAseq alignments%2C including 24 samples with support for all annotated introns;product=F-box and leucine rich repeat protein 17;transcript_id=XM_006081173.2\\n']\n",
      "['NW_005871049.1', 'RefSeq', 'region', '1', '39494369', '.', '+', '.', 'ID=id14505;Dbxref=taxon:59463;Name=Unknown;chromosome=Unknown;country=USA: Framingham%2C MA;gbkey=Src;genome=genomic;mol_type=genomic DNA;sex=female\\n']\n",
      "['NW_005871049.1', 'RefSeq', 'region', '1', '39494369', '.', '+', '.', 'ID=id14505;Dbxref=taxon:59463;Name=Unknown;chromosome=Unknown;country=USA: Framingham%2C MA;gbkey=Src;genome=genomic;mol_type=genomic DNA;sex=female\\n']\n",
      "['NW_005871049.1', 'RefSeq', 'region', '1', '39494369', '.', '+', '.', 'ID=id14505;Dbxref=taxon:59463;Name=Unknown;chromosome=Unknown;country=USA: Framingham%2C MA;gbkey=Src;genome=genomic;mol_type=genomic DNA;sex=female\\n']\n",
      "['NW_005871051.1', 'RefSeq', 'region', '1', '30916457', '.', '+', '.', 'ID=id28999;Dbxref=taxon:59463;Name=Unknown;chromosome=Unknown;country=USA: Framingham%2C MA;gbkey=Src;genome=genomic;mol_type=genomic DNA;sex=female\\n']\n",
      "['NW_005871053.1', 'RefSeq', 'region', '1', '20945196', '.', '+', '.', 'ID=id44306;Dbxref=taxon:59463;Name=Unknown;chromosome=Unknown;country=USA: Framingham%2C MA;gbkey=Src;genome=genomic;mol_type=genomic DNA;sex=female\\n']\n",
      "['NW_005871053.1', 'Gnomon', 'gene', '14979316', '15072600', '.', '-', '.', 'ID=gene2361;Dbxref=GeneID:102418508;Name=LOC102418508;gbkey=Gene;gene=LOC102418508;gene_biotype=protein_coding\\n']\n",
      "['NW_005871053.1', 'Gnomon', 'mRNA', '14979316', '15072600', '.', '-', '.', 'ID=rna4040;Parent=gene2361;Dbxref=GeneID:102418508,Genbank:XM_006083188.3;Name=XM_006083188.3;gbkey=mRNA;gene=LOC102418508;model_evidence=Supporting evidence includes similarity to: 6 mRNAs%2C 51 Proteins%2C and 34%25 coverage of the annotated genomic feature by RNAseq alignments;product=sodium channel protein type 2 subunit alpha%2C transcript variant X1;transcript_id=XM_006083188.3\\n']\n",
      "['NW_005871053.1', 'Gnomon', 'mRNA', '14979316', '15072394', '.', '-', '.', 'ID=rna4041;Parent=gene2361;Dbxref=GeneID:102418508,Genbank:XM_006083189.3;Name=XM_006083189.3;gbkey=mRNA;gene=LOC102418508;model_evidence=Supporting evidence includes similarity to: 4 mRNAs%2C 44 Proteins%2C and 33%25 coverage of the annotated genomic feature by RNAseq alignments;product=sodium channel protein type 2 subunit alpha%2C transcript variant X2;transcript_id=XM_006083189.3\\n']\n",
      "['NW_005871054.1', 'RefSeq', 'region', '1', '20779464', '.', '+', '.', 'ID=id51394;Dbxref=taxon:59463;Name=Unknown;chromosome=Unknown;country=USA: Framingham%2C MA;gbkey=Src;genome=genomic;mol_type=genomic DNA;sex=female\\n']\n",
      "['NW_005871056.1', 'RefSeq', 'region', '1', '18579217', '.', '+', '.', 'ID=id61133;Dbxref=taxon:59463;Name=Unknown;chromosome=Unknown;country=USA: Framingham%2C MA;gbkey=Src;genome=genomic;mol_type=genomic DNA;sex=female\\n']\n",
      "['NW_005871059.1', 'RefSeq', 'region', '1', '16239124', '.', '+', '.', 'ID=id75527;Dbxref=taxon:59463;Name=Unknown;chromosome=Unknown;country=USA: Framingham%2C MA;gbkey=Src;genome=genomic;mol_type=genomic DNA;sex=female\\n']\n",
      "['NW_005871062.1', 'RefSeq', 'region', '1', '15274826', '.', '+', '.', 'ID=id85264;Dbxref=taxon:59463;Name=Unknown;chromosome=Unknown;country=USA: Framingham%2C MA;gbkey=Src;genome=genomic;mol_type=genomic DNA;sex=female\\n']\n",
      "['NW_005871062.1', 'Gnomon', 'gene', '7590919', '7653791', '.', '+', '.', 'ID=gene4088;Dbxref=GeneID:102427812;Name=MASP1;gbkey=Gene;gene=MASP1;gene_biotype=protein_coding\\n']\n",
      "['NW_005871062.1', 'Gnomon', 'mRNA', '7590919', '7637874', '.', '+', '.', 'ID=rna7049;Parent=gene4088;Dbxref=GeneID:102427812,Genbank:XM_006084791.3;Name=XM_006084791.3;gbkey=mRNA;gene=MASP1;model_evidence=Supporting evidence includes similarity to: 3 mRNAs%2C 8 Proteins%2C and 99%25 coverage of the annotated genomic feature by RNAseq alignments%2C including 1 sample with support for all annotated introns;product=mannan binding lectin serine peptidase 1%2C transcript variant X1;transcript_id=XM_006084791.3\\n']\n",
      "['NW_005871062.1', 'Gnomon', 'mRNA', '7590957', '7653791', '.', '+', '.', 'ID=rna7050;Parent=gene4088;Dbxref=GeneID:102427812,Genbank:XM_006084792.3;Name=XM_006084792.3;gbkey=mRNA;gene=MASP1;model_evidence=Supporting evidence includes similarity to: 1 mRNA%2C 9 Proteins%2C and 72%25 coverage of the annotated genomic feature by RNAseq alignments;product=mannan binding lectin serine peptidase 1%2C transcript variant X2;transcript_id=XM_006084792.3\\n']\n",
      "['NW_005871064.1', 'RefSeq', 'region', '1', '15202523', '.', '+', '.', 'ID=id93550;Dbxref=taxon:59463;Name=Unknown;chromosome=Unknown;country=USA: Framingham%2C MA;gbkey=Src;genome=genomic;mol_type=genomic DNA;sex=female\\n']\n",
      "['NW_005871073.1', 'RefSeq', 'region', '1', '10646666', '.', '+', '.', 'ID=id114773;Dbxref=taxon:59463;Name=Unknown;chromosome=Unknown;country=USA: Framingham%2C MA;gbkey=Src;genome=genomic;mol_type=genomic DNA;sex=female\\n']\n",
      "['NW_005871082.1', 'RefSeq', 'region', '1', '9085641', '.', '+', '.', 'ID=id131643;Dbxref=taxon:59463;Name=Unknown;chromosome=Unknown;country=USA: Framingham%2C MA;gbkey=Src;genome=genomic;mol_type=genomic DNA;sex=female\\n']\n",
      "['NW_005871083.1', 'RefSeq', 'region', '1', '9082911', '.', '+', '.', 'ID=id133156;Dbxref=taxon:59463;Name=Unknown;chromosome=Unknown;country=USA: Framingham%2C MA;gbkey=Src;genome=genomic;mol_type=genomic DNA;sex=female\\n']\n",
      "['NW_005871083.1', 'Gnomon', 'gene', '3979298', '4208728', '.', '-', '.', 'ID=gene6576;Dbxref=GeneID:102420738;Name=CMIP;gbkey=Gene;gene=CMIP;gene_biotype=protein_coding\\n']\n",
      "['NW_005871083.1', 'Gnomon', 'mRNA', '3979298', '4208728', '.', '-', '.', 'ID=rna11031;Parent=gene6576;Dbxref=GeneID:102420738,Genbank:XM_006087043.3;Name=XM_006087043.3;Note=The sequence of the model RefSeq transcript was modified relative to this genomic sequence to represent the inferred CDS: deleted 1 base in 1 codon;exception=unclassified transcription discrepancy;gbkey=mRNA;gene=CMIP;model_evidence=Supporting evidence includes similarity to: 2 mRNAs%2C 5 Proteins%2C and 99%25 coverage of the annotated genomic feature by RNAseq alignments%2C including 23 samples with support for all annotated introns;product=c-Maf inducing protein;transcript_id=XM_006087043.3\\n']\n",
      "['NW_005871087.1', 'RefSeq', 'region', '1', '8424078', '.', '+', '.', 'ID=id142776;Dbxref=taxon:59463;Name=Unknown;chromosome=Unknown;country=USA: Framingham%2C MA;gbkey=Src;genome=genomic;mol_type=genomic DNA;sex=female\\n']\n",
      "['NW_005871097.1', 'RefSeq', 'region', '1', '7348857', '.', '+', '.', 'ID=id162626;Dbxref=taxon:59463;Name=Unknown;chromosome=Unknown;country=USA: Framingham%2C MA;gbkey=Src;genome=genomic;mol_type=genomic DNA;sex=female\\n']\n",
      "['NW_005871097.1', 'Gnomon', 'gene', '3142067', '3321329', '.', '-', '.', 'ID=gene8121;Dbxref=GeneID:102440988;Name=REPS2;gbkey=Gene;gene=REPS2;gene_biotype=protein_coding\\n']\n",
      "['NW_005871097.1', 'Gnomon', 'mRNA', '3142067', '3321329', '.', '-', '.', 'ID=rna13665;Parent=gene8121;Dbxref=GeneID:102440988,Genbank:XM_023753740.1;Name=XM_023753740.1;gbkey=mRNA;gene=REPS2;model_evidence=Supporting evidence includes similarity to: 1 Protein%2C and 82%25 coverage of the annotated genomic feature by RNAseq alignments;product=RALBP1 associated Eps domain containing 2;transcript_id=XM_023753740.1\\n']\n",
      "['NW_005871100.1', 'RefSeq', 'region', '1', '7058687', '.', '+', '.', 'ID=id166315;Dbxref=taxon:59463;Name=Unknown;chromosome=Unknown;country=USA: Framingham%2C MA;gbkey=Src;genome=genomic;mol_type=genomic DNA;sex=female\\n']\n"
     ]
    },
    {
     "name": "stdout",
     "output_type": "stream",
     "text": [
      "['NW_005871116.1', 'RefSeq', 'region', '1', '5728823', '.', '+', '.', 'ID=id192215;Dbxref=taxon:59463;Name=Unknown;chromosome=Unknown;country=USA: Framingham%2C MA;gbkey=Src;genome=genomic;mol_type=genomic DNA;sex=female\\n']\n",
      "['NW_005871122.1', 'RefSeq', 'region', '1', '5136827', '.', '+', '.', 'ID=id201139;Dbxref=taxon:59463;Name=Unknown;chromosome=Unknown;country=USA: Framingham%2C MA;gbkey=Src;genome=genomic;mol_type=genomic DNA;sex=female\\n']\n",
      "['NW_005871122.1', 'RefSeq', 'region', '1', '5136827', '.', '+', '.', 'ID=id201139;Dbxref=taxon:59463;Name=Unknown;chromosome=Unknown;country=USA: Framingham%2C MA;gbkey=Src;genome=genomic;mol_type=genomic DNA;sex=female\\n']\n",
      "['NW_005871122.1', 'Gnomon', 'gene', '3434412', '3529751', '.', '-', '.', 'ID=gene10137;Dbxref=GeneID:102437398;Name=PCDH17;gbkey=Gene;gene=PCDH17;gene_biotype=protein_coding\\n']\n",
      "['NW_005871122.1', 'Gnomon', 'mRNA', '3434412', '3529751', '.', '-', '.', 'ID=rna17052;Parent=gene10137;Dbxref=GeneID:102437398,Genbank:XM_006090529.3;Name=XM_006090529.3;gbkey=mRNA;gene=PCDH17;model_evidence=Supporting evidence includes similarity to: 2 mRNAs%2C 5 Proteins%2C and 95%25 coverage of the annotated genomic feature by RNAseq alignments;product=protocadherin 17;transcript_id=XM_006090529.3\\n']\n",
      "['NW_005871123.1', 'RefSeq', 'region', '1', '5160323', '.', '+', '.', 'ID=id201293;Dbxref=taxon:59463;Name=Unknown;chromosome=Unknown;country=USA: Framingham%2C MA;gbkey=Src;genome=genomic;mol_type=genomic DNA;sex=female\\n']\n",
      "['NW_005871126.1', 'RefSeq', 'region', '1', '5037443', '.', '+', '.', 'ID=id204375;Dbxref=taxon:59463;Name=Unknown;chromosome=Unknown;country=USA: Framingham%2C MA;gbkey=Src;genome=genomic;mol_type=genomic DNA;sex=female\\n']\n",
      "['NW_005871126.1', 'Gnomon', 'gene', '1709020', '2102226', '.', '+', '.', 'ID=gene10320;Dbxref=GeneID:102433978;Name=SOX5;gbkey=Gene;gene=SOX5;gene_biotype=protein_coding\\n']\n",
      "['NW_005871126.1', 'Gnomon', 'mRNA', '1709020', '2102226', '.', '+', '.', 'ID=rna17342;Parent=gene10320;Dbxref=GeneID:102433978,Genbank:XM_006090652.3;Name=XM_006090652.3;gbkey=mRNA;gene=SOX5;model_evidence=Supporting evidence includes similarity to: 6 mRNAs%2C 7 Proteins%2C and 94%25 coverage of the annotated genomic feature by RNAseq alignments;product=SRY-box 5;transcript_id=XM_006090652.3\\n']\n",
      "['NW_005871136.1', 'RefSeq', 'region', '1', '4679154', '.', '+', '.', 'ID=id215563;Dbxref=taxon:59463;Name=Unknown;chromosome=Unknown;country=USA: Framingham%2C MA;gbkey=Src;genome=genomic;mol_type=genomic DNA;sex=female\\n']\n",
      "['NW_005871136.1', 'Gnomon', 'gene', '4372562', '4411869', '.', '-', '.', 'ID=gene10904;Dbxref=GeneID:102426505;Name=FA2H;gbkey=Gene;gene=FA2H;gene_biotype=protein_coding\\n']\n",
      "['NW_005871136.1', 'Gnomon', 'mRNA', '4372562', '4411869', '.', '-', '.', 'ID=rna18385;Parent=gene10904;Dbxref=GeneID:102426505,Genbank:XM_006091226.3;Name=XM_006091226.3;gbkey=mRNA;gene=FA2H;model_evidence=Supporting evidence includes similarity to: 4 Proteins%2C and 100%25 coverage of the annotated genomic feature by RNAseq alignments%2C including 4 samples with support for all annotated introns;product=fatty acid 2-hydroxylase;transcript_id=XM_006091226.3\\n']\n",
      "['NW_005871140.1', 'RefSeq', 'region', '1', '4592439', '.', '+', '.', 'ID=id224920;Dbxref=taxon:59463;Name=Unknown;chromosome=Unknown;country=USA: Framingham%2C MA;gbkey=Src;genome=genomic;mol_type=genomic DNA;sex=female\\n']\n",
      "['NW_005871142.1', 'RefSeq', 'region', '1', '4514962', '.', '+', '.', 'ID=id226172;Dbxref=taxon:59463;Name=Unknown;chromosome=Unknown;country=USA: Framingham%2C MA;gbkey=Src;genome=genomic;mol_type=genomic DNA;sex=female\\n']\n",
      "['NW_005871142.1', 'RefSeq', 'region', '1', '4514962', '.', '+', '.', 'ID=id226172;Dbxref=taxon:59463;Name=Unknown;chromosome=Unknown;country=USA: Framingham%2C MA;gbkey=Src;genome=genomic;mol_type=genomic DNA;sex=female\\n']\n",
      "['NW_005871142.1', 'Gnomon', 'gene', '263205', '312860', '.', '+', '.', 'ID=gene11267;Dbxref=GeneID:102442682;Name=ADCY3;gbkey=Gene;gene=ADCY3;gene_biotype=protein_coding\\n']\n",
      "['NW_005871142.1', 'Gnomon', 'mRNA', '263205', '312362', '.', '+', '.', 'ID=rna19111;Parent=gene11267;Dbxref=GeneID:102442682,Genbank:XM_006091691.3;Name=XM_006091691.3;gbkey=mRNA;gene=ADCY3;model_evidence=Supporting evidence includes similarity to: 5 mRNAs%2C 10 Proteins%2C and 99%25 coverage of the annotated genomic feature by RNAseq alignments%2C including 1 sample with support for all annotated introns;product=adenylate cyclase 3%2C transcript variant X1;transcript_id=XM_006091691.3\\n']\n",
      "['NW_005871142.1', 'Gnomon', 'mRNA', '263528', '312860', '.', '+', '.', 'ID=rna19112;Parent=gene11267;Dbxref=GeneID:102442682,Genbank:XM_023756431.1;Name=XM_023756431.1;gbkey=mRNA;gene=ADCY3;model_evidence=Supporting evidence includes similarity to: 5 mRNAs%2C 10 Proteins%2C and 99%25 coverage of the annotated genomic feature by RNAseq alignments%2C including 14 samples with support for all annotated introns;product=adenylate cyclase 3%2C transcript variant X2;transcript_id=XM_023756431.1\\n']\n",
      "['NW_005871148.1', 'RefSeq', 'region', '1', '4444721', '.', '+', '.', 'ID=id238203;Dbxref=taxon:59463;Name=Unknown;chromosome=Unknown;country=USA: Framingham%2C MA;gbkey=Src;genome=genomic;mol_type=genomic DNA;sex=female\\n']\n",
      "['NW_005871148.1', 'Gnomon', 'gene', '2560994', '2842740', '.', '-', '.', 'ID=gene11898;Dbxref=GeneID:102438113;Name=CEP112;gbkey=Gene;gene=CEP112;gene_biotype=protein_coding\\n']\n",
      "['NW_005871148.1', 'Gnomon', 'mRNA', '2560994', '2842740', '.', '-', '.', 'ID=rna20342;Parent=gene11898;Dbxref=GeneID:102438113,Genbank:XM_014458887.2;Name=XM_014458887.2;gbkey=mRNA;gene=CEP112;model_evidence=Supporting evidence includes similarity to: 2 Proteins%2C and 100%25 coverage of the annotated genomic feature by RNAseq alignments;product=centrosomal protein 112;transcript_id=XM_014458887.2\\n']\n",
      "['NW_005871154.1', 'RefSeq', 'region', '1', '4280553', '.', '+', '.', 'ID=id250845;Dbxref=taxon:59463;Name=Unknown;chromosome=Unknown;country=USA: Framingham%2C MA;gbkey=Src;genome=genomic;mol_type=genomic DNA;sex=female\\n']\n",
      "['NW_005871160.1', 'RefSeq', 'region', '1', '4019553', '.', '+', '.', 'ID=id259229;Dbxref=taxon:59463;Name=Unknown;chromosome=Unknown;country=USA: Framingham%2C MA;gbkey=Src;genome=genomic;mol_type=genomic DNA;sex=female\\n']\n",
      "['NW_005871166.1', 'RefSeq', 'region', '1', '3905128', '.', '+', '.', 'ID=id263990;Dbxref=taxon:59463;Name=Unknown;chromosome=Unknown;country=USA: Framingham%2C MA;gbkey=Src;genome=genomic;mol_type=genomic DNA;sex=female\\n']\n",
      "['NW_005871166.1', 'RefSeq', 'region', '1', '3905128', '.', '+', '.', 'ID=id263990;Dbxref=taxon:59463;Name=Unknown;chromosome=Unknown;country=USA: Framingham%2C MA;gbkey=Src;genome=genomic;mol_type=genomic DNA;sex=female\\n']\n",
      "['NW_005871166.1', 'RefSeq', 'region', '1', '3905128', '.', '+', '.', 'ID=id263990;Dbxref=taxon:59463;Name=Unknown;chromosome=Unknown;country=USA: Framingham%2C MA;gbkey=Src;genome=genomic;mol_type=genomic DNA;sex=female\\n']\n",
      "['NW_005871169.1', 'RefSeq', 'region', '1', '3838405', '.', '+', '.', 'ID=id267292;Dbxref=taxon:59463;Name=Unknown;chromosome=Unknown;country=USA: Framingham%2C MA;gbkey=Src;genome=genomic;mol_type=genomic DNA;sex=female\\n']\n",
      "['NW_005871191.1', 'RefSeq', 'region', '1', '3403133', '.', '+', '.', 'ID=id287356;Dbxref=taxon:59463;Name=Unknown;chromosome=Unknown;country=USA: Framingham%2C MA;gbkey=Src;genome=genomic;mol_type=genomic DNA;sex=female\\n']\n",
      "['NW_005871191.1', 'Gnomon', 'gene', '2216577', '2888781', '.', '-', '.', 'ID=gene14416;Dbxref=GeneID:102435969;Name=NELL1;gbkey=Gene;gene=NELL1;gene_biotype=protein_coding\\n']\n",
      "['NW_005871191.1', 'Gnomon', 'mRNA', '2216577', '2888781', '.', '-', '.', 'ID=rna24556;Parent=gene14416;Dbxref=GeneID:102435969,Genbank:XM_023758901.1;Name=XM_023758901.1;gbkey=mRNA;gene=NELL1;model_evidence=Supporting evidence includes similarity to: 11 Proteins%2C and 94%25 coverage of the annotated genomic feature by RNAseq alignments;product=neural EGFL like 1;transcript_id=XM_023758901.1\\n']\n",
      "['NW_005871208.1', 'RefSeq', 'region', '1', '3092412', '.', '+', '.', 'ID=id304554;Dbxref=taxon:59463;Name=Unknown;chromosome=Unknown;country=USA: Framingham%2C MA;gbkey=Src;genome=genomic;mol_type=genomic DNA;sex=female\\n']\n",
      "['NW_005871210.1', 'RefSeq', 'region', '1', '3019976', '.', '+', '.', 'ID=id307691;Dbxref=taxon:59463;Name=Unknown;chromosome=Unknown;country=USA: Framingham%2C MA;gbkey=Src;genome=genomic;mol_type=genomic DNA;sex=female\\n']\n",
      "['NW_005871210.1', 'Gnomon', 'gene', '2499532', '3006516', '.', '+', '.', 'ID=gene15442;Dbxref=GeneID:102425362;Name=SORCS3;gbkey=Gene;gene=SORCS3;gene_biotype=protein_coding\\n']\n",
      "['NW_005871210.1', 'Gnomon', 'mRNA', '2499532', '3006516', '.', '+', '.', 'ID=rna26668;Parent=gene15442;Dbxref=GeneID:102425362,Genbank:XM_006095936.3;Name=XM_006095936.3;gbkey=mRNA;gene=SORCS3;model_evidence=Supporting evidence includes similarity to: 4 mRNAs%2C 11 Proteins%2C and 30%25 coverage of the annotated genomic feature by RNAseq alignments;product=sortilin related VPS10 domain containing receptor 3;transcript_id=XM_006095936.3\\n']\n",
      "['NW_005871211.1', 'RefSeq', 'region', '1', '3003176', '.', '+', '.', 'ID=id309627;Dbxref=taxon:59463;Name=Unknown;chromosome=Unknown;country=USA: Framingham%2C MA;gbkey=Src;genome=genomic;mol_type=genomic DNA;sex=female\\n']\n",
      "['NW_005871231.1', 'RefSeq', 'region', '1', '2651257', '.', '+', '.', 'ID=id323591;Dbxref=taxon:59463;Name=Unknown;chromosome=Unknown;country=USA: Framingham%2C MA;gbkey=Src;genome=genomic;mol_type=genomic DNA;sex=female\\n']\n"
     ]
    },
    {
     "name": "stdout",
     "output_type": "stream",
     "text": [
      "['NW_005871236.1', 'RefSeq', 'region', '1', '2551290', '.', '+', '.', 'ID=id327813;Dbxref=taxon:59463;Name=Unknown;chromosome=Unknown;country=USA: Framingham%2C MA;gbkey=Src;genome=genomic;mol_type=genomic DNA;sex=female\\n']\n",
      "['NW_005871243.1', 'RefSeq', 'region', '1', '2513712', '.', '+', '.', 'ID=id331702;Dbxref=taxon:59463;Name=Unknown;chromosome=Unknown;country=USA: Framingham%2C MA;gbkey=Src;genome=genomic;mol_type=genomic DNA;sex=female\\n']\n",
      "['NW_005871246.1', 'RefSeq', 'region', '1', '2532579', '.', '+', '.', 'ID=id335396;Dbxref=taxon:59463;Name=Unknown;chromosome=Unknown;country=USA: Framingham%2C MA;gbkey=Src;genome=genomic;mol_type=genomic DNA;sex=female\\n']\n",
      "['NW_005871246.1', 'Gnomon', 'gene', '1936775', '1992192', '.', '-', '.', 'ID=gene16883;Dbxref=GeneID:102429022;Name=CBFA2T3;gbkey=Gene;gene=CBFA2T3;gene_biotype=protein_coding\\n']\n",
      "['NW_005871246.1', 'Gnomon', 'mRNA', '1936775', '1992192', '.', '-', '.', 'ID=rna29149;Parent=gene16883;Dbxref=GeneID:102429022,Genbank:XM_006097355.3;Name=XM_006097355.3;gbkey=mRNA;gene=CBFA2T3;model_evidence=Supporting evidence includes similarity to: 2 mRNAs%2C 1 Protein%2C and 99%25 coverage of the annotated genomic feature by RNAseq alignments;product=CBFA2/RUNX1 translocation partner 3;transcript_id=XM_006097355.3\\n']\n",
      "['NW_005871279.1', 'RefSeq', 'region', '1', '1996049', '.', '+', '.', 'ID=id357671;Dbxref=taxon:59463;Name=Unknown;chromosome=Unknown;country=USA: Framingham%2C MA;gbkey=Src;genome=genomic;mol_type=genomic DNA;sex=female\\n']\n",
      "['NW_005871289.1', 'RefSeq', 'region', '1', '1901218', '.', '+', '.', 'ID=id361809;Dbxref=taxon:59463;Name=Unknown;chromosome=Unknown;country=USA: Framingham%2C MA;gbkey=Src;genome=genomic;mol_type=genomic DNA;sex=female\\n']\n",
      "['NW_005871299.1', 'RefSeq', 'region', '1', '1811804', '.', '+', '.', 'ID=id366663;Dbxref=taxon:59463;Name=Unknown;chromosome=Unknown;country=USA: Framingham%2C MA;gbkey=Src;genome=genomic;mol_type=genomic DNA;sex=female\\n']\n",
      "['NW_005871310.1', 'RefSeq', 'region', '1', '1841132', '.', '+', '.', 'ID=id371601;Dbxref=taxon:59463;Name=Unknown;chromosome=Unknown;country=USA: Framingham%2C MA;gbkey=Src;genome=genomic;mol_type=genomic DNA;sex=female\\n']\n",
      "['NW_005871310.1', 'Gnomon', 'gene', '1634027', '1669272', '.', '-', '.', 'ID=gene18766;Dbxref=GeneID:102443128;Name=GEMIN4;gbkey=Gene;gene=GEMIN4;gene_biotype=protein_coding\\n']\n",
      "['NW_005871310.1', 'Gnomon', 'mRNA', '1653940', '1669272', '.', '-', '.', 'ID=rna32507;Parent=gene18766;Dbxref=GeneID:102443128,Genbank:XM_023762809.1;Name=XM_023762809.1;gbkey=mRNA;gene=GEMIN4;model_evidence=Supporting evidence includes similarity to: 1 Protein%2C and 100%25 coverage of the annotated genomic feature by RNAseq alignments%2C including 8 samples with support for all annotated introns;product=gem nuclear organelle associated protein 4%2C transcript variant X2;transcript_id=XM_023762809.1\\n']\n",
      "['NW_005871310.1', 'Gnomon', 'gene', '1661352', '1661854', '.', '+', '.', 'ID=gene18768;Dbxref=GeneID:102421410;Name=LOC102421410;gbkey=Gene;gene=LOC102421410;gene_biotype=protein_coding\\n']\n",
      "['NW_005871310.1', 'Gnomon', 'mRNA', '1661352', '1661854', '.', '+', '.', 'ID=rna32510;Parent=gene18768;Dbxref=GeneID:102421410,Genbank:XM_023762812.1;Name=XM_023762812.1;gbkey=mRNA;gene=LOC102421410;model_evidence=Supporting evidence includes similarity to: 2 Proteins%2C and 100%25 coverage of the annotated genomic feature by RNAseq alignments;product=diazepam-binding inhibitor-like 5;transcript_id=XM_023762812.1\\n']\n",
      "['NW_005871310.1', 'Gnomon', 'exon', '1661352', '1661854', '.', '+', '.', 'ID=id372990;Parent=rna32510;Dbxref=GeneID:102421410,Genbank:XM_023762812.1;gbkey=mRNA;gene=LOC102421410;product=diazepam-binding inhibitor-like 5;transcript_id=XM_023762812.1\\n']\n",
      "['NW_005871317.1', 'RefSeq', 'region', '1', '1687824', '.', '+', '.', 'ID=id375042;Dbxref=taxon:59463;Name=Unknown;chromosome=Unknown;country=USA: Framingham%2C MA;gbkey=Src;genome=genomic;mol_type=genomic DNA;sex=female\\n']\n",
      "['NW_005871317.1', 'Gnomon', 'gene', '600265', '653579', '.', '-', '.', 'ID=gene18869;Dbxref=GeneID:102428308;Name=KREMEN1;gbkey=Gene;gene=KREMEN1;gene_biotype=protein_coding\\n']\n",
      "['NW_005871317.1', 'Gnomon', 'mRNA', '600265', '653579', '.', '-', '.', 'ID=rna32702;Parent=gene18869;Dbxref=GeneID:102428308,Genbank:XM_023762932.1;Name=XM_023762932.1;gbkey=mRNA;gene=KREMEN1;model_evidence=Supporting evidence includes similarity to: 1 Protein%2C and 100%25 coverage of the annotated genomic feature by RNAseq alignments%2C including 4 samples with support for all annotated introns;product=kringle containing transmembrane protein 1%2C transcript variant X1;transcript_id=XM_023762932.1\\n']\n",
      "['NW_005871317.1', 'Gnomon', 'mRNA', '600265', '653575', '.', '-', '.', 'ID=rna32703;Parent=gene18869;Dbxref=GeneID:102428308,Genbank:XM_023762933.1;Name=XM_023762933.1;gbkey=mRNA;gene=KREMEN1;model_evidence=Supporting evidence includes similarity to: 100%25 coverage of the annotated genomic feature by RNAseq alignments%2C including 4 samples with support for all annotated introns;product=kringle containing transmembrane protein 1%2C transcript variant X2;transcript_id=XM_023762933.1\\n']\n",
      "['NW_005871382.1', 'RefSeq', 'region', '1', '1180006', '.', '+', '.', 'ID=id412464;Dbxref=taxon:59463;Name=Unknown;chromosome=Unknown;country=USA: Framingham%2C MA;gbkey=Src;genome=genomic;mol_type=genomic DNA;sex=female\\n']\n",
      "['NW_005871402.1', 'RefSeq', 'region', '1', '1199787', '.', '+', '.', 'ID=id420521;Dbxref=taxon:59463;Name=Unknown;chromosome=Unknown;country=USA: Framingham%2C MA;gbkey=Src;genome=genomic;mol_type=genomic DNA;sex=female\\n']\n",
      "['NW_005871437.1', 'RefSeq', 'region', '1', '1012336', '.', '+', '.', 'ID=id432624;Dbxref=taxon:59463;Name=Unknown;chromosome=Unknown;country=USA: Framingham%2C MA;gbkey=Src;genome=genomic;mol_type=genomic DNA;sex=female\\n']\n",
      "['NW_005871439.1', 'RefSeq', 'region', '1', '978231', '.', '+', '.', 'ID=id433565;Dbxref=taxon:59463;Name=Unknown;chromosome=Unknown;country=USA: Framingham%2C MA;gbkey=Src;genome=genomic;mol_type=genomic DNA;sex=female\\n']\n",
      "['NW_005871447.1', 'RefSeq', 'region', '1', '1004160', '.', '+', '.', 'ID=id435422;Dbxref=taxon:59463;Name=Unknown;chromosome=Unknown;country=USA: Framingham%2C MA;gbkey=Src;genome=genomic;mol_type=genomic DNA;sex=female\\n']\n",
      "['NW_005871520.1', 'RefSeq', 'region', '1', '710619', '.', '+', '.', 'ID=id456862;Dbxref=taxon:59463;Name=Unknown;chromosome=Unknown;country=USA: Framingham%2C MA;gbkey=Src;genome=genomic;mol_type=genomic DNA;sex=female\\n']\n",
      "['NW_005871520.1', 'RefSeq', 'region', '1', '710619', '.', '+', '.', 'ID=id456862;Dbxref=taxon:59463;Name=Unknown;chromosome=Unknown;country=USA: Framingham%2C MA;gbkey=Src;genome=genomic;mol_type=genomic DNA;sex=female\\n']\n",
      "['NW_005871552.1', 'RefSeq', 'region', '1', '601910', '.', '+', '.', 'ID=id465901;Dbxref=taxon:59463;Name=Unknown;chromosome=Unknown;country=USA: Framingham%2C MA;gbkey=Src;genome=genomic;mol_type=genomic DNA;sex=female\\n']\n",
      "['NW_005871552.1', 'Gnomon', 'gene', '499696', '528146', '.', '-', '.', 'ID=gene23553;Dbxref=GeneID:102420083;Name=ERCC4;gbkey=Gene;gene=ERCC4;gene_biotype=protein_coding\\n']\n",
      "['NW_005871552.1', 'Gnomon', 'mRNA', '499696', '528146', '.', '-', '.', 'ID=rna40903;Parent=gene23553;Dbxref=GeneID:102420083,Genbank:XM_023744977.1;Name=XM_023744977.1;gbkey=mRNA;gene=ERCC4;model_evidence=Supporting evidence includes similarity to: 1 mRNA%2C and 100%25 coverage of the annotated genomic feature by RNAseq alignments%2C including 4 samples with support for all annotated introns;product=ERCC excision repair 4%2C endonuclease catalytic subunit%2C transcript variant X2;transcript_id=XM_023744977.1\\n']\n",
      "['NW_005871552.1', 'Gnomon', 'mRNA', '499696', '528145', '.', '-', '.', 'ID=rna40904;Parent=gene23553;Dbxref=GeneID:102420083,Genbank:XM_006103752.3;Name=XM_006103752.3;gbkey=mRNA;gene=ERCC4;model_evidence=Supporting evidence includes similarity to: 5 mRNAs%2C 3 Proteins%2C and 100%25 coverage of the annotated genomic feature by RNAseq alignments%2C including 10 samples with support for all annotated introns;product=ERCC excision repair 4%2C endonuclease catalytic subunit%2C transcript variant X1;transcript_id=XM_006103752.3\\n']\n",
      "['NW_005871562.1', 'RefSeq', 'region', '1', '592368', '.', '+', '.', 'ID=id468296;Dbxref=taxon:59463;Name=Unknown;chromosome=Unknown;country=USA: Framingham%2C MA;gbkey=Src;genome=genomic;mol_type=genomic DNA;sex=female\\n']\n"
     ]
    },
    {
     "name": "stdout",
     "output_type": "stream",
     "text": [
      "['NW_005871763.1', 'RefSeq', 'region', '1', '283313', '.', '+', '.', 'ID=id502584;Dbxref=taxon:59463;Name=Unknown;chromosome=Unknown;country=USA: Framingham%2C MA;gbkey=Src;genome=genomic;mol_type=genomic DNA;sex=female\\n']\n",
      "['NW_005871846.1', 'RefSeq', 'region', '1', '211799', '.', '+', '.', 'ID=id512757;Dbxref=taxon:59463;Name=Unknown;chromosome=Unknown;country=USA: Framingham%2C MA;gbkey=Src;genome=genomic;mol_type=genomic DNA;sex=female\\n']\n",
      "['NW_005871967.1', 'RefSeq', 'region', '1', '145539', '.', '+', '.', 'ID=id520168;Dbxref=taxon:59463;Name=Unknown;chromosome=Unknown;country=USA: Framingham%2C MA;gbkey=Src;genome=genomic;mol_type=genomic DNA;sex=female\\n']\n",
      "['NW_005872028.1', 'RefSeq', 'region', '1', '123542', '.', '+', '.', 'ID=id524264;Dbxref=taxon:59463;Name=Unknown;chromosome=Unknown;country=USA: Framingham%2C MA;gbkey=Src;genome=genomic;mol_type=genomic DNA;sex=female\\n']\n",
      "['NW_005872028.1', 'Gnomon', 'gene', '5481', '98250', '.', '-', '.', 'ID=gene27256;Dbxref=GeneID:102417583;Name=RAPGEF1;gbkey=Gene;gene=RAPGEF1;gene_biotype=protein_coding\\n']\n",
      "['NW_005872028.1', 'Gnomon', 'mRNA', '5481', '98250', '.', '-', '.', 'ID=rna46592;Parent=gene27256;Dbxref=GeneID:102417583,Genbank:XM_023747795.1;Name=XM_023747795.1;gbkey=mRNA;gene=RAPGEF1;model_evidence=Supporting evidence includes similarity to: 7 Proteins%2C and 100%25 coverage of the annotated genomic feature by RNAseq alignments%2C including 1 sample with support for all annotated introns;product=Rap guanine nucleotide exchange factor 1%2C transcript variant X2;transcript_id=XM_023747795.1\\n']\n",
      "['NW_005872028.1', 'Gnomon', 'mRNA', '5481', '98250', '.', '-', '.', 'ID=rna46593;Parent=gene27256;Dbxref=GeneID:102417583,Genbank:XM_023747793.1;Name=XM_023747793.1;gbkey=mRNA;gene=RAPGEF1;model_evidence=Supporting evidence includes similarity to: 1 Protein%2C and 100%25 coverage of the annotated genomic feature by RNAseq alignments;product=Rap guanine nucleotide exchange factor 1%2C transcript variant X1;transcript_id=XM_023747793.1\\n']\n",
      "['NW_005875640.1', 'RefSeq', 'region', '1', '14423', '.', '+', '.', 'ID=id554157;Dbxref=taxon:59463;Name=Unknown;chromosome=Unknown;country=USA: Framingham%2C MA;gbkey=Src;genome=genomic;mol_type=genomic DNA;sex=female\\n']\n"
     ]
    },
    {
     "data": {
      "text/plain": [
       "105"
      ]
     },
     "execution_count": 5,
     "metadata": {},
     "output_type": "execute_result"
    }
   ],
   "source": [
    "f=open('/local/home/sarahgw/WGS/SNPS/All_mylu/snps/NJNY502_sigCompvalues_nr_Ne424_296.csv', 'r')\n",
    "a=open('/local/home/sarahgw/references/ref_Myoluc2.0_top_level.gff3', 'r')\n",
    "flines = f.readlines()[1:]\n",
    "chrom_dict = {}\n",
    "for line in flines:\n",
    "    line = line.replace('\"', '')\n",
    "    args = line.split(',')\n",
    "    if args[2] in chrom_dict:\n",
    "        chrom_dict[args[2]].append(int(args[3]))\n",
    "    else:\n",
    "        chrom_dict[args[2]] = [int(args[3])]\n",
    "        \n",
    "aline = a.readline()\n",
    "count = 0\n",
    "while aline:\n",
    "    agroups = aline.split('\\t')\n",
    "    #print(agroups)\n",
    "    chrom = agroups[0]\n",
    "    if chrom in chrom_dict:\n",
    "        for loc in chrom_dict[chrom]:\n",
    "        # loc = chrom_dict[chrom]\n",
    "            if int(agroups[3]) < (loc) and int(agroups[4]) > (loc):\n",
    "                count += 1\n",
    "                print agroups\n",
    "    aline = a.readline()\n",
    "count"
   ]
  },
  {
   "cell_type": "markdown",
   "metadata": {},
   "source": [
    "Myso specific SNPs"
   ]
  },
  {
   "cell_type": "code",
   "execution_count": 1,
   "metadata": {
    "scrolled": true
   },
   "outputs": [
    {
     "name": "stdout",
     "output_type": "stream",
     "text": [
      "['NW_005871062.1', 'RefSeq', 'region', '1', '15274826', '.', '+', '.', 'ID=id85264;Dbxref=taxon:59463;Name=Unknown;chromosome=Unknown;country=USA: Framingham%2C MA;gbkey=Src;genome=genomic;mol_type=genomic DNA;sex=female\\n']\n",
      "['NW_005871062.1', 'Gnomon', 'gene', '7989018', '8014069', '.', '-', '.', 'ID=gene4100;Dbxref=GeneID:102441373;Name=LOC102441373;gbkey=Gene;gene=LOC102441373;gene_biotype=protein_coding\\n']\n",
      "['NW_005871062.1', 'Gnomon', 'mRNA', '7989018', '8014069', '.', '-', '.', 'ID=rna7076;Parent=gene4100;Dbxref=GeneID:102441373,Genbank:XM_014452242.2;Name=XM_014452242.2;gbkey=mRNA;gene=LOC102441373;model_evidence=Supporting evidence includes similarity to: 1 Protein%2C and 73%25 coverage of the annotated genomic feature by RNAseq alignments;product=kininogen-1-like;transcript_id=XM_014452242.2\\n']\n",
      "['NW_005871070.1', 'RefSeq', 'region', '1', '12132627', '.', '+', '.', 'ID=id108328;Dbxref=taxon:59463;Name=Unknown;chromosome=Unknown;country=USA: Framingham%2C MA;gbkey=Src;genome=genomic;mol_type=genomic DNA;sex=female\\n']\n",
      "['NW_005871073.1', 'RefSeq', 'region', '1', '10646666', '.', '+', '.', 'ID=id114773;Dbxref=taxon:59463;Name=Unknown;chromosome=Unknown;country=USA: Framingham%2C MA;gbkey=Src;genome=genomic;mol_type=genomic DNA;sex=female\\n']\n",
      "['NW_005871076.1', 'RefSeq', 'region', '1', '10643064', '.', '+', '.', 'ID=id119730;Dbxref=taxon:59463;Name=Unknown;chromosome=Unknown;country=USA: Framingham%2C MA;gbkey=Src;genome=genomic;mol_type=genomic DNA;sex=female\\n']\n",
      "['NW_005871076.1', 'RefSeq', 'region', '1', '10643064', '.', '+', '.', 'ID=id119730;Dbxref=taxon:59463;Name=Unknown;chromosome=Unknown;country=USA: Framingham%2C MA;gbkey=Src;genome=genomic;mol_type=genomic DNA;sex=female\\n']\n",
      "['NW_005871078.1', 'RefSeq', 'region', '1', '9679605', '.', '+', '.', 'ID=id125361;Dbxref=taxon:59463;Name=Unknown;chromosome=Unknown;country=USA: Framingham%2C MA;gbkey=Src;genome=genomic;mol_type=genomic DNA;sex=female\\n']\n",
      "['NW_005871082.1', 'RefSeq', 'region', '1', '9085641', '.', '+', '.', 'ID=id131643;Dbxref=taxon:59463;Name=Unknown;chromosome=Unknown;country=USA: Framingham%2C MA;gbkey=Src;genome=genomic;mol_type=genomic DNA;sex=female\\n']\n",
      "['NW_005871099.1', 'RefSeq', 'region', '1', '7489479', '.', '+', '.', 'ID=id165190;Dbxref=taxon:59463;Name=Unknown;chromosome=Unknown;country=USA: Framingham%2C MA;gbkey=Src;genome=genomic;mol_type=genomic DNA;sex=female\\n']\n",
      "['NW_005871099.1', 'RefSeq', 'region', '1', '7489479', '.', '+', '.', 'ID=id165190;Dbxref=taxon:59463;Name=Unknown;chromosome=Unknown;country=USA: Framingham%2C MA;gbkey=Src;genome=genomic;mol_type=genomic DNA;sex=female\\n']\n",
      "['NW_005871108.1', 'RefSeq', 'region', '1', '6843585', '.', '+', '.', 'ID=id177965;Dbxref=taxon:59463;Name=Unknown;chromosome=Unknown;country=USA: Framingham%2C MA;gbkey=Src;genome=genomic;mol_type=genomic DNA;sex=female\\n']\n",
      "['NW_005871131.1', 'RefSeq', 'region', '1', '4872659', '.', '+', '.', 'ID=id208076;Dbxref=taxon:59463;Name=Unknown;chromosome=Unknown;country=USA: Framingham%2C MA;gbkey=Src;genome=genomic;mol_type=genomic DNA;sex=female\\n']\n",
      "['NW_005871131.1', 'RefSeq', 'region', '1', '4872659', '.', '+', '.', 'ID=id208076;Dbxref=taxon:59463;Name=Unknown;chromosome=Unknown;country=USA: Framingham%2C MA;gbkey=Src;genome=genomic;mol_type=genomic DNA;sex=female\\n']\n",
      "['NW_005871131.1', 'Gnomon', 'gene', '469462', '511362', '.', '-', '.', 'ID=gene10527;Dbxref=GeneID:102429099;Name=LOC102429099;gbkey=Gene;gene=LOC102429099;gene_biotype=protein_coding\\n']\n",
      "['NW_005871131.1', 'Gnomon', 'gene', '469462', '511362', '.', '-', '.', 'ID=gene10527;Dbxref=GeneID:102429099;Name=LOC102429099;gbkey=Gene;gene=LOC102429099;gene_biotype=protein_coding\\n']\n",
      "['NW_005871131.1', 'Gnomon', 'mRNA', '469462', '511362', '.', '-', '.', 'ID=rna17639;Parent=gene10527;Dbxref=GeneID:102429099,Genbank:XM_023755676.1;Name=XM_023755676.1;gbkey=mRNA;gene=LOC102429099;model_evidence=Supporting evidence includes similarity to: 2 Proteins%2C and 100%25 coverage of the annotated genomic feature by RNAseq alignments%2C including 14 samples with support for all annotated introns;product=musculoskeletal embryonic nuclear protein 1;transcript_id=XM_023755676.1\\n']\n",
      "['NW_005871131.1', 'Gnomon', 'mRNA', '469462', '511362', '.', '-', '.', 'ID=rna17639;Parent=gene10527;Dbxref=GeneID:102429099,Genbank:XM_023755676.1;Name=XM_023755676.1;gbkey=mRNA;gene=LOC102429099;model_evidence=Supporting evidence includes similarity to: 2 Proteins%2C and 100%25 coverage of the annotated genomic feature by RNAseq alignments%2C including 14 samples with support for all annotated introns;product=musculoskeletal embryonic nuclear protein 1;transcript_id=XM_023755676.1\\n']\n",
      "['NW_005871131.1', 'Gnomon', 'gene', '493021', '506572', '.', '-', '.', 'ID=gene10529;Dbxref=GeneID:102420340;Name=LOC102420340;gbkey=Gene;gene=LOC102420340;gene_biotype=protein_coding\\n']\n",
      "['NW_005871131.1', 'Gnomon', 'gene', '493021', '506572', '.', '-', '.', 'ID=gene10529;Dbxref=GeneID:102420340;Name=LOC102420340;gbkey=Gene;gene=LOC102420340;gene_biotype=protein_coding\\n']\n",
      "['NW_005871131.1', 'Gnomon', 'mRNA', '493021', '506572', '.', '-', '.', 'ID=rna17641;Parent=gene10529;Dbxref=GeneID:102420340,Genbank:XM_023755743.1;Name=XM_023755743.1;gbkey=mRNA;gene=LOC102420340;model_evidence=Supporting evidence includes similarity to: 13 Proteins%2C and 97%25 coverage of the annotated genomic feature by RNAseq alignments;product=inter-alpha-trypsin inhibitor heavy chain H4;transcript_id=XM_023755743.1\\n']\n",
      "['NW_005871131.1', 'Gnomon', 'mRNA', '493021', '506572', '.', '-', '.', 'ID=rna17641;Parent=gene10529;Dbxref=GeneID:102420340,Genbank:XM_023755743.1;Name=XM_023755743.1;gbkey=mRNA;gene=LOC102420340;model_evidence=Supporting evidence includes similarity to: 13 Proteins%2C and 97%25 coverage of the annotated genomic feature by RNAseq alignments;product=inter-alpha-trypsin inhibitor heavy chain H4;transcript_id=XM_023755743.1\\n']\n",
      "['NW_005871131.1', 'Gnomon', 'exon', '500825', '501006', '.', '-', '.', 'ID=id209607;Parent=rna17641;Dbxref=GeneID:102420340,Genbank:XM_023755743.1;gbkey=mRNA;gene=LOC102420340;product=inter-alpha-trypsin inhibitor heavy chain H4;transcript_id=XM_023755743.1\\n']\n",
      "['NW_005871131.1', 'Gnomon', 'CDS', '500825', '501006', '.', '-', '2', 'ID=cds14920;Parent=rna17641;Dbxref=GeneID:102420340,Genbank:XP_023611511.1;Name=XP_023611511.1;gbkey=CDS;gene=LOC102420340;product=inter-alpha-trypsin inhibitor heavy chain H4;protein_id=XP_023611511.1\\n']\n",
      "['NW_005871143.1', 'RefSeq', 'region', '1', '4526443', '.', '+', '.', 'ID=id227855;Dbxref=taxon:59463;Name=Unknown;chromosome=Unknown;country=USA: Framingham%2C MA;gbkey=Src;genome=genomic;mol_type=genomic DNA;sex=female\\n']\n",
      "['NW_005871164.1', 'RefSeq', 'region', '1', '3863605', '.', '+', '.', 'ID=id262631;Dbxref=taxon:59463;Name=Unknown;chromosome=Unknown;country=USA: Framingham%2C MA;gbkey=Src;genome=genomic;mol_type=genomic DNA;sex=female\\n']\n",
      "['NW_005871165.1', 'RefSeq', 'region', '1', '3928239', '.', '+', '.', 'ID=id263057;Dbxref=taxon:59463;Name=Unknown;chromosome=Unknown;country=USA: Framingham%2C MA;gbkey=Src;genome=genomic;mol_type=genomic DNA;sex=female\\n']\n",
      "['NW_005871167.1', 'RefSeq', 'region', '1', '3863894', '.', '+', '.', 'ID=id264018;Dbxref=taxon:59463;Name=Unknown;chromosome=Unknown;country=USA: Framingham%2C MA;gbkey=Src;genome=genomic;mol_type=genomic DNA;sex=female\\n']\n",
      "['NW_005871204.1', 'RefSeq', 'region', '1', '3150241', '.', '+', '.', 'ID=id299981;Dbxref=taxon:59463;Name=Unknown;chromosome=Unknown;country=USA: Framingham%2C MA;gbkey=Src;genome=genomic;mol_type=genomic DNA;sex=female\\n']\n",
      "['NW_005871258.1', 'RefSeq', 'region', '1', '2279528', '.', '+', '.', 'ID=id344185;Dbxref=taxon:59463;Name=Unknown;chromosome=Unknown;country=USA: Framingham%2C MA;gbkey=Src;genome=genomic;mol_type=genomic DNA;sex=female\\n']\n",
      "['NW_005871300.1', 'RefSeq', 'region', '1', '1815232', '.', '+', '.', 'ID=id366774;Dbxref=taxon:59463;Name=Unknown;chromosome=Unknown;country=USA: Framingham%2C MA;gbkey=Src;genome=genomic;mol_type=genomic DNA;sex=female\\n']\n",
      "['NW_005871346.1', 'RefSeq', 'region', '1', '1481785', '.', '+', '.', 'ID=id392827;Dbxref=taxon:59463;Name=Unknown;chromosome=Unknown;country=USA: Framingham%2C MA;gbkey=Src;genome=genomic;mol_type=genomic DNA;sex=female\\n']\n"
     ]
    },
    {
     "name": "stdout",
     "output_type": "stream",
     "text": [
      "['NW_005871655.1', 'RefSeq', 'region', '1', '417845', '.', '+', '.', 'ID=id487368;Dbxref=taxon:59463;Name=Unknown;chromosome=Unknown;country=USA: Framingham%2C MA;gbkey=Src;genome=genomic;mol_type=genomic DNA;sex=female\\n']\n",
      "['NW_005871655.1', 'RefSeq', 'region', '1', '417845', '.', '+', '.', 'ID=id487368;Dbxref=taxon:59463;Name=Unknown;chromosome=Unknown;country=USA: Framingham%2C MA;gbkey=Src;genome=genomic;mol_type=genomic DNA;sex=female\\n']\n",
      "['NW_005871671.1', 'RefSeq', 'region', '1', '461733', '.', '+', '.', 'ID=id490022;Dbxref=taxon:59463;Name=Unknown;chromosome=Unknown;country=USA: Framingham%2C MA;gbkey=Src;genome=genomic;mol_type=genomic DNA;sex=female\\n']\n",
      "['NW_005871718.1', 'RefSeq', 'region', '1', '444311', '.', '+', '.', 'ID=id496604;Dbxref=taxon:59463;Name=Unknown;chromosome=Unknown;country=USA: Framingham%2C MA;gbkey=Src;genome=genomic;mol_type=genomic DNA;sex=female\\n']\n",
      "['NW_005871763.1', 'RefSeq', 'region', '1', '283313', '.', '+', '.', 'ID=id502584;Dbxref=taxon:59463;Name=Unknown;chromosome=Unknown;country=USA: Framingham%2C MA;gbkey=Src;genome=genomic;mol_type=genomic DNA;sex=female\\n']\n",
      "['NW_005871763.1', 'RefSeq', 'region', '1', '283313', '.', '+', '.', 'ID=id502584;Dbxref=taxon:59463;Name=Unknown;chromosome=Unknown;country=USA: Framingham%2C MA;gbkey=Src;genome=genomic;mol_type=genomic DNA;sex=female\\n']\n",
      "['NW_005871763.1', 'RefSeq', 'region', '1', '283313', '.', '+', '.', 'ID=id502584;Dbxref=taxon:59463;Name=Unknown;chromosome=Unknown;country=USA: Framingham%2C MA;gbkey=Src;genome=genomic;mol_type=genomic DNA;sex=female\\n']\n",
      "['NW_005871763.1', 'Gnomon', 'gene', '54293', '110753', '.', '-', '.', 'ID=gene25594;Dbxref=GeneID:102439940;Name=TRPV2;gbkey=Gene;gene=TRPV2;gene_biotype=protein_coding\\n']\n",
      "['NW_005871763.1', 'Gnomon', 'gene', '54293', '110753', '.', '-', '.', 'ID=gene25594;Dbxref=GeneID:102439940;Name=TRPV2;gbkey=Gene;gene=TRPV2;gene_biotype=protein_coding\\n']\n",
      "['NW_005871763.1', 'Gnomon', 'gene', '54293', '110753', '.', '-', '.', 'ID=gene25594;Dbxref=GeneID:102439940;Name=TRPV2;gbkey=Gene;gene=TRPV2;gene_biotype=protein_coding\\n']\n",
      "['NW_005871763.1', 'Gnomon', 'mRNA', '54293', '110753', '.', '-', '.', 'ID=rna44237;Parent=gene25594;Dbxref=GeneID:102439940,Genbank:XM_014447794.2;Name=XM_014447794.2;gbkey=mRNA;gene=TRPV2;model_evidence=Supporting evidence includes similarity to: 10 Proteins%2C and 75%25 coverage of the annotated genomic feature by RNAseq alignments;product=transient receptor potential cation channel subfamily V member 2;transcript_id=XM_014447794.2\\n']\n",
      "['NW_005871763.1', 'Gnomon', 'mRNA', '54293', '110753', '.', '-', '.', 'ID=rna44237;Parent=gene25594;Dbxref=GeneID:102439940,Genbank:XM_014447794.2;Name=XM_014447794.2;gbkey=mRNA;gene=TRPV2;model_evidence=Supporting evidence includes similarity to: 10 Proteins%2C and 75%25 coverage of the annotated genomic feature by RNAseq alignments;product=transient receptor potential cation channel subfamily V member 2;transcript_id=XM_014447794.2\\n']\n",
      "['NW_005871763.1', 'Gnomon', 'mRNA', '54293', '110753', '.', '-', '.', 'ID=rna44237;Parent=gene25594;Dbxref=GeneID:102439940,Genbank:XM_014447794.2;Name=XM_014447794.2;gbkey=mRNA;gene=TRPV2;model_evidence=Supporting evidence includes similarity to: 10 Proteins%2C and 75%25 coverage of the annotated genomic feature by RNAseq alignments;product=transient receptor potential cation channel subfamily V member 2;transcript_id=XM_014447794.2\\n']\n",
      "['NW_005871835.1', 'RefSeq', 'region', '1', '218465', '.', '+', '.', 'ID=id511186;Dbxref=taxon:59463;Name=Unknown;chromosome=Unknown;country=USA: Framingham%2C MA;gbkey=Src;genome=genomic;mol_type=genomic DNA;sex=female\\n']\n",
      "['NW_005871835.1', 'RefSeq', 'region', '1', '218465', '.', '+', '.', 'ID=id511186;Dbxref=taxon:59463;Name=Unknown;chromosome=Unknown;country=USA: Framingham%2C MA;gbkey=Src;genome=genomic;mol_type=genomic DNA;sex=female\\n']\n",
      "['NW_005871894.1', 'RefSeq', 'region', '1', '187315', '.', '+', '.', 'ID=id516349;Dbxref=taxon:59463;Name=Unknown;chromosome=Unknown;country=USA: Framingham%2C MA;gbkey=Src;genome=genomic;mol_type=genomic DNA;sex=female\\n']\n",
      "['NW_005871894.1', 'Gnomon', 'gene', '119721', '129200', '.', '+', '.', 'ID=gene26639;Dbxref=GeneID:106695100;Name=LOC106695100;gbkey=Gene;gene=LOC106695100;gene_biotype=protein_coding\\n']\n",
      "['NW_005871894.1', 'Gnomon', 'mRNA', '119721', '129200', '.', '+', '.', 'ID=rna45763;Parent=gene26639;Dbxref=GeneID:106695100,Genbank:XM_023747362.1;Name=XM_023747362.1;gbkey=mRNA;gene=LOC106695100;model_evidence=Supporting evidence includes similarity to: 1 Protein;product=butyrophilin subfamily 1 member A1-like;transcript_id=XM_023747362.1\\n']\n",
      "['NW_005871928.1', 'RefSeq', 'region', '1', '179127', '.', '+', '.', 'ID=id518087;Dbxref=taxon:59463;Name=Unknown;chromosome=Unknown;country=USA: Framingham%2C MA;gbkey=Src;genome=genomic;mol_type=genomic DNA;sex=female\\n']\n",
      "['NW_005872197.1', 'RefSeq', 'region', '1', '109374', '.', '+', '.', 'ID=id530527;Dbxref=taxon:59463;Name=Unknown;chromosome=Unknown;country=USA: Framingham%2C MA;gbkey=Src;genome=genomic;mol_type=genomic DNA;sex=female\\n']\n",
      "['NW_005872212.1', 'RefSeq', 'region', '1', '98718', '.', '+', '.', 'ID=id530833;Dbxref=taxon:59463;Name=Unknown;chromosome=Unknown;country=USA: Framingham%2C MA;gbkey=Src;genome=genomic;mol_type=genomic DNA;sex=female\\n']\n",
      "['NW_005872340.1', 'RefSeq', 'region', '1', '79815', '.', '+', '.', 'ID=id534457;Dbxref=taxon:59463;Name=Unknown;chromosome=Unknown;country=USA: Framingham%2C MA;gbkey=Src;genome=genomic;mol_type=genomic DNA;sex=female\\n']\n",
      "['NW_005872340.1', 'RefSeq', 'region', '1', '79815', '.', '+', '.', 'ID=id534457;Dbxref=taxon:59463;Name=Unknown;chromosome=Unknown;country=USA: Framingham%2C MA;gbkey=Src;genome=genomic;mol_type=genomic DNA;sex=female\\n']\n",
      "['NW_005872344.1', 'RefSeq', 'region', '1', '71063', '.', '+', '.', 'ID=id534508;Dbxref=taxon:59463;Name=Unknown;chromosome=Unknown;country=USA: Framingham%2C MA;gbkey=Src;genome=genomic;mol_type=genomic DNA;sex=female\\n']\n",
      "['NW_005872359.1', 'RefSeq', 'region', '1', '73771', '.', '+', '.', 'ID=id534904;Dbxref=taxon:59463;Name=Unknown;chromosome=Unknown;country=USA: Framingham%2C MA;gbkey=Src;genome=genomic;mol_type=genomic DNA;sex=female\\n']\n",
      "['NW_005872369.1', 'RefSeq', 'region', '1', '69700', '.', '+', '.', 'ID=id535007;Dbxref=taxon:59463;Name=Unknown;chromosome=Unknown;country=USA: Framingham%2C MA;gbkey=Src;genome=genomic;mol_type=genomic DNA;sex=female\\n']\n",
      "['NW_005873043.1', 'RefSeq', 'region', '1', '32562', '.', '+', '.', 'ID=id544747;Dbxref=taxon:59463;Name=Unknown;chromosome=Unknown;country=USA: Framingham%2C MA;gbkey=Src;genome=genomic;mol_type=genomic DNA;sex=female\\n']\n",
      "['NW_005873561.1', 'RefSeq', 'region', '1', '22736', '.', '+', '.', 'ID=id548097;Dbxref=taxon:59463;Name=Unknown;chromosome=Unknown;country=USA: Framingham%2C MA;gbkey=Src;genome=genomic;mol_type=genomic DNA;sex=female\\n']\n",
      "['NW_005873561.1', 'RefSeq', 'region', '1', '22736', '.', '+', '.', 'ID=id548097;Dbxref=taxon:59463;Name=Unknown;chromosome=Unknown;country=USA: Framingham%2C MA;gbkey=Src;genome=genomic;mol_type=genomic DNA;sex=female\\n']\n",
      "['NW_005873561.1', 'RefSeq', 'region', '1', '22736', '.', '+', '.', 'ID=id548097;Dbxref=taxon:59463;Name=Unknown;chromosome=Unknown;country=USA: Framingham%2C MA;gbkey=Src;genome=genomic;mol_type=genomic DNA;sex=female\\n']\n",
      "['NW_005873561.1', 'RefSeq', 'region', '1', '22736', '.', '+', '.', 'ID=id548097;Dbxref=taxon:59463;Name=Unknown;chromosome=Unknown;country=USA: Framingham%2C MA;gbkey=Src;genome=genomic;mol_type=genomic DNA;sex=female\\n']\n",
      "['NW_005873561.1', 'RefSeq', 'region', '1', '22736', '.', '+', '.', 'ID=id548097;Dbxref=taxon:59463;Name=Unknown;chromosome=Unknown;country=USA: Framingham%2C MA;gbkey=Src;genome=genomic;mol_type=genomic DNA;sex=female\\n']\n",
      "['NW_005874132.1', 'RefSeq', 'region', '1', '17475', '.', '+', '.', 'ID=id550268;Dbxref=taxon:59463;Name=Unknown;chromosome=Unknown;country=USA: Framingham%2C MA;gbkey=Src;genome=genomic;mol_type=genomic DNA;sex=female\\n']\n",
      "['NW_005874132.1', 'RefSeq', 'region', '1', '17475', '.', '+', '.', 'ID=id550268;Dbxref=taxon:59463;Name=Unknown;chromosome=Unknown;country=USA: Framingham%2C MA;gbkey=Src;genome=genomic;mol_type=genomic DNA;sex=female\\n']\n",
      "['NW_005874132.1', 'Gnomon', 'gene', '9746', '16458', '.', '+', '.', 'ID=gene29769;Dbxref=GeneID:102431463;Name=LOC102431463;end_range=16458,.;gbkey=Gene;gene=LOC102431463;gene_biotype=protein_coding;partial=true\\n']\n",
      "['NW_005874132.1', 'Gnomon', 'gene', '9746', '16458', '.', '+', '.', 'ID=gene29769;Dbxref=GeneID:102431463;Name=LOC102431463;end_range=16458,.;gbkey=Gene;gene=LOC102431463;gene_biotype=protein_coding;partial=true\\n']\n",
      "['NW_005874132.1', 'Gnomon', 'mRNA', '9746', '16458', '.', '+', '.', 'ID=rna49537;Parent=gene29769;Dbxref=GeneID:102431463,Genbank:XM_014450657.2;Name=XM_014450657.2;end_range=16458,.;gbkey=mRNA;gene=LOC102431463;model_evidence=Supporting evidence includes similarity to: 2 Proteins%2C and 34%25 coverage of the annotated genomic feature by RNAseq alignments;partial=true;product=pepsin F-like;transcript_id=XM_014450657.2\\n']\n",
      "['NW_005874132.1', 'Gnomon', 'mRNA', '9746', '16458', '.', '+', '.', 'ID=rna49537;Parent=gene29769;Dbxref=GeneID:102431463,Genbank:XM_014450657.2;Name=XM_014450657.2;end_range=16458,.;gbkey=mRNA;gene=LOC102431463;model_evidence=Supporting evidence includes similarity to: 2 Proteins%2C and 34%25 coverage of the annotated genomic feature by RNAseq alignments;partial=true;product=pepsin F-like;transcript_id=XM_014450657.2\\n']\n",
      "['NW_005874132.1', 'Gnomon', 'exon', '15035', '15151', '.', '+', '.', 'ID=id550274;Parent=rna49537;Dbxref=GeneID:102431463,Genbank:XM_014450657.2;gbkey=mRNA;gene=LOC102431463;partial=true;product=pepsin F-like;transcript_id=XM_014450657.2\\n']\n",
      "['NW_005874132.1', 'Gnomon', 'CDS', '15035', '15151', '.', '+', '1', 'ID=cds42176;Parent=rna49537;Dbxref=GeneID:102431463,Genbank:XP_014306143.2;Name=XP_014306143.2;gbkey=CDS;gene=LOC102431463;partial=true;product=pepsin F-like;protein_id=XP_014306143.2\\n']\n",
      "['NW_005882568.1', 'RefSeq', 'region', '1', '5022', '.', '+', '.', 'ID=id565075;Dbxref=taxon:59463;Name=Unknown;chromosome=Unknown;country=USA: Framingham%2C MA;gbkey=Src;genome=genomic;mol_type=genomic DNA;sex=female\\n']\n",
      "['NW_005882568.1', 'RefSeq', 'region', '1', '5022', '.', '+', '.', 'ID=id565075;Dbxref=taxon:59463;Name=Unknown;chromosome=Unknown;country=USA: Framingham%2C MA;gbkey=Src;genome=genomic;mol_type=genomic DNA;sex=female\\n']\n",
      "['NW_005882568.1', 'Gnomon', 'gene', '2192', '4533', '.', '+', '.', 'ID=gene31333;Dbxref=GeneID:106696183;Name=LOC106696183;end_range=4533,.;gbkey=Gene;gene=LOC106696183;gene_biotype=protein_coding;partial=true\\n']\n",
      "['NW_005882568.1', 'Gnomon', 'gene', '2192', '4533', '.', '+', '.', 'ID=gene31333;Dbxref=GeneID:106696183;Name=LOC106696183;end_range=4533,.;gbkey=Gene;gene=LOC106696183;gene_biotype=protein_coding;partial=true\\n']\n",
      "['NW_005882568.1', 'Gnomon', 'mRNA', '2192', '4533', '.', '+', '.', 'ID=rna50917;Parent=gene31333;Dbxref=GeneID:106696183,Genbank:XM_014451287.2;Name=XM_014451287.2;end_range=4533,.;gbkey=mRNA;gene=LOC106696183;model_evidence=Supporting evidence includes similarity to: 100%25 coverage of the annotated genomic feature by RNAseq alignments%2C including 2 samples with support for all annotated introns;partial=true;product=ficolin-2-like;transcript_id=XM_014451287.2\\n']\n",
      "['NW_005882568.1', 'Gnomon', 'mRNA', '2192', '4533', '.', '+', '.', 'ID=rna50917;Parent=gene31333;Dbxref=GeneID:106696183,Genbank:XM_014451287.2;Name=XM_014451287.2;end_range=4533,.;gbkey=mRNA;gene=LOC106696183;model_evidence=Supporting evidence includes similarity to: 100%25 coverage of the annotated genomic feature by RNAseq alignments%2C including 2 samples with support for all annotated introns;partial=true;product=ficolin-2-like;transcript_id=XM_014451287.2\\n']\n"
     ]
    },
    {
     "data": {
      "text/plain": [
       "78"
      ]
     },
     "execution_count": 1,
     "metadata": {},
     "output_type": "execute_result"
    }
   ],
   "source": [
    "f=open('/local/home/sarahgw/WGS/SNPS/Myso/mafs/Myso_SNPs_high.csv', 'r')\n",
    "a=open('/local/home/sarahgw/references/ref_Myoluc2.0_top_level.gff3', 'r')\n",
    "flines = f.readlines()[1:]\n",
    "chrom_dict = {}\n",
    "for line in flines:\n",
    "    line = line.replace('\"', '')\n",
    "    args = line.split(',')\n",
    "    if args[2] in chrom_dict:\n",
    "        chrom_dict[args[2]].append(int(args[3]))\n",
    "    else:\n",
    "        chrom_dict[args[2]] = [int(args[3])]\n",
    "        \n",
    "aline = a.readline()\n",
    "count = 0\n",
    "while aline:\n",
    "    agroups = aline.split('\\t')\n",
    "    #print(agroups)\n",
    "    chrom = agroups[0]\n",
    "    if chrom in chrom_dict:\n",
    "        for loc in chrom_dict[chrom]:\n",
    "        # loc = chrom_dict[chrom]\n",
    "            if int(agroups[3]) < (loc) and int(agroups[4]) > (loc):\n",
    "                count += 1\n",
    "                print agroups\n",
    "    aline = a.readline()\n",
    "count"
   ]
  },
  {
   "cell_type": "code",
   "execution_count": 3,
   "metadata": {
    "scrolled": true
   },
   "outputs": [
    {
     "name": "stdout",
     "output_type": "stream",
     "text": [
      "['NW_005871048.1', 'RefSeq', 'region', '1', '64990205', '.', '+', '.', 'ID=id0;Dbxref=taxon:59463;Name=Unknown;chromosome=Unknown;country=USA: Framingham%2C MA;gbkey=Src;genome=genomic;mol_type=genomic DNA;sex=female\\n']\n",
      "['NW_005871049.1', 'RefSeq', 'region', '1', '39494369', '.', '+', '.', 'ID=id14505;Dbxref=taxon:59463;Name=Unknown;chromosome=Unknown;country=USA: Framingham%2C MA;gbkey=Src;genome=genomic;mol_type=genomic DNA;sex=female\\n']\n",
      "['NW_005871051.1', 'RefSeq', 'region', '1', '30916457', '.', '+', '.', 'ID=id28999;Dbxref=taxon:59463;Name=Unknown;chromosome=Unknown;country=USA: Framingham%2C MA;gbkey=Src;genome=genomic;mol_type=genomic DNA;sex=female\\n']\n",
      "['NW_005871053.1', 'RefSeq', 'region', '1', '20945196', '.', '+', '.', 'ID=id44306;Dbxref=taxon:59463;Name=Unknown;chromosome=Unknown;country=USA: Framingham%2C MA;gbkey=Src;genome=genomic;mol_type=genomic DNA;sex=female\\n']\n",
      "['NW_005871053.1', 'Gnomon', 'gene', '8711696', '8718521', '.', '+', '.', 'ID=gene2288;Dbxref=GeneID:111823427;Name=LOC111823427;gbkey=Gene;gene=LOC111823427;gene_biotype=lncRNA\\n']\n",
      "['NW_005871053.1', 'Gnomon', 'lnc_RNA', '8711696', '8718521', '.', '+', '.', 'ID=rna3891;Parent=gene2288;Dbxref=GeneID:111823427,Genbank:XR_002826443.1;Name=XR_002826443.1;gbkey=ncRNA;gene=LOC111823427;model_evidence=Supporting evidence includes similarity to: 100%25 coverage of the annotated genomic feature by RNAseq alignments%2C including 1 sample with support for all annotated introns;product=uncharacterized LOC111823427;transcript_id=XR_002826443.1\\n']\n",
      "['NW_005871056.1', 'RefSeq', 'region', '1', '18579217', '.', '+', '.', 'ID=id61133;Dbxref=taxon:59463;Name=Unknown;chromosome=Unknown;country=USA: Framingham%2C MA;gbkey=Src;genome=genomic;mol_type=genomic DNA;sex=female\\n']\n",
      "['NW_005871059.1', 'RefSeq', 'region', '1', '16239124', '.', '+', '.', 'ID=id75527;Dbxref=taxon:59463;Name=Unknown;chromosome=Unknown;country=USA: Framingham%2C MA;gbkey=Src;genome=genomic;mol_type=genomic DNA;sex=female\\n']\n",
      "['NW_005871062.1', 'RefSeq', 'region', '1', '15274826', '.', '+', '.', 'ID=id85264;Dbxref=taxon:59463;Name=Unknown;chromosome=Unknown;country=USA: Framingham%2C MA;gbkey=Src;genome=genomic;mol_type=genomic DNA;sex=female\\n']\n",
      "['NW_005871062.1', 'Gnomon', 'gene', '7590919', '7653791', '.', '+', '.', 'ID=gene4088;Dbxref=GeneID:102427812;Name=MASP1;gbkey=Gene;gene=MASP1;gene_biotype=protein_coding\\n']\n",
      "['NW_005871062.1', 'Gnomon', 'mRNA', '7590919', '7637874', '.', '+', '.', 'ID=rna7049;Parent=gene4088;Dbxref=GeneID:102427812,Genbank:XM_006084791.3;Name=XM_006084791.3;gbkey=mRNA;gene=MASP1;model_evidence=Supporting evidence includes similarity to: 3 mRNAs%2C 8 Proteins%2C and 99%25 coverage of the annotated genomic feature by RNAseq alignments%2C including 1 sample with support for all annotated introns;product=mannan binding lectin serine peptidase 1%2C transcript variant X1;transcript_id=XM_006084791.3\\n']\n",
      "['NW_005871062.1', 'Gnomon', 'mRNA', '7590957', '7653791', '.', '+', '.', 'ID=rna7050;Parent=gene4088;Dbxref=GeneID:102427812,Genbank:XM_006084792.3;Name=XM_006084792.3;gbkey=mRNA;gene=MASP1;model_evidence=Supporting evidence includes similarity to: 1 mRNA%2C 9 Proteins%2C and 72%25 coverage of the annotated genomic feature by RNAseq alignments;product=mannan binding lectin serine peptidase 1%2C transcript variant X2;transcript_id=XM_006084792.3\\n']\n",
      "['NW_005871073.1', 'RefSeq', 'region', '1', '10646666', '.', '+', '.', 'ID=id114773;Dbxref=taxon:59463;Name=Unknown;chromosome=Unknown;country=USA: Framingham%2C MA;gbkey=Src;genome=genomic;mol_type=genomic DNA;sex=female\\n']\n",
      "['NW_005871076.1', 'RefSeq', 'region', '1', '10643064', '.', '+', '.', 'ID=id119730;Dbxref=taxon:59463;Name=Unknown;chromosome=Unknown;country=USA: Framingham%2C MA;gbkey=Src;genome=genomic;mol_type=genomic DNA;sex=female\\n']\n",
      "['NW_005871076.1', 'Gnomon', 'gene', '3903932', '3912832', '.', '+', '.', 'ID=gene5943;Dbxref=GeneID:102433949;Name=GNPDA1;gbkey=Gene;gene=GNPDA1;gene_biotype=protein_coding\\n']\n",
      "['NW_005871076.1', 'Gnomon', 'mRNA', '3903932', '3912832', '.', '+', '.', 'ID=rna9907;Parent=gene5943;Dbxref=GeneID:102433949,Genbank:XM_006086425.3;Name=XM_006086425.3;gbkey=mRNA;gene=GNPDA1;model_evidence=Supporting evidence includes similarity to: 5 mRNAs%2C 12 Proteins%2C and 100%25 coverage of the annotated genomic feature by RNAseq alignments%2C including 26 samples with support for all annotated introns;product=glucosamine-6-phosphate deaminase 1;transcript_id=XM_006086425.3\\n']\n",
      "['NW_005871083.1', 'RefSeq', 'region', '1', '9082911', '.', '+', '.', 'ID=id133156;Dbxref=taxon:59463;Name=Unknown;chromosome=Unknown;country=USA: Framingham%2C MA;gbkey=Src;genome=genomic;mol_type=genomic DNA;sex=female\\n']\n",
      "['NW_005871083.1', 'Gnomon', 'gene', '3979298', '4208728', '.', '-', '.', 'ID=gene6576;Dbxref=GeneID:102420738;Name=CMIP;gbkey=Gene;gene=CMIP;gene_biotype=protein_coding\\n']\n",
      "['NW_005871083.1', 'Gnomon', 'mRNA', '3979298', '4208728', '.', '-', '.', 'ID=rna11031;Parent=gene6576;Dbxref=GeneID:102420738,Genbank:XM_006087043.3;Name=XM_006087043.3;Note=The sequence of the model RefSeq transcript was modified relative to this genomic sequence to represent the inferred CDS: deleted 1 base in 1 codon;exception=unclassified transcription discrepancy;gbkey=mRNA;gene=CMIP;model_evidence=Supporting evidence includes similarity to: 2 mRNAs%2C 5 Proteins%2C and 99%25 coverage of the annotated genomic feature by RNAseq alignments%2C including 23 samples with support for all annotated introns;product=c-Maf inducing protein;transcript_id=XM_006087043.3\\n']\n",
      "['NW_005871087.1', 'RefSeq', 'region', '1', '8424078', '.', '+', '.', 'ID=id142776;Dbxref=taxon:59463;Name=Unknown;chromosome=Unknown;country=USA: Framingham%2C MA;gbkey=Src;genome=genomic;mol_type=genomic DNA;sex=female\\n']\n",
      "['NW_005871097.1', 'RefSeq', 'region', '1', '7348857', '.', '+', '.', 'ID=id162626;Dbxref=taxon:59463;Name=Unknown;chromosome=Unknown;country=USA: Framingham%2C MA;gbkey=Src;genome=genomic;mol_type=genomic DNA;sex=female\\n']\n",
      "['NW_005871097.1', 'Gnomon', 'gene', '3142067', '3321329', '.', '-', '.', 'ID=gene8121;Dbxref=GeneID:102440988;Name=REPS2;gbkey=Gene;gene=REPS2;gene_biotype=protein_coding\\n']\n",
      "['NW_005871097.1', 'Gnomon', 'mRNA', '3142067', '3321329', '.', '-', '.', 'ID=rna13665;Parent=gene8121;Dbxref=GeneID:102440988,Genbank:XM_023753740.1;Name=XM_023753740.1;gbkey=mRNA;gene=REPS2;model_evidence=Supporting evidence includes similarity to: 1 Protein%2C and 82%25 coverage of the annotated genomic feature by RNAseq alignments;product=RALBP1 associated Eps domain containing 2;transcript_id=XM_023753740.1\\n']\n",
      "['NW_005871100.1', 'RefSeq', 'region', '1', '7058687', '.', '+', '.', 'ID=id166315;Dbxref=taxon:59463;Name=Unknown;chromosome=Unknown;country=USA: Framingham%2C MA;gbkey=Src;genome=genomic;mol_type=genomic DNA;sex=female\\n']\n",
      "['NW_005871109.1', 'RefSeq', 'region', '1', '6495742', '.', '+', '.', 'ID=id181624;Dbxref=taxon:59463;Name=Unknown;chromosome=Unknown;country=USA: Framingham%2C MA;gbkey=Src;genome=genomic;mol_type=genomic DNA;sex=female\\n']\n",
      "['NW_005871109.1', 'Gnomon', 'gene', '1466518', '1571546', '.', '-', '.', 'ID=gene9207;Dbxref=GeneID:102429587;Name=ARNTL;gbkey=Gene;gene=ARNTL;gene_biotype=protein_coding\\n']\n",
      "['NW_005871109.1', 'Gnomon', 'mRNA', '1466518', '1571546', '.', '-', '.', 'ID=rna15437;Parent=gene9207;Dbxref=GeneID:102429587,Genbank:XM_014456589.2;Name=XM_014456589.2;gbkey=mRNA;gene=ARNTL;model_evidence=Supporting evidence includes similarity to: 2 mRNAs%2C 7 Proteins%2C and 100%25 coverage of the annotated genomic feature by RNAseq alignments%2C including 5 samples with support for all annotated introns;product=aryl hydrocarbon receptor nuclear translocator like%2C transcript variant X5;transcript_id=XM_014456589.2\\n']\n",
      "['NW_005871109.1', 'Gnomon', 'mRNA', '1466518', '1571546', '.', '-', '.', 'ID=rna15438;Parent=gene9207;Dbxref=GeneID:102429587,Genbank:XM_014456592.2;Name=XM_014456592.2;gbkey=mRNA;gene=ARNTL;model_evidence=Supporting evidence includes similarity to: 9 Proteins%2C and 100%25 coverage of the annotated genomic feature by RNAseq alignments%2C including 8 samples with support for all annotated introns;product=aryl hydrocarbon receptor nuclear translocator like%2C transcript variant X8;transcript_id=XM_014456592.2\\n']\n",
      "['NW_005871109.1', 'Gnomon', 'mRNA', '1466518', '1571546', '.', '-', '.', 'ID=rna15439;Parent=gene9207;Dbxref=GeneID:102429587,Genbank:XM_014456591.2;Name=XM_014456591.2;gbkey=mRNA;gene=ARNTL;model_evidence=Supporting evidence includes similarity to: 2 mRNAs%2C 13 Proteins%2C and 100%25 coverage of the annotated genomic feature by RNAseq alignments%2C including 9 samples with support for all annotated introns;product=aryl hydrocarbon receptor nuclear translocator like%2C transcript variant X7;transcript_id=XM_014456591.2\\n']\n",
      "['NW_005871109.1', 'Gnomon', 'mRNA', '1466518', '1571546', '.', '-', '.', 'ID=rna15440;Parent=gene9207;Dbxref=GeneID:102429587,Genbank:XM_023754517.1;Name=XM_023754517.1;gbkey=mRNA;gene=ARNTL;model_evidence=Supporting evidence includes similarity to: 2 Proteins%2C and 100%25 coverage of the annotated genomic feature by RNAseq alignments%2C including 10 samples with support for all annotated introns;product=aryl hydrocarbon receptor nuclear translocator like%2C transcript variant X9;transcript_id=XM_023754517.1\\n']\n",
      "['NW_005871109.1', 'Gnomon', 'mRNA', '1466518', '1571546', '.', '-', '.', 'ID=rna15441;Parent=gene9207;Dbxref=GeneID:102429587,Genbank:XM_014456590.2;Name=XM_014456590.2;gbkey=mRNA;gene=ARNTL;model_evidence=Supporting evidence includes similarity to: 8 Proteins%2C and 100%25 coverage of the annotated genomic feature by RNAseq alignments%2C including 10 samples with support for all annotated introns;product=aryl hydrocarbon receptor nuclear translocator like%2C transcript variant X6;transcript_id=XM_014456590.2\\n']\n",
      "['NW_005871109.1', 'Gnomon', 'mRNA', '1466518', '1571546', '.', '-', '.', 'ID=rna15442;Parent=gene9207;Dbxref=GeneID:102429587,Genbank:XM_014456593.2;Name=XM_014456593.2;gbkey=mRNA;gene=ARNTL;model_evidence=Supporting evidence includes similarity to: 1 Protein%2C and 100%25 coverage of the annotated genomic feature by RNAseq alignments%2C including 12 samples with support for all annotated introns;product=aryl hydrocarbon receptor nuclear translocator like%2C transcript variant X11;transcript_id=XM_014456593.2\\n']\n",
      "['NW_005871109.1', 'Gnomon', 'mRNA', '1466518', '1571546', '.', '-', '.', 'ID=rna15443;Parent=gene9207;Dbxref=GeneID:102429587,Genbank:XM_014456586.2;Name=XM_014456586.2;gbkey=mRNA;gene=ARNTL;model_evidence=Supporting evidence includes similarity to: 2 mRNAs%2C 7 Proteins%2C and 100%25 coverage of the annotated genomic feature by RNAseq alignments%2C including 12 samples with support for all annotated introns;product=aryl hydrocarbon receptor nuclear translocator like%2C transcript variant X1;transcript_id=XM_014456586.2\\n']\n",
      "['NW_005871109.1', 'Gnomon', 'mRNA', '1466518', '1571546', '.', '-', '.', 'ID=rna15444;Parent=gene9207;Dbxref=GeneID:102429587,Genbank:XM_014456588.2;Name=XM_014456588.2;gbkey=mRNA;gene=ARNTL;model_evidence=Supporting evidence includes similarity to: 2 mRNAs%2C 7 Proteins%2C and 100%25 coverage of the annotated genomic feature by RNAseq alignments%2C including 5 samples with support for all annotated introns;product=aryl hydrocarbon receptor nuclear translocator like%2C transcript variant X4;transcript_id=XM_014456588.2\\n']\n",
      "['NW_005871109.1', 'Gnomon', 'mRNA', '1466518', '1571546', '.', '-', '.', 'ID=rna15445;Parent=gene9207;Dbxref=GeneID:102429587,Genbank:XM_006089587.3;Name=XM_006089587.3;gbkey=mRNA;gene=ARNTL;model_evidence=Supporting evidence includes similarity to: 2 mRNAs%2C 7 Proteins%2C and 100%25 coverage of the annotated genomic feature by RNAseq alignments%2C including 4 samples with support for all annotated introns;product=aryl hydrocarbon receptor nuclear translocator like%2C transcript variant X2;transcript_id=XM_006089587.3\\n']\n",
      "['NW_005871109.1', 'Gnomon', 'mRNA', '1466518', '1503619', '.', '-', '.', 'ID=rna15446;Parent=gene9207;Dbxref=GeneID:102429587,Genbank:XM_023754516.1;Name=XM_023754516.1;gbkey=mRNA;gene=ARNTL;model_evidence=Supporting evidence includes similarity to: 2 mRNAs%2C 7 Proteins%2C and 100%25 coverage of the annotated genomic feature by RNAseq alignments%2C including 6 samples with support for all annotated introns;product=aryl hydrocarbon receptor nuclear translocator like%2C transcript variant X3;transcript_id=XM_023754516.1\\n']\n",
      "['NW_005871109.1', 'Gnomon', 'mRNA', '1469463', '1571546', '.', '-', '.', 'ID=rna15448;Parent=gene9207;Dbxref=GeneID:102429587,Genbank:XM_023754518.1;Name=XM_023754518.1;gbkey=mRNA;gene=ARNTL;model_evidence=Supporting evidence includes similarity to: 1 Protein%2C and 100%25 coverage of the annotated genomic feature by RNAseq alignments%2C including 3 samples with support for all annotated introns;product=aryl hydrocarbon receptor nuclear translocator like%2C transcript variant X10;transcript_id=XM_023754518.1\\n']\n"
     ]
    },
    {
     "name": "stdout",
     "output_type": "stream",
     "text": [
      "['NW_005871122.1', 'RefSeq', 'region', '1', '5136827', '.', '+', '.', 'ID=id201139;Dbxref=taxon:59463;Name=Unknown;chromosome=Unknown;country=USA: Framingham%2C MA;gbkey=Src;genome=genomic;mol_type=genomic DNA;sex=female\\n']\n",
      "['NW_005871122.1', 'Gnomon', 'gene', '3434412', '3529751', '.', '-', '.', 'ID=gene10137;Dbxref=GeneID:102437398;Name=PCDH17;gbkey=Gene;gene=PCDH17;gene_biotype=protein_coding\\n']\n",
      "['NW_005871122.1', 'Gnomon', 'mRNA', '3434412', '3529751', '.', '-', '.', 'ID=rna17052;Parent=gene10137;Dbxref=GeneID:102437398,Genbank:XM_006090529.3;Name=XM_006090529.3;gbkey=mRNA;gene=PCDH17;model_evidence=Supporting evidence includes similarity to: 2 mRNAs%2C 5 Proteins%2C and 95%25 coverage of the annotated genomic feature by RNAseq alignments;product=protocadherin 17;transcript_id=XM_006090529.3\\n']\n",
      "['NW_005871123.1', 'RefSeq', 'region', '1', '5160323', '.', '+', '.', 'ID=id201293;Dbxref=taxon:59463;Name=Unknown;chromosome=Unknown;country=USA: Framingham%2C MA;gbkey=Src;genome=genomic;mol_type=genomic DNA;sex=female\\n']\n",
      "['NW_005871129.1', 'RefSeq', 'region', '1', '4918922', '.', '+', '.', 'ID=id207190;Dbxref=taxon:59463;Name=Unknown;chromosome=Unknown;country=USA: Framingham%2C MA;gbkey=Src;genome=genomic;mol_type=genomic DNA;sex=female\\n']\n",
      "['NW_005871129.1', 'Gnomon', 'gene', '2123766', '3029105', '.', '-', '.', 'ID=gene10442;Dbxref=GeneID:102423892;Name=MDGA2;gbkey=Gene;gene=MDGA2;gene_biotype=protein_coding\\n']\n",
      "['NW_005871129.1', 'Gnomon', 'mRNA', '2123766', '3029105', '.', '-', '.', 'ID=rna17512;Parent=gene10442;Dbxref=GeneID:102423892,Genbank:XM_006090751.3;Name=XM_006090751.3;gbkey=mRNA;gene=MDGA2;model_evidence=Supporting evidence includes similarity to: 5 mRNAs%2C 5 Proteins%2C and 17%25 coverage of the annotated genomic feature by RNAseq alignments;product=MAM domain containing glycosylphosphatidylinositol anchor 2%2C transcript variant X1;transcript_id=XM_006090751.3\\n']\n",
      "['NW_005871129.1', 'Gnomon', 'mRNA', '2123766', '2635771', '.', '-', '.', 'ID=rna17513;Parent=gene10442;Dbxref=GeneID:102423892,Genbank:XM_006090753.2;Name=XM_006090753.2;gbkey=mRNA;gene=MDGA2;model_evidence=Supporting evidence includes similarity to: 5 mRNAs%2C 1 Protein%2C and 9%25 coverage of the annotated genomic feature by RNAseq alignments;product=MAM domain containing glycosylphosphatidylinositol anchor 2%2C transcript variant X2;transcript_id=XM_006090753.2\\n']\n",
      "['NW_005871136.1', 'RefSeq', 'region', '1', '4679154', '.', '+', '.', 'ID=id215563;Dbxref=taxon:59463;Name=Unknown;chromosome=Unknown;country=USA: Framingham%2C MA;gbkey=Src;genome=genomic;mol_type=genomic DNA;sex=female\\n']\n",
      "['NW_005871136.1', 'Gnomon', 'gene', '4372562', '4411869', '.', '-', '.', 'ID=gene10904;Dbxref=GeneID:102426505;Name=FA2H;gbkey=Gene;gene=FA2H;gene_biotype=protein_coding\\n']\n",
      "['NW_005871136.1', 'Gnomon', 'mRNA', '4372562', '4411869', '.', '-', '.', 'ID=rna18385;Parent=gene10904;Dbxref=GeneID:102426505,Genbank:XM_006091226.3;Name=XM_006091226.3;gbkey=mRNA;gene=FA2H;model_evidence=Supporting evidence includes similarity to: 4 Proteins%2C and 100%25 coverage of the annotated genomic feature by RNAseq alignments%2C including 4 samples with support for all annotated introns;product=fatty acid 2-hydroxylase;transcript_id=XM_006091226.3\\n']\n",
      "['NW_005871140.1', 'RefSeq', 'region', '1', '4592439', '.', '+', '.', 'ID=id224920;Dbxref=taxon:59463;Name=Unknown;chromosome=Unknown;country=USA: Framingham%2C MA;gbkey=Src;genome=genomic;mol_type=genomic DNA;sex=female\\n']\n",
      "['NW_005871142.1', 'RefSeq', 'region', '1', '4514962', '.', '+', '.', 'ID=id226172;Dbxref=taxon:59463;Name=Unknown;chromosome=Unknown;country=USA: Framingham%2C MA;gbkey=Src;genome=genomic;mol_type=genomic DNA;sex=female\\n']\n",
      "['NW_005871142.1', 'Gnomon', 'gene', '263205', '312860', '.', '+', '.', 'ID=gene11267;Dbxref=GeneID:102442682;Name=ADCY3;gbkey=Gene;gene=ADCY3;gene_biotype=protein_coding\\n']\n",
      "['NW_005871142.1', 'Gnomon', 'mRNA', '263205', '312362', '.', '+', '.', 'ID=rna19111;Parent=gene11267;Dbxref=GeneID:102442682,Genbank:XM_006091691.3;Name=XM_006091691.3;gbkey=mRNA;gene=ADCY3;model_evidence=Supporting evidence includes similarity to: 5 mRNAs%2C 10 Proteins%2C and 99%25 coverage of the annotated genomic feature by RNAseq alignments%2C including 1 sample with support for all annotated introns;product=adenylate cyclase 3%2C transcript variant X1;transcript_id=XM_006091691.3\\n']\n",
      "['NW_005871142.1', 'Gnomon', 'mRNA', '263528', '312860', '.', '+', '.', 'ID=rna19112;Parent=gene11267;Dbxref=GeneID:102442682,Genbank:XM_023756431.1;Name=XM_023756431.1;gbkey=mRNA;gene=ADCY3;model_evidence=Supporting evidence includes similarity to: 5 mRNAs%2C 10 Proteins%2C and 99%25 coverage of the annotated genomic feature by RNAseq alignments%2C including 14 samples with support for all annotated introns;product=adenylate cyclase 3%2C transcript variant X2;transcript_id=XM_023756431.1\\n']\n",
      "['NW_005871148.1', 'RefSeq', 'region', '1', '4444721', '.', '+', '.', 'ID=id238203;Dbxref=taxon:59463;Name=Unknown;chromosome=Unknown;country=USA: Framingham%2C MA;gbkey=Src;genome=genomic;mol_type=genomic DNA;sex=female\\n']\n",
      "['NW_005871148.1', 'Gnomon', 'gene', '2560994', '2842740', '.', '-', '.', 'ID=gene11898;Dbxref=GeneID:102438113;Name=CEP112;gbkey=Gene;gene=CEP112;gene_biotype=protein_coding\\n']\n",
      "['NW_005871148.1', 'Gnomon', 'mRNA', '2560994', '2842740', '.', '-', '.', 'ID=rna20342;Parent=gene11898;Dbxref=GeneID:102438113,Genbank:XM_014458887.2;Name=XM_014458887.2;gbkey=mRNA;gene=CEP112;model_evidence=Supporting evidence includes similarity to: 2 Proteins%2C and 100%25 coverage of the annotated genomic feature by RNAseq alignments;product=centrosomal protein 112;transcript_id=XM_014458887.2\\n']\n",
      "['NW_005871152.1', 'RefSeq', 'region', '1', '4256317', '.', '+', '.', 'ID=id248686;Dbxref=taxon:59463;Name=Unknown;chromosome=Unknown;country=USA: Framingham%2C MA;gbkey=Src;genome=genomic;mol_type=genomic DNA;sex=female\\n']\n",
      "['NW_005871160.1', 'RefSeq', 'region', '1', '4019553', '.', '+', '.', 'ID=id259229;Dbxref=taxon:59463;Name=Unknown;chromosome=Unknown;country=USA: Framingham%2C MA;gbkey=Src;genome=genomic;mol_type=genomic DNA;sex=female\\n']\n",
      "['NW_005871166.1', 'RefSeq', 'region', '1', '3905128', '.', '+', '.', 'ID=id263990;Dbxref=taxon:59463;Name=Unknown;chromosome=Unknown;country=USA: Framingham%2C MA;gbkey=Src;genome=genomic;mol_type=genomic DNA;sex=female\\n']\n",
      "['NW_005871169.1', 'RefSeq', 'region', '1', '3838405', '.', '+', '.', 'ID=id267292;Dbxref=taxon:59463;Name=Unknown;chromosome=Unknown;country=USA: Framingham%2C MA;gbkey=Src;genome=genomic;mol_type=genomic DNA;sex=female\\n']\n",
      "['NW_005871177.1', 'RefSeq', 'region', '1', '3690467', '.', '+', '.', 'ID=id275767;Dbxref=taxon:59463;Name=Unknown;chromosome=Unknown;country=USA: Framingham%2C MA;gbkey=Src;genome=genomic;mol_type=genomic DNA;sex=female\\n']\n",
      "['NW_005871187.1', 'RefSeq', 'region', '1', '3538212', '.', '+', '.', 'ID=id285453;Dbxref=taxon:59463;Name=Unknown;chromosome=Unknown;country=USA: Framingham%2C MA;gbkey=Src;genome=genomic;mol_type=genomic DNA;sex=female\\n']\n",
      "['NW_005871187.1', 'Gnomon', 'gene', '1853352', '1968511', '.', '+', '.', 'ID=gene14209;Dbxref=GeneID:111827161;Name=LOC111827161;gbkey=Gene;gene=LOC111827161;gene_biotype=lncRNA\\n']\n",
      "['NW_005871187.1', 'Gnomon', 'lnc_RNA', '1853352', '1968511', '.', '+', '.', 'ID=rna24334;Parent=gene14209;Dbxref=GeneID:111827161,Genbank:XR_002830677.1;Name=XR_002830677.1;gbkey=ncRNA;gene=LOC111827161;model_evidence=Supporting evidence includes similarity to: 100%25 coverage of the annotated genomic feature by RNAseq alignments;product=uncharacterized LOC111827161;transcript_id=XR_002830677.1\\n']\n",
      "['NW_005871191.1', 'RefSeq', 'region', '1', '3403133', '.', '+', '.', 'ID=id287356;Dbxref=taxon:59463;Name=Unknown;chromosome=Unknown;country=USA: Framingham%2C MA;gbkey=Src;genome=genomic;mol_type=genomic DNA;sex=female\\n']\n",
      "['NW_005871191.1', 'Gnomon', 'gene', '2216577', '2888781', '.', '-', '.', 'ID=gene14416;Dbxref=GeneID:102435969;Name=NELL1;gbkey=Gene;gene=NELL1;gene_biotype=protein_coding\\n']\n",
      "['NW_005871191.1', 'Gnomon', 'mRNA', '2216577', '2888781', '.', '-', '.', 'ID=rna24556;Parent=gene14416;Dbxref=GeneID:102435969,Genbank:XM_023758901.1;Name=XM_023758901.1;gbkey=mRNA;gene=NELL1;model_evidence=Supporting evidence includes similarity to: 11 Proteins%2C and 94%25 coverage of the annotated genomic feature by RNAseq alignments;product=neural EGFL like 1;transcript_id=XM_023758901.1\\n']\n",
      "['NW_005871208.1', 'RefSeq', 'region', '1', '3092412', '.', '+', '.', 'ID=id304554;Dbxref=taxon:59463;Name=Unknown;chromosome=Unknown;country=USA: Framingham%2C MA;gbkey=Src;genome=genomic;mol_type=genomic DNA;sex=female\\n']\n",
      "['NW_005871210.1', 'RefSeq', 'region', '1', '3019976', '.', '+', '.', 'ID=id307691;Dbxref=taxon:59463;Name=Unknown;chromosome=Unknown;country=USA: Framingham%2C MA;gbkey=Src;genome=genomic;mol_type=genomic DNA;sex=female\\n']\n",
      "['NW_005871210.1', 'Gnomon', 'gene', '2499532', '3006516', '.', '+', '.', 'ID=gene15442;Dbxref=GeneID:102425362;Name=SORCS3;gbkey=Gene;gene=SORCS3;gene_biotype=protein_coding\\n']\n",
      "['NW_005871210.1', 'Gnomon', 'mRNA', '2499532', '3006516', '.', '+', '.', 'ID=rna26668;Parent=gene15442;Dbxref=GeneID:102425362,Genbank:XM_006095936.3;Name=XM_006095936.3;gbkey=mRNA;gene=SORCS3;model_evidence=Supporting evidence includes similarity to: 4 mRNAs%2C 11 Proteins%2C and 30%25 coverage of the annotated genomic feature by RNAseq alignments;product=sortilin related VPS10 domain containing receptor 3;transcript_id=XM_006095936.3\\n']\n"
     ]
    },
    {
     "name": "stdout",
     "output_type": "stream",
     "text": [
      "['NW_005871219.1', 'RefSeq', 'region', '1', '2865968', '.', '+', '.', 'ID=id315315;Dbxref=taxon:59463;Name=Unknown;chromosome=Unknown;country=USA: Framingham%2C MA;gbkey=Src;genome=genomic;mol_type=genomic DNA;sex=female\\n']\n",
      "['NW_005871228.1', 'RefSeq', 'region', '1', '2723584', '.', '+', '.', 'ID=id320747;Dbxref=taxon:59463;Name=Unknown;chromosome=Unknown;country=USA: Framingham%2C MA;gbkey=Src;genome=genomic;mol_type=genomic DNA;sex=female\\n']\n",
      "['NW_005871236.1', 'RefSeq', 'region', '1', '2551290', '.', '+', '.', 'ID=id327813;Dbxref=taxon:59463;Name=Unknown;chromosome=Unknown;country=USA: Framingham%2C MA;gbkey=Src;genome=genomic;mol_type=genomic DNA;sex=female\\n']\n",
      "['NW_005871243.1', 'RefSeq', 'region', '1', '2513712', '.', '+', '.', 'ID=id331702;Dbxref=taxon:59463;Name=Unknown;chromosome=Unknown;country=USA: Framingham%2C MA;gbkey=Src;genome=genomic;mol_type=genomic DNA;sex=female\\n']\n",
      "['NW_005871246.1', 'RefSeq', 'region', '1', '2532579', '.', '+', '.', 'ID=id335396;Dbxref=taxon:59463;Name=Unknown;chromosome=Unknown;country=USA: Framingham%2C MA;gbkey=Src;genome=genomic;mol_type=genomic DNA;sex=female\\n']\n",
      "['NW_005871246.1', 'Gnomon', 'gene', '1936775', '1992192', '.', '-', '.', 'ID=gene16883;Dbxref=GeneID:102429022;Name=CBFA2T3;gbkey=Gene;gene=CBFA2T3;gene_biotype=protein_coding\\n']\n",
      "['NW_005871246.1', 'Gnomon', 'mRNA', '1936775', '1992192', '.', '-', '.', 'ID=rna29149;Parent=gene16883;Dbxref=GeneID:102429022,Genbank:XM_006097355.3;Name=XM_006097355.3;gbkey=mRNA;gene=CBFA2T3;model_evidence=Supporting evidence includes similarity to: 2 mRNAs%2C 1 Protein%2C and 99%25 coverage of the annotated genomic feature by RNAseq alignments;product=CBFA2/RUNX1 translocation partner 3;transcript_id=XM_006097355.3\\n']\n",
      "['NW_005871250.1', 'RefSeq', 'region', '1', '2370814', '.', '+', '.', 'ID=id338256;Dbxref=taxon:59463;Name=Unknown;chromosome=Unknown;country=USA: Framingham%2C MA;gbkey=Src;genome=genomic;mol_type=genomic DNA;sex=female\\n']\n",
      "['NW_005871263.1', 'RefSeq', 'region', '1', '2259905', '.', '+', '.', 'ID=id349927;Dbxref=taxon:59463;Name=Unknown;chromosome=Unknown;country=USA: Framingham%2C MA;gbkey=Src;genome=genomic;mol_type=genomic DNA;sex=female\\n']\n",
      "['NW_005871279.1', 'RefSeq', 'region', '1', '1996049', '.', '+', '.', 'ID=id357671;Dbxref=taxon:59463;Name=Unknown;chromosome=Unknown;country=USA: Framingham%2C MA;gbkey=Src;genome=genomic;mol_type=genomic DNA;sex=female\\n']\n",
      "['NW_005871289.1', 'RefSeq', 'region', '1', '1901218', '.', '+', '.', 'ID=id361809;Dbxref=taxon:59463;Name=Unknown;chromosome=Unknown;country=USA: Framingham%2C MA;gbkey=Src;genome=genomic;mol_type=genomic DNA;sex=female\\n']\n",
      "['NW_005871299.1', 'RefSeq', 'region', '1', '1811804', '.', '+', '.', 'ID=id366663;Dbxref=taxon:59463;Name=Unknown;chromosome=Unknown;country=USA: Framingham%2C MA;gbkey=Src;genome=genomic;mol_type=genomic DNA;sex=female\\n']\n",
      "['NW_005871310.1', 'RefSeq', 'region', '1', '1841132', '.', '+', '.', 'ID=id371601;Dbxref=taxon:59463;Name=Unknown;chromosome=Unknown;country=USA: Framingham%2C MA;gbkey=Src;genome=genomic;mol_type=genomic DNA;sex=female\\n']\n",
      "['NW_005871310.1', 'Gnomon', 'gene', '1634027', '1669272', '.', '-', '.', 'ID=gene18766;Dbxref=GeneID:102443128;Name=GEMIN4;gbkey=Gene;gene=GEMIN4;gene_biotype=protein_coding\\n']\n",
      "['NW_005871310.1', 'Gnomon', 'mRNA', '1653940', '1669272', '.', '-', '.', 'ID=rna32507;Parent=gene18766;Dbxref=GeneID:102443128,Genbank:XM_023762809.1;Name=XM_023762809.1;gbkey=mRNA;gene=GEMIN4;model_evidence=Supporting evidence includes similarity to: 1 Protein%2C and 100%25 coverage of the annotated genomic feature by RNAseq alignments%2C including 8 samples with support for all annotated introns;product=gem nuclear organelle associated protein 4%2C transcript variant X2;transcript_id=XM_023762809.1\\n']\n",
      "['NW_005871310.1', 'Gnomon', 'gene', '1661352', '1661854', '.', '+', '.', 'ID=gene18768;Dbxref=GeneID:102421410;Name=LOC102421410;gbkey=Gene;gene=LOC102421410;gene_biotype=protein_coding\\n']\n",
      "['NW_005871310.1', 'Gnomon', 'mRNA', '1661352', '1661854', '.', '+', '.', 'ID=rna32510;Parent=gene18768;Dbxref=GeneID:102421410,Genbank:XM_023762812.1;Name=XM_023762812.1;gbkey=mRNA;gene=LOC102421410;model_evidence=Supporting evidence includes similarity to: 2 Proteins%2C and 100%25 coverage of the annotated genomic feature by RNAseq alignments;product=diazepam-binding inhibitor-like 5;transcript_id=XM_023762812.1\\n']\n",
      "['NW_005871310.1', 'Gnomon', 'exon', '1661352', '1661854', '.', '+', '.', 'ID=id372990;Parent=rna32510;Dbxref=GeneID:102421410,Genbank:XM_023762812.1;gbkey=mRNA;gene=LOC102421410;product=diazepam-binding inhibitor-like 5;transcript_id=XM_023762812.1\\n']\n",
      "['NW_005871317.1', 'RefSeq', 'region', '1', '1687824', '.', '+', '.', 'ID=id375042;Dbxref=taxon:59463;Name=Unknown;chromosome=Unknown;country=USA: Framingham%2C MA;gbkey=Src;genome=genomic;mol_type=genomic DNA;sex=female\\n']\n",
      "['NW_005871317.1', 'Gnomon', 'gene', '600265', '653579', '.', '-', '.', 'ID=gene18869;Dbxref=GeneID:102428308;Name=KREMEN1;gbkey=Gene;gene=KREMEN1;gene_biotype=protein_coding\\n']\n",
      "['NW_005871317.1', 'Gnomon', 'mRNA', '600265', '653579', '.', '-', '.', 'ID=rna32702;Parent=gene18869;Dbxref=GeneID:102428308,Genbank:XM_023762932.1;Name=XM_023762932.1;gbkey=mRNA;gene=KREMEN1;model_evidence=Supporting evidence includes similarity to: 1 Protein%2C and 100%25 coverage of the annotated genomic feature by RNAseq alignments%2C including 4 samples with support for all annotated introns;product=kringle containing transmembrane protein 1%2C transcript variant X1;transcript_id=XM_023762932.1\\n']\n",
      "['NW_005871317.1', 'Gnomon', 'mRNA', '600265', '653575', '.', '-', '.', 'ID=rna32703;Parent=gene18869;Dbxref=GeneID:102428308,Genbank:XM_023762933.1;Name=XM_023762933.1;gbkey=mRNA;gene=KREMEN1;model_evidence=Supporting evidence includes similarity to: 100%25 coverage of the annotated genomic feature by RNAseq alignments%2C including 4 samples with support for all annotated introns;product=kringle containing transmembrane protein 1%2C transcript variant X2;transcript_id=XM_023762933.1\\n']\n",
      "['NW_005871382.1', 'RefSeq', 'region', '1', '1180006', '.', '+', '.', 'ID=id412464;Dbxref=taxon:59463;Name=Unknown;chromosome=Unknown;country=USA: Framingham%2C MA;gbkey=Src;genome=genomic;mol_type=genomic DNA;sex=female\\n']\n",
      "['NW_005871402.1', 'RefSeq', 'region', '1', '1199787', '.', '+', '.', 'ID=id420521;Dbxref=taxon:59463;Name=Unknown;chromosome=Unknown;country=USA: Framingham%2C MA;gbkey=Src;genome=genomic;mol_type=genomic DNA;sex=female\\n']\n",
      "['NW_005871409.1', 'RefSeq', 'region', '1', '1211147', '.', '+', '.', 'ID=id422448;Dbxref=taxon:59463;Name=Unknown;chromosome=Unknown;country=USA: Framingham%2C MA;gbkey=Src;genome=genomic;mol_type=genomic DNA;sex=female\\n']\n",
      "['NW_005871413.1', 'RefSeq', 'region', '1', '1152308', '.', '+', '.', 'ID=id422894;Dbxref=taxon:59463;Name=Unknown;chromosome=Unknown;country=USA: Framingham%2C MA;gbkey=Src;genome=genomic;mol_type=genomic DNA;sex=female\\n']\n",
      "['NW_005871437.1', 'RefSeq', 'region', '1', '1012336', '.', '+', '.', 'ID=id432624;Dbxref=taxon:59463;Name=Unknown;chromosome=Unknown;country=USA: Framingham%2C MA;gbkey=Src;genome=genomic;mol_type=genomic DNA;sex=female\\n']\n",
      "['NW_005871439.1', 'RefSeq', 'region', '1', '978231', '.', '+', '.', 'ID=id433565;Dbxref=taxon:59463;Name=Unknown;chromosome=Unknown;country=USA: Framingham%2C MA;gbkey=Src;genome=genomic;mol_type=genomic DNA;sex=female\\n']\n",
      "['NW_005871447.1', 'RefSeq', 'region', '1', '1004160', '.', '+', '.', 'ID=id435422;Dbxref=taxon:59463;Name=Unknown;chromosome=Unknown;country=USA: Framingham%2C MA;gbkey=Src;genome=genomic;mol_type=genomic DNA;sex=female\\n']\n",
      "['NW_005871520.1', 'RefSeq', 'region', '1', '710619', '.', '+', '.', 'ID=id456862;Dbxref=taxon:59463;Name=Unknown;chromosome=Unknown;country=USA: Framingham%2C MA;gbkey=Src;genome=genomic;mol_type=genomic DNA;sex=female\\n']\n",
      "['NW_005871552.1', 'RefSeq', 'region', '1', '601910', '.', '+', '.', 'ID=id465901;Dbxref=taxon:59463;Name=Unknown;chromosome=Unknown;country=USA: Framingham%2C MA;gbkey=Src;genome=genomic;mol_type=genomic DNA;sex=female\\n']\n",
      "['NW_005871552.1', 'Gnomon', 'gene', '499696', '528146', '.', '-', '.', 'ID=gene23553;Dbxref=GeneID:102420083;Name=ERCC4;gbkey=Gene;gene=ERCC4;gene_biotype=protein_coding\\n']\n",
      "['NW_005871552.1', 'Gnomon', 'mRNA', '499696', '528146', '.', '-', '.', 'ID=rna40903;Parent=gene23553;Dbxref=GeneID:102420083,Genbank:XM_023744977.1;Name=XM_023744977.1;gbkey=mRNA;gene=ERCC4;model_evidence=Supporting evidence includes similarity to: 1 mRNA%2C and 100%25 coverage of the annotated genomic feature by RNAseq alignments%2C including 4 samples with support for all annotated introns;product=ERCC excision repair 4%2C endonuclease catalytic subunit%2C transcript variant X2;transcript_id=XM_023744977.1\\n']\n",
      "['NW_005871552.1', 'Gnomon', 'mRNA', '499696', '528145', '.', '-', '.', 'ID=rna40904;Parent=gene23553;Dbxref=GeneID:102420083,Genbank:XM_006103752.3;Name=XM_006103752.3;gbkey=mRNA;gene=ERCC4;model_evidence=Supporting evidence includes similarity to: 5 mRNAs%2C 3 Proteins%2C and 100%25 coverage of the annotated genomic feature by RNAseq alignments%2C including 10 samples with support for all annotated introns;product=ERCC excision repair 4%2C endonuclease catalytic subunit%2C transcript variant X1;transcript_id=XM_006103752.3\\n']\n",
      "['NW_005871562.1', 'RefSeq', 'region', '1', '592368', '.', '+', '.', 'ID=id468296;Dbxref=taxon:59463;Name=Unknown;chromosome=Unknown;country=USA: Framingham%2C MA;gbkey=Src;genome=genomic;mol_type=genomic DNA;sex=female\\n']\n",
      "['NW_005871763.1', 'RefSeq', 'region', '1', '283313', '.', '+', '.', 'ID=id502584;Dbxref=taxon:59463;Name=Unknown;chromosome=Unknown;country=USA: Framingham%2C MA;gbkey=Src;genome=genomic;mol_type=genomic DNA;sex=female\\n']\n"
     ]
    },
    {
     "name": "stdout",
     "output_type": "stream",
     "text": [
      "['NW_005871967.1', 'RefSeq', 'region', '1', '145539', '.', '+', '.', 'ID=id520168;Dbxref=taxon:59463;Name=Unknown;chromosome=Unknown;country=USA: Framingham%2C MA;gbkey=Src;genome=genomic;mol_type=genomic DNA;sex=female\\n']\n",
      "['NW_005872028.1', 'RefSeq', 'region', '1', '123542', '.', '+', '.', 'ID=id524264;Dbxref=taxon:59463;Name=Unknown;chromosome=Unknown;country=USA: Framingham%2C MA;gbkey=Src;genome=genomic;mol_type=genomic DNA;sex=female\\n']\n",
      "['NW_005872028.1', 'Gnomon', 'gene', '5481', '98250', '.', '-', '.', 'ID=gene27256;Dbxref=GeneID:102417583;Name=RAPGEF1;gbkey=Gene;gene=RAPGEF1;gene_biotype=protein_coding\\n']\n",
      "['NW_005872028.1', 'Gnomon', 'mRNA', '5481', '98250', '.', '-', '.', 'ID=rna46592;Parent=gene27256;Dbxref=GeneID:102417583,Genbank:XM_023747795.1;Name=XM_023747795.1;gbkey=mRNA;gene=RAPGEF1;model_evidence=Supporting evidence includes similarity to: 7 Proteins%2C and 100%25 coverage of the annotated genomic feature by RNAseq alignments%2C including 1 sample with support for all annotated introns;product=Rap guanine nucleotide exchange factor 1%2C transcript variant X2;transcript_id=XM_023747795.1\\n']\n",
      "['NW_005872028.1', 'Gnomon', 'mRNA', '5481', '98250', '.', '-', '.', 'ID=rna46593;Parent=gene27256;Dbxref=GeneID:102417583,Genbank:XM_023747793.1;Name=XM_023747793.1;gbkey=mRNA;gene=RAPGEF1;model_evidence=Supporting evidence includes similarity to: 1 Protein%2C and 100%25 coverage of the annotated genomic feature by RNAseq alignments;product=Rap guanine nucleotide exchange factor 1%2C transcript variant X1;transcript_id=XM_023747793.1\\n']\n",
      "['NW_005872120.1', 'RefSeq', 'region', '1', '106138', '.', '+', '.', 'ID=id527572;Dbxref=taxon:59463;Name=Unknown;chromosome=Unknown;country=USA: Framingham%2C MA;gbkey=Src;genome=genomic;mol_type=genomic DNA;sex=female\\n']\n",
      "['NW_005872156.1', 'RefSeq', 'region', '1', '96376', '.', '+', '.', 'ID=id529614;Dbxref=taxon:59463;Name=Unknown;chromosome=Unknown;country=USA: Framingham%2C MA;gbkey=Src;genome=genomic;mol_type=genomic DNA;sex=female\\n']\n",
      "['NW_005875640.1', 'RefSeq', 'region', '1', '14423', '.', '+', '.', 'ID=id554157;Dbxref=taxon:59463;Name=Unknown;chromosome=Unknown;country=USA: Framingham%2C MA;gbkey=Src;genome=genomic;mol_type=genomic DNA;sex=female\\n']\n"
     ]
    },
    {
     "data": {
      "text/plain": [
       "115"
      ]
     },
     "execution_count": 3,
     "metadata": {},
     "output_type": "execute_result"
    }
   ],
   "source": [
    "f=open('/local/home/sarahgw/WGS/SNPS/All_mylu/snps/NJNY50noout1.5_sigCompvaluesNe424_296.csv', 'r')\n",
    "a=open('/local/home/sarahgw/references/ref_Myoluc2.0_top_level.gff3', 'r')\n",
    "flines = f.readlines()[1:]\n",
    "chrom_dict = {}\n",
    "for line in flines:\n",
    "    line = line.replace('\"', '')\n",
    "    args = line.split(',')\n",
    "    chrom_dict[args[2]] = int(args[3])\n",
    "\n",
    "aline = a.readline()\n",
    "count = 0\n",
    "while aline:\n",
    "    agroups = aline.split('\\t')\n",
    "    #print(agroups)\n",
    "    chrom = agroups[0]\n",
    "    if chrom in chrom_dict:\n",
    "        loc = chrom_dict[chrom]\n",
    "        if int(agroups[3]) < (loc) and int(agroups[4]) > (loc):\n",
    "            count += 1\n",
    "            print agroups\n",
    "    aline = a.readline()\n",
    "count"
   ]
  },
  {
   "cell_type": "code",
   "execution_count": 9,
   "metadata": {
    "scrolled": true
   },
   "outputs": [
    {
     "name": "stdout",
     "output_type": "stream",
     "text": [
      "['NW_005871048.1', 'RefSeq', 'region', '1', '64990205', '.', '+', '.', 'ID=id0;Dbxref=taxon:59463;Name=Unknown;chromosome=Unknown;country=USA: Framingham%2C MA;gbkey=Src;genome=genomic;mol_type=genomic DNA;sex=female\\n']\n",
      "['NW_005871049.1', 'RefSeq', 'region', '1', '39494369', '.', '+', '.', 'ID=id14505;Dbxref=taxon:59463;Name=Unknown;chromosome=Unknown;country=USA: Framingham%2C MA;gbkey=Src;genome=genomic;mol_type=genomic DNA;sex=female\\n']\n",
      "['NW_005871051.1', 'RefSeq', 'region', '1', '30916457', '.', '+', '.', 'ID=id28999;Dbxref=taxon:59463;Name=Unknown;chromosome=Unknown;country=USA: Framingham%2C MA;gbkey=Src;genome=genomic;mol_type=genomic DNA;sex=female\\n']\n",
      "['NW_005871053.1', 'RefSeq', 'region', '1', '20945196', '.', '+', '.', 'ID=id44306;Dbxref=taxon:59463;Name=Unknown;chromosome=Unknown;country=USA: Framingham%2C MA;gbkey=Src;genome=genomic;mol_type=genomic DNA;sex=female\\n']\n",
      "['NW_005871053.1', 'Gnomon', 'gene', '14979316', '15072600', '.', '-', '.', 'ID=gene2361;Dbxref=GeneID:102418508;Name=LOC102418508;gbkey=Gene;gene=LOC102418508;gene_biotype=protein_coding\\n']\n",
      "['NW_005871053.1', 'Gnomon', 'mRNA', '14979316', '15072600', '.', '-', '.', 'ID=rna4040;Parent=gene2361;Dbxref=GeneID:102418508,Genbank:XM_006083188.3;Name=XM_006083188.3;gbkey=mRNA;gene=LOC102418508;model_evidence=Supporting evidence includes similarity to: 6 mRNAs%2C 51 Proteins%2C and 34%25 coverage of the annotated genomic feature by RNAseq alignments;product=sodium channel protein type 2 subunit alpha%2C transcript variant X1;transcript_id=XM_006083188.3\\n']\n",
      "['NW_005871053.1', 'Gnomon', 'mRNA', '14979316', '15072394', '.', '-', '.', 'ID=rna4041;Parent=gene2361;Dbxref=GeneID:102418508,Genbank:XM_006083189.3;Name=XM_006083189.3;gbkey=mRNA;gene=LOC102418508;model_evidence=Supporting evidence includes similarity to: 4 mRNAs%2C 44 Proteins%2C and 33%25 coverage of the annotated genomic feature by RNAseq alignments;product=sodium channel protein type 2 subunit alpha%2C transcript variant X2;transcript_id=XM_006083189.3\\n']\n",
      "['NW_005871054.1', 'RefSeq', 'region', '1', '20779464', '.', '+', '.', 'ID=id51394;Dbxref=taxon:59463;Name=Unknown;chromosome=Unknown;country=USA: Framingham%2C MA;gbkey=Src;genome=genomic;mol_type=genomic DNA;sex=female\\n']\n",
      "['NW_005871056.1', 'RefSeq', 'region', '1', '18579217', '.', '+', '.', 'ID=id61133;Dbxref=taxon:59463;Name=Unknown;chromosome=Unknown;country=USA: Framingham%2C MA;gbkey=Src;genome=genomic;mol_type=genomic DNA;sex=female\\n']\n",
      "['NW_005871059.1', 'RefSeq', 'region', '1', '16239124', '.', '+', '.', 'ID=id75527;Dbxref=taxon:59463;Name=Unknown;chromosome=Unknown;country=USA: Framingham%2C MA;gbkey=Src;genome=genomic;mol_type=genomic DNA;sex=female\\n']\n",
      "['NW_005871062.1', 'RefSeq', 'region', '1', '15274826', '.', '+', '.', 'ID=id85264;Dbxref=taxon:59463;Name=Unknown;chromosome=Unknown;country=USA: Framingham%2C MA;gbkey=Src;genome=genomic;mol_type=genomic DNA;sex=female\\n']\n",
      "['NW_005871062.1', 'Gnomon', 'gene', '7590919', '7653791', '.', '+', '.', 'ID=gene4088;Dbxref=GeneID:102427812;Name=MASP1;gbkey=Gene;gene=MASP1;gene_biotype=protein_coding\\n']\n",
      "['NW_005871062.1', 'Gnomon', 'mRNA', '7590919', '7637874', '.', '+', '.', 'ID=rna7049;Parent=gene4088;Dbxref=GeneID:102427812,Genbank:XM_006084791.3;Name=XM_006084791.3;gbkey=mRNA;gene=MASP1;model_evidence=Supporting evidence includes similarity to: 3 mRNAs%2C 8 Proteins%2C and 99%25 coverage of the annotated genomic feature by RNAseq alignments%2C including 1 sample with support for all annotated introns;product=mannan binding lectin serine peptidase 1%2C transcript variant X1;transcript_id=XM_006084791.3\\n']\n",
      "['NW_005871062.1', 'Gnomon', 'mRNA', '7590957', '7653791', '.', '+', '.', 'ID=rna7050;Parent=gene4088;Dbxref=GeneID:102427812,Genbank:XM_006084792.3;Name=XM_006084792.3;gbkey=mRNA;gene=MASP1;model_evidence=Supporting evidence includes similarity to: 1 mRNA%2C 9 Proteins%2C and 72%25 coverage of the annotated genomic feature by RNAseq alignments;product=mannan binding lectin serine peptidase 1%2C transcript variant X2;transcript_id=XM_006084792.3\\n']\n",
      "['NW_005871064.1', 'RefSeq', 'region', '1', '15202523', '.', '+', '.', 'ID=id93550;Dbxref=taxon:59463;Name=Unknown;chromosome=Unknown;country=USA: Framingham%2C MA;gbkey=Src;genome=genomic;mol_type=genomic DNA;sex=female\\n']\n",
      "['NW_005871065.1', 'RefSeq', 'region', '1', '14577598', '.', '+', '.', 'ID=id95959;Dbxref=taxon:59463;Name=Unknown;chromosome=Unknown;country=USA: Framingham%2C MA;gbkey=Src;genome=genomic;mol_type=genomic DNA;sex=female\\n']\n",
      "['NW_005871066.1', 'RefSeq', 'region', '1', '13883066', '.', '+', '.', 'ID=id98425;Dbxref=taxon:59463;Name=Unknown;chromosome=Unknown;country=USA: Framingham%2C MA;gbkey=Src;genome=genomic;mol_type=genomic DNA;sex=female\\n']\n",
      "['NW_005871066.1', 'Gnomon', 'gene', '3108640', '3283181', '.', '-', '.', 'ID=gene4630;Dbxref=GeneID:102431644;Name=BMPER;gbkey=Gene;gene=BMPER;gene_biotype=protein_coding\\n']\n",
      "['NW_005871066.1', 'Gnomon', 'mRNA', '3108640', '3283181', '.', '-', '.', 'ID=rna8025;Parent=gene4630;Dbxref=GeneID:102431644,Genbank:XM_014452760.2;Name=XM_014452760.2;gbkey=mRNA;gene=BMPER;model_evidence=Supporting evidence includes similarity to: 8 Proteins%2C and 92%25 coverage of the annotated genomic feature by RNAseq alignments;product=BMP binding endothelial regulator;transcript_id=XM_014452760.2\\n']\n",
      "['NW_005871073.1', 'RefSeq', 'region', '1', '10646666', '.', '+', '.', 'ID=id114773;Dbxref=taxon:59463;Name=Unknown;chromosome=Unknown;country=USA: Framingham%2C MA;gbkey=Src;genome=genomic;mol_type=genomic DNA;sex=female\\n']\n",
      "['NW_005871075.1', 'RefSeq', 'region', '1', '10593136', '.', '+', '.', 'ID=id117917;Dbxref=taxon:59463;Name=Unknown;chromosome=Unknown;country=USA: Framingham%2C MA;gbkey=Src;genome=genomic;mol_type=genomic DNA;sex=female\\n']\n",
      "['NW_005871076.1', 'RefSeq', 'region', '1', '10643064', '.', '+', '.', 'ID=id119730;Dbxref=taxon:59463;Name=Unknown;chromosome=Unknown;country=USA: Framingham%2C MA;gbkey=Src;genome=genomic;mol_type=genomic DNA;sex=female\\n']\n",
      "['NW_005871076.1', 'Gnomon', 'gene', '3903932', '3912832', '.', '+', '.', 'ID=gene5943;Dbxref=GeneID:102433949;Name=GNPDA1;gbkey=Gene;gene=GNPDA1;gene_biotype=protein_coding\\n']\n",
      "['NW_005871076.1', 'Gnomon', 'mRNA', '3903932', '3912832', '.', '+', '.', 'ID=rna9907;Parent=gene5943;Dbxref=GeneID:102433949,Genbank:XM_006086425.3;Name=XM_006086425.3;gbkey=mRNA;gene=GNPDA1;model_evidence=Supporting evidence includes similarity to: 5 mRNAs%2C 12 Proteins%2C and 100%25 coverage of the annotated genomic feature by RNAseq alignments%2C including 26 samples with support for all annotated introns;product=glucosamine-6-phosphate deaminase 1;transcript_id=XM_006086425.3\\n']\n",
      "['NW_005871082.1', 'RefSeq', 'region', '1', '9085641', '.', '+', '.', 'ID=id131643;Dbxref=taxon:59463;Name=Unknown;chromosome=Unknown;country=USA: Framingham%2C MA;gbkey=Src;genome=genomic;mol_type=genomic DNA;sex=female\\n']\n",
      "['NW_005871090.1', 'RefSeq', 'region', '1', '7977881', '.', '+', '.', 'ID=id150862;Dbxref=taxon:59463;Name=Unknown;chromosome=Unknown;country=USA: Framingham%2C MA;gbkey=Src;genome=genomic;mol_type=genomic DNA;sex=female\\n']\n",
      "['NW_005871090.1', 'Gnomon', 'gene', '7376767', '7407471', '.', '-', '.', 'ID=gene7482;Dbxref=GeneID:102433137;Name=BFSP1;gbkey=Gene;gene=BFSP1;gene_biotype=protein_coding\\n']\n",
      "['NW_005871090.1', 'Gnomon', 'mRNA', '7376767', '7407471', '.', '-', '.', 'ID=rna12606;Parent=gene7482;Dbxref=GeneID:102433137,Genbank:XM_023753215.1;Name=XM_023753215.1;gbkey=mRNA;gene=BFSP1;model_evidence=Supporting evidence includes similarity to: 4 Proteins%2C and 62%25 coverage of the annotated genomic feature by RNAseq alignments;product=beaded filament structural protein 1;transcript_id=XM_023753215.1\\n']\n",
      "['NW_005871097.1', 'RefSeq', 'region', '1', '7348857', '.', '+', '.', 'ID=id162626;Dbxref=taxon:59463;Name=Unknown;chromosome=Unknown;country=USA: Framingham%2C MA;gbkey=Src;genome=genomic;mol_type=genomic DNA;sex=female\\n']\n",
      "['NW_005871097.1', 'Gnomon', 'gene', '3142067', '3321329', '.', '-', '.', 'ID=gene8121;Dbxref=GeneID:102440988;Name=REPS2;gbkey=Gene;gene=REPS2;gene_biotype=protein_coding\\n']\n",
      "['NW_005871097.1', 'Gnomon', 'mRNA', '3142067', '3321329', '.', '-', '.', 'ID=rna13665;Parent=gene8121;Dbxref=GeneID:102440988,Genbank:XM_023753740.1;Name=XM_023753740.1;gbkey=mRNA;gene=REPS2;model_evidence=Supporting evidence includes similarity to: 1 Protein%2C and 82%25 coverage of the annotated genomic feature by RNAseq alignments;product=RALBP1 associated Eps domain containing 2;transcript_id=XM_023753740.1\\n']\n",
      "['NW_005871100.1', 'RefSeq', 'region', '1', '7058687', '.', '+', '.', 'ID=id166315;Dbxref=taxon:59463;Name=Unknown;chromosome=Unknown;country=USA: Framingham%2C MA;gbkey=Src;genome=genomic;mol_type=genomic DNA;sex=female\\n']\n"
     ]
    },
    {
     "name": "stdout",
     "output_type": "stream",
     "text": [
      "['NW_005871109.1', 'RefSeq', 'region', '1', '6495742', '.', '+', '.', 'ID=id181624;Dbxref=taxon:59463;Name=Unknown;chromosome=Unknown;country=USA: Framingham%2C MA;gbkey=Src;genome=genomic;mol_type=genomic DNA;sex=female\\n']\n",
      "['NW_005871109.1', 'Gnomon', 'gene', '2888188', '3176295', '.', '+', '.', 'ID=gene9224;Dbxref=GeneID:102435828;Name=GALNT18;gbkey=Gene;gene=GALNT18;gene_biotype=protein_coding\\n']\n",
      "['NW_005871109.1', 'Gnomon', 'mRNA', '2888188', '3176295', '.', '+', '.', 'ID=rna15475;Parent=gene9224;Dbxref=GeneID:102435828,Genbank:XM_006089610.3;Name=XM_006089610.3;gbkey=mRNA;gene=GALNT18;model_evidence=Supporting evidence includes similarity to: 6 mRNAs%2C 7 Proteins%2C and 99%25 coverage of the annotated genomic feature by RNAseq alignments%2C including 9 samples with support for all annotated introns;product=polypeptide N-acetylgalactosaminyltransferase 18%2C transcript variant X1;transcript_id=XM_006089610.3\\n']\n",
      "['NW_005871109.1', 'Gnomon', 'mRNA', '2888188', '3176292', '.', '+', '.', 'ID=rna15476;Parent=gene9224;Dbxref=GeneID:102435828,Genbank:XM_014456606.2;Name=XM_014456606.2;gbkey=mRNA;gene=GALNT18;model_evidence=Supporting evidence includes similarity to: 1 Protein%2C and 100%25 coverage of the annotated genomic feature by RNAseq alignments%2C including 8 samples with support for all annotated introns;product=polypeptide N-acetylgalactosaminyltransferase 18%2C transcript variant X2;transcript_id=XM_014456606.2\\n']\n",
      "['NW_005871116.1', 'RefSeq', 'region', '1', '5728823', '.', '+', '.', 'ID=id192215;Dbxref=taxon:59463;Name=Unknown;chromosome=Unknown;country=USA: Framingham%2C MA;gbkey=Src;genome=genomic;mol_type=genomic DNA;sex=female\\n']\n",
      "['NW_005871122.1', 'RefSeq', 'region', '1', '5136827', '.', '+', '.', 'ID=id201139;Dbxref=taxon:59463;Name=Unknown;chromosome=Unknown;country=USA: Framingham%2C MA;gbkey=Src;genome=genomic;mol_type=genomic DNA;sex=female\\n']\n",
      "['NW_005871122.1', 'Gnomon', 'gene', '3434412', '3529751', '.', '-', '.', 'ID=gene10137;Dbxref=GeneID:102437398;Name=PCDH17;gbkey=Gene;gene=PCDH17;gene_biotype=protein_coding\\n']\n",
      "['NW_005871122.1', 'Gnomon', 'mRNA', '3434412', '3529751', '.', '-', '.', 'ID=rna17052;Parent=gene10137;Dbxref=GeneID:102437398,Genbank:XM_006090529.3;Name=XM_006090529.3;gbkey=mRNA;gene=PCDH17;model_evidence=Supporting evidence includes similarity to: 2 mRNAs%2C 5 Proteins%2C and 95%25 coverage of the annotated genomic feature by RNAseq alignments;product=protocadherin 17;transcript_id=XM_006090529.3\\n']\n",
      "['NW_005871123.1', 'RefSeq', 'region', '1', '5160323', '.', '+', '.', 'ID=id201293;Dbxref=taxon:59463;Name=Unknown;chromosome=Unknown;country=USA: Framingham%2C MA;gbkey=Src;genome=genomic;mol_type=genomic DNA;sex=female\\n']\n",
      "['NW_005871126.1', 'RefSeq', 'region', '1', '5037443', '.', '+', '.', 'ID=id204375;Dbxref=taxon:59463;Name=Unknown;chromosome=Unknown;country=USA: Framingham%2C MA;gbkey=Src;genome=genomic;mol_type=genomic DNA;sex=female\\n']\n",
      "['NW_005871126.1', 'Gnomon', 'gene', '1709020', '2102226', '.', '+', '.', 'ID=gene10320;Dbxref=GeneID:102433978;Name=SOX5;gbkey=Gene;gene=SOX5;gene_biotype=protein_coding\\n']\n",
      "['NW_005871126.1', 'Gnomon', 'mRNA', '1709020', '2102226', '.', '+', '.', 'ID=rna17342;Parent=gene10320;Dbxref=GeneID:102433978,Genbank:XM_006090652.3;Name=XM_006090652.3;gbkey=mRNA;gene=SOX5;model_evidence=Supporting evidence includes similarity to: 6 mRNAs%2C 7 Proteins%2C and 94%25 coverage of the annotated genomic feature by RNAseq alignments;product=SRY-box 5;transcript_id=XM_006090652.3\\n']\n",
      "['NW_005871129.1', 'RefSeq', 'region', '1', '4918922', '.', '+', '.', 'ID=id207190;Dbxref=taxon:59463;Name=Unknown;chromosome=Unknown;country=USA: Framingham%2C MA;gbkey=Src;genome=genomic;mol_type=genomic DNA;sex=female\\n']\n",
      "['NW_005871129.1', 'Gnomon', 'gene', '2123766', '3029105', '.', '-', '.', 'ID=gene10442;Dbxref=GeneID:102423892;Name=MDGA2;gbkey=Gene;gene=MDGA2;gene_biotype=protein_coding\\n']\n",
      "['NW_005871129.1', 'Gnomon', 'mRNA', '2123766', '3029105', '.', '-', '.', 'ID=rna17512;Parent=gene10442;Dbxref=GeneID:102423892,Genbank:XM_006090751.3;Name=XM_006090751.3;gbkey=mRNA;gene=MDGA2;model_evidence=Supporting evidence includes similarity to: 5 mRNAs%2C 5 Proteins%2C and 17%25 coverage of the annotated genomic feature by RNAseq alignments;product=MAM domain containing glycosylphosphatidylinositol anchor 2%2C transcript variant X1;transcript_id=XM_006090751.3\\n']\n",
      "['NW_005871129.1', 'Gnomon', 'mRNA', '2123766', '2635771', '.', '-', '.', 'ID=rna17513;Parent=gene10442;Dbxref=GeneID:102423892,Genbank:XM_006090753.2;Name=XM_006090753.2;gbkey=mRNA;gene=MDGA2;model_evidence=Supporting evidence includes similarity to: 5 mRNAs%2C 1 Protein%2C and 9%25 coverage of the annotated genomic feature by RNAseq alignments;product=MAM domain containing glycosylphosphatidylinositol anchor 2%2C transcript variant X2;transcript_id=XM_006090753.2\\n']\n",
      "['NW_005871131.1', 'RefSeq', 'region', '1', '4872659', '.', '+', '.', 'ID=id208076;Dbxref=taxon:59463;Name=Unknown;chromosome=Unknown;country=USA: Framingham%2C MA;gbkey=Src;genome=genomic;mol_type=genomic DNA;sex=female\\n']\n",
      "['NW_005871131.1', 'Gnomon', 'gene', '986705', '1276007', '.', '+', '.', 'ID=gene10537;Dbxref=GeneID:102420982;Name=CACNA1D;gbkey=Gene;gene=CACNA1D;gene_biotype=protein_coding\\n']\n",
      "['NW_005871131.1', 'Gnomon', 'mRNA', '986705', '1276007', '.', '+', '.', 'ID=rna17654;Parent=gene10537;Dbxref=GeneID:102420982,Genbank:XM_023755748.1;Name=XM_023755748.1;Note=The sequence of the model RefSeq transcript was modified relative to this genomic sequence to represent the inferred CDS: deleted 1 base in 1 codon;exception=unclassified transcription discrepancy;gbkey=mRNA;gene=CACNA1D;model_evidence=Supporting evidence includes similarity to: 3 Proteins%2C and 55%25 coverage of the annotated genomic feature by RNAseq alignments;product=calcium voltage-gated channel subunit alpha1 D;transcript_id=XM_023755748.1\\n']\n",
      "['NW_005871133.1', 'RefSeq', 'region', '1', '4788395', '.', '+', '.', 'ID=id212530;Dbxref=taxon:59463;Name=Unknown;chromosome=Unknown;country=USA: Framingham%2C MA;gbkey=Src;genome=genomic;mol_type=genomic DNA;sex=female\\n']\n",
      "['NW_005871136.1', 'RefSeq', 'region', '1', '4679154', '.', '+', '.', 'ID=id215563;Dbxref=taxon:59463;Name=Unknown;chromosome=Unknown;country=USA: Framingham%2C MA;gbkey=Src;genome=genomic;mol_type=genomic DNA;sex=female\\n']\n",
      "['NW_005871136.1', 'Gnomon', 'gene', '4372562', '4411869', '.', '-', '.', 'ID=gene10904;Dbxref=GeneID:102426505;Name=FA2H;gbkey=Gene;gene=FA2H;gene_biotype=protein_coding\\n']\n",
      "['NW_005871136.1', 'Gnomon', 'mRNA', '4372562', '4411869', '.', '-', '.', 'ID=rna18385;Parent=gene10904;Dbxref=GeneID:102426505,Genbank:XM_006091226.3;Name=XM_006091226.3;gbkey=mRNA;gene=FA2H;model_evidence=Supporting evidence includes similarity to: 4 Proteins%2C and 100%25 coverage of the annotated genomic feature by RNAseq alignments%2C including 4 samples with support for all annotated introns;product=fatty acid 2-hydroxylase;transcript_id=XM_006091226.3\\n']\n",
      "['NW_005871138.1', 'RefSeq', 'region', '1', '4706120', '.', '+', '.', 'ID=id218963;Dbxref=taxon:59463;Name=Unknown;chromosome=Unknown;country=USA: Framingham%2C MA;gbkey=Src;genome=genomic;mol_type=genomic DNA;sex=female\\n']\n",
      "['NW_005871138.1', 'Gnomon', 'gene', '128852', '142316', '.', '-', '.', 'ID=gene10947;Dbxref=GeneID:102423895;Name=TPRA1;gbkey=Gene;gene=TPRA1;gene_biotype=protein_coding\\n']\n",
      "['NW_005871138.1', 'Gnomon', 'mRNA', '128852', '142316', '.', '-', '.', 'ID=rna18473;Parent=gene10947;Dbxref=GeneID:102423895,Genbank:XM_006091291.3;Name=XM_006091291.3;gbkey=mRNA;gene=TPRA1;model_evidence=Supporting evidence includes similarity to: 4 Proteins%2C and 100%25 coverage of the annotated genomic feature by RNAseq alignments%2C including 31 samples with support for all annotated introns;product=transmembrane protein adipocyte associated 1;transcript_id=XM_006091291.3\\n']\n",
      "['NW_005871140.1', 'RefSeq', 'region', '1', '4592439', '.', '+', '.', 'ID=id224920;Dbxref=taxon:59463;Name=Unknown;chromosome=Unknown;country=USA: Framingham%2C MA;gbkey=Src;genome=genomic;mol_type=genomic DNA;sex=female\\n']\n",
      "['NW_005871142.1', 'RefSeq', 'region', '1', '4514962', '.', '+', '.', 'ID=id226172;Dbxref=taxon:59463;Name=Unknown;chromosome=Unknown;country=USA: Framingham%2C MA;gbkey=Src;genome=genomic;mol_type=genomic DNA;sex=female\\n']\n",
      "['NW_005871142.1', 'Gnomon', 'gene', '263205', '312860', '.', '+', '.', 'ID=gene11267;Dbxref=GeneID:102442682;Name=ADCY3;gbkey=Gene;gene=ADCY3;gene_biotype=protein_coding\\n']\n",
      "['NW_005871142.1', 'Gnomon', 'mRNA', '263205', '312362', '.', '+', '.', 'ID=rna19111;Parent=gene11267;Dbxref=GeneID:102442682,Genbank:XM_006091691.3;Name=XM_006091691.3;gbkey=mRNA;gene=ADCY3;model_evidence=Supporting evidence includes similarity to: 5 mRNAs%2C 10 Proteins%2C and 99%25 coverage of the annotated genomic feature by RNAseq alignments%2C including 1 sample with support for all annotated introns;product=adenylate cyclase 3%2C transcript variant X1;transcript_id=XM_006091691.3\\n']\n",
      "['NW_005871142.1', 'Gnomon', 'mRNA', '263528', '312860', '.', '+', '.', 'ID=rna19112;Parent=gene11267;Dbxref=GeneID:102442682,Genbank:XM_023756431.1;Name=XM_023756431.1;gbkey=mRNA;gene=ADCY3;model_evidence=Supporting evidence includes similarity to: 5 mRNAs%2C 10 Proteins%2C and 99%25 coverage of the annotated genomic feature by RNAseq alignments%2C including 14 samples with support for all annotated introns;product=adenylate cyclase 3%2C transcript variant X2;transcript_id=XM_023756431.1\\n']\n"
     ]
    },
    {
     "name": "stdout",
     "output_type": "stream",
     "text": [
      "['NW_005871148.1', 'RefSeq', 'region', '1', '4444721', '.', '+', '.', 'ID=id238203;Dbxref=taxon:59463;Name=Unknown;chromosome=Unknown;country=USA: Framingham%2C MA;gbkey=Src;genome=genomic;mol_type=genomic DNA;sex=female\\n']\n",
      "['NW_005871148.1', 'Gnomon', 'gene', '2560994', '2842740', '.', '-', '.', 'ID=gene11898;Dbxref=GeneID:102438113;Name=CEP112;gbkey=Gene;gene=CEP112;gene_biotype=protein_coding\\n']\n",
      "['NW_005871148.1', 'Gnomon', 'mRNA', '2560994', '2842740', '.', '-', '.', 'ID=rna20342;Parent=gene11898;Dbxref=GeneID:102438113,Genbank:XM_014458887.2;Name=XM_014458887.2;gbkey=mRNA;gene=CEP112;model_evidence=Supporting evidence includes similarity to: 2 Proteins%2C and 100%25 coverage of the annotated genomic feature by RNAseq alignments;product=centrosomal protein 112;transcript_id=XM_014458887.2\\n']\n",
      "['NW_005871154.1', 'RefSeq', 'region', '1', '4280553', '.', '+', '.', 'ID=id250845;Dbxref=taxon:59463;Name=Unknown;chromosome=Unknown;country=USA: Framingham%2C MA;gbkey=Src;genome=genomic;mol_type=genomic DNA;sex=female\\n']\n",
      "['NW_005871160.1', 'RefSeq', 'region', '1', '4019553', '.', '+', '.', 'ID=id259229;Dbxref=taxon:59463;Name=Unknown;chromosome=Unknown;country=USA: Framingham%2C MA;gbkey=Src;genome=genomic;mol_type=genomic DNA;sex=female\\n']\n",
      "['NW_005871161.1', 'RefSeq', 'region', '1', '4045589', '.', '+', '.', 'ID=id259844;Dbxref=taxon:59463;Name=Unknown;chromosome=Unknown;country=USA: Framingham%2C MA;gbkey=Src;genome=genomic;mol_type=genomic DNA;sex=female\\n']\n",
      "['NW_005871161.1', 'Gnomon', 'gene', '23726', '178648', '.', '-', '.', 'ID=gene12804;Dbxref=GeneID:102431170;Name=TG;gbkey=Gene;gene=TG;gene_biotype=protein_coding\\n']\n",
      "['NW_005871161.1', 'Gnomon', 'mRNA', '23726', '178648', '.', '-', '.', 'ID=rna22019;Parent=gene12804;Dbxref=GeneID:102431170,Genbank:XM_023757773.1;Name=XM_023757773.1;gbkey=mRNA;gene=TG;model_evidence=Supporting evidence includes similarity to: 3 Proteins%2C and 16%25 coverage of the annotated genomic feature by RNAseq alignments;product=thyroglobulin;transcript_id=XM_023757773.1\\n']\n",
      "['NW_005871166.1', 'RefSeq', 'region', '1', '3905128', '.', '+', '.', 'ID=id263990;Dbxref=taxon:59463;Name=Unknown;chromosome=Unknown;country=USA: Framingham%2C MA;gbkey=Src;genome=genomic;mol_type=genomic DNA;sex=female\\n']\n",
      "['NW_005871169.1', 'RefSeq', 'region', '1', '3838405', '.', '+', '.', 'ID=id267292;Dbxref=taxon:59463;Name=Unknown;chromosome=Unknown;country=USA: Framingham%2C MA;gbkey=Src;genome=genomic;mol_type=genomic DNA;sex=female\\n']\n",
      "['NW_005871172.1', 'RefSeq', 'region', '1', '3705170', '.', '+', '.', 'ID=id268520;Dbxref=taxon:59463;Name=Unknown;chromosome=Unknown;country=USA: Framingham%2C MA;gbkey=Src;genome=genomic;mol_type=genomic DNA;sex=female\\n']\n",
      "['NW_005871174.1', 'RefSeq', 'region', '1', '3908256', '.', '+', '.', 'ID=id270821;Dbxref=taxon:59463;Name=Unknown;chromosome=Unknown;country=USA: Framingham%2C MA;gbkey=Src;genome=genomic;mol_type=genomic DNA;sex=female\\n']\n",
      "['NW_005871187.1', 'RefSeq', 'region', '1', '3538212', '.', '+', '.', 'ID=id285453;Dbxref=taxon:59463;Name=Unknown;chromosome=Unknown;country=USA: Framingham%2C MA;gbkey=Src;genome=genomic;mol_type=genomic DNA;sex=female\\n']\n",
      "['NW_005871187.1', 'Gnomon', 'gene', '1853352', '1968511', '.', '+', '.', 'ID=gene14209;Dbxref=GeneID:111827161;Name=LOC111827161;gbkey=Gene;gene=LOC111827161;gene_biotype=lncRNA\\n']\n",
      "['NW_005871187.1', 'Gnomon', 'lnc_RNA', '1853352', '1968511', '.', '+', '.', 'ID=rna24334;Parent=gene14209;Dbxref=GeneID:111827161,Genbank:XR_002830677.1;Name=XR_002830677.1;gbkey=ncRNA;gene=LOC111827161;model_evidence=Supporting evidence includes similarity to: 100%25 coverage of the annotated genomic feature by RNAseq alignments;product=uncharacterized LOC111827161;transcript_id=XR_002830677.1\\n']\n",
      "['NW_005871191.1', 'RefSeq', 'region', '1', '3403133', '.', '+', '.', 'ID=id287356;Dbxref=taxon:59463;Name=Unknown;chromosome=Unknown;country=USA: Framingham%2C MA;gbkey=Src;genome=genomic;mol_type=genomic DNA;sex=female\\n']\n",
      "['NW_005871191.1', 'Gnomon', 'gene', '2216577', '2888781', '.', '-', '.', 'ID=gene14416;Dbxref=GeneID:102435969;Name=NELL1;gbkey=Gene;gene=NELL1;gene_biotype=protein_coding\\n']\n",
      "['NW_005871191.1', 'Gnomon', 'mRNA', '2216577', '2888781', '.', '-', '.', 'ID=rna24556;Parent=gene14416;Dbxref=GeneID:102435969,Genbank:XM_023758901.1;Name=XM_023758901.1;gbkey=mRNA;gene=NELL1;model_evidence=Supporting evidence includes similarity to: 11 Proteins%2C and 94%25 coverage of the annotated genomic feature by RNAseq alignments;product=neural EGFL like 1;transcript_id=XM_023758901.1\\n']\n",
      "['NW_005871201.1', 'RefSeq', 'region', '1', '3152155', '.', '+', '.', 'ID=id298540;Dbxref=taxon:59463;Name=Unknown;chromosome=Unknown;country=USA: Framingham%2C MA;gbkey=Src;genome=genomic;mol_type=genomic DNA;sex=female\\n']\n",
      "['NW_005871201.1', 'Gnomon', 'gene', '2063255', '2448072', '.', '-', '.', 'ID=gene14963;Dbxref=GeneID:102440093;Name=SEMA5A;gbkey=Gene;gene=SEMA5A;gene_biotype=protein_coding\\n']\n",
      "['NW_005871201.1', 'Gnomon', 'mRNA', '2063255', '2448072', '.', '-', '.', 'ID=rna25654;Parent=gene14963;Dbxref=GeneID:102440093,Genbank:XM_006095388.3;Name=XM_006095388.3;gbkey=mRNA;gene=SEMA5A;model_evidence=Supporting evidence includes similarity to: 7 Proteins%2C and 99%25 coverage of the annotated genomic feature by RNAseq alignments;product=semaphorin 5A;transcript_id=XM_006095388.3\\n']\n",
      "['NW_005871208.1', 'RefSeq', 'region', '1', '3092412', '.', '+', '.', 'ID=id304554;Dbxref=taxon:59463;Name=Unknown;chromosome=Unknown;country=USA: Framingham%2C MA;gbkey=Src;genome=genomic;mol_type=genomic DNA;sex=female\\n']\n",
      "['NW_005871210.1', 'RefSeq', 'region', '1', '3019976', '.', '+', '.', 'ID=id307691;Dbxref=taxon:59463;Name=Unknown;chromosome=Unknown;country=USA: Framingham%2C MA;gbkey=Src;genome=genomic;mol_type=genomic DNA;sex=female\\n']\n",
      "['NW_005871210.1', 'Gnomon', 'gene', '2499532', '3006516', '.', '+', '.', 'ID=gene15442;Dbxref=GeneID:102425362;Name=SORCS3;gbkey=Gene;gene=SORCS3;gene_biotype=protein_coding\\n']\n",
      "['NW_005871210.1', 'Gnomon', 'mRNA', '2499532', '3006516', '.', '+', '.', 'ID=rna26668;Parent=gene15442;Dbxref=GeneID:102425362,Genbank:XM_006095936.3;Name=XM_006095936.3;gbkey=mRNA;gene=SORCS3;model_evidence=Supporting evidence includes similarity to: 4 mRNAs%2C 11 Proteins%2C and 30%25 coverage of the annotated genomic feature by RNAseq alignments;product=sortilin related VPS10 domain containing receptor 3;transcript_id=XM_006095936.3\\n']\n",
      "['NW_005871219.1', 'RefSeq', 'region', '1', '2865968', '.', '+', '.', 'ID=id315315;Dbxref=taxon:59463;Name=Unknown;chromosome=Unknown;country=USA: Framingham%2C MA;gbkey=Src;genome=genomic;mol_type=genomic DNA;sex=female\\n']\n",
      "['NW_005871227.1', 'RefSeq', 'region', '1', '2713385', '.', '+', '.', 'ID=id320702;Dbxref=taxon:59463;Name=Unknown;chromosome=Unknown;country=USA: Framingham%2C MA;gbkey=Src;genome=genomic;mol_type=genomic DNA;sex=female\\n']\n",
      "['NW_005871228.1', 'RefSeq', 'region', '1', '2723584', '.', '+', '.', 'ID=id320747;Dbxref=taxon:59463;Name=Unknown;chromosome=Unknown;country=USA: Framingham%2C MA;gbkey=Src;genome=genomic;mol_type=genomic DNA;sex=female\\n']\n",
      "['NW_005871231.1', 'RefSeq', 'region', '1', '2651257', '.', '+', '.', 'ID=id323591;Dbxref=taxon:59463;Name=Unknown;chromosome=Unknown;country=USA: Framingham%2C MA;gbkey=Src;genome=genomic;mol_type=genomic DNA;sex=female\\n']\n",
      "['NW_005871236.1', 'RefSeq', 'region', '1', '2551290', '.', '+', '.', 'ID=id327813;Dbxref=taxon:59463;Name=Unknown;chromosome=Unknown;country=USA: Framingham%2C MA;gbkey=Src;genome=genomic;mol_type=genomic DNA;sex=female\\n']\n",
      "['NW_005871243.1', 'RefSeq', 'region', '1', '2513712', '.', '+', '.', 'ID=id331702;Dbxref=taxon:59463;Name=Unknown;chromosome=Unknown;country=USA: Framingham%2C MA;gbkey=Src;genome=genomic;mol_type=genomic DNA;sex=female\\n']\n",
      "['NW_005871246.1', 'RefSeq', 'region', '1', '2532579', '.', '+', '.', 'ID=id335396;Dbxref=taxon:59463;Name=Unknown;chromosome=Unknown;country=USA: Framingham%2C MA;gbkey=Src;genome=genomic;mol_type=genomic DNA;sex=female\\n']\n",
      "['NW_005871246.1', 'Gnomon', 'gene', '1936775', '1992192', '.', '-', '.', 'ID=gene16883;Dbxref=GeneID:102429022;Name=CBFA2T3;gbkey=Gene;gene=CBFA2T3;gene_biotype=protein_coding\\n']\n",
      "['NW_005871246.1', 'Gnomon', 'mRNA', '1936775', '1992192', '.', '-', '.', 'ID=rna29149;Parent=gene16883;Dbxref=GeneID:102429022,Genbank:XM_006097355.3;Name=XM_006097355.3;gbkey=mRNA;gene=CBFA2T3;model_evidence=Supporting evidence includes similarity to: 2 mRNAs%2C 1 Protein%2C and 99%25 coverage of the annotated genomic feature by RNAseq alignments;product=CBFA2/RUNX1 translocation partner 3;transcript_id=XM_006097355.3\\n']\n",
      "['NW_005871249.1', 'RefSeq', 'region', '1', '2483617', '.', '+', '.', 'ID=id338002;Dbxref=taxon:59463;Name=Unknown;chromosome=Unknown;country=USA: Framingham%2C MA;gbkey=Src;genome=genomic;mol_type=genomic DNA;sex=female\\n']\n",
      "['NW_005871249.1', 'Gnomon', 'gene', '2054615', '2250570', '.', '+', '.', 'ID=gene16970;Dbxref=GeneID:102430860;Name=SGCZ;gbkey=Gene;gene=SGCZ;gene_biotype=protein_coding\\n']\n",
      "['NW_005871249.1', 'Gnomon', 'mRNA', '2054615', '2250570', '.', '+', '.', 'ID=rna29301;Parent=gene16970;Dbxref=GeneID:102430860,Genbank:XM_023761193.1;Name=XM_023761193.1;gbkey=mRNA;gene=SGCZ;model_evidence=Supporting evidence includes similarity to: 3 mRNAs%2C 9 Proteins;product=sarcoglycan zeta%2C transcript variant X1;transcript_id=XM_023761193.1\\n']\n",
      "['NW_005871249.1', 'Gnomon', 'mRNA', '2054615', '2250060', '.', '+', '.', 'ID=rna29302;Parent=gene16970;Dbxref=GeneID:102430860,Genbank:XM_023761194.1;Name=XM_023761194.1;gbkey=mRNA;gene=SGCZ;model_evidence=Supporting evidence includes similarity to: 1 mRNA%2C 2 Proteins;product=sarcoglycan zeta%2C transcript variant X2;transcript_id=XM_023761194.1\\n']\n",
      "['NW_005871250.1', 'RefSeq', 'region', '1', '2370814', '.', '+', '.', 'ID=id338256;Dbxref=taxon:59463;Name=Unknown;chromosome=Unknown;country=USA: Framingham%2C MA;gbkey=Src;genome=genomic;mol_type=genomic DNA;sex=female\\n']\n"
     ]
    },
    {
     "name": "stdout",
     "output_type": "stream",
     "text": [
      "['NW_005871263.1', 'RefSeq', 'region', '1', '2259905', '.', '+', '.', 'ID=id349927;Dbxref=taxon:59463;Name=Unknown;chromosome=Unknown;country=USA: Framingham%2C MA;gbkey=Src;genome=genomic;mol_type=genomic DNA;sex=female\\n']\n",
      "['NW_005871279.1', 'RefSeq', 'region', '1', '1996049', '.', '+', '.', 'ID=id357671;Dbxref=taxon:59463;Name=Unknown;chromosome=Unknown;country=USA: Framingham%2C MA;gbkey=Src;genome=genomic;mol_type=genomic DNA;sex=female\\n']\n",
      "['NW_005871289.1', 'RefSeq', 'region', '1', '1901218', '.', '+', '.', 'ID=id361809;Dbxref=taxon:59463;Name=Unknown;chromosome=Unknown;country=USA: Framingham%2C MA;gbkey=Src;genome=genomic;mol_type=genomic DNA;sex=female\\n']\n",
      "['NW_005871299.1', 'RefSeq', 'region', '1', '1811804', '.', '+', '.', 'ID=id366663;Dbxref=taxon:59463;Name=Unknown;chromosome=Unknown;country=USA: Framingham%2C MA;gbkey=Src;genome=genomic;mol_type=genomic DNA;sex=female\\n']\n",
      "['NW_005871310.1', 'RefSeq', 'region', '1', '1841132', '.', '+', '.', 'ID=id371601;Dbxref=taxon:59463;Name=Unknown;chromosome=Unknown;country=USA: Framingham%2C MA;gbkey=Src;genome=genomic;mol_type=genomic DNA;sex=female\\n']\n",
      "['NW_005871310.1', 'Gnomon', 'gene', '1634027', '1669272', '.', '-', '.', 'ID=gene18766;Dbxref=GeneID:102443128;Name=GEMIN4;gbkey=Gene;gene=GEMIN4;gene_biotype=protein_coding\\n']\n",
      "['NW_005871310.1', 'Gnomon', 'mRNA', '1653940', '1669272', '.', '-', '.', 'ID=rna32507;Parent=gene18766;Dbxref=GeneID:102443128,Genbank:XM_023762809.1;Name=XM_023762809.1;gbkey=mRNA;gene=GEMIN4;model_evidence=Supporting evidence includes similarity to: 1 Protein%2C and 100%25 coverage of the annotated genomic feature by RNAseq alignments%2C including 8 samples with support for all annotated introns;product=gem nuclear organelle associated protein 4%2C transcript variant X2;transcript_id=XM_023762809.1\\n']\n",
      "['NW_005871310.1', 'Gnomon', 'gene', '1661352', '1661854', '.', '+', '.', 'ID=gene18768;Dbxref=GeneID:102421410;Name=LOC102421410;gbkey=Gene;gene=LOC102421410;gene_biotype=protein_coding\\n']\n",
      "['NW_005871310.1', 'Gnomon', 'mRNA', '1661352', '1661854', '.', '+', '.', 'ID=rna32510;Parent=gene18768;Dbxref=GeneID:102421410,Genbank:XM_023762812.1;Name=XM_023762812.1;gbkey=mRNA;gene=LOC102421410;model_evidence=Supporting evidence includes similarity to: 2 Proteins%2C and 100%25 coverage of the annotated genomic feature by RNAseq alignments;product=diazepam-binding inhibitor-like 5;transcript_id=XM_023762812.1\\n']\n",
      "['NW_005871310.1', 'Gnomon', 'exon', '1661352', '1661854', '.', '+', '.', 'ID=id372990;Parent=rna32510;Dbxref=GeneID:102421410,Genbank:XM_023762812.1;gbkey=mRNA;gene=LOC102421410;product=diazepam-binding inhibitor-like 5;transcript_id=XM_023762812.1\\n']\n",
      "['NW_005871382.1', 'RefSeq', 'region', '1', '1180006', '.', '+', '.', 'ID=id412464;Dbxref=taxon:59463;Name=Unknown;chromosome=Unknown;country=USA: Framingham%2C MA;gbkey=Src;genome=genomic;mol_type=genomic DNA;sex=female\\n']\n",
      "['NW_005871402.1', 'RefSeq', 'region', '1', '1199787', '.', '+', '.', 'ID=id420521;Dbxref=taxon:59463;Name=Unknown;chromosome=Unknown;country=USA: Framingham%2C MA;gbkey=Src;genome=genomic;mol_type=genomic DNA;sex=female\\n']\n",
      "['NW_005871409.1', 'RefSeq', 'region', '1', '1211147', '.', '+', '.', 'ID=id422448;Dbxref=taxon:59463;Name=Unknown;chromosome=Unknown;country=USA: Framingham%2C MA;gbkey=Src;genome=genomic;mol_type=genomic DNA;sex=female\\n']\n",
      "['NW_005871413.1', 'RefSeq', 'region', '1', '1152308', '.', '+', '.', 'ID=id422894;Dbxref=taxon:59463;Name=Unknown;chromosome=Unknown;country=USA: Framingham%2C MA;gbkey=Src;genome=genomic;mol_type=genomic DNA;sex=female\\n']\n",
      "['NW_005871437.1', 'RefSeq', 'region', '1', '1012336', '.', '+', '.', 'ID=id432624;Dbxref=taxon:59463;Name=Unknown;chromosome=Unknown;country=USA: Framingham%2C MA;gbkey=Src;genome=genomic;mol_type=genomic DNA;sex=female\\n']\n",
      "['NW_005871447.1', 'RefSeq', 'region', '1', '1004160', '.', '+', '.', 'ID=id435422;Dbxref=taxon:59463;Name=Unknown;chromosome=Unknown;country=USA: Framingham%2C MA;gbkey=Src;genome=genomic;mol_type=genomic DNA;sex=female\\n']\n",
      "['NW_005871520.1', 'RefSeq', 'region', '1', '710619', '.', '+', '.', 'ID=id456862;Dbxref=taxon:59463;Name=Unknown;chromosome=Unknown;country=USA: Framingham%2C MA;gbkey=Src;genome=genomic;mol_type=genomic DNA;sex=female\\n']\n",
      "['NW_005871552.1', 'RefSeq', 'region', '1', '601910', '.', '+', '.', 'ID=id465901;Dbxref=taxon:59463;Name=Unknown;chromosome=Unknown;country=USA: Framingham%2C MA;gbkey=Src;genome=genomic;mol_type=genomic DNA;sex=female\\n']\n",
      "['NW_005871552.1', 'Gnomon', 'gene', '220806', '409594', '.', '-', '.', 'ID=gene23550;Dbxref=GeneID:102419356;Name=MKL2;gbkey=Gene;gene=MKL2;gene_biotype=protein_coding\\n']\n",
      "['NW_005871552.1', 'Gnomon', 'mRNA', '220806', '409594', '.', '-', '.', 'ID=rna40893;Parent=gene23550;Dbxref=GeneID:102419356,Genbank:XM_023744978.1;Name=XM_023744978.1;gbkey=mRNA;gene=MKL2;model_evidence=Supporting evidence includes similarity to: 3 mRNAs%2C 7 Proteins%2C and 100%25 coverage of the annotated genomic feature by RNAseq alignments%2C including 5 samples with support for all annotated introns;product=MKL1/myocardin like 2%2C transcript variant X2;transcript_id=XM_023744978.1\\n']\n",
      "['NW_005871552.1', 'Gnomon', 'mRNA', '220806', '409594', '.', '-', '.', 'ID=rna40894;Parent=gene23550;Dbxref=GeneID:102419356,Genbank:XM_023744982.1;Name=XM_023744982.1;gbkey=mRNA;gene=MKL2;model_evidence=Supporting evidence includes similarity to: 2 Proteins%2C and 100%25 coverage of the annotated genomic feature by RNAseq alignments%2C including 3 samples with support for all annotated introns;product=MKL1/myocardin like 2%2C transcript variant X8;transcript_id=XM_023744982.1\\n']\n",
      "['NW_005871552.1', 'Gnomon', 'transcript', '220806', '409594', '.', '-', '.', 'ID=rna40895;Parent=gene23550;Dbxref=GeneID:102419356,Genbank:XR_002826495.1;Name=XR_002826495.1;gbkey=misc_RNA;gene=MKL2;model_evidence=Supporting evidence includes similarity to: 3 mRNAs%2C 7 Proteins%2C and 100%25 coverage of the annotated genomic feature by RNAseq alignments%2C including 2 samples with support for all annotated introns;product=MKL1/myocardin like 2%2C transcript variant X5;transcript_id=XR_002826495.1\\n']\n",
      "['NW_005871552.1', 'Gnomon', 'mRNA', '220806', '409594', '.', '-', '.', 'ID=rna40896;Parent=gene23550;Dbxref=GeneID:102419356,Genbank:XM_014446123.2;Name=XM_014446123.2;gbkey=mRNA;gene=MKL2;model_evidence=Supporting evidence includes similarity to: 3 mRNAs%2C 7 Proteins%2C and 100%25 coverage of the annotated genomic feature by RNAseq alignments%2C including 2 samples with support for all annotated introns;product=MKL1/myocardin like 2%2C transcript variant X1;transcript_id=XM_014446123.2\\n']\n",
      "['NW_005871552.1', 'Gnomon', 'mRNA', '220806', '409594', '.', '-', '.', 'ID=rna40897;Parent=gene23550;Dbxref=GeneID:102419356,Genbank:XM_023744979.1;Name=XM_023744979.1;gbkey=mRNA;gene=MKL2;model_evidence=Supporting evidence includes similarity to: 3 mRNAs%2C 7 Proteins%2C and 100%25 coverage of the annotated genomic feature by RNAseq alignments;product=MKL1/myocardin like 2%2C transcript variant X3;transcript_id=XM_023744979.1\\n']\n",
      "['NW_005871552.1', 'Gnomon', 'mRNA', '220806', '398116', '.', '-', '.', 'ID=rna40898;Parent=gene23550;Dbxref=GeneID:102419356,Genbank:XM_023744981.1;Name=XM_023744981.1;gbkey=mRNA;gene=MKL2;model_evidence=Supporting evidence includes similarity to: 3 mRNAs%2C 7 Proteins%2C and 100%25 coverage of the annotated genomic feature by RNAseq alignments%2C including 1 sample with support for all annotated introns;product=MKL1/myocardin like 2%2C transcript variant X6;transcript_id=XM_023744981.1\\n']\n",
      "['NW_005871552.1', 'Gnomon', 'mRNA', '220806', '398116', '.', '-', '.', 'ID=rna40899;Parent=gene23550;Dbxref=GeneID:102419356,Genbank:XM_023744980.1;Name=XM_023744980.1;gbkey=mRNA;gene=MKL2;model_evidence=Supporting evidence includes similarity to: 3 mRNAs%2C 7 Proteins%2C and 100%25 coverage of the annotated genomic feature by RNAseq alignments%2C including 1 sample with support for all annotated introns;product=MKL1/myocardin like 2%2C transcript variant X4;transcript_id=XM_023744980.1\\n']\n",
      "['NW_005871552.1', 'Gnomon', 'mRNA', '224715', '409594', '.', '-', '.', 'ID=rna40901;Parent=gene23550;Dbxref=GeneID:102419356,Genbank:XM_023744983.1;Name=XM_023744983.1;gbkey=mRNA;gene=MKL2;model_evidence=Supporting evidence includes similarity to: 3 mRNAs%2C 6 Proteins%2C and 100%25 coverage of the annotated genomic feature by RNAseq alignments%2C including 1 sample with support for all annotated introns;product=MKL1/myocardin like 2%2C transcript variant X9;transcript_id=XM_023744983.1\\n']\n",
      "['NW_005871560.1', 'RefSeq', 'region', '1', '619226', '.', '+', '.', 'ID=id467701;Dbxref=taxon:59463;Name=Unknown;chromosome=Unknown;country=USA: Framingham%2C MA;gbkey=Src;genome=genomic;mol_type=genomic DNA;sex=female\\n']\n",
      "['NW_005871562.1', 'RefSeq', 'region', '1', '592368', '.', '+', '.', 'ID=id468296;Dbxref=taxon:59463;Name=Unknown;chromosome=Unknown;country=USA: Framingham%2C MA;gbkey=Src;genome=genomic;mol_type=genomic DNA;sex=female\\n']\n",
      "['NW_005871619.1', 'RefSeq', 'region', '1', '477675', '.', '+', '.', 'ID=id480069;Dbxref=taxon:59463;Name=Unknown;chromosome=Unknown;country=USA: Framingham%2C MA;gbkey=Src;genome=genomic;mol_type=genomic DNA;sex=female\\n']\n",
      "['NW_005871619.1', 'Gnomon', 'gene', '297247', '377686', '.', '+', '.', 'ID=gene24278;Dbxref=GeneID:102427816;Name=BACE2;gbkey=Gene;gene=BACE2;gene_biotype=protein_coding\\n']\n",
      "['NW_005871619.1', 'Gnomon', 'mRNA', '297247', '377686', '.', '+', '.', 'ID=rna42162;Parent=gene24278;Dbxref=GeneID:102427816,Genbank:XM_023745698.1;Name=XM_023745698.1;gbkey=mRNA;gene=BACE2;model_evidence=Supporting evidence includes similarity to: 2 mRNAs%2C 3 Proteins%2C and 82%25 coverage of the annotated genomic feature by RNAseq alignments;product=beta-site APP-cleaving enzyme 2;transcript_id=XM_023745698.1\\n']\n",
      "['NW_005871665.1', 'RefSeq', 'region', '1', '468705', '.', '+', '.', 'ID=id489259;Dbxref=taxon:59463;Name=Unknown;chromosome=Unknown;country=USA: Framingham%2C MA;gbkey=Src;genome=genomic;mol_type=genomic DNA;sex=female\\n']\n",
      "['NW_005871701.1', 'RefSeq', 'region', '1', '351550', '.', '+', '.', 'ID=id494978;Dbxref=taxon:59463;Name=Unknown;chromosome=Unknown;country=USA: Framingham%2C MA;gbkey=Src;genome=genomic;mol_type=genomic DNA;sex=female\\n']\n",
      "['NW_005871763.1', 'RefSeq', 'region', '1', '283313', '.', '+', '.', 'ID=id502584;Dbxref=taxon:59463;Name=Unknown;chromosome=Unknown;country=USA: Framingham%2C MA;gbkey=Src;genome=genomic;mol_type=genomic DNA;sex=female\\n']\n"
     ]
    },
    {
     "name": "stdout",
     "output_type": "stream",
     "text": [
      "['NW_005871967.1', 'RefSeq', 'region', '1', '145539', '.', '+', '.', 'ID=id520168;Dbxref=taxon:59463;Name=Unknown;chromosome=Unknown;country=USA: Framingham%2C MA;gbkey=Src;genome=genomic;mol_type=genomic DNA;sex=female\\n']\n",
      "['NW_005871977.1', 'RefSeq', 'region', '1', '146487', '.', '+', '.', 'ID=id520514;Dbxref=taxon:59463;Name=Unknown;chromosome=Unknown;country=USA: Framingham%2C MA;gbkey=Src;genome=genomic;mol_type=genomic DNA;sex=female\\n']\n",
      "['NW_005872028.1', 'RefSeq', 'region', '1', '123542', '.', '+', '.', 'ID=id524264;Dbxref=taxon:59463;Name=Unknown;chromosome=Unknown;country=USA: Framingham%2C MA;gbkey=Src;genome=genomic;mol_type=genomic DNA;sex=female\\n']\n",
      "['NW_005872028.1', 'Gnomon', 'gene', '5481', '98250', '.', '-', '.', 'ID=gene27256;Dbxref=GeneID:102417583;Name=RAPGEF1;gbkey=Gene;gene=RAPGEF1;gene_biotype=protein_coding\\n']\n",
      "['NW_005872028.1', 'Gnomon', 'mRNA', '5481', '98250', '.', '-', '.', 'ID=rna46592;Parent=gene27256;Dbxref=GeneID:102417583,Genbank:XM_023747795.1;Name=XM_023747795.1;gbkey=mRNA;gene=RAPGEF1;model_evidence=Supporting evidence includes similarity to: 7 Proteins%2C and 100%25 coverage of the annotated genomic feature by RNAseq alignments%2C including 1 sample with support for all annotated introns;product=Rap guanine nucleotide exchange factor 1%2C transcript variant X2;transcript_id=XM_023747795.1\\n']\n",
      "['NW_005872028.1', 'Gnomon', 'mRNA', '5481', '98250', '.', '-', '.', 'ID=rna46593;Parent=gene27256;Dbxref=GeneID:102417583,Genbank:XM_023747793.1;Name=XM_023747793.1;gbkey=mRNA;gene=RAPGEF1;model_evidence=Supporting evidence includes similarity to: 1 Protein%2C and 100%25 coverage of the annotated genomic feature by RNAseq alignments;product=Rap guanine nucleotide exchange factor 1%2C transcript variant X1;transcript_id=XM_023747793.1\\n']\n",
      "['NW_005872120.1', 'RefSeq', 'region', '1', '106138', '.', '+', '.', 'ID=id527572;Dbxref=taxon:59463;Name=Unknown;chromosome=Unknown;country=USA: Framingham%2C MA;gbkey=Src;genome=genomic;mol_type=genomic DNA;sex=female\\n']\n",
      "['NW_005872156.1', 'RefSeq', 'region', '1', '96376', '.', '+', '.', 'ID=id529614;Dbxref=taxon:59463;Name=Unknown;chromosome=Unknown;country=USA: Framingham%2C MA;gbkey=Src;genome=genomic;mol_type=genomic DNA;sex=female\\n']\n"
     ]
    },
    {
     "data": {
      "text/plain": [
       "145"
      ]
     },
     "execution_count": 9,
     "metadata": {},
     "output_type": "execute_result"
    }
   ],
   "source": [
    "f=open('/local/home/sarahgw/WGS/SNPS/All_mylu/snps/NJNY50_sigCompvaluesNe424_296.csv', 'r')\n",
    "a=open('/local/home/sarahgw/references/ref_Myoluc2.0_top_level.gff3', 'r')\n",
    "flines = f.readlines()[1:]\n",
    "chrom_dict = {}\n",
    "for line in flines:\n",
    "    line = line.replace('\"', '')\n",
    "    args = line.split(',')\n",
    "    chrom_dict[args[2]] = int(args[3])\n",
    "\n",
    "aline = a.readline()\n",
    "count = 0\n",
    "while aline:\n",
    "    agroups = aline.split('\\t')\n",
    "    #print(agroups)\n",
    "    chrom = agroups[0]\n",
    "    if chrom in chrom_dict:\n",
    "        loc = chrom_dict[chrom]\n",
    "        if int(agroups[3]) < (loc) and int(agroups[4]) > (loc):\n",
    "            count += 1\n",
    "            print agroups\n",
    "    aline = a.readline()\n",
    "count"
   ]
  },
  {
   "cell_type": "code",
   "execution_count": null,
   "metadata": {
    "collapsed": true
   },
   "outputs": [],
   "source": [
    "p vals "
   ]
  },
  {
   "cell_type": "markdown",
   "metadata": {},
   "source": [
    "2603829 MDGA2,  in our sig all 3\n",
    "616121 unknown, but in our sig all 3\n",
    "35761989 unknown, but in our sig all 3"
   ]
  },
  {
   "cell_type": "markdown",
   "metadata": {
    "collapsed": true
   },
   "source": [
    "## VEP for synonymous/non synonymous\n",
    "\n",
    "create input file of sig snps\n",
    "\n",
    "The default format is a simple whitespace-separated format (columns may be separated by space or tab characters), containing five required columns plus an optional identifier column:\n",
    "\n",
    "chromosome - just the name or number, with no 'chr' prefix\n",
    "start\n",
    "end\n",
    "allele - pair of alleles separated by a '/', with the reference allele first\n",
    "strand - defined as + (forward) or - (reverse).\n",
    "identifier - this identifier will be used in VEP's output. If not provided, VEP will construct an identifier from the given coordinates and alleles."
   ]
  },
  {
   "cell_type": "code",
   "execution_count": 18,
   "metadata": {},
   "outputs": [
    {
     "name": "stdout",
     "output_type": "stream",
     "text": [
      "\"\",\"Scaffold\",\"NewScaf\",\"SNP\",\"Maj\",\"Min\",\"NJ\",\"NY\",\"Comp\",\"rank\",\"padjBH\"\r\n",
      "\"1\",\"GL429767\",\"NW_005871048.1\",16839644,\"T\",\"A\",8.3999916000084e-05,0.000181999818000182,2.90413319116625e-07,70,5.39909603706351e-07\r\n",
      "\"2\",\"GL429767\",\"NW_005871048.1\",38456248,\"T\",\"C\",2.8999971000029e-05,0.000823999176000824,4.43259321723044e-07,78,6.01613558415648e-07\r\n",
      "\"3\",\"GL429767\",\"NW_005871048.1\",22649683,\"T\",\"A\",0.000658999341000659,9.99999000001e-07,1.45904282432881e-08,20,1.54259886773243e-07\r\n",
      "\"4\",\"GL429767\",\"NW_005871048.1\",46534125,\"C\",\"T\",6.6999933000067e-05,9.99999000001e-07,1.63656087014458e-09,9,6.94169490479594e-08\r\n",
      "\"5\",\"GL429767\",\"NW_005871048.1\",51542832,\"G\",\"A\",9.99999000001e-07,0.000233999766000234,5.42310342192109e-09,13,1.00268926402608e-07\r\n",
      "\"6\",\"GL429768\",\"NW_005871049.1\",3921142,\"G\",\"C\",9.99999000001e-07,0.0138399861600138,2.64284027064383e-07,67,5.16770620690364e-07\r\n",
      "\"7\",\"GL429768\",\"NW_005871049.1\",34577793,\"C\",\"T\",0.000584999415000585,2.3999976000024e-05,2.6790172263069e-07,68,5.24483615029027e-07\r\n",
      "\"8\",\"GL429768\",\"NW_005871049.1\",29962249,\"A\",\"G\",9.99999000001e-07,0.00581299418700581,1.16045681211861e-07,52,4.01075705610432e-07\r\n",
      "\"9\",\"GL429770\",\"NW_005871051.1\",8292792,\"A\",\"T\",7.999992000008e-06,9.99999000001e-07,2.12412227769314e-10,4,3.08519773546486e-08\r\n"
     ]
    }
   ],
   "source": [
    "!head /local/home/sarahgw/WGS/SNPS/All_mylu/snps/NJNY50_sigCompvaluesNe424_296.csv"
   ]
  },
  {
   "cell_type": "code",
   "execution_count": 26,
   "metadata": {
    "collapsed": true
   },
   "outputs": [],
   "source": [
    "!awk 'BEGIN { FS = \",\" }{print $2,$4,$4,$5\"/\"$6, \"+\"}' /local/home/sarahgw/WGS/SNPS/All_mylu/snps/NJNY50_sigCompvaluesNe424_296.csv|sed 's/\\\"//g'| tail -n 92 > /local/home/sarahgw/WGS/SNPS/All_mylu/snps/NJNY50_sigCompvaluesNe424_296_inputVEP.txt    "
   ]
  },
  {
   "cell_type": "code",
   "execution_count": 28,
   "metadata": {
    "collapsed": true
   },
   "outputs": [],
   "source": [
    "!awk 'BEGIN { FS = \",\" }{print $3,$4,$4,$5\"/\"$6, \"+\"}' /local/home/sarahgw/WGS/SNPS/All_mylu/snps/NJNY50_sigCompvaluesNe424_296.csv|sed 's/\\\"//g'| tail -n 92 > /local/home/sarahgw/WGS/SNPS/All_mylu/snps/NJNY50_sigCompvaluesNe424_296_inputVEP2.txt    "
   ]
  },
  {
   "cell_type": "code",
   "execution_count": null,
   "metadata": {
    "collapsed": true
   },
   "outputs": [],
   "source": []
  },
  {
   "cell_type": "code",
   "execution_count": null,
   "metadata": {
    "collapsed": true
   },
   "outputs": [],
   "source": [
    "/local/home/sarahgw/ensembl-vep/vep -i /local/home/sarahgw/WGS/SNPS/All_mylu/snps/NJNY50_sigCompvaluesNe424_296_inputVEP.txt --cache --species myotis_lucifugus "
   ]
  },
  {
   "cell_type": "markdown",
   "metadata": {},
   "source": [
    "bgzip and tabix file"
   ]
  },
  {
   "cell_type": "code",
   "execution_count": 23,
   "metadata": {},
   "outputs": [
    {
     "name": "stdout",
     "output_type": "stream",
     "text": [
      "##gff-version 3\r\n",
      "#!gff-spec-version 1.21\r\n",
      "#!processor NCBI annotwriter\r\n",
      "#!genome-build Myoluc2.0\r\n",
      "#!genome-build-accession NCBI_Assembly:GCF_000147115.1\r\n",
      "#!annotation-date 26 January 2018\r\n",
      "#!annotation-source NCBI Myotis lucifugus Annotation Release 102\r\n",
      "##sequence-region NW_005871048.1 1 64990205\r\n",
      "##species https://www.ncbi.nlm.nih.gov/Taxonomy/Browser/wwwtax.cgi?id=59463\r\n",
      "NW_005871048.1\tRefSeq\tregion\t1\t64990205\t.\t+\t.\tID=id0;Dbxref=taxon:59463;Name=Unknown;chromosome=Unknown;country=USA: Framingham%2C MA;gbkey=Src;genome=genomic;mol_type=genomic DNA;sex=female\r\n"
     ]
    }
   ],
   "source": [
    "!head /local/home/sarahgw/references/ref_Myoluc2.0_top_level.gff3"
   ]
  },
  {
   "cell_type": "code",
   "execution_count": 29,
   "metadata": {
    "collapsed": true
   },
   "outputs": [],
   "source": [
    "!grep -v \"#\" /local/home/sarahgw/references/ref_Myoluc2.0_top_level.gff3 |  sort -k1,1 -k4,4n > /local/home/sarahgw/references/ref_Myoluc2.0_top_level_sorted.gff3"
   ]
  },
  {
   "cell_type": "code",
   "execution_count": null,
   "metadata": {
    "collapsed": true
   },
   "outputs": [],
   "source": [
    "bgzip -c /local/home/sarahgw/references/ref_Myoluc2.0_top_level_sorted.gff3 > /local/home/sarahgw/references/ref_Myoluc2.0_top_level_sorted.gff3.gz\n",
    "tabix -p gff /local/home/sarahgw/references/ref_Myoluc2.0_top_level_sorted.gff3.gz"
   ]
  },
  {
   "cell_type": "code",
   "execution_count": null,
   "metadata": {
    "collapsed": true
   },
   "outputs": [],
   "source": [
    "bgzip -c /local/home/sarahgw/references/Myotis_lucifugus.Myoluc2.0.dna_sm.toplevel.fa > /local/home/sarahgw/references/Myotis_lucifugus.Myoluc2.0.dna_sm.toplevel.fa.gz"
   ]
  },
  {
   "cell_type": "code",
   "execution_count": 30,
   "metadata": {},
   "outputs": [
    {
     "ename": "SyntaxError",
     "evalue": "invalid syntax (<ipython-input-30-f0842e4a7489>, line 1)",
     "output_type": "error",
     "traceback": [
      "\u001b[0;36m  File \u001b[0;32m\"<ipython-input-30-f0842e4a7489>\"\u001b[0;36m, line \u001b[0;32m1\u001b[0m\n\u001b[0;31m    local(/home/sarahgw/ensembl-vep/vep, use, lib, '/local/home/sarahgw/ensembl-vep/htslib/tabix', -i, /local/home/sarahgw/WGS/SNPS/All_mylu/snps/NJNY50_sigCompvaluesNe424_296_inputVEP2.txt, -fasta, /local/home/sarahgw/references/Myotis_lucifugus.Myoluc2.0.dna_sm.toplevel.fa, --gff, /local/home/sarahgw/references/ref_Myoluc2.0_top_level_sorted.gff3.gz, --cache, --species, myotis_lucifugus)\u001b[0m\n\u001b[0m          ^\u001b[0m\n\u001b[0;31mSyntaxError\u001b[0m\u001b[0;31m:\u001b[0m invalid syntax\n"
     ]
    }
   ],
   "source": [
    "/local/home/sarahgw/ensembl-vep/vep  -i /local/home/sarahgw/WGS/SNPS/All_mylu/snps/NJNY50_sigCompvaluesNe424_296_inputVEP2.txt -fasta /local/home/sarahgw/references/Myotis_lucifugus.Myoluc2.0.dna_sm.toplevel.fa --gff /local/home/sarahgw/references/ref_Myoluc2.0_top_level_sorted.gff3.gz --cache --species myotis_lucifugus \n"
   ]
  },
  {
   "cell_type": "code",
   "execution_count": 1,
   "metadata": {
    "scrolled": true
   },
   "outputs": [
    {
     "name": "stdout",
     "output_type": "stream",
     "text": [
      "NW_005871048.1 16839644 16839644 T/A +\r\n",
      "NW_005871048.1 38456248 38456248 T/C +\r\n",
      "NW_005871048.1 22649683 22649683 T/A +\r\n",
      "NW_005871048.1 46534125 46534125 C/T +\r\n",
      "NW_005871048.1 51542832 51542832 G/A +\r\n",
      "NW_005871049.1 3921142 3921142 G/C +\r\n",
      "NW_005871049.1 34577793 34577793 C/T +\r\n",
      "NW_005871049.1 29962249 29962249 A/G +\r\n",
      "NW_005871051.1 8292792 8292792 A/T +\r\n",
      "NW_005871051.1 8507307 8507307 A/C +\r\n",
      "NW_005871053.1 8716095 8716095 T/A +\r\n",
      "NW_005871053.1 14993622 14993622 T/C +\r\n",
      "NW_005871054.1 7204887 7204887 C/T +\r\n",
      "NW_005871056.1 5556309 5556309 A/C +\r\n",
      "NW_005871059.1 3561000 3561000 G/A +\r\n",
      "NW_005871062.1 7594948 7594948 A/T +\r\n",
      "NW_005871064.1 14617697 14617697 C/A +\r\n",
      "NW_005871064.1 665407 665407 C/T +\r\n",
      "NW_005871065.1 1229639 1229639 G/A +\r\n",
      "NW_005871066.1 3216149 3216149 C/T +\r\n",
      "NW_005871073.1 753145 753145 C/A +\r\n",
      "NW_005871075.1 5707870 5707870 T/A +\r\n",
      "NW_005871076.1 3907289 3907289 G/A +\r\n",
      "NW_005871082.1 6986210 6986210 A/T +\r\n",
      "NW_005871090.1 7390034 7390034 A/G +\r\n",
      "NW_005871097.1 3229647 3229647 G/A +\r\n",
      "NW_005871100.1 365354 365354 G/A +\r\n",
      "NW_005871109.1 1501267 1501267 T/C +\r\n",
      "NW_005871109.1 3004686 3004686 A/G +\r\n",
      "NW_005871116.1 2966452 2966452 T/G +\r\n",
      "NW_005871116.1 2966433 2966433 A/G +\r\n",
      "NW_005871122.1 612532 612532 G/A +\r\n",
      "NW_005871122.1 3522450 3522450 A/G +\r\n",
      "NW_005871123.1 4124241 4124241 A/G +\r\n",
      "NW_005871126.1 2091046 2091046 C/T +\r\n",
      "NW_005871129.1 2603829 2603829 T/C +\r\n",
      "NW_005871131.1 1183154 1183154 C/T +\r\n",
      "NW_005871133.1 463102 463102 T/G +\r\n",
      "NW_005871136.1 4401152 4401152 G/C +\r\n",
      "NW_005871138.1 134612 134612 T/C +\r\n",
      "NW_005871140.1 300331 300331 T/C +\r\n",
      "NW_005871142.1 4317517 4317517 A/G +\r\n",
      "NW_005871142.1 4317523 4317523 T/C +\r\n",
      "NW_005871142.1 3065399 3065399 A/G +\r\n",
      "NW_005871142.1 293372 293372 A/G +\r\n",
      "NW_005871148.1 2575249 2575249 A/G +\r\n",
      "NW_005871154.1 2056629 2056629 T/A +\r\n",
      "NW_005871160.1 384336 384336 G/A +\r\n",
      "NW_005871161.1 42824 42824 C/A +\r\n",
      "NW_005871166.1 2043530 2043530 T/C +\r\n",
      "NW_005871169.1 3508435 3508435 A/T +\r\n",
      "NW_005871172.1 266596 266596 T/A +\r\n",
      "NW_005871174.1 1767654 1767654 C/T +\r\n",
      "NW_005871187.1 1866953 1866953 C/T +\r\n",
      "NW_005871191.1 2414078 2414078 A/C +\r\n",
      "NW_005871201.1 2255691 2255691 T/G +\r\n",
      "NW_005871208.1 1241213 1241213 A/G +\r\n",
      "NW_005871210.1 2943933 2943933 G/T +\r\n",
      "NW_005871219.1 2500270 2500270 A/G +\r\n",
      "NW_005871227.1 1039079 1039079 T/A +\r\n",
      "NW_005871228.1 1200485 1200485 A/G +\r\n",
      "NW_005871231.1 2444879 2444879 G/A +\r\n",
      "NW_005871236.1 1484586 1484586 G/A +\r\n",
      "NW_005871243.1 689293 689293 A/C +\r\n",
      "NW_005871246.1 1956978 1956978 G/A +\r\n",
      "NW_005871249.1 2123897 2123897 A/T +\r\n",
      "NW_005871250.1 109273 109273 C/T +\r\n",
      "NW_005871263.1 1303809 1303809 G/A +\r\n",
      "NW_005871279.1 99324 99324 C/G +\r\n",
      "NW_005871289.1 1396110 1396110 C/T +\r\n",
      "NW_005871299.1 180278 180278 T/A +\r\n",
      "NW_005871310.1 1661413 1661413 A/C +\r\n",
      "NW_005871382.1 496908 496908 T/C +\r\n",
      "NW_005871402.1 936584 936584 T/C +\r\n",
      "NW_005871409.1 735347 735347 A/G +\r\n",
      "NW_005871413.1 776142 776142 T/C +\r\n",
      "NW_005871437.1 916661 916661 C/T +\r\n",
      "NW_005871447.1 11932 11932 C/T +\r\n",
      "NW_005871520.1 60325 60325 G/A +\r\n",
      "NW_005871552.1 525210 525210 C/T +\r\n",
      "NW_005871552.1 326498 326498 A/G +\r\n",
      "NW_005871560.1 607165 607165 G/A +\r\n",
      "NW_005871562.1 514067 514067 T/C +\r\n",
      "NW_005871619.1 350547 350547 T/C +\r\n",
      "NW_005871665.1 252240 252240 A/G +\r\n",
      "NW_005871701.1 180654 180654 A/G +\r\n",
      "NW_005871763.1 173352 173352 C/T +\r\n",
      "NW_005871967.1 91034 91034 C/T +\r\n",
      "NW_005871977.1 55439 55439 A/T +\r\n",
      "NW_005872028.1 9663 9663 C/T +\r\n",
      "NW_005872120.1 44020 44020 A/G +\r\n",
      "NW_005872156.1 25568 25568 C/T +\r\n"
     ]
    }
   ],
   "source": [
    "!head -n 100 /local/home/sarahgw/WGS/SNPS/All_mylu/snps/NJNY50_sigCompvaluesNe424_296_inputVEP2.txt"
   ]
  },
  {
   "cell_type": "code",
   "execution_count": 5,
   "metadata": {
    "scrolled": true
   },
   "outputs": [
    {
     "name": "stdout",
     "output_type": "stream",
     "text": [
      "NW_005871123.1_4124241_A/G\tNW_005871123.1:4124241\tG\t102421882\tXM_006090548.2\tTranscript\tdownstream_gene_variant\t-\t-\t-\t-\t-\t-\tIMPACT=MODIFIER;DISTANCE=2309;STRAND=1;SOURCE=ref_Myoluc2.0_top_level_sorted.gff3.gz\r\n",
      "NW_005871123.1_4124241_A/G\tNW_005871123.1:4124241\tG\t102421882\tXM_006090549.2\tTranscript\tdownstream_gene_variant\t-\t-\t-\t-\t-\t-\tIMPACT=MODIFIER;DISTANCE=2309;STRAND=1;SOURCE=ref_Myoluc2.0_top_level_sorted.gff3.gz\r\n",
      "NW_005871123.1_4124241_A/G\tNW_005871123.1:4124241\tG\t102421882\tXM_014457399.2\tTranscript\tdownstream_gene_variant\t-\t-\t-\t-\t-\t-\tIMPACT=MODIFIER;DISTANCE=2309;STRAND=1;SOURCE=ref_Myoluc2.0_top_level_sorted.gff3.gz\r\n",
      "NW_005871126.1_2091046_C/T\tNW_005871126.1:2091046\tT\t102433978\tXM_006090652.3\tTranscript\tintron_variant\t-\t-\t-\t-\t-\t-\tIMPACT=MODIFIER;STRAND=1;SOURCE=ref_Myoluc2.0_top_level_sorted.gff3.gz\r\n",
      "NW_005871129.1_2603829_T/C\tNW_005871129.1:2603829\tC\t102423892\tXM_006090751.3\tTranscript\tintron_variant\t-\t-\t-\t-\t-\t-\tIMPACT=MODIFIER;STRAND=-1;SOURCE=ref_Myoluc2.0_top_level_sorted.gff3.gz\r\n",
      "NW_005871129.1_2603829_T/C\tNW_005871129.1:2603829\tC\t102423892\tXM_006090753.2\tTranscript\tintron_variant\t-\t-\t-\t-\t-\t-\tIMPACT=MODIFIER;STRAND=-1;SOURCE=ref_Myoluc2.0_top_level_sorted.gff3.gz\r\n",
      "NW_005871131.1_1183154_C/T\tNW_005871131.1:1183154\tT\t102420982\tXM_023755748.1\tTranscript\tintron_variant\t-\t-\t-\t-\t-\t-\tIMPACT=MODIFIER;STRAND=1;SOURCE=ref_Myoluc2.0_top_level_sorted.gff3.gz\r\n",
      "NW_005871133.1_463102_T/G\tNW_005871133.1:463102\tG\t-\t-\t-\tintergenic_variant\t-\t-\t-\t-\t-\t-\tIMPACT=MODIFIER\r\n",
      "NW_005871136.1_4401152_G/C\tNW_005871136.1:4401152\tC\t102426505\tXM_006091226.3\tTranscript\tintron_variant\t-\t-\t-\t-\t-\t-\tIMPACT=MODIFIER;STRAND=-1;SOURCE=ref_Myoluc2.0_top_level_sorted.gff3.gz\r\n",
      "NW_005871138.1_134612_T/C\tNW_005871138.1:134612\tC\t102423895\tXM_006091291.3\tTranscript\tintron_variant\t-\t-\t-\t-\t-\t-\tIMPACT=MODIFIER;STRAND=-1;SOURCE=ref_Myoluc2.0_top_level_sorted.gff3.gz\r\n",
      "NW_005871140.1_300331_T/C\tNW_005871140.1:300331\tC\t-\t-\t-\tintergenic_variant\t-\t-\t-\t-\t-\t-\tIMPACT=MODIFIER\r\n",
      "NW_005871142.1_4317517_A/G\tNW_005871142.1:4317517\tG\t-\t-\t-\tintergenic_variant\t-\t-\t-\t-\t-\t-\tIMPACT=MODIFIER\r\n",
      "NW_005871142.1_4317523_T/C\tNW_005871142.1:4317523\tC\t-\t-\t-\tintergenic_variant\t-\t-\t-\t-\t-\t-\tIMPACT=MODIFIER\r\n",
      "NW_005871142.1_3065399_A/G\tNW_005871142.1:3065399\tG\t102432110\tXM_006091740.3\tTranscript\tupstream_gene_variant\t-\t-\t-\t-\t-\t-\tIMPACT=MODIFIER;DISTANCE=1053;STRAND=-1;SOURCE=ref_Myoluc2.0_top_level_sorted.gff3.gz\r\n",
      "NW_005871142.1_293372_A/G\tNW_005871142.1:293372\tG\t102442682\tXM_006091691.3\tTranscript\tintron_variant\t-\t-\t-\t-\t-\t-\tIMPACT=MODIFIER;STRAND=1;SOURCE=ref_Myoluc2.0_top_level_sorted.gff3.gz\r\n",
      "NW_005871142.1_293372_A/G\tNW_005871142.1:293372\tG\t102442682\tXM_023756431.1\tTranscript\tintron_variant\t-\t-\t-\t-\t-\t-\tIMPACT=MODIFIER;STRAND=1;SOURCE=ref_Myoluc2.0_top_level_sorted.gff3.gz\r\n",
      "NW_005871148.1_2575249_A/G\tNW_005871148.1:2575249\tG\t102438113\tXM_014458887.2\tTranscript\tintron_variant\t-\t-\t-\t-\t-\t-\tIMPACT=MODIFIER;STRAND=-1;SOURCE=ref_Myoluc2.0_top_level_sorted.gff3.gz\r\n",
      "NW_005871154.1_2056629_T/A\tNW_005871154.1:2056629\tA\t-\t-\t-\tintergenic_variant\t-\t-\t-\t-\t-\t-\tIMPACT=MODIFIER\r\n",
      "NW_005871160.1_384336_G/A\tNW_005871160.1:384336\tA\t-\t-\t-\tintergenic_variant\t-\t-\t-\t-\t-\t-\tIMPACT=MODIFIER\r\n",
      "NW_005871161.1_42824_C/A\tNW_005871161.1:42824\tA\t102431170\tXM_023757773.1\tTranscript\tintron_variant\t-\t-\t-\t-\t-\t-\tIMPACT=MODIFIER;STRAND=-1;SOURCE=ref_Myoluc2.0_top_level_sorted.gff3.gz\r\n",
      "NW_005871166.1_2043530_T/C\tNW_005871166.1:2043530\tC\t-\t-\t-\tintergenic_variant\t-\t-\t-\t-\t-\t-\tIMPACT=MODIFIER\r\n",
      "NW_005871169.1_3508435_A/T\tNW_005871169.1:3508435\tT\t-\t-\t-\tintergenic_variant\t-\t-\t-\t-\t-\t-\tIMPACT=MODIFIER\r\n",
      "NW_005871172.1_266596_T/A\tNW_005871172.1:266596\tA\t-\t-\t-\tintergenic_variant\t-\t-\t-\t-\t-\t-\tIMPACT=MODIFIER\r\n",
      "NW_005871174.1_1767654_C/T\tNW_005871174.1:1767654\tT\t-\t-\t-\tintergenic_variant\t-\t-\t-\t-\t-\t-\tIMPACT=MODIFIER\r\n",
      "NW_005871187.1_1866953_C/T\tNW_005871187.1:1866953\tT\t111827161\tXR_002830677.1\tTranscript\tintron_variant,non_coding_transcript_variant\t-\t-\t-\t-\t-\t-\tIMPACT=MODIFIER;STRAND=1;SOURCE=ref_Myoluc2.0_top_level_sorted.gff3.gz\r\n",
      "NW_005871191.1_2414078_A/C\tNW_005871191.1:2414078\tC\t102435969\tXM_023758901.1\tTranscript\tintron_variant\t-\t-\t-\t-\t-\t-\tIMPACT=MODIFIER;STRAND=-1;SOURCE=ref_Myoluc2.0_top_level_sorted.gff3.gz\r\n",
      "NW_005871201.1_2255691_T/G\tNW_005871201.1:2255691\tG\t102440093\tXM_006095388.3\tTranscript\tintron_variant\t-\t-\t-\t-\t-\t-\tIMPACT=MODIFIER;STRAND=-1;SOURCE=ref_Myoluc2.0_top_level_sorted.gff3.gz\r\n",
      "NW_005871208.1_1241213_A/G\tNW_005871208.1:1241213\tG\t102435973\tXM_006095699.1\tTranscript\tdownstream_gene_variant\t-\t-\t-\t-\t-\t-\tIMPACT=MODIFIER;DISTANCE=926;STRAND=-1;SOURCE=ref_Myoluc2.0_top_level_sorted.gff3.gz\r\n",
      "NW_005871210.1_2943933_G/T\tNW_005871210.1:2943933\tT\t102425362\tXM_006095936.3\tTranscript\tintron_variant\t-\t-\t-\t-\t-\t-\tIMPACT=MODIFIER;STRAND=1;SOURCE=ref_Myoluc2.0_top_level_sorted.gff3.gz\r\n",
      "NW_005871219.1_2500270_A/G\tNW_005871219.1:2500270\tG\t-\t-\t-\tintergenic_variant\t-\t-\t-\t-\t-\t-\tIMPACT=MODIFIER\r\n",
      "NW_005871227.1_1039079_T/A\tNW_005871227.1:1039079\tA\t-\t-\t-\tintergenic_variant\t-\t-\t-\t-\t-\t-\tIMPACT=MODIFIER\r\n",
      "NW_005871228.1_1200485_A/G\tNW_005871228.1:1200485\tG\t-\t-\t-\tintergenic_variant\t-\t-\t-\t-\t-\t-\tIMPACT=MODIFIER\r\n",
      "NW_005871231.1_2444879_G/A\tNW_005871231.1:2444879\tA\t-\t-\t-\tintergenic_variant\t-\t-\t-\t-\t-\t-\tIMPACT=MODIFIER\r\n",
      "NW_005871236.1_1484586_G/A\tNW_005871236.1:1484586\tA\t-\t-\t-\tintergenic_variant\t-\t-\t-\t-\t-\t-\tIMPACT=MODIFIER\r\n",
      "NW_005871243.1_689293_A/C\tNW_005871243.1:689293\tC\t-\t-\t-\tintergenic_variant\t-\t-\t-\t-\t-\t-\tIMPACT=MODIFIER\r\n",
      "NW_005871246.1_1956978_G/A\tNW_005871246.1:1956978\tA\t102429022\tXM_006097355.3\tTranscript\tintron_variant\t-\t-\t-\t-\t-\t-\tIMPACT=MODIFIER;STRAND=-1;SOURCE=ref_Myoluc2.0_top_level_sorted.gff3.gz\r\n",
      "NW_005871249.1_2123897_A/T\tNW_005871249.1:2123897\tT\t102430860\tXM_023761193.1\tTranscript\tintron_variant\t-\t-\t-\t-\t-\t-\tIMPACT=MODIFIER;STRAND=1;SOURCE=ref_Myoluc2.0_top_level_sorted.gff3.gz\r\n",
      "NW_005871249.1_2123897_A/T\tNW_005871249.1:2123897\tT\t102430860\tXM_023761194.1\tTranscript\tintron_variant\t-\t-\t-\t-\t-\t-\tIMPACT=MODIFIER;STRAND=1;SOURCE=ref_Myoluc2.0_top_level_sorted.gff3.gz\r\n",
      "NW_005871250.1_109273_C/T\tNW_005871250.1:109273\tT\t-\t-\t-\tintergenic_variant\t-\t-\t-\t-\t-\t-\tIMPACT=MODIFIER\r\n",
      "NW_005871263.1_1303809_G/A\tNW_005871263.1:1303809\tA\t-\t-\t-\tintergenic_variant\t-\t-\t-\t-\t-\t-\tIMPACT=MODIFIER\r\n",
      "NW_005871279.1_99324_C/G\tNW_005871279.1:99324\tG\t102423914\tXM_023762099.1\tTranscript\tupstream_gene_variant\t-\t-\t-\t-\t-\t-\tIMPACT=MODIFIER;DISTANCE=1892;STRAND=1;SOURCE=ref_Myoluc2.0_top_level_sorted.gff3.gz\r\n",
      "NW_005871289.1_1396110_C/T\tNW_005871289.1:1396110\tT\t-\t-\t-\tintergenic_variant\t-\t-\t-\t-\t-\t-\tIMPACT=MODIFIER\r\n",
      "NW_005871299.1_180278_T/A\tNW_005871299.1:180278\tA\t-\t-\t-\tintergenic_variant\t-\t-\t-\t-\t-\t-\tIMPACT=MODIFIER\r\n",
      "NW_005871310.1_1661413_A/C\tNW_005871310.1:1661413\tC\t102443128\tXM_006099198.2\tTranscript\tupstream_gene_variant\t-\t-\t-\t-\t-\t-\tIMPACT=MODIFIER;DISTANCE=1003;STRAND=-1;SOURCE=ref_Myoluc2.0_top_level_sorted.gff3.gz\r\n",
      "NW_005871310.1_1661413_A/C\tNW_005871310.1:1661413\tC\t102443128\tXM_023762809.1\tTranscript\tintron_variant\t-\t-\t-\t-\t-\t-\tIMPACT=MODIFIER;STRAND=-1;SOURCE=ref_Myoluc2.0_top_level_sorted.gff3.gz\r\n",
      "NW_005871310.1_1661413_A/C\tNW_005871310.1:1661413\tC\t102421410\tXM_023762812.1\tTranscript\t5_prime_UTR_variant\t62\t-\t-\t-\t-\t-\tIMPACT=MODIFIER;STRAND=1;SOURCE=ref_Myoluc2.0_top_level_sorted.gff3.gz\r\n",
      "NW_005871310.1_1661413_A/C\tNW_005871310.1:1661413\tC\t102443128\tXR_002831742.1\tTranscript\tupstream_gene_variant\t-\t-\t-\t-\t-\t-\tIMPACT=MODIFIER;DISTANCE=1002;STRAND=-1;SOURCE=ref_Myoluc2.0_top_level_sorted.gff3.gz\r\n",
      "NW_005871382.1_496908_T/C\tNW_005871382.1:496908\tC\t-\t-\t-\tintergenic_variant\t-\t-\t-\t-\t-\t-\tIMPACT=MODIFIER\r\n",
      "NW_005871402.1_936584_T/C\tNW_005871402.1:936584\tC\t-\t-\t-\tintergenic_variant\t-\t-\t-\t-\t-\t-\tIMPACT=MODIFIER\r\n",
      "NW_005871409.1_735347_A/G\tNW_005871409.1:735347\tG\t-\t-\t-\tintergenic_variant\t-\t-\t-\t-\t-\t-\tIMPACT=MODIFIER\r\n",
      "NW_005871413.1_776142_T/C\tNW_005871413.1:776142\tC\t102417765\tXM_023764929.1\tTranscript\tupstream_gene_variant\t-\t-\t-\t-\t-\t-\tIMPACT=MODIFIER;DISTANCE=1397;STRAND=1;SOURCE=ref_Myoluc2.0_top_level_sorted.gff3.gz\r\n",
      "NW_005871413.1_776142_T/C\tNW_005871413.1:776142\tC\t102417765\tXM_023764930.1\tTranscript\tupstream_gene_variant\t-\t-\t-\t-\t-\t-\tIMPACT=MODIFIER;DISTANCE=1397;STRAND=1;SOURCE=ref_Myoluc2.0_top_level_sorted.gff3.gz\r\n",
      "NW_005871413.1_776142_T/C\tNW_005871413.1:776142\tC\t102417765\tXM_023764931.1\tTranscript\tupstream_gene_variant\t-\t-\t-\t-\t-\t-\tIMPACT=MODIFIER;DISTANCE=1397;STRAND=1;SOURCE=ref_Myoluc2.0_top_level_sorted.gff3.gz\r\n",
      "NW_005871413.1_776142_T/C\tNW_005871413.1:776142\tC\t102417765\tXM_023764933.1\tTranscript\tupstream_gene_variant\t-\t-\t-\t-\t-\t-\tIMPACT=MODIFIER;DISTANCE=1397;STRAND=1;SOURCE=ref_Myoluc2.0_top_level_sorted.gff3.gz\r\n",
      "NW_005871437.1_916661_C/T\tNW_005871437.1:916661\tT\t-\t-\t-\tintergenic_variant\t-\t-\t-\t-\t-\t-\tIMPACT=MODIFIER\r\n",
      "NW_005871447.1_11932_C/T\tNW_005871447.1:11932\tT\t-\t-\t-\tintergenic_variant\t-\t-\t-\t-\t-\t-\tIMPACT=MODIFIER\r\n",
      "NW_005871520.1_60325_G/A\tNW_005871520.1:60325\tA\t-\t-\t-\tintergenic_variant\t-\t-\t-\t-\t-\t-\tIMPACT=MODIFIER\r\n",
      "NW_005871552.1_525210_C/T\tNW_005871552.1:525210\tT\t102420083\tXM_006103752.3\tTranscript\tintron_variant\t-\t-\t-\t-\t-\t-\tIMPACT=MODIFIER;STRAND=-1;SOURCE=ref_Myoluc2.0_top_level_sorted.gff3.gz\r\n",
      "NW_005871552.1_525210_C/T\tNW_005871552.1:525210\tT\t102420083\tXM_023744977.1\tTranscript\tintron_variant\t-\t-\t-\t-\t-\t-\tIMPACT=MODIFIER;STRAND=-1;SOURCE=ref_Myoluc2.0_top_level_sorted.gff3.gz\r\n",
      "NW_005871552.1_326498_A/G\tNW_005871552.1:326498\tG\t102419356\tXM_014446123.2\tTranscript\tintron_variant\t-\t-\t-\t-\t-\t-\tIMPACT=MODIFIER;STRAND=-1;SOURCE=ref_Myoluc2.0_top_level_sorted.gff3.gz\r\n",
      "NW_005871552.1_326498_A/G\tNW_005871552.1:326498\tG\t102419356\tXM_023744978.1\tTranscript\tintron_variant\t-\t-\t-\t-\t-\t-\tIMPACT=MODIFIER;STRAND=-1;SOURCE=ref_Myoluc2.0_top_level_sorted.gff3.gz\r\n",
      "NW_005871552.1_326498_A/G\tNW_005871552.1:326498\tG\t102419356\tXM_023744979.1\tTranscript\tintron_variant\t-\t-\t-\t-\t-\t-\tIMPACT=MODIFIER;STRAND=-1;SOURCE=ref_Myoluc2.0_top_level_sorted.gff3.gz\r\n",
      "NW_005871552.1_326498_A/G\tNW_005871552.1:326498\tG\t102419356\tXM_023744980.1\tTranscript\tintron_variant\t-\t-\t-\t-\t-\t-\tIMPACT=MODIFIER;STRAND=-1;SOURCE=ref_Myoluc2.0_top_level_sorted.gff3.gz\r\n",
      "NW_005871552.1_326498_A/G\tNW_005871552.1:326498\tG\t102419356\tXM_023744981.1\tTranscript\tintron_variant\t-\t-\t-\t-\t-\t-\tIMPACT=MODIFIER;STRAND=-1;SOURCE=ref_Myoluc2.0_top_level_sorted.gff3.gz\r\n",
      "NW_005871552.1_326498_A/G\tNW_005871552.1:326498\tG\t102419356\tXM_023744982.1\tTranscript\tintron_variant\t-\t-\t-\t-\t-\t-\tIMPACT=MODIFIER;STRAND=-1;SOURCE=ref_Myoluc2.0_top_level_sorted.gff3.gz\r\n",
      "NW_005871552.1_326498_A/G\tNW_005871552.1:326498\tG\t102419356\tXM_023744983.1\tTranscript\tintron_variant\t-\t-\t-\t-\t-\t-\tIMPACT=MODIFIER;STRAND=-1;SOURCE=ref_Myoluc2.0_top_level_sorted.gff3.gz\r\n",
      "NW_005871552.1_326498_A/G\tNW_005871552.1:326498\tG\t102419356\tXR_002826495.1\tTranscript\tintron_variant,non_coding_transcript_variant\t-\t-\t-\t-\t-\t-\tIMPACT=MODIFIER;STRAND=-1;SOURCE=ref_Myoluc2.0_top_level_sorted.gff3.gz\r\n",
      "NW_005871560.1_607165_G/A\tNW_005871560.1:607165\tA\t-\t-\t-\tintergenic_variant\t-\t-\t-\t-\t-\t-\tIMPACT=MODIFIER\r\n",
      "NW_005871562.1_514067_T/C\tNW_005871562.1:514067\tC\t-\t-\t-\tintergenic_variant\t-\t-\t-\t-\t-\t-\tIMPACT=MODIFIER\r\n",
      "NW_005871619.1_350547_T/C\tNW_005871619.1:350547\tC\t102427816\tXM_023745698.1\tTranscript\tintron_variant\t-\t-\t-\t-\t-\t-\tIMPACT=MODIFIER;STRAND=1;SOURCE=ref_Myoluc2.0_top_level_sorted.gff3.gz\r\n",
      "NW_005871665.1_252240_A/G\tNW_005871665.1:252240\tG\t102417249\tXM_006104881.3\tTranscript\tdownstream_gene_variant\t-\t-\t-\t-\t-\t-\tIMPACT=MODIFIER;DISTANCE=2492;STRAND=-1;SOURCE=ref_Myoluc2.0_top_level_sorted.gff3.gz\r\n",
      "NW_005871665.1_252240_A/G\tNW_005871665.1:252240\tG\t102422540\tXM_023746020.1\tTranscript\tupstream_gene_variant\t-\t-\t-\t-\t-\t-\tIMPACT=MODIFIER;DISTANCE=475;STRAND=-1;SOURCE=ref_Myoluc2.0_top_level_sorted.gff3.gz\r\n",
      "NW_005871701.1_180654_A/G\tNW_005871701.1:180654\tG\t-\t-\t-\tintergenic_variant\t-\t-\t-\t-\t-\t-\tIMPACT=MODIFIER\r\n",
      "NW_005871763.1_173352_C/T\tNW_005871763.1:173352\tT\t-\t-\t-\tintergenic_variant\t-\t-\t-\t-\t-\t-\tIMPACT=MODIFIER\r\n",
      "NW_005871967.1_91034_C/T\tNW_005871967.1:91034\tT\t-\t-\t-\tintergenic_variant\t-\t-\t-\t-\t-\t-\tIMPACT=MODIFIER\r\n",
      "NW_005871977.1_55439_A/T\tNW_005871977.1:55439\tT\t-\t-\t-\tintergenic_variant\t-\t-\t-\t-\t-\t-\tIMPACT=MODIFIER\r\n",
      "NW_005872028.1_9663_C/T\tNW_005872028.1:9663\tT\t102417583\tXM_023747793.1\tTranscript\tintron_variant\t-\t-\t-\t-\t-\t-\tIMPACT=MODIFIER;STRAND=-1;SOURCE=ref_Myoluc2.0_top_level_sorted.gff3.gz\r\n",
      "NW_005872028.1_9663_C/T\tNW_005872028.1:9663\tT\t102417583\tXM_023747795.1\tTranscript\tintron_variant\t-\t-\t-\t-\t-\t-\tIMPACT=MODIFIER;STRAND=-1;SOURCE=ref_Myoluc2.0_top_level_sorted.gff3.gz\r\n",
      "NW_005872120.1_44020_A/G\tNW_005872120.1:44020\tG\t-\t-\t-\tintergenic_variant\t-\t-\t-\t-\t-\t-\tIMPACT=MODIFIER\r\n",
      "NW_005872156.1_25568_C/T\tNW_005872156.1:25568\tT\t-\t-\t-\tintergenic_variant\t-\t-\t-\t-\t-\t-\tIMPACT=MODIFIER\r\n"
     ]
    }
   ],
   "source": [
    "!tail -n 80 /local/home/sarahgw/WGS/SNPS/All_mylu/snps/outputVEP2"
   ]
  },
  {
   "cell_type": "code",
   "execution_count": null,
   "metadata": {
    "collapsed": true
   },
   "outputs": [],
   "source": []
  },
  {
   "cell_type": "code",
   "execution_count": null,
   "metadata": {
    "collapsed": true
   },
   "outputs": [],
   "source": []
  }
 ],
 "metadata": {
  "kernelspec": {
   "display_name": "Python 2",
   "language": "python",
   "name": "python2"
  },
  "language_info": {
   "codemirror_mode": {
    "name": "ipython",
    "version": 2
   },
   "file_extension": ".py",
   "mimetype": "text/x-python",
   "name": "python",
   "nbconvert_exporter": "python",
   "pygments_lexer": "ipython2",
   "version": "2.7.13"
  }
 },
 "nbformat": 4,
 "nbformat_minor": 2
}
