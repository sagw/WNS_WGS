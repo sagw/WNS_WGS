{
 "cells": [
  {
   "cell_type": "code",
   "execution_count": 2,
   "metadata": {},
   "outputs": [
    {
     "name": "stderr",
     "output_type": "stream",
     "text": [
      "Loading required package: data.table\n"
     ]
    }
   ],
   "source": [
    "setwd (\"~/WGS/Sequences/Metrics/\")\n",
    "require(data.table)\n",
    "require(plyr)\n",
    "require(ggplot2)"
   ]
  },
  {
   "cell_type": "code",
   "execution_count": 3,
   "metadata": {},
   "outputs": [
    {
     "name": "stdout",
     "output_type": "stream",
     "text": [
      "\r",
      "Read 32.6% of 2948714 rows\r",
      "Read 87.2% of 2948714 rows\r",
      "Read 2948714 rows and 6 (of 6) columns from 0.115 GB file in 00:00:04\n"
     ]
    }
   ],
   "source": [
    "cov=fread(\"Coverage_Pool2.txt\")"
   ]
  },
  {
   "cell_type": "code",
   "execution_count": 4,
   "metadata": {
    "collapsed": true
   },
   "outputs": [],
   "source": [
    "colnames(cov)=c(\"Scaffold\", \"depth\", \"NumBp\", \"BpTotal\", \"Percent\", \"Sample\")"
   ]
  },
  {
   "cell_type": "code",
   "execution_count": 5,
   "metadata": {
    "collapsed": true
   },
   "outputs": [],
   "source": [
    "cov$percentage=(as.numeric(as.character(cov$Percent)))*100"
   ]
  },
  {
   "cell_type": "code",
   "execution_count": 5,
   "metadata": {
    "collapsed": true
   },
   "outputs": [],
   "source": [
    "zero=cov[cov$depth==0,]"
   ]
  },
  {
   "cell_type": "code",
   "execution_count": 6,
   "metadata": {
    "collapsed": true
   },
   "outputs": [],
   "source": [
    "zero$Percentage=NULL\n",
    "zero$Percent=NULL\n",
    "zero$depth=NULL"
   ]
  },
  {
   "cell_type": "code",
   "execution_count": 8,
   "metadata": {
    "collapsed": true
   },
   "outputs": [],
   "source": [
    "zero$NumBp=as.numeric(as.character(zero$NumBp))"
   ]
  },
  {
   "cell_type": "code",
   "execution_count": 9,
   "metadata": {
    "collapsed": true
   },
   "outputs": [],
   "source": [
    "zero$BpTotal=as.numeric(as.character(zero$BpTotal))"
   ]
  },
  {
   "cell_type": "code",
   "execution_count": 10,
   "metadata": {
    "collapsed": true
   },
   "outputs": [],
   "source": [
    "zerosum=ddply(zero, \"Sample\", numcolwise(sum))"
   ]
  },
  {
   "cell_type": "code",
   "execution_count": 11,
   "metadata": {
    "collapsed": true
   },
   "outputs": [],
   "source": [
    "zerosum$percentage=(1-(zerosum$NumBp/zerosum$BpTotal))*100"
   ]
  },
  {
   "cell_type": "code",
   "execution_count": 13,
   "metadata": {
    "collapsed": true
   },
   "outputs": [],
   "source": [
    "plot=ggplot(data=zerosum, aes(x=Sample, y=percentage))+\n",
    "  geom_bar(data=zerosum, stat=\"identity\")+\n",
    "  theme_bw()+ylab(\"Percent >= 1x coverage\")+\n",
    "  theme(axis.text.x = element_text(angle = 90, hjust = 1))"
   ]
  },
  {
   "cell_type": "code",
   "execution_count": 14,
   "metadata": {},
   "outputs": [
    {
     "data": {},
     "metadata": {},
     "output_type": "display_data"
    },
    {
     "data": {
      "image/png": "[encoded data removed]",
      "text/plain": [
       "plot without title"
      ]
     },
     "metadata": {},
     "output_type": "display_data"
    }
   ],
   "source": [
    "plot"
   ]
  },
  {
   "cell_type": "code",
   "execution_count": 6,
   "metadata": {
    "collapsed": true
   },
   "outputs": [],
   "source": [
    "AA=cov[cov$Scaffold==\"AAPE02072785\",]"
   ]
  },
  {
   "cell_type": "code",
   "execution_count": 11,
   "metadata": {
    "collapsed": true
   },
   "outputs": [],
   "source": [
    "AAhigh=AA[AA$depth>2 & AA$Percent>0.02,]"
   ]
  },
  {
   "cell_type": "code",
   "execution_count": 12,
   "metadata": {},
   "outputs": [
    {
     "data": {
      "text/html": [
       "<table>\n",
       "<thead><tr><th scope=col>Scaffold</th><th scope=col>depth</th><th scope=col>NumBp</th><th scope=col>BpTotal</th><th scope=col>Percent</th><th scope=col>Sample</th><th scope=col>percentage</th></tr></thead>\n",
       "<tbody>\n",
       "\t<tr><td>AAPE02072785</td><td>29          </td><td> 450        </td><td>21014       </td><td>0.0214143   </td><td>NY_U_01     </td><td>2.14143     </td></tr>\n",
       "\t<tr><td>AAPE02072785</td><td>31          </td><td> 433        </td><td>21014       </td><td>0.0206053   </td><td>NY_U_01     </td><td>2.06053     </td></tr>\n",
       "\t<tr><td>AAPE02072785</td><td>32          </td><td> 438        </td><td>21014       </td><td>0.0208432   </td><td>NY_U_01     </td><td>2.08432     </td></tr>\n",
       "\t<tr><td>AAPE02072785</td><td>34          </td><td> 479        </td><td>21014       </td><td>0.0227943   </td><td>NY_U_01     </td><td>2.27943     </td></tr>\n",
       "\t<tr><td>AAPE02072785</td><td>35          </td><td> 577        </td><td>21014       </td><td>0.0274579   </td><td>NY_U_01     </td><td>2.74579     </td></tr>\n",
       "\t<tr><td>AAPE02072785</td><td>36          </td><td> 583        </td><td>21014       </td><td>0.0277434   </td><td>NY_U_01     </td><td>2.77434     </td></tr>\n",
       "\t<tr><td>AAPE02072785</td><td>37          </td><td> 462        </td><td>21014       </td><td>0.0219853   </td><td>NY_U_01     </td><td>2.19853     </td></tr>\n",
       "\t<tr><td>AAPE02072785</td><td>38          </td><td> 455        </td><td>21014       </td><td>0.0216522   </td><td>NY_U_01     </td><td>2.16522     </td></tr>\n",
       "\t<tr><td>AAPE02072785</td><td>39          </td><td> 549        </td><td>21014       </td><td>0.0261254   </td><td>NY_U_01     </td><td>2.61254     </td></tr>\n",
       "\t<tr><td>AAPE02072785</td><td>40          </td><td> 542        </td><td>21014       </td><td>0.0257923   </td><td>NY_U_01     </td><td>2.57923     </td></tr>\n",
       "\t<tr><td>AAPE02072785</td><td>48          </td><td> 430        </td><td>21014       </td><td>0.0204625   </td><td>NY_U_06     </td><td>2.04625     </td></tr>\n",
       "\t<tr><td>AAPE02072785</td><td>51          </td><td> 436        </td><td>21014       </td><td>0.0207481   </td><td>NY_U_06     </td><td>2.07481     </td></tr>\n",
       "\t<tr><td>AAPE02072785</td><td> 3          </td><td>2006        </td><td>21014       </td><td>0.0954602   </td><td>NY_U_08     </td><td>9.54602     </td></tr>\n",
       "\t<tr><td>AAPE02072785</td><td> 4          </td><td>1825        </td><td>21014       </td><td>0.0868469   </td><td>NY_U_08     </td><td>8.68469     </td></tr>\n",
       "\t<tr><td>AAPE02072785</td><td> 5          </td><td>1860        </td><td>21014       </td><td>0.0885124   </td><td>NY_U_08     </td><td>8.85124     </td></tr>\n",
       "\t<tr><td>AAPE02072785</td><td> 6          </td><td>1594        </td><td>21014       </td><td>0.0758542   </td><td>NY_U_08     </td><td>7.58542     </td></tr>\n",
       "\t<tr><td>AAPE02072785</td><td> 7          </td><td>1240        </td><td>21014       </td><td>0.0590083   </td><td>NY_U_08     </td><td>5.90083     </td></tr>\n",
       "\t<tr><td>AAPE02072785</td><td> 8          </td><td>1069        </td><td>21014       </td><td>0.0508708   </td><td>NY_U_08     </td><td>5.08708     </td></tr>\n",
       "\t<tr><td>AAPE02072785</td><td> 9          </td><td> 919        </td><td>21014       </td><td>0.0437328   </td><td>NY_U_08     </td><td>4.37328     </td></tr>\n",
       "\t<tr><td>AAPE02072785</td><td> 3          </td><td> 641        </td><td>21014       </td><td>0.0305035   </td><td>VT_E_02     </td><td>3.05035     </td></tr>\n",
       "</tbody>\n",
       "</table>\n"
      ],
      "text/latex": [
       "\\begin{tabular}{r|lllllll}\n",
       " Scaffold & depth & NumBp & BpTotal & Percent & Sample & percentage\\\\\n",
       "\\hline\n",
       "\t AAPE02072785 & 29           &  450         & 21014        & 0.0214143    & NY\\_U\\_01  & 2.14143     \\\\\n",
       "\t AAPE02072785 & 31           &  433         & 21014        & 0.0206053    & NY\\_U\\_01  & 2.06053     \\\\\n",
       "\t AAPE02072785 & 32           &  438         & 21014        & 0.0208432    & NY\\_U\\_01  & 2.08432     \\\\\n",
       "\t AAPE02072785 & 34           &  479         & 21014        & 0.0227943    & NY\\_U\\_01  & 2.27943     \\\\\n",
       "\t AAPE02072785 & 35           &  577         & 21014        & 0.0274579    & NY\\_U\\_01  & 2.74579     \\\\\n",
       "\t AAPE02072785 & 36           &  583         & 21014        & 0.0277434    & NY\\_U\\_01  & 2.77434     \\\\\n",
       "\t AAPE02072785 & 37           &  462         & 21014        & 0.0219853    & NY\\_U\\_01  & 2.19853     \\\\\n",
       "\t AAPE02072785 & 38           &  455         & 21014        & 0.0216522    & NY\\_U\\_01  & 2.16522     \\\\\n",
       "\t AAPE02072785 & 39           &  549         & 21014        & 0.0261254    & NY\\_U\\_01  & 2.61254     \\\\\n",
       "\t AAPE02072785 & 40           &  542         & 21014        & 0.0257923    & NY\\_U\\_01  & 2.57923     \\\\\n",
       "\t AAPE02072785 & 48           &  430         & 21014        & 0.0204625    & NY\\_U\\_06  & 2.04625     \\\\\n",
       "\t AAPE02072785 & 51           &  436         & 21014        & 0.0207481    & NY\\_U\\_06  & 2.07481     \\\\\n",
       "\t AAPE02072785 &  3           & 2006         & 21014        & 0.0954602    & NY\\_U\\_08  & 9.54602     \\\\\n",
       "\t AAPE02072785 &  4           & 1825         & 21014        & 0.0868469    & NY\\_U\\_08  & 8.68469     \\\\\n",
       "\t AAPE02072785 &  5           & 1860         & 21014        & 0.0885124    & NY\\_U\\_08  & 8.85124     \\\\\n",
       "\t AAPE02072785 &  6           & 1594         & 21014        & 0.0758542    & NY\\_U\\_08  & 7.58542     \\\\\n",
       "\t AAPE02072785 &  7           & 1240         & 21014        & 0.0590083    & NY\\_U\\_08  & 5.90083     \\\\\n",
       "\t AAPE02072785 &  8           & 1069         & 21014        & 0.0508708    & NY\\_U\\_08  & 5.08708     \\\\\n",
       "\t AAPE02072785 &  9           &  919         & 21014        & 0.0437328    & NY\\_U\\_08  & 4.37328     \\\\\n",
       "\t AAPE02072785 &  3           &  641         & 21014        & 0.0305035    & VT\\_E\\_02  & 3.05035     \\\\\n",
       "\\end{tabular}\n"
      ],
      "text/markdown": [
       "\n",
       "Scaffold | depth | NumBp | BpTotal | Percent | Sample | percentage | \n",
       "|---|---|---|---|---|---|---|---|---|---|---|---|---|---|---|---|---|---|---|---|\n",
       "| AAPE02072785 | 29           |  450         | 21014        | 0.0214143    | NY_U_01      | 2.14143      | \n",
       "| AAPE02072785 | 31           |  433         | 21014        | 0.0206053    | NY_U_01      | 2.06053      | \n",
       "| AAPE02072785 | 32           |  438         | 21014        | 0.0208432    | NY_U_01      | 2.08432      | \n",
       "| AAPE02072785 | 34           |  479         | 21014        | 0.0227943    | NY_U_01      | 2.27943      | \n",
       "| AAPE02072785 | 35           |  577         | 21014        | 0.0274579    | NY_U_01      | 2.74579      | \n",
       "| AAPE02072785 | 36           |  583         | 21014        | 0.0277434    | NY_U_01      | 2.77434      | \n",
       "| AAPE02072785 | 37           |  462         | 21014        | 0.0219853    | NY_U_01      | 2.19853      | \n",
       "| AAPE02072785 | 38           |  455         | 21014        | 0.0216522    | NY_U_01      | 2.16522      | \n",
       "| AAPE02072785 | 39           |  549         | 21014        | 0.0261254    | NY_U_01      | 2.61254      | \n",
       "| AAPE02072785 | 40           |  542         | 21014        | 0.0257923    | NY_U_01      | 2.57923      | \n",
       "| AAPE02072785 | 48           |  430         | 21014        | 0.0204625    | NY_U_06      | 2.04625      | \n",
       "| AAPE02072785 | 51           |  436         | 21014        | 0.0207481    | NY_U_06      | 2.07481      | \n",
       "| AAPE02072785 |  3           | 2006         | 21014        | 0.0954602    | NY_U_08      | 9.54602      | \n",
       "| AAPE02072785 |  4           | 1825         | 21014        | 0.0868469    | NY_U_08      | 8.68469      | \n",
       "| AAPE02072785 |  5           | 1860         | 21014        | 0.0885124    | NY_U_08      | 8.85124      | \n",
       "| AAPE02072785 |  6           | 1594         | 21014        | 0.0758542    | NY_U_08      | 7.58542      | \n",
       "| AAPE02072785 |  7           | 1240         | 21014        | 0.0590083    | NY_U_08      | 5.90083      | \n",
       "| AAPE02072785 |  8           | 1069         | 21014        | 0.0508708    | NY_U_08      | 5.08708      | \n",
       "| AAPE02072785 |  9           |  919         | 21014        | 0.0437328    | NY_U_08      | 4.37328      | \n",
       "| AAPE02072785 |  3           |  641         | 21014        | 0.0305035    | VT_E_02      | 3.05035      | \n",
       "\n",
       "\n"
      ],
      "text/plain": [
       "   Scaffold     depth NumBp BpTotal Percent   Sample  percentage\n",
       "1  AAPE02072785 29     450  21014   0.0214143 NY_U_01 2.14143   \n",
       "2  AAPE02072785 31     433  21014   0.0206053 NY_U_01 2.06053   \n",
       "3  AAPE02072785 32     438  21014   0.0208432 NY_U_01 2.08432   \n",
       "4  AAPE02072785 34     479  21014   0.0227943 NY_U_01 2.27943   \n",
       "5  AAPE02072785 35     577  21014   0.0274579 NY_U_01 2.74579   \n",
       "6  AAPE02072785 36     583  21014   0.0277434 NY_U_01 2.77434   \n",
       "7  AAPE02072785 37     462  21014   0.0219853 NY_U_01 2.19853   \n",
       "8  AAPE02072785 38     455  21014   0.0216522 NY_U_01 2.16522   \n",
       "9  AAPE02072785 39     549  21014   0.0261254 NY_U_01 2.61254   \n",
       "10 AAPE02072785 40     542  21014   0.0257923 NY_U_01 2.57923   \n",
       "11 AAPE02072785 48     430  21014   0.0204625 NY_U_06 2.04625   \n",
       "12 AAPE02072785 51     436  21014   0.0207481 NY_U_06 2.07481   \n",
       "13 AAPE02072785  3    2006  21014   0.0954602 NY_U_08 9.54602   \n",
       "14 AAPE02072785  4    1825  21014   0.0868469 NY_U_08 8.68469   \n",
       "15 AAPE02072785  5    1860  21014   0.0885124 NY_U_08 8.85124   \n",
       "16 AAPE02072785  6    1594  21014   0.0758542 NY_U_08 7.58542   \n",
       "17 AAPE02072785  7    1240  21014   0.0590083 NY_U_08 5.90083   \n",
       "18 AAPE02072785  8    1069  21014   0.0508708 NY_U_08 5.08708   \n",
       "19 AAPE02072785  9     919  21014   0.0437328 NY_U_08 4.37328   \n",
       "20 AAPE02072785  3     641  21014   0.0305035 VT_E_02 3.05035   "
      ]
     },
     "metadata": {},
     "output_type": "display_data"
    }
   ],
   "source": [
    "AAhigh"
   ]
  },
  {
   "cell_type": "code",
   "execution_count": null,
   "metadata": {
    "collapsed": true
   },
   "outputs": [],
   "source": []
  }
 ],
 "metadata": {
  "anaconda-cloud": {},
  "kernelspec": {
   "display_name": "R",
   "language": "R",
   "name": "ir"
  },
  "language_info": {
   "codemirror_mode": "r",
   "file_extension": ".r",
   "mimetype": "text/x-r-source",
   "name": "R",
   "pygments_lexer": "r",
   "version": "3.4.1"
  }
 },
 "nbformat": 4,
 "nbformat_minor": 1
}
