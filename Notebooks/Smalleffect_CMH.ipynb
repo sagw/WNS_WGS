{
 "cells": [
  {
   "cell_type": "code",
   "execution_count": 8,
   "metadata": {},
   "outputs": [],
   "source": [
    "require(ACER)\n",
    "require(data.table)\n",
    "require(poolSeq)"
   ]
  },
  {
   "cell_type": "code",
   "execution_count": 9,
   "metadata": {
    "collapsed": true
   },
   "outputs": [],
   "source": [
    "setwd(\"/data/sarahgw/WGS/SNPS/All_mylu/\")\n"
   ]
  },
  {
   "cell_type": "code",
   "execution_count": 10,
   "metadata": {},
   "outputs": [
    {
     "name": "stdout",
     "output_type": "stream",
     "text": [
      "Read 44829666 rows and 8 (of 8) columns from 2.119 GB file in 00:00:40\n",
      "Read 44829666 rows and 8 (of 8) columns from 2.108 GB file in 00:00:42\n",
      "Read 44829666 rows and 8 (of 8) columns from 2.112 GB file in 00:00:38\n",
      "Read 44829616 rows and 8 (of 8) columns from 2.113 GB file in 00:00:42\n"
     ]
    }
   ],
   "source": [
    "nje=fread(\"mafs/NJ_E_filt1.mafs\", header=FALSE)\n",
    "nju=fread(\"mafs/NJ_U_filt1.mafs\", header=FALSE)\n",
    "nye=fread(\"mafs/NY_E_filt1.mafs\", header=FALSE)\n",
    "nyout=fread(\"mafs/NY_U_noOut_filt.mafs\")"
   ]
  },
  {
   "cell_type": "code",
   "execution_count": 13,
   "metadata": {
    "collapsed": true
   },
   "outputs": [],
   "source": [
    "colnames(nje)=c(\"Scaffold\", \"Position\", \"Major\", \"Minor\", \"Maf1_E\", \"Maf2_NJE\", \"Maf3_E\", \"nInd_NJE\")\n",
    "colnames(nju)=c(\"Scaffold\", \"Position\", \"Major\", \"Minor\", \"Maf1_U\", \"Maf2_NJU\", \"Maf3_U\", \"nInd_NJU\")\n",
    "colnames(nye)=c(\"Scaffold\", \"Position\", \"Major\", \"Minor\", \"Maf1_E\", \"Maf2_NYE\", \"Maf3_E\", \"nInd_NYE\")\n",
    "colnames(nyout)=c(\"Scaffold\", \"Position\", \"Major\", \"Minor\", \"Maf1_E\", \"Maf2_NYU\", \"Maf3_E\", \"nInd_NYU\")"
   ]
  },
  {
   "cell_type": "code",
   "execution_count": 19,
   "metadata": {},
   "outputs": [
    {
     "data": {
      "text/html": [
       "44829666"
      ],
      "text/latex": [
       "44829666"
      ],
      "text/markdown": [
       "44829666"
      ],
      "text/plain": [
       "[1] 44829666"
      ]
     },
     "metadata": {},
     "output_type": "display_data"
    },
    {
     "data": {
      "text/html": [
       "44829666"
      ],
      "text/latex": [
       "44829666"
      ],
      "text/markdown": [
       "44829666"
      ],
      "text/plain": [
       "[1] 44829666"
      ]
     },
     "metadata": {},
     "output_type": "display_data"
    },
    {
     "data": {
      "text/html": [
       "44829666"
      ],
      "text/latex": [
       "44829666"
      ],
      "text/markdown": [
       "44829666"
      ],
      "text/plain": [
       "[1] 44829666"
      ]
     },
     "metadata": {},
     "output_type": "display_data"
    },
    {
     "data": {
      "text/html": [
       "44829616"
      ],
      "text/latex": [
       "44829616"
      ],
      "text/markdown": [
       "44829616"
      ],
      "text/plain": [
       "[1] 44829616"
      ]
     },
     "metadata": {},
     "output_type": "display_data"
    }
   ],
   "source": [
    "nrow(nje)\n",
    "nrow(nju)\n",
    "nrow(nye)\n",
    "nrow(nyout)"
   ]
  },
  {
   "cell_type": "code",
   "execution_count": 20,
   "metadata": {
    "collapsed": true
   },
   "outputs": [],
   "source": [
    "njeu=merge(nje, nju, by=c(\"Scaffold\", \"Position\"))\n",
    "nyeu=merge(nye, nyout, by=c(\"Scaffold\", \"Position\"))"
   ]
  },
  {
   "cell_type": "code",
   "execution_count": 21,
   "metadata": {
    "collapsed": true
   },
   "outputs": [],
   "source": [
    "All=merge(njeu, nyeu, by=c(\"Scaffold\", \"Position\"))"
   ]
  },
  {
   "cell_type": "code",
   "execution_count": 22,
   "metadata": {
    "scrolled": false
   },
   "outputs": [
    {
     "data": {
      "text/html": [
       "<table>\n",
       "<thead><tr><th scope=col>Scaffold</th><th scope=col>Position</th><th scope=col>Major.x.x</th><th scope=col>Minor.x.x</th><th scope=col>Maf1_E</th><th scope=col>Maf2_NJE</th><th scope=col>Maf3_E</th><th scope=col>nInd_NJE</th><th scope=col>Major.y.x</th><th scope=col>Minor.y.x</th><th scope=col>⋯</th><th scope=col>Maf1_E.x</th><th scope=col>Maf2_NYE</th><th scope=col>Maf3_E.x</th><th scope=col>nInd_NYE</th><th scope=col>Major.y.y</th><th scope=col>Minor.y.y</th><th scope=col>Maf1_E.y</th><th scope=col>Maf2_NYU</th><th scope=col>Maf3_E.y</th><th scope=col>nInd_NYU</th></tr></thead>\n",
       "<tbody>\n",
       "\t<tr><td>AAPE02055386</td><td>57060       </td><td>T           </td><td>C           </td><td>0.000000    </td><td>0.000005    </td><td>0.000000    </td><td>12          </td><td>T           </td><td>C           </td><td>⋯           </td><td>0.000000    </td><td>0.000006    </td><td>0.000000    </td><td>11          </td><td>T           </td><td>C           </td><td>0.000000    </td><td>0.000004    </td><td>0.000000    </td><td>11          </td></tr>\n",
       "\t<tr><td>AAPE02055386</td><td>67758       </td><td>C           </td><td>T           </td><td>0.067869    </td><td>0.022733    </td><td>0.037396    </td><td>10          </td><td>C           </td><td>T           </td><td>⋯           </td><td>0.000000    </td><td>0.000003    </td><td>0.000000    </td><td>10          </td><td>C           </td><td>T           </td><td>0.050943    </td><td>0.050939    </td><td>0.070570    </td><td>17          </td></tr>\n",
       "\t<tr><td>AAPE02055386</td><td>67765       </td><td>C           </td><td>T           </td><td>0.000000    </td><td>0.000003    </td><td>0.000000    </td><td>11          </td><td>C           </td><td>T           </td><td>⋯           </td><td>0.000000    </td><td>0.000004    </td><td>0.000000    </td><td>11          </td><td>C           </td><td>T           </td><td>0.044411    </td><td>0.043807    </td><td>0.047482    </td><td>17          </td></tr>\n",
       "\t<tr><td>AAPE02055386</td><td>67766       </td><td>G           </td><td>A           </td><td>0.062912    </td><td>0.020990    </td><td>0.038813    </td><td>11          </td><td>G           </td><td>A           </td><td>⋯           </td><td>0.000000    </td><td>0.000003    </td><td>0.000000    </td><td>10          </td><td>G           </td><td>A           </td><td>0.043565    </td><td>0.014793    </td><td>0.046712    </td><td>17          </td></tr>\n",
       "\t<tr><td>AAPE02055386</td><td>67785       </td><td>G           </td><td>A           </td><td>0.000000    </td><td>0.000002    </td><td>0.000000    </td><td>11          </td><td>G           </td><td>A           </td><td>⋯           </td><td>0.000000    </td><td>0.000004    </td><td>0.000000    </td><td>11          </td><td>G           </td><td>A           </td><td>0.000000    </td><td>0.000005    </td><td>0.000000    </td><td>16          </td></tr>\n",
       "\t<tr><td>AAPE02055386</td><td>67795       </td><td>C           </td><td>T           </td><td>0.255406    </td><td>0.255405    </td><td>0.262683    </td><td>12          </td><td>C           </td><td>T           </td><td>⋯           </td><td>0.205502    </td><td>0.205351    </td><td>0.204537    </td><td>11          </td><td>C           </td><td>T           </td><td>0.226039    </td><td>0.226041    </td><td>0.234251    </td><td>16          </td></tr>\n",
       "</tbody>\n",
       "</table>\n"
      ],
      "text/latex": [
       "\\begin{tabular}{r|llllllllllllllllllllllllll}\n",
       " Scaffold & Position & Major.x.x & Minor.x.x & Maf1\\_E & Maf2\\_NJE & Maf3\\_E & nInd\\_NJE & Major.y.x & Minor.y.x & ⋯ & Maf1\\_E.x & Maf2\\_NYE & Maf3\\_E.x & nInd\\_NYE & Major.y.y & Minor.y.y & Maf1\\_E.y & Maf2\\_NYU & Maf3\\_E.y & nInd\\_NYU\\\\\n",
       "\\hline\n",
       "\t AAPE02055386 & 57060        & T            & C            & 0.000000     & 0.000005     & 0.000000     & 12           & T            & C            & ⋯            & 0.000000     & 0.000006     & 0.000000     & 11           & T            & C            & 0.000000     & 0.000004     & 0.000000     & 11          \\\\\n",
       "\t AAPE02055386 & 67758        & C            & T            & 0.067869     & 0.022733     & 0.037396     & 10           & C            & T            & ⋯            & 0.000000     & 0.000003     & 0.000000     & 10           & C            & T            & 0.050943     & 0.050939     & 0.070570     & 17          \\\\\n",
       "\t AAPE02055386 & 67765        & C            & T            & 0.000000     & 0.000003     & 0.000000     & 11           & C            & T            & ⋯            & 0.000000     & 0.000004     & 0.000000     & 11           & C            & T            & 0.044411     & 0.043807     & 0.047482     & 17          \\\\\n",
       "\t AAPE02055386 & 67766        & G            & A            & 0.062912     & 0.020990     & 0.038813     & 11           & G            & A            & ⋯            & 0.000000     & 0.000003     & 0.000000     & 10           & G            & A            & 0.043565     & 0.014793     & 0.046712     & 17          \\\\\n",
       "\t AAPE02055386 & 67785        & G            & A            & 0.000000     & 0.000002     & 0.000000     & 11           & G            & A            & ⋯            & 0.000000     & 0.000004     & 0.000000     & 11           & G            & A            & 0.000000     & 0.000005     & 0.000000     & 16          \\\\\n",
       "\t AAPE02055386 & 67795        & C            & T            & 0.255406     & 0.255405     & 0.262683     & 12           & C            & T            & ⋯            & 0.205502     & 0.205351     & 0.204537     & 11           & C            & T            & 0.226039     & 0.226041     & 0.234251     & 16          \\\\\n",
       "\\end{tabular}\n"
      ],
      "text/markdown": [
       "\n",
       "Scaffold | Position | Major.x.x | Minor.x.x | Maf1_E | Maf2_NJE | Maf3_E | nInd_NJE | Major.y.x | Minor.y.x | ⋯ | Maf1_E.x | Maf2_NYE | Maf3_E.x | nInd_NYE | Major.y.y | Minor.y.y | Maf1_E.y | Maf2_NYU | Maf3_E.y | nInd_NYU | \n",
       "|---|---|---|---|---|---|\n",
       "| AAPE02055386 | 57060        | T            | C            | 0.000000     | 0.000005     | 0.000000     | 12           | T            | C            | ⋯            | 0.000000     | 0.000006     | 0.000000     | 11           | T            | C            | 0.000000     | 0.000004     | 0.000000     | 11           | \n",
       "| AAPE02055386 | 67758        | C            | T            | 0.067869     | 0.022733     | 0.037396     | 10           | C            | T            | ⋯            | 0.000000     | 0.000003     | 0.000000     | 10           | C            | T            | 0.050943     | 0.050939     | 0.070570     | 17           | \n",
       "| AAPE02055386 | 67765        | C            | T            | 0.000000     | 0.000003     | 0.000000     | 11           | C            | T            | ⋯            | 0.000000     | 0.000004     | 0.000000     | 11           | C            | T            | 0.044411     | 0.043807     | 0.047482     | 17           | \n",
       "| AAPE02055386 | 67766        | G            | A            | 0.062912     | 0.020990     | 0.038813     | 11           | G            | A            | ⋯            | 0.000000     | 0.000003     | 0.000000     | 10           | G            | A            | 0.043565     | 0.014793     | 0.046712     | 17           | \n",
       "| AAPE02055386 | 67785        | G            | A            | 0.000000     | 0.000002     | 0.000000     | 11           | G            | A            | ⋯            | 0.000000     | 0.000004     | 0.000000     | 11           | G            | A            | 0.000000     | 0.000005     | 0.000000     | 16           | \n",
       "| AAPE02055386 | 67795        | C            | T            | 0.255406     | 0.255405     | 0.262683     | 12           | C            | T            | ⋯            | 0.205502     | 0.205351     | 0.204537     | 11           | C            | T            | 0.226039     | 0.226041     | 0.234251     | 16           | \n",
       "\n",
       "\n"
      ],
      "text/plain": [
       "  Scaffold     Position Major.x.x Minor.x.x Maf1_E   Maf2_NJE Maf3_E   nInd_NJE\n",
       "1 AAPE02055386 57060    T         C         0.000000 0.000005 0.000000 12      \n",
       "2 AAPE02055386 67758    C         T         0.067869 0.022733 0.037396 10      \n",
       "3 AAPE02055386 67765    C         T         0.000000 0.000003 0.000000 11      \n",
       "4 AAPE02055386 67766    G         A         0.062912 0.020990 0.038813 11      \n",
       "5 AAPE02055386 67785    G         A         0.000000 0.000002 0.000000 11      \n",
       "6 AAPE02055386 67795    C         T         0.255406 0.255405 0.262683 12      \n",
       "  Major.y.x Minor.y.x ⋯ Maf1_E.x Maf2_NYE Maf3_E.x nInd_NYE Major.y.y Minor.y.y\n",
       "1 T         C         ⋯ 0.000000 0.000006 0.000000 11       T         C        \n",
       "2 C         T         ⋯ 0.000000 0.000003 0.000000 10       C         T        \n",
       "3 C         T         ⋯ 0.000000 0.000004 0.000000 11       C         T        \n",
       "4 G         A         ⋯ 0.000000 0.000003 0.000000 10       G         A        \n",
       "5 G         A         ⋯ 0.000000 0.000004 0.000000 11       G         A        \n",
       "6 C         T         ⋯ 0.205502 0.205351 0.204537 11       C         T        \n",
       "  Maf1_E.y Maf2_NYU Maf3_E.y nInd_NYU\n",
       "1 0.000000 0.000004 0.000000 11      \n",
       "2 0.050943 0.050939 0.070570 17      \n",
       "3 0.044411 0.043807 0.047482 17      \n",
       "4 0.043565 0.014793 0.046712 17      \n",
       "5 0.000000 0.000005 0.000000 16      \n",
       "6 0.226039 0.226041 0.234251 16      "
      ]
     },
     "metadata": {},
     "output_type": "display_data"
    }
   ],
   "source": [
    "head(All)"
   ]
  },
  {
   "cell_type": "markdown",
   "metadata": {},
   "source": [
    "Making dataframes for mafs and coverage, NJ then ny, alternating pre and post. "
   ]
  },
  {
   "cell_type": "code",
   "execution_count": 55,
   "metadata": {},
   "outputs": [],
   "source": [
    "mafs=cbind(All$Maf2_NJU, All$Maf2_NJE, All$Maf2_NYU, All$Maf2_NYE)"
   ]
  },
  {
   "cell_type": "code",
   "execution_count": 56,
   "metadata": {},
   "outputs": [
    {
     "data": {
      "text/html": [
       "<table>\n",
       "<tbody>\n",
       "\t<tr><td>0.032491</td><td>0.000005</td><td>0.000004</td><td>0.000006</td></tr>\n",
       "\t<tr><td>0.033446</td><td>0.022733</td><td>0.050939</td><td>0.000003</td></tr>\n",
       "\t<tr><td>0.000002</td><td>0.000003</td><td>0.043807</td><td>0.000004</td></tr>\n",
       "\t<tr><td>0.000002</td><td>0.020990</td><td>0.014793</td><td>0.000003</td></tr>\n",
       "\t<tr><td>0.033610</td><td>0.000002</td><td>0.000005</td><td>0.000004</td></tr>\n",
       "\t<tr><td>0.092649</td><td>0.255405</td><td>0.226041</td><td>0.205351</td></tr>\n",
       "</tbody>\n",
       "</table>\n"
      ],
      "text/latex": [
       "\\begin{tabular}{llll}\n",
       "\t 0.032491 & 0.000005 & 0.000004 & 0.000006\\\\\n",
       "\t 0.033446 & 0.022733 & 0.050939 & 0.000003\\\\\n",
       "\t 0.000002 & 0.000003 & 0.043807 & 0.000004\\\\\n",
       "\t 0.000002 & 0.020990 & 0.014793 & 0.000003\\\\\n",
       "\t 0.033610 & 0.000002 & 0.000005 & 0.000004\\\\\n",
       "\t 0.092649 & 0.255405 & 0.226041 & 0.205351\\\\\n",
       "\\end{tabular}\n"
      ],
      "text/markdown": [
       "\n",
       "| 0.032491 | 0.000005 | 0.000004 | 0.000006 | \n",
       "| 0.033446 | 0.022733 | 0.050939 | 0.000003 | \n",
       "| 0.000002 | 0.000003 | 0.043807 | 0.000004 | \n",
       "| 0.000002 | 0.020990 | 0.014793 | 0.000003 | \n",
       "| 0.033610 | 0.000002 | 0.000005 | 0.000004 | \n",
       "| 0.092649 | 0.255405 | 0.226041 | 0.205351 | \n",
       "\n",
       "\n"
      ],
      "text/plain": [
       "     [,1]     [,2]     [,3]     [,4]    \n",
       "[1,] 0.032491 0.000005 0.000004 0.000006\n",
       "[2,] 0.033446 0.022733 0.050939 0.000003\n",
       "[3,] 0.000002 0.000003 0.043807 0.000004\n",
       "[4,] 0.000002 0.020990 0.014793 0.000003\n",
       "[5,] 0.033610 0.000002 0.000005 0.000004\n",
       "[6,] 0.092649 0.255405 0.226041 0.205351"
      ]
     },
     "metadata": {},
     "output_type": "display_data"
    }
   ],
   "source": [
    "head(mafs)"
   ]
  },
  {
   "cell_type": "code",
   "execution_count": 57,
   "metadata": {
    "collapsed": true
   },
   "outputs": [],
   "source": [
    "covMat=cbind(All$nInd_NJU, All$nInd_NJE, All$nInd_NYU, All$nInd_NYE)"
   ]
  },
  {
   "cell_type": "code",
   "execution_count": 58,
   "metadata": {
    "scrolled": true
   },
   "outputs": [
    {
     "data": {
      "text/html": [
       "<table>\n",
       "<tbody>\n",
       "\t<tr><td>9 </td><td>12</td><td>11</td><td>11</td></tr>\n",
       "\t<tr><td>7 </td><td>10</td><td>17</td><td>10</td></tr>\n",
       "\t<tr><td>6 </td><td>11</td><td>17</td><td>11</td></tr>\n",
       "\t<tr><td>7 </td><td>11</td><td>17</td><td>10</td></tr>\n",
       "\t<tr><td>7 </td><td>11</td><td>16</td><td>11</td></tr>\n",
       "\t<tr><td>7 </td><td>12</td><td>16</td><td>11</td></tr>\n",
       "</tbody>\n",
       "</table>\n"
      ],
      "text/latex": [
       "\\begin{tabular}{llll}\n",
       "\t 9  & 12 & 11 & 11\\\\\n",
       "\t 7  & 10 & 17 & 10\\\\\n",
       "\t 6  & 11 & 17 & 11\\\\\n",
       "\t 7  & 11 & 17 & 10\\\\\n",
       "\t 7  & 11 & 16 & 11\\\\\n",
       "\t 7  & 12 & 16 & 11\\\\\n",
       "\\end{tabular}\n"
      ],
      "text/markdown": [
       "\n",
       "| 9  | 12 | 11 | 11 | \n",
       "| 7  | 10 | 17 | 10 | \n",
       "| 6  | 11 | 17 | 11 | \n",
       "| 7  | 11 | 17 | 10 | \n",
       "| 7  | 11 | 16 | 11 | \n",
       "| 7  | 12 | 16 | 11 | \n",
       "\n",
       "\n"
      ],
      "text/plain": [
       "     [,1] [,2] [,3] [,4]\n",
       "[1,] 9    12   11   11  \n",
       "[2,] 7    10   17   10  \n",
       "[3,] 6    11   17   11  \n",
       "[4,] 7    11   17   10  \n",
       "[5,] 7    11   16   11  \n",
       "[6,] 7    12   16   11  "
      ]
     },
     "metadata": {},
     "output_type": "display_data"
    }
   ],
   "source": [
    "head(covMat)"
   ]
  },
  {
   "cell_type": "markdown",
   "metadata": {},
   "source": [
    "Run CMH test with Ne used for other values, 2 generations, 2 replicates. "
   ]
  },
  {
   "cell_type": "code",
   "execution_count": 59,
   "metadata": {
    "scrolled": true
   },
   "outputs": [
    {
     "name": "stderr",
     "output_type": "stream",
     "text": [
      "Warning message in adapted.cmh.test(freq = mafs, coverage = covMat, Ne = Ne, gen = tp, :\n",
      "“Ne value(s) which are not integer are converted to integer”Warning message in adapted.cmh.test(freq = mafs, coverage = covMat, Ne = Ne, gen = tp, :\n",
      "“The counts assuming values 0 or equal the coverage of the considered \n",
      "                    locus are changed to 1 and to coverage-1 respectively.”Warning message in adapted.cmh.test(freq = mafs, coverage = covMat, Ne = Ne, gen = tp, :\n",
      "“The counts assuming values 0 or equal the coverage of the considered \n",
      "                    locus are changed to 1 and to coverage-1 respectively.”"
     ]
    }
   ],
   "source": [
    "Ne=c(296, 424)\n",
    "repl=c(1,2)\n",
    "tp=c(0,2)\n",
    "pvals=adapted.cmh.test(freq=mafs, coverage=covMat, Ne=Ne, gen=tp, repl=repl)\n",
    "\n",
    "#pval <- adapted.cmh.test(freq=afMat, coverage=covMat, Ne=rep(Ne,length(rep)), gen=tp, repl = rep)"
   ]
  },
  {
   "cell_type": "code",
   "execution_count": 78,
   "metadata": {
    "scrolled": true
   },
   "outputs": [
    {
     "data": {
      "text/html": [
       "<ol class=list-inline>\n",
       "\t<li>0.643386940890196</li>\n",
       "\t<li>0.532416047196074</li>\n",
       "\t<li>0.513858005233216</li>\n",
       "\t<li>0.990670813102399</li>\n",
       "\t<li>0.670581852460727</li>\n",
       "\t<li>0.644734663276119</li>\n",
       "</ol>\n"
      ],
      "text/latex": [
       "\\begin{enumerate*}\n",
       "\\item 0.643386940890196\n",
       "\\item 0.532416047196074\n",
       "\\item 0.513858005233216\n",
       "\\item 0.990670813102399\n",
       "\\item 0.670581852460727\n",
       "\\item 0.644734663276119\n",
       "\\end{enumerate*}\n"
      ],
      "text/markdown": [
       "1. 0.643386940890196\n",
       "2. 0.532416047196074\n",
       "3. 0.513858005233216\n",
       "4. 0.990670813102399\n",
       "5. 0.670581852460727\n",
       "6. 0.644734663276119\n",
       "\n",
       "\n"
      ],
      "text/plain": [
       "[1] 0.6433869 0.5324160 0.5138580 0.9906708 0.6705819 0.6447347"
      ]
     },
     "metadata": {},
     "output_type": "display_data"
    }
   ],
   "source": [
    "head(pvals)"
   ]
  },
  {
   "cell_type": "code",
   "execution_count": 79,
   "metadata": {},
   "outputs": [],
   "source": [
    "pvalsCMH=as.data.frame(cbind(All$Scaffold, All$Position, pvals))"
   ]
  },
  {
   "cell_type": "code",
   "execution_count": 80,
   "metadata": {},
   "outputs": [],
   "source": [
    "colnames(pvalsCMH)=c(\"Scaffold\", \"Position\", \"pvals\")"
   ]
  },
  {
   "cell_type": "code",
   "execution_count": 82,
   "metadata": {},
   "outputs": [
    {
     "data": {
      "text/html": [
       "<table>\n",
       "<thead><tr><th scope=col>Scaffold</th><th scope=col>Position</th><th scope=col>pvals</th></tr></thead>\n",
       "<tbody>\n",
       "\t<tr><td>AAPE02055386     </td><td>57060            </td><td>0.643386940890196</td></tr>\n",
       "\t<tr><td>AAPE02055386     </td><td>67758            </td><td>0.532416047196074</td></tr>\n",
       "\t<tr><td>AAPE02055386     </td><td>67765            </td><td>0.513858005233216</td></tr>\n",
       "\t<tr><td>AAPE02055386     </td><td>67766            </td><td>0.990670813102399</td></tr>\n",
       "\t<tr><td>AAPE02055386     </td><td>67785            </td><td>0.670581852460727</td></tr>\n",
       "\t<tr><td>AAPE02055386     </td><td>67795            </td><td>0.644734663276119</td></tr>\n",
       "</tbody>\n",
       "</table>\n"
      ],
      "text/latex": [
       "\\begin{tabular}{r|lll}\n",
       " Scaffold & Position & pvals\\\\\n",
       "\\hline\n",
       "\t AAPE02055386      & 57060             & 0.643386940890196\\\\\n",
       "\t AAPE02055386      & 67758             & 0.532416047196074\\\\\n",
       "\t AAPE02055386      & 67765             & 0.513858005233216\\\\\n",
       "\t AAPE02055386      & 67766             & 0.990670813102399\\\\\n",
       "\t AAPE02055386      & 67785             & 0.670581852460727\\\\\n",
       "\t AAPE02055386      & 67795             & 0.644734663276119\\\\\n",
       "\\end{tabular}\n"
      ],
      "text/markdown": [
       "\n",
       "Scaffold | Position | pvals | \n",
       "|---|---|---|---|---|---|\n",
       "| AAPE02055386      | 57060             | 0.643386940890196 | \n",
       "| AAPE02055386      | 67758             | 0.532416047196074 | \n",
       "| AAPE02055386      | 67765             | 0.513858005233216 | \n",
       "| AAPE02055386      | 67766             | 0.990670813102399 | \n",
       "| AAPE02055386      | 67785             | 0.670581852460727 | \n",
       "| AAPE02055386      | 67795             | 0.644734663276119 | \n",
       "\n",
       "\n"
      ],
      "text/plain": [
       "  Scaffold     Position pvals            \n",
       "1 AAPE02055386 57060    0.643386940890196\n",
       "2 AAPE02055386 67758    0.532416047196074\n",
       "3 AAPE02055386 67765    0.513858005233216\n",
       "4 AAPE02055386 67766    0.990670813102399\n",
       "5 AAPE02055386 67785    0.670581852460727\n",
       "6 AAPE02055386 67795    0.644734663276119"
      ]
     },
     "metadata": {},
     "output_type": "display_data"
    }
   ],
   "source": [
    "head(pvalsCMH)"
   ]
  },
  {
   "cell_type": "code",
   "execution_count": 84,
   "metadata": {
    "collapsed": true
   },
   "outputs": [],
   "source": [
    "pvalsCMH$pvals=as.numeric(as.character(pvalsCMH$pvals))"
   ]
  },
  {
   "cell_type": "markdown",
   "metadata": {},
   "source": [
    "benjamini-hochberg for significance"
   ]
  },
  {
   "cell_type": "code",
   "execution_count": 88,
   "metadata": {},
   "outputs": [
    {
     "data": {
      "text/html": [
       "3946057"
      ],
      "text/latex": [
       "3946057"
      ],
      "text/markdown": [
       "3946057"
      ],
      "text/plain": [
       "[1] 3946057"
      ]
     },
     "metadata": {},
     "output_type": "display_data"
    }
   ],
   "source": [
    "pvalsCMH$rank=1:NROW(pvalsCMH)\n",
    "pvalsCMH$padjBH=(pvalsCMH$rank/44829537)*.2\n",
    "pvalsCMH_sig=pvalsCMH[pvalsCMH$pvals<pvalsCMH$padjBH,]\n",
    "NROW(pvalsCMH_sig)"
   ]
  },
  {
   "cell_type": "code",
   "execution_count": 89,
   "metadata": {},
   "outputs": [
    {
     "data": {
      "text/html": [
       "2031265"
      ],
      "text/latex": [
       "2031265"
      ],
      "text/markdown": [
       "2031265"
      ],
      "text/plain": [
       "[1] 2031265"
      ]
     },
     "metadata": {},
     "output_type": "display_data"
    }
   ],
   "source": [
    "pvalsCMH$rank=1:NROW(pvalsCMH)\n",
    "pvalsCMH$padjBH=(pvalsCMH$rank/44829537)*.1\n",
    "pvalsCMH_sig=pvalsCMH[pvalsCMH$pvals<pvalsCMH$padjBH,]\n",
    "NROW(pvalsCMH_sig)"
   ]
  },
  {
   "cell_type": "markdown",
   "metadata": {},
   "source": [
    "Copied from the vignette, accounting for drift "
   ]
  },
  {
   "cell_type": "code",
   "execution_count": 35,
   "metadata": {},
   "outputs": [
    {
     "name": "stderr",
     "output_type": "stream",
     "text": [
      "Warning message in adapted.cmh.test(freq = afMat, coverage = covMat, Ne = rep(Ne, :\n",
      "“Ne value(s) which are not integer are converted to integer”Warning message in adapted.cmh.test(freq = afMat, coverage = covMat, Ne = rep(Ne, :\n",
      "“The counts assuming values 0 or equal the coverage of the considered \n",
      "                    locus are changed to 1 and to coverage-1 respectively.”Warning message in adapted.cmh.test(freq = afMat, coverage = covMat, Ne = rep(Ne, :\n",
      "“The counts assuming values 0 or equal the coverage of the considered \n",
      "                    locus are changed to 1 and to coverage-1 respectively.”"
     ]
    }
   ],
   "source": [
    "#simulate the starting allele frequencies \n",
    "rep <- c(1,2,3)\n",
    "p <- matrix(c(round(runif(10000, min=0, max=1)*2*Ne)/(2*Ne),\n",
    "              round(runif(10000, min=0, max=1)*2*Ne)/(2*Ne),\n",
    "              round(runif(10000, min=0, max=1)*2*Ne)/(2*Ne)), \n",
    "              ncol=length(rep))\n",
    "\n",
    "#simulate random drift with generations 0 and 60\n",
    "Ne <- 300\n",
    "tp <- c(0, 60)\n",
    "p_ev1 <- wf.traj(p0=p[,1], Ne=Ne, t=tp)\n",
    "p_ev2 <- wf.traj(p0=p[,2], Ne=Ne, t=tp)\n",
    "p_ev3 <- wf.traj(p0=p[,3], Ne=Ne, t=tp)\n",
    "afMat <- cbind(p_ev1, p_ev2, p_ev3)\n",
    "\n",
    "#simulate the coverage matrix\n",
    "covMat <- cbind(rpois(length(p), lambda=80), rpois(length(p), lambda=80), \n",
    "                rpois(length(p), lambda=80), rpois(length(p), lambda=80), \n",
    "                rpois(length(p), lambda=80), rpois(length(p), lambda=80))\n",
    "\n",
    "#add sampling noise to the allele frequency matrix\n",
    "afMat <- rbinom(n=length(covMat), size=covMat, prob=afMat) / covMat\n",
    "\n",
    "#compute the appropriate CMH test for this situation: drift (i.e. \n",
    "#evolving population for 60 generations) and no pool sequencing \n",
    "#(i.e. poolSize = NULL)\n",
    "pval <- adapted.cmh.test(freq=afMat, coverage=covMat, Ne=rep(Ne,\n",
    "                                length(rep)), gen=tp, repl = rep)"
   ]
  },
  {
   "cell_type": "code",
   "execution_count": 36,
   "metadata": {},
   "outputs": [
    {
     "data": {
      "text/html": [
       "<table>\n",
       "<tbody>\n",
       "\t<tr><td>0.87654321</td><td>0.7638889 </td><td>0.8571429 </td><td>0.7848101 </td><td>0.91935484</td><td>0.8518519 </td></tr>\n",
       "\t<tr><td>0.65853659</td><td>0.4791667 </td><td>0.6627907 </td><td>0.5064935 </td><td>0.69135802</td><td>0.5512821 </td></tr>\n",
       "\t<tr><td>0.98780488</td><td>1.0000000 </td><td>0.9857143 </td><td>1.0000000 </td><td>0.97260274</td><td>1.0000000 </td></tr>\n",
       "\t<tr><td>0.01333333</td><td>0.4512195 </td><td>0.0000000 </td><td>0.4166667 </td><td>0.01149425</td><td>0.5555556 </td></tr>\n",
       "\t<tr><td>0.63529412</td><td>0.7294118 </td><td>0.5698925 </td><td>0.6700000 </td><td>0.55670103</td><td>0.6593407 </td></tr>\n",
       "\t<tr><td>0.48958333</td><td>0.2873563 </td><td>0.4534884 </td><td>0.3333333 </td><td>0.49367089</td><td>0.3246753 </td></tr>\n",
       "</tbody>\n",
       "</table>\n"
      ],
      "text/latex": [
       "\\begin{tabular}{llllll}\n",
       "\t 0.87654321 & 0.7638889  & 0.8571429  & 0.7848101  & 0.91935484 & 0.8518519 \\\\\n",
       "\t 0.65853659 & 0.4791667  & 0.6627907  & 0.5064935  & 0.69135802 & 0.5512821 \\\\\n",
       "\t 0.98780488 & 1.0000000  & 0.9857143  & 1.0000000  & 0.97260274 & 1.0000000 \\\\\n",
       "\t 0.01333333 & 0.4512195  & 0.0000000  & 0.4166667  & 0.01149425 & 0.5555556 \\\\\n",
       "\t 0.63529412 & 0.7294118  & 0.5698925  & 0.6700000  & 0.55670103 & 0.6593407 \\\\\n",
       "\t 0.48958333 & 0.2873563  & 0.4534884  & 0.3333333  & 0.49367089 & 0.3246753 \\\\\n",
       "\\end{tabular}\n"
      ],
      "text/markdown": [
       "\n",
       "| 0.87654321 | 0.7638889  | 0.8571429  | 0.7848101  | 0.91935484 | 0.8518519  | \n",
       "| 0.65853659 | 0.4791667  | 0.6627907  | 0.5064935  | 0.69135802 | 0.5512821  | \n",
       "| 0.98780488 | 1.0000000  | 0.9857143  | 1.0000000  | 0.97260274 | 1.0000000  | \n",
       "| 0.01333333 | 0.4512195  | 0.0000000  | 0.4166667  | 0.01149425 | 0.5555556  | \n",
       "| 0.63529412 | 0.7294118  | 0.5698925  | 0.6700000  | 0.55670103 | 0.6593407  | \n",
       "| 0.48958333 | 0.2873563  | 0.4534884  | 0.3333333  | 0.49367089 | 0.3246753  | \n",
       "\n",
       "\n"
      ],
      "text/plain": [
       "     [,1]       [,2]      [,3]      [,4]      [,5]       [,6]     \n",
       "[1,] 0.87654321 0.7638889 0.8571429 0.7848101 0.91935484 0.8518519\n",
       "[2,] 0.65853659 0.4791667 0.6627907 0.5064935 0.69135802 0.5512821\n",
       "[3,] 0.98780488 1.0000000 0.9857143 1.0000000 0.97260274 1.0000000\n",
       "[4,] 0.01333333 0.4512195 0.0000000 0.4166667 0.01149425 0.5555556\n",
       "[5,] 0.63529412 0.7294118 0.5698925 0.6700000 0.55670103 0.6593407\n",
       "[6,] 0.48958333 0.2873563 0.4534884 0.3333333 0.49367089 0.3246753"
      ]
     },
     "metadata": {},
     "output_type": "display_data"
    }
   ],
   "source": [
    "head(afMat)"
   ]
  },
  {
   "cell_type": "code",
   "execution_count": 37,
   "metadata": {},
   "outputs": [
    {
     "data": {
      "text/html": [
       "<ol class=list-inline>\n",
       "\t<li>0</li>\n",
       "\t<li>60</li>\n",
       "</ol>\n"
      ],
      "text/latex": [
       "\\begin{enumerate*}\n",
       "\\item 0\n",
       "\\item 60\n",
       "\\end{enumerate*}\n"
      ],
      "text/markdown": [
       "1. 0\n",
       "2. 60\n",
       "\n",
       "\n"
      ],
      "text/plain": [
       "[1]  0 60"
      ]
     },
     "metadata": {},
     "output_type": "display_data"
    }
   ],
   "source": [
    "head(tp)"
   ]
  },
  {
   "cell_type": "code",
   "execution_count": null,
   "metadata": {
    "collapsed": true
   },
   "outputs": [],
   "source": []
  }
 ],
 "metadata": {
  "kernelspec": {
   "display_name": "R",
   "language": "R",
   "name": "ir"
  },
  "language_info": {
   "codemirror_mode": "r",
   "file_extension": ".r",
   "mimetype": "text/x-r-source",
   "name": "R",
   "pygments_lexer": "r",
   "version": "3.4.1"
  }
 },
 "nbformat": 4,
 "nbformat_minor": 2
}
