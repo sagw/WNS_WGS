{
 "cells": [
  {
   "cell_type": "code",
   "execution_count": 1,
   "metadata": {},
   "outputs": [
    {
     "name": "stderr",
     "output_type": "stream",
     "text": [
      "Loading required package: ACER\n",
      "Loading required package: data.table\n",
      "Loading required package: poolSeq\n",
      "Loading required package: foreach\n",
      "Loading required package: stringi\n",
      "Loading required package: matrixStats\n",
      "Loading required package: Rcpp\n"
     ]
    }
   ],
   "source": [
    "require(ACER)\n",
    "require(data.table)\n",
    "require(poolSeq)"
   ]
  },
  {
   "cell_type": "code",
   "execution_count": 2,
   "metadata": {
    "collapsed": true
   },
   "outputs": [],
   "source": [
    "setwd(\"/data/sarahgw/WGS/SNPS/All_mylu/\")\n"
   ]
  },
  {
   "cell_type": "code",
   "execution_count": 3,
   "metadata": {},
   "outputs": [
    {
     "name": "stdout",
     "output_type": "stream",
     "text": [
      "Read 44829666 rows and 8 (of 8) columns from 2.119 GB file in 00:00:43\n",
      "Read 44829666 rows and 8 (of 8) columns from 2.108 GB file in 00:00:44\n",
      "Read 44829666 rows and 8 (of 8) columns from 2.112 GB file in 00:00:44\n",
      "Read 44829616 rows and 8 (of 8) columns from 2.113 GB file in 00:00:43\n"
     ]
    }
   ],
   "source": [
    "nje=fread(\"mafs/NJ_E_filt1.mafs\", header=FALSE)\n",
    "nju=fread(\"mafs/NJ_U_filt1.mafs\", header=FALSE)\n",
    "nye=fread(\"mafs/NY_E_filt1.mafs\", header=FALSE)\n",
    "nyout=fread(\"mafs/NY_U_noOut_filt.mafs\")"
   ]
  },
  {
   "cell_type": "code",
   "execution_count": 4,
   "metadata": {
    "collapsed": true
   },
   "outputs": [],
   "source": [
    "colnames(nje)=c(\"Scaffold\", \"Position\", \"Major\", \"Minor\", \"Maf1_E\", \"Maf2_NJE\", \"Maf3_E\", \"nInd_NJE\")\n",
    "colnames(nju)=c(\"Scaffold\", \"Position\", \"Major\", \"Minor\", \"Maf1_U\", \"Maf2_NJU\", \"Maf3_U\", \"nInd_NJU\")\n",
    "colnames(nye)=c(\"Scaffold\", \"Position\", \"Major\", \"Minor\", \"Maf1_E\", \"Maf2_NYE\", \"Maf3_E\", \"nInd_NYE\")\n",
    "colnames(nyout)=c(\"Scaffold\", \"Position\", \"Major\", \"Minor\", \"Maf1_E\", \"Maf2_NYU\", \"Maf3_E\", \"nInd_NYU\")"
   ]
  },
  {
   "cell_type": "code",
   "execution_count": 5,
   "metadata": {},
   "outputs": [
    {
     "data": {
      "text/html": [
       "<table>\n",
       "<thead><tr><th scope=col>Scaffold</th><th scope=col>Position</th><th scope=col>Major</th><th scope=col>Minor</th><th scope=col>Maf1_E</th><th scope=col>Maf2_NJE</th><th scope=col>Maf3_E</th><th scope=col>nInd_NJE</th></tr></thead>\n",
       "<tbody>\n",
       "\t<tr><td>GL429767</td><td> 78     </td><td>G       </td><td>A       </td><td>0.109899</td><td>0.109719</td><td>0.119721</td><td>13      </td></tr>\n",
       "\t<tr><td>GL429767</td><td>104     </td><td>A       </td><td>T       </td><td>0.207668</td><td>0.207671</td><td>0.232022</td><td>11      </td></tr>\n",
       "\t<tr><td>GL429767</td><td>112     </td><td>G       </td><td>A       </td><td>0.000000</td><td>0.000002</td><td>0.000000</td><td>12      </td></tr>\n",
       "\t<tr><td>GL429767</td><td>195     </td><td>C       </td><td>T       </td><td>0.039302</td><td>0.013166</td><td>0.028934</td><td>17      </td></tr>\n",
       "\t<tr><td>GL429767</td><td>196     </td><td>T       </td><td>C       </td><td>0.039685</td><td>0.039689</td><td>0.034497</td><td>17      </td></tr>\n",
       "\t<tr><td>GL429767</td><td>202     </td><td>A       </td><td>G       </td><td>0.254900</td><td>0.254900</td><td>0.268423</td><td>17      </td></tr>\n",
       "</tbody>\n",
       "</table>\n"
      ],
      "text/latex": [
       "\\begin{tabular}{r|llllllll}\n",
       " Scaffold & Position & Major & Minor & Maf1\\_E & Maf2\\_NJE & Maf3\\_E & nInd\\_NJE\\\\\n",
       "\\hline\n",
       "\t GL429767 &  78      & G        & A        & 0.109899 & 0.109719 & 0.119721 & 13      \\\\\n",
       "\t GL429767 & 104      & A        & T        & 0.207668 & 0.207671 & 0.232022 & 11      \\\\\n",
       "\t GL429767 & 112      & G        & A        & 0.000000 & 0.000002 & 0.000000 & 12      \\\\\n",
       "\t GL429767 & 195      & C        & T        & 0.039302 & 0.013166 & 0.028934 & 17      \\\\\n",
       "\t GL429767 & 196      & T        & C        & 0.039685 & 0.039689 & 0.034497 & 17      \\\\\n",
       "\t GL429767 & 202      & A        & G        & 0.254900 & 0.254900 & 0.268423 & 17      \\\\\n",
       "\\end{tabular}\n"
      ],
      "text/markdown": [
       "\n",
       "Scaffold | Position | Major | Minor | Maf1_E | Maf2_NJE | Maf3_E | nInd_NJE | \n",
       "|---|---|---|---|---|---|\n",
       "| GL429767 |  78      | G        | A        | 0.109899 | 0.109719 | 0.119721 | 13       | \n",
       "| GL429767 | 104      | A        | T        | 0.207668 | 0.207671 | 0.232022 | 11       | \n",
       "| GL429767 | 112      | G        | A        | 0.000000 | 0.000002 | 0.000000 | 12       | \n",
       "| GL429767 | 195      | C        | T        | 0.039302 | 0.013166 | 0.028934 | 17       | \n",
       "| GL429767 | 196      | T        | C        | 0.039685 | 0.039689 | 0.034497 | 17       | \n",
       "| GL429767 | 202      | A        | G        | 0.254900 | 0.254900 | 0.268423 | 17       | \n",
       "\n",
       "\n"
      ],
      "text/plain": [
       "  Scaffold Position Major Minor Maf1_E   Maf2_NJE Maf3_E   nInd_NJE\n",
       "1 GL429767  78      G     A     0.109899 0.109719 0.119721 13      \n",
       "2 GL429767 104      A     T     0.207668 0.207671 0.232022 11      \n",
       "3 GL429767 112      G     A     0.000000 0.000002 0.000000 12      \n",
       "4 GL429767 195      C     T     0.039302 0.013166 0.028934 17      \n",
       "5 GL429767 196      T     C     0.039685 0.039689 0.034497 17      \n",
       "6 GL429767 202      A     G     0.254900 0.254900 0.268423 17      "
      ]
     },
     "metadata": {},
     "output_type": "display_data"
    }
   ],
   "source": [
    "head(nje)"
   ]
  },
  {
   "cell_type": "code",
   "execution_count": 9,
   "metadata": {
    "collapsed": true
   },
   "outputs": [],
   "source": [
    "#majmin=cbind(nje$Scaffold, nje$Position, nje$Major, nje$Minor)\n",
    "colnames(majmin)=c(\"Scaffold\", \"SNP\", \"Major\", \"Minor\")"
   ]
  },
  {
   "cell_type": "code",
   "execution_count": 5,
   "metadata": {},
   "outputs": [
    {
     "data": {
      "text/html": [
       "44829666"
      ],
      "text/latex": [
       "44829666"
      ],
      "text/markdown": [
       "44829666"
      ],
      "text/plain": [
       "[1] 44829666"
      ]
     },
     "metadata": {},
     "output_type": "display_data"
    },
    {
     "data": {
      "text/html": [
       "44829666"
      ],
      "text/latex": [
       "44829666"
      ],
      "text/markdown": [
       "44829666"
      ],
      "text/plain": [
       "[1] 44829666"
      ]
     },
     "metadata": {},
     "output_type": "display_data"
    },
    {
     "data": {
      "text/html": [
       "44829666"
      ],
      "text/latex": [
       "44829666"
      ],
      "text/markdown": [
       "44829666"
      ],
      "text/plain": [
       "[1] 44829666"
      ]
     },
     "metadata": {},
     "output_type": "display_data"
    },
    {
     "data": {
      "text/html": [
       "44829616"
      ],
      "text/latex": [
       "44829616"
      ],
      "text/markdown": [
       "44829616"
      ],
      "text/plain": [
       "[1] 44829616"
      ]
     },
     "metadata": {},
     "output_type": "display_data"
    }
   ],
   "source": [
    "nrow(nje)\n",
    "nrow(nju)\n",
    "nrow(nye)\n",
    "nrow(nyout)"
   ]
  },
  {
   "cell_type": "code",
   "execution_count": 5,
   "metadata": {
    "collapsed": true
   },
   "outputs": [],
   "source": [
    "njeu=merge(nje, nju, by=c(\"Scaffold\", \"Position\"))\n",
    "nyeu=merge(nye, nyout, by=c(\"Scaffold\", \"Position\"))"
   ]
  },
  {
   "cell_type": "code",
   "execution_count": 6,
   "metadata": {
    "collapsed": true
   },
   "outputs": [],
   "source": [
    "All=merge(njeu, nyeu, by=c(\"Scaffold\", \"Position\"))"
   ]
  },
  {
   "cell_type": "code",
   "execution_count": 7,
   "metadata": {
    "scrolled": false
   },
   "outputs": [
    {
     "data": {
      "text/html": [
       "<table>\n",
       "<thead><tr><th scope=col>Scaffold</th><th scope=col>Position</th><th scope=col>Major.x.x</th><th scope=col>Minor.x.x</th><th scope=col>Maf1_E</th><th scope=col>Maf2_NJE</th><th scope=col>Maf3_E</th><th scope=col>nInd_NJE</th><th scope=col>Major.y.x</th><th scope=col>Minor.y.x</th><th scope=col>⋯</th><th scope=col>Maf1_E.x</th><th scope=col>Maf2_NYE</th><th scope=col>Maf3_E.x</th><th scope=col>nInd_NYE</th><th scope=col>Major.y.y</th><th scope=col>Minor.y.y</th><th scope=col>Maf1_E.y</th><th scope=col>Maf2_NYU</th><th scope=col>Maf3_E.y</th><th scope=col>nInd_NYU</th></tr></thead>\n",
       "<tbody>\n",
       "\t<tr><td>AAPE02055386</td><td>57060       </td><td>T           </td><td>C           </td><td>0.000000    </td><td>0.000005    </td><td>0.000000    </td><td>12          </td><td>T           </td><td>C           </td><td>⋯           </td><td>0.000000    </td><td>0.000006    </td><td>0.000000    </td><td>11          </td><td>T           </td><td>C           </td><td>0.000000    </td><td>0.000004    </td><td>0.000000    </td><td>11          </td></tr>\n",
       "\t<tr><td>AAPE02055386</td><td>67758       </td><td>C           </td><td>T           </td><td>0.067869    </td><td>0.022733    </td><td>0.037396    </td><td>10          </td><td>C           </td><td>T           </td><td>⋯           </td><td>0.000000    </td><td>0.000003    </td><td>0.000000    </td><td>10          </td><td>C           </td><td>T           </td><td>0.050943    </td><td>0.050939    </td><td>0.070570    </td><td>17          </td></tr>\n",
       "\t<tr><td>AAPE02055386</td><td>67765       </td><td>C           </td><td>T           </td><td>0.000000    </td><td>0.000003    </td><td>0.000000    </td><td>11          </td><td>C           </td><td>T           </td><td>⋯           </td><td>0.000000    </td><td>0.000004    </td><td>0.000000    </td><td>11          </td><td>C           </td><td>T           </td><td>0.044411    </td><td>0.043807    </td><td>0.047482    </td><td>17          </td></tr>\n",
       "\t<tr><td>AAPE02055386</td><td>67766       </td><td>G           </td><td>A           </td><td>0.062912    </td><td>0.020990    </td><td>0.038813    </td><td>11          </td><td>G           </td><td>A           </td><td>⋯           </td><td>0.000000    </td><td>0.000003    </td><td>0.000000    </td><td>10          </td><td>G           </td><td>A           </td><td>0.043565    </td><td>0.014793    </td><td>0.046712    </td><td>17          </td></tr>\n",
       "\t<tr><td>AAPE02055386</td><td>67785       </td><td>G           </td><td>A           </td><td>0.000000    </td><td>0.000002    </td><td>0.000000    </td><td>11          </td><td>G           </td><td>A           </td><td>⋯           </td><td>0.000000    </td><td>0.000004    </td><td>0.000000    </td><td>11          </td><td>G           </td><td>A           </td><td>0.000000    </td><td>0.000005    </td><td>0.000000    </td><td>16          </td></tr>\n",
       "\t<tr><td>AAPE02055386</td><td>67795       </td><td>C           </td><td>T           </td><td>0.255406    </td><td>0.255405    </td><td>0.262683    </td><td>12          </td><td>C           </td><td>T           </td><td>⋯           </td><td>0.205502    </td><td>0.205351    </td><td>0.204537    </td><td>11          </td><td>C           </td><td>T           </td><td>0.226039    </td><td>0.226041    </td><td>0.234251    </td><td>16          </td></tr>\n",
       "</tbody>\n",
       "</table>\n"
      ],
      "text/latex": [
       "\\begin{tabular}{r|llllllllllllllllllllllllll}\n",
       " Scaffold & Position & Major.x.x & Minor.x.x & Maf1\\_E & Maf2\\_NJE & Maf3\\_E & nInd\\_NJE & Major.y.x & Minor.y.x & ⋯ & Maf1\\_E.x & Maf2\\_NYE & Maf3\\_E.x & nInd\\_NYE & Major.y.y & Minor.y.y & Maf1\\_E.y & Maf2\\_NYU & Maf3\\_E.y & nInd\\_NYU\\\\\n",
       "\\hline\n",
       "\t AAPE02055386 & 57060        & T            & C            & 0.000000     & 0.000005     & 0.000000     & 12           & T            & C            & ⋯            & 0.000000     & 0.000006     & 0.000000     & 11           & T            & C            & 0.000000     & 0.000004     & 0.000000     & 11          \\\\\n",
       "\t AAPE02055386 & 67758        & C            & T            & 0.067869     & 0.022733     & 0.037396     & 10           & C            & T            & ⋯            & 0.000000     & 0.000003     & 0.000000     & 10           & C            & T            & 0.050943     & 0.050939     & 0.070570     & 17          \\\\\n",
       "\t AAPE02055386 & 67765        & C            & T            & 0.000000     & 0.000003     & 0.000000     & 11           & C            & T            & ⋯            & 0.000000     & 0.000004     & 0.000000     & 11           & C            & T            & 0.044411     & 0.043807     & 0.047482     & 17          \\\\\n",
       "\t AAPE02055386 & 67766        & G            & A            & 0.062912     & 0.020990     & 0.038813     & 11           & G            & A            & ⋯            & 0.000000     & 0.000003     & 0.000000     & 10           & G            & A            & 0.043565     & 0.014793     & 0.046712     & 17          \\\\\n",
       "\t AAPE02055386 & 67785        & G            & A            & 0.000000     & 0.000002     & 0.000000     & 11           & G            & A            & ⋯            & 0.000000     & 0.000004     & 0.000000     & 11           & G            & A            & 0.000000     & 0.000005     & 0.000000     & 16          \\\\\n",
       "\t AAPE02055386 & 67795        & C            & T            & 0.255406     & 0.255405     & 0.262683     & 12           & C            & T            & ⋯            & 0.205502     & 0.205351     & 0.204537     & 11           & C            & T            & 0.226039     & 0.226041     & 0.234251     & 16          \\\\\n",
       "\\end{tabular}\n"
      ],
      "text/markdown": [
       "\n",
       "Scaffold | Position | Major.x.x | Minor.x.x | Maf1_E | Maf2_NJE | Maf3_E | nInd_NJE | Major.y.x | Minor.y.x | ⋯ | Maf1_E.x | Maf2_NYE | Maf3_E.x | nInd_NYE | Major.y.y | Minor.y.y | Maf1_E.y | Maf2_NYU | Maf3_E.y | nInd_NYU | \n",
       "|---|---|---|---|---|---|\n",
       "| AAPE02055386 | 57060        | T            | C            | 0.000000     | 0.000005     | 0.000000     | 12           | T            | C            | ⋯            | 0.000000     | 0.000006     | 0.000000     | 11           | T            | C            | 0.000000     | 0.000004     | 0.000000     | 11           | \n",
       "| AAPE02055386 | 67758        | C            | T            | 0.067869     | 0.022733     | 0.037396     | 10           | C            | T            | ⋯            | 0.000000     | 0.000003     | 0.000000     | 10           | C            | T            | 0.050943     | 0.050939     | 0.070570     | 17           | \n",
       "| AAPE02055386 | 67765        | C            | T            | 0.000000     | 0.000003     | 0.000000     | 11           | C            | T            | ⋯            | 0.000000     | 0.000004     | 0.000000     | 11           | C            | T            | 0.044411     | 0.043807     | 0.047482     | 17           | \n",
       "| AAPE02055386 | 67766        | G            | A            | 0.062912     | 0.020990     | 0.038813     | 11           | G            | A            | ⋯            | 0.000000     | 0.000003     | 0.000000     | 10           | G            | A            | 0.043565     | 0.014793     | 0.046712     | 17           | \n",
       "| AAPE02055386 | 67785        | G            | A            | 0.000000     | 0.000002     | 0.000000     | 11           | G            | A            | ⋯            | 0.000000     | 0.000004     | 0.000000     | 11           | G            | A            | 0.000000     | 0.000005     | 0.000000     | 16           | \n",
       "| AAPE02055386 | 67795        | C            | T            | 0.255406     | 0.255405     | 0.262683     | 12           | C            | T            | ⋯            | 0.205502     | 0.205351     | 0.204537     | 11           | C            | T            | 0.226039     | 0.226041     | 0.234251     | 16           | \n",
       "\n",
       "\n"
      ],
      "text/plain": [
       "  Scaffold     Position Major.x.x Minor.x.x Maf1_E   Maf2_NJE Maf3_E   nInd_NJE\n",
       "1 AAPE02055386 57060    T         C         0.000000 0.000005 0.000000 12      \n",
       "2 AAPE02055386 67758    C         T         0.067869 0.022733 0.037396 10      \n",
       "3 AAPE02055386 67765    C         T         0.000000 0.000003 0.000000 11      \n",
       "4 AAPE02055386 67766    G         A         0.062912 0.020990 0.038813 11      \n",
       "5 AAPE02055386 67785    G         A         0.000000 0.000002 0.000000 11      \n",
       "6 AAPE02055386 67795    C         T         0.255406 0.255405 0.262683 12      \n",
       "  Major.y.x Minor.y.x ⋯ Maf1_E.x Maf2_NYE Maf3_E.x nInd_NYE Major.y.y Minor.y.y\n",
       "1 T         C         ⋯ 0.000000 0.000006 0.000000 11       T         C        \n",
       "2 C         T         ⋯ 0.000000 0.000003 0.000000 10       C         T        \n",
       "3 C         T         ⋯ 0.000000 0.000004 0.000000 11       C         T        \n",
       "4 G         A         ⋯ 0.000000 0.000003 0.000000 10       G         A        \n",
       "5 G         A         ⋯ 0.000000 0.000004 0.000000 11       G         A        \n",
       "6 C         T         ⋯ 0.205502 0.205351 0.204537 11       C         T        \n",
       "  Maf1_E.y Maf2_NYU Maf3_E.y nInd_NYU\n",
       "1 0.000000 0.000004 0.000000 11      \n",
       "2 0.050943 0.050939 0.070570 17      \n",
       "3 0.044411 0.043807 0.047482 17      \n",
       "4 0.043565 0.014793 0.046712 17      \n",
       "5 0.000000 0.000005 0.000000 16      \n",
       "6 0.226039 0.226041 0.234251 16      "
      ]
     },
     "metadata": {},
     "output_type": "display_data"
    }
   ],
   "source": [
    "head(All)"
   ]
  },
  {
   "cell_type": "markdown",
   "metadata": {},
   "source": [
    "Making dataframes for mafs and coverage, NJ then ny, alternating pre and post. "
   ]
  },
  {
   "cell_type": "code",
   "execution_count": 8,
   "metadata": {
    "collapsed": true
   },
   "outputs": [],
   "source": [
    "mafs=cbind(All$Maf2_NJU, All$Maf2_NJE, All$Maf2_NYU, All$Maf2_NYE)"
   ]
  },
  {
   "cell_type": "code",
   "execution_count": 10,
   "metadata": {},
   "outputs": [
    {
     "data": {
      "text/html": [
       "<table>\n",
       "<tbody>\n",
       "\t<tr><td>0.032491</td><td>0.000005</td><td>0.000004</td><td>0.000006</td></tr>\n",
       "\t<tr><td>0.033446</td><td>0.022733</td><td>0.050939</td><td>0.000003</td></tr>\n",
       "\t<tr><td>0.000002</td><td>0.000003</td><td>0.043807</td><td>0.000004</td></tr>\n",
       "\t<tr><td>0.000002</td><td>0.020990</td><td>0.014793</td><td>0.000003</td></tr>\n",
       "\t<tr><td>0.033610</td><td>0.000002</td><td>0.000005</td><td>0.000004</td></tr>\n",
       "\t<tr><td>0.092649</td><td>0.255405</td><td>0.226041</td><td>0.205351</td></tr>\n",
       "</tbody>\n",
       "</table>\n"
      ],
      "text/latex": [
       "\\begin{tabular}{llll}\n",
       "\t 0.032491 & 0.000005 & 0.000004 & 0.000006\\\\\n",
       "\t 0.033446 & 0.022733 & 0.050939 & 0.000003\\\\\n",
       "\t 0.000002 & 0.000003 & 0.043807 & 0.000004\\\\\n",
       "\t 0.000002 & 0.020990 & 0.014793 & 0.000003\\\\\n",
       "\t 0.033610 & 0.000002 & 0.000005 & 0.000004\\\\\n",
       "\t 0.092649 & 0.255405 & 0.226041 & 0.205351\\\\\n",
       "\\end{tabular}\n"
      ],
      "text/markdown": [
       "\n",
       "| 0.032491 | 0.000005 | 0.000004 | 0.000006 | \n",
       "| 0.033446 | 0.022733 | 0.050939 | 0.000003 | \n",
       "| 0.000002 | 0.000003 | 0.043807 | 0.000004 | \n",
       "| 0.000002 | 0.020990 | 0.014793 | 0.000003 | \n",
       "| 0.033610 | 0.000002 | 0.000005 | 0.000004 | \n",
       "| 0.092649 | 0.255405 | 0.226041 | 0.205351 | \n",
       "\n",
       "\n"
      ],
      "text/plain": [
       "     [,1]     [,2]     [,3]     [,4]    \n",
       "[1,] 0.032491 0.000005 0.000004 0.000006\n",
       "[2,] 0.033446 0.022733 0.050939 0.000003\n",
       "[3,] 0.000002 0.000003 0.043807 0.000004\n",
       "[4,] 0.000002 0.020990 0.014793 0.000003\n",
       "[5,] 0.033610 0.000002 0.000005 0.000004\n",
       "[6,] 0.092649 0.255405 0.226041 0.205351"
      ]
     },
     "metadata": {},
     "output_type": "display_data"
    }
   ],
   "source": [
    "head(mafs)"
   ]
  },
  {
   "cell_type": "code",
   "execution_count": 9,
   "metadata": {
    "collapsed": true
   },
   "outputs": [],
   "source": [
    "covMat=cbind(All$nInd_NJU, All$nInd_NJE, All$nInd_NYU, All$nInd_NYE)"
   ]
  },
  {
   "cell_type": "code",
   "execution_count": 12,
   "metadata": {
    "scrolled": true
   },
   "outputs": [
    {
     "data": {
      "text/html": [
       "<table>\n",
       "<tbody>\n",
       "\t<tr><td>9 </td><td>12</td><td>11</td><td>11</td></tr>\n",
       "\t<tr><td>7 </td><td>10</td><td>17</td><td>10</td></tr>\n",
       "\t<tr><td>6 </td><td>11</td><td>17</td><td>11</td></tr>\n",
       "\t<tr><td>7 </td><td>11</td><td>17</td><td>10</td></tr>\n",
       "\t<tr><td>7 </td><td>11</td><td>16</td><td>11</td></tr>\n",
       "\t<tr><td>7 </td><td>12</td><td>16</td><td>11</td></tr>\n",
       "</tbody>\n",
       "</table>\n"
      ],
      "text/latex": [
       "\\begin{tabular}{llll}\n",
       "\t 9  & 12 & 11 & 11\\\\\n",
       "\t 7  & 10 & 17 & 10\\\\\n",
       "\t 6  & 11 & 17 & 11\\\\\n",
       "\t 7  & 11 & 17 & 10\\\\\n",
       "\t 7  & 11 & 16 & 11\\\\\n",
       "\t 7  & 12 & 16 & 11\\\\\n",
       "\\end{tabular}\n"
      ],
      "text/markdown": [
       "\n",
       "| 9  | 12 | 11 | 11 | \n",
       "| 7  | 10 | 17 | 10 | \n",
       "| 6  | 11 | 17 | 11 | \n",
       "| 7  | 11 | 17 | 10 | \n",
       "| 7  | 11 | 16 | 11 | \n",
       "| 7  | 12 | 16 | 11 | \n",
       "\n",
       "\n"
      ],
      "text/plain": [
       "     [,1] [,2] [,3] [,4]\n",
       "[1,] 9    12   11   11  \n",
       "[2,] 7    10   17   10  \n",
       "[3,] 6    11   17   11  \n",
       "[4,] 7    11   17   10  \n",
       "[5,] 7    11   16   11  \n",
       "[6,] 7    12   16   11  "
      ]
     },
     "metadata": {},
     "output_type": "display_data"
    }
   ],
   "source": [
    "head(covMat)"
   ]
  },
  {
   "cell_type": "markdown",
   "metadata": {},
   "source": [
    "Run CMH test with Ne used for other values, 2 generations, 2 replicates. "
   ]
  },
  {
   "cell_type": "code",
   "execution_count": 10,
   "metadata": {
    "scrolled": true
   },
   "outputs": [
    {
     "name": "stderr",
     "output_type": "stream",
     "text": [
      "Warning message in adapted.cmh.test(freq = mafs, coverage = covMat, Ne = Ne, gen = tp, :\n",
      "“Ne value(s) which are not integer are converted to integer”Warning message in adapted.cmh.test(freq = mafs, coverage = covMat, Ne = Ne, gen = tp, :\n",
      "“The counts assuming values 0 or equal the coverage of the considered \n",
      "                    locus are changed to 1 and to coverage-1 respectively.”Warning message in adapted.cmh.test(freq = mafs, coverage = covMat, Ne = Ne, gen = tp, :\n",
      "“The counts assuming values 0 or equal the coverage of the considered \n",
      "                    locus are changed to 1 and to coverage-1 respectively.”"
     ]
    }
   ],
   "source": [
    "Ne=c(296, 424)\n",
    "repl=c(1,2)\n",
    "tp=c(0,2)\n",
    "pvals=adapted.cmh.test(freq=mafs, coverage=covMat, Ne=Ne, gen=tp, repl=repl)\n",
    "\n",
    "#pval <- adapted.cmh.test(freq=afMat, coverage=covMat, Ne=rep(Ne,length(rep)), gen=tp, repl = rep)"
   ]
  },
  {
   "cell_type": "code",
   "execution_count": 14,
   "metadata": {
    "scrolled": true
   },
   "outputs": [
    {
     "data": {
      "text/html": [
       "<ol class=list-inline>\n",
       "\t<li>0.643386940890196</li>\n",
       "\t<li>0.532416047196074</li>\n",
       "\t<li>0.513858005233216</li>\n",
       "\t<li>0.990670813102399</li>\n",
       "\t<li>0.670581852460727</li>\n",
       "\t<li>0.644734663276119</li>\n",
       "</ol>\n"
      ],
      "text/latex": [
       "\\begin{enumerate*}\n",
       "\\item 0.643386940890196\n",
       "\\item 0.532416047196074\n",
       "\\item 0.513858005233216\n",
       "\\item 0.990670813102399\n",
       "\\item 0.670581852460727\n",
       "\\item 0.644734663276119\n",
       "\\end{enumerate*}\n"
      ],
      "text/markdown": [
       "1. 0.643386940890196\n",
       "2. 0.532416047196074\n",
       "3. 0.513858005233216\n",
       "4. 0.990670813102399\n",
       "5. 0.670581852460727\n",
       "6. 0.644734663276119\n",
       "\n",
       "\n"
      ],
      "text/plain": [
       "[1] 0.6433869 0.5324160 0.5138580 0.9906708 0.6705819 0.6447347"
      ]
     },
     "metadata": {},
     "output_type": "display_data"
    }
   ],
   "source": [
    "head(pvals)"
   ]
  },
  {
   "cell_type": "code",
   "execution_count": 11,
   "metadata": {
    "collapsed": true
   },
   "outputs": [],
   "source": [
    "pvalsCMH=as.data.frame(cbind(All$Scaffold, All$Position, pvals))"
   ]
  },
  {
   "cell_type": "code",
   "execution_count": 12,
   "metadata": {
    "collapsed": true
   },
   "outputs": [],
   "source": [
    "colnames(pvalsCMH)=c(\"Scaffold\", \"SNP\", \"pvals\")"
   ]
  },
  {
   "cell_type": "code",
   "execution_count": 15,
   "metadata": {},
   "outputs": [
    {
     "data": {
      "text/html": [
       "<table>\n",
       "<thead><tr><th scope=col>Scaffold</th><th scope=col>SNP</th><th scope=col>pvals</th><th scope=col>padj</th></tr></thead>\n",
       "<tbody>\n",
       "\t<tr><td>AAPE02055386</td><td>57060       </td><td>0.6433869   </td><td>0.9944813   </td></tr>\n",
       "\t<tr><td>AAPE02055386</td><td>67758       </td><td>0.5324160   </td><td>0.9719756   </td></tr>\n",
       "\t<tr><td>AAPE02055386</td><td>67765       </td><td>0.5138580   </td><td>0.9700217   </td></tr>\n",
       "\t<tr><td>AAPE02055386</td><td>67766       </td><td>0.9906708   </td><td>1.0000000   </td></tr>\n",
       "\t<tr><td>AAPE02055386</td><td>67785       </td><td>0.6705819   </td><td>0.9944813   </td></tr>\n",
       "\t<tr><td>AAPE02055386</td><td>67795       </td><td>0.6447347   </td><td>0.9944813   </td></tr>\n",
       "</tbody>\n",
       "</table>\n"
      ],
      "text/latex": [
       "\\begin{tabular}{r|llll}\n",
       " Scaffold & SNP & pvals & padj\\\\\n",
       "\\hline\n",
       "\t AAPE02055386 & 57060        & 0.6433869    & 0.9944813   \\\\\n",
       "\t AAPE02055386 & 67758        & 0.5324160    & 0.9719756   \\\\\n",
       "\t AAPE02055386 & 67765        & 0.5138580    & 0.9700217   \\\\\n",
       "\t AAPE02055386 & 67766        & 0.9906708    & 1.0000000   \\\\\n",
       "\t AAPE02055386 & 67785        & 0.6705819    & 0.9944813   \\\\\n",
       "\t AAPE02055386 & 67795        & 0.6447347    & 0.9944813   \\\\\n",
       "\\end{tabular}\n"
      ],
      "text/markdown": [
       "\n",
       "Scaffold | SNP | pvals | padj | \n",
       "|---|---|---|---|---|---|\n",
       "| AAPE02055386 | 57060        | 0.6433869    | 0.9944813    | \n",
       "| AAPE02055386 | 67758        | 0.5324160    | 0.9719756    | \n",
       "| AAPE02055386 | 67765        | 0.5138580    | 0.9700217    | \n",
       "| AAPE02055386 | 67766        | 0.9906708    | 1.0000000    | \n",
       "| AAPE02055386 | 67785        | 0.6705819    | 0.9944813    | \n",
       "| AAPE02055386 | 67795        | 0.6447347    | 0.9944813    | \n",
       "\n",
       "\n"
      ],
      "text/plain": [
       "  Scaffold     SNP   pvals     padj     \n",
       "1 AAPE02055386 57060 0.6433869 0.9944813\n",
       "2 AAPE02055386 67758 0.5324160 0.9719756\n",
       "3 AAPE02055386 67765 0.5138580 0.9700217\n",
       "4 AAPE02055386 67766 0.9906708 1.0000000\n",
       "5 AAPE02055386 67785 0.6705819 0.9944813\n",
       "6 AAPE02055386 67795 0.6447347 0.9944813"
      ]
     },
     "metadata": {},
     "output_type": "display_data"
    }
   ],
   "source": [
    "head(pvalsCMH)"
   ]
  },
  {
   "cell_type": "code",
   "execution_count": 13,
   "metadata": {
    "collapsed": true
   },
   "outputs": [],
   "source": [
    "pvalsCMH$pvals=as.numeric(as.character(pvalsCMH$pvals))"
   ]
  },
  {
   "cell_type": "code",
   "execution_count": 14,
   "metadata": {
    "collapsed": true
   },
   "outputs": [],
   "source": [
    "pvalsCMH$padj=p.adjust(pvalsCMH$pvals, method=\"fdr\")"
   ]
  },
  {
   "cell_type": "code",
   "execution_count": 45,
   "metadata": {},
   "outputs": [
    {
     "data": {
      "text/html": [
       "0.000139319612348081"
      ],
      "text/latex": [
       "0.000139319612348081"
      ],
      "text/markdown": [
       "0.000139319612348081"
      ],
      "text/plain": [
       "[1] 0.0001393196"
      ]
     },
     "metadata": {},
     "output_type": "display_data"
    }
   ],
   "source": [
    "min(pvalsCMH$padj)"
   ]
  },
  {
   "cell_type": "code",
   "execution_count": 25,
   "metadata": {
    "collapsed": true
   },
   "outputs": [],
   "source": [
    "sigcmhvals=pvalsCMH[pvalsCMH$padj<.2,]"
   ]
  },
  {
   "cell_type": "code",
   "execution_count": 16,
   "metadata": {
    "collapsed": true
   },
   "outputs": [],
   "source": [
    "FDRrates=seq(from = 0, to = .5, by = 0.01)\n",
    "results=data.frame(ncol=2, nrow=length(FDRrates))\n",
    " for (i in 1:length(FDRrates)){\n",
    "     rate=FDRrates[i]\n",
    "     sigcmhvals=pvalsCMH[pvalsCMH$padj<rate,]\n",
    "     num=NROW(sigcmhvals)\n",
    "     results[i,]=c(rate, num)\n",
    "\n",
    "     }"
   ]
  },
  {
   "cell_type": "code",
   "execution_count": 22,
   "metadata": {
    "collapsed": true
   },
   "outputs": [],
   "source": [
    "results$fd=results$ncol*results$nrow"
   ]
  },
  {
   "cell_type": "code",
   "execution_count": 23,
   "metadata": {
    "collapsed": true
   },
   "outputs": [],
   "source": [
    "colnames(results)=c(\"fdr\", \"num\", \"fd\")"
   ]
  },
  {
   "cell_type": "code",
   "execution_count": 20,
   "metadata": {},
   "outputs": [
    {
     "name": "stderr",
     "output_type": "stream",
     "text": [
      "Loading required package: ggplot2\n"
     ]
    }
   ],
   "source": [
    "require(ggplot2)"
   ]
  },
  {
   "cell_type": "code",
   "execution_count": 24,
   "metadata": {},
   "outputs": [
    {
     "data": {},
     "metadata": {},
     "output_type": "display_data"
    },
    {
     "data": {
      "image/png": "[encoded data removed]",
      "text/plain": [
       "plot without title"
      ]
     },
     "metadata": {},
     "output_type": "display_data"
    }
   ],
   "source": [
    "ggplot(results, aes(x=fdr)) +\n",
    "    geom_line( aes(y=num))  +\n",
    "      geom_line( aes(y=fd), linetype=\"dashed\")  +\n",
    "    theme_bw() +\n",
    "    xlab(\"False discovery rate\")+\n",
    "    ylab(\"Number significant observations\")+\n",
    "    theme(legend.position=\"none\", panel.border = element_blank(), \n",
    "          panel.grid.major.x = element_blank(), \n",
    "          panel.grid.minor.x = element_blank(),\n",
    "        axis.line=element_line(color=\"black\"), axis.text=element_text(color=\"black\"),\n",
    "          text = element_text(size=20)\n",
    "    )"
   ]
  },
  {
   "cell_type": "code",
   "execution_count": 17,
   "metadata": {
    "collapsed": true
   },
   "outputs": [],
   "source": [
    "sigcmhvals=pvalsCMH[pvalsCMH$padj<0.2,]\n"
   ]
  },
  {
   "cell_type": "code",
   "execution_count": 26,
   "metadata": {},
   "outputs": [
    {
     "name": "stderr",
     "output_type": "stream",
     "text": [
      "Saving 6.67 x 6.67 in image\n"
     ]
    }
   ],
   "source": [
    "ggsave(device=\"pdf\", filename = \"/data/sarahgw/WGS/SNPS/All_mylu/mafs/FDR_plot_cmh.pdf\")"
   ]
  },
  {
   "cell_type": "code",
   "execution_count": null,
   "metadata": {
    "collapsed": true
   },
   "outputs": [],
   "source": []
  },
  {
   "cell_type": "code",
   "execution_count": 17,
   "metadata": {
    "collapsed": true
   },
   "outputs": [],
   "source": [
    "write.csv(sigcmhvals2, file=\"/data/sarahgw/WGS/SNPS/All_mylu/snps/NJNYnoout_sigCMH.csv\")"
   ]
  },
  {
   "cell_type": "code",
   "execution_count": 7,
   "metadata": {
    "collapsed": true
   },
   "outputs": [],
   "source": [
    "sigcmhvals=read.csv(\"/data/sarahgw/WGS/SNPS/All_mylu/snps/NJNYnoout_sigCMH.csv\", header=T)"
   ]
  },
  {
   "cell_type": "code",
   "execution_count": 12,
   "metadata": {},
   "outputs": [],
   "source": [
    "sigcmhvals2=merge(sigcmhvals, majmin, by=c(\"Scaffold\", \"SNP\"))"
   ]
  },
  {
   "cell_type": "code",
   "execution_count": 16,
   "metadata": {},
   "outputs": [
    {
     "data": {
      "text/html": [
       "<table>\n",
       "<thead><tr><th scope=col>Scaffold</th><th scope=col>SNP</th><th scope=col>X</th><th scope=col>pvals</th><th scope=col>padj</th><th scope=col>Major</th><th scope=col>Minor</th></tr></thead>\n",
       "<tbody>\n",
       "\t<tr><td>AAPE02057001</td><td> 9655       </td><td> 1250       </td><td>3.915512e-05</td><td>0.1931030   </td><td>A           </td><td>C           </td></tr>\n",
       "\t<tr><td>AAPE02057833</td><td>26393       </td><td>13652       </td><td>3.611203e-05</td><td>0.1880243   </td><td>A           </td><td>G           </td></tr>\n",
       "\t<tr><td>AAPE02057895</td><td>53755       </td><td>16958       </td><td>2.982438e-05</td><td>0.1752540   </td><td>A           </td><td>C           </td></tr>\n",
       "\t<tr><td>AAPE02058260</td><td>28681       </td><td>17313       </td><td>1.488156e-05</td><td>0.1365398   </td><td>C           </td><td>T           </td></tr>\n",
       "\t<tr><td>AAPE02058260</td><td>28736       </td><td>17316       </td><td>1.039298e-05</td><td>0.1204305   </td><td>G           </td><td>T           </td></tr>\n",
       "\t<tr><td>AAPE02058873</td><td>26556       </td><td>22923       </td><td>3.234229e-05</td><td>0.1813250   </td><td>C           </td><td>T           </td></tr>\n",
       "</tbody>\n",
       "</table>\n"
      ],
      "text/latex": [
       "\\begin{tabular}{r|lllllll}\n",
       " Scaffold & SNP & X & pvals & padj & Major & Minor\\\\\n",
       "\\hline\n",
       "\t AAPE02057001 &  9655        &  1250        & 3.915512e-05 & 0.1931030    & A            & C           \\\\\n",
       "\t AAPE02057833 & 26393        & 13652        & 3.611203e-05 & 0.1880243    & A            & G           \\\\\n",
       "\t AAPE02057895 & 53755        & 16958        & 2.982438e-05 & 0.1752540    & A            & C           \\\\\n",
       "\t AAPE02058260 & 28681        & 17313        & 1.488156e-05 & 0.1365398    & C            & T           \\\\\n",
       "\t AAPE02058260 & 28736        & 17316        & 1.039298e-05 & 0.1204305    & G            & T           \\\\\n",
       "\t AAPE02058873 & 26556        & 22923        & 3.234229e-05 & 0.1813250    & C            & T           \\\\\n",
       "\\end{tabular}\n"
      ],
      "text/markdown": [
       "\n",
       "Scaffold | SNP | X | pvals | padj | Major | Minor | \n",
       "|---|---|---|---|---|---|\n",
       "| AAPE02057001 |  9655        |  1250        | 3.915512e-05 | 0.1931030    | A            | C            | \n",
       "| AAPE02057833 | 26393        | 13652        | 3.611203e-05 | 0.1880243    | A            | G            | \n",
       "| AAPE02057895 | 53755        | 16958        | 2.982438e-05 | 0.1752540    | A            | C            | \n",
       "| AAPE02058260 | 28681        | 17313        | 1.488156e-05 | 0.1365398    | C            | T            | \n",
       "| AAPE02058260 | 28736        | 17316        | 1.039298e-05 | 0.1204305    | G            | T            | \n",
       "| AAPE02058873 | 26556        | 22923        | 3.234229e-05 | 0.1813250    | C            | T            | \n",
       "\n",
       "\n"
      ],
      "text/plain": [
       "  Scaffold     SNP   X     pvals        padj      Major Minor\n",
       "1 AAPE02057001  9655  1250 3.915512e-05 0.1931030 A     C    \n",
       "2 AAPE02057833 26393 13652 3.611203e-05 0.1880243 A     G    \n",
       "3 AAPE02057895 53755 16958 2.982438e-05 0.1752540 A     C    \n",
       "4 AAPE02058260 28681 17313 1.488156e-05 0.1365398 C     T    \n",
       "5 AAPE02058260 28736 17316 1.039298e-05 0.1204305 G     T    \n",
       "6 AAPE02058873 26556 22923 3.234229e-05 0.1813250 C     T    "
      ]
     },
     "metadata": {},
     "output_type": "display_data"
    }
   ],
   "source": [
    "head(sigcmhvals2)"
   ]
  },
  {
   "cell_type": "code",
   "execution_count": 13,
   "metadata": {},
   "outputs": [
    {
     "data": {
      "text/html": [
       "<table>\n",
       "<thead><tr><th scope=col>Scaffold</th><th scope=col>SNP</th><th scope=col>X</th><th scope=col>pvals</th><th scope=col>padj</th><th scope=col>Major</th><th scope=col>Minor</th></tr></thead>\n",
       "<tbody>\n",
       "\t<tr><td>AAPE02057001</td><td> 9655       </td><td>  1250      </td><td>3.915512e-05</td><td>0.19310297  </td><td>A           </td><td>C           </td></tr>\n",
       "\t<tr><td>AAPE02057833</td><td>26393       </td><td> 13652      </td><td>3.611203e-05</td><td>0.18802431  </td><td>A           </td><td>G           </td></tr>\n",
       "\t<tr><td>AAPE02057895</td><td>53755       </td><td> 16958      </td><td>2.982438e-05</td><td>0.17525403  </td><td>A           </td><td>C           </td></tr>\n",
       "\t<tr><td>AAPE02058260</td><td>28681       </td><td> 17313      </td><td>1.488156e-05</td><td>0.13653983  </td><td>C           </td><td>T           </td></tr>\n",
       "\t<tr><td>AAPE02058260</td><td>28736       </td><td> 17316      </td><td>1.039298e-05</td><td>0.12043055  </td><td>G           </td><td>T           </td></tr>\n",
       "\t<tr><td>AAPE02058873</td><td>26556       </td><td> 22923      </td><td>3.234229e-05</td><td>0.18132504  </td><td>C           </td><td>T           </td></tr>\n",
       "\t<tr><td>AAPE02059189</td><td>15644       </td><td> 27478      </td><td>4.203009e-06</td><td>0.08528207  </td><td>G           </td><td>T           </td></tr>\n",
       "\t<tr><td>AAPE02059189</td><td>15750       </td><td> 27487      </td><td>1.150925e-05</td><td>0.12451493  </td><td>G           </td><td>A           </td></tr>\n",
       "\t<tr><td>AAPE02059486</td><td>36281       </td><td> 29115      </td><td>1.653064e-05</td><td>0.14231706  </td><td>G           </td><td>A           </td></tr>\n",
       "\t<tr><td>AAPE02059599</td><td>22315       </td><td> 30604      </td><td>2.576744e-05</td><td>0.16498070  </td><td>T           </td><td>C           </td></tr>\n",
       "\t<tr><td>AAPE02059957</td><td> 7313       </td><td> 33456      </td><td>2.135638e-05</td><td>0.15503449  </td><td>C           </td><td>T           </td></tr>\n",
       "\t<tr><td>AAPE02059957</td><td> 8770       </td><td> 33566      </td><td>2.173739e-05</td><td>0.15592577  </td><td>T           </td><td>A           </td></tr>\n",
       "\t<tr><td>AAPE02060238</td><td>18221       </td><td> 36809      </td><td>2.811563e-05</td><td>0.17131134  </td><td>G           </td><td>A           </td></tr>\n",
       "\t<tr><td>AAPE02060516</td><td>19161       </td><td> 39587      </td><td>4.018403e-05</td><td>0.19502185  </td><td>A           </td><td>G           </td></tr>\n",
       "\t<tr><td>AAPE02060630</td><td>22443       </td><td> 41177      </td><td>2.371140e-05</td><td>0.16012734  </td><td>A           </td><td>G           </td></tr>\n",
       "\t<tr><td>AAPE02061572</td><td>18323       </td><td> 55292      </td><td>1.782444e-05</td><td>0.14646919  </td><td>A           </td><td>T           </td></tr>\n",
       "\t<tr><td>AAPE02062055</td><td>17986       </td><td> 62363      </td><td>5.625225e-06</td><td>0.09491013  </td><td>G           </td><td>A           </td></tr>\n",
       "\t<tr><td>AAPE02062691</td><td>18808       </td><td> 74415      </td><td>7.979118e-07</td><td>0.04335267  </td><td>G           </td><td>A           </td></tr>\n",
       "\t<tr><td>AAPE02063265</td><td> 9443       </td><td> 85934      </td><td>7.028537e-06</td><td>0.10408504  </td><td>C           </td><td>G           </td></tr>\n",
       "\t<tr><td>AAPE02063842</td><td> 2708       </td><td> 95393      </td><td>7.407165e-06</td><td>0.10651326  </td><td>A           </td><td>G           </td></tr>\n",
       "\t<tr><td>AAPE02063842</td><td> 2770       </td><td> 95396      </td><td>3.228393e-05</td><td>0.18111346  </td><td>A           </td><td>G           </td></tr>\n",
       "\t<tr><td>AAPE02063842</td><td> 2784       </td><td> 95397      </td><td>3.324079e-07</td><td>0.02974390  </td><td>T           </td><td>C           </td></tr>\n",
       "\t<tr><td>AAPE02063842</td><td> 2807       </td><td> 95399      </td><td>4.599831e-07</td><td>0.03470210  </td><td>G           </td><td>A           </td></tr>\n",
       "\t<tr><td>AAPE02064211</td><td> 6252       </td><td>104976      </td><td>4.556964e-06</td><td>0.08805457  </td><td>A           </td><td>C           </td></tr>\n",
       "\t<tr><td>AAPE02064230</td><td>12160       </td><td>105319      </td><td>1.332523e-07</td><td>0.02116253  </td><td>T           </td><td>A           </td></tr>\n",
       "\t<tr><td>AAPE02064534</td><td> 3466       </td><td>110639      </td><td>7.387908e-08</td><td>0.01592291  </td><td>G           </td><td>A           </td></tr>\n",
       "\t<tr><td>AAPE02064534</td><td> 5413       </td><td>110718      </td><td>3.332183e-05</td><td>0.18313130  </td><td>A           </td><td>C           </td></tr>\n",
       "\t<tr><td>AAPE02064576</td><td> 5660       </td><td>111744      </td><td>2.615632e-06</td><td>0.07059614  </td><td>C           </td><td>T           </td></tr>\n",
       "\t<tr><td>AAPE02064754</td><td> 8288       </td><td>114076      </td><td>1.401205e-05</td><td>0.13359286  </td><td>G           </td><td>C           </td></tr>\n",
       "\t<tr><td>AAPE02064966</td><td> 7853       </td><td>118755      </td><td>2.504479e-05</td><td>0.16332959  </td><td>G           </td><td>T           </td></tr>\n",
       "\t<tr><td>⋮</td><td>⋮</td><td>⋮</td><td>⋮</td><td>⋮</td><td>⋮</td><td>⋮</td></tr>\n",
       "\t<tr><td>GL431311    </td><td>50130       </td><td>44682923    </td><td>3.696548e-05</td><td>0.18899077  </td><td>G           </td><td>A           </td></tr>\n",
       "\t<tr><td>GL431314    </td><td>39063       </td><td>44683354    </td><td>2.224909e-05</td><td>0.15699005  </td><td>T           </td><td>A           </td></tr>\n",
       "\t<tr><td>GL431330    </td><td>25541       </td><td>44687351    </td><td>3.953461e-05</td><td>0.19397157  </td><td>G           </td><td>A           </td></tr>\n",
       "\t<tr><td>GL431350    </td><td>49286       </td><td>44694842    </td><td>2.820279e-05</td><td>0.17153379  </td><td>T           </td><td>G           </td></tr>\n",
       "\t<tr><td>GL431366    </td><td>36982       </td><td>44698895    </td><td>4.221006e-05</td><td>0.19859966  </td><td>G           </td><td>T           </td></tr>\n",
       "\t<tr><td>GL431377    </td><td>46946       </td><td>44700481    </td><td>2.323681e-06</td><td>0.06707635  </td><td>C           </td><td>T           </td></tr>\n",
       "\t<tr><td>GL431435    </td><td>16634       </td><td>44714627    </td><td>1.161569e-05</td><td>0.12491179  </td><td>G           </td><td>A           </td></tr>\n",
       "\t<tr><td>GL431446    </td><td> 6273       </td><td>44716909    </td><td>1.171558e-05</td><td>0.12502800  </td><td>G           </td><td>T           </td></tr>\n",
       "\t<tr><td>GL431503    </td><td>32717       </td><td>44727745    </td><td>3.126358e-05</td><td>0.17853908  </td><td>A           </td><td>G           </td></tr>\n",
       "\t<tr><td>GL431529    </td><td>11772       </td><td>44731555    </td><td>2.087624e-05</td><td>0.15395164  </td><td>A           </td><td>G           </td></tr>\n",
       "\t<tr><td>GL431595    </td><td>30539       </td><td>44743562    </td><td>8.277312e-06</td><td>0.11013988  </td><td>A           </td><td>G           </td></tr>\n",
       "\t<tr><td>GL431612    </td><td>11676       </td><td>44745427    </td><td>5.095446e-07</td><td>0.03602817  </td><td>T           </td><td>C           </td></tr>\n",
       "\t<tr><td>GL431626    </td><td>27372       </td><td>44747530    </td><td>4.740935e-06</td><td>0.08960114  </td><td>A           </td><td>G           </td></tr>\n",
       "\t<tr><td>GL431629    </td><td>23226       </td><td>44747748    </td><td>4.253513e-06</td><td>0.08565851  </td><td>A           </td><td>G           </td></tr>\n",
       "\t<tr><td>GL431629    </td><td>23231       </td><td>44747749    </td><td>1.645838e-05</td><td>0.14213479  </td><td>A           </td><td>G           </td></tr>\n",
       "\t<tr><td>GL431720    </td><td>21764       </td><td>44761929    </td><td>4.212615e-07</td><td>0.03301566  </td><td>A           </td><td>G           </td></tr>\n",
       "\t<tr><td>GL431720    </td><td>21776       </td><td>44761932    </td><td>4.010454e-05</td><td>0.19492101  </td><td>T           </td><td>C           </td></tr>\n",
       "\t<tr><td>GL431765    </td><td> 7742       </td><td>44766769    </td><td>3.278843e-06</td><td>0.07682595  </td><td>C           </td><td>T           </td></tr>\n",
       "\t<tr><td>GL431778    </td><td>12744       </td><td>44768369    </td><td>1.939934e-05</td><td>0.15080000  </td><td>G           </td><td>T           </td></tr>\n",
       "\t<tr><td>GL431823    </td><td> 7257       </td><td>44771612    </td><td>3.266792e-05</td><td>0.18192240  </td><td>A           </td><td>C           </td></tr>\n",
       "\t<tr><td>GL431845    </td><td>25497       </td><td>44774281    </td><td>1.673065e-05</td><td>0.14310764  </td><td>C           </td><td>T           </td></tr>\n",
       "\t<tr><td>GL431867    </td><td>46822       </td><td>44776880    </td><td>2.588275e-06</td><td>0.07016603  </td><td>A           </td><td>G           </td></tr>\n",
       "\t<tr><td>GL431872    </td><td> 4720       </td><td>44777109    </td><td>4.072179e-05</td><td>0.19601178  </td><td>T           </td><td>C           </td></tr>\n",
       "\t<tr><td>GL432056    </td><td>18039       </td><td>44792120    </td><td>5.207759e-07</td><td>0.03635642  </td><td>C           </td><td>A           </td></tr>\n",
       "\t<tr><td>GL432074    </td><td> 4238       </td><td>44793464    </td><td>3.430447e-05</td><td>0.18466486  </td><td>T           </td><td>C           </td></tr>\n",
       "\t<tr><td>GL432156    </td><td>11147       </td><td>44799786    </td><td>2.509506e-05</td><td>0.16337498  </td><td>A           </td><td>G           </td></tr>\n",
       "\t<tr><td>GL432386    </td><td> 9334       </td><td>44811880    </td><td>1.495741e-05</td><td>0.13679308  </td><td>T           </td><td>C           </td></tr>\n",
       "\t<tr><td>GL432529    </td><td>  341       </td><td>44817710    </td><td>6.783212e-06</td><td>0.10246838  </td><td>A           </td><td>G           </td></tr>\n",
       "\t<tr><td>GL432530    </td><td> 9245       </td><td>44817898    </td><td>1.378183e-05</td><td>0.13272463  </td><td>T           </td><td>A           </td></tr>\n",
       "\t<tr><td>GL432768    </td><td>  965       </td><td>44824256    </td><td>1.599259e-06</td><td>0.05641082  </td><td>C           </td><td>T           </td></tr>\n",
       "</tbody>\n",
       "</table>\n"
      ],
      "text/latex": [
       "\\begin{tabular}{r|lllllll}\n",
       " Scaffold & SNP & X & pvals & padj & Major & Minor\\\\\n",
       "\\hline\n",
       "\t AAPE02057001 &  9655        &   1250       & 3.915512e-05 & 0.19310297   & A            & C           \\\\\n",
       "\t AAPE02057833 & 26393        &  13652       & 3.611203e-05 & 0.18802431   & A            & G           \\\\\n",
       "\t AAPE02057895 & 53755        &  16958       & 2.982438e-05 & 0.17525403   & A            & C           \\\\\n",
       "\t AAPE02058260 & 28681        &  17313       & 1.488156e-05 & 0.13653983   & C            & T           \\\\\n",
       "\t AAPE02058260 & 28736        &  17316       & 1.039298e-05 & 0.12043055   & G            & T           \\\\\n",
       "\t AAPE02058873 & 26556        &  22923       & 3.234229e-05 & 0.18132504   & C            & T           \\\\\n",
       "\t AAPE02059189 & 15644        &  27478       & 4.203009e-06 & 0.08528207   & G            & T           \\\\\n",
       "\t AAPE02059189 & 15750        &  27487       & 1.150925e-05 & 0.12451493   & G            & A           \\\\\n",
       "\t AAPE02059486 & 36281        &  29115       & 1.653064e-05 & 0.14231706   & G            & A           \\\\\n",
       "\t AAPE02059599 & 22315        &  30604       & 2.576744e-05 & 0.16498070   & T            & C           \\\\\n",
       "\t AAPE02059957 &  7313        &  33456       & 2.135638e-05 & 0.15503449   & C            & T           \\\\\n",
       "\t AAPE02059957 &  8770        &  33566       & 2.173739e-05 & 0.15592577   & T            & A           \\\\\n",
       "\t AAPE02060238 & 18221        &  36809       & 2.811563e-05 & 0.17131134   & G            & A           \\\\\n",
       "\t AAPE02060516 & 19161        &  39587       & 4.018403e-05 & 0.19502185   & A            & G           \\\\\n",
       "\t AAPE02060630 & 22443        &  41177       & 2.371140e-05 & 0.16012734   & A            & G           \\\\\n",
       "\t AAPE02061572 & 18323        &  55292       & 1.782444e-05 & 0.14646919   & A            & T           \\\\\n",
       "\t AAPE02062055 & 17986        &  62363       & 5.625225e-06 & 0.09491013   & G            & A           \\\\\n",
       "\t AAPE02062691 & 18808        &  74415       & 7.979118e-07 & 0.04335267   & G            & A           \\\\\n",
       "\t AAPE02063265 &  9443        &  85934       & 7.028537e-06 & 0.10408504   & C            & G           \\\\\n",
       "\t AAPE02063842 &  2708        &  95393       & 7.407165e-06 & 0.10651326   & A            & G           \\\\\n",
       "\t AAPE02063842 &  2770        &  95396       & 3.228393e-05 & 0.18111346   & A            & G           \\\\\n",
       "\t AAPE02063842 &  2784        &  95397       & 3.324079e-07 & 0.02974390   & T            & C           \\\\\n",
       "\t AAPE02063842 &  2807        &  95399       & 4.599831e-07 & 0.03470210   & G            & A           \\\\\n",
       "\t AAPE02064211 &  6252        & 104976       & 4.556964e-06 & 0.08805457   & A            & C           \\\\\n",
       "\t AAPE02064230 & 12160        & 105319       & 1.332523e-07 & 0.02116253   & T            & A           \\\\\n",
       "\t AAPE02064534 &  3466        & 110639       & 7.387908e-08 & 0.01592291   & G            & A           \\\\\n",
       "\t AAPE02064534 &  5413        & 110718       & 3.332183e-05 & 0.18313130   & A            & C           \\\\\n",
       "\t AAPE02064576 &  5660        & 111744       & 2.615632e-06 & 0.07059614   & C            & T           \\\\\n",
       "\t AAPE02064754 &  8288        & 114076       & 1.401205e-05 & 0.13359286   & G            & C           \\\\\n",
       "\t AAPE02064966 &  7853        & 118755       & 2.504479e-05 & 0.16332959   & G            & T           \\\\\n",
       "\t ⋮ & ⋮ & ⋮ & ⋮ & ⋮ & ⋮ & ⋮\\\\\n",
       "\t GL431311     & 50130        & 44682923     & 3.696548e-05 & 0.18899077   & G            & A           \\\\\n",
       "\t GL431314     & 39063        & 44683354     & 2.224909e-05 & 0.15699005   & T            & A           \\\\\n",
       "\t GL431330     & 25541        & 44687351     & 3.953461e-05 & 0.19397157   & G            & A           \\\\\n",
       "\t GL431350     & 49286        & 44694842     & 2.820279e-05 & 0.17153379   & T            & G           \\\\\n",
       "\t GL431366     & 36982        & 44698895     & 4.221006e-05 & 0.19859966   & G            & T           \\\\\n",
       "\t GL431377     & 46946        & 44700481     & 2.323681e-06 & 0.06707635   & C            & T           \\\\\n",
       "\t GL431435     & 16634        & 44714627     & 1.161569e-05 & 0.12491179   & G            & A           \\\\\n",
       "\t GL431446     &  6273        & 44716909     & 1.171558e-05 & 0.12502800   & G            & T           \\\\\n",
       "\t GL431503     & 32717        & 44727745     & 3.126358e-05 & 0.17853908   & A            & G           \\\\\n",
       "\t GL431529     & 11772        & 44731555     & 2.087624e-05 & 0.15395164   & A            & G           \\\\\n",
       "\t GL431595     & 30539        & 44743562     & 8.277312e-06 & 0.11013988   & A            & G           \\\\\n",
       "\t GL431612     & 11676        & 44745427     & 5.095446e-07 & 0.03602817   & T            & C           \\\\\n",
       "\t GL431626     & 27372        & 44747530     & 4.740935e-06 & 0.08960114   & A            & G           \\\\\n",
       "\t GL431629     & 23226        & 44747748     & 4.253513e-06 & 0.08565851   & A            & G           \\\\\n",
       "\t GL431629     & 23231        & 44747749     & 1.645838e-05 & 0.14213479   & A            & G           \\\\\n",
       "\t GL431720     & 21764        & 44761929     & 4.212615e-07 & 0.03301566   & A            & G           \\\\\n",
       "\t GL431720     & 21776        & 44761932     & 4.010454e-05 & 0.19492101   & T            & C           \\\\\n",
       "\t GL431765     &  7742        & 44766769     & 3.278843e-06 & 0.07682595   & C            & T           \\\\\n",
       "\t GL431778     & 12744        & 44768369     & 1.939934e-05 & 0.15080000   & G            & T           \\\\\n",
       "\t GL431823     &  7257        & 44771612     & 3.266792e-05 & 0.18192240   & A            & C           \\\\\n",
       "\t GL431845     & 25497        & 44774281     & 1.673065e-05 & 0.14310764   & C            & T           \\\\\n",
       "\t GL431867     & 46822        & 44776880     & 2.588275e-06 & 0.07016603   & A            & G           \\\\\n",
       "\t GL431872     &  4720        & 44777109     & 4.072179e-05 & 0.19601178   & T            & C           \\\\\n",
       "\t GL432056     & 18039        & 44792120     & 5.207759e-07 & 0.03635642   & C            & A           \\\\\n",
       "\t GL432074     &  4238        & 44793464     & 3.430447e-05 & 0.18466486   & T            & C           \\\\\n",
       "\t GL432156     & 11147        & 44799786     & 2.509506e-05 & 0.16337498   & A            & G           \\\\\n",
       "\t GL432386     &  9334        & 44811880     & 1.495741e-05 & 0.13679308   & T            & C           \\\\\n",
       "\t GL432529     &   341        & 44817710     & 6.783212e-06 & 0.10246838   & A            & G           \\\\\n",
       "\t GL432530     &  9245        & 44817898     & 1.378183e-05 & 0.13272463   & T            & A           \\\\\n",
       "\t GL432768     &   965        & 44824256     & 1.599259e-06 & 0.05641082   & C            & T           \\\\\n",
       "\\end{tabular}\n"
      ],
      "text/markdown": [
       "\n",
       "Scaffold | SNP | X | pvals | padj | Major | Minor | \n",
       "|---|---|---|---|---|---|---|---|---|---|---|---|---|---|---|---|---|---|---|---|---|---|---|---|---|---|---|---|---|---|---|---|---|---|---|---|---|---|---|---|---|---|---|---|---|---|---|---|---|---|---|---|---|---|---|---|---|---|---|---|---|\n",
       "| AAPE02057001 |  9655        |   1250       | 3.915512e-05 | 0.19310297   | A            | C            | \n",
       "| AAPE02057833 | 26393        |  13652       | 3.611203e-05 | 0.18802431   | A            | G            | \n",
       "| AAPE02057895 | 53755        |  16958       | 2.982438e-05 | 0.17525403   | A            | C            | \n",
       "| AAPE02058260 | 28681        |  17313       | 1.488156e-05 | 0.13653983   | C            | T            | \n",
       "| AAPE02058260 | 28736        |  17316       | 1.039298e-05 | 0.12043055   | G            | T            | \n",
       "| AAPE02058873 | 26556        |  22923       | 3.234229e-05 | 0.18132504   | C            | T            | \n",
       "| AAPE02059189 | 15644        |  27478       | 4.203009e-06 | 0.08528207   | G            | T            | \n",
       "| AAPE02059189 | 15750        |  27487       | 1.150925e-05 | 0.12451493   | G            | A            | \n",
       "| AAPE02059486 | 36281        |  29115       | 1.653064e-05 | 0.14231706   | G            | A            | \n",
       "| AAPE02059599 | 22315        |  30604       | 2.576744e-05 | 0.16498070   | T            | C            | \n",
       "| AAPE02059957 |  7313        |  33456       | 2.135638e-05 | 0.15503449   | C            | T            | \n",
       "| AAPE02059957 |  8770        |  33566       | 2.173739e-05 | 0.15592577   | T            | A            | \n",
       "| AAPE02060238 | 18221        |  36809       | 2.811563e-05 | 0.17131134   | G            | A            | \n",
       "| AAPE02060516 | 19161        |  39587       | 4.018403e-05 | 0.19502185   | A            | G            | \n",
       "| AAPE02060630 | 22443        |  41177       | 2.371140e-05 | 0.16012734   | A            | G            | \n",
       "| AAPE02061572 | 18323        |  55292       | 1.782444e-05 | 0.14646919   | A            | T            | \n",
       "| AAPE02062055 | 17986        |  62363       | 5.625225e-06 | 0.09491013   | G            | A            | \n",
       "| AAPE02062691 | 18808        |  74415       | 7.979118e-07 | 0.04335267   | G            | A            | \n",
       "| AAPE02063265 |  9443        |  85934       | 7.028537e-06 | 0.10408504   | C            | G            | \n",
       "| AAPE02063842 |  2708        |  95393       | 7.407165e-06 | 0.10651326   | A            | G            | \n",
       "| AAPE02063842 |  2770        |  95396       | 3.228393e-05 | 0.18111346   | A            | G            | \n",
       "| AAPE02063842 |  2784        |  95397       | 3.324079e-07 | 0.02974390   | T            | C            | \n",
       "| AAPE02063842 |  2807        |  95399       | 4.599831e-07 | 0.03470210   | G            | A            | \n",
       "| AAPE02064211 |  6252        | 104976       | 4.556964e-06 | 0.08805457   | A            | C            | \n",
       "| AAPE02064230 | 12160        | 105319       | 1.332523e-07 | 0.02116253   | T            | A            | \n",
       "| AAPE02064534 |  3466        | 110639       | 7.387908e-08 | 0.01592291   | G            | A            | \n",
       "| AAPE02064534 |  5413        | 110718       | 3.332183e-05 | 0.18313130   | A            | C            | \n",
       "| AAPE02064576 |  5660        | 111744       | 2.615632e-06 | 0.07059614   | C            | T            | \n",
       "| AAPE02064754 |  8288        | 114076       | 1.401205e-05 | 0.13359286   | G            | C            | \n",
       "| AAPE02064966 |  7853        | 118755       | 2.504479e-05 | 0.16332959   | G            | T            | \n",
       "| ⋮ | ⋮ | ⋮ | ⋮ | ⋮ | ⋮ | ⋮ | \n",
       "| GL431311     | 50130        | 44682923     | 3.696548e-05 | 0.18899077   | G            | A            | \n",
       "| GL431314     | 39063        | 44683354     | 2.224909e-05 | 0.15699005   | T            | A            | \n",
       "| GL431330     | 25541        | 44687351     | 3.953461e-05 | 0.19397157   | G            | A            | \n",
       "| GL431350     | 49286        | 44694842     | 2.820279e-05 | 0.17153379   | T            | G            | \n",
       "| GL431366     | 36982        | 44698895     | 4.221006e-05 | 0.19859966   | G            | T            | \n",
       "| GL431377     | 46946        | 44700481     | 2.323681e-06 | 0.06707635   | C            | T            | \n",
       "| GL431435     | 16634        | 44714627     | 1.161569e-05 | 0.12491179   | G            | A            | \n",
       "| GL431446     |  6273        | 44716909     | 1.171558e-05 | 0.12502800   | G            | T            | \n",
       "| GL431503     | 32717        | 44727745     | 3.126358e-05 | 0.17853908   | A            | G            | \n",
       "| GL431529     | 11772        | 44731555     | 2.087624e-05 | 0.15395164   | A            | G            | \n",
       "| GL431595     | 30539        | 44743562     | 8.277312e-06 | 0.11013988   | A            | G            | \n",
       "| GL431612     | 11676        | 44745427     | 5.095446e-07 | 0.03602817   | T            | C            | \n",
       "| GL431626     | 27372        | 44747530     | 4.740935e-06 | 0.08960114   | A            | G            | \n",
       "| GL431629     | 23226        | 44747748     | 4.253513e-06 | 0.08565851   | A            | G            | \n",
       "| GL431629     | 23231        | 44747749     | 1.645838e-05 | 0.14213479   | A            | G            | \n",
       "| GL431720     | 21764        | 44761929     | 4.212615e-07 | 0.03301566   | A            | G            | \n",
       "| GL431720     | 21776        | 44761932     | 4.010454e-05 | 0.19492101   | T            | C            | \n",
       "| GL431765     |  7742        | 44766769     | 3.278843e-06 | 0.07682595   | C            | T            | \n",
       "| GL431778     | 12744        | 44768369     | 1.939934e-05 | 0.15080000   | G            | T            | \n",
       "| GL431823     |  7257        | 44771612     | 3.266792e-05 | 0.18192240   | A            | C            | \n",
       "| GL431845     | 25497        | 44774281     | 1.673065e-05 | 0.14310764   | C            | T            | \n",
       "| GL431867     | 46822        | 44776880     | 2.588275e-06 | 0.07016603   | A            | G            | \n",
       "| GL431872     |  4720        | 44777109     | 4.072179e-05 | 0.19601178   | T            | C            | \n",
       "| GL432056     | 18039        | 44792120     | 5.207759e-07 | 0.03635642   | C            | A            | \n",
       "| GL432074     |  4238        | 44793464     | 3.430447e-05 | 0.18466486   | T            | C            | \n",
       "| GL432156     | 11147        | 44799786     | 2.509506e-05 | 0.16337498   | A            | G            | \n",
       "| GL432386     |  9334        | 44811880     | 1.495741e-05 | 0.13679308   | T            | C            | \n",
       "| GL432529     |   341        | 44817710     | 6.783212e-06 | 0.10246838   | A            | G            | \n",
       "| GL432530     |  9245        | 44817898     | 1.378183e-05 | 0.13272463   | T            | A            | \n",
       "| GL432768     |   965        | 44824256     | 1.599259e-06 | 0.05641082   | C            | T            | \n",
       "\n",
       "\n"
      ],
      "text/plain": [
       "     Scaffold     SNP   X        pvals        padj       Major Minor\n",
       "1    AAPE02057001  9655   1250   3.915512e-05 0.19310297 A     C    \n",
       "2    AAPE02057833 26393  13652   3.611203e-05 0.18802431 A     G    \n",
       "3    AAPE02057895 53755  16958   2.982438e-05 0.17525403 A     C    \n",
       "4    AAPE02058260 28681  17313   1.488156e-05 0.13653983 C     T    \n",
       "5    AAPE02058260 28736  17316   1.039298e-05 0.12043055 G     T    \n",
       "6    AAPE02058873 26556  22923   3.234229e-05 0.18132504 C     T    \n",
       "7    AAPE02059189 15644  27478   4.203009e-06 0.08528207 G     T    \n",
       "8    AAPE02059189 15750  27487   1.150925e-05 0.12451493 G     A    \n",
       "9    AAPE02059486 36281  29115   1.653064e-05 0.14231706 G     A    \n",
       "10   AAPE02059599 22315  30604   2.576744e-05 0.16498070 T     C    \n",
       "11   AAPE02059957  7313  33456   2.135638e-05 0.15503449 C     T    \n",
       "12   AAPE02059957  8770  33566   2.173739e-05 0.15592577 T     A    \n",
       "13   AAPE02060238 18221  36809   2.811563e-05 0.17131134 G     A    \n",
       "14   AAPE02060516 19161  39587   4.018403e-05 0.19502185 A     G    \n",
       "15   AAPE02060630 22443  41177   2.371140e-05 0.16012734 A     G    \n",
       "16   AAPE02061572 18323  55292   1.782444e-05 0.14646919 A     T    \n",
       "17   AAPE02062055 17986  62363   5.625225e-06 0.09491013 G     A    \n",
       "18   AAPE02062691 18808  74415   7.979118e-07 0.04335267 G     A    \n",
       "19   AAPE02063265  9443  85934   7.028537e-06 0.10408504 C     G    \n",
       "20   AAPE02063842  2708  95393   7.407165e-06 0.10651326 A     G    \n",
       "21   AAPE02063842  2770  95396   3.228393e-05 0.18111346 A     G    \n",
       "22   AAPE02063842  2784  95397   3.324079e-07 0.02974390 T     C    \n",
       "23   AAPE02063842  2807  95399   4.599831e-07 0.03470210 G     A    \n",
       "24   AAPE02064211  6252 104976   4.556964e-06 0.08805457 A     C    \n",
       "25   AAPE02064230 12160 105319   1.332523e-07 0.02116253 T     A    \n",
       "26   AAPE02064534  3466 110639   7.387908e-08 0.01592291 G     A    \n",
       "27   AAPE02064534  5413 110718   3.332183e-05 0.18313130 A     C    \n",
       "28   AAPE02064576  5660 111744   2.615632e-06 0.07059614 C     T    \n",
       "29   AAPE02064754  8288 114076   1.401205e-05 0.13359286 G     C    \n",
       "30   AAPE02064966  7853 118755   2.504479e-05 0.16332959 G     T    \n",
       "⋮    ⋮            ⋮     ⋮        ⋮            ⋮          ⋮     ⋮    \n",
       "9586 GL431311     50130 44682923 3.696548e-05 0.18899077 G     A    \n",
       "9587 GL431314     39063 44683354 2.224909e-05 0.15699005 T     A    \n",
       "9588 GL431330     25541 44687351 3.953461e-05 0.19397157 G     A    \n",
       "9589 GL431350     49286 44694842 2.820279e-05 0.17153379 T     G    \n",
       "9590 GL431366     36982 44698895 4.221006e-05 0.19859966 G     T    \n",
       "9591 GL431377     46946 44700481 2.323681e-06 0.06707635 C     T    \n",
       "9592 GL431435     16634 44714627 1.161569e-05 0.12491179 G     A    \n",
       "9593 GL431446      6273 44716909 1.171558e-05 0.12502800 G     T    \n",
       "9594 GL431503     32717 44727745 3.126358e-05 0.17853908 A     G    \n",
       "9595 GL431529     11772 44731555 2.087624e-05 0.15395164 A     G    \n",
       "9596 GL431595     30539 44743562 8.277312e-06 0.11013988 A     G    \n",
       "9597 GL431612     11676 44745427 5.095446e-07 0.03602817 T     C    \n",
       "9598 GL431626     27372 44747530 4.740935e-06 0.08960114 A     G    \n",
       "9599 GL431629     23226 44747748 4.253513e-06 0.08565851 A     G    \n",
       "9600 GL431629     23231 44747749 1.645838e-05 0.14213479 A     G    \n",
       "9601 GL431720     21764 44761929 4.212615e-07 0.03301566 A     G    \n",
       "9602 GL431720     21776 44761932 4.010454e-05 0.19492101 T     C    \n",
       "9603 GL431765      7742 44766769 3.278843e-06 0.07682595 C     T    \n",
       "9604 GL431778     12744 44768369 1.939934e-05 0.15080000 G     T    \n",
       "9605 GL431823      7257 44771612 3.266792e-05 0.18192240 A     C    \n",
       "9606 GL431845     25497 44774281 1.673065e-05 0.14310764 C     T    \n",
       "9607 GL431867     46822 44776880 2.588275e-06 0.07016603 A     G    \n",
       "9608 GL431872      4720 44777109 4.072179e-05 0.19601178 T     C    \n",
       "9609 GL432056     18039 44792120 5.207759e-07 0.03635642 C     A    \n",
       "9610 GL432074      4238 44793464 3.430447e-05 0.18466486 T     C    \n",
       "9611 GL432156     11147 44799786 2.509506e-05 0.16337498 A     G    \n",
       "9612 GL432386      9334 44811880 1.495741e-05 0.13679308 T     C    \n",
       "9613 GL432529       341 44817710 6.783212e-06 0.10246838 A     G    \n",
       "9614 GL432530      9245 44817898 1.378183e-05 0.13272463 T     A    \n",
       "9615 GL432768       965 44824256 1.599259e-06 0.05641082 C     T    "
      ]
     },
     "metadata": {},
     "output_type": "display_data"
    }
   ],
   "source": [
    "sigcmhvals2"
   ]
  },
  {
   "cell_type": "code",
   "execution_count": 29,
   "metadata": {
    "collapsed": true
   },
   "outputs": [],
   "source": [
    "comPvaluesChrNJNY50outsig=read.csv(\"/data/sarahgw/WGS/SNPS/All_mylu/snps/NJNY502noout_sigCompvalues_nr_Ne424_296_low.csv\")"
   ]
  },
  {
   "cell_type": "code",
   "execution_count": 33,
   "metadata": {
    "scrolled": true
   },
   "outputs": [
    {
     "data": {
      "text/html": [
       "<table>\n",
       "<thead><tr><th scope=col>X</th><th scope=col>Scaffold</th><th scope=col>SNP</th><th scope=col>Maj</th><th scope=col>Min</th><th scope=col>num</th><th scope=col>NJ</th><th scope=col>NY_out</th><th scope=col>Comp</th><th scope=col>rank</th><th scope=col>padjBH</th></tr></thead>\n",
       "<tbody>\n",
       "\t<tr><td>1           </td><td>GL429819    </td><td> 365354     </td><td>G           </td><td>A           </td><td>278         </td><td>9.999990e-07</td><td>9.999990e-07</td><td>2.863097e-11</td><td>1           </td><td>1.463945e-08</td></tr>\n",
       "\t<tr><td>2           </td><td>GL429859    </td><td> 300331     </td><td>T           </td><td>C           </td><td>238         </td><td>9.999990e-07</td><td>9.999990e-07</td><td>2.863097e-11</td><td>2           </td><td>2.927890e-08</td></tr>\n",
       "\t<tr><td>3           </td><td>GL429770    </td><td>8507307     </td><td>A           </td><td>C           </td><td>437         </td><td>9.999990e-07</td><td>1.999998e-06</td><td>5.587564e-11</td><td>3           </td><td>4.391834e-08</td></tr>\n",
       "\t<tr><td>4           </td><td>GL429962    </td><td> 689293     </td><td>A           </td><td>C           </td><td>401         </td><td>1.999998e-06</td><td>9.999990e-07</td><td>5.587564e-11</td><td>4           </td><td>5.855779e-08</td></tr>\n",
       "\t<tr><td>5           </td><td>GL429885    </td><td>2043530     </td><td>T           </td><td>C           </td><td>140         </td><td>9.999990e-07</td><td>6.999993e-06</td><td>1.867954e-10</td><td>5           </td><td>7.319724e-08</td></tr>\n",
       "\t<tr><td>6           </td><td>GL430008    </td><td>1396110     </td><td>C           </td><td>T           </td><td> 76         </td><td>1.999998e-06</td><td>3.999996e-06</td><td>2.124122e-10</td><td>6           </td><td>8.783669e-08</td></tr>\n",
       "</tbody>\n",
       "</table>\n"
      ],
      "text/latex": [
       "\\begin{tabular}{r|lllllllllll}\n",
       " X & Scaffold & SNP & Maj & Min & num & NJ & NY\\_out & Comp & rank & padjBH\\\\\n",
       "\\hline\n",
       "\t 1            & GL429819     &  365354      & G            & A            & 278          & 9.999990e-07 & 9.999990e-07 & 2.863097e-11 & 1            & 1.463945e-08\\\\\n",
       "\t 2            & GL429859     &  300331      & T            & C            & 238          & 9.999990e-07 & 9.999990e-07 & 2.863097e-11 & 2            & 2.927890e-08\\\\\n",
       "\t 3            & GL429770     & 8507307      & A            & C            & 437          & 9.999990e-07 & 1.999998e-06 & 5.587564e-11 & 3            & 4.391834e-08\\\\\n",
       "\t 4            & GL429962     &  689293      & A            & C            & 401          & 1.999998e-06 & 9.999990e-07 & 5.587564e-11 & 4            & 5.855779e-08\\\\\n",
       "\t 5            & GL429885     & 2043530      & T            & C            & 140          & 9.999990e-07 & 6.999993e-06 & 1.867954e-10 & 5            & 7.319724e-08\\\\\n",
       "\t 6            & GL430008     & 1396110      & C            & T            &  76          & 1.999998e-06 & 3.999996e-06 & 2.124122e-10 & 6            & 8.783669e-08\\\\\n",
       "\\end{tabular}\n"
      ],
      "text/markdown": [
       "\n",
       "X | Scaffold | SNP | Maj | Min | num | NJ | NY_out | Comp | rank | padjBH | \n",
       "|---|---|---|---|---|---|\n",
       "| 1            | GL429819     |  365354      | G            | A            | 278          | 9.999990e-07 | 9.999990e-07 | 2.863097e-11 | 1            | 1.463945e-08 | \n",
       "| 2            | GL429859     |  300331      | T            | C            | 238          | 9.999990e-07 | 9.999990e-07 | 2.863097e-11 | 2            | 2.927890e-08 | \n",
       "| 3            | GL429770     | 8507307      | A            | C            | 437          | 9.999990e-07 | 1.999998e-06 | 5.587564e-11 | 3            | 4.391834e-08 | \n",
       "| 4            | GL429962     |  689293      | A            | C            | 401          | 1.999998e-06 | 9.999990e-07 | 5.587564e-11 | 4            | 5.855779e-08 | \n",
       "| 5            | GL429885     | 2043530      | T            | C            | 140          | 9.999990e-07 | 6.999993e-06 | 1.867954e-10 | 5            | 7.319724e-08 | \n",
       "| 6            | GL430008     | 1396110      | C            | T            |  76          | 1.999998e-06 | 3.999996e-06 | 2.124122e-10 | 6            | 8.783669e-08 | \n",
       "\n",
       "\n"
      ],
      "text/plain": [
       "  X Scaffold SNP     Maj Min num NJ           NY_out       Comp         rank\n",
       "1 1 GL429819  365354 G   A   278 9.999990e-07 9.999990e-07 2.863097e-11 1   \n",
       "2 2 GL429859  300331 T   C   238 9.999990e-07 9.999990e-07 2.863097e-11 2   \n",
       "3 3 GL429770 8507307 A   C   437 9.999990e-07 1.999998e-06 5.587564e-11 3   \n",
       "4 4 GL429962  689293 A   C   401 1.999998e-06 9.999990e-07 5.587564e-11 4   \n",
       "5 5 GL429885 2043530 T   C   140 9.999990e-07 6.999993e-06 1.867954e-10 5   \n",
       "6 6 GL430008 1396110 C   T    76 1.999998e-06 3.999996e-06 2.124122e-10 6   \n",
       "  padjBH      \n",
       "1 1.463945e-08\n",
       "2 2.927890e-08\n",
       "3 4.391834e-08\n",
       "4 5.855779e-08\n",
       "5 7.319724e-08\n",
       "6 8.783669e-08"
      ]
     },
     "metadata": {},
     "output_type": "display_data"
    }
   ],
   "source": [
    "head(comPvaluesChrNJNY50outsig)"
   ]
  },
  {
   "cell_type": "code",
   "execution_count": 54,
   "metadata": {},
   "outputs": [
    {
     "data": {
      "text/html": [
       "9615"
      ],
      "text/latex": [
       "9615"
      ],
      "text/markdown": [
       "9615"
      ],
      "text/plain": [
       "[1] 9615"
      ]
     },
     "metadata": {},
     "output_type": "display_data"
    }
   ],
   "source": [
    "NROW(sigcmhvals)"
   ]
  },
  {
   "cell_type": "code",
   "execution_count": 30,
   "metadata": {
    "collapsed": true
   },
   "outputs": [],
   "source": [
    "sigboth=merge(comPvaluesChrNJNY50outsig, sigcmhvals, by=c(\"Scaffold\", \"SNP\"))"
   ]
  },
  {
   "cell_type": "code",
   "execution_count": 31,
   "metadata": {},
   "outputs": [
    {
     "data": {
      "text/html": [
       "46"
      ],
      "text/latex": [
       "46"
      ],
      "text/markdown": [
       "46"
      ],
      "text/plain": [
       "[1] 46"
      ]
     },
     "metadata": {},
     "output_type": "display_data"
    },
    {
     "data": {
      "text/html": [
       "<table>\n",
       "<thead><tr><th scope=col>Scaffold</th><th scope=col>SNP</th><th scope=col>X</th><th scope=col>Maj</th><th scope=col>Min</th><th scope=col>num</th><th scope=col>NJ</th><th scope=col>NY_out</th><th scope=col>Comp</th><th scope=col>rank</th><th scope=col>padjBH</th><th scope=col>pvals</th><th scope=col>padj</th></tr></thead>\n",
       "<tbody>\n",
       "\t<tr><td>GL429767    </td><td>16839644    </td><td>57          </td><td>T           </td><td>A           </td><td>100         </td><td>8.699991e-05</td><td>4.509995e-04</td><td>7.083696e-07</td><td>57          </td><td>8.344486e-07</td><td>9.433821e-06</td><td>0.1161382969</td></tr>\n",
       "\t<tr><td>GL429767    </td><td>22649683    </td><td>20          </td><td>T           </td><td>A           </td><td>160         </td><td>6.369994e-04</td><td>3.999996e-06</td><td>5.296761e-08</td><td>20          </td><td>2.927890e-07</td><td>1.099930e-06</td><td>0.0495562777</td></tr>\n",
       "\t<tr><td>GL429767    </td><td>46534125    </td><td> 7          </td><td>C           </td><td>T           </td><td>321         </td><td>5.099995e-05</td><td>9.999990e-07</td><td>1.259657e-09</td><td> 7          </td><td>1.024761e-07</td><td>1.884315e-05</td><td>0.1492191804</td></tr>\n",
       "\t<tr><td>GL429768    </td><td>29962249    </td><td>26          </td><td>A           </td><td>G           </td><td>237         </td><td>9.999990e-07</td><td>5.256995e-03</td><td>1.054747e-07</td><td>26          </td><td>3.806257e-07</td><td>1.388260e-07</td><td>0.0215866433</td></tr>\n",
       "\t<tr><td>GL429768    </td><td> 9041952    </td><td>61          </td><td>A           </td><td>G           </td><td>446         </td><td>4.923295e-02</td><td>9.999990e-07</td><td>8.776603e-07</td><td>61          </td><td>8.930063e-07</td><td>7.729437e-07</td><td>0.0427259028</td></tr>\n",
       "\t<tr><td>GL429770    </td><td> 8507307    </td><td> 3          </td><td>A           </td><td>C           </td><td>437         </td><td>9.999990e-07</td><td>1.999998e-06</td><td>5.587564e-11</td><td> 3          </td><td>4.391834e-08</td><td>3.107764e-12</td><td>0.0001393196</td></tr>\n",
       "\t<tr><td>GL429772    </td><td>14993622    </td><td>47          </td><td>T           </td><td>C           </td><td> 84         </td><td>8.579991e-04</td><td>2.899997e-05</td><td>4.605431e-07</td><td>47          </td><td>6.880541e-07</td><td>1.139490e-06</td><td>0.0502783711</td></tr>\n",
       "\t<tr><td>GL429775    </td><td>17831035    </td><td>44          </td><td>C           </td><td>T           </td><td>114         </td><td>2.056498e-02</td><td>9.999990e-07</td><td>3.845581e-07</td><td>44          </td><td>6.441357e-07</td><td>4.333704e-06</td><td>0.0859653502</td></tr>\n",
       "\t<tr><td>GL429775    </td><td> 5556309    </td><td>35          </td><td>A           </td><td>C           </td><td>356         </td><td>9.999990e-07</td><td>1.047199e-02</td><td>2.028900e-07</td><td>35          </td><td>5.123807e-07</td><td>6.538970e-10</td><td>0.0013052912</td></tr>\n",
       "\t<tr><td>GL429778    </td><td> 3561000    </td><td>22          </td><td>G           </td><td>A           </td><td>273         </td><td>9.999990e-07</td><td>3.066997e-03</td><td>6.318795e-08</td><td>22          </td><td>3.220679e-07</td><td>8.409529e-07</td><td>0.0440415061</td></tr>\n",
       "\t<tr><td>GL429781    </td><td> 7594948    </td><td>41          </td><td>A           </td><td>T           </td><td>417         </td><td>1.770798e-02</td><td>9.999990e-07</td><td>3.337819e-07</td><td>41          </td><td>6.002174e-07</td><td>2.497672e-06</td><td>0.0692880499</td></tr>\n",
       "\t<tr><td>GL429783    </td><td>  665407    </td><td>53          </td><td>C           </td><td>T           </td><td>391         </td><td>9.999990e-07</td><td>3.563796e-02</td><td>6.468233e-07</td><td>53          </td><td>7.758908e-07</td><td>4.331822e-08</td><td>0.0124629187</td></tr>\n",
       "\t<tr><td>GL429792    </td><td>  753145    </td><td>40          </td><td>C           </td><td>A           </td><td>414         </td><td>9.999990e-07</td><td>1.755298e-02</td><td>3.310146e-07</td><td>40          </td><td>5.855779e-07</td><td>7.264253e-07</td><td>0.0411575501</td></tr>\n",
       "\t<tr><td>GL429801    </td><td> 6986210    </td><td>63          </td><td>A           </td><td>T           </td><td>403         </td><td>9.999990e-07</td><td>5.004995e-02</td><td>8.914010e-07</td><td>63          </td><td>9.222852e-07</td><td>2.047418e-06</td><td>0.0634248007</td></tr>\n",
       "\t<tr><td>GL429802    </td><td> 4091453    </td><td>28          </td><td>C           </td><td>T           </td><td>293         </td><td>1.047999e-03</td><td>5.999994e-06</td><td>1.250343e-07</td><td>28          </td><td>4.099046e-07</td><td>1.706701e-05</td><td>0.1443052170</td></tr>\n",
       "\t<tr><td>GL429806    </td><td> 3311579    </td><td>45          </td><td>T           </td><td>C           </td><td>254         </td><td>3.579996e-04</td><td>6.499994e-05</td><td>4.322650e-07</td><td>45          </td><td>6.587752e-07</td><td>2.420020e-06</td><td>0.0681203098</td></tr>\n",
       "\t<tr><td>GL429816    </td><td> 3229647    </td><td>32          </td><td>G           </td><td>A           </td><td>248         </td><td>8.350992e-03</td><td>9.999990e-07</td><td>1.636867e-07</td><td>32          </td><td>4.684623e-07</td><td>2.806500e-08</td><td>0.0102875037</td></tr>\n",
       "\t<tr><td>GL429819    </td><td>  365354    </td><td> 1          </td><td>G           </td><td>A           </td><td>278         </td><td>9.999990e-07</td><td>9.999990e-07</td><td>2.863097e-11</td><td> 1          </td><td>1.463945e-08</td><td>1.560965e-06</td><td>0.0557144341</td></tr>\n",
       "\t<tr><td>GL429841    </td><td> 3522450    </td><td>42          </td><td>A           </td><td>G           </td><td>271         </td><td>3.999996e-06</td><td>4.555995e-03</td><td>3.429846e-07</td><td>42          </td><td>6.148568e-07</td><td>6.865717e-06</td><td>0.1029051803</td></tr>\n",
       "\t<tr><td>GL429841    </td><td>  612532    </td><td>16          </td><td>G           </td><td>A           </td><td>372         </td><td>9.999990e-07</td><td>1.022999e-03</td><td>2.219960e-08</td><td>16          </td><td>2.342312e-07</td><td>1.007361e-07</td><td>0.0186934422</td></tr>\n",
       "\t<tr><td>GL429859    </td><td>  300331    </td><td> 2          </td><td>T           </td><td>C           </td><td>238         </td><td>9.999990e-07</td><td>9.999990e-07</td><td>2.863097e-11</td><td> 2          </td><td>2.927890e-08</td><td>7.678884e-06</td><td>0.1078110966</td></tr>\n",
       "\t<tr><td>GL429861    </td><td>  293372    </td><td>18          </td><td>A           </td><td>G           </td><td>225         </td><td>2.309998e-03</td><td>9.999990e-07</td><td>4.824661e-08</td><td>18          </td><td>2.635101e-07</td><td>5.877342e-06</td><td>0.0972720225</td></tr>\n",
       "\t<tr><td>GL429861    </td><td> 3065399    </td><td>30          </td><td>A           </td><td>G           </td><td>242         </td><td>9.999990e-07</td><td>7.434993e-03</td><td>1.465961e-07</td><td>30          </td><td>4.391834e-07</td><td>1.802810e-06</td><td>0.0599993609</td></tr>\n",
       "\t<tr><td>GL429867    </td><td> 2575249    </td><td>48          </td><td>A           </td><td>G           </td><td>190         </td><td>9.999990e-07</td><td>2.533297e-02</td><td>4.684356e-07</td><td>48          </td><td>7.026935e-07</td><td>3.010087e-06</td><td>0.0745823226</td></tr>\n",
       "\t<tr><td>GL429873    </td><td> 2056629    </td><td>54          </td><td>T           </td><td>A           </td><td>141         </td><td>9.999990e-07</td><td>3.723396e-02</td><td>6.741592e-07</td><td>54          </td><td>7.905302e-07</td><td>2.532421e-06</td><td>0.0696501859</td></tr>\n",
       "\t<tr><td>GL429885    </td><td> 2043530    </td><td> 5          </td><td>T           </td><td>C           </td><td>140         </td><td>9.999990e-07</td><td>6.999993e-06</td><td>1.867954e-10</td><td> 5          </td><td>7.319724e-08</td><td>2.852350e-07</td><td>0.0285657442</td></tr>\n",
       "\t<tr><td>GL429885    </td><td> 3445677    </td><td>49          </td><td>T           </td><td>A           </td><td>260         </td><td>9.999990e-07</td><td>2.659997e-02</td><td>4.905657e-07</td><td>49          </td><td>7.173330e-07</td><td>1.541658e-05</td><td>0.1380728527</td></tr>\n",
       "\t<tr><td>GL429885    </td><td>  617822    </td><td>62          </td><td>C           </td><td>T           </td><td>373         </td><td>1.668198e-02</td><td>2.999997e-06</td><td>8.913338e-07</td><td>62          </td><td>9.076458e-07</td><td>5.489985e-07</td><td>0.0371772636</td></tr>\n",
       "\t<tr><td>GL429888    </td><td> 3508435    </td><td>29          </td><td>A           </td><td>T           </td><td>267         </td><td>9.999990e-07</td><td>6.784993e-03</td><td>1.344008e-07</td><td>29          </td><td>4.245440e-07</td><td>9.740505e-06</td><td>0.1175602910</td></tr>\n",
       "\t<tr><td>GL429898    </td><td>  676714    </td><td>55          </td><td>T           </td><td>C           </td><td>396         </td><td>1.999998e-06</td><td>1.898498e-02</td><td>6.867419e-07</td><td>55          </td><td>8.051697e-07</td><td>3.633023e-08</td><td>0.0113101890</td></tr>\n",
       "\t<tr><td>GL429910    </td><td> 2414078    </td><td>38          </td><td>A           </td><td>C           </td><td>174         </td><td>4.199996e-05</td><td>3.139997e-04</td><td>2.524700e-07</td><td>38          </td><td>5.562990e-07</td><td>1.318715e-06</td><td>0.0522238487</td></tr>\n",
       "\t<tr><td>GL429927    </td><td> 1241213    </td><td>12          </td><td>A           </td><td>G           </td><td> 48         </td><td>9.999990e-07</td><td>4.049996e-04</td><td>9.163972e-09</td><td>12          </td><td>1.756734e-07</td><td>1.528060e-06</td><td>0.0552780490</td></tr>\n",
       "\t<tr><td>GL429929    </td><td> 2943933    </td><td>27          </td><td>G           </td><td>T           </td><td>226         </td><td>9.999990e-07</td><td>6.014994e-03</td><td>1.198728e-07</td><td>27          </td><td>3.952651e-07</td><td>9.929684e-07</td><td>0.0473945260</td></tr>\n",
       "\t<tr><td>GL429930    </td><td> 2586279    </td><td>52          </td><td>C           </td><td>T           </td><td>198         </td><td>3.249997e-02</td><td>9.999990e-07</td><td>5.928647e-07</td><td>52          </td><td>7.612513e-07</td><td>1.226450e-05</td><td>0.1268762434</td></tr>\n",
       "\t<tr><td>GL429962    </td><td>  689293    </td><td> 4          </td><td>A           </td><td>C           </td><td>401         </td><td>1.999998e-06</td><td>9.999990e-07</td><td>5.587564e-11</td><td> 4          </td><td>5.855779e-08</td><td>1.381778e-05</td><td>0.1328893315</td></tr>\n",
       "\t<tr><td>GL429998    </td><td>   99324    </td><td>36          </td><td>C           </td><td>G           </td><td>461         </td><td>1.119199e-02</td><td>9.999990e-07</td><td>2.160955e-07</td><td>36          </td><td>5.270201e-07</td><td>2.439332e-07</td><td>0.0265250391</td></tr>\n",
       "\t<tr><td>GL430008    </td><td> 1396110    </td><td> 6          </td><td>C           </td><td>T           </td><td> 76         </td><td>1.999998e-06</td><td>3.999996e-06</td><td>2.124122e-10</td><td> 6          </td><td>8.783669e-08</td><td>3.317049e-05</td><td>0.1827830514</td></tr>\n",
       "\t<tr><td>GL430029    </td><td> 1661413    </td><td>10          </td><td>A           </td><td>C           </td><td> 97         </td><td>1.589998e-04</td><td>9.999990e-07</td><td>3.746369e-09</td><td>10          </td><td>1.463945e-07</td><td>1.647529e-08</td><td>0.0088985512</td></tr>\n",
       "\t<tr><td>GL430101    </td><td>  496908    </td><td>14          </td><td>T           </td><td>C           </td><td>329         </td><td>8.259992e-04</td><td>9.999990e-07</td><td>1.810128e-08</td><td>14          </td><td>2.049523e-07</td><td>1.396420e-07</td><td>0.0215866433</td></tr>\n",
       "\t<tr><td>GL430158    </td><td>  593841    </td><td> 9          </td><td>T           </td><td>G           </td><td>365         </td><td>7.499993e-05</td><td>1.999998e-06</td><td>3.543051e-09</td><td> 9          </td><td>1.317550e-07</td><td>2.089463e-06</td><td>0.0636856168</td></tr>\n",
       "\t<tr><td>GL430166    </td><td>   11932    </td><td>39          </td><td>C           </td><td>T           </td><td> 36         </td><td>9.999990e-07</td><td>1.753398e-02</td><td>3.306753e-07</td><td>39          </td><td>5.709385e-07</td><td>1.211910e-05</td><td>0.1262897544</td></tr>\n",
       "\t<tr><td>GL430271    </td><td>  525210    </td><td>25          </td><td>C           </td><td>T           </td><td>345         </td><td>9.999990e-07</td><td>4.359996e-03</td><td>8.829329e-08</td><td>25          </td><td>3.659862e-07</td><td>3.754383e-07</td><td>0.0313421360</td></tr>\n",
       "\t<tr><td>GL430338    </td><td>  350547    </td><td>58          </td><td>T           </td><td>C           </td><td>266         </td><td>9.999990e-07</td><td>4.041296e-02</td><td>7.284072e-07</td><td>58          </td><td>8.490880e-07</td><td>9.291869e-10</td><td>0.0015427784</td></tr>\n",
       "\t<tr><td>GL430482    </td><td>  173352    </td><td>13          </td><td>C           </td><td>T           </td><td>107         </td><td>4.999995e-06</td><td>1.269999e-04</td><td>1.408262e-08</td><td>13          </td><td>1.903128e-07</td><td>3.127258e-05</td><td>0.1785449841</td></tr>\n",
       "\t<tr><td>GL430686    </td><td>   91034    </td><td>17          </td><td>C           </td><td>T           </td><td>447         </td><td>9.999990e-07</td><td>2.129998e-03</td><td>4.465993e-08</td><td>17          </td><td>2.488706e-07</td><td>1.111531e-06</td><td>0.0496803811</td></tr>\n",
       "\t<tr><td>GL432768    </td><td>     965    </td><td>15          </td><td>C           </td><td>T           </td><td>459         </td><td>2.799997e-05</td><td>2.999997e-05</td><td>1.839397e-08</td><td>15          </td><td>2.195917e-07</td><td>1.599259e-06</td><td>0.0564108231</td></tr>\n",
       "</tbody>\n",
       "</table>\n"
      ],
      "text/latex": [
       "\\begin{tabular}{r|lllllllllllll}\n",
       " Scaffold & SNP & X & Maj & Min & num & NJ & NY\\_out & Comp & rank & padjBH & pvals & padj\\\\\n",
       "\\hline\n",
       "\t GL429767     & 16839644     & 57           & T            & A            & 100          & 8.699991e-05 & 4.509995e-04 & 7.083696e-07 & 57           & 8.344486e-07 & 9.433821e-06 & 0.1161382969\\\\\n",
       "\t GL429767     & 22649683     & 20           & T            & A            & 160          & 6.369994e-04 & 3.999996e-06 & 5.296761e-08 & 20           & 2.927890e-07 & 1.099930e-06 & 0.0495562777\\\\\n",
       "\t GL429767     & 46534125     &  7           & C            & T            & 321          & 5.099995e-05 & 9.999990e-07 & 1.259657e-09 &  7           & 1.024761e-07 & 1.884315e-05 & 0.1492191804\\\\\n",
       "\t GL429768     & 29962249     & 26           & A            & G            & 237          & 9.999990e-07 & 5.256995e-03 & 1.054747e-07 & 26           & 3.806257e-07 & 1.388260e-07 & 0.0215866433\\\\\n",
       "\t GL429768     &  9041952     & 61           & A            & G            & 446          & 4.923295e-02 & 9.999990e-07 & 8.776603e-07 & 61           & 8.930063e-07 & 7.729437e-07 & 0.0427259028\\\\\n",
       "\t GL429770     &  8507307     &  3           & A            & C            & 437          & 9.999990e-07 & 1.999998e-06 & 5.587564e-11 &  3           & 4.391834e-08 & 3.107764e-12 & 0.0001393196\\\\\n",
       "\t GL429772     & 14993622     & 47           & T            & C            &  84          & 8.579991e-04 & 2.899997e-05 & 4.605431e-07 & 47           & 6.880541e-07 & 1.139490e-06 & 0.0502783711\\\\\n",
       "\t GL429775     & 17831035     & 44           & C            & T            & 114          & 2.056498e-02 & 9.999990e-07 & 3.845581e-07 & 44           & 6.441357e-07 & 4.333704e-06 & 0.0859653502\\\\\n",
       "\t GL429775     &  5556309     & 35           & A            & C            & 356          & 9.999990e-07 & 1.047199e-02 & 2.028900e-07 & 35           & 5.123807e-07 & 6.538970e-10 & 0.0013052912\\\\\n",
       "\t GL429778     &  3561000     & 22           & G            & A            & 273          & 9.999990e-07 & 3.066997e-03 & 6.318795e-08 & 22           & 3.220679e-07 & 8.409529e-07 & 0.0440415061\\\\\n",
       "\t GL429781     &  7594948     & 41           & A            & T            & 417          & 1.770798e-02 & 9.999990e-07 & 3.337819e-07 & 41           & 6.002174e-07 & 2.497672e-06 & 0.0692880499\\\\\n",
       "\t GL429783     &   665407     & 53           & C            & T            & 391          & 9.999990e-07 & 3.563796e-02 & 6.468233e-07 & 53           & 7.758908e-07 & 4.331822e-08 & 0.0124629187\\\\\n",
       "\t GL429792     &   753145     & 40           & C            & A            & 414          & 9.999990e-07 & 1.755298e-02 & 3.310146e-07 & 40           & 5.855779e-07 & 7.264253e-07 & 0.0411575501\\\\\n",
       "\t GL429801     &  6986210     & 63           & A            & T            & 403          & 9.999990e-07 & 5.004995e-02 & 8.914010e-07 & 63           & 9.222852e-07 & 2.047418e-06 & 0.0634248007\\\\\n",
       "\t GL429802     &  4091453     & 28           & C            & T            & 293          & 1.047999e-03 & 5.999994e-06 & 1.250343e-07 & 28           & 4.099046e-07 & 1.706701e-05 & 0.1443052170\\\\\n",
       "\t GL429806     &  3311579     & 45           & T            & C            & 254          & 3.579996e-04 & 6.499994e-05 & 4.322650e-07 & 45           & 6.587752e-07 & 2.420020e-06 & 0.0681203098\\\\\n",
       "\t GL429816     &  3229647     & 32           & G            & A            & 248          & 8.350992e-03 & 9.999990e-07 & 1.636867e-07 & 32           & 4.684623e-07 & 2.806500e-08 & 0.0102875037\\\\\n",
       "\t GL429819     &   365354     &  1           & G            & A            & 278          & 9.999990e-07 & 9.999990e-07 & 2.863097e-11 &  1           & 1.463945e-08 & 1.560965e-06 & 0.0557144341\\\\\n",
       "\t GL429841     &  3522450     & 42           & A            & G            & 271          & 3.999996e-06 & 4.555995e-03 & 3.429846e-07 & 42           & 6.148568e-07 & 6.865717e-06 & 0.1029051803\\\\\n",
       "\t GL429841     &   612532     & 16           & G            & A            & 372          & 9.999990e-07 & 1.022999e-03 & 2.219960e-08 & 16           & 2.342312e-07 & 1.007361e-07 & 0.0186934422\\\\\n",
       "\t GL429859     &   300331     &  2           & T            & C            & 238          & 9.999990e-07 & 9.999990e-07 & 2.863097e-11 &  2           & 2.927890e-08 & 7.678884e-06 & 0.1078110966\\\\\n",
       "\t GL429861     &   293372     & 18           & A            & G            & 225          & 2.309998e-03 & 9.999990e-07 & 4.824661e-08 & 18           & 2.635101e-07 & 5.877342e-06 & 0.0972720225\\\\\n",
       "\t GL429861     &  3065399     & 30           & A            & G            & 242          & 9.999990e-07 & 7.434993e-03 & 1.465961e-07 & 30           & 4.391834e-07 & 1.802810e-06 & 0.0599993609\\\\\n",
       "\t GL429867     &  2575249     & 48           & A            & G            & 190          & 9.999990e-07 & 2.533297e-02 & 4.684356e-07 & 48           & 7.026935e-07 & 3.010087e-06 & 0.0745823226\\\\\n",
       "\t GL429873     &  2056629     & 54           & T            & A            & 141          & 9.999990e-07 & 3.723396e-02 & 6.741592e-07 & 54           & 7.905302e-07 & 2.532421e-06 & 0.0696501859\\\\\n",
       "\t GL429885     &  2043530     &  5           & T            & C            & 140          & 9.999990e-07 & 6.999993e-06 & 1.867954e-10 &  5           & 7.319724e-08 & 2.852350e-07 & 0.0285657442\\\\\n",
       "\t GL429885     &  3445677     & 49           & T            & A            & 260          & 9.999990e-07 & 2.659997e-02 & 4.905657e-07 & 49           & 7.173330e-07 & 1.541658e-05 & 0.1380728527\\\\\n",
       "\t GL429885     &   617822     & 62           & C            & T            & 373          & 1.668198e-02 & 2.999997e-06 & 8.913338e-07 & 62           & 9.076458e-07 & 5.489985e-07 & 0.0371772636\\\\\n",
       "\t GL429888     &  3508435     & 29           & A            & T            & 267          & 9.999990e-07 & 6.784993e-03 & 1.344008e-07 & 29           & 4.245440e-07 & 9.740505e-06 & 0.1175602910\\\\\n",
       "\t GL429898     &   676714     & 55           & T            & C            & 396          & 1.999998e-06 & 1.898498e-02 & 6.867419e-07 & 55           & 8.051697e-07 & 3.633023e-08 & 0.0113101890\\\\\n",
       "\t GL429910     &  2414078     & 38           & A            & C            & 174          & 4.199996e-05 & 3.139997e-04 & 2.524700e-07 & 38           & 5.562990e-07 & 1.318715e-06 & 0.0522238487\\\\\n",
       "\t GL429927     &  1241213     & 12           & A            & G            &  48          & 9.999990e-07 & 4.049996e-04 & 9.163972e-09 & 12           & 1.756734e-07 & 1.528060e-06 & 0.0552780490\\\\\n",
       "\t GL429929     &  2943933     & 27           & G            & T            & 226          & 9.999990e-07 & 6.014994e-03 & 1.198728e-07 & 27           & 3.952651e-07 & 9.929684e-07 & 0.0473945260\\\\\n",
       "\t GL429930     &  2586279     & 52           & C            & T            & 198          & 3.249997e-02 & 9.999990e-07 & 5.928647e-07 & 52           & 7.612513e-07 & 1.226450e-05 & 0.1268762434\\\\\n",
       "\t GL429962     &   689293     &  4           & A            & C            & 401          & 1.999998e-06 & 9.999990e-07 & 5.587564e-11 &  4           & 5.855779e-08 & 1.381778e-05 & 0.1328893315\\\\\n",
       "\t GL429998     &    99324     & 36           & C            & G            & 461          & 1.119199e-02 & 9.999990e-07 & 2.160955e-07 & 36           & 5.270201e-07 & 2.439332e-07 & 0.0265250391\\\\\n",
       "\t GL430008     &  1396110     &  6           & C            & T            &  76          & 1.999998e-06 & 3.999996e-06 & 2.124122e-10 &  6           & 8.783669e-08 & 3.317049e-05 & 0.1827830514\\\\\n",
       "\t GL430029     &  1661413     & 10           & A            & C            &  97          & 1.589998e-04 & 9.999990e-07 & 3.746369e-09 & 10           & 1.463945e-07 & 1.647529e-08 & 0.0088985512\\\\\n",
       "\t GL430101     &   496908     & 14           & T            & C            & 329          & 8.259992e-04 & 9.999990e-07 & 1.810128e-08 & 14           & 2.049523e-07 & 1.396420e-07 & 0.0215866433\\\\\n",
       "\t GL430158     &   593841     &  9           & T            & G            & 365          & 7.499993e-05 & 1.999998e-06 & 3.543051e-09 &  9           & 1.317550e-07 & 2.089463e-06 & 0.0636856168\\\\\n",
       "\t GL430166     &    11932     & 39           & C            & T            &  36          & 9.999990e-07 & 1.753398e-02 & 3.306753e-07 & 39           & 5.709385e-07 & 1.211910e-05 & 0.1262897544\\\\\n",
       "\t GL430271     &   525210     & 25           & C            & T            & 345          & 9.999990e-07 & 4.359996e-03 & 8.829329e-08 & 25           & 3.659862e-07 & 3.754383e-07 & 0.0313421360\\\\\n",
       "\t GL430338     &   350547     & 58           & T            & C            & 266          & 9.999990e-07 & 4.041296e-02 & 7.284072e-07 & 58           & 8.490880e-07 & 9.291869e-10 & 0.0015427784\\\\\n",
       "\t GL430482     &   173352     & 13           & C            & T            & 107          & 4.999995e-06 & 1.269999e-04 & 1.408262e-08 & 13           & 1.903128e-07 & 3.127258e-05 & 0.1785449841\\\\\n",
       "\t GL430686     &    91034     & 17           & C            & T            & 447          & 9.999990e-07 & 2.129998e-03 & 4.465993e-08 & 17           & 2.488706e-07 & 1.111531e-06 & 0.0496803811\\\\\n",
       "\t GL432768     &      965     & 15           & C            & T            & 459          & 2.799997e-05 & 2.999997e-05 & 1.839397e-08 & 15           & 2.195917e-07 & 1.599259e-06 & 0.0564108231\\\\\n",
       "\\end{tabular}\n"
      ],
      "text/markdown": [
       "\n",
       "Scaffold | SNP | X | Maj | Min | num | NJ | NY_out | Comp | rank | padjBH | pvals | padj | \n",
       "|---|---|---|---|---|---|---|---|---|---|---|---|---|---|---|---|---|---|---|---|---|---|---|---|---|---|---|---|---|---|---|---|---|---|---|---|---|---|---|---|---|---|---|---|---|---|\n",
       "| GL429767     | 16839644     | 57           | T            | A            | 100          | 8.699991e-05 | 4.509995e-04 | 7.083696e-07 | 57           | 8.344486e-07 | 9.433821e-06 | 0.1161382969 | \n",
       "| GL429767     | 22649683     | 20           | T            | A            | 160          | 6.369994e-04 | 3.999996e-06 | 5.296761e-08 | 20           | 2.927890e-07 | 1.099930e-06 | 0.0495562777 | \n",
       "| GL429767     | 46534125     |  7           | C            | T            | 321          | 5.099995e-05 | 9.999990e-07 | 1.259657e-09 |  7           | 1.024761e-07 | 1.884315e-05 | 0.1492191804 | \n",
       "| GL429768     | 29962249     | 26           | A            | G            | 237          | 9.999990e-07 | 5.256995e-03 | 1.054747e-07 | 26           | 3.806257e-07 | 1.388260e-07 | 0.0215866433 | \n",
       "| GL429768     |  9041952     | 61           | A            | G            | 446          | 4.923295e-02 | 9.999990e-07 | 8.776603e-07 | 61           | 8.930063e-07 | 7.729437e-07 | 0.0427259028 | \n",
       "| GL429770     |  8507307     |  3           | A            | C            | 437          | 9.999990e-07 | 1.999998e-06 | 5.587564e-11 |  3           | 4.391834e-08 | 3.107764e-12 | 0.0001393196 | \n",
       "| GL429772     | 14993622     | 47           | T            | C            |  84          | 8.579991e-04 | 2.899997e-05 | 4.605431e-07 | 47           | 6.880541e-07 | 1.139490e-06 | 0.0502783711 | \n",
       "| GL429775     | 17831035     | 44           | C            | T            | 114          | 2.056498e-02 | 9.999990e-07 | 3.845581e-07 | 44           | 6.441357e-07 | 4.333704e-06 | 0.0859653502 | \n",
       "| GL429775     |  5556309     | 35           | A            | C            | 356          | 9.999990e-07 | 1.047199e-02 | 2.028900e-07 | 35           | 5.123807e-07 | 6.538970e-10 | 0.0013052912 | \n",
       "| GL429778     |  3561000     | 22           | G            | A            | 273          | 9.999990e-07 | 3.066997e-03 | 6.318795e-08 | 22           | 3.220679e-07 | 8.409529e-07 | 0.0440415061 | \n",
       "| GL429781     |  7594948     | 41           | A            | T            | 417          | 1.770798e-02 | 9.999990e-07 | 3.337819e-07 | 41           | 6.002174e-07 | 2.497672e-06 | 0.0692880499 | \n",
       "| GL429783     |   665407     | 53           | C            | T            | 391          | 9.999990e-07 | 3.563796e-02 | 6.468233e-07 | 53           | 7.758908e-07 | 4.331822e-08 | 0.0124629187 | \n",
       "| GL429792     |   753145     | 40           | C            | A            | 414          | 9.999990e-07 | 1.755298e-02 | 3.310146e-07 | 40           | 5.855779e-07 | 7.264253e-07 | 0.0411575501 | \n",
       "| GL429801     |  6986210     | 63           | A            | T            | 403          | 9.999990e-07 | 5.004995e-02 | 8.914010e-07 | 63           | 9.222852e-07 | 2.047418e-06 | 0.0634248007 | \n",
       "| GL429802     |  4091453     | 28           | C            | T            | 293          | 1.047999e-03 | 5.999994e-06 | 1.250343e-07 | 28           | 4.099046e-07 | 1.706701e-05 | 0.1443052170 | \n",
       "| GL429806     |  3311579     | 45           | T            | C            | 254          | 3.579996e-04 | 6.499994e-05 | 4.322650e-07 | 45           | 6.587752e-07 | 2.420020e-06 | 0.0681203098 | \n",
       "| GL429816     |  3229647     | 32           | G            | A            | 248          | 8.350992e-03 | 9.999990e-07 | 1.636867e-07 | 32           | 4.684623e-07 | 2.806500e-08 | 0.0102875037 | \n",
       "| GL429819     |   365354     |  1           | G            | A            | 278          | 9.999990e-07 | 9.999990e-07 | 2.863097e-11 |  1           | 1.463945e-08 | 1.560965e-06 | 0.0557144341 | \n",
       "| GL429841     |  3522450     | 42           | A            | G            | 271          | 3.999996e-06 | 4.555995e-03 | 3.429846e-07 | 42           | 6.148568e-07 | 6.865717e-06 | 0.1029051803 | \n",
       "| GL429841     |   612532     | 16           | G            | A            | 372          | 9.999990e-07 | 1.022999e-03 | 2.219960e-08 | 16           | 2.342312e-07 | 1.007361e-07 | 0.0186934422 | \n",
       "| GL429859     |   300331     |  2           | T            | C            | 238          | 9.999990e-07 | 9.999990e-07 | 2.863097e-11 |  2           | 2.927890e-08 | 7.678884e-06 | 0.1078110966 | \n",
       "| GL429861     |   293372     | 18           | A            | G            | 225          | 2.309998e-03 | 9.999990e-07 | 4.824661e-08 | 18           | 2.635101e-07 | 5.877342e-06 | 0.0972720225 | \n",
       "| GL429861     |  3065399     | 30           | A            | G            | 242          | 9.999990e-07 | 7.434993e-03 | 1.465961e-07 | 30           | 4.391834e-07 | 1.802810e-06 | 0.0599993609 | \n",
       "| GL429867     |  2575249     | 48           | A            | G            | 190          | 9.999990e-07 | 2.533297e-02 | 4.684356e-07 | 48           | 7.026935e-07 | 3.010087e-06 | 0.0745823226 | \n",
       "| GL429873     |  2056629     | 54           | T            | A            | 141          | 9.999990e-07 | 3.723396e-02 | 6.741592e-07 | 54           | 7.905302e-07 | 2.532421e-06 | 0.0696501859 | \n",
       "| GL429885     |  2043530     |  5           | T            | C            | 140          | 9.999990e-07 | 6.999993e-06 | 1.867954e-10 |  5           | 7.319724e-08 | 2.852350e-07 | 0.0285657442 | \n",
       "| GL429885     |  3445677     | 49           | T            | A            | 260          | 9.999990e-07 | 2.659997e-02 | 4.905657e-07 | 49           | 7.173330e-07 | 1.541658e-05 | 0.1380728527 | \n",
       "| GL429885     |   617822     | 62           | C            | T            | 373          | 1.668198e-02 | 2.999997e-06 | 8.913338e-07 | 62           | 9.076458e-07 | 5.489985e-07 | 0.0371772636 | \n",
       "| GL429888     |  3508435     | 29           | A            | T            | 267          | 9.999990e-07 | 6.784993e-03 | 1.344008e-07 | 29           | 4.245440e-07 | 9.740505e-06 | 0.1175602910 | \n",
       "| GL429898     |   676714     | 55           | T            | C            | 396          | 1.999998e-06 | 1.898498e-02 | 6.867419e-07 | 55           | 8.051697e-07 | 3.633023e-08 | 0.0113101890 | \n",
       "| GL429910     |  2414078     | 38           | A            | C            | 174          | 4.199996e-05 | 3.139997e-04 | 2.524700e-07 | 38           | 5.562990e-07 | 1.318715e-06 | 0.0522238487 | \n",
       "| GL429927     |  1241213     | 12           | A            | G            |  48          | 9.999990e-07 | 4.049996e-04 | 9.163972e-09 | 12           | 1.756734e-07 | 1.528060e-06 | 0.0552780490 | \n",
       "| GL429929     |  2943933     | 27           | G            | T            | 226          | 9.999990e-07 | 6.014994e-03 | 1.198728e-07 | 27           | 3.952651e-07 | 9.929684e-07 | 0.0473945260 | \n",
       "| GL429930     |  2586279     | 52           | C            | T            | 198          | 3.249997e-02 | 9.999990e-07 | 5.928647e-07 | 52           | 7.612513e-07 | 1.226450e-05 | 0.1268762434 | \n",
       "| GL429962     |   689293     |  4           | A            | C            | 401          | 1.999998e-06 | 9.999990e-07 | 5.587564e-11 |  4           | 5.855779e-08 | 1.381778e-05 | 0.1328893315 | \n",
       "| GL429998     |    99324     | 36           | C            | G            | 461          | 1.119199e-02 | 9.999990e-07 | 2.160955e-07 | 36           | 5.270201e-07 | 2.439332e-07 | 0.0265250391 | \n",
       "| GL430008     |  1396110     |  6           | C            | T            |  76          | 1.999998e-06 | 3.999996e-06 | 2.124122e-10 |  6           | 8.783669e-08 | 3.317049e-05 | 0.1827830514 | \n",
       "| GL430029     |  1661413     | 10           | A            | C            |  97          | 1.589998e-04 | 9.999990e-07 | 3.746369e-09 | 10           | 1.463945e-07 | 1.647529e-08 | 0.0088985512 | \n",
       "| GL430101     |   496908     | 14           | T            | C            | 329          | 8.259992e-04 | 9.999990e-07 | 1.810128e-08 | 14           | 2.049523e-07 | 1.396420e-07 | 0.0215866433 | \n",
       "| GL430158     |   593841     |  9           | T            | G            | 365          | 7.499993e-05 | 1.999998e-06 | 3.543051e-09 |  9           | 1.317550e-07 | 2.089463e-06 | 0.0636856168 | \n",
       "| GL430166     |    11932     | 39           | C            | T            |  36          | 9.999990e-07 | 1.753398e-02 | 3.306753e-07 | 39           | 5.709385e-07 | 1.211910e-05 | 0.1262897544 | \n",
       "| GL430271     |   525210     | 25           | C            | T            | 345          | 9.999990e-07 | 4.359996e-03 | 8.829329e-08 | 25           | 3.659862e-07 | 3.754383e-07 | 0.0313421360 | \n",
       "| GL430338     |   350547     | 58           | T            | C            | 266          | 9.999990e-07 | 4.041296e-02 | 7.284072e-07 | 58           | 8.490880e-07 | 9.291869e-10 | 0.0015427784 | \n",
       "| GL430482     |   173352     | 13           | C            | T            | 107          | 4.999995e-06 | 1.269999e-04 | 1.408262e-08 | 13           | 1.903128e-07 | 3.127258e-05 | 0.1785449841 | \n",
       "| GL430686     |    91034     | 17           | C            | T            | 447          | 9.999990e-07 | 2.129998e-03 | 4.465993e-08 | 17           | 2.488706e-07 | 1.111531e-06 | 0.0496803811 | \n",
       "| GL432768     |      965     | 15           | C            | T            | 459          | 2.799997e-05 | 2.999997e-05 | 1.839397e-08 | 15           | 2.195917e-07 | 1.599259e-06 | 0.0564108231 | \n",
       "\n",
       "\n"
      ],
      "text/plain": [
       "   Scaffold SNP      X  Maj Min num NJ           NY_out       Comp         rank\n",
       "1  GL429767 16839644 57 T   A   100 8.699991e-05 4.509995e-04 7.083696e-07 57  \n",
       "2  GL429767 22649683 20 T   A   160 6.369994e-04 3.999996e-06 5.296761e-08 20  \n",
       "3  GL429767 46534125  7 C   T   321 5.099995e-05 9.999990e-07 1.259657e-09  7  \n",
       "4  GL429768 29962249 26 A   G   237 9.999990e-07 5.256995e-03 1.054747e-07 26  \n",
       "5  GL429768  9041952 61 A   G   446 4.923295e-02 9.999990e-07 8.776603e-07 61  \n",
       "6  GL429770  8507307  3 A   C   437 9.999990e-07 1.999998e-06 5.587564e-11  3  \n",
       "7  GL429772 14993622 47 T   C    84 8.579991e-04 2.899997e-05 4.605431e-07 47  \n",
       "8  GL429775 17831035 44 C   T   114 2.056498e-02 9.999990e-07 3.845581e-07 44  \n",
       "9  GL429775  5556309 35 A   C   356 9.999990e-07 1.047199e-02 2.028900e-07 35  \n",
       "10 GL429778  3561000 22 G   A   273 9.999990e-07 3.066997e-03 6.318795e-08 22  \n",
       "11 GL429781  7594948 41 A   T   417 1.770798e-02 9.999990e-07 3.337819e-07 41  \n",
       "12 GL429783   665407 53 C   T   391 9.999990e-07 3.563796e-02 6.468233e-07 53  \n",
       "13 GL429792   753145 40 C   A   414 9.999990e-07 1.755298e-02 3.310146e-07 40  \n",
       "14 GL429801  6986210 63 A   T   403 9.999990e-07 5.004995e-02 8.914010e-07 63  \n",
       "15 GL429802  4091453 28 C   T   293 1.047999e-03 5.999994e-06 1.250343e-07 28  \n",
       "16 GL429806  3311579 45 T   C   254 3.579996e-04 6.499994e-05 4.322650e-07 45  \n",
       "17 GL429816  3229647 32 G   A   248 8.350992e-03 9.999990e-07 1.636867e-07 32  \n",
       "18 GL429819   365354  1 G   A   278 9.999990e-07 9.999990e-07 2.863097e-11  1  \n",
       "19 GL429841  3522450 42 A   G   271 3.999996e-06 4.555995e-03 3.429846e-07 42  \n",
       "20 GL429841   612532 16 G   A   372 9.999990e-07 1.022999e-03 2.219960e-08 16  \n",
       "21 GL429859   300331  2 T   C   238 9.999990e-07 9.999990e-07 2.863097e-11  2  \n",
       "22 GL429861   293372 18 A   G   225 2.309998e-03 9.999990e-07 4.824661e-08 18  \n",
       "23 GL429861  3065399 30 A   G   242 9.999990e-07 7.434993e-03 1.465961e-07 30  \n",
       "24 GL429867  2575249 48 A   G   190 9.999990e-07 2.533297e-02 4.684356e-07 48  \n",
       "25 GL429873  2056629 54 T   A   141 9.999990e-07 3.723396e-02 6.741592e-07 54  \n",
       "26 GL429885  2043530  5 T   C   140 9.999990e-07 6.999993e-06 1.867954e-10  5  \n",
       "27 GL429885  3445677 49 T   A   260 9.999990e-07 2.659997e-02 4.905657e-07 49  \n",
       "28 GL429885   617822 62 C   T   373 1.668198e-02 2.999997e-06 8.913338e-07 62  \n",
       "29 GL429888  3508435 29 A   T   267 9.999990e-07 6.784993e-03 1.344008e-07 29  \n",
       "30 GL429898   676714 55 T   C   396 1.999998e-06 1.898498e-02 6.867419e-07 55  \n",
       "31 GL429910  2414078 38 A   C   174 4.199996e-05 3.139997e-04 2.524700e-07 38  \n",
       "32 GL429927  1241213 12 A   G    48 9.999990e-07 4.049996e-04 9.163972e-09 12  \n",
       "33 GL429929  2943933 27 G   T   226 9.999990e-07 6.014994e-03 1.198728e-07 27  \n",
       "34 GL429930  2586279 52 C   T   198 3.249997e-02 9.999990e-07 5.928647e-07 52  \n",
       "35 GL429962   689293  4 A   C   401 1.999998e-06 9.999990e-07 5.587564e-11  4  \n",
       "36 GL429998    99324 36 C   G   461 1.119199e-02 9.999990e-07 2.160955e-07 36  \n",
       "37 GL430008  1396110  6 C   T    76 1.999998e-06 3.999996e-06 2.124122e-10  6  \n",
       "38 GL430029  1661413 10 A   C    97 1.589998e-04 9.999990e-07 3.746369e-09 10  \n",
       "39 GL430101   496908 14 T   C   329 8.259992e-04 9.999990e-07 1.810128e-08 14  \n",
       "40 GL430158   593841  9 T   G   365 7.499993e-05 1.999998e-06 3.543051e-09  9  \n",
       "41 GL430166    11932 39 C   T    36 9.999990e-07 1.753398e-02 3.306753e-07 39  \n",
       "42 GL430271   525210 25 C   T   345 9.999990e-07 4.359996e-03 8.829329e-08 25  \n",
       "43 GL430338   350547 58 T   C   266 9.999990e-07 4.041296e-02 7.284072e-07 58  \n",
       "44 GL430482   173352 13 C   T   107 4.999995e-06 1.269999e-04 1.408262e-08 13  \n",
       "45 GL430686    91034 17 C   T   447 9.999990e-07 2.129998e-03 4.465993e-08 17  \n",
       "46 GL432768      965 15 C   T   459 2.799997e-05 2.999997e-05 1.839397e-08 15  \n",
       "   padjBH       pvals        padj        \n",
       "1  8.344486e-07 9.433821e-06 0.1161382969\n",
       "2  2.927890e-07 1.099930e-06 0.0495562777\n",
       "3  1.024761e-07 1.884315e-05 0.1492191804\n",
       "4  3.806257e-07 1.388260e-07 0.0215866433\n",
       "5  8.930063e-07 7.729437e-07 0.0427259028\n",
       "6  4.391834e-08 3.107764e-12 0.0001393196\n",
       "7  6.880541e-07 1.139490e-06 0.0502783711\n",
       "8  6.441357e-07 4.333704e-06 0.0859653502\n",
       "9  5.123807e-07 6.538970e-10 0.0013052912\n",
       "10 3.220679e-07 8.409529e-07 0.0440415061\n",
       "11 6.002174e-07 2.497672e-06 0.0692880499\n",
       "12 7.758908e-07 4.331822e-08 0.0124629187\n",
       "13 5.855779e-07 7.264253e-07 0.0411575501\n",
       "14 9.222852e-07 2.047418e-06 0.0634248007\n",
       "15 4.099046e-07 1.706701e-05 0.1443052170\n",
       "16 6.587752e-07 2.420020e-06 0.0681203098\n",
       "17 4.684623e-07 2.806500e-08 0.0102875037\n",
       "18 1.463945e-08 1.560965e-06 0.0557144341\n",
       "19 6.148568e-07 6.865717e-06 0.1029051803\n",
       "20 2.342312e-07 1.007361e-07 0.0186934422\n",
       "21 2.927890e-08 7.678884e-06 0.1078110966\n",
       "22 2.635101e-07 5.877342e-06 0.0972720225\n",
       "23 4.391834e-07 1.802810e-06 0.0599993609\n",
       "24 7.026935e-07 3.010087e-06 0.0745823226\n",
       "25 7.905302e-07 2.532421e-06 0.0696501859\n",
       "26 7.319724e-08 2.852350e-07 0.0285657442\n",
       "27 7.173330e-07 1.541658e-05 0.1380728527\n",
       "28 9.076458e-07 5.489985e-07 0.0371772636\n",
       "29 4.245440e-07 9.740505e-06 0.1175602910\n",
       "30 8.051697e-07 3.633023e-08 0.0113101890\n",
       "31 5.562990e-07 1.318715e-06 0.0522238487\n",
       "32 1.756734e-07 1.528060e-06 0.0552780490\n",
       "33 3.952651e-07 9.929684e-07 0.0473945260\n",
       "34 7.612513e-07 1.226450e-05 0.1268762434\n",
       "35 5.855779e-08 1.381778e-05 0.1328893315\n",
       "36 5.270201e-07 2.439332e-07 0.0265250391\n",
       "37 8.783669e-08 3.317049e-05 0.1827830514\n",
       "38 1.463945e-07 1.647529e-08 0.0088985512\n",
       "39 2.049523e-07 1.396420e-07 0.0215866433\n",
       "40 1.317550e-07 2.089463e-06 0.0636856168\n",
       "41 5.709385e-07 1.211910e-05 0.1262897544\n",
       "42 3.659862e-07 3.754383e-07 0.0313421360\n",
       "43 8.490880e-07 9.291869e-10 0.0015427784\n",
       "44 1.903128e-07 3.127258e-05 0.1785449841\n",
       "45 2.488706e-07 1.111531e-06 0.0496803811\n",
       "46 2.195917e-07 1.599259e-06 0.0564108231"
      ]
     },
     "metadata": {},
     "output_type": "display_data"
    }
   ],
   "source": [
    "NROW(sigboth)\n",
    "(sigboth)"
   ]
  },
  {
   "cell_type": "code",
   "execution_count": 32,
   "metadata": {
    "collapsed": true
   },
   "outputs": [],
   "source": [
    "write.csv(sigboth, file=\"/data/sarahgw/WGS/SNPS/All_mylu/snps/NJNYnoout_sigCMH_overlap.csv\")"
   ]
  },
  {
   "cell_type": "code",
   "execution_count": null,
   "metadata": {
    "collapsed": true
   },
   "outputs": [],
   "source": [
    "read.csv()"
   ]
  },
  {
   "cell_type": "markdown",
   "metadata": {},
   "source": [
    "Copied from the vignette, accounting for drift "
   ]
  },
  {
   "cell_type": "code",
   "execution_count": 35,
   "metadata": {},
   "outputs": [
    {
     "name": "stderr",
     "output_type": "stream",
     "text": [
      "Warning message in adapted.cmh.test(freq = afMat, coverage = covMat, Ne = rep(Ne, :\n",
      "“Ne value(s) which are not integer are converted to integer”Warning message in adapted.cmh.test(freq = afMat, coverage = covMat, Ne = rep(Ne, :\n",
      "“The counts assuming values 0 or equal the coverage of the considered \n",
      "                    locus are changed to 1 and to coverage-1 respectively.”Warning message in adapted.cmh.test(freq = afMat, coverage = covMat, Ne = rep(Ne, :\n",
      "“The counts assuming values 0 or equal the coverage of the considered \n",
      "                    locus are changed to 1 and to coverage-1 respectively.”"
     ]
    }
   ],
   "source": [
    "#simulate the starting allele frequencies \n",
    "rep <- c(1,2,3)\n",
    "p <- matrix(c(round(runif(10000, min=0, max=1)*2*Ne)/(2*Ne),\n",
    "              round(runif(10000, min=0, max=1)*2*Ne)/(2*Ne),\n",
    "              round(runif(10000, min=0, max=1)*2*Ne)/(2*Ne)), \n",
    "              ncol=length(rep))\n",
    "\n",
    "#simulate random drift with generations 0 and 60\n",
    "Ne <- 300\n",
    "tp <- c(0, 60)\n",
    "p_ev1 <- wf.traj(p0=p[,1], Ne=Ne, t=tp)\n",
    "p_ev2 <- wf.traj(p0=p[,2], Ne=Ne, t=tp)\n",
    "p_ev3 <- wf.traj(p0=p[,3], Ne=Ne, t=tp)\n",
    "afMat <- cbind(p_ev1, p_ev2, p_ev3)\n",
    "\n",
    "#simulate the coverage matrix\n",
    "covMat <- cbind(rpois(length(p), lambda=80), rpois(length(p), lambda=80), \n",
    "                rpois(length(p), lambda=80), rpois(length(p), lambda=80), \n",
    "                rpois(length(p), lambda=80), rpois(length(p), lambda=80))\n",
    "\n",
    "#add sampling noise to the allele frequency matrix\n",
    "afMat <- rbinom(n=length(covMat), size=covMat, prob=afMat) / covMat\n",
    "\n",
    "#compute the appropriate CMH test for this situation: drift (i.e. \n",
    "#evolving population for 60 generations) and no pool sequencing \n",
    "#(i.e. poolSize = NULL)\n",
    "pval <- adapted.cmh.test(freq=afMat, coverage=covMat, Ne=rep(Ne,\n",
    "                                length(rep)), gen=tp, repl = rep)"
   ]
  },
  {
   "cell_type": "code",
   "execution_count": 36,
   "metadata": {},
   "outputs": [
    {
     "data": {
      "text/html": [
       "<table>\n",
       "<tbody>\n",
       "\t<tr><td>0.87654321</td><td>0.7638889 </td><td>0.8571429 </td><td>0.7848101 </td><td>0.91935484</td><td>0.8518519 </td></tr>\n",
       "\t<tr><td>0.65853659</td><td>0.4791667 </td><td>0.6627907 </td><td>0.5064935 </td><td>0.69135802</td><td>0.5512821 </td></tr>\n",
       "\t<tr><td>0.98780488</td><td>1.0000000 </td><td>0.9857143 </td><td>1.0000000 </td><td>0.97260274</td><td>1.0000000 </td></tr>\n",
       "\t<tr><td>0.01333333</td><td>0.4512195 </td><td>0.0000000 </td><td>0.4166667 </td><td>0.01149425</td><td>0.5555556 </td></tr>\n",
       "\t<tr><td>0.63529412</td><td>0.7294118 </td><td>0.5698925 </td><td>0.6700000 </td><td>0.55670103</td><td>0.6593407 </td></tr>\n",
       "\t<tr><td>0.48958333</td><td>0.2873563 </td><td>0.4534884 </td><td>0.3333333 </td><td>0.49367089</td><td>0.3246753 </td></tr>\n",
       "</tbody>\n",
       "</table>\n"
      ],
      "text/latex": [
       "\\begin{tabular}{llllll}\n",
       "\t 0.87654321 & 0.7638889  & 0.8571429  & 0.7848101  & 0.91935484 & 0.8518519 \\\\\n",
       "\t 0.65853659 & 0.4791667  & 0.6627907  & 0.5064935  & 0.69135802 & 0.5512821 \\\\\n",
       "\t 0.98780488 & 1.0000000  & 0.9857143  & 1.0000000  & 0.97260274 & 1.0000000 \\\\\n",
       "\t 0.01333333 & 0.4512195  & 0.0000000  & 0.4166667  & 0.01149425 & 0.5555556 \\\\\n",
       "\t 0.63529412 & 0.7294118  & 0.5698925  & 0.6700000  & 0.55670103 & 0.6593407 \\\\\n",
       "\t 0.48958333 & 0.2873563  & 0.4534884  & 0.3333333  & 0.49367089 & 0.3246753 \\\\\n",
       "\\end{tabular}\n"
      ],
      "text/markdown": [
       "\n",
       "| 0.87654321 | 0.7638889  | 0.8571429  | 0.7848101  | 0.91935484 | 0.8518519  | \n",
       "| 0.65853659 | 0.4791667  | 0.6627907  | 0.5064935  | 0.69135802 | 0.5512821  | \n",
       "| 0.98780488 | 1.0000000  | 0.9857143  | 1.0000000  | 0.97260274 | 1.0000000  | \n",
       "| 0.01333333 | 0.4512195  | 0.0000000  | 0.4166667  | 0.01149425 | 0.5555556  | \n",
       "| 0.63529412 | 0.7294118  | 0.5698925  | 0.6700000  | 0.55670103 | 0.6593407  | \n",
       "| 0.48958333 | 0.2873563  | 0.4534884  | 0.3333333  | 0.49367089 | 0.3246753  | \n",
       "\n",
       "\n"
      ],
      "text/plain": [
       "     [,1]       [,2]      [,3]      [,4]      [,5]       [,6]     \n",
       "[1,] 0.87654321 0.7638889 0.8571429 0.7848101 0.91935484 0.8518519\n",
       "[2,] 0.65853659 0.4791667 0.6627907 0.5064935 0.69135802 0.5512821\n",
       "[3,] 0.98780488 1.0000000 0.9857143 1.0000000 0.97260274 1.0000000\n",
       "[4,] 0.01333333 0.4512195 0.0000000 0.4166667 0.01149425 0.5555556\n",
       "[5,] 0.63529412 0.7294118 0.5698925 0.6700000 0.55670103 0.6593407\n",
       "[6,] 0.48958333 0.2873563 0.4534884 0.3333333 0.49367089 0.3246753"
      ]
     },
     "metadata": {},
     "output_type": "display_data"
    }
   ],
   "source": [
    "head(afMat)"
   ]
  },
  {
   "cell_type": "code",
   "execution_count": 37,
   "metadata": {},
   "outputs": [
    {
     "data": {
      "text/html": [
       "<ol class=list-inline>\n",
       "\t<li>0</li>\n",
       "\t<li>60</li>\n",
       "</ol>\n"
      ],
      "text/latex": [
       "\\begin{enumerate*}\n",
       "\\item 0\n",
       "\\item 60\n",
       "\\end{enumerate*}\n"
      ],
      "text/markdown": [
       "1. 0\n",
       "2. 60\n",
       "\n",
       "\n"
      ],
      "text/plain": [
       "[1]  0 60"
      ]
     },
     "metadata": {},
     "output_type": "display_data"
    }
   ],
   "source": [
    "head(tp)"
   ]
  },
  {
   "cell_type": "code",
   "execution_count": null,
   "metadata": {
    "collapsed": true
   },
   "outputs": [],
   "source": []
  }
 ],
 "metadata": {
  "kernelspec": {
   "display_name": "R",
   "language": "R",
   "name": "ir"
  },
  "language_info": {
   "codemirror_mode": "r",
   "file_extension": ".r",
   "mimetype": "text/x-r-source",
   "name": "R",
   "pygments_lexer": "r",
   "version": "3.4.1"
  }
 },
 "nbformat": 4,
 "nbformat_minor": 2
}
