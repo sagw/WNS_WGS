{
 "cells": [
  {
   "cell_type": "markdown",
   "metadata": {},
   "source": [
    "Map both paired and unpaired reads."
   ]
  },
  {
   "cell_type": "code",
   "execution_count": null,
   "metadata": {
    "collapsed": true
   },
   "outputs": [],
   "source": [
    "for dir in $(ls); do cd $dir; /local/home/sarahgw/anaconda2/bin/bowtie2 --very-sensitive-local -p 12 -x /local/home/sarahgw/references/Myotis_Lucifugus2.0/MyoLuc_toplevel_index -1 $(pwd)/\"$dir\"_FU1_trim_p.tagged_pfilter.fastq -2 $(pwd)/\"$dir\"_FU2_trim_p.tagged_pfilter.fastq -U $(pwd)/\"$dir\"_FU1_trim_up.tagged_filter.fastq,$(pwd)/\"$dir\"_FU2_trim_up.tagged_filter.fastq -S $(pwd)/\"$dir\"_pairedplus_eg2.sam; cd ..; done"
   ]
  },
  {
   "cell_type": "markdown",
   "metadata": {},
   "source": [
    "      1094025 (56.42%) aligned >1 times\n",
    "  533990 (6.86%) were unpaired; of these:\n",
    "    22751 (4.26%) aligned 0 times\n",
    "    279666 (52.37%) aligned exactly 1 time\n",
    "    231573 (43.37%) aligned >1 times\n",
    "97.45% overall alignment rate\n",
    "11459489 reads; of these:\n",
    "  10184983 (88.88%) were paired; of these:\n",
    "    2499945 (24.55%) aligned concordantly 0 times\n",
    "    5355705 (52.58%) aligned concordantly exactly 1 time\n",
    "    2329333 (22.87%) aligned concordantly >1 times\n",
    "    ----\n",
    "    2499945 pairs aligned concordantly 0 times; of these:\n",
    "      1067616 (42.71%) aligned discordantly 1 time\n",
    "    ----\n",
    "    1432329 pairs aligned 0 times concordantly or discordantly; of these:\n",
    "      2864658 mates make up the pairs; of these:\n",
    "        581756 (20.31%) aligned 0 times\n",
    "        702292 (24.52%) aligned exactly 1 time\n",
    "        1580610 (55.18%) aligned >1 times\n",
    "  1274506 (11.12%) were unpaired; of these:\n",
    "    51583 (4.05%) aligned 0 times\n",
    "    665468 (52.21%) aligned exactly 1 time\n",
    "    557455 (43.74%) aligned >1 times\n",
    "97.07% overall alignment rate\n",
    "16543246 reads; of these:\n",
    "  11787792 (71.25%) were paired; of these:\n",
    "    1926558 (16.34%) aligned concordantly 0 times\n",
    "    6571409 (55.75%) aligned concordantly exactly 1 time\n",
    "    3289825 (27.91%) aligned concordantly >1 times\n",
    "    ----\n",
    "    1926558 pairs aligned concordantly 0 times; of these:\n",
    "      788708 (40.94%) aligned discordantly 1 time\n",
    "    ----\n",
    "    1137850 pairs aligned 0 times concordantly or discordantly; of these:\n",
    "      2275700 mates make up the pairs; of these:\n",
    "        585052 (25.71%) aligned 0 times\n",
    "        532601 (23.40%) aligned exactly 1 time\n",
    "        1158047 (50.89%) aligned >1 times\n",
    "  4755454 (28.75%) were unpaired; of these:\n",
    "    167802 (3.53%) aligned 0 times\n",
    "    2562632 (53.89%) aligned exactly 1 time\n",
    "    2025020 (42.58%) aligned >1 times\n",
    "97.34% overall alignment rate"
   ]
  },
  {
   "cell_type": "markdown",
   "metadata": {},
   "source": [
    "Sort sam, convert to bam"
   ]
  },
  {
   "cell_type": "code",
   "execution_count": null,
   "metadata": {
    "collapsed": true
   },
   "outputs": [],
   "source": [
    "for dir in $(ls); do cd $dir; java -jar /local/home/sarahgw/picard.jar SortSam \\\n",
    "      I=$(pwd)/\"$dir\"_pairedplus_eg2.sam \\\n",
    "      O=$(pwd)/\"$dir\"_pairedplus_eg2_sorted.bam \\\n",
    "      SORT_ORDER=coordinate; cd ..; done"
   ]
  },
  {
   "cell_type": "markdown",
   "metadata": {},
   "source": [
    "Remove duplicates"
   ]
  },
  {
   "cell_type": "code",
   "execution_count": null,
   "metadata": {
    "collapsed": true
   },
   "outputs": [],
   "source": [
    "for dir in $(ls); do cd $dir; java -jar /local/home/sarahgw/picard.jar MarkDuplicates \\\n",
    "      I=$(pwd)/\"$dir\"_pairedplus_eg2_sorted.bam \\\n",
    "      O=$(pwd)/\"$dir\"_pairedplus_marked_dupes.bam \\\n",
    "      M=$(pwd)/\"$dir\"_pairedplus_marked_dup_metrics.txt \\\n",
    "      REMOVE_DUPLICATES=true \\\n",
    "      ASSUME_SORT_ORDER=coordinate; cd ..; done "
   ]
  },
  {
   "cell_type": "code",
   "execution_count": 4,
   "metadata": {},
   "outputs": [
    {
     "name": "stdout",
     "output_type": "stream",
     "text": [
      "## htsjdk.samtools.metrics.StringHeader\r\n",
      "# picard.sam.markduplicates.MarkDuplicates INPUT=[/local/home/sarahgw/WGS/Sequences/Pool3/NJ_E_04/NJ_E_04_pairedplus_eg2_sorted.bam] OUTPUT=/local/home/sarahgw/WGS/Sequences/Pool3/NJ_E_04/NJ_E_04_pairedplus_marked_dupes.bam METRICS_FILE=/local/home/sarahgw/WGS/Sequences/Pool3/NJ_E_04/NJ_E_04_pairedplus_marked_dup_metrics.txt REMOVE_DUPLICATES=true ASSUME_SORT_ORDER=coordinate    MAX_SEQUENCES_FOR_DISK_READ_ENDS_MAP=50000 MAX_FILE_HANDLES_FOR_READ_ENDS_MAP=8000 SORTING_COLLECTION_SIZE_RATIO=0.25 REMOVE_SEQUENCING_DUPLICATES=false TAGGING_POLICY=DontTag ASSUME_SORTED=false DUPLICATE_SCORING_STRATEGY=SUM_OF_BASE_QUALITIES PROGRAM_RECORD_ID=MarkDuplicates PROGRAM_GROUP_NAME=MarkDuplicates READ_NAME_REGEX=<optimized capture of last three ':' separated fields as numeric values> OPTICAL_DUPLICATE_PIXEL_DISTANCE=100 VERBOSITY=INFO QUIET=false VALIDATION_STRINGENCY=STRICT COMPRESSION_LEVEL=5 MAX_RECORDS_IN_RAM=500000 CREATE_INDEX=false CREATE_MD5_FILE=false GA4GH_CLIENT_SECRETS=client_secrets.json\r\n",
      "## htsjdk.samtools.metrics.StringHeader\r\n",
      "# Started on: Tue May 16 22:21:25 EDT 2017\r\n",
      "\r\n",
      "## METRICS CLASS\tpicard.sam.DuplicationMetrics\r\n",
      "LIBRARY\tUNPAIRED_READS_EXAMINED\tREAD_PAIRS_EXAMINED\tSECONDARY_OR_SUPPLEMENTARY_RDS\tUNMAPPED_READS\tUNPAIRED_READ_DUPLICATES\tREAD_PAIR_DUPLICATES\tREAD_PAIR_OPTICAL_DUPLICATES\tPERCENT_DUPLICATION\tESTIMATED_LIBRARY_SIZE\r\n",
      "Unknown Library\t357507\t5597501\t0\t361989\t39705\t682956\t1044\t0.121672\t21059031\r\n",
      "\r\n",
      "## HISTOGRAM\tjava.lang.Double\r\n"
     ]
    }
   ],
   "source": [
    "!head /local/home/sarahgw/WGS/Sequences/Pool3/NJ_E_04/NJ_E_04_pairedplus_marked_dup_metrics.txt"
   ]
  },
  {
   "cell_type": "markdown",
   "metadata": {
    "collapsed": true
   },
   "source": [
    "Calculate coverage stats using bedtools"
   ]
  },
  {
   "cell_type": "code",
   "execution_count": null,
   "metadata": {
    "collapsed": true
   },
   "outputs": [],
   "source": [
    "for dir in $(ls); do cd $dir; samtools view -b $(pwd)/\"$dir\"_pairedplus_marked_dupes.bam | genomeCoverageBed -ibam stdin -g /local/home/sarahgw/references/Myotis_Lucifugus2.0/Myoluc_genomeFile.txt>$(pwd)/\"$dir\"_Coverage.txt; cd ..; done"
   ]
  },
  {
   "cell_type": "code",
   "execution_count": null,
   "metadata": {
    "collapsed": true
   },
   "outputs": [],
   "source": [
    "for dir in $(ls); do cd $dir; samtools view -b $(pwd)/\"$dir\"_pairedplus_marked_dupes.bam | genomeCoverageBed -d -ibam stdin -g /local/home/sarahgw/references/Myotis_Lucifugus2.0/Myoluc_genomeFile.txt>$(pwd)/\"$dir\"_BaseCoverage.txt; cd ..; done "
   ]
  },
  {
   "cell_type": "code",
   "execution_count": null,
   "metadata": {
    "collapsed": true
   },
   "outputs": [],
   "source": [
    "samtools view -b NJ_E_25_pairedplus_marked_dupes.bam | genomeCoverageBed -d -ibam stdin -g /local/home/sarahgw/references/Myotis_Lucifugus2.0/Myoluc_genomeFile.txt>NJ_E_25_BaseCoverage.txt"
   ]
  },
  {
   "cell_type": "code",
   "execution_count": null,
   "metadata": {
    "collapsed": true
   },
   "outputs": [],
   "source": [
    "for dir in $(ls); do cd $dir;  sed \"s/$/\\t\"$dir\"/\" \"$dir\"_Coverage.txt > \"$dir\"_Coverage_name.txt ; cd ..; done"
   ]
  },
  {
   "cell_type": "markdown",
   "metadata": {},
   "source": [
    "cat coverage together"
   ]
  },
  {
   "cell_type": "code",
   "execution_count": null,
   "metadata": {
    "collapsed": true
   },
   "outputs": [],
   "source": [
    "cat ./*/*_Coverage.txt >> ./Coverage_all.txt"
   ]
  },
  {
   "cell_type": "markdown",
   "metadata": {},
   "source": [
    "Test printing coverage for just one locus (SNP)"
   ]
  },
  {
   "cell_type": "code",
   "execution_count": null,
   "metadata": {
    "collapsed": true
   },
   "outputs": [],
   "source": [
    "samtools view -b NJ_E_25_pairedplus_marked_dupes.bam GL429793:3619488 | genomeCoverageBed -d -ibam stdin -g /local/home/sarahgw/references/Myoluc_genomeFile.txt"
   ]
  }
 ],
 "metadata": {
  "anaconda-cloud": {},
  "kernelspec": {
   "display_name": "Python 2",
   "language": "python",
   "name": "python2"
  },
  "language_info": {
   "codemirror_mode": {
    "name": "ipython",
    "version": 2
   },
   "file_extension": ".py",
   "mimetype": "text/x-python",
   "name": "python",
   "nbconvert_exporter": "python",
   "pygments_lexer": "ipython2",
   "version": "2.7.13"
  }
 },
 "nbformat": 4,
 "nbformat_minor": 1
}
