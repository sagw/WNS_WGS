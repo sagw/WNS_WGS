{
 "cells": [
  {
   "cell_type": "code",
   "execution_count": 1,
   "metadata": {
    "collapsed": true
   },
   "outputs": [],
   "source": [
    "!ls /local/home/sarahgw/WGS/Sequences/Mymy_Bam/ > /local/home/sarahgw/WGS/Sequences/filelists/Mymy.filelist"
   ]
  },
  {
   "cell_type": "code",
   "execution_count": 2,
   "metadata": {},
   "outputs": [
    {
     "name": "stdout",
     "output_type": "stream",
     "text": [
      "MY_1_pairedplus_marked_dupes.bam\r\n",
      "MY_2_pairedplus_marked_dupes.bam\r\n",
      "MY_3_pairedplus_marked_dupes.bam\r\n",
      "MY_4_pairedplus_marked_dupes.bam\r\n",
      "MY_5_pairedplus_marked_dupes.bam\r\n",
      "MY_6_pairedplus_marked_dupes.bam\r\n"
     ]
    }
   ],
   "source": [
    "!head /local/home/sarahgw/WGS/Sequences/filelists/Mymy.filelist"
   ]
  },
  {
   "cell_type": "markdown",
   "metadata": {},
   "source": [
    "calculate mafs from snps called in mylu"
   ]
  },
  {
   "cell_type": "code",
   "execution_count": null,
   "metadata": {
    "collapsed": true
   },
   "outputs": [],
   "source": [
    "~/angsd/angsd/angsd -b /local/home/sarahgw/WGS/Sequences/filelists/Mymy.filelist -GL 1 -doMajorMinor 3 -doMaf 11 -doCounts 1 -minQ 20 -minMapQ 30 -P 30 -setMaxDepth 60 -sites /local/home/sarahgw/WGS/SNPS/All_mylu/snps/All_mylu_snps_filt_sites1.txt -out /local/home/sarahgw/WGS/SNPS/Mymy/Mymy_filt\n"
   ]
  },
  {
   "cell_type": "code",
   "execution_count": null,
   "metadata": {
    "collapsed": true
   },
   "outputs": [],
   "source": []
  }
 ],
 "metadata": {
  "kernelspec": {
   "display_name": "Python 2",
   "language": "python",
   "name": "python2"
  },
  "language_info": {
   "codemirror_mode": {
    "name": "ipython",
    "version": 2
   },
   "file_extension": ".py",
   "mimetype": "text/x-python",
   "name": "python",
   "nbconvert_exporter": "python",
   "pygments_lexer": "ipython2",
   "version": "2.7.13"
  }
 },
 "nbformat": 4,
 "nbformat_minor": 2
}
