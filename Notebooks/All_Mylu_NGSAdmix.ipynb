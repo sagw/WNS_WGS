{
 "cells": [
  {
   "cell_type": "markdown",
   "metadata": {},
   "source": [
    "run 5 times for every k value"
   ]
  },
  {
   "cell_type": "code",
   "execution_count": null,
   "metadata": {
    "collapsed": true
   },
   "outputs": [],
   "source": [
    "for i in {2..5}; do ~/angsd/angsd/misc/NGSadmix -likes /local/home/sarahgw/WGS/SNPS/All_mylu/genolike/All_mylu_gl_filt.beagle.gz -K 4 -P 30 -o /local/home/sarahgw/WGS/SNPS/All_mylu/genolike/All_mylu_gl_filt_admix4.\"$i\"; done \n"
   ]
  },
  {
   "cell_type": "markdown",
   "metadata": {},
   "source": [
    "Attempt to figure out which k value is best"
   ]
  },
  {
   "cell_type": "code",
   "execution_count": 3,
   "metadata": {
    "scrolled": true
   },
   "outputs": [
    {
     "name": "stdout",
     "output_type": "stream",
     "text": [
      "All_mylu_gl_filt_admix1.1.log  All_mylu_gl_filt_admix5.1.log\r\n",
      "All_mylu_gl_filt_admix1.2.log  All_mylu_gl_filt_admix5.2.log\r\n",
      "All_mylu_gl_filt_admix1.3.log  All_mylu_gl_filt_admix5.3.log\r\n",
      "All_mylu_gl_filt_admix1.4.log  All_mylu_gl_filt_admix5.4.log\r\n",
      "All_mylu_gl_filt_admix1.5.log  All_mylu_gl_filt_admix5.5.log\r\n",
      "All_mylu_gl_filt_admix2.1.log  All_mylu_gl_filt_admix6.1.log\r\n",
      "All_mylu_gl_filt_admix2.2.log  All_mylu_gl_filt_admix6.2.log\r\n",
      "All_mylu_gl_filt_admix2.3.log  All_mylu_gl_filt_admix6.3.log\r\n",
      "All_mylu_gl_filt_admix2.4.log  All_mylu_gl_filt_admix6.4.log\r\n",
      "All_mylu_gl_filt_admix2.5.log  All_mylu_gl_filt_admix7.1.log\r\n",
      "All_mylu_gl_filt_admix3.1.log  All_mylu_gl_filt_admix7.2.log\r\n",
      "All_mylu_gl_filt_admix3.2.log  All_mylu_gl_filt_admix7.3.log\r\n",
      "All_mylu_gl_filt_admix3.3.log  All_mylu_gl_filt_admix7.4.log\r\n",
      "All_mylu_gl_filt_admix3.4.log  All_mylu_gl_filt_admix7.5.log\r\n",
      "All_mylu_gl_filt_admix3.5.log  All_mylu_gl_filt_admix8.1.log\r\n",
      "All_mylu_gl_filt_admix4.1.log  All_mylu_gl_filt_admix8.2.log\r\n",
      "All_mylu_gl_filt_admix4.2.log  All_mylu_gl_filt_admix8.3.log\r\n",
      "All_mylu_gl_filt_admix4.3.log  All_mylu_gl_filt_admix8.4.log\r\n",
      "All_mylu_gl_filt_admix4.4.log  All_mylu_gl_filt_admix8.5.log\r\n",
      "All_mylu_gl_filt_admix4.5.log\r\n"
     ]
    }
   ],
   "source": [
    "!ls /local/home/sarahgw/WGS/SNPS/All_mylu/genolike/admix/logs/"
   ]
  },
  {
   "cell_type": "code",
   "execution_count": 1,
   "metadata": {
    "scrolled": true
   },
   "outputs": [
    {
     "name": "stdout",
     "output_type": "stream",
     "text": [
      "Input: lname=/local/home/sarahgw/WGS/SNPS/All_mylu/genolike/All_mylu_gl_filt.beagle.gz nPop=6, fname=(null) qname=(null) outfiles=/local/home/sarahgw/WGS/SNPS/All_mylu/genolike/All_mylu_gl_filt_admix\r\n",
      "Setup: seed=1525977194 nThreads=20 method=1\r\n",
      "Convergence: maxIter=2000 tol=0.000010 tolLike50=0.100000 dymBound=0\r\n",
      "Filters: misTol=0.050000 minMaf=0.050000 minLrt=0.000000 minInd=0\r\n",
      "Input file has dim: nsites=44829666 nind=132\r\n",
      "Input file has dim (AFTER filtering): nsites=23111830 nind=132\r\n",
      "\t[ALL done] cpu-time used =  753994.19 sec\r\n",
      "\t[ALL done] walltime used =  76297.00 sec\r\n",
      "best like=-2771083861.320311 after 2000 iterations\r\n"
     ]
    }
   ],
   "source": [
    "!cat /local/home/sarahgw/WGS/SNPS/All_mylu/genolike/All_mylu_gl_filt_admix.log"
   ]
  },
  {
   "cell_type": "code",
   "execution_count": 1,
   "metadata": {},
   "outputs": [
    {
     "name": "stdout",
     "output_type": "stream",
     "text": [
      "9 /local/home/sarahgw/WGS/SNPS/All_mylu/genolike/All_mylu_gl_filt_admix6.2.log\r\n"
     ]
    }
   ],
   "source": [
    "!wc -l /local/home/sarahgw/WGS/SNPS/All_mylu/genolike/All_mylu_gl_filt_admix6.2.log"
   ]
  },
  {
   "cell_type": "markdown",
   "metadata": {},
   "source": []
  },
  {
   "cell_type": "code",
   "execution_count": 6,
   "metadata": {
    "scrolled": false
   },
   "outputs": [
    {
     "name": "stdout",
     "output_type": "stream",
     "text": [
      "9\n",
      "9\n",
      "9\n",
      "9\n",
      "9\n",
      "9\n",
      "9\n",
      "9\n",
      "9\n",
      "9\n",
      "9\n",
      "9\n",
      "9\n",
      "9\n",
      "9\n",
      "9\n",
      "9\n",
      "9\n",
      "9\n",
      "9\n",
      "9\n",
      "9\n",
      "9\n",
      "9\n",
      "9\n",
      "9\n",
      "9\n",
      "9\n",
      "9\n",
      "9\n",
      "9\n",
      "9\n",
      "9\n",
      "9\n",
      "9\n",
      "9\n",
      "9\n",
      "9\n",
      "9\n",
      "9\n"
     ]
    }
   ],
   "source": [
    "#take log files and extract loglikelihood from each, print with k value and repetition\n",
    "from os import listdir, path\n",
    "import re\n",
    "o=open('/local/home/sarahgw/WGS/SNPS/All_mylu/genolike/admix/logs/All_Admix_loglike.csv', 'w')\n",
    "\n",
    "for i in range(1,9):\n",
    "        for j in range(1,6):\n",
    "            f = open('/local/home/sarahgw/WGS/SNPS/All_mylu/genolike/admix/logs/All_mylu_gl_filt_admix{}.{}.log'.format(i,j), 'r')\n",
    "            lines = f.readlines()\n",
    "            #print len(lines)\n",
    "            last = lines[8]\n",
    "            data = re.split('=|a',last, 3)\n",
    "            like = data[1]\n",
    "            likeNum = \"{},{},{}\\n\".format(i, j, like)\n",
    "            o.write(likeNum)\n",
    "        "
   ]
  },
  {
   "cell_type": "code",
   "execution_count": 7,
   "metadata": {},
   "outputs": [
    {
     "name": "stdout",
     "output_type": "stream",
     "text": [
      "1,1,-2841805210.224403 \r\n",
      "1,2,-2841805210.224491 \r\n",
      "1,3,-2841805210.224459 \r\n",
      "1,4,-2841805210.224449 \r\n",
      "1,5,-2841805210.224421 \r\n",
      "2,1,-2827101701.551404 \r\n",
      "2,2,-2827117340.814638 \r\n",
      "2,3,-2827401600.650458 \r\n",
      "2,4,-2827259139.475052 \r\n",
      "2,5,-2827479490.053638 \r\n",
      "3,1,-2812373077.645305 \r\n",
      "3,2,-2813187245.387402 \r\n",
      "3,3,-2812885806.145402 \r\n",
      "3,4,-2812868318.684924 \r\n",
      "3,5,-2813133562.441463 \r\n",
      "4,1,-2798930183.783496 \r\n",
      "4,2,-2798804703.754364 \r\n",
      "4,3,-2798870269.632979 \r\n",
      "4,4,-2799056316.013300 \r\n",
      "4,5,-2799057927.871278 \r\n",
      "5,1,-2785178771.846787 \r\n",
      "5,2,-2785124799.693811 \r\n",
      "5,3,-2785340923.372750 \r\n",
      "5,4,-2785451168.909537 \r\n",
      "5,5,-2785172165.888066 \r\n",
      "6,1,-2771253422.161036 \r\n",
      "6,2,-2771434980.423084 \r\n",
      "6,3,-2771083861.320311 \r\n",
      "6,4,-2771240377.109903 \r\n",
      "6,5,-2771526518.165205 \r\n",
      "7,1,-2757726732.993157 \r\n",
      "7,2,-2757771513.394540 \r\n",
      "7,3,-2757752079.347454 \r\n",
      "7,4,-2757780940.979339 \r\n",
      "7,5,-2757904245.796473 \r\n",
      "8,1,-2744476049.774743 \r\n",
      "8,2,-2744209651.501846 \r\n",
      "8,3,-2744106551.167899 \r\n",
      "8,4,-2743701008.704353 \r\n",
      "8,5,-2744572822.554365 \r\n"
     ]
    }
   ],
   "source": [
    "!cat /local/home/sarahgw/WGS/SNPS/All_mylu/genolike/admix/logs/All_Admix_loglike.csv"
   ]
  },
  {
   "cell_type": "code",
   "execution_count": 3,
   "metadata": {},
   "outputs": [
    {
     "name": "stdout",
     "output_type": "stream",
     "text": [
      "cat: /local/home/sarahgw/WGS/SNPS/All_mylu/genolike/All_mylu_gl_filt_admix2.log: No such file or directory\r\n"
     ]
    }
   ],
   "source": [
    "!cat /local/home/sarahgw/WGS/SNPS/All_mylu/genolike/All_mylu_gl_filt_admix2.log"
   ]
  },
  {
   "cell_type": "code",
   "execution_count": 3,
   "metadata": {},
   "outputs": [
    {
     "name": "stdout",
     "output_type": "stream",
     "text": [
      "Input: lname=/local/home/sarahgw/WGS/SNPS/All_mylu/genolike/All_mylu_gl_filt.beagle.gz nPop=3, fname=(null) qname=(null) outfiles=/local/home/sarahgw/WGS/SNPS/All_mylu/genolike/All_mylu_gl_filt_admix3\r\n",
      "Setup: seed=1529339192 nThreads=10 method=1\r\n",
      "Convergence: maxIter=2000 tol=0.000010 tolLike50=0.100000 dymBound=0\r\n",
      "Filters: misTol=0.050000 minMaf=0.050000 minLrt=0.000000 minInd=0\r\n",
      "Input file has dim: nsites=44829666 nind=132\r\n",
      "Input file has dim (AFTER filtering): nsites=23111830 nind=132\r\n",
      "\t[ALL done] cpu-time used =  550838.19 sec\r\n",
      "\t[ALL done] walltime used =  93449.00 sec\r\n",
      "best like=-2812373077.645305 after 2000 iterations\r\n"
     ]
    }
   ],
   "source": [
    "!cat /local/home/sarahgw/WGS/SNPS/All_mylu/genolike/All_mylu_gl_filt_admix3.log"
   ]
  },
  {
   "cell_type": "code",
   "execution_count": 4,
   "metadata": {},
   "outputs": [
    {
     "name": "stdout",
     "output_type": "stream",
     "text": [
      "Input: lname=/local/home/sarahgw/WGS/SNPS/All_mylu/genolike/All_mylu_gl_filt.beagle.gz nPop=4, fname=(null) qname=(null) outfiles=/local/home/sarahgw/WGS/SNPS/All_mylu/genolike/All_mylu_gl_filt_admix4\r\n",
      "Setup: seed=1528917321 nThreads=10 method=1\r\n",
      "Convergence: maxIter=2000 tol=0.000010 tolLike50=0.100000 dymBound=0\r\n",
      "Filters: misTol=0.050000 minMaf=0.050000 minLrt=0.000000 minInd=0\r\n",
      "Input file has dim: nsites=44829666 nind=132\r\n",
      "Input file has dim (AFTER filtering): nsites=23111830 nind=132\r\n",
      "\t[ALL done] cpu-time used =  622383.31 sec\r\n",
      "\t[ALL done] walltime used =  99429.00 sec\r\n",
      "best like=-2798930183.783496 after 2000 iterations\r\n"
     ]
    }
   ],
   "source": [
    "!cat /local/home/sarahgw/WGS/SNPS/All_mylu/genolike/All_mylu_gl_filt_admix4.log"
   ]
  },
  {
   "cell_type": "markdown",
   "metadata": {},
   "source": [
    "Ok, so the question is are these log likelihoods or negative log likelihoods? is it the biggest or smallest number thats the best? "
   ]
  },
  {
   "cell_type": "code",
   "execution_count": 1,
   "metadata": {},
   "outputs": [
    {
     "name": "stdout",
     "output_type": "stream",
     "text": [
      "Input: lname=/local/home/sarahgw/WGS/SNPS/All_mylu/genolike/All_mylu_gl_filt.beagle.gz nPop=8, fname=(null) qname=(null) outfiles=/local/home/sarahgw/WGS/SNPS/All_mylu/genolike/All_mylu_gl_filt_admix8.1\r\n",
      "Setup: seed=1533942361 nThreads=10 method=1\r\n",
      "Convergence: maxIter=2000 tol=0.000010 tolLike50=0.100000 dymBound=0\r\n",
      "Filters: misTol=0.050000 minMaf=0.050000 minLrt=0.000000 minInd=0\r\n",
      "Input file has dim: nsites=44829666 nind=132\r\n",
      "Input file has dim (AFTER filtering): nsites=23111830 nind=132\r\n",
      "\t[ALL done] cpu-time used =  853647.56 sec\r\n",
      "\t[ALL done] walltime used =  127966.00 sec\r\n",
      "best like=-2744476049.774743 after 2000 iterations\r\n"
     ]
    }
   ],
   "source": [
    "!cat /local/home/sarahgw/WGS/SNPS/All_mylu/genolike/All_mylu_gl_filt_admix8.1.log"
   ]
  },
  {
   "cell_type": "code",
   "execution_count": null,
   "metadata": {
    "collapsed": true
   },
   "outputs": [],
   "source": []
  }
 ],
 "metadata": {
  "kernelspec": {
   "display_name": "Python 2",
   "language": "python",
   "name": "python2"
  },
  "language_info": {
   "codemirror_mode": {
    "name": "ipython",
    "version": 2
   },
   "file_extension": ".py",
   "mimetype": "text/x-python",
   "name": "python",
   "nbconvert_exporter": "python",
   "pygments_lexer": "ipython2",
   "version": "2.7.13"
  }
 },
 "nbformat": 4,
 "nbformat_minor": 2
}
