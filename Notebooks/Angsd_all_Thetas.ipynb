{
 "cells": [
  {
   "cell_type": "markdown",
   "metadata": {},
   "source": [
    "Using unfolded safs created in FST notebook"
   ]
  },
  {
   "cell_type": "markdown",
   "metadata": {},
   "source": [
    "sfs for all populations"
   ]
  },
  {
   "cell_type": "code",
   "execution_count": null,
   "metadata": {
    "collapsed": true
   },
   "outputs": [],
   "source": [
    "for POP in NJ_E NJ_U NY_E NY_U VT_E VT_U; do echo $POP; ~/angsd/angsd/misc/realSFS -P 25 /local/home/sarahgw/WGS/SNPS/All_mylu/saf/\"$POP\"_unfilt.saf.idx > /local/home/sarahgw/WGS/SNPS/All_mylu/sfs/\"$POP\"_unfilt.ml; done"
   ]
  },
  {
   "cell_type": "code",
   "execution_count": null,
   "metadata": {
    "collapsed": true
   },
   "outputs": [],
   "source": [
    "for POP in VT_E; do echo $POP; ~/angsd/angsd/misc/realSFS -P 25 /local/home/sarahgw/WGS/SNPS/All_mylu/saf/\"$POP\"_unfilt.saf.idx > /local/home/sarahgw/WGS/SNPS/All_mylu/sfs/\"$POP\"_unfilt.ml; done"
   ]
  },
  {
   "cell_type": "markdown",
   "metadata": {},
   "source": [
    "then, calculate thetas for each pop ONLY FILTERED REGIONS"
   ]
  },
  {
   "cell_type": "code",
   "execution_count": null,
   "metadata": {
    "collapsed": true
   },
   "outputs": [],
   "source": [
    "for POP in NJ_E NJ_U NY_E NY_U VT_E VT_U; do echo $POP; ~/angsd/angsd/angsd -bam /local/home/sarahgw/WGS/Sequences/filelists/\"$POP\".filelist -rf /local/home/sarahgw/WGS/QC/All_mylu_Map1.txt -out /local/home/sarahgw/WGS/SNPS/All_mylu/thetas/\"$POP\"_unfilt_thet -doThetas 1 -doSaf 1 -pest /local/home/sarahgw/WGS/SNPS/All_mylu/sfs/\"$POP\"_unfilt.ml -anc /local/home/sarahgw/references/Myotis_lucifugus.Myoluc2.0.dna_sm.toplevel.fa -GL 1 ; done  "
   ]
  },
  {
   "cell_type": "code",
   "execution_count": null,
   "metadata": {
    "collapsed": true
   },
   "outputs": [],
   "source": [
    "for POP in VT_E; do echo $POP; ~/angsd/angsd/angsd -bam /local/home/sarahgw/WGS/Sequences/filelists/\"$POP\".filelist -rf /local/home/sarahgw/WGS/QC/All_mylu_Map1.txt -out /local/home/sarahgw/WGS/SNPS/All_mylu/thetas/\"$POP\"_unfilt_thet -doThetas 1 -doSaf 1 -pest /local/home/sarahgw/WGS/SNPS/All_mylu/sfs/\"$POP\"_unfilt.ml -anc /local/home/sarahgw/references/Myotis_lucifugus.Myoluc2.0.dna_sm.toplevel.fa -GL 1 ; done  "
   ]
  },
  {
   "cell_type": "markdown",
   "metadata": {},
   "source": [
    "Calculate tajima's d for each scaffold and sliding window"
   ]
  },
  {
   "cell_type": "code",
   "execution_count": null,
   "metadata": {
    "collapsed": true
   },
   "outputs": [],
   "source": [
    "for POP in NJ_E NJ_U NY_E NY_U VT_E VT_U; do echo $POP; /local/home/sarahgw/angsd/angsd/misc/thetaStat do_stat /local/home/sarahgw/WGS/SNPS/All_mylu/thetas/\"$POP\"_unfilt_thet.thetas.idx -nChr 11653; done"
   ]
  },
  {
   "cell_type": "code",
   "execution_count": null,
   "metadata": {
    "collapsed": true
   },
   "outputs": [],
   "source": [
    "for POP in VT_E ; do echo $POP; /local/home/sarahgw/angsd/angsd/misc/thetaStat do_stat /local/home/sarahgw/WGS/SNPS/All_mylu/thetas/\"$POP\"_unfilt_thet.thetas.idx -nChr 11653; done"
   ]
  },
  {
   "cell_type": "code",
   "execution_count": null,
   "metadata": {
    "collapsed": true
   },
   "outputs": [],
   "source": [
    "for POP in NJ_E NJ_U NY_E NY_U VT_E VT_U; do echo $POP; /local/home/sarahgw/angsd/angsd/misc/thetaStat do_stat /data/sarahgw/WGS/SNPS/All_mylu/thetas/\"$POP\"_unfilt_thet.thetas.idx -nChr 11653 -win 10000 -step 10000 -type 1 -outnames \"$POP\"_unfilt_thet_tenthou.thetas_sw ; done"
   ]
  },
  {
   "cell_type": "markdown",
   "metadata": {},
   "source": [
    "PRINT OUT average tajima's d value for each population. So ny gets more negative after but the others dont..."
   ]
  },
  {
   "cell_type": "code",
   "execution_count": 1,
   "metadata": {},
   "outputs": [
    {
     "name": "stdout",
     "output_type": "stream",
     "text": [
      "-0.216811\r\n"
     ]
    }
   ],
   "source": [
    "!awk '{ sum += $9 } END { if (NR > 0) print sum / NR }' /data/sarahgw/WGS/SNPS/All_mylu/thetas/NJ_E_unfilt_thet.thetas.idx.pestPG"
   ]
  },
  {
   "cell_type": "code",
   "execution_count": 2,
   "metadata": {},
   "outputs": [
    {
     "name": "stdout",
     "output_type": "stream",
     "text": [
      "-0.613374\r\n"
     ]
    }
   ],
   "source": [
    "!awk '{ sum += $9 } END { if (NR > 0) print sum / NR }' /local/home/sarahgw/WGS/SNPS/All_mylu/thetas/NJ_U_unfilt_thet.thetas.idx.pestPG"
   ]
  },
  {
   "cell_type": "code",
   "execution_count": null,
   "metadata": {
    "collapsed": true
   },
   "outputs": [],
   "source": []
  },
  {
   "cell_type": "code",
   "execution_count": 3,
   "metadata": {},
   "outputs": [
    {
     "name": "stdout",
     "output_type": "stream",
     "text": [
      "-0.588596\r\n"
     ]
    }
   ],
   "source": [
    "!awk '{ sum += $9 } END { if (NR > 0) print sum / NR }' /local/home/sarahgw/WGS/SNPS/All_mylu/thetas/NY_E_unfilt_thet.thetas.idx.pestPG"
   ]
  },
  {
   "cell_type": "code",
   "execution_count": 4,
   "metadata": {},
   "outputs": [
    {
     "name": "stdout",
     "output_type": "stream",
     "text": [
      "-0.643551\r\n"
     ]
    }
   ],
   "source": [
    "!awk '{ sum += $9 } END { if (NR > 0) print sum / NR }' /local/home/sarahgw/WGS/SNPS/All_mylu/thetas/NY_U_unfilt_thet.thetas.idx.pestPG"
   ]
  },
  {
   "cell_type": "code",
   "execution_count": 1,
   "metadata": {},
   "outputs": [
    {
     "name": "stdout",
     "output_type": "stream",
     "text": [
      "-0.620761\r\n"
     ]
    }
   ],
   "source": [
    "!awk '{ sum += $9 } END { if (NR > 0) print sum / NR }' /local/home/sarahgw/WGS/SNPS/All_mylu/thetas/VT_E_unfilt_thet.thetas.idx.pestPG"
   ]
  },
  {
   "cell_type": "code",
   "execution_count": 1,
   "metadata": {},
   "outputs": [
    {
     "name": "stdout",
     "output_type": "stream",
     "text": [
      "-0.452438\r\n"
     ]
    }
   ],
   "source": [
    "!awk '{ sum += $9 } END { if (NR > 0) print sum / NR }' /local/home/sarahgw/WGS/SNPS/All_mylu/thetas/VT_U_unfilt_thet.thetas.idx.pestPG"
   ]
  },
  {
   "cell_type": "code",
   "execution_count": 15,
   "metadata": {},
   "outputs": [
    {
     "name": "stdout",
     "output_type": "stream",
     "text": [
      "0.0106864\r\n"
     ]
    }
   ],
   "source": [
    "!awk '{ pi += $5 } { sites += $14 } END { if (NR > 0) print pi / (sites) }'  /data/sarahgw/WGS/SNPS/All_mylu/thetas/NJ_U_unfilt_thet.thetas.idx.pestPG"
   ]
  },
  {
   "cell_type": "code",
   "execution_count": 16,
   "metadata": {},
   "outputs": [
    {
     "name": "stdout",
     "output_type": "stream",
     "text": [
      "0.0109355\r\n"
     ]
    }
   ],
   "source": [
    "!awk '{ pi += $5 } { sites += $14 } END { if (NR > 0) print pi / (sites) }'  /data/sarahgw/WGS/SNPS/All_mylu/thetas/NJ_E_unfilt_thet.thetas.idx.pestPG"
   ]
  },
  {
   "cell_type": "code",
   "execution_count": 17,
   "metadata": {},
   "outputs": [
    {
     "name": "stdout",
     "output_type": "stream",
     "text": [
      "0.0108744\r\n"
     ]
    }
   ],
   "source": [
    "!awk '{ pi += $5 } { sites += $14 } END { if (NR > 0) print pi / (sites) }'  /data/sarahgw/WGS/SNPS/All_mylu/thetas/NY_E_unfilt_thet.thetas.idx.pestPG"
   ]
  },
  {
   "cell_type": "code",
   "execution_count": 18,
   "metadata": {},
   "outputs": [
    {
     "name": "stdout",
     "output_type": "stream",
     "text": [
      "0.0103808\r\n"
     ]
    }
   ],
   "source": [
    "!awk '{ pi += $5 } { sites += $14 } END { if (NR > 0) print pi / (sites) }'  /data/sarahgw/WGS/SNPS/All_mylu/thetas/NY_U_unfilt_thet.thetas.idx.pestPG"
   ]
  },
  {
   "cell_type": "code",
   "execution_count": 19,
   "metadata": {},
   "outputs": [
    {
     "name": "stdout",
     "output_type": "stream",
     "text": [
      "0.010954\r\n"
     ]
    }
   ],
   "source": [
    "!awk '{ pi += $5 } { sites += $14 } END { if (NR > 0) print pi / (sites) }'  /data/sarahgw/WGS/SNPS/All_mylu/thetas/VT_E_unfilt_thet.thetas.idx.pestPG"
   ]
  },
  {
   "cell_type": "code",
   "execution_count": 20,
   "metadata": {},
   "outputs": [
    {
     "name": "stdout",
     "output_type": "stream",
     "text": [
      "0.0110591\r\n"
     ]
    }
   ],
   "source": [
    "!awk '{ pi += $5 } { sites += $14 } END { if (NR > 0) print pi / (sites) }'  /data/sarahgw/WGS/SNPS/All_mylu/thetas/VT_U_unfilt_thet.thetas.idx.pestPG"
   ]
  },
  {
   "cell_type": "markdown",
   "metadata": {},
   "source": [
    "Make sliding window output readable, so can graph with R"
   ]
  },
  {
   "cell_type": "code",
   "execution_count": 6,
   "metadata": {},
   "outputs": [
    {
     "name": "stdout",
     "output_type": "stream",
     "text": [
      "#(indexStart,indexStop)(firstPos_withData,lastPos_withData)(WinStart,WinStop)\tChr\tWinCenter\ttW\ttP\ttF\ttH\ttL\tTajima\tfuf\tfud\tfayh\tzeng\tnSites\r\n",
      "(0,60535100)(1,64990067)(0,64990067)\tGL429767\t32495033\t796042.960493\t614764.335227\t1229846.552644\t577175.443890\t595969.889518\t-0.617445\t-1.648116\t-4.113957\t0.003748\t-0.060133\t60535100\r\n"
     ]
    }
   ],
   "source": [
    "!head -n 2 /data/sarahgw/WGS/SNPS/All_mylu/thetas/VT_U_unfilt_thet.thetas.idx.pestPG"
   ]
  },
  {
   "cell_type": "code",
   "execution_count": 1,
   "metadata": {},
   "outputs": [
    {
     "name": "stdout",
     "output_type": "stream",
     "text": [
      "#(indexStart,indexStop)(firstPos_withData,lastPos_withData)(WinStart,WinStop)\tChr\tWinCenter\ttW\ttP\ttF\ttH\ttL\tTajima\tfuf\tfud\tfayh\tzeng\tnSites\r\n",
      "(0,1000)(1,1001)(1,1001)\tGL429767\t501\t7.722199\t7.117644\t0.000130\t6.205720\t6.661682\t-0.193083\t1.477321\t2.733924\t0.009368\t-0.032384\t1000\r\n",
      "(100,1100)(101,1101)(101,1101)\tGL429767\t601\t8.106774\t8.000796\t0.000135\t7.076936\t7.538866\t-0.032375\t1.598442\t2.792071\t0.009041\t-0.016530\t1000\r\n",
      "(200,1200)(201,1201)(201,1201)\tGL429767\t701\t7.871476\t8.065543\t0.000128\t7.247689\t7.656616\t0.060906\t1.649143\t2.756732\t0.008243\t-0.006438\t1000\r\n",
      "(300,1300)(301,1301)(301,1301)\tGL429767\t801\t7.927344\t8.397092\t0.000130\t8.626987\t8.512040\t0.146473\t1.707427\t2.765189\t-0.002301\t0.017399\t1000\r\n",
      "(400,1400)(401,1401)(401,1401)\tGL429767\t901\t8.063316\t8.441832\t0.000131\t9.749852\t9.095842\t0.116201\t1.693715\t2.785600\t-0.012869\t0.030214\t1000\r\n",
      "(500,1500)(501,1501)(501,1501)\tGL429767\t1001\t8.070870\t8.520532\t0.000131\t9.174073\t8.847302\t0.137924\t1.708244\t2.786727\t-0.006424\t0.022699\t1000\r\n",
      "(600,1600)(601,1601)(601,1601)\tGL429767\t1101\t8.010595\t8.609759\t0.000129\t9.895603\t9.252681\t0.185048\t1.736351\t2.777715\t-0.012734\t0.036582\t1000\r\n",
      "(700,1700)(701,1701)(701,1701)\tGL429767\t1201\t8.564351\t8.869335\t0.000139\t9.922482\t9.395908\t0.088582\t1.696593\t2.858774\t-0.009756\t0.022928\t1000\r\n",
      "(800,1800)(801,1801)(801,1801)\tGL429767\t1301\t9.292599\t10.000710\t0.000138\t10.882195\t10.441452\t0.190740\t1.792127\t2.959852\t-0.007526\t0.029224\t1000\r\n"
     ]
    }
   ],
   "source": [
    "!head /local/home/sarahgw/WGS/SNPS/All_mylu/thetas/NJ_E_unfilt_thet.thetas_sw.pestPG"
   ]
  },
  {
   "cell_type": "code",
   "execution_count": 2,
   "metadata": {
    "collapsed": true
   },
   "outputs": [],
   "source": [
    "!awk '{print $2\" \"$3\" \"$5\" \"$9}' /local/home/sarahgw/WGS/SNPS/All_mylu/thetas/NY_E_unfilt_thet.thetas_sw.pestPG | sed -e 's/(/ /g' -e 's/)//g' >/local/home/sarahgw/WGS/SNPS/All_mylu/thetas/NY_E_unfilt_thet.thetas_sw "
   ]
  },
  {
   "cell_type": "code",
   "execution_count": 3,
   "metadata": {
    "collapsed": true
   },
   "outputs": [],
   "source": [
    "!awk '{print $2\" \"$3\" \"$5\" \"$9}' /local/home/sarahgw/WGS/SNPS/All_mylu/thetas/NY_U_unfilt_thet.thetas_sw.pestPG | sed -e 's/(/ /g' -e 's/)//g'>/local/home/sarahgw/WGS/SNPS/All_mylu/thetas/NY_U_unfilt_thet.thetas_sw "
   ]
  },
  {
   "cell_type": "code",
   "execution_count": 4,
   "metadata": {
    "collapsed": true
   },
   "outputs": [],
   "source": [
    "!awk '{print $2\" \"$3\" \"$5\" \"$9}' /local/home/sarahgw/WGS/SNPS/All_mylu/thetas/NJ_E_unfilt_thet.thetas_sw.pestPG | sed -e 's/(/ /g' -e 's/)//g'>/local/home/sarahgw/WGS/SNPS/All_mylu/thetas/NJ_E_unfilt_thet.thetas_sw "
   ]
  },
  {
   "cell_type": "code",
   "execution_count": 5,
   "metadata": {
    "collapsed": true
   },
   "outputs": [],
   "source": [
    "!awk '{print $2\" \"$3\" \"$5\" \"$9}' /local/home/sarahgw/WGS/SNPS/All_mylu/thetas/NJ_U_unfilt_thet.thetas_sw.pestPG | sed -e 's/(/ /g' -e 's/)//g'>/local/home/sarahgw/WGS/SNPS/All_mylu/thetas/NJ_U_unfilt_thet.thetas_sw "
   ]
  },
  {
   "cell_type": "code",
   "execution_count": 6,
   "metadata": {
    "collapsed": true
   },
   "outputs": [],
   "source": [
    "!awk '{print $2\" \"$3\" \"$5\" \"$9}' /local/home/sarahgw/WGS/SNPS/All_mylu/thetas/VT_U_unfilt_thet.thetas_sw.pestPG | sed -e 's/(/ /g' -e 's/)//g' >/local/home/sarahgw/WGS/SNPS/All_mylu/thetas/VT_U_unfilt_thet.thetas_sw "
   ]
  },
  {
   "cell_type": "code",
   "execution_count": 7,
   "metadata": {
    "collapsed": true
   },
   "outputs": [],
   "source": [
    "!awk '{print $2\" \"$3\" \"$5\" \"$9}' /local/home/sarahgw/WGS/SNPS/All_mylu/thetas/VT_E_unfilt_thet.thetas_sw.pestPG | sed -e 's/(/ /g' -e 's/)//g'>/local/home/sarahgw/WGS/SNPS/All_mylu/thetas/VT_E_unfilt_thet.thetas_sw "
   ]
  },
  {
   "cell_type": "code",
   "execution_count": 8,
   "metadata": {},
   "outputs": [
    {
     "name": "stdout",
     "output_type": "stream",
     "text": [
      "Chr WinCenter tP Tajima\r\n",
      "GL429767 501 4.207017 -1.263995\r\n",
      "GL429767 601 4.978192 -1.047803\r\n",
      "GL429767 701 5.221756 -0.954798\r\n",
      "GL429767 801 6.157216 -0.778277\r\n",
      "GL429767 901 7.147500 -0.508915\r\n",
      "GL429767 1001 7.276090 -0.489542\r\n",
      "GL429767 1101 7.823737 -0.424327\r\n",
      "GL429767 1201 8.200961 -0.474947\r\n",
      "GL429767 1301 8.925637 -0.386850\r\n"
     ]
    }
   ],
   "source": [
    "!head /local/home/sarahgw/WGS/SNPS/All_mylu/thetas/VT_E_unfilt_thet.thetas_sw"
   ]
  },
  {
   "cell_type": "code",
   "execution_count": 15,
   "metadata": {},
   "outputs": [
    {
     "name": "stdout",
     "output_type": "stream",
     "text": [
      "tail: cannot open ‘/local/home/sarahgw/WGS/SNPS/All_mylu/thetas/VT_E_thet.thetas_sw_clean’ for reading: No such file or directory\r\n"
     ]
    }
   ],
   "source": []
  },
  {
   "cell_type": "markdown",
   "metadata": {
    "collapsed": true
   },
   "source": [
    "Try to print out thetas for snps"
   ]
  },
  {
   "cell_type": "code",
   "execution_count": null,
   "metadata": {
    "collapsed": true
   },
   "outputs": [],
   "source": [
    "~/angsd/misc/thetaStat print VT_E_thet.thetas.idx -sites /local/home/sarahgw/WGS/SNPS/All_mylu/mafs/VT_E.mafs> VT_E_thet_snps"
   ]
  }
 ],
 "metadata": {
  "anaconda-cloud": {},
  "kernelspec": {
   "display_name": "Python 2",
   "language": "python",
   "name": "python2"
  },
  "language_info": {
   "codemirror_mode": {
    "name": "ipython",
    "version": 2
   },
   "file_extension": ".py",
   "mimetype": "text/x-python",
   "name": "python",
   "nbconvert_exporter": "python",
   "pygments_lexer": "ipython2",
   "version": "2.7.13"
  }
 },
 "nbformat": 4,
 "nbformat_minor": 1
}
