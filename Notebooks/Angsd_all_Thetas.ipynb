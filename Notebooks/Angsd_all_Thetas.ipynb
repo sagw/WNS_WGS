{
 "cells": [
  {
   "cell_type": "markdown",
   "metadata": {},
   "source": [
    "Using unfolded safs created in FST notebook"
   ]
  },
  {
   "cell_type": "markdown",
   "metadata": {},
   "source": [
    "sfs for all populations\n",
    "Ugh. VTE filelist was truncated, redoing"
   ]
  },
  {
   "cell_type": "code",
   "execution_count": null,
   "metadata": {
    "collapsed": true
   },
   "outputs": [],
   "source": [
    "for POP in NJ_E NJ_U NY_E NY_U VT_E VT_U; do echo $POP; ~/angsd/angsd/misc/realSFS -P 25 /local/home/sarahgw/WGS/SNPS/All_mylu/saf/\"$POP\"_unfilt.saf.idx > /local/home/sarahgw/WGS/SNPS/All_mylu/sfs/\"$POP\"_unfilt.ml; done"
   ]
  },
  {
   "cell_type": "code",
   "execution_count": null,
   "metadata": {
    "collapsed": true
   },
   "outputs": [],
   "source": [
    "~/angsd/angsd/misc/realSFS -P 20 /local/home/sarahgw/WGS/SNPS/All_mylu/saf/VT_E_unfilt.saf.idx > /local/home/sarahgw/WGS/SNPS/All_mylu/sfs/\"$POP\"_unfilt.ml; done"
   ]
  },
  {
   "cell_type": "markdown",
   "metadata": {},
   "source": [
    "then, calculate thetas for each pop"
   ]
  },
  {
   "cell_type": "code",
   "execution_count": null,
   "metadata": {
    "collapsed": true
   },
   "outputs": [],
   "source": [
    "for POP in NJ_E NJ_U NY_E NY_U VT_E VT_U; do echo $POP; ~/angsd/angsd/angsd -bam /local/home/sarahgw/WGS/Sequences/filelists/\"$POP\".filelist -out /local/home/sarahgw/WGS/SNPS/All_mylu/thetas/\"$POP\"_unfilt_thet -doThetas 1 -doSaf 1 -pest /local/home/sarahgw/WGS/SNPS/All_mylu/sfs/\"$POP\"_unfilt.ml -anc /local/home/sarahgw/references/Myotis_lucifugus.Myoluc2.0.dna_sm.toplevel.fa -GL 1 ; done  "
   ]
  },
  {
   "cell_type": "markdown",
   "metadata": {},
   "source": [
    "Calculate tajima's d for each scaffold and sliding window"
   ]
  },
  {
   "cell_type": "code",
   "execution_count": null,
   "metadata": {
    "collapsed": true
   },
   "outputs": [],
   "source": [
    "for POP in NJ_E NJ_U NY_E NY_U VT_E VT_U; do echo $POP; /local/home/sarahgw/angsd/angsd/misc/thetaStat do_stat /local/home/sarahgw/WGS/SNPS/All_mylu/thetas/\"$POP\"_unfilt_thet.thetas.idx -nChr 11653; done"
   ]
  },
  {
   "cell_type": "code",
   "execution_count": null,
   "metadata": {
    "collapsed": true
   },
   "outputs": [],
   "source": [
    "for POP in NJ_E NJ_U NY_E NY_U VT_E VT_U; do echo $POP; /local/home/sarahgw/angsd/angsd/misc/thetaStat do_stat /local/home/sarahgw/WGS/SNPS/All_mylu/thetas/\"$POP\"_unfilt_thet.thetas.idx -nChr 11653 -win 1000 -step 1 -type 1 -outnames \"$POP\"_unfilt_thet.thetas_sw ; done"
   ]
  },
  {
   "cell_type": "markdown",
   "metadata": {},
   "source": [
    "PRINT OUT average tajima's d value for each population. So ny gets more negative after but the others dont..."
   ]
  },
  {
   "cell_type": "code",
   "execution_count": 1,
   "metadata": {},
   "outputs": [
    {
     "name": "stdout",
     "output_type": "stream",
     "text": [
      "-0.753217\r\n"
     ]
    }
   ],
   "source": [
    "!awk '{ sum += $9 } END { if (NR > 0) print sum / NR }' /local/home/sarahgw/WGS/SNPS/All_mylu/thetas/NJ_E_unfilt_thet.thetas.idx.pestPG"
   ]
  },
  {
   "cell_type": "code",
   "execution_count": 2,
   "metadata": {},
   "outputs": [
    {
     "name": "stdout",
     "output_type": "stream",
     "text": [
      "-0.805294\r\n"
     ]
    }
   ],
   "source": [
    "!awk '{ sum += $9 } END { if (NR > 0) print sum / NR }' /local/home/sarahgw/WGS/SNPS/All_mylu/thetas/NJ_U_unfilt_thet.thetas.idx.pestPG"
   ]
  },
  {
   "cell_type": "code",
   "execution_count": 3,
   "metadata": {},
   "outputs": [
    {
     "name": "stdout",
     "output_type": "stream",
     "text": [
      "-0.732151\r\n"
     ]
    }
   ],
   "source": [
    "!awk '{ sum += $9 } END { if (NR > 0) print sum / NR }' /local/home/sarahgw/WGS/SNPS/All_mylu/thetas/NY_E_unfilt_thet.thetas.idx.pestPG"
   ]
  },
  {
   "cell_type": "code",
   "execution_count": 4,
   "metadata": {},
   "outputs": [
    {
     "name": "stdout",
     "output_type": "stream",
     "text": [
      "-0.643551\r\n"
     ]
    }
   ],
   "source": [
    "!awk '{ sum += $9 } END { if (NR > 0) print sum / NR }' /local/home/sarahgw/WGS/SNPS/All_mylu/thetas/NY_U_unfilt_thet.thetas.idx.pestPG"
   ]
  },
  {
   "cell_type": "code",
   "execution_count": 5,
   "metadata": {},
   "outputs": [
    {
     "name": "stdout",
     "output_type": "stream",
     "text": [
      "14.6957\r\n"
     ]
    }
   ],
   "source": [
    "!awk '{ sum += $9 } END { if (NR > 0) print sum / NR }' /local/home/sarahgw/WGS/SNPS/All_mylu/thetas/VT_E_unfilt_thet.arg"
   ]
  },
  {
   "cell_type": "code",
   "execution_count": 6,
   "metadata": {},
   "outputs": [
    {
     "name": "stdout",
     "output_type": "stream",
     "text": [
      "-0.649961\r\n"
     ]
    }
   ],
   "source": [
    "!awk '{ sum += $9 } END { if (NR > 0) print sum / NR }' /local/home/sarahgw/WGS/SNPS/All_mylu/thetas/VT_U_unfilt_thet.thetas.idx.pestPG"
   ]
  },
  {
   "cell_type": "markdown",
   "metadata": {},
   "source": [
    "Make sliding window output readable, so can graph with R"
   ]
  },
  {
   "cell_type": "code",
   "execution_count": 18,
   "metadata": {
    "collapsed": true
   },
   "outputs": [],
   "source": [
    "!awk '{print $1\" \"$2\" \"$4\" \"$9}' /local/home/sarahgw/WGS/SNPS/All_mylu/thetas/NY_E_thet.thetas.idx.pestPG>/local/home/sarahgw/WGS/SNPS/All_mylu/thetas/NY_E_thet.thetas_sw "
   ]
  },
  {
   "cell_type": "code",
   "execution_count": 2,
   "metadata": {
    "collapsed": true
   },
   "outputs": [],
   "source": [
    "!awk '{print $1\" \"$2\" \"$4\" \"$9}' /local/home/sarahgw/WGS/SNPS/All_mylu/thetas/NY_U_thet.thetas_sw.idx.pestPG>/local/home/sarahgw/WGS/SNPS/All_mylu/thetas/NY_U_thet.thetas_sw "
   ]
  },
  {
   "cell_type": "code",
   "execution_count": 3,
   "metadata": {
    "collapsed": true
   },
   "outputs": [],
   "source": [
    "!awk '{print $1\" \"$2\" \"$4\" \"$9}' /local/home/sarahgw/WGS/SNPS/All_mylu/thetas/NJ_E_thet.thetas_sw.idx.pestPG>/local/home/sarahgw/WGS/SNPS/All_mylu/thetas/NJ_E_thet.thetas_sw "
   ]
  },
  {
   "cell_type": "code",
   "execution_count": 5,
   "metadata": {
    "collapsed": true
   },
   "outputs": [],
   "source": [
    "!awk '{print $1\" \"$2\" \"$4\" \"$9}' /local/home/sarahgw/WGS/SNPS/All_mylu/thetas/NJ_U_thet.thetas_sw.pestPG>/local/home/sarahgw/WGS/SNPS/All_mylu/thetas/NJ_U_thet.thetas_sw "
   ]
  },
  {
   "cell_type": "code",
   "execution_count": 9,
   "metadata": {
    "collapsed": true
   },
   "outputs": [],
   "source": [
    "!awk '{print $1\" \"$2\" \"$4\" \"$9}' /local/home/sarahgw/WGS/SNPS/All_mylu/thetas/VT_E_thet.thetas_sw.idx.pestPG>/local/home/sarahgw/WGS/SNPS/All_mylu/thetas/VT_E_thet.thetas_sw "
   ]
  },
  {
   "cell_type": "code",
   "execution_count": 15,
   "metadata": {},
   "outputs": [
    {
     "name": "stdout",
     "output_type": "stream",
     "text": [
      "(indexStart,indexStop)(firstPos_withData,lastPos_withData)(WinStart,WinStop) Chr tW Tajima\r\n",
      "(0,9885)(1,10001)(1,10001) GL429767 79.865967 -1.019109\r\n",
      "(1999,11839)(2001,12001)(2001,12001) GL429767 82.479826 -1.104860\r\n",
      "(3999,13196)(4001,14001)(4001,14001) GL429767 80.563253 -1.009152\r\n",
      "(5999,15193)(6001,16001)(6001,16001) GL429767 82.309074 -1.064880\r\n",
      "(7999,17193)(8001,18001)(8001,18001) GL429767 86.958483 -1.115472\r\n",
      "(9885,19193)(10001,20001)(10001,20001) GL429767 86.117743 -1.248427\r\n",
      "(11839,21193)(12001,22001)(12001,22001) GL429767 80.846363 -1.217931\r\n",
      "(13196,23193)(14001,24001)(14001,24001) GL429767 86.425761 -1.217161\r\n",
      "(15193,25193)(16001,26001)(16001,26001) GL429767 88.774703 -1.069414\r\n"
     ]
    }
   ],
   "source": [
    "!head /local/home/sarahgw/WGS/SNPS/All_mylu/thetas/VT_E_thet.thetas_sw"
   ]
  },
  {
   "cell_type": "code",
   "execution_count": 17,
   "metadata": {},
   "outputs": [
    {
     "name": "stdout",
     "output_type": "stream",
     "text": [
      "(0,9970)(1,10001)(1,10001) AAPE02065762 94.500509 -0.891320\r\n",
      "(0,9717)(1,10001)(1,10001) GL432830 92.306153 -1.157279\r\n",
      "(0,9902)(1,10001)(1,10001) AAPE02065763 298.669628 0.100806\r\n",
      "(0,9930)(1,10001)(1,10001) AAPE02065764 94.820067 -1.086159\r\n",
      "(0,9922)(1,10001)(1,10001) AAPE02065765 96.507986 -0.597570\r\n",
      "(0,9571)(14,10014)(14,10014) AAPE02065766 99.697970 -1.056936\r\n",
      "(0,9952)(2,10002)(2,10002) AAPE02065769 110.981363 -0.775713\r\n",
      "(0,9860)(1,10001)(1,10001) AAPE02065770 97.760269 -1.109547\r\n",
      "(0,9973)(1,10001)(1,10001) AAPE02065771 103.816389 -0.676920\r\n",
      "(0,9951)(79,10079)(79,10079) AAPE02065772 102.614293 -0.923153\r\n"
     ]
    }
   ],
   "source": [
    "!tail /local/home/sarahgw/WGS/SNPS/All_mylu/thetas/VT_E_thet.thetas_sw_clean"
   ]
  },
  {
   "cell_type": "code",
   "execution_count": 16,
   "metadata": {
    "collapsed": true
   },
   "outputs": [],
   "source": [
    "!sed '$d' /local/home/sarahgw/WGS/SNPS/All_mylu/thetas/VT_E_thet.thetas_sw>/local/home/sarahgw/WGS/SNPS/All_mylu/thetas/VT_E_thet.thetas_sw_clean"
   ]
  },
  {
   "cell_type": "code",
   "execution_count": 1,
   "metadata": {
    "collapsed": true
   },
   "outputs": [],
   "source": [
    "!awk '{print $1\" \"$2\" \"$4\" \"$9}' /local/home/sarahgw/WGS/SNPS/All_mylu/thetas/VT_U_thet_sw.pestPG >/local/home/sarahgw/WGS/SNPS/All_mylu/thetas/VT_U_thet.thetas_sw "
   ]
  },
  {
   "cell_type": "code",
   "execution_count": null,
   "metadata": {
    "collapsed": true
   },
   "outputs": [],
   "source": [
    "sed -e 's/(/ /g' -e 's/)//g' /local/home/sarahgw/WGS/SNPS/All_mylu/thetas/NY_E_thet.thetas_sw > /local/home/sarahgw/WGS/SNPS/All_mylu/thetas/NY_E_thet.thetas_sw2"
   ]
  },
  {
   "cell_type": "code",
   "execution_count": null,
   "metadata": {
    "collapsed": true
   },
   "outputs": [],
   "source": [
    "sed -e 's/(/ /g' -e 's/)//g' /local/home/sarahgw/WGS/SNPS/All_mylu/thetas/NY_U_thet.thetas_sw > /local/home/sarahgw/WGS/SNPS/All_mylu/thetas/NY_U_thet.thetas_sw2"
   ]
  },
  {
   "cell_type": "code",
   "execution_count": null,
   "metadata": {
    "collapsed": true
   },
   "outputs": [],
   "source": [
    "sed -e 's/(/ /g' -e 's/)//g' /local/home/sarahgw/WGS/SNPS/All_mylu/thetas/NJ_U_thet.thetas_sw > /local/home/sarahgw/WGS/SNPS/All_mylu/thetas/NJ_U_thet.thetas_sw2"
   ]
  },
  {
   "cell_type": "code",
   "execution_count": null,
   "metadata": {
    "collapsed": true
   },
   "outputs": [],
   "source": [
    "sed -e 's/(/ /g' -e 's/)//g' /local/home/sarahgw/WGS/SNPS/All_mylu/thetas/NJ_E_thet.thetas_sw > /local/home/sarahgw/WGS/SNPS/All_mylu/thetas/NJ_E_thet.thetas_sw2"
   ]
  },
  {
   "cell_type": "code",
   "execution_count": null,
   "metadata": {
    "collapsed": true
   },
   "outputs": [],
   "source": [
    "sed -e 's/(/ /g' -e 's/)//g' /local/home/sarahgw/WGS/SNPS/All_mylu/thetas/VT_E_thet.thetas_sw_clean > /local/home/sarahgw/WGS/SNPS/All_mylu/thetas/VT_E_thet.thetas_sw2"
   ]
  },
  {
   "cell_type": "code",
   "execution_count": null,
   "metadata": {
    "collapsed": true
   },
   "outputs": [],
   "source": [
    "sed -e 's/(/ /g' -e 's/)//g' /local/home/sarahgw/WGS/SNPS/All_mylu/thetas/VT_U_thet.thetas_sw > /local/home/sarahgw/WGS/SNPS/All_mylu/thetas/VT_U_thet.thetas_sw2"
   ]
  },
  {
   "cell_type": "markdown",
   "metadata": {
    "collapsed": true
   },
   "source": [
    "Try to print out thetas for snps"
   ]
  },
  {
   "cell_type": "code",
   "execution_count": null,
   "metadata": {
    "collapsed": true
   },
   "outputs": [],
   "source": [
    "~/angsd/misc/thetaStat print VT_E_thet.thetas.idx -sites /local/home/sarahgw/WGS/SNPS/All_mylu/mafs/VT_E.mafs> VT_E_thet_snps"
   ]
  }
 ],
 "metadata": {
  "anaconda-cloud": {},
  "kernelspec": {
   "display_name": "Python 2",
   "language": "python",
   "name": "python2"
  },
  "language_info": {
   "codemirror_mode": {
    "name": "ipython",
    "version": 2
   },
   "file_extension": ".py",
   "mimetype": "text/x-python",
   "name": "python",
   "nbconvert_exporter": "python",
   "pygments_lexer": "ipython2",
   "version": "2.7.13"
  }
 },
 "nbformat": 4,
 "nbformat_minor": 1
}
