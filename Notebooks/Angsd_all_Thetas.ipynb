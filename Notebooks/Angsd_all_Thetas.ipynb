{
 "cells": [
  {
   "cell_type": "markdown",
   "metadata": {},
   "source": [
    "Using folded SAFs, because supposedly it doesn't matter and I have them\n",
    "\n",
    "on annotate\n",
    "\n",
    "First do a 1d folded sfs for each population"
   ]
  },
  {
   "cell_type": "code",
   "execution_count": null,
   "metadata": {
    "collapsed": true
   },
   "outputs": [],
   "source": [
    "~/angsd/misc/realSFS -P 30 /local/home/sarahgw/WGS/SNPS/All_mylu/saf/NJ_U.saf.idx > /local/home/sarahgw/WGS/SNPS/All_mylu/saf/NJ_U.ml"
   ]
  },
  {
   "cell_type": "markdown",
   "metadata": {},
   "source": [
    "Redo folded saf for NJ_U and VT_U excluding septentrionalis"
   ]
  },
  {
   "cell_type": "markdown",
   "metadata": {},
   "source": [
    "something wrong with the NJU saf file, redoing, then move and run sfs"
   ]
  },
  {
   "cell_type": "code",
   "execution_count": null,
   "metadata": {
    "collapsed": true
   },
   "outputs": [],
   "source": [
    "~/angsd/angsd -P 30 -b /local/home/sarahgw/WGS/Sequences/filelists/NJ_U.filelist -anc /local/home/sarahgw/references/Myotis_Lucifugus2.0/Myotis_lucifugus.Myoluc2.0.dna_sm.toplevel.fa -GL 1 -dosaf 1 -fold 1 -minMapQ 30 -minQ 20 -out /local/home/sarahgw/WGS/SNPS/All_mylu/saf/NJ_U  "
   ]
  },
  {
   "cell_type": "code",
   "execution_count": null,
   "metadata": {
    "collapsed": true
   },
   "outputs": [],
   "source": [
    "~/angsd/angsd -P 30 -b /local/home/sarahgw/WGS/Sequences/filelists/VT_U.filelist -anc /local/home/sarahgw/references/Myotis_Lucifugus2.0/Myotis_lucifugus.Myoluc2.0.dna_sm.toplevel.fa -GL 1 -dosaf 1 -fold 1 -minMapQ 30 -minQ 20 -out /local/home/sarahgw/WGS/SNPS/All_mylu/VT_U  "
   ]
  },
  {
   "cell_type": "markdown",
   "metadata": {},
   "source": [
    "sfs for all populations"
   ]
  },
  {
   "cell_type": "code",
   "execution_count": null,
   "metadata": {
    "collapsed": true
   },
   "outputs": [],
   "source": [
    "for POP in NJ_E NJ_U NY_E NY_U VT_E VT_U; do echo $POP; ~/angsd/angsd/misc/realSFS -P 20 \"$POP\".saf.idx > \"$POP\".ml; done"
   ]
  },
  {
   "cell_type": "code",
   "execution_count": null,
   "metadata": {
    "collapsed": true
   },
   "outputs": [],
   "source": [
    " ~/angsd/angsd/misc/realSFS -P 40 ~/WGS/saf/NJ_U.saf.idx > ~/WGS/sfs/NJ_U.ml"
   ]
  },
  {
   "cell_type": "markdown",
   "metadata": {},
   "source": [
    "then, calculate thetas for each pop, 10/25 redo for NJU and  VTU nomyse\n",
    "remaking NYE and VTE, seems to have been corrupted? REstored from backup on /Scratch/home_1/sarahgw"
   ]
  },
  {
   "cell_type": "code",
   "execution_count": null,
   "metadata": {
    "collapsed": true
   },
   "outputs": [],
   "source": []
  },
  {
   "cell_type": "code",
   "execution_count": null,
   "metadata": {
    "collapsed": true
   },
   "outputs": [],
   "source": [
    "for POP in NJ_E NJ_U NY_E NY_U VT_E VT_U; do echo $POP; ~/angsd/angsd/angsd -bam ~/WGS/filelists/\"$POP\".filelist -out \"$POP\"_thet -doThetas 1 -doSaf 1 -pest ~/WGS/\"$POP\".ml -anc ~/WGS/Myotis_lucifugus.Myoluc2.0.dna_sm.toplevel.fa -GL 1 -fold 1; done  "
   ]
  },
  {
   "cell_type": "code",
   "execution_count": null,
   "metadata": {
    "collapsed": true
   },
   "outputs": [],
   "source": [
    "~/angsd/angsd -bam ~/WGS/Sequences/filelists/NJ_U.filelist -out /local/home/sarahgw/WGS/SNPS/All_mylu/thetas/NJ_U_thet -doThetas 1 -doSaf 1 -pest ~/WGS/SNPS/All_mylu/sfs/NJ_U.ml -anc ~/references/Myotis_Lucifugus2.0/Myotis_lucifugus.Myoluc2.0.dna_sm.toplevel.fa -GL 1 -fold 1"
   ]
  },
  {
   "cell_type": "code",
   "execution_count": null,
   "metadata": {
    "collapsed": true
   },
   "outputs": [],
   "source": [
    "~/angsd/angsd -bam /local/home/sarahgw/WGS/Sequences/filelists/NY_E.filelist -out /local/home/sarahgw/WGS/SNPS/All_mylu/thetas/NY_E_thet -doThetas 1 -doSaf 1 -pest ~/WGS/SNPS/All_mylu/sfs/NY_E.ml -anc /local/home/sarahgw/references/Myotis_Lucifugus2.0/Myotis_lucifugus.Myoluc2.0.dna_sm.toplevel.fa -GL 1 -fold 1 &> /dev/null &"
   ]
  },
  {
   "cell_type": "code",
   "execution_count": null,
   "metadata": {
    "collapsed": true
   },
   "outputs": [],
   "source": [
    "~/angsd/angsd/angsd -bam ~/WGS/filelists/NY_U.filelist -out NY_U_thet -doThetas 1 -doSaf 1 -pest ~/WGS/NY_U.ml -anc ~/WGS/Myotis_lucifugus.Myoluc2.0.dna_sm.toplevel.fa -GL 1 -fold 1 &> /dev/null &"
   ]
  },
  {
   "cell_type": "code",
   "execution_count": null,
   "metadata": {
    "collapsed": true
   },
   "outputs": [],
   "source": [
    "~/angsd/angsd/angsd -bam ~/WGS/filelists/VT_E.filelist -out ~/WGS/thetas/VT_E_thet -doThetas 1 -doSaf 1 -pest ~/WGS/sfs/VT_E.ml -anc ~/Myotis_lucifugus.Myoluc2.0.dna_sm.toplevel.fa -GL 1 -fold 1 "
   ]
  },
  {
   "cell_type": "code",
   "execution_count": null,
   "metadata": {
    "collapsed": true
   },
   "outputs": [],
   "source": [
    "~/angsd/angsd -bam /local/home/sarahgw/WGS/Sequences/filelists/VT_U.filelist -out /local/home/sarahgw/WGS/SNPS/All_mylu/thetas/VT_U_thet -doThetas 1 -doSaf 1 -pest /local/home/sarahgw/WGS/SNPS/All_mylu/sfs/VT_U.ml -anc /local/home/sarahgw/references/Myotis_Lucifugus2.0/Myotis_lucifugus.Myoluc2.0.dna_sm.toplevel.fa -GL 1 -fold 1 "
   ]
  },
  {
   "cell_type": "markdown",
   "metadata": {},
   "source": [
    "Calculate tajima's d for each scaffold and sliding window"
   ]
  },
  {
   "cell_type": "code",
   "execution_count": null,
   "metadata": {
    "collapsed": true
   },
   "outputs": [],
   "source": [
    "~/angsd/misc/thetaStat do_stat NJ_U_thet.thetas.idx -nChr 11653  "
   ]
  },
  {
   "cell_type": "code",
   "execution_count": null,
   "metadata": {
    "collapsed": true
   },
   "outputs": [],
   "source": [
    "~/angsd/misc/thetaStat do_stat NJ_U_thet.thetas.idx -nChr 11653 -win 10000 -step 2000 -type 1 -outnames NJ_U_thet.thetas_sw "
   ]
  },
  {
   "cell_type": "code",
   "execution_count": null,
   "metadata": {
    "collapsed": true
   },
   "outputs": [],
   "source": [
    "~/angsd/angsd/misc/thetaStat do_stat NJ_E_thet.thetas.idx -nChr 11653 &> /dev/null &  "
   ]
  },
  {
   "cell_type": "code",
   "execution_count": null,
   "metadata": {
    "collapsed": true
   },
   "outputs": [],
   "source": [
    "~/angsd/misc/thetaStat do_stat NJ_E_thet.thetas.idx -nChr 11653 -win 10000 -step 2000 -type 1 -outnames NJ_E_thet.thetasWindow &> /dev/null &   "
   ]
  },
  {
   "cell_type": "code",
   "execution_count": null,
   "metadata": {
    "collapsed": true
   },
   "outputs": [],
   "source": [
    "~/angsd/angsd/misc/thetaStat do_stat NY_U_thet.thetas.idx -nChr 11653 &> /dev/null &  "
   ]
  },
  {
   "cell_type": "code",
   "execution_count": null,
   "metadata": {
    "collapsed": true
   },
   "outputs": [],
   "source": [
    "~/angsd/angsd/misc/thetaStat do_stat NY_U_thet.thetas.idx -nChr 11653 -win 10000 -step 2000 -type 1 > NY_U_thet_sw &> /dev/null &  "
   ]
  },
  {
   "cell_type": "code",
   "execution_count": null,
   "metadata": {
    "collapsed": true
   },
   "outputs": [],
   "source": [
    "~/angsd/angsd/misc/thetaStat do_stat NY_E_thet.thetas.idx -nChr 11653 &> /dev/null &  "
   ]
  },
  {
   "cell_type": "code",
   "execution_count": null,
   "metadata": {
    "collapsed": true
   },
   "outputs": [],
   "source": [
    "~/angsd/angsd/misc/thetaStat do_stat NY_E_thet.thetas.idx -nChr 11653 -win 10000 -step 2000 -type 1&> /dev/null &  "
   ]
  },
  {
   "cell_type": "code",
   "execution_count": null,
   "metadata": {
    "collapsed": true
   },
   "outputs": [],
   "source": [
    "~/angsd/misc/thetaStat do_stat /local/home/sarahgw/WGS/SNPS/All_mylu/thetas/VT_U_thet.thetas.idx -nChr 11653 &> /dev/null &  "
   ]
  },
  {
   "cell_type": "code",
   "execution_count": null,
   "metadata": {
    "collapsed": true
   },
   "outputs": [],
   "source": [
    "~/angsd/misc/thetaStat do_stat /local/home/sarahgw/WGS/SNPS/All_mylu/thetas/VT_U_thet.thetas.idx -nChr 11653 -win 10000 -step 2000 -type 1> VT_U_thet_sw"
   ]
  },
  {
   "cell_type": "code",
   "execution_count": null,
   "metadata": {
    "collapsed": true
   },
   "outputs": [],
   "source": [
    "~/angsd/angsd/misc/thetaStat do_stat VT_E_thet.thetas.idx -nChr 11653 &> /dev/null &  "
   ]
  },
  {
   "cell_type": "code",
   "execution_count": null,
   "metadata": {
    "collapsed": true
   },
   "outputs": [],
   "source": [
    "~/angsd/angsd/misc/thetaStat do_stat VT_E_thet.thetas.idx -nChr 11653 -win 10000 -step 2000 -type 1&> /dev/null &  "
   ]
  },
  {
   "cell_type": "markdown",
   "metadata": {},
   "source": [
    "PRINT OUT average tajima's d value for each population. So ny gets more negative after but the others dont..."
   ]
  },
  {
   "cell_type": "code",
   "execution_count": 7,
   "metadata": {
    "collapsed": false
   },
   "outputs": [
    {
     "name": "stdout",
     "output_type": "stream",
     "text": [
      "-0.41358\r\n"
     ]
    }
   ],
   "source": [
    "!awk '{ sum += $9 } END { if (NR > 0) print sum / NR }' /local/home/sarahgw/WGS/SNPS/All_mylu/thetas/NJ_E_thet.thetas.idx.pestPG"
   ]
  },
  {
   "cell_type": "code",
   "execution_count": 3,
   "metadata": {
    "collapsed": false
   },
   "outputs": [
    {
     "name": "stdout",
     "output_type": "stream",
     "text": [
      "-0.828137\r\n"
     ]
    }
   ],
   "source": [
    "!awk '{ sum += $9 } END { if (NR > 0) print sum / NR }' /local/home/sarahgw/WGS/SNPS/All_mylu/thetas/NJ_U_thet.thetas.idx.pestPG"
   ]
  },
  {
   "cell_type": "code",
   "execution_count": 5,
   "metadata": {
    "collapsed": false
   },
   "outputs": [
    {
     "name": "stdout",
     "output_type": "stream",
     "text": [
      "-0.862066\r\n"
     ]
    }
   ],
   "source": [
    "!awk '{ sum += $9 } END { if (NR > 0) print sum / NR }' /local/home/sarahgw/WGS/SNPS/All_mylu/thetas/NY_E_thet.thetas.idx.pestPG"
   ]
  },
  {
   "cell_type": "code",
   "execution_count": 4,
   "metadata": {
    "collapsed": false
   },
   "outputs": [
    {
     "name": "stdout",
     "output_type": "stream",
     "text": [
      "-0.688768\r\n"
     ]
    }
   ],
   "source": [
    "!awk '{ sum += $9 } END { if (NR > 0) print sum / NR }' /local/home/sarahgw/WGS/SNPS/All_mylu/thetas/NY_U_thet.thetas.idx.pestPG"
   ]
  },
  {
   "cell_type": "code",
   "execution_count": 1,
   "metadata": {
    "collapsed": false
   },
   "outputs": [
    {
     "name": "stdout",
     "output_type": "stream",
     "text": [
      "-0.782077\r\n"
     ]
    }
   ],
   "source": [
    "!awk '{ sum += $9 } END { if (NR > 0) print sum / NR }' /local/home/sarahgw/WGS/SNPS/All_mylu/thetas/VT_E_thet.thetas.idx.pestPG"
   ]
  },
  {
   "cell_type": "code",
   "execution_count": 2,
   "metadata": {
    "collapsed": false
   },
   "outputs": [
    {
     "name": "stdout",
     "output_type": "stream",
     "text": [
      "-0.682256\r\n"
     ]
    }
   ],
   "source": [
    "!awk '{ sum += $9 } END { if (NR > 0) print sum / NR }' /local/home/sarahgw/WGS/SNPS/All_mylu/thetas/VT_U_thet.thetas.idx.pestPG"
   ]
  },
  {
   "cell_type": "markdown",
   "metadata": {},
   "source": [
    "Make sliding window output readable, so can graph with R"
   ]
  },
  {
   "cell_type": "code",
   "execution_count": 11,
   "metadata": {
    "collapsed": false
   },
   "outputs": [
    {
     "name": "stdout",
     "output_type": "stream",
     "text": [
      "(indexStart,indexStop)(firstPos_withData,lastPos_withData)(WinStart,WinStop)\tChr\tWinCenter\ttW\ttP\ttF\ttH\ttL\tTajima\tfuf\tfud\tfayh\tzeng\tnSites\r\n",
      "(0,9885)(1,10001)(1,10001)\tGL429767\t5001\t79.865967\t49.545954\t0.000000\t0.000000\t0.000000\t-1.019109\t1.276518\t5.894113\t0.049243\t-0.238914\t9885\r\n",
      "(1999,11839)(2001,12001)(2001,12001)\tGL429767\t7001\t82.479826\t48.543387\t0.000000\t0.000000\t0.000000\t-1.104860\t1.212386\t5.930922\t0.046718\t-0.238925\t9840\r\n",
      "(3999,13196)(4001,14001)(4001,14001)\tGL429767\t9001\t80.563253\t50.279915\t0.000000\t0.000000\t0.000000\t-1.009152\t1.284602\t5.904098\t0.049540\t-0.238917\t9197\r\n",
      "(5999,15193)(6001,16001)(6001,16001)\tGL429767\t11001\t82.309074\t49.667717\t0.000000\t0.000000\t0.000000\t-1.064880\t1.242953\t5.928568\t0.047899\t-0.238924\t9194\r\n",
      "(7999,17193)(8001,18001)(8001,18001)\tGL429767\t13001\t86.958483\t50.853491\t0.000000\t0.000000\t0.000000\t-1.115472\t1.206762\t5.990270\t0.046421\t-0.238942\t9194\r\n",
      "(9885,19193)(10001,20001)(10001,20001)\tGL429767\t15001\t86.117743\t46.096443\t0.000000\t0.000000\t0.000000\t-1.248427\t1.104210\t5.979468\t0.042489\t-0.238939\t9308\r\n",
      "(11839,21193)(12001,22001)(12001,22001)\tGL429767\t17001\t80.846363\t44.170673\t0.000000\t0.000000\t0.000000\t-1.217931\t1.124701\t5.908117\t0.043369\t-0.238918\t9354\r\n",
      "(13196,23193)(14001,24001)(14001,24001)\tGL429767\t19001\t86.425761\t47.268496\t0.000000\t0.000000\t0.000000\t-1.217161\t1.128381\t5.983443\t0.043414\t-0.238940\t9997\r\n",
      "(15193,25193)(16001,26001)(16001,26001)\tGL429767\t21001\t88.774703\t53.444085\t0.000000\t0.000000\t0.000000\t-1.069414\t1.243106\t6.013097\t0.047788\t-0.238948\t10000\r\n"
     ]
    }
   ],
   "source": [
    "!head /local/home/sarahgw/WGS/SNPS/All_mylu/thetas/VT_E_thet.thetas_sw.idx.pestPG"
   ]
  },
  {
   "cell_type": "code",
   "execution_count": 18,
   "metadata": {
    "collapsed": false
   },
   "outputs": [],
   "source": [
    "!awk '{print $1\" \"$2\" \"$4\" \"$9}' /local/home/sarahgw/WGS/SNPS/All_mylu/thetas/NY_E_thet.thetas.idx.pestPG>/local/home/sarahgw/WGS/SNPS/All_mylu/thetas/NY_E_thet.thetas_sw "
   ]
  },
  {
   "cell_type": "code",
   "execution_count": 2,
   "metadata": {
    "collapsed": true
   },
   "outputs": [],
   "source": [
    "!awk '{print $1\" \"$2\" \"$4\" \"$9}' /local/home/sarahgw/WGS/SNPS/All_mylu/thetas/NY_U_thet.thetas_sw.idx.pestPG>/local/home/sarahgw/WGS/SNPS/All_mylu/thetas/NY_U_thet.thetas_sw "
   ]
  },
  {
   "cell_type": "code",
   "execution_count": 3,
   "metadata": {
    "collapsed": true
   },
   "outputs": [],
   "source": [
    "!awk '{print $1\" \"$2\" \"$4\" \"$9}' /local/home/sarahgw/WGS/SNPS/All_mylu/thetas/NJ_E_thet.thetas_sw.idx.pestPG>/local/home/sarahgw/WGS/SNPS/All_mylu/thetas/NJ_E_thet.thetas_sw "
   ]
  },
  {
   "cell_type": "code",
   "execution_count": 5,
   "metadata": {
    "collapsed": false
   },
   "outputs": [],
   "source": [
    "!awk '{print $1\" \"$2\" \"$4\" \"$9}' /local/home/sarahgw/WGS/SNPS/All_mylu/thetas/NJ_U_thet.thetas_sw.pestPG>/local/home/sarahgw/WGS/SNPS/All_mylu/thetas/NJ_U_thet.thetas_sw "
   ]
  },
  {
   "cell_type": "code",
   "execution_count": 9,
   "metadata": {
    "collapsed": true
   },
   "outputs": [],
   "source": [
    "!awk '{print $1\" \"$2\" \"$4\" \"$9}' /local/home/sarahgw/WGS/SNPS/All_mylu/thetas/VT_E_thet.thetas_sw.idx.pestPG>/local/home/sarahgw/WGS/SNPS/All_mylu/thetas/VT_E_thet.thetas_sw "
   ]
  },
  {
   "cell_type": "code",
   "execution_count": 15,
   "metadata": {
    "collapsed": false
   },
   "outputs": [
    {
     "name": "stdout",
     "output_type": "stream",
     "text": [
      "(indexStart,indexStop)(firstPos_withData,lastPos_withData)(WinStart,WinStop) Chr tW Tajima\r\n",
      "(0,9885)(1,10001)(1,10001) GL429767 79.865967 -1.019109\r\n",
      "(1999,11839)(2001,12001)(2001,12001) GL429767 82.479826 -1.104860\r\n",
      "(3999,13196)(4001,14001)(4001,14001) GL429767 80.563253 -1.009152\r\n",
      "(5999,15193)(6001,16001)(6001,16001) GL429767 82.309074 -1.064880\r\n",
      "(7999,17193)(8001,18001)(8001,18001) GL429767 86.958483 -1.115472\r\n",
      "(9885,19193)(10001,20001)(10001,20001) GL429767 86.117743 -1.248427\r\n",
      "(11839,21193)(12001,22001)(12001,22001) GL429767 80.846363 -1.217931\r\n",
      "(13196,23193)(14001,24001)(14001,24001) GL429767 86.425761 -1.217161\r\n",
      "(15193,25193)(16001,26001)(16001,26001) GL429767 88.774703 -1.069414\r\n"
     ]
    }
   ],
   "source": [
    "!head /local/home/sarahgw/WGS/SNPS/All_mylu/thetas/VT_E_thet.thetas_sw"
   ]
  },
  {
   "cell_type": "code",
   "execution_count": 17,
   "metadata": {
    "collapsed": false
   },
   "outputs": [
    {
     "name": "stdout",
     "output_type": "stream",
     "text": [
      "(0,9970)(1,10001)(1,10001) AAPE02065762 94.500509 -0.891320\r\n",
      "(0,9717)(1,10001)(1,10001) GL432830 92.306153 -1.157279\r\n",
      "(0,9902)(1,10001)(1,10001) AAPE02065763 298.669628 0.100806\r\n",
      "(0,9930)(1,10001)(1,10001) AAPE02065764 94.820067 -1.086159\r\n",
      "(0,9922)(1,10001)(1,10001) AAPE02065765 96.507986 -0.597570\r\n",
      "(0,9571)(14,10014)(14,10014) AAPE02065766 99.697970 -1.056936\r\n",
      "(0,9952)(2,10002)(2,10002) AAPE02065769 110.981363 -0.775713\r\n",
      "(0,9860)(1,10001)(1,10001) AAPE02065770 97.760269 -1.109547\r\n",
      "(0,9973)(1,10001)(1,10001) AAPE02065771 103.816389 -0.676920\r\n",
      "(0,9951)(79,10079)(79,10079) AAPE02065772 102.614293 -0.923153\r\n"
     ]
    }
   ],
   "source": [
    "!tail /local/home/sarahgw/WGS/SNPS/All_mylu/thetas/VT_E_thet.thetas_sw_clean"
   ]
  },
  {
   "cell_type": "code",
   "execution_count": 16,
   "metadata": {
    "collapsed": true
   },
   "outputs": [],
   "source": [
    "!sed '$d' /local/home/sarahgw/WGS/SNPS/All_mylu/thetas/VT_E_thet.thetas_sw>/local/home/sarahgw/WGS/SNPS/All_mylu/thetas/VT_E_thet.thetas_sw_clean"
   ]
  },
  {
   "cell_type": "code",
   "execution_count": 5,
   "metadata": {
    "collapsed": false
   },
   "outputs": [],
   "source": [
    "!awk '{print $1\" \"$2\" \"$4\" \"$9}' /local/home/sarahgw/WGS/SNPS/All_mylu/thetas/VT_U_thet.thetas.idx.pestPG>/local/home/sarahgw/WGS/SNPS/All_mylu/thetas/VT_U_thet.thetas_sw "
   ]
  },
  {
   "cell_type": "code",
   "execution_count": null,
   "metadata": {
    "collapsed": false
   },
   "outputs": [],
   "source": [
    "sed -e 's/(/ /g' -e 's/)//g' /local/home/sarahgw/WGS/SNPS/All_mylu/thetas/NY_E_thet.thetas_sw > /local/home/sarahgw/WGS/SNPS/All_mylu/thetas/NY_E_thet.thetas_sw2"
   ]
  },
  {
   "cell_type": "code",
   "execution_count": null,
   "metadata": {
    "collapsed": true
   },
   "outputs": [],
   "source": [
    "sed -e 's/(/ /g' -e 's/)//g' /local/home/sarahgw/WGS/SNPS/All_mylu/thetas/NY_U_thet.thetas_sw > /local/home/sarahgw/WGS/SNPS/All_mylu/thetas/NY_U_thet.thetas_sw2"
   ]
  },
  {
   "cell_type": "code",
   "execution_count": null,
   "metadata": {
    "collapsed": true
   },
   "outputs": [],
   "source": [
    "sed -e 's/(/ /g' -e 's/)//g' /local/home/sarahgw/WGS/SNPS/All_mylu/thetas/NJ_U_thet.thetas_sw > /local/home/sarahgw/WGS/SNPS/All_mylu/thetas/NJ_U_thet.thetas_sw2"
   ]
  },
  {
   "cell_type": "code",
   "execution_count": null,
   "metadata": {
    "collapsed": true
   },
   "outputs": [],
   "source": [
    "sed -e 's/(/ /g' -e 's/)//g' /local/home/sarahgw/WGS/SNPS/All_mylu/thetas/NJ_E_thet.thetas_sw > /local/home/sarahgw/WGS/SNPS/All_mylu/thetas/NJ_E_thet.thetas_sw2"
   ]
  },
  {
   "cell_type": "code",
   "execution_count": null,
   "metadata": {
    "collapsed": true
   },
   "outputs": [],
   "source": [
    "sed -e 's/(/ /g' -e 's/)//g' /local/home/sarahgw/WGS/SNPS/All_mylu/thetas/VT_E_thet.thetas_sw_clean > /local/home/sarahgw/WGS/SNPS/All_mylu/thetas/VT_E_thet.thetas_sw2"
   ]
  },
  {
   "cell_type": "code",
   "execution_count": null,
   "metadata": {
    "collapsed": true
   },
   "outputs": [],
   "source": [
    "sed -e 's/(/ /g' -e 's/)//g' /local/home/sarahgw/WGS/SNPS/All_mylu/thetas/VT_U_thet.thetas_sw > /local/home/sarahgw/WGS/SNPS/All_mylu/thetas/VT_U_thet.thetas_sw2"
   ]
  },
  {
   "cell_type": "markdown",
   "metadata": {
    "collapsed": true
   },
   "source": [
    "Try to print out thetas for snps"
   ]
  },
  {
   "cell_type": "code",
   "execution_count": null,
   "metadata": {
    "collapsed": true
   },
   "outputs": [],
   "source": [
    "~/angsd/misc/thetaStat print VT_E_thet.thetas.idx -sites /local/home/sarahgw/WGS/SNPS/All_mylu/mafs/VT_E.mafs> VT_E_thet_snps"
   ]
  }
 ],
 "metadata": {
  "anaconda-cloud": {},
  "kernelspec": {
   "display_name": "Python [default]",
   "language": "python",
   "name": "python2"
  },
  "language_info": {
   "codemirror_mode": {
    "name": "ipython",
    "version": 2
   },
   "file_extension": ".py",
   "mimetype": "text/x-python",
   "name": "python",
   "nbconvert_exporter": "python",
   "pygments_lexer": "ipython2",
   "version": "2.7.12"
  }
 },
 "nbformat": 4,
 "nbformat_minor": 1
}
