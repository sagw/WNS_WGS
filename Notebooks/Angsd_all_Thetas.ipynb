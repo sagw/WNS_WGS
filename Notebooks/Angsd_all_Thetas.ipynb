{
 "cells": [
  {
   "cell_type": "markdown",
   "metadata": {},
   "source": [
    "Using unfolded safs created in FST notebook"
   ]
  },
  {
   "cell_type": "markdown",
   "metadata": {},
   "source": [
    "sfs for all populations"
   ]
  },
  {
   "cell_type": "code",
   "execution_count": null,
   "metadata": {
    "collapsed": true
   },
   "outputs": [],
   "source": [
    "for POP in NJ_E NJ_U NY_E NY_U VT_E VT_U; do echo $POP; ~/angsd/angsd/misc/realSFS -P 25 /local/home/sarahgw/WGS/SNPS/All_mylu/saf/\"$POP\"_unfilt.saf.idx > /local/home/sarahgw/WGS/SNPS/All_mylu/sfs/\"$POP\"_unfilt.ml; done"
   ]
  },
  {
   "cell_type": "code",
   "execution_count": null,
   "metadata": {
    "collapsed": true
   },
   "outputs": [],
   "source": [
    "for POP in VT_E; do echo $POP; ~/angsd/angsd/misc/realSFS -P 25 /local/home/sarahgw/WGS/SNPS/All_mylu/saf/\"$POP\"_unfilt.saf.idx > /local/home/sarahgw/WGS/SNPS/All_mylu/sfs/\"$POP\"_unfilt.ml; done"
   ]
  },
  {
   "cell_type": "markdown",
   "metadata": {},
   "source": [
    "then, calculate thetas for each pop ONLY FILTERED REGIONS"
   ]
  },
  {
   "cell_type": "code",
   "execution_count": null,
   "metadata": {
    "collapsed": true
   },
   "outputs": [],
   "source": [
    "for POP in NJ_E NJ_U NY_E NY_U VT_E VT_U; do echo $POP; ~/angsd/angsd/angsd -bam /local/home/sarahgw/WGS/Sequences/filelists/\"$POP\".filelist -rf /local/home/sarahgw/WGS/QC/All_mylu_Map1.txt -out /local/home/sarahgw/WGS/SNPS/All_mylu/thetas/\"$POP\"_unfilt_thet -doThetas 1 -doSaf 1 -pest /local/home/sarahgw/WGS/SNPS/All_mylu/sfs/\"$POP\"_unfilt.ml -anc /local/home/sarahgw/references/Myotis_lucifugus.Myoluc2.0.dna_sm.toplevel.fa -GL 1 ; done  "
   ]
  },
  {
   "cell_type": "code",
   "execution_count": null,
   "metadata": {
    "collapsed": true
   },
   "outputs": [],
   "source": [
    "for POP in VT_E; do echo $POP; ~/angsd/angsd/angsd -bam /local/home/sarahgw/WGS/Sequences/filelists/\"$POP\".filelist -rf /local/home/sarahgw/WGS/QC/All_mylu_Map1.txt -out /local/home/sarahgw/WGS/SNPS/All_mylu/thetas/\"$POP\"_unfilt_thet -doThetas 1 -doSaf 1 -pest /local/home/sarahgw/WGS/SNPS/All_mylu/sfs/\"$POP\"_unfilt.ml -anc /local/home/sarahgw/references/Myotis_lucifugus.Myoluc2.0.dna_sm.toplevel.fa -GL 1 ; done  "
   ]
  },
  {
   "cell_type": "markdown",
   "metadata": {},
   "source": [
    "Calculate tajima's d for each scaffold and sliding window"
   ]
  },
  {
   "cell_type": "code",
   "execution_count": null,
   "metadata": {
    "collapsed": true
   },
   "outputs": [],
   "source": [
    "for POP in NJ_E NJ_U NY_E NY_U VT_E VT_U; do echo $POP; /local/home/sarahgw/angsd/angsd/misc/thetaStat do_stat /local/home/sarahgw/WGS/SNPS/All_mylu/thetas/\"$POP\"_unfilt_thet.thetas.idx -nChr 11653; done"
   ]
  },
  {
   "cell_type": "code",
   "execution_count": null,
   "metadata": {
    "collapsed": true
   },
   "outputs": [],
   "source": [
    "for POP in VT_E ; do echo $POP; /local/home/sarahgw/angsd/angsd/misc/thetaStat do_stat /local/home/sarahgw/WGS/SNPS/All_mylu/thetas/\"$POP\"_unfilt_thet.thetas.idx -nChr 11653; done"
   ]
  },
  {
   "cell_type": "code",
   "execution_count": null,
   "metadata": {
    "collapsed": true
   },
   "outputs": [],
   "source": [
    "for POP in NJ_E NJ_U NY_E NY_U VT_E VT_U; do echo $POP; /local/home/sarahgw/angsd/angsd/misc/thetaStat do_stat /local/home/sarahgw/WGS/SNPS/All_mylu/thetas/\"$POP\"_unfilt_thet.thetas.idx -nChr 11653 -win 1000 -step 1 -type 1 -outnames \"$POP\"_unfilt_thet.thetas_sw ; done"
   ]
  },
  {
   "cell_type": "markdown",
   "metadata": {},
   "source": [
    "PRINT OUT average tajima's d value for each population. So ny gets more negative after but the others dont..."
   ]
  },
  {
   "cell_type": "code",
   "execution_count": 1,
   "metadata": {},
   "outputs": [
    {
     "name": "stdout",
     "output_type": "stream",
     "text": [
      "-0.216811\r\n"
     ]
    }
   ],
   "source": [
    "!awk '{ sum += $9 } END { if (NR > 0) print sum / NR }' /local/home/sarahgw/WGS/SNPS/All_mylu/thetas/NJ_E_unfilt_thet.thetas.idx.pestPG"
   ]
  },
  {
   "cell_type": "code",
   "execution_count": 2,
   "metadata": {},
   "outputs": [
    {
     "name": "stdout",
     "output_type": "stream",
     "text": [
      "-0.613374\r\n"
     ]
    }
   ],
   "source": [
    "!awk '{ sum += $9 } END { if (NR > 0) print sum / NR }' /local/home/sarahgw/WGS/SNPS/All_mylu/thetas/NJ_U_unfilt_thet.thetas.idx.pestPG"
   ]
  },
  {
   "cell_type": "code",
   "execution_count": 3,
   "metadata": {},
   "outputs": [
    {
     "name": "stdout",
     "output_type": "stream",
     "text": [
      "-0.588596\r\n"
     ]
    }
   ],
   "source": [
    "!awk '{ sum += $9 } END { if (NR > 0) print sum / NR }' /local/home/sarahgw/WGS/SNPS/All_mylu/thetas/NY_E_unfilt_thet.thetas.idx.pestPG"
   ]
  },
  {
   "cell_type": "code",
   "execution_count": 4,
   "metadata": {},
   "outputs": [
    {
     "name": "stdout",
     "output_type": "stream",
     "text": [
      "-0.643551\r\n"
     ]
    }
   ],
   "source": [
    "!awk '{ sum += $9 } END { if (NR > 0) print sum / NR }' /local/home/sarahgw/WGS/SNPS/All_mylu/thetas/NY_U_unfilt_thet.thetas.idx.pestPG"
   ]
  },
  {
   "cell_type": "code",
   "execution_count": 1,
   "metadata": {},
   "outputs": [
    {
     "name": "stdout",
     "output_type": "stream",
     "text": [
      "-0.620761\r\n"
     ]
    }
   ],
   "source": [
    "!awk '{ sum += $9 } END { if (NR > 0) print sum / NR }' /local/home/sarahgw/WGS/SNPS/All_mylu/thetas/VT_E_unfilt_thet.thetas.idx.pestPG"
   ]
  },
  {
   "cell_type": "code",
   "execution_count": 1,
   "metadata": {},
   "outputs": [
    {
     "name": "stdout",
     "output_type": "stream",
     "text": [
      "-0.452438\r\n"
     ]
    }
   ],
   "source": [
    "!awk '{ sum += $9 } END { if (NR > 0) print sum / NR }' /local/home/sarahgw/WGS/SNPS/All_mylu/thetas/VT_U_unfilt_thet.thetas.idx.pestPG"
   ]
  },
  {
   "cell_type": "markdown",
   "metadata": {},
   "source": [
    "Make sliding window output readable, so can graph with R"
   ]
  },
  {
   "cell_type": "code",
   "execution_count": 9,
   "metadata": {
    "collapsed": true
   },
   "outputs": [],
   "source": [
    "!awk '{print $1\" \"$2\" \"$4\" \"$9}' /local/home/sarahgw/WGS/SNPS/All_mylu/thetas/NY_E_unfilt_thet.thetas_sw.pestPG | sed -e 's/(/ /g' -e 's/)//g' >/local/home/sarahgw/WGS/SNPS/All_mylu/thetas/NY_E_unfilt_thet.thetas_sw "
   ]
  },
  {
   "cell_type": "code",
   "execution_count": 11,
   "metadata": {},
   "outputs": [],
   "source": [
    "!awk '{print $1\" \"$2\" \"$4\" \"$9}' /local/home/sarahgw/WGS/SNPS/All_mylu/thetas/NY_U_unfilt_thet.thetas_sw.pestPG | sed -e 's/(/ /g' -e 's/)//g'>/local/home/sarahgw/WGS/SNPS/All_mylu/thetas/NY_U_unfilt_thet.thetas_sw "
   ]
  },
  {
   "cell_type": "code",
   "execution_count": 12,
   "metadata": {
    "collapsed": true
   },
   "outputs": [],
   "source": [
    "!awk '{print $1\" \"$2\" \"$4\" \"$9}' /local/home/sarahgw/WGS/SNPS/All_mylu/thetas/NJ_E_unfilt_thet.thetas_sw.pestPG | sed -e 's/(/ /g' -e 's/)//g'>/local/home/sarahgw/WGS/SNPS/All_mylu/thetas/NJ_E_unfilt_thet.thetas_sw "
   ]
  },
  {
   "cell_type": "code",
   "execution_count": 13,
   "metadata": {
    "collapsed": true
   },
   "outputs": [],
   "source": [
    "!awk '{print $1\" \"$2\" \"$4\" \"$9}' /local/home/sarahgw/WGS/SNPS/All_mylu/thetas/NJ_U_unfilt_thet.thetas_sw.pestPG | sed -e 's/(/ /g' -e 's/)//g'>/local/home/sarahgw/WGS/SNPS/All_mylu/thetas/NJ_U_unfilt_thet.thetas_sw "
   ]
  },
  {
   "cell_type": "code",
   "execution_count": 14,
   "metadata": {
    "collapsed": true
   },
   "outputs": [],
   "source": [
    "!awk '{print $1\" \"$2\" \"$4\" \"$9}' /local/home/sarahgw/WGS/SNPS/All_mylu/thetas/VT_U_unfilt_thet.thetas_sw.pestPG | sed -e 's/(/ /g' -e 's/)//g' >/local/home/sarahgw/WGS/SNPS/All_mylu/thetas/VT_U_unfilt_thet.thetas_sw "
   ]
  },
  {
   "cell_type": "code",
   "execution_count": 17,
   "metadata": {
    "collapsed": true
   },
   "outputs": [],
   "source": [
    "!awk '{print $1\" \"$2\" \"$4\" \"$9}' /local/home/sarahgw/WGS/SNPS/All_mylu/thetas/VT_E_unfilt_thet.thetas_sw.pestPG | sed -e 's/(/ /g' -e 's/)//g'>/local/home/sarahgw/WGS/SNPS/All_mylu/thetas/VT_E_unfilt_thet.thetas_sw "
   ]
  },
  {
   "cell_type": "code",
   "execution_count": 18,
   "metadata": {},
   "outputs": [
    {
     "name": "stdout",
     "output_type": "stream",
     "text": [
      "# indexStart,indexStop firstPos_withData,lastPos_withData WinStart,WinStop Chr tW Tajima\r\n",
      " 0,999 1,1001 1,1001 GL429767 8.554042 -1.263995\r\n",
      " 100,1099 101,1101 101,1101 GL429767 8.599239 -1.047803\r\n",
      " 200,1199 201,1201 201,1201 GL429767 8.478833 -0.954798\r\n",
      " 300,1299 301,1301 301,1301 GL429767 8.946999 -0.778277\r\n",
      " 400,1399 401,1401 401,1401 GL429767 8.977476 -0.508915\r\n",
      " 500,1499 501,1501 501,1501 GL429767 9.049443 -0.489542\r\n",
      " 599,1599 601,1601 601,1601 GL429767 9.418850 -0.424327\r\n",
      " 699,1699 701,1701 701,1701 GL429767 10.107309 -0.474947\r\n",
      " 799,1799 801,1801 801,1801 GL429767 10.540325 -0.386850\r\n"
     ]
    }
   ],
   "source": [
    "!head /local/home/sarahgw/WGS/SNPS/All_mylu/thetas/VT_E_unfilt_thet.thetas_sw"
   ]
  },
  {
   "cell_type": "code",
   "execution_count": 15,
   "metadata": {},
   "outputs": [
    {
     "name": "stdout",
     "output_type": "stream",
     "text": [
      "tail: cannot open ‘/local/home/sarahgw/WGS/SNPS/All_mylu/thetas/VT_E_thet.thetas_sw_clean’ for reading: No such file or directory\r\n"
     ]
    }
   ],
   "source": []
  },
  {
   "cell_type": "markdown",
   "metadata": {
    "collapsed": true
   },
   "source": [
    "Try to print out thetas for snps"
   ]
  },
  {
   "cell_type": "code",
   "execution_count": null,
   "metadata": {
    "collapsed": true
   },
   "outputs": [],
   "source": [
    "~/angsd/misc/thetaStat print VT_E_thet.thetas.idx -sites /local/home/sarahgw/WGS/SNPS/All_mylu/mafs/VT_E.mafs> VT_E_thet_snps"
   ]
  }
 ],
 "metadata": {
  "anaconda-cloud": {},
  "kernelspec": {
   "display_name": "Python 2",
   "language": "python",
   "name": "python2"
  },
  "language_info": {
   "codemirror_mode": {
    "name": "ipython",
    "version": 2
   },
   "file_extension": ".py",
   "mimetype": "text/x-python",
   "name": "python",
   "nbconvert_exporter": "python",
   "pygments_lexer": "ipython2",
   "version": "2.7.13"
  }
 },
 "nbformat": 4,
 "nbformat_minor": 1
}
