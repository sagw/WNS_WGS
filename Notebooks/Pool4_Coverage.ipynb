{
 "cells": [
  {
   "cell_type": "code",
   "execution_count": 1,
   "metadata": {
    "collapsed": true
   },
   "outputs": [],
   "source": [
    "setwd (\"~/WGS/Sequences/Metrics/\")"
   ]
  },
  {
   "cell_type": "code",
   "execution_count": 2,
   "metadata": {
    "collapsed": true
   },
   "outputs": [],
   "source": [
    "cov=read.table(\"Coverage_Pool4.txt\")"
   ]
  },
  {
   "cell_type": "code",
   "execution_count": 3,
   "metadata": {
    "collapsed": true
   },
   "outputs": [],
   "source": [
    "colnames(cov)=c(\"Scaffold\", \"depth\", \"NumBp\", \"BpTotal\", \"Percent\", \"Sample\")"
   ]
  },
  {
   "cell_type": "code",
   "execution_count": 4,
   "metadata": {
    "collapsed": true
   },
   "outputs": [],
   "source": [
    "cov$percentage=(as.numeric(as.character(cov$Percent)))*100"
   ]
  },
  {
   "cell_type": "code",
   "execution_count": 5,
   "metadata": {},
   "outputs": [
    {
     "data": {
      "text/html": [
       "<table>\n",
       "<thead><tr><th scope=col>Scaffold</th><th scope=col>depth</th><th scope=col>NumBp</th><th scope=col>BpTotal</th><th scope=col>Percent</th><th scope=col>Sample</th><th scope=col>percentage</th></tr></thead>\n",
       "<tbody>\n",
       "\t<tr><td>GL429767  </td><td>0         </td><td>33093841  </td><td>64990205  </td><td>0.50921300</td><td>NY_E_15   </td><td>50.921300 </td></tr>\n",
       "\t<tr><td>GL429767  </td><td>1         </td><td>18210045  </td><td>64990205  </td><td>0.28019700</td><td>NY_E_15   </td><td>28.019700 </td></tr>\n",
       "\t<tr><td>GL429767  </td><td>2         </td><td> 8655556  </td><td>64990205  </td><td>0.13318200</td><td>NY_E_15   </td><td>13.318200 </td></tr>\n",
       "\t<tr><td>GL429767  </td><td>3         </td><td> 3338097  </td><td>64990205  </td><td>0.05136310</td><td>NY_E_15   </td><td> 5.136310 </td></tr>\n",
       "\t<tr><td>GL429767  </td><td>4         </td><td> 1143281  </td><td>64990205  </td><td>0.01759160</td><td>NY_E_15   </td><td> 1.759160 </td></tr>\n",
       "\t<tr><td>GL429767  </td><td>5         </td><td>  365033  </td><td>64990205  </td><td>0.00561674</td><td>NY_E_15   </td><td> 0.561674 </td></tr>\n",
       "</tbody>\n",
       "</table>\n"
      ],
      "text/latex": [
       "\\begin{tabular}{r|lllllll}\n",
       " Scaffold & depth & NumBp & BpTotal & Percent & Sample & percentage\\\\\n",
       "\\hline\n",
       "\t GL429767    & 0           & 33093841    & 64990205    & 0.50921300  & NY\\_E\\_15 & 50.921300  \\\\\n",
       "\t GL429767    & 1           & 18210045    & 64990205    & 0.28019700  & NY\\_E\\_15 & 28.019700  \\\\\n",
       "\t GL429767    & 2           &  8655556    & 64990205    & 0.13318200  & NY\\_E\\_15 & 13.318200  \\\\\n",
       "\t GL429767    & 3           &  3338097    & 64990205    & 0.05136310  & NY\\_E\\_15 &  5.136310  \\\\\n",
       "\t GL429767    & 4           &  1143281    & 64990205    & 0.01759160  & NY\\_E\\_15 &  1.759160  \\\\\n",
       "\t GL429767    & 5           &   365033    & 64990205    & 0.00561674  & NY\\_E\\_15 &  0.561674  \\\\\n",
       "\\end{tabular}\n"
      ],
      "text/markdown": [
       "\n",
       "Scaffold | depth | NumBp | BpTotal | Percent | Sample | percentage | \n",
       "|---|---|---|---|---|---|\n",
       "| GL429767   | 0          | 33093841   | 64990205   | 0.50921300 | NY_E_15    | 50.921300  | \n",
       "| GL429767   | 1          | 18210045   | 64990205   | 0.28019700 | NY_E_15    | 28.019700  | \n",
       "| GL429767   | 2          |  8655556   | 64990205   | 0.13318200 | NY_E_15    | 13.318200  | \n",
       "| GL429767   | 3          |  3338097   | 64990205   | 0.05136310 | NY_E_15    |  5.136310  | \n",
       "| GL429767   | 4          |  1143281   | 64990205   | 0.01759160 | NY_E_15    |  1.759160  | \n",
       "| GL429767   | 5          |   365033   | 64990205   | 0.00561674 | NY_E_15    |  0.561674  | \n",
       "\n",
       "\n"
      ],
      "text/plain": [
       "  Scaffold depth NumBp    BpTotal  Percent    Sample  percentage\n",
       "1 GL429767 0     33093841 64990205 0.50921300 NY_E_15 50.921300 \n",
       "2 GL429767 1     18210045 64990205 0.28019700 NY_E_15 28.019700 \n",
       "3 GL429767 2      8655556 64990205 0.13318200 NY_E_15 13.318200 \n",
       "4 GL429767 3      3338097 64990205 0.05136310 NY_E_15  5.136310 \n",
       "5 GL429767 4      1143281 64990205 0.01759160 NY_E_15  1.759160 \n",
       "6 GL429767 5       365033 64990205 0.00561674 NY_E_15  0.561674 "
      ]
     },
     "metadata": {},
     "output_type": "display_data"
    }
   ],
   "source": [
    "head(cov)"
   ]
  },
  {
   "cell_type": "code",
   "execution_count": 6,
   "metadata": {
    "collapsed": true
   },
   "outputs": [],
   "source": [
    "zero=cov[cov$depth==0,]"
   ]
  },
  {
   "cell_type": "code",
   "execution_count": 7,
   "metadata": {
    "collapsed": true
   },
   "outputs": [],
   "source": [
    "zero$depth=NULL\n",
    "zero$Percent=NULL\n",
    "zero$Percentage=NULL"
   ]
  },
  {
   "cell_type": "code",
   "execution_count": 8,
   "metadata": {},
   "outputs": [
    {
     "data": {
      "text/html": [
       "<table>\n",
       "<thead><tr><th></th><th scope=col>Scaffold</th><th scope=col>NumBp</th><th scope=col>BpTotal</th><th scope=col>Sample</th><th scope=col>percentage</th></tr></thead>\n",
       "<tbody>\n",
       "\t<tr><th scope=row>1</th><td>GL429767</td><td>33093841</td><td>64990205</td><td>NY_E_15 </td><td>50.9213 </td></tr>\n",
       "\t<tr><th scope=row>90</th><td>GL429768</td><td>20354328</td><td>39494369</td><td>NY_E_15 </td><td>51.5373 </td></tr>\n",
       "\t<tr><th scope=row>117</th><td>GL429769</td><td>22679124</td><td>32863254</td><td>NY_E_15 </td><td>69.0106 </td></tr>\n",
       "\t<tr><th scope=row>208</th><td>GL429770</td><td>15295864</td><td>30916457</td><td>NY_E_15 </td><td>49.4748 </td></tr>\n",
       "\t<tr><th scope=row>353</th><td>GL429771</td><td>15812367</td><td>22519077</td><td>NY_E_15 </td><td>70.2177 </td></tr>\n",
       "\t<tr><th scope=row>404</th><td>GL429772</td><td>10834931</td><td>20945196</td><td>NY_E_15 </td><td>51.7299 </td></tr>\n",
       "</tbody>\n",
       "</table>\n"
      ],
      "text/latex": [
       "\\begin{tabular}{r|lllll}\n",
       "  & Scaffold & NumBp & BpTotal & Sample & percentage\\\\\n",
       "\\hline\n",
       "\t1 & GL429767    & 33093841    & 64990205    & NY\\_E\\_15 & 50.9213    \\\\\n",
       "\t90 & GL429768    & 20354328    & 39494369    & NY\\_E\\_15 & 51.5373    \\\\\n",
       "\t117 & GL429769    & 22679124    & 32863254    & NY\\_E\\_15 & 69.0106    \\\\\n",
       "\t208 & GL429770    & 15295864    & 30916457    & NY\\_E\\_15 & 49.4748    \\\\\n",
       "\t353 & GL429771    & 15812367    & 22519077    & NY\\_E\\_15 & 70.2177    \\\\\n",
       "\t404 & GL429772    & 10834931    & 20945196    & NY\\_E\\_15 & 51.7299    \\\\\n",
       "\\end{tabular}\n"
      ],
      "text/markdown": [
       "\n",
       "| <!--/--> | Scaffold | NumBp | BpTotal | Sample | percentage | \n",
       "|---|---|---|---|---|---|\n",
       "| 1 | GL429767 | 33093841 | 64990205 | NY_E_15  | 50.9213  | \n",
       "| 90 | GL429768 | 20354328 | 39494369 | NY_E_15  | 51.5373  | \n",
       "| 117 | GL429769 | 22679124 | 32863254 | NY_E_15  | 69.0106  | \n",
       "| 208 | GL429770 | 15295864 | 30916457 | NY_E_15  | 49.4748  | \n",
       "| 353 | GL429771 | 15812367 | 22519077 | NY_E_15  | 70.2177  | \n",
       "| 404 | GL429772 | 10834931 | 20945196 | NY_E_15  | 51.7299  | \n",
       "\n",
       "\n"
      ],
      "text/plain": [
       "    Scaffold NumBp    BpTotal  Sample  percentage\n",
       "1   GL429767 33093841 64990205 NY_E_15 50.9213   \n",
       "90  GL429768 20354328 39494369 NY_E_15 51.5373   \n",
       "117 GL429769 22679124 32863254 NY_E_15 69.0106   \n",
       "208 GL429770 15295864 30916457 NY_E_15 49.4748   \n",
       "353 GL429771 15812367 22519077 NY_E_15 70.2177   \n",
       "404 GL429772 10834931 20945196 NY_E_15 51.7299   "
      ]
     },
     "metadata": {},
     "output_type": "display_data"
    }
   ],
   "source": [
    "head(zero)"
   ]
  },
  {
   "cell_type": "code",
   "execution_count": 9,
   "metadata": {},
   "outputs": [
    {
     "name": "stderr",
     "output_type": "stream",
     "text": [
      "Loading required package: plyr\n"
     ]
    }
   ],
   "source": [
    "require(plyr)"
   ]
  },
  {
   "cell_type": "code",
   "execution_count": 10,
   "metadata": {
    "collapsed": true
   },
   "outputs": [],
   "source": [
    "zero$NumBp=as.numeric(as.character(zero$NumBp))"
   ]
  },
  {
   "cell_type": "code",
   "execution_count": 11,
   "metadata": {
    "collapsed": true
   },
   "outputs": [],
   "source": [
    "zero$BpTotal=as.numeric(as.character(zero$BpTotal))"
   ]
  },
  {
   "cell_type": "code",
   "execution_count": 12,
   "metadata": {
    "collapsed": true
   },
   "outputs": [],
   "source": [
    "zerosum=ddply(zero, \"Sample\", numcolwise(sum))"
   ]
  },
  {
   "cell_type": "code",
   "execution_count": 13,
   "metadata": {
    "collapsed": true
   },
   "outputs": [],
   "source": [
    "zerosum$percentage=(1-(zerosum$NumBp/zerosum$BpTotal))*100"
   ]
  },
  {
   "cell_type": "code",
   "execution_count": 14,
   "metadata": {},
   "outputs": [
    {
     "name": "stderr",
     "output_type": "stream",
     "text": [
      "Loading required package: ggplot2\n"
     ]
    }
   ],
   "source": [
    "require(ggplot2)"
   ]
  },
  {
   "cell_type": "code",
   "execution_count": 15,
   "metadata": {
    "collapsed": true
   },
   "outputs": [],
   "source": [
    "plot=ggplot(data=zerosum, aes(x=Sample, y=percentage))+\n",
    "  geom_bar(data=zerosum, stat=\"identity\")+\n",
    "  theme_bw()+ylab(\"Percent >= 1x coverage\")+\n",
    "  theme(axis.text.x = element_text(angle = 90, hjust = 1))"
   ]
  },
  {
   "cell_type": "code",
   "execution_count": 16,
   "metadata": {},
   "outputs": [
    {
     "data": {},
     "metadata": {},
     "output_type": "display_data"
    },
    {
     "data": {
      "image/png": "[encoded data removed]",
      "text/plain": [
       "plot without title"
      ]
     },
     "metadata": {},
     "output_type": "display_data"
    }
   ],
   "source": [
    "plot"
   ]
  },
  {
   "cell_type": "code",
   "execution_count": null,
   "metadata": {
    "collapsed": true
   },
   "outputs": [],
   "source": []
  }
 ],
 "metadata": {
  "kernelspec": {
   "display_name": "R",
   "language": "R",
   "name": "ir"
  },
  "language_info": {
   "codemirror_mode": "r",
   "file_extension": ".r",
   "mimetype": "text/x-r-source",
   "name": "R",
   "pygments_lexer": "r",
   "version": "3.4.1"
  }
 },
 "nbformat": 4,
 "nbformat_minor": 1
}
