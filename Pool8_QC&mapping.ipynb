{
 "cells": [
  {
   "cell_type": "code",
   "execution_count": null,
   "metadata": {
    "collapsed": true
   },
   "outputs": [],
   "source": [
    "scp Pool8_Barcodes.txt sarahgw@amphiprion.deenr.rutgers.edu:/local/home/sarahgw/WGS/Sequences/Pool8/"
   ]
  },
  {
   "cell_type": "code",
   "execution_count": null,
   "metadata": {
    "collapsed": true
   },
   "outputs": [],
   "source": [
    "mkdir $(awk '{print $1}' /local/home/sarahgw/WGS/Sequences/Pool8/Pool8_Barcodes.txt)"
   ]
  },
  {
   "cell_type": "code",
   "execution_count": 1,
   "metadata": {
    "collapsed": false
   },
   "outputs": [
    {
     "name": "stdout",
     "output_type": "stream",
     "text": [
      "KY_E_01  KY_E_05  KY_E_10  KY_U_02  KY_U_06  NJ_U_24\t\t VT_U_08\r\n",
      "KY_E_02  KY_E_07  KY_E_12  KY_U_03  KY_U_07  NJ_U_26\r\n",
      "KY_E_03  KY_E_08  KY_E_13  KY_U_04  KY_U_08  Pool8_Barcodes.txt\r\n",
      "KY_E_04  KY_E_09  KY_U_01  KY_U_05  KY_U_09  VT_U_07\r\n"
     ]
    }
   ],
   "source": [
    "!ls /local/home/sarahgw/WGS/Sequences/Pool8/"
   ]
  },
  {
   "cell_type": "code",
   "execution_count": null,
   "metadata": {
    "collapsed": true
   },
   "outputs": [],
   "source": [
    "for dir in $(ls); do cd $dir; cp /local/shared/pinsky_lab/sequencing/hiseq_2017_09_24_SEQ25/\"$dir\"_Demultiplexed-fastq-fileset-sample-Pool-8-from-flowcell-HTW2YBCXY-on-2017-09-22_Read_1_passed_filter.fastq.gz /local/shared/pinsky_lab/sequencing/hiseq_2017_09_24_SEQ25/\"$dir\"_Demultiplexed-fastq-fileset-sample-Pool-8-from-flowcell-HTW2YBCXY-on-2017-09-22_Read_4_passed_filter.fastq.gz  . ; cd ..; done"
   ]
  },
  {
   "cell_type": "code",
   "execution_count": null,
   "metadata": {
    "collapsed": true
   },
   "outputs": [],
   "source": [
    "gunzip */*.fastq.gz"
   ]
  },
  {
   "cell_type": "code",
   "execution_count": null,
   "metadata": {
    "collapsed": true
   },
   "outputs": [],
   "source": [
    "~/Notebooks/WNS_WGS/Bioinfo_pipeline.sh "
   ]
  },
  {
   "cell_type": "code",
   "execution_count": null,
   "metadata": {
    "collapsed": true
   },
   "outputs": [],
   "source": [
    "rm */*passed_filter.fastq\n",
    "    rm */*FU1.fastq\n",
    "    rm */*FU2.fastq\n",
    "    rm */*trim_p.fastq\n",
    "    rm */*trim_up.fastq\n",
    "find . -name \"*.tagged.fastq\" -exec mv -i {} ../Pool8Contaminants/ \\;\n",
    "    for file in $(ls); do tar -zcvf \"$file\".tar.gz \"$file\" ; done"
   ]
  },
  {
   "cell_type": "code",
   "execution_count": 4,
   "metadata": {
    "collapsed": false
   },
   "outputs": [
    {
     "name": "stdout",
     "output_type": "stream",
     "text": [
      "5164760\n",
      "9524395\n",
      "7731362\n",
      "4816343\n",
      "11154177\n",
      "7883220\n",
      "7855802\n",
      "6105985\n",
      "2783143\n",
      "2176736\n",
      "4463541\n",
      "6449811\n",
      "4400466\n",
      "9708433\n",
      "6488241\n",
      "7197573\n",
      "6870601\n",
      "6530724\n",
      "7447555\n",
      "8392831\n",
      "6688983\n",
      "5474878\n",
      "993054\n",
      "1967354\n"
     ]
    }
   ],
   "source": [
    "!grep -c '@' /local/home/sarahgw/WGS/Sequences/Pool8/KY_E_01/KY_E_01_FU1_trim_p.tagged_pfilter.fastq\n",
    "!grep -c '@' /local/home/sarahgw/WGS/Sequences/Pool8/KY_E_02/KY_E_02_FU1_trim_p.tagged_pfilter.fastq\n",
    "!grep -c '@' /local/home/sarahgw/WGS/Sequences/Pool8/KY_E_03/KY_E_03_FU1_trim_p.tagged_pfilter.fastq\n",
    "!grep -c '@' /local/home/sarahgw/WGS/Sequences/Pool8/KY_E_04/KY_E_04_FU1_trim_p.tagged_pfilter.fastq\n",
    "!grep -c '@' /local/home/sarahgw/WGS/Sequences/Pool8/KY_E_05/KY_E_05_FU1_trim_p.tagged_pfilter.fastq\n",
    "!grep -c '@' /local/home/sarahgw/WGS/Sequences/Pool8/KY_E_07/KY_E_07_FU1_trim_p.tagged_pfilter.fastq\n",
    "!grep -c '@' /local/home/sarahgw/WGS/Sequences/Pool8/KY_E_08/KY_E_08_FU1_trim_p.tagged_pfilter.fastq\n",
    "!grep -c '@' /local/home/sarahgw/WGS/Sequences/Pool8/KY_E_09/KY_E_09_FU1_trim_p.tagged_pfilter.fastq\n",
    "!grep -c '@' /local/home/sarahgw/WGS/Sequences/Pool8/KY_E_10/KY_E_10_FU1_trim_p.tagged_pfilter.fastq\n",
    "!grep -c '@' /local/home/sarahgw/WGS/Sequences/Pool8/KY_E_12/KY_E_12_FU1_trim_p.tagged_pfilter.fastq\n",
    "!grep -c '@' /local/home/sarahgw/WGS/Sequences/Pool8/KY_E_13/KY_E_13_FU1_trim_p.tagged_pfilter.fastq\n",
    "!grep -c '@' /local/home/sarahgw/WGS/Sequences/Pool8/KY_U_01/KY_U_01_FU1_trim_p.tagged_pfilter.fastq\n",
    "!grep -c '@' /local/home/sarahgw/WGS/Sequences/Pool8/KY_U_02/KY_U_02_FU1_trim_p.tagged_pfilter.fastq\n",
    "!grep -c '@' /local/home/sarahgw/WGS/Sequences/Pool8/KY_U_03/KY_U_03_FU1_trim_p.tagged_pfilter.fastq\n",
    "!grep -c '@' /local/home/sarahgw/WGS/Sequences/Pool8/KY_U_04/KY_U_04_FU1_trim_p.tagged_pfilter.fastq\n",
    "!grep -c '@' /local/home/sarahgw/WGS/Sequences/Pool8/KY_U_05/KY_U_05_FU1_trim_p.tagged_pfilter.fastq\n",
    "!grep -c '@' /local/home/sarahgw/WGS/Sequences/Pool8/KY_U_06/KY_U_06_FU1_trim_p.tagged_pfilter.fastq\n",
    "!grep -c '@' /local/home/sarahgw/WGS/Sequences/Pool8/KY_U_07/KY_U_07_FU1_trim_p.tagged_pfilter.fastq\n",
    "!grep -c '@' /local/home/sarahgw/WGS/Sequences/Pool8/KY_U_08/KY_U_08_FU1_trim_p.tagged_pfilter.fastq\n",
    "!grep -c '@' /local/home/sarahgw/WGS/Sequences/Pool8/KY_U_09/KY_U_09_FU1_trim_p.tagged_pfilter.fastq\n",
    "!grep -c '@' /local/home/sarahgw/WGS/Sequences/Pool8/NJ_U_24/NJ_U_24_FU1_trim_p.tagged_pfilter.fastq\n",
    "!grep -c '@' /local/home/sarahgw/WGS/Sequences/Pool8/NJ_U_26/NJ_U_26_FU1_trim_p.tagged_pfilter.fastq\n",
    "!grep -c '@' /local/home/sarahgw/WGS/Sequences/Pool8/VT_U_07/VT_U_07_FU1_trim_p.tagged_pfilter.fastq\n",
    "!grep -c '@' /local/home/sarahgw/WGS/Sequences/Pool8/VT_U_08/VT_U_08_FU1_trim_p.tagged_pfilter.fastq"
   ]
  },
  {
   "cell_type": "code",
   "execution_count": 2,
   "metadata": {
    "collapsed": false
   },
   "outputs": [
    {
     "name": "stdout",
     "output_type": "stream",
     "text": [
      "7731362\r\n"
     ]
    }
   ],
   "source": [
    "!grep -c '@' /local/home/sarahgw/WGS/Sequences/Pool8/KY_E_03/KY_E_03_FU1_trim_p.tagged_pfilter.fastq"
   ]
  },
  {
   "cell_type": "code",
   "execution_count": null,
   "metadata": {
    "collapsed": true
   },
   "outputs": [],
   "source": [
    "for dir in $(ls); do cd $dir; /local/home/sarahgw/anaconda2/bin/bowtie2 --very-sensitive-local -p 12 -x /local/home/sarahgw/references/Myotis_Lucifugus2.0/MyoLuc_toplevel_index -1 $(pwd)/\"$dir\"_FU1_trim_p.tagged_pfilter.fastq -2 $(pwd)/\"$dir\"_FU2_trim_p.tagged_pfilter.fastq -U $(pwd)/\"$dir\"_FU1_trim_up.tagged_filter.fastq,$(pwd)/\"$dir\"_FU2_trim_up.tagged_filter.fastq -S $(pwd)/\"$dir\"_pairedplus_eg2.sam; cd ..; done"
   ]
  },
  {
   "cell_type": "code",
   "execution_count": null,
   "metadata": {
    "collapsed": true
   },
   "outputs": [],
   "source": [
    "for dir in $(ls); do cd $dir; java -jar /local/home/sarahgw/picard.jar SortSam \\\n",
    "      I=$(pwd)/\"$dir\"_pairedplus_eg2.sam \\\n",
    "      O=$(pwd)/\"$dir\"_pairedplus_eg2_sorted.bam \\\n",
    "      SORT_ORDER=coordinate; cd ..; done"
   ]
  },
  {
   "cell_type": "markdown",
   "metadata": {},
   "source": [
    "    started mark dupes in ~/WGS/Sequences on Mon Oct 16 16:20:20 EDT 2017\n",
    "    in /Projects/test/sarahgw on Mon Oct 16 16:42:27 EDT 2017"
   ]
  },
  {
   "cell_type": "code",
   "execution_count": null,
   "metadata": {
    "collapsed": true
   },
   "outputs": [],
   "source": [
    "for dir in $(ls); do cd $dir; java -jar /local/home/sarahgw/picard.jar MarkDuplicates \\\n",
    "      I=$(pwd)/\"$dir\"_pairedplus_eg2_sorted.bam \\\n",
    "      O=$(pwd)/\"$dir\"_pairedplus_marked_dupes.bam \\\n",
    "      M=$(pwd)/\"$dir\"_pairedplus_marked_dup_metrics.txt \\\n",
    "      REMOVE_DUPLICATES=true \\\n",
    "      ASSUME_SORT_ORDER=coordinate; cd ..; date; done "
   ]
  }
 ],
 "metadata": {
  "anaconda-cloud": {},
  "kernelspec": {
   "display_name": "Python [conda root]",
   "language": "python",
   "name": "conda-root-py"
  },
  "language_info": {
   "codemirror_mode": {
    "name": "ipython",
    "version": 2
   },
   "file_extension": ".py",
   "mimetype": "text/x-python",
   "name": "python",
   "nbconvert_exporter": "python",
   "pygments_lexer": "ipython2",
   "version": "2.7.12"
  }
 },
 "nbformat": 4,
 "nbformat_minor": 1
}
