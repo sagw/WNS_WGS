{
 "cells": [
  {
   "cell_type": "code",
   "execution_count": 1,
   "metadata": {
    "collapsed": true
   },
   "outputs": [],
   "source": [
    "setwd (\"~/WGS/Sequences/Metrics/\")"
   ]
  },
  {
   "cell_type": "code",
   "execution_count": 13,
   "metadata": {
    "collapsed": true
   },
   "outputs": [],
   "source": [
    "cov1=read.csv(\"coverage_all_pool1.csv\", header=F)"
   ]
  },
  {
   "cell_type": "code",
   "execution_count": 5,
   "metadata": {
    "collapsed": false
   },
   "outputs": [],
   "source": [
    "cov3=read.table(\"Pool3_Coverage_all.txt\")"
   ]
  },
  {
   "cell_type": "code",
   "execution_count": 7,
   "metadata": {
    "collapsed": true
   },
   "outputs": [],
   "source": [
    "cov5=read.table(\"Coverage_Pool5.txt\")"
   ]
  },
  {
   "cell_type": "code",
   "execution_count": 8,
   "metadata": {
    "collapsed": true
   },
   "outputs": [],
   "source": [
    "cov6=read.table(\"Coverage_Pool6.txt\")"
   ]
  },
  {
   "cell_type": "code",
   "execution_count": 9,
   "metadata": {
    "collapsed": true
   },
   "outputs": [],
   "source": [
    "cov7=read.table(\"Coverage_Pool7.txt\")"
   ]
  },
  {
   "cell_type": "code",
   "execution_count": 14,
   "metadata": {
    "collapsed": false
   },
   "outputs": [
    {
     "data": {
      "text/html": [
       "<table>\n",
       "<thead><tr><th scope=col>V1</th><th scope=col>V2</th><th scope=col>V3</th><th scope=col>V4</th><th scope=col>V5</th><th scope=col>V6</th></tr></thead>\n",
       "<tbody>\n",
       "\t<tr><td>GL429767 </td><td>0        </td><td>19817639 </td><td>64990205 </td><td>0.3049330</td><td>NJ_E_23  </td></tr>\n",
       "\t<tr><td>GL429767 </td><td>1        </td><td>16472280 </td><td>64990205 </td><td>0.2534580</td><td>NJ_E_23  </td></tr>\n",
       "\t<tr><td>GL429767 </td><td>2        </td><td>12704897 </td><td>64990205 </td><td>0.1954890</td><td>NJ_E_23  </td></tr>\n",
       "\t<tr><td>GL429767 </td><td>3        </td><td> 7859663 </td><td>64990205 </td><td>0.1209360</td><td>NJ_E_23  </td></tr>\n",
       "\t<tr><td>GL429767 </td><td>4        </td><td> 4326379 </td><td>64990205 </td><td>0.0665697</td><td>NJ_E_23  </td></tr>\n",
       "\t<tr><td>GL429767 </td><td>5        </td><td> 2130701 </td><td>64990205 </td><td>0.0327850</td><td>NJ_E_23  </td></tr>\n",
       "</tbody>\n",
       "</table>\n"
      ],
      "text/latex": [
       "\\begin{tabular}{r|llllll}\n",
       " V1 & V2 & V3 & V4 & V5 & V6\\\\\n",
       "\\hline\n",
       "\t GL429767    & 0           & 19817639    & 64990205    & 0.3049330   & NJ\\_E\\_23\\\\\n",
       "\t GL429767    & 1           & 16472280    & 64990205    & 0.2534580   & NJ\\_E\\_23\\\\\n",
       "\t GL429767    & 2           & 12704897    & 64990205    & 0.1954890   & NJ\\_E\\_23\\\\\n",
       "\t GL429767    & 3           &  7859663    & 64990205    & 0.1209360   & NJ\\_E\\_23\\\\\n",
       "\t GL429767    & 4           &  4326379    & 64990205    & 0.0665697   & NJ\\_E\\_23\\\\\n",
       "\t GL429767    & 5           &  2130701    & 64990205    & 0.0327850   & NJ\\_E\\_23\\\\\n",
       "\\end{tabular}\n"
      ],
      "text/markdown": [
       "\n",
       "V1 | V2 | V3 | V4 | V5 | V6 | \n",
       "|---|---|---|---|---|---|\n",
       "| GL429767  | 0         | 19817639  | 64990205  | 0.3049330 | NJ_E_23   | \n",
       "| GL429767  | 1         | 16472280  | 64990205  | 0.2534580 | NJ_E_23   | \n",
       "| GL429767  | 2         | 12704897  | 64990205  | 0.1954890 | NJ_E_23   | \n",
       "| GL429767  | 3         |  7859663  | 64990205  | 0.1209360 | NJ_E_23   | \n",
       "| GL429767  | 4         |  4326379  | 64990205  | 0.0665697 | NJ_E_23   | \n",
       "| GL429767  | 5         |  2130701  | 64990205  | 0.0327850 | NJ_E_23   | \n",
       "\n",
       "\n"
      ],
      "text/plain": [
       "  V1       V2 V3       V4       V5        V6     \n",
       "1 GL429767 0  19817639 64990205 0.3049330 NJ_E_23\n",
       "2 GL429767 1  16472280 64990205 0.2534580 NJ_E_23\n",
       "3 GL429767 2  12704897 64990205 0.1954890 NJ_E_23\n",
       "4 GL429767 3   7859663 64990205 0.1209360 NJ_E_23\n",
       "5 GL429767 4   4326379 64990205 0.0665697 NJ_E_23\n",
       "6 GL429767 5   2130701 64990205 0.0327850 NJ_E_23"
      ]
     },
     "metadata": {},
     "output_type": "display_data"
    }
   ],
   "source": [
    "head(cov1)"
   ]
  },
  {
   "cell_type": "code",
   "execution_count": 15,
   "metadata": {
    "collapsed": false
   },
   "outputs": [],
   "source": [
    "cov=rbind(cov1, cov3, cov5, cov6, cov7)"
   ]
  },
  {
   "cell_type": "code",
   "execution_count": 17,
   "metadata": {
    "collapsed": false
   },
   "outputs": [],
   "source": [
    "colnames(cov)=c(\"Scaffold\", \"depth\", \"NumBp\", \"BpTotal\", \"Percent\", \"Sample\")"
   ]
  },
  {
   "cell_type": "code",
   "execution_count": 19,
   "metadata": {
    "collapsed": true
   },
   "outputs": [],
   "source": [
    "cov$percentage=(as.numeric(as.character(cov$Percent)))*100"
   ]
  },
  {
   "cell_type": "code",
   "execution_count": 20,
   "metadata": {
    "collapsed": true
   },
   "outputs": [],
   "source": [
    "zero=cov[cov$depth==0,]"
   ]
  },
  {
   "cell_type": "code",
   "execution_count": 21,
   "metadata": {
    "collapsed": true
   },
   "outputs": [],
   "source": [
    "zero$Percentage=NULL\n",
    "zero$Percent=NULL\n",
    "zero$depth=NULL"
   ]
  },
  {
   "cell_type": "code",
   "execution_count": 26,
   "metadata": {
    "collapsed": false
   },
   "outputs": [],
   "source": [
    "GL429767=zero[zero$Scaffold==\"GL429767\",]"
   ]
  },
  {
   "cell_type": "code",
   "execution_count": 31,
   "metadata": {
    "collapsed": true
   },
   "outputs": [],
   "source": [
    "GL429767$State=ifelse(grepl(\"^NJ\", GL429767$Sample), 'NJ', 'Other')"
   ]
  },
  {
   "cell_type": "code",
   "execution_count": 34,
   "metadata": {
    "collapsed": false
   },
   "outputs": [],
   "source": [
    "GL429767_NJ=GL429767[GL429767$State==\"NJ\",]"
   ]
  },
  {
   "cell_type": "code",
   "execution_count": 37,
   "metadata": {
    "collapsed": false
   },
   "outputs": [
    {
     "data": {
      "text/html": [
       "46"
      ],
      "text/latex": [
       "46"
      ],
      "text/markdown": [
       "46"
      ],
      "text/plain": [
       "[1] 46"
      ]
     },
     "metadata": {},
     "output_type": "display_data"
    }
   ],
   "source": [
    "NROW(GL429767_NJ)"
   ]
  },
  {
   "cell_type": "code",
   "execution_count": 35,
   "metadata": {
    "collapsed": false
   },
   "outputs": [
    {
     "data": {
      "text/html": [
       "<table>\n",
       "<thead><tr><th></th><th scope=col>Scaffold</th><th scope=col>NumBp</th><th scope=col>BpTotal</th><th scope=col>Sample</th><th scope=col>percentage</th><th scope=col>State</th></tr></thead>\n",
       "<tbody>\n",
       "\t<tr><th scope=row>1</th><td>GL429767</td><td>19817639</td><td>64990205</td><td>NJ_E_23 </td><td>30.49330</td><td>NJ      </td></tr>\n",
       "\t<tr><th scope=row>131632</th><td>GL429767</td><td>20175313</td><td>64990205</td><td>NJ_E_24 </td><td>31.04360</td><td>NJ      </td></tr>\n",
       "\t<tr><th scope=row>256564</th><td>GL429767</td><td>32337772</td><td>64990205</td><td>NJ_E_25 </td><td>49.75790</td><td>NJ      </td></tr>\n",
       "\t<tr><th scope=row>352157</th><td>GL429767</td><td>19003185</td><td>64990205</td><td>NJ_E_26 </td><td>29.24010</td><td>NJ      </td></tr>\n",
       "\t<tr><th scope=row>506575</th><td>GL429767</td><td>53780551</td><td>64990205</td><td>NJ_E_27 </td><td>82.75180</td><td>NJ      </td></tr>\n",
       "\t<tr><th scope=row>554747</th><td>GL429767</td><td>34480829</td><td>64990205</td><td>NJ_E_28 </td><td>53.05540</td><td>NJ      </td></tr>\n",
       "\t<tr><th scope=row>638427</th><td>GL429767</td><td>38170570</td><td>64990205</td><td>NJ_E_29 </td><td>58.73280</td><td>NJ      </td></tr>\n",
       "\t<tr><th scope=row>718905</th><td>GL429767</td><td>23299068</td><td>64990205</td><td>NJ_E_30 </td><td>35.85010</td><td>NJ      </td></tr>\n",
       "\t<tr><th scope=row>846001</th><td>GL429767</td><td>27174292</td><td>64990205</td><td>NJ_U_01 </td><td>41.81290</td><td>NJ      </td></tr>\n",
       "\t<tr><th scope=row>946143</th><td>GL429767</td><td>18758531</td><td>64990205</td><td>NJ_U_02 </td><td>28.86360</td><td>NJ      </td></tr>\n",
       "\t<tr><th scope=row>1092749</th><td>GL429767</td><td>16460848</td><td>64990205</td><td>NJ_U_03 </td><td>25.32820</td><td>NJ      </td></tr>\n",
       "\t<tr><th scope=row>1247643</th><td>GL429767</td><td>33675599</td><td>64990205</td><td>NJ_U_04 </td><td>51.81640</td><td>NJ      </td></tr>\n",
       "\t<tr><th scope=row>1367630</th><td>GL429767</td><td>25620036</td><td>64990205</td><td>NJ_U_05 </td><td>39.42140</td><td>NJ      </td></tr>\n",
       "\t<tr><th scope=row>1480321</th><td>GL429767</td><td>29340756</td><td>64990205</td><td>NJ_U_06 </td><td>45.14640</td><td>NJ      </td></tr>\n",
       "\t<tr><th scope=row>1578074</th><td>GL429767</td><td>27236924</td><td>64990205</td><td>NJ_U_08 </td><td>41.90930</td><td>NJ      </td></tr>\n",
       "\t<tr><th scope=row>1694797</th><td>GL429767</td><td>29118107</td><td>64990205</td><td>NJ_U_09 </td><td>44.80380</td><td>NJ      </td></tr>\n",
       "\t<tr><th scope=row>1793776</th><td>GL429767</td><td>26985776</td><td>64990205</td><td>NJ_U_10 </td><td>41.52280</td><td>NJ      </td></tr>\n",
       "\t<tr><th scope=row>1901433</th><td>GL429767</td><td>36501314</td><td>64990205</td><td>NJ_U_11 </td><td>56.16430</td><td>NJ      </td></tr>\n",
       "\t<tr><th scope=row>1987220</th><td>GL429767</td><td>25569116</td><td>64990205</td><td>NJ_U_12 </td><td>39.34300</td><td>NJ      </td></tr>\n",
       "\t<tr><th scope=row>2119257</th><td>GL429767</td><td>28000448</td><td>64990205</td><td>NJ_U_14 </td><td>43.08410</td><td>NJ      </td></tr>\n",
       "\t<tr><th scope=row>2260002</th><td>GL429767</td><td>25811389</td><td>64990205</td><td>NJ_U_15 </td><td>39.71580</td><td>NJ      </td></tr>\n",
       "\t<tr><th scope=row>2377017</th><td>GL429767</td><td>40108011</td><td>64990205</td><td>NJ_U_16 </td><td>61.71390</td><td>NJ      </td></tr>\n",
       "\t<tr><th scope=row>2457615</th><td>GL429767</td><td>48873201</td><td>64990205</td><td>NJ_E_01 </td><td>75.20090</td><td>NJ      </td></tr>\n",
       "\t<tr><th scope=row>2526614</th><td>GL429767</td><td>33179715</td><td>64990205</td><td>NJ_E_02 </td><td>51.05340</td><td>NJ      </td></tr>\n",
       "\t<tr><th scope=row>2684178</th><td>GL429767</td><td>34003508</td><td>64990205</td><td>NJ_E_04 </td><td>52.32100</td><td>NJ      </td></tr>\n",
       "\t<tr><th scope=row>5336356</th><td>GL429767</td><td>41138947</td><td>64990205</td><td>NJ_U_21 </td><td>63.30020</td><td>NJ      </td></tr>\n",
       "\t<tr><th scope=row>5410083</th><td>GL429767</td><td>39991395</td><td>64990205</td><td>NJ_U_22 </td><td>61.53450</td><td>NJ      </td></tr>\n",
       "\t<tr><th scope=row>5488626</th><td>GL429767</td><td>39957476</td><td>64990205</td><td>NJ_U_23 </td><td>61.48230</td><td>NJ      </td></tr>\n",
       "\t<tr><th scope=row>5556440</th><td>GL429767</td><td>59263230</td><td>64990205</td><td>NJ_U_24 </td><td>91.18790</td><td>NJ      </td></tr>\n",
       "\t<tr><th scope=row>5590947</th><td>GL429767</td><td>41030902</td><td>64990205</td><td>NJ_U_25 </td><td>63.13400</td><td>NJ      </td></tr>\n",
       "\t<tr><th scope=row>5670574</th><td>GL429767</td><td>55370501</td><td>64990205</td><td>NJ_U_26 </td><td>85.19820</td><td>NJ      </td></tr>\n",
       "\t<tr><th scope=row>7572519</th><td>GL429767</td><td>18052334</td><td>64990205</td><td>NJ_E_05 </td><td>27.77700</td><td>NJ      </td></tr>\n",
       "\t<tr><th scope=row>7719759</th><td>GL429767</td><td> 8054628</td><td>64990205</td><td>NJ_E_06 </td><td>12.39360</td><td>NJ      </td></tr>\n",
       "\t<tr><th scope=row>7974801</th><td>GL429767</td><td> 5556167</td><td>64990205</td><td>NJ_E_07 </td><td> 8.54924</td><td>NJ      </td></tr>\n",
       "\t<tr><th scope=row>8274461</th><td>GL429767</td><td>35485163</td><td>64990205</td><td>NJ_E_08 </td><td>54.60080</td><td>NJ      </td></tr>\n",
       "\t<tr><th scope=row>8360902</th><td>GL429767</td><td>19217850</td><td>64990205</td><td>NJ_E_10 </td><td>29.57040</td><td>NJ      </td></tr>\n",
       "\t<tr><th scope=row>10265528</th><td>GL429767</td><td>18528434</td><td>64990205</td><td>NJ_E_13 </td><td>28.50960</td><td>NJ      </td></tr>\n",
       "\t<tr><th scope=row>10415672</th><td>GL429767</td><td> 9348290</td><td>64990205</td><td>NJ_E_14 </td><td>14.38420</td><td>NJ      </td></tr>\n",
       "\t<tr><th scope=row>10638540</th><td>GL429767</td><td>18063657</td><td>64990205</td><td>NJ_E_15 </td><td>27.79440</td><td>NJ      </td></tr>\n",
       "\t<tr><th scope=row>10784283</th><td>GL429767</td><td>17609033</td><td>64990205</td><td>NJ_E_16 </td><td>27.09490</td><td>NJ      </td></tr>\n",
       "\t<tr><th scope=row>10941034</th><td>GL429767</td><td>14221674</td><td>64990205</td><td>NJ_E_18 </td><td>21.88280</td><td>NJ      </td></tr>\n",
       "\t<tr><th scope=row>11113096</th><td>GL429767</td><td>60219211</td><td>64990205</td><td>NJ_E_20 </td><td>92.65890</td><td>NJ      </td></tr>\n",
       "\t<tr><th scope=row>11145746</th><td>GL429767</td><td>14051412</td><td>64990205</td><td>NJ_E_21 </td><td>21.62080</td><td>NJ      </td></tr>\n",
       "\t<tr><th scope=row>11327512</th><td>GL429767</td><td>36347856</td><td>64990205</td><td>NJ_U_17 </td><td>55.92820</td><td>NJ      </td></tr>\n",
       "\t<tr><th scope=row>11420504</th><td>GL429767</td><td> 9153152</td><td>64990205</td><td>NJ_U_18 </td><td>14.08390</td><td>NJ      </td></tr>\n",
       "\t<tr><th scope=row>11674465</th><td>GL429767</td><td>15934906</td><td>64990205</td><td>NJ_U_19 </td><td>24.51890</td><td>NJ      </td></tr>\n",
       "</tbody>\n",
       "</table>\n"
      ],
      "text/latex": [
       "\\begin{tabular}{r|llllll}\n",
       "  & Scaffold & NumBp & BpTotal & Sample & percentage & State\\\\\n",
       "\\hline\n",
       "\t1 & GL429767    & 19817639    & 64990205    & NJ\\_E\\_23 & 30.49330    & NJ         \\\\\n",
       "\t131632 & GL429767    & 20175313    & 64990205    & NJ\\_E\\_24 & 31.04360    & NJ         \\\\\n",
       "\t256564 & GL429767    & 32337772    & 64990205    & NJ\\_E\\_25 & 49.75790    & NJ         \\\\\n",
       "\t352157 & GL429767    & 19003185    & 64990205    & NJ\\_E\\_26 & 29.24010    & NJ         \\\\\n",
       "\t506575 & GL429767    & 53780551    & 64990205    & NJ\\_E\\_27 & 82.75180    & NJ         \\\\\n",
       "\t554747 & GL429767    & 34480829    & 64990205    & NJ\\_E\\_28 & 53.05540    & NJ         \\\\\n",
       "\t638427 & GL429767    & 38170570    & 64990205    & NJ\\_E\\_29 & 58.73280    & NJ         \\\\\n",
       "\t718905 & GL429767    & 23299068    & 64990205    & NJ\\_E\\_30 & 35.85010    & NJ         \\\\\n",
       "\t846001 & GL429767    & 27174292    & 64990205    & NJ\\_U\\_01 & 41.81290    & NJ         \\\\\n",
       "\t946143 & GL429767    & 18758531    & 64990205    & NJ\\_U\\_02 & 28.86360    & NJ         \\\\\n",
       "\t1092749 & GL429767    & 16460848    & 64990205    & NJ\\_U\\_03 & 25.32820    & NJ         \\\\\n",
       "\t1247643 & GL429767    & 33675599    & 64990205    & NJ\\_U\\_04 & 51.81640    & NJ         \\\\\n",
       "\t1367630 & GL429767    & 25620036    & 64990205    & NJ\\_U\\_05 & 39.42140    & NJ         \\\\\n",
       "\t1480321 & GL429767    & 29340756    & 64990205    & NJ\\_U\\_06 & 45.14640    & NJ         \\\\\n",
       "\t1578074 & GL429767    & 27236924    & 64990205    & NJ\\_U\\_08 & 41.90930    & NJ         \\\\\n",
       "\t1694797 & GL429767    & 29118107    & 64990205    & NJ\\_U\\_09 & 44.80380    & NJ         \\\\\n",
       "\t1793776 & GL429767    & 26985776    & 64990205    & NJ\\_U\\_10 & 41.52280    & NJ         \\\\\n",
       "\t1901433 & GL429767    & 36501314    & 64990205    & NJ\\_U\\_11 & 56.16430    & NJ         \\\\\n",
       "\t1987220 & GL429767    & 25569116    & 64990205    & NJ\\_U\\_12 & 39.34300    & NJ         \\\\\n",
       "\t2119257 & GL429767    & 28000448    & 64990205    & NJ\\_U\\_14 & 43.08410    & NJ         \\\\\n",
       "\t2260002 & GL429767    & 25811389    & 64990205    & NJ\\_U\\_15 & 39.71580    & NJ         \\\\\n",
       "\t2377017 & GL429767    & 40108011    & 64990205    & NJ\\_U\\_16 & 61.71390    & NJ         \\\\\n",
       "\t2457615 & GL429767    & 48873201    & 64990205    & NJ\\_E\\_01 & 75.20090    & NJ         \\\\\n",
       "\t2526614 & GL429767    & 33179715    & 64990205    & NJ\\_E\\_02 & 51.05340    & NJ         \\\\\n",
       "\t2684178 & GL429767    & 34003508    & 64990205    & NJ\\_E\\_04 & 52.32100    & NJ         \\\\\n",
       "\t5336356 & GL429767    & 41138947    & 64990205    & NJ\\_U\\_21 & 63.30020    & NJ         \\\\\n",
       "\t5410083 & GL429767    & 39991395    & 64990205    & NJ\\_U\\_22 & 61.53450    & NJ         \\\\\n",
       "\t5488626 & GL429767    & 39957476    & 64990205    & NJ\\_U\\_23 & 61.48230    & NJ         \\\\\n",
       "\t5556440 & GL429767    & 59263230    & 64990205    & NJ\\_U\\_24 & 91.18790    & NJ         \\\\\n",
       "\t5590947 & GL429767    & 41030902    & 64990205    & NJ\\_U\\_25 & 63.13400    & NJ         \\\\\n",
       "\t5670574 & GL429767    & 55370501    & 64990205    & NJ\\_U\\_26 & 85.19820    & NJ         \\\\\n",
       "\t7572519 & GL429767    & 18052334    & 64990205    & NJ\\_E\\_05 & 27.77700    & NJ         \\\\\n",
       "\t7719759 & GL429767    &  8054628    & 64990205    & NJ\\_E\\_06 & 12.39360    & NJ         \\\\\n",
       "\t7974801 & GL429767    &  5556167    & 64990205    & NJ\\_E\\_07 &  8.54924    & NJ         \\\\\n",
       "\t8274461 & GL429767    & 35485163    & 64990205    & NJ\\_E\\_08 & 54.60080    & NJ         \\\\\n",
       "\t8360902 & GL429767    & 19217850    & 64990205    & NJ\\_E\\_10 & 29.57040    & NJ         \\\\\n",
       "\t10265528 & GL429767    & 18528434    & 64990205    & NJ\\_E\\_13 & 28.50960    & NJ         \\\\\n",
       "\t10415672 & GL429767    &  9348290    & 64990205    & NJ\\_E\\_14 & 14.38420    & NJ         \\\\\n",
       "\t10638540 & GL429767    & 18063657    & 64990205    & NJ\\_E\\_15 & 27.79440    & NJ         \\\\\n",
       "\t10784283 & GL429767    & 17609033    & 64990205    & NJ\\_E\\_16 & 27.09490    & NJ         \\\\\n",
       "\t10941034 & GL429767    & 14221674    & 64990205    & NJ\\_E\\_18 & 21.88280    & NJ         \\\\\n",
       "\t11113096 & GL429767    & 60219211    & 64990205    & NJ\\_E\\_20 & 92.65890    & NJ         \\\\\n",
       "\t11145746 & GL429767    & 14051412    & 64990205    & NJ\\_E\\_21 & 21.62080    & NJ         \\\\\n",
       "\t11327512 & GL429767    & 36347856    & 64990205    & NJ\\_U\\_17 & 55.92820    & NJ         \\\\\n",
       "\t11420504 & GL429767    &  9153152    & 64990205    & NJ\\_U\\_18 & 14.08390    & NJ         \\\\\n",
       "\t11674465 & GL429767    & 15934906    & 64990205    & NJ\\_U\\_19 & 24.51890    & NJ         \\\\\n",
       "\\end{tabular}\n"
      ],
      "text/markdown": [
       "\n",
       "| <!--/--> | Scaffold | NumBp | BpTotal | Sample | percentage | State | \n",
       "|---|---|---|---|---|---|---|---|---|---|---|---|---|---|---|---|---|---|---|---|---|---|---|---|---|---|---|---|---|---|---|---|---|---|---|---|---|---|---|---|---|---|---|---|---|---|\n",
       "| 1 | GL429767 | 19817639 | 64990205 | NJ_E_23  | 30.49330 | NJ       | \n",
       "| 131632 | GL429767 | 20175313 | 64990205 | NJ_E_24  | 31.04360 | NJ       | \n",
       "| 256564 | GL429767 | 32337772 | 64990205 | NJ_E_25  | 49.75790 | NJ       | \n",
       "| 352157 | GL429767 | 19003185 | 64990205 | NJ_E_26  | 29.24010 | NJ       | \n",
       "| 506575 | GL429767 | 53780551 | 64990205 | NJ_E_27  | 82.75180 | NJ       | \n",
       "| 554747 | GL429767 | 34480829 | 64990205 | NJ_E_28  | 53.05540 | NJ       | \n",
       "| 638427 | GL429767 | 38170570 | 64990205 | NJ_E_29  | 58.73280 | NJ       | \n",
       "| 718905 | GL429767 | 23299068 | 64990205 | NJ_E_30  | 35.85010 | NJ       | \n",
       "| 846001 | GL429767 | 27174292 | 64990205 | NJ_U_01  | 41.81290 | NJ       | \n",
       "| 946143 | GL429767 | 18758531 | 64990205 | NJ_U_02  | 28.86360 | NJ       | \n",
       "| 1092749 | GL429767 | 16460848 | 64990205 | NJ_U_03  | 25.32820 | NJ       | \n",
       "| 1247643 | GL429767 | 33675599 | 64990205 | NJ_U_04  | 51.81640 | NJ       | \n",
       "| 1367630 | GL429767 | 25620036 | 64990205 | NJ_U_05  | 39.42140 | NJ       | \n",
       "| 1480321 | GL429767 | 29340756 | 64990205 | NJ_U_06  | 45.14640 | NJ       | \n",
       "| 1578074 | GL429767 | 27236924 | 64990205 | NJ_U_08  | 41.90930 | NJ       | \n",
       "| 1694797 | GL429767 | 29118107 | 64990205 | NJ_U_09  | 44.80380 | NJ       | \n",
       "| 1793776 | GL429767 | 26985776 | 64990205 | NJ_U_10  | 41.52280 | NJ       | \n",
       "| 1901433 | GL429767 | 36501314 | 64990205 | NJ_U_11  | 56.16430 | NJ       | \n",
       "| 1987220 | GL429767 | 25569116 | 64990205 | NJ_U_12  | 39.34300 | NJ       | \n",
       "| 2119257 | GL429767 | 28000448 | 64990205 | NJ_U_14  | 43.08410 | NJ       | \n",
       "| 2260002 | GL429767 | 25811389 | 64990205 | NJ_U_15  | 39.71580 | NJ       | \n",
       "| 2377017 | GL429767 | 40108011 | 64990205 | NJ_U_16  | 61.71390 | NJ       | \n",
       "| 2457615 | GL429767 | 48873201 | 64990205 | NJ_E_01  | 75.20090 | NJ       | \n",
       "| 2526614 | GL429767 | 33179715 | 64990205 | NJ_E_02  | 51.05340 | NJ       | \n",
       "| 2684178 | GL429767 | 34003508 | 64990205 | NJ_E_04  | 52.32100 | NJ       | \n",
       "| 5336356 | GL429767 | 41138947 | 64990205 | NJ_U_21  | 63.30020 | NJ       | \n",
       "| 5410083 | GL429767 | 39991395 | 64990205 | NJ_U_22  | 61.53450 | NJ       | \n",
       "| 5488626 | GL429767 | 39957476 | 64990205 | NJ_U_23  | 61.48230 | NJ       | \n",
       "| 5556440 | GL429767 | 59263230 | 64990205 | NJ_U_24  | 91.18790 | NJ       | \n",
       "| 5590947 | GL429767 | 41030902 | 64990205 | NJ_U_25  | 63.13400 | NJ       | \n",
       "| 5670574 | GL429767 | 55370501 | 64990205 | NJ_U_26  | 85.19820 | NJ       | \n",
       "| 7572519 | GL429767 | 18052334 | 64990205 | NJ_E_05  | 27.77700 | NJ       | \n",
       "| 7719759 | GL429767 |  8054628 | 64990205 | NJ_E_06  | 12.39360 | NJ       | \n",
       "| 7974801 | GL429767 |  5556167 | 64990205 | NJ_E_07  |  8.54924 | NJ       | \n",
       "| 8274461 | GL429767 | 35485163 | 64990205 | NJ_E_08  | 54.60080 | NJ       | \n",
       "| 8360902 | GL429767 | 19217850 | 64990205 | NJ_E_10  | 29.57040 | NJ       | \n",
       "| 10265528 | GL429767 | 18528434 | 64990205 | NJ_E_13  | 28.50960 | NJ       | \n",
       "| 10415672 | GL429767 |  9348290 | 64990205 | NJ_E_14  | 14.38420 | NJ       | \n",
       "| 10638540 | GL429767 | 18063657 | 64990205 | NJ_E_15  | 27.79440 | NJ       | \n",
       "| 10784283 | GL429767 | 17609033 | 64990205 | NJ_E_16  | 27.09490 | NJ       | \n",
       "| 10941034 | GL429767 | 14221674 | 64990205 | NJ_E_18  | 21.88280 | NJ       | \n",
       "| 11113096 | GL429767 | 60219211 | 64990205 | NJ_E_20  | 92.65890 | NJ       | \n",
       "| 11145746 | GL429767 | 14051412 | 64990205 | NJ_E_21  | 21.62080 | NJ       | \n",
       "| 11327512 | GL429767 | 36347856 | 64990205 | NJ_U_17  | 55.92820 | NJ       | \n",
       "| 11420504 | GL429767 |  9153152 | 64990205 | NJ_U_18  | 14.08390 | NJ       | \n",
       "| 11674465 | GL429767 | 15934906 | 64990205 | NJ_U_19  | 24.51890 | NJ       | \n",
       "\n",
       "\n"
      ],
      "text/plain": [
       "         Scaffold NumBp    BpTotal  Sample  percentage State\n",
       "1        GL429767 19817639 64990205 NJ_E_23 30.49330   NJ   \n",
       "131632   GL429767 20175313 64990205 NJ_E_24 31.04360   NJ   \n",
       "256564   GL429767 32337772 64990205 NJ_E_25 49.75790   NJ   \n",
       "352157   GL429767 19003185 64990205 NJ_E_26 29.24010   NJ   \n",
       "506575   GL429767 53780551 64990205 NJ_E_27 82.75180   NJ   \n",
       "554747   GL429767 34480829 64990205 NJ_E_28 53.05540   NJ   \n",
       "638427   GL429767 38170570 64990205 NJ_E_29 58.73280   NJ   \n",
       "718905   GL429767 23299068 64990205 NJ_E_30 35.85010   NJ   \n",
       "846001   GL429767 27174292 64990205 NJ_U_01 41.81290   NJ   \n",
       "946143   GL429767 18758531 64990205 NJ_U_02 28.86360   NJ   \n",
       "1092749  GL429767 16460848 64990205 NJ_U_03 25.32820   NJ   \n",
       "1247643  GL429767 33675599 64990205 NJ_U_04 51.81640   NJ   \n",
       "1367630  GL429767 25620036 64990205 NJ_U_05 39.42140   NJ   \n",
       "1480321  GL429767 29340756 64990205 NJ_U_06 45.14640   NJ   \n",
       "1578074  GL429767 27236924 64990205 NJ_U_08 41.90930   NJ   \n",
       "1694797  GL429767 29118107 64990205 NJ_U_09 44.80380   NJ   \n",
       "1793776  GL429767 26985776 64990205 NJ_U_10 41.52280   NJ   \n",
       "1901433  GL429767 36501314 64990205 NJ_U_11 56.16430   NJ   \n",
       "1987220  GL429767 25569116 64990205 NJ_U_12 39.34300   NJ   \n",
       "2119257  GL429767 28000448 64990205 NJ_U_14 43.08410   NJ   \n",
       "2260002  GL429767 25811389 64990205 NJ_U_15 39.71580   NJ   \n",
       "2377017  GL429767 40108011 64990205 NJ_U_16 61.71390   NJ   \n",
       "2457615  GL429767 48873201 64990205 NJ_E_01 75.20090   NJ   \n",
       "2526614  GL429767 33179715 64990205 NJ_E_02 51.05340   NJ   \n",
       "2684178  GL429767 34003508 64990205 NJ_E_04 52.32100   NJ   \n",
       "5336356  GL429767 41138947 64990205 NJ_U_21 63.30020   NJ   \n",
       "5410083  GL429767 39991395 64990205 NJ_U_22 61.53450   NJ   \n",
       "5488626  GL429767 39957476 64990205 NJ_U_23 61.48230   NJ   \n",
       "5556440  GL429767 59263230 64990205 NJ_U_24 91.18790   NJ   \n",
       "5590947  GL429767 41030902 64990205 NJ_U_25 63.13400   NJ   \n",
       "5670574  GL429767 55370501 64990205 NJ_U_26 85.19820   NJ   \n",
       "7572519  GL429767 18052334 64990205 NJ_E_05 27.77700   NJ   \n",
       "7719759  GL429767  8054628 64990205 NJ_E_06 12.39360   NJ   \n",
       "7974801  GL429767  5556167 64990205 NJ_E_07  8.54924   NJ   \n",
       "8274461  GL429767 35485163 64990205 NJ_E_08 54.60080   NJ   \n",
       "8360902  GL429767 19217850 64990205 NJ_E_10 29.57040   NJ   \n",
       "10265528 GL429767 18528434 64990205 NJ_E_13 28.50960   NJ   \n",
       "10415672 GL429767  9348290 64990205 NJ_E_14 14.38420   NJ   \n",
       "10638540 GL429767 18063657 64990205 NJ_E_15 27.79440   NJ   \n",
       "10784283 GL429767 17609033 64990205 NJ_E_16 27.09490   NJ   \n",
       "10941034 GL429767 14221674 64990205 NJ_E_18 21.88280   NJ   \n",
       "11113096 GL429767 60219211 64990205 NJ_E_20 92.65890   NJ   \n",
       "11145746 GL429767 14051412 64990205 NJ_E_21 21.62080   NJ   \n",
       "11327512 GL429767 36347856 64990205 NJ_U_17 55.92820   NJ   \n",
       "11420504 GL429767  9153152 64990205 NJ_U_18 14.08390   NJ   \n",
       "11674465 GL429767 15934906 64990205 NJ_U_19 24.51890   NJ   "
      ]
     },
     "metadata": {},
     "output_type": "display_data"
    }
   ],
   "source": [
    "GL429767_NJ"
   ]
  },
  {
   "cell_type": "code",
   "execution_count": null,
   "metadata": {
    "collapsed": true
   },
   "outputs": [],
   "source": []
  }
 ],
 "metadata": {
  "kernelspec": {
   "display_name": "R",
   "language": "R",
   "name": "ir"
  },
  "language_info": {
   "codemirror_mode": "r",
   "file_extension": ".r",
   "mimetype": "text/x-r-source",
   "name": "R",
   "pygments_lexer": "r",
   "version": "3.3.2"
  }
 },
 "nbformat": 4,
 "nbformat_minor": 1
}
