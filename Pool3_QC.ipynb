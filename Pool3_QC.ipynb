{
 "cells": [
  {
   "cell_type": "markdown",
   "metadata": {},
   "source": [
    "Make directories according to the barcode file, one for each sample"
   ]
  },
  {
   "cell_type": "code",
   "execution_count": null,
   "metadata": {
    "collapsed": true
   },
   "outputs": [],
   "source": [
    "mkdir $(awk -F\",\" '{print $1}' /local/home/sarahgw/WGS/Sequences/Pool3/Pool3_Barcodes.csv)"
   ]
  },
  {
   "cell_type": "code",
   "execution_count": 5,
   "metadata": {
    "collapsed": false
   },
   "outputs": [
    {
     "name": "stdout",
     "output_type": "stream",
     "text": [
      "NJ_E_01  NY_E_28  NY_U_10  NY_U_15\t       VT_E_27\tVT_U_01  VT_U_29\r\n",
      "NJ_E_02  NY_E_29  NY_U_11  NY_U_16\t       VT_E_28\tVT_U_02\r\n",
      "NJ_E_04  NY_E_30  NY_U_12  Pool3_Barcodes.csv  VT_E_29\tVT_U_03\r\n",
      "NY_E_27  NY_U_09  NY_U_14  VT_E_26\t       VT_E_30\tVT_U_27\r\n"
     ]
    }
   ],
   "source": [
    "!ls /local/home/sarahgw/WGS/Sequences/Pool3/"
   ]
  },
  {
   "cell_type": "code",
   "execution_count": 6,
   "metadata": {
    "collapsed": true
   },
   "outputs": [],
   "source": [
    "!rm /local/home/sarahgw/WGS/Sequences/Pool3/Pool3_Barcodes.csv"
   ]
  },
  {
   "cell_type": "code",
   "execution_count": 7,
   "metadata": {
    "collapsed": false
   },
   "outputs": [
    {
     "name": "stdout",
     "output_type": "stream",
     "text": [
      "NJ_E_01  NY_E_27  NY_E_30  NY_U_11  NY_U_15  VT_E_27  VT_E_30  VT_U_03\r\n",
      "NJ_E_02  NY_E_28  NY_U_09  NY_U_12  NY_U_16  VT_E_28  VT_U_01  VT_U_27\r\n",
      "NJ_E_04  NY_E_29  NY_U_10  NY_U_14  VT_E_26  VT_E_29  VT_U_02  VT_U_29\r\n"
     ]
    }
   ],
   "source": [
    "!ls /local/home/sarahgw/WGS/Sequences/Pool3/"
   ]
  },
  {
   "cell_type": "markdown",
   "metadata": {},
   "source": [
    "remove samples that didnt have high enough concentrations"
   ]
  },
  {
   "cell_type": "code",
   "execution_count": 9,
   "metadata": {
    "collapsed": true
   },
   "outputs": [],
   "source": [
    "!rmdir /local/home/sarahgw/WGS/Sequences/Pool3/NY_U_09/"
   ]
  },
  {
   "cell_type": "code",
   "execution_count": 10,
   "metadata": {
    "collapsed": true
   },
   "outputs": [],
   "source": [
    "!rmdir /local/home/sarahgw/WGS/Sequences/Pool3/VT_E_27/"
   ]
  },
  {
   "cell_type": "code",
   "execution_count": 11,
   "metadata": {
    "collapsed": false
   },
   "outputs": [
    {
     "name": "stdout",
     "output_type": "stream",
     "text": [
      "NJ_E_01  NY_E_27  NY_E_30  NY_U_12  NY_U_16  VT_E_29  VT_U_02  VT_U_29\r\n",
      "NJ_E_02  NY_E_28  NY_U_10  NY_U_14  VT_E_26  VT_E_30  VT_U_03\r\n",
      "NJ_E_04  NY_E_29  NY_U_11  NY_U_15  VT_E_28  VT_U_01  VT_U_27\r\n"
     ]
    }
   ],
   "source": [
    "!ls /local/home/sarahgw/WGS/Sequences/Pool3/"
   ]
  },
  {
   "cell_type": "markdown",
   "metadata": {},
   "source": [
    "Copy files into matching directories"
   ]
  },
  {
   "cell_type": "code",
   "execution_count": null,
   "metadata": {
    "collapsed": true
   },
   "outputs": [],
   "source": [
    "for dir in $(ls); do cd $dir; cp /local/shared/pinsky_lab/sequencing/hiseq_2017_04_20_SEQ19/\"$dir\"_Demultiplexed-fastq-fileset-sample-Pool-3-from-flowcell-HJFCHBCXY-on-2017-04-27_Read_1_passed_filter.fastq.gz /local/shared/pinsky_lab/sequencing/hiseq_2017_04_20_SEQ19/\"$dir\"_Demultiplexed-fastq-fileset-sample-Pool-3-from-flowcell-HJFCHBCXY-on-2017-04-27_Read_4_passed_filter.fastq.gz . ; cd ..; done"
   ]
  },
  {
   "cell_type": "code",
   "execution_count": 21,
   "metadata": {
    "collapsed": false
   },
   "outputs": [
    {
     "name": "stdout",
     "output_type": "stream",
     "text": [
      "NJ_E_02_Demultiplexed-fastq-fileset-sample-Pool-3-from-flowcell-HJFCHBCXY-on-2017-04-27_Read_1_passed_filter.fastq\r\n",
      "NJ_E_02_Demultiplexed-fastq-fileset-sample-Pool-3-from-flowcell-HJFCHBCXY-on-2017-04-27_Read_4_passed_filter.fastq\r\n"
     ]
    }
   ],
   "source": [
    "!ls /local/home/sarahgw/WGS/Sequences/Pool3/NJ_E_02"
   ]
  },
  {
   "cell_type": "code",
   "execution_count": null,
   "metadata": {
    "collapsed": true
   },
   "outputs": [],
   "source": [
    "gunzip */*.fastq.gz"
   ]
  },
  {
   "cell_type": "code",
   "execution_count": null,
   "metadata": {
    "collapsed": false
   },
   "outputs": [],
   "source": [
    "!ls /local/home/sarahgw/WGS/Sequences/Pool3/VT_U_29"
   ]
  },
  {
   "cell_type": "markdown",
   "metadata": {},
   "source": [
    "Lowest number of sequences"
   ]
  },
  {
   "cell_type": "code",
   "execution_count": 33,
   "metadata": {
    "collapsed": false
   },
   "outputs": [
    {
     "name": "stdout",
     "output_type": "stream",
     "text": [
      "7769124\r\n"
     ]
    }
   ],
   "source": [
    "!grep -c '@' /local/home/sarahgw/WGS/Sequences/Pool3/NJ_E_01/NJ_E_01_Demultiplexed-fastq-fileset-sample-Pool-3-from-flowcell-HJFCHBCXY-on-2017-04-27_Read_4_passed_filter.fastq"
   ]
  },
  {
   "cell_type": "markdown",
   "metadata": {},
   "source": [
    "Run fastuniq on unzipped files, making the forfastuniq file each time."
   ]
  },
  {
   "cell_type": "code",
   "execution_count": null,
   "metadata": {
    "collapsed": true
   },
   "outputs": [],
   "source": [
    "for dir in $(ls); do cd $dir; ls > /tmp/forFastUniq.txt; /local/home/sarahgw/FastUniq/fastuniq -i /tmp/forFastUniq.txt -t q -o $(pwd)/\"$dir\"_FU1.fastq -p $(pwd)/\"$dir\"_FU2.fastq; cd ..; done"
   ]
  },
  {
   "cell_type": "markdown",
   "metadata": {
    "collapsed": true
   },
   "source": [
    "Trim"
   ]
  },
  {
   "cell_type": "code",
   "execution_count": null,
   "metadata": {
    "collapsed": true
   },
   "outputs": [],
   "source": [
    "for dir in $(ls); do cd $dir; java -jar /local/home/sarahgw/Trimmomatic-0.36/trimmomatic-0.36.jar PE -phred33 $(pwd)/\"$dir\"_FU1.fastq $(pwd)/\"$dir\"_FU2.fastq $(pwd)/\"$dir\"_FU1_trim_p.fastq $(pwd)/\"$dir\"_FU1_trim_up.fastq $(pwd)/\"$dir\"_FU2_trim_p.fastq $(pwd)/\"$dir\"_FU2_trim_up.fastq ILLUMINACLIP:/local/home/sarahgw/Trimmomatic-0.36/adapters/NexteraPE-PE.fa:2:30:10 LEADING:3 TRAILING:3 SLIDINGWINDOW:4:15 MINLEN:30; cd ..; done"
   ]
  },
  {
   "cell_type": "code",
   "execution_count": 1,
   "metadata": {
    "collapsed": false
   },
   "outputs": [
    {
     "name": "stdout",
     "output_type": "stream",
     "text": [
      "6962546\r\n"
     ]
    }
   ],
   "source": [
    "!grep -c '@' /local/home/sarahgw/WGS/Sequences/Pool3/NJ_E_01/NJ_E_01_FU1_trim_p.fastq"
   ]
  },
  {
   "cell_type": "code",
   "execution_count": 4,
   "metadata": {
    "collapsed": false
   },
   "outputs": [
    {
     "name": "stdout",
     "output_type": "stream",
     "text": [
      "6962546\r\n"
     ]
    }
   ],
   "source": [
    "!grep -c '@' /local/home/sarahgw/WGS/Sequences/Pool3/NJ_E_01/NJ_E_01_FU2_trim_p.fastq"
   ]
  },
  {
   "cell_type": "markdown",
   "metadata": {},
   "source": [
    "Run Fastqscreen on paired and unpaired samples, first just tag them, then rerun up with filter 0000, then run pfilter on paired tagged reads. Move tagged reads to /Scratch"
   ]
  },
  {
   "cell_type": "code",
   "execution_count": null,
   "metadata": {
    "collapsed": true
   },
   "outputs": [],
   "source": [
    "for dir in $(ls); do cd $dir; /local/home/sarahgw/fastq_screen_v0.9.5/fastq_screen --subset 0 --tag --aligner  Bowtie2 $(pwd)/\"$dir\"_FU1_trim_p.fastq $(pwd)/\"$dir\"_FU2_trim_p.fastq; cd ..; done"
   ]
  },
  {
   "cell_type": "code",
   "execution_count": null,
   "metadata": {
    "collapsed": true
   },
   "outputs": [],
   "source": [
    "for dir in $(ls); do cd $dir; /local/home/sarahgw/fastq_screen_v0.9.5/fastq_screen --subset 0 --tag --aligner  Bowtie2 $(pwd)/\"$dir\"_FU1_trim_up.fastq $(pwd)/\"$dir\"_FU2_trim_up.fastq; cd ..; done"
   ]
  },
  {
   "cell_type": "code",
   "execution_count": null,
   "metadata": {
    "collapsed": true
   },
   "outputs": [],
   "source": [
    "for dir in $(ls); do cd $dir; /local/home/sarahgw/fastq_screen_v0.9.5/fastq_screen --subset 0 --tag --filter 00000 --aligner  Bowtie2 $(pwd)/\"$dir\"_FU1_trim_up.fastq $(pwd)/\"$dir\"_FU2_trim_up.fastq; cd ..; done"
   ]
  },
  {
   "cell_type": "code",
   "execution_count": null,
   "metadata": {
    "collapsed": true
   },
   "outputs": [],
   "source": []
  }
 ],
 "metadata": {
  "anaconda-cloud": {},
  "kernelspec": {
   "display_name": "Python [conda root]",
   "language": "python",
   "name": "conda-root-py"
  },
  "language_info": {
   "codemirror_mode": {
    "name": "ipython",
    "version": 2
   },
   "file_extension": ".py",
   "mimetype": "text/x-python",
   "name": "python",
   "nbconvert_exporter": "python",
   "pygments_lexer": "ipython2",
   "version": "2.7.12"
  }
 },
 "nbformat": 4,
 "nbformat_minor": 1
}
