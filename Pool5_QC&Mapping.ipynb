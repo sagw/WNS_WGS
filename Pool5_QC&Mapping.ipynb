{
 "cells": [
  {
   "cell_type": "code",
   "execution_count": null,
   "metadata": {
    "collapsed": false
   },
   "outputs": [],
   "source": [
    "mkdir $(awk '{print $1}' /local/home/sarahgw/WGS/Sequences/Pool5/Pool5_Barcodes.txt)"
   ]
  },
  {
   "cell_type": "code",
   "execution_count": 6,
   "metadata": {
    "collapsed": false
   },
   "outputs": [
    {
     "name": "stdout",
     "output_type": "stream",
     "text": [
      "NJ_U_20  NJ_U_23  NJ_U_26  NY_E_21  NY_E_24  NY_U_17  NY_U_21  VT_E_01\r\n",
      "NJ_U_21  NJ_U_24  NY_E_19  NY_E_22  NY_E_25  NY_U_18  NY_U_22  VT_E_25\r\n",
      "NJ_U_22  NJ_U_25  NY_E_20  NY_E_23  NY_E_26  NY_U_19  NY_U_23  VT_U_31\r\n"
     ]
    }
   ],
   "source": [
    "!ls /local/home/sarahgw/WGS/Sequences/Pool5"
   ]
  },
  {
   "cell_type": "markdown",
   "metadata": {},
   "source": [
    "Remove samples that were too low"
   ]
  },
  {
   "cell_type": "code",
   "execution_count": 7,
   "metadata": {
    "collapsed": true
   },
   "outputs": [],
   "source": [
    "!rmdir /local/home/sarahgw/WGS/Sequences/Pool5/NY_U_17"
   ]
  },
  {
   "cell_type": "code",
   "execution_count": 8,
   "metadata": {
    "collapsed": true
   },
   "outputs": [],
   "source": [
    "!rmdir /local/home/sarahgw/WGS/Sequences/Pool5/NY_E_20"
   ]
  },
  {
   "cell_type": "code",
   "execution_count": 9,
   "metadata": {
    "collapsed": true
   },
   "outputs": [],
   "source": [
    "!rmdir /local/home/sarahgw/WGS/Sequences/Pool5/NY_E_24"
   ]
  },
  {
   "cell_type": "code",
   "execution_count": 10,
   "metadata": {
    "collapsed": true
   },
   "outputs": [],
   "source": [
    "!rmdir /local/home/sarahgw/WGS/Sequences/Pool5/NY_E_26"
   ]
  },
  {
   "cell_type": "code",
   "execution_count": 11,
   "metadata": {
    "collapsed": true
   },
   "outputs": [],
   "source": [
    "!rmdir /local/home/sarahgw/WGS/Sequences/Pool5/NJ_U_20"
   ]
  },
  {
   "cell_type": "markdown",
   "metadata": {},
   "source": [
    "Move files into directories"
   ]
  },
  {
   "cell_type": "code",
   "execution_count": null,
   "metadata": {
    "collapsed": true
   },
   "outputs": [],
   "source": [
    "for dir in $(ls); do cd $dir; cp /local/shared/pinsky_lab/sequencing/hiseq_2017_6_07_SEQ20/\"$dir\"_Demultiplexed-fastq-fileset-sample-Pool-5-from-flowcell-HL52JBCXY-on-2017-06-06_Read_1_passed_filter.fastq.gz /local/shared/pinsky_lab/sequencing/hiseq_2017_6_07_SEQ20/\"$dir\"_Demultiplexed-fastq-fileset-sample-Pool-5-from-flowcell-HL52JBCXY-on-2017-06-06_Read_4_passed_filter.fastq.gz  . ; cd ..; done"
   ]
  },
  {
   "cell_type": "code",
   "execution_count": null,
   "metadata": {
    "collapsed": true
   },
   "outputs": [],
   "source": [
    "gunzip */*.fastq.gz"
   ]
  },
  {
   "cell_type": "markdown",
   "metadata": {},
   "source": [
    "Run Bioinfo pipeline --will bring it to the point of mapping. "
   ]
  },
  {
   "cell_type": "code",
   "execution_count": null,
   "metadata": {
    "collapsed": true
   },
   "outputs": [],
   "source": [
    "~/Notebooks/WNS_WGS/Bioinfo_pipeline.sh "
   ]
  },
  {
   "cell_type": "markdown",
   "metadata": {},
   "source": [
    "Started on 6/7/17 at 3 PM Finished sometime over the weekend 06/10 or 06/11"
   ]
  },
  {
   "cell_type": "code",
   "execution_count": 2,
   "metadata": {
    "collapsed": false,
    "scrolled": true
   },
   "outputs": [
    {
     "name": "stdout",
     "output_type": "stream",
     "text": [
      "6500539\n",
      "6670062\n",
      "6216097\n",
      "1123440\n",
      "6806908\n",
      "1949039\n",
      "6508781\n",
      "8461540\n",
      "12821994\n",
      "6549882\n",
      "19550696\n",
      "24346309\n",
      "11816880\n",
      "12672134\n",
      "12762336\n",
      "11688329\n",
      "10146998\n",
      "8713130\n",
      "171834001\n",
      "\u001b[K\u001b[7m(END) \u001b[m\u001b[K"
     ]
    }
   ],
   "source": [
    "!less /local/home/sarahgw/WGS/Sequences/Metrics/Pool5_reads"
   ]
  },
  {
   "cell_type": "code",
   "execution_count": null,
   "metadata": {
    "collapsed": true
   },
   "outputs": [],
   "source": [
    "Delete move and zip"
   ]
  },
  {
   "cell_type": "code",
   "execution_count": null,
   "metadata": {
    "collapsed": true
   },
   "outputs": [],
   "source": []
  },
  {
   "cell_type": "code",
   "execution_count": null,
   "metadata": {
    "collapsed": true
   },
   "outputs": [],
   "source": [
    "find . -name \"*.tagged.fastq\" -exec mv -i {} ../Contaminants/ \\;"
   ]
  },
  {
   "cell_type": "code",
   "execution_count": null,
   "metadata": {
    "collapsed": true
   },
   "outputs": [],
   "source": []
  },
  {
   "cell_type": "markdown",
   "metadata": {
    "collapsed": true
   },
   "source": [
    "Mapping both paired and unpaired reads"
   ]
  },
  {
   "cell_type": "code",
   "execution_count": null,
   "metadata": {
    "collapsed": true
   },
   "outputs": [],
   "source": [
    "for dir in $(ls); do cd $dir; /local/home/sarahgw/anaconda2/bin/bowtie2 --very-sensitive-local -p 12 -x /local/home/sarahgw/references/Myotis_Lucifugus2.0/MyoLuc_toplevel_index -1 $(pwd)/\"$dir\"_FU1_trim_p.tagged_pfilter.fastq -2 $(pwd)/\"$dir\"_FU2_trim_p.tagged_pfilter.fastq -U $(pwd)/\"$dir\"_FU1_trim_up.tagged_filter.fastq,$(pwd)/\"$dir\"_FU2_trim_up.tagged_filter.fastq -S $(pwd)/\"$dir\"_pairedplus_eg2.sam; cd ..; done"
   ]
  }
 ],
 "metadata": {
  "anaconda-cloud": {},
  "kernelspec": {
   "display_name": "Python [conda root]",
   "language": "python",
   "name": "conda-root-py"
  },
  "language_info": {
   "codemirror_mode": {
    "name": "ipython",
    "version": 2
   },
   "file_extension": ".py",
   "mimetype": "text/x-python",
   "name": "python",
   "nbconvert_exporter": "python",
   "pygments_lexer": "ipython2",
   "version": "2.7.12"
  }
 },
 "nbformat": 4,
 "nbformat_minor": 1
}
